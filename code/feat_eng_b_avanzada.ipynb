{
 "cells": [
  {
   "cell_type": "code",
   "execution_count": 1,
   "id": "996ea085-ab5f-42f5-a9c6-579c90fcd8ed",
   "metadata": {},
   "outputs": [],
   "source": [
    "import pandas as pd\n",
    "import os\n",
    "import numpy as np\n",
    "import matplotlib.pyplot as plt\n",
    "\n",
    "# importo los .py\n",
    "import sys\n",
    "sys.path.append(\"auxiliares\")\n",
    "import config\n",
    "import feature_eng\n",
    "\n",
    "from warnings import simplefilter \n",
    "simplefilter(action=\"ignore\", category=pd.errors.PerformanceWarning)\n",
    "simplefilter(action=\"ignore\", category=pd.errors.SettingWithCopyWarning)"
   ]
  },
  {
   "cell_type": "code",
   "execution_count": 2,
   "id": "9bbc6d6b-ecc9-4a5f-9cc9-a948d280139a",
   "metadata": {},
   "outputs": [],
   "source": [
    "####################################################\n",
    "############# Setear segun cada maquina ############\n",
    "#os.chdir(\"C:/Users/herna/labo3_empresa3_repo/\")\n",
    "#os.chdir(\"C:/diego_tools/labo3/\")\n",
    "os.chdir(\"/home/dcastro_contacto/buckets/b1/\")\n",
    "####################################################"
   ]
  },
  {
   "cell_type": "code",
   "execution_count": 3,
   "id": "4357d7ee-3b3f-4213-a550-c3e76bb2f853",
   "metadata": {},
   "outputs": [],
   "source": [
    "#Manual\n",
    "prefijo_arch_entrada = \"datasets/emp3_sellout_base_cluster_manual_\"\n",
    "prefijo_arch_salida = \"datasets/emp3_sellout_fe_cluster_manual_\"\n",
    "num_clusters=94\n",
    "\n",
    "#Time Warping\n",
    "#prefijo_arch_entrada = \"datasets/emp3_sellout_base_cluster_warp_\"\n",
    "#prefijo_arch_salida = \"datasets/emp3_sellout_fe_cluster_warp_\"\n",
    "\n",
    "arch_productos = \"datasets/emp3_sellout_producto_base.csv\"\n",
    "arch_clientes = \"datasets/emp3_sellout_cliente_base.csv\"\n",
    "arch_cat1 = \"datasets/emp3_sellout_cat1_base.csv\"\n",
    "arch_cat2 = \"datasets/emp3_sellout_cat2_base.csv\"\n",
    "arch_cat3 = \"datasets/emp3_sellout_cat3_base.csv\""
   ]
  },
  {
   "cell_type": "code",
   "execution_count": 4,
   "id": "32bf83ee-5b20-499e-ad5b-94278d8ac4b6",
   "metadata": {},
   "outputs": [
    {
     "name": "stdout",
     "output_type": "stream",
     "text": [
      "<class 'pandas.core.frame.DataFrame'>\n",
      "RangeIndex: 34707 entries, 0 to 34706\n",
      "Data columns (total 3 columns):\n",
      " #   Column      Non-Null Count  Dtype  \n",
      "---  ------      --------------  -----  \n",
      " 0   product_id  34707 non-null  int64  \n",
      " 1   periodo     34707 non-null  int64  \n",
      " 2   tn          34707 non-null  float64\n",
      "dtypes: float64(1), int64(2)\n",
      "memory usage: 813.6 KB\n"
     ]
    }
   ],
   "source": [
    "df_productos = pd.read_csv(arch_productos)\n",
    "df_productos = df_productos.rename(columns={\"product_id_tn\":\"tn\"})\n",
    "df_productos = df_productos[[\"product_id\",\"periodo\",\"tn\"]] # limito solamente a columnas de interes\n",
    "df_productos.info()"
   ]
  },
  {
   "cell_type": "code",
   "execution_count": 5,
   "id": "0ea8b5b1-d605-4c1a-bccd-51805bf58164",
   "metadata": {},
   "outputs": [
    {
     "name": "stdout",
     "output_type": "stream",
     "text": [
      "<class 'pandas.core.frame.DataFrame'>\n",
      "RangeIndex: 18975 entries, 0 to 18974\n",
      "Data columns (total 3 columns):\n",
      " #   Column          Non-Null Count  Dtype  \n",
      "---  ------          --------------  -----  \n",
      " 0   customer_id     18975 non-null  int64  \n",
      " 1   periodo         18975 non-null  int64  \n",
      " 2   customer_id_tn  18975 non-null  float64\n",
      "dtypes: float64(1), int64(2)\n",
      "memory usage: 444.9 KB\n"
     ]
    }
   ],
   "source": [
    "df_clientes = pd.read_csv(arch_clientes)\n",
    "df_clientes.info()"
   ]
  },
  {
   "cell_type": "code",
   "execution_count": 6,
   "id": "aca7968e-a390-4810-9cde-b36485d86081",
   "metadata": {},
   "outputs": [
    {
     "name": "stdout",
     "output_type": "stream",
     "text": [
      "<class 'pandas.core.frame.DataFrame'>\n",
      "RangeIndex: 140 entries, 0 to 139\n",
      "Data columns (total 3 columns):\n",
      " #   Column   Non-Null Count  Dtype  \n",
      "---  ------   --------------  -----  \n",
      " 0   cat1     140 non-null    object \n",
      " 1   periodo  140 non-null    int64  \n",
      " 2   cat1_tn  140 non-null    float64\n",
      "dtypes: float64(1), int64(1), object(1)\n",
      "memory usage: 3.4+ KB\n"
     ]
    }
   ],
   "source": [
    "df_cat1 = pd.read_csv(arch_cat1)\n",
    "df_cat1.info()"
   ]
  },
  {
   "cell_type": "code",
   "execution_count": 7,
   "id": "a6bd2496-03d2-4093-8915-7b44f29ff6ae",
   "metadata": {},
   "outputs": [
    {
     "name": "stdout",
     "output_type": "stream",
     "text": [
      "<class 'pandas.core.frame.DataFrame'>\n",
      "RangeIndex: 560 entries, 0 to 559\n",
      "Data columns (total 3 columns):\n",
      " #   Column   Non-Null Count  Dtype  \n",
      "---  ------   --------------  -----  \n",
      " 0   cat2     560 non-null    object \n",
      " 1   periodo  560 non-null    int64  \n",
      " 2   cat2_tn  560 non-null    float64\n",
      "dtypes: float64(1), int64(1), object(1)\n",
      "memory usage: 13.2+ KB\n"
     ]
    }
   ],
   "source": [
    "df_cat2 = pd.read_csv(arch_cat2)\n",
    "df_cat2.info()"
   ]
  },
  {
   "cell_type": "code",
   "execution_count": 8,
   "id": "d0a7356c-d27a-4402-90a7-9b64c4f9f364",
   "metadata": {},
   "outputs": [
    {
     "name": "stdout",
     "output_type": "stream",
     "text": [
      "<class 'pandas.core.frame.DataFrame'>\n",
      "RangeIndex: 2717 entries, 0 to 2716\n",
      "Data columns (total 3 columns):\n",
      " #   Column   Non-Null Count  Dtype  \n",
      "---  ------   --------------  -----  \n",
      " 0   cat3     2717 non-null   object \n",
      " 1   periodo  2717 non-null   int64  \n",
      " 2   cat3_tn  2717 non-null   float64\n",
      "dtypes: float64(1), int64(1), object(1)\n",
      "memory usage: 63.8+ KB\n"
     ]
    }
   ],
   "source": [
    "df_cat3 = pd.read_csv(arch_cat3)\n",
    "df_cat3.info()"
   ]
  },
  {
   "cell_type": "code",
   "execution_count": null,
   "id": "effd352a-450e-43f5-a63a-f5856198e9cb",
   "metadata": {},
   "outputs": [
    {
     "name": "stdout",
     "output_type": "stream",
     "text": [
      "Cluster 0\n",
      "867137\n",
      "867137\n",
      "Cluster 1\n",
      "625413\n",
      "625413\n",
      "Cluster 2\n",
      "229629\n",
      "229629\n",
      "Cluster 3\n",
      "1736970\n",
      "1736970\n",
      "Cluster 4\n",
      "199109\n",
      "199109\n",
      "Cluster 5\n",
      "769474\n",
      "769474\n",
      "Cluster 6\n",
      "246675\n",
      "246675\n",
      "Cluster 7\n",
      "187185\n",
      "187185\n",
      "Cluster 8\n",
      "87708\n",
      "87708\n",
      "Cluster 9\n",
      "142584\n",
      "142584\n",
      "Cluster 10\n",
      "331448\n",
      "331448\n",
      "Cluster 11\n",
      "37950\n",
      "37950\n",
      "Cluster 12\n",
      "418835\n",
      "418835\n",
      "Cluster 13\n"
     ]
    }
   ],
   "source": [
    "for i in range(0,num_clusters):\n",
    "    print(\"Cluster\", i)\n",
    "    \n",
    "    df_sellout = pd.read_csv(prefijo_arch_entrada + str(i) + \".csv\")\n",
    "    \n",
    "    #Variable Target\n",
    "    df_sellout = feature_eng.crear_target_prod_cust(df_sellout)\n",
    "    \n",
    "    #Nuevos Features\n",
    "    df_sellout = feature_eng.crear_nuevos_features(df_sellout)\n",
    "    \n",
    "    #Features temporales\n",
    "    df_sellout = feature_eng.crear_features_temporales(\"prod_cust\",df_sellout, config.NUM_LAGS_PARAM,config.FAMILIA_FEATURES_TEMP_PARAM)\n",
    "    df_productos = feature_eng.crear_features_temporales(\"product_id\",df_productos,config.NUM_LAGS_PARAM,config.FAMILIA_FEATURES_TEMP_PARAM)\n",
    "    df_clientes = feature_eng.crear_features_temporales(\"customer_id\",df_clientes,config.NUM_LAGS_PARAM,config.FAMILIA_FEATURES_TEMP_PARAM)\n",
    "    df_cat1 = feature_eng.crear_features_temporales(\"cat1\",df_cat1,config.NUM_LAGS_PARAM,config.FAMILIA_FEATURES_TEMP_PARAM)\n",
    "    df_cat2 = feature_eng.crear_features_temporales(\"cat2\",df_cat2, config.NUM_LAGS_PARAM,config.FAMILIA_FEATURES_TEMP_PARAM)\n",
    "    df_cat3 = feature_eng.crear_features_temporales(\"cat3\",df_cat3, config.NUM_LAGS_PARAM,config.FAMILIA_FEATURES_TEMP_PARAM)\n",
    "\n",
    "    #Joins\n",
    "    print(len(df_sellout))\n",
    "    df_productos_para_merge = df_productos.rename(columns={\"tn\":\"product_id_tn\"}) #revierto cambio para evitar colisiones\n",
    "    \n",
    "    df_sellout = df_sellout.merge(df_productos_para_merge,how=\"left\",on=[\"product_id\",\"periodo\"])\n",
    "    df_sellout = df_sellout.merge(df_clientes,how=\"left\",on=[\"customer_id\",\"periodo\"])\n",
    "    df_sellout = df_sellout.merge(df_cat1,how=\"left\",on=[\"cat1\",\"periodo\"])\n",
    "    df_sellout = df_sellout.merge(df_cat2,how=\"left\",on=[\"cat2\",\"periodo\"])\n",
    "    df_sellout = df_sellout.merge(df_cat3,how=\"left\",on=[\"cat3\",\"periodo\"])\n",
    "    print(len(df_sellout))\n",
    "    \n",
    "    df_sellout.to_csv(prefijo_arch_salida + str(i) + \".csv\", index=False)"
   ]
  },
  {
   "cell_type": "code",
   "execution_count": null,
   "id": "d1a91465-f4ff-4da0-b431-1aa4e430de1b",
   "metadata": {},
   "outputs": [],
   "source": [
    "df_sellout"
   ]
  },
  {
   "cell_type": "markdown",
   "id": "80537871-c090-4753-b681-aafa88cd6d2c",
   "metadata": {},
   "source": [
    "## Verificaciones"
   ]
  },
  {
   "cell_type": "code",
   "execution_count": null,
   "id": "01db210d-7f30-4dc8-860c-d92307983d9c",
   "metadata": {},
   "outputs": [],
   "source": [
    "df_sellout.info()"
   ]
  },
  {
   "cell_type": "code",
   "execution_count": null,
   "id": "4f01c275-a8d6-49aa-8c91-e3b25f68c102",
   "metadata": {},
   "outputs": [],
   "source": [
    "df_sellout.isna().sum()"
   ]
  },
  {
   "cell_type": "code",
   "execution_count": null,
   "id": "247567fe-fa0a-400e-aec0-e7d88c50f930",
   "metadata": {},
   "outputs": [],
   "source": [
    "df_sellout.columns"
   ]
  },
  {
   "cell_type": "code",
   "execution_count": null,
   "id": "117ee51e-ef11-4da4-928b-c99afa135ba3",
   "metadata": {},
   "outputs": [],
   "source": [
    "len(df_sellout.columns)"
   ]
  }
 ],
 "metadata": {
  "kernelspec": {
   "display_name": "Python 3 (ipykernel)",
   "language": "python",
   "name": "python3"
  },
  "language_info": {
   "codemirror_mode": {
    "name": "ipython",
    "version": 3
   },
   "file_extension": ".py",
   "mimetype": "text/x-python",
   "name": "python",
   "nbconvert_exporter": "python",
   "pygments_lexer": "ipython3",
   "version": "3.10.12"
  }
 },
 "nbformat": 4,
 "nbformat_minor": 5
}
