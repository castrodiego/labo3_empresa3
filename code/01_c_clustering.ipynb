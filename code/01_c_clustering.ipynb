{
 "cells": [
  {
   "cell_type": "code",
   "execution_count": null,
   "id": "570d3e7e-1947-4157-af87-e8048825453e",
   "metadata": {},
   "outputs": [],
   "source": [
    "import pandas as pd\n",
    "import gzip\n",
    "import os\n",
    "import numpy as np"
   ]
  },
  {
   "cell_type": "code",
   "execution_count": null,
   "id": "d4f67dbf-265b-43d1-ad4f-49b197d8e6ec",
   "metadata": {},
   "outputs": [],
   "source": [
    "####################################################\n",
    "############# Setear segun cada maquina ############\n",
    "#os.chdir(\"C:/Users/herna/labo3_empresa3_repo/\")\n",
    "#os.chdir(\"C:/diego_tools/labo3/\")\n",
    "os.chdir(\"/home/dcastro_contacto/buckets/b1/\")\n",
    "####################################################"
   ]
  },
  {
   "cell_type": "code",
   "execution_count": null,
   "id": "aa6a4c75-ea60-48e2-bbb8-ff3984b3dac9",
   "metadata": {},
   "outputs": [],
   "source": [
    "arch_sellout = \"datasets/emp3_sellout_base.csv\"\n",
    "arch_cluster_prefijo = \"datasets/emp3_sellout_base_cluster_\""
   ]
  },
  {
   "cell_type": "code",
   "execution_count": null,
   "id": "f279790d-2357-4801-ba39-38703d61944b",
   "metadata": {},
   "outputs": [],
   "source": [
    "df_sellout = pd.read_csv(arch_sellout)\n",
    "df_sellout.info()"
   ]
  },
  {
   "cell_type": "code",
   "execution_count": null,
   "id": "5e2f8b80-3cb1-4e98-ab5a-43ceebdd351a",
   "metadata": {},
   "outputs": [],
   "source": [
    "df_sellout.head()"
   ]
  },
  {
   "cell_type": "markdown",
   "id": "015d1722-cb9f-4d5a-a533-7774692a66ef",
   "metadata": {},
   "source": [
    "## Clustering Manual"
   ]
  },
  {
   "cell_type": "code",
   "execution_count": null,
   "id": "4ca4b893-d23f-442d-90a7-2380e2847f52",
   "metadata": {},
   "outputs": [],
   "source": [
    "# Armo primer cluster con productos y clientes estrella\n",
    "df_sellout_cluster_estrella = df_sellout[(df_sellout.cliente_estrella==1)&(df_sellout.producto_estrella==1)]\n",
    "print(\"Cluster Estrella:\",len(df_sellout_cluster_estrella))\n",
    "df_sellout_no_estrella = df_sellout[~((df_sellout.cliente_estrella==1)&(df_sellout.producto_estrella==1))]\n",
    "print(\"Resto:\",len(df_sellout_no_estrella))"
   ]
  },
  {
   "cell_type": "code",
   "execution_count": null,
   "id": "80294058-9318-41cb-bf0c-7564ad5d979d",
   "metadata": {},
   "outputs": [],
   "source": [
    "df_sellout_cluster_estrella.head()"
   ]
  },
  {
   "cell_type": "code",
   "execution_count": null,
   "id": "f75be7ab-8c50-4d63-920e-2fbe1bba517e",
   "metadata": {},
   "outputs": [],
   "source": [
    "df_sellout_cluster_estrella.to_csv(arch_cluster_prefijo + \"0.csv\",index=False)"
   ]
  },
  {
   "cell_type": "code",
   "execution_count": null,
   "id": "2dd647d5-5214-4bfc-a579-64326006a41f",
   "metadata": {},
   "outputs": [],
   "source": [
    "pares_prod_cli = df_sellout_no_estrella[[\"prod_cust\"]].drop_duplicates()\n",
    "print(len(pares_prod_cli))\n",
    "pares_prod_cli.head()"
   ]
  },
  {
   "cell_type": "code",
   "execution_count": null,
   "id": "3490596f-69e9-4473-89fc-24fc21c33bac",
   "metadata": {},
   "outputs": [],
   "source": [
    "cluster_count = 5\n",
    "cluster_size = int(np.ceil(len(pares_prod_cli)/cluster_count))\n",
    "print(\"Total:\",len(pares_prod_cli))\n",
    "\n",
    "for cluster_iter in range(1,cluster_count+1):\n",
    "    #Tomo de muestra el tamaño del cluster o lo que tiene el dataframe\n",
    "    sample_size = cluster_size\n",
    "    if sample_size >  len(pares_prod_cli):\n",
    "        sample_size = len(pares_prod_cli)\n",
    "    \n",
    "    print(cluster_iter,\"-\", sample_size)\n",
    "\n",
    "    \n",
    "    cluster = pares_prod_cli.sample(sample_size)\n",
    "    pares_prod_cli = pares_prod_cli.drop(cluster.index)\n",
    "    df_cluster = df_sellout_no_estrella[(df_sellout_no_estrella.prod_cust.isin(cluster.prod_cust))]\n",
    "    df_cluster.to_csv(arch_cluster_prefijo + str(cluster_iter) + \".csv\",index=False)"
   ]
  },
  {
   "cell_type": "code",
   "execution_count": null,
   "id": "d875d8ec-c52d-4c4a-9a0d-28b310e59c58",
   "metadata": {},
   "outputs": [],
   "source": [
    "df_cluster.info()"
   ]
  },
  {
   "cell_type": "code",
   "execution_count": null,
   "id": "5182324e-cdca-483b-80d6-c41a0c712dec",
   "metadata": {},
   "outputs": [],
   "source": [
    "df_cluster.head()"
   ]
  }
 ],
 "metadata": {
  "kernelspec": {
   "display_name": "Python 3 (ipykernel)",
   "language": "python",
   "name": "python3"
  },
  "language_info": {
   "codemirror_mode": {
    "name": "ipython",
    "version": 3
   },
   "file_extension": ".py",
   "mimetype": "text/x-python",
   "name": "python",
   "nbconvert_exporter": "python",
   "pygments_lexer": "ipython3",
   "version": "3.10.12"
  }
 },
 "nbformat": 4,
 "nbformat_minor": 5
}
