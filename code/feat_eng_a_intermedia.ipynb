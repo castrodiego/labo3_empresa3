{
 "cells": [
  {
   "cell_type": "code",
   "execution_count": 1,
   "id": "996ea085-ab5f-42f5-a9c6-579c90fcd8ed",
   "metadata": {},
   "outputs": [],
   "source": [
    "import pandas as pd\n",
    "import os\n",
    "import numpy as np\n",
    "import matplotlib.pyplot as plt\n",
    "\n",
    "# importo los .py\n",
    "import sys\n",
    "sys.path.append(\"auxiliares\")\n",
    "import config\n",
    "import feature_eng\n",
    "\n",
    "from warnings import simplefilter \n",
    "simplefilter(action=\"ignore\", category=pd.errors.PerformanceWarning)\n",
    "simplefilter(action=\"ignore\", category=pd.errors.SettingWithCopyWarning)"
   ]
  },
  {
   "cell_type": "code",
   "execution_count": 2,
   "id": "9bbc6d6b-ecc9-4a5f-9cc9-a948d280139a",
   "metadata": {},
   "outputs": [],
   "source": [
    "####################################################\n",
    "############# Setear segun cada maquina ############\n",
    "#os.chdir(\"C:/Users/herna/labo3_empresa3_repo/\")\n",
    "#os.chdir(\"C:/diego_tools/labo3/\")\n",
    "os.chdir(\"/home/dcastro_contacto/buckets/b1/\")\n",
    "####################################################"
   ]
  },
  {
   "cell_type": "code",
   "execution_count": 3,
   "id": "4357d7ee-3b3f-4213-a550-c3e76bb2f853",
   "metadata": {},
   "outputs": [],
   "source": [
    "arch_entrada = \"datasets/emp3_sellout_producto_base.csv\"\n",
    "arch_salida = \"datasets/emp3_sellout_producto_fe.csv\"\n",
    "\n",
    "arch_cat1 = \"datasets/emp3_sellout_cat1_base.csv\"\n",
    "arch_cat2 = \"datasets/emp3_sellout_cat2_base.csv\"\n",
    "arch_cat3 = \"datasets/emp3_sellout_cat3_base.csv\""
   ]
  },
  {
   "cell_type": "code",
   "execution_count": 4,
   "id": "f9ca4d41-00e6-4216-8051-17f8381fa200",
   "metadata": {},
   "outputs": [
    {
     "name": "stdout",
     "output_type": "stream",
     "text": [
      "<class 'pandas.core.frame.DataFrame'>\n",
      "RangeIndex: 34707 entries, 0 to 34706\n",
      "Data columns (total 20 columns):\n",
      " #   Column                     Non-Null Count  Dtype  \n",
      "---  ------                     --------------  -----  \n",
      " 0   product_id                 34707 non-null  int64  \n",
      " 1   periodo                    34707 non-null  int64  \n",
      " 2   product_id_tn              34707 non-null  float64\n",
      " 3   cero_ventas                34707 non-null  int64  \n",
      " 4   cust_request_qty           34707 non-null  float64\n",
      " 5   cust_request_tn            34707 non-null  float64\n",
      " 6   mes                        34707 non-null  int64  \n",
      " 7   producto_estrella          34707 non-null  float64\n",
      " 8   plan_precios_cuidados      34707 non-null  float64\n",
      " 9   meses_historia_prod        34707 non-null  int64  \n",
      " 10  cat1                       34707 non-null  object \n",
      " 11  cat2                       34707 non-null  object \n",
      " 12  cat3                       34707 non-null  object \n",
      " 13  sku_size                   34707 non-null  float64\n",
      " 14  temp_media                 34707 non-null  float64\n",
      " 15  temp_min_media             34707 non-null  float64\n",
      " 16  temp_max_media             34707 non-null  float64\n",
      " 17  IPC                        34707 non-null  float64\n",
      " 18  promedio_mens_dolar_venta  34707 non-null  float64\n",
      " 19  catastrofe                 34707 non-null  bool   \n",
      "dtypes: bool(1), float64(11), int64(5), object(3)\n",
      "memory usage: 5.1+ MB\n"
     ]
    }
   ],
   "source": [
    "df_sellout = pd.read_csv(arch_entrada)\n",
    "df_sellout.info()"
   ]
  },
  {
   "cell_type": "code",
   "execution_count": 5,
   "id": "b1937564-a5e8-46ae-bf8c-01ec0a080351",
   "metadata": {},
   "outputs": [],
   "source": [
    "# Renombro tn\n",
    "df_sellout = df_sellout.rename(columns={\"product_id_tn\":\"tn\"})"
   ]
  },
  {
   "cell_type": "code",
   "execution_count": 6,
   "id": "5177fd45-869a-4104-a92f-610064e10e90",
   "metadata": {},
   "outputs": [
    {
     "name": "stdout",
     "output_type": "stream",
     "text": [
      "<class 'pandas.core.frame.DataFrame'>\n",
      "RangeIndex: 140 entries, 0 to 139\n",
      "Data columns (total 3 columns):\n",
      " #   Column   Non-Null Count  Dtype  \n",
      "---  ------   --------------  -----  \n",
      " 0   cat1     140 non-null    object \n",
      " 1   periodo  140 non-null    int64  \n",
      " 2   cat1_tn  140 non-null    float64\n",
      "dtypes: float64(1), int64(1), object(1)\n",
      "memory usage: 3.4+ KB\n"
     ]
    }
   ],
   "source": [
    "df_cat1 = pd.read_csv(arch_cat1)\n",
    "df_cat1.info()"
   ]
  },
  {
   "cell_type": "code",
   "execution_count": 7,
   "id": "4d58da61-531f-473c-beb6-e849ace04c30",
   "metadata": {},
   "outputs": [
    {
     "name": "stdout",
     "output_type": "stream",
     "text": [
      "<class 'pandas.core.frame.DataFrame'>\n",
      "RangeIndex: 560 entries, 0 to 559\n",
      "Data columns (total 3 columns):\n",
      " #   Column   Non-Null Count  Dtype  \n",
      "---  ------   --------------  -----  \n",
      " 0   cat2     560 non-null    object \n",
      " 1   periodo  560 non-null    int64  \n",
      " 2   cat2_tn  560 non-null    float64\n",
      "dtypes: float64(1), int64(1), object(1)\n",
      "memory usage: 13.2+ KB\n"
     ]
    }
   ],
   "source": [
    "df_cat2 = pd.read_csv(arch_cat2)\n",
    "df_cat2.info()"
   ]
  },
  {
   "cell_type": "code",
   "execution_count": 8,
   "id": "9b522c66-7738-49a6-bd53-20b9263f5b41",
   "metadata": {},
   "outputs": [
    {
     "name": "stdout",
     "output_type": "stream",
     "text": [
      "<class 'pandas.core.frame.DataFrame'>\n",
      "RangeIndex: 2717 entries, 0 to 2716\n",
      "Data columns (total 3 columns):\n",
      " #   Column   Non-Null Count  Dtype  \n",
      "---  ------   --------------  -----  \n",
      " 0   cat3     2717 non-null   object \n",
      " 1   periodo  2717 non-null   int64  \n",
      " 2   cat3_tn  2717 non-null   float64\n",
      "dtypes: float64(1), int64(1), object(1)\n",
      "memory usage: 63.8+ KB\n"
     ]
    }
   ],
   "source": [
    "df_cat3 = pd.read_csv(arch_cat3)\n",
    "df_cat3.info()"
   ]
  },
  {
   "cell_type": "markdown",
   "id": "8d99b7a1-a5bb-4c2e-8d21-46a73b1c4339",
   "metadata": {},
   "source": [
    "## Variable Target"
   ]
  },
  {
   "cell_type": "code",
   "execution_count": 9,
   "id": "9438be27-30ed-40b5-b129-b52ed20370bf",
   "metadata": {},
   "outputs": [
    {
     "name": "stdout",
     "output_type": "stream",
     "text": [
      "<class 'pandas.core.frame.DataFrame'>\n",
      "Int64Index: 34707 entries, 0 to 34706\n",
      "Data columns (total 21 columns):\n",
      " #   Column                     Non-Null Count  Dtype  \n",
      "---  ------                     --------------  -----  \n",
      " 0   product_id                 34707 non-null  int64  \n",
      " 1   periodo                    34707 non-null  int64  \n",
      " 2   tn                         34707 non-null  float64\n",
      " 3   cero_ventas                34707 non-null  int64  \n",
      " 4   cust_request_qty           34707 non-null  float64\n",
      " 5   cust_request_tn            34707 non-null  float64\n",
      " 6   mes                        34707 non-null  int64  \n",
      " 7   producto_estrella          34707 non-null  float64\n",
      " 8   plan_precios_cuidados      34707 non-null  float64\n",
      " 9   meses_historia_prod        34707 non-null  int64  \n",
      " 10  cat1                       34707 non-null  object \n",
      " 11  cat2                       34707 non-null  object \n",
      " 12  cat3                       34707 non-null  object \n",
      " 13  sku_size                   34707 non-null  float64\n",
      " 14  temp_media                 34707 non-null  float64\n",
      " 15  temp_min_media             34707 non-null  float64\n",
      " 16  temp_max_media             34707 non-null  float64\n",
      " 17  IPC                        34707 non-null  float64\n",
      " 18  promedio_mens_dolar_venta  34707 non-null  float64\n",
      " 19  catastrofe                 34707 non-null  bool   \n",
      " 20  tn_mas_2                   32244 non-null  float64\n",
      "dtypes: bool(1), float64(12), int64(5), object(3)\n",
      "memory usage: 5.6+ MB\n"
     ]
    }
   ],
   "source": [
    "df_sellout = feature_eng.crear_target_product(df_sellout)\n",
    "df_sellout.info()"
   ]
  },
  {
   "cell_type": "markdown",
   "id": "dd221bbd-19dc-401f-bb91-a7b77140cf98",
   "metadata": {},
   "source": [
    "## Nuevos Features"
   ]
  },
  {
   "cell_type": "code",
   "execution_count": 10,
   "id": "97c23832-b4c3-4e19-b7db-26ff28c12546",
   "metadata": {},
   "outputs": [
    {
     "name": "stdout",
     "output_type": "stream",
     "text": [
      "<class 'pandas.core.frame.DataFrame'>\n",
      "Int64Index: 34707 entries, 0 to 34706\n",
      "Data columns (total 23 columns):\n",
      " #   Column                     Non-Null Count  Dtype  \n",
      "---  ------                     --------------  -----  \n",
      " 0   product_id                 34707 non-null  int64  \n",
      " 1   periodo                    34707 non-null  int64  \n",
      " 2   tn                         34707 non-null  float64\n",
      " 3   cero_ventas                34707 non-null  int64  \n",
      " 4   cust_request_qty           34707 non-null  float64\n",
      " 5   cust_request_tn            34707 non-null  float64\n",
      " 6   mes                        34707 non-null  int64  \n",
      " 7   producto_estrella          34707 non-null  float64\n",
      " 8   plan_precios_cuidados      34707 non-null  float64\n",
      " 9   meses_historia_prod        34707 non-null  int64  \n",
      " 10  cat1                       34707 non-null  object \n",
      " 11  cat2                       34707 non-null  object \n",
      " 12  cat3                       34707 non-null  object \n",
      " 13  sku_size                   34707 non-null  float64\n",
      " 14  temp_media                 34707 non-null  float64\n",
      " 15  temp_min_media             34707 non-null  float64\n",
      " 16  temp_max_media             34707 non-null  float64\n",
      " 17  IPC                        34707 non-null  float64\n",
      " 18  promedio_mens_dolar_venta  34707 non-null  float64\n",
      " 19  catastrofe                 34707 non-null  bool   \n",
      " 20  tn_mas_2                   32244 non-null  float64\n",
      " 21  dif_cust_request_tn        34707 non-null  float64\n",
      " 22  dif_cust_request_tn_porc   34707 non-null  float64\n",
      "dtypes: bool(1), float64(14), int64(5), object(3)\n",
      "memory usage: 6.1+ MB\n"
     ]
    }
   ],
   "source": [
    "df_sellout = feature_eng.crear_nuevos_features(df_sellout)\n",
    "df_sellout.info()"
   ]
  },
  {
   "cell_type": "code",
   "execution_count": 11,
   "id": "4503727c-3081-4058-8c29-c739f0e500c7",
   "metadata": {},
   "outputs": [
    {
     "name": "stdout",
     "output_type": "stream",
     "text": [
      "34707\n",
      "34707\n"
     ]
    }
   ],
   "source": [
    "df_sellout = feature_eng.crear_features_temporales(\"product_id\",df_sellout, config.NUM_LAGS_PARAM,config.FAMILIA_FEATURES_TEMP_PARAM)\n",
    "df_cat1 = feature_eng.crear_features_temporales(\"cat1\",df_cat1,config.NUM_LAGS_PARAM,config.FAMILIA_FEATURES_TEMP_PARAM)\n",
    "df_cat2 = feature_eng.crear_features_temporales(\"cat2\",df_cat2, config.NUM_LAGS_PARAM,config.FAMILIA_FEATURES_TEMP_PARAM)\n",
    "df_cat3 = feature_eng.crear_features_temporales(\"cat3\",df_cat3, config.NUM_LAGS_PARAM,config.FAMILIA_FEATURES_TEMP_PARAM)\n",
    "\n",
    "print(len(df_sellout))\n",
    "df_sellout = df_sellout.merge(df_cat1,how=\"left\",on=[\"cat1\",\"periodo\"])\n",
    "df_sellout = df_sellout.merge(df_cat2,how=\"left\",on=[\"cat2\",\"periodo\"])\n",
    "df_sellout = df_sellout.merge(df_cat3,how=\"left\",on=[\"cat3\",\"periodo\"])\n",
    "print(len(df_sellout))"
   ]
  },
  {
   "cell_type": "code",
   "execution_count": 12,
   "id": "5c267d06-57cd-4502-bcbe-89817e9064b7",
   "metadata": {},
   "outputs": [
    {
     "name": "stdout",
     "output_type": "stream",
     "text": [
      "product_id\n",
      "periodo\n",
      "tn\n",
      "cero_ventas\n",
      "cust_request_qty\n",
      "cust_request_tn\n",
      "mes\n",
      "producto_estrella\n",
      "plan_precios_cuidados\n",
      "meses_historia_prod\n",
      "cat1\n",
      "cat2\n",
      "cat3\n",
      "sku_size\n",
      "temp_media\n",
      "temp_min_media\n",
      "temp_max_media\n",
      "IPC\n",
      "promedio_mens_dolar_venta\n",
      "catastrofe\n",
      "tn_mas_2\n",
      "dif_cust_request_tn\n",
      "dif_cust_request_tn_porc\n",
      "product_id_tn_rolling_std_1\n",
      "product_id_tn_rolling_std_2\n",
      "product_id_tn_rolling_std_3\n",
      "product_id_tn_rolling_std_4\n",
      "product_id_tn_rolling_std_5\n",
      "product_id_tn_rolling_std_6\n",
      "product_id_tn_rolling_std_7\n",
      "product_id_tn_rolling_std_8\n",
      "product_id_tn_rolling_std_9\n",
      "product_id_tn_rolling_std_10\n",
      "product_id_tn_rolling_std_11\n",
      "product_id_tn_rolling_std_12\n",
      "product_id_tn_rolling_std_13\n",
      "product_id_tn_rolling_std_14\n",
      "product_id_tn_rolling_std_15\n",
      "cat1_tn\n",
      "cat1_tn_rolling_std_1\n",
      "cat1_tn_rolling_std_2\n",
      "cat1_tn_rolling_std_3\n",
      "cat1_tn_rolling_std_4\n",
      "cat1_tn_rolling_std_5\n",
      "cat1_tn_rolling_std_6\n",
      "cat1_tn_rolling_std_7\n",
      "cat1_tn_rolling_std_8\n",
      "cat1_tn_rolling_std_9\n",
      "cat1_tn_rolling_std_10\n",
      "cat1_tn_rolling_std_11\n",
      "cat1_tn_rolling_std_12\n",
      "cat1_tn_rolling_std_13\n",
      "cat1_tn_rolling_std_14\n",
      "cat1_tn_rolling_std_15\n",
      "cat2_tn\n",
      "cat2_tn_rolling_std_1\n",
      "cat2_tn_rolling_std_2\n",
      "cat2_tn_rolling_std_3\n",
      "cat2_tn_rolling_std_4\n",
      "cat2_tn_rolling_std_5\n",
      "cat2_tn_rolling_std_6\n",
      "cat2_tn_rolling_std_7\n",
      "cat2_tn_rolling_std_8\n",
      "cat2_tn_rolling_std_9\n",
      "cat2_tn_rolling_std_10\n",
      "cat2_tn_rolling_std_11\n",
      "cat2_tn_rolling_std_12\n",
      "cat2_tn_rolling_std_13\n",
      "cat2_tn_rolling_std_14\n",
      "cat2_tn_rolling_std_15\n",
      "cat3_tn\n",
      "cat3_tn_rolling_std_1\n",
      "cat3_tn_rolling_std_2\n",
      "cat3_tn_rolling_std_3\n",
      "cat3_tn_rolling_std_4\n",
      "cat3_tn_rolling_std_5\n",
      "cat3_tn_rolling_std_6\n",
      "cat3_tn_rolling_std_7\n",
      "cat3_tn_rolling_std_8\n",
      "cat3_tn_rolling_std_9\n",
      "cat3_tn_rolling_std_10\n",
      "cat3_tn_rolling_std_11\n",
      "cat3_tn_rolling_std_12\n",
      "cat3_tn_rolling_std_13\n",
      "cat3_tn_rolling_std_14\n",
      "cat3_tn_rolling_std_15\n"
     ]
    }
   ],
   "source": [
    "for col in df_sellout.columns:\n",
    "    print(col)"
   ]
  },
  {
   "cell_type": "code",
   "execution_count": 13,
   "id": "84a7effe-77c2-4068-ace0-c6ad59a3401c",
   "metadata": {},
   "outputs": [],
   "source": [
    "df_sellout.to_csv(arch_salida, index=False)"
   ]
  },
  {
   "cell_type": "code",
   "execution_count": 14,
   "id": "c2226eb8-89ef-4836-9c9a-ab04d834de7e",
   "metadata": {},
   "outputs": [
    {
     "name": "stdout",
     "output_type": "stream",
     "text": [
      "34707\n"
     ]
    }
   ],
   "source": [
    "print(len(df_sellout))"
   ]
  }
 ],
 "metadata": {
  "kernelspec": {
   "display_name": "Python 3 (ipykernel)",
   "language": "python",
   "name": "python3"
  },
  "language_info": {
   "codemirror_mode": {
    "name": "ipython",
    "version": 3
   },
   "file_extension": ".py",
   "mimetype": "text/x-python",
   "name": "python",
   "nbconvert_exporter": "python",
   "pygments_lexer": "ipython3",
   "version": "3.10.12"
  }
 },
 "nbformat": 4,
 "nbformat_minor": 5
}
