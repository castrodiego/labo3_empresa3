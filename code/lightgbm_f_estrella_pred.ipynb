{
 "cells": [
  {
   "cell_type": "code",
   "execution_count": 1,
   "id": "946a34f4-5c14-46cf-a39d-9794031463bb",
   "metadata": {},
   "outputs": [
    {
     "data": {
      "text/html": [
       "<style type='text/css'>\n",
       ".datatable table.frame { margin-bottom: 0; }\n",
       ".datatable table.frame thead { border-bottom: none; }\n",
       ".datatable table.frame tr.coltypes td {  color: #FFFFFF;  line-height: 6px;  padding: 0 0.5em;}\n",
       ".datatable .bool    { background: #DDDD99; }\n",
       ".datatable .object  { background: #565656; }\n",
       ".datatable .int     { background: #5D9E5D; }\n",
       ".datatable .float   { background: #4040CC; }\n",
       ".datatable .str     { background: #CC4040; }\n",
       ".datatable .time    { background: #40CC40; }\n",
       ".datatable .row_index {  background: var(--jp-border-color3);  border-right: 1px solid var(--jp-border-color0);  color: var(--jp-ui-font-color3);  font-size: 9px;}\n",
       ".datatable .frame tbody td { text-align: left; }\n",
       ".datatable .frame tr.coltypes .row_index {  background: var(--jp-border-color0);}\n",
       ".datatable th:nth-child(2) { padding-left: 12px; }\n",
       ".datatable .hellipsis {  color: var(--jp-cell-editor-border-color);}\n",
       ".datatable .vellipsis {  background: var(--jp-layout-color0);  color: var(--jp-cell-editor-border-color);}\n",
       ".datatable .na {  color: var(--jp-cell-editor-border-color);  font-size: 80%;}\n",
       ".datatable .sp {  opacity: 0.25;}\n",
       ".datatable .footer { font-size: 9px; }\n",
       ".datatable .frame_dimensions {  background: var(--jp-border-color3);  border-top: 1px solid var(--jp-border-color0);  color: var(--jp-ui-font-color3);  display: inline-block;  opacity: 0.6;  padding: 1px 10px 1px 5px;}\n",
       ".datatable .frame thead tr.colnames {  background-image: url('data:image/png;base64,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');  background-repeat: repeat-x;  background-size: 14px;  height: 28px;}\n",
       "</style>\n"
      ],
      "text/plain": [
       "<IPython.core.display.HTML object>"
      ]
     },
     "metadata": {},
     "output_type": "display_data"
    }
   ],
   "source": [
    "import os\n",
    "import lightgbm as lgb\n",
    "import pandas as pd\n",
    "import warnings\n",
    "import numpy as np\n",
    "import random\n",
    "import ast\n",
    "\n",
    "\n",
    "# importo los .py\n",
    "import sys\n",
    "sys.path.append(\"auxiliares\")\n",
    "import config\n",
    "import metricas\n",
    "import lightgbm_aux\n",
    "import extras\n",
    "\n",
    "pd.options.display.float_format = '{:.2f}'.format\n",
    "pd.set_option('display.max_columns', None)\n",
    "\n",
    "# Ignore all warnings\n",
    "warnings.filterwarnings(\"ignore\")"
   ]
  },
  {
   "cell_type": "code",
   "execution_count": 2,
   "id": "11ac74ea-68b7-46f2-83ba-a06c00f1e25c",
   "metadata": {},
   "outputs": [],
   "source": [
    "####################################################\n",
    "############# Setear segun cada maquina ############\n",
    "#os.chdir(\"C:/Users/herna/labo3_empresa3_repo/\")\n",
    "#os.chdir(\"C:/diego_tools/labo3/\")\n",
    "os.chdir(\"/home/dcastro_contacto/buckets/b1/\")\n",
    "####################################################"
   ]
  },
  {
   "cell_type": "code",
   "execution_count": 3,
   "id": "02238d29-8545-4363-b04a-f73d55495d00",
   "metadata": {},
   "outputs": [],
   "source": [
    "arch_entrada = \"datasets/emp3_sellout_fe_estrellas.csv\"\n",
    "carpeta_base_exp = \"exp/estrella/\""
   ]
  },
  {
   "cell_type": "code",
   "execution_count": 4,
   "id": "a7183bc2-62ff-4bbb-a240-1dcbaee74237",
   "metadata": {},
   "outputs": [],
   "source": [
    "# Se genera la prediccion para el indice elegido de la optimizacion bayesiana\n",
    "FUTURE_OPT_BAY_INDEX = 0\n",
    "EXP_NOMBRE = \"20231212_205536\""
   ]
  },
  {
   "cell_type": "code",
   "execution_count": 5,
   "id": "547b30c6-7d6b-4c08-872b-6a88a987b237",
   "metadata": {},
   "outputs": [],
   "source": [
    "def lgbm_error_rate(preds, train_data):\n",
    "    labels = train_data.get_label()\n",
    "    ret_val = metricas.error_rate(labels,preds)\n",
    "    return 'ER', ret_val, False"
   ]
  },
  {
   "cell_type": "code",
   "execution_count": 6,
   "id": "53ccdb1f-2f93-4bb9-9f57-9bdf50c4251f",
   "metadata": {},
   "outputs": [],
   "source": [
    "##############################################"
   ]
  },
  {
   "cell_type": "code",
   "execution_count": 7,
   "id": "60f49df8-ea45-48d5-87f2-7a5c0281116a",
   "metadata": {},
   "outputs": [],
   "source": [
    "carpeta_exp = carpeta_base_exp + EXP_NOMBRE + \"/\""
   ]
  },
  {
   "cell_type": "code",
   "execution_count": 8,
   "id": "71aa4bfe-d204-451c-85fe-ae97ee3d0248",
   "metadata": {},
   "outputs": [
    {
     "name": "stdout",
     "output_type": "stream",
     "text": [
      "<class 'pandas.core.frame.DataFrame'>\n",
      "RangeIndex: 3900 entries, 0 to 3899\n",
      "Data columns (total 48 columns):\n",
      " #   Column                      Non-Null Count  Dtype  \n",
      "---  ------                      --------------  -----  \n",
      " 0   product_id                  3900 non-null   int64  \n",
      " 1   periodo                     3900 non-null   int64  \n",
      " 2   customer_id                 3900 non-null   int64  \n",
      " 3   cero_ventas                 3900 non-null   int64  \n",
      " 4   plan_precios_cuidados       3900 non-null   float64\n",
      " 5   cust_request_qty            3900 non-null   float64\n",
      " 6   cust_request_tn             3900 non-null   float64\n",
      " 7   tn                          3900 non-null   float64\n",
      " 8   periodo_fecha               3900 non-null   object \n",
      " 9   mes                         3900 non-null   int64  \n",
      " 10  meses_historia_prod         3900 non-null   int64  \n",
      " 11  meses_historia_cliente      3900 non-null   int64  \n",
      " 12  cliente_estrella            3900 non-null   int64  \n",
      " 13  prod_cust                   3900 non-null   object \n",
      " 14  cat1                        3900 non-null   object \n",
      " 15  cat2                        3900 non-null   object \n",
      " 16  cat3                        3900 non-null   object \n",
      " 17  brand                       3900 non-null   object \n",
      " 18  sku_size                    3900 non-null   float64\n",
      " 19  producto_estrella           3900 non-null   float64\n",
      " 20  temp_media                  3900 non-null   float64\n",
      " 21  temp_max_media              3900 non-null   float64\n",
      " 22  temp_min_media              3900 non-null   float64\n",
      " 23  IPC                         3900 non-null   float64\n",
      " 24  promedio_mens_dolar_venta   3900 non-null   float64\n",
      " 25  catastrofe                  3900 non-null   bool   \n",
      " 26  tn_mas_2                    3880 non-null   float64\n",
      " 27  dif_cust_request_tn         3900 non-null   float64\n",
      " 28  dif_cust_request_tn_porc    3900 non-null   float64\n",
      " 29  prod_cust_tn_delta_lag_1    3780 non-null   float64\n",
      " 30  prod_cust_tn_delta_lag_2    3660 non-null   float64\n",
      " 31  prod_cust_tn_delta_lag_3    3540 non-null   float64\n",
      " 32  customer_id_tn              3900 non-null   float64\n",
      " 33  customer_id_tn_delta_lag_1  3792 non-null   float64\n",
      " 34  customer_id_tn_delta_lag_2  3684 non-null   float64\n",
      " 35  customer_id_tn_delta_lag_3  3576 non-null   float64\n",
      " 36  cat1_tn                     3900 non-null   float64\n",
      " 37  cat1_tn_delta_lag_1         3792 non-null   float64\n",
      " 38  cat1_tn_delta_lag_2         3684 non-null   float64\n",
      " 39  cat1_tn_delta_lag_3         3576 non-null   float64\n",
      " 40  cat2_tn                     3900 non-null   float64\n",
      " 41  cat2_tn_delta_lag_1         3792 non-null   float64\n",
      " 42  cat2_tn_delta_lag_2         3684 non-null   float64\n",
      " 43  cat2_tn_delta_lag_3         3576 non-null   float64\n",
      " 44  cat3_tn                     3900 non-null   float64\n",
      " 45  cat3_tn_delta_lag_1         3792 non-null   float64\n",
      " 46  cat3_tn_delta_lag_2         3684 non-null   float64\n",
      " 47  cat3_tn_delta_lag_3         3576 non-null   float64\n",
      "dtypes: bool(1), float64(33), int64(8), object(6)\n",
      "memory usage: 1.4+ MB\n"
     ]
    }
   ],
   "source": [
    "df_sellout = pd.read_csv(arch_entrada)\n",
    "df_sellout.info()"
   ]
  },
  {
   "cell_type": "code",
   "execution_count": 9,
   "id": "410062a1-3b44-4d5a-8a2b-5832f25f669e",
   "metadata": {},
   "outputs": [],
   "source": [
    "### Categoricas\n",
    "df_sellout = extras.convertir_categoricas_prod_cust(df_sellout)\n",
    "\n",
    "df_sellout = df_sellout.drop(columns=[\"periodo_fecha\",\"brand\"])"
   ]
  },
  {
   "cell_type": "code",
   "execution_count": 10,
   "id": "11ee5a68-6259-4e95-b864-7a13eb4c8b15",
   "metadata": {},
   "outputs": [
    {
     "name": "stdout",
     "output_type": "stream",
     "text": [
      "Periodos entrenar MODELO FINAL: [201701 201702 201703 201704 201705 201706 201707 201708 201709 201710\n",
      " 201711 201712 201801 201802 201803 201804 201805 201806 201807 201808\n",
      " 201809 201810 201811 201812 201901 201902 201903 201904 201905 201906\n",
      " 201907 201909 201910]\n",
      "Periodos FUTURE: [201912]\n",
      "\n",
      "X_train_all: (3660, 44)\n",
      "y_train_all: (3660,)\n",
      "\n",
      "X_future: (120, 44)\n"
     ]
    }
   ],
   "source": [
    "# Modelo Final\n",
    "cols_remover_entren = [\"tn_mas_2\",\"periodo\"]\n",
    "\n",
    "df_train_modelo_final = df_sellout[(df_sellout.periodo <= config.MODELO_FINAL_PERIODO_LIMITE_PARAM) & (df_sellout.periodo >= config.PERIODO_INICIO_PARAM)]\n",
    "df_future = df_sellout[(df_sellout.periodo == config.FUTURE_PERIODO_PARAM)]\n",
    "\n",
    "print(\"Periodos entrenar MODELO FINAL:\",df_train_modelo_final.periodo.unique())\n",
    "print(\"Periodos FUTURE:\",df_future.periodo.unique())\n",
    "\n",
    "# Variables entrenamiento\n",
    "X_train_modelo_final = df_train_modelo_final.drop(columns=cols_remover_entren, axis=1)\n",
    "y_train_modelo_final = df_train_modelo_final.tn_mas_2\n",
    "cols_entren = X_train_modelo_final.columns.tolist()\n",
    "\n",
    "X_future = df_future.drop(columns=cols_remover_entren, axis=1)\n",
    "\n",
    "print(\"\\nX_train_all:\", X_train_modelo_final.shape)\n",
    "print(\"y_train_all:\", y_train_modelo_final.shape)\n",
    "print(\"\\nX_future:\", X_future.shape)\n",
    "\n",
    "lgbtrain_modelo_final = lgb.Dataset(data=X_train_modelo_final, label=y_train_modelo_final, feature_name=cols_entren)"
   ]
  },
  {
   "cell_type": "code",
   "execution_count": 11,
   "id": "08fc109d-37bf-4b6d-ac1f-467432c84235",
   "metadata": {},
   "outputs": [],
   "source": [
    "df_opt_bay = pd.read_excel(carpeta_exp + \"opt_bay.xlsx\")\n",
    "\n",
    "future_params = ast.literal_eval(df_opt_bay.iloc[FUTURE_OPT_BAY_INDEX].lgb_params) #convierto string a diccionario\n",
    "future_best_iter = int(df_opt_bay.iloc[FUTURE_OPT_BAY_INDEX].best_iteration)\n",
    "y_pred_future = lightgbm_aux.semillerio(lgbtrain_modelo_final, future_params, future_best_iter, X_future,config.CANT_SEMILLAS)"
   ]
  },
  {
   "cell_type": "code",
   "execution_count": 12,
   "id": "efb947b6-d349-475a-bb5c-234277c58a7f",
   "metadata": {},
   "outputs": [],
   "source": [
    "# Guardo predicciones\n",
    "y_pred_future = extras.limpiar_prediccion(y_pred_future)\n",
    "\n",
    "# Prediccion Future\n",
    "df_pred = pd.DataFrame(data={\"product_id\":X_future.product_id,\"customer_id\":X_future.customer_id,\"tn\":y_pred_future})\n",
    "df_pred[\"product_customer_id\"]=\"P\"+df_pred[\"product_id\"].astype(str) + '-C' + df_pred[\"customer_id\"].astype(str)\n",
    "df_pred = df_pred.drop(columns=[\"product_id\",\"customer_id\"])\n",
    "df_pred.to_csv(carpeta_exp + str(FUTURE_OPT_BAY_INDEX) + \"_prediccion.csv\",index=False)"
   ]
  }
 ],
 "metadata": {
  "kernelspec": {
   "display_name": "Python 3 (ipykernel)",
   "language": "python",
   "name": "python3"
  },
  "language_info": {
   "codemirror_mode": {
    "name": "ipython",
    "version": 3
   },
   "file_extension": ".py",
   "mimetype": "text/x-python",
   "name": "python",
   "nbconvert_exporter": "python",
   "pygments_lexer": "ipython3",
   "version": "3.10.12"
  }
 },
 "nbformat": 4,
 "nbformat_minor": 5
}
