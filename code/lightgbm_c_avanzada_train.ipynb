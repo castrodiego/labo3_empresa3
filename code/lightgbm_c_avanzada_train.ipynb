{
 "cells": [
  {
   "cell_type": "code",
   "execution_count": 1,
   "id": "946a34f4-5c14-46cf-a39d-9794031463bb",
   "metadata": {},
   "outputs": [
    {
     "data": {
      "text/html": [
       "<style type='text/css'>\n",
       ".datatable table.frame { margin-bottom: 0; }\n",
       ".datatable table.frame thead { border-bottom: none; }\n",
       ".datatable table.frame tr.coltypes td {  color: #FFFFFF;  line-height: 6px;  padding: 0 0.5em;}\n",
       ".datatable .bool    { background: #DDDD99; }\n",
       ".datatable .object  { background: #565656; }\n",
       ".datatable .int     { background: #5D9E5D; }\n",
       ".datatable .float   { background: #4040CC; }\n",
       ".datatable .str     { background: #CC4040; }\n",
       ".datatable .time    { background: #40CC40; }\n",
       ".datatable .row_index {  background: var(--jp-border-color3);  border-right: 1px solid var(--jp-border-color0);  color: var(--jp-ui-font-color3);  font-size: 9px;}\n",
       ".datatable .frame tbody td { text-align: left; }\n",
       ".datatable .frame tr.coltypes .row_index {  background: var(--jp-border-color0);}\n",
       ".datatable th:nth-child(2) { padding-left: 12px; }\n",
       ".datatable .hellipsis {  color: var(--jp-cell-editor-border-color);}\n",
       ".datatable .vellipsis {  background: var(--jp-layout-color0);  color: var(--jp-cell-editor-border-color);}\n",
       ".datatable .na {  color: var(--jp-cell-editor-border-color);  font-size: 80%;}\n",
       ".datatable .sp {  opacity: 0.25;}\n",
       ".datatable .footer { font-size: 9px; }\n",
       ".datatable .frame_dimensions {  background: var(--jp-border-color3);  border-top: 1px solid var(--jp-border-color0);  color: var(--jp-ui-font-color3);  display: inline-block;  opacity: 0.6;  padding: 1px 10px 1px 5px;}\n",
       ".datatable .frame thead tr.colnames {  background-image: url('data:image/png;base64,iVBORw0KGgoAAAANSUhEUgAAABwAAAA4CAYAAADuMJi0AAAGR0lEQVR42rVZ21IbRxBtCbQrkIR2dQVjsLmDLBsET3nTQ8ouYRkQVf6e/E9+Im958qMfkgoXAaKSSj6C9Jnd2R2NeiRSRaZqitVOT5+Z6dNnWoKGlN94JFp8Ipofkb/7SOXjGyp8wF+z35K3f0uUp/GW4XfLQ8v2gefj3ZCCzojoNfue+43o1Q3l3xB/yA3JO7jnF2pCLnI+pNyx/qw7L+SQ7T2N9p2f8c60QcfcK6KGXsAd+ZvA4LlZYuSSAoOhMs5vwJkEGDlbPMaJoA+FcQ0IH38QLWkbAFLkOOhoMF5tU6/eBRhNjro0ZgKiPRAt3FLhCO/vqdgmNTm32LkmKpvBmQY4q5uAaAgbwDBG2BVv3bfI8KKAMWj2kfw9+pkZREIbEql4ST1x7hgHIANkbJ//MF8mAH/ilTCJ2tIi4ASr1IC3VNqXHKOxjy34mgoImnOQtx1g81fkqTiMOBVGcTogNhiT5iBHET8R8C+iApJUmgim3SQAXhsLQz7ee2G8gOAQNtJckBEplADiAxtX+G9NmhDl0qJKnTvyWlAMPYZnvIviGXRg6/Dh824DBXhP/tbfREXJEIvQ+aaPGjG7pvw6r3xdx+9hqb4dgZaP2XmdHO2K/B0c1+oUph6k8kShBryl/Ft0DYgjTlOieOACHFFpVyUl72T9V3cM1jUoYvxIC2vpCSys/ck70mDYuYvdvKjlMdKAUThneWVU1aAsyjv6PURDiwNsHGBZzY+JtAAgE2TFxdRHJdyIp/f+zqu09M5cDP2F08Ukkpj4YNSdX950HY2pNCCUK/Hhx5ZMBfjNSEzdsIihVzzAMdn9dz4eDYhnyQb9SSCiAryiJcQk82LiTbJ4x2FZJaUenpKnzP95WyDf4Y+QN9EFHHSeDLGdBjjKNQ5vKHf4XMA7KrY0y0GEObBOO/8e1ywuQExOHXktuQyJALEBpcEqhwtHqgiDuCK5b6i0p2MQpcckIIoh+6hYgTZtO8xlMi6O4tKCF/kOGHEg/W0UUpHW0ZoGNZ1ExZWcn7EErgwt4uj50E/sFBjXXIayWvh7WryjasxarZKssXon0zxvvkc32Q0bqbBCuZiKt9dWFysfQefeL29JYFaeztX6tePaZdz5mYx8+6Zq3Mk0wXECQxlhdzgS2wjBHju3j1RIgKyOMdNUE8X0+RAdbSapS11MRCv1SzUXmO6wGZe2SQYrv2MvCSWEv2VODE6DN7bz8ufypgQKW7uQskFTQHULLKyaEyrnlZbgOGLrV5qrn9U79jjm2HJmgkaVN98AfBub91lGPLZBqdroN5LYgjSu4zYZDDHXZOIPC691HqrWI1900I8qLzgKP4ft8DxEWigprPfrO+KcXno9gZz4jjGewWdUcpGCj0qVFuGPYbl2VturndZ2qRvlL8acDO6lF/DY/VjsFesiUK+ypJ+r/ep+cJkSQxEK4PG4WozgA75TYrDDqStE69K8/mzGEM+JXTeqvmedEElMmwCMm2SLd6bNNF9su02zEtoW6nAQtpMj5Gd7fKa//wqonF7UdtHFsVn+6hf1o7AfriPH7M6EeIUEF5zKVxXbYo7kS/OEtOqDYZKPoBsETIixn0uYrasThmzDkhdKPkz2EnaX0HdQbIgr59vAdGYDqjHrxkjS7WOxkTD8sqEqhiwcJETgBYigrBqF08KyDaje9SZ/I1A7MzaTzMGDEulPtZUkuKcyIRAjxEJPVrnVlb/9wkfij31D/pQt1IN+iL8bGJcstBIO7Y5VI/cwDqURbXhMuJxBqD0KLoK3esWFs0Jz5i5ZvJUAfFJMFb9XmGIOnzGpijpcWYCaMqXSQWp8EnCABepQ0Elyi4wfKfsw78ikIqif1pe1AGPlLmojl1SKxHHXp1L+Ut7AmDQHvhI5xHGi4EooO2BR7k78PEkJOdL7cAxQUZ/Tyclu9gnfwGgOmm2lNHGNmZXsq4Pqgc1EG1ATrvKl8s4R9ywwnqulGUnaRLVhxy8v3ieUwy2hbooT68uscW++DCDH0WSzuoyN2D4LUJ/tLECbcSKznwMIFs0ChF4mRTCnQbIIfk4SHJo6A9BMuTnXTs3Ku/KxsgZWqzuSe+Os8cEUfnMBY6UF5gi3SUbd5K7vDjq5WW0UENJlRsWn4sy21Er/E/AvPQSFHy1p4fgAAAAASUVORK5CYII=');  background-repeat: repeat-x;  background-size: 14px;  height: 28px;}\n",
       "</style>\n"
      ],
      "text/plain": [
       "<IPython.core.display.HTML object>"
      ]
     },
     "metadata": {},
     "output_type": "display_data"
    }
   ],
   "source": [
    "import os\n",
    "import lightgbm as lgb\n",
    "import pandas as pd\n",
    "import warnings\n",
    "from matplotlib import pyplot as plt\n",
    "import seaborn as sns\n",
    "import numpy as np\n",
    "import datetime\n",
    "import optuna\n",
    "import random\n",
    "from datetime import datetime\n",
    "import pytz\n",
    "\n",
    "# importo los .py\n",
    "import sys\n",
    "sys.path.append(\"auxiliares\")\n",
    "import config\n",
    "import metricas\n",
    "import lightgbm_aux\n",
    "import extras\n",
    "\n",
    "pd.options.display.float_format = '{:.2f}'.format\n",
    "pd.set_option('display.max_columns', None)\n",
    "\n",
    "# Ignore all warnings\n",
    "warnings.filterwarnings(\"ignore\")"
   ]
  },
  {
   "cell_type": "code",
   "execution_count": 2,
   "id": "11ac74ea-68b7-46f2-83ba-a06c00f1e25c",
   "metadata": {},
   "outputs": [],
   "source": [
    "####################################################\n",
    "############# Setear segun cada maquina ############\n",
    "#os.chdir(\"C:/Users/herna/labo3_empresa3_repo/\")\n",
    "#os.chdir(\"C:/diego_tools/labo3/\")\n",
    "os.chdir(\"/home/dcastro_contacto/buckets/b1/\")\n",
    "####################################################"
   ]
  },
  {
   "cell_type": "code",
   "execution_count": 3,
   "id": "02238d29-8545-4363-b04a-f73d55495d00",
   "metadata": {},
   "outputs": [],
   "source": [
    "#Manual\n",
    "prefijo_arch_entrada = \"datasets/emp3_sellout_fe_cluster_manual_\"\n",
    "num_clusters=94\n",
    "carpeta_exp_prefijo = \"exp/avanzada_1/\"\n",
    "\n",
    "#Time Warping\n",
    "#prefijo_arch_entrada = \"datasets/emp3_sellout_base_cluster_warp_\"\n",
    "#prefijo_arch_salida = \"datasets/emp3_sellout_fe_cluster_warp_\"\n",
    "#num_clusters=94\n",
    "#carpeta_exp_prefijo = \"exp/avanzada_2/\""
   ]
  },
  {
   "cell_type": "code",
   "execution_count": 4,
   "id": "547b30c6-7d6b-4c08-872b-6a88a987b237",
   "metadata": {},
   "outputs": [],
   "source": [
    "def lgbm_error_rate(preds, train_data):\n",
    "    labels = train_data.get_label()\n",
    "    ret_val = metricas.error_rate(labels,preds)\n",
    "    return 'ER', ret_val, False"
   ]
  },
  {
   "cell_type": "code",
   "execution_count": 5,
   "id": "fcc3b371-807e-45c2-954d-3e720b30ede9",
   "metadata": {},
   "outputs": [],
   "source": [
    "def objective(trial):\n",
    "    print(\"****************\", config.OBJECTIVE_PARAM, \"****************\")\n",
    "    \n",
    "    lgb_params = {\n",
    "        'objective': config.OBJECTIVE_PARAM,\n",
    "        'first_metric_only': True,\n",
    "        'boost_from_average': True,\n",
    "        'max_depth':-1,\n",
    "        'lambda_l1': trial.suggest_uniform('lambda_l1', 0.0,config.L1_UPPER_PARAM),\n",
    "        'lambda_l2': trial.suggest_uniform('lambda_l2', 0.0,config.L2_UPPER_PARAM),\n",
    "        'min_gain_to_split':0.0,\n",
    "        'force_row_wise':True,\n",
    "        'feature_pre_filter':False,\n",
    "        'metric': \"None\",\n",
    "        'max_bin': config.MAX_BIN_PARAM,\n",
    "        'learning_rate': trial.suggest_uniform('learning_rate', config.LEARNING_RATE_LOWER_PARAM,config.LEARNING_RATE_UPPER_PARAM ),\n",
    "        'num_leaves' : trial.suggest_int('num_leaves', config.NUM_LEAVES_LOWER_PARAM, config.NUM_LEAVES_UPPER_PARAM),\n",
    "        'feature_fraction': trial.suggest_uniform('feature_fraction', config.FEATURE_FRACTION_LOWER_PARAM, config.FEATURE_FRACTION_UPPER_PARAM),\n",
    "        'min_data_in_leaf': trial.suggest_int('min_data_in_leaf', config.MIN_DATA_IN_LEAF_LOWER_PARAM, config.MIN_DATA_IN_LEAF_UPPER_PARAM),\n",
    "        #'bagging_freq':trial.suggest_int('bagging_freq', 1, 10),\n",
    "        #'bagging_fraction': trial.suggest_categorical('bagging_fraction',[0.7,0.75,0.8,0.85,0.9,0.95]),\n",
    "        #'extra_trees':trial.suggest_categorical('extra_trees',[True,False]),\n",
    "        'verbose':-100,\n",
    "        'num_threads':-1\n",
    "    }\n",
    "    \n",
    "    lgb_params_num_boost_round = 10000  #un numero muy grande, lo limita early_stopping_rounds\n",
    "    lgb_params_early_stopping_rounds = int(50 + 5/lgb_params['learning_rate']) #  #el parametro discolo, que depende de otro\n",
    "    \n",
    "    lgb_train = lgb.Dataset(data=X_train, label=y_train, feature_name=cols_entren)\n",
    "    lgb_validate = lgb.Dataset(data=X_validate, label=y_validate, reference=lgb_train, feature_name=cols_entren)\n",
    "    \n",
    "    #Train using selected parameters\n",
    "    model = lgb.train(lgb_params, lgb_train,\n",
    "                  valid_sets=[lgb_validate],\n",
    "                  num_boost_round=lgb_params_num_boost_round,\n",
    "                  early_stopping_rounds=lgb_params_early_stopping_rounds,\n",
    "                  feval=lgbm_error_rate,\n",
    "                  verbose_eval=100)\n",
    "    \n",
    "    y_pred_validate =model.predict(X_validate) #Create predictions on test set\n",
    "    er_validate = metricas.error_rate(y_validate,y_pred_validate)\n",
    "    \n",
    "    GLOBAL_PARAMS_ITER.append(lgb_params)\n",
    "    GLOBAL_BEST_IT_ITER.append(model.best_iteration)\n",
    "    GLOBAL_ER_VALIDATE_ITER.append(er_validate)\n",
    "    GLOBAL_MODEL_ITER.append(model)\n",
    "    \n",
    "    return er_validate"
   ]
  },
  {
   "cell_type": "code",
   "execution_count": 6,
   "id": "53ccdb1f-2f93-4bb9-9f57-9bdf50c4251f",
   "metadata": {},
   "outputs": [],
   "source": [
    "##############################################"
   ]
  },
  {
   "cell_type": "code",
   "execution_count": 7,
   "id": "0b03fc43-674a-41d9-a8e1-ed01808d3894",
   "metadata": {},
   "outputs": [
    {
     "data": {
      "text/plain": [
       "'20231212_163228'"
      ]
     },
     "execution_count": 7,
     "metadata": {},
     "output_type": "execute_result"
    }
   ],
   "source": [
    "current_datetime = datetime.now().astimezone(pytz.timezone('America/Argentina/Buenos_Aires'))\n",
    "exp_numero = current_datetime.strftime(\"%Y%m%d %H%M%S\").replace(\" \", \"_\")\n",
    "exp_numero"
   ]
  },
  {
   "cell_type": "code",
   "execution_count": 8,
   "id": "30514097-0a62-449b-896b-d2045a91be8f",
   "metadata": {},
   "outputs": [],
   "source": [
    "# Guardo Info del experimento\n",
    "carpeta_exp = carpeta_exp_prefijo + exp_numero + \"/\"\n",
    "if not os.path.exists(carpeta_exp):\n",
    "    os.makedirs(carpeta_exp)\n",
    "    \n",
    "# Parametros\n",
    "parametros_nombres = [\"PERIODO_INICIO_PARAM\",\"TRAIN_PERIODO_LIMITE_PARAM\",\"VALIDATE_PERIODO_PARAM\",\"USAR_HOLDOUT_PARAM\",\n",
    "                      \"TRAIN_ALL_PERIODO_LIMITE_PARAM\",\"HOLDOUT_PERIODO_PARAM\",\n",
    "                      \"MODELO_FINAL_PERIODO_LIMITE_PARAM\",\"FUTURE_PERIODO_PARAM\",\n",
    "                      \"ARCH_PRODUCTOS_PREDICCION_ENTRENAMIENTO\",\"ARCH_PRODUCTOS_PREDICCION_FUTURE\",\n",
    "                      \"NUM_LAGS_PARAM\",\"FAMILIA_FEATURES_TEMP_PARAM\",\n",
    "                      \"CANT_ITERACIONES_OPT_BAY_PARAM\",\"CANT_SEMILLAS\"]\n",
    "\n",
    "parametros_valores = [config.PERIODO_INICIO_PARAM,config.TRAIN_PERIODO_LIMITE_PARAM,config.VALIDATE_PERIODO_PARAM,\n",
    "                      config.USAR_HOLDOUT_PARAM,config.TRAIN_ALL_PERIODO_LIMITE_PARAM,config.HOLDOUT_PERIODO_PARAM,\n",
    "                      config.MODELO_FINAL_PERIODO_LIMITE_PARAM,config.FUTURE_PERIODO_PARAM,\n",
    "                      config.ARCH_PRODUCTOS_PREDICCION_ENTRENAMIENTO,config.ARCH_PRODUCTOS_PREDICCION_FUTURE,\n",
    "                      config.NUM_LAGS_PARAM,config.FAMILIA_FEATURES_TEMP_PARAM,\n",
    "                      config.CANT_ITERACIONES_OPT_BAY_PARAM, config.CANT_SEMILLAS]\n",
    "\n",
    "parametros = pd.DataFrame(data={\"nombre\":parametros_nombres,\"valor\":parametros_valores})\n",
    "parametros.to_csv(carpeta_exp + \"parametros.csv\",index=False)"
   ]
  },
  {
   "cell_type": "code",
   "execution_count": null,
   "id": "71aa4bfe-d204-451c-85fe-ae97ee3d0248",
   "metadata": {},
   "outputs": [
    {
     "name": "stdout",
     "output_type": "stream",
     "text": [
      "Cluster 0\n"
     ]
    },
    {
     "name": "stderr",
     "output_type": "stream",
     "text": [
      "[I 2023-12-12 19:32:49,844] A new study created in memory with name: no-name-b60594c4-85fb-4ea8-9420-29a0c4257a85\n"
     ]
    },
    {
     "name": "stdout",
     "output_type": "stream",
     "text": [
      "Periodos entrenar: [201701 201702 201703 201704 201705 201706 201707 201708 201709 201710\n",
      " 201711 201712 201801 201802 201803 201804 201805 201806 201807 201808\n",
      " 201809 201810]\n",
      "Periodos validar: [201812]\n",
      "product_id a validar: 27900\n",
      "X_train: (469490, 120)\n",
      "y_train: (469490,)\n",
      "\n",
      "X_validate: (27900, 120)\n",
      "y_validate: (27900,)\n",
      "Optimizacion Bayesiana\n",
      "**************** regression ****************\n",
      "Training until validation scores don't improve for 70 rounds\n"
     ]
    },
    {
     "name": "stderr",
     "output_type": "stream",
     "text": [
      "[I 2023-12-12 19:32:55,288] Trial 0 finished with value: 114.35 and parameters: {'lambda_l1': 241.3244922856699, 'lambda_l2': 640.0817297652003, 'learning_rate': 0.24202692382438273, 'num_leaves': 786, 'feature_fraction': 0.21141011116231834, 'min_data_in_leaf': 5963}. Best is trial 0 with value: 114.35.\n"
     ]
    },
    {
     "name": "stdout",
     "output_type": "stream",
     "text": [
      "[100]\tvalid_0's ER: 121.2\n",
      "Early stopping, best iteration is:\n",
      "[33]\tvalid_0's ER: 114.35\n",
      "Evaluated only: ER\n",
      "**************** regression ****************\n",
      "Training until validation scores don't improve for 69 rounds\n",
      "[100]\tvalid_0's ER: 126.47\n"
     ]
    },
    {
     "name": "stderr",
     "output_type": "stream",
     "text": [
      "[I 2023-12-12 19:33:02,759] Trial 1 finished with value: 118.77 and parameters: {'lambda_l1': 798.1993709805063, 'lambda_l2': 442.5925161091322, 'learning_rate': 0.25237910654888346, 'num_leaves': 1015, 'feature_fraction': 0.41924983357927703, 'min_data_in_leaf': 6383}. Best is trial 0 with value: 114.35.\n"
     ]
    },
    {
     "name": "stdout",
     "output_type": "stream",
     "text": [
      "Early stopping, best iteration is:\n",
      "[67]\tvalid_0's ER: 118.77\n",
      "Evaluated only: ER\n",
      "**************** regression ****************\n",
      "Training until validation scores don't improve for 73 rounds\n",
      "[100]\tvalid_0's ER: 123.7\n"
     ]
    },
    {
     "name": "stderr",
     "output_type": "stream",
     "text": [
      "[I 2023-12-12 19:33:12,317] Trial 2 finished with value: 116.96 and parameters: {'lambda_l1': 505.9003324188207, 'lambda_l2': 350.3932990467199, 'learning_rate': 0.21587694252705755, 'num_leaves': 389, 'feature_fraction': 0.6298932999484737, 'min_data_in_leaf': 6368}. Best is trial 0 with value: 114.35.\n"
     ]
    },
    {
     "name": "stdout",
     "output_type": "stream",
     "text": [
      "Early stopping, best iteration is:\n",
      "[47]\tvalid_0's ER: 116.96\n",
      "Evaluated only: ER\n",
      "**************** regression ****************\n",
      "Training until validation scores don't improve for 72 rounds\n",
      "[100]\tvalid_0's ER: 88.25\n",
      "[200]\tvalid_0's ER: 86.66\n"
     ]
    },
    {
     "name": "stderr",
     "output_type": "stream",
     "text": [
      "[I 2023-12-12 19:33:31,459] Trial 3 finished with value: 86.32 and parameters: {'lambda_l1': 888.1013225629913, 'lambda_l2': 883.1821273169464, 'learning_rate': 0.22254302121277983, 'num_leaves': 26, 'feature_fraction': 0.9253334716202819, 'min_data_in_leaf': 448}. Best is trial 3 with value: 86.32.\n"
     ]
    },
    {
     "name": "stdout",
     "output_type": "stream",
     "text": [
      "Early stopping, best iteration is:\n",
      "[170]\tvalid_0's ER: 86.32\n",
      "Evaluated only: ER\n",
      "**************** regression ****************\n",
      "Training until validation scores don't improve for 82 rounds\n",
      "[100]\tvalid_0's ER: 110.5\n",
      "[200]\tvalid_0's ER: 111.03\n"
     ]
    },
    {
     "name": "stderr",
     "output_type": "stream",
     "text": [
      "[I 2023-12-12 19:33:42,560] Trial 4 finished with value: 108.75 and parameters: {'lambda_l1': 607.0549248007424, 'lambda_l2': 809.9524024084541, 'learning_rate': 0.15409175950268716, 'num_leaves': 725, 'feature_fraction': 0.3708340478350876, 'min_data_in_leaf': 3314}. Best is trial 3 with value: 86.32.\n"
     ]
    },
    {
     "name": "stdout",
     "output_type": "stream",
     "text": [
      "Early stopping, best iteration is:\n",
      "[158]\tvalid_0's ER: 108.75\n",
      "Evaluated only: ER\n",
      "# Experimentos: 5\n",
      "Mejor experimento: {'lambda_l1': 888.1013225629913, 'lambda_l2': 883.1821273169464, 'learning_rate': 0.22254302121277983, 'num_leaves': 26, 'feature_fraction': 0.9253334716202819, 'min_data_in_leaf': 448}\n",
      "Cluster 1\n"
     ]
    },
    {
     "name": "stderr",
     "output_type": "stream",
     "text": [
      "[I 2023-12-12 19:33:56,769] A new study created in memory with name: no-name-426d750e-7632-4709-8a20-d8b7f5522487\n"
     ]
    },
    {
     "name": "stdout",
     "output_type": "stream",
     "text": [
      "Periodos entrenar: [201701 201702 201703 201704 201705 201706 201707 201708 201709 201710\n",
      " 201711 201712 201801 201802 201803 201804 201805 201806 201807 201808\n",
      " 201809 201810]\n",
      "Periodos validar: [201812]\n",
      "product_id a validar: 19530\n",
      "X_train: (361369, 120)\n",
      "y_train: (361369,)\n",
      "\n",
      "X_validate: (19530, 120)\n",
      "y_validate: (19530,)\n",
      "Optimizacion Bayesiana\n",
      "**************** regression ****************\n",
      "Training until validation scores don't improve for 71 rounds\n",
      "[100]\tvalid_0's ER: 104.97\n",
      "[200]\tvalid_0's ER: 105.76\n"
     ]
    },
    {
     "name": "stderr",
     "output_type": "stream",
     "text": [
      "[I 2023-12-12 19:34:08,207] Trial 0 finished with value: 103.04 and parameters: {'lambda_l1': 433.28600715042444, 'lambda_l2': 886.9298446987048, 'learning_rate': 0.22866561046108785, 'num_leaves': 862, 'feature_fraction': 0.6050387804279027, 'min_data_in_leaf': 1486}. Best is trial 0 with value: 103.04.\n"
     ]
    },
    {
     "name": "stdout",
     "output_type": "stream",
     "text": [
      "Early stopping, best iteration is:\n",
      "[155]\tvalid_0's ER: 103.04\n",
      "Evaluated only: ER\n",
      "**************** regression ****************\n",
      "Training until validation scores don't improve for 98 rounds\n",
      "[100]\tvalid_0's ER: 129.74\n",
      "[200]\tvalid_0's ER: 123.84\n",
      "[300]\tvalid_0's ER: 123.51\n"
     ]
    },
    {
     "name": "stderr",
     "output_type": "stream",
     "text": [
      "[I 2023-12-12 19:34:23,807] Trial 1 finished with value: 122.9 and parameters: {'lambda_l1': 614.4007807818896, 'lambda_l2': 399.3038174780653, 'learning_rate': 0.10328985277776641, 'num_leaves': 400, 'feature_fraction': 0.9684423415134957, 'min_data_in_leaf': 7159}. Best is trial 0 with value: 103.04.\n"
     ]
    },
    {
     "name": "stdout",
     "output_type": "stream",
     "text": [
      "Early stopping, best iteration is:\n",
      "[214]\tvalid_0's ER: 122.9\n",
      "Evaluated only: ER\n",
      "**************** regression ****************\n",
      "Training until validation scores don't improve for 80 rounds\n",
      "[100]\tvalid_0's ER: 90.88\n",
      "[200]\tvalid_0's ER: 87.7\n",
      "[300]\tvalid_0's ER: 87.36\n"
     ]
    },
    {
     "name": "stderr",
     "output_type": "stream",
     "text": [
      "[I 2023-12-12 19:34:39,007] Trial 2 finished with value: 87.23 and parameters: {'lambda_l1': 952.5821487045309, 'lambda_l2': 97.04046199188366, 'learning_rate': 0.1629269274442133, 'num_leaves': 969, 'feature_fraction': 0.7134843344381996, 'min_data_in_leaf': 659}. Best is trial 2 with value: 87.23.\n"
     ]
    },
    {
     "name": "stdout",
     "output_type": "stream",
     "text": [
      "Early stopping, best iteration is:\n",
      "[238]\tvalid_0's ER: 87.23\n",
      "Evaluated only: ER\n",
      "**************** regression ****************\n",
      "Training until validation scores don't improve for 73 rounds\n",
      "[100]\tvalid_0's ER: 120.91\n",
      "[200]\tvalid_0's ER: 115.1\n",
      "[300]\tvalid_0's ER: 110.14\n",
      "[400]\tvalid_0's ER: 109.26\n",
      "[500]\tvalid_0's ER: 106.39\n",
      "[600]\tvalid_0's ER: 105.66\n"
     ]
    },
    {
     "name": "stderr",
     "output_type": "stream",
     "text": [
      "[I 2023-12-12 19:34:58,372] Trial 3 finished with value: 105.0 and parameters: {'lambda_l1': 668.3401951605025, 'lambda_l2': 337.4703824771528, 'learning_rate': 0.21413951453837535, 'num_leaves': 455, 'feature_fraction': 0.3811109983564991, 'min_data_in_leaf': 5478}. Best is trial 2 with value: 87.23.\n"
     ]
    },
    {
     "name": "stdout",
     "output_type": "stream",
     "text": [
      "Early stopping, best iteration is:\n",
      "[568]\tvalid_0's ER: 105\n",
      "Evaluated only: ER\n",
      "**************** regression ****************\n",
      "Training until validation scores don't improve for 74 rounds\n",
      "[100]\tvalid_0's ER: 116.31\n",
      "[200]\tvalid_0's ER: 114.49\n",
      "[300]\tvalid_0's ER: 112.58\n"
     ]
    },
    {
     "name": "stderr",
     "output_type": "stream",
     "text": [
      "[I 2023-12-12 19:35:13,590] Trial 4 finished with value: 111.31 and parameters: {'lambda_l1': 417.9575375505373, 'lambda_l2': 196.00387229367976, 'learning_rate': 0.20052598744743355, 'num_leaves': 702, 'feature_fraction': 0.5593403414894437, 'min_data_in_leaf': 4847}. Best is trial 2 with value: 87.23.\n"
     ]
    },
    {
     "name": "stdout",
     "output_type": "stream",
     "text": [
      "Early stopping, best iteration is:\n",
      "[286]\tvalid_0's ER: 111.31\n",
      "Evaluated only: ER\n",
      "# Experimentos: 5\n",
      "Mejor experimento: {'lambda_l1': 952.5821487045309, 'lambda_l2': 97.04046199188366, 'learning_rate': 0.1629269274442133, 'num_leaves': 969, 'feature_fraction': 0.7134843344381996, 'min_data_in_leaf': 659}\n",
      "Cluster 2\n"
     ]
    },
    {
     "name": "stderr",
     "output_type": "stream",
     "text": [
      "[I 2023-12-12 19:35:18,417] A new study created in memory with name: no-name-6d8e2337-ab39-4df7-b935-8a751b707398\n"
     ]
    },
    {
     "name": "stdout",
     "output_type": "stream",
     "text": [
      "Periodos entrenar: [201701 201702 201703 201704 201705 201706 201707 201708 201709 201710\n",
      " 201711 201712 201801 201802 201803 201804 201805 201806 201807 201808\n",
      " 201809 201810]\n",
      "Periodos validar: [201812]\n",
      "product_id a validar: 6138\n",
      "X_train: (126665, 120)\n",
      "y_train: (126665,)\n",
      "\n",
      "X_validate: (6138, 120)\n",
      "y_validate: (6138,)\n",
      "Optimizacion Bayesiana\n",
      "**************** regression ****************\n",
      "Training until validation scores don't improve for 77 rounds\n",
      "[100]\tvalid_0's ER: 96.98\n"
     ]
    },
    {
     "name": "stderr",
     "output_type": "stream",
     "text": [
      "[I 2023-12-12 19:35:23,098] Trial 0 finished with value: 96.24 and parameters: {'lambda_l1': 115.67725154802156, 'lambda_l2': 908.8373316191356, 'learning_rate': 0.18165148758847813, 'num_leaves': 970, 'feature_fraction': 0.7572799454012904, 'min_data_in_leaf': 1791}. Best is trial 0 with value: 96.24.\n"
     ]
    },
    {
     "name": "stdout",
     "output_type": "stream",
     "text": [
      "[200]\tvalid_0's ER: 96.67\n",
      "Early stopping, best iteration is:\n",
      "[131]\tvalid_0's ER: 96.24\n",
      "Evaluated only: ER\n",
      "**************** regression ****************\n",
      "Training until validation scores don't improve for 85 rounds\n",
      "[100]\tvalid_0's ER: 95.52\n",
      "[200]\tvalid_0's ER: 94.22\n"
     ]
    },
    {
     "name": "stderr",
     "output_type": "stream",
     "text": [
      "[I 2023-12-12 19:35:26,331] Trial 1 finished with value: 93.71 and parameters: {'lambda_l1': 396.7007885917685, 'lambda_l2': 338.6587961027335, 'learning_rate': 0.14210610047671401, 'num_leaves': 65, 'feature_fraction': 0.3908355946236, 'min_data_in_leaf': 4080}. Best is trial 1 with value: 93.71.\n"
     ]
    },
    {
     "name": "stdout",
     "output_type": "stream",
     "text": [
      "Early stopping, best iteration is:\n",
      "[161]\tvalid_0's ER: 93.71\n",
      "Evaluated only: ER\n",
      "**************** regression ****************\n",
      "Training until validation scores don't improve for 112 rounds\n",
      "[100]\tvalid_0's ER: 100.9\n",
      "[200]\tvalid_0's ER: 99.23\n",
      "[300]\tvalid_0's ER: 98.16\n",
      "[400]\tvalid_0's ER: 98\n",
      "[500]\tvalid_0's ER: 98.18\n"
     ]
    },
    {
     "name": "stderr",
     "output_type": "stream",
     "text": [
      "[I 2023-12-12 19:35:32,342] Trial 2 finished with value: 97.97 and parameters: {'lambda_l1': 824.2673982928094, 'lambda_l2': 564.3338273475438, 'learning_rate': 0.08008698951202987, 'num_leaves': 778, 'feature_fraction': 0.3728130778428126, 'min_data_in_leaf': 2872}. Best is trial 1 with value: 93.71.\n"
     ]
    },
    {
     "name": "stdout",
     "output_type": "stream",
     "text": [
      "Early stopping, best iteration is:\n",
      "[459]\tvalid_0's ER: 97.97\n",
      "Evaluated only: ER\n",
      "**************** regression ****************\n",
      "Training until validation scores don't improve for 70 rounds\n",
      "[100]\tvalid_0's ER: 97.18\n"
     ]
    },
    {
     "name": "stderr",
     "output_type": "stream",
     "text": [
      "[I 2023-12-12 19:35:35,241] Trial 3 finished with value: 96.8 and parameters: {'lambda_l1': 607.9205705623328, 'lambda_l2': 197.86137681525207, 'learning_rate': 0.24605837093983585, 'num_leaves': 270, 'feature_fraction': 0.9687680962214091, 'min_data_in_leaf': 1471}. Best is trial 1 with value: 93.71.\n"
     ]
    },
    {
     "name": "stdout",
     "output_type": "stream",
     "text": [
      "Early stopping, best iteration is:\n",
      "[75]\tvalid_0's ER: 96.8\n",
      "Evaluated only: ER\n",
      "**************** regression ****************\n",
      "Training until validation scores don't improve for 98 rounds\n",
      "[100]\tvalid_0's ER: 93.39\n"
     ]
    },
    {
     "name": "stderr",
     "output_type": "stream",
     "text": [
      "[I 2023-12-12 19:35:38,255] Trial 4 finished with value: 92.35 and parameters: {'lambda_l1': 288.04148741559175, 'lambda_l2': 740.2132677793632, 'learning_rate': 0.1035284271398563, 'num_leaves': 440, 'feature_fraction': 0.5197972453152269, 'min_data_in_leaf': 547}. Best is trial 4 with value: 92.35.\n"
     ]
    },
    {
     "name": "stdout",
     "output_type": "stream",
     "text": [
      "Early stopping, best iteration is:\n",
      "[42]\tvalid_0's ER: 92.35\n",
      "Evaluated only: ER\n",
      "# Experimentos: 5\n",
      "Mejor experimento: {'lambda_l1': 288.04148741559175, 'lambda_l2': 740.2132677793632, 'learning_rate': 0.1035284271398563, 'num_leaves': 440, 'feature_fraction': 0.5197972453152269, 'min_data_in_leaf': 547}\n",
      "Cluster 3\n",
      "Periodos entrenar: [201701 201702 201703 201704 201705 201706 201707 201708 201709 201710\n",
      " 201711 201712 201801 201802 201803 201804 201805 201806 201807 201808\n",
      " 201809 201810]\n",
      "Periodos validar: [201812]\n",
      "product_id a validar: 55242\n"
     ]
    },
    {
     "name": "stderr",
     "output_type": "stream",
     "text": [
      "[I 2023-12-12 19:36:17,534] A new study created in memory with name: no-name-225ec031-bdb7-4f0d-91df-2046a14e8e43\n"
     ]
    },
    {
     "name": "stdout",
     "output_type": "stream",
     "text": [
      "X_train: (956945, 120)\n",
      "y_train: (956945,)\n",
      "\n",
      "X_validate: (55242, 120)\n",
      "y_validate: (55242,)\n",
      "Optimizacion Bayesiana\n",
      "**************** regression ****************\n",
      "Training until validation scores don't improve for 110 rounds\n",
      "[100]\tvalid_0's ER: 113.79\n",
      "[200]\tvalid_0's ER: 108.64\n",
      "[300]\tvalid_0's ER: 107.63\n",
      "Early stopping, best iteration is:\n",
      "[272]\tvalid_0's ER: 106.76\n",
      "Evaluated only: ER\n"
     ]
    },
    {
     "name": "stderr",
     "output_type": "stream",
     "text": [
      "[I 2023-12-12 19:36:59,270] Trial 0 finished with value: 106.76 and parameters: {'lambda_l1': 978.859167965354, 'lambda_l2': 803.6130901216939, 'learning_rate': 0.0832522262092997, 'num_leaves': 198, 'feature_fraction': 0.664563066088526, 'min_data_in_leaf': 6248}. Best is trial 0 with value: 106.76.\n"
     ]
    },
    {
     "name": "stdout",
     "output_type": "stream",
     "text": [
      "**************** regression ****************\n",
      "Training until validation scores don't improve for 74 rounds\n",
      "[100]\tvalid_0's ER: 102.39\n"
     ]
    },
    {
     "name": "stderr",
     "output_type": "stream",
     "text": [
      "[I 2023-12-12 19:37:10,056] Trial 1 finished with value: 99.46 and parameters: {'lambda_l1': 782.817993009741, 'lambda_l2': 79.10227073280984, 'learning_rate': 0.2048895933968013, 'num_leaves': 20, 'feature_fraction': 0.24598106239806025, 'min_data_in_leaf': 2268}. Best is trial 1 with value: 99.46.\n"
     ]
    },
    {
     "name": "stdout",
     "output_type": "stream",
     "text": [
      "Early stopping, best iteration is:\n",
      "[56]\tvalid_0's ER: 99.46\n",
      "Evaluated only: ER\n",
      "**************** regression ****************\n",
      "Training until validation scores don't improve for 160 rounds\n",
      "[100]\tvalid_0's ER: 115.4\n",
      "[200]\tvalid_0's ER: 114.31\n",
      "[300]\tvalid_0's ER: 113.06\n",
      "[400]\tvalid_0's ER: 112.15\n",
      "[500]\tvalid_0's ER: 111.32\n",
      "[600]\tvalid_0's ER: 110.73\n",
      "[700]\tvalid_0's ER: 110.1\n",
      "[800]\tvalid_0's ER: 109.59\n",
      "[900]\tvalid_0's ER: 109.03\n",
      "[1000]\tvalid_0's ER: 108.88\n",
      "[1100]\tvalid_0's ER: 108.56\n",
      "[1200]\tvalid_0's ER: 108.33\n",
      "[1300]\tvalid_0's ER: 107.98\n",
      "[1400]\tvalid_0's ER: 107.48\n",
      "[1500]\tvalid_0's ER: 107.21\n",
      "[1600]\tvalid_0's ER: 106.95\n",
      "[1700]\tvalid_0's ER: 106.56\n",
      "[1800]\tvalid_0's ER: 106.77\n",
      "Early stopping, best iteration is:\n",
      "[1700]\tvalid_0's ER: 106.56\n",
      "Evaluated only: ER\n"
     ]
    },
    {
     "name": "stderr",
     "output_type": "stream",
     "text": [
      "[I 2023-12-12 19:40:16,652] Trial 2 finished with value: 106.56 and parameters: {'lambda_l1': 684.1999270988266, 'lambda_l2': 89.4931414086243, 'learning_rate': 0.0453193639995204, 'num_leaves': 748, 'feature_fraction': 0.9230507924159748, 'min_data_in_leaf': 3825}. Best is trial 1 with value: 99.46.\n"
     ]
    },
    {
     "name": "stdout",
     "output_type": "stream",
     "text": [
      "**************** regression ****************\n",
      "Training until validation scores don't improve for 104 rounds\n",
      "[100]\tvalid_0's ER: 114.13\n",
      "[200]\tvalid_0's ER: 109.27\n",
      "[300]\tvalid_0's ER: 106.15\n",
      "[400]\tvalid_0's ER: 102.3\n",
      "[500]\tvalid_0's ER: 100.68\n",
      "[600]\tvalid_0's ER: 99\n",
      "[700]\tvalid_0's ER: 97.6\n",
      "[800]\tvalid_0's ER: 96.34\n",
      "[900]\tvalid_0's ER: 95.38\n",
      "[1000]\tvalid_0's ER: 93.35\n",
      "[1100]\tvalid_0's ER: 93.13\n",
      "[1200]\tvalid_0's ER: 92.48\n",
      "[1300]\tvalid_0's ER: 91.87\n",
      "[1400]\tvalid_0's ER: 91.18\n",
      "[1500]\tvalid_0's ER: 90.53\n",
      "[1600]\tvalid_0's ER: 89.93\n"
     ]
    }
   ],
   "source": [
    "# Entrenamiento por cluster\n",
    "er_validate_iter = [None] * num_clusters\n",
    "er_holdout_semillerio_iter = [None] * num_clusters\n",
    "params_iter = [None] * num_clusters\n",
    "best_iter_iter = [None] * num_clusters\n",
    "pred_iter = [None] * num_clusters\n",
    "prod_iter = [None] * num_clusters\n",
    "\n",
    "for i in range(0,num_clusters):\n",
    "    print(\"=================== Cluster\", i, \"===================\")\n",
    "    \n",
    "    df_sellout = pd.read_csv(prefijo_arch_entrada + str(i) + \".csv\")\n",
    "    \n",
    "    ### Categoricas\n",
    "    df_sellout = extras.convertir_categoricas_prod_cust(df_sellout)\n",
    "\n",
    "    ### Remover columnas\n",
    "    df_sellout = df_sellout.drop(columns=[\"periodo_fecha\",\"brand\"])\n",
    "    \n",
    "    ### Split de datasets\n",
    "    df_train = df_sellout[(df_sellout.periodo <= config.TRAIN_PERIODO_LIMITE_PARAM) & (df_sellout.periodo >= config.PERIODO_INICIO_PARAM)]\n",
    "    df_validate = df_sellout[(df_sellout.periodo == config.VALIDATE_PERIODO_PARAM)]\n",
    "    \n",
    "    print(\"Periodos entrenar:\",df_train.periodo.unique())\n",
    "    print(\"Periodos validar:\",df_validate.periodo.unique())\n",
    "    \n",
    "    df_validate = df_validate.sort_values(by=\"product_id\",ascending=True)\n",
    "    print(\"product_id a validar:\", len(df_validate))\n",
    "\n",
    "    ### Armado variables entrenamiento\n",
    "    cols_remover_entren = [\"tn_mas_2\",\"periodo\"]\n",
    "    \n",
    "    # Train - Validate\n",
    "    X_train = df_train.drop(columns=cols_remover_entren, axis=1)\n",
    "    X_validate = df_validate.drop(columns=cols_remover_entren, axis=1)\n",
    "    \n",
    "    y_train = df_train.tn_mas_2\n",
    "    y_validate = df_validate.tn_mas_2\n",
    "    \n",
    "    print(\"X_train:\", X_train.shape)\n",
    "    print(\"y_train:\", y_train.shape)\n",
    "    \n",
    "    print(\"\\nX_validate:\", X_validate.shape)\n",
    "    print(\"y_validate:\", y_validate.shape)\n",
    "    \n",
    "    cols_entren = X_train.columns.tolist()\n",
    "\n",
    "    ### Optimizacion Bayesiana\n",
    "    print(\"Optimizacion Bayesiana\")\n",
    "    GLOBAL_PARAMS_ITER = []\n",
    "    GLOBAL_BEST_IT_ITER = []\n",
    "    GLOBAL_ER_VALIDATE_ITER = []\n",
    "    GLOBAL_MODEL_ITER = []\n",
    "    \n",
    "    study = optuna.create_study(direction='minimize')\n",
    "    study.optimize(objective, n_trials=config.CANT_ITERACIONES_OPT_BAY_PARAM)\n",
    "    print('# Experimentos:', len(study.trials))\n",
    "    print('Mejor experimento:', study.best_trial.params)\n",
    "\n",
    "    best_model_index = study.best_trial.number\n",
    "    best_model = GLOBAL_MODEL_ITER[best_model_index]\n",
    "\n",
    "    er_validate_iter[i]=study.best_trial.value\n",
    "    params_iter[i] = GLOBAL_PARAMS_ITER[best_model_index]\n",
    "    best_iter_iter[i] = GLOBAL_BEST_IT_ITER[best_model_index] "
   ]
  },
  {
   "cell_type": "code",
   "execution_count": null,
   "id": "933cdc68-eb97-4e4c-b8bf-0eafdfb04c64",
   "metadata": {},
   "outputs": [],
   "source": [
    "df_resultados_opt_bay = pd.DataFrame(data={\"cluster\":range(0,num_clusters),\"error_validate\":er_validate_iter,\n",
    "                                   \"lgbm_params\":params_iter,\"best_iteration\":best_iter_iter})\n",
    "\n",
    "df_resultados_opt_bay.to_excel(carpeta_exp +  \"opt_bay.xlsx\",index=False)\n",
    "\n",
    "df_resultados_opt_bay"
   ]
  },
  {
   "cell_type": "code",
   "execution_count": null,
   "id": "d4683c7c-e768-4b55-b897-b178f8c4fdd5",
   "metadata": {},
   "outputs": [],
   "source": [
    "print(\"FINALIZADO\")"
   ]
  }
 ],
 "metadata": {
  "kernelspec": {
   "display_name": "Python 3 (ipykernel)",
   "language": "python",
   "name": "python3"
  },
  "language_info": {
   "codemirror_mode": {
    "name": "ipython",
    "version": 3
   },
   "file_extension": ".py",
   "mimetype": "text/x-python",
   "name": "python",
   "nbconvert_exporter": "python",
   "pygments_lexer": "ipython3",
   "version": "3.10.12"
  }
 },
 "nbformat": 4,
 "nbformat_minor": 5
}
