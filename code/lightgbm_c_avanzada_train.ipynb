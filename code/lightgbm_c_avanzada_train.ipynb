{
 "cells": [
  {
   "cell_type": "code",
   "execution_count": 1,
   "id": "946a34f4-5c14-46cf-a39d-9794031463bb",
   "metadata": {},
   "outputs": [
    {
     "data": {
      "text/html": [
       "<style type='text/css'>\n",
       ".datatable table.frame { margin-bottom: 0; }\n",
       ".datatable table.frame thead { border-bottom: none; }\n",
       ".datatable table.frame tr.coltypes td {  color: #FFFFFF;  line-height: 6px;  padding: 0 0.5em;}\n",
       ".datatable .bool    { background: #DDDD99; }\n",
       ".datatable .object  { background: #565656; }\n",
       ".datatable .int     { background: #5D9E5D; }\n",
       ".datatable .float   { background: #4040CC; }\n",
       ".datatable .str     { background: #CC4040; }\n",
       ".datatable .time    { background: #40CC40; }\n",
       ".datatable .row_index {  background: var(--jp-border-color3);  border-right: 1px solid var(--jp-border-color0);  color: var(--jp-ui-font-color3);  font-size: 9px;}\n",
       ".datatable .frame tbody td { text-align: left; }\n",
       ".datatable .frame tr.coltypes .row_index {  background: var(--jp-border-color0);}\n",
       ".datatable th:nth-child(2) { padding-left: 12px; }\n",
       ".datatable .hellipsis {  color: var(--jp-cell-editor-border-color);}\n",
       ".datatable .vellipsis {  background: var(--jp-layout-color0);  color: var(--jp-cell-editor-border-color);}\n",
       ".datatable .na {  color: var(--jp-cell-editor-border-color);  font-size: 80%;}\n",
       ".datatable .sp {  opacity: 0.25;}\n",
       ".datatable .footer { font-size: 9px; }\n",
       ".datatable .frame_dimensions {  background: var(--jp-border-color3);  border-top: 1px solid var(--jp-border-color0);  color: var(--jp-ui-font-color3);  display: inline-block;  opacity: 0.6;  padding: 1px 10px 1px 5px;}\n",
       ".datatable .frame thead tr.colnames {  background-image: url('data:image/png;base64,iVBORw0KGgoAAAANSUhEUgAAABwAAAA4CAYAAADuMJi0AAAGR0lEQVR42rVZ21IbRxBtCbQrkIR2dQVjsLmDLBsET3nTQ8ouYRkQVf6e/E9+Im958qMfkgoXAaKSSj6C9Jnd2R2NeiRSRaZqitVOT5+Z6dNnWoKGlN94JFp8Ipofkb/7SOXjGyp8wF+z35K3f0uUp/GW4XfLQ8v2gefj3ZCCzojoNfue+43o1Q3l3xB/yA3JO7jnF2pCLnI+pNyx/qw7L+SQ7T2N9p2f8c60QcfcK6KGXsAd+ZvA4LlZYuSSAoOhMs5vwJkEGDlbPMaJoA+FcQ0IH38QLWkbAFLkOOhoMF5tU6/eBRhNjro0ZgKiPRAt3FLhCO/vqdgmNTm32LkmKpvBmQY4q5uAaAgbwDBG2BVv3bfI8KKAMWj2kfw9+pkZREIbEql4ST1x7hgHIANkbJ//MF8mAH/ilTCJ2tIi4ASr1IC3VNqXHKOxjy34mgoImnOQtx1g81fkqTiMOBVGcTogNhiT5iBHET8R8C+iApJUmgim3SQAXhsLQz7ee2G8gOAQNtJckBEplADiAxtX+G9NmhDl0qJKnTvyWlAMPYZnvIviGXRg6/Dh824DBXhP/tbfREXJEIvQ+aaPGjG7pvw6r3xdx+9hqb4dgZaP2XmdHO2K/B0c1+oUph6k8kShBryl/Ft0DYgjTlOieOACHFFpVyUl72T9V3cM1jUoYvxIC2vpCSys/ck70mDYuYvdvKjlMdKAUThneWVU1aAsyjv6PURDiwNsHGBZzY+JtAAgE2TFxdRHJdyIp/f+zqu09M5cDP2F08Ukkpj4YNSdX950HY2pNCCUK/Hhx5ZMBfjNSEzdsIihVzzAMdn9dz4eDYhnyQb9SSCiAryiJcQk82LiTbJ4x2FZJaUenpKnzP95WyDf4Y+QN9EFHHSeDLGdBjjKNQ5vKHf4XMA7KrY0y0GEObBOO/8e1ywuQExOHXktuQyJALEBpcEqhwtHqgiDuCK5b6i0p2MQpcckIIoh+6hYgTZtO8xlMi6O4tKCF/kOGHEg/W0UUpHW0ZoGNZ1ExZWcn7EErgwt4uj50E/sFBjXXIayWvh7WryjasxarZKssXon0zxvvkc32Q0bqbBCuZiKt9dWFysfQefeL29JYFaeztX6tePaZdz5mYx8+6Zq3Mk0wXECQxlhdzgS2wjBHju3j1RIgKyOMdNUE8X0+RAdbSapS11MRCv1SzUXmO6wGZe2SQYrv2MvCSWEv2VODE6DN7bz8ufypgQKW7uQskFTQHULLKyaEyrnlZbgOGLrV5qrn9U79jjm2HJmgkaVN98AfBub91lGPLZBqdroN5LYgjSu4zYZDDHXZOIPC691HqrWI1900I8qLzgKP4ft8DxEWigprPfrO+KcXno9gZz4jjGewWdUcpGCj0qVFuGPYbl2VturndZ2qRvlL8acDO6lF/DY/VjsFesiUK+ypJ+r/ep+cJkSQxEK4PG4WozgA75TYrDDqStE69K8/mzGEM+JXTeqvmedEElMmwCMm2SLd6bNNF9su02zEtoW6nAQtpMj5Gd7fKa//wqonF7UdtHFsVn+6hf1o7AfriPH7M6EeIUEF5zKVxXbYo7kS/OEtOqDYZKPoBsETIixn0uYrasThmzDkhdKPkz2EnaX0HdQbIgr59vAdGYDqjHrxkjS7WOxkTD8sqEqhiwcJETgBYigrBqF08KyDaje9SZ/I1A7MzaTzMGDEulPtZUkuKcyIRAjxEJPVrnVlb/9wkfij31D/pQt1IN+iL8bGJcstBIO7Y5VI/cwDqURbXhMuJxBqD0KLoK3esWFs0Jz5i5ZvJUAfFJMFb9XmGIOnzGpijpcWYCaMqXSQWp8EnCABepQ0Elyi4wfKfsw78ikIqif1pe1AGPlLmojl1SKxHHXp1L+Ut7AmDQHvhI5xHGi4EooO2BR7k78PEkJOdL7cAxQUZ/Tyclu9gnfwGgOmm2lNHGNmZXsq4Pqgc1EG1ATrvKl8s4R9ywwnqulGUnaRLVhxy8v3ieUwy2hbooT68uscW++DCDH0WSzuoyN2D4LUJ/tLECbcSKznwMIFs0ChF4mRTCnQbIIfk4SHJo6A9BMuTnXTs3Ku/KxsgZWqzuSe+Os8cEUfnMBY6UF5gi3SUbd5K7vDjq5WW0UENJlRsWn4sy21Er/E/AvPQSFHy1p4fgAAAAASUVORK5CYII=');  background-repeat: repeat-x;  background-size: 14px;  height: 28px;}\n",
       "</style>\n"
      ],
      "text/plain": [
       "<IPython.core.display.HTML object>"
      ]
     },
     "metadata": {},
     "output_type": "display_data"
    }
   ],
   "source": [
    "import os\n",
    "import lightgbm as lgb\n",
    "import pandas as pd\n",
    "import warnings\n",
    "from matplotlib import pyplot as plt\n",
    "import seaborn as sns\n",
    "import numpy as np\n",
    "import datetime\n",
    "import optuna\n",
    "import random\n",
    "from datetime import datetime\n",
    "import pytz\n",
    "\n",
    "# importo los .py\n",
    "import sys\n",
    "sys.path.append(\"auxiliares\")\n",
    "import config\n",
    "import metricas\n",
    "import lightgbm_aux\n",
    "import extras\n",
    "\n",
    "pd.options.display.float_format = '{:.2f}'.format\n",
    "pd.set_option('display.max_columns', None)\n",
    "\n",
    "# Ignore all warnings\n",
    "warnings.filterwarnings(\"ignore\")"
   ]
  },
  {
   "cell_type": "code",
   "execution_count": 2,
   "id": "11ac74ea-68b7-46f2-83ba-a06c00f1e25c",
   "metadata": {},
   "outputs": [],
   "source": [
    "####################################################\n",
    "############# Setear segun cada maquina ############\n",
    "#os.chdir(\"C:/Users/herna/labo3_empresa3_repo/\")\n",
    "#os.chdir(\"C:/diego_tools/labo3/\")\n",
    "os.chdir(\"/home/dcastro_contacto/buckets/b1/\")\n",
    "####################################################"
   ]
  },
  {
   "cell_type": "code",
   "execution_count": 3,
   "id": "02238d29-8545-4363-b04a-f73d55495d00",
   "metadata": {},
   "outputs": [],
   "source": [
    "#Manual\n",
    "prefijo_arch_entrada = \"datasets/emp3_sellout_fe_cluster_manual_\"\n",
    "num_clusters=94\n",
    "carpeta_base_exp = \"exp/avanzada_1/\"\n",
    "\n",
    "#Time Warping\n",
    "#prefijo_arch_entrada = \"datasets/emp3_sellout_base_cluster_warp_\"\n",
    "#prefijo_arch_salida = \"datasets/emp3_sellout_fe_cluster_warp_\"\n",
    "#num_clusters=94\n",
    "#carpeta_base_exp = \"exp/avanzada_2/\""
   ]
  },
  {
   "cell_type": "code",
   "execution_count": 4,
   "id": "547b30c6-7d6b-4c08-872b-6a88a987b237",
   "metadata": {},
   "outputs": [],
   "source": [
    "def lgbm_error_rate(preds, train_data):\n",
    "    labels = train_data.get_label()\n",
    "    ret_val = metricas.error_rate(labels,preds)\n",
    "    return 'ER', ret_val, False"
   ]
  },
  {
   "cell_type": "code",
   "execution_count": 5,
   "id": "fcc3b371-807e-45c2-954d-3e720b30ede9",
   "metadata": {},
   "outputs": [],
   "source": [
    "def objective(trial):\n",
    "    print(\"****************\", config.OBJECTIVE_PARAM, \"****************\")\n",
    "    \n",
    "    lgb_params = {\n",
    "        'objective': config.OBJECTIVE_PARAM,\n",
    "        'first_metric_only': True,\n",
    "        'boost_from_average': True,\n",
    "        'max_depth':-1,\n",
    "        'lambda_l1': trial.suggest_uniform('lambda_l1', 0.0,config.L1_UPPER_PARAM),\n",
    "        'lambda_l2': trial.suggest_uniform('lambda_l2', 0.0,config.L2_UPPER_PARAM),\n",
    "        'min_gain_to_split':0.0,\n",
    "        'force_row_wise':True,\n",
    "        'feature_pre_filter':False,\n",
    "        'metric': \"None\",\n",
    "        'max_bin': config.MAX_BIN_PARAM,\n",
    "        'learning_rate': trial.suggest_uniform('learning_rate', config.LEARNING_RATE_LOWER_PARAM,config.LEARNING_RATE_UPPER_PARAM ),\n",
    "        'num_leaves' : trial.suggest_int('num_leaves', config.NUM_LEAVES_LOWER_PARAM, config.NUM_LEAVES_UPPER_PARAM),\n",
    "        'feature_fraction': trial.suggest_uniform('feature_fraction', config.FEATURE_FRACTION_LOWER_PARAM, config.FEATURE_FRACTION_UPPER_PARAM),\n",
    "        'min_data_in_leaf': trial.suggest_int('min_data_in_leaf', config.MIN_DATA_IN_LEAF_LOWER_PARAM, config.MIN_DATA_IN_LEAF_UPPER_PARAM),\n",
    "        #'bagging_freq':trial.suggest_int('bagging_freq', 1, 10),\n",
    "        #'bagging_fraction': trial.suggest_categorical('bagging_fraction',[0.7,0.75,0.8,0.85,0.9,0.95]),\n",
    "        #'extra_trees':trial.suggest_categorical('extra_trees',[True,False]),\n",
    "        'verbose':-100,\n",
    "        'num_threads':-1\n",
    "    }\n",
    "    \n",
    "    lgb_params_num_boost_round = 10000  #un numero muy grande, lo limita early_stopping_rounds\n",
    "    lgb_params_early_stopping_rounds = int(50 + 5/lgb_params['learning_rate']) #  #el parametro discolo, que depende de otro\n",
    "    \n",
    "    lgb_train = lgb.Dataset(data=X_train, label=y_train, feature_name=cols_entren)\n",
    "    lgb_validate = lgb.Dataset(data=X_validate, label=y_validate, reference=lgb_train, feature_name=cols_entren)\n",
    "    \n",
    "    #Train using selected parameters\n",
    "    model = lgb.train(lgb_params, lgb_train,\n",
    "                  valid_sets=[lgb_validate],\n",
    "                  num_boost_round=lgb_params_num_boost_round,\n",
    "                  early_stopping_rounds=lgb_params_early_stopping_rounds,\n",
    "                  feval=lgbm_error_rate,\n",
    "                  verbose_eval=100)\n",
    "    \n",
    "    y_pred_validate =model.predict(X_validate) #Create predictions on test set\n",
    "    er_validate = metricas.error_rate(y_validate,y_pred_validate)\n",
    "    \n",
    "    GLOBAL_PARAMS_ITER.append(lgb_params)\n",
    "    GLOBAL_BEST_IT_ITER.append(model.best_iteration)\n",
    "    GLOBAL_ER_VALIDATE_ITER.append(er_validate)\n",
    "    GLOBAL_MODEL_ITER.append(model)\n",
    "    \n",
    "    return er_validate"
   ]
  },
  {
   "cell_type": "code",
   "execution_count": 6,
   "id": "53ccdb1f-2f93-4bb9-9f57-9bdf50c4251f",
   "metadata": {},
   "outputs": [],
   "source": [
    "##############################################"
   ]
  },
  {
   "cell_type": "code",
   "execution_count": 7,
   "id": "65dfd032-268b-4b31-9f12-929edb2c0897",
   "metadata": {},
   "outputs": [
    {
     "name": "stdout",
     "output_type": "stream",
     "text": [
      "<class 'pandas.core.frame.DataFrame'>\n",
      "RangeIndex: 780 entries, 0 to 779\n",
      "Data columns (total 1 columns):\n",
      " #   Column      Non-Null Count  Dtype\n",
      "---  ------      --------------  -----\n",
      " 0   product_id  780 non-null    int64\n",
      "dtypes: int64(1)\n",
      "memory usage: 6.2 KB\n"
     ]
    }
   ],
   "source": [
    "df_prods_prediccion_entren=pd.read_csv(config.ARCH_PRODUCTOS_PREDICCION_ENTRENAMIENTO)\n",
    "df_prods_prediccion_entren.info()"
   ]
  },
  {
   "cell_type": "code",
   "execution_count": 8,
   "id": "0b03fc43-674a-41d9-a8e1-ed01808d3894",
   "metadata": {},
   "outputs": [
    {
     "data": {
      "text/plain": [
       "'20231221_113904'"
      ]
     },
     "execution_count": 8,
     "metadata": {},
     "output_type": "execute_result"
    }
   ],
   "source": [
    "current_datetime = datetime.now().astimezone(pytz.timezone('America/Argentina/Buenos_Aires'))\n",
    "exp_numero = current_datetime.strftime(\"%Y%m%d %H%M%S\").replace(\" \", \"_\")\n",
    "exp_numero"
   ]
  },
  {
   "cell_type": "code",
   "execution_count": 9,
   "id": "30514097-0a62-449b-896b-d2045a91be8f",
   "metadata": {},
   "outputs": [],
   "source": [
    "# Guardo Info del experimento\n",
    "carpeta_exp = carpeta_base_exp + exp_numero + \"/\"\n",
    "if not os.path.exists(carpeta_exp):\n",
    "    os.makedirs(carpeta_exp)\n",
    "    \n",
    "# Parametros\n",
    "parametros_nombres = [\"PERIODOS_EXCLUIR\",\"PERIODO_INICIO_PARAM\",\"TRAIN_PERIODO_LIMITE_PARAM\",\n",
    "                      \"VALIDATE_PERIODO_PARAM\",\"USAR_HOLDOUT_PARAM\",\n",
    "                      \"TRAIN_ALL_PERIODO_LIMITE_PARAM\",\"HOLDOUT_PERIODO_PARAM\",\n",
    "                      \"MODELO_FINAL_PERIODO_LIMITE_PARAM\",\"FUTURE_PERIODO_PARAM\",\n",
    "                      \"ARCH_PRODUCTOS_PREDICCION_ENTRENAMIENTO\",\"ARCH_PRODUCTOS_PREDICCION_FUTURE\",\n",
    "                      \"NUM_LAGS_PARAM\",\"FAMILIA_FEATURES_TEMP_PARAM\",\"AMPLIA_FEATURES_PARAM\",\n",
    "                      \"CANT_ITERACIONES_OPT_BAY_PARAM\",\"CANT_SEMILLAS\"]\n",
    "\n",
    "parametros_valores = [config.PERIODOS_EXCLUIR,config.PERIODO_INICIO_PARAM,config.TRAIN_PERIODO_LIMITE_PARAM,\n",
    "                      config.VALIDATE_PERIODO_PARAM,\n",
    "                      config.USAR_HOLDOUT_PARAM,config.TRAIN_ALL_PERIODO_LIMITE_PARAM,config.HOLDOUT_PERIODO_PARAM,\n",
    "                      config.MODELO_FINAL_PERIODO_LIMITE_PARAM,config.FUTURE_PERIODO_PARAM,\n",
    "                      config.ARCH_PRODUCTOS_PREDICCION_ENTRENAMIENTO,config.ARCH_PRODUCTOS_PREDICCION_FUTURE,\n",
    "                      config.NUM_LAGS_PARAM,config.FAMILIA_FEATURES_TEMP_PARAM,config.AMPLIA_FEATURES_PARAM,\n",
    "                      config.CANT_ITERACIONES_OPT_BAY_PARAM, config.CANT_SEMILLAS]\n",
    "\n",
    "parametros = pd.DataFrame(data={\"nombre\":parametros_nombres,\"valor\":parametros_valores})\n",
    "parametros.to_csv(carpeta_exp + \"parametros.csv\",index=False)"
   ]
  },
  {
   "cell_type": "code",
   "execution_count": 10,
   "id": "71aa4bfe-d204-451c-85fe-ae97ee3d0248",
   "metadata": {},
   "outputs": [
    {
     "name": "stdout",
     "output_type": "stream",
     "text": [
      "=========================================== Cluster 0 ===========================================\n",
      "Periodos entrenar: [201701 201702 201703 201704 201705 201706 201707 201708 201709 201710\n",
      " 201711 201712 201801 201802 201803 201804 201805 201806 201807 201808\n",
      " 201809 201810 201811 201812 201901 201902 201903 201904 201905]\n",
      "Periodos validar: [201907]\n",
      "product_id a validar: 31900\n"
     ]
    },
    {
     "name": "stderr",
     "output_type": "stream",
     "text": [
      "[I 2023-12-21 14:39:25,241] A new study created in memory with name: no-name-4da85da0-39ca-494d-8d86-2f3aa6c05407\n"
     ]
    },
    {
     "name": "stdout",
     "output_type": "stream",
     "text": [
      "X_train: (668859, 120)\n",
      "y_train: (668859,)\n",
      "\n",
      "X_validate: (31900, 120)\n",
      "y_validate: (31900,)\n",
      "Optimizacion Bayesiana\n",
      "**************** tweedie ****************\n",
      "Training until validation scores don't improve for 77 rounds\n",
      "[100]\tvalid_0's ER: 82.2\n"
     ]
    },
    {
     "name": "stderr",
     "output_type": "stream",
     "text": [
      "[I 2023-12-21 14:39:37,923] Trial 0 finished with value: 81.86 and parameters: {'lambda_l1': 931.7746199912102, 'lambda_l2': 871.9288043678572, 'learning_rate': 0.18509216529514436, 'num_leaves': 220, 'feature_fraction': 0.42522704192359984, 'min_data_in_leaf': 1164}. Best is trial 0 with value: 81.86.\n"
     ]
    },
    {
     "name": "stdout",
     "output_type": "stream",
     "text": [
      "Early stopping, best iteration is:\n",
      "[55]\tvalid_0's ER: 81.86\n",
      "Evaluated only: ER\n",
      "**************** tweedie ****************\n",
      "Training until validation scores don't improve for 107 rounds\n",
      "[100]\tvalid_0's ER: 81.96\n",
      "[200]\tvalid_0's ER: 81\n",
      "[300]\tvalid_0's ER: 81.05\n"
     ]
    },
    {
     "name": "stderr",
     "output_type": "stream",
     "text": [
      "[I 2023-12-21 14:39:58,262] Trial 1 finished with value: 80.97 and parameters: {'lambda_l1': 509.5480647666195, 'lambda_l2': 282.70391158626217, 'learning_rate': 0.0863681314890038, 'num_leaves': 178, 'feature_fraction': 0.3079758087848527, 'min_data_in_leaf': 2890}. Best is trial 1 with value: 80.97.\n"
     ]
    },
    {
     "name": "stdout",
     "output_type": "stream",
     "text": [
      "Early stopping, best iteration is:\n",
      "[212]\tvalid_0's ER: 80.97\n",
      "Evaluated only: ER\n",
      "**************** tweedie ****************\n",
      "Training until validation scores don't improve for 226 rounds\n",
      "[100]\tvalid_0's ER: 94.96\n",
      "[200]\tvalid_0's ER: 82.07\n",
      "[300]\tvalid_0's ER: 80.43\n",
      "[400]\tvalid_0's ER: 80\n",
      "[500]\tvalid_0's ER: 79.76\n",
      "[600]\tvalid_0's ER: 79.6\n",
      "[700]\tvalid_0's ER: 79.7\n",
      "[800]\tvalid_0's ER: 79.78\n",
      "Early stopping, best iteration is:\n",
      "[636]\tvalid_0's ER: 79.55\n",
      "Evaluated only: ER\n"
     ]
    },
    {
     "name": "stderr",
     "output_type": "stream",
     "text": [
      "[I 2023-12-21 14:42:07,781] Trial 2 finished with value: 79.55 and parameters: {'lambda_l1': 231.83450336150347, 'lambda_l2': 616.5636787577415, 'learning_rate': 0.02835022273540557, 'num_leaves': 375, 'feature_fraction': 0.8950145524369824, 'min_data_in_leaf': 2132}. Best is trial 2 with value: 79.55.\n"
     ]
    },
    {
     "name": "stdout",
     "output_type": "stream",
     "text": [
      "**************** tweedie ****************\n",
      "Training until validation scores don't improve for 106 rounds\n",
      "[100]\tvalid_0's ER: 83.36\n",
      "[200]\tvalid_0's ER: 83.66\n"
     ]
    },
    {
     "name": "stderr",
     "output_type": "stream",
     "text": [
      "[I 2023-12-21 14:42:24,097] Trial 3 finished with value: 83.3 and parameters: {'lambda_l1': 952.282698005134, 'lambda_l2': 32.45288919320266, 'learning_rate': 0.08918237648281449, 'num_leaves': 753, 'feature_fraction': 0.4077054627857279, 'min_data_in_leaf': 6916}. Best is trial 2 with value: 79.55.\n"
     ]
    },
    {
     "name": "stdout",
     "output_type": "stream",
     "text": [
      "Early stopping, best iteration is:\n",
      "[125]\tvalid_0's ER: 83.3\n",
      "Evaluated only: ER\n",
      "**************** tweedie ****************\n",
      "Training until validation scores don't improve for 66 rounds\n",
      "[100]\tvalid_0's ER: 83.42\n"
     ]
    },
    {
     "name": "stderr",
     "output_type": "stream",
     "text": [
      "[I 2023-12-21 14:42:34,873] Trial 4 finished with value: 83.38 and parameters: {'lambda_l1': 795.2637099501247, 'lambda_l2': 733.2724039609843, 'learning_rate': 0.29589682942756285, 'num_leaves': 263, 'feature_fraction': 0.5442881844349146, 'min_data_in_leaf': 3067}. Best is trial 2 with value: 79.55.\n"
     ]
    },
    {
     "name": "stdout",
     "output_type": "stream",
     "text": [
      "Early stopping, best iteration is:\n",
      "[53]\tvalid_0's ER: 83.38\n",
      "Evaluated only: ER\n",
      "**************** tweedie ****************\n",
      "Training until validation scores don't improve for 94 rounds\n",
      "[100]\tvalid_0's ER: 81.86\n",
      "[200]\tvalid_0's ER: 81.37\n",
      "[300]\tvalid_0's ER: 81.24\n"
     ]
    },
    {
     "name": "stderr",
     "output_type": "stream",
     "text": [
      "[I 2023-12-21 14:43:08,339] Trial 5 finished with value: 81.24 and parameters: {'lambda_l1': 386.3904645352612, 'lambda_l2': 661.8989366913347, 'learning_rate': 0.11112397124428114, 'num_leaves': 455, 'feature_fraction': 0.9069608357809689, 'min_data_in_leaf': 7111}. Best is trial 2 with value: 79.55.\n"
     ]
    },
    {
     "name": "stdout",
     "output_type": "stream",
     "text": [
      "Early stopping, best iteration is:\n",
      "[211]\tvalid_0's ER: 81.24\n",
      "Evaluated only: ER\n",
      "**************** tweedie ****************\n",
      "Training until validation scores don't improve for 72 rounds\n",
      "[100]\tvalid_0's ER: 84.51\n"
     ]
    },
    {
     "name": "stderr",
     "output_type": "stream",
     "text": [
      "[I 2023-12-21 14:43:22,543] Trial 6 finished with value: 84.5 and parameters: {'lambda_l1': 881.7906403115544, 'lambda_l2': 12.701351191933718, 'learning_rate': 0.21994210097481962, 'num_leaves': 703, 'feature_fraction': 0.6871778086019096, 'min_data_in_leaf': 6715}. Best is trial 2 with value: 79.55.\n"
     ]
    },
    {
     "name": "stdout",
     "output_type": "stream",
     "text": [
      "Early stopping, best iteration is:\n",
      "[68]\tvalid_0's ER: 84.5\n",
      "Evaluated only: ER\n",
      "**************** tweedie ****************\n",
      "Training until validation scores don't improve for 70 rounds\n",
      "[100]\tvalid_0's ER: 82.25\n"
     ]
    },
    {
     "name": "stderr",
     "output_type": "stream",
     "text": [
      "[I 2023-12-21 14:43:36,529] Trial 7 finished with value: 82.08 and parameters: {'lambda_l1': 696.8200732787911, 'lambda_l2': 753.5210956528506, 'learning_rate': 0.24246892725883196, 'num_leaves': 457, 'feature_fraction': 0.972163094221308, 'min_data_in_leaf': 6923}. Best is trial 2 with value: 79.55.\n"
     ]
    },
    {
     "name": "stdout",
     "output_type": "stream",
     "text": [
      "Early stopping, best iteration is:\n",
      "[48]\tvalid_0's ER: 82.08\n",
      "Evaluated only: ER\n",
      "**************** tweedie ****************\n",
      "Training until validation scores don't improve for 274 rounds\n",
      "[100]\tvalid_0's ER: 100.72\n",
      "[200]\tvalid_0's ER: 88.25\n",
      "[300]\tvalid_0's ER: 83.85\n",
      "[400]\tvalid_0's ER: 83.54\n",
      "[500]\tvalid_0's ER: 83.49\n",
      "[600]\tvalid_0's ER: 83.34\n",
      "[700]\tvalid_0's ER: 83.33\n",
      "[800]\tvalid_0's ER: 83.33\n",
      "Early stopping, best iteration is:\n",
      "[599]\tvalid_0's ER: 83.33\n",
      "Evaluated only: ER\n"
     ]
    },
    {
     "name": "stderr",
     "output_type": "stream",
     "text": [
      "[I 2023-12-21 14:44:58,503] Trial 8 finished with value: 83.33 and parameters: {'lambda_l1': 998.2745836824643, 'lambda_l2': 176.09026363442925, 'learning_rate': 0.022258460543033168, 'num_leaves': 63, 'feature_fraction': 0.9090420932909649, 'min_data_in_leaf': 6592}. Best is trial 2 with value: 79.55.\n"
     ]
    },
    {
     "name": "stdout",
     "output_type": "stream",
     "text": [
      "**************** tweedie ****************\n",
      "Training until validation scores don't improve for 81 rounds\n",
      "[100]\tvalid_0's ER: 81.19\n"
     ]
    },
    {
     "name": "stderr",
     "output_type": "stream",
     "text": [
      "[I 2023-12-21 14:45:19,787] Trial 9 finished with value: 80.98 and parameters: {'lambda_l1': 408.9264816927504, 'lambda_l2': 348.43450309312897, 'learning_rate': 0.1612524089477, 'num_leaves': 521, 'feature_fraction': 0.7602712857561242, 'min_data_in_leaf': 2323}. Best is trial 2 with value: 79.55.\n"
     ]
    },
    {
     "name": "stdout",
     "output_type": "stream",
     "text": [
      "Early stopping, best iteration is:\n",
      "[89]\tvalid_0's ER: 80.98\n",
      "Evaluated only: ER\n",
      "# Experimentos: 10\n",
      "Mejor experimento: {'lambda_l1': 231.83450336150347, 'lambda_l2': 616.5636787577415, 'learning_rate': 0.02835022273540557, 'num_leaves': 375, 'feature_fraction': 0.8950145524369824, 'min_data_in_leaf': 2132}\n",
      "=========================================== Cluster 1 ===========================================\n"
     ]
    },
    {
     "name": "stderr",
     "output_type": "stream",
     "text": [
      "[I 2023-12-21 14:45:33,186] A new study created in memory with name: no-name-4fd9559f-bd55-4c3f-b4df-82ec870e5953\n"
     ]
    },
    {
     "name": "stdout",
     "output_type": "stream",
     "text": [
      "Periodos entrenar: [201701 201702 201703 201704 201705 201706 201707 201708 201709 201710\n",
      " 201711 201712 201801 201802 201803 201804 201805 201806 201807 201808\n",
      " 201809 201810 201811 201812 201901 201902 201903 201904 201905]\n",
      "Periodos validar: [201907]\n",
      "product_id a validar: 20880\n",
      "X_train: (499339, 120)\n",
      "y_train: (499339,)\n",
      "\n",
      "X_validate: (20880, 120)\n",
      "y_validate: (20880,)\n",
      "Optimizacion Bayesiana\n",
      "**************** tweedie ****************\n",
      "Training until validation scores don't improve for 91 rounds\n",
      "[100]\tvalid_0's ER: 68.53\n",
      "[200]\tvalid_0's ER: 68.03\n"
     ]
    },
    {
     "name": "stderr",
     "output_type": "stream",
     "text": [
      "[I 2023-12-21 14:45:50,999] Trial 0 finished with value: 68.03 and parameters: {'lambda_l1': 570.6946238887017, 'lambda_l2': 565.1662529460123, 'learning_rate': 0.12058566749862794, 'num_leaves': 412, 'feature_fraction': 0.6550236959246801, 'min_data_in_leaf': 7520}. Best is trial 0 with value: 68.03.\n"
     ]
    },
    {
     "name": "stdout",
     "output_type": "stream",
     "text": [
      "Early stopping, best iteration is:\n",
      "[153]\tvalid_0's ER: 68.03\n",
      "Evaluated only: ER\n",
      "**************** tweedie ****************\n",
      "Training until validation scores don't improve for 103 rounds\n",
      "[100]\tvalid_0's ER: 69.06\n",
      "[200]\tvalid_0's ER: 68.11\n",
      "[300]\tvalid_0's ER: 68.02\n",
      "[400]\tvalid_0's ER: 67.85\n",
      "[500]\tvalid_0's ER: 67.91\n",
      "Early stopping, best iteration is:\n",
      "[403]\tvalid_0's ER: 67.77\n",
      "Evaluated only: ER\n"
     ]
    },
    {
     "name": "stderr",
     "output_type": "stream",
     "text": [
      "[I 2023-12-21 14:46:13,791] Trial 1 finished with value: 67.77 and parameters: {'lambda_l1': 124.2047908950904, 'lambda_l2': 271.1010219015307, 'learning_rate': 0.09431209941392847, 'num_leaves': 1024, 'feature_fraction': 0.21621442609330785, 'min_data_in_leaf': 6010}. Best is trial 1 with value: 67.77.\n"
     ]
    },
    {
     "name": "stdout",
     "output_type": "stream",
     "text": [
      "**************** tweedie ****************\n",
      "Training until validation scores don't improve for 77 rounds\n",
      "[100]\tvalid_0's ER: 68.18\n"
     ]
    },
    {
     "name": "stderr",
     "output_type": "stream",
     "text": [
      "[I 2023-12-21 14:46:22,946] Trial 2 finished with value: 68.09 and parameters: {'lambda_l1': 532.6787676902891, 'lambda_l2': 797.8617539926863, 'learning_rate': 0.18215774392521575, 'num_leaves': 535, 'feature_fraction': 0.2853342366210365, 'min_data_in_leaf': 2505}. Best is trial 1 with value: 67.77.\n"
     ]
    },
    {
     "name": "stdout",
     "output_type": "stream",
     "text": [
      "Early stopping, best iteration is:\n",
      "[113]\tvalid_0's ER: 68.09\n",
      "Evaluated only: ER\n",
      "**************** tweedie ****************\n",
      "Training until validation scores don't improve for 68 rounds\n",
      "[100]\tvalid_0's ER: 67.25\n"
     ]
    },
    {
     "name": "stderr",
     "output_type": "stream",
     "text": [
      "[I 2023-12-21 14:46:41,145] Trial 3 finished with value: 67.18 and parameters: {'lambda_l1': 156.03448782901364, 'lambda_l2': 544.7089900444827, 'learning_rate': 0.27128457190440286, 'num_leaves': 644, 'feature_fraction': 0.6299159569675903, 'min_data_in_leaf': 5175}. Best is trial 3 with value: 67.18.\n"
     ]
    },
    {
     "name": "stdout",
     "output_type": "stream",
     "text": [
      "Early stopping, best iteration is:\n",
      "[94]\tvalid_0's ER: 67.18\n",
      "Evaluated only: ER\n",
      "**************** tweedie ****************\n",
      "Training until validation scores don't improve for 168 rounds\n",
      "[100]\tvalid_0's ER: 74.74\n",
      "[200]\tvalid_0's ER: 69.94\n",
      "[300]\tvalid_0's ER: 69.43\n",
      "[400]\tvalid_0's ER: 69.33\n",
      "[500]\tvalid_0's ER: 69.31\n",
      "[600]\tvalid_0's ER: 69.29\n",
      "[700]\tvalid_0's ER: 69.25\n",
      "[800]\tvalid_0's ER: 69.24\n",
      "[900]\tvalid_0's ER: 69.27\n",
      "Early stopping, best iteration is:\n",
      "[774]\tvalid_0's ER: 69.24\n",
      "Evaluated only: ER\n"
     ]
    },
    {
     "name": "stderr",
     "output_type": "stream",
     "text": [
      "[I 2023-12-21 14:47:09,391] Trial 4 finished with value: 69.27 and parameters: {'lambda_l1': 719.4341055410359, 'lambda_l2': 294.06968746288567, 'learning_rate': 0.04219576979265234, 'num_leaves': 820, 'feature_fraction': 0.2128061565658862, 'min_data_in_leaf': 7234}. Best is trial 3 with value: 67.18.\n"
     ]
    },
    {
     "name": "stdout",
     "output_type": "stream",
     "text": [
      "**************** tweedie ****************\n",
      "Training until validation scores don't improve for 150 rounds\n",
      "[100]\tvalid_0's ER: 72.52\n",
      "[200]\tvalid_0's ER: 69.2\n",
      "[300]\tvalid_0's ER: 68.83\n",
      "[400]\tvalid_0's ER: 68.81\n"
     ]
    },
    {
     "name": "stderr",
     "output_type": "stream",
     "text": [
      "[I 2023-12-21 14:47:41,118] Trial 5 finished with value: 68.81 and parameters: {'lambda_l1': 859.0263978384137, 'lambda_l2': 819.3886913229129, 'learning_rate': 0.04991292363546189, 'num_leaves': 87, 'feature_fraction': 0.637854326356346, 'min_data_in_leaf': 4061}. Best is trial 3 with value: 67.18.\n"
     ]
    },
    {
     "name": "stdout",
     "output_type": "stream",
     "text": [
      "Early stopping, best iteration is:\n",
      "[335]\tvalid_0's ER: 68.81\n",
      "Evaluated only: ER\n",
      "**************** tweedie ****************\n",
      "Training until validation scores don't improve for 66 rounds\n",
      "[100]\tvalid_0's ER: 66.2\n"
     ]
    },
    {
     "name": "stderr",
     "output_type": "stream",
     "text": [
      "[I 2023-12-21 14:47:57,073] Trial 6 finished with value: 66.11 and parameters: {'lambda_l1': 231.8844006662407, 'lambda_l2': 19.581726354127582, 'learning_rate': 0.29624255109270853, 'num_leaves': 107, 'feature_fraction': 0.7531284834633925, 'min_data_in_leaf': 4474}. Best is trial 6 with value: 66.11.\n"
     ]
    },
    {
     "name": "stdout",
     "output_type": "stream",
     "text": [
      "Early stopping, best iteration is:\n",
      "[114]\tvalid_0's ER: 66.11\n",
      "Evaluated only: ER\n",
      "**************** tweedie ****************\n",
      "Training until validation scores don't improve for 399 rounds\n",
      "[100]\tvalid_0's ER: 97.25\n",
      "[200]\tvalid_0's ER: 80.79\n",
      "[300]\tvalid_0's ER: 73.12\n",
      "[400]\tvalid_0's ER: 70.19\n",
      "[500]\tvalid_0's ER: 69.21\n",
      "[600]\tvalid_0's ER: 68.61\n",
      "[700]\tvalid_0's ER: 68.35\n",
      "[800]\tvalid_0's ER: 68.25\n",
      "[900]\tvalid_0's ER: 68.23\n",
      "[1000]\tvalid_0's ER: 68.18\n",
      "[1100]\tvalid_0's ER: 68.13\n",
      "[1200]\tvalid_0's ER: 68.12\n",
      "[1300]\tvalid_0's ER: 68.12\n",
      "[1400]\tvalid_0's ER: 68.12\n",
      "[1500]\tvalid_0's ER: 68.12\n",
      "Early stopping, best iteration is:\n",
      "[1119]\tvalid_0's ER: 68.11\n",
      "Evaluated only: ER\n"
     ]
    },
    {
     "name": "stderr",
     "output_type": "stream",
     "text": [
      "[I 2023-12-21 14:49:15,054] Trial 7 finished with value: 68.11 and parameters: {'lambda_l1': 546.32988086262, 'lambda_l2': 96.12683113653442, 'learning_rate': 0.014293388947758556, 'num_leaves': 643, 'feature_fraction': 0.5109065992004427, 'min_data_in_leaf': 7211}. Best is trial 6 with value: 66.11.\n"
     ]
    },
    {
     "name": "stdout",
     "output_type": "stream",
     "text": [
      "**************** tweedie ****************\n",
      "Training until validation scores don't improve for 84 rounds\n",
      "[100]\tvalid_0's ER: 69.11\n"
     ]
    },
    {
     "name": "stderr",
     "output_type": "stream",
     "text": [
      "[I 2023-12-21 14:49:29,925] Trial 8 finished with value: 69.06 and parameters: {'lambda_l1': 813.6225300706528, 'lambda_l2': 240.47509137127477, 'learning_rate': 0.14515729078396405, 'num_leaves': 287, 'feature_fraction': 0.7642803407778844, 'min_data_in_leaf': 1882}. Best is trial 6 with value: 66.11.\n"
     ]
    },
    {
     "name": "stdout",
     "output_type": "stream",
     "text": [
      "Early stopping, best iteration is:\n",
      "[103]\tvalid_0's ER: 69.06\n",
      "Evaluated only: ER\n",
      "**************** tweedie ****************\n",
      "Training until validation scores don't improve for 100 rounds\n",
      "[100]\tvalid_0's ER: 67.63\n"
     ]
    },
    {
     "name": "stderr",
     "output_type": "stream",
     "text": [
      "[I 2023-12-21 14:49:50,856] Trial 9 finished with value: 67.47 and parameters: {'lambda_l1': 145.02796329383827, 'lambda_l2': 760.5526382017688, 'learning_rate': 0.09894995605150517, 'num_leaves': 575, 'feature_fraction': 0.7517122678072214, 'min_data_in_leaf': 5301}. Best is trial 6 with value: 66.11.\n"
     ]
    },
    {
     "name": "stdout",
     "output_type": "stream",
     "text": [
      "Early stopping, best iteration is:\n",
      "[97]\tvalid_0's ER: 67.47\n",
      "Evaluated only: ER\n",
      "# Experimentos: 10\n",
      "Mejor experimento: {'lambda_l1': 231.8844006662407, 'lambda_l2': 19.581726354127582, 'learning_rate': 0.29624255109270853, 'num_leaves': 107, 'feature_fraction': 0.7531284834633925, 'min_data_in_leaf': 4474}\n",
      "=========================================== Cluster 2 ===========================================\n"
     ]
    },
    {
     "name": "stderr",
     "output_type": "stream",
     "text": [
      "[I 2023-12-21 14:49:55,690] A new study created in memory with name: no-name-307d7e05-5b98-46c3-8cce-602d8bc89e98\n"
     ]
    },
    {
     "name": "stdout",
     "output_type": "stream",
     "text": [
      "Periodos entrenar: [201701 201702 201703 201704 201705 201706 201707 201708 201709 201710\n",
      " 201711 201712 201801 201802 201803 201804 201805 201806 201807 201808\n",
      " 201809 201810 201811 201812 201901 201902 201903 201904 201905]\n",
      "Periodos validar: [201907]\n",
      "product_id a validar: 8700\n",
      "X_train: (176859, 120)\n",
      "y_train: (176859,)\n",
      "\n",
      "X_validate: (8700, 120)\n",
      "y_validate: (8700,)\n",
      "Optimizacion Bayesiana\n",
      "**************** tweedie ****************\n",
      "Training until validation scores don't improve for 70 rounds\n",
      "[100]\tvalid_0's ER: 104.46\n"
     ]
    },
    {
     "name": "stderr",
     "output_type": "stream",
     "text": [
      "[I 2023-12-21 14:49:58,639] Trial 0 finished with value: 104.48 and parameters: {'lambda_l1': 904.588667498119, 'lambda_l2': 595.1728102939612, 'learning_rate': 0.24665276998381416, 'num_leaves': 756, 'feature_fraction': 0.2844639883320171, 'min_data_in_leaf': 4921}. Best is trial 0 with value: 104.48.\n"
     ]
    },
    {
     "name": "stdout",
     "output_type": "stream",
     "text": [
      "Early stopping, best iteration is:\n",
      "[81]\tvalid_0's ER: 104.18\n",
      "Evaluated only: ER\n",
      "**************** tweedie ****************\n",
      "Training until validation scores don't improve for 107 rounds\n",
      "[100]\tvalid_0's ER: 98.88\n",
      "[200]\tvalid_0's ER: 97.4\n",
      "[300]\tvalid_0's ER: 97.04\n",
      "[400]\tvalid_0's ER: 96.4\n",
      "[500]\tvalid_0's ER: 96.4\n",
      "[600]\tvalid_0's ER: 95.85\n",
      "[700]\tvalid_0's ER: 95.39\n",
      "[800]\tvalid_0's ER: 95\n",
      "[900]\tvalid_0's ER: 94.41\n",
      "[1000]\tvalid_0's ER: 94.01\n",
      "[1100]\tvalid_0's ER: 94.05\n",
      "Early stopping, best iteration is:\n",
      "[1042]\tvalid_0's ER: 93.84\n",
      "Evaluated only: ER\n"
     ]
    },
    {
     "name": "stderr",
     "output_type": "stream",
     "text": [
      "[I 2023-12-21 14:50:58,741] Trial 1 finished with value: 93.84 and parameters: {'lambda_l1': 50.133961260274475, 'lambda_l2': 442.49906841079576, 'learning_rate': 0.08664162202791387, 'num_leaves': 330, 'feature_fraction': 0.6531419601976294, 'min_data_in_leaf': 671}. Best is trial 1 with value: 93.84.\n"
     ]
    },
    {
     "name": "stdout",
     "output_type": "stream",
     "text": [
      "**************** tweedie ****************\n",
      "Training until validation scores don't improve for 72 rounds\n"
     ]
    },
    {
     "name": "stderr",
     "output_type": "stream",
     "text": [
      "[I 2023-12-21 14:51:01,840] Trial 2 finished with value: 100.31 and parameters: {'lambda_l1': 834.9030631856969, 'lambda_l2': 309.3752263893428, 'learning_rate': 0.22710652825643973, 'num_leaves': 616, 'feature_fraction': 0.3644504857646876, 'min_data_in_leaf': 787}. Best is trial 1 with value: 93.84.\n"
     ]
    },
    {
     "name": "stdout",
     "output_type": "stream",
     "text": [
      "[100]\tvalid_0's ER: 101.17\n",
      "Early stopping, best iteration is:\n",
      "[39]\tvalid_0's ER: 100.31\n",
      "Evaluated only: ER\n",
      "**************** tweedie ****************\n",
      "Training until validation scores don't improve for 227 rounds\n",
      "[100]\tvalid_0's ER: 106.77\n",
      "[200]\tvalid_0's ER: 103.92\n",
      "[300]\tvalid_0's ER: 102.92\n",
      "[400]\tvalid_0's ER: 102.93\n",
      "[500]\tvalid_0's ER: 102.95\n"
     ]
    },
    {
     "name": "stderr",
     "output_type": "stream",
     "text": [
      "[I 2023-12-21 14:51:17,187] Trial 3 finished with value: 102.86 and parameters: {'lambda_l1': 743.2033652086892, 'lambda_l2': 258.0489361509928, 'learning_rate': 0.02811217857629393, 'num_leaves': 255, 'feature_fraction': 0.9540529307555703, 'min_data_in_leaf': 2753}. Best is trial 1 with value: 93.84.\n"
     ]
    },
    {
     "name": "stdout",
     "output_type": "stream",
     "text": [
      "Early stopping, best iteration is:\n",
      "[359]\tvalid_0's ER: 102.86\n",
      "Evaluated only: ER\n",
      "**************** tweedie ****************\n",
      "Training until validation scores don't improve for 70 rounds\n",
      "[100]\tvalid_0's ER: 104.28\n"
     ]
    },
    {
     "name": "stderr",
     "output_type": "stream",
     "text": [
      "[I 2023-12-21 14:51:20,677] Trial 4 finished with value: 104.08 and parameters: {'lambda_l1': 590.6985814906211, 'lambda_l2': 347.2128491082601, 'learning_rate': 0.23861483438747005, 'num_leaves': 414, 'feature_fraction': 0.771557680458743, 'min_data_in_leaf': 7263}. Best is trial 1 with value: 93.84.\n"
     ]
    },
    {
     "name": "stdout",
     "output_type": "stream",
     "text": [
      "Early stopping, best iteration is:\n",
      "[47]\tvalid_0's ER: 104.08\n",
      "Evaluated only: ER\n",
      "**************** tweedie ****************\n",
      "Training until validation scores don't improve for 67 rounds\n"
     ]
    },
    {
     "name": "stderr",
     "output_type": "stream",
     "text": [
      "[I 2023-12-21 14:51:24,033] Trial 5 finished with value: 104.77 and parameters: {'lambda_l1': 766.3056216096066, 'lambda_l2': 992.4744185035628, 'learning_rate': 0.2784946402774638, 'num_leaves': 578, 'feature_fraction': 0.62189225034463, 'min_data_in_leaf': 5510}. Best is trial 1 with value: 93.84.\n"
     ]
    },
    {
     "name": "stdout",
     "output_type": "stream",
     "text": [
      "[100]\tvalid_0's ER: 104.98\n",
      "Early stopping, best iteration is:\n",
      "[38]\tvalid_0's ER: 104.77\n",
      "Evaluated only: ER\n",
      "**************** tweedie ****************\n",
      "Training until validation scores don't improve for 91 rounds\n",
      "[100]\tvalid_0's ER: 103.63\n"
     ]
    },
    {
     "name": "stderr",
     "output_type": "stream",
     "text": [
      "[I 2023-12-21 14:51:29,075] Trial 6 finished with value: 103.42 and parameters: {'lambda_l1': 592.3551878822385, 'lambda_l2': 376.58624091831314, 'learning_rate': 0.11953842552557625, 'num_leaves': 300, 'feature_fraction': 0.5651477334985194, 'min_data_in_leaf': 2301}. Best is trial 1 with value: 93.84.\n"
     ]
    },
    {
     "name": "stdout",
     "output_type": "stream",
     "text": [
      "Early stopping, best iteration is:\n",
      "[105]\tvalid_0's ER: 103.42\n",
      "Evaluated only: ER\n",
      "**************** tweedie ****************\n",
      "Training until validation scores don't improve for 159 rounds\n",
      "[100]\tvalid_0's ER: 103.58\n",
      "[200]\tvalid_0's ER: 102.68\n",
      "[300]\tvalid_0's ER: 102.85\n",
      "Early stopping, best iteration is:\n",
      "[192]\tvalid_0's ER: 102.58\n",
      "Evaluated only: ER\n"
     ]
    },
    {
     "name": "stderr",
     "output_type": "stream",
     "text": [
      "[I 2023-12-21 14:51:42,605] Trial 7 finished with value: 102.58 and parameters: {'lambda_l1': 936.0891843673137, 'lambda_l2': 995.3343728955089, 'learning_rate': 0.04547346768271657, 'num_leaves': 416, 'feature_fraction': 0.5806653937921937, 'min_data_in_leaf': 236}. Best is trial 1 with value: 93.84.\n"
     ]
    },
    {
     "name": "stdout",
     "output_type": "stream",
     "text": [
      "**************** tweedie ****************\n",
      "Training until validation scores don't improve for 99 rounds\n",
      "[100]\tvalid_0's ER: 104.39\n"
     ]
    },
    {
     "name": "stderr",
     "output_type": "stream",
     "text": [
      "[I 2023-12-21 14:51:47,643] Trial 8 finished with value: 104.2 and parameters: {'lambda_l1': 584.2679154885144, 'lambda_l2': 838.8030062900094, 'learning_rate': 0.10115814132414176, 'num_leaves': 952, 'feature_fraction': 0.3956875912568545, 'min_data_in_leaf': 1323}. Best is trial 1 with value: 93.84.\n"
     ]
    },
    {
     "name": "stdout",
     "output_type": "stream",
     "text": [
      "[200]\tvalid_0's ER: 104.64\n",
      "Early stopping, best iteration is:\n",
      "[108]\tvalid_0's ER: 104.2\n",
      "Evaluated only: ER\n",
      "**************** tweedie ****************\n",
      "Training until validation scores don't improve for 70 rounds\n",
      "[100]\tvalid_0's ER: 105.63\n"
     ]
    },
    {
     "name": "stderr",
     "output_type": "stream",
     "text": [
      "[I 2023-12-21 14:51:50,659] Trial 9 finished with value: 105.65 and parameters: {'lambda_l1': 871.2961256575686, 'lambda_l2': 472.6572795981503, 'learning_rate': 0.24020538310293632, 'num_leaves': 85, 'feature_fraction': 0.271976825899083, 'min_data_in_leaf': 7787}. Best is trial 1 with value: 93.84.\n"
     ]
    },
    {
     "name": "stdout",
     "output_type": "stream",
     "text": [
      "Early stopping, best iteration is:\n",
      "[83]\tvalid_0's ER: 105.45\n",
      "Evaluated only: ER\n",
      "# Experimentos: 10\n",
      "Mejor experimento: {'lambda_l1': 50.133961260274475, 'lambda_l2': 442.49906841079576, 'learning_rate': 0.08664162202791387, 'num_leaves': 330, 'feature_fraction': 0.6531419601976294, 'min_data_in_leaf': 671}\n",
      "=========================================== Cluster 3 ===========================================\n",
      "Periodos entrenar: [201701 201702 201703 201704 201705 201706 201707 201708 201709 201710\n",
      " 201711 201712 201801 201802 201803 201804 201805 201806 201807 201808\n",
      " 201809 201810 201811 201812 201901 201902 201903 201904 201905]\n",
      "Periodos validar: [201907]\n",
      "product_id a validar: 62060\n"
     ]
    },
    {
     "name": "stderr",
     "output_type": "stream",
     "text": [
      "[I 2023-12-21 14:52:29,148] A new study created in memory with name: no-name-d5ea14a6-a3d1-4a78-a67d-73eccb00eaf3\n"
     ]
    },
    {
     "name": "stdout",
     "output_type": "stream",
     "text": [
      "X_train: (1355190, 120)\n",
      "y_train: (1355190,)\n",
      "\n",
      "X_validate: (62060, 120)\n",
      "y_validate: (62060,)\n",
      "Optimizacion Bayesiana\n",
      "**************** tweedie ****************\n",
      "Training until validation scores don't improve for 393 rounds\n",
      "[100]\tvalid_0's ER: 106.71\n",
      "[200]\tvalid_0's ER: 89.05\n",
      "[300]\tvalid_0's ER: 84.28\n",
      "[400]\tvalid_0's ER: 83.08\n",
      "[500]\tvalid_0's ER: 83.32\n",
      "[600]\tvalid_0's ER: 83.15\n",
      "[700]\tvalid_0's ER: 83.02\n",
      "[800]\tvalid_0's ER: 82.82\n",
      "[900]\tvalid_0's ER: 82.64\n",
      "[1000]\tvalid_0's ER: 82.48\n",
      "[1100]\tvalid_0's ER: 82.31\n",
      "[1200]\tvalid_0's ER: 82.12\n",
      "[1300]\tvalid_0's ER: 81.99\n",
      "[1400]\tvalid_0's ER: 81.78\n",
      "[1500]\tvalid_0's ER: 81.65\n",
      "[1600]\tvalid_0's ER: 81.5\n",
      "[1700]\tvalid_0's ER: 81.43\n",
      "[1800]\tvalid_0's ER: 81.16\n",
      "[1900]\tvalid_0's ER: 81.01\n",
      "[2000]\tvalid_0's ER: 80.94\n",
      "[2100]\tvalid_0's ER: 80.77\n",
      "[2200]\tvalid_0's ER: 80.64\n",
      "[2300]\tvalid_0's ER: 80.6\n",
      "[2400]\tvalid_0's ER: 80.5\n",
      "[2500]\tvalid_0's ER: 80.5\n",
      "[2600]\tvalid_0's ER: 80.45\n",
      "[2700]\tvalid_0's ER: 80.35\n",
      "[2800]\tvalid_0's ER: 80.33\n",
      "[2900]\tvalid_0's ER: 80.35\n",
      "[3000]\tvalid_0's ER: 80.29\n",
      "[3100]\tvalid_0's ER: 80.29\n",
      "[3200]\tvalid_0's ER: 80.27\n",
      "[3300]\tvalid_0's ER: 80.23\n",
      "[3400]\tvalid_0's ER: 80.19\n",
      "[3500]\tvalid_0's ER: 80.2\n",
      "[3600]\tvalid_0's ER: 80.15\n",
      "[3700]\tvalid_0's ER: 80.12\n",
      "[3800]\tvalid_0's ER: 80.05\n",
      "[3900]\tvalid_0's ER: 80.02\n",
      "[4000]\tvalid_0's ER: 80\n",
      "[4100]\tvalid_0's ER: 79.99\n",
      "[4200]\tvalid_0's ER: 80\n",
      "[4300]\tvalid_0's ER: 79.96\n",
      "[4400]\tvalid_0's ER: 79.95\n",
      "[4500]\tvalid_0's ER: 79.92\n",
      "[4600]\tvalid_0's ER: 79.88\n",
      "[4700]\tvalid_0's ER: 79.87\n",
      "[4800]\tvalid_0's ER: 79.86\n",
      "[4900]\tvalid_0's ER: 79.85\n",
      "[5000]\tvalid_0's ER: 79.81\n",
      "[5100]\tvalid_0's ER: 79.79\n",
      "[5200]\tvalid_0's ER: 79.78\n",
      "[5300]\tvalid_0's ER: 79.77\n",
      "[5400]\tvalid_0's ER: 79.72\n",
      "[5500]\tvalid_0's ER: 79.7\n",
      "[5600]\tvalid_0's ER: 79.7\n",
      "[5700]\tvalid_0's ER: 79.67\n",
      "[5800]\tvalid_0's ER: 79.64\n",
      "[5900]\tvalid_0's ER: 79.61\n",
      "[6000]\tvalid_0's ER: 79.59\n",
      "[6100]\tvalid_0's ER: 79.55\n",
      "[6200]\tvalid_0's ER: 79.53\n",
      "[6300]\tvalid_0's ER: 79.48\n",
      "[6400]\tvalid_0's ER: 79.47\n",
      "[6500]\tvalid_0's ER: 79.46\n",
      "[6600]\tvalid_0's ER: 79.46\n",
      "[6700]\tvalid_0's ER: 79.44\n",
      "[6800]\tvalid_0's ER: 79.44\n",
      "[6900]\tvalid_0's ER: 79.43\n",
      "[7000]\tvalid_0's ER: 79.43\n",
      "[7100]\tvalid_0's ER: 79.44\n",
      "[7200]\tvalid_0's ER: 79.43\n",
      "Early stopping, best iteration is:\n",
      "[6840]\tvalid_0's ER: 79.41\n",
      "Evaluated only: ER\n"
     ]
    },
    {
     "name": "stderr",
     "output_type": "stream",
     "text": [
      "[I 2023-12-21 15:26:51,301] Trial 0 finished with value: 79.41 and parameters: {'lambda_l1': 104.11303923131831, 'lambda_l2': 648.2587698823679, 'learning_rate': 0.014558161626047816, 'num_leaves': 98, 'feature_fraction': 0.6613769678450885, 'min_data_in_leaf': 7607}. Best is trial 0 with value: 79.41.\n"
     ]
    },
    {
     "name": "stdout",
     "output_type": "stream",
     "text": [
      "**************** tweedie ****************\n",
      "Training until validation scores don't improve for 206 rounds\n",
      "[100]\tvalid_0's ER: 88.38\n",
      "[200]\tvalid_0's ER: 83.23\n",
      "[300]\tvalid_0's ER: 82.82\n",
      "[400]\tvalid_0's ER: 82.58\n",
      "[500]\tvalid_0's ER: 82.42\n",
      "[600]\tvalid_0's ER: 82.15\n",
      "[700]\tvalid_0's ER: 82.04\n",
      "[800]\tvalid_0's ER: 81.94\n",
      "[900]\tvalid_0's ER: 81.91\n",
      "[1000]\tvalid_0's ER: 81.91\n",
      "Early stopping, best iteration is:\n",
      "[847]\tvalid_0's ER: 81.91\n",
      "Evaluated only: ER\n"
     ]
    },
    {
     "name": "stderr",
     "output_type": "stream",
     "text": [
      "[I 2023-12-21 15:30:34,463] Trial 1 finished with value: 81.91 and parameters: {'lambda_l1': 466.87017263212925, 'lambda_l2': 954.8618468296818, 'learning_rate': 0.031963003942009204, 'num_leaves': 225, 'feature_fraction': 0.6661675644941873, 'min_data_in_leaf': 5202}. Best is trial 0 with value: 79.41.\n"
     ]
    },
    {
     "name": "stdout",
     "output_type": "stream",
     "text": [
      "**************** tweedie ****************\n",
      "Training until validation scores don't improve for 74 rounds\n",
      "[100]\tvalid_0's ER: 83.7\n",
      "Early stopping, best iteration is:\n",
      "[110]\tvalid_0's ER: 83.56\n",
      "Evaluated only: ER\n"
     ]
    },
    {
     "name": "stderr",
     "output_type": "stream",
     "text": [
      "[I 2023-12-21 15:31:04,675] Trial 2 finished with value: 83.56 and parameters: {'lambda_l1': 510.66455570827253, 'lambda_l2': 446.32150029968363, 'learning_rate': 0.20488253801344597, 'num_leaves': 27, 'feature_fraction': 0.5270295779248764, 'min_data_in_leaf': 7133}. Best is trial 0 with value: 79.41.\n"
     ]
    },
    {
     "name": "stdout",
     "output_type": "stream",
     "text": [
      "**************** tweedie ****************\n",
      "Training until validation scores don't improve for 218 rounds\n",
      "[100]\tvalid_0's ER: 89.55\n",
      "[200]\tvalid_0's ER: 83.46\n",
      "[300]\tvalid_0's ER: 83.21\n",
      "[400]\tvalid_0's ER: 82.88\n",
      "[500]\tvalid_0's ER: 82.48\n",
      "[600]\tvalid_0's ER: 82.31\n",
      "[700]\tvalid_0's ER: 82.3\n",
      "[800]\tvalid_0's ER: 82.3\n",
      "Early stopping, best iteration is:\n",
      "[627]\tvalid_0's ER: 82.3\n",
      "Evaluated only: ER\n"
     ]
    },
    {
     "name": "stderr",
     "output_type": "stream",
     "text": [
      "[I 2023-12-21 15:34:10,200] Trial 3 finished with value: 82.3 and parameters: {'lambda_l1': 522.7662072940998, 'lambda_l2': 964.0220237586564, 'learning_rate': 0.02962754850171717, 'num_leaves': 48, 'feature_fraction': 0.9525044251856767, 'min_data_in_leaf': 3188}. Best is trial 0 with value: 79.41.\n"
     ]
    },
    {
     "name": "stdout",
     "output_type": "stream",
     "text": [
      "**************** tweedie ****************\n",
      "Training until validation scores don't improve for 77 rounds\n",
      "[100]\tvalid_0's ER: 85.26\n",
      "Early stopping, best iteration is:\n",
      "[62]\tvalid_0's ER: 85.26\n",
      "Evaluated only: ER\n"
     ]
    },
    {
     "name": "stderr",
     "output_type": "stream",
     "text": [
      "[I 2023-12-21 15:34:58,122] Trial 4 finished with value: 85.26 and parameters: {'lambda_l1': 816.8958898766222, 'lambda_l2': 585.056685727659, 'learning_rate': 0.18357836579192924, 'num_leaves': 535, 'feature_fraction': 0.9034497466873126, 'min_data_in_leaf': 475}. Best is trial 0 with value: 79.41.\n"
     ]
    },
    {
     "name": "stdout",
     "output_type": "stream",
     "text": [
      "**************** tweedie ****************\n",
      "Training until validation scores don't improve for 114 rounds\n",
      "[100]\tvalid_0's ER: 82.85\n",
      "[200]\tvalid_0's ER: 82.81\n",
      "[300]\tvalid_0's ER: 82.72\n",
      "Early stopping, best iteration is:\n",
      "[225]\tvalid_0's ER: 82.72\n",
      "Evaluated only: ER\n"
     ]
    },
    {
     "name": "stderr",
     "output_type": "stream",
     "text": [
      "[I 2023-12-21 15:36:04,527] Trial 5 finished with value: 82.72 and parameters: {'lambda_l1': 610.3273313825326, 'lambda_l2': 614.8081368782447, 'learning_rate': 0.07780713189274392, 'num_leaves': 382, 'feature_fraction': 0.7389074673980021, 'min_data_in_leaf': 2973}. Best is trial 0 with value: 79.41.\n"
     ]
    },
    {
     "name": "stdout",
     "output_type": "stream",
     "text": [
      "**************** tweedie ****************\n",
      "Training until validation scores don't improve for 87 rounds\n",
      "[100]\tvalid_0's ER: 82.25\n",
      "[200]\tvalid_0's ER: 81.8\n",
      "[300]\tvalid_0's ER: 81.65\n",
      "Early stopping, best iteration is:\n",
      "[221]\tvalid_0's ER: 81.61\n",
      "Evaluated only: ER\n"
     ]
    },
    {
     "name": "stderr",
     "output_type": "stream",
     "text": [
      "[I 2023-12-21 15:36:49,191] Trial 6 finished with value: 81.61 and parameters: {'lambda_l1': 407.0858809549186, 'lambda_l2': 589.1814413144497, 'learning_rate': 0.13273751972389772, 'num_leaves': 962, 'feature_fraction': 0.37549277268336223, 'min_data_in_leaf': 2961}. Best is trial 0 with value: 79.41.\n"
     ]
    },
    {
     "name": "stdout",
     "output_type": "stream",
     "text": [
      "**************** tweedie ****************\n",
      "Training until validation scores don't improve for 77 rounds\n",
      "[100]\tvalid_0's ER: 82.91\n",
      "[200]\tvalid_0's ER: 82.05\n",
      "[300]\tvalid_0's ER: 81.54\n",
      "Early stopping, best iteration is:\n",
      "[260]\tvalid_0's ER: 81.22\n",
      "Evaluated only: ER\n"
     ]
    },
    {
     "name": "stderr",
     "output_type": "stream",
     "text": [
      "[I 2023-12-21 15:38:25,119] Trial 7 finished with value: 81.22 and parameters: {'lambda_l1': 146.3091654357872, 'lambda_l2': 660.2117331901071, 'learning_rate': 0.1806800475437607, 'num_leaves': 965, 'feature_fraction': 0.7025951803376531, 'min_data_in_leaf': 5256}. Best is trial 0 with value: 79.41.\n"
     ]
    },
    {
     "name": "stdout",
     "output_type": "stream",
     "text": [
      "**************** tweedie ****************\n",
      "Training until validation scores don't improve for 93 rounds\n",
      "[100]\tvalid_0's ER: 82.77\n",
      "[200]\tvalid_0's ER: 82.57\n",
      "Early stopping, best iteration is:\n",
      "[138]\tvalid_0's ER: 82.52\n",
      "Evaluated only: ER\n"
     ]
    },
    {
     "name": "stderr",
     "output_type": "stream",
     "text": [
      "[I 2023-12-21 15:39:09,815] Trial 8 finished with value: 82.52 and parameters: {'lambda_l1': 667.6699014429215, 'lambda_l2': 340.9181259247097, 'learning_rate': 0.11395339670037684, 'num_leaves': 346, 'feature_fraction': 0.699470584443723, 'min_data_in_leaf': 5210}. Best is trial 0 with value: 79.41.\n"
     ]
    },
    {
     "name": "stdout",
     "output_type": "stream",
     "text": [
      "**************** tweedie ****************\n",
      "Training until validation scores don't improve for 81 rounds\n",
      "[100]\tvalid_0's ER: 82.65\n",
      "[200]\tvalid_0's ER: 81.3\n",
      "[300]\tvalid_0's ER: 80.97\n",
      "Early stopping, best iteration is:\n",
      "[295]\tvalid_0's ER: 80.86\n",
      "Evaluated only: ER\n"
     ]
    },
    {
     "name": "stderr",
     "output_type": "stream",
     "text": [
      "[I 2023-12-21 15:41:05,019] Trial 9 finished with value: 80.86 and parameters: {'lambda_l1': 85.7390537310777, 'lambda_l2': 712.6036434512139, 'learning_rate': 0.15740736504215835, 'num_leaves': 723, 'feature_fraction': 0.7296052843085572, 'min_data_in_leaf': 4860}. Best is trial 0 with value: 79.41.\n"
     ]
    },
    {
     "name": "stdout",
     "output_type": "stream",
     "text": [
      "# Experimentos: 10\n",
      "Mejor experimento: {'lambda_l1': 104.11303923131831, 'lambda_l2': 648.2587698823679, 'learning_rate': 0.014558161626047816, 'num_leaves': 98, 'feature_fraction': 0.6613769678450885, 'min_data_in_leaf': 7607}\n",
      "=========================================== Cluster 4 ===========================================\n"
     ]
    },
    {
     "name": "stderr",
     "output_type": "stream",
     "text": [
      "[I 2023-12-21 15:41:09,529] A new study created in memory with name: no-name-70604a87-5bae-468e-95da-98e872a9ea66\n"
     ]
    },
    {
     "name": "stdout",
     "output_type": "stream",
     "text": [
      "Periodos entrenar: [201701 201702 201703 201704 201705 201706 201707 201708 201709 201710\n",
      " 201711 201712 201801 201802 201803 201804 201805 201806 201807 201808\n",
      " 201809 201810 201811 201812 201901 201902 201903 201904 201905]\n",
      "Periodos validar: [201907]\n",
      "product_id a validar: 6380\n",
      "X_train: (160411, 120)\n",
      "y_train: (160411,)\n",
      "\n",
      "X_validate: (6380, 120)\n",
      "y_validate: (6380,)\n",
      "Optimizacion Bayesiana\n",
      "**************** tweedie ****************\n",
      "Training until validation scores don't improve for 111 rounds\n",
      "[100]\tvalid_0's ER: 89.15\n",
      "[200]\tvalid_0's ER: 88.27\n"
     ]
    },
    {
     "name": "stderr",
     "output_type": "stream",
     "text": [
      "[I 2023-12-21 15:41:15,235] Trial 0 finished with value: 88.27 and parameters: {'lambda_l1': 432.49432902277454, 'lambda_l2': 704.7925019610111, 'learning_rate': 0.08194525248273485, 'num_leaves': 1006, 'feature_fraction': 0.47096323783929245, 'min_data_in_leaf': 4881}. Best is trial 0 with value: 88.27.\n"
     ]
    },
    {
     "name": "stdout",
     "output_type": "stream",
     "text": [
      "[300]\tvalid_0's ER: 88.31\n",
      "Early stopping, best iteration is:\n",
      "[199]\tvalid_0's ER: 88.25\n",
      "Evaluated only: ER\n",
      "**************** tweedie ****************\n",
      "Training until validation scores don't improve for 117 rounds\n",
      "[100]\tvalid_0's ER: 88.54\n"
     ]
    },
    {
     "name": "stderr",
     "output_type": "stream",
     "text": [
      "[I 2023-12-21 15:41:18,587] Trial 1 finished with value: 88.38 and parameters: {'lambda_l1': 923.1506331737186, 'lambda_l2': 253.34558708355826, 'learning_rate': 0.07420787025171881, 'num_leaves': 907, 'feature_fraction': 0.2358284310437746, 'min_data_in_leaf': 2076}. Best is trial 0 with value: 88.27.\n"
     ]
    },
    {
     "name": "stdout",
     "output_type": "stream",
     "text": [
      "[200]\tvalid_0's ER: 89.18\n",
      "Early stopping, best iteration is:\n",
      "[93]\tvalid_0's ER: 88.38\n",
      "Evaluated only: ER\n",
      "**************** tweedie ****************\n",
      "Training until validation scores don't improve for 121 rounds\n",
      "[100]\tvalid_0's ER: 87.43\n",
      "[200]\tvalid_0's ER: 87.43\n"
     ]
    },
    {
     "name": "stderr",
     "output_type": "stream",
     "text": [
      "[I 2023-12-21 15:41:24,433] Trial 2 finished with value: 87.11 and parameters: {'lambda_l1': 388.47456121771893, 'lambda_l2': 709.8259609227899, 'learning_rate': 0.07000201298726921, 'num_leaves': 59, 'feature_fraction': 0.5495314229179394, 'min_data_in_leaf': 1714}. Best is trial 2 with value: 87.11.\n"
     ]
    },
    {
     "name": "stdout",
     "output_type": "stream",
     "text": [
      "Early stopping, best iteration is:\n",
      "[133]\tvalid_0's ER: 87.11\n",
      "Evaluated only: ER\n",
      "**************** tweedie ****************\n",
      "Training until validation scores don't improve for 271 rounds\n",
      "[100]\tvalid_0's ER: 94.06\n",
      "[200]\tvalid_0's ER: 86.84\n",
      "[300]\tvalid_0's ER: 86.97\n",
      "[400]\tvalid_0's ER: 86.97\n"
     ]
    },
    {
     "name": "stderr",
     "output_type": "stream",
     "text": [
      "[I 2023-12-21 15:41:34,081] Trial 3 finished with value: 86.65 and parameters: {'lambda_l1': 575.6054735029352, 'lambda_l2': 190.14681508197285, 'learning_rate': 0.02258782094440838, 'num_leaves': 360, 'feature_fraction': 0.43028904944710766, 'min_data_in_leaf': 2141}. Best is trial 3 with value: 86.65.\n"
     ]
    },
    {
     "name": "stdout",
     "output_type": "stream",
     "text": [
      "[500]\tvalid_0's ER: 87.15\n",
      "Early stopping, best iteration is:\n",
      "[239]\tvalid_0's ER: 86.65\n",
      "Evaluated only: ER\n",
      "**************** tweedie ****************\n",
      "Training until validation scores don't improve for 73 rounds\n"
     ]
    },
    {
     "name": "stderr",
     "output_type": "stream",
     "text": [
      "[I 2023-12-21 15:41:37,064] Trial 4 finished with value: 85.19 and parameters: {'lambda_l1': 607.1405798442187, 'lambda_l2': 148.43208874410874, 'learning_rate': 0.2153888280570222, 'num_leaves': 589, 'feature_fraction': 0.4024813125720348, 'min_data_in_leaf': 284}. Best is trial 4 with value: 85.19.\n"
     ]
    },
    {
     "name": "stdout",
     "output_type": "stream",
     "text": [
      "[100]\tvalid_0's ER: 86.34\n",
      "Early stopping, best iteration is:\n",
      "[30]\tvalid_0's ER: 85.19\n",
      "Evaluated only: ER\n",
      "**************** tweedie ****************\n",
      "Training until validation scores don't improve for 103 rounds\n",
      "[100]\tvalid_0's ER: 89.25\n",
      "[200]\tvalid_0's ER: 88.64\n"
     ]
    },
    {
     "name": "stderr",
     "output_type": "stream",
     "text": [
      "[I 2023-12-21 15:41:42,734] Trial 5 finished with value: 88.64 and parameters: {'lambda_l1': 392.8320997474999, 'lambda_l2': 78.99912016194189, 'learning_rate': 0.09421882585440869, 'num_leaves': 826, 'feature_fraction': 0.9081884598399408, 'min_data_in_leaf': 7556}. Best is trial 4 with value: 85.19.\n"
     ]
    },
    {
     "name": "stdout",
     "output_type": "stream",
     "text": [
      "Early stopping, best iteration is:\n",
      "[137]\tvalid_0's ER: 88.64\n",
      "Evaluated only: ER\n",
      "**************** tweedie ****************\n",
      "Training until validation scores don't improve for 74 rounds\n",
      "[100]\tvalid_0's ER: 87.35\n"
     ]
    },
    {
     "name": "stderr",
     "output_type": "stream",
     "text": [
      "[I 2023-12-21 15:41:47,332] Trial 6 finished with value: 87.29 and parameters: {'lambda_l1': 242.4034769269898, 'lambda_l2': 786.1299221937041, 'learning_rate': 0.2005901835101103, 'num_leaves': 526, 'feature_fraction': 0.9018097678519714, 'min_data_in_leaf': 6005}. Best is trial 4 with value: 85.19.\n"
     ]
    },
    {
     "name": "stdout",
     "output_type": "stream",
     "text": [
      "Early stopping, best iteration is:\n",
      "[105]\tvalid_0's ER: 87.29\n",
      "Evaluated only: ER\n",
      "**************** tweedie ****************\n",
      "Training until validation scores don't improve for 66 rounds\n"
     ]
    },
    {
     "name": "stderr",
     "output_type": "stream",
     "text": [
      "[I 2023-12-21 15:41:50,700] Trial 7 finished with value: 87.8 and parameters: {'lambda_l1': 203.01629994049887, 'lambda_l2': 992.9500880983521, 'learning_rate': 0.29569336510871796, 'num_leaves': 599, 'feature_fraction': 0.9971976901536406, 'min_data_in_leaf': 1574}. Best is trial 4 with value: 85.19.\n"
     ]
    },
    {
     "name": "stdout",
     "output_type": "stream",
     "text": [
      "Early stopping, best iteration is:\n",
      "[13]\tvalid_0's ER: 87.8\n",
      "Evaluated only: ER\n",
      "**************** tweedie ****************\n",
      "Training until validation scores don't improve for 88 rounds\n",
      "[100]\tvalid_0's ER: 86.51\n"
     ]
    },
    {
     "name": "stderr",
     "output_type": "stream",
     "text": [
      "[I 2023-12-21 15:41:56,253] Trial 8 finished with value: 85.22 and parameters: {'lambda_l1': 363.5261732855445, 'lambda_l2': 17.287797201117616, 'learning_rate': 0.12978749222119276, 'num_leaves': 886, 'feature_fraction': 0.9443444078001313, 'min_data_in_leaf': 212}. Best is trial 4 with value: 85.19.\n"
     ]
    },
    {
     "name": "stdout",
     "output_type": "stream",
     "text": [
      "Early stopping, best iteration is:\n",
      "[33]\tvalid_0's ER: 85.22\n",
      "Evaluated only: ER\n",
      "**************** tweedie ****************\n",
      "Training until validation scores don't improve for 68 rounds\n"
     ]
    },
    {
     "name": "stderr",
     "output_type": "stream",
     "text": [
      "[I 2023-12-21 15:41:59,206] Trial 9 finished with value: 86.28 and parameters: {'lambda_l1': 482.89675629948516, 'lambda_l2': 90.08509562819644, 'learning_rate': 0.26677855327292155, 'num_leaves': 972, 'feature_fraction': 0.910703265377766, 'min_data_in_leaf': 3104}. Best is trial 4 with value: 85.19.\n"
     ]
    },
    {
     "name": "stdout",
     "output_type": "stream",
     "text": [
      "[100]\tvalid_0's ER: 86.38\n",
      "Early stopping, best iteration is:\n",
      "[39]\tvalid_0's ER: 86.28\n",
      "Evaluated only: ER\n",
      "# Experimentos: 10\n",
      "Mejor experimento: {'lambda_l1': 607.1405798442187, 'lambda_l2': 148.43208874410874, 'learning_rate': 0.2153888280570222, 'num_leaves': 589, 'feature_fraction': 0.4024813125720348, 'min_data_in_leaf': 284}\n",
      "=========================================== Cluster 5 ===========================================\n",
      "Periodos entrenar: [201701 201702 201703 201704 201705 201706 201707 201708 201709 201710\n",
      " 201711 201712 201801 201802 201803 201804 201805 201806 201807 201808\n",
      " 201809 201810 201811 201812 201901 201902 201903 201904 201905]\n",
      "Periodos validar: [201907]\n",
      "product_id a validar: 26680\n"
     ]
    },
    {
     "name": "stderr",
     "output_type": "stream",
     "text": [
      "[I 2023-12-21 15:42:16,588] A new study created in memory with name: no-name-8e89147e-a119-4e41-b117-130ea017c69b\n"
     ]
    },
    {
     "name": "stdout",
     "output_type": "stream",
     "text": [
      "X_train: (607646, 120)\n",
      "y_train: (607646,)\n",
      "\n",
      "X_validate: (26680, 120)\n",
      "y_validate: (26680,)\n",
      "Optimizacion Bayesiana\n",
      "**************** tweedie ****************\n",
      "Training until validation scores don't improve for 126 rounds\n",
      "[100]\tvalid_0's ER: 113.55\n",
      "[200]\tvalid_0's ER: 112.06\n",
      "[300]\tvalid_0's ER: 111.33\n",
      "[400]\tvalid_0's ER: 111.64\n",
      "Early stopping, best iteration is:\n",
      "[338]\tvalid_0's ER: 110.87\n",
      "Evaluated only: ER\n"
     ]
    },
    {
     "name": "stderr",
     "output_type": "stream",
     "text": [
      "[I 2023-12-21 15:43:30,336] Trial 0 finished with value: 110.87 and parameters: {'lambda_l1': 134.99581409973703, 'lambda_l2': 484.4300396139627, 'learning_rate': 0.06578037992440115, 'num_leaves': 382, 'feature_fraction': 0.9156445220244072, 'min_data_in_leaf': 2196}. Best is trial 0 with value: 110.87.\n"
     ]
    },
    {
     "name": "stdout",
     "output_type": "stream",
     "text": [
      "**************** tweedie ****************\n",
      "Training until validation scores don't improve for 77 rounds\n",
      "[100]\tvalid_0's ER: 115.7\n"
     ]
    },
    {
     "name": "stderr",
     "output_type": "stream",
     "text": [
      "[I 2023-12-21 15:43:43,688] Trial 1 finished with value: 115.52 and parameters: {'lambda_l1': 682.0808870358326, 'lambda_l2': 425.9639189480049, 'learning_rate': 0.182423706952483, 'num_leaves': 201, 'feature_fraction': 0.47366011210211867, 'min_data_in_leaf': 2596}. Best is trial 0 with value: 110.87.\n"
     ]
    },
    {
     "name": "stdout",
     "output_type": "stream",
     "text": [
      "Early stopping, best iteration is:\n",
      "[95]\tvalid_0's ER: 115.52\n",
      "Evaluated only: ER\n",
      "**************** tweedie ****************\n",
      "Training until validation scores don't improve for 270 rounds\n",
      "[100]\tvalid_0's ER: 120.69\n",
      "[200]\tvalid_0's ER: 117.5\n",
      "[300]\tvalid_0's ER: 114.49\n",
      "[400]\tvalid_0's ER: 112.97\n",
      "[500]\tvalid_0's ER: 111.61\n",
      "[600]\tvalid_0's ER: 110.67\n",
      "[700]\tvalid_0's ER: 110.1\n",
      "[800]\tvalid_0's ER: 109.51\n",
      "[900]\tvalid_0's ER: 108.97\n",
      "[1000]\tvalid_0's ER: 108.54\n",
      "[1100]\tvalid_0's ER: 107.84\n",
      "[1200]\tvalid_0's ER: 107.66\n",
      "[1300]\tvalid_0's ER: 107.31\n",
      "[1400]\tvalid_0's ER: 107.07\n",
      "[1500]\tvalid_0's ER: 106.86\n",
      "[1600]\tvalid_0's ER: 106.62\n",
      "[1700]\tvalid_0's ER: 106.41\n",
      "[1800]\tvalid_0's ER: 106.32\n",
      "[1900]\tvalid_0's ER: 106.12\n",
      "[2000]\tvalid_0's ER: 106.22\n",
      "[2100]\tvalid_0's ER: 105.99\n",
      "[2200]\tvalid_0's ER: 105.79\n",
      "[2300]\tvalid_0's ER: 105.54\n",
      "[2400]\tvalid_0's ER: 105.47\n",
      "[2500]\tvalid_0's ER: 105.32\n",
      "[2600]\tvalid_0's ER: 105.2\n",
      "[2700]\tvalid_0's ER: 105.14\n",
      "[2800]\tvalid_0's ER: 105.15\n",
      "[2900]\tvalid_0's ER: 105.04\n",
      "[3000]\tvalid_0's ER: 104.94\n",
      "[3100]\tvalid_0's ER: 104.77\n",
      "[3200]\tvalid_0's ER: 104.75\n",
      "[3300]\tvalid_0's ER: 104.62\n",
      "[3400]\tvalid_0's ER: 104.53\n",
      "[3500]\tvalid_0's ER: 104.48\n",
      "[3600]\tvalid_0's ER: 104.41\n",
      "[3700]\tvalid_0's ER: 104.33\n",
      "[3800]\tvalid_0's ER: 104.28\n",
      "[3900]\tvalid_0's ER: 104.16\n",
      "[4000]\tvalid_0's ER: 104.06\n",
      "[4100]\tvalid_0's ER: 104.11\n",
      "[4200]\tvalid_0's ER: 104.14\n",
      "Early stopping, best iteration is:\n",
      "[3979]\tvalid_0's ER: 104.02\n",
      "Evaluated only: ER\n"
     ]
    },
    {
     "name": "stderr",
     "output_type": "stream",
     "text": [
      "[I 2023-12-21 15:50:10,868] Trial 2 finished with value: 104.02 and parameters: {'lambda_l1': 31.527347984814934, 'lambda_l2': 3.4381933702247736, 'learning_rate': 0.022714086678190106, 'num_leaves': 415, 'feature_fraction': 0.4689847425640892, 'min_data_in_leaf': 6935}. Best is trial 2 with value: 104.02.\n"
     ]
    },
    {
     "name": "stdout",
     "output_type": "stream",
     "text": [
      "**************** tweedie ****************\n",
      "Training until validation scores don't improve for 70 rounds\n",
      "[100]\tvalid_0's ER: 97.94\n",
      "[200]\tvalid_0's ER: 95.99\n",
      "Early stopping, best iteration is:\n",
      "[134]\tvalid_0's ER: 95.9\n",
      "Evaluated only: ER\n"
     ]
    },
    {
     "name": "stderr",
     "output_type": "stream",
     "text": [
      "[I 2023-12-21 15:50:56,852] Trial 3 finished with value: 95.9 and parameters: {'lambda_l1': 273.99229276284854, 'lambda_l2': 959.8907034336834, 'learning_rate': 0.24623176644104977, 'num_leaves': 724, 'feature_fraction': 0.5546473835977024, 'min_data_in_leaf': 348}. Best is trial 3 with value: 95.9.\n"
     ]
    },
    {
     "name": "stdout",
     "output_type": "stream",
     "text": [
      "**************** tweedie ****************\n",
      "Training until validation scores don't improve for 67 rounds\n",
      "[100]\tvalid_0's ER: 114.76\n"
     ]
    },
    {
     "name": "stderr",
     "output_type": "stream",
     "text": [
      "[I 2023-12-21 15:51:10,313] Trial 4 finished with value: 114.68 and parameters: {'lambda_l1': 615.5023646333605, 'lambda_l2': 903.4255719140245, 'learning_rate': 0.2930673206223921, 'num_leaves': 369, 'feature_fraction': 0.5336617228419853, 'min_data_in_leaf': 4322}. Best is trial 3 with value: 95.9.\n"
     ]
    },
    {
     "name": "stdout",
     "output_type": "stream",
     "text": [
      "Early stopping, best iteration is:\n",
      "[93]\tvalid_0's ER: 114.68\n",
      "Evaluated only: ER\n",
      "**************** tweedie ****************\n",
      "Training until validation scores don't improve for 75 rounds\n",
      "[100]\tvalid_0's ER: 112.19\n",
      "[200]\tvalid_0's ER: 111.26\n",
      "[300]\tvalid_0's ER: 110.9\n"
     ]
    },
    {
     "name": "stderr",
     "output_type": "stream",
     "text": [
      "[I 2023-12-21 15:51:44,937] Trial 5 finished with value: 110.84 and parameters: {'lambda_l1': 393.3856715193604, 'lambda_l2': 450.02702170101026, 'learning_rate': 0.1989478335655613, 'num_leaves': 285, 'feature_fraction': 0.8677900016577069, 'min_data_in_leaf': 7707}. Best is trial 3 with value: 95.9.\n"
     ]
    },
    {
     "name": "stdout",
     "output_type": "stream",
     "text": [
      "Early stopping, best iteration is:\n",
      "[254]\tvalid_0's ER: 110.84\n",
      "Evaluated only: ER\n",
      "**************** tweedie ****************\n",
      "Training until validation scores don't improve for 85 rounds\n",
      "[100]\tvalid_0's ER: 108.07\n",
      "[200]\tvalid_0's ER: 104.39\n",
      "[300]\tvalid_0's ER: 102.75\n",
      "[400]\tvalid_0's ER: 101.29\n",
      "[500]\tvalid_0's ER: 100.32\n",
      "[600]\tvalid_0's ER: 98.83\n",
      "[700]\tvalid_0's ER: 98.24\n",
      "[800]\tvalid_0's ER: 97.33\n",
      "[900]\tvalid_0's ER: 97.21\n",
      "[1000]\tvalid_0's ER: 97.29\n",
      "Early stopping, best iteration is:\n",
      "[915]\tvalid_0's ER: 97.12\n",
      "Evaluated only: ER\n"
     ]
    },
    {
     "name": "stderr",
     "output_type": "stream",
     "text": [
      "[I 2023-12-21 15:55:00,225] Trial 6 finished with value: 97.12 and parameters: {'lambda_l1': 12.770203164653605, 'lambda_l2': 428.2825670723586, 'learning_rate': 0.13989459038280194, 'num_leaves': 479, 'feature_fraction': 0.8532013056572365, 'min_data_in_leaf': 1656}. Best is trial 3 with value: 95.9.\n"
     ]
    },
    {
     "name": "stdout",
     "output_type": "stream",
     "text": [
      "**************** tweedie ****************\n",
      "Training until validation scores don't improve for 111 rounds\n",
      "[100]\tvalid_0's ER: 113.47\n",
      "[200]\tvalid_0's ER: 112.1\n",
      "[300]\tvalid_0's ER: 111\n",
      "[400]\tvalid_0's ER: 110.27\n",
      "Early stopping, best iteration is:\n",
      "[375]\tvalid_0's ER: 110.18\n",
      "Evaluated only: ER\n"
     ]
    },
    {
     "name": "stderr",
     "output_type": "stream",
     "text": [
      "[I 2023-12-21 15:55:57,677] Trial 7 finished with value: 110.18 and parameters: {'lambda_l1': 339.01533442248257, 'lambda_l2': 657.460724105459, 'learning_rate': 0.08096104489851982, 'num_leaves': 172, 'feature_fraction': 0.8113420207131934, 'min_data_in_leaf': 1684}. Best is trial 3 with value: 95.9.\n"
     ]
    },
    {
     "name": "stdout",
     "output_type": "stream",
     "text": [
      "**************** tweedie ****************\n",
      "Training until validation scores don't improve for 100 rounds\n",
      "[100]\tvalid_0's ER: 115.4\n",
      "[200]\tvalid_0's ER: 113.9\n",
      "[300]\tvalid_0's ER: 113.43\n"
     ]
    },
    {
     "name": "stderr",
     "output_type": "stream",
     "text": [
      "[I 2023-12-21 15:56:31,898] Trial 8 finished with value: 113.43 and parameters: {'lambda_l1': 526.47204925594, 'lambda_l2': 43.39720935470115, 'learning_rate': 0.09902985712291155, 'num_leaves': 948, 'feature_fraction': 0.8219196384631711, 'min_data_in_leaf': 7549}. Best is trial 3 with value: 95.9.\n"
     ]
    },
    {
     "name": "stdout",
     "output_type": "stream",
     "text": [
      "Early stopping, best iteration is:\n",
      "[246]\tvalid_0's ER: 113.43\n",
      "Evaluated only: ER\n",
      "**************** tweedie ****************\n",
      "Training until validation scores don't improve for 72 rounds\n",
      "[100]\tvalid_0's ER: 114.21\n"
     ]
    },
    {
     "name": "stderr",
     "output_type": "stream",
     "text": [
      "[I 2023-12-21 15:56:47,165] Trial 9 finished with value: 114.02 and parameters: {'lambda_l1': 728.1752539367968, 'lambda_l2': 798.9574265616632, 'learning_rate': 0.2266493302477209, 'num_leaves': 268, 'feature_fraction': 0.5725840659513635, 'min_data_in_leaf': 5244}. Best is trial 3 with value: 95.9.\n"
     ]
    },
    {
     "name": "stdout",
     "output_type": "stream",
     "text": [
      "Early stopping, best iteration is:\n",
      "[107]\tvalid_0's ER: 114.02\n",
      "Evaluated only: ER\n",
      "# Experimentos: 10\n",
      "Mejor experimento: {'lambda_l1': 273.99229276284854, 'lambda_l2': 959.8907034336834, 'learning_rate': 0.24623176644104977, 'num_leaves': 724, 'feature_fraction': 0.5546473835977024, 'min_data_in_leaf': 348}\n",
      "=========================================== Cluster 6 ===========================================\n"
     ]
    },
    {
     "name": "stderr",
     "output_type": "stream",
     "text": [
      "[I 2023-12-21 15:56:52,397] A new study created in memory with name: no-name-ad1ce7e4-961d-459a-b55c-683f2e2a62e7\n"
     ]
    },
    {
     "name": "stdout",
     "output_type": "stream",
     "text": [
      "Periodos entrenar: [201701 201702 201703 201704 201705 201706 201707 201708 201709 201710\n",
      " 201711 201712 201801 201802 201803 201804 201805 201806 201807 201808\n",
      " 201809 201810 201811 201812 201901 201902 201903 201904 201905]\n",
      "Periodos validar: [201907]\n",
      "product_id a validar: 7540\n",
      "X_train: (200941, 120)\n",
      "y_train: (200941,)\n",
      "\n",
      "X_validate: (7540, 120)\n",
      "y_validate: (7540,)\n",
      "Optimizacion Bayesiana\n",
      "**************** tweedie ****************\n",
      "Training until validation scores don't improve for 79 rounds\n",
      "[100]\tvalid_0's ER: 73.7\n"
     ]
    },
    {
     "name": "stderr",
     "output_type": "stream",
     "text": [
      "[I 2023-12-21 15:56:56,932] Trial 0 finished with value: 73.59 and parameters: {'lambda_l1': 524.62763035754, 'lambda_l2': 20.82782016843243, 'learning_rate': 0.16917660260089584, 'num_leaves': 968, 'feature_fraction': 0.9108943040463682, 'min_data_in_leaf': 1488}. Best is trial 0 with value: 73.59.\n"
     ]
    },
    {
     "name": "stdout",
     "output_type": "stream",
     "text": [
      "Early stopping, best iteration is:\n",
      "[55]\tvalid_0's ER: 73.59\n",
      "Evaluated only: ER\n",
      "**************** tweedie ****************\n",
      "Training until validation scores don't improve for 69 rounds\n"
     ]
    },
    {
     "name": "stderr",
     "output_type": "stream",
     "text": [
      "[I 2023-12-21 15:57:01,856] Trial 1 finished with value: 72.95 and parameters: {'lambda_l1': 63.03575371504178, 'lambda_l2': 774.611896171044, 'learning_rate': 0.25422768014909664, 'num_leaves': 422, 'feature_fraction': 0.662303972227229, 'min_data_in_leaf': 2763}. Best is trial 1 with value: 72.95.\n"
     ]
    },
    {
     "name": "stdout",
     "output_type": "stream",
     "text": [
      "Early stopping, best iteration is:\n",
      "[27]\tvalid_0's ER: 72.95\n",
      "Evaluated only: ER\n",
      "**************** tweedie ****************\n",
      "Training until validation scores don't improve for 76 rounds\n",
      "[100]\tvalid_0's ER: 73.59\n"
     ]
    },
    {
     "name": "stderr",
     "output_type": "stream",
     "text": [
      "[I 2023-12-21 15:57:06,529] Trial 2 finished with value: 73.58 and parameters: {'lambda_l1': 387.3794280971066, 'lambda_l2': 228.19472075267223, 'learning_rate': 0.1869461493986343, 'num_leaves': 412, 'feature_fraction': 0.9707052636835669, 'min_data_in_leaf': 6133}. Best is trial 1 with value: 72.95.\n"
     ]
    },
    {
     "name": "stdout",
     "output_type": "stream",
     "text": [
      "Early stopping, best iteration is:\n",
      "[80]\tvalid_0's ER: 73.58\n",
      "Evaluated only: ER\n",
      "**************** tweedie ****************\n",
      "Training until validation scores don't improve for 95 rounds\n",
      "[100]\tvalid_0's ER: 76.84\n"
     ]
    },
    {
     "name": "stderr",
     "output_type": "stream",
     "text": [
      "[I 2023-12-21 15:57:11,510] Trial 3 finished with value: 76.8 and parameters: {'lambda_l1': 966.5644004965899, 'lambda_l2': 2.759357358072645, 'learning_rate': 0.11056286382304824, 'num_leaves': 630, 'feature_fraction': 0.922725665097442, 'min_data_in_leaf': 3028}. Best is trial 1 with value: 72.95.\n"
     ]
    },
    {
     "name": "stdout",
     "output_type": "stream",
     "text": [
      "Early stopping, best iteration is:\n",
      "[80]\tvalid_0's ER: 76.8\n",
      "Evaluated only: ER\n",
      "**************** tweedie ****************\n",
      "Training until validation scores don't improve for 78 rounds\n",
      "[100]\tvalid_0's ER: 72.14\n"
     ]
    },
    {
     "name": "stderr",
     "output_type": "stream",
     "text": [
      "[I 2023-12-21 15:57:17,200] Trial 4 finished with value: 72.09 and parameters: {'lambda_l1': 305.54024859505205, 'lambda_l2': 485.8260554104985, 'learning_rate': 0.17423484746892806, 'num_leaves': 513, 'feature_fraction': 0.9638978075660034, 'min_data_in_leaf': 2282}. Best is trial 4 with value: 72.09.\n"
     ]
    },
    {
     "name": "stdout",
     "output_type": "stream",
     "text": [
      "Early stopping, best iteration is:\n",
      "[94]\tvalid_0's ER: 72.09\n",
      "Evaluated only: ER\n",
      "**************** tweedie ****************\n",
      "Training until validation scores don't improve for 103 rounds\n",
      "[100]\tvalid_0's ER: 71.95\n"
     ]
    },
    {
     "name": "stderr",
     "output_type": "stream",
     "text": [
      "[I 2023-12-21 15:57:23,379] Trial 5 finished with value: 71.26 and parameters: {'lambda_l1': 74.01835634169196, 'lambda_l2': 568.0691417950297, 'learning_rate': 0.0929322450678604, 'num_leaves': 438, 'feature_fraction': 0.4622028597120136, 'min_data_in_leaf': 1895}. Best is trial 5 with value: 71.26.\n"
     ]
    },
    {
     "name": "stdout",
     "output_type": "stream",
     "text": [
      "Early stopping, best iteration is:\n",
      "[79]\tvalid_0's ER: 71.26\n",
      "Evaluated only: ER\n",
      "**************** tweedie ****************\n",
      "Training until validation scores don't improve for 66 rounds\n"
     ]
    },
    {
     "name": "stderr",
     "output_type": "stream",
     "text": [
      "[I 2023-12-21 15:57:26,653] Trial 6 finished with value: 77.87 and parameters: {'lambda_l1': 911.3147359314977, 'lambda_l2': 555.6654113384992, 'learning_rate': 0.29661154347476254, 'num_leaves': 980, 'feature_fraction': 0.5583608999144887, 'min_data_in_leaf': 1704}. Best is trial 5 with value: 71.26.\n"
     ]
    },
    {
     "name": "stdout",
     "output_type": "stream",
     "text": [
      "[100]\tvalid_0's ER: 78.21\n",
      "Early stopping, best iteration is:\n",
      "[40]\tvalid_0's ER: 77.87\n",
      "Evaluated only: ER\n",
      "**************** tweedie ****************\n",
      "Training until validation scores don't improve for 72 rounds\n",
      "[100]\tvalid_0's ER: 74.99\n"
     ]
    },
    {
     "name": "stderr",
     "output_type": "stream",
     "text": [
      "[I 2023-12-21 15:57:30,090] Trial 7 finished with value: 74.63 and parameters: {'lambda_l1': 560.546416165632, 'lambda_l2': 968.3356351975519, 'learning_rate': 0.22443896413304937, 'num_leaves': 295, 'feature_fraction': 0.20290834110423425, 'min_data_in_leaf': 3128}. Best is trial 5 with value: 71.26.\n"
     ]
    },
    {
     "name": "stdout",
     "output_type": "stream",
     "text": [
      "Early stopping, best iteration is:\n",
      "[123]\tvalid_0's ER: 74.47\n",
      "Evaluated only: ER\n",
      "**************** tweedie ****************\n",
      "Training until validation scores don't improve for 67 rounds\n",
      "[100]\tvalid_0's ER: 79.38\n"
     ]
    },
    {
     "name": "stderr",
     "output_type": "stream",
     "text": [
      "[I 2023-12-21 15:57:33,087] Trial 8 finished with value: 79.39 and parameters: {'lambda_l1': 779.313553499392, 'lambda_l2': 37.38776919836495, 'learning_rate': 0.2893751086887242, 'num_leaves': 332, 'feature_fraction': 0.21674210086442117, 'min_data_in_leaf': 6039}. Best is trial 5 with value: 71.26.\n"
     ]
    },
    {
     "name": "stdout",
     "output_type": "stream",
     "text": [
      "Early stopping, best iteration is:\n",
      "[89]\tvalid_0's ER: 79.38\n",
      "Evaluated only: ER\n",
      "**************** tweedie ****************\n",
      "Training until validation scores don't improve for 89 rounds\n",
      "[100]\tvalid_0's ER: 73.04\n",
      "[200]\tvalid_0's ER: 72.66\n"
     ]
    },
    {
     "name": "stderr",
     "output_type": "stream",
     "text": [
      "[I 2023-12-21 15:57:39,899] Trial 9 finished with value: 72.59 and parameters: {'lambda_l1': 349.7356193858171, 'lambda_l2': 906.5114695770316, 'learning_rate': 0.1275251673937974, 'num_leaves': 720, 'feature_fraction': 0.6654149791717197, 'min_data_in_leaf': 2683}. Best is trial 5 with value: 71.26.\n"
     ]
    },
    {
     "name": "stdout",
     "output_type": "stream",
     "text": [
      "Early stopping, best iteration is:\n",
      "[136]\tvalid_0's ER: 72.59\n",
      "Evaluated only: ER\n",
      "# Experimentos: 10\n",
      "Mejor experimento: {'lambda_l1': 74.01835634169196, 'lambda_l2': 568.0691417950297, 'learning_rate': 0.0929322450678604, 'num_leaves': 438, 'feature_fraction': 0.4622028597120136, 'min_data_in_leaf': 1895}\n",
      "=========================================== Cluster 7 ===========================================\n"
     ]
    },
    {
     "name": "stderr",
     "output_type": "stream",
     "text": [
      "[I 2023-12-21 15:57:43,868] A new study created in memory with name: no-name-5161c48d-33da-4193-a69a-70f760c3f56e\n"
     ]
    },
    {
     "name": "stdout",
     "output_type": "stream",
     "text": [
      "Periodos entrenar: [201701 201702 201703 201704 201705 201706 201707 201708 201709 201710\n",
      " 201711 201712 201801 201802 201803 201804 201805 201806 201807 201808\n",
      " 201809 201810 201811 201812 201901 201902 201903 201904 201905]\n",
      "Periodos validar: [201907]\n",
      "product_id a validar: 6380\n",
      "X_train: (141395, 120)\n",
      "y_train: (141395,)\n",
      "\n",
      "X_validate: (6380, 120)\n",
      "y_validate: (6380,)\n",
      "Optimizacion Bayesiana\n",
      "**************** tweedie ****************\n",
      "Training until validation scores don't improve for 84 rounds\n",
      "[100]\tvalid_0's ER: 67.1\n"
     ]
    },
    {
     "name": "stderr",
     "output_type": "stream",
     "text": [
      "[I 2023-12-21 15:57:47,825] Trial 0 finished with value: 66.92 and parameters: {'lambda_l1': 459.07208909725637, 'lambda_l2': 308.13646319882326, 'learning_rate': 0.14471688148151376, 'num_leaves': 468, 'feature_fraction': 0.6059214318145458, 'min_data_in_leaf': 2173}. Best is trial 0 with value: 66.92.\n"
     ]
    },
    {
     "name": "stdout",
     "output_type": "stream",
     "text": [
      "Early stopping, best iteration is:\n",
      "[55]\tvalid_0's ER: 66.92\n",
      "Evaluated only: ER\n",
      "**************** tweedie ****************\n",
      "Training until validation scores don't improve for 69 rounds\n",
      "[100]\tvalid_0's ER: 66.36\n",
      "Early stopping, best iteration is:\n",
      "[52]\tvalid_0's ER: 66.3\n",
      "Evaluated only: ER\n"
     ]
    },
    {
     "name": "stderr",
     "output_type": "stream",
     "text": [
      "[I 2023-12-21 15:57:50,220] Trial 1 finished with value: 66.3 and parameters: {'lambda_l1': 224.34330104699617, 'lambda_l2': 620.9881814640072, 'learning_rate': 0.25962325525874785, 'num_leaves': 582, 'feature_fraction': 0.39049112636018113, 'min_data_in_leaf': 2303}. Best is trial 1 with value: 66.3.\n"
     ]
    },
    {
     "name": "stdout",
     "output_type": "stream",
     "text": [
      "**************** tweedie ****************\n",
      "Training until validation scores don't improve for 72 rounds\n",
      "[100]\tvalid_0's ER: 70.29\n"
     ]
    },
    {
     "name": "stderr",
     "output_type": "stream",
     "text": [
      "[I 2023-12-21 15:57:53,142] Trial 2 finished with value: 70.29 and parameters: {'lambda_l1': 916.5043641070666, 'lambda_l2': 886.6904616102458, 'learning_rate': 0.22110965048672934, 'num_leaves': 1022, 'feature_fraction': 0.6224877552408892, 'min_data_in_leaf': 7753}. Best is trial 1 with value: 66.3.\n"
     ]
    },
    {
     "name": "stdout",
     "output_type": "stream",
     "text": [
      "Early stopping, best iteration is:\n",
      "[72]\tvalid_0's ER: 70.29\n",
      "Evaluated only: ER\n",
      "**************** tweedie ****************\n",
      "Training until validation scores don't improve for 75 rounds\n",
      "[100]\tvalid_0's ER: 67.77\n"
     ]
    },
    {
     "name": "stderr",
     "output_type": "stream",
     "text": [
      "[I 2023-12-21 15:57:55,567] Trial 3 finished with value: 67.5 and parameters: {'lambda_l1': 643.0275850446844, 'lambda_l2': 845.8338056005813, 'learning_rate': 0.1936322824030711, 'num_leaves': 726, 'feature_fraction': 0.21973299047301112, 'min_data_in_leaf': 1688}. Best is trial 1 with value: 66.3.\n"
     ]
    },
    {
     "name": "stdout",
     "output_type": "stream",
     "text": [
      "Early stopping, best iteration is:\n",
      "[83]\tvalid_0's ER: 67.42\n",
      "Evaluated only: ER\n",
      "**************** tweedie ****************\n",
      "Training until validation scores don't improve for 69 rounds\n",
      "[100]\tvalid_0's ER: 67.75\n"
     ]
    },
    {
     "name": "stderr",
     "output_type": "stream",
     "text": [
      "[I 2023-12-21 15:57:58,076] Trial 4 finished with value: 67.72 and parameters: {'lambda_l1': 459.7204093092839, 'lambda_l2': 933.8297961917897, 'learning_rate': 0.25060033365907236, 'num_leaves': 30, 'feature_fraction': 0.501049226922847, 'min_data_in_leaf': 3378}. Best is trial 1 with value: 66.3.\n"
     ]
    },
    {
     "name": "stdout",
     "output_type": "stream",
     "text": [
      "Early stopping, best iteration is:\n",
      "[55]\tvalid_0's ER: 67.72\n",
      "Evaluated only: ER\n",
      "**************** tweedie ****************\n",
      "Training until validation scores don't improve for 71 rounds\n",
      "[100]\tvalid_0's ER: 70.57\n"
     ]
    },
    {
     "name": "stderr",
     "output_type": "stream",
     "text": [
      "[I 2023-12-21 15:58:00,448] Trial 5 finished with value: 70.56 and parameters: {'lambda_l1': 670.4004379697648, 'lambda_l2': 438.45641401637647, 'learning_rate': 0.23253206938840165, 'num_leaves': 354, 'feature_fraction': 0.22519870692794264, 'min_data_in_leaf': 6506}. Best is trial 1 with value: 66.3.\n"
     ]
    },
    {
     "name": "stdout",
     "output_type": "stream",
     "text": [
      "Early stopping, best iteration is:\n",
      "[110]\tvalid_0's ER: 70.56\n",
      "Evaluated only: ER\n",
      "**************** tweedie ****************\n",
      "Training until validation scores don't improve for 94 rounds\n",
      "[100]\tvalid_0's ER: 68.59\n",
      "[200]\tvalid_0's ER: 68.15\n"
     ]
    },
    {
     "name": "stderr",
     "output_type": "stream",
     "text": [
      "[I 2023-12-21 15:58:04,589] Trial 6 finished with value: 68.15 and parameters: {'lambda_l1': 468.58554747523783, 'lambda_l2': 980.8737216720039, 'learning_rate': 0.1125910419388105, 'num_leaves': 465, 'feature_fraction': 0.556695083132433, 'min_data_in_leaf': 7448}. Best is trial 1 with value: 66.3.\n"
     ]
    },
    {
     "name": "stdout",
     "output_type": "stream",
     "text": [
      "Early stopping, best iteration is:\n",
      "[142]\tvalid_0's ER: 68.15\n",
      "Evaluated only: ER\n",
      "**************** tweedie ****************\n",
      "Training until validation scores don't improve for 138 rounds\n",
      "[100]\tvalid_0's ER: 67.81\n",
      "[200]\tvalid_0's ER: 65.31\n",
      "[300]\tvalid_0's ER: 64.85\n",
      "[400]\tvalid_0's ER: 64.85\n"
     ]
    },
    {
     "name": "stderr",
     "output_type": "stream",
     "text": [
      "[I 2023-12-21 15:58:11,275] Trial 7 finished with value: 64.54 and parameters: {'lambda_l1': 3.9548031959413255, 'lambda_l2': 956.3219985058553, 'learning_rate': 0.05644123275504354, 'num_leaves': 97, 'feature_fraction': 0.20292849603786625, 'min_data_in_leaf': 2840}. Best is trial 7 with value: 64.54.\n"
     ]
    },
    {
     "name": "stdout",
     "output_type": "stream",
     "text": [
      "Early stopping, best iteration is:\n",
      "[349]\tvalid_0's ER: 64.54\n",
      "Evaluated only: ER\n",
      "**************** tweedie ****************\n",
      "Training until validation scores don't improve for 74 rounds\n",
      "[100]\tvalid_0's ER: 68.73\n"
     ]
    },
    {
     "name": "stderr",
     "output_type": "stream",
     "text": [
      "[I 2023-12-21 15:58:13,781] Trial 8 finished with value: 68.73 and parameters: {'lambda_l1': 669.829787223703, 'lambda_l2': 974.2000626647466, 'learning_rate': 0.2042165569787968, 'num_leaves': 835, 'feature_fraction': 0.3653434254444604, 'min_data_in_leaf': 6023}. Best is trial 7 with value: 64.54.\n"
     ]
    },
    {
     "name": "stdout",
     "output_type": "stream",
     "text": [
      "Early stopping, best iteration is:\n",
      "[78]\tvalid_0's ER: 68.73\n",
      "Evaluated only: ER\n",
      "**************** tweedie ****************\n",
      "Training until validation scores don't improve for 83 rounds\n",
      "[100]\tvalid_0's ER: 66.87\n"
     ]
    },
    {
     "name": "stderr",
     "output_type": "stream",
     "text": [
      "[I 2023-12-21 15:58:16,673] Trial 9 finished with value: 66.64 and parameters: {'lambda_l1': 479.1333387419029, 'lambda_l2': 273.8775246993971, 'learning_rate': 0.1485699668321929, 'num_leaves': 26, 'feature_fraction': 0.5007863989085101, 'min_data_in_leaf': 1793}. Best is trial 7 with value: 64.54.\n"
     ]
    },
    {
     "name": "stdout",
     "output_type": "stream",
     "text": [
      "Early stopping, best iteration is:\n",
      "[59]\tvalid_0's ER: 66.64\n",
      "Evaluated only: ER\n",
      "# Experimentos: 10\n",
      "Mejor experimento: {'lambda_l1': 3.9548031959413255, 'lambda_l2': 956.3219985058553, 'learning_rate': 0.05644123275504354, 'num_leaves': 97, 'feature_fraction': 0.20292849603786625, 'min_data_in_leaf': 2840}\n",
      "=========================================== Cluster 8 ===========================================\n"
     ]
    },
    {
     "name": "stderr",
     "output_type": "stream",
     "text": [
      "[I 2023-12-21 15:58:18,637] A new study created in memory with name: no-name-0a9bbef0-74cb-49a7-abbc-e6037c09690a\n"
     ]
    },
    {
     "name": "stdout",
     "output_type": "stream",
     "text": [
      "Periodos entrenar: [201701 201702 201703 201704 201705 201706 201707 201708 201709 201710\n",
      " 201711 201712 201801 201802 201803 201804 201805 201806 201807 201808\n",
      " 201809 201810 201811 201812 201901 201902 201903 201904 201905]\n",
      "Periodos validar: [201907]\n",
      "product_id a validar: 2900\n",
      "X_train: (70118, 120)\n",
      "y_train: (70118,)\n",
      "\n",
      "X_validate: (2900, 120)\n",
      "y_validate: (2900,)\n",
      "Optimizacion Bayesiana\n",
      "**************** tweedie ****************\n",
      "Training until validation scores don't improve for 80 rounds\n"
     ]
    },
    {
     "name": "stderr",
     "output_type": "stream",
     "text": [
      "[I 2023-12-21 15:58:20,064] Trial 0 finished with value: 77.95 and parameters: {'lambda_l1': 548.0962645351307, 'lambda_l2': 191.62406664807696, 'learning_rate': 0.1614013231105405, 'num_leaves': 148, 'feature_fraction': 0.9802366003235061, 'min_data_in_leaf': 3599}. Best is trial 0 with value: 77.95.\n"
     ]
    },
    {
     "name": "stdout",
     "output_type": "stream",
     "text": [
      "[100]\tvalid_0's ER: 78.03\n",
      "Early stopping, best iteration is:\n",
      "[44]\tvalid_0's ER: 77.95\n",
      "Evaluated only: ER\n",
      "**************** tweedie ****************\n",
      "Training until validation scores don't improve for 67 rounds\n"
     ]
    },
    {
     "name": "stderr",
     "output_type": "stream",
     "text": [
      "[I 2023-12-21 15:58:21,478] Trial 1 finished with value: 78.44 and parameters: {'lambda_l1': 102.22350475263853, 'lambda_l2': 464.16136604899197, 'learning_rate': 0.2889653649440792, 'num_leaves': 134, 'feature_fraction': 0.9572869043770786, 'min_data_in_leaf': 5846}. Best is trial 0 with value: 77.95.\n"
     ]
    },
    {
     "name": "stdout",
     "output_type": "stream",
     "text": [
      "Early stopping, best iteration is:\n",
      "[28]\tvalid_0's ER: 78.44\n",
      "Evaluated only: ER\n",
      "**************** tweedie ****************\n",
      "Training until validation scores don't improve for 81 rounds\n",
      "[100]\tvalid_0's ER: 75.91\n",
      "Early stopping, best iteration is:\n",
      "[52]\tvalid_0's ER: 75.82\n",
      "Evaluated only: ER\n"
     ]
    },
    {
     "name": "stderr",
     "output_type": "stream",
     "text": [
      "[I 2023-12-21 15:58:23,002] Trial 2 finished with value: 75.82 and parameters: {'lambda_l1': 314.6556579139068, 'lambda_l2': 235.13977355098726, 'learning_rate': 0.15627015872748712, 'num_leaves': 798, 'feature_fraction': 0.9299850637577656, 'min_data_in_leaf': 2113}. Best is trial 2 with value: 75.82.\n"
     ]
    },
    {
     "name": "stdout",
     "output_type": "stream",
     "text": [
      "**************** tweedie ****************\n",
      "Training until validation scores don't improve for 75 rounds\n"
     ]
    },
    {
     "name": "stderr",
     "output_type": "stream",
     "text": [
      "[I 2023-12-21 15:58:24,716] Trial 3 finished with value: 75.72 and parameters: {'lambda_l1': 89.44595650094934, 'lambda_l2': 906.5315800432351, 'learning_rate': 0.1986348867410266, 'num_leaves': 947, 'feature_fraction': 0.8876304178297907, 'min_data_in_leaf': 2834}. Best is trial 3 with value: 75.72.\n"
     ]
    },
    {
     "name": "stdout",
     "output_type": "stream",
     "text": [
      "[100]\tvalid_0's ER: 77.13\n",
      "Early stopping, best iteration is:\n",
      "[33]\tvalid_0's ER: 75.72\n",
      "Evaluated only: ER\n",
      "**************** tweedie ****************\n",
      "Training until validation scores don't improve for 129 rounds\n",
      "[100]\tvalid_0's ER: 81.08\n"
     ]
    },
    {
     "name": "stderr",
     "output_type": "stream",
     "text": [
      "[I 2023-12-21 15:58:26,281] Trial 4 finished with value: 80.69 and parameters: {'lambda_l1': 647.4506275190007, 'lambda_l2': 162.0585160385083, 'learning_rate': 0.06254780841362721, 'num_leaves': 456, 'feature_fraction': 0.3476176807355834, 'min_data_in_leaf': 5401}. Best is trial 3 with value: 75.72.\n"
     ]
    },
    {
     "name": "stdout",
     "output_type": "stream",
     "text": [
      "[200]\tvalid_0's ER: 81.2\n",
      "Early stopping, best iteration is:\n",
      "[83]\tvalid_0's ER: 80.69\n",
      "Evaluated only: ER\n",
      "**************** tweedie ****************\n",
      "Training until validation scores don't improve for 85 rounds\n",
      "[100]\tvalid_0's ER: 78.9\n"
     ]
    },
    {
     "name": "stderr",
     "output_type": "stream",
     "text": [
      "[I 2023-12-21 15:58:27,905] Trial 5 finished with value: 78.93 and parameters: {'lambda_l1': 738.4153804039554, 'lambda_l2': 351.41721735537203, 'learning_rate': 0.13964585396853044, 'num_leaves': 340, 'feature_fraction': 0.6634048650380411, 'min_data_in_leaf': 2631}. Best is trial 3 with value: 75.72.\n"
     ]
    },
    {
     "name": "stdout",
     "output_type": "stream",
     "text": [
      "Early stopping, best iteration is:\n",
      "[65]\tvalid_0's ER: 78.84\n",
      "Evaluated only: ER\n",
      "**************** tweedie ****************\n",
      "Training until validation scores don't improve for 72 rounds\n"
     ]
    },
    {
     "name": "stderr",
     "output_type": "stream",
     "text": [
      "[I 2023-12-21 15:58:29,335] Trial 6 finished with value: 74.37 and parameters: {'lambda_l1': 379.4484298795734, 'lambda_l2': 86.170241306059, 'learning_rate': 0.2221109671556625, 'num_leaves': 871, 'feature_fraction': 0.9168463464831658, 'min_data_in_leaf': 717}. Best is trial 6 with value: 74.37.\n"
     ]
    },
    {
     "name": "stdout",
     "output_type": "stream",
     "text": [
      "[100]\tvalid_0's ER: 74.83\n",
      "Early stopping, best iteration is:\n",
      "[32]\tvalid_0's ER: 74.37\n",
      "Evaluated only: ER\n",
      "**************** tweedie ****************\n",
      "Training until validation scores don't improve for 165 rounds\n",
      "[100]\tvalid_0's ER: 81.67\n",
      "[200]\tvalid_0's ER: 78.71\n",
      "[300]\tvalid_0's ER: 78.42\n"
     ]
    },
    {
     "name": "stderr",
     "output_type": "stream",
     "text": [
      "[I 2023-12-21 15:58:33,151] Trial 7 finished with value: 78.35 and parameters: {'lambda_l1': 556.3188716511614, 'lambda_l2': 943.2930094577474, 'learning_rate': 0.04324239816163754, 'num_leaves': 518, 'feature_fraction': 0.9187074103837851, 'min_data_in_leaf': 4720}. Best is trial 6 with value: 74.37.\n"
     ]
    },
    {
     "name": "stdout",
     "output_type": "stream",
     "text": [
      "[400]\tvalid_0's ER: 78.37\n",
      "Early stopping, best iteration is:\n",
      "[236]\tvalid_0's ER: 78.35\n",
      "Evaluated only: ER\n",
      "**************** tweedie ****************\n",
      "Training until validation scores don't improve for 140 rounds\n",
      "[100]\tvalid_0's ER: 78.19\n",
      "[200]\tvalid_0's ER: 77.11\n",
      "[300]\tvalid_0's ER: 77.31\n"
     ]
    },
    {
     "name": "stderr",
     "output_type": "stream",
     "text": [
      "[I 2023-12-21 15:58:35,839] Trial 8 finished with value: 76.96 and parameters: {'lambda_l1': 80.73878446376325, 'lambda_l2': 473.20986650757226, 'learning_rate': 0.055404257609875024, 'num_leaves': 621, 'feature_fraction': 0.2854787320606444, 'min_data_in_leaf': 2428}. Best is trial 6 with value: 74.37.\n"
     ]
    },
    {
     "name": "stdout",
     "output_type": "stream",
     "text": [
      "Early stopping, best iteration is:\n",
      "[219]\tvalid_0's ER: 76.96\n",
      "Evaluated only: ER\n",
      "**************** tweedie ****************\n",
      "Training until validation scores don't improve for 71 rounds\n"
     ]
    },
    {
     "name": "stderr",
     "output_type": "stream",
     "text": [
      "[I 2023-12-21 15:58:37,181] Trial 9 finished with value: 82.22 and parameters: {'lambda_l1': 988.559533464287, 'lambda_l2': 718.5459553011073, 'learning_rate': 0.23317956513766355, 'num_leaves': 851, 'feature_fraction': 0.9926100176143147, 'min_data_in_leaf': 3188}. Best is trial 6 with value: 74.37.\n"
     ]
    },
    {
     "name": "stdout",
     "output_type": "stream",
     "text": [
      "[100]\tvalid_0's ER: 82.27\n",
      "Early stopping, best iteration is:\n",
      "[39]\tvalid_0's ER: 82.22\n",
      "Evaluated only: ER\n",
      "# Experimentos: 10\n",
      "Mejor experimento: {'lambda_l1': 379.4484298795734, 'lambda_l2': 86.170241306059, 'learning_rate': 0.2221109671556625, 'num_leaves': 871, 'feature_fraction': 0.9168463464831658, 'min_data_in_leaf': 717}\n",
      "=========================================== Cluster 9 ===========================================\n"
     ]
    },
    {
     "name": "stderr",
     "output_type": "stream",
     "text": [
      "[I 2023-12-21 15:58:40,195] A new study created in memory with name: no-name-859df2ce-0adc-4659-9e69-ca4ac8328453\n"
     ]
    },
    {
     "name": "stdout",
     "output_type": "stream",
     "text": [
      "Periodos entrenar: [201701 201702 201703 201704 201705 201706 201707 201708 201709 201710\n",
      " 201711 201712 201801 201802 201803 201804 201805 201806 201807 201808\n",
      " 201809 201810 201811 201812 201901 201902 201903 201904 201905]\n",
      "Periodos validar: [201907]\n",
      "product_id a validar: 4640\n",
      "X_train: (113248, 120)\n",
      "y_train: (113248,)\n",
      "\n",
      "X_validate: (4640, 120)\n",
      "y_validate: (4640,)\n",
      "Optimizacion Bayesiana\n",
      "**************** tweedie ****************\n",
      "Training until validation scores don't improve for 70 rounds\n"
     ]
    },
    {
     "name": "stderr",
     "output_type": "stream",
     "text": [
      "[I 2023-12-21 15:58:44,310] Trial 0 finished with value: 64.25 and parameters: {'lambda_l1': 64.49729329861331, 'lambda_l2': 765.611109828454, 'learning_rate': 0.2423268763994901, 'num_leaves': 393, 'feature_fraction': 0.7489121917223784, 'min_data_in_leaf': 237}. Best is trial 0 with value: 64.25.\n"
     ]
    },
    {
     "name": "stdout",
     "output_type": "stream",
     "text": [
      "Early stopping, best iteration is:\n",
      "[25]\tvalid_0's ER: 64.25\n",
      "Evaluated only: ER\n",
      "**************** tweedie ****************\n",
      "Training until validation scores don't improve for 77 rounds\n",
      "[100]\tvalid_0's ER: 65.81\n"
     ]
    },
    {
     "name": "stderr",
     "output_type": "stream",
     "text": [
      "[I 2023-12-21 15:58:46,293] Trial 1 finished with value: 65.81 and parameters: {'lambda_l1': 643.0615258200953, 'lambda_l2': 987.0439392446278, 'learning_rate': 0.18356729860712304, 'num_leaves': 431, 'feature_fraction': 0.30042303114538815, 'min_data_in_leaf': 5338}. Best is trial 0 with value: 64.25.\n"
     ]
    },
    {
     "name": "stdout",
     "output_type": "stream",
     "text": [
      "Early stopping, best iteration is:\n",
      "[93]\tvalid_0's ER: 65.8\n",
      "Evaluated only: ER\n",
      "**************** tweedie ****************\n",
      "Training until validation scores don't improve for 71 rounds\n",
      "[100]\tvalid_0's ER: 61.77\n"
     ]
    },
    {
     "name": "stderr",
     "output_type": "stream",
     "text": [
      "[I 2023-12-21 15:58:48,684] Trial 2 finished with value: 61.74 and parameters: {'lambda_l1': 535.7239903741566, 'lambda_l2': 108.4766204549934, 'learning_rate': 0.2280895455998271, 'num_leaves': 454, 'feature_fraction': 0.29517926704703457, 'min_data_in_leaf': 1313}. Best is trial 2 with value: 61.74.\n"
     ]
    },
    {
     "name": "stdout",
     "output_type": "stream",
     "text": [
      "Early stopping, best iteration is:\n",
      "[53]\tvalid_0's ER: 61.69\n",
      "Evaluated only: ER\n",
      "**************** tweedie ****************\n",
      "Training until validation scores don't improve for 260 rounds\n",
      "[100]\tvalid_0's ER: 84.59\n",
      "[200]\tvalid_0's ER: 69.54\n",
      "[300]\tvalid_0's ER: 64.67\n",
      "[400]\tvalid_0's ER: 63.48\n",
      "[500]\tvalid_0's ER: 63.26\n",
      "[600]\tvalid_0's ER: 63.32\n",
      "[700]\tvalid_0's ER: 63.38\n"
     ]
    },
    {
     "name": "stderr",
     "output_type": "stream",
     "text": [
      "[I 2023-12-21 15:58:56,809] Trial 3 finished with value: 63.18 and parameters: {'lambda_l1': 436.6687259489117, 'lambda_l2': 717.1940944679386, 'learning_rate': 0.02380776984652601, 'num_leaves': 99, 'feature_fraction': 0.2370000219583943, 'min_data_in_leaf': 1494}. Best is trial 2 with value: 61.74.\n"
     ]
    },
    {
     "name": "stdout",
     "output_type": "stream",
     "text": [
      "Early stopping, best iteration is:\n",
      "[520]\tvalid_0's ER: 63.18\n",
      "Evaluated only: ER\n",
      "**************** tweedie ****************\n",
      "Training until validation scores don't improve for 87 rounds\n",
      "[100]\tvalid_0's ER: 63.97\n"
     ]
    },
    {
     "name": "stderr",
     "output_type": "stream",
     "text": [
      "[I 2023-12-21 15:58:59,802] Trial 4 finished with value: 63.97 and parameters: {'lambda_l1': 430.23512394370846, 'lambda_l2': 949.1117768038159, 'learning_rate': 0.13419870048730356, 'num_leaves': 112, 'feature_fraction': 0.6124634869239669, 'min_data_in_leaf': 2591}. Best is trial 2 with value: 61.74.\n"
     ]
    },
    {
     "name": "stdout",
     "output_type": "stream",
     "text": [
      "Early stopping, best iteration is:\n",
      "[92]\tvalid_0's ER: 63.97\n",
      "Evaluated only: ER\n",
      "**************** tweedie ****************\n",
      "Training until validation scores don't improve for 157 rounds\n",
      "[100]\tvalid_0's ER: 73.53\n",
      "[200]\tvalid_0's ER: 66.58\n",
      "[300]\tvalid_0's ER: 66.48\n"
     ]
    },
    {
     "name": "stderr",
     "output_type": "stream",
     "text": [
      "[I 2023-12-21 15:59:05,065] Trial 5 finished with value: 66.48 and parameters: {'lambda_l1': 920.4190379891562, 'lambda_l2': 596.5192495971148, 'learning_rate': 0.04635499311622763, 'num_leaves': 615, 'feature_fraction': 0.8528993981375341, 'min_data_in_leaf': 3177}. Best is trial 2 with value: 61.74.\n"
     ]
    },
    {
     "name": "stdout",
     "output_type": "stream",
     "text": [
      "Early stopping, best iteration is:\n",
      "[210]\tvalid_0's ER: 66.48\n",
      "Evaluated only: ER\n",
      "**************** tweedie ****************\n",
      "Training until validation scores don't improve for 82 rounds\n",
      "[100]\tvalid_0's ER: 64.36\n"
     ]
    },
    {
     "name": "stderr",
     "output_type": "stream",
     "text": [
      "[I 2023-12-21 15:59:07,649] Trial 6 finished with value: 64.36 and parameters: {'lambda_l1': 449.5810688654975, 'lambda_l2': 568.2804559634451, 'learning_rate': 0.15435007078699, 'num_leaves': 768, 'feature_fraction': 0.5801557834202886, 'min_data_in_leaf': 5693}. Best is trial 2 with value: 61.74.\n"
     ]
    },
    {
     "name": "stdout",
     "output_type": "stream",
     "text": [
      "Early stopping, best iteration is:\n",
      "[83]\tvalid_0's ER: 64.36\n",
      "Evaluated only: ER\n",
      "**************** tweedie ****************\n",
      "Training until validation scores don't improve for 77 rounds\n",
      "[100]\tvalid_0's ER: 65.09\n"
     ]
    },
    {
     "name": "stderr",
     "output_type": "stream",
     "text": [
      "[I 2023-12-21 15:59:09,808] Trial 7 finished with value: 65.09 and parameters: {'lambda_l1': 833.19773784671, 'lambda_l2': 320.4439039033802, 'learning_rate': 0.18041447699218252, 'num_leaves': 672, 'feature_fraction': 0.8584761239083065, 'min_data_in_leaf': 2774}. Best is trial 2 with value: 61.74.\n"
     ]
    },
    {
     "name": "stdout",
     "output_type": "stream",
     "text": [
      "Early stopping, best iteration is:\n",
      "[47]\tvalid_0's ER: 65.09\n",
      "Evaluated only: ER\n",
      "**************** tweedie ****************\n",
      "Training until validation scores don't improve for 67 rounds\n"
     ]
    },
    {
     "name": "stderr",
     "output_type": "stream",
     "text": [
      "[I 2023-12-21 15:59:11,530] Trial 8 finished with value: 66.27 and parameters: {'lambda_l1': 863.949590131877, 'lambda_l2': 534.0413564661021, 'learning_rate': 0.2872624894758751, 'num_leaves': 162, 'feature_fraction': 0.7374030104278642, 'min_data_in_leaf': 3643}. Best is trial 2 with value: 61.74.\n"
     ]
    },
    {
     "name": "stdout",
     "output_type": "stream",
     "text": [
      "[100]\tvalid_0's ER: 66.27\n",
      "Early stopping, best iteration is:\n",
      "[33]\tvalid_0's ER: 66.27\n",
      "Evaluated only: ER\n",
      "**************** tweedie ****************\n",
      "Training until validation scores don't improve for 77 rounds\n",
      "[100]\tvalid_0's ER: 65.19\n"
     ]
    },
    {
     "name": "stderr",
     "output_type": "stream",
     "text": [
      "[I 2023-12-21 15:59:13,906] Trial 9 finished with value: 65.19 and parameters: {'lambda_l1': 553.9191728400078, 'lambda_l2': 973.5504329395371, 'learning_rate': 0.18256742848849283, 'num_leaves': 129, 'feature_fraction': 0.729469041943495, 'min_data_in_leaf': 5316}. Best is trial 2 with value: 61.74.\n"
     ]
    },
    {
     "name": "stdout",
     "output_type": "stream",
     "text": [
      "Early stopping, best iteration is:\n",
      "[73]\tvalid_0's ER: 65.19\n",
      "Evaluated only: ER\n",
      "# Experimentos: 10\n",
      "Mejor experimento: {'lambda_l1': 535.7239903741566, 'lambda_l2': 108.4766204549934, 'learning_rate': 0.2280895455998271, 'num_leaves': 454, 'feature_fraction': 0.29517926704703457, 'min_data_in_leaf': 1313}\n",
      "=========================================== Cluster 10 ===========================================\n"
     ]
    },
    {
     "name": "stderr",
     "output_type": "stream",
     "text": [
      "[I 2023-12-21 15:59:20,983] A new study created in memory with name: no-name-52d7af63-871a-4f79-80cf-eddfe0bdd8c4\n"
     ]
    },
    {
     "name": "stdout",
     "output_type": "stream",
     "text": [
      "Periodos entrenar: [201701 201702 201703 201704 201705 201706 201707 201708 201709 201710\n",
      " 201711 201712 201801 201802 201803 201804 201805 201806 201807 201808\n",
      " 201809 201810 201811 201812 201901 201902 201903 201904 201905]\n",
      "Periodos validar: [201907]\n",
      "product_id a validar: 10440\n",
      "X_train: (268124, 120)\n",
      "y_train: (268124,)\n",
      "\n",
      "X_validate: (10440, 120)\n",
      "y_validate: (10440,)\n",
      "Optimizacion Bayesiana\n",
      "**************** tweedie ****************\n",
      "Training until validation scores don't improve for 73 rounds\n",
      "[100]\tvalid_0's ER: 91.37\n"
     ]
    },
    {
     "name": "stderr",
     "output_type": "stream",
     "text": [
      "[I 2023-12-21 15:59:32,474] Trial 0 finished with value: 90.27 and parameters: {'lambda_l1': 81.55511297148799, 'lambda_l2': 521.8596940799423, 'learning_rate': 0.21393511427260908, 'num_leaves': 992, 'feature_fraction': 0.994287243964419, 'min_data_in_leaf': 2786}. Best is trial 0 with value: 90.27.\n"
     ]
    },
    {
     "name": "stdout",
     "output_type": "stream",
     "text": [
      "Early stopping, best iteration is:\n",
      "[116]\tvalid_0's ER: 90.27\n",
      "Evaluated only: ER\n",
      "**************** tweedie ****************\n",
      "Training until validation scores don't improve for 129 rounds\n",
      "[100]\tvalid_0's ER: 98.37\n",
      "[200]\tvalid_0's ER: 96.76\n",
      "[300]\tvalid_0's ER: 94.14\n",
      "[400]\tvalid_0's ER: 93.59\n",
      "[500]\tvalid_0's ER: 93.3\n",
      "[600]\tvalid_0's ER: 92.66\n",
      "[700]\tvalid_0's ER: 92.31\n",
      "[800]\tvalid_0's ER: 92.07\n",
      "Early stopping, best iteration is:\n",
      "[766]\tvalid_0's ER: 91.95\n",
      "Evaluated only: ER\n"
     ]
    },
    {
     "name": "stderr",
     "output_type": "stream",
     "text": [
      "[I 2023-12-21 16:00:13,184] Trial 1 finished with value: 91.95 and parameters: {'lambda_l1': 80.9511921279592, 'lambda_l2': 989.2947832400297, 'learning_rate': 0.06299007599654438, 'num_leaves': 448, 'feature_fraction': 0.9268633383507139, 'min_data_in_leaf': 7823}. Best is trial 0 with value: 90.27.\n"
     ]
    },
    {
     "name": "stdout",
     "output_type": "stream",
     "text": [
      "**************** tweedie ****************\n",
      "Training until validation scores don't improve for 78 rounds\n",
      "[100]\tvalid_0's ER: 89.62\n",
      "[200]\tvalid_0's ER: 88.03\n",
      "[300]\tvalid_0's ER: 87.61\n"
     ]
    },
    {
     "name": "stderr",
     "output_type": "stream",
     "text": [
      "[I 2023-12-21 16:00:25,541] Trial 2 finished with value: 87.52 and parameters: {'lambda_l1': 108.4956931845007, 'lambda_l2': 264.48509468593807, 'learning_rate': 0.17423882974870464, 'num_leaves': 756, 'feature_fraction': 0.4787135463862468, 'min_data_in_leaf': 2128}. Best is trial 2 with value: 87.52.\n"
     ]
    },
    {
     "name": "stdout",
     "output_type": "stream",
     "text": [
      "Early stopping, best iteration is:\n",
      "[240]\tvalid_0's ER: 87.52\n",
      "Evaluated only: ER\n",
      "**************** tweedie ****************\n",
      "Training until validation scores don't improve for 88 rounds\n",
      "[100]\tvalid_0's ER: 97.31\n"
     ]
    },
    {
     "name": "stderr",
     "output_type": "stream",
     "text": [
      "[I 2023-12-21 16:00:31,771] Trial 3 finished with value: 96.43 and parameters: {'lambda_l1': 960.9065370363555, 'lambda_l2': 556.6078392363329, 'learning_rate': 0.12877291318076708, 'num_leaves': 272, 'feature_fraction': 0.8540185483783684, 'min_data_in_leaf': 4430}. Best is trial 2 with value: 87.52.\n"
     ]
    },
    {
     "name": "stdout",
     "output_type": "stream",
     "text": [
      "Early stopping, best iteration is:\n",
      "[72]\tvalid_0's ER: 96.43\n",
      "Evaluated only: ER\n",
      "**************** tweedie ****************\n",
      "Training until validation scores don't improve for 71 rounds\n"
     ]
    },
    {
     "name": "stderr",
     "output_type": "stream",
     "text": [
      "[I 2023-12-21 16:00:36,930] Trial 4 finished with value: 94.12 and parameters: {'lambda_l1': 831.0464565627833, 'lambda_l2': 213.47005984211364, 'learning_rate': 0.23158313703137748, 'num_leaves': 937, 'feature_fraction': 0.8694611518815196, 'min_data_in_leaf': 1209}. Best is trial 2 with value: 87.52.\n"
     ]
    },
    {
     "name": "stdout",
     "output_type": "stream",
     "text": [
      "Early stopping, best iteration is:\n",
      "[23]\tvalid_0's ER: 94.12\n",
      "Evaluated only: ER\n",
      "**************** tweedie ****************\n",
      "Training until validation scores don't improve for 451 rounds\n",
      "[100]\tvalid_0's ER: 118.74\n",
      "[200]\tvalid_0's ER: 99.28\n",
      "[300]\tvalid_0's ER: 93.47\n",
      "[400]\tvalid_0's ER: 91.47\n",
      "[500]\tvalid_0's ER: 90.68\n",
      "[600]\tvalid_0's ER: 90.54\n",
      "[700]\tvalid_0's ER: 90.56\n",
      "[800]\tvalid_0's ER: 90.46\n",
      "[900]\tvalid_0's ER: 90.46\n",
      "[1000]\tvalid_0's ER: 90.46\n",
      "[1100]\tvalid_0's ER: 90.46\n",
      "[1200]\tvalid_0's ER: 90.46\n",
      "Early stopping, best iteration is:\n",
      "[776]\tvalid_0's ER: 90.37\n",
      "Evaluated only: ER\n"
     ]
    },
    {
     "name": "stderr",
     "output_type": "stream",
     "text": [
      "[I 2023-12-21 16:02:03,208] Trial 5 finished with value: 90.37 and parameters: {'lambda_l1': 932.8790058215064, 'lambda_l2': 309.3350509073541, 'learning_rate': 0.012454455928151517, 'num_leaves': 845, 'feature_fraction': 0.9567108696073205, 'min_data_in_leaf': 421}. Best is trial 2 with value: 87.52.\n"
     ]
    },
    {
     "name": "stdout",
     "output_type": "stream",
     "text": [
      "**************** tweedie ****************\n",
      "Training until validation scores don't improve for 99 rounds\n",
      "[100]\tvalid_0's ER: 92.32\n"
     ]
    },
    {
     "name": "stderr",
     "output_type": "stream",
     "text": [
      "[I 2023-12-21 16:02:13,033] Trial 6 finished with value: 90.83 and parameters: {'lambda_l1': 735.1637086127756, 'lambda_l2': 69.31512704713028, 'learning_rate': 0.10204057833113579, 'num_leaves': 232, 'feature_fraction': 0.5120404231388509, 'min_data_in_leaf': 0}. Best is trial 2 with value: 87.52.\n"
     ]
    },
    {
     "name": "stdout",
     "output_type": "stream",
     "text": [
      "Early stopping, best iteration is:\n",
      "[75]\tvalid_0's ER: 90.83\n",
      "Evaluated only: ER\n",
      "**************** tweedie ****************\n",
      "Training until validation scores don't improve for 68 rounds\n"
     ]
    },
    {
     "name": "stderr",
     "output_type": "stream",
     "text": [
      "[I 2023-12-21 16:02:16,697] Trial 7 finished with value: 95.58 and parameters: {'lambda_l1': 454.60295607679404, 'lambda_l2': 416.0869369110625, 'learning_rate': 0.2745646649580875, 'num_leaves': 819, 'feature_fraction': 0.463848833007434, 'min_data_in_leaf': 7937}. Best is trial 2 with value: 87.52.\n"
     ]
    },
    {
     "name": "stdout",
     "output_type": "stream",
     "text": [
      "Early stopping, best iteration is:\n",
      "[22]\tvalid_0's ER: 95.58\n",
      "Evaluated only: ER\n",
      "**************** tweedie ****************\n",
      "Training until validation scores don't improve for 77 rounds\n",
      "[100]\tvalid_0's ER: 96.83\n"
     ]
    },
    {
     "name": "stderr",
     "output_type": "stream",
     "text": [
      "[I 2023-12-21 16:02:21,552] Trial 8 finished with value: 95.84 and parameters: {'lambda_l1': 729.033675835814, 'lambda_l2': 683.6197295249693, 'learning_rate': 0.18385188483158976, 'num_leaves': 142, 'feature_fraction': 0.45807463464942827, 'min_data_in_leaf': 4442}. Best is trial 2 with value: 87.52.\n"
     ]
    },
    {
     "name": "stdout",
     "output_type": "stream",
     "text": [
      "Early stopping, best iteration is:\n",
      "[71]\tvalid_0's ER: 95.84\n",
      "Evaluated only: ER\n",
      "**************** tweedie ****************\n",
      "Training until validation scores don't improve for 126 rounds\n",
      "[100]\tvalid_0's ER: 95.8\n",
      "[200]\tvalid_0's ER: 94.11\n",
      "[300]\tvalid_0's ER: 93.75\n"
     ]
    },
    {
     "name": "stderr",
     "output_type": "stream",
     "text": [
      "[I 2023-12-21 16:02:36,168] Trial 9 finished with value: 93.67 and parameters: {'lambda_l1': 216.8097313191636, 'lambda_l2': 324.0524687998504, 'learning_rate': 0.06532483264057166, 'num_leaves': 729, 'feature_fraction': 0.9825642048559724, 'min_data_in_leaf': 6313}. Best is trial 2 with value: 87.52.\n"
     ]
    },
    {
     "name": "stdout",
     "output_type": "stream",
     "text": [
      "Early stopping, best iteration is:\n",
      "[235]\tvalid_0's ER: 93.67\n",
      "Evaluated only: ER\n",
      "# Experimentos: 10\n",
      "Mejor experimento: {'lambda_l1': 108.4956931845007, 'lambda_l2': 264.48509468593807, 'learning_rate': 0.17423882974870464, 'num_leaves': 756, 'feature_fraction': 0.4787135463862468, 'min_data_in_leaf': 2128}\n",
      "=========================================== Cluster 11 ===========================================\n"
     ]
    },
    {
     "name": "stderr",
     "output_type": "stream",
     "text": [
      "[I 2023-12-21 16:02:37,123] A new study created in memory with name: no-name-f04dc24c-fe8c-49b2-b37c-6d14871d3780\n"
     ]
    },
    {
     "name": "stdout",
     "output_type": "stream",
     "text": [
      "Periodos entrenar: [201701 201702 201703 201704 201705 201706 201707 201708 201709 201710\n",
      " 201711 201712 201801 201802 201803 201804 201805 201806 201807 201808\n",
      " 201809 201810 201811 201812 201901 201902 201903 201904 201905]\n",
      "Periodos validar: [201907]\n",
      "product_id a validar: 1160\n",
      "X_train: (30914, 120)\n",
      "y_train: (30914,)\n",
      "\n",
      "X_validate: (1160, 120)\n",
      "y_validate: (1160,)\n",
      "Optimizacion Bayesiana\n",
      "**************** tweedie ****************\n",
      "Training until validation scores don't improve for 165 rounds\n",
      "[100]\tvalid_0's ER: 95.47\n",
      "[200]\tvalid_0's ER: 93.34\n"
     ]
    },
    {
     "name": "stderr",
     "output_type": "stream",
     "text": [
      "[I 2023-12-21 16:02:38,465] Trial 0 finished with value: 93.27 and parameters: {'lambda_l1': 942.5111006931108, 'lambda_l2': 226.6780535894778, 'learning_rate': 0.0434011613849454, 'num_leaves': 157, 'feature_fraction': 0.6446117023437782, 'min_data_in_leaf': 2024}. Best is trial 0 with value: 93.27.\n"
     ]
    },
    {
     "name": "stdout",
     "output_type": "stream",
     "text": [
      "[300]\tvalid_0's ER: 93.37\n",
      "Early stopping, best iteration is:\n",
      "[172]\tvalid_0's ER: 93.27\n",
      "Evaluated only: ER\n",
      "**************** tweedie ****************\n",
      "Training until validation scores don't improve for 155 rounds\n",
      "[100]\tvalid_0's ER: 95.3\n",
      "[200]\tvalid_0's ER: 94.14\n"
     ]
    },
    {
     "name": "stderr",
     "output_type": "stream",
     "text": [
      "[I 2023-12-21 16:02:39,790] Trial 1 finished with value: 94.11 and parameters: {'lambda_l1': 905.5976992534844, 'lambda_l2': 264.5800885103592, 'learning_rate': 0.04723880389838417, 'num_leaves': 51, 'feature_fraction': 0.9748964538961893, 'min_data_in_leaf': 2358}. Best is trial 0 with value: 93.27.\n"
     ]
    },
    {
     "name": "stdout",
     "output_type": "stream",
     "text": [
      "[300]\tvalid_0's ER: 94.15\n",
      "Early stopping, best iteration is:\n",
      "[166]\tvalid_0's ER: 94.11\n",
      "Evaluated only: ER\n",
      "**************** tweedie ****************\n",
      "Training until validation scores don't improve for 71 rounds\n"
     ]
    },
    {
     "name": "stderr",
     "output_type": "stream",
     "text": [
      "[I 2023-12-21 16:02:40,400] Trial 2 finished with value: 87.62 and parameters: {'lambda_l1': 314.3431567878212, 'lambda_l2': 119.00373169748923, 'learning_rate': 0.22934366559006017, 'num_leaves': 903, 'feature_fraction': 0.9717812606561844, 'min_data_in_leaf': 241}. Best is trial 2 with value: 87.62.\n"
     ]
    },
    {
     "name": "stdout",
     "output_type": "stream",
     "text": [
      "[100]\tvalid_0's ER: 87.62\n",
      "Early stopping, best iteration is:\n",
      "[29]\tvalid_0's ER: 87.62\n",
      "Evaluated only: ER\n",
      "**************** tweedie ****************\n",
      "Training until validation scores don't improve for 67 rounds\n"
     ]
    },
    {
     "name": "stderr",
     "output_type": "stream",
     "text": [
      "[I 2023-12-21 16:02:40,933] Trial 3 finished with value: 88.5 and parameters: {'lambda_l1': 343.20853687560736, 'lambda_l2': 252.35212053476818, 'learning_rate': 0.2939093635896551, 'num_leaves': 60, 'feature_fraction': 0.894172870557099, 'min_data_in_leaf': 927}. Best is trial 2 with value: 87.62.\n"
     ]
    },
    {
     "name": "stdout",
     "output_type": "stream",
     "text": [
      "Early stopping, best iteration is:\n",
      "[25]\tvalid_0's ER: 88.5\n",
      "Evaluated only: ER\n",
      "**************** tweedie ****************\n",
      "Training until validation scores don't improve for 70 rounds\n"
     ]
    },
    {
     "name": "stderr",
     "output_type": "stream",
     "text": [
      "[I 2023-12-21 16:02:41,539] Trial 4 finished with value: 93.46 and parameters: {'lambda_l1': 748.5344687735541, 'lambda_l2': 171.3966943256906, 'learning_rate': 0.24853428516227427, 'num_leaves': 839, 'feature_fraction': 0.5362312250328296, 'min_data_in_leaf': 3680}. Best is trial 2 with value: 87.62.\n"
     ]
    },
    {
     "name": "stdout",
     "output_type": "stream",
     "text": [
      "[100]\tvalid_0's ER: 93.46\n",
      "Early stopping, best iteration is:\n",
      "[67]\tvalid_0's ER: 93.46\n",
      "Evaluated only: ER\n",
      "**************** tweedie ****************\n",
      "Training until validation scores don't improve for 75 rounds\n"
     ]
    },
    {
     "name": "stderr",
     "output_type": "stream",
     "text": [
      "[I 2023-12-21 16:02:42,074] Trial 5 finished with value: 92.09 and parameters: {'lambda_l1': 589.9164830753775, 'lambda_l2': 1.6880640047390871, 'learning_rate': 0.19317957029796137, 'num_leaves': 578, 'feature_fraction': 0.5149778980293523, 'min_data_in_leaf': 5211}. Best is trial 2 with value: 87.62.\n"
     ]
    },
    {
     "name": "stdout",
     "output_type": "stream",
     "text": [
      "[100]\tvalid_0's ER: 92.09\n",
      "Early stopping, best iteration is:\n",
      "[45]\tvalid_0's ER: 92.09\n",
      "Evaluated only: ER\n",
      "**************** tweedie ****************\n",
      "Training until validation scores don't improve for 84 rounds\n"
     ]
    },
    {
     "name": "stderr",
     "output_type": "stream",
     "text": [
      "[I 2023-12-21 16:02:42,736] Trial 6 finished with value: 91.76 and parameters: {'lambda_l1': 552.984919866771, 'lambda_l2': 239.9740247128812, 'learning_rate': 0.1442528868042163, 'num_leaves': 311, 'feature_fraction': 0.9627055963616034, 'min_data_in_leaf': 4311}. Best is trial 2 with value: 87.62.\n"
     ]
    },
    {
     "name": "stdout",
     "output_type": "stream",
     "text": [
      "[100]\tvalid_0's ER: 91.76\n",
      "Early stopping, best iteration is:\n",
      "[58]\tvalid_0's ER: 91.76\n",
      "Evaluated only: ER\n",
      "**************** tweedie ****************\n",
      "Training until validation scores don't improve for 83 rounds\n",
      "[100]\tvalid_0's ER: 90.44\n"
     ]
    },
    {
     "name": "stderr",
     "output_type": "stream",
     "text": [
      "[I 2023-12-21 16:02:43,356] Trial 7 finished with value: 90.32 and parameters: {'lambda_l1': 495.2941962461228, 'lambda_l2': 937.0081185340737, 'learning_rate': 0.14999811120350773, 'num_leaves': 165, 'feature_fraction': 0.21254548856129363, 'min_data_in_leaf': 6496}. Best is trial 2 with value: 87.62.\n"
     ]
    },
    {
     "name": "stdout",
     "output_type": "stream",
     "text": [
      "[200]\tvalid_0's ER: 90.32\n",
      "Early stopping, best iteration is:\n",
      "[144]\tvalid_0's ER: 90.31\n",
      "Evaluated only: ER\n",
      "**************** tweedie ****************\n",
      "Training until validation scores don't improve for 97 rounds\n",
      "[100]\tvalid_0's ER: 86.76\n"
     ]
    },
    {
     "name": "stderr",
     "output_type": "stream",
     "text": [
      "[I 2023-12-21 16:02:44,137] Trial 8 finished with value: 86.61 and parameters: {'lambda_l1': 76.08333527971534, 'lambda_l2': 238.51252561781124, 'learning_rate': 0.10428565651701581, 'num_leaves': 826, 'feature_fraction': 0.2703691892904539, 'min_data_in_leaf': 2637}. Best is trial 8 with value: 86.61.\n"
     ]
    },
    {
     "name": "stdout",
     "output_type": "stream",
     "text": [
      "[200]\tvalid_0's ER: 86.83\n",
      "Early stopping, best iteration is:\n",
      "[112]\tvalid_0's ER: 86.61\n",
      "Evaluated only: ER\n",
      "**************** tweedie ****************\n",
      "Training until validation scores don't improve for 68 rounds\n"
     ]
    },
    {
     "name": "stderr",
     "output_type": "stream",
     "text": [
      "[I 2023-12-21 16:02:44,741] Trial 9 finished with value: 89.95 and parameters: {'lambda_l1': 395.008457902983, 'lambda_l2': 443.5677379520313, 'learning_rate': 0.27559237985559715, 'num_leaves': 914, 'feature_fraction': 0.9385037197227173, 'min_data_in_leaf': 3327}. Best is trial 8 with value: 86.61.\n"
     ]
    },
    {
     "name": "stdout",
     "output_type": "stream",
     "text": [
      "[100]\tvalid_0's ER: 89.95\n",
      "Early stopping, best iteration is:\n",
      "[37]\tvalid_0's ER: 89.95\n",
      "Evaluated only: ER\n",
      "# Experimentos: 10\n",
      "Mejor experimento: {'lambda_l1': 76.08333527971534, 'lambda_l2': 238.51252561781124, 'learning_rate': 0.10428565651701581, 'num_leaves': 826, 'feature_fraction': 0.2703691892904539, 'min_data_in_leaf': 2637}\n",
      "=========================================== Cluster 12 ===========================================\n"
     ]
    },
    {
     "name": "stderr",
     "output_type": "stream",
     "text": [
      "[I 2023-12-21 16:02:53,264] A new study created in memory with name: no-name-f367aa81-e25b-4bc1-8848-a9901010ca71\n"
     ]
    },
    {
     "name": "stdout",
     "output_type": "stream",
     "text": [
      "Periodos entrenar: [201701 201702 201703 201704 201705 201706 201707 201708 201709 201710\n",
      " 201711 201712 201801 201802 201803 201804 201805 201806 201807 201808\n",
      " 201809 201810 201811 201812 201901 201902 201903 201904 201905]\n",
      "Periodos validar: [201907]\n",
      "product_id a validar: 16820\n",
      "X_train: (317387, 120)\n",
      "y_train: (317387,)\n",
      "\n",
      "X_validate: (16820, 120)\n",
      "y_validate: (16820,)\n",
      "Optimizacion Bayesiana\n",
      "**************** tweedie ****************\n",
      "Training until validation scores don't improve for 85 rounds\n",
      "[100]\tvalid_0's ER: 86.93\n"
     ]
    },
    {
     "name": "stderr",
     "output_type": "stream",
     "text": [
      "[I 2023-12-21 16:03:01,542] Trial 0 finished with value: 86.92 and parameters: {'lambda_l1': 659.8862231072741, 'lambda_l2': 930.7641370394783, 'learning_rate': 0.14284812654628326, 'num_leaves': 159, 'feature_fraction': 0.8935605677446761, 'min_data_in_leaf': 6578}. Best is trial 0 with value: 86.92.\n"
     ]
    },
    {
     "name": "stdout",
     "output_type": "stream",
     "text": [
      "Early stopping, best iteration is:\n",
      "[87]\tvalid_0's ER: 86.92\n",
      "Evaluated only: ER\n",
      "**************** tweedie ****************\n",
      "Training until validation scores don't improve for 290 rounds\n",
      "[100]\tvalid_0's ER: 100.56\n",
      "[200]\tvalid_0's ER: 89.29\n",
      "[300]\tvalid_0's ER: 87.06\n",
      "[400]\tvalid_0's ER: 86.1\n",
      "[500]\tvalid_0's ER: 85.54\n",
      "[600]\tvalid_0's ER: 85.33\n",
      "[700]\tvalid_0's ER: 85.19\n",
      "[800]\tvalid_0's ER: 85.16\n",
      "[900]\tvalid_0's ER: 85.16\n",
      "[1000]\tvalid_0's ER: 85.16\n",
      "Early stopping, best iteration is:\n",
      "[764]\tvalid_0's ER: 85.14\n",
      "Evaluated only: ER\n"
     ]
    },
    {
     "name": "stderr",
     "output_type": "stream",
     "text": [
      "[I 2023-12-21 16:03:53,721] Trial 1 finished with value: 85.14 and parameters: {'lambda_l1': 345.48153864002796, 'lambda_l2': 517.6574238011832, 'learning_rate': 0.02074714151490438, 'num_leaves': 186, 'feature_fraction': 0.657844820294293, 'min_data_in_leaf': 2106}. Best is trial 1 with value: 85.14.\n"
     ]
    },
    {
     "name": "stdout",
     "output_type": "stream",
     "text": [
      "**************** tweedie ****************\n",
      "Training until validation scores don't improve for 89 rounds\n",
      "[100]\tvalid_0's ER: 86.19\n",
      "[200]\tvalid_0's ER: 85.79\n"
     ]
    },
    {
     "name": "stderr",
     "output_type": "stream",
     "text": [
      "[I 2023-12-21 16:04:04,850] Trial 2 finished with value: 85.6 and parameters: {'lambda_l1': 50.861521161415844, 'lambda_l2': 90.16607384851305, 'learning_rate': 0.1277105976967164, 'num_leaves': 861, 'feature_fraction': 0.325822040923707, 'min_data_in_leaf': 6170}. Best is trial 1 with value: 85.14.\n"
     ]
    },
    {
     "name": "stdout",
     "output_type": "stream",
     "text": [
      "Early stopping, best iteration is:\n",
      "[187]\tvalid_0's ER: 85.6\n",
      "Evaluated only: ER\n",
      "**************** tweedie ****************\n",
      "Training until validation scores don't improve for 125 rounds\n",
      "[100]\tvalid_0's ER: 86.73\n",
      "[200]\tvalid_0's ER: 85.54\n",
      "[300]\tvalid_0's ER: 85.56\n",
      "Early stopping, best iteration is:\n",
      "[184]\tvalid_0's ER: 85.51\n",
      "Evaluated only: ER\n"
     ]
    },
    {
     "name": "stderr",
     "output_type": "stream",
     "text": [
      "[I 2023-12-21 16:04:13,206] Trial 3 finished with value: 85.51 and parameters: {'lambda_l1': 489.04464341775946, 'lambda_l2': 284.3353942109077, 'learning_rate': 0.06613022218736449, 'num_leaves': 947, 'feature_fraction': 0.2234787115311141, 'min_data_in_leaf': 3757}. Best is trial 1 with value: 85.14.\n"
     ]
    },
    {
     "name": "stdout",
     "output_type": "stream",
     "text": [
      "**************** tweedie ****************\n",
      "Training until validation scores don't improve for 69 rounds\n",
      "[100]\tvalid_0's ER: 89.3\n"
     ]
    },
    {
     "name": "stderr",
     "output_type": "stream",
     "text": [
      "[I 2023-12-21 16:04:17,552] Trial 4 finished with value: 89.25 and parameters: {'lambda_l1': 940.2497621360216, 'lambda_l2': 671.9892922971137, 'learning_rate': 0.2600517316566342, 'num_leaves': 58, 'feature_fraction': 0.3735919252119332, 'min_data_in_leaf': 7869}. Best is trial 1 with value: 85.14.\n"
     ]
    },
    {
     "name": "stdout",
     "output_type": "stream",
     "text": [
      "Early stopping, best iteration is:\n",
      "[42]\tvalid_0's ER: 89.25\n",
      "Evaluated only: ER\n",
      "**************** tweedie ****************\n",
      "Training until validation scores don't improve for 68 rounds\n",
      "[100]\tvalid_0's ER: 86.99\n"
     ]
    },
    {
     "name": "stderr",
     "output_type": "stream",
     "text": [
      "[I 2023-12-21 16:04:23,693] Trial 5 finished with value: 86.97 and parameters: {'lambda_l1': 395.04920684766955, 'lambda_l2': 763.1061533310535, 'learning_rate': 0.2697993552318949, 'num_leaves': 320, 'feature_fraction': 0.8162381620445391, 'min_data_in_leaf': 6850}. Best is trial 1 with value: 85.14.\n"
     ]
    },
    {
     "name": "stdout",
     "output_type": "stream",
     "text": [
      "Early stopping, best iteration is:\n",
      "[60]\tvalid_0's ER: 86.97\n",
      "Evaluated only: ER\n",
      "**************** tweedie ****************\n",
      "Training until validation scores don't improve for 83 rounds\n",
      "[100]\tvalid_0's ER: 87.78\n"
     ]
    },
    {
     "name": "stderr",
     "output_type": "stream",
     "text": [
      "[I 2023-12-21 16:04:30,564] Trial 6 finished with value: 87.64 and parameters: {'lambda_l1': 701.7816259110483, 'lambda_l2': 16.02758984574548, 'learning_rate': 0.1483355672313727, 'num_leaves': 114, 'feature_fraction': 0.6214722696720882, 'min_data_in_leaf': 1872}. Best is trial 1 with value: 85.14.\n"
     ]
    },
    {
     "name": "stdout",
     "output_type": "stream",
     "text": [
      "Early stopping, best iteration is:\n",
      "[52]\tvalid_0's ER: 87.64\n",
      "Evaluated only: ER\n",
      "**************** tweedie ****************\n",
      "Training until validation scores don't improve for 129 rounds\n",
      "[100]\tvalid_0's ER: 85.65\n",
      "[200]\tvalid_0's ER: 85.06\n",
      "[300]\tvalid_0's ER: 84.77\n",
      "Early stopping, best iteration is:\n",
      "[266]\tvalid_0's ER: 84.65\n",
      "Evaluated only: ER\n"
     ]
    },
    {
     "name": "stderr",
     "output_type": "stream",
     "text": [
      "[I 2023-12-21 16:04:53,022] Trial 7 finished with value: 84.65 and parameters: {'lambda_l1': 319.1650084481521, 'lambda_l2': 164.60229733057153, 'learning_rate': 0.0629726772623462, 'num_leaves': 561, 'feature_fraction': 0.7666484551763777, 'min_data_in_leaf': 1225}. Best is trial 7 with value: 84.65.\n"
     ]
    },
    {
     "name": "stdout",
     "output_type": "stream",
     "text": [
      "**************** tweedie ****************\n",
      "Training until validation scores don't improve for 105 rounds\n",
      "[100]\tvalid_0's ER: 84.42\n",
      "[200]\tvalid_0's ER: 84.23\n",
      "Early stopping, best iteration is:\n",
      "[102]\tvalid_0's ER: 83.99\n",
      "Evaluated only: ER\n"
     ]
    },
    {
     "name": "stderr",
     "output_type": "stream",
     "text": [
      "[I 2023-12-21 16:05:02,972] Trial 8 finished with value: 83.99 and parameters: {'lambda_l1': 949.5949228406215, 'lambda_l2': 268.3951618895526, 'learning_rate': 0.0902844696932528, 'num_leaves': 793, 'feature_fraction': 0.28242348130869543, 'min_data_in_leaf': 340}. Best is trial 8 with value: 83.99.\n"
     ]
    },
    {
     "name": "stdout",
     "output_type": "stream",
     "text": [
      "**************** tweedie ****************\n",
      "Training until validation scores don't improve for 148 rounds\n",
      "[100]\tvalid_0's ER: 88.11\n",
      "[200]\tvalid_0's ER: 85.49\n",
      "[300]\tvalid_0's ER: 85.16\n",
      "[400]\tvalid_0's ER: 85.05\n"
     ]
    },
    {
     "name": "stderr",
     "output_type": "stream",
     "text": [
      "[I 2023-12-21 16:05:20,450] Trial 9 finished with value: 85.03 and parameters: {'lambda_l1': 241.80339201508693, 'lambda_l2': 427.43614052589896, 'learning_rate': 0.051016285052755524, 'num_leaves': 464, 'feature_fraction': 0.46668884401210997, 'min_data_in_leaf': 6714}. Best is trial 8 with value: 83.99.\n"
     ]
    },
    {
     "name": "stdout",
     "output_type": "stream",
     "text": [
      "Early stopping, best iteration is:\n",
      "[332]\tvalid_0's ER: 85.03\n",
      "Evaluated only: ER\n",
      "# Experimentos: 10\n",
      "Mejor experimento: {'lambda_l1': 949.5949228406215, 'lambda_l2': 268.3951618895526, 'learning_rate': 0.0902844696932528, 'num_leaves': 793, 'feature_fraction': 0.28242348130869543, 'min_data_in_leaf': 340}\n",
      "=========================================== Cluster 13 ===========================================\n",
      "Periodos entrenar: [201701 201702 201703 201704 201705 201706 201707 201708 201709 201710\n",
      " 201711 201712 201801 201802 201803 201804 201805 201806 201807 201808\n",
      " 201809 201810 201811 201812 201901 201902 201903 201904 201905]\n",
      "Periodos validar: [201907]\n",
      "product_id a validar: 74240\n"
     ]
    },
    {
     "name": "stderr",
     "output_type": "stream",
     "text": [
      "[I 2023-12-21 16:06:10,540] A new study created in memory with name: no-name-f60d1c42-1c6d-4e7f-a41c-ce1a523f7d22\n"
     ]
    },
    {
     "name": "stdout",
     "output_type": "stream",
     "text": [
      "X_train: (1668866, 120)\n",
      "y_train: (1668866,)\n",
      "\n",
      "X_validate: (74240, 120)\n",
      "y_validate: (74240,)\n",
      "Optimizacion Bayesiana\n",
      "**************** tweedie ****************\n",
      "Training until validation scores don't improve for 83 rounds\n",
      "[100]\tvalid_0's ER: 91.15\n",
      "Early stopping, best iteration is:\n",
      "[38]\tvalid_0's ER: 90.12\n",
      "Evaluated only: ER\n"
     ]
    },
    {
     "name": "stderr",
     "output_type": "stream",
     "text": [
      "[I 2023-12-21 16:06:44,071] Trial 0 finished with value: 90.12 and parameters: {'lambda_l1': 410.17697534733077, 'lambda_l2': 232.38937706369856, 'learning_rate': 0.14922833499625823, 'num_leaves': 648, 'feature_fraction': 0.49102367580161277, 'min_data_in_leaf': 2287}. Best is trial 0 with value: 90.12.\n"
     ]
    },
    {
     "name": "stdout",
     "output_type": "stream",
     "text": [
      "**************** tweedie ****************\n",
      "Training until validation scores don't improve for 79 rounds\n",
      "[100]\tvalid_0's ER: 89.53\n",
      "[200]\tvalid_0's ER: 89.19\n",
      "[300]\tvalid_0's ER: 88.76\n",
      "Early stopping, best iteration is:\n",
      "[264]\tvalid_0's ER: 88.69\n",
      "Evaluated only: ER\n"
     ]
    },
    {
     "name": "stderr",
     "output_type": "stream",
     "text": [
      "[I 2023-12-21 16:08:38,873] Trial 1 finished with value: 88.69 and parameters: {'lambda_l1': 209.47853306987162, 'lambda_l2': 638.574788327661, 'learning_rate': 0.16961690527546366, 'num_leaves': 166, 'feature_fraction': 0.5387896761857405, 'min_data_in_leaf': 51}. Best is trial 1 with value: 88.69.\n"
     ]
    },
    {
     "name": "stdout",
     "output_type": "stream",
     "text": [
      "**************** tweedie ****************\n",
      "Training until validation scores don't improve for 122 rounds\n",
      "[100]\tvalid_0's ER: 90.43\n",
      "[200]\tvalid_0's ER: 90.78\n",
      "Early stopping, best iteration is:\n",
      "[91]\tvalid_0's ER: 90.36\n",
      "Evaluated only: ER\n"
     ]
    },
    {
     "name": "stderr",
     "output_type": "stream",
     "text": [
      "[I 2023-12-21 16:09:43,860] Trial 2 finished with value: 90.36 and parameters: {'lambda_l1': 460.06824374593845, 'lambda_l2': 482.0831872151072, 'learning_rate': 0.06905593072486227, 'num_leaves': 275, 'feature_fraction': 0.9223008884863433, 'min_data_in_leaf': 5222}. Best is trial 1 with value: 88.69.\n"
     ]
    },
    {
     "name": "stdout",
     "output_type": "stream",
     "text": [
      "**************** tweedie ****************\n",
      "Training until validation scores don't improve for 77 rounds\n",
      "[100]\tvalid_0's ER: 91.28\n",
      "Early stopping, best iteration is:\n",
      "[117]\tvalid_0's ER: 90.92\n",
      "Evaluated only: ER\n"
     ]
    },
    {
     "name": "stderr",
     "output_type": "stream",
     "text": [
      "[I 2023-12-21 16:10:29,824] Trial 3 finished with value: 90.92 and parameters: {'lambda_l1': 264.642229205007, 'lambda_l2': 804.7473342971685, 'learning_rate': 0.18482221257564585, 'num_leaves': 367, 'feature_fraction': 0.45734974071090123, 'min_data_in_leaf': 5949}. Best is trial 1 with value: 88.69.\n"
     ]
    },
    {
     "name": "stdout",
     "output_type": "stream",
     "text": [
      "**************** tweedie ****************\n",
      "Training until validation scores don't improve for 85 rounds\n",
      "[100]\tvalid_0's ER: 88.99\n",
      "[200]\tvalid_0's ER: 87.65\n",
      "[300]\tvalid_0's ER: 87.32\n",
      "[400]\tvalid_0's ER: 87.11\n",
      "[500]\tvalid_0's ER: 86.98\n",
      "[600]\tvalid_0's ER: 86.76\n",
      "[700]\tvalid_0's ER: 86.67\n",
      "[800]\tvalid_0's ER: 86.63\n",
      "Early stopping, best iteration is:\n",
      "[718]\tvalid_0's ER: 86.6\n",
      "Evaluated only: ER\n"
     ]
    },
    {
     "name": "stderr",
     "output_type": "stream",
     "text": [
      "[I 2023-12-21 16:18:10,215] Trial 4 finished with value: 86.6 and parameters: {'lambda_l1': 44.82095975821154, 'lambda_l2': 346.2831090177306, 'learning_rate': 0.14004283830480277, 'num_leaves': 600, 'feature_fraction': 0.8938316405226225, 'min_data_in_leaf': 638}. Best is trial 4 with value: 86.6.\n"
     ]
    },
    {
     "name": "stdout",
     "output_type": "stream",
     "text": [
      "**************** tweedie ****************\n",
      "Training until validation scores don't improve for 105 rounds\n",
      "[100]\tvalid_0's ER: 90.88\n",
      "Early stopping, best iteration is:\n",
      "[69]\tvalid_0's ER: 90.64\n",
      "Evaluated only: ER\n"
     ]
    },
    {
     "name": "stderr",
     "output_type": "stream",
     "text": [
      "[I 2023-12-21 16:18:46,637] Trial 5 finished with value: 90.64 and parameters: {'lambda_l1': 381.1673633324858, 'lambda_l2': 652.2626792616, 'learning_rate': 0.08989724265996493, 'num_leaves': 221, 'feature_fraction': 0.4089692996028304, 'min_data_in_leaf': 6439}. Best is trial 4 with value: 86.6.\n"
     ]
    },
    {
     "name": "stdout",
     "output_type": "stream",
     "text": [
      "**************** tweedie ****************\n",
      "Training until validation scores don't improve for 67 rounds\n",
      "[100]\tvalid_0's ER: 89.97\n",
      "[200]\tvalid_0's ER: 88.62\n",
      "[300]\tvalid_0's ER: 88.08\n",
      "[400]\tvalid_0's ER: 87.74\n",
      "Early stopping, best iteration is:\n",
      "[372]\tvalid_0's ER: 87.54\n",
      "Evaluated only: ER\n"
     ]
    },
    {
     "name": "stderr",
     "output_type": "stream",
     "text": [
      "[I 2023-12-21 16:20:10,476] Trial 6 finished with value: 87.54 and parameters: {'lambda_l1': 40.826157725443956, 'lambda_l2': 82.7516597733159, 'learning_rate': 0.280229971891284, 'num_leaves': 366, 'feature_fraction': 0.28612951238272705, 'min_data_in_leaf': 5682}. Best is trial 4 with value: 86.6.\n"
     ]
    },
    {
     "name": "stdout",
     "output_type": "stream",
     "text": [
      "**************** tweedie ****************\n",
      "Training until validation scores don't improve for 98 rounds\n",
      "[100]\tvalid_0's ER: 90.85\n",
      "Early stopping, best iteration is:\n",
      "[51]\tvalid_0's ER: 90.3\n",
      "Evaluated only: ER\n"
     ]
    },
    {
     "name": "stderr",
     "output_type": "stream",
     "text": [
      "[I 2023-12-21 16:21:08,468] Trial 7 finished with value: 90.3 and parameters: {'lambda_l1': 114.65569711059098, 'lambda_l2': 760.1740751946859, 'learning_rate': 0.10331046833603967, 'num_leaves': 821, 'feature_fraction': 0.9129875304175599, 'min_data_in_leaf': 4274}. Best is trial 4 with value: 86.6.\n"
     ]
    },
    {
     "name": "stdout",
     "output_type": "stream",
     "text": [
      "**************** tweedie ****************\n",
      "Training until validation scores don't improve for 67 rounds\n"
     ]
    },
    {
     "name": "stderr",
     "output_type": "stream",
     "text": [
      "[I 2023-12-21 16:21:26,728] Trial 8 finished with value: 91.36 and parameters: {'lambda_l1': 321.19766592507347, 'lambda_l2': 602.0410160174534, 'learning_rate': 0.2912640002734503, 'num_leaves': 106, 'feature_fraction': 0.20130819868287217, 'min_data_in_leaf': 959}. Best is trial 4 with value: 86.6.\n"
     ]
    },
    {
     "name": "stdout",
     "output_type": "stream",
     "text": [
      "Early stopping, best iteration is:\n",
      "[16]\tvalid_0's ER: 91.36\n",
      "Evaluated only: ER\n",
      "**************** tweedie ****************\n",
      "Training until validation scores don't improve for 75 rounds\n",
      "[100]\tvalid_0's ER: 90.92\n"
     ]
    },
    {
     "name": "stderr",
     "output_type": "stream",
     "text": [
      "[I 2023-12-21 16:21:50,467] Trial 9 finished with value: 90.28 and parameters: {'lambda_l1': 576.1658425142159, 'lambda_l2': 803.0029322916247, 'learning_rate': 0.1968267921056395, 'num_leaves': 687, 'feature_fraction': 0.40919062090706526, 'min_data_in_leaf': 5321}. Best is trial 4 with value: 86.6.\n"
     ]
    },
    {
     "name": "stdout",
     "output_type": "stream",
     "text": [
      "Early stopping, best iteration is:\n",
      "[33]\tvalid_0's ER: 90.28\n",
      "Evaluated only: ER\n",
      "# Experimentos: 10\n",
      "Mejor experimento: {'lambda_l1': 44.82095975821154, 'lambda_l2': 346.2831090177306, 'learning_rate': 0.14004283830480277, 'num_leaves': 600, 'feature_fraction': 0.8938316405226225, 'min_data_in_leaf': 638}\n",
      "=========================================== Cluster 14 ===========================================\n"
     ]
    },
    {
     "name": "stderr",
     "output_type": "stream",
     "text": [
      "[I 2023-12-21 16:21:54,015] A new study created in memory with name: no-name-30a0ee42-b940-42ce-9ecc-a1c0a21ac08f\n"
     ]
    },
    {
     "name": "stdout",
     "output_type": "stream",
     "text": [
      "Periodos entrenar: [201701 201702 201703 201704 201705 201706 201707 201708 201709 201710\n",
      " 201711 201712 201801 201802 201803 201804 201805 201806 201807 201808\n",
      " 201809 201810 201811 201812 201901 201902 201903 201904 201905]\n",
      "Periodos validar: [201907]\n",
      "product_id a validar: 5220\n",
      "X_train: (139113, 120)\n",
      "y_train: (139113,)\n",
      "\n",
      "X_validate: (5220, 120)\n",
      "y_validate: (5220,)\n",
      "Optimizacion Bayesiana\n",
      "**************** tweedie ****************\n",
      "Training until validation scores don't improve for 153 rounds\n",
      "[100]\tvalid_0's ER: 65.83\n",
      "[200]\tvalid_0's ER: 63.12\n",
      "[300]\tvalid_0's ER: 62.67\n",
      "[400]\tvalid_0's ER: 62.64\n",
      "[500]\tvalid_0's ER: 62.64\n"
     ]
    },
    {
     "name": "stderr",
     "output_type": "stream",
     "text": [
      "[I 2023-12-21 16:22:00,943] Trial 0 finished with value: 62.64 and parameters: {'lambda_l1': 242.12835546147892, 'lambda_l2': 413.3835973171889, 'learning_rate': 0.048407264289937545, 'num_leaves': 389, 'feature_fraction': 0.38057953288612834, 'min_data_in_leaf': 2467}. Best is trial 0 with value: 62.64.\n"
     ]
    },
    {
     "name": "stdout",
     "output_type": "stream",
     "text": [
      "Early stopping, best iteration is:\n",
      "[391]\tvalid_0's ER: 62.64\n",
      "Evaluated only: ER\n",
      "**************** tweedie ****************\n",
      "Training until validation scores don't improve for 69 rounds\n"
     ]
    },
    {
     "name": "stderr",
     "output_type": "stream",
     "text": [
      "[I 2023-12-21 16:22:03,204] Trial 1 finished with value: 64.36 and parameters: {'lambda_l1': 69.14060661370569, 'lambda_l2': 630.1136351259037, 'learning_rate': 0.2505256931585516, 'num_leaves': 924, 'feature_fraction': 0.30851557658477635, 'min_data_in_leaf': 6383}. Best is trial 0 with value: 62.64.\n"
     ]
    },
    {
     "name": "stdout",
     "output_type": "stream",
     "text": [
      "[100]\tvalid_0's ER: 65.09\n",
      "Early stopping, best iteration is:\n",
      "[44]\tvalid_0's ER: 64.36\n",
      "Evaluated only: ER\n",
      "**************** tweedie ****************\n",
      "Training until validation scores don't improve for 85 rounds\n",
      "[100]\tvalid_0's ER: 64.97\n"
     ]
    },
    {
     "name": "stderr",
     "output_type": "stream",
     "text": [
      "[I 2023-12-21 16:22:06,089] Trial 2 finished with value: 64.96 and parameters: {'lambda_l1': 642.712113793276, 'lambda_l2': 287.645961841825, 'learning_rate': 0.13932297179294872, 'num_leaves': 19, 'feature_fraction': 0.31577470132608587, 'min_data_in_leaf': 79}. Best is trial 0 with value: 62.64.\n"
     ]
    },
    {
     "name": "stdout",
     "output_type": "stream",
     "text": [
      "Early stopping, best iteration is:\n",
      "[78]\tvalid_0's ER: 64.93\n",
      "Evaluated only: ER\n",
      "**************** tweedie ****************\n",
      "Training until validation scores don't improve for 86 rounds\n",
      "[100]\tvalid_0's ER: 65.21\n"
     ]
    },
    {
     "name": "stderr",
     "output_type": "stream",
     "text": [
      "[I 2023-12-21 16:22:08,990] Trial 3 finished with value: 65.2 and parameters: {'lambda_l1': 454.700842668441, 'lambda_l2': 701.6715046346349, 'learning_rate': 0.13614095499667922, 'num_leaves': 592, 'feature_fraction': 0.4426695834363316, 'min_data_in_leaf': 7570}. Best is trial 0 with value: 62.64.\n"
     ]
    },
    {
     "name": "stdout",
     "output_type": "stream",
     "text": [
      "Early stopping, best iteration is:\n",
      "[98]\tvalid_0's ER: 65.2\n",
      "Evaluated only: ER\n",
      "**************** tweedie ****************\n",
      "Training until validation scores don't improve for 418 rounds\n",
      "[100]\tvalid_0's ER: 99.08\n",
      "[200]\tvalid_0's ER: 76.7\n",
      "[300]\tvalid_0's ER: 68.11\n",
      "[400]\tvalid_0's ER: 65.21\n",
      "[500]\tvalid_0's ER: 64.25\n",
      "[600]\tvalid_0's ER: 63.9\n",
      "[700]\tvalid_0's ER: 63.67\n",
      "[800]\tvalid_0's ER: 63.57\n",
      "[900]\tvalid_0's ER: 63.5\n",
      "[1000]\tvalid_0's ER: 63.5\n",
      "[1100]\tvalid_0's ER: 63.5\n",
      "[1200]\tvalid_0's ER: 63.5\n"
     ]
    },
    {
     "name": "stderr",
     "output_type": "stream",
     "text": [
      "[I 2023-12-21 16:22:25,886] Trial 4 finished with value: 63.49 and parameters: {'lambda_l1': 344.52037887292585, 'lambda_l2': 327.64590412845905, 'learning_rate': 0.013571793319379022, 'num_leaves': 975, 'feature_fraction': 0.3996300065005919, 'min_data_in_leaf': 2504}. Best is trial 0 with value: 62.64.\n"
     ]
    },
    {
     "name": "stdout",
     "output_type": "stream",
     "text": [
      "Early stopping, best iteration is:\n",
      "[871]\tvalid_0's ER: 63.49\n",
      "Evaluated only: ER\n",
      "**************** tweedie ****************\n",
      "Training until validation scores don't improve for 68 rounds\n",
      "[100]\tvalid_0's ER: 63.8\n"
     ]
    },
    {
     "name": "stderr",
     "output_type": "stream",
     "text": [
      "[I 2023-12-21 16:22:28,436] Trial 5 finished with value: 63.8 and parameters: {'lambda_l1': 306.1684509623713, 'lambda_l2': 204.54660366607325, 'learning_rate': 0.2777500331341352, 'num_leaves': 622, 'feature_fraction': 0.918445183852477, 'min_data_in_leaf': 6347}. Best is trial 0 with value: 62.64.\n"
     ]
    },
    {
     "name": "stdout",
     "output_type": "stream",
     "text": [
      "Early stopping, best iteration is:\n",
      "[55]\tvalid_0's ER: 63.8\n",
      "Evaluated only: ER\n",
      "**************** tweedie ****************\n",
      "Training until validation scores don't improve for 135 rounds\n",
      "[100]\tvalid_0's ER: 68.04\n",
      "[200]\tvalid_0's ER: 66.1\n",
      "[300]\tvalid_0's ER: 65.87\n",
      "[400]\tvalid_0's ER: 65.84\n",
      "[500]\tvalid_0's ER: 65.83\n",
      "[600]\tvalid_0's ER: 65.82\n"
     ]
    },
    {
     "name": "stderr",
     "output_type": "stream",
     "text": [
      "[I 2023-12-21 16:22:34,795] Trial 6 finished with value: 65.82 and parameters: {'lambda_l1': 434.6005433511213, 'lambda_l2': 619.0943121314139, 'learning_rate': 0.05868079835808949, 'num_leaves': 292, 'feature_fraction': 0.2700515512718705, 'min_data_in_leaf': 7203}. Best is trial 0 with value: 62.64.\n"
     ]
    },
    {
     "name": "stdout",
     "output_type": "stream",
     "text": [
      "Early stopping, best iteration is:\n",
      "[537]\tvalid_0's ER: 65.82\n",
      "Evaluated only: ER\n",
      "**************** tweedie ****************\n",
      "Training until validation scores don't improve for 68 rounds\n"
     ]
    },
    {
     "name": "stderr",
     "output_type": "stream",
     "text": [
      "[I 2023-12-21 16:22:37,428] Trial 7 finished with value: 62.9 and parameters: {'lambda_l1': 165.55847259204114, 'lambda_l2': 879.4822530842753, 'learning_rate': 0.27391362456401763, 'num_leaves': 795, 'feature_fraction': 0.5761731149141172, 'min_data_in_leaf': 3928}. Best is trial 0 with value: 62.64.\n"
     ]
    },
    {
     "name": "stdout",
     "output_type": "stream",
     "text": [
      "[100]\tvalid_0's ER: 63.13\n",
      "Early stopping, best iteration is:\n",
      "[35]\tvalid_0's ER: 62.9\n",
      "Evaluated only: ER\n",
      "**************** tweedie ****************\n",
      "Training until validation scores don't improve for 75 rounds\n",
      "[100]\tvalid_0's ER: 64.42\n",
      "Early stopping, best iteration is:\n",
      "[41]\tvalid_0's ER: 64.42\n",
      "Evaluated only: ER\n"
     ]
    },
    {
     "name": "stderr",
     "output_type": "stream",
     "text": [
      "[I 2023-12-21 16:22:40,347] Trial 8 finished with value: 64.42 and parameters: {'lambda_l1': 856.6515224381852, 'lambda_l2': 606.8235739693422, 'learning_rate': 0.1993772557406388, 'num_leaves': 1020, 'feature_fraction': 0.5980786220238331, 'min_data_in_leaf': 696}. Best is trial 0 with value: 62.64.\n"
     ]
    },
    {
     "name": "stdout",
     "output_type": "stream",
     "text": [
      "**************** tweedie ****************\n",
      "Training until validation scores don't improve for 69 rounds\n",
      "[100]\tvalid_0's ER: 63.1\n"
     ]
    },
    {
     "name": "stderr",
     "output_type": "stream",
     "text": [
      "[I 2023-12-21 16:22:42,780] Trial 9 finished with value: 62.76 and parameters: {'lambda_l1': 351.79977565461996, 'lambda_l2': 947.1304801559348, 'learning_rate': 0.2623313190946603, 'num_leaves': 818, 'feature_fraction': 0.40001399021231565, 'min_data_in_leaf': 1746}. Best is trial 0 with value: 62.64.\n"
     ]
    },
    {
     "name": "stdout",
     "output_type": "stream",
     "text": [
      "Early stopping, best iteration is:\n",
      "[59]\tvalid_0's ER: 62.76\n",
      "Evaluated only: ER\n",
      "# Experimentos: 10\n",
      "Mejor experimento: {'lambda_l1': 242.12835546147892, 'lambda_l2': 413.3835973171889, 'learning_rate': 0.048407264289937545, 'num_leaves': 389, 'feature_fraction': 0.38057953288612834, 'min_data_in_leaf': 2467}\n",
      "=========================================== Cluster 15 ===========================================\n"
     ]
    },
    {
     "name": "stderr",
     "output_type": "stream",
     "text": [
      "[I 2023-12-21 16:22:43,290] A new study created in memory with name: no-name-2f468d4e-47b6-4e06-b44d-cd567c671ead\n"
     ]
    },
    {
     "name": "stdout",
     "output_type": "stream",
     "text": [
      "Periodos entrenar: [201701 201702 201703 201704 201705 201706 201707 201708 201709 201710\n",
      " 201711 201712 201801 201802 201803 201804 201805 201806 201807 201808\n",
      " 201809 201810 201811 201812 201901 201902 201903 201904 201905]\n",
      "Periodos validar: [201907]\n",
      "product_id a validar: 580\n",
      "X_train: (15457, 120)\n",
      "y_train: (15457,)\n",
      "\n",
      "X_validate: (580, 120)\n",
      "y_validate: (580,)\n",
      "Optimizacion Bayesiana\n",
      "**************** tweedie ****************\n",
      "Training until validation scores don't improve for 66 rounds\n"
     ]
    },
    {
     "name": "stderr",
     "output_type": "stream",
     "text": [
      "[I 2023-12-21 16:22:43,551] Trial 0 finished with value: 95.63 and parameters: {'lambda_l1': 506.5482845855016, 'lambda_l2': 501.93659886805597, 'learning_rate': 0.2972383325331375, 'num_leaves': 406, 'feature_fraction': 0.4467962336058186, 'min_data_in_leaf': 281}. Best is trial 0 with value: 95.63.\n"
     ]
    },
    {
     "name": "stdout",
     "output_type": "stream",
     "text": [
      "Early stopping, best iteration is:\n",
      "[15]\tvalid_0's ER: 95.63\n",
      "Evaluated only: ER\n",
      "**************** tweedie ****************\n",
      "Training until validation scores don't improve for 70 rounds\n"
     ]
    },
    {
     "name": "stderr",
     "output_type": "stream",
     "text": [
      "[I 2023-12-21 16:22:43,872] Trial 1 finished with value: 99.11 and parameters: {'lambda_l1': 459.2147496648056, 'lambda_l2': 579.147229016204, 'learning_rate': 0.24267371709931046, 'num_leaves': 615, 'feature_fraction': 0.9629406991418878, 'min_data_in_leaf': 4911}. Best is trial 0 with value: 95.63.\n"
     ]
    },
    {
     "name": "stdout",
     "output_type": "stream",
     "text": [
      "[100]\tvalid_0's ER: 99.41\n",
      "Early stopping, best iteration is:\n",
      "[36]\tvalid_0's ER: 99.11\n",
      "Evaluated only: ER\n",
      "**************** tweedie ****************\n",
      "Training until validation scores don't improve for 76 rounds\n"
     ]
    },
    {
     "name": "stderr",
     "output_type": "stream",
     "text": [
      "[I 2023-12-21 16:22:44,214] Trial 2 finished with value: 98.02 and parameters: {'lambda_l1': 657.9409887969687, 'lambda_l2': 206.04915795171186, 'learning_rate': 0.1865886282092691, 'num_leaves': 422, 'feature_fraction': 0.892639061604569, 'min_data_in_leaf': 816}. Best is trial 0 with value: 95.63.\n"
     ]
    },
    {
     "name": "stdout",
     "output_type": "stream",
     "text": [
      "[100]\tvalid_0's ER: 98.2\n",
      "Early stopping, best iteration is:\n",
      "[30]\tvalid_0's ER: 98.02\n",
      "Evaluated only: ER\n",
      "**************** tweedie ****************\n",
      "Training until validation scores don't improve for 91 rounds\n"
     ]
    },
    {
     "name": "stderr",
     "output_type": "stream",
     "text": [
      "[I 2023-12-21 16:22:44,575] Trial 3 finished with value: 106.91 and parameters: {'lambda_l1': 595.4939216493436, 'lambda_l2': 44.95331111071887, 'learning_rate': 0.12183054691295374, 'num_leaves': 559, 'feature_fraction': 0.9984180537502831, 'min_data_in_leaf': 7350}. Best is trial 0 with value: 95.63.\n"
     ]
    },
    {
     "name": "stdout",
     "output_type": "stream",
     "text": [
      "[100]\tvalid_0's ER: 107.22\n",
      "Early stopping, best iteration is:\n",
      "[67]\tvalid_0's ER: 106.91\n",
      "Evaluated only: ER\n",
      "**************** tweedie ****************\n"
     ]
    },
    {
     "name": "stderr",
     "output_type": "stream",
     "text": [
      "[I 2023-12-21 16:22:44,845] Trial 4 finished with value: 98.77 and parameters: {'lambda_l1': 494.9747754869492, 'lambda_l2': 450.3669055723779, 'learning_rate': 0.23182969818513624, 'num_leaves': 275, 'feature_fraction': 0.5465173235870703, 'min_data_in_leaf': 2747}. Best is trial 0 with value: 95.63.\n"
     ]
    },
    {
     "name": "stdout",
     "output_type": "stream",
     "text": [
      "Training until validation scores don't improve for 71 rounds\n",
      "Early stopping, best iteration is:\n",
      "[22]\tvalid_0's ER: 98.77\n",
      "Evaluated only: ER\n",
      "**************** tweedie ****************\n",
      "Training until validation scores don't improve for 225 rounds\n",
      "[100]\tvalid_0's ER: 103.05\n",
      "[200]\tvalid_0's ER: 97.36\n",
      "[300]\tvalid_0's ER: 96.14\n",
      "[400]\tvalid_0's ER: 95.68\n",
      "[500]\tvalid_0's ER: 95.43\n",
      "[600]\tvalid_0's ER: 95.33\n",
      "[700]\tvalid_0's ER: 95.28\n",
      "[800]\tvalid_0's ER: 95.25\n",
      "[900]\tvalid_0's ER: 95.23\n",
      "[1000]\tvalid_0's ER: 95.22\n",
      "[1100]\tvalid_0's ER: 95.2\n"
     ]
    },
    {
     "name": "stderr",
     "output_type": "stream",
     "text": [
      "[I 2023-12-21 16:22:47,988] Trial 5 finished with value: 95.2 and parameters: {'lambda_l1': 231.4450253810546, 'lambda_l2': 317.77176344063093, 'learning_rate': 0.028471313732183513, 'num_leaves': 275, 'feature_fraction': 0.6481396670975724, 'min_data_in_leaf': 5071}. Best is trial 5 with value: 95.2.\n"
     ]
    },
    {
     "name": "stdout",
     "output_type": "stream",
     "text": [
      "[1200]\tvalid_0's ER: 95.2\n",
      "Early stopping, best iteration is:\n",
      "[1057]\tvalid_0's ER: 95.2\n",
      "Evaluated only: ER\n",
      "**************** tweedie ****************\n",
      "Training until validation scores don't improve for 77 rounds\n",
      "[100]\tvalid_0's ER: 102.74\n"
     ]
    },
    {
     "name": "stderr",
     "output_type": "stream",
     "text": [
      "[I 2023-12-21 16:22:48,372] Trial 6 finished with value: 102.74 and parameters: {'lambda_l1': 723.2672872161571, 'lambda_l2': 312.0674146452026, 'learning_rate': 0.1830982512647856, 'num_leaves': 981, 'feature_fraction': 0.7398562205897412, 'min_data_in_leaf': 5681}. Best is trial 5 with value: 95.2.\n"
     ]
    },
    {
     "name": "stdout",
     "output_type": "stream",
     "text": [
      "Early stopping, best iteration is:\n",
      "[68]\tvalid_0's ER: 102.74\n",
      "Evaluated only: ER\n",
      "**************** tweedie ****************\n",
      "Training until validation scores don't improve for 66 rounds\n"
     ]
    },
    {
     "name": "stderr",
     "output_type": "stream",
     "text": [
      "[I 2023-12-21 16:22:48,641] Trial 7 finished with value: 99.74 and parameters: {'lambda_l1': 548.8055348006088, 'lambda_l2': 142.12664927163254, 'learning_rate': 0.29479529090188916, 'num_leaves': 564, 'feature_fraction': 0.7014408343084773, 'min_data_in_leaf': 2560}. Best is trial 5 with value: 95.2.\n"
     ]
    },
    {
     "name": "stdout",
     "output_type": "stream",
     "text": [
      "Early stopping, best iteration is:\n",
      "[12]\tvalid_0's ER: 99.74\n",
      "Evaluated only: ER\n",
      "**************** tweedie ****************\n",
      "Training until validation scores don't improve for 101 rounds\n"
     ]
    },
    {
     "name": "stderr",
     "output_type": "stream",
     "text": [
      "[I 2023-12-21 16:22:49,112] Trial 8 finished with value: 99.3 and parameters: {'lambda_l1': 595.5320073754269, 'lambda_l2': 433.1834201178567, 'learning_rate': 0.09700011585180739, 'num_leaves': 780, 'feature_fraction': 0.8020744148254186, 'min_data_in_leaf': 4882}. Best is trial 5 with value: 95.2.\n"
     ]
    },
    {
     "name": "stdout",
     "output_type": "stream",
     "text": [
      "[100]\tvalid_0's ER: 99.37\n",
      "Early stopping, best iteration is:\n",
      "[82]\tvalid_0's ER: 99.3\n",
      "Evaluated only: ER\n",
      "**************** tweedie ****************\n",
      "Training until validation scores don't improve for 69 rounds\n",
      "[100]\tvalid_0's ER: 93.45\n"
     ]
    },
    {
     "name": "stderr",
     "output_type": "stream",
     "text": [
      "[I 2023-12-21 16:22:49,576] Trial 9 finished with value: 91.93 and parameters: {'lambda_l1': 69.39502457242452, 'lambda_l2': 400.1871561205026, 'learning_rate': 0.26283989233797617, 'num_leaves': 708, 'feature_fraction': 0.3665246388318979, 'min_data_in_leaf': 4441}. Best is trial 9 with value: 91.93.\n"
     ]
    },
    {
     "name": "stdout",
     "output_type": "stream",
     "text": [
      "[200]\tvalid_0's ER: 91.93\n",
      "Early stopping, best iteration is:\n",
      "[186]\tvalid_0's ER: 91.87\n",
      "Evaluated only: ER\n",
      "# Experimentos: 10\n",
      "Mejor experimento: {'lambda_l1': 69.39502457242452, 'lambda_l2': 400.1871561205026, 'learning_rate': 0.26283989233797617, 'num_leaves': 708, 'feature_fraction': 0.3665246388318979, 'min_data_in_leaf': 4441}\n",
      "=========================================== Cluster 16 ===========================================\n"
     ]
    },
    {
     "name": "stderr",
     "output_type": "stream",
     "text": [
      "[I 2023-12-21 16:22:51,438] A new study created in memory with name: no-name-0f06ae52-223d-4660-85c5-7422ef014280\n"
     ]
    },
    {
     "name": "stdout",
     "output_type": "stream",
     "text": [
      "Periodos entrenar: [201701 201702 201703 201704 201705 201706 201707 201708 201709 201710\n",
      " 201711 201712 201801 201802 201803 201804 201805 201806 201807 201808\n",
      " 201809 201810 201811 201812 201901 201902 201903 201904 201905]\n",
      "Periodos validar: [201907]\n",
      "product_id a validar: 2900\n",
      "X_train: (67972, 120)\n",
      "y_train: (67972,)\n",
      "\n",
      "X_validate: (2900, 120)\n",
      "y_validate: (2900,)\n",
      "Optimizacion Bayesiana\n",
      "**************** tweedie ****************\n",
      "Training until validation scores don't improve for 75 rounds\n",
      "[100]\tvalid_0's ER: 80.7\n"
     ]
    },
    {
     "name": "stderr",
     "output_type": "stream",
     "text": [
      "[I 2023-12-21 16:22:52,827] Trial 0 finished with value: 80.69 and parameters: {'lambda_l1': 726.69776260578, 'lambda_l2': 153.80140380442307, 'learning_rate': 0.19714610976220737, 'num_leaves': 454, 'feature_fraction': 0.3480604704135071, 'min_data_in_leaf': 5426}. Best is trial 0 with value: 80.69.\n"
     ]
    },
    {
     "name": "stdout",
     "output_type": "stream",
     "text": [
      "[200]\tvalid_0's ER: 80.69\n",
      "Early stopping, best iteration is:\n",
      "[139]\tvalid_0's ER: 80.69\n",
      "Evaluated only: ER\n",
      "**************** tweedie ****************\n",
      "Training until validation scores don't improve for 83 rounds\n",
      "[100]\tvalid_0's ER: 69.24\n"
     ]
    },
    {
     "name": "stderr",
     "output_type": "stream",
     "text": [
      "[I 2023-12-21 16:22:55,170] Trial 1 finished with value: 69.01 and parameters: {'lambda_l1': 134.229863759763, 'lambda_l2': 695.3624273546187, 'learning_rate': 0.1510646251661064, 'num_leaves': 937, 'feature_fraction': 0.8524347714799789, 'min_data_in_leaf': 1773}. Best is trial 1 with value: 69.01.\n"
     ]
    },
    {
     "name": "stdout",
     "output_type": "stream",
     "text": [
      "[200]\tvalid_0's ER: 69.01\n",
      "Early stopping, best iteration is:\n",
      "[125]\tvalid_0's ER: 69.01\n",
      "Evaluated only: ER\n",
      "**************** tweedie ****************\n",
      "Training until validation scores don't improve for 162 rounds\n",
      "[100]\tvalid_0's ER: 85.77\n",
      "[200]\tvalid_0's ER: 80.48\n",
      "[300]\tvalid_0's ER: 79.95\n",
      "[400]\tvalid_0's ER: 79.94\n"
     ]
    },
    {
     "name": "stderr",
     "output_type": "stream",
     "text": [
      "[I 2023-12-21 16:22:59,321] Trial 2 finished with value: 79.94 and parameters: {'lambda_l1': 602.7722543462726, 'lambda_l2': 532.976470289268, 'learning_rate': 0.04447438229928966, 'num_leaves': 933, 'feature_fraction': 0.8743218032346252, 'min_data_in_leaf': 4346}. Best is trial 1 with value: 69.01.\n"
     ]
    },
    {
     "name": "stdout",
     "output_type": "stream",
     "text": [
      "Early stopping, best iteration is:\n",
      "[331]\tvalid_0's ER: 79.94\n",
      "Evaluated only: ER\n",
      "**************** tweedie ****************\n",
      "Training until validation scores don't improve for 66 rounds\n",
      "[100]\tvalid_0's ER: 70.74\n"
     ]
    },
    {
     "name": "stderr",
     "output_type": "stream",
     "text": [
      "[I 2023-12-21 16:23:00,890] Trial 3 finished with value: 70.67 and parameters: {'lambda_l1': 88.37828993917974, 'lambda_l2': 141.37623709507596, 'learning_rate': 0.2954808289339049, 'num_leaves': 990, 'feature_fraction': 0.6792710087907883, 'min_data_in_leaf': 4734}. Best is trial 1 with value: 69.01.\n"
     ]
    },
    {
     "name": "stdout",
     "output_type": "stream",
     "text": [
      "Early stopping, best iteration is:\n",
      "[73]\tvalid_0's ER: 70.67\n",
      "Evaluated only: ER\n",
      "**************** tweedie ****************\n",
      "Training until validation scores don't improve for 117 rounds\n",
      "[100]\tvalid_0's ER: 80.49\n",
      "[200]\tvalid_0's ER: 78.51\n",
      "[300]\tvalid_0's ER: 78.5\n"
     ]
    },
    {
     "name": "stderr",
     "output_type": "stream",
     "text": [
      "[I 2023-12-21 16:23:04,044] Trial 4 finished with value: 78.5 and parameters: {'lambda_l1': 396.6292403612157, 'lambda_l2': 872.3514437795386, 'learning_rate': 0.07377069572183083, 'num_leaves': 989, 'feature_fraction': 0.9172145201740496, 'min_data_in_leaf': 5569}. Best is trial 1 with value: 69.01.\n"
     ]
    },
    {
     "name": "stdout",
     "output_type": "stream",
     "text": [
      "Early stopping, best iteration is:\n",
      "[247]\tvalid_0's ER: 78.5\n",
      "Evaluated only: ER\n",
      "**************** tweedie ****************\n",
      "Training until validation scores don't improve for 67 rounds\n",
      "[100]\tvalid_0's ER: 72.77\n"
     ]
    },
    {
     "name": "stderr",
     "output_type": "stream",
     "text": [
      "[I 2023-12-21 16:23:05,757] Trial 5 finished with value: 72.77 and parameters: {'lambda_l1': 156.99808299447938, 'lambda_l2': 673.0359114795131, 'learning_rate': 0.2854184452553736, 'num_leaves': 825, 'feature_fraction': 0.8030557089413404, 'min_data_in_leaf': 5845}. Best is trial 1 with value: 69.01.\n"
     ]
    },
    {
     "name": "stdout",
     "output_type": "stream",
     "text": [
      "Early stopping, best iteration is:\n",
      "[98]\tvalid_0's ER: 72.76\n",
      "Evaluated only: ER\n",
      "**************** tweedie ****************\n",
      "Training until validation scores don't improve for 72 rounds\n"
     ]
    },
    {
     "name": "stderr",
     "output_type": "stream",
     "text": [
      "[I 2023-12-21 16:23:06,957] Trial 6 finished with value: 76.63 and parameters: {'lambda_l1': 640.1744932118431, 'lambda_l2': 902.6741586319193, 'learning_rate': 0.2268799073664822, 'num_leaves': 314, 'feature_fraction': 0.26380325812165184, 'min_data_in_leaf': 801}. Best is trial 1 with value: 69.01.\n"
     ]
    },
    {
     "name": "stdout",
     "output_type": "stream",
     "text": [
      "[100]\tvalid_0's ER: 76.63\n",
      "Early stopping, best iteration is:\n",
      "[74]\tvalid_0's ER: 76.52\n",
      "Evaluated only: ER\n",
      "**************** tweedie ****************\n",
      "Training until validation scores don't improve for 159 rounds\n",
      "[100]\tvalid_0's ER: 86.25\n",
      "[200]\tvalid_0's ER: 82.6\n",
      "[300]\tvalid_0's ER: 82.6\n"
     ]
    },
    {
     "name": "stderr",
     "output_type": "stream",
     "text": [
      "[I 2023-12-21 16:23:09,912] Trial 7 finished with value: 82.59 and parameters: {'lambda_l1': 864.2968528066085, 'lambda_l2': 509.9094351871578, 'learning_rate': 0.04561287271732663, 'num_leaves': 91, 'feature_fraction': 0.9591261083024463, 'min_data_in_leaf': 2676}. Best is trial 1 with value: 69.01.\n"
     ]
    },
    {
     "name": "stdout",
     "output_type": "stream",
     "text": [
      "Early stopping, best iteration is:\n",
      "[176]\tvalid_0's ER: 82.59\n",
      "Evaluated only: ER\n",
      "**************** tweedie ****************\n",
      "Training until validation scores don't improve for 394 rounds\n",
      "[100]\tvalid_0's ER: 110.59\n",
      "[200]\tvalid_0's ER: 90.8\n",
      "[300]\tvalid_0's ER: 84.48\n",
      "[400]\tvalid_0's ER: 81.85\n",
      "[500]\tvalid_0's ER: 80.87\n",
      "[600]\tvalid_0's ER: 80.71\n",
      "[700]\tvalid_0's ER: 80.71\n",
      "[800]\tvalid_0's ER: 80.71\n",
      "[900]\tvalid_0's ER: 80.71\n"
     ]
    },
    {
     "name": "stderr",
     "output_type": "stream",
     "text": [
      "[I 2023-12-21 16:23:21,618] Trial 8 finished with value: 80.71 and parameters: {'lambda_l1': 891.5709786717863, 'lambda_l2': 349.45179617234237, 'learning_rate': 0.014506778601086965, 'num_leaves': 814, 'feature_fraction': 0.9967349925459958, 'min_data_in_leaf': 904}. Best is trial 1 with value: 69.01.\n"
     ]
    },
    {
     "name": "stdout",
     "output_type": "stream",
     "text": [
      "Early stopping, best iteration is:\n",
      "[567]\tvalid_0's ER: 80.71\n",
      "Evaluated only: ER\n",
      "**************** tweedie ****************\n",
      "Training until validation scores don't improve for 69 rounds\n"
     ]
    },
    {
     "name": "stderr",
     "output_type": "stream",
     "text": [
      "[I 2023-12-21 16:23:22,770] Trial 9 finished with value: 84.64 and parameters: {'lambda_l1': 920.6670326781158, 'lambda_l2': 850.9423243817537, 'learning_rate': 0.25671015131843056, 'num_leaves': 187, 'feature_fraction': 0.9038038278652816, 'min_data_in_leaf': 3993}. Best is trial 1 with value: 69.01.\n"
     ]
    },
    {
     "name": "stdout",
     "output_type": "stream",
     "text": [
      "[100]\tvalid_0's ER: 84.64\n",
      "Early stopping, best iteration is:\n",
      "[38]\tvalid_0's ER: 84.64\n",
      "Evaluated only: ER\n",
      "# Experimentos: 10\n",
      "Mejor experimento: {'lambda_l1': 134.229863759763, 'lambda_l2': 695.3624273546187, 'learning_rate': 0.1510646251661064, 'num_leaves': 937, 'feature_fraction': 0.8524347714799789, 'min_data_in_leaf': 1773}\n",
      "=========================================== Cluster 17 ===========================================\n"
     ]
    },
    {
     "name": "stderr",
     "output_type": "stream",
     "text": [
      "[I 2023-12-21 16:23:25,296] A new study created in memory with name: no-name-f3f1c9bb-3a21-4012-a547-56814ed37c3d\n"
     ]
    },
    {
     "name": "stdout",
     "output_type": "stream",
     "text": [
      "Periodos entrenar: [201701 201702 201703 201704 201705 201706 201707 201708 201709 201710\n",
      " 201711 201712 201801 201802 201803 201804 201805 201806 201807 201808\n",
      " 201809 201810 201811 201812 201901 201902 201903 201904 201905]\n",
      "Periodos validar: [201907]\n",
      "product_id a validar: 4060\n",
      "X_train: (97179, 120)\n",
      "y_train: (97179,)\n",
      "\n",
      "X_validate: (4060, 120)\n",
      "y_validate: (4060,)\n",
      "Optimizacion Bayesiana\n",
      "**************** tweedie ****************\n",
      "Training until validation scores don't improve for 214 rounds\n",
      "[100]\tvalid_0's ER: 96.4\n",
      "[200]\tvalid_0's ER: 82.07\n",
      "[300]\tvalid_0's ER: 80.65\n",
      "[400]\tvalid_0's ER: 80.72\n",
      "[500]\tvalid_0's ER: 80.72\n"
     ]
    },
    {
     "name": "stderr",
     "output_type": "stream",
     "text": [
      "[I 2023-12-21 16:23:37,133] Trial 0 finished with value: 80.54 and parameters: {'lambda_l1': 250.18647357091095, 'lambda_l2': 329.04953680447613, 'learning_rate': 0.030455345691400404, 'num_leaves': 686, 'feature_fraction': 0.6690012655170849, 'min_data_in_leaf': 125}. Best is trial 0 with value: 80.54.\n"
     ]
    },
    {
     "name": "stdout",
     "output_type": "stream",
     "text": [
      "Early stopping, best iteration is:\n",
      "[332]\tvalid_0's ER: 80.54\n",
      "Evaluated only: ER\n",
      "**************** tweedie ****************\n",
      "Training until validation scores don't improve for 153 rounds\n",
      "[100]\tvalid_0's ER: 100.22\n",
      "[200]\tvalid_0's ER: 94.52\n",
      "[300]\tvalid_0's ER: 93.68\n"
     ]
    },
    {
     "name": "stderr",
     "output_type": "stream",
     "text": [
      "[I 2023-12-21 16:23:40,761] Trial 1 finished with value: 93.67 and parameters: {'lambda_l1': 559.0470380808845, 'lambda_l2': 570.7034646958915, 'learning_rate': 0.048291320060549786, 'num_leaves': 1020, 'feature_fraction': 0.36327729827970967, 'min_data_in_leaf': 7536}. Best is trial 0 with value: 80.54.\n"
     ]
    },
    {
     "name": "stdout",
     "output_type": "stream",
     "text": [
      "[400]\tvalid_0's ER: 93.68\n",
      "Early stopping, best iteration is:\n",
      "[265]\tvalid_0's ER: 93.67\n",
      "Evaluated only: ER\n",
      "**************** tweedie ****************\n",
      "Training until validation scores don't improve for 114 rounds\n",
      "[100]\tvalid_0's ER: 87.84\n",
      "[200]\tvalid_0's ER: 86.45\n"
     ]
    },
    {
     "name": "stderr",
     "output_type": "stream",
     "text": [
      "[I 2023-12-21 16:23:44,668] Trial 2 finished with value: 86.4 and parameters: {'lambda_l1': 253.47725152643275, 'lambda_l2': 732.4703019935725, 'learning_rate': 0.07781563627624985, 'num_leaves': 380, 'feature_fraction': 0.594735420399112, 'min_data_in_leaf': 5021}. Best is trial 0 with value: 80.54.\n"
     ]
    },
    {
     "name": "stdout",
     "output_type": "stream",
     "text": [
      "Early stopping, best iteration is:\n",
      "[184]\tvalid_0's ER: 86.4\n",
      "Evaluated only: ER\n",
      "**************** tweedie ****************\n",
      "Training until validation scores don't improve for 71 rounds\n",
      "[100]\tvalid_0's ER: 90.49\n"
     ]
    },
    {
     "name": "stderr",
     "output_type": "stream",
     "text": [
      "[I 2023-12-21 16:23:46,354] Trial 3 finished with value: 90.38 and parameters: {'lambda_l1': 326.23650940410045, 'lambda_l2': 478.45741225011807, 'learning_rate': 0.23523415888848878, 'num_leaves': 594, 'feature_fraction': 0.4023770822133521, 'min_data_in_leaf': 7519}. Best is trial 0 with value: 80.54.\n"
     ]
    },
    {
     "name": "stdout",
     "output_type": "stream",
     "text": [
      "Early stopping, best iteration is:\n",
      "[70]\tvalid_0's ER: 90.38\n",
      "Evaluated only: ER\n",
      "**************** tweedie ****************\n",
      "Training until validation scores don't improve for 76 rounds\n"
     ]
    },
    {
     "name": "stderr",
     "output_type": "stream",
     "text": [
      "[I 2023-12-21 16:23:48,896] Trial 4 finished with value: 91.48 and parameters: {'lambda_l1': 854.8755947113843, 'lambda_l2': 271.7507376633136, 'learning_rate': 0.19223192732261912, 'num_leaves': 312, 'feature_fraction': 0.9353162442542551, 'min_data_in_leaf': 1823}. Best is trial 0 with value: 80.54.\n"
     ]
    },
    {
     "name": "stdout",
     "output_type": "stream",
     "text": [
      "[100]\tvalid_0's ER: 91.48\n",
      "Early stopping, best iteration is:\n",
      "[44]\tvalid_0's ER: 91.48\n",
      "Evaluated only: ER\n",
      "**************** tweedie ****************\n",
      "Training until validation scores don't improve for 104 rounds\n",
      "[100]\tvalid_0's ER: 95.96\n",
      "[200]\tvalid_0's ER: 95.66\n"
     ]
    },
    {
     "name": "stderr",
     "output_type": "stream",
     "text": [
      "[I 2023-12-21 16:23:52,181] Trial 5 finished with value: 95.66 and parameters: {'lambda_l1': 870.6486825514266, 'lambda_l2': 344.8233023903728, 'learning_rate': 0.09108470377289508, 'num_leaves': 276, 'feature_fraction': 0.8731038637295119, 'min_data_in_leaf': 6343}. Best is trial 0 with value: 80.54.\n"
     ]
    },
    {
     "name": "stdout",
     "output_type": "stream",
     "text": [
      "Early stopping, best iteration is:\n",
      "[148]\tvalid_0's ER: 95.66\n",
      "Evaluated only: ER\n",
      "**************** tweedie ****************\n",
      "Training until validation scores don't improve for 67 rounds\n"
     ]
    },
    {
     "name": "stderr",
     "output_type": "stream",
     "text": [
      "[I 2023-12-21 16:23:53,799] Trial 6 finished with value: 82.13 and parameters: {'lambda_l1': 238.50268318500423, 'lambda_l2': 218.7556617023878, 'learning_rate': 0.2840601455359914, 'num_leaves': 961, 'feature_fraction': 0.28708316739043005, 'min_data_in_leaf': 1031}. Best is trial 0 with value: 80.54.\n"
     ]
    },
    {
     "name": "stdout",
     "output_type": "stream",
     "text": [
      "[100]\tvalid_0's ER: 82.47\n",
      "Early stopping, best iteration is:\n",
      "[63]\tvalid_0's ER: 82.13\n",
      "Evaluated only: ER\n",
      "**************** tweedie ****************\n",
      "Training until validation scores don't improve for 145 rounds\n",
      "[100]\tvalid_0's ER: 95.46\n",
      "[200]\tvalid_0's ER: 91.64\n",
      "[300]\tvalid_0's ER: 91.62\n"
     ]
    },
    {
     "name": "stderr",
     "output_type": "stream",
     "text": [
      "[I 2023-12-21 16:23:57,343] Trial 7 finished with value: 91.62 and parameters: {'lambda_l1': 580.7171791291985, 'lambda_l2': 137.27693133579123, 'learning_rate': 0.05222827872311641, 'num_leaves': 46, 'feature_fraction': 0.4895332529436578, 'min_data_in_leaf': 7002}. Best is trial 0 with value: 80.54.\n"
     ]
    },
    {
     "name": "stdout",
     "output_type": "stream",
     "text": [
      "Early stopping, best iteration is:\n",
      "[203]\tvalid_0's ER: 91.62\n",
      "Evaluated only: ER\n",
      "**************** tweedie ****************\n",
      "Training until validation scores don't improve for 70 rounds\n"
     ]
    },
    {
     "name": "stderr",
     "output_type": "stream",
     "text": [
      "[I 2023-12-21 16:23:59,006] Trial 8 finished with value: 90.55 and parameters: {'lambda_l1': 863.61121101457, 'lambda_l2': 568.1755987520492, 'learning_rate': 0.24300014963186956, 'num_leaves': 320, 'feature_fraction': 0.5890323710295402, 'min_data_in_leaf': 2167}. Best is trial 0 with value: 80.54.\n"
     ]
    },
    {
     "name": "stdout",
     "output_type": "stream",
     "text": [
      "[100]\tvalid_0's ER: 90.56\n",
      "Early stopping, best iteration is:\n",
      "[41]\tvalid_0's ER: 90.55\n",
      "Evaluated only: ER\n",
      "**************** tweedie ****************\n",
      "Training until validation scores don't improve for 86 rounds\n",
      "[100]\tvalid_0's ER: 82.15\n"
     ]
    },
    {
     "name": "stderr",
     "output_type": "stream",
     "text": [
      "[I 2023-12-21 16:24:02,715] Trial 9 finished with value: 81.99 and parameters: {'lambda_l1': 113.93117075512438, 'lambda_l2': 352.44618262537597, 'learning_rate': 0.13846670613390558, 'num_leaves': 218, 'feature_fraction': 0.7602063860764718, 'min_data_in_leaf': 2317}. Best is trial 0 with value: 80.54.\n"
     ]
    },
    {
     "name": "stdout",
     "output_type": "stream",
     "text": [
      "Early stopping, best iteration is:\n",
      "[108]\tvalid_0's ER: 81.99\n",
      "Evaluated only: ER\n",
      "# Experimentos: 10\n",
      "Mejor experimento: {'lambda_l1': 250.18647357091095, 'lambda_l2': 329.04953680447613, 'learning_rate': 0.030455345691400404, 'num_leaves': 686, 'feature_fraction': 0.6690012655170849, 'min_data_in_leaf': 125}\n",
      "=========================================== Cluster 18 ===========================================\n"
     ]
    },
    {
     "name": "stderr",
     "output_type": "stream",
     "text": [
      "[I 2023-12-21 16:24:05,057] A new study created in memory with name: no-name-6487ddbf-a5b9-4aa8-aa6e-aceec4b1df54\n"
     ]
    },
    {
     "name": "stdout",
     "output_type": "stream",
     "text": [
      "Periodos entrenar: [201701 201702 201703 201704 201705 201706 201707 201708 201709 201710\n",
      " 201711 201712 201801 201802 201803 201804 201805 201806 201807 201808\n",
      " 201809 201810 201811 201812 201901 201902 201903 201904 201905]\n",
      "Periodos validar: [201907]\n",
      "product_id a validar: 5220\n",
      "X_train: (86115, 120)\n",
      "y_train: (86115,)\n",
      "\n",
      "X_validate: (5220, 120)\n",
      "y_validate: (5220,)\n",
      "Optimizacion Bayesiana\n",
      "**************** tweedie ****************\n",
      "Training until validation scores don't improve for 105 rounds\n",
      "[100]\tvalid_0's ER: 91.53\n"
     ]
    },
    {
     "name": "stderr",
     "output_type": "stream",
     "text": [
      "[I 2023-12-21 16:24:08,273] Trial 0 finished with value: 91.53 and parameters: {'lambda_l1': 779.0507756120389, 'lambda_l2': 469.668961202805, 'learning_rate': 0.09004955370512532, 'num_leaves': 675, 'feature_fraction': 0.9334242427160131, 'min_data_in_leaf': 97}. Best is trial 0 with value: 91.53.\n"
     ]
    },
    {
     "name": "stdout",
     "output_type": "stream",
     "text": [
      "Early stopping, best iteration is:\n",
      "[79]\tvalid_0's ER: 91.53\n",
      "Evaluated only: ER\n",
      "**************** tweedie ****************\n",
      "Training until validation scores don't improve for 68 rounds\n"
     ]
    },
    {
     "name": "stderr",
     "output_type": "stream",
     "text": [
      "[I 2023-12-21 16:24:09,786] Trial 1 finished with value: 87.18 and parameters: {'lambda_l1': 299.15357940904863, 'lambda_l2': 205.70171063862398, 'learning_rate': 0.26901167168388607, 'num_leaves': 223, 'feature_fraction': 0.9101702616680791, 'min_data_in_leaf': 1531}. Best is trial 1 with value: 87.18.\n"
     ]
    },
    {
     "name": "stdout",
     "output_type": "stream",
     "text": [
      "Early stopping, best iteration is:\n",
      "[30]\tvalid_0's ER: 87.18\n",
      "Evaluated only: ER\n",
      "**************** tweedie ****************\n",
      "Training until validation scores don't improve for 78 rounds\n",
      "[100]\tvalid_0's ER: 88.08\n"
     ]
    },
    {
     "name": "stderr",
     "output_type": "stream",
     "text": [
      "[I 2023-12-21 16:24:12,022] Trial 2 finished with value: 88.08 and parameters: {'lambda_l1': 334.2571789720654, 'lambda_l2': 829.9816636491328, 'learning_rate': 0.1755940966470739, 'num_leaves': 689, 'feature_fraction': 0.9233526101352181, 'min_data_in_leaf': 2903}. Best is trial 1 with value: 87.18.\n"
     ]
    },
    {
     "name": "stdout",
     "output_type": "stream",
     "text": [
      "Early stopping, best iteration is:\n",
      "[78]\tvalid_0's ER: 88.08\n",
      "Evaluated only: ER\n",
      "**************** tweedie ****************\n",
      "Training until validation scores don't improve for 90 rounds\n",
      "[100]\tvalid_0's ER: 90.16\n"
     ]
    },
    {
     "name": "stderr",
     "output_type": "stream",
     "text": [
      "[I 2023-12-21 16:24:13,861] Trial 3 finished with value: 90.09 and parameters: {'lambda_l1': 592.8739110934376, 'lambda_l2': 670.2832637442359, 'learning_rate': 0.12326516558527763, 'num_leaves': 45, 'feature_fraction': 0.3030161617734356, 'min_data_in_leaf': 1732}. Best is trial 1 with value: 87.18.\n"
     ]
    },
    {
     "name": "stdout",
     "output_type": "stream",
     "text": [
      "Early stopping, best iteration is:\n",
      "[102]\tvalid_0's ER: 90.06\n",
      "Evaluated only: ER\n",
      "**************** tweedie ****************\n",
      "Training until validation scores don't improve for 102 rounds\n",
      "[100]\tvalid_0's ER: 94.09\n"
     ]
    },
    {
     "name": "stderr",
     "output_type": "stream",
     "text": [
      "[I 2023-12-21 16:24:16,191] Trial 4 finished with value: 94.07 and parameters: {'lambda_l1': 893.1152371453171, 'lambda_l2': 524.7544471225096, 'learning_rate': 0.09580685693477475, 'num_leaves': 171, 'feature_fraction': 0.5775216767626321, 'min_data_in_leaf': 1607}. Best is trial 1 with value: 87.18.\n"
     ]
    },
    {
     "name": "stdout",
     "output_type": "stream",
     "text": [
      "Early stopping, best iteration is:\n",
      "[83]\tvalid_0's ER: 94.07\n",
      "Evaluated only: ER\n",
      "**************** tweedie ****************\n",
      "Training until validation scores don't improve for 72 rounds\n",
      "[100]\tvalid_0's ER: 83.27\n",
      "Early stopping, best iteration is:\n",
      "[53]\tvalid_0's ER: 83.23\n",
      "Evaluated only: ER\n"
     ]
    },
    {
     "name": "stderr",
     "output_type": "stream",
     "text": [
      "[I 2023-12-21 16:24:18,516] Trial 5 finished with value: 83.23 and parameters: {'lambda_l1': 244.55656333046838, 'lambda_l2': 807.6756793381859, 'learning_rate': 0.22509545966353733, 'num_leaves': 715, 'feature_fraction': 0.7560386540242421, 'min_data_in_leaf': 237}. Best is trial 5 with value: 83.23.\n"
     ]
    },
    {
     "name": "stdout",
     "output_type": "stream",
     "text": [
      "**************** tweedie ****************\n",
      "Training until validation scores don't improve for 120 rounds\n",
      "[100]\tvalid_0's ER: 88.21\n",
      "[200]\tvalid_0's ER: 87.59\n"
     ]
    },
    {
     "name": "stderr",
     "output_type": "stream",
     "text": [
      "[I 2023-12-21 16:24:21,872] Trial 6 finished with value: 87.47 and parameters: {'lambda_l1': 356.35981532542974, 'lambda_l2': 411.66181695544293, 'learning_rate': 0.07049710905684498, 'num_leaves': 582, 'feature_fraction': 0.8105267712683595, 'min_data_in_leaf': 1412}. Best is trial 5 with value: 83.23.\n"
     ]
    },
    {
     "name": "stdout",
     "output_type": "stream",
     "text": [
      "Early stopping, best iteration is:\n",
      "[125]\tvalid_0's ER: 87.47\n",
      "Evaluated only: ER\n",
      "**************** tweedie ****************\n",
      "Training until validation scores don't improve for 166 rounds\n",
      "[100]\tvalid_0's ER: 96.62\n",
      "[200]\tvalid_0's ER: 91.18\n",
      "[300]\tvalid_0's ER: 91.17\n"
     ]
    },
    {
     "name": "stderr",
     "output_type": "stream",
     "text": [
      "[I 2023-12-21 16:24:25,491] Trial 7 finished with value: 91.17 and parameters: {'lambda_l1': 610.569104322237, 'lambda_l2': 114.16046074956742, 'learning_rate': 0.04298951304436925, 'num_leaves': 861, 'feature_fraction': 0.517140503693825, 'min_data_in_leaf': 3647}. Best is trial 5 with value: 83.23.\n"
     ]
    },
    {
     "name": "stdout",
     "output_type": "stream",
     "text": [
      "Early stopping, best iteration is:\n",
      "[189]\tvalid_0's ER: 91.17\n",
      "Evaluated only: ER\n",
      "**************** tweedie ****************\n",
      "Training until validation scores don't improve for 89 rounds\n",
      "[100]\tvalid_0's ER: 80.53\n"
     ]
    },
    {
     "name": "stderr",
     "output_type": "stream",
     "text": [
      "[I 2023-12-21 16:24:28,863] Trial 8 finished with value: 80.53 and parameters: {'lambda_l1': 180.15671170569425, 'lambda_l2': 478.6110231770723, 'learning_rate': 0.12765100747365446, 'num_leaves': 950, 'feature_fraction': 0.8683702956303705, 'min_data_in_leaf': 180}. Best is trial 8 with value: 80.53.\n"
     ]
    },
    {
     "name": "stdout",
     "output_type": "stream",
     "text": [
      "Early stopping, best iteration is:\n",
      "[89]\tvalid_0's ER: 80.53\n",
      "Evaluated only: ER\n",
      "**************** tweedie ****************\n",
      "Training until validation scores don't improve for 130 rounds\n",
      "[100]\tvalid_0's ER: 95.19\n",
      "[200]\tvalid_0's ER: 90.57\n",
      "[300]\tvalid_0's ER: 90.5\n"
     ]
    },
    {
     "name": "stderr",
     "output_type": "stream",
     "text": [
      "[I 2023-12-21 16:24:31,795] Trial 9 finished with value: 90.5 and parameters: {'lambda_l1': 518.9421586495981, 'lambda_l2': 747.5448762558045, 'learning_rate': 0.061998000299865956, 'num_leaves': 122, 'feature_fraction': 0.29566243056361935, 'min_data_in_leaf': 3696}. Best is trial 8 with value: 80.53.\n"
     ]
    },
    {
     "name": "stdout",
     "output_type": "stream",
     "text": [
      "Early stopping, best iteration is:\n",
      "[248]\tvalid_0's ER: 90.5\n",
      "Evaluated only: ER\n",
      "# Experimentos: 10\n",
      "Mejor experimento: {'lambda_l1': 180.15671170569425, 'lambda_l2': 478.6110231770723, 'learning_rate': 0.12765100747365446, 'num_leaves': 950, 'feature_fraction': 0.8683702956303705, 'min_data_in_leaf': 180}\n",
      "=========================================== Cluster 19 ===========================================\n"
     ]
    },
    {
     "name": "stderr",
     "output_type": "stream",
     "text": [
      "[I 2023-12-21 16:24:33,392] A new study created in memory with name: no-name-e33f1180-3bc1-4b6e-8486-bdb4128514f4\n"
     ]
    },
    {
     "name": "stdout",
     "output_type": "stream",
     "text": [
      "Periodos entrenar: [201701 201702 201703 201704 201705 201706 201707 201708 201709 201710\n",
      " 201711 201712 201801 201802 201803 201804 201805 201806 201807 201808\n",
      " 201809 201810 201811 201812 201901 201902 201903 201904 201905]\n",
      "Periodos validar: [201907]\n",
      "product_id a validar: 2320\n",
      "X_train: (61828, 120)\n",
      "y_train: (61828,)\n",
      "\n",
      "X_validate: (2320, 120)\n",
      "y_validate: (2320,)\n",
      "Optimizacion Bayesiana\n",
      "**************** tweedie ****************\n",
      "Training until validation scores don't improve for 77 rounds\n",
      "[100]\tvalid_0's ER: 75.7\n"
     ]
    },
    {
     "name": "stderr",
     "output_type": "stream",
     "text": [
      "[I 2023-12-21 16:24:34,766] Trial 0 finished with value: 75.47 and parameters: {'lambda_l1': 192.55486688674017, 'lambda_l2': 53.14392443425098, 'learning_rate': 0.17923326671056164, 'num_leaves': 980, 'feature_fraction': 0.7441513016113017, 'min_data_in_leaf': 4945}. Best is trial 0 with value: 75.47.\n"
     ]
    },
    {
     "name": "stdout",
     "output_type": "stream",
     "text": [
      "Early stopping, best iteration is:\n",
      "[68]\tvalid_0's ER: 75.47\n",
      "Evaluated only: ER\n",
      "**************** tweedie ****************\n",
      "Training until validation scores don't improve for 77 rounds\n"
     ]
    },
    {
     "name": "stderr",
     "output_type": "stream",
     "text": [
      "[I 2023-12-21 16:24:35,702] Trial 1 finished with value: 74.69 and parameters: {'lambda_l1': 576.6921122018616, 'lambda_l2': 10.356154832189212, 'learning_rate': 0.17926133908279274, 'num_leaves': 740, 'feature_fraction': 0.2282090378403293, 'min_data_in_leaf': 1732}. Best is trial 1 with value: 74.69.\n"
     ]
    },
    {
     "name": "stdout",
     "output_type": "stream",
     "text": [
      "[100]\tvalid_0's ER: 74.69\n",
      "Early stopping, best iteration is:\n",
      "[74]\tvalid_0's ER: 74.62\n",
      "Evaluated only: ER\n",
      "**************** tweedie ****************\n",
      "Training until validation scores don't improve for 132 rounds\n",
      "[100]\tvalid_0's ER: 74.97\n",
      "[200]\tvalid_0's ER: 74.08\n"
     ]
    },
    {
     "name": "stderr",
     "output_type": "stream",
     "text": [
      "[I 2023-12-21 16:24:37,535] Trial 2 finished with value: 74.0 and parameters: {'lambda_l1': 205.43100696626138, 'lambda_l2': 895.2816961124317, 'learning_rate': 0.06037276666118711, 'num_leaves': 724, 'feature_fraction': 0.24863958141658105, 'min_data_in_leaf': 2249}. Best is trial 2 with value: 74.0.\n"
     ]
    },
    {
     "name": "stdout",
     "output_type": "stream",
     "text": [
      "[300]\tvalid_0's ER: 74.34\n",
      "Early stopping, best iteration is:\n",
      "[188]\tvalid_0's ER: 74\n",
      "Evaluated only: ER\n",
      "**************** tweedie ****************\n",
      "Training until validation scores don't improve for 69 rounds\n"
     ]
    },
    {
     "name": "stderr",
     "output_type": "stream",
     "text": [
      "[I 2023-12-21 16:24:38,618] Trial 3 finished with value: 76.3 and parameters: {'lambda_l1': 421.8252527381673, 'lambda_l2': 412.9988473955706, 'learning_rate': 0.2552125271897773, 'num_leaves': 641, 'feature_fraction': 0.7629364461212458, 'min_data_in_leaf': 7749}. Best is trial 2 with value: 74.0.\n"
     ]
    },
    {
     "name": "stdout",
     "output_type": "stream",
     "text": [
      "[100]\tvalid_0's ER: 76.4\n",
      "Early stopping, best iteration is:\n",
      "[39]\tvalid_0's ER: 76.3\n",
      "Evaluated only: ER\n",
      "**************** tweedie ****************\n",
      "Training until validation scores don't improve for 71 rounds\n"
     ]
    },
    {
     "name": "stderr",
     "output_type": "stream",
     "text": [
      "[I 2023-12-21 16:24:39,793] Trial 4 finished with value: 74.12 and parameters: {'lambda_l1': 644.3082684558597, 'lambda_l2': 342.0822375000281, 'learning_rate': 0.232719477366387, 'num_leaves': 40, 'feature_fraction': 0.8058292967886029, 'min_data_in_leaf': 734}. Best is trial 2 with value: 74.0.\n"
     ]
    },
    {
     "name": "stdout",
     "output_type": "stream",
     "text": [
      "[100]\tvalid_0's ER: 74.16\n",
      "Early stopping, best iteration is:\n",
      "[32]\tvalid_0's ER: 74.12\n",
      "Evaluated only: ER\n",
      "**************** tweedie ****************\n",
      "Training until validation scores don't improve for 68 rounds\n"
     ]
    },
    {
     "name": "stderr",
     "output_type": "stream",
     "text": [
      "[I 2023-12-21 16:24:40,743] Trial 5 finished with value: 77.04 and parameters: {'lambda_l1': 665.98144963059, 'lambda_l2': 44.957978025957914, 'learning_rate': 0.27571370409794604, 'num_leaves': 187, 'feature_fraction': 0.9146631555151508, 'min_data_in_leaf': 7796}. Best is trial 2 with value: 74.0.\n"
     ]
    },
    {
     "name": "stdout",
     "output_type": "stream",
     "text": [
      "Early stopping, best iteration is:\n",
      "[30]\tvalid_0's ER: 77.04\n",
      "Evaluated only: ER\n",
      "**************** tweedie ****************\n",
      "Training until validation scores don't improve for 74 rounds\n",
      "[100]\tvalid_0's ER: 79.68\n"
     ]
    },
    {
     "name": "stderr",
     "output_type": "stream",
     "text": [
      "[I 2023-12-21 16:24:42,026] Trial 6 finished with value: 79.68 and parameters: {'lambda_l1': 903.3951216876713, 'lambda_l2': 784.7057460772111, 'learning_rate': 0.20674548046322216, 'num_leaves': 355, 'feature_fraction': 0.6203840765386011, 'min_data_in_leaf': 4417}. Best is trial 2 with value: 74.0.\n"
     ]
    },
    {
     "name": "stdout",
     "output_type": "stream",
     "text": [
      "Early stopping, best iteration is:\n",
      "[70]\tvalid_0's ER: 79.68\n",
      "Evaluated only: ER\n",
      "**************** tweedie ****************\n",
      "Training until validation scores don't improve for 68 rounds\n"
     ]
    },
    {
     "name": "stderr",
     "output_type": "stream",
     "text": [
      "[I 2023-12-21 16:24:43,015] Trial 7 finished with value: 74.3 and parameters: {'lambda_l1': 290.08108686061695, 'lambda_l2': 700.5797181874896, 'learning_rate': 0.2645884019063491, 'num_leaves': 964, 'feature_fraction': 0.5558804732275668, 'min_data_in_leaf': 1967}. Best is trial 2 with value: 74.0.\n"
     ]
    },
    {
     "name": "stdout",
     "output_type": "stream",
     "text": [
      "Early stopping, best iteration is:\n",
      "[27]\tvalid_0's ER: 74.3\n",
      "Evaluated only: ER\n",
      "**************** tweedie ****************\n",
      "Training until validation scores don't improve for 67 rounds\n"
     ]
    },
    {
     "name": "stderr",
     "output_type": "stream",
     "text": [
      "[I 2023-12-21 16:24:43,877] Trial 8 finished with value: 77.96 and parameters: {'lambda_l1': 899.0950052775526, 'lambda_l2': 774.2333603287227, 'learning_rate': 0.2828269063870906, 'num_leaves': 220, 'feature_fraction': 0.34219879603242553, 'min_data_in_leaf': 6957}. Best is trial 2 with value: 74.0.\n"
     ]
    },
    {
     "name": "stdout",
     "output_type": "stream",
     "text": [
      "[100]\tvalid_0's ER: 77.97\n",
      "Early stopping, best iteration is:\n",
      "[47]\tvalid_0's ER: 77.95\n",
      "Evaluated only: ER\n",
      "**************** tweedie ****************\n",
      "Training until validation scores don't improve for 307 rounds\n",
      "[100]\tvalid_0's ER: 98.71\n",
      "[200]\tvalid_0's ER: 80.14\n",
      "[300]\tvalid_0's ER: 76.96\n",
      "[400]\tvalid_0's ER: 76.89\n",
      "[500]\tvalid_0's ER: 77.03\n"
     ]
    },
    {
     "name": "stderr",
     "output_type": "stream",
     "text": [
      "[I 2023-12-21 16:24:46,763] Trial 9 finished with value: 76.84 and parameters: {'lambda_l1': 71.03348812722166, 'lambda_l2': 721.8150137081423, 'learning_rate': 0.019447525959136205, 'num_leaves': 964, 'feature_fraction': 0.2110821067488737, 'min_data_in_leaf': 7986}. Best is trial 2 with value: 74.0.\n"
     ]
    },
    {
     "name": "stdout",
     "output_type": "stream",
     "text": [
      "[600]\tvalid_0's ER: 77.34\n",
      "Early stopping, best iteration is:\n",
      "[326]\tvalid_0's ER: 76.84\n",
      "Evaluated only: ER\n",
      "# Experimentos: 10\n",
      "Mejor experimento: {'lambda_l1': 205.43100696626138, 'lambda_l2': 895.2816961124317, 'learning_rate': 0.06037276666118711, 'num_leaves': 724, 'feature_fraction': 0.24863958141658105, 'min_data_in_leaf': 2249}\n",
      "=========================================== Cluster 20 ===========================================\n"
     ]
    },
    {
     "name": "stderr",
     "output_type": "stream",
     "text": [
      "[I 2023-12-21 16:24:49,879] A new study created in memory with name: no-name-2a626031-bd8d-4e58-ba68-f964fd6fe1d1\n"
     ]
    },
    {
     "name": "stdout",
     "output_type": "stream",
     "text": [
      "Periodos entrenar: [201701 201702 201703 201704 201705 201706 201707 201708 201709 201710\n",
      " 201711 201712 201801 201802 201803 201804 201805 201806 201807 201808\n",
      " 201809 201810 201811 201812 201901 201902 201903 201904 201905]\n",
      "Periodos validar: [201907]\n",
      "product_id a validar: 5800\n",
      "X_train: (119905, 120)\n",
      "y_train: (119905,)\n",
      "\n",
      "X_validate: (5800, 120)\n",
      "y_validate: (5800,)\n",
      "Optimizacion Bayesiana\n",
      "**************** tweedie ****************\n",
      "Training until validation scores don't improve for 123 rounds\n",
      "[100]\tvalid_0's ER: 95.6\n",
      "[200]\tvalid_0's ER: 94.03\n",
      "[300]\tvalid_0's ER: 94.02\n"
     ]
    },
    {
     "name": "stderr",
     "output_type": "stream",
     "text": [
      "[I 2023-12-21 16:24:54,639] Trial 0 finished with value: 94.02 and parameters: {'lambda_l1': 521.2729595549648, 'lambda_l2': 831.3374116693736, 'learning_rate': 0.06825861401380841, 'num_leaves': 889, 'feature_fraction': 0.5150575930785886, 'min_data_in_leaf': 6837}. Best is trial 0 with value: 94.02.\n"
     ]
    },
    {
     "name": "stdout",
     "output_type": "stream",
     "text": [
      "Early stopping, best iteration is:\n",
      "[247]\tvalid_0's ER: 94.02\n",
      "Evaluated only: ER\n",
      "**************** tweedie ****************\n",
      "Training until validation scores don't improve for 231 rounds\n",
      "[100]\tvalid_0's ER: 100.19\n",
      "[200]\tvalid_0's ER: 92.85\n",
      "[300]\tvalid_0's ER: 91.76\n",
      "[400]\tvalid_0's ER: 91.16\n",
      "[500]\tvalid_0's ER: 91.12\n",
      "[600]\tvalid_0's ER: 91.12\n"
     ]
    },
    {
     "name": "stderr",
     "output_type": "stream",
     "text": [
      "[I 2023-12-21 16:25:06,222] Trial 1 finished with value: 91.1 and parameters: {'lambda_l1': 305.75892556804797, 'lambda_l2': 311.7018159823697, 'learning_rate': 0.02760922970650114, 'num_leaves': 235, 'feature_fraction': 0.9847290770947859, 'min_data_in_leaf': 2870}. Best is trial 1 with value: 91.1.\n"
     ]
    },
    {
     "name": "stdout",
     "output_type": "stream",
     "text": [
      "Early stopping, best iteration is:\n",
      "[410]\tvalid_0's ER: 91.1\n",
      "Evaluated only: ER\n",
      "**************** tweedie ****************\n",
      "Training until validation scores don't improve for 67 rounds\n"
     ]
    },
    {
     "name": "stderr",
     "output_type": "stream",
     "text": [
      "[I 2023-12-21 16:25:08,142] Trial 2 finished with value: 95.11 and parameters: {'lambda_l1': 825.6889150908282, 'lambda_l2': 706.999020324189, 'learning_rate': 0.2832055467612472, 'num_leaves': 559, 'feature_fraction': 0.7021969228791385, 'min_data_in_leaf': 1719}. Best is trial 1 with value: 91.1.\n"
     ]
    },
    {
     "name": "stdout",
     "output_type": "stream",
     "text": [
      "Early stopping, best iteration is:\n",
      "[29]\tvalid_0's ER: 95.11\n",
      "Evaluated only: ER\n",
      "**************** tweedie ****************\n",
      "Training until validation scores don't improve for 70 rounds\n",
      "[100]\tvalid_0's ER: 93.28\n"
     ]
    },
    {
     "name": "stderr",
     "output_type": "stream",
     "text": [
      "[I 2023-12-21 16:25:10,447] Trial 3 finished with value: 93.28 and parameters: {'lambda_l1': 420.365619403441, 'lambda_l2': 801.3176699743663, 'learning_rate': 0.24736195691503737, 'num_leaves': 243, 'feature_fraction': 0.9393975217758284, 'min_data_in_leaf': 6774}. Best is trial 1 with value: 91.1.\n"
     ]
    },
    {
     "name": "stdout",
     "output_type": "stream",
     "text": [
      "Early stopping, best iteration is:\n",
      "[52]\tvalid_0's ER: 93.28\n",
      "Evaluated only: ER\n",
      "**************** tweedie ****************\n",
      "Training until validation scores don't improve for 73 rounds\n"
     ]
    },
    {
     "name": "stderr",
     "output_type": "stream",
     "text": [
      "[I 2023-12-21 16:25:12,550] Trial 4 finished with value: 94.82 and parameters: {'lambda_l1': 801.547672702395, 'lambda_l2': 538.7012857311236, 'learning_rate': 0.21322703347202543, 'num_leaves': 241, 'feature_fraction': 0.4161626690882848, 'min_data_in_leaf': 646}. Best is trial 1 with value: 91.1.\n"
     ]
    },
    {
     "name": "stdout",
     "output_type": "stream",
     "text": [
      "[100]\tvalid_0's ER: 95.13\n",
      "Early stopping, best iteration is:\n",
      "[37]\tvalid_0's ER: 94.82\n",
      "Evaluated only: ER\n",
      "**************** tweedie ****************\n",
      "Training until validation scores don't improve for 85 rounds\n",
      "[100]\tvalid_0's ER: 87.77\n",
      "[200]\tvalid_0's ER: 86.77\n"
     ]
    },
    {
     "name": "stderr",
     "output_type": "stream",
     "text": [
      "[I 2023-12-21 16:25:17,977] Trial 5 finished with value: 86.62 and parameters: {'lambda_l1': 136.5916837299711, 'lambda_l2': 879.1543333815309, 'learning_rate': 0.14075310231153265, 'num_leaves': 697, 'feature_fraction': 0.5980775100053228, 'min_data_in_leaf': 1478}. Best is trial 5 with value: 86.62.\n"
     ]
    },
    {
     "name": "stdout",
     "output_type": "stream",
     "text": [
      "Early stopping, best iteration is:\n",
      "[192]\tvalid_0's ER: 86.62\n",
      "Evaluated only: ER\n",
      "**************** tweedie ****************\n",
      "Training until validation scores don't improve for 77 rounds\n",
      "[100]\tvalid_0's ER: 91.21\n"
     ]
    },
    {
     "name": "stderr",
     "output_type": "stream",
     "text": [
      "[I 2023-12-21 16:25:20,415] Trial 6 finished with value: 91.06 and parameters: {'lambda_l1': 300.52072960312313, 'lambda_l2': 233.02243406343837, 'learning_rate': 0.1818315307115361, 'num_leaves': 643, 'feature_fraction': 0.7738414973806647, 'min_data_in_leaf': 2390}. Best is trial 5 with value: 86.62.\n"
     ]
    },
    {
     "name": "stdout",
     "output_type": "stream",
     "text": [
      "Early stopping, best iteration is:\n",
      "[56]\tvalid_0's ER: 91.06\n",
      "Evaluated only: ER\n",
      "**************** tweedie ****************\n",
      "Training until validation scores don't improve for 84 rounds\n",
      "[100]\tvalid_0's ER: 93.35\n"
     ]
    },
    {
     "name": "stderr",
     "output_type": "stream",
     "text": [
      "[I 2023-12-21 16:25:23,028] Trial 7 finished with value: 93.34 and parameters: {'lambda_l1': 414.41743410736984, 'lambda_l2': 245.13296073740963, 'learning_rate': 0.14353236727395496, 'num_leaves': 913, 'feature_fraction': 0.5693303503617173, 'min_data_in_leaf': 3726}. Best is trial 5 with value: 86.62.\n"
     ]
    },
    {
     "name": "stdout",
     "output_type": "stream",
     "text": [
      "Early stopping, best iteration is:\n",
      "[73]\tvalid_0's ER: 93.34\n",
      "Evaluated only: ER\n",
      "**************** tweedie ****************\n",
      "Training until validation scores don't improve for 76 rounds\n",
      "[100]\tvalid_0's ER: 92.55\n"
     ]
    },
    {
     "name": "stderr",
     "output_type": "stream",
     "text": [
      "[I 2023-12-21 16:25:25,228] Trial 8 finished with value: 92.55 and parameters: {'lambda_l1': 385.60834828871873, 'lambda_l2': 233.57388763129617, 'learning_rate': 0.18770346023659126, 'num_leaves': 574, 'feature_fraction': 0.44377060622138675, 'min_data_in_leaf': 3495}. Best is trial 5 with value: 86.62.\n"
     ]
    },
    {
     "name": "stdout",
     "output_type": "stream",
     "text": [
      "Early stopping, best iteration is:\n",
      "[69]\tvalid_0's ER: 92.55\n",
      "Evaluated only: ER\n",
      "**************** tweedie ****************\n",
      "Training until validation scores don't improve for 89 rounds\n",
      "[100]\tvalid_0's ER: 95.5\n"
     ]
    },
    {
     "name": "stderr",
     "output_type": "stream",
     "text": [
      "[I 2023-12-21 16:25:28,171] Trial 9 finished with value: 95.35 and parameters: {'lambda_l1': 697.6841038022644, 'lambda_l2': 873.8988619861937, 'learning_rate': 0.12722192995399423, 'num_leaves': 412, 'feature_fraction': 0.7494868730981765, 'min_data_in_leaf': 6951}. Best is trial 5 with value: 86.62.\n"
     ]
    },
    {
     "name": "stdout",
     "output_type": "stream",
     "text": [
      "Early stopping, best iteration is:\n",
      "[90]\tvalid_0's ER: 95.35\n",
      "Evaluated only: ER\n",
      "# Experimentos: 10\n",
      "Mejor experimento: {'lambda_l1': 136.5916837299711, 'lambda_l2': 879.1543333815309, 'learning_rate': 0.14075310231153265, 'num_leaves': 697, 'feature_fraction': 0.5980775100053228, 'min_data_in_leaf': 1478}\n",
      "=========================================== Cluster 21 ===========================================\n"
     ]
    },
    {
     "name": "stderr",
     "output_type": "stream",
     "text": [
      "[I 2023-12-21 16:25:29,774] A new study created in memory with name: no-name-10b1d2c1-c604-4a4e-964f-35e0450d4bc4\n"
     ]
    },
    {
     "name": "stdout",
     "output_type": "stream",
     "text": [
      "Periodos entrenar: [201701 201702 201703 201704 201705 201706 201707 201708 201709 201710\n",
      " 201711 201712 201801 201802 201803 201804 201805 201806 201807 201808\n",
      " 201809 201810 201811 201812 201901 201902 201903 201904 201905]\n",
      "Periodos validar: [201907]\n",
      "product_id a validar: 2320\n",
      "X_train: (61828, 120)\n",
      "y_train: (61828,)\n",
      "\n",
      "X_validate: (2320, 120)\n",
      "y_validate: (2320,)\n",
      "Optimizacion Bayesiana\n",
      "**************** tweedie ****************\n",
      "Training until validation scores don't improve for 68 rounds\n"
     ]
    },
    {
     "name": "stderr",
     "output_type": "stream",
     "text": [
      "[I 2023-12-21 16:25:30,703] Trial 0 finished with value: 106.91 and parameters: {'lambda_l1': 236.85519124730658, 'lambda_l2': 1.5277766053820585, 'learning_rate': 0.26343635321595227, 'num_leaves': 78, 'feature_fraction': 0.7008805478239144, 'min_data_in_leaf': 4794}. Best is trial 0 with value: 106.91.\n"
     ]
    },
    {
     "name": "stdout",
     "output_type": "stream",
     "text": [
      "Early stopping, best iteration is:\n",
      "[11]\tvalid_0's ER: 106.91\n",
      "Evaluated only: ER\n",
      "**************** tweedie ****************\n",
      "Training until validation scores don't improve for 279 rounds\n",
      "[100]\tvalid_0's ER: 103.91\n",
      "[200]\tvalid_0's ER: 107.91\n",
      "[300]\tvalid_0's ER: 110.7\n"
     ]
    },
    {
     "name": "stderr",
     "output_type": "stream",
     "text": [
      "[I 2023-12-21 16:25:33,365] Trial 1 finished with value: 102.87 and parameters: {'lambda_l1': 8.774612466501463, 'lambda_l2': 245.76670908842246, 'learning_rate': 0.02175384907522219, 'num_leaves': 12, 'feature_fraction': 0.4176451620334867, 'min_data_in_leaf': 6651}. Best is trial 1 with value: 102.87.\n"
     ]
    },
    {
     "name": "stdout",
     "output_type": "stream",
     "text": [
      "[400]\tvalid_0's ER: 109.3\n",
      "Early stopping, best iteration is:\n",
      "[127]\tvalid_0's ER: 102.87\n",
      "Evaluated only: ER\n",
      "**************** tweedie ****************\n",
      "Training until validation scores don't improve for 306 rounds\n",
      "[100]\tvalid_0's ER: 100.99\n",
      "[200]\tvalid_0's ER: 102.22\n",
      "[300]\tvalid_0's ER: 105.3\n",
      "[400]\tvalid_0's ER: 108.7\n"
     ]
    },
    {
     "name": "stderr",
     "output_type": "stream",
     "text": [
      "[I 2023-12-21 16:25:38,258] Trial 2 finished with value: 98.26 and parameters: {'lambda_l1': 345.01924274059445, 'lambda_l2': 125.62062829680076, 'learning_rate': 0.019498707875723803, 'num_leaves': 584, 'feature_fraction': 0.7891151719999883, 'min_data_in_leaf': 1470}. Best is trial 2 with value: 98.26.\n"
     ]
    },
    {
     "name": "stdout",
     "output_type": "stream",
     "text": [
      "Early stopping, best iteration is:\n",
      "[141]\tvalid_0's ER: 98.26\n",
      "Evaluated only: ER\n",
      "**************** tweedie ****************\n",
      "Training until validation scores don't improve for 75 rounds\n"
     ]
    },
    {
     "name": "stderr",
     "output_type": "stream",
     "text": [
      "[I 2023-12-21 16:25:39,183] Trial 3 finished with value: 102.33 and parameters: {'lambda_l1': 531.0854661562059, 'lambda_l2': 777.0627253757401, 'learning_rate': 0.19548099487871706, 'num_leaves': 808, 'feature_fraction': 0.31343934712610344, 'min_data_in_leaf': 5139}. Best is trial 2 with value: 98.26.\n"
     ]
    },
    {
     "name": "stdout",
     "output_type": "stream",
     "text": [
      "[100]\tvalid_0's ER: 103.96\n",
      "Early stopping, best iteration is:\n",
      "[53]\tvalid_0's ER: 102.33\n",
      "Evaluated only: ER\n",
      "**************** tweedie ****************\n",
      "Training until validation scores don't improve for 94 rounds\n"
     ]
    },
    {
     "name": "stderr",
     "output_type": "stream",
     "text": [
      "[I 2023-12-21 16:25:40,311] Trial 4 finished with value: 104.98 and parameters: {'lambda_l1': 326.827622134207, 'lambda_l2': 800.5736173399273, 'learning_rate': 0.11118223072550053, 'num_leaves': 695, 'feature_fraction': 0.5359865722029933, 'min_data_in_leaf': 6800}. Best is trial 2 with value: 98.26.\n"
     ]
    },
    {
     "name": "stdout",
     "output_type": "stream",
     "text": [
      "[100]\tvalid_0's ER: 109.42\n",
      "Early stopping, best iteration is:\n",
      "[24]\tvalid_0's ER: 104.98\n",
      "Evaluated only: ER\n",
      "**************** tweedie ****************\n",
      "Training until validation scores don't improve for 80 rounds\n"
     ]
    },
    {
     "name": "stderr",
     "output_type": "stream",
     "text": [
      "[I 2023-12-21 16:25:41,360] Trial 5 finished with value: 100.91 and parameters: {'lambda_l1': 850.2242720172284, 'lambda_l2': 234.26730364574388, 'learning_rate': 0.16399906705167527, 'num_leaves': 249, 'feature_fraction': 0.6871629250440049, 'min_data_in_leaf': 2830}. Best is trial 2 with value: 98.26.\n"
     ]
    },
    {
     "name": "stdout",
     "output_type": "stream",
     "text": [
      "[100]\tvalid_0's ER: 104.1\n",
      "Early stopping, best iteration is:\n",
      "[27]\tvalid_0's ER: 100.91\n",
      "Evaluated only: ER\n",
      "**************** tweedie ****************\n",
      "Training until validation scores don't improve for 175 rounds\n",
      "[100]\tvalid_0's ER: 99.97\n",
      "[200]\tvalid_0's ER: 102.67\n"
     ]
    },
    {
     "name": "stderr",
     "output_type": "stream",
     "text": [
      "[I 2023-12-21 16:25:43,681] Trial 6 finished with value: 99.44 and parameters: {'lambda_l1': 565.2309425653268, 'lambda_l2': 172.9262828464384, 'learning_rate': 0.03993798205670055, 'num_leaves': 474, 'feature_fraction': 0.8647695759683296, 'min_data_in_leaf': 3356}. Best is trial 2 with value: 98.26.\n"
     ]
    },
    {
     "name": "stdout",
     "output_type": "stream",
     "text": [
      "Early stopping, best iteration is:\n",
      "[84]\tvalid_0's ER: 99.44\n",
      "Evaluated only: ER\n",
      "**************** tweedie ****************\n",
      "Training until validation scores don't improve for 99 rounds\n",
      "[100]\tvalid_0's ER: 107.51\n"
     ]
    },
    {
     "name": "stderr",
     "output_type": "stream",
     "text": [
      "[I 2023-12-21 16:25:45,093] Trial 7 finished with value: 103.24 and parameters: {'lambda_l1': 550.1365720382041, 'lambda_l2': 862.7132393743713, 'learning_rate': 0.10052442930023786, 'num_leaves': 245, 'feature_fraction': 0.9297654759463756, 'min_data_in_leaf': 5292}. Best is trial 2 with value: 98.26.\n"
     ]
    },
    {
     "name": "stdout",
     "output_type": "stream",
     "text": [
      "Early stopping, best iteration is:\n",
      "[39]\tvalid_0's ER: 103.24\n",
      "Evaluated only: ER\n",
      "**************** tweedie ****************\n",
      "Training until validation scores don't improve for 102 rounds\n",
      "[100]\tvalid_0's ER: 109.82\n"
     ]
    },
    {
     "name": "stderr",
     "output_type": "stream",
     "text": [
      "[I 2023-12-21 16:25:46,304] Trial 8 finished with value: 105.01 and parameters: {'lambda_l1': 694.5755039508406, 'lambda_l2': 365.4079604087855, 'learning_rate': 0.09538027359901304, 'num_leaves': 567, 'feature_fraction': 0.5036189361919816, 'min_data_in_leaf': 6200}. Best is trial 2 with value: 98.26.\n"
     ]
    },
    {
     "name": "stdout",
     "output_type": "stream",
     "text": [
      "Early stopping, best iteration is:\n",
      "[48]\tvalid_0's ER: 105.01\n",
      "Evaluated only: ER\n",
      "**************** tweedie ****************\n",
      "Training until validation scores don't improve for 86 rounds\n"
     ]
    },
    {
     "name": "stderr",
     "output_type": "stream",
     "text": [
      "[I 2023-12-21 16:25:47,756] Trial 9 finished with value: 97.84 and parameters: {'lambda_l1': 355.7835365995289, 'lambda_l2': 129.44629073434743, 'learning_rate': 0.13542539135255918, 'num_leaves': 48, 'feature_fraction': 0.7890215019650124, 'min_data_in_leaf': 301}. Best is trial 9 with value: 97.84.\n"
     ]
    },
    {
     "name": "stdout",
     "output_type": "stream",
     "text": [
      "[100]\tvalid_0's ER: 112.73\n",
      "Early stopping, best iteration is:\n",
      "[19]\tvalid_0's ER: 97.84\n",
      "Evaluated only: ER\n",
      "# Experimentos: 10\n",
      "Mejor experimento: {'lambda_l1': 355.7835365995289, 'lambda_l2': 129.44629073434743, 'learning_rate': 0.13542539135255918, 'num_leaves': 48, 'feature_fraction': 0.7890215019650124, 'min_data_in_leaf': 301}\n",
      "=========================================== Cluster 22 ===========================================\n"
     ]
    },
    {
     "name": "stderr",
     "output_type": "stream",
     "text": [
      "[I 2023-12-21 16:25:54,358] A new study created in memory with name: no-name-4b57e73e-3aa3-4f31-9541-b08f8eb204e6\n"
     ]
    },
    {
     "name": "stdout",
     "output_type": "stream",
     "text": [
      "Periodos entrenar: [201701 201702 201703 201704 201705 201706 201707 201708 201709 201710\n",
      " 201711 201712 201801 201802 201803 201804 201805 201806 201807 201808\n",
      " 201809 201810 201811 201812 201901 201902 201903 201904 201905]\n",
      "Periodos validar: [201907]\n",
      "product_id a validar: 10440\n",
      "X_train: (256479, 120)\n",
      "y_train: (256479,)\n",
      "\n",
      "X_validate: (10440, 120)\n",
      "y_validate: (10440,)\n",
      "Optimizacion Bayesiana\n",
      "**************** tweedie ****************\n",
      "Training until validation scores don't improve for 67 rounds\n",
      "[100]\tvalid_0's ER: 77.17\n",
      "[200]\tvalid_0's ER: 77\n",
      "[300]\tvalid_0's ER: 76.93\n"
     ]
    },
    {
     "name": "stderr",
     "output_type": "stream",
     "text": [
      "[I 2023-12-21 16:26:00,209] Trial 0 finished with value: 76.93 and parameters: {'lambda_l1': 561.1557246207911, 'lambda_l2': 928.6734028774536, 'learning_rate': 0.2783925391262921, 'num_leaves': 87, 'feature_fraction': 0.20297407744367507, 'min_data_in_leaf': 7353}. Best is trial 0 with value: 76.93.\n"
     ]
    },
    {
     "name": "stdout",
     "output_type": "stream",
     "text": [
      "Early stopping, best iteration is:\n",
      "[272]\tvalid_0's ER: 76.93\n",
      "Evaluated only: ER\n",
      "**************** tweedie ****************\n",
      "Training until validation scores don't improve for 106 rounds\n",
      "[100]\tvalid_0's ER: 74.42\n",
      "[200]\tvalid_0's ER: 73.75\n"
     ]
    },
    {
     "name": "stderr",
     "output_type": "stream",
     "text": [
      "[I 2023-12-21 16:26:07,067] Trial 1 finished with value: 73.74 and parameters: {'lambda_l1': 412.9267159341077, 'lambda_l2': 221.13757657696198, 'learning_rate': 0.08817001784172, 'num_leaves': 750, 'feature_fraction': 0.31753454563207906, 'min_data_in_leaf': 1624}. Best is trial 1 with value: 73.74.\n"
     ]
    },
    {
     "name": "stdout",
     "output_type": "stream",
     "text": [
      "Early stopping, best iteration is:\n",
      "[144]\tvalid_0's ER: 73.74\n",
      "Evaluated only: ER\n",
      "**************** tweedie ****************\n",
      "Training until validation scores don't improve for 82 rounds\n",
      "[100]\tvalid_0's ER: 73.92\n"
     ]
    },
    {
     "name": "stderr",
     "output_type": "stream",
     "text": [
      "[I 2023-12-21 16:26:14,512] Trial 2 finished with value: 73.92 and parameters: {'lambda_l1': 532.4799765569829, 'lambda_l2': 582.6193451187836, 'learning_rate': 0.15303789437291176, 'num_leaves': 259, 'feature_fraction': 0.8328623410033336, 'min_data_in_leaf': 901}. Best is trial 1 with value: 73.74.\n"
     ]
    },
    {
     "name": "stdout",
     "output_type": "stream",
     "text": [
      "Early stopping, best iteration is:\n",
      "[77]\tvalid_0's ER: 73.92\n",
      "Evaluated only: ER\n",
      "**************** tweedie ****************\n",
      "Training until validation scores don't improve for 87 rounds\n",
      "[100]\tvalid_0's ER: 75.77\n"
     ]
    },
    {
     "name": "stderr",
     "output_type": "stream",
     "text": [
      "[I 2023-12-21 16:26:20,790] Trial 3 finished with value: 75.77 and parameters: {'lambda_l1': 839.9647572501486, 'lambda_l2': 358.78591066379494, 'learning_rate': 0.1342486736015081, 'num_leaves': 357, 'feature_fraction': 0.8142467515377112, 'min_data_in_leaf': 3270}. Best is trial 1 with value: 73.74.\n"
     ]
    },
    {
     "name": "stdout",
     "output_type": "stream",
     "text": [
      "Early stopping, best iteration is:\n",
      "[81]\tvalid_0's ER: 75.77\n",
      "Evaluated only: ER\n",
      "**************** tweedie ****************\n",
      "Training until validation scores don't improve for 68 rounds\n",
      "[100]\tvalid_0's ER: 76.8\n"
     ]
    },
    {
     "name": "stderr",
     "output_type": "stream",
     "text": [
      "[I 2023-12-21 16:26:25,381] Trial 4 finished with value: 76.8 and parameters: {'lambda_l1': 986.0630587876198, 'lambda_l2': 717.0173396084441, 'learning_rate': 0.2724297651212619, 'num_leaves': 321, 'feature_fraction': 0.6634363851064102, 'min_data_in_leaf': 5602}. Best is trial 1 with value: 73.74.\n"
     ]
    },
    {
     "name": "stdout",
     "output_type": "stream",
     "text": [
      "Early stopping, best iteration is:\n",
      "[47]\tvalid_0's ER: 76.8\n",
      "Evaluated only: ER\n",
      "**************** tweedie ****************\n",
      "Training until validation scores don't improve for 75 rounds\n",
      "[100]\tvalid_0's ER: 76.72\n"
     ]
    },
    {
     "name": "stderr",
     "output_type": "stream",
     "text": [
      "[I 2023-12-21 16:26:30,326] Trial 5 finished with value: 76.72 and parameters: {'lambda_l1': 976.7847276928266, 'lambda_l2': 205.16063418117537, 'learning_rate': 0.1929343936432006, 'num_leaves': 480, 'feature_fraction': 0.8642311534376599, 'min_data_in_leaf': 3965}. Best is trial 1 with value: 73.74.\n"
     ]
    },
    {
     "name": "stdout",
     "output_type": "stream",
     "text": [
      "Early stopping, best iteration is:\n",
      "[53]\tvalid_0's ER: 76.72\n",
      "Evaluated only: ER\n",
      "**************** tweedie ****************\n",
      "Training until validation scores don't improve for 451 rounds\n",
      "[100]\tvalid_0's ER: 105.52\n",
      "[200]\tvalid_0's ER: 87.88\n",
      "[300]\tvalid_0's ER: 81.11\n",
      "[400]\tvalid_0's ER: 78.02\n",
      "[500]\tvalid_0's ER: 76.67\n",
      "[600]\tvalid_0's ER: 76.18\n",
      "[700]\tvalid_0's ER: 75.87\n",
      "[800]\tvalid_0's ER: 75.63\n",
      "[900]\tvalid_0's ER: 75.48\n",
      "[1000]\tvalid_0's ER: 75.43\n",
      "[1100]\tvalid_0's ER: 75.42\n",
      "[1200]\tvalid_0's ER: 75.41\n",
      "[1300]\tvalid_0's ER: 75.4\n",
      "[1400]\tvalid_0's ER: 75.4\n",
      "[1500]\tvalid_0's ER: 75.4\n",
      "[1600]\tvalid_0's ER: 75.4\n",
      "[1700]\tvalid_0's ER: 75.4\n",
      "Early stopping, best iteration is:\n",
      "[1283]\tvalid_0's ER: 75.4\n",
      "Evaluated only: ER\n"
     ]
    },
    {
     "name": "stderr",
     "output_type": "stream",
     "text": [
      "[I 2023-12-21 16:27:07,406] Trial 6 finished with value: 75.4 and parameters: {'lambda_l1': 545.2251462134208, 'lambda_l2': 99.79187156801905, 'learning_rate': 0.012466928872218777, 'num_leaves': 1023, 'feature_fraction': 0.40919349391667076, 'min_data_in_leaf': 7724}. Best is trial 1 with value: 73.74.\n"
     ]
    },
    {
     "name": "stdout",
     "output_type": "stream",
     "text": [
      "**************** tweedie ****************\n",
      "Training until validation scores don't improve for 91 rounds\n",
      "[100]\tvalid_0's ER: 76.2\n"
     ]
    },
    {
     "name": "stderr",
     "output_type": "stream",
     "text": [
      "[I 2023-12-21 16:27:14,450] Trial 7 finished with value: 76.2 and parameters: {'lambda_l1': 867.1368551603873, 'lambda_l2': 756.6680653625468, 'learning_rate': 0.12141075826806688, 'num_leaves': 329, 'feature_fraction': 0.6850009949414122, 'min_data_in_leaf': 2994}. Best is trial 1 with value: 73.74.\n"
     ]
    },
    {
     "name": "stdout",
     "output_type": "stream",
     "text": [
      "Early stopping, best iteration is:\n",
      "[95]\tvalid_0's ER: 76.2\n",
      "Evaluated only: ER\n",
      "**************** tweedie ****************\n",
      "Training until validation scores don't improve for 134 rounds\n",
      "[100]\tvalid_0's ER: 77.6\n",
      "[200]\tvalid_0's ER: 76.39\n"
     ]
    },
    {
     "name": "stderr",
     "output_type": "stream",
     "text": [
      "[I 2023-12-21 16:27:24,515] Trial 8 finished with value: 76.39 and parameters: {'lambda_l1': 998.5850296444412, 'lambda_l2': 86.31838820147375, 'learning_rate': 0.059111415302619034, 'num_leaves': 845, 'feature_fraction': 0.7711598211202983, 'min_data_in_leaf': 2928}. Best is trial 1 with value: 73.74.\n"
     ]
    },
    {
     "name": "stdout",
     "output_type": "stream",
     "text": [
      "Early stopping, best iteration is:\n",
      "[151]\tvalid_0's ER: 76.39\n",
      "Evaluated only: ER\n",
      "**************** tweedie ****************\n",
      "Training until validation scores don't improve for 72 rounds\n",
      "[100]\tvalid_0's ER: 74.97\n"
     ]
    },
    {
     "name": "stderr",
     "output_type": "stream",
     "text": [
      "[I 2023-12-21 16:27:28,391] Trial 9 finished with value: 74.97 and parameters: {'lambda_l1': 904.4066620945039, 'lambda_l2': 282.9545373261715, 'learning_rate': 0.22491505736717127, 'num_leaves': 794, 'feature_fraction': 0.23225527360551856, 'min_data_in_leaf': 1411}. Best is trial 1 with value: 73.74.\n"
     ]
    },
    {
     "name": "stdout",
     "output_type": "stream",
     "text": [
      "Early stopping, best iteration is:\n",
      "[86]\tvalid_0's ER: 74.97\n",
      "Evaluated only: ER\n",
      "# Experimentos: 10\n",
      "Mejor experimento: {'lambda_l1': 412.9267159341077, 'lambda_l2': 221.13757657696198, 'learning_rate': 0.08817001784172, 'num_leaves': 750, 'feature_fraction': 0.31753454563207906, 'min_data_in_leaf': 1624}\n",
      "=========================================== Cluster 23 ===========================================\n"
     ]
    },
    {
     "name": "stderr",
     "output_type": "stream",
     "text": [
      "[I 2023-12-21 16:27:29,312] A new study created in memory with name: no-name-c4b3c21a-8e18-48c4-9e14-1914d8bbabfc\n"
     ]
    },
    {
     "name": "stdout",
     "output_type": "stream",
     "text": [
      "Periodos entrenar: [201701 201702 201703 201704 201705 201706 201707 201708 201709 201710\n",
      " 201711 201712 201801 201802 201803 201804 201805 201806 201807 201808\n",
      " 201809 201810 201811 201812 201901 201902 201903 201904 201905]\n",
      "Periodos validar: [201907]\n",
      "product_id a validar: 1160\n",
      "X_train: (30914, 120)\n",
      "y_train: (30914,)\n",
      "\n",
      "X_validate: (1160, 120)\n",
      "y_validate: (1160,)\n",
      "Optimizacion Bayesiana\n",
      "**************** tweedie ****************\n",
      "Training until validation scores don't improve for 69 rounds\n"
     ]
    },
    {
     "name": "stderr",
     "output_type": "stream",
     "text": [
      "[I 2023-12-21 16:27:29,805] Trial 0 finished with value: 82.22 and parameters: {'lambda_l1': 975.5507968962859, 'lambda_l2': 123.16660460039996, 'learning_rate': 0.2596687627317902, 'num_leaves': 177, 'feature_fraction': 0.7987650510593725, 'min_data_in_leaf': 4387}. Best is trial 0 with value: 82.22.\n"
     ]
    },
    {
     "name": "stdout",
     "output_type": "stream",
     "text": [
      "Early stopping, best iteration is:\n",
      "[25]\tvalid_0's ER: 82.22\n",
      "Evaluated only: ER\n",
      "**************** tweedie ****************\n",
      "Training until validation scores don't improve for 85 rounds\n"
     ]
    },
    {
     "name": "stderr",
     "output_type": "stream",
     "text": [
      "[I 2023-12-21 16:27:30,724] Trial 1 finished with value: 78.56 and parameters: {'lambda_l1': 52.88095107369084, 'lambda_l2': 473.61544023257443, 'learning_rate': 0.1411974819670951, 'num_leaves': 255, 'feature_fraction': 0.6859635816272662, 'min_data_in_leaf': 1044}. Best is trial 1 with value: 78.56.\n"
     ]
    },
    {
     "name": "stdout",
     "output_type": "stream",
     "text": [
      "[100]\tvalid_0's ER: 83.94\n",
      "Early stopping, best iteration is:\n",
      "[29]\tvalid_0's ER: 78.56\n",
      "Evaluated only: ER\n",
      "**************** tweedie ****************\n",
      "Training until validation scores don't improve for 111 rounds\n",
      "[100]\tvalid_0's ER: 88.68\n",
      "[200]\tvalid_0's ER: 88.05\n"
     ]
    },
    {
     "name": "stderr",
     "output_type": "stream",
     "text": [
      "[I 2023-12-21 16:27:32,040] Trial 2 finished with value: 88.03 and parameters: {'lambda_l1': 974.9206875220457, 'lambda_l2': 943.1747563705176, 'learning_rate': 0.08098952338545223, 'num_leaves': 995, 'feature_fraction': 0.9917673977665966, 'min_data_in_leaf': 7372}. Best is trial 1 with value: 78.56.\n"
     ]
    },
    {
     "name": "stdout",
     "output_type": "stream",
     "text": [
      "[300]\tvalid_0's ER: 88.03\n",
      "Early stopping, best iteration is:\n",
      "[213]\tvalid_0's ER: 88.03\n",
      "Evaluated only: ER\n",
      "**************** tweedie ****************\n",
      "Training until validation scores don't improve for 71 rounds\n"
     ]
    },
    {
     "name": "stderr",
     "output_type": "stream",
     "text": [
      "[I 2023-12-21 16:27:32,642] Trial 3 finished with value: 83.55 and parameters: {'lambda_l1': 538.5958707800565, 'lambda_l2': 879.3131329764965, 'learning_rate': 0.2347370245908, 'num_leaves': 864, 'feature_fraction': 0.7334404434253541, 'min_data_in_leaf': 6760}. Best is trial 1 with value: 78.56.\n"
     ]
    },
    {
     "name": "stdout",
     "output_type": "stream",
     "text": [
      "[100]\tvalid_0's ER: 83.95\n",
      "Early stopping, best iteration is:\n",
      "[48]\tvalid_0's ER: 83.55\n",
      "Evaluated only: ER\n",
      "**************** tweedie ****************\n",
      "Training until validation scores don't improve for 86 rounds\n"
     ]
    },
    {
     "name": "stderr",
     "output_type": "stream",
     "text": [
      "[I 2023-12-21 16:27:33,326] Trial 4 finished with value: 81.75 and parameters: {'lambda_l1': 786.1063352940754, 'lambda_l2': 842.4794101126168, 'learning_rate': 0.1388412548757334, 'num_leaves': 290, 'feature_fraction': 0.9118723725189661, 'min_data_in_leaf': 2439}. Best is trial 1 with value: 78.56.\n"
     ]
    },
    {
     "name": "stdout",
     "output_type": "stream",
     "text": [
      "[100]\tvalid_0's ER: 82.04\n",
      "Early stopping, best iteration is:\n",
      "[59]\tvalid_0's ER: 81.75\n",
      "Evaluated only: ER\n",
      "**************** tweedie ****************\n",
      "Training until validation scores don't improve for 71 rounds\n"
     ]
    },
    {
     "name": "stderr",
     "output_type": "stream",
     "text": [
      "[I 2023-12-21 16:27:33,874] Trial 5 finished with value: 79.14 and parameters: {'lambda_l1': 189.3460263401624, 'lambda_l2': 590.116703958925, 'learning_rate': 0.22869033907354164, 'num_leaves': 387, 'feature_fraction': 0.8390749598026781, 'min_data_in_leaf': 3867}. Best is trial 1 with value: 78.56.\n"
     ]
    },
    {
     "name": "stdout",
     "output_type": "stream",
     "text": [
      "Early stopping, best iteration is:\n",
      "[19]\tvalid_0's ER: 79.14\n",
      "Evaluated only: ER\n",
      "**************** tweedie ****************\n",
      "Training until validation scores don't improve for 341 rounds\n",
      "[100]\tvalid_0's ER: 96.49\n",
      "[200]\tvalid_0's ER: 80.52\n",
      "[300]\tvalid_0's ER: 78.13\n",
      "[400]\tvalid_0's ER: 78.23\n",
      "[500]\tvalid_0's ER: 79.11\n",
      "[600]\tvalid_0's ER: 80.02\n"
     ]
    },
    {
     "name": "stderr",
     "output_type": "stream",
     "text": [
      "[I 2023-12-21 16:27:36,754] Trial 6 finished with value: 77.81 and parameters: {'lambda_l1': 178.16063585218123, 'lambda_l2': 756.7732978078865, 'learning_rate': 0.01714510792994909, 'num_leaves': 72, 'feature_fraction': 0.5649414780674299, 'min_data_in_leaf': 2113}. Best is trial 6 with value: 77.81.\n"
     ]
    },
    {
     "name": "stdout",
     "output_type": "stream",
     "text": [
      "Early stopping, best iteration is:\n",
      "[334]\tvalid_0's ER: 77.81\n",
      "Evaluated only: ER\n",
      "**************** tweedie ****************\n"
     ]
    },
    {
     "name": "stderr",
     "output_type": "stream",
     "text": [
      "[I 2023-12-21 16:27:37,139] Trial 7 finished with value: 83.1 and parameters: {'lambda_l1': 221.80722488375392, 'lambda_l2': 992.488142571682, 'learning_rate': 0.2782991083667664, 'num_leaves': 464, 'feature_fraction': 0.20094746222864207, 'min_data_in_leaf': 7437}. Best is trial 6 with value: 77.81.\n"
     ]
    },
    {
     "name": "stdout",
     "output_type": "stream",
     "text": [
      "Training until validation scores don't improve for 67 rounds\n",
      "Early stopping, best iteration is:\n",
      "[27]\tvalid_0's ER: 83.1\n",
      "Evaluated only: ER\n",
      "**************** tweedie ****************\n",
      "Training until validation scores don't improve for 151 rounds\n",
      "[100]\tvalid_0's ER: 77.04\n"
     ]
    },
    {
     "name": "stderr",
     "output_type": "stream",
     "text": [
      "[I 2023-12-21 16:27:38,564] Trial 8 finished with value: 76.86 and parameters: {'lambda_l1': 248.68715915254947, 'lambda_l2': 199.47077746492147, 'learning_rate': 0.04903768245334735, 'num_leaves': 552, 'feature_fraction': 0.594636001966479, 'min_data_in_leaf': 573}. Best is trial 8 with value: 76.86.\n"
     ]
    },
    {
     "name": "stdout",
     "output_type": "stream",
     "text": [
      "[200]\tvalid_0's ER: 80.5\n",
      "Early stopping, best iteration is:\n",
      "[95]\tvalid_0's ER: 76.86\n",
      "Evaluated only: ER\n",
      "**************** tweedie ****************\n",
      "Training until validation scores don't improve for 67 rounds\n"
     ]
    },
    {
     "name": "stderr",
     "output_type": "stream",
     "text": [
      "[I 2023-12-21 16:27:39,064] Trial 9 finished with value: 84.07 and parameters: {'lambda_l1': 542.7183390018619, 'lambda_l2': 2.9204710172832105, 'learning_rate': 0.2878910496752273, 'num_leaves': 945, 'feature_fraction': 0.607028354597791, 'min_data_in_leaf': 7426}. Best is trial 8 with value: 76.86.\n"
     ]
    },
    {
     "name": "stdout",
     "output_type": "stream",
     "text": [
      "Early stopping, best iteration is:\n",
      "[20]\tvalid_0's ER: 84.07\n",
      "Evaluated only: ER\n",
      "# Experimentos: 10\n",
      "Mejor experimento: {'lambda_l1': 248.68715915254947, 'lambda_l2': 199.47077746492147, 'learning_rate': 0.04903768245334735, 'num_leaves': 552, 'feature_fraction': 0.594636001966479, 'min_data_in_leaf': 573}\n",
      "=========================================== Cluster 24 ===========================================\n"
     ]
    },
    {
     "name": "stderr",
     "output_type": "stream",
     "text": [
      "[I 2023-12-21 16:27:40,522] A new study created in memory with name: no-name-099a4197-4e65-49b9-b179-32c769e84363\n"
     ]
    },
    {
     "name": "stdout",
     "output_type": "stream",
     "text": [
      "Periodos entrenar: [201701 201702 201703 201704 201705 201706 201707 201708 201709 201710\n",
      " 201711 201712 201801 201802 201803 201804 201805 201806 201807 201808\n",
      " 201809 201810 201811 201812 201901 201902 201903 201904 201905]\n",
      "Periodos validar: [201907]\n",
      "product_id a validar: 2320\n",
      "X_train: (53301, 120)\n",
      "y_train: (53301,)\n",
      "\n",
      "X_validate: (2320, 120)\n",
      "y_validate: (2320,)\n",
      "Optimizacion Bayesiana\n",
      "**************** tweedie ****************\n",
      "Training until validation scores don't improve for 117 rounds\n",
      "[100]\tvalid_0's ER: 74\n"
     ]
    },
    {
     "name": "stderr",
     "output_type": "stream",
     "text": [
      "[I 2023-12-21 16:27:41,941] Trial 0 finished with value: 73.87 and parameters: {'lambda_l1': 103.16897132514113, 'lambda_l2': 134.21475966291618, 'learning_rate': 0.07436840540367967, 'num_leaves': 938, 'feature_fraction': 0.3809580411834972, 'min_data_in_leaf': 4735}. Best is trial 0 with value: 73.87.\n"
     ]
    },
    {
     "name": "stdout",
     "output_type": "stream",
     "text": [
      "[200]\tvalid_0's ER: 74.82\n",
      "Early stopping, best iteration is:\n",
      "[103]\tvalid_0's ER: 73.87\n",
      "Evaluated only: ER\n",
      "**************** tweedie ****************\n",
      "Training until validation scores don't improve for 81 rounds\n",
      "[100]\tvalid_0's ER: 75.59\n"
     ]
    },
    {
     "name": "stderr",
     "output_type": "stream",
     "text": [
      "[I 2023-12-21 16:27:43,134] Trial 1 finished with value: 75.58 and parameters: {'lambda_l1': 424.93538211209136, 'lambda_l2': 167.05127852896095, 'learning_rate': 0.15895409172641545, 'num_leaves': 419, 'feature_fraction': 0.40330714838901144, 'min_data_in_leaf': 6399}. Best is trial 0 with value: 73.87.\n"
     ]
    },
    {
     "name": "stdout",
     "output_type": "stream",
     "text": [
      "[200]\tvalid_0's ER: 75.58\n",
      "Early stopping, best iteration is:\n",
      "[135]\tvalid_0's ER: 75.58\n",
      "Evaluated only: ER\n",
      "**************** tweedie ****************\n",
      "Training until validation scores don't improve for 84 rounds\n",
      "[100]\tvalid_0's ER: 79.74\n"
     ]
    },
    {
     "name": "stderr",
     "output_type": "stream",
     "text": [
      "[I 2023-12-21 16:27:44,507] Trial 2 finished with value: 79.72 and parameters: {'lambda_l1': 722.7354873641121, 'lambda_l2': 773.9969321731232, 'learning_rate': 0.1454518621568468, 'num_leaves': 928, 'feature_fraction': 0.3809561215703558, 'min_data_in_leaf': 642}. Best is trial 0 with value: 73.87.\n"
     ]
    },
    {
     "name": "stdout",
     "output_type": "stream",
     "text": [
      "[200]\tvalid_0's ER: 79.72\n",
      "Early stopping, best iteration is:\n",
      "[127]\tvalid_0's ER: 79.72\n",
      "Evaluated only: ER\n",
      "**************** tweedie ****************\n",
      "Training until validation scores don't improve for 79 rounds\n",
      "[100]\tvalid_0's ER: 81.47\n"
     ]
    },
    {
     "name": "stderr",
     "output_type": "stream",
     "text": [
      "[I 2023-12-21 16:27:46,255] Trial 3 finished with value: 81.47 and parameters: {'lambda_l1': 814.5869596127831, 'lambda_l2': 432.4462781614178, 'learning_rate': 0.16907815578657462, 'num_leaves': 648, 'feature_fraction': 0.5263523613939421, 'min_data_in_leaf': 3309}. Best is trial 0 with value: 73.87.\n"
     ]
    },
    {
     "name": "stdout",
     "output_type": "stream",
     "text": [
      "Early stopping, best iteration is:\n",
      "[73]\tvalid_0's ER: 81.47\n",
      "Evaluated only: ER\n",
      "**************** tweedie ****************\n",
      "Training until validation scores don't improve for 84 rounds\n",
      "[100]\tvalid_0's ER: 78.54\n",
      "Early stopping, best iteration is:\n",
      "[60]\tvalid_0's ER: 78.54\n",
      "Evaluated only: ER\n"
     ]
    },
    {
     "name": "stderr",
     "output_type": "stream",
     "text": [
      "[I 2023-12-21 16:27:47,513] Trial 4 finished with value: 78.54 and parameters: {'lambda_l1': 705.2873611467272, 'lambda_l2': 129.22232676452228, 'learning_rate': 0.144343495067405, 'num_leaves': 769, 'feature_fraction': 0.7079778756089814, 'min_data_in_leaf': 564}. Best is trial 0 with value: 73.87.\n"
     ]
    },
    {
     "name": "stdout",
     "output_type": "stream",
     "text": [
      "**************** tweedie ****************\n",
      "Training until validation scores don't improve for 78 rounds\n",
      "[100]\tvalid_0's ER: 82.71\n",
      "Early stopping, best iteration is:\n",
      "[58]\tvalid_0's ER: 82.71\n",
      "Evaluated only: ER\n"
     ]
    },
    {
     "name": "stderr",
     "output_type": "stream",
     "text": [
      "[I 2023-12-21 16:27:48,627] Trial 5 finished with value: 82.71 and parameters: {'lambda_l1': 913.1358141482908, 'lambda_l2': 255.72964730651836, 'learning_rate': 0.17464215878102554, 'num_leaves': 553, 'feature_fraction': 0.6191775089815699, 'min_data_in_leaf': 2678}. Best is trial 0 with value: 73.87.\n"
     ]
    },
    {
     "name": "stdout",
     "output_type": "stream",
     "text": [
      "**************** tweedie ****************\n",
      "Training until validation scores don't improve for 147 rounds\n",
      "[100]\tvalid_0's ER: 78.8\n",
      "[200]\tvalid_0's ER: 74.84\n",
      "[300]\tvalid_0's ER: 74.56\n"
     ]
    },
    {
     "name": "stderr",
     "output_type": "stream",
     "text": [
      "[I 2023-12-21 16:27:51,269] Trial 6 finished with value: 74.56 and parameters: {'lambda_l1': 348.2122062213654, 'lambda_l2': 579.959760011317, 'learning_rate': 0.05152078388371119, 'num_leaves': 415, 'feature_fraction': 0.7570924102077856, 'min_data_in_leaf': 5206}. Best is trial 0 with value: 73.87.\n"
     ]
    },
    {
     "name": "stdout",
     "output_type": "stream",
     "text": [
      "Early stopping, best iteration is:\n",
      "[237]\tvalid_0's ER: 74.56\n",
      "Evaluated only: ER\n",
      "**************** tweedie ****************\n",
      "Training until validation scores don't improve for 82 rounds\n"
     ]
    },
    {
     "name": "stderr",
     "output_type": "stream",
     "text": [
      "[I 2023-12-21 16:27:52,428] Trial 7 finished with value: 77.8 and parameters: {'lambda_l1': 601.265829373466, 'lambda_l2': 47.53789308800482, 'learning_rate': 0.15334448569520437, 'num_leaves': 858, 'feature_fraction': 0.8218556044406471, 'min_data_in_leaf': 2131}. Best is trial 0 with value: 73.87.\n"
     ]
    },
    {
     "name": "stdout",
     "output_type": "stream",
     "text": [
      "[100]\tvalid_0's ER: 77.8\n",
      "Early stopping, best iteration is:\n",
      "[49]\tvalid_0's ER: 77.8\n",
      "Evaluated only: ER\n",
      "**************** tweedie ****************\n",
      "Training until validation scores don't improve for 90 rounds\n",
      "[100]\tvalid_0's ER: 81.67\n"
     ]
    },
    {
     "name": "stderr",
     "output_type": "stream",
     "text": [
      "[I 2023-12-21 16:27:54,069] Trial 8 finished with value: 81.66 and parameters: {'lambda_l1': 798.3737246858477, 'lambda_l2': 639.9614028186465, 'learning_rate': 0.12473245271603228, 'num_leaves': 667, 'feature_fraction': 0.7811458555387063, 'min_data_in_leaf': 4301}. Best is trial 0 with value: 73.87.\n"
     ]
    },
    {
     "name": "stdout",
     "output_type": "stream",
     "text": [
      "[200]\tvalid_0's ER: 81.66\n",
      "Early stopping, best iteration is:\n",
      "[134]\tvalid_0's ER: 81.66\n",
      "Evaluated only: ER\n",
      "**************** tweedie ****************\n",
      "Training until validation scores don't improve for 70 rounds\n"
     ]
    },
    {
     "name": "stderr",
     "output_type": "stream",
     "text": [
      "[I 2023-12-21 16:27:55,012] Trial 9 finished with value: 74.83 and parameters: {'lambda_l1': 418.6209994310557, 'lambda_l2': 197.9336326492267, 'learning_rate': 0.24604607298379666, 'num_leaves': 497, 'feature_fraction': 0.5422726271668123, 'min_data_in_leaf': 1276}. Best is trial 0 with value: 73.87.\n"
     ]
    },
    {
     "name": "stdout",
     "output_type": "stream",
     "text": [
      "[100]\tvalid_0's ER: 74.83\n",
      "Early stopping, best iteration is:\n",
      "[41]\tvalid_0's ER: 74.83\n",
      "Evaluated only: ER\n",
      "# Experimentos: 10\n",
      "Mejor experimento: {'lambda_l1': 103.16897132514113, 'lambda_l2': 134.21475966291618, 'learning_rate': 0.07436840540367967, 'num_leaves': 938, 'feature_fraction': 0.3809580411834972, 'min_data_in_leaf': 4735}\n",
      "=========================================== Cluster 25 ===========================================\n"
     ]
    },
    {
     "name": "stderr",
     "output_type": "stream",
     "text": [
      "[I 2023-12-21 16:27:56,469] A new study created in memory with name: no-name-058cb528-4f06-43a8-9c9a-a8a00945ec19\n"
     ]
    },
    {
     "name": "stdout",
     "output_type": "stream",
     "text": [
      "Periodos entrenar: [201701 201702 201703 201704 201705 201706 201707 201708 201709 201710\n",
      " 201711 201712 201801 201802 201803 201804 201805 201806 201807 201808\n",
      " 201809 201810 201811 201812 201901 201902 201903 201904 201905]\n",
      "Periodos validar: [201907]\n",
      "product_id a validar: 2320\n",
      "X_train: (53301, 120)\n",
      "y_train: (53301,)\n",
      "\n",
      "X_validate: (2320, 120)\n",
      "y_validate: (2320,)\n",
      "Optimizacion Bayesiana\n",
      "**************** tweedie ****************\n",
      "Training until validation scores don't improve for 121 rounds\n",
      "[100]\tvalid_0's ER: 71.82\n",
      "[200]\tvalid_0's ER: 71.41\n"
     ]
    },
    {
     "name": "stderr",
     "output_type": "stream",
     "text": [
      "[I 2023-12-21 16:27:58,182] Trial 0 finished with value: 71.41 and parameters: {'lambda_l1': 702.4481958067661, 'lambda_l2': 19.805509869276094, 'learning_rate': 0.07009253886707452, 'num_leaves': 921, 'feature_fraction': 0.839701649139118, 'min_data_in_leaf': 7254}. Best is trial 0 with value: 71.41.\n"
     ]
    },
    {
     "name": "stdout",
     "output_type": "stream",
     "text": [
      "Early stopping, best iteration is:\n",
      "[127]\tvalid_0's ER: 71.41\n",
      "Evaluated only: ER\n",
      "**************** tweedie ****************\n",
      "Training until validation scores don't improve for 81 rounds\n",
      "[100]\tvalid_0's ER: 64.01\n",
      "Early stopping, best iteration is:\n",
      "[62]\tvalid_0's ER: 64.01\n",
      "Evaluated only: ER\n"
     ]
    },
    {
     "name": "stderr",
     "output_type": "stream",
     "text": [
      "[I 2023-12-21 16:27:59,412] Trial 1 finished with value: 64.01 and parameters: {'lambda_l1': 266.5069647799111, 'lambda_l2': 212.12445975767858, 'learning_rate': 0.15633602284815595, 'num_leaves': 342, 'feature_fraction': 0.9454451627070637, 'min_data_in_leaf': 1681}. Best is trial 1 with value: 64.01.\n"
     ]
    },
    {
     "name": "stdout",
     "output_type": "stream",
     "text": [
      "**************** tweedie ****************\n",
      "Training until validation scores don't improve for 81 rounds\n",
      "[100]\tvalid_0's ER: 65.89\n"
     ]
    },
    {
     "name": "stderr",
     "output_type": "stream",
     "text": [
      "[I 2023-12-21 16:28:00,732] Trial 2 finished with value: 65.73 and parameters: {'lambda_l1': 27.168053492454103, 'lambda_l2': 550.4454708518747, 'learning_rate': 0.15759732164145304, 'num_leaves': 500, 'feature_fraction': 0.34817823857208313, 'min_data_in_leaf': 7969}. Best is trial 1 with value: 64.01.\n"
     ]
    },
    {
     "name": "stdout",
     "output_type": "stream",
     "text": [
      "[200]\tvalid_0's ER: 66.02\n",
      "Early stopping, best iteration is:\n",
      "[137]\tvalid_0's ER: 65.73\n",
      "Evaluated only: ER\n",
      "**************** tweedie ****************\n",
      "Training until validation scores don't improve for 116 rounds\n",
      "[100]\tvalid_0's ER: 69.55\n",
      "[200]\tvalid_0's ER: 68.47\n",
      "[300]\tvalid_0's ER: 68.45\n"
     ]
    },
    {
     "name": "stderr",
     "output_type": "stream",
     "text": [
      "[I 2023-12-21 16:28:02,732] Trial 3 finished with value: 68.45 and parameters: {'lambda_l1': 434.0905255729253, 'lambda_l2': 476.5764824706007, 'learning_rate': 0.07551629725542104, 'num_leaves': 665, 'feature_fraction': 0.4831143787502601, 'min_data_in_leaf': 7433}. Best is trial 1 with value: 64.01.\n"
     ]
    },
    {
     "name": "stdout",
     "output_type": "stream",
     "text": [
      "Early stopping, best iteration is:\n",
      "[249]\tvalid_0's ER: 68.45\n",
      "Evaluated only: ER\n",
      "**************** tweedie ****************\n",
      "Training until validation scores don't improve for 71 rounds\n"
     ]
    },
    {
     "name": "stderr",
     "output_type": "stream",
     "text": [
      "[I 2023-12-21 16:28:03,773] Trial 4 finished with value: 74.0 and parameters: {'lambda_l1': 934.7205500471074, 'lambda_l2': 727.5462888269748, 'learning_rate': 0.2309729410816287, 'num_leaves': 308, 'feature_fraction': 0.9706306850727817, 'min_data_in_leaf': 6424}. Best is trial 1 with value: 64.01.\n"
     ]
    },
    {
     "name": "stdout",
     "output_type": "stream",
     "text": [
      "[100]\tvalid_0's ER: 74\n",
      "Early stopping, best iteration is:\n",
      "[49]\tvalid_0's ER: 74\n",
      "Evaluated only: ER\n",
      "**************** tweedie ****************\n",
      "Training until validation scores don't improve for 84 rounds\n",
      "[100]\tvalid_0's ER: 65.3\n"
     ]
    },
    {
     "name": "stderr",
     "output_type": "stream",
     "text": [
      "[I 2023-12-21 16:28:05,118] Trial 5 finished with value: 65.29 and parameters: {'lambda_l1': 450.6033818762001, 'lambda_l2': 167.00428484386453, 'learning_rate': 0.1464174314211083, 'num_leaves': 743, 'feature_fraction': 0.46148337275729423, 'min_data_in_leaf': 903}. Best is trial 1 with value: 64.01.\n"
     ]
    },
    {
     "name": "stdout",
     "output_type": "stream",
     "text": [
      "Early stopping, best iteration is:\n",
      "[115]\tvalid_0's ER: 65.29\n",
      "Evaluated only: ER\n",
      "**************** tweedie ****************\n",
      "Training until validation scores don't improve for 75 rounds\n",
      "[100]\tvalid_0's ER: 74.62\n",
      "Early stopping, best iteration is:\n",
      "[73]\tvalid_0's ER: 74.62\n",
      "Evaluated only: ER\n"
     ]
    },
    {
     "name": "stderr",
     "output_type": "stream",
     "text": [
      "[I 2023-12-21 16:28:06,146] Trial 6 finished with value: 74.62 and parameters: {'lambda_l1': 930.1857626003458, 'lambda_l2': 749.6530106095546, 'learning_rate': 0.199782165429349, 'num_leaves': 990, 'feature_fraction': 0.4837265899496246, 'min_data_in_leaf': 7002}. Best is trial 1 with value: 64.01.\n"
     ]
    },
    {
     "name": "stdout",
     "output_type": "stream",
     "text": [
      "**************** tweedie ****************\n",
      "Training until validation scores don't improve for 70 rounds\n"
     ]
    },
    {
     "name": "stderr",
     "output_type": "stream",
     "text": [
      "[I 2023-12-21 16:28:07,105] Trial 7 finished with value: 70.95 and parameters: {'lambda_l1': 832.9106687428837, 'lambda_l2': 337.74007083691725, 'learning_rate': 0.2437351641755893, 'num_leaves': 499, 'feature_fraction': 0.740885058656932, 'min_data_in_leaf': 1523}. Best is trial 1 with value: 64.01.\n"
     ]
    },
    {
     "name": "stdout",
     "output_type": "stream",
     "text": [
      "Early stopping, best iteration is:\n",
      "[29]\tvalid_0's ER: 70.95\n",
      "Evaluated only: ER\n",
      "**************** tweedie ****************\n",
      "Training until validation scores don't improve for 89 rounds\n",
      "[100]\tvalid_0's ER: 70.33\n",
      "[200]\tvalid_0's ER: 70.28\n"
     ]
    },
    {
     "name": "stderr",
     "output_type": "stream",
     "text": [
      "[I 2023-12-21 16:28:08,552] Trial 8 finished with value: 70.28 and parameters: {'lambda_l1': 683.443145151396, 'lambda_l2': 641.374681425729, 'learning_rate': 0.1253018043212392, 'num_leaves': 876, 'feature_fraction': 0.37915258434602706, 'min_data_in_leaf': 4258}. Best is trial 1 with value: 64.01.\n"
     ]
    },
    {
     "name": "stdout",
     "output_type": "stream",
     "text": [
      "Early stopping, best iteration is:\n",
      "[188]\tvalid_0's ER: 70.28\n",
      "Evaluated only: ER\n",
      "**************** tweedie ****************\n",
      "Training until validation scores don't improve for 183 rounds\n",
      "[100]\tvalid_0's ER: 77.98\n",
      "[200]\tvalid_0's ER: 71.25\n",
      "[300]\tvalid_0's ER: 70.22\n",
      "[400]\tvalid_0's ER: 70.2\n",
      "[500]\tvalid_0's ER: 70.19\n"
     ]
    },
    {
     "name": "stderr",
     "output_type": "stream",
     "text": [
      "[I 2023-12-21 16:28:11,646] Trial 9 finished with value: 70.19 and parameters: {'lambda_l1': 619.1247429760076, 'lambda_l2': 529.9349608544771, 'learning_rate': 0.037452856647597794, 'num_leaves': 539, 'feature_fraction': 0.45525430303376146, 'min_data_in_leaf': 5497}. Best is trial 1 with value: 64.01.\n"
     ]
    },
    {
     "name": "stdout",
     "output_type": "stream",
     "text": [
      "[600]\tvalid_0's ER: 70.19\n",
      "Early stopping, best iteration is:\n",
      "[436]\tvalid_0's ER: 70.19\n",
      "Evaluated only: ER\n",
      "# Experimentos: 10\n",
      "Mejor experimento: {'lambda_l1': 266.5069647799111, 'lambda_l2': 212.12445975767858, 'learning_rate': 0.15633602284815595, 'num_leaves': 342, 'feature_fraction': 0.9454451627070637, 'min_data_in_leaf': 1681}\n",
      "=========================================== Cluster 26 ===========================================\n",
      "Periodos entrenar: [201701 201702 201703 201704 201705 201706 201707 201708 201709 201710\n",
      " 201711 201712 201801 201802 201803 201804 201805 201806 201807 201808\n",
      " 201809 201810 201811 201812 201901 201902 201903 201904 201905]\n",
      "Periodos validar: [201907]\n",
      "product_id a validar: 59160\n"
     ]
    },
    {
     "name": "stderr",
     "output_type": "stream",
     "text": [
      "[I 2023-12-21 16:28:46,714] A new study created in memory with name: no-name-cd5a2354-982a-40fe-ac33-6160ba49280f\n"
     ]
    },
    {
     "name": "stdout",
     "output_type": "stream",
     "text": [
      "X_train: (1237711, 120)\n",
      "y_train: (1237711,)\n",
      "\n",
      "X_validate: (59160, 120)\n",
      "y_validate: (59160,)\n",
      "Optimizacion Bayesiana\n",
      "**************** tweedie ****************\n",
      "Training until validation scores don't improve for 71 rounds\n",
      "[100]\tvalid_0's ER: 92.47\n",
      "Early stopping, best iteration is:\n",
      "[37]\tvalid_0's ER: 92.31\n",
      "Evaluated only: ER\n"
     ]
    },
    {
     "name": "stderr",
     "output_type": "stream",
     "text": [
      "[I 2023-12-21 16:29:24,227] Trial 0 finished with value: 92.31 and parameters: {'lambda_l1': 742.9782394441436, 'lambda_l2': 338.3073757818811, 'learning_rate': 0.23251570029334376, 'num_leaves': 860, 'feature_fraction': 0.7697529705497321, 'min_data_in_leaf': 434}. Best is trial 0 with value: 92.31.\n"
     ]
    },
    {
     "name": "stdout",
     "output_type": "stream",
     "text": [
      "**************** tweedie ****************\n",
      "Training until validation scores don't improve for 113 rounds\n",
      "[100]\tvalid_0's ER: 91.64\n",
      "[200]\tvalid_0's ER: 91.14\n",
      "[300]\tvalid_0's ER: 91.03\n",
      "[400]\tvalid_0's ER: 91\n",
      "[500]\tvalid_0's ER: 90.93\n",
      "Early stopping, best iteration is:\n",
      "[442]\tvalid_0's ER: 90.92\n",
      "Evaluated only: ER\n"
     ]
    },
    {
     "name": "stderr",
     "output_type": "stream",
     "text": [
      "[I 2023-12-21 16:30:12,122] Trial 1 finished with value: 90.95 and parameters: {'lambda_l1': 358.7358079811407, 'lambda_l2': 929.137892048729, 'learning_rate': 0.07892767169563243, 'num_leaves': 722, 'feature_fraction': 0.2228243207647986, 'min_data_in_leaf': 6419}. Best is trial 1 with value: 90.95.\n"
     ]
    },
    {
     "name": "stdout",
     "output_type": "stream",
     "text": [
      "**************** tweedie ****************\n",
      "Training until validation scores don't improve for 82 rounds\n",
      "[100]\tvalid_0's ER: 89.67\n",
      "[200]\tvalid_0's ER: 88.79\n",
      "[300]\tvalid_0's ER: 88.33\n",
      "[400]\tvalid_0's ER: 88.19\n",
      "Early stopping, best iteration is:\n",
      "[336]\tvalid_0's ER: 88.18\n",
      "Evaluated only: ER\n"
     ]
    },
    {
     "name": "stderr",
     "output_type": "stream",
     "text": [
      "[I 2023-12-21 16:31:36,245] Trial 2 finished with value: 88.18 and parameters: {'lambda_l1': 124.38748707547198, 'lambda_l2': 40.70920942016654, 'learning_rate': 0.15480593497755238, 'num_leaves': 989, 'feature_fraction': 0.7442012099165825, 'min_data_in_leaf': 6526}. Best is trial 2 with value: 88.18.\n"
     ]
    },
    {
     "name": "stdout",
     "output_type": "stream",
     "text": [
      "**************** tweedie ****************\n",
      "Training until validation scores don't improve for 106 rounds\n",
      "[100]\tvalid_0's ER: 90.87\n",
      "[200]\tvalid_0's ER: 89.23\n",
      "[300]\tvalid_0's ER: 88.67\n",
      "[400]\tvalid_0's ER: 88.2\n",
      "[500]\tvalid_0's ER: 87.95\n",
      "[600]\tvalid_0's ER: 87.77\n",
      "[700]\tvalid_0's ER: 87.65\n",
      "[800]\tvalid_0's ER: 87.57\n",
      "[900]\tvalid_0's ER: 87.5\n",
      "Early stopping, best iteration is:\n",
      "[871]\tvalid_0's ER: 87.44\n",
      "Evaluated only: ER\n"
     ]
    },
    {
     "name": "stderr",
     "output_type": "stream",
     "text": [
      "[I 2023-12-21 16:35:41,035] Trial 3 finished with value: 87.44 and parameters: {'lambda_l1': 88.85757366168522, 'lambda_l2': 287.3128933659789, 'learning_rate': 0.0885191349813039, 'num_leaves': 618, 'feature_fraction': 0.8372886695073654, 'min_data_in_leaf': 4567}. Best is trial 3 with value: 87.44.\n"
     ]
    },
    {
     "name": "stdout",
     "output_type": "stream",
     "text": [
      "**************** tweedie ****************\n",
      "Training until validation scores don't improve for 83 rounds\n",
      "[100]\tvalid_0's ER: 91.67\n",
      "Early stopping, best iteration is:\n",
      "[90]\tvalid_0's ER: 91.52\n",
      "Evaluated only: ER\n"
     ]
    },
    {
     "name": "stderr",
     "output_type": "stream",
     "text": [
      "[I 2023-12-21 16:36:20,973] Trial 4 finished with value: 91.52 and parameters: {'lambda_l1': 644.4822806897655, 'lambda_l2': 379.18226427682424, 'learning_rate': 0.14961356007371895, 'num_leaves': 132, 'feature_fraction': 0.628345874741514, 'min_data_in_leaf': 904}. Best is trial 3 with value: 87.44.\n"
     ]
    },
    {
     "name": "stdout",
     "output_type": "stream",
     "text": [
      "**************** tweedie ****************\n",
      "Training until validation scores don't improve for 271 rounds\n",
      "[100]\tvalid_0's ER: 100.9\n",
      "[200]\tvalid_0's ER: 93.85\n",
      "[300]\tvalid_0's ER: 92.8\n",
      "[400]\tvalid_0's ER: 92.46\n",
      "[500]\tvalid_0's ER: 92.15\n",
      "[600]\tvalid_0's ER: 92.19\n",
      "[700]\tvalid_0's ER: 92.11\n",
      "[800]\tvalid_0's ER: 92.08\n",
      "[900]\tvalid_0's ER: 91.98\n",
      "[1000]\tvalid_0's ER: 92.06\n",
      "[1100]\tvalid_0's ER: 92.09\n",
      "Early stopping, best iteration is:\n",
      "[901]\tvalid_0's ER: 91.95\n",
      "Evaluated only: ER\n"
     ]
    },
    {
     "name": "stderr",
     "output_type": "stream",
     "text": [
      "[I 2023-12-21 16:38:18,391] Trial 5 finished with value: 91.95 and parameters: {'lambda_l1': 955.1772557499821, 'lambda_l2': 707.991291317026, 'learning_rate': 0.022525991267928834, 'num_leaves': 556, 'feature_fraction': 0.22776625527006136, 'min_data_in_leaf': 1809}. Best is trial 3 with value: 87.44.\n"
     ]
    },
    {
     "name": "stdout",
     "output_type": "stream",
     "text": [
      "**************** tweedie ****************\n",
      "Training until validation scores don't improve for 100 rounds\n",
      "[100]\tvalid_0's ER: 91.23\n",
      "[200]\tvalid_0's ER: 91.02\n",
      "Early stopping, best iteration is:\n",
      "[135]\tvalid_0's ER: 90.87\n",
      "Evaluated only: ER\n"
     ]
    },
    {
     "name": "stderr",
     "output_type": "stream",
     "text": [
      "[I 2023-12-21 16:39:20,882] Trial 6 finished with value: 90.87 and parameters: {'lambda_l1': 515.4825002216696, 'lambda_l2': 505.7342417840861, 'learning_rate': 0.09925386421868254, 'num_leaves': 178, 'feature_fraction': 0.5421920095460007, 'min_data_in_leaf': 332}. Best is trial 3 with value: 87.44.\n"
     ]
    },
    {
     "name": "stdout",
     "output_type": "stream",
     "text": [
      "**************** tweedie ****************\n",
      "Training until validation scores don't improve for 70 rounds\n",
      "[100]\tvalid_0's ER: 91.66\n",
      "[200]\tvalid_0's ER: 91.46\n",
      "Early stopping, best iteration is:\n",
      "[139]\tvalid_0's ER: 91.45\n",
      "Evaluated only: ER\n"
     ]
    },
    {
     "name": "stderr",
     "output_type": "stream",
     "text": [
      "[I 2023-12-21 16:40:04,467] Trial 7 finished with value: 91.45 and parameters: {'lambda_l1': 228.28142968676212, 'lambda_l2': 425.792570535391, 'learning_rate': 0.24933534442725402, 'num_leaves': 678, 'feature_fraction': 0.9942301057095677, 'min_data_in_leaf': 4058}. Best is trial 3 with value: 87.44.\n"
     ]
    },
    {
     "name": "stdout",
     "output_type": "stream",
     "text": [
      "**************** tweedie ****************\n",
      "Training until validation scores don't improve for 81 rounds\n",
      "[100]\tvalid_0's ER: 92.29\n",
      "[200]\tvalid_0's ER: 92.15\n",
      "Early stopping, best iteration is:\n",
      "[188]\tvalid_0's ER: 92.1\n",
      "Evaluated only: ER\n"
     ]
    },
    {
     "name": "stderr",
     "output_type": "stream",
     "text": [
      "[I 2023-12-21 16:40:32,470] Trial 8 finished with value: 92.15 and parameters: {'lambda_l1': 460.79766617292137, 'lambda_l2': 964.9266452583648, 'learning_rate': 0.15742319344225156, 'num_leaves': 630, 'feature_fraction': 0.26538700132911625, 'min_data_in_leaf': 5855}. Best is trial 3 with value: 87.44.\n"
     ]
    },
    {
     "name": "stdout",
     "output_type": "stream",
     "text": [
      "**************** tweedie ****************\n",
      "Training until validation scores don't improve for 101 rounds\n",
      "[100]\tvalid_0's ER: 93.91\n",
      "[200]\tvalid_0's ER: 93.66\n",
      "Early stopping, best iteration is:\n",
      "[175]\tvalid_0's ER: 93.5\n",
      "Evaluated only: ER\n"
     ]
    },
    {
     "name": "stderr",
     "output_type": "stream",
     "text": [
      "[I 2023-12-21 16:41:05,133] Trial 9 finished with value: 93.5 and parameters: {'lambda_l1': 875.5310139019135, 'lambda_l2': 703.9276357927935, 'learning_rate': 0.09795097072236478, 'num_leaves': 325, 'feature_fraction': 0.3629371088348709, 'min_data_in_leaf': 4010}. Best is trial 3 with value: 87.44.\n"
     ]
    },
    {
     "name": "stdout",
     "output_type": "stream",
     "text": [
      "# Experimentos: 10\n",
      "Mejor experimento: {'lambda_l1': 88.85757366168522, 'lambda_l2': 287.3128933659789, 'learning_rate': 0.0885191349813039, 'num_leaves': 618, 'feature_fraction': 0.8372886695073654, 'min_data_in_leaf': 4567}\n",
      "=========================================== Cluster 27 ===========================================\n"
     ]
    },
    {
     "name": "stderr",
     "output_type": "stream",
     "text": [
      "[I 2023-12-21 16:41:07,270] A new study created in memory with name: no-name-754456cf-2670-4a13-ad2f-cd0568efb9a1\n"
     ]
    },
    {
     "name": "stdout",
     "output_type": "stream",
     "text": [
      "Periodos entrenar: [201701 201702 201703 201704 201705 201706 201707 201708 201709 201710\n",
      " 201711 201712 201801 201802 201803 201804 201805 201806 201807 201808\n",
      " 201809 201810 201811 201812 201901 201902 201903 201904 201905]\n",
      "Periodos validar: [201907]\n",
      "product_id a validar: 2900\n",
      "X_train: (77285, 120)\n",
      "y_train: (77285,)\n",
      "\n",
      "X_validate: (2900, 120)\n",
      "y_validate: (2900,)\n",
      "Optimizacion Bayesiana\n",
      "**************** tweedie ****************\n",
      "Training until validation scores don't improve for 77 rounds\n",
      "[100]\tvalid_0's ER: 65.99\n",
      "[200]\tvalid_0's ER: 65.9\n"
     ]
    },
    {
     "name": "stderr",
     "output_type": "stream",
     "text": [
      "[I 2023-12-21 16:41:09,322] Trial 0 finished with value: 65.87 and parameters: {'lambda_l1': 144.37501361250116, 'lambda_l2': 969.5230427838859, 'learning_rate': 0.1838698667748163, 'num_leaves': 849, 'feature_fraction': 0.28068388604766076, 'min_data_in_leaf': 3186}. Best is trial 0 with value: 65.87.\n"
     ]
    },
    {
     "name": "stdout",
     "output_type": "stream",
     "text": [
      "[300]\tvalid_0's ER: 65.87\n",
      "Early stopping, best iteration is:\n",
      "[250]\tvalid_0's ER: 65.87\n",
      "Evaluated only: ER\n",
      "**************** tweedie ****************\n",
      "Training until validation scores don't improve for 82 rounds\n",
      "[100]\tvalid_0's ER: 74.29\n"
     ]
    },
    {
     "name": "stderr",
     "output_type": "stream",
     "text": [
      "[I 2023-12-21 16:41:10,896] Trial 1 finished with value: 74.29 and parameters: {'lambda_l1': 766.49615063826, 'lambda_l2': 721.0842633916495, 'learning_rate': 0.15589300489997776, 'num_leaves': 12, 'feature_fraction': 0.5252490384448143, 'min_data_in_leaf': 5635}. Best is trial 0 with value: 65.87.\n"
     ]
    },
    {
     "name": "stdout",
     "output_type": "stream",
     "text": [
      "Early stopping, best iteration is:\n",
      "[88]\tvalid_0's ER: 74.29\n",
      "Evaluated only: ER\n",
      "**************** tweedie ****************\n",
      "Training until validation scores don't improve for 109 rounds\n",
      "[100]\tvalid_0's ER: 72.69\n",
      "[200]\tvalid_0's ER: 71.75\n",
      "Early stopping, best iteration is:\n",
      "[120]\tvalid_0's ER: 71.75\n",
      "Evaluated only: ER\n"
     ]
    },
    {
     "name": "stderr",
     "output_type": "stream",
     "text": [
      "[I 2023-12-21 16:41:13,820] Trial 2 finished with value: 71.75 and parameters: {'lambda_l1': 548.3166577839925, 'lambda_l2': 652.5799052644536, 'learning_rate': 0.08465021038199325, 'num_leaves': 43, 'feature_fraction': 0.9440488352061045, 'min_data_in_leaf': 1003}. Best is trial 0 with value: 65.87.\n"
     ]
    },
    {
     "name": "stdout",
     "output_type": "stream",
     "text": [
      "**************** tweedie ****************\n",
      "Training until validation scores don't improve for 186 rounds\n",
      "[100]\tvalid_0's ER: 77.83\n",
      "[200]\tvalid_0's ER: 67.38\n",
      "[300]\tvalid_0's ER: 65.93\n",
      "[400]\tvalid_0's ER: 65.49\n",
      "[500]\tvalid_0's ER: 65.23\n",
      "[600]\tvalid_0's ER: 65.22\n"
     ]
    },
    {
     "name": "stderr",
     "output_type": "stream",
     "text": [
      "[I 2023-12-21 16:41:19,937] Trial 3 finished with value: 65.22 and parameters: {'lambda_l1': 133.33008004074165, 'lambda_l2': 524.0254779902112, 'learning_rate': 0.03651743283136527, 'num_leaves': 980, 'feature_fraction': 0.5309739909624774, 'min_data_in_leaf': 5058}. Best is trial 3 with value: 65.22.\n"
     ]
    },
    {
     "name": "stdout",
     "output_type": "stream",
     "text": [
      "[700]\tvalid_0's ER: 65.22\n",
      "Early stopping, best iteration is:\n",
      "[531]\tvalid_0's ER: 65.22\n",
      "Evaluated only: ER\n",
      "**************** tweedie ****************\n",
      "Training until validation scores don't improve for 123 rounds\n",
      "[100]\tvalid_0's ER: 74.84\n",
      "[200]\tvalid_0's ER: 73.75\n",
      "[300]\tvalid_0's ER: 73.69\n",
      "[400]\tvalid_0's ER: 73.68\n"
     ]
    },
    {
     "name": "stderr",
     "output_type": "stream",
     "text": [
      "[I 2023-12-21 16:41:23,696] Trial 4 finished with value: 73.68 and parameters: {'lambda_l1': 831.9429026879159, 'lambda_l2': 366.40050405298655, 'learning_rate': 0.06794353317618576, 'num_leaves': 1004, 'feature_fraction': 0.3857168424435322, 'min_data_in_leaf': 152}. Best is trial 3 with value: 65.22.\n"
     ]
    },
    {
     "name": "stdout",
     "output_type": "stream",
     "text": [
      "[500]\tvalid_0's ER: 73.68\n",
      "Early stopping, best iteration is:\n",
      "[391]\tvalid_0's ER: 73.68\n",
      "Evaluated only: ER\n",
      "**************** tweedie ****************\n",
      "Training until validation scores don't improve for 112 rounds\n",
      "[100]\tvalid_0's ER: 73.09\n",
      "[200]\tvalid_0's ER: 72.96\n"
     ]
    },
    {
     "name": "stderr",
     "output_type": "stream",
     "text": [
      "[I 2023-12-21 16:41:27,039] Trial 5 finished with value: 72.96 and parameters: {'lambda_l1': 751.2218768923182, 'lambda_l2': 468.77494386999854, 'learning_rate': 0.07988783067185004, 'num_leaves': 86, 'feature_fraction': 0.8248770931008262, 'min_data_in_leaf': 441}. Best is trial 3 with value: 65.22.\n"
     ]
    },
    {
     "name": "stdout",
     "output_type": "stream",
     "text": [
      "Early stopping, best iteration is:\n",
      "[138]\tvalid_0's ER: 72.96\n",
      "Evaluated only: ER\n",
      "**************** tweedie ****************\n",
      "Training until validation scores don't improve for 69 rounds\n"
     ]
    },
    {
     "name": "stderr",
     "output_type": "stream",
     "text": [
      "[I 2023-12-21 16:41:28,485] Trial 6 finished with value: 74.13 and parameters: {'lambda_l1': 722.3169447010471, 'lambda_l2': 816.7991041080714, 'learning_rate': 0.25587064649304986, 'num_leaves': 466, 'feature_fraction': 0.7969188501282454, 'min_data_in_leaf': 7928}. Best is trial 3 with value: 65.22.\n"
     ]
    },
    {
     "name": "stdout",
     "output_type": "stream",
     "text": [
      "[100]\tvalid_0's ER: 74.13\n",
      "Early stopping, best iteration is:\n",
      "[46]\tvalid_0's ER: 74.13\n",
      "Evaluated only: ER\n",
      "**************** tweedie ****************\n",
      "Training until validation scores don't improve for 66 rounds\n"
     ]
    },
    {
     "name": "stderr",
     "output_type": "stream",
     "text": [
      "[I 2023-12-21 16:41:29,783] Trial 7 finished with value: 71.18 and parameters: {'lambda_l1': 709.8436490712832, 'lambda_l2': 162.52816953202765, 'learning_rate': 0.29557482664275936, 'num_leaves': 589, 'feature_fraction': 0.9209895664805394, 'min_data_in_leaf': 35}. Best is trial 3 with value: 65.22.\n"
     ]
    },
    {
     "name": "stdout",
     "output_type": "stream",
     "text": [
      "Early stopping, best iteration is:\n",
      "[22]\tvalid_0's ER: 71.18\n",
      "Evaluated only: ER\n",
      "**************** tweedie ****************\n",
      "Training until validation scores don't improve for 72 rounds\n",
      "[100]\tvalid_0's ER: 68.75\n"
     ]
    },
    {
     "name": "stderr",
     "output_type": "stream",
     "text": [
      "[I 2023-12-21 16:41:31,182] Trial 8 finished with value: 68.75 and parameters: {'lambda_l1': 405.2653562099954, 'lambda_l2': 361.89218147187995, 'learning_rate': 0.2189864409897129, 'num_leaves': 590, 'feature_fraction': 0.461188842758834, 'min_data_in_leaf': 5023}. Best is trial 3 with value: 65.22.\n"
     ]
    },
    {
     "name": "stdout",
     "output_type": "stream",
     "text": [
      "Early stopping, best iteration is:\n",
      "[73]\tvalid_0's ER: 68.75\n",
      "Evaluated only: ER\n",
      "**************** tweedie ****************\n",
      "Training until validation scores don't improve for 74 rounds\n",
      "[100]\tvalid_0's ER: 75.44\n"
     ]
    },
    {
     "name": "stderr",
     "output_type": "stream",
     "text": [
      "[I 2023-12-21 16:41:32,683] Trial 9 finished with value: 75.43 and parameters: {'lambda_l1': 926.5865197118472, 'lambda_l2': 931.0370536729204, 'learning_rate': 0.20552691017807556, 'num_leaves': 290, 'feature_fraction': 0.31043886929266984, 'min_data_in_leaf': 2787}. Best is trial 3 with value: 65.22.\n"
     ]
    },
    {
     "name": "stdout",
     "output_type": "stream",
     "text": [
      "[200]\tvalid_0's ER: 75.43\n",
      "Early stopping, best iteration is:\n",
      "[129]\tvalid_0's ER: 75.43\n",
      "Evaluated only: ER\n",
      "# Experimentos: 10\n",
      "Mejor experimento: {'lambda_l1': 133.33008004074165, 'lambda_l2': 524.0254779902112, 'learning_rate': 0.03651743283136527, 'num_leaves': 980, 'feature_fraction': 0.5309739909624774, 'min_data_in_leaf': 5058}\n",
      "=========================================== Cluster 28 ===========================================\n"
     ]
    },
    {
     "name": "stderr",
     "output_type": "stream",
     "text": [
      "[I 2023-12-21 16:41:33,660] A new study created in memory with name: no-name-331ba860-0a5f-4e35-bfc3-e98764344ae5\n"
     ]
    },
    {
     "name": "stdout",
     "output_type": "stream",
     "text": [
      "Periodos entrenar: [201803 201804 201805 201806 201807 201808 201809 201810 201811 201812\n",
      " 201901 201902 201903 201904 201905]\n",
      "Periodos validar: [201907]\n",
      "product_id a validar: 2900\n",
      "X_train: (24870, 120)\n",
      "y_train: (24870,)\n",
      "\n",
      "X_validate: (2900, 120)\n",
      "y_validate: (2900,)\n",
      "Optimizacion Bayesiana\n",
      "**************** tweedie ****************\n",
      "Training until validation scores don't improve for 383 rounds\n",
      "[100]\tvalid_0's ER: 132.22\n",
      "[200]\tvalid_0's ER: 122.18\n",
      "[300]\tvalid_0's ER: 116.3\n",
      "[400]\tvalid_0's ER: 112.95\n",
      "[500]\tvalid_0's ER: 112.36\n",
      "[600]\tvalid_0's ER: 111.78\n",
      "[700]\tvalid_0's ER: 111.65\n",
      "[800]\tvalid_0's ER: 111.68\n",
      "[900]\tvalid_0's ER: 111.65\n",
      "[1000]\tvalid_0's ER: 111.69\n"
     ]
    },
    {
     "name": "stderr",
     "output_type": "stream",
     "text": [
      "[I 2023-12-21 16:41:38,290] Trial 0 finished with value: 111.63 and parameters: {'lambda_l1': 732.1515984012732, 'lambda_l2': 959.203120778627, 'learning_rate': 0.014974137921723031, 'num_leaves': 672, 'feature_fraction': 0.6243831138213416, 'min_data_in_leaf': 1684}. Best is trial 0 with value: 111.63.\n"
     ]
    },
    {
     "name": "stdout",
     "output_type": "stream",
     "text": [
      "Early stopping, best iteration is:\n",
      "[681]\tvalid_0's ER: 111.63\n",
      "Evaluated only: ER\n",
      "**************** tweedie ****************\n",
      "Training until validation scores don't improve for 67 rounds\n"
     ]
    },
    {
     "name": "stderr",
     "output_type": "stream",
     "text": [
      "[I 2023-12-21 16:41:38,826] Trial 1 finished with value: 122.36 and parameters: {'lambda_l1': 673.5527103836845, 'lambda_l2': 982.6681974693356, 'learning_rate': 0.28825696998061223, 'num_leaves': 56, 'feature_fraction': 0.5734937123146802, 'min_data_in_leaf': 7267}. Best is trial 0 with value: 111.63.\n"
     ]
    },
    {
     "name": "stdout",
     "output_type": "stream",
     "text": [
      "[100]\tvalid_0's ER: 122.75\n",
      "Early stopping, best iteration is:\n",
      "[39]\tvalid_0's ER: 122.36\n",
      "Evaluated only: ER\n",
      "**************** tweedie ****************\n",
      "Training until validation scores don't improve for 77 rounds\n"
     ]
    },
    {
     "name": "stderr",
     "output_type": "stream",
     "text": [
      "[I 2023-12-21 16:41:39,560] Trial 2 finished with value: 100.58 and parameters: {'lambda_l1': 155.88488999056094, 'lambda_l2': 295.92517177621846, 'learning_rate': 0.1807926677580687, 'num_leaves': 122, 'feature_fraction': 0.607684369546533, 'min_data_in_leaf': 891}. Best is trial 2 with value: 100.58.\n"
     ]
    },
    {
     "name": "stdout",
     "output_type": "stream",
     "text": [
      "[100]\tvalid_0's ER: 100.78\n",
      "Early stopping, best iteration is:\n",
      "[54]\tvalid_0's ER: 100.58\n",
      "Evaluated only: ER\n",
      "**************** tweedie ****************\n",
      "Training until validation scores don't improve for 90 rounds\n",
      "[100]\tvalid_0's ER: 97.63\n",
      "[200]\tvalid_0's ER: 94.64\n",
      "[300]\tvalid_0's ER: 92.6\n",
      "[400]\tvalid_0's ER: 91.66\n",
      "[500]\tvalid_0's ER: 91.55\n",
      "[600]\tvalid_0's ER: 91.13\n"
     ]
    },
    {
     "name": "stderr",
     "output_type": "stream",
     "text": [
      "[I 2023-12-21 16:41:44,043] Trial 3 finished with value: 91.13 and parameters: {'lambda_l1': 39.23813901798645, 'lambda_l2': 786.3023896051942, 'learning_rate': 0.12198103527388582, 'num_leaves': 753, 'feature_fraction': 0.6223634166551322, 'min_data_in_leaf': 779}. Best is trial 3 with value: 91.13.\n"
     ]
    },
    {
     "name": "stdout",
     "output_type": "stream",
     "text": [
      "Early stopping, best iteration is:\n",
      "[590]\tvalid_0's ER: 91.13\n",
      "Evaluated only: ER\n",
      "**************** tweedie ****************\n",
      "Training until validation scores don't improve for 75 rounds\n"
     ]
    },
    {
     "name": "stderr",
     "output_type": "stream",
     "text": [
      "[I 2023-12-21 16:41:44,677] Trial 4 finished with value: 110.97 and parameters: {'lambda_l1': 589.8227419500789, 'lambda_l2': 960.1041006790285, 'learning_rate': 0.19837873147836346, 'num_leaves': 226, 'feature_fraction': 0.429155040216064, 'min_data_in_leaf': 1964}. Best is trial 3 with value: 91.13.\n"
     ]
    },
    {
     "name": "stdout",
     "output_type": "stream",
     "text": [
      "[100]\tvalid_0's ER: 111.28\n",
      "Early stopping, best iteration is:\n",
      "[68]\tvalid_0's ER: 110.97\n",
      "Evaluated only: ER\n",
      "**************** tweedie ****************\n",
      "Training until validation scores don't improve for 239 rounds\n",
      "[100]\tvalid_0's ER: 123.45\n",
      "[200]\tvalid_0's ER: 118.79\n",
      "[300]\tvalid_0's ER: 118.46\n",
      "[400]\tvalid_0's ER: 118.97\n"
     ]
    },
    {
     "name": "stderr",
     "output_type": "stream",
     "text": [
      "[I 2023-12-21 16:41:46,779] Trial 5 finished with value: 118.4 and parameters: {'lambda_l1': 421.71358155246566, 'lambda_l2': 407.6811912777718, 'learning_rate': 0.026437882771059976, 'num_leaves': 992, 'feature_fraction': 0.7382471422235568, 'min_data_in_leaf': 6953}. Best is trial 3 with value: 91.13.\n"
     ]
    },
    {
     "name": "stdout",
     "output_type": "stream",
     "text": [
      "[500]\tvalid_0's ER: 119.39\n",
      "Early stopping, best iteration is:\n",
      "[271]\tvalid_0's ER: 118.4\n",
      "Evaluated only: ER\n",
      "**************** tweedie ****************\n",
      "Training until validation scores don't improve for 101 rounds\n",
      "[100]\tvalid_0's ER: 113.7\n"
     ]
    },
    {
     "name": "stderr",
     "output_type": "stream",
     "text": [
      "[I 2023-12-21 16:41:47,554] Trial 6 finished with value: 111.87 and parameters: {'lambda_l1': 188.98796263493367, 'lambda_l2': 35.55078740287787, 'learning_rate': 0.09637116730730805, 'num_leaves': 607, 'feature_fraction': 0.5769939191618325, 'min_data_in_leaf': 5144}. Best is trial 3 with value: 91.13.\n"
     ]
    },
    {
     "name": "stdout",
     "output_type": "stream",
     "text": [
      "Early stopping, best iteration is:\n",
      "[57]\tvalid_0's ER: 111.87\n",
      "Evaluated only: ER\n",
      "**************** tweedie ****************\n",
      "Training until validation scores don't improve for 69 rounds\n"
     ]
    },
    {
     "name": "stderr",
     "output_type": "stream",
     "text": [
      "[I 2023-12-21 16:41:48,073] Trial 7 finished with value: 117.81 and parameters: {'lambda_l1': 927.831691446367, 'lambda_l2': 785.4967606781163, 'learning_rate': 0.25607517404638175, 'num_leaves': 592, 'feature_fraction': 0.41139337908304896, 'min_data_in_leaf': 3185}. Best is trial 3 with value: 91.13.\n"
     ]
    },
    {
     "name": "stdout",
     "output_type": "stream",
     "text": [
      "[100]\tvalid_0's ER: 118.16\n",
      "Early stopping, best iteration is:\n",
      "[38]\tvalid_0's ER: 117.81\n",
      "Evaluated only: ER\n",
      "**************** tweedie ****************\n",
      "Training until validation scores don't improve for 74 rounds\n"
     ]
    },
    {
     "name": "stderr",
     "output_type": "stream",
     "text": [
      "[I 2023-12-21 16:41:48,655] Trial 8 finished with value: 117.95 and parameters: {'lambda_l1': 529.8654404087371, 'lambda_l2': 987.3428004572604, 'learning_rate': 0.20143827804387432, 'num_leaves': 554, 'feature_fraction': 0.38945826895807567, 'min_data_in_leaf': 4899}. Best is trial 3 with value: 91.13.\n"
     ]
    },
    {
     "name": "stdout",
     "output_type": "stream",
     "text": [
      "[100]\tvalid_0's ER: 118.18\n",
      "Early stopping, best iteration is:\n",
      "[62]\tvalid_0's ER: 117.95\n",
      "Evaluated only: ER\n",
      "**************** tweedie ****************\n",
      "Training until validation scores don't improve for 88 rounds\n"
     ]
    },
    {
     "name": "stderr",
     "output_type": "stream",
     "text": [
      "[I 2023-12-21 16:41:49,409] Trial 9 finished with value: 108.84 and parameters: {'lambda_l1': 123.91489746336892, 'lambda_l2': 774.9468553193191, 'learning_rate': 0.1296522724473664, 'num_leaves': 425, 'feature_fraction': 0.8482897685267354, 'min_data_in_leaf': 4212}. Best is trial 3 with value: 91.13.\n"
     ]
    },
    {
     "name": "stdout",
     "output_type": "stream",
     "text": [
      "[100]\tvalid_0's ER: 111.99\n",
      "Early stopping, best iteration is:\n",
      "[48]\tvalid_0's ER: 108.84\n",
      "Evaluated only: ER\n",
      "# Experimentos: 10\n",
      "Mejor experimento: {'lambda_l1': 39.23813901798645, 'lambda_l2': 786.3023896051942, 'learning_rate': 0.12198103527388582, 'num_leaves': 753, 'feature_fraction': 0.6223634166551322, 'min_data_in_leaf': 779}\n",
      "=========================================== Cluster 29 ===========================================\n"
     ]
    },
    {
     "name": "stderr",
     "output_type": "stream",
     "text": [
      "[I 2023-12-21 16:41:50,381] A new study created in memory with name: no-name-f679819f-6b8e-4d99-a3c2-e6f0391834ab\n"
     ]
    },
    {
     "name": "stdout",
     "output_type": "stream",
     "text": [
      "Periodos entrenar: [201801 201802 201803 201804 201805 201806 201807 201808 201809 201810\n",
      " 201811 201812 201901 201902 201903 201904 201905]\n",
      "Periodos validar: [201907]\n",
      "product_id a validar: 1740\n",
      "X_train: (26456, 120)\n",
      "y_train: (26456,)\n",
      "\n",
      "X_validate: (1740, 120)\n",
      "y_validate: (1740,)\n",
      "Optimizacion Bayesiana\n",
      "**************** tweedie ****************\n",
      "Training until validation scores don't improve for 77 rounds\n"
     ]
    },
    {
     "name": "stderr",
     "output_type": "stream",
     "text": [
      "[I 2023-12-21 16:41:50,865] Trial 0 finished with value: 142.93 and parameters: {'lambda_l1': 986.0130007482558, 'lambda_l2': 74.69033784232238, 'learning_rate': 0.1801128700116538, 'num_leaves': 1014, 'feature_fraction': 0.33667123503795016, 'min_data_in_leaf': 5256}. Best is trial 0 with value: 142.93.\n"
     ]
    },
    {
     "name": "stdout",
     "output_type": "stream",
     "text": [
      "[100]\tvalid_0's ER: 144.2\n",
      "Early stopping, best iteration is:\n",
      "[45]\tvalid_0's ER: 142.93\n",
      "Evaluated only: ER\n",
      "**************** tweedie ****************\n",
      "Training until validation scores don't improve for 85 rounds\n"
     ]
    },
    {
     "name": "stderr",
     "output_type": "stream",
     "text": [
      "[I 2023-12-21 16:41:51,336] Trial 1 finished with value: 135.87 and parameters: {'lambda_l1': 404.72138118018484, 'lambda_l2': 582.9242488288644, 'learning_rate': 0.13975364257400397, 'num_leaves': 209, 'feature_fraction': 0.23087526616560342, 'min_data_in_leaf': 164}. Best is trial 1 with value: 135.87.\n"
     ]
    },
    {
     "name": "stdout",
     "output_type": "stream",
     "text": [
      "[100]\tvalid_0's ER: 150.86\n",
      "Early stopping, best iteration is:\n",
      "[22]\tvalid_0's ER: 135.87\n",
      "Evaluated only: ER\n",
      "**************** tweedie ****************\n",
      "Training until validation scores don't improve for 96 rounds\n"
     ]
    },
    {
     "name": "stderr",
     "output_type": "stream",
     "text": [
      "[I 2023-12-21 16:41:51,939] Trial 2 finished with value: 144.55 and parameters: {'lambda_l1': 460.17500154171563, 'lambda_l2': 708.3629273663997, 'learning_rate': 0.106886249640324, 'num_leaves': 826, 'feature_fraction': 0.8632180080040615, 'min_data_in_leaf': 7687}. Best is trial 1 with value: 135.87.\n"
     ]
    },
    {
     "name": "stdout",
     "output_type": "stream",
     "text": [
      "[100]\tvalid_0's ER: 158.39\n",
      "Early stopping, best iteration is:\n",
      "[27]\tvalid_0's ER: 144.55\n",
      "Evaluated only: ER\n",
      "**************** tweedie ****************\n",
      "Training until validation scores don't improve for 66 rounds\n",
      "Early stopping, best iteration is:\n",
      "[12]\tvalid_0's ER: 132.05\n",
      "Evaluated only: ER\n"
     ]
    },
    {
     "name": "stderr",
     "output_type": "stream",
     "text": [
      "[I 2023-12-21 16:41:52,339] Trial 3 finished with value: 132.05 and parameters: {'lambda_l1': 633.1876125710346, 'lambda_l2': 348.67847395581254, 'learning_rate': 0.2983122103975503, 'num_leaves': 805, 'feature_fraction': 0.2863229328048072, 'min_data_in_leaf': 385}. Best is trial 3 with value: 132.05.\n"
     ]
    },
    {
     "name": "stdout",
     "output_type": "stream",
     "text": [
      "**************** tweedie ****************\n",
      "Training until validation scores don't improve for 72 rounds\n"
     ]
    },
    {
     "name": "stderr",
     "output_type": "stream",
     "text": [
      "[I 2023-12-21 16:41:52,740] Trial 4 finished with value: 129.24 and parameters: {'lambda_l1': 844.7696382862573, 'lambda_l2': 140.8934154731647, 'learning_rate': 0.22095556357169852, 'num_leaves': 469, 'feature_fraction': 0.25152903615508376, 'min_data_in_leaf': 946}. Best is trial 4 with value: 129.24.\n"
     ]
    },
    {
     "name": "stdout",
     "output_type": "stream",
     "text": [
      "Early stopping, best iteration is:\n",
      "[12]\tvalid_0's ER: 129.24\n",
      "Evaluated only: ER\n",
      "**************** tweedie ****************\n",
      "Training until validation scores don't improve for 453 rounds\n",
      "[100]\tvalid_0's ER: 161.69\n",
      "[200]\tvalid_0's ER: 137.36\n",
      "[300]\tvalid_0's ER: 132.39\n",
      "[400]\tvalid_0's ER: 132.11\n",
      "[500]\tvalid_0's ER: 135.85\n",
      "[600]\tvalid_0's ER: 139.93\n",
      "[700]\tvalid_0's ER: 143.33\n"
     ]
    },
    {
     "name": "stderr",
     "output_type": "stream",
     "text": [
      "[I 2023-12-21 16:41:56,250] Trial 5 finished with value: 131.77 and parameters: {'lambda_l1': 353.50594812350135, 'lambda_l2': 909.3830181322462, 'learning_rate': 0.012391221630468076, 'num_leaves': 546, 'feature_fraction': 0.8500862188485281, 'min_data_in_leaf': 2391}. Best is trial 4 with value: 129.24.\n"
     ]
    },
    {
     "name": "stdout",
     "output_type": "stream",
     "text": [
      "Early stopping, best iteration is:\n",
      "[338]\tvalid_0's ER: 131.77\n",
      "Evaluated only: ER\n",
      "**************** tweedie ****************\n",
      "Training until validation scores don't improve for 72 rounds\n"
     ]
    },
    {
     "name": "stderr",
     "output_type": "stream",
     "text": [
      "[I 2023-12-21 16:41:56,805] Trial 6 finished with value: 131.72 and parameters: {'lambda_l1': 990.6387057065102, 'lambda_l2': 714.5973463786705, 'learning_rate': 0.21758300648659387, 'num_leaves': 610, 'feature_fraction': 0.8827845018061093, 'min_data_in_leaf': 1104}. Best is trial 4 with value: 129.24.\n"
     ]
    },
    {
     "name": "stdout",
     "output_type": "stream",
     "text": [
      "Early stopping, best iteration is:\n",
      "[19]\tvalid_0's ER: 131.72\n",
      "Evaluated only: ER\n",
      "**************** tweedie ****************\n",
      "Training until validation scores don't improve for 78 rounds\n"
     ]
    },
    {
     "name": "stderr",
     "output_type": "stream",
     "text": [
      "[I 2023-12-21 16:41:57,311] Trial 7 finished with value: 144.71 and parameters: {'lambda_l1': 175.77001638787627, 'lambda_l2': 468.57706771852446, 'learning_rate': 0.17312852216747657, 'num_leaves': 254, 'feature_fraction': 0.6022783140808909, 'min_data_in_leaf': 4456}. Best is trial 4 with value: 129.24.\n"
     ]
    },
    {
     "name": "stdout",
     "output_type": "stream",
     "text": [
      "Early stopping, best iteration is:\n",
      "[12]\tvalid_0's ER: 144.71\n",
      "Evaluated only: ER\n",
      "**************** tweedie ****************\n",
      "Training until validation scores don't improve for 72 rounds\n"
     ]
    },
    {
     "name": "stderr",
     "output_type": "stream",
     "text": [
      "[I 2023-12-21 16:41:57,804] Trial 8 finished with value: 136.02 and parameters: {'lambda_l1': 883.6391241453845, 'lambda_l2': 989.2557286226506, 'learning_rate': 0.21841698477718058, 'num_leaves': 296, 'feature_fraction': 0.4801582570130937, 'min_data_in_leaf': 978}. Best is trial 4 with value: 129.24.\n"
     ]
    },
    {
     "name": "stdout",
     "output_type": "stream",
     "text": [
      "Early stopping, best iteration is:\n",
      "[19]\tvalid_0's ER: 136.02\n",
      "Evaluated only: ER\n",
      "**************** tweedie ****************\n",
      "Training until validation scores don't improve for 210 rounds\n",
      "[100]\tvalid_0's ER: 141.71\n",
      "[200]\tvalid_0's ER: 139.64\n"
     ]
    },
    {
     "name": "stderr",
     "output_type": "stream",
     "text": [
      "[I 2023-12-21 16:41:59,207] Trial 9 finished with value: 138.96 and parameters: {'lambda_l1': 613.8716513223424, 'lambda_l2': 915.0197679779152, 'learning_rate': 0.031076080993603233, 'num_leaves': 443, 'feature_fraction': 0.6411467463232858, 'min_data_in_leaf': 5453}. Best is trial 4 with value: 129.24.\n"
     ]
    },
    {
     "name": "stdout",
     "output_type": "stream",
     "text": [
      "[300]\tvalid_0's ER: 143.51\n",
      "Early stopping, best iteration is:\n",
      "[141]\tvalid_0's ER: 138.96\n",
      "Evaluated only: ER\n",
      "# Experimentos: 10\n",
      "Mejor experimento: {'lambda_l1': 844.7696382862573, 'lambda_l2': 140.8934154731647, 'learning_rate': 0.22095556357169852, 'num_leaves': 469, 'feature_fraction': 0.25152903615508376, 'min_data_in_leaf': 946}\n",
      "=========================================== Cluster 30 ===========================================\n"
     ]
    },
    {
     "name": "stderr",
     "output_type": "stream",
     "text": [
      "[I 2023-12-21 16:42:04,696] A new study created in memory with name: no-name-69d853cd-5269-47b7-9299-bf86a6d2a7b6\n"
     ]
    },
    {
     "name": "stdout",
     "output_type": "stream",
     "text": [
      "Periodos entrenar: [201701 201702 201703 201704 201705 201706 201707 201708 201709 201710\n",
      " 201711 201712 201801 201802 201803 201804 201805 201806 201807 201808\n",
      " 201809 201810 201811 201812 201901 201902 201903 201904 201905]\n",
      "Periodos validar: [201907]\n",
      "product_id a validar: 9280\n",
      "X_train: (179782, 120)\n",
      "y_train: (179782,)\n",
      "\n",
      "X_validate: (9280, 120)\n",
      "y_validate: (9280,)\n",
      "Optimizacion Bayesiana\n",
      "**************** tweedie ****************\n",
      "Training until validation scores don't improve for 89 rounds\n",
      "[100]\tvalid_0's ER: 100.13\n",
      "[200]\tvalid_0's ER: 98.99\n",
      "[300]\tvalid_0's ER: 98.44\n"
     ]
    },
    {
     "name": "stderr",
     "output_type": "stream",
     "text": [
      "[I 2023-12-21 16:42:13,320] Trial 0 finished with value: 97.96 and parameters: {'lambda_l1': 89.15182629758512, 'lambda_l2': 743.4237010131766, 'learning_rate': 0.12585244705831566, 'num_leaves': 1024, 'feature_fraction': 0.3874760045869392, 'min_data_in_leaf': 1754}. Best is trial 0 with value: 97.96.\n"
     ]
    },
    {
     "name": "stdout",
     "output_type": "stream",
     "text": [
      "Early stopping, best iteration is:\n",
      "[241]\tvalid_0's ER: 97.96\n",
      "Evaluated only: ER\n",
      "**************** tweedie ****************\n",
      "Training until validation scores don't improve for 485 rounds\n",
      "[100]\tvalid_0's ER: 141.61\n",
      "[200]\tvalid_0's ER: 120.13\n",
      "[300]\tvalid_0's ER: 111.92\n",
      "[400]\tvalid_0's ER: 107.55\n",
      "[500]\tvalid_0's ER: 105.83\n",
      "[600]\tvalid_0's ER: 105.35\n",
      "[700]\tvalid_0's ER: 105.42\n",
      "[800]\tvalid_0's ER: 105.42\n",
      "[900]\tvalid_0's ER: 105.42\n",
      "[1000]\tvalid_0's ER: 105.42\n",
      "[1100]\tvalid_0's ER: 105.42\n",
      "Early stopping, best iteration is:\n",
      "[627]\tvalid_0's ER: 105.22\n",
      "Evaluated only: ER\n"
     ]
    },
    {
     "name": "stderr",
     "output_type": "stream",
     "text": [
      "[I 2023-12-21 16:42:43,322] Trial 1 finished with value: 105.22 and parameters: {'lambda_l1': 573.3815656467273, 'lambda_l2': 37.18896069728117, 'learning_rate': 0.011477048103689455, 'num_leaves': 950, 'feature_fraction': 0.8847795770679425, 'min_data_in_leaf': 1983}. Best is trial 0 with value: 97.96.\n"
     ]
    },
    {
     "name": "stdout",
     "output_type": "stream",
     "text": [
      "**************** tweedie ****************\n",
      "Training until validation scores don't improve for 70 rounds\n"
     ]
    },
    {
     "name": "stderr",
     "output_type": "stream",
     "text": [
      "[I 2023-12-21 16:42:46,710] Trial 2 finished with value: 105.43 and parameters: {'lambda_l1': 559.3495985202355, 'lambda_l2': 220.80324691683606, 'learning_rate': 0.24518320631621204, 'num_leaves': 445, 'feature_fraction': 0.8083028984790961, 'min_data_in_leaf': 2260}. Best is trial 0 with value: 97.96.\n"
     ]
    },
    {
     "name": "stdout",
     "output_type": "stream",
     "text": [
      "[100]\tvalid_0's ER: 106.17\n",
      "Early stopping, best iteration is:\n",
      "[36]\tvalid_0's ER: 105.43\n",
      "Evaluated only: ER\n",
      "**************** tweedie ****************\n",
      "Training until validation scores don't improve for 190 rounds\n",
      "[100]\tvalid_0's ER: 117.19\n",
      "[200]\tvalid_0's ER: 110.09\n",
      "[300]\tvalid_0's ER: 108.95\n",
      "[400]\tvalid_0's ER: 108.96\n"
     ]
    },
    {
     "name": "stderr",
     "output_type": "stream",
     "text": [
      "[I 2023-12-21 16:42:55,868] Trial 3 finished with value: 108.95 and parameters: {'lambda_l1': 758.4405398405646, 'lambda_l2': 23.81792118488346, 'learning_rate': 0.035601884411047155, 'num_leaves': 427, 'feature_fraction': 0.5490936198507494, 'min_data_in_leaf': 5878}. Best is trial 0 with value: 97.96.\n"
     ]
    },
    {
     "name": "stdout",
     "output_type": "stream",
     "text": [
      "Early stopping, best iteration is:\n",
      "[251]\tvalid_0's ER: 108.95\n",
      "Evaluated only: ER\n",
      "**************** tweedie ****************\n",
      "Training until validation scores don't improve for 72 rounds\n",
      "[100]\tvalid_0's ER: 98.36\n",
      "[200]\tvalid_0's ER: 97.9\n"
     ]
    },
    {
     "name": "stderr",
     "output_type": "stream",
     "text": [
      "[I 2023-12-21 16:43:05,966] Trial 4 finished with value: 97.11 and parameters: {'lambda_l1': 57.19470688558304, 'lambda_l2': 190.3239063474832, 'learning_rate': 0.22174180832933854, 'num_leaves': 908, 'feature_fraction': 0.8885373658978919, 'min_data_in_leaf': 5718}. Best is trial 4 with value: 97.11.\n"
     ]
    },
    {
     "name": "stdout",
     "output_type": "stream",
     "text": [
      "[300]\tvalid_0's ER: 97.21\n",
      "Early stopping, best iteration is:\n",
      "[230]\tvalid_0's ER: 97.11\n",
      "Evaluated only: ER\n",
      "**************** tweedie ****************\n",
      "Training until validation scores don't improve for 80 rounds\n",
      "[100]\tvalid_0's ER: 106.59\n"
     ]
    },
    {
     "name": "stderr",
     "output_type": "stream",
     "text": [
      "[I 2023-12-21 16:43:10,120] Trial 5 finished with value: 105.93 and parameters: {'lambda_l1': 626.5831850012271, 'lambda_l2': 854.3856693619097, 'learning_rate': 0.16411119306070526, 'num_leaves': 30, 'feature_fraction': 0.8756587659122463, 'min_data_in_leaf': 3847}. Best is trial 4 with value: 97.11.\n"
     ]
    },
    {
     "name": "stdout",
     "output_type": "stream",
     "text": [
      "Early stopping, best iteration is:\n",
      "[65]\tvalid_0's ER: 105.93\n",
      "Evaluated only: ER\n",
      "**************** tweedie ****************\n",
      "Training until validation scores don't improve for 86 rounds\n",
      "[100]\tvalid_0's ER: 97.07\n"
     ]
    },
    {
     "name": "stderr",
     "output_type": "stream",
     "text": [
      "[I 2023-12-21 16:43:16,593] Trial 6 finished with value: 96.8 and parameters: {'lambda_l1': 114.12065886484667, 'lambda_l2': 766.5774142106599, 'learning_rate': 0.13546957334728982, 'num_leaves': 706, 'feature_fraction': 0.8359731769549623, 'min_data_in_leaf': 6938}. Best is trial 6 with value: 96.8.\n"
     ]
    },
    {
     "name": "stdout",
     "output_type": "stream",
     "text": [
      "Early stopping, best iteration is:\n",
      "[96]\tvalid_0's ER: 96.8\n",
      "Evaluated only: ER\n",
      "**************** tweedie ****************\n",
      "Training until validation scores don't improve for 103 rounds\n",
      "[100]\tvalid_0's ER: 106.59\n"
     ]
    },
    {
     "name": "stderr",
     "output_type": "stream",
     "text": [
      "[I 2023-12-21 16:43:21,879] Trial 7 finished with value: 106.42 and parameters: {'lambda_l1': 609.2933959477191, 'lambda_l2': 41.08120747196353, 'learning_rate': 0.09305397655742582, 'num_leaves': 158, 'feature_fraction': 0.6568738325505143, 'min_data_in_leaf': 3303}. Best is trial 6 with value: 96.8.\n"
     ]
    },
    {
     "name": "stdout",
     "output_type": "stream",
     "text": [
      "Early stopping, best iteration is:\n",
      "[85]\tvalid_0's ER: 106.42\n",
      "Evaluated only: ER\n",
      "**************** tweedie ****************\n",
      "Training until validation scores don't improve for 88 rounds\n",
      "[100]\tvalid_0's ER: 109.23\n"
     ]
    },
    {
     "name": "stderr",
     "output_type": "stream",
     "text": [
      "[I 2023-12-21 16:43:26,362] Trial 8 finished with value: 109.05 and parameters: {'lambda_l1': 792.2149150807031, 'lambda_l2': 651.5037115422346, 'learning_rate': 0.12845116259084133, 'num_leaves': 1023, 'feature_fraction': 0.763580376699772, 'min_data_in_leaf': 4226}. Best is trial 6 with value: 96.8.\n"
     ]
    },
    {
     "name": "stdout",
     "output_type": "stream",
     "text": [
      "Early stopping, best iteration is:\n",
      "[78]\tvalid_0's ER: 109.05\n",
      "Evaluated only: ER\n",
      "**************** tweedie ****************\n",
      "Training until validation scores don't improve for 76 rounds\n",
      "[100]\tvalid_0's ER: 99.42\n"
     ]
    },
    {
     "name": "stderr",
     "output_type": "stream",
     "text": [
      "[I 2023-12-21 16:43:29,467] Trial 9 finished with value: 98.38 and parameters: {'lambda_l1': 244.01170635142654, 'lambda_l2': 355.7977411368969, 'learning_rate': 0.1892906340680403, 'num_leaves': 453, 'feature_fraction': 0.21504203273933228, 'min_data_in_leaf': 3738}. Best is trial 6 with value: 96.8.\n"
     ]
    },
    {
     "name": "stdout",
     "output_type": "stream",
     "text": [
      "Early stopping, best iteration is:\n",
      "[81]\tvalid_0's ER: 98.38\n",
      "Evaluated only: ER\n",
      "# Experimentos: 10\n",
      "Mejor experimento: {'lambda_l1': 114.12065886484667, 'lambda_l2': 766.5774142106599, 'learning_rate': 0.13546957334728982, 'num_leaves': 706, 'feature_fraction': 0.8359731769549623, 'min_data_in_leaf': 6938}\n",
      "=========================================== Cluster 31 ===========================================\n"
     ]
    },
    {
     "name": "stderr",
     "output_type": "stream",
     "text": [
      "[I 2023-12-21 16:43:39,186] A new study created in memory with name: no-name-fe2b2abe-34cc-491f-99ab-63b5b14eda7d\n"
     ]
    },
    {
     "name": "stdout",
     "output_type": "stream",
     "text": [
      "Periodos entrenar: [201701 201702 201703 201704 201705 201706 201707 201708 201709 201710\n",
      " 201711 201712 201801 201802 201803 201804 201805 201806 201807 201808\n",
      " 201809 201810 201811 201812 201901 201902 201903 201904 201905]\n",
      "Periodos validar: [201907]\n",
      "product_id a validar: 15080\n",
      "X_train: (327993, 120)\n",
      "y_train: (327993,)\n",
      "\n",
      "X_validate: (15080, 120)\n",
      "y_validate: (15080,)\n",
      "Optimizacion Bayesiana\n",
      "**************** tweedie ****************\n",
      "Training until validation scores don't improve for 77 rounds\n",
      "[100]\tvalid_0's ER: 90.17\n"
     ]
    },
    {
     "name": "stderr",
     "output_type": "stream",
     "text": [
      "[I 2023-12-21 16:43:47,320] Trial 0 finished with value: 90.17 and parameters: {'lambda_l1': 379.4524195909571, 'lambda_l2': 905.6730441553084, 'learning_rate': 0.1850185031337896, 'num_leaves': 331, 'feature_fraction': 0.8332864412221614, 'min_data_in_leaf': 6425}. Best is trial 0 with value: 90.17.\n"
     ]
    },
    {
     "name": "stdout",
     "output_type": "stream",
     "text": [
      "Early stopping, best iteration is:\n",
      "[91]\tvalid_0's ER: 90.17\n",
      "Evaluated only: ER\n",
      "**************** tweedie ****************\n",
      "Training until validation scores don't improve for 101 rounds\n",
      "[100]\tvalid_0's ER: 93.94\n",
      "[200]\tvalid_0's ER: 93.54\n"
     ]
    },
    {
     "name": "stderr",
     "output_type": "stream",
     "text": [
      "[I 2023-12-21 16:43:56,872] Trial 1 finished with value: 93.53 and parameters: {'lambda_l1': 797.4088923436768, 'lambda_l2': 509.7327927972177, 'learning_rate': 0.09643066418796548, 'num_leaves': 973, 'feature_fraction': 0.8815506801603907, 'min_data_in_leaf': 6879}. Best is trial 0 with value: 90.17.\n"
     ]
    },
    {
     "name": "stdout",
     "output_type": "stream",
     "text": [
      "Early stopping, best iteration is:\n",
      "[116]\tvalid_0's ER: 93.53\n",
      "Evaluated only: ER\n",
      "**************** tweedie ****************\n",
      "Training until validation scores don't improve for 70 rounds\n",
      "[100]\tvalid_0's ER: 89.75\n"
     ]
    },
    {
     "name": "stderr",
     "output_type": "stream",
     "text": [
      "[I 2023-12-21 16:44:02,630] Trial 2 finished with value: 89.59 and parameters: {'lambda_l1': 181.28521526463516, 'lambda_l2': 672.2558603860889, 'learning_rate': 0.2480265199931511, 'num_leaves': 841, 'feature_fraction': 0.35830287615656486, 'min_data_in_leaf': 6854}. Best is trial 2 with value: 89.59.\n"
     ]
    },
    {
     "name": "stdout",
     "output_type": "stream",
     "text": [
      "Early stopping, best iteration is:\n",
      "[71]\tvalid_0's ER: 89.59\n",
      "Evaluated only: ER\n",
      "**************** tweedie ****************\n",
      "Training until validation scores don't improve for 66 rounds\n",
      "[100]\tvalid_0's ER: 91.43\n"
     ]
    },
    {
     "name": "stderr",
     "output_type": "stream",
     "text": [
      "[I 2023-12-21 16:44:08,580] Trial 3 finished with value: 91.27 and parameters: {'lambda_l1': 513.565242084359, 'lambda_l2': 819.6055203782935, 'learning_rate': 0.2944467148708948, 'num_leaves': 580, 'feature_fraction': 0.7433813423334217, 'min_data_in_leaf': 6119}. Best is trial 2 with value: 89.59.\n"
     ]
    },
    {
     "name": "stdout",
     "output_type": "stream",
     "text": [
      "Early stopping, best iteration is:\n",
      "[52]\tvalid_0's ER: 91.27\n",
      "Evaluated only: ER\n",
      "**************** tweedie ****************\n",
      "Training until validation scores don't improve for 140 rounds\n",
      "[100]\tvalid_0's ER: 95.4\n",
      "[200]\tvalid_0's ER: 91.96\n",
      "[300]\tvalid_0's ER: 91.93\n"
     ]
    },
    {
     "name": "stderr",
     "output_type": "stream",
     "text": [
      "[I 2023-12-21 16:44:24,125] Trial 4 finished with value: 91.92 and parameters: {'lambda_l1': 698.5107826641254, 'lambda_l2': 917.4939876287516, 'learning_rate': 0.05513187676524581, 'num_leaves': 60, 'feature_fraction': 0.982527503563897, 'min_data_in_leaf': 2843}. Best is trial 2 with value: 89.59.\n"
     ]
    },
    {
     "name": "stdout",
     "output_type": "stream",
     "text": [
      "Early stopping, best iteration is:\n",
      "[201]\tvalid_0's ER: 91.92\n",
      "Evaluated only: ER\n",
      "**************** tweedie ****************\n",
      "Training until validation scores don't improve for 145 rounds\n",
      "[100]\tvalid_0's ER: 89.86\n",
      "[200]\tvalid_0's ER: 86.87\n",
      "[300]\tvalid_0's ER: 86.35\n",
      "[400]\tvalid_0's ER: 85.92\n",
      "[500]\tvalid_0's ER: 85.77\n",
      "[600]\tvalid_0's ER: 85.44\n",
      "[700]\tvalid_0's ER: 85.43\n",
      "[800]\tvalid_0's ER: 85.21\n",
      "[900]\tvalid_0's ER: 85.15\n",
      "[1000]\tvalid_0's ER: 85.16\n",
      "[1100]\tvalid_0's ER: 85.15\n",
      "[1200]\tvalid_0's ER: 85.16\n",
      "Early stopping, best iteration is:\n",
      "[1068]\tvalid_0's ER: 85.11\n",
      "Evaluated only: ER\n"
     ]
    },
    {
     "name": "stderr",
     "output_type": "stream",
     "text": [
      "[I 2023-12-21 16:45:07,795] Trial 5 finished with value: 85.11 and parameters: {'lambda_l1': 41.94841366000257, 'lambda_l2': 63.224482558581705, 'learning_rate': 0.05243161624345026, 'num_leaves': 657, 'feature_fraction': 0.3614922417927682, 'min_data_in_leaf': 7938}. Best is trial 5 with value: 85.11.\n"
     ]
    },
    {
     "name": "stdout",
     "output_type": "stream",
     "text": [
      "**************** tweedie ****************\n",
      "Training until validation scores don't improve for 68 rounds\n",
      "[100]\tvalid_0's ER: 84.32\n",
      "Early stopping, best iteration is:\n",
      "[86]\tvalid_0's ER: 84.11\n",
      "Evaluated only: ER\n"
     ]
    },
    {
     "name": "stderr",
     "output_type": "stream",
     "text": [
      "[I 2023-12-21 16:45:18,978] Trial 6 finished with value: 84.11 and parameters: {'lambda_l1': 185.73615833401803, 'lambda_l2': 644.1401929759647, 'learning_rate': 0.27136187245085763, 'num_leaves': 410, 'feature_fraction': 0.4505884233039452, 'min_data_in_leaf': 513}. Best is trial 6 with value: 84.11.\n"
     ]
    },
    {
     "name": "stdout",
     "output_type": "stream",
     "text": [
      "**************** tweedie ****************\n",
      "Training until validation scores don't improve for 82 rounds\n",
      "[100]\tvalid_0's ER: 86.61\n",
      "[200]\tvalid_0's ER: 85.71\n",
      "[300]\tvalid_0's ER: 85.33\n",
      "[400]\tvalid_0's ER: 85.28\n",
      "[500]\tvalid_0's ER: 85.18\n",
      "[600]\tvalid_0's ER: 85.07\n",
      "[700]\tvalid_0's ER: 84.87\n",
      "[800]\tvalid_0's ER: 84.74\n",
      "[900]\tvalid_0's ER: 84.61\n",
      "[1000]\tvalid_0's ER: 84.41\n",
      "[1100]\tvalid_0's ER: 84.17\n",
      "[1200]\tvalid_0's ER: 84.12\n",
      "Early stopping, best iteration is:\n",
      "[1173]\tvalid_0's ER: 84.06\n",
      "Evaluated only: ER\n"
     ]
    },
    {
     "name": "stderr",
     "output_type": "stream",
     "text": [
      "[I 2023-12-21 16:46:54,678] Trial 7 finished with value: 84.06 and parameters: {'lambda_l1': 12.0374117957337, 'lambda_l2': 493.547628674625, 'learning_rate': 0.15558893092121462, 'num_leaves': 395, 'feature_fraction': 0.8068228169180234, 'min_data_in_leaf': 2988}. Best is trial 7 with value: 84.06.\n"
     ]
    },
    {
     "name": "stdout",
     "output_type": "stream",
     "text": [
      "**************** tweedie ****************\n",
      "Training until validation scores don't improve for 73 rounds\n",
      "[100]\tvalid_0's ER: 92.42\n"
     ]
    },
    {
     "name": "stderr",
     "output_type": "stream",
     "text": [
      "[I 2023-12-21 16:47:01,145] Trial 8 finished with value: 92.42 and parameters: {'lambda_l1': 678.7443090830886, 'lambda_l2': 571.7862869796307, 'learning_rate': 0.2132012964868991, 'num_leaves': 19, 'feature_fraction': 0.7198338029921063, 'min_data_in_leaf': 7725}. Best is trial 7 with value: 84.06.\n"
     ]
    },
    {
     "name": "stdout",
     "output_type": "stream",
     "text": [
      "Early stopping, best iteration is:\n",
      "[55]\tvalid_0's ER: 92.42\n",
      "Evaluated only: ER\n",
      "**************** tweedie ****************\n",
      "Training until validation scores don't improve for 95 rounds\n",
      "[100]\tvalid_0's ER: 91.53\n"
     ]
    },
    {
     "name": "stderr",
     "output_type": "stream",
     "text": [
      "[I 2023-12-21 16:47:09,122] Trial 9 finished with value: 91.53 and parameters: {'lambda_l1': 624.8674532613137, 'lambda_l2': 245.92544190497057, 'learning_rate': 0.11009554455243035, 'num_leaves': 343, 'feature_fraction': 0.5417363556051598, 'min_data_in_leaf': 5003}. Best is trial 7 with value: 84.06.\n"
     ]
    },
    {
     "name": "stdout",
     "output_type": "stream",
     "text": [
      "Early stopping, best iteration is:\n",
      "[97]\tvalid_0's ER: 91.53\n",
      "Evaluated only: ER\n",
      "# Experimentos: 10\n",
      "Mejor experimento: {'lambda_l1': 12.0374117957337, 'lambda_l2': 493.547628674625, 'learning_rate': 0.15558893092121462, 'num_leaves': 395, 'feature_fraction': 0.8068228169180234, 'min_data_in_leaf': 2988}\n",
      "=========================================== Cluster 32 ===========================================\n"
     ]
    },
    {
     "name": "stderr",
     "output_type": "stream",
     "text": [
      "[I 2023-12-21 16:47:13,501] A new study created in memory with name: no-name-d829b02a-4bd8-4eb1-bdb7-95e32a2ddc39\n"
     ]
    },
    {
     "name": "stdout",
     "output_type": "stream",
     "text": [
      "Periodos entrenar: [201701 201702 201703 201704 201705 201706 201707 201708 201709 201710\n",
      " 201711 201712 201801 201802 201803 201804 201805 201806 201807 201808\n",
      " 201809 201810 201811 201812 201901 201902 201903 201904 201905]\n",
      "Periodos validar: [201907]\n",
      "product_id a validar: 8700\n",
      "X_train: (129194, 120)\n",
      "y_train: (129194,)\n",
      "\n",
      "X_validate: (8700, 120)\n",
      "y_validate: (8700,)\n",
      "Optimizacion Bayesiana\n",
      "**************** tweedie ****************\n",
      "Training until validation scores don't improve for 71 rounds\n",
      "[100]\tvalid_0's ER: 108.34\n"
     ]
    },
    {
     "name": "stderr",
     "output_type": "stream",
     "text": [
      "[I 2023-12-21 16:47:17,124] Trial 0 finished with value: 108.33 and parameters: {'lambda_l1': 725.9489069326567, 'lambda_l2': 960.8792948413682, 'learning_rate': 0.23259271418251762, 'num_leaves': 447, 'feature_fraction': 0.826549428492598, 'min_data_in_leaf': 7078}. Best is trial 0 with value: 108.33.\n"
     ]
    },
    {
     "name": "stdout",
     "output_type": "stream",
     "text": [
      "Early stopping, best iteration is:\n",
      "[114]\tvalid_0's ER: 108.33\n",
      "Evaluated only: ER\n",
      "**************** tweedie ****************\n",
      "Training until validation scores don't improve for 81 rounds\n",
      "[100]\tvalid_0's ER: 111.52\n",
      "[200]\tvalid_0's ER: 111.42\n"
     ]
    },
    {
     "name": "stderr",
     "output_type": "stream",
     "text": [
      "[I 2023-12-21 16:47:21,527] Trial 1 finished with value: 111.42 and parameters: {'lambda_l1': 912.9070566315223, 'lambda_l2': 704.3307296976573, 'learning_rate': 0.1587412860302649, 'num_leaves': 128, 'feature_fraction': 0.462359272354467, 'min_data_in_leaf': 417}. Best is trial 0 with value: 108.33.\n"
     ]
    },
    {
     "name": "stdout",
     "output_type": "stream",
     "text": [
      "Early stopping, best iteration is:\n",
      "[177]\tvalid_0's ER: 111.42\n",
      "Evaluated only: ER\n",
      "**************** tweedie ****************\n",
      "Training until validation scores don't improve for 292 rounds\n",
      "[100]\tvalid_0's ER: 134.24\n",
      "[200]\tvalid_0's ER: 115.82\n",
      "[300]\tvalid_0's ER: 108.38\n",
      "[400]\tvalid_0's ER: 105.31\n",
      "[500]\tvalid_0's ER: 103.86\n",
      "[600]\tvalid_0's ER: 103.27\n",
      "[700]\tvalid_0's ER: 102.3\n",
      "[800]\tvalid_0's ER: 102.23\n",
      "[900]\tvalid_0's ER: 102.08\n",
      "[1000]\tvalid_0's ER: 102.07\n",
      "[1100]\tvalid_0's ER: 102.03\n",
      "[1200]\tvalid_0's ER: 102.03\n",
      "Early stopping, best iteration is:\n",
      "[947]\tvalid_0's ER: 102.01\n",
      "Evaluated only: ER\n"
     ]
    },
    {
     "name": "stderr",
     "output_type": "stream",
     "text": [
      "[I 2023-12-21 16:47:42,151] Trial 2 finished with value: 102.05 and parameters: {'lambda_l1': 452.16342055445534, 'lambda_l2': 736.0473618330301, 'learning_rate': 0.02064793968559126, 'num_leaves': 110, 'feature_fraction': 0.5533657655093278, 'min_data_in_leaf': 1426}. Best is trial 2 with value: 102.05.\n"
     ]
    },
    {
     "name": "stdout",
     "output_type": "stream",
     "text": [
      "**************** tweedie ****************\n",
      "Training until validation scores don't improve for 77 rounds\n",
      "[100]\tvalid_0's ER: 91.91\n",
      "[200]\tvalid_0's ER: 91.11\n",
      "[300]\tvalid_0's ER: 90.88\n"
     ]
    },
    {
     "name": "stderr",
     "output_type": "stream",
     "text": [
      "[I 2023-12-21 16:47:47,744] Trial 3 finished with value: 90.64 and parameters: {'lambda_l1': 15.4355752023565, 'lambda_l2': 222.5927121974406, 'learning_rate': 0.18154295748926483, 'num_leaves': 195, 'feature_fraction': 0.27513889067458797, 'min_data_in_leaf': 4598}. Best is trial 3 with value: 90.64.\n"
     ]
    },
    {
     "name": "stdout",
     "output_type": "stream",
     "text": [
      "Early stopping, best iteration is:\n",
      "[277]\tvalid_0's ER: 90.64\n",
      "Evaluated only: ER\n",
      "**************** tweedie ****************\n",
      "Training until validation scores don't improve for 72 rounds\n",
      "[100]\tvalid_0's ER: 101.11\n"
     ]
    },
    {
     "name": "stderr",
     "output_type": "stream",
     "text": [
      "[I 2023-12-21 16:47:50,985] Trial 4 finished with value: 101.11 and parameters: {'lambda_l1': 397.08269259526264, 'lambda_l2': 507.7027329286834, 'learning_rate': 0.22222589825269487, 'num_leaves': 340, 'feature_fraction': 0.6932466754642088, 'min_data_in_leaf': 4064}. Best is trial 3 with value: 90.64.\n"
     ]
    },
    {
     "name": "stdout",
     "output_type": "stream",
     "text": [
      "Early stopping, best iteration is:\n",
      "[82]\tvalid_0's ER: 101.11\n",
      "Evaluated only: ER\n",
      "**************** tweedie ****************\n",
      "Training until validation scores don't improve for 115 rounds\n",
      "[100]\tvalid_0's ER: 107.83\n",
      "[200]\tvalid_0's ER: 103.76\n",
      "[300]\tvalid_0's ER: 103.59\n"
     ]
    },
    {
     "name": "stderr",
     "output_type": "stream",
     "text": [
      "[I 2023-12-21 16:47:57,487] Trial 5 finished with value: 103.55 and parameters: {'lambda_l1': 536.5907920876597, 'lambda_l2': 887.7934577490732, 'learning_rate': 0.0763703668870555, 'num_leaves': 220, 'feature_fraction': 0.7650523639269131, 'min_data_in_leaf': 2727}. Best is trial 3 with value: 90.64.\n"
     ]
    },
    {
     "name": "stdout",
     "output_type": "stream",
     "text": [
      "Early stopping, best iteration is:\n",
      "[211]\tvalid_0's ER: 103.55\n",
      "Evaluated only: ER\n",
      "**************** tweedie ****************\n",
      "Training until validation scores don't improve for 127 rounds\n",
      "[100]\tvalid_0's ER: 116.23\n",
      "[200]\tvalid_0's ER: 111.08\n",
      "[300]\tvalid_0's ER: 110.96\n"
     ]
    },
    {
     "name": "stderr",
     "output_type": "stream",
     "text": [
      "[I 2023-12-21 16:48:04,456] Trial 6 finished with value: 110.96 and parameters: {'lambda_l1': 920.0339463056308, 'lambda_l2': 724.6177335217202, 'learning_rate': 0.06468489467993276, 'num_leaves': 500, 'feature_fraction': 0.9408862862184593, 'min_data_in_leaf': 7193}. Best is trial 3 with value: 90.64.\n"
     ]
    },
    {
     "name": "stdout",
     "output_type": "stream",
     "text": [
      "Early stopping, best iteration is:\n",
      "[252]\tvalid_0's ER: 110.96\n",
      "Evaluated only: ER\n",
      "**************** tweedie ****************\n",
      "Training until validation scores don't improve for 77 rounds\n",
      "[100]\tvalid_0's ER: 96.41\n",
      "[200]\tvalid_0's ER: 94.32\n",
      "[300]\tvalid_0's ER: 94.06\n",
      "[400]\tvalid_0's ER: 93.67\n",
      "[500]\tvalid_0's ER: 93.52\n",
      "[600]\tvalid_0's ER: 93.47\n"
     ]
    },
    {
     "name": "stderr",
     "output_type": "stream",
     "text": [
      "[I 2023-12-21 16:48:12,598] Trial 7 finished with value: 93.45 and parameters: {'lambda_l1': 64.38982444354913, 'lambda_l2': 985.8073370691809, 'learning_rate': 0.18251478767091805, 'num_leaves': 824, 'feature_fraction': 0.212493102125426, 'min_data_in_leaf': 3313}. Best is trial 3 with value: 90.64.\n"
     ]
    },
    {
     "name": "stdout",
     "output_type": "stream",
     "text": [
      "Early stopping, best iteration is:\n",
      "[564]\tvalid_0's ER: 93.45\n",
      "Evaluated only: ER\n",
      "**************** tweedie ****************\n",
      "Training until validation scores don't improve for 96 rounds\n",
      "[100]\tvalid_0's ER: 103.01\n",
      "[200]\tvalid_0's ER: 100.96\n"
     ]
    },
    {
     "name": "stderr",
     "output_type": "stream",
     "text": [
      "[I 2023-12-21 16:48:17,958] Trial 8 finished with value: 100.92 and parameters: {'lambda_l1': 262.20961667056264, 'lambda_l2': 378.5593656306181, 'learning_rate': 0.10843864383313395, 'num_leaves': 149, 'feature_fraction': 0.6269059266705033, 'min_data_in_leaf': 6169}. Best is trial 3 with value: 90.64.\n"
     ]
    },
    {
     "name": "stdout",
     "output_type": "stream",
     "text": [
      "Early stopping, best iteration is:\n",
      "[168]\tvalid_0's ER: 100.92\n",
      "Evaluated only: ER\n",
      "**************** tweedie ****************\n",
      "Training until validation scores don't improve for 94 rounds\n",
      "[100]\tvalid_0's ER: 109.85\n"
     ]
    },
    {
     "name": "stderr",
     "output_type": "stream",
     "text": [
      "[I 2023-12-21 16:48:21,735] Trial 9 finished with value: 109.85 and parameters: {'lambda_l1': 736.3399649403839, 'lambda_l2': 72.64867927260366, 'learning_rate': 0.11252683378992062, 'num_leaves': 17, 'feature_fraction': 0.9723813534152788, 'min_data_in_leaf': 6060}. Best is trial 3 with value: 90.64.\n"
     ]
    },
    {
     "name": "stdout",
     "output_type": "stream",
     "text": [
      "Early stopping, best iteration is:\n",
      "[93]\tvalid_0's ER: 109.85\n",
      "Evaluated only: ER\n",
      "# Experimentos: 10\n",
      "Mejor experimento: {'lambda_l1': 15.4355752023565, 'lambda_l2': 222.5927121974406, 'learning_rate': 0.18154295748926483, 'num_leaves': 195, 'feature_fraction': 0.27513889067458797, 'min_data_in_leaf': 4598}\n",
      "=========================================== Cluster 33 ===========================================\n"
     ]
    },
    {
     "name": "stderr",
     "output_type": "stream",
     "text": [
      "[I 2023-12-21 16:48:22,489] A new study created in memory with name: no-name-2cbf542e-26be-4752-ab6a-04f59044d306\n"
     ]
    },
    {
     "name": "stdout",
     "output_type": "stream",
     "text": [
      "Periodos entrenar: [201801 201802 201803 201804 201805 201806 201807 201808 201809 201810\n",
      " 201811 201812 201901 201902 201903 201904 201905]\n",
      "Periodos validar: [201907]\n",
      "product_id a validar: 1160\n",
      "X_train: (17639, 120)\n",
      "y_train: (17639,)\n",
      "\n",
      "X_validate: (1160, 120)\n",
      "y_validate: (1160,)\n",
      "Optimizacion Bayesiana\n",
      "**************** tweedie ****************\n",
      "Training until validation scores don't improve for 73 rounds\n"
     ]
    },
    {
     "name": "stderr",
     "output_type": "stream",
     "text": [
      "[I 2023-12-21 16:48:22,899] Trial 0 finished with value: 116.02 and parameters: {'lambda_l1': 408.1596959332261, 'lambda_l2': 565.9288858601948, 'learning_rate': 0.21666352902639638, 'num_leaves': 165, 'feature_fraction': 0.5295135879014788, 'min_data_in_leaf': 6863}. Best is trial 0 with value: 116.02.\n"
     ]
    },
    {
     "name": "stdout",
     "output_type": "stream",
     "text": [
      "[100]\tvalid_0's ER: 116.03\n",
      "Early stopping, best iteration is:\n",
      "[70]\tvalid_0's ER: 116.02\n",
      "Evaluated only: ER\n",
      "**************** tweedie ****************\n",
      "Training until validation scores don't improve for 294 rounds\n",
      "[100]\tvalid_0's ER: 125.37\n",
      "[200]\tvalid_0's ER: 116.94\n",
      "[300]\tvalid_0's ER: 115.53\n",
      "[400]\tvalid_0's ER: 115.05\n",
      "[500]\tvalid_0's ER: 114.91\n",
      "[600]\tvalid_0's ER: 114.88\n",
      "[700]\tvalid_0's ER: 114.87\n"
     ]
    },
    {
     "name": "stderr",
     "output_type": "stream",
     "text": [
      "[I 2023-12-21 16:48:24,274] Trial 1 finished with value: 114.88 and parameters: {'lambda_l1': 393.4926707886136, 'lambda_l2': 351.86759325363937, 'learning_rate': 0.02047870700622952, 'num_leaves': 730, 'feature_fraction': 0.23513309115352155, 'min_data_in_leaf': 6140}. Best is trial 1 with value: 114.88.\n"
     ]
    },
    {
     "name": "stdout",
     "output_type": "stream",
     "text": [
      "[800]\tvalid_0's ER: 114.88\n",
      "Early stopping, best iteration is:\n",
      "[562]\tvalid_0's ER: 114.87\n",
      "Evaluated only: ER\n",
      "**************** tweedie ****************\n",
      "Training until validation scores don't improve for 69 rounds\n",
      "[100]\tvalid_0's ER: 105.76\n"
     ]
    },
    {
     "name": "stderr",
     "output_type": "stream",
     "text": [
      "[I 2023-12-21 16:48:24,665] Trial 2 finished with value: 105.67 and parameters: {'lambda_l1': 251.3302526776917, 'lambda_l2': 619.4207873948633, 'learning_rate': 0.25699322077081016, 'num_leaves': 408, 'feature_fraction': 0.4046366901955626, 'min_data_in_leaf': 4052}. Best is trial 2 with value: 105.67.\n"
     ]
    },
    {
     "name": "stdout",
     "output_type": "stream",
     "text": [
      "Early stopping, best iteration is:\n",
      "[69]\tvalid_0's ER: 105.67\n",
      "Evaluated only: ER\n",
      "**************** tweedie ****************\n",
      "Training until validation scores don't improve for 70 rounds\n",
      "[100]\tvalid_0's ER: 113.64\n",
      "[200]\tvalid_0's ER: 112.24\n",
      "[300]\tvalid_0's ER: 111.67\n",
      "[400]\tvalid_0's ER: 110.98\n",
      "[500]\tvalid_0's ER: 110.56\n",
      "[600]\tvalid_0's ER: 110.2\n",
      "[700]\tvalid_0's ER: 109.89\n",
      "[800]\tvalid_0's ER: 109.72\n",
      "[900]\tvalid_0's ER: 109.53\n",
      "[1000]\tvalid_0's ER: 109.39\n",
      "[1100]\tvalid_0's ER: 109.25\n",
      "[1200]\tvalid_0's ER: 109.16\n",
      "[1300]\tvalid_0's ER: 109.1\n",
      "[1400]\tvalid_0's ER: 109.04\n",
      "[1500]\tvalid_0's ER: 109\n",
      "[1600]\tvalid_0's ER: 108.97\n",
      "[1700]\tvalid_0's ER: 108.94\n",
      "[1800]\tvalid_0's ER: 108.92\n",
      "[1900]\tvalid_0's ER: 108.91\n"
     ]
    },
    {
     "name": "stderr",
     "output_type": "stream",
     "text": [
      "[I 2023-12-21 16:48:29,440] Trial 3 finished with value: 108.89 and parameters: {'lambda_l1': 46.17364590676098, 'lambda_l2': 548.7527171043259, 'learning_rate': 0.24240473754576408, 'num_leaves': 904, 'feature_fraction': 0.9545326165967167, 'min_data_in_leaf': 7276}. Best is trial 2 with value: 105.67.\n"
     ]
    },
    {
     "name": "stdout",
     "output_type": "stream",
     "text": [
      "[2000]\tvalid_0's ER: 108.89\n",
      "Early stopping, best iteration is:\n",
      "[1972]\tvalid_0's ER: 108.89\n",
      "Evaluated only: ER\n",
      "**************** tweedie ****************\n",
      "Training until validation scores don't improve for 71 rounds\n",
      "[100]\tvalid_0's ER: 113.98\n",
      "[200]\tvalid_0's ER: 112.6\n",
      "[300]\tvalid_0's ER: 111.18\n",
      "[400]\tvalid_0's ER: 110.58\n",
      "[500]\tvalid_0's ER: 110.01\n"
     ]
    },
    {
     "name": "stderr",
     "output_type": "stream",
     "text": [
      "[I 2023-12-21 16:48:30,419] Trial 4 finished with value: 110.0 and parameters: {'lambda_l1': 35.98432556943243, 'lambda_l2': 198.98239758732183, 'learning_rate': 0.2275273733229696, 'num_leaves': 965, 'feature_fraction': 0.27110967500761096, 'min_data_in_leaf': 7897}. Best is trial 2 with value: 105.67.\n"
     ]
    },
    {
     "name": "stdout",
     "output_type": "stream",
     "text": [
      "Early stopping, best iteration is:\n",
      "[504]\tvalid_0's ER: 110\n",
      "Evaluated only: ER\n",
      "**************** tweedie ****************\n",
      "Training until validation scores don't improve for 264 rounds\n",
      "[100]\tvalid_0's ER: 119.38\n",
      "[200]\tvalid_0's ER: 112.39\n",
      "[300]\tvalid_0's ER: 109.91\n",
      "[400]\tvalid_0's ER: 107.95\n",
      "[500]\tvalid_0's ER: 106.47\n",
      "[600]\tvalid_0's ER: 106.77\n",
      "[700]\tvalid_0's ER: 106\n",
      "[800]\tvalid_0's ER: 105\n",
      "[900]\tvalid_0's ER: 104.11\n",
      "[1000]\tvalid_0's ER: 103.55\n",
      "[1100]\tvalid_0's ER: 103.08\n",
      "[1200]\tvalid_0's ER: 102.4\n",
      "[1300]\tvalid_0's ER: 102.1\n",
      "[1400]\tvalid_0's ER: 101.7\n",
      "[1500]\tvalid_0's ER: 101.38\n",
      "[1600]\tvalid_0's ER: 101.19\n",
      "[1700]\tvalid_0's ER: 100.95\n",
      "[1800]\tvalid_0's ER: 100.77\n",
      "[1900]\tvalid_0's ER: 100.56\n",
      "[2000]\tvalid_0's ER: 100.36\n",
      "[2100]\tvalid_0's ER: 100.18\n",
      "[2200]\tvalid_0's ER: 99.99\n",
      "[2300]\tvalid_0's ER: 99.83\n",
      "[2400]\tvalid_0's ER: 99.65\n",
      "[2500]\tvalid_0's ER: 99.48\n",
      "[2600]\tvalid_0's ER: 99.32\n",
      "[2700]\tvalid_0's ER: 99.17\n",
      "[2800]\tvalid_0's ER: 99.1\n",
      "[2900]\tvalid_0's ER: 98.88\n",
      "[3000]\tvalid_0's ER: 98.82\n",
      "[3100]\tvalid_0's ER: 98.69\n",
      "[3200]\tvalid_0's ER: 98.59\n",
      "[3300]\tvalid_0's ER: 98.5\n",
      "[3400]\tvalid_0's ER: 98.34\n",
      "[3500]\tvalid_0's ER: 98.24\n",
      "[3600]\tvalid_0's ER: 98.06\n",
      "[3700]\tvalid_0's ER: 97.89\n",
      "[3800]\tvalid_0's ER: 97.65\n",
      "[3900]\tvalid_0's ER: 97.44\n",
      "[4000]\tvalid_0's ER: 97.28\n",
      "[4100]\tvalid_0's ER: 97.04\n",
      "[4200]\tvalid_0's ER: 96.85\n",
      "[4300]\tvalid_0's ER: 96.64\n",
      "[4400]\tvalid_0's ER: 96.37\n",
      "[4500]\tvalid_0's ER: 96.17\n",
      "[4600]\tvalid_0's ER: 95.95\n",
      "[4700]\tvalid_0's ER: 95.75\n",
      "[4800]\tvalid_0's ER: 95.58\n",
      "[4900]\tvalid_0's ER: 95.48\n",
      "[5000]\tvalid_0's ER: 95.33\n",
      "[5100]\tvalid_0's ER: 95.19\n",
      "[5200]\tvalid_0's ER: 95.08\n",
      "[5300]\tvalid_0's ER: 94.89\n",
      "[5400]\tvalid_0's ER: 94.72\n",
      "[5500]\tvalid_0's ER: 94.64\n",
      "[5600]\tvalid_0's ER: 94.55\n",
      "[5700]\tvalid_0's ER: 94.45\n",
      "[5800]\tvalid_0's ER: 94.36\n",
      "[5900]\tvalid_0's ER: 94.26\n",
      "[6000]\tvalid_0's ER: 94.23\n",
      "[6100]\tvalid_0's ER: 94.12\n",
      "[6200]\tvalid_0's ER: 94.03\n",
      "[6300]\tvalid_0's ER: 93.88\n",
      "[6400]\tvalid_0's ER: 93.81\n",
      "[6500]\tvalid_0's ER: 93.75\n",
      "[6600]\tvalid_0's ER: 93.67\n",
      "[6700]\tvalid_0's ER: 93.61\n",
      "[6800]\tvalid_0's ER: 93.54\n",
      "[6900]\tvalid_0's ER: 93.43\n",
      "[7000]\tvalid_0's ER: 93.37\n",
      "[7100]\tvalid_0's ER: 93.33\n",
      "[7200]\tvalid_0's ER: 93.21\n",
      "[7300]\tvalid_0's ER: 93.14\n",
      "[7400]\tvalid_0's ER: 93.07\n",
      "[7500]\tvalid_0's ER: 92.96\n",
      "[7600]\tvalid_0's ER: 92.86\n",
      "[7700]\tvalid_0's ER: 92.81\n",
      "[7800]\tvalid_0's ER: 92.75\n",
      "[7900]\tvalid_0's ER: 92.68\n",
      "[8000]\tvalid_0's ER: 92.59\n",
      "[8100]\tvalid_0's ER: 92.52\n",
      "[8200]\tvalid_0's ER: 92.5\n",
      "[8300]\tvalid_0's ER: 92.48\n",
      "[8400]\tvalid_0's ER: 92.41\n",
      "[8500]\tvalid_0's ER: 92.37\n",
      "[8600]\tvalid_0's ER: 92.31\n",
      "[8700]\tvalid_0's ER: 92.26\n",
      "[8800]\tvalid_0's ER: 92.21\n",
      "[8900]\tvalid_0's ER: 92.19\n",
      "[9000]\tvalid_0's ER: 92.19\n",
      "[9100]\tvalid_0's ER: 92.18\n",
      "[9200]\tvalid_0's ER: 92.13\n",
      "[9300]\tvalid_0's ER: 92.09\n",
      "[9400]\tvalid_0's ER: 92.09\n",
      "[9500]\tvalid_0's ER: 92.03\n",
      "[9600]\tvalid_0's ER: 92.07\n",
      "[9700]\tvalid_0's ER: 92.02\n",
      "[9800]\tvalid_0's ER: 92.03\n",
      "[9900]\tvalid_0's ER: 92.04\n",
      "[10000]\tvalid_0's ER: 92.01\n",
      "Did not meet early stopping. Best iteration is:\n",
      "[9750]\tvalid_0's ER: 91.99\n",
      "Evaluated only: ER\n"
     ]
    },
    {
     "name": "stderr",
     "output_type": "stream",
     "text": [
      "[I 2023-12-21 16:48:50,152] Trial 5 finished with value: 91.99 and parameters: {'lambda_l1': 14.301923633306735, 'lambda_l2': 673.5544549916301, 'learning_rate': 0.023289513474864423, 'num_leaves': 621, 'feature_fraction': 0.3763770638357185, 'min_data_in_leaf': 3602}. Best is trial 5 with value: 91.99.\n"
     ]
    },
    {
     "name": "stdout",
     "output_type": "stream",
     "text": [
      "**************** tweedie ****************\n",
      "Training until validation scores don't improve for 68 rounds\n"
     ]
    },
    {
     "name": "stderr",
     "output_type": "stream",
     "text": [
      "[I 2023-12-21 16:48:50,490] Trial 6 finished with value: 112.72 and parameters: {'lambda_l1': 157.2236001253219, 'lambda_l2': 547.8434907776012, 'learning_rate': 0.2690675595123613, 'num_leaves': 990, 'feature_fraction': 0.963418833436535, 'min_data_in_leaf': 5727}. Best is trial 5 with value: 91.99.\n"
     ]
    },
    {
     "name": "stdout",
     "output_type": "stream",
     "text": [
      "Early stopping, best iteration is:\n",
      "[17]\tvalid_0's ER: 112.72\n",
      "Evaluated only: ER\n",
      "**************** tweedie ****************\n",
      "Training until validation scores don't improve for 120 rounds\n",
      "[100]\tvalid_0's ER: 113.59\n",
      "[200]\tvalid_0's ER: 111.91\n"
     ]
    },
    {
     "name": "stderr",
     "output_type": "stream",
     "text": [
      "[I 2023-12-21 16:48:51,211] Trial 7 finished with value: 111.68 and parameters: {'lambda_l1': 542.3717056689045, 'lambda_l2': 126.82829496673831, 'learning_rate': 0.07060520098412353, 'num_leaves': 436, 'feature_fraction': 0.39348225866791187, 'min_data_in_leaf': 4774}. Best is trial 5 with value: 91.99.\n"
     ]
    },
    {
     "name": "stdout",
     "output_type": "stream",
     "text": [
      "[300]\tvalid_0's ER: 111.68\n",
      "Early stopping, best iteration is:\n",
      "[241]\tvalid_0's ER: 111.68\n",
      "Evaluated only: ER\n",
      "**************** tweedie ****************\n",
      "Training until validation scores don't improve for 102 rounds\n",
      "[100]\tvalid_0's ER: 113.19\n"
     ]
    },
    {
     "name": "stderr",
     "output_type": "stream",
     "text": [
      "[I 2023-12-21 16:48:51,846] Trial 8 finished with value: 112.96 and parameters: {'lambda_l1': 672.9247507702845, 'lambda_l2': 553.2694913946337, 'learning_rate': 0.09479833835709021, 'num_leaves': 783, 'feature_fraction': 0.8467959898813158, 'min_data_in_leaf': 4233}. Best is trial 5 with value: 91.99.\n"
     ]
    },
    {
     "name": "stdout",
     "output_type": "stream",
     "text": [
      "[200]\tvalid_0's ER: 113.04\n",
      "Early stopping, best iteration is:\n",
      "[110]\tvalid_0's ER: 112.96\n",
      "Evaluated only: ER\n",
      "**************** tweedie ****************\n",
      "Training until validation scores don't improve for 88 rounds\n",
      "[100]\tvalid_0's ER: 103.01\n",
      "[200]\tvalid_0's ER: 102.47\n"
     ]
    },
    {
     "name": "stderr",
     "output_type": "stream",
     "text": [
      "[I 2023-12-21 16:48:52,565] Trial 9 finished with value: 102.4 and parameters: {'lambda_l1': 89.07869730981166, 'lambda_l2': 676.4632640060988, 'learning_rate': 0.1302552153387451, 'num_leaves': 79, 'feature_fraction': 0.4820425769955061, 'min_data_in_leaf': 3472}. Best is trial 5 with value: 91.99.\n"
     ]
    },
    {
     "name": "stdout",
     "output_type": "stream",
     "text": [
      "Early stopping, best iteration is:\n",
      "[208]\tvalid_0's ER: 102.4\n",
      "Evaluated only: ER\n",
      "# Experimentos: 10\n",
      "Mejor experimento: {'lambda_l1': 14.301923633306735, 'lambda_l2': 673.5544549916301, 'learning_rate': 0.023289513474864423, 'num_leaves': 621, 'feature_fraction': 0.3763770638357185, 'min_data_in_leaf': 3602}\n",
      "=========================================== Cluster 34 ===========================================\n"
     ]
    },
    {
     "name": "stderr",
     "output_type": "stream",
     "text": [
      "[I 2023-12-21 16:48:54,842] A new study created in memory with name: no-name-7be83c6b-23d1-49be-b59a-8788344a0483\n"
     ]
    },
    {
     "name": "stdout",
     "output_type": "stream",
     "text": [
      "Periodos entrenar: [201701 201702 201703 201704 201705 201706 201707 201708 201709 201710\n",
      " 201711 201712 201801 201802 201803 201804 201805 201806 201807 201808\n",
      " 201809 201810 201811 201812 201901 201902 201903 201904 201905]\n",
      "Periodos validar: [201907]\n",
      "product_id a validar: 4640\n",
      "X_train: (71270, 120)\n",
      "y_train: (71270,)\n",
      "\n",
      "X_validate: (4640, 120)\n",
      "y_validate: (4640,)\n",
      "Optimizacion Bayesiana\n",
      "**************** tweedie ****************\n",
      "Training until validation scores don't improve for 83 rounds\n",
      "[100]\tvalid_0's ER: 76.45\n"
     ]
    },
    {
     "name": "stderr",
     "output_type": "stream",
     "text": [
      "[I 2023-12-21 16:48:56,735] Trial 0 finished with value: 76.45 and parameters: {'lambda_l1': 412.75855868513213, 'lambda_l2': 540.6232943033255, 'learning_rate': 0.14811310536639438, 'num_leaves': 221, 'feature_fraction': 0.6034340274345324, 'min_data_in_leaf': 7824}. Best is trial 0 with value: 76.45.\n"
     ]
    },
    {
     "name": "stdout",
     "output_type": "stream",
     "text": [
      "Early stopping, best iteration is:\n",
      "[91]\tvalid_0's ER: 76.45\n",
      "Evaluated only: ER\n",
      "**************** tweedie ****************\n",
      "Training until validation scores don't improve for 138 rounds\n",
      "[100]\tvalid_0's ER: 81.78\n",
      "[200]\tvalid_0's ER: 78.69\n",
      "[300]\tvalid_0's ER: 78.68\n"
     ]
    },
    {
     "name": "stderr",
     "output_type": "stream",
     "text": [
      "[I 2023-12-21 16:48:59,416] Trial 1 finished with value: 78.68 and parameters: {'lambda_l1': 671.1832203229717, 'lambda_l2': 82.54570334828593, 'learning_rate': 0.056506741969839555, 'num_leaves': 683, 'feature_fraction': 0.22840857176121993, 'min_data_in_leaf': 619}. Best is trial 0 with value: 76.45.\n"
     ]
    },
    {
     "name": "stdout",
     "output_type": "stream",
     "text": [
      "Early stopping, best iteration is:\n",
      "[209]\tvalid_0's ER: 78.68\n",
      "Evaluated only: ER\n",
      "**************** tweedie ****************\n",
      "Training until validation scores don't improve for 100 rounds\n",
      "[100]\tvalid_0's ER: 85.83\n"
     ]
    },
    {
     "name": "stderr",
     "output_type": "stream",
     "text": [
      "[I 2023-12-21 16:49:01,680] Trial 2 finished with value: 85.83 and parameters: {'lambda_l1': 859.8411866122209, 'lambda_l2': 348.68001291739756, 'learning_rate': 0.09873624412223302, 'num_leaves': 202, 'feature_fraction': 0.9410120963018374, 'min_data_in_leaf': 6132}. Best is trial 0 with value: 76.45.\n"
     ]
    },
    {
     "name": "stdout",
     "output_type": "stream",
     "text": [
      "Early stopping, best iteration is:\n",
      "[97]\tvalid_0's ER: 85.83\n",
      "Evaluated only: ER\n",
      "**************** tweedie ****************\n",
      "Training until validation scores don't improve for 212 rounds\n",
      "[100]\tvalid_0's ER: 104.19\n",
      "[200]\tvalid_0's ER: 89.92\n",
      "[300]\tvalid_0's ER: 87.41\n",
      "[400]\tvalid_0's ER: 86.64\n",
      "[500]\tvalid_0's ER: 86.35\n",
      "[600]\tvalid_0's ER: 86.18\n",
      "[700]\tvalid_0's ER: 86.11\n",
      "[800]\tvalid_0's ER: 86.04\n",
      "[900]\tvalid_0's ER: 86.04\n"
     ]
    },
    {
     "name": "stderr",
     "output_type": "stream",
     "text": [
      "[I 2023-12-21 16:49:06,811] Trial 3 finished with value: 86.04 and parameters: {'lambda_l1': 769.7919465620507, 'lambda_l2': 500.02568277986416, 'learning_rate': 0.03082982116122316, 'num_leaves': 198, 'feature_fraction': 0.2109694956583076, 'min_data_in_leaf': 7800}. Best is trial 0 with value: 76.45.\n"
     ]
    },
    {
     "name": "stdout",
     "output_type": "stream",
     "text": [
      "Early stopping, best iteration is:\n",
      "[770]\tvalid_0's ER: 86.04\n",
      "Evaluated only: ER\n",
      "**************** tweedie ****************\n",
      "Training until validation scores don't improve for 68 rounds\n",
      "[100]\tvalid_0's ER: 88.59\n"
     ]
    },
    {
     "name": "stderr",
     "output_type": "stream",
     "text": [
      "[I 2023-12-21 16:49:08,134] Trial 4 finished with value: 88.59 and parameters: {'lambda_l1': 928.0803102441336, 'lambda_l2': 489.94097656574775, 'learning_rate': 0.26705566982608253, 'num_leaves': 706, 'feature_fraction': 0.22802289086926733, 'min_data_in_leaf': 4374}. Best is trial 0 with value: 76.45.\n"
     ]
    },
    {
     "name": "stdout",
     "output_type": "stream",
     "text": [
      "Early stopping, best iteration is:\n",
      "[97]\tvalid_0's ER: 88.59\n",
      "Evaluated only: ER\n",
      "**************** tweedie ****************\n",
      "Training until validation scores don't improve for 68 rounds\n"
     ]
    },
    {
     "name": "stderr",
     "output_type": "stream",
     "text": [
      "[I 2023-12-21 16:49:09,756] Trial 5 finished with value: 72.67 and parameters: {'lambda_l1': 231.25711739748135, 'lambda_l2': 800.3317427881209, 'learning_rate': 0.27303477418402416, 'num_leaves': 944, 'feature_fraction': 0.6244593477390272, 'min_data_in_leaf': 1697}. Best is trial 5 with value: 72.67.\n"
     ]
    },
    {
     "name": "stdout",
     "output_type": "stream",
     "text": [
      "[100]\tvalid_0's ER: 72.71\n",
      "Early stopping, best iteration is:\n",
      "[56]\tvalid_0's ER: 72.67\n",
      "Evaluated only: ER\n",
      "**************** tweedie ****************\n",
      "Training until validation scores don't improve for 75 rounds\n",
      "[100]\tvalid_0's ER: 73.46\n"
     ]
    },
    {
     "name": "stderr",
     "output_type": "stream",
     "text": [
      "[I 2023-12-21 16:49:11,300] Trial 6 finished with value: 73.45 and parameters: {'lambda_l1': 223.0179841747063, 'lambda_l2': 774.257118770758, 'learning_rate': 0.19929089028520883, 'num_leaves': 37, 'feature_fraction': 0.4197944572114667, 'min_data_in_leaf': 5405}. Best is trial 5 with value: 72.67.\n"
     ]
    },
    {
     "name": "stdout",
     "output_type": "stream",
     "text": [
      "Early stopping, best iteration is:\n",
      "[87]\tvalid_0's ER: 73.44\n",
      "Evaluated only: ER\n",
      "**************** tweedie ****************\n",
      "Training until validation scores don't improve for 75 rounds\n",
      "[100]\tvalid_0's ER: 73\n"
     ]
    },
    {
     "name": "stderr",
     "output_type": "stream",
     "text": [
      "[I 2023-12-21 16:49:12,755] Trial 7 finished with value: 72.99 and parameters: {'lambda_l1': 163.16991417613002, 'lambda_l2': 746.5429274817924, 'learning_rate': 0.19997702451492205, 'num_leaves': 349, 'feature_fraction': 0.3076892876606776, 'min_data_in_leaf': 5325}. Best is trial 5 with value: 72.67.\n"
     ]
    },
    {
     "name": "stdout",
     "output_type": "stream",
     "text": [
      "Early stopping, best iteration is:\n",
      "[85]\tvalid_0's ER: 72.99\n",
      "Evaluated only: ER\n",
      "**************** tweedie ****************\n",
      "Training until validation scores don't improve for 98 rounds\n",
      "[100]\tvalid_0's ER: 85.77\n"
     ]
    },
    {
     "name": "stderr",
     "output_type": "stream",
     "text": [
      "[I 2023-12-21 16:49:15,028] Trial 8 finished with value: 85.77 and parameters: {'lambda_l1': 976.8171549815427, 'lambda_l2': 360.17099934682693, 'learning_rate': 0.10378531146097153, 'num_leaves': 155, 'feature_fraction': 0.5484275160682128, 'min_data_in_leaf': 219}. Best is trial 5 with value: 72.67.\n"
     ]
    },
    {
     "name": "stdout",
     "output_type": "stream",
     "text": [
      "Early stopping, best iteration is:\n",
      "[88]\tvalid_0's ER: 85.77\n",
      "Evaluated only: ER\n",
      "**************** tweedie ****************\n",
      "Training until validation scores don't improve for 223 rounds\n",
      "[100]\tvalid_0's ER: 95.53\n",
      "[200]\tvalid_0's ER: 78.73\n",
      "[300]\tvalid_0's ER: 74.78\n",
      "[400]\tvalid_0's ER: 73.52\n",
      "[500]\tvalid_0's ER: 73.38\n",
      "[600]\tvalid_0's ER: 73.38\n"
     ]
    },
    {
     "name": "stderr",
     "output_type": "stream",
     "text": [
      "[I 2023-12-21 16:49:21,616] Trial 9 finished with value: 73.37 and parameters: {'lambda_l1': 292.13803414729466, 'lambda_l2': 772.2210061709121, 'learning_rate': 0.02879192605869542, 'num_leaves': 924, 'feature_fraction': 0.7960492223365978, 'min_data_in_leaf': 2706}. Best is trial 5 with value: 72.67.\n"
     ]
    },
    {
     "name": "stdout",
     "output_type": "stream",
     "text": [
      "Early stopping, best iteration is:\n",
      "[429]\tvalid_0's ER: 73.37\n",
      "Evaluated only: ER\n",
      "# Experimentos: 10\n",
      "Mejor experimento: {'lambda_l1': 231.25711739748135, 'lambda_l2': 800.3317427881209, 'learning_rate': 0.27303477418402416, 'num_leaves': 944, 'feature_fraction': 0.6244593477390272, 'min_data_in_leaf': 1697}\n",
      "=========================================== Cluster 35 ===========================================\n",
      "Periodos entrenar: [201701 201702 201703 201704 201705 201706 201707 201708 201709 201710\n",
      " 201711 201712 201801 201802 201803 201804 201805 201806 201807 201808\n",
      " 201809 201810 201811 201812 201901 201902 201903 201904 201905]\n",
      "Periodos validar: [201907]\n",
      "product_id a validar: 26680\n"
     ]
    },
    {
     "name": "stderr",
     "output_type": "stream",
     "text": [
      "[I 2023-12-21 16:49:39,655] A new study created in memory with name: no-name-2cbda786-27e7-42f3-9424-96141f373a2c\n"
     ]
    },
    {
     "name": "stdout",
     "output_type": "stream",
     "text": [
      "X_train: (637732, 120)\n",
      "y_train: (637732,)\n",
      "\n",
      "X_validate: (26680, 120)\n",
      "y_validate: (26680,)\n",
      "Optimizacion Bayesiana\n",
      "**************** tweedie ****************\n",
      "Training until validation scores don't improve for 71 rounds\n",
      "[100]\tvalid_0's ER: 196.7\n"
     ]
    },
    {
     "name": "stderr",
     "output_type": "stream",
     "text": [
      "[I 2023-12-21 16:50:01,144] Trial 0 finished with value: 195.05 and parameters: {'lambda_l1': 128.43410153958578, 'lambda_l2': 150.6344348234795, 'learning_rate': 0.23429826407716653, 'num_leaves': 388, 'feature_fraction': 0.6673753434760272, 'min_data_in_leaf': 5144}. Best is trial 0 with value: 195.05.\n"
     ]
    },
    {
     "name": "stdout",
     "output_type": "stream",
     "text": [
      "Early stopping, best iteration is:\n",
      "[128]\tvalid_0's ER: 195.05\n",
      "Evaluated only: ER\n",
      "**************** tweedie ****************\n",
      "Training until validation scores don't improve for 115 rounds\n",
      "[100]\tvalid_0's ER: 192.17\n",
      "[200]\tvalid_0's ER: 188.16\n",
      "[300]\tvalid_0's ER: 188.85\n",
      "Early stopping, best iteration is:\n",
      "[261]\tvalid_0's ER: 186.89\n",
      "Evaluated only: ER\n"
     ]
    },
    {
     "name": "stderr",
     "output_type": "stream",
     "text": [
      "[I 2023-12-21 16:50:25,899] Trial 1 finished with value: 186.89 and parameters: {'lambda_l1': 185.46164654972574, 'lambda_l2': 224.8203461061309, 'learning_rate': 0.07681481235288458, 'num_leaves': 974, 'feature_fraction': 0.24417299695223457, 'min_data_in_leaf': 2303}. Best is trial 1 with value: 186.89.\n"
     ]
    },
    {
     "name": "stdout",
     "output_type": "stream",
     "text": [
      "**************** tweedie ****************\n",
      "Training until validation scores don't improve for 66 rounds\n",
      "[100]\tvalid_0's ER: 195.25\n",
      "[200]\tvalid_0's ER: 185.9\n",
      "[300]\tvalid_0's ER: 180.33\n",
      "Early stopping, best iteration is:\n",
      "[276]\tvalid_0's ER: 178.53\n",
      "Evaluated only: ER\n"
     ]
    },
    {
     "name": "stderr",
     "output_type": "stream",
     "text": [
      "[I 2023-12-21 16:50:58,168] Trial 2 finished with value: 178.53 and parameters: {'lambda_l1': 59.57567764452798, 'lambda_l2': 224.09498951493677, 'learning_rate': 0.2949791330520994, 'num_leaves': 333, 'feature_fraction': 0.47165982988919075, 'min_data_in_leaf': 2369}. Best is trial 2 with value: 178.53.\n"
     ]
    },
    {
     "name": "stdout",
     "output_type": "stream",
     "text": [
      "**************** tweedie ****************\n",
      "Training until validation scores don't improve for 138 rounds\n",
      "[100]\tvalid_0's ER: 208.47\n",
      "[200]\tvalid_0's ER: 200.82\n",
      "[300]\tvalid_0's ER: 202.09\n"
     ]
    },
    {
     "name": "stderr",
     "output_type": "stream",
     "text": [
      "[I 2023-12-21 16:51:15,902] Trial 3 finished with value: 199.59 and parameters: {'lambda_l1': 599.1543387696366, 'lambda_l2': 83.43934743265868, 'learning_rate': 0.056618861755284244, 'num_leaves': 722, 'feature_fraction': 0.28833486312930073, 'min_data_in_leaf': 5820}. Best is trial 2 with value: 178.53.\n"
     ]
    },
    {
     "name": "stdout",
     "output_type": "stream",
     "text": [
      "Early stopping, best iteration is:\n",
      "[188]\tvalid_0's ER: 199.59\n",
      "Evaluated only: ER\n",
      "**************** tweedie ****************\n",
      "Training until validation scores don't improve for 68 rounds\n"
     ]
    },
    {
     "name": "stderr",
     "output_type": "stream",
     "text": [
      "[I 2023-12-21 16:51:27,535] Trial 4 finished with value: 256.65 and parameters: {'lambda_l1': 504.81036620453966, 'lambda_l2': 517.7597921568961, 'learning_rate': 0.2634385770871542, 'num_leaves': 589, 'feature_fraction': 0.915498633902232, 'min_data_in_leaf': 1502}. Best is trial 2 with value: 178.53.\n"
     ]
    },
    {
     "name": "stdout",
     "output_type": "stream",
     "text": [
      "Early stopping, best iteration is:\n",
      "[20]\tvalid_0's ER: 256.65\n",
      "Evaluated only: ER\n",
      "**************** tweedie ****************\n",
      "Training until validation scores don't improve for 67 rounds\n"
     ]
    },
    {
     "name": "stderr",
     "output_type": "stream",
     "text": [
      "[I 2023-12-21 16:51:37,791] Trial 5 finished with value: 297.82 and parameters: {'lambda_l1': 879.9939542233128, 'lambda_l2': 702.9163328566759, 'learning_rate': 0.28104988268152736, 'num_leaves': 495, 'feature_fraction': 0.8759056611194564, 'min_data_in_leaf': 1828}. Best is trial 2 with value: 178.53.\n"
     ]
    },
    {
     "name": "stdout",
     "output_type": "stream",
     "text": [
      "Early stopping, best iteration is:\n",
      "[27]\tvalid_0's ER: 297.82\n",
      "Evaluated only: ER\n",
      "**************** tweedie ****************\n",
      "Training until validation scores don't improve for 83 rounds\n",
      "[100]\tvalid_0's ER: 197.33\n",
      "[200]\tvalid_0's ER: 193.64\n"
     ]
    },
    {
     "name": "stderr",
     "output_type": "stream",
     "text": [
      "[I 2023-12-21 16:51:53,170] Trial 6 finished with value: 193.13 and parameters: {'lambda_l1': 134.93991590880427, 'lambda_l2': 78.99346709622279, 'learning_rate': 0.14941456539751902, 'num_leaves': 917, 'feature_fraction': 0.24637287904991123, 'min_data_in_leaf': 6311}. Best is trial 2 with value: 178.53.\n"
     ]
    },
    {
     "name": "stdout",
     "output_type": "stream",
     "text": [
      "Early stopping, best iteration is:\n",
      "[180]\tvalid_0's ER: 193.13\n",
      "Evaluated only: ER\n",
      "**************** tweedie ****************\n",
      "Training until validation scores don't improve for 68 rounds\n",
      "[100]\tvalid_0's ER: 280.93\n"
     ]
    },
    {
     "name": "stderr",
     "output_type": "stream",
     "text": [
      "[I 2023-12-21 16:52:04,345] Trial 7 finished with value: 265.86 and parameters: {'lambda_l1': 688.279204668837, 'lambda_l2': 546.0961418862901, 'learning_rate': 0.2686324302382114, 'num_leaves': 376, 'feature_fraction': 0.6586589624769942, 'min_data_in_leaf': 1717}. Best is trial 2 with value: 178.53.\n"
     ]
    },
    {
     "name": "stdout",
     "output_type": "stream",
     "text": [
      "Early stopping, best iteration is:\n",
      "[37]\tvalid_0's ER: 265.86\n",
      "Evaluated only: ER\n",
      "**************** tweedie ****************\n",
      "Training until validation scores don't improve for 134 rounds\n",
      "[100]\tvalid_0's ER: 224.39\n",
      "[200]\tvalid_0's ER: 213.72\n",
      "[300]\tvalid_0's ER: 213.73\n"
     ]
    },
    {
     "name": "stderr",
     "output_type": "stream",
     "text": [
      "[I 2023-12-21 16:52:30,819] Trial 8 finished with value: 213.45 and parameters: {'lambda_l1': 923.7051808476789, 'lambda_l2': 94.4996129597222, 'learning_rate': 0.05948489798456048, 'num_leaves': 399, 'feature_fraction': 0.607850711428356, 'min_data_in_leaf': 7810}. Best is trial 2 with value: 178.53.\n"
     ]
    },
    {
     "name": "stdout",
     "output_type": "stream",
     "text": [
      "Early stopping, best iteration is:\n",
      "[192]\tvalid_0's ER: 213.45\n",
      "Evaluated only: ER\n",
      "**************** tweedie ****************\n",
      "Training until validation scores don't improve for 163 rounds\n",
      "[100]\tvalid_0's ER: 251.07\n",
      "[200]\tvalid_0's ER: 243.43\n",
      "[300]\tvalid_0's ER: 243.83\n"
     ]
    },
    {
     "name": "stderr",
     "output_type": "stream",
     "text": [
      "[I 2023-12-21 16:53:01,670] Trial 9 finished with value: 240.72 and parameters: {'lambda_l1': 969.4813400345774, 'lambda_l2': 263.15006076139724, 'learning_rate': 0.043870448625572954, 'num_leaves': 719, 'feature_fraction': 0.8880798206054961, 'min_data_in_leaf': 2911}. Best is trial 2 with value: 178.53.\n"
     ]
    },
    {
     "name": "stdout",
     "output_type": "stream",
     "text": [
      "Early stopping, best iteration is:\n",
      "[161]\tvalid_0's ER: 240.72\n",
      "Evaluated only: ER\n",
      "# Experimentos: 10\n",
      "Mejor experimento: {'lambda_l1': 59.57567764452798, 'lambda_l2': 224.09498951493677, 'learning_rate': 0.2949791330520994, 'num_leaves': 333, 'feature_fraction': 0.47165982988919075, 'min_data_in_leaf': 2369}\n",
      "=========================================== Cluster 36 ===========================================\n"
     ]
    },
    {
     "name": "stderr",
     "output_type": "stream",
     "text": [
      "[I 2023-12-21 16:53:04,752] A new study created in memory with name: no-name-6885a10f-83d2-4654-bd93-624dc071298a\n"
     ]
    },
    {
     "name": "stdout",
     "output_type": "stream",
     "text": [
      "Periodos entrenar: [201701 201702 201703 201704 201705 201706 201707 201708 201709 201710\n",
      " 201711 201712 201801 201802 201803 201804 201805 201806 201807 201808\n",
      " 201809 201810 201811 201812 201901 201902 201903 201904 201905]\n",
      "Periodos validar: [201907]\n",
      "product_id a validar: 6380\n",
      "X_train: (97937, 120)\n",
      "y_train: (97937,)\n",
      "\n",
      "X_validate: (6380, 120)\n",
      "y_validate: (6380,)\n",
      "Optimizacion Bayesiana\n",
      "**************** tweedie ****************\n",
      "Training until validation scores don't improve for 67 rounds\n",
      "[100]\tvalid_0's ER: 95.46\n"
     ]
    },
    {
     "name": "stderr",
     "output_type": "stream",
     "text": [
      "[I 2023-12-21 16:53:06,455] Trial 0 finished with value: 95.48 and parameters: {'lambda_l1': 294.1428554131031, 'lambda_l2': 77.177489166385, 'learning_rate': 0.2847112081220276, 'num_leaves': 769, 'feature_fraction': 0.24181009802880357, 'min_data_in_leaf': 4476}. Best is trial 0 with value: 95.48.\n"
     ]
    },
    {
     "name": "stdout",
     "output_type": "stream",
     "text": [
      "Early stopping, best iteration is:\n",
      "[74]\tvalid_0's ER: 95.15\n",
      "Evaluated only: ER\n",
      "**************** tweedie ****************\n",
      "Training until validation scores don't improve for 131 rounds\n",
      "[100]\tvalid_0's ER: 109.26\n",
      "[200]\tvalid_0's ER: 106.47\n"
     ]
    },
    {
     "name": "stderr",
     "output_type": "stream",
     "text": [
      "[I 2023-12-21 16:53:11,496] Trial 1 finished with value: 106.41 and parameters: {'lambda_l1': 864.6857622703019, 'lambda_l2': 910.7718579026464, 'learning_rate': 0.06107074129675372, 'num_leaves': 460, 'feature_fraction': 0.7200168332327721, 'min_data_in_leaf': 1381}. Best is trial 0 with value: 95.48.\n"
     ]
    },
    {
     "name": "stdout",
     "output_type": "stream",
     "text": [
      "[300]\tvalid_0's ER: 106.47\n",
      "Early stopping, best iteration is:\n",
      "[181]\tvalid_0's ER: 106.41\n",
      "Evaluated only: ER\n",
      "**************** tweedie ****************\n",
      "Training until validation scores don't improve for 105 rounds\n",
      "[100]\tvalid_0's ER: 109.81\n",
      "[200]\tvalid_0's ER: 109.64\n"
     ]
    },
    {
     "name": "stderr",
     "output_type": "stream",
     "text": [
      "[I 2023-12-21 16:53:14,088] Trial 2 finished with value: 109.53 and parameters: {'lambda_l1': 988.2545426899353, 'lambda_l2': 588.2592264687299, 'learning_rate': 0.09051090979385597, 'num_leaves': 92, 'feature_fraction': 0.38790251371601364, 'min_data_in_leaf': 5871}. Best is trial 0 with value: 95.48.\n"
     ]
    },
    {
     "name": "stdout",
     "output_type": "stream",
     "text": [
      "Early stopping, best iteration is:\n",
      "[123]\tvalid_0's ER: 109.46\n",
      "Evaluated only: ER\n",
      "**************** tweedie ****************\n",
      "Training until validation scores don't improve for 117 rounds\n",
      "[100]\tvalid_0's ER: 100.85\n",
      "[200]\tvalid_0's ER: 97.91\n"
     ]
    },
    {
     "name": "stderr",
     "output_type": "stream",
     "text": [
      "[I 2023-12-21 16:53:17,787] Trial 3 finished with value: 97.68 and parameters: {'lambda_l1': 396.05428782344154, 'lambda_l2': 757.3045719467463, 'learning_rate': 0.07423004473913836, 'num_leaves': 985, 'feature_fraction': 0.44387052299318586, 'min_data_in_leaf': 1641}. Best is trial 0 with value: 95.48.\n"
     ]
    },
    {
     "name": "stdout",
     "output_type": "stream",
     "text": [
      "Early stopping, best iteration is:\n",
      "[174]\tvalid_0's ER: 97.68\n",
      "Evaluated only: ER\n",
      "**************** tweedie ****************\n",
      "Training until validation scores don't improve for 145 rounds\n",
      "[100]\tvalid_0's ER: 106.24\n",
      "[200]\tvalid_0's ER: 98.8\n",
      "[300]\tvalid_0's ER: 97.09\n",
      "[400]\tvalid_0's ER: 96.98\n",
      "[500]\tvalid_0's ER: 96.93\n",
      "[600]\tvalid_0's ER: 96.91\n",
      "[700]\tvalid_0's ER: 96.91\n",
      "Early stopping, best iteration is:\n",
      "[588]\tvalid_0's ER: 96.89\n",
      "Evaluated only: ER\n"
     ]
    },
    {
     "name": "stderr",
     "output_type": "stream",
     "text": [
      "[I 2023-12-21 16:53:23,375] Trial 4 finished with value: 96.91 and parameters: {'lambda_l1': 304.12491884931705, 'lambda_l2': 826.7205852438788, 'learning_rate': 0.05250251237543755, 'num_leaves': 918, 'feature_fraction': 0.22429466943617485, 'min_data_in_leaf': 7375}. Best is trial 0 with value: 95.48.\n"
     ]
    },
    {
     "name": "stdout",
     "output_type": "stream",
     "text": [
      "**************** tweedie ****************\n",
      "Training until validation scores don't improve for 75 rounds\n"
     ]
    },
    {
     "name": "stderr",
     "output_type": "stream",
     "text": [
      "[I 2023-12-21 16:53:25,337] Trial 5 finished with value: 105.96 and parameters: {'lambda_l1': 807.104003423305, 'lambda_l2': 76.3220307705631, 'learning_rate': 0.19851422789992404, 'num_leaves': 785, 'feature_fraction': 0.851942308205903, 'min_data_in_leaf': 2036}. Best is trial 0 with value: 95.48.\n"
     ]
    },
    {
     "name": "stdout",
     "output_type": "stream",
     "text": [
      "[100]\tvalid_0's ER: 106.32\n",
      "Early stopping, best iteration is:\n",
      "[32]\tvalid_0's ER: 105.96\n",
      "Evaluated only: ER\n",
      "**************** tweedie ****************\n",
      "Training until validation scores don't improve for 74 rounds\n"
     ]
    },
    {
     "name": "stderr",
     "output_type": "stream",
     "text": [
      "[I 2023-12-21 16:53:27,108] Trial 6 finished with value: 108.09 and parameters: {'lambda_l1': 867.6615783739915, 'lambda_l2': 91.4511176795495, 'learning_rate': 0.20244360649152582, 'num_leaves': 696, 'feature_fraction': 0.9297994107856529, 'min_data_in_leaf': 7818}. Best is trial 0 with value: 95.48.\n"
     ]
    },
    {
     "name": "stdout",
     "output_type": "stream",
     "text": [
      "[100]\tvalid_0's ER: 108.21\n",
      "Early stopping, best iteration is:\n",
      "[31]\tvalid_0's ER: 108.09\n",
      "Evaluated only: ER\n",
      "**************** tweedie ****************\n",
      "Training until validation scores don't improve for 73 rounds\n"
     ]
    },
    {
     "name": "stderr",
     "output_type": "stream",
     "text": [
      "[I 2023-12-21 16:53:28,978] Trial 7 finished with value: 104.32 and parameters: {'lambda_l1': 609.0439125225859, 'lambda_l2': 95.12255094340082, 'learning_rate': 0.21393522682111776, 'num_leaves': 881, 'feature_fraction': 0.6183064872501041, 'min_data_in_leaf': 6872}. Best is trial 0 with value: 95.48.\n"
     ]
    },
    {
     "name": "stdout",
     "output_type": "stream",
     "text": [
      "[100]\tvalid_0's ER: 104.42\n",
      "Early stopping, best iteration is:\n",
      "[37]\tvalid_0's ER: 104.32\n",
      "Evaluated only: ER\n",
      "**************** tweedie ****************\n",
      "Training until validation scores don't improve for 73 rounds\n"
     ]
    },
    {
     "name": "stderr",
     "output_type": "stream",
     "text": [
      "[I 2023-12-21 16:53:30,745] Trial 8 finished with value: 99.21 and parameters: {'lambda_l1': 427.89574533830734, 'lambda_l2': 253.53871146267392, 'learning_rate': 0.20951680296304948, 'num_leaves': 664, 'feature_fraction': 0.467482371077094, 'min_data_in_leaf': 2364}. Best is trial 0 with value: 95.48.\n"
     ]
    },
    {
     "name": "stdout",
     "output_type": "stream",
     "text": [
      "[100]\tvalid_0's ER: 99.48\n",
      "Early stopping, best iteration is:\n",
      "[41]\tvalid_0's ER: 99.21\n",
      "Evaluated only: ER\n",
      "**************** tweedie ****************\n",
      "Training until validation scores don't improve for 68 rounds\n"
     ]
    },
    {
     "name": "stderr",
     "output_type": "stream",
     "text": [
      "[I 2023-12-21 16:53:32,452] Trial 9 finished with value: 109.02 and parameters: {'lambda_l1': 864.1454318007718, 'lambda_l2': 793.6663882858138, 'learning_rate': 0.26891317851013796, 'num_leaves': 212, 'feature_fraction': 0.7557106223650238, 'min_data_in_leaf': 5470}. Best is trial 0 with value: 95.48.\n"
     ]
    },
    {
     "name": "stdout",
     "output_type": "stream",
     "text": [
      "[100]\tvalid_0's ER: 109.09\n",
      "Early stopping, best iteration is:\n",
      "[32]\tvalid_0's ER: 109.02\n",
      "Evaluated only: ER\n",
      "# Experimentos: 10\n",
      "Mejor experimento: {'lambda_l1': 294.1428554131031, 'lambda_l2': 77.177489166385, 'learning_rate': 0.2847112081220276, 'num_leaves': 769, 'feature_fraction': 0.24181009802880357, 'min_data_in_leaf': 4476}\n",
      "=========================================== Cluster 37 ===========================================\n"
     ]
    },
    {
     "name": "stderr",
     "output_type": "stream",
     "text": [
      "[I 2023-12-21 16:53:41,581] A new study created in memory with name: no-name-af58cbf6-daa3-4e67-a43a-e0789e39ab9e\n"
     ]
    },
    {
     "name": "stdout",
     "output_type": "stream",
     "text": [
      "Periodos entrenar: [201701 201702 201703 201704 201705 201706 201707 201708 201709 201710\n",
      " 201711 201712 201801 201802 201803 201804 201805 201806 201807 201808\n",
      " 201809 201810 201811 201812 201901 201902 201903 201904 201905]\n",
      "Periodos validar: [201907]\n",
      "product_id a validar: 12180\n",
      "X_train: (324597, 120)\n",
      "y_train: (324597,)\n",
      "\n",
      "X_validate: (12180, 120)\n",
      "y_validate: (12180,)\n",
      "Optimizacion Bayesiana\n",
      "**************** tweedie ****************\n",
      "Training until validation scores don't improve for 74 rounds\n",
      "[100]\tvalid_0's ER: 108.25\n"
     ]
    },
    {
     "name": "stderr",
     "output_type": "stream",
     "text": [
      "[I 2023-12-21 16:53:48,928] Trial 0 finished with value: 108.25 and parameters: {'lambda_l1': 619.0934414870402, 'lambda_l2': 177.57353827562093, 'learning_rate': 0.20358893759876387, 'num_leaves': 123, 'feature_fraction': 0.812441309426212, 'min_data_in_leaf': 6864}. Best is trial 0 with value: 108.25.\n"
     ]
    },
    {
     "name": "stdout",
     "output_type": "stream",
     "text": [
      "Early stopping, best iteration is:\n",
      "[57]\tvalid_0's ER: 108.25\n",
      "Evaluated only: ER\n",
      "**************** tweedie ****************\n",
      "Training until validation scores don't improve for 68 rounds\n",
      "[100]\tvalid_0's ER: 103.67\n",
      "[200]\tvalid_0's ER: 102.54\n"
     ]
    },
    {
     "name": "stderr",
     "output_type": "stream",
     "text": [
      "[I 2023-12-21 16:53:56,658] Trial 1 finished with value: 102.09 and parameters: {'lambda_l1': 91.0364063374054, 'lambda_l2': 503.9276402341442, 'learning_rate': 0.2728054437574059, 'num_leaves': 570, 'feature_fraction': 0.29308280714354906, 'min_data_in_leaf': 5255}. Best is trial 1 with value: 102.09.\n"
     ]
    },
    {
     "name": "stdout",
     "output_type": "stream",
     "text": [
      "Early stopping, best iteration is:\n",
      "[147]\tvalid_0's ER: 102.09\n",
      "Evaluated only: ER\n",
      "**************** tweedie ****************\n",
      "Training until validation scores don't improve for 69 rounds\n",
      "[100]\tvalid_0's ER: 106.07\n"
     ]
    },
    {
     "name": "stderr",
     "output_type": "stream",
     "text": [
      "[I 2023-12-21 16:54:02,304] Trial 2 finished with value: 106.07 and parameters: {'lambda_l1': 681.4247859384137, 'lambda_l2': 313.5921269075339, 'learning_rate': 0.2593171187531439, 'num_leaves': 948, 'feature_fraction': 0.7470056244361822, 'min_data_in_leaf': 6134}. Best is trial 1 with value: 102.09.\n"
     ]
    },
    {
     "name": "stdout",
     "output_type": "stream",
     "text": [
      "Early stopping, best iteration is:\n",
      "[44]\tvalid_0's ER: 106.07\n",
      "Evaluated only: ER\n",
      "**************** tweedie ****************\n",
      "Training until validation scores don't improve for 67 rounds\n",
      "[100]\tvalid_0's ER: 99.51\n"
     ]
    },
    {
     "name": "stderr",
     "output_type": "stream",
     "text": [
      "[I 2023-12-21 16:54:09,771] Trial 3 finished with value: 98.92 and parameters: {'lambda_l1': 283.66482242098056, 'lambda_l2': 91.37899594389964, 'learning_rate': 0.27848251523945355, 'num_leaves': 88, 'feature_fraction': 0.8493922664706843, 'min_data_in_leaf': 1284}. Best is trial 3 with value: 98.92.\n"
     ]
    },
    {
     "name": "stdout",
     "output_type": "stream",
     "text": [
      "Early stopping, best iteration is:\n",
      "[56]\tvalid_0's ER: 98.92\n",
      "Evaluated only: ER\n",
      "**************** tweedie ****************\n",
      "Training until validation scores don't improve for 67 rounds\n",
      "[100]\tvalid_0's ER: 92.04\n",
      "Early stopping, best iteration is:\n",
      "[39]\tvalid_0's ER: 92.03\n",
      "Evaluated only: ER\n"
     ]
    },
    {
     "name": "stderr",
     "output_type": "stream",
     "text": [
      "[I 2023-12-21 16:54:18,681] Trial 4 finished with value: 92.03 and parameters: {'lambda_l1': 568.6557821846138, 'lambda_l2': 830.4415300922012, 'learning_rate': 0.28793004073161393, 'num_leaves': 555, 'feature_fraction': 0.7397552235397986, 'min_data_in_leaf': 116}. Best is trial 4 with value: 92.03.\n"
     ]
    },
    {
     "name": "stdout",
     "output_type": "stream",
     "text": [
      "**************** tweedie ****************\n",
      "Training until validation scores don't improve for 354 rounds\n",
      "[100]\tvalid_0's ER: 311\n",
      "[200]\tvalid_0's ER: 155.91\n",
      "[300]\tvalid_0's ER: 123.84\n",
      "[400]\tvalid_0's ER: 115.27\n",
      "[500]\tvalid_0's ER: 111.06\n",
      "[600]\tvalid_0's ER: 109.13\n",
      "[700]\tvalid_0's ER: 107.85\n",
      "[800]\tvalid_0's ER: 107.75\n",
      "[900]\tvalid_0's ER: 107.75\n",
      "[1000]\tvalid_0's ER: 107.75\n"
     ]
    },
    {
     "name": "stderr",
     "output_type": "stream",
     "text": [
      "[I 2023-12-21 16:55:04,378] Trial 5 finished with value: 107.75 and parameters: {'lambda_l1': 689.1426014629661, 'lambda_l2': 423.17255176076463, 'learning_rate': 0.016428711008874816, 'num_leaves': 651, 'feature_fraction': 0.7457956007285971, 'min_data_in_leaf': 5564}. Best is trial 4 with value: 92.03.\n"
     ]
    },
    {
     "name": "stdout",
     "output_type": "stream",
     "text": [
      "Early stopping, best iteration is:\n",
      "[718]\tvalid_0's ER: 107.75\n",
      "Evaluated only: ER\n",
      "**************** tweedie ****************\n",
      "Training until validation scores don't improve for 74 rounds\n",
      "[100]\tvalid_0's ER: 109.19\n"
     ]
    },
    {
     "name": "stderr",
     "output_type": "stream",
     "text": [
      "[I 2023-12-21 16:55:10,818] Trial 6 finished with value: 109.19 and parameters: {'lambda_l1': 586.7142974507944, 'lambda_l2': 219.40651452791394, 'learning_rate': 0.20237809611320148, 'num_leaves': 896, 'feature_fraction': 0.9465662991594814, 'min_data_in_leaf': 6307}. Best is trial 4 with value: 92.03.\n"
     ]
    },
    {
     "name": "stdout",
     "output_type": "stream",
     "text": [
      "Early stopping, best iteration is:\n",
      "[55]\tvalid_0's ER: 109.19\n",
      "Evaluated only: ER\n",
      "**************** tweedie ****************\n",
      "Training until validation scores don't improve for 262 rounds\n",
      "[100]\tvalid_0's ER: 224.77\n",
      "[200]\tvalid_0's ER: 128.42\n",
      "[300]\tvalid_0's ER: 114.24\n",
      "[400]\tvalid_0's ER: 109.5\n",
      "[500]\tvalid_0's ER: 107.09\n",
      "[600]\tvalid_0's ER: 106.86\n",
      "[700]\tvalid_0's ER: 106.87\n",
      "Early stopping, best iteration is:\n",
      "[531]\tvalid_0's ER: 106.84\n",
      "Evaluated only: ER\n"
     ]
    },
    {
     "name": "stderr",
     "output_type": "stream",
     "text": [
      "[I 2023-12-21 16:55:47,479] Trial 7 finished with value: 106.84 and parameters: {'lambda_l1': 734.7216852192349, 'lambda_l2': 871.3191172120341, 'learning_rate': 0.02356445661086757, 'num_leaves': 554, 'feature_fraction': 0.6593296608678549, 'min_data_in_leaf': 1953}. Best is trial 4 with value: 92.03.\n"
     ]
    },
    {
     "name": "stdout",
     "output_type": "stream",
     "text": [
      "**************** tweedie ****************\n",
      "Training until validation scores don't improve for 88 rounds\n",
      "[100]\tvalid_0's ER: 108.42\n"
     ]
    },
    {
     "name": "stderr",
     "output_type": "stream",
     "text": [
      "[I 2023-12-21 16:55:56,937] Trial 8 finished with value: 108.39 and parameters: {'lambda_l1': 711.0373286495886, 'lambda_l2': 933.0886546666018, 'learning_rate': 0.13038737396971262, 'num_leaves': 862, 'feature_fraction': 0.8609271178016811, 'min_data_in_leaf': 1616}. Best is trial 4 with value: 92.03.\n"
     ]
    },
    {
     "name": "stdout",
     "output_type": "stream",
     "text": [
      "Early stopping, best iteration is:\n",
      "[90]\tvalid_0's ER: 108.39\n",
      "Evaluated only: ER\n",
      "**************** tweedie ****************\n",
      "Training until validation scores don't improve for 68 rounds\n",
      "[100]\tvalid_0's ER: 104.34\n"
     ]
    },
    {
     "name": "stderr",
     "output_type": "stream",
     "text": [
      "[I 2023-12-21 16:56:01,354] Trial 9 finished with value: 104.33 and parameters: {'lambda_l1': 768.8780236359343, 'lambda_l2': 253.91115050460277, 'learning_rate': 0.26856012703721116, 'num_leaves': 375, 'feature_fraction': 0.2098536671435568, 'min_data_in_leaf': 6503}. Best is trial 4 with value: 92.03.\n"
     ]
    },
    {
     "name": "stdout",
     "output_type": "stream",
     "text": [
      "Early stopping, best iteration is:\n",
      "[89]\tvalid_0's ER: 104.3\n",
      "Evaluated only: ER\n",
      "# Experimentos: 10\n",
      "Mejor experimento: {'lambda_l1': 568.6557821846138, 'lambda_l2': 830.4415300922012, 'learning_rate': 0.28793004073161393, 'num_leaves': 555, 'feature_fraction': 0.7397552235397986, 'min_data_in_leaf': 116}\n",
      "=========================================== Cluster 38 ===========================================\n"
     ]
    },
    {
     "name": "stderr",
     "output_type": "stream",
     "text": [
      "[I 2023-12-21 16:56:02,389] A new study created in memory with name: no-name-e62a3b0b-3e11-48fa-ba2e-1ea245065b8e\n"
     ]
    },
    {
     "name": "stdout",
     "output_type": "stream",
     "text": [
      "Periodos entrenar: [201805 201806 201807 201808 201809 201810 201811 201812 201901 201902\n",
      " 201903 201904 201905 201701 201702 201703 201704 201705 201706 201707\n",
      " 201708 201709 201710 201711 201712 201801 201802 201803 201804]\n",
      "Periodos validar: [201907]\n",
      "product_id a validar: 1740\n",
      "X_train: (28280, 120)\n",
      "y_train: (28280,)\n",
      "\n",
      "X_validate: (1740, 120)\n",
      "y_validate: (1740,)\n",
      "Optimizacion Bayesiana\n",
      "**************** tweedie ****************\n",
      "Training until validation scores don't improve for 72 rounds\n",
      "[100]\tvalid_0's ER: 90.4\n",
      "[200]\tvalid_0's ER: 90.06\n"
     ]
    },
    {
     "name": "stderr",
     "output_type": "stream",
     "text": [
      "[I 2023-12-21 16:56:03,076] Trial 0 finished with value: 90.06 and parameters: {'lambda_l1': 715.8296546785942, 'lambda_l2': 912.0599442437352, 'learning_rate': 0.22060891915551759, 'num_leaves': 722, 'feature_fraction': 0.2531206996953548, 'min_data_in_leaf': 5371}. Best is trial 0 with value: 90.06.\n"
     ]
    },
    {
     "name": "stdout",
     "output_type": "stream",
     "text": [
      "Early stopping, best iteration is:\n",
      "[158]\tvalid_0's ER: 90.06\n",
      "Evaluated only: ER\n",
      "**************** tweedie ****************\n",
      "Training until validation scores don't improve for 71 rounds\n"
     ]
    },
    {
     "name": "stderr",
     "output_type": "stream",
     "text": [
      "[I 2023-12-21 16:56:03,667] Trial 1 finished with value: 78.29 and parameters: {'lambda_l1': 414.4667673682527, 'lambda_l2': 55.77883056648225, 'learning_rate': 0.23665539949848516, 'num_leaves': 196, 'feature_fraction': 0.40315087883178874, 'min_data_in_leaf': 767}. Best is trial 1 with value: 78.29.\n"
     ]
    },
    {
     "name": "stdout",
     "output_type": "stream",
     "text": [
      "[100]\tvalid_0's ER: 78.29\n",
      "Early stopping, best iteration is:\n",
      "[67]\tvalid_0's ER: 78.29\n",
      "Evaluated only: ER\n",
      "**************** tweedie ****************\n",
      "Training until validation scores don't improve for 66 rounds\n"
     ]
    },
    {
     "name": "stderr",
     "output_type": "stream",
     "text": [
      "[I 2023-12-21 16:56:04,297] Trial 2 finished with value: 85.53 and parameters: {'lambda_l1': 576.310577123576, 'lambda_l2': 831.7147274232244, 'learning_rate': 0.29468211644222797, 'num_leaves': 767, 'feature_fraction': 0.5725673571112303, 'min_data_in_leaf': 4180}. Best is trial 1 with value: 78.29.\n"
     ]
    },
    {
     "name": "stdout",
     "output_type": "stream",
     "text": [
      "[100]\tvalid_0's ER: 85.53\n",
      "Early stopping, best iteration is:\n",
      "[62]\tvalid_0's ER: 85.53\n",
      "Evaluated only: ER\n",
      "**************** tweedie ****************\n",
      "Training until validation scores don't improve for 69 rounds\n"
     ]
    },
    {
     "name": "stderr",
     "output_type": "stream",
     "text": [
      "[I 2023-12-21 16:56:04,925] Trial 3 finished with value: 96.56 and parameters: {'lambda_l1': 959.9327403287383, 'lambda_l2': 409.47450908147187, 'learning_rate': 0.2605229614694255, 'num_leaves': 880, 'feature_fraction': 0.5797500654631431, 'min_data_in_leaf': 6776}. Best is trial 1 with value: 78.29.\n"
     ]
    },
    {
     "name": "stdout",
     "output_type": "stream",
     "text": [
      "[100]\tvalid_0's ER: 96.56\n",
      "Early stopping, best iteration is:\n",
      "[60]\tvalid_0's ER: 96.56\n",
      "Evaluated only: ER\n",
      "**************** tweedie ****************\n",
      "Training until validation scores don't improve for 74 rounds\n",
      "[100]\tvalid_0's ER: 68.79\n",
      "[200]\tvalid_0's ER: 67.07\n"
     ]
    },
    {
     "name": "stderr",
     "output_type": "stream",
     "text": [
      "[I 2023-12-21 16:56:05,757] Trial 4 finished with value: 66.74 and parameters: {'lambda_l1': 118.4987980711727, 'lambda_l2': 752.22781964132, 'learning_rate': 0.20241157575756444, 'num_leaves': 333, 'feature_fraction': 0.21774529656217592, 'min_data_in_leaf': 2690}. Best is trial 4 with value: 66.74.\n"
     ]
    },
    {
     "name": "stdout",
     "output_type": "stream",
     "text": [
      "[300]\tvalid_0's ER: 66.74\n",
      "Early stopping, best iteration is:\n",
      "[226]\tvalid_0's ER: 66.74\n",
      "Evaluated only: ER\n",
      "**************** tweedie ****************\n",
      "Training until validation scores don't improve for 68 rounds\n"
     ]
    },
    {
     "name": "stderr",
     "output_type": "stream",
     "text": [
      "[I 2023-12-21 16:56:06,297] Trial 5 finished with value: 90.34 and parameters: {'lambda_l1': 743.0431031177611, 'lambda_l2': 392.5356639076336, 'learning_rate': 0.2710938630531001, 'num_leaves': 703, 'feature_fraction': 0.9072568259486962, 'min_data_in_leaf': 2681}. Best is trial 4 with value: 66.74.\n"
     ]
    },
    {
     "name": "stdout",
     "output_type": "stream",
     "text": [
      "Early stopping, best iteration is:\n",
      "[29]\tvalid_0's ER: 90.34\n",
      "Evaluated only: ER\n",
      "**************** tweedie ****************\n",
      "Training until validation scores don't improve for 108 rounds\n",
      "[100]\tvalid_0's ER: 95.28\n",
      "[200]\tvalid_0's ER: 95.05\n"
     ]
    },
    {
     "name": "stderr",
     "output_type": "stream",
     "text": [
      "[I 2023-12-21 16:56:07,419] Trial 6 finished with value: 95.05 and parameters: {'lambda_l1': 901.4166557736585, 'lambda_l2': 169.78727001249095, 'learning_rate': 0.0859527138248822, 'num_leaves': 102, 'feature_fraction': 0.6756444537019093, 'min_data_in_leaf': 6849}. Best is trial 4 with value: 66.74.\n"
     ]
    },
    {
     "name": "stdout",
     "output_type": "stream",
     "text": [
      "Early stopping, best iteration is:\n",
      "[179]\tvalid_0's ER: 95.05\n",
      "Evaluated only: ER\n",
      "**************** tweedie ****************\n",
      "Training until validation scores don't improve for 96 rounds\n",
      "[100]\tvalid_0's ER: 86.83\n"
     ]
    },
    {
     "name": "stderr",
     "output_type": "stream",
     "text": [
      "[I 2023-12-21 16:56:08,408] Trial 7 finished with value: 86.7 and parameters: {'lambda_l1': 612.7931020159705, 'lambda_l2': 387.9545714540492, 'learning_rate': 0.10829022830982803, 'num_leaves': 647, 'feature_fraction': 0.6779264276775226, 'min_data_in_leaf': 5045}. Best is trial 4 with value: 66.74.\n"
     ]
    },
    {
     "name": "stdout",
     "output_type": "stream",
     "text": [
      "[200]\tvalid_0's ER: 86.7\n",
      "Early stopping, best iteration is:\n",
      "[144]\tvalid_0's ER: 86.7\n",
      "Evaluated only: ER\n",
      "**************** tweedie ****************\n",
      "Training until validation scores don't improve for 124 rounds\n",
      "[100]\tvalid_0's ER: 76.19\n",
      "[200]\tvalid_0's ER: 69.19\n",
      "[300]\tvalid_0's ER: 65.58\n",
      "[400]\tvalid_0's ER: 63.51\n",
      "[500]\tvalid_0's ER: 62.5\n",
      "[600]\tvalid_0's ER: 61.93\n",
      "[700]\tvalid_0's ER: 61.08\n",
      "[800]\tvalid_0's ER: 60.67\n",
      "[900]\tvalid_0's ER: 60.65\n",
      "[1000]\tvalid_0's ER: 60.54\n"
     ]
    },
    {
     "name": "stderr",
     "output_type": "stream",
     "text": [
      "[I 2023-12-21 16:56:12,456] Trial 8 finished with value: 60.5 and parameters: {'lambda_l1': 39.21531090588382, 'lambda_l2': 611.008685876169, 'learning_rate': 0.06672849584268675, 'num_leaves': 1005, 'feature_fraction': 0.5960688886385488, 'min_data_in_leaf': 7685}. Best is trial 8 with value: 60.5.\n"
     ]
    },
    {
     "name": "stdout",
     "output_type": "stream",
     "text": [
      "[1100]\tvalid_0's ER: 60.66\n",
      "Early stopping, best iteration is:\n",
      "[1009]\tvalid_0's ER: 60.5\n",
      "Evaluated only: ER\n",
      "**************** tweedie ****************\n",
      "Training until validation scores don't improve for 110 rounds\n",
      "[100]\tvalid_0's ER: 77.83\n",
      "[200]\tvalid_0's ER: 77.72\n"
     ]
    },
    {
     "name": "stderr",
     "output_type": "stream",
     "text": [
      "[I 2023-12-21 16:56:13,538] Trial 9 finished with value: 77.72 and parameters: {'lambda_l1': 334.9251639734416, 'lambda_l2': 28.582456187166706, 'learning_rate': 0.08225917565403684, 'num_leaves': 121, 'feature_fraction': 0.5752105145017291, 'min_data_in_leaf': 4257}. Best is trial 8 with value: 60.5.\n"
     ]
    },
    {
     "name": "stdout",
     "output_type": "stream",
     "text": [
      "Early stopping, best iteration is:\n",
      "[165]\tvalid_0's ER: 77.72\n",
      "Evaluated only: ER\n",
      "# Experimentos: 10\n",
      "Mejor experimento: {'lambda_l1': 39.21531090588382, 'lambda_l2': 611.008685876169, 'learning_rate': 0.06672849584268675, 'num_leaves': 1005, 'feature_fraction': 0.5960688886385488, 'min_data_in_leaf': 7685}\n",
      "=========================================== Cluster 39 ===========================================\n"
     ]
    },
    {
     "name": "stderr",
     "output_type": "stream",
     "text": [
      "[I 2023-12-21 16:56:17,596] A new study created in memory with name: no-name-c51b80c3-6018-4e47-8c57-3d5f5735fe2e\n"
     ]
    },
    {
     "name": "stdout",
     "output_type": "stream",
     "text": [
      "Periodos entrenar: [201701 201702 201703 201704 201705 201706 201707 201708 201709 201710\n",
      " 201711 201712 201801 201802 201803 201804 201805 201806 201807 201808\n",
      " 201809 201810 201811 201812 201901 201902 201903 201904 201905]\n",
      "Periodos validar: [201907]\n",
      "product_id a validar: 5800\n",
      "X_train: (151816, 120)\n",
      "y_train: (151816,)\n",
      "\n",
      "X_validate: (5800, 120)\n",
      "y_validate: (5800,)\n",
      "Optimizacion Bayesiana\n",
      "**************** tweedie ****************\n",
      "Training until validation scores don't improve for 73 rounds\n"
     ]
    },
    {
     "name": "stderr",
     "output_type": "stream",
     "text": [
      "[I 2023-12-21 16:56:19,841] Trial 0 finished with value: 108.79 and parameters: {'lambda_l1': 387.3446472225057, 'lambda_l2': 524.5876219079074, 'learning_rate': 0.2147393615221317, 'num_leaves': 925, 'feature_fraction': 0.3638466334889394, 'min_data_in_leaf': 7885}. Best is trial 0 with value: 108.79.\n"
     ]
    },
    {
     "name": "stdout",
     "output_type": "stream",
     "text": [
      "[100]\tvalid_0's ER: 109.21\n",
      "Early stopping, best iteration is:\n",
      "[38]\tvalid_0's ER: 108.79\n",
      "Evaluated only: ER\n",
      "**************** tweedie ****************\n",
      "Training until validation scores don't improve for 93 rounds\n",
      "[100]\tvalid_0's ER: 108.78\n"
     ]
    },
    {
     "name": "stderr",
     "output_type": "stream",
     "text": [
      "[I 2023-12-21 16:56:23,254] Trial 1 finished with value: 108.57 and parameters: {'lambda_l1': 268.60960094210617, 'lambda_l2': 656.6805050804386, 'learning_rate': 0.1154874247249573, 'num_leaves': 842, 'feature_fraction': 0.38202055829148884, 'min_data_in_leaf': 7456}. Best is trial 1 with value: 108.57.\n"
     ]
    },
    {
     "name": "stdout",
     "output_type": "stream",
     "text": [
      "[200]\tvalid_0's ER: 109.03\n",
      "Early stopping, best iteration is:\n",
      "[116]\tvalid_0's ER: 108.57\n",
      "Evaluated only: ER\n",
      "**************** tweedie ****************\n",
      "Training until validation scores don't improve for 68 rounds\n"
     ]
    },
    {
     "name": "stderr",
     "output_type": "stream",
     "text": [
      "[I 2023-12-21 16:56:25,914] Trial 2 finished with value: 106.64 and parameters: {'lambda_l1': 334.3974948434746, 'lambda_l2': 264.6808237217663, 'learning_rate': 0.27364585425890325, 'num_leaves': 22, 'feature_fraction': 0.6111819350140839, 'min_data_in_leaf': 1465}. Best is trial 2 with value: 106.64.\n"
     ]
    },
    {
     "name": "stdout",
     "output_type": "stream",
     "text": [
      "Early stopping, best iteration is:\n",
      "[22]\tvalid_0's ER: 106.64\n",
      "Evaluated only: ER\n",
      "**************** tweedie ****************\n",
      "Training until validation scores don't improve for 83 rounds\n",
      "[100]\tvalid_0's ER: 107.27\n"
     ]
    },
    {
     "name": "stderr",
     "output_type": "stream",
     "text": [
      "[I 2023-12-21 16:56:30,220] Trial 3 finished with value: 106.47 and parameters: {'lambda_l1': 564.6969240272581, 'lambda_l2': 662.6816132946419, 'learning_rate': 0.14767886418459436, 'num_leaves': 493, 'feature_fraction': 0.875855627755564, 'min_data_in_leaf': 551}. Best is trial 3 with value: 106.47.\n"
     ]
    },
    {
     "name": "stdout",
     "output_type": "stream",
     "text": [
      "Early stopping, best iteration is:\n",
      "[39]\tvalid_0's ER: 106.47\n",
      "Evaluated only: ER\n",
      "**************** tweedie ****************\n",
      "Training until validation scores don't improve for 112 rounds\n",
      "[100]\tvalid_0's ER: 109.37\n",
      "[200]\tvalid_0's ER: 108.58\n"
     ]
    },
    {
     "name": "stderr",
     "output_type": "stream",
     "text": [
      "[I 2023-12-21 16:56:34,157] Trial 4 finished with value: 107.67 and parameters: {'lambda_l1': 91.35721763783167, 'lambda_l2': 992.8688703562367, 'learning_rate': 0.08044716723268742, 'num_leaves': 348, 'feature_fraction': 0.21193927301762186, 'min_data_in_leaf': 5642}. Best is trial 3 with value: 106.47.\n"
     ]
    },
    {
     "name": "stdout",
     "output_type": "stream",
     "text": [
      "Early stopping, best iteration is:\n",
      "[173]\tvalid_0's ER: 107.67\n",
      "Evaluated only: ER\n",
      "**************** tweedie ****************\n",
      "Training until validation scores don't improve for 74 rounds\n",
      "[100]\tvalid_0's ER: 110.12\n",
      "Early stopping, best iteration is:\n",
      "[44]\tvalid_0's ER: 109.58\n",
      "Evaluated only: ER\n"
     ]
    },
    {
     "name": "stderr",
     "output_type": "stream",
     "text": [
      "[I 2023-12-21 16:56:36,589] Trial 5 finished with value: 109.58 and parameters: {'lambda_l1': 544.0326232476813, 'lambda_l2': 826.878132904644, 'learning_rate': 0.20069599234803512, 'num_leaves': 666, 'feature_fraction': 0.44011101585178597, 'min_data_in_leaf': 7103}. Best is trial 3 with value: 106.47.\n"
     ]
    },
    {
     "name": "stdout",
     "output_type": "stream",
     "text": [
      "**************** tweedie ****************\n",
      "Training until validation scores don't improve for 71 rounds\n",
      "[100]\tvalid_0's ER: 108.6\n"
     ]
    },
    {
     "name": "stderr",
     "output_type": "stream",
     "text": [
      "[I 2023-12-21 16:56:39,374] Trial 6 finished with value: 104.86 and parameters: {'lambda_l1': 166.73368845822245, 'lambda_l2': 267.4220830850632, 'learning_rate': 0.22968499726442554, 'num_leaves': 426, 'feature_fraction': 0.2547716012405573, 'min_data_in_leaf': 1190}. Best is trial 6 with value: 104.86.\n"
     ]
    },
    {
     "name": "stdout",
     "output_type": "stream",
     "text": [
      "Early stopping, best iteration is:\n",
      "[44]\tvalid_0's ER: 104.86\n",
      "Evaluated only: ER\n",
      "**************** tweedie ****************\n",
      "Training until validation scores don't improve for 73 rounds\n"
     ]
    },
    {
     "name": "stderr",
     "output_type": "stream",
     "text": [
      "[I 2023-12-21 16:56:41,578] Trial 7 finished with value: 110.26 and parameters: {'lambda_l1': 997.2103314633414, 'lambda_l2': 230.8054904420106, 'learning_rate': 0.21220118935295906, 'num_leaves': 252, 'feature_fraction': 0.46230688066118397, 'min_data_in_leaf': 6637}. Best is trial 6 with value: 104.86.\n"
     ]
    },
    {
     "name": "stdout",
     "output_type": "stream",
     "text": [
      "[100]\tvalid_0's ER: 110.58\n",
      "Early stopping, best iteration is:\n",
      "[32]\tvalid_0's ER: 110.26\n",
      "Evaluated only: ER\n",
      "**************** tweedie ****************\n",
      "Training until validation scores don't improve for 71 rounds\n"
     ]
    },
    {
     "name": "stderr",
     "output_type": "stream",
     "text": [
      "[I 2023-12-21 16:56:44,828] Trial 8 finished with value: 107.65 and parameters: {'lambda_l1': 398.7753985397059, 'lambda_l2': 80.76010646954967, 'learning_rate': 0.2297629878961723, 'num_leaves': 940, 'feature_fraction': 0.5932724667811856, 'min_data_in_leaf': 2609}. Best is trial 6 with value: 104.86.\n"
     ]
    },
    {
     "name": "stdout",
     "output_type": "stream",
     "text": [
      "Early stopping, best iteration is:\n",
      "[22]\tvalid_0's ER: 107.65\n",
      "Evaluated only: ER\n",
      "**************** tweedie ****************\n",
      "Training until validation scores don't improve for 72 rounds\n"
     ]
    },
    {
     "name": "stderr",
     "output_type": "stream",
     "text": [
      "[I 2023-12-21 16:56:47,097] Trial 9 finished with value: 109.28 and parameters: {'lambda_l1': 780.467775248691, 'lambda_l2': 331.3915282194886, 'learning_rate': 0.2213819699278223, 'num_leaves': 455, 'feature_fraction': 0.41674902048713, 'min_data_in_leaf': 2998}. Best is trial 6 with value: 104.86.\n"
     ]
    },
    {
     "name": "stdout",
     "output_type": "stream",
     "text": [
      "[100]\tvalid_0's ER: 109.73\n",
      "Early stopping, best iteration is:\n",
      "[37]\tvalid_0's ER: 109.28\n",
      "Evaluated only: ER\n",
      "# Experimentos: 10\n",
      "Mejor experimento: {'lambda_l1': 166.73368845822245, 'lambda_l2': 267.4220830850632, 'learning_rate': 0.22968499726442554, 'num_leaves': 426, 'feature_fraction': 0.2547716012405573, 'min_data_in_leaf': 1190}\n",
      "=========================================== Cluster 40 ===========================================\n"
     ]
    },
    {
     "name": "stderr",
     "output_type": "stream",
     "text": [
      "[I 2023-12-21 16:56:51,512] A new study created in memory with name: no-name-d2e43596-3c98-4859-9fc2-3a662f52ef51\n"
     ]
    },
    {
     "name": "stdout",
     "output_type": "stream",
     "text": [
      "Periodos entrenar: [201701 201702 201703 201704 201705 201706 201707 201708 201709 201710\n",
      " 201711 201712 201801 201802 201803 201804 201805 201806 201807 201808\n",
      " 201809 201810 201811 201812 201901 201902 201903 201904 201905]\n",
      "Periodos validar: [201907]\n",
      "product_id a validar: 6960\n",
      "X_train: (145731, 120)\n",
      "y_train: (145731,)\n",
      "\n",
      "X_validate: (6960, 120)\n",
      "y_validate: (6960,)\n",
      "Optimizacion Bayesiana\n",
      "**************** tweedie ****************\n",
      "Training until validation scores don't improve for 142 rounds\n",
      "[100]\tvalid_0's ER: 92.3\n",
      "[200]\tvalid_0's ER: 85.99\n",
      "[300]\tvalid_0's ER: 83.97\n",
      "[400]\tvalid_0's ER: 83.37\n",
      "[500]\tvalid_0's ER: 83.18\n",
      "[600]\tvalid_0's ER: 83.16\n",
      "[700]\tvalid_0's ER: 83.15\n",
      "[800]\tvalid_0's ER: 83.15\n"
     ]
    },
    {
     "name": "stderr",
     "output_type": "stream",
     "text": [
      "[I 2023-12-21 16:57:01,155] Trial 0 finished with value: 83.15 and parameters: {'lambda_l1': 205.92012256741356, 'lambda_l2': 984.1465829574399, 'learning_rate': 0.05378256667059152, 'num_leaves': 673, 'feature_fraction': 0.3326161409547017, 'min_data_in_leaf': 7526}. Best is trial 0 with value: 83.15.\n"
     ]
    },
    {
     "name": "stdout",
     "output_type": "stream",
     "text": [
      "Early stopping, best iteration is:\n",
      "[690]\tvalid_0's ER: 83.15\n",
      "Evaluated only: ER\n",
      "**************** tweedie ****************\n",
      "Training until validation scores don't improve for 132 rounds\n",
      "[100]\tvalid_0's ER: 93.73\n",
      "[200]\tvalid_0's ER: 90.24\n",
      "[300]\tvalid_0's ER: 90.16\n"
     ]
    },
    {
     "name": "stderr",
     "output_type": "stream",
     "text": [
      "[I 2023-12-21 16:57:07,585] Trial 1 finished with value: 90.16 and parameters: {'lambda_l1': 504.3478460212898, 'lambda_l2': 765.2287104069159, 'learning_rate': 0.06071504034943207, 'num_leaves': 816, 'feature_fraction': 0.6072463456761918, 'min_data_in_leaf': 6480}. Best is trial 0 with value: 83.15.\n"
     ]
    },
    {
     "name": "stdout",
     "output_type": "stream",
     "text": [
      "Early stopping, best iteration is:\n",
      "[207]\tvalid_0's ER: 90.16\n",
      "Evaluated only: ER\n",
      "**************** tweedie ****************\n",
      "Training until validation scores don't improve for 130 rounds\n",
      "[100]\tvalid_0's ER: 92.52\n",
      "[200]\tvalid_0's ER: 90.72\n"
     ]
    },
    {
     "name": "stderr",
     "output_type": "stream",
     "text": [
      "[I 2023-12-21 16:57:14,150] Trial 2 finished with value: 90.72 and parameters: {'lambda_l1': 581.1368731721972, 'lambda_l2': 504.3353515462419, 'learning_rate': 0.061998004891647494, 'num_leaves': 798, 'feature_fraction': 0.6473631474700996, 'min_data_in_leaf': 1482}. Best is trial 0 with value: 83.15.\n"
     ]
    },
    {
     "name": "stdout",
     "output_type": "stream",
     "text": [
      "[300]\tvalid_0's ER: 90.72\n",
      "Early stopping, best iteration is:\n",
      "[173]\tvalid_0's ER: 90.72\n",
      "Evaluated only: ER\n",
      "**************** tweedie ****************\n",
      "Training until validation scores don't improve for 115 rounds\n",
      "[100]\tvalid_0's ER: 81.47\n",
      "[200]\tvalid_0's ER: 78.59\n",
      "[300]\tvalid_0's ER: 77.62\n",
      "[400]\tvalid_0's ER: 77.28\n"
     ]
    },
    {
     "name": "stderr",
     "output_type": "stream",
     "text": [
      "[I 2023-12-21 16:57:24,836] Trial 3 finished with value: 77.28 and parameters: {'lambda_l1': 73.1095045113277, 'lambda_l2': 402.66081605716454, 'learning_rate': 0.07605832332805697, 'num_leaves': 633, 'feature_fraction': 0.9226283044366224, 'min_data_in_leaf': 6252}. Best is trial 3 with value: 77.28.\n"
     ]
    },
    {
     "name": "stdout",
     "output_type": "stream",
     "text": [
      "Early stopping, best iteration is:\n",
      "[379]\tvalid_0's ER: 77.28\n",
      "Evaluated only: ER\n",
      "**************** tweedie ****************\n",
      "Training until validation scores don't improve for 73 rounds\n",
      "[100]\tvalid_0's ER: 89.79\n"
     ]
    },
    {
     "name": "stderr",
     "output_type": "stream",
     "text": [
      "[I 2023-12-21 16:57:28,050] Trial 4 finished with value: 89.79 and parameters: {'lambda_l1': 482.5943786320707, 'lambda_l2': 722.5848252902609, 'learning_rate': 0.21233944970247015, 'num_leaves': 304, 'feature_fraction': 0.7552510419119467, 'min_data_in_leaf': 6319}. Best is trial 3 with value: 77.28.\n"
     ]
    },
    {
     "name": "stdout",
     "output_type": "stream",
     "text": [
      "Early stopping, best iteration is:\n",
      "[58]\tvalid_0's ER: 89.79\n",
      "Evaluated only: ER\n",
      "**************** tweedie ****************\n",
      "Training until validation scores don't improve for 138 rounds\n",
      "[100]\tvalid_0's ER: 93.5\n",
      "[200]\tvalid_0's ER: 92.6\n"
     ]
    },
    {
     "name": "stderr",
     "output_type": "stream",
     "text": [
      "[I 2023-12-21 16:57:33,324] Trial 5 finished with value: 92.6 and parameters: {'lambda_l1': 682.4893408531241, 'lambda_l2': 133.88252657387324, 'learning_rate': 0.05653128091123487, 'num_leaves': 228, 'feature_fraction': 0.5620982614705028, 'min_data_in_leaf': 1557}. Best is trial 3 with value: 77.28.\n"
     ]
    },
    {
     "name": "stdout",
     "output_type": "stream",
     "text": [
      "Early stopping, best iteration is:\n",
      "[137]\tvalid_0's ER: 92.6\n",
      "Evaluated only: ER\n",
      "**************** tweedie ****************\n",
      "Training until validation scores don't improve for 213 rounds\n",
      "[100]\tvalid_0's ER: 97.3\n",
      "[200]\tvalid_0's ER: 87.78\n",
      "[300]\tvalid_0's ER: 84.56\n",
      "[400]\tvalid_0's ER: 83.17\n",
      "[500]\tvalid_0's ER: 82.6\n",
      "[600]\tvalid_0's ER: 82.44\n",
      "[700]\tvalid_0's ER: 82.43\n",
      "[800]\tvalid_0's ER: 82.42\n",
      "[900]\tvalid_0's ER: 82.42\n"
     ]
    },
    {
     "name": "stderr",
     "output_type": "stream",
     "text": [
      "[I 2023-12-21 16:57:45,240] Trial 6 finished with value: 82.42 and parameters: {'lambda_l1': 204.49965239742463, 'lambda_l2': 470.60862360911074, 'learning_rate': 0.030531416561586283, 'num_leaves': 430, 'feature_fraction': 0.38423326871856506, 'min_data_in_leaf': 5802}. Best is trial 3 with value: 77.28.\n"
     ]
    },
    {
     "name": "stdout",
     "output_type": "stream",
     "text": [
      "Early stopping, best iteration is:\n",
      "[710]\tvalid_0's ER: 82.42\n",
      "Evaluated only: ER\n",
      "**************** tweedie ****************\n",
      "Training until validation scores don't improve for 104 rounds\n",
      "[100]\tvalid_0's ER: 89.45\n",
      "[200]\tvalid_0's ER: 88.16\n"
     ]
    },
    {
     "name": "stderr",
     "output_type": "stream",
     "text": [
      "[I 2023-12-21 16:57:50,667] Trial 7 finished with value: 88.16 and parameters: {'lambda_l1': 432.82736052659965, 'lambda_l2': 845.2476467992393, 'learning_rate': 0.09112629579076817, 'num_leaves': 856, 'feature_fraction': 0.6850007717472366, 'min_data_in_leaf': 2944}. Best is trial 3 with value: 77.28.\n"
     ]
    },
    {
     "name": "stdout",
     "output_type": "stream",
     "text": [
      "Early stopping, best iteration is:\n",
      "[158]\tvalid_0's ER: 88.16\n",
      "Evaluated only: ER\n",
      "**************** tweedie ****************\n",
      "Training until validation scores don't improve for 72 rounds\n",
      "[100]\tvalid_0's ER: 77.37\n"
     ]
    },
    {
     "name": "stderr",
     "output_type": "stream",
     "text": [
      "[I 2023-12-21 16:57:54,561] Trial 8 finished with value: 77.37 and parameters: {'lambda_l1': 75.2747266752738, 'lambda_l2': 88.48891398064562, 'learning_rate': 0.22476815527777821, 'num_leaves': 558, 'feature_fraction': 0.74036587859343, 'min_data_in_leaf': 6607}. Best is trial 3 with value: 77.28.\n"
     ]
    },
    {
     "name": "stdout",
     "output_type": "stream",
     "text": [
      "Early stopping, best iteration is:\n",
      "[87]\tvalid_0's ER: 77.37\n",
      "Evaluated only: ER\n",
      "**************** tweedie ****************\n",
      "Training until validation scores don't improve for 115 rounds\n",
      "[100]\tvalid_0's ER: 96.53\n"
     ]
    },
    {
     "name": "stderr",
     "output_type": "stream",
     "text": [
      "[I 2023-12-21 16:57:58,734] Trial 9 finished with value: 96.53 and parameters: {'lambda_l1': 914.5208284747633, 'lambda_l2': 288.56727286322945, 'learning_rate': 0.07634112643325679, 'num_leaves': 878, 'feature_fraction': 0.8559509508451553, 'min_data_in_leaf': 3393}. Best is trial 3 with value: 77.28.\n"
     ]
    },
    {
     "name": "stdout",
     "output_type": "stream",
     "text": [
      "[200]\tvalid_0's ER: 96.53\n",
      "Early stopping, best iteration is:\n",
      "[93]\tvalid_0's ER: 96.53\n",
      "Evaluated only: ER\n",
      "# Experimentos: 10\n",
      "Mejor experimento: {'lambda_l1': 73.1095045113277, 'lambda_l2': 402.66081605716454, 'learning_rate': 0.07605832332805697, 'num_leaves': 633, 'feature_fraction': 0.9226283044366224, 'min_data_in_leaf': 6252}\n",
      "=========================================== Cluster 41 ===========================================\n"
     ]
    },
    {
     "name": "stderr",
     "output_type": "stream",
     "text": [
      "[I 2023-12-21 16:57:59,408] A new study created in memory with name: no-name-fdf8b621-08c4-4178-9c25-05d2d98df5e7\n"
     ]
    },
    {
     "name": "stdout",
     "output_type": "stream",
     "text": [
      "Periodos entrenar: [201804 201805 201806 201807 201808 201809 201810 201811 201812 201901\n",
      " 201902 201903 201904 201905]\n",
      "Periodos validar: [201907]\n",
      "product_id a validar: 1160\n",
      "X_train: (15516, 120)\n",
      "y_train: (15516,)\n",
      "\n",
      "X_validate: (1160, 120)\n",
      "y_validate: (1160,)\n",
      "Optimizacion Bayesiana\n",
      "**************** tweedie ****************\n",
      "Training until validation scores don't improve for 118 rounds\n",
      "[100]\tvalid_0's ER: 87.11\n",
      "[200]\tvalid_0's ER: 85.26\n"
     ]
    },
    {
     "name": "stderr",
     "output_type": "stream",
     "text": [
      "[I 2023-12-21 16:58:00,148] Trial 0 finished with value: 85.24 and parameters: {'lambda_l1': 165.62893661542543, 'lambda_l2': 255.68966978525998, 'learning_rate': 0.07247594324815236, 'num_leaves': 571, 'feature_fraction': 0.4153822893822634, 'min_data_in_leaf': 1117}. Best is trial 0 with value: 85.24.\n"
     ]
    },
    {
     "name": "stdout",
     "output_type": "stream",
     "text": [
      "[300]\tvalid_0's ER: 85.25\n",
      "Early stopping, best iteration is:\n",
      "[184]\tvalid_0's ER: 85.24\n",
      "Evaluated only: ER\n",
      "**************** tweedie ****************\n",
      "Training until validation scores don't improve for 98 rounds\n",
      "[100]\tvalid_0's ER: 94.78\n"
     ]
    },
    {
     "name": "stderr",
     "output_type": "stream",
     "text": [
      "[I 2023-12-21 16:58:00,769] Trial 1 finished with value: 94.67 and parameters: {'lambda_l1': 321.7271598887754, 'lambda_l2': 313.4650391892381, 'learning_rate': 0.10340633252491466, 'num_leaves': 744, 'feature_fraction': 0.5790090917188957, 'min_data_in_leaf': 2400}. Best is trial 0 with value: 85.24.\n"
     ]
    },
    {
     "name": "stdout",
     "output_type": "stream",
     "text": [
      "[200]\tvalid_0's ER: 94.67\n",
      "Early stopping, best iteration is:\n",
      "[128]\tvalid_0's ER: 94.67\n",
      "Evaluated only: ER\n",
      "**************** tweedie ****************\n",
      "Training until validation scores don't improve for 112 rounds\n",
      "[100]\tvalid_0's ER: 116.79\n"
     ]
    },
    {
     "name": "stderr",
     "output_type": "stream",
     "text": [
      "[I 2023-12-21 16:58:01,444] Trial 2 finished with value: 116.74 and parameters: {'lambda_l1': 958.2609972000308, 'lambda_l2': 518.214204368673, 'learning_rate': 0.07977918477801182, 'num_leaves': 1007, 'feature_fraction': 0.580583896010181, 'min_data_in_leaf': 920}. Best is trial 0 with value: 85.24.\n"
     ]
    },
    {
     "name": "stdout",
     "output_type": "stream",
     "text": [
      "[200]\tvalid_0's ER: 116.74\n",
      "Early stopping, best iteration is:\n",
      "[130]\tvalid_0's ER: 116.74\n",
      "Evaluated only: ER\n",
      "**************** tweedie ****************\n",
      "Training until validation scores don't improve for 82 rounds\n"
     ]
    },
    {
     "name": "stderr",
     "output_type": "stream",
     "text": [
      "[I 2023-12-21 16:58:01,973] Trial 3 finished with value: 86.12 and parameters: {'lambda_l1': 163.67480737717634, 'lambda_l2': 215.49344976573036, 'learning_rate': 0.15582656388088753, 'num_leaves': 826, 'feature_fraction': 0.9257045130578445, 'min_data_in_leaf': 1538}. Best is trial 0 with value: 85.24.\n"
     ]
    },
    {
     "name": "stdout",
     "output_type": "stream",
     "text": [
      "[100]\tvalid_0's ER: 86.13\n",
      "Early stopping, best iteration is:\n",
      "[79]\tvalid_0's ER: 86.12\n",
      "Evaluated only: ER\n",
      "**************** tweedie ****************\n",
      "Training until validation scores don't improve for 185 rounds\n",
      "[100]\tvalid_0's ER: 111.35\n",
      "[200]\tvalid_0's ER: 108.51\n",
      "[300]\tvalid_0's ER: 107.94\n",
      "[400]\tvalid_0's ER: 107.94\n"
     ]
    },
    {
     "name": "stderr",
     "output_type": "stream",
     "text": [
      "[I 2023-12-21 16:58:02,938] Trial 4 finished with value: 107.93 and parameters: {'lambda_l1': 640.6814357078471, 'lambda_l2': 184.43698977372293, 'learning_rate': 0.03694055001535316, 'num_leaves': 440, 'feature_fraction': 0.5509623218928628, 'min_data_in_leaf': 3084}. Best is trial 0 with value: 85.24.\n"
     ]
    },
    {
     "name": "stdout",
     "output_type": "stream",
     "text": [
      "Early stopping, best iteration is:\n",
      "[241]\tvalid_0's ER: 107.93\n",
      "Evaluated only: ER\n",
      "**************** tweedie ****************\n",
      "Training until validation scores don't improve for 77 rounds\n",
      "[100]\tvalid_0's ER: 100.01\n",
      "[200]\tvalid_0's ER: 99.71\n"
     ]
    },
    {
     "name": "stderr",
     "output_type": "stream",
     "text": [
      "[I 2023-12-21 16:58:03,678] Trial 5 finished with value: 99.7 and parameters: {'lambda_l1': 184.63199888963345, 'lambda_l2': 304.648186838845, 'learning_rate': 0.1798404362220279, 'num_leaves': 540, 'feature_fraction': 0.8470169710705382, 'min_data_in_leaf': 6352}. Best is trial 0 with value: 85.24.\n"
     ]
    },
    {
     "name": "stdout",
     "output_type": "stream",
     "text": [
      "[300]\tvalid_0's ER: 99.7\n",
      "Early stopping, best iteration is:\n",
      "[260]\tvalid_0's ER: 99.7\n",
      "Evaluated only: ER\n",
      "**************** tweedie ****************\n",
      "Training until validation scores don't improve for 71 rounds\n"
     ]
    },
    {
     "name": "stderr",
     "output_type": "stream",
     "text": [
      "[I 2023-12-21 16:58:04,023] Trial 6 finished with value: 107.46 and parameters: {'lambda_l1': 455.6734646387004, 'lambda_l2': 250.03093378382823, 'learning_rate': 0.2356580490568596, 'num_leaves': 603, 'feature_fraction': 0.5908484133795817, 'min_data_in_leaf': 5298}. Best is trial 0 with value: 85.24.\n"
     ]
    },
    {
     "name": "stdout",
     "output_type": "stream",
     "text": [
      "[100]\tvalid_0's ER: 107.47\n",
      "Early stopping, best iteration is:\n",
      "[39]\tvalid_0's ER: 107.46\n",
      "Evaluated only: ER\n",
      "**************** tweedie ****************\n",
      "Training until validation scores don't improve for 75 rounds\n"
     ]
    },
    {
     "name": "stderr",
     "output_type": "stream",
     "text": [
      "[I 2023-12-21 16:58:04,460] Trial 7 finished with value: 108.7 and parameters: {'lambda_l1': 528.4414001019843, 'lambda_l2': 484.7278830393089, 'learning_rate': 0.19753362195702812, 'num_leaves': 885, 'feature_fraction': 0.85859549694806, 'min_data_in_leaf': 5174}. Best is trial 0 with value: 85.24.\n"
     ]
    },
    {
     "name": "stdout",
     "output_type": "stream",
     "text": [
      "[100]\tvalid_0's ER: 108.7\n",
      "Early stopping, best iteration is:\n",
      "[70]\tvalid_0's ER: 108.7\n",
      "Evaluated only: ER\n",
      "**************** tweedie ****************\n",
      "Training until validation scores don't improve for 80 rounds\n",
      "[100]\tvalid_0's ER: 124.05\n"
     ]
    },
    {
     "name": "stderr",
     "output_type": "stream",
     "text": [
      "[I 2023-12-21 16:58:05,017] Trial 8 finished with value: 123.97 and parameters: {'lambda_l1': 979.6461502265232, 'lambda_l2': 460.0078220239361, 'learning_rate': 0.16417907662604733, 'num_leaves': 822, 'feature_fraction': 0.4191232545703649, 'min_data_in_leaf': 5892}. Best is trial 0 with value: 85.24.\n"
     ]
    },
    {
     "name": "stdout",
     "output_type": "stream",
     "text": [
      "[200]\tvalid_0's ER: 123.97\n",
      "Early stopping, best iteration is:\n",
      "[191]\tvalid_0's ER: 123.97\n",
      "Evaluated only: ER\n",
      "**************** tweedie ****************\n",
      "Training until validation scores don't improve for 70 rounds\n",
      "[100]\tvalid_0's ER: 114.29\n"
     ]
    },
    {
     "name": "stderr",
     "output_type": "stream",
     "text": [
      "[I 2023-12-21 16:58:05,401] Trial 9 finished with value: 114.23 and parameters: {'lambda_l1': 685.6795227748414, 'lambda_l2': 207.27469813675248, 'learning_rate': 0.23832236424133096, 'num_leaves': 804, 'feature_fraction': 0.2446718105884741, 'min_data_in_leaf': 7409}. Best is trial 0 with value: 85.24.\n"
     ]
    },
    {
     "name": "stdout",
     "output_type": "stream",
     "text": [
      "Early stopping, best iteration is:\n",
      "[126]\tvalid_0's ER: 114.23\n",
      "Evaluated only: ER\n",
      "# Experimentos: 10\n",
      "Mejor experimento: {'lambda_l1': 165.62893661542543, 'lambda_l2': 255.68966978525998, 'learning_rate': 0.07247594324815236, 'num_leaves': 571, 'feature_fraction': 0.4153822893822634, 'min_data_in_leaf': 1117}\n",
      "=========================================== Cluster 42 ===========================================\n"
     ]
    },
    {
     "name": "stderr",
     "output_type": "stream",
     "text": [
      "[I 2023-12-21 16:58:17,491] A new study created in memory with name: no-name-600ebdd0-8553-4640-a1dd-723115e1a0bc\n"
     ]
    },
    {
     "name": "stdout",
     "output_type": "stream",
     "text": [
      "Periodos entrenar: [201701 201702 201703 201704 201705 201706 201707 201708 201709 201710\n",
      " 201711 201712 201801 201802 201803 201804 201805 201806 201807 201808\n",
      " 201809 201810 201811 201812 201901 201902 201903 201904 201905]\n",
      "Periodos validar: [201907]\n",
      "product_id a validar: 16240\n",
      "X_train: (400207, 120)\n",
      "y_train: (400207,)\n",
      "\n",
      "X_validate: (16240, 120)\n",
      "y_validate: (16240,)\n",
      "Optimizacion Bayesiana\n",
      "**************** tweedie ****************\n",
      "Training until validation scores don't improve for 70 rounds\n",
      "[100]\tvalid_0's ER: 97.17\n"
     ]
    },
    {
     "name": "stderr",
     "output_type": "stream",
     "text": [
      "[I 2023-12-21 16:58:29,319] Trial 0 finished with value: 96.64 and parameters: {'lambda_l1': 159.44315064784732, 'lambda_l2': 992.2805268372463, 'learning_rate': 0.24257925049215537, 'num_leaves': 775, 'feature_fraction': 0.5482602291763752, 'min_data_in_leaf': 2215}. Best is trial 0 with value: 96.64.\n"
     ]
    },
    {
     "name": "stdout",
     "output_type": "stream",
     "text": [
      "Early stopping, best iteration is:\n",
      "[121]\tvalid_0's ER: 96.64\n",
      "Evaluated only: ER\n",
      "**************** tweedie ****************\n",
      "Training until validation scores don't improve for 247 rounds\n",
      "[100]\tvalid_0's ER: 105.86\n",
      "[200]\tvalid_0's ER: 98.11\n",
      "[300]\tvalid_0's ER: 96.96\n",
      "[400]\tvalid_0's ER: 97.01\n",
      "[500]\tvalid_0's ER: 96.97\n",
      "[600]\tvalid_0's ER: 96.89\n",
      "[700]\tvalid_0's ER: 97.1\n",
      "Early stopping, best iteration is:\n",
      "[466]\tvalid_0's ER: 96.76\n",
      "Evaluated only: ER\n"
     ]
    },
    {
     "name": "stderr",
     "output_type": "stream",
     "text": [
      "[I 2023-12-21 16:59:05,901] Trial 1 finished with value: 96.76 and parameters: {'lambda_l1': 160.56922833401742, 'lambda_l2': 707.3728466300297, 'learning_rate': 0.025370743135137996, 'num_leaves': 489, 'feature_fraction': 0.43142171455256834, 'min_data_in_leaf': 2775}. Best is trial 0 with value: 96.64.\n"
     ]
    },
    {
     "name": "stdout",
     "output_type": "stream",
     "text": [
      "**************** tweedie ****************\n",
      "Training until validation scores don't improve for 104 rounds\n",
      "[100]\tvalid_0's ER: 98.92\n"
     ]
    },
    {
     "name": "stderr",
     "output_type": "stream",
     "text": [
      "[I 2023-12-21 16:59:15,909] Trial 2 finished with value: 98.61 and parameters: {'lambda_l1': 992.0609590567999, 'lambda_l2': 513.3727359094613, 'learning_rate': 0.09143781407954783, 'num_leaves': 58, 'feature_fraction': 0.3595000268077456, 'min_data_in_leaf': 816}. Best is trial 0 with value: 96.64.\n"
     ]
    },
    {
     "name": "stdout",
     "output_type": "stream",
     "text": [
      "Early stopping, best iteration is:\n",
      "[83]\tvalid_0's ER: 98.61\n",
      "Evaluated only: ER\n",
      "**************** tweedie ****************\n",
      "Training until validation scores don't improve for 139 rounds\n",
      "[100]\tvalid_0's ER: 102.06\n",
      "[200]\tvalid_0's ER: 100.24\n",
      "[300]\tvalid_0's ER: 100.24\n"
     ]
    },
    {
     "name": "stderr",
     "output_type": "stream",
     "text": [
      "[I 2023-12-21 16:59:33,015] Trial 3 finished with value: 100.23 and parameters: {'lambda_l1': 924.4245756393116, 'lambda_l2': 719.1243716993314, 'learning_rate': 0.05583097499779583, 'num_leaves': 240, 'feature_fraction': 0.7463045588754078, 'min_data_in_leaf': 4047}. Best is trial 0 with value: 96.64.\n"
     ]
    },
    {
     "name": "stdout",
     "output_type": "stream",
     "text": [
      "Early stopping, best iteration is:\n",
      "[178]\tvalid_0's ER: 100.14\n",
      "Evaluated only: ER\n",
      "**************** tweedie ****************\n",
      "Training until validation scores don't improve for 75 rounds\n",
      "[100]\tvalid_0's ER: 96.88\n"
     ]
    },
    {
     "name": "stderr",
     "output_type": "stream",
     "text": [
      "[I 2023-12-21 16:59:40,768] Trial 4 finished with value: 96.44 and parameters: {'lambda_l1': 133.26364897410235, 'lambda_l2': 289.14739957688596, 'learning_rate': 0.1940893782668671, 'num_leaves': 258, 'feature_fraction': 0.4782374845891097, 'min_data_in_leaf': 2572}. Best is trial 4 with value: 96.44.\n"
     ]
    },
    {
     "name": "stdout",
     "output_type": "stream",
     "text": [
      "Early stopping, best iteration is:\n",
      "[37]\tvalid_0's ER: 96.44\n",
      "Evaluated only: ER\n",
      "**************** tweedie ****************\n",
      "Training until validation scores don't improve for 91 rounds\n",
      "[100]\tvalid_0's ER: 98.74\n"
     ]
    },
    {
     "name": "stderr",
     "output_type": "stream",
     "text": [
      "[I 2023-12-21 16:59:47,728] Trial 5 finished with value: 98.42 and parameters: {'lambda_l1': 453.65968290045436, 'lambda_l2': 340.8625520497375, 'learning_rate': 0.1194553014948525, 'num_leaves': 204, 'feature_fraction': 0.3411551295349665, 'min_data_in_leaf': 6101}. Best is trial 4 with value: 96.44.\n"
     ]
    },
    {
     "name": "stdout",
     "output_type": "stream",
     "text": [
      "Early stopping, best iteration is:\n",
      "[83]\tvalid_0's ER: 98.42\n",
      "Evaluated only: ER\n",
      "**************** tweedie ****************\n",
      "Training until validation scores don't improve for 148 rounds\n",
      "[100]\tvalid_0's ER: 96.11\n",
      "[200]\tvalid_0's ER: 96.3\n"
     ]
    },
    {
     "name": "stderr",
     "output_type": "stream",
     "text": [
      "[I 2023-12-21 17:00:03,678] Trial 6 finished with value: 95.61 and parameters: {'lambda_l1': 211.85947274733064, 'lambda_l2': 5.821869687680281, 'learning_rate': 0.050618468293208464, 'num_leaves': 39, 'feature_fraction': 0.5162894980823078, 'min_data_in_leaf': 1968}. Best is trial 6 with value: 95.61.\n"
     ]
    },
    {
     "name": "stdout",
     "output_type": "stream",
     "text": [
      "Early stopping, best iteration is:\n",
      "[135]\tvalid_0's ER: 95.61\n",
      "Evaluated only: ER\n",
      "**************** tweedie ****************\n",
      "Training until validation scores don't improve for 137 rounds\n",
      "[100]\tvalid_0's ER: 97.19\n",
      "[200]\tvalid_0's ER: 97.37\n"
     ]
    },
    {
     "name": "stderr",
     "output_type": "stream",
     "text": [
      "[I 2023-12-21 17:00:17,610] Trial 7 finished with value: 96.93 and parameters: {'lambda_l1': 140.98923857800605, 'lambda_l2': 213.500903476307, 'learning_rate': 0.05695758357776206, 'num_leaves': 174, 'feature_fraction': 0.4943023117634886, 'min_data_in_leaf': 6237}. Best is trial 6 with value: 95.61.\n"
     ]
    },
    {
     "name": "stdout",
     "output_type": "stream",
     "text": [
      "Early stopping, best iteration is:\n",
      "[120]\tvalid_0's ER: 96.93\n",
      "Evaluated only: ER\n",
      "**************** tweedie ****************\n",
      "Training until validation scores don't improve for 80 rounds\n",
      "[100]\tvalid_0's ER: 98.67\n"
     ]
    },
    {
     "name": "stderr",
     "output_type": "stream",
     "text": [
      "[I 2023-12-21 17:00:25,079] Trial 8 finished with value: 98.02 and parameters: {'lambda_l1': 135.28474220723075, 'lambda_l2': 441.82686092055036, 'learning_rate': 0.16242210922925787, 'num_leaves': 537, 'feature_fraction': 0.47012572123172475, 'min_data_in_leaf': 7951}. Best is trial 6 with value: 95.61.\n"
     ]
    },
    {
     "name": "stdout",
     "output_type": "stream",
     "text": [
      "Early stopping, best iteration is:\n",
      "[56]\tvalid_0's ER: 98.02\n",
      "Evaluated only: ER\n",
      "**************** tweedie ****************\n",
      "Training until validation scores don't improve for 66 rounds\n"
     ]
    },
    {
     "name": "stderr",
     "output_type": "stream",
     "text": [
      "[I 2023-12-21 17:00:31,659] Trial 9 finished with value: 97.22 and parameters: {'lambda_l1': 111.03035080910684, 'lambda_l2': 262.65421744067373, 'learning_rate': 0.29758062723815665, 'num_leaves': 541, 'feature_fraction': 0.5815637546562882, 'min_data_in_leaf': 4879}. Best is trial 6 with value: 95.61.\n"
     ]
    },
    {
     "name": "stdout",
     "output_type": "stream",
     "text": [
      "Early stopping, best iteration is:\n",
      "[17]\tvalid_0's ER: 97.22\n",
      "Evaluated only: ER\n",
      "# Experimentos: 10\n",
      "Mejor experimento: {'lambda_l1': 211.85947274733064, 'lambda_l2': 5.821869687680281, 'learning_rate': 0.050618468293208464, 'num_leaves': 39, 'feature_fraction': 0.5162894980823078, 'min_data_in_leaf': 1968}\n",
      "=========================================== Cluster 43 ===========================================\n"
     ]
    },
    {
     "name": "stderr",
     "output_type": "stream",
     "text": [
      "[I 2023-12-21 17:00:31,999] A new study created in memory with name: no-name-c96fa21e-a26a-4b94-b343-bef80382e898\n",
      "[I 2023-12-21 17:00:32,136] Trial 0 finished with value: 210.68 and parameters: {'lambda_l1': 732.4579162210198, 'lambda_l2': 656.1437110758353, 'learning_rate': 0.04060834540393458, 'num_leaves': 558, 'feature_fraction': 0.9644480759352614, 'min_data_in_leaf': 5699}. Best is trial 0 with value: 210.68.\n"
     ]
    },
    {
     "name": "stdout",
     "output_type": "stream",
     "text": [
      "Periodos entrenar: [201811 201812 201901 201902 201903 201904 201905]\n",
      "Periodos validar: [201907]\n",
      "product_id a validar: 580\n",
      "X_train: (3942, 120)\n",
      "y_train: (3942,)\n",
      "\n",
      "X_validate: (580, 120)\n",
      "y_validate: (580,)\n",
      "Optimizacion Bayesiana\n",
      "**************** tweedie ****************\n",
      "Training until validation scores don't improve for 173 rounds\n",
      "[100]\tvalid_0's ER: 103.67\n",
      "Early stopping, best iteration is:\n",
      "[1]\tvalid_0's ER: 103.67\n",
      "Evaluated only: ER\n",
      "**************** tweedie ****************\n",
      "Training until validation scores don't improve for 67 rounds\n"
     ]
    },
    {
     "name": "stderr",
     "output_type": "stream",
     "text": [
      "[I 2023-12-21 17:00:32,235] Trial 1 finished with value: 210.68 and parameters: {'lambda_l1': 585.8233326137864, 'lambda_l2': 424.98073107642676, 'learning_rate': 0.2839801458992089, 'num_leaves': 732, 'feature_fraction': 0.7913932062698041, 'min_data_in_leaf': 5108}. Best is trial 0 with value: 210.68.\n",
      "[I 2023-12-21 17:00:32,325] Trial 2 finished with value: 210.68 and parameters: {'lambda_l1': 759.7327695341104, 'lambda_l2': 998.2236683016439, 'learning_rate': 0.1734117757165339, 'num_leaves': 42, 'feature_fraction': 0.6782413802962879, 'min_data_in_leaf': 7232}. Best is trial 0 with value: 210.68.\n"
     ]
    },
    {
     "name": "stdout",
     "output_type": "stream",
     "text": [
      "Early stopping, best iteration is:\n",
      "[1]\tvalid_0's ER: 103.67\n",
      "Evaluated only: ER\n",
      "**************** tweedie ****************\n",
      "Training until validation scores don't improve for 78 rounds\n",
      "Early stopping, best iteration is:\n",
      "[1]\tvalid_0's ER: 103.67\n",
      "Evaluated only: ER\n",
      "**************** tweedie ****************\n",
      "Training until validation scores don't improve for 102 rounds\n",
      "[100]\tvalid_0's ER: 103.67\n",
      "Early stopping, best iteration is:\n",
      "[1]\tvalid_0's ER: 103.67\n",
      "Evaluated only: ER\n"
     ]
    },
    {
     "name": "stderr",
     "output_type": "stream",
     "text": [
      "[I 2023-12-21 17:00:32,425] Trial 3 finished with value: 210.68 and parameters: {'lambda_l1': 653.1139835778822, 'lambda_l2': 602.7867308922127, 'learning_rate': 0.09467066385233915, 'num_leaves': 135, 'feature_fraction': 0.9630888357970984, 'min_data_in_leaf': 6399}. Best is trial 0 with value: 210.68.\n",
      "[I 2023-12-21 17:00:32,562] Trial 4 finished with value: 210.68 and parameters: {'lambda_l1': 959.1062782936701, 'lambda_l2': 253.77474698454395, 'learning_rate': 0.03490763543631599, 'num_leaves': 10, 'feature_fraction': 0.671987438382627, 'min_data_in_leaf': 6794}. Best is trial 0 with value: 210.68.\n"
     ]
    },
    {
     "name": "stdout",
     "output_type": "stream",
     "text": [
      "**************** tweedie ****************\n",
      "Training until validation scores don't improve for 193 rounds\n",
      "[100]\tvalid_0's ER: 103.67\n",
      "Early stopping, best iteration is:\n",
      "[1]\tvalid_0's ER: 103.67\n",
      "Evaluated only: ER\n",
      "**************** tweedie ****************\n",
      "Training until validation scores don't improve for 70 rounds\n"
     ]
    },
    {
     "name": "stderr",
     "output_type": "stream",
     "text": [
      "[I 2023-12-21 17:00:32,651] Trial 5 finished with value: 210.68 and parameters: {'lambda_l1': 260.8152462910278, 'lambda_l2': 793.4281756921752, 'learning_rate': 0.2471474582611959, 'num_leaves': 176, 'feature_fraction': 0.9585055097589157, 'min_data_in_leaf': 4903}. Best is trial 0 with value: 210.68.\n",
      "[I 2023-12-21 17:00:32,803] Trial 6 finished with value: 210.68 and parameters: {'lambda_l1': 124.79032129240153, 'lambda_l2': 179.98603757904274, 'learning_rate': 0.04482824027802406, 'num_leaves': 704, 'feature_fraction': 0.5944829805653093, 'min_data_in_leaf': 7947}. Best is trial 0 with value: 210.68.\n"
     ]
    },
    {
     "name": "stdout",
     "output_type": "stream",
     "text": [
      "Early stopping, best iteration is:\n",
      "[1]\tvalid_0's ER: 103.67\n",
      "Evaluated only: ER\n",
      "**************** tweedie ****************\n",
      "Training until validation scores don't improve for 161 rounds\n",
      "[100]\tvalid_0's ER: 103.67\n",
      "Early stopping, best iteration is:\n",
      "[1]\tvalid_0's ER: 103.67\n",
      "Evaluated only: ER\n",
      "**************** tweedie ****************\n"
     ]
    },
    {
     "name": "stderr",
     "output_type": "stream",
     "text": [
      "[I 2023-12-21 17:00:32,905] Trial 7 finished with value: 210.68 and parameters: {'lambda_l1': 721.5275512017729, 'lambda_l2': 41.11792092782041, 'learning_rate': 0.13975746046904036, 'num_leaves': 193, 'feature_fraction': 0.6101680358614324, 'min_data_in_leaf': 3481}. Best is trial 0 with value: 210.68.\n",
      "[I 2023-12-21 17:00:33,008] Trial 8 finished with value: 210.68 and parameters: {'lambda_l1': 488.9313427079871, 'lambda_l2': 386.78858369005053, 'learning_rate': 0.2834367279434997, 'num_leaves': 766, 'feature_fraction': 0.25379322433557566, 'min_data_in_leaf': 3231}. Best is trial 0 with value: 210.68.\n"
     ]
    },
    {
     "name": "stdout",
     "output_type": "stream",
     "text": [
      "Training until validation scores don't improve for 85 rounds\n",
      "Early stopping, best iteration is:\n",
      "[1]\tvalid_0's ER: 103.67\n",
      "Evaluated only: ER\n",
      "**************** tweedie ****************\n",
      "Training until validation scores don't improve for 67 rounds\n",
      "Early stopping, best iteration is:\n",
      "[1]\tvalid_0's ER: 103.67\n",
      "Evaluated only: ER\n",
      "**************** tweedie ****************\n"
     ]
    },
    {
     "name": "stderr",
     "output_type": "stream",
     "text": [
      "[I 2023-12-21 17:00:33,104] Trial 9 finished with value: 210.68 and parameters: {'lambda_l1': 909.0459728401444, 'lambda_l2': 56.802356883623894, 'learning_rate': 0.2563855520063908, 'num_leaves': 750, 'feature_fraction': 0.9802126644221583, 'min_data_in_leaf': 3886}. Best is trial 0 with value: 210.68.\n"
     ]
    },
    {
     "name": "stdout",
     "output_type": "stream",
     "text": [
      "Training until validation scores don't improve for 69 rounds\n",
      "Early stopping, best iteration is:\n",
      "[1]\tvalid_0's ER: 103.67\n",
      "Evaluated only: ER\n",
      "# Experimentos: 10\n",
      "Mejor experimento: {'lambda_l1': 732.4579162210198, 'lambda_l2': 656.1437110758353, 'learning_rate': 0.04060834540393458, 'num_leaves': 558, 'feature_fraction': 0.9644480759352614, 'min_data_in_leaf': 5699}\n",
      "=========================================== Cluster 44 ===========================================\n"
     ]
    },
    {
     "name": "stderr",
     "output_type": "stream",
     "text": [
      "[I 2023-12-21 17:00:42,365] A new study created in memory with name: no-name-2a13b4f2-31d5-4244-aca1-09ebf2e7f3e7\n"
     ]
    },
    {
     "name": "stdout",
     "output_type": "stream",
     "text": [
      "Periodos entrenar: [201701 201702 201703 201704 201705 201706 201707 201708 201709 201710\n",
      " 201711 201712 201801 201802 201803 201804 201805 201806 201807 201808\n",
      " 201809 201810 201811 201812 201901 201902 201903 201904 201905]\n",
      "Periodos validar: [201907]\n",
      "product_id a validar: 12180\n",
      "X_train: (324597, 120)\n",
      "y_train: (324597,)\n",
      "\n",
      "X_validate: (12180, 120)\n",
      "y_validate: (12180,)\n",
      "Optimizacion Bayesiana\n",
      "**************** tweedie ****************\n",
      "Training until validation scores don't improve for 223 rounds\n",
      "[100]\tvalid_0's ER: 105.95\n",
      "[200]\tvalid_0's ER: 100.06\n",
      "[300]\tvalid_0's ER: 99.05\n",
      "[400]\tvalid_0's ER: 98.87\n",
      "[500]\tvalid_0's ER: 98.85\n",
      "[600]\tvalid_0's ER: 98.92\n",
      "Early stopping, best iteration is:\n",
      "[440]\tvalid_0's ER: 98.7\n",
      "Evaluated only: ER\n"
     ]
    },
    {
     "name": "stderr",
     "output_type": "stream",
     "text": [
      "[I 2023-12-21 17:01:05,023] Trial 0 finished with value: 98.7 and parameters: {'lambda_l1': 606.1285091632758, 'lambda_l2': 619.9120416433022, 'learning_rate': 0.028745836267116298, 'num_leaves': 832, 'feature_fraction': 0.316153129518675, 'min_data_in_leaf': 1611}. Best is trial 0 with value: 98.7.\n"
     ]
    },
    {
     "name": "stdout",
     "output_type": "stream",
     "text": [
      "**************** tweedie ****************\n",
      "Training until validation scores don't improve for 76 rounds\n",
      "[100]\tvalid_0's ER: 97.34\n"
     ]
    },
    {
     "name": "stderr",
     "output_type": "stream",
     "text": [
      "[I 2023-12-21 17:01:12,476] Trial 1 finished with value: 96.76 and parameters: {'lambda_l1': 360.1776968918822, 'lambda_l2': 414.8510506790718, 'learning_rate': 0.18607732443613176, 'num_leaves': 571, 'feature_fraction': 0.8546118034324142, 'min_data_in_leaf': 1758}. Best is trial 1 with value: 96.76.\n"
     ]
    },
    {
     "name": "stdout",
     "output_type": "stream",
     "text": [
      "Early stopping, best iteration is:\n",
      "[56]\tvalid_0's ER: 96.76\n",
      "Evaluated only: ER\n",
      "**************** tweedie ****************\n",
      "Training until validation scores don't improve for 121 rounds\n",
      "[100]\tvalid_0's ER: 97.58\n",
      "[200]\tvalid_0's ER: 97.63\n",
      "Early stopping, best iteration is:\n",
      "[82]\tvalid_0's ER: 97.5\n",
      "Evaluated only: ER\n"
     ]
    },
    {
     "name": "stderr",
     "output_type": "stream",
     "text": [
      "[I 2023-12-21 17:01:29,687] Trial 2 finished with value: 97.5 and parameters: {'lambda_l1': 665.5006943217466, 'lambda_l2': 110.17766226549996, 'learning_rate': 0.06971107343639218, 'num_leaves': 914, 'feature_fraction': 0.8603701751700232, 'min_data_in_leaf': 648}. Best is trial 1 with value: 96.76.\n"
     ]
    },
    {
     "name": "stdout",
     "output_type": "stream",
     "text": [
      "**************** tweedie ****************\n",
      "Training until validation scores don't improve for 138 rounds\n",
      "[100]\tvalid_0's ER: 99.81\n",
      "[200]\tvalid_0's ER: 99.46\n",
      "[300]\tvalid_0's ER: 99.46\n",
      "Early stopping, best iteration is:\n",
      "[173]\tvalid_0's ER: 99.39\n",
      "Evaluated only: ER\n"
     ]
    },
    {
     "name": "stderr",
     "output_type": "stream",
     "text": [
      "[I 2023-12-21 17:01:55,101] Trial 3 finished with value: 99.39 and parameters: {'lambda_l1': 965.4516650814692, 'lambda_l2': 522.974626882084, 'learning_rate': 0.05667979321116834, 'num_leaves': 431, 'feature_fraction': 0.9861046859087634, 'min_data_in_leaf': 853}. Best is trial 1 with value: 96.76.\n"
     ]
    },
    {
     "name": "stdout",
     "output_type": "stream",
     "text": [
      "**************** tweedie ****************\n",
      "Training until validation scores don't improve for 91 rounds\n",
      "[100]\tvalid_0's ER: 95.81\n",
      "[200]\tvalid_0's ER: 95.52\n"
     ]
    },
    {
     "name": "stderr",
     "output_type": "stream",
     "text": [
      "[I 2023-12-21 17:02:03,839] Trial 4 finished with value: 95.52 and parameters: {'lambda_l1': 190.47275384939178, 'lambda_l2': 541.7518283722966, 'learning_rate': 0.11929902424886607, 'num_leaves': 687, 'feature_fraction': 0.5407029562084869, 'min_data_in_leaf': 7402}. Best is trial 4 with value: 95.52.\n"
     ]
    },
    {
     "name": "stdout",
     "output_type": "stream",
     "text": [
      "Early stopping, best iteration is:\n",
      "[136]\tvalid_0's ER: 95.52\n",
      "Evaluated only: ER\n",
      "**************** tweedie ****************\n",
      "Training until validation scores don't improve for 70 rounds\n"
     ]
    },
    {
     "name": "stderr",
     "output_type": "stream",
     "text": [
      "[I 2023-12-21 17:02:08,226] Trial 5 finished with value: 101.81 and parameters: {'lambda_l1': 883.8179081915764, 'lambda_l2': 60.18079444719404, 'learning_rate': 0.2472828806190631, 'num_leaves': 940, 'feature_fraction': 0.4381771347460315, 'min_data_in_leaf': 4204}. Best is trial 4 with value: 95.52.\n"
     ]
    },
    {
     "name": "stdout",
     "output_type": "stream",
     "text": [
      "[100]\tvalid_0's ER: 101.87\n",
      "Early stopping, best iteration is:\n",
      "[37]\tvalid_0's ER: 101.48\n",
      "Evaluated only: ER\n",
      "**************** tweedie ****************\n",
      "Training until validation scores don't improve for 108 rounds\n",
      "[100]\tvalid_0's ER: 100.2\n",
      "[200]\tvalid_0's ER: 98.72\n",
      "[300]\tvalid_0's ER: 98.15\n",
      "[400]\tvalid_0's ER: 98.07\n"
     ]
    },
    {
     "name": "stderr",
     "output_type": "stream",
     "text": [
      "[I 2023-12-21 17:02:18,363] Trial 6 finished with value: 98.09 and parameters: {'lambda_l1': 446.66913657782703, 'lambda_l2': 815.6003439507299, 'learning_rate': 0.08542407564318905, 'num_leaves': 192, 'feature_fraction': 0.2048791910278739, 'min_data_in_leaf': 7631}. Best is trial 4 with value: 95.52.\n"
     ]
    },
    {
     "name": "stdout",
     "output_type": "stream",
     "text": [
      "Early stopping, best iteration is:\n",
      "[364]\tvalid_0's ER: 98.01\n",
      "Evaluated only: ER\n",
      "**************** tweedie ****************\n",
      "Training until validation scores don't improve for 108 rounds\n",
      "[100]\tvalid_0's ER: 99.17\n",
      "[200]\tvalid_0's ER: 98.5\n"
     ]
    },
    {
     "name": "stderr",
     "output_type": "stream",
     "text": [
      "[I 2023-12-21 17:02:29,112] Trial 7 finished with value: 98.45 and parameters: {'lambda_l1': 399.9621551352149, 'lambda_l2': 841.75291892305, 'learning_rate': 0.08572765816020052, 'num_leaves': 169, 'feature_fraction': 0.5930496984962066, 'min_data_in_leaf': 7691}. Best is trial 4 with value: 95.52.\n"
     ]
    },
    {
     "name": "stdout",
     "output_type": "stream",
     "text": [
      "Early stopping, best iteration is:\n",
      "[164]\tvalid_0's ER: 98.45\n",
      "Evaluated only: ER\n",
      "**************** tweedie ****************\n",
      "Training until validation scores don't improve for 72 rounds\n",
      "[100]\tvalid_0's ER: 96.78\n"
     ]
    },
    {
     "name": "stderr",
     "output_type": "stream",
     "text": [
      "[I 2023-12-21 17:02:35,036] Trial 8 finished with value: 96.69 and parameters: {'lambda_l1': 334.1476069580705, 'lambda_l2': 218.29416319643425, 'learning_rate': 0.22085847210209397, 'num_leaves': 685, 'feature_fraction': 0.8445973705154188, 'min_data_in_leaf': 5965}. Best is trial 4 with value: 95.52.\n"
     ]
    },
    {
     "name": "stdout",
     "output_type": "stream",
     "text": [
      "Early stopping, best iteration is:\n",
      "[47]\tvalid_0's ER: 96.69\n",
      "Evaluated only: ER\n",
      "**************** tweedie ****************\n",
      "Training until validation scores don't improve for 71 rounds\n",
      "[100]\tvalid_0's ER: 99.22\n"
     ]
    },
    {
     "name": "stderr",
     "output_type": "stream",
     "text": [
      "[I 2023-12-21 17:02:40,911] Trial 9 finished with value: 98.91 and parameters: {'lambda_l1': 684.7303882247402, 'lambda_l2': 302.97229273344175, 'learning_rate': 0.23251750529516244, 'num_leaves': 333, 'feature_fraction': 0.3745532248698938, 'min_data_in_leaf': 1016}. Best is trial 4 with value: 95.52.\n"
     ]
    },
    {
     "name": "stdout",
     "output_type": "stream",
     "text": [
      "Early stopping, best iteration is:\n",
      "[41]\tvalid_0's ER: 98.91\n",
      "Evaluated only: ER\n",
      "# Experimentos: 10\n",
      "Mejor experimento: {'lambda_l1': 190.47275384939178, 'lambda_l2': 541.7518283722966, 'learning_rate': 0.11929902424886607, 'num_leaves': 687, 'feature_fraction': 0.5407029562084869, 'min_data_in_leaf': 7402}\n",
      "=========================================== Cluster 45 ===========================================\n"
     ]
    },
    {
     "name": "stderr",
     "output_type": "stream",
     "text": [
      "[I 2023-12-21 17:02:42,447] A new study created in memory with name: no-name-c462a81e-d97b-4199-a1cf-48bc99213dd9\n"
     ]
    },
    {
     "name": "stdout",
     "output_type": "stream",
     "text": [
      "Periodos entrenar: [201701 201702 201703 201704 201705 201706 201707 201708 201709 201710\n",
      " 201711 201712 201801 201802 201803 201804 201805 201806 201807 201808\n",
      " 201809 201810 201811 201812 201901 201902 201903 201904 201905]\n",
      "Periodos validar: [201907]\n",
      "product_id a validar: 2320\n",
      "X_train: (46371, 120)\n",
      "y_train: (46371,)\n",
      "\n",
      "X_validate: (2320, 120)\n",
      "y_validate: (2320,)\n",
      "Optimizacion Bayesiana\n",
      "**************** tweedie ****************\n",
      "Training until validation scores don't improve for 82 rounds\n"
     ]
    },
    {
     "name": "stderr",
     "output_type": "stream",
     "text": [
      "[I 2023-12-21 17:02:43,348] Trial 0 finished with value: 137.71 and parameters: {'lambda_l1': 950.4405869114021, 'lambda_l2': 535.886463788031, 'learning_rate': 0.15158465830767476, 'num_leaves': 64, 'feature_fraction': 0.9679859014242893, 'min_data_in_leaf': 4429}. Best is trial 0 with value: 137.71.\n"
     ]
    },
    {
     "name": "stdout",
     "output_type": "stream",
     "text": [
      "[100]\tvalid_0's ER: 137.71\n",
      "Early stopping, best iteration is:\n",
      "[42]\tvalid_0's ER: 137.71\n",
      "Evaluated only: ER\n",
      "**************** tweedie ****************\n",
      "Training until validation scores don't improve for 75 rounds\n",
      "[100]\tvalid_0's ER: 104.79\n"
     ]
    },
    {
     "name": "stderr",
     "output_type": "stream",
     "text": [
      "[I 2023-12-21 17:02:44,630] Trial 1 finished with value: 104.16 and parameters: {'lambda_l1': 77.67735074014826, 'lambda_l2': 488.7817436716296, 'learning_rate': 0.19355278519179, 'num_leaves': 173, 'feature_fraction': 0.9666120920914387, 'min_data_in_leaf': 2078}. Best is trial 1 with value: 104.16.\n"
     ]
    },
    {
     "name": "stdout",
     "output_type": "stream",
     "text": [
      "Early stopping, best iteration is:\n",
      "[80]\tvalid_0's ER: 104.16\n",
      "Evaluated only: ER\n",
      "**************** tweedie ****************\n",
      "Training until validation scores don't improve for 94 rounds\n",
      "[100]\tvalid_0's ER: 112.66\n",
      "[200]\tvalid_0's ER: 110\n"
     ]
    },
    {
     "name": "stderr",
     "output_type": "stream",
     "text": [
      "[I 2023-12-21 17:02:46,170] Trial 2 finished with value: 109.68 and parameters: {'lambda_l1': 50.19916167651661, 'lambda_l2': 585.9112344810688, 'learning_rate': 0.11138167957305094, 'num_leaves': 869, 'feature_fraction': 0.31936789362713136, 'min_data_in_leaf': 7627}. Best is trial 1 with value: 104.16.\n"
     ]
    },
    {
     "name": "stdout",
     "output_type": "stream",
     "text": [
      "[300]\tvalid_0's ER: 109.96\n",
      "Early stopping, best iteration is:\n",
      "[215]\tvalid_0's ER: 109.68\n",
      "Evaluated only: ER\n",
      "**************** tweedie ****************\n",
      "Training until validation scores don't improve for 105 rounds\n",
      "[100]\tvalid_0's ER: 138.11\n",
      "[200]\tvalid_0's ER: 138.05\n"
     ]
    },
    {
     "name": "stderr",
     "output_type": "stream",
     "text": [
      "[I 2023-12-21 17:02:47,792] Trial 3 finished with value: 138.05 and parameters: {'lambda_l1': 992.249110020864, 'lambda_l2': 636.208823338348, 'learning_rate': 0.09050855094677551, 'num_leaves': 623, 'feature_fraction': 0.5924376369622273, 'min_data_in_leaf': 4262}. Best is trial 1 with value: 104.16.\n"
     ]
    },
    {
     "name": "stdout",
     "output_type": "stream",
     "text": [
      "Early stopping, best iteration is:\n",
      "[167]\tvalid_0's ER: 138.05\n",
      "Evaluated only: ER\n",
      "**************** tweedie ****************\n",
      "Training until validation scores don't improve for 75 rounds\n",
      "[100]\tvalid_0's ER: 140.54\n"
     ]
    },
    {
     "name": "stderr",
     "output_type": "stream",
     "text": [
      "[I 2023-12-21 17:02:48,791] Trial 4 finished with value: 140.5 and parameters: {'lambda_l1': 920.2519479468365, 'lambda_l2': 216.81089063971183, 'learning_rate': 0.19582707955011147, 'num_leaves': 249, 'feature_fraction': 0.27936556194835166, 'min_data_in_leaf': 5952}. Best is trial 1 with value: 104.16.\n"
     ]
    },
    {
     "name": "stdout",
     "output_type": "stream",
     "text": [
      "[200]\tvalid_0's ER: 140.5\n",
      "Early stopping, best iteration is:\n",
      "[144]\tvalid_0's ER: 140.5\n",
      "Evaluated only: ER\n",
      "**************** tweedie ****************\n",
      "Training until validation scores don't improve for 133 rounds\n",
      "[100]\tvalid_0's ER: 134.18\n",
      "[200]\tvalid_0's ER: 132.47\n",
      "[300]\tvalid_0's ER: 132.43\n",
      "[400]\tvalid_0's ER: 132.42\n"
     ]
    },
    {
     "name": "stderr",
     "output_type": "stream",
     "text": [
      "[I 2023-12-21 17:02:50,610] Trial 5 finished with value: 132.42 and parameters: {'lambda_l1': 810.6577453678156, 'lambda_l2': 636.8771553705122, 'learning_rate': 0.059932471658422526, 'num_leaves': 603, 'feature_fraction': 0.26954104004470497, 'min_data_in_leaf': 3201}. Best is trial 1 with value: 104.16.\n"
     ]
    },
    {
     "name": "stdout",
     "output_type": "stream",
     "text": [
      "Early stopping, best iteration is:\n",
      "[354]\tvalid_0's ER: 132.42\n",
      "Evaluated only: ER\n",
      "**************** tweedie ****************\n",
      "Training until validation scores don't improve for 136 rounds\n",
      "[100]\tvalid_0's ER: 136.63\n",
      "[200]\tvalid_0's ER: 135.35\n"
     ]
    },
    {
     "name": "stderr",
     "output_type": "stream",
     "text": [
      "[I 2023-12-21 17:02:52,428] Trial 6 finished with value: 135.35 and parameters: {'lambda_l1': 895.4856432472938, 'lambda_l2': 633.4482021508974, 'learning_rate': 0.05786295365297621, 'num_leaves': 119, 'feature_fraction': 0.9837163705898553, 'min_data_in_leaf': 4146}. Best is trial 1 with value: 104.16.\n"
     ]
    },
    {
     "name": "stdout",
     "output_type": "stream",
     "text": [
      "Early stopping, best iteration is:\n",
      "[144]\tvalid_0's ER: 135.35\n",
      "Evaluated only: ER\n",
      "**************** tweedie ****************\n",
      "Training until validation scores don't improve for 74 rounds\n"
     ]
    },
    {
     "name": "stderr",
     "output_type": "stream",
     "text": [
      "[I 2023-12-21 17:02:53,302] Trial 7 finished with value: 116.85 and parameters: {'lambda_l1': 459.07832235054747, 'lambda_l2': 767.5967266990192, 'learning_rate': 0.20114452226401883, 'num_leaves': 11, 'feature_fraction': 0.3918594535873056, 'min_data_in_leaf': 692}. Best is trial 1 with value: 104.16.\n"
     ]
    },
    {
     "name": "stdout",
     "output_type": "stream",
     "text": [
      "[100]\tvalid_0's ER: 117.3\n",
      "Early stopping, best iteration is:\n",
      "[59]\tvalid_0's ER: 116.85\n",
      "Evaluated only: ER\n",
      "**************** tweedie ****************\n",
      "Training until validation scores don't improve for 72 rounds\n"
     ]
    },
    {
     "name": "stderr",
     "output_type": "stream",
     "text": [
      "[I 2023-12-21 17:02:54,114] Trial 8 finished with value: 135.8 and parameters: {'lambda_l1': 686.7250170911993, 'lambda_l2': 627.3214718575151, 'learning_rate': 0.22117546605313165, 'num_leaves': 774, 'feature_fraction': 0.3199036170797876, 'min_data_in_leaf': 7543}. Best is trial 1 with value: 104.16.\n"
     ]
    },
    {
     "name": "stdout",
     "output_type": "stream",
     "text": [
      "[100]\tvalid_0's ER: 135.79\n",
      "Early stopping, best iteration is:\n",
      "[73]\tvalid_0's ER: 135.73\n",
      "Evaluated only: ER\n",
      "**************** tweedie ****************\n",
      "Training until validation scores don't improve for 69 rounds\n"
     ]
    },
    {
     "name": "stderr",
     "output_type": "stream",
     "text": [
      "[I 2023-12-21 17:02:54,971] Trial 9 finished with value: 127.73 and parameters: {'lambda_l1': 501.15435184944147, 'lambda_l2': 402.79575342464625, 'learning_rate': 0.2541834446490375, 'num_leaves': 740, 'feature_fraction': 0.6697161696629765, 'min_data_in_leaf': 6881}. Best is trial 1 with value: 104.16.\n"
     ]
    },
    {
     "name": "stdout",
     "output_type": "stream",
     "text": [
      "[100]\tvalid_0's ER: 127.73\n",
      "Early stopping, best iteration is:\n",
      "[37]\tvalid_0's ER: 127.73\n",
      "Evaluated only: ER\n",
      "# Experimentos: 10\n",
      "Mejor experimento: {'lambda_l1': 77.67735074014826, 'lambda_l2': 488.7817436716296, 'learning_rate': 0.19355278519179, 'num_leaves': 173, 'feature_fraction': 0.9666120920914387, 'min_data_in_leaf': 2078}\n",
      "=========================================== Cluster 46 ===========================================\n"
     ]
    },
    {
     "name": "stderr",
     "output_type": "stream",
     "text": [
      "[I 2023-12-21 17:02:55,894] A new study created in memory with name: no-name-2262699c-4148-4992-b24c-be6d71e1e695\n"
     ]
    },
    {
     "name": "stdout",
     "output_type": "stream",
     "text": [
      "Periodos entrenar: [201701 201702 201703 201704 201705 201706 201707 201708 201709 201710\n",
      " 201711 201712 201801 201802 201803 201804 201805 201806 201807 201808\n",
      " 201809 201810 201811 201812 201901 201902 201903 201904 201905]\n",
      "Periodos validar: [201907]\n",
      "product_id a validar: 1160\n",
      "X_train: (30481, 120)\n",
      "y_train: (30481,)\n",
      "\n",
      "X_validate: (1160, 120)\n",
      "y_validate: (1160,)\n",
      "Optimizacion Bayesiana\n",
      "**************** tweedie ****************\n",
      "Training until validation scores don't improve for 157 rounds\n",
      "[100]\tvalid_0's ER: 99.88\n",
      "[200]\tvalid_0's ER: 96.54\n",
      "[300]\tvalid_0's ER: 96.25\n"
     ]
    },
    {
     "name": "stderr",
     "output_type": "stream",
     "text": [
      "[I 2023-12-21 17:02:57,956] Trial 0 finished with value: 96.23 and parameters: {'lambda_l1': 288.4052393408318, 'lambda_l2': 513.7906221439181, 'learning_rate': 0.046564990585021906, 'num_leaves': 382, 'feature_fraction': 0.8709365979358625, 'min_data_in_leaf': 1531}. Best is trial 0 with value: 96.23.\n"
     ]
    },
    {
     "name": "stdout",
     "output_type": "stream",
     "text": [
      "[400]\tvalid_0's ER: 96.25\n",
      "Early stopping, best iteration is:\n",
      "[253]\tvalid_0's ER: 96.23\n",
      "Evaluated only: ER\n",
      "**************** tweedie ****************\n",
      "Training until validation scores don't improve for 165 rounds\n",
      "[100]\tvalid_0's ER: 115.08\n",
      "[200]\tvalid_0's ER: 112.85\n",
      "[300]\tvalid_0's ER: 112.57\n",
      "[400]\tvalid_0's ER: 112.57\n",
      "Early stopping, best iteration is:\n",
      "[298]\tvalid_0's ER: 112.57\n",
      "Evaluated only: ER\n"
     ]
    },
    {
     "name": "stderr",
     "output_type": "stream",
     "text": [
      "[I 2023-12-21 17:02:59,694] Trial 1 finished with value: 112.57 and parameters: {'lambda_l1': 706.3856392600275, 'lambda_l2': 109.2255709558495, 'learning_rate': 0.04338597117816983, 'num_leaves': 240, 'feature_fraction': 0.6828658583965068, 'min_data_in_leaf': 4578}. Best is trial 0 with value: 96.23.\n"
     ]
    },
    {
     "name": "stdout",
     "output_type": "stream",
     "text": [
      "**************** tweedie ****************\n",
      "Training until validation scores don't improve for 73 rounds\n",
      "[100]\tvalid_0's ER: 121.12\n",
      "Early stopping, best iteration is:\n",
      "[42]\tvalid_0's ER: 121.12\n",
      "Evaluated only: ER\n"
     ]
    },
    {
     "name": "stderr",
     "output_type": "stream",
     "text": [
      "[I 2023-12-21 17:03:00,454] Trial 2 finished with value: 121.12 and parameters: {'lambda_l1': 918.0377388814416, 'lambda_l2': 38.0167522406144, 'learning_rate': 0.21004840267722907, 'num_leaves': 341, 'feature_fraction': 0.7307481093159915, 'min_data_in_leaf': 6650}. Best is trial 0 with value: 96.23.\n"
     ]
    },
    {
     "name": "stdout",
     "output_type": "stream",
     "text": [
      "**************** tweedie ****************\n",
      "Training until validation scores don't improve for 104 rounds\n",
      "[100]\tvalid_0's ER: 125.15\n"
     ]
    },
    {
     "name": "stderr",
     "output_type": "stream",
     "text": [
      "[I 2023-12-21 17:03:01,401] Trial 3 finished with value: 124.61 and parameters: {'lambda_l1': 992.4741927797228, 'lambda_l2': 705.7878835917102, 'learning_rate': 0.09232175567278755, 'num_leaves': 59, 'feature_fraction': 0.550529406461757, 'min_data_in_leaf': 7339}. Best is trial 0 with value: 96.23.\n"
     ]
    },
    {
     "name": "stdout",
     "output_type": "stream",
     "text": [
      "[200]\tvalid_0's ER: 124.62\n",
      "Early stopping, best iteration is:\n",
      "[143]\tvalid_0's ER: 124.61\n",
      "Evaluated only: ER\n",
      "**************** tweedie ****************\n",
      "Training until validation scores don't improve for 83 rounds\n",
      "[100]\tvalid_0's ER: 106.71\n"
     ]
    },
    {
     "name": "stderr",
     "output_type": "stream",
     "text": [
      "[I 2023-12-21 17:03:02,042] Trial 4 finished with value: 106.57 and parameters: {'lambda_l1': 647.9187812364258, 'lambda_l2': 308.9256114654673, 'learning_rate': 0.1493132975456656, 'num_leaves': 669, 'feature_fraction': 0.22693650603026125, 'min_data_in_leaf': 2769}. Best is trial 0 with value: 96.23.\n"
     ]
    },
    {
     "name": "stdout",
     "output_type": "stream",
     "text": [
      "[200]\tvalid_0's ER: 106.57\n",
      "Early stopping, best iteration is:\n",
      "[144]\tvalid_0's ER: 106.56\n",
      "Evaluated only: ER\n",
      "**************** tweedie ****************\n",
      "Training until validation scores don't improve for 87 rounds\n"
     ]
    },
    {
     "name": "stderr",
     "output_type": "stream",
     "text": [
      "[I 2023-12-21 17:03:02,757] Trial 5 finished with value: 101.02 and parameters: {'lambda_l1': 425.0052894014945, 'lambda_l2': 236.8528096782674, 'learning_rate': 0.13171732466784675, 'num_leaves': 186, 'feature_fraction': 0.7119279333256248, 'min_data_in_leaf': 2707}. Best is trial 0 with value: 96.23.\n"
     ]
    },
    {
     "name": "stdout",
     "output_type": "stream",
     "text": [
      "[100]\tvalid_0's ER: 101.07\n",
      "Early stopping, best iteration is:\n",
      "[55]\tvalid_0's ER: 101.02\n",
      "Evaluated only: ER\n",
      "**************** tweedie ****************\n",
      "Training until validation scores don't improve for 111 rounds\n",
      "[100]\tvalid_0's ER: 100.24\n"
     ]
    },
    {
     "name": "stderr",
     "output_type": "stream",
     "text": [
      "[I 2023-12-21 17:03:03,560] Trial 6 finished with value: 100.02 and parameters: {'lambda_l1': 100.45760475336208, 'lambda_l2': 212.2852548767431, 'learning_rate': 0.08133055679038739, 'num_leaves': 747, 'feature_fraction': 0.44442962636259864, 'min_data_in_leaf': 7693}. Best is trial 0 with value: 96.23.\n"
     ]
    },
    {
     "name": "stdout",
     "output_type": "stream",
     "text": [
      "[200]\tvalid_0's ER: 100.16\n",
      "Early stopping, best iteration is:\n",
      "[106]\tvalid_0's ER: 100.02\n",
      "Evaluated only: ER\n",
      "**************** tweedie ****************\n",
      "Training until validation scores don't improve for 67 rounds\n"
     ]
    },
    {
     "name": "stderr",
     "output_type": "stream",
     "text": [
      "[I 2023-12-21 17:03:04,094] Trial 7 finished with value: 108.44 and parameters: {'lambda_l1': 627.2082316783033, 'lambda_l2': 288.9970421037187, 'learning_rate': 0.2804585976387388, 'num_leaves': 310, 'feature_fraction': 0.9328925831142794, 'min_data_in_leaf': 3913}. Best is trial 0 with value: 96.23.\n"
     ]
    },
    {
     "name": "stdout",
     "output_type": "stream",
     "text": [
      "[100]\tvalid_0's ER: 108.44\n",
      "Early stopping, best iteration is:\n",
      "[39]\tvalid_0's ER: 108.44\n",
      "Evaluated only: ER\n",
      "**************** tweedie ****************\n",
      "Training until validation scores don't improve for 67 rounds\n"
     ]
    },
    {
     "name": "stderr",
     "output_type": "stream",
     "text": [
      "[I 2023-12-21 17:03:04,707] Trial 8 finished with value: 103.1 and parameters: {'lambda_l1': 579.3592960911601, 'lambda_l2': 997.5318587436127, 'learning_rate': 0.286683665462271, 'num_leaves': 714, 'feature_fraction': 0.7239437052356628, 'min_data_in_leaf': 139}. Best is trial 0 with value: 96.23.\n"
     ]
    },
    {
     "name": "stdout",
     "output_type": "stream",
     "text": [
      "[100]\tvalid_0's ER: 103.1\n",
      "Early stopping, best iteration is:\n",
      "[40]\tvalid_0's ER: 103.1\n",
      "Evaluated only: ER\n",
      "**************** tweedie ****************\n",
      "Training until validation scores don't improve for 70 rounds\n"
     ]
    },
    {
     "name": "stderr",
     "output_type": "stream",
     "text": [
      "[I 2023-12-21 17:03:05,260] Trial 9 finished with value: 102.44 and parameters: {'lambda_l1': 551.6728307167816, 'lambda_l2': 77.73504863023994, 'learning_rate': 0.24697622744373668, 'num_leaves': 299, 'feature_fraction': 0.6991629288286842, 'min_data_in_leaf': 1249}. Best is trial 0 with value: 96.23.\n"
     ]
    },
    {
     "name": "stdout",
     "output_type": "stream",
     "text": [
      "Early stopping, best iteration is:\n",
      "[26]\tvalid_0's ER: 102.44\n",
      "Evaluated only: ER\n",
      "# Experimentos: 10\n",
      "Mejor experimento: {'lambda_l1': 288.4052393408318, 'lambda_l2': 513.7906221439181, 'learning_rate': 0.046564990585021906, 'num_leaves': 382, 'feature_fraction': 0.8709365979358625, 'min_data_in_leaf': 1531}\n",
      "=========================================== Cluster 47 ===========================================\n"
     ]
    },
    {
     "name": "stderr",
     "output_type": "stream",
     "text": [
      "[I 2023-12-21 17:03:07,001] A new study created in memory with name: no-name-d9d1120a-d10f-48b4-b061-5b26a66467ff\n"
     ]
    },
    {
     "name": "stdout",
     "output_type": "stream",
     "text": [
      "Periodos entrenar: [201710 201711 201712 201801 201802 201803 201804 201805 201806 201807\n",
      " 201808 201809 201810 201811 201812 201901 201902 201903 201904 201905]\n",
      "Periodos validar: [201907]\n",
      "product_id a validar: 4060\n",
      "X_train: (50777, 120)\n",
      "y_train: (50777,)\n",
      "\n",
      "X_validate: (4060, 120)\n",
      "y_validate: (4060,)\n",
      "Optimizacion Bayesiana\n",
      "**************** tweedie ****************\n",
      "Training until validation scores don't improve for 101 rounds\n",
      "[100]\tvalid_0's ER: 115.94\n",
      "[200]\tvalid_0's ER: 115.47\n"
     ]
    },
    {
     "name": "stderr",
     "output_type": "stream",
     "text": [
      "[I 2023-12-21 17:03:09,525] Trial 0 finished with value: 115.39 and parameters: {'lambda_l1': 322.05337299814306, 'lambda_l2': 809.0449398507332, 'learning_rate': 0.0971681969331974, 'num_leaves': 850, 'feature_fraction': 0.9585238798094997, 'min_data_in_leaf': 1095}. Best is trial 0 with value: 115.39.\n"
     ]
    },
    {
     "name": "stdout",
     "output_type": "stream",
     "text": [
      "Early stopping, best iteration is:\n",
      "[180]\tvalid_0's ER: 115.39\n",
      "Evaluated only: ER\n",
      "**************** tweedie ****************\n",
      "Training until validation scores don't improve for 77 rounds\n",
      "[100]\tvalid_0's ER: 119.95\n"
     ]
    },
    {
     "name": "stderr",
     "output_type": "stream",
     "text": [
      "[I 2023-12-21 17:03:11,381] Trial 1 finished with value: 119.67 and parameters: {'lambda_l1': 105.80669175346947, 'lambda_l2': 521.2457788994473, 'learning_rate': 0.18017438372653927, 'num_leaves': 422, 'feature_fraction': 0.8971459325424855, 'min_data_in_leaf': 4826}. Best is trial 0 with value: 115.39.\n"
     ]
    },
    {
     "name": "stdout",
     "output_type": "stream",
     "text": [
      "[200]\tvalid_0's ER: 119.67\n",
      "Early stopping, best iteration is:\n",
      "[153]\tvalid_0's ER: 119.67\n",
      "Evaluated only: ER\n",
      "**************** tweedie ****************\n",
      "Training until validation scores don't improve for 91 rounds\n",
      "[100]\tvalid_0's ER: 115.86\n"
     ]
    },
    {
     "name": "stderr",
     "output_type": "stream",
     "text": [
      "[I 2023-12-21 17:03:13,395] Trial 2 finished with value: 115.48 and parameters: {'lambda_l1': 345.60106969172745, 'lambda_l2': 779.2749134395655, 'learning_rate': 0.12029893520270098, 'num_leaves': 114, 'feature_fraction': 0.9284356708949653, 'min_data_in_leaf': 970}. Best is trial 0 with value: 115.39.\n"
     ]
    },
    {
     "name": "stdout",
     "output_type": "stream",
     "text": [
      "[200]\tvalid_0's ER: 115.65\n",
      "Early stopping, best iteration is:\n",
      "[130]\tvalid_0's ER: 115.48\n",
      "Evaluated only: ER\n",
      "**************** tweedie ****************\n",
      "Training until validation scores don't improve for 184 rounds\n",
      "[100]\tvalid_0's ER: 129.09\n",
      "[200]\tvalid_0's ER: 122.28\n",
      "[300]\tvalid_0's ER: 120.92\n",
      "[400]\tvalid_0's ER: 120.84\n"
     ]
    },
    {
     "name": "stderr",
     "output_type": "stream",
     "text": [
      "[I 2023-12-21 17:03:17,626] Trial 3 finished with value: 120.76 and parameters: {'lambda_l1': 509.1229893462735, 'lambda_l2': 751.1843087616356, 'learning_rate': 0.037224186540591744, 'num_leaves': 492, 'feature_fraction': 0.678484504293547, 'min_data_in_leaf': 1156}. Best is trial 0 with value: 115.39.\n"
     ]
    },
    {
     "name": "stdout",
     "output_type": "stream",
     "text": [
      "Early stopping, best iteration is:\n",
      "[307]\tvalid_0's ER: 120.76\n",
      "Evaluated only: ER\n",
      "**************** tweedie ****************\n",
      "Training until validation scores don't improve for 89 rounds\n",
      "[100]\tvalid_0's ER: 144.55\n"
     ]
    },
    {
     "name": "stderr",
     "output_type": "stream",
     "text": [
      "[I 2023-12-21 17:03:18,609] Trial 4 finished with value: 144.43 and parameters: {'lambda_l1': 904.2831039452789, 'lambda_l2': 778.6235043136513, 'learning_rate': 0.1254346158211288, 'num_leaves': 342, 'feature_fraction': 0.24067123253574368, 'min_data_in_leaf': 2667}. Best is trial 0 with value: 115.39.\n"
     ]
    },
    {
     "name": "stdout",
     "output_type": "stream",
     "text": [
      "Early stopping, best iteration is:\n",
      "[72]\tvalid_0's ER: 144.42\n",
      "Evaluated only: ER\n",
      "**************** tweedie ****************\n",
      "Training until validation scores don't improve for 82 rounds\n",
      "[100]\tvalid_0's ER: 130.14\n"
     ]
    },
    {
     "name": "stderr",
     "output_type": "stream",
     "text": [
      "[I 2023-12-21 17:03:19,877] Trial 5 finished with value: 129.77 and parameters: {'lambda_l1': 529.3672872523314, 'lambda_l2': 752.763981277644, 'learning_rate': 0.15582695603387794, 'num_leaves': 208, 'feature_fraction': 0.40954009770076905, 'min_data_in_leaf': 3932}. Best is trial 0 with value: 115.39.\n"
     ]
    },
    {
     "name": "stdout",
     "output_type": "stream",
     "text": [
      "Early stopping, best iteration is:\n",
      "[115]\tvalid_0's ER: 129.77\n",
      "Evaluated only: ER\n",
      "**************** tweedie ****************\n",
      "Training until validation scores don't improve for 99 rounds\n",
      "[100]\tvalid_0's ER: 118.83\n"
     ]
    },
    {
     "name": "stderr",
     "output_type": "stream",
     "text": [
      "[I 2023-12-21 17:03:21,817] Trial 6 finished with value: 118.56 and parameters: {'lambda_l1': 150.48859912769652, 'lambda_l2': 229.4415934556836, 'learning_rate': 0.10065835494957194, 'num_leaves': 799, 'feature_fraction': 0.7455878399913509, 'min_data_in_leaf': 2956}. Best is trial 0 with value: 115.39.\n"
     ]
    },
    {
     "name": "stdout",
     "output_type": "stream",
     "text": [
      "[200]\tvalid_0's ER: 118.93\n",
      "Early stopping, best iteration is:\n",
      "[123]\tvalid_0's ER: 118.56\n",
      "Evaluated only: ER\n",
      "**************** tweedie ****************\n",
      "Training until validation scores don't improve for 118 rounds\n",
      "[100]\tvalid_0's ER: 141.07\n"
     ]
    },
    {
     "name": "stderr",
     "output_type": "stream",
     "text": [
      "[I 2023-12-21 17:03:23,264] Trial 7 finished with value: 141.04 and parameters: {'lambda_l1': 848.5448096463311, 'lambda_l2': 213.54611764704367, 'learning_rate': 0.0725697845492014, 'num_leaves': 566, 'feature_fraction': 0.5783650965734191, 'min_data_in_leaf': 3230}. Best is trial 0 with value: 115.39.\n"
     ]
    },
    {
     "name": "stdout",
     "output_type": "stream",
     "text": [
      "Early stopping, best iteration is:\n",
      "[62]\tvalid_0's ER: 141.04\n",
      "Evaluated only: ER\n",
      "**************** tweedie ****************\n",
      "Training until validation scores don't improve for 115 rounds\n",
      "[100]\tvalid_0's ER: 132.88\n"
     ]
    },
    {
     "name": "stderr",
     "output_type": "stream",
     "text": [
      "[I 2023-12-21 17:03:24,469] Trial 8 finished with value: 132.57 and parameters: {'lambda_l1': 778.340924173006, 'lambda_l2': 12.363944191575825, 'learning_rate': 0.0767554794275944, 'num_leaves': 196, 'feature_fraction': 0.3823382552481045, 'min_data_in_leaf': 252}. Best is trial 0 with value: 115.39.\n"
     ]
    },
    {
     "name": "stdout",
     "output_type": "stream",
     "text": [
      "Early stopping, best iteration is:\n",
      "[47]\tvalid_0's ER: 132.57\n",
      "Evaluated only: ER\n",
      "**************** tweedie ****************\n",
      "Training until validation scores don't improve for 88 rounds\n"
     ]
    },
    {
     "name": "stderr",
     "output_type": "stream",
     "text": [
      "[I 2023-12-21 17:03:25,611] Trial 9 finished with value: 134.05 and parameters: {'lambda_l1': 762.9443212448765, 'lambda_l2': 388.66466813556247, 'learning_rate': 0.1313421735314879, 'num_leaves': 201, 'feature_fraction': 0.8057305532607306, 'min_data_in_leaf': 2091}. Best is trial 0 with value: 115.39.\n"
     ]
    },
    {
     "name": "stdout",
     "output_type": "stream",
     "text": [
      "[100]\tvalid_0's ER: 134.38\n",
      "Early stopping, best iteration is:\n",
      "[39]\tvalid_0's ER: 134.05\n",
      "Evaluated only: ER\n",
      "# Experimentos: 10\n",
      "Mejor experimento: {'lambda_l1': 322.05337299814306, 'lambda_l2': 809.0449398507332, 'learning_rate': 0.0971681969331974, 'num_leaves': 850, 'feature_fraction': 0.9585238798094997, 'min_data_in_leaf': 1095}\n",
      "=========================================== Cluster 48 ===========================================\n"
     ]
    },
    {
     "name": "stderr",
     "output_type": "stream",
     "text": [
      "[I 2023-12-21 17:03:26,532] A new study created in memory with name: no-name-23f50649-09a3-4da1-afb2-334627226f8d\n"
     ]
    },
    {
     "name": "stdout",
     "output_type": "stream",
     "text": [
      "Periodos entrenar: [201811 201812 201901 201902 201903 201904 201905]\n",
      "Periodos validar: [201907]\n",
      "product_id a validar: 2900\n",
      "X_train: (19710, 120)\n",
      "y_train: (19710,)\n",
      "\n",
      "X_validate: (2900, 120)\n",
      "y_validate: (2900,)\n",
      "Optimizacion Bayesiana\n",
      "**************** tweedie ****************\n",
      "Training until validation scores don't improve for 266 rounds\n",
      "[100]\tvalid_0's ER: 128.08\n",
      "[200]\tvalid_0's ER: 121.64\n",
      "[300]\tvalid_0's ER: 121.24\n",
      "[400]\tvalid_0's ER: 120.87\n",
      "[500]\tvalid_0's ER: 120.9\n",
      "[600]\tvalid_0's ER: 120.9\n",
      "Early stopping, best iteration is:\n",
      "[389]\tvalid_0's ER: 120.82\n",
      "Evaluated only: ER\n"
     ]
    },
    {
     "name": "stderr",
     "output_type": "stream",
     "text": [
      "[I 2023-12-21 17:03:29,351] Trial 0 finished with value: 120.82 and parameters: {'lambda_l1': 297.4303328556627, 'lambda_l2': 38.65974506814207, 'learning_rate': 0.02314410310821917, 'num_leaves': 540, 'feature_fraction': 0.7930536956983942, 'min_data_in_leaf': 468}. Best is trial 0 with value: 120.82.\n"
     ]
    },
    {
     "name": "stdout",
     "output_type": "stream",
     "text": [
      "**************** tweedie ****************\n",
      "Training until validation scores don't improve for 253 rounds\n",
      "[100]\tvalid_0's ER: 161.9\n",
      "[200]\tvalid_0's ER: 155.87\n",
      "[300]\tvalid_0's ER: 154.18\n",
      "[400]\tvalid_0's ER: 153.59\n",
      "[500]\tvalid_0's ER: 153.38\n",
      "[600]\tvalid_0's ER: 153.29\n",
      "[700]\tvalid_0's ER: 153.25\n",
      "[800]\tvalid_0's ER: 153.22\n",
      "[900]\tvalid_0's ER: 153.19\n",
      "[1000]\tvalid_0's ER: 153.18\n",
      "[1100]\tvalid_0's ER: 153.17\n",
      "[1200]\tvalid_0's ER: 153.16\n",
      "[1300]\tvalid_0's ER: 153.15\n",
      "[1400]\tvalid_0's ER: 153.15\n",
      "[1500]\tvalid_0's ER: 153.14\n"
     ]
    },
    {
     "name": "stderr",
     "output_type": "stream",
     "text": [
      "[I 2023-12-21 17:03:33,786] Trial 1 finished with value: 153.14 and parameters: {'lambda_l1': 905.5070366279145, 'lambda_l2': 777.467765456201, 'learning_rate': 0.024589448292033196, 'num_leaves': 693, 'feature_fraction': 0.20558815154232876, 'min_data_in_leaf': 7687}. Best is trial 0 with value: 120.82.\n"
     ]
    },
    {
     "name": "stdout",
     "output_type": "stream",
     "text": [
      "[1600]\tvalid_0's ER: 153.14\n",
      "Early stopping, best iteration is:\n",
      "[1408]\tvalid_0's ER: 153.14\n",
      "Evaluated only: ER\n",
      "**************** tweedie ****************\n",
      "Training until validation scores don't improve for 88 rounds\n",
      "[100]\tvalid_0's ER: 156.49\n"
     ]
    },
    {
     "name": "stderr",
     "output_type": "stream",
     "text": [
      "[I 2023-12-21 17:03:34,578] Trial 2 finished with value: 156.46 and parameters: {'lambda_l1': 997.1838736066495, 'lambda_l2': 755.4264670906816, 'learning_rate': 0.13012682721209692, 'num_leaves': 1006, 'feature_fraction': 0.7614214990723387, 'min_data_in_leaf': 7531}. Best is trial 0 with value: 120.82.\n"
     ]
    },
    {
     "name": "stdout",
     "output_type": "stream",
     "text": [
      "[200]\tvalid_0's ER: 156.46\n",
      "Early stopping, best iteration is:\n",
      "[125]\tvalid_0's ER: 156.46\n",
      "Evaluated only: ER\n",
      "**************** tweedie ****************\n",
      "Training until validation scores don't improve for 79 rounds\n"
     ]
    },
    {
     "name": "stderr",
     "output_type": "stream",
     "text": [
      "[I 2023-12-21 17:03:35,143] Trial 3 finished with value: 146.83 and parameters: {'lambda_l1': 765.0241033200148, 'lambda_l2': 844.1101261499102, 'learning_rate': 0.1688480213268479, 'num_leaves': 528, 'feature_fraction': 0.41436081742329495, 'min_data_in_leaf': 1046}. Best is trial 0 with value: 120.82.\n"
     ]
    },
    {
     "name": "stdout",
     "output_type": "stream",
     "text": [
      "[100]\tvalid_0's ER: 146.84\n",
      "Early stopping, best iteration is:\n",
      "[66]\tvalid_0's ER: 146.83\n",
      "Evaluated only: ER\n",
      "**************** tweedie ****************\n",
      "Training until validation scores don't improve for 77 rounds\n",
      "[100]\tvalid_0's ER: 135.67\n",
      "Early stopping, best iteration is:\n",
      "[87]\tvalid_0's ER: 135.66\n",
      "Evaluated only: ER\n"
     ]
    },
    {
     "name": "stderr",
     "output_type": "stream",
     "text": [
      "[I 2023-12-21 17:03:35,789] Trial 4 finished with value: 135.66 and parameters: {'lambda_l1': 292.3073077078795, 'lambda_l2': 305.9034165696594, 'learning_rate': 0.18170246448428856, 'num_leaves': 793, 'feature_fraction': 0.9300634954058729, 'min_data_in_leaf': 7530}. Best is trial 0 with value: 120.82.\n"
     ]
    },
    {
     "name": "stdout",
     "output_type": "stream",
     "text": [
      "**************** tweedie ****************\n",
      "Training until validation scores don't improve for 99 rounds\n",
      "[100]\tvalid_0's ER: 141.35\n",
      "[200]\tvalid_0's ER: 141.18\n"
     ]
    },
    {
     "name": "stderr",
     "output_type": "stream",
     "text": [
      "[I 2023-12-21 17:03:36,675] Trial 5 finished with value: 141.17 and parameters: {'lambda_l1': 573.9850019232764, 'lambda_l2': 409.68548165028506, 'learning_rate': 0.10133946940613456, 'num_leaves': 321, 'feature_fraction': 0.257867305023882, 'min_data_in_leaf': 5334}. Best is trial 0 with value: 120.82.\n"
     ]
    },
    {
     "name": "stdout",
     "output_type": "stream",
     "text": [
      "[300]\tvalid_0's ER: 141.17\n",
      "Early stopping, best iteration is:\n",
      "[223]\tvalid_0's ER: 141.17\n",
      "Evaluated only: ER\n",
      "**************** tweedie ****************\n",
      "Training until validation scores don't improve for 80 rounds\n"
     ]
    },
    {
     "name": "stderr",
     "output_type": "stream",
     "text": [
      "[I 2023-12-21 17:03:37,192] Trial 6 finished with value: 135.06 and parameters: {'lambda_l1': 288.24584667533514, 'lambda_l2': 213.3623783129339, 'learning_rate': 0.16257229976535056, 'num_leaves': 148, 'feature_fraction': 0.44049317899344953, 'min_data_in_leaf': 5365}. Best is trial 0 with value: 120.82.\n"
     ]
    },
    {
     "name": "stdout",
     "output_type": "stream",
     "text": [
      "[100]\tvalid_0's ER: 135.34\n",
      "Early stopping, best iteration is:\n",
      "[49]\tvalid_0's ER: 135.06\n",
      "Evaluated only: ER\n",
      "**************** tweedie ****************\n",
      "Training until validation scores don't improve for 81 rounds\n",
      "[100]\tvalid_0's ER: 135.98\n"
     ]
    },
    {
     "name": "stderr",
     "output_type": "stream",
     "text": [
      "[I 2023-12-21 17:03:37,975] Trial 7 finished with value: 135.87 and parameters: {'lambda_l1': 359.66669758137783, 'lambda_l2': 469.8584467034731, 'learning_rate': 0.1564005829878916, 'num_leaves': 939, 'feature_fraction': 0.4996493590736628, 'min_data_in_leaf': 4889}. Best is trial 0 with value: 120.82.\n"
     ]
    },
    {
     "name": "stdout",
     "output_type": "stream",
     "text": [
      "[200]\tvalid_0's ER: 135.95\n",
      "Early stopping, best iteration is:\n",
      "[125]\tvalid_0's ER: 135.86\n",
      "Evaluated only: ER\n",
      "**************** tweedie ****************\n",
      "Training until validation scores don't improve for 91 rounds\n",
      "[100]\tvalid_0's ER: 147.11\n"
     ]
    },
    {
     "name": "stderr",
     "output_type": "stream",
     "text": [
      "[I 2023-12-21 17:03:38,921] Trial 8 finished with value: 147.07 and parameters: {'lambda_l1': 777.634708933578, 'lambda_l2': 714.6055479440889, 'learning_rate': 0.11988359396105318, 'num_leaves': 530, 'feature_fraction': 0.9453710731743219, 'min_data_in_leaf': 3430}. Best is trial 0 with value: 120.82.\n"
     ]
    },
    {
     "name": "stdout",
     "output_type": "stream",
     "text": [
      "[200]\tvalid_0's ER: 147.07\n",
      "Early stopping, best iteration is:\n",
      "[143]\tvalid_0's ER: 147.07\n",
      "Evaluated only: ER\n",
      "**************** tweedie ****************\n",
      "Training until validation scores don't improve for 87 rounds\n",
      "[100]\tvalid_0's ER: 140.64\n"
     ]
    },
    {
     "name": "stderr",
     "output_type": "stream",
     "text": [
      "[I 2023-12-21 17:03:39,731] Trial 9 finished with value: 140.61 and parameters: {'lambda_l1': 571.4234139764336, 'lambda_l2': 591.6606632126109, 'learning_rate': 0.13256490278979496, 'num_leaves': 215, 'feature_fraction': 0.9401423621716245, 'min_data_in_leaf': 5405}. Best is trial 0 with value: 120.82.\n"
     ]
    },
    {
     "name": "stdout",
     "output_type": "stream",
     "text": [
      "[200]\tvalid_0's ER: 140.66\n",
      "Early stopping, best iteration is:\n",
      "[115]\tvalid_0's ER: 140.61\n",
      "Evaluated only: ER\n",
      "# Experimentos: 10\n",
      "Mejor experimento: {'lambda_l1': 297.4303328556627, 'lambda_l2': 38.65974506814207, 'learning_rate': 0.02314410310821917, 'num_leaves': 540, 'feature_fraction': 0.7930536956983942, 'min_data_in_leaf': 468}\n",
      "=========================================== Cluster 49 ===========================================\n",
      "Periodos entrenar: []\n",
      "Periodos validar: [201907]\n",
      "product_id a validar: 3480\n",
      "X_train: (0, 120)\n",
      "y_train: (0,)\n",
      "\n",
      "X_validate: (3480, 120)\n",
      "y_validate: (3480,)\n",
      "=========================================== Cluster 50 ===========================================\n"
     ]
    },
    {
     "name": "stderr",
     "output_type": "stream",
     "text": [
      "[I 2023-12-21 17:03:49,985] A new study created in memory with name: no-name-4315f4b7-abec-48e3-b1d3-71976445f7f4\n"
     ]
    },
    {
     "name": "stdout",
     "output_type": "stream",
     "text": [
      "Periodos entrenar: [201701 201702 201703 201704 201705 201706 201707 201708 201709 201710\n",
      " 201711 201712 201801 201802 201803 201804 201805 201806 201807 201808\n",
      " 201809 201810 201811 201812 201901 201902 201903 201904 201905]\n",
      "Periodos validar: [201907]\n",
      "product_id a validar: 12760\n",
      "X_train: (316413, 120)\n",
      "y_train: (316413,)\n",
      "\n",
      "X_validate: (12760, 120)\n",
      "y_validate: (12760,)\n",
      "Optimizacion Bayesiana\n",
      "**************** tweedie ****************\n",
      "Training until validation scores don't improve for 128 rounds\n",
      "[100]\tvalid_0's ER: 87.14\n",
      "[200]\tvalid_0's ER: 86.4\n"
     ]
    },
    {
     "name": "stderr",
     "output_type": "stream",
     "text": [
      "[I 2023-12-21 17:04:00,592] Trial 0 finished with value: 86.4 and parameters: {'lambda_l1': 712.9343664230067, 'lambda_l2': 406.4415224452701, 'learning_rate': 0.0638880272982514, 'num_leaves': 758, 'feature_fraction': 0.8057684825894704, 'min_data_in_leaf': 5614}. Best is trial 0 with value: 86.4.\n"
     ]
    },
    {
     "name": "stdout",
     "output_type": "stream",
     "text": [
      "Early stopping, best iteration is:\n",
      "[129]\tvalid_0's ER: 86.4\n",
      "Evaluated only: ER\n",
      "**************** tweedie ****************\n",
      "Training until validation scores don't improve for 91 rounds\n",
      "[100]\tvalid_0's ER: 81.72\n",
      "[200]\tvalid_0's ER: 81.36\n"
     ]
    },
    {
     "name": "stderr",
     "output_type": "stream",
     "text": [
      "[I 2023-12-21 17:04:09,699] Trial 1 finished with value: 81.36 and parameters: {'lambda_l1': 408.10113255638737, 'lambda_l2': 985.8074912732623, 'learning_rate': 0.12114059931580728, 'num_leaves': 789, 'feature_fraction': 0.6281125785434578, 'min_data_in_leaf': 3291}. Best is trial 1 with value: 81.36.\n"
     ]
    },
    {
     "name": "stdout",
     "output_type": "stream",
     "text": [
      "Early stopping, best iteration is:\n",
      "[117]\tvalid_0's ER: 81.36\n",
      "Evaluated only: ER\n",
      "**************** tweedie ****************\n",
      "Training until validation scores don't improve for 129 rounds\n",
      "[100]\tvalid_0's ER: 87.84\n",
      "[200]\tvalid_0's ER: 87.6\n"
     ]
    },
    {
     "name": "stderr",
     "output_type": "stream",
     "text": [
      "[I 2023-12-21 17:04:18,934] Trial 2 finished with value: 87.6 and parameters: {'lambda_l1': 872.6888824521134, 'lambda_l2': 98.3897837539941, 'learning_rate': 0.06299167904723163, 'num_leaves': 637, 'feature_fraction': 0.6957530298842656, 'min_data_in_leaf': 4306}. Best is trial 1 with value: 81.36.\n"
     ]
    },
    {
     "name": "stdout",
     "output_type": "stream",
     "text": [
      "Early stopping, best iteration is:\n",
      "[110]\tvalid_0's ER: 87.6\n",
      "Evaluated only: ER\n",
      "**************** tweedie ****************\n",
      "Training until validation scores don't improve for 135 rounds\n",
      "[100]\tvalid_0's ER: 84.97\n",
      "[200]\tvalid_0's ER: 81.96\n",
      "[300]\tvalid_0's ER: 81.79\n",
      "[400]\tvalid_0's ER: 81.79\n",
      "Early stopping, best iteration is:\n",
      "[271]\tvalid_0's ER: 81.79\n",
      "Evaluated only: ER\n"
     ]
    },
    {
     "name": "stderr",
     "output_type": "stream",
     "text": [
      "[I 2023-12-21 17:04:40,720] Trial 3 finished with value: 81.79 and parameters: {'lambda_l1': 461.45194427834736, 'lambda_l2': 782.4857771702341, 'learning_rate': 0.058182228604403134, 'num_leaves': 343, 'feature_fraction': 0.5252763802585378, 'min_data_in_leaf': 958}. Best is trial 1 with value: 81.36.\n"
     ]
    },
    {
     "name": "stdout",
     "output_type": "stream",
     "text": [
      "**************** tweedie ****************\n",
      "Training until validation scores don't improve for 117 rounds\n",
      "[100]\tvalid_0's ER: 74.43\n",
      "[200]\tvalid_0's ER: 73.46\n"
     ]
    },
    {
     "name": "stderr",
     "output_type": "stream",
     "text": [
      "[I 2023-12-21 17:04:52,300] Trial 4 finished with value: 73.46 and parameters: {'lambda_l1': 144.952071122574, 'lambda_l2': 23.221721624888225, 'learning_rate': 0.07361578682415741, 'num_leaves': 827, 'feature_fraction': 0.5439227359522261, 'min_data_in_leaf': 7396}. Best is trial 4 with value: 73.46.\n"
     ]
    },
    {
     "name": "stdout",
     "output_type": "stream",
     "text": [
      "[300]\tvalid_0's ER: 73.46\n",
      "Early stopping, best iteration is:\n",
      "[183]\tvalid_0's ER: 73.46\n",
      "Evaluated only: ER\n",
      "**************** tweedie ****************\n",
      "Training until validation scores don't improve for 97 rounds\n",
      "[100]\tvalid_0's ER: 72.55\n",
      "[200]\tvalid_0's ER: 72.08\n",
      "[300]\tvalid_0's ER: 72.03\n"
     ]
    },
    {
     "name": "stderr",
     "output_type": "stream",
     "text": [
      "[I 2023-12-21 17:05:15,957] Trial 5 finished with value: 71.95 and parameters: {'lambda_l1': 18.607554506372527, 'lambda_l2': 716.2028362416422, 'learning_rate': 0.1054111921690421, 'num_leaves': 131, 'feature_fraction': 0.7647975213020197, 'min_data_in_leaf': 3250}. Best is trial 5 with value: 71.95.\n"
     ]
    },
    {
     "name": "stdout",
     "output_type": "stream",
     "text": [
      "Early stopping, best iteration is:\n",
      "[240]\tvalid_0's ER: 71.95\n",
      "Evaluated only: ER\n",
      "**************** tweedie ****************\n",
      "Training until validation scores don't improve for 121 rounds\n",
      "[100]\tvalid_0's ER: 87.47\n",
      "[200]\tvalid_0's ER: 86.88\n"
     ]
    },
    {
     "name": "stderr",
     "output_type": "stream",
     "text": [
      "[I 2023-12-21 17:05:25,877] Trial 6 finished with value: 86.88 and parameters: {'lambda_l1': 742.379546414038, 'lambda_l2': 596.6042586814244, 'learning_rate': 0.06981799331715148, 'num_leaves': 330, 'feature_fraction': 0.7082029524826006, 'min_data_in_leaf': 6445}. Best is trial 5 with value: 71.95.\n"
     ]
    },
    {
     "name": "stdout",
     "output_type": "stream",
     "text": [
      "Early stopping, best iteration is:\n",
      "[121]\tvalid_0's ER: 86.88\n",
      "Evaluated only: ER\n",
      "**************** tweedie ****************\n",
      "Training until validation scores don't improve for 81 rounds\n",
      "[100]\tvalid_0's ER: 87.47\n"
     ]
    },
    {
     "name": "stderr",
     "output_type": "stream",
     "text": [
      "[I 2023-12-21 17:05:31,525] Trial 7 finished with value: 87.47 and parameters: {'lambda_l1': 827.0355436607969, 'lambda_l2': 619.924414306211, 'learning_rate': 0.16027025528636618, 'num_leaves': 700, 'feature_fraction': 0.9877495630809898, 'min_data_in_leaf': 3454}. Best is trial 5 with value: 71.95.\n"
     ]
    },
    {
     "name": "stdout",
     "output_type": "stream",
     "text": [
      "Early stopping, best iteration is:\n",
      "[47]\tvalid_0's ER: 87.47\n",
      "Evaluated only: ER\n",
      "**************** tweedie ****************\n",
      "Training until validation scores don't improve for 102 rounds\n",
      "[100]\tvalid_0's ER: 86.61\n"
     ]
    },
    {
     "name": "stderr",
     "output_type": "stream",
     "text": [
      "[I 2023-12-21 17:05:42,030] Trial 8 finished with value: 86.61 and parameters: {'lambda_l1': 805.8442435916143, 'lambda_l2': 982.4777112055918, 'learning_rate': 0.09539830002244715, 'num_leaves': 544, 'feature_fraction': 0.832489758474974, 'min_data_in_leaf': 1206}. Best is trial 5 with value: 71.95.\n"
     ]
    },
    {
     "name": "stdout",
     "output_type": "stream",
     "text": [
      "Early stopping, best iteration is:\n",
      "[87]\tvalid_0's ER: 86.61\n",
      "Evaluated only: ER\n",
      "**************** tweedie ****************\n",
      "Training until validation scores don't improve for 98 rounds\n",
      "[100]\tvalid_0's ER: 77.75\n",
      "[200]\tvalid_0's ER: 76.83\n",
      "Early stopping, best iteration is:\n",
      "[183]\tvalid_0's ER: 76.83\n",
      "Evaluated only: ER\n"
     ]
    },
    {
     "name": "stderr",
     "output_type": "stream",
     "text": [
      "[I 2023-12-21 17:05:58,160] Trial 9 finished with value: 76.83 and parameters: {'lambda_l1': 285.6313821672095, 'lambda_l2': 641.4551321473185, 'learning_rate': 0.10220585968036902, 'num_leaves': 763, 'feature_fraction': 0.4378582775732535, 'min_data_in_leaf': 339}. Best is trial 5 with value: 71.95.\n"
     ]
    },
    {
     "name": "stdout",
     "output_type": "stream",
     "text": [
      "# Experimentos: 10\n",
      "Mejor experimento: {'lambda_l1': 18.607554506372527, 'lambda_l2': 716.2028362416422, 'learning_rate': 0.1054111921690421, 'num_leaves': 131, 'feature_fraction': 0.7647975213020197, 'min_data_in_leaf': 3250}\n",
      "=========================================== Cluster 51 ===========================================\n"
     ]
    },
    {
     "name": "stderr",
     "output_type": "stream",
     "text": [
      "[I 2023-12-21 17:05:58,753] A new study created in memory with name: no-name-3bb7548c-803d-4a7d-88ac-fab34b1cff84\n"
     ]
    },
    {
     "name": "stdout",
     "output_type": "stream",
     "text": [
      "Periodos entrenar: [201701 201702 201703 201704 201705 201706 201707 201708 201709 201710\n",
      " 201711 201712 201801 201802 201803 201804 201805 201806 201807 201808\n",
      " 201809 201810 201811 201812 201901 201902 201903 201904 201905]\n",
      "Periodos validar: [201907]\n",
      "product_id a validar: 580\n",
      "X_train: (15457, 120)\n",
      "y_train: (15457,)\n",
      "\n",
      "X_validate: (580, 120)\n",
      "y_validate: (580,)\n",
      "Optimizacion Bayesiana\n",
      "**************** tweedie ****************\n",
      "Training until validation scores don't improve for 128 rounds\n",
      "[100]\tvalid_0's ER: 141.67\n",
      "[200]\tvalid_0's ER: 141.61\n"
     ]
    },
    {
     "name": "stderr",
     "output_type": "stream",
     "text": [
      "[I 2023-12-21 17:05:59,347] Trial 0 finished with value: 141.61 and parameters: {'lambda_l1': 630.8722000463409, 'lambda_l2': 93.4281348351379, 'learning_rate': 0.06398123503564962, 'num_leaves': 231, 'feature_fraction': 0.7150765759445283, 'min_data_in_leaf': 3752}. Best is trial 0 with value: 141.61.\n"
     ]
    },
    {
     "name": "stdout",
     "output_type": "stream",
     "text": [
      "Early stopping, best iteration is:\n",
      "[156]\tvalid_0's ER: 141.61\n",
      "Evaluated only: ER\n",
      "**************** tweedie ****************\n",
      "Training until validation scores don't improve for 68 rounds\n"
     ]
    },
    {
     "name": "stderr",
     "output_type": "stream",
     "text": [
      "[I 2023-12-21 17:05:59,757] Trial 1 finished with value: 105.93 and parameters: {'lambda_l1': 308.90328079354134, 'lambda_l2': 559.3613085931975, 'learning_rate': 0.277396337400086, 'num_leaves': 892, 'feature_fraction': 0.22865914699377055, 'min_data_in_leaf': 2827}. Best is trial 1 with value: 105.93.\n"
     ]
    },
    {
     "name": "stdout",
     "output_type": "stream",
     "text": [
      "[100]\tvalid_0's ER: 106.34\n",
      "[200]\tvalid_0's ER: 105.93\n",
      "Early stopping, best iteration is:\n",
      "[190]\tvalid_0's ER: 105.93\n",
      "Evaluated only: ER\n",
      "**************** tweedie ****************\n",
      "Training until validation scores don't improve for 78 rounds\n"
     ]
    },
    {
     "name": "stderr",
     "output_type": "stream",
     "text": [
      "[I 2023-12-21 17:06:00,211] Trial 2 finished with value: 178.33 and parameters: {'lambda_l1': 983.0616400226327, 'lambda_l2': 832.6360949103579, 'learning_rate': 0.1746810258410403, 'num_leaves': 493, 'feature_fraction': 0.7969462862034158, 'min_data_in_leaf': 724}. Best is trial 1 with value: 105.93.\n"
     ]
    },
    {
     "name": "stdout",
     "output_type": "stream",
     "text": [
      "[100]\tvalid_0's ER: 178.34\n",
      "Early stopping, best iteration is:\n",
      "[102]\tvalid_0's ER: 178.33\n",
      "Evaluated only: ER\n",
      "**************** tweedie ****************\n",
      "Training until validation scores don't improve for 87 rounds\n",
      "[100]\tvalid_0's ER: 173.05\n",
      "[200]\tvalid_0's ER: 172.01\n",
      "[300]\tvalid_0's ER: 171.92\n"
     ]
    },
    {
     "name": "stderr",
     "output_type": "stream",
     "text": [
      "[I 2023-12-21 17:06:00,844] Trial 3 finished with value: 171.91 and parameters: {'lambda_l1': 854.9909261435574, 'lambda_l2': 866.2768975666197, 'learning_rate': 0.13291036248823992, 'num_leaves': 120, 'feature_fraction': 0.382793659524997, 'min_data_in_leaf': 5748}. Best is trial 1 with value: 105.93.\n"
     ]
    },
    {
     "name": "stdout",
     "output_type": "stream",
     "text": [
      "[400]\tvalid_0's ER: 171.91\n",
      "Early stopping, best iteration is:\n",
      "[326]\tvalid_0's ER: 171.91\n",
      "Evaluated only: ER\n",
      "**************** tweedie ****************\n",
      "Training until validation scores don't improve for 71 rounds\n"
     ]
    },
    {
     "name": "stderr",
     "output_type": "stream",
     "text": [
      "[I 2023-12-21 17:06:01,185] Trial 4 finished with value: 156.26 and parameters: {'lambda_l1': 718.8216082601411, 'lambda_l2': 281.07988083695125, 'learning_rate': 0.23679462800499354, 'num_leaves': 472, 'feature_fraction': 0.5910521247341853, 'min_data_in_leaf': 5852}. Best is trial 1 with value: 105.93.\n"
     ]
    },
    {
     "name": "stdout",
     "output_type": "stream",
     "text": [
      "[100]\tvalid_0's ER: 156.26\n",
      "Early stopping, best iteration is:\n",
      "[67]\tvalid_0's ER: 156.26\n",
      "Evaluated only: ER\n",
      "**************** tweedie ****************\n",
      "Training until validation scores don't improve for 123 rounds\n",
      "[100]\tvalid_0's ER: 151.61\n",
      "[200]\tvalid_0's ER: 147.89\n",
      "[300]\tvalid_0's ER: 147.36\n"
     ]
    },
    {
     "name": "stderr",
     "output_type": "stream",
     "text": [
      "[I 2023-12-21 17:06:02,133] Trial 5 finished with value: 147.32 and parameters: {'lambda_l1': 731.4332234507476, 'lambda_l2': 752.5921629437826, 'learning_rate': 0.06801891738121724, 'num_leaves': 207, 'feature_fraction': 0.7273255826674674, 'min_data_in_leaf': 2447}. Best is trial 1 with value: 105.93.\n"
     ]
    },
    {
     "name": "stdout",
     "output_type": "stream",
     "text": [
      "[400]\tvalid_0's ER: 147.32\n",
      "Early stopping, best iteration is:\n",
      "[318]\tvalid_0's ER: 147.32\n",
      "Evaluated only: ER\n",
      "**************** tweedie ****************\n",
      "Training until validation scores don't improve for 67 rounds\n"
     ]
    },
    {
     "name": "stderr",
     "output_type": "stream",
     "text": [
      "[I 2023-12-21 17:06:02,439] Trial 6 finished with value: 149.22 and parameters: {'lambda_l1': 695.1496405891497, 'lambda_l2': 178.6257536945878, 'learning_rate': 0.2809976959623976, 'num_leaves': 54, 'feature_fraction': 0.8915935419543379, 'min_data_in_leaf': 4536}. Best is trial 1 with value: 105.93.\n"
     ]
    },
    {
     "name": "stdout",
     "output_type": "stream",
     "text": [
      "[100]\tvalid_0's ER: 149.22\n",
      "Early stopping, best iteration is:\n",
      "[37]\tvalid_0's ER: 149.22\n",
      "Evaluated only: ER\n",
      "**************** tweedie ****************\n",
      "Training until validation scores don't improve for 196 rounds\n",
      "[100]\tvalid_0's ER: 163.6\n",
      "[200]\tvalid_0's ER: 157.53\n",
      "[300]\tvalid_0's ER: 155.9\n",
      "[400]\tvalid_0's ER: 155.29\n",
      "[500]\tvalid_0's ER: 155.19\n",
      "[600]\tvalid_0's ER: 155.19\n",
      "Early stopping, best iteration is:\n",
      "[462]\tvalid_0's ER: 155.19\n",
      "Evaluated only: ER\n"
     ]
    },
    {
     "name": "stderr",
     "output_type": "stream",
     "text": [
      "[I 2023-12-21 17:06:03,422] Trial 7 finished with value: 155.19 and parameters: {'lambda_l1': 812.0190009166522, 'lambda_l2': 23.242418043661118, 'learning_rate': 0.03402198853752056, 'num_leaves': 135, 'feature_fraction': 0.357159428680213, 'min_data_in_leaf': 1632}. Best is trial 1 with value: 105.93.\n"
     ]
    },
    {
     "name": "stdout",
     "output_type": "stream",
     "text": [
      "**************** tweedie ****************\n",
      "Training until validation scores don't improve for 68 rounds\n"
     ]
    },
    {
     "name": "stderr",
     "output_type": "stream",
     "text": [
      "[I 2023-12-21 17:06:03,820] Trial 8 finished with value: 119.69 and parameters: {'lambda_l1': 366.6249823722811, 'lambda_l2': 566.8791450900746, 'learning_rate': 0.26401231519919144, 'num_leaves': 849, 'feature_fraction': 0.971489204280483, 'min_data_in_leaf': 6304}. Best is trial 1 with value: 105.93.\n"
     ]
    },
    {
     "name": "stdout",
     "output_type": "stream",
     "text": [
      "[100]\tvalid_0's ER: 119.69\n",
      "Early stopping, best iteration is:\n",
      "[84]\tvalid_0's ER: 119.69\n",
      "Evaluated only: ER\n",
      "**************** tweedie ****************\n"
     ]
    },
    {
     "name": "stderr",
     "output_type": "stream",
     "text": [
      "[I 2023-12-21 17:06:04,005] Trial 9 finished with value: 225.79 and parameters: {'lambda_l1': 63.890441328098404, 'lambda_l2': 568.9391908537315, 'learning_rate': 0.2760815250850564, 'num_leaves': 291, 'feature_fraction': 0.4995056868851099, 'min_data_in_leaf': 7991}. Best is trial 1 with value: 105.93.\n"
     ]
    },
    {
     "name": "stdout",
     "output_type": "stream",
     "text": [
      "Training until validation scores don't improve for 68 rounds\n",
      "Early stopping, best iteration is:\n",
      "[1]\tvalid_0's ER: 101.47\n",
      "Evaluated only: ER\n",
      "# Experimentos: 10\n",
      "Mejor experimento: {'lambda_l1': 308.90328079354134, 'lambda_l2': 559.3613085931975, 'learning_rate': 0.277396337400086, 'num_leaves': 892, 'feature_fraction': 0.22865914699377055, 'min_data_in_leaf': 2827}\n",
      "=========================================== Cluster 52 ===========================================\n"
     ]
    },
    {
     "name": "stderr",
     "output_type": "stream",
     "text": [
      "[I 2023-12-21 17:06:07,576] A new study created in memory with name: no-name-80766bd9-81f2-41ff-930a-06ba5357c7af\n"
     ]
    },
    {
     "name": "stdout",
     "output_type": "stream",
     "text": [
      "Periodos entrenar: [201701 201702 201703 201704 201705 201706 201707 201708 201709 201710\n",
      " 201711 201712 201801 201802 201803 201804 201805 201806 201807 201808\n",
      " 201809 201810 201811 201812 201901 201902 201903 201904 201905]\n",
      "Periodos validar: [201907]\n",
      "product_id a validar: 4640\n",
      "X_train: (123656, 120)\n",
      "y_train: (123656,)\n",
      "\n",
      "X_validate: (4640, 120)\n",
      "y_validate: (4640,)\n",
      "Optimizacion Bayesiana\n",
      "**************** tweedie ****************\n",
      "Training until validation scores don't improve for 116 rounds\n",
      "[100]\tvalid_0's ER: 82.67\n",
      "[200]\tvalid_0's ER: 80.42\n"
     ]
    },
    {
     "name": "stderr",
     "output_type": "stream",
     "text": [
      "[I 2023-12-21 17:06:12,612] Trial 0 finished with value: 80.3 and parameters: {'lambda_l1': 262.48992246617155, 'lambda_l2': 854.3958020687987, 'learning_rate': 0.07543141949288917, 'num_leaves': 926, 'feature_fraction': 0.958505225608312, 'min_data_in_leaf': 2308}. Best is trial 0 with value: 80.3.\n"
     ]
    },
    {
     "name": "stdout",
     "output_type": "stream",
     "text": [
      "Early stopping, best iteration is:\n",
      "[162]\tvalid_0's ER: 80.3\n",
      "Evaluated only: ER\n",
      "**************** tweedie ****************\n",
      "Training until validation scores don't improve for 259 rounds\n",
      "[100]\tvalid_0's ER: 91.74\n",
      "[200]\tvalid_0's ER: 77\n",
      "[300]\tvalid_0's ER: 75.42\n",
      "[400]\tvalid_0's ER: 76.73\n",
      "[500]\tvalid_0's ER: 77.21\n"
     ]
    },
    {
     "name": "stderr",
     "output_type": "stream",
     "text": [
      "[I 2023-12-21 17:06:36,092] Trial 1 finished with value: 75.1 and parameters: {'lambda_l1': 38.683093201051896, 'lambda_l2': 511.6267755803807, 'learning_rate': 0.023913199689096682, 'num_leaves': 999, 'feature_fraction': 0.8774571576918258, 'min_data_in_leaf': 0}. Best is trial 1 with value: 75.1.\n"
     ]
    },
    {
     "name": "stdout",
     "output_type": "stream",
     "text": [
      "Early stopping, best iteration is:\n",
      "[262]\tvalid_0's ER: 75.1\n",
      "Evaluated only: ER\n",
      "**************** tweedie ****************\n",
      "Training until validation scores don't improve for 140 rounds\n",
      "[100]\tvalid_0's ER: 78.31\n",
      "[200]\tvalid_0's ER: 78.66\n"
     ]
    },
    {
     "name": "stderr",
     "output_type": "stream",
     "text": [
      "[I 2023-12-21 17:06:42,404] Trial 2 finished with value: 77.86 and parameters: {'lambda_l1': 103.62774208216207, 'lambda_l2': 105.30819196908992, 'learning_rate': 0.05552029576108339, 'num_leaves': 703, 'feature_fraction': 0.6335267937943493, 'min_data_in_leaf': 500}. Best is trial 1 with value: 75.1.\n"
     ]
    },
    {
     "name": "stdout",
     "output_type": "stream",
     "text": [
      "Early stopping, best iteration is:\n",
      "[84]\tvalid_0's ER: 77.86\n",
      "Evaluated only: ER\n",
      "**************** tweedie ****************\n",
      "Training until validation scores don't improve for 78 rounds\n",
      "[100]\tvalid_0's ER: 78.78\n"
     ]
    },
    {
     "name": "stderr",
     "output_type": "stream",
     "text": [
      "[I 2023-12-21 17:06:45,915] Trial 3 finished with value: 77.45 and parameters: {'lambda_l1': 64.77002811086585, 'lambda_l2': 449.6800531336844, 'learning_rate': 0.17453212415603092, 'num_leaves': 38, 'feature_fraction': 0.8603488760388234, 'min_data_in_leaf': 1139}. Best is trial 1 with value: 75.1.\n"
     ]
    },
    {
     "name": "stdout",
     "output_type": "stream",
     "text": [
      "Early stopping, best iteration is:\n",
      "[37]\tvalid_0's ER: 77.45\n",
      "Evaluated only: ER\n",
      "**************** tweedie ****************\n",
      "Training until validation scores don't improve for 89 rounds\n",
      "[100]\tvalid_0's ER: 88.12\n",
      "[200]\tvalid_0's ER: 87.93\n",
      "[300]\tvalid_0's ER: 87.9\n"
     ]
    },
    {
     "name": "stderr",
     "output_type": "stream",
     "text": [
      "[I 2023-12-21 17:06:49,868] Trial 4 finished with value: 87.9 and parameters: {'lambda_l1': 620.2331719446228, 'lambda_l2': 703.5253751070389, 'learning_rate': 0.12610237296706578, 'num_leaves': 317, 'feature_fraction': 0.39558688337473047, 'min_data_in_leaf': 3340}. Best is trial 1 with value: 75.1.\n"
     ]
    },
    {
     "name": "stdout",
     "output_type": "stream",
     "text": [
      "Early stopping, best iteration is:\n",
      "[273]\tvalid_0's ER: 87.9\n",
      "Evaluated only: ER\n",
      "**************** tweedie ****************\n",
      "Training until validation scores don't improve for 284 rounds\n",
      "[100]\tvalid_0's ER: 95.2\n",
      "[200]\tvalid_0's ER: 82.19\n",
      "[300]\tvalid_0's ER: 79.49\n",
      "[400]\tvalid_0's ER: 79.19\n",
      "[500]\tvalid_0's ER: 79.29\n",
      "[600]\tvalid_0's ER: 79.29\n"
     ]
    },
    {
     "name": "stderr",
     "output_type": "stream",
     "text": [
      "[I 2023-12-21 17:07:03,186] Trial 5 finished with value: 79.08 and parameters: {'lambda_l1': 196.3255331059497, 'lambda_l2': 223.78812813293146, 'learning_rate': 0.021323094395842204, 'num_leaves': 514, 'feature_fraction': 0.8297152850510157, 'min_data_in_leaf': 1219}. Best is trial 1 with value: 75.1.\n"
     ]
    },
    {
     "name": "stdout",
     "output_type": "stream",
     "text": [
      "Early stopping, best iteration is:\n",
      "[380]\tvalid_0's ER: 79.08\n",
      "Evaluated only: ER\n",
      "**************** tweedie ****************\n",
      "Training until validation scores don't improve for 71 rounds\n",
      "[100]\tvalid_0's ER: 81.93\n"
     ]
    },
    {
     "name": "stderr",
     "output_type": "stream",
     "text": [
      "[I 2023-12-21 17:07:05,560] Trial 6 finished with value: 81.7 and parameters: {'lambda_l1': 281.68142526765973, 'lambda_l2': 544.5700144835828, 'learning_rate': 0.23708664406113722, 'num_leaves': 334, 'feature_fraction': 0.7881223687760339, 'min_data_in_leaf': 3366}. Best is trial 1 with value: 75.1.\n"
     ]
    },
    {
     "name": "stdout",
     "output_type": "stream",
     "text": [
      "Early stopping, best iteration is:\n",
      "[50]\tvalid_0's ER: 81.7\n",
      "Evaluated only: ER\n",
      "**************** tweedie ****************\n",
      "Training until validation scores don't improve for 104 rounds\n",
      "[100]\tvalid_0's ER: 79.84\n"
     ]
    },
    {
     "name": "stderr",
     "output_type": "stream",
     "text": [
      "[I 2023-12-21 17:07:09,520] Trial 7 finished with value: 79.14 and parameters: {'lambda_l1': 29.956265277490512, 'lambda_l2': 529.7385968889187, 'learning_rate': 0.09215414147854399, 'num_leaves': 905, 'feature_fraction': 0.6479751565395022, 'min_data_in_leaf': 7772}. Best is trial 1 with value: 75.1.\n"
     ]
    },
    {
     "name": "stdout",
     "output_type": "stream",
     "text": [
      "Early stopping, best iteration is:\n",
      "[71]\tvalid_0's ER: 79.14\n",
      "Evaluated only: ER\n",
      "**************** tweedie ****************\n",
      "Training until validation scores don't improve for 86 rounds\n",
      "[100]\tvalid_0's ER: 84.8\n"
     ]
    },
    {
     "name": "stderr",
     "output_type": "stream",
     "text": [
      "[I 2023-12-21 17:07:12,541] Trial 8 finished with value: 84.77 and parameters: {'lambda_l1': 490.0531018212541, 'lambda_l2': 230.52350211069094, 'learning_rate': 0.1362459615309512, 'num_leaves': 994, 'feature_fraction': 0.6875965236071537, 'min_data_in_leaf': 1232}. Best is trial 1 with value: 75.1.\n"
     ]
    },
    {
     "name": "stdout",
     "output_type": "stream",
     "text": [
      "Early stopping, best iteration is:\n",
      "[48]\tvalid_0's ER: 84.77\n",
      "Evaluated only: ER\n",
      "**************** tweedie ****************\n",
      "Training until validation scores don't improve for 301 rounds\n",
      "[100]\tvalid_0's ER: 95.99\n",
      "[200]\tvalid_0's ER: 83.3\n",
      "[300]\tvalid_0's ER: 80.37\n",
      "[400]\tvalid_0's ER: 80.03\n",
      "[500]\tvalid_0's ER: 80.06\n",
      "[600]\tvalid_0's ER: 80.06\n"
     ]
    },
    {
     "name": "stderr",
     "output_type": "stream",
     "text": [
      "[I 2023-12-21 17:07:21,456] Trial 9 finished with value: 79.96 and parameters: {'lambda_l1': 261.8582642404832, 'lambda_l2': 30.665799869337597, 'learning_rate': 0.019881264806093923, 'num_leaves': 149, 'feature_fraction': 0.4492378430776498, 'min_data_in_leaf': 1667}. Best is trial 1 with value: 75.1.\n"
     ]
    },
    {
     "name": "stdout",
     "output_type": "stream",
     "text": [
      "Early stopping, best iteration is:\n",
      "[382]\tvalid_0's ER: 79.96\n",
      "Evaluated only: ER\n",
      "# Experimentos: 10\n",
      "Mejor experimento: {'lambda_l1': 38.683093201051896, 'lambda_l2': 511.6267755803807, 'learning_rate': 0.023913199689096682, 'num_leaves': 999, 'feature_fraction': 0.8774571576918258, 'min_data_in_leaf': 0}\n",
      "=========================================== Cluster 53 ===========================================\n"
     ]
    },
    {
     "name": "stderr",
     "output_type": "stream",
     "text": [
      "[I 2023-12-21 17:07:26,378] A new study created in memory with name: no-name-4439e02c-42db-467b-a6ad-2c4a57daa523\n"
     ]
    },
    {
     "name": "stdout",
     "output_type": "stream",
     "text": [
      "Periodos entrenar: [201701 201702 201703 201704 201705 201706 201707 201708 201709 201710\n",
      " 201711 201712 201801 201802 201803 201804 201805 201806 201807 201808\n",
      " 201809 201810 201811 201812 201901 201902 201903 201904 201905]\n",
      "Periodos validar: [201907]\n",
      "product_id a validar: 6380\n",
      "X_train: (169594, 120)\n",
      "y_train: (169594,)\n",
      "\n",
      "X_validate: (6380, 120)\n",
      "y_validate: (6380,)\n",
      "Optimizacion Bayesiana\n",
      "**************** tweedie ****************\n",
      "Training until validation scores don't improve for 121 rounds\n",
      "[100]\tvalid_0's ER: 111.29\n",
      "[200]\tvalid_0's ER: 107.11\n"
     ]
    },
    {
     "name": "stderr",
     "output_type": "stream",
     "text": [
      "[I 2023-12-21 17:07:33,289] Trial 0 finished with value: 107.1 and parameters: {'lambda_l1': 510.56854203203073, 'lambda_l2': 981.6256599313798, 'learning_rate': 0.06966342709369581, 'num_leaves': 213, 'feature_fraction': 0.6725106456534071, 'min_data_in_leaf': 4157}. Best is trial 0 with value: 107.1.\n"
     ]
    },
    {
     "name": "stdout",
     "output_type": "stream",
     "text": [
      "Early stopping, best iteration is:\n",
      "[178]\tvalid_0's ER: 106.95\n",
      "Evaluated only: ER\n",
      "**************** tweedie ****************\n",
      "Training until validation scores don't improve for 79 rounds\n",
      "[100]\tvalid_0's ER: 108.9\n"
     ]
    },
    {
     "name": "stderr",
     "output_type": "stream",
     "text": [
      "[I 2023-12-21 17:07:35,929] Trial 1 finished with value: 108.87 and parameters: {'lambda_l1': 512.2245348059712, 'lambda_l2': 49.118317426853686, 'learning_rate': 0.1693427156817423, 'num_leaves': 124, 'feature_fraction': 0.31995770892894027, 'min_data_in_leaf': 6219}. Best is trial 0 with value: 107.1.\n"
     ]
    },
    {
     "name": "stdout",
     "output_type": "stream",
     "text": [
      "Early stopping, best iteration is:\n",
      "[59]\tvalid_0's ER: 108.61\n",
      "Evaluated only: ER\n",
      "**************** tweedie ****************\n",
      "Training until validation scores don't improve for 225 rounds\n",
      "[100]\tvalid_0's ER: 125.35\n",
      "[200]\tvalid_0's ER: 114.42\n",
      "[300]\tvalid_0's ER: 110.83\n",
      "[400]\tvalid_0's ER: 109.1\n",
      "[500]\tvalid_0's ER: 108.75\n",
      "[600]\tvalid_0's ER: 108.75\n"
     ]
    },
    {
     "name": "stderr",
     "output_type": "stream",
     "text": [
      "[I 2023-12-21 17:07:44,884] Trial 2 finished with value: 108.57 and parameters: {'lambda_l1': 535.0934723390766, 'lambda_l2': 700.2123006403913, 'learning_rate': 0.02852102436656717, 'num_leaves': 332, 'feature_fraction': 0.3218466917240969, 'min_data_in_leaf': 5430}. Best is trial 0 with value: 107.1.\n"
     ]
    },
    {
     "name": "stdout",
     "output_type": "stream",
     "text": [
      "Early stopping, best iteration is:\n",
      "[459]\tvalid_0's ER: 108.32\n",
      "Evaluated only: ER\n",
      "**************** tweedie ****************\n",
      "Training until validation scores don't improve for 168 rounds\n",
      "[100]\tvalid_0's ER: 114.05\n",
      "[200]\tvalid_0's ER: 105.57\n",
      "[300]\tvalid_0's ER: 106.69\n"
     ]
    },
    {
     "name": "stderr",
     "output_type": "stream",
     "text": [
      "[I 2023-12-21 17:07:51,877] Trial 3 finished with value: 105.16 and parameters: {'lambda_l1': 309.43600039838435, 'lambda_l2': 672.1883280305967, 'learning_rate': 0.04218933603442754, 'num_leaves': 444, 'feature_fraction': 0.3478629381953809, 'min_data_in_leaf': 2480}. Best is trial 3 with value: 105.16.\n"
     ]
    },
    {
     "name": "stdout",
     "output_type": "stream",
     "text": [
      "Early stopping, best iteration is:\n",
      "[207]\tvalid_0's ER: 105.16\n",
      "Evaluated only: ER\n",
      "**************** tweedie ****************\n",
      "Training until validation scores don't improve for 117 rounds\n",
      "[100]\tvalid_0's ER: 108.5\n"
     ]
    },
    {
     "name": "stderr",
     "output_type": "stream",
     "text": [
      "[I 2023-12-21 17:07:59,267] Trial 4 finished with value: 108.1 and parameters: {'lambda_l1': 557.8592755818548, 'lambda_l2': 411.1033368974263, 'learning_rate': 0.07441924678362964, 'num_leaves': 481, 'feature_fraction': 0.8675942309773927, 'min_data_in_leaf': 55}. Best is trial 3 with value: 105.16.\n"
     ]
    },
    {
     "name": "stdout",
     "output_type": "stream",
     "text": [
      "[200]\tvalid_0's ER: 108.54\n",
      "Early stopping, best iteration is:\n",
      "[91]\tvalid_0's ER: 108.1\n",
      "Evaluated only: ER\n",
      "**************** tweedie ****************\n",
      "Training until validation scores don't improve for 116 rounds\n",
      "[100]\tvalid_0's ER: 119.96\n",
      "[200]\tvalid_0's ER: 119.22\n"
     ]
    },
    {
     "name": "stderr",
     "output_type": "stream",
     "text": [
      "[I 2023-12-21 17:08:04,476] Trial 5 finished with value: 119.1 and parameters: {'lambda_l1': 775.1782865618577, 'lambda_l2': 694.0080895297259, 'learning_rate': 0.07575111951071346, 'num_leaves': 441, 'feature_fraction': 0.7585090974545821, 'min_data_in_leaf': 7572}. Best is trial 3 with value: 105.16.\n"
     ]
    },
    {
     "name": "stdout",
     "output_type": "stream",
     "text": [
      "Early stopping, best iteration is:\n",
      "[126]\tvalid_0's ER: 119.1\n",
      "Evaluated only: ER\n",
      "**************** tweedie ****************\n",
      "Training until validation scores don't improve for 80 rounds\n",
      "[100]\tvalid_0's ER: 112.18\n"
     ]
    },
    {
     "name": "stderr",
     "output_type": "stream",
     "text": [
      "[I 2023-12-21 17:08:08,929] Trial 6 finished with value: 98.09 and parameters: {'lambda_l1': 40.76782378699362, 'lambda_l2': 417.97435777507155, 'learning_rate': 0.16182832982755962, 'num_leaves': 39, 'feature_fraction': 0.8134805872466593, 'min_data_in_leaf': 2826}. Best is trial 6 with value: 98.09.\n"
     ]
    },
    {
     "name": "stdout",
     "output_type": "stream",
     "text": [
      "Early stopping, best iteration is:\n",
      "[32]\tvalid_0's ER: 98.09\n",
      "Evaluated only: ER\n",
      "**************** tweedie ****************\n",
      "Training until validation scores don't improve for 109 rounds\n",
      "[100]\tvalid_0's ER: 110.13\n"
     ]
    },
    {
     "name": "stderr",
     "output_type": "stream",
     "text": [
      "[I 2023-12-21 17:08:14,815] Trial 7 finished with value: 110.01 and parameters: {'lambda_l1': 581.3890460652439, 'lambda_l2': 595.3938734258319, 'learning_rate': 0.08406937207949079, 'num_leaves': 416, 'feature_fraction': 0.8977414644275392, 'min_data_in_leaf': 1866}. Best is trial 6 with value: 98.09.\n"
     ]
    },
    {
     "name": "stdout",
     "output_type": "stream",
     "text": [
      "Early stopping, best iteration is:\n",
      "[89]\tvalid_0's ER: 110.01\n",
      "Evaluated only: ER\n",
      "**************** tweedie ****************\n",
      "Training until validation scores don't improve for 76 rounds\n"
     ]
    },
    {
     "name": "stderr",
     "output_type": "stream",
     "text": [
      "[I 2023-12-21 17:08:17,871] Trial 8 finished with value: 106.66 and parameters: {'lambda_l1': 524.087162291376, 'lambda_l2': 29.636086147943995, 'learning_rate': 0.18822887990892267, 'num_leaves': 1002, 'feature_fraction': 0.5256819519475229, 'min_data_in_leaf': 437}. Best is trial 6 with value: 98.09.\n"
     ]
    },
    {
     "name": "stdout",
     "output_type": "stream",
     "text": [
      "[100]\tvalid_0's ER: 109.52\n",
      "Early stopping, best iteration is:\n",
      "[27]\tvalid_0's ER: 106.66\n",
      "Evaluated only: ER\n",
      "**************** tweedie ****************\n",
      "Training until validation scores don't improve for 76 rounds\n"
     ]
    },
    {
     "name": "stderr",
     "output_type": "stream",
     "text": [
      "[I 2023-12-21 17:08:22,300] Trial 9 finished with value: 95.94 and parameters: {'lambda_l1': 64.49893060942635, 'lambda_l2': 334.4638373617954, 'learning_rate': 0.1884935928072531, 'num_leaves': 627, 'feature_fraction': 0.694678594106366, 'min_data_in_leaf': 1552}. Best is trial 9 with value: 95.94.\n"
     ]
    },
    {
     "name": "stdout",
     "output_type": "stream",
     "text": [
      "[100]\tvalid_0's ER: 115.28\n",
      "Early stopping, best iteration is:\n",
      "[27]\tvalid_0's ER: 95.94\n",
      "Evaluated only: ER\n",
      "# Experimentos: 10\n",
      "Mejor experimento: {'lambda_l1': 64.49893060942635, 'lambda_l2': 334.4638373617954, 'learning_rate': 0.1884935928072531, 'num_leaves': 627, 'feature_fraction': 0.694678594106366, 'min_data_in_leaf': 1552}\n",
      "=========================================== Cluster 54 ===========================================\n"
     ]
    },
    {
     "name": "stderr",
     "output_type": "stream",
     "text": [
      "[I 2023-12-21 17:08:23,784] A new study created in memory with name: no-name-50d88268-8c78-4ada-ae05-7ebc811200c6\n"
     ]
    },
    {
     "name": "stdout",
     "output_type": "stream",
     "text": [
      "Periodos entrenar: [201701 201702 201703 201704 201705 201706 201707 201708 201709 201710\n",
      " 201711 201712 201801 201802 201803 201804 201805 201806 201807 201808\n",
      " 201809 201810 201811 201812 201901 201902 201903 201904 201905]\n",
      "Periodos validar: [201907]\n",
      "product_id a validar: 2320\n",
      "X_train: (41561, 120)\n",
      "y_train: (41561,)\n",
      "\n",
      "X_validate: (2320, 120)\n",
      "y_validate: (2320,)\n",
      "Optimizacion Bayesiana\n",
      "**************** tweedie ****************\n",
      "Training until validation scores don't improve for 68 rounds\n"
     ]
    },
    {
     "name": "stderr",
     "output_type": "stream",
     "text": [
      "[I 2023-12-21 17:08:24,520] Trial 0 finished with value: 90.96 and parameters: {'lambda_l1': 297.44060589453926, 'lambda_l2': 141.08511484944253, 'learning_rate': 0.2681815957675663, 'num_leaves': 377, 'feature_fraction': 0.7009719657697715, 'min_data_in_leaf': 4946}. Best is trial 0 with value: 90.96.\n"
     ]
    },
    {
     "name": "stdout",
     "output_type": "stream",
     "text": [
      "Early stopping, best iteration is:\n",
      "[28]\tvalid_0's ER: 90.96\n",
      "Evaluated only: ER\n",
      "**************** tweedie ****************\n",
      "Training until validation scores don't improve for 127 rounds\n",
      "[100]\tvalid_0's ER: 101.64\n",
      "[200]\tvalid_0's ER: 98.17\n",
      "[300]\tvalid_0's ER: 97.85\n"
     ]
    },
    {
     "name": "stderr",
     "output_type": "stream",
     "text": [
      "[I 2023-12-21 17:08:26,565] Trial 1 finished with value: 97.84 and parameters: {'lambda_l1': 520.2597953901853, 'lambda_l2': 743.0654958649943, 'learning_rate': 0.06484325644036512, 'num_leaves': 301, 'feature_fraction': 0.4855118790947808, 'min_data_in_leaf': 3549}. Best is trial 0 with value: 90.96.\n"
     ]
    },
    {
     "name": "stdout",
     "output_type": "stream",
     "text": [
      "[400]\tvalid_0's ER: 97.84\n",
      "Early stopping, best iteration is:\n",
      "[314]\tvalid_0's ER: 97.84\n",
      "Evaluated only: ER\n",
      "**************** tweedie ****************\n",
      "Training until validation scores don't improve for 107 rounds\n",
      "[100]\tvalid_0's ER: 86.01\n"
     ]
    },
    {
     "name": "stderr",
     "output_type": "stream",
     "text": [
      "[I 2023-12-21 17:08:27,915] Trial 2 finished with value: 85.99 and parameters: {'lambda_l1': 201.88759587802417, 'lambda_l2': 19.822763200231908, 'learning_rate': 0.08628986269349202, 'num_leaves': 53, 'feature_fraction': 0.8338069934340888, 'min_data_in_leaf': 4040}. Best is trial 2 with value: 85.99.\n"
     ]
    },
    {
     "name": "stdout",
     "output_type": "stream",
     "text": [
      "[200]\tvalid_0's ER: 85.99\n",
      "Early stopping, best iteration is:\n",
      "[107]\tvalid_0's ER: 85.99\n",
      "Evaluated only: ER\n",
      "**************** tweedie ****************\n",
      "Training until validation scores don't improve for 133 rounds\n",
      "[100]\tvalid_0's ER: 101.49\n",
      "[200]\tvalid_0's ER: 100.78\n",
      "[300]\tvalid_0's ER: 100.66\n"
     ]
    },
    {
     "name": "stderr",
     "output_type": "stream",
     "text": [
      "[I 2023-12-21 17:08:29,833] Trial 3 finished with value: 100.66 and parameters: {'lambda_l1': 538.7906429330635, 'lambda_l2': 22.160298082013252, 'learning_rate': 0.06012554535258724, 'num_leaves': 962, 'feature_fraction': 0.5294764027347687, 'min_data_in_leaf': 5799}. Best is trial 2 with value: 85.99.\n"
     ]
    },
    {
     "name": "stdout",
     "output_type": "stream",
     "text": [
      "Early stopping, best iteration is:\n",
      "[258]\tvalid_0's ER: 100.66\n",
      "Evaluated only: ER\n",
      "**************** tweedie ****************\n",
      "Training until validation scores don't improve for 75 rounds\n"
     ]
    },
    {
     "name": "stderr",
     "output_type": "stream",
     "text": [
      "[I 2023-12-21 17:08:30,558] Trial 4 finished with value: 112.68 and parameters: {'lambda_l1': 892.1866145350311, 'lambda_l2': 220.57712235534964, 'learning_rate': 0.19698631996525834, 'num_leaves': 13, 'feature_fraction': 0.3312734064291778, 'min_data_in_leaf': 6610}. Best is trial 2 with value: 85.99.\n"
     ]
    },
    {
     "name": "stdout",
     "output_type": "stream",
     "text": [
      "[100]\tvalid_0's ER: 112.68\n",
      "Early stopping, best iteration is:\n",
      "[63]\tvalid_0's ER: 112.67\n",
      "Evaluated only: ER\n",
      "**************** tweedie ****************\n",
      "Training until validation scores don't improve for 209 rounds\n",
      "[100]\tvalid_0's ER: 119.13\n",
      "[200]\tvalid_0's ER: 110.66\n",
      "[300]\tvalid_0's ER: 108.31\n",
      "[400]\tvalid_0's ER: 108.06\n",
      "[500]\tvalid_0's ER: 107.97\n",
      "[600]\tvalid_0's ER: 107.97\n"
     ]
    },
    {
     "name": "stderr",
     "output_type": "stream",
     "text": [
      "[I 2023-12-21 17:08:34,389] Trial 5 finished with value: 107.97 and parameters: {'lambda_l1': 820.3726096081277, 'lambda_l2': 959.8518369743979, 'learning_rate': 0.03127033403014448, 'num_leaves': 365, 'feature_fraction': 0.9525127037660435, 'min_data_in_leaf': 2686}. Best is trial 2 with value: 85.99.\n"
     ]
    },
    {
     "name": "stdout",
     "output_type": "stream",
     "text": [
      "[700]\tvalid_0's ER: 107.97\n",
      "Early stopping, best iteration is:\n",
      "[495]\tvalid_0's ER: 107.97\n",
      "Evaluated only: ER\n",
      "**************** tweedie ****************\n",
      "Training until validation scores don't improve for 71 rounds\n",
      "[100]\tvalid_0's ER: 86.72\n"
     ]
    },
    {
     "name": "stderr",
     "output_type": "stream",
     "text": [
      "[I 2023-12-21 17:08:35,294] Trial 6 finished with value: 86.63 and parameters: {'lambda_l1': 267.3594590781222, 'lambda_l2': 287.8426046322596, 'learning_rate': 0.23516546936474458, 'num_leaves': 949, 'feature_fraction': 0.2514214812293376, 'min_data_in_leaf': 1725}. Best is trial 2 with value: 85.99.\n"
     ]
    },
    {
     "name": "stdout",
     "output_type": "stream",
     "text": [
      "[200]\tvalid_0's ER: 86.63\n",
      "Early stopping, best iteration is:\n",
      "[135]\tvalid_0's ER: 86.63\n",
      "Evaluated only: ER\n",
      "**************** tweedie ****************\n",
      "Training until validation scores don't improve for 77 rounds\n"
     ]
    },
    {
     "name": "stderr",
     "output_type": "stream",
     "text": [
      "[I 2023-12-21 17:08:36,130] Trial 7 finished with value: 114.84 and parameters: {'lambda_l1': 948.6479515743376, 'lambda_l2': 51.12982142650668, 'learning_rate': 0.18224704717219078, 'num_leaves': 143, 'feature_fraction': 0.6784718316240831, 'min_data_in_leaf': 4613}. Best is trial 2 with value: 85.99.\n"
     ]
    },
    {
     "name": "stdout",
     "output_type": "stream",
     "text": [
      "[100]\tvalid_0's ER: 114.84\n",
      "Early stopping, best iteration is:\n",
      "[44]\tvalid_0's ER: 114.84\n",
      "Evaluated only: ER\n",
      "**************** tweedie ****************\n",
      "Training until validation scores don't improve for 69 rounds\n"
     ]
    },
    {
     "name": "stderr",
     "output_type": "stream",
     "text": [
      "[I 2023-12-21 17:08:37,178] Trial 8 finished with value: 90.92 and parameters: {'lambda_l1': 393.50544333446334, 'lambda_l2': 776.8389537824082, 'learning_rate': 0.2576235368109873, 'num_leaves': 86, 'feature_fraction': 0.861978432528895, 'min_data_in_leaf': 5}. Best is trial 2 with value: 85.99.\n"
     ]
    },
    {
     "name": "stdout",
     "output_type": "stream",
     "text": [
      "[100]\tvalid_0's ER: 90.92\n",
      "Early stopping, best iteration is:\n",
      "[62]\tvalid_0's ER: 90.92\n",
      "Evaluated only: ER\n",
      "**************** tweedie ****************\n",
      "Training until validation scores don't improve for 68 rounds\n",
      "[100]\tvalid_0's ER: 81.68\n"
     ]
    },
    {
     "name": "stderr",
     "output_type": "stream",
     "text": [
      "[I 2023-12-21 17:08:38,020] Trial 9 finished with value: 81.55 and parameters: {'lambda_l1': 55.199644379948175, 'lambda_l2': 376.4419638305252, 'learning_rate': 0.2638129357462075, 'num_leaves': 799, 'feature_fraction': 0.26748712508370914, 'min_data_in_leaf': 5892}. Best is trial 9 with value: 81.55.\n"
     ]
    },
    {
     "name": "stdout",
     "output_type": "stream",
     "text": [
      "Early stopping, best iteration is:\n",
      "[107]\tvalid_0's ER: 81.55\n",
      "Evaluated only: ER\n",
      "# Experimentos: 10\n",
      "Mejor experimento: {'lambda_l1': 55.199644379948175, 'lambda_l2': 376.4419638305252, 'learning_rate': 0.2638129357462075, 'num_leaves': 799, 'feature_fraction': 0.26748712508370914, 'min_data_in_leaf': 5892}\n",
      "=========================================== Cluster 55 ===========================================\n"
     ]
    },
    {
     "name": "stderr",
     "output_type": "stream",
     "text": [
      "[I 2023-12-21 17:08:39,053] A new study created in memory with name: no-name-58515980-4fdc-4dd7-8dd8-f8c2795dc5b7\n"
     ]
    },
    {
     "name": "stdout",
     "output_type": "stream",
     "text": [
      "Periodos entrenar: [201701 201702 201703 201704 201705 201706 201707 201708 201709 201710\n",
      " 201711 201712 201801 201802 201803 201804 201805 201806 201807 201808\n",
      " 201809 201810 201811 201812 201901 201902 201903 201904 201905]\n",
      "Periodos validar: [201907]\n",
      "product_id a validar: 1740\n",
      "X_train: (31485, 120)\n",
      "y_train: (31485,)\n",
      "\n",
      "X_validate: (1740, 120)\n",
      "y_validate: (1740,)\n",
      "Optimizacion Bayesiana\n",
      "**************** tweedie ****************\n",
      "Training until validation scores don't improve for 69 rounds\n",
      "[100]\tvalid_0's ER: 122.65\n"
     ]
    },
    {
     "name": "stderr",
     "output_type": "stream",
     "text": [
      "[I 2023-12-21 17:08:39,839] Trial 0 finished with value: 122.6 and parameters: {'lambda_l1': 684.3614224223799, 'lambda_l2': 523.9070594309817, 'learning_rate': 0.2526184138597044, 'num_leaves': 999, 'feature_fraction': 0.22753687345930704, 'min_data_in_leaf': 4481}. Best is trial 0 with value: 122.6.\n"
     ]
    },
    {
     "name": "stdout",
     "output_type": "stream",
     "text": [
      "[200]\tvalid_0's ER: 122.6\n",
      "Early stopping, best iteration is:\n",
      "[190]\tvalid_0's ER: 122.6\n",
      "Evaluated only: ER\n",
      "**************** tweedie ****************\n",
      "Training until validation scores don't improve for 75 rounds\n"
     ]
    },
    {
     "name": "stderr",
     "output_type": "stream",
     "text": [
      "[I 2023-12-21 17:08:40,457] Trial 1 finished with value: 144.21 and parameters: {'lambda_l1': 990.6458520277714, 'lambda_l2': 240.6200787985755, 'learning_rate': 0.19822961715708126, 'num_leaves': 314, 'feature_fraction': 0.32992773040960066, 'min_data_in_leaf': 1006}. Best is trial 0 with value: 122.6.\n"
     ]
    },
    {
     "name": "stdout",
     "output_type": "stream",
     "text": [
      "[100]\tvalid_0's ER: 144.21\n",
      "Early stopping, best iteration is:\n",
      "[82]\tvalid_0's ER: 144.21\n",
      "Evaluated only: ER\n",
      "**************** tweedie ****************\n",
      "Training until validation scores don't improve for 70 rounds\n",
      "[100]\tvalid_0's ER: 134.39\n"
     ]
    },
    {
     "name": "stderr",
     "output_type": "stream",
     "text": [
      "[I 2023-12-21 17:08:41,221] Trial 2 finished with value: 134.3 and parameters: {'lambda_l1': 849.6151596376152, 'lambda_l2': 994.3942213458006, 'learning_rate': 0.24022913130737605, 'num_leaves': 333, 'feature_fraction': 0.41986209484791676, 'min_data_in_leaf': 4123}. Best is trial 0 with value: 122.6.\n"
     ]
    },
    {
     "name": "stdout",
     "output_type": "stream",
     "text": [
      "Early stopping, best iteration is:\n",
      "[121]\tvalid_0's ER: 134.3\n",
      "Evaluated only: ER\n",
      "**************** tweedie ****************\n",
      "Training until validation scores don't improve for 96 rounds\n",
      "[100]\tvalid_0's ER: 85.27\n",
      "[200]\tvalid_0's ER: 78.58\n",
      "[300]\tvalid_0's ER: 75.63\n",
      "[400]\tvalid_0's ER: 74.67\n",
      "[500]\tvalid_0's ER: 74.49\n",
      "[600]\tvalid_0's ER: 74.44\n",
      "[700]\tvalid_0's ER: 74.41\n"
     ]
    },
    {
     "name": "stderr",
     "output_type": "stream",
     "text": [
      "[I 2023-12-21 17:08:44,861] Trial 3 finished with value: 74.39 and parameters: {'lambda_l1': 39.167922722446846, 'lambda_l2': 976.6227404546567, 'learning_rate': 0.10821622250109998, 'num_leaves': 97, 'feature_fraction': 0.47546299301754913, 'min_data_in_leaf': 374}. Best is trial 3 with value: 74.39.\n"
     ]
    },
    {
     "name": "stdout",
     "output_type": "stream",
     "text": [
      "[800]\tvalid_0's ER: 74.39\n",
      "Early stopping, best iteration is:\n",
      "[754]\tvalid_0's ER: 74.39\n",
      "Evaluated only: ER\n",
      "**************** tweedie ****************\n",
      "Training until validation scores don't improve for 69 rounds\n",
      "[100]\tvalid_0's ER: 113.96\n",
      "[200]\tvalid_0's ER: 113.77\n"
     ]
    },
    {
     "name": "stderr",
     "output_type": "stream",
     "text": [
      "[I 2023-12-21 17:08:45,657] Trial 4 finished with value: 113.76 and parameters: {'lambda_l1': 541.0123579604167, 'lambda_l2': 475.57121027993065, 'learning_rate': 0.2570342929626221, 'num_leaves': 62, 'feature_fraction': 0.20674701093159975, 'min_data_in_leaf': 4988}. Best is trial 3 with value: 74.39.\n"
     ]
    },
    {
     "name": "stdout",
     "output_type": "stream",
     "text": [
      "Early stopping, best iteration is:\n",
      "[214]\tvalid_0's ER: 113.76\n",
      "Evaluated only: ER\n",
      "**************** tweedie ****************\n",
      "Training until validation scores don't improve for 77 rounds\n"
     ]
    },
    {
     "name": "stderr",
     "output_type": "stream",
     "text": [
      "[I 2023-12-21 17:08:47,191] Trial 5 finished with value: 116.62 and parameters: {'lambda_l1': 574.0669621785621, 'lambda_l2': 293.20288190187784, 'learning_rate': 0.1820025821443434, 'num_leaves': 569, 'feature_fraction': 0.9217615891012079, 'min_data_in_leaf': 6186}. Best is trial 3 with value: 74.39.\n"
     ]
    },
    {
     "name": "stdout",
     "output_type": "stream",
     "text": [
      "[100]\tvalid_0's ER: 116.64\n",
      "Early stopping, best iteration is:\n",
      "[58]\tvalid_0's ER: 116.62\n",
      "Evaluated only: ER\n",
      "**************** tweedie ****************\n",
      "Training until validation scores don't improve for 421 rounds\n",
      "[100]\tvalid_0's ER: 157.12\n",
      "[200]\tvalid_0's ER: 138.22\n",
      "[300]\tvalid_0's ER: 129.23\n",
      "[400]\tvalid_0's ER: 124.41\n",
      "[500]\tvalid_0's ER: 121.48\n",
      "[600]\tvalid_0's ER: 119.71\n",
      "[700]\tvalid_0's ER: 118.53\n",
      "[800]\tvalid_0's ER: 117.94\n",
      "[900]\tvalid_0's ER: 117.5\n",
      "[1000]\tvalid_0's ER: 117.21\n",
      "[1100]\tvalid_0's ER: 116.99\n",
      "[1200]\tvalid_0's ER: 116.88\n",
      "[1300]\tvalid_0's ER: 116.76\n",
      "[1400]\tvalid_0's ER: 116.69\n",
      "[1500]\tvalid_0's ER: 116.64\n",
      "[1600]\tvalid_0's ER: 116.59\n",
      "[1700]\tvalid_0's ER: 116.57\n",
      "[1800]\tvalid_0's ER: 116.55\n",
      "[1900]\tvalid_0's ER: 116.53\n",
      "[2000]\tvalid_0's ER: 116.53\n",
      "[2100]\tvalid_0's ER: 116.52\n",
      "[2200]\tvalid_0's ER: 116.51\n",
      "[2300]\tvalid_0's ER: 116.51\n",
      "[2400]\tvalid_0's ER: 116.51\n",
      "[2500]\tvalid_0's ER: 116.51\n"
     ]
    },
    {
     "name": "stderr",
     "output_type": "stream",
     "text": [
      "[I 2023-12-21 17:08:56,612] Trial 6 finished with value: 116.51 and parameters: {'lambda_l1': 584.7958146641026, 'lambda_l2': 876.708083806191, 'learning_rate': 0.013461352366354325, 'num_leaves': 910, 'feature_fraction': 0.574925466167818, 'min_data_in_leaf': 4846}. Best is trial 3 with value: 74.39.\n"
     ]
    },
    {
     "name": "stdout",
     "output_type": "stream",
     "text": [
      "Early stopping, best iteration is:\n",
      "[2152]\tvalid_0's ER: 116.51\n",
      "Evaluated only: ER\n",
      "**************** tweedie ****************\n",
      "Training until validation scores don't improve for 195 rounds\n",
      "[100]\tvalid_0's ER: 147.64\n",
      "[200]\tvalid_0's ER: 141.35\n",
      "[300]\tvalid_0's ER: 139.6\n",
      "[400]\tvalid_0's ER: 138.9\n",
      "[500]\tvalid_0's ER: 138.75\n",
      "[600]\tvalid_0's ER: 138.69\n"
     ]
    },
    {
     "name": "stderr",
     "output_type": "stream",
     "text": [
      "[I 2023-12-21 17:08:59,549] Trial 7 finished with value: 138.69 and parameters: {'lambda_l1': 913.4571387251929, 'lambda_l2': 554.3353816656974, 'learning_rate': 0.034430602155649935, 'num_leaves': 20, 'feature_fraction': 0.9588472212226515, 'min_data_in_leaf': 5264}. Best is trial 3 with value: 74.39.\n"
     ]
    },
    {
     "name": "stdout",
     "output_type": "stream",
     "text": [
      "[700]\tvalid_0's ER: 138.69\n",
      "Early stopping, best iteration is:\n",
      "[511]\tvalid_0's ER: 138.69\n",
      "Evaluated only: ER\n",
      "**************** tweedie ****************\n",
      "Training until validation scores don't improve for 107 rounds\n",
      "[100]\tvalid_0's ER: 126.06\n"
     ]
    },
    {
     "name": "stderr",
     "output_type": "stream",
     "text": [
      "[I 2023-12-21 17:09:00,630] Trial 8 finished with value: 125.85 and parameters: {'lambda_l1': 741.2563231063268, 'lambda_l2': 63.53044561624177, 'learning_rate': 0.08722500529232995, 'num_leaves': 1008, 'feature_fraction': 0.8035130757648643, 'min_data_in_leaf': 2359}. Best is trial 3 with value: 74.39.\n"
     ]
    },
    {
     "name": "stdout",
     "output_type": "stream",
     "text": [
      "[200]\tvalid_0's ER: 125.85\n",
      "Early stopping, best iteration is:\n",
      "[108]\tvalid_0's ER: 125.85\n",
      "Evaluated only: ER\n",
      "**************** tweedie ****************\n",
      "Training until validation scores don't improve for 92 rounds\n",
      "[100]\tvalid_0's ER: 104.28\n"
     ]
    },
    {
     "name": "stderr",
     "output_type": "stream",
     "text": [
      "[I 2023-12-21 17:09:01,712] Trial 9 finished with value: 103.98 and parameters: {'lambda_l1': 385.14955994562786, 'lambda_l2': 388.80352003673426, 'learning_rate': 0.11812403100856368, 'num_leaves': 64, 'feature_fraction': 0.7719595122867049, 'min_data_in_leaf': 4336}. Best is trial 3 with value: 74.39.\n"
     ]
    },
    {
     "name": "stdout",
     "output_type": "stream",
     "text": [
      "[200]\tvalid_0's ER: 104.02\n",
      "Early stopping, best iteration is:\n",
      "[118]\tvalid_0's ER: 103.98\n",
      "Evaluated only: ER\n",
      "# Experimentos: 10\n",
      "Mejor experimento: {'lambda_l1': 39.167922722446846, 'lambda_l2': 976.6227404546567, 'learning_rate': 0.10821622250109998, 'num_leaves': 97, 'feature_fraction': 0.47546299301754913, 'min_data_in_leaf': 374}\n",
      "=========================================== Cluster 56 ===========================================\n"
     ]
    },
    {
     "name": "stderr",
     "output_type": "stream",
     "text": [
      "[I 2023-12-21 17:09:07,279] A new study created in memory with name: no-name-d13c9519-aaa7-4873-b99e-2d03cf99cb67\n"
     ]
    },
    {
     "name": "stdout",
     "output_type": "stream",
     "text": [
      "Periodos entrenar: [201701 201702 201703 201704 201705 201706 201707 201708 201709 201710\n",
      " 201711 201712 201801 201802 201803 201804 201805 201806 201807 201808\n",
      " 201809 201810 201811 201812 201901 201902 201903 201904 201905]\n",
      "Periodos validar: [201907]\n",
      "product_id a validar: 6960\n",
      "X_train: (185484, 120)\n",
      "y_train: (185484,)\n",
      "\n",
      "X_validate: (6960, 120)\n",
      "y_validate: (6960,)\n",
      "Optimizacion Bayesiana\n",
      "**************** tweedie ****************\n",
      "Training until validation scores don't improve for 89 rounds\n",
      "[100]\tvalid_0's ER: 108.41\n"
     ]
    },
    {
     "name": "stderr",
     "output_type": "stream",
     "text": [
      "[I 2023-12-21 17:09:10,625] Trial 0 finished with value: 108.42 and parameters: {'lambda_l1': 992.2633207055873, 'lambda_l2': 670.8309068739039, 'learning_rate': 0.1255700308434334, 'num_leaves': 1017, 'feature_fraction': 0.31924721758410696, 'min_data_in_leaf': 180}. Best is trial 0 with value: 108.42.\n"
     ]
    },
    {
     "name": "stdout",
     "output_type": "stream",
     "text": [
      "Early stopping, best iteration is:\n",
      "[62]\tvalid_0's ER: 108.3\n",
      "Evaluated only: ER\n",
      "**************** tweedie ****************\n",
      "Training until validation scores don't improve for 73 rounds\n"
     ]
    },
    {
     "name": "stderr",
     "output_type": "stream",
     "text": [
      "[I 2023-12-21 17:09:13,077] Trial 1 finished with value: 108.18 and parameters: {'lambda_l1': 722.2034394222443, 'lambda_l2': 582.9185956656751, 'learning_rate': 0.2123411163344394, 'num_leaves': 141, 'feature_fraction': 0.2866292130977943, 'min_data_in_leaf': 4597}. Best is trial 1 with value: 108.18.\n"
     ]
    },
    {
     "name": "stdout",
     "output_type": "stream",
     "text": [
      "[100]\tvalid_0's ER: 109.23\n",
      "Early stopping, best iteration is:\n",
      "[38]\tvalid_0's ER: 108.18\n",
      "Evaluated only: ER\n",
      "**************** tweedie ****************\n",
      "Training until validation scores don't improve for 71 rounds\n",
      "[100]\tvalid_0's ER: 102.96\n"
     ]
    },
    {
     "name": "stderr",
     "output_type": "stream",
     "text": [
      "[I 2023-12-21 17:09:16,741] Trial 2 finished with value: 102.87 and parameters: {'lambda_l1': 481.71919593062205, 'lambda_l2': 564.8638527976009, 'learning_rate': 0.22918726599748432, 'num_leaves': 339, 'feature_fraction': 0.8097813931414843, 'min_data_in_leaf': 7075}. Best is trial 2 with value: 102.87.\n"
     ]
    },
    {
     "name": "stdout",
     "output_type": "stream",
     "text": [
      "Early stopping, best iteration is:\n",
      "[55]\tvalid_0's ER: 102.77\n",
      "Evaluated only: ER\n",
      "**************** tweedie ****************\n",
      "Training until validation scores don't improve for 79 rounds\n",
      "[100]\tvalid_0's ER: 97.05\n",
      "[200]\tvalid_0's ER: 95.6\n"
     ]
    },
    {
     "name": "stderr",
     "output_type": "stream",
     "text": [
      "[I 2023-12-21 17:09:23,554] Trial 3 finished with value: 95.48 and parameters: {'lambda_l1': 81.1402223627229, 'lambda_l2': 929.9294065709191, 'learning_rate': 0.17205689154664996, 'num_leaves': 42, 'feature_fraction': 0.9450360606319546, 'min_data_in_leaf': 3310}. Best is trial 3 with value: 95.48.\n"
     ]
    },
    {
     "name": "stdout",
     "output_type": "stream",
     "text": [
      "Early stopping, best iteration is:\n",
      "[139]\tvalid_0's ER: 95.48\n",
      "Evaluated only: ER\n",
      "**************** tweedie ****************\n",
      "Training until validation scores don't improve for 90 rounds\n",
      "[100]\tvalid_0's ER: 112.12\n"
     ]
    },
    {
     "name": "stderr",
     "output_type": "stream",
     "text": [
      "[I 2023-12-21 17:09:27,639] Trial 4 finished with value: 112.12 and parameters: {'lambda_l1': 926.8512168703426, 'lambda_l2': 630.2533400004913, 'learning_rate': 0.12322919490996927, 'num_leaves': 772, 'feature_fraction': 0.4866294552072093, 'min_data_in_leaf': 7516}. Best is trial 3 with value: 95.48.\n"
     ]
    },
    {
     "name": "stdout",
     "output_type": "stream",
     "text": [
      "Early stopping, best iteration is:\n",
      "[108]\tvalid_0's ER: 112.11\n",
      "Evaluated only: ER\n",
      "**************** tweedie ****************\n",
      "Training until validation scores don't improve for 85 rounds\n",
      "[100]\tvalid_0's ER: 100.2\n"
     ]
    },
    {
     "name": "stderr",
     "output_type": "stream",
     "text": [
      "[I 2023-12-21 17:09:32,598] Trial 5 finished with value: 99.78 and parameters: {'lambda_l1': 295.4648940073735, 'lambda_l2': 962.8041000222062, 'learning_rate': 0.14024538506932543, 'num_leaves': 472, 'feature_fraction': 0.7807921491315031, 'min_data_in_leaf': 2751}. Best is trial 3 with value: 95.48.\n"
     ]
    },
    {
     "name": "stdout",
     "output_type": "stream",
     "text": [
      "Early stopping, best iteration is:\n",
      "[78]\tvalid_0's ER: 99.78\n",
      "Evaluated only: ER\n",
      "**************** tweedie ****************\n",
      "Training until validation scores don't improve for 75 rounds\n"
     ]
    },
    {
     "name": "stderr",
     "output_type": "stream",
     "text": [
      "[I 2023-12-21 17:09:35,115] Trial 6 finished with value: 108.21 and parameters: {'lambda_l1': 982.9821412631613, 'lambda_l2': 764.195942706793, 'learning_rate': 0.19536647599182894, 'num_leaves': 142, 'feature_fraction': 0.3007531085707495, 'min_data_in_leaf': 1035}. Best is trial 3 with value: 95.48.\n"
     ]
    },
    {
     "name": "stdout",
     "output_type": "stream",
     "text": [
      "[100]\tvalid_0's ER: 108.35\n",
      "Early stopping, best iteration is:\n",
      "[27]\tvalid_0's ER: 108.21\n",
      "Evaluated only: ER\n",
      "**************** tweedie ****************\n",
      "Training until validation scores don't improve for 67 rounds\n"
     ]
    },
    {
     "name": "stderr",
     "output_type": "stream",
     "text": [
      "[I 2023-12-21 17:09:38,015] Trial 7 finished with value: 101.05 and parameters: {'lambda_l1': 404.80749988630936, 'lambda_l2': 184.92983193910706, 'learning_rate': 0.2779220087258394, 'num_leaves': 914, 'feature_fraction': 0.9632389876418017, 'min_data_in_leaf': 2286}. Best is trial 3 with value: 95.48.\n"
     ]
    },
    {
     "name": "stdout",
     "output_type": "stream",
     "text": [
      "Early stopping, best iteration is:\n",
      "[22]\tvalid_0's ER: 101.05\n",
      "Evaluated only: ER\n",
      "**************** tweedie ****************\n",
      "Training until validation scores don't improve for 82 rounds\n",
      "[100]\tvalid_0's ER: 110.01\n"
     ]
    },
    {
     "name": "stderr",
     "output_type": "stream",
     "text": [
      "[I 2023-12-21 17:09:41,405] Trial 8 finished with value: 109.66 and parameters: {'lambda_l1': 631.7175161989094, 'lambda_l2': 837.3580351298122, 'learning_rate': 0.1530800304145442, 'num_leaves': 1012, 'feature_fraction': 0.40617604567660276, 'min_data_in_leaf': 7803}. Best is trial 3 with value: 95.48.\n"
     ]
    },
    {
     "name": "stdout",
     "output_type": "stream",
     "text": [
      "Early stopping, best iteration is:\n",
      "[81]\tvalid_0's ER: 109.59\n",
      "Evaluated only: ER\n",
      "**************** tweedie ****************\n",
      "Training until validation scores don't improve for 81 rounds\n",
      "[100]\tvalid_0's ER: 98.79\n"
     ]
    },
    {
     "name": "stderr",
     "output_type": "stream",
     "text": [
      "[I 2023-12-21 17:09:44,530] Trial 9 finished with value: 98.64 and parameters: {'lambda_l1': 312.7039864047859, 'lambda_l2': 30.657468429304167, 'learning_rate': 0.16041925132091125, 'num_leaves': 673, 'feature_fraction': 0.4110067862089465, 'min_data_in_leaf': 3346}. Best is trial 3 with value: 95.48.\n"
     ]
    },
    {
     "name": "stdout",
     "output_type": "stream",
     "text": [
      "Early stopping, best iteration is:\n",
      "[55]\tvalid_0's ER: 98.11\n",
      "Evaluated only: ER\n",
      "# Experimentos: 10\n",
      "Mejor experimento: {'lambda_l1': 81.1402223627229, 'lambda_l2': 929.9294065709191, 'learning_rate': 0.17205689154664996, 'num_leaves': 42, 'feature_fraction': 0.9450360606319546, 'min_data_in_leaf': 3310}\n",
      "=========================================== Cluster 57 ===========================================\n"
     ]
    },
    {
     "name": "stderr",
     "output_type": "stream",
     "text": [
      "[I 2023-12-21 17:09:45,531] A new study created in memory with name: no-name-e6003285-18fb-464c-a9db-af9a639a7b92\n"
     ]
    },
    {
     "name": "stdout",
     "output_type": "stream",
     "text": [
      "Periodos entrenar: [201701 201702 201703 201704 201705 201706 201707 201708 201709 201710\n",
      " 201711 201712 201801 201802 201803 201804 201805 201806 201807 201808\n",
      " 201809 201810 201811 201812 201901 201902 201903 201904 201905]\n",
      "Periodos validar: [201907]\n",
      "product_id a validar: 1160\n",
      "X_train: (30914, 120)\n",
      "y_train: (30914,)\n",
      "\n",
      "X_validate: (1160, 120)\n",
      "y_validate: (1160,)\n",
      "Optimizacion Bayesiana\n",
      "**************** tweedie ****************\n",
      "Training until validation scores don't improve for 87 rounds\n",
      "[100]\tvalid_0's ER: 98.12\n"
     ]
    },
    {
     "name": "stderr",
     "output_type": "stream",
     "text": [
      "[I 2023-12-21 17:09:46,335] Trial 0 finished with value: 97.33 and parameters: {'lambda_l1': 299.732611936013, 'lambda_l2': 339.47538688250677, 'learning_rate': 0.13331657213063675, 'num_leaves': 904, 'feature_fraction': 0.3395487031928711, 'min_data_in_leaf': 4314}. Best is trial 0 with value: 97.33.\n"
     ]
    },
    {
     "name": "stdout",
     "output_type": "stream",
     "text": [
      "[200]\tvalid_0's ER: 97.33\n",
      "Early stopping, best iteration is:\n",
      "[168]\tvalid_0's ER: 97.32\n",
      "Evaluated only: ER\n",
      "**************** tweedie ****************\n",
      "Training until validation scores don't improve for 67 rounds\n"
     ]
    },
    {
     "name": "stderr",
     "output_type": "stream",
     "text": [
      "[I 2023-12-21 17:09:47,230] Trial 1 finished with value: 90.16 and parameters: {'lambda_l1': 150.54041710816645, 'lambda_l2': 844.2179559100466, 'learning_rate': 0.2841007161973408, 'num_leaves': 694, 'feature_fraction': 0.9632360107531992, 'min_data_in_leaf': 64}. Best is trial 1 with value: 90.16.\n"
     ]
    },
    {
     "name": "stdout",
     "output_type": "stream",
     "text": [
      "[100]\tvalid_0's ER: 90.19\n",
      "Early stopping, best iteration is:\n",
      "[81]\tvalid_0's ER: 90.16\n",
      "Evaluated only: ER\n",
      "**************** tweedie ****************\n",
      "Training until validation scores don't improve for 78 rounds\n"
     ]
    },
    {
     "name": "stderr",
     "output_type": "stream",
     "text": [
      "[I 2023-12-21 17:09:47,902] Trial 2 finished with value: 121.63 and parameters: {'lambda_l1': 906.9586784175641, 'lambda_l2': 803.2046691865638, 'learning_rate': 0.1761969573184084, 'num_leaves': 401, 'feature_fraction': 0.6221580198065406, 'min_data_in_leaf': 3649}. Best is trial 1 with value: 90.16.\n"
     ]
    },
    {
     "name": "stdout",
     "output_type": "stream",
     "text": [
      "[100]\tvalid_0's ER: 121.63\n",
      "Early stopping, best iteration is:\n",
      "[71]\tvalid_0's ER: 121.63\n",
      "Evaluated only: ER\n",
      "**************** tweedie ****************\n",
      "Training until validation scores don't improve for 78 rounds\n"
     ]
    },
    {
     "name": "stderr",
     "output_type": "stream",
     "text": [
      "[I 2023-12-21 17:09:49,220] Trial 3 finished with value: 112.41 and parameters: {'lambda_l1': 645.1743810320052, 'lambda_l2': 525.3464715902956, 'learning_rate': 0.17418729097682972, 'num_leaves': 771, 'feature_fraction': 0.6335063734958705, 'min_data_in_leaf': 4639}. Best is trial 1 with value: 90.16.\n"
     ]
    },
    {
     "name": "stdout",
     "output_type": "stream",
     "text": [
      "[100]\tvalid_0's ER: 112.41\n",
      "Early stopping, best iteration is:\n",
      "[89]\tvalid_0's ER: 112.41\n",
      "Evaluated only: ER\n",
      "**************** tweedie ****************\n",
      "Training until validation scores don't improve for 73 rounds\n"
     ]
    },
    {
     "name": "stderr",
     "output_type": "stream",
     "text": [
      "[I 2023-12-21 17:09:49,795] Trial 4 finished with value: 100.41 and parameters: {'lambda_l1': 447.2244902471888, 'lambda_l2': 22.250451881128065, 'learning_rate': 0.21432857879866035, 'num_leaves': 1012, 'feature_fraction': 0.38566798541053954, 'min_data_in_leaf': 457}. Best is trial 1 with value: 90.16.\n"
     ]
    },
    {
     "name": "stdout",
     "output_type": "stream",
     "text": [
      "[100]\tvalid_0's ER: 100.41\n",
      "Early stopping, best iteration is:\n",
      "[64]\tvalid_0's ER: 100.41\n",
      "Evaluated only: ER\n",
      "**************** tweedie ****************\n",
      "Training until validation scores don't improve for 120 rounds\n",
      "[100]\tvalid_0's ER: 115.39\n",
      "[200]\tvalid_0's ER: 113.57\n",
      "[300]\tvalid_0's ER: 113.32\n"
     ]
    },
    {
     "name": "stderr",
     "output_type": "stream",
     "text": [
      "[I 2023-12-21 17:09:51,485] Trial 5 finished with value: 113.29 and parameters: {'lambda_l1': 658.71460824824, 'lambda_l2': 791.1167010052775, 'learning_rate': 0.07060500253447859, 'num_leaves': 546, 'feature_fraction': 0.7634025629258459, 'min_data_in_leaf': 7672}. Best is trial 1 with value: 90.16.\n"
     ]
    },
    {
     "name": "stdout",
     "output_type": "stream",
     "text": [
      "[400]\tvalid_0's ER: 113.29\n",
      "Early stopping, best iteration is:\n",
      "[324]\tvalid_0's ER: 113.29\n",
      "Evaluated only: ER\n",
      "**************** tweedie ****************\n",
      "Training until validation scores don't improve for 432 rounds\n",
      "[100]\tvalid_0's ER: 148.06\n",
      "[200]\tvalid_0's ER: 135.47\n",
      "[300]\tvalid_0's ER: 129.99\n",
      "[400]\tvalid_0's ER: 126.9\n",
      "[500]\tvalid_0's ER: 124.9\n",
      "[600]\tvalid_0's ER: 123.61\n",
      "[700]\tvalid_0's ER: 122.48\n",
      "[800]\tvalid_0's ER: 121.69\n",
      "[900]\tvalid_0's ER: 121.11\n",
      "[1000]\tvalid_0's ER: 120.64\n",
      "[1100]\tvalid_0's ER: 120.62\n",
      "[1200]\tvalid_0's ER: 120.6\n",
      "[1300]\tvalid_0's ER: 120.59\n",
      "[1400]\tvalid_0's ER: 120.57\n",
      "[1500]\tvalid_0's ER: 120.57\n",
      "[1600]\tvalid_0's ER: 120.55\n",
      "[1700]\tvalid_0's ER: 120.55\n",
      "[1800]\tvalid_0's ER: 120.54\n",
      "[1900]\tvalid_0's ER: 120.53\n",
      "[2000]\tvalid_0's ER: 120.52\n",
      "[2100]\tvalid_0's ER: 120.52\n",
      "[2200]\tvalid_0's ER: 120.52\n",
      "[2300]\tvalid_0's ER: 120.51\n",
      "[2400]\tvalid_0's ER: 120.51\n",
      "[2500]\tvalid_0's ER: 120.5\n",
      "[2600]\tvalid_0's ER: 120.5\n",
      "[2700]\tvalid_0's ER: 120.5\n",
      "[2800]\tvalid_0's ER: 120.5\n",
      "Early stopping, best iteration is:\n",
      "[2465]\tvalid_0's ER: 120.5\n",
      "Evaluated only: ER\n"
     ]
    },
    {
     "name": "stderr",
     "output_type": "stream",
     "text": [
      "[I 2023-12-21 17:09:58,444] Trial 6 finished with value: 120.5 and parameters: {'lambda_l1': 950.6757763768453, 'lambda_l2': 973.2315780196742, 'learning_rate': 0.01307316213408956, 'num_leaves': 891, 'feature_fraction': 0.2979906566950417, 'min_data_in_leaf': 118}. Best is trial 1 with value: 90.16.\n"
     ]
    },
    {
     "name": "stdout",
     "output_type": "stream",
     "text": [
      "**************** tweedie ****************\n",
      "Training until validation scores don't improve for 179 rounds\n",
      "[100]\tvalid_0's ER: 107.54\n",
      "[200]\tvalid_0's ER: 101.43\n",
      "[300]\tvalid_0's ER: 100.2\n",
      "[400]\tvalid_0's ER: 99.97\n",
      "[500]\tvalid_0's ER: 99.97\n",
      "Early stopping, best iteration is:\n",
      "[391]\tvalid_0's ER: 99.97\n",
      "Evaluated only: ER\n"
     ]
    },
    {
     "name": "stderr",
     "output_type": "stream",
     "text": [
      "[I 2023-12-21 17:10:00,374] Trial 7 finished with value: 99.97 and parameters: {'lambda_l1': 347.3668239338555, 'lambda_l2': 322.5937331278803, 'learning_rate': 0.038634436558493884, 'num_leaves': 640, 'feature_fraction': 0.500958927846501, 'min_data_in_leaf': 5074}. Best is trial 1 with value: 90.16.\n"
     ]
    },
    {
     "name": "stdout",
     "output_type": "stream",
     "text": [
      "**************** tweedie ****************\n",
      "Training until validation scores don't improve for 170 rounds\n",
      "[100]\tvalid_0's ER: 104.57\n",
      "[200]\tvalid_0's ER: 102.43\n",
      "[300]\tvalid_0's ER: 102.42\n"
     ]
    },
    {
     "name": "stderr",
     "output_type": "stream",
     "text": [
      "[I 2023-12-21 17:10:02,040] Trial 8 finished with value: 102.42 and parameters: {'lambda_l1': 425.9490210816342, 'lambda_l2': 89.78654514971696, 'learning_rate': 0.0414568446953796, 'num_leaves': 529, 'feature_fraction': 0.6810494330258385, 'min_data_in_leaf': 2496}. Best is trial 1 with value: 90.16.\n"
     ]
    },
    {
     "name": "stdout",
     "output_type": "stream",
     "text": [
      "Early stopping, best iteration is:\n",
      "[214]\tvalid_0's ER: 102.42\n",
      "Evaluated only: ER\n",
      "**************** tweedie ****************\n",
      "Training until validation scores don't improve for 416 rounds\n",
      "[100]\tvalid_0's ER: 148.26\n",
      "[200]\tvalid_0's ER: 136.46\n",
      "[300]\tvalid_0's ER: 131.54\n",
      "[400]\tvalid_0's ER: 128.81\n",
      "[500]\tvalid_0's ER: 127.37\n",
      "[600]\tvalid_0's ER: 126.59\n",
      "[700]\tvalid_0's ER: 126.08\n",
      "[800]\tvalid_0's ER: 125.79\n",
      "[900]\tvalid_0's ER: 125.57\n",
      "[1000]\tvalid_0's ER: 125.43\n",
      "[1100]\tvalid_0's ER: 125.37\n",
      "[1200]\tvalid_0's ER: 125.3\n",
      "[1300]\tvalid_0's ER: 125.26\n",
      "[1400]\tvalid_0's ER: 125.23\n",
      "[1500]\tvalid_0's ER: 125.2\n",
      "[1600]\tvalid_0's ER: 125.2\n",
      "[1700]\tvalid_0's ER: 125.2\n",
      "[1800]\tvalid_0's ER: 125.2\n"
     ]
    },
    {
     "name": "stderr",
     "output_type": "stream",
     "text": [
      "[I 2023-12-21 17:10:08,174] Trial 9 finished with value: 125.2 and parameters: {'lambda_l1': 973.8424586572066, 'lambda_l2': 926.6211163632955, 'learning_rate': 0.01362935044580229, 'num_leaves': 1016, 'feature_fraction': 0.5677290082707869, 'min_data_in_leaf': 4100}. Best is trial 1 with value: 90.16.\n"
     ]
    },
    {
     "name": "stdout",
     "output_type": "stream",
     "text": [
      "[1900]\tvalid_0's ER: 125.2\n",
      "Early stopping, best iteration is:\n",
      "[1489]\tvalid_0's ER: 125.2\n",
      "Evaluated only: ER\n",
      "# Experimentos: 10\n",
      "Mejor experimento: {'lambda_l1': 150.54041710816645, 'lambda_l2': 844.2179559100466, 'learning_rate': 0.2841007161973408, 'num_leaves': 694, 'feature_fraction': 0.9632360107531992, 'min_data_in_leaf': 64}\n",
      "=========================================== Cluster 58 ===========================================\n"
     ]
    },
    {
     "name": "stderr",
     "output_type": "stream",
     "text": [
      "[I 2023-12-21 17:10:08,975] A new study created in memory with name: no-name-6c6b4d7b-32cd-4b93-8f2d-ce8ced319abd\n"
     ]
    },
    {
     "name": "stdout",
     "output_type": "stream",
     "text": [
      "Periodos entrenar: [201708 201709 201710 201711 201712 201801 201802 201803 201804 201805\n",
      " 201806 201807 201808 201809 201810 201811 201812 201901 201902 201903\n",
      " 201904 201905]\n",
      "Periodos validar: [201907]\n",
      "product_id a validar: 1160\n",
      "X_train: (23954, 120)\n",
      "y_train: (23954,)\n",
      "\n",
      "X_validate: (1160, 120)\n",
      "y_validate: (1160,)\n",
      "Optimizacion Bayesiana\n",
      "**************** tweedie ****************\n",
      "Training until validation scores don't improve for 100 rounds\n"
     ]
    },
    {
     "name": "stderr",
     "output_type": "stream",
     "text": [
      "[I 2023-12-21 17:10:09,591] Trial 0 finished with value: 163.17 and parameters: {'lambda_l1': 273.1278779971831, 'lambda_l2': 87.47464846826813, 'learning_rate': 0.09936447922347005, 'num_leaves': 183, 'feature_fraction': 0.7107182003845627, 'min_data_in_leaf': 3349}. Best is trial 0 with value: 163.17.\n"
     ]
    },
    {
     "name": "stdout",
     "output_type": "stream",
     "text": [
      "[100]\tvalid_0's ER: 163.95\n",
      "Early stopping, best iteration is:\n",
      "[59]\tvalid_0's ER: 163.17\n",
      "Evaluated only: ER\n",
      "**************** tweedie ****************\n",
      "Training until validation scores don't improve for 221 rounds\n",
      "[100]\tvalid_0's ER: 272.76\n",
      "[200]\tvalid_0's ER: 252.34\n",
      "[300]\tvalid_0's ER: 247.89\n",
      "[400]\tvalid_0's ER: 247.29\n",
      "[500]\tvalid_0's ER: 246.95\n"
     ]
    },
    {
     "name": "stderr",
     "output_type": "stream",
     "text": [
      "[I 2023-12-21 17:10:11,107] Trial 1 finished with value: 246.95 and parameters: {'lambda_l1': 605.9945519385648, 'lambda_l2': 285.0629197727028, 'learning_rate': 0.02922725540711183, 'num_leaves': 881, 'feature_fraction': 0.3289044611041272, 'min_data_in_leaf': 4209}. Best is trial 0 with value: 163.17.\n"
     ]
    },
    {
     "name": "stdout",
     "output_type": "stream",
     "text": [
      "[600]\tvalid_0's ER: 246.99\n",
      "Early stopping, best iteration is:\n",
      "[462]\tvalid_0's ER: 246.93\n",
      "Evaluated only: ER\n",
      "**************** tweedie ****************\n",
      "Training until validation scores don't improve for 102 rounds\n",
      "[100]\tvalid_0's ER: 342\n"
     ]
    },
    {
     "name": "stderr",
     "output_type": "stream",
     "text": [
      "[I 2023-12-21 17:10:11,636] Trial 2 finished with value: 342.01 and parameters: {'lambda_l1': 963.0769178418687, 'lambda_l2': 707.2263063605643, 'learning_rate': 0.09467172104488829, 'num_leaves': 672, 'feature_fraction': 0.3515746596134702, 'min_data_in_leaf': 2406}. Best is trial 0 with value: 163.17.\n"
     ]
    },
    {
     "name": "stdout",
     "output_type": "stream",
     "text": [
      "Early stopping, best iteration is:\n",
      "[79]\tvalid_0's ER: 341.88\n",
      "Evaluated only: ER\n",
      "**************** tweedie ****************\n",
      "Training until validation scores don't improve for 256 rounds\n",
      "[100]\tvalid_0's ER: 101.53\n",
      "[200]\tvalid_0's ER: 101.53\n"
     ]
    },
    {
     "name": "stderr",
     "output_type": "stream",
     "text": [
      "[I 2023-12-21 17:10:12,275] Trial 3 finished with value: 359.22 and parameters: {'lambda_l1': 991.0899296042386, 'lambda_l2': 143.30490653050666, 'learning_rate': 0.02416998930527798, 'num_leaves': 690, 'feature_fraction': 0.3828336167419071, 'min_data_in_leaf': 2043}. Best is trial 0 with value: 163.17.\n"
     ]
    },
    {
     "name": "stdout",
     "output_type": "stream",
     "text": [
      "Early stopping, best iteration is:\n",
      "[1]\tvalid_0's ER: 101.53\n",
      "Evaluated only: ER\n",
      "**************** tweedie ****************\n",
      "Training until validation scores don't improve for 99 rounds\n",
      "[100]\tvalid_0's ER: 251.42\n",
      "[200]\tvalid_0's ER: 248.97\n"
     ]
    },
    {
     "name": "stderr",
     "output_type": "stream",
     "text": [
      "[I 2023-12-21 17:10:12,958] Trial 4 finished with value: 248.92 and parameters: {'lambda_l1': 611.0230978519471, 'lambda_l2': 494.5318733568418, 'learning_rate': 0.10041921450295571, 'num_leaves': 179, 'feature_fraction': 0.3850659718160634, 'min_data_in_leaf': 7812}. Best is trial 0 with value: 163.17.\n"
     ]
    },
    {
     "name": "stdout",
     "output_type": "stream",
     "text": [
      "Early stopping, best iteration is:\n",
      "[147]\tvalid_0's ER: 248.92\n",
      "Evaluated only: ER\n",
      "**************** tweedie ****************\n",
      "Training until validation scores don't improve for 107 rounds\n",
      "[100]\tvalid_0's ER: 239.52\n"
     ]
    },
    {
     "name": "stderr",
     "output_type": "stream",
     "text": [
      "[I 2023-12-21 17:10:13,711] Trial 5 finished with value: 239.51 and parameters: {'lambda_l1': 578.9829281163521, 'lambda_l2': 633.1139492425641, 'learning_rate': 0.08767998150435684, 'num_leaves': 618, 'feature_fraction': 0.8522101832849631, 'min_data_in_leaf': 2529}. Best is trial 0 with value: 163.17.\n"
     ]
    },
    {
     "name": "stdout",
     "output_type": "stream",
     "text": [
      "Early stopping, best iteration is:\n",
      "[89]\tvalid_0's ER: 239.51\n",
      "Evaluated only: ER\n",
      "**************** tweedie ****************\n",
      "Training until validation scores don't improve for 72 rounds\n"
     ]
    },
    {
     "name": "stderr",
     "output_type": "stream",
     "text": [
      "[I 2023-12-21 17:10:14,138] Trial 6 finished with value: 257.14 and parameters: {'lambda_l1': 668.911600470602, 'lambda_l2': 656.080705951377, 'learning_rate': 0.21744146114502874, 'num_leaves': 340, 'feature_fraction': 0.7065877868526347, 'min_data_in_leaf': 1408}. Best is trial 0 with value: 163.17.\n"
     ]
    },
    {
     "name": "stdout",
     "output_type": "stream",
     "text": [
      "Early stopping, best iteration is:\n",
      "[25]\tvalid_0's ER: 257.14\n",
      "Evaluated only: ER\n",
      "**************** tweedie ****************\n",
      "Training until validation scores don't improve for 80 rounds\n"
     ]
    },
    {
     "name": "stderr",
     "output_type": "stream",
     "text": [
      "[I 2023-12-21 17:10:14,590] Trial 7 finished with value: 283.66 and parameters: {'lambda_l1': 752.0778950374017, 'lambda_l2': 549.723634099491, 'learning_rate': 0.1663711004292248, 'num_leaves': 679, 'feature_fraction': 0.3494315879182278, 'min_data_in_leaf': 1637}. Best is trial 0 with value: 163.17.\n"
     ]
    },
    {
     "name": "stdout",
     "output_type": "stream",
     "text": [
      "[100]\tvalid_0's ER: 283.69\n",
      "Early stopping, best iteration is:\n",
      "[56]\tvalid_0's ER: 283.65\n",
      "Evaluated only: ER\n",
      "**************** tweedie ****************\n",
      "Training until validation scores don't improve for 332 rounds\n",
      "[100]\tvalid_0's ER: 256.71\n",
      "[200]\tvalid_0's ER: 215.59\n",
      "[300]\tvalid_0's ER: 195.71\n",
      "[400]\tvalid_0's ER: 186.09\n",
      "[500]\tvalid_0's ER: 181.85\n",
      "[600]\tvalid_0's ER: 178.55\n",
      "[700]\tvalid_0's ER: 177.22\n",
      "[800]\tvalid_0's ER: 176.1\n",
      "[900]\tvalid_0's ER: 175.12\n",
      "[1000]\tvalid_0's ER: 174.47\n",
      "[1100]\tvalid_0's ER: 174.18\n",
      "[1200]\tvalid_0's ER: 174\n",
      "[1300]\tvalid_0's ER: 173.88\n",
      "[1400]\tvalid_0's ER: 173.85\n",
      "[1500]\tvalid_0's ER: 173.81\n",
      "[1600]\tvalid_0's ER: 173.76\n",
      "[1700]\tvalid_0's ER: 173.76\n",
      "[1800]\tvalid_0's ER: 173.76\n"
     ]
    },
    {
     "name": "stderr",
     "output_type": "stream",
     "text": [
      "[I 2023-12-21 17:10:20,654] Trial 8 finished with value: 173.76 and parameters: {'lambda_l1': 270.4607118970002, 'lambda_l2': 635.1478385713784, 'learning_rate': 0.017724953364417567, 'num_leaves': 991, 'feature_fraction': 0.869297922018488, 'min_data_in_leaf': 5516}. Best is trial 0 with value: 163.17.\n"
     ]
    },
    {
     "name": "stdout",
     "output_type": "stream",
     "text": [
      "[1900]\tvalid_0's ER: 173.76\n",
      "Early stopping, best iteration is:\n",
      "[1600]\tvalid_0's ER: 173.76\n",
      "Evaluated only: ER\n",
      "**************** tweedie ****************\n",
      "Training until validation scores don't improve for 85 rounds\n",
      "[100]\tvalid_0's ER: 156.47\n",
      "[200]\tvalid_0's ER: 152.19\n",
      "[300]\tvalid_0's ER: 150.93\n"
     ]
    },
    {
     "name": "stderr",
     "output_type": "stream",
     "text": [
      "[I 2023-12-21 17:10:21,927] Trial 9 finished with value: 149.92 and parameters: {'lambda_l1': 28.91263767927399, 'lambda_l2': 1.625846196169345, 'learning_rate': 0.1411635447487622, 'num_leaves': 60, 'feature_fraction': 0.9110099356714951, 'min_data_in_leaf': 7347}. Best is trial 9 with value: 149.92.\n"
     ]
    },
    {
     "name": "stdout",
     "output_type": "stream",
     "text": [
      "[400]\tvalid_0's ER: 149.98\n",
      "Early stopping, best iteration is:\n",
      "[367]\tvalid_0's ER: 149.92\n",
      "Evaluated only: ER\n",
      "# Experimentos: 10\n",
      "Mejor experimento: {'lambda_l1': 28.91263767927399, 'lambda_l2': 1.625846196169345, 'learning_rate': 0.1411635447487622, 'num_leaves': 60, 'feature_fraction': 0.9110099356714951, 'min_data_in_leaf': 7347}\n",
      "=========================================== Cluster 59 ===========================================\n"
     ]
    },
    {
     "name": "stderr",
     "output_type": "stream",
     "text": [
      "[I 2023-12-21 17:10:27,233] A new study created in memory with name: no-name-a105699b-eab0-41d4-9847-d282d4a33cf3\n"
     ]
    },
    {
     "name": "stdout",
     "output_type": "stream",
     "text": [
      "Periodos entrenar: [201701 201702 201703 201704 201705 201706 201707 201708 201709 201710\n",
      " 201711 201712 201801 201802 201803 201804 201805 201806 201807 201808\n",
      " 201809 201810 201811 201812 201901 201902 201903 201904 201905]\n",
      "Periodos validar: [201907]\n",
      "product_id a validar: 8700\n",
      "X_train: (164391, 120)\n",
      "y_train: (164391,)\n",
      "\n",
      "X_validate: (8700, 120)\n",
      "y_validate: (8700,)\n",
      "Optimizacion Bayesiana\n",
      "**************** tweedie ****************\n",
      "Training until validation scores don't improve for 168 rounds\n",
      "[100]\tvalid_0's ER: 118.78\n",
      "[200]\tvalid_0's ER: 109.47\n",
      "[300]\tvalid_0's ER: 107.45\n",
      "[400]\tvalid_0's ER: 107.45\n"
     ]
    },
    {
     "name": "stderr",
     "output_type": "stream",
     "text": [
      "[I 2023-12-21 17:10:37,292] Trial 0 finished with value: 107.43 and parameters: {'lambda_l1': 280.5660888099427, 'lambda_l2': 416.5517416242914, 'learning_rate': 0.04223467840977197, 'num_leaves': 872, 'feature_fraction': 0.629286268259529, 'min_data_in_leaf': 4502}. Best is trial 0 with value: 107.43.\n"
     ]
    },
    {
     "name": "stdout",
     "output_type": "stream",
     "text": [
      "Early stopping, best iteration is:\n",
      "[288]\tvalid_0's ER: 107.4\n",
      "Evaluated only: ER\n",
      "**************** tweedie ****************\n",
      "Training until validation scores don't improve for 85 rounds\n",
      "[100]\tvalid_0's ER: 119.51\n"
     ]
    },
    {
     "name": "stderr",
     "output_type": "stream",
     "text": [
      "[I 2023-12-21 17:10:40,722] Trial 1 finished with value: 119.4 and parameters: {'lambda_l1': 616.6504768014896, 'lambda_l2': 347.82063626866454, 'learning_rate': 0.1423711399338365, 'num_leaves': 605, 'feature_fraction': 0.6287273408035816, 'min_data_in_leaf': 5095}. Best is trial 0 with value: 107.43.\n"
     ]
    },
    {
     "name": "stdout",
     "output_type": "stream",
     "text": [
      "Early stopping, best iteration is:\n",
      "[54]\tvalid_0's ER: 119.19\n",
      "Evaluated only: ER\n",
      "**************** tweedie ****************\n",
      "Training until validation scores don't improve for 89 rounds\n",
      "[100]\tvalid_0's ER: 125.94\n"
     ]
    },
    {
     "name": "stderr",
     "output_type": "stream",
     "text": [
      "[I 2023-12-21 17:10:44,599] Trial 2 finished with value: 125.89 and parameters: {'lambda_l1': 935.645974439651, 'lambda_l2': 507.0256979320685, 'learning_rate': 0.1250788476343667, 'num_leaves': 550, 'feature_fraction': 0.6419138213935791, 'min_data_in_leaf': 968}. Best is trial 0 with value: 107.43.\n"
     ]
    },
    {
     "name": "stdout",
     "output_type": "stream",
     "text": [
      "Early stopping, best iteration is:\n",
      "[57]\tvalid_0's ER: 125.89\n",
      "Evaluated only: ER\n",
      "**************** tweedie ****************\n",
      "Training until validation scores don't improve for 165 rounds\n",
      "[100]\tvalid_0's ER: 128.79\n",
      "[200]\tvalid_0's ER: 125.58\n",
      "[300]\tvalid_0's ER: 125.58\n"
     ]
    },
    {
     "name": "stderr",
     "output_type": "stream",
     "text": [
      "[I 2023-12-21 17:10:50,956] Trial 3 finished with value: 125.52 and parameters: {'lambda_l1': 720.1004441797783, 'lambda_l2': 182.37963226851662, 'learning_rate': 0.043433643208739624, 'num_leaves': 76, 'feature_fraction': 0.6997895039497727, 'min_data_in_leaf': 7036}. Best is trial 0 with value: 107.43.\n"
     ]
    },
    {
     "name": "stdout",
     "output_type": "stream",
     "text": [
      "Early stopping, best iteration is:\n",
      "[152]\tvalid_0's ER: 125.52\n",
      "Evaluated only: ER\n",
      "**************** tweedie ****************\n",
      "Training until validation scores don't improve for 77 rounds\n",
      "[100]\tvalid_0's ER: 94.7\n",
      "[200]\tvalid_0's ER: 91.71\n",
      "[300]\tvalid_0's ER: 90.96\n",
      "[400]\tvalid_0's ER: 90.63\n",
      "Early stopping, best iteration is:\n",
      "[324]\tvalid_0's ER: 90.52\n",
      "Evaluated only: ER\n"
     ]
    },
    {
     "name": "stderr",
     "output_type": "stream",
     "text": [
      "[I 2023-12-21 17:11:03,699] Trial 4 finished with value: 90.52 and parameters: {'lambda_l1': 15.435172068249848, 'lambda_l2': 966.9060798523157, 'learning_rate': 0.18278955302502564, 'num_leaves': 183, 'feature_fraction': 0.32672890771725815, 'min_data_in_leaf': 1384}. Best is trial 4 with value: 90.52.\n"
     ]
    },
    {
     "name": "stdout",
     "output_type": "stream",
     "text": [
      "**************** tweedie ****************\n",
      "Training until validation scores don't improve for 67 rounds\n",
      "[100]\tvalid_0's ER: 97.45\n",
      "[200]\tvalid_0's ER: 96.2\n",
      "[300]\tvalid_0's ER: 95.46\n",
      "[400]\tvalid_0's ER: 95.23\n",
      "[500]\tvalid_0's ER: 95.18\n",
      "[600]\tvalid_0's ER: 95.14\n"
     ]
    },
    {
     "name": "stderr",
     "output_type": "stream",
     "text": [
      "[I 2023-12-21 17:11:13,899] Trial 5 finished with value: 95.13 and parameters: {'lambda_l1': 35.45525072452227, 'lambda_l2': 758.1162799058765, 'learning_rate': 0.2818425882013581, 'num_leaves': 830, 'feature_fraction': 0.32677367762512666, 'min_data_in_leaf': 6007}. Best is trial 4 with value: 90.52.\n"
     ]
    },
    {
     "name": "stdout",
     "output_type": "stream",
     "text": [
      "Early stopping, best iteration is:\n",
      "[615]\tvalid_0's ER: 95.13\n",
      "Evaluated only: ER\n",
      "**************** tweedie ****************\n",
      "Training until validation scores don't improve for 68 rounds\n"
     ]
    },
    {
     "name": "stderr",
     "output_type": "stream",
     "text": [
      "[I 2023-12-21 17:11:16,723] Trial 6 finished with value: 128.52 and parameters: {'lambda_l1': 980.7695109305905, 'lambda_l2': 957.8481575956982, 'learning_rate': 0.27484030595676384, 'num_leaves': 629, 'feature_fraction': 0.6434881311347518, 'min_data_in_leaf': 1273}. Best is trial 4 with value: 90.52.\n"
     ]
    },
    {
     "name": "stdout",
     "output_type": "stream",
     "text": [
      "Early stopping, best iteration is:\n",
      "[24]\tvalid_0's ER: 128.52\n",
      "Evaluated only: ER\n",
      "**************** tweedie ****************\n",
      "Training until validation scores don't improve for 68 rounds\n"
     ]
    },
    {
     "name": "stderr",
     "output_type": "stream",
     "text": [
      "[I 2023-12-21 17:11:19,502] Trial 7 finished with value: 114.06 and parameters: {'lambda_l1': 490.21163538963054, 'lambda_l2': 184.7607054252407, 'learning_rate': 0.2723836940231282, 'num_leaves': 272, 'feature_fraction': 0.687667150709407, 'min_data_in_leaf': 3578}. Best is trial 4 with value: 90.52.\n"
     ]
    },
    {
     "name": "stdout",
     "output_type": "stream",
     "text": [
      "Early stopping, best iteration is:\n",
      "[26]\tvalid_0's ER: 114.06\n",
      "Evaluated only: ER\n",
      "**************** tweedie ****************\n",
      "Training until validation scores don't improve for 91 rounds\n",
      "[100]\tvalid_0's ER: 114.92\n"
     ]
    },
    {
     "name": "stderr",
     "output_type": "stream",
     "text": [
      "[I 2023-12-21 17:11:23,131] Trial 8 finished with value: 114.78 and parameters: {'lambda_l1': 513.3054077652341, 'lambda_l2': 414.7564123920485, 'learning_rate': 0.12060104709563776, 'num_leaves': 690, 'feature_fraction': 0.4995703605115817, 'min_data_in_leaf': 4899}. Best is trial 4 with value: 90.52.\n"
     ]
    },
    {
     "name": "stdout",
     "output_type": "stream",
     "text": [
      "Early stopping, best iteration is:\n",
      "[76]\tvalid_0's ER: 114.78\n",
      "Evaluated only: ER\n",
      "**************** tweedie ****************\n",
      "Training until validation scores don't improve for 68 rounds\n"
     ]
    },
    {
     "name": "stderr",
     "output_type": "stream",
     "text": [
      "[I 2023-12-21 17:11:25,216] Trial 9 finished with value: 120.45 and parameters: {'lambda_l1': 732.7058936192144, 'lambda_l2': 98.94385868656485, 'learning_rate': 0.266781258790677, 'num_leaves': 631, 'feature_fraction': 0.24381249776026703, 'min_data_in_leaf': 1131}. Best is trial 4 with value: 90.52.\n"
     ]
    },
    {
     "name": "stdout",
     "output_type": "stream",
     "text": [
      "Early stopping, best iteration is:\n",
      "[16]\tvalid_0's ER: 120.45\n",
      "Evaluated only: ER\n",
      "# Experimentos: 10\n",
      "Mejor experimento: {'lambda_l1': 15.435172068249848, 'lambda_l2': 966.9060798523157, 'learning_rate': 0.18278955302502564, 'num_leaves': 183, 'feature_fraction': 0.32672890771725815, 'min_data_in_leaf': 1384}\n",
      "=========================================== Cluster 60 ===========================================\n"
     ]
    },
    {
     "name": "stderr",
     "output_type": "stream",
     "text": [
      "[I 2023-12-21 17:11:29,735] A new study created in memory with name: no-name-aad1e947-0a32-4d19-bfc8-ce03922b58b4\n"
     ]
    },
    {
     "name": "stdout",
     "output_type": "stream",
     "text": [
      "Periodos entrenar: [201701 201702 201703 201704 201705 201706 201707 201708 201709 201710\n",
      " 201711 201712 201801 201802 201803 201804 201805 201806 201807 201808\n",
      " 201809 201810 201811 201812 201901 201902 201903 201904 201905]\n",
      "Periodos validar: [201907]\n",
      "product_id a validar: 6380\n",
      "X_train: (148105, 120)\n",
      "y_train: (148105,)\n",
      "\n",
      "X_validate: (6380, 120)\n",
      "y_validate: (6380,)\n",
      "Optimizacion Bayesiana\n",
      "**************** tweedie ****************\n",
      "Training until validation scores don't improve for 67 rounds\n",
      "[100]\tvalid_0's ER: 94.12\n"
     ]
    },
    {
     "name": "stderr",
     "output_type": "stream",
     "text": [
      "[I 2023-12-21 17:11:33,506] Trial 0 finished with value: 93.98 and parameters: {'lambda_l1': 92.65780116929012, 'lambda_l2': 789.8601503202651, 'learning_rate': 0.2898907555502782, 'num_leaves': 522, 'feature_fraction': 0.6420783195294227, 'min_data_in_leaf': 5285}. Best is trial 0 with value: 93.98.\n"
     ]
    },
    {
     "name": "stdout",
     "output_type": "stream",
     "text": [
      "Early stopping, best iteration is:\n",
      "[94]\tvalid_0's ER: 93.98\n",
      "Evaluated only: ER\n",
      "**************** tweedie ****************\n",
      "Training until validation scores don't improve for 84 rounds\n",
      "[100]\tvalid_0's ER: 99.5\n"
     ]
    },
    {
     "name": "stderr",
     "output_type": "stream",
     "text": [
      "[I 2023-12-21 17:11:37,251] Trial 1 finished with value: 99.23 and parameters: {'lambda_l1': 185.79087863825927, 'lambda_l2': 565.8298000407798, 'learning_rate': 0.1455551139534317, 'num_leaves': 465, 'feature_fraction': 0.9380969323093165, 'min_data_in_leaf': 7762}. Best is trial 0 with value: 93.98.\n"
     ]
    },
    {
     "name": "stdout",
     "output_type": "stream",
     "text": [
      "Early stopping, best iteration is:\n",
      "[93]\tvalid_0's ER: 99.23\n",
      "Evaluated only: ER\n",
      "**************** tweedie ****************\n",
      "Training until validation scores don't improve for 156 rounds\n",
      "[100]\tvalid_0's ER: 116.87\n",
      "[200]\tvalid_0's ER: 105.82\n",
      "[300]\tvalid_0's ER: 104.86\n",
      "[400]\tvalid_0's ER: 104.87\n",
      "Early stopping, best iteration is:\n",
      "[287]\tvalid_0's ER: 104.82\n",
      "Evaluated only: ER\n"
     ]
    },
    {
     "name": "stderr",
     "output_type": "stream",
     "text": [
      "[I 2023-12-21 17:11:49,855] Trial 2 finished with value: 104.82 and parameters: {'lambda_l1': 458.5300919373817, 'lambda_l2': 919.7646645103196, 'learning_rate': 0.04680468366054872, 'num_leaves': 799, 'feature_fraction': 0.7194153855194556, 'min_data_in_leaf': 651}. Best is trial 0 with value: 93.98.\n"
     ]
    },
    {
     "name": "stdout",
     "output_type": "stream",
     "text": [
      "**************** tweedie ****************\n",
      "Training until validation scores don't improve for 85 rounds\n",
      "[100]\tvalid_0's ER: 115.06\n"
     ]
    },
    {
     "name": "stderr",
     "output_type": "stream",
     "text": [
      "[I 2023-12-21 17:11:52,409] Trial 3 finished with value: 114.8 and parameters: {'lambda_l1': 587.9971206663079, 'lambda_l2': 544.4267965364298, 'learning_rate': 0.14150153690078635, 'num_leaves': 477, 'feature_fraction': 0.2890795697775018, 'min_data_in_leaf': 3489}. Best is trial 0 with value: 93.98.\n"
     ]
    },
    {
     "name": "stdout",
     "output_type": "stream",
     "text": [
      "Early stopping, best iteration is:\n",
      "[71]\tvalid_0's ER: 114.76\n",
      "Evaluated only: ER\n",
      "**************** tweedie ****************\n",
      "Training until validation scores don't improve for 72 rounds\n",
      "[100]\tvalid_0's ER: 107.09\n"
     ]
    },
    {
     "name": "stderr",
     "output_type": "stream",
     "text": [
      "[I 2023-12-21 17:11:54,799] Trial 4 finished with value: 107.3 and parameters: {'lambda_l1': 373.4378095602462, 'lambda_l2': 355.23350394851195, 'learning_rate': 0.2258804711181373, 'num_leaves': 234, 'feature_fraction': 0.22313812031172403, 'min_data_in_leaf': 6584}. Best is trial 0 with value: 93.98.\n"
     ]
    },
    {
     "name": "stdout",
     "output_type": "stream",
     "text": [
      "Early stopping, best iteration is:\n",
      "[91]\tvalid_0's ER: 107.03\n",
      "Evaluated only: ER\n",
      "**************** tweedie ****************\n",
      "Training until validation scores don't improve for 72 rounds\n"
     ]
    },
    {
     "name": "stderr",
     "output_type": "stream",
     "text": [
      "[I 2023-12-21 17:11:57,312] Trial 5 finished with value: 115.65 and parameters: {'lambda_l1': 631.2108516982263, 'lambda_l2': 539.0418287597668, 'learning_rate': 0.21853264729586167, 'num_leaves': 36, 'feature_fraction': 0.6902356232909561, 'min_data_in_leaf': 2564}. Best is trial 0 with value: 93.98.\n"
     ]
    },
    {
     "name": "stdout",
     "output_type": "stream",
     "text": [
      "[100]\tvalid_0's ER: 115.81\n",
      "Early stopping, best iteration is:\n",
      "[35]\tvalid_0's ER: 115.65\n",
      "Evaluated only: ER\n",
      "**************** tweedie ****************\n",
      "Training until validation scores don't improve for 67 rounds\n"
     ]
    },
    {
     "name": "stderr",
     "output_type": "stream",
     "text": [
      "[I 2023-12-21 17:11:59,608] Trial 6 finished with value: 122.64 and parameters: {'lambda_l1': 810.3319788192988, 'lambda_l2': 409.9250539407444, 'learning_rate': 0.282572890393744, 'num_leaves': 846, 'feature_fraction': 0.49491962847594073, 'min_data_in_leaf': 154}. Best is trial 0 with value: 93.98.\n"
     ]
    },
    {
     "name": "stdout",
     "output_type": "stream",
     "text": [
      "Early stopping, best iteration is:\n",
      "[20]\tvalid_0's ER: 122.64\n",
      "Evaluated only: ER\n",
      "**************** tweedie ****************\n",
      "Training until validation scores don't improve for 83 rounds\n",
      "[100]\tvalid_0's ER: 100.15\n",
      "[200]\tvalid_0's ER: 99.91\n"
     ]
    },
    {
     "name": "stderr",
     "output_type": "stream",
     "text": [
      "[I 2023-12-21 17:12:03,621] Trial 7 finished with value: 99.9 and parameters: {'lambda_l1': 175.23402531800303, 'lambda_l2': 960.2123302511413, 'learning_rate': 0.15109716147905378, 'num_leaves': 130, 'feature_fraction': 0.4203790530889666, 'min_data_in_leaf': 4656}. Best is trial 0 with value: 93.98.\n"
     ]
    },
    {
     "name": "stdout",
     "output_type": "stream",
     "text": [
      "Early stopping, best iteration is:\n",
      "[163]\tvalid_0's ER: 99.43\n",
      "Evaluated only: ER\n",
      "**************** tweedie ****************\n",
      "Training until validation scores don't improve for 106 rounds\n",
      "[100]\tvalid_0's ER: 104.31\n",
      "[200]\tvalid_0's ER: 104\n"
     ]
    },
    {
     "name": "stderr",
     "output_type": "stream",
     "text": [
      "[I 2023-12-21 17:12:07,620] Trial 8 finished with value: 103.82 and parameters: {'lambda_l1': 301.0662052243893, 'lambda_l2': 280.113245185161, 'learning_rate': 0.08849943915436853, 'num_leaves': 1009, 'feature_fraction': 0.5123396576578957, 'min_data_in_leaf': 5305}. Best is trial 0 with value: 93.98.\n"
     ]
    },
    {
     "name": "stdout",
     "output_type": "stream",
     "text": [
      "Early stopping, best iteration is:\n",
      "[114]\tvalid_0's ER: 103.82\n",
      "Evaluated only: ER\n",
      "**************** tweedie ****************\n",
      "Training until validation scores don't improve for 77 rounds\n"
     ]
    },
    {
     "name": "stderr",
     "output_type": "stream",
     "text": [
      "[I 2023-12-21 17:12:10,647] Trial 9 finished with value: 100.83 and parameters: {'lambda_l1': 343.43606045270093, 'lambda_l2': 88.87012178615016, 'learning_rate': 0.1823528760599519, 'num_leaves': 430, 'feature_fraction': 0.7863953450302155, 'min_data_in_leaf': 1181}. Best is trial 0 with value: 93.98.\n"
     ]
    },
    {
     "name": "stdout",
     "output_type": "stream",
     "text": [
      "[100]\tvalid_0's ER: 101.5\n",
      "Early stopping, best iteration is:\n",
      "[36]\tvalid_0's ER: 100.83\n",
      "Evaluated only: ER\n",
      "# Experimentos: 10\n",
      "Mejor experimento: {'lambda_l1': 92.65780116929012, 'lambda_l2': 789.8601503202651, 'learning_rate': 0.2898907555502782, 'num_leaves': 522, 'feature_fraction': 0.6420783195294227, 'min_data_in_leaf': 5285}\n",
      "=========================================== Cluster 61 ===========================================\n"
     ]
    },
    {
     "name": "stderr",
     "output_type": "stream",
     "text": [
      "[I 2023-12-21 17:12:10,950] A new study created in memory with name: no-name-0000a337-3875-4c8b-add0-33caeb1e2bd8\n",
      "[I 2023-12-21 17:12:11,130] Trial 0 finished with value: 135.45 and parameters: {'lambda_l1': 630.959494982108, 'lambda_l2': 783.0335699879018, 'learning_rate': 0.05137769468594514, 'num_leaves': 686, 'feature_fraction': 0.8360700998370734, 'min_data_in_leaf': 1385}. Best is trial 0 with value: 135.45.\n"
     ]
    },
    {
     "name": "stdout",
     "output_type": "stream",
     "text": [
      "Periodos entrenar: [201810 201811 201812 201901 201902 201903 201904 201905]\n",
      "Periodos validar: [201907]\n",
      "product_id a validar: 580\n",
      "X_train: (4496, 120)\n",
      "y_train: (4496,)\n",
      "\n",
      "X_validate: (580, 120)\n",
      "y_validate: (580,)\n",
      "Optimizacion Bayesiana\n",
      "**************** tweedie ****************\n",
      "Training until validation scores don't improve for 147 rounds\n",
      "[100]\tvalid_0's ER: 100.35\n",
      "Early stopping, best iteration is:\n",
      "[1]\tvalid_0's ER: 100.35\n",
      "Evaluated only: ER\n",
      "**************** tweedie ****************\n"
     ]
    },
    {
     "name": "stderr",
     "output_type": "stream",
     "text": [
      "[I 2023-12-21 17:12:11,265] Trial 1 finished with value: 135.45 and parameters: {'lambda_l1': 696.6557079746385, 'lambda_l2': 80.1436580287791, 'learning_rate': 0.09283675943333443, 'num_leaves': 717, 'feature_fraction': 0.497266662536833, 'min_data_in_leaf': 7849}. Best is trial 0 with value: 135.45.\n",
      "[I 2023-12-21 17:12:11,381] Trial 2 finished with value: 135.45 and parameters: {'lambda_l1': 407.32792989967805, 'lambda_l2': 15.93474829505337, 'learning_rate': 0.07546539626732812, 'num_leaves': 753, 'feature_fraction': 0.9345471552720828, 'min_data_in_leaf': 5561}. Best is trial 0 with value: 135.45.\n"
     ]
    },
    {
     "name": "stdout",
     "output_type": "stream",
     "text": [
      "Training until validation scores don't improve for 103 rounds\n",
      "[100]\tvalid_0's ER: 100.35\n",
      "Early stopping, best iteration is:\n",
      "[1]\tvalid_0's ER: 100.35\n",
      "Evaluated only: ER\n",
      "**************** tweedie ****************\n",
      "Training until validation scores don't improve for 116 rounds\n",
      "[100]\tvalid_0's ER: 100.35\n",
      "Early stopping, best iteration is:\n",
      "[1]\tvalid_0's ER: 100.35\n",
      "Evaluated only: ER\n",
      "**************** tweedie ****************\n"
     ]
    },
    {
     "name": "stderr",
     "output_type": "stream",
     "text": [
      "[I 2023-12-21 17:12:11,582] Trial 3 finished with value: 135.45 and parameters: {'lambda_l1': 534.4347185736261, 'lambda_l2': 100.99013716336269, 'learning_rate': 0.032852770548478516, 'num_leaves': 731, 'feature_fraction': 0.2313362542497245, 'min_data_in_leaf': 1765}. Best is trial 0 with value: 135.45.\n"
     ]
    },
    {
     "name": "stdout",
     "output_type": "stream",
     "text": [
      "Training until validation scores don't improve for 202 rounds\n",
      "[100]\tvalid_0's ER: 100.35\n",
      "[200]\tvalid_0's ER: 100.35\n",
      "Early stopping, best iteration is:\n",
      "[1]\tvalid_0's ER: 100.35\n",
      "Evaluated only: ER\n",
      "**************** tweedie ****************\n",
      "Training until validation scores don't improve for 68 rounds\n"
     ]
    },
    {
     "name": "stderr",
     "output_type": "stream",
     "text": [
      "[I 2023-12-21 17:12:11,694] Trial 4 finished with value: 135.45 and parameters: {'lambda_l1': 994.3781380309035, 'lambda_l2': 242.28133597395018, 'learning_rate': 0.26691425405223645, 'num_leaves': 487, 'feature_fraction': 0.5285867512021016, 'min_data_in_leaf': 6693}. Best is trial 0 with value: 135.45.\n",
      "[I 2023-12-21 17:12:11,804] Trial 5 finished with value: 135.45 and parameters: {'lambda_l1': 440.67381580178665, 'lambda_l2': 764.2838110074316, 'learning_rate': 0.1332293208573883, 'num_leaves': 928, 'feature_fraction': 0.6714430675740946, 'min_data_in_leaf': 7776}. Best is trial 0 with value: 135.45.\n"
     ]
    },
    {
     "name": "stdout",
     "output_type": "stream",
     "text": [
      "Early stopping, best iteration is:\n",
      "[1]\tvalid_0's ER: 100.35\n",
      "Evaluated only: ER\n",
      "**************** tweedie ****************\n",
      "Training until validation scores don't improve for 87 rounds\n",
      "Early stopping, best iteration is:\n",
      "[1]\tvalid_0's ER: 100.35\n",
      "Evaluated only: ER\n",
      "**************** tweedie ****************\n",
      "Training until validation scores don't improve for 88 rounds\n"
     ]
    },
    {
     "name": "stderr",
     "output_type": "stream",
     "text": [
      "[I 2023-12-21 17:12:11,920] Trial 6 finished with value: 135.45 and parameters: {'lambda_l1': 738.840322256922, 'lambda_l2': 361.3917538576524, 'learning_rate': 0.1299058596561472, 'num_leaves': 991, 'feature_fraction': 0.7629105978324426, 'min_data_in_leaf': 5178}. Best is trial 0 with value: 135.45.\n",
      "[I 2023-12-21 17:12:12,039] Trial 7 finished with value: 135.45 and parameters: {'lambda_l1': 459.7582880599189, 'lambda_l2': 403.3619956034182, 'learning_rate': 0.08852482890180552, 'num_leaves': 240, 'feature_fraction': 0.20017795791962112, 'min_data_in_leaf': 3380}. Best is trial 0 with value: 135.45.\n"
     ]
    },
    {
     "name": "stdout",
     "output_type": "stream",
     "text": [
      "Early stopping, best iteration is:\n",
      "[1]\tvalid_0's ER: 100.35\n",
      "Evaluated only: ER\n",
      "**************** tweedie ****************\n",
      "Training until validation scores don't improve for 106 rounds\n",
      "[100]\tvalid_0's ER: 100.35\n",
      "Early stopping, best iteration is:\n",
      "[1]\tvalid_0's ER: 100.35\n",
      "Evaluated only: ER\n",
      "**************** tweedie ****************\n",
      "Training until validation scores don't improve for 178 rounds\n"
     ]
    },
    {
     "name": "stderr",
     "output_type": "stream",
     "text": [
      "[I 2023-12-21 17:12:12,180] Trial 8 finished with value: 135.45 and parameters: {'lambda_l1': 915.3956510383048, 'lambda_l2': 45.80865564624415, 'learning_rate': 0.03898922648314864, 'num_leaves': 322, 'feature_fraction': 0.8217063630005164, 'min_data_in_leaf': 4029}. Best is trial 0 with value: 135.45.\n",
      "[I 2023-12-21 17:12:12,290] Trial 9 finished with value: 135.45 and parameters: {'lambda_l1': 64.34841929147139, 'lambda_l2': 521.762786929692, 'learning_rate': 0.2738470850019752, 'num_leaves': 508, 'feature_fraction': 0.5009818559884929, 'min_data_in_leaf': 6461}. Best is trial 0 with value: 135.45.\n"
     ]
    },
    {
     "name": "stdout",
     "output_type": "stream",
     "text": [
      "[100]\tvalid_0's ER: 100.35\n",
      "Early stopping, best iteration is:\n",
      "[1]\tvalid_0's ER: 100.35\n",
      "Evaluated only: ER\n",
      "**************** tweedie ****************\n",
      "Training until validation scores don't improve for 68 rounds\n",
      "Early stopping, best iteration is:\n",
      "[1]\tvalid_0's ER: 100.35\n",
      "Evaluated only: ER\n",
      "# Experimentos: 10\n",
      "Mejor experimento: {'lambda_l1': 630.959494982108, 'lambda_l2': 783.0335699879018, 'learning_rate': 0.05137769468594514, 'num_leaves': 686, 'feature_fraction': 0.8360700998370734, 'min_data_in_leaf': 1385}\n",
      "=========================================== Cluster 62 ===========================================\n"
     ]
    },
    {
     "name": "stderr",
     "output_type": "stream",
     "text": [
      "[I 2023-12-21 17:12:17,666] A new study created in memory with name: no-name-5fdac953-7999-4bd4-a106-fd0a7d1ca568\n"
     ]
    },
    {
     "name": "stdout",
     "output_type": "stream",
     "text": [
      "Periodos entrenar: [201701 201702 201703 201704 201705 201706 201707 201708 201709 201710\n",
      " 201711 201712 201801 201802 201803 201804 201805 201806 201807 201808\n",
      " 201809 201810 201811 201812 201901 201902 201903 201904 201905]\n",
      "Periodos validar: [201907]\n",
      "product_id a validar: 7540\n",
      "X_train: (173681, 120)\n",
      "y_train: (173681,)\n",
      "\n",
      "X_validate: (7540, 120)\n",
      "y_validate: (7540,)\n",
      "Optimizacion Bayesiana\n",
      "**************** tweedie ****************\n",
      "Training until validation scores don't improve for 67 rounds\n"
     ]
    },
    {
     "name": "stderr",
     "output_type": "stream",
     "text": [
      "[I 2023-12-21 17:12:20,428] Trial 0 finished with value: 147.49 and parameters: {'lambda_l1': 504.6868753346492, 'lambda_l2': 147.78539197429797, 'learning_rate': 0.28072480708263603, 'num_leaves': 682, 'feature_fraction': 0.7030907659118879, 'min_data_in_leaf': 2752}. Best is trial 0 with value: 147.49.\n"
     ]
    },
    {
     "name": "stdout",
     "output_type": "stream",
     "text": [
      "Early stopping, best iteration is:\n",
      "[22]\tvalid_0's ER: 147.49\n",
      "Evaluated only: ER\n",
      "**************** tweedie ****************\n",
      "Training until validation scores don't improve for 174 rounds\n",
      "[100]\tvalid_0's ER: 148.52\n",
      "[200]\tvalid_0's ER: 151.27\n"
     ]
    },
    {
     "name": "stderr",
     "output_type": "stream",
     "text": [
      "[I 2023-12-21 17:12:26,915] Trial 1 finished with value: 147.13 and parameters: {'lambda_l1': 126.04474647182762, 'lambda_l2': 186.51240544441018, 'learning_rate': 0.04027674039581387, 'num_leaves': 727, 'feature_fraction': 0.3771907346402051, 'min_data_in_leaf': 1698}. Best is trial 1 with value: 147.13.\n"
     ]
    },
    {
     "name": "stdout",
     "output_type": "stream",
     "text": [
      "Early stopping, best iteration is:\n",
      "[81]\tvalid_0's ER: 147.13\n",
      "Evaluated only: ER\n",
      "**************** tweedie ****************\n",
      "Training until validation scores don't improve for 296 rounds\n",
      "[100]\tvalid_0's ER: 162.79\n",
      "[200]\tvalid_0's ER: 152.4\n",
      "[300]\tvalid_0's ER: 154.03\n",
      "[400]\tvalid_0's ER: 154.36\n"
     ]
    },
    {
     "name": "stderr",
     "output_type": "stream",
     "text": [
      "[I 2023-12-21 17:12:37,363] Trial 2 finished with value: 152.28 and parameters: {'lambda_l1': 401.86907898491273, 'lambda_l2': 962.2786988998125, 'learning_rate': 0.02032215371705011, 'num_leaves': 745, 'feature_fraction': 0.5150553209469255, 'min_data_in_leaf': 7757}. Best is trial 1 with value: 147.13.\n"
     ]
    },
    {
     "name": "stdout",
     "output_type": "stream",
     "text": [
      "Early stopping, best iteration is:\n",
      "[195]\tvalid_0's ER: 152.28\n",
      "Evaluated only: ER\n",
      "**************** tweedie ****************\n",
      "Training until validation scores don't improve for 382 rounds\n",
      "[100]\tvalid_0's ER: 169.72\n",
      "[200]\tvalid_0's ER: 152.37\n",
      "[300]\tvalid_0's ER: 150.22\n",
      "[400]\tvalid_0's ER: 150.64\n",
      "[500]\tvalid_0's ER: 152.02\n",
      "[600]\tvalid_0's ER: 153.11\n",
      "[700]\tvalid_0's ER: 154.24\n"
     ]
    },
    {
     "name": "stderr",
     "output_type": "stream",
     "text": [
      "[I 2023-12-21 17:12:56,334] Trial 3 finished with value: 149.87 and parameters: {'lambda_l1': 90.33545810925858, 'lambda_l2': 987.9415006208643, 'learning_rate': 0.015018457898296637, 'num_leaves': 400, 'feature_fraction': 0.6013037697908026, 'min_data_in_leaf': 4285}. Best is trial 1 with value: 147.13.\n"
     ]
    },
    {
     "name": "stdout",
     "output_type": "stream",
     "text": [
      "Early stopping, best iteration is:\n",
      "[334]\tvalid_0's ER: 149.87\n",
      "Evaluated only: ER\n",
      "**************** tweedie ****************\n",
      "Training until validation scores don't improve for 463 rounds\n",
      "[100]\tvalid_0's ER: 181.38\n",
      "[200]\tvalid_0's ER: 155.54\n",
      "[300]\tvalid_0's ER: 151.44\n",
      "[400]\tvalid_0's ER: 151.53\n",
      "[500]\tvalid_0's ER: 152.69\n",
      "[600]\tvalid_0's ER: 153.94\n",
      "[700]\tvalid_0's ER: 154.85\n"
     ]
    },
    {
     "name": "stderr",
     "output_type": "stream",
     "text": [
      "[I 2023-12-21 17:13:07,085] Trial 4 finished with value: 151.21 and parameters: {'lambda_l1': 145.49743699489326, 'lambda_l2': 889.4287435370494, 'learning_rate': 0.012079311910284923, 'num_leaves': 713, 'feature_fraction': 0.24609423073789874, 'min_data_in_leaf': 7843}. Best is trial 1 with value: 147.13.\n"
     ]
    },
    {
     "name": "stdout",
     "output_type": "stream",
     "text": [
      "Early stopping, best iteration is:\n",
      "[311]\tvalid_0's ER: 151.21\n",
      "Evaluated only: ER\n",
      "**************** tweedie ****************\n",
      "Training until validation scores don't improve for 85 rounds\n",
      "[100]\tvalid_0's ER: 152.66\n"
     ]
    },
    {
     "name": "stderr",
     "output_type": "stream",
     "text": [
      "[I 2023-12-21 17:13:10,517] Trial 5 finished with value: 151.08 and parameters: {'lambda_l1': 944.0676788583875, 'lambda_l2': 469.2412470685524, 'learning_rate': 0.14008762895251878, 'num_leaves': 314, 'feature_fraction': 0.9684215601907964, 'min_data_in_leaf': 4184}. Best is trial 1 with value: 147.13.\n"
     ]
    },
    {
     "name": "stdout",
     "output_type": "stream",
     "text": [
      "Early stopping, best iteration is:\n",
      "[31]\tvalid_0's ER: 151.08\n",
      "Evaluated only: ER\n",
      "**************** tweedie ****************\n",
      "Training until validation scores don't improve for 159 rounds\n",
      "[100]\tvalid_0's ER: 151.2\n",
      "[200]\tvalid_0's ER: 152.05\n"
     ]
    },
    {
     "name": "stderr",
     "output_type": "stream",
     "text": [
      "[I 2023-12-21 17:13:15,871] Trial 6 finished with value: 150.37 and parameters: {'lambda_l1': 716.8095859961655, 'lambda_l2': 870.6543550733514, 'learning_rate': 0.04566493116584047, 'num_leaves': 1023, 'feature_fraction': 0.48692780607643266, 'min_data_in_leaf': 5530}. Best is trial 1 with value: 147.13.\n"
     ]
    },
    {
     "name": "stdout",
     "output_type": "stream",
     "text": [
      "Early stopping, best iteration is:\n",
      "[106]\tvalid_0's ER: 150.37\n",
      "Evaluated only: ER\n",
      "**************** tweedie ****************\n",
      "Training until validation scores don't improve for 77 rounds\n"
     ]
    },
    {
     "name": "stderr",
     "output_type": "stream",
     "text": [
      "[I 2023-12-21 17:13:18,662] Trial 7 finished with value: 154.76 and parameters: {'lambda_l1': 644.444658107478, 'lambda_l2': 40.46633747099149, 'learning_rate': 0.1814644637803316, 'num_leaves': 317, 'feature_fraction': 0.8175535249535739, 'min_data_in_leaf': 6602}. Best is trial 1 with value: 147.13.\n"
     ]
    },
    {
     "name": "stdout",
     "output_type": "stream",
     "text": [
      "Early stopping, best iteration is:\n",
      "[18]\tvalid_0's ER: 154.76\n",
      "Evaluated only: ER\n",
      "**************** tweedie ****************\n",
      "Training until validation scores don't improve for 88 rounds\n",
      "[100]\tvalid_0's ER: 153.54\n"
     ]
    },
    {
     "name": "stderr",
     "output_type": "stream",
     "text": [
      "[I 2023-12-21 17:13:22,231] Trial 8 finished with value: 152.52 and parameters: {'lambda_l1': 924.5037031103828, 'lambda_l2': 931.4697594113792, 'learning_rate': 0.1308561422819431, 'num_leaves': 962, 'feature_fraction': 0.6984458664495308, 'min_data_in_leaf': 7938}. Best is trial 1 with value: 147.13.\n"
     ]
    },
    {
     "name": "stdout",
     "output_type": "stream",
     "text": [
      "Early stopping, best iteration is:\n",
      "[45]\tvalid_0's ER: 152.52\n",
      "Evaluated only: ER\n",
      "**************** tweedie ****************\n",
      "Training until validation scores don't improve for 84 rounds\n",
      "[100]\tvalid_0's ER: 151.59\n",
      "Early stopping, best iteration is:\n",
      "[28]\tvalid_0's ER: 147.88\n",
      "Evaluated only: ER\n"
     ]
    },
    {
     "name": "stderr",
     "output_type": "stream",
     "text": [
      "[I 2023-12-21 17:13:25,567] Trial 9 finished with value: 147.88 and parameters: {'lambda_l1': 852.7460400984453, 'lambda_l2': 917.5625983809553, 'learning_rate': 0.1453738815587208, 'num_leaves': 852, 'feature_fraction': 0.7644996103453572, 'min_data_in_leaf': 1958}. Best is trial 1 with value: 147.13.\n"
     ]
    },
    {
     "name": "stdout",
     "output_type": "stream",
     "text": [
      "# Experimentos: 10\n",
      "Mejor experimento: {'lambda_l1': 126.04474647182762, 'lambda_l2': 186.51240544441018, 'learning_rate': 0.04027674039581387, 'num_leaves': 727, 'feature_fraction': 0.3771907346402051, 'min_data_in_leaf': 1698}\n",
      "=========================================== Cluster 63 ===========================================\n",
      "Periodos entrenar: []\n",
      "Periodos validar: []\n",
      "product_id a validar: 0\n",
      "X_train: (0, 120)\n",
      "y_train: (0,)\n",
      "\n",
      "X_validate: (0, 120)\n",
      "y_validate: (0,)\n",
      "=========================================== Cluster 64 ===========================================\n",
      "Periodos entrenar: []\n",
      "Periodos validar: []\n",
      "product_id a validar: 0\n",
      "X_train: (0, 120)\n",
      "y_train: (0,)\n",
      "\n",
      "X_validate: (0, 120)\n",
      "y_validate: (0,)\n",
      "=========================================== Cluster 65 ===========================================\n"
     ]
    },
    {
     "name": "stderr",
     "output_type": "stream",
     "text": [
      "[I 2023-12-21 17:13:26,314] A new study created in memory with name: no-name-d0fd94f9-09fc-41f8-abe2-3bb321865845\n",
      "[I 2023-12-21 17:13:26,470] Trial 0 finished with value: 255.54 and parameters: {'lambda_l1': 642.0177436356706, 'lambda_l2': 792.0601664223533, 'learning_rate': 0.09445715198278053, 'num_leaves': 420, 'feature_fraction': 0.9128280367484132, 'min_data_in_leaf': 6323}. Best is trial 0 with value: 255.54.\n"
     ]
    },
    {
     "name": "stdout",
     "output_type": "stream",
     "text": [
      "Periodos entrenar: [201709 201710 201711 201712 201801 201802 201803 201804 201805 201806\n",
      " 201807 201808 201809 201810 201811 201812 201901 201902 201903 201904\n",
      " 201905]\n",
      "Periodos validar: [201907]\n",
      "product_id a validar: 580\n",
      "X_train: (11456, 120)\n",
      "y_train: (11456,)\n",
      "\n",
      "X_validate: (580, 120)\n",
      "y_validate: (580,)\n",
      "Optimizacion Bayesiana\n",
      "**************** tweedie ****************\n",
      "Training until validation scores don't improve for 102 rounds\n",
      "[100]\tvalid_0's ER: 101\n",
      "Early stopping, best iteration is:\n",
      "[1]\tvalid_0's ER: 101\n",
      "Evaluated only: ER\n",
      "**************** tweedie ****************\n",
      "Training until validation scores don't improve for 159 rounds\n",
      "[100]\tvalid_0's ER: 195.05\n",
      "[200]\tvalid_0's ER: 182.54\n",
      "[300]\tvalid_0's ER: 178.9\n",
      "[400]\tvalid_0's ER: 176.78\n",
      "[500]\tvalid_0's ER: 175.51\n",
      "[600]\tvalid_0's ER: 174.87\n",
      "[700]\tvalid_0's ER: 174.39\n",
      "[800]\tvalid_0's ER: 174.19\n",
      "[900]\tvalid_0's ER: 174.12\n",
      "[1000]\tvalid_0's ER: 174.12\n",
      "Early stopping, best iteration is:\n",
      "[845]\tvalid_0's ER: 174.12\n",
      "Evaluated only: ER\n"
     ]
    },
    {
     "name": "stderr",
     "output_type": "stream",
     "text": [
      "[I 2023-12-21 17:13:27,551] Trial 1 finished with value: 174.12 and parameters: {'lambda_l1': 359.014972653849, 'lambda_l2': 675.6974182004689, 'learning_rate': 0.045522865468923236, 'num_leaves': 246, 'feature_fraction': 0.30397134842542245, 'min_data_in_leaf': 2979}. Best is trial 1 with value: 174.12.\n",
      "[I 2023-12-21 17:13:27,752] Trial 2 finished with value: 255.54 and parameters: {'lambda_l1': 784.5134062592753, 'lambda_l2': 523.4589979333314, 'learning_rate': 0.1768648140047092, 'num_leaves': 829, 'feature_fraction': 0.9505159324194177, 'min_data_in_leaf': 4622}. Best is trial 1 with value: 174.12.\n"
     ]
    },
    {
     "name": "stdout",
     "output_type": "stream",
     "text": [
      "**************** tweedie ****************\n",
      "Training until validation scores don't improve for 78 rounds\n",
      "Early stopping, best iteration is:\n",
      "[1]\tvalid_0's ER: 101\n",
      "Evaluated only: ER\n",
      "**************** tweedie ****************\n",
      "Training until validation scores don't improve for 407 rounds\n",
      "[100]\tvalid_0's ER: 101\n",
      "[200]\tvalid_0's ER: 101\n"
     ]
    },
    {
     "name": "stderr",
     "output_type": "stream",
     "text": [
      "[I 2023-12-21 17:13:28,351] Trial 3 finished with value: 255.54 and parameters: {'lambda_l1': 760.7403757187399, 'lambda_l2': 765.0834868169652, 'learning_rate': 0.01398863327356216, 'num_leaves': 617, 'feature_fraction': 0.9641222374685203, 'min_data_in_leaf': 290}. Best is trial 1 with value: 174.12.\n"
     ]
    },
    {
     "name": "stdout",
     "output_type": "stream",
     "text": [
      "[300]\tvalid_0's ER: 101\n",
      "[400]\tvalid_0's ER: 101\n",
      "Early stopping, best iteration is:\n",
      "[1]\tvalid_0's ER: 101\n",
      "Evaluated only: ER\n",
      "**************** tweedie ****************\n",
      "Training until validation scores don't improve for 125 rounds\n",
      "[100]\tvalid_0's ER: 144.77\n",
      "[200]\tvalid_0's ER: 135.15\n",
      "[300]\tvalid_0's ER: 132.84\n"
     ]
    },
    {
     "name": "stderr",
     "output_type": "stream",
     "text": [
      "[I 2023-12-21 17:13:28,967] Trial 4 finished with value: 132.24 and parameters: {'lambda_l1': 8.395186000992316, 'lambda_l2': 662.0658265382293, 'learning_rate': 0.06579676600064539, 'num_leaves': 421, 'feature_fraction': 0.6081154516643547, 'min_data_in_leaf': 4990}. Best is trial 4 with value: 132.24.\n"
     ]
    },
    {
     "name": "stdout",
     "output_type": "stream",
     "text": [
      "[400]\tvalid_0's ER: 134.65\n",
      "Early stopping, best iteration is:\n",
      "[279]\tvalid_0's ER: 132.24\n",
      "Evaluated only: ER\n",
      "**************** tweedie ****************\n",
      "Training until validation scores don't improve for 70 rounds\n"
     ]
    },
    {
     "name": "stderr",
     "output_type": "stream",
     "text": [
      "[I 2023-12-21 17:13:29,224] Trial 5 finished with value: 162.18 and parameters: {'lambda_l1': 307.74820961880056, 'lambda_l2': 114.69040923643858, 'learning_rate': 0.23947965673185706, 'num_leaves': 605, 'feature_fraction': 0.28181090187155244, 'min_data_in_leaf': 3274}. Best is trial 4 with value: 132.24.\n"
     ]
    },
    {
     "name": "stdout",
     "output_type": "stream",
     "text": [
      "[100]\tvalid_0's ER: 162.18\n",
      "Early stopping, best iteration is:\n",
      "[90]\tvalid_0's ER: 162.18\n",
      "Evaluated only: ER\n",
      "**************** tweedie ****************\n",
      "Training until validation scores don't improve for 74 rounds\n",
      "[100]\tvalid_0's ER: 182.75\n",
      "[200]\tvalid_0's ER: 181.73\n"
     ]
    },
    {
     "name": "stderr",
     "output_type": "stream",
     "text": [
      "[I 2023-12-21 17:13:29,719] Trial 6 finished with value: 181.6 and parameters: {'lambda_l1': 384.40729119474304, 'lambda_l2': 953.7179017730359, 'learning_rate': 0.20005044949079218, 'num_leaves': 415, 'feature_fraction': 0.46536387538101276, 'min_data_in_leaf': 3113}. Best is trial 4 with value: 132.24.\n"
     ]
    },
    {
     "name": "stdout",
     "output_type": "stream",
     "text": [
      "[300]\tvalid_0's ER: 181.6\n",
      "Early stopping, best iteration is:\n",
      "[250]\tvalid_0's ER: 181.6\n",
      "Evaluated only: ER\n",
      "**************** tweedie ****************\n",
      "Training until validation scores don't improve for 479 rounds\n",
      "[100]\tvalid_0's ER: 101\n",
      "[200]\tvalid_0's ER: 101\n",
      "[300]\tvalid_0's ER: 101\n",
      "[400]\tvalid_0's ER: 101\n"
     ]
    },
    {
     "name": "stderr",
     "output_type": "stream",
     "text": [
      "[I 2023-12-21 17:13:30,368] Trial 7 finished with value: 255.54 and parameters: {'lambda_l1': 771.6244911005119, 'lambda_l2': 314.0518708161987, 'learning_rate': 0.01164596214281447, 'num_leaves': 30, 'feature_fraction': 0.7467560901164587, 'min_data_in_leaf': 3690}. Best is trial 4 with value: 132.24.\n",
      "[I 2023-12-21 17:13:30,533] Trial 8 finished with value: 255.54 and parameters: {'lambda_l1': 989.0309279009457, 'lambda_l2': 820.2985986206778, 'learning_rate': 0.1604134125953971, 'num_leaves': 480, 'feature_fraction': 0.485815556967348, 'min_data_in_leaf': 6785}. Best is trial 4 with value: 132.24.\n"
     ]
    },
    {
     "name": "stdout",
     "output_type": "stream",
     "text": [
      "Early stopping, best iteration is:\n",
      "[1]\tvalid_0's ER: 101\n",
      "Evaluated only: ER\n",
      "**************** tweedie ****************\n",
      "Training until validation scores don't improve for 81 rounds\n",
      "Early stopping, best iteration is:\n",
      "[1]\tvalid_0's ER: 101\n",
      "Evaluated only: ER\n",
      "**************** tweedie ****************\n"
     ]
    },
    {
     "name": "stderr",
     "output_type": "stream",
     "text": [
      "[I 2023-12-21 17:13:30,693] Trial 9 finished with value: 255.54 and parameters: {'lambda_l1': 395.0340857731588, 'lambda_l2': 182.96945116348496, 'learning_rate': 0.29597018381815826, 'num_leaves': 986, 'feature_fraction': 0.5688820007661342, 'min_data_in_leaf': 7149}. Best is trial 4 with value: 132.24.\n"
     ]
    },
    {
     "name": "stdout",
     "output_type": "stream",
     "text": [
      "Training until validation scores don't improve for 66 rounds\n",
      "Early stopping, best iteration is:\n",
      "[1]\tvalid_0's ER: 101\n",
      "Evaluated only: ER\n",
      "# Experimentos: 10\n",
      "Mejor experimento: {'lambda_l1': 8.395186000992316, 'lambda_l2': 662.0658265382293, 'learning_rate': 0.06579676600064539, 'num_leaves': 421, 'feature_fraction': 0.6081154516643547, 'min_data_in_leaf': 4990}\n",
      "=========================================== Cluster 66 ===========================================\n"
     ]
    },
    {
     "name": "stderr",
     "output_type": "stream",
     "text": [
      "[I 2023-12-21 17:13:33,888] A new study created in memory with name: no-name-8cb59be7-7c88-49d9-a0cd-11b1a1a23fe6\n"
     ]
    },
    {
     "name": "stdout",
     "output_type": "stream",
     "text": [
      "Periodos entrenar: [201701 201702 201703 201704 201705 201706 201707 201708 201709 201710\n",
      " 201711 201712 201801 201802 201803 201804 201805 201806 201807 201808\n",
      " 201809 201810 201811 201812 201901 201902 201903 201904 201905]\n",
      "Periodos validar: [201907]\n",
      "product_id a validar: 4060\n",
      "X_train: (108199, 120)\n",
      "y_train: (108199,)\n",
      "\n",
      "X_validate: (4060, 120)\n",
      "y_validate: (4060,)\n",
      "Optimizacion Bayesiana\n",
      "**************** tweedie ****************\n",
      "Training until validation scores don't improve for 341 rounds\n",
      "[100]\tvalid_0's ER: 146.33\n",
      "[200]\tvalid_0's ER: 128.52\n",
      "[300]\tvalid_0's ER: 124.94\n",
      "[400]\tvalid_0's ER: 123.32\n",
      "[500]\tvalid_0's ER: 123.15\n",
      "[600]\tvalid_0's ER: 123.52\n",
      "[700]\tvalid_0's ER: 123.47\n"
     ]
    },
    {
     "name": "stderr",
     "output_type": "stream",
     "text": [
      "[I 2023-12-21 17:13:51,819] Trial 0 finished with value: 122.91 and parameters: {'lambda_l1': 480.7065334359558, 'lambda_l2': 692.7099794889269, 'learning_rate': 0.017154972645230412, 'num_leaves': 207, 'feature_fraction': 0.6691644245296714, 'min_data_in_leaf': 386}. Best is trial 0 with value: 122.91.\n"
     ]
    },
    {
     "name": "stdout",
     "output_type": "stream",
     "text": [
      "Early stopping, best iteration is:\n",
      "[441]\tvalid_0's ER: 122.91\n",
      "Evaluated only: ER\n",
      "**************** tweedie ****************\n",
      "Training until validation scores don't improve for 67 rounds\n"
     ]
    },
    {
     "name": "stderr",
     "output_type": "stream",
     "text": [
      "[I 2023-12-21 17:13:53,182] Trial 1 finished with value: 135.99 and parameters: {'lambda_l1': 961.5573947847622, 'lambda_l2': 544.4617751305584, 'learning_rate': 0.28181676525250465, 'num_leaves': 668, 'feature_fraction': 0.31149008624096486, 'min_data_in_leaf': 7169}. Best is trial 0 with value: 122.91.\n"
     ]
    },
    {
     "name": "stdout",
     "output_type": "stream",
     "text": [
      "Early stopping, best iteration is:\n",
      "[25]\tvalid_0's ER: 135.99\n",
      "Evaluated only: ER\n",
      "**************** tweedie ****************\n",
      "Training until validation scores don't improve for 69 rounds\n"
     ]
    },
    {
     "name": "stderr",
     "output_type": "stream",
     "text": [
      "[I 2023-12-21 17:13:54,782] Trial 2 finished with value: 130.75 and parameters: {'lambda_l1': 861.8897735891974, 'lambda_l2': 6.3565263741214295, 'learning_rate': 0.2551903197909082, 'num_leaves': 815, 'feature_fraction': 0.6273191226883337, 'min_data_in_leaf': 2460}. Best is trial 0 with value: 122.91.\n"
     ]
    },
    {
     "name": "stdout",
     "output_type": "stream",
     "text": [
      "Early stopping, best iteration is:\n",
      "[12]\tvalid_0's ER: 130.75\n",
      "Evaluated only: ER\n",
      "**************** tweedie ****************\n",
      "Training until validation scores don't improve for 80 rounds\n",
      "[100]\tvalid_0's ER: 124.66\n"
     ]
    },
    {
     "name": "stderr",
     "output_type": "stream",
     "text": [
      "[I 2023-12-21 17:13:57,616] Trial 3 finished with value: 122.96 and parameters: {'lambda_l1': 424.31777510864845, 'lambda_l2': 969.4639995726417, 'learning_rate': 0.1658180627332654, 'num_leaves': 646, 'feature_fraction': 0.6019745237541995, 'min_data_in_leaf': 1034}. Best is trial 0 with value: 122.91.\n"
     ]
    },
    {
     "name": "stdout",
     "output_type": "stream",
     "text": [
      "Early stopping, best iteration is:\n",
      "[56]\tvalid_0's ER: 122.96\n",
      "Evaluated only: ER\n",
      "**************** tweedie ****************\n",
      "Training until validation scores don't improve for 67 rounds\n"
     ]
    },
    {
     "name": "stderr",
     "output_type": "stream",
     "text": [
      "[I 2023-12-21 17:13:59,490] Trial 4 finished with value: 136.89 and parameters: {'lambda_l1': 942.4888835404598, 'lambda_l2': 985.4646297513159, 'learning_rate': 0.29158715774024935, 'num_leaves': 574, 'feature_fraction': 0.7737461475116962, 'min_data_in_leaf': 6980}. Best is trial 0 with value: 122.91.\n"
     ]
    },
    {
     "name": "stdout",
     "output_type": "stream",
     "text": [
      "[100]\tvalid_0's ER: 136.89\n",
      "Early stopping, best iteration is:\n",
      "[51]\tvalid_0's ER: 136.89\n",
      "Evaluated only: ER\n",
      "**************** tweedie ****************\n",
      "Training until validation scores don't improve for 81 rounds\n",
      "[100]\tvalid_0's ER: 124.78\n"
     ]
    },
    {
     "name": "stderr",
     "output_type": "stream",
     "text": [
      "[I 2023-12-21 17:14:01,686] Trial 5 finished with value: 119.65 and parameters: {'lambda_l1': 106.02492365568938, 'lambda_l2': 912.8004427645723, 'learning_rate': 0.16008660841157432, 'num_leaves': 866, 'feature_fraction': 0.5196152995091935, 'min_data_in_leaf': 6238}. Best is trial 5 with value: 119.65.\n"
     ]
    },
    {
     "name": "stdout",
     "output_type": "stream",
     "text": [
      "Early stopping, best iteration is:\n",
      "[56]\tvalid_0's ER: 119.65\n",
      "Evaluated only: ER\n",
      "**************** tweedie ****************\n",
      "Training until validation scores don't improve for 66 rounds\n"
     ]
    },
    {
     "name": "stderr",
     "output_type": "stream",
     "text": [
      "[I 2023-12-21 17:14:03,436] Trial 6 finished with value: 130.39 and parameters: {'lambda_l1': 937.5500356342991, 'lambda_l2': 956.2584636582217, 'learning_rate': 0.2974144028876553, 'num_leaves': 187, 'feature_fraction': 0.8372001762612733, 'min_data_in_leaf': 1266}. Best is trial 5 with value: 119.65.\n"
     ]
    },
    {
     "name": "stdout",
     "output_type": "stream",
     "text": [
      "Early stopping, best iteration is:\n",
      "[19]\tvalid_0's ER: 130.39\n",
      "Evaluated only: ER\n",
      "**************** tweedie ****************\n",
      "Training until validation scores don't improve for 71 rounds\n"
     ]
    },
    {
     "name": "stderr",
     "output_type": "stream",
     "text": [
      "[I 2023-12-21 17:14:05,739] Trial 7 finished with value: 116.06 and parameters: {'lambda_l1': 20.11600701897209, 'lambda_l2': 471.0920825852438, 'learning_rate': 0.2319988955009605, 'num_leaves': 454, 'feature_fraction': 0.6578513333128614, 'min_data_in_leaf': 2780}. Best is trial 7 with value: 116.06.\n"
     ]
    },
    {
     "name": "stdout",
     "output_type": "stream",
     "text": [
      "Early stopping, best iteration is:\n",
      "[20]\tvalid_0's ER: 116.06\n",
      "Evaluated only: ER\n",
      "**************** tweedie ****************\n",
      "Training until validation scores don't improve for 71 rounds\n"
     ]
    },
    {
     "name": "stderr",
     "output_type": "stream",
     "text": [
      "[I 2023-12-21 17:14:07,280] Trial 8 finished with value: 126.3 and parameters: {'lambda_l1': 682.3380879160135, 'lambda_l2': 363.5668382357721, 'learning_rate': 0.23772506058047885, 'num_leaves': 603, 'feature_fraction': 0.3955385325869489, 'min_data_in_leaf': 164}. Best is trial 7 with value: 116.06.\n"
     ]
    },
    {
     "name": "stdout",
     "output_type": "stream",
     "text": [
      "Early stopping, best iteration is:\n",
      "[22]\tvalid_0's ER: 126.3\n",
      "Evaluated only: ER\n",
      "**************** tweedie ****************\n",
      "Training until validation scores don't improve for 79 rounds\n",
      "[100]\tvalid_0's ER: 135.02\n"
     ]
    },
    {
     "name": "stderr",
     "output_type": "stream",
     "text": [
      "[I 2023-12-21 17:14:09,403] Trial 9 finished with value: 135.0 and parameters: {'lambda_l1': 770.7270828624836, 'lambda_l2': 945.3115684204183, 'learning_rate': 0.17101326917013396, 'num_leaves': 412, 'feature_fraction': 0.7946207472118774, 'min_data_in_leaf': 7828}. Best is trial 7 with value: 116.06.\n"
     ]
    },
    {
     "name": "stdout",
     "output_type": "stream",
     "text": [
      "Early stopping, best iteration is:\n",
      "[59]\tvalid_0's ER: 135\n",
      "Evaluated only: ER\n",
      "# Experimentos: 10\n",
      "Mejor experimento: {'lambda_l1': 20.11600701897209, 'lambda_l2': 471.0920825852438, 'learning_rate': 0.2319988955009605, 'num_leaves': 454, 'feature_fraction': 0.6578513333128614, 'min_data_in_leaf': 2780}\n",
      "=========================================== Cluster 67 ===========================================\n"
     ]
    },
    {
     "name": "stderr",
     "output_type": "stream",
     "text": [
      "[I 2023-12-21 17:14:09,735] A new study created in memory with name: no-name-a881cc3d-101b-49e6-b7e2-43843431bb59\n"
     ]
    },
    {
     "name": "stdout",
     "output_type": "stream",
     "text": [
      "Periodos entrenar: [201808 201809 201810 201811 201812 201901 201902 201903 201904 201905]\n",
      "Periodos validar: [201907]\n",
      "product_id a validar: 580\n",
      "X_train: (5598, 120)\n",
      "y_train: (5598,)\n",
      "\n",
      "X_validate: (580, 120)\n",
      "y_validate: (580,)\n",
      "Optimizacion Bayesiana\n",
      "**************** tweedie ****************\n",
      "Training until validation scores don't improve for 293 rounds\n",
      "[100]\tvalid_0's ER: 100.38\n",
      "[200]\tvalid_0's ER: 100.38\n"
     ]
    },
    {
     "name": "stderr",
     "output_type": "stream",
     "text": [
      "[I 2023-12-21 17:14:09,982] Trial 0 finished with value: 162.14 and parameters: {'lambda_l1': 717.5148093689977, 'lambda_l2': 837.5891883078034, 'learning_rate': 0.02050710425356981, 'num_leaves': 292, 'feature_fraction': 0.39126494165525544, 'min_data_in_leaf': 5092}. Best is trial 0 with value: 162.14.\n",
      "[I 2023-12-21 17:14:10,084] Trial 1 finished with value: 162.14 and parameters: {'lambda_l1': 190.48163864562838, 'lambda_l2': 151.13365978967096, 'learning_rate': 0.18586136220037752, 'num_leaves': 474, 'feature_fraction': 0.6471021468463558, 'min_data_in_leaf': 5431}. Best is trial 0 with value: 162.14.\n"
     ]
    },
    {
     "name": "stdout",
     "output_type": "stream",
     "text": [
      "Early stopping, best iteration is:\n",
      "[1]\tvalid_0's ER: 100.38\n",
      "Evaluated only: ER\n",
      "**************** tweedie ****************\n",
      "Training until validation scores don't improve for 76 rounds\n",
      "Early stopping, best iteration is:\n",
      "[1]\tvalid_0's ER: 100.38\n",
      "Evaluated only: ER\n",
      "**************** tweedie ****************\n",
      "Training until validation scores don't improve for 90 rounds\n"
     ]
    },
    {
     "name": "stderr",
     "output_type": "stream",
     "text": [
      "[I 2023-12-21 17:14:10,196] Trial 2 finished with value: 162.14 and parameters: {'lambda_l1': 396.6479229697215, 'lambda_l2': 449.73658933945427, 'learning_rate': 0.12294230808511107, 'num_leaves': 365, 'feature_fraction': 0.611964856036448, 'min_data_in_leaf': 7370}. Best is trial 0 with value: 162.14.\n"
     ]
    },
    {
     "name": "stdout",
     "output_type": "stream",
     "text": [
      "Early stopping, best iteration is:\n",
      "[1]\tvalid_0's ER: 100.38\n",
      "Evaluated only: ER\n",
      "**************** tweedie ****************\n",
      "Training until validation scores don't improve for 86 rounds\n",
      "[100]\tvalid_0's ER: 135.61\n"
     ]
    },
    {
     "name": "stderr",
     "output_type": "stream",
     "text": [
      "[I 2023-12-21 17:14:10,461] Trial 3 finished with value: 135.58 and parameters: {'lambda_l1': 215.9528661469614, 'lambda_l2': 112.05468335116176, 'learning_rate': 0.13691932737063203, 'num_leaves': 586, 'feature_fraction': 0.8358678602902532, 'min_data_in_leaf': 2763}. Best is trial 3 with value: 135.58.\n",
      "[I 2023-12-21 17:14:10,559] Trial 4 finished with value: 162.14 and parameters: {'lambda_l1': 83.97650101615017, 'lambda_l2': 321.9253031141432, 'learning_rate': 0.28553609747891534, 'num_leaves': 301, 'feature_fraction': 0.7346590437520546, 'min_data_in_leaf': 3427}. Best is trial 3 with value: 135.58.\n"
     ]
    },
    {
     "name": "stdout",
     "output_type": "stream",
     "text": [
      "[200]\tvalid_0's ER: 135.58\n",
      "Early stopping, best iteration is:\n",
      "[129]\tvalid_0's ER: 135.58\n",
      "Evaluated only: ER\n",
      "**************** tweedie ****************\n",
      "Training until validation scores don't improve for 67 rounds\n",
      "Early stopping, best iteration is:\n",
      "[1]\tvalid_0's ER: 100.38\n",
      "Evaluated only: ER\n",
      "**************** tweedie ****************\n",
      "Training until validation scores don't improve for 71 rounds\n"
     ]
    },
    {
     "name": "stderr",
     "output_type": "stream",
     "text": [
      "[I 2023-12-21 17:14:10,677] Trial 5 finished with value: 162.14 and parameters: {'lambda_l1': 759.0211803454845, 'lambda_l2': 594.85503691821, 'learning_rate': 0.22991098563330328, 'num_leaves': 561, 'feature_fraction': 0.48544770764828277, 'min_data_in_leaf': 7618}. Best is trial 3 with value: 135.58.\n",
      "[I 2023-12-21 17:14:10,805] Trial 6 finished with value: 162.14 and parameters: {'lambda_l1': 683.6062521100448, 'lambda_l2': 658.3562666464853, 'learning_rate': 0.20854811347425886, 'num_leaves': 427, 'feature_fraction': 0.9054030399174966, 'min_data_in_leaf': 38}. Best is trial 3 with value: 135.58.\n"
     ]
    },
    {
     "name": "stdout",
     "output_type": "stream",
     "text": [
      "Early stopping, best iteration is:\n",
      "[1]\tvalid_0's ER: 100.38\n",
      "Evaluated only: ER\n",
      "**************** tweedie ****************\n",
      "Training until validation scores don't improve for 73 rounds\n",
      "Early stopping, best iteration is:\n",
      "[1]\tvalid_0's ER: 100.38\n",
      "Evaluated only: ER\n",
      "**************** tweedie ****************\n",
      "Training until validation scores don't improve for 66 rounds\n"
     ]
    },
    {
     "name": "stderr",
     "output_type": "stream",
     "text": [
      "[I 2023-12-21 17:14:10,899] Trial 7 finished with value: 162.14 and parameters: {'lambda_l1': 939.8046615689314, 'lambda_l2': 306.79624356642563, 'learning_rate': 0.29660709042077216, 'num_leaves': 55, 'feature_fraction': 0.6611351658218292, 'min_data_in_leaf': 2915}. Best is trial 3 with value: 135.58.\n",
      "[I 2023-12-21 17:14:11,041] Trial 8 finished with value: 162.14 and parameters: {'lambda_l1': 9.852191008754453, 'lambda_l2': 528.4623495771754, 'learning_rate': 0.07030620311152237, 'num_leaves': 570, 'feature_fraction': 0.31729692873750137, 'min_data_in_leaf': 7376}. Best is trial 3 with value: 135.58.\n"
     ]
    },
    {
     "name": "stdout",
     "output_type": "stream",
     "text": [
      "Early stopping, best iteration is:\n",
      "[1]\tvalid_0's ER: 100.38\n",
      "Evaluated only: ER\n",
      "**************** tweedie ****************\n",
      "Training until validation scores don't improve for 121 rounds\n",
      "[100]\tvalid_0's ER: 100.38\n",
      "Early stopping, best iteration is:\n",
      "[1]\tvalid_0's ER: 100.38\n",
      "Evaluated only: ER\n",
      "**************** tweedie ****************\n"
     ]
    },
    {
     "name": "stderr",
     "output_type": "stream",
     "text": [
      "[I 2023-12-21 17:14:11,210] Trial 9 finished with value: 162.14 and parameters: {'lambda_l1': 772.0873818241298, 'lambda_l2': 498.21330231570835, 'learning_rate': 0.07605082937901878, 'num_leaves': 690, 'feature_fraction': 0.8939892616047032, 'min_data_in_leaf': 305}. Best is trial 3 with value: 135.58.\n"
     ]
    },
    {
     "name": "stdout",
     "output_type": "stream",
     "text": [
      "Training until validation scores don't improve for 115 rounds\n",
      "[100]\tvalid_0's ER: 100.38\n",
      "Early stopping, best iteration is:\n",
      "[1]\tvalid_0's ER: 100.38\n",
      "Evaluated only: ER\n",
      "# Experimentos: 10\n",
      "Mejor experimento: {'lambda_l1': 215.9528661469614, 'lambda_l2': 112.05468335116176, 'learning_rate': 0.13691932737063203, 'num_leaves': 586, 'feature_fraction': 0.8358678602902532, 'min_data_in_leaf': 2763}\n",
      "=========================================== Cluster 68 ===========================================\n",
      "Periodos entrenar: []\n",
      "Periodos validar: []\n",
      "product_id a validar: 0\n",
      "X_train: (0, 120)\n",
      "y_train: (0,)\n",
      "\n",
      "X_validate: (0, 120)\n",
      "y_validate: (0,)\n",
      "=========================================== Cluster 69 ===========================================\n"
     ]
    },
    {
     "name": "stderr",
     "output_type": "stream",
     "text": [
      "[I 2023-12-21 17:14:12,271] A new study created in memory with name: no-name-9129c087-972b-40cc-87f3-1c37ce1fd299\n"
     ]
    },
    {
     "name": "stdout",
     "output_type": "stream",
     "text": [
      "Periodos entrenar: [201701 201702 201703 201704 201705 201706 201707 201708 201709 201710\n",
      " 201711 201712 201801 201802 201803 201804 201805 201806 201807 201808\n",
      " 201809 201810 201811 201812 201901 201902 201903 201904 201905]\n",
      "Periodos validar: [201907]\n",
      "product_id a validar: 1160\n",
      "X_train: (30914, 120)\n",
      "y_train: (30914,)\n",
      "\n",
      "X_validate: (1160, 120)\n",
      "y_validate: (1160,)\n",
      "Optimizacion Bayesiana\n",
      "**************** tweedie ****************\n",
      "Training until validation scores don't improve for 66 rounds\n"
     ]
    },
    {
     "name": "stderr",
     "output_type": "stream",
     "text": [
      "[I 2023-12-21 17:14:12,849] Trial 0 finished with value: 121.57 and parameters: {'lambda_l1': 756.5201615029537, 'lambda_l2': 532.6458907825363, 'learning_rate': 0.2966046665731897, 'num_leaves': 682, 'feature_fraction': 0.32320953992317486, 'min_data_in_leaf': 1903}. Best is trial 0 with value: 121.57.\n"
     ]
    },
    {
     "name": "stdout",
     "output_type": "stream",
     "text": [
      "[100]\tvalid_0's ER: 121.57\n",
      "Early stopping, best iteration is:\n",
      "[92]\tvalid_0's ER: 121.57\n",
      "Evaluated only: ER\n",
      "**************** tweedie ****************\n",
      "Training until validation scores don't improve for 77 rounds\n",
      "[100]\tvalid_0's ER: 113.91\n"
     ]
    },
    {
     "name": "stderr",
     "output_type": "stream",
     "text": [
      "[I 2023-12-21 17:14:13,750] Trial 1 finished with value: 113.8 and parameters: {'lambda_l1': 547.0288282475893, 'lambda_l2': 837.8419069668096, 'learning_rate': 0.1846293453480079, 'num_leaves': 891, 'feature_fraction': 0.7173222031940507, 'min_data_in_leaf': 8000}. Best is trial 1 with value: 113.8.\n"
     ]
    },
    {
     "name": "stdout",
     "output_type": "stream",
     "text": [
      "[200]\tvalid_0's ER: 113.8\n",
      "Early stopping, best iteration is:\n",
      "[123]\tvalid_0's ER: 113.8\n",
      "Evaluated only: ER\n",
      "**************** tweedie ****************\n",
      "Training until validation scores don't improve for 83 rounds\n",
      "[100]\tvalid_0's ER: 110.17\n"
     ]
    },
    {
     "name": "stderr",
     "output_type": "stream",
     "text": [
      "[I 2023-12-21 17:14:14,692] Trial 2 finished with value: 110.1 and parameters: {'lambda_l1': 482.35596798160464, 'lambda_l2': 484.9407501236379, 'learning_rate': 0.14857838894620318, 'num_leaves': 480, 'feature_fraction': 0.6401486653541184, 'min_data_in_leaf': 7676}. Best is trial 2 with value: 110.1.\n"
     ]
    },
    {
     "name": "stdout",
     "output_type": "stream",
     "text": [
      "[200]\tvalid_0's ER: 110.1\n",
      "Early stopping, best iteration is:\n",
      "[132]\tvalid_0's ER: 110.1\n",
      "Evaluated only: ER\n",
      "**************** tweedie ****************\n",
      "Training until validation scores don't improve for 112 rounds\n",
      "[100]\tvalid_0's ER: 129.93\n",
      "[200]\tvalid_0's ER: 129.28\n",
      "[300]\tvalid_0's ER: 129.22\n"
     ]
    },
    {
     "name": "stderr",
     "output_type": "stream",
     "text": [
      "[I 2023-12-21 17:14:16,124] Trial 3 finished with value: 129.22 and parameters: {'lambda_l1': 825.314955947057, 'lambda_l2': 609.7012895965014, 'learning_rate': 0.08027109296073079, 'num_leaves': 424, 'feature_fraction': 0.6226761574500554, 'min_data_in_leaf': 7336}. Best is trial 2 with value: 110.1.\n"
     ]
    },
    {
     "name": "stdout",
     "output_type": "stream",
     "text": [
      "Early stopping, best iteration is:\n",
      "[259]\tvalid_0's ER: 129.22\n",
      "Evaluated only: ER\n",
      "**************** tweedie ****************\n",
      "Training until validation scores don't improve for 139 rounds\n",
      "[100]\tvalid_0's ER: 114.15\n",
      "[200]\tvalid_0's ER: 113.29\n"
     ]
    },
    {
     "name": "stderr",
     "output_type": "stream",
     "text": [
      "[I 2023-12-21 17:14:17,416] Trial 4 finished with value: 113.25 and parameters: {'lambda_l1': 524.1205590259767, 'lambda_l2': 151.8897823608777, 'learning_rate': 0.05582672776893668, 'num_leaves': 174, 'feature_fraction': 0.5490098111120908, 'min_data_in_leaf': 4201}. Best is trial 2 with value: 110.1.\n"
     ]
    },
    {
     "name": "stdout",
     "output_type": "stream",
     "text": [
      "[300]\tvalid_0's ER: 113.25\n",
      "Early stopping, best iteration is:\n",
      "[212]\tvalid_0's ER: 113.25\n",
      "Evaluated only: ER\n",
      "**************** tweedie ****************\n",
      "Training until validation scores don't improve for 70 rounds\n",
      "[100]\tvalid_0's ER: 92.87\n",
      "[200]\tvalid_0's ER: 91.97\n"
     ]
    },
    {
     "name": "stderr",
     "output_type": "stream",
     "text": [
      "[I 2023-12-21 17:14:18,302] Trial 5 finished with value: 91.88 and parameters: {'lambda_l1': 248.54375489762248, 'lambda_l2': 778.335988863682, 'learning_rate': 0.24019302876300394, 'num_leaves': 709, 'feature_fraction': 0.2619705628243109, 'min_data_in_leaf': 237}. Best is trial 5 with value: 91.88.\n"
     ]
    },
    {
     "name": "stdout",
     "output_type": "stream",
     "text": [
      "[300]\tvalid_0's ER: 91.88\n",
      "Early stopping, best iteration is:\n",
      "[232]\tvalid_0's ER: 91.88\n",
      "Evaluated only: ER\n",
      "**************** tweedie ****************\n",
      "Training until validation scores don't improve for 84 rounds\n"
     ]
    },
    {
     "name": "stderr",
     "output_type": "stream",
     "text": [
      "[I 2023-12-21 17:14:19,031] Trial 6 finished with value: 116.71 and parameters: {'lambda_l1': 661.5815995692105, 'lambda_l2': 661.0734315396343, 'learning_rate': 0.14292424983456148, 'num_leaves': 619, 'feature_fraction': 0.6907595591245457, 'min_data_in_leaf': 652}. Best is trial 5 with value: 91.88.\n"
     ]
    },
    {
     "name": "stdout",
     "output_type": "stream",
     "text": [
      "[100]\tvalid_0's ER: 116.71\n",
      "Early stopping, best iteration is:\n",
      "[69]\tvalid_0's ER: 116.71\n",
      "Evaluated only: ER\n",
      "**************** tweedie ****************\n",
      "Training until validation scores don't improve for 71 rounds\n",
      "[100]\tvalid_0's ER: 81\n",
      "[200]\tvalid_0's ER: 79.66\n"
     ]
    },
    {
     "name": "stderr",
     "output_type": "stream",
     "text": [
      "[I 2023-12-21 17:14:20,257] Trial 7 finished with value: 79.57 and parameters: {'lambda_l1': 120.19554100214636, 'lambda_l2': 959.3713894317673, 'learning_rate': 0.23363115533795586, 'num_leaves': 877, 'feature_fraction': 0.4641156736306602, 'min_data_in_leaf': 356}. Best is trial 7 with value: 79.57.\n"
     ]
    },
    {
     "name": "stdout",
     "output_type": "stream",
     "text": [
      "[300]\tvalid_0's ER: 79.57\n",
      "Early stopping, best iteration is:\n",
      "[230]\tvalid_0's ER: 79.57\n",
      "Evaluated only: ER\n",
      "**************** tweedie ****************\n",
      "Training until validation scores don't improve for 83 rounds\n",
      "[100]\tvalid_0's ER: 135.63\n"
     ]
    },
    {
     "name": "stderr",
     "output_type": "stream",
     "text": [
      "[I 2023-12-21 17:14:21,074] Trial 8 finished with value: 135.63 and parameters: {'lambda_l1': 926.8865402894133, 'lambda_l2': 702.4014269985018, 'learning_rate': 0.15105145707628484, 'num_leaves': 739, 'feature_fraction': 0.8036402404543821, 'min_data_in_leaf': 7633}. Best is trial 7 with value: 79.57.\n"
     ]
    },
    {
     "name": "stdout",
     "output_type": "stream",
     "text": [
      "Early stopping, best iteration is:\n",
      "[100]\tvalid_0's ER: 135.63\n",
      "Evaluated only: ER\n",
      "**************** tweedie ****************\n",
      "Training until validation scores don't improve for 68 rounds\n",
      "[100]\tvalid_0's ER: 89.11\n"
     ]
    },
    {
     "name": "stderr",
     "output_type": "stream",
     "text": [
      "[I 2023-12-21 17:14:21,881] Trial 9 finished with value: 89.09 and parameters: {'lambda_l1': 153.89890329992807, 'lambda_l2': 693.1949888758713, 'learning_rate': 0.2776610195054882, 'num_leaves': 366, 'feature_fraction': 0.6397198892575348, 'min_data_in_leaf': 7230}. Best is trial 7 with value: 79.57.\n"
     ]
    },
    {
     "name": "stdout",
     "output_type": "stream",
     "text": [
      "Early stopping, best iteration is:\n",
      "[116]\tvalid_0's ER: 89.09\n",
      "Evaluated only: ER\n",
      "# Experimentos: 10\n",
      "Mejor experimento: {'lambda_l1': 120.19554100214636, 'lambda_l2': 959.3713894317673, 'learning_rate': 0.23363115533795586, 'num_leaves': 877, 'feature_fraction': 0.4641156736306602, 'min_data_in_leaf': 356}\n",
      "=========================================== Cluster 70 ===========================================\n"
     ]
    },
    {
     "name": "stderr",
     "output_type": "stream",
     "text": [
      "[I 2023-12-21 17:14:22,402] A new study created in memory with name: no-name-720c45dd-394d-4928-a96d-2662c3e13195\n"
     ]
    },
    {
     "name": "stdout",
     "output_type": "stream",
     "text": [
      "Periodos entrenar: [201701 201702 201703 201704 201705 201706 201707 201708 201709 201710\n",
      " 201711 201712 201801 201802 201803 201804 201805 201806 201807 201808\n",
      " 201809 201810 201811 201812 201901 201902 201903 201904 201905]\n",
      "Periodos validar: [201907]\n",
      "product_id a validar: 580\n",
      "X_train: (15457, 120)\n",
      "y_train: (15457,)\n",
      "\n",
      "X_validate: (580, 120)\n",
      "y_validate: (580,)\n",
      "Optimizacion Bayesiana\n",
      "**************** tweedie ****************\n",
      "Training until validation scores don't improve for 304 rounds\n",
      "[100]\tvalid_0's ER: 0\n",
      "[200]\tvalid_0's ER: 0\n",
      "[300]\tvalid_0's ER: 0\n"
     ]
    },
    {
     "name": "stderr",
     "output_type": "stream",
     "text": [
      "[I 2023-12-21 17:14:22,834] Trial 0 finished with value: 0.0 and parameters: {'lambda_l1': 764.8538606678869, 'lambda_l2': 972.5359487927732, 'learning_rate': 0.019670142567367484, 'num_leaves': 566, 'feature_fraction': 0.27783537348320353, 'min_data_in_leaf': 2697}. Best is trial 0 with value: 0.0.\n"
     ]
    },
    {
     "name": "stdout",
     "output_type": "stream",
     "text": [
      "Early stopping, best iteration is:\n",
      "[1]\tvalid_0's ER: 0\n",
      "Evaluated only: ER\n",
      "**************** tweedie ****************\n",
      "Training until validation scores don't improve for 161 rounds\n"
     ]
    },
    {
     "name": "stderr",
     "output_type": "stream",
     "text": [
      "[I 2023-12-21 17:14:23,259] Trial 1 finished with value: 0.0 and parameters: {'lambda_l1': 477.8774220882281, 'lambda_l2': 38.77628095323804, 'learning_rate': 0.04486581263205468, 'num_leaves': 123, 'feature_fraction': 0.5422524865477303, 'min_data_in_leaf': 4347}. Best is trial 0 with value: 0.0.\n"
     ]
    },
    {
     "name": "stdout",
     "output_type": "stream",
     "text": [
      "[100]\tvalid_0's ER: 0\n",
      "Early stopping, best iteration is:\n",
      "[1]\tvalid_0's ER: 0\n",
      "Evaluated only: ER\n",
      "**************** tweedie ****************\n",
      "Training until validation scores don't improve for 72 rounds\n"
     ]
    },
    {
     "name": "stderr",
     "output_type": "stream",
     "text": [
      "[I 2023-12-21 17:14:23,721] Trial 2 finished with value: 0.0 and parameters: {'lambda_l1': 333.5023614962275, 'lambda_l2': 198.06258517877328, 'learning_rate': 0.21964010200513157, 'num_leaves': 974, 'feature_fraction': 0.5668057291774431, 'min_data_in_leaf': 4174}. Best is trial 0 with value: 0.0.\n"
     ]
    },
    {
     "name": "stdout",
     "output_type": "stream",
     "text": [
      "Early stopping, best iteration is:\n",
      "[1]\tvalid_0's ER: 0\n",
      "Evaluated only: ER\n",
      "**************** tweedie ****************\n"
     ]
    },
    {
     "name": "stderr",
     "output_type": "stream",
     "text": [
      "[I 2023-12-21 17:14:24,025] Trial 3 finished with value: 0.0 and parameters: {'lambda_l1': 443.05798403694797, 'lambda_l2': 9.501649959102076, 'learning_rate': 0.2469978910672705, 'num_leaves': 480, 'feature_fraction': 0.2526677928008411, 'min_data_in_leaf': 1443}. Best is trial 0 with value: 0.0.\n"
     ]
    },
    {
     "name": "stdout",
     "output_type": "stream",
     "text": [
      "Training until validation scores don't improve for 70 rounds\n",
      "Early stopping, best iteration is:\n",
      "[1]\tvalid_0's ER: 0\n",
      "Evaluated only: ER\n",
      "**************** tweedie ****************\n"
     ]
    },
    {
     "name": "stderr",
     "output_type": "stream",
     "text": [
      "[I 2023-12-21 17:14:24,291] Trial 4 finished with value: 0.0 and parameters: {'lambda_l1': 196.63669486953873, 'lambda_l2': 729.4652445017036, 'learning_rate': 0.09179946901425515, 'num_leaves': 786, 'feature_fraction': 0.3314270765201104, 'min_data_in_leaf': 5632}. Best is trial 0 with value: 0.0.\n"
     ]
    },
    {
     "name": "stdout",
     "output_type": "stream",
     "text": [
      "Training until validation scores don't improve for 104 rounds\n",
      "[100]\tvalid_0's ER: 0\n",
      "Early stopping, best iteration is:\n",
      "[1]\tvalid_0's ER: 0\n",
      "Evaluated only: ER\n",
      "**************** tweedie ****************\n",
      "Training until validation scores don't improve for 212 rounds\n",
      "[100]\tvalid_0's ER: 0\n"
     ]
    },
    {
     "name": "stderr",
     "output_type": "stream",
     "text": [
      "[I 2023-12-21 17:14:24,737] Trial 5 finished with value: 0.0 and parameters: {'lambda_l1': 518.5158665895225, 'lambda_l2': 816.8053450357461, 'learning_rate': 0.030798736661501624, 'num_leaves': 925, 'feature_fraction': 0.33405869987024683, 'min_data_in_leaf': 1738}. Best is trial 0 with value: 0.0.\n"
     ]
    },
    {
     "name": "stdout",
     "output_type": "stream",
     "text": [
      "[200]\tvalid_0's ER: 0\n",
      "Early stopping, best iteration is:\n",
      "[1]\tvalid_0's ER: 0\n",
      "Evaluated only: ER\n",
      "**************** tweedie ****************\n",
      "Training until validation scores don't improve for 145 rounds\n"
     ]
    },
    {
     "name": "stderr",
     "output_type": "stream",
     "text": [
      "[I 2023-12-21 17:14:25,113] Trial 6 finished with value: 0.0 and parameters: {'lambda_l1': 164.18945549161123, 'lambda_l2': 82.3073586027514, 'learning_rate': 0.05243147734521414, 'num_leaves': 847, 'feature_fraction': 0.29602449759532334, 'min_data_in_leaf': 443}. Best is trial 0 with value: 0.0.\n"
     ]
    },
    {
     "name": "stdout",
     "output_type": "stream",
     "text": [
      "[100]\tvalid_0's ER: 0\n",
      "Early stopping, best iteration is:\n",
      "[1]\tvalid_0's ER: 0\n",
      "Evaluated only: ER\n",
      "**************** tweedie ****************\n",
      "Training until validation scores don't improve for 195 rounds\n",
      "[100]\tvalid_0's ER: 0\n"
     ]
    },
    {
     "name": "stderr",
     "output_type": "stream",
     "text": [
      "[I 2023-12-21 17:14:25,698] Trial 7 finished with value: 0.0 and parameters: {'lambda_l1': 422.809025428021, 'lambda_l2': 775.104447410896, 'learning_rate': 0.03427543062009459, 'num_leaves': 877, 'feature_fraction': 0.6636691089202229, 'min_data_in_leaf': 770}. Best is trial 0 with value: 0.0.\n"
     ]
    },
    {
     "name": "stdout",
     "output_type": "stream",
     "text": [
      "Early stopping, best iteration is:\n",
      "[1]\tvalid_0's ER: 0\n",
      "Evaluated only: ER\n",
      "**************** tweedie ****************\n",
      "Training until validation scores don't improve for 85 rounds\n"
     ]
    },
    {
     "name": "stderr",
     "output_type": "stream",
     "text": [
      "[I 2023-12-21 17:14:25,941] Trial 8 finished with value: 0.0 and parameters: {'lambda_l1': 860.7745980577097, 'lambda_l2': 302.27689376557254, 'learning_rate': 0.1415467776766287, 'num_leaves': 150, 'feature_fraction': 0.8886823809492801, 'min_data_in_leaf': 6945}. Best is trial 0 with value: 0.0.\n"
     ]
    },
    {
     "name": "stdout",
     "output_type": "stream",
     "text": [
      "Early stopping, best iteration is:\n",
      "[1]\tvalid_0's ER: 0\n",
      "Evaluated only: ER\n",
      "**************** tweedie ****************\n",
      "Training until validation scores don't improve for 67 rounds\n"
     ]
    },
    {
     "name": "stderr",
     "output_type": "stream",
     "text": [
      "[I 2023-12-21 17:14:26,169] Trial 9 finished with value: 0.0 and parameters: {'lambda_l1': 959.0407245373144, 'lambda_l2': 39.434892725365046, 'learning_rate': 0.2911075995372742, 'num_leaves': 836, 'feature_fraction': 0.9281059714261364, 'min_data_in_leaf': 7463}. Best is trial 0 with value: 0.0.\n"
     ]
    },
    {
     "name": "stdout",
     "output_type": "stream",
     "text": [
      "Early stopping, best iteration is:\n",
      "[1]\tvalid_0's ER: 0\n",
      "Evaluated only: ER\n",
      "# Experimentos: 10\n",
      "Mejor experimento: {'lambda_l1': 764.8538606678869, 'lambda_l2': 972.5359487927732, 'learning_rate': 0.019670142567367484, 'num_leaves': 566, 'feature_fraction': 0.27783537348320353, 'min_data_in_leaf': 2697}\n",
      "=========================================== Cluster 71 ===========================================\n"
     ]
    },
    {
     "name": "stderr",
     "output_type": "stream",
     "text": [
      "[I 2023-12-21 17:14:35,577] A new study created in memory with name: no-name-e70522f4-40d6-4fe0-8dd8-0f2e999e28ed\n"
     ]
    },
    {
     "name": "stdout",
     "output_type": "stream",
     "text": [
      "Periodos entrenar: [201701 201702 201703 201704 201705 201706 201707 201708 201709 201710\n",
      " 201711 201712 201801 201802 201803 201804 201805 201806 201807 201808\n",
      " 201809 201810 201811 201812 201901 201902 201903 201904 201905]\n",
      "Periodos validar: [201907]\n",
      "product_id a validar: 15080\n",
      "X_train: (289124, 120)\n",
      "y_train: (289124,)\n",
      "\n",
      "X_validate: (15080, 120)\n",
      "y_validate: (15080,)\n",
      "Optimizacion Bayesiana\n",
      "**************** tweedie ****************\n",
      "Training until validation scores don't improve for 69 rounds\n"
     ]
    },
    {
     "name": "stderr",
     "output_type": "stream",
     "text": [
      "[I 2023-12-21 17:14:39,399] Trial 0 finished with value: 120.29 and parameters: {'lambda_l1': 847.4334448690249, 'lambda_l2': 82.12964947728119, 'learning_rate': 0.2564978631482132, 'num_leaves': 121, 'feature_fraction': 0.3625902281826025, 'min_data_in_leaf': 7470}. Best is trial 0 with value: 120.29.\n"
     ]
    },
    {
     "name": "stdout",
     "output_type": "stream",
     "text": [
      "[100]\tvalid_0's ER: 120.29\n",
      "Early stopping, best iteration is:\n",
      "[39]\tvalid_0's ER: 120.29\n",
      "Evaluated only: ER\n",
      "**************** tweedie ****************\n",
      "Training until validation scores don't improve for 122 rounds\n",
      "[100]\tvalid_0's ER: 119.15\n",
      "[200]\tvalid_0's ER: 117.51\n",
      "[300]\tvalid_0's ER: 117.51\n",
      "Early stopping, best iteration is:\n",
      "[186]\tvalid_0's ER: 117.41\n",
      "Evaluated only: ER\n"
     ]
    },
    {
     "name": "stderr",
     "output_type": "stream",
     "text": [
      "[I 2023-12-21 17:14:50,716] Trial 1 finished with value: 117.41 and parameters: {'lambda_l1': 547.6956803634566, 'lambda_l2': 895.0576007484303, 'learning_rate': 0.06900365735318963, 'num_leaves': 747, 'feature_fraction': 0.9748144714138773, 'min_data_in_leaf': 5720}. Best is trial 1 with value: 117.41.\n"
     ]
    },
    {
     "name": "stdout",
     "output_type": "stream",
     "text": [
      "**************** tweedie ****************\n",
      "Training until validation scores don't improve for 78 rounds\n",
      "[100]\tvalid_0's ER: 106.89\n",
      "[200]\tvalid_0's ER: 106.1\n"
     ]
    },
    {
     "name": "stderr",
     "output_type": "stream",
     "text": [
      "[I 2023-12-21 17:14:58,998] Trial 2 finished with value: 105.42 and parameters: {'lambda_l1': 96.9445420169609, 'lambda_l2': 478.108776898867, 'learning_rate': 0.17514867837715756, 'num_leaves': 25, 'feature_fraction': 0.320204460835428, 'min_data_in_leaf': 4037}. Best is trial 2 with value: 105.42.\n"
     ]
    },
    {
     "name": "stdout",
     "output_type": "stream",
     "text": [
      "Early stopping, best iteration is:\n",
      "[186]\tvalid_0's ER: 105.42\n",
      "Evaluated only: ER\n",
      "**************** tweedie ****************\n",
      "Training until validation scores don't improve for 105 rounds\n",
      "[100]\tvalid_0's ER: 110.34\n",
      "[200]\tvalid_0's ER: 110.11\n"
     ]
    },
    {
     "name": "stderr",
     "output_type": "stream",
     "text": [
      "[I 2023-12-21 17:15:07,917] Trial 3 finished with value: 109.97 and parameters: {'lambda_l1': 288.29115501178114, 'lambda_l2': 330.1569256104447, 'learning_rate': 0.09004524707706317, 'num_leaves': 759, 'feature_fraction': 0.8008319360565768, 'min_data_in_leaf': 6248}. Best is trial 2 with value: 105.42.\n"
     ]
    },
    {
     "name": "stdout",
     "output_type": "stream",
     "text": [
      "Early stopping, best iteration is:\n",
      "[114]\tvalid_0's ER: 109.97\n",
      "Evaluated only: ER\n",
      "**************** tweedie ****************\n",
      "Training until validation scores don't improve for 89 rounds\n",
      "[100]\tvalid_0's ER: 122.55\n"
     ]
    },
    {
     "name": "stderr",
     "output_type": "stream",
     "text": [
      "[I 2023-12-21 17:15:12,694] Trial 4 finished with value: 122.55 and parameters: {'lambda_l1': 899.9256132311954, 'lambda_l2': 170.19149354224317, 'learning_rate': 0.12742774299084408, 'num_leaves': 99, 'feature_fraction': 0.27207062386943986, 'min_data_in_leaf': 4796}. Best is trial 2 with value: 105.42.\n"
     ]
    },
    {
     "name": "stdout",
     "output_type": "stream",
     "text": [
      "Early stopping, best iteration is:\n",
      "[87]\tvalid_0's ER: 122.55\n",
      "Evaluated only: ER\n",
      "**************** tweedie ****************\n",
      "Training until validation scores don't improve for 69 rounds\n",
      "[100]\tvalid_0's ER: 109.9\n"
     ]
    },
    {
     "name": "stderr",
     "output_type": "stream",
     "text": [
      "[I 2023-12-21 17:15:18,881] Trial 5 finished with value: 109.13 and parameters: {'lambda_l1': 178.5766451188978, 'lambda_l2': 940.8677020805366, 'learning_rate': 0.2549179906196495, 'num_leaves': 36, 'feature_fraction': 0.23866016717760852, 'min_data_in_leaf': 2706}. Best is trial 2 with value: 105.42.\n"
     ]
    },
    {
     "name": "stdout",
     "output_type": "stream",
     "text": [
      "Early stopping, best iteration is:\n",
      "[90]\tvalid_0's ER: 108.35\n",
      "Evaluated only: ER\n",
      "**************** tweedie ****************\n",
      "Training until validation scores don't improve for 82 rounds\n",
      "[100]\tvalid_0's ER: 119.9\n"
     ]
    },
    {
     "name": "stderr",
     "output_type": "stream",
     "text": [
      "[I 2023-12-21 17:15:23,986] Trial 6 finished with value: 119.7 and parameters: {'lambda_l1': 641.771649242794, 'lambda_l2': 474.50951480546087, 'learning_rate': 0.15546899000177672, 'num_leaves': 993, 'feature_fraction': 0.9491200367537993, 'min_data_in_leaf': 4853}. Best is trial 2 with value: 105.42.\n"
     ]
    },
    {
     "name": "stdout",
     "output_type": "stream",
     "text": [
      "Early stopping, best iteration is:\n",
      "[41]\tvalid_0's ER: 119.7\n",
      "Evaluated only: ER\n",
      "**************** tweedie ****************\n",
      "Training until validation scores don't improve for 148 rounds\n",
      "[100]\tvalid_0's ER: 114.4\n",
      "[200]\tvalid_0's ER: 110.83\n",
      "[300]\tvalid_0's ER: 110.66\n"
     ]
    },
    {
     "name": "stderr",
     "output_type": "stream",
     "text": [
      "[I 2023-12-21 17:15:37,418] Trial 7 finished with value: 110.52 and parameters: {'lambda_l1': 265.711979970071, 'lambda_l2': 290.44326865960267, 'learning_rate': 0.05083867118127031, 'num_leaves': 214, 'feature_fraction': 0.5765035178301796, 'min_data_in_leaf': 4513}. Best is trial 2 with value: 105.42.\n"
     ]
    },
    {
     "name": "stdout",
     "output_type": "stream",
     "text": [
      "Early stopping, best iteration is:\n",
      "[216]\tvalid_0's ER: 110.52\n",
      "Evaluated only: ER\n",
      "**************** tweedie ****************\n",
      "Training until validation scores don't improve for 110 rounds\n",
      "[100]\tvalid_0's ER: 121.87\n"
     ]
    },
    {
     "name": "stderr",
     "output_type": "stream",
     "text": [
      "[I 2023-12-21 17:15:43,452] Trial 8 finished with value: 121.75 and parameters: {'lambda_l1': 829.11866428577, 'lambda_l2': 249.2374855943913, 'learning_rate': 0.08223836093024528, 'num_leaves': 761, 'feature_fraction': 0.3962463155470881, 'min_data_in_leaf': 6411}. Best is trial 2 with value: 105.42.\n"
     ]
    },
    {
     "name": "stdout",
     "output_type": "stream",
     "text": [
      "Early stopping, best iteration is:\n",
      "[87]\tvalid_0's ER: 121.75\n",
      "Evaluated only: ER\n",
      "**************** tweedie ****************\n",
      "Training until validation scores don't improve for 71 rounds\n",
      "[100]\tvalid_0's ER: 114.5\n",
      "Early stopping, best iteration is:\n",
      "[35]\tvalid_0's ER: 113.67\n",
      "Evaluated only: ER\n"
     ]
    },
    {
     "name": "stderr",
     "output_type": "stream",
     "text": [
      "[I 2023-12-21 17:15:48,434] Trial 9 finished with value: 113.67 and parameters: {'lambda_l1': 529.9307049334936, 'lambda_l2': 967.7783621910007, 'learning_rate': 0.2304935242097868, 'num_leaves': 134, 'feature_fraction': 0.6959020530537672, 'min_data_in_leaf': 3465}. Best is trial 2 with value: 105.42.\n"
     ]
    },
    {
     "name": "stdout",
     "output_type": "stream",
     "text": [
      "# Experimentos: 10\n",
      "Mejor experimento: {'lambda_l1': 96.9445420169609, 'lambda_l2': 478.108776898867, 'learning_rate': 0.17514867837715756, 'num_leaves': 25, 'feature_fraction': 0.320204460835428, 'min_data_in_leaf': 4037}\n",
      "=========================================== Cluster 72 ===========================================\n"
     ]
    },
    {
     "name": "stderr",
     "output_type": "stream",
     "text": [
      "[I 2023-12-21 17:15:51,027] A new study created in memory with name: no-name-1b3a444a-2184-4045-a21f-679c94982ac5\n"
     ]
    },
    {
     "name": "stdout",
     "output_type": "stream",
     "text": [
      "Periodos entrenar: [201701 201702 201703 201704 201705 201706 201707 201708 201709 201710\n",
      " 201711 201712 201801 201802 201803 201804 201805 201806 201807 201808\n",
      " 201809 201810 201811 201812 201901 201902 201903 201904 201905]\n",
      "Periodos validar: [201907]\n",
      "product_id a validar: 3480\n",
      "X_train: (79164, 120)\n",
      "y_train: (79164,)\n",
      "\n",
      "X_validate: (3480, 120)\n",
      "y_validate: (3480,)\n",
      "Optimizacion Bayesiana\n",
      "**************** tweedie ****************\n",
      "Training until validation scores don't improve for 499 rounds\n",
      "[100]\tvalid_0's ER: 356.55\n",
      "[200]\tvalid_0's ER: 307.53\n",
      "[300]\tvalid_0's ER: 290.27\n",
      "[400]\tvalid_0's ER: 287.75\n",
      "[500]\tvalid_0's ER: 287.76\n",
      "[600]\tvalid_0's ER: 287.76\n",
      "[700]\tvalid_0's ER: 287.76\n",
      "[800]\tvalid_0's ER: 287.76\n"
     ]
    },
    {
     "name": "stderr",
     "output_type": "stream",
     "text": [
      "[I 2023-12-21 17:15:58,974] Trial 0 finished with value: 287.72 and parameters: {'lambda_l1': 932.6045311656799, 'lambda_l2': 51.87812208775866, 'learning_rate': 0.011126736487024266, 'num_leaves': 377, 'feature_fraction': 0.9858527024995432, 'min_data_in_leaf': 5064}. Best is trial 0 with value: 287.72.\n"
     ]
    },
    {
     "name": "stdout",
     "output_type": "stream",
     "text": [
      "Early stopping, best iteration is:\n",
      "[358]\tvalid_0's ER: 287.72\n",
      "Evaluated only: ER\n",
      "**************** tweedie ****************\n",
      "Training until validation scores don't improve for 153 rounds\n",
      "[100]\tvalid_0's ER: 271.57\n",
      "[200]\tvalid_0's ER: 263.88\n"
     ]
    },
    {
     "name": "stderr",
     "output_type": "stream",
     "text": [
      "[I 2023-12-21 17:16:00,948] Trial 1 finished with value: 263.53 and parameters: {'lambda_l1': 750.0706197088002, 'lambda_l2': 610.6961711797247, 'learning_rate': 0.04848918993787107, 'num_leaves': 938, 'feature_fraction': 0.21819890077471335, 'min_data_in_leaf': 6678}. Best is trial 1 with value: 263.53.\n"
     ]
    },
    {
     "name": "stdout",
     "output_type": "stream",
     "text": [
      "[300]\tvalid_0's ER: 263.83\n",
      "Early stopping, best iteration is:\n",
      "[159]\tvalid_0's ER: 263.42\n",
      "Evaluated only: ER\n",
      "**************** tweedie ****************\n",
      "Training until validation scores don't improve for 123 rounds\n",
      "[100]\tvalid_0's ER: 217.89\n"
     ]
    },
    {
     "name": "stderr",
     "output_type": "stream",
     "text": [
      "[I 2023-12-21 17:16:03,597] Trial 2 finished with value: 217.04 and parameters: {'lambda_l1': 248.34310312250585, 'lambda_l2': 409.94740913938233, 'learning_rate': 0.06764854121588915, 'num_leaves': 119, 'feature_fraction': 0.7363392206129982, 'min_data_in_leaf': 3706}. Best is trial 2 with value: 217.04.\n"
     ]
    },
    {
     "name": "stdout",
     "output_type": "stream",
     "text": [
      "[200]\tvalid_0's ER: 221.26\n",
      "Early stopping, best iteration is:\n",
      "[90]\tvalid_0's ER: 217.04\n",
      "Evaluated only: ER\n",
      "**************** tweedie ****************\n",
      "Training until validation scores don't improve for 101 rounds\n",
      "[100]\tvalid_0's ER: 267.21\n"
     ]
    },
    {
     "name": "stderr",
     "output_type": "stream",
     "text": [
      "[I 2023-12-21 17:16:05,254] Trial 3 finished with value: 266.75 and parameters: {'lambda_l1': 781.8798807661193, 'lambda_l2': 694.3005738843292, 'learning_rate': 0.09768023214633599, 'num_leaves': 940, 'feature_fraction': 0.4175384816320927, 'min_data_in_leaf': 4369}. Best is trial 2 with value: 217.04.\n"
     ]
    },
    {
     "name": "stdout",
     "output_type": "stream",
     "text": [
      "Early stopping, best iteration is:\n",
      "[77]\tvalid_0's ER: 266.75\n",
      "Evaluated only: ER\n",
      "**************** tweedie ****************\n",
      "Training until validation scores don't improve for 274 rounds\n",
      "[100]\tvalid_0's ER: 322.98\n",
      "[200]\tvalid_0's ER: 282.23\n",
      "[300]\tvalid_0's ER: 270.69\n",
      "[400]\tvalid_0's ER: 267.87\n",
      "[500]\tvalid_0's ER: 267.84\n",
      "[600]\tvalid_0's ER: 267.84\n",
      "[700]\tvalid_0's ER: 267.87\n"
     ]
    },
    {
     "name": "stderr",
     "output_type": "stream",
     "text": [
      "[I 2023-12-21 17:16:10,406] Trial 4 finished with value: 267.9 and parameters: {'lambda_l1': 773.8773147519398, 'lambda_l2': 782.506653201882, 'learning_rate': 0.022262703140823938, 'num_leaves': 626, 'feature_fraction': 0.3363231791762018, 'min_data_in_leaf': 7552}. Best is trial 2 with value: 217.04.\n"
     ]
    },
    {
     "name": "stdout",
     "output_type": "stream",
     "text": [
      "[800]\tvalid_0's ER: 267.89\n",
      "Early stopping, best iteration is:\n",
      "[550]\tvalid_0's ER: 267.81\n",
      "Evaluated only: ER\n",
      "**************** tweedie ****************\n",
      "Training until validation scores don't improve for 67 rounds\n"
     ]
    },
    {
     "name": "stderr",
     "output_type": "stream",
     "text": [
      "[I 2023-12-21 17:16:11,733] Trial 5 finished with value: 227.01 and parameters: {'lambda_l1': 9.297052723247322, 'lambda_l2': 280.99488720543144, 'learning_rate': 0.28727313228121604, 'num_leaves': 418, 'feature_fraction': 0.5696235544849172, 'min_data_in_leaf': 5120}. Best is trial 2 with value: 217.04.\n"
     ]
    },
    {
     "name": "stdout",
     "output_type": "stream",
     "text": [
      "Early stopping, best iteration is:\n",
      "[12]\tvalid_0's ER: 227.01\n",
      "Evaluated only: ER\n",
      "**************** tweedie ****************\n",
      "Training until validation scores don't improve for 104 rounds\n",
      "[100]\tvalid_0's ER: 260.58\n"
     ]
    },
    {
     "name": "stderr",
     "output_type": "stream",
     "text": [
      "[I 2023-12-21 17:16:13,684] Trial 6 finished with value: 260.18 and parameters: {'lambda_l1': 726.1822885469121, 'lambda_l2': 747.4235611515272, 'learning_rate': 0.09208324771221815, 'num_leaves': 347, 'feature_fraction': 0.9757056505544444, 'min_data_in_leaf': 4652}. Best is trial 2 with value: 217.04.\n"
     ]
    },
    {
     "name": "stdout",
     "output_type": "stream",
     "text": [
      "Early stopping, best iteration is:\n",
      "[79]\tvalid_0's ER: 260.18\n",
      "Evaluated only: ER\n",
      "**************** tweedie ****************\n",
      "Training until validation scores don't improve for 140 rounds\n",
      "[100]\tvalid_0's ER: 263.85\n"
     ]
    },
    {
     "name": "stderr",
     "output_type": "stream",
     "text": [
      "[I 2023-12-21 17:16:15,524] Trial 7 finished with value: 261.92 and parameters: {'lambda_l1': 817.9947585699877, 'lambda_l2': 77.0215906003111, 'learning_rate': 0.055385357106951326, 'num_leaves': 853, 'feature_fraction': 0.39192644181404224, 'min_data_in_leaf': 1299}. Best is trial 2 with value: 217.04.\n"
     ]
    },
    {
     "name": "stdout",
     "output_type": "stream",
     "text": [
      "Early stopping, best iteration is:\n",
      "[59]\tvalid_0's ER: 261.92\n",
      "Evaluated only: ER\n",
      "**************** tweedie ****************\n",
      "Training until validation scores don't improve for 98 rounds\n",
      "[100]\tvalid_0's ER: 280.78\n"
     ]
    },
    {
     "name": "stderr",
     "output_type": "stream",
     "text": [
      "[I 2023-12-21 17:16:18,039] Trial 8 finished with value: 280.4 and parameters: {'lambda_l1': 899.9042849732778, 'lambda_l2': 671.0613580592246, 'learning_rate': 0.10327638903636328, 'num_leaves': 522, 'feature_fraction': 0.9924681555685715, 'min_data_in_leaf': 6957}. Best is trial 2 with value: 217.04.\n"
     ]
    },
    {
     "name": "stdout",
     "output_type": "stream",
     "text": [
      "Early stopping, best iteration is:\n",
      "[60]\tvalid_0's ER: 280.4\n",
      "Evaluated only: ER\n",
      "**************** tweedie ****************\n",
      "Training until validation scores don't improve for 100 rounds\n",
      "[100]\tvalid_0's ER: 240.2\n"
     ]
    },
    {
     "name": "stderr",
     "output_type": "stream",
     "text": [
      "[I 2023-12-21 17:16:19,925] Trial 9 finished with value: 239.67 and parameters: {'lambda_l1': 571.6472274191744, 'lambda_l2': 118.48365586761156, 'learning_rate': 0.09924912853545294, 'num_leaves': 696, 'feature_fraction': 0.7126724670127476, 'min_data_in_leaf': 4775}. Best is trial 2 with value: 217.04.\n"
     ]
    },
    {
     "name": "stdout",
     "output_type": "stream",
     "text": [
      "Early stopping, best iteration is:\n",
      "[65]\tvalid_0's ER: 239.67\n",
      "Evaluated only: ER\n",
      "# Experimentos: 10\n",
      "Mejor experimento: {'lambda_l1': 248.34310312250585, 'lambda_l2': 409.94740913938233, 'learning_rate': 0.06764854121588915, 'num_leaves': 119, 'feature_fraction': 0.7363392206129982, 'min_data_in_leaf': 3706}\n",
      "=========================================== Cluster 73 ===========================================\n",
      "Periodos entrenar: [201701 201702 201703 201704 201705 201706 201707 201708 201709 201710\n",
      " 201711 201712 201801 201802 201803 201804 201805 201806 201807 201808\n",
      " 201809 201810 201811 201812 201901 201902 201903 201904 201905]\n",
      "Periodos validar: [201907]\n",
      "product_id a validar: 24940\n"
     ]
    },
    {
     "name": "stderr",
     "output_type": "stream",
     "text": [
      "[I 2023-12-21 17:16:37,968] A new study created in memory with name: no-name-63779f4d-5bec-4a60-ac4f-f73f7deb421a\n"
     ]
    },
    {
     "name": "stdout",
     "output_type": "stream",
     "text": [
      "X_train: (602015, 120)\n",
      "y_train: (602015,)\n",
      "\n",
      "X_validate: (24940, 120)\n",
      "y_validate: (24940,)\n",
      "Optimizacion Bayesiana\n",
      "**************** tweedie ****************\n",
      "Training until validation scores don't improve for 75 rounds\n",
      "[100]\tvalid_0's ER: 105.23\n"
     ]
    },
    {
     "name": "stderr",
     "output_type": "stream",
     "text": [
      "[I 2023-12-21 17:16:46,201] Trial 0 finished with value: 105.19 and parameters: {'lambda_l1': 975.8838101133135, 'lambda_l2': 930.6963241596558, 'learning_rate': 0.19796967566812493, 'num_leaves': 187, 'feature_fraction': 0.866484274043338, 'min_data_in_leaf': 2193}. Best is trial 0 with value: 105.19.\n"
     ]
    },
    {
     "name": "stdout",
     "output_type": "stream",
     "text": [
      "Early stopping, best iteration is:\n",
      "[42]\tvalid_0's ER: 105.19\n",
      "Evaluated only: ER\n",
      "**************** tweedie ****************\n",
      "Training until validation scores don't improve for 120 rounds\n",
      "[100]\tvalid_0's ER: 103.14\n",
      "[200]\tvalid_0's ER: 101.59\n",
      "[300]\tvalid_0's ER: 101.01\n",
      "[400]\tvalid_0's ER: 100.93\n",
      "[500]\tvalid_0's ER: 100.92\n",
      "[600]\tvalid_0's ER: 100.9\n",
      "Early stopping, best iteration is:\n",
      "[501]\tvalid_0's ER: 100.9\n",
      "Evaluated only: ER\n"
     ]
    },
    {
     "name": "stderr",
     "output_type": "stream",
     "text": [
      "[I 2023-12-21 17:17:24,615] Trial 1 finished with value: 100.91 and parameters: {'lambda_l1': 249.26037719217376, 'lambda_l2': 564.5828578558848, 'learning_rate': 0.07069755799994729, 'num_leaves': 111, 'feature_fraction': 0.37101558898167897, 'min_data_in_leaf': 5489}. Best is trial 1 with value: 100.91.\n"
     ]
    },
    {
     "name": "stdout",
     "output_type": "stream",
     "text": [
      "**************** tweedie ****************\n",
      "Training until validation scores don't improve for 109 rounds\n",
      "[100]\tvalid_0's ER: 104.04\n",
      "[200]\tvalid_0's ER: 102.23\n"
     ]
    },
    {
     "name": "stderr",
     "output_type": "stream",
     "text": [
      "[I 2023-12-21 17:17:44,556] Trial 2 finished with value: 102.21 and parameters: {'lambda_l1': 262.4932988280779, 'lambda_l2': 582.6786867135146, 'learning_rate': 0.08337865789847604, 'num_leaves': 648, 'feature_fraction': 0.6338347272012765, 'min_data_in_leaf': 3988}. Best is trial 1 with value: 100.91.\n"
     ]
    },
    {
     "name": "stdout",
     "output_type": "stream",
     "text": [
      "Early stopping, best iteration is:\n",
      "[184]\tvalid_0's ER: 102.21\n",
      "Evaluated only: ER\n",
      "**************** tweedie ****************\n",
      "Training until validation scores don't improve for 76 rounds\n",
      "[100]\tvalid_0's ER: 104.55\n"
     ]
    },
    {
     "name": "stderr",
     "output_type": "stream",
     "text": [
      "[I 2023-12-21 17:17:54,898] Trial 3 finished with value: 104.45 and parameters: {'lambda_l1': 542.8500877910607, 'lambda_l2': 944.9123245474232, 'learning_rate': 0.18560673963111718, 'num_leaves': 889, 'feature_fraction': 0.9870129490456914, 'min_data_in_leaf': 7451}. Best is trial 1 with value: 100.91.\n"
     ]
    },
    {
     "name": "stdout",
     "output_type": "stream",
     "text": [
      "Early stopping, best iteration is:\n",
      "[75]\tvalid_0's ER: 104.45\n",
      "Evaluated only: ER\n",
      "**************** tweedie ****************\n",
      "Training until validation scores don't improve for 68 rounds\n",
      "[100]\tvalid_0's ER: 102.8\n"
     ]
    },
    {
     "name": "stderr",
     "output_type": "stream",
     "text": [
      "[I 2023-12-21 17:18:04,190] Trial 4 finished with value: 102.71 and parameters: {'lambda_l1': 642.3254854969439, 'lambda_l2': 720.0383097183068, 'learning_rate': 0.2674569887391464, 'num_leaves': 597, 'feature_fraction': 0.368909192963128, 'min_data_in_leaf': 7505}. Best is trial 1 with value: 100.91.\n"
     ]
    },
    {
     "name": "stdout",
     "output_type": "stream",
     "text": [
      "Early stopping, best iteration is:\n",
      "[50]\tvalid_0's ER: 102.63\n",
      "Evaluated only: ER\n",
      "**************** tweedie ****************\n",
      "Training until validation scores don't improve for 91 rounds\n",
      "[100]\tvalid_0's ER: 102.94\n"
     ]
    },
    {
     "name": "stderr",
     "output_type": "stream",
     "text": [
      "[I 2023-12-21 17:18:19,852] Trial 5 finished with value: 102.81 and parameters: {'lambda_l1': 514.3260989095836, 'lambda_l2': 492.75605405512357, 'learning_rate': 0.11946192947836314, 'num_leaves': 247, 'feature_fraction': 0.48845660563059, 'min_data_in_leaf': 4068}. Best is trial 1 with value: 100.91.\n"
     ]
    },
    {
     "name": "stdout",
     "output_type": "stream",
     "text": [
      "Early stopping, best iteration is:\n",
      "[104]\tvalid_0's ER: 102.8\n",
      "Evaluated only: ER\n",
      "**************** tweedie ****************\n",
      "Training until validation scores don't improve for 179 rounds\n",
      "[100]\tvalid_0's ER: 104.89\n",
      "[200]\tvalid_0's ER: 102.01\n",
      "[300]\tvalid_0's ER: 101.71\n",
      "[400]\tvalid_0's ER: 101.71\n"
     ]
    },
    {
     "name": "stderr",
     "output_type": "stream",
     "text": [
      "[I 2023-12-21 17:18:46,914] Trial 6 finished with value: 101.7 and parameters: {'lambda_l1': 209.76219466951662, 'lambda_l2': 94.28504188166475, 'learning_rate': 0.03860911990151569, 'num_leaves': 653, 'feature_fraction': 0.8507281125066621, 'min_data_in_leaf': 5194}. Best is trial 1 with value: 100.91.\n"
     ]
    },
    {
     "name": "stdout",
     "output_type": "stream",
     "text": [
      "Early stopping, best iteration is:\n",
      "[237]\tvalid_0's ER: 101.7\n",
      "Evaluated only: ER\n",
      "**************** tweedie ****************\n",
      "Training until validation scores don't improve for 91 rounds\n",
      "[100]\tvalid_0's ER: 104.06\n"
     ]
    },
    {
     "name": "stderr",
     "output_type": "stream",
     "text": [
      "[I 2023-12-21 17:18:59,724] Trial 7 finished with value: 104.0 and parameters: {'lambda_l1': 715.8511045953684, 'lambda_l2': 719.8935779131964, 'learning_rate': 0.12085037214289276, 'num_leaves': 999, 'feature_fraction': 0.7079109172627531, 'min_data_in_leaf': 3846}. Best is trial 1 with value: 100.91.\n"
     ]
    },
    {
     "name": "stdout",
     "output_type": "stream",
     "text": [
      "Early stopping, best iteration is:\n",
      "[86]\tvalid_0's ER: 104\n",
      "Evaluated only: ER\n",
      "**************** tweedie ****************\n",
      "Training until validation scores don't improve for 94 rounds\n",
      "[100]\tvalid_0's ER: 103.79\n"
     ]
    },
    {
     "name": "stderr",
     "output_type": "stream",
     "text": [
      "[I 2023-12-21 17:19:10,022] Trial 8 finished with value: 103.64 and parameters: {'lambda_l1': 577.6641104898606, 'lambda_l2': 179.7974291713582, 'learning_rate': 0.11362879216599515, 'num_leaves': 493, 'feature_fraction': 0.9084024670132516, 'min_data_in_leaf': 1501}. Best is trial 1 with value: 100.91.\n"
     ]
    },
    {
     "name": "stdout",
     "output_type": "stream",
     "text": [
      "Early stopping, best iteration is:\n",
      "[49]\tvalid_0's ER: 103.64\n",
      "Evaluated only: ER\n",
      "**************** tweedie ****************\n",
      "Training until validation scores don't improve for 141 rounds\n",
      "[100]\tvalid_0's ER: 105.65\n",
      "[200]\tvalid_0's ER: 104.9\n",
      "[300]\tvalid_0's ER: 104.92\n"
     ]
    },
    {
     "name": "stderr",
     "output_type": "stream",
     "text": [
      "[I 2023-12-21 17:19:28,898] Trial 9 finished with value: 104.85 and parameters: {'lambda_l1': 734.9451345098084, 'lambda_l2': 643.4159373811591, 'learning_rate': 0.05476264482318696, 'num_leaves': 933, 'feature_fraction': 0.6279083763556305, 'min_data_in_leaf': 7596}. Best is trial 1 with value: 100.91.\n"
     ]
    },
    {
     "name": "stdout",
     "output_type": "stream",
     "text": [
      "Early stopping, best iteration is:\n",
      "[184]\tvalid_0's ER: 104.85\n",
      "Evaluated only: ER\n",
      "# Experimentos: 10\n",
      "Mejor experimento: {'lambda_l1': 249.26037719217376, 'lambda_l2': 564.5828578558848, 'learning_rate': 0.07069755799994729, 'num_leaves': 111, 'feature_fraction': 0.37101558898167897, 'min_data_in_leaf': 5489}\n",
      "=========================================== Cluster 74 ===========================================\n",
      "Periodos entrenar: []\n",
      "Periodos validar: []\n",
      "product_id a validar: 0\n",
      "X_train: (0, 120)\n",
      "y_train: (0,)\n",
      "\n",
      "X_validate: (0, 120)\n",
      "y_validate: (0,)\n",
      "=========================================== Cluster 75 ===========================================\n"
     ]
    },
    {
     "name": "stderr",
     "output_type": "stream",
     "text": [
      "[I 2023-12-21 17:19:29,450] A new study created in memory with name: no-name-b857f500-a0e6-41a4-ace2-cf9cc62d2aa1\n",
      "[I 2023-12-21 17:19:29,548] Trial 0 finished with value: 137.78 and parameters: {'lambda_l1': 570.5540600996887, 'lambda_l2': 560.0942631632817, 'learning_rate': 0.12223097757300261, 'num_leaves': 121, 'feature_fraction': 0.6378635330578108, 'min_data_in_leaf': 4767}. Best is trial 0 with value: 137.78.\n"
     ]
    },
    {
     "name": "stdout",
     "output_type": "stream",
     "text": [
      "Periodos entrenar: [201810 201811 201812 201901 201902 201903 201904 201905]\n",
      "Periodos validar: [201907]\n",
      "product_id a validar: 580\n",
      "X_train: (4496, 120)\n",
      "y_train: (4496,)\n",
      "\n",
      "X_validate: (580, 120)\n",
      "y_validate: (580,)\n",
      "Optimizacion Bayesiana\n",
      "**************** tweedie ****************\n",
      "Training until validation scores don't improve for 90 rounds\n",
      "Early stopping, best iteration is:\n",
      "[1]\tvalid_0's ER: 100.15\n",
      "Evaluated only: ER\n",
      "**************** tweedie ****************\n",
      "Training until validation scores don't improve for 69 rounds\n"
     ]
    },
    {
     "name": "stderr",
     "output_type": "stream",
     "text": [
      "[I 2023-12-21 17:19:29,667] Trial 1 finished with value: 137.78 and parameters: {'lambda_l1': 550.6181804068668, 'lambda_l2': 926.4072172664528, 'learning_rate': 0.26068249245788083, 'num_leaves': 251, 'feature_fraction': 0.8078724311014154, 'min_data_in_leaf': 2143}. Best is trial 0 with value: 137.78.\n",
      "[I 2023-12-21 17:19:29,792] Trial 2 finished with value: 137.78 and parameters: {'lambda_l1': 592.9207545479413, 'lambda_l2': 962.0224280538707, 'learning_rate': 0.21496186739801487, 'num_leaves': 659, 'feature_fraction': 0.8176299704270029, 'min_data_in_leaf': 131}. Best is trial 0 with value: 137.78.\n"
     ]
    },
    {
     "name": "stdout",
     "output_type": "stream",
     "text": [
      "Early stopping, best iteration is:\n",
      "[1]\tvalid_0's ER: 100.15\n",
      "Evaluated only: ER\n",
      "**************** tweedie ****************\n",
      "Training until validation scores don't improve for 73 rounds\n",
      "Early stopping, best iteration is:\n",
      "[1]\tvalid_0's ER: 100.15\n",
      "Evaluated only: ER\n",
      "**************** tweedie ****************\n",
      "Training until validation scores don't improve for 69 rounds\n"
     ]
    },
    {
     "name": "stderr",
     "output_type": "stream",
     "text": [
      "[I 2023-12-21 17:19:29,914] Trial 3 finished with value: 137.78 and parameters: {'lambda_l1': 892.6078793030225, 'lambda_l2': 782.239459298357, 'learning_rate': 0.25106990965792103, 'num_leaves': 631, 'feature_fraction': 0.8329042591880484, 'min_data_in_leaf': 1108}. Best is trial 0 with value: 137.78.\n",
      "[I 2023-12-21 17:19:30,097] Trial 4 finished with value: 137.78 and parameters: {'lambda_l1': 617.0858744530493, 'lambda_l2': 309.089936410172, 'learning_rate': 0.03374150531058671, 'num_leaves': 203, 'feature_fraction': 0.5147368928199471, 'min_data_in_leaf': 2981}. Best is trial 0 with value: 137.78.\n"
     ]
    },
    {
     "name": "stdout",
     "output_type": "stream",
     "text": [
      "Early stopping, best iteration is:\n",
      "[1]\tvalid_0's ER: 100.15\n",
      "Evaluated only: ER\n",
      "**************** tweedie ****************\n",
      "Training until validation scores don't improve for 198 rounds\n",
      "[100]\tvalid_0's ER: 100.15\n",
      "Early stopping, best iteration is:\n",
      "[1]\tvalid_0's ER: 100.15\n",
      "Evaluated only: ER\n",
      "**************** tweedie ****************\n"
     ]
    },
    {
     "name": "stderr",
     "output_type": "stream",
     "text": [
      "[I 2023-12-21 17:19:30,237] Trial 5 finished with value: 137.78 and parameters: {'lambda_l1': 277.7581763332562, 'lambda_l2': 589.3537836909367, 'learning_rate': 0.07530515233081682, 'num_leaves': 797, 'feature_fraction': 0.3285234227749164, 'min_data_in_leaf': 6862}. Best is trial 0 with value: 137.78.\n"
     ]
    },
    {
     "name": "stdout",
     "output_type": "stream",
     "text": [
      "Training until validation scores don't improve for 116 rounds\n",
      "[100]\tvalid_0's ER: 100.15\n",
      "Early stopping, best iteration is:\n",
      "[1]\tvalid_0's ER: 100.15\n",
      "Evaluated only: ER\n",
      "**************** tweedie ****************\n",
      "Training until validation scores don't improve for 86 rounds\n",
      "Early stopping, best iteration is:\n",
      "[1]\tvalid_0's ER: 100.15\n",
      "Evaluated only: ER\n"
     ]
    },
    {
     "name": "stderr",
     "output_type": "stream",
     "text": [
      "[I 2023-12-21 17:19:30,360] Trial 6 finished with value: 137.78 and parameters: {'lambda_l1': 926.2492625268898, 'lambda_l2': 122.80636439257519, 'learning_rate': 0.13826117791512876, 'num_leaves': 487, 'feature_fraction': 0.46661446223504965, 'min_data_in_leaf': 4805}. Best is trial 0 with value: 137.78.\n",
      "[I 2023-12-21 17:19:30,481] Trial 7 finished with value: 137.78 and parameters: {'lambda_l1': 569.7630830098925, 'lambda_l2': 727.2622870318363, 'learning_rate': 0.2911901109646866, 'num_leaves': 880, 'feature_fraction': 0.4176377920125699, 'min_data_in_leaf': 1176}. Best is trial 0 with value: 137.78.\n"
     ]
    },
    {
     "name": "stdout",
     "output_type": "stream",
     "text": [
      "**************** tweedie ****************\n",
      "Training until validation scores don't improve for 67 rounds\n",
      "Early stopping, best iteration is:\n",
      "[1]\tvalid_0's ER: 100.15\n",
      "Evaluated only: ER\n",
      "**************** tweedie ****************\n",
      "Training until validation scores don't improve for 79 rounds\n"
     ]
    },
    {
     "name": "stderr",
     "output_type": "stream",
     "text": [
      "[I 2023-12-21 17:19:30,602] Trial 8 finished with value: 137.78 and parameters: {'lambda_l1': 987.656799818565, 'lambda_l2': 780.5120195204059, 'learning_rate': 0.17104014359556052, 'num_leaves': 473, 'feature_fraction': 0.5664841886488717, 'min_data_in_leaf': 6805}. Best is trial 0 with value: 137.78.\n",
      "[I 2023-12-21 17:19:30,731] Trial 9 finished with value: 137.78 and parameters: {'lambda_l1': 894.3328466520838, 'lambda_l2': 719.9655071822573, 'learning_rate': 0.06548758142295973, 'num_leaves': 565, 'feature_fraction': 0.9114900552788261, 'min_data_in_leaf': 5972}. Best is trial 0 with value: 137.78.\n"
     ]
    },
    {
     "name": "stdout",
     "output_type": "stream",
     "text": [
      "Early stopping, best iteration is:\n",
      "[1]\tvalid_0's ER: 100.15\n",
      "Evaluated only: ER\n",
      "**************** tweedie ****************\n",
      "Training until validation scores don't improve for 126 rounds\n",
      "[100]\tvalid_0's ER: 100.15\n",
      "Early stopping, best iteration is:\n",
      "[1]\tvalid_0's ER: 100.15\n",
      "Evaluated only: ER\n",
      "# Experimentos: 10\n",
      "Mejor experimento: {'lambda_l1': 570.5540600996887, 'lambda_l2': 560.0942631632817, 'learning_rate': 0.12223097757300261, 'num_leaves': 121, 'feature_fraction': 0.6378635330578108, 'min_data_in_leaf': 4767}\n",
      "=========================================== Cluster 76 ===========================================\n"
     ]
    },
    {
     "name": "stderr",
     "output_type": "stream",
     "text": [
      "[I 2023-12-21 17:19:30,930] A new study created in memory with name: no-name-bf81923c-613c-41a6-b8aa-50dcf2be222b\n",
      "[I 2023-12-21 17:19:31,016] Trial 0 finished with value: 113.96 and parameters: {'lambda_l1': 932.9172809110653, 'lambda_l2': 754.7047626827813, 'learning_rate': 0.19518383100281653, 'num_leaves': 766, 'feature_fraction': 0.4650065656893488, 'min_data_in_leaf': 6738}. Best is trial 0 with value: 113.96.\n",
      "[I 2023-12-21 17:19:31,087] Trial 1 finished with value: 113.96 and parameters: {'lambda_l1': 381.7996227667573, 'lambda_l2': 469.7811926803919, 'learning_rate': 0.2987998218984312, 'num_leaves': 232, 'feature_fraction': 0.8811462512909323, 'min_data_in_leaf': 3259}. Best is trial 0 with value: 113.96.\n"
     ]
    },
    {
     "name": "stdout",
     "output_type": "stream",
     "text": [
      "Periodos entrenar: [201905]\n",
      "Periodos validar: [201907]\n",
      "product_id a validar: 580\n",
      "X_train: (571, 120)\n",
      "y_train: (571,)\n",
      "\n",
      "X_validate: (580, 120)\n",
      "y_validate: (580,)\n",
      "Optimizacion Bayesiana\n",
      "**************** tweedie ****************\n",
      "Training until validation scores don't improve for 75 rounds\n",
      "Early stopping, best iteration is:\n",
      "[1]\tvalid_0's ER: 100.02\n",
      "Evaluated only: ER\n",
      "**************** tweedie ****************\n",
      "Training until validation scores don't improve for 66 rounds\n",
      "Early stopping, best iteration is:\n",
      "[1]\tvalid_0's ER: 100.02\n",
      "Evaluated only: ER\n",
      "**************** tweedie ****************\n",
      "Training until validation scores don't improve for 68 rounds\n"
     ]
    },
    {
     "name": "stderr",
     "output_type": "stream",
     "text": [
      "[I 2023-12-21 17:19:31,165] Trial 2 finished with value: 113.96 and parameters: {'lambda_l1': 790.3349249201843, 'lambda_l2': 638.3335428267903, 'learning_rate': 0.26379074483023607, 'num_leaves': 77, 'feature_fraction': 0.45161211854345007, 'min_data_in_leaf': 7134}. Best is trial 0 with value: 113.96.\n",
      "[I 2023-12-21 17:19:31,317] Trial 3 finished with value: 113.96 and parameters: {'lambda_l1': 925.1815257667453, 'lambda_l2': 230.47218965834438, 'learning_rate': 0.027373685952390085, 'num_leaves': 819, 'feature_fraction': 0.6059278506109785, 'min_data_in_leaf': 3611}. Best is trial 0 with value: 113.96.\n"
     ]
    },
    {
     "name": "stdout",
     "output_type": "stream",
     "text": [
      "Early stopping, best iteration is:\n",
      "[1]\tvalid_0's ER: 100.02\n",
      "Evaluated only: ER\n",
      "**************** tweedie ****************\n",
      "Training until validation scores don't improve for 232 rounds\n",
      "[100]\tvalid_0's ER: 100.02\n",
      "[200]\tvalid_0's ER: 100.02\n",
      "Early stopping, best iteration is:\n",
      "[1]\tvalid_0's ER: 100.02\n",
      "Evaluated only: ER\n",
      "**************** tweedie ****************\n",
      "Training until validation scores don't improve for 86 rounds\n"
     ]
    },
    {
     "name": "stderr",
     "output_type": "stream",
     "text": [
      "[I 2023-12-21 17:19:31,414] Trial 4 finished with value: 113.96 and parameters: {'lambda_l1': 613.6220649231564, 'lambda_l2': 111.18883507286603, 'learning_rate': 0.13884092700517273, 'num_leaves': 1015, 'feature_fraction': 0.4902262990835056, 'min_data_in_leaf': 3139}. Best is trial 0 with value: 113.96.\n",
      "[I 2023-12-21 17:19:31,490] Trial 5 finished with value: 113.96 and parameters: {'lambda_l1': 687.2102182724137, 'lambda_l2': 460.78506162680554, 'learning_rate': 0.1950747364450625, 'num_leaves': 304, 'feature_fraction': 0.635540125083353, 'min_data_in_leaf': 7561}. Best is trial 0 with value: 113.96.\n",
      "[I 2023-12-21 17:19:31,564] Trial 6 finished with value: 113.96 and parameters: {'lambda_l1': 314.84117388217925, 'lambda_l2': 345.86964515498795, 'learning_rate': 0.25311148868605193, 'num_leaves': 689, 'feature_fraction': 0.7409127802300934, 'min_data_in_leaf': 5384}. Best is trial 0 with value: 113.96.\n"
     ]
    },
    {
     "name": "stdout",
     "output_type": "stream",
     "text": [
      "Early stopping, best iteration is:\n",
      "[1]\tvalid_0's ER: 100.02\n",
      "Evaluated only: ER\n",
      "**************** tweedie ****************\n",
      "Training until validation scores don't improve for 75 rounds\n",
      "Early stopping, best iteration is:\n",
      "[1]\tvalid_0's ER: 100.02\n",
      "Evaluated only: ER\n",
      "**************** tweedie ****************\n",
      "Training until validation scores don't improve for 69 rounds\n",
      "Early stopping, best iteration is:\n",
      "[1]\tvalid_0's ER: 100.02\n",
      "Evaluated only: ER\n",
      "**************** tweedie ****************\n",
      "Training until validation scores don't improve for 72 rounds\n"
     ]
    },
    {
     "name": "stderr",
     "output_type": "stream",
     "text": [
      "[I 2023-12-21 17:19:31,648] Trial 7 finished with value: 113.96 and parameters: {'lambda_l1': 774.638145323744, 'lambda_l2': 336.20925870723363, 'learning_rate': 0.22014057936782003, 'num_leaves': 580, 'feature_fraction': 0.5328731167092233, 'min_data_in_leaf': 5948}. Best is trial 0 with value: 113.96.\n",
      "[I 2023-12-21 17:19:31,720] Trial 8 finished with value: 113.96 and parameters: {'lambda_l1': 279.4974252780832, 'lambda_l2': 901.6841518293693, 'learning_rate': 0.11887868410477276, 'num_leaves': 26, 'feature_fraction': 0.9686848069898153, 'min_data_in_leaf': 4622}. Best is trial 0 with value: 113.96.\n",
      "[I 2023-12-21 17:19:31,794] Trial 9 finished with value: 113.96 and parameters: {'lambda_l1': 624.3096755086038, 'lambda_l2': 200.92326854431374, 'learning_rate': 0.15627627291153393, 'num_leaves': 287, 'feature_fraction': 0.884163700240735, 'min_data_in_leaf': 3961}. Best is trial 0 with value: 113.96.\n"
     ]
    },
    {
     "name": "stdout",
     "output_type": "stream",
     "text": [
      "Early stopping, best iteration is:\n",
      "[1]\tvalid_0's ER: 100.02\n",
      "Evaluated only: ER\n",
      "**************** tweedie ****************\n",
      "Training until validation scores don't improve for 92 rounds\n",
      "Early stopping, best iteration is:\n",
      "[1]\tvalid_0's ER: 100.02\n",
      "Evaluated only: ER\n",
      "**************** tweedie ****************\n",
      "Training until validation scores don't improve for 81 rounds\n",
      "Early stopping, best iteration is:\n",
      "[1]\tvalid_0's ER: 100.02\n",
      "Evaluated only: ER\n",
      "# Experimentos: 10\n",
      "Mejor experimento: {'lambda_l1': 932.9172809110653, 'lambda_l2': 754.7047626827813, 'learning_rate': 0.19518383100281653, 'num_leaves': 766, 'feature_fraction': 0.4650065656893488, 'min_data_in_leaf': 6738}\n",
      "=========================================== Cluster 77 ===========================================\n",
      "Periodos entrenar: []\n",
      "Periodos validar: []\n",
      "product_id a validar: 0\n",
      "X_train: (0, 120)\n",
      "y_train: (0,)\n",
      "\n",
      "X_validate: (0, 120)\n",
      "y_validate: (0,)\n",
      "=========================================== Cluster 78 ===========================================\n"
     ]
    },
    {
     "name": "stderr",
     "output_type": "stream",
     "text": [
      "[I 2023-12-21 17:19:34,254] A new study created in memory with name: no-name-01999cdc-42be-4dbc-8f43-6208000b83b8\n"
     ]
    },
    {
     "name": "stdout",
     "output_type": "stream",
     "text": [
      "Periodos entrenar: [201701 201702 201703 201704 201705 201706 201707 201708 201709 201710\n",
      " 201711 201712 201801 201802 201803 201804 201805 201806 201807 201808\n",
      " 201809 201810 201811 201812 201901 201902 201903 201904 201905]\n",
      "Periodos validar: [201907]\n",
      "product_id a validar: 2900\n",
      "X_train: (77285, 120)\n",
      "y_train: (77285,)\n",
      "\n",
      "X_validate: (2900, 120)\n",
      "y_validate: (2900,)\n",
      "Optimizacion Bayesiana\n",
      "**************** tweedie ****************\n",
      "Training until validation scores don't improve for 111 rounds\n",
      "[100]\tvalid_0's ER: 141.32\n",
      "[200]\tvalid_0's ER: 137.42\n"
     ]
    },
    {
     "name": "stderr",
     "output_type": "stream",
     "text": [
      "[I 2023-12-21 17:19:37,389] Trial 0 finished with value: 137.02 and parameters: {'lambda_l1': 156.477670223928, 'lambda_l2': 673.1686624316854, 'learning_rate': 0.08106564457443292, 'num_leaves': 47, 'feature_fraction': 0.6754655942572974, 'min_data_in_leaf': 6806}. Best is trial 0 with value: 137.02.\n"
     ]
    },
    {
     "name": "stdout",
     "output_type": "stream",
     "text": [
      "Early stopping, best iteration is:\n",
      "[183]\tvalid_0's ER: 137.02\n",
      "Evaluated only: ER\n",
      "**************** tweedie ****************\n",
      "Training until validation scores don't improve for 67 rounds\n"
     ]
    },
    {
     "name": "stderr",
     "output_type": "stream",
     "text": [
      "[I 2023-12-21 17:19:38,664] Trial 1 finished with value: 170.64 and parameters: {'lambda_l1': 794.3532210099592, 'lambda_l2': 668.2746513117826, 'learning_rate': 0.2879905997914389, 'num_leaves': 716, 'feature_fraction': 0.9827396924244758, 'min_data_in_leaf': 1955}. Best is trial 0 with value: 137.02.\n"
     ]
    },
    {
     "name": "stdout",
     "output_type": "stream",
     "text": [
      "Early stopping, best iteration is:\n",
      "[25]\tvalid_0's ER: 170.64\n",
      "Evaluated only: ER\n",
      "**************** tweedie ****************\n",
      "Training until validation scores don't improve for 142 rounds\n",
      "[100]\tvalid_0's ER: 160.07\n",
      "[200]\tvalid_0's ER: 159.71\n"
     ]
    },
    {
     "name": "stderr",
     "output_type": "stream",
     "text": [
      "[I 2023-12-21 17:19:41,256] Trial 2 finished with value: 159.71 and parameters: {'lambda_l1': 656.6427616967093, 'lambda_l2': 284.47249469638405, 'learning_rate': 0.0542171288573592, 'num_leaves': 411, 'feature_fraction': 0.7320579637449398, 'min_data_in_leaf': 232}. Best is trial 0 with value: 137.02.\n"
     ]
    },
    {
     "name": "stdout",
     "output_type": "stream",
     "text": [
      "Early stopping, best iteration is:\n",
      "[107]\tvalid_0's ER: 159.71\n",
      "Evaluated only: ER\n",
      "**************** tweedie ****************\n",
      "Training until validation scores don't improve for 115 rounds\n",
      "[100]\tvalid_0's ER: 141.22\n",
      "[200]\tvalid_0's ER: 140.59\n"
     ]
    },
    {
     "name": "stderr",
     "output_type": "stream",
     "text": [
      "[I 2023-12-21 17:19:43,268] Trial 3 finished with value: 140.09 and parameters: {'lambda_l1': 304.068291687992, 'lambda_l2': 246.29549921470982, 'learning_rate': 0.07633811099210679, 'num_leaves': 843, 'feature_fraction': 0.3133268139210823, 'min_data_in_leaf': 2660}. Best is trial 0 with value: 137.02.\n"
     ]
    },
    {
     "name": "stdout",
     "output_type": "stream",
     "text": [
      "Early stopping, best iteration is:\n",
      "[154]\tvalid_0's ER: 139.69\n",
      "Evaluated only: ER\n",
      "**************** tweedie ****************\n",
      "Training until validation scores don't improve for 89 rounds\n",
      "[100]\tvalid_0's ER: 189.42\n"
     ]
    },
    {
     "name": "stderr",
     "output_type": "stream",
     "text": [
      "[I 2023-12-21 17:19:44,678] Trial 4 finished with value: 189.31 and parameters: {'lambda_l1': 943.9055003815723, 'lambda_l2': 298.2332899549083, 'learning_rate': 0.1253789848986372, 'num_leaves': 182, 'feature_fraction': 0.4274712165432362, 'min_data_in_leaf': 5897}. Best is trial 0 with value: 137.02.\n"
     ]
    },
    {
     "name": "stdout",
     "output_type": "stream",
     "text": [
      "Early stopping, best iteration is:\n",
      "[65]\tvalid_0's ER: 189.22\n",
      "Evaluated only: ER\n",
      "**************** tweedie ****************\n",
      "Training until validation scores don't improve for 128 rounds\n",
      "[100]\tvalid_0's ER: 143.28\n",
      "[200]\tvalid_0's ER: 142.44\n",
      "[300]\tvalid_0's ER: 142.87\n"
     ]
    },
    {
     "name": "stderr",
     "output_type": "stream",
     "text": [
      "[I 2023-12-21 17:19:47,296] Trial 5 finished with value: 142.65 and parameters: {'lambda_l1': 266.3040253683733, 'lambda_l2': 232.36706797352548, 'learning_rate': 0.06335395430596824, 'num_leaves': 808, 'feature_fraction': 0.46672057124766, 'min_data_in_leaf': 6437}. Best is trial 0 with value: 137.02.\n"
     ]
    },
    {
     "name": "stdout",
     "output_type": "stream",
     "text": [
      "Early stopping, best iteration is:\n",
      "[209]\tvalid_0's ER: 141.85\n",
      "Evaluated only: ER\n",
      "**************** tweedie ****************\n",
      "Training until validation scores don't improve for 80 rounds\n"
     ]
    },
    {
     "name": "stderr",
     "output_type": "stream",
     "text": [
      "[I 2023-12-21 17:19:48,571] Trial 6 finished with value: 186.11 and parameters: {'lambda_l1': 954.4108948545335, 'lambda_l2': 30.94155064351145, 'learning_rate': 0.16402429327016524, 'num_leaves': 49, 'feature_fraction': 0.6549112925764002, 'min_data_in_leaf': 3804}. Best is trial 0 with value: 137.02.\n"
     ]
    },
    {
     "name": "stdout",
     "output_type": "stream",
     "text": [
      "[100]\tvalid_0's ER: 186.16\n",
      "Early stopping, best iteration is:\n",
      "[33]\tvalid_0's ER: 186.11\n",
      "Evaluated only: ER\n",
      "**************** tweedie ****************\n",
      "Training until validation scores don't improve for 107 rounds\n",
      "[100]\tvalid_0's ER: 146.25\n",
      "[200]\tvalid_0's ER: 144.65\n",
      "[300]\tvalid_0's ER: 144.36\n",
      "[400]\tvalid_0's ER: 143.99\n",
      "[500]\tvalid_0's ER: 143.66\n",
      "[600]\tvalid_0's ER: 143.27\n",
      "[700]\tvalid_0's ER: 143.23\n",
      "[800]\tvalid_0's ER: 142.63\n"
     ]
    },
    {
     "name": "stderr",
     "output_type": "stream",
     "text": [
      "[I 2023-12-21 17:19:53,157] Trial 7 finished with value: 142.51 and parameters: {'lambda_l1': 210.8642635674114, 'lambda_l2': 930.6263168047808, 'learning_rate': 0.08718555381416192, 'num_leaves': 395, 'feature_fraction': 0.25613933149541374, 'min_data_in_leaf': 7397}. Best is trial 0 with value: 137.02.\n"
     ]
    },
    {
     "name": "stdout",
     "output_type": "stream",
     "text": [
      "[900]\tvalid_0's ER: 142.42\n",
      "Early stopping, best iteration is:\n",
      "[808]\tvalid_0's ER: 141.99\n",
      "Evaluated only: ER\n",
      "**************** tweedie ****************\n",
      "Training until validation scores don't improve for 115 rounds\n",
      "[100]\tvalid_0's ER: 146.14\n",
      "[200]\tvalid_0's ER: 143.63\n",
      "[300]\tvalid_0's ER: 143.38\n",
      "[400]\tvalid_0's ER: 142.86\n",
      "[500]\tvalid_0's ER: 142.18\n",
      "[600]\tvalid_0's ER: 142.07\n"
     ]
    },
    {
     "name": "stderr",
     "output_type": "stream",
     "text": [
      "[I 2023-12-21 17:19:57,113] Trial 8 finished with value: 141.98 and parameters: {'lambda_l1': 192.50659227518386, 'lambda_l2': 886.3776297712874, 'learning_rate': 0.07641327406892195, 'num_leaves': 1022, 'feature_fraction': 0.32719272878646033, 'min_data_in_leaf': 7496}. Best is trial 0 with value: 137.02.\n"
     ]
    },
    {
     "name": "stdout",
     "output_type": "stream",
     "text": [
      "Early stopping, best iteration is:\n",
      "[534]\tvalid_0's ER: 141.78\n",
      "Evaluated only: ER\n",
      "**************** tweedie ****************\n",
      "Training until validation scores don't improve for 91 rounds\n",
      "[100]\tvalid_0's ER: 145.03\n"
     ]
    },
    {
     "name": "stderr",
     "output_type": "stream",
     "text": [
      "[I 2023-12-21 17:19:58,808] Trial 9 finished with value: 144.53 and parameters: {'lambda_l1': 322.65158858149454, 'lambda_l2': 174.0155088496911, 'learning_rate': 0.12078941649520046, 'num_leaves': 73, 'feature_fraction': 0.650149628723707, 'min_data_in_leaf': 6732}. Best is trial 0 with value: 137.02.\n"
     ]
    },
    {
     "name": "stdout",
     "output_type": "stream",
     "text": [
      "Early stopping, best iteration is:\n",
      "[68]\tvalid_0's ER: 144.46\n",
      "Evaluated only: ER\n",
      "# Experimentos: 10\n",
      "Mejor experimento: {'lambda_l1': 156.477670223928, 'lambda_l2': 673.1686624316854, 'learning_rate': 0.08106564457443292, 'num_leaves': 47, 'feature_fraction': 0.6754655942572974, 'min_data_in_leaf': 6806}\n",
      "=========================================== Cluster 79 ===========================================\n",
      "Periodos entrenar: []\n",
      "Periodos validar: []\n",
      "product_id a validar: 0\n",
      "X_train: (0, 120)\n",
      "y_train: (0,)\n",
      "\n",
      "X_validate: (0, 120)\n",
      "y_validate: (0,)\n",
      "=========================================== Cluster 80 ===========================================\n"
     ]
    },
    {
     "name": "stderr",
     "output_type": "stream",
     "text": [
      "[I 2023-12-21 17:20:00,257] A new study created in memory with name: no-name-781980bd-7696-461e-8014-e28d053d7d23\n"
     ]
    },
    {
     "name": "stdout",
     "output_type": "stream",
     "text": [
      "Periodos entrenar: [201809 201810 201811 201812 201901 201902 201903 201904 201905]\n",
      "Periodos validar: [201907]\n",
      "product_id a validar: 3480\n",
      "X_train: (30294, 120)\n",
      "y_train: (30294,)\n",
      "\n",
      "X_validate: (3480, 120)\n",
      "y_validate: (3480,)\n",
      "Optimizacion Bayesiana\n",
      "**************** tweedie ****************\n",
      "Training until validation scores don't improve for 90 rounds\n"
     ]
    },
    {
     "name": "stderr",
     "output_type": "stream",
     "text": [
      "[I 2023-12-21 17:20:00,897] Trial 0 finished with value: 0.0 and parameters: {'lambda_l1': 85.04207686521737, 'lambda_l2': 745.2192551421568, 'learning_rate': 0.12332662080272778, 'num_leaves': 760, 'feature_fraction': 0.6465671490893299, 'min_data_in_leaf': 6113}. Best is trial 0 with value: 0.0.\n"
     ]
    },
    {
     "name": "stdout",
     "output_type": "stream",
     "text": [
      "Early stopping, best iteration is:\n",
      "[1]\tvalid_0's ER: 0\n",
      "Evaluated only: ER\n",
      "**************** tweedie ****************\n",
      "Training until validation scores don't improve for 86 rounds\n"
     ]
    },
    {
     "name": "stderr",
     "output_type": "stream",
     "text": [
      "[I 2023-12-21 17:20:01,516] Trial 1 finished with value: 0.0 and parameters: {'lambda_l1': 179.09395521072645, 'lambda_l2': 297.67498107638266, 'learning_rate': 0.1370404836586419, 'num_leaves': 69, 'feature_fraction': 0.56079821585888, 'min_data_in_leaf': 1478}. Best is trial 0 with value: 0.0.\n"
     ]
    },
    {
     "name": "stdout",
     "output_type": "stream",
     "text": [
      "Early stopping, best iteration is:\n",
      "[1]\tvalid_0's ER: 0\n",
      "Evaluated only: ER\n",
      "**************** tweedie ****************\n",
      "Training until validation scores don't improve for 98 rounds\n"
     ]
    },
    {
     "name": "stderr",
     "output_type": "stream",
     "text": [
      "[I 2023-12-21 17:20:02,266] Trial 2 finished with value: 0.0 and parameters: {'lambda_l1': 15.363036813446529, 'lambda_l2': 498.5680278892125, 'learning_rate': 0.10338580392182814, 'num_leaves': 991, 'feature_fraction': 0.8100867470896287, 'min_data_in_leaf': 3190}. Best is trial 0 with value: 0.0.\n"
     ]
    },
    {
     "name": "stdout",
     "output_type": "stream",
     "text": [
      "Early stopping, best iteration is:\n",
      "[1]\tvalid_0's ER: 0\n",
      "Evaluated only: ER\n",
      "**************** tweedie ****************\n",
      "Training until validation scores don't improve for 70 rounds\n"
     ]
    },
    {
     "name": "stderr",
     "output_type": "stream",
     "text": [
      "[I 2023-12-21 17:20:02,772] Trial 3 finished with value: 0.0 and parameters: {'lambda_l1': 788.848225429068, 'lambda_l2': 532.4343897800499, 'learning_rate': 0.24120640184879052, 'num_leaves': 262, 'feature_fraction': 0.5068923140419002, 'min_data_in_leaf': 6293}. Best is trial 0 with value: 0.0.\n"
     ]
    },
    {
     "name": "stdout",
     "output_type": "stream",
     "text": [
      "Early stopping, best iteration is:\n",
      "[1]\tvalid_0's ER: 0\n",
      "Evaluated only: ER\n",
      "**************** tweedie ****************\n",
      "Training until validation scores don't improve for 73 rounds\n"
     ]
    },
    {
     "name": "stderr",
     "output_type": "stream",
     "text": [
      "[I 2023-12-21 17:20:03,963] Trial 4 finished with value: 0.0 and parameters: {'lambda_l1': 859.3694831470931, 'lambda_l2': 635.2871416810802, 'learning_rate': 0.2139692752131656, 'num_leaves': 444, 'feature_fraction': 0.36980551809506496, 'min_data_in_leaf': 3708}. Best is trial 0 with value: 0.0.\n"
     ]
    },
    {
     "name": "stdout",
     "output_type": "stream",
     "text": [
      "Early stopping, best iteration is:\n",
      "[1]\tvalid_0's ER: 0\n",
      "Evaluated only: ER\n",
      "**************** tweedie ****************\n",
      "Training until validation scores don't improve for 73 rounds\n"
     ]
    },
    {
     "name": "stderr",
     "output_type": "stream",
     "text": [
      "[I 2023-12-21 17:20:04,476] Trial 5 finished with value: 0.0 and parameters: {'lambda_l1': 908.8193054898326, 'lambda_l2': 204.57710419785514, 'learning_rate': 0.21233780621753245, 'num_leaves': 645, 'feature_fraction': 0.5734776603105558, 'min_data_in_leaf': 5173}. Best is trial 0 with value: 0.0.\n"
     ]
    },
    {
     "name": "stdout",
     "output_type": "stream",
     "text": [
      "Early stopping, best iteration is:\n",
      "[1]\tvalid_0's ER: 0\n",
      "Evaluated only: ER\n",
      "**************** tweedie ****************\n",
      "Training until validation scores don't improve for 69 rounds\n",
      "Early stopping, best iteration is:\n",
      "[1]\tvalid_0's ER: 0\n",
      "Evaluated only: ER\n"
     ]
    },
    {
     "name": "stderr",
     "output_type": "stream",
     "text": [
      "[I 2023-12-21 17:20:04,894] Trial 6 finished with value: 0.0 and parameters: {'lambda_l1': 930.580450083938, 'lambda_l2': 978.8807248267788, 'learning_rate': 0.25675293257688836, 'num_leaves': 428, 'feature_fraction': 0.22598707732597473, 'min_data_in_leaf': 2500}. Best is trial 0 with value: 0.0.\n"
     ]
    },
    {
     "name": "stdout",
     "output_type": "stream",
     "text": [
      "**************** tweedie ****************\n",
      "Training until validation scores don't improve for 102 rounds\n"
     ]
    },
    {
     "name": "stderr",
     "output_type": "stream",
     "text": [
      "[I 2023-12-21 17:20:05,577] Trial 7 finished with value: 0.0 and parameters: {'lambda_l1': 302.1406302138393, 'lambda_l2': 741.1126008461687, 'learning_rate': 0.09464398837752575, 'num_leaves': 742, 'feature_fraction': 0.9867710692639475, 'min_data_in_leaf': 4992}. Best is trial 0 with value: 0.0.\n"
     ]
    },
    {
     "name": "stdout",
     "output_type": "stream",
     "text": [
      "[100]\tvalid_0's ER: 0\n",
      "Early stopping, best iteration is:\n",
      "[1]\tvalid_0's ER: 0\n",
      "Evaluated only: ER\n",
      "**************** tweedie ****************\n",
      "Training until validation scores don't improve for 69 rounds\n"
     ]
    },
    {
     "name": "stderr",
     "output_type": "stream",
     "text": [
      "[I 2023-12-21 17:20:06,070] Trial 8 finished with value: 0.0 and parameters: {'lambda_l1': 834.5619175671399, 'lambda_l2': 671.0818418812967, 'learning_rate': 0.2538783224470688, 'num_leaves': 31, 'feature_fraction': 0.5096865280804432, 'min_data_in_leaf': 145}. Best is trial 0 with value: 0.0.\n"
     ]
    },
    {
     "name": "stdout",
     "output_type": "stream",
     "text": [
      "Early stopping, best iteration is:\n",
      "[1]\tvalid_0's ER: 0\n",
      "Evaluated only: ER\n",
      "**************** tweedie ****************\n",
      "Training until validation scores don't improve for 69 rounds\n"
     ]
    },
    {
     "name": "stderr",
     "output_type": "stream",
     "text": [
      "[I 2023-12-21 17:20:06,575] Trial 9 finished with value: 0.0 and parameters: {'lambda_l1': 701.9990341864419, 'lambda_l2': 941.5041123112647, 'learning_rate': 0.2523851224043788, 'num_leaves': 373, 'feature_fraction': 0.8658429548138631, 'min_data_in_leaf': 6404}. Best is trial 0 with value: 0.0.\n"
     ]
    },
    {
     "name": "stdout",
     "output_type": "stream",
     "text": [
      "Early stopping, best iteration is:\n",
      "[1]\tvalid_0's ER: 0\n",
      "Evaluated only: ER\n",
      "# Experimentos: 10\n",
      "Mejor experimento: {'lambda_l1': 85.04207686521737, 'lambda_l2': 745.2192551421568, 'learning_rate': 0.12332662080272778, 'num_leaves': 760, 'feature_fraction': 0.6465671490893299, 'min_data_in_leaf': 6113}\n",
      "=========================================== Cluster 81 ===========================================\n"
     ]
    },
    {
     "name": "stderr",
     "output_type": "stream",
     "text": [
      "[I 2023-12-21 17:20:07,875] A new study created in memory with name: no-name-7f3c243e-fae1-4d29-839d-5fc0da5b2bb3\n"
     ]
    },
    {
     "name": "stdout",
     "output_type": "stream",
     "text": [
      "Periodos entrenar: [201701 201702 201703 201704 201705 201706 201707 201708 201709 201710\n",
      " 201711 201712 201801 201802 201803 201804 201805 201806 201807 201808\n",
      " 201809 201810 201811 201812 201901 201902 201903 201904 201905]\n",
      "Periodos validar: [201907]\n",
      "product_id a validar: 1740\n",
      "X_train: (46371, 120)\n",
      "y_train: (46371,)\n",
      "\n",
      "X_validate: (1740, 120)\n",
      "y_validate: (1740,)\n",
      "Optimizacion Bayesiana\n",
      "**************** tweedie ****************\n",
      "Training until validation scores don't improve for 97 rounds\n",
      "[100]\tvalid_0's ER: 138.62\n"
     ]
    },
    {
     "name": "stderr",
     "output_type": "stream",
     "text": [
      "[I 2023-12-21 17:20:09,105] Trial 0 finished with value: 137.38 and parameters: {'lambda_l1': 0.8921179984295868, 'lambda_l2': 809.8770443307587, 'learning_rate': 0.1051741498075222, 'num_leaves': 406, 'feature_fraction': 0.9502698297048253, 'min_data_in_leaf': 6262}. Best is trial 0 with value: 137.38.\n"
     ]
    },
    {
     "name": "stdout",
     "output_type": "stream",
     "text": [
      "Early stopping, best iteration is:\n",
      "[76]\tvalid_0's ER: 137.38\n",
      "Evaluated only: ER\n",
      "**************** tweedie ****************\n",
      "Training until validation scores don't improve for 69 rounds\n",
      "[100]\tvalid_0's ER: 141.73\n"
     ]
    },
    {
     "name": "stderr",
     "output_type": "stream",
     "text": [
      "[I 2023-12-21 17:20:09,942] Trial 1 finished with value: 141.26 and parameters: {'lambda_l1': 318.4861081358714, 'lambda_l2': 831.2750056159515, 'learning_rate': 0.2512765534074804, 'num_leaves': 267, 'feature_fraction': 0.2883288531912454, 'min_data_in_leaf': 5130}. Best is trial 0 with value: 137.38.\n"
     ]
    },
    {
     "name": "stdout",
     "output_type": "stream",
     "text": [
      "Early stopping, best iteration is:\n",
      "[108]\tvalid_0's ER: 141.03\n",
      "Evaluated only: ER\n",
      "**************** tweedie ****************\n",
      "Training until validation scores don't improve for 83 rounds\n",
      "[100]\tvalid_0's ER: 142.48\n"
     ]
    },
    {
     "name": "stderr",
     "output_type": "stream",
     "text": [
      "[I 2023-12-21 17:20:10,853] Trial 2 finished with value: 142.04 and parameters: {'lambda_l1': 281.964951303461, 'lambda_l2': 528.0515275930129, 'learning_rate': 0.1490670852159787, 'num_leaves': 391, 'feature_fraction': 0.3494589491844873, 'min_data_in_leaf': 5981}. Best is trial 0 with value: 137.38.\n"
     ]
    },
    {
     "name": "stdout",
     "output_type": "stream",
     "text": [
      "Early stopping, best iteration is:\n",
      "[102]\tvalid_0's ER: 142.03\n",
      "Evaluated only: ER\n",
      "**************** tweedie ****************\n",
      "Training until validation scores don't improve for 102 rounds\n",
      "[100]\tvalid_0's ER: 220.92\n"
     ]
    },
    {
     "name": "stderr",
     "output_type": "stream",
     "text": [
      "[I 2023-12-21 17:20:12,010] Trial 3 finished with value: 220.92 and parameters: {'lambda_l1': 884.9986382514821, 'lambda_l2': 70.10626265162433, 'learning_rate': 0.0957068505545123, 'num_leaves': 58, 'feature_fraction': 0.959289204374024, 'min_data_in_leaf': 3878}. Best is trial 0 with value: 137.38.\n"
     ]
    },
    {
     "name": "stdout",
     "output_type": "stream",
     "text": [
      "[200]\tvalid_0's ER: 220.92\n",
      "Early stopping, best iteration is:\n",
      "[98]\tvalid_0's ER: 220.92\n",
      "Evaluated only: ER\n",
      "**************** tweedie ****************\n",
      "Training until validation scores don't improve for 72 rounds\n",
      "[100]\tvalid_0's ER: 187.56\n"
     ]
    },
    {
     "name": "stderr",
     "output_type": "stream",
     "text": [
      "[I 2023-12-21 17:20:12,948] Trial 4 finished with value: 187.56 and parameters: {'lambda_l1': 627.7744753171859, 'lambda_l2': 464.6897450530484, 'learning_rate': 0.22614901635822263, 'num_leaves': 604, 'feature_fraction': 0.5227642689737759, 'min_data_in_leaf': 7245}. Best is trial 0 with value: 137.38.\n"
     ]
    },
    {
     "name": "stdout",
     "output_type": "stream",
     "text": [
      "Early stopping, best iteration is:\n",
      "[92]\tvalid_0's ER: 187.56\n",
      "Evaluated only: ER\n",
      "**************** tweedie ****************\n",
      "Training until validation scores don't improve for 72 rounds\n"
     ]
    },
    {
     "name": "stderr",
     "output_type": "stream",
     "text": [
      "[I 2023-12-21 17:20:13,771] Trial 5 finished with value: 137.68 and parameters: {'lambda_l1': 172.9573048544043, 'lambda_l2': 170.55405930195522, 'learning_rate': 0.22454943727522472, 'num_leaves': 742, 'feature_fraction': 0.9018546953068547, 'min_data_in_leaf': 7255}. Best is trial 0 with value: 137.38.\n"
     ]
    },
    {
     "name": "stdout",
     "output_type": "stream",
     "text": [
      "[100]\tvalid_0's ER: 139.31\n",
      "Early stopping, best iteration is:\n",
      "[29]\tvalid_0's ER: 137.68\n",
      "Evaluated only: ER\n",
      "**************** tweedie ****************\n",
      "Training until validation scores don't improve for 81 rounds\n",
      "[100]\tvalid_0's ER: 143.45\n"
     ]
    },
    {
     "name": "stderr",
     "output_type": "stream",
     "text": [
      "[I 2023-12-21 17:20:14,832] Trial 6 finished with value: 143.06 and parameters: {'lambda_l1': 338.4667391676277, 'lambda_l2': 619.5838843938496, 'learning_rate': 0.16055427362758468, 'num_leaves': 686, 'feature_fraction': 0.5582864187180512, 'min_data_in_leaf': 2111}. Best is trial 0 with value: 137.38.\n"
     ]
    },
    {
     "name": "stdout",
     "output_type": "stream",
     "text": [
      "Early stopping, best iteration is:\n",
      "[81]\tvalid_0's ER: 143.06\n",
      "Evaluated only: ER\n",
      "**************** tweedie ****************\n",
      "Training until validation scores don't improve for 67 rounds\n"
     ]
    },
    {
     "name": "stderr",
     "output_type": "stream",
     "text": [
      "[I 2023-12-21 17:20:15,500] Trial 7 finished with value: 204.08 and parameters: {'lambda_l1': 794.4400159659384, 'lambda_l2': 13.982534315185923, 'learning_rate': 0.2939122918570415, 'num_leaves': 316, 'feature_fraction': 0.42813946185397794, 'min_data_in_leaf': 3098}. Best is trial 0 with value: 137.38.\n"
     ]
    },
    {
     "name": "stdout",
     "output_type": "stream",
     "text": [
      "[100]\tvalid_0's ER: 204.08\n",
      "Early stopping, best iteration is:\n",
      "[43]\tvalid_0's ER: 204.08\n",
      "Evaluated only: ER\n",
      "**************** tweedie ****************\n",
      "Training until validation scores don't improve for 341 rounds\n",
      "[100]\tvalid_0's ER: 196.82\n",
      "[200]\tvalid_0's ER: 164.29\n",
      "[300]\tvalid_0's ER: 153.23\n",
      "[400]\tvalid_0's ER: 148.37\n",
      "[500]\tvalid_0's ER: 145.81\n",
      "[600]\tvalid_0's ER: 144.46\n",
      "[700]\tvalid_0's ER: 143.54\n",
      "[800]\tvalid_0's ER: 143.17\n",
      "[900]\tvalid_0's ER: 143.18\n",
      "[1000]\tvalid_0's ER: 143.26\n"
     ]
    },
    {
     "name": "stderr",
     "output_type": "stream",
     "text": [
      "[I 2023-12-21 17:20:19,096] Trial 8 finished with value: 143.08 and parameters: {'lambda_l1': 195.9166594484597, 'lambda_l2': 607.0602922671833, 'learning_rate': 0.017141924790948334, 'num_leaves': 807, 'feature_fraction': 0.2561644637928683, 'min_data_in_leaf': 6809}. Best is trial 0 with value: 137.38.\n"
     ]
    },
    {
     "name": "stdout",
     "output_type": "stream",
     "text": [
      "[1100]\tvalid_0's ER: 143.18\n",
      "Early stopping, best iteration is:\n",
      "[789]\tvalid_0's ER: 143.07\n",
      "Evaluated only: ER\n",
      "**************** tweedie ****************\n",
      "Training until validation scores don't improve for 76 rounds\n"
     ]
    },
    {
     "name": "stderr",
     "output_type": "stream",
     "text": [
      "[I 2023-12-21 17:20:20,027] Trial 9 finished with value: 138.44 and parameters: {'lambda_l1': 219.33010092670958, 'lambda_l2': 167.93607102720287, 'learning_rate': 0.18798935967589273, 'num_leaves': 617, 'feature_fraction': 0.9889240365586751, 'min_data_in_leaf': 7063}. Best is trial 0 with value: 137.38.\n"
     ]
    },
    {
     "name": "stdout",
     "output_type": "stream",
     "text": [
      "[100]\tvalid_0's ER: 138.53\n",
      "Early stopping, best iteration is:\n",
      "[51]\tvalid_0's ER: 138.44\n",
      "Evaluated only: ER\n",
      "# Experimentos: 10\n",
      "Mejor experimento: {'lambda_l1': 0.8921179984295868, 'lambda_l2': 809.8770443307587, 'learning_rate': 0.1051741498075222, 'num_leaves': 406, 'feature_fraction': 0.9502698297048253, 'min_data_in_leaf': 6262}\n",
      "=========================================== Cluster 82 ===========================================\n"
     ]
    },
    {
     "name": "stderr",
     "output_type": "stream",
     "text": [
      "[I 2023-12-21 17:20:21,007] A new study created in memory with name: no-name-46055acf-1b4c-43e1-a7b8-ac63c7ed3f84\n"
     ]
    },
    {
     "name": "stdout",
     "output_type": "stream",
     "text": [
      "Periodos entrenar: [201701 201702 201703 201704 201705 201706 201707 201708 201709 201710\n",
      " 201711 201712 201801 201802 201803 201804 201805 201806 201807 201808\n",
      " 201809 201810 201811 201812 201901 201902 201903 201904 201905]\n",
      "Periodos validar: [201907]\n",
      "product_id a validar: 1740\n",
      "X_train: (32055, 120)\n",
      "y_train: (32055,)\n",
      "\n",
      "X_validate: (1740, 120)\n",
      "y_validate: (1740,)\n",
      "Optimizacion Bayesiana\n",
      "**************** tweedie ****************\n",
      "Training until validation scores don't improve for 86 rounds\n",
      "[100]\tvalid_0's ER: 209.73\n",
      "[200]\tvalid_0's ER: 208.21\n",
      "[300]\tvalid_0's ER: 208\n",
      "[400]\tvalid_0's ER: 207.9\n"
     ]
    },
    {
     "name": "stderr",
     "output_type": "stream",
     "text": [
      "[I 2023-12-21 17:20:22,859] Trial 0 finished with value: 207.88 and parameters: {'lambda_l1': 836.3771884992757, 'lambda_l2': 924.3885149095707, 'learning_rate': 0.1359371384382953, 'num_leaves': 1012, 'feature_fraction': 0.26865726131340983, 'min_data_in_leaf': 2437}. Best is trial 0 with value: 207.88.\n"
     ]
    },
    {
     "name": "stdout",
     "output_type": "stream",
     "text": [
      "[500]\tvalid_0's ER: 207.88\n",
      "Early stopping, best iteration is:\n",
      "[447]\tvalid_0's ER: 207.88\n",
      "Evaluated only: ER\n",
      "**************** tweedie ****************\n",
      "Training until validation scores don't improve for 110 rounds\n",
      "[100]\tvalid_0's ER: 162.57\n",
      "[200]\tvalid_0's ER: 159.91\n"
     ]
    },
    {
     "name": "stderr",
     "output_type": "stream",
     "text": [
      "[I 2023-12-21 17:20:23,997] Trial 1 finished with value: 159.91 and parameters: {'lambda_l1': 604.0516505965496, 'lambda_l2': 530.8136093364475, 'learning_rate': 0.08270063165685379, 'num_leaves': 198, 'feature_fraction': 0.7858204107035947, 'min_data_in_leaf': 2296}. Best is trial 1 with value: 159.91.\n"
     ]
    },
    {
     "name": "stdout",
     "output_type": "stream",
     "text": [
      "[300]\tvalid_0's ER: 159.91\n",
      "Early stopping, best iteration is:\n",
      "[196]\tvalid_0's ER: 159.91\n",
      "Evaluated only: ER\n",
      "**************** tweedie ****************\n",
      "Training until validation scores don't improve for 138 rounds\n",
      "[100]\tvalid_0's ER: 167.7\n",
      "[200]\tvalid_0's ER: 160.28\n",
      "[300]\tvalid_0's ER: 158.13\n",
      "[400]\tvalid_0's ER: 157.6\n",
      "[500]\tvalid_0's ER: 157.43\n"
     ]
    },
    {
     "name": "stderr",
     "output_type": "stream",
     "text": [
      "[I 2023-12-21 17:20:26,061] Trial 2 finished with value: 157.43 and parameters: {'lambda_l1': 592.511925434718, 'lambda_l2': 972.6974428411482, 'learning_rate': 0.05658109616528911, 'num_leaves': 837, 'feature_fraction': 0.8092159215138877, 'min_data_in_leaf': 2622}. Best is trial 2 with value: 157.43.\n"
     ]
    },
    {
     "name": "stdout",
     "output_type": "stream",
     "text": [
      "[600]\tvalid_0's ER: 157.43\n",
      "Early stopping, best iteration is:\n",
      "[473]\tvalid_0's ER: 157.43\n",
      "Evaluated only: ER\n",
      "**************** tweedie ****************\n",
      "Training until validation scores don't improve for 67 rounds\n",
      "[100]\tvalid_0's ER: 138.58\n"
     ]
    },
    {
     "name": "stderr",
     "output_type": "stream",
     "text": [
      "[I 2023-12-21 17:20:26,804] Trial 3 finished with value: 138.51 and parameters: {'lambda_l1': 432.6257100910772, 'lambda_l2': 833.4798349526012, 'learning_rate': 0.29108729108879533, 'num_leaves': 691, 'feature_fraction': 0.7659401917375506, 'min_data_in_leaf': 3891}. Best is trial 3 with value: 138.51.\n"
     ]
    },
    {
     "name": "stdout",
     "output_type": "stream",
     "text": [
      "Early stopping, best iteration is:\n",
      "[113]\tvalid_0's ER: 138.51\n",
      "Evaluated only: ER\n",
      "**************** tweedie ****************\n",
      "Training until validation scores don't improve for 72 rounds\n",
      "[100]\tvalid_0's ER: 126.23\n"
     ]
    },
    {
     "name": "stderr",
     "output_type": "stream",
     "text": [
      "[I 2023-12-21 17:20:27,561] Trial 4 finished with value: 126.17 and parameters: {'lambda_l1': 304.34391284788296, 'lambda_l2': 461.9935881254037, 'learning_rate': 0.22658963212860359, 'num_leaves': 990, 'feature_fraction': 0.7963226231606677, 'min_data_in_leaf': 5490}. Best is trial 4 with value: 126.17.\n"
     ]
    },
    {
     "name": "stdout",
     "output_type": "stream",
     "text": [
      "Early stopping, best iteration is:\n",
      "[107]\tvalid_0's ER: 126.17\n",
      "Evaluated only: ER\n",
      "**************** tweedie ****************\n",
      "Training until validation scores don't improve for 73 rounds\n",
      "[100]\tvalid_0's ER: 135.99\n"
     ]
    },
    {
     "name": "stderr",
     "output_type": "stream",
     "text": [
      "[I 2023-12-21 17:20:28,301] Trial 5 finished with value: 135.94 and parameters: {'lambda_l1': 392.138908623378, 'lambda_l2': 739.0781173252752, 'learning_rate': 0.21260795499471308, 'num_leaves': 731, 'feature_fraction': 0.9622458756330226, 'min_data_in_leaf': 6839}. Best is trial 4 with value: 126.17.\n"
     ]
    },
    {
     "name": "stdout",
     "output_type": "stream",
     "text": [
      "Early stopping, best iteration is:\n",
      "[101]\tvalid_0's ER: 135.94\n",
      "Evaluated only: ER\n",
      "**************** tweedie ****************\n",
      "Training until validation scores don't improve for 77 rounds\n",
      "[100]\tvalid_0's ER: 184.65\n"
     ]
    },
    {
     "name": "stderr",
     "output_type": "stream",
     "text": [
      "[I 2023-12-21 17:20:29,163] Trial 6 finished with value: 184.64 and parameters: {'lambda_l1': 718.6154120947732, 'lambda_l2': 179.04710776869126, 'learning_rate': 0.1825803020233828, 'num_leaves': 59, 'feature_fraction': 0.422566369579183, 'min_data_in_leaf': 4425}. Best is trial 4 with value: 126.17.\n"
     ]
    },
    {
     "name": "stdout",
     "output_type": "stream",
     "text": [
      "Early stopping, best iteration is:\n",
      "[114]\tvalid_0's ER: 184.64\n",
      "Evaluated only: ER\n",
      "**************** tweedie ****************\n",
      "Training until validation scores don't improve for 130 rounds\n",
      "[100]\tvalid_0's ER: 111.35\n",
      "[200]\tvalid_0's ER: 104.44\n",
      "[300]\tvalid_0's ER: 103.31\n",
      "[400]\tvalid_0's ER: 102.71\n",
      "[500]\tvalid_0's ER: 102.37\n",
      "[600]\tvalid_0's ER: 102.12\n",
      "[700]\tvalid_0's ER: 102.05\n",
      "[800]\tvalid_0's ER: 101.99\n",
      "[900]\tvalid_0's ER: 101.98\n",
      "Early stopping, best iteration is:\n",
      "[829]\tvalid_0's ER: 101.98\n",
      "Evaluated only: ER\n"
     ]
    },
    {
     "name": "stderr",
     "output_type": "stream",
     "text": [
      "[I 2023-12-21 17:20:32,563] Trial 7 finished with value: 101.98 and parameters: {'lambda_l1': 32.69050651546901, 'lambda_l2': 371.3114763092583, 'learning_rate': 0.06249261835779289, 'num_leaves': 207, 'feature_fraction': 0.9083865426519557, 'min_data_in_leaf': 6014}. Best is trial 7 with value: 101.98.\n"
     ]
    },
    {
     "name": "stdout",
     "output_type": "stream",
     "text": [
      "**************** tweedie ****************\n",
      "Training until validation scores don't improve for 136 rounds\n",
      "[100]\tvalid_0's ER: 156.18\n",
      "[200]\tvalid_0's ER: 150.3\n",
      "[300]\tvalid_0's ER: 148.86\n",
      "[400]\tvalid_0's ER: 148.38\n"
     ]
    },
    {
     "name": "stderr",
     "output_type": "stream",
     "text": [
      "[I 2023-12-21 17:20:34,480] Trial 8 finished with value: 148.39 and parameters: {'lambda_l1': 521.4896175151772, 'lambda_l2': 607.0439911626611, 'learning_rate': 0.05805120927921728, 'num_leaves': 337, 'feature_fraction': 0.33293976224307464, 'min_data_in_leaf': 3412}. Best is trial 7 with value: 101.98.\n"
     ]
    },
    {
     "name": "stdout",
     "output_type": "stream",
     "text": [
      "[500]\tvalid_0's ER: 148.39\n",
      "Early stopping, best iteration is:\n",
      "[365]\tvalid_0's ER: 148.38\n",
      "Evaluated only: ER\n",
      "**************** tweedie ****************\n",
      "Training until validation scores don't improve for 310 rounds\n",
      "[100]\tvalid_0's ER: 169.76\n",
      "[200]\tvalid_0's ER: 149.52\n",
      "[300]\tvalid_0's ER: 141.09\n",
      "[400]\tvalid_0's ER: 135.82\n",
      "[500]\tvalid_0's ER: 132.51\n",
      "[600]\tvalid_0's ER: 130.35\n",
      "[700]\tvalid_0's ER: 128.86\n",
      "[800]\tvalid_0's ER: 127.75\n",
      "[900]\tvalid_0's ER: 126.83\n",
      "[1000]\tvalid_0's ER: 126.44\n",
      "[1100]\tvalid_0's ER: 125.99\n",
      "[1200]\tvalid_0's ER: 125.61\n",
      "[1300]\tvalid_0's ER: 125.25\n",
      "[1400]\tvalid_0's ER: 125.18\n",
      "[1500]\tvalid_0's ER: 125.01\n",
      "[1600]\tvalid_0's ER: 124.71\n",
      "[1700]\tvalid_0's ER: 124.55\n",
      "[1800]\tvalid_0's ER: 124.43\n",
      "[1900]\tvalid_0's ER: 124.44\n",
      "[2000]\tvalid_0's ER: 124.3\n",
      "[2100]\tvalid_0's ER: 124.24\n",
      "[2200]\tvalid_0's ER: 124.21\n",
      "[2300]\tvalid_0's ER: 124.19\n",
      "[2400]\tvalid_0's ER: 124.19\n",
      "[2500]\tvalid_0's ER: 124.15\n",
      "[2600]\tvalid_0's ER: 124.15\n",
      "[2700]\tvalid_0's ER: 124.13\n",
      "[2800]\tvalid_0's ER: 124.13\n",
      "[2900]\tvalid_0's ER: 124.13\n",
      "[3000]\tvalid_0's ER: 124.11\n",
      "[3100]\tvalid_0's ER: 124.1\n",
      "[3200]\tvalid_0's ER: 124.1\n"
     ]
    },
    {
     "name": "stderr",
     "output_type": "stream",
     "text": [
      "[I 2023-12-21 17:20:44,845] Trial 9 finished with value: 124.1 and parameters: {'lambda_l1': 291.030913360693, 'lambda_l2': 971.4515831247984, 'learning_rate': 0.019183542922129218, 'num_leaves': 974, 'feature_fraction': 0.8214634694346488, 'min_data_in_leaf': 6663}. Best is trial 7 with value: 101.98.\n"
     ]
    },
    {
     "name": "stdout",
     "output_type": "stream",
     "text": [
      "[3300]\tvalid_0's ER: 124.1\n",
      "Early stopping, best iteration is:\n",
      "[3004]\tvalid_0's ER: 124.1\n",
      "Evaluated only: ER\n",
      "# Experimentos: 10\n",
      "Mejor experimento: {'lambda_l1': 32.69050651546901, 'lambda_l2': 371.3114763092583, 'learning_rate': 0.06249261835779289, 'num_leaves': 207, 'feature_fraction': 0.9083865426519557, 'min_data_in_leaf': 6014}\n",
      "=========================================== Cluster 83 ===========================================\n"
     ]
    },
    {
     "name": "stderr",
     "output_type": "stream",
     "text": [
      "[I 2023-12-21 17:20:46,083] A new study created in memory with name: no-name-64b3f7c9-7bb5-4265-a697-292115c5a7ea\n"
     ]
    },
    {
     "name": "stdout",
     "output_type": "stream",
     "text": [
      "Periodos entrenar: [201701 201702 201703 201704 201705 201706 201707 201708 201709 201710\n",
      " 201711 201712 201801 201802 201803 201804 201805 201806 201807 201808\n",
      " 201809 201810 201811 201812 201901 201902 201903 201904 201905]\n",
      "Periodos validar: [201907]\n",
      "product_id a validar: 2900\n",
      "X_train: (35453, 120)\n",
      "y_train: (35453,)\n",
      "\n",
      "X_validate: (2900, 120)\n",
      "y_validate: (2900,)\n",
      "Optimizacion Bayesiana\n",
      "**************** tweedie ****************\n",
      "Training until validation scores don't improve for 106 rounds\n",
      "[100]\tvalid_0's ER: 343.61\n"
     ]
    },
    {
     "name": "stderr",
     "output_type": "stream",
     "text": [
      "[I 2023-12-21 17:20:47,081] Trial 0 finished with value: 343.56 and parameters: {'lambda_l1': 686.0092140906607, 'lambda_l2': 771.0145622861519, 'learning_rate': 0.08816293488717736, 'num_leaves': 51, 'feature_fraction': 0.8035708427532691, 'min_data_in_leaf': 81}. Best is trial 0 with value: 343.56.\n"
     ]
    },
    {
     "name": "stdout",
     "output_type": "stream",
     "text": [
      "Early stopping, best iteration is:\n",
      "[62]\tvalid_0's ER: 343.53\n",
      "Evaluated only: ER\n",
      "**************** tweedie ****************\n",
      "Training until validation scores don't improve for 66 rounds\n"
     ]
    },
    {
     "name": "stderr",
     "output_type": "stream",
     "text": [
      "[I 2023-12-21 17:20:47,773] Trial 1 finished with value: 244.94 and parameters: {'lambda_l1': 497.54456316770967, 'lambda_l2': 673.9973258169804, 'learning_rate': 0.29475361636149955, 'num_leaves': 350, 'feature_fraction': 0.8569863148076413, 'min_data_in_leaf': 150}. Best is trial 1 with value: 244.94.\n"
     ]
    },
    {
     "name": "stdout",
     "output_type": "stream",
     "text": [
      "Early stopping, best iteration is:\n",
      "[27]\tvalid_0's ER: 244.94\n",
      "Evaluated only: ER\n",
      "**************** tweedie ****************\n",
      "Training until validation scores don't improve for 94 rounds\n"
     ]
    },
    {
     "name": "stderr",
     "output_type": "stream",
     "text": [
      "[I 2023-12-21 17:20:48,309] Trial 2 finished with value: 452.69 and parameters: {'lambda_l1': 807.8153969397414, 'lambda_l2': 729.605579766012, 'learning_rate': 0.11145363229084483, 'num_leaves': 822, 'feature_fraction': 0.2974303627338348, 'min_data_in_leaf': 7914}. Best is trial 1 with value: 244.94.\n"
     ]
    },
    {
     "name": "stdout",
     "output_type": "stream",
     "text": [
      "Early stopping, best iteration is:\n",
      "[1]\tvalid_0's ER: 100.3\n",
      "Evaluated only: ER\n",
      "**************** tweedie ****************\n",
      "Training until validation scores don't improve for 80 rounds\n"
     ]
    },
    {
     "name": "stderr",
     "output_type": "stream",
     "text": [
      "[I 2023-12-21 17:20:48,859] Trial 3 finished with value: 452.69 and parameters: {'lambda_l1': 774.7835455352607, 'lambda_l2': 380.4146013715153, 'learning_rate': 0.16276217975833862, 'num_leaves': 10, 'feature_fraction': 0.5901431737212672, 'min_data_in_leaf': 5074}. Best is trial 1 with value: 244.94.\n"
     ]
    },
    {
     "name": "stdout",
     "output_type": "stream",
     "text": [
      "Early stopping, best iteration is:\n",
      "[1]\tvalid_0's ER: 100.3\n",
      "Evaluated only: ER\n",
      "**************** tweedie ****************\n",
      "Training until validation scores don't improve for 86 rounds\n",
      "[100]\tvalid_0's ER: 153.27\n",
      "[200]\tvalid_0's ER: 140.73\n"
     ]
    },
    {
     "name": "stderr",
     "output_type": "stream",
     "text": [
      "[I 2023-12-21 17:20:50,529] Trial 4 finished with value: 140.43 and parameters: {'lambda_l1': 185.85616561441464, 'lambda_l2': 990.5914132249842, 'learning_rate': 0.13553745247586757, 'num_leaves': 696, 'feature_fraction': 0.4673629326341259, 'min_data_in_leaf': 2572}. Best is trial 4 with value: 140.43.\n"
     ]
    },
    {
     "name": "stdout",
     "output_type": "stream",
     "text": [
      "[300]\tvalid_0's ER: 140.5\n",
      "Early stopping, best iteration is:\n",
      "[259]\tvalid_0's ER: 140.42\n",
      "Evaluated only: ER\n",
      "**************** tweedie ****************\n",
      "Training until validation scores don't improve for 132 rounds\n",
      "[100]\tvalid_0's ER: 346.75\n",
      "[200]\tvalid_0's ER: 338.22\n",
      "[300]\tvalid_0's ER: 337.52\n"
     ]
    },
    {
     "name": "stderr",
     "output_type": "stream",
     "text": [
      "[I 2023-12-21 17:20:52,036] Trial 5 finished with value: 337.52 and parameters: {'lambda_l1': 580.1734242666209, 'lambda_l2': 33.81620328100199, 'learning_rate': 0.0603593982239678, 'num_leaves': 842, 'feature_fraction': 0.31839025609699184, 'min_data_in_leaf': 6048}. Best is trial 4 with value: 140.43.\n"
     ]
    },
    {
     "name": "stdout",
     "output_type": "stream",
     "text": [
      "[400]\tvalid_0's ER: 337.52\n",
      "Early stopping, best iteration is:\n",
      "[276]\tvalid_0's ER: 337.52\n",
      "Evaluated only: ER\n",
      "**************** tweedie ****************\n",
      "Training until validation scores don't improve for 147 rounds\n",
      "[100]\tvalid_0's ER: 192.58\n",
      "[200]\tvalid_0's ER: 180.42\n",
      "[300]\tvalid_0's ER: 179.21\n"
     ]
    },
    {
     "name": "stderr",
     "output_type": "stream",
     "text": [
      "[I 2023-12-21 17:20:54,023] Trial 6 finished with value: 179.16 and parameters: {'lambda_l1': 276.2098406719807, 'lambda_l2': 198.27082440848486, 'learning_rate': 0.051434473594212486, 'num_leaves': 126, 'feature_fraction': 0.7188174163723062, 'min_data_in_leaf': 7171}. Best is trial 4 with value: 140.43.\n"
     ]
    },
    {
     "name": "stdout",
     "output_type": "stream",
     "text": [
      "Early stopping, best iteration is:\n",
      "[248]\tvalid_0's ER: 179.16\n",
      "Evaluated only: ER\n",
      "**************** tweedie ****************\n",
      "Training until validation scores don't improve for 68 rounds\n"
     ]
    },
    {
     "name": "stderr",
     "output_type": "stream",
     "text": [
      "[I 2023-12-21 17:20:54,659] Trial 7 finished with value: 358.99 and parameters: {'lambda_l1': 693.6149170217035, 'lambda_l2': 440.7448942291996, 'learning_rate': 0.26621698021252915, 'num_leaves': 594, 'feature_fraction': 0.7989498057649729, 'min_data_in_leaf': 3031}. Best is trial 4 with value: 140.43.\n"
     ]
    },
    {
     "name": "stdout",
     "output_type": "stream",
     "text": [
      "Early stopping, best iteration is:\n",
      "[28]\tvalid_0's ER: 358.99\n",
      "Evaluated only: ER\n",
      "**************** tweedie ****************\n",
      "Training until validation scores don't improve for 405 rounds\n",
      "[100]\tvalid_0's ER: 394.67\n",
      "[200]\tvalid_0's ER: 362.04\n",
      "[300]\tvalid_0's ER: 342.99\n",
      "[400]\tvalid_0's ER: 327.78\n",
      "[500]\tvalid_0's ER: 315.23\n",
      "[600]\tvalid_0's ER: 306.36\n",
      "[700]\tvalid_0's ER: 299.45\n",
      "[800]\tvalid_0's ER: 297.36\n",
      "[900]\tvalid_0's ER: 297.39\n",
      "[1000]\tvalid_0's ER: 297.41\n",
      "[1100]\tvalid_0's ER: 297.43\n"
     ]
    },
    {
     "name": "stderr",
     "output_type": "stream",
     "text": [
      "[I 2023-12-21 17:21:00,614] Trial 8 finished with value: 297.38 and parameters: {'lambda_l1': 607.2891765797193, 'lambda_l2': 968.2361361921893, 'learning_rate': 0.014063916205322938, 'num_leaves': 24, 'feature_fraction': 0.6035195833703482, 'min_data_in_leaf': 114}. Best is trial 4 with value: 140.43.\n"
     ]
    },
    {
     "name": "stdout",
     "output_type": "stream",
     "text": [
      "Early stopping, best iteration is:\n",
      "[748]\tvalid_0's ER: 297.35\n",
      "Evaluated only: ER\n",
      "**************** tweedie ****************\n",
      "Training until validation scores don't improve for 73 rounds\n"
     ]
    },
    {
     "name": "stderr",
     "output_type": "stream",
     "text": [
      "[I 2023-12-21 17:21:01,319] Trial 9 finished with value: 246.73 and parameters: {'lambda_l1': 513.647219853265, 'lambda_l2': 274.8955281320448, 'learning_rate': 0.2167235854295259, 'num_leaves': 948, 'feature_fraction': 0.27341537083232154, 'min_data_in_leaf': 591}. Best is trial 4 with value: 140.43.\n"
     ]
    },
    {
     "name": "stdout",
     "output_type": "stream",
     "text": [
      "[100]\tvalid_0's ER: 246.69\n",
      "Early stopping, best iteration is:\n",
      "[71]\tvalid_0's ER: 246.61\n",
      "Evaluated only: ER\n",
      "# Experimentos: 10\n",
      "Mejor experimento: {'lambda_l1': 185.85616561441464, 'lambda_l2': 990.5914132249842, 'learning_rate': 0.13553745247586757, 'num_leaves': 696, 'feature_fraction': 0.4673629326341259, 'min_data_in_leaf': 2572}\n",
      "=========================================== Cluster 84 ===========================================\n"
     ]
    },
    {
     "name": "stderr",
     "output_type": "stream",
     "text": [
      "[I 2023-12-21 17:21:02,518] A new study created in memory with name: no-name-1b88db58-3cff-40d4-86dd-a655609055df\n"
     ]
    },
    {
     "name": "stdout",
     "output_type": "stream",
     "text": [
      "Periodos entrenar: [201711 201712 201801 201802 201803 201804 201805 201806 201807 201808\n",
      " 201809 201810 201811 201812 201901 201902 201903 201904 201905]\n",
      "Periodos validar: [201907]\n",
      "product_id a validar: 2320\n",
      "X_train: (35714, 120)\n",
      "y_train: (35714,)\n",
      "\n",
      "X_validate: (2320, 120)\n",
      "y_validate: (2320,)\n",
      "Optimizacion Bayesiana\n",
      "**************** tweedie ****************\n",
      "Training until validation scores don't improve for 75 rounds\n"
     ]
    },
    {
     "name": "stderr",
     "output_type": "stream",
     "text": [
      "[I 2023-12-21 17:21:03,034] Trial 0 finished with value: 204.3 and parameters: {'lambda_l1': 874.0550600228026, 'lambda_l2': 770.1360786796154, 'learning_rate': 0.19560087258763895, 'num_leaves': 290, 'feature_fraction': 0.8400757454404677, 'min_data_in_leaf': 5236}. Best is trial 0 with value: 204.3.\n"
     ]
    },
    {
     "name": "stdout",
     "output_type": "stream",
     "text": [
      "Early stopping, best iteration is:\n",
      "[1]\tvalid_0's ER: 100.05\n",
      "Evaluated only: ER\n",
      "**************** tweedie ****************\n",
      "Training until validation scores don't improve for 86 rounds\n",
      "[100]\tvalid_0's ER: 182.26\n"
     ]
    },
    {
     "name": "stderr",
     "output_type": "stream",
     "text": [
      "[I 2023-12-21 17:21:04,165] Trial 1 finished with value: 181.92 and parameters: {'lambda_l1': 373.8804757525859, 'lambda_l2': 553.3745476258889, 'learning_rate': 0.13694673246543793, 'num_leaves': 979, 'feature_fraction': 0.5472299260861604, 'min_data_in_leaf': 6940}. Best is trial 1 with value: 181.92.\n"
     ]
    },
    {
     "name": "stdout",
     "output_type": "stream",
     "text": [
      "[200]\tvalid_0's ER: 181.92\n",
      "Early stopping, best iteration is:\n",
      "[144]\tvalid_0's ER: 181.92\n",
      "Evaluated only: ER\n",
      "**************** tweedie ****************\n",
      "Training until validation scores don't improve for 94 rounds\n"
     ]
    },
    {
     "name": "stderr",
     "output_type": "stream",
     "text": [
      "[I 2023-12-21 17:21:04,749] Trial 2 finished with value: 204.3 and parameters: {'lambda_l1': 741.7514162269944, 'lambda_l2': 191.33803458205944, 'learning_rate': 0.11305631424727758, 'num_leaves': 818, 'feature_fraction': 0.9926936155666559, 'min_data_in_leaf': 7530}. Best is trial 1 with value: 181.92.\n"
     ]
    },
    {
     "name": "stdout",
     "output_type": "stream",
     "text": [
      "Early stopping, best iteration is:\n",
      "[1]\tvalid_0's ER: 100.05\n",
      "Evaluated only: ER\n",
      "**************** tweedie ****************\n",
      "Training until validation scores don't improve for 97 rounds\n"
     ]
    },
    {
     "name": "stderr",
     "output_type": "stream",
     "text": [
      "[I 2023-12-21 17:21:05,336] Trial 3 finished with value: 204.3 and parameters: {'lambda_l1': 860.4875666138518, 'lambda_l2': 234.96997615101634, 'learning_rate': 0.10532628486793098, 'num_leaves': 553, 'feature_fraction': 0.8056954554974347, 'min_data_in_leaf': 371}. Best is trial 1 with value: 181.92.\n"
     ]
    },
    {
     "name": "stdout",
     "output_type": "stream",
     "text": [
      "Early stopping, best iteration is:\n",
      "[1]\tvalid_0's ER: 100.05\n",
      "Evaluated only: ER\n",
      "**************** tweedie ****************\n",
      "Training until validation scores don't improve for 172 rounds\n",
      "[100]\tvalid_0's ER: 121.34\n",
      "[200]\tvalid_0's ER: 118.71\n",
      "[300]\tvalid_0's ER: 118.71\n",
      "Early stopping, best iteration is:\n",
      "[178]\tvalid_0's ER: 118.64\n",
      "Evaluated only: ER\n"
     ]
    },
    {
     "name": "stderr",
     "output_type": "stream",
     "text": [
      "[I 2023-12-21 17:21:07,545] Trial 4 finished with value: 118.64 and parameters: {'lambda_l1': 112.27121031154996, 'lambda_l2': 53.45920417074546, 'learning_rate': 0.040932115974622096, 'num_leaves': 710, 'feature_fraction': 0.756168404665486, 'min_data_in_leaf': 86}. Best is trial 4 with value: 118.64.\n"
     ]
    },
    {
     "name": "stdout",
     "output_type": "stream",
     "text": [
      "**************** tweedie ****************\n",
      "Training until validation scores don't improve for 73 rounds\n"
     ]
    },
    {
     "name": "stderr",
     "output_type": "stream",
     "text": [
      "[I 2023-12-21 17:21:08,073] Trial 5 finished with value: 204.3 and parameters: {'lambda_l1': 866.5672345445569, 'lambda_l2': 662.1748211944138, 'learning_rate': 0.21518994254403584, 'num_leaves': 890, 'feature_fraction': 0.6404322448138808, 'min_data_in_leaf': 3833}. Best is trial 4 with value: 118.64.\n"
     ]
    },
    {
     "name": "stdout",
     "output_type": "stream",
     "text": [
      "Early stopping, best iteration is:\n",
      "[1]\tvalid_0's ER: 100.05\n",
      "Evaluated only: ER\n",
      "**************** tweedie ****************\n",
      "Training until validation scores don't improve for 79 rounds\n"
     ]
    },
    {
     "name": "stderr",
     "output_type": "stream",
     "text": [
      "[I 2023-12-21 17:21:08,610] Trial 6 finished with value: 204.3 and parameters: {'lambda_l1': 949.9639532626439, 'lambda_l2': 412.0325922996088, 'learning_rate': 0.1717239416573481, 'num_leaves': 463, 'feature_fraction': 0.6119541960779481, 'min_data_in_leaf': 4657}. Best is trial 4 with value: 118.64.\n"
     ]
    },
    {
     "name": "stdout",
     "output_type": "stream",
     "text": [
      "Early stopping, best iteration is:\n",
      "[1]\tvalid_0's ER: 100.05\n",
      "Evaluated only: ER\n",
      "**************** tweedie ****************\n",
      "Training until validation scores don't improve for 67 rounds\n"
     ]
    },
    {
     "name": "stderr",
     "output_type": "stream",
     "text": [
      "[I 2023-12-21 17:21:09,085] Trial 7 finished with value: 204.3 and parameters: {'lambda_l1': 913.6530597194574, 'lambda_l2': 291.2951098869362, 'learning_rate': 0.28609310302132474, 'num_leaves': 545, 'feature_fraction': 0.45200439682123283, 'min_data_in_leaf': 4102}. Best is trial 4 with value: 118.64.\n"
     ]
    },
    {
     "name": "stdout",
     "output_type": "stream",
     "text": [
      "Early stopping, best iteration is:\n",
      "[1]\tvalid_0's ER: 100.05\n",
      "Evaluated only: ER\n",
      "**************** tweedie ****************\n",
      "Training until validation scores don't improve for 73 rounds\n"
     ]
    },
    {
     "name": "stderr",
     "output_type": "stream",
     "text": [
      "[I 2023-12-21 17:21:09,920] Trial 8 finished with value: 194.89 and parameters: {'lambda_l1': 426.94197097318954, 'lambda_l2': 773.4991149076226, 'learning_rate': 0.21096708651236903, 'num_leaves': 897, 'feature_fraction': 0.8233473239940479, 'min_data_in_leaf': 3920}. Best is trial 4 with value: 118.64.\n"
     ]
    },
    {
     "name": "stdout",
     "output_type": "stream",
     "text": [
      "[100]\tvalid_0's ER: 194.9\n",
      "Early stopping, best iteration is:\n",
      "[60]\tvalid_0's ER: 194.89\n",
      "Evaluated only: ER\n",
      "**************** tweedie ****************\n",
      "Training until validation scores don't improve for 68 rounds\n"
     ]
    },
    {
     "name": "stderr",
     "output_type": "stream",
     "text": [
      "[I 2023-12-21 17:21:10,424] Trial 9 finished with value: 204.3 and parameters: {'lambda_l1': 965.7387014713155, 'lambda_l2': 355.3312225772062, 'learning_rate': 0.274039614375835, 'num_leaves': 972, 'feature_fraction': 0.7252225962892231, 'min_data_in_leaf': 7538}. Best is trial 4 with value: 118.64.\n"
     ]
    },
    {
     "name": "stdout",
     "output_type": "stream",
     "text": [
      "Early stopping, best iteration is:\n",
      "[1]\tvalid_0's ER: 100.05\n",
      "Evaluated only: ER\n",
      "# Experimentos: 10\n",
      "Mejor experimento: {'lambda_l1': 112.27121031154996, 'lambda_l2': 53.45920417074546, 'learning_rate': 0.040932115974622096, 'num_leaves': 710, 'feature_fraction': 0.756168404665486, 'min_data_in_leaf': 86}\n",
      "=========================================== Cluster 85 ===========================================\n"
     ]
    },
    {
     "name": "stderr",
     "output_type": "stream",
     "text": [
      "[I 2023-12-21 17:21:10,723] A new study created in memory with name: no-name-b45cd006-3165-4fee-8ff0-8b39b19dc482\n",
      "[I 2023-12-21 17:21:10,815] Trial 0 finished with value: 178.96 and parameters: {'lambda_l1': 850.2119925804068, 'lambda_l2': 228.7851128840286, 'learning_rate': 0.2673034297207888, 'num_leaves': 18, 'feature_fraction': 0.6216632929989607, 'min_data_in_leaf': 6467}. Best is trial 0 with value: 178.96.\n"
     ]
    },
    {
     "name": "stdout",
     "output_type": "stream",
     "text": [
      "Periodos entrenar: [201809 201810 201811 201812 201901 201902 201903 201904 201905]\n",
      "Periodos validar: [201907]\n",
      "product_id a validar: 580\n",
      "X_train: (5049, 120)\n",
      "y_train: (5049,)\n",
      "\n",
      "X_validate: (580, 120)\n",
      "y_validate: (580,)\n",
      "Optimizacion Bayesiana\n",
      "**************** tweedie ****************\n",
      "Training until validation scores don't improve for 68 rounds\n",
      "Early stopping, best iteration is:\n",
      "[1]\tvalid_0's ER: 100.05\n",
      "Evaluated only: ER\n",
      "**************** tweedie ****************\n",
      "Training until validation scores don't improve for 96 rounds\n"
     ]
    },
    {
     "name": "stderr",
     "output_type": "stream",
     "text": [
      "[I 2023-12-21 17:21:10,955] Trial 1 finished with value: 178.96 and parameters: {'lambda_l1': 913.0545361109764, 'lambda_l2': 336.91361951020036, 'learning_rate': 0.1064319785718839, 'num_leaves': 356, 'feature_fraction': 0.4064606217537165, 'min_data_in_leaf': 1714}. Best is trial 0 with value: 178.96.\n",
      "[I 2023-12-21 17:21:11,110] Trial 2 finished with value: 178.96 and parameters: {'lambda_l1': 848.0076070383619, 'lambda_l2': 193.4528266125267, 'learning_rate': 0.0773782594501371, 'num_leaves': 898, 'feature_fraction': 0.37096255883184615, 'min_data_in_leaf': 1990}. Best is trial 0 with value: 178.96.\n"
     ]
    },
    {
     "name": "stdout",
     "output_type": "stream",
     "text": [
      "Early stopping, best iteration is:\n",
      "[1]\tvalid_0's ER: 100.05\n",
      "Evaluated only: ER\n",
      "**************** tweedie ****************\n",
      "Training until validation scores don't improve for 114 rounds\n",
      "[100]\tvalid_0's ER: 100.05\n",
      "Early stopping, best iteration is:\n",
      "[1]\tvalid_0's ER: 100.05\n",
      "Evaluated only: ER\n",
      "**************** tweedie ****************\n"
     ]
    },
    {
     "name": "stderr",
     "output_type": "stream",
     "text": [
      "[I 2023-12-21 17:21:11,263] Trial 3 finished with value: 178.96 and parameters: {'lambda_l1': 397.3804498143476, 'lambda_l2': 818.4737413338156, 'learning_rate': 0.054567446886473386, 'num_leaves': 210, 'feature_fraction': 0.5029516140934871, 'min_data_in_leaf': 6750}. Best is trial 0 with value: 178.96.\n"
     ]
    },
    {
     "name": "stdout",
     "output_type": "stream",
     "text": [
      "Training until validation scores don't improve for 141 rounds\n",
      "[100]\tvalid_0's ER: 100.05\n",
      "Early stopping, best iteration is:\n",
      "[1]\tvalid_0's ER: 100.05\n",
      "Evaluated only: ER\n",
      "**************** tweedie ****************\n",
      "Training until validation scores don't improve for 92 rounds\n",
      "[100]\tvalid_0's ER: 168.8\n",
      "[200]\tvalid_0's ER: 164.81\n",
      "[300]\tvalid_0's ER: 163.29\n",
      "[400]\tvalid_0's ER: 162.76\n",
      "[500]\tvalid_0's ER: 162.62\n",
      "[600]\tvalid_0's ER: 162.56\n"
     ]
    },
    {
     "name": "stderr",
     "output_type": "stream",
     "text": [
      "[I 2023-12-21 17:21:12,122] Trial 4 finished with value: 162.53 and parameters: {'lambda_l1': 97.9004008872334, 'lambda_l2': 541.2283011822757, 'learning_rate': 0.1172238692229138, 'num_leaves': 278, 'feature_fraction': 0.8439933907176904, 'min_data_in_leaf': 543}. Best is trial 4 with value: 162.53.\n"
     ]
    },
    {
     "name": "stdout",
     "output_type": "stream",
     "text": [
      "[700]\tvalid_0's ER: 162.54\n",
      "[800]\tvalid_0's ER: 162.53\n",
      "Early stopping, best iteration is:\n",
      "[715]\tvalid_0's ER: 162.53\n",
      "Evaluated only: ER\n",
      "**************** tweedie ****************\n",
      "Training until validation scores don't improve for 75 rounds\n"
     ]
    },
    {
     "name": "stderr",
     "output_type": "stream",
     "text": [
      "[I 2023-12-21 17:21:12,238] Trial 5 finished with value: 178.96 and parameters: {'lambda_l1': 150.88645228839937, 'lambda_l2': 901.0370446798557, 'learning_rate': 0.193406804377575, 'num_leaves': 398, 'feature_fraction': 0.5546728951271005, 'min_data_in_leaf': 7919}. Best is trial 4 with value: 162.53.\n",
      "[I 2023-12-21 17:21:12,378] Trial 6 finished with value: 178.96 and parameters: {'lambda_l1': 149.74575685647616, 'lambda_l2': 617.4783885212806, 'learning_rate': 0.048504498821474236, 'num_leaves': 933, 'feature_fraction': 0.6482893766019904, 'min_data_in_leaf': 6570}. Best is trial 4 with value: 162.53.\n"
     ]
    },
    {
     "name": "stdout",
     "output_type": "stream",
     "text": [
      "Early stopping, best iteration is:\n",
      "[1]\tvalid_0's ER: 100.05\n",
      "Evaluated only: ER\n",
      "**************** tweedie ****************\n",
      "Training until validation scores don't improve for 153 rounds\n",
      "[100]\tvalid_0's ER: 100.05\n",
      "Early stopping, best iteration is:\n",
      "[1]\tvalid_0's ER: 100.05\n",
      "Evaluated only: ER\n",
      "**************** tweedie ****************\n"
     ]
    },
    {
     "name": "stderr",
     "output_type": "stream",
     "text": [
      "[I 2023-12-21 17:21:12,515] Trial 7 finished with value: 178.96 and parameters: {'lambda_l1': 413.018901667637, 'lambda_l2': 637.5424866835934, 'learning_rate': 0.15020763624302974, 'num_leaves': 721, 'feature_fraction': 0.5894313197765477, 'min_data_in_leaf': 2436}. Best is trial 4 with value: 162.53.\n"
     ]
    },
    {
     "name": "stdout",
     "output_type": "stream",
     "text": [
      "Training until validation scores don't improve for 83 rounds\n",
      "Early stopping, best iteration is:\n",
      "[1]\tvalid_0's ER: 100.05\n",
      "Evaluated only: ER\n",
      "**************** tweedie ****************\n",
      "Training until validation scores don't improve for 123 rounds\n",
      "[100]\tvalid_0's ER: 100.05\n",
      "Early stopping, best iteration is:\n",
      "[1]\tvalid_0's ER: 100.05\n",
      "Evaluated only: ER\n"
     ]
    },
    {
     "name": "stderr",
     "output_type": "stream",
     "text": [
      "[I 2023-12-21 17:21:12,640] Trial 8 finished with value: 178.96 and parameters: {'lambda_l1': 835.097051514479, 'lambda_l2': 841.1141804909339, 'learning_rate': 0.06788436092547838, 'num_leaves': 881, 'feature_fraction': 0.9138626955755449, 'min_data_in_leaf': 6096}. Best is trial 4 with value: 162.53.\n",
      "[I 2023-12-21 17:21:12,814] Trial 9 finished with value: 178.96 and parameters: {'lambda_l1': 393.52164911552853, 'lambda_l2': 941.4472751517084, 'learning_rate': 0.02625155519223145, 'num_leaves': 773, 'feature_fraction': 0.8816751572327886, 'min_data_in_leaf': 6322}. Best is trial 4 with value: 162.53.\n"
     ]
    },
    {
     "name": "stdout",
     "output_type": "stream",
     "text": [
      "**************** tweedie ****************\n",
      "Training until validation scores don't improve for 240 rounds\n",
      "[100]\tvalid_0's ER: 100.05\n",
      "[200]\tvalid_0's ER: 100.05\n",
      "Early stopping, best iteration is:\n",
      "[1]\tvalid_0's ER: 100.05\n",
      "Evaluated only: ER\n",
      "# Experimentos: 10\n",
      "Mejor experimento: {'lambda_l1': 97.9004008872334, 'lambda_l2': 541.2283011822757, 'learning_rate': 0.1172238692229138, 'num_leaves': 278, 'feature_fraction': 0.8439933907176904, 'min_data_in_leaf': 543}\n",
      "=========================================== Cluster 86 ===========================================\n",
      "Periodos entrenar: []\n",
      "Periodos validar: [201907]\n",
      "product_id a validar: 1160\n",
      "X_train: (0, 120)\n",
      "y_train: (0,)\n",
      "\n",
      "X_validate: (1160, 120)\n",
      "y_validate: (1160,)\n",
      "=========================================== Cluster 87 ===========================================\n"
     ]
    },
    {
     "name": "stderr",
     "output_type": "stream",
     "text": [
      "[I 2023-12-21 17:21:13,527] A new study created in memory with name: no-name-96bc592e-8830-4586-8784-82defe217d2d\n"
     ]
    },
    {
     "name": "stdout",
     "output_type": "stream",
     "text": [
      "Periodos entrenar: [201902 201903 201904 201905]\n",
      "Periodos validar: [201907]\n",
      "product_id a validar: 1740\n",
      "X_train: (6807, 120)\n",
      "y_train: (6807,)\n",
      "\n",
      "X_validate: (1740, 120)\n",
      "y_validate: (1740,)\n",
      "Optimizacion Bayesiana\n",
      "**************** tweedie ****************\n",
      "Training until validation scores don't improve for 79 rounds\n",
      "Early stopping, best iteration is:\n",
      "[1]\tvalid_0's ER: 100.05\n",
      "Evaluated only: ER\n"
     ]
    },
    {
     "name": "stderr",
     "output_type": "stream",
     "text": [
      "[I 2023-12-21 17:21:13,728] Trial 0 finished with value: 161.09 and parameters: {'lambda_l1': 918.4376242405447, 'lambda_l2': 839.7158967101152, 'learning_rate': 0.17127846960620088, 'num_leaves': 634, 'feature_fraction': 0.3611624888812099, 'min_data_in_leaf': 2166}. Best is trial 0 with value: 161.09.\n",
      "[I 2023-12-21 17:21:13,898] Trial 1 finished with value: 161.09 and parameters: {'lambda_l1': 121.33777596234773, 'lambda_l2': 192.34440995615887, 'learning_rate': 0.28142638501778366, 'num_leaves': 641, 'feature_fraction': 0.22549099823845964, 'min_data_in_leaf': 5916}. Best is trial 0 with value: 161.09.\n"
     ]
    },
    {
     "name": "stdout",
     "output_type": "stream",
     "text": [
      "**************** tweedie ****************\n",
      "Training until validation scores don't improve for 67 rounds\n",
      "Early stopping, best iteration is:\n",
      "[1]\tvalid_0's ER: 100.05\n",
      "Evaluated only: ER\n",
      "**************** tweedie ****************\n",
      "Training until validation scores don't improve for 68 rounds\n",
      "[100]\tvalid_0's ER: 112.71\n",
      "[200]\tvalid_0's ER: 106.67\n",
      "[300]\tvalid_0's ER: 104.69\n"
     ]
    },
    {
     "name": "stderr",
     "output_type": "stream",
     "text": [
      "[I 2023-12-21 17:21:14,812] Trial 2 finished with value: 103.67 and parameters: {'lambda_l1': 16.3233072223149, 'lambda_l2': 926.9160587577264, 'learning_rate': 0.27130990859178544, 'num_leaves': 472, 'feature_fraction': 0.9955452159651796, 'min_data_in_leaf': 779}. Best is trial 2 with value: 103.67.\n"
     ]
    },
    {
     "name": "stdout",
     "output_type": "stream",
     "text": [
      "[400]\tvalid_0's ER: 103.72\n",
      "Early stopping, best iteration is:\n",
      "[388]\tvalid_0's ER: 103.67\n",
      "Evaluated only: ER\n",
      "**************** tweedie ****************\n",
      "Training until validation scores don't improve for 225 rounds\n"
     ]
    },
    {
     "name": "stderr",
     "output_type": "stream",
     "text": [
      "[I 2023-12-21 17:21:15,109] Trial 3 finished with value: 161.09 and parameters: {'lambda_l1': 204.76095804097605, 'lambda_l2': 592.9692887209263, 'learning_rate': 0.02856896307367368, 'num_leaves': 833, 'feature_fraction': 0.7219406423959227, 'min_data_in_leaf': 4201}. Best is trial 2 with value: 103.67.\n"
     ]
    },
    {
     "name": "stdout",
     "output_type": "stream",
     "text": [
      "[100]\tvalid_0's ER: 100.05\n",
      "[200]\tvalid_0's ER: 100.05\n",
      "Early stopping, best iteration is:\n",
      "[1]\tvalid_0's ER: 100.05\n",
      "Evaluated only: ER\n",
      "**************** tweedie ****************\n",
      "Training until validation scores don't improve for 73 rounds\n"
     ]
    },
    {
     "name": "stderr",
     "output_type": "stream",
     "text": [
      "[I 2023-12-21 17:21:15,257] Trial 4 finished with value: 161.09 and parameters: {'lambda_l1': 61.09923125134764, 'lambda_l2': 546.3521990611641, 'learning_rate': 0.21560598821522284, 'num_leaves': 204, 'feature_fraction': 0.9501313483284555, 'min_data_in_leaf': 7902}. Best is trial 2 with value: 103.67.\n"
     ]
    },
    {
     "name": "stdout",
     "output_type": "stream",
     "text": [
      "Early stopping, best iteration is:\n",
      "[1]\tvalid_0's ER: 100.05\n",
      "Evaluated only: ER\n",
      "**************** tweedie ****************\n",
      "Training until validation scores don't improve for 86 rounds\n",
      "Early stopping, best iteration is:\n",
      "[1]\tvalid_0's ER: 100.05\n",
      "Evaluated only: ER\n"
     ]
    },
    {
     "name": "stderr",
     "output_type": "stream",
     "text": [
      "[I 2023-12-21 17:21:15,460] Trial 5 finished with value: 161.09 and parameters: {'lambda_l1': 618.4314030638147, 'lambda_l2': 166.24695623780272, 'learning_rate': 0.13688762370658047, 'num_leaves': 685, 'feature_fraction': 0.22427743233587727, 'min_data_in_leaf': 561}. Best is trial 2 with value: 103.67.\n",
      "[I 2023-12-21 17:21:15,658] Trial 6 finished with value: 161.09 and parameters: {'lambda_l1': 845.7417372366987, 'lambda_l2': 830.456374271116, 'learning_rate': 0.10096856091271511, 'num_leaves': 64, 'feature_fraction': 0.9831242138675462, 'min_data_in_leaf': 524}. Best is trial 2 with value: 103.67.\n"
     ]
    },
    {
     "name": "stdout",
     "output_type": "stream",
     "text": [
      "**************** tweedie ****************\n",
      "Training until validation scores don't improve for 99 rounds\n",
      "[100]\tvalid_0's ER: 100.05\n",
      "Early stopping, best iteration is:\n",
      "[1]\tvalid_0's ER: 100.05\n",
      "Evaluated only: ER\n",
      "**************** tweedie ****************\n"
     ]
    },
    {
     "name": "stderr",
     "output_type": "stream",
     "text": [
      "[I 2023-12-21 17:21:15,827] Trial 7 finished with value: 161.09 and parameters: {'lambda_l1': 544.1354006956625, 'lambda_l2': 479.59392611794425, 'learning_rate': 0.2950129934092224, 'num_leaves': 731, 'feature_fraction': 0.3068294774760869, 'min_data_in_leaf': 7548}. Best is trial 2 with value: 103.67.\n"
     ]
    },
    {
     "name": "stdout",
     "output_type": "stream",
     "text": [
      "Training until validation scores don't improve for 66 rounds\n",
      "Early stopping, best iteration is:\n",
      "[1]\tvalid_0's ER: 100.05\n",
      "Evaluated only: ER\n",
      "**************** tweedie ****************\n",
      "Training until validation scores don't improve for 74 rounds\n"
     ]
    },
    {
     "name": "stderr",
     "output_type": "stream",
     "text": [
      "[I 2023-12-21 17:21:15,985] Trial 8 finished with value: 161.09 and parameters: {'lambda_l1': 732.2684736022079, 'lambda_l2': 140.15523731184686, 'learning_rate': 0.20278165466271697, 'num_leaves': 745, 'feature_fraction': 0.6353828748565351, 'min_data_in_leaf': 4670}. Best is trial 2 with value: 103.67.\n"
     ]
    },
    {
     "name": "stdout",
     "output_type": "stream",
     "text": [
      "Early stopping, best iteration is:\n",
      "[1]\tvalid_0's ER: 100.05\n",
      "Evaluated only: ER\n",
      "**************** tweedie ****************\n",
      "Training until validation scores don't improve for 73 rounds\n",
      "Early stopping, best iteration is:\n",
      "[1]\tvalid_0's ER: 100.05\n",
      "Evaluated only: ER\n"
     ]
    },
    {
     "name": "stderr",
     "output_type": "stream",
     "text": [
      "[I 2023-12-21 17:21:16,179] Trial 9 finished with value: 161.09 and parameters: {'lambda_l1': 684.1629180792571, 'lambda_l2': 539.6305282733534, 'learning_rate': 0.20995583370086063, 'num_leaves': 553, 'feature_fraction': 0.48968618949974285, 'min_data_in_leaf': 2989}. Best is trial 2 with value: 103.67.\n"
     ]
    },
    {
     "name": "stdout",
     "output_type": "stream",
     "text": [
      "# Experimentos: 10\n",
      "Mejor experimento: {'lambda_l1': 16.3233072223149, 'lambda_l2': 926.9160587577264, 'learning_rate': 0.27130990859178544, 'num_leaves': 472, 'feature_fraction': 0.9955452159651796, 'min_data_in_leaf': 779}\n",
      "=========================================== Cluster 88 ===========================================\n"
     ]
    },
    {
     "name": "stderr",
     "output_type": "stream",
     "text": [
      "[I 2023-12-21 17:21:17,191] A new study created in memory with name: no-name-244798e3-e998-4d39-abac-c05e2e5fb0f1\n"
     ]
    },
    {
     "name": "stdout",
     "output_type": "stream",
     "text": [
      "Periodos entrenar: [201711 201712 201801 201802 201803 201804 201805 201806 201807 201808\n",
      " 201809 201810 201811 201812 201901 201902 201903 201904 201905]\n",
      "Periodos validar: [201907]\n",
      "product_id a validar: 1740\n",
      "X_train: (31218, 120)\n",
      "y_train: (31218,)\n",
      "\n",
      "X_validate: (1740, 120)\n",
      "y_validate: (1740,)\n",
      "Optimizacion Bayesiana\n",
      "**************** tweedie ****************\n"
     ]
    },
    {
     "name": "stderr",
     "output_type": "stream",
     "text": [
      "[I 2023-12-21 17:21:17,583] Trial 0 finished with value: 195.61 and parameters: {'lambda_l1': 724.9103922771483, 'lambda_l2': 784.8352437622667, 'learning_rate': 0.24784369812361426, 'num_leaves': 937, 'feature_fraction': 0.3595680460155528, 'min_data_in_leaf': 2435}. Best is trial 0 with value: 195.61.\n"
     ]
    },
    {
     "name": "stdout",
     "output_type": "stream",
     "text": [
      "Training until validation scores don't improve for 70 rounds\n",
      "Early stopping, best iteration is:\n",
      "[1]\tvalid_0's ER: 100.05\n",
      "Evaluated only: ER\n",
      "**************** tweedie ****************\n",
      "Training until validation scores don't improve for 72 rounds\n",
      "[100]\tvalid_0's ER: 179.33\n",
      "[200]\tvalid_0's ER: 179.18\n"
     ]
    },
    {
     "name": "stderr",
     "output_type": "stream",
     "text": [
      "[I 2023-12-21 17:21:18,494] Trial 1 finished with value: 179.17 and parameters: {'lambda_l1': 327.3228597001997, 'lambda_l2': 582.5128120966804, 'learning_rate': 0.22504818232854643, 'num_leaves': 930, 'feature_fraction': 0.30863701203814914, 'min_data_in_leaf': 2171}. Best is trial 1 with value: 179.17.\n"
     ]
    },
    {
     "name": "stdout",
     "output_type": "stream",
     "text": [
      "Early stopping, best iteration is:\n",
      "[226]\tvalid_0's ER: 179.17\n",
      "Evaluated only: ER\n",
      "**************** tweedie ****************\n",
      "Training until validation scores don't improve for 89 rounds\n",
      "[100]\tvalid_0's ER: 148.83\n"
     ]
    },
    {
     "name": "stderr",
     "output_type": "stream",
     "text": [
      "[I 2023-12-21 17:21:19,307] Trial 2 finished with value: 148.79 and parameters: {'lambda_l1': 198.68224453450856, 'lambda_l2': 552.6076413172061, 'learning_rate': 0.12703685611075596, 'num_leaves': 82, 'feature_fraction': 0.5019439330580783, 'min_data_in_leaf': 875}. Best is trial 2 with value: 148.79.\n"
     ]
    },
    {
     "name": "stdout",
     "output_type": "stream",
     "text": [
      "Early stopping, best iteration is:\n",
      "[94]\tvalid_0's ER: 148.79\n",
      "Evaluated only: ER\n",
      "**************** tweedie ****************\n",
      "Training until validation scores don't improve for 72 rounds\n",
      "[100]\tvalid_0's ER: 129.27\n",
      "[200]\tvalid_0's ER: 127.17\n",
      "[300]\tvalid_0's ER: 125.58\n",
      "[400]\tvalid_0's ER: 124.29\n",
      "[500]\tvalid_0's ER: 123.56\n",
      "[600]\tvalid_0's ER: 122.98\n",
      "[700]\tvalid_0's ER: 122.38\n",
      "[800]\tvalid_0's ER: 122.29\n"
     ]
    },
    {
     "name": "stderr",
     "output_type": "stream",
     "text": [
      "[I 2023-12-21 17:21:22,581] Trial 3 finished with value: 122.19 and parameters: {'lambda_l1': 8.217593575537752, 'lambda_l2': 512.7275376712794, 'learning_rate': 0.226549347774385, 'num_leaves': 984, 'feature_fraction': 0.42628411904874747, 'min_data_in_leaf': 4779}. Best is trial 3 with value: 122.19.\n"
     ]
    },
    {
     "name": "stdout",
     "output_type": "stream",
     "text": [
      "[900]\tvalid_0's ER: 122.21\n",
      "Early stopping, best iteration is:\n",
      "[870]\tvalid_0's ER: 122.19\n",
      "Evaluated only: ER\n",
      "**************** tweedie ****************\n",
      "Training until validation scores don't improve for 94 rounds\n",
      "[100]\tvalid_0's ER: 132.69\n",
      "[200]\tvalid_0's ER: 132.05\n",
      "[300]\tvalid_0's ER: 131.96\n"
     ]
    },
    {
     "name": "stderr",
     "output_type": "stream",
     "text": [
      "[I 2023-12-21 17:21:23,765] Trial 4 finished with value: 131.95 and parameters: {'lambda_l1': 88.77633355975124, 'lambda_l2': 76.12286320228556, 'learning_rate': 0.11332373733779999, 'num_leaves': 404, 'feature_fraction': 0.3138408830719013, 'min_data_in_leaf': 3597}. Best is trial 3 with value: 122.19.\n"
     ]
    },
    {
     "name": "stdout",
     "output_type": "stream",
     "text": [
      "[400]\tvalid_0's ER: 131.95\n",
      "Early stopping, best iteration is:\n",
      "[322]\tvalid_0's ER: 131.95\n",
      "Evaluated only: ER\n",
      "**************** tweedie ****************\n",
      "Training until validation scores don't improve for 68 rounds\n"
     ]
    },
    {
     "name": "stderr",
     "output_type": "stream",
     "text": [
      "[I 2023-12-21 17:21:24,435] Trial 5 finished with value: 152.6 and parameters: {'lambda_l1': 196.68293190654686, 'lambda_l2': 779.4677998501721, 'learning_rate': 0.26945020056830893, 'num_leaves': 470, 'feature_fraction': 0.6745664544274936, 'min_data_in_leaf': 2923}. Best is trial 3 with value: 122.19.\n"
     ]
    },
    {
     "name": "stdout",
     "output_type": "stream",
     "text": [
      "[100]\tvalid_0's ER: 152.6\n",
      "Early stopping, best iteration is:\n",
      "[61]\tvalid_0's ER: 152.6\n",
      "Evaluated only: ER\n",
      "**************** tweedie ****************\n",
      "Training until validation scores don't improve for 68 rounds\n",
      "[100]\tvalid_0's ER: 126.22\n"
     ]
    },
    {
     "name": "stderr",
     "output_type": "stream",
     "text": [
      "[I 2023-12-21 17:21:25,479] Trial 6 finished with value: 125.41 and parameters: {'lambda_l1': 76.47955540762052, 'lambda_l2': 774.6507820153165, 'learning_rate': 0.2671427228152038, 'num_leaves': 591, 'feature_fraction': 0.6565248279358366, 'min_data_in_leaf': 1550}. Best is trial 3 with value: 122.19.\n"
     ]
    },
    {
     "name": "stdout",
     "output_type": "stream",
     "text": [
      "[200]\tvalid_0's ER: 125.59\n",
      "Early stopping, best iteration is:\n",
      "[138]\tvalid_0's ER: 125.41\n",
      "Evaluated only: ER\n",
      "**************** tweedie ****************\n",
      "Training until validation scores don't improve for 74 rounds\n"
     ]
    },
    {
     "name": "stderr",
     "output_type": "stream",
     "text": [
      "[I 2023-12-21 17:21:26,031] Trial 7 finished with value: 152.45 and parameters: {'lambda_l1': 194.977233368963, 'lambda_l2': 111.65581201553398, 'learning_rate': 0.2075986328665297, 'num_leaves': 224, 'feature_fraction': 0.5191377816292155, 'min_data_in_leaf': 5620}. Best is trial 3 with value: 122.19.\n"
     ]
    },
    {
     "name": "stdout",
     "output_type": "stream",
     "text": [
      "[100]\tvalid_0's ER: 152.77\n",
      "Early stopping, best iteration is:\n",
      "[36]\tvalid_0's ER: 152.45\n",
      "Evaluated only: ER\n",
      "**************** tweedie ****************\n",
      "Training until validation scores don't improve for 76 rounds\n",
      "[100]\tvalid_0's ER: 128.87\n",
      "[200]\tvalid_0's ER: 128.22\n",
      "[300]\tvalid_0's ER: 128.19\n"
     ]
    },
    {
     "name": "stderr",
     "output_type": "stream",
     "text": [
      "[I 2023-12-21 17:21:27,571] Trial 8 finished with value: 128.19 and parameters: {'lambda_l1': 52.39851658290362, 'lambda_l2': 443.70779062231213, 'learning_rate': 0.18853607736602518, 'num_leaves': 805, 'feature_fraction': 0.6292278301136389, 'min_data_in_leaf': 4748}. Best is trial 3 with value: 122.19.\n"
     ]
    },
    {
     "name": "stdout",
     "output_type": "stream",
     "text": [
      "Early stopping, best iteration is:\n",
      "[297]\tvalid_0's ER: 128.19\n",
      "Evaluated only: ER\n",
      "**************** tweedie ****************\n",
      "Training until validation scores don't improve for 68 rounds\n"
     ]
    },
    {
     "name": "stderr",
     "output_type": "stream",
     "text": [
      "[I 2023-12-21 17:21:28,245] Trial 9 finished with value: 142.86 and parameters: {'lambda_l1': 154.97555257770634, 'lambda_l2': 492.5972259416872, 'learning_rate': 0.27137826551610217, 'num_leaves': 879, 'feature_fraction': 0.6894482448497297, 'min_data_in_leaf': 2568}. Best is trial 3 with value: 122.19.\n"
     ]
    },
    {
     "name": "stdout",
     "output_type": "stream",
     "text": [
      "[100]\tvalid_0's ER: 143.07\n",
      "Early stopping, best iteration is:\n",
      "[55]\tvalid_0's ER: 142.86\n",
      "Evaluated only: ER\n",
      "# Experimentos: 10\n",
      "Mejor experimento: {'lambda_l1': 8.217593575537752, 'lambda_l2': 512.7275376712794, 'learning_rate': 0.226549347774385, 'num_leaves': 984, 'feature_fraction': 0.42628411904874747, 'min_data_in_leaf': 4779}\n",
      "=========================================== Cluster 89 ===========================================\n"
     ]
    },
    {
     "name": "stderr",
     "output_type": "stream",
     "text": [
      "[I 2023-12-21 17:21:29,932] A new study created in memory with name: no-name-cef5ec74-0891-4b2b-a9e4-0cbdac4cc8d8\n"
     ]
    },
    {
     "name": "stdout",
     "output_type": "stream",
     "text": [
      "Periodos entrenar: [201701 201702 201703 201704 201705 201706 201707 201708 201709 201710\n",
      " 201711 201712 201801 201802 201803 201804 201805 201806 201807 201808\n",
      " 201809 201810 201811 201812 201901 201902 201903 201904 201905]\n",
      "Periodos validar: [201907]\n",
      "product_id a validar: 2320\n",
      "X_train: (61828, 120)\n",
      "y_train: (61828,)\n",
      "\n",
      "X_validate: (2320, 120)\n",
      "y_validate: (2320,)\n",
      "Optimizacion Bayesiana\n",
      "**************** tweedie ****************\n",
      "Training until validation scores don't improve for 75 rounds\n"
     ]
    },
    {
     "name": "stderr",
     "output_type": "stream",
     "text": [
      "[I 2023-12-21 17:21:30,618] Trial 0 finished with value: 192.13 and parameters: {'lambda_l1': 887.6452458286102, 'lambda_l2': 498.7231970864109, 'learning_rate': 0.19423761195987524, 'num_leaves': 31, 'feature_fraction': 0.367836729975969, 'min_data_in_leaf': 1054}. Best is trial 0 with value: 192.13.\n"
     ]
    },
    {
     "name": "stdout",
     "output_type": "stream",
     "text": [
      "Early stopping, best iteration is:\n",
      "[1]\tvalid_0's ER: 100.02\n",
      "Evaluated only: ER\n",
      "**************** tweedie ****************\n",
      "Training until validation scores don't improve for 83 rounds\n"
     ]
    },
    {
     "name": "stderr",
     "output_type": "stream",
     "text": [
      "[I 2023-12-21 17:21:31,803] Trial 1 finished with value: 129.98 and parameters: {'lambda_l1': 441.31178584880837, 'lambda_l2': 180.39465831370106, 'learning_rate': 0.15146968478109366, 'num_leaves': 487, 'feature_fraction': 0.7561344773773453, 'min_data_in_leaf': 1887}. Best is trial 1 with value: 129.98.\n"
     ]
    },
    {
     "name": "stdout",
     "output_type": "stream",
     "text": [
      "[100]\tvalid_0's ER: 129.98\n",
      "Early stopping, best iteration is:\n",
      "[46]\tvalid_0's ER: 129.98\n",
      "Evaluated only: ER\n",
      "**************** tweedie ****************\n",
      "Training until validation scores don't improve for 74 rounds\n",
      "[100]\tvalid_0's ER: 113.45\n",
      "[200]\tvalid_0's ER: 112.85\n"
     ]
    },
    {
     "name": "stderr",
     "output_type": "stream",
     "text": [
      "[I 2023-12-21 17:21:34,595] Trial 2 finished with value: 112.84 and parameters: {'lambda_l1': 205.38341748894874, 'lambda_l2': 688.636177803515, 'learning_rate': 0.2034656217440832, 'num_leaves': 286, 'feature_fraction': 0.9909955274310314, 'min_data_in_leaf': 6657}. Best is trial 2 with value: 112.84.\n"
     ]
    },
    {
     "name": "stdout",
     "output_type": "stream",
     "text": [
      "Early stopping, best iteration is:\n",
      "[186]\tvalid_0's ER: 112.84\n",
      "Evaluated only: ER\n",
      "**************** tweedie ****************\n",
      "Training until validation scores don't improve for 68 rounds\n",
      "[100]\tvalid_0's ER: 98.71\n",
      "[200]\tvalid_0's ER: 93.73\n",
      "[300]\tvalid_0's ER: 92.4\n",
      "[400]\tvalid_0's ER: 91.87\n",
      "[500]\tvalid_0's ER: 91.59\n"
     ]
    },
    {
     "name": "stderr",
     "output_type": "stream",
     "text": [
      "[I 2023-12-21 17:21:38,364] Trial 3 finished with value: 91.53 and parameters: {'lambda_l1': 36.65018979994728, 'lambda_l2': 709.2083051953357, 'learning_rate': 0.2687472185299566, 'num_leaves': 705, 'feature_fraction': 0.5302618130008312, 'min_data_in_leaf': 6898}. Best is trial 3 with value: 91.53.\n"
     ]
    },
    {
     "name": "stdout",
     "output_type": "stream",
     "text": [
      "[600]\tvalid_0's ER: 91.53\n",
      "Early stopping, best iteration is:\n",
      "[536]\tvalid_0's ER: 91.53\n",
      "Evaluated only: ER\n",
      "**************** tweedie ****************\n",
      "Training until validation scores don't improve for 81 rounds\n"
     ]
    },
    {
     "name": "stderr",
     "output_type": "stream",
     "text": [
      "[I 2023-12-21 17:21:39,027] Trial 4 finished with value: 192.13 and parameters: {'lambda_l1': 831.9597025294644, 'lambda_l2': 677.2018700871433, 'learning_rate': 0.15702364853948625, 'num_leaves': 369, 'feature_fraction': 0.25036147767149103, 'min_data_in_leaf': 5026}. Best is trial 3 with value: 91.53.\n"
     ]
    },
    {
     "name": "stdout",
     "output_type": "stream",
     "text": [
      "Early stopping, best iteration is:\n",
      "[1]\tvalid_0's ER: 100.02\n",
      "Evaluated only: ER\n",
      "**************** tweedie ****************\n",
      "Training until validation scores don't improve for 149 rounds\n",
      "[100]\tvalid_0's ER: 133.96\n",
      "[200]\tvalid_0's ER: 127.23\n",
      "[300]\tvalid_0's ER: 124.51\n",
      "[400]\tvalid_0's ER: 122.91\n",
      "[500]\tvalid_0's ER: 122.9\n"
     ]
    },
    {
     "name": "stderr",
     "output_type": "stream",
     "text": [
      "[I 2023-12-21 17:21:42,138] Trial 5 finished with value: 122.9 and parameters: {'lambda_l1': 380.65352082601447, 'lambda_l2': 449.1375812600343, 'learning_rate': 0.05026246550407454, 'num_leaves': 277, 'feature_fraction': 0.30841041684301534, 'min_data_in_leaf': 1463}. Best is trial 3 with value: 91.53.\n"
     ]
    },
    {
     "name": "stdout",
     "output_type": "stream",
     "text": [
      "[600]\tvalid_0's ER: 122.9\n",
      "Early stopping, best iteration is:\n",
      "[486]\tvalid_0's ER: 122.9\n",
      "Evaluated only: ER\n",
      "**************** tweedie ****************\n",
      "Training until validation scores don't improve for 89 rounds\n",
      "[100]\tvalid_0's ER: 120.34\n"
     ]
    },
    {
     "name": "stderr",
     "output_type": "stream",
     "text": [
      "[I 2023-12-21 17:21:43,755] Trial 6 finished with value: 120.27 and parameters: {'lambda_l1': 317.5860852397159, 'lambda_l2': 427.08226857024545, 'learning_rate': 0.12751143508872015, 'num_leaves': 529, 'feature_fraction': 0.7146870211503851, 'min_data_in_leaf': 5120}. Best is trial 3 with value: 91.53.\n"
     ]
    },
    {
     "name": "stdout",
     "output_type": "stream",
     "text": [
      "[200]\tvalid_0's ER: 120.31\n",
      "Early stopping, best iteration is:\n",
      "[113]\tvalid_0's ER: 120.27\n",
      "Evaluated only: ER\n",
      "**************** tweedie ****************\n",
      "Training until validation scores don't improve for 152 rounds\n",
      "[100]\tvalid_0's ER: 172.4\n",
      "[200]\tvalid_0's ER: 171.03\n"
     ]
    },
    {
     "name": "stderr",
     "output_type": "stream",
     "text": [
      "[I 2023-12-21 17:21:45,824] Trial 7 finished with value: 171.03 and parameters: {'lambda_l1': 742.2141727025125, 'lambda_l2': 627.2068187737417, 'learning_rate': 0.04863556351352741, 'num_leaves': 850, 'feature_fraction': 0.947837367057174, 'min_data_in_leaf': 2783}. Best is trial 3 with value: 91.53.\n"
     ]
    },
    {
     "name": "stdout",
     "output_type": "stream",
     "text": [
      "Early stopping, best iteration is:\n",
      "[132]\tvalid_0's ER: 171.03\n",
      "Evaluated only: ER\n",
      "**************** tweedie ****************\n",
      "Training until validation scores don't improve for 118 rounds\n",
      "[100]\tvalid_0's ER: 132\n",
      "[200]\tvalid_0's ER: 126.87\n",
      "[300]\tvalid_0's ER: 126.15\n",
      "[400]\tvalid_0's ER: 125.73\n",
      "[500]\tvalid_0's ER: 125.53\n",
      "[600]\tvalid_0's ER: 125.44\n",
      "[700]\tvalid_0's ER: 125.41\n"
     ]
    },
    {
     "name": "stderr",
     "output_type": "stream",
     "text": [
      "[I 2023-12-21 17:21:50,910] Trial 8 finished with value: 125.4 and parameters: {'lambda_l1': 337.34821646061584, 'lambda_l2': 890.121747788477, 'learning_rate': 0.07288973948595576, 'num_leaves': 232, 'feature_fraction': 0.8970625943474528, 'min_data_in_leaf': 7719}. Best is trial 3 with value: 91.53.\n"
     ]
    },
    {
     "name": "stdout",
     "output_type": "stream",
     "text": [
      "Early stopping, best iteration is:\n",
      "[658]\tvalid_0's ER: 125.4\n",
      "Evaluated only: ER\n",
      "**************** tweedie ****************\n",
      "Training until validation scores don't improve for 99 rounds\n",
      "[100]\tvalid_0's ER: 169.28\n"
     ]
    },
    {
     "name": "stderr",
     "output_type": "stream",
     "text": [
      "[I 2023-12-21 17:21:52,335] Trial 9 finished with value: 169.28 and parameters: {'lambda_l1': 737.4002948411338, 'lambda_l2': 517.9700211447591, 'learning_rate': 0.10194031680426283, 'num_leaves': 515, 'feature_fraction': 0.9143637673499163, 'min_data_in_leaf': 1164}. Best is trial 3 with value: 91.53.\n"
     ]
    },
    {
     "name": "stdout",
     "output_type": "stream",
     "text": [
      "Early stopping, best iteration is:\n",
      "[72]\tvalid_0's ER: 169.28\n",
      "Evaluated only: ER\n",
      "# Experimentos: 10\n",
      "Mejor experimento: {'lambda_l1': 36.65018979994728, 'lambda_l2': 709.2083051953357, 'learning_rate': 0.2687472185299566, 'num_leaves': 705, 'feature_fraction': 0.5302618130008312, 'min_data_in_leaf': 6898}\n",
      "=========================================== Cluster 90 ===========================================\n"
     ]
    },
    {
     "name": "stderr",
     "output_type": "stream",
     "text": [
      "[I 2023-12-21 17:21:53,268] A new study created in memory with name: no-name-a197c937-d5c6-4aff-92b5-9009ec4d52f3\n"
     ]
    },
    {
     "name": "stdout",
     "output_type": "stream",
     "text": [
      "Periodos entrenar: [201809 201810 201811 201812 201901 201902 201903 201904 201905]\n",
      "Periodos validar: [201907]\n",
      "product_id a validar: 2320\n",
      "X_train: (20196, 120)\n",
      "y_train: (20196,)\n",
      "\n",
      "X_validate: (2320, 120)\n",
      "y_validate: (2320,)\n",
      "Optimizacion Bayesiana\n",
      "**************** tweedie ****************\n",
      "Training until validation scores don't improve for 79 rounds\n"
     ]
    },
    {
     "name": "stderr",
     "output_type": "stream",
     "text": [
      "[I 2023-12-21 17:21:53,618] Trial 0 finished with value: 245.04 and parameters: {'lambda_l1': 308.4654474157551, 'lambda_l2': 709.822138041069, 'learning_rate': 0.16819061536944557, 'num_leaves': 195, 'feature_fraction': 0.9742964687241658, 'min_data_in_leaf': 124}. Best is trial 0 with value: 245.04.\n"
     ]
    },
    {
     "name": "stdout",
     "output_type": "stream",
     "text": [
      "Early stopping, best iteration is:\n",
      "[1]\tvalid_0's ER: 100.04\n",
      "Evaluated only: ER\n",
      "**************** tweedie ****************\n",
      "Training until validation scores don't improve for 218 rounds\n",
      "[100]\tvalid_0's ER: 237.15\n",
      "[200]\tvalid_0's ER: 231.59\n",
      "[300]\tvalid_0's ER: 228.5\n",
      "[400]\tvalid_0's ER: 225.27\n",
      "[500]\tvalid_0's ER: 222.93\n",
      "[600]\tvalid_0's ER: 221.46\n",
      "[700]\tvalid_0's ER: 220.33\n",
      "[800]\tvalid_0's ER: 219.46\n",
      "[900]\tvalid_0's ER: 218.61\n",
      "[1000]\tvalid_0's ER: 218.07\n",
      "[1100]\tvalid_0's ER: 217.71\n",
      "[1200]\tvalid_0's ER: 217.4\n",
      "[1300]\tvalid_0's ER: 217.14\n",
      "[1400]\tvalid_0's ER: 216.98\n",
      "[1500]\tvalid_0's ER: 216.86\n",
      "[1600]\tvalid_0's ER: 216.76\n",
      "[1700]\tvalid_0's ER: 216.69\n",
      "[1800]\tvalid_0's ER: 216.64\n",
      "[1900]\tvalid_0's ER: 216.59\n",
      "[2000]\tvalid_0's ER: 216.56\n",
      "[2100]\tvalid_0's ER: 216.55\n",
      "[2200]\tvalid_0's ER: 216.53\n",
      "[2300]\tvalid_0's ER: 216.52\n",
      "[2400]\tvalid_0's ER: 216.51\n",
      "[2500]\tvalid_0's ER: 216.5\n",
      "[2600]\tvalid_0's ER: 216.49\n",
      "[2700]\tvalid_0's ER: 216.49\n",
      "[2800]\tvalid_0's ER: 216.49\n"
     ]
    },
    {
     "name": "stderr",
     "output_type": "stream",
     "text": [
      "[I 2023-12-21 17:21:59,061] Trial 1 finished with value: 216.49 and parameters: {'lambda_l1': 148.3869601826997, 'lambda_l2': 435.0798258842232, 'learning_rate': 0.029601853298449526, 'num_leaves': 481, 'feature_fraction': 0.23330531409286204, 'min_data_in_leaf': 7498}. Best is trial 1 with value: 216.49.\n"
     ]
    },
    {
     "name": "stdout",
     "output_type": "stream",
     "text": [
      "Early stopping, best iteration is:\n",
      "[2593]\tvalid_0's ER: 216.49\n",
      "Evaluated only: ER\n",
      "**************** tweedie ****************\n",
      "Training until validation scores don't improve for 413 rounds\n",
      "[100]\tvalid_0's ER: 213.06\n",
      "[200]\tvalid_0's ER: 192.34\n",
      "[300]\tvalid_0's ER: 178.17\n",
      "[400]\tvalid_0's ER: 167.73\n",
      "[500]\tvalid_0's ER: 159.76\n",
      "[600]\tvalid_0's ER: 153.78\n",
      "[700]\tvalid_0's ER: 149.04\n",
      "[800]\tvalid_0's ER: 145.2\n",
      "[900]\tvalid_0's ER: 142.11\n",
      "[1000]\tvalid_0's ER: 139.67\n",
      "[1100]\tvalid_0's ER: 137.6\n",
      "[1200]\tvalid_0's ER: 135.93\n",
      "[1300]\tvalid_0's ER: 134.49\n",
      "[1400]\tvalid_0's ER: 133.05\n",
      "[1500]\tvalid_0's ER: 131.98\n",
      "[1600]\tvalid_0's ER: 131\n",
      "[1700]\tvalid_0's ER: 130.06\n",
      "[1800]\tvalid_0's ER: 130.03\n",
      "[1900]\tvalid_0's ER: 130.03\n",
      "[2000]\tvalid_0's ER: 130.03\n",
      "[2100]\tvalid_0's ER: 130.03\n",
      "[2200]\tvalid_0's ER: 130.05\n",
      "[2300]\tvalid_0's ER: 130.06\n",
      "Early stopping, best iteration is:\n",
      "[1931]\tvalid_0's ER: 130.01\n",
      "Evaluated only: ER\n"
     ]
    },
    {
     "name": "stderr",
     "output_type": "stream",
     "text": [
      "[I 2023-12-21 17:22:06,751] Trial 2 finished with value: 130.01 and parameters: {'lambda_l1': 78.16940622769486, 'lambda_l2': 801.1918851159456, 'learning_rate': 0.013757654890041241, 'num_leaves': 434, 'feature_fraction': 0.7374392366581048, 'min_data_in_leaf': 1128}. Best is trial 2 with value: 130.01.\n"
     ]
    },
    {
     "name": "stdout",
     "output_type": "stream",
     "text": [
      "**************** tweedie ****************\n",
      "Training until validation scores don't improve for 74 rounds\n"
     ]
    },
    {
     "name": "stderr",
     "output_type": "stream",
     "text": [
      "[I 2023-12-21 17:22:07,073] Trial 3 finished with value: 245.04 and parameters: {'lambda_l1': 504.6383212242849, 'lambda_l2': 0.47997193335946875, 'learning_rate': 0.20648141670761452, 'num_leaves': 923, 'feature_fraction': 0.4281830032394475, 'min_data_in_leaf': 6583}. Best is trial 2 with value: 130.01.\n"
     ]
    },
    {
     "name": "stdout",
     "output_type": "stream",
     "text": [
      "Early stopping, best iteration is:\n",
      "[1]\tvalid_0's ER: 100.04\n",
      "Evaluated only: ER\n",
      "**************** tweedie ****************\n",
      "Training until validation scores don't improve for 74 rounds\n"
     ]
    },
    {
     "name": "stderr",
     "output_type": "stream",
     "text": [
      "[I 2023-12-21 17:22:07,407] Trial 4 finished with value: 245.04 and parameters: {'lambda_l1': 447.24018961333877, 'lambda_l2': 752.7694991946286, 'learning_rate': 0.20440239183732387, 'num_leaves': 394, 'feature_fraction': 0.6130189256741364, 'min_data_in_leaf': 7133}. Best is trial 2 with value: 130.01.\n"
     ]
    },
    {
     "name": "stdout",
     "output_type": "stream",
     "text": [
      "Early stopping, best iteration is:\n",
      "[1]\tvalid_0's ER: 100.04\n",
      "Evaluated only: ER\n",
      "**************** tweedie ****************\n",
      "Training until validation scores don't improve for 82 rounds\n",
      "[100]\tvalid_0's ER: 132.46\n",
      "[200]\tvalid_0's ER: 126.91\n"
     ]
    },
    {
     "name": "stderr",
     "output_type": "stream",
     "text": [
      "[I 2023-12-21 17:22:08,448] Trial 5 finished with value: 125.21 and parameters: {'lambda_l1': 65.11587961628828, 'lambda_l2': 562.4782327135781, 'learning_rate': 0.1527852865024964, 'num_leaves': 830, 'feature_fraction': 0.40993423948252383, 'min_data_in_leaf': 183}. Best is trial 5 with value: 125.21.\n"
     ]
    },
    {
     "name": "stdout",
     "output_type": "stream",
     "text": [
      "[300]\tvalid_0's ER: 125.44\n",
      "Early stopping, best iteration is:\n",
      "[238]\tvalid_0's ER: 125.19\n",
      "Evaluated only: ER\n",
      "**************** tweedie ****************\n",
      "Training until validation scores don't improve for 86 rounds\n"
     ]
    },
    {
     "name": "stderr",
     "output_type": "stream",
     "text": [
      "[I 2023-12-21 17:22:08,810] Trial 6 finished with value: 245.04 and parameters: {'lambda_l1': 918.1534835439714, 'lambda_l2': 913.1264638009976, 'learning_rate': 0.13800120963412196, 'num_leaves': 451, 'feature_fraction': 0.8900333059619288, 'min_data_in_leaf': 2381}. Best is trial 5 with value: 125.21.\n"
     ]
    },
    {
     "name": "stdout",
     "output_type": "stream",
     "text": [
      "Early stopping, best iteration is:\n",
      "[1]\tvalid_0's ER: 100.04\n",
      "Evaluated only: ER\n",
      "**************** tweedie ****************\n",
      "Training until validation scores don't improve for 100 rounds\n"
     ]
    },
    {
     "name": "stderr",
     "output_type": "stream",
     "text": [
      "[I 2023-12-21 17:22:09,155] Trial 7 finished with value: 245.04 and parameters: {'lambda_l1': 908.9306869347284, 'lambda_l2': 724.4684383434837, 'learning_rate': 0.09968033398786923, 'num_leaves': 931, 'feature_fraction': 0.23744032865660838, 'min_data_in_leaf': 6146}. Best is trial 5 with value: 125.21.\n"
     ]
    },
    {
     "name": "stdout",
     "output_type": "stream",
     "text": [
      "[100]\tvalid_0's ER: 100.04\n",
      "Early stopping, best iteration is:\n",
      "[1]\tvalid_0's ER: 100.04\n",
      "Evaluated only: ER\n",
      "**************** tweedie ****************\n",
      "Training until validation scores don't improve for 84 rounds\n",
      "[100]\tvalid_0's ER: 124.66\n",
      "Early stopping, best iteration is:\n",
      "[104]\tvalid_0's ER: 124.52\n",
      "Evaluated only: ER\n"
     ]
    },
    {
     "name": "stderr",
     "output_type": "stream",
     "text": [
      "[I 2023-12-21 17:22:09,787] Trial 8 finished with value: 124.66 and parameters: {'lambda_l1': 46.1575862967738, 'lambda_l2': 123.72877407537675, 'learning_rate': 0.1435854282951922, 'num_leaves': 450, 'feature_fraction': 0.3676580071528164, 'min_data_in_leaf': 89}. Best is trial 8 with value: 124.66.\n"
     ]
    },
    {
     "name": "stdout",
     "output_type": "stream",
     "text": [
      "**************** tweedie ****************\n",
      "Training until validation scores don't improve for 86 rounds\n"
     ]
    },
    {
     "name": "stderr",
     "output_type": "stream",
     "text": [
      "[I 2023-12-21 17:22:10,110] Trial 9 finished with value: 245.04 and parameters: {'lambda_l1': 482.01619308572583, 'lambda_l2': 41.255052440857256, 'learning_rate': 0.13582056542013515, 'num_leaves': 172, 'feature_fraction': 0.23172202781187545, 'min_data_in_leaf': 3556}. Best is trial 8 with value: 124.66.\n"
     ]
    },
    {
     "name": "stdout",
     "output_type": "stream",
     "text": [
      "Early stopping, best iteration is:\n",
      "[1]\tvalid_0's ER: 100.04\n",
      "Evaluated only: ER\n",
      "# Experimentos: 10\n",
      "Mejor experimento: {'lambda_l1': 46.1575862967738, 'lambda_l2': 123.72877407537675, 'learning_rate': 0.1435854282951922, 'num_leaves': 450, 'feature_fraction': 0.3676580071528164, 'min_data_in_leaf': 89}\n",
      "=========================================== Cluster 91 ===========================================\n"
     ]
    },
    {
     "name": "stderr",
     "output_type": "stream",
     "text": [
      "[I 2023-12-21 17:22:11,017] A new study created in memory with name: no-name-5a3a4a86-fe13-433b-8a5c-377a7d199291\n"
     ]
    },
    {
     "name": "stdout",
     "output_type": "stream",
     "text": [
      "Periodos entrenar: [201701 201702 201703 201704 201705 201706 201707 201708 201709 201710\n",
      " 201711 201712 201801 201802 201803 201804 201805 201806 201807 201808\n",
      " 201809 201810 201811 201812 201901 201902 201903 201904 201905]\n",
      "Periodos validar: [201907]\n",
      "product_id a validar: 1160\n",
      "X_train: (30914, 120)\n",
      "y_train: (30914,)\n",
      "\n",
      "X_validate: (1160, 120)\n",
      "y_validate: (1160,)\n",
      "Optimizacion Bayesiana\n",
      "**************** tweedie ****************\n",
      "Training until validation scores don't improve for 78 rounds\n",
      "[100]\tvalid_0's ER: 152.3\n",
      "[200]\tvalid_0's ER: 142.64\n",
      "[300]\tvalid_0's ER: 136.11\n",
      "[400]\tvalid_0's ER: 128.79\n",
      "[500]\tvalid_0's ER: 123.13\n",
      "[600]\tvalid_0's ER: 118.73\n",
      "[700]\tvalid_0's ER: 115.94\n",
      "[800]\tvalid_0's ER: 113.95\n",
      "[900]\tvalid_0's ER: 112.04\n",
      "[1000]\tvalid_0's ER: 110.56\n",
      "[1100]\tvalid_0's ER: 108.91\n",
      "[1200]\tvalid_0's ER: 107.36\n",
      "[1300]\tvalid_0's ER: 106.4\n",
      "[1400]\tvalid_0's ER: 105.65\n",
      "[1500]\tvalid_0's ER: 104.74\n",
      "[1600]\tvalid_0's ER: 104.24\n",
      "[1700]\tvalid_0's ER: 103.62\n",
      "[1800]\tvalid_0's ER: 103.25\n",
      "[1900]\tvalid_0's ER: 102.92\n",
      "[2000]\tvalid_0's ER: 102.31\n",
      "[2100]\tvalid_0's ER: 101.92\n",
      "[2200]\tvalid_0's ER: 101.43\n",
      "[2300]\tvalid_0's ER: 100.96\n",
      "[2400]\tvalid_0's ER: 100.7\n",
      "[2500]\tvalid_0's ER: 100.41\n",
      "[2600]\tvalid_0's ER: 99.94\n",
      "[2700]\tvalid_0's ER: 99.78\n",
      "[2800]\tvalid_0's ER: 99.61\n",
      "[2900]\tvalid_0's ER: 99.56\n",
      "Early stopping, best iteration is:\n",
      "[2895]\tvalid_0's ER: 99.49\n",
      "Evaluated only: ER\n"
     ]
    },
    {
     "name": "stderr",
     "output_type": "stream",
     "text": [
      "[I 2023-12-21 17:22:26,235] Trial 0 finished with value: 99.49 and parameters: {'lambda_l1': 2.7942016644119105, 'lambda_l2': 794.7417782733004, 'learning_rate': 0.17639469295308793, 'num_leaves': 997, 'feature_fraction': 0.8913317718439211, 'min_data_in_leaf': 1509}. Best is trial 0 with value: 99.49.\n"
     ]
    },
    {
     "name": "stdout",
     "output_type": "stream",
     "text": [
      "**************** tweedie ****************\n",
      "Training until validation scores don't improve for 67 rounds\n"
     ]
    },
    {
     "name": "stderr",
     "output_type": "stream",
     "text": [
      "[I 2023-12-21 17:22:26,589] Trial 1 finished with value: 339.19 and parameters: {'lambda_l1': 862.2998554117331, 'lambda_l2': 333.19559151805845, 'learning_rate': 0.27849347549311243, 'num_leaves': 460, 'feature_fraction': 0.41636342925274117, 'min_data_in_leaf': 7048}. Best is trial 0 with value: 99.49.\n"
     ]
    },
    {
     "name": "stdout",
     "output_type": "stream",
     "text": [
      "Early stopping, best iteration is:\n",
      "[1]\tvalid_0's ER: 100.06\n",
      "Evaluated only: ER\n",
      "**************** tweedie ****************\n",
      "Training until validation scores don't improve for 86 rounds\n",
      "[100]\tvalid_0's ER: 266.29\n"
     ]
    },
    {
     "name": "stderr",
     "output_type": "stream",
     "text": [
      "[I 2023-12-21 17:22:27,417] Trial 2 finished with value: 265.35 and parameters: {'lambda_l1': 312.20923951692515, 'lambda_l2': 705.0234207117359, 'learning_rate': 0.1388532695144991, 'num_leaves': 735, 'feature_fraction': 0.8550522463871022, 'min_data_in_leaf': 1268}. Best is trial 0 with value: 99.49.\n"
     ]
    },
    {
     "name": "stdout",
     "output_type": "stream",
     "text": [
      "Early stopping, best iteration is:\n",
      "[108]\tvalid_0's ER: 265.33\n",
      "Evaluated only: ER\n",
      "**************** tweedie ****************\n",
      "Training until validation scores don't improve for 158 rounds\n"
     ]
    },
    {
     "name": "stderr",
     "output_type": "stream",
     "text": [
      "[I 2023-12-21 17:22:28,016] Trial 3 finished with value: 339.19 and parameters: {'lambda_l1': 480.2772509811658, 'lambda_l2': 124.10315210294264, 'learning_rate': 0.04599922149784065, 'num_leaves': 309, 'feature_fraction': 0.9159044399616278, 'min_data_in_leaf': 5258}. Best is trial 0 with value: 99.49.\n"
     ]
    },
    {
     "name": "stdout",
     "output_type": "stream",
     "text": [
      "[100]\tvalid_0's ER: 100.06\n",
      "Early stopping, best iteration is:\n",
      "[1]\tvalid_0's ER: 100.06\n",
      "Evaluated only: ER\n",
      "**************** tweedie ****************\n",
      "Training until validation scores don't improve for 75 rounds\n",
      "[100]\tvalid_0's ER: 143.86\n"
     ]
    },
    {
     "name": "stderr",
     "output_type": "stream",
     "text": [
      "[I 2023-12-21 17:22:28,990] Trial 4 finished with value: 142.91 and parameters: {'lambda_l1': 37.2186433075129, 'lambda_l2': 431.74169480478844, 'learning_rate': 0.19754694272877477, 'num_leaves': 96, 'feature_fraction': 0.48866284292744666, 'min_data_in_leaf': 1685}. Best is trial 0 with value: 99.49.\n"
     ]
    },
    {
     "name": "stdout",
     "output_type": "stream",
     "text": [
      "[200]\tvalid_0's ER: 143.26\n",
      "Early stopping, best iteration is:\n",
      "[149]\tvalid_0's ER: 142.91\n",
      "Evaluated only: ER\n",
      "**************** tweedie ****************\n",
      "Training until validation scores don't improve for 104 rounds\n"
     ]
    },
    {
     "name": "stderr",
     "output_type": "stream",
     "text": [
      "[I 2023-12-21 17:22:29,428] Trial 5 finished with value: 339.19 and parameters: {'lambda_l1': 793.7156421224402, 'lambda_l2': 539.1527216159263, 'learning_rate': 0.09236216672940584, 'num_leaves': 365, 'feature_fraction': 0.4485574841567654, 'min_data_in_leaf': 2114}. Best is trial 0 with value: 99.49.\n"
     ]
    },
    {
     "name": "stdout",
     "output_type": "stream",
     "text": [
      "[100]\tvalid_0's ER: 100.06\n",
      "Early stopping, best iteration is:\n",
      "[1]\tvalid_0's ER: 100.06\n",
      "Evaluated only: ER\n",
      "**************** tweedie ****************\n"
     ]
    },
    {
     "name": "stderr",
     "output_type": "stream",
     "text": [
      "[I 2023-12-21 17:22:29,751] Trial 6 finished with value: 339.19 and parameters: {'lambda_l1': 590.9019584080528, 'lambda_l2': 633.0479056389371, 'learning_rate': 0.20195167743299497, 'num_leaves': 64, 'feature_fraction': 0.20249167308117233, 'min_data_in_leaf': 7055}. Best is trial 0 with value: 99.49.\n"
     ]
    },
    {
     "name": "stdout",
     "output_type": "stream",
     "text": [
      "Training until validation scores don't improve for 74 rounds\n",
      "Early stopping, best iteration is:\n",
      "[1]\tvalid_0's ER: 100.06\n",
      "Evaluated only: ER\n",
      "**************** tweedie ****************\n"
     ]
    },
    {
     "name": "stderr",
     "output_type": "stream",
     "text": [
      "[I 2023-12-21 17:22:30,108] Trial 7 finished with value: 339.19 and parameters: {'lambda_l1': 717.1027936247474, 'lambda_l2': 482.58054497534454, 'learning_rate': 0.289893956311724, 'num_leaves': 987, 'feature_fraction': 0.41934652777310877, 'min_data_in_leaf': 3926}. Best is trial 0 with value: 99.49.\n"
     ]
    },
    {
     "name": "stdout",
     "output_type": "stream",
     "text": [
      "Training until validation scores don't improve for 67 rounds\n",
      "Early stopping, best iteration is:\n",
      "[1]\tvalid_0's ER: 100.06\n",
      "Evaluated only: ER\n",
      "**************** tweedie ****************\n",
      "Training until validation scores don't improve for 92 rounds\n",
      "Early stopping, best iteration is:\n",
      "[1]\tvalid_0's ER: 100.06\n",
      "Evaluated only: ER\n"
     ]
    },
    {
     "name": "stderr",
     "output_type": "stream",
     "text": [
      "[I 2023-12-21 17:22:30,513] Trial 8 finished with value: 339.19 and parameters: {'lambda_l1': 819.8533377888654, 'lambda_l2': 912.4262586434647, 'learning_rate': 0.11801186356653201, 'num_leaves': 485, 'feature_fraction': 0.4277317071787861, 'min_data_in_leaf': 6358}. Best is trial 0 with value: 99.49.\n"
     ]
    },
    {
     "name": "stdout",
     "output_type": "stream",
     "text": [
      "**************** tweedie ****************\n",
      "Training until validation scores don't improve for 80 rounds\n"
     ]
    },
    {
     "name": "stderr",
     "output_type": "stream",
     "text": [
      "[I 2023-12-21 17:22:30,920] Trial 9 finished with value: 339.19 and parameters: {'lambda_l1': 951.3603143795987, 'lambda_l2': 131.08234923581784, 'learning_rate': 0.16290416160919943, 'num_leaves': 465, 'feature_fraction': 0.5517915390836647, 'min_data_in_leaf': 2389}. Best is trial 0 with value: 99.49.\n"
     ]
    },
    {
     "name": "stdout",
     "output_type": "stream",
     "text": [
      "Early stopping, best iteration is:\n",
      "[1]\tvalid_0's ER: 100.06\n",
      "Evaluated only: ER\n",
      "# Experimentos: 10\n",
      "Mejor experimento: {'lambda_l1': 2.7942016644119105, 'lambda_l2': 794.7417782733004, 'learning_rate': 0.17639469295308793, 'num_leaves': 997, 'feature_fraction': 0.8913317718439211, 'min_data_in_leaf': 1509}\n",
      "=========================================== Cluster 92 ===========================================\n"
     ]
    },
    {
     "name": "stderr",
     "output_type": "stream",
     "text": [
      "[I 2023-12-21 17:22:31,832] A new study created in memory with name: no-name-100d9e74-6f1d-4a24-9698-050c5e7c51b7\n"
     ]
    },
    {
     "name": "stdout",
     "output_type": "stream",
     "text": [
      "Periodos entrenar: [201701 201702 201703 201704 201705 201706 201707 201708 201709 201710\n",
      " 201711 201712 201801 201802 201803 201804 201805 201806 201807 201808\n",
      " 201809 201810 201811 201812 201901 201902 201903 201904 201905]\n",
      "Periodos validar: [201907]\n",
      "product_id a validar: 1160\n",
      "X_train: (30914, 120)\n",
      "y_train: (30914,)\n",
      "\n",
      "X_validate: (1160, 120)\n",
      "y_validate: (1160,)\n",
      "Optimizacion Bayesiana\n",
      "**************** tweedie ****************\n"
     ]
    },
    {
     "name": "stderr",
     "output_type": "stream",
     "text": [
      "[I 2023-12-21 17:22:32,225] Trial 0 finished with value: 413.81 and parameters: {'lambda_l1': 937.0773362728368, 'lambda_l2': 359.2743396264434, 'learning_rate': 0.21316655919064706, 'num_leaves': 153, 'feature_fraction': 0.9629593467949211, 'min_data_in_leaf': 2025}. Best is trial 0 with value: 413.81.\n"
     ]
    },
    {
     "name": "stdout",
     "output_type": "stream",
     "text": [
      "Training until validation scores don't improve for 73 rounds\n",
      "Early stopping, best iteration is:\n",
      "[1]\tvalid_0's ER: 100.08\n",
      "Evaluated only: ER\n",
      "**************** tweedie ****************\n",
      "Training until validation scores don't improve for 244 rounds\n",
      "[100]\tvalid_0's ER: 100.08\n"
     ]
    },
    {
     "name": "stderr",
     "output_type": "stream",
     "text": [
      "[I 2023-12-21 17:22:33,055] Trial 1 finished with value: 413.81 and parameters: {'lambda_l1': 981.4223120137375, 'lambda_l2': 68.81706907477026, 'learning_rate': 0.025752433618640568, 'num_leaves': 833, 'feature_fraction': 0.7767930311621465, 'min_data_in_leaf': 37}. Best is trial 0 with value: 413.81.\n"
     ]
    },
    {
     "name": "stdout",
     "output_type": "stream",
     "text": [
      "[200]\tvalid_0's ER: 100.08\n",
      "Early stopping, best iteration is:\n",
      "[1]\tvalid_0's ER: 100.08\n",
      "Evaluated only: ER\n",
      "**************** tweedie ****************\n"
     ]
    },
    {
     "name": "stderr",
     "output_type": "stream",
     "text": [
      "[I 2023-12-21 17:22:33,443] Trial 2 finished with value: 413.81 and parameters: {'lambda_l1': 551.6645727270559, 'lambda_l2': 710.0843535797059, 'learning_rate': 0.239699257982387, 'num_leaves': 483, 'feature_fraction': 0.6981067124613818, 'min_data_in_leaf': 5003}. Best is trial 0 with value: 413.81.\n"
     ]
    },
    {
     "name": "stdout",
     "output_type": "stream",
     "text": [
      "Training until validation scores don't improve for 70 rounds\n",
      "Early stopping, best iteration is:\n",
      "[1]\tvalid_0's ER: 100.08\n",
      "Evaluated only: ER\n",
      "**************** tweedie ****************\n",
      "Training until validation scores don't improve for 142 rounds\n",
      "[100]\tvalid_0's ER: 406.98\n",
      "[200]\tvalid_0's ER: 405.2\n",
      "[300]\tvalid_0's ER: 404.66\n",
      "[400]\tvalid_0's ER: 404.51\n",
      "[500]\tvalid_0's ER: 404.47\n",
      "[600]\tvalid_0's ER: 404.46\n"
     ]
    },
    {
     "name": "stderr",
     "output_type": "stream",
     "text": [
      "[I 2023-12-21 17:22:35,598] Trial 3 finished with value: 404.46 and parameters: {'lambda_l1': 411.11247104359296, 'lambda_l2': 686.6287224259426, 'learning_rate': 0.054248029340974786, 'num_leaves': 943, 'feature_fraction': 0.817075787169969, 'min_data_in_leaf': 3091}. Best is trial 3 with value: 404.46.\n"
     ]
    },
    {
     "name": "stdout",
     "output_type": "stream",
     "text": [
      "Early stopping, best iteration is:\n",
      "[533]\tvalid_0's ER: 404.46\n",
      "Evaluated only: ER\n",
      "**************** tweedie ****************\n",
      "Training until validation scores don't improve for 133 rounds\n"
     ]
    },
    {
     "name": "stderr",
     "output_type": "stream",
     "text": [
      "[I 2023-12-21 17:22:36,134] Trial 4 finished with value: 413.81 and parameters: {'lambda_l1': 682.7389031338066, 'lambda_l2': 348.1603676922076, 'learning_rate': 0.05970466254330792, 'num_leaves': 410, 'feature_fraction': 0.8290706459304646, 'min_data_in_leaf': 7056}. Best is trial 3 with value: 404.46.\n"
     ]
    },
    {
     "name": "stdout",
     "output_type": "stream",
     "text": [
      "[100]\tvalid_0's ER: 100.08\n",
      "Early stopping, best iteration is:\n",
      "[1]\tvalid_0's ER: 100.08\n",
      "Evaluated only: ER\n",
      "**************** tweedie ****************\n",
      "Training until validation scores don't improve for 102 rounds\n"
     ]
    },
    {
     "name": "stderr",
     "output_type": "stream",
     "text": [
      "[I 2023-12-21 17:22:36,554] Trial 5 finished with value: 413.81 and parameters: {'lambda_l1': 432.7988619780455, 'lambda_l2': 926.6172171317085, 'learning_rate': 0.09547344864499253, 'num_leaves': 94, 'feature_fraction': 0.41597589485429476, 'min_data_in_leaf': 3990}. Best is trial 3 with value: 404.46.\n"
     ]
    },
    {
     "name": "stdout",
     "output_type": "stream",
     "text": [
      "[100]\tvalid_0's ER: 100.08\n",
      "Early stopping, best iteration is:\n",
      "[1]\tvalid_0's ER: 100.08\n",
      "Evaluated only: ER\n",
      "**************** tweedie ****************\n"
     ]
    },
    {
     "name": "stderr",
     "output_type": "stream",
     "text": [
      "[I 2023-12-21 17:22:36,905] Trial 6 finished with value: 413.81 and parameters: {'lambda_l1': 549.2863048642356, 'lambda_l2': 777.0391593487352, 'learning_rate': 0.17764148101678945, 'num_leaves': 228, 'feature_fraction': 0.2673918044354433, 'min_data_in_leaf': 3300}. Best is trial 3 with value: 404.46.\n"
     ]
    },
    {
     "name": "stdout",
     "output_type": "stream",
     "text": [
      "Training until validation scores don't improve for 78 rounds\n",
      "Early stopping, best iteration is:\n",
      "[1]\tvalid_0's ER: 100.08\n",
      "Evaluated only: ER\n",
      "**************** tweedie ****************\n",
      "Training until validation scores don't improve for 98 rounds\n"
     ]
    },
    {
     "name": "stderr",
     "output_type": "stream",
     "text": [
      "[I 2023-12-21 17:22:37,357] Trial 7 finished with value: 413.81 and parameters: {'lambda_l1': 821.9093218808822, 'lambda_l2': 310.73829493079285, 'learning_rate': 0.10384652169439564, 'num_leaves': 437, 'feature_fraction': 0.960770911188777, 'min_data_in_leaf': 434}. Best is trial 3 with value: 404.46.\n"
     ]
    },
    {
     "name": "stdout",
     "output_type": "stream",
     "text": [
      "Early stopping, best iteration is:\n",
      "[1]\tvalid_0's ER: 100.08\n",
      "Evaluated only: ER\n",
      "**************** tweedie ****************\n",
      "Training until validation scores don't improve for 75 rounds\n",
      "[100]\tvalid_0's ER: 261.11\n"
     ]
    },
    {
     "name": "stderr",
     "output_type": "stream",
     "text": [
      "[I 2023-12-21 17:22:38,228] Trial 8 finished with value: 260.91 and parameters: {'lambda_l1': 254.48429427128428, 'lambda_l2': 404.5524259576734, 'learning_rate': 0.19768762328225498, 'num_leaves': 900, 'feature_fraction': 0.9152776178883539, 'min_data_in_leaf': 3894}. Best is trial 8 with value: 260.91.\n"
     ]
    },
    {
     "name": "stdout",
     "output_type": "stream",
     "text": [
      "[200]\tvalid_0's ER: 260.91\n",
      "Early stopping, best iteration is:\n",
      "[163]\tvalid_0's ER: 260.91\n",
      "Evaluated only: ER\n",
      "**************** tweedie ****************\n"
     ]
    },
    {
     "name": "stderr",
     "output_type": "stream",
     "text": [
      "[I 2023-12-21 17:22:38,587] Trial 9 finished with value: 413.81 and parameters: {'lambda_l1': 689.4232213409506, 'lambda_l2': 637.9396216823975, 'learning_rate': 0.13266126655273894, 'num_leaves': 829, 'feature_fraction': 0.2299277816219708, 'min_data_in_leaf': 7546}. Best is trial 8 with value: 260.91.\n"
     ]
    },
    {
     "name": "stdout",
     "output_type": "stream",
     "text": [
      "Training until validation scores don't improve for 87 rounds\n",
      "Early stopping, best iteration is:\n",
      "[1]\tvalid_0's ER: 100.08\n",
      "Evaluated only: ER\n",
      "# Experimentos: 10\n",
      "Mejor experimento: {'lambda_l1': 254.48429427128428, 'lambda_l2': 404.5524259576734, 'learning_rate': 0.19768762328225498, 'num_leaves': 900, 'feature_fraction': 0.9152776178883539, 'min_data_in_leaf': 3894}\n",
      "=========================================== Cluster 93 ===========================================\n"
     ]
    },
    {
     "name": "stderr",
     "output_type": "stream",
     "text": [
      "[I 2023-12-21 17:22:39,410] A new study created in memory with name: no-name-46c90b18-4ca9-4cf9-b6cf-87f25c3f38ff\n"
     ]
    },
    {
     "name": "stdout",
     "output_type": "stream",
     "text": [
      "Periodos entrenar: [201707 201708 201709 201710 201711 201712 201801 201802 201803 201804\n",
      " 201805 201806 201807 201808 201809 201810 201811 201812 201901 201902\n",
      " 201903 201904 201905]\n",
      "Periodos validar: [201907]\n",
      "product_id a validar: 1160\n",
      "X_train: (24986, 120)\n",
      "y_train: (24986,)\n",
      "\n",
      "X_validate: (1160, 120)\n",
      "y_validate: (1160,)\n",
      "Optimizacion Bayesiana\n",
      "**************** tweedie ****************\n",
      "Training until validation scores don't improve for 80 rounds\n"
     ]
    },
    {
     "name": "stderr",
     "output_type": "stream",
     "text": [
      "[I 2023-12-21 17:22:39,720] Trial 0 finished with value: 238.92 and parameters: {'lambda_l1': 855.8410810817952, 'lambda_l2': 858.7265601856533, 'learning_rate': 0.16433164318194207, 'num_leaves': 820, 'feature_fraction': 0.2811637645193627, 'min_data_in_leaf': 7880}. Best is trial 0 with value: 238.92.\n"
     ]
    },
    {
     "name": "stdout",
     "output_type": "stream",
     "text": [
      "Early stopping, best iteration is:\n",
      "[1]\tvalid_0's ER: 100.01\n",
      "Evaluated only: ER\n",
      "**************** tweedie ****************\n",
      "Training until validation scores don't improve for 77 rounds\n"
     ]
    },
    {
     "name": "stderr",
     "output_type": "stream",
     "text": [
      "[I 2023-12-21 17:22:40,053] Trial 1 finished with value: 238.92 and parameters: {'lambda_l1': 511.66467007020367, 'lambda_l2': 938.9160700595638, 'learning_rate': 0.18247657103745804, 'num_leaves': 649, 'feature_fraction': 0.4944004324048436, 'min_data_in_leaf': 3245}. Best is trial 0 with value: 238.92.\n"
     ]
    },
    {
     "name": "stdout",
     "output_type": "stream",
     "text": [
      "Early stopping, best iteration is:\n",
      "[1]\tvalid_0's ER: 100.01\n",
      "Evaluated only: ER\n",
      "**************** tweedie ****************\n",
      "Training until validation scores don't improve for 182 rounds\n"
     ]
    },
    {
     "name": "stderr",
     "output_type": "stream",
     "text": [
      "[I 2023-12-21 17:22:40,608] Trial 2 finished with value: 238.92 and parameters: {'lambda_l1': 290.8812673368109, 'lambda_l2': 91.12148306209711, 'learning_rate': 0.03787012514476227, 'num_leaves': 47, 'feature_fraction': 0.6997410614213362, 'min_data_in_leaf': 6042}. Best is trial 0 with value: 238.92.\n"
     ]
    },
    {
     "name": "stdout",
     "output_type": "stream",
     "text": [
      "[100]\tvalid_0's ER: 100.01\n",
      "Early stopping, best iteration is:\n",
      "[1]\tvalid_0's ER: 100.01\n",
      "Evaluated only: ER\n",
      "**************** tweedie ****************\n",
      "Training until validation scores don't improve for 111 rounds\n"
     ]
    },
    {
     "name": "stderr",
     "output_type": "stream",
     "text": [
      "[I 2023-12-21 17:22:41,017] Trial 3 finished with value: 238.92 and parameters: {'lambda_l1': 205.5597151692974, 'lambda_l2': 573.7202354396613, 'learning_rate': 0.08109582452369266, 'num_leaves': 244, 'feature_fraction': 0.9963411931638542, 'min_data_in_leaf': 7854}. Best is trial 0 with value: 238.92.\n"
     ]
    },
    {
     "name": "stdout",
     "output_type": "stream",
     "text": [
      "[100]\tvalid_0's ER: 100.01\n",
      "Early stopping, best iteration is:\n",
      "[1]\tvalid_0's ER: 100.01\n",
      "Evaluated only: ER\n",
      "**************** tweedie ****************\n"
     ]
    },
    {
     "name": "stderr",
     "output_type": "stream",
     "text": [
      "[I 2023-12-21 17:22:41,367] Trial 4 finished with value: 238.92 and parameters: {'lambda_l1': 935.2829814081921, 'lambda_l2': 323.81926828843257, 'learning_rate': 0.1303191335448403, 'num_leaves': 640, 'feature_fraction': 0.4631407929483706, 'min_data_in_leaf': 3475}. Best is trial 0 with value: 238.92.\n"
     ]
    },
    {
     "name": "stdout",
     "output_type": "stream",
     "text": [
      "Training until validation scores don't improve for 88 rounds\n",
      "Early stopping, best iteration is:\n",
      "[1]\tvalid_0's ER: 100.01\n",
      "Evaluated only: ER\n",
      "**************** tweedie ****************\n"
     ]
    },
    {
     "name": "stderr",
     "output_type": "stream",
     "text": [
      "[I 2023-12-21 17:22:41,674] Trial 5 finished with value: 238.92 and parameters: {'lambda_l1': 844.1525231073447, 'lambda_l2': 973.6768407134723, 'learning_rate': 0.18781043820378815, 'num_leaves': 895, 'feature_fraction': 0.31434828968617756, 'min_data_in_leaf': 5078}. Best is trial 0 with value: 238.92.\n"
     ]
    },
    {
     "name": "stdout",
     "output_type": "stream",
     "text": [
      "Training until validation scores don't improve for 76 rounds\n",
      "Early stopping, best iteration is:\n",
      "[1]\tvalid_0's ER: 100.01\n",
      "Evaluated only: ER\n",
      "**************** tweedie ****************\n"
     ]
    },
    {
     "name": "stderr",
     "output_type": "stream",
     "text": [
      "[I 2023-12-21 17:22:42,011] Trial 6 finished with value: 238.92 and parameters: {'lambda_l1': 219.84113912070924, 'lambda_l2': 881.3194678332139, 'learning_rate': 0.13587542284793178, 'num_leaves': 141, 'feature_fraction': 0.45821922995185027, 'min_data_in_leaf': 7357}. Best is trial 0 with value: 238.92.\n"
     ]
    },
    {
     "name": "stdout",
     "output_type": "stream",
     "text": [
      "Training until validation scores don't improve for 86 rounds\n",
      "Early stopping, best iteration is:\n",
      "[1]\tvalid_0's ER: 100.01\n",
      "Evaluated only: ER\n",
      "**************** tweedie ****************\n",
      "Training until validation scores don't improve for 97 rounds\n"
     ]
    },
    {
     "name": "stderr",
     "output_type": "stream",
     "text": [
      "[I 2023-12-21 17:22:42,400] Trial 7 finished with value: 238.92 and parameters: {'lambda_l1': 970.5851857241648, 'lambda_l2': 233.97109619212586, 'learning_rate': 0.10501398474979429, 'num_leaves': 402, 'feature_fraction': 0.9460129908337596, 'min_data_in_leaf': 4231}. Best is trial 0 with value: 238.92.\n"
     ]
    },
    {
     "name": "stdout",
     "output_type": "stream",
     "text": [
      "Early stopping, best iteration is:\n",
      "[1]\tvalid_0's ER: 100.01\n",
      "Evaluated only: ER\n",
      "**************** tweedie ****************\n",
      "Training until validation scores don't improve for 73 rounds\n"
     ]
    },
    {
     "name": "stderr",
     "output_type": "stream",
     "text": [
      "[I 2023-12-21 17:22:42,744] Trial 8 finished with value: 238.92 and parameters: {'lambda_l1': 282.14988827513497, 'lambda_l2': 453.55118570120135, 'learning_rate': 0.21400455440075625, 'num_leaves': 903, 'feature_fraction': 0.6516107597028229, 'min_data_in_leaf': 799}. Best is trial 0 with value: 238.92.\n"
     ]
    },
    {
     "name": "stdout",
     "output_type": "stream",
     "text": [
      "Early stopping, best iteration is:\n",
      "[1]\tvalid_0's ER: 100.01\n",
      "Evaluated only: ER\n",
      "**************** tweedie ****************\n",
      "Training until validation scores don't improve for 132 rounds\n"
     ]
    },
    {
     "name": "stderr",
     "output_type": "stream",
     "text": [
      "[I 2023-12-21 17:22:43,206] Trial 9 finished with value: 238.92 and parameters: {'lambda_l1': 701.3146395579665, 'lambda_l2': 768.9653776453031, 'learning_rate': 0.06092722684887712, 'num_leaves': 878, 'feature_fraction': 0.5628635540970738, 'min_data_in_leaf': 2221}. Best is trial 0 with value: 238.92.\n"
     ]
    },
    {
     "name": "stdout",
     "output_type": "stream",
     "text": [
      "[100]\tvalid_0's ER: 100.01\n",
      "Early stopping, best iteration is:\n",
      "[1]\tvalid_0's ER: 100.01\n",
      "Evaluated only: ER\n",
      "# Experimentos: 10\n",
      "Mejor experimento: {'lambda_l1': 855.8410810817952, 'lambda_l2': 858.7265601856533, 'learning_rate': 0.16433164318194207, 'num_leaves': 820, 'feature_fraction': 0.2811637645193627, 'min_data_in_leaf': 7880}\n"
     ]
    }
   ],
   "source": [
    "# Entrenamiento por cluster\n",
    "er_validate_iter = [None] * num_clusters\n",
    "er_holdout_semillerio_iter = [None] * num_clusters\n",
    "params_iter = [None] * num_clusters\n",
    "best_iter_iter = [None] * num_clusters\n",
    "pred_iter = [None] * num_clusters\n",
    "prod_iter = [None] * num_clusters\n",
    "\n",
    "for i in range(0,num_clusters):\n",
    "    print(\"=========================================== Cluster\", i, \"===========================================\")\n",
    "    \n",
    "    df_sellout = pd.read_csv(prefijo_arch_entrada + str(i) + \".csv\")\n",
    "    \n",
    "    ### Categoricas\n",
    "    df_sellout = extras.convertir_categoricas_prod_cust(df_sellout)\n",
    "\n",
    "    ### Remover columnas\n",
    "    df_sellout = df_sellout.drop(columns=[\"periodo_fecha\",\"brand\"])\n",
    "    \n",
    "    ### Split de datasets\n",
    "    df_train = df_sellout[(df_sellout.periodo <= config.TRAIN_PERIODO_LIMITE_PARAM) & (df_sellout.periodo >= config.PERIODO_INICIO_PARAM)]\n",
    "    df_validate = df_sellout[(df_sellout.periodo == config.VALIDATE_PERIODO_PARAM)]\n",
    "    \n",
    "    print(\"Periodos entrenar:\",df_train.periodo.unique())\n",
    "    print(\"Periodos validar:\",df_validate.periodo.unique())\n",
    "    \n",
    "    df_validate = df_validate.sort_values(by=\"product_id\",ascending=True)\n",
    "    print(\"product_id a validar:\", len(df_validate))\n",
    "\n",
    "    ### Armado variables entrenamiento\n",
    "    cols_remover_entren = [\"tn_mas_2\",\"periodo\"]\n",
    "    \n",
    "    # Train - Validate\n",
    "    X_train = df_train.drop(columns=cols_remover_entren, axis=1)\n",
    "    X_validate = df_validate.drop(columns=cols_remover_entren, axis=1)\n",
    "    \n",
    "    y_train = df_train.tn_mas_2\n",
    "    y_validate = df_validate.tn_mas_2\n",
    "    \n",
    "    print(\"X_train:\", X_train.shape)\n",
    "    print(\"y_train:\", y_train.shape)\n",
    "    \n",
    "    print(\"\\nX_validate:\", X_validate.shape)\n",
    "    print(\"y_validate:\", y_validate.shape)\n",
    "    \n",
    "    cols_entren = X_train.columns.tolist()\n",
    "\n",
    "    ### Optimizacion Bayesiana\n",
    "    #Verifico si hay datos de entrenamiento y validacion en el cluster (podria haber 0)\n",
    "    if len(X_train)>0 and len(X_validate)>0:\n",
    "        print(\"Optimizacion Bayesiana\")\n",
    "        GLOBAL_PARAMS_ITER = []\n",
    "        GLOBAL_BEST_IT_ITER = []\n",
    "        GLOBAL_ER_VALIDATE_ITER = []\n",
    "        GLOBAL_MODEL_ITER = []\n",
    "        \n",
    "        study = optuna.create_study(direction='minimize')\n",
    "        study.optimize(objective, n_trials=config.CANT_ITERACIONES_OPT_BAY_PARAM)\n",
    "        print('# Experimentos:', len(study.trials))\n",
    "        \n",
    "        if len(study.get_trials(states=[optuna.trial.TrialState.COMPLETE])) > 0:\n",
    "            print('Mejor experimento:', study.best_trial.params)\n",
    "\n",
    "            best_model_index = study.best_trial.number\n",
    "            best_model = GLOBAL_MODEL_ITER[best_model_index]\n",
    "    \n",
    "            er_validate_iter[i]=study.best_trial.value\n",
    "            params_iter[i] = GLOBAL_PARAMS_ITER[best_model_index]\n",
    "            best_iter_iter[i] = GLOBAL_BEST_IT_ITER[best_model_index]\n",
    "        else:\n",
    "            er_validate_iter[i]=None\n",
    "            params_iter[i] = None\n",
    "            best_iter_iter[i] = None \n",
    "    else:\n",
    "        er_validate_iter[i]=None\n",
    "        params_iter[i] = None\n",
    "        best_iter_iter[i] = None "
   ]
  },
  {
   "cell_type": "code",
   "execution_count": 11,
   "id": "c693f849-685e-4266-a40e-1304c8ed5ab3",
   "metadata": {},
   "outputs": [
    {
     "data": {
      "text/html": [
       "<div>\n",
       "<style scoped>\n",
       "    .dataframe tbody tr th:only-of-type {\n",
       "        vertical-align: middle;\n",
       "    }\n",
       "\n",
       "    .dataframe tbody tr th {\n",
       "        vertical-align: top;\n",
       "    }\n",
       "\n",
       "    .dataframe thead th {\n",
       "        text-align: right;\n",
       "    }\n",
       "</style>\n",
       "<table border=\"1\" class=\"dataframe\">\n",
       "  <thead>\n",
       "    <tr style=\"text-align: right;\">\n",
       "      <th></th>\n",
       "      <th>cluster</th>\n",
       "      <th>error_validate</th>\n",
       "      <th>lgb_params</th>\n",
       "      <th>best_iteration</th>\n",
       "    </tr>\n",
       "  </thead>\n",
       "  <tbody>\n",
       "    <tr>\n",
       "      <th>0</th>\n",
       "      <td>0</td>\n",
       "      <td>79.55</td>\n",
       "      <td>{'objective': 'tweedie', 'first_metric_only': ...</td>\n",
       "      <td>636.00</td>\n",
       "    </tr>\n",
       "    <tr>\n",
       "      <th>1</th>\n",
       "      <td>1</td>\n",
       "      <td>66.11</td>\n",
       "      <td>{'objective': 'tweedie', 'first_metric_only': ...</td>\n",
       "      <td>114.00</td>\n",
       "    </tr>\n",
       "    <tr>\n",
       "      <th>2</th>\n",
       "      <td>2</td>\n",
       "      <td>93.84</td>\n",
       "      <td>{'objective': 'tweedie', 'first_metric_only': ...</td>\n",
       "      <td>1042.00</td>\n",
       "    </tr>\n",
       "    <tr>\n",
       "      <th>3</th>\n",
       "      <td>3</td>\n",
       "      <td>79.41</td>\n",
       "      <td>{'objective': 'tweedie', 'first_metric_only': ...</td>\n",
       "      <td>6840.00</td>\n",
       "    </tr>\n",
       "    <tr>\n",
       "      <th>4</th>\n",
       "      <td>4</td>\n",
       "      <td>85.19</td>\n",
       "      <td>{'objective': 'tweedie', 'first_metric_only': ...</td>\n",
       "      <td>30.00</td>\n",
       "    </tr>\n",
       "    <tr>\n",
       "      <th>...</th>\n",
       "      <td>...</td>\n",
       "      <td>...</td>\n",
       "      <td>...</td>\n",
       "      <td>...</td>\n",
       "    </tr>\n",
       "    <tr>\n",
       "      <th>89</th>\n",
       "      <td>89</td>\n",
       "      <td>91.53</td>\n",
       "      <td>{'objective': 'tweedie', 'first_metric_only': ...</td>\n",
       "      <td>536.00</td>\n",
       "    </tr>\n",
       "    <tr>\n",
       "      <th>90</th>\n",
       "      <td>90</td>\n",
       "      <td>124.66</td>\n",
       "      <td>{'objective': 'tweedie', 'first_metric_only': ...</td>\n",
       "      <td>104.00</td>\n",
       "    </tr>\n",
       "    <tr>\n",
       "      <th>91</th>\n",
       "      <td>91</td>\n",
       "      <td>99.49</td>\n",
       "      <td>{'objective': 'tweedie', 'first_metric_only': ...</td>\n",
       "      <td>2895.00</td>\n",
       "    </tr>\n",
       "    <tr>\n",
       "      <th>92</th>\n",
       "      <td>92</td>\n",
       "      <td>260.91</td>\n",
       "      <td>{'objective': 'tweedie', 'first_metric_only': ...</td>\n",
       "      <td>163.00</td>\n",
       "    </tr>\n",
       "    <tr>\n",
       "      <th>93</th>\n",
       "      <td>93</td>\n",
       "      <td>238.92</td>\n",
       "      <td>{'objective': 'tweedie', 'first_metric_only': ...</td>\n",
       "      <td>1.00</td>\n",
       "    </tr>\n",
       "  </tbody>\n",
       "</table>\n",
       "<p>94 rows × 4 columns</p>\n",
       "</div>"
      ],
      "text/plain": [
       "    cluster  error_validate  \\\n",
       "0         0           79.55   \n",
       "1         1           66.11   \n",
       "2         2           93.84   \n",
       "3         3           79.41   \n",
       "4         4           85.19   \n",
       "..      ...             ...   \n",
       "89       89           91.53   \n",
       "90       90          124.66   \n",
       "91       91           99.49   \n",
       "92       92          260.91   \n",
       "93       93          238.92   \n",
       "\n",
       "                                           lgb_params  best_iteration  \n",
       "0   {'objective': 'tweedie', 'first_metric_only': ...          636.00  \n",
       "1   {'objective': 'tweedie', 'first_metric_only': ...          114.00  \n",
       "2   {'objective': 'tweedie', 'first_metric_only': ...         1042.00  \n",
       "3   {'objective': 'tweedie', 'first_metric_only': ...         6840.00  \n",
       "4   {'objective': 'tweedie', 'first_metric_only': ...           30.00  \n",
       "..                                                ...             ...  \n",
       "89  {'objective': 'tweedie', 'first_metric_only': ...          536.00  \n",
       "90  {'objective': 'tweedie', 'first_metric_only': ...          104.00  \n",
       "91  {'objective': 'tweedie', 'first_metric_only': ...         2895.00  \n",
       "92  {'objective': 'tweedie', 'first_metric_only': ...          163.00  \n",
       "93  {'objective': 'tweedie', 'first_metric_only': ...            1.00  \n",
       "\n",
       "[94 rows x 4 columns]"
      ]
     },
     "execution_count": 11,
     "metadata": {},
     "output_type": "execute_result"
    }
   ],
   "source": [
    "df_opt_bay = pd.DataFrame(data={\"cluster\":range(0,num_clusters),\"error_validate\":er_validate_iter,\n",
    "                                   \"lgb_params\":params_iter,\"best_iteration\":best_iter_iter})\n",
    "df_opt_bay"
   ]
  },
  {
   "cell_type": "code",
   "execution_count": 12,
   "id": "1a0d203e-ce3f-4d1d-afba-19538f30d5f3",
   "metadata": {},
   "outputs": [
    {
     "name": "stdout",
     "output_type": "stream",
     "text": [
      "******************************************* CLUSTER 0 *******************************************\n",
      "# Productos: 58\n",
      "# Clientes: 597\n",
      "Periodos entrenar ALL: [201701 201702 201703 201704 201705 201706 201707 201708 201709 201710\n",
      " 201711 201712 201801 201802 201803 201804 201805 201806 201807 201808\n",
      " 201809 201810 201811 201812 201901 201902 201903 201904 201905 201906\n",
      " 201907]\n",
      "Periodos holdout: [201910]\n",
      "\n",
      "X_train_all: (730607, 120)\n",
      "y_train_all: (730607,)\n",
      "\n",
      "X_holdout: (34220, 120)\n",
      "y_holdout: (34220,)\n",
      "Error holdout semillerio: 79.98 (Toneladas cluster:  5558.43887 )\n",
      "******************************************* CLUSTER 1 *******************************************\n",
      "# Productos: 36\n",
      "# Clientes: 597\n",
      "Periodos entrenar ALL: [201701 201702 201703 201704 201705 201706 201707 201708 201709 201710\n",
      " 201711 201712 201801 201802 201803 201804 201805 201806 201807 201808\n",
      " 201809 201810 201811 201812 201901 201902 201903 201904 201905 201906\n",
      " 201907]\n",
      "Periodos holdout: [201910]\n",
      "\n",
      "X_train_all: (540309, 120)\n",
      "y_train_all: (540309,)\n",
      "\n",
      "X_holdout: (21240, 120)\n",
      "y_holdout: (21240,)\n",
      "Error holdout semillerio: 88.43 (Toneladas cluster:  3386.84377 )\n",
      "******************************************* CLUSTER 2 *******************************************\n",
      "# Productos: 15\n",
      "# Clientes: 597\n",
      "Periodos entrenar ALL: [201701 201702 201703 201704 201705 201706 201707 201708 201709 201710\n",
      " 201711 201712 201801 201802 201803 201804 201805 201806 201807 201808\n",
      " 201809 201810 201811 201812 201901 201902 201903 201904 201905 201906\n",
      " 201907]\n",
      "Periodos holdout: [201910]\n",
      "\n",
      "X_train_all: (194169, 120)\n",
      "y_train_all: (194169,)\n",
      "\n",
      "X_holdout: (8850, 120)\n",
      "y_holdout: (8850,)\n",
      "Error holdout semillerio: 88.47 (Toneladas cluster:  1039.69446 )\n",
      "******************************************* CLUSTER 3 *******************************************\n",
      "# Productos: 110\n",
      "# Clientes: 597\n",
      "Periodos entrenar ALL: [201701 201702 201703 201704 201705 201706 201707 201708 201709 201710\n",
      " 201711 201712 201801 201802 201803 201804 201805 201806 201807 201808\n",
      " 201809 201810 201811 201812 201901 201902 201903 201904 201905 201906\n",
      " 201907]\n",
      "Periodos holdout: [201910]\n",
      "\n",
      "X_train_all: (1478094, 120)\n",
      "y_train_all: (1478094,)\n",
      "\n",
      "X_holdout: (64900, 120)\n",
      "y_holdout: (64900,)\n",
      "Error holdout semillerio: 99.62 (Toneladas cluster:  2565.59145 )\n",
      "******************************************* CLUSTER 4 *******************************************\n",
      "# Productos: 11\n",
      "# Clientes: 597\n",
      "Periodos entrenar ALL: [201701 201702 201703 201704 201705 201706 201707 201708 201709 201710\n",
      " 201711 201712 201801 201802 201803 201804 201805 201806 201807 201808\n",
      " 201809 201810 201811 201812 201901 201902 201903 201904 201905 201906\n",
      " 201907]\n",
      "Periodos holdout: [201910]\n",
      "\n",
      "X_train_all: (173105, 120)\n",
      "y_train_all: (173105,)\n",
      "\n",
      "X_holdout: (6490, 120)\n",
      "y_holdout: (6490,)\n",
      "Error holdout semillerio: 130.53 (Toneladas cluster:  638.23355 )\n",
      "******************************************* CLUSTER 5 *******************************************\n",
      "# Productos: 46\n",
      "# Clientes: 597\n",
      "Periodos entrenar ALL: [201701 201702 201703 201704 201705 201706 201707 201708 201709 201710\n",
      " 201711 201712 201801 201802 201803 201804 201805 201806 201807 201808\n",
      " 201809 201810 201811 201812 201901 201902 201903 201904 201905 201906\n",
      " 201907]\n",
      "Periodos holdout: [201910]\n",
      "\n",
      "X_train_all: (660730, 120)\n",
      "y_train_all: (660730,)\n",
      "\n",
      "X_holdout: (27140, 120)\n",
      "y_holdout: (27140,)\n",
      "Error holdout semillerio: 92.98 (Toneladas cluster:  4092.39094 )\n",
      "******************************************* CLUSTER 6 *******************************************\n",
      "# Productos: 13\n",
      "# Clientes: 597\n",
      "Periodos entrenar ALL: [201701 201702 201703 201704 201705 201706 201707 201708 201709 201710\n",
      " 201711 201712 201801 201802 201803 201804 201805 201806 201807 201808\n",
      " 201809 201810 201811 201812 201901 201902 201903 201904 201905 201906\n",
      " 201907]\n",
      "Periodos holdout: [201910]\n",
      "\n",
      "X_train_all: (215943, 120)\n",
      "y_train_all: (215943,)\n",
      "\n",
      "X_holdout: (7670, 120)\n",
      "y_holdout: (7670,)\n",
      "Error holdout semillerio: 99.59 (Toneladas cluster:  782.0717099999999 )\n",
      "******************************************* CLUSTER 7 *******************************************\n",
      "# Productos: 14\n",
      "# Clientes: 597\n",
      "Periodos entrenar ALL: [201701 201702 201703 201704 201705 201706 201707 201708 201709 201710\n",
      " 201711 201712 201801 201802 201803 201804 201805 201806 201807 201808\n",
      " 201809 201810 201811 201812 201901 201902 201903 201904 201905 201906\n",
      " 201907]\n",
      "Periodos holdout: [201910]\n",
      "\n",
      "X_train_all: (154089, 120)\n",
      "y_train_all: (154089,)\n",
      "\n",
      "X_holdout: (8260, 120)\n",
      "y_holdout: (8260,)\n",
      "Error holdout semillerio: 182.28 (Toneladas cluster:  313.26493999999997 )\n",
      "******************************************* CLUSTER 8 *******************************************\n",
      "# Productos: 5\n",
      "# Clientes: 597\n",
      "Periodos entrenar ALL: [201701 201702 201703 201704 201705 201706 201707 201708 201709 201710\n",
      " 201711 201712 201801 201802 201803 201804 201805 201806 201807 201808\n",
      " 201809 201810 201811 201812 201901 201902 201903 201904 201905 201906\n",
      " 201907]\n",
      "Periodos holdout: [201910]\n",
      "\n",
      "X_train_all: (75888, 120)\n",
      "y_train_all: (75888,)\n",
      "\n",
      "X_holdout: (2950, 120)\n",
      "y_holdout: (2950,)\n",
      "Error holdout semillerio: 98.78 (Toneladas cluster:  312.59328000000005 )\n",
      "******************************************* CLUSTER 9 *******************************************\n",
      "# Productos: 9\n",
      "# Clientes: 597\n",
      "Periodos entrenar ALL: [201701 201702 201703 201704 201705 201706 201707 201708 201709 201710\n",
      " 201711 201712 201801 201802 201803 201804 201805 201806 201807 201808\n",
      " 201809 201810 201811 201812 201901 201902 201903 201904 201905 201906\n",
      " 201907]\n",
      "Periodos holdout: [201910]\n",
      "\n",
      "X_train_all: (122480, 120)\n",
      "y_train_all: (122480,)\n",
      "\n",
      "X_holdout: (4720, 120)\n",
      "y_holdout: (4720,)\n",
      "Error holdout semillerio: 163.63 (Toneladas cluster:  231.23274999999998 )\n",
      "******************************************* CLUSTER 10 *******************************************\n",
      "# Productos: 18\n",
      "# Clientes: 597\n",
      "Periodos entrenar ALL: [201701 201702 201703 201704 201705 201706 201707 201708 201709 201710\n",
      " 201711 201712 201801 201802 201803 201804 201805 201806 201807 201808\n",
      " 201809 201810 201811 201812 201901 201902 201903 201904 201905 201906\n",
      " 201907]\n",
      "Periodos holdout: [201910]\n",
      "\n",
      "X_train_all: (288896, 120)\n",
      "y_train_all: (288896,)\n",
      "\n",
      "X_holdout: (10620, 120)\n",
      "y_holdout: (10620,)\n",
      "Error holdout semillerio: 120.58 (Toneladas cluster:  278.99505 )\n",
      "******************************************* CLUSTER 11 *******************************************\n",
      "# Productos: 2\n",
      "# Clientes: 597\n",
      "Periodos entrenar ALL: [201701 201702 201703 201704 201705 201706 201707 201708 201709 201710\n",
      " 201711 201712 201801 201802 201803 201804 201805 201806 201807 201808\n",
      " 201809 201810 201811 201812 201901 201902 201903 201904 201905 201906\n",
      " 201907]\n",
      "Periodos holdout: [201910]\n",
      "\n",
      "X_train_all: (33222, 120)\n",
      "y_train_all: (33222,)\n",
      "\n",
      "X_holdout: (1180, 120)\n",
      "y_holdout: (1180,)\n",
      "Error holdout semillerio: 103.08 (Toneladas cluster:  207.27476000000001 )\n",
      "******************************************* CLUSTER 12 *******************************************\n",
      "# Productos: 29\n",
      "# Clientes: 597\n",
      "Periodos entrenar ALL: [201701 201702 201703 201704 201705 201706 201707 201708 201709 201710\n",
      " 201711 201712 201801 201802 201803 201804 201805 201806 201807 201808\n",
      " 201809 201810 201811 201812 201901 201902 201903 201904 201905 201906\n",
      " 201907]\n",
      "Periodos holdout: [201910]\n",
      "\n",
      "X_train_all: (350279, 120)\n",
      "y_train_all: (350279,)\n",
      "\n",
      "X_holdout: (17110, 120)\n",
      "y_holdout: (17110,)\n",
      "Error holdout semillerio: 95.08 (Toneladas cluster:  884.7604 )\n",
      "******************************************* CLUSTER 13 *******************************************\n",
      "# Productos: 136\n",
      "# Clientes: 597\n",
      "Periodos entrenar ALL: [201701 201702 201703 201704 201705 201706 201707 201708 201709 201710\n",
      " 201711 201712 201801 201802 201803 201804 201805 201806 201807 201808\n",
      " 201809 201810 201811 201812 201901 201902 201903 201904 201905 201906\n",
      " 201907]\n",
      "Periodos holdout: [201910]\n",
      "\n",
      "X_train_all: (1814856, 120)\n",
      "y_train_all: (1814856,)\n",
      "\n",
      "X_holdout: (80240, 120)\n",
      "y_holdout: (80240,)\n",
      "Error holdout semillerio: 105.95 (Toneladas cluster:  1561.9653500000004 )\n",
      "******************************************* CLUSTER 14 *******************************************\n",
      "# Productos: 9\n",
      "# Clientes: 597\n",
      "Periodos entrenar ALL: [201701 201702 201703 201704 201705 201706 201707 201708 201709 201710\n",
      " 201711 201712 201801 201802 201803 201804 201805 201806 201807 201808\n",
      " 201809 201810 201811 201812 201901 201902 201903 201904 201905 201906\n",
      " 201907]\n",
      "Periodos holdout: [201910]\n",
      "\n",
      "X_train_all: (149499, 120)\n",
      "y_train_all: (149499,)\n",
      "\n",
      "X_holdout: (5310, 120)\n",
      "y_holdout: (5310,)\n",
      "Error holdout semillerio: 320.49 (Toneladas cluster:  140.34755 )\n",
      "******************************************* CLUSTER 15 *******************************************\n",
      "# Productos: 1\n",
      "# Clientes: 597\n",
      "Periodos entrenar ALL: [201701 201702 201703 201704 201705 201706 201707 201708 201709 201710\n",
      " 201711 201712 201801 201802 201803 201804 201805 201806 201807 201808\n",
      " 201809 201810 201811 201812 201901 201902 201903 201904 201905 201906\n",
      " 201907]\n",
      "Periodos holdout: [201910]\n",
      "\n",
      "X_train_all: (16611, 120)\n",
      "y_train_all: (16611,)\n",
      "\n",
      "X_holdout: (590, 120)\n",
      "y_holdout: (590,)\n",
      "Error holdout semillerio: 152.52 (Toneladas cluster:  95.51068000000001 )\n",
      "******************************************* CLUSTER 16 *******************************************\n",
      "# Productos: 5\n",
      "# Clientes: 597\n",
      "Periodos entrenar ALL: [201701 201702 201703 201704 201705 201706 201707 201708 201709 201710\n",
      " 201711 201712 201801 201802 201803 201804 201805 201806 201807 201808\n",
      " 201809 201810 201811 201812 201901 201902 201903 201904 201905 201906\n",
      " 201907]\n",
      "Periodos holdout: [201910]\n",
      "\n",
      "X_train_all: (73742, 120)\n",
      "y_train_all: (73742,)\n",
      "\n",
      "X_holdout: (2950, 120)\n",
      "y_holdout: (2950,)\n",
      "Error holdout semillerio: 83.95 (Toneladas cluster:  230.73443 )\n",
      "******************************************* CLUSTER 17 *******************************************\n",
      "# Productos: 7\n",
      "# Clientes: 597\n",
      "Periodos entrenar ALL: [201701 201702 201703 201704 201705 201706 201707 201708 201709 201710\n",
      " 201711 201712 201801 201802 201803 201804 201805 201806 201807 201808\n",
      " 201809 201810 201811 201812 201901 201902 201903 201904 201905 201906\n",
      " 201907]\n",
      "Periodos holdout: [201910]\n",
      "\n",
      "X_train_all: (105257, 120)\n",
      "y_train_all: (105257,)\n",
      "\n",
      "X_holdout: (4130, 120)\n",
      "y_holdout: (4130,)\n",
      "Error holdout semillerio: 116.06 (Toneladas cluster:  156.97479 )\n",
      "******************************************* CLUSTER 18 *******************************************\n",
      "# Productos: 9\n",
      "# Clientes: 597\n",
      "Periodos entrenar ALL: [201701 201702 201703 201704 201705 201706 201707 201708 201709 201710\n",
      " 201711 201712 201801 201802 201803 201804 201805 201806 201807 201808\n",
      " 201809 201810 201811 201812 201901 201902 201903 201904 201905 201906\n",
      " 201907]\n",
      "Periodos holdout: [201910]\n",
      "\n",
      "X_train_all: (95353, 120)\n",
      "y_train_all: (95353,)\n",
      "\n",
      "X_holdout: (5310, 120)\n",
      "y_holdout: (5310,)\n",
      "Error holdout semillerio: 99.14 (Toneladas cluster:  149.44247 )\n",
      "******************************************* CLUSTER 19 *******************************************\n",
      "# Productos: 4\n",
      "# Clientes: 597\n",
      "Periodos entrenar ALL: [201701 201702 201703 201704 201705 201706 201707 201708 201709 201710\n",
      " 201711 201712 201801 201802 201803 201804 201805 201806 201807 201808\n",
      " 201809 201810 201811 201812 201901 201902 201903 201904 201905 201906\n",
      " 201907]\n",
      "Periodos holdout: [201910]\n",
      "\n",
      "X_train_all: (66444, 120)\n",
      "y_train_all: (66444,)\n",
      "\n",
      "X_holdout: (2360, 120)\n",
      "y_holdout: (2360,)\n",
      "Error holdout semillerio: 97.76 (Toneladas cluster:  181.90427999999997 )\n",
      "******************************************* CLUSTER 20 *******************************************\n",
      "# Productos: 10\n",
      "# Clientes: 597\n",
      "Periodos entrenar ALL: [201701 201702 201703 201704 201705 201706 201707 201708 201709 201710\n",
      " 201711 201712 201801 201802 201803 201804 201805 201806 201807 201808\n",
      " 201809 201810 201811 201812 201901 201902 201903 201904 201905 201906\n",
      " 201907]\n",
      "Periodos holdout: [201910]\n",
      "\n",
      "X_train_all: (131445, 120)\n",
      "y_train_all: (131445,)\n",
      "\n",
      "X_holdout: (5900, 120)\n",
      "y_holdout: (5900,)\n",
      "Error holdout semillerio: 116.4 (Toneladas cluster:  190.69148 )\n",
      "******************************************* CLUSTER 21 *******************************************\n",
      "# Productos: 4\n",
      "# Clientes: 597\n",
      "Periodos entrenar ALL: [201701 201702 201703 201704 201705 201706 201707 201708 201709 201710\n",
      " 201711 201712 201801 201802 201803 201804 201805 201806 201807 201808\n",
      " 201809 201810 201811 201812 201901 201902 201903 201904 201905 201906\n",
      " 201907]\n",
      "Periodos holdout: [201910]\n",
      "\n",
      "X_train_all: (66444, 120)\n",
      "y_train_all: (66444,)\n",
      "\n",
      "X_holdout: (2360, 120)\n",
      "y_holdout: (2360,)\n",
      "Error holdout semillerio: 199.83 (Toneladas cluster:  44.33557 )\n",
      "******************************************* CLUSTER 22 *******************************************\n",
      "# Productos: 18\n",
      "# Clientes: 597\n",
      "Periodos entrenar ALL: [201701 201702 201703 201704 201705 201706 201707 201708 201709 201710\n",
      " 201711 201712 201801 201802 201803 201804 201805 201806 201807 201808\n",
      " 201809 201810 201811 201812 201901 201902 201903 201904 201905 201906\n",
      " 201907]\n",
      "Periodos holdout: [201910]\n",
      "\n",
      "X_train_all: (277251, 120)\n",
      "y_train_all: (277251,)\n",
      "\n",
      "X_holdout: (10620, 120)\n",
      "y_holdout: (10620,)\n",
      "Error holdout semillerio: 108.34 (Toneladas cluster:  621.8403200000001 )\n",
      "******************************************* CLUSTER 23 *******************************************\n",
      "# Productos: 2\n",
      "# Clientes: 597\n",
      "Periodos entrenar ALL: [201701 201702 201703 201704 201705 201706 201707 201708 201709 201710\n",
      " 201711 201712 201801 201802 201803 201804 201805 201806 201807 201808\n",
      " 201809 201810 201811 201812 201901 201902 201903 201904 201905 201906\n",
      " 201907]\n",
      "Periodos holdout: [201910]\n",
      "\n",
      "X_train_all: (33222, 120)\n",
      "y_train_all: (33222,)\n",
      "\n",
      "X_holdout: (1180, 120)\n",
      "y_holdout: (1180,)\n",
      "Error holdout semillerio: 122.7 (Toneladas cluster:  86.6599 )\n",
      "******************************************* CLUSTER 24 *******************************************\n",
      "# Productos: 4\n",
      "# Clientes: 597\n",
      "Periodos entrenar ALL: [201701 201702 201703 201704 201705 201706 201707 201708 201709 201710\n",
      " 201711 201712 201801 201802 201803 201804 201805 201806 201807 201808\n",
      " 201809 201810 201811 201812 201901 201902 201903 201904 201905 201906\n",
      " 201907]\n",
      "Periodos holdout: [201910]\n",
      "\n",
      "X_train_all: (57917, 120)\n",
      "y_train_all: (57917,)\n",
      "\n",
      "X_holdout: (2360, 120)\n",
      "y_holdout: (2360,)\n",
      "Error holdout semillerio: 95.68 (Toneladas cluster:  115.40969999999999 )\n",
      "******************************************* CLUSTER 25 *******************************************\n",
      "# Productos: 4\n",
      "# Clientes: 597\n",
      "Periodos entrenar ALL: [201701 201702 201703 201704 201705 201706 201707 201708 201709 201710\n",
      " 201711 201712 201801 201802 201803 201804 201805 201806 201807 201808\n",
      " 201809 201810 201811 201812 201901 201902 201903 201904 201905 201906\n",
      " 201907]\n",
      "Periodos holdout: [201910]\n",
      "\n",
      "X_train_all: (57917, 120)\n",
      "y_train_all: (57917,)\n",
      "\n",
      "X_holdout: (2360, 120)\n",
      "y_holdout: (2360,)\n",
      "Error holdout semillerio: 112.85 (Toneladas cluster:  141.08192 )\n",
      "******************************************* CLUSTER 26 *******************************************\n",
      "# Productos: 109\n",
      "# Clientes: 597\n",
      "Periodos entrenar ALL: [201701 201702 201703 201704 201705 201706 201707 201708 201709 201710\n",
      " 201711 201712 201801 201802 201803 201804 201805 201806 201807 201808\n",
      " 201809 201810 201811 201812 201901 201902 201903 201904 201905 201906\n",
      " 201907]\n",
      "Periodos holdout: [201910]\n",
      "\n",
      "X_train_all: (1353697, 120)\n",
      "y_train_all: (1353697,)\n",
      "\n",
      "X_holdout: (64310, 120)\n",
      "y_holdout: (64310,)\n",
      "Error holdout semillerio: 96.45 (Toneladas cluster:  637.81021 )\n",
      "******************************************* CLUSTER 27 *******************************************\n",
      "# Productos: 5\n",
      "# Clientes: 597\n",
      "Periodos entrenar ALL: [201701 201702 201703 201704 201705 201706 201707 201708 201709 201710\n",
      " 201711 201712 201801 201802 201803 201804 201805 201806 201807 201808\n",
      " 201809 201810 201811 201812 201901 201902 201903 201904 201905 201906\n",
      " 201907]\n",
      "Periodos holdout: [201910]\n",
      "\n",
      "X_train_all: (83055, 120)\n",
      "y_train_all: (83055,)\n",
      "\n",
      "X_holdout: (2950, 120)\n",
      "y_holdout: (2950,)\n",
      "Error holdout semillerio: 152.79 (Toneladas cluster:  68.66841 )\n",
      "******************************************* CLUSTER 28 *******************************************\n",
      "# Productos: 5\n",
      "# Clientes: 597\n",
      "Periodos entrenar ALL: [201803 201804 201805 201806 201807 201808 201809 201810 201811 201812\n",
      " 201901 201902 201903 201904 201905 201906 201907]\n",
      "Periodos holdout: [201910]\n",
      "\n",
      "X_train_all: (29492, 120)\n",
      "y_train_all: (29492,)\n",
      "\n",
      "X_holdout: (2950, 120)\n",
      "y_holdout: (2950,)\n",
      "Error holdout semillerio: 153.86 (Toneladas cluster:  93.89667999999999 )\n",
      "******************************************* CLUSTER 29 *******************************************\n",
      "# Productos: 7\n",
      "# Clientes: 597\n",
      "Periodos entrenar ALL: [201801 201802 201803 201804 201805 201806 201807 201808 201809 201810\n",
      " 201811 201812 201901 201902 201903 201904 201905 201906 201907]\n",
      "Periodos holdout: [201910]\n",
      "\n",
      "X_train_all: (29918, 120)\n",
      "y_train_all: (29918,)\n",
      "\n",
      "X_holdout: (4130, 120)\n",
      "y_holdout: (4130,)\n",
      "Error holdout semillerio: 174.75 (Toneladas cluster:  129.06139000000002 )\n",
      "******************************************* CLUSTER 30 *******************************************\n",
      "# Productos: 16\n",
      "# Clientes: 597\n",
      "Periodos entrenar ALL: [201701 201702 201703 201704 201705 201706 201707 201708 201709 201710\n",
      " 201711 201712 201801 201802 201803 201804 201805 201806 201807 201808\n",
      " 201809 201810 201811 201812 201901 201902 201903 201904 201905 201906\n",
      " 201907]\n",
      "Periodos holdout: [201910]\n",
      "\n",
      "X_train_all: (197098, 120)\n",
      "y_train_all: (197098,)\n",
      "\n",
      "X_holdout: (9440, 120)\n",
      "y_holdout: (9440,)\n",
      "Error holdout semillerio: 92.18 (Toneladas cluster:  157.34082 )\n",
      "******************************************* CLUSTER 31 *******************************************\n",
      "# Productos: 30\n",
      "# Clientes: 597\n",
      "Periodos entrenar ALL: [201701 201702 201703 201704 201705 201706 201707 201708 201709 201710\n",
      " 201711 201712 201801 201802 201803 201804 201805 201806 201807 201808\n",
      " 201809 201810 201811 201812 201901 201902 201903 201904 201905 201906\n",
      " 201907]\n",
      "Periodos holdout: [201910]\n",
      "\n",
      "X_train_all: (356849, 120)\n",
      "y_train_all: (356849,)\n",
      "\n",
      "X_holdout: (17700, 120)\n",
      "y_holdout: (17700,)\n",
      "Error holdout semillerio: 93.68 (Toneladas cluster:  233.86568 )\n",
      "******************************************* CLUSTER 32 *******************************************\n",
      "# Productos: 15\n",
      "# Clientes: 597\n",
      "Periodos entrenar ALL: [201701 201702 201703 201704 201705 201706 201707 201708 201709 201710\n",
      " 201711 201712 201801 201802 201803 201804 201805 201806 201807 201808\n",
      " 201809 201810 201811 201812 201901 201902 201903 201904 201905 201906\n",
      " 201907]\n",
      "Periodos holdout: [201910]\n",
      "\n",
      "X_train_all: (146504, 120)\n",
      "y_train_all: (146504,)\n",
      "\n",
      "X_holdout: (8850, 120)\n",
      "y_holdout: (8850,)\n",
      "Error holdout semillerio: 97.9 (Toneladas cluster:  131.971 )\n",
      "******************************************* CLUSTER 33 *******************************************\n",
      "# Productos: 4\n",
      "# Clientes: 597\n",
      "Periodos entrenar ALL: [201801 201802 201803 201804 201805 201806 201807 201808 201809 201810\n",
      " 201811 201812 201901 201902 201903 201904 201905 201906 201907]\n",
      "Periodos holdout: [201910]\n",
      "\n",
      "X_train_all: (19947, 120)\n",
      "y_train_all: (19947,)\n",
      "\n",
      "X_holdout: (1770, 120)\n",
      "y_holdout: (1770,)\n",
      "Error holdout semillerio: 90.99 (Toneladas cluster:  44.14408 )\n",
      "******************************************* CLUSTER 34 *******************************************\n",
      "# Productos: 8\n",
      "# Clientes: 597\n",
      "Periodos entrenar ALL: [201701 201702 201703 201704 201705 201706 201707 201708 201709 201710\n",
      " 201711 201712 201801 201802 201803 201804 201805 201806 201807 201808\n",
      " 201809 201810 201811 201812 201901 201902 201903 201904 201905 201906\n",
      " 201907]\n",
      "Periodos holdout: [201910]\n",
      "\n",
      "X_train_all: (80502, 120)\n",
      "y_train_all: (80502,)\n",
      "\n",
      "X_holdout: (4720, 120)\n",
      "y_holdout: (4720,)\n",
      "Error holdout semillerio: 89.32 (Toneladas cluster:  43.69353 )\n",
      "******************************************* CLUSTER 35 *******************************************\n",
      "# Productos: 46\n",
      "# Clientes: 597\n",
      "Periodos entrenar ALL: [201701 201702 201703 201704 201705 201706 201707 201708 201709 201710\n",
      " 201711 201712 201801 201802 201803 201804 201805 201806 201807 201808\n",
      " 201809 201810 201811 201812 201901 201902 201903 201904 201905 201906\n",
      " 201907]\n",
      "Periodos holdout: [201910]\n",
      "\n",
      "X_train_all: (690816, 120)\n",
      "y_train_all: (690816,)\n",
      "\n",
      "X_holdout: (27140, 120)\n",
      "y_holdout: (27140,)\n",
      "Error holdout semillerio: 124.06 (Toneladas cluster:  33.974199999999996 )\n",
      "******************************************* CLUSTER 36 *******************************************\n",
      "# Productos: 11\n",
      "# Clientes: 597\n",
      "Periodos entrenar ALL: [201701 201702 201703 201704 201705 201706 201707 201708 201709 201710\n",
      " 201711 201712 201801 201802 201803 201804 201805 201806 201807 201808\n",
      " 201809 201810 201811 201812 201901 201902 201903 201904 201905 201906\n",
      " 201907]\n",
      "Periodos holdout: [201910]\n",
      "\n",
      "X_train_all: (110631, 120)\n",
      "y_train_all: (110631,)\n",
      "\n",
      "X_holdout: (6490, 120)\n",
      "y_holdout: (6490,)\n",
      "Error holdout semillerio: 105.36 (Toneladas cluster:  41.59096000000001 )\n",
      "******************************************* CLUSTER 37 *******************************************\n",
      "# Productos: 21\n",
      "# Clientes: 597\n",
      "Periodos entrenar ALL: [201701 201702 201703 201704 201705 201706 201707 201708 201709 201710\n",
      " 201711 201712 201801 201802 201803 201804 201805 201806 201807 201808\n",
      " 201809 201810 201811 201812 201901 201902 201903 201904 201905 201906\n",
      " 201907]\n",
      "Periodos holdout: [201910]\n",
      "\n",
      "X_train_all: (348831, 120)\n",
      "y_train_all: (348831,)\n",
      "\n",
      "X_holdout: (12390, 120)\n",
      "y_holdout: (12390,)\n",
      "Error holdout semillerio: 137.05 (Toneladas cluster:  11.62161 )\n",
      "******************************************* CLUSTER 38 *******************************************\n",
      "# Productos: 3\n",
      "# Clientes: 597\n",
      "Periodos entrenar ALL: [201805 201806 201807 201808 201809 201810 201811 201812 201901 201902\n",
      " 201903 201904 201905 201906 201907 201701 201702 201703 201704 201705\n",
      " 201706 201707 201708 201709 201710 201711 201712 201801 201802 201803\n",
      " 201804]\n",
      "Periodos holdout: [201910]\n",
      "\n",
      "X_train_all: (31742, 120)\n",
      "y_train_all: (31742,)\n",
      "\n",
      "X_holdout: (1770, 120)\n",
      "y_holdout: (1770,)\n",
      "Error holdout semillerio: 85.02 (Toneladas cluster:  55.66494999999999 )\n",
      "******************************************* CLUSTER 39 *******************************************\n",
      "# Productos: 10\n",
      "# Clientes: 597\n",
      "Periodos entrenar ALL: [201701 201702 201703 201704 201705 201706 201707 201708 201709 201710\n",
      " 201711 201712 201801 201802 201803 201804 201805 201806 201807 201808\n",
      " 201809 201810 201811 201812 201901 201902 201903 201904 201905 201906\n",
      " 201907]\n",
      "Periodos holdout: [201910]\n",
      "\n",
      "X_train_all: (163356, 120)\n",
      "y_train_all: (163356,)\n",
      "\n",
      "X_holdout: (5900, 120)\n",
      "y_holdout: (5900,)\n",
      "Error holdout semillerio: 170.41 (Toneladas cluster:  19.85772 )\n",
      "******************************************* CLUSTER 40 *******************************************\n",
      "# Productos: 13\n",
      "# Clientes: 597\n",
      "Periodos entrenar ALL: [201701 201702 201703 201704 201705 201706 201707 201708 201709 201710\n",
      " 201711 201712 201801 201802 201803 201804 201805 201806 201807 201808\n",
      " 201809 201810 201811 201812 201901 201902 201903 201904 201905 201906\n",
      " 201907]\n",
      "Periodos holdout: [201910]\n",
      "\n",
      "X_train_all: (159005, 120)\n",
      "y_train_all: (159005,)\n",
      "\n",
      "X_holdout: (7670, 120)\n",
      "y_holdout: (7670,)\n",
      "Error holdout semillerio: 94.09 (Toneladas cluster:  30.345819999999996 )\n",
      "******************************************* CLUSTER 41 *******************************************\n",
      "# Productos: 2\n",
      "# Clientes: 597\n",
      "Periodos entrenar ALL: [201804 201805 201806 201807 201808 201809 201810 201811 201812 201901\n",
      " 201902 201903 201904 201905 201906 201907]\n",
      "Periodos holdout: [201910]\n",
      "\n",
      "X_train_all: (17824, 120)\n",
      "y_train_all: (17824,)\n",
      "\n",
      "X_holdout: (1180, 120)\n",
      "y_holdout: (1180,)\n",
      "Error holdout semillerio: 119.3 (Toneladas cluster:  22.270110000000003 )\n",
      "******************************************* CLUSTER 42 *******************************************\n",
      "# Productos: 33\n",
      "# Clientes: 597\n",
      "Periodos entrenar ALL: [201701 201702 201703 201704 201705 201706 201707 201708 201709 201710\n",
      " 201711 201712 201801 201802 201803 201804 201805 201806 201807 201808\n",
      " 201809 201810 201811 201812 201901 201902 201903 201904 201905 201906\n",
      " 201907]\n",
      "Periodos holdout: [201910]\n",
      "\n",
      "X_train_all: (432519, 120)\n",
      "y_train_all: (432519,)\n",
      "\n",
      "X_holdout: (19470, 120)\n",
      "y_holdout: (19470,)\n",
      "Error holdout semillerio: 135.63 (Toneladas cluster:  48.20039 )\n",
      "******************************************* CLUSTER 43 *******************************************\n",
      "# Productos: 1\n",
      "# Clientes: 597\n",
      "Periodos entrenar ALL: [201811 201812 201901 201902 201903 201904 201905 201906 201907]\n",
      "Periodos holdout: [201910]\n",
      "\n",
      "X_train_all: (5096, 120)\n",
      "y_train_all: (5096,)\n",
      "\n",
      "X_holdout: (590, 120)\n",
      "y_holdout: (590,)\n",
      "Error holdout semillerio: 285.48 (Toneladas cluster:  8.94893 )\n",
      "******************************************* CLUSTER 44 *******************************************\n",
      "# Productos: 21\n",
      "# Clientes: 597\n",
      "Periodos entrenar ALL: [201701 201702 201703 201704 201705 201706 201707 201708 201709 201710\n",
      " 201711 201712 201801 201802 201803 201804 201805 201806 201807 201808\n",
      " 201809 201810 201811 201812 201901 201902 201903 201904 201905 201906\n",
      " 201907]\n",
      "Periodos holdout: [201910]\n",
      "\n",
      "X_train_all: (348831, 120)\n",
      "y_train_all: (348831,)\n",
      "\n",
      "X_holdout: (12390, 120)\n",
      "y_holdout: (12390,)\n",
      "Error holdout semillerio: 105.78 (Toneladas cluster:  81.50722000000002 )\n",
      "******************************************* CLUSTER 45 *******************************************\n",
      "# Productos: 5\n",
      "# Clientes: 597\n",
      "Periodos entrenar ALL: [201701 201702 201703 201704 201705 201706 201707 201708 201709 201710\n",
      " 201711 201712 201801 201802 201803 201804 201805 201806 201807 201808\n",
      " 201809 201810 201811 201812 201901 201902 201903 201904 201905 201906\n",
      " 201907]\n",
      "Periodos holdout: [201910]\n",
      "\n",
      "X_train_all: (50987, 120)\n",
      "y_train_all: (50987,)\n",
      "\n",
      "X_holdout: (2950, 120)\n",
      "y_holdout: (2950,)\n",
      "Error holdout semillerio: 149.87 (Toneladas cluster:  14.130870000000002 )\n",
      "******************************************* CLUSTER 46 *******************************************\n",
      "# Productos: 2\n",
      "# Clientes: 597\n",
      "Periodos entrenar ALL: [201701 201702 201703 201704 201705 201706 201707 201708 201709 201710\n",
      " 201711 201712 201801 201802 201803 201804 201805 201806 201807 201808\n",
      " 201809 201810 201811 201812 201901 201902 201903 201904 201905 201906\n",
      " 201907]\n",
      "Periodos holdout: [201910]\n",
      "\n",
      "X_train_all: (32789, 120)\n",
      "y_train_all: (32789,)\n",
      "\n",
      "X_holdout: (1180, 120)\n",
      "y_holdout: (1180,)\n",
      "Error holdout semillerio: 107.31 (Toneladas cluster:  9.853259999999999 )\n",
      "******************************************* CLUSTER 47 *******************************************\n",
      "# Productos: 7\n",
      "# Clientes: 597\n",
      "Periodos entrenar ALL: [201710 201711 201712 201801 201802 201803 201804 201805 201806 201807\n",
      " 201808 201809 201810 201811 201812 201901 201902 201903 201904 201905\n",
      " 201906 201907]\n",
      "Periodos holdout: [201910]\n",
      "\n",
      "X_train_all: (58855, 120)\n",
      "y_train_all: (58855,)\n",
      "\n",
      "X_holdout: (4130, 120)\n",
      "y_holdout: (4130,)\n",
      "Error holdout semillerio: 131.07 (Toneladas cluster:  13.91127 )\n",
      "******************************************* CLUSTER 48 *******************************************\n",
      "# Productos: 5\n",
      "# Clientes: 597\n",
      "Periodos entrenar ALL: [201811 201812 201901 201902 201903 201904 201905 201906 201907]\n",
      "Periodos holdout: [201910]\n",
      "\n",
      "X_train_all: (25480, 120)\n",
      "y_train_all: (25480,)\n",
      "\n",
      "X_holdout: (2950, 120)\n",
      "y_holdout: (2950,)\n",
      "Error holdout semillerio: 331.45 (Toneladas cluster:  8.823360000000001 )\n",
      "******************************************* CLUSTER 49 *******************************************\n",
      "# Productos: 6\n",
      "# Clientes: 597\n",
      "Periodos entrenar ALL: [201906 201907]\n",
      "Periodos holdout: [201910]\n",
      "\n",
      "X_train_all: (6924, 120)\n",
      "y_train_all: (6924,)\n",
      "\n",
      "X_holdout: (3540, 120)\n",
      "y_holdout: (3540,)\n",
      "IMPUTACION!!!\n",
      "Error holdout semillerio: 344.35 (Toneladas cluster:  36.991170000000004 )\n",
      "******************************************* CLUSTER 50 *******************************************\n",
      "# Productos: 26\n",
      "# Clientes: 597\n",
      "Periodos entrenar ALL: [201701 201702 201703 201704 201705 201706 201707 201708 201709 201710\n",
      " 201711 201712 201801 201802 201803 201804 201805 201806 201807 201808\n",
      " 201809 201810 201811 201812 201901 201902 201903 201904 201905 201906\n",
      " 201907]\n",
      "Periodos holdout: [201910]\n",
      "\n",
      "X_train_all: (341801, 120)\n",
      "y_train_all: (341801,)\n",
      "\n",
      "X_holdout: (15340, 120)\n",
      "y_holdout: (15340,)\n",
      "Error holdout semillerio: 94.05 (Toneladas cluster:  41.632639999999995 )\n",
      "******************************************* CLUSTER 51 *******************************************\n",
      "# Productos: 1\n",
      "# Clientes: 597\n",
      "Periodos entrenar ALL: [201701 201702 201703 201704 201705 201706 201707 201708 201709 201710\n",
      " 201711 201712 201801 201802 201803 201804 201805 201806 201807 201808\n",
      " 201809 201810 201811 201812 201901 201902 201903 201904 201905 201906\n",
      " 201907]\n",
      "Periodos holdout: [201910]\n",
      "\n",
      "X_train_all: (16611, 120)\n",
      "y_train_all: (16611,)\n",
      "\n",
      "X_holdout: (590, 120)\n",
      "y_holdout: (590,)\n",
      "Error holdout semillerio: 813.66 (Toneladas cluster:  0.47173 )\n",
      "******************************************* CLUSTER 52 *******************************************\n",
      "# Productos: 8\n",
      "# Clientes: 597\n",
      "Periodos entrenar ALL: [201701 201702 201703 201704 201705 201706 201707 201708 201709 201710\n",
      " 201711 201712 201801 201802 201803 201804 201805 201806 201807 201808\n",
      " 201809 201810 201811 201812 201901 201902 201903 201904 201905 201906\n",
      " 201907]\n",
      "Periodos holdout: [201910]\n",
      "\n",
      "X_train_all: (132888, 120)\n",
      "y_train_all: (132888,)\n",
      "\n",
      "X_holdout: (4720, 120)\n",
      "y_holdout: (4720,)\n",
      "Error holdout semillerio: 110.25 (Toneladas cluster:  10.17267 )\n",
      "******************************************* CLUSTER 53 *******************************************\n",
      "# Productos: 11\n",
      "# Clientes: 597\n",
      "Periodos entrenar ALL: [201701 201702 201703 201704 201705 201706 201707 201708 201709 201710\n",
      " 201711 201712 201801 201802 201803 201804 201805 201806 201807 201808\n",
      " 201809 201810 201811 201812 201901 201902 201903 201904 201905 201906\n",
      " 201907]\n",
      "Periodos holdout: [201910]\n",
      "\n",
      "X_train_all: (182288, 120)\n",
      "y_train_all: (182288,)\n",
      "\n",
      "X_holdout: (6490, 120)\n",
      "y_holdout: (6490,)\n",
      "Error holdout semillerio: 199.82 (Toneladas cluster:  4.14581 )\n",
      "******************************************* CLUSTER 54 *******************************************\n",
      "# Productos: 6\n",
      "# Clientes: 597\n",
      "Periodos entrenar ALL: [201701 201702 201703 201704 201705 201706 201707 201708 201709 201710\n",
      " 201711 201712 201801 201802 201803 201804 201805 201806 201807 201808\n",
      " 201809 201810 201811 201812 201901 201902 201903 201904 201905 201906\n",
      " 201907]\n",
      "Periodos holdout: [201910]\n",
      "\n",
      "X_train_all: (46177, 120)\n",
      "y_train_all: (46177,)\n",
      "\n",
      "X_holdout: (3540, 120)\n",
      "y_holdout: (3540,)\n",
      "Error holdout semillerio: 109.26 (Toneladas cluster:  16.31362 )\n",
      "******************************************* CLUSTER 55 *******************************************\n",
      "# Productos: 3\n",
      "# Clientes: 597\n",
      "Periodos entrenar ALL: [201701 201702 201703 201704 201705 201706 201707 201708 201709 201710\n",
      " 201711 201712 201801 201802 201803 201804 201805 201806 201807 201808\n",
      " 201809 201810 201811 201812 201901 201902 201903 201904 201905 201906\n",
      " 201907]\n",
      "Periodos holdout: [201910]\n",
      "\n",
      "X_train_all: (34947, 120)\n",
      "y_train_all: (34947,)\n",
      "\n",
      "X_holdout: (1770, 120)\n",
      "y_holdout: (1770,)\n",
      "Error holdout semillerio: 89.48 (Toneladas cluster:  6.042640000000001 )\n",
      "******************************************* CLUSTER 56 *******************************************\n",
      "# Productos: 15\n",
      "# Clientes: 597\n",
      "Periodos entrenar ALL: [201701 201702 201703 201704 201705 201706 201707 201708 201709 201710\n",
      " 201711 201712 201801 201802 201803 201804 201805 201806 201807 201808\n",
      " 201809 201810 201811 201812 201901 201902 201903 201904 201905 201906\n",
      " 201907]\n",
      "Periodos holdout: [201910]\n",
      "\n",
      "X_train_all: (199332, 120)\n",
      "y_train_all: (199332,)\n",
      "\n",
      "X_holdout: (8850, 120)\n",
      "y_holdout: (8850,)\n",
      "Error holdout semillerio: 261.55 (Toneladas cluster:  6.987909999999999 )\n",
      "******************************************* CLUSTER 57 *******************************************\n",
      "# Productos: 2\n",
      "# Clientes: 597\n",
      "Periodos entrenar ALL: [201701 201702 201703 201704 201705 201706 201707 201708 201709 201710\n",
      " 201711 201712 201801 201802 201803 201804 201805 201806 201807 201808\n",
      " 201809 201810 201811 201812 201901 201902 201903 201904 201905 201906\n",
      " 201907]\n",
      "Periodos holdout: [201910]\n",
      "\n",
      "X_train_all: (33222, 120)\n",
      "y_train_all: (33222,)\n",
      "\n",
      "X_holdout: (1180, 120)\n",
      "y_holdout: (1180,)\n",
      "Error holdout semillerio: 132.23 (Toneladas cluster:  5.40011 )\n",
      "******************************************* CLUSTER 58 *******************************************\n",
      "# Productos: 2\n",
      "# Clientes: 597\n",
      "Periodos entrenar ALL: [201708 201709 201710 201711 201712 201801 201802 201803 201804 201805\n",
      " 201806 201807 201808 201809 201810 201811 201812 201901 201902 201903\n",
      " 201904 201905 201906 201907]\n",
      "Periodos holdout: [201910]\n",
      "\n",
      "X_train_all: (26262, 120)\n",
      "y_train_all: (26262,)\n",
      "\n",
      "X_holdout: (1180, 120)\n",
      "y_holdout: (1180,)\n",
      "Error holdout semillerio: 123.17 (Toneladas cluster:  5.06529 )\n",
      "******************************************* CLUSTER 59 *******************************************\n",
      "# Productos: 15\n",
      "# Clientes: 597\n",
      "Periodos entrenar ALL: [201701 201702 201703 201704 201705 201706 201707 201708 201709 201710\n",
      " 201711 201712 201801 201802 201803 201804 201805 201806 201807 201808\n",
      " 201809 201810 201811 201812 201901 201902 201903 201904 201905 201906\n",
      " 201907]\n",
      "Periodos holdout: [201910]\n",
      "\n",
      "X_train_all: (180553, 120)\n",
      "y_train_all: (180553,)\n",
      "\n",
      "X_holdout: (8850, 120)\n",
      "y_holdout: (8850,)\n",
      "Error holdout semillerio: 94.55 (Toneladas cluster:  23.50653 )\n",
      "******************************************* CLUSTER 60 *******************************************\n",
      "# Productos: 11\n",
      "# Clientes: 597\n",
      "Periodos entrenar ALL: [201701 201702 201703 201704 201705 201706 201707 201708 201709 201710\n",
      " 201711 201712 201801 201802 201803 201804 201805 201806 201807 201808\n",
      " 201809 201810 201811 201812 201901 201902 201903 201904 201905 201906\n",
      " 201907]\n",
      "Periodos holdout: [201910]\n",
      "\n",
      "X_train_all: (160799, 120)\n",
      "y_train_all: (160799,)\n",
      "\n",
      "X_holdout: (6490, 120)\n",
      "y_holdout: (6490,)\n",
      "Error holdout semillerio: 105.93 (Toneladas cluster:  5.06699 )\n",
      "******************************************* CLUSTER 61 *******************************************\n",
      "# Productos: 1\n",
      "# Clientes: 597\n",
      "Periodos entrenar ALL: [201810 201811 201812 201901 201902 201903 201904 201905 201906 201907]\n",
      "Periodos holdout: [201910]\n",
      "\n",
      "X_train_all: (5650, 120)\n",
      "y_train_all: (5650,)\n",
      "\n",
      "X_holdout: (590, 120)\n",
      "y_holdout: (590,)\n",
      "Error holdout semillerio: 158.48 (Toneladas cluster:  8.63227 )\n",
      "******************************************* CLUSTER 62 *******************************************\n",
      "# Productos: 13\n",
      "# Clientes: 597\n",
      "Periodos entrenar ALL: [201701 201702 201703 201704 201705 201706 201707 201708 201709 201710\n",
      " 201711 201712 201801 201802 201803 201804 201805 201806 201807 201808\n",
      " 201809 201810 201811 201812 201901 201902 201903 201904 201905 201906\n",
      " 201907]\n",
      "Periodos holdout: [201910]\n",
      "\n",
      "X_train_all: (188683, 120)\n",
      "y_train_all: (188683,)\n",
      "\n",
      "X_holdout: (7670, 120)\n",
      "y_holdout: (7670,)\n",
      "Error holdout semillerio: 243.39 (Toneladas cluster:  3.13571 )\n",
      "******************************************* CLUSTER 63 *******************************************\n",
      "# Productos: 2\n",
      "# Clientes: 597\n",
      "Periodos entrenar ALL: []\n",
      "Periodos holdout: [201910]\n",
      "\n",
      "X_train_all: (0, 120)\n",
      "y_train_all: (0,)\n",
      "\n",
      "X_holdout: (1180, 120)\n",
      "y_holdout: (1180,)\n",
      "******************************************* CLUSTER 64 *******************************************\n",
      "# Productos: 1\n",
      "# Clientes: 597\n",
      "Periodos entrenar ALL: []\n",
      "Periodos holdout: []\n",
      "\n",
      "X_train_all: (0, 120)\n",
      "y_train_all: (0,)\n",
      "\n",
      "X_holdout: (0, 120)\n",
      "y_holdout: (0,)\n",
      "******************************************* CLUSTER 65 *******************************************\n",
      "# Productos: 1\n",
      "# Clientes: 597\n",
      "Periodos entrenar ALL: [201709 201710 201711 201712 201801 201802 201803 201804 201805 201806\n",
      " 201807 201808 201809 201810 201811 201812 201901 201902 201903 201904\n",
      " 201905 201906 201907]\n",
      "Periodos holdout: [201910]\n",
      "\n",
      "X_train_all: (12610, 120)\n",
      "y_train_all: (12610,)\n",
      "\n",
      "X_holdout: (590, 120)\n",
      "y_holdout: (590,)\n",
      "Error holdout semillerio: 111.7 (Toneladas cluster:  2.1974899999999997 )\n",
      "******************************************* CLUSTER 66 *******************************************\n",
      "# Productos: 10\n",
      "# Clientes: 597\n",
      "Periodos entrenar ALL: [201701 201702 201703 201704 201705 201706 201707 201708 201709 201710\n",
      " 201711 201712 201801 201802 201803 201804 201805 201806 201807 201808\n",
      " 201809 201810 201811 201812 201901 201902 201903 201904 201905 201906\n",
      " 201907]\n",
      "Periodos holdout: [201910]\n",
      "\n",
      "X_train_all: (116277, 120)\n",
      "y_train_all: (116277,)\n",
      "\n",
      "X_holdout: (5900, 120)\n",
      "y_holdout: (5900,)\n",
      "Error holdout semillerio: 232.91 (Toneladas cluster:  4.127759999999999 )\n",
      "******************************************* CLUSTER 67 *******************************************\n",
      "# Productos: 1\n",
      "# Clientes: 597\n",
      "Periodos entrenar ALL: [201808 201809 201810 201811 201812 201901 201902 201903 201904 201905\n",
      " 201906 201907]\n",
      "Periodos holdout: [201910]\n",
      "\n",
      "X_train_all: (6752, 120)\n",
      "y_train_all: (6752,)\n",
      "\n",
      "X_holdout: (590, 120)\n",
      "y_holdout: (590,)\n",
      "Error holdout semillerio: 128.43 (Toneladas cluster:  3.6574500000000003 )\n",
      "******************************************* CLUSTER 68 *******************************************\n",
      "# Productos: 1\n",
      "# Clientes: 597\n",
      "Periodos entrenar ALL: []\n",
      "Periodos holdout: []\n",
      "\n",
      "X_train_all: (0, 120)\n",
      "y_train_all: (0,)\n",
      "\n",
      "X_holdout: (0, 120)\n",
      "y_holdout: (0,)\n",
      "******************************************* CLUSTER 69 *******************************************\n",
      "# Productos: 2\n",
      "# Clientes: 597\n",
      "Periodos entrenar ALL: [201701 201702 201703 201704 201705 201706 201707 201708 201709 201710\n",
      " 201711 201712 201801 201802 201803 201804 201805 201806 201807 201808\n",
      " 201809 201810 201811 201812 201901 201902 201903 201904 201905 201906\n",
      " 201907]\n",
      "Periodos holdout: [201910]\n",
      "\n",
      "X_train_all: (33222, 120)\n",
      "y_train_all: (33222,)\n",
      "\n",
      "X_holdout: (1180, 120)\n",
      "y_holdout: (1180,)\n",
      "Error holdout semillerio: 88.92 (Toneladas cluster:  5.289269999999999 )\n",
      "******************************************* CLUSTER 70 *******************************************\n",
      "# Productos: 1\n",
      "# Clientes: 597\n",
      "Periodos entrenar ALL: [201701 201702 201703 201704 201705 201706 201707 201708 201709 201710\n",
      " 201711 201712 201801 201802 201803 201804 201805 201806 201807 201808\n",
      " 201809 201810 201811 201812 201901 201902 201903 201904 201905 201906\n",
      " 201907]\n",
      "Periodos holdout: [201910]\n",
      "\n",
      "X_train_all: (16611, 120)\n",
      "y_train_all: (16611,)\n",
      "\n",
      "X_holdout: (590, 120)\n",
      "y_holdout: (590,)\n",
      "Error holdout semillerio: 472.04 (Toneladas cluster:  0.7908299999999999 )\n",
      "******************************************* CLUSTER 71 *******************************************\n",
      "# Productos: 26\n",
      "# Clientes: 597\n",
      "Periodos entrenar ALL: [201701 201702 201703 201704 201705 201706 201707 201708 201709 201710\n",
      " 201711 201712 201801 201802 201803 201804 201805 201806 201807 201808\n",
      " 201809 201810 201811 201812 201901 201902 201903 201904 201905 201906\n",
      " 201907]\n",
      "Periodos holdout: [201910]\n",
      "\n",
      "X_train_all: (318554, 120)\n",
      "y_train_all: (318554,)\n",
      "\n",
      "X_holdout: (15340, 120)\n",
      "y_holdout: (15340,)\n",
      "Error holdout semillerio: 133.99 (Toneladas cluster:  12.619900000000001 )\n",
      "******************************************* CLUSTER 72 *******************************************\n",
      "# Productos: 6\n",
      "# Clientes: 597\n",
      "Periodos entrenar ALL: [201701 201702 201703 201704 201705 201706 201707 201708 201709 201710\n",
      " 201711 201712 201801 201802 201803 201804 201805 201806 201807 201808\n",
      " 201809 201810 201811 201812 201901 201902 201903 201904 201905 201906\n",
      " 201907]\n",
      "Periodos holdout: [201910]\n",
      "\n",
      "X_train_all: (86088, 120)\n",
      "y_train_all: (86088,)\n",
      "\n",
      "X_holdout: (3540, 120)\n",
      "y_holdout: (3540,)\n",
      "Error holdout semillerio: 127.03 (Toneladas cluster:  2.5022599999999997 )\n",
      "******************************************* CLUSTER 73 *******************************************\n",
      "# Productos: 45\n",
      "# Clientes: 597\n",
      "Periodos entrenar ALL: [201701 201702 201703 201704 201705 201706 201707 201708 201709 201710\n",
      " 201711 201712 201801 201802 201803 201804 201805 201806 201807 201808\n",
      " 201809 201810 201811 201812 201901 201902 201903 201904 201905 201906\n",
      " 201907]\n",
      "Periodos holdout: [201910]\n",
      "\n",
      "X_train_all: (651637, 120)\n",
      "y_train_all: (651637,)\n",
      "\n",
      "X_holdout: (26550, 120)\n",
      "y_holdout: (26550,)\n",
      "Error holdout semillerio: 0 (Toneladas cluster:  0.0 )\n",
      "******************************************* CLUSTER 74 *******************************************\n",
      "# Productos: 2\n",
      "# Clientes: 597\n",
      "Periodos entrenar ALL: []\n",
      "Periodos holdout: [201910]\n",
      "\n",
      "X_train_all: (0, 120)\n",
      "y_train_all: (0,)\n",
      "\n",
      "X_holdout: (1180, 120)\n",
      "y_holdout: (1180,)\n",
      "******************************************* CLUSTER 75 *******************************************\n",
      "# Productos: 1\n",
      "# Clientes: 597\n",
      "Periodos entrenar ALL: [201810 201811 201812 201901 201902 201903 201904 201905 201906 201907]\n",
      "Periodos holdout: [201910]\n",
      "\n",
      "X_train_all: (5650, 120)\n",
      "y_train_all: (5650,)\n",
      "\n",
      "X_holdout: (590, 120)\n",
      "y_holdout: (590,)\n",
      "Error holdout semillerio: 199.52 (Toneladas cluster:  2.29088 )\n",
      "******************************************* CLUSTER 76 *******************************************\n",
      "# Productos: 1\n",
      "# Clientes: 597\n",
      "Periodos entrenar ALL: [201905 201906 201907]\n",
      "Periodos holdout: [201910]\n",
      "\n",
      "X_train_all: (1725, 120)\n",
      "y_train_all: (1725,)\n",
      "\n",
      "X_holdout: (590, 120)\n",
      "y_holdout: (590,)\n",
      "Error holdout semillerio: 225.72 (Toneladas cluster:  2.92793 )\n",
      "******************************************* CLUSTER 77 *******************************************\n",
      "# Productos: 3\n",
      "# Clientes: 597\n",
      "Periodos entrenar ALL: []\n",
      "Periodos holdout: [201910]\n",
      "\n",
      "X_train_all: (0, 120)\n",
      "y_train_all: (0,)\n",
      "\n",
      "X_holdout: (1770, 120)\n",
      "y_holdout: (1770,)\n",
      "******************************************* CLUSTER 78 *******************************************\n",
      "# Productos: 5\n",
      "# Clientes: 597\n",
      "Periodos entrenar ALL: [201701 201702 201703 201704 201705 201706 201707 201708 201709 201710\n",
      " 201711 201712 201801 201802 201803 201804 201805 201806 201807 201808\n",
      " 201809 201810 201811 201812 201901 201902 201903 201904 201905 201906\n",
      " 201907]\n",
      "Periodos holdout: [201910]\n",
      "\n",
      "X_train_all: (83055, 120)\n",
      "y_train_all: (83055,)\n",
      "\n",
      "X_holdout: (2950, 120)\n",
      "y_holdout: (2950,)\n",
      "Error holdout semillerio: 182.76 (Toneladas cluster:  0.7559599999999999 )\n",
      "******************************************* CLUSTER 79 *******************************************\n",
      "# Productos: 3\n",
      "# Clientes: 597\n",
      "Periodos entrenar ALL: []\n",
      "Periodos holdout: [201910]\n",
      "\n",
      "X_train_all: (0, 120)\n",
      "y_train_all: (0,)\n",
      "\n",
      "X_holdout: (1770, 120)\n",
      "y_holdout: (1770,)\n",
      "******************************************* CLUSTER 80 *******************************************\n",
      "# Productos: 6\n",
      "# Clientes: 597\n",
      "Periodos entrenar ALL: [201809 201810 201811 201812 201901 201902 201903 201904 201905 201906\n",
      " 201907]\n",
      "Periodos holdout: [201910]\n",
      "\n",
      "X_train_all: (37218, 120)\n",
      "y_train_all: (37218,)\n",
      "\n",
      "X_holdout: (3540, 120)\n",
      "y_holdout: (3540,)\n",
      "Error holdout semillerio: 0 (Toneladas cluster:  0.0 )\n",
      "******************************************* CLUSTER 81 *******************************************\n",
      "# Productos: 3\n",
      "# Clientes: 597\n",
      "Periodos entrenar ALL: [201701 201702 201703 201704 201705 201706 201707 201708 201709 201710\n",
      " 201711 201712 201801 201802 201803 201804 201805 201806 201807 201808\n",
      " 201809 201810 201811 201812 201901 201902 201903 201904 201905 201906\n",
      " 201907]\n",
      "Periodos holdout: [201910]\n",
      "\n",
      "X_train_all: (49833, 120)\n",
      "y_train_all: (49833,)\n",
      "\n",
      "X_holdout: (1770, 120)\n",
      "y_holdout: (1770,)\n",
      "Error holdout semillerio: 433.56 (Toneladas cluster:  0.13177999999999998 )\n",
      "******************************************* CLUSTER 82 *******************************************\n",
      "# Productos: 3\n",
      "# Clientes: 597\n",
      "Periodos entrenar ALL: [201701 201702 201703 201704 201705 201706 201707 201708 201709 201710\n",
      " 201711 201712 201801 201802 201803 201804 201805 201806 201807 201808\n",
      " 201809 201810 201811 201812 201901 201902 201903 201904 201905 201906\n",
      " 201907]\n",
      "Periodos holdout: [201910]\n",
      "\n",
      "X_train_all: (35517, 120)\n",
      "y_train_all: (35517,)\n",
      "\n",
      "X_holdout: (1770, 120)\n",
      "y_holdout: (1770,)\n",
      "Error holdout semillerio: 92.59 (Toneladas cluster:  1.2043799999999998 )\n",
      "******************************************* CLUSTER 83 *******************************************\n",
      "# Productos: 5\n",
      "# Clientes: 597\n",
      "Periodos entrenar ALL: [201701 201702 201703 201704 201705 201706 201707 201708 201709 201710\n",
      " 201711 201712 201801 201802 201803 201804 201805 201806 201807 201808\n",
      " 201809 201810 201811 201812 201901 201902 201903 201904 201905 201906\n",
      " 201907]\n",
      "Periodos holdout: [201910]\n",
      "\n",
      "X_train_all: (41223, 120)\n",
      "y_train_all: (41223,)\n",
      "\n",
      "X_holdout: (2950, 120)\n",
      "y_holdout: (2950,)\n",
      "Error holdout semillerio: 127.24 (Toneladas cluster:  0.7686799999999999 )\n",
      "******************************************* CLUSTER 84 *******************************************\n",
      "# Productos: 4\n",
      "# Clientes: 597\n",
      "Periodos entrenar ALL: [201711 201712 201801 201802 201803 201804 201805 201806 201807 201808\n",
      " 201809 201810 201811 201812 201901 201902 201903 201904 201905 201906\n",
      " 201907]\n",
      "Periodos holdout: [201910]\n",
      "\n",
      "X_train_all: (40330, 120)\n",
      "y_train_all: (40330,)\n",
      "\n",
      "X_holdout: (2360, 120)\n",
      "y_holdout: (2360,)\n",
      "Error holdout semillerio: 148.12 (Toneladas cluster:  0.6925699999999999 )\n",
      "******************************************* CLUSTER 85 *******************************************\n",
      "# Productos: 1\n",
      "# Clientes: 597\n",
      "Periodos entrenar ALL: [201809 201810 201811 201812 201901 201902 201903 201904 201905 201906\n",
      " 201907]\n",
      "Periodos holdout: [201910]\n",
      "\n",
      "X_train_all: (6203, 120)\n",
      "y_train_all: (6203,)\n",
      "\n",
      "X_holdout: (590, 120)\n",
      "y_holdout: (590,)\n",
      "Error holdout semillerio: 284.19 (Toneladas cluster:  0.10701999999999999 )\n",
      "******************************************* CLUSTER 86 *******************************************\n",
      "# Productos: 2\n",
      "# Clientes: 597\n",
      "Periodos entrenar ALL: [201906 201907]\n",
      "Periodos holdout: [201910]\n",
      "\n",
      "X_train_all: (2308, 120)\n",
      "y_train_all: (2308,)\n",
      "\n",
      "X_holdout: (1180, 120)\n",
      "y_holdout: (1180,)\n",
      "IMPUTACION!!!\n",
      "Error holdout semillerio: 1474.56 (Toneladas cluster:  0.38919000000000004 )\n",
      "******************************************* CLUSTER 87 *******************************************\n",
      "# Productos: 3\n",
      "# Clientes: 597\n",
      "Periodos entrenar ALL: [201902 201903 201904 201905 201906 201907]\n",
      "Periodos holdout: [201910]\n",
      "\n",
      "X_train_all: (10269, 120)\n",
      "y_train_all: (10269,)\n",
      "\n",
      "X_holdout: (1770, 120)\n",
      "y_holdout: (1770,)\n",
      "Error holdout semillerio: 182.17 (Toneladas cluster:  0.5372 )\n",
      "******************************************* CLUSTER 88 *******************************************\n",
      "# Productos: 3\n",
      "# Clientes: 597\n",
      "Periodos entrenar ALL: [201711 201712 201801 201802 201803 201804 201805 201806 201807 201808\n",
      " 201809 201810 201811 201812 201901 201902 201903 201904 201905 201906\n",
      " 201907]\n",
      "Periodos holdout: [201910]\n",
      "\n",
      "X_train_all: (34680, 120)\n",
      "y_train_all: (34680,)\n",
      "\n",
      "X_holdout: (1770, 120)\n",
      "y_holdout: (1770,)\n",
      "Error holdout semillerio: 118.79 (Toneladas cluster:  0.49851999999999996 )\n",
      "******************************************* CLUSTER 89 *******************************************\n",
      "# Productos: 4\n",
      "# Clientes: 597\n",
      "Periodos entrenar ALL: [201701 201702 201703 201704 201705 201706 201707 201708 201709 201710\n",
      " 201711 201712 201801 201802 201803 201804 201805 201806 201807 201808\n",
      " 201809 201810 201811 201812 201901 201902 201903 201904 201905 201906\n",
      " 201907]\n",
      "Periodos holdout: [201910]\n",
      "\n",
      "X_train_all: (66444, 120)\n",
      "y_train_all: (66444,)\n",
      "\n",
      "X_holdout: (2360, 120)\n",
      "y_holdout: (2360,)\n",
      "Error holdout semillerio: 233.41 (Toneladas cluster:  0.1117 )\n",
      "******************************************* CLUSTER 90 *******************************************\n",
      "# Productos: 4\n",
      "# Clientes: 597\n",
      "Periodos entrenar ALL: [201809 201810 201811 201812 201901 201902 201903 201904 201905 201906\n",
      " 201907]\n",
      "Periodos holdout: [201910]\n",
      "\n",
      "X_train_all: (24812, 120)\n",
      "y_train_all: (24812,)\n",
      "\n",
      "X_holdout: (2360, 120)\n",
      "y_holdout: (2360,)\n",
      "Error holdout semillerio: 111.48 (Toneladas cluster:  0.47431 )\n",
      "******************************************* CLUSTER 91 *******************************************\n",
      "# Productos: 2\n",
      "# Clientes: 597\n",
      "Periodos entrenar ALL: [201701 201702 201703 201704 201705 201706 201707 201708 201709 201710\n",
      " 201711 201712 201801 201802 201803 201804 201805 201806 201807 201808\n",
      " 201809 201810 201811 201812 201901 201902 201903 201904 201905 201906\n",
      " 201907]\n",
      "Periodos holdout: [201910]\n",
      "\n",
      "X_train_all: (33222, 120)\n",
      "y_train_all: (33222,)\n",
      "\n",
      "X_holdout: (1180, 120)\n",
      "y_holdout: (1180,)\n",
      "Error holdout semillerio: 196.77 (Toneladas cluster:  0.03422 )\n",
      "******************************************* CLUSTER 92 *******************************************\n",
      "# Productos: 2\n",
      "# Clientes: 597\n",
      "Periodos entrenar ALL: [201701 201702 201703 201704 201705 201706 201707 201708 201709 201710\n",
      " 201711 201712 201801 201802 201803 201804 201805 201806 201807 201808\n",
      " 201809 201810 201811 201812 201901 201902 201903 201904 201905 201906\n",
      " 201907]\n",
      "Periodos holdout: [201910]\n",
      "\n",
      "X_train_all: (33222, 120)\n",
      "y_train_all: (33222,)\n",
      "\n",
      "X_holdout: (1180, 120)\n",
      "y_holdout: (1180,)\n",
      "Error holdout semillerio: 259.71 (Toneladas cluster:  0.07935 )\n",
      "******************************************* CLUSTER 93 *******************************************\n",
      "# Productos: 2\n",
      "# Clientes: 597\n",
      "Periodos entrenar ALL: [201707 201708 201709 201710 201711 201712 201801 201802 201803 201804\n",
      " 201805 201806 201807 201808 201809 201810 201811 201812 201901 201902\n",
      " 201903 201904 201905 201906 201907]\n",
      "Periodos holdout: [201910]\n",
      "\n",
      "X_train_all: (27294, 120)\n",
      "y_train_all: (27294,)\n",
      "\n",
      "X_holdout: (1180, 120)\n",
      "y_holdout: (1180,)\n",
      "Error holdout semillerio: 750.55 (Toneladas cluster:  0.011880000000000002 )\n"
     ]
    }
   ],
   "source": [
    "# Holdout\n",
    "prod_cust_iter = []\n",
    "prod_iter = []\n",
    "cust_iter = []\n",
    "y_iter = []\n",
    "y_pred_iter = []\n",
    "err_holdout_cluster_iter = []\n",
    "\n",
    "if(config.USAR_HOLDOUT_PARAM):\n",
    "    \n",
    "    for i in range(0,num_clusters):   \n",
    "        print(\"******************************************* CLUSTER\",i,\"*******************************************\")\n",
    "\n",
    "        df_sellout = pd.read_csv(prefijo_arch_entrada + str(i) + \".csv\")\n",
    "              \n",
    "        ### Categoricas\n",
    "        df_sellout = extras.convertir_categoricas_prod_cust(df_sellout)\n",
    "    \n",
    "        ### Remover columnas\n",
    "        df_sellout = df_sellout.drop(columns=[\"periodo_fecha\",\"brand\"])\n",
    "\n",
    "        print(\"# Productos:\",len(df_sellout.product_id.unique()))\n",
    "        print(\"# Clientes:\",len(df_sellout.customer_id.unique()))\n",
    "\n",
    "        # Dataframes\n",
    "        df_train_all = df_sellout[(df_sellout.periodo <= config.TRAIN_ALL_PERIODO_LIMITE_PARAM) & (df_sellout.periodo >= config.PERIODO_INICIO_PARAM)]\n",
    "        df_holdout = df_sellout[df_sellout.periodo == config.HOLDOUT_PERIODO_PARAM]\n",
    "           \n",
    "        print(\"Periodos entrenar ALL:\",df_train_all.periodo.unique())\n",
    "        print(\"Periodos holdout:\",df_holdout.periodo.unique())\n",
    "    \n",
    "        # Variables entrenamiento\n",
    "        X_train_all = df_train_all.drop(columns=cols_remover_entren, axis=1)\n",
    "        X_holdout = df_holdout.drop(columns=cols_remover_entren, axis=1)\n",
    "        \n",
    "        y_train_all = df_train_all.tn_mas_2\n",
    "        y_holdout = df_holdout.tn_mas_2\n",
    "        print(\"\\nX_train_all:\", X_train_all.shape)\n",
    "        print(\"y_train_all:\", y_train_all.shape)\n",
    "        \n",
    "        print(\"\\nX_holdout:\", X_holdout.shape)\n",
    "        print(\"y_holdout:\", y_holdout.shape)\n",
    "\n",
    "        if len(X_train_all)>0:\n",
    "            # Si se pudo entrenar la OB...\n",
    "            if df_opt_bay.iloc[i].lgb_params!=None:\n",
    "                lgbtrain_all = lgb.Dataset(data=X_train_all, label=y_train_all, feature_name=cols_entren)\n",
    "        \n",
    "                #Semillerio\n",
    "                y_pred_holdout_semillerio = lightgbm_aux.semillerio(lgbtrain_all, df_opt_bay.iloc[i].lgb_params, int(df_opt_bay.iloc[i].best_iteration), X_holdout,config.CANT_SEMILLAS)\n",
    "            # Si no se pudo entrenar...\n",
    "            else:\n",
    "                print(\"IMPUTACION!!!\")\n",
    "                #Obtengo promedio de valores de entrenamiento y asumo que esa es la prediccion\n",
    "                media_imputada = X_train_all.tn.mean()\n",
    "                y_pred_holdout_semillerio = np.full(len(X_holdout.prod_cust),media_imputada)\n",
    "\n",
    "            er_holdout_semillerio= metricas.error_rate(y_holdout,y_pred_holdout_semillerio)\n",
    "            print(\"Error holdout semillerio:\",er_holdout_semillerio, \"(Toneladas cluster: \", y_holdout.sum(),\")\")\n",
    "            \n",
    "            prod_cust_iter.extend(X_holdout.prod_cust.reset_index(drop=True))\n",
    "            prod_iter.extend(X_holdout.product_id.reset_index(drop=True))\n",
    "            cust_iter.extend(X_holdout.customer_id.reset_index(drop=True))\n",
    "            y_iter.extend(y_holdout)\n",
    "            y_pred_iter.extend(y_pred_holdout_semillerio)\n",
    "            err_holdout_cluster_iter.append(er_holdout_semillerio)\n",
    "        else:\n",
    "            err_holdout_cluster_iter.append(None)"
   ]
  },
  {
   "cell_type": "code",
   "execution_count": 13,
   "id": "f36aa6a1-ea2d-4110-8342-d73d22c5c2bd",
   "metadata": {},
   "outputs": [
    {
     "data": {
      "text/html": [
       "<div>\n",
       "<style scoped>\n",
       "    .dataframe tbody tr th:only-of-type {\n",
       "        vertical-align: middle;\n",
       "    }\n",
       "\n",
       "    .dataframe tbody tr th {\n",
       "        vertical-align: top;\n",
       "    }\n",
       "\n",
       "    .dataframe thead th {\n",
       "        text-align: right;\n",
       "    }\n",
       "</style>\n",
       "<table border=\"1\" class=\"dataframe\">\n",
       "  <thead>\n",
       "    <tr style=\"text-align: right;\">\n",
       "      <th></th>\n",
       "      <th>cluster</th>\n",
       "      <th>error_validate</th>\n",
       "      <th>lgb_params</th>\n",
       "      <th>best_iteration</th>\n",
       "      <th>error_holdout</th>\n",
       "    </tr>\n",
       "  </thead>\n",
       "  <tbody>\n",
       "    <tr>\n",
       "      <th>0</th>\n",
       "      <td>0</td>\n",
       "      <td>79.55</td>\n",
       "      <td>{'objective': 'tweedie', 'first_metric_only': ...</td>\n",
       "      <td>636.00</td>\n",
       "      <td>79.98</td>\n",
       "    </tr>\n",
       "    <tr>\n",
       "      <th>1</th>\n",
       "      <td>1</td>\n",
       "      <td>66.11</td>\n",
       "      <td>{'objective': 'tweedie', 'first_metric_only': ...</td>\n",
       "      <td>114.00</td>\n",
       "      <td>88.43</td>\n",
       "    </tr>\n",
       "    <tr>\n",
       "      <th>2</th>\n",
       "      <td>2</td>\n",
       "      <td>93.84</td>\n",
       "      <td>{'objective': 'tweedie', 'first_metric_only': ...</td>\n",
       "      <td>1042.00</td>\n",
       "      <td>88.47</td>\n",
       "    </tr>\n",
       "    <tr>\n",
       "      <th>3</th>\n",
       "      <td>3</td>\n",
       "      <td>79.41</td>\n",
       "      <td>{'objective': 'tweedie', 'first_metric_only': ...</td>\n",
       "      <td>6840.00</td>\n",
       "      <td>99.62</td>\n",
       "    </tr>\n",
       "    <tr>\n",
       "      <th>4</th>\n",
       "      <td>4</td>\n",
       "      <td>85.19</td>\n",
       "      <td>{'objective': 'tweedie', 'first_metric_only': ...</td>\n",
       "      <td>30.00</td>\n",
       "      <td>130.53</td>\n",
       "    </tr>\n",
       "    <tr>\n",
       "      <th>...</th>\n",
       "      <td>...</td>\n",
       "      <td>...</td>\n",
       "      <td>...</td>\n",
       "      <td>...</td>\n",
       "      <td>...</td>\n",
       "    </tr>\n",
       "    <tr>\n",
       "      <th>89</th>\n",
       "      <td>89</td>\n",
       "      <td>91.53</td>\n",
       "      <td>{'objective': 'tweedie', 'first_metric_only': ...</td>\n",
       "      <td>536.00</td>\n",
       "      <td>233.41</td>\n",
       "    </tr>\n",
       "    <tr>\n",
       "      <th>90</th>\n",
       "      <td>90</td>\n",
       "      <td>124.66</td>\n",
       "      <td>{'objective': 'tweedie', 'first_metric_only': ...</td>\n",
       "      <td>104.00</td>\n",
       "      <td>111.48</td>\n",
       "    </tr>\n",
       "    <tr>\n",
       "      <th>91</th>\n",
       "      <td>91</td>\n",
       "      <td>99.49</td>\n",
       "      <td>{'objective': 'tweedie', 'first_metric_only': ...</td>\n",
       "      <td>2895.00</td>\n",
       "      <td>196.77</td>\n",
       "    </tr>\n",
       "    <tr>\n",
       "      <th>92</th>\n",
       "      <td>92</td>\n",
       "      <td>260.91</td>\n",
       "      <td>{'objective': 'tweedie', 'first_metric_only': ...</td>\n",
       "      <td>163.00</td>\n",
       "      <td>259.71</td>\n",
       "    </tr>\n",
       "    <tr>\n",
       "      <th>93</th>\n",
       "      <td>93</td>\n",
       "      <td>238.92</td>\n",
       "      <td>{'objective': 'tweedie', 'first_metric_only': ...</td>\n",
       "      <td>1.00</td>\n",
       "      <td>750.55</td>\n",
       "    </tr>\n",
       "  </tbody>\n",
       "</table>\n",
       "<p>94 rows × 5 columns</p>\n",
       "</div>"
      ],
      "text/plain": [
       "    cluster  error_validate  \\\n",
       "0         0           79.55   \n",
       "1         1           66.11   \n",
       "2         2           93.84   \n",
       "3         3           79.41   \n",
       "4         4           85.19   \n",
       "..      ...             ...   \n",
       "89       89           91.53   \n",
       "90       90          124.66   \n",
       "91       91           99.49   \n",
       "92       92          260.91   \n",
       "93       93          238.92   \n",
       "\n",
       "                                           lgb_params  best_iteration  \\\n",
       "0   {'objective': 'tweedie', 'first_metric_only': ...          636.00   \n",
       "1   {'objective': 'tweedie', 'first_metric_only': ...          114.00   \n",
       "2   {'objective': 'tweedie', 'first_metric_only': ...         1042.00   \n",
       "3   {'objective': 'tweedie', 'first_metric_only': ...         6840.00   \n",
       "4   {'objective': 'tweedie', 'first_metric_only': ...           30.00   \n",
       "..                                                ...             ...   \n",
       "89  {'objective': 'tweedie', 'first_metric_only': ...          536.00   \n",
       "90  {'objective': 'tweedie', 'first_metric_only': ...          104.00   \n",
       "91  {'objective': 'tweedie', 'first_metric_only': ...         2895.00   \n",
       "92  {'objective': 'tweedie', 'first_metric_only': ...          163.00   \n",
       "93  {'objective': 'tweedie', 'first_metric_only': ...            1.00   \n",
       "\n",
       "    error_holdout  \n",
       "0           79.98  \n",
       "1           88.43  \n",
       "2           88.47  \n",
       "3           99.62  \n",
       "4          130.53  \n",
       "..            ...  \n",
       "89         233.41  \n",
       "90         111.48  \n",
       "91         196.77  \n",
       "92         259.71  \n",
       "93         750.55  \n",
       "\n",
       "[94 rows x 5 columns]"
      ]
     },
     "execution_count": 13,
     "metadata": {},
     "output_type": "execute_result"
    }
   ],
   "source": [
    "df_opt_bay[\"error_holdout\"]=err_holdout_cluster_iter\n",
    "df_opt_bay.to_excel(carpeta_exp +  \"opt_bay.xlsx\",index=False)\n",
    "\n",
    "df_opt_bay"
   ]
  },
  {
   "cell_type": "code",
   "execution_count": 14,
   "id": "332e49dc-bc35-4407-b6f1-80307fd087bf",
   "metadata": {},
   "outputs": [
    {
     "name": "stdout",
     "output_type": "stream",
     "text": [
      "ER Holdout General: 95.34\n"
     ]
    }
   ],
   "source": [
    "df_pred = pd.DataFrame(data={\"prod_cust\":prod_cust_iter,\"product_id\":prod_iter,\"customer_id\":cust_iter,\"tn_real\":y_iter,\"tn_pred\":y_pred_iter})\n",
    "df_pred = df_pred[df_pred.product_id.isin(df_prods_prediccion_entren.product_id)]\n",
    "er_holdout_general = metricas.error_rate(df_pred.tn_real,df_pred.tn_pred)\n",
    "print(\"ER Holdout General:\",er_holdout_general)\n",
    "df_pred.to_csv(carpeta_exp +  \"general_prediction_\" + str(er_holdout_general) + \".csv\",index=False)"
   ]
  },
  {
   "cell_type": "code",
   "execution_count": 15,
   "id": "38ddc4b0-d81d-4636-bee3-e5c1675a06ce",
   "metadata": {},
   "outputs": [
    {
     "name": "stdout",
     "output_type": "stream",
     "text": [
      "ER Holdout por Producto: 27.13\n"
     ]
    }
   ],
   "source": [
    "df_pred_prod = df_pred.groupby(\"product_id\").agg({\"tn_real\":\"sum\",\"tn_pred\":\"sum\"}).reset_index()\n",
    "er_holdout_prod = metricas.error_rate(df_pred_prod.tn_real,df_pred_prod.tn_pred)\n",
    "print(\"ER Holdout por Producto:\",er_holdout_prod)\n",
    "df_pred_prod.to_csv(carpeta_exp +  \"prod_prediction_\" + str(er_holdout_prod) + \".csv\",index=False)"
   ]
  },
  {
   "cell_type": "code",
   "execution_count": 16,
   "id": "4b17b310-0032-463f-9a54-c048febe6927",
   "metadata": {},
   "outputs": [
    {
     "name": "stdout",
     "output_type": "stream",
     "text": [
      "ER Holdout por Producto-Cliente Estrellas: 54.43\n"
     ]
    }
   ],
   "source": [
    "star_products = [20001, 20002, 20003, 20004, 20005, 20006, 20007, 20009, 20011, 20032]\n",
    "star_customers = [10001, 10002, 10003, 10004, 10005, 10006, 10007, 10008, 10009, 10011, 10012, 10013]\n",
    "df_pred_star = df_pred[(df_pred.product_id.isin(star_products))&(df_pred.customer_id.isin(star_customers))]\n",
    "\n",
    "er_holdout_star= metricas.error_rate(df_pred_star.tn_real,df_pred_star.tn_pred)\n",
    "print(\"ER Holdout por Producto-Cliente Estrellas:\",er_holdout_star)\n",
    "df_pred_prod.to_csv(carpeta_exp +  \"prod_cust_prediction_\" + str(er_holdout_star) + \".csv\",index=False)"
   ]
  },
  {
   "cell_type": "code",
   "execution_count": 17,
   "id": "d4683c7c-e768-4b55-b897-b178f8c4fdd5",
   "metadata": {},
   "outputs": [
    {
     "name": "stdout",
     "output_type": "stream",
     "text": [
      "FINALIZADO\n"
     ]
    },
    {
     "data": {
      "text/plain": [
       "'20231221_113904'"
      ]
     },
     "execution_count": 17,
     "metadata": {},
     "output_type": "execute_result"
    }
   ],
   "source": [
    "print(\"FINALIZADO\")\n",
    "exp_numero"
   ]
  }
 ],
 "metadata": {
  "kernelspec": {
   "display_name": "Python 3 (ipykernel)",
   "language": "python",
   "name": "python3"
  },
  "language_info": {
   "codemirror_mode": {
    "name": "ipython",
    "version": 3
   },
   "file_extension": ".py",
   "mimetype": "text/x-python",
   "name": "python",
   "nbconvert_exporter": "python",
   "pygments_lexer": "ipython3",
   "version": "3.10.12"
  }
 },
 "nbformat": 4,
 "nbformat_minor": 5
}
