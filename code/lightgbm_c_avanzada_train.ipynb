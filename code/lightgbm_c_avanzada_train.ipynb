{
 "cells": [
  {
   "cell_type": "code",
   "execution_count": 1,
   "id": "946a34f4-5c14-46cf-a39d-9794031463bb",
   "metadata": {},
   "outputs": [
    {
     "data": {
      "text/html": [
       "<style type='text/css'>\n",
       ".datatable table.frame { margin-bottom: 0; }\n",
       ".datatable table.frame thead { border-bottom: none; }\n",
       ".datatable table.frame tr.coltypes td {  color: #FFFFFF;  line-height: 6px;  padding: 0 0.5em;}\n",
       ".datatable .bool    { background: #DDDD99; }\n",
       ".datatable .object  { background: #565656; }\n",
       ".datatable .int     { background: #5D9E5D; }\n",
       ".datatable .float   { background: #4040CC; }\n",
       ".datatable .str     { background: #CC4040; }\n",
       ".datatable .time    { background: #40CC40; }\n",
       ".datatable .row_index {  background: var(--jp-border-color3);  border-right: 1px solid var(--jp-border-color0);  color: var(--jp-ui-font-color3);  font-size: 9px;}\n",
       ".datatable .frame tbody td { text-align: left; }\n",
       ".datatable .frame tr.coltypes .row_index {  background: var(--jp-border-color0);}\n",
       ".datatable th:nth-child(2) { padding-left: 12px; }\n",
       ".datatable .hellipsis {  color: var(--jp-cell-editor-border-color);}\n",
       ".datatable .vellipsis {  background: var(--jp-layout-color0);  color: var(--jp-cell-editor-border-color);}\n",
       ".datatable .na {  color: var(--jp-cell-editor-border-color);  font-size: 80%;}\n",
       ".datatable .sp {  opacity: 0.25;}\n",
       ".datatable .footer { font-size: 9px; }\n",
       ".datatable .frame_dimensions {  background: var(--jp-border-color3);  border-top: 1px solid var(--jp-border-color0);  color: var(--jp-ui-font-color3);  display: inline-block;  opacity: 0.6;  padding: 1px 10px 1px 5px;}\n",
       ".datatable .frame thead tr.colnames {  background-image: url('data:image/png;base64,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');  background-repeat: repeat-x;  background-size: 14px;  height: 28px;}\n",
       "</style>\n"
      ],
      "text/plain": [
       "<IPython.core.display.HTML object>"
      ]
     },
     "metadata": {},
     "output_type": "display_data"
    }
   ],
   "source": [
    "import os\n",
    "import lightgbm as lgb\n",
    "import pandas as pd\n",
    "import warnings\n",
    "from matplotlib import pyplot as plt\n",
    "import seaborn as sns\n",
    "import numpy as np\n",
    "import datetime\n",
    "import optuna\n",
    "import random\n",
    "from datetime import datetime\n",
    "import pytz\n",
    "\n",
    "# importo los .py\n",
    "import sys\n",
    "sys.path.append(\"auxiliares\")\n",
    "import config\n",
    "import metricas\n",
    "import lightgbm_aux\n",
    "import extras\n",
    "\n",
    "pd.options.display.float_format = '{:.2f}'.format\n",
    "pd.set_option('display.max_columns', None)\n",
    "\n",
    "# Ignore all warnings\n",
    "warnings.filterwarnings(\"ignore\")"
   ]
  },
  {
   "cell_type": "code",
   "execution_count": 2,
   "id": "11ac74ea-68b7-46f2-83ba-a06c00f1e25c",
   "metadata": {},
   "outputs": [],
   "source": [
    "####################################################\n",
    "############# Setear segun cada maquina ############\n",
    "#os.chdir(\"C:/Users/herna/labo3_empresa3_repo/\")\n",
    "#os.chdir(\"C:/diego_tools/labo3/\")\n",
    "os.chdir(\"/home/dcastro_contacto/buckets/b1/\")\n",
    "####################################################"
   ]
  },
  {
   "cell_type": "code",
   "execution_count": 3,
   "id": "02238d29-8545-4363-b04a-f73d55495d00",
   "metadata": {},
   "outputs": [],
   "source": [
    "#Manual\n",
    "prefijo_arch_entrada = \"datasets/emp3_sellout_fe_cluster_manual_\"\n",
    "num_clusters=94\n",
    "carpeta_base_exp = \"exp/avanzada_1/\"\n",
    "\n",
    "#Time Warping\n",
    "#prefijo_arch_entrada = \"datasets/emp3_sellout_base_cluster_warp_\"\n",
    "#prefijo_arch_salida = \"datasets/emp3_sellout_fe_cluster_warp_\"\n",
    "#num_clusters=94\n",
    "#carpeta_base_exp = \"exp/avanzada_2/\""
   ]
  },
  {
   "cell_type": "code",
   "execution_count": 4,
   "id": "547b30c6-7d6b-4c08-872b-6a88a987b237",
   "metadata": {},
   "outputs": [],
   "source": [
    "def lgbm_error_rate(preds, train_data):\n",
    "    labels = train_data.get_label()\n",
    "    ret_val = metricas.error_rate(labels,preds)\n",
    "    return 'ER', ret_val, False"
   ]
  },
  {
   "cell_type": "code",
   "execution_count": 5,
   "id": "fcc3b371-807e-45c2-954d-3e720b30ede9",
   "metadata": {},
   "outputs": [],
   "source": [
    "def objective(trial):\n",
    "    print(\"****************\", config.OBJECTIVE_PARAM, \"****************\")\n",
    "    \n",
    "    lgb_params = {\n",
    "        'objective': config.OBJECTIVE_PARAM,\n",
    "        'first_metric_only': True,\n",
    "        'boost_from_average': True,\n",
    "        'max_depth':-1,\n",
    "        'lambda_l1': trial.suggest_uniform('lambda_l1', 0.0,config.L1_UPPER_PARAM),\n",
    "        'lambda_l2': trial.suggest_uniform('lambda_l2', 0.0,config.L2_UPPER_PARAM),\n",
    "        'min_gain_to_split':0.0,\n",
    "        'force_row_wise':True,\n",
    "        'feature_pre_filter':False,\n",
    "        'metric': \"None\",\n",
    "        'max_bin': config.MAX_BIN_PARAM,\n",
    "        'learning_rate': trial.suggest_uniform('learning_rate', config.LEARNING_RATE_LOWER_PARAM,config.LEARNING_RATE_UPPER_PARAM ),\n",
    "        'num_leaves' : trial.suggest_int('num_leaves', config.NUM_LEAVES_LOWER_PARAM, config.NUM_LEAVES_UPPER_PARAM),\n",
    "        'feature_fraction': trial.suggest_uniform('feature_fraction', config.FEATURE_FRACTION_LOWER_PARAM, config.FEATURE_FRACTION_UPPER_PARAM),\n",
    "        'min_data_in_leaf': trial.suggest_int('min_data_in_leaf', config.MIN_DATA_IN_LEAF_LOWER_PARAM, config.MIN_DATA_IN_LEAF_UPPER_PARAM),\n",
    "        #'bagging_freq':trial.suggest_int('bagging_freq', 1, 10),\n",
    "        #'bagging_fraction': trial.suggest_categorical('bagging_fraction',[0.7,0.75,0.8,0.85,0.9,0.95]),\n",
    "        #'extra_trees':trial.suggest_categorical('extra_trees',[True,False]),\n",
    "        'verbose':-100,\n",
    "        'num_threads':-1\n",
    "    }\n",
    "    \n",
    "    lgb_params_num_boost_round = 10000  #un numero muy grande, lo limita early_stopping_rounds\n",
    "    lgb_params_early_stopping_rounds = int(50 + 5/lgb_params['learning_rate']) #  #el parametro discolo, que depende de otro\n",
    "    \n",
    "    lgb_train = lgb.Dataset(data=X_train, label=y_train, feature_name=cols_entren)\n",
    "    lgb_validate = lgb.Dataset(data=X_validate, label=y_validate, reference=lgb_train, feature_name=cols_entren)\n",
    "    \n",
    "    #Train using selected parameters\n",
    "    model = lgb.train(lgb_params, lgb_train,\n",
    "                  valid_sets=[lgb_validate],\n",
    "                  num_boost_round=lgb_params_num_boost_round,\n",
    "                  early_stopping_rounds=lgb_params_early_stopping_rounds,\n",
    "                  feval=lgbm_error_rate,\n",
    "                  verbose_eval=100)\n",
    "    \n",
    "    y_pred_validate =model.predict(X_validate) #Create predictions on test set\n",
    "    er_validate = metricas.error_rate(y_validate,y_pred_validate)\n",
    "    \n",
    "    GLOBAL_PARAMS_ITER.append(lgb_params)\n",
    "    GLOBAL_BEST_IT_ITER.append(model.best_iteration)\n",
    "    GLOBAL_ER_VALIDATE_ITER.append(er_validate)\n",
    "    GLOBAL_MODEL_ITER.append(model)\n",
    "    \n",
    "    return er_validate"
   ]
  },
  {
   "cell_type": "code",
   "execution_count": 6,
   "id": "53ccdb1f-2f93-4bb9-9f57-9bdf50c4251f",
   "metadata": {},
   "outputs": [],
   "source": [
    "##############################################"
   ]
  },
  {
   "cell_type": "code",
   "execution_count": 7,
   "id": "0b03fc43-674a-41d9-a8e1-ed01808d3894",
   "metadata": {},
   "outputs": [
    {
     "data": {
      "text/plain": [
       "'20231215_205105'"
      ]
     },
     "execution_count": 7,
     "metadata": {},
     "output_type": "execute_result"
    }
   ],
   "source": [
    "current_datetime = datetime.now().astimezone(pytz.timezone('America/Argentina/Buenos_Aires'))\n",
    "exp_numero = current_datetime.strftime(\"%Y%m%d %H%M%S\").replace(\" \", \"_\")\n",
    "exp_numero"
   ]
  },
  {
   "cell_type": "code",
   "execution_count": 8,
   "id": "30514097-0a62-449b-896b-d2045a91be8f",
   "metadata": {},
   "outputs": [],
   "source": [
    "# Guardo Info del experimento\n",
    "carpeta_exp = carpeta_base_exp + exp_numero + \"/\"\n",
    "if not os.path.exists(carpeta_exp):\n",
    "    os.makedirs(carpeta_exp)\n",
    "    \n",
    "# Parametros\n",
    "parametros_nombres = [\"PERIODO_INICIO_PARAM\",\"TRAIN_PERIODO_LIMITE_PARAM\",\"VALIDATE_PERIODO_PARAM\",\"USAR_HOLDOUT_PARAM\",\n",
    "                      \"TRAIN_ALL_PERIODO_LIMITE_PARAM\",\"HOLDOUT_PERIODO_PARAM\",\n",
    "                      \"MODELO_FINAL_PERIODO_LIMITE_PARAM\",\"FUTURE_PERIODO_PARAM\",\n",
    "                      \"ARCH_PRODUCTOS_PREDICCION_ENTRENAMIENTO\",\"ARCH_PRODUCTOS_PREDICCION_FUTURE\",\n",
    "                      \"NUM_LAGS_PARAM\",\"FAMILIA_FEATURES_TEMP_PARAM\",\n",
    "                      \"CANT_ITERACIONES_OPT_BAY_PARAM\",\"CANT_SEMILLAS\"]\n",
    "\n",
    "parametros_valores = [config.PERIODO_INICIO_PARAM,config.TRAIN_PERIODO_LIMITE_PARAM,config.VALIDATE_PERIODO_PARAM,\n",
    "                      config.USAR_HOLDOUT_PARAM,config.TRAIN_ALL_PERIODO_LIMITE_PARAM,config.HOLDOUT_PERIODO_PARAM,\n",
    "                      config.MODELO_FINAL_PERIODO_LIMITE_PARAM,config.FUTURE_PERIODO_PARAM,\n",
    "                      config.ARCH_PRODUCTOS_PREDICCION_ENTRENAMIENTO,config.ARCH_PRODUCTOS_PREDICCION_FUTURE,\n",
    "                      config.NUM_LAGS_PARAM,config.FAMILIA_FEATURES_TEMP_PARAM,\n",
    "                      config.CANT_ITERACIONES_OPT_BAY_PARAM, config.CANT_SEMILLAS]\n",
    "\n",
    "parametros = pd.DataFrame(data={\"nombre\":parametros_nombres,\"valor\":parametros_valores})\n",
    "parametros.to_csv(carpeta_exp + \"parametros.csv\",index=False)"
   ]
  },
  {
   "cell_type": "code",
   "execution_count": 9,
   "id": "71aa4bfe-d204-451c-85fe-ae97ee3d0248",
   "metadata": {},
   "outputs": [
    {
     "name": "stdout",
     "output_type": "stream",
     "text": [
      "=========================================== Cluster 0 ===========================================\n",
      "Periodos entrenar: [201701 201702 201703 201704 201705 201706 201707 201708 201709 201710\n",
      " 201711 201712 201801 201802 201803 201804 201805 201806 201807 201808\n",
      " 201809 201810 201811 201812 201901 201902 201903 201904 201905]\n",
      "Periodos validar: [201907]\n",
      "product_id a validar: 31900\n"
     ]
    },
    {
     "name": "stderr",
     "output_type": "stream",
     "text": [
      "[I 2023-12-15 23:51:28,966] A new study created in memory with name: no-name-a2e1231e-b048-4348-9964-eb00f76cdefe\n"
     ]
    },
    {
     "name": "stdout",
     "output_type": "stream",
     "text": [
      "X_train: (668859, 120)\n",
      "y_train: (668859,)\n",
      "\n",
      "X_validate: (31900, 120)\n",
      "y_validate: (31900,)\n",
      "Optimizacion Bayesiana\n",
      "**************** regression_l1 ****************\n",
      "Training until validation scores don't improve for 66 rounds\n",
      "[100]\tvalid_0's ER: 94.92\n",
      "[200]\tvalid_0's ER: 93.9\n",
      "[300]\tvalid_0's ER: 93.56\n"
     ]
    },
    {
     "name": "stderr",
     "output_type": "stream",
     "text": [
      "[I 2023-12-15 23:51:51,202] Trial 0 finished with value: 93.56 and parameters: {'lambda_l1': 906.9139464312829, 'lambda_l2': 627.4952386410281, 'learning_rate': 0.29998241901029465, 'num_leaves': 118, 'feature_fraction': 0.38188248762606136, 'min_data_in_leaf': 7755}. Best is trial 0 with value: 93.56.\n"
     ]
    },
    {
     "name": "stdout",
     "output_type": "stream",
     "text": [
      "Early stopping, best iteration is:\n",
      "[267]\tvalid_0's ER: 93.56\n",
      "Evaluated only: ER\n",
      "**************** regression_l1 ****************\n",
      "Training until validation scores don't improve for 155 rounds\n",
      "[100]\tvalid_0's ER: 93.33\n",
      "[200]\tvalid_0's ER: 92.22\n",
      "[300]\tvalid_0's ER: 91.71\n",
      "[400]\tvalid_0's ER: 91.59\n",
      "[500]\tvalid_0's ER: 91.44\n",
      "[600]\tvalid_0's ER: 91.33\n",
      "[700]\tvalid_0's ER: 91.14\n",
      "[800]\tvalid_0's ER: 90.99\n",
      "[900]\tvalid_0's ER: 90.83\n",
      "[1000]\tvalid_0's ER: 90.7\n",
      "[1100]\tvalid_0's ER: 90.59\n",
      "[1200]\tvalid_0's ER: 90.51\n",
      "[1300]\tvalid_0's ER: 90.46\n",
      "[1400]\tvalid_0's ER: 90.35\n",
      "[1500]\tvalid_0's ER: 90.22\n",
      "[1600]\tvalid_0's ER: 90.2\n",
      "[1700]\tvalid_0's ER: 90.15\n",
      "[1800]\tvalid_0's ER: 90.06\n",
      "[1900]\tvalid_0's ER: 89.96\n",
      "[2000]\tvalid_0's ER: 89.92\n",
      "[2100]\tvalid_0's ER: 89.81\n",
      "[2200]\tvalid_0's ER: 89.73\n",
      "[2300]\tvalid_0's ER: 89.69\n",
      "[2400]\tvalid_0's ER: 89.62\n",
      "[2500]\tvalid_0's ER: 89.57\n",
      "[2600]\tvalid_0's ER: 89.53\n",
      "[2700]\tvalid_0's ER: 89.41\n",
      "[2800]\tvalid_0's ER: 89.35\n",
      "[2900]\tvalid_0's ER: 89.3\n",
      "[3000]\tvalid_0's ER: 89.26\n",
      "[3100]\tvalid_0's ER: 89.25\n",
      "[3200]\tvalid_0's ER: 89.2\n",
      "[3300]\tvalid_0's ER: 89.17\n",
      "[3400]\tvalid_0's ER: 89.12\n",
      "[3500]\tvalid_0's ER: 89.1\n",
      "[3600]\tvalid_0's ER: 89.05\n",
      "[3700]\tvalid_0's ER: 89.01\n",
      "[3800]\tvalid_0's ER: 88.99\n",
      "[3900]\tvalid_0's ER: 88.95\n",
      "[4000]\tvalid_0's ER: 88.94\n",
      "[4100]\tvalid_0's ER: 88.88\n",
      "[4200]\tvalid_0's ER: 88.88\n",
      "[4300]\tvalid_0's ER: 88.86\n",
      "[4400]\tvalid_0's ER: 88.85\n",
      "[4500]\tvalid_0's ER: 88.83\n",
      "[4600]\tvalid_0's ER: 88.78\n",
      "[4700]\tvalid_0's ER: 88.75\n",
      "[4800]\tvalid_0's ER: 88.7\n",
      "[4900]\tvalid_0's ER: 88.66\n",
      "[5000]\tvalid_0's ER: 88.6\n",
      "[5100]\tvalid_0's ER: 88.57\n",
      "[5200]\tvalid_0's ER: 88.55\n",
      "[5300]\tvalid_0's ER: 88.52\n",
      "[5400]\tvalid_0's ER: 88.51\n",
      "[5500]\tvalid_0's ER: 88.49\n",
      "[5600]\tvalid_0's ER: 88.48\n",
      "[5700]\tvalid_0's ER: 88.47\n",
      "[5800]\tvalid_0's ER: 88.42\n",
      "[5900]\tvalid_0's ER: 88.38\n",
      "[6000]\tvalid_0's ER: 88.36\n",
      "[6100]\tvalid_0's ER: 88.33\n",
      "[6200]\tvalid_0's ER: 88.32\n",
      "[6300]\tvalid_0's ER: 88.29\n",
      "[6400]\tvalid_0's ER: 88.29\n",
      "Early stopping, best iteration is:\n",
      "[6277]\tvalid_0's ER: 88.29\n",
      "Evaluated only: ER\n"
     ]
    },
    {
     "name": "stderr",
     "output_type": "stream",
     "text": [
      "[I 2023-12-16 00:09:33,798] Trial 1 finished with value: 88.29 and parameters: {'lambda_l1': 272.54743211721444, 'lambda_l2': 812.7862204376167, 'learning_rate': 0.04758917957547045, 'num_leaves': 781, 'feature_fraction': 0.633670646367481, 'min_data_in_leaf': 4198}. Best is trial 1 with value: 88.29.\n"
     ]
    },
    {
     "name": "stdout",
     "output_type": "stream",
     "text": [
      "**************** regression_l1 ****************\n",
      "Training until validation scores don't improve for 70 rounds\n"
     ]
    },
    {
     "name": "stderr",
     "output_type": "stream",
     "text": [
      "[I 2023-12-16 00:09:45,908] Trial 2 finished with value: 98.86 and parameters: {'lambda_l1': 988.6363508029859, 'lambda_l2': 944.3227045776352, 'learning_rate': 0.2467999706793341, 'num_leaves': 938, 'feature_fraction': 0.8661988149511068, 'min_data_in_leaf': 3678}. Best is trial 1 with value: 88.29.\n"
     ]
    },
    {
     "name": "stdout",
     "output_type": "stream",
     "text": [
      "Early stopping, best iteration is:\n",
      "[20]\tvalid_0's ER: 98.86\n",
      "Evaluated only: ER\n",
      "**************** regression_l1 ****************\n",
      "Training until validation scores don't improve for 124 rounds\n",
      "[100]\tvalid_0's ER: 94.52\n",
      "[200]\tvalid_0's ER: 93.43\n",
      "[300]\tvalid_0's ER: 92.9\n",
      "[400]\tvalid_0's ER: 92.83\n",
      "[500]\tvalid_0's ER: 92.79\n",
      "[600]\tvalid_0's ER: 92.74\n",
      "[700]\tvalid_0's ER: 92.69\n",
      "[800]\tvalid_0's ER: 92.67\n",
      "[900]\tvalid_0's ER: 92.6\n",
      "[1000]\tvalid_0's ER: 92.54\n",
      "[1100]\tvalid_0's ER: 92.47\n",
      "[1200]\tvalid_0's ER: 92.45\n",
      "Early stopping, best iteration is:\n",
      "[1129]\tvalid_0's ER: 92.45\n",
      "Evaluated only: ER\n"
     ]
    },
    {
     "name": "stderr",
     "output_type": "stream",
     "text": [
      "[I 2023-12-16 00:12:26,331] Trial 3 finished with value: 92.45 and parameters: {'lambda_l1': 790.2521142883095, 'lambda_l2': 735.4869211345853, 'learning_rate': 0.06698856111138987, 'num_leaves': 891, 'feature_fraction': 0.5914475119383287, 'min_data_in_leaf': 4835}. Best is trial 1 with value: 88.29.\n"
     ]
    },
    {
     "name": "stdout",
     "output_type": "stream",
     "text": [
      "**************** regression_l1 ****************\n",
      "Training until validation scores don't improve for 73 rounds\n",
      "[100]\tvalid_0's ER: 95.79\n"
     ]
    },
    {
     "name": "stderr",
     "output_type": "stream",
     "text": [
      "[I 2023-12-16 00:12:49,153] Trial 4 finished with value: 95.55 and parameters: {'lambda_l1': 899.0271323145338, 'lambda_l2': 508.41171783395964, 'learning_rate': 0.21494677327605463, 'num_leaves': 376, 'feature_fraction': 0.9567473286959209, 'min_data_in_leaf': 6725}. Best is trial 1 with value: 88.29.\n"
     ]
    },
    {
     "name": "stdout",
     "output_type": "stream",
     "text": [
      "Early stopping, best iteration is:\n",
      "[112]\tvalid_0's ER: 95.55\n",
      "Evaluated only: ER\n",
      "**************** regression_l1 ****************\n",
      "Training until validation scores don't improve for 67 rounds\n",
      "[100]\tvalid_0's ER: 97.58\n"
     ]
    },
    {
     "name": "stderr",
     "output_type": "stream",
     "text": [
      "[I 2023-12-16 00:13:11,403] Trial 5 finished with value: 97.55 and parameters: {'lambda_l1': 573.4200549603912, 'lambda_l2': 859.233514859198, 'learning_rate': 0.279532925865537, 'num_leaves': 649, 'feature_fraction': 0.7208181405548313, 'min_data_in_leaf': 2703}. Best is trial 1 with value: 88.29.\n"
     ]
    },
    {
     "name": "stdout",
     "output_type": "stream",
     "text": [
      "Early stopping, best iteration is:\n",
      "[115]\tvalid_0's ER: 97.55\n",
      "Evaluated only: ER\n",
      "**************** regression_l1 ****************\n",
      "Training until validation scores don't improve for 75 rounds\n",
      "[100]\tvalid_0's ER: 78.92\n",
      "[200]\tvalid_0's ER: 78.3\n",
      "[300]\tvalid_0's ER: 77.8\n",
      "Early stopping, best iteration is:\n",
      "[315]\tvalid_0's ER: 77.77\n",
      "Evaluated only: ER\n"
     ]
    },
    {
     "name": "stderr",
     "output_type": "stream",
     "text": [
      "[I 2023-12-16 00:14:12,986] Trial 6 finished with value: 77.77 and parameters: {'lambda_l1': 64.54705557678375, 'lambda_l2': 108.53760531758971, 'learning_rate': 0.1990386166866662, 'num_leaves': 301, 'feature_fraction': 0.525443191298397, 'min_data_in_leaf': 561}. Best is trial 6 with value: 77.77.\n"
     ]
    },
    {
     "name": "stdout",
     "output_type": "stream",
     "text": [
      "**************** regression_l1 ****************\n",
      "Training until validation scores don't improve for 72 rounds\n",
      "[100]\tvalid_0's ER: 89.76\n",
      "[200]\tvalid_0's ER: 88.45\n",
      "[300]\tvalid_0's ER: 87.77\n",
      "[400]\tvalid_0's ER: 87.66\n",
      "Early stopping, best iteration is:\n",
      "[410]\tvalid_0's ER: 87.64\n",
      "Evaluated only: ER\n"
     ]
    },
    {
     "name": "stderr",
     "output_type": "stream",
     "text": [
      "[I 2023-12-16 00:15:13,290] Trial 7 finished with value: 87.64 and parameters: {'lambda_l1': 148.832922728367, 'lambda_l2': 923.7369471646001, 'learning_rate': 0.22397385394702365, 'num_leaves': 211, 'feature_fraction': 0.575866136056528, 'min_data_in_leaf': 3548}. Best is trial 6 with value: 77.77.\n"
     ]
    },
    {
     "name": "stdout",
     "output_type": "stream",
     "text": [
      "**************** regression_l1 ****************\n",
      "Training until validation scores don't improve for 110 rounds\n",
      "[100]\tvalid_0's ER: 95.3\n",
      "[200]\tvalid_0's ER: 94.76\n",
      "[300]\tvalid_0's ER: 94.62\n",
      "[400]\tvalid_0's ER: 94.37\n",
      "[500]\tvalid_0's ER: 94.13\n",
      "[600]\tvalid_0's ER: 93.98\n",
      "[700]\tvalid_0's ER: 93.83\n",
      "[800]\tvalid_0's ER: 93.73\n",
      "[900]\tvalid_0's ER: 93.66\n",
      "[1000]\tvalid_0's ER: 93.56\n",
      "[1100]\tvalid_0's ER: 93.41\n",
      "[1200]\tvalid_0's ER: 93.33\n",
      "[1300]\tvalid_0's ER: 93.26\n",
      "[1400]\tvalid_0's ER: 93.09\n",
      "[1500]\tvalid_0's ER: 93.04\n",
      "[1600]\tvalid_0's ER: 92.98\n",
      "[1700]\tvalid_0's ER: 92.92\n",
      "[1800]\tvalid_0's ER: 92.87\n",
      "[1900]\tvalid_0's ER: 92.82\n",
      "[2000]\tvalid_0's ER: 92.79\n",
      "[2100]\tvalid_0's ER: 92.72\n",
      "[2200]\tvalid_0's ER: 92.68\n",
      "[2300]\tvalid_0's ER: 92.64\n",
      "[2400]\tvalid_0's ER: 92.59\n",
      "[2500]\tvalid_0's ER: 92.53\n",
      "[2600]\tvalid_0's ER: 92.44\n",
      "[2700]\tvalid_0's ER: 92.4\n",
      "[2800]\tvalid_0's ER: 92.35\n",
      "[2900]\tvalid_0's ER: 92.31\n",
      "[3000]\tvalid_0's ER: 92.27\n",
      "[3100]\tvalid_0's ER: 92.25\n",
      "[3200]\tvalid_0's ER: 92.22\n",
      "[3300]\tvalid_0's ER: 92.15\n",
      "[3400]\tvalid_0's ER: 92.13\n",
      "[3500]\tvalid_0's ER: 92.1\n",
      "[3600]\tvalid_0's ER: 92.09\n",
      "[3700]\tvalid_0's ER: 92.06\n",
      "[3800]\tvalid_0's ER: 92.03\n",
      "[3900]\tvalid_0's ER: 92\n",
      "[4000]\tvalid_0's ER: 91.96\n",
      "[4100]\tvalid_0's ER: 91.95\n",
      "[4200]\tvalid_0's ER: 91.91\n",
      "[4300]\tvalid_0's ER: 91.86\n",
      "[4400]\tvalid_0's ER: 91.85\n",
      "[4500]\tvalid_0's ER: 91.83\n",
      "[4600]\tvalid_0's ER: 91.81\n",
      "[4700]\tvalid_0's ER: 91.77\n",
      "[4800]\tvalid_0's ER: 91.75\n",
      "[4900]\tvalid_0's ER: 91.74\n",
      "[5000]\tvalid_0's ER: 91.74\n",
      "[5100]\tvalid_0's ER: 91.72\n",
      "Early stopping, best iteration is:\n",
      "[4991]\tvalid_0's ER: 91.72\n",
      "Evaluated only: ER\n"
     ]
    },
    {
     "name": "stderr",
     "output_type": "stream",
     "text": [
      "[I 2023-12-16 00:21:41,375] Trial 8 finished with value: 91.72 and parameters: {'lambda_l1': 365.454242699487, 'lambda_l2': 48.91580799131767, 'learning_rate': 0.08241647665716488, 'num_leaves': 998, 'feature_fraction': 0.37419514511292934, 'min_data_in_leaf': 7530}. Best is trial 6 with value: 77.77.\n"
     ]
    },
    {
     "name": "stdout",
     "output_type": "stream",
     "text": [
      "**************** regression_l1 ****************\n",
      "Training until validation scores don't improve for 82 rounds\n",
      "[100]\tvalid_0's ER: 90.4\n",
      "[200]\tvalid_0's ER: 90.09\n",
      "[300]\tvalid_0's ER: 90.01\n"
     ]
    },
    {
     "name": "stderr",
     "output_type": "stream",
     "text": [
      "[I 2023-12-16 00:22:20,560] Trial 9 finished with value: 90.01 and parameters: {'lambda_l1': 669.5942492092616, 'lambda_l2': 385.675265680776, 'learning_rate': 0.1531097172041893, 'num_leaves': 193, 'feature_fraction': 0.6330870735272682, 'min_data_in_leaf': 2932}. Best is trial 6 with value: 77.77.\n"
     ]
    },
    {
     "name": "stdout",
     "output_type": "stream",
     "text": [
      "Early stopping, best iteration is:\n",
      "[270]\tvalid_0's ER: 90.01\n",
      "Evaluated only: ER\n",
      "# Experimentos: 10\n",
      "Mejor experimento: {'lambda_l1': 64.54705557678375, 'lambda_l2': 108.53760531758971, 'learning_rate': 0.1990386166866662, 'num_leaves': 301, 'feature_fraction': 0.525443191298397, 'min_data_in_leaf': 561}\n",
      "=========================================== Cluster 1 ===========================================\n",
      "Periodos entrenar: [201701 201702 201703 201704 201705 201706 201707 201708 201709 201710\n",
      " 201711 201712 201801 201802 201803 201804 201805 201806 201807 201808\n",
      " 201809 201810 201811 201812 201901 201902 201903 201904 201905]\n",
      "Periodos validar: [201907]\n",
      "product_id a validar: 20880\n",
      "X_train: (499339, 120)\n",
      "y_train: (499339,)\n",
      "\n",
      "X_validate: (20880, 120)\n",
      "y_validate: (20880,)\n",
      "Optimizacion Bayesiana\n"
     ]
    },
    {
     "name": "stderr",
     "output_type": "stream",
     "text": [
      "[I 2023-12-16 00:22:34,875] A new study created in memory with name: no-name-084cbc5e-05c7-42ba-89b1-fc514aea4dc5\n"
     ]
    },
    {
     "name": "stdout",
     "output_type": "stream",
     "text": [
      "**************** regression_l1 ****************\n",
      "Training until validation scores don't improve for 72 rounds\n",
      "[100]\tvalid_0's ER: 71.86\n",
      "[200]\tvalid_0's ER: 71.71\n",
      "[300]\tvalid_0's ER: 71.58\n",
      "Early stopping, best iteration is:\n",
      "[250]\tvalid_0's ER: 71.58\n",
      "Evaluated only: ER\n"
     ]
    },
    {
     "name": "stderr",
     "output_type": "stream",
     "text": [
      "[I 2023-12-16 00:23:18,053] Trial 0 finished with value: 71.58 and parameters: {'lambda_l1': 36.65016200036031, 'lambda_l2': 300.93941660800516, 'learning_rate': 0.22019147208335058, 'num_leaves': 741, 'feature_fraction': 0.524583685546018, 'min_data_in_leaf': 921}. Best is trial 0 with value: 71.58.\n"
     ]
    },
    {
     "name": "stdout",
     "output_type": "stream",
     "text": [
      "**************** regression_l1 ****************\n",
      "Training until validation scores don't improve for 80 rounds\n",
      "[100]\tvalid_0's ER: 84.17\n",
      "[200]\tvalid_0's ER: 82.39\n",
      "[300]\tvalid_0's ER: 82.29\n",
      "[400]\tvalid_0's ER: 81.7\n",
      "[500]\tvalid_0's ER: 81.47\n",
      "Early stopping, best iteration is:\n",
      "[460]\tvalid_0's ER: 81.36\n",
      "Evaluated only: ER\n"
     ]
    },
    {
     "name": "stderr",
     "output_type": "stream",
     "text": [
      "[I 2023-12-16 00:24:14,504] Trial 1 finished with value: 81.36 and parameters: {'lambda_l1': 137.76832716001252, 'lambda_l2': 128.48359618109328, 'learning_rate': 0.16604249216764017, 'num_leaves': 387, 'feature_fraction': 0.6710000558531144, 'min_data_in_leaf': 6144}. Best is trial 0 with value: 71.58.\n"
     ]
    },
    {
     "name": "stdout",
     "output_type": "stream",
     "text": [
      "**************** regression_l1 ****************\n",
      "Training until validation scores don't improve for 101 rounds\n",
      "[100]\tvalid_0's ER: 86.78\n",
      "[200]\tvalid_0's ER: 85.53\n",
      "[300]\tvalid_0's ER: 84.59\n",
      "[400]\tvalid_0's ER: 84.15\n",
      "[500]\tvalid_0's ER: 83.9\n",
      "[600]\tvalid_0's ER: 83.67\n",
      "[700]\tvalid_0's ER: 83.21\n",
      "[800]\tvalid_0's ER: 83.22\n",
      "Early stopping, best iteration is:\n",
      "[701]\tvalid_0's ER: 83.2\n",
      "Evaluated only: ER\n"
     ]
    },
    {
     "name": "stderr",
     "output_type": "stream",
     "text": [
      "[I 2023-12-16 00:24:48,463] Trial 2 finished with value: 83.2 and parameters: {'lambda_l1': 989.716753493924, 'lambda_l2': 489.09129911699165, 'learning_rate': 0.09660041427373092, 'num_leaves': 334, 'feature_fraction': 0.20653865953980663, 'min_data_in_leaf': 4877}. Best is trial 0 with value: 71.58.\n"
     ]
    },
    {
     "name": "stdout",
     "output_type": "stream",
     "text": [
      "**************** regression_l1 ****************\n",
      "Training until validation scores don't improve for 67 rounds\n"
     ]
    },
    {
     "name": "stderr",
     "output_type": "stream",
     "text": [
      "[I 2023-12-16 00:24:55,956] Trial 3 finished with value: 94.97 and parameters: {'lambda_l1': 579.9722921088429, 'lambda_l2': 75.8980677063893, 'learning_rate': 0.28446554984471484, 'num_leaves': 173, 'feature_fraction': 0.9907285876375016, 'min_data_in_leaf': 4853}. Best is trial 0 with value: 71.58.\n"
     ]
    },
    {
     "name": "stdout",
     "output_type": "stream",
     "text": [
      "Early stopping, best iteration is:\n",
      "[5]\tvalid_0's ER: 94.97\n",
      "Evaluated only: ER\n",
      "**************** regression_l1 ****************\n",
      "Training until validation scores don't improve for 155 rounds\n",
      "[100]\tvalid_0's ER: 87.67\n",
      "[200]\tvalid_0's ER: 86.76\n",
      "[300]\tvalid_0's ER: 85.66\n",
      "[400]\tvalid_0's ER: 85.66\n"
     ]
    },
    {
     "name": "stderr",
     "output_type": "stream",
     "text": [
      "[I 2023-12-16 00:25:32,776] Trial 4 finished with value: 85.66 and parameters: {'lambda_l1': 656.7629164781215, 'lambda_l2': 931.7567182300963, 'learning_rate': 0.04732477662537218, 'num_leaves': 772, 'feature_fraction': 0.9640372150316023, 'min_data_in_leaf': 501}. Best is trial 0 with value: 71.58.\n"
     ]
    },
    {
     "name": "stdout",
     "output_type": "stream",
     "text": [
      "Early stopping, best iteration is:\n",
      "[265]\tvalid_0's ER: 85.66\n",
      "Evaluated only: ER\n",
      "**************** regression_l1 ****************\n",
      "Training until validation scores don't improve for 126 rounds\n",
      "[100]\tvalid_0's ER: 88\n",
      "[200]\tvalid_0's ER: 86.9\n",
      "[300]\tvalid_0's ER: 86.54\n",
      "[400]\tvalid_0's ER: 86.09\n",
      "[500]\tvalid_0's ER: 85.79\n",
      "[600]\tvalid_0's ER: 85.48\n",
      "[700]\tvalid_0's ER: 85.43\n",
      "[800]\tvalid_0's ER: 85.19\n",
      "[900]\tvalid_0's ER: 84.99\n",
      "[1000]\tvalid_0's ER: 84.73\n",
      "[1100]\tvalid_0's ER: 84.7\n",
      "[1200]\tvalid_0's ER: 84.59\n",
      "[1300]\tvalid_0's ER: 84.51\n",
      "[1400]\tvalid_0's ER: 84.29\n",
      "[1500]\tvalid_0's ER: 84.28\n",
      "[1600]\tvalid_0's ER: 84.12\n",
      "[1700]\tvalid_0's ER: 84.08\n",
      "[1800]\tvalid_0's ER: 83.9\n",
      "[1900]\tvalid_0's ER: 83.85\n",
      "Early stopping, best iteration is:\n",
      "[1843]\tvalid_0's ER: 83.82\n",
      "Evaluated only: ER\n"
     ]
    },
    {
     "name": "stderr",
     "output_type": "stream",
     "text": [
      "[I 2023-12-16 00:27:59,028] Trial 5 finished with value: 83.82 and parameters: {'lambda_l1': 536.3547162321634, 'lambda_l2': 790.7190341968868, 'learning_rate': 0.06498837265623669, 'num_leaves': 584, 'feature_fraction': 0.5061365616414601, 'min_data_in_leaf': 6498}. Best is trial 0 with value: 71.58.\n"
     ]
    },
    {
     "name": "stdout",
     "output_type": "stream",
     "text": [
      "**************** regression_l1 ****************\n",
      "Training until validation scores don't improve for 251 rounds\n",
      "[100]\tvalid_0's ER: 88.62\n",
      "[200]\tvalid_0's ER: 87.6\n",
      "[300]\tvalid_0's ER: 86.18\n",
      "[400]\tvalid_0's ER: 85.28\n",
      "[500]\tvalid_0's ER: 84.93\n",
      "[600]\tvalid_0's ER: 84.72\n",
      "[700]\tvalid_0's ER: 84.6\n",
      "[800]\tvalid_0's ER: 84.48\n",
      "[900]\tvalid_0's ER: 84.35\n",
      "[1000]\tvalid_0's ER: 84.1\n",
      "[1100]\tvalid_0's ER: 84.03\n",
      "[1200]\tvalid_0's ER: 83.9\n",
      "[1300]\tvalid_0's ER: 83.78\n",
      "[1400]\tvalid_0's ER: 83.7\n",
      "[1500]\tvalid_0's ER: 83.68\n",
      "[1600]\tvalid_0's ER: 83.53\n",
      "[1700]\tvalid_0's ER: 83.51\n",
      "[1800]\tvalid_0's ER: 83.42\n",
      "[1900]\tvalid_0's ER: 83.33\n",
      "[2000]\tvalid_0's ER: 83.3\n",
      "[2100]\tvalid_0's ER: 83.18\n",
      "[2200]\tvalid_0's ER: 83.13\n",
      "[2300]\tvalid_0's ER: 83.08\n",
      "[2400]\tvalid_0's ER: 83.08\n",
      "[2500]\tvalid_0's ER: 83.04\n",
      "[2600]\tvalid_0's ER: 83.03\n",
      "[2700]\tvalid_0's ER: 83\n",
      "[2800]\tvalid_0's ER: 83\n",
      "[2900]\tvalid_0's ER: 83\n",
      "[3000]\tvalid_0's ER: 82.98\n",
      "[3100]\tvalid_0's ER: 82.95\n",
      "[3200]\tvalid_0's ER: 82.94\n",
      "[3300]\tvalid_0's ER: 82.92\n",
      "[3400]\tvalid_0's ER: 82.89\n",
      "[3500]\tvalid_0's ER: 82.86\n",
      "[3600]\tvalid_0's ER: 82.86\n",
      "[3700]\tvalid_0's ER: 82.84\n",
      "[3800]\tvalid_0's ER: 82.81\n",
      "[3900]\tvalid_0's ER: 82.78\n",
      "[4000]\tvalid_0's ER: 82.78\n",
      "[4100]\tvalid_0's ER: 82.73\n",
      "[4200]\tvalid_0's ER: 82.71\n",
      "[4300]\tvalid_0's ER: 82.66\n",
      "[4400]\tvalid_0's ER: 82.63\n",
      "[4500]\tvalid_0's ER: 82.58\n",
      "[4600]\tvalid_0's ER: 82.58\n",
      "[4700]\tvalid_0's ER: 82.59\n",
      "Early stopping, best iteration is:\n",
      "[4470]\tvalid_0's ER: 82.58\n",
      "Evaluated only: ER\n"
     ]
    },
    {
     "name": "stderr",
     "output_type": "stream",
     "text": [
      "[I 2023-12-16 00:33:07,569] Trial 6 finished with value: 82.58 and parameters: {'lambda_l1': 608.23512534919, 'lambda_l2': 63.37415910069788, 'learning_rate': 0.024844205643563867, 'num_leaves': 930, 'feature_fraction': 0.4556772580544152, 'min_data_in_leaf': 5648}. Best is trial 0 with value: 71.58.\n"
     ]
    },
    {
     "name": "stdout",
     "output_type": "stream",
     "text": [
      "**************** regression_l1 ****************\n",
      "Training until validation scores don't improve for 70 rounds\n",
      "[100]\tvalid_0's ER: 83.63\n",
      "[200]\tvalid_0's ER: 82.59\n",
      "[300]\tvalid_0's ER: 81.62\n",
      "[400]\tvalid_0's ER: 81.39\n",
      "[500]\tvalid_0's ER: 81.13\n",
      "[600]\tvalid_0's ER: 81.08\n",
      "Early stopping, best iteration is:\n",
      "[613]\tvalid_0's ER: 80.98\n",
      "Evaluated only: ER\n"
     ]
    },
    {
     "name": "stderr",
     "output_type": "stream",
     "text": [
      "[I 2023-12-16 00:34:17,477] Trial 7 finished with value: 80.98 and parameters: {'lambda_l1': 281.7936710845964, 'lambda_l2': 923.635151533396, 'learning_rate': 0.24752568885805246, 'num_leaves': 347, 'feature_fraction': 0.732453327831756, 'min_data_in_leaf': 5696}. Best is trial 0 with value: 71.58.\n"
     ]
    },
    {
     "name": "stdout",
     "output_type": "stream",
     "text": [
      "**************** regression_l1 ****************\n",
      "Training until validation scores don't improve for 68 rounds\n",
      "[100]\tvalid_0's ER: 83.78\n",
      "[200]\tvalid_0's ER: 82.84\n",
      "[300]\tvalid_0's ER: 82.39\n",
      "[400]\tvalid_0's ER: 82.02\n",
      "[500]\tvalid_0's ER: 81.79\n",
      "[600]\tvalid_0's ER: 81.58\n",
      "[700]\tvalid_0's ER: 81.34\n",
      "[800]\tvalid_0's ER: 81.18\n",
      "Early stopping, best iteration is:\n",
      "[764]\tvalid_0's ER: 81.16\n",
      "Evaluated only: ER\n"
     ]
    },
    {
     "name": "stderr",
     "output_type": "stream",
     "text": [
      "[I 2023-12-16 00:35:24,055] Trial 8 finished with value: 81.16 and parameters: {'lambda_l1': 205.5741079219413, 'lambda_l2': 508.93583728957594, 'learning_rate': 0.2694486682883116, 'num_leaves': 172, 'feature_fraction': 0.7865917069123392, 'min_data_in_leaf': 6610}. Best is trial 0 with value: 71.58.\n"
     ]
    },
    {
     "name": "stdout",
     "output_type": "stream",
     "text": [
      "**************** regression_l1 ****************\n",
      "Training until validation scores don't improve for 88 rounds\n",
      "[100]\tvalid_0's ER: 80.47\n",
      "[200]\tvalid_0's ER: 79.17\n",
      "[300]\tvalid_0's ER: 78.26\n",
      "[400]\tvalid_0's ER: 77.82\n",
      "[500]\tvalid_0's ER: 77.58\n",
      "[600]\tvalid_0's ER: 77.38\n",
      "[700]\tvalid_0's ER: 77.12\n",
      "[800]\tvalid_0's ER: 76.97\n",
      "[900]\tvalid_0's ER: 76.76\n",
      "Early stopping, best iteration is:\n",
      "[823]\tvalid_0's ER: 76.76\n",
      "Evaluated only: ER\n"
     ]
    },
    {
     "name": "stderr",
     "output_type": "stream",
     "text": [
      "[I 2023-12-16 00:37:01,324] Trial 9 finished with value: 76.76 and parameters: {'lambda_l1': 59.10723339944512, 'lambda_l2': 10.107845467870579, 'learning_rate': 0.13005408224601972, 'num_leaves': 445, 'feature_fraction': 0.8997987399624581, 'min_data_in_leaf': 3774}. Best is trial 0 with value: 71.58.\n"
     ]
    },
    {
     "name": "stdout",
     "output_type": "stream",
     "text": [
      "# Experimentos: 10\n",
      "Mejor experimento: {'lambda_l1': 36.65016200036031, 'lambda_l2': 300.93941660800516, 'learning_rate': 0.22019147208335058, 'num_leaves': 741, 'feature_fraction': 0.524583685546018, 'min_data_in_leaf': 921}\n",
      "=========================================== Cluster 2 ===========================================\n"
     ]
    },
    {
     "name": "stderr",
     "output_type": "stream",
     "text": [
      "[I 2023-12-16 00:37:06,615] A new study created in memory with name: no-name-cf338d60-972b-466b-9ee2-5c097de36af3\n"
     ]
    },
    {
     "name": "stdout",
     "output_type": "stream",
     "text": [
      "Periodos entrenar: [201701 201702 201703 201704 201705 201706 201707 201708 201709 201710\n",
      " 201711 201712 201801 201802 201803 201804 201805 201806 201807 201808\n",
      " 201809 201810 201811 201812 201901 201902 201903 201904 201905]\n",
      "Periodos validar: [201907]\n",
      "product_id a validar: 8700\n",
      "X_train: (176859, 120)\n",
      "y_train: (176859,)\n",
      "\n",
      "X_validate: (8700, 120)\n",
      "y_validate: (8700,)\n",
      "Optimizacion Bayesiana\n",
      "**************** regression_l1 ****************\n",
      "Training until validation scores don't improve for 74 rounds\n"
     ]
    },
    {
     "name": "stderr",
     "output_type": "stream",
     "text": [
      "[I 2023-12-16 00:37:09,034] Trial 0 finished with value: 97.78 and parameters: {'lambda_l1': 960.0037915171683, 'lambda_l2': 496.17858100684185, 'learning_rate': 0.20820032586917084, 'num_leaves': 759, 'feature_fraction': 0.26476388856616917, 'min_data_in_leaf': 5881}. Best is trial 0 with value: 97.78.\n"
     ]
    },
    {
     "name": "stdout",
     "output_type": "stream",
     "text": [
      "Early stopping, best iteration is:\n",
      "[11]\tvalid_0's ER: 97.78\n",
      "Evaluated only: ER\n",
      "**************** regression_l1 ****************\n",
      "Training until validation scores don't improve for 66 rounds\n",
      "[100]\tvalid_0's ER: 91.99\n"
     ]
    },
    {
     "name": "stderr",
     "output_type": "stream",
     "text": [
      "[I 2023-12-16 00:37:13,161] Trial 1 finished with value: 91.25 and parameters: {'lambda_l1': 489.2470043962506, 'lambda_l2': 643.064286355276, 'learning_rate': 0.29509863343919956, 'num_leaves': 603, 'feature_fraction': 0.40867926433697105, 'min_data_in_leaf': 2590}. Best is trial 1 with value: 91.25.\n"
     ]
    },
    {
     "name": "stdout",
     "output_type": "stream",
     "text": [
      "Early stopping, best iteration is:\n",
      "[95]\tvalid_0's ER: 91.25\n",
      "Evaluated only: ER\n",
      "**************** regression_l1 ****************\n",
      "Training until validation scores don't improve for 122 rounds\n",
      "[100]\tvalid_0's ER: 95.09\n",
      "[200]\tvalid_0's ER: 94.23\n",
      "[300]\tvalid_0's ER: 93.96\n",
      "[400]\tvalid_0's ER: 93.79\n"
     ]
    },
    {
     "name": "stderr",
     "output_type": "stream",
     "text": [
      "[I 2023-12-16 00:37:22,027] Trial 2 finished with value: 93.78 and parameters: {'lambda_l1': 697.4070580677327, 'lambda_l2': 32.81758281545755, 'learning_rate': 0.06901027047824838, 'num_leaves': 122, 'feature_fraction': 0.4077402827383281, 'min_data_in_leaf': 3530}. Best is trial 1 with value: 91.25.\n"
     ]
    },
    {
     "name": "stdout",
     "output_type": "stream",
     "text": [
      "Early stopping, best iteration is:\n",
      "[359]\tvalid_0's ER: 93.78\n",
      "Evaluated only: ER\n",
      "**************** regression_l1 ****************\n",
      "Training until validation scores don't improve for 70 rounds\n"
     ]
    },
    {
     "name": "stderr",
     "output_type": "stream",
     "text": [
      "[I 2023-12-16 00:37:25,318] Trial 3 finished with value: 97.45 and parameters: {'lambda_l1': 422.89310459677796, 'lambda_l2': 568.1729708531035, 'learning_rate': 0.24847448486436172, 'num_leaves': 816, 'feature_fraction': 0.6894612001322551, 'min_data_in_leaf': 7438}. Best is trial 1 with value: 91.25.\n"
     ]
    },
    {
     "name": "stdout",
     "output_type": "stream",
     "text": [
      "Early stopping, best iteration is:\n",
      "[7]\tvalid_0's ER: 97.45\n",
      "Evaluated only: ER\n",
      "**************** regression_l1 ****************\n",
      "Training until validation scores don't improve for 352 rounds\n",
      "[100]\tvalid_0's ER: 94.35\n",
      "[200]\tvalid_0's ER: 93.17\n",
      "[300]\tvalid_0's ER: 92.87\n",
      "[400]\tvalid_0's ER: 92.93\n",
      "[500]\tvalid_0's ER: 92.89\n",
      "[600]\tvalid_0's ER: 92.82\n",
      "[700]\tvalid_0's ER: 92.83\n",
      "[800]\tvalid_0's ER: 92.79\n",
      "[900]\tvalid_0's ER: 92.7\n",
      "[1000]\tvalid_0's ER: 92.72\n",
      "[1100]\tvalid_0's ER: 92.43\n",
      "[1200]\tvalid_0's ER: 92.38\n",
      "[1300]\tvalid_0's ER: 92.37\n",
      "[1400]\tvalid_0's ER: 92.45\n",
      "[1500]\tvalid_0's ER: 92.31\n",
      "[1600]\tvalid_0's ER: 92.22\n",
      "[1700]\tvalid_0's ER: 92.16\n",
      "[1800]\tvalid_0's ER: 92.17\n",
      "[1900]\tvalid_0's ER: 92.1\n",
      "[2000]\tvalid_0's ER: 92.09\n",
      "[2100]\tvalid_0's ER: 92.13\n",
      "[2200]\tvalid_0's ER: 92.13\n",
      "[2300]\tvalid_0's ER: 92.09\n",
      "Early stopping, best iteration is:\n",
      "[1951]\tvalid_0's ER: 92.07\n",
      "Evaluated only: ER\n"
     ]
    },
    {
     "name": "stderr",
     "output_type": "stream",
     "text": [
      "[I 2023-12-16 00:38:24,334] Trial 4 finished with value: 92.07 and parameters: {'lambda_l1': 628.0638828330892, 'lambda_l2': 144.93356495080866, 'learning_rate': 0.016519257020608066, 'num_leaves': 95, 'feature_fraction': 0.545039726672462, 'min_data_in_leaf': 2837}. Best is trial 1 with value: 91.25.\n"
     ]
    },
    {
     "name": "stdout",
     "output_type": "stream",
     "text": [
      "**************** regression_l1 ****************\n",
      "Training until validation scores don't improve for 71 rounds\n"
     ]
    },
    {
     "name": "stderr",
     "output_type": "stream",
     "text": [
      "[I 2023-12-16 00:38:27,250] Trial 5 finished with value: 96.02 and parameters: {'lambda_l1': 566.124309860506, 'lambda_l2': 266.92784284724127, 'learning_rate': 0.2291336142602714, 'num_leaves': 577, 'feature_fraction': 0.5142376922419956, 'min_data_in_leaf': 4826}. Best is trial 1 with value: 91.25.\n"
     ]
    },
    {
     "name": "stdout",
     "output_type": "stream",
     "text": [
      "Early stopping, best iteration is:\n",
      "[11]\tvalid_0's ER: 96.02\n",
      "Evaluated only: ER\n",
      "**************** regression_l1 ****************\n",
      "Training until validation scores don't improve for 82 rounds\n",
      "[100]\tvalid_0's ER: 95.92\n",
      "[200]\tvalid_0's ER: 94.37\n",
      "[300]\tvalid_0's ER: 93.16\n",
      "[400]\tvalid_0's ER: 92.61\n"
     ]
    },
    {
     "name": "stderr",
     "output_type": "stream",
     "text": [
      "[I 2023-12-16 00:38:42,847] Trial 6 finished with value: 92.6 and parameters: {'lambda_l1': 264.4507507044537, 'lambda_l2': 654.6223339190569, 'learning_rate': 0.1544283619575177, 'num_leaves': 87, 'feature_fraction': 0.8525416454184545, 'min_data_in_leaf': 5791}. Best is trial 1 with value: 91.25.\n"
     ]
    },
    {
     "name": "stdout",
     "output_type": "stream",
     "text": [
      "Early stopping, best iteration is:\n",
      "[395]\tvalid_0's ER: 92.6\n",
      "Evaluated only: ER\n",
      "**************** regression_l1 ****************\n",
      "Training until validation scores don't improve for 437 rounds\n",
      "[100]\tvalid_0's ER: 92.78\n",
      "[200]\tvalid_0's ER: 90.29\n",
      "[300]\tvalid_0's ER: 89.37\n",
      "[400]\tvalid_0's ER: 89.36\n",
      "[500]\tvalid_0's ER: 89.63\n",
      "[600]\tvalid_0's ER: 89.67\n",
      "[700]\tvalid_0's ER: 89.87\n",
      "[800]\tvalid_0's ER: 90.14\n",
      "Early stopping, best iteration is:\n",
      "[377]\tvalid_0's ER: 89.3\n",
      "Evaluated only: ER\n"
     ]
    },
    {
     "name": "stderr",
     "output_type": "stream",
     "text": [
      "[I 2023-12-16 00:39:16,842] Trial 7 finished with value: 89.3 and parameters: {'lambda_l1': 258.76689855934296, 'lambda_l2': 455.7066417228376, 'learning_rate': 0.012898714535280142, 'num_leaves': 997, 'feature_fraction': 0.3211643935639001, 'min_data_in_leaf': 422}. Best is trial 7 with value: 89.3.\n"
     ]
    },
    {
     "name": "stdout",
     "output_type": "stream",
     "text": [
      "**************** regression_l1 ****************\n",
      "Training until validation scores don't improve for 67 rounds\n",
      "[100]\tvalid_0's ER: 93.53\n"
     ]
    },
    {
     "name": "stderr",
     "output_type": "stream",
     "text": [
      "[I 2023-12-16 00:39:25,410] Trial 8 finished with value: 91.78 and parameters: {'lambda_l1': 62.809250828238405, 'lambda_l2': 775.5911225921343, 'learning_rate': 0.29406010708181984, 'num_leaves': 730, 'feature_fraction': 0.3870170657504235, 'min_data_in_leaf': 181}. Best is trial 7 with value: 89.3.\n"
     ]
    },
    {
     "name": "stdout",
     "output_type": "stream",
     "text": [
      "Early stopping, best iteration is:\n",
      "[43]\tvalid_0's ER: 91.78\n",
      "Evaluated only: ER\n",
      "**************** regression_l1 ****************\n",
      "Training until validation scores don't improve for 70 rounds\n",
      "[100]\tvalid_0's ER: 92.66\n",
      "[200]\tvalid_0's ER: 92.37\n"
     ]
    },
    {
     "name": "stderr",
     "output_type": "stream",
     "text": [
      "[I 2023-12-16 00:39:30,727] Trial 9 finished with value: 92.25 and parameters: {'lambda_l1': 421.9569684212019, 'lambda_l2': 504.43442657541584, 'learning_rate': 0.24658644730205134, 'num_leaves': 345, 'feature_fraction': 0.26517955151254746, 'min_data_in_leaf': 1552}. Best is trial 7 with value: 89.3.\n"
     ]
    },
    {
     "name": "stdout",
     "output_type": "stream",
     "text": [
      "Early stopping, best iteration is:\n",
      "[219]\tvalid_0's ER: 92.25\n",
      "Evaluated only: ER\n",
      "# Experimentos: 10\n",
      "Mejor experimento: {'lambda_l1': 258.76689855934296, 'lambda_l2': 455.7066417228376, 'learning_rate': 0.012898714535280142, 'num_leaves': 997, 'feature_fraction': 0.3211643935639001, 'min_data_in_leaf': 422}\n",
      "=========================================== Cluster 3 ===========================================\n",
      "Periodos entrenar: [201701 201702 201703 201704 201705 201706 201707 201708 201709 201710\n",
      " 201711 201712 201801 201802 201803 201804 201805 201806 201807 201808\n",
      " 201809 201810 201811 201812 201901 201902 201903 201904 201905]\n",
      "Periodos validar: [201907]\n",
      "product_id a validar: 62060\n"
     ]
    },
    {
     "name": "stderr",
     "output_type": "stream",
     "text": [
      "[I 2023-12-16 00:40:18,199] A new study created in memory with name: no-name-9d4f19cf-a759-4533-b93b-202d1014953e\n"
     ]
    },
    {
     "name": "stdout",
     "output_type": "stream",
     "text": [
      "X_train: (1355190, 120)\n",
      "y_train: (1355190,)\n",
      "\n",
      "X_validate: (62060, 120)\n",
      "y_validate: (62060,)\n",
      "Optimizacion Bayesiana\n",
      "**************** regression_l1 ****************\n",
      "Training until validation scores don't improve for 117 rounds\n",
      "[100]\tvalid_0's ER: 85.07\n",
      "[200]\tvalid_0's ER: 84.22\n",
      "[300]\tvalid_0's ER: 84.01\n",
      "[400]\tvalid_0's ER: 83.67\n",
      "[500]\tvalid_0's ER: 83.44\n",
      "[600]\tvalid_0's ER: 83.38\n",
      "[700]\tvalid_0's ER: 83.25\n",
      "[800]\tvalid_0's ER: 83.09\n",
      "[900]\tvalid_0's ER: 83\n",
      "[1000]\tvalid_0's ER: 82.96\n",
      "[1100]\tvalid_0's ER: 82.9\n",
      "[1200]\tvalid_0's ER: 82.82\n",
      "[1300]\tvalid_0's ER: 82.74\n",
      "[1400]\tvalid_0's ER: 82.72\n",
      "Early stopping, best iteration is:\n",
      "[1307]\tvalid_0's ER: 82.71\n",
      "Evaluated only: ER\n"
     ]
    },
    {
     "name": "stderr",
     "output_type": "stream",
     "text": [
      "[I 2023-12-16 00:42:36,306] Trial 0 finished with value: 82.71 and parameters: {'lambda_l1': 864.6144434400394, 'lambda_l2': 341.3549198308209, 'learning_rate': 0.07414269661152736, 'num_leaves': 202, 'feature_fraction': 0.24726152917243838, 'min_data_in_leaf': 6898}. Best is trial 0 with value: 82.71.\n"
     ]
    },
    {
     "name": "stdout",
     "output_type": "stream",
     "text": [
      "**************** regression_l1 ****************\n",
      "Training until validation scores don't improve for 81 rounds\n",
      "[100]\tvalid_0's ER: 83.85\n",
      "[200]\tvalid_0's ER: 82.79\n",
      "[300]\tvalid_0's ER: 82.47\n",
      "[400]\tvalid_0's ER: 82.19\n",
      "[500]\tvalid_0's ER: 82.05\n",
      "[600]\tvalid_0's ER: 81.93\n",
      "[700]\tvalid_0's ER: 81.8\n",
      "[800]\tvalid_0's ER: 81.62\n",
      "[900]\tvalid_0's ER: 81.48\n",
      "[1000]\tvalid_0's ER: 81.38\n",
      "[1100]\tvalid_0's ER: 81.31\n",
      "Early stopping, best iteration is:\n",
      "[1076]\tvalid_0's ER: 81.29\n",
      "Evaluated only: ER\n"
     ]
    },
    {
     "name": "stderr",
     "output_type": "stream",
     "text": [
      "[I 2023-12-16 00:47:51,843] Trial 1 finished with value: 81.29 and parameters: {'lambda_l1': 271.8290017287327, 'lambda_l2': 607.0754506264485, 'learning_rate': 0.15802432826552407, 'num_leaves': 187, 'feature_fraction': 0.6245201271433306, 'min_data_in_leaf': 7899}. Best is trial 1 with value: 81.29.\n"
     ]
    },
    {
     "name": "stdout",
     "output_type": "stream",
     "text": [
      "**************** regression_l1 ****************\n",
      "Training until validation scores don't improve for 71 rounds\n",
      "[100]\tvalid_0's ER: 81.31\n",
      "[200]\tvalid_0's ER: 80.78\n",
      "[300]\tvalid_0's ER: 80.34\n",
      "[400]\tvalid_0's ER: 80.34\n",
      "Early stopping, best iteration is:\n",
      "[340]\tvalid_0's ER: 80.3\n",
      "Evaluated only: ER\n"
     ]
    },
    {
     "name": "stderr",
     "output_type": "stream",
     "text": [
      "[I 2023-12-16 00:49:33,583] Trial 2 finished with value: 80.3 and parameters: {'lambda_l1': 935.3834334080134, 'lambda_l2': 81.95787746100602, 'learning_rate': 0.2310634378196039, 'num_leaves': 139, 'feature_fraction': 0.6350169003669066, 'min_data_in_leaf': 2122}. Best is trial 2 with value: 80.3.\n"
     ]
    },
    {
     "name": "stdout",
     "output_type": "stream",
     "text": [
      "**************** regression_l1 ****************\n",
      "Training until validation scores don't improve for 70 rounds\n",
      "[100]\tvalid_0's ER: 81.48\n",
      "[200]\tvalid_0's ER: 80.81\n",
      "[300]\tvalid_0's ER: 80.55\n",
      "Early stopping, best iteration is:\n",
      "[262]\tvalid_0's ER: 80.53\n",
      "Evaluated only: ER\n"
     ]
    },
    {
     "name": "stderr",
     "output_type": "stream",
     "text": [
      "[I 2023-12-16 00:51:00,090] Trial 3 finished with value: 80.53 and parameters: {'lambda_l1': 682.4065850977792, 'lambda_l2': 654.1603975999082, 'learning_rate': 0.24349597806658868, 'num_leaves': 893, 'feature_fraction': 0.7787935303176419, 'min_data_in_leaf': 2065}. Best is trial 2 with value: 80.3.\n"
     ]
    },
    {
     "name": "stdout",
     "output_type": "stream",
     "text": [
      "**************** regression_l1 ****************\n",
      "Training until validation scores don't improve for 97 rounds\n",
      "[100]\tvalid_0's ER: 82.85\n",
      "[200]\tvalid_0's ER: 82.43\n",
      "[300]\tvalid_0's ER: 82.32\n",
      "[400]\tvalid_0's ER: 82.08\n",
      "[500]\tvalid_0's ER: 81.99\n",
      "[600]\tvalid_0's ER: 81.92\n",
      "[700]\tvalid_0's ER: 81.9\n",
      "[800]\tvalid_0's ER: 81.88\n",
      "[900]\tvalid_0's ER: 81.79\n",
      "Early stopping, best iteration is:\n",
      "[876]\tvalid_0's ER: 81.79\n",
      "Evaluated only: ER\n"
     ]
    },
    {
     "name": "stderr",
     "output_type": "stream",
     "text": [
      "[I 2023-12-16 00:52:48,041] Trial 4 finished with value: 81.79 and parameters: {'lambda_l1': 622.1668325435886, 'lambda_l2': 892.5680757862904, 'learning_rate': 0.10441975375219413, 'num_leaves': 505, 'feature_fraction': 0.2068871430968911, 'min_data_in_leaf': 4398}. Best is trial 2 with value: 80.3.\n"
     ]
    },
    {
     "name": "stdout",
     "output_type": "stream",
     "text": [
      "**************** regression_l1 ****************\n",
      "Training until validation scores don't improve for 277 rounds\n",
      "[100]\tvalid_0's ER: 87.71\n",
      "[200]\tvalid_0's ER: 85.29\n",
      "[300]\tvalid_0's ER: 85.15\n",
      "[400]\tvalid_0's ER: 84.91\n",
      "[500]\tvalid_0's ER: 84.73\n",
      "[600]\tvalid_0's ER: 84.49\n",
      "[700]\tvalid_0's ER: 84.38\n",
      "[800]\tvalid_0's ER: 84.3\n",
      "[900]\tvalid_0's ER: 84.25\n",
      "[1000]\tvalid_0's ER: 84.13\n",
      "[1100]\tvalid_0's ER: 84.11\n",
      "[1200]\tvalid_0's ER: 84.11\n",
      "[1300]\tvalid_0's ER: 84.08\n",
      "[1400]\tvalid_0's ER: 84.01\n",
      "[1500]\tvalid_0's ER: 83.97\n",
      "[1600]\tvalid_0's ER: 83.89\n",
      "[1700]\tvalid_0's ER: 83.81\n",
      "[1800]\tvalid_0's ER: 83.73\n",
      "[1900]\tvalid_0's ER: 83.67\n",
      "[2000]\tvalid_0's ER: 83.59\n",
      "[2100]\tvalid_0's ER: 83.6\n",
      "[2200]\tvalid_0's ER: 83.58\n",
      "[2300]\tvalid_0's ER: 83.53\n",
      "[2400]\tvalid_0's ER: 83.52\n",
      "[2500]\tvalid_0's ER: 83.5\n",
      "[2600]\tvalid_0's ER: 83.48\n",
      "[2700]\tvalid_0's ER: 83.44\n",
      "[2800]\tvalid_0's ER: 83.39\n",
      "[2900]\tvalid_0's ER: 83.36\n",
      "[3000]\tvalid_0's ER: 83.31\n",
      "[3100]\tvalid_0's ER: 83.31\n",
      "[3200]\tvalid_0's ER: 83.3\n",
      "[3300]\tvalid_0's ER: 83.28\n",
      "[3400]\tvalid_0's ER: 83.22\n",
      "[3500]\tvalid_0's ER: 83.21\n",
      "[3600]\tvalid_0's ER: 83.18\n",
      "[3700]\tvalid_0's ER: 83.17\n",
      "[3800]\tvalid_0's ER: 83.16\n",
      "[3900]\tvalid_0's ER: 83.14\n",
      "[4000]\tvalid_0's ER: 83.07\n",
      "[4100]\tvalid_0's ER: 83.07\n",
      "[4200]\tvalid_0's ER: 83.06\n",
      "[4300]\tvalid_0's ER: 83.03\n",
      "[4400]\tvalid_0's ER: 83.02\n",
      "[4500]\tvalid_0's ER: 83.01\n",
      "[4600]\tvalid_0's ER: 82.97\n",
      "[4700]\tvalid_0's ER: 82.95\n",
      "[4800]\tvalid_0's ER: 82.95\n",
      "[4900]\tvalid_0's ER: 82.94\n",
      "[5000]\tvalid_0's ER: 82.94\n",
      "[5100]\tvalid_0's ER: 82.93\n",
      "[5200]\tvalid_0's ER: 82.92\n",
      "[5300]\tvalid_0's ER: 82.92\n",
      "[5400]\tvalid_0's ER: 82.91\n",
      "[5500]\tvalid_0's ER: 82.9\n",
      "[5600]\tvalid_0's ER: 82.9\n",
      "[5700]\tvalid_0's ER: 82.88\n",
      "[5800]\tvalid_0's ER: 82.87\n",
      "[5900]\tvalid_0's ER: 82.85\n",
      "[6000]\tvalid_0's ER: 82.81\n",
      "[6100]\tvalid_0's ER: 82.79\n",
      "[6200]\tvalid_0's ER: 82.78\n",
      "[6300]\tvalid_0's ER: 82.77\n",
      "[6400]\tvalid_0's ER: 82.75\n",
      "[6500]\tvalid_0's ER: 82.74\n",
      "[6600]\tvalid_0's ER: 82.72\n",
      "[6700]\tvalid_0's ER: 82.72\n",
      "[6800]\tvalid_0's ER: 82.69\n",
      "[6900]\tvalid_0's ER: 82.69\n",
      "[7000]\tvalid_0's ER: 82.68\n",
      "[7100]\tvalid_0's ER: 82.65\n",
      "[7200]\tvalid_0's ER: 82.62\n",
      "[7300]\tvalid_0's ER: 82.61\n",
      "[7400]\tvalid_0's ER: 82.61\n",
      "[7500]\tvalid_0's ER: 82.6\n",
      "[7600]\tvalid_0's ER: 82.59\n",
      "[7700]\tvalid_0's ER: 82.6\n",
      "[7800]\tvalid_0's ER: 82.6\n",
      "Early stopping, best iteration is:\n",
      "[7581]\tvalid_0's ER: 82.59\n",
      "Evaluated only: ER\n"
     ]
    },
    {
     "name": "stderr",
     "output_type": "stream",
     "text": [
      "[I 2023-12-16 01:12:09,639] Trial 5 finished with value: 82.59 and parameters: {'lambda_l1': 831.1405940211107, 'lambda_l2': 131.63758503934875, 'learning_rate': 0.022009707476351316, 'num_leaves': 64, 'feature_fraction': 0.3621621954886453, 'min_data_in_leaf': 5943}. Best is trial 2 with value: 80.3.\n"
     ]
    },
    {
     "name": "stdout",
     "output_type": "stream",
     "text": [
      "**************** regression_l1 ****************\n",
      "Training until validation scores don't improve for 116 rounds\n",
      "[100]\tvalid_0's ER: 83.33\n",
      "[200]\tvalid_0's ER: 82.88\n",
      "Early stopping, best iteration is:\n",
      "[170]\tvalid_0's ER: 82.88\n",
      "Evaluated only: ER\n"
     ]
    },
    {
     "name": "stderr",
     "output_type": "stream",
     "text": [
      "[I 2023-12-16 01:13:05,613] Trial 6 finished with value: 82.88 and parameters: {'lambda_l1': 564.3075461564256, 'lambda_l2': 81.90554198833755, 'learning_rate': 0.07519268090890283, 'num_leaves': 46, 'feature_fraction': 0.5413261862373915, 'min_data_in_leaf': 4318}. Best is trial 2 with value: 80.3.\n"
     ]
    },
    {
     "name": "stdout",
     "output_type": "stream",
     "text": [
      "**************** regression_l1 ****************\n",
      "Training until validation scores don't improve for 70 rounds\n",
      "[100]\tvalid_0's ER: 79.36\n",
      "Early stopping, best iteration is:\n",
      "[43]\tvalid_0's ER: 78.93\n",
      "Evaluated only: ER\n"
     ]
    },
    {
     "name": "stderr",
     "output_type": "stream",
     "text": [
      "[I 2023-12-16 01:13:52,811] Trial 7 finished with value: 78.93 and parameters: {'lambda_l1': 118.98971156943449, 'lambda_l2': 229.01206269932194, 'learning_rate': 0.23913372268221408, 'num_leaves': 243, 'feature_fraction': 0.8245826364515354, 'min_data_in_leaf': 1390}. Best is trial 7 with value: 78.93.\n"
     ]
    },
    {
     "name": "stdout",
     "output_type": "stream",
     "text": [
      "**************** regression_l1 ****************\n",
      "Training until validation scores don't improve for 67 rounds\n",
      "[100]\tvalid_0's ER: 83.37\n",
      "[200]\tvalid_0's ER: 82.1\n",
      "[300]\tvalid_0's ER: 81.32\n",
      "[400]\tvalid_0's ER: 80.85\n",
      "[500]\tvalid_0's ER: 80.78\n",
      "[600]\tvalid_0's ER: 80.68\n",
      "[700]\tvalid_0's ER: 80.53\n",
      "Early stopping, best iteration is:\n",
      "[719]\tvalid_0's ER: 80.49\n",
      "Evaluated only: ER\n"
     ]
    },
    {
     "name": "stderr",
     "output_type": "stream",
     "text": [
      "[I 2023-12-16 01:17:19,473] Trial 8 finished with value: 80.49 and parameters: {'lambda_l1': 372.2691453791107, 'lambda_l2': 932.1025516938329, 'learning_rate': 0.28153235008876437, 'num_leaves': 980, 'feature_fraction': 0.6923466082098246, 'min_data_in_leaf': 6328}. Best is trial 7 with value: 78.93.\n"
     ]
    },
    {
     "name": "stdout",
     "output_type": "stream",
     "text": [
      "**************** regression_l1 ****************\n",
      "Training until validation scores don't improve for 76 rounds\n",
      "[100]\tvalid_0's ER: 81.26\n",
      "[200]\tvalid_0's ER: 81.01\n",
      "[300]\tvalid_0's ER: 80.8\n",
      "Early stopping, best iteration is:\n",
      "[293]\tvalid_0's ER: 80.79\n",
      "Evaluated only: ER\n"
     ]
    },
    {
     "name": "stderr",
     "output_type": "stream",
     "text": [
      "[I 2023-12-16 01:18:57,890] Trial 9 finished with value: 80.79 and parameters: {'lambda_l1': 752.2191681586177, 'lambda_l2': 426.4142437566456, 'learning_rate': 0.18882134897481043, 'num_leaves': 470, 'feature_fraction': 0.7022166095860372, 'min_data_in_leaf': 1946}. Best is trial 7 with value: 78.93.\n"
     ]
    },
    {
     "name": "stdout",
     "output_type": "stream",
     "text": [
      "# Experimentos: 10\n",
      "Mejor experimento: {'lambda_l1': 118.98971156943449, 'lambda_l2': 229.01206269932194, 'learning_rate': 0.23913372268221408, 'num_leaves': 243, 'feature_fraction': 0.8245826364515354, 'min_data_in_leaf': 1390}\n",
      "=========================================== Cluster 4 ===========================================\n"
     ]
    },
    {
     "name": "stderr",
     "output_type": "stream",
     "text": [
      "[I 2023-12-16 01:19:03,377] A new study created in memory with name: no-name-53840479-0fe0-4b5e-a26f-0f070e27fcc3\n"
     ]
    },
    {
     "name": "stdout",
     "output_type": "stream",
     "text": [
      "Periodos entrenar: [201701 201702 201703 201704 201705 201706 201707 201708 201709 201710\n",
      " 201711 201712 201801 201802 201803 201804 201805 201806 201807 201808\n",
      " 201809 201810 201811 201812 201901 201902 201903 201904 201905]\n",
      "Periodos validar: [201907]\n",
      "product_id a validar: 6380\n",
      "X_train: (160411, 120)\n",
      "y_train: (160411,)\n",
      "\n",
      "X_validate: (6380, 120)\n",
      "y_validate: (6380,)\n",
      "Optimizacion Bayesiana\n",
      "**************** regression_l1 ****************\n",
      "Training until validation scores don't improve for 137 rounds\n",
      "[100]\tvalid_0's ER: 94.7\n"
     ]
    },
    {
     "name": "stderr",
     "output_type": "stream",
     "text": [
      "[I 2023-12-16 01:19:08,498] Trial 0 finished with value: 94.53 and parameters: {'lambda_l1': 309.1429049691473, 'lambda_l2': 750.4769249550847, 'learning_rate': 0.05734199775817278, 'num_leaves': 878, 'feature_fraction': 0.8260984320051861, 'min_data_in_leaf': 7637}. Best is trial 0 with value: 94.53.\n"
     ]
    },
    {
     "name": "stdout",
     "output_type": "stream",
     "text": [
      "Early stopping, best iteration is:\n",
      "[43]\tvalid_0's ER: 94.53\n",
      "Evaluated only: ER\n",
      "**************** regression_l1 ****************\n",
      "Training until validation scores don't improve for 78 rounds\n",
      "[100]\tvalid_0's ER: 94.01\n"
     ]
    },
    {
     "name": "stderr",
     "output_type": "stream",
     "text": [
      "[I 2023-12-16 01:19:12,116] Trial 1 finished with value: 93.98 and parameters: {'lambda_l1': 399.973217744227, 'lambda_l2': 5.4142189542676356, 'learning_rate': 0.17354527946552592, 'num_leaves': 795, 'feature_fraction': 0.31506426940455534, 'min_data_in_leaf': 7717}. Best is trial 1 with value: 93.98.\n"
     ]
    },
    {
     "name": "stdout",
     "output_type": "stream",
     "text": [
      "Early stopping, best iteration is:\n",
      "[107]\tvalid_0's ER: 93.98\n",
      "Evaluated only: ER\n",
      "**************** regression_l1 ****************\n",
      "Training until validation scores don't improve for 82 rounds\n",
      "[100]\tvalid_0's ER: 94.41\n",
      "[200]\tvalid_0's ER: 94.01\n"
     ]
    },
    {
     "name": "stderr",
     "output_type": "stream",
     "text": [
      "[I 2023-12-16 01:19:19,984] Trial 2 finished with value: 93.97 and parameters: {'lambda_l1': 961.0325291055511, 'lambda_l2': 627.0537865087219, 'learning_rate': 0.15206358209814602, 'num_leaves': 909, 'feature_fraction': 0.8222768089275532, 'min_data_in_leaf': 6830}. Best is trial 2 with value: 93.97.\n"
     ]
    },
    {
     "name": "stdout",
     "output_type": "stream",
     "text": [
      "Early stopping, best iteration is:\n",
      "[184]\tvalid_0's ER: 93.97\n",
      "Evaluated only: ER\n",
      "**************** regression_l1 ****************\n",
      "Training until validation scores don't improve for 68 rounds\n"
     ]
    },
    {
     "name": "stderr",
     "output_type": "stream",
     "text": [
      "[I 2023-12-16 01:19:22,786] Trial 3 finished with value: 95.28 and parameters: {'lambda_l1': 488.9026096999903, 'lambda_l2': 577.1301402574869, 'learning_rate': 0.2645010037627986, 'num_leaves': 236, 'feature_fraction': 0.9581017152906675, 'min_data_in_leaf': 7824}. Best is trial 2 with value: 93.97.\n"
     ]
    },
    {
     "name": "stdout",
     "output_type": "stream",
     "text": [
      "Early stopping, best iteration is:\n",
      "[10]\tvalid_0's ER: 95.28\n",
      "Evaluated only: ER\n",
      "**************** regression_l1 ****************\n",
      "Training until validation scores don't improve for 67 rounds\n",
      "[100]\tvalid_0's ER: 83.47\n",
      "[200]\tvalid_0's ER: 82.55\n",
      "[300]\tvalid_0's ER: 82.39\n"
     ]
    },
    {
     "name": "stderr",
     "output_type": "stream",
     "text": [
      "[I 2023-12-16 01:19:31,406] Trial 4 finished with value: 82.38 and parameters: {'lambda_l1': 426.1576613757713, 'lambda_l2': 119.19128699771197, 'learning_rate': 0.2795764369693016, 'num_leaves': 336, 'feature_fraction': 0.49205879208311265, 'min_data_in_leaf': 1593}. Best is trial 4 with value: 82.38.\n"
     ]
    },
    {
     "name": "stdout",
     "output_type": "stream",
     "text": [
      "Early stopping, best iteration is:\n",
      "[291]\tvalid_0's ER: 82.38\n",
      "Evaluated only: ER\n",
      "**************** regression_l1 ****************\n",
      "Training until validation scores don't improve for 102 rounds\n",
      "[100]\tvalid_0's ER: 92.41\n",
      "[200]\tvalid_0's ER: 92.46\n"
     ]
    },
    {
     "name": "stderr",
     "output_type": "stream",
     "text": [
      "[I 2023-12-16 01:19:37,471] Trial 5 finished with value: 92.39 and parameters: {'lambda_l1': 334.3643555767516, 'lambda_l2': 768.0367054973657, 'learning_rate': 0.0950235441274492, 'num_leaves': 375, 'feature_fraction': 0.549665922981039, 'min_data_in_leaf': 5759}. Best is trial 4 with value: 82.38.\n"
     ]
    },
    {
     "name": "stdout",
     "output_type": "stream",
     "text": [
      "Early stopping, best iteration is:\n",
      "[137]\tvalid_0's ER: 92.39\n",
      "Evaluated only: ER\n",
      "**************** regression_l1 ****************\n",
      "Training until validation scores don't improve for 81 rounds\n",
      "[100]\tvalid_0's ER: 94.21\n"
     ]
    },
    {
     "name": "stderr",
     "output_type": "stream",
     "text": [
      "[I 2023-12-16 01:19:40,843] Trial 6 finished with value: 94.17 and parameters: {'lambda_l1': 654.8287386853306, 'lambda_l2': 706.3697175410085, 'learning_rate': 0.15794083435280348, 'num_leaves': 682, 'feature_fraction': 0.2174391896792253, 'min_data_in_leaf': 6478}. Best is trial 4 with value: 82.38.\n"
     ]
    },
    {
     "name": "stdout",
     "output_type": "stream",
     "text": [
      "Early stopping, best iteration is:\n",
      "[112]\tvalid_0's ER: 94.17\n",
      "Evaluated only: ER\n",
      "**************** regression_l1 ****************\n",
      "Training until validation scores don't improve for 69 rounds\n",
      "[100]\tvalid_0's ER: 78.55\n"
     ]
    },
    {
     "name": "stderr",
     "output_type": "stream",
     "text": [
      "[I 2023-12-16 01:19:45,089] Trial 7 finished with value: 78.49 and parameters: {'lambda_l1': 22.855094517950203, 'lambda_l2': 193.81520353522495, 'learning_rate': 0.25110386147124136, 'num_leaves': 393, 'feature_fraction': 0.37345190826181196, 'min_data_in_leaf': 737}. Best is trial 7 with value: 78.49.\n"
     ]
    },
    {
     "name": "stdout",
     "output_type": "stream",
     "text": [
      "Early stopping, best iteration is:\n",
      "[61]\tvalid_0's ER: 78.49\n",
      "Evaluated only: ER\n",
      "**************** regression_l1 ****************\n",
      "Training until validation scores don't improve for 85 rounds\n",
      "[100]\tvalid_0's ER: 83.88\n",
      "[200]\tvalid_0's ER: 82.29\n",
      "[300]\tvalid_0's ER: 81.22\n",
      "[400]\tvalid_0's ER: 80.69\n"
     ]
    },
    {
     "name": "stderr",
     "output_type": "stream",
     "text": [
      "[I 2023-12-16 01:20:01,753] Trial 8 finished with value: 80.67 and parameters: {'lambda_l1': 670.8111714775056, 'lambda_l2': 154.65603723033072, 'learning_rate': 0.14234978152990788, 'num_leaves': 917, 'feature_fraction': 0.8531395631227634, 'min_data_in_leaf': 879}. Best is trial 7 with value: 78.49.\n"
     ]
    },
    {
     "name": "stdout",
     "output_type": "stream",
     "text": [
      "Early stopping, best iteration is:\n",
      "[349]\tvalid_0's ER: 80.67\n",
      "Evaluated only: ER\n",
      "**************** regression_l1 ****************\n",
      "Training until validation scores don't improve for 73 rounds\n"
     ]
    },
    {
     "name": "stderr",
     "output_type": "stream",
     "text": [
      "[I 2023-12-16 01:20:04,364] Trial 9 finished with value: 99.66 and parameters: {'lambda_l1': 871.5422544672886, 'lambda_l2': 278.6488062109939, 'learning_rate': 0.21121746402724534, 'num_leaves': 138, 'feature_fraction': 0.9580667637741387, 'min_data_in_leaf': 2660}. Best is trial 7 with value: 78.49.\n"
     ]
    },
    {
     "name": "stdout",
     "output_type": "stream",
     "text": [
      "Early stopping, best iteration is:\n",
      "[2]\tvalid_0's ER: 99.66\n",
      "Evaluated only: ER\n",
      "# Experimentos: 10\n",
      "Mejor experimento: {'lambda_l1': 22.855094517950203, 'lambda_l2': 193.81520353522495, 'learning_rate': 0.25110386147124136, 'num_leaves': 393, 'feature_fraction': 0.37345190826181196, 'min_data_in_leaf': 737}\n",
      "=========================================== Cluster 5 ===========================================\n",
      "Periodos entrenar: [201701 201702 201703 201704 201705 201706 201707 201708 201709 201710\n",
      " 201711 201712 201801 201802 201803 201804 201805 201806 201807 201808\n",
      " 201809 201810 201811 201812 201901 201902 201903 201904 201905]\n",
      "Periodos validar: [201907]\n",
      "product_id a validar: 26680\n"
     ]
    },
    {
     "name": "stderr",
     "output_type": "stream",
     "text": [
      "[I 2023-12-16 01:20:25,202] A new study created in memory with name: no-name-6d2709e6-385c-463f-b668-c669609a7721\n"
     ]
    },
    {
     "name": "stdout",
     "output_type": "stream",
     "text": [
      "X_train: (607646, 120)\n",
      "y_train: (607646,)\n",
      "\n",
      "X_validate: (26680, 120)\n",
      "y_validate: (26680,)\n",
      "Optimizacion Bayesiana\n",
      "**************** regression_l1 ****************\n",
      "Training until validation scores don't improve for 79 rounds\n"
     ]
    },
    {
     "name": "stderr",
     "output_type": "stream",
     "text": [
      "[I 2023-12-16 01:20:42,001] Trial 0 finished with value: 89.65 and parameters: {'lambda_l1': 81.24271522859271, 'lambda_l2': 647.1321517218258, 'learning_rate': 0.1689111006046568, 'num_leaves': 880, 'feature_fraction': 0.9540044511698564, 'min_data_in_leaf': 1463}. Best is trial 0 with value: 89.65.\n"
     ]
    },
    {
     "name": "stdout",
     "output_type": "stream",
     "text": [
      "Early stopping, best iteration is:\n",
      "[15]\tvalid_0's ER: 89.65\n",
      "Evaluated only: ER\n",
      "**************** regression_l1 ****************\n",
      "Training until validation scores don't improve for 237 rounds\n",
      "[100]\tvalid_0's ER: 88.59\n",
      "[200]\tvalid_0's ER: 89.08\n",
      "[300]\tvalid_0's ER: 88.79\n"
     ]
    },
    {
     "name": "stderr",
     "output_type": "stream",
     "text": [
      "[I 2023-12-16 01:21:17,443] Trial 1 finished with value: 88.48 and parameters: {'lambda_l1': 735.4875257502302, 'lambda_l2': 731.0352909206576, 'learning_rate': 0.026716686051093883, 'num_leaves': 1019, 'feature_fraction': 0.6100546477653181, 'min_data_in_leaf': 1736}. Best is trial 1 with value: 88.48.\n"
     ]
    },
    {
     "name": "stdout",
     "output_type": "stream",
     "text": [
      "Early stopping, best iteration is:\n",
      "[107]\tvalid_0's ER: 88.48\n",
      "Evaluated only: ER\n",
      "**************** regression_l1 ****************\n",
      "Training until validation scores don't improve for 66 rounds\n"
     ]
    },
    {
     "name": "stderr",
     "output_type": "stream",
     "text": [
      "[I 2023-12-16 01:21:23,225] Trial 2 finished with value: 89.89 and parameters: {'lambda_l1': 347.4540739149925, 'lambda_l2': 101.93225200732769, 'learning_rate': 0.2991460965191685, 'num_leaves': 68, 'feature_fraction': 0.20675778254451532, 'min_data_in_leaf': 3748}. Best is trial 1 with value: 88.48.\n"
     ]
    },
    {
     "name": "stdout",
     "output_type": "stream",
     "text": [
      "Early stopping, best iteration is:\n",
      "[6]\tvalid_0's ER: 89.89\n",
      "Evaluated only: ER\n",
      "**************** regression_l1 ****************\n",
      "Training until validation scores don't improve for 70 rounds\n",
      "[100]\tvalid_0's ER: 92.41\n",
      "[200]\tvalid_0's ER: 91.52\n"
     ]
    },
    {
     "name": "stderr",
     "output_type": "stream",
     "text": [
      "[I 2023-12-16 01:21:45,454] Trial 3 finished with value: 91.43 and parameters: {'lambda_l1': 510.98696707083036, 'lambda_l2': 687.4770549069758, 'learning_rate': 0.23958770000941398, 'num_leaves': 986, 'feature_fraction': 0.5037256281687907, 'min_data_in_leaf': 5682}. Best is trial 1 with value: 88.48.\n"
     ]
    },
    {
     "name": "stdout",
     "output_type": "stream",
     "text": [
      "Early stopping, best iteration is:\n",
      "[224]\tvalid_0's ER: 91.43\n",
      "Evaluated only: ER\n",
      "**************** regression_l1 ****************\n",
      "Training until validation scores don't improve for 91 rounds\n",
      "[100]\tvalid_0's ER: 91.16\n"
     ]
    },
    {
     "name": "stderr",
     "output_type": "stream",
     "text": [
      "[I 2023-12-16 01:21:58,490] Trial 4 finished with value: 89.74 and parameters: {'lambda_l1': 147.5017491417183, 'lambda_l2': 133.94507650759212, 'learning_rate': 0.12065955262030659, 'num_leaves': 370, 'feature_fraction': 0.5267488919178407, 'min_data_in_leaf': 4377}. Best is trial 1 with value: 88.48.\n"
     ]
    },
    {
     "name": "stdout",
     "output_type": "stream",
     "text": [
      "Early stopping, best iteration is:\n",
      "[14]\tvalid_0's ER: 89.74\n",
      "Evaluated only: ER\n",
      "**************** regression_l1 ****************\n",
      "Training until validation scores don't improve for 101 rounds\n",
      "[100]\tvalid_0's ER: 91.9\n"
     ]
    },
    {
     "name": "stderr",
     "output_type": "stream",
     "text": [
      "[I 2023-12-16 01:22:11,501] Trial 5 finished with value: 91.24 and parameters: {'lambda_l1': 864.3071983227815, 'lambda_l2': 186.83380180122478, 'learning_rate': 0.09786152495733727, 'num_leaves': 697, 'feature_fraction': 0.4461938664330052, 'min_data_in_leaf': 6213}. Best is trial 1 with value: 88.48.\n"
     ]
    },
    {
     "name": "stdout",
     "output_type": "stream",
     "text": [
      "Early stopping, best iteration is:\n",
      "[70]\tvalid_0's ER: 91.24\n",
      "Evaluated only: ER\n",
      "**************** regression_l1 ****************\n",
      "Training until validation scores don't improve for 110 rounds\n",
      "[100]\tvalid_0's ER: 90.52\n"
     ]
    },
    {
     "name": "stderr",
     "output_type": "stream",
     "text": [
      "[I 2023-12-16 01:22:27,574] Trial 6 finished with value: 88.25 and parameters: {'lambda_l1': 143.6581264716118, 'lambda_l2': 392.3000429180996, 'learning_rate': 0.0822048829854665, 'num_leaves': 29, 'feature_fraction': 0.7649321678271697, 'min_data_in_leaf': 3173}. Best is trial 6 with value: 88.25.\n"
     ]
    },
    {
     "name": "stdout",
     "output_type": "stream",
     "text": [
      "Early stopping, best iteration is:\n",
      "[20]\tvalid_0's ER: 88.25\n",
      "Evaluated only: ER\n",
      "**************** regression_l1 ****************\n",
      "Training until validation scores don't improve for 84 rounds\n"
     ]
    },
    {
     "name": "stderr",
     "output_type": "stream",
     "text": [
      "[I 2023-12-16 01:22:39,874] Trial 7 finished with value: 89.92 and parameters: {'lambda_l1': 22.12778733337972, 'lambda_l2': 609.0605466371176, 'learning_rate': 0.1435238123441531, 'num_leaves': 880, 'feature_fraction': 0.48884817547265014, 'min_data_in_leaf': 4352}. Best is trial 6 with value: 88.25.\n"
     ]
    },
    {
     "name": "stdout",
     "output_type": "stream",
     "text": [
      "Early stopping, best iteration is:\n",
      "[13]\tvalid_0's ER: 89.92\n",
      "Evaluated only: ER\n",
      "**************** regression_l1 ****************\n",
      "Training until validation scores don't improve for 93 rounds\n",
      "[100]\tvalid_0's ER: 90.84\n"
     ]
    },
    {
     "name": "stderr",
     "output_type": "stream",
     "text": [
      "[I 2023-12-16 01:22:52,189] Trial 8 finished with value: 89.01 and parameters: {'lambda_l1': 450.8205774068329, 'lambda_l2': 981.4714580514708, 'learning_rate': 0.11484913749253693, 'num_leaves': 299, 'feature_fraction': 0.5045889293618155, 'min_data_in_leaf': 3928}. Best is trial 6 with value: 88.25.\n"
     ]
    },
    {
     "name": "stdout",
     "output_type": "stream",
     "text": [
      "Early stopping, best iteration is:\n",
      "[37]\tvalid_0's ER: 89.01\n",
      "Evaluated only: ER\n",
      "**************** regression_l1 ****************\n",
      "Training until validation scores don't improve for 131 rounds\n",
      "[100]\tvalid_0's ER: 89.78\n"
     ]
    },
    {
     "name": "stderr",
     "output_type": "stream",
     "text": [
      "[I 2023-12-16 01:23:05,429] Trial 9 finished with value: 89.51 and parameters: {'lambda_l1': 681.8573099582925, 'lambda_l2': 63.060522515055005, 'learning_rate': 0.06157764914971509, 'num_leaves': 838, 'feature_fraction': 0.31935849542048855, 'min_data_in_leaf': 1121}. Best is trial 6 with value: 88.25.\n"
     ]
    },
    {
     "name": "stdout",
     "output_type": "stream",
     "text": [
      "Early stopping, best iteration is:\n",
      "[64]\tvalid_0's ER: 89.51\n",
      "Evaluated only: ER\n",
      "# Experimentos: 10\n",
      "Mejor experimento: {'lambda_l1': 143.6581264716118, 'lambda_l2': 392.3000429180996, 'learning_rate': 0.0822048829854665, 'num_leaves': 29, 'feature_fraction': 0.7649321678271697, 'min_data_in_leaf': 3173}\n",
      "=========================================== Cluster 6 ===========================================\n"
     ]
    },
    {
     "name": "stderr",
     "output_type": "stream",
     "text": [
      "[I 2023-12-16 01:23:12,114] A new study created in memory with name: no-name-3d5b4353-beab-420e-811a-134055141ab8\n"
     ]
    },
    {
     "name": "stdout",
     "output_type": "stream",
     "text": [
      "Periodos entrenar: [201701 201702 201703 201704 201705 201706 201707 201708 201709 201710\n",
      " 201711 201712 201801 201802 201803 201804 201805 201806 201807 201808\n",
      " 201809 201810 201811 201812 201901 201902 201903 201904 201905]\n",
      "Periodos validar: [201907]\n",
      "product_id a validar: 7540\n",
      "X_train: (200941, 120)\n",
      "y_train: (200941,)\n",
      "\n",
      "X_validate: (7540, 120)\n",
      "y_validate: (7540,)\n",
      "Optimizacion Bayesiana\n",
      "**************** regression_l1 ****************\n",
      "Training until validation scores don't improve for 130 rounds\n",
      "[100]\tvalid_0's ER: 90.36\n",
      "[200]\tvalid_0's ER: 89.45\n",
      "[300]\tvalid_0's ER: 89.04\n",
      "[400]\tvalid_0's ER: 88.72\n",
      "[500]\tvalid_0's ER: 88.51\n",
      "[600]\tvalid_0's ER: 88.43\n",
      "[700]\tvalid_0's ER: 88.27\n",
      "[800]\tvalid_0's ER: 88.08\n",
      "[900]\tvalid_0's ER: 87.86\n",
      "[1000]\tvalid_0's ER: 87.76\n",
      "[1100]\tvalid_0's ER: 87.55\n",
      "[1200]\tvalid_0's ER: 87.53\n",
      "[1300]\tvalid_0's ER: 87.36\n",
      "[1400]\tvalid_0's ER: 87.22\n",
      "[1500]\tvalid_0's ER: 87.2\n",
      "Early stopping, best iteration is:\n",
      "[1430]\tvalid_0's ER: 87.2\n",
      "Evaluated only: ER\n"
     ]
    },
    {
     "name": "stderr",
     "output_type": "stream",
     "text": [
      "[I 2023-12-16 01:23:43,187] Trial 0 finished with value: 87.2 and parameters: {'lambda_l1': 696.0672375948855, 'lambda_l2': 489.9170388920221, 'learning_rate': 0.06247206381265066, 'num_leaves': 36, 'feature_fraction': 0.35981314837440914, 'min_data_in_leaf': 5295}. Best is trial 0 with value: 87.2.\n"
     ]
    },
    {
     "name": "stdout",
     "output_type": "stream",
     "text": [
      "**************** regression_l1 ****************\n",
      "Training until validation scores don't improve for 67 rounds\n",
      "[100]\tvalid_0's ER: 85.24\n",
      "[200]\tvalid_0's ER: 84.17\n",
      "[300]\tvalid_0's ER: 84.08\n",
      "[400]\tvalid_0's ER: 83.46\n",
      "[500]\tvalid_0's ER: 82.57\n",
      "[600]\tvalid_0's ER: 82.24\n"
     ]
    },
    {
     "name": "stderr",
     "output_type": "stream",
     "text": [
      "[I 2023-12-16 01:23:56,336] Trial 1 finished with value: 82.21 and parameters: {'lambda_l1': 754.0662223538807, 'lambda_l2': 554.8443962170257, 'learning_rate': 0.28144493615351857, 'num_leaves': 322, 'feature_fraction': 0.22329373413324466, 'min_data_in_leaf': 2166}. Best is trial 1 with value: 82.21.\n"
     ]
    },
    {
     "name": "stdout",
     "output_type": "stream",
     "text": [
      "Early stopping, best iteration is:\n",
      "[630]\tvalid_0's ER: 82.21\n",
      "Evaluated only: ER\n",
      "**************** regression_l1 ****************\n",
      "Training until validation scores don't improve for 71 rounds\n",
      "[100]\tvalid_0's ER: 79.2\n",
      "[200]\tvalid_0's ER: 77.86\n",
      "[300]\tvalid_0's ER: 77.72\n",
      "[400]\tvalid_0's ER: 77.58\n",
      "[500]\tvalid_0's ER: 77.45\n"
     ]
    },
    {
     "name": "stderr",
     "output_type": "stream",
     "text": [
      "[I 2023-12-16 01:24:24,122] Trial 2 finished with value: 77.4 and parameters: {'lambda_l1': 78.80913662128907, 'lambda_l2': 143.25286692683216, 'learning_rate': 0.23514609388523294, 'num_leaves': 893, 'feature_fraction': 0.6250565295132537, 'min_data_in_leaf': 2051}. Best is trial 2 with value: 77.4.\n"
     ]
    },
    {
     "name": "stdout",
     "output_type": "stream",
     "text": [
      "Early stopping, best iteration is:\n",
      "[466]\tvalid_0's ER: 77.4\n",
      "Evaluated only: ER\n",
      "**************** regression_l1 ****************\n",
      "Training until validation scores don't improve for 84 rounds\n",
      "[100]\tvalid_0's ER: 83.57\n",
      "[200]\tvalid_0's ER: 83.32\n",
      "[300]\tvalid_0's ER: 83.09\n",
      "[400]\tvalid_0's ER: 83.04\n",
      "[500]\tvalid_0's ER: 82.87\n"
     ]
    },
    {
     "name": "stderr",
     "output_type": "stream",
     "text": [
      "[I 2023-12-16 01:24:38,701] Trial 3 finished with value: 82.85 and parameters: {'lambda_l1': 745.2305338477721, 'lambda_l2': 209.43033141142098, 'learning_rate': 0.14372499383842108, 'num_leaves': 95, 'feature_fraction': 0.4440487590760322, 'min_data_in_leaf': 2303}. Best is trial 2 with value: 77.4.\n"
     ]
    },
    {
     "name": "stdout",
     "output_type": "stream",
     "text": [
      "Early stopping, best iteration is:\n",
      "[425]\tvalid_0's ER: 82.85\n",
      "Evaluated only: ER\n",
      "**************** regression_l1 ****************\n",
      "Training until validation scores don't improve for 69 rounds\n",
      "[100]\tvalid_0's ER: 87.55\n"
     ]
    },
    {
     "name": "stderr",
     "output_type": "stream",
     "text": [
      "[I 2023-12-16 01:24:43,767] Trial 4 finished with value: 87.55 and parameters: {'lambda_l1': 908.6364511107873, 'lambda_l2': 697.4955400820709, 'learning_rate': 0.25046379448842865, 'num_leaves': 1013, 'feature_fraction': 0.8986979703737747, 'min_data_in_leaf': 4030}. Best is trial 2 with value: 77.4.\n"
     ]
    },
    {
     "name": "stdout",
     "output_type": "stream",
     "text": [
      "Early stopping, best iteration is:\n",
      "[57]\tvalid_0's ER: 87.55\n",
      "Evaluated only: ER\n",
      "**************** regression_l1 ****************\n",
      "Training until validation scores don't improve for 69 rounds\n",
      "[100]\tvalid_0's ER: 91.33\n",
      "[200]\tvalid_0's ER: 90.98\n",
      "[300]\tvalid_0's ER: 89.94\n",
      "[400]\tvalid_0's ER: 89.49\n",
      "[500]\tvalid_0's ER: 89.44\n",
      "[600]\tvalid_0's ER: 89.19\n",
      "[700]\tvalid_0's ER: 88.9\n",
      "[800]\tvalid_0's ER: 88.59\n",
      "[900]\tvalid_0's ER: 87.82\n",
      "[1000]\tvalid_0's ER: 87.33\n",
      "[1100]\tvalid_0's ER: 87\n",
      "[1200]\tvalid_0's ER: 86.76\n",
      "[1300]\tvalid_0's ER: 86.54\n",
      "[1400]\tvalid_0's ER: 86.2\n",
      "[1500]\tvalid_0's ER: 85.96\n",
      "[1600]\tvalid_0's ER: 85.69\n",
      "[1700]\tvalid_0's ER: 85.47\n",
      "[1800]\tvalid_0's ER: 85.28\n",
      "[1900]\tvalid_0's ER: 85.15\n",
      "[2000]\tvalid_0's ER: 84.93\n",
      "[2100]\tvalid_0's ER: 84.63\n",
      "[2200]\tvalid_0's ER: 84.44\n",
      "[2300]\tvalid_0's ER: 84.13\n",
      "[2400]\tvalid_0's ER: 83.87\n",
      "[2500]\tvalid_0's ER: 83.44\n",
      "[2600]\tvalid_0's ER: 83.16\n",
      "[2700]\tvalid_0's ER: 82.96\n",
      "[2800]\tvalid_0's ER: 82.78\n",
      "[2900]\tvalid_0's ER: 82.6\n",
      "[3000]\tvalid_0's ER: 82.4\n",
      "[3100]\tvalid_0's ER: 82.24\n",
      "[3200]\tvalid_0's ER: 82.12\n",
      "[3300]\tvalid_0's ER: 81.84\n",
      "[3400]\tvalid_0's ER: 81.66\n",
      "[3500]\tvalid_0's ER: 81.44\n",
      "[3600]\tvalid_0's ER: 81.25\n",
      "[3700]\tvalid_0's ER: 81.11\n",
      "[3800]\tvalid_0's ER: 80.93\n",
      "Early stopping, best iteration is:\n",
      "[3797]\tvalid_0's ER: 80.93\n",
      "Evaluated only: ER\n"
     ]
    },
    {
     "name": "stderr",
     "output_type": "stream",
     "text": [
      "[I 2023-12-16 01:26:58,382] Trial 5 finished with value: 80.93 and parameters: {'lambda_l1': 7.423548671709357, 'lambda_l2': 134.365520327285, 'learning_rate': 0.26204430948721313, 'num_leaves': 570, 'feature_fraction': 0.793207158240472, 'min_data_in_leaf': 7942}. Best is trial 2 with value: 77.4.\n"
     ]
    },
    {
     "name": "stdout",
     "output_type": "stream",
     "text": [
      "**************** regression_l1 ****************\n",
      "Training until validation scores don't improve for 116 rounds\n",
      "[100]\tvalid_0's ER: 77.78\n",
      "[200]\tvalid_0's ER: 74.19\n",
      "[300]\tvalid_0's ER: 72.86\n",
      "[400]\tvalid_0's ER: 72.02\n",
      "[500]\tvalid_0's ER: 71.87\n",
      "[600]\tvalid_0's ER: 71.7\n",
      "[700]\tvalid_0's ER: 71.6\n",
      "[800]\tvalid_0's ER: 71.39\n",
      "[900]\tvalid_0's ER: 71.3\n",
      "Early stopping, best iteration is:\n",
      "[853]\tvalid_0's ER: 71.26\n",
      "Evaluated only: ER\n"
     ]
    },
    {
     "name": "stderr",
     "output_type": "stream",
     "text": [
      "[I 2023-12-16 01:27:52,111] Trial 6 finished with value: 71.26 and parameters: {'lambda_l1': 361.62037623702525, 'lambda_l2': 864.131566952975, 'learning_rate': 0.07528288303734569, 'num_leaves': 428, 'feature_fraction': 0.3906976399712532, 'min_data_in_leaf': 151}. Best is trial 6 with value: 71.26.\n"
     ]
    },
    {
     "name": "stdout",
     "output_type": "stream",
     "text": [
      "**************** regression_l1 ****************\n",
      "Training until validation scores don't improve for 66 rounds\n",
      "[100]\tvalid_0's ER: 86.59\n",
      "[200]\tvalid_0's ER: 86.18\n",
      "[300]\tvalid_0's ER: 85.81\n"
     ]
    },
    {
     "name": "stderr",
     "output_type": "stream",
     "text": [
      "[I 2023-12-16 01:27:59,679] Trial 7 finished with value: 85.8 and parameters: {'lambda_l1': 894.9327859622582, 'lambda_l2': 969.9945812464103, 'learning_rate': 0.29687343113977765, 'num_leaves': 951, 'feature_fraction': 0.3011640668577961, 'min_data_in_leaf': 3398}. Best is trial 6 with value: 71.26.\n"
     ]
    },
    {
     "name": "stdout",
     "output_type": "stream",
     "text": [
      "Early stopping, best iteration is:\n",
      "[266]\tvalid_0's ER: 85.8\n",
      "Evaluated only: ER\n",
      "**************** regression_l1 ****************\n",
      "Training until validation scores don't improve for 186 rounds\n",
      "[100]\tvalid_0's ER: 89.62\n",
      "[200]\tvalid_0's ER: 89.45\n",
      "[300]\tvalid_0's ER: 89.21\n",
      "[400]\tvalid_0's ER: 89.08\n",
      "[500]\tvalid_0's ER: 88.73\n",
      "[600]\tvalid_0's ER: 88.42\n",
      "[700]\tvalid_0's ER: 88.25\n",
      "[800]\tvalid_0's ER: 88.05\n",
      "[900]\tvalid_0's ER: 87.95\n",
      "[1000]\tvalid_0's ER: 87.79\n",
      "[1100]\tvalid_0's ER: 87.64\n",
      "[1200]\tvalid_0's ER: 87.51\n",
      "[1300]\tvalid_0's ER: 87.35\n",
      "[1400]\tvalid_0's ER: 87.25\n",
      "[1500]\tvalid_0's ER: 87.08\n",
      "[1600]\tvalid_0's ER: 86.94\n",
      "[1700]\tvalid_0's ER: 86.69\n",
      "[1800]\tvalid_0's ER: 86.56\n",
      "[1900]\tvalid_0's ER: 86.49\n",
      "[2000]\tvalid_0's ER: 86.44\n",
      "[2100]\tvalid_0's ER: 86.36\n",
      "[2200]\tvalid_0's ER: 86.27\n",
      "[2300]\tvalid_0's ER: 86.2\n",
      "[2400]\tvalid_0's ER: 86.13\n",
      "[2500]\tvalid_0's ER: 86.05\n",
      "[2600]\tvalid_0's ER: 86.02\n",
      "[2700]\tvalid_0's ER: 85.95\n",
      "[2800]\tvalid_0's ER: 85.89\n",
      "[2900]\tvalid_0's ER: 85.85\n",
      "[3000]\tvalid_0's ER: 85.76\n",
      "[3100]\tvalid_0's ER: 85.7\n",
      "[3200]\tvalid_0's ER: 85.65\n",
      "[3300]\tvalid_0's ER: 85.54\n",
      "[3400]\tvalid_0's ER: 85.47\n",
      "[3500]\tvalid_0's ER: 85.42\n",
      "[3600]\tvalid_0's ER: 85.36\n",
      "[3700]\tvalid_0's ER: 85.29\n",
      "[3800]\tvalid_0's ER: 85.27\n",
      "[3900]\tvalid_0's ER: 85.23\n",
      "[4000]\tvalid_0's ER: 85.18\n",
      "[4100]\tvalid_0's ER: 85.13\n",
      "[4200]\tvalid_0's ER: 85.1\n",
      "[4300]\tvalid_0's ER: 85.08\n",
      "[4400]\tvalid_0's ER: 85.03\n",
      "[4500]\tvalid_0's ER: 85.01\n",
      "[4600]\tvalid_0's ER: 84.99\n",
      "[4700]\tvalid_0's ER: 84.95\n",
      "[4800]\tvalid_0's ER: 84.92\n",
      "[4900]\tvalid_0's ER: 84.86\n",
      "[5000]\tvalid_0's ER: 84.79\n",
      "[5100]\tvalid_0's ER: 84.74\n",
      "[5200]\tvalid_0's ER: 84.69\n",
      "[5300]\tvalid_0's ER: 84.66\n",
      "[5400]\tvalid_0's ER: 84.62\n",
      "[5500]\tvalid_0's ER: 84.56\n",
      "[5600]\tvalid_0's ER: 84.54\n",
      "[5700]\tvalid_0's ER: 84.48\n",
      "[5800]\tvalid_0's ER: 84.46\n",
      "[5900]\tvalid_0's ER: 84.41\n",
      "[6000]\tvalid_0's ER: 84.4\n",
      "[6100]\tvalid_0's ER: 84.35\n",
      "[6200]\tvalid_0's ER: 84.34\n",
      "[6300]\tvalid_0's ER: 84.31\n",
      "[6400]\tvalid_0's ER: 84.27\n",
      "[6500]\tvalid_0's ER: 84.24\n",
      "[6600]\tvalid_0's ER: 84.19\n",
      "[6700]\tvalid_0's ER: 84.17\n",
      "[6800]\tvalid_0's ER: 84.15\n",
      "[6900]\tvalid_0's ER: 84.13\n",
      "[7000]\tvalid_0's ER: 84.1\n",
      "[7100]\tvalid_0's ER: 84.07\n",
      "[7200]\tvalid_0's ER: 84.06\n",
      "[7300]\tvalid_0's ER: 84.02\n",
      "[7400]\tvalid_0's ER: 84\n",
      "[7500]\tvalid_0's ER: 83.97\n",
      "[7600]\tvalid_0's ER: 83.95\n",
      "[7700]\tvalid_0's ER: 83.93\n",
      "[7800]\tvalid_0's ER: 83.92\n",
      "[7900]\tvalid_0's ER: 83.9\n",
      "[8000]\tvalid_0's ER: 83.88\n",
      "[8100]\tvalid_0's ER: 83.88\n",
      "[8200]\tvalid_0's ER: 83.84\n",
      "[8300]\tvalid_0's ER: 83.81\n",
      "[8400]\tvalid_0's ER: 83.79\n",
      "[8500]\tvalid_0's ER: 83.75\n",
      "[8600]\tvalid_0's ER: 83.72\n",
      "[8700]\tvalid_0's ER: 83.69\n",
      "[8800]\tvalid_0's ER: 83.67\n",
      "[8900]\tvalid_0's ER: 83.65\n",
      "[9000]\tvalid_0's ER: 83.61\n",
      "[9100]\tvalid_0's ER: 83.58\n",
      "[9200]\tvalid_0's ER: 83.57\n",
      "[9300]\tvalid_0's ER: 83.55\n",
      "[9400]\tvalid_0's ER: 83.52\n",
      "[9500]\tvalid_0's ER: 83.49\n",
      "[9600]\tvalid_0's ER: 83.47\n",
      "[9700]\tvalid_0's ER: 83.46\n",
      "[9800]\tvalid_0's ER: 83.44\n",
      "[9900]\tvalid_0's ER: 83.41\n",
      "[10000]\tvalid_0's ER: 83.39\n",
      "Did not meet early stopping. Best iteration is:\n",
      "[9982]\tvalid_0's ER: 83.39\n",
      "Evaluated only: ER\n"
     ]
    },
    {
     "name": "stderr",
     "output_type": "stream",
     "text": [
      "[I 2023-12-16 01:33:53,128] Trial 8 finished with value: 83.39 and parameters: {'lambda_l1': 286.3390364027019, 'lambda_l2': 429.91459504601414, 'learning_rate': 0.03674509157518153, 'num_leaves': 64, 'feature_fraction': 0.7051526391776402, 'min_data_in_leaf': 5941}. Best is trial 6 with value: 71.26.\n"
     ]
    },
    {
     "name": "stdout",
     "output_type": "stream",
     "text": [
      "**************** regression_l1 ****************\n",
      "Training until validation scores don't improve for 72 rounds\n",
      "[100]\tvalid_0's ER: 89.68\n",
      "[200]\tvalid_0's ER: 89.58\n",
      "[300]\tvalid_0's ER: 89.23\n",
      "[400]\tvalid_0's ER: 88.95\n",
      "[500]\tvalid_0's ER: 88.26\n",
      "[600]\tvalid_0's ER: 87.66\n",
      "[700]\tvalid_0's ER: 87.17\n",
      "[800]\tvalid_0's ER: 86.87\n",
      "[900]\tvalid_0's ER: 86.55\n",
      "[1000]\tvalid_0's ER: 86.39\n",
      "[1100]\tvalid_0's ER: 86.23\n",
      "[1200]\tvalid_0's ER: 86.03\n",
      "[1300]\tvalid_0's ER: 85.84\n",
      "[1400]\tvalid_0's ER: 85.66\n",
      "[1500]\tvalid_0's ER: 85.47\n",
      "[1600]\tvalid_0's ER: 85.26\n",
      "[1700]\tvalid_0's ER: 85.18\n",
      "[1800]\tvalid_0's ER: 85.07\n",
      "[1900]\tvalid_0's ER: 84.97\n",
      "[2000]\tvalid_0's ER: 84.9\n",
      "[2100]\tvalid_0's ER: 84.73\n",
      "[2200]\tvalid_0's ER: 84.65\n",
      "[2300]\tvalid_0's ER: 84.6\n",
      "[2400]\tvalid_0's ER: 84.47\n",
      "Early stopping, best iteration is:\n",
      "[2372]\tvalid_0's ER: 84.47\n",
      "Evaluated only: ER\n"
     ]
    },
    {
     "name": "stderr",
     "output_type": "stream",
     "text": [
      "[I 2023-12-16 01:34:41,646] Trial 9 finished with value: 84.47 and parameters: {'lambda_l1': 337.19855318825176, 'lambda_l2': 498.4320390489957, 'learning_rate': 0.2205441288234356, 'num_leaves': 1014, 'feature_fraction': 0.3781303927618169, 'min_data_in_leaf': 7445}. Best is trial 6 with value: 71.26.\n"
     ]
    },
    {
     "name": "stdout",
     "output_type": "stream",
     "text": [
      "# Experimentos: 10\n",
      "Mejor experimento: {'lambda_l1': 361.62037623702525, 'lambda_l2': 864.131566952975, 'learning_rate': 0.07528288303734569, 'num_leaves': 428, 'feature_fraction': 0.3906976399712532, 'min_data_in_leaf': 151}\n",
      "=========================================== Cluster 7 ===========================================\n"
     ]
    },
    {
     "name": "stderr",
     "output_type": "stream",
     "text": [
      "[I 2023-12-16 01:34:46,613] A new study created in memory with name: no-name-44933ebb-c051-468d-b66d-ac688174b635\n"
     ]
    },
    {
     "name": "stdout",
     "output_type": "stream",
     "text": [
      "Periodos entrenar: [201701 201702 201703 201704 201705 201706 201707 201708 201709 201710\n",
      " 201711 201712 201801 201802 201803 201804 201805 201806 201807 201808\n",
      " 201809 201810 201811 201812 201901 201902 201903 201904 201905]\n",
      "Periodos validar: [201907]\n",
      "product_id a validar: 6380\n",
      "X_train: (141395, 120)\n",
      "y_train: (141395,)\n",
      "\n",
      "X_validate: (6380, 120)\n",
      "y_validate: (6380,)\n",
      "Optimizacion Bayesiana\n",
      "**************** regression_l1 ****************\n",
      "Training until validation scores don't improve for 81 rounds\n",
      "[100]\tvalid_0's ER: 85.74\n",
      "[200]\tvalid_0's ER: 85.39\n",
      "[300]\tvalid_0's ER: 84.95\n",
      "[400]\tvalid_0's ER: 84.61\n",
      "[500]\tvalid_0's ER: 84.3\n",
      "[600]\tvalid_0's ER: 83.86\n",
      "[700]\tvalid_0's ER: 83.62\n",
      "[800]\tvalid_0's ER: 82.96\n",
      "[900]\tvalid_0's ER: 82.69\n",
      "[1000]\tvalid_0's ER: 82.34\n",
      "[1100]\tvalid_0's ER: 82.12\n",
      "[1200]\tvalid_0's ER: 81.94\n",
      "[1300]\tvalid_0's ER: 81.69\n",
      "[1400]\tvalid_0's ER: 81.43\n",
      "[1500]\tvalid_0's ER: 81.25\n",
      "[1600]\tvalid_0's ER: 81.13\n",
      "[1700]\tvalid_0's ER: 81.04\n",
      "[1800]\tvalid_0's ER: 80.92\n",
      "[1900]\tvalid_0's ER: 80.75\n",
      "[2000]\tvalid_0's ER: 80.64\n",
      "[2100]\tvalid_0's ER: 80.55\n",
      "[2200]\tvalid_0's ER: 80.44\n",
      "[2300]\tvalid_0's ER: 80.34\n",
      "[2400]\tvalid_0's ER: 80.15\n",
      "[2500]\tvalid_0's ER: 80.1\n",
      "[2600]\tvalid_0's ER: 79.92\n",
      "[2700]\tvalid_0's ER: 79.81\n",
      "[2800]\tvalid_0's ER: 79.72\n",
      "[2900]\tvalid_0's ER: 79.67\n",
      "[3000]\tvalid_0's ER: 79.58\n",
      "[3100]\tvalid_0's ER: 79.51\n",
      "[3200]\tvalid_0's ER: 79.45\n",
      "[3300]\tvalid_0's ER: 79.37\n",
      "[3400]\tvalid_0's ER: 79.34\n",
      "[3500]\tvalid_0's ER: 79.3\n",
      "[3600]\tvalid_0's ER: 79.28\n",
      "Early stopping, best iteration is:\n",
      "[3528]\tvalid_0's ER: 79.28\n",
      "Evaluated only: ER\n"
     ]
    },
    {
     "name": "stderr",
     "output_type": "stream",
     "text": [
      "[I 2023-12-16 01:35:52,173] Trial 0 finished with value: 79.28 and parameters: {'lambda_l1': 26.02573206502534, 'lambda_l2': 643.329292244007, 'learning_rate': 0.1579374389163217, 'num_leaves': 584, 'feature_fraction': 0.4929729498822778, 'min_data_in_leaf': 5441}. Best is trial 0 with value: 79.28.\n"
     ]
    },
    {
     "name": "stdout",
     "output_type": "stream",
     "text": [
      "**************** regression_l1 ****************\n",
      "Training until validation scores don't improve for 77 rounds\n",
      "[100]\tvalid_0's ER: 77.18\n",
      "[200]\tvalid_0's ER: 76.53\n",
      "[300]\tvalid_0's ER: 76.12\n",
      "[400]\tvalid_0's ER: 75.61\n",
      "[500]\tvalid_0's ER: 75.39\n",
      "[600]\tvalid_0's ER: 75.01\n",
      "[700]\tvalid_0's ER: 74.88\n",
      "[800]\tvalid_0's ER: 74.74\n",
      "[900]\tvalid_0's ER: 74.59\n",
      "[1000]\tvalid_0's ER: 74.45\n",
      "[1100]\tvalid_0's ER: 74.19\n",
      "[1200]\tvalid_0's ER: 73.99\n",
      "[1300]\tvalid_0's ER: 73.78\n",
      "[1400]\tvalid_0's ER: 73.62\n",
      "[1500]\tvalid_0's ER: 73.38\n",
      "[1600]\tvalid_0's ER: 73.32\n",
      "[1700]\tvalid_0's ER: 73.26\n",
      "[1800]\tvalid_0's ER: 73.08\n",
      "[1900]\tvalid_0's ER: 73.01\n",
      "[2000]\tvalid_0's ER: 72.92\n",
      "[2100]\tvalid_0's ER: 72.79\n",
      "[2200]\tvalid_0's ER: 72.67\n",
      "[2300]\tvalid_0's ER: 72.55\n",
      "[2400]\tvalid_0's ER: 72.5\n",
      "[2500]\tvalid_0's ER: 72.42\n",
      "[2600]\tvalid_0's ER: 72.29\n",
      "[2700]\tvalid_0's ER: 72.18\n",
      "[2800]\tvalid_0's ER: 71.99\n",
      "Early stopping, best iteration is:\n",
      "[2815]\tvalid_0's ER: 71.97\n",
      "Evaluated only: ER\n"
     ]
    },
    {
     "name": "stderr",
     "output_type": "stream",
     "text": [
      "[I 2023-12-16 01:37:30,069] Trial 1 finished with value: 71.97 and parameters: {'lambda_l1': 121.47806863344957, 'lambda_l2': 437.92720075128, 'learning_rate': 0.18434868259849216, 'num_leaves': 323, 'feature_fraction': 0.8181399908081688, 'min_data_in_leaf': 2115}. Best is trial 1 with value: 71.97.\n"
     ]
    },
    {
     "name": "stdout",
     "output_type": "stream",
     "text": [
      "**************** regression_l1 ****************\n",
      "Training until validation scores don't improve for 77 rounds\n",
      "[100]\tvalid_0's ER: 86.2\n",
      "[200]\tvalid_0's ER: 84.98\n",
      "[300]\tvalid_0's ER: 83.94\n",
      "[400]\tvalid_0's ER: 83.44\n",
      "[500]\tvalid_0's ER: 82.88\n",
      "[600]\tvalid_0's ER: 82.42\n",
      "[700]\tvalid_0's ER: 82.35\n",
      "[800]\tvalid_0's ER: 82.2\n",
      "[900]\tvalid_0's ER: 82.08\n",
      "[1000]\tvalid_0's ER: 81.84\n",
      "[1100]\tvalid_0's ER: 81.56\n",
      "[1200]\tvalid_0's ER: 81.1\n",
      "[1300]\tvalid_0's ER: 80.83\n",
      "[1400]\tvalid_0's ER: 80.61\n",
      "[1500]\tvalid_0's ER: 80.49\n",
      "[1600]\tvalid_0's ER: 80.37\n",
      "[1700]\tvalid_0's ER: 80.27\n",
      "[1800]\tvalid_0's ER: 80.17\n",
      "[1900]\tvalid_0's ER: 79.98\n",
      "[2000]\tvalid_0's ER: 79.64\n",
      "[2100]\tvalid_0's ER: 79.54\n",
      "[2200]\tvalid_0's ER: 79.42\n",
      "[2300]\tvalid_0's ER: 79.35\n",
      "[2400]\tvalid_0's ER: 79.15\n",
      "[2500]\tvalid_0's ER: 79.04\n",
      "[2600]\tvalid_0's ER: 78.95\n",
      "[2700]\tvalid_0's ER: 78.87\n",
      "[2800]\tvalid_0's ER: 78.79\n",
      "[2900]\tvalid_0's ER: 78.69\n",
      "[3000]\tvalid_0's ER: 78.58\n",
      "[3100]\tvalid_0's ER: 78.53\n",
      "[3200]\tvalid_0's ER: 78.46\n",
      "Early stopping, best iteration is:\n",
      "[3201]\tvalid_0's ER: 78.45\n",
      "Evaluated only: ER\n"
     ]
    },
    {
     "name": "stderr",
     "output_type": "stream",
     "text": [
      "[I 2023-12-16 01:38:51,140] Trial 2 finished with value: 78.45 and parameters: {'lambda_l1': 196.06994933241583, 'lambda_l2': 853.7878246065313, 'learning_rate': 0.18113899945644824, 'num_leaves': 392, 'feature_fraction': 0.6890689820757292, 'min_data_in_leaf': 5356}. Best is trial 1 with value: 71.97.\n"
     ]
    },
    {
     "name": "stdout",
     "output_type": "stream",
     "text": [
      "**************** regression_l1 ****************\n",
      "Training until validation scores don't improve for 104 rounds\n",
      "[100]\tvalid_0's ER: 90.5\n",
      "[200]\tvalid_0's ER: 89.82\n",
      "[300]\tvalid_0's ER: 89.47\n",
      "[400]\tvalid_0's ER: 89.32\n",
      "[500]\tvalid_0's ER: 88.89\n",
      "[600]\tvalid_0's ER: 88.3\n",
      "[700]\tvalid_0's ER: 87.73\n",
      "[800]\tvalid_0's ER: 87.43\n",
      "[900]\tvalid_0's ER: 86.9\n",
      "[1000]\tvalid_0's ER: 86.57\n",
      "[1100]\tvalid_0's ER: 86.32\n",
      "[1200]\tvalid_0's ER: 86.06\n",
      "[1300]\tvalid_0's ER: 85.78\n",
      "[1400]\tvalid_0's ER: 85.66\n",
      "[1500]\tvalid_0's ER: 85.5\n",
      "[1600]\tvalid_0's ER: 85.42\n",
      "[1700]\tvalid_0's ER: 85.27\n",
      "[1800]\tvalid_0's ER: 85.17\n",
      "[1900]\tvalid_0's ER: 85.1\n",
      "[2000]\tvalid_0's ER: 85.06\n",
      "[2100]\tvalid_0's ER: 84.96\n",
      "[2200]\tvalid_0's ER: 84.88\n",
      "[2300]\tvalid_0's ER: 84.8\n",
      "[2400]\tvalid_0's ER: 84.74\n",
      "[2500]\tvalid_0's ER: 84.68\n",
      "[2600]\tvalid_0's ER: 84.63\n",
      "[2700]\tvalid_0's ER: 84.55\n",
      "[2800]\tvalid_0's ER: 84.5\n",
      "[2900]\tvalid_0's ER: 84.48\n",
      "[3000]\tvalid_0's ER: 84.44\n",
      "[3100]\tvalid_0's ER: 84.31\n",
      "[3200]\tvalid_0's ER: 84.26\n",
      "[3300]\tvalid_0's ER: 84.18\n",
      "[3400]\tvalid_0's ER: 84.12\n",
      "[3500]\tvalid_0's ER: 84.11\n",
      "Early stopping, best iteration is:\n",
      "[3405]\tvalid_0's ER: 84.11\n",
      "Evaluated only: ER\n"
     ]
    },
    {
     "name": "stderr",
     "output_type": "stream",
     "text": [
      "[I 2023-12-16 01:40:03,848] Trial 3 finished with value: 84.11 and parameters: {'lambda_l1': 526.3518244741755, 'lambda_l2': 32.47752912784385, 'learning_rate': 0.09182436214875785, 'num_leaves': 391, 'feature_fraction': 0.7971126368328558, 'min_data_in_leaf': 7363}. Best is trial 1 with value: 71.97.\n"
     ]
    },
    {
     "name": "stdout",
     "output_type": "stream",
     "text": [
      "**************** regression_l1 ****************\n",
      "Training until validation scores don't improve for 73 rounds\n",
      "[100]\tvalid_0's ER: 85.53\n",
      "[200]\tvalid_0's ER: 85.33\n",
      "[300]\tvalid_0's ER: 85.28\n"
     ]
    },
    {
     "name": "stderr",
     "output_type": "stream",
     "text": [
      "[I 2023-12-16 01:40:12,832] Trial 4 finished with value: 85.28 and parameters: {'lambda_l1': 542.5823649003838, 'lambda_l2': 426.6442002803331, 'learning_rate': 0.21054394496476284, 'num_leaves': 469, 'feature_fraction': 0.713152010778632, 'min_data_in_leaf': 6004}. Best is trial 1 with value: 71.97.\n"
     ]
    },
    {
     "name": "stdout",
     "output_type": "stream",
     "text": [
      "Early stopping, best iteration is:\n",
      "[277]\tvalid_0's ER: 85.28\n",
      "Evaluated only: ER\n",
      "**************** regression_l1 ****************\n",
      "Training until validation scores don't improve for 73 rounds\n",
      "[100]\tvalid_0's ER: 79.68\n",
      "[200]\tvalid_0's ER: 79.34\n"
     ]
    },
    {
     "name": "stderr",
     "output_type": "stream",
     "text": [
      "[I 2023-12-16 01:40:18,326] Trial 5 finished with value: 79.3 and parameters: {'lambda_l1': 374.05747463640625, 'lambda_l2': 984.367632589436, 'learning_rate': 0.215144645095184, 'num_leaves': 762, 'feature_fraction': 0.316352838111262, 'min_data_in_leaf': 2516}. Best is trial 1 with value: 71.97.\n"
     ]
    },
    {
     "name": "stdout",
     "output_type": "stream",
     "text": [
      "Early stopping, best iteration is:\n",
      "[214]\tvalid_0's ER: 79.3\n",
      "Evaluated only: ER\n",
      "**************** regression_l1 ****************\n",
      "Training until validation scores don't improve for 73 rounds\n"
     ]
    },
    {
     "name": "stderr",
     "output_type": "stream",
     "text": [
      "[I 2023-12-16 01:40:20,878] Trial 6 finished with value: 90.22 and parameters: {'lambda_l1': 619.6956406219944, 'lambda_l2': 597.6471459527537, 'learning_rate': 0.21157444145657908, 'num_leaves': 483, 'feature_fraction': 0.9278464426491535, 'min_data_in_leaf': 897}. Best is trial 1 with value: 71.97.\n"
     ]
    },
    {
     "name": "stdout",
     "output_type": "stream",
     "text": [
      "Early stopping, best iteration is:\n",
      "[7]\tvalid_0's ER: 90.22\n",
      "Evaluated only: ER\n",
      "**************** regression_l1 ****************\n",
      "Training until validation scores don't improve for 68 rounds\n",
      "[100]\tvalid_0's ER: 90.1\n",
      "[200]\tvalid_0's ER: 89.72\n"
     ]
    },
    {
     "name": "stderr",
     "output_type": "stream",
     "text": [
      "[I 2023-12-16 01:40:24,744] Trial 7 finished with value: 89.72 and parameters: {'lambda_l1': 963.8831650473163, 'lambda_l2': 432.8410998762191, 'learning_rate': 0.2637102023742361, 'num_leaves': 298, 'feature_fraction': 0.33895009876452276, 'min_data_in_leaf': 7777}. Best is trial 1 with value: 71.97.\n"
     ]
    },
    {
     "name": "stdout",
     "output_type": "stream",
     "text": [
      "Early stopping, best iteration is:\n",
      "[158]\tvalid_0's ER: 89.72\n",
      "Evaluated only: ER\n",
      "**************** regression_l1 ****************\n",
      "Training until validation scores don't improve for 69 rounds\n",
      "[100]\tvalid_0's ER: 82.6\n",
      "[200]\tvalid_0's ER: 81.88\n",
      "[300]\tvalid_0's ER: 80.32\n",
      "[400]\tvalid_0's ER: 79.54\n",
      "[500]\tvalid_0's ER: 78.96\n",
      "[600]\tvalid_0's ER: 78.47\n",
      "[700]\tvalid_0's ER: 77.93\n",
      "[800]\tvalid_0's ER: 77.65\n"
     ]
    },
    {
     "name": "stderr",
     "output_type": "stream",
     "text": [
      "[I 2023-12-16 01:40:50,213] Trial 8 finished with value: 77.63 and parameters: {'lambda_l1': 224.0265480722512, 'lambda_l2': 805.4011667556317, 'learning_rate': 0.26139048712265034, 'num_leaves': 841, 'feature_fraction': 0.9079655907958057, 'min_data_in_leaf': 3451}. Best is trial 1 with value: 71.97.\n"
     ]
    },
    {
     "name": "stdout",
     "output_type": "stream",
     "text": [
      "Early stopping, best iteration is:\n",
      "[778]\tvalid_0's ER: 77.63\n",
      "Evaluated only: ER\n",
      "**************** regression_l1 ****************\n",
      "Training until validation scores don't improve for 78 rounds\n",
      "[100]\tvalid_0's ER: 75.56\n"
     ]
    },
    {
     "name": "stderr",
     "output_type": "stream",
     "text": [
      "[I 2023-12-16 01:40:54,456] Trial 9 finished with value: 75.51 and parameters: {'lambda_l1': 339.6200847794607, 'lambda_l2': 463.2080440237241, 'learning_rate': 0.17292678734342345, 'num_leaves': 498, 'feature_fraction': 0.901927735804821, 'min_data_in_leaf': 1118}. Best is trial 1 with value: 71.97.\n"
     ]
    },
    {
     "name": "stdout",
     "output_type": "stream",
     "text": [
      "Early stopping, best iteration is:\n",
      "[56]\tvalid_0's ER: 75.51\n",
      "Evaluated only: ER\n",
      "# Experimentos: 10\n",
      "Mejor experimento: {'lambda_l1': 121.47806863344957, 'lambda_l2': 437.92720075128, 'learning_rate': 0.18434868259849216, 'num_leaves': 323, 'feature_fraction': 0.8181399908081688, 'min_data_in_leaf': 2115}\n",
      "=========================================== Cluster 8 ===========================================\n"
     ]
    },
    {
     "name": "stderr",
     "output_type": "stream",
     "text": [
      "[I 2023-12-16 01:40:56,766] A new study created in memory with name: no-name-c8743dbc-4279-4bbf-ab26-2201bbe0b80f\n"
     ]
    },
    {
     "name": "stdout",
     "output_type": "stream",
     "text": [
      "Periodos entrenar: [201701 201702 201703 201704 201705 201706 201707 201708 201709 201710\n",
      " 201711 201712 201801 201802 201803 201804 201805 201806 201807 201808\n",
      " 201809 201810 201811 201812 201901 201902 201903 201904 201905]\n",
      "Periodos validar: [201907]\n",
      "product_id a validar: 2900\n",
      "X_train: (70118, 120)\n",
      "y_train: (70118,)\n",
      "\n",
      "X_validate: (2900, 120)\n",
      "y_validate: (2900,)\n",
      "Optimizacion Bayesiana\n",
      "**************** regression_l1 ****************\n",
      "Training until validation scores don't improve for 88 rounds\n",
      "[100]\tvalid_0's ER: 90.56\n",
      "[200]\tvalid_0's ER: 90.26\n",
      "[300]\tvalid_0's ER: 89.72\n",
      "[400]\tvalid_0's ER: 89.27\n",
      "[500]\tvalid_0's ER: 88.96\n",
      "[600]\tvalid_0's ER: 88.52\n",
      "[700]\tvalid_0's ER: 87.97\n",
      "[800]\tvalid_0's ER: 87.59\n",
      "[900]\tvalid_0's ER: 87.36\n",
      "[1000]\tvalid_0's ER: 87.16\n",
      "[1100]\tvalid_0's ER: 87.11\n",
      "[1200]\tvalid_0's ER: 86.9\n",
      "[1300]\tvalid_0's ER: 86.82\n",
      "[1400]\tvalid_0's ER: 86.69\n",
      "[1500]\tvalid_0's ER: 86.6\n",
      "[1600]\tvalid_0's ER: 86.41\n",
      "[1700]\tvalid_0's ER: 86.34\n",
      "[1800]\tvalid_0's ER: 86.23\n"
     ]
    },
    {
     "name": "stderr",
     "output_type": "stream",
     "text": [
      "[I 2023-12-16 01:41:18,025] Trial 0 finished with value: 86.22 and parameters: {'lambda_l1': 461.69581043193887, 'lambda_l2': 144.65998686938764, 'learning_rate': 0.13095817754671862, 'num_leaves': 1010, 'feature_fraction': 0.7109173114156344, 'min_data_in_leaf': 4396}. Best is trial 0 with value: 86.22.\n"
     ]
    },
    {
     "name": "stdout",
     "output_type": "stream",
     "text": [
      "Early stopping, best iteration is:\n",
      "[1742]\tvalid_0's ER: 86.22\n",
      "Evaluated only: ER\n",
      "**************** regression_l1 ****************\n",
      "Training until validation scores don't improve for 91 rounds\n",
      "[100]\tvalid_0's ER: 79.36\n",
      "[200]\tvalid_0's ER: 77.79\n",
      "[300]\tvalid_0's ER: 76.65\n",
      "[400]\tvalid_0's ER: 76.5\n",
      "[500]\tvalid_0's ER: 76.04\n",
      "[600]\tvalid_0's ER: 75.9\n",
      "[700]\tvalid_0's ER: 75.88\n",
      "Early stopping, best iteration is:\n",
      "[621]\tvalid_0's ER: 75.86\n",
      "Evaluated only: ER\n"
     ]
    },
    {
     "name": "stderr",
     "output_type": "stream",
     "text": [
      "[I 2023-12-16 01:41:28,877] Trial 1 finished with value: 75.86 and parameters: {'lambda_l1': 271.49593077687183, 'lambda_l2': 358.86839082915236, 'learning_rate': 0.12003969040400765, 'num_leaves': 571, 'feature_fraction': 0.6163808424052162, 'min_data_in_leaf': 1117}. Best is trial 1 with value: 75.86.\n"
     ]
    },
    {
     "name": "stdout",
     "output_type": "stream",
     "text": [
      "**************** regression_l1 ****************\n",
      "Training until validation scores don't improve for 113 rounds\n",
      "[100]\tvalid_0's ER: 86.99\n",
      "[200]\tvalid_0's ER: 86.4\n",
      "[300]\tvalid_0's ER: 86.18\n",
      "[400]\tvalid_0's ER: 85.76\n",
      "[500]\tvalid_0's ER: 85.44\n",
      "[600]\tvalid_0's ER: 85.21\n",
      "[700]\tvalid_0's ER: 84.85\n",
      "[800]\tvalid_0's ER: 84.41\n",
      "[900]\tvalid_0's ER: 84.18\n",
      "[1000]\tvalid_0's ER: 83.95\n",
      "[1100]\tvalid_0's ER: 83.79\n",
      "[1200]\tvalid_0's ER: 83.68\n",
      "[1300]\tvalid_0's ER: 83.37\n",
      "[1400]\tvalid_0's ER: 83.19\n",
      "[1500]\tvalid_0's ER: 82.92\n",
      "[1600]\tvalid_0's ER: 82.79\n",
      "[1700]\tvalid_0's ER: 82.66\n",
      "[1800]\tvalid_0's ER: 82.55\n",
      "[1900]\tvalid_0's ER: 82.45\n",
      "[2000]\tvalid_0's ER: 82.36\n",
      "[2100]\tvalid_0's ER: 82.28\n",
      "[2200]\tvalid_0's ER: 82.1\n",
      "[2300]\tvalid_0's ER: 81.98\n",
      "[2400]\tvalid_0's ER: 81.86\n",
      "[2500]\tvalid_0's ER: 81.78\n",
      "[2600]\tvalid_0's ER: 81.72\n",
      "[2700]\tvalid_0's ER: 81.66\n",
      "[2800]\tvalid_0's ER: 81.6\n",
      "[2900]\tvalid_0's ER: 81.51\n",
      "[3000]\tvalid_0's ER: 81.44\n",
      "[3100]\tvalid_0's ER: 81.37\n",
      "[3200]\tvalid_0's ER: 81.3\n",
      "[3300]\tvalid_0's ER: 81.24\n",
      "[3400]\tvalid_0's ER: 81.2\n",
      "[3500]\tvalid_0's ER: 81.15\n",
      "[3600]\tvalid_0's ER: 81.1\n",
      "[3700]\tvalid_0's ER: 81.03\n",
      "[3800]\tvalid_0's ER: 80.98\n",
      "[3900]\tvalid_0's ER: 80.95\n",
      "[4000]\tvalid_0's ER: 80.9\n",
      "[4100]\tvalid_0's ER: 80.86\n",
      "[4200]\tvalid_0's ER: 80.84\n",
      "[4300]\tvalid_0's ER: 80.81\n",
      "[4400]\tvalid_0's ER: 80.8\n",
      "Early stopping, best iteration is:\n",
      "[4309]\tvalid_0's ER: 80.8\n",
      "Evaluated only: ER\n"
     ]
    },
    {
     "name": "stderr",
     "output_type": "stream",
     "text": [
      "[I 2023-12-16 01:42:09,667] Trial 2 finished with value: 80.8 and parameters: {'lambda_l1': 258.8760338750541, 'lambda_l2': 762.4558128075496, 'learning_rate': 0.07904443764749997, 'num_leaves': 891, 'feature_fraction': 0.5490892952436954, 'min_data_in_leaf': 3308}. Best is trial 1 with value: 75.86.\n"
     ]
    },
    {
     "name": "stdout",
     "output_type": "stream",
     "text": [
      "**************** regression_l1 ****************\n",
      "Training until validation scores don't improve for 79 rounds\n",
      "[100]\tvalid_0's ER: 72.27\n",
      "[200]\tvalid_0's ER: 72.09\n"
     ]
    },
    {
     "name": "stderr",
     "output_type": "stream",
     "text": [
      "[I 2023-12-16 01:42:13,779] Trial 3 finished with value: 72.06 and parameters: {'lambda_l1': 227.75741823079775, 'lambda_l2': 753.3975404192755, 'learning_rate': 0.16761522662250014, 'num_leaves': 205, 'feature_fraction': 0.5531648829140636, 'min_data_in_leaf': 571}. Best is trial 3 with value: 72.06.\n"
     ]
    },
    {
     "name": "stdout",
     "output_type": "stream",
     "text": [
      "Early stopping, best iteration is:\n",
      "[182]\tvalid_0's ER: 72.06\n",
      "Evaluated only: ER\n",
      "**************** regression_l1 ****************\n",
      "Training until validation scores don't improve for 84 rounds\n",
      "[100]\tvalid_0's ER: 93.94\n",
      "[200]\tvalid_0's ER: 93.48\n",
      "[300]\tvalid_0's ER: 93.3\n",
      "[400]\tvalid_0's ER: 93.29\n",
      "[500]\tvalid_0's ER: 93.1\n",
      "[600]\tvalid_0's ER: 92.71\n",
      "[700]\tvalid_0's ER: 92.31\n",
      "[800]\tvalid_0's ER: 91.82\n",
      "[900]\tvalid_0's ER: 91.41\n",
      "[1000]\tvalid_0's ER: 91.13\n",
      "[1100]\tvalid_0's ER: 90.9\n",
      "[1200]\tvalid_0's ER: 90.72\n",
      "[1300]\tvalid_0's ER: 90.58\n",
      "[1400]\tvalid_0's ER: 90.41\n",
      "[1500]\tvalid_0's ER: 90.3\n",
      "[1600]\tvalid_0's ER: 90.01\n",
      "[1700]\tvalid_0's ER: 89.82\n",
      "[1800]\tvalid_0's ER: 89.65\n",
      "[1900]\tvalid_0's ER: 89.56\n",
      "[2000]\tvalid_0's ER: 89.53\n"
     ]
    },
    {
     "name": "stderr",
     "output_type": "stream",
     "text": [
      "[I 2023-12-16 01:42:34,459] Trial 4 finished with value: 89.52 and parameters: {'lambda_l1': 636.2206515564626, 'lambda_l2': 120.73851907106791, 'learning_rate': 0.14315827244478466, 'num_leaves': 103, 'feature_fraction': 0.863854662183422, 'min_data_in_leaf': 6883}. Best is trial 3 with value: 72.06.\n"
     ]
    },
    {
     "name": "stdout",
     "output_type": "stream",
     "text": [
      "Early stopping, best iteration is:\n",
      "[1961]\tvalid_0's ER: 89.52\n",
      "Evaluated only: ER\n",
      "**************** regression_l1 ****************\n",
      "Training until validation scores don't improve for 169 rounds\n",
      "[100]\tvalid_0's ER: 91.47\n",
      "[200]\tvalid_0's ER: 90.12\n",
      "[300]\tvalid_0's ER: 89.84\n",
      "[400]\tvalid_0's ER: 89.39\n",
      "[500]\tvalid_0's ER: 89.16\n",
      "[600]\tvalid_0's ER: 89.14\n",
      "[700]\tvalid_0's ER: 88.74\n",
      "[800]\tvalid_0's ER: 88.29\n",
      "[900]\tvalid_0's ER: 88.02\n",
      "[1000]\tvalid_0's ER: 87.71\n",
      "[1100]\tvalid_0's ER: 87.43\n",
      "[1200]\tvalid_0's ER: 87.18\n",
      "[1300]\tvalid_0's ER: 86.95\n",
      "[1400]\tvalid_0's ER: 86.82\n",
      "[1500]\tvalid_0's ER: 86.72\n",
      "[1600]\tvalid_0's ER: 86.57\n",
      "[1700]\tvalid_0's ER: 86.37\n",
      "[1800]\tvalid_0's ER: 86.21\n",
      "[1900]\tvalid_0's ER: 86.13\n",
      "[2000]\tvalid_0's ER: 86.05\n",
      "[2100]\tvalid_0's ER: 86\n",
      "[2200]\tvalid_0's ER: 85.93\n",
      "[2300]\tvalid_0's ER: 85.85\n",
      "[2400]\tvalid_0's ER: 85.79\n",
      "[2500]\tvalid_0's ER: 85.79\n",
      "Early stopping, best iteration is:\n",
      "[2420]\tvalid_0's ER: 85.77\n",
      "Evaluated only: ER\n"
     ]
    },
    {
     "name": "stderr",
     "output_type": "stream",
     "text": [
      "[I 2023-12-16 01:43:05,920] Trial 5 finished with value: 85.77 and parameters: {'lambda_l1': 203.24563692313714, 'lambda_l2': 131.12885609479386, 'learning_rate': 0.0418726141854184, 'num_leaves': 855, 'feature_fraction': 0.9980270138882954, 'min_data_in_leaf': 4140}. Best is trial 3 with value: 72.06.\n"
     ]
    },
    {
     "name": "stdout",
     "output_type": "stream",
     "text": [
      "**************** regression_l1 ****************\n",
      "Training until validation scores don't improve for 70 rounds\n",
      "[100]\tvalid_0's ER: 94.22\n",
      "[200]\tvalid_0's ER: 94\n"
     ]
    },
    {
     "name": "stderr",
     "output_type": "stream",
     "text": [
      "[I 2023-12-16 01:43:08,068] Trial 6 finished with value: 93.83 and parameters: {'lambda_l1': 779.6146029910826, 'lambda_l2': 344.21005530126405, 'learning_rate': 0.24933088025233344, 'num_leaves': 908, 'feature_fraction': 0.32794901370212304, 'min_data_in_leaf': 7664}. Best is trial 3 with value: 72.06.\n"
     ]
    },
    {
     "name": "stdout",
     "output_type": "stream",
     "text": [
      "[300]\tvalid_0's ER: 93.83\n",
      "Early stopping, best iteration is:\n",
      "[235]\tvalid_0's ER: 93.83\n",
      "Evaluated only: ER\n",
      "**************** regression_l1 ****************\n",
      "Training until validation scores don't improve for 80 rounds\n",
      "[100]\tvalid_0's ER: 88.44\n",
      "[200]\tvalid_0's ER: 88.16\n",
      "[300]\tvalid_0's ER: 87.96\n",
      "[400]\tvalid_0's ER: 87.84\n",
      "[500]\tvalid_0's ER: 87.81\n"
     ]
    },
    {
     "name": "stderr",
     "output_type": "stream",
     "text": [
      "[I 2023-12-16 01:43:15,447] Trial 7 finished with value: 87.81 and parameters: {'lambda_l1': 843.142345114837, 'lambda_l2': 337.87991301086726, 'learning_rate': 0.16335394090364758, 'num_leaves': 849, 'feature_fraction': 0.6171108135191619, 'min_data_in_leaf': 3649}. Best is trial 3 with value: 72.06.\n"
     ]
    },
    {
     "name": "stdout",
     "output_type": "stream",
     "text": [
      "Early stopping, best iteration is:\n",
      "[493]\tvalid_0's ER: 87.81\n",
      "Evaluated only: ER\n",
      "**************** regression_l1 ****************\n",
      "Training until validation scores don't improve for 81 rounds\n",
      "[100]\tvalid_0's ER: 81.31\n",
      "[200]\tvalid_0's ER: 81.17\n",
      "[300]\tvalid_0's ER: 80.73\n",
      "[400]\tvalid_0's ER: 80.33\n",
      "[500]\tvalid_0's ER: 79.95\n",
      "[600]\tvalid_0's ER: 79.67\n",
      "[700]\tvalid_0's ER: 79.37\n",
      "[800]\tvalid_0's ER: 79.17\n"
     ]
    },
    {
     "name": "stderr",
     "output_type": "stream",
     "text": [
      "[I 2023-12-16 01:43:27,632] Trial 8 finished with value: 79.12 and parameters: {'lambda_l1': 212.36378663175682, 'lambda_l2': 442.41796165342583, 'learning_rate': 0.15773165421456298, 'num_leaves': 597, 'feature_fraction': 0.6573179456062547, 'min_data_in_leaf': 2021}. Best is trial 3 with value: 72.06.\n"
     ]
    },
    {
     "name": "stdout",
     "output_type": "stream",
     "text": [
      "Early stopping, best iteration is:\n",
      "[776]\tvalid_0's ER: 79.12\n",
      "Evaluated only: ER\n",
      "**************** regression_l1 ****************\n",
      "Training until validation scores don't improve for 106 rounds\n",
      "[100]\tvalid_0's ER: 93.48\n",
      "[200]\tvalid_0's ER: 93.21\n",
      "[300]\tvalid_0's ER: 93.04\n",
      "[400]\tvalid_0's ER: 92.85\n",
      "[500]\tvalid_0's ER: 92.46\n",
      "[600]\tvalid_0's ER: 91.9\n",
      "[700]\tvalid_0's ER: 91.37\n",
      "[800]\tvalid_0's ER: 90.96\n",
      "[900]\tvalid_0's ER: 90.7\n",
      "[1000]\tvalid_0's ER: 90.34\n",
      "[1100]\tvalid_0's ER: 90.05\n",
      "[1200]\tvalid_0's ER: 89.82\n",
      "[1300]\tvalid_0's ER: 89.61\n",
      "[1400]\tvalid_0's ER: 89.45\n",
      "[1500]\tvalid_0's ER: 89.27\n",
      "[1600]\tvalid_0's ER: 89.06\n",
      "[1700]\tvalid_0's ER: 88.9\n",
      "[1800]\tvalid_0's ER: 88.74\n",
      "[1900]\tvalid_0's ER: 88.56\n",
      "[2000]\tvalid_0's ER: 88.39\n",
      "[2100]\tvalid_0's ER: 88.31\n",
      "[2200]\tvalid_0's ER: 88.2\n",
      "[2300]\tvalid_0's ER: 88.07\n",
      "[2400]\tvalid_0's ER: 87.99\n",
      "[2500]\tvalid_0's ER: 87.86\n",
      "[2600]\tvalid_0's ER: 87.79\n",
      "[2700]\tvalid_0's ER: 87.7\n",
      "[2800]\tvalid_0's ER: 87.64\n",
      "[2900]\tvalid_0's ER: 87.52\n",
      "[3000]\tvalid_0's ER: 87.44\n",
      "[3100]\tvalid_0's ER: 87.36\n",
      "[3200]\tvalid_0's ER: 87.26\n",
      "[3300]\tvalid_0's ER: 87.17\n",
      "[3400]\tvalid_0's ER: 87.14\n",
      "[3500]\tvalid_0's ER: 87.11\n",
      "[3600]\tvalid_0's ER: 87.07\n",
      "[3700]\tvalid_0's ER: 87.02\n",
      "[3800]\tvalid_0's ER: 86.97\n",
      "[3900]\tvalid_0's ER: 86.91\n",
      "[4000]\tvalid_0's ER: 86.84\n",
      "[4100]\tvalid_0's ER: 86.82\n",
      "[4200]\tvalid_0's ER: 86.79\n",
      "[4300]\tvalid_0's ER: 86.76\n",
      "[4400]\tvalid_0's ER: 86.71\n",
      "[4500]\tvalid_0's ER: 86.69\n",
      "[4600]\tvalid_0's ER: 86.63\n",
      "[4700]\tvalid_0's ER: 86.59\n",
      "[4800]\tvalid_0's ER: 86.55\n",
      "[4900]\tvalid_0's ER: 86.51\n",
      "[5000]\tvalid_0's ER: 86.48\n",
      "[5100]\tvalid_0's ER: 86.41\n",
      "[5200]\tvalid_0's ER: 86.37\n",
      "[5300]\tvalid_0's ER: 86.32\n",
      "[5400]\tvalid_0's ER: 86.24\n",
      "[5500]\tvalid_0's ER: 86.19\n",
      "[5600]\tvalid_0's ER: 86.11\n",
      "[5700]\tvalid_0's ER: 86.06\n",
      "[5800]\tvalid_0's ER: 86.01\n",
      "[5900]\tvalid_0's ER: 85.98\n",
      "[6000]\tvalid_0's ER: 85.94\n",
      "Early stopping, best iteration is:\n",
      "[5993]\tvalid_0's ER: 85.94\n",
      "Evaluated only: ER\n"
     ]
    },
    {
     "name": "stderr",
     "output_type": "stream",
     "text": [
      "[I 2023-12-16 01:43:58,559] Trial 9 finished with value: 85.94 and parameters: {'lambda_l1': 231.89056546939057, 'lambda_l2': 713.9509480728518, 'learning_rate': 0.088953063655439, 'num_leaves': 727, 'feature_fraction': 0.23509083322305663, 'min_data_in_leaf': 6321}. Best is trial 3 with value: 72.06.\n"
     ]
    },
    {
     "name": "stdout",
     "output_type": "stream",
     "text": [
      "# Experimentos: 10\n",
      "Mejor experimento: {'lambda_l1': 227.75741823079775, 'lambda_l2': 753.3975404192755, 'learning_rate': 0.16761522662250014, 'num_leaves': 205, 'feature_fraction': 0.5531648829140636, 'min_data_in_leaf': 571}\n",
      "=========================================== Cluster 9 ===========================================\n"
     ]
    },
    {
     "name": "stderr",
     "output_type": "stream",
     "text": [
      "[I 2023-12-16 01:44:02,284] A new study created in memory with name: no-name-70979d4f-707b-48b5-b17a-572acc19e628\n"
     ]
    },
    {
     "name": "stdout",
     "output_type": "stream",
     "text": [
      "Periodos entrenar: [201701 201702 201703 201704 201705 201706 201707 201708 201709 201710\n",
      " 201711 201712 201801 201802 201803 201804 201805 201806 201807 201808\n",
      " 201809 201810 201811 201812 201901 201902 201903 201904 201905]\n",
      "Periodos validar: [201907]\n",
      "product_id a validar: 4640\n",
      "X_train: (113248, 120)\n",
      "y_train: (113248,)\n",
      "\n",
      "X_validate: (4640, 120)\n",
      "y_validate: (4640,)\n",
      "Optimizacion Bayesiana\n",
      "**************** regression_l1 ****************\n",
      "Training until validation scores don't improve for 67 rounds\n",
      "[100]\tvalid_0's ER: 88\n"
     ]
    },
    {
     "name": "stderr",
     "output_type": "stream",
     "text": [
      "[I 2023-12-16 01:44:06,049] Trial 0 finished with value: 88.0 and parameters: {'lambda_l1': 56.85777581098306, 'lambda_l2': 358.39629727932834, 'learning_rate': 0.2901101446773405, 'num_leaves': 276, 'feature_fraction': 0.9570646978006017, 'min_data_in_leaf': 3798}. Best is trial 0 with value: 88.0.\n"
     ]
    },
    {
     "name": "stdout",
     "output_type": "stream",
     "text": [
      "Early stopping, best iteration is:\n",
      "[80]\tvalid_0's ER: 88\n",
      "Evaluated only: ER\n",
      "**************** regression_l1 ****************\n",
      "Training until validation scores don't improve for 101 rounds\n",
      "[100]\tvalid_0's ER: 92.84\n",
      "[200]\tvalid_0's ER: 92.57\n",
      "[300]\tvalid_0's ER: 92.15\n",
      "[400]\tvalid_0's ER: 91.91\n",
      "[500]\tvalid_0's ER: 91.72\n",
      "[600]\tvalid_0's ER: 91.31\n",
      "[700]\tvalid_0's ER: 91.27\n"
     ]
    },
    {
     "name": "stderr",
     "output_type": "stream",
     "text": [
      "[I 2023-12-16 01:44:20,931] Trial 1 finished with value: 91.26 and parameters: {'lambda_l1': 327.6004325537033, 'lambda_l2': 921.848871442646, 'learning_rate': 0.09633553378279743, 'num_leaves': 406, 'feature_fraction': 0.6566103801425298, 'min_data_in_leaf': 7260}. Best is trial 0 with value: 88.0.\n"
     ]
    },
    {
     "name": "stdout",
     "output_type": "stream",
     "text": [
      "Early stopping, best iteration is:\n",
      "[644]\tvalid_0's ER: 91.26\n",
      "Evaluated only: ER\n",
      "**************** regression_l1 ****************\n",
      "Training until validation scores don't improve for 67 rounds\n",
      "[100]\tvalid_0's ER: 91.52\n"
     ]
    },
    {
     "name": "stderr",
     "output_type": "stream",
     "text": [
      "[I 2023-12-16 01:44:23,388] Trial 2 finished with value: 91.52 and parameters: {'lambda_l1': 792.9180752500391, 'lambda_l2': 918.9631191232043, 'learning_rate': 0.2905006172461688, 'num_leaves': 47, 'feature_fraction': 0.9939192169696736, 'min_data_in_leaf': 7362}. Best is trial 0 with value: 88.0.\n"
     ]
    },
    {
     "name": "stdout",
     "output_type": "stream",
     "text": [
      "Early stopping, best iteration is:\n",
      "[52]\tvalid_0's ER: 91.52\n",
      "Evaluated only: ER\n",
      "**************** regression_l1 ****************\n",
      "Training until validation scores don't improve for 91 rounds\n",
      "[100]\tvalid_0's ER: 88.21\n"
     ]
    },
    {
     "name": "stderr",
     "output_type": "stream",
     "text": [
      "[I 2023-12-16 01:44:27,138] Trial 3 finished with value: 88.09 and parameters: {'lambda_l1': 730.8708658254551, 'lambda_l2': 959.6415578985728, 'learning_rate': 0.12030205458095634, 'num_leaves': 928, 'feature_fraction': 0.8838305877820296, 'min_data_in_leaf': 5242}. Best is trial 0 with value: 88.0.\n"
     ]
    },
    {
     "name": "stdout",
     "output_type": "stream",
     "text": [
      "Early stopping, best iteration is:\n",
      "[101]\tvalid_0's ER: 88.09\n",
      "Evaluated only: ER\n",
      "**************** regression_l1 ****************\n",
      "Training until validation scores don't improve for 90 rounds\n",
      "[100]\tvalid_0's ER: 73.94\n",
      "[200]\tvalid_0's ER: 73.81\n",
      "[300]\tvalid_0's ER: 73.48\n",
      "[400]\tvalid_0's ER: 73.02\n",
      "[500]\tvalid_0's ER: 73.01\n"
     ]
    },
    {
     "name": "stderr",
     "output_type": "stream",
     "text": [
      "[I 2023-12-16 01:44:40,421] Trial 4 finished with value: 73.01 and parameters: {'lambda_l1': 495.8253317710969, 'lambda_l2': 944.7880337765143, 'learning_rate': 0.1246102140501229, 'num_leaves': 640, 'feature_fraction': 0.6919128238206392, 'min_data_in_leaf': 1092}. Best is trial 4 with value: 73.01.\n"
     ]
    },
    {
     "name": "stdout",
     "output_type": "stream",
     "text": [
      "Early stopping, best iteration is:\n",
      "[423]\tvalid_0's ER: 73.01\n",
      "Evaluated only: ER\n",
      "**************** regression_l1 ****************\n",
      "Training until validation scores don't improve for 72 rounds\n",
      "[100]\tvalid_0's ER: 89.12\n"
     ]
    },
    {
     "name": "stderr",
     "output_type": "stream",
     "text": [
      "[I 2023-12-16 01:44:42,752] Trial 5 finished with value: 89.12 and parameters: {'lambda_l1': 791.1309351659457, 'lambda_l2': 636.1949959183407, 'learning_rate': 0.22409104783676637, 'num_leaves': 418, 'feature_fraction': 0.5231294986574975, 'min_data_in_leaf': 5061}. Best is trial 4 with value: 73.01.\n"
     ]
    },
    {
     "name": "stdout",
     "output_type": "stream",
     "text": [
      "Early stopping, best iteration is:\n",
      "[46]\tvalid_0's ER: 89.12\n",
      "Evaluated only: ER\n",
      "**************** regression_l1 ****************\n",
      "Training until validation scores don't improve for 68 rounds\n"
     ]
    },
    {
     "name": "stderr",
     "output_type": "stream",
     "text": [
      "[I 2023-12-16 01:44:44,918] Trial 6 finished with value: 80.33 and parameters: {'lambda_l1': 474.10497111813964, 'lambda_l2': 847.6389483063475, 'learning_rate': 0.26324628989563487, 'num_leaves': 538, 'feature_fraction': 0.3979617656805178, 'min_data_in_leaf': 2787}. Best is trial 4 with value: 73.01.\n"
     ]
    },
    {
     "name": "stdout",
     "output_type": "stream",
     "text": [
      "[100]\tvalid_0's ER: 80.45\n",
      "Early stopping, best iteration is:\n",
      "[44]\tvalid_0's ER: 80.33\n",
      "Evaluated only: ER\n",
      "**************** regression_l1 ****************\n",
      "Training until validation scores don't improve for 69 rounds\n"
     ]
    },
    {
     "name": "stderr",
     "output_type": "stream",
     "text": [
      "[I 2023-12-16 01:44:47,102] Trial 7 finished with value: 86.16 and parameters: {'lambda_l1': 647.294170135199, 'lambda_l2': 737.9611265044334, 'learning_rate': 0.2522100335158933, 'num_leaves': 558, 'feature_fraction': 0.47806028584814975, 'min_data_in_leaf': 4207}. Best is trial 4 with value: 73.01.\n"
     ]
    },
    {
     "name": "stdout",
     "output_type": "stream",
     "text": [
      "[100]\tvalid_0's ER: 86.22\n",
      "Early stopping, best iteration is:\n",
      "[37]\tvalid_0's ER: 86.16\n",
      "Evaluated only: ER\n",
      "**************** regression_l1 ****************\n",
      "Training until validation scores don't improve for 185 rounds\n",
      "[100]\tvalid_0's ER: 90.32\n",
      "[200]\tvalid_0's ER: 88.03\n",
      "[300]\tvalid_0's ER: 87.59\n",
      "[400]\tvalid_0's ER: 87.27\n",
      "[500]\tvalid_0's ER: 87.32\n"
     ]
    },
    {
     "name": "stderr",
     "output_type": "stream",
     "text": [
      "[I 2023-12-16 01:44:53,004] Trial 8 finished with value: 87.27 and parameters: {'lambda_l1': 885.8393019339856, 'lambda_l2': 75.3779834646795, 'learning_rate': 0.0369157855219726, 'num_leaves': 290, 'feature_fraction': 0.23915505081485888, 'min_data_in_leaf': 4371}. Best is trial 4 with value: 73.01.\n"
     ]
    },
    {
     "name": "stdout",
     "output_type": "stream",
     "text": [
      "Early stopping, best iteration is:\n",
      "[383]\tvalid_0's ER: 87.27\n",
      "Evaluated only: ER\n",
      "**************** regression_l1 ****************\n",
      "Training until validation scores don't improve for 72 rounds\n",
      "[100]\tvalid_0's ER: 81.62\n",
      "[200]\tvalid_0's ER: 81.24\n",
      "[300]\tvalid_0's ER: 80.66\n"
     ]
    },
    {
     "name": "stderr",
     "output_type": "stream",
     "text": [
      "[I 2023-12-16 01:44:59,789] Trial 9 finished with value: 80.65 and parameters: {'lambda_l1': 383.211596196914, 'lambda_l2': 402.348593013352, 'learning_rate': 0.22636882688853105, 'num_leaves': 548, 'feature_fraction': 0.42948936960413325, 'min_data_in_leaf': 2295}. Best is trial 4 with value: 73.01.\n"
     ]
    },
    {
     "name": "stdout",
     "output_type": "stream",
     "text": [
      "Early stopping, best iteration is:\n",
      "[323]\tvalid_0's ER: 80.65\n",
      "Evaluated only: ER\n",
      "# Experimentos: 10\n",
      "Mejor experimento: {'lambda_l1': 495.8253317710969, 'lambda_l2': 944.7880337765143, 'learning_rate': 0.1246102140501229, 'num_leaves': 640, 'feature_fraction': 0.6919128238206392, 'min_data_in_leaf': 1092}\n",
      "=========================================== Cluster 10 ===========================================\n"
     ]
    },
    {
     "name": "stderr",
     "output_type": "stream",
     "text": [
      "[I 2023-12-16 01:45:08,376] A new study created in memory with name: no-name-60a77f21-d01a-4cad-85f8-dbd21a9bc355\n"
     ]
    },
    {
     "name": "stdout",
     "output_type": "stream",
     "text": [
      "Periodos entrenar: [201701 201702 201703 201704 201705 201706 201707 201708 201709 201710\n",
      " 201711 201712 201801 201802 201803 201804 201805 201806 201807 201808\n",
      " 201809 201810 201811 201812 201901 201902 201903 201904 201905]\n",
      "Periodos validar: [201907]\n",
      "product_id a validar: 10440\n",
      "X_train: (268124, 120)\n",
      "y_train: (268124,)\n",
      "\n",
      "X_validate: (10440, 120)\n",
      "y_validate: (10440,)\n",
      "Optimizacion Bayesiana\n",
      "**************** regression_l1 ****************\n",
      "Training until validation scores don't improve for 69 rounds\n"
     ]
    },
    {
     "name": "stderr",
     "output_type": "stream",
     "text": [
      "[I 2023-12-16 01:45:14,761] Trial 0 finished with value: 87.42 and parameters: {'lambda_l1': 758.7111584034249, 'lambda_l2': 523.4457255243007, 'learning_rate': 0.25486458501842985, 'num_leaves': 549, 'feature_fraction': 0.8959747031021077, 'min_data_in_leaf': 653}. Best is trial 0 with value: 87.42.\n"
     ]
    },
    {
     "name": "stdout",
     "output_type": "stream",
     "text": [
      "Early stopping, best iteration is:\n",
      "[17]\tvalid_0's ER: 87.42\n",
      "Evaluated only: ER\n",
      "**************** regression_l1 ****************\n",
      "Training until validation scores don't improve for 69 rounds\n",
      "[100]\tvalid_0's ER: 87.8\n"
     ]
    },
    {
     "name": "stderr",
     "output_type": "stream",
     "text": [
      "[I 2023-12-16 01:45:21,626] Trial 1 finished with value: 87.14 and parameters: {'lambda_l1': 563.5718982647784, 'lambda_l2': 425.6792093661552, 'learning_rate': 0.25896657205990414, 'num_leaves': 184, 'feature_fraction': 0.831951628235186, 'min_data_in_leaf': 2582}. Best is trial 1 with value: 87.14.\n"
     ]
    },
    {
     "name": "stdout",
     "output_type": "stream",
     "text": [
      "Early stopping, best iteration is:\n",
      "[58]\tvalid_0's ER: 87.14\n",
      "Evaluated only: ER\n",
      "**************** regression_l1 ****************\n",
      "Training until validation scores don't improve for 85 rounds\n",
      "[100]\tvalid_0's ER: 93.21\n",
      "Early stopping, best iteration is:\n",
      "[21]\tvalid_0's ER: 93.2\n",
      "Evaluated only: ER\n"
     ]
    },
    {
     "name": "stderr",
     "output_type": "stream",
     "text": [
      "[I 2023-12-16 01:45:26,617] Trial 2 finished with value: 93.2 and parameters: {'lambda_l1': 683.6135451657003, 'lambda_l2': 266.45884738754233, 'learning_rate': 0.13900741800426278, 'num_leaves': 21, 'feature_fraction': 0.4718631407037349, 'min_data_in_leaf': 5454}. Best is trial 1 with value: 87.14.\n"
     ]
    },
    {
     "name": "stdout",
     "output_type": "stream",
     "text": [
      "**************** regression_l1 ****************\n",
      "Training until validation scores don't improve for 71 rounds\n"
     ]
    },
    {
     "name": "stderr",
     "output_type": "stream",
     "text": [
      "[I 2023-12-16 01:45:31,241] Trial 3 finished with value: 92.12 and parameters: {'lambda_l1': 987.3397942505645, 'lambda_l2': 346.7523318482567, 'learning_rate': 0.22733627028486608, 'num_leaves': 137, 'feature_fraction': 0.7458312523393673, 'min_data_in_leaf': 4558}. Best is trial 1 with value: 87.14.\n"
     ]
    },
    {
     "name": "stdout",
     "output_type": "stream",
     "text": [
      "Early stopping, best iteration is:\n",
      "[15]\tvalid_0's ER: 92.12\n",
      "Evaluated only: ER\n",
      "**************** regression_l1 ****************\n",
      "Training until validation scores don't improve for 86 rounds\n",
      "[100]\tvalid_0's ER: 94.06\n"
     ]
    },
    {
     "name": "stderr",
     "output_type": "stream",
     "text": [
      "[I 2023-12-16 01:45:37,914] Trial 4 finished with value: 93.68 and parameters: {'lambda_l1': 869.8402037225158, 'lambda_l2': 423.2396615794135, 'learning_rate': 0.13668721139991055, 'num_leaves': 518, 'feature_fraction': 0.6304032669372199, 'min_data_in_leaf': 6954}. Best is trial 1 with value: 87.14.\n"
     ]
    },
    {
     "name": "stdout",
     "output_type": "stream",
     "text": [
      "Early stopping, best iteration is:\n",
      "[29]\tvalid_0's ER: 93.68\n",
      "Evaluated only: ER\n",
      "**************** regression_l1 ****************\n",
      "Training until validation scores don't improve for 79 rounds\n",
      "[100]\tvalid_0's ER: 86.99\n",
      "[200]\tvalid_0's ER: 85.95\n",
      "[300]\tvalid_0's ER: 85.6\n"
     ]
    },
    {
     "name": "stderr",
     "output_type": "stream",
     "text": [
      "[I 2023-12-16 01:45:57,349] Trial 5 finished with value: 85.37 and parameters: {'lambda_l1': 143.389093456758, 'lambda_l2': 343.6031416147185, 'learning_rate': 0.17064693332396666, 'num_leaves': 74, 'feature_fraction': 0.8192616350196678, 'min_data_in_leaf': 3445}. Best is trial 5 with value: 85.37.\n"
     ]
    },
    {
     "name": "stdout",
     "output_type": "stream",
     "text": [
      "Early stopping, best iteration is:\n",
      "[314]\tvalid_0's ER: 85.37\n",
      "Evaluated only: ER\n",
      "**************** regression_l1 ****************\n",
      "Training until validation scores don't improve for 71 rounds\n",
      "[100]\tvalid_0's ER: 93.48\n"
     ]
    },
    {
     "name": "stderr",
     "output_type": "stream",
     "text": [
      "[I 2023-12-16 01:46:05,676] Trial 6 finished with value: 93.4 and parameters: {'lambda_l1': 48.73292717629363, 'lambda_l2': 857.8412011189845, 'learning_rate': 0.2353689146012927, 'num_leaves': 928, 'feature_fraction': 0.6731984465510417, 'min_data_in_leaf': 6928}. Best is trial 5 with value: 85.37.\n"
     ]
    },
    {
     "name": "stdout",
     "output_type": "stream",
     "text": [
      "Early stopping, best iteration is:\n",
      "[68]\tvalid_0's ER: 93.4\n",
      "Evaluated only: ER\n",
      "**************** regression_l1 ****************\n",
      "Training until validation scores don't improve for 69 rounds\n",
      "[100]\tvalid_0's ER: 92.55\n"
     ]
    },
    {
     "name": "stderr",
     "output_type": "stream",
     "text": [
      "[I 2023-12-16 01:46:13,801] Trial 7 finished with value: 92.27 and parameters: {'lambda_l1': 431.204466729288, 'lambda_l2': 918.87919285341, 'learning_rate': 0.26125968458262067, 'num_leaves': 875, 'feature_fraction': 0.7854914155786488, 'min_data_in_leaf': 5494}. Best is trial 5 with value: 85.37.\n"
     ]
    },
    {
     "name": "stdout",
     "output_type": "stream",
     "text": [
      "Early stopping, best iteration is:\n",
      "[82]\tvalid_0's ER: 92.27\n",
      "Evaluated only: ER\n",
      "**************** regression_l1 ****************\n",
      "Training until validation scores don't improve for 152 rounds\n",
      "[100]\tvalid_0's ER: 91.83\n",
      "[200]\tvalid_0's ER: 91.95\n"
     ]
    },
    {
     "name": "stderr",
     "output_type": "stream",
     "text": [
      "[I 2023-12-16 01:46:29,147] Trial 8 finished with value: 91.74 and parameters: {'lambda_l1': 876.0805077818228, 'lambda_l2': 574.2346405461159, 'learning_rate': 0.04854623780749664, 'num_leaves': 809, 'feature_fraction': 0.7436313804898975, 'min_data_in_leaf': 3948}. Best is trial 5 with value: 85.37.\n"
     ]
    },
    {
     "name": "stdout",
     "output_type": "stream",
     "text": [
      "Early stopping, best iteration is:\n",
      "[104]\tvalid_0's ER: 91.74\n",
      "Evaluated only: ER\n",
      "**************** regression_l1 ****************\n",
      "Training until validation scores don't improve for 75 rounds\n",
      "[100]\tvalid_0's ER: 88.19\n"
     ]
    },
    {
     "name": "stderr",
     "output_type": "stream",
     "text": [
      "[I 2023-12-16 01:46:38,110] Trial 9 finished with value: 88.18 and parameters: {'lambda_l1': 760.3295520150548, 'lambda_l2': 42.13283311739846, 'learning_rate': 0.19568301021258, 'num_leaves': 160, 'feature_fraction': 0.8099839459879548, 'min_data_in_leaf': 562}. Best is trial 5 with value: 85.37.\n"
     ]
    },
    {
     "name": "stdout",
     "output_type": "stream",
     "text": [
      "Early stopping, best iteration is:\n",
      "[102]\tvalid_0's ER: 88.18\n",
      "Evaluated only: ER\n",
      "# Experimentos: 10\n",
      "Mejor experimento: {'lambda_l1': 143.389093456758, 'lambda_l2': 343.6031416147185, 'learning_rate': 0.17064693332396666, 'num_leaves': 74, 'feature_fraction': 0.8192616350196678, 'min_data_in_leaf': 3445}\n",
      "=========================================== Cluster 11 ===========================================\n"
     ]
    },
    {
     "name": "stderr",
     "output_type": "stream",
     "text": [
      "[I 2023-12-16 01:46:39,198] A new study created in memory with name: no-name-08fc82b7-9c8c-4bba-88ed-26ecf41b7831\n"
     ]
    },
    {
     "name": "stdout",
     "output_type": "stream",
     "text": [
      "Periodos entrenar: [201701 201702 201703 201704 201705 201706 201707 201708 201709 201710\n",
      " 201711 201712 201801 201802 201803 201804 201805 201806 201807 201808\n",
      " 201809 201810 201811 201812 201901 201902 201903 201904 201905]\n",
      "Periodos validar: [201907]\n",
      "product_id a validar: 1160\n",
      "X_train: (30914, 120)\n",
      "y_train: (30914,)\n",
      "\n",
      "X_validate: (1160, 120)\n",
      "y_validate: (1160,)\n",
      "Optimizacion Bayesiana\n",
      "**************** regression_l1 ****************\n",
      "Training until validation scores don't improve for 67 rounds\n",
      "Early stopping, best iteration is:\n",
      "[1]\tvalid_0's ER: 100\n",
      "Evaluated only: ER\n"
     ]
    },
    {
     "name": "stderr",
     "output_type": "stream",
     "text": [
      "[I 2023-12-16 01:46:39,615] Trial 0 finished with value: 100.0 and parameters: {'lambda_l1': 789.3154815282144, 'lambda_l2': 277.51197171010875, 'learning_rate': 0.2891269034654671, 'num_leaves': 293, 'feature_fraction': 0.46167128515464856, 'min_data_in_leaf': 4812}. Best is trial 0 with value: 100.0.\n"
     ]
    },
    {
     "name": "stdout",
     "output_type": "stream",
     "text": [
      "**************** regression_l1 ****************\n",
      "Training until validation scores don't improve for 71 rounds\n"
     ]
    },
    {
     "name": "stderr",
     "output_type": "stream",
     "text": [
      "[I 2023-12-16 01:46:40,098] Trial 1 finished with value: 100.0 and parameters: {'lambda_l1': 850.8421093028055, 'lambda_l2': 366.50233312925974, 'learning_rate': 0.23657640569100344, 'num_leaves': 492, 'feature_fraction': 0.9500727602049581, 'min_data_in_leaf': 7123}. Best is trial 0 with value: 100.0.\n"
     ]
    },
    {
     "name": "stdout",
     "output_type": "stream",
     "text": [
      "Early stopping, best iteration is:\n",
      "[1]\tvalid_0's ER: 100\n",
      "Evaluated only: ER\n",
      "**************** regression_l1 ****************\n",
      "Training until validation scores don't improve for 79 rounds\n",
      "[100]\tvalid_0's ER: 96.49\n",
      "[200]\tvalid_0's ER: 95.84\n"
     ]
    },
    {
     "name": "stderr",
     "output_type": "stream",
     "text": [
      "[I 2023-12-16 01:46:41,481] Trial 2 finished with value: 95.79 and parameters: {'lambda_l1': 477.30522952774555, 'lambda_l2': 12.49235804320814, 'learning_rate': 0.16999428292013058, 'num_leaves': 175, 'feature_fraction': 0.5678786854678145, 'min_data_in_leaf': 4715}. Best is trial 2 with value: 95.79.\n"
     ]
    },
    {
     "name": "stdout",
     "output_type": "stream",
     "text": [
      "[300]\tvalid_0's ER: 95.8\n",
      "Early stopping, best iteration is:\n",
      "[265]\tvalid_0's ER: 95.79\n",
      "Evaluated only: ER\n",
      "**************** regression_l1 ****************\n",
      "Training until validation scores don't improve for 71 rounds\n",
      "[100]\tvalid_0's ER: 95.09\n",
      "[200]\tvalid_0's ER: 94.15\n",
      "[300]\tvalid_0's ER: 93.44\n",
      "[400]\tvalid_0's ER: 93.26\n",
      "[500]\tvalid_0's ER: 93.08\n",
      "[600]\tvalid_0's ER: 93.06\n"
     ]
    },
    {
     "name": "stderr",
     "output_type": "stream",
     "text": [
      "[I 2023-12-16 01:46:44,626] Trial 3 finished with value: 93.04 and parameters: {'lambda_l1': 334.31453239949417, 'lambda_l2': 690.8368819207723, 'learning_rate': 0.2360672060956413, 'num_leaves': 442, 'feature_fraction': 0.9524822348369641, 'min_data_in_leaf': 3493}. Best is trial 3 with value: 93.04.\n"
     ]
    },
    {
     "name": "stdout",
     "output_type": "stream",
     "text": [
      "[700]\tvalid_0's ER: 93.04\n",
      "Early stopping, best iteration is:\n",
      "[630]\tvalid_0's ER: 93.04\n",
      "Evaluated only: ER\n",
      "**************** regression_l1 ****************\n",
      "Training until validation scores don't improve for 84 rounds\n"
     ]
    },
    {
     "name": "stderr",
     "output_type": "stream",
     "text": [
      "[I 2023-12-16 01:46:45,189] Trial 4 finished with value: 100.0 and parameters: {'lambda_l1': 655.2982149489769, 'lambda_l2': 251.3435172340488, 'learning_rate': 0.1463390259724631, 'num_leaves': 976, 'feature_fraction': 0.932468826487727, 'min_data_in_leaf': 6171}. Best is trial 3 with value: 93.04.\n"
     ]
    },
    {
     "name": "stdout",
     "output_type": "stream",
     "text": [
      "Early stopping, best iteration is:\n",
      "[1]\tvalid_0's ER: 100\n",
      "Evaluated only: ER\n",
      "**************** regression_l1 ****************\n",
      "Training until validation scores don't improve for 194 rounds\n",
      "[100]\tvalid_0's ER: 100\n"
     ]
    },
    {
     "name": "stderr",
     "output_type": "stream",
     "text": [
      "[I 2023-12-16 01:46:45,881] Trial 5 finished with value: 100.0 and parameters: {'lambda_l1': 837.6602728779482, 'lambda_l2': 201.56746733894826, 'learning_rate': 0.03466073123932808, 'num_leaves': 802, 'feature_fraction': 0.30327071609795636, 'min_data_in_leaf': 2283}. Best is trial 3 with value: 93.04.\n"
     ]
    },
    {
     "name": "stdout",
     "output_type": "stream",
     "text": [
      "Early stopping, best iteration is:\n",
      "[1]\tvalid_0's ER: 100\n",
      "Evaluated only: ER\n",
      "**************** regression_l1 ****************\n",
      "Training until validation scores don't improve for 77 rounds\n"
     ]
    },
    {
     "name": "stderr",
     "output_type": "stream",
     "text": [
      "[I 2023-12-16 01:46:46,384] Trial 6 finished with value: 100.0 and parameters: {'lambda_l1': 722.4926576897145, 'lambda_l2': 643.3240894642586, 'learning_rate': 0.1847917564726394, 'num_leaves': 452, 'feature_fraction': 0.6749659907828712, 'min_data_in_leaf': 5591}. Best is trial 3 with value: 93.04.\n"
     ]
    },
    {
     "name": "stdout",
     "output_type": "stream",
     "text": [
      "Early stopping, best iteration is:\n",
      "[1]\tvalid_0's ER: 100\n",
      "Evaluated only: ER\n",
      "**************** regression_l1 ****************\n",
      "Training until validation scores don't improve for 75 rounds\n"
     ]
    },
    {
     "name": "stderr",
     "output_type": "stream",
     "text": [
      "[I 2023-12-16 01:46:46,921] Trial 7 finished with value: 100.0 and parameters: {'lambda_l1': 358.634559782347, 'lambda_l2': 669.0002946408049, 'learning_rate': 0.19824793122195034, 'num_leaves': 104, 'feature_fraction': 0.7714787248506907, 'min_data_in_leaf': 2592}. Best is trial 3 with value: 93.04.\n"
     ]
    },
    {
     "name": "stdout",
     "output_type": "stream",
     "text": [
      "Early stopping, best iteration is:\n",
      "[1]\tvalid_0's ER: 100\n",
      "Evaluated only: ER\n",
      "**************** regression_l1 ****************\n",
      "Training until validation scores don't improve for 210 rounds\n",
      "[100]\tvalid_0's ER: 98.37\n",
      "[200]\tvalid_0's ER: 97.08\n",
      "[300]\tvalid_0's ER: 96.89\n",
      "[400]\tvalid_0's ER: 96.66\n",
      "[500]\tvalid_0's ER: 96.43\n",
      "[600]\tvalid_0's ER: 96.33\n",
      "[700]\tvalid_0's ER: 96.27\n",
      "[800]\tvalid_0's ER: 96.2\n",
      "[900]\tvalid_0's ER: 96.15\n",
      "[1000]\tvalid_0's ER: 96.04\n",
      "[1100]\tvalid_0's ER: 95.98\n",
      "[1200]\tvalid_0's ER: 95.95\n",
      "[1300]\tvalid_0's ER: 95.92\n",
      "[1400]\tvalid_0's ER: 95.89\n",
      "[1500]\tvalid_0's ER: 95.88\n",
      "[1600]\tvalid_0's ER: 95.84\n",
      "[1700]\tvalid_0's ER: 95.8\n",
      "[1800]\tvalid_0's ER: 95.75\n",
      "[1900]\tvalid_0's ER: 95.74\n",
      "[2000]\tvalid_0's ER: 95.72\n",
      "[2100]\tvalid_0's ER: 95.68\n",
      "[2200]\tvalid_0's ER: 95.66\n",
      "[2300]\tvalid_0's ER: 95.64\n",
      "[2400]\tvalid_0's ER: 95.61\n",
      "[2500]\tvalid_0's ER: 95.57\n",
      "[2600]\tvalid_0's ER: 95.53\n",
      "[2700]\tvalid_0's ER: 95.49\n",
      "[2800]\tvalid_0's ER: 95.45\n",
      "[2900]\tvalid_0's ER: 95.41\n",
      "[3000]\tvalid_0's ER: 95.4\n",
      "[3100]\tvalid_0's ER: 95.38\n",
      "[3200]\tvalid_0's ER: 95.36\n",
      "[3300]\tvalid_0's ER: 95.34\n",
      "[3400]\tvalid_0's ER: 95.31\n",
      "[3500]\tvalid_0's ER: 95.29\n",
      "[3600]\tvalid_0's ER: 95.29\n",
      "[3700]\tvalid_0's ER: 95.28\n",
      "[3800]\tvalid_0's ER: 95.25\n",
      "[3900]\tvalid_0's ER: 95.24\n",
      "[4000]\tvalid_0's ER: 95.23\n",
      "[4100]\tvalid_0's ER: 95.16\n",
      "[4200]\tvalid_0's ER: 95.13\n",
      "[4300]\tvalid_0's ER: 95.13\n",
      "Early stopping, best iteration is:\n",
      "[4132]\tvalid_0's ER: 95.13\n",
      "Evaluated only: ER\n"
     ]
    },
    {
     "name": "stderr",
     "output_type": "stream",
     "text": [
      "[I 2023-12-16 01:47:04,743] Trial 8 finished with value: 95.13 and parameters: {'lambda_l1': 353.1183124958461, 'lambda_l2': 749.6808922929147, 'learning_rate': 0.031172961885826016, 'num_leaves': 219, 'feature_fraction': 0.620540965109053, 'min_data_in_leaf': 4416}. Best is trial 3 with value: 93.04.\n"
     ]
    },
    {
     "name": "stdout",
     "output_type": "stream",
     "text": [
      "**************** regression_l1 ****************\n",
      "Training until validation scores don't improve for 107 rounds\n",
      "[100]\tvalid_0's ER: 100\n",
      "Early stopping, best iteration is:\n",
      "[1]\tvalid_0's ER: 100\n",
      "Evaluated only: ER\n"
     ]
    },
    {
     "name": "stderr",
     "output_type": "stream",
     "text": [
      "[I 2023-12-16 01:47:05,162] Trial 9 finished with value: 100.0 and parameters: {'lambda_l1': 946.0691033621418, 'lambda_l2': 359.13625937130155, 'learning_rate': 0.08646416056398207, 'num_leaves': 170, 'feature_fraction': 0.22211063317231394, 'min_data_in_leaf': 7973}. Best is trial 3 with value: 93.04.\n"
     ]
    },
    {
     "name": "stdout",
     "output_type": "stream",
     "text": [
      "# Experimentos: 10\n",
      "Mejor experimento: {'lambda_l1': 334.31453239949417, 'lambda_l2': 690.8368819207723, 'learning_rate': 0.2360672060956413, 'num_leaves': 442, 'feature_fraction': 0.9524822348369641, 'min_data_in_leaf': 3493}\n",
      "=========================================== Cluster 12 ===========================================\n"
     ]
    },
    {
     "name": "stderr",
     "output_type": "stream",
     "text": [
      "[I 2023-12-16 01:47:15,905] A new study created in memory with name: no-name-280b0413-2f22-48b8-aa8c-51d7e450a6d2\n"
     ]
    },
    {
     "name": "stdout",
     "output_type": "stream",
     "text": [
      "Periodos entrenar: [201701 201702 201703 201704 201705 201706 201707 201708 201709 201710\n",
      " 201711 201712 201801 201802 201803 201804 201805 201806 201807 201808\n",
      " 201809 201810 201811 201812 201901 201902 201903 201904 201905]\n",
      "Periodos validar: [201907]\n",
      "product_id a validar: 16820\n",
      "X_train: (317387, 120)\n",
      "y_train: (317387,)\n",
      "\n",
      "X_validate: (16820, 120)\n",
      "y_validate: (16820,)\n",
      "Optimizacion Bayesiana\n",
      "**************** regression_l1 ****************\n",
      "Training until validation scores don't improve for 76 rounds\n",
      "[100]\tvalid_0's ER: 82.11\n",
      "[200]\tvalid_0's ER: 81.83\n",
      "[300]\tvalid_0's ER: 81.67\n",
      "[400]\tvalid_0's ER: 81.63\n",
      "[500]\tvalid_0's ER: 81.64\n",
      "Early stopping, best iteration is:\n",
      "[437]\tvalid_0's ER: 81.57\n",
      "Evaluated only: ER\n"
     ]
    },
    {
     "name": "stderr",
     "output_type": "stream",
     "text": [
      "[I 2023-12-16 01:47:59,586] Trial 0 finished with value: 81.57 and parameters: {'lambda_l1': 221.46169787352176, 'lambda_l2': 954.8434382620617, 'learning_rate': 0.1888345964509794, 'num_leaves': 218, 'feature_fraction': 0.5961004497244322, 'min_data_in_leaf': 2003}. Best is trial 0 with value: 81.57.\n"
     ]
    },
    {
     "name": "stdout",
     "output_type": "stream",
     "text": [
      "**************** regression_l1 ****************\n",
      "Training until validation scores don't improve for 79 rounds\n",
      "[100]\tvalid_0's ER: 87.89\n",
      "[200]\tvalid_0's ER: 87.5\n",
      "[300]\tvalid_0's ER: 87.27\n",
      "[400]\tvalid_0's ER: 86.87\n",
      "[500]\tvalid_0's ER: 86.69\n",
      "[600]\tvalid_0's ER: 86.59\n",
      "Early stopping, best iteration is:\n",
      "[570]\tvalid_0's ER: 86.59\n",
      "Evaluated only: ER\n"
     ]
    },
    {
     "name": "stderr",
     "output_type": "stream",
     "text": [
      "[I 2023-12-16 01:48:22,929] Trial 1 finished with value: 86.59 and parameters: {'lambda_l1': 749.8304633870987, 'lambda_l2': 531.6176467983562, 'learning_rate': 0.1704968076474052, 'num_leaves': 935, 'feature_fraction': 0.39463726446992675, 'min_data_in_leaf': 7873}. Best is trial 0 with value: 81.57.\n"
     ]
    },
    {
     "name": "stdout",
     "output_type": "stream",
     "text": [
      "**************** regression_l1 ****************\n",
      "Training until validation scores don't improve for 81 rounds\n",
      "[100]\tvalid_0's ER: 86.27\n",
      "[200]\tvalid_0's ER: 84.89\n",
      "[300]\tvalid_0's ER: 84.39\n",
      "[400]\tvalid_0's ER: 84\n",
      "[500]\tvalid_0's ER: 83.86\n",
      "[600]\tvalid_0's ER: 83.82\n",
      "[700]\tvalid_0's ER: 83.79\n",
      "Early stopping, best iteration is:\n",
      "[646]\tvalid_0's ER: 83.78\n",
      "Evaluated only: ER\n"
     ]
    },
    {
     "name": "stderr",
     "output_type": "stream",
     "text": [
      "[I 2023-12-16 01:49:00,689] Trial 2 finished with value: 83.78 and parameters: {'lambda_l1': 231.2581609024452, 'lambda_l2': 419.46500064829104, 'learning_rate': 0.15962321888364522, 'num_leaves': 849, 'feature_fraction': 0.7414300136079579, 'min_data_in_leaf': 6491}. Best is trial 0 with value: 81.57.\n"
     ]
    },
    {
     "name": "stdout",
     "output_type": "stream",
     "text": [
      "**************** regression_l1 ****************\n",
      "Training until validation scores don't improve for 83 rounds\n",
      "[100]\tvalid_0's ER: 80.21\n"
     ]
    },
    {
     "name": "stderr",
     "output_type": "stream",
     "text": [
      "[I 2023-12-16 01:49:11,965] Trial 3 finished with value: 80.18 and parameters: {'lambda_l1': 393.76763432762107, 'lambda_l2': 705.1016600112033, 'learning_rate': 0.15126900928799278, 'num_leaves': 838, 'feature_fraction': 0.8686270224289401, 'min_data_in_leaf': 560}. Best is trial 3 with value: 80.18.\n"
     ]
    },
    {
     "name": "stdout",
     "output_type": "stream",
     "text": [
      "Early stopping, best iteration is:\n",
      "[71]\tvalid_0's ER: 80.18\n",
      "Evaluated only: ER\n",
      "**************** regression_l1 ****************\n",
      "Training until validation scores don't improve for 67 rounds\n",
      "[100]\tvalid_0's ER: 82.26\n"
     ]
    },
    {
     "name": "stderr",
     "output_type": "stream",
     "text": [
      "[I 2023-12-16 01:49:18,923] Trial 4 finished with value: 82.2 and parameters: {'lambda_l1': 798.097440893686, 'lambda_l2': 310.2982843416886, 'learning_rate': 0.28323351870713015, 'num_leaves': 295, 'feature_fraction': 0.27027708074966744, 'min_data_in_leaf': 1547}. Best is trial 3 with value: 80.18.\n"
     ]
    },
    {
     "name": "stdout",
     "output_type": "stream",
     "text": [
      "Early stopping, best iteration is:\n",
      "[111]\tvalid_0's ER: 82.2\n",
      "Evaluated only: ER\n",
      "**************** regression_l1 ****************\n",
      "Training until validation scores don't improve for 72 rounds\n",
      "[100]\tvalid_0's ER: 82.93\n"
     ]
    },
    {
     "name": "stderr",
     "output_type": "stream",
     "text": [
      "[I 2023-12-16 01:49:26,408] Trial 5 finished with value: 82.89 and parameters: {'lambda_l1': 702.2458339122288, 'lambda_l2': 692.6208565967642, 'learning_rate': 0.22604158412138808, 'num_leaves': 302, 'feature_fraction': 0.2979944115362512, 'min_data_in_leaf': 1737}. Best is trial 3 with value: 80.18.\n"
     ]
    },
    {
     "name": "stdout",
     "output_type": "stream",
     "text": [
      "Early stopping, best iteration is:\n",
      "[113]\tvalid_0's ER: 82.89\n",
      "Evaluated only: ER\n",
      "**************** regression_l1 ****************\n",
      "Training until validation scores don't improve for 82 rounds\n",
      "[100]\tvalid_0's ER: 82.65\n",
      "[200]\tvalid_0's ER: 82.51\n",
      "[300]\tvalid_0's ER: 82.44\n",
      "[400]\tvalid_0's ER: 82.28\n",
      "[500]\tvalid_0's ER: 82.14\n",
      "[600]\tvalid_0's ER: 82.08\n",
      "Early stopping, best iteration is:\n",
      "[543]\tvalid_0's ER: 82.07\n",
      "Evaluated only: ER\n"
     ]
    },
    {
     "name": "stderr",
     "output_type": "stream",
     "text": [
      "[I 2023-12-16 01:50:18,689] Trial 6 finished with value: 82.07 and parameters: {'lambda_l1': 38.98657451395782, 'lambda_l2': 425.2281356857802, 'learning_rate': 0.15459882295649455, 'num_leaves': 693, 'feature_fraction': 0.9931665785895374, 'min_data_in_leaf': 2662}. Best is trial 3 with value: 80.18.\n"
     ]
    },
    {
     "name": "stdout",
     "output_type": "stream",
     "text": [
      "**************** regression_l1 ****************\n",
      "Training until validation scores don't improve for 409 rounds\n",
      "[100]\tvalid_0's ER: 86.07\n",
      "[200]\tvalid_0's ER: 83.84\n",
      "[300]\tvalid_0's ER: 83.38\n",
      "[400]\tvalid_0's ER: 83.26\n",
      "[500]\tvalid_0's ER: 83.2\n",
      "[600]\tvalid_0's ER: 83.08\n",
      "[700]\tvalid_0's ER: 82.99\n",
      "[800]\tvalid_0's ER: 82.83\n",
      "[900]\tvalid_0's ER: 82.76\n",
      "[1000]\tvalid_0's ER: 82.73\n",
      "[1100]\tvalid_0's ER: 82.7\n",
      "[1200]\tvalid_0's ER: 82.66\n",
      "[1300]\tvalid_0's ER: 82.54\n",
      "[1400]\tvalid_0's ER: 82.45\n",
      "[1500]\tvalid_0's ER: 82.4\n",
      "[1600]\tvalid_0's ER: 82.36\n",
      "[1700]\tvalid_0's ER: 82.32\n",
      "[1800]\tvalid_0's ER: 82.27\n",
      "[1900]\tvalid_0's ER: 82.2\n",
      "[2000]\tvalid_0's ER: 82.17\n",
      "[2100]\tvalid_0's ER: 82.13\n",
      "[2200]\tvalid_0's ER: 82.09\n",
      "[2300]\tvalid_0's ER: 82.03\n",
      "[2400]\tvalid_0's ER: 81.99\n",
      "[2500]\tvalid_0's ER: 81.94\n",
      "[2600]\tvalid_0's ER: 81.9\n",
      "[2700]\tvalid_0's ER: 81.86\n",
      "[2800]\tvalid_0's ER: 81.81\n",
      "[2900]\tvalid_0's ER: 81.79\n",
      "[3000]\tvalid_0's ER: 81.75\n",
      "[3100]\tvalid_0's ER: 81.72\n",
      "[3200]\tvalid_0's ER: 81.69\n",
      "[3300]\tvalid_0's ER: 81.65\n",
      "[3400]\tvalid_0's ER: 81.62\n",
      "[3500]\tvalid_0's ER: 81.58\n",
      "[3600]\tvalid_0's ER: 81.55\n",
      "[3700]\tvalid_0's ER: 81.53\n",
      "[3800]\tvalid_0's ER: 81.49\n",
      "[3900]\tvalid_0's ER: 81.46\n",
      "[4000]\tvalid_0's ER: 81.43\n",
      "[4100]\tvalid_0's ER: 81.41\n",
      "[4200]\tvalid_0's ER: 81.4\n",
      "[4300]\tvalid_0's ER: 81.37\n",
      "[4400]\tvalid_0's ER: 81.32\n",
      "[4500]\tvalid_0's ER: 81.29\n",
      "[4600]\tvalid_0's ER: 81.26\n",
      "[4700]\tvalid_0's ER: 81.24\n",
      "[4800]\tvalid_0's ER: 81.22\n",
      "[4900]\tvalid_0's ER: 81.2\n",
      "[5000]\tvalid_0's ER: 81.18\n",
      "[5100]\tvalid_0's ER: 81.16\n",
      "[5200]\tvalid_0's ER: 81.13\n",
      "[5300]\tvalid_0's ER: 81.12\n",
      "[5400]\tvalid_0's ER: 81.1\n",
      "[5500]\tvalid_0's ER: 81.08\n",
      "[5600]\tvalid_0's ER: 81.05\n",
      "[5700]\tvalid_0's ER: 81.04\n",
      "[5800]\tvalid_0's ER: 81.02\n",
      "[5900]\tvalid_0's ER: 81.01\n",
      "[6000]\tvalid_0's ER: 81\n",
      "[6100]\tvalid_0's ER: 80.98\n",
      "[6200]\tvalid_0's ER: 80.97\n",
      "[6300]\tvalid_0's ER: 80.96\n",
      "[6400]\tvalid_0's ER: 80.95\n",
      "[6500]\tvalid_0's ER: 80.93\n",
      "[6600]\tvalid_0's ER: 80.92\n",
      "[6700]\tvalid_0's ER: 80.91\n",
      "[6800]\tvalid_0's ER: 80.89\n",
      "[6900]\tvalid_0's ER: 80.87\n",
      "[7000]\tvalid_0's ER: 80.86\n",
      "[7100]\tvalid_0's ER: 80.85\n",
      "[7200]\tvalid_0's ER: 80.84\n",
      "[7300]\tvalid_0's ER: 80.83\n",
      "[7400]\tvalid_0's ER: 80.82\n",
      "[7500]\tvalid_0's ER: 80.81\n",
      "[7600]\tvalid_0's ER: 80.79\n",
      "[7700]\tvalid_0's ER: 80.79\n",
      "[7800]\tvalid_0's ER: 80.78\n",
      "[7900]\tvalid_0's ER: 80.77\n",
      "[8000]\tvalid_0's ER: 80.75\n",
      "[8100]\tvalid_0's ER: 80.75\n",
      "[8200]\tvalid_0's ER: 80.73\n",
      "[8300]\tvalid_0's ER: 80.72\n",
      "[8400]\tvalid_0's ER: 80.71\n",
      "[8500]\tvalid_0's ER: 80.68\n",
      "[8600]\tvalid_0's ER: 80.67\n",
      "[8700]\tvalid_0's ER: 80.66\n",
      "[8800]\tvalid_0's ER: 80.65\n",
      "[8900]\tvalid_0's ER: 80.63\n",
      "[9000]\tvalid_0's ER: 80.62\n",
      "[9100]\tvalid_0's ER: 80.6\n",
      "[9200]\tvalid_0's ER: 80.6\n",
      "[9300]\tvalid_0's ER: 80.6\n",
      "[9400]\tvalid_0's ER: 80.59\n",
      "[9500]\tvalid_0's ER: 80.57\n",
      "[9600]\tvalid_0's ER: 80.56\n",
      "[9700]\tvalid_0's ER: 80.55\n",
      "[9800]\tvalid_0's ER: 80.54\n",
      "[9900]\tvalid_0's ER: 80.53\n",
      "[10000]\tvalid_0's ER: 80.52\n",
      "Did not meet early stopping. Best iteration is:\n",
      "[9934]\tvalid_0's ER: 80.52\n",
      "Evaluated only: ER\n"
     ]
    },
    {
     "name": "stderr",
     "output_type": "stream",
     "text": [
      "[I 2023-12-16 02:03:35,808] Trial 7 finished with value: 80.52 and parameters: {'lambda_l1': 6.693918964481238, 'lambda_l2': 104.64650556816801, 'learning_rate': 0.013900141626163822, 'num_leaves': 355, 'feature_fraction': 0.7760021918748257, 'min_data_in_leaf': 3169}. Best is trial 3 with value: 80.18.\n"
     ]
    },
    {
     "name": "stdout",
     "output_type": "stream",
     "text": [
      "**************** regression_l1 ****************\n",
      "Training until validation scores don't improve for 72 rounds\n",
      "[100]\tvalid_0's ER: 85.05\n",
      "[200]\tvalid_0's ER: 84.34\n",
      "[300]\tvalid_0's ER: 84.06\n",
      "[400]\tvalid_0's ER: 84\n",
      "[500]\tvalid_0's ER: 83.91\n"
     ]
    },
    {
     "name": "stderr",
     "output_type": "stream",
     "text": [
      "[I 2023-12-16 02:03:51,537] Trial 8 finished with value: 83.9 and parameters: {'lambda_l1': 412.40547690269267, 'lambda_l2': 31.81794666905158, 'learning_rate': 0.2233534125931735, 'num_leaves': 684, 'feature_fraction': 0.2757562210079514, 'min_data_in_leaf': 4322}. Best is trial 3 with value: 80.18.\n"
     ]
    },
    {
     "name": "stdout",
     "output_type": "stream",
     "text": [
      "Early stopping, best iteration is:\n",
      "[481]\tvalid_0's ER: 83.9\n",
      "Evaluated only: ER\n",
      "**************** regression_l1 ****************\n",
      "Training until validation scores don't improve for 124 rounds\n",
      "[100]\tvalid_0's ER: 83.89\n",
      "[200]\tvalid_0's ER: 83.42\n",
      "[300]\tvalid_0's ER: 83.21\n",
      "[400]\tvalid_0's ER: 83.13\n",
      "[500]\tvalid_0's ER: 83.07\n",
      "[600]\tvalid_0's ER: 82.98\n",
      "[700]\tvalid_0's ER: 83.02\n",
      "[800]\tvalid_0's ER: 82.85\n",
      "[900]\tvalid_0's ER: 82.7\n",
      "[1000]\tvalid_0's ER: 82.59\n",
      "[1100]\tvalid_0's ER: 82.59\n",
      "Early stopping, best iteration is:\n",
      "[1007]\tvalid_0's ER: 82.56\n",
      "Evaluated only: ER\n"
     ]
    },
    {
     "name": "stderr",
     "output_type": "stream",
     "text": [
      "[I 2023-12-16 02:05:21,724] Trial 9 finished with value: 82.56 and parameters: {'lambda_l1': 203.78481496878143, 'lambda_l2': 89.58208571254322, 'learning_rate': 0.06728240074360009, 'num_leaves': 203, 'feature_fraction': 0.8411812587354446, 'min_data_in_leaf': 3176}. Best is trial 3 with value: 80.18.\n"
     ]
    },
    {
     "name": "stdout",
     "output_type": "stream",
     "text": [
      "# Experimentos: 10\n",
      "Mejor experimento: {'lambda_l1': 393.76763432762107, 'lambda_l2': 705.1016600112033, 'learning_rate': 0.15126900928799278, 'num_leaves': 838, 'feature_fraction': 0.8686270224289401, 'min_data_in_leaf': 560}\n",
      "=========================================== Cluster 13 ===========================================\n",
      "Periodos entrenar: [201701 201702 201703 201704 201705 201706 201707 201708 201709 201710\n",
      " 201711 201712 201801 201802 201803 201804 201805 201806 201807 201808\n",
      " 201809 201810 201811 201812 201901 201902 201903 201904 201905]\n",
      "Periodos validar: [201907]\n",
      "product_id a validar: 74240\n"
     ]
    },
    {
     "name": "stderr",
     "output_type": "stream",
     "text": [
      "[I 2023-12-16 02:06:21,728] A new study created in memory with name: no-name-fa1ecab9-a87a-4a1e-99fb-6a1f0468223d\n"
     ]
    },
    {
     "name": "stdout",
     "output_type": "stream",
     "text": [
      "X_train: (1668866, 120)\n",
      "y_train: (1668866,)\n",
      "\n",
      "X_validate: (74240, 120)\n",
      "y_validate: (74240,)\n",
      "Optimizacion Bayesiana\n",
      "**************** regression_l1 ****************\n",
      "Training until validation scores don't improve for 124 rounds\n",
      "[100]\tvalid_0's ER: 84.08\n",
      "[200]\tvalid_0's ER: 82.21\n",
      "[300]\tvalid_0's ER: 81.89\n",
      "[400]\tvalid_0's ER: 81.85\n",
      "[500]\tvalid_0's ER: 81.78\n",
      "[600]\tvalid_0's ER: 81.77\n",
      "Early stopping, best iteration is:\n",
      "[550]\tvalid_0's ER: 81.77\n",
      "Evaluated only: ER\n"
     ]
    },
    {
     "name": "stderr",
     "output_type": "stream",
     "text": [
      "[I 2023-12-16 02:09:35,410] Trial 0 finished with value: 81.77 and parameters: {'lambda_l1': 880.5574809946727, 'lambda_l2': 823.03212019534, 'learning_rate': 0.06672455547405498, 'num_leaves': 210, 'feature_fraction': 0.5762514272388177, 'min_data_in_leaf': 1200}. Best is trial 0 with value: 81.77.\n"
     ]
    },
    {
     "name": "stdout",
     "output_type": "stream",
     "text": [
      "**************** regression_l1 ****************\n",
      "Training until validation scores don't improve for 181 rounds\n",
      "[100]\tvalid_0's ER: 83\n",
      "[200]\tvalid_0's ER: 81.91\n",
      "[300]\tvalid_0's ER: 81.81\n",
      "[400]\tvalid_0's ER: 81.79\n",
      "[500]\tvalid_0's ER: 81.79\n",
      "Early stopping, best iteration is:\n",
      "[363]\tvalid_0's ER: 81.78\n",
      "Evaluated only: ER\n"
     ]
    },
    {
     "name": "stderr",
     "output_type": "stream",
     "text": [
      "[I 2023-12-16 02:13:50,031] Trial 1 finished with value: 81.78 and parameters: {'lambda_l1': 268.1988416228924, 'lambda_l2': 287.1277931675846, 'learning_rate': 0.0381036046848243, 'num_leaves': 853, 'feature_fraction': 0.6859521973829321, 'min_data_in_leaf': 494}. Best is trial 0 with value: 81.77.\n"
     ]
    },
    {
     "name": "stdout",
     "output_type": "stream",
     "text": [
      "**************** regression_l1 ****************\n",
      "Training until validation scores don't improve for 67 rounds\n",
      "[100]\tvalid_0's ER: 82.47\n",
      "Early stopping, best iteration is:\n",
      "[117]\tvalid_0's ER: 82.34\n",
      "Evaluated only: ER\n"
     ]
    },
    {
     "name": "stderr",
     "output_type": "stream",
     "text": [
      "[I 2023-12-16 02:14:34,944] Trial 2 finished with value: 82.34 and parameters: {'lambda_l1': 574.8010413971822, 'lambda_l2': 649.3722352144825, 'learning_rate': 0.29215010284320025, 'num_leaves': 218, 'feature_fraction': 0.536333088420062, 'min_data_in_leaf': 2454}. Best is trial 0 with value: 81.77.\n"
     ]
    },
    {
     "name": "stdout",
     "output_type": "stream",
     "text": [
      "**************** regression_l1 ****************\n",
      "Training until validation scores don't improve for 67 rounds\n",
      "[100]\tvalid_0's ER: 85.17\n",
      "[200]\tvalid_0's ER: 84.57\n",
      "[300]\tvalid_0's ER: 84.22\n",
      "[400]\tvalid_0's ER: 84.04\n",
      "[500]\tvalid_0's ER: 83.98\n",
      "[600]\tvalid_0's ER: 83.91\n",
      "[700]\tvalid_0's ER: 83.78\n",
      "Early stopping, best iteration is:\n",
      "[725]\tvalid_0's ER: 83.77\n",
      "Evaluated only: ER\n"
     ]
    },
    {
     "name": "stderr",
     "output_type": "stream",
     "text": [
      "[I 2023-12-16 02:18:48,454] Trial 3 finished with value: 83.77 and parameters: {'lambda_l1': 415.688274570698, 'lambda_l2': 72.48225813293485, 'learning_rate': 0.28160178087294463, 'num_leaves': 651, 'feature_fraction': 0.8955213651008833, 'min_data_in_leaf': 6375}. Best is trial 0 with value: 81.77.\n"
     ]
    },
    {
     "name": "stdout",
     "output_type": "stream",
     "text": [
      "**************** regression_l1 ****************\n",
      "Training until validation scores don't improve for 70 rounds\n",
      "[100]\tvalid_0's ER: 82.46\n",
      "Early stopping, best iteration is:\n",
      "[66]\tvalid_0's ER: 82.42\n",
      "Evaluated only: ER\n"
     ]
    },
    {
     "name": "stderr",
     "output_type": "stream",
     "text": [
      "[I 2023-12-16 02:19:41,129] Trial 4 finished with value: 82.42 and parameters: {'lambda_l1': 374.79274051217436, 'lambda_l2': 989.6892868601759, 'learning_rate': 0.2426882186141167, 'num_leaves': 207, 'feature_fraction': 0.6020608619568661, 'min_data_in_leaf': 601}. Best is trial 0 with value: 81.77.\n"
     ]
    },
    {
     "name": "stdout",
     "output_type": "stream",
     "text": [
      "**************** regression_l1 ****************\n",
      "Training until validation scores don't improve for 67 rounds\n",
      "[100]\tvalid_0's ER: 83.49\n",
      "[200]\tvalid_0's ER: 83.24\n",
      "[300]\tvalid_0's ER: 83.05\n",
      "[400]\tvalid_0's ER: 83\n",
      "Early stopping, best iteration is:\n",
      "[364]\tvalid_0's ER: 82.95\n",
      "Evaluated only: ER\n"
     ]
    },
    {
     "name": "stderr",
     "output_type": "stream",
     "text": [
      "[I 2023-12-16 02:20:45,397] Trial 5 finished with value: 82.95 and parameters: {'lambda_l1': 60.8103546330494, 'lambda_l2': 508.663074013752, 'learning_rate': 0.2812308037265754, 'num_leaves': 891, 'feature_fraction': 0.20713012513700316, 'min_data_in_leaf': 5608}. Best is trial 0 with value: 81.77.\n"
     ]
    },
    {
     "name": "stdout",
     "output_type": "stream",
     "text": [
      "**************** regression_l1 ****************\n",
      "Training until validation scores don't improve for 278 rounds\n",
      "[100]\tvalid_0's ER: 87.47\n",
      "[200]\tvalid_0's ER: 83.87\n",
      "[300]\tvalid_0's ER: 83.2\n",
      "[400]\tvalid_0's ER: 82.8\n",
      "[500]\tvalid_0's ER: 82.78\n",
      "[600]\tvalid_0's ER: 82.62\n",
      "[700]\tvalid_0's ER: 82.59\n",
      "[800]\tvalid_0's ER: 82.55\n",
      "[900]\tvalid_0's ER: 82.51\n",
      "[1000]\tvalid_0's ER: 82.45\n",
      "[1100]\tvalid_0's ER: 82.38\n",
      "[1200]\tvalid_0's ER: 82.34\n",
      "[1300]\tvalid_0's ER: 82.33\n",
      "[1400]\tvalid_0's ER: 82.32\n",
      "[1500]\tvalid_0's ER: 82.31\n",
      "[1600]\tvalid_0's ER: 82.3\n",
      "[1700]\tvalid_0's ER: 82.29\n",
      "[1800]\tvalid_0's ER: 82.29\n",
      "[1900]\tvalid_0's ER: 82.28\n",
      "[2000]\tvalid_0's ER: 82.28\n",
      "[2100]\tvalid_0's ER: 82.26\n",
      "[2200]\tvalid_0's ER: 82.26\n",
      "[2300]\tvalid_0's ER: 82.25\n",
      "[2400]\tvalid_0's ER: 82.26\n",
      "[2500]\tvalid_0's ER: 82.26\n",
      "Early stopping, best iteration is:\n",
      "[2251]\tvalid_0's ER: 82.25\n",
      "Evaluated only: ER\n"
     ]
    },
    {
     "name": "stderr",
     "output_type": "stream",
     "text": [
      "[I 2023-12-16 02:37:58,171] Trial 6 finished with value: 82.25 and parameters: {'lambda_l1': 846.0328362647091, 'lambda_l2': 379.3680673865484, 'learning_rate': 0.02188124064726726, 'num_leaves': 579, 'feature_fraction': 0.7911710323102252, 'min_data_in_leaf': 1921}. Best is trial 0 with value: 81.77.\n"
     ]
    },
    {
     "name": "stdout",
     "output_type": "stream",
     "text": [
      "**************** regression_l1 ****************\n",
      "Training until validation scores don't improve for 83 rounds\n",
      "[100]\tvalid_0's ER: 82.13\n",
      "Early stopping, best iteration is:\n",
      "[103]\tvalid_0's ER: 82.07\n",
      "Evaluated only: ER\n"
     ]
    },
    {
     "name": "stderr",
     "output_type": "stream",
     "text": [
      "[I 2023-12-16 02:38:41,476] Trial 7 finished with value: 82.07 and parameters: {'lambda_l1': 261.8534556512595, 'lambda_l2': 541.6949936868318, 'learning_rate': 0.149197348143486, 'num_leaves': 594, 'feature_fraction': 0.365401768805844, 'min_data_in_leaf': 1020}. Best is trial 0 with value: 81.77.\n"
     ]
    },
    {
     "name": "stdout",
     "output_type": "stream",
     "text": [
      "**************** regression_l1 ****************\n",
      "Training until validation scores don't improve for 142 rounds\n",
      "[100]\tvalid_0's ER: 85.31\n",
      "[200]\tvalid_0's ER: 84.2\n",
      "[300]\tvalid_0's ER: 83.87\n",
      "[400]\tvalid_0's ER: 83.61\n",
      "[500]\tvalid_0's ER: 83.53\n",
      "[600]\tvalid_0's ER: 83.45\n",
      "[700]\tvalid_0's ER: 83.36\n",
      "[800]\tvalid_0's ER: 83.33\n",
      "[900]\tvalid_0's ER: 83.29\n",
      "[1000]\tvalid_0's ER: 83.27\n",
      "[1100]\tvalid_0's ER: 83.27\n",
      "[1200]\tvalid_0's ER: 83.23\n",
      "[1300]\tvalid_0's ER: 83.2\n",
      "[1400]\tvalid_0's ER: 83.16\n",
      "[1500]\tvalid_0's ER: 83.1\n",
      "[1600]\tvalid_0's ER: 83.07\n",
      "[1700]\tvalid_0's ER: 83.04\n",
      "[1800]\tvalid_0's ER: 82.97\n",
      "[1900]\tvalid_0's ER: 82.96\n",
      "[2000]\tvalid_0's ER: 82.88\n",
      "[2100]\tvalid_0's ER: 82.86\n",
      "[2200]\tvalid_0's ER: 82.86\n",
      "Early stopping, best iteration is:\n",
      "[2070]\tvalid_0's ER: 82.86\n",
      "Evaluated only: ER\n"
     ]
    },
    {
     "name": "stderr",
     "output_type": "stream",
     "text": [
      "[I 2023-12-16 02:44:16,514] Trial 8 finished with value: 82.86 and parameters: {'lambda_l1': 916.3078489471427, 'lambda_l2': 911.5418450966978, 'learning_rate': 0.053869428917526115, 'num_leaves': 293, 'feature_fraction': 0.24492487650057468, 'min_data_in_leaf': 4962}. Best is trial 0 with value: 81.77.\n"
     ]
    },
    {
     "name": "stdout",
     "output_type": "stream",
     "text": [
      "**************** regression_l1 ****************\n",
      "Training until validation scores don't improve for 76 rounds\n",
      "[100]\tvalid_0's ER: 82.55\n",
      "Early stopping, best iteration is:\n",
      "[79]\tvalid_0's ER: 82.46\n",
      "Evaluated only: ER\n"
     ]
    },
    {
     "name": "stderr",
     "output_type": "stream",
     "text": [
      "[I 2023-12-16 02:45:34,647] Trial 9 finished with value: 82.46 and parameters: {'lambda_l1': 39.11428770677505, 'lambda_l2': 760.488966015089, 'learning_rate': 0.18856199905120585, 'num_leaves': 411, 'feature_fraction': 0.6319911972326371, 'min_data_in_leaf': 1788}. Best is trial 0 with value: 81.77.\n"
     ]
    },
    {
     "name": "stdout",
     "output_type": "stream",
     "text": [
      "# Experimentos: 10\n",
      "Mejor experimento: {'lambda_l1': 880.5574809946727, 'lambda_l2': 823.03212019534, 'learning_rate': 0.06672455547405498, 'num_leaves': 210, 'feature_fraction': 0.5762514272388177, 'min_data_in_leaf': 1200}\n",
      "=========================================== Cluster 14 ===========================================\n"
     ]
    },
    {
     "name": "stderr",
     "output_type": "stream",
     "text": [
      "[I 2023-12-16 02:45:39,184] A new study created in memory with name: no-name-d90e7d30-60f8-4e9b-a31c-e8f2eaf1bab7\n"
     ]
    },
    {
     "name": "stdout",
     "output_type": "stream",
     "text": [
      "Periodos entrenar: [201701 201702 201703 201704 201705 201706 201707 201708 201709 201710\n",
      " 201711 201712 201801 201802 201803 201804 201805 201806 201807 201808\n",
      " 201809 201810 201811 201812 201901 201902 201903 201904 201905]\n",
      "Periodos validar: [201907]\n",
      "product_id a validar: 5220\n",
      "X_train: (139113, 120)\n",
      "y_train: (139113,)\n",
      "\n",
      "X_validate: (5220, 120)\n",
      "y_validate: (5220,)\n",
      "Optimizacion Bayesiana\n",
      "**************** regression_l1 ****************\n",
      "Training until validation scores don't improve for 110 rounds\n",
      "[100]\tvalid_0's ER: 75.33\n",
      "[200]\tvalid_0's ER: 74.84\n",
      "[300]\tvalid_0's ER: 74.82\n",
      "[400]\tvalid_0's ER: 74.78\n",
      "[500]\tvalid_0's ER: 74.76\n",
      "[600]\tvalid_0's ER: 74.73\n",
      "[700]\tvalid_0's ER: 74.7\n"
     ]
    },
    {
     "name": "stderr",
     "output_type": "stream",
     "text": [
      "[I 2023-12-16 02:45:51,493] Trial 0 finished with value: 74.7 and parameters: {'lambda_l1': 763.4378890866537, 'lambda_l2': 599.3008196528244, 'learning_rate': 0.08323614822524258, 'num_leaves': 842, 'feature_fraction': 0.5434600111042691, 'min_data_in_leaf': 2127}. Best is trial 0 with value: 74.7.\n"
     ]
    },
    {
     "name": "stdout",
     "output_type": "stream",
     "text": [
      "[800]\tvalid_0's ER: 74.7\n",
      "Early stopping, best iteration is:\n",
      "[698]\tvalid_0's ER: 74.7\n",
      "Evaluated only: ER\n",
      "**************** regression_l1 ****************\n",
      "Training until validation scores don't improve for 240 rounds\n",
      "[100]\tvalid_0's ER: 73.98\n",
      "[200]\tvalid_0's ER: 65.89\n",
      "[300]\tvalid_0's ER: 64.06\n",
      "[400]\tvalid_0's ER: 63.21\n",
      "[500]\tvalid_0's ER: 62.85\n",
      "[600]\tvalid_0's ER: 62.87\n",
      "[700]\tvalid_0's ER: 62.77\n",
      "[800]\tvalid_0's ER: 62.81\n",
      "[900]\tvalid_0's ER: 62.87\n",
      "Early stopping, best iteration is:\n",
      "[703]\tvalid_0's ER: 62.76\n",
      "Evaluated only: ER\n"
     ]
    },
    {
     "name": "stderr",
     "output_type": "stream",
     "text": [
      "[I 2023-12-16 02:46:43,314] Trial 1 finished with value: 62.76 and parameters: {'lambda_l1': 302.72660214754757, 'lambda_l2': 11.431423747720547, 'learning_rate': 0.026313288225517602, 'num_leaves': 389, 'feature_fraction': 0.7194813672263329, 'min_data_in_leaf': 420}. Best is trial 1 with value: 62.76.\n"
     ]
    },
    {
     "name": "stdout",
     "output_type": "stream",
     "text": [
      "**************** regression_l1 ****************\n",
      "Training until validation scores don't improve for 75 rounds\n",
      "[100]\tvalid_0's ER: 80.49\n",
      "[200]\tvalid_0's ER: 80.37\n"
     ]
    },
    {
     "name": "stderr",
     "output_type": "stream",
     "text": [
      "[I 2023-12-16 02:46:49,468] Trial 2 finished with value: 80.35 and parameters: {'lambda_l1': 908.0137831472248, 'lambda_l2': 535.5623173761736, 'learning_rate': 0.19473002839629325, 'num_leaves': 365, 'feature_fraction': 0.6531621497305818, 'min_data_in_leaf': 4367}. Best is trial 1 with value: 62.76.\n"
     ]
    },
    {
     "name": "stdout",
     "output_type": "stream",
     "text": [
      "Early stopping, best iteration is:\n",
      "[166]\tvalid_0's ER: 80.35\n",
      "Evaluated only: ER\n",
      "**************** regression_l1 ****************\n",
      "Training until validation scores don't improve for 69 rounds\n",
      "[100]\tvalid_0's ER: 72.69\n"
     ]
    },
    {
     "name": "stderr",
     "output_type": "stream",
     "text": [
      "[I 2023-12-16 02:46:52,932] Trial 3 finished with value: 72.57 and parameters: {'lambda_l1': 419.7072215716385, 'lambda_l2': 613.467818250896, 'learning_rate': 0.2597784968989311, 'num_leaves': 453, 'feature_fraction': 0.8288664063366424, 'min_data_in_leaf': 1525}. Best is trial 1 with value: 62.76.\n"
     ]
    },
    {
     "name": "stdout",
     "output_type": "stream",
     "text": [
      "Early stopping, best iteration is:\n",
      "[53]\tvalid_0's ER: 72.57\n",
      "Evaluated only: ER\n",
      "**************** regression_l1 ****************\n",
      "Training until validation scores don't improve for 74 rounds\n",
      "[100]\tvalid_0's ER: 76.07\n"
     ]
    },
    {
     "name": "stderr",
     "output_type": "stream",
     "text": [
      "[I 2023-12-16 02:46:57,413] Trial 4 finished with value: 75.97 and parameters: {'lambda_l1': 921.5974436322102, 'lambda_l2': 418.28675526125556, 'learning_rate': 0.20797690353070403, 'num_leaves': 691, 'feature_fraction': 0.7606612923799148, 'min_data_in_leaf': 3130}. Best is trial 1 with value: 62.76.\n"
     ]
    },
    {
     "name": "stdout",
     "output_type": "stream",
     "text": [
      "Early stopping, best iteration is:\n",
      "[123]\tvalid_0's ER: 75.97\n",
      "Evaluated only: ER\n",
      "**************** regression_l1 ****************\n",
      "Training until validation scores don't improve for 66 rounds\n",
      "[100]\tvalid_0's ER: 77.01\n",
      "[200]\tvalid_0's ER: 75.59\n",
      "[300]\tvalid_0's ER: 75.03\n",
      "[400]\tvalid_0's ER: 73.75\n",
      "[500]\tvalid_0's ER: 73.06\n",
      "[600]\tvalid_0's ER: 72.8\n",
      "[700]\tvalid_0's ER: 72.33\n",
      "[800]\tvalid_0's ER: 72.1\n",
      "[900]\tvalid_0's ER: 71.85\n",
      "[1000]\tvalid_0's ER: 71.56\n",
      "[1100]\tvalid_0's ER: 71.42\n",
      "Early stopping, best iteration is:\n",
      "[1047]\tvalid_0's ER: 71.34\n",
      "Evaluated only: ER\n"
     ]
    },
    {
     "name": "stderr",
     "output_type": "stream",
     "text": [
      "[I 2023-12-16 02:47:25,935] Trial 5 finished with value: 71.34 and parameters: {'lambda_l1': 97.39358273415677, 'lambda_l2': 631.0827513182294, 'learning_rate': 0.2966173411996945, 'num_leaves': 417, 'feature_fraction': 0.5972378003297322, 'min_data_in_leaf': 3369}. Best is trial 1 with value: 62.76.\n"
     ]
    },
    {
     "name": "stdout",
     "output_type": "stream",
     "text": [
      "**************** regression_l1 ****************\n",
      "Training until validation scores don't improve for 72 rounds\n",
      "[100]\tvalid_0's ER: 64.95\n"
     ]
    },
    {
     "name": "stderr",
     "output_type": "stream",
     "text": [
      "[I 2023-12-16 02:47:31,383] Trial 6 finished with value: 64.74 and parameters: {'lambda_l1': 133.12781900978143, 'lambda_l2': 851.8292956608666, 'learning_rate': 0.22415278554002283, 'num_leaves': 799, 'feature_fraction': 0.7448246879480598, 'min_data_in_leaf': 709}. Best is trial 1 with value: 62.76.\n"
     ]
    },
    {
     "name": "stdout",
     "output_type": "stream",
     "text": [
      "Early stopping, best iteration is:\n",
      "[95]\tvalid_0's ER: 64.74\n",
      "Evaluated only: ER\n",
      "**************** regression_l1 ****************\n",
      "Training until validation scores don't improve for 77 rounds\n",
      "[100]\tvalid_0's ER: 78.85\n",
      "[200]\tvalid_0's ER: 78.41\n",
      "[300]\tvalid_0's ER: 78.32\n"
     ]
    },
    {
     "name": "stderr",
     "output_type": "stream",
     "text": [
      "[I 2023-12-16 02:47:40,943] Trial 7 finished with value: 78.31 and parameters: {'lambda_l1': 993.5660942555025, 'lambda_l2': 763.0675477477374, 'learning_rate': 0.18349122573992388, 'num_leaves': 242, 'feature_fraction': 0.8454239231726144, 'min_data_in_leaf': 3896}. Best is trial 1 with value: 62.76.\n"
     ]
    },
    {
     "name": "stdout",
     "output_type": "stream",
     "text": [
      "Early stopping, best iteration is:\n",
      "[320]\tvalid_0's ER: 78.31\n",
      "Evaluated only: ER\n",
      "**************** regression_l1 ****************\n",
      "Training until validation scores don't improve for 107 rounds\n",
      "[100]\tvalid_0's ER: 70.17\n",
      "[200]\tvalid_0's ER: 69.88\n"
     ]
    },
    {
     "name": "stderr",
     "output_type": "stream",
     "text": [
      "[I 2023-12-16 02:47:45,507] Trial 8 finished with value: 69.87 and parameters: {'lambda_l1': 441.11721823497976, 'lambda_l2': 717.6908890137013, 'learning_rate': 0.08674840152030444, 'num_leaves': 56, 'feature_fraction': 0.5506934523818067, 'min_data_in_leaf': 1005}. Best is trial 1 with value: 62.76.\n"
     ]
    },
    {
     "name": "stdout",
     "output_type": "stream",
     "text": [
      "Early stopping, best iteration is:\n",
      "[125]\tvalid_0's ER: 69.87\n",
      "Evaluated only: ER\n",
      "**************** regression_l1 ****************\n",
      "Training until validation scores don't improve for 68 rounds\n",
      "[100]\tvalid_0's ER: 71.74\n",
      "[200]\tvalid_0's ER: 70.35\n"
     ]
    },
    {
     "name": "stderr",
     "output_type": "stream",
     "text": [
      "[I 2023-12-16 02:47:50,186] Trial 9 finished with value: 70.32 and parameters: {'lambda_l1': 314.99840994235586, 'lambda_l2': 887.7512872250683, 'learning_rate': 0.2761299110640015, 'num_leaves': 915, 'feature_fraction': 0.48660775427334263, 'min_data_in_leaf': 2032}. Best is trial 1 with value: 62.76.\n"
     ]
    },
    {
     "name": "stdout",
     "output_type": "stream",
     "text": [
      "Early stopping, best iteration is:\n",
      "[141]\tvalid_0's ER: 70.32\n",
      "Evaluated only: ER\n",
      "# Experimentos: 10\n",
      "Mejor experimento: {'lambda_l1': 302.72660214754757, 'lambda_l2': 11.431423747720547, 'learning_rate': 0.026313288225517602, 'num_leaves': 389, 'feature_fraction': 0.7194813672263329, 'min_data_in_leaf': 420}\n",
      "=========================================== Cluster 15 ===========================================\n"
     ]
    },
    {
     "name": "stderr",
     "output_type": "stream",
     "text": [
      "[I 2023-12-16 02:47:50,872] A new study created in memory with name: no-name-7d30817b-45b0-4cd5-a768-fb948536ab07\n"
     ]
    },
    {
     "name": "stdout",
     "output_type": "stream",
     "text": [
      "Periodos entrenar: [201701 201702 201703 201704 201705 201706 201707 201708 201709 201710\n",
      " 201711 201712 201801 201802 201803 201804 201805 201806 201807 201808\n",
      " 201809 201810 201811 201812 201901 201902 201903 201904 201905]\n",
      "Periodos validar: [201907]\n",
      "product_id a validar: 580\n",
      "X_train: (15457, 120)\n",
      "y_train: (15457,)\n",
      "\n",
      "X_validate: (580, 120)\n",
      "y_validate: (580,)\n",
      "Optimizacion Bayesiana\n",
      "**************** regression_l1 ****************\n",
      "Training until validation scores don't improve for 80 rounds\n"
     ]
    },
    {
     "name": "stderr",
     "output_type": "stream",
     "text": [
      "[I 2023-12-16 02:47:51,170] Trial 0 finished with value: 100.0 and parameters: {'lambda_l1': 414.77018583584345, 'lambda_l2': 412.24469656720277, 'learning_rate': 0.16390816763674054, 'num_leaves': 894, 'feature_fraction': 0.5588533176513667, 'min_data_in_leaf': 3333}. Best is trial 0 with value: 100.0.\n"
     ]
    },
    {
     "name": "stdout",
     "output_type": "stream",
     "text": [
      "Early stopping, best iteration is:\n",
      "[1]\tvalid_0's ER: 100\n",
      "Evaluated only: ER\n",
      "**************** regression_l1 ****************\n",
      "Training until validation scores don't improve for 178 rounds\n"
     ]
    },
    {
     "name": "stderr",
     "output_type": "stream",
     "text": [
      "[I 2023-12-16 02:47:51,688] Trial 1 finished with value: 100.0 and parameters: {'lambda_l1': 373.245548429163, 'lambda_l2': 887.097355580553, 'learning_rate': 0.039042337177418666, 'num_leaves': 196, 'feature_fraction': 0.718495120005558, 'min_data_in_leaf': 1322}. Best is trial 0 with value: 100.0.\n"
     ]
    },
    {
     "name": "stdout",
     "output_type": "stream",
     "text": [
      "[100]\tvalid_0's ER: 100\n",
      "Early stopping, best iteration is:\n",
      "[1]\tvalid_0's ER: 100\n",
      "Evaluated only: ER\n",
      "**************** regression_l1 ****************\n",
      "Training until validation scores don't improve for 99 rounds\n"
     ]
    },
    {
     "name": "stderr",
     "output_type": "stream",
     "text": [
      "[I 2023-12-16 02:47:52,040] Trial 2 finished with value: 100.0 and parameters: {'lambda_l1': 659.2578446207208, 'lambda_l2': 787.8742331081552, 'learning_rate': 0.10126053505605925, 'num_leaves': 774, 'feature_fraction': 0.9883907686090689, 'min_data_in_leaf': 436}. Best is trial 0 with value: 100.0.\n"
     ]
    },
    {
     "name": "stdout",
     "output_type": "stream",
     "text": [
      "[100]\tvalid_0's ER: 100\n",
      "Early stopping, best iteration is:\n",
      "[1]\tvalid_0's ER: 100\n",
      "Evaluated only: ER\n",
      "**************** regression_l1 ****************\n",
      "Training until validation scores don't improve for 109 rounds\n"
     ]
    },
    {
     "name": "stderr",
     "output_type": "stream",
     "text": [
      "[I 2023-12-16 02:47:52,358] Trial 3 finished with value: 100.0 and parameters: {'lambda_l1': 392.0236872493623, 'lambda_l2': 533.6201704639781, 'learning_rate': 0.0846109338623805, 'num_leaves': 940, 'feature_fraction': 0.47985381413267814, 'min_data_in_leaf': 927}. Best is trial 0 with value: 100.0.\n"
     ]
    },
    {
     "name": "stdout",
     "output_type": "stream",
     "text": [
      "[100]\tvalid_0's ER: 100\n",
      "Early stopping, best iteration is:\n",
      "[1]\tvalid_0's ER: 100\n",
      "Evaluated only: ER\n",
      "**************** regression_l1 ****************\n",
      "Training until validation scores don't improve for 67 rounds\n"
     ]
    },
    {
     "name": "stderr",
     "output_type": "stream",
     "text": [
      "[I 2023-12-16 02:47:52,583] Trial 4 finished with value: 100.0 and parameters: {'lambda_l1': 512.3571626255072, 'lambda_l2': 231.96564928100605, 'learning_rate': 0.2832305538109007, 'num_leaves': 278, 'feature_fraction': 0.6304762276615429, 'min_data_in_leaf': 4480}. Best is trial 0 with value: 100.0.\n"
     ]
    },
    {
     "name": "stdout",
     "output_type": "stream",
     "text": [
      "Early stopping, best iteration is:\n",
      "[1]\tvalid_0's ER: 100\n",
      "Evaluated only: ER\n",
      "**************** regression_l1 ****************\n",
      "Training until validation scores don't improve for 272 rounds\n",
      "[100]\tvalid_0's ER: 100\n",
      "[200]\tvalid_0's ER: 100\n"
     ]
    },
    {
     "name": "stderr",
     "output_type": "stream",
     "text": [
      "[I 2023-12-16 02:47:53,242] Trial 5 finished with value: 100.0 and parameters: {'lambda_l1': 267.5274500132325, 'lambda_l2': 735.3788661916388, 'learning_rate': 0.0224515789098402, 'num_leaves': 114, 'feature_fraction': 0.6608151990218266, 'min_data_in_leaf': 1750}. Best is trial 0 with value: 100.0.\n"
     ]
    },
    {
     "name": "stdout",
     "output_type": "stream",
     "text": [
      "Early stopping, best iteration is:\n",
      "[1]\tvalid_0's ER: 100\n",
      "Evaluated only: ER\n",
      "**************** regression_l1 ****************\n",
      "Training until validation scores don't improve for 99 rounds\n"
     ]
    },
    {
     "name": "stderr",
     "output_type": "stream",
     "text": [
      "[I 2023-12-16 02:47:53,497] Trial 6 finished with value: 100.0 and parameters: {'lambda_l1': 140.98079055170277, 'lambda_l2': 13.944063614097391, 'learning_rate': 0.10195295016811326, 'num_leaves': 308, 'feature_fraction': 0.3081059050259855, 'min_data_in_leaf': 2835}. Best is trial 0 with value: 100.0.\n"
     ]
    },
    {
     "name": "stdout",
     "output_type": "stream",
     "text": [
      "[100]\tvalid_0's ER: 100\n",
      "Early stopping, best iteration is:\n",
      "[1]\tvalid_0's ER: 100\n",
      "Evaluated only: ER\n",
      "**************** regression_l1 ****************\n",
      "Training until validation scores don't improve for 77 rounds\n"
     ]
    },
    {
     "name": "stderr",
     "output_type": "stream",
     "text": [
      "[I 2023-12-16 02:47:53,723] Trial 7 finished with value: 100.0 and parameters: {'lambda_l1': 779.0621142826797, 'lambda_l2': 662.8740147036817, 'learning_rate': 0.18422287280772331, 'num_leaves': 82, 'feature_fraction': 0.38241916110048707, 'min_data_in_leaf': 2054}. Best is trial 0 with value: 100.0.\n"
     ]
    },
    {
     "name": "stdout",
     "output_type": "stream",
     "text": [
      "Early stopping, best iteration is:\n",
      "[1]\tvalid_0's ER: 100\n",
      "Evaluated only: ER\n",
      "**************** regression_l1 ****************\n",
      "Training until validation scores don't improve for 99 rounds\n"
     ]
    },
    {
     "name": "stderr",
     "output_type": "stream",
     "text": [
      "[I 2023-12-16 02:47:54,050] Trial 8 finished with value: 100.0 and parameters: {'lambda_l1': 418.1643269894519, 'lambda_l2': 676.0964022763802, 'learning_rate': 0.10143236017142532, 'num_leaves': 931, 'feature_fraction': 0.7783374293425867, 'min_data_in_leaf': 3474}. Best is trial 0 with value: 100.0.\n"
     ]
    },
    {
     "name": "stdout",
     "output_type": "stream",
     "text": [
      "[100]\tvalid_0's ER: 100\n",
      "Early stopping, best iteration is:\n",
      "[1]\tvalid_0's ER: 100\n",
      "Evaluated only: ER\n",
      "**************** regression_l1 ****************\n",
      "Training until validation scores don't improve for 67 rounds\n"
     ]
    },
    {
     "name": "stderr",
     "output_type": "stream",
     "text": [
      "[I 2023-12-16 02:47:54,274] Trial 9 finished with value: 100.0 and parameters: {'lambda_l1': 694.9479327045473, 'lambda_l2': 935.4071581906705, 'learning_rate': 0.29314505817734443, 'num_leaves': 243, 'feature_fraction': 0.8296024978331611, 'min_data_in_leaf': 6150}. Best is trial 0 with value: 100.0.\n"
     ]
    },
    {
     "name": "stdout",
     "output_type": "stream",
     "text": [
      "Early stopping, best iteration is:\n",
      "[1]\tvalid_0's ER: 100\n",
      "Evaluated only: ER\n",
      "# Experimentos: 10\n",
      "Mejor experimento: {'lambda_l1': 414.77018583584345, 'lambda_l2': 412.24469656720277, 'learning_rate': 0.16390816763674054, 'num_leaves': 894, 'feature_fraction': 0.5588533176513667, 'min_data_in_leaf': 3333}\n",
      "=========================================== Cluster 16 ===========================================\n"
     ]
    },
    {
     "name": "stderr",
     "output_type": "stream",
     "text": [
      "[I 2023-12-16 02:47:56,439] A new study created in memory with name: no-name-bdba9239-fd33-428a-a4fb-540fd5c8466b\n"
     ]
    },
    {
     "name": "stdout",
     "output_type": "stream",
     "text": [
      "Periodos entrenar: [201701 201702 201703 201704 201705 201706 201707 201708 201709 201710\n",
      " 201711 201712 201801 201802 201803 201804 201805 201806 201807 201808\n",
      " 201809 201810 201811 201812 201901 201902 201903 201904 201905]\n",
      "Periodos validar: [201907]\n",
      "product_id a validar: 2900\n",
      "X_train: (67972, 120)\n",
      "y_train: (67972,)\n",
      "\n",
      "X_validate: (2900, 120)\n",
      "y_validate: (2900,)\n",
      "Optimizacion Bayesiana\n",
      "**************** regression_l1 ****************\n",
      "Training until validation scores don't improve for 146 rounds\n",
      "[100]\tvalid_0's ER: 92.42\n",
      "[200]\tvalid_0's ER: 89.26\n",
      "[300]\tvalid_0's ER: 88.97\n",
      "[400]\tvalid_0's ER: 87.88\n",
      "[500]\tvalid_0's ER: 87.78\n",
      "[600]\tvalid_0's ER: 87.78\n",
      "[700]\tvalid_0's ER: 87.68\n",
      "[800]\tvalid_0's ER: 87.62\n",
      "Early stopping, best iteration is:\n",
      "[719]\tvalid_0's ER: 87.62\n",
      "Evaluated only: ER\n"
     ]
    },
    {
     "name": "stderr",
     "output_type": "stream",
     "text": [
      "[I 2023-12-16 02:48:01,013] Trial 0 finished with value: 87.62 and parameters: {'lambda_l1': 709.6429667327906, 'lambda_l2': 755.2741445121485, 'learning_rate': 0.05203145826197756, 'num_leaves': 272, 'feature_fraction': 0.21683714741285698, 'min_data_in_leaf': 2262}. Best is trial 0 with value: 87.62.\n"
     ]
    },
    {
     "name": "stdout",
     "output_type": "stream",
     "text": [
      "**************** regression_l1 ****************\n",
      "Training until validation scores don't improve for 182 rounds\n",
      "[100]\tvalid_0's ER: 77.23\n",
      "[200]\tvalid_0's ER: 74.8\n",
      "[300]\tvalid_0's ER: 72.75\n",
      "[400]\tvalid_0's ER: 69.21\n",
      "[500]\tvalid_0's ER: 67.66\n",
      "[600]\tvalid_0's ER: 67.29\n",
      "[700]\tvalid_0's ER: 67.02\n",
      "[800]\tvalid_0's ER: 66.64\n",
      "[900]\tvalid_0's ER: 66.3\n",
      "[1000]\tvalid_0's ER: 65.77\n",
      "[1100]\tvalid_0's ER: 65.73\n",
      "[1200]\tvalid_0's ER: 65.36\n",
      "[1300]\tvalid_0's ER: 65.41\n",
      "Early stopping, best iteration is:\n",
      "[1185]\tvalid_0's ER: 65.36\n",
      "Evaluated only: ER\n"
     ]
    },
    {
     "name": "stderr",
     "output_type": "stream",
     "text": [
      "[I 2023-12-16 02:48:35,032] Trial 1 finished with value: 65.36 and parameters: {'lambda_l1': 411.91310184626127, 'lambda_l2': 990.9166333223177, 'learning_rate': 0.03783415665714628, 'num_leaves': 175, 'feature_fraction': 0.8494671065484078, 'min_data_in_leaf': 142}. Best is trial 1 with value: 65.36.\n"
     ]
    },
    {
     "name": "stdout",
     "output_type": "stream",
     "text": [
      "**************** regression_l1 ****************\n",
      "Training until validation scores don't improve for 125 rounds\n",
      "[100]\tvalid_0's ER: 81.76\n",
      "[200]\tvalid_0's ER: 74.65\n",
      "[300]\tvalid_0's ER: 72.91\n",
      "[400]\tvalid_0's ER: 71.46\n",
      "[500]\tvalid_0's ER: 69.27\n"
     ]
    },
    {
     "name": "stderr",
     "output_type": "stream",
     "text": [
      "[I 2023-12-16 02:48:43,100] Trial 2 finished with value: 69.27 and parameters: {'lambda_l1': 656.0713396639879, 'lambda_l2': 771.4060320851602, 'learning_rate': 0.06583652257324518, 'num_leaves': 555, 'feature_fraction': 0.5088906348150741, 'min_data_in_leaf': 215}. Best is trial 1 with value: 65.36.\n"
     ]
    },
    {
     "name": "stdout",
     "output_type": "stream",
     "text": [
      "[600]\tvalid_0's ER: 69.27\n",
      "Early stopping, best iteration is:\n",
      "[480]\tvalid_0's ER: 69.27\n",
      "Evaluated only: ER\n",
      "**************** regression_l1 ****************\n",
      "Training until validation scores don't improve for 91 rounds\n",
      "[100]\tvalid_0's ER: 97.73\n",
      "[200]\tvalid_0's ER: 96.49\n",
      "[300]\tvalid_0's ER: 95.82\n",
      "[400]\tvalid_0's ER: 95.41\n",
      "[500]\tvalid_0's ER: 94.97\n",
      "[600]\tvalid_0's ER: 94.54\n",
      "[700]\tvalid_0's ER: 94.13\n",
      "[800]\tvalid_0's ER: 93.22\n",
      "[900]\tvalid_0's ER: 92.63\n",
      "[1000]\tvalid_0's ER: 92.33\n",
      "[1100]\tvalid_0's ER: 92.23\n",
      "[1200]\tvalid_0's ER: 91.98\n",
      "[1300]\tvalid_0's ER: 91.86\n",
      "[1400]\tvalid_0's ER: 91.75\n",
      "[1500]\tvalid_0's ER: 91.58\n",
      "[1600]\tvalid_0's ER: 91.53\n",
      "[1700]\tvalid_0's ER: 91.43\n",
      "[1800]\tvalid_0's ER: 91.37\n",
      "[1900]\tvalid_0's ER: 91.26\n",
      "[2000]\tvalid_0's ER: 91.18\n",
      "[2100]\tvalid_0's ER: 91.1\n",
      "[2200]\tvalid_0's ER: 91\n",
      "[2300]\tvalid_0's ER: 90.94\n",
      "[2400]\tvalid_0's ER: 90.79\n",
      "[2500]\tvalid_0's ER: 90.74\n",
      "[2600]\tvalid_0's ER: 90.6\n",
      "[2700]\tvalid_0's ER: 90.53\n",
      "[2800]\tvalid_0's ER: 90.45\n",
      "[2900]\tvalid_0's ER: 90.39\n",
      "[3000]\tvalid_0's ER: 90.27\n",
      "[3100]\tvalid_0's ER: 90.25\n",
      "[3200]\tvalid_0's ER: 90.17\n",
      "[3300]\tvalid_0's ER: 90.1\n",
      "[3400]\tvalid_0's ER: 90.06\n",
      "[3500]\tvalid_0's ER: 89.99\n",
      "[3600]\tvalid_0's ER: 89.89\n",
      "[3700]\tvalid_0's ER: 89.83\n",
      "[3800]\tvalid_0's ER: 89.73\n",
      "[3900]\tvalid_0's ER: 89.66\n",
      "[4000]\tvalid_0's ER: 89.63\n",
      "[4100]\tvalid_0's ER: 89.61\n",
      "[4200]\tvalid_0's ER: 89.53\n",
      "[4300]\tvalid_0's ER: 89.48\n",
      "[4400]\tvalid_0's ER: 89.43\n",
      "[4500]\tvalid_0's ER: 89.35\n",
      "[4600]\tvalid_0's ER: 89.3\n",
      "[4700]\tvalid_0's ER: 89.25\n",
      "[4800]\tvalid_0's ER: 89.18\n",
      "[4900]\tvalid_0's ER: 89.14\n",
      "[5000]\tvalid_0's ER: 89.07\n",
      "[5100]\tvalid_0's ER: 89.06\n",
      "[5200]\tvalid_0's ER: 89.01\n",
      "[5300]\tvalid_0's ER: 88.99\n",
      "[5400]\tvalid_0's ER: 88.97\n",
      "[5500]\tvalid_0's ER: 88.95\n",
      "Early stopping, best iteration is:\n",
      "[5449]\tvalid_0's ER: 88.95\n",
      "Evaluated only: ER\n"
     ]
    },
    {
     "name": "stderr",
     "output_type": "stream",
     "text": [
      "[I 2023-12-16 02:49:27,812] Trial 3 finished with value: 88.95 and parameters: {'lambda_l1': 214.6145731701614, 'lambda_l2': 490.89278424050895, 'learning_rate': 0.11985031941066729, 'num_leaves': 94, 'feature_fraction': 0.5499629549594245, 'min_data_in_leaf': 5387}. Best is trial 1 with value: 65.36.\n"
     ]
    },
    {
     "name": "stdout",
     "output_type": "stream",
     "text": [
      "**************** regression_l1 ****************\n",
      "Training until validation scores don't improve for 83 rounds\n"
     ]
    },
    {
     "name": "stderr",
     "output_type": "stream",
     "text": [
      "[I 2023-12-16 02:49:29,007] Trial 4 finished with value: 100.0 and parameters: {'lambda_l1': 498.03527142841864, 'lambda_l2': 740.4492079071513, 'learning_rate': 0.14732688972483338, 'num_leaves': 740, 'feature_fraction': 0.9359698349128112, 'min_data_in_leaf': 7586}. Best is trial 1 with value: 65.36.\n"
     ]
    },
    {
     "name": "stdout",
     "output_type": "stream",
     "text": [
      "Early stopping, best iteration is:\n",
      "[1]\tvalid_0's ER: 100\n",
      "Evaluated only: ER\n",
      "**************** regression_l1 ****************\n",
      "Training until validation scores don't improve for 73 rounds\n",
      "[100]\tvalid_0's ER: 94.25\n",
      "[200]\tvalid_0's ER: 94.19\n",
      "[300]\tvalid_0's ER: 93.87\n",
      "[400]\tvalid_0's ER: 93.79\n",
      "[500]\tvalid_0's ER: 92.3\n"
     ]
    },
    {
     "name": "stderr",
     "output_type": "stream",
     "text": [
      "[I 2023-12-16 02:49:33,322] Trial 5 finished with value: 92.24 and parameters: {'lambda_l1': 959.4194343137497, 'lambda_l2': 873.8873802731684, 'learning_rate': 0.21214440554384192, 'num_leaves': 834, 'feature_fraction': 0.36926782505465705, 'min_data_in_leaf': 3328}. Best is trial 1 with value: 65.36.\n"
     ]
    },
    {
     "name": "stdout",
     "output_type": "stream",
     "text": [
      "Early stopping, best iteration is:\n",
      "[508]\tvalid_0's ER: 92.24\n",
      "Evaluated only: ER\n",
      "**************** regression_l1 ****************\n",
      "Training until validation scores don't improve for 133 rounds\n",
      "[100]\tvalid_0's ER: 96.16\n",
      "[200]\tvalid_0's ER: 95.22\n",
      "[300]\tvalid_0's ER: 94.82\n",
      "[400]\tvalid_0's ER: 94.5\n",
      "[500]\tvalid_0's ER: 94.2\n",
      "[600]\tvalid_0's ER: 93.63\n",
      "[700]\tvalid_0's ER: 93.15\n",
      "[800]\tvalid_0's ER: 92.79\n",
      "[900]\tvalid_0's ER: 92.54\n",
      "[1000]\tvalid_0's ER: 92.34\n",
      "[1100]\tvalid_0's ER: 92.18\n",
      "[1200]\tvalid_0's ER: 92.11\n",
      "[1300]\tvalid_0's ER: 91.88\n",
      "[1400]\tvalid_0's ER: 91.66\n",
      "[1500]\tvalid_0's ER: 91.48\n",
      "[1600]\tvalid_0's ER: 91.4\n",
      "[1700]\tvalid_0's ER: 91.23\n",
      "[1800]\tvalid_0's ER: 91.05\n",
      "[1900]\tvalid_0's ER: 90.93\n",
      "[2000]\tvalid_0's ER: 90.82\n",
      "[2100]\tvalid_0's ER: 90.76\n",
      "[2200]\tvalid_0's ER: 90.62\n",
      "[2300]\tvalid_0's ER: 90.55\n",
      "[2400]\tvalid_0's ER: 90.48\n",
      "[2500]\tvalid_0's ER: 90.4\n",
      "[2600]\tvalid_0's ER: 90.32\n",
      "[2700]\tvalid_0's ER: 90.22\n",
      "[2800]\tvalid_0's ER: 90.1\n",
      "[2900]\tvalid_0's ER: 90.04\n",
      "[3000]\tvalid_0's ER: 89.97\n",
      "[3100]\tvalid_0's ER: 89.91\n",
      "[3200]\tvalid_0's ER: 89.83\n",
      "[3300]\tvalid_0's ER: 89.78\n",
      "[3400]\tvalid_0's ER: 89.67\n",
      "[3500]\tvalid_0's ER: 89.63\n",
      "[3600]\tvalid_0's ER: 89.54\n",
      "[3700]\tvalid_0's ER: 89.52\n",
      "[3800]\tvalid_0's ER: 89.47\n",
      "[3900]\tvalid_0's ER: 89.42\n",
      "[4000]\tvalid_0's ER: 89.37\n",
      "[4100]\tvalid_0's ER: 89.29\n",
      "[4200]\tvalid_0's ER: 89.26\n",
      "[4300]\tvalid_0's ER: 89.2\n",
      "[4400]\tvalid_0's ER: 89.17\n",
      "[4500]\tvalid_0's ER: 89.14\n",
      "[4600]\tvalid_0's ER: 89.06\n",
      "[4700]\tvalid_0's ER: 89.05\n",
      "[4800]\tvalid_0's ER: 89.01\n",
      "[4900]\tvalid_0's ER: 88.98\n",
      "[5000]\tvalid_0's ER: 88.95\n",
      "[5100]\tvalid_0's ER: 88.94\n",
      "[5200]\tvalid_0's ER: 88.91\n",
      "[5300]\tvalid_0's ER: 88.87\n",
      "[5400]\tvalid_0's ER: 88.83\n",
      "[5500]\tvalid_0's ER: 88.77\n",
      "[5600]\tvalid_0's ER: 88.73\n",
      "[5700]\tvalid_0's ER: 88.68\n",
      "[5800]\tvalid_0's ER: 88.64\n",
      "[5900]\tvalid_0's ER: 88.61\n",
      "[6000]\tvalid_0's ER: 88.55\n",
      "[6100]\tvalid_0's ER: 88.49\n",
      "[6200]\tvalid_0's ER: 88.45\n",
      "[6300]\tvalid_0's ER: 88.4\n",
      "[6400]\tvalid_0's ER: 88.37\n",
      "[6500]\tvalid_0's ER: 88.35\n",
      "[6600]\tvalid_0's ER: 88.32\n",
      "[6700]\tvalid_0's ER: 88.28\n",
      "[6800]\tvalid_0's ER: 88.25\n",
      "[6900]\tvalid_0's ER: 88.2\n",
      "[7000]\tvalid_0's ER: 88.13\n",
      "[7100]\tvalid_0's ER: 88.1\n",
      "[7200]\tvalid_0's ER: 88.09\n",
      "[7300]\tvalid_0's ER: 88.07\n",
      "[7400]\tvalid_0's ER: 88\n",
      "[7500]\tvalid_0's ER: 87.97\n",
      "[7600]\tvalid_0's ER: 87.95\n",
      "[7700]\tvalid_0's ER: 87.9\n",
      "[7800]\tvalid_0's ER: 87.87\n",
      "[7900]\tvalid_0's ER: 87.86\n",
      "[8000]\tvalid_0's ER: 87.82\n",
      "[8100]\tvalid_0's ER: 87.8\n",
      "[8200]\tvalid_0's ER: 87.76\n",
      "[8300]\tvalid_0's ER: 87.72\n",
      "[8400]\tvalid_0's ER: 87.72\n",
      "[8500]\tvalid_0's ER: 87.69\n",
      "[8600]\tvalid_0's ER: 87.65\n",
      "[8700]\tvalid_0's ER: 87.63\n",
      "[8800]\tvalid_0's ER: 87.59\n",
      "[8900]\tvalid_0's ER: 87.57\n",
      "[9000]\tvalid_0's ER: 87.53\n",
      "[9100]\tvalid_0's ER: 87.5\n",
      "[9200]\tvalid_0's ER: 87.48\n",
      "[9300]\tvalid_0's ER: 87.47\n",
      "[9400]\tvalid_0's ER: 87.44\n",
      "[9500]\tvalid_0's ER: 87.41\n",
      "[9600]\tvalid_0's ER: 87.38\n",
      "[9700]\tvalid_0's ER: 87.35\n",
      "[9800]\tvalid_0's ER: 87.33\n",
      "[9900]\tvalid_0's ER: 87.32\n",
      "[10000]\tvalid_0's ER: 87.31\n",
      "Did not meet early stopping. Best iteration is:\n",
      "[9923]\tvalid_0's ER: 87.31\n",
      "Evaluated only: ER\n"
     ]
    },
    {
     "name": "stderr",
     "output_type": "stream",
     "text": [
      "[I 2023-12-16 02:50:29,350] Trial 6 finished with value: 87.31 and parameters: {'lambda_l1': 231.58075724905513, 'lambda_l2': 725.1857640950392, 'learning_rate': 0.06007712376244997, 'num_leaves': 56, 'feature_fraction': 0.29905480157337855, 'min_data_in_leaf': 4942}. Best is trial 1 with value: 65.36.\n"
     ]
    },
    {
     "name": "stdout",
     "output_type": "stream",
     "text": [
      "**************** regression_l1 ****************\n",
      "Training until validation scores don't improve for 68 rounds\n",
      "[100]\tvalid_0's ER: 98.09\n",
      "[200]\tvalid_0's ER: 97.07\n",
      "[300]\tvalid_0's ER: 95.93\n",
      "[400]\tvalid_0's ER: 95.3\n",
      "[500]\tvalid_0's ER: 94.77\n",
      "[600]\tvalid_0's ER: 94.45\n",
      "[700]\tvalid_0's ER: 94.07\n",
      "[800]\tvalid_0's ER: 93.82\n",
      "[900]\tvalid_0's ER: 93.57\n",
      "[1000]\tvalid_0's ER: 93.34\n",
      "[1100]\tvalid_0's ER: 93.08\n",
      "[1200]\tvalid_0's ER: 92.92\n",
      "[1300]\tvalid_0's ER: 92.78\n",
      "[1400]\tvalid_0's ER: 92.59\n",
      "[1500]\tvalid_0's ER: 92.47\n",
      "[1600]\tvalid_0's ER: 92.34\n",
      "[1700]\tvalid_0's ER: 92.28\n",
      "[1800]\tvalid_0's ER: 92.13\n",
      "[1900]\tvalid_0's ER: 92.02\n",
      "[2000]\tvalid_0's ER: 91.9\n",
      "[2100]\tvalid_0's ER: 91.8\n",
      "[2200]\tvalid_0's ER: 91.68\n",
      "[2300]\tvalid_0's ER: 91.51\n",
      "[2400]\tvalid_0's ER: 91.38\n",
      "[2500]\tvalid_0's ER: 91.23\n",
      "[2600]\tvalid_0's ER: 91.16\n",
      "[2700]\tvalid_0's ER: 91.03\n",
      "[2800]\tvalid_0's ER: 90.95\n",
      "[2900]\tvalid_0's ER: 90.89\n",
      "Early stopping, best iteration is:\n",
      "[2852]\tvalid_0's ER: 90.88\n",
      "Evaluated only: ER\n"
     ]
    },
    {
     "name": "stderr",
     "output_type": "stream",
     "text": [
      "[I 2023-12-16 02:50:56,492] Trial 7 finished with value: 90.88 and parameters: {'lambda_l1': 325.2841576590696, 'lambda_l2': 747.9199062475508, 'learning_rate': 0.2745871345947224, 'num_leaves': 636, 'feature_fraction': 0.6905602994122428, 'min_data_in_leaf': 7269}. Best is trial 1 with value: 65.36.\n"
     ]
    },
    {
     "name": "stdout",
     "output_type": "stream",
     "text": [
      "**************** regression_l1 ****************\n",
      "Training until validation scores don't improve for 81 rounds\n"
     ]
    },
    {
     "name": "stderr",
     "output_type": "stream",
     "text": [
      "[I 2023-12-16 02:50:57,611] Trial 8 finished with value: 100.0 and parameters: {'lambda_l1': 981.5687079201549, 'lambda_l2': 542.1088481458038, 'learning_rate': 0.15723666860507424, 'num_leaves': 117, 'feature_fraction': 0.9774646256319817, 'min_data_in_leaf': 5088}. Best is trial 1 with value: 65.36.\n"
     ]
    },
    {
     "name": "stdout",
     "output_type": "stream",
     "text": [
      "Early stopping, best iteration is:\n",
      "[1]\tvalid_0's ER: 100\n",
      "Evaluated only: ER\n",
      "**************** regression_l1 ****************\n",
      "Training until validation scores don't improve for 90 rounds\n",
      "[100]\tvalid_0's ER: 97.2\n",
      "[200]\tvalid_0's ER: 96.97\n",
      "[300]\tvalid_0's ER: 96.89\n",
      "[400]\tvalid_0's ER: 96.51\n",
      "[500]\tvalid_0's ER: 96.27\n",
      "[600]\tvalid_0's ER: 96.12\n",
      "[700]\tvalid_0's ER: 95.75\n",
      "[800]\tvalid_0's ER: 95.56\n",
      "[900]\tvalid_0's ER: 95.18\n",
      "[1000]\tvalid_0's ER: 94.96\n",
      "[1100]\tvalid_0's ER: 94.81\n",
      "[1200]\tvalid_0's ER: 94.68\n",
      "[1300]\tvalid_0's ER: 94.48\n",
      "[1400]\tvalid_0's ER: 94.35\n",
      "[1500]\tvalid_0's ER: 94.28\n",
      "[1600]\tvalid_0's ER: 94.12\n",
      "[1700]\tvalid_0's ER: 93.98\n",
      "[1800]\tvalid_0's ER: 93.87\n",
      "[1900]\tvalid_0's ER: 93.77\n",
      "[2000]\tvalid_0's ER: 93.61\n",
      "[2100]\tvalid_0's ER: 93.5\n",
      "[2200]\tvalid_0's ER: 93.43\n",
      "[2300]\tvalid_0's ER: 93.3\n",
      "[2400]\tvalid_0's ER: 93.22\n",
      "[2500]\tvalid_0's ER: 93.14\n",
      "[2600]\tvalid_0's ER: 93.05\n",
      "[2700]\tvalid_0's ER: 92.94\n",
      "[2800]\tvalid_0's ER: 92.81\n",
      "[2900]\tvalid_0's ER: 92.69\n",
      "[3000]\tvalid_0's ER: 92.62\n",
      "[3100]\tvalid_0's ER: 92.55\n",
      "[3200]\tvalid_0's ER: 92.44\n",
      "[3300]\tvalid_0's ER: 92.36\n",
      "[3400]\tvalid_0's ER: 92.29\n",
      "[3500]\tvalid_0's ER: 92.22\n",
      "[3600]\tvalid_0's ER: 92.09\n",
      "[3700]\tvalid_0's ER: 91.97\n",
      "[3800]\tvalid_0's ER: 91.88\n",
      "[3900]\tvalid_0's ER: 91.8\n",
      "[4000]\tvalid_0's ER: 91.74\n",
      "[4100]\tvalid_0's ER: 91.64\n",
      "[4200]\tvalid_0's ER: 91.56\n",
      "[4300]\tvalid_0's ER: 91.43\n",
      "[4400]\tvalid_0's ER: 91.33\n",
      "[4500]\tvalid_0's ER: 91.23\n",
      "[4600]\tvalid_0's ER: 91.12\n",
      "[4700]\tvalid_0's ER: 91.05\n",
      "[4800]\tvalid_0's ER: 90.97\n",
      "[4900]\tvalid_0's ER: 90.9\n",
      "[5000]\tvalid_0's ER: 90.83\n",
      "[5100]\tvalid_0's ER: 90.75\n",
      "[5200]\tvalid_0's ER: 90.65\n",
      "[5300]\tvalid_0's ER: 90.58\n",
      "[5400]\tvalid_0's ER: 90.5\n",
      "[5500]\tvalid_0's ER: 90.42\n",
      "[5600]\tvalid_0's ER: 90.36\n",
      "[5700]\tvalid_0's ER: 90.31\n",
      "[5800]\tvalid_0's ER: 90.22\n",
      "[5900]\tvalid_0's ER: 90.11\n",
      "[6000]\tvalid_0's ER: 90.02\n",
      "[6100]\tvalid_0's ER: 89.91\n",
      "[6200]\tvalid_0's ER: 89.84\n",
      "[6300]\tvalid_0's ER: 89.76\n",
      "[6400]\tvalid_0's ER: 89.63\n",
      "[6500]\tvalid_0's ER: 89.57\n",
      "[6600]\tvalid_0's ER: 89.49\n",
      "[6700]\tvalid_0's ER: 89.45\n",
      "[6800]\tvalid_0's ER: 89.38\n",
      "[6900]\tvalid_0's ER: 89.3\n",
      "[7000]\tvalid_0's ER: 89.24\n",
      "[7100]\tvalid_0's ER: 89.19\n",
      "[7200]\tvalid_0's ER: 89.14\n",
      "[7300]\tvalid_0's ER: 89.09\n",
      "[7400]\tvalid_0's ER: 89.06\n",
      "[7500]\tvalid_0's ER: 89.01\n",
      "[7600]\tvalid_0's ER: 88.95\n",
      "[7700]\tvalid_0's ER: 88.91\n",
      "[7800]\tvalid_0's ER: 88.87\n",
      "[7900]\tvalid_0's ER: 88.82\n",
      "[8000]\tvalid_0's ER: 88.77\n",
      "[8100]\tvalid_0's ER: 88.74\n",
      "[8200]\tvalid_0's ER: 88.7\n",
      "[8300]\tvalid_0's ER: 88.64\n",
      "[8400]\tvalid_0's ER: 88.6\n",
      "[8500]\tvalid_0's ER: 88.55\n",
      "[8600]\tvalid_0's ER: 88.5\n",
      "[8700]\tvalid_0's ER: 88.46\n",
      "[8800]\tvalid_0's ER: 88.4\n",
      "[8900]\tvalid_0's ER: 88.37\n",
      "[9000]\tvalid_0's ER: 88.32\n",
      "[9100]\tvalid_0's ER: 88.26\n",
      "[9200]\tvalid_0's ER: 88.24\n",
      "[9300]\tvalid_0's ER: 88.18\n",
      "[9400]\tvalid_0's ER: 88.14\n",
      "[9500]\tvalid_0's ER: 88.11\n",
      "[9600]\tvalid_0's ER: 88.08\n",
      "[9700]\tvalid_0's ER: 88.03\n",
      "[9800]\tvalid_0's ER: 88\n",
      "[9900]\tvalid_0's ER: 87.97\n",
      "[10000]\tvalid_0's ER: 87.94\n",
      "Did not meet early stopping. Best iteration is:\n",
      "[9948]\tvalid_0's ER: 87.94\n",
      "Evaluated only: ER\n"
     ]
    },
    {
     "name": "stderr",
     "output_type": "stream",
     "text": [
      "[I 2023-12-16 02:52:05,305] Trial 9 finished with value: 87.94 and parameters: {'lambda_l1': 131.69457538027808, 'lambda_l2': 216.37397342265763, 'learning_rate': 0.1248834645668622, 'num_leaves': 325, 'feature_fraction': 0.4607253073496724, 'min_data_in_leaf': 7032}. Best is trial 1 with value: 65.36.\n"
     ]
    },
    {
     "name": "stdout",
     "output_type": "stream",
     "text": [
      "# Experimentos: 10\n",
      "Mejor experimento: {'lambda_l1': 411.91310184626127, 'lambda_l2': 990.9166333223177, 'learning_rate': 0.03783415665714628, 'num_leaves': 175, 'feature_fraction': 0.8494671065484078, 'min_data_in_leaf': 142}\n",
      "=========================================== Cluster 17 ===========================================\n"
     ]
    },
    {
     "name": "stderr",
     "output_type": "stream",
     "text": [
      "[I 2023-12-16 02:52:08,503] A new study created in memory with name: no-name-2bb2ff82-fceb-4ac6-adab-c5743cb764bf\n"
     ]
    },
    {
     "name": "stdout",
     "output_type": "stream",
     "text": [
      "Periodos entrenar: [201701 201702 201703 201704 201705 201706 201707 201708 201709 201710\n",
      " 201711 201712 201801 201802 201803 201804 201805 201806 201807 201808\n",
      " 201809 201810 201811 201812 201901 201902 201903 201904 201905]\n",
      "Periodos validar: [201907]\n",
      "product_id a validar: 4060\n",
      "X_train: (97179, 120)\n",
      "y_train: (97179,)\n",
      "\n",
      "X_validate: (4060, 120)\n",
      "y_validate: (4060,)\n",
      "Optimizacion Bayesiana\n",
      "**************** regression_l1 ****************\n",
      "Training until validation scores don't improve for 72 rounds\n"
     ]
    },
    {
     "name": "stderr",
     "output_type": "stream",
     "text": [
      "[I 2023-12-16 02:52:10,061] Trial 0 finished with value: 100.0 and parameters: {'lambda_l1': 965.8585166045478, 'lambda_l2': 906.5561037908441, 'learning_rate': 0.21765001608518528, 'num_leaves': 1015, 'feature_fraction': 0.6312211539408987, 'min_data_in_leaf': 1259}. Best is trial 0 with value: 100.0.\n"
     ]
    },
    {
     "name": "stdout",
     "output_type": "stream",
     "text": [
      "Early stopping, best iteration is:\n",
      "[1]\tvalid_0's ER: 100\n",
      "Evaluated only: ER\n",
      "**************** regression_l1 ****************\n",
      "Training until validation scores don't improve for 67 rounds\n"
     ]
    },
    {
     "name": "stderr",
     "output_type": "stream",
     "text": [
      "[I 2023-12-16 02:52:11,228] Trial 1 finished with value: 99.86 and parameters: {'lambda_l1': 327.41929406481415, 'lambda_l2': 755.143200174441, 'learning_rate': 0.28698054781107796, 'num_leaves': 638, 'feature_fraction': 0.2519381832117965, 'min_data_in_leaf': 7828}. Best is trial 1 with value: 99.86.\n"
     ]
    },
    {
     "name": "stdout",
     "output_type": "stream",
     "text": [
      "Early stopping, best iteration is:\n",
      "[14]\tvalid_0's ER: 99.86\n",
      "Evaluated only: ER\n",
      "**************** regression_l1 ****************\n",
      "Training until validation scores don't improve for 89 rounds\n"
     ]
    },
    {
     "name": "stderr",
     "output_type": "stream",
     "text": [
      "[I 2023-12-16 02:52:12,522] Trial 2 finished with value: 100.0 and parameters: {'lambda_l1': 982.870356453313, 'lambda_l2': 664.9299675956064, 'learning_rate': 0.127827857209062, 'num_leaves': 123, 'feature_fraction': 0.34721201987257844, 'min_data_in_leaf': 1814}. Best is trial 1 with value: 99.86.\n"
     ]
    },
    {
     "name": "stdout",
     "output_type": "stream",
     "text": [
      "Early stopping, best iteration is:\n",
      "[1]\tvalid_0's ER: 100\n",
      "Evaluated only: ER\n",
      "**************** regression_l1 ****************\n",
      "Training until validation scores don't improve for 96 rounds\n",
      "[100]\tvalid_0's ER: 99.95\n",
      "[200]\tvalid_0's ER: 99.59\n",
      "[300]\tvalid_0's ER: 99.57\n"
     ]
    },
    {
     "name": "stderr",
     "output_type": "stream",
     "text": [
      "[I 2023-12-16 02:52:16,614] Trial 3 finished with value: 99.57 and parameters: {'lambda_l1': 736.4753681146932, 'lambda_l2': 111.78984811919513, 'learning_rate': 0.10857023493217963, 'num_leaves': 50, 'feature_fraction': 0.29355988227216684, 'min_data_in_leaf': 3665}. Best is trial 3 with value: 99.57.\n"
     ]
    },
    {
     "name": "stdout",
     "output_type": "stream",
     "text": [
      "Early stopping, best iteration is:\n",
      "[290]\tvalid_0's ER: 99.57\n",
      "Evaluated only: ER\n",
      "**************** regression_l1 ****************\n",
      "Training until validation scores don't improve for 108 rounds\n",
      "[100]\tvalid_0's ER: 99.35\n",
      "[200]\tvalid_0's ER: 99.28\n",
      "[300]\tvalid_0's ER: 99.24\n",
      "[400]\tvalid_0's ER: 99.1\n",
      "[500]\tvalid_0's ER: 99\n",
      "[600]\tvalid_0's ER: 99\n"
     ]
    },
    {
     "name": "stderr",
     "output_type": "stream",
     "text": [
      "[I 2023-12-16 02:52:23,575] Trial 4 finished with value: 98.97 and parameters: {'lambda_l1': 4.699424512750405, 'lambda_l2': 632.421003572672, 'learning_rate': 0.08501764011159199, 'num_leaves': 137, 'feature_fraction': 0.43446130743733913, 'min_data_in_leaf': 5272}. Best is trial 4 with value: 98.97.\n"
     ]
    },
    {
     "name": "stdout",
     "output_type": "stream",
     "text": [
      "Early stopping, best iteration is:\n",
      "[512]\tvalid_0's ER: 98.97\n",
      "Evaluated only: ER\n",
      "**************** regression_l1 ****************\n",
      "Training until validation scores don't improve for 92 rounds\n"
     ]
    },
    {
     "name": "stderr",
     "output_type": "stream",
     "text": [
      "[I 2023-12-16 02:52:25,418] Trial 5 finished with value: 99.91 and parameters: {'lambda_l1': 406.1211202134678, 'lambda_l2': 8.583838029971979, 'learning_rate': 0.11819537191890418, 'num_leaves': 784, 'feature_fraction': 0.9997865143182512, 'min_data_in_leaf': 5971}. Best is trial 4 with value: 98.97.\n"
     ]
    },
    {
     "name": "stdout",
     "output_type": "stream",
     "text": [
      "Early stopping, best iteration is:\n",
      "[2]\tvalid_0's ER: 99.91\n",
      "Evaluated only: ER\n",
      "**************** regression_l1 ****************\n",
      "Training until validation scores don't improve for 198 rounds\n",
      "[100]\tvalid_0's ER: 96.5\n",
      "[200]\tvalid_0's ER: 91.05\n",
      "[300]\tvalid_0's ER: 90.59\n",
      "[400]\tvalid_0's ER: 88.52\n",
      "[500]\tvalid_0's ER: 88.15\n",
      "[600]\tvalid_0's ER: 88.03\n",
      "[700]\tvalid_0's ER: 87.94\n",
      "[800]\tvalid_0's ER: 87.56\n",
      "[900]\tvalid_0's ER: 87.07\n",
      "[1000]\tvalid_0's ER: 87.01\n",
      "[1100]\tvalid_0's ER: 86.98\n",
      "[1200]\tvalid_0's ER: 86.97\n",
      "[1300]\tvalid_0's ER: 86.97\n",
      "Early stopping, best iteration is:\n",
      "[1163]\tvalid_0's ER: 86.97\n",
      "Evaluated only: ER\n"
     ]
    },
    {
     "name": "stderr",
     "output_type": "stream",
     "text": [
      "[I 2023-12-16 02:52:42,036] Trial 6 finished with value: 86.97 and parameters: {'lambda_l1': 393.0335155631193, 'lambda_l2': 940.016586067263, 'learning_rate': 0.033582142704092044, 'num_leaves': 212, 'feature_fraction': 0.31666094217888646, 'min_data_in_leaf': 716}. Best is trial 6 with value: 86.97.\n"
     ]
    },
    {
     "name": "stdout",
     "output_type": "stream",
     "text": [
      "**************** regression_l1 ****************\n",
      "Training until validation scores don't improve for 77 rounds\n",
      "[100]\tvalid_0's ER: 96.64\n",
      "[200]\tvalid_0's ER: 92.41\n",
      "[300]\tvalid_0's ER: 91.79\n",
      "[400]\tvalid_0's ER: 91.22\n",
      "[500]\tvalid_0's ER: 90.89\n",
      "[600]\tvalid_0's ER: 90.57\n",
      "[700]\tvalid_0's ER: 90.19\n",
      "[800]\tvalid_0's ER: 89.74\n",
      "[900]\tvalid_0's ER: 89.48\n",
      "[1000]\tvalid_0's ER: 89.41\n",
      "[1100]\tvalid_0's ER: 89.28\n",
      "[1200]\tvalid_0's ER: 89.16\n",
      "[1300]\tvalid_0's ER: 89.03\n",
      "[1400]\tvalid_0's ER: 88.97\n",
      "[1500]\tvalid_0's ER: 88.89\n",
      "[1600]\tvalid_0's ER: 88.83\n",
      "[1700]\tvalid_0's ER: 88.77\n",
      "[1800]\tvalid_0's ER: 88.7\n",
      "[1900]\tvalid_0's ER: 88.64\n",
      "[2000]\tvalid_0's ER: 88.52\n",
      "[2100]\tvalid_0's ER: 88.47\n",
      "[2200]\tvalid_0's ER: 88.41\n",
      "[2300]\tvalid_0's ER: 88.37\n",
      "[2400]\tvalid_0's ER: 88.33\n",
      "Early stopping, best iteration is:\n",
      "[2399]\tvalid_0's ER: 88.32\n",
      "Evaluated only: ER\n"
     ]
    },
    {
     "name": "stderr",
     "output_type": "stream",
     "text": [
      "[I 2023-12-16 02:53:11,011] Trial 7 finished with value: 88.32 and parameters: {'lambda_l1': 63.50916098168224, 'lambda_l2': 560.5184481820077, 'learning_rate': 0.18456760159934907, 'num_leaves': 680, 'feature_fraction': 0.47734269131176943, 'min_data_in_leaf': 2144}. Best is trial 6 with value: 86.97.\n"
     ]
    },
    {
     "name": "stdout",
     "output_type": "stream",
     "text": [
      "**************** regression_l1 ****************\n",
      "Training until validation scores don't improve for 261 rounds\n",
      "[100]\tvalid_0's ER: 100\n",
      "[200]\tvalid_0's ER: 100\n"
     ]
    },
    {
     "name": "stderr",
     "output_type": "stream",
     "text": [
      "[I 2023-12-16 02:53:13,255] Trial 8 finished with value: 100.0 and parameters: {'lambda_l1': 731.3152480698442, 'lambda_l2': 542.9183113849319, 'learning_rate': 0.023682733778756855, 'num_leaves': 263, 'feature_fraction': 0.22947003462960583, 'min_data_in_leaf': 4274}. Best is trial 6 with value: 86.97.\n"
     ]
    },
    {
     "name": "stdout",
     "output_type": "stream",
     "text": [
      "Early stopping, best iteration is:\n",
      "[1]\tvalid_0's ER: 100\n",
      "Evaluated only: ER\n",
      "**************** regression_l1 ****************\n",
      "Training until validation scores don't improve for 68 rounds\n"
     ]
    },
    {
     "name": "stderr",
     "output_type": "stream",
     "text": [
      "[I 2023-12-16 02:53:15,964] Trial 9 finished with value: 98.5 and parameters: {'lambda_l1': 618.7548666824439, 'lambda_l2': 17.53291406182278, 'learning_rate': 0.27752725060859734, 'num_leaves': 541, 'feature_fraction': 0.8744783610631219, 'min_data_in_leaf': 365}. Best is trial 6 with value: 86.97.\n"
     ]
    },
    {
     "name": "stdout",
     "output_type": "stream",
     "text": [
      "Early stopping, best iteration is:\n",
      "[2]\tvalid_0's ER: 98.5\n",
      "Evaluated only: ER\n",
      "# Experimentos: 10\n",
      "Mejor experimento: {'lambda_l1': 393.0335155631193, 'lambda_l2': 940.016586067263, 'learning_rate': 0.033582142704092044, 'num_leaves': 212, 'feature_fraction': 0.31666094217888646, 'min_data_in_leaf': 716}\n",
      "=========================================== Cluster 18 ===========================================\n"
     ]
    },
    {
     "name": "stderr",
     "output_type": "stream",
     "text": [
      "[I 2023-12-16 02:53:19,059] A new study created in memory with name: no-name-74f2dace-8f3d-4a34-9231-bfb0be0def2d\n"
     ]
    },
    {
     "name": "stdout",
     "output_type": "stream",
     "text": [
      "Periodos entrenar: [201701 201702 201703 201704 201705 201706 201707 201708 201709 201710\n",
      " 201711 201712 201801 201802 201803 201804 201805 201806 201807 201808\n",
      " 201809 201810 201811 201812 201901 201902 201903 201904 201905]\n",
      "Periodos validar: [201907]\n",
      "product_id a validar: 5220\n",
      "X_train: (86115, 120)\n",
      "y_train: (86115,)\n",
      "\n",
      "X_validate: (5220, 120)\n",
      "y_validate: (5220,)\n",
      "Optimizacion Bayesiana\n",
      "**************** regression_l1 ****************\n",
      "Training until validation scores don't improve for 119 rounds\n",
      "[100]\tvalid_0's ER: 94.55\n"
     ]
    },
    {
     "name": "stderr",
     "output_type": "stream",
     "text": [
      "[I 2023-12-16 02:53:23,104] Trial 0 finished with value: 94.48 and parameters: {'lambda_l1': 44.849577113394986, 'lambda_l2': 360.67545597575366, 'learning_rate': 0.07184670108027293, 'num_leaves': 484, 'feature_fraction': 0.9874798654582448, 'min_data_in_leaf': 1990}. Best is trial 0 with value: 94.48.\n"
     ]
    },
    {
     "name": "stdout",
     "output_type": "stream",
     "text": [
      "[200]\tvalid_0's ER: 95.04\n",
      "Early stopping, best iteration is:\n",
      "[82]\tvalid_0's ER: 94.48\n",
      "Evaluated only: ER\n",
      "**************** regression_l1 ****************\n",
      "Training until validation scores don't improve for 68 rounds\n"
     ]
    },
    {
     "name": "stderr",
     "output_type": "stream",
     "text": [
      "[I 2023-12-16 02:53:24,401] Trial 1 finished with value: 100.0 and parameters: {'lambda_l1': 931.9377420008957, 'lambda_l2': 238.36461074241345, 'learning_rate': 0.2661485849034245, 'num_leaves': 952, 'feature_fraction': 0.5802325760325582, 'min_data_in_leaf': 4397}. Best is trial 0 with value: 94.48.\n"
     ]
    },
    {
     "name": "stdout",
     "output_type": "stream",
     "text": [
      "Early stopping, best iteration is:\n",
      "[1]\tvalid_0's ER: 100\n",
      "Evaluated only: ER\n",
      "**************** regression_l1 ****************\n",
      "Training until validation scores don't improve for 179 rounds\n",
      "[100]\tvalid_0's ER: 100\n"
     ]
    },
    {
     "name": "stderr",
     "output_type": "stream",
     "text": [
      "[I 2023-12-16 02:53:26,670] Trial 2 finished with value: 100.0 and parameters: {'lambda_l1': 836.6462938193972, 'lambda_l2': 954.191139429209, 'learning_rate': 0.038599985850427225, 'num_leaves': 986, 'feature_fraction': 0.5031378040990657, 'min_data_in_leaf': 1353}. Best is trial 0 with value: 94.48.\n"
     ]
    },
    {
     "name": "stdout",
     "output_type": "stream",
     "text": [
      "Early stopping, best iteration is:\n",
      "[1]\tvalid_0's ER: 100\n",
      "Evaluated only: ER\n",
      "**************** regression_l1 ****************\n",
      "Training until validation scores don't improve for 83 rounds\n",
      "[100]\tvalid_0's ER: 96.03\n",
      "[200]\tvalid_0's ER: 95.63\n"
     ]
    },
    {
     "name": "stderr",
     "output_type": "stream",
     "text": [
      "[I 2023-12-16 02:53:29,825] Trial 3 finished with value: 95.63 and parameters: {'lambda_l1': 38.71714750408128, 'lambda_l2': 923.4063962219433, 'learning_rate': 0.15046791685847047, 'num_leaves': 286, 'feature_fraction': 0.3640499737246925, 'min_data_in_leaf': 3579}. Best is trial 0 with value: 94.48.\n"
     ]
    },
    {
     "name": "stdout",
     "output_type": "stream",
     "text": [
      "Early stopping, best iteration is:\n",
      "[195]\tvalid_0's ER: 95.63\n",
      "Evaluated only: ER\n",
      "**************** regression_l1 ****************\n",
      "Training until validation scores don't improve for 67 rounds\n",
      "[100]\tvalid_0's ER: 97.98\n"
     ]
    },
    {
     "name": "stderr",
     "output_type": "stream",
     "text": [
      "[I 2023-12-16 02:53:32,930] Trial 4 finished with value: 97.96 and parameters: {'lambda_l1': 114.03053204328472, 'lambda_l2': 438.54098620240535, 'learning_rate': 0.28541433854049025, 'num_leaves': 737, 'feature_fraction': 0.7041854448928935, 'min_data_in_leaf': 6521}. Best is trial 0 with value: 94.48.\n"
     ]
    },
    {
     "name": "stdout",
     "output_type": "stream",
     "text": [
      "Early stopping, best iteration is:\n",
      "[123]\tvalid_0's ER: 97.96\n",
      "Evaluated only: ER\n",
      "**************** regression_l1 ****************\n",
      "Training until validation scores don't improve for 101 rounds\n",
      "[100]\tvalid_0's ER: 99.15\n",
      "[200]\tvalid_0's ER: 98.94\n",
      "[300]\tvalid_0's ER: 98.61\n",
      "[400]\tvalid_0's ER: 98.56\n",
      "[500]\tvalid_0's ER: 98.44\n",
      "[600]\tvalid_0's ER: 98.33\n",
      "[700]\tvalid_0's ER: 98.26\n",
      "[800]\tvalid_0's ER: 98.24\n",
      "[900]\tvalid_0's ER: 98.22\n"
     ]
    },
    {
     "name": "stderr",
     "output_type": "stream",
     "text": [
      "[I 2023-12-16 02:53:46,477] Trial 5 finished with value: 98.22 and parameters: {'lambda_l1': 346.59179869186573, 'lambda_l2': 664.270492936405, 'learning_rate': 0.09692173672855504, 'num_leaves': 877, 'feature_fraction': 0.6483192495347858, 'min_data_in_leaf': 7190}. Best is trial 0 with value: 94.48.\n"
     ]
    },
    {
     "name": "stdout",
     "output_type": "stream",
     "text": [
      "Early stopping, best iteration is:\n",
      "[896]\tvalid_0's ER: 98.22\n",
      "Evaluated only: ER\n",
      "**************** regression_l1 ****************\n",
      "Training until validation scores don't improve for 161 rounds\n",
      "[100]\tvalid_0's ER: 100\n"
     ]
    },
    {
     "name": "stderr",
     "output_type": "stream",
     "text": [
      "[I 2023-12-16 02:53:48,747] Trial 6 finished with value: 100.0 and parameters: {'lambda_l1': 829.0439571643559, 'lambda_l2': 245.47994074018897, 'learning_rate': 0.04473092656718032, 'num_leaves': 630, 'feature_fraction': 0.5836925442750283, 'min_data_in_leaf': 3454}. Best is trial 0 with value: 94.48.\n"
     ]
    },
    {
     "name": "stdout",
     "output_type": "stream",
     "text": [
      "Early stopping, best iteration is:\n",
      "[1]\tvalid_0's ER: 100\n",
      "Evaluated only: ER\n",
      "**************** regression_l1 ****************\n",
      "Training until validation scores don't improve for 107 rounds\n",
      "[100]\tvalid_0's ER: 98.16\n",
      "[200]\tvalid_0's ER: 97.64\n"
     ]
    },
    {
     "name": "stderr",
     "output_type": "stream",
     "text": [
      "[I 2023-12-16 02:53:53,507] Trial 7 finished with value: 97.64 and parameters: {'lambda_l1': 8.326006441767507, 'lambda_l2': 224.2222923537992, 'learning_rate': 0.08652198748835856, 'num_leaves': 58, 'feature_fraction': 0.791515039042169, 'min_data_in_leaf': 5746}. Best is trial 0 with value: 94.48.\n"
     ]
    },
    {
     "name": "stdout",
     "output_type": "stream",
     "text": [
      "[300]\tvalid_0's ER: 97.64\n",
      "Early stopping, best iteration is:\n",
      "[197]\tvalid_0's ER: 97.64\n",
      "Evaluated only: ER\n",
      "**************** regression_l1 ****************\n",
      "Training until validation scores don't improve for 69 rounds\n"
     ]
    },
    {
     "name": "stderr",
     "output_type": "stream",
     "text": [
      "[I 2023-12-16 02:53:54,875] Trial 8 finished with value: 100.0 and parameters: {'lambda_l1': 753.2169769017471, 'lambda_l2': 713.281897285514, 'learning_rate': 0.2507936537912233, 'num_leaves': 366, 'feature_fraction': 0.7826959114282921, 'min_data_in_leaf': 4396}. Best is trial 0 with value: 94.48.\n"
     ]
    },
    {
     "name": "stdout",
     "output_type": "stream",
     "text": [
      "Early stopping, best iteration is:\n",
      "[1]\tvalid_0's ER: 100\n",
      "Evaluated only: ER\n",
      "**************** regression_l1 ****************\n",
      "Training until validation scores don't improve for 69 rounds\n",
      "[100]\tvalid_0's ER: 97.09\n",
      "[200]\tvalid_0's ER: 97.07\n",
      "[300]\tvalid_0's ER: 97.04\n"
     ]
    },
    {
     "name": "stderr",
     "output_type": "stream",
     "text": [
      "[I 2023-12-16 02:53:58,500] Trial 9 finished with value: 97.0 and parameters: {'lambda_l1': 104.24613923218618, 'lambda_l2': 711.8701363962264, 'learning_rate': 0.25053056566367043, 'num_leaves': 765, 'feature_fraction': 0.30188543844297966, 'min_data_in_leaf': 4337}. Best is trial 0 with value: 94.48.\n"
     ]
    },
    {
     "name": "stdout",
     "output_type": "stream",
     "text": [
      "Early stopping, best iteration is:\n",
      "[304]\tvalid_0's ER: 97\n",
      "Evaluated only: ER\n",
      "# Experimentos: 10\n",
      "Mejor experimento: {'lambda_l1': 44.849577113394986, 'lambda_l2': 360.67545597575366, 'learning_rate': 0.07184670108027293, 'num_leaves': 484, 'feature_fraction': 0.9874798654582448, 'min_data_in_leaf': 1990}\n",
      "=========================================== Cluster 19 ===========================================\n"
     ]
    },
    {
     "name": "stderr",
     "output_type": "stream",
     "text": [
      "[I 2023-12-16 02:54:00,410] A new study created in memory with name: no-name-aa20e11f-af16-42eb-974d-d234fe2b42c8\n"
     ]
    },
    {
     "name": "stdout",
     "output_type": "stream",
     "text": [
      "Periodos entrenar: [201701 201702 201703 201704 201705 201706 201707 201708 201709 201710\n",
      " 201711 201712 201801 201802 201803 201804 201805 201806 201807 201808\n",
      " 201809 201810 201811 201812 201901 201902 201903 201904 201905]\n",
      "Periodos validar: [201907]\n",
      "product_id a validar: 2320\n",
      "X_train: (61828, 120)\n",
      "y_train: (61828,)\n",
      "\n",
      "X_validate: (2320, 120)\n",
      "y_validate: (2320,)\n",
      "Optimizacion Bayesiana\n",
      "**************** regression_l1 ****************\n",
      "Training until validation scores don't improve for 82 rounds\n",
      "[100]\tvalid_0's ER: 82.99\n",
      "[200]\tvalid_0's ER: 81.18\n",
      "[300]\tvalid_0's ER: 80.28\n",
      "[400]\tvalid_0's ER: 79.81\n",
      "[500]\tvalid_0's ER: 79.6\n",
      "[600]\tvalid_0's ER: 79.34\n",
      "[700]\tvalid_0's ER: 78.97\n",
      "[800]\tvalid_0's ER: 78.52\n"
     ]
    },
    {
     "name": "stderr",
     "output_type": "stream",
     "text": [
      "[I 2023-12-16 02:54:08,663] Trial 0 finished with value: 78.52 and parameters: {'lambda_l1': 380.7368305869058, 'lambda_l2': 269.18241588370483, 'learning_rate': 0.15478182365047172, 'num_leaves': 481, 'feature_fraction': 0.668832797434699, 'min_data_in_leaf': 2637}. Best is trial 0 with value: 78.52.\n"
     ]
    },
    {
     "name": "stdout",
     "output_type": "stream",
     "text": [
      "Early stopping, best iteration is:\n",
      "[795]\tvalid_0's ER: 78.52\n",
      "Evaluated only: ER\n",
      "**************** regression_l1 ****************\n",
      "Training until validation scores don't improve for 77 rounds\n",
      "[100]\tvalid_0's ER: 86.62\n",
      "[200]\tvalid_0's ER: 86.29\n",
      "[300]\tvalid_0's ER: 84.03\n",
      "[400]\tvalid_0's ER: 83.58\n",
      "[500]\tvalid_0's ER: 83.39\n",
      "[600]\tvalid_0's ER: 83.37\n",
      "Early stopping, best iteration is:\n",
      "[546]\tvalid_0's ER: 83.36\n",
      "Evaluated only: ER\n"
     ]
    },
    {
     "name": "stderr",
     "output_type": "stream",
     "text": [
      "[I 2023-12-16 02:54:14,231] Trial 1 finished with value: 83.36 and parameters: {'lambda_l1': 255.6805216083059, 'lambda_l2': 672.9078151901261, 'learning_rate': 0.18206355981436892, 'num_leaves': 123, 'feature_fraction': 0.6749704430555852, 'min_data_in_leaf': 4141}. Best is trial 0 with value: 78.52.\n"
     ]
    },
    {
     "name": "stdout",
     "output_type": "stream",
     "text": [
      "**************** regression_l1 ****************\n",
      "Training until validation scores don't improve for 413 rounds\n",
      "[100]\tvalid_0's ER: 94.07\n",
      "[200]\tvalid_0's ER: 93.79\n",
      "[300]\tvalid_0's ER: 93.69\n",
      "[400]\tvalid_0's ER: 93.54\n",
      "[500]\tvalid_0's ER: 93.49\n",
      "[600]\tvalid_0's ER: 92.95\n",
      "[700]\tvalid_0's ER: 92.49\n",
      "[800]\tvalid_0's ER: 92.2\n",
      "[900]\tvalid_0's ER: 92.01\n",
      "[1000]\tvalid_0's ER: 91.84\n",
      "[1100]\tvalid_0's ER: 91.67\n",
      "[1200]\tvalid_0's ER: 91.49\n",
      "[1300]\tvalid_0's ER: 91.34\n",
      "[1400]\tvalid_0's ER: 91.2\n",
      "[1500]\tvalid_0's ER: 91.14\n",
      "[1600]\tvalid_0's ER: 91.1\n",
      "[1700]\tvalid_0's ER: 91\n",
      "[1800]\tvalid_0's ER: 90.92\n",
      "[1900]\tvalid_0's ER: 90.78\n",
      "[2000]\tvalid_0's ER: 90.64\n",
      "[2100]\tvalid_0's ER: 90.46\n",
      "[2200]\tvalid_0's ER: 90.32\n",
      "[2300]\tvalid_0's ER: 90.17\n",
      "[2400]\tvalid_0's ER: 90.07\n",
      "[2500]\tvalid_0's ER: 89.93\n",
      "[2600]\tvalid_0's ER: 89.78\n",
      "[2700]\tvalid_0's ER: 89.64\n",
      "[2800]\tvalid_0's ER: 89.49\n",
      "[2900]\tvalid_0's ER: 89.38\n",
      "[3000]\tvalid_0's ER: 89.32\n",
      "[3100]\tvalid_0's ER: 89.28\n",
      "[3200]\tvalid_0's ER: 89.24\n",
      "[3300]\tvalid_0's ER: 89.22\n",
      "[3400]\tvalid_0's ER: 89.2\n",
      "[3500]\tvalid_0's ER: 89.17\n",
      "[3600]\tvalid_0's ER: 89.12\n",
      "[3700]\tvalid_0's ER: 89.04\n",
      "[3800]\tvalid_0's ER: 89.02\n",
      "[3900]\tvalid_0's ER: 89\n",
      "[4000]\tvalid_0's ER: 88.99\n",
      "[4100]\tvalid_0's ER: 88.96\n",
      "[4200]\tvalid_0's ER: 88.94\n",
      "[4300]\tvalid_0's ER: 88.94\n",
      "[4400]\tvalid_0's ER: 88.93\n",
      "[4500]\tvalid_0's ER: 88.9\n",
      "[4600]\tvalid_0's ER: 88.89\n",
      "[4700]\tvalid_0's ER: 88.85\n",
      "[4800]\tvalid_0's ER: 88.85\n",
      "[4900]\tvalid_0's ER: 88.83\n",
      "[5000]\tvalid_0's ER: 88.81\n",
      "[5100]\tvalid_0's ER: 88.8\n",
      "[5200]\tvalid_0's ER: 88.79\n",
      "[5300]\tvalid_0's ER: 88.78\n",
      "[5400]\tvalid_0's ER: 88.77\n",
      "[5500]\tvalid_0's ER: 88.76\n",
      "[5600]\tvalid_0's ER: 88.75\n",
      "[5700]\tvalid_0's ER: 88.73\n",
      "[5800]\tvalid_0's ER: 88.71\n",
      "[5900]\tvalid_0's ER: 88.69\n",
      "[6000]\tvalid_0's ER: 88.68\n",
      "[6100]\tvalid_0's ER: 88.68\n",
      "[6200]\tvalid_0's ER: 88.65\n",
      "[6300]\tvalid_0's ER: 88.65\n",
      "[6400]\tvalid_0's ER: 88.63\n",
      "[6500]\tvalid_0's ER: 88.62\n",
      "[6600]\tvalid_0's ER: 88.61\n",
      "[6700]\tvalid_0's ER: 88.6\n",
      "[6800]\tvalid_0's ER: 88.59\n",
      "[6900]\tvalid_0's ER: 88.58\n",
      "[7000]\tvalid_0's ER: 88.57\n",
      "[7100]\tvalid_0's ER: 88.56\n",
      "[7200]\tvalid_0's ER: 88.55\n",
      "[7300]\tvalid_0's ER: 88.51\n",
      "[7400]\tvalid_0's ER: 88.5\n",
      "[7500]\tvalid_0's ER: 88.49\n",
      "[7600]\tvalid_0's ER: 88.48\n",
      "[7700]\tvalid_0's ER: 88.48\n",
      "[7800]\tvalid_0's ER: 88.47\n",
      "[7900]\tvalid_0's ER: 88.47\n",
      "[8000]\tvalid_0's ER: 88.45\n",
      "[8100]\tvalid_0's ER: 88.43\n",
      "[8200]\tvalid_0's ER: 88.4\n",
      "[8300]\tvalid_0's ER: 88.39\n",
      "[8400]\tvalid_0's ER: 88.38\n",
      "[8500]\tvalid_0's ER: 88.38\n",
      "[8600]\tvalid_0's ER: 88.36\n",
      "[8700]\tvalid_0's ER: 88.35\n",
      "[8800]\tvalid_0's ER: 88.33\n",
      "[8900]\tvalid_0's ER: 88.31\n",
      "[9000]\tvalid_0's ER: 88.29\n",
      "[9100]\tvalid_0's ER: 88.27\n",
      "[9200]\tvalid_0's ER: 88.26\n",
      "[9300]\tvalid_0's ER: 88.24\n",
      "[9400]\tvalid_0's ER: 88.22\n",
      "[9500]\tvalid_0's ER: 88.21\n",
      "[9600]\tvalid_0's ER: 88.2\n",
      "[9700]\tvalid_0's ER: 88.19\n",
      "[9800]\tvalid_0's ER: 88.18\n",
      "[9900]\tvalid_0's ER: 88.16\n",
      "[10000]\tvalid_0's ER: 88.14\n",
      "Did not meet early stopping. Best iteration is:\n",
      "[9989]\tvalid_0's ER: 88.14\n",
      "Evaluated only: ER\n"
     ]
    },
    {
     "name": "stderr",
     "output_type": "stream",
     "text": [
      "[I 2023-12-16 02:55:32,213] Trial 2 finished with value: 88.14 and parameters: {'lambda_l1': 404.5339342861961, 'lambda_l2': 428.28742762342955, 'learning_rate': 0.013743212248836066, 'num_leaves': 926, 'feature_fraction': 0.7439027959072637, 'min_data_in_leaf': 6540}. Best is trial 0 with value: 78.52.\n"
     ]
    },
    {
     "name": "stdout",
     "output_type": "stream",
     "text": [
      "**************** regression_l1 ****************\n",
      "Training until validation scores don't improve for 68 rounds\n",
      "[100]\tvalid_0's ER: 93.29\n",
      "[200]\tvalid_0's ER: 92.48\n",
      "[300]\tvalid_0's ER: 92.43\n",
      "Early stopping, best iteration is:\n",
      "[270]\tvalid_0's ER: 92.39\n",
      "Evaluated only: ER\n"
     ]
    },
    {
     "name": "stderr",
     "output_type": "stream",
     "text": [
      "[I 2023-12-16 02:55:34,318] Trial 3 finished with value: 92.39 and parameters: {'lambda_l1': 855.0738939717066, 'lambda_l2': 902.3194384356195, 'learning_rate': 0.266052009743466, 'num_leaves': 840, 'feature_fraction': 0.36873127935981487, 'min_data_in_leaf': 6535}. Best is trial 0 with value: 78.52.\n"
     ]
    },
    {
     "name": "stdout",
     "output_type": "stream",
     "text": [
      "**************** regression_l1 ****************\n",
      "Training until validation scores don't improve for 77 rounds\n",
      "[100]\tvalid_0's ER: 85.98\n",
      "[200]\tvalid_0's ER: 84.39\n",
      "[300]\tvalid_0's ER: 83.46\n",
      "[400]\tvalid_0's ER: 82.92\n",
      "[500]\tvalid_0's ER: 82.52\n",
      "[600]\tvalid_0's ER: 82.33\n",
      "[700]\tvalid_0's ER: 81.86\n"
     ]
    },
    {
     "name": "stderr",
     "output_type": "stream",
     "text": [
      "[I 2023-12-16 02:55:41,446] Trial 4 finished with value: 81.64 and parameters: {'lambda_l1': 413.5753498846321, 'lambda_l2': 477.4522544139577, 'learning_rate': 0.18189193111070381, 'num_leaves': 157, 'feature_fraction': 0.6295668386411757, 'min_data_in_leaf': 3828}. Best is trial 0 with value: 78.52.\n"
     ]
    },
    {
     "name": "stdout",
     "output_type": "stream",
     "text": [
      "[800]\tvalid_0's ER: 81.65\n",
      "Early stopping, best iteration is:\n",
      "[732]\tvalid_0's ER: 81.64\n",
      "Evaluated only: ER\n",
      "**************** regression_l1 ****************\n",
      "Training until validation scores don't improve for 75 rounds\n",
      "[100]\tvalid_0's ER: 84.46\n"
     ]
    },
    {
     "name": "stderr",
     "output_type": "stream",
     "text": [
      "[I 2023-12-16 02:55:43,149] Trial 5 finished with value: 84.44 and parameters: {'lambda_l1': 877.544531161299, 'lambda_l2': 663.19570666531, 'learning_rate': 0.19657535588661695, 'num_leaves': 61, 'feature_fraction': 0.5035136513187202, 'min_data_in_leaf': 2485}. Best is trial 0 with value: 78.52.\n"
     ]
    },
    {
     "name": "stdout",
     "output_type": "stream",
     "text": [
      "[200]\tvalid_0's ER: 84.46\n",
      "Early stopping, best iteration is:\n",
      "[130]\tvalid_0's ER: 84.44\n",
      "Evaluated only: ER\n",
      "**************** regression_l1 ****************\n",
      "Training until validation scores don't improve for 73 rounds\n",
      "[100]\tvalid_0's ER: 80.91\n",
      "[200]\tvalid_0's ER: 78.91\n",
      "[300]\tvalid_0's ER: 77.95\n",
      "[400]\tvalid_0's ER: 77.1\n",
      "[500]\tvalid_0's ER: 76.5\n",
      "[600]\tvalid_0's ER: 76.31\n",
      "[700]\tvalid_0's ER: 75.86\n",
      "[800]\tvalid_0's ER: 75.56\n"
     ]
    },
    {
     "name": "stderr",
     "output_type": "stream",
     "text": [
      "[I 2023-12-16 02:55:52,750] Trial 6 finished with value: 75.54 and parameters: {'lambda_l1': 122.886915918625, 'lambda_l2': 544.8345990838624, 'learning_rate': 0.2103807309733253, 'num_leaves': 807, 'feature_fraction': 0.6081866002508579, 'min_data_in_leaf': 2482}. Best is trial 6 with value: 75.54.\n"
     ]
    },
    {
     "name": "stdout",
     "output_type": "stream",
     "text": [
      "Early stopping, best iteration is:\n",
      "[764]\tvalid_0's ER: 75.54\n",
      "Evaluated only: ER\n",
      "**************** regression_l1 ****************\n",
      "Training until validation scores don't improve for 78 rounds\n"
     ]
    },
    {
     "name": "stderr",
     "output_type": "stream",
     "text": [
      "[I 2023-12-16 02:55:54,095] Trial 7 finished with value: 96.67 and parameters: {'lambda_l1': 874.8621151007981, 'lambda_l2': 454.1134109858237, 'learning_rate': 0.17440742674157214, 'num_leaves': 634, 'feature_fraction': 0.9988485013063526, 'min_data_in_leaf': 7448}. Best is trial 6 with value: 75.54.\n"
     ]
    },
    {
     "name": "stdout",
     "output_type": "stream",
     "text": [
      "Early stopping, best iteration is:\n",
      "[9]\tvalid_0's ER: 96.67\n",
      "Evaluated only: ER\n",
      "**************** regression_l1 ****************\n",
      "Training until validation scores don't improve for 371 rounds\n",
      "[100]\tvalid_0's ER: 94.45\n",
      "[200]\tvalid_0's ER: 94.27\n",
      "[300]\tvalid_0's ER: 94.27\n",
      "[400]\tvalid_0's ER: 94.24\n",
      "[500]\tvalid_0's ER: 94.15\n",
      "[600]\tvalid_0's ER: 94.09\n",
      "[700]\tvalid_0's ER: 94.01\n",
      "[800]\tvalid_0's ER: 93.91\n",
      "[900]\tvalid_0's ER: 93.84\n",
      "[1000]\tvalid_0's ER: 93.72\n",
      "[1100]\tvalid_0's ER: 93.52\n",
      "[1200]\tvalid_0's ER: 93.41\n",
      "[1300]\tvalid_0's ER: 93.26\n",
      "[1400]\tvalid_0's ER: 93.23\n",
      "[1500]\tvalid_0's ER: 93.2\n",
      "[1600]\tvalid_0's ER: 93.11\n",
      "[1700]\tvalid_0's ER: 92.9\n",
      "[1800]\tvalid_0's ER: 92.66\n",
      "[1900]\tvalid_0's ER: 92.43\n",
      "[2000]\tvalid_0's ER: 92.11\n",
      "[2100]\tvalid_0's ER: 91.97\n",
      "[2200]\tvalid_0's ER: 91.81\n",
      "[2300]\tvalid_0's ER: 91.78\n",
      "[2400]\tvalid_0's ER: 91.57\n",
      "[2500]\tvalid_0's ER: 91.45\n",
      "[2600]\tvalid_0's ER: 91.29\n",
      "[2700]\tvalid_0's ER: 91.08\n",
      "[2800]\tvalid_0's ER: 90.98\n",
      "[2900]\tvalid_0's ER: 90.89\n",
      "[3000]\tvalid_0's ER: 90.74\n",
      "[3100]\tvalid_0's ER: 90.69\n",
      "[3200]\tvalid_0's ER: 90.63\n",
      "[3300]\tvalid_0's ER: 90.57\n",
      "[3400]\tvalid_0's ER: 90.52\n",
      "[3500]\tvalid_0's ER: 90.49\n",
      "[3600]\tvalid_0's ER: 90.45\n",
      "[3700]\tvalid_0's ER: 90.37\n",
      "[3800]\tvalid_0's ER: 90.33\n",
      "[3900]\tvalid_0's ER: 90.31\n",
      "[4000]\tvalid_0's ER: 90.29\n",
      "[4100]\tvalid_0's ER: 90.27\n",
      "[4200]\tvalid_0's ER: 90.24\n",
      "[4300]\tvalid_0's ER: 90.21\n",
      "[4400]\tvalid_0's ER: 90.19\n",
      "[4500]\tvalid_0's ER: 90.17\n",
      "[4600]\tvalid_0's ER: 90.13\n",
      "[4700]\tvalid_0's ER: 90.09\n",
      "[4800]\tvalid_0's ER: 90.06\n",
      "[4900]\tvalid_0's ER: 90.02\n",
      "[5000]\tvalid_0's ER: 89.99\n",
      "[5100]\tvalid_0's ER: 89.96\n",
      "[5200]\tvalid_0's ER: 89.91\n",
      "[5300]\tvalid_0's ER: 89.86\n",
      "[5400]\tvalid_0's ER: 89.84\n",
      "[5500]\tvalid_0's ER: 89.8\n",
      "[5600]\tvalid_0's ER: 89.76\n",
      "[5700]\tvalid_0's ER: 89.73\n",
      "[5800]\tvalid_0's ER: 89.7\n",
      "[5900]\tvalid_0's ER: 89.7\n",
      "[6000]\tvalid_0's ER: 89.66\n",
      "[6100]\tvalid_0's ER: 89.58\n",
      "[6200]\tvalid_0's ER: 89.56\n",
      "[6300]\tvalid_0's ER: 89.56\n",
      "[6400]\tvalid_0's ER: 89.57\n",
      "[6500]\tvalid_0's ER: 89.54\n",
      "[6600]\tvalid_0's ER: 89.5\n",
      "[6700]\tvalid_0's ER: 89.46\n",
      "[6800]\tvalid_0's ER: 89.45\n",
      "[6900]\tvalid_0's ER: 89.45\n",
      "[7000]\tvalid_0's ER: 89.41\n",
      "[7100]\tvalid_0's ER: 89.37\n",
      "[7200]\tvalid_0's ER: 89.38\n",
      "[7300]\tvalid_0's ER: 89.38\n",
      "[7400]\tvalid_0's ER: 89.3\n",
      "[7500]\tvalid_0's ER: 89.26\n",
      "[7600]\tvalid_0's ER: 89.22\n",
      "[7700]\tvalid_0's ER: 89.21\n",
      "[7800]\tvalid_0's ER: 89.2\n",
      "[7900]\tvalid_0's ER: 89.2\n",
      "[8000]\tvalid_0's ER: 89.2\n",
      "[8100]\tvalid_0's ER: 89.19\n",
      "[8200]\tvalid_0's ER: 89.16\n",
      "[8300]\tvalid_0's ER: 89.13\n",
      "[8400]\tvalid_0's ER: 89.1\n",
      "[8500]\tvalid_0's ER: 89.07\n",
      "[8600]\tvalid_0's ER: 89.05\n",
      "[8700]\tvalid_0's ER: 89.03\n",
      "[8800]\tvalid_0's ER: 89.01\n",
      "[8900]\tvalid_0's ER: 88.98\n",
      "[9000]\tvalid_0's ER: 88.97\n",
      "[9100]\tvalid_0's ER: 88.95\n",
      "[9200]\tvalid_0's ER: 88.94\n",
      "[9300]\tvalid_0's ER: 88.91\n",
      "[9400]\tvalid_0's ER: 88.91\n",
      "[9500]\tvalid_0's ER: 88.89\n",
      "[9600]\tvalid_0's ER: 88.87\n",
      "[9700]\tvalid_0's ER: 88.86\n",
      "[9800]\tvalid_0's ER: 88.85\n",
      "[9900]\tvalid_0's ER: 88.85\n",
      "[10000]\tvalid_0's ER: 88.81\n",
      "Did not meet early stopping. Best iteration is:\n",
      "[9999]\tvalid_0's ER: 88.81\n",
      "Evaluated only: ER\n"
     ]
    },
    {
     "name": "stderr",
     "output_type": "stream",
     "text": [
      "[I 2023-12-16 02:56:58,363] Trial 8 finished with value: 88.81 and parameters: {'lambda_l1': 260.124279592042, 'lambda_l2': 442.6757239453361, 'learning_rate': 0.015556658660312903, 'num_leaves': 348, 'feature_fraction': 0.5184520515346228, 'min_data_in_leaf': 7063}. Best is trial 6 with value: 75.54.\n"
     ]
    },
    {
     "name": "stdout",
     "output_type": "stream",
     "text": [
      "**************** regression_l1 ****************\n",
      "Training until validation scores don't improve for 141 rounds\n",
      "[100]\tvalid_0's ER: 90.18\n",
      "[200]\tvalid_0's ER: 88.57\n",
      "[300]\tvalid_0's ER: 88.36\n",
      "[400]\tvalid_0's ER: 88.32\n",
      "[500]\tvalid_0's ER: 88.3\n",
      "[600]\tvalid_0's ER: 88.25\n"
     ]
    },
    {
     "name": "stderr",
     "output_type": "stream",
     "text": [
      "[I 2023-12-16 02:57:02,342] Trial 9 finished with value: 88.25 and parameters: {'lambda_l1': 753.1343672843643, 'lambda_l2': 26.103654685826537, 'learning_rate': 0.05467862020255459, 'num_leaves': 393, 'feature_fraction': 0.363203961139938, 'min_data_in_leaf': 4770}. Best is trial 6 with value: 75.54.\n"
     ]
    },
    {
     "name": "stdout",
     "output_type": "stream",
     "text": [
      "[700]\tvalid_0's ER: 88.25\n",
      "Early stopping, best iteration is:\n",
      "[592]\tvalid_0's ER: 88.25\n",
      "Evaluated only: ER\n",
      "# Experimentos: 10\n",
      "Mejor experimento: {'lambda_l1': 122.886915918625, 'lambda_l2': 544.8345990838624, 'learning_rate': 0.2103807309733253, 'num_leaves': 807, 'feature_fraction': 0.6081866002508579, 'min_data_in_leaf': 2482}\n",
      "=========================================== Cluster 20 ===========================================\n"
     ]
    },
    {
     "name": "stderr",
     "output_type": "stream",
     "text": [
      "[I 2023-12-16 02:57:06,397] A new study created in memory with name: no-name-ecb7cb2e-939c-4e59-91f6-83ef7007add9\n"
     ]
    },
    {
     "name": "stdout",
     "output_type": "stream",
     "text": [
      "Periodos entrenar: [201701 201702 201703 201704 201705 201706 201707 201708 201709 201710\n",
      " 201711 201712 201801 201802 201803 201804 201805 201806 201807 201808\n",
      " 201809 201810 201811 201812 201901 201902 201903 201904 201905]\n",
      "Periodos validar: [201907]\n",
      "product_id a validar: 5800\n",
      "X_train: (119905, 120)\n",
      "y_train: (119905,)\n",
      "\n",
      "X_validate: (5800, 120)\n",
      "y_validate: (5800,)\n",
      "Optimizacion Bayesiana\n",
      "**************** regression_l1 ****************\n",
      "Training until validation scores don't improve for 66 rounds\n"
     ]
    },
    {
     "name": "stderr",
     "output_type": "stream",
     "text": [
      "[I 2023-12-16 02:57:08,749] Trial 0 finished with value: 96.46 and parameters: {'lambda_l1': 104.40359522372167, 'lambda_l2': 720.107804552916, 'learning_rate': 0.2944849355753882, 'num_leaves': 948, 'feature_fraction': 0.9760299613688208, 'min_data_in_leaf': 5992}. Best is trial 0 with value: 96.46.\n"
     ]
    },
    {
     "name": "stdout",
     "output_type": "stream",
     "text": [
      "Early stopping, best iteration is:\n",
      "[18]\tvalid_0's ER: 96.46\n",
      "Evaluated only: ER\n",
      "**************** regression_l1 ****************\n",
      "Training until validation scores don't improve for 73 rounds\n",
      "[100]\tvalid_0's ER: 94.64\n",
      "[200]\tvalid_0's ER: 94.34\n"
     ]
    },
    {
     "name": "stderr",
     "output_type": "stream",
     "text": [
      "[I 2023-12-16 02:57:11,764] Trial 1 finished with value: 94.33 and parameters: {'lambda_l1': 887.5312900225413, 'lambda_l2': 678.8217027734071, 'learning_rate': 0.2094467524431755, 'num_leaves': 661, 'feature_fraction': 0.23323315925092772, 'min_data_in_leaf': 5877}. Best is trial 1 with value: 94.33.\n"
     ]
    },
    {
     "name": "stdout",
     "output_type": "stream",
     "text": [
      "Early stopping, best iteration is:\n",
      "[170]\tvalid_0's ER: 94.33\n",
      "Evaluated only: ER\n",
      "**************** regression_l1 ****************\n",
      "Training until validation scores don't improve for 193 rounds\n",
      "[100]\tvalid_0's ER: 99.98\n"
     ]
    },
    {
     "name": "stderr",
     "output_type": "stream",
     "text": [
      "[I 2023-12-16 02:57:15,760] Trial 2 finished with value: 99.98 and parameters: {'lambda_l1': 700.538257591538, 'lambda_l2': 747.0568897091918, 'learning_rate': 0.03495293138840037, 'num_leaves': 991, 'feature_fraction': 0.9990166035993326, 'min_data_in_leaf': 7763}. Best is trial 1 with value: 94.33.\n"
     ]
    },
    {
     "name": "stdout",
     "output_type": "stream",
     "text": [
      "Early stopping, best iteration is:\n",
      "[1]\tvalid_0's ER: 99.98\n",
      "Evaluated only: ER\n",
      "**************** regression_l1 ****************\n",
      "Training until validation scores don't improve for 137 rounds\n",
      "[100]\tvalid_0's ER: 96.67\n",
      "[200]\tvalid_0's ER: 96.6\n",
      "[300]\tvalid_0's ER: 96.54\n",
      "[400]\tvalid_0's ER: 96.48\n",
      "[500]\tvalid_0's ER: 96.36\n",
      "[600]\tvalid_0's ER: 96.13\n",
      "[700]\tvalid_0's ER: 95.97\n",
      "[800]\tvalid_0's ER: 95.86\n",
      "[900]\tvalid_0's ER: 95.81\n",
      "[1000]\tvalid_0's ER: 95.57\n",
      "[1100]\tvalid_0's ER: 95.33\n",
      "[1200]\tvalid_0's ER: 95.18\n",
      "[1300]\tvalid_0's ER: 95.12\n",
      "[1400]\tvalid_0's ER: 94.9\n",
      "[1500]\tvalid_0's ER: 94.73\n",
      "[1600]\tvalid_0's ER: 94.67\n",
      "[1700]\tvalid_0's ER: 94.65\n",
      "[1800]\tvalid_0's ER: 94.6\n",
      "[1900]\tvalid_0's ER: 94.59\n",
      "[2000]\tvalid_0's ER: 94.52\n",
      "[2100]\tvalid_0's ER: 94.44\n",
      "[2200]\tvalid_0's ER: 94.37\n",
      "[2300]\tvalid_0's ER: 94.29\n",
      "[2400]\tvalid_0's ER: 94.18\n",
      "[2500]\tvalid_0's ER: 94.16\n",
      "Early stopping, best iteration is:\n",
      "[2419]\tvalid_0's ER: 94.15\n",
      "Evaluated only: ER\n"
     ]
    },
    {
     "name": "stderr",
     "output_type": "stream",
     "text": [
      "[I 2023-12-16 02:57:45,336] Trial 3 finished with value: 94.15 and parameters: {'lambda_l1': 553.2268359507503, 'lambda_l2': 821.1569575889704, 'learning_rate': 0.05689976964587269, 'num_leaves': 576, 'feature_fraction': 0.36430574839282637, 'min_data_in_leaf': 7619}. Best is trial 3 with value: 94.15.\n"
     ]
    },
    {
     "name": "stdout",
     "output_type": "stream",
     "text": [
      "**************** regression_l1 ****************\n",
      "Training until validation scores don't improve for 287 rounds\n",
      "[100]\tvalid_0's ER: 93.92\n",
      "[200]\tvalid_0's ER: 93.13\n",
      "[300]\tvalid_0's ER: 92.91\n",
      "[400]\tvalid_0's ER: 92.07\n",
      "[500]\tvalid_0's ER: 91.78\n",
      "[600]\tvalid_0's ER: 91.57\n",
      "[700]\tvalid_0's ER: 91.29\n",
      "[800]\tvalid_0's ER: 90.89\n",
      "[900]\tvalid_0's ER: 90.77\n",
      "[1000]\tvalid_0's ER: 90.48\n",
      "[1100]\tvalid_0's ER: 90.35\n",
      "[1200]\tvalid_0's ER: 90.09\n",
      "[1300]\tvalid_0's ER: 89.86\n",
      "[1400]\tvalid_0's ER: 89.7\n",
      "[1500]\tvalid_0's ER: 89.63\n",
      "[1600]\tvalid_0's ER: 89.57\n",
      "[1700]\tvalid_0's ER: 89.49\n",
      "[1800]\tvalid_0's ER: 89.39\n",
      "[1900]\tvalid_0's ER: 89.23\n",
      "[2000]\tvalid_0's ER: 89.18\n",
      "[2100]\tvalid_0's ER: 89.1\n",
      "[2200]\tvalid_0's ER: 89.08\n",
      "[2300]\tvalid_0's ER: 89.04\n",
      "[2400]\tvalid_0's ER: 88.98\n",
      "[2500]\tvalid_0's ER: 88.9\n",
      "[2600]\tvalid_0's ER: 88.78\n",
      "[2700]\tvalid_0's ER: 88.75\n",
      "[2800]\tvalid_0's ER: 88.72\n",
      "[2900]\tvalid_0's ER: 88.64\n",
      "[3000]\tvalid_0's ER: 88.61\n",
      "[3100]\tvalid_0's ER: 88.56\n",
      "[3200]\tvalid_0's ER: 88.45\n",
      "[3300]\tvalid_0's ER: 88.41\n",
      "[3400]\tvalid_0's ER: 88.4\n",
      "[3500]\tvalid_0's ER: 88.36\n",
      "[3600]\tvalid_0's ER: 88.36\n",
      "[3700]\tvalid_0's ER: 88.36\n",
      "Early stopping, best iteration is:\n",
      "[3498]\tvalid_0's ER: 88.36\n",
      "Evaluated only: ER\n"
     ]
    },
    {
     "name": "stderr",
     "output_type": "stream",
     "text": [
      "[I 2023-12-16 02:58:51,650] Trial 4 finished with value: 88.36 and parameters: {'lambda_l1': 440.6882176281994, 'lambda_l2': 303.643720017175, 'learning_rate': 0.021033878647500046, 'num_leaves': 808, 'feature_fraction': 0.5812648254395156, 'min_data_in_leaf': 4194}. Best is trial 4 with value: 88.36.\n"
     ]
    },
    {
     "name": "stdout",
     "output_type": "stream",
     "text": [
      "**************** regression_l1 ****************\n",
      "Training until validation scores don't improve for 82 rounds\n",
      "[100]\tvalid_0's ER: 86.06\n",
      "[200]\tvalid_0's ER: 85.83\n"
     ]
    },
    {
     "name": "stderr",
     "output_type": "stream",
     "text": [
      "[I 2023-12-16 02:58:55,213] Trial 5 finished with value: 85.83 and parameters: {'lambda_l1': 624.260862133516, 'lambda_l2': 629.4529661447739, 'learning_rate': 0.1534867355178842, 'num_leaves': 73, 'feature_fraction': 0.32367568345065767, 'min_data_in_leaf': 1765}. Best is trial 5 with value: 85.83.\n"
     ]
    },
    {
     "name": "stdout",
     "output_type": "stream",
     "text": [
      "Early stopping, best iteration is:\n",
      "[182]\tvalid_0's ER: 85.83\n",
      "Evaluated only: ER\n",
      "**************** regression_l1 ****************\n",
      "Training until validation scores don't improve for 109 rounds\n",
      "[100]\tvalid_0's ER: 95.81\n",
      "[200]\tvalid_0's ER: 95.75\n"
     ]
    },
    {
     "name": "stderr",
     "output_type": "stream",
     "text": [
      "[I 2023-12-16 02:59:01,434] Trial 6 finished with value: 95.7 and parameters: {'lambda_l1': 203.254680791498, 'lambda_l2': 989.4233458764347, 'learning_rate': 0.08357237020071652, 'num_leaves': 494, 'feature_fraction': 0.689756219555244, 'min_data_in_leaf': 6804}. Best is trial 5 with value: 85.83.\n"
     ]
    },
    {
     "name": "stdout",
     "output_type": "stream",
     "text": [
      "Early stopping, best iteration is:\n",
      "[181]\tvalid_0's ER: 95.7\n",
      "Evaluated only: ER\n",
      "**************** regression_l1 ****************\n",
      "Training until validation scores don't improve for 140 rounds\n",
      "[100]\tvalid_0's ER: 86.39\n",
      "[200]\tvalid_0's ER: 86.29\n",
      "[300]\tvalid_0's ER: 86.23\n",
      "[400]\tvalid_0's ER: 86.17\n",
      "[500]\tvalid_0's ER: 86\n",
      "[600]\tvalid_0's ER: 86.03\n"
     ]
    },
    {
     "name": "stderr",
     "output_type": "stream",
     "text": [
      "[I 2023-12-16 02:59:10,454] Trial 7 finished with value: 85.97 and parameters: {'lambda_l1': 362.8119772589926, 'lambda_l2': 343.35949213565107, 'learning_rate': 0.055554839564679964, 'num_leaves': 777, 'feature_fraction': 0.3061613611997162, 'min_data_in_leaf': 1985}. Best is trial 5 with value: 85.83.\n"
     ]
    },
    {
     "name": "stdout",
     "output_type": "stream",
     "text": [
      "Early stopping, best iteration is:\n",
      "[508]\tvalid_0's ER: 85.97\n",
      "Evaluated only: ER\n",
      "**************** regression_l1 ****************\n",
      "Training until validation scores don't improve for 105 rounds\n",
      "[100]\tvalid_0's ER: 88.25\n"
     ]
    },
    {
     "name": "stderr",
     "output_type": "stream",
     "text": [
      "[I 2023-12-16 02:59:13,208] Trial 8 finished with value: 88.2 and parameters: {'lambda_l1': 776.0452437472549, 'lambda_l2': 151.8608066885979, 'learning_rate': 0.089487479202021, 'num_leaves': 741, 'feature_fraction': 0.31071312222461667, 'min_data_in_leaf': 2111}. Best is trial 5 with value: 85.83.\n"
     ]
    },
    {
     "name": "stdout",
     "output_type": "stream",
     "text": [
      "Early stopping, best iteration is:\n",
      "[59]\tvalid_0's ER: 88.2\n",
      "Evaluated only: ER\n",
      "**************** regression_l1 ****************\n",
      "Training until validation scores don't improve for 93 rounds\n",
      "[100]\tvalid_0's ER: 94.97\n",
      "[200]\tvalid_0's ER: 94.86\n"
     ]
    },
    {
     "name": "stderr",
     "output_type": "stream",
     "text": [
      "[I 2023-12-16 02:59:16,892] Trial 9 finished with value: 94.86 and parameters: {'lambda_l1': 667.4304545202708, 'lambda_l2': 439.14532755648884, 'learning_rate': 0.11609498807910365, 'num_leaves': 349, 'feature_fraction': 0.42002270625077953, 'min_data_in_leaf': 5909}. Best is trial 5 with value: 85.83.\n"
     ]
    },
    {
     "name": "stdout",
     "output_type": "stream",
     "text": [
      "Early stopping, best iteration is:\n",
      "[180]\tvalid_0's ER: 94.86\n",
      "Evaluated only: ER\n",
      "# Experimentos: 10\n",
      "Mejor experimento: {'lambda_l1': 624.260862133516, 'lambda_l2': 629.4529661447739, 'learning_rate': 0.1534867355178842, 'num_leaves': 73, 'feature_fraction': 0.32367568345065767, 'min_data_in_leaf': 1765}\n",
      "=========================================== Cluster 21 ===========================================\n"
     ]
    },
    {
     "name": "stderr",
     "output_type": "stream",
     "text": [
      "[I 2023-12-16 02:59:18,885] A new study created in memory with name: no-name-bd06fc67-a447-41b5-af1a-52fb94135645\n"
     ]
    },
    {
     "name": "stdout",
     "output_type": "stream",
     "text": [
      "Periodos entrenar: [201701 201702 201703 201704 201705 201706 201707 201708 201709 201710\n",
      " 201711 201712 201801 201802 201803 201804 201805 201806 201807 201808\n",
      " 201809 201810 201811 201812 201901 201902 201903 201904 201905]\n",
      "Periodos validar: [201907]\n",
      "product_id a validar: 2320\n",
      "X_train: (61828, 120)\n",
      "y_train: (61828,)\n",
      "\n",
      "X_validate: (2320, 120)\n",
      "y_validate: (2320,)\n",
      "Optimizacion Bayesiana\n",
      "**************** regression_l1 ****************\n",
      "Training until validation scores don't improve for 86 rounds\n",
      "[100]\tvalid_0's ER: 92.21\n",
      "[200]\tvalid_0's ER: 91.33\n",
      "[300]\tvalid_0's ER: 90.28\n",
      "[400]\tvalid_0's ER: 89.64\n",
      "[500]\tvalid_0's ER: 89.24\n",
      "[600]\tvalid_0's ER: 88.98\n",
      "[700]\tvalid_0's ER: 88.81\n",
      "[800]\tvalid_0's ER: 88.69\n",
      "[900]\tvalid_0's ER: 88.55\n",
      "[1000]\tvalid_0's ER: 88.43\n",
      "[1100]\tvalid_0's ER: 88.19\n",
      "[1200]\tvalid_0's ER: 88.11\n",
      "Early stopping, best iteration is:\n",
      "[1143]\tvalid_0's ER: 88.03\n",
      "Evaluated only: ER\n"
     ]
    },
    {
     "name": "stderr",
     "output_type": "stream",
     "text": [
      "[I 2023-12-16 02:59:26,055] Trial 0 finished with value: 88.03 and parameters: {'lambda_l1': 79.89251704414002, 'lambda_l2': 660.1364375516997, 'learning_rate': 0.13662483827476898, 'num_leaves': 58, 'feature_fraction': 0.40789913205449874, 'min_data_in_leaf': 6725}. Best is trial 0 with value: 88.03.\n"
     ]
    },
    {
     "name": "stdout",
     "output_type": "stream",
     "text": [
      "**************** regression_l1 ****************\n",
      "Training until validation scores don't improve for 132 rounds\n",
      "[100]\tvalid_0's ER: 100\n"
     ]
    },
    {
     "name": "stderr",
     "output_type": "stream",
     "text": [
      "[I 2023-12-16 02:59:27,448] Trial 1 finished with value: 100.0 and parameters: {'lambda_l1': 701.2967952587879, 'lambda_l2': 976.061295928011, 'learning_rate': 0.060285711229602766, 'num_leaves': 777, 'feature_fraction': 0.7447181265708847, 'min_data_in_leaf': 4561}. Best is trial 0 with value: 88.03.\n"
     ]
    },
    {
     "name": "stdout",
     "output_type": "stream",
     "text": [
      "Early stopping, best iteration is:\n",
      "[1]\tvalid_0's ER: 100\n",
      "Evaluated only: ER\n",
      "**************** regression_l1 ****************\n",
      "Training until validation scores don't improve for 71 rounds\n",
      "[100]\tvalid_0's ER: 90.61\n",
      "[200]\tvalid_0's ER: 90.15\n",
      "[300]\tvalid_0's ER: 88.67\n",
      "[400]\tvalid_0's ER: 87.61\n",
      "[500]\tvalid_0's ER: 87.3\n",
      "[600]\tvalid_0's ER: 87.07\n",
      "[700]\tvalid_0's ER: 86.6\n"
     ]
    },
    {
     "name": "stderr",
     "output_type": "stream",
     "text": [
      "[I 2023-12-16 02:59:32,814] Trial 2 finished with value: 86.31 and parameters: {'lambda_l1': 183.4693206235144, 'lambda_l2': 57.137665464810475, 'learning_rate': 0.23705355560903185, 'num_leaves': 24, 'feature_fraction': 0.4802645077725923, 'min_data_in_leaf': 6328}. Best is trial 2 with value: 86.31.\n"
     ]
    },
    {
     "name": "stdout",
     "output_type": "stream",
     "text": [
      "[800]\tvalid_0's ER: 86.37\n",
      "Early stopping, best iteration is:\n",
      "[740]\tvalid_0's ER: 86.31\n",
      "Evaluated only: ER\n",
      "**************** regression_l1 ****************\n",
      "Training until validation scores don't improve for 90 rounds\n",
      "[100]\tvalid_0's ER: 85.86\n"
     ]
    },
    {
     "name": "stderr",
     "output_type": "stream",
     "text": [
      "[I 2023-12-16 02:59:35,108] Trial 3 finished with value: 85.52 and parameters: {'lambda_l1': 322.9135126111964, 'lambda_l2': 818.3175511131, 'learning_rate': 0.12329159465573741, 'num_leaves': 992, 'feature_fraction': 0.9331574871665496, 'min_data_in_leaf': 1760}. Best is trial 3 with value: 85.52.\n"
     ]
    },
    {
     "name": "stdout",
     "output_type": "stream",
     "text": [
      "[200]\tvalid_0's ER: 85.53\n",
      "Early stopping, best iteration is:\n",
      "[112]\tvalid_0's ER: 85.52\n",
      "Evaluated only: ER\n",
      "**************** regression_l1 ****************\n",
      "Training until validation scores don't improve for 187 rounds\n",
      "[100]\tvalid_0's ER: 100\n"
     ]
    },
    {
     "name": "stderr",
     "output_type": "stream",
     "text": [
      "[I 2023-12-16 02:59:36,921] Trial 4 finished with value: 100.0 and parameters: {'lambda_l1': 844.9995212380894, 'lambda_l2': 57.77541092031424, 'learning_rate': 0.03643404925569231, 'num_leaves': 796, 'feature_fraction': 0.8042151332166272, 'min_data_in_leaf': 2183}. Best is trial 3 with value: 85.52.\n"
     ]
    },
    {
     "name": "stdout",
     "output_type": "stream",
     "text": [
      "Early stopping, best iteration is:\n",
      "[1]\tvalid_0's ER: 100\n",
      "Evaluated only: ER\n",
      "**************** regression_l1 ****************\n",
      "Training until validation scores don't improve for 87 rounds\n",
      "[100]\tvalid_0's ER: 84.82\n"
     ]
    },
    {
     "name": "stderr",
     "output_type": "stream",
     "text": [
      "[I 2023-12-16 02:59:38,749] Trial 5 finished with value: 81.88 and parameters: {'lambda_l1': 755.6152743654887, 'lambda_l2': 980.8035614257589, 'learning_rate': 0.13348203359412622, 'num_leaves': 381, 'feature_fraction': 0.4697378775829008, 'min_data_in_leaf': 119}. Best is trial 5 with value: 81.88.\n"
     ]
    },
    {
     "name": "stdout",
     "output_type": "stream",
     "text": [
      "Early stopping, best iteration is:\n",
      "[57]\tvalid_0's ER: 81.88\n",
      "Evaluated only: ER\n",
      "**************** regression_l1 ****************\n",
      "Training until validation scores don't improve for 251 rounds\n",
      "[100]\tvalid_0's ER: 96\n",
      "[200]\tvalid_0's ER: 93.98\n",
      "[300]\tvalid_0's ER: 93.81\n",
      "[400]\tvalid_0's ER: 93.55\n",
      "[500]\tvalid_0's ER: 93.3\n",
      "[600]\tvalid_0's ER: 93.12\n",
      "[700]\tvalid_0's ER: 92.95\n",
      "[800]\tvalid_0's ER: 92.92\n",
      "[900]\tvalid_0's ER: 92.59\n",
      "[1000]\tvalid_0's ER: 92.43\n",
      "[1100]\tvalid_0's ER: 92.34\n",
      "[1200]\tvalid_0's ER: 92.32\n",
      "[1300]\tvalid_0's ER: 92.26\n",
      "[1400]\tvalid_0's ER: 92.11\n",
      "[1500]\tvalid_0's ER: 91.74\n",
      "[1600]\tvalid_0's ER: 91.64\n",
      "[1700]\tvalid_0's ER: 91.45\n",
      "[1800]\tvalid_0's ER: 91.23\n",
      "[1900]\tvalid_0's ER: 91.18\n",
      "[2000]\tvalid_0's ER: 91.09\n",
      "[2100]\tvalid_0's ER: 90.94\n",
      "[2200]\tvalid_0's ER: 90.87\n",
      "[2300]\tvalid_0's ER: 90.75\n",
      "[2400]\tvalid_0's ER: 90.67\n",
      "[2500]\tvalid_0's ER: 90.69\n",
      "[2600]\tvalid_0's ER: 90.6\n",
      "[2700]\tvalid_0's ER: 90.51\n",
      "[2800]\tvalid_0's ER: 90.45\n",
      "[2900]\tvalid_0's ER: 90.42\n",
      "[3000]\tvalid_0's ER: 90.33\n",
      "[3100]\tvalid_0's ER: 90.31\n",
      "[3200]\tvalid_0's ER: 90.2\n",
      "[3300]\tvalid_0's ER: 90.18\n",
      "[3400]\tvalid_0's ER: 90.09\n",
      "[3500]\tvalid_0's ER: 90.05\n",
      "[3600]\tvalid_0's ER: 90.02\n",
      "[3700]\tvalid_0's ER: 90.02\n",
      "[3800]\tvalid_0's ER: 89.97\n",
      "[3900]\tvalid_0's ER: 89.88\n",
      "[4000]\tvalid_0's ER: 89.87\n",
      "[4100]\tvalid_0's ER: 89.83\n",
      "[4200]\tvalid_0's ER: 89.75\n",
      "[4300]\tvalid_0's ER: 89.66\n",
      "[4400]\tvalid_0's ER: 89.64\n",
      "[4500]\tvalid_0's ER: 89.61\n",
      "[4600]\tvalid_0's ER: 89.58\n",
      "[4700]\tvalid_0's ER: 89.54\n",
      "[4800]\tvalid_0's ER: 89.51\n",
      "[4900]\tvalid_0's ER: 89.41\n",
      "[5000]\tvalid_0's ER: 89.38\n",
      "[5100]\tvalid_0's ER: 89.35\n",
      "[5200]\tvalid_0's ER: 89.27\n",
      "[5300]\tvalid_0's ER: 89.27\n",
      "[5400]\tvalid_0's ER: 89.23\n",
      "[5500]\tvalid_0's ER: 89.2\n",
      "[5600]\tvalid_0's ER: 89.14\n",
      "[5700]\tvalid_0's ER: 89.06\n",
      "[5800]\tvalid_0's ER: 89.06\n",
      "[5900]\tvalid_0's ER: 89.01\n",
      "[6000]\tvalid_0's ER: 89.01\n",
      "[6100]\tvalid_0's ER: 88.96\n",
      "[6200]\tvalid_0's ER: 88.94\n",
      "[6300]\tvalid_0's ER: 88.94\n",
      "[6400]\tvalid_0's ER: 88.92\n",
      "[6500]\tvalid_0's ER: 88.89\n",
      "[6600]\tvalid_0's ER: 88.88\n",
      "[6700]\tvalid_0's ER: 88.86\n",
      "[6800]\tvalid_0's ER: 88.89\n",
      "[6900]\tvalid_0's ER: 88.84\n",
      "[7000]\tvalid_0's ER: 88.81\n",
      "[7100]\tvalid_0's ER: 88.77\n",
      "[7200]\tvalid_0's ER: 88.76\n",
      "[7300]\tvalid_0's ER: 88.74\n",
      "[7400]\tvalid_0's ER: 88.73\n",
      "[7500]\tvalid_0's ER: 88.7\n",
      "[7600]\tvalid_0's ER: 88.63\n",
      "[7700]\tvalid_0's ER: 88.61\n",
      "[7800]\tvalid_0's ER: 88.58\n",
      "[7900]\tvalid_0's ER: 88.54\n",
      "[8000]\tvalid_0's ER: 88.52\n",
      "[8100]\tvalid_0's ER: 88.51\n",
      "[8200]\tvalid_0's ER: 88.52\n",
      "[8300]\tvalid_0's ER: 88.48\n",
      "[8400]\tvalid_0's ER: 88.48\n",
      "[8500]\tvalid_0's ER: 88.42\n",
      "[8600]\tvalid_0's ER: 88.42\n",
      "[8700]\tvalid_0's ER: 88.4\n",
      "[8800]\tvalid_0's ER: 88.42\n",
      "[8900]\tvalid_0's ER: 88.36\n",
      "[9000]\tvalid_0's ER: 88.31\n",
      "[9100]\tvalid_0's ER: 88.25\n",
      "[9200]\tvalid_0's ER: 88.27\n",
      "[9300]\tvalid_0's ER: 88.23\n",
      "[9400]\tvalid_0's ER: 88.22\n",
      "[9500]\tvalid_0's ER: 88.19\n",
      "[9600]\tvalid_0's ER: 88.17\n",
      "[9700]\tvalid_0's ER: 88.17\n",
      "[9800]\tvalid_0's ER: 88.15\n",
      "[9900]\tvalid_0's ER: 88.15\n",
      "[10000]\tvalid_0's ER: 88.1\n",
      "Did not meet early stopping. Best iteration is:\n",
      "[9943]\tvalid_0's ER: 88.1\n",
      "Evaluated only: ER\n"
     ]
    },
    {
     "name": "stderr",
     "output_type": "stream",
     "text": [
      "[I 2023-12-16 03:00:34,235] Trial 6 finished with value: 88.1 and parameters: {'lambda_l1': 196.62823768930693, 'lambda_l2': 548.215577680032, 'learning_rate': 0.024796494416813593, 'num_leaves': 879, 'feature_fraction': 0.3982437332783284, 'min_data_in_leaf': 7732}. Best is trial 5 with value: 81.88.\n"
     ]
    },
    {
     "name": "stdout",
     "output_type": "stream",
     "text": [
      "**************** regression_l1 ****************\n",
      "Training until validation scores don't improve for 69 rounds\n"
     ]
    },
    {
     "name": "stderr",
     "output_type": "stream",
     "text": [
      "[I 2023-12-16 03:00:35,171] Trial 7 finished with value: 100.0 and parameters: {'lambda_l1': 919.2415372048051, 'lambda_l2': 769.8579686389348, 'learning_rate': 0.25118364094095347, 'num_leaves': 756, 'feature_fraction': 0.9981797475946423, 'min_data_in_leaf': 2483}. Best is trial 5 with value: 81.88.\n"
     ]
    },
    {
     "name": "stdout",
     "output_type": "stream",
     "text": [
      "Early stopping, best iteration is:\n",
      "[1]\tvalid_0's ER: 100\n",
      "Evaluated only: ER\n",
      "**************** regression_l1 ****************\n",
      "Training until validation scores don't improve for 79 rounds\n",
      "[100]\tvalid_0's ER: 90.08\n"
     ]
    },
    {
     "name": "stderr",
     "output_type": "stream",
     "text": [
      "[I 2023-12-16 03:00:36,893] Trial 8 finished with value: 90.08 and parameters: {'lambda_l1': 597.0888435881138, 'lambda_l2': 447.69898270685303, 'learning_rate': 0.16717809652525767, 'num_leaves': 13, 'feature_fraction': 0.9512925150609939, 'min_data_in_leaf': 5154}. Best is trial 5 with value: 81.88.\n"
     ]
    },
    {
     "name": "stdout",
     "output_type": "stream",
     "text": [
      "Early stopping, best iteration is:\n",
      "[80]\tvalid_0's ER: 90.08\n",
      "Evaluated only: ER\n",
      "**************** regression_l1 ****************\n",
      "Training until validation scores don't improve for 77 rounds\n",
      "[100]\tvalid_0's ER: 96.16\n"
     ]
    },
    {
     "name": "stderr",
     "output_type": "stream",
     "text": [
      "[I 2023-12-16 03:00:38,429] Trial 9 finished with value: 96.16 and parameters: {'lambda_l1': 401.4878736620332, 'lambda_l2': 83.62160616077784, 'learning_rate': 0.18050755141758368, 'num_leaves': 348, 'feature_fraction': 0.8365726325032776, 'min_data_in_leaf': 2262}. Best is trial 5 with value: 81.88.\n"
     ]
    },
    {
     "name": "stdout",
     "output_type": "stream",
     "text": [
      "Early stopping, best iteration is:\n",
      "[62]\tvalid_0's ER: 96.16\n",
      "Evaluated only: ER\n",
      "# Experimentos: 10\n",
      "Mejor experimento: {'lambda_l1': 755.6152743654887, 'lambda_l2': 980.8035614257589, 'learning_rate': 0.13348203359412622, 'num_leaves': 381, 'feature_fraction': 0.4697378775829008, 'min_data_in_leaf': 119}\n",
      "=========================================== Cluster 22 ===========================================\n"
     ]
    },
    {
     "name": "stderr",
     "output_type": "stream",
     "text": [
      "[I 2023-12-16 03:00:46,489] A new study created in memory with name: no-name-28a80a4b-3ca9-437d-89dc-4ff32bd7dfde\n"
     ]
    },
    {
     "name": "stdout",
     "output_type": "stream",
     "text": [
      "Periodos entrenar: [201701 201702 201703 201704 201705 201706 201707 201708 201709 201710\n",
      " 201711 201712 201801 201802 201803 201804 201805 201806 201807 201808\n",
      " 201809 201810 201811 201812 201901 201902 201903 201904 201905]\n",
      "Periodos validar: [201907]\n",
      "product_id a validar: 10440\n",
      "X_train: (256479, 120)\n",
      "y_train: (256479,)\n",
      "\n",
      "X_validate: (10440, 120)\n",
      "y_validate: (10440,)\n",
      "Optimizacion Bayesiana\n",
      "**************** regression_l1 ****************\n",
      "Training until validation scores don't improve for 74 rounds\n",
      "[100]\tvalid_0's ER: 78.58\n",
      "[200]\tvalid_0's ER: 77.35\n",
      "[300]\tvalid_0's ER: 76.97\n",
      "[400]\tvalid_0's ER: 76.63\n",
      "[500]\tvalid_0's ER: 76.54\n"
     ]
    },
    {
     "name": "stderr",
     "output_type": "stream",
     "text": [
      "[I 2023-12-16 03:01:12,103] Trial 0 finished with value: 76.44 and parameters: {'lambda_l1': 258.4543401704288, 'lambda_l2': 938.3210371817295, 'learning_rate': 0.20641455226449695, 'num_leaves': 1005, 'feature_fraction': 0.8238144790411457, 'min_data_in_leaf': 3453}. Best is trial 0 with value: 76.44.\n"
     ]
    },
    {
     "name": "stdout",
     "output_type": "stream",
     "text": [
      "Early stopping, best iteration is:\n",
      "[471]\tvalid_0's ER: 76.44\n",
      "Evaluated only: ER\n",
      "**************** regression_l1 ****************\n",
      "Training until validation scores don't improve for 126 rounds\n",
      "[100]\tvalid_0's ER: 84.65\n",
      "[200]\tvalid_0's ER: 84.41\n",
      "[300]\tvalid_0's ER: 84.11\n",
      "[400]\tvalid_0's ER: 83.96\n",
      "[500]\tvalid_0's ER: 83.72\n",
      "[600]\tvalid_0's ER: 83.66\n",
      "[700]\tvalid_0's ER: 83.21\n",
      "[800]\tvalid_0's ER: 82.94\n",
      "[900]\tvalid_0's ER: 82.88\n",
      "[1000]\tvalid_0's ER: 82.69\n",
      "[1100]\tvalid_0's ER: 82.49\n",
      "[1200]\tvalid_0's ER: 82.26\n",
      "[1300]\tvalid_0's ER: 82.15\n",
      "[1400]\tvalid_0's ER: 81.9\n",
      "[1500]\tvalid_0's ER: 81.74\n",
      "[1600]\tvalid_0's ER: 81.43\n",
      "[1700]\tvalid_0's ER: 81.22\n",
      "[1800]\tvalid_0's ER: 81.05\n",
      "[1900]\tvalid_0's ER: 80.85\n",
      "[2000]\tvalid_0's ER: 80.75\n",
      "[2100]\tvalid_0's ER: 80.66\n",
      "[2200]\tvalid_0's ER: 80.53\n",
      "[2300]\tvalid_0's ER: 80.46\n",
      "[2400]\tvalid_0's ER: 80.43\n",
      "[2500]\tvalid_0's ER: 80.32\n",
      "[2600]\tvalid_0's ER: 80.21\n",
      "[2700]\tvalid_0's ER: 80.08\n",
      "[2800]\tvalid_0's ER: 80.04\n",
      "[2900]\tvalid_0's ER: 79.97\n",
      "Early stopping, best iteration is:\n",
      "[2827]\tvalid_0's ER: 79.96\n",
      "Evaluated only: ER\n"
     ]
    },
    {
     "name": "stderr",
     "output_type": "stream",
     "text": [
      "[I 2023-12-16 03:03:28,000] Trial 1 finished with value: 79.96 and parameters: {'lambda_l1': 205.7865137634557, 'lambda_l2': 69.10812411658118, 'learning_rate': 0.06531490479830418, 'num_leaves': 558, 'feature_fraction': 0.7921052416852916, 'min_data_in_leaf': 6654}. Best is trial 0 with value: 76.44.\n"
     ]
    },
    {
     "name": "stdout",
     "output_type": "stream",
     "text": [
      "**************** regression_l1 ****************\n",
      "Training until validation scores don't improve for 232 rounds\n",
      "[100]\tvalid_0's ER: 88.06\n",
      "[200]\tvalid_0's ER: 84.93\n",
      "[300]\tvalid_0's ER: 84.59\n",
      "[400]\tvalid_0's ER: 84.37\n",
      "[500]\tvalid_0's ER: 83.93\n",
      "[600]\tvalid_0's ER: 83.73\n",
      "[700]\tvalid_0's ER: 83.56\n",
      "[800]\tvalid_0's ER: 83.12\n",
      "[900]\tvalid_0's ER: 82.8\n",
      "[1000]\tvalid_0's ER: 82.75\n",
      "[1100]\tvalid_0's ER: 82.31\n",
      "[1200]\tvalid_0's ER: 82.3\n",
      "[1300]\tvalid_0's ER: 82.07\n",
      "[1400]\tvalid_0's ER: 81.93\n",
      "[1500]\tvalid_0's ER: 81.85\n",
      "[1600]\tvalid_0's ER: 81.73\n",
      "[1700]\tvalid_0's ER: 81.7\n",
      "[1800]\tvalid_0's ER: 81.54\n",
      "[1900]\tvalid_0's ER: 81.47\n",
      "[2000]\tvalid_0's ER: 81.39\n",
      "[2100]\tvalid_0's ER: 81.3\n",
      "[2200]\tvalid_0's ER: 81.27\n",
      "[2300]\tvalid_0's ER: 81.22\n",
      "[2400]\tvalid_0's ER: 81.2\n",
      "[2500]\tvalid_0's ER: 81.14\n",
      "[2600]\tvalid_0's ER: 80.93\n",
      "[2700]\tvalid_0's ER: 80.91\n",
      "[2800]\tvalid_0's ER: 80.88\n",
      "[2900]\tvalid_0's ER: 80.88\n",
      "[3000]\tvalid_0's ER: 80.86\n",
      "[3100]\tvalid_0's ER: 80.77\n",
      "[3200]\tvalid_0's ER: 80.76\n",
      "[3300]\tvalid_0's ER: 80.73\n",
      "[3400]\tvalid_0's ER: 80.7\n",
      "[3500]\tvalid_0's ER: 80.68\n",
      "[3600]\tvalid_0's ER: 80.63\n",
      "[3700]\tvalid_0's ER: 80.62\n",
      "[3800]\tvalid_0's ER: 80.57\n",
      "[3900]\tvalid_0's ER: 80.53\n",
      "[4000]\tvalid_0's ER: 80.53\n",
      "[4100]\tvalid_0's ER: 80.55\n",
      "Early stopping, best iteration is:\n",
      "[3892]\tvalid_0's ER: 80.53\n",
      "Evaluated only: ER\n"
     ]
    },
    {
     "name": "stderr",
     "output_type": "stream",
     "text": [
      "[I 2023-12-16 03:06:36,461] Trial 2 finished with value: 80.53 and parameters: {'lambda_l1': 481.4570920218718, 'lambda_l2': 151.1133844403537, 'learning_rate': 0.02735802381755912, 'num_leaves': 298, 'feature_fraction': 0.7416234133828838, 'min_data_in_leaf': 5887}. Best is trial 0 with value: 76.44.\n"
     ]
    },
    {
     "name": "stdout",
     "output_type": "stream",
     "text": [
      "**************** regression_l1 ****************\n",
      "Training until validation scores don't improve for 141 rounds\n",
      "[100]\tvalid_0's ER: 76.92\n",
      "[200]\tvalid_0's ER: 75.66\n",
      "[300]\tvalid_0's ER: 75.13\n",
      "[400]\tvalid_0's ER: 74.99\n",
      "[500]\tvalid_0's ER: 74.69\n",
      "[600]\tvalid_0's ER: 74.51\n",
      "[700]\tvalid_0's ER: 74.32\n",
      "[800]\tvalid_0's ER: 74.28\n",
      "[900]\tvalid_0's ER: 74.19\n",
      "[1000]\tvalid_0's ER: 74.15\n",
      "[1100]\tvalid_0's ER: 74.01\n",
      "[1200]\tvalid_0's ER: 73.91\n",
      "[1300]\tvalid_0's ER: 73.81\n",
      "[1400]\tvalid_0's ER: 73.58\n",
      "[1500]\tvalid_0's ER: 73.55\n",
      "[1600]\tvalid_0's ER: 73.48\n",
      "[1700]\tvalid_0's ER: 73.42\n",
      "[1800]\tvalid_0's ER: 73.37\n",
      "[1900]\tvalid_0's ER: 73.44\n",
      "Early stopping, best iteration is:\n",
      "[1800]\tvalid_0's ER: 73.37\n",
      "Evaluated only: ER\n"
     ]
    },
    {
     "name": "stderr",
     "output_type": "stream",
     "text": [
      "[I 2023-12-16 03:08:57,440] Trial 3 finished with value: 73.37 and parameters: {'lambda_l1': 122.27746730048372, 'lambda_l2': 947.8155072990797, 'learning_rate': 0.05462293236429288, 'num_leaves': 514, 'feature_fraction': 0.971856593196619, 'min_data_in_leaf': 1559}. Best is trial 3 with value: 73.37.\n"
     ]
    },
    {
     "name": "stdout",
     "output_type": "stream",
     "text": [
      "**************** regression_l1 ****************\n",
      "Training until validation scores don't improve for 70 rounds\n",
      "[100]\tvalid_0's ER: 82.77\n",
      "[200]\tvalid_0's ER: 82.58\n",
      "[300]\tvalid_0's ER: 81.93\n",
      "[400]\tvalid_0's ER: 81.25\n",
      "[500]\tvalid_0's ER: 80.71\n",
      "[600]\tvalid_0's ER: 80.11\n",
      "[700]\tvalid_0's ER: 79.73\n",
      "[800]\tvalid_0's ER: 79.35\n",
      "[900]\tvalid_0's ER: 79.19\n",
      "[1000]\tvalid_0's ER: 79\n",
      "[1100]\tvalid_0's ER: 78.7\n",
      "[1200]\tvalid_0's ER: 78.52\n",
      "[1300]\tvalid_0's ER: 78.32\n",
      "[1400]\tvalid_0's ER: 78.17\n",
      "[1500]\tvalid_0's ER: 77.95\n",
      "[1600]\tvalid_0's ER: 77.88\n",
      "[1700]\tvalid_0's ER: 77.83\n",
      "Early stopping, best iteration is:\n",
      "[1665]\tvalid_0's ER: 77.79\n",
      "Evaluated only: ER\n"
     ]
    },
    {
     "name": "stderr",
     "output_type": "stream",
     "text": [
      "[I 2023-12-16 03:09:44,389] Trial 4 finished with value: 77.79 and parameters: {'lambda_l1': 31.50307359984661, 'lambda_l2': 555.2575589070383, 'learning_rate': 0.24075160020872363, 'num_leaves': 514, 'feature_fraction': 0.3592970728671736, 'min_data_in_leaf': 6811}. Best is trial 3 with value: 73.37.\n"
     ]
    },
    {
     "name": "stdout",
     "output_type": "stream",
     "text": [
      "**************** regression_l1 ****************\n",
      "Training until validation scores don't improve for 76 rounds\n",
      "[100]\tvalid_0's ER: 84.68\n"
     ]
    },
    {
     "name": "stderr",
     "output_type": "stream",
     "text": [
      "[I 2023-12-16 03:09:50,597] Trial 5 finished with value: 84.57 and parameters: {'lambda_l1': 330.44565568120856, 'lambda_l2': 434.7730455159856, 'learning_rate': 0.1904251681269219, 'num_leaves': 425, 'feature_fraction': 0.5623665243133483, 'min_data_in_leaf': 7498}. Best is trial 3 with value: 73.37.\n"
     ]
    },
    {
     "name": "stdout",
     "output_type": "stream",
     "text": [
      "Early stopping, best iteration is:\n",
      "[66]\tvalid_0's ER: 84.57\n",
      "Evaluated only: ER\n",
      "**************** regression_l1 ****************\n",
      "Training until validation scores don't improve for 74 rounds\n",
      "[100]\tvalid_0's ER: 93.25\n",
      "[200]\tvalid_0's ER: 79.16\n",
      "[300]\tvalid_0's ER: 78.28\n"
     ]
    },
    {
     "name": "stderr",
     "output_type": "stream",
     "text": [
      "[I 2023-12-16 03:10:06,653] Trial 6 finished with value: 78.28 and parameters: {'lambda_l1': 543.8186051940766, 'lambda_l2': 118.40747109379113, 'learning_rate': 0.20136580762976355, 'num_leaves': 656, 'feature_fraction': 0.7501049299805553, 'min_data_in_leaf': 2953}. Best is trial 3 with value: 73.37.\n"
     ]
    },
    {
     "name": "stdout",
     "output_type": "stream",
     "text": [
      "Early stopping, best iteration is:\n",
      "[279]\tvalid_0's ER: 78.28\n",
      "Evaluated only: ER\n",
      "**************** regression_l1 ****************\n",
      "Training until validation scores don't improve for 198 rounds\n",
      "[100]\tvalid_0's ER: 81.57\n",
      "[200]\tvalid_0's ER: 79.94\n",
      "[300]\tvalid_0's ER: 79.86\n",
      "[400]\tvalid_0's ER: 79.86\n"
     ]
    },
    {
     "name": "stderr",
     "output_type": "stream",
     "text": [
      "[I 2023-12-16 03:10:17,459] Trial 7 finished with value: 79.86 and parameters: {'lambda_l1': 454.3537367389382, 'lambda_l2': 297.8520877838171, 'learning_rate': 0.033772576137068605, 'num_leaves': 16, 'feature_fraction': 0.2969347932395178, 'min_data_in_leaf': 916}. Best is trial 3 with value: 73.37.\n"
     ]
    },
    {
     "name": "stdout",
     "output_type": "stream",
     "text": [
      "Early stopping, best iteration is:\n",
      "[238]\tvalid_0's ER: 79.86\n",
      "Evaluated only: ER\n",
      "**************** regression_l1 ****************\n",
      "Training until validation scores don't improve for 77 rounds\n",
      "[100]\tvalid_0's ER: 70.23\n",
      "[200]\tvalid_0's ER: 69.95\n",
      "Early stopping, best iteration is:\n",
      "[219]\tvalid_0's ER: 69.74\n",
      "Evaluated only: ER\n"
     ]
    },
    {
     "name": "stderr",
     "output_type": "stream",
     "text": [
      "[I 2023-12-16 03:10:36,441] Trial 8 finished with value: 69.74 and parameters: {'lambda_l1': 768.9074546027192, 'lambda_l2': 346.2873107711515, 'learning_rate': 0.1828024291569322, 'num_leaves': 242, 'feature_fraction': 0.4326906360096023, 'min_data_in_leaf': 310}. Best is trial 8 with value: 69.74.\n"
     ]
    },
    {
     "name": "stdout",
     "output_type": "stream",
     "text": [
      "**************** regression_l1 ****************\n",
      "Training until validation scores don't improve for 79 rounds\n",
      "[100]\tvalid_0's ER: 78.98\n",
      "[200]\tvalid_0's ER: 77.85\n",
      "[300]\tvalid_0's ER: 77.45\n",
      "[400]\tvalid_0's ER: 77.21\n"
     ]
    },
    {
     "name": "stderr",
     "output_type": "stream",
     "text": [
      "[I 2023-12-16 03:10:47,247] Trial 9 finished with value: 77.18 and parameters: {'lambda_l1': 310.6433558644407, 'lambda_l2': 293.65030526382174, 'learning_rate': 0.17092357346951736, 'num_leaves': 1019, 'feature_fraction': 0.24600322426207155, 'min_data_in_leaf': 4058}. Best is trial 8 with value: 69.74.\n"
     ]
    },
    {
     "name": "stdout",
     "output_type": "stream",
     "text": [
      "Early stopping, best iteration is:\n",
      "[416]\tvalid_0's ER: 77.18\n",
      "Evaluated only: ER\n",
      "# Experimentos: 10\n",
      "Mejor experimento: {'lambda_l1': 768.9074546027192, 'lambda_l2': 346.2873107711515, 'learning_rate': 0.1828024291569322, 'num_leaves': 242, 'feature_fraction': 0.4326906360096023, 'min_data_in_leaf': 310}\n",
      "=========================================== Cluster 23 ===========================================\n"
     ]
    },
    {
     "name": "stderr",
     "output_type": "stream",
     "text": [
      "[I 2023-12-16 03:10:48,350] A new study created in memory with name: no-name-e02f7e18-15db-46a7-8320-590e15206383\n"
     ]
    },
    {
     "name": "stdout",
     "output_type": "stream",
     "text": [
      "Periodos entrenar: [201701 201702 201703 201704 201705 201706 201707 201708 201709 201710\n",
      " 201711 201712 201801 201802 201803 201804 201805 201806 201807 201808\n",
      " 201809 201810 201811 201812 201901 201902 201903 201904 201905]\n",
      "Periodos validar: [201907]\n",
      "product_id a validar: 1160\n",
      "X_train: (30914, 120)\n",
      "y_train: (30914,)\n",
      "\n",
      "X_validate: (1160, 120)\n",
      "y_validate: (1160,)\n",
      "Optimizacion Bayesiana\n",
      "**************** regression_l1 ****************\n",
      "Training until validation scores don't improve for 505 rounds\n",
      "[100]\tvalid_0's ER: 100\n",
      "[200]\tvalid_0's ER: 93.78\n",
      "[300]\tvalid_0's ER: 86.36\n",
      "[400]\tvalid_0's ER: 84.04\n",
      "[500]\tvalid_0's ER: 83.78\n",
      "[600]\tvalid_0's ER: 83.77\n",
      "[700]\tvalid_0's ER: 83.74\n",
      "[800]\tvalid_0's ER: 83.73\n",
      "[900]\tvalid_0's ER: 83.85\n",
      "Early stopping, best iteration is:\n",
      "[446]\tvalid_0's ER: 83.69\n",
      "Evaluated only: ER\n"
     ]
    },
    {
     "name": "stderr",
     "output_type": "stream",
     "text": [
      "[I 2023-12-16 03:10:52,548] Trial 0 finished with value: 83.69 and parameters: {'lambda_l1': 924.2415705026585, 'lambda_l2': 823.1867686782756, 'learning_rate': 0.010966899635571611, 'num_leaves': 211, 'feature_fraction': 0.6374936324228704, 'min_data_in_leaf': 2788}. Best is trial 0 with value: 83.69.\n"
     ]
    },
    {
     "name": "stdout",
     "output_type": "stream",
     "text": [
      "**************** regression_l1 ****************\n",
      "Training until validation scores don't improve for 69 rounds\n",
      "[100]\tvalid_0's ER: 83.44\n"
     ]
    },
    {
     "name": "stderr",
     "output_type": "stream",
     "text": [
      "[I 2023-12-16 03:10:53,491] Trial 1 finished with value: 83.35 and parameters: {'lambda_l1': 731.9272931791148, 'lambda_l2': 608.9996468385674, 'learning_rate': 0.2505640269296426, 'num_leaves': 396, 'feature_fraction': 0.5851344643982144, 'min_data_in_leaf': 2649}. Best is trial 1 with value: 83.35.\n"
     ]
    },
    {
     "name": "stdout",
     "output_type": "stream",
     "text": [
      "Early stopping, best iteration is:\n",
      "[121]\tvalid_0's ER: 83.35\n",
      "Evaluated only: ER\n",
      "**************** regression_l1 ****************\n",
      "Training until validation scores don't improve for 86 rounds\n",
      "[100]\tvalid_0's ER: 83.16\n",
      "[200]\tvalid_0's ER: 81.84\n"
     ]
    },
    {
     "name": "stderr",
     "output_type": "stream",
     "text": [
      "[I 2023-12-16 03:10:54,605] Trial 2 finished with value: 81.5 and parameters: {'lambda_l1': 395.5320394685944, 'lambda_l2': 240.22456820484882, 'learning_rate': 0.13741383865502108, 'num_leaves': 360, 'feature_fraction': 0.38631518433791134, 'min_data_in_leaf': 3033}. Best is trial 2 with value: 81.5.\n"
     ]
    },
    {
     "name": "stdout",
     "output_type": "stream",
     "text": [
      "[300]\tvalid_0's ER: 81.52\n",
      "Early stopping, best iteration is:\n",
      "[233]\tvalid_0's ER: 81.5\n",
      "Evaluated only: ER\n",
      "**************** regression_l1 ****************\n",
      "Training until validation scores don't improve for 71 rounds\n",
      "[100]\tvalid_0's ER: 90.93\n",
      "[200]\tvalid_0's ER: 89.78\n",
      "[300]\tvalid_0's ER: 89.03\n",
      "[400]\tvalid_0's ER: 87.82\n",
      "[500]\tvalid_0's ER: 86.93\n",
      "[600]\tvalid_0's ER: 86.43\n",
      "[700]\tvalid_0's ER: 86.15\n",
      "[800]\tvalid_0's ER: 86\n",
      "[900]\tvalid_0's ER: 85.71\n",
      "[1000]\tvalid_0's ER: 85.56\n",
      "[1100]\tvalid_0's ER: 85.42\n",
      "[1200]\tvalid_0's ER: 85.16\n",
      "[1300]\tvalid_0's ER: 84.88\n",
      "[1400]\tvalid_0's ER: 84.7\n",
      "[1500]\tvalid_0's ER: 84.58\n",
      "[1600]\tvalid_0's ER: 84.46\n",
      "[1700]\tvalid_0's ER: 84.47\n",
      "[1800]\tvalid_0's ER: 84.36\n"
     ]
    },
    {
     "name": "stderr",
     "output_type": "stream",
     "text": [
      "[I 2023-12-16 03:10:59,432] Trial 3 finished with value: 84.2 and parameters: {'lambda_l1': 293.11330878076467, 'lambda_l2': 431.7634875109508, 'learning_rate': 0.23393269750429965, 'num_leaves': 81, 'feature_fraction': 0.30303309460071326, 'min_data_in_leaf': 5593}. Best is trial 2 with value: 81.5.\n"
     ]
    },
    {
     "name": "stdout",
     "output_type": "stream",
     "text": [
      "Early stopping, best iteration is:\n",
      "[1817]\tvalid_0's ER: 84.2\n",
      "Evaluated only: ER\n",
      "**************** regression_l1 ****************\n",
      "Training until validation scores don't improve for 99 rounds\n",
      "[100]\tvalid_0's ER: 74.29\n",
      "[200]\tvalid_0's ER: 74.05\n"
     ]
    },
    {
     "name": "stderr",
     "output_type": "stream",
     "text": [
      "[I 2023-12-16 03:11:00,674] Trial 4 finished with value: 73.91 and parameters: {'lambda_l1': 359.0264046467158, 'lambda_l2': 673.9255376674902, 'learning_rate': 0.10047048317766685, 'num_leaves': 402, 'feature_fraction': 0.3236240616143669, 'min_data_in_leaf': 921}. Best is trial 4 with value: 73.91.\n"
     ]
    },
    {
     "name": "stdout",
     "output_type": "stream",
     "text": [
      "[300]\tvalid_0's ER: 74.29\n",
      "Early stopping, best iteration is:\n",
      "[214]\tvalid_0's ER: 73.91\n",
      "Evaluated only: ER\n",
      "**************** regression_l1 ****************\n",
      "Training until validation scores don't improve for 77 rounds\n"
     ]
    },
    {
     "name": "stderr",
     "output_type": "stream",
     "text": [
      "[I 2023-12-16 03:11:01,190] Trial 5 finished with value: 100.0 and parameters: {'lambda_l1': 955.4390863536489, 'lambda_l2': 793.7981637532001, 'learning_rate': 0.18092096821872145, 'num_leaves': 262, 'feature_fraction': 0.9940931310669237, 'min_data_in_leaf': 6880}. Best is trial 4 with value: 73.91.\n"
     ]
    },
    {
     "name": "stdout",
     "output_type": "stream",
     "text": [
      "Early stopping, best iteration is:\n",
      "[1]\tvalid_0's ER: 100\n",
      "Evaluated only: ER\n",
      "**************** regression_l1 ****************\n",
      "Training until validation scores don't improve for 79 rounds\n",
      "[100]\tvalid_0's ER: 84.53\n"
     ]
    },
    {
     "name": "stderr",
     "output_type": "stream",
     "text": [
      "[I 2023-12-16 03:11:01,932] Trial 6 finished with value: 84.38 and parameters: {'lambda_l1': 920.0696479105716, 'lambda_l2': 481.59124600646606, 'learning_rate': 0.1685731238243594, 'num_leaves': 124, 'feature_fraction': 0.4456145431105303, 'min_data_in_leaf': 3127}. Best is trial 4 with value: 73.91.\n"
     ]
    },
    {
     "name": "stdout",
     "output_type": "stream",
     "text": [
      "Early stopping, best iteration is:\n",
      "[113]\tvalid_0's ER: 84.38\n",
      "Evaluated only: ER\n",
      "**************** regression_l1 ****************\n",
      "Training until validation scores don't improve for 79 rounds\n",
      "[100]\tvalid_0's ER: 85.61\n",
      "[200]\tvalid_0's ER: 84.8\n",
      "[300]\tvalid_0's ER: 84.23\n",
      "[400]\tvalid_0's ER: 83.71\n",
      "[500]\tvalid_0's ER: 83.45\n",
      "[600]\tvalid_0's ER: 83.13\n",
      "Early stopping, best iteration is:\n",
      "[572]\tvalid_0's ER: 83.05\n",
      "Evaluated only: ER\n"
     ]
    },
    {
     "name": "stderr",
     "output_type": "stream",
     "text": [
      "[I 2023-12-16 03:11:04,552] Trial 7 finished with value: 83.05 and parameters: {'lambda_l1': 154.17368106002328, 'lambda_l2': 133.3033749181729, 'learning_rate': 0.16848671681788047, 'num_leaves': 722, 'feature_fraction': 0.5520074590435626, 'min_data_in_leaf': 4109}. Best is trial 4 with value: 73.91.\n"
     ]
    },
    {
     "name": "stdout",
     "output_type": "stream",
     "text": [
      "**************** regression_l1 ****************\n",
      "Training until validation scores don't improve for 103 rounds\n",
      "[100]\tvalid_0's ER: 90.06\n",
      "[200]\tvalid_0's ER: 87.23\n",
      "[300]\tvalid_0's ER: 86.66\n",
      "[400]\tvalid_0's ER: 86.64\n",
      "Early stopping, best iteration is:\n",
      "[347]\tvalid_0's ER: 86.64\n",
      "Evaluated only: ER\n"
     ]
    },
    {
     "name": "stderr",
     "output_type": "stream",
     "text": [
      "[I 2023-12-16 03:11:06,633] Trial 8 finished with value: 86.64 and parameters: {'lambda_l1': 430.402906783125, 'lambda_l2': 612.5970319341828, 'learning_rate': 0.09355166360789179, 'num_leaves': 721, 'feature_fraction': 0.7375735819756726, 'min_data_in_leaf': 4501}. Best is trial 4 with value: 73.91.\n"
     ]
    },
    {
     "name": "stdout",
     "output_type": "stream",
     "text": [
      "**************** regression_l1 ****************\n",
      "Training until validation scores don't improve for 77 rounds\n",
      "[100]\tvalid_0's ER: 95.56\n",
      "[200]\tvalid_0's ER: 95.44\n",
      "[300]\tvalid_0's ER: 94.63\n"
     ]
    },
    {
     "name": "stderr",
     "output_type": "stream",
     "text": [
      "[I 2023-12-16 03:11:07,989] Trial 9 finished with value: 94.62 and parameters: {'lambda_l1': 912.7685931888226, 'lambda_l2': 367.55491901433345, 'learning_rate': 0.18038816911291117, 'num_leaves': 137, 'feature_fraction': 0.5128079060943371, 'min_data_in_leaf': 7479}. Best is trial 4 with value: 73.91.\n"
     ]
    },
    {
     "name": "stdout",
     "output_type": "stream",
     "text": [
      "Early stopping, best iteration is:\n",
      "[297]\tvalid_0's ER: 94.62\n",
      "Evaluated only: ER\n",
      "# Experimentos: 10\n",
      "Mejor experimento: {'lambda_l1': 359.0264046467158, 'lambda_l2': 673.9255376674902, 'learning_rate': 0.10047048317766685, 'num_leaves': 402, 'feature_fraction': 0.3236240616143669, 'min_data_in_leaf': 921}\n",
      "=========================================== Cluster 24 ===========================================\n"
     ]
    },
    {
     "name": "stderr",
     "output_type": "stream",
     "text": [
      "[I 2023-12-16 03:11:09,724] A new study created in memory with name: no-name-61b9d656-f018-42a6-aedd-96e16a51f696\n"
     ]
    },
    {
     "name": "stdout",
     "output_type": "stream",
     "text": [
      "Periodos entrenar: [201701 201702 201703 201704 201705 201706 201707 201708 201709 201710\n",
      " 201711 201712 201801 201802 201803 201804 201805 201806 201807 201808\n",
      " 201809 201810 201811 201812 201901 201902 201903 201904 201905]\n",
      "Periodos validar: [201907]\n",
      "product_id a validar: 2320\n",
      "X_train: (53301, 120)\n",
      "y_train: (53301,)\n",
      "\n",
      "X_validate: (2320, 120)\n",
      "y_validate: (2320,)\n",
      "Optimizacion Bayesiana\n",
      "**************** regression_l1 ****************\n",
      "Training until validation scores don't improve for 84 rounds\n",
      "[100]\tvalid_0's ER: 92.98\n",
      "[200]\tvalid_0's ER: 91.89\n",
      "[300]\tvalid_0's ER: 91.26\n",
      "[400]\tvalid_0's ER: 90.78\n",
      "[500]\tvalid_0's ER: 90.67\n",
      "[600]\tvalid_0's ER: 90.42\n",
      "[700]\tvalid_0's ER: 90.21\n",
      "[800]\tvalid_0's ER: 89.93\n",
      "[900]\tvalid_0's ER: 89.77\n",
      "[1000]\tvalid_0's ER: 89.61\n",
      "[1100]\tvalid_0's ER: 89.44\n",
      "[1200]\tvalid_0's ER: 89.34\n",
      "[1300]\tvalid_0's ER: 89.19\n",
      "[1400]\tvalid_0's ER: 89.07\n",
      "[1500]\tvalid_0's ER: 88.9\n",
      "[1600]\tvalid_0's ER: 88.81\n",
      "[1700]\tvalid_0's ER: 88.71\n",
      "[1800]\tvalid_0's ER: 88.56\n",
      "[1900]\tvalid_0's ER: 88.43\n",
      "[2000]\tvalid_0's ER: 88.36\n",
      "[2100]\tvalid_0's ER: 88.27\n",
      "[2200]\tvalid_0's ER: 88.19\n",
      "[2300]\tvalid_0's ER: 88.14\n",
      "[2400]\tvalid_0's ER: 88.04\n"
     ]
    },
    {
     "name": "stderr",
     "output_type": "stream",
     "text": [
      "[I 2023-12-16 03:11:26,393] Trial 0 finished with value: 88.03 and parameters: {'lambda_l1': 285.21199594307103, 'lambda_l2': 284.4455049745871, 'learning_rate': 0.14347636361860241, 'num_leaves': 828, 'feature_fraction': 0.5410905617321311, 'min_data_in_leaf': 5981}. Best is trial 0 with value: 88.03.\n"
     ]
    },
    {
     "name": "stdout",
     "output_type": "stream",
     "text": [
      "Early stopping, best iteration is:\n",
      "[2366]\tvalid_0's ER: 88.03\n",
      "Evaluated only: ER\n",
      "**************** regression_l1 ****************\n",
      "Training until validation scores don't improve for 129 rounds\n",
      "[100]\tvalid_0's ER: 82.79\n",
      "[200]\tvalid_0's ER: 82.39\n",
      "[300]\tvalid_0's ER: 82.21\n",
      "[400]\tvalid_0's ER: 82.19\n",
      "[500]\tvalid_0's ER: 81.96\n",
      "[600]\tvalid_0's ER: 81.63\n",
      "[700]\tvalid_0's ER: 81.52\n"
     ]
    },
    {
     "name": "stderr",
     "output_type": "stream",
     "text": [
      "[I 2023-12-16 03:11:31,655] Trial 1 finished with value: 81.47 and parameters: {'lambda_l1': 406.35983893452044, 'lambda_l2': 73.78339289705305, 'learning_rate': 0.06320814305296486, 'num_leaves': 118, 'feature_fraction': 0.3711149964294574, 'min_data_in_leaf': 1487}. Best is trial 1 with value: 81.47.\n"
     ]
    },
    {
     "name": "stdout",
     "output_type": "stream",
     "text": [
      "[800]\tvalid_0's ER: 81.48\n",
      "Early stopping, best iteration is:\n",
      "[704]\tvalid_0's ER: 81.47\n",
      "Evaluated only: ER\n",
      "**************** regression_l1 ****************\n",
      "Training until validation scores don't improve for 71 rounds\n",
      "[100]\tvalid_0's ER: 92.26\n",
      "[200]\tvalid_0's ER: 91.4\n"
     ]
    },
    {
     "name": "stderr",
     "output_type": "stream",
     "text": [
      "[I 2023-12-16 03:11:34,303] Trial 2 finished with value: 90.85 and parameters: {'lambda_l1': 629.0652027061135, 'lambda_l2': 984.1931986099146, 'learning_rate': 0.23251766996863554, 'num_leaves': 538, 'feature_fraction': 0.6138372814435218, 'min_data_in_leaf': 5890}. Best is trial 1 with value: 81.47.\n"
     ]
    },
    {
     "name": "stdout",
     "output_type": "stream",
     "text": [
      "[300]\tvalid_0's ER: 90.86\n",
      "Early stopping, best iteration is:\n",
      "[260]\tvalid_0's ER: 90.84\n",
      "Evaluated only: ER\n",
      "**************** regression_l1 ****************\n",
      "Training until validation scores don't improve for 74 rounds\n",
      "[100]\tvalid_0's ER: 94.59\n",
      "[200]\tvalid_0's ER: 93.6\n",
      "[300]\tvalid_0's ER: 93.33\n",
      "[400]\tvalid_0's ER: 93\n",
      "[500]\tvalid_0's ER: 92.76\n",
      "[600]\tvalid_0's ER: 92.46\n",
      "[700]\tvalid_0's ER: 92.15\n",
      "[800]\tvalid_0's ER: 91.9\n",
      "[900]\tvalid_0's ER: 91.75\n",
      "[1000]\tvalid_0's ER: 91.68\n",
      "[1100]\tvalid_0's ER: 91.58\n",
      "[1200]\tvalid_0's ER: 91.38\n",
      "[1300]\tvalid_0's ER: 91.22\n",
      "[1400]\tvalid_0's ER: 91.08\n",
      "[1500]\tvalid_0's ER: 90.9\n",
      "[1600]\tvalid_0's ER: 90.76\n",
      "[1700]\tvalid_0's ER: 90.66\n",
      "[1800]\tvalid_0's ER: 90.51\n",
      "[1900]\tvalid_0's ER: 90.36\n",
      "[2000]\tvalid_0's ER: 90.24\n",
      "[2100]\tvalid_0's ER: 90.15\n",
      "[2200]\tvalid_0's ER: 90.01\n",
      "[2300]\tvalid_0's ER: 89.87\n",
      "[2400]\tvalid_0's ER: 89.79\n",
      "[2500]\tvalid_0's ER: 89.7\n",
      "[2600]\tvalid_0's ER: 89.63\n",
      "[2700]\tvalid_0's ER: 89.55\n",
      "[2800]\tvalid_0's ER: 89.44\n",
      "[2900]\tvalid_0's ER: 89.36\n",
      "[3000]\tvalid_0's ER: 89.29\n",
      "[3100]\tvalid_0's ER: 89.21\n",
      "[3200]\tvalid_0's ER: 89.11\n",
      "[3300]\tvalid_0's ER: 88.98\n",
      "[3400]\tvalid_0's ER: 88.93\n",
      "[3500]\tvalid_0's ER: 88.82\n",
      "[3600]\tvalid_0's ER: 88.69\n",
      "[3700]\tvalid_0's ER: 88.6\n",
      "[3800]\tvalid_0's ER: 88.49\n",
      "[3900]\tvalid_0's ER: 88.43\n",
      "[4000]\tvalid_0's ER: 88.33\n",
      "[4100]\tvalid_0's ER: 88.2\n",
      "[4200]\tvalid_0's ER: 88.14\n",
      "[4300]\tvalid_0's ER: 88.04\n",
      "[4400]\tvalid_0's ER: 87.94\n",
      "[4500]\tvalid_0's ER: 87.83\n",
      "[4600]\tvalid_0's ER: 87.8\n",
      "[4700]\tvalid_0's ER: 87.69\n",
      "[4800]\tvalid_0's ER: 87.61\n",
      "[4900]\tvalid_0's ER: 87.54\n",
      "[5000]\tvalid_0's ER: 87.43\n",
      "[5100]\tvalid_0's ER: 87.32\n",
      "[5200]\tvalid_0's ER: 87.22\n",
      "[5300]\tvalid_0's ER: 87.12\n",
      "[5400]\tvalid_0's ER: 87.05\n",
      "[5500]\tvalid_0's ER: 86.93\n",
      "[5600]\tvalid_0's ER: 86.89\n",
      "[5700]\tvalid_0's ER: 86.77\n",
      "[5800]\tvalid_0's ER: 86.71\n",
      "[5900]\tvalid_0's ER: 86.65\n",
      "[6000]\tvalid_0's ER: 86.62\n",
      "[6100]\tvalid_0's ER: 86.55\n",
      "[6200]\tvalid_0's ER: 86.49\n",
      "[6300]\tvalid_0's ER: 86.45\n",
      "Early stopping, best iteration is:\n",
      "[6242]\tvalid_0's ER: 86.45\n",
      "Evaluated only: ER\n"
     ]
    },
    {
     "name": "stderr",
     "output_type": "stream",
     "text": [
      "[I 2023-12-16 03:12:21,806] Trial 3 finished with value: 86.45 and parameters: {'lambda_l1': 85.55743463934473, 'lambda_l2': 327.01609252232487, 'learning_rate': 0.20121309814259694, 'num_leaves': 964, 'feature_fraction': 0.7299611980477667, 'min_data_in_leaf': 7466}. Best is trial 1 with value: 81.47.\n"
     ]
    },
    {
     "name": "stdout",
     "output_type": "stream",
     "text": [
      "**************** regression_l1 ****************\n",
      "Training until validation scores don't improve for 87 rounds\n"
     ]
    },
    {
     "name": "stderr",
     "output_type": "stream",
     "text": [
      "[I 2023-12-16 03:12:22,761] Trial 4 finished with value: 100.0 and parameters: {'lambda_l1': 522.2231009963078, 'lambda_l2': 824.3610628766831, 'learning_rate': 0.132558539236005, 'num_leaves': 425, 'feature_fraction': 0.9667655482045019, 'min_data_in_leaf': 7714}. Best is trial 1 with value: 81.47.\n"
     ]
    },
    {
     "name": "stdout",
     "output_type": "stream",
     "text": [
      "Early stopping, best iteration is:\n",
      "[1]\tvalid_0's ER: 100\n",
      "Evaluated only: ER\n",
      "**************** regression_l1 ****************\n",
      "Training until validation scores don't improve for 316 rounds\n",
      "[100]\tvalid_0's ER: 96.39\n",
      "[200]\tvalid_0's ER: 95.86\n",
      "[300]\tvalid_0's ER: 95.58\n",
      "[400]\tvalid_0's ER: 95.13\n",
      "[500]\tvalid_0's ER: 94.62\n",
      "[600]\tvalid_0's ER: 94.56\n",
      "[700]\tvalid_0's ER: 94.37\n",
      "[800]\tvalid_0's ER: 94.26\n",
      "[900]\tvalid_0's ER: 94.09\n",
      "[1000]\tvalid_0's ER: 94.01\n",
      "[1100]\tvalid_0's ER: 93.91\n",
      "[1200]\tvalid_0's ER: 93.84\n",
      "[1300]\tvalid_0's ER: 93.71\n",
      "[1400]\tvalid_0's ER: 93.6\n",
      "[1500]\tvalid_0's ER: 93.53\n",
      "[1600]\tvalid_0's ER: 93.47\n",
      "[1700]\tvalid_0's ER: 93.34\n",
      "[1800]\tvalid_0's ER: 93.25\n",
      "[1900]\tvalid_0's ER: 93.17\n",
      "[2000]\tvalid_0's ER: 93.09\n",
      "[2100]\tvalid_0's ER: 93.03\n",
      "[2200]\tvalid_0's ER: 92.95\n",
      "[2300]\tvalid_0's ER: 92.85\n",
      "[2400]\tvalid_0's ER: 92.78\n",
      "[2500]\tvalid_0's ER: 92.73\n",
      "[2600]\tvalid_0's ER: 92.63\n",
      "[2700]\tvalid_0's ER: 92.57\n",
      "[2800]\tvalid_0's ER: 92.55\n",
      "[2900]\tvalid_0's ER: 92.52\n",
      "[3000]\tvalid_0's ER: 92.5\n",
      "[3100]\tvalid_0's ER: 92.46\n",
      "[3200]\tvalid_0's ER: 92.44\n",
      "[3300]\tvalid_0's ER: 92.39\n",
      "[3400]\tvalid_0's ER: 92.39\n",
      "[3500]\tvalid_0's ER: 92.35\n",
      "[3600]\tvalid_0's ER: 92.32\n",
      "[3700]\tvalid_0's ER: 92.26\n",
      "[3800]\tvalid_0's ER: 92.24\n",
      "[3900]\tvalid_0's ER: 92.23\n",
      "[4000]\tvalid_0's ER: 92.2\n",
      "[4100]\tvalid_0's ER: 92.19\n",
      "[4200]\tvalid_0's ER: 92.2\n",
      "[4300]\tvalid_0's ER: 92.15\n",
      "[4400]\tvalid_0's ER: 92.12\n",
      "[4500]\tvalid_0's ER: 92.11\n",
      "[4600]\tvalid_0's ER: 92.08\n",
      "[4700]\tvalid_0's ER: 92.08\n",
      "[4800]\tvalid_0's ER: 92.08\n",
      "[4900]\tvalid_0's ER: 92.05\n",
      "[5000]\tvalid_0's ER: 92.03\n",
      "[5100]\tvalid_0's ER: 92.01\n",
      "[5200]\tvalid_0's ER: 92.01\n",
      "[5300]\tvalid_0's ER: 92.01\n",
      "[5400]\tvalid_0's ER: 92\n",
      "[5500]\tvalid_0's ER: 92\n",
      "Early stopping, best iteration is:\n",
      "[5185]\tvalid_0's ER: 92\n",
      "Evaluated only: ER\n"
     ]
    },
    {
     "name": "stderr",
     "output_type": "stream",
     "text": [
      "[I 2023-12-16 03:12:44,939] Trial 5 finished with value: 92.0 and parameters: {'lambda_l1': 533.1444540702748, 'lambda_l2': 365.11758225760104, 'learning_rate': 0.018796301475793312, 'num_leaves': 724, 'feature_fraction': 0.24753327347643622, 'min_data_in_leaf': 6784}. Best is trial 1 with value: 81.47.\n"
     ]
    },
    {
     "name": "stdout",
     "output_type": "stream",
     "text": [
      "**************** regression_l1 ****************\n",
      "Training until validation scores don't improve for 79 rounds\n",
      "[100]\tvalid_0's ER: 82.5\n",
      "[200]\tvalid_0's ER: 82.34\n",
      "Early stopping, best iteration is:\n",
      "[144]\tvalid_0's ER: 82.26\n",
      "Evaluated only: ER\n"
     ]
    },
    {
     "name": "stderr",
     "output_type": "stream",
     "text": [
      "[I 2023-12-16 03:12:46,992] Trial 6 finished with value: 82.26 and parameters: {'lambda_l1': 399.17058340352116, 'lambda_l2': 602.1765710308727, 'learning_rate': 0.1675196315829637, 'num_leaves': 652, 'feature_fraction': 0.5449607624025671, 'min_data_in_leaf': 1998}. Best is trial 1 with value: 81.47.\n"
     ]
    },
    {
     "name": "stdout",
     "output_type": "stream",
     "text": [
      "**************** regression_l1 ****************\n",
      "Training until validation scores don't improve for 149 rounds\n",
      "[100]\tvalid_0's ER: 76.4\n",
      "[200]\tvalid_0's ER: 73.12\n",
      "[300]\tvalid_0's ER: 72.24\n",
      "[400]\tvalid_0's ER: 71.76\n",
      "[500]\tvalid_0's ER: 70.81\n",
      "[600]\tvalid_0's ER: 68.77\n",
      "[700]\tvalid_0's ER: 66.84\n",
      "[800]\tvalid_0's ER: 67\n",
      "Early stopping, best iteration is:\n",
      "[683]\tvalid_0's ER: 66.77\n",
      "Evaluated only: ER\n"
     ]
    },
    {
     "name": "stderr",
     "output_type": "stream",
     "text": [
      "[I 2023-12-16 03:13:02,725] Trial 7 finished with value: 66.77 and parameters: {'lambda_l1': 686.1308047297878, 'lambda_l2': 986.0048929293945, 'learning_rate': 0.05034233465808331, 'num_leaves': 789, 'feature_fraction': 0.8970261979474397, 'min_data_in_leaf': 18}. Best is trial 7 with value: 66.77.\n"
     ]
    },
    {
     "name": "stdout",
     "output_type": "stream",
     "text": [
      "**************** regression_l1 ****************\n",
      "Training until validation scores don't improve for 67 rounds\n",
      "[100]\tvalid_0's ER: 95.68\n",
      "[200]\tvalid_0's ER: 94.11\n",
      "[300]\tvalid_0's ER: 93.58\n"
     ]
    },
    {
     "name": "stderr",
     "output_type": "stream",
     "text": [
      "[I 2023-12-16 03:13:05,693] Trial 8 finished with value: 93.37 and parameters: {'lambda_l1': 971.2507253900744, 'lambda_l2': 497.101230929326, 'learning_rate': 0.2940902412135076, 'num_leaves': 988, 'feature_fraction': 0.6352727633886721, 'min_data_in_leaf': 7903}. Best is trial 7 with value: 66.77.\n"
     ]
    },
    {
     "name": "stdout",
     "output_type": "stream",
     "text": [
      "Early stopping, best iteration is:\n",
      "[325]\tvalid_0's ER: 93.37\n",
      "Evaluated only: ER\n",
      "**************** regression_l1 ****************\n",
      "Training until validation scores don't improve for 88 rounds\n",
      "[100]\tvalid_0's ER: 77.52\n"
     ]
    },
    {
     "name": "stderr",
     "output_type": "stream",
     "text": [
      "[I 2023-12-16 03:13:07,900] Trial 9 finished with value: 77.11 and parameters: {'lambda_l1': 420.75596014338925, 'lambda_l2': 684.7433802124954, 'learning_rate': 0.13105389059369224, 'num_leaves': 647, 'feature_fraction': 0.7228484000254185, 'min_data_in_leaf': 901}. Best is trial 7 with value: 66.77.\n"
     ]
    },
    {
     "name": "stdout",
     "output_type": "stream",
     "text": [
      "[200]\tvalid_0's ER: 77.16\n",
      "Early stopping, best iteration is:\n",
      "[125]\tvalid_0's ER: 77.11\n",
      "Evaluated only: ER\n",
      "# Experimentos: 10\n",
      "Mejor experimento: {'lambda_l1': 686.1308047297878, 'lambda_l2': 986.0048929293945, 'learning_rate': 0.05034233465808331, 'num_leaves': 789, 'feature_fraction': 0.8970261979474397, 'min_data_in_leaf': 18}\n",
      "=========================================== Cluster 25 ===========================================\n"
     ]
    },
    {
     "name": "stderr",
     "output_type": "stream",
     "text": [
      "[I 2023-12-16 03:13:09,730] A new study created in memory with name: no-name-3896cc0e-c78a-44e5-9282-80f3bbf16e79\n"
     ]
    },
    {
     "name": "stdout",
     "output_type": "stream",
     "text": [
      "Periodos entrenar: [201701 201702 201703 201704 201705 201706 201707 201708 201709 201710\n",
      " 201711 201712 201801 201802 201803 201804 201805 201806 201807 201808\n",
      " 201809 201810 201811 201812 201901 201902 201903 201904 201905]\n",
      "Periodos validar: [201907]\n",
      "product_id a validar: 2320\n",
      "X_train: (53301, 120)\n",
      "y_train: (53301,)\n",
      "\n",
      "X_validate: (2320, 120)\n",
      "y_validate: (2320,)\n",
      "Optimizacion Bayesiana\n",
      "**************** regression_l1 ****************\n",
      "Training until validation scores don't improve for 87 rounds\n",
      "[100]\tvalid_0's ER: 81.23\n",
      "[200]\tvalid_0's ER: 80.76\n",
      "[300]\tvalid_0's ER: 80.69\n",
      "Early stopping, best iteration is:\n",
      "[256]\tvalid_0's ER: 80.66\n",
      "Evaluated only: ER\n"
     ]
    },
    {
     "name": "stderr",
     "output_type": "stream",
     "text": [
      "[I 2023-12-16 03:13:12,267] Trial 0 finished with value: 80.66 and parameters: {'lambda_l1': 756.2153643980496, 'lambda_l2': 657.2581085825622, 'learning_rate': 0.13467030615382936, 'num_leaves': 450, 'feature_fraction': 0.5197031177918701, 'min_data_in_leaf': 3656}. Best is trial 0 with value: 80.66.\n"
     ]
    },
    {
     "name": "stdout",
     "output_type": "stream",
     "text": [
      "**************** regression_l1 ****************\n",
      "Training until validation scores don't improve for 77 rounds\n",
      "[100]\tvalid_0's ER: 91.17\n",
      "[200]\tvalid_0's ER: 90.2\n",
      "[300]\tvalid_0's ER: 89.69\n",
      "[400]\tvalid_0's ER: 88.89\n",
      "[500]\tvalid_0's ER: 88.37\n",
      "[600]\tvalid_0's ER: 87.9\n",
      "[700]\tvalid_0's ER: 87.64\n",
      "[800]\tvalid_0's ER: 87.24\n",
      "[900]\tvalid_0's ER: 87.03\n",
      "[1000]\tvalid_0's ER: 86.83\n",
      "[1100]\tvalid_0's ER: 86.7\n",
      "[1200]\tvalid_0's ER: 86.39\n",
      "[1300]\tvalid_0's ER: 86.27\n",
      "[1400]\tvalid_0's ER: 86.13\n",
      "[1500]\tvalid_0's ER: 85.81\n",
      "[1600]\tvalid_0's ER: 85.51\n",
      "[1700]\tvalid_0's ER: 85.35\n",
      "[1800]\tvalid_0's ER: 85.28\n",
      "[1900]\tvalid_0's ER: 85.12\n",
      "[2000]\tvalid_0's ER: 85.03\n",
      "[2100]\tvalid_0's ER: 84.81\n",
      "[2200]\tvalid_0's ER: 84.72\n",
      "[2300]\tvalid_0's ER: 84.53\n",
      "[2400]\tvalid_0's ER: 84.4\n",
      "[2500]\tvalid_0's ER: 84.11\n",
      "[2600]\tvalid_0's ER: 83.96\n",
      "[2700]\tvalid_0's ER: 83.78\n",
      "[2800]\tvalid_0's ER: 83.71\n",
      "[2900]\tvalid_0's ER: 83.55\n",
      "[3000]\tvalid_0's ER: 83.44\n",
      "[3100]\tvalid_0's ER: 83.37\n",
      "[3200]\tvalid_0's ER: 83.25\n",
      "[3300]\tvalid_0's ER: 83.15\n",
      "[3400]\tvalid_0's ER: 83.1\n",
      "[3500]\tvalid_0's ER: 83.03\n",
      "[3600]\tvalid_0's ER: 82.96\n",
      "[3700]\tvalid_0's ER: 82.88\n",
      "[3800]\tvalid_0's ER: 82.83\n",
      "[3900]\tvalid_0's ER: 82.75\n",
      "[4000]\tvalid_0's ER: 82.71\n",
      "[4100]\tvalid_0's ER: 82.65\n",
      "[4200]\tvalid_0's ER: 82.58\n",
      "[4300]\tvalid_0's ER: 82.5\n",
      "[4400]\tvalid_0's ER: 82.45\n",
      "Early stopping, best iteration is:\n",
      "[4411]\tvalid_0's ER: 82.39\n",
      "Evaluated only: ER\n"
     ]
    },
    {
     "name": "stderr",
     "output_type": "stream",
     "text": [
      "[I 2023-12-16 03:13:46,023] Trial 1 finished with value: 82.39 and parameters: {'lambda_l1': 370.6109237406344, 'lambda_l2': 689.2843537231381, 'learning_rate': 0.18270784073785462, 'num_leaves': 505, 'feature_fraction': 0.8832838294396659, 'min_data_in_leaf': 7824}. Best is trial 0 with value: 80.66.\n"
     ]
    },
    {
     "name": "stdout",
     "output_type": "stream",
     "text": [
      "**************** regression_l1 ****************\n",
      "Training until validation scores don't improve for 68 rounds\n",
      "[100]\tvalid_0's ER: 84.61\n",
      "[200]\tvalid_0's ER: 84.09\n"
     ]
    },
    {
     "name": "stderr",
     "output_type": "stream",
     "text": [
      "[I 2023-12-16 03:13:48,555] Trial 2 finished with value: 83.76 and parameters: {'lambda_l1': 784.0013007300151, 'lambda_l2': 33.02279858972534, 'learning_rate': 0.2741367483026738, 'num_leaves': 676, 'feature_fraction': 0.5592417630101914, 'min_data_in_leaf': 4600}. Best is trial 0 with value: 80.66.\n"
     ]
    },
    {
     "name": "stdout",
     "output_type": "stream",
     "text": [
      "[300]\tvalid_0's ER: 83.78\n",
      "Early stopping, best iteration is:\n",
      "[254]\tvalid_0's ER: 83.76\n",
      "Evaluated only: ER\n",
      "**************** regression_l1 ****************\n",
      "Training until validation scores don't improve for 69 rounds\n",
      "[100]\tvalid_0's ER: 80.53\n",
      "[200]\tvalid_0's ER: 79.8\n"
     ]
    },
    {
     "name": "stderr",
     "output_type": "stream",
     "text": [
      "[I 2023-12-16 03:13:50,449] Trial 3 finished with value: 79.55 and parameters: {'lambda_l1': 949.8463393042882, 'lambda_l2': 36.287418810745265, 'learning_rate': 0.2501133671837453, 'num_leaves': 237, 'feature_fraction': 0.2927825610789568, 'min_data_in_leaf': 2855}. Best is trial 3 with value: 79.55.\n"
     ]
    },
    {
     "name": "stdout",
     "output_type": "stream",
     "text": [
      "[300]\tvalid_0's ER: 79.61\n",
      "Early stopping, best iteration is:\n",
      "[247]\tvalid_0's ER: 79.55\n",
      "Evaluated only: ER\n",
      "**************** regression_l1 ****************\n",
      "Training until validation scores don't improve for 107 rounds\n",
      "[100]\tvalid_0's ER: 89.05\n",
      "[200]\tvalid_0's ER: 88.46\n"
     ]
    },
    {
     "name": "stderr",
     "output_type": "stream",
     "text": [
      "[I 2023-12-16 03:13:52,241] Trial 4 finished with value: 88.44 and parameters: {'lambda_l1': 933.0787475968016, 'lambda_l2': 80.2555621665334, 'learning_rate': 0.08760825586968772, 'num_leaves': 547, 'feature_fraction': 0.5212165321841877, 'min_data_in_leaf': 6358}. Best is trial 3 with value: 79.55.\n"
     ]
    },
    {
     "name": "stdout",
     "output_type": "stream",
     "text": [
      "Early stopping, best iteration is:\n",
      "[152]\tvalid_0's ER: 88.44\n",
      "Evaluated only: ER\n",
      "**************** regression_l1 ****************\n",
      "Training until validation scores don't improve for 514 rounds\n",
      "[100]\tvalid_0's ER: 86.82\n",
      "[200]\tvalid_0's ER: 83.82\n",
      "[300]\tvalid_0's ER: 82.35\n",
      "[400]\tvalid_0's ER: 81.19\n",
      "[500]\tvalid_0's ER: 80.06\n",
      "[600]\tvalid_0's ER: 78.59\n",
      "[700]\tvalid_0's ER: 78.15\n",
      "[800]\tvalid_0's ER: 78.01\n",
      "[900]\tvalid_0's ER: 77.93\n",
      "[1000]\tvalid_0's ER: 77.73\n",
      "[1100]\tvalid_0's ER: 77.77\n",
      "[1200]\tvalid_0's ER: 77.72\n",
      "[1300]\tvalid_0's ER: 77.62\n",
      "[1400]\tvalid_0's ER: 77.43\n",
      "[1500]\tvalid_0's ER: 77.13\n",
      "[1600]\tvalid_0's ER: 76.82\n",
      "[1700]\tvalid_0's ER: 76.71\n",
      "[1800]\tvalid_0's ER: 76.45\n",
      "[1900]\tvalid_0's ER: 76.46\n",
      "[2000]\tvalid_0's ER: 76.38\n",
      "[2100]\tvalid_0's ER: 76.4\n",
      "[2200]\tvalid_0's ER: 76.25\n",
      "[2300]\tvalid_0's ER: 76.23\n",
      "[2400]\tvalid_0's ER: 76.14\n",
      "[2500]\tvalid_0's ER: 76.16\n",
      "[2600]\tvalid_0's ER: 76.1\n",
      "[2700]\tvalid_0's ER: 76.05\n",
      "[2800]\tvalid_0's ER: 76.03\n",
      "[2900]\tvalid_0's ER: 75.94\n",
      "[3000]\tvalid_0's ER: 75.94\n",
      "[3100]\tvalid_0's ER: 75.94\n",
      "[3200]\tvalid_0's ER: 75.99\n",
      "[3300]\tvalid_0's ER: 75.98\n",
      "[3400]\tvalid_0's ER: 75.78\n",
      "[3500]\tvalid_0's ER: 75.8\n",
      "[3600]\tvalid_0's ER: 75.83\n",
      "[3700]\tvalid_0's ER: 75.85\n",
      "[3800]\tvalid_0's ER: 75.66\n",
      "[3900]\tvalid_0's ER: 75.59\n",
      "[4000]\tvalid_0's ER: 75.59\n",
      "[4100]\tvalid_0's ER: 75.51\n",
      "[4200]\tvalid_0's ER: 75.47\n",
      "[4300]\tvalid_0's ER: 75.45\n",
      "[4400]\tvalid_0's ER: 75.24\n",
      "[4500]\tvalid_0's ER: 75.13\n",
      "[4600]\tvalid_0's ER: 75.09\n",
      "[4700]\tvalid_0's ER: 74.97\n",
      "[4800]\tvalid_0's ER: 74.84\n",
      "[4900]\tvalid_0's ER: 74.87\n",
      "[5000]\tvalid_0's ER: 74.8\n",
      "[5100]\tvalid_0's ER: 74.73\n",
      "[5200]\tvalid_0's ER: 74.67\n",
      "[5300]\tvalid_0's ER: 74.69\n",
      "[5400]\tvalid_0's ER: 74.63\n",
      "[5500]\tvalid_0's ER: 74.63\n",
      "[5600]\tvalid_0's ER: 74.5\n",
      "[5700]\tvalid_0's ER: 74.47\n",
      "[5800]\tvalid_0's ER: 74.46\n",
      "[5900]\tvalid_0's ER: 74.45\n",
      "[6000]\tvalid_0's ER: 74.42\n",
      "[6100]\tvalid_0's ER: 74.34\n",
      "[6200]\tvalid_0's ER: 74.37\n",
      "[6300]\tvalid_0's ER: 74.35\n",
      "[6400]\tvalid_0's ER: 74.31\n",
      "[6500]\tvalid_0's ER: 74.26\n",
      "[6600]\tvalid_0's ER: 74.24\n",
      "[6700]\tvalid_0's ER: 74.26\n",
      "[6800]\tvalid_0's ER: 74.22\n",
      "[6900]\tvalid_0's ER: 74.23\n",
      "[7000]\tvalid_0's ER: 74.18\n",
      "[7100]\tvalid_0's ER: 74.1\n",
      "[7200]\tvalid_0's ER: 74.03\n",
      "[7300]\tvalid_0's ER: 74.04\n",
      "[7400]\tvalid_0's ER: 74.02\n",
      "[7500]\tvalid_0's ER: 74.02\n",
      "[7600]\tvalid_0's ER: 74.01\n",
      "[7700]\tvalid_0's ER: 73.99\n",
      "[7800]\tvalid_0's ER: 73.95\n",
      "[7900]\tvalid_0's ER: 73.92\n",
      "[8000]\tvalid_0's ER: 73.91\n",
      "[8100]\tvalid_0's ER: 73.87\n",
      "[8200]\tvalid_0's ER: 73.84\n",
      "[8300]\tvalid_0's ER: 73.83\n",
      "[8400]\tvalid_0's ER: 73.84\n",
      "[8500]\tvalid_0's ER: 73.82\n",
      "[8600]\tvalid_0's ER: 73.82\n",
      "[8700]\tvalid_0's ER: 73.81\n",
      "[8800]\tvalid_0's ER: 73.8\n",
      "[8900]\tvalid_0's ER: 73.75\n",
      "[9000]\tvalid_0's ER: 73.74\n",
      "[9100]\tvalid_0's ER: 73.75\n",
      "[9200]\tvalid_0's ER: 73.77\n",
      "[9300]\tvalid_0's ER: 73.79\n",
      "Early stopping, best iteration is:\n",
      "[8874]\tvalid_0's ER: 73.74\n",
      "Evaluated only: ER\n"
     ]
    },
    {
     "name": "stderr",
     "output_type": "stream",
     "text": [
      "[I 2023-12-16 03:15:20,501] Trial 5 finished with value: 73.74 and parameters: {'lambda_l1': 269.6040653272981, 'lambda_l2': 82.3436579930974, 'learning_rate': 0.010756603337469793, 'num_leaves': 1022, 'feature_fraction': 0.8599937886304521, 'min_data_in_leaf': 2561}. Best is trial 5 with value: 73.74.\n"
     ]
    },
    {
     "name": "stdout",
     "output_type": "stream",
     "text": [
      "**************** regression_l1 ****************\n",
      "Training until validation scores don't improve for 133 rounds\n",
      "[100]\tvalid_0's ER: 84.8\n",
      "[200]\tvalid_0's ER: 83.79\n",
      "[300]\tvalid_0's ER: 83.54\n"
     ]
    },
    {
     "name": "stderr",
     "output_type": "stream",
     "text": [
      "[I 2023-12-16 03:15:23,036] Trial 6 finished with value: 83.46 and parameters: {'lambda_l1': 629.482175733548, 'lambda_l2': 95.715517787474, 'learning_rate': 0.05967648185159107, 'num_leaves': 694, 'feature_fraction': 0.42401376157379156, 'min_data_in_leaf': 4058}. Best is trial 5 with value: 73.74.\n"
     ]
    },
    {
     "name": "stdout",
     "output_type": "stream",
     "text": [
      "Early stopping, best iteration is:\n",
      "[232]\tvalid_0's ER: 83.46\n",
      "Evaluated only: ER\n",
      "**************** regression_l1 ****************\n",
      "Training until validation scores don't improve for 67 rounds\n",
      "[100]\tvalid_0's ER: 80.32\n",
      "[200]\tvalid_0's ER: 78.77\n",
      "[300]\tvalid_0's ER: 77.82\n",
      "[400]\tvalid_0's ER: 76.94\n",
      "[500]\tvalid_0's ER: 76.23\n",
      "[600]\tvalid_0's ER: 75.62\n",
      "[700]\tvalid_0's ER: 75.15\n",
      "[800]\tvalid_0's ER: 74.93\n",
      "[900]\tvalid_0's ER: 74.62\n",
      "[1000]\tvalid_0's ER: 74.58\n",
      "[1100]\tvalid_0's ER: 74.19\n",
      "[1200]\tvalid_0's ER: 73.88\n",
      "[1300]\tvalid_0's ER: 73.68\n",
      "Early stopping, best iteration is:\n",
      "[1251]\tvalid_0's ER: 73.68\n",
      "Evaluated only: ER\n"
     ]
    },
    {
     "name": "stderr",
     "output_type": "stream",
     "text": [
      "[I 2023-12-16 03:15:36,108] Trial 7 finished with value: 73.68 and parameters: {'lambda_l1': 288.2993289368633, 'lambda_l2': 804.8206349602575, 'learning_rate': 0.2781797571431717, 'num_leaves': 335, 'feature_fraction': 0.7191081961589743, 'min_data_in_leaf': 3625}. Best is trial 7 with value: 73.68.\n"
     ]
    },
    {
     "name": "stdout",
     "output_type": "stream",
     "text": [
      "**************** regression_l1 ****************\n",
      "Training until validation scores don't improve for 95 rounds\n",
      "[100]\tvalid_0's ER: 84.63\n",
      "[200]\tvalid_0's ER: 83.06\n",
      "[300]\tvalid_0's ER: 82.72\n"
     ]
    },
    {
     "name": "stderr",
     "output_type": "stream",
     "text": [
      "[I 2023-12-16 03:15:39,063] Trial 8 finished with value: 82.69 and parameters: {'lambda_l1': 737.8134477781696, 'lambda_l2': 106.73705749173878, 'learning_rate': 0.10949015762162162, 'num_leaves': 518, 'feature_fraction': 0.6004688539990959, 'min_data_in_leaf': 4616}. Best is trial 7 with value: 73.68.\n"
     ]
    },
    {
     "name": "stdout",
     "output_type": "stream",
     "text": [
      "Early stopping, best iteration is:\n",
      "[243]\tvalid_0's ER: 82.69\n",
      "Evaluated only: ER\n",
      "**************** regression_l1 ****************\n",
      "Training until validation scores don't improve for 71 rounds\n"
     ]
    },
    {
     "name": "stderr",
     "output_type": "stream",
     "text": [
      "[I 2023-12-16 03:15:40,037] Trial 9 finished with value: 73.9 and parameters: {'lambda_l1': 711.7887803626265, 'lambda_l2': 104.56134197289258, 'learning_rate': 0.23225638349798217, 'num_leaves': 291, 'feature_fraction': 0.3335902462073914, 'min_data_in_leaf': 1959}. Best is trial 7 with value: 73.68.\n"
     ]
    },
    {
     "name": "stdout",
     "output_type": "stream",
     "text": [
      "[100]\tvalid_0's ER: 74.71\n",
      "Early stopping, best iteration is:\n",
      "[46]\tvalid_0's ER: 73.9\n",
      "Evaluated only: ER\n",
      "# Experimentos: 10\n",
      "Mejor experimento: {'lambda_l1': 288.2993289368633, 'lambda_l2': 804.8206349602575, 'learning_rate': 0.2781797571431717, 'num_leaves': 335, 'feature_fraction': 0.7191081961589743, 'min_data_in_leaf': 3625}\n",
      "=========================================== Cluster 26 ===========================================\n",
      "Periodos entrenar: [201701 201702 201703 201704 201705 201706 201707 201708 201709 201710\n",
      " 201711 201712 201801 201802 201803 201804 201805 201806 201807 201808\n",
      " 201809 201810 201811 201812 201901 201902 201903 201904 201905]\n",
      "Periodos validar: [201907]\n",
      "product_id a validar: 59160\n"
     ]
    },
    {
     "name": "stderr",
     "output_type": "stream",
     "text": [
      "[I 2023-12-16 03:16:26,112] A new study created in memory with name: no-name-dd78a2dd-3495-4f3f-9fdd-22de9edbb561\n"
     ]
    },
    {
     "name": "stdout",
     "output_type": "stream",
     "text": [
      "X_train: (1237711, 120)\n",
      "y_train: (1237711,)\n",
      "\n",
      "X_validate: (59160, 120)\n",
      "y_validate: (59160,)\n",
      "Optimizacion Bayesiana\n",
      "**************** regression_l1 ****************\n",
      "Training until validation scores don't improve for 132 rounds\n",
      "[100]\tvalid_0's ER: 85.21\n",
      "[200]\tvalid_0's ER: 84.73\n",
      "[300]\tvalid_0's ER: 84.63\n",
      "[400]\tvalid_0's ER: 84.64\n",
      "[500]\tvalid_0's ER: 84.53\n",
      "[600]\tvalid_0's ER: 84.51\n",
      "[700]\tvalid_0's ER: 84.41\n",
      "[800]\tvalid_0's ER: 84.35\n",
      "[900]\tvalid_0's ER: 84.27\n",
      "[1000]\tvalid_0's ER: 84.19\n",
      "[1100]\tvalid_0's ER: 84.14\n",
      "[1200]\tvalid_0's ER: 84.08\n",
      "[1300]\tvalid_0's ER: 84.03\n",
      "[1400]\tvalid_0's ER: 83.98\n",
      "[1500]\tvalid_0's ER: 83.93\n",
      "[1600]\tvalid_0's ER: 83.88\n",
      "[1700]\tvalid_0's ER: 83.84\n",
      "[1800]\tvalid_0's ER: 83.84\n",
      "Early stopping, best iteration is:\n",
      "[1673]\tvalid_0's ER: 83.84\n",
      "Evaluated only: ER\n"
     ]
    },
    {
     "name": "stderr",
     "output_type": "stream",
     "text": [
      "[I 2023-12-16 03:26:44,241] Trial 0 finished with value: 83.84 and parameters: {'lambda_l1': 312.9119885947383, 'lambda_l2': 675.9627702320246, 'learning_rate': 0.06073620339687853, 'num_leaves': 288, 'feature_fraction': 0.6774702356552669, 'min_data_in_leaf': 5190}. Best is trial 0 with value: 83.84.\n"
     ]
    },
    {
     "name": "stdout",
     "output_type": "stream",
     "text": [
      "**************** regression_l1 ****************\n",
      "Training until validation scores don't improve for 472 rounds\n",
      "[100]\tvalid_0's ER: 89.26\n",
      "[200]\tvalid_0's ER: 85.92\n",
      "[300]\tvalid_0's ER: 85.09\n",
      "[400]\tvalid_0's ER: 84.62\n",
      "[500]\tvalid_0's ER: 84.3\n",
      "[600]\tvalid_0's ER: 83.98\n",
      "[700]\tvalid_0's ER: 83.83\n",
      "[800]\tvalid_0's ER: 83.73\n",
      "[900]\tvalid_0's ER: 83.65\n",
      "[1000]\tvalid_0's ER: 83.55\n",
      "[1100]\tvalid_0's ER: 83.43\n",
      "[1200]\tvalid_0's ER: 83.39\n",
      "[1300]\tvalid_0's ER: 83.37\n",
      "[1400]\tvalid_0's ER: 83.33\n",
      "[1500]\tvalid_0's ER: 83.31\n",
      "[1600]\tvalid_0's ER: 83.29\n",
      "[1700]\tvalid_0's ER: 83.27\n",
      "[1800]\tvalid_0's ER: 83.25\n",
      "[1900]\tvalid_0's ER: 83.23\n",
      "[2000]\tvalid_0's ER: 83.21\n",
      "[2100]\tvalid_0's ER: 83.2\n",
      "[2200]\tvalid_0's ER: 83.18\n",
      "[2300]\tvalid_0's ER: 83.15\n",
      "[2400]\tvalid_0's ER: 83.14\n",
      "[2500]\tvalid_0's ER: 83.11\n",
      "[2600]\tvalid_0's ER: 83.09\n",
      "[2700]\tvalid_0's ER: 83.06\n",
      "[2800]\tvalid_0's ER: 83.05\n",
      "[2900]\tvalid_0's ER: 83.04\n",
      "[3000]\tvalid_0's ER: 83.03\n",
      "[3100]\tvalid_0's ER: 83.01\n",
      "[3200]\tvalid_0's ER: 83\n",
      "[3300]\tvalid_0's ER: 82.98\n",
      "[3400]\tvalid_0's ER: 82.96\n",
      "[3500]\tvalid_0's ER: 82.94\n",
      "[3600]\tvalid_0's ER: 82.92\n",
      "[3700]\tvalid_0's ER: 82.92\n",
      "[3800]\tvalid_0's ER: 82.92\n",
      "[3900]\tvalid_0's ER: 82.91\n",
      "[4000]\tvalid_0's ER: 82.89\n",
      "[4100]\tvalid_0's ER: 82.88\n",
      "[4200]\tvalid_0's ER: 82.87\n",
      "[4300]\tvalid_0's ER: 82.86\n",
      "[4400]\tvalid_0's ER: 82.85\n",
      "[4500]\tvalid_0's ER: 82.85\n",
      "[4600]\tvalid_0's ER: 82.84\n",
      "[4700]\tvalid_0's ER: 82.83\n",
      "[4800]\tvalid_0's ER: 82.82\n",
      "[4900]\tvalid_0's ER: 82.81\n",
      "[5000]\tvalid_0's ER: 82.8\n",
      "[5100]\tvalid_0's ER: 82.8\n",
      "[5200]\tvalid_0's ER: 82.78\n",
      "[5300]\tvalid_0's ER: 82.78\n",
      "[5400]\tvalid_0's ER: 82.78\n",
      "[5500]\tvalid_0's ER: 82.77\n",
      "[5600]\tvalid_0's ER: 82.76\n",
      "[5700]\tvalid_0's ER: 82.75\n",
      "[5800]\tvalid_0's ER: 82.74\n",
      "[5900]\tvalid_0's ER: 82.74\n",
      "[6000]\tvalid_0's ER: 82.74\n",
      "[6100]\tvalid_0's ER: 82.74\n",
      "[6200]\tvalid_0's ER: 82.73\n",
      "[6300]\tvalid_0's ER: 82.72\n",
      "[6400]\tvalid_0's ER: 82.72\n",
      "[6500]\tvalid_0's ER: 82.71\n",
      "[6600]\tvalid_0's ER: 82.71\n",
      "[6700]\tvalid_0's ER: 82.69\n",
      "[6800]\tvalid_0's ER: 82.69\n",
      "[6900]\tvalid_0's ER: 82.69\n",
      "[7000]\tvalid_0's ER: 82.68\n",
      "[7100]\tvalid_0's ER: 82.67\n",
      "[7200]\tvalid_0's ER: 82.67\n",
      "[7300]\tvalid_0's ER: 82.67\n",
      "[7400]\tvalid_0's ER: 82.67\n",
      "[7500]\tvalid_0's ER: 82.67\n",
      "Early stopping, best iteration is:\n",
      "[7099]\tvalid_0's ER: 82.67\n",
      "Evaluated only: ER\n"
     ]
    },
    {
     "name": "stderr",
     "output_type": "stream",
     "text": [
      "[I 2023-12-16 03:59:33,899] Trial 1 finished with value: 82.67 and parameters: {'lambda_l1': 241.8599462156864, 'lambda_l2': 48.89429959387548, 'learning_rate': 0.011844203303659375, 'num_leaves': 950, 'feature_fraction': 0.5417345292063578, 'min_data_in_leaf': 3964}. Best is trial 1 with value: 82.67.\n"
     ]
    },
    {
     "name": "stdout",
     "output_type": "stream",
     "text": [
      "**************** regression_l1 ****************\n",
      "Training until validation scores don't improve for 91 rounds\n",
      "[100]\tvalid_0's ER: 86.13\n",
      "[200]\tvalid_0's ER: 85.64\n",
      "[300]\tvalid_0's ER: 85.54\n",
      "[400]\tvalid_0's ER: 85.46\n",
      "[500]\tvalid_0's ER: 85.38\n",
      "[600]\tvalid_0's ER: 85.31\n",
      "[700]\tvalid_0's ER: 85.26\n",
      "[800]\tvalid_0's ER: 85.23\n",
      "[900]\tvalid_0's ER: 85.23\n",
      "Early stopping, best iteration is:\n",
      "[810]\tvalid_0's ER: 85.22\n",
      "Evaluated only: ER\n"
     ]
    },
    {
     "name": "stderr",
     "output_type": "stream",
     "text": [
      "[I 2023-12-16 04:02:20,019] Trial 2 finished with value: 85.22 and parameters: {'lambda_l1': 984.2110790695356, 'lambda_l2': 353.07001414513394, 'learning_rate': 0.119931116801182, 'num_leaves': 1015, 'feature_fraction': 0.5903838745970367, 'min_data_in_leaf': 7685}. Best is trial 1 with value: 82.67.\n"
     ]
    },
    {
     "name": "stdout",
     "output_type": "stream",
     "text": [
      "**************** regression_l1 ****************\n",
      "Training until validation scores don't improve for 172 rounds\n",
      "[100]\tvalid_0's ER: 84.85\n",
      "[200]\tvalid_0's ER: 83.7\n",
      "[300]\tvalid_0's ER: 83.47\n",
      "[400]\tvalid_0's ER: 83.31\n",
      "[500]\tvalid_0's ER: 83.16\n",
      "[600]\tvalid_0's ER: 83.09\n",
      "[700]\tvalid_0's ER: 83.07\n",
      "[800]\tvalid_0's ER: 82.97\n",
      "[900]\tvalid_0's ER: 82.9\n",
      "[1000]\tvalid_0's ER: 82.86\n",
      "[1100]\tvalid_0's ER: 82.81\n",
      "[1200]\tvalid_0's ER: 82.76\n",
      "[1300]\tvalid_0's ER: 82.73\n",
      "[1400]\tvalid_0's ER: 82.68\n",
      "[1500]\tvalid_0's ER: 82.62\n",
      "[1600]\tvalid_0's ER: 82.56\n",
      "[1700]\tvalid_0's ER: 82.54\n",
      "[1800]\tvalid_0's ER: 82.55\n",
      "Early stopping, best iteration is:\n",
      "[1726]\tvalid_0's ER: 82.53\n",
      "Evaluated only: ER\n"
     ]
    },
    {
     "name": "stderr",
     "output_type": "stream",
     "text": [
      "[I 2023-12-16 04:07:35,439] Trial 3 finished with value: 82.53 and parameters: {'lambda_l1': 238.55372701253685, 'lambda_l2': 680.0073385856989, 'learning_rate': 0.0407000341742858, 'num_leaves': 241, 'feature_fraction': 0.22795768906789737, 'min_data_in_leaf': 2114}. Best is trial 3 with value: 82.53.\n"
     ]
    },
    {
     "name": "stdout",
     "output_type": "stream",
     "text": [
      "**************** regression_l1 ****************\n",
      "Training until validation scores don't improve for 75 rounds\n",
      "[100]\tvalid_0's ER: 84.84\n",
      "Early stopping, best iteration is:\n",
      "[96]\tvalid_0's ER: 84.83\n",
      "Evaluated only: ER\n"
     ]
    },
    {
     "name": "stderr",
     "output_type": "stream",
     "text": [
      "[I 2023-12-16 04:08:19,728] Trial 4 finished with value: 84.83 and parameters: {'lambda_l1': 704.4355109565245, 'lambda_l2': 260.3897017861044, 'learning_rate': 0.1994943124704876, 'num_leaves': 39, 'feature_fraction': 0.6111284401715216, 'min_data_in_leaf': 58}. Best is trial 3 with value: 82.53.\n"
     ]
    },
    {
     "name": "stdout",
     "output_type": "stream",
     "text": [
      "**************** regression_l1 ****************\n",
      "Training until validation scores don't improve for 93 rounds\n",
      "[100]\tvalid_0's ER: 84.11\n",
      "[200]\tvalid_0's ER: 83.41\n",
      "[300]\tvalid_0's ER: 83.18\n",
      "[400]\tvalid_0's ER: 83\n",
      "Early stopping, best iteration is:\n",
      "[395]\tvalid_0's ER: 83\n",
      "Evaluated only: ER\n"
     ]
    },
    {
     "name": "stderr",
     "output_type": "stream",
     "text": [
      "[I 2023-12-16 04:10:13,407] Trial 5 finished with value: 83.0 and parameters: {'lambda_l1': 478.9725050411452, 'lambda_l2': 781.9233157143256, 'learning_rate': 0.11419146598842494, 'num_leaves': 52, 'feature_fraction': 0.7131030789909516, 'min_data_in_leaf': 1105}. Best is trial 3 with value: 82.53.\n"
     ]
    },
    {
     "name": "stdout",
     "output_type": "stream",
     "text": [
      "**************** regression_l1 ****************\n",
      "Training until validation scores don't improve for 70 rounds\n",
      "[100]\tvalid_0's ER: 85.48\n",
      "[200]\tvalid_0's ER: 85.21\n",
      "[300]\tvalid_0's ER: 84.9\n",
      "[400]\tvalid_0's ER: 84.77\n",
      "Early stopping, best iteration is:\n",
      "[422]\tvalid_0's ER: 84.72\n",
      "Evaluated only: ER\n"
     ]
    },
    {
     "name": "stderr",
     "output_type": "stream",
     "text": [
      "[I 2023-12-16 04:11:50,009] Trial 6 finished with value: 84.72 and parameters: {'lambda_l1': 983.2848544015793, 'lambda_l2': 175.6119719830196, 'learning_rate': 0.24028412008162928, 'num_leaves': 1016, 'feature_fraction': 0.5231214137948212, 'min_data_in_leaf': 4206}. Best is trial 3 with value: 82.53.\n"
     ]
    },
    {
     "name": "stdout",
     "output_type": "stream",
     "text": [
      "**************** regression_l1 ****************\n",
      "Training until validation scores don't improve for 71 rounds\n",
      "[100]\tvalid_0's ER: 84.97\n",
      "[200]\tvalid_0's ER: 84.14\n",
      "[300]\tvalid_0's ER: 83.85\n",
      "[400]\tvalid_0's ER: 83.72\n",
      "[500]\tvalid_0's ER: 83.66\n",
      "[600]\tvalid_0's ER: 83.54\n",
      "[700]\tvalid_0's ER: 83.47\n",
      "Early stopping, best iteration is:\n",
      "[682]\tvalid_0's ER: 83.46\n",
      "Evaluated only: ER\n"
     ]
    },
    {
     "name": "stderr",
     "output_type": "stream",
     "text": [
      "[I 2023-12-16 04:13:24,385] Trial 7 finished with value: 83.46 and parameters: {'lambda_l1': 456.4557735774943, 'lambda_l2': 14.44583067722094, 'learning_rate': 0.23081837949553638, 'num_leaves': 86, 'feature_fraction': 0.33243244798563143, 'min_data_in_leaf': 6690}. Best is trial 3 with value: 82.53.\n"
     ]
    },
    {
     "name": "stdout",
     "output_type": "stream",
     "text": [
      "**************** regression_l1 ****************\n",
      "Training until validation scores don't improve for 76 rounds\n",
      "[100]\tvalid_0's ER: 82.69\n",
      "[200]\tvalid_0's ER: 82.64\n",
      "Early stopping, best iteration is:\n",
      "[151]\tvalid_0's ER: 82.45\n",
      "Evaluated only: ER\n"
     ]
    },
    {
     "name": "stderr",
     "output_type": "stream",
     "text": [
      "[I 2023-12-16 04:14:20,843] Trial 8 finished with value: 82.45 and parameters: {'lambda_l1': 117.82188060612742, 'lambda_l2': 469.6701557389066, 'learning_rate': 0.1856648664801027, 'num_leaves': 779, 'feature_fraction': 0.38511810865809243, 'min_data_in_leaf': 930}. Best is trial 8 with value: 82.45.\n"
     ]
    },
    {
     "name": "stdout",
     "output_type": "stream",
     "text": [
      "**************** regression_l1 ****************\n",
      "Training until validation scores don't improve for 74 rounds\n",
      "[100]\tvalid_0's ER: 85.26\n",
      "[200]\tvalid_0's ER: 84.64\n",
      "[300]\tvalid_0's ER: 84.36\n",
      "[400]\tvalid_0's ER: 84.2\n",
      "[500]\tvalid_0's ER: 83.99\n",
      "[600]\tvalid_0's ER: 83.89\n",
      "[700]\tvalid_0's ER: 83.75\n",
      "[800]\tvalid_0's ER: 83.68\n",
      "[900]\tvalid_0's ER: 83.64\n",
      "Early stopping, best iteration is:\n",
      "[830]\tvalid_0's ER: 83.62\n",
      "Evaluated only: ER\n"
     ]
    },
    {
     "name": "stderr",
     "output_type": "stream",
     "text": [
      "[I 2023-12-16 04:17:39,958] Trial 9 finished with value: 83.62 and parameters: {'lambda_l1': 186.07534872779775, 'lambda_l2': 685.2471514252113, 'learning_rate': 0.20817904387721625, 'num_leaves': 493, 'feature_fraction': 0.5787483673258731, 'min_data_in_leaf': 6202}. Best is trial 8 with value: 82.45.\n"
     ]
    },
    {
     "name": "stdout",
     "output_type": "stream",
     "text": [
      "# Experimentos: 10\n",
      "Mejor experimento: {'lambda_l1': 117.82188060612742, 'lambda_l2': 469.6701557389066, 'learning_rate': 0.1856648664801027, 'num_leaves': 779, 'feature_fraction': 0.38511810865809243, 'min_data_in_leaf': 930}\n",
      "=========================================== Cluster 27 ===========================================\n"
     ]
    },
    {
     "name": "stderr",
     "output_type": "stream",
     "text": [
      "[I 2023-12-16 04:17:42,494] A new study created in memory with name: no-name-4d9ce51a-ba2a-4687-ba99-047ad42e9cee\n"
     ]
    },
    {
     "name": "stdout",
     "output_type": "stream",
     "text": [
      "Periodos entrenar: [201701 201702 201703 201704 201705 201706 201707 201708 201709 201710\n",
      " 201711 201712 201801 201802 201803 201804 201805 201806 201807 201808\n",
      " 201809 201810 201811 201812 201901 201902 201903 201904 201905]\n",
      "Periodos validar: [201907]\n",
      "product_id a validar: 2900\n",
      "X_train: (77285, 120)\n",
      "y_train: (77285,)\n",
      "\n",
      "X_validate: (2900, 120)\n",
      "y_validate: (2900,)\n",
      "Optimizacion Bayesiana\n",
      "**************** regression_l1 ****************\n",
      "Training until validation scores don't improve for 67 rounds\n",
      "[100]\tvalid_0's ER: 95.17\n"
     ]
    },
    {
     "name": "stderr",
     "output_type": "stream",
     "text": [
      "[I 2023-12-16 04:17:45,262] Trial 0 finished with value: 94.33 and parameters: {'lambda_l1': 174.7702203187026, 'lambda_l2': 506.0800089442994, 'learning_rate': 0.2833760036386459, 'num_leaves': 932, 'feature_fraction': 0.7605917617146181, 'min_data_in_leaf': 7591}. Best is trial 0 with value: 94.33.\n"
     ]
    },
    {
     "name": "stdout",
     "output_type": "stream",
     "text": [
      "[200]\tvalid_0's ER: 94.35\n",
      "Early stopping, best iteration is:\n",
      "[142]\tvalid_0's ER: 94.33\n",
      "Evaluated only: ER\n",
      "**************** regression_l1 ****************\n",
      "Training until validation scores don't improve for 176 rounds\n",
      "[100]\tvalid_0's ER: 93.42\n",
      "[200]\tvalid_0's ER: 92.84\n",
      "[300]\tvalid_0's ER: 92.11\n",
      "[400]\tvalid_0's ER: 91.73\n",
      "[500]\tvalid_0's ER: 91.62\n",
      "[600]\tvalid_0's ER: 91.12\n",
      "[700]\tvalid_0's ER: 90.99\n",
      "[800]\tvalid_0's ER: 90.74\n",
      "[900]\tvalid_0's ER: 90.62\n",
      "[1000]\tvalid_0's ER: 90.29\n",
      "[1100]\tvalid_0's ER: 90.13\n",
      "[1200]\tvalid_0's ER: 89.97\n",
      "[1300]\tvalid_0's ER: 89.86\n",
      "[1400]\tvalid_0's ER: 89.73\n",
      "[1500]\tvalid_0's ER: 89.59\n",
      "[1600]\tvalid_0's ER: 89.4\n",
      "[1700]\tvalid_0's ER: 89.25\n",
      "[1800]\tvalid_0's ER: 89.08\n",
      "[1900]\tvalid_0's ER: 88.95\n",
      "[2000]\tvalid_0's ER: 88.85\n",
      "[2100]\tvalid_0's ER: 88.79\n",
      "[2200]\tvalid_0's ER: 88.69\n",
      "[2300]\tvalid_0's ER: 88.56\n",
      "[2400]\tvalid_0's ER: 88.51\n",
      "[2500]\tvalid_0's ER: 88.47\n",
      "[2600]\tvalid_0's ER: 88.43\n",
      "[2700]\tvalid_0's ER: 88.36\n",
      "[2800]\tvalid_0's ER: 88.31\n",
      "[2900]\tvalid_0's ER: 88.29\n",
      "[3000]\tvalid_0's ER: 88.22\n",
      "[3100]\tvalid_0's ER: 88.2\n",
      "[3200]\tvalid_0's ER: 88.2\n",
      "[3300]\tvalid_0's ER: 88.13\n",
      "[3400]\tvalid_0's ER: 88.05\n",
      "[3500]\tvalid_0's ER: 88\n",
      "[3600]\tvalid_0's ER: 87.93\n",
      "[3700]\tvalid_0's ER: 87.91\n",
      "[3800]\tvalid_0's ER: 87.88\n",
      "[3900]\tvalid_0's ER: 87.86\n",
      "[4000]\tvalid_0's ER: 87.81\n",
      "[4100]\tvalid_0's ER: 87.79\n",
      "[4200]\tvalid_0's ER: 87.77\n",
      "[4300]\tvalid_0's ER: 87.74\n",
      "[4400]\tvalid_0's ER: 87.7\n",
      "[4500]\tvalid_0's ER: 87.68\n",
      "[4600]\tvalid_0's ER: 87.68\n",
      "Early stopping, best iteration is:\n",
      "[4426]\tvalid_0's ER: 87.68\n",
      "Evaluated only: ER\n"
     ]
    },
    {
     "name": "stderr",
     "output_type": "stream",
     "text": [
      "[I 2023-12-16 04:18:44,069] Trial 1 finished with value: 87.68 and parameters: {'lambda_l1': 139.98229107275472, 'lambda_l2': 31.915626993496925, 'learning_rate': 0.03967470170765252, 'num_leaves': 208, 'feature_fraction': 0.8041003572590577, 'min_data_in_leaf': 4563}. Best is trial 1 with value: 87.68.\n"
     ]
    },
    {
     "name": "stdout",
     "output_type": "stream",
     "text": [
      "**************** regression_l1 ****************\n",
      "Training until validation scores don't improve for 125 rounds\n",
      "[100]\tvalid_0's ER: 93.13\n",
      "[200]\tvalid_0's ER: 92.7\n",
      "[300]\tvalid_0's ER: 92.42\n",
      "[400]\tvalid_0's ER: 91.98\n",
      "[500]\tvalid_0's ER: 92\n"
     ]
    },
    {
     "name": "stderr",
     "output_type": "stream",
     "text": [
      "[I 2023-12-16 04:18:51,626] Trial 2 finished with value: 91.97 and parameters: {'lambda_l1': 580.6744306462006, 'lambda_l2': 827.4141263699779, 'learning_rate': 0.06665532569427812, 'num_leaves': 975, 'feature_fraction': 0.6834014489218819, 'min_data_in_leaf': 5406}. Best is trial 1 with value: 87.68.\n"
     ]
    },
    {
     "name": "stdout",
     "output_type": "stream",
     "text": [
      "Early stopping, best iteration is:\n",
      "[437]\tvalid_0's ER: 91.97\n",
      "Evaluated only: ER\n",
      "**************** regression_l1 ****************\n",
      "Training until validation scores don't improve for 217 rounds\n",
      "[100]\tvalid_0's ER: 94\n",
      "[200]\tvalid_0's ER: 93.4\n",
      "[300]\tvalid_0's ER: 93.33\n",
      "[400]\tvalid_0's ER: 93.25\n",
      "[500]\tvalid_0's ER: 92.3\n",
      "[600]\tvalid_0's ER: 91.45\n",
      "[700]\tvalid_0's ER: 90.89\n",
      "[800]\tvalid_0's ER: 90.7\n",
      "[900]\tvalid_0's ER: 90.48\n",
      "[1000]\tvalid_0's ER: 90.36\n",
      "[1100]\tvalid_0's ER: 90.19\n",
      "[1200]\tvalid_0's ER: 90.17\n",
      "[1300]\tvalid_0's ER: 90.15\n",
      "[1400]\tvalid_0's ER: 90.13\n",
      "[1500]\tvalid_0's ER: 90.11\n",
      "[1600]\tvalid_0's ER: 90.1\n",
      "[1700]\tvalid_0's ER: 90.09\n",
      "[1800]\tvalid_0's ER: 90.07\n",
      "[1900]\tvalid_0's ER: 90.06\n",
      "[2000]\tvalid_0's ER: 90.03\n",
      "[2100]\tvalid_0's ER: 90.02\n",
      "[2200]\tvalid_0's ER: 90\n",
      "[2300]\tvalid_0's ER: 89.87\n",
      "[2400]\tvalid_0's ER: 89.82\n",
      "[2500]\tvalid_0's ER: 89.79\n",
      "[2600]\tvalid_0's ER: 89.76\n",
      "[2700]\tvalid_0's ER: 89.74\n",
      "[2800]\tvalid_0's ER: 89.67\n",
      "[2900]\tvalid_0's ER: 89.66\n",
      "[3000]\tvalid_0's ER: 89.64\n",
      "[3100]\tvalid_0's ER: 89.63\n",
      "[3200]\tvalid_0's ER: 89.59\n",
      "[3300]\tvalid_0's ER: 89.54\n",
      "[3400]\tvalid_0's ER: 89.5\n",
      "[3500]\tvalid_0's ER: 89.46\n",
      "[3600]\tvalid_0's ER: 89.46\n",
      "[3700]\tvalid_0's ER: 89.33\n",
      "[3800]\tvalid_0's ER: 89.31\n",
      "[3900]\tvalid_0's ER: 89.22\n",
      "[4000]\tvalid_0's ER: 89.21\n",
      "[4100]\tvalid_0's ER: 89.2\n",
      "[4200]\tvalid_0's ER: 89.17\n",
      "[4300]\tvalid_0's ER: 89.04\n",
      "[4400]\tvalid_0's ER: 89.02\n",
      "[4500]\tvalid_0's ER: 88.99\n",
      "[4600]\tvalid_0's ER: 88.98\n",
      "[4700]\tvalid_0's ER: 88.97\n",
      "[4800]\tvalid_0's ER: 88.94\n",
      "[4900]\tvalid_0's ER: 88.94\n",
      "Early stopping, best iteration is:\n",
      "[4778]\tvalid_0's ER: 88.94\n",
      "Evaluated only: ER\n"
     ]
    },
    {
     "name": "stderr",
     "output_type": "stream",
     "text": [
      "[I 2023-12-16 04:19:58,733] Trial 3 finished with value: 88.94 and parameters: {'lambda_l1': 62.904752037793, 'lambda_l2': 301.66226703210987, 'learning_rate': 0.029808795369213256, 'num_leaves': 533, 'feature_fraction': 0.8627357343894164, 'min_data_in_leaf': 4409}. Best is trial 1 with value: 87.68.\n"
     ]
    },
    {
     "name": "stdout",
     "output_type": "stream",
     "text": [
      "**************** regression_l1 ****************\n",
      "Training until validation scores don't improve for 71 rounds\n",
      "[100]\tvalid_0's ER: 95.29\n",
      "[200]\tvalid_0's ER: 95.15\n",
      "[300]\tvalid_0's ER: 94.93\n",
      "[400]\tvalid_0's ER: 94.87\n",
      "[500]\tvalid_0's ER: 94.6\n",
      "[600]\tvalid_0's ER: 94.45\n",
      "[700]\tvalid_0's ER: 94.16\n",
      "[800]\tvalid_0's ER: 94.1\n",
      "[900]\tvalid_0's ER: 93.95\n",
      "[1000]\tvalid_0's ER: 93.81\n",
      "[1100]\tvalid_0's ER: 93.63\n",
      "[1200]\tvalid_0's ER: 93.47\n",
      "[1300]\tvalid_0's ER: 93.44\n",
      "[1400]\tvalid_0's ER: 93.25\n",
      "[1500]\tvalid_0's ER: 93.07\n",
      "[1600]\tvalid_0's ER: 92.84\n",
      "[1700]\tvalid_0's ER: 92.68\n",
      "[1800]\tvalid_0's ER: 92.54\n",
      "[1900]\tvalid_0's ER: 92.49\n"
     ]
    },
    {
     "name": "stderr",
     "output_type": "stream",
     "text": [
      "[I 2023-12-16 04:20:20,550] Trial 4 finished with value: 92.27 and parameters: {'lambda_l1': 168.73317992682723, 'lambda_l2': 345.5186839578694, 'learning_rate': 0.2331972301607933, 'num_leaves': 424, 'feature_fraction': 0.6001557614045718, 'min_data_in_leaf': 7992}. Best is trial 1 with value: 87.68.\n"
     ]
    },
    {
     "name": "stdout",
     "output_type": "stream",
     "text": [
      "[2000]\tvalid_0's ER: 92.27\n",
      "Early stopping, best iteration is:\n",
      "[1931]\tvalid_0's ER: 92.27\n",
      "Evaluated only: ER\n",
      "**************** regression_l1 ****************\n",
      "Training until validation scores don't improve for 158 rounds\n",
      "[100]\tvalid_0's ER: 89.65\n",
      "[200]\tvalid_0's ER: 88.51\n",
      "[300]\tvalid_0's ER: 88.5\n",
      "[400]\tvalid_0's ER: 88.53\n"
     ]
    },
    {
     "name": "stderr",
     "output_type": "stream",
     "text": [
      "[I 2023-12-16 04:20:25,992] Trial 5 finished with value: 88.5 and parameters: {'lambda_l1': 916.9577172987839, 'lambda_l2': 967.6110844329303, 'learning_rate': 0.04600885465158035, 'num_leaves': 956, 'feature_fraction': 0.9905672105457712, 'min_data_in_leaf': 1978}. Best is trial 1 with value: 87.68.\n"
     ]
    },
    {
     "name": "stdout",
     "output_type": "stream",
     "text": [
      "Early stopping, best iteration is:\n",
      "[300]\tvalid_0's ER: 88.5\n",
      "Evaluated only: ER\n",
      "**************** regression_l1 ****************\n",
      "Training until validation scores don't improve for 407 rounds\n",
      "[100]\tvalid_0's ER: 95.94\n",
      "[200]\tvalid_0's ER: 95.08\n",
      "[300]\tvalid_0's ER: 94.32\n",
      "[400]\tvalid_0's ER: 91.78\n",
      "[500]\tvalid_0's ER: 91.42\n",
      "[600]\tvalid_0's ER: 91.42\n",
      "[700]\tvalid_0's ER: 91.27\n",
      "[800]\tvalid_0's ER: 91.24\n",
      "[900]\tvalid_0's ER: 90.88\n",
      "[1000]\tvalid_0's ER: 90.56\n",
      "[1100]\tvalid_0's ER: 90.34\n",
      "[1200]\tvalid_0's ER: 90.24\n",
      "[1300]\tvalid_0's ER: 89.91\n",
      "[1400]\tvalid_0's ER: 89.45\n",
      "[1500]\tvalid_0's ER: 89.36\n",
      "[1600]\tvalid_0's ER: 89.31\n",
      "[1700]\tvalid_0's ER: 89.31\n",
      "[1800]\tvalid_0's ER: 89.3\n",
      "[1900]\tvalid_0's ER: 89.29\n",
      "[2000]\tvalid_0's ER: 89.19\n",
      "[2100]\tvalid_0's ER: 89.07\n",
      "[2200]\tvalid_0's ER: 89.01\n",
      "[2300]\tvalid_0's ER: 88.97\n",
      "[2400]\tvalid_0's ER: 88.97\n",
      "[2500]\tvalid_0's ER: 88.97\n",
      "[2600]\tvalid_0's ER: 88.96\n",
      "[2700]\tvalid_0's ER: 88.96\n",
      "Early stopping, best iteration is:\n",
      "[2314]\tvalid_0's ER: 88.96\n",
      "Evaluated only: ER\n"
     ]
    },
    {
     "name": "stderr",
     "output_type": "stream",
     "text": [
      "[I 2023-12-16 04:20:46,848] Trial 6 finished with value: 88.96 and parameters: {'lambda_l1': 963.1546183711906, 'lambda_l2': 209.31872282269558, 'learning_rate': 0.013974349761168153, 'num_leaves': 648, 'feature_fraction': 0.39990429195384325, 'min_data_in_leaf': 3349}. Best is trial 1 with value: 87.68.\n"
     ]
    },
    {
     "name": "stdout",
     "output_type": "stream",
     "text": [
      "**************** regression_l1 ****************\n",
      "Training until validation scores don't improve for 85 rounds\n",
      "[100]\tvalid_0's ER: 89.4\n",
      "[200]\tvalid_0's ER: 89.37\n",
      "[300]\tvalid_0's ER: 89.35\n",
      "[400]\tvalid_0's ER: 87.63\n",
      "Early stopping, best iteration is:\n",
      "[364]\tvalid_0's ER: 87.63\n",
      "Evaluated only: ER\n"
     ]
    },
    {
     "name": "stderr",
     "output_type": "stream",
     "text": [
      "[I 2023-12-16 04:20:50,329] Trial 7 finished with value: 87.63 and parameters: {'lambda_l1': 944.4149840574918, 'lambda_l2': 864.8694239764892, 'learning_rate': 0.13939433312875338, 'num_leaves': 615, 'feature_fraction': 0.33431579152643903, 'min_data_in_leaf': 3003}. Best is trial 7 with value: 87.63.\n"
     ]
    },
    {
     "name": "stdout",
     "output_type": "stream",
     "text": [
      "**************** regression_l1 ****************\n",
      "Training until validation scores don't improve for 72 rounds\n",
      "[100]\tvalid_0's ER: 81.66\n",
      "[200]\tvalid_0's ER: 81.33\n",
      "[300]\tvalid_0's ER: 81.21\n",
      "[400]\tvalid_0's ER: 80.76\n",
      "[500]\tvalid_0's ER: 80.58\n",
      "[600]\tvalid_0's ER: 80.43\n",
      "[700]\tvalid_0's ER: 80.11\n"
     ]
    },
    {
     "name": "stderr",
     "output_type": "stream",
     "text": [
      "[I 2023-12-16 04:20:58,668] Trial 8 finished with value: 80.02 and parameters: {'lambda_l1': 186.536029080563, 'lambda_l2': 801.0429744819671, 'learning_rate': 0.22652249373063812, 'num_leaves': 43, 'feature_fraction': 0.484417577242652, 'min_data_in_leaf': 2331}. Best is trial 8 with value: 80.02.\n"
     ]
    },
    {
     "name": "stdout",
     "output_type": "stream",
     "text": [
      "Early stopping, best iteration is:\n",
      "[677]\tvalid_0's ER: 80.02\n",
      "Evaluated only: ER\n",
      "**************** regression_l1 ****************\n",
      "Training until validation scores don't improve for 80 rounds\n",
      "[100]\tvalid_0's ER: 91.02\n",
      "[200]\tvalid_0's ER: 90.99\n"
     ]
    },
    {
     "name": "stderr",
     "output_type": "stream",
     "text": [
      "[I 2023-12-16 04:21:00,964] Trial 9 finished with value: 90.99 and parameters: {'lambda_l1': 844.129048730198, 'lambda_l2': 378.21718826986216, 'learning_rate': 0.165699232522867, 'num_leaves': 48, 'feature_fraction': 0.3538293603391153, 'min_data_in_leaf': 4183}. Best is trial 8 with value: 80.02.\n"
     ]
    },
    {
     "name": "stdout",
     "output_type": "stream",
     "text": [
      "Early stopping, best iteration is:\n",
      "[167]\tvalid_0's ER: 90.99\n",
      "Evaluated only: ER\n",
      "# Experimentos: 10\n",
      "Mejor experimento: {'lambda_l1': 186.536029080563, 'lambda_l2': 801.0429744819671, 'learning_rate': 0.22652249373063812, 'num_leaves': 43, 'feature_fraction': 0.484417577242652, 'min_data_in_leaf': 2331}\n",
      "=========================================== Cluster 28 ===========================================\n"
     ]
    },
    {
     "name": "stderr",
     "output_type": "stream",
     "text": [
      "[I 2023-12-16 04:21:02,165] A new study created in memory with name: no-name-0a955dcf-f56b-428b-8f4c-fd4bdfecaf95\n"
     ]
    },
    {
     "name": "stdout",
     "output_type": "stream",
     "text": [
      "Periodos entrenar: [201803 201804 201805 201806 201807 201808 201809 201810 201811 201812\n",
      " 201901 201902 201903 201904 201905]\n",
      "Periodos validar: [201907]\n",
      "product_id a validar: 2900\n",
      "X_train: (24870, 120)\n",
      "y_train: (24870,)\n",
      "\n",
      "X_validate: (2900, 120)\n",
      "y_validate: (2900,)\n",
      "Optimizacion Bayesiana\n",
      "**************** regression_l1 ****************\n",
      "Training until validation scores don't improve for 82 rounds\n"
     ]
    },
    {
     "name": "stderr",
     "output_type": "stream",
     "text": [
      "[I 2023-12-16 04:21:02,626] Trial 0 finished with value: 100.0 and parameters: {'lambda_l1': 453.3210478229607, 'lambda_l2': 400.9433879485611, 'learning_rate': 0.1524534033261068, 'num_leaves': 807, 'feature_fraction': 0.501791874299385, 'min_data_in_leaf': 6960}. Best is trial 0 with value: 100.0.\n"
     ]
    },
    {
     "name": "stdout",
     "output_type": "stream",
     "text": [
      "Early stopping, best iteration is:\n",
      "[1]\tvalid_0's ER: 100\n",
      "Evaluated only: ER\n",
      "**************** regression_l1 ****************\n",
      "Training until validation scores don't improve for 306 rounds\n",
      "[100]\tvalid_0's ER: 100\n",
      "[200]\tvalid_0's ER: 100.03\n"
     ]
    },
    {
     "name": "stderr",
     "output_type": "stream",
     "text": [
      "[I 2023-12-16 04:21:04,759] Trial 1 finished with value: 100.0 and parameters: {'lambda_l1': 281.66835253997334, 'lambda_l2': 299.8890314795847, 'learning_rate': 0.019460480108037432, 'num_leaves': 38, 'feature_fraction': 0.590656625487527, 'min_data_in_leaf': 201}. Best is trial 0 with value: 100.0.\n"
     ]
    },
    {
     "name": "stdout",
     "output_type": "stream",
     "text": [
      "[300]\tvalid_0's ER: 100.03\n",
      "Early stopping, best iteration is:\n",
      "[1]\tvalid_0's ER: 100\n",
      "Evaluated only: ER\n",
      "**************** regression_l1 ****************\n",
      "Training until validation scores don't improve for 80 rounds\n"
     ]
    },
    {
     "name": "stderr",
     "output_type": "stream",
     "text": [
      "[I 2023-12-16 04:21:05,230] Trial 2 finished with value: 100.0 and parameters: {'lambda_l1': 935.3722370331157, 'lambda_l2': 281.06216164465513, 'learning_rate': 0.16509252446260145, 'num_leaves': 66, 'feature_fraction': 0.5094109719772475, 'min_data_in_leaf': 1431}. Best is trial 0 with value: 100.0.\n"
     ]
    },
    {
     "name": "stdout",
     "output_type": "stream",
     "text": [
      "Early stopping, best iteration is:\n",
      "[1]\tvalid_0's ER: 100\n",
      "Evaluated only: ER\n",
      "**************** regression_l1 ****************\n",
      "Training until validation scores don't improve for 67 rounds\n"
     ]
    },
    {
     "name": "stderr",
     "output_type": "stream",
     "text": [
      "[I 2023-12-16 04:21:05,748] Trial 3 finished with value: 100.0 and parameters: {'lambda_l1': 926.0010686699467, 'lambda_l2': 986.0200554603825, 'learning_rate': 0.2901170177794422, 'num_leaves': 735, 'feature_fraction': 0.6296064544251865, 'min_data_in_leaf': 333}. Best is trial 0 with value: 100.0.\n"
     ]
    },
    {
     "name": "stdout",
     "output_type": "stream",
     "text": [
      "Early stopping, best iteration is:\n",
      "[1]\tvalid_0's ER: 100\n",
      "Evaluated only: ER\n",
      "**************** regression_l1 ****************\n",
      "Training until validation scores don't improve for 77 rounds\n"
     ]
    },
    {
     "name": "stderr",
     "output_type": "stream",
     "text": [
      "[I 2023-12-16 04:21:06,181] Trial 4 finished with value: 100.0 and parameters: {'lambda_l1': 378.8095132604964, 'lambda_l2': 124.50261159025344, 'learning_rate': 0.18249619602188172, 'num_leaves': 406, 'feature_fraction': 0.36126636030295434, 'min_data_in_leaf': 3294}. Best is trial 0 with value: 100.0.\n"
     ]
    },
    {
     "name": "stdout",
     "output_type": "stream",
     "text": [
      "Early stopping, best iteration is:\n",
      "[1]\tvalid_0's ER: 100\n",
      "Evaluated only: ER\n",
      "**************** regression_l1 ****************\n",
      "Training until validation scores don't improve for 77 rounds\n"
     ]
    },
    {
     "name": "stderr",
     "output_type": "stream",
     "text": [
      "[I 2023-12-16 04:21:06,702] Trial 5 finished with value: 100.0 and parameters: {'lambda_l1': 941.5194351966614, 'lambda_l2': 106.9509973445013, 'learning_rate': 0.18238009757739548, 'num_leaves': 822, 'feature_fraction': 0.8448572136989623, 'min_data_in_leaf': 3251}. Best is trial 0 with value: 100.0.\n"
     ]
    },
    {
     "name": "stdout",
     "output_type": "stream",
     "text": [
      "Early stopping, best iteration is:\n",
      "[1]\tvalid_0's ER: 100\n",
      "Evaluated only: ER\n",
      "**************** regression_l1 ****************\n",
      "Training until validation scores don't improve for 67 rounds\n"
     ]
    },
    {
     "name": "stderr",
     "output_type": "stream",
     "text": [
      "[I 2023-12-16 04:21:07,216] Trial 6 finished with value: 99.81 and parameters: {'lambda_l1': 57.32303728777599, 'lambda_l2': 550.7720438898149, 'learning_rate': 0.2868729076749234, 'num_leaves': 769, 'feature_fraction': 0.9429185234130593, 'min_data_in_leaf': 3332}. Best is trial 6 with value: 99.81.\n"
     ]
    },
    {
     "name": "stdout",
     "output_type": "stream",
     "text": [
      "Early stopping, best iteration is:\n",
      "[4]\tvalid_0's ER: 99.81\n",
      "Evaluated only: ER\n",
      "**************** regression_l1 ****************\n",
      "Training until validation scores don't improve for 204 rounds\n",
      "[100]\tvalid_0's ER: 100\n"
     ]
    },
    {
     "name": "stderr",
     "output_type": "stream",
     "text": [
      "[I 2023-12-16 04:21:08,255] Trial 7 finished with value: 100.0 and parameters: {'lambda_l1': 308.30414451782883, 'lambda_l2': 603.6592244226151, 'learning_rate': 0.03232926217439202, 'num_leaves': 906, 'feature_fraction': 0.8134053765033558, 'min_data_in_leaf': 4824}. Best is trial 6 with value: 99.81.\n"
     ]
    },
    {
     "name": "stdout",
     "output_type": "stream",
     "text": [
      "[200]\tvalid_0's ER: 100\n",
      "Early stopping, best iteration is:\n",
      "[1]\tvalid_0's ER: 100\n",
      "Evaluated only: ER\n",
      "**************** regression_l1 ****************\n",
      "Training until validation scores don't improve for 69 rounds\n"
     ]
    },
    {
     "name": "stderr",
     "output_type": "stream",
     "text": [
      "[I 2023-12-16 04:21:08,689] Trial 8 finished with value: 100.0 and parameters: {'lambda_l1': 450.4456175496735, 'lambda_l2': 219.3408082245374, 'learning_rate': 0.2560549385620017, 'num_leaves': 626, 'feature_fraction': 0.6358056937877534, 'min_data_in_leaf': 7883}. Best is trial 6 with value: 99.81.\n"
     ]
    },
    {
     "name": "stdout",
     "output_type": "stream",
     "text": [
      "Early stopping, best iteration is:\n",
      "[1]\tvalid_0's ER: 100\n",
      "Evaluated only: ER\n",
      "**************** regression_l1 ****************\n",
      "Training until validation scores don't improve for 82 rounds\n"
     ]
    },
    {
     "name": "stderr",
     "output_type": "stream",
     "text": [
      "[I 2023-12-16 04:21:09,248] Trial 9 finished with value: 100.0 and parameters: {'lambda_l1': 734.5691649423769, 'lambda_l2': 857.9166833269287, 'learning_rate': 0.15441238337933394, 'num_leaves': 211, 'feature_fraction': 0.7161107879262107, 'min_data_in_leaf': 3739}. Best is trial 6 with value: 99.81.\n"
     ]
    },
    {
     "name": "stdout",
     "output_type": "stream",
     "text": [
      "Early stopping, best iteration is:\n",
      "[1]\tvalid_0's ER: 100\n",
      "Evaluated only: ER\n",
      "# Experimentos: 10\n",
      "Mejor experimento: {'lambda_l1': 57.32303728777599, 'lambda_l2': 550.7720438898149, 'learning_rate': 0.2868729076749234, 'num_leaves': 769, 'feature_fraction': 0.9429185234130593, 'min_data_in_leaf': 3332}\n",
      "=========================================== Cluster 29 ===========================================\n"
     ]
    },
    {
     "name": "stderr",
     "output_type": "stream",
     "text": [
      "[I 2023-12-16 04:21:10,384] A new study created in memory with name: no-name-466d6b8e-2465-4256-b119-17c060c330fb\n"
     ]
    },
    {
     "name": "stdout",
     "output_type": "stream",
     "text": [
      "Periodos entrenar: [201801 201802 201803 201804 201805 201806 201807 201808 201809 201810\n",
      " 201811 201812 201901 201902 201903 201904 201905]\n",
      "Periodos validar: [201907]\n",
      "product_id a validar: 1740\n",
      "X_train: (26456, 120)\n",
      "y_train: (26456,)\n",
      "\n",
      "X_validate: (1740, 120)\n",
      "y_validate: (1740,)\n",
      "Optimizacion Bayesiana\n",
      "**************** regression_l1 ****************\n",
      "Training until validation scores don't improve for 75 rounds\n"
     ]
    },
    {
     "name": "stderr",
     "output_type": "stream",
     "text": [
      "[I 2023-12-16 04:21:11,023] Trial 0 finished with value: 100.0 and parameters: {'lambda_l1': 846.6923901512695, 'lambda_l2': 905.7762200297825, 'learning_rate': 0.1965405630187198, 'num_leaves': 815, 'feature_fraction': 0.8613046582661081, 'min_data_in_leaf': 1357}. Best is trial 0 with value: 100.0.\n"
     ]
    },
    {
     "name": "stdout",
     "output_type": "stream",
     "text": [
      "Early stopping, best iteration is:\n",
      "[1]\tvalid_0's ER: 100\n",
      "Evaluated only: ER\n",
      "**************** regression_l1 ****************\n",
      "Training until validation scores don't improve for 121 rounds\n"
     ]
    },
    {
     "name": "stderr",
     "output_type": "stream",
     "text": [
      "[I 2023-12-16 04:21:11,629] Trial 1 finished with value: 100.0 and parameters: {'lambda_l1': 492.53188250645684, 'lambda_l2': 809.5470561914965, 'learning_rate': 0.06961861194276069, 'num_leaves': 928, 'feature_fraction': 0.7629153427195925, 'min_data_in_leaf': 888}. Best is trial 0 with value: 100.0.\n"
     ]
    },
    {
     "name": "stdout",
     "output_type": "stream",
     "text": [
      "[100]\tvalid_0's ER: 100\n",
      "Early stopping, best iteration is:\n",
      "[1]\tvalid_0's ER: 100\n",
      "Evaluated only: ER\n",
      "**************** regression_l1 ****************\n"
     ]
    },
    {
     "name": "stderr",
     "output_type": "stream",
     "text": [
      "[I 2023-12-16 04:21:11,998] Trial 2 finished with value: 100.0 and parameters: {'lambda_l1': 100.73707654162301, 'lambda_l2': 81.49224371674812, 'learning_rate': 0.18244481151971917, 'num_leaves': 918, 'feature_fraction': 0.21378654796929927, 'min_data_in_leaf': 3837}. Best is trial 0 with value: 100.0.\n"
     ]
    },
    {
     "name": "stdout",
     "output_type": "stream",
     "text": [
      "Training until validation scores don't improve for 77 rounds\n",
      "Early stopping, best iteration is:\n",
      "[1]\tvalid_0's ER: 100\n",
      "Evaluated only: ER\n",
      "**************** regression_l1 ****************\n",
      "Training until validation scores don't improve for 161 rounds\n"
     ]
    },
    {
     "name": "stderr",
     "output_type": "stream",
     "text": [
      "[I 2023-12-16 04:21:12,678] Trial 3 finished with value: 100.0 and parameters: {'lambda_l1': 178.83516381874853, 'lambda_l2': 718.8951224753994, 'learning_rate': 0.04465594270587099, 'num_leaves': 342, 'feature_fraction': 0.5149750987763368, 'min_data_in_leaf': 4161}. Best is trial 0 with value: 100.0.\n"
     ]
    },
    {
     "name": "stdout",
     "output_type": "stream",
     "text": [
      "[100]\tvalid_0's ER: 100\n",
      "Early stopping, best iteration is:\n",
      "[1]\tvalid_0's ER: 100\n",
      "Evaluated only: ER\n",
      "**************** regression_l1 ****************\n"
     ]
    },
    {
     "name": "stderr",
     "output_type": "stream",
     "text": [
      "[I 2023-12-16 04:21:13,030] Trial 4 finished with value: 100.0 and parameters: {'lambda_l1': 967.4717545394604, 'lambda_l2': 838.1864467481329, 'learning_rate': 0.2734834705655926, 'num_leaves': 537, 'feature_fraction': 0.335437549016332, 'min_data_in_leaf': 6725}. Best is trial 0 with value: 100.0.\n"
     ]
    },
    {
     "name": "stdout",
     "output_type": "stream",
     "text": [
      "Training until validation scores don't improve for 68 rounds\n",
      "Early stopping, best iteration is:\n",
      "[1]\tvalid_0's ER: 100\n",
      "Evaluated only: ER\n",
      "**************** regression_l1 ****************\n",
      "Training until validation scores don't improve for 83 rounds\n"
     ]
    },
    {
     "name": "stderr",
     "output_type": "stream",
     "text": [
      "[I 2023-12-16 04:21:13,524] Trial 5 finished with value: 100.0 and parameters: {'lambda_l1': 306.52526055245977, 'lambda_l2': 361.3935746077994, 'learning_rate': 0.14967322294070254, 'num_leaves': 890, 'feature_fraction': 0.8456591364535524, 'min_data_in_leaf': 1578}. Best is trial 0 with value: 100.0.\n"
     ]
    },
    {
     "name": "stdout",
     "output_type": "stream",
     "text": [
      "Early stopping, best iteration is:\n",
      "[1]\tvalid_0's ER: 100\n",
      "Evaluated only: ER\n",
      "**************** regression_l1 ****************\n",
      "Training until validation scores don't improve for 74 rounds\n"
     ]
    },
    {
     "name": "stderr",
     "output_type": "stream",
     "text": [
      "[I 2023-12-16 04:21:13,906] Trial 6 finished with value: 100.0 and parameters: {'lambda_l1': 381.60133383870607, 'lambda_l2': 121.44733593940205, 'learning_rate': 0.2054581056402898, 'num_leaves': 199, 'feature_fraction': 0.37196434122000144, 'min_data_in_leaf': 3621}. Best is trial 0 with value: 100.0.\n"
     ]
    },
    {
     "name": "stdout",
     "output_type": "stream",
     "text": [
      "Early stopping, best iteration is:\n",
      "[1]\tvalid_0's ER: 100\n",
      "Evaluated only: ER\n",
      "**************** regression_l1 ****************\n",
      "Training until validation scores don't improve for 71 rounds\n"
     ]
    },
    {
     "name": "stderr",
     "output_type": "stream",
     "text": [
      "[I 2023-12-16 04:21:14,331] Trial 7 finished with value: 101.0 and parameters: {'lambda_l1': 0.7006994321110405, 'lambda_l2': 197.19407815585598, 'learning_rate': 0.23244265839724684, 'num_leaves': 128, 'feature_fraction': 0.253950331176632, 'min_data_in_leaf': 1084}. Best is trial 0 with value: 100.0.\n"
     ]
    },
    {
     "name": "stdout",
     "output_type": "stream",
     "text": [
      "Early stopping, best iteration is:\n",
      "[1]\tvalid_0's ER: 101\n",
      "Evaluated only: ER\n",
      "**************** regression_l1 ****************\n",
      "Training until validation scores don't improve for 67 rounds\n"
     ]
    },
    {
     "name": "stderr",
     "output_type": "stream",
     "text": [
      "[I 2023-12-16 04:21:14,723] Trial 8 finished with value: 100.0 and parameters: {'lambda_l1': 142.60564890339322, 'lambda_l2': 843.7111350826427, 'learning_rate': 0.2822112590183232, 'num_leaves': 571, 'feature_fraction': 0.5570333526539364, 'min_data_in_leaf': 7846}. Best is trial 0 with value: 100.0.\n"
     ]
    },
    {
     "name": "stdout",
     "output_type": "stream",
     "text": [
      "Early stopping, best iteration is:\n",
      "[1]\tvalid_0's ER: 100\n",
      "Evaluated only: ER\n",
      "**************** regression_l1 ****************\n",
      "Training until validation scores don't improve for 83 rounds\n"
     ]
    },
    {
     "name": "stderr",
     "output_type": "stream",
     "text": [
      "[I 2023-12-16 04:21:15,252] Trial 9 finished with value: 100.0 and parameters: {'lambda_l1': 520.1526431219097, 'lambda_l2': 884.5992317212709, 'learning_rate': 0.1471249364706749, 'num_leaves': 889, 'feature_fraction': 0.9072874344630864, 'min_data_in_leaf': 301}. Best is trial 0 with value: 100.0.\n"
     ]
    },
    {
     "name": "stdout",
     "output_type": "stream",
     "text": [
      "Early stopping, best iteration is:\n",
      "[1]\tvalid_0's ER: 100\n",
      "Evaluated only: ER\n",
      "# Experimentos: 10\n",
      "Mejor experimento: {'lambda_l1': 846.6923901512695, 'lambda_l2': 905.7762200297825, 'learning_rate': 0.1965405630187198, 'num_leaves': 815, 'feature_fraction': 0.8613046582661081, 'min_data_in_leaf': 1357}\n",
      "=========================================== Cluster 30 ===========================================\n"
     ]
    },
    {
     "name": "stderr",
     "output_type": "stream",
     "text": [
      "[I 2023-12-16 04:21:21,340] A new study created in memory with name: no-name-9b335476-9b28-4ce4-9146-a1ae513dc09c\n"
     ]
    },
    {
     "name": "stdout",
     "output_type": "stream",
     "text": [
      "Periodos entrenar: [201701 201702 201703 201704 201705 201706 201707 201708 201709 201710\n",
      " 201711 201712 201801 201802 201803 201804 201805 201806 201807 201808\n",
      " 201809 201810 201811 201812 201901 201902 201903 201904 201905]\n",
      "Periodos validar: [201907]\n",
      "product_id a validar: 9280\n",
      "X_train: (179782, 120)\n",
      "y_train: (179782,)\n",
      "\n",
      "X_validate: (9280, 120)\n",
      "y_validate: (9280,)\n",
      "Optimizacion Bayesiana\n",
      "**************** regression_l1 ****************\n",
      "Training until validation scores don't improve for 178 rounds\n",
      "[100]\tvalid_0's ER: 93.94\n",
      "[200]\tvalid_0's ER: 93.22\n",
      "[300]\tvalid_0's ER: 91.81\n",
      "[400]\tvalid_0's ER: 91.81\n"
     ]
    },
    {
     "name": "stderr",
     "output_type": "stream",
     "text": [
      "[I 2023-12-16 04:21:34,680] Trial 0 finished with value: 91.81 and parameters: {'lambda_l1': 748.2758352799352, 'lambda_l2': 454.29357883201516, 'learning_rate': 0.039061862812925605, 'num_leaves': 19, 'feature_fraction': 0.9709487716522995, 'min_data_in_leaf': 1593}. Best is trial 0 with value: 91.81.\n"
     ]
    },
    {
     "name": "stdout",
     "output_type": "stream",
     "text": [
      "Early stopping, best iteration is:\n",
      "[264]\tvalid_0's ER: 91.81\n",
      "Evaluated only: ER\n",
      "**************** regression_l1 ****************\n",
      "Training until validation scores don't improve for 71 rounds\n",
      "[100]\tvalid_0's ER: 94.5\n"
     ]
    },
    {
     "name": "stderr",
     "output_type": "stream",
     "text": [
      "[I 2023-12-16 04:21:40,659] Trial 1 finished with value: 93.81 and parameters: {'lambda_l1': 68.42880464805745, 'lambda_l2': 553.1110702892998, 'learning_rate': 0.2367519921945791, 'num_leaves': 118, 'feature_fraction': 0.542147381264259, 'min_data_in_leaf': 6651}. Best is trial 0 with value: 91.81.\n"
     ]
    },
    {
     "name": "stdout",
     "output_type": "stream",
     "text": [
      "[200]\tvalid_0's ER: 93.83\n",
      "Early stopping, best iteration is:\n",
      "[134]\tvalid_0's ER: 93.81\n",
      "Evaluated only: ER\n",
      "**************** regression_l1 ****************\n",
      "Training until validation scores don't improve for 67 rounds\n",
      "[100]\tvalid_0's ER: 94.72\n"
     ]
    },
    {
     "name": "stderr",
     "output_type": "stream",
     "text": [
      "[I 2023-12-16 04:21:44,370] Trial 2 finished with value: 94.19 and parameters: {'lambda_l1': 102.70563235969665, 'lambda_l2': 441.8885889905745, 'learning_rate': 0.28641567664128853, 'num_leaves': 66, 'feature_fraction': 0.22074804462421743, 'min_data_in_leaf': 6201}. Best is trial 0 with value: 91.81.\n"
     ]
    },
    {
     "name": "stdout",
     "output_type": "stream",
     "text": [
      "Early stopping, best iteration is:\n",
      "[113]\tvalid_0's ER: 94.19\n",
      "Evaluated only: ER\n",
      "**************** regression_l1 ****************\n",
      "Training until validation scores don't improve for 69 rounds\n",
      "[100]\tvalid_0's ER: 94.88\n",
      "[200]\tvalid_0's ER: 93.63\n"
     ]
    },
    {
     "name": "stderr",
     "output_type": "stream",
     "text": [
      "[I 2023-12-16 04:21:49,645] Trial 3 finished with value: 93.63 and parameters: {'lambda_l1': 556.4055093052688, 'lambda_l2': 875.8398475661614, 'learning_rate': 0.25215776327585127, 'num_leaves': 20, 'feature_fraction': 0.3594229719484548, 'min_data_in_leaf': 6276}. Best is trial 0 with value: 91.81.\n"
     ]
    },
    {
     "name": "stdout",
     "output_type": "stream",
     "text": [
      "Early stopping, best iteration is:\n",
      "[183]\tvalid_0's ER: 93.63\n",
      "Evaluated only: ER\n",
      "**************** regression_l1 ****************\n",
      "Training until validation scores don't improve for 90 rounds\n",
      "[100]\tvalid_0's ER: 97.54\n",
      "[200]\tvalid_0's ER: 97.41\n",
      "[300]\tvalid_0's ER: 97.32\n",
      "[400]\tvalid_0's ER: 97.07\n",
      "[500]\tvalid_0's ER: 96.72\n",
      "[600]\tvalid_0's ER: 96.2\n",
      "[700]\tvalid_0's ER: 96.02\n",
      "[800]\tvalid_0's ER: 95.51\n",
      "[900]\tvalid_0's ER: 95.35\n",
      "[1000]\tvalid_0's ER: 95.13\n",
      "[1100]\tvalid_0's ER: 94.69\n",
      "[1200]\tvalid_0's ER: 94.54\n",
      "[1300]\tvalid_0's ER: 94.46\n",
      "[1400]\tvalid_0's ER: 94.13\n",
      "[1500]\tvalid_0's ER: 93.85\n",
      "[1600]\tvalid_0's ER: 93.55\n",
      "[1700]\tvalid_0's ER: 93.48\n",
      "[1800]\tvalid_0's ER: 93.23\n",
      "[1900]\tvalid_0's ER: 93.07\n",
      "[2000]\tvalid_0's ER: 93.03\n",
      "[2100]\tvalid_0's ER: 92.93\n",
      "[2200]\tvalid_0's ER: 92.74\n",
      "[2300]\tvalid_0's ER: 92.65\n",
      "[2400]\tvalid_0's ER: 92.5\n",
      "[2500]\tvalid_0's ER: 92.43\n",
      "[2600]\tvalid_0's ER: 92.35\n",
      "Early stopping, best iteration is:\n",
      "[2607]\tvalid_0's ER: 92.34\n",
      "Evaluated only: ER\n"
     ]
    },
    {
     "name": "stderr",
     "output_type": "stream",
     "text": [
      "[I 2023-12-16 04:22:49,274] Trial 4 finished with value: 92.34 and parameters: {'lambda_l1': 391.85934756313713, 'lambda_l2': 185.26364377714688, 'learning_rate': 0.12231597254914141, 'num_leaves': 621, 'feature_fraction': 0.4303825139455116, 'min_data_in_leaf': 5303}. Best is trial 0 with value: 91.81.\n"
     ]
    },
    {
     "name": "stdout",
     "output_type": "stream",
     "text": [
      "**************** regression_l1 ****************\n",
      "Training until validation scores don't improve for 69 rounds\n",
      "[100]\tvalid_0's ER: 89.59\n",
      "[200]\tvalid_0's ER: 89.06\n",
      "[300]\tvalid_0's ER: 88.67\n"
     ]
    },
    {
     "name": "stderr",
     "output_type": "stream",
     "text": [
      "[I 2023-12-16 04:22:58,527] Trial 5 finished with value: 88.67 and parameters: {'lambda_l1': 317.9130547750082, 'lambda_l2': 566.986482273238, 'learning_rate': 0.2526578331406223, 'num_leaves': 768, 'feature_fraction': 0.5591109006389088, 'min_data_in_leaf': 2207}. Best is trial 5 with value: 88.67.\n"
     ]
    },
    {
     "name": "stdout",
     "output_type": "stream",
     "text": [
      "Early stopping, best iteration is:\n",
      "[288]\tvalid_0's ER: 88.67\n",
      "Evaluated only: ER\n",
      "**************** regression_l1 ****************\n",
      "Training until validation scores don't improve for 110 rounds\n",
      "[100]\tvalid_0's ER: 97.72\n",
      "[200]\tvalid_0's ER: 97.35\n",
      "[300]\tvalid_0's ER: 97.23\n",
      "[400]\tvalid_0's ER: 97.15\n"
     ]
    },
    {
     "name": "stderr",
     "output_type": "stream",
     "text": [
      "[I 2023-12-16 04:23:06,463] Trial 6 finished with value: 97.14 and parameters: {'lambda_l1': 948.8330766350523, 'lambda_l2': 165.27169835284073, 'learning_rate': 0.08257783266551894, 'num_leaves': 467, 'feature_fraction': 0.2984944103143053, 'min_data_in_leaf': 6780}. Best is trial 5 with value: 88.67.\n"
     ]
    },
    {
     "name": "stdout",
     "output_type": "stream",
     "text": [
      "Early stopping, best iteration is:\n",
      "[320]\tvalid_0's ER: 97.14\n",
      "Evaluated only: ER\n",
      "**************** regression_l1 ****************\n",
      "Training until validation scores don't improve for 74 rounds\n"
     ]
    },
    {
     "name": "stderr",
     "output_type": "stream",
     "text": [
      "[I 2023-12-16 04:23:10,157] Trial 7 finished with value: 99.53 and parameters: {'lambda_l1': 414.5038224258843, 'lambda_l2': 785.0416036798098, 'learning_rate': 0.20484306032254324, 'num_leaves': 730, 'feature_fraction': 0.9958615089100382, 'min_data_in_leaf': 7910}. Best is trial 5 with value: 88.67.\n"
     ]
    },
    {
     "name": "stdout",
     "output_type": "stream",
     "text": [
      "Early stopping, best iteration is:\n",
      "[19]\tvalid_0's ER: 99.53\n",
      "Evaluated only: ER\n",
      "**************** regression_l1 ****************\n",
      "Training until validation scores don't improve for 509 rounds\n",
      "[100]\tvalid_0's ER: 96.57\n",
      "[200]\tvalid_0's ER: 96.52\n",
      "[300]\tvalid_0's ER: 96.5\n",
      "[400]\tvalid_0's ER: 96.44\n",
      "[500]\tvalid_0's ER: 96.43\n",
      "[600]\tvalid_0's ER: 96.43\n"
     ]
    },
    {
     "name": "stderr",
     "output_type": "stream",
     "text": [
      "[I 2023-12-16 04:23:31,506] Trial 8 finished with value: 96.27 and parameters: {'lambda_l1': 247.2842969060932, 'lambda_l2': 79.75236780382511, 'learning_rate': 0.010887930546144394, 'num_leaves': 148, 'feature_fraction': 0.632419129095247, 'min_data_in_leaf': 6391}. Best is trial 5 with value: 88.67.\n"
     ]
    },
    {
     "name": "stdout",
     "output_type": "stream",
     "text": [
      "Early stopping, best iteration is:\n",
      "[120]\tvalid_0's ER: 96.27\n",
      "Evaluated only: ER\n",
      "**************** regression_l1 ****************\n",
      "Training until validation scores don't improve for 73 rounds\n",
      "[100]\tvalid_0's ER: 97.12\n"
     ]
    },
    {
     "name": "stderr",
     "output_type": "stream",
     "text": [
      "[I 2023-12-16 04:23:36,139] Trial 9 finished with value: 97.09 and parameters: {'lambda_l1': 611.3481272470581, 'lambda_l2': 951.9476009993924, 'learning_rate': 0.21011966949470565, 'num_leaves': 446, 'feature_fraction': 0.5854849156699478, 'min_data_in_leaf': 3651}. Best is trial 5 with value: 88.67.\n"
     ]
    },
    {
     "name": "stdout",
     "output_type": "stream",
     "text": [
      "Early stopping, best iteration is:\n",
      "[70]\tvalid_0's ER: 97.09\n",
      "Evaluated only: ER\n",
      "# Experimentos: 10\n",
      "Mejor experimento: {'lambda_l1': 317.9130547750082, 'lambda_l2': 566.986482273238, 'learning_rate': 0.2526578331406223, 'num_leaves': 768, 'feature_fraction': 0.5591109006389088, 'min_data_in_leaf': 2207}\n",
      "=========================================== Cluster 31 ===========================================\n"
     ]
    },
    {
     "name": "stderr",
     "output_type": "stream",
     "text": [
      "[I 2023-12-16 04:23:46,904] A new study created in memory with name: no-name-10c57858-2386-456a-94d8-5cf2a4019f94\n"
     ]
    },
    {
     "name": "stdout",
     "output_type": "stream",
     "text": [
      "Periodos entrenar: [201701 201702 201703 201704 201705 201706 201707 201708 201709 201710\n",
      " 201711 201712 201801 201802 201803 201804 201805 201806 201807 201808\n",
      " 201809 201810 201811 201812 201901 201902 201903 201904 201905]\n",
      "Periodos validar: [201907]\n",
      "product_id a validar: 15080\n",
      "X_train: (327993, 120)\n",
      "y_train: (327993,)\n",
      "\n",
      "X_validate: (15080, 120)\n",
      "y_validate: (15080,)\n",
      "Optimizacion Bayesiana\n",
      "**************** regression_l1 ****************\n",
      "Training until validation scores don't improve for 90 rounds\n",
      "[100]\tvalid_0's ER: 92.65\n",
      "[200]\tvalid_0's ER: 91.99\n",
      "[300]\tvalid_0's ER: 91.78\n",
      "[400]\tvalid_0's ER: 91.67\n",
      "[500]\tvalid_0's ER: 91.26\n",
      "[600]\tvalid_0's ER: 91.1\n",
      "[700]\tvalid_0's ER: 91.01\n",
      "[800]\tvalid_0's ER: 90.93\n",
      "[900]\tvalid_0's ER: 90.89\n",
      "[1000]\tvalid_0's ER: 90.78\n",
      "[1100]\tvalid_0's ER: 90.77\n",
      "Early stopping, best iteration is:\n",
      "[1044]\tvalid_0's ER: 90.76\n",
      "Evaluated only: ER\n"
     ]
    },
    {
     "name": "stderr",
     "output_type": "stream",
     "text": [
      "[I 2023-12-16 04:24:23,080] Trial 0 finished with value: 90.76 and parameters: {'lambda_l1': 594.3042656526613, 'lambda_l2': 973.6640240647993, 'learning_rate': 0.12468996184616958, 'num_leaves': 433, 'feature_fraction': 0.3721893653120004, 'min_data_in_leaf': 5751}. Best is trial 0 with value: 90.76.\n"
     ]
    },
    {
     "name": "stdout",
     "output_type": "stream",
     "text": [
      "**************** regression_l1 ****************\n",
      "Training until validation scores don't improve for 72 rounds\n",
      "[100]\tvalid_0's ER: 97.38\n"
     ]
    },
    {
     "name": "stderr",
     "output_type": "stream",
     "text": [
      "[I 2023-12-16 04:24:31,056] Trial 1 finished with value: 97.38 and parameters: {'lambda_l1': 979.7406984638446, 'lambda_l2': 622.9253953562906, 'learning_rate': 0.22496207821164055, 'num_leaves': 633, 'feature_fraction': 0.8717804433496905, 'min_data_in_leaf': 6149}. Best is trial 0 with value: 90.76.\n"
     ]
    },
    {
     "name": "stdout",
     "output_type": "stream",
     "text": [
      "Early stopping, best iteration is:\n",
      "[44]\tvalid_0's ER: 97.38\n",
      "Evaluated only: ER\n",
      "**************** regression_l1 ****************\n",
      "Training until validation scores don't improve for 172 rounds\n",
      "[100]\tvalid_0's ER: 87.37\n",
      "[200]\tvalid_0's ER: 85.36\n",
      "[300]\tvalid_0's ER: 84.79\n",
      "[400]\tvalid_0's ER: 84.58\n",
      "[500]\tvalid_0's ER: 84.39\n",
      "[600]\tvalid_0's ER: 84.26\n",
      "[700]\tvalid_0's ER: 84.14\n",
      "[800]\tvalid_0's ER: 84.11\n",
      "[900]\tvalid_0's ER: 84.14\n",
      "Early stopping, best iteration is:\n",
      "[772]\tvalid_0's ER: 84.08\n",
      "Evaluated only: ER\n"
     ]
    },
    {
     "name": "stderr",
     "output_type": "stream",
     "text": [
      "[I 2023-12-16 04:27:54,548] Trial 2 finished with value: 84.08 and parameters: {'lambda_l1': 52.49142139747054, 'lambda_l2': 380.33280625823016, 'learning_rate': 0.04080853054822217, 'num_leaves': 1006, 'feature_fraction': 0.4321181520585622, 'min_data_in_leaf': 182}. Best is trial 2 with value: 84.08.\n"
     ]
    },
    {
     "name": "stdout",
     "output_type": "stream",
     "text": [
      "**************** regression_l1 ****************\n",
      "Training until validation scores don't improve for 124 rounds\n",
      "[100]\tvalid_0's ER: 98.35\n"
     ]
    },
    {
     "name": "stderr",
     "output_type": "stream",
     "text": [
      "[I 2023-12-16 04:28:02,980] Trial 3 finished with value: 98.35 and parameters: {'lambda_l1': 549.578879361379, 'lambda_l2': 174.58654665939378, 'learning_rate': 0.06723636743386023, 'num_leaves': 960, 'feature_fraction': 0.9992059474694359, 'min_data_in_leaf': 3109}. Best is trial 2 with value: 84.08.\n"
     ]
    },
    {
     "name": "stdout",
     "output_type": "stream",
     "text": [
      "Early stopping, best iteration is:\n",
      "[5]\tvalid_0's ER: 98.35\n",
      "Evaluated only: ER\n",
      "**************** regression_l1 ****************\n",
      "Training until validation scores don't improve for 88 rounds\n",
      "[100]\tvalid_0's ER: 90.69\n",
      "[200]\tvalid_0's ER: 90.41\n"
     ]
    },
    {
     "name": "stderr",
     "output_type": "stream",
     "text": [
      "[I 2023-12-16 04:28:17,934] Trial 4 finished with value: 90.4 and parameters: {'lambda_l1': 985.8675467675995, 'lambda_l2': 425.955330917264, 'learning_rate': 0.1286246448107414, 'num_leaves': 267, 'feature_fraction': 0.6184990471735718, 'min_data_in_leaf': 3514}. Best is trial 2 with value: 84.08.\n"
     ]
    },
    {
     "name": "stdout",
     "output_type": "stream",
     "text": [
      "Early stopping, best iteration is:\n",
      "[198]\tvalid_0's ER: 90.4\n",
      "Evaluated only: ER\n",
      "**************** regression_l1 ****************\n",
      "Training until validation scores don't improve for 104 rounds\n",
      "[100]\tvalid_0's ER: 87.16\n",
      "[200]\tvalid_0's ER: 86.83\n",
      "[300]\tvalid_0's ER: 86.7\n",
      "[400]\tvalid_0's ER: 86.52\n",
      "[500]\tvalid_0's ER: 86.35\n",
      "[600]\tvalid_0's ER: 86.27\n",
      "[700]\tvalid_0's ER: 86.18\n",
      "[800]\tvalid_0's ER: 86.1\n",
      "[900]\tvalid_0's ER: 86.04\n",
      "[1000]\tvalid_0's ER: 86\n",
      "[1100]\tvalid_0's ER: 85.94\n",
      "Early stopping, best iteration is:\n",
      "[1077]\tvalid_0's ER: 85.93\n",
      "Evaluated only: ER\n"
     ]
    },
    {
     "name": "stderr",
     "output_type": "stream",
     "text": [
      "[I 2023-12-16 04:29:42,978] Trial 5 finished with value: 85.93 and parameters: {'lambda_l1': 118.03617420692602, 'lambda_l2': 797.029566649337, 'learning_rate': 0.09251603078333641, 'num_leaves': 234, 'feature_fraction': 0.9105134937547035, 'min_data_in_leaf': 1281}. Best is trial 2 with value: 84.08.\n"
     ]
    },
    {
     "name": "stdout",
     "output_type": "stream",
     "text": [
      "**************** regression_l1 ****************\n",
      "Training until validation scores don't improve for 92 rounds\n"
     ]
    },
    {
     "name": "stderr",
     "output_type": "stream",
     "text": [
      "[I 2023-12-16 04:29:49,328] Trial 6 finished with value: 98.95 and parameters: {'lambda_l1': 762.4895365139347, 'lambda_l2': 7.124414713685967, 'learning_rate': 0.11828861131748933, 'num_leaves': 180, 'feature_fraction': 0.9559754394954618, 'min_data_in_leaf': 6776}. Best is trial 2 with value: 84.08.\n"
     ]
    },
    {
     "name": "stdout",
     "output_type": "stream",
     "text": [
      "Early stopping, best iteration is:\n",
      "[3]\tvalid_0's ER: 98.95\n",
      "Evaluated only: ER\n",
      "**************** regression_l1 ****************\n",
      "Training until validation scores don't improve for 157 rounds\n",
      "[100]\tvalid_0's ER: 88.13\n",
      "[200]\tvalid_0's ER: 85.49\n",
      "[300]\tvalid_0's ER: 84.61\n",
      "[400]\tvalid_0's ER: 84.1\n",
      "[500]\tvalid_0's ER: 84.06\n",
      "[600]\tvalid_0's ER: 83.92\n",
      "[700]\tvalid_0's ER: 83.56\n",
      "[800]\tvalid_0's ER: 83.44\n",
      "[900]\tvalid_0's ER: 83.39\n",
      "[1000]\tvalid_0's ER: 83.32\n",
      "[1100]\tvalid_0's ER: 83.29\n",
      "Early stopping, best iteration is:\n",
      "[1029]\tvalid_0's ER: 83.27\n",
      "Evaluated only: ER\n"
     ]
    },
    {
     "name": "stderr",
     "output_type": "stream",
     "text": [
      "[I 2023-12-16 04:31:27,543] Trial 7 finished with value: 83.27 and parameters: {'lambda_l1': 350.25429047273235, 'lambda_l2': 684.6214736879317, 'learning_rate': 0.04661109398974737, 'num_leaves': 727, 'feature_fraction': 0.3849989551860049, 'min_data_in_leaf': 118}. Best is trial 7 with value: 83.27.\n"
     ]
    },
    {
     "name": "stdout",
     "output_type": "stream",
     "text": [
      "**************** regression_l1 ****************\n",
      "Training until validation scores don't improve for 79 rounds\n",
      "[100]\tvalid_0's ER: 86.7\n",
      "[200]\tvalid_0's ER: 86.29\n"
     ]
    },
    {
     "name": "stderr",
     "output_type": "stream",
     "text": [
      "[I 2023-12-16 04:31:42,000] Trial 8 finished with value: 86.24 and parameters: {'lambda_l1': 343.64682597358984, 'lambda_l2': 752.4730131953346, 'learning_rate': 0.17183441511673642, 'num_leaves': 726, 'feature_fraction': 0.5810548389255248, 'min_data_in_leaf': 819}. Best is trial 7 with value: 83.27.\n"
     ]
    },
    {
     "name": "stdout",
     "output_type": "stream",
     "text": [
      "Early stopping, best iteration is:\n",
      "[172]\tvalid_0's ER: 86.24\n",
      "Evaluated only: ER\n",
      "**************** regression_l1 ****************\n",
      "Training until validation scores don't improve for 73 rounds\n",
      "[100]\tvalid_0's ER: 89.52\n",
      "[200]\tvalid_0's ER: 89.16\n",
      "[300]\tvalid_0's ER: 88.91\n"
     ]
    },
    {
     "name": "stderr",
     "output_type": "stream",
     "text": [
      "[I 2023-12-16 04:31:56,971] Trial 9 finished with value: 88.89 and parameters: {'lambda_l1': 404.04581335971034, 'lambda_l2': 910.4359862482668, 'learning_rate': 0.20921329462122198, 'num_leaves': 979, 'feature_fraction': 0.39105881497573, 'min_data_in_leaf': 3390}. Best is trial 7 with value: 83.27.\n"
     ]
    },
    {
     "name": "stdout",
     "output_type": "stream",
     "text": [
      "[400]\tvalid_0's ER: 88.91\n",
      "Early stopping, best iteration is:\n",
      "[328]\tvalid_0's ER: 88.89\n",
      "Evaluated only: ER\n",
      "# Experimentos: 10\n",
      "Mejor experimento: {'lambda_l1': 350.25429047273235, 'lambda_l2': 684.6214736879317, 'learning_rate': 0.04661109398974737, 'num_leaves': 727, 'feature_fraction': 0.3849989551860049, 'min_data_in_leaf': 118}\n",
      "=========================================== Cluster 32 ===========================================\n"
     ]
    },
    {
     "name": "stderr",
     "output_type": "stream",
     "text": [
      "[I 2023-12-16 04:32:01,472] A new study created in memory with name: no-name-6c900734-6dc1-49fd-a1b5-d49bf4baf860\n"
     ]
    },
    {
     "name": "stdout",
     "output_type": "stream",
     "text": [
      "Periodos entrenar: [201701 201702 201703 201704 201705 201706 201707 201708 201709 201710\n",
      " 201711 201712 201801 201802 201803 201804 201805 201806 201807 201808\n",
      " 201809 201810 201811 201812 201901 201902 201903 201904 201905]\n",
      "Periodos validar: [201907]\n",
      "product_id a validar: 8700\n",
      "X_train: (129194, 120)\n",
      "y_train: (129194,)\n",
      "\n",
      "X_validate: (8700, 120)\n",
      "y_validate: (8700,)\n",
      "Optimizacion Bayesiana\n",
      "**************** regression_l1 ****************\n",
      "Training until validation scores don't improve for 81 rounds\n"
     ]
    },
    {
     "name": "stderr",
     "output_type": "stream",
     "text": [
      "[I 2023-12-16 04:32:04,118] Trial 0 finished with value: 99.62 and parameters: {'lambda_l1': 491.63026109487475, 'lambda_l2': 501.05450813547156, 'learning_rate': 0.15719321185894186, 'num_leaves': 97, 'feature_fraction': 0.7794366313726926, 'min_data_in_leaf': 1648}. Best is trial 0 with value: 99.62.\n"
     ]
    },
    {
     "name": "stdout",
     "output_type": "stream",
     "text": [
      "Early stopping, best iteration is:\n",
      "[7]\tvalid_0's ER: 99.62\n",
      "Evaluated only: ER\n",
      "**************** regression_l1 ****************\n",
      "Training until validation scores don't improve for 84 rounds\n"
     ]
    },
    {
     "name": "stderr",
     "output_type": "stream",
     "text": [
      "[I 2023-12-16 04:32:07,297] Trial 1 finished with value: 96.98 and parameters: {'lambda_l1': 483.50437870923037, 'lambda_l2': 118.75042916366763, 'learning_rate': 0.1460523082989684, 'num_leaves': 792, 'feature_fraction': 0.747582866544918, 'min_data_in_leaf': 752}. Best is trial 1 with value: 96.98.\n"
     ]
    },
    {
     "name": "stdout",
     "output_type": "stream",
     "text": [
      "Early stopping, best iteration is:\n",
      "[15]\tvalid_0's ER: 96.98\n",
      "Evaluated only: ER\n",
      "**************** regression_l1 ****************\n",
      "Training until validation scores don't improve for 107 rounds\n",
      "[100]\tvalid_0's ER: 97.89\n"
     ]
    },
    {
     "name": "stderr",
     "output_type": "stream",
     "text": [
      "[I 2023-12-16 04:32:11,406] Trial 2 finished with value: 94.62 and parameters: {'lambda_l1': 272.56357623859606, 'lambda_l2': 660.1927494326717, 'learning_rate': 0.08746146601568135, 'num_leaves': 456, 'feature_fraction': 0.5441960554619731, 'min_data_in_leaf': 560}. Best is trial 2 with value: 94.62.\n"
     ]
    },
    {
     "name": "stdout",
     "output_type": "stream",
     "text": [
      "Early stopping, best iteration is:\n",
      "[54]\tvalid_0's ER: 94.62\n",
      "Evaluated only: ER\n",
      "**************** regression_l1 ****************\n",
      "Training until validation scores don't improve for 72 rounds\n",
      "[100]\tvalid_0's ER: 91.04\n"
     ]
    },
    {
     "name": "stderr",
     "output_type": "stream",
     "text": [
      "[I 2023-12-16 04:32:15,826] Trial 3 finished with value: 90.93 and parameters: {'lambda_l1': 651.617876197921, 'lambda_l2': 562.1538013447247, 'learning_rate': 0.22265377964280963, 'num_leaves': 412, 'feature_fraction': 0.4728519468484092, 'min_data_in_leaf': 26}. Best is trial 3 with value: 90.93.\n"
     ]
    },
    {
     "name": "stdout",
     "output_type": "stream",
     "text": [
      "Early stopping, best iteration is:\n",
      "[53]\tvalid_0's ER: 90.93\n",
      "Evaluated only: ER\n",
      "**************** regression_l1 ****************\n",
      "Training until validation scores don't improve for 189 rounds\n",
      "[100]\tvalid_0's ER: 95.31\n",
      "[200]\tvalid_0's ER: 93.74\n",
      "[300]\tvalid_0's ER: 92.72\n",
      "[400]\tvalid_0's ER: 92.4\n",
      "[500]\tvalid_0's ER: 92.36\n",
      "[600]\tvalid_0's ER: 92.25\n",
      "[700]\tvalid_0's ER: 92.18\n",
      "[800]\tvalid_0's ER: 91.95\n",
      "[900]\tvalid_0's ER: 91.89\n",
      "[1000]\tvalid_0's ER: 91.78\n",
      "[1100]\tvalid_0's ER: 91.64\n",
      "[1200]\tvalid_0's ER: 91.48\n",
      "[1300]\tvalid_0's ER: 91.34\n",
      "[1400]\tvalid_0's ER: 91.28\n",
      "[1500]\tvalid_0's ER: 91.2\n",
      "[1600]\tvalid_0's ER: 91.11\n",
      "[1700]\tvalid_0's ER: 91.09\n",
      "[1800]\tvalid_0's ER: 91.08\n",
      "[1900]\tvalid_0's ER: 91.04\n",
      "[2000]\tvalid_0's ER: 90.98\n",
      "[2100]\tvalid_0's ER: 90.97\n",
      "[2200]\tvalid_0's ER: 90.92\n",
      "[2300]\tvalid_0's ER: 90.83\n",
      "[2400]\tvalid_0's ER: 90.75\n",
      "[2500]\tvalid_0's ER: 90.74\n",
      "[2600]\tvalid_0's ER: 90.7\n",
      "[2700]\tvalid_0's ER: 90.73\n",
      "[2800]\tvalid_0's ER: 90.65\n",
      "[2900]\tvalid_0's ER: 90.63\n",
      "[3000]\tvalid_0's ER: 90.57\n",
      "[3100]\tvalid_0's ER: 90.57\n",
      "[3200]\tvalid_0's ER: 90.46\n",
      "[3300]\tvalid_0's ER: 90.46\n",
      "[3400]\tvalid_0's ER: 90.45\n",
      "[3500]\tvalid_0's ER: 90.43\n",
      "[3600]\tvalid_0's ER: 90.42\n",
      "[3700]\tvalid_0's ER: 90.43\n",
      "Early stopping, best iteration is:\n",
      "[3518]\tvalid_0's ER: 90.4\n",
      "Evaluated only: ER\n"
     ]
    },
    {
     "name": "stderr",
     "output_type": "stream",
     "text": [
      "[I 2023-12-16 04:33:15,056] Trial 4 finished with value: 90.4 and parameters: {'lambda_l1': 186.06414579687157, 'lambda_l2': 600.0139071991968, 'learning_rate': 0.03595447393079549, 'num_leaves': 48, 'feature_fraction': 0.26844110452859193, 'min_data_in_leaf': 1175}. Best is trial 4 with value: 90.4.\n"
     ]
    },
    {
     "name": "stdout",
     "output_type": "stream",
     "text": [
      "**************** regression_l1 ****************\n",
      "Training until validation scores don't improve for 189 rounds\n",
      "[100]\tvalid_0's ER: 99.33\n",
      "[200]\tvalid_0's ER: 100.67\n"
     ]
    },
    {
     "name": "stderr",
     "output_type": "stream",
     "text": [
      "[I 2023-12-16 04:33:21,367] Trial 5 finished with value: 97.98 and parameters: {'lambda_l1': 345.6736737255964, 'lambda_l2': 776.8424817439173, 'learning_rate': 0.03595462163254243, 'num_leaves': 647, 'feature_fraction': 0.6039322131968203, 'min_data_in_leaf': 3542}. Best is trial 4 with value: 90.4.\n"
     ]
    },
    {
     "name": "stdout",
     "output_type": "stream",
     "text": [
      "Early stopping, best iteration is:\n",
      "[51]\tvalid_0's ER: 97.98\n",
      "Evaluated only: ER\n",
      "**************** regression_l1 ****************\n",
      "Training until validation scores don't improve for 126 rounds\n",
      "[100]\tvalid_0's ER: 98.05\n",
      "[200]\tvalid_0's ER: 98.36\n"
     ]
    },
    {
     "name": "stderr",
     "output_type": "stream",
     "text": [
      "[I 2023-12-16 04:33:26,856] Trial 6 finished with value: 97.55 and parameters: {'lambda_l1': 307.84743949404236, 'lambda_l2': 807.1304130694024, 'learning_rate': 0.06525908307629211, 'num_leaves': 569, 'feature_fraction': 0.7521736104958958, 'min_data_in_leaf': 6345}. Best is trial 4 with value: 90.4.\n"
     ]
    },
    {
     "name": "stdout",
     "output_type": "stream",
     "text": [
      "Early stopping, best iteration is:\n",
      "[97]\tvalid_0's ER: 97.55\n",
      "Evaluated only: ER\n",
      "**************** regression_l1 ****************\n",
      "Training until validation scores don't improve for 67 rounds\n",
      "[100]\tvalid_0's ER: 99.74\n"
     ]
    },
    {
     "name": "stderr",
     "output_type": "stream",
     "text": [
      "[I 2023-12-16 04:33:30,116] Trial 7 finished with value: 99.74 and parameters: {'lambda_l1': 901.3902972819699, 'lambda_l2': 766.0738313431946, 'learning_rate': 0.2841102453041075, 'num_leaves': 871, 'feature_fraction': 0.8103945033403146, 'min_data_in_leaf': 4063}. Best is trial 4 with value: 90.4.\n"
     ]
    },
    {
     "name": "stdout",
     "output_type": "stream",
     "text": [
      "Early stopping, best iteration is:\n",
      "[61]\tvalid_0's ER: 99.74\n",
      "Evaluated only: ER\n",
      "**************** regression_l1 ****************\n",
      "Training until validation scores don't improve for 123 rounds\n",
      "[100]\tvalid_0's ER: 99.97\n"
     ]
    },
    {
     "name": "stderr",
     "output_type": "stream",
     "text": [
      "[I 2023-12-16 04:33:33,067] Trial 8 finished with value: 99.97 and parameters: {'lambda_l1': 783.7390805720236, 'lambda_l2': 106.66830139132577, 'learning_rate': 0.06835278493929305, 'num_leaves': 116, 'feature_fraction': 0.5893799450500621, 'min_data_in_leaf': 6493}. Best is trial 4 with value: 90.4.\n"
     ]
    },
    {
     "name": "stdout",
     "output_type": "stream",
     "text": [
      "Early stopping, best iteration is:\n",
      "[5]\tvalid_0's ER: 99.97\n",
      "Evaluated only: ER\n",
      "**************** regression_l1 ****************\n",
      "Training until validation scores don't improve for 124 rounds\n",
      "[100]\tvalid_0's ER: 94.92\n",
      "[200]\tvalid_0's ER: 94.02\n",
      "[300]\tvalid_0's ER: 93.97\n",
      "[400]\tvalid_0's ER: 93.86\n",
      "[500]\tvalid_0's ER: 93.59\n",
      "[600]\tvalid_0's ER: 93.52\n",
      "[700]\tvalid_0's ER: 93.32\n",
      "[800]\tvalid_0's ER: 92.65\n",
      "[900]\tvalid_0's ER: 92.45\n",
      "[1000]\tvalid_0's ER: 91.95\n",
      "[1100]\tvalid_0's ER: 91.73\n",
      "[1200]\tvalid_0's ER: 91.41\n",
      "[1300]\tvalid_0's ER: 91.18\n",
      "[1400]\tvalid_0's ER: 91.05\n",
      "[1500]\tvalid_0's ER: 90.93\n",
      "[1600]\tvalid_0's ER: 90.83\n",
      "[1700]\tvalid_0's ER: 90.6\n",
      "[1800]\tvalid_0's ER: 90.56\n",
      "[1900]\tvalid_0's ER: 90.44\n",
      "[2000]\tvalid_0's ER: 90.35\n",
      "[2100]\tvalid_0's ER: 90.27\n",
      "[2200]\tvalid_0's ER: 90.16\n",
      "[2300]\tvalid_0's ER: 90.1\n",
      "[2400]\tvalid_0's ER: 90.06\n",
      "[2500]\tvalid_0's ER: 90.02\n",
      "[2600]\tvalid_0's ER: 89.96\n",
      "[2700]\tvalid_0's ER: 89.95\n",
      "Early stopping, best iteration is:\n",
      "[2608]\tvalid_0's ER: 89.94\n",
      "Evaluated only: ER\n"
     ]
    },
    {
     "name": "stderr",
     "output_type": "stream",
     "text": [
      "[I 2023-12-16 04:34:50,069] Trial 9 finished with value: 89.94 and parameters: {'lambda_l1': 4.213052577684673, 'lambda_l2': 9.822031878000903, 'learning_rate': 0.0674510268304408, 'num_leaves': 567, 'feature_fraction': 0.66700144492079, 'min_data_in_leaf': 2935}. Best is trial 9 with value: 89.94.\n"
     ]
    },
    {
     "name": "stdout",
     "output_type": "stream",
     "text": [
      "# Experimentos: 10\n",
      "Mejor experimento: {'lambda_l1': 4.213052577684673, 'lambda_l2': 9.822031878000903, 'learning_rate': 0.0674510268304408, 'num_leaves': 567, 'feature_fraction': 0.66700144492079, 'min_data_in_leaf': 2935}\n",
      "=========================================== Cluster 33 ===========================================\n"
     ]
    },
    {
     "name": "stderr",
     "output_type": "stream",
     "text": [
      "[I 2023-12-16 04:34:50,858] A new study created in memory with name: no-name-1148d167-1dc7-4791-8357-fa8aea7f97c8\n"
     ]
    },
    {
     "name": "stdout",
     "output_type": "stream",
     "text": [
      "Periodos entrenar: [201801 201802 201803 201804 201805 201806 201807 201808 201809 201810\n",
      " 201811 201812 201901 201902 201903 201904 201905]\n",
      "Periodos validar: [201907]\n",
      "product_id a validar: 1160\n",
      "X_train: (17639, 120)\n",
      "y_train: (17639,)\n",
      "\n",
      "X_validate: (1160, 120)\n",
      "y_validate: (1160,)\n",
      "Optimizacion Bayesiana\n",
      "**************** regression_l1 ****************\n",
      "Training until validation scores don't improve for 129 rounds\n"
     ]
    },
    {
     "name": "stderr",
     "output_type": "stream",
     "text": [
      "[I 2023-12-16 04:34:51,164] Trial 0 finished with value: 100.0 and parameters: {'lambda_l1': 989.6594078231626, 'lambda_l2': 9.091098449906632, 'learning_rate': 0.06280034615941836, 'num_leaves': 411, 'feature_fraction': 0.2970062645330416, 'min_data_in_leaf': 4016}. Best is trial 0 with value: 100.0.\n"
     ]
    },
    {
     "name": "stdout",
     "output_type": "stream",
     "text": [
      "[100]\tvalid_0's ER: 100\n",
      "Early stopping, best iteration is:\n",
      "[1]\tvalid_0's ER: 100\n",
      "Evaluated only: ER\n",
      "**************** regression_l1 ****************\n",
      "Training until validation scores don't improve for 67 rounds\n"
     ]
    },
    {
     "name": "stderr",
     "output_type": "stream",
     "text": [
      "[I 2023-12-16 04:34:51,457] Trial 1 finished with value: 100.0 and parameters: {'lambda_l1': 322.49770014327663, 'lambda_l2': 718.898213215549, 'learning_rate': 0.2833912916848193, 'num_leaves': 581, 'feature_fraction': 0.718185474461132, 'min_data_in_leaf': 2685}. Best is trial 0 with value: 100.0.\n"
     ]
    },
    {
     "name": "stdout",
     "output_type": "stream",
     "text": [
      "Early stopping, best iteration is:\n",
      "[1]\tvalid_0's ER: 100\n",
      "Evaluated only: ER\n",
      "**************** regression_l1 ****************\n",
      "Training until validation scores don't improve for 69 rounds\n"
     ]
    },
    {
     "name": "stderr",
     "output_type": "stream",
     "text": [
      "[I 2023-12-16 04:34:51,703] Trial 2 finished with value: 100.0 and parameters: {'lambda_l1': 126.51924493039957, 'lambda_l2': 276.8920121629028, 'learning_rate': 0.25136497440510885, 'num_leaves': 761, 'feature_fraction': 0.236042784041393, 'min_data_in_leaf': 3039}. Best is trial 0 with value: 100.0.\n"
     ]
    },
    {
     "name": "stdout",
     "output_type": "stream",
     "text": [
      "Early stopping, best iteration is:\n",
      "[1]\tvalid_0's ER: 100\n",
      "Evaluated only: ER\n",
      "**************** regression_l1 ****************\n",
      "Training until validation scores don't improve for 83 rounds\n"
     ]
    },
    {
     "name": "stderr",
     "output_type": "stream",
     "text": [
      "[I 2023-12-16 04:34:51,953] Trial 3 finished with value: 100.0 and parameters: {'lambda_l1': 367.3241281522278, 'lambda_l2': 987.4686699641918, 'learning_rate': 0.1487572517119622, 'num_leaves': 824, 'feature_fraction': 0.21044983957899976, 'min_data_in_leaf': 6774}. Best is trial 0 with value: 100.0.\n"
     ]
    },
    {
     "name": "stdout",
     "output_type": "stream",
     "text": [
      "Early stopping, best iteration is:\n",
      "[1]\tvalid_0's ER: 100\n",
      "Evaluated only: ER\n",
      "**************** regression_l1 ****************\n"
     ]
    },
    {
     "name": "stderr",
     "output_type": "stream",
     "text": [
      "[I 2023-12-16 04:34:52,427] Trial 4 finished with value: 100.0 and parameters: {'lambda_l1': 881.514443650901, 'lambda_l2': 767.6723454373372, 'learning_rate': 0.16249834416864992, 'num_leaves': 376, 'feature_fraction': 0.6743661375733625, 'min_data_in_leaf': 173}. Best is trial 0 with value: 100.0.\n"
     ]
    },
    {
     "name": "stdout",
     "output_type": "stream",
     "text": [
      "Training until validation scores don't improve for 80 rounds\n",
      "Early stopping, best iteration is:\n",
      "[1]\tvalid_0's ER: 100\n",
      "Evaluated only: ER\n",
      "**************** regression_l1 ****************\n"
     ]
    },
    {
     "name": "stderr",
     "output_type": "stream",
     "text": [
      "[I 2023-12-16 04:34:52,745] Trial 5 finished with value: 100.0 and parameters: {'lambda_l1': 331.891986618011, 'lambda_l2': 659.8184536222926, 'learning_rate': 0.13312121639793695, 'num_leaves': 115, 'feature_fraction': 0.5945022293841888, 'min_data_in_leaf': 3489}. Best is trial 0 with value: 100.0.\n"
     ]
    },
    {
     "name": "stdout",
     "output_type": "stream",
     "text": [
      "Training until validation scores don't improve for 87 rounds\n",
      "Early stopping, best iteration is:\n",
      "[1]\tvalid_0's ER: 100\n",
      "Evaluated only: ER\n",
      "**************** regression_l1 ****************\n",
      "Training until validation scores don't improve for 120 rounds\n",
      "[100]\tvalid_0's ER: 100\n"
     ]
    },
    {
     "name": "stderr",
     "output_type": "stream",
     "text": [
      "[I 2023-12-16 04:34:53,104] Trial 6 finished with value: 100.0 and parameters: {'lambda_l1': 12.851367198323139, 'lambda_l2': 54.859370821849666, 'learning_rate': 0.07055765423490018, 'num_leaves': 772, 'feature_fraction': 0.5381310321272226, 'min_data_in_leaf': 6450}. Best is trial 0 with value: 100.0.\n"
     ]
    },
    {
     "name": "stdout",
     "output_type": "stream",
     "text": [
      "Early stopping, best iteration is:\n",
      "[1]\tvalid_0's ER: 100\n",
      "Evaluated only: ER\n",
      "**************** regression_l1 ****************\n",
      "Training until validation scores don't improve for 73 rounds\n"
     ]
    },
    {
     "name": "stderr",
     "output_type": "stream",
     "text": [
      "[I 2023-12-16 04:34:53,333] Trial 7 finished with value: 100.0 and parameters: {'lambda_l1': 698.7844087044075, 'lambda_l2': 845.929878880032, 'learning_rate': 0.21510537540561592, 'num_leaves': 12, 'feature_fraction': 0.21516268318621412, 'min_data_in_leaf': 1066}. Best is trial 0 with value: 100.0.\n"
     ]
    },
    {
     "name": "stdout",
     "output_type": "stream",
     "text": [
      "Early stopping, best iteration is:\n",
      "[1]\tvalid_0's ER: 100\n",
      "Evaluated only: ER\n",
      "**************** regression_l1 ****************\n",
      "Training until validation scores don't improve for 93 rounds\n"
     ]
    },
    {
     "name": "stderr",
     "output_type": "stream",
     "text": [
      "[I 2023-12-16 04:34:53,662] Trial 8 finished with value: 100.0 and parameters: {'lambda_l1': 326.4437510914525, 'lambda_l2': 456.46781759784795, 'learning_rate': 0.11542508619555805, 'num_leaves': 11, 'feature_fraction': 0.7050250322340517, 'min_data_in_leaf': 5410}. Best is trial 0 with value: 100.0.\n"
     ]
    },
    {
     "name": "stdout",
     "output_type": "stream",
     "text": [
      "Early stopping, best iteration is:\n",
      "[1]\tvalid_0's ER: 100\n",
      "Evaluated only: ER\n",
      "**************** regression_l1 ****************\n",
      "Training until validation scores don't improve for 91 rounds\n"
     ]
    },
    {
     "name": "stderr",
     "output_type": "stream",
     "text": [
      "[I 2023-12-16 04:34:54,003] Trial 9 finished with value: 100.0 and parameters: {'lambda_l1': 573.6453707006975, 'lambda_l2': 813.3939499273273, 'learning_rate': 0.1196325169587195, 'num_leaves': 716, 'feature_fraction': 0.6963784493849032, 'min_data_in_leaf': 4245}. Best is trial 0 with value: 100.0.\n"
     ]
    },
    {
     "name": "stdout",
     "output_type": "stream",
     "text": [
      "Early stopping, best iteration is:\n",
      "[1]\tvalid_0's ER: 100\n",
      "Evaluated only: ER\n",
      "# Experimentos: 10\n",
      "Mejor experimento: {'lambda_l1': 989.6594078231626, 'lambda_l2': 9.091098449906632, 'learning_rate': 0.06280034615941836, 'num_leaves': 411, 'feature_fraction': 0.2970062645330416, 'min_data_in_leaf': 4016}\n",
      "=========================================== Cluster 34 ===========================================\n"
     ]
    },
    {
     "name": "stderr",
     "output_type": "stream",
     "text": [
      "[I 2023-12-16 04:34:56,478] A new study created in memory with name: no-name-7de4e748-1b11-4fe6-aeac-dbcfc15ccdeb\n"
     ]
    },
    {
     "name": "stdout",
     "output_type": "stream",
     "text": [
      "Periodos entrenar: [201701 201702 201703 201704 201705 201706 201707 201708 201709 201710\n",
      " 201711 201712 201801 201802 201803 201804 201805 201806 201807 201808\n",
      " 201809 201810 201811 201812 201901 201902 201903 201904 201905]\n",
      "Periodos validar: [201907]\n",
      "product_id a validar: 4640\n",
      "X_train: (71270, 120)\n",
      "y_train: (71270,)\n",
      "\n",
      "X_validate: (4640, 120)\n",
      "y_validate: (4640,)\n",
      "Optimizacion Bayesiana\n",
      "**************** regression_l1 ****************\n",
      "Training until validation scores don't improve for 84 rounds\n",
      "[100]\tvalid_0's ER: 92.43\n",
      "[200]\tvalid_0's ER: 91.58\n",
      "[300]\tvalid_0's ER: 91.31\n",
      "[400]\tvalid_0's ER: 91.01\n",
      "[500]\tvalid_0's ER: 90.72\n",
      "[600]\tvalid_0's ER: 90.5\n",
      "[700]\tvalid_0's ER: 90.24\n",
      "[800]\tvalid_0's ER: 90.07\n",
      "[900]\tvalid_0's ER: 89.54\n",
      "[1000]\tvalid_0's ER: 89.22\n",
      "[1100]\tvalid_0's ER: 88.84\n",
      "[1200]\tvalid_0's ER: 88.61\n",
      "[1300]\tvalid_0's ER: 88.34\n",
      "[1400]\tvalid_0's ER: 88.1\n",
      "[1500]\tvalid_0's ER: 87.74\n",
      "[1600]\tvalid_0's ER: 87.49\n",
      "[1700]\tvalid_0's ER: 87.21\n",
      "[1800]\tvalid_0's ER: 87.02\n",
      "[1900]\tvalid_0's ER: 86.85\n",
      "[2000]\tvalid_0's ER: 86.68\n",
      "[2100]\tvalid_0's ER: 86.56\n",
      "[2200]\tvalid_0's ER: 86.44\n",
      "[2300]\tvalid_0's ER: 86.35\n",
      "[2400]\tvalid_0's ER: 86.24\n",
      "[2500]\tvalid_0's ER: 86.12\n",
      "[2600]\tvalid_0's ER: 86.01\n",
      "[2700]\tvalid_0's ER: 85.93\n",
      "[2800]\tvalid_0's ER: 85.84\n",
      "[2900]\tvalid_0's ER: 85.69\n",
      "[3000]\tvalid_0's ER: 85.58\n",
      "[3100]\tvalid_0's ER: 85.51\n",
      "[3200]\tvalid_0's ER: 85.42\n",
      "[3300]\tvalid_0's ER: 85.31\n",
      "[3400]\tvalid_0's ER: 85.19\n",
      "[3500]\tvalid_0's ER: 85.12\n",
      "[3600]\tvalid_0's ER: 85.05\n",
      "[3700]\tvalid_0's ER: 84.98\n",
      "[3800]\tvalid_0's ER: 84.88\n",
      "[3900]\tvalid_0's ER: 84.8\n",
      "[4000]\tvalid_0's ER: 84.69\n",
      "[4100]\tvalid_0's ER: 84.61\n",
      "[4200]\tvalid_0's ER: 84.56\n",
      "[4300]\tvalid_0's ER: 84.51\n",
      "[4400]\tvalid_0's ER: 84.43\n",
      "[4500]\tvalid_0's ER: 84.38\n",
      "[4600]\tvalid_0's ER: 84.27\n",
      "[4700]\tvalid_0's ER: 84.16\n",
      "[4800]\tvalid_0's ER: 84.08\n",
      "[4900]\tvalid_0's ER: 84.02\n",
      "[5000]\tvalid_0's ER: 83.92\n",
      "[5100]\tvalid_0's ER: 83.86\n",
      "[5200]\tvalid_0's ER: 83.79\n",
      "[5300]\tvalid_0's ER: 83.7\n",
      "[5400]\tvalid_0's ER: 83.6\n",
      "[5500]\tvalid_0's ER: 83.51\n",
      "[5600]\tvalid_0's ER: 83.45\n",
      "[5700]\tvalid_0's ER: 83.36\n",
      "[5800]\tvalid_0's ER: 83.28\n",
      "[5900]\tvalid_0's ER: 83.19\n",
      "[6000]\tvalid_0's ER: 83.11\n",
      "[6100]\tvalid_0's ER: 83\n",
      "[6200]\tvalid_0's ER: 82.89\n",
      "[6300]\tvalid_0's ER: 82.85\n",
      "[6400]\tvalid_0's ER: 82.76\n",
      "[6500]\tvalid_0's ER: 82.67\n",
      "[6600]\tvalid_0's ER: 82.56\n",
      "[6700]\tvalid_0's ER: 82.52\n",
      "[6800]\tvalid_0's ER: 82.46\n",
      "[6900]\tvalid_0's ER: 82.37\n",
      "[7000]\tvalid_0's ER: 82.32\n",
      "[7100]\tvalid_0's ER: 82.24\n",
      "[7200]\tvalid_0's ER: 82.15\n",
      "[7300]\tvalid_0's ER: 82.02\n",
      "[7400]\tvalid_0's ER: 81.93\n",
      "[7500]\tvalid_0's ER: 81.8\n",
      "[7600]\tvalid_0's ER: 81.7\n",
      "[7700]\tvalid_0's ER: 81.59\n",
      "[7800]\tvalid_0's ER: 81.48\n",
      "[7900]\tvalid_0's ER: 81.43\n",
      "[8000]\tvalid_0's ER: 81.33\n",
      "[8100]\tvalid_0's ER: 81.26\n",
      "[8200]\tvalid_0's ER: 81.19\n",
      "[8300]\tvalid_0's ER: 81.13\n",
      "[8400]\tvalid_0's ER: 81.01\n",
      "[8500]\tvalid_0's ER: 80.95\n",
      "[8600]\tvalid_0's ER: 80.86\n",
      "[8700]\tvalid_0's ER: 80.78\n",
      "[8800]\tvalid_0's ER: 80.72\n",
      "[8900]\tvalid_0's ER: 80.68\n",
      "[9000]\tvalid_0's ER: 80.61\n",
      "[9100]\tvalid_0's ER: 80.55\n",
      "[9200]\tvalid_0's ER: 80.49\n",
      "[9300]\tvalid_0's ER: 80.43\n",
      "[9400]\tvalid_0's ER: 80.35\n",
      "[9500]\tvalid_0's ER: 80.28\n",
      "[9600]\tvalid_0's ER: 80.16\n",
      "[9700]\tvalid_0's ER: 80.04\n",
      "[9800]\tvalid_0's ER: 79.94\n",
      "[9900]\tvalid_0's ER: 79.82\n",
      "[10000]\tvalid_0's ER: 79.76\n",
      "Did not meet early stopping. Best iteration is:\n",
      "[10000]\tvalid_0's ER: 79.76\n",
      "Evaluated only: ER\n"
     ]
    },
    {
     "name": "stderr",
     "output_type": "stream",
     "text": [
      "[I 2023-12-16 04:36:51,071] Trial 0 finished with value: 79.76 and parameters: {'lambda_l1': 26.0048677870649, 'lambda_l2': 729.8210254118651, 'learning_rate': 0.14633631797052582, 'num_leaves': 527, 'feature_fraction': 0.7359178813064857, 'min_data_in_leaf': 6452}. Best is trial 0 with value: 79.76.\n"
     ]
    },
    {
     "name": "stdout",
     "output_type": "stream",
     "text": [
      "**************** regression_l1 ****************\n",
      "Training until validation scores don't improve for 72 rounds\n",
      "[100]\tvalid_0's ER: 89.77\n",
      "[200]\tvalid_0's ER: 89.36\n",
      "[300]\tvalid_0's ER: 88.81\n",
      "[400]\tvalid_0's ER: 88.32\n",
      "[500]\tvalid_0's ER: 88.07\n",
      "[600]\tvalid_0's ER: 87.76\n",
      "[700]\tvalid_0's ER: 87.65\n",
      "[800]\tvalid_0's ER: 87.27\n"
     ]
    },
    {
     "name": "stderr",
     "output_type": "stream",
     "text": [
      "[I 2023-12-16 04:37:02,476] Trial 1 finished with value: 87.24 and parameters: {'lambda_l1': 560.0225588975823, 'lambda_l2': 867.6866292088722, 'learning_rate': 0.2271373340859036, 'num_leaves': 548, 'feature_fraction': 0.755055025238903, 'min_data_in_leaf': 4510}. Best is trial 0 with value: 79.76.\n"
     ]
    },
    {
     "name": "stdout",
     "output_type": "stream",
     "text": [
      "Early stopping, best iteration is:\n",
      "[804]\tvalid_0's ER: 87.24\n",
      "Evaluated only: ER\n",
      "**************** regression_l1 ****************\n",
      "Training until validation scores don't improve for 90 rounds\n",
      "[100]\tvalid_0's ER: 90.96\n",
      "[200]\tvalid_0's ER: 90.54\n",
      "[300]\tvalid_0's ER: 90.41\n",
      "[400]\tvalid_0's ER: 90.14\n",
      "[500]\tvalid_0's ER: 89.97\n",
      "[600]\tvalid_0's ER: 89.47\n",
      "[700]\tvalid_0's ER: 89.36\n",
      "[800]\tvalid_0's ER: 89.05\n",
      "[900]\tvalid_0's ER: 88.64\n",
      "[1000]\tvalid_0's ER: 88.56\n",
      "[1100]\tvalid_0's ER: 88.31\n",
      "[1200]\tvalid_0's ER: 88.04\n",
      "[1300]\tvalid_0's ER: 87.84\n",
      "[1400]\tvalid_0's ER: 87.57\n",
      "[1500]\tvalid_0's ER: 87.29\n",
      "[1600]\tvalid_0's ER: 87.13\n",
      "[1700]\tvalid_0's ER: 86.92\n",
      "[1800]\tvalid_0's ER: 86.85\n",
      "[1900]\tvalid_0's ER: 86.75\n",
      "[2000]\tvalid_0's ER: 86.65\n",
      "[2100]\tvalid_0's ER: 86.62\n",
      "[2200]\tvalid_0's ER: 86.5\n",
      "[2300]\tvalid_0's ER: 86.43\n",
      "[2400]\tvalid_0's ER: 86.37\n",
      "[2500]\tvalid_0's ER: 86.21\n",
      "[2600]\tvalid_0's ER: 86.08\n",
      "[2700]\tvalid_0's ER: 86\n",
      "[2800]\tvalid_0's ER: 85.9\n",
      "[2900]\tvalid_0's ER: 85.76\n",
      "[3000]\tvalid_0's ER: 85.68\n",
      "[3100]\tvalid_0's ER: 85.56\n",
      "[3200]\tvalid_0's ER: 85.42\n",
      "[3300]\tvalid_0's ER: 85.26\n",
      "[3400]\tvalid_0's ER: 85.15\n",
      "[3500]\tvalid_0's ER: 85.03\n",
      "[3600]\tvalid_0's ER: 84.91\n",
      "[3700]\tvalid_0's ER: 84.82\n",
      "[3800]\tvalid_0's ER: 84.79\n",
      "[3900]\tvalid_0's ER: 84.7\n",
      "[4000]\tvalid_0's ER: 84.64\n",
      "[4100]\tvalid_0's ER: 84.59\n",
      "[4200]\tvalid_0's ER: 84.51\n",
      "[4300]\tvalid_0's ER: 84.44\n",
      "[4400]\tvalid_0's ER: 84.39\n",
      "[4500]\tvalid_0's ER: 84.33\n",
      "[4600]\tvalid_0's ER: 84.24\n",
      "[4700]\tvalid_0's ER: 84.23\n",
      "[4800]\tvalid_0's ER: 84.15\n",
      "[4900]\tvalid_0's ER: 84.07\n",
      "[5000]\tvalid_0's ER: 84.01\n",
      "[5100]\tvalid_0's ER: 83.95\n",
      "[5200]\tvalid_0's ER: 83.91\n",
      "[5300]\tvalid_0's ER: 83.85\n",
      "[5400]\tvalid_0's ER: 83.78\n",
      "[5500]\tvalid_0's ER: 83.72\n",
      "[5600]\tvalid_0's ER: 83.65\n",
      "[5700]\tvalid_0's ER: 83.59\n",
      "[5800]\tvalid_0's ER: 83.54\n",
      "Early stopping, best iteration is:\n",
      "[5787]\tvalid_0's ER: 83.54\n",
      "Evaluated only: ER\n"
     ]
    },
    {
     "name": "stderr",
     "output_type": "stream",
     "text": [
      "[I 2023-12-16 04:38:12,850] Trial 2 finished with value: 83.54 and parameters: {'lambda_l1': 87.75084038663717, 'lambda_l2': 404.6552127188955, 'learning_rate': 0.12320813479032254, 'num_leaves': 877, 'feature_fraction': 0.8313092934861983, 'min_data_in_leaf': 5855}. Best is trial 0 with value: 79.76.\n"
     ]
    },
    {
     "name": "stdout",
     "output_type": "stream",
     "text": [
      "**************** regression_l1 ****************\n",
      "Training until validation scores don't improve for 84 rounds\n",
      "[100]\tvalid_0's ER: 87.65\n",
      "[200]\tvalid_0's ER: 87.18\n",
      "[300]\tvalid_0's ER: 86.34\n",
      "[400]\tvalid_0's ER: 86.25\n",
      "[500]\tvalid_0's ER: 85.61\n",
      "[600]\tvalid_0's ER: 85.09\n"
     ]
    },
    {
     "name": "stderr",
     "output_type": "stream",
     "text": [
      "[I 2023-12-16 04:38:20,124] Trial 3 finished with value: 85.09 and parameters: {'lambda_l1': 844.9927751885444, 'lambda_l2': 345.54846627404226, 'learning_rate': 0.14350905531601646, 'num_leaves': 606, 'feature_fraction': 0.5395877614138982, 'min_data_in_leaf': 3428}. Best is trial 0 with value: 79.76.\n"
     ]
    },
    {
     "name": "stdout",
     "output_type": "stream",
     "text": [
      "Early stopping, best iteration is:\n",
      "[589]\tvalid_0's ER: 85.09\n",
      "Evaluated only: ER\n",
      "**************** regression_l1 ****************\n",
      "Training until validation scores don't improve for 242 rounds\n",
      "[100]\tvalid_0's ER: 82.19\n",
      "[200]\tvalid_0's ER: 73.42\n",
      "[300]\tvalid_0's ER: 71.54\n",
      "[400]\tvalid_0's ER: 69.43\n",
      "[500]\tvalid_0's ER: 68.65\n",
      "[600]\tvalid_0's ER: 68.66\n",
      "[700]\tvalid_0's ER: 68.59\n",
      "[800]\tvalid_0's ER: 68.58\n",
      "[900]\tvalid_0's ER: 68.59\n",
      "[1000]\tvalid_0's ER: 68.47\n",
      "[1100]\tvalid_0's ER: 68.45\n",
      "[1200]\tvalid_0's ER: 68.23\n",
      "[1300]\tvalid_0's ER: 68.16\n",
      "[1400]\tvalid_0's ER: 67.95\n",
      "[1500]\tvalid_0's ER: 67.86\n",
      "[1600]\tvalid_0's ER: 67.88\n",
      "[1700]\tvalid_0's ER: 67.9\n",
      "Early stopping, best iteration is:\n",
      "[1470]\tvalid_0's ER: 67.86\n",
      "Evaluated only: ER\n"
     ]
    },
    {
     "name": "stderr",
     "output_type": "stream",
     "text": [
      "[I 2023-12-16 04:38:57,387] Trial 4 finished with value: 67.86 and parameters: {'lambda_l1': 722.5636101174048, 'lambda_l2': 36.2407334300846, 'learning_rate': 0.025988348704690523, 'num_leaves': 717, 'feature_fraction': 0.8976443403116989, 'min_data_in_leaf': 15}. Best is trial 4 with value: 67.86.\n"
     ]
    },
    {
     "name": "stdout",
     "output_type": "stream",
     "text": [
      "**************** regression_l1 ****************\n",
      "Training until validation scores don't improve for 97 rounds\n",
      "[100]\tvalid_0's ER: 86.22\n",
      "[200]\tvalid_0's ER: 84.18\n",
      "[300]\tvalid_0's ER: 83.67\n",
      "[400]\tvalid_0's ER: 83.14\n",
      "[500]\tvalid_0's ER: 82.53\n",
      "[600]\tvalid_0's ER: 82.27\n",
      "[700]\tvalid_0's ER: 81.85\n",
      "[800]\tvalid_0's ER: 81.53\n",
      "[900]\tvalid_0's ER: 80.98\n",
      "[1000]\tvalid_0's ER: 80.43\n",
      "[1100]\tvalid_0's ER: 80.02\n",
      "[1200]\tvalid_0's ER: 79.56\n",
      "[1300]\tvalid_0's ER: 79.03\n",
      "[1400]\tvalid_0's ER: 78.79\n",
      "[1500]\tvalid_0's ER: 78.5\n",
      "[1600]\tvalid_0's ER: 78.05\n",
      "[1700]\tvalid_0's ER: 77.73\n",
      "[1800]\tvalid_0's ER: 77.52\n",
      "[1900]\tvalid_0's ER: 77.4\n",
      "[2000]\tvalid_0's ER: 77.26\n",
      "[2100]\tvalid_0's ER: 77.03\n",
      "[2200]\tvalid_0's ER: 76.97\n",
      "[2300]\tvalid_0's ER: 76.89\n",
      "[2400]\tvalid_0's ER: 76.78\n",
      "[2500]\tvalid_0's ER: 76.66\n",
      "[2600]\tvalid_0's ER: 76.53\n",
      "[2700]\tvalid_0's ER: 76.48\n",
      "[2800]\tvalid_0's ER: 76.37\n",
      "[2900]\tvalid_0's ER: 76.28\n",
      "[3000]\tvalid_0's ER: 76.22\n",
      "[3100]\tvalid_0's ER: 76.13\n",
      "[3200]\tvalid_0's ER: 76.09\n",
      "Early stopping, best iteration is:\n",
      "[3117]\tvalid_0's ER: 76.08\n",
      "Evaluated only: ER\n"
     ]
    },
    {
     "name": "stderr",
     "output_type": "stream",
     "text": [
      "[I 2023-12-16 04:39:41,066] Trial 5 finished with value: 76.08 and parameters: {'lambda_l1': 223.9313021237701, 'lambda_l2': 41.256681849350386, 'learning_rate': 0.10509774851646408, 'num_leaves': 647, 'feature_fraction': 0.9019139837318917, 'min_data_in_leaf': 2996}. Best is trial 4 with value: 67.86.\n"
     ]
    },
    {
     "name": "stdout",
     "output_type": "stream",
     "text": [
      "**************** regression_l1 ****************\n",
      "Training until validation scores don't improve for 88 rounds\n",
      "[100]\tvalid_0's ER: 94.24\n",
      "[200]\tvalid_0's ER: 93.37\n",
      "[300]\tvalid_0's ER: 93.05\n",
      "[400]\tvalid_0's ER: 92.49\n",
      "[500]\tvalid_0's ER: 92.41\n",
      "[600]\tvalid_0's ER: 92.26\n",
      "[700]\tvalid_0's ER: 92.03\n",
      "[800]\tvalid_0's ER: 91.89\n",
      "[900]\tvalid_0's ER: 91.64\n",
      "[1000]\tvalid_0's ER: 91.4\n",
      "[1100]\tvalid_0's ER: 91.29\n",
      "[1200]\tvalid_0's ER: 91.09\n",
      "[1300]\tvalid_0's ER: 91.02\n",
      "[1400]\tvalid_0's ER: 90.97\n",
      "[1500]\tvalid_0's ER: 90.71\n",
      "[1600]\tvalid_0's ER: 90.59\n",
      "[1700]\tvalid_0's ER: 90.32\n",
      "[1800]\tvalid_0's ER: 90.09\n",
      "[1900]\tvalid_0's ER: 89.91\n",
      "[2000]\tvalid_0's ER: 89.78\n",
      "[2100]\tvalid_0's ER: 89.58\n",
      "[2200]\tvalid_0's ER: 89.4\n",
      "[2300]\tvalid_0's ER: 89.23\n",
      "[2400]\tvalid_0's ER: 89.08\n",
      "[2500]\tvalid_0's ER: 88.97\n",
      "[2600]\tvalid_0's ER: 88.85\n",
      "[2700]\tvalid_0's ER: 88.72\n",
      "[2800]\tvalid_0's ER: 88.66\n",
      "[2900]\tvalid_0's ER: 88.58\n",
      "[3000]\tvalid_0's ER: 88.45\n",
      "[3100]\tvalid_0's ER: 88.27\n",
      "[3200]\tvalid_0's ER: 88.16\n",
      "[3300]\tvalid_0's ER: 88.01\n",
      "[3400]\tvalid_0's ER: 87.89\n",
      "[3500]\tvalid_0's ER: 87.77\n",
      "[3600]\tvalid_0's ER: 87.66\n",
      "[3700]\tvalid_0's ER: 87.59\n",
      "[3800]\tvalid_0's ER: 87.5\n",
      "[3900]\tvalid_0's ER: 87.38\n",
      "[4000]\tvalid_0's ER: 87.31\n",
      "[4100]\tvalid_0's ER: 87.23\n",
      "[4200]\tvalid_0's ER: 87.09\n",
      "[4300]\tvalid_0's ER: 86.98\n",
      "[4400]\tvalid_0's ER: 86.89\n",
      "[4500]\tvalid_0's ER: 86.81\n",
      "[4600]\tvalid_0's ER: 86.71\n",
      "[4700]\tvalid_0's ER: 86.62\n",
      "[4800]\tvalid_0's ER: 86.51\n",
      "[4900]\tvalid_0's ER: 86.43\n",
      "[5000]\tvalid_0's ER: 86.35\n",
      "[5100]\tvalid_0's ER: 86.26\n",
      "[5200]\tvalid_0's ER: 86.19\n",
      "[5300]\tvalid_0's ER: 86.12\n",
      "[5400]\tvalid_0's ER: 86.03\n",
      "[5500]\tvalid_0's ER: 85.97\n",
      "[5600]\tvalid_0's ER: 85.85\n",
      "[5700]\tvalid_0's ER: 85.78\n",
      "[5800]\tvalid_0's ER: 85.68\n",
      "[5900]\tvalid_0's ER: 85.62\n",
      "[6000]\tvalid_0's ER: 85.52\n",
      "[6100]\tvalid_0's ER: 85.45\n",
      "[6200]\tvalid_0's ER: 85.39\n",
      "[6300]\tvalid_0's ER: 85.31\n",
      "[6400]\tvalid_0's ER: 85.25\n",
      "[6500]\tvalid_0's ER: 85.16\n",
      "[6600]\tvalid_0's ER: 85.09\n",
      "[6700]\tvalid_0's ER: 85.01\n",
      "[6800]\tvalid_0's ER: 84.95\n",
      "[6900]\tvalid_0's ER: 84.92\n",
      "[7000]\tvalid_0's ER: 84.86\n",
      "[7100]\tvalid_0's ER: 84.8\n",
      "[7200]\tvalid_0's ER: 84.73\n",
      "[7300]\tvalid_0's ER: 84.66\n",
      "[7400]\tvalid_0's ER: 84.61\n",
      "[7500]\tvalid_0's ER: 84.57\n",
      "[7600]\tvalid_0's ER: 84.52\n",
      "[7700]\tvalid_0's ER: 84.47\n",
      "[7800]\tvalid_0's ER: 84.42\n",
      "[7900]\tvalid_0's ER: 84.35\n",
      "[8000]\tvalid_0's ER: 84.31\n",
      "[8100]\tvalid_0's ER: 84.24\n",
      "[8200]\tvalid_0's ER: 84.19\n",
      "[8300]\tvalid_0's ER: 84.16\n",
      "[8400]\tvalid_0's ER: 84.1\n",
      "[8500]\tvalid_0's ER: 84.06\n",
      "[8600]\tvalid_0's ER: 84\n",
      "[8700]\tvalid_0's ER: 83.96\n",
      "[8800]\tvalid_0's ER: 83.93\n",
      "[8900]\tvalid_0's ER: 83.91\n",
      "[9000]\tvalid_0's ER: 83.84\n",
      "[9100]\tvalid_0's ER: 83.79\n",
      "[9200]\tvalid_0's ER: 83.74\n",
      "[9300]\tvalid_0's ER: 83.7\n",
      "[9400]\tvalid_0's ER: 83.64\n",
      "[9500]\tvalid_0's ER: 83.62\n",
      "[9600]\tvalid_0's ER: 83.58\n",
      "[9700]\tvalid_0's ER: 83.53\n",
      "[9800]\tvalid_0's ER: 83.5\n",
      "[9900]\tvalid_0's ER: 83.42\n",
      "[10000]\tvalid_0's ER: 83.39\n",
      "Did not meet early stopping. Best iteration is:\n",
      "[9981]\tvalid_0's ER: 83.39\n",
      "Evaluated only: ER\n"
     ]
    },
    {
     "name": "stderr",
     "output_type": "stream",
     "text": [
      "[I 2023-12-16 04:41:05,887] Trial 6 finished with value: 83.39 and parameters: {'lambda_l1': 123.69321875875715, 'lambda_l2': 361.01644040440675, 'learning_rate': 0.1299040010476451, 'num_leaves': 485, 'feature_fraction': 0.5203047470440789, 'min_data_in_leaf': 7242}. Best is trial 4 with value: 67.86.\n"
     ]
    },
    {
     "name": "stdout",
     "output_type": "stream",
     "text": [
      "**************** regression_l1 ****************\n",
      "Training until validation scores don't improve for 115 rounds\n",
      "[100]\tvalid_0's ER: 95.54\n",
      "[200]\tvalid_0's ER: 93.95\n",
      "[300]\tvalid_0's ER: 93.83\n",
      "[400]\tvalid_0's ER: 93.69\n",
      "[500]\tvalid_0's ER: 93.48\n",
      "[600]\tvalid_0's ER: 93.21\n",
      "[700]\tvalid_0's ER: 93.07\n",
      "[800]\tvalid_0's ER: 93.02\n",
      "[900]\tvalid_0's ER: 92.54\n",
      "[1000]\tvalid_0's ER: 92.47\n",
      "[1100]\tvalid_0's ER: 92.34\n",
      "[1200]\tvalid_0's ER: 92.31\n",
      "[1300]\tvalid_0's ER: 92.14\n",
      "[1400]\tvalid_0's ER: 91.99\n",
      "[1500]\tvalid_0's ER: 91.94\n",
      "[1600]\tvalid_0's ER: 91.82\n",
      "[1700]\tvalid_0's ER: 91.63\n",
      "[1800]\tvalid_0's ER: 91.56\n",
      "[1900]\tvalid_0's ER: 91.5\n",
      "[2000]\tvalid_0's ER: 91.4\n",
      "[2100]\tvalid_0's ER: 91.33\n",
      "[2200]\tvalid_0's ER: 91.23\n",
      "[2300]\tvalid_0's ER: 91.15\n",
      "[2400]\tvalid_0's ER: 91.11\n",
      "[2500]\tvalid_0's ER: 91.01\n",
      "[2600]\tvalid_0's ER: 90.96\n",
      "[2700]\tvalid_0's ER: 90.87\n",
      "[2800]\tvalid_0's ER: 90.83\n",
      "[2900]\tvalid_0's ER: 90.78\n",
      "[3000]\tvalid_0's ER: 90.69\n",
      "[3100]\tvalid_0's ER: 90.63\n",
      "[3200]\tvalid_0's ER: 90.57\n",
      "[3300]\tvalid_0's ER: 90.54\n",
      "[3400]\tvalid_0's ER: 90.5\n",
      "[3500]\tvalid_0's ER: 90.46\n",
      "[3600]\tvalid_0's ER: 90.43\n",
      "[3700]\tvalid_0's ER: 90.36\n",
      "[3800]\tvalid_0's ER: 90.34\n",
      "[3900]\tvalid_0's ER: 90.31\n",
      "[4000]\tvalid_0's ER: 90.28\n",
      "[4100]\tvalid_0's ER: 90.24\n",
      "[4200]\tvalid_0's ER: 90.23\n",
      "[4300]\tvalid_0's ER: 90.21\n",
      "[4400]\tvalid_0's ER: 90.16\n",
      "[4500]\tvalid_0's ER: 90.12\n",
      "[4600]\tvalid_0's ER: 90.1\n",
      "[4700]\tvalid_0's ER: 90.06\n",
      "[4800]\tvalid_0's ER: 90.04\n",
      "[4900]\tvalid_0's ER: 90.01\n",
      "[5000]\tvalid_0's ER: 89.98\n",
      "[5100]\tvalid_0's ER: 89.95\n",
      "[5200]\tvalid_0's ER: 89.91\n",
      "[5300]\tvalid_0's ER: 89.88\n",
      "[5400]\tvalid_0's ER: 89.83\n",
      "[5500]\tvalid_0's ER: 89.78\n",
      "[5600]\tvalid_0's ER: 89.76\n",
      "[5700]\tvalid_0's ER: 89.73\n",
      "[5800]\tvalid_0's ER: 89.7\n",
      "[5900]\tvalid_0's ER: 89.65\n",
      "[6000]\tvalid_0's ER: 89.6\n",
      "[6100]\tvalid_0's ER: 89.56\n",
      "[6200]\tvalid_0's ER: 89.53\n",
      "[6300]\tvalid_0's ER: 89.48\n",
      "[6400]\tvalid_0's ER: 89.45\n",
      "[6500]\tvalid_0's ER: 89.4\n",
      "[6600]\tvalid_0's ER: 89.36\n",
      "[6700]\tvalid_0's ER: 89.32\n",
      "[6800]\tvalid_0's ER: 89.28\n",
      "[6900]\tvalid_0's ER: 89.24\n",
      "[7000]\tvalid_0's ER: 89.19\n",
      "[7100]\tvalid_0's ER: 89.17\n",
      "[7200]\tvalid_0's ER: 89.14\n",
      "[7300]\tvalid_0's ER: 89.12\n",
      "[7400]\tvalid_0's ER: 89.08\n",
      "[7500]\tvalid_0's ER: 89.06\n",
      "[7600]\tvalid_0's ER: 89.03\n",
      "[7700]\tvalid_0's ER: 88.99\n",
      "[7800]\tvalid_0's ER: 88.95\n",
      "[7900]\tvalid_0's ER: 88.94\n",
      "[8000]\tvalid_0's ER: 88.92\n",
      "Early stopping, best iteration is:\n",
      "[7928]\tvalid_0's ER: 88.92\n",
      "Evaluated only: ER\n"
     ]
    },
    {
     "name": "stderr",
     "output_type": "stream",
     "text": [
      "[I 2023-12-16 04:42:31,245] Trial 7 finished with value: 88.92 and parameters: {'lambda_l1': 182.52789088191312, 'lambda_l2': 783.3614962621135, 'learning_rate': 0.07686163749712428, 'num_leaves': 694, 'feature_fraction': 0.7202643848983281, 'min_data_in_leaf': 7999}. Best is trial 4 with value: 67.86.\n"
     ]
    },
    {
     "name": "stdout",
     "output_type": "stream",
     "text": [
      "**************** regression_l1 ****************\n",
      "Training until validation scores don't improve for 537 rounds\n",
      "[100]\tvalid_0's ER: 90.51\n",
      "[200]\tvalid_0's ER: 89.32\n",
      "[300]\tvalid_0's ER: 87.13\n",
      "[400]\tvalid_0's ER: 86.37\n",
      "[500]\tvalid_0's ER: 85.78\n",
      "[600]\tvalid_0's ER: 85.32\n",
      "[700]\tvalid_0's ER: 84.88\n",
      "[800]\tvalid_0's ER: 84.61\n",
      "[900]\tvalid_0's ER: 84.17\n",
      "[1000]\tvalid_0's ER: 83.88\n",
      "[1100]\tvalid_0's ER: 83.79\n",
      "[1200]\tvalid_0's ER: 83.65\n",
      "[1300]\tvalid_0's ER: 83.2\n",
      "[1400]\tvalid_0's ER: 83.05\n",
      "[1500]\tvalid_0's ER: 82.58\n",
      "[1600]\tvalid_0's ER: 82.25\n",
      "[1700]\tvalid_0's ER: 82.17\n",
      "[1800]\tvalid_0's ER: 82.13\n",
      "[1900]\tvalid_0's ER: 82.11\n",
      "[2000]\tvalid_0's ER: 82.08\n",
      "[2100]\tvalid_0's ER: 82.03\n",
      "[2200]\tvalid_0's ER: 81.95\n",
      "[2300]\tvalid_0's ER: 81.84\n",
      "[2400]\tvalid_0's ER: 81.7\n",
      "[2500]\tvalid_0's ER: 81.61\n",
      "[2600]\tvalid_0's ER: 81.57\n",
      "[2700]\tvalid_0's ER: 81.49\n",
      "[2800]\tvalid_0's ER: 81.47\n",
      "[2900]\tvalid_0's ER: 81.41\n",
      "[3000]\tvalid_0's ER: 81.37\n",
      "[3100]\tvalid_0's ER: 81.27\n",
      "[3200]\tvalid_0's ER: 81.2\n",
      "[3300]\tvalid_0's ER: 81.08\n",
      "[3400]\tvalid_0's ER: 81\n",
      "[3500]\tvalid_0's ER: 80.89\n",
      "[3600]\tvalid_0's ER: 80.83\n",
      "[3700]\tvalid_0's ER: 80.75\n",
      "[3800]\tvalid_0's ER: 80.63\n",
      "[3900]\tvalid_0's ER: 80.48\n",
      "[4000]\tvalid_0's ER: 80.34\n",
      "[4100]\tvalid_0's ER: 80.21\n",
      "[4200]\tvalid_0's ER: 80.15\n",
      "[4300]\tvalid_0's ER: 80.08\n",
      "[4400]\tvalid_0's ER: 80.02\n",
      "[4500]\tvalid_0's ER: 79.97\n",
      "[4600]\tvalid_0's ER: 79.9\n",
      "[4700]\tvalid_0's ER: 79.84\n",
      "[4800]\tvalid_0's ER: 79.79\n",
      "[4900]\tvalid_0's ER: 79.75\n",
      "[5000]\tvalid_0's ER: 79.68\n",
      "[5100]\tvalid_0's ER: 79.6\n",
      "[5200]\tvalid_0's ER: 79.56\n",
      "[5300]\tvalid_0's ER: 79.51\n",
      "[5400]\tvalid_0's ER: 79.46\n",
      "[5500]\tvalid_0's ER: 79.42\n",
      "[5600]\tvalid_0's ER: 79.34\n",
      "[5700]\tvalid_0's ER: 79.31\n",
      "[5800]\tvalid_0's ER: 79.27\n",
      "[5900]\tvalid_0's ER: 79.22\n",
      "[6000]\tvalid_0's ER: 79.18\n",
      "[6100]\tvalid_0's ER: 79.14\n",
      "[6200]\tvalid_0's ER: 79.1\n",
      "[6300]\tvalid_0's ER: 79.05\n",
      "[6400]\tvalid_0's ER: 79.02\n",
      "[6500]\tvalid_0's ER: 78.97\n",
      "[6600]\tvalid_0's ER: 78.92\n",
      "[6700]\tvalid_0's ER: 78.87\n",
      "[6800]\tvalid_0's ER: 78.82\n",
      "[6900]\tvalid_0's ER: 78.78\n",
      "[7000]\tvalid_0's ER: 78.75\n",
      "[7100]\tvalid_0's ER: 78.7\n",
      "[7200]\tvalid_0's ER: 78.65\n",
      "[7300]\tvalid_0's ER: 78.61\n",
      "[7400]\tvalid_0's ER: 78.56\n",
      "[7500]\tvalid_0's ER: 78.5\n",
      "[7600]\tvalid_0's ER: 78.46\n",
      "[7700]\tvalid_0's ER: 78.42\n",
      "[7800]\tvalid_0's ER: 78.4\n",
      "[7900]\tvalid_0's ER: 78.35\n",
      "[8000]\tvalid_0's ER: 78.31\n",
      "[8100]\tvalid_0's ER: 78.27\n",
      "[8200]\tvalid_0's ER: 78.23\n",
      "[8300]\tvalid_0's ER: 78.19\n",
      "[8400]\tvalid_0's ER: 78.17\n",
      "[8500]\tvalid_0's ER: 78.14\n",
      "[8600]\tvalid_0's ER: 78.11\n",
      "[8700]\tvalid_0's ER: 78.07\n",
      "[8800]\tvalid_0's ER: 78.05\n",
      "[8900]\tvalid_0's ER: 78.03\n",
      "[9000]\tvalid_0's ER: 78.02\n",
      "[9100]\tvalid_0's ER: 78\n",
      "[9200]\tvalid_0's ER: 77.97\n",
      "[9300]\tvalid_0's ER: 77.94\n",
      "[9400]\tvalid_0's ER: 77.9\n",
      "[9500]\tvalid_0's ER: 77.87\n",
      "[9600]\tvalid_0's ER: 77.83\n",
      "[9700]\tvalid_0's ER: 77.8\n",
      "[9800]\tvalid_0's ER: 77.76\n",
      "[9900]\tvalid_0's ER: 77.74\n",
      "[10000]\tvalid_0's ER: 77.72\n",
      "Did not meet early stopping. Best iteration is:\n",
      "[9988]\tvalid_0's ER: 77.72\n",
      "Evaluated only: ER\n"
     ]
    },
    {
     "name": "stderr",
     "output_type": "stream",
     "text": [
      "[I 2023-12-16 04:44:52,516] Trial 8 finished with value: 77.72 and parameters: {'lambda_l1': 9.999856187991597, 'lambda_l2': 170.14627447179097, 'learning_rate': 0.010251405437040485, 'num_leaves': 734, 'feature_fraction': 0.9440523219948307, 'min_data_in_leaf': 3135}. Best is trial 4 with value: 67.86.\n"
     ]
    },
    {
     "name": "stdout",
     "output_type": "stream",
     "text": [
      "**************** regression_l1 ****************\n",
      "Training until validation scores don't improve for 76 rounds\n"
     ]
    },
    {
     "name": "stderr",
     "output_type": "stream",
     "text": [
      "[I 2023-12-16 04:44:53,739] Trial 9 finished with value: 100.0 and parameters: {'lambda_l1': 890.4975784651465, 'lambda_l2': 921.6509847408649, 'learning_rate': 0.18993136931758278, 'num_leaves': 703, 'feature_fraction': 0.6864690435008113, 'min_data_in_leaf': 1872}. Best is trial 4 with value: 67.86.\n"
     ]
    },
    {
     "name": "stdout",
     "output_type": "stream",
     "text": [
      "Early stopping, best iteration is:\n",
      "[1]\tvalid_0's ER: 100\n",
      "Evaluated only: ER\n",
      "# Experimentos: 10\n",
      "Mejor experimento: {'lambda_l1': 722.5636101174048, 'lambda_l2': 36.2407334300846, 'learning_rate': 0.025988348704690523, 'num_leaves': 717, 'feature_fraction': 0.8976443403116989, 'min_data_in_leaf': 15}\n",
      "=========================================== Cluster 35 ===========================================\n",
      "Periodos entrenar: [201701 201702 201703 201704 201705 201706 201707 201708 201709 201710\n",
      " 201711 201712 201801 201802 201803 201804 201805 201806 201807 201808\n",
      " 201809 201810 201811 201812 201901 201902 201903 201904 201905]\n",
      "Periodos validar: [201907]\n",
      "product_id a validar: 26680\n"
     ]
    },
    {
     "name": "stderr",
     "output_type": "stream",
     "text": [
      "[I 2023-12-16 04:45:13,980] A new study created in memory with name: no-name-4eb37dd5-aef7-4ad7-b340-fa1b8674b00c\n"
     ]
    },
    {
     "name": "stdout",
     "output_type": "stream",
     "text": [
      "X_train: (637732, 120)\n",
      "y_train: (637732,)\n",
      "\n",
      "X_validate: (26680, 120)\n",
      "y_validate: (26680,)\n",
      "Optimizacion Bayesiana\n",
      "**************** regression_l1 ****************\n",
      "Training until validation scores don't improve for 102 rounds\n",
      "[100]\tvalid_0's ER: 131.26\n"
     ]
    },
    {
     "name": "stderr",
     "output_type": "stream",
     "text": [
      "[I 2023-12-16 04:45:29,127] Trial 0 finished with value: 97.21 and parameters: {'lambda_l1': 587.8072963044801, 'lambda_l2': 784.0369717315604, 'learning_rate': 0.09526979406517003, 'num_leaves': 586, 'feature_fraction': 0.591786718233053, 'min_data_in_leaf': 4210}. Best is trial 0 with value: 97.21.\n"
     ]
    },
    {
     "name": "stdout",
     "output_type": "stream",
     "text": [
      "Early stopping, best iteration is:\n",
      "[2]\tvalid_0's ER: 97.21\n",
      "Evaluated only: ER\n",
      "**************** regression_l1 ****************\n",
      "Training until validation scores don't improve for 104 rounds\n",
      "[100]\tvalid_0's ER: 115.64\n"
     ]
    },
    {
     "name": "stderr",
     "output_type": "stream",
     "text": [
      "[I 2023-12-16 04:45:42,631] Trial 1 finished with value: 99.45 and parameters: {'lambda_l1': 957.5452106028005, 'lambda_l2': 204.95918407857693, 'learning_rate': 0.09182916687852695, 'num_leaves': 125, 'feature_fraction': 0.8243124037352823, 'min_data_in_leaf': 7770}. Best is trial 0 with value: 97.21.\n"
     ]
    },
    {
     "name": "stdout",
     "output_type": "stream",
     "text": [
      "Early stopping, best iteration is:\n",
      "[2]\tvalid_0's ER: 99.45\n",
      "Evaluated only: ER\n",
      "**************** regression_l1 ****************\n",
      "Training until validation scores don't improve for 76 rounds\n"
     ]
    },
    {
     "name": "stderr",
     "output_type": "stream",
     "text": [
      "[I 2023-12-16 04:45:55,450] Trial 2 finished with value: 99.4 and parameters: {'lambda_l1': 793.6220826169701, 'lambda_l2': 267.0119723310661, 'learning_rate': 0.18943326486446804, 'num_leaves': 462, 'feature_fraction': 0.7658969547028769, 'min_data_in_leaf': 1808}. Best is trial 0 with value: 97.21.\n"
     ]
    },
    {
     "name": "stdout",
     "output_type": "stream",
     "text": [
      "Early stopping, best iteration is:\n",
      "[2]\tvalid_0's ER: 99.4\n",
      "Evaluated only: ER\n",
      "**************** regression_l1 ****************\n",
      "Training until validation scores don't improve for 164 rounds\n",
      "[100]\tvalid_0's ER: 116.79\n"
     ]
    },
    {
     "name": "stderr",
     "output_type": "stream",
     "text": [
      "[I 2023-12-16 04:46:11,462] Trial 3 finished with value: 97.65 and parameters: {'lambda_l1': 594.2911171373968, 'lambda_l2': 578.9578566689324, 'learning_rate': 0.04352441169031077, 'num_leaves': 684, 'feature_fraction': 0.5737853020280479, 'min_data_in_leaf': 4052}. Best is trial 0 with value: 97.21.\n"
     ]
    },
    {
     "name": "stdout",
     "output_type": "stream",
     "text": [
      "Early stopping, best iteration is:\n",
      "[3]\tvalid_0's ER: 97.65\n",
      "Evaluated only: ER\n",
      "**************** regression_l1 ****************\n",
      "Training until validation scores don't improve for 68 rounds\n"
     ]
    },
    {
     "name": "stderr",
     "output_type": "stream",
     "text": [
      "[I 2023-12-16 04:46:22,252] Trial 4 finished with value: 99.79 and parameters: {'lambda_l1': 694.7556625171621, 'lambda_l2': 663.1863712326948, 'learning_rate': 0.2643778909925603, 'num_leaves': 388, 'feature_fraction': 0.6612366035419158, 'min_data_in_leaf': 3470}. Best is trial 0 with value: 97.21.\n"
     ]
    },
    {
     "name": "stdout",
     "output_type": "stream",
     "text": [
      "Early stopping, best iteration is:\n",
      "[2]\tvalid_0's ER: 99.79\n",
      "Evaluated only: ER\n",
      "**************** regression_l1 ****************\n",
      "Training until validation scores don't improve for 99 rounds\n",
      "[100]\tvalid_0's ER: 132.21\n",
      "Early stopping, best iteration is:\n",
      "[3]\tvalid_0's ER: 98.32\n",
      "Evaluated only: ER\n"
     ]
    },
    {
     "name": "stderr",
     "output_type": "stream",
     "text": [
      "[I 2023-12-16 04:46:32,073] Trial 5 finished with value: 98.32 and parameters: {'lambda_l1': 337.56517900890213, 'lambda_l2': 838.2033348611981, 'learning_rate': 0.10060865893874817, 'num_leaves': 321, 'feature_fraction': 0.2559844104994795, 'min_data_in_leaf': 2998}. Best is trial 0 with value: 97.21.\n"
     ]
    },
    {
     "name": "stdout",
     "output_type": "stream",
     "text": [
      "**************** regression_l1 ****************\n",
      "Training until validation scores don't improve for 125 rounds\n",
      "[100]\tvalid_0's ER: 143.09\n"
     ]
    },
    {
     "name": "stderr",
     "output_type": "stream",
     "text": [
      "[I 2023-12-16 04:46:41,856] Trial 6 finished with value: 99.64 and parameters: {'lambda_l1': 930.3568891041273, 'lambda_l2': 762.2015535763178, 'learning_rate': 0.06647691038469286, 'num_leaves': 192, 'feature_fraction': 0.2797528855058768, 'min_data_in_leaf': 1962}. Best is trial 0 with value: 97.21.\n"
     ]
    },
    {
     "name": "stdout",
     "output_type": "stream",
     "text": [
      "Early stopping, best iteration is:\n",
      "[4]\tvalid_0's ER: 99.64\n",
      "Evaluated only: ER\n",
      "**************** regression_l1 ****************\n",
      "Training until validation scores don't improve for 67 rounds\n"
     ]
    },
    {
     "name": "stderr",
     "output_type": "stream",
     "text": [
      "[I 2023-12-16 04:46:51,107] Trial 7 finished with value: 101.44 and parameters: {'lambda_l1': 204.47530443626738, 'lambda_l2': 98.71600943271596, 'learning_rate': 0.2802449499055914, 'num_leaves': 670, 'feature_fraction': 0.43338977379729954, 'min_data_in_leaf': 1272}. Best is trial 0 with value: 97.21.\n"
     ]
    },
    {
     "name": "stdout",
     "output_type": "stream",
     "text": [
      "Early stopping, best iteration is:\n",
      "[1]\tvalid_0's ER: 101.44\n",
      "Evaluated only: ER\n",
      "**************** regression_l1 ****************\n",
      "Training until validation scores don't improve for 69 rounds\n"
     ]
    },
    {
     "name": "stderr",
     "output_type": "stream",
     "text": [
      "[I 2023-12-16 04:47:02,656] Trial 8 finished with value: 99.48 and parameters: {'lambda_l1': 746.7563598538696, 'lambda_l2': 335.4832600541473, 'learning_rate': 0.25334781829912933, 'num_leaves': 58, 'feature_fraction': 0.7165537904006289, 'min_data_in_leaf': 588}. Best is trial 0 with value: 97.21.\n"
     ]
    },
    {
     "name": "stdout",
     "output_type": "stream",
     "text": [
      "Early stopping, best iteration is:\n",
      "[2]\tvalid_0's ER: 99.48\n",
      "Evaluated only: ER\n",
      "**************** regression_l1 ****************\n",
      "Training until validation scores don't improve for 67 rounds\n"
     ]
    },
    {
     "name": "stderr",
     "output_type": "stream",
     "text": [
      "[I 2023-12-16 04:47:15,107] Trial 9 finished with value: 99.06 and parameters: {'lambda_l1': 18.479936680897424, 'lambda_l2': 114.75681760765177, 'learning_rate': 0.28228001189011726, 'num_leaves': 503, 'feature_fraction': 0.9763264678476609, 'min_data_in_leaf': 6377}. Best is trial 0 with value: 97.21.\n"
     ]
    },
    {
     "name": "stdout",
     "output_type": "stream",
     "text": [
      "Early stopping, best iteration is:\n",
      "[1]\tvalid_0's ER: 99.06\n",
      "Evaluated only: ER\n",
      "# Experimentos: 10\n",
      "Mejor experimento: {'lambda_l1': 587.8072963044801, 'lambda_l2': 784.0369717315604, 'learning_rate': 0.09526979406517003, 'num_leaves': 586, 'feature_fraction': 0.591786718233053, 'min_data_in_leaf': 4210}\n",
      "=========================================== Cluster 36 ===========================================\n"
     ]
    },
    {
     "name": "stderr",
     "output_type": "stream",
     "text": [
      "[I 2023-12-16 04:47:18,489] A new study created in memory with name: no-name-08fc393a-98a2-4838-b787-e9c181feaedf\n"
     ]
    },
    {
     "name": "stdout",
     "output_type": "stream",
     "text": [
      "Periodos entrenar: [201701 201702 201703 201704 201705 201706 201707 201708 201709 201710\n",
      " 201711 201712 201801 201802 201803 201804 201805 201806 201807 201808\n",
      " 201809 201810 201811 201812 201901 201902 201903 201904 201905]\n",
      "Periodos validar: [201907]\n",
      "product_id a validar: 6380\n",
      "X_train: (97937, 120)\n",
      "y_train: (97937,)\n",
      "\n",
      "X_validate: (6380, 120)\n",
      "y_validate: (6380,)\n",
      "Optimizacion Bayesiana\n",
      "**************** regression_l1 ****************\n",
      "Training until validation scores don't improve for 68 rounds\n"
     ]
    },
    {
     "name": "stderr",
     "output_type": "stream",
     "text": [
      "[I 2023-12-16 04:47:20,187] Trial 0 finished with value: 99.94 and parameters: {'lambda_l1': 825.7917872500269, 'lambda_l2': 455.967548410968, 'learning_rate': 0.26855815078504397, 'num_leaves': 738, 'feature_fraction': 0.6708792107317112, 'min_data_in_leaf': 3498}. Best is trial 0 with value: 99.94.\n"
     ]
    },
    {
     "name": "stdout",
     "output_type": "stream",
     "text": [
      "Early stopping, best iteration is:\n",
      "[9]\tvalid_0's ER: 99.94\n",
      "Evaluated only: ER\n",
      "**************** regression_l1 ****************\n",
      "Training until validation scores don't improve for 67 rounds\n",
      "[100]\tvalid_0's ER: 94.24\n",
      "[200]\tvalid_0's ER: 90.83\n",
      "[300]\tvalid_0's ER: 90.63\n"
     ]
    },
    {
     "name": "stderr",
     "output_type": "stream",
     "text": [
      "[I 2023-12-16 04:47:24,960] Trial 1 finished with value: 90.62 and parameters: {'lambda_l1': 472.90885354035083, 'lambda_l2': 240.52490051843344, 'learning_rate': 0.28520578485209835, 'num_leaves': 596, 'feature_fraction': 0.593026897250178, 'min_data_in_leaf': 2194}. Best is trial 1 with value: 90.62.\n"
     ]
    },
    {
     "name": "stdout",
     "output_type": "stream",
     "text": [
      "Early stopping, best iteration is:\n",
      "[253]\tvalid_0's ER: 90.62\n",
      "Evaluated only: ER\n",
      "**************** regression_l1 ****************\n",
      "Training until validation scores don't improve for 78 rounds\n"
     ]
    },
    {
     "name": "stderr",
     "output_type": "stream",
     "text": [
      "[I 2023-12-16 04:47:26,653] Trial 2 finished with value: 100.0 and parameters: {'lambda_l1': 999.5960770341113, 'lambda_l2': 377.8148766105514, 'learning_rate': 0.17263438819556354, 'num_leaves': 375, 'feature_fraction': 0.7641334195386509, 'min_data_in_leaf': 7574}. Best is trial 1 with value: 90.62.\n"
     ]
    },
    {
     "name": "stdout",
     "output_type": "stream",
     "text": [
      "Early stopping, best iteration is:\n",
      "[1]\tvalid_0's ER: 100\n",
      "Evaluated only: ER\n",
      "**************** regression_l1 ****************\n",
      "Training until validation scores don't improve for 67 rounds\n",
      "[100]\tvalid_0's ER: 97.32\n",
      "[200]\tvalid_0's ER: 96.75\n"
     ]
    },
    {
     "name": "stderr",
     "output_type": "stream",
     "text": [
      "[I 2023-12-16 04:47:31,033] Trial 3 finished with value: 96.66 and parameters: {'lambda_l1': 10.519821345520652, 'lambda_l2': 552.5665713420374, 'learning_rate': 0.29401308649105085, 'num_leaves': 783, 'feature_fraction': 0.4424229201822538, 'min_data_in_leaf': 7615}. Best is trial 1 with value: 90.62.\n"
     ]
    },
    {
     "name": "stdout",
     "output_type": "stream",
     "text": [
      "Early stopping, best iteration is:\n",
      "[213]\tvalid_0's ER: 96.66\n",
      "Evaluated only: ER\n",
      "**************** regression_l1 ****************\n",
      "Training until validation scores don't improve for 85 rounds\n",
      "[100]\tvalid_0's ER: 98.01\n",
      "[200]\tvalid_0's ER: 97.82\n",
      "[300]\tvalid_0's ER: 97.3\n",
      "[400]\tvalid_0's ER: 96.95\n",
      "[500]\tvalid_0's ER: 96.8\n",
      "[600]\tvalid_0's ER: 96.69\n",
      "[700]\tvalid_0's ER: 96.67\n",
      "[800]\tvalid_0's ER: 96.55\n",
      "[900]\tvalid_0's ER: 96.32\n",
      "[1000]\tvalid_0's ER: 96.27\n",
      "[1100]\tvalid_0's ER: 96.15\n"
     ]
    },
    {
     "name": "stderr",
     "output_type": "stream",
     "text": [
      "[I 2023-12-16 04:47:44,154] Trial 4 finished with value: 96.11 and parameters: {'lambda_l1': 709.7956936183043, 'lambda_l2': 820.3636034374382, 'learning_rate': 0.14016344619556487, 'num_leaves': 689, 'feature_fraction': 0.45112560961565173, 'min_data_in_leaf': 6731}. Best is trial 1 with value: 90.62.\n"
     ]
    },
    {
     "name": "stdout",
     "output_type": "stream",
     "text": [
      "Early stopping, best iteration is:\n",
      "[1104]\tvalid_0's ER: 96.11\n",
      "Evaluated only: ER\n",
      "**************** regression_l1 ****************\n",
      "Training until validation scores don't improve for 70 rounds\n",
      "[100]\tvalid_0's ER: 97.99\n",
      "[200]\tvalid_0's ER: 97.8\n",
      "[300]\tvalid_0's ER: 97.73\n",
      "[400]\tvalid_0's ER: 97.36\n",
      "[500]\tvalid_0's ER: 97.03\n",
      "[600]\tvalid_0's ER: 96.7\n",
      "[700]\tvalid_0's ER: 95.86\n"
     ]
    },
    {
     "name": "stderr",
     "output_type": "stream",
     "text": [
      "[I 2023-12-16 04:47:56,486] Trial 5 finished with value: 95.83 and parameters: {'lambda_l1': 125.18147809625401, 'lambda_l2': 176.41925031065463, 'learning_rate': 0.24886452971705192, 'num_leaves': 478, 'feature_fraction': 0.6555668356218782, 'min_data_in_leaf': 7943}. Best is trial 1 with value: 90.62.\n"
     ]
    },
    {
     "name": "stdout",
     "output_type": "stream",
     "text": [
      "Early stopping, best iteration is:\n",
      "[714]\tvalid_0's ER: 95.83\n",
      "Evaluated only: ER\n",
      "**************** regression_l1 ****************\n",
      "Training until validation scores don't improve for 75 rounds\n",
      "[100]\tvalid_0's ER: 99.18\n",
      "[200]\tvalid_0's ER: 95.17\n",
      "[300]\tvalid_0's ER: 94.59\n",
      "[400]\tvalid_0's ER: 94.22\n",
      "[500]\tvalid_0's ER: 94.06\n",
      "[600]\tvalid_0's ER: 93.99\n",
      "[700]\tvalid_0's ER: 93.93\n",
      "[800]\tvalid_0's ER: 93.9\n",
      "[900]\tvalid_0's ER: 93.83\n",
      "[1000]\tvalid_0's ER: 93.65\n",
      "[1100]\tvalid_0's ER: 93.49\n",
      "[1200]\tvalid_0's ER: 93.4\n",
      "[1300]\tvalid_0's ER: 93.38\n"
     ]
    },
    {
     "name": "stderr",
     "output_type": "stream",
     "text": [
      "[I 2023-12-16 04:48:09,746] Trial 6 finished with value: 93.38 and parameters: {'lambda_l1': 535.1288946487806, 'lambda_l2': 546.152984144989, 'learning_rate': 0.19832866076541913, 'num_leaves': 578, 'feature_fraction': 0.32460872412972797, 'min_data_in_leaf': 5385}. Best is trial 1 with value: 90.62.\n"
     ]
    },
    {
     "name": "stdout",
     "output_type": "stream",
     "text": [
      "Early stopping, best iteration is:\n",
      "[1279]\tvalid_0's ER: 93.38\n",
      "Evaluated only: ER\n",
      "**************** regression_l1 ****************\n",
      "Training until validation scores don't improve for 118 rounds\n",
      "[100]\tvalid_0's ER: 96\n",
      "[200]\tvalid_0's ER: 95.79\n",
      "[300]\tvalid_0's ER: 95.58\n",
      "[400]\tvalid_0's ER: 95.57\n"
     ]
    },
    {
     "name": "stderr",
     "output_type": "stream",
     "text": [
      "[I 2023-12-16 04:48:16,734] Trial 7 finished with value: 95.57 and parameters: {'lambda_l1': 329.08595840462675, 'lambda_l2': 128.19194280776136, 'learning_rate': 0.07331195069755438, 'num_leaves': 870, 'feature_fraction': 0.9877748567198121, 'min_data_in_leaf': 5830}. Best is trial 1 with value: 90.62.\n"
     ]
    },
    {
     "name": "stdout",
     "output_type": "stream",
     "text": [
      "Early stopping, best iteration is:\n",
      "[301]\tvalid_0's ER: 95.57\n",
      "Evaluated only: ER\n",
      "**************** regression_l1 ****************\n",
      "Training until validation scores don't improve for 113 rounds\n",
      "[100]\tvalid_0's ER: 99.55\n",
      "[200]\tvalid_0's ER: 99.53\n",
      "[300]\tvalid_0's ER: 99.52\n"
     ]
    },
    {
     "name": "stderr",
     "output_type": "stream",
     "text": [
      "[I 2023-12-16 04:48:20,855] Trial 8 finished with value: 99.52 and parameters: {'lambda_l1': 680.9725216934072, 'lambda_l2': 859.5707990440552, 'learning_rate': 0.07828192093645245, 'num_leaves': 214, 'feature_fraction': 0.3878999666860666, 'min_data_in_leaf': 4367}. Best is trial 1 with value: 90.62.\n"
     ]
    },
    {
     "name": "stdout",
     "output_type": "stream",
     "text": [
      "Early stopping, best iteration is:\n",
      "[250]\tvalid_0's ER: 99.52\n",
      "Evaluated only: ER\n",
      "**************** regression_l1 ****************\n",
      "Training until validation scores don't improve for 75 rounds\n"
     ]
    },
    {
     "name": "stderr",
     "output_type": "stream",
     "text": [
      "[I 2023-12-16 04:48:23,128] Trial 9 finished with value: 99.85 and parameters: {'lambda_l1': 589.9382169122624, 'lambda_l2': 788.2438814139928, 'learning_rate': 0.19833464227938963, 'num_leaves': 316, 'feature_fraction': 0.7022272163843035, 'min_data_in_leaf': 2899}. Best is trial 1 with value: 90.62.\n"
     ]
    },
    {
     "name": "stdout",
     "output_type": "stream",
     "text": [
      "Early stopping, best iteration is:\n",
      "[1]\tvalid_0's ER: 99.85\n",
      "Evaluated only: ER\n",
      "# Experimentos: 10\n",
      "Mejor experimento: {'lambda_l1': 472.90885354035083, 'lambda_l2': 240.52490051843344, 'learning_rate': 0.28520578485209835, 'num_leaves': 596, 'feature_fraction': 0.593026897250178, 'min_data_in_leaf': 2194}\n",
      "=========================================== Cluster 37 ===========================================\n"
     ]
    },
    {
     "name": "stderr",
     "output_type": "stream",
     "text": [
      "[I 2023-12-16 04:48:33,004] A new study created in memory with name: no-name-a90d3ac8-5472-4364-9e40-a019812ce39f\n"
     ]
    },
    {
     "name": "stdout",
     "output_type": "stream",
     "text": [
      "Periodos entrenar: [201701 201702 201703 201704 201705 201706 201707 201708 201709 201710\n",
      " 201711 201712 201801 201802 201803 201804 201805 201806 201807 201808\n",
      " 201809 201810 201811 201812 201901 201902 201903 201904 201905]\n",
      "Periodos validar: [201907]\n",
      "product_id a validar: 12180\n",
      "X_train: (324597, 120)\n",
      "y_train: (324597,)\n",
      "\n",
      "X_validate: (12180, 120)\n",
      "y_validate: (12180,)\n",
      "Optimizacion Bayesiana\n",
      "**************** regression_l1 ****************\n",
      "Training until validation scores don't improve for 74 rounds\n",
      "[100]\tvalid_0's ER: 81.23\n"
     ]
    },
    {
     "name": "stderr",
     "output_type": "stream",
     "text": [
      "[I 2023-12-16 04:48:38,836] Trial 0 finished with value: 80.1 and parameters: {'lambda_l1': 526.3036836246588, 'lambda_l2': 870.9833929709797, 'learning_rate': 0.2052332142904097, 'num_leaves': 813, 'feature_fraction': 0.5148883770101231, 'min_data_in_leaf': 3686}. Best is trial 0 with value: 80.1.\n"
     ]
    },
    {
     "name": "stdout",
     "output_type": "stream",
     "text": [
      "Early stopping, best iteration is:\n",
      "[42]\tvalid_0's ER: 80.1\n",
      "Evaluated only: ER\n",
      "**************** regression_l1 ****************\n",
      "Training until validation scores don't improve for 67 rounds\n",
      "[100]\tvalid_0's ER: 88.55\n",
      "[200]\tvalid_0's ER: 86.9\n",
      "[300]\tvalid_0's ER: 85.6\n",
      "[400]\tvalid_0's ER: 84.45\n"
     ]
    },
    {
     "name": "stderr",
     "output_type": "stream",
     "text": [
      "[I 2023-12-16 04:49:13,795] Trial 1 finished with value: 83.57 and parameters: {'lambda_l1': 87.86709615014321, 'lambda_l2': 451.60526545707904, 'learning_rate': 0.28041953852515533, 'num_leaves': 449, 'feature_fraction': 0.8724636825621348, 'min_data_in_leaf': 1532}. Best is trial 0 with value: 80.1.\n"
     ]
    },
    {
     "name": "stdout",
     "output_type": "stream",
     "text": [
      "Early stopping, best iteration is:\n",
      "[421]\tvalid_0's ER: 83.57\n",
      "Evaluated only: ER\n",
      "**************** regression_l1 ****************\n",
      "Training until validation scores don't improve for 68 rounds\n",
      "[100]\tvalid_0's ER: 96.03\n"
     ]
    },
    {
     "name": "stderr",
     "output_type": "stream",
     "text": [
      "[I 2023-12-16 04:49:22,313] Trial 2 finished with value: 96.03 and parameters: {'lambda_l1': 880.9248662879775, 'lambda_l2': 90.29227265931416, 'learning_rate': 0.26318312095658075, 'num_leaves': 630, 'feature_fraction': 0.6728307988304005, 'min_data_in_leaf': 1588}. Best is trial 0 with value: 80.1.\n"
     ]
    },
    {
     "name": "stdout",
     "output_type": "stream",
     "text": [
      "Early stopping, best iteration is:\n",
      "[66]\tvalid_0's ER: 96.03\n",
      "Evaluated only: ER\n",
      "**************** regression_l1 ****************\n",
      "Training until validation scores don't improve for 104 rounds\n",
      "[100]\tvalid_0's ER: 88.78\n"
     ]
    },
    {
     "name": "stderr",
     "output_type": "stream",
     "text": [
      "[I 2023-12-16 04:49:29,957] Trial 3 finished with value: 88.55 and parameters: {'lambda_l1': 390.4867679765505, 'lambda_l2': 775.2907807782141, 'learning_rate': 0.09136303022944547, 'num_leaves': 540, 'feature_fraction': 0.42368288594751013, 'min_data_in_leaf': 1069}. Best is trial 0 with value: 80.1.\n"
     ]
    },
    {
     "name": "stdout",
     "output_type": "stream",
     "text": [
      "Early stopping, best iteration is:\n",
      "[61]\tvalid_0's ER: 88.55\n",
      "Evaluated only: ER\n",
      "**************** regression_l1 ****************\n",
      "Training until validation scores don't improve for 201 rounds\n",
      "[100]\tvalid_0's ER: 90.46\n",
      "[200]\tvalid_0's ER: 90.33\n",
      "[300]\tvalid_0's ER: 90.33\n"
     ]
    },
    {
     "name": "stderr",
     "output_type": "stream",
     "text": [
      "[I 2023-12-16 04:49:47,177] Trial 4 finished with value: 90.33 and parameters: {'lambda_l1': 922.71721613982, 'lambda_l2': 186.53294651758944, 'learning_rate': 0.032904614399530366, 'num_leaves': 952, 'feature_fraction': 0.7061525083791358, 'min_data_in_leaf': 991}. Best is trial 0 with value: 80.1.\n"
     ]
    },
    {
     "name": "stdout",
     "output_type": "stream",
     "text": [
      "Early stopping, best iteration is:\n",
      "[146]\tvalid_0's ER: 90.33\n",
      "Evaluated only: ER\n",
      "**************** regression_l1 ****************\n",
      "Training until validation scores don't improve for 68 rounds\n",
      "[100]\tvalid_0's ER: 95.49\n"
     ]
    },
    {
     "name": "stderr",
     "output_type": "stream",
     "text": [
      "[I 2023-12-16 04:49:57,364] Trial 5 finished with value: 95.49 and parameters: {'lambda_l1': 147.61301528828386, 'lambda_l2': 826.3458076417625, 'learning_rate': 0.2711948497714703, 'num_leaves': 52, 'feature_fraction': 0.8471040579432574, 'min_data_in_leaf': 7905}. Best is trial 0 with value: 80.1.\n"
     ]
    },
    {
     "name": "stdout",
     "output_type": "stream",
     "text": [
      "Early stopping, best iteration is:\n",
      "[78]\tvalid_0's ER: 95.49\n",
      "Evaluated only: ER\n",
      "**************** regression_l1 ****************\n",
      "Training until validation scores don't improve for 113 rounds\n",
      "[100]\tvalid_0's ER: 89.53\n",
      "[200]\tvalid_0's ER: 87.64\n"
     ]
    },
    {
     "name": "stderr",
     "output_type": "stream",
     "text": [
      "[I 2023-12-16 04:50:08,224] Trial 6 finished with value: 87.07 and parameters: {'lambda_l1': 420.2693071194076, 'lambda_l2': 725.8023472092586, 'learning_rate': 0.07812735367343179, 'num_leaves': 186, 'feature_fraction': 0.5596217865361219, 'min_data_in_leaf': 2203}. Best is trial 0 with value: 80.1.\n"
     ]
    },
    {
     "name": "stdout",
     "output_type": "stream",
     "text": [
      "Early stopping, best iteration is:\n",
      "[112]\tvalid_0's ER: 87.07\n",
      "Evaluated only: ER\n",
      "**************** regression_l1 ****************\n",
      "Training until validation scores don't improve for 87 rounds\n",
      "[100]\tvalid_0's ER: 84.17\n",
      "[200]\tvalid_0's ER: 82.76\n",
      "[300]\tvalid_0's ER: 82.55\n"
     ]
    },
    {
     "name": "stderr",
     "output_type": "stream",
     "text": [
      "[I 2023-12-16 04:50:19,491] Trial 7 finished with value: 82.03 and parameters: {'lambda_l1': 346.2026403389037, 'lambda_l2': 232.89950133391434, 'learning_rate': 0.1316904903349645, 'num_leaves': 618, 'feature_fraction': 0.37543995086879783, 'min_data_in_leaf': 5178}. Best is trial 0 with value: 80.1.\n"
     ]
    },
    {
     "name": "stdout",
     "output_type": "stream",
     "text": [
      "Early stopping, best iteration is:\n",
      "[241]\tvalid_0's ER: 82.03\n",
      "Evaluated only: ER\n",
      "**************** regression_l1 ****************\n",
      "Training until validation scores don't improve for 68 rounds\n",
      "[100]\tvalid_0's ER: 94.93\n",
      "[200]\tvalid_0's ER: 93.92\n"
     ]
    },
    {
     "name": "stderr",
     "output_type": "stream",
     "text": [
      "[I 2023-12-16 04:50:29,145] Trial 8 finished with value: 93.92 and parameters: {'lambda_l1': 614.9168581080626, 'lambda_l2': 520.9361440916965, 'learning_rate': 0.2661529198332446, 'num_leaves': 51, 'feature_fraction': 0.4264363884356591, 'min_data_in_leaf': 2454}. Best is trial 0 with value: 80.1.\n"
     ]
    },
    {
     "name": "stdout",
     "output_type": "stream",
     "text": [
      "Early stopping, best iteration is:\n",
      "[189]\tvalid_0's ER: 93.92\n",
      "Evaluated only: ER\n",
      "**************** regression_l1 ****************\n",
      "Training until validation scores don't improve for 73 rounds\n"
     ]
    },
    {
     "name": "stderr",
     "output_type": "stream",
     "text": [
      "[I 2023-12-16 04:50:34,400] Trial 9 finished with value: 96.49 and parameters: {'lambda_l1': 841.2537859097074, 'lambda_l2': 208.75305124069178, 'learning_rate': 0.2117189802598882, 'num_leaves': 967, 'feature_fraction': 0.6483467741308238, 'min_data_in_leaf': 6037}. Best is trial 0 with value: 80.1.\n"
     ]
    },
    {
     "name": "stdout",
     "output_type": "stream",
     "text": [
      "Early stopping, best iteration is:\n",
      "[3]\tvalid_0's ER: 96.49\n",
      "Evaluated only: ER\n",
      "# Experimentos: 10\n",
      "Mejor experimento: {'lambda_l1': 526.3036836246588, 'lambda_l2': 870.9833929709797, 'learning_rate': 0.2052332142904097, 'num_leaves': 813, 'feature_fraction': 0.5148883770101231, 'min_data_in_leaf': 3686}\n",
      "=========================================== Cluster 38 ===========================================\n"
     ]
    },
    {
     "name": "stderr",
     "output_type": "stream",
     "text": [
      "[I 2023-12-16 04:50:35,488] A new study created in memory with name: no-name-c538dffb-3cc7-45f1-b0f0-9b0dc437c098\n"
     ]
    },
    {
     "name": "stdout",
     "output_type": "stream",
     "text": [
      "Periodos entrenar: [201805 201806 201807 201808 201809 201810 201811 201812 201901 201902\n",
      " 201903 201904 201905 201701 201702 201703 201704 201705 201706 201707\n",
      " 201708 201709 201710 201711 201712 201801 201802 201803 201804]\n",
      "Periodos validar: [201907]\n",
      "product_id a validar: 1740\n",
      "X_train: (28280, 120)\n",
      "y_train: (28280,)\n",
      "\n",
      "X_validate: (1740, 120)\n",
      "y_validate: (1740,)\n",
      "Optimizacion Bayesiana\n",
      "**************** regression_l1 ****************\n",
      "Training until validation scores don't improve for 100 rounds\n"
     ]
    },
    {
     "name": "stderr",
     "output_type": "stream",
     "text": [
      "[I 2023-12-16 04:50:35,958] Trial 0 finished with value: 100.0 and parameters: {'lambda_l1': 951.1221530688122, 'lambda_l2': 947.501592481101, 'learning_rate': 0.09855721640274796, 'num_leaves': 147, 'feature_fraction': 0.3427160699017828, 'min_data_in_leaf': 1398}. Best is trial 0 with value: 100.0.\n"
     ]
    },
    {
     "name": "stdout",
     "output_type": "stream",
     "text": [
      "[100]\tvalid_0's ER: 100\n",
      "Early stopping, best iteration is:\n",
      "[1]\tvalid_0's ER: 100\n",
      "Evaluated only: ER\n",
      "**************** regression_l1 ****************\n",
      "Training until validation scores don't improve for 84 rounds\n"
     ]
    },
    {
     "name": "stderr",
     "output_type": "stream",
     "text": [
      "[I 2023-12-16 04:50:36,405] Trial 1 finished with value: 100.0 and parameters: {'lambda_l1': 666.4582175734422, 'lambda_l2': 772.3939044933176, 'learning_rate': 0.14369901755242315, 'num_leaves': 395, 'feature_fraction': 0.421280802139778, 'min_data_in_leaf': 5321}. Best is trial 0 with value: 100.0.\n"
     ]
    },
    {
     "name": "stdout",
     "output_type": "stream",
     "text": [
      "Early stopping, best iteration is:\n",
      "[1]\tvalid_0's ER: 100\n",
      "Evaluated only: ER\n",
      "**************** regression_l1 ****************\n",
      "Training until validation scores don't improve for 93 rounds\n"
     ]
    },
    {
     "name": "stderr",
     "output_type": "stream",
     "text": [
      "[I 2023-12-16 04:50:37,315] Trial 2 finished with value: 100.0 and parameters: {'lambda_l1': 642.1187503129652, 'lambda_l2': 3.1851796903914487, 'learning_rate': 0.11621636381383774, 'num_leaves': 637, 'feature_fraction': 0.9816430196824828, 'min_data_in_leaf': 20}. Best is trial 0 with value: 100.0.\n"
     ]
    },
    {
     "name": "stdout",
     "output_type": "stream",
     "text": [
      "Early stopping, best iteration is:\n",
      "[1]\tvalid_0's ER: 100\n",
      "Evaluated only: ER\n",
      "**************** regression_l1 ****************\n",
      "Training until validation scores don't improve for 164 rounds\n",
      "[100]\tvalid_0's ER: 100\n"
     ]
    },
    {
     "name": "stderr",
     "output_type": "stream",
     "text": [
      "[I 2023-12-16 04:50:38,157] Trial 3 finished with value: 100.0 and parameters: {'lambda_l1': 237.6638905160081, 'lambda_l2': 770.3508925586011, 'learning_rate': 0.04350078202446238, 'num_leaves': 664, 'feature_fraction': 0.8098219567049905, 'min_data_in_leaf': 4826}. Best is trial 0 with value: 100.0.\n"
     ]
    },
    {
     "name": "stdout",
     "output_type": "stream",
     "text": [
      "Early stopping, best iteration is:\n",
      "[1]\tvalid_0's ER: 100\n",
      "Evaluated only: ER\n",
      "**************** regression_l1 ****************\n",
      "Training until validation scores don't improve for 120 rounds\n"
     ]
    },
    {
     "name": "stderr",
     "output_type": "stream",
     "text": [
      "[I 2023-12-16 04:50:38,720] Trial 4 finished with value: 100.0 and parameters: {'lambda_l1': 960.5827462212574, 'lambda_l2': 903.7943301862219, 'learning_rate': 0.07074153463908127, 'num_leaves': 230, 'feature_fraction': 0.3577009282512437, 'min_data_in_leaf': 249}. Best is trial 0 with value: 100.0.\n"
     ]
    },
    {
     "name": "stdout",
     "output_type": "stream",
     "text": [
      "[100]\tvalid_0's ER: 100\n",
      "Early stopping, best iteration is:\n",
      "[1]\tvalid_0's ER: 100\n",
      "Evaluated only: ER\n",
      "**************** regression_l1 ****************\n",
      "Training until validation scores don't improve for 89 rounds\n"
     ]
    },
    {
     "name": "stderr",
     "output_type": "stream",
     "text": [
      "[I 2023-12-16 04:50:39,290] Trial 5 finished with value: 100.0 and parameters: {'lambda_l1': 373.69158930369264, 'lambda_l2': 433.7536029835255, 'learning_rate': 0.12654908828690217, 'num_leaves': 1012, 'feature_fraction': 0.70275040984608, 'min_data_in_leaf': 1422}. Best is trial 0 with value: 100.0.\n"
     ]
    },
    {
     "name": "stdout",
     "output_type": "stream",
     "text": [
      "Early stopping, best iteration is:\n",
      "[1]\tvalid_0's ER: 100\n",
      "Evaluated only: ER\n",
      "**************** regression_l1 ****************\n",
      "Training until validation scores don't improve for 204 rounds\n",
      "[100]\tvalid_0's ER: 100\n"
     ]
    },
    {
     "name": "stderr",
     "output_type": "stream",
     "text": [
      "[I 2023-12-16 04:50:40,309] Trial 6 finished with value: 100.0 and parameters: {'lambda_l1': 695.7218605007886, 'lambda_l2': 469.630649842531, 'learning_rate': 0.032460820622213386, 'num_leaves': 84, 'feature_fraction': 0.5890469081318623, 'min_data_in_leaf': 98}. Best is trial 0 with value: 100.0.\n"
     ]
    },
    {
     "name": "stdout",
     "output_type": "stream",
     "text": [
      "[200]\tvalid_0's ER: 100\n",
      "Early stopping, best iteration is:\n",
      "[1]\tvalid_0's ER: 100\n",
      "Evaluated only: ER\n",
      "**************** regression_l1 ****************\n",
      "Training until validation scores don't improve for 71 rounds\n",
      "[100]\tvalid_0's ER: 78.48\n"
     ]
    },
    {
     "name": "stderr",
     "output_type": "stream",
     "text": [
      "[I 2023-12-16 04:50:41,855] Trial 7 finished with value: 78.48 and parameters: {'lambda_l1': 179.81884036499707, 'lambda_l2': 602.6849255182713, 'learning_rate': 0.22924884175398882, 'num_leaves': 788, 'feature_fraction': 0.600573440378438, 'min_data_in_leaf': 222}. Best is trial 7 with value: 78.48.\n"
     ]
    },
    {
     "name": "stdout",
     "output_type": "stream",
     "text": [
      "Early stopping, best iteration is:\n",
      "[100]\tvalid_0's ER: 78.48\n",
      "Evaluated only: ER\n",
      "**************** regression_l1 ****************\n",
      "Training until validation scores don't improve for 81 rounds\n"
     ]
    },
    {
     "name": "stderr",
     "output_type": "stream",
     "text": [
      "[I 2023-12-16 04:50:42,346] Trial 8 finished with value: 100.0 and parameters: {'lambda_l1': 746.0557558549896, 'lambda_l2': 982.1114761169717, 'learning_rate': 0.15805125708917733, 'num_leaves': 240, 'feature_fraction': 0.5210897481135458, 'min_data_in_leaf': 291}. Best is trial 7 with value: 78.48.\n"
     ]
    },
    {
     "name": "stdout",
     "output_type": "stream",
     "text": [
      "Early stopping, best iteration is:\n",
      "[1]\tvalid_0's ER: 100\n",
      "Evaluated only: ER\n",
      "**************** regression_l1 ****************\n",
      "Training until validation scores don't improve for 427 rounds\n",
      "[100]\tvalid_0's ER: 100\n",
      "[200]\tvalid_0's ER: 100\n",
      "[300]\tvalid_0's ER: 100\n"
     ]
    },
    {
     "name": "stderr",
     "output_type": "stream",
     "text": [
      "[I 2023-12-16 04:50:43,499] Trial 9 finished with value: 100.0 and parameters: {'lambda_l1': 731.4165222217188, 'lambda_l2': 155.79523479289526, 'learning_rate': 0.013233906085097173, 'num_leaves': 739, 'feature_fraction': 0.24460327584010494, 'min_data_in_leaf': 3036}. Best is trial 7 with value: 78.48.\n"
     ]
    },
    {
     "name": "stdout",
     "output_type": "stream",
     "text": [
      "[400]\tvalid_0's ER: 100\n",
      "Early stopping, best iteration is:\n",
      "[1]\tvalid_0's ER: 100\n",
      "Evaluated only: ER\n",
      "# Experimentos: 10\n",
      "Mejor experimento: {'lambda_l1': 179.81884036499707, 'lambda_l2': 602.6849255182713, 'learning_rate': 0.22924884175398882, 'num_leaves': 788, 'feature_fraction': 0.600573440378438, 'min_data_in_leaf': 222}\n",
      "=========================================== Cluster 39 ===========================================\n"
     ]
    },
    {
     "name": "stderr",
     "output_type": "stream",
     "text": [
      "[I 2023-12-16 04:50:48,110] A new study created in memory with name: no-name-8fa90390-fa4d-4932-ab81-af4d684deaa4\n"
     ]
    },
    {
     "name": "stdout",
     "output_type": "stream",
     "text": [
      "Periodos entrenar: [201701 201702 201703 201704 201705 201706 201707 201708 201709 201710\n",
      " 201711 201712 201801 201802 201803 201804 201805 201806 201807 201808\n",
      " 201809 201810 201811 201812 201901 201902 201903 201904 201905]\n",
      "Periodos validar: [201907]\n",
      "product_id a validar: 5800\n",
      "X_train: (151816, 120)\n",
      "y_train: (151816,)\n",
      "\n",
      "X_validate: (5800, 120)\n",
      "y_validate: (5800,)\n",
      "Optimizacion Bayesiana\n",
      "**************** regression_l1 ****************\n",
      "Training until validation scores don't improve for 77 rounds\n"
     ]
    },
    {
     "name": "stderr",
     "output_type": "stream",
     "text": [
      "[I 2023-12-16 04:50:50,892] Trial 0 finished with value: 100.05 and parameters: {'lambda_l1': 19.584416569446095, 'lambda_l2': 399.18462888383385, 'learning_rate': 0.18311058094873559, 'num_leaves': 678, 'feature_fraction': 0.874375675264907, 'min_data_in_leaf': 6702}. Best is trial 0 with value: 100.05.\n"
     ]
    },
    {
     "name": "stdout",
     "output_type": "stream",
     "text": [
      "Early stopping, best iteration is:\n",
      "[1]\tvalid_0's ER: 100.05\n",
      "Evaluated only: ER\n",
      "**************** regression_l1 ****************\n",
      "Training until validation scores don't improve for 128 rounds\n",
      "[100]\tvalid_0's ER: 100\n"
     ]
    },
    {
     "name": "stderr",
     "output_type": "stream",
     "text": [
      "[I 2023-12-16 04:50:54,993] Trial 1 finished with value: 100.0 and parameters: {'lambda_l1': 755.8721912418655, 'lambda_l2': 278.6668700214493, 'learning_rate': 0.06360102849298317, 'num_leaves': 215, 'feature_fraction': 0.906869009994798, 'min_data_in_leaf': 2854}. Best is trial 1 with value: 100.0.\n"
     ]
    },
    {
     "name": "stdout",
     "output_type": "stream",
     "text": [
      "Early stopping, best iteration is:\n",
      "[1]\tvalid_0's ER: 100\n",
      "Evaluated only: ER\n",
      "**************** regression_l1 ****************\n",
      "Training until validation scores don't improve for 70 rounds\n"
     ]
    },
    {
     "name": "stderr",
     "output_type": "stream",
     "text": [
      "[I 2023-12-16 04:50:57,327] Trial 2 finished with value: 100.0 and parameters: {'lambda_l1': 469.68732608948636, 'lambda_l2': 151.4124312388915, 'learning_rate': 0.24378476459081316, 'num_leaves': 398, 'feature_fraction': 0.8832724033543518, 'min_data_in_leaf': 2214}. Best is trial 1 with value: 100.0.\n"
     ]
    },
    {
     "name": "stdout",
     "output_type": "stream",
     "text": [
      "Early stopping, best iteration is:\n",
      "[1]\tvalid_0's ER: 100\n",
      "Evaluated only: ER\n",
      "**************** regression_l1 ****************\n",
      "Training until validation scores don't improve for 72 rounds\n"
     ]
    },
    {
     "name": "stderr",
     "output_type": "stream",
     "text": [
      "[I 2023-12-16 04:50:59,855] Trial 3 finished with value: 100.0 and parameters: {'lambda_l1': 915.7743761104784, 'lambda_l2': 113.42794714390614, 'learning_rate': 0.22260363111361156, 'num_leaves': 259, 'feature_fraction': 0.25658389440863383, 'min_data_in_leaf': 67}. Best is trial 1 with value: 100.0.\n"
     ]
    },
    {
     "name": "stdout",
     "output_type": "stream",
     "text": [
      "Early stopping, best iteration is:\n",
      "[1]\tvalid_0's ER: 100\n",
      "Evaluated only: ER\n",
      "**************** regression_l1 ****************\n",
      "Training until validation scores don't improve for 159 rounds\n",
      "[100]\tvalid_0's ER: 100\n"
     ]
    },
    {
     "name": "stderr",
     "output_type": "stream",
     "text": [
      "[I 2023-12-16 04:51:03,727] Trial 4 finished with value: 100.0 and parameters: {'lambda_l1': 727.298158671581, 'lambda_l2': 963.4748496299472, 'learning_rate': 0.04571566231841116, 'num_leaves': 128, 'feature_fraction': 0.8164638985975594, 'min_data_in_leaf': 7275}. Best is trial 1 with value: 100.0.\n"
     ]
    },
    {
     "name": "stdout",
     "output_type": "stream",
     "text": [
      "Early stopping, best iteration is:\n",
      "[1]\tvalid_0's ER: 100\n",
      "Evaluated only: ER\n",
      "**************** regression_l1 ****************\n",
      "Training until validation scores don't improve for 91 rounds\n"
     ]
    },
    {
     "name": "stderr",
     "output_type": "stream",
     "text": [
      "[I 2023-12-16 04:51:05,593] Trial 5 finished with value: 100.0 and parameters: {'lambda_l1': 967.3018157436431, 'lambda_l2': 90.60835563506598, 'learning_rate': 0.12101170445906691, 'num_leaves': 928, 'feature_fraction': 0.24627106214929084, 'min_data_in_leaf': 3458}. Best is trial 1 with value: 100.0.\n"
     ]
    },
    {
     "name": "stdout",
     "output_type": "stream",
     "text": [
      "Early stopping, best iteration is:\n",
      "[1]\tvalid_0's ER: 100\n",
      "Evaluated only: ER\n",
      "**************** regression_l1 ****************\n",
      "Training until validation scores don't improve for 74 rounds\n"
     ]
    },
    {
     "name": "stderr",
     "output_type": "stream",
     "text": [
      "[I 2023-12-16 04:51:07,379] Trial 6 finished with value: 100.0 and parameters: {'lambda_l1': 932.445791287766, 'lambda_l2': 202.67561337686624, 'learning_rate': 0.2067927089546443, 'num_leaves': 624, 'feature_fraction': 0.290472361383012, 'min_data_in_leaf': 1672}. Best is trial 1 with value: 100.0.\n"
     ]
    },
    {
     "name": "stdout",
     "output_type": "stream",
     "text": [
      "Early stopping, best iteration is:\n",
      "[1]\tvalid_0's ER: 100\n",
      "Evaluated only: ER\n",
      "**************** regression_l1 ****************\n",
      "Training until validation scores don't improve for 105 rounds\n"
     ]
    },
    {
     "name": "stderr",
     "output_type": "stream",
     "text": [
      "[I 2023-12-16 04:51:10,338] Trial 7 finished with value: 100.0 and parameters: {'lambda_l1': 702.6205271162011, 'lambda_l2': 31.50017646240144, 'learning_rate': 0.08972786560596988, 'num_leaves': 398, 'feature_fraction': 0.6930746558609588, 'min_data_in_leaf': 1508}. Best is trial 1 with value: 100.0.\n"
     ]
    },
    {
     "name": "stdout",
     "output_type": "stream",
     "text": [
      "[100]\tvalid_0's ER: 100\n",
      "Early stopping, best iteration is:\n",
      "[1]\tvalid_0's ER: 100\n",
      "Evaluated only: ER\n",
      "**************** regression_l1 ****************\n",
      "Training until validation scores don't improve for 73 rounds\n"
     ]
    },
    {
     "name": "stderr",
     "output_type": "stream",
     "text": [
      "[I 2023-12-16 04:51:12,654] Trial 8 finished with value: 100.0 and parameters: {'lambda_l1': 557.8632511779523, 'lambda_l2': 825.070464089014, 'learning_rate': 0.21024771775976697, 'num_leaves': 788, 'feature_fraction': 0.6414173832693104, 'min_data_in_leaf': 6156}. Best is trial 1 with value: 100.0.\n"
     ]
    },
    {
     "name": "stdout",
     "output_type": "stream",
     "text": [
      "Early stopping, best iteration is:\n",
      "[1]\tvalid_0's ER: 100\n",
      "Evaluated only: ER\n",
      "**************** regression_l1 ****************\n",
      "Training until validation scores don't improve for 71 rounds\n"
     ]
    },
    {
     "name": "stderr",
     "output_type": "stream",
     "text": [
      "[I 2023-12-16 04:51:14,710] Trial 9 finished with value: 100.0 and parameters: {'lambda_l1': 962.6743748242253, 'lambda_l2': 119.41564358507539, 'learning_rate': 0.23104320006410858, 'num_leaves': 157, 'feature_fraction': 0.5612863218131348, 'min_data_in_leaf': 6451}. Best is trial 1 with value: 100.0.\n"
     ]
    },
    {
     "name": "stdout",
     "output_type": "stream",
     "text": [
      "Early stopping, best iteration is:\n",
      "[1]\tvalid_0's ER: 100\n",
      "Evaluated only: ER\n",
      "# Experimentos: 10\n",
      "Mejor experimento: {'lambda_l1': 755.8721912418655, 'lambda_l2': 278.6668700214493, 'learning_rate': 0.06360102849298317, 'num_leaves': 215, 'feature_fraction': 0.906869009994798, 'min_data_in_leaf': 2854}\n",
      "=========================================== Cluster 40 ===========================================\n"
     ]
    },
    {
     "name": "stderr",
     "output_type": "stream",
     "text": [
      "[I 2023-12-16 04:51:19,427] A new study created in memory with name: no-name-3ec78325-b913-452a-a33c-789bb85559e3\n"
     ]
    },
    {
     "name": "stdout",
     "output_type": "stream",
     "text": [
      "Periodos entrenar: [201701 201702 201703 201704 201705 201706 201707 201708 201709 201710\n",
      " 201711 201712 201801 201802 201803 201804 201805 201806 201807 201808\n",
      " 201809 201810 201811 201812 201901 201902 201903 201904 201905]\n",
      "Periodos validar: [201907]\n",
      "product_id a validar: 6960\n",
      "X_train: (145731, 120)\n",
      "y_train: (145731,)\n",
      "\n",
      "X_validate: (6960, 120)\n",
      "y_validate: (6960,)\n",
      "Optimizacion Bayesiana\n",
      "**************** regression_l1 ****************\n",
      "Training until validation scores don't improve for 71 rounds\n"
     ]
    },
    {
     "name": "stderr",
     "output_type": "stream",
     "text": [
      "[I 2023-12-16 04:51:21,925] Trial 0 finished with value: 94.46 and parameters: {'lambda_l1': 698.595540761077, 'lambda_l2': 418.42404774616784, 'learning_rate': 0.22796699810894525, 'num_leaves': 978, 'feature_fraction': 0.5616372504867044, 'min_data_in_leaf': 5694}. Best is trial 0 with value: 94.46.\n"
     ]
    },
    {
     "name": "stdout",
     "output_type": "stream",
     "text": [
      "Early stopping, best iteration is:\n",
      "[25]\tvalid_0's ER: 94.46\n",
      "Evaluated only: ER\n",
      "**************** regression_l1 ****************\n",
      "Training until validation scores don't improve for 125 rounds\n",
      "[100]\tvalid_0's ER: 93.16\n",
      "[200]\tvalid_0's ER: 92.95\n",
      "[300]\tvalid_0's ER: 92.72\n",
      "[400]\tvalid_0's ER: 92.63\n",
      "[500]\tvalid_0's ER: 92.34\n",
      "[600]\tvalid_0's ER: 92.16\n",
      "[700]\tvalid_0's ER: 91.72\n",
      "[800]\tvalid_0's ER: 91.24\n",
      "[900]\tvalid_0's ER: 90.96\n",
      "[1000]\tvalid_0's ER: 90.7\n",
      "[1100]\tvalid_0's ER: 90.58\n",
      "[1200]\tvalid_0's ER: 90.46\n",
      "[1300]\tvalid_0's ER: 90.35\n",
      "[1400]\tvalid_0's ER: 90.25\n",
      "[1500]\tvalid_0's ER: 90.16\n",
      "[1600]\tvalid_0's ER: 90.1\n",
      "[1700]\tvalid_0's ER: 90.04\n",
      "[1800]\tvalid_0's ER: 90\n",
      "[1900]\tvalid_0's ER: 89.94\n",
      "[2000]\tvalid_0's ER: 89.89\n",
      "[2100]\tvalid_0's ER: 89.81\n",
      "[2200]\tvalid_0's ER: 89.7\n",
      "[2300]\tvalid_0's ER: 89.63\n",
      "[2400]\tvalid_0's ER: 89.55\n",
      "[2500]\tvalid_0's ER: 89.49\n",
      "[2600]\tvalid_0's ER: 89.41\n",
      "[2700]\tvalid_0's ER: 89.37\n",
      "[2800]\tvalid_0's ER: 89.32\n",
      "[2900]\tvalid_0's ER: 89.26\n",
      "[3000]\tvalid_0's ER: 89.22\n",
      "[3100]\tvalid_0's ER: 89.18\n",
      "[3200]\tvalid_0's ER: 89.15\n",
      "[3300]\tvalid_0's ER: 89.11\n",
      "[3400]\tvalid_0's ER: 89.08\n",
      "[3500]\tvalid_0's ER: 89.03\n",
      "[3600]\tvalid_0's ER: 88.98\n",
      "[3700]\tvalid_0's ER: 88.96\n",
      "[3800]\tvalid_0's ER: 88.93\n",
      "[3900]\tvalid_0's ER: 88.88\n",
      "[4000]\tvalid_0's ER: 88.85\n",
      "[4100]\tvalid_0's ER: 88.81\n",
      "[4200]\tvalid_0's ER: 88.77\n",
      "[4300]\tvalid_0's ER: 88.72\n",
      "[4400]\tvalid_0's ER: 88.7\n",
      "[4500]\tvalid_0's ER: 88.68\n",
      "[4600]\tvalid_0's ER: 88.66\n",
      "[4700]\tvalid_0's ER: 88.62\n",
      "[4800]\tvalid_0's ER: 88.61\n",
      "[4900]\tvalid_0's ER: 88.59\n",
      "[5000]\tvalid_0's ER: 88.58\n",
      "[5100]\tvalid_0's ER: 88.56\n",
      "[5200]\tvalid_0's ER: 88.54\n",
      "[5300]\tvalid_0's ER: 88.52\n",
      "[5400]\tvalid_0's ER: 88.49\n",
      "[5500]\tvalid_0's ER: 88.47\n",
      "[5600]\tvalid_0's ER: 88.42\n",
      "[5700]\tvalid_0's ER: 88.35\n",
      "[5800]\tvalid_0's ER: 88.32\n",
      "[5900]\tvalid_0's ER: 88.26\n",
      "[6000]\tvalid_0's ER: 88.21\n",
      "[6100]\tvalid_0's ER: 88.16\n",
      "[6200]\tvalid_0's ER: 88.15\n",
      "[6300]\tvalid_0's ER: 88.07\n",
      "[6400]\tvalid_0's ER: 88.08\n",
      "Early stopping, best iteration is:\n",
      "[6296]\tvalid_0's ER: 88.07\n",
      "Evaluated only: ER\n"
     ]
    },
    {
     "name": "stderr",
     "output_type": "stream",
     "text": [
      "[I 2023-12-16 04:53:55,035] Trial 1 finished with value: 88.07 and parameters: {'lambda_l1': 153.26618900231648, 'lambda_l2': 753.3699047105706, 'learning_rate': 0.06616853531369739, 'num_leaves': 195, 'feature_fraction': 0.8285197135809208, 'min_data_in_leaf': 6931}. Best is trial 1 with value: 88.07.\n"
     ]
    },
    {
     "name": "stdout",
     "output_type": "stream",
     "text": [
      "**************** regression_l1 ****************\n",
      "Training until validation scores don't improve for 140 rounds\n",
      "[100]\tvalid_0's ER: 92.08\n",
      "[200]\tvalid_0's ER: 88.45\n",
      "[300]\tvalid_0's ER: 87.95\n",
      "[400]\tvalid_0's ER: 87.67\n",
      "[500]\tvalid_0's ER: 87.04\n",
      "[600]\tvalid_0's ER: 86.75\n",
      "[700]\tvalid_0's ER: 86.58\n",
      "[800]\tvalid_0's ER: 86.44\n",
      "[900]\tvalid_0's ER: 86.28\n",
      "[1000]\tvalid_0's ER: 86.17\n",
      "[1100]\tvalid_0's ER: 85.97\n",
      "[1200]\tvalid_0's ER: 85.88\n",
      "[1300]\tvalid_0's ER: 85.77\n",
      "[1400]\tvalid_0's ER: 85.61\n",
      "[1500]\tvalid_0's ER: 85.57\n",
      "[1600]\tvalid_0's ER: 85.52\n",
      "[1700]\tvalid_0's ER: 85.51\n",
      "[1800]\tvalid_0's ER: 85.48\n",
      "[1900]\tvalid_0's ER: 85.49\n",
      "Early stopping, best iteration is:\n",
      "[1835]\tvalid_0's ER: 85.47\n",
      "Evaluated only: ER\n"
     ]
    },
    {
     "name": "stderr",
     "output_type": "stream",
     "text": [
      "[I 2023-12-16 04:54:46,468] Trial 2 finished with value: 85.47 and parameters: {'lambda_l1': 457.06932431169946, 'lambda_l2': 93.47492977226224, 'learning_rate': 0.05524012546360996, 'num_leaves': 922, 'feature_fraction': 0.5895510887498809, 'min_data_in_leaf': 2991}. Best is trial 2 with value: 85.47.\n"
     ]
    },
    {
     "name": "stdout",
     "output_type": "stream",
     "text": [
      "**************** regression_l1 ****************\n",
      "Training until validation scores don't improve for 87 rounds\n",
      "[100]\tvalid_0's ER: 80.87\n"
     ]
    },
    {
     "name": "stderr",
     "output_type": "stream",
     "text": [
      "[I 2023-12-16 04:54:49,822] Trial 3 finished with value: 80.6 and parameters: {'lambda_l1': 938.6287495332958, 'lambda_l2': 905.3823528640512, 'learning_rate': 0.13351328473335022, 'num_leaves': 973, 'feature_fraction': 0.2717214875210145, 'min_data_in_leaf': 597}. Best is trial 3 with value: 80.6.\n"
     ]
    },
    {
     "name": "stdout",
     "output_type": "stream",
     "text": [
      "[200]\tvalid_0's ER: 80.6\n",
      "Early stopping, best iteration is:\n",
      "[114]\tvalid_0's ER: 80.6\n",
      "Evaluated only: ER\n",
      "**************** regression_l1 ****************\n",
      "Training until validation scores don't improve for 74 rounds\n",
      "[100]\tvalid_0's ER: 91.06\n"
     ]
    },
    {
     "name": "stderr",
     "output_type": "stream",
     "text": [
      "[I 2023-12-16 04:54:54,621] Trial 4 finished with value: 91.06 and parameters: {'lambda_l1': 206.77772682582474, 'lambda_l2': 555.7901520388452, 'learning_rate': 0.20507749888752144, 'num_leaves': 589, 'feature_fraction': 0.765775741685051, 'min_data_in_leaf': 6792}. Best is trial 3 with value: 80.6.\n"
     ]
    },
    {
     "name": "stdout",
     "output_type": "stream",
     "text": [
      "Early stopping, best iteration is:\n",
      "[97]\tvalid_0's ER: 91.06\n",
      "Evaluated only: ER\n",
      "**************** regression_l1 ****************\n",
      "Training until validation scores don't improve for 94 rounds\n",
      "[100]\tvalid_0's ER: 87.63\n",
      "[200]\tvalid_0's ER: 87.58\n"
     ]
    },
    {
     "name": "stderr",
     "output_type": "stream",
     "text": [
      "[I 2023-12-16 04:55:01,907] Trial 5 finished with value: 87.55 and parameters: {'lambda_l1': 141.9703176451711, 'lambda_l2': 410.6921689717571, 'learning_rate': 0.11256783336711043, 'num_leaves': 683, 'feature_fraction': 0.965697608099527, 'min_data_in_leaf': 1559}. Best is trial 3 with value: 80.6.\n"
     ]
    },
    {
     "name": "stdout",
     "output_type": "stream",
     "text": [
      "Early stopping, best iteration is:\n",
      "[163]\tvalid_0's ER: 87.55\n",
      "Evaluated only: ER\n",
      "**************** regression_l1 ****************\n",
      "Training until validation scores don't improve for 176 rounds\n",
      "[100]\tvalid_0's ER: 88.7\n",
      "[200]\tvalid_0's ER: 87.84\n",
      "[300]\tvalid_0's ER: 87.73\n",
      "[400]\tvalid_0's ER: 87.55\n",
      "[500]\tvalid_0's ER: 87.47\n",
      "[600]\tvalid_0's ER: 87.29\n",
      "[700]\tvalid_0's ER: 87.13\n",
      "[800]\tvalid_0's ER: 86.93\n",
      "[900]\tvalid_0's ER: 86.8\n",
      "[1000]\tvalid_0's ER: 86.73\n",
      "[1100]\tvalid_0's ER: 86.66\n",
      "[1200]\tvalid_0's ER: 86.65\n",
      "[1300]\tvalid_0's ER: 86.61\n",
      "[1400]\tvalid_0's ER: 86.52\n",
      "[1500]\tvalid_0's ER: 86.49\n",
      "[1600]\tvalid_0's ER: 86.43\n",
      "[1700]\tvalid_0's ER: 86.4\n",
      "[1800]\tvalid_0's ER: 86.38\n",
      "[1900]\tvalid_0's ER: 86.36\n",
      "[2000]\tvalid_0's ER: 86.35\n",
      "[2100]\tvalid_0's ER: 86.31\n",
      "[2200]\tvalid_0's ER: 86.27\n",
      "[2300]\tvalid_0's ER: 86.24\n",
      "[2400]\tvalid_0's ER: 86.21\n",
      "[2500]\tvalid_0's ER: 86.2\n",
      "[2600]\tvalid_0's ER: 86.14\n",
      "[2700]\tvalid_0's ER: 86.11\n",
      "[2800]\tvalid_0's ER: 86.08\n",
      "[2900]\tvalid_0's ER: 86.03\n",
      "[3000]\tvalid_0's ER: 85.96\n",
      "[3100]\tvalid_0's ER: 85.89\n",
      "[3200]\tvalid_0's ER: 85.82\n",
      "[3300]\tvalid_0's ER: 85.74\n",
      "[3400]\tvalid_0's ER: 85.69\n",
      "[3500]\tvalid_0's ER: 85.65\n",
      "[3600]\tvalid_0's ER: 85.62\n",
      "[3700]\tvalid_0's ER: 85.56\n",
      "[3800]\tvalid_0's ER: 85.52\n",
      "[3900]\tvalid_0's ER: 85.48\n",
      "[4000]\tvalid_0's ER: 85.45\n",
      "[4100]\tvalid_0's ER: 85.38\n",
      "[4200]\tvalid_0's ER: 85.36\n",
      "[4300]\tvalid_0's ER: 85.33\n",
      "[4400]\tvalid_0's ER: 85.31\n",
      "[4500]\tvalid_0's ER: 85.29\n",
      "[4600]\tvalid_0's ER: 85.27\n",
      "[4700]\tvalid_0's ER: 85.26\n",
      "[4800]\tvalid_0's ER: 85.21\n",
      "[4900]\tvalid_0's ER: 85.15\n",
      "[5000]\tvalid_0's ER: 85.13\n",
      "[5100]\tvalid_0's ER: 85.12\n",
      "[5200]\tvalid_0's ER: 85.02\n",
      "[5300]\tvalid_0's ER: 85.01\n",
      "[5400]\tvalid_0's ER: 84.95\n",
      "[5500]\tvalid_0's ER: 84.88\n",
      "[5600]\tvalid_0's ER: 84.86\n",
      "[5700]\tvalid_0's ER: 84.84\n",
      "[5800]\tvalid_0's ER: 84.81\n",
      "[5900]\tvalid_0's ER: 84.78\n",
      "[6000]\tvalid_0's ER: 84.77\n",
      "[6100]\tvalid_0's ER: 84.72\n",
      "[6200]\tvalid_0's ER: 84.69\n",
      "[6300]\tvalid_0's ER: 84.63\n",
      "[6400]\tvalid_0's ER: 84.62\n",
      "[6500]\tvalid_0's ER: 84.62\n",
      "[6600]\tvalid_0's ER: 84.59\n",
      "[6700]\tvalid_0's ER: 84.53\n",
      "[6800]\tvalid_0's ER: 84.52\n",
      "[6900]\tvalid_0's ER: 84.51\n",
      "[7000]\tvalid_0's ER: 84.48\n",
      "[7100]\tvalid_0's ER: 84.47\n",
      "[7200]\tvalid_0's ER: 84.45\n",
      "[7300]\tvalid_0's ER: 84.45\n",
      "[7400]\tvalid_0's ER: 84.45\n",
      "Early stopping, best iteration is:\n",
      "[7307]\tvalid_0's ER: 84.44\n",
      "Evaluated only: ER\n"
     ]
    },
    {
     "name": "stderr",
     "output_type": "stream",
     "text": [
      "[I 2023-12-16 04:58:33,048] Trial 6 finished with value: 84.44 and parameters: {'lambda_l1': 113.8899523176271, 'lambda_l2': 90.01857448505213, 'learning_rate': 0.03963704567916422, 'num_leaves': 213, 'feature_fraction': 0.7101834789121124, 'min_data_in_leaf': 3978}. Best is trial 3 with value: 80.6.\n"
     ]
    },
    {
     "name": "stdout",
     "output_type": "stream",
     "text": [
      "**************** regression_l1 ****************\n",
      "Training until validation scores don't improve for 95 rounds\n",
      "[100]\tvalid_0's ER: 83.55\n"
     ]
    },
    {
     "name": "stderr",
     "output_type": "stream",
     "text": [
      "[I 2023-12-16 04:58:36,606] Trial 7 finished with value: 83.55 and parameters: {'lambda_l1': 223.68074893407984, 'lambda_l2': 625.2402080134302, 'learning_rate': 0.10918614095720433, 'num_leaves': 18, 'feature_fraction': 0.3033843614158501, 'min_data_in_leaf': 1748}. Best is trial 3 with value: 80.6.\n"
     ]
    },
    {
     "name": "stdout",
     "output_type": "stream",
     "text": [
      "Early stopping, best iteration is:\n",
      "[95]\tvalid_0's ER: 83.55\n",
      "Evaluated only: ER\n",
      "**************** regression_l1 ****************\n",
      "Training until validation scores don't improve for 69 rounds\n",
      "[100]\tvalid_0's ER: 91.45\n",
      "[200]\tvalid_0's ER: 90.22\n"
     ]
    },
    {
     "name": "stderr",
     "output_type": "stream",
     "text": [
      "[I 2023-12-16 04:58:43,758] Trial 8 finished with value: 90.21 and parameters: {'lambda_l1': 112.22154901643432, 'lambda_l2': 577.5135579520395, 'learning_rate': 0.26057583462916745, 'num_leaves': 970, 'feature_fraction': 0.8603067109010276, 'min_data_in_leaf': 6507}. Best is trial 3 with value: 80.6.\n"
     ]
    },
    {
     "name": "stdout",
     "output_type": "stream",
     "text": [
      "Early stopping, best iteration is:\n",
      "[201]\tvalid_0's ER: 90.21\n",
      "Evaluated only: ER\n",
      "**************** regression_l1 ****************\n",
      "Training until validation scores don't improve for 85 rounds\n",
      "[100]\tvalid_0's ER: 95.07\n",
      "[200]\tvalid_0's ER: 93.27\n",
      "[300]\tvalid_0's ER: 92.47\n",
      "[400]\tvalid_0's ER: 92.2\n",
      "[500]\tvalid_0's ER: 91.67\n",
      "[600]\tvalid_0's ER: 91.45\n"
     ]
    },
    {
     "name": "stderr",
     "output_type": "stream",
     "text": [
      "[I 2023-12-16 04:59:00,206] Trial 9 finished with value: 91.44 and parameters: {'lambda_l1': 369.7185223839354, 'lambda_l2': 754.4083439116405, 'learning_rate': 0.13939778470794684, 'num_leaves': 185, 'feature_fraction': 0.7713036451634296, 'min_data_in_leaf': 7365}. Best is trial 3 with value: 80.6.\n"
     ]
    },
    {
     "name": "stdout",
     "output_type": "stream",
     "text": [
      "Early stopping, best iteration is:\n",
      "[562]\tvalid_0's ER: 91.44\n",
      "Evaluated only: ER\n",
      "# Experimentos: 10\n",
      "Mejor experimento: {'lambda_l1': 938.6287495332958, 'lambda_l2': 905.3823528640512, 'learning_rate': 0.13351328473335022, 'num_leaves': 973, 'feature_fraction': 0.2717214875210145, 'min_data_in_leaf': 597}\n",
      "=========================================== Cluster 41 ===========================================\n"
     ]
    },
    {
     "name": "stderr",
     "output_type": "stream",
     "text": [
      "[I 2023-12-16 04:59:00,935] A new study created in memory with name: no-name-8ee4302d-1ea8-45ba-80de-877c2c31c4dd\n"
     ]
    },
    {
     "name": "stdout",
     "output_type": "stream",
     "text": [
      "Periodos entrenar: [201804 201805 201806 201807 201808 201809 201810 201811 201812 201901\n",
      " 201902 201903 201904 201905]\n",
      "Periodos validar: [201907]\n",
      "product_id a validar: 1160\n",
      "X_train: (15516, 120)\n",
      "y_train: (15516,)\n",
      "\n",
      "X_validate: (1160, 120)\n",
      "y_validate: (1160,)\n",
      "Optimizacion Bayesiana\n",
      "**************** regression_l1 ****************\n",
      "Training until validation scores don't improve for 69 rounds\n"
     ]
    },
    {
     "name": "stderr",
     "output_type": "stream",
     "text": [
      "[I 2023-12-16 04:59:01,294] Trial 0 finished with value: 100.0 and parameters: {'lambda_l1': 507.88223437278936, 'lambda_l2': 382.54983841746014, 'learning_rate': 0.2544723325774916, 'num_leaves': 317, 'feature_fraction': 0.8283072635734159, 'min_data_in_leaf': 150}. Best is trial 0 with value: 100.0.\n"
     ]
    },
    {
     "name": "stdout",
     "output_type": "stream",
     "text": [
      "Early stopping, best iteration is:\n",
      "[1]\tvalid_0's ER: 100\n",
      "Evaluated only: ER\n",
      "**************** regression_l1 ****************\n",
      "Training until validation scores don't improve for 182 rounds\n",
      "[100]\tvalid_0's ER: 100\n"
     ]
    },
    {
     "name": "stderr",
     "output_type": "stream",
     "text": [
      "[I 2023-12-16 04:59:02,009] Trial 1 finished with value: 100.0 and parameters: {'lambda_l1': 712.7842954437208, 'lambda_l2': 532.0376077315696, 'learning_rate': 0.037863466930774456, 'num_leaves': 768, 'feature_fraction': 0.9273526929842799, 'min_data_in_leaf': 113}. Best is trial 0 with value: 100.0.\n"
     ]
    },
    {
     "name": "stdout",
     "output_type": "stream",
     "text": [
      "Early stopping, best iteration is:\n",
      "[1]\tvalid_0's ER: 100\n",
      "Evaluated only: ER\n",
      "**************** regression_l1 ****************\n",
      "Training until validation scores don't improve for 70 rounds\n"
     ]
    },
    {
     "name": "stderr",
     "output_type": "stream",
     "text": [
      "[I 2023-12-16 04:59:02,298] Trial 2 finished with value: 100.0 and parameters: {'lambda_l1': 497.79082674224327, 'lambda_l2': 936.2431173214111, 'learning_rate': 0.24032672392382673, 'num_leaves': 125, 'feature_fraction': 0.9817697502688969, 'min_data_in_leaf': 2813}. Best is trial 0 with value: 100.0.\n"
     ]
    },
    {
     "name": "stdout",
     "output_type": "stream",
     "text": [
      "Early stopping, best iteration is:\n",
      "[1]\tvalid_0's ER: 100\n",
      "Evaluated only: ER\n",
      "**************** regression_l1 ****************\n",
      "Training until validation scores don't improve for 69 rounds\n"
     ]
    },
    {
     "name": "stderr",
     "output_type": "stream",
     "text": [
      "[I 2023-12-16 04:59:02,582] Trial 3 finished with value: 100.0 and parameters: {'lambda_l1': 654.9610871393967, 'lambda_l2': 474.3923008132399, 'learning_rate': 0.25361033294330737, 'num_leaves': 337, 'feature_fraction': 0.6654356431072159, 'min_data_in_leaf': 4021}. Best is trial 0 with value: 100.0.\n"
     ]
    },
    {
     "name": "stdout",
     "output_type": "stream",
     "text": [
      "Early stopping, best iteration is:\n",
      "[1]\tvalid_0's ER: 100\n",
      "Evaluated only: ER\n",
      "**************** regression_l1 ****************\n",
      "Training until validation scores don't improve for 74 rounds\n"
     ]
    },
    {
     "name": "stderr",
     "output_type": "stream",
     "text": [
      "[I 2023-12-16 04:59:02,876] Trial 4 finished with value: 100.0 and parameters: {'lambda_l1': 488.1218556249707, 'lambda_l2': 443.6802105618988, 'learning_rate': 0.20312001096394636, 'num_leaves': 692, 'feature_fraction': 0.7392798551619588, 'min_data_in_leaf': 4663}. Best is trial 0 with value: 100.0.\n"
     ]
    },
    {
     "name": "stdout",
     "output_type": "stream",
     "text": [
      "Early stopping, best iteration is:\n",
      "[1]\tvalid_0's ER: 100\n",
      "Evaluated only: ER\n",
      "**************** regression_l1 ****************\n",
      "Training until validation scores don't improve for 83 rounds\n"
     ]
    },
    {
     "name": "stderr",
     "output_type": "stream",
     "text": [
      "[I 2023-12-16 04:59:03,223] Trial 5 finished with value: 100.0 and parameters: {'lambda_l1': 162.755593572116, 'lambda_l2': 672.9418814414047, 'learning_rate': 0.14874207469673842, 'num_leaves': 474, 'feature_fraction': 0.6749929873625018, 'min_data_in_leaf': 1477}. Best is trial 0 with value: 100.0.\n"
     ]
    },
    {
     "name": "stdout",
     "output_type": "stream",
     "text": [
      "Early stopping, best iteration is:\n",
      "[1]\tvalid_0's ER: 100\n",
      "Evaluated only: ER\n",
      "**************** regression_l1 ****************\n",
      "Training until validation scores don't improve for 92 rounds\n",
      "[100]\tvalid_0's ER: 96.99\n",
      "[200]\tvalid_0's ER: 96.85\n",
      "[300]\tvalid_0's ER: 96.68\n",
      "[400]\tvalid_0's ER: 96.61\n",
      "[500]\tvalid_0's ER: 96.04\n",
      "[600]\tvalid_0's ER: 95.78\n",
      "[700]\tvalid_0's ER: 95.72\n",
      "[800]\tvalid_0's ER: 95.52\n",
      "[900]\tvalid_0's ER: 95.41\n",
      "[1000]\tvalid_0's ER: 95.12\n",
      "[1100]\tvalid_0's ER: 95.09\n",
      "[1200]\tvalid_0's ER: 94.97\n",
      "[1300]\tvalid_0's ER: 94.89\n",
      "[1400]\tvalid_0's ER: 94.83\n",
      "[1500]\tvalid_0's ER: 94.78\n",
      "[1600]\tvalid_0's ER: 94.48\n",
      "[1700]\tvalid_0's ER: 94.41\n",
      "[1800]\tvalid_0's ER: 94.33\n",
      "[1900]\tvalid_0's ER: 94.25\n",
      "[2000]\tvalid_0's ER: 94.16\n",
      "[2100]\tvalid_0's ER: 94.14\n",
      "[2200]\tvalid_0's ER: 94.06\n",
      "[2300]\tvalid_0's ER: 93.96\n",
      "[2400]\tvalid_0's ER: 93.92\n",
      "[2500]\tvalid_0's ER: 93.88\n",
      "[2600]\tvalid_0's ER: 93.86\n",
      "[2700]\tvalid_0's ER: 93.76\n",
      "[2800]\tvalid_0's ER: 93.73\n",
      "[2900]\tvalid_0's ER: 93.71\n",
      "[3000]\tvalid_0's ER: 93.66\n",
      "[3100]\tvalid_0's ER: 93.63\n",
      "[3200]\tvalid_0's ER: 93.6\n",
      "[3300]\tvalid_0's ER: 93.57\n",
      "Early stopping, best iteration is:\n",
      "[3288]\tvalid_0's ER: 93.57\n",
      "Evaluated only: ER\n"
     ]
    },
    {
     "name": "stderr",
     "output_type": "stream",
     "text": [
      "[I 2023-12-16 04:59:10,009] Trial 6 finished with value: 93.57 and parameters: {'lambda_l1': 81.79294884713218, 'lambda_l2': 530.4342150648201, 'learning_rate': 0.11884412806159753, 'num_leaves': 606, 'feature_fraction': 0.32975551641440437, 'min_data_in_leaf': 1849}. Best is trial 6 with value: 93.57.\n"
     ]
    },
    {
     "name": "stdout",
     "output_type": "stream",
     "text": [
      "**************** regression_l1 ****************\n",
      "Training until validation scores don't improve for 102 rounds\n"
     ]
    },
    {
     "name": "stderr",
     "output_type": "stream",
     "text": [
      "[I 2023-12-16 04:59:10,319] Trial 7 finished with value: 100.0 and parameters: {'lambda_l1': 703.4274353625494, 'lambda_l2': 45.08271764639138, 'learning_rate': 0.09502392298419637, 'num_leaves': 62, 'feature_fraction': 0.9847855280298698, 'min_data_in_leaf': 5093}. Best is trial 6 with value: 93.57.\n"
     ]
    },
    {
     "name": "stdout",
     "output_type": "stream",
     "text": [
      "[100]\tvalid_0's ER: 100\n",
      "Early stopping, best iteration is:\n",
      "[1]\tvalid_0's ER: 100\n",
      "Evaluated only: ER\n",
      "**************** regression_l1 ****************\n",
      "Training until validation scores don't improve for 68 rounds\n"
     ]
    },
    {
     "name": "stderr",
     "output_type": "stream",
     "text": [
      "[I 2023-12-16 04:59:10,584] Trial 8 finished with value: 100.0 and parameters: {'lambda_l1': 939.4057537896584, 'lambda_l2': 87.52575068894808, 'learning_rate': 0.2748018121205041, 'num_leaves': 809, 'feature_fraction': 0.5173967371814354, 'min_data_in_leaf': 4428}. Best is trial 6 with value: 93.57.\n"
     ]
    },
    {
     "name": "stdout",
     "output_type": "stream",
     "text": [
      "Early stopping, best iteration is:\n",
      "[1]\tvalid_0's ER: 100\n",
      "Evaluated only: ER\n",
      "**************** regression_l1 ****************\n",
      "Training until validation scores don't improve for 87 rounds\n"
     ]
    },
    {
     "name": "stderr",
     "output_type": "stream",
     "text": [
      "[I 2023-12-16 04:59:10,895] Trial 9 finished with value: 100.0 and parameters: {'lambda_l1': 801.8046219279378, 'lambda_l2': 95.81040950454056, 'learning_rate': 0.13491083039779664, 'num_leaves': 397, 'feature_fraction': 0.5930154820691744, 'min_data_in_leaf': 3615}. Best is trial 6 with value: 93.57.\n"
     ]
    },
    {
     "name": "stdout",
     "output_type": "stream",
     "text": [
      "Early stopping, best iteration is:\n",
      "[1]\tvalid_0's ER: 100\n",
      "Evaluated only: ER\n",
      "# Experimentos: 10\n",
      "Mejor experimento: {'lambda_l1': 81.79294884713218, 'lambda_l2': 530.4342150648201, 'learning_rate': 0.11884412806159753, 'num_leaves': 606, 'feature_fraction': 0.32975551641440437, 'min_data_in_leaf': 1849}\n",
      "=========================================== Cluster 42 ===========================================\n"
     ]
    },
    {
     "name": "stderr",
     "output_type": "stream",
     "text": [
      "[I 2023-12-16 04:59:23,074] A new study created in memory with name: no-name-dcc3c57e-fc6f-4ea7-8c6a-afe301c1fa75\n"
     ]
    },
    {
     "name": "stdout",
     "output_type": "stream",
     "text": [
      "Periodos entrenar: [201701 201702 201703 201704 201705 201706 201707 201708 201709 201710\n",
      " 201711 201712 201801 201802 201803 201804 201805 201806 201807 201808\n",
      " 201809 201810 201811 201812 201901 201902 201903 201904 201905]\n",
      "Periodos validar: [201907]\n",
      "product_id a validar: 16240\n",
      "X_train: (400207, 120)\n",
      "y_train: (400207,)\n",
      "\n",
      "X_validate: (16240, 120)\n",
      "y_validate: (16240,)\n",
      "Optimizacion Bayesiana\n",
      "**************** regression_l1 ****************\n",
      "Training until validation scores don't improve for 131 rounds\n",
      "[100]\tvalid_0's ER: 90.69\n",
      "[200]\tvalid_0's ER: 90.22\n",
      "[300]\tvalid_0's ER: 90.1\n",
      "[400]\tvalid_0's ER: 90.1\n"
     ]
    },
    {
     "name": "stderr",
     "output_type": "stream",
     "text": [
      "[I 2023-12-16 04:59:50,906] Trial 0 finished with value: 90.1 and parameters: {'lambda_l1': 47.983440939397326, 'lambda_l2': 80.04322831223665, 'learning_rate': 0.06106578883235298, 'num_leaves': 1014, 'feature_fraction': 0.5625298700388841, 'min_data_in_leaf': 4769}. Best is trial 0 with value: 90.1.\n"
     ]
    },
    {
     "name": "stdout",
     "output_type": "stream",
     "text": [
      "Early stopping, best iteration is:\n",
      "[299]\tvalid_0's ER: 90.1\n",
      "Evaluated only: ER\n",
      "**************** regression_l1 ****************\n",
      "Training until validation scores don't improve for 163 rounds\n",
      "[100]\tvalid_0's ER: 94.31\n",
      "[200]\tvalid_0's ER: 93.99\n",
      "[300]\tvalid_0's ER: 93.98\n",
      "[400]\tvalid_0's ER: 93.98\n"
     ]
    },
    {
     "name": "stderr",
     "output_type": "stream",
     "text": [
      "[I 2023-12-16 05:00:07,649] Trial 1 finished with value: 93.98 and parameters: {'lambda_l1': 546.4039569277544, 'lambda_l2': 732.4278681839984, 'learning_rate': 0.044037915474565086, 'num_leaves': 755, 'feature_fraction': 0.3167676050781347, 'min_data_in_leaf': 7856}. Best is trial 0 with value: 90.1.\n"
     ]
    },
    {
     "name": "stdout",
     "output_type": "stream",
     "text": [
      "Early stopping, best iteration is:\n",
      "[264]\tvalid_0's ER: 93.98\n",
      "Evaluated only: ER\n",
      "**************** regression_l1 ****************\n",
      "Training until validation scores don't improve for 67 rounds\n",
      "[100]\tvalid_0's ER: 93.55\n",
      "[200]\tvalid_0's ER: 93.36\n",
      "[300]\tvalid_0's ER: 92.83\n"
     ]
    },
    {
     "name": "stderr",
     "output_type": "stream",
     "text": [
      "[I 2023-12-16 05:00:29,937] Trial 2 finished with value: 92.82 and parameters: {'lambda_l1': 699.9633736679463, 'lambda_l2': 140.2908568910831, 'learning_rate': 0.2887472730998285, 'num_leaves': 999, 'feature_fraction': 0.9296216676179307, 'min_data_in_leaf': 6757}. Best is trial 0 with value: 90.1.\n"
     ]
    },
    {
     "name": "stdout",
     "output_type": "stream",
     "text": [
      "Early stopping, best iteration is:\n",
      "[312]\tvalid_0's ER: 92.82\n",
      "Evaluated only: ER\n",
      "**************** regression_l1 ****************\n",
      "Training until validation scores don't improve for 68 rounds\n"
     ]
    },
    {
     "name": "stderr",
     "output_type": "stream",
     "text": [
      "[I 2023-12-16 05:00:35,268] Trial 3 finished with value: 87.15 and parameters: {'lambda_l1': 51.89291683787411, 'lambda_l2': 913.5303420065685, 'learning_rate': 0.2669271563441125, 'num_leaves': 974, 'feature_fraction': 0.27572315874986525, 'min_data_in_leaf': 870}. Best is trial 3 with value: 87.15.\n"
     ]
    },
    {
     "name": "stdout",
     "output_type": "stream",
     "text": [
      "Early stopping, best iteration is:\n",
      "[20]\tvalid_0's ER: 87.15\n",
      "Evaluated only: ER\n",
      "**************** regression_l1 ****************\n",
      "Training until validation scores don't improve for 68 rounds\n",
      "[100]\tvalid_0's ER: 92.96\n",
      "[200]\tvalid_0's ER: 92.17\n",
      "[300]\tvalid_0's ER: 91.94\n"
     ]
    },
    {
     "name": "stderr",
     "output_type": "stream",
     "text": [
      "[I 2023-12-16 05:00:47,525] Trial 4 finished with value: 91.94 and parameters: {'lambda_l1': 265.5337479979394, 'lambda_l2': 840.5460922486442, 'learning_rate': 0.26670681004228475, 'num_leaves': 726, 'feature_fraction': 0.3247114951923189, 'min_data_in_leaf': 6911}. Best is trial 3 with value: 87.15.\n"
     ]
    },
    {
     "name": "stdout",
     "output_type": "stream",
     "text": [
      "Early stopping, best iteration is:\n",
      "[259]\tvalid_0's ER: 91.94\n",
      "Evaluated only: ER\n",
      "**************** regression_l1 ****************\n",
      "Training until validation scores don't improve for 72 rounds\n"
     ]
    },
    {
     "name": "stderr",
     "output_type": "stream",
     "text": [
      "[I 2023-12-16 05:00:53,453] Trial 5 finished with value: 99.09 and parameters: {'lambda_l1': 955.2233607114559, 'lambda_l2': 622.0914455650784, 'learning_rate': 0.22340441524669757, 'num_leaves': 590, 'feature_fraction': 0.8833530626627415, 'min_data_in_leaf': 917}. Best is trial 3 with value: 87.15.\n"
     ]
    },
    {
     "name": "stdout",
     "output_type": "stream",
     "text": [
      "Early stopping, best iteration is:\n",
      "[2]\tvalid_0's ER: 99.09\n",
      "Evaluated only: ER\n",
      "**************** regression_l1 ****************\n",
      "Training until validation scores don't improve for 95 rounds\n",
      "[100]\tvalid_0's ER: 94.16\n",
      "[200]\tvalid_0's ER: 94.15\n"
     ]
    },
    {
     "name": "stderr",
     "output_type": "stream",
     "text": [
      "[I 2023-12-16 05:01:08,597] Trial 6 finished with value: 94.15 and parameters: {'lambda_l1': 644.1639214625247, 'lambda_l2': 149.74609402391104, 'learning_rate': 0.11028062030865891, 'num_leaves': 575, 'feature_fraction': 0.7863656074154466, 'min_data_in_leaf': 7508}. Best is trial 3 with value: 87.15.\n"
     ]
    },
    {
     "name": "stdout",
     "output_type": "stream",
     "text": [
      "Early stopping, best iteration is:\n",
      "[160]\tvalid_0's ER: 94.15\n",
      "Evaluated only: ER\n",
      "**************** regression_l1 ****************\n",
      "Training until validation scores don't improve for 67 rounds\n",
      "[100]\tvalid_0's ER: 91.18\n",
      "[200]\tvalid_0's ER: 90.8\n",
      "[300]\tvalid_0's ER: 90.69\n"
     ]
    },
    {
     "name": "stderr",
     "output_type": "stream",
     "text": [
      "[I 2023-12-16 05:01:19,589] Trial 7 finished with value: 90.69 and parameters: {'lambda_l1': 717.2435162283058, 'lambda_l2': 112.2873158736225, 'learning_rate': 0.2897865822782825, 'num_leaves': 912, 'feature_fraction': 0.23492415835477518, 'min_data_in_leaf': 4997}. Best is trial 3 with value: 87.15.\n"
     ]
    },
    {
     "name": "stdout",
     "output_type": "stream",
     "text": [
      "Early stopping, best iteration is:\n",
      "[271]\tvalid_0's ER: 90.69\n",
      "Evaluated only: ER\n",
      "**************** regression_l1 ****************\n",
      "Training until validation scores don't improve for 316 rounds\n",
      "[100]\tvalid_0's ER: 89.66\n",
      "[200]\tvalid_0's ER: 86.25\n",
      "[300]\tvalid_0's ER: 85.89\n",
      "[400]\tvalid_0's ER: 85.84\n",
      "[500]\tvalid_0's ER: 85.8\n",
      "[600]\tvalid_0's ER: 85.81\n",
      "[700]\tvalid_0's ER: 85.71\n",
      "[800]\tvalid_0's ER: 85.7\n",
      "[900]\tvalid_0's ER: 85.72\n",
      "[1000]\tvalid_0's ER: 85.75\n",
      "[1100]\tvalid_0's ER: 85.74\n",
      "Early stopping, best iteration is:\n",
      "[847]\tvalid_0's ER: 85.67\n",
      "Evaluated only: ER\n"
     ]
    },
    {
     "name": "stderr",
     "output_type": "stream",
     "text": [
      "[I 2023-12-16 05:04:25,422] Trial 8 finished with value: 85.67 and parameters: {'lambda_l1': 200.98089523242368, 'lambda_l2': 847.7590483672858, 'learning_rate': 0.01878724806295896, 'num_leaves': 699, 'feature_fraction': 0.551310708834295, 'min_data_in_leaf': 194}. Best is trial 8 with value: 85.67.\n"
     ]
    },
    {
     "name": "stdout",
     "output_type": "stream",
     "text": [
      "**************** regression_l1 ****************\n",
      "Training until validation scores don't improve for 73 rounds\n",
      "[100]\tvalid_0's ER: 94.96\n",
      "[200]\tvalid_0's ER: 90.18\n",
      "[300]\tvalid_0's ER: 89.97\n"
     ]
    },
    {
     "name": "stderr",
     "output_type": "stream",
     "text": [
      "[I 2023-12-16 05:04:47,581] Trial 9 finished with value: 89.97 and parameters: {'lambda_l1': 919.598795162858, 'lambda_l2': 726.9401137601342, 'learning_rate': 0.21711060685323433, 'num_leaves': 432, 'feature_fraction': 0.6808992870681476, 'min_data_in_leaf': 2734}. Best is trial 8 with value: 85.67.\n"
     ]
    },
    {
     "name": "stdout",
     "output_type": "stream",
     "text": [
      "Early stopping, best iteration is:\n",
      "[300]\tvalid_0's ER: 89.97\n",
      "Evaluated only: ER\n",
      "# Experimentos: 10\n",
      "Mejor experimento: {'lambda_l1': 200.98089523242368, 'lambda_l2': 847.7590483672858, 'learning_rate': 0.01878724806295896, 'num_leaves': 699, 'feature_fraction': 0.551310708834295, 'min_data_in_leaf': 194}\n",
      "=========================================== Cluster 43 ===========================================\n"
     ]
    },
    {
     "name": "stderr",
     "output_type": "stream",
     "text": [
      "[I 2023-12-16 05:04:47,945] A new study created in memory with name: no-name-c50714c0-b24e-4c8e-b5e1-40dfae16af45\n",
      "[I 2023-12-16 05:04:48,053] Trial 0 finished with value: 100.0 and parameters: {'lambda_l1': 694.6393746955473, 'lambda_l2': 771.1907789326692, 'learning_rate': 0.2776706496876823, 'num_leaves': 860, 'feature_fraction': 0.5691099462747659, 'min_data_in_leaf': 4060}. Best is trial 0 with value: 100.0.\n"
     ]
    },
    {
     "name": "stdout",
     "output_type": "stream",
     "text": [
      "Periodos entrenar: [201811 201812 201901 201902 201903 201904 201905]\n",
      "Periodos validar: [201907]\n",
      "product_id a validar: 580\n",
      "X_train: (3942, 120)\n",
      "y_train: (3942,)\n",
      "\n",
      "X_validate: (580, 120)\n",
      "y_validate: (580,)\n",
      "Optimizacion Bayesiana\n",
      "**************** regression_l1 ****************\n",
      "Training until validation scores don't improve for 68 rounds\n",
      "Early stopping, best iteration is:\n",
      "[1]\tvalid_0's ER: 100\n",
      "Evaluated only: ER\n",
      "**************** regression_l1 ****************\n",
      "Training until validation scores don't improve for 86 rounds\n"
     ]
    },
    {
     "name": "stderr",
     "output_type": "stream",
     "text": [
      "[I 2023-12-16 05:04:48,170] Trial 1 finished with value: 100.0 and parameters: {'lambda_l1': 546.3586314290137, 'lambda_l2': 188.88247689518678, 'learning_rate': 0.1357433201767593, 'num_leaves': 975, 'feature_fraction': 0.5343525075468394, 'min_data_in_leaf': 7758}. Best is trial 0 with value: 100.0.\n",
      "[I 2023-12-16 05:04:48,266] Trial 2 finished with value: 100.0 and parameters: {'lambda_l1': 847.7755538327732, 'lambda_l2': 112.00913992019356, 'learning_rate': 0.13292729072002507, 'num_leaves': 132, 'feature_fraction': 0.2565677129462475, 'min_data_in_leaf': 2067}. Best is trial 0 with value: 100.0.\n"
     ]
    },
    {
     "name": "stdout",
     "output_type": "stream",
     "text": [
      "Early stopping, best iteration is:\n",
      "[1]\tvalid_0's ER: 100\n",
      "Evaluated only: ER\n",
      "**************** regression_l1 ****************\n",
      "Training until validation scores don't improve for 87 rounds\n",
      "Early stopping, best iteration is:\n",
      "[1]\tvalid_0's ER: 100\n",
      "Evaluated only: ER\n",
      "**************** regression_l1 ****************\n",
      "Training until validation scores don't improve for 83 rounds\n"
     ]
    },
    {
     "name": "stderr",
     "output_type": "stream",
     "text": [
      "[I 2023-12-16 05:04:48,380] Trial 3 finished with value: 100.0 and parameters: {'lambda_l1': 401.3436643714069, 'lambda_l2': 730.618912400015, 'learning_rate': 0.1512955072685879, 'num_leaves': 940, 'feature_fraction': 0.3756200113984157, 'min_data_in_leaf': 5408}. Best is trial 0 with value: 100.0.\n",
      "[I 2023-12-16 05:04:48,471] Trial 4 finished with value: 100.0 and parameters: {'lambda_l1': 448.45217315243167, 'lambda_l2': 992.4721683129991, 'learning_rate': 0.29091389004993795, 'num_leaves': 848, 'feature_fraction': 0.9865175798277845, 'min_data_in_leaf': 6176}. Best is trial 0 with value: 100.0.\n"
     ]
    },
    {
     "name": "stdout",
     "output_type": "stream",
     "text": [
      "Early stopping, best iteration is:\n",
      "[1]\tvalid_0's ER: 100\n",
      "Evaluated only: ER\n",
      "**************** regression_l1 ****************\n",
      "Training until validation scores don't improve for 67 rounds\n",
      "Early stopping, best iteration is:\n",
      "[1]\tvalid_0's ER: 100\n",
      "Evaluated only: ER\n",
      "**************** regression_l1 ****************\n",
      "Training until validation scores don't improve for 70 rounds\n",
      "Early stopping, best iteration is:\n",
      "[1]\tvalid_0's ER: 100\n",
      "Evaluated only: ER\n"
     ]
    },
    {
     "name": "stderr",
     "output_type": "stream",
     "text": [
      "[I 2023-12-16 05:04:48,571] Trial 5 finished with value: 100.0 and parameters: {'lambda_l1': 551.3405765985667, 'lambda_l2': 786.1708336218738, 'learning_rate': 0.24743078754580566, 'num_leaves': 591, 'feature_fraction': 0.5425388625331828, 'min_data_in_leaf': 2782}. Best is trial 0 with value: 100.0.\n",
      "[I 2023-12-16 05:04:48,675] Trial 6 finished with value: 100.0 and parameters: {'lambda_l1': 550.4039540439791, 'lambda_l2': 115.26192161328485, 'learning_rate': 0.13949813946374925, 'num_leaves': 258, 'feature_fraction': 0.45925944935292035, 'min_data_in_leaf': 5808}. Best is trial 0 with value: 100.0.\n"
     ]
    },
    {
     "name": "stdout",
     "output_type": "stream",
     "text": [
      "**************** regression_l1 ****************\n",
      "Training until validation scores don't improve for 85 rounds\n",
      "Early stopping, best iteration is:\n",
      "[1]\tvalid_0's ER: 100\n",
      "Evaluated only: ER\n",
      "**************** regression_l1 ****************\n",
      "Training until validation scores don't improve for 117 rounds\n"
     ]
    },
    {
     "name": "stderr",
     "output_type": "stream",
     "text": [
      "[I 2023-12-16 05:04:48,827] Trial 7 finished with value: 100.0 and parameters: {'lambda_l1': 59.19101733257026, 'lambda_l2': 429.0873718714767, 'learning_rate': 0.07453951007824944, 'num_leaves': 601, 'feature_fraction': 0.6726356890791267, 'min_data_in_leaf': 1889}. Best is trial 0 with value: 100.0.\n"
     ]
    },
    {
     "name": "stdout",
     "output_type": "stream",
     "text": [
      "[100]\tvalid_0's ER: 100\n",
      "Early stopping, best iteration is:\n",
      "[1]\tvalid_0's ER: 100\n",
      "Evaluated only: ER\n",
      "**************** regression_l1 ****************\n",
      "Training until validation scores don't improve for 273 rounds\n",
      "[100]\tvalid_0's ER: 100\n"
     ]
    },
    {
     "name": "stderr",
     "output_type": "stream",
     "text": [
      "[I 2023-12-16 05:04:49,083] Trial 8 finished with value: 100.0 and parameters: {'lambda_l1': 866.4830179208889, 'lambda_l2': 116.24893161326699, 'learning_rate': 0.02234478600724389, 'num_leaves': 817, 'feature_fraction': 0.7443275193112866, 'min_data_in_leaf': 983}. Best is trial 0 with value: 100.0.\n",
      "[I 2023-12-16 05:04:49,181] Trial 9 finished with value: 100.0 and parameters: {'lambda_l1': 431.3153006309278, 'lambda_l2': 814.5456079731308, 'learning_rate': 0.12559065601970495, 'num_leaves': 64, 'feature_fraction': 0.5336128198937424, 'min_data_in_leaf': 2375}. Best is trial 0 with value: 100.0.\n"
     ]
    },
    {
     "name": "stdout",
     "output_type": "stream",
     "text": [
      "[200]\tvalid_0's ER: 100\n",
      "Early stopping, best iteration is:\n",
      "[1]\tvalid_0's ER: 100\n",
      "Evaluated only: ER\n",
      "**************** regression_l1 ****************\n",
      "Training until validation scores don't improve for 89 rounds\n",
      "Early stopping, best iteration is:\n",
      "[1]\tvalid_0's ER: 100\n",
      "Evaluated only: ER\n",
      "# Experimentos: 10\n",
      "Mejor experimento: {'lambda_l1': 694.6393746955473, 'lambda_l2': 771.1907789326692, 'learning_rate': 0.2776706496876823, 'num_leaves': 860, 'feature_fraction': 0.5691099462747659, 'min_data_in_leaf': 4060}\n",
      "=========================================== Cluster 44 ===========================================\n"
     ]
    },
    {
     "name": "stderr",
     "output_type": "stream",
     "text": [
      "[I 2023-12-16 05:04:58,856] A new study created in memory with name: no-name-cb56786a-c6af-4279-824e-14560215abc3\n"
     ]
    },
    {
     "name": "stdout",
     "output_type": "stream",
     "text": [
      "Periodos entrenar: [201701 201702 201703 201704 201705 201706 201707 201708 201709 201710\n",
      " 201711 201712 201801 201802 201803 201804 201805 201806 201807 201808\n",
      " 201809 201810 201811 201812 201901 201902 201903 201904 201905]\n",
      "Periodos validar: [201907]\n",
      "product_id a validar: 12180\n",
      "X_train: (324597, 120)\n",
      "y_train: (324597,)\n",
      "\n",
      "X_validate: (12180, 120)\n",
      "y_validate: (12180,)\n",
      "Optimizacion Bayesiana\n",
      "**************** regression_l1 ****************\n",
      "Training until validation scores don't improve for 93 rounds\n",
      "[100]\tvalid_0's ER: 93.71\n",
      "[200]\tvalid_0's ER: 92.61\n",
      "[300]\tvalid_0's ER: 92.59\n"
     ]
    },
    {
     "name": "stderr",
     "output_type": "stream",
     "text": [
      "[I 2023-12-16 05:05:10,903] Trial 0 finished with value: 92.58 and parameters: {'lambda_l1': 662.8898708935217, 'lambda_l2': 511.2058822650103, 'learning_rate': 0.11581251874921125, 'num_leaves': 777, 'feature_fraction': 0.40472068404439565, 'min_data_in_leaf': 2712}. Best is trial 0 with value: 92.58.\n"
     ]
    },
    {
     "name": "stdout",
     "output_type": "stream",
     "text": [
      "Early stopping, best iteration is:\n",
      "[278]\tvalid_0's ER: 92.58\n",
      "Evaluated only: ER\n",
      "**************** regression_l1 ****************\n",
      "Training until validation scores don't improve for 68 rounds\n",
      "[100]\tvalid_0's ER: 92.79\n",
      "[200]\tvalid_0's ER: 92.42\n",
      "[300]\tvalid_0's ER: 92\n",
      "[400]\tvalid_0's ER: 91.76\n"
     ]
    },
    {
     "name": "stderr",
     "output_type": "stream",
     "text": [
      "[I 2023-12-16 05:05:25,883] Trial 1 finished with value: 91.7 and parameters: {'lambda_l1': 436.81714605396525, 'lambda_l2': 519.391769068269, 'learning_rate': 0.2696149321357782, 'num_leaves': 618, 'feature_fraction': 0.41825775671246296, 'min_data_in_leaf': 6886}. Best is trial 1 with value: 91.7.\n"
     ]
    },
    {
     "name": "stdout",
     "output_type": "stream",
     "text": [
      "Early stopping, best iteration is:\n",
      "[412]\tvalid_0's ER: 91.7\n",
      "Evaluated only: ER\n",
      "**************** regression_l1 ****************\n",
      "Training until validation scores don't improve for 81 rounds\n",
      "[100]\tvalid_0's ER: 90.26\n",
      "[200]\tvalid_0's ER: 90.1\n",
      "[300]\tvalid_0's ER: 90.01\n"
     ]
    },
    {
     "name": "stderr",
     "output_type": "stream",
     "text": [
      "[I 2023-12-16 05:05:39,733] Trial 2 finished with value: 89.99 and parameters: {'lambda_l1': 456.4544099769952, 'lambda_l2': 106.26788208472193, 'learning_rate': 0.15839026872069822, 'num_leaves': 499, 'feature_fraction': 0.5402308420570614, 'min_data_in_leaf': 2341}. Best is trial 2 with value: 89.99.\n"
     ]
    },
    {
     "name": "stdout",
     "output_type": "stream",
     "text": [
      "Early stopping, best iteration is:\n",
      "[249]\tvalid_0's ER: 89.99\n",
      "Evaluated only: ER\n",
      "**************** regression_l1 ****************\n",
      "Training until validation scores don't improve for 131 rounds\n",
      "[100]\tvalid_0's ER: 93.57\n",
      "[200]\tvalid_0's ER: 92.15\n",
      "[300]\tvalid_0's ER: 92.14\n"
     ]
    },
    {
     "name": "stderr",
     "output_type": "stream",
     "text": [
      "[I 2023-12-16 05:05:48,335] Trial 3 finished with value: 92.14 and parameters: {'lambda_l1': 978.4630334157451, 'lambda_l2': 411.8411865656659, 'learning_rate': 0.061427345363511, 'num_leaves': 1016, 'feature_fraction': 0.2559147920006492, 'min_data_in_leaf': 2623}. Best is trial 2 with value: 89.99.\n"
     ]
    },
    {
     "name": "stdout",
     "output_type": "stream",
     "text": [
      "Early stopping, best iteration is:\n",
      "[211]\tvalid_0's ER: 92.14\n",
      "Evaluated only: ER\n",
      "**************** regression_l1 ****************\n",
      "Training until validation scores don't improve for 71 rounds\n",
      "[100]\tvalid_0's ER: 90.14\n",
      "[200]\tvalid_0's ER: 89.14\n",
      "[300]\tvalid_0's ER: 88.84\n",
      "[400]\tvalid_0's ER: 88.52\n",
      "[500]\tvalid_0's ER: 88.41\n",
      "[600]\tvalid_0's ER: 88.21\n",
      "[700]\tvalid_0's ER: 88.08\n",
      "[800]\tvalid_0's ER: 88.01\n",
      "[900]\tvalid_0's ER: 87.97\n",
      "Early stopping, best iteration is:\n",
      "[842]\tvalid_0's ER: 87.95\n",
      "Evaluated only: ER\n"
     ]
    },
    {
     "name": "stderr",
     "output_type": "stream",
     "text": [
      "[I 2023-12-16 05:06:39,035] Trial 4 finished with value: 87.95 and parameters: {'lambda_l1': 123.45999628962012, 'lambda_l2': 15.019589200394034, 'learning_rate': 0.2280626449622395, 'num_leaves': 970, 'feature_fraction': 0.6900166639812553, 'min_data_in_leaf': 3015}. Best is trial 4 with value: 87.95.\n"
     ]
    },
    {
     "name": "stdout",
     "output_type": "stream",
     "text": [
      "**************** regression_l1 ****************\n",
      "Training until validation scores don't improve for 76 rounds\n",
      "[100]\tvalid_0's ER: 93.15\n",
      "[200]\tvalid_0's ER: 92.18\n",
      "[300]\tvalid_0's ER: 91.98\n",
      "[400]\tvalid_0's ER: 91.82\n",
      "[500]\tvalid_0's ER: 91.69\n",
      "[600]\tvalid_0's ER: 91.65\n",
      "[700]\tvalid_0's ER: 91.53\n",
      "[800]\tvalid_0's ER: 91.45\n"
     ]
    },
    {
     "name": "stderr",
     "output_type": "stream",
     "text": [
      "[I 2023-12-16 05:07:01,455] Trial 5 finished with value: 91.42 and parameters: {'lambda_l1': 382.329172577647, 'lambda_l2': 283.49495989960695, 'learning_rate': 0.188307687379573, 'num_leaves': 67, 'feature_fraction': 0.3680553251004904, 'min_data_in_leaf': 7302}. Best is trial 4 with value: 87.95.\n"
     ]
    },
    {
     "name": "stdout",
     "output_type": "stream",
     "text": [
      "Early stopping, best iteration is:\n",
      "[734]\tvalid_0's ER: 91.42\n",
      "Evaluated only: ER\n",
      "**************** regression_l1 ****************\n",
      "Training until validation scores don't improve for 68 rounds\n",
      "[100]\tvalid_0's ER: 91.35\n"
     ]
    },
    {
     "name": "stderr",
     "output_type": "stream",
     "text": [
      "[I 2023-12-16 05:07:10,190] Trial 6 finished with value: 91.27 and parameters: {'lambda_l1': 617.328451567351, 'lambda_l2': 396.7041292517136, 'learning_rate': 0.2632166526653477, 'num_leaves': 305, 'feature_fraction': 0.7607881559518659, 'min_data_in_leaf': 2669}. Best is trial 4 with value: 87.95.\n"
     ]
    },
    {
     "name": "stdout",
     "output_type": "stream",
     "text": [
      "Early stopping, best iteration is:\n",
      "[55]\tvalid_0's ER: 91.27\n",
      "Evaluated only: ER\n",
      "**************** regression_l1 ****************\n",
      "Training until validation scores don't improve for 81 rounds\n",
      "[100]\tvalid_0's ER: 95.06\n"
     ]
    },
    {
     "name": "stderr",
     "output_type": "stream",
     "text": [
      "[I 2023-12-16 05:07:17,357] Trial 7 finished with value: 95.06 and parameters: {'lambda_l1': 398.78041960855614, 'lambda_l2': 570.9455523437783, 'learning_rate': 0.16104119808179845, 'num_leaves': 351, 'feature_fraction': 0.9668980739607875, 'min_data_in_leaf': 1921}. Best is trial 4 with value: 87.95.\n"
     ]
    },
    {
     "name": "stdout",
     "output_type": "stream",
     "text": [
      "Early stopping, best iteration is:\n",
      "[41]\tvalid_0's ER: 95.06\n",
      "Evaluated only: ER\n",
      "**************** regression_l1 ****************\n",
      "Training until validation scores don't improve for 84 rounds\n",
      "[100]\tvalid_0's ER: 92.72\n",
      "[200]\tvalid_0's ER: 92.52\n",
      "[300]\tvalid_0's ER: 92.35\n",
      "[400]\tvalid_0's ER: 92.26\n"
     ]
    },
    {
     "name": "stderr",
     "output_type": "stream",
     "text": [
      "[I 2023-12-16 05:07:29,866] Trial 8 finished with value: 92.25 and parameters: {'lambda_l1': 520.5779293038551, 'lambda_l2': 625.7346538158964, 'learning_rate': 0.14374064230378172, 'num_leaves': 112, 'feature_fraction': 0.250213641186378, 'min_data_in_leaf': 4116}. Best is trial 4 with value: 87.95.\n"
     ]
    },
    {
     "name": "stdout",
     "output_type": "stream",
     "text": [
      "Early stopping, best iteration is:\n",
      "[365]\tvalid_0's ER: 92.25\n",
      "Evaluated only: ER\n",
      "**************** regression_l1 ****************\n",
      "Training until validation scores don't improve for 93 rounds\n",
      "[100]\tvalid_0's ER: 93.31\n",
      "[200]\tvalid_0's ER: 92.76\n",
      "[300]\tvalid_0's ER: 92.73\n",
      "[400]\tvalid_0's ER: 92.64\n",
      "[500]\tvalid_0's ER: 92.61\n",
      "[600]\tvalid_0's ER: 92.59\n"
     ]
    },
    {
     "name": "stderr",
     "output_type": "stream",
     "text": [
      "[I 2023-12-16 05:07:48,099] Trial 9 finished with value: 92.55 and parameters: {'lambda_l1': 312.39269434789696, 'lambda_l2': 998.6324853294404, 'learning_rate': 0.11536732938129261, 'num_leaves': 442, 'feature_fraction': 0.22258683398664064, 'min_data_in_leaf': 6528}. Best is trial 4 with value: 87.95.\n"
     ]
    },
    {
     "name": "stdout",
     "output_type": "stream",
     "text": [
      "Early stopping, best iteration is:\n",
      "[560]\tvalid_0's ER: 92.55\n",
      "Evaluated only: ER\n",
      "# Experimentos: 10\n",
      "Mejor experimento: {'lambda_l1': 123.45999628962012, 'lambda_l2': 15.019589200394034, 'learning_rate': 0.2280626449622395, 'num_leaves': 970, 'feature_fraction': 0.6900166639812553, 'min_data_in_leaf': 3015}\n",
      "=========================================== Cluster 45 ===========================================\n"
     ]
    },
    {
     "name": "stderr",
     "output_type": "stream",
     "text": [
      "[I 2023-12-16 05:07:49,753] A new study created in memory with name: no-name-53aa5eb5-2273-4d71-886f-198e83427873\n"
     ]
    },
    {
     "name": "stdout",
     "output_type": "stream",
     "text": [
      "Periodos entrenar: [201701 201702 201703 201704 201705 201706 201707 201708 201709 201710\n",
      " 201711 201712 201801 201802 201803 201804 201805 201806 201807 201808\n",
      " 201809 201810 201811 201812 201901 201902 201903 201904 201905]\n",
      "Periodos validar: [201907]\n",
      "product_id a validar: 2320\n",
      "X_train: (46371, 120)\n",
      "y_train: (46371,)\n",
      "\n",
      "X_validate: (2320, 120)\n",
      "y_validate: (2320,)\n",
      "Optimizacion Bayesiana\n",
      "**************** regression_l1 ****************\n",
      "Training until validation scores don't improve for 124 rounds\n",
      "[100]\tvalid_0's ER: 85.19\n",
      "[200]\tvalid_0's ER: 80.63\n",
      "[300]\tvalid_0's ER: 80.35\n",
      "[400]\tvalid_0's ER: 80.06\n",
      "[500]\tvalid_0's ER: 79.81\n"
     ]
    },
    {
     "name": "stderr",
     "output_type": "stream",
     "text": [
      "[I 2023-12-16 05:07:55,867] Trial 0 finished with value: 79.81 and parameters: {'lambda_l1': 700.836219726713, 'lambda_l2': 763.4143428680287, 'learning_rate': 0.06694424523364619, 'num_leaves': 701, 'feature_fraction': 0.5972731097452375, 'min_data_in_leaf': 385}. Best is trial 0 with value: 79.81.\n"
     ]
    },
    {
     "name": "stdout",
     "output_type": "stream",
     "text": [
      "[600]\tvalid_0's ER: 79.81\n",
      "Early stopping, best iteration is:\n",
      "[489]\tvalid_0's ER: 79.81\n",
      "Evaluated only: ER\n",
      "**************** regression_l1 ****************\n",
      "Training until validation scores don't improve for 74 rounds\n"
     ]
    },
    {
     "name": "stderr",
     "output_type": "stream",
     "text": [
      "[I 2023-12-16 05:07:56,815] Trial 1 finished with value: 94.29 and parameters: {'lambda_l1': 25.22501074268313, 'lambda_l2': 237.40271460603336, 'learning_rate': 0.20523136134296166, 'num_leaves': 669, 'feature_fraction': 0.613340319517315, 'min_data_in_leaf': 2189}. Best is trial 0 with value: 79.81.\n"
     ]
    },
    {
     "name": "stdout",
     "output_type": "stream",
     "text": [
      "Early stopping, best iteration is:\n",
      "[7]\tvalid_0's ER: 94.29\n",
      "Evaluated only: ER\n",
      "**************** regression_l1 ****************\n",
      "Training until validation scores don't improve for 70 rounds\n"
     ]
    },
    {
     "name": "stderr",
     "output_type": "stream",
     "text": [
      "[I 2023-12-16 05:07:57,506] Trial 2 finished with value: 100.0 and parameters: {'lambda_l1': 744.2538906162633, 'lambda_l2': 181.71120972107414, 'learning_rate': 0.23943963122766507, 'num_leaves': 80, 'feature_fraction': 0.8313378355378498, 'min_data_in_leaf': 5165}. Best is trial 0 with value: 79.81.\n"
     ]
    },
    {
     "name": "stdout",
     "output_type": "stream",
     "text": [
      "Early stopping, best iteration is:\n",
      "[1]\tvalid_0's ER: 100\n",
      "Evaluated only: ER\n",
      "**************** regression_l1 ****************\n",
      "Training until validation scores don't improve for 69 rounds\n",
      "[100]\tvalid_0's ER: 88.71\n",
      "[200]\tvalid_0's ER: 86.37\n"
     ]
    },
    {
     "name": "stderr",
     "output_type": "stream",
     "text": [
      "[I 2023-12-16 05:08:02,890] Trial 3 finished with value: 85.99 and parameters: {'lambda_l1': 197.59618520041477, 'lambda_l2': 731.5748182408674, 'learning_rate': 0.25916638316803736, 'num_leaves': 855, 'feature_fraction': 0.9715201328558472, 'min_data_in_leaf': 241}. Best is trial 0 with value: 79.81.\n"
     ]
    },
    {
     "name": "stdout",
     "output_type": "stream",
     "text": [
      "Early stopping, best iteration is:\n",
      "[219]\tvalid_0's ER: 85.99\n",
      "Evaluated only: ER\n",
      "**************** regression_l1 ****************\n",
      "Training until validation scores don't improve for 72 rounds\n"
     ]
    },
    {
     "name": "stderr",
     "output_type": "stream",
     "text": [
      "[I 2023-12-16 05:08:03,532] Trial 4 finished with value: 98.59 and parameters: {'lambda_l1': 401.39380388146463, 'lambda_l2': 537.2514189046825, 'learning_rate': 0.22153833711077758, 'num_leaves': 48, 'feature_fraction': 0.2773407484336775, 'min_data_in_leaf': 3759}. Best is trial 0 with value: 79.81.\n"
     ]
    },
    {
     "name": "stdout",
     "output_type": "stream",
     "text": [
      "Early stopping, best iteration is:\n",
      "[17]\tvalid_0's ER: 98.59\n",
      "Evaluated only: ER\n",
      "**************** regression_l1 ****************\n",
      "Training until validation scores don't improve for 113 rounds\n"
     ]
    },
    {
     "name": "stderr",
     "output_type": "stream",
     "text": [
      "[I 2023-12-16 05:08:04,529] Trial 5 finished with value: 100.0 and parameters: {'lambda_l1': 839.884099359478, 'lambda_l2': 13.420888055251211, 'learning_rate': 0.07854301541012122, 'num_leaves': 518, 'feature_fraction': 0.8667365179062942, 'min_data_in_leaf': 1755}. Best is trial 0 with value: 79.81.\n"
     ]
    },
    {
     "name": "stdout",
     "output_type": "stream",
     "text": [
      "[100]\tvalid_0's ER: 100\n",
      "Early stopping, best iteration is:\n",
      "[1]\tvalid_0's ER: 100\n",
      "Evaluated only: ER\n",
      "**************** regression_l1 ****************\n",
      "Training until validation scores don't improve for 78 rounds\n",
      "[100]\tvalid_0's ER: 86.06\n"
     ]
    },
    {
     "name": "stderr",
     "output_type": "stream",
     "text": [
      "[I 2023-12-16 05:08:05,678] Trial 6 finished with value: 85.97 and parameters: {'lambda_l1': 382.56762143298715, 'lambda_l2': 675.7123884256204, 'learning_rate': 0.1777534954818534, 'num_leaves': 948, 'feature_fraction': 0.3595205908454542, 'min_data_in_leaf': 1301}. Best is trial 0 with value: 79.81.\n"
     ]
    },
    {
     "name": "stdout",
     "output_type": "stream",
     "text": [
      "Early stopping, best iteration is:\n",
      "[90]\tvalid_0's ER: 85.97\n",
      "Evaluated only: ER\n",
      "**************** regression_l1 ****************\n",
      "Training until validation scores don't improve for 90 rounds\n"
     ]
    },
    {
     "name": "stderr",
     "output_type": "stream",
     "text": [
      "[I 2023-12-16 05:08:06,364] Trial 7 finished with value: 99.8 and parameters: {'lambda_l1': 23.044704348449187, 'lambda_l2': 239.77896670386744, 'learning_rate': 0.12246869804602688, 'num_leaves': 577, 'feature_fraction': 0.3432548846531315, 'min_data_in_leaf': 5667}. Best is trial 0 with value: 79.81.\n"
     ]
    },
    {
     "name": "stdout",
     "output_type": "stream",
     "text": [
      "Early stopping, best iteration is:\n",
      "[1]\tvalid_0's ER: 99.8\n",
      "Evaluated only: ER\n",
      "**************** regression_l1 ****************\n",
      "Training until validation scores don't improve for 93 rounds\n",
      "[100]\tvalid_0's ER: 96.63\n",
      "[200]\tvalid_0's ER: 97.4\n",
      "Early stopping, best iteration is:\n",
      "[139]\tvalid_0's ER: 95.97\n",
      "Evaluated only: ER\n"
     ]
    },
    {
     "name": "stderr",
     "output_type": "stream",
     "text": [
      "[I 2023-12-16 05:08:07,983] Trial 8 finished with value: 95.97 and parameters: {'lambda_l1': 3.1392768493264667, 'lambda_l2': 626.2580913138346, 'learning_rate': 0.11569453065902953, 'num_leaves': 707, 'feature_fraction': 0.45985241319073905, 'min_data_in_leaf': 3035}. Best is trial 0 with value: 79.81.\n"
     ]
    },
    {
     "name": "stdout",
     "output_type": "stream",
     "text": [
      "**************** regression_l1 ****************\n",
      "Training until validation scores don't improve for 67 rounds\n",
      "[100]\tvalid_0's ER: 74.83\n",
      "[200]\tvalid_0's ER: 74.76\n",
      "Early stopping, best iteration is:\n",
      "[144]\tvalid_0's ER: 74.2\n",
      "Evaluated only: ER\n"
     ]
    },
    {
     "name": "stderr",
     "output_type": "stream",
     "text": [
      "[I 2023-12-16 05:08:11,164] Trial 9 finished with value: 74.2 and parameters: {'lambda_l1': 140.5764356957877, 'lambda_l2': 607.9840504059739, 'learning_rate': 0.2843318870366805, 'num_leaves': 593, 'feature_fraction': 0.5042327725537854, 'min_data_in_leaf': 48}. Best is trial 9 with value: 74.2.\n"
     ]
    },
    {
     "name": "stdout",
     "output_type": "stream",
     "text": [
      "# Experimentos: 10\n",
      "Mejor experimento: {'lambda_l1': 140.5764356957877, 'lambda_l2': 607.9840504059739, 'learning_rate': 0.2843318870366805, 'num_leaves': 593, 'feature_fraction': 0.5042327725537854, 'min_data_in_leaf': 48}\n",
      "=========================================== Cluster 46 ===========================================\n"
     ]
    },
    {
     "name": "stderr",
     "output_type": "stream",
     "text": [
      "[I 2023-12-16 05:08:12,134] A new study created in memory with name: no-name-596e2f9e-4117-4b74-80f6-590b11002a25\n"
     ]
    },
    {
     "name": "stdout",
     "output_type": "stream",
     "text": [
      "Periodos entrenar: [201701 201702 201703 201704 201705 201706 201707 201708 201709 201710\n",
      " 201711 201712 201801 201802 201803 201804 201805 201806 201807 201808\n",
      " 201809 201810 201811 201812 201901 201902 201903 201904 201905]\n",
      "Periodos validar: [201907]\n",
      "product_id a validar: 1160\n",
      "X_train: (30481, 120)\n",
      "y_train: (30481,)\n",
      "\n",
      "X_validate: (1160, 120)\n",
      "y_validate: (1160,)\n",
      "Optimizacion Bayesiana\n",
      "**************** regression_l1 ****************\n",
      "Training until validation scores don't improve for 87 rounds\n",
      "Early stopping, best iteration is:\n",
      "[1]\tvalid_0's ER: 100\n",
      "Evaluated only: ER\n"
     ]
    },
    {
     "name": "stderr",
     "output_type": "stream",
     "text": [
      "[I 2023-12-16 05:08:12,555] Trial 0 finished with value: 100.0 and parameters: {'lambda_l1': 312.3790533965491, 'lambda_l2': 194.70761190362938, 'learning_rate': 0.13328959861192513, 'num_leaves': 413, 'feature_fraction': 0.34541755554442055, 'min_data_in_leaf': 5176}. Best is trial 0 with value: 100.0.\n"
     ]
    },
    {
     "name": "stdout",
     "output_type": "stream",
     "text": [
      "**************** regression_l1 ****************\n",
      "Training until validation scores don't improve for 159 rounds\n",
      "[100]\tvalid_0's ER: 90.63\n",
      "[200]\tvalid_0's ER: 90.39\n",
      "[300]\tvalid_0's ER: 90.17\n",
      "[400]\tvalid_0's ER: 89.97\n",
      "[500]\tvalid_0's ER: 89.06\n",
      "[600]\tvalid_0's ER: 89.01\n",
      "[700]\tvalid_0's ER: 88.92\n",
      "[800]\tvalid_0's ER: 88.77\n",
      "[900]\tvalid_0's ER: 88.51\n",
      "[1000]\tvalid_0's ER: 88.51\n",
      "[1100]\tvalid_0's ER: 88.13\n",
      "[1200]\tvalid_0's ER: 88.1\n",
      "[1300]\tvalid_0's ER: 87.82\n",
      "[1400]\tvalid_0's ER: 87.63\n",
      "[1500]\tvalid_0's ER: 87.62\n",
      "[1600]\tvalid_0's ER: 87.62\n",
      "[1700]\tvalid_0's ER: 87.58\n",
      "[1800]\tvalid_0's ER: 87.56\n",
      "[1900]\tvalid_0's ER: 87.54\n",
      "[2000]\tvalid_0's ER: 87.53\n",
      "[2100]\tvalid_0's ER: 87.52\n"
     ]
    },
    {
     "name": "stderr",
     "output_type": "stream",
     "text": [
      "[I 2023-12-16 05:08:28,855] Trial 1 finished with value: 87.52 and parameters: {'lambda_l1': 2.8460972083618197, 'lambda_l2': 440.1163088857838, 'learning_rate': 0.04563992604024553, 'num_leaves': 254, 'feature_fraction': 0.8484280715249433, 'min_data_in_leaf': 935}. Best is trial 1 with value: 87.52.\n"
     ]
    },
    {
     "name": "stdout",
     "output_type": "stream",
     "text": [
      "Early stopping, best iteration is:\n",
      "[2021]\tvalid_0's ER: 87.52\n",
      "Evaluated only: ER\n",
      "**************** regression_l1 ****************\n",
      "Training until validation scores don't improve for 82 rounds\n"
     ]
    },
    {
     "name": "stderr",
     "output_type": "stream",
     "text": [
      "[I 2023-12-16 05:08:29,348] Trial 2 finished with value: 100.0 and parameters: {'lambda_l1': 422.3202135694041, 'lambda_l2': 401.8310054114098, 'learning_rate': 0.15441707346174055, 'num_leaves': 642, 'feature_fraction': 0.6241765015917056, 'min_data_in_leaf': 4764}. Best is trial 1 with value: 87.52.\n"
     ]
    },
    {
     "name": "stdout",
     "output_type": "stream",
     "text": [
      "Early stopping, best iteration is:\n",
      "[1]\tvalid_0's ER: 100\n",
      "Evaluated only: ER\n",
      "**************** regression_l1 ****************\n",
      "Training until validation scores don't improve for 67 rounds\n"
     ]
    },
    {
     "name": "stderr",
     "output_type": "stream",
     "text": [
      "[I 2023-12-16 05:08:29,821] Trial 3 finished with value: 100.0 and parameters: {'lambda_l1': 748.514566145148, 'lambda_l2': 980.1493388035674, 'learning_rate': 0.2914129223071177, 'num_leaves': 517, 'feature_fraction': 0.7890488961450683, 'min_data_in_leaf': 6601}. Best is trial 1 with value: 87.52.\n"
     ]
    },
    {
     "name": "stdout",
     "output_type": "stream",
     "text": [
      "Early stopping, best iteration is:\n",
      "[1]\tvalid_0's ER: 100\n",
      "Evaluated only: ER\n",
      "**************** regression_l1 ****************\n",
      "Training until validation scores don't improve for 82 rounds\n"
     ]
    },
    {
     "name": "stderr",
     "output_type": "stream",
     "text": [
      "[I 2023-12-16 05:08:30,348] Trial 4 finished with value: 100.0 and parameters: {'lambda_l1': 16.905677129141374, 'lambda_l2': 948.4172774349829, 'learning_rate': 0.15401475416654273, 'num_leaves': 429, 'feature_fraction': 0.9695347184258569, 'min_data_in_leaf': 4948}. Best is trial 1 with value: 87.52.\n"
     ]
    },
    {
     "name": "stdout",
     "output_type": "stream",
     "text": [
      "Early stopping, best iteration is:\n",
      "[1]\tvalid_0's ER: 100\n",
      "Evaluated only: ER\n",
      "**************** regression_l1 ****************\n",
      "Training until validation scores don't improve for 100 rounds\n"
     ]
    },
    {
     "name": "stderr",
     "output_type": "stream",
     "text": [
      "[I 2023-12-16 05:08:31,020] Trial 5 finished with value: 100.0 and parameters: {'lambda_l1': 358.51369659315355, 'lambda_l2': 184.78838601739213, 'learning_rate': 0.0991184692832164, 'num_leaves': 519, 'feature_fraction': 0.4679164306045833, 'min_data_in_leaf': 381}. Best is trial 1 with value: 87.52.\n"
     ]
    },
    {
     "name": "stdout",
     "output_type": "stream",
     "text": [
      "[100]\tvalid_0's ER: 100\n",
      "Early stopping, best iteration is:\n",
      "[1]\tvalid_0's ER: 100\n",
      "Evaluated only: ER\n",
      "**************** regression_l1 ****************\n",
      "Training until validation scores don't improve for 92 rounds\n"
     ]
    },
    {
     "name": "stderr",
     "output_type": "stream",
     "text": [
      "[I 2023-12-16 05:08:31,589] Trial 6 finished with value: 100.0 and parameters: {'lambda_l1': 516.6347187691734, 'lambda_l2': 884.6911130218732, 'learning_rate': 0.11795981333885355, 'num_leaves': 853, 'feature_fraction': 0.8740774273163581, 'min_data_in_leaf': 889}. Best is trial 1 with value: 87.52.\n"
     ]
    },
    {
     "name": "stdout",
     "output_type": "stream",
     "text": [
      "Early stopping, best iteration is:\n",
      "[1]\tvalid_0's ER: 100\n",
      "Evaluated only: ER\n",
      "**************** regression_l1 ****************\n",
      "Training until validation scores don't improve for 70 rounds\n"
     ]
    },
    {
     "name": "stderr",
     "output_type": "stream",
     "text": [
      "[I 2023-12-16 05:08:32,040] Trial 7 finished with value: 100.0 and parameters: {'lambda_l1': 788.4064686556043, 'lambda_l2': 795.5124311534887, 'learning_rate': 0.24641263536123817, 'num_leaves': 387, 'feature_fraction': 0.7087839347950387, 'min_data_in_leaf': 5999}. Best is trial 1 with value: 87.52.\n"
     ]
    },
    {
     "name": "stdout",
     "output_type": "stream",
     "text": [
      "Early stopping, best iteration is:\n",
      "[1]\tvalid_0's ER: 100\n",
      "Evaluated only: ER\n",
      "**************** regression_l1 ****************\n",
      "Training until validation scores don't improve for 96 rounds\n"
     ]
    },
    {
     "name": "stderr",
     "output_type": "stream",
     "text": [
      "[I 2023-12-16 05:08:32,465] Trial 8 finished with value: 100.0 and parameters: {'lambda_l1': 377.87947792674646, 'lambda_l2': 916.9601668854216, 'learning_rate': 0.10728422397412424, 'num_leaves': 423, 'feature_fraction': 0.33125374150923603, 'min_data_in_leaf': 7095}. Best is trial 1 with value: 87.52.\n"
     ]
    },
    {
     "name": "stdout",
     "output_type": "stream",
     "text": [
      "Early stopping, best iteration is:\n",
      "[1]\tvalid_0's ER: 100\n",
      "Evaluated only: ER\n",
      "**************** regression_l1 ****************\n",
      "Training until validation scores don't improve for 116 rounds\n"
     ]
    },
    {
     "name": "stderr",
     "output_type": "stream",
     "text": [
      "[I 2023-12-16 05:08:32,957] Trial 9 finished with value: 100.0 and parameters: {'lambda_l1': 914.912386850997, 'lambda_l2': 111.60339737646984, 'learning_rate': 0.07464407097686888, 'num_leaves': 592, 'feature_fraction': 0.39658048989248873, 'min_data_in_leaf': 6876}. Best is trial 1 with value: 87.52.\n"
     ]
    },
    {
     "name": "stdout",
     "output_type": "stream",
     "text": [
      "[100]\tvalid_0's ER: 100\n",
      "Early stopping, best iteration is:\n",
      "[1]\tvalid_0's ER: 100\n",
      "Evaluated only: ER\n",
      "# Experimentos: 10\n",
      "Mejor experimento: {'lambda_l1': 2.8460972083618197, 'lambda_l2': 440.1163088857838, 'learning_rate': 0.04563992604024553, 'num_leaves': 254, 'feature_fraction': 0.8484280715249433, 'min_data_in_leaf': 935}\n",
      "=========================================== Cluster 47 ===========================================\n"
     ]
    },
    {
     "name": "stderr",
     "output_type": "stream",
     "text": [
      "[I 2023-12-16 05:08:34,802] A new study created in memory with name: no-name-d5b45f04-9874-4f52-b818-b6adddbde3f4\n"
     ]
    },
    {
     "name": "stdout",
     "output_type": "stream",
     "text": [
      "Periodos entrenar: [201710 201711 201712 201801 201802 201803 201804 201805 201806 201807\n",
      " 201808 201809 201810 201811 201812 201901 201902 201903 201904 201905]\n",
      "Periodos validar: [201907]\n",
      "product_id a validar: 4060\n",
      "X_train: (50777, 120)\n",
      "y_train: (50777,)\n",
      "\n",
      "X_validate: (4060, 120)\n",
      "y_validate: (4060,)\n",
      "Optimizacion Bayesiana\n",
      "**************** regression_l1 ****************\n",
      "Training until validation scores don't improve for 67 rounds\n"
     ]
    },
    {
     "name": "stderr",
     "output_type": "stream",
     "text": [
      "[I 2023-12-16 05:08:35,584] Trial 0 finished with value: 100.0 and parameters: {'lambda_l1': 472.0244173877761, 'lambda_l2': 531.1755869418216, 'learning_rate': 0.2899677633644259, 'num_leaves': 48, 'feature_fraction': 0.7702220299423705, 'min_data_in_leaf': 3915}. Best is trial 0 with value: 100.0.\n"
     ]
    },
    {
     "name": "stdout",
     "output_type": "stream",
     "text": [
      "Early stopping, best iteration is:\n",
      "[1]\tvalid_0's ER: 100\n",
      "Evaluated only: ER\n",
      "**************** regression_l1 ****************\n",
      "Training until validation scores don't improve for 88 rounds\n"
     ]
    },
    {
     "name": "stderr",
     "output_type": "stream",
     "text": [
      "[I 2023-12-16 05:08:36,366] Trial 1 finished with value: 100.0 and parameters: {'lambda_l1': 475.412273616051, 'lambda_l2': 672.0363128537821, 'learning_rate': 0.13154521427740026, 'num_leaves': 265, 'feature_fraction': 0.41635838627140853, 'min_data_in_leaf': 6301}. Best is trial 0 with value: 100.0.\n"
     ]
    },
    {
     "name": "stdout",
     "output_type": "stream",
     "text": [
      "Early stopping, best iteration is:\n",
      "[1]\tvalid_0's ER: 100\n",
      "Evaluated only: ER\n",
      "**************** regression_l1 ****************\n",
      "Training until validation scores don't improve for 104 rounds\n"
     ]
    },
    {
     "name": "stderr",
     "output_type": "stream",
     "text": [
      "[I 2023-12-16 05:08:37,219] Trial 2 finished with value: 100.0 and parameters: {'lambda_l1': 938.4905491103975, 'lambda_l2': 836.7714171660762, 'learning_rate': 0.091254335768261, 'num_leaves': 160, 'feature_fraction': 0.41974553062800424, 'min_data_in_leaf': 6231}. Best is trial 0 with value: 100.0.\n"
     ]
    },
    {
     "name": "stdout",
     "output_type": "stream",
     "text": [
      "[100]\tvalid_0's ER: 100\n",
      "Early stopping, best iteration is:\n",
      "[1]\tvalid_0's ER: 100\n",
      "Evaluated only: ER\n",
      "**************** regression_l1 ****************\n",
      "Training until validation scores don't improve for 68 rounds\n"
     ]
    },
    {
     "name": "stderr",
     "output_type": "stream",
     "text": [
      "[I 2023-12-16 05:08:38,078] Trial 3 finished with value: 100.0 and parameters: {'lambda_l1': 176.51180900713638, 'lambda_l2': 539.1556518890487, 'learning_rate': 0.26769882828517283, 'num_leaves': 423, 'feature_fraction': 0.8282352924983012, 'min_data_in_leaf': 1613}. Best is trial 0 with value: 100.0.\n"
     ]
    },
    {
     "name": "stdout",
     "output_type": "stream",
     "text": [
      "Early stopping, best iteration is:\n",
      "[1]\tvalid_0's ER: 100\n",
      "Evaluated only: ER\n",
      "**************** regression_l1 ****************\n",
      "Training until validation scores don't improve for 85 rounds\n"
     ]
    },
    {
     "name": "stderr",
     "output_type": "stream",
     "text": [
      "[I 2023-12-16 05:08:38,754] Trial 4 finished with value: 100.0 and parameters: {'lambda_l1': 699.9141959661213, 'lambda_l2': 638.9240632668461, 'learning_rate': 0.14010112460031166, 'num_leaves': 511, 'feature_fraction': 0.21420631634170473, 'min_data_in_leaf': 1393}. Best is trial 0 with value: 100.0.\n"
     ]
    },
    {
     "name": "stdout",
     "output_type": "stream",
     "text": [
      "Early stopping, best iteration is:\n",
      "[1]\tvalid_0's ER: 100\n",
      "Evaluated only: ER\n",
      "**************** regression_l1 ****************\n",
      "Training until validation scores don't improve for 75 rounds\n"
     ]
    },
    {
     "name": "stderr",
     "output_type": "stream",
     "text": [
      "[I 2023-12-16 05:08:39,582] Trial 5 finished with value: 100.0 and parameters: {'lambda_l1': 530.1603393154104, 'lambda_l2': 941.797115725722, 'learning_rate': 0.19829634097880958, 'num_leaves': 55, 'feature_fraction': 0.8342564569326703, 'min_data_in_leaf': 4398}. Best is trial 0 with value: 100.0.\n"
     ]
    },
    {
     "name": "stdout",
     "output_type": "stream",
     "text": [
      "Early stopping, best iteration is:\n",
      "[1]\tvalid_0's ER: 100\n",
      "Evaluated only: ER\n",
      "**************** regression_l1 ****************\n",
      "Training until validation scores don't improve for 87 rounds\n"
     ]
    },
    {
     "name": "stderr",
     "output_type": "stream",
     "text": [
      "[I 2023-12-16 05:08:40,233] Trial 6 finished with value: 100.0 and parameters: {'lambda_l1': 958.1703974849898, 'lambda_l2': 959.3695516355807, 'learning_rate': 0.13451924389573958, 'num_leaves': 334, 'feature_fraction': 0.21185123609723383, 'min_data_in_leaf': 5150}. Best is trial 0 with value: 100.0.\n"
     ]
    },
    {
     "name": "stdout",
     "output_type": "stream",
     "text": [
      "Early stopping, best iteration is:\n",
      "[1]\tvalid_0's ER: 100\n",
      "Evaluated only: ER\n",
      "**************** regression_l1 ****************\n",
      "Training until validation scores don't improve for 91 rounds\n"
     ]
    },
    {
     "name": "stderr",
     "output_type": "stream",
     "text": [
      "[I 2023-12-16 05:08:41,090] Trial 7 finished with value: 100.0 and parameters: {'lambda_l1': 172.58484449674148, 'lambda_l2': 886.2796945434169, 'learning_rate': 0.12120077657474301, 'num_leaves': 79, 'feature_fraction': 0.5224853750261538, 'min_data_in_leaf': 5738}. Best is trial 0 with value: 100.0.\n"
     ]
    },
    {
     "name": "stdout",
     "output_type": "stream",
     "text": [
      "Early stopping, best iteration is:\n",
      "[1]\tvalid_0's ER: 100\n",
      "Evaluated only: ER\n",
      "**************** regression_l1 ****************\n",
      "Training until validation scores don't improve for 66 rounds\n"
     ]
    },
    {
     "name": "stderr",
     "output_type": "stream",
     "text": [
      "[I 2023-12-16 05:08:41,695] Trial 8 finished with value: 100.0 and parameters: {'lambda_l1': 732.2115944060806, 'lambda_l2': 395.6288867175105, 'learning_rate': 0.2972367969150911, 'num_leaves': 840, 'feature_fraction': 0.23231256340527617, 'min_data_in_leaf': 5643}. Best is trial 0 with value: 100.0.\n"
     ]
    },
    {
     "name": "stdout",
     "output_type": "stream",
     "text": [
      "Early stopping, best iteration is:\n",
      "[1]\tvalid_0's ER: 100\n",
      "Evaluated only: ER\n",
      "**************** regression_l1 ****************\n",
      "Training until validation scores don't improve for 91 rounds\n"
     ]
    },
    {
     "name": "stderr",
     "output_type": "stream",
     "text": [
      "[I 2023-12-16 05:08:42,605] Trial 9 finished with value: 100.0 and parameters: {'lambda_l1': 437.88064597035725, 'lambda_l2': 652.7487671975972, 'learning_rate': 0.1212574397169541, 'num_leaves': 51, 'feature_fraction': 0.8109093593451762, 'min_data_in_leaf': 7751}. Best is trial 0 with value: 100.0.\n"
     ]
    },
    {
     "name": "stdout",
     "output_type": "stream",
     "text": [
      "Early stopping, best iteration is:\n",
      "[1]\tvalid_0's ER: 100\n",
      "Evaluated only: ER\n",
      "# Experimentos: 10\n",
      "Mejor experimento: {'lambda_l1': 472.0244173877761, 'lambda_l2': 531.1755869418216, 'learning_rate': 0.2899677633644259, 'num_leaves': 48, 'feature_fraction': 0.7702220299423705, 'min_data_in_leaf': 3915}\n",
      "=========================================== Cluster 48 ===========================================\n"
     ]
    },
    {
     "name": "stderr",
     "output_type": "stream",
     "text": [
      "[I 2023-12-16 05:08:43,557] A new study created in memory with name: no-name-fe5d2c45-8aed-46ef-a517-86b99ce1fd80\n"
     ]
    },
    {
     "name": "stdout",
     "output_type": "stream",
     "text": [
      "Periodos entrenar: [201811 201812 201901 201902 201903 201904 201905]\n",
      "Periodos validar: [201907]\n",
      "product_id a validar: 2900\n",
      "X_train: (19710, 120)\n",
      "y_train: (19710,)\n",
      "\n",
      "X_validate: (2900, 120)\n",
      "y_validate: (2900,)\n",
      "Optimizacion Bayesiana\n",
      "**************** regression_l1 ****************\n",
      "Training until validation scores don't improve for 69 rounds\n"
     ]
    },
    {
     "name": "stderr",
     "output_type": "stream",
     "text": [
      "[I 2023-12-16 05:08:43,925] Trial 0 finished with value: 100.0 and parameters: {'lambda_l1': 524.3620549389989, 'lambda_l2': 685.4034986892361, 'learning_rate': 0.2603132373734974, 'num_leaves': 45, 'feature_fraction': 0.8861848838468345, 'min_data_in_leaf': 5625}. Best is trial 0 with value: 100.0.\n"
     ]
    },
    {
     "name": "stdout",
     "output_type": "stream",
     "text": [
      "Early stopping, best iteration is:\n",
      "[1]\tvalid_0's ER: 100\n",
      "Evaluated only: ER\n",
      "**************** regression_l1 ****************\n",
      "Training until validation scores don't improve for 73 rounds\n"
     ]
    },
    {
     "name": "stderr",
     "output_type": "stream",
     "text": [
      "[I 2023-12-16 05:08:45,071] Trial 1 finished with value: 100.0 and parameters: {'lambda_l1': 65.49718384072722, 'lambda_l2': 655.1295403519489, 'learning_rate': 0.2091267915473308, 'num_leaves': 988, 'feature_fraction': 0.5448135546638442, 'min_data_in_leaf': 2262}. Best is trial 0 with value: 100.0.\n"
     ]
    },
    {
     "name": "stdout",
     "output_type": "stream",
     "text": [
      "Early stopping, best iteration is:\n",
      "[1]\tvalid_0's ER: 100\n",
      "Evaluated only: ER\n",
      "**************** regression_l1 ****************\n",
      "Training until validation scores don't improve for 71 rounds\n"
     ]
    },
    {
     "name": "stderr",
     "output_type": "stream",
     "text": [
      "[I 2023-12-16 05:08:45,515] Trial 2 finished with value: 100.0 and parameters: {'lambda_l1': 23.161607285926976, 'lambda_l2': 908.2794558318766, 'learning_rate': 0.23658904053523833, 'num_leaves': 709, 'feature_fraction': 0.9459965275783946, 'min_data_in_leaf': 648}. Best is trial 0 with value: 100.0.\n"
     ]
    },
    {
     "name": "stdout",
     "output_type": "stream",
     "text": [
      "Early stopping, best iteration is:\n",
      "[1]\tvalid_0's ER: 100\n",
      "Evaluated only: ER\n",
      "**************** regression_l1 ****************\n",
      "Training until validation scores don't improve for 69 rounds\n"
     ]
    },
    {
     "name": "stderr",
     "output_type": "stream",
     "text": [
      "[I 2023-12-16 05:08:45,870] Trial 3 finished with value: 100.0 and parameters: {'lambda_l1': 51.18705563413417, 'lambda_l2': 526.3111516207352, 'learning_rate': 0.2537612769050449, 'num_leaves': 133, 'feature_fraction': 0.9631206291188652, 'min_data_in_leaf': 4667}. Best is trial 0 with value: 100.0.\n"
     ]
    },
    {
     "name": "stdout",
     "output_type": "stream",
     "text": [
      "Early stopping, best iteration is:\n",
      "[1]\tvalid_0's ER: 100\n",
      "Evaluated only: ER\n",
      "**************** regression_l1 ****************\n",
      "Training until validation scores don't improve for 86 rounds\n"
     ]
    },
    {
     "name": "stderr",
     "output_type": "stream",
     "text": [
      "[I 2023-12-16 05:08:46,326] Trial 4 finished with value: 100.0 and parameters: {'lambda_l1': 982.8176435790834, 'lambda_l2': 37.299538700018346, 'learning_rate': 0.13704319399393192, 'num_leaves': 848, 'feature_fraction': 0.9342836321639376, 'min_data_in_leaf': 3901}. Best is trial 0 with value: 100.0.\n"
     ]
    },
    {
     "name": "stdout",
     "output_type": "stream",
     "text": [
      "Early stopping, best iteration is:\n",
      "[1]\tvalid_0's ER: 100\n",
      "Evaluated only: ER\n",
      "**************** regression_l1 ****************\n",
      "Training until validation scores don't improve for 263 rounds\n",
      "[100]\tvalid_0's ER: 100\n"
     ]
    },
    {
     "name": "stderr",
     "output_type": "stream",
     "text": [
      "[I 2023-12-16 05:08:47,185] Trial 5 finished with value: 100.0 and parameters: {'lambda_l1': 227.74961861989408, 'lambda_l2': 328.41639942372046, 'learning_rate': 0.023469520313145562, 'num_leaves': 943, 'feature_fraction': 0.841762789099348, 'min_data_in_leaf': 7627}. Best is trial 0 with value: 100.0.\n"
     ]
    },
    {
     "name": "stdout",
     "output_type": "stream",
     "text": [
      "[200]\tvalid_0's ER: 100\n",
      "Early stopping, best iteration is:\n",
      "[1]\tvalid_0's ER: 100\n",
      "Evaluated only: ER\n",
      "**************** regression_l1 ****************\n",
      "Training until validation scores don't improve for 99 rounds\n"
     ]
    },
    {
     "name": "stderr",
     "output_type": "stream",
     "text": [
      "[I 2023-12-16 05:08:47,609] Trial 6 finished with value: 100.0 and parameters: {'lambda_l1': 820.0387370475984, 'lambda_l2': 303.95345025890055, 'learning_rate': 0.10097481083553314, 'num_leaves': 151, 'feature_fraction': 0.5414053366009672, 'min_data_in_leaf': 6486}. Best is trial 0 with value: 100.0.\n"
     ]
    },
    {
     "name": "stdout",
     "output_type": "stream",
     "text": [
      "[100]\tvalid_0's ER: 100\n",
      "Early stopping, best iteration is:\n",
      "[1]\tvalid_0's ER: 100\n",
      "Evaluated only: ER\n",
      "**************** regression_l1 ****************\n",
      "Training until validation scores don't improve for 136 rounds\n",
      "[100]\tvalid_0's ER: 99.92\n"
     ]
    },
    {
     "name": "stderr",
     "output_type": "stream",
     "text": [
      "[I 2023-12-16 05:08:48,434] Trial 7 finished with value: 99.92 and parameters: {'lambda_l1': 50.89802922331421, 'lambda_l2': 509.7218584294646, 'learning_rate': 0.058123576107343485, 'num_leaves': 301, 'feature_fraction': 0.4955243258921822, 'min_data_in_leaf': 1454}. Best is trial 7 with value: 99.92.\n"
     ]
    },
    {
     "name": "stdout",
     "output_type": "stream",
     "text": [
      "[200]\tvalid_0's ER: 99.92\n",
      "Early stopping, best iteration is:\n",
      "[75]\tvalid_0's ER: 99.92\n",
      "Evaluated only: ER\n",
      "**************** regression_l1 ****************\n",
      "Training until validation scores don't improve for 68 rounds\n"
     ]
    },
    {
     "name": "stderr",
     "output_type": "stream",
     "text": [
      "[I 2023-12-16 05:08:48,756] Trial 8 finished with value: 100.0 and parameters: {'lambda_l1': 953.6422939967733, 'lambda_l2': 961.3802650388913, 'learning_rate': 0.2727264119501165, 'num_leaves': 863, 'feature_fraction': 0.2590583866368481, 'min_data_in_leaf': 3470}. Best is trial 7 with value: 99.92.\n"
     ]
    },
    {
     "name": "stdout",
     "output_type": "stream",
     "text": [
      "Early stopping, best iteration is:\n",
      "[1]\tvalid_0's ER: 100\n",
      "Evaluated only: ER\n",
      "**************** regression_l1 ****************\n",
      "Training until validation scores don't improve for 77 rounds\n"
     ]
    },
    {
     "name": "stderr",
     "output_type": "stream",
     "text": [
      "[I 2023-12-16 05:08:49,094] Trial 9 finished with value: 100.0 and parameters: {'lambda_l1': 807.0083037324365, 'lambda_l2': 6.485550141275165, 'learning_rate': 0.18218788790410953, 'num_leaves': 566, 'feature_fraction': 0.25154156395391825, 'min_data_in_leaf': 5504}. Best is trial 7 with value: 99.92.\n"
     ]
    },
    {
     "name": "stdout",
     "output_type": "stream",
     "text": [
      "Early stopping, best iteration is:\n",
      "[1]\tvalid_0's ER: 100\n",
      "Evaluated only: ER\n",
      "# Experimentos: 10\n",
      "Mejor experimento: {'lambda_l1': 50.89802922331421, 'lambda_l2': 509.7218584294646, 'learning_rate': 0.058123576107343485, 'num_leaves': 301, 'feature_fraction': 0.4955243258921822, 'min_data_in_leaf': 1454}\n",
      "=========================================== Cluster 49 ===========================================\n",
      "Periodos entrenar: []\n",
      "Periodos validar: [201907]\n",
      "product_id a validar: 3480\n",
      "X_train: (0, 120)\n",
      "y_train: (0,)\n",
      "\n",
      "X_validate: (3480, 120)\n",
      "y_validate: (3480,)\n",
      "=========================================== Cluster 50 ===========================================\n"
     ]
    },
    {
     "name": "stderr",
     "output_type": "stream",
     "text": [
      "[I 2023-12-16 05:08:59,611] A new study created in memory with name: no-name-5f3f1574-be84-467b-8ff9-1b3ea4cf7474\n"
     ]
    },
    {
     "name": "stdout",
     "output_type": "stream",
     "text": [
      "Periodos entrenar: [201701 201702 201703 201704 201705 201706 201707 201708 201709 201710\n",
      " 201711 201712 201801 201802 201803 201804 201805 201806 201807 201808\n",
      " 201809 201810 201811 201812 201901 201902 201903 201904 201905]\n",
      "Periodos validar: [201907]\n",
      "product_id a validar: 12760\n",
      "X_train: (316413, 120)\n",
      "y_train: (316413,)\n",
      "\n",
      "X_validate: (12760, 120)\n",
      "y_validate: (12760,)\n",
      "Optimizacion Bayesiana\n",
      "**************** regression_l1 ****************\n",
      "Training until validation scores don't improve for 102 rounds\n",
      "[100]\tvalid_0's ER: 78.67\n",
      "[200]\tvalid_0's ER: 78.59\n",
      "[300]\tvalid_0's ER: 78.52\n"
     ]
    },
    {
     "name": "stderr",
     "output_type": "stream",
     "text": [
      "[I 2023-12-16 05:09:14,069] Trial 0 finished with value: 78.46 and parameters: {'lambda_l1': 27.144863350225144, 'lambda_l2': 51.15780107316959, 'learning_rate': 0.09573176519477027, 'num_leaves': 661, 'feature_fraction': 0.4933280829244411, 'min_data_in_leaf': 6470}. Best is trial 0 with value: 78.46.\n"
     ]
    },
    {
     "name": "stdout",
     "output_type": "stream",
     "text": [
      "Early stopping, best iteration is:\n",
      "[209]\tvalid_0's ER: 78.46\n",
      "Evaluated only: ER\n",
      "**************** regression_l1 ****************\n",
      "Training until validation scores don't improve for 68 rounds\n",
      "[100]\tvalid_0's ER: 72.32\n",
      "[200]\tvalid_0's ER: 71.51\n",
      "[300]\tvalid_0's ER: 71.09\n",
      "[400]\tvalid_0's ER: 70.46\n",
      "[500]\tvalid_0's ER: 70.28\n",
      "[600]\tvalid_0's ER: 70.21\n",
      "Early stopping, best iteration is:\n",
      "[610]\tvalid_0's ER: 70.1\n",
      "Evaluated only: ER\n"
     ]
    },
    {
     "name": "stderr",
     "output_type": "stream",
     "text": [
      "[I 2023-12-16 05:09:59,988] Trial 1 finished with value: 70.1 and parameters: {'lambda_l1': 50.83118002029185, 'lambda_l2': 484.2388815818203, 'learning_rate': 0.26454061708313237, 'num_leaves': 54, 'feature_fraction': 0.9046558456275642, 'min_data_in_leaf': 1389}. Best is trial 1 with value: 70.1.\n"
     ]
    },
    {
     "name": "stdout",
     "output_type": "stream",
     "text": [
      "**************** regression_l1 ****************\n",
      "Training until validation scores don't improve for 77 rounds\n",
      "[100]\tvalid_0's ER: 73.5\n"
     ]
    },
    {
     "name": "stderr",
     "output_type": "stream",
     "text": [
      "[I 2023-12-16 05:10:07,357] Trial 2 finished with value: 73.39 and parameters: {'lambda_l1': 439.45556700274955, 'lambda_l2': 110.78039916477111, 'learning_rate': 0.18123338255677515, 'num_leaves': 407, 'feature_fraction': 0.4157818040640591, 'min_data_in_leaf': 2061}. Best is trial 1 with value: 70.1.\n"
     ]
    },
    {
     "name": "stdout",
     "output_type": "stream",
     "text": [
      "Early stopping, best iteration is:\n",
      "[108]\tvalid_0's ER: 73.39\n",
      "Evaluated only: ER\n",
      "**************** regression_l1 ****************\n",
      "Training until validation scores don't improve for 74 rounds\n"
     ]
    },
    {
     "name": "stderr",
     "output_type": "stream",
     "text": [
      "[I 2023-12-16 05:10:12,601] Trial 3 finished with value: 87.43 and parameters: {'lambda_l1': 445.83519157596896, 'lambda_l2': 101.80022460466543, 'learning_rate': 0.2048677894779422, 'num_leaves': 232, 'feature_fraction': 0.9209997603685429, 'min_data_in_leaf': 7252}. Best is trial 1 with value: 70.1.\n"
     ]
    },
    {
     "name": "stdout",
     "output_type": "stream",
     "text": [
      "Early stopping, best iteration is:\n",
      "[7]\tvalid_0's ER: 87.43\n",
      "Evaluated only: ER\n",
      "**************** regression_l1 ****************\n",
      "Training until validation scores don't improve for 68 rounds\n",
      "[100]\tvalid_0's ER: 73.41\n",
      "[200]\tvalid_0's ER: 72.66\n"
     ]
    },
    {
     "name": "stderr",
     "output_type": "stream",
     "text": [
      "[I 2023-12-16 05:10:29,689] Trial 4 finished with value: 72.52 and parameters: {'lambda_l1': 138.73475235507726, 'lambda_l2': 970.6364772672606, 'learning_rate': 0.27353438635604665, 'num_leaves': 716, 'feature_fraction': 0.7999504288847266, 'min_data_in_leaf': 3392}. Best is trial 1 with value: 70.1.\n"
     ]
    },
    {
     "name": "stdout",
     "output_type": "stream",
     "text": [
      "Early stopping, best iteration is:\n",
      "[228]\tvalid_0's ER: 72.52\n",
      "Evaluated only: ER\n",
      "**************** regression_l1 ****************\n",
      "Training until validation scores don't improve for 92 rounds\n",
      "[100]\tvalid_0's ER: 73.68\n",
      "[200]\tvalid_0's ER: 72.61\n",
      "[300]\tvalid_0's ER: 72.48\n"
     ]
    },
    {
     "name": "stderr",
     "output_type": "stream",
     "text": [
      "[I 2023-12-16 05:10:52,248] Trial 5 finished with value: 72.43 and parameters: {'lambda_l1': 39.704586631252646, 'lambda_l2': 811.4997843152585, 'learning_rate': 0.11671587992486537, 'num_leaves': 81, 'feature_fraction': 0.6628695130859286, 'min_data_in_leaf': 3363}. Best is trial 1 with value: 70.1.\n"
     ]
    },
    {
     "name": "stdout",
     "output_type": "stream",
     "text": [
      "Early stopping, best iteration is:\n",
      "[254]\tvalid_0's ER: 72.43\n",
      "Evaluated only: ER\n",
      "**************** regression_l1 ****************\n",
      "Training until validation scores don't improve for 143 rounds\n",
      "[100]\tvalid_0's ER: 79.7\n",
      "[200]\tvalid_0's ER: 79.31\n",
      "[300]\tvalid_0's ER: 79.19\n",
      "[400]\tvalid_0's ER: 79.11\n",
      "[500]\tvalid_0's ER: 79.22\n"
     ]
    },
    {
     "name": "stderr",
     "output_type": "stream",
     "text": [
      "[I 2023-12-16 05:11:11,875] Trial 6 finished with value: 79.1 and parameters: {'lambda_l1': 270.65050066076077, 'lambda_l2': 79.86477617278776, 'learning_rate': 0.05329923406690676, 'num_leaves': 382, 'feature_fraction': 0.3533714448191645, 'min_data_in_leaf': 7178}. Best is trial 1 with value: 70.1.\n"
     ]
    },
    {
     "name": "stdout",
     "output_type": "stream",
     "text": [
      "Early stopping, best iteration is:\n",
      "[408]\tvalid_0's ER: 79.1\n",
      "Evaluated only: ER\n",
      "**************** regression_l1 ****************\n",
      "Training until validation scores don't improve for 78 rounds\n"
     ]
    },
    {
     "name": "stderr",
     "output_type": "stream",
     "text": [
      "[I 2023-12-16 05:11:17,162] Trial 7 finished with value: 90.46 and parameters: {'lambda_l1': 955.1578584402215, 'lambda_l2': 159.81015132039522, 'learning_rate': 0.17403279675676295, 'num_leaves': 368, 'feature_fraction': 0.7979299332961989, 'min_data_in_leaf': 3302}. Best is trial 1 with value: 70.1.\n"
     ]
    },
    {
     "name": "stdout",
     "output_type": "stream",
     "text": [
      "Early stopping, best iteration is:\n",
      "[6]\tvalid_0's ER: 90.46\n",
      "Evaluated only: ER\n",
      "**************** regression_l1 ****************\n",
      "Training until validation scores don't improve for 77 rounds\n",
      "[100]\tvalid_0's ER: 74.5\n"
     ]
    },
    {
     "name": "stderr",
     "output_type": "stream",
     "text": [
      "[I 2023-12-16 05:11:23,464] Trial 8 finished with value: 74.35 and parameters: {'lambda_l1': 203.63808459472855, 'lambda_l2': 155.5376948125231, 'learning_rate': 0.18070384798287206, 'num_leaves': 786, 'feature_fraction': 0.22246561709707333, 'min_data_in_leaf': 2692}. Best is trial 1 with value: 70.1.\n"
     ]
    },
    {
     "name": "stdout",
     "output_type": "stream",
     "text": [
      "Early stopping, best iteration is:\n",
      "[75]\tvalid_0's ER: 74.35\n",
      "Evaluated only: ER\n",
      "**************** regression_l1 ****************\n",
      "Training until validation scores don't improve for 89 rounds\n",
      "[100]\tvalid_0's ER: 72.27\n"
     ]
    },
    {
     "name": "stderr",
     "output_type": "stream",
     "text": [
      "[I 2023-12-16 05:11:30,861] Trial 9 finished with value: 72.25 and parameters: {'lambda_l1': 499.37894811559636, 'lambda_l2': 898.751149955702, 'learning_rate': 0.12620719420386536, 'num_leaves': 397, 'feature_fraction': 0.4953816543917083, 'min_data_in_leaf': 1285}. Best is trial 1 with value: 70.1.\n"
     ]
    },
    {
     "name": "stdout",
     "output_type": "stream",
     "text": [
      "Early stopping, best iteration is:\n",
      "[76]\tvalid_0's ER: 72.25\n",
      "Evaluated only: ER\n",
      "# Experimentos: 10\n",
      "Mejor experimento: {'lambda_l1': 50.83118002029185, 'lambda_l2': 484.2388815818203, 'learning_rate': 0.26454061708313237, 'num_leaves': 54, 'feature_fraction': 0.9046558456275642, 'min_data_in_leaf': 1389}\n",
      "=========================================== Cluster 51 ===========================================\n"
     ]
    },
    {
     "name": "stderr",
     "output_type": "stream",
     "text": [
      "[I 2023-12-16 05:11:31,537] A new study created in memory with name: no-name-1907a4ff-c258-4980-9320-23d162e3b47a\n"
     ]
    },
    {
     "name": "stdout",
     "output_type": "stream",
     "text": [
      "Periodos entrenar: [201701 201702 201703 201704 201705 201706 201707 201708 201709 201710\n",
      " 201711 201712 201801 201802 201803 201804 201805 201806 201807 201808\n",
      " 201809 201810 201811 201812 201901 201902 201903 201904 201905]\n",
      "Periodos validar: [201907]\n",
      "product_id a validar: 580\n",
      "X_train: (15457, 120)\n",
      "y_train: (15457,)\n",
      "\n",
      "X_validate: (580, 120)\n",
      "y_validate: (580,)\n",
      "Optimizacion Bayesiana\n",
      "**************** regression_l1 ****************\n",
      "Training until validation scores don't improve for 100 rounds\n"
     ]
    },
    {
     "name": "stderr",
     "output_type": "stream",
     "text": [
      "[I 2023-12-16 05:11:31,815] Trial 0 finished with value: 100.0 and parameters: {'lambda_l1': 518.8315493832484, 'lambda_l2': 771.2116594050491, 'learning_rate': 0.09836715784279179, 'num_leaves': 172, 'feature_fraction': 0.6035149698921776, 'min_data_in_leaf': 5334}. Best is trial 0 with value: 100.0.\n"
     ]
    },
    {
     "name": "stdout",
     "output_type": "stream",
     "text": [
      "[100]\tvalid_0's ER: 100\n",
      "Early stopping, best iteration is:\n",
      "[1]\tvalid_0's ER: 100\n",
      "Evaluated only: ER\n",
      "**************** regression_l1 ****************\n",
      "Training until validation scores don't improve for 84 rounds\n"
     ]
    },
    {
     "name": "stderr",
     "output_type": "stream",
     "text": [
      "[I 2023-12-16 05:11:32,095] Trial 1 finished with value: 100.0 and parameters: {'lambda_l1': 992.2312833547985, 'lambda_l2': 43.17512106055865, 'learning_rate': 0.14449643883041496, 'num_leaves': 182, 'feature_fraction': 0.5908044337946238, 'min_data_in_leaf': 2366}. Best is trial 0 with value: 100.0.\n"
     ]
    },
    {
     "name": "stdout",
     "output_type": "stream",
     "text": [
      "Early stopping, best iteration is:\n",
      "[1]\tvalid_0's ER: 100\n",
      "Evaluated only: ER\n",
      "**************** regression_l1 ****************\n",
      "Training until validation scores don't improve for 82 rounds\n"
     ]
    },
    {
     "name": "stderr",
     "output_type": "stream",
     "text": [
      "[I 2023-12-16 05:11:32,362] Trial 2 finished with value: 100.0 and parameters: {'lambda_l1': 678.7957437229747, 'lambda_l2': 418.6932014483866, 'learning_rate': 0.15351150224393312, 'num_leaves': 239, 'feature_fraction': 0.5512057302124767, 'min_data_in_leaf': 1453}. Best is trial 0 with value: 100.0.\n"
     ]
    },
    {
     "name": "stdout",
     "output_type": "stream",
     "text": [
      "Early stopping, best iteration is:\n",
      "[1]\tvalid_0's ER: 100\n",
      "Evaluated only: ER\n",
      "**************** regression_l1 ****************\n",
      "Training until validation scores don't improve for 125 rounds\n"
     ]
    },
    {
     "name": "stderr",
     "output_type": "stream",
     "text": [
      "[I 2023-12-16 05:11:32,749] Trial 3 finished with value: 100.0 and parameters: {'lambda_l1': 416.57501967899003, 'lambda_l2': 243.9475464938119, 'learning_rate': 0.06634600688544741, 'num_leaves': 449, 'feature_fraction': 0.8591790330794595, 'min_data_in_leaf': 1771}. Best is trial 0 with value: 100.0.\n"
     ]
    },
    {
     "name": "stdout",
     "output_type": "stream",
     "text": [
      "[100]\tvalid_0's ER: 100\n",
      "Early stopping, best iteration is:\n",
      "[1]\tvalid_0's ER: 100\n",
      "Evaluated only: ER\n",
      "**************** regression_l1 ****************\n",
      "Training until validation scores don't improve for 290 rounds\n",
      "[100]\tvalid_0's ER: 100\n",
      "[200]\tvalid_0's ER: 100\n"
     ]
    },
    {
     "name": "stderr",
     "output_type": "stream",
     "text": [
      "[I 2023-12-16 05:11:33,306] Trial 4 finished with value: 100.0 and parameters: {'lambda_l1': 829.2148679531563, 'lambda_l2': 27.969407704923512, 'learning_rate': 0.020791655652438575, 'num_leaves': 1020, 'feature_fraction': 0.41996053228480545, 'min_data_in_leaf': 2381}. Best is trial 0 with value: 100.0.\n"
     ]
    },
    {
     "name": "stdout",
     "output_type": "stream",
     "text": [
      "Early stopping, best iteration is:\n",
      "[1]\tvalid_0's ER: 100\n",
      "Evaluated only: ER\n",
      "**************** regression_l1 ****************\n",
      "Training until validation scores don't improve for 104 rounds\n"
     ]
    },
    {
     "name": "stderr",
     "output_type": "stream",
     "text": [
      "[I 2023-12-16 05:11:33,628] Trial 5 finished with value: 100.0 and parameters: {'lambda_l1': 420.4684796035121, 'lambda_l2': 432.6515190111716, 'learning_rate': 0.09246620128550857, 'num_leaves': 322, 'feature_fraction': 0.6437534636257232, 'min_data_in_leaf': 1973}. Best is trial 0 with value: 100.0.\n"
     ]
    },
    {
     "name": "stdout",
     "output_type": "stream",
     "text": [
      "[100]\tvalid_0's ER: 100\n",
      "Early stopping, best iteration is:\n",
      "[1]\tvalid_0's ER: 100\n",
      "Evaluated only: ER\n",
      "**************** regression_l1 ****************\n",
      "Training until validation scores don't improve for 191 rounds\n"
     ]
    },
    {
     "name": "stderr",
     "output_type": "stream",
     "text": [
      "[I 2023-12-16 05:11:34,004] Trial 6 finished with value: 100.0 and parameters: {'lambda_l1': 947.8354189234458, 'lambda_l2': 292.20775351431615, 'learning_rate': 0.035338416119397045, 'num_leaves': 499, 'feature_fraction': 0.9655935694647593, 'min_data_in_leaf': 7612}. Best is trial 0 with value: 100.0.\n"
     ]
    },
    {
     "name": "stdout",
     "output_type": "stream",
     "text": [
      "[100]\tvalid_0's ER: 100\n",
      "Early stopping, best iteration is:\n",
      "[1]\tvalid_0's ER: 100\n",
      "Evaluated only: ER\n",
      "**************** regression_l1 ****************\n"
     ]
    },
    {
     "name": "stderr",
     "output_type": "stream",
     "text": [
      "[I 2023-12-16 05:11:34,242] Trial 7 finished with value: 100.0 and parameters: {'lambda_l1': 787.7406156009068, 'lambda_l2': 187.61911194744795, 'learning_rate': 0.07877563089882475, 'num_leaves': 150, 'feature_fraction': 0.29549585441255966, 'min_data_in_leaf': 5509}. Best is trial 0 with value: 100.0.\n"
     ]
    },
    {
     "name": "stdout",
     "output_type": "stream",
     "text": [
      "Training until validation scores don't improve for 113 rounds\n",
      "[100]\tvalid_0's ER: 100\n",
      "Early stopping, best iteration is:\n",
      "[1]\tvalid_0's ER: 100\n",
      "Evaluated only: ER\n",
      "**************** regression_l1 ****************\n"
     ]
    },
    {
     "name": "stderr",
     "output_type": "stream",
     "text": [
      "[I 2023-12-16 05:11:34,448] Trial 8 finished with value: 100.0 and parameters: {'lambda_l1': 632.7697595517195, 'lambda_l2': 608.3009561405759, 'learning_rate': 0.15886104575052748, 'num_leaves': 895, 'feature_fraction': 0.26680282351513035, 'min_data_in_leaf': 7100}. Best is trial 0 with value: 100.0.\n"
     ]
    },
    {
     "name": "stdout",
     "output_type": "stream",
     "text": [
      "Training until validation scores don't improve for 81 rounds\n",
      "Early stopping, best iteration is:\n",
      "[1]\tvalid_0's ER: 100\n",
      "Evaluated only: ER\n",
      "**************** regression_l1 ****************\n"
     ]
    },
    {
     "name": "stderr",
     "output_type": "stream",
     "text": [
      "[I 2023-12-16 05:11:34,691] Trial 9 finished with value: 100.0 and parameters: {'lambda_l1': 111.08350009671686, 'lambda_l2': 339.6834381620216, 'learning_rate': 0.2801442401498761, 'num_leaves': 925, 'feature_fraction': 0.5051257355361076, 'min_data_in_leaf': 4257}. Best is trial 0 with value: 100.0.\n"
     ]
    },
    {
     "name": "stdout",
     "output_type": "stream",
     "text": [
      "Training until validation scores don't improve for 67 rounds\n",
      "Early stopping, best iteration is:\n",
      "[1]\tvalid_0's ER: 100\n",
      "Evaluated only: ER\n",
      "# Experimentos: 10\n",
      "Mejor experimento: {'lambda_l1': 518.8315493832484, 'lambda_l2': 771.2116594050491, 'learning_rate': 0.09836715784279179, 'num_leaves': 172, 'feature_fraction': 0.6035149698921776, 'min_data_in_leaf': 5334}\n",
      "=========================================== Cluster 52 ===========================================\n"
     ]
    },
    {
     "name": "stderr",
     "output_type": "stream",
     "text": [
      "[I 2023-12-16 05:11:38,415] A new study created in memory with name: no-name-47823c26-8ee2-4142-a486-9edfa2d661e5\n"
     ]
    },
    {
     "name": "stdout",
     "output_type": "stream",
     "text": [
      "Periodos entrenar: [201701 201702 201703 201704 201705 201706 201707 201708 201709 201710\n",
      " 201711 201712 201801 201802 201803 201804 201805 201806 201807 201808\n",
      " 201809 201810 201811 201812 201901 201902 201903 201904 201905]\n",
      "Periodos validar: [201907]\n",
      "product_id a validar: 4640\n",
      "X_train: (123656, 120)\n",
      "y_train: (123656,)\n",
      "\n",
      "X_validate: (4640, 120)\n",
      "y_validate: (4640,)\n",
      "Optimizacion Bayesiana\n",
      "**************** regression_l1 ****************\n",
      "Training until validation scores don't improve for 71 rounds\n",
      "[100]\tvalid_0's ER: 90.2\n",
      "[200]\tvalid_0's ER: 90.15\n",
      "[300]\tvalid_0's ER: 89.91\n",
      "[400]\tvalid_0's ER: 88.71\n",
      "[500]\tvalid_0's ER: 88\n",
      "[600]\tvalid_0's ER: 87.4\n",
      "[700]\tvalid_0's ER: 87.13\n",
      "[800]\tvalid_0's ER: 86.72\n",
      "[900]\tvalid_0's ER: 86.24\n",
      "[1000]\tvalid_0's ER: 86.11\n"
     ]
    },
    {
     "name": "stderr",
     "output_type": "stream",
     "text": [
      "[I 2023-12-16 05:11:48,778] Trial 0 finished with value: 86.08 and parameters: {'lambda_l1': 440.1266409757533, 'lambda_l2': 367.80987191940864, 'learning_rate': 0.23306571583810545, 'num_leaves': 976, 'feature_fraction': 0.2606478363393138, 'min_data_in_leaf': 7821}. Best is trial 0 with value: 86.08.\n"
     ]
    },
    {
     "name": "stdout",
     "output_type": "stream",
     "text": [
      "Early stopping, best iteration is:\n",
      "[985]\tvalid_0's ER: 86.08\n",
      "Evaluated only: ER\n",
      "**************** regression_l1 ****************\n",
      "Training until validation scores don't improve for 81 rounds\n",
      "[100]\tvalid_0's ER: 75.48\n"
     ]
    },
    {
     "name": "stderr",
     "output_type": "stream",
     "text": [
      "[I 2023-12-16 05:11:53,420] Trial 1 finished with value: 75.38 and parameters: {'lambda_l1': 247.42950381922458, 'lambda_l2': 353.8503353461819, 'learning_rate': 0.15645061586691325, 'num_leaves': 631, 'feature_fraction': 0.7965499459627068, 'min_data_in_leaf': 1358}. Best is trial 1 with value: 75.38.\n"
     ]
    },
    {
     "name": "stdout",
     "output_type": "stream",
     "text": [
      "Early stopping, best iteration is:\n",
      "[113]\tvalid_0's ER: 75.38\n",
      "Evaluated only: ER\n",
      "**************** regression_l1 ****************\n",
      "Training until validation scores don't improve for 81 rounds\n",
      "[100]\tvalid_0's ER: 80.87\n",
      "[200]\tvalid_0's ER: 80.84\n"
     ]
    },
    {
     "name": "stderr",
     "output_type": "stream",
     "text": [
      "[I 2023-12-16 05:11:56,669] Trial 2 finished with value: 80.84 and parameters: {'lambda_l1': 768.5684452968316, 'lambda_l2': 155.7646100817026, 'learning_rate': 0.15979368045229508, 'num_leaves': 278, 'feature_fraction': 0.26135399338564763, 'min_data_in_leaf': 3081}. Best is trial 1 with value: 75.38.\n"
     ]
    },
    {
     "name": "stdout",
     "output_type": "stream",
     "text": [
      "Early stopping, best iteration is:\n",
      "[162]\tvalid_0's ER: 80.84\n",
      "Evaluated only: ER\n",
      "**************** regression_l1 ****************\n",
      "Training until validation scores don't improve for 99 rounds\n",
      "[100]\tvalid_0's ER: 85.95\n",
      "[200]\tvalid_0's ER: 81.67\n",
      "[300]\tvalid_0's ER: 80.68\n",
      "[400]\tvalid_0's ER: 78.97\n",
      "[500]\tvalid_0's ER: 78.6\n"
     ]
    },
    {
     "name": "stderr",
     "output_type": "stream",
     "text": [
      "[I 2023-12-16 05:12:05,085] Trial 3 finished with value: 78.6 and parameters: {'lambda_l1': 647.80238225148, 'lambda_l2': 457.1563760276773, 'learning_rate': 0.10058699825258596, 'num_leaves': 958, 'feature_fraction': 0.43100248563980315, 'min_data_in_leaf': 2012}. Best is trial 1 with value: 75.38.\n"
     ]
    },
    {
     "name": "stdout",
     "output_type": "stream",
     "text": [
      "Early stopping, best iteration is:\n",
      "[444]\tvalid_0's ER: 78.6\n",
      "Evaluated only: ER\n",
      "**************** regression_l1 ****************\n",
      "Training until validation scores don't improve for 270 rounds\n",
      "[100]\tvalid_0's ER: 92.95\n",
      "[200]\tvalid_0's ER: 92.61\n",
      "[300]\tvalid_0's ER: 92.56\n",
      "[400]\tvalid_0's ER: 91.72\n",
      "[500]\tvalid_0's ER: 91.24\n",
      "[600]\tvalid_0's ER: 91.15\n",
      "[700]\tvalid_0's ER: 90.83\n",
      "[800]\tvalid_0's ER: 90.57\n",
      "[900]\tvalid_0's ER: 90.48\n",
      "[1000]\tvalid_0's ER: 90.44\n",
      "[1100]\tvalid_0's ER: 90.41\n",
      "[1200]\tvalid_0's ER: 90.21\n",
      "[1300]\tvalid_0's ER: 89.79\n",
      "[1400]\tvalid_0's ER: 89.57\n",
      "[1500]\tvalid_0's ER: 89.43\n",
      "[1600]\tvalid_0's ER: 89.27\n",
      "[1700]\tvalid_0's ER: 89.04\n",
      "[1800]\tvalid_0's ER: 88.78\n",
      "[1900]\tvalid_0's ER: 88.48\n",
      "[2000]\tvalid_0's ER: 88.28\n",
      "[2100]\tvalid_0's ER: 88.12\n",
      "[2200]\tvalid_0's ER: 87.92\n",
      "[2300]\tvalid_0's ER: 87.73\n",
      "[2400]\tvalid_0's ER: 87.6\n",
      "[2500]\tvalid_0's ER: 87.43\n",
      "[2600]\tvalid_0's ER: 87.34\n",
      "[2700]\tvalid_0's ER: 87.24\n",
      "[2800]\tvalid_0's ER: 87.15\n",
      "[2900]\tvalid_0's ER: 87.09\n",
      "[3000]\tvalid_0's ER: 87.01\n",
      "[3100]\tvalid_0's ER: 86.91\n",
      "[3200]\tvalid_0's ER: 86.78\n",
      "[3300]\tvalid_0's ER: 86.66\n",
      "[3400]\tvalid_0's ER: 86.63\n",
      "[3500]\tvalid_0's ER: 86.59\n",
      "[3600]\tvalid_0's ER: 86.59\n",
      "[3700]\tvalid_0's ER: 86.55\n",
      "[3800]\tvalid_0's ER: 86.47\n",
      "[3900]\tvalid_0's ER: 86.43\n",
      "[4000]\tvalid_0's ER: 86.4\n",
      "[4100]\tvalid_0's ER: 86.34\n",
      "[4200]\tvalid_0's ER: 86.29\n",
      "[4300]\tvalid_0's ER: 86.26\n",
      "[4400]\tvalid_0's ER: 86.23\n",
      "[4500]\tvalid_0's ER: 86.22\n",
      "[4600]\tvalid_0's ER: 86.18\n",
      "[4700]\tvalid_0's ER: 86.15\n",
      "[4800]\tvalid_0's ER: 86.09\n",
      "[4900]\tvalid_0's ER: 86.05\n",
      "[5000]\tvalid_0's ER: 86.03\n",
      "[5100]\tvalid_0's ER: 85.98\n",
      "[5200]\tvalid_0's ER: 85.95\n",
      "[5300]\tvalid_0's ER: 85.9\n",
      "[5400]\tvalid_0's ER: 85.88\n",
      "[5500]\tvalid_0's ER: 85.87\n",
      "[5600]\tvalid_0's ER: 85.83\n",
      "[5700]\tvalid_0's ER: 85.78\n",
      "[5800]\tvalid_0's ER: 85.74\n",
      "[5900]\tvalid_0's ER: 85.72\n",
      "[6000]\tvalid_0's ER: 85.68\n",
      "[6100]\tvalid_0's ER: 85.65\n",
      "[6200]\tvalid_0's ER: 85.63\n",
      "[6300]\tvalid_0's ER: 85.56\n",
      "[6400]\tvalid_0's ER: 85.53\n",
      "[6500]\tvalid_0's ER: 85.48\n",
      "[6600]\tvalid_0's ER: 85.43\n",
      "[6700]\tvalid_0's ER: 85.42\n",
      "[6800]\tvalid_0's ER: 85.41\n",
      "[6900]\tvalid_0's ER: 85.37\n",
      "[7000]\tvalid_0's ER: 85.36\n",
      "[7100]\tvalid_0's ER: 85.34\n",
      "[7200]\tvalid_0's ER: 85.3\n",
      "[7300]\tvalid_0's ER: 85.29\n",
      "[7400]\tvalid_0's ER: 85.26\n",
      "[7500]\tvalid_0's ER: 85.22\n",
      "[7600]\tvalid_0's ER: 85.2\n",
      "[7700]\tvalid_0's ER: 85.16\n",
      "[7800]\tvalid_0's ER: 85.14\n",
      "[7900]\tvalid_0's ER: 85.08\n",
      "[8000]\tvalid_0's ER: 85.02\n",
      "[8100]\tvalid_0's ER: 84.97\n",
      "[8200]\tvalid_0's ER: 84.91\n",
      "[8300]\tvalid_0's ER: 84.87\n",
      "[8400]\tvalid_0's ER: 84.84\n",
      "[8500]\tvalid_0's ER: 84.77\n",
      "[8600]\tvalid_0's ER: 84.72\n",
      "[8700]\tvalid_0's ER: 84.7\n",
      "[8800]\tvalid_0's ER: 84.68\n",
      "[8900]\tvalid_0's ER: 84.63\n",
      "[9000]\tvalid_0's ER: 84.59\n",
      "[9100]\tvalid_0's ER: 84.59\n",
      "[9200]\tvalid_0's ER: 84.56\n",
      "[9300]\tvalid_0's ER: 84.52\n",
      "[9400]\tvalid_0's ER: 84.5\n",
      "[9500]\tvalid_0's ER: 84.47\n",
      "[9600]\tvalid_0's ER: 84.44\n",
      "[9700]\tvalid_0's ER: 84.4\n",
      "[9800]\tvalid_0's ER: 84.37\n",
      "[9900]\tvalid_0's ER: 84.33\n",
      "[10000]\tvalid_0's ER: 84.25\n",
      "Did not meet early stopping. Best iteration is:\n",
      "[9992]\tvalid_0's ER: 84.25\n",
      "Evaluated only: ER\n"
     ]
    },
    {
     "name": "stderr",
     "output_type": "stream",
     "text": [
      "[I 2023-12-16 05:13:35,191] Trial 4 finished with value: 84.25 and parameters: {'lambda_l1': 465.60158097019945, 'lambda_l2': 970.7562454444884, 'learning_rate': 0.02266976865477542, 'num_leaves': 818, 'feature_fraction': 0.24871237812609825, 'min_data_in_leaf': 7017}. Best is trial 1 with value: 75.38.\n"
     ]
    },
    {
     "name": "stdout",
     "output_type": "stream",
     "text": [
      "**************** regression_l1 ****************\n",
      "Training until validation scores don't improve for 73 rounds\n",
      "[100]\tvalid_0's ER: 79.65\n"
     ]
    },
    {
     "name": "stderr",
     "output_type": "stream",
     "text": [
      "[I 2023-12-16 05:13:38,102] Trial 5 finished with value: 79.55 and parameters: {'lambda_l1': 45.66846472494524, 'lambda_l2': 612.6978289033993, 'learning_rate': 0.2110857613609852, 'num_leaves': 221, 'feature_fraction': 0.41050815280843955, 'min_data_in_leaf': 2602}. Best is trial 1 with value: 75.38.\n"
     ]
    },
    {
     "name": "stdout",
     "output_type": "stream",
     "text": [
      "Early stopping, best iteration is:\n",
      "[59]\tvalid_0's ER: 79.55\n",
      "Evaluated only: ER\n",
      "**************** regression_l1 ****************\n",
      "Training until validation scores don't improve for 121 rounds\n",
      "[100]\tvalid_0's ER: 76.98\n",
      "[200]\tvalid_0's ER: 76.51\n",
      "[300]\tvalid_0's ER: 76.46\n"
     ]
    },
    {
     "name": "stderr",
     "output_type": "stream",
     "text": [
      "[I 2023-12-16 05:13:45,263] Trial 6 finished with value: 76.32 and parameters: {'lambda_l1': 116.28489222270288, 'lambda_l2': 452.61671736182853, 'learning_rate': 0.07026663390794706, 'num_leaves': 90, 'feature_fraction': 0.27799444067568385, 'min_data_in_leaf': 1031}. Best is trial 1 with value: 75.38.\n"
     ]
    },
    {
     "name": "stdout",
     "output_type": "stream",
     "text": [
      "Early stopping, best iteration is:\n",
      "[268]\tvalid_0's ER: 76.32\n",
      "Evaluated only: ER\n",
      "**************** regression_l1 ****************\n",
      "Training until validation scores don't improve for 87 rounds\n",
      "[100]\tvalid_0's ER: 77.29\n"
     ]
    },
    {
     "name": "stderr",
     "output_type": "stream",
     "text": [
      "[I 2023-12-16 05:13:49,264] Trial 7 finished with value: 77.26 and parameters: {'lambda_l1': 95.51835324333003, 'lambda_l2': 105.65707756795251, 'learning_rate': 0.13175194182221323, 'num_leaves': 800, 'feature_fraction': 0.38050905895474707, 'min_data_in_leaf': 1354}. Best is trial 1 with value: 75.38.\n"
     ]
    },
    {
     "name": "stdout",
     "output_type": "stream",
     "text": [
      "Early stopping, best iteration is:\n",
      "[87]\tvalid_0's ER: 77.26\n",
      "Evaluated only: ER\n",
      "**************** regression_l1 ****************\n",
      "Training until validation scores don't improve for 81 rounds\n",
      "[100]\tvalid_0's ER: 90.54\n",
      "[200]\tvalid_0's ER: 90.02\n",
      "[300]\tvalid_0's ER: 89.55\n",
      "[400]\tvalid_0's ER: 88.72\n",
      "[500]\tvalid_0's ER: 88.56\n",
      "[600]\tvalid_0's ER: 87.73\n",
      "[700]\tvalid_0's ER: 87.53\n"
     ]
    },
    {
     "name": "stderr",
     "output_type": "stream",
     "text": [
      "[I 2023-12-16 05:14:03,881] Trial 8 finished with value: 87.46 and parameters: {'lambda_l1': 155.07992377375967, 'lambda_l2': 169.44839099714258, 'learning_rate': 0.1579143592704081, 'num_leaves': 390, 'feature_fraction': 0.6271335163682181, 'min_data_in_leaf': 7140}. Best is trial 1 with value: 75.38.\n"
     ]
    },
    {
     "name": "stdout",
     "output_type": "stream",
     "text": [
      "Early stopping, best iteration is:\n",
      "[640]\tvalid_0's ER: 87.46\n",
      "Evaluated only: ER\n",
      "**************** regression_l1 ****************\n",
      "Training until validation scores don't improve for 99 rounds\n",
      "[100]\tvalid_0's ER: 81.46\n"
     ]
    },
    {
     "name": "stderr",
     "output_type": "stream",
     "text": [
      "[I 2023-12-16 05:14:07,451] Trial 9 finished with value: 81.45 and parameters: {'lambda_l1': 731.5638793814576, 'lambda_l2': 56.740978109094954, 'learning_rate': 0.10166053759986941, 'num_leaves': 490, 'feature_fraction': 0.5438274487764772, 'min_data_in_leaf': 3575}. Best is trial 1 with value: 75.38.\n"
     ]
    },
    {
     "name": "stdout",
     "output_type": "stream",
     "text": [
      "Early stopping, best iteration is:\n",
      "[75]\tvalid_0's ER: 81.45\n",
      "Evaluated only: ER\n",
      "# Experimentos: 10\n",
      "Mejor experimento: {'lambda_l1': 247.42950381922458, 'lambda_l2': 353.8503353461819, 'learning_rate': 0.15645061586691325, 'num_leaves': 631, 'feature_fraction': 0.7965499459627068, 'min_data_in_leaf': 1358}\n",
      "=========================================== Cluster 53 ===========================================\n"
     ]
    },
    {
     "name": "stderr",
     "output_type": "stream",
     "text": [
      "[I 2023-12-16 05:14:12,750] A new study created in memory with name: no-name-e98fbc23-f03d-431c-9e21-d968df8af357\n"
     ]
    },
    {
     "name": "stdout",
     "output_type": "stream",
     "text": [
      "Periodos entrenar: [201701 201702 201703 201704 201705 201706 201707 201708 201709 201710\n",
      " 201711 201712 201801 201802 201803 201804 201805 201806 201807 201808\n",
      " 201809 201810 201811 201812 201901 201902 201903 201904 201905]\n",
      "Periodos validar: [201907]\n",
      "product_id a validar: 6380\n",
      "X_train: (169594, 120)\n",
      "y_train: (169594,)\n",
      "\n",
      "X_validate: (6380, 120)\n",
      "y_validate: (6380,)\n",
      "Optimizacion Bayesiana\n",
      "**************** regression_l1 ****************\n",
      "Training until validation scores don't improve for 78 rounds\n"
     ]
    },
    {
     "name": "stderr",
     "output_type": "stream",
     "text": [
      "[I 2023-12-16 05:14:15,141] Trial 0 finished with value: 100.0 and parameters: {'lambda_l1': 466.333228527654, 'lambda_l2': 958.342981334356, 'learning_rate': 0.17271015204924328, 'num_leaves': 637, 'feature_fraction': 0.42804557774229557, 'min_data_in_leaf': 869}. Best is trial 0 with value: 100.0.\n"
     ]
    },
    {
     "name": "stdout",
     "output_type": "stream",
     "text": [
      "Early stopping, best iteration is:\n",
      "[1]\tvalid_0's ER: 100\n",
      "Evaluated only: ER\n",
      "**************** regression_l1 ****************\n",
      "Training until validation scores don't improve for 92 rounds\n"
     ]
    },
    {
     "name": "stderr",
     "output_type": "stream",
     "text": [
      "[I 2023-12-16 05:14:18,379] Trial 1 finished with value: 100.0 and parameters: {'lambda_l1': 734.3839016033467, 'lambda_l2': 457.6434340917589, 'learning_rate': 0.11700619381971716, 'num_leaves': 665, 'feature_fraction': 0.8443523051600212, 'min_data_in_leaf': 2187}. Best is trial 0 with value: 100.0.\n"
     ]
    },
    {
     "name": "stdout",
     "output_type": "stream",
     "text": [
      "Early stopping, best iteration is:\n",
      "[1]\tvalid_0's ER: 100\n",
      "Evaluated only: ER\n",
      "**************** regression_l1 ****************\n",
      "Training until validation scores don't improve for 154 rounds\n",
      "[100]\tvalid_0's ER: 100\n"
     ]
    },
    {
     "name": "stderr",
     "output_type": "stream",
     "text": [
      "[I 2023-12-16 05:14:22,423] Trial 2 finished with value: 100.0 and parameters: {'lambda_l1': 830.1438539381068, 'lambda_l2': 78.08811534145066, 'learning_rate': 0.04781593972499075, 'num_leaves': 354, 'feature_fraction': 0.3927296233363432, 'min_data_in_leaf': 5408}. Best is trial 0 with value: 100.0.\n"
     ]
    },
    {
     "name": "stdout",
     "output_type": "stream",
     "text": [
      "Early stopping, best iteration is:\n",
      "[1]\tvalid_0's ER: 100\n",
      "Evaluated only: ER\n",
      "**************** regression_l1 ****************\n",
      "Training until validation scores don't improve for 165 rounds\n",
      "[100]\tvalid_0's ER: 100\n"
     ]
    },
    {
     "name": "stderr",
     "output_type": "stream",
     "text": [
      "[I 2023-12-16 05:14:26,317] Trial 3 finished with value: 100.0 and parameters: {'lambda_l1': 623.6971479616577, 'lambda_l2': 679.654019350513, 'learning_rate': 0.043164370812970546, 'num_leaves': 839, 'feature_fraction': 0.524738795568721, 'min_data_in_leaf': 3710}. Best is trial 0 with value: 100.0.\n"
     ]
    },
    {
     "name": "stdout",
     "output_type": "stream",
     "text": [
      "Early stopping, best iteration is:\n",
      "[1]\tvalid_0's ER: 100\n",
      "Evaluated only: ER\n",
      "**************** regression_l1 ****************\n",
      "Training until validation scores don't improve for 69 rounds\n"
     ]
    },
    {
     "name": "stderr",
     "output_type": "stream",
     "text": [
      "[I 2023-12-16 05:14:29,083] Trial 4 finished with value: 100.0 and parameters: {'lambda_l1': 792.5902639585291, 'lambda_l2': 196.52735271197264, 'learning_rate': 0.2586917472917075, 'num_leaves': 589, 'feature_fraction': 0.9327293865697905, 'min_data_in_leaf': 2489}. Best is trial 0 with value: 100.0.\n"
     ]
    },
    {
     "name": "stdout",
     "output_type": "stream",
     "text": [
      "Early stopping, best iteration is:\n",
      "[1]\tvalid_0's ER: 100\n",
      "Evaluated only: ER\n",
      "**************** regression_l1 ****************\n",
      "Training until validation scores don't improve for 74 rounds\n",
      "[100]\tvalid_0's ER: 98.56\n",
      "[200]\tvalid_0's ER: 97.99\n"
     ]
    },
    {
     "name": "stderr",
     "output_type": "stream",
     "text": [
      "[I 2023-12-16 05:14:33,985] Trial 5 finished with value: 97.78 and parameters: {'lambda_l1': 51.94795598483803, 'lambda_l2': 37.13421476134982, 'learning_rate': 0.2035108024799903, 'num_leaves': 647, 'feature_fraction': 0.4181875509277852, 'min_data_in_leaf': 5624}. Best is trial 5 with value: 97.78.\n"
     ]
    },
    {
     "name": "stdout",
     "output_type": "stream",
     "text": [
      "Early stopping, best iteration is:\n",
      "[142]\tvalid_0's ER: 97.78\n",
      "Evaluated only: ER\n",
      "**************** regression_l1 ****************\n",
      "Training until validation scores don't improve for 92 rounds\n"
     ]
    },
    {
     "name": "stderr",
     "output_type": "stream",
     "text": [
      "[I 2023-12-16 05:14:37,258] Trial 6 finished with value: 100.0 and parameters: {'lambda_l1': 886.398456565498, 'lambda_l2': 18.018241139919123, 'learning_rate': 0.11636470589352832, 'num_leaves': 257, 'feature_fraction': 0.7598243808479621, 'min_data_in_leaf': 494}. Best is trial 5 with value: 97.78.\n"
     ]
    },
    {
     "name": "stdout",
     "output_type": "stream",
     "text": [
      "Early stopping, best iteration is:\n",
      "[1]\tvalid_0's ER: 100\n",
      "Evaluated only: ER\n",
      "**************** regression_l1 ****************\n",
      "Training until validation scores don't improve for 177 rounds\n",
      "[100]\tvalid_0's ER: 100\n"
     ]
    },
    {
     "name": "stderr",
     "output_type": "stream",
     "text": [
      "[I 2023-12-16 05:14:42,303] Trial 7 finished with value: 100.0 and parameters: {'lambda_l1': 849.0978530810776, 'lambda_l2': 995.5262175520505, 'learning_rate': 0.03936650978468493, 'num_leaves': 843, 'feature_fraction': 0.9895709646241508, 'min_data_in_leaf': 2543}. Best is trial 5 with value: 97.78.\n"
     ]
    },
    {
     "name": "stdout",
     "output_type": "stream",
     "text": [
      "Early stopping, best iteration is:\n",
      "[1]\tvalid_0's ER: 100\n",
      "Evaluated only: ER\n",
      "**************** regression_l1 ****************\n",
      "Training until validation scores don't improve for 98 rounds\n"
     ]
    },
    {
     "name": "stderr",
     "output_type": "stream",
     "text": [
      "[I 2023-12-16 05:14:44,990] Trial 8 finished with value: 100.0 and parameters: {'lambda_l1': 467.27594533184447, 'lambda_l2': 263.6680447946703, 'learning_rate': 0.10366913823782839, 'num_leaves': 928, 'feature_fraction': 0.4707244993548318, 'min_data_in_leaf': 6970}. Best is trial 5 with value: 97.78.\n"
     ]
    },
    {
     "name": "stdout",
     "output_type": "stream",
     "text": [
      "Early stopping, best iteration is:\n",
      "[1]\tvalid_0's ER: 100\n",
      "Evaluated only: ER\n",
      "**************** regression_l1 ****************\n",
      "Training until validation scores don't improve for 94 rounds\n"
     ]
    },
    {
     "name": "stderr",
     "output_type": "stream",
     "text": [
      "[I 2023-12-16 05:14:47,096] Trial 9 finished with value: 100.0 and parameters: {'lambda_l1': 861.3732843587969, 'lambda_l2': 82.00814606224415, 'learning_rate': 0.11122162132371914, 'num_leaves': 117, 'feature_fraction': 0.26071243105779457, 'min_data_in_leaf': 4284}. Best is trial 5 with value: 97.78.\n"
     ]
    },
    {
     "name": "stdout",
     "output_type": "stream",
     "text": [
      "Early stopping, best iteration is:\n",
      "[1]\tvalid_0's ER: 100\n",
      "Evaluated only: ER\n",
      "# Experimentos: 10\n",
      "Mejor experimento: {'lambda_l1': 51.94795598483803, 'lambda_l2': 37.13421476134982, 'learning_rate': 0.2035108024799903, 'num_leaves': 647, 'feature_fraction': 0.4181875509277852, 'min_data_in_leaf': 5624}\n",
      "=========================================== Cluster 54 ===========================================\n"
     ]
    },
    {
     "name": "stderr",
     "output_type": "stream",
     "text": [
      "[I 2023-12-16 05:14:48,556] A new study created in memory with name: no-name-816d4941-de06-4143-a443-2bc041d4b7ba\n"
     ]
    },
    {
     "name": "stdout",
     "output_type": "stream",
     "text": [
      "Periodos entrenar: [201701 201702 201703 201704 201705 201706 201707 201708 201709 201710\n",
      " 201711 201712 201801 201802 201803 201804 201805 201806 201807 201808\n",
      " 201809 201810 201811 201812 201901 201902 201903 201904 201905]\n",
      "Periodos validar: [201907]\n",
      "product_id a validar: 2320\n",
      "X_train: (41561, 120)\n",
      "y_train: (41561,)\n",
      "\n",
      "X_validate: (2320, 120)\n",
      "y_validate: (2320,)\n",
      "Optimizacion Bayesiana\n",
      "**************** regression_l1 ****************\n",
      "Training until validation scores don't improve for 82 rounds\n"
     ]
    },
    {
     "name": "stderr",
     "output_type": "stream",
     "text": [
      "[I 2023-12-16 05:14:49,145] Trial 0 finished with value: 100.0 and parameters: {'lambda_l1': 460.7892258094862, 'lambda_l2': 567.417995836536, 'learning_rate': 0.15203734184807974, 'num_leaves': 448, 'feature_fraction': 0.30918934567587836, 'min_data_in_leaf': 4339}. Best is trial 0 with value: 100.0.\n"
     ]
    },
    {
     "name": "stdout",
     "output_type": "stream",
     "text": [
      "Early stopping, best iteration is:\n",
      "[1]\tvalid_0's ER: 100\n",
      "Evaluated only: ER\n",
      "**************** regression_l1 ****************\n",
      "Training until validation scores don't improve for 96 rounds\n"
     ]
    },
    {
     "name": "stderr",
     "output_type": "stream",
     "text": [
      "[I 2023-12-16 05:14:49,972] Trial 1 finished with value: 100.0 and parameters: {'lambda_l1': 352.8415327654018, 'lambda_l2': 519.5452673662516, 'learning_rate': 0.10717021028302054, 'num_leaves': 956, 'feature_fraction': 0.7173823796443608, 'min_data_in_leaf': 3288}. Best is trial 0 with value: 100.0.\n"
     ]
    },
    {
     "name": "stdout",
     "output_type": "stream",
     "text": [
      "Early stopping, best iteration is:\n",
      "[1]\tvalid_0's ER: 100\n",
      "Evaluated only: ER\n",
      "**************** regression_l1 ****************\n",
      "Training until validation scores don't improve for 93 rounds\n"
     ]
    },
    {
     "name": "stderr",
     "output_type": "stream",
     "text": [
      "[I 2023-12-16 05:14:50,712] Trial 2 finished with value: 100.0 and parameters: {'lambda_l1': 863.7841681343882, 'lambda_l2': 286.6943924666086, 'learning_rate': 0.11465122568880205, 'num_leaves': 869, 'feature_fraction': 0.6024143423760515, 'min_data_in_leaf': 5399}. Best is trial 0 with value: 100.0.\n"
     ]
    },
    {
     "name": "stdout",
     "output_type": "stream",
     "text": [
      "Early stopping, best iteration is:\n",
      "[1]\tvalid_0's ER: 100\n",
      "Evaluated only: ER\n",
      "**************** regression_l1 ****************\n",
      "Training until validation scores don't improve for 100 rounds\n"
     ]
    },
    {
     "name": "stderr",
     "output_type": "stream",
     "text": [
      "[I 2023-12-16 05:14:51,543] Trial 3 finished with value: 100.0 and parameters: {'lambda_l1': 665.9307281564056, 'lambda_l2': 52.16890282176734, 'learning_rate': 0.09918403481231426, 'num_leaves': 235, 'feature_fraction': 0.6121059250695451, 'min_data_in_leaf': 6933}. Best is trial 0 with value: 100.0.\n"
     ]
    },
    {
     "name": "stdout",
     "output_type": "stream",
     "text": [
      "[100]\tvalid_0's ER: 100\n",
      "Early stopping, best iteration is:\n",
      "[1]\tvalid_0's ER: 100\n",
      "Evaluated only: ER\n",
      "**************** regression_l1 ****************\n",
      "Training until validation scores don't improve for 86 rounds\n",
      "[100]\tvalid_0's ER: 90.21\n",
      "[200]\tvalid_0's ER: 89.77\n",
      "[300]\tvalid_0's ER: 89.6\n",
      "[400]\tvalid_0's ER: 89.44\n",
      "[500]\tvalid_0's ER: 89.15\n",
      "[600]\tvalid_0's ER: 89.01\n",
      "[700]\tvalid_0's ER: 88.88\n",
      "[800]\tvalid_0's ER: 88.59\n",
      "[900]\tvalid_0's ER: 88.42\n",
      "[1000]\tvalid_0's ER: 88.2\n",
      "[1100]\tvalid_0's ER: 87.88\n",
      "[1200]\tvalid_0's ER: 87.67\n",
      "[1300]\tvalid_0's ER: 87.6\n",
      "[1400]\tvalid_0's ER: 87.22\n",
      "[1500]\tvalid_0's ER: 87.15\n",
      "[1600]\tvalid_0's ER: 86.98\n",
      "[1700]\tvalid_0's ER: 86.47\n",
      "[1800]\tvalid_0's ER: 86.34\n",
      "[1900]\tvalid_0's ER: 86.21\n",
      "[2000]\tvalid_0's ER: 86.05\n",
      "[2100]\tvalid_0's ER: 85.97\n",
      "[2200]\tvalid_0's ER: 85.88\n",
      "[2300]\tvalid_0's ER: 85.73\n",
      "[2400]\tvalid_0's ER: 85.59\n",
      "[2500]\tvalid_0's ER: 85.54\n",
      "[2600]\tvalid_0's ER: 85.38\n",
      "[2700]\tvalid_0's ER: 85.34\n",
      "[2800]\tvalid_0's ER: 85.24\n",
      "[2900]\tvalid_0's ER: 85.09\n",
      "[3000]\tvalid_0's ER: 85.08\n",
      "[3100]\tvalid_0's ER: 84.94\n",
      "[3200]\tvalid_0's ER: 84.87\n",
      "[3300]\tvalid_0's ER: 84.8\n",
      "[3400]\tvalid_0's ER: 84.72\n",
      "[3500]\tvalid_0's ER: 84.6\n",
      "[3600]\tvalid_0's ER: 84.42\n",
      "[3700]\tvalid_0's ER: 84.31\n",
      "[3800]\tvalid_0's ER: 84.26\n",
      "[3900]\tvalid_0's ER: 84.13\n",
      "[4000]\tvalid_0's ER: 84.06\n",
      "[4100]\tvalid_0's ER: 84.02\n",
      "[4200]\tvalid_0's ER: 83.9\n",
      "Early stopping, best iteration is:\n",
      "[4186]\tvalid_0's ER: 83.89\n",
      "Evaluated only: ER\n"
     ]
    },
    {
     "name": "stderr",
     "output_type": "stream",
     "text": [
      "[I 2023-12-16 05:15:26,937] Trial 4 finished with value: 83.89 and parameters: {'lambda_l1': 97.49060358326656, 'lambda_l2': 136.29212458989105, 'learning_rate': 0.13521328859802753, 'num_leaves': 484, 'feature_fraction': 0.7242376023399366, 'min_data_in_leaf': 2005}. Best is trial 4 with value: 83.89.\n"
     ]
    },
    {
     "name": "stdout",
     "output_type": "stream",
     "text": [
      "**************** regression_l1 ****************\n",
      "Training until validation scores don't improve for 247 rounds\n",
      "[100]\tvalid_0's ER: 100\n"
     ]
    },
    {
     "name": "stderr",
     "output_type": "stream",
     "text": [
      "[I 2023-12-16 05:15:28,098] Trial 5 finished with value: 100.0 and parameters: {'lambda_l1': 999.0596366960035, 'lambda_l2': 693.8278577020151, 'learning_rate': 0.025324153898996997, 'num_leaves': 81, 'feature_fraction': 0.3916000144180398, 'min_data_in_leaf': 1894}. Best is trial 4 with value: 83.89.\n"
     ]
    },
    {
     "name": "stdout",
     "output_type": "stream",
     "text": [
      "[200]\tvalid_0's ER: 100\n",
      "Early stopping, best iteration is:\n",
      "[1]\tvalid_0's ER: 100\n",
      "Evaluated only: ER\n",
      "**************** regression_l1 ****************\n",
      "Training until validation scores don't improve for 110 rounds\n"
     ]
    },
    {
     "name": "stderr",
     "output_type": "stream",
     "text": [
      "[I 2023-12-16 05:15:28,973] Trial 6 finished with value: 100.0 and parameters: {'lambda_l1': 26.98307173115588, 'lambda_l2': 819.029188841404, 'learning_rate': 0.08198589587763393, 'num_leaves': 803, 'feature_fraction': 0.683887207308279, 'min_data_in_leaf': 7170}. Best is trial 4 with value: 83.89.\n"
     ]
    },
    {
     "name": "stdout",
     "output_type": "stream",
     "text": [
      "[100]\tvalid_0's ER: 100\n",
      "Early stopping, best iteration is:\n",
      "[1]\tvalid_0's ER: 100\n",
      "Evaluated only: ER\n",
      "**************** regression_l1 ****************\n",
      "Training until validation scores don't improve for 79 rounds\n"
     ]
    },
    {
     "name": "stderr",
     "output_type": "stream",
     "text": [
      "[I 2023-12-16 05:15:29,675] Trial 7 finished with value: 100.0 and parameters: {'lambda_l1': 450.7314254685829, 'lambda_l2': 442.5237917536, 'learning_rate': 0.17151510141026693, 'num_leaves': 869, 'feature_fraction': 0.7998207107741977, 'min_data_in_leaf': 1804}. Best is trial 4 with value: 83.89.\n"
     ]
    },
    {
     "name": "stdout",
     "output_type": "stream",
     "text": [
      "Early stopping, best iteration is:\n",
      "[1]\tvalid_0's ER: 100\n",
      "Evaluated only: ER\n",
      "**************** regression_l1 ****************\n",
      "Training until validation scores don't improve for 106 rounds\n"
     ]
    },
    {
     "name": "stderr",
     "output_type": "stream",
     "text": [
      "[I 2023-12-16 05:15:30,499] Trial 8 finished with value: 100.0 and parameters: {'lambda_l1': 776.9516521876375, 'lambda_l2': 288.0141371540316, 'learning_rate': 0.08830084876199225, 'num_leaves': 767, 'feature_fraction': 0.43045566023725157, 'min_data_in_leaf': 4617}. Best is trial 4 with value: 83.89.\n"
     ]
    },
    {
     "name": "stdout",
     "output_type": "stream",
     "text": [
      "[100]\tvalid_0's ER: 100\n",
      "Early stopping, best iteration is:\n",
      "[1]\tvalid_0's ER: 100\n",
      "Evaluated only: ER\n",
      "**************** regression_l1 ****************\n",
      "Training until validation scores don't improve for 242 rounds\n",
      "[100]\tvalid_0's ER: 100\n",
      "[200]\tvalid_0's ER: 100\n"
     ]
    },
    {
     "name": "stderr",
     "output_type": "stream",
     "text": [
      "[I 2023-12-16 05:15:32,027] Trial 9 finished with value: 100.0 and parameters: {'lambda_l1': 683.334642997229, 'lambda_l2': 230.99084257819314, 'learning_rate': 0.025979996403382798, 'num_leaves': 906, 'feature_fraction': 0.8590460441689667, 'min_data_in_leaf': 1702}. Best is trial 4 with value: 83.89.\n"
     ]
    },
    {
     "name": "stdout",
     "output_type": "stream",
     "text": [
      "Early stopping, best iteration is:\n",
      "[1]\tvalid_0's ER: 100\n",
      "Evaluated only: ER\n",
      "# Experimentos: 10\n",
      "Mejor experimento: {'lambda_l1': 97.49060358326656, 'lambda_l2': 136.29212458989105, 'learning_rate': 0.13521328859802753, 'num_leaves': 484, 'feature_fraction': 0.7242376023399366, 'min_data_in_leaf': 2005}\n",
      "=========================================== Cluster 55 ===========================================\n"
     ]
    },
    {
     "name": "stderr",
     "output_type": "stream",
     "text": [
      "[I 2023-12-16 05:15:33,149] A new study created in memory with name: no-name-87d8ace4-4992-4d1a-b74e-1f37f696a0c3\n"
     ]
    },
    {
     "name": "stdout",
     "output_type": "stream",
     "text": [
      "Periodos entrenar: [201701 201702 201703 201704 201705 201706 201707 201708 201709 201710\n",
      " 201711 201712 201801 201802 201803 201804 201805 201806 201807 201808\n",
      " 201809 201810 201811 201812 201901 201902 201903 201904 201905]\n",
      "Periodos validar: [201907]\n",
      "product_id a validar: 1740\n",
      "X_train: (31485, 120)\n",
      "y_train: (31485,)\n",
      "\n",
      "X_validate: (1740, 120)\n",
      "y_validate: (1740,)\n",
      "Optimizacion Bayesiana\n",
      "**************** regression_l1 ****************\n",
      "Training until validation scores don't improve for 132 rounds\n"
     ]
    },
    {
     "name": "stderr",
     "output_type": "stream",
     "text": [
      "[I 2023-12-16 05:15:33,914] Trial 0 finished with value: 100.0 and parameters: {'lambda_l1': 751.2319795424296, 'lambda_l2': 307.38237027844696, 'learning_rate': 0.06050966862409811, 'num_leaves': 797, 'feature_fraction': 0.9845965304523829, 'min_data_in_leaf': 5935}. Best is trial 0 with value: 100.0.\n"
     ]
    },
    {
     "name": "stdout",
     "output_type": "stream",
     "text": [
      "[100]\tvalid_0's ER: 100\n",
      "Early stopping, best iteration is:\n",
      "[1]\tvalid_0's ER: 100\n",
      "Evaluated only: ER\n",
      "**************** regression_l1 ****************\n",
      "Training until validation scores don't improve for 77 rounds\n",
      "[100]\tvalid_0's ER: 99.16\n",
      "Early stopping, best iteration is:\n",
      "[79]\tvalid_0's ER: 99.14\n",
      "Evaluated only: ER\n"
     ]
    },
    {
     "name": "stderr",
     "output_type": "stream",
     "text": [
      "[I 2023-12-16 05:15:34,688] Trial 1 finished with value: 99.14 and parameters: {'lambda_l1': 796.279050887381, 'lambda_l2': 595.7271950769476, 'learning_rate': 0.1809423616386737, 'num_leaves': 931, 'feature_fraction': 0.5533625142275418, 'min_data_in_leaf': 5261}. Best is trial 1 with value: 99.14.\n"
     ]
    },
    {
     "name": "stdout",
     "output_type": "stream",
     "text": [
      "**************** regression_l1 ****************\n",
      "Training until validation scores don't improve for 157 rounds\n",
      "[100]\tvalid_0's ER: 100\n",
      "[200]\tvalid_0's ER: 98.74\n",
      "[300]\tvalid_0's ER: 98.72\n",
      "[400]\tvalid_0's ER: 98.71\n",
      "[500]\tvalid_0's ER: 98.67\n",
      "[600]\tvalid_0's ER: 98.67\n"
     ]
    },
    {
     "name": "stderr",
     "output_type": "stream",
     "text": [
      "[I 2023-12-16 05:15:37,823] Trial 2 finished with value: 98.66 and parameters: {'lambda_l1': 19.674733970538206, 'lambda_l2': 802.2209738240847, 'learning_rate': 0.04644364131117906, 'num_leaves': 85, 'feature_fraction': 0.6763084133043169, 'min_data_in_leaf': 6036}. Best is trial 2 with value: 98.66.\n"
     ]
    },
    {
     "name": "stdout",
     "output_type": "stream",
     "text": [
      "Early stopping, best iteration is:\n",
      "[523]\tvalid_0's ER: 98.66\n",
      "Evaluated only: ER\n",
      "**************** regression_l1 ****************\n",
      "Training until validation scores don't improve for 73 rounds\n"
     ]
    },
    {
     "name": "stderr",
     "output_type": "stream",
     "text": [
      "[I 2023-12-16 05:15:38,373] Trial 3 finished with value: 100.0 and parameters: {'lambda_l1': 426.98606729917043, 'lambda_l2': 792.4995460199235, 'learning_rate': 0.20997624192444042, 'num_leaves': 612, 'feature_fraction': 0.6964288044003786, 'min_data_in_leaf': 5268}. Best is trial 2 with value: 98.66.\n"
     ]
    },
    {
     "name": "stdout",
     "output_type": "stream",
     "text": [
      "Early stopping, best iteration is:\n",
      "[1]\tvalid_0's ER: 100\n",
      "Evaluated only: ER\n",
      "**************** regression_l1 ****************\n",
      "Training until validation scores don't improve for 115 rounds\n"
     ]
    },
    {
     "name": "stderr",
     "output_type": "stream",
     "text": [
      "[I 2023-12-16 05:15:39,034] Trial 4 finished with value: 100.0 and parameters: {'lambda_l1': 142.27520094764034, 'lambda_l2': 843.9444954224504, 'learning_rate': 0.07649634693485892, 'num_leaves': 615, 'feature_fraction': 0.8074317664688289, 'min_data_in_leaf': 7523}. Best is trial 2 with value: 98.66.\n"
     ]
    },
    {
     "name": "stdout",
     "output_type": "stream",
     "text": [
      "[100]\tvalid_0's ER: 100\n",
      "Early stopping, best iteration is:\n",
      "[1]\tvalid_0's ER: 100\n",
      "Evaluated only: ER\n",
      "**************** regression_l1 ****************\n",
      "Training until validation scores don't improve for 70 rounds\n",
      "[100]\tvalid_0's ER: 97.82\n",
      "[200]\tvalid_0's ER: 97.21\n",
      "[300]\tvalid_0's ER: 97.02\n",
      "[400]\tvalid_0's ER: 96.87\n",
      "[500]\tvalid_0's ER: 96.7\n",
      "[600]\tvalid_0's ER: 96.61\n",
      "[700]\tvalid_0's ER: 96.59\n",
      "[800]\tvalid_0's ER: 96.34\n",
      "[900]\tvalid_0's ER: 96.14\n",
      "[1000]\tvalid_0's ER: 95.95\n",
      "[1100]\tvalid_0's ER: 95.8\n",
      "[1200]\tvalid_0's ER: 95.63\n",
      "[1300]\tvalid_0's ER: 95.38\n",
      "[1400]\tvalid_0's ER: 95.24\n",
      "[1500]\tvalid_0's ER: 95.16\n",
      "[1600]\tvalid_0's ER: 95.05\n",
      "[1700]\tvalid_0's ER: 94.86\n",
      "[1800]\tvalid_0's ER: 94.72\n",
      "[1900]\tvalid_0's ER: 94.64\n",
      "[2000]\tvalid_0's ER: 94.5\n",
      "[2100]\tvalid_0's ER: 94.41\n",
      "[2200]\tvalid_0's ER: 94.29\n",
      "[2300]\tvalid_0's ER: 94.17\n",
      "[2400]\tvalid_0's ER: 94.1\n",
      "[2500]\tvalid_0's ER: 94.03\n",
      "[2600]\tvalid_0's ER: 93.97\n",
      "[2700]\tvalid_0's ER: 93.92\n",
      "[2800]\tvalid_0's ER: 93.88\n",
      "[2900]\tvalid_0's ER: 93.79\n",
      "[3000]\tvalid_0's ER: 93.72\n",
      "[3100]\tvalid_0's ER: 93.64\n",
      "[3200]\tvalid_0's ER: 93.59\n",
      "[3300]\tvalid_0's ER: 93.5\n",
      "[3400]\tvalid_0's ER: 93.45\n",
      "[3500]\tvalid_0's ER: 93.38\n",
      "[3600]\tvalid_0's ER: 93.33\n",
      "[3700]\tvalid_0's ER: 93.3\n",
      "[3800]\tvalid_0's ER: 93.27\n",
      "[3900]\tvalid_0's ER: 93.23\n",
      "Early stopping, best iteration is:\n",
      "[3847]\tvalid_0's ER: 93.22\n",
      "Evaluated only: ER\n"
     ]
    },
    {
     "name": "stderr",
     "output_type": "stream",
     "text": [
      "[I 2023-12-16 05:15:57,294] Trial 5 finished with value: 93.22 and parameters: {'lambda_l1': 139.2166688123706, 'lambda_l2': 669.176614926012, 'learning_rate': 0.2387027981567884, 'num_leaves': 324, 'feature_fraction': 0.7083513718920766, 'min_data_in_leaf': 4663}. Best is trial 5 with value: 93.22.\n"
     ]
    },
    {
     "name": "stdout",
     "output_type": "stream",
     "text": [
      "**************** regression_l1 ****************\n",
      "Training until validation scores don't improve for 92 rounds\n"
     ]
    },
    {
     "name": "stderr",
     "output_type": "stream",
     "text": [
      "[I 2023-12-16 05:15:57,932] Trial 6 finished with value: 100.0 and parameters: {'lambda_l1': 276.2048495019653, 'lambda_l2': 44.962863773733154, 'learning_rate': 0.11722809775940467, 'num_leaves': 705, 'feature_fraction': 0.9165249063969767, 'min_data_in_leaf': 4502}. Best is trial 5 with value: 93.22.\n"
     ]
    },
    {
     "name": "stdout",
     "output_type": "stream",
     "text": [
      "Early stopping, best iteration is:\n",
      "[1]\tvalid_0's ER: 100\n",
      "Evaluated only: ER\n",
      "**************** regression_l1 ****************\n",
      "Training until validation scores don't improve for 72 rounds\n",
      "[100]\tvalid_0's ER: 97.01\n"
     ]
    },
    {
     "name": "stderr",
     "output_type": "stream",
     "text": [
      "[I 2023-12-16 05:15:58,855] Trial 7 finished with value: 96.76 and parameters: {'lambda_l1': 426.2396837429171, 'lambda_l2': 106.02592540140765, 'learning_rate': 0.2189882780041689, 'num_leaves': 797, 'feature_fraction': 0.40155054102827603, 'min_data_in_leaf': 3692}. Best is trial 5 with value: 93.22.\n"
     ]
    },
    {
     "name": "stdout",
     "output_type": "stream",
     "text": [
      "[200]\tvalid_0's ER: 96.77\n",
      "Early stopping, best iteration is:\n",
      "[140]\tvalid_0's ER: 96.76\n",
      "Evaluated only: ER\n",
      "**************** regression_l1 ****************\n",
      "Training until validation scores don't improve for 104 rounds\n",
      "[100]\tvalid_0's ER: 86.43\n"
     ]
    },
    {
     "name": "stderr",
     "output_type": "stream",
     "text": [
      "[I 2023-12-16 05:15:59,738] Trial 8 finished with value: 84.79 and parameters: {'lambda_l1': 69.45101243878682, 'lambda_l2': 725.3966537594475, 'learning_rate': 0.09144803471098147, 'num_leaves': 467, 'feature_fraction': 0.5120826461304591, 'min_data_in_leaf': 1154}. Best is trial 8 with value: 84.79.\n"
     ]
    },
    {
     "name": "stdout",
     "output_type": "stream",
     "text": [
      "Early stopping, best iteration is:\n",
      "[38]\tvalid_0's ER: 84.79\n",
      "Evaluated only: ER\n",
      "**************** regression_l1 ****************\n",
      "Training until validation scores don't improve for 71 rounds\n"
     ]
    },
    {
     "name": "stderr",
     "output_type": "stream",
     "text": [
      "[I 2023-12-16 05:16:00,256] Trial 9 finished with value: 95.7 and parameters: {'lambda_l1': 727.6074269216409, 'lambda_l2': 256.7765345165891, 'learning_rate': 0.2302302458974098, 'num_leaves': 294, 'feature_fraction': 0.2661691751468682, 'min_data_in_leaf': 2369}. Best is trial 8 with value: 84.79.\n"
     ]
    },
    {
     "name": "stdout",
     "output_type": "stream",
     "text": [
      "[100]\tvalid_0's ER: 97.92\n",
      "Early stopping, best iteration is:\n",
      "[41]\tvalid_0's ER: 95.7\n",
      "Evaluated only: ER\n",
      "# Experimentos: 10\n",
      "Mejor experimento: {'lambda_l1': 69.45101243878682, 'lambda_l2': 725.3966537594475, 'learning_rate': 0.09144803471098147, 'num_leaves': 467, 'feature_fraction': 0.5120826461304591, 'min_data_in_leaf': 1154}\n",
      "=========================================== Cluster 56 ===========================================\n"
     ]
    },
    {
     "name": "stderr",
     "output_type": "stream",
     "text": [
      "[I 2023-12-16 05:16:06,020] A new study created in memory with name: no-name-854b9d5a-0314-41b8-b429-b391a87a096e\n"
     ]
    },
    {
     "name": "stdout",
     "output_type": "stream",
     "text": [
      "Periodos entrenar: [201701 201702 201703 201704 201705 201706 201707 201708 201709 201710\n",
      " 201711 201712 201801 201802 201803 201804 201805 201806 201807 201808\n",
      " 201809 201810 201811 201812 201901 201902 201903 201904 201905]\n",
      "Periodos validar: [201907]\n",
      "product_id a validar: 6960\n",
      "X_train: (185484, 120)\n",
      "y_train: (185484,)\n",
      "\n",
      "X_validate: (6960, 120)\n",
      "y_validate: (6960,)\n",
      "Optimizacion Bayesiana\n",
      "**************** regression_l1 ****************\n",
      "Training until validation scores don't improve for 75 rounds\n",
      "[100]\tvalid_0's ER: 97.08\n"
     ]
    },
    {
     "name": "stderr",
     "output_type": "stream",
     "text": [
      "[I 2023-12-16 05:16:11,520] Trial 0 finished with value: 97.08 and parameters: {'lambda_l1': 916.494414024501, 'lambda_l2': 126.1364599257796, 'learning_rate': 0.19595441906774388, 'num_leaves': 905, 'feature_fraction': 0.6100304527872233, 'min_data_in_leaf': 7272}. Best is trial 0 with value: 97.08.\n"
     ]
    },
    {
     "name": "stdout",
     "output_type": "stream",
     "text": [
      "Early stopping, best iteration is:\n",
      "[88]\tvalid_0's ER: 97.08\n",
      "Evaluated only: ER\n",
      "**************** regression_l1 ****************\n",
      "Training until validation scores don't improve for 384 rounds\n",
      "[100]\tvalid_0's ER: 98.42\n",
      "[200]\tvalid_0's ER: 96.32\n",
      "[300]\tvalid_0's ER: 94.78\n",
      "[400]\tvalid_0's ER: 93.74\n",
      "[500]\tvalid_0's ER: 92.77\n",
      "[600]\tvalid_0's ER: 92.66\n",
      "[700]\tvalid_0's ER: 92.55\n",
      "[800]\tvalid_0's ER: 92.52\n",
      "[900]\tvalid_0's ER: 92.46\n",
      "[1000]\tvalid_0's ER: 92.38\n",
      "[1100]\tvalid_0's ER: 92.27\n",
      "[1200]\tvalid_0's ER: 92.17\n",
      "[1300]\tvalid_0's ER: 92.16\n",
      "[1400]\tvalid_0's ER: 92.1\n",
      "[1500]\tvalid_0's ER: 92.1\n",
      "[1600]\tvalid_0's ER: 91.94\n",
      "[1700]\tvalid_0's ER: 91.94\n",
      "[1800]\tvalid_0's ER: 91.9\n",
      "[1900]\tvalid_0's ER: 91.86\n",
      "[2000]\tvalid_0's ER: 91.84\n",
      "[2100]\tvalid_0's ER: 91.81\n",
      "[2200]\tvalid_0's ER: 91.77\n",
      "[2300]\tvalid_0's ER: 91.75\n",
      "[2400]\tvalid_0's ER: 91.73\n",
      "[2500]\tvalid_0's ER: 91.59\n",
      "[2600]\tvalid_0's ER: 91.54\n",
      "[2700]\tvalid_0's ER: 91.49\n",
      "[2800]\tvalid_0's ER: 91.51\n",
      "[2900]\tvalid_0's ER: 91.46\n",
      "[3000]\tvalid_0's ER: 91.48\n",
      "[3100]\tvalid_0's ER: 91.49\n",
      "[3200]\tvalid_0's ER: 91.49\n",
      "[3300]\tvalid_0's ER: 91.33\n",
      "[3400]\tvalid_0's ER: 91.28\n",
      "[3500]\tvalid_0's ER: 91.24\n",
      "[3600]\tvalid_0's ER: 91.26\n",
      "[3700]\tvalid_0's ER: 91.17\n",
      "[3800]\tvalid_0's ER: 91.15\n",
      "[3900]\tvalid_0's ER: 91.11\n",
      "[4000]\tvalid_0's ER: 91.07\n",
      "[4100]\tvalid_0's ER: 91.06\n",
      "[4200]\tvalid_0's ER: 91.06\n",
      "[4300]\tvalid_0's ER: 91.05\n",
      "[4400]\tvalid_0's ER: 90.98\n",
      "[4500]\tvalid_0's ER: 90.9\n",
      "[4600]\tvalid_0's ER: 90.91\n",
      "[4700]\tvalid_0's ER: 90.89\n",
      "[4800]\tvalid_0's ER: 90.82\n",
      "[4900]\tvalid_0's ER: 90.86\n",
      "[5000]\tvalid_0's ER: 90.86\n",
      "[5100]\tvalid_0's ER: 90.84\n",
      "Early stopping, best iteration is:\n",
      "[4794]\tvalid_0's ER: 90.82\n",
      "Evaluated only: ER\n"
     ]
    },
    {
     "name": "stderr",
     "output_type": "stream",
     "text": [
      "[I 2023-12-16 05:19:26,372] Trial 1 finished with value: 90.82 and parameters: {'lambda_l1': 330.32803847170277, 'lambda_l2': 660.6069007073503, 'learning_rate': 0.014947011848798285, 'num_leaves': 788, 'feature_fraction': 0.9227222245660405, 'min_data_in_leaf': 3795}. Best is trial 1 with value: 90.82.\n"
     ]
    },
    {
     "name": "stdout",
     "output_type": "stream",
     "text": [
      "**************** regression_l1 ****************\n",
      "Training until validation scores don't improve for 69 rounds\n",
      "[100]\tvalid_0's ER: 96.99\n"
     ]
    },
    {
     "name": "stderr",
     "output_type": "stream",
     "text": [
      "[I 2023-12-16 05:19:29,277] Trial 2 finished with value: 96.97 and parameters: {'lambda_l1': 413.90621991298417, 'lambda_l2': 319.2027252738239, 'learning_rate': 0.25311015626924216, 'num_leaves': 427, 'feature_fraction': 0.27978855476988485, 'min_data_in_leaf': 5016}. Best is trial 1 with value: 90.82.\n"
     ]
    },
    {
     "name": "stdout",
     "output_type": "stream",
     "text": [
      "Early stopping, best iteration is:\n",
      "[56]\tvalid_0's ER: 96.97\n",
      "Evaluated only: ER\n",
      "**************** regression_l1 ****************\n",
      "Training until validation scores don't improve for 72 rounds\n"
     ]
    },
    {
     "name": "stderr",
     "output_type": "stream",
     "text": [
      "[I 2023-12-16 05:19:33,087] Trial 3 finished with value: 95.82 and parameters: {'lambda_l1': 881.265505277989, 'lambda_l2': 191.29806636667413, 'learning_rate': 0.22027492549245714, 'num_leaves': 894, 'feature_fraction': 0.7600234736316429, 'min_data_in_leaf': 3079}. Best is trial 1 with value: 90.82.\n"
     ]
    },
    {
     "name": "stdout",
     "output_type": "stream",
     "text": [
      "Early stopping, best iteration is:\n",
      "[24]\tvalid_0's ER: 95.82\n",
      "Evaluated only: ER\n",
      "**************** regression_l1 ****************\n",
      "Training until validation scores don't improve for 408 rounds\n",
      "[100]\tvalid_0's ER: 96.69\n",
      "[200]\tvalid_0's ER: 96.09\n",
      "[300]\tvalid_0's ER: 95.69\n",
      "[400]\tvalid_0's ER: 95.38\n",
      "[500]\tvalid_0's ER: 95.02\n",
      "[600]\tvalid_0's ER: 94.88\n",
      "[700]\tvalid_0's ER: 94.86\n",
      "[800]\tvalid_0's ER: 94.82\n",
      "[900]\tvalid_0's ER: 94.64\n",
      "[1000]\tvalid_0's ER: 94.48\n",
      "[1100]\tvalid_0's ER: 94.31\n",
      "[1200]\tvalid_0's ER: 94.32\n",
      "[1300]\tvalid_0's ER: 94.24\n",
      "[1400]\tvalid_0's ER: 94.14\n",
      "[1500]\tvalid_0's ER: 93.9\n",
      "[1600]\tvalid_0's ER: 93.69\n",
      "[1700]\tvalid_0's ER: 93.43\n",
      "[1800]\tvalid_0's ER: 93.37\n",
      "[1900]\tvalid_0's ER: 93.26\n",
      "[2000]\tvalid_0's ER: 93.2\n",
      "[2100]\tvalid_0's ER: 93.02\n",
      "[2200]\tvalid_0's ER: 93\n",
      "[2300]\tvalid_0's ER: 92.8\n",
      "[2400]\tvalid_0's ER: 92.66\n",
      "[2500]\tvalid_0's ER: 92.51\n",
      "[2600]\tvalid_0's ER: 92.39\n",
      "[2700]\tvalid_0's ER: 92.33\n",
      "[2800]\tvalid_0's ER: 92.24\n",
      "[2900]\tvalid_0's ER: 92.17\n",
      "[3000]\tvalid_0's ER: 92.1\n",
      "[3100]\tvalid_0's ER: 92.05\n",
      "[3200]\tvalid_0's ER: 92.01\n",
      "[3300]\tvalid_0's ER: 91.97\n",
      "[3400]\tvalid_0's ER: 91.91\n",
      "[3500]\tvalid_0's ER: 91.86\n",
      "[3600]\tvalid_0's ER: 91.83\n",
      "[3700]\tvalid_0's ER: 91.79\n",
      "[3800]\tvalid_0's ER: 91.79\n",
      "[3900]\tvalid_0's ER: 91.75\n",
      "[4000]\tvalid_0's ER: 91.75\n",
      "[4100]\tvalid_0's ER: 91.75\n",
      "[4200]\tvalid_0's ER: 91.71\n",
      "[4300]\tvalid_0's ER: 91.66\n",
      "[4400]\tvalid_0's ER: 91.58\n",
      "[4500]\tvalid_0's ER: 91.54\n",
      "[4600]\tvalid_0's ER: 91.5\n",
      "[4700]\tvalid_0's ER: 91.45\n",
      "[4800]\tvalid_0's ER: 91.43\n",
      "[4900]\tvalid_0's ER: 91.42\n",
      "[5000]\tvalid_0's ER: 91.43\n",
      "[5100]\tvalid_0's ER: 91.42\n",
      "[5200]\tvalid_0's ER: 91.38\n",
      "[5300]\tvalid_0's ER: 91.34\n",
      "[5400]\tvalid_0's ER: 91.32\n",
      "[5500]\tvalid_0's ER: 91.31\n",
      "[5600]\tvalid_0's ER: 91.27\n",
      "[5700]\tvalid_0's ER: 91.27\n",
      "[5800]\tvalid_0's ER: 91.23\n",
      "[5900]\tvalid_0's ER: 91.19\n",
      "[6000]\tvalid_0's ER: 91.15\n",
      "[6100]\tvalid_0's ER: 91.14\n",
      "[6200]\tvalid_0's ER: 91.09\n",
      "[6300]\tvalid_0's ER: 91.05\n",
      "[6400]\tvalid_0's ER: 91.03\n",
      "[6500]\tvalid_0's ER: 91.01\n",
      "[6600]\tvalid_0's ER: 90.98\n",
      "[6700]\tvalid_0's ER: 90.98\n",
      "[6800]\tvalid_0's ER: 90.96\n",
      "[6900]\tvalid_0's ER: 90.95\n",
      "[7000]\tvalid_0's ER: 90.92\n",
      "[7100]\tvalid_0's ER: 90.9\n",
      "[7200]\tvalid_0's ER: 90.89\n",
      "[7300]\tvalid_0's ER: 90.88\n",
      "[7400]\tvalid_0's ER: 90.84\n",
      "[7500]\tvalid_0's ER: 90.83\n",
      "[7600]\tvalid_0's ER: 90.81\n",
      "[7700]\tvalid_0's ER: 90.8\n",
      "[7800]\tvalid_0's ER: 90.78\n",
      "[7900]\tvalid_0's ER: 90.78\n",
      "[8000]\tvalid_0's ER: 90.76\n",
      "[8100]\tvalid_0's ER: 90.74\n",
      "[8200]\tvalid_0's ER: 90.74\n",
      "[8300]\tvalid_0's ER: 90.72\n",
      "[8400]\tvalid_0's ER: 90.7\n",
      "[8500]\tvalid_0's ER: 90.68\n",
      "[8600]\tvalid_0's ER: 90.69\n",
      "[8700]\tvalid_0's ER: 90.67\n",
      "[8800]\tvalid_0's ER: 90.64\n",
      "[8900]\tvalid_0's ER: 90.62\n",
      "[9000]\tvalid_0's ER: 90.6\n",
      "[9100]\tvalid_0's ER: 90.59\n",
      "[9200]\tvalid_0's ER: 90.58\n",
      "[9300]\tvalid_0's ER: 90.56\n",
      "[9400]\tvalid_0's ER: 90.53\n",
      "[9500]\tvalid_0's ER: 90.52\n",
      "[9600]\tvalid_0's ER: 90.51\n",
      "[9700]\tvalid_0's ER: 90.49\n",
      "[9800]\tvalid_0's ER: 90.49\n",
      "[9900]\tvalid_0's ER: 90.48\n",
      "[10000]\tvalid_0's ER: 90.46\n",
      "Did not meet early stopping. Best iteration is:\n",
      "[9972]\tvalid_0's ER: 90.46\n",
      "Evaluated only: ER\n"
     ]
    },
    {
     "name": "stderr",
     "output_type": "stream",
     "text": [
      "[I 2023-12-16 05:22:31,019] Trial 4 finished with value: 90.46 and parameters: {'lambda_l1': 101.09373858681847, 'lambda_l2': 445.2212243157572, 'learning_rate': 0.013954422965057013, 'num_leaves': 729, 'feature_fraction': 0.28467391334578257, 'min_data_in_leaf': 5018}. Best is trial 4 with value: 90.46.\n"
     ]
    },
    {
     "name": "stdout",
     "output_type": "stream",
     "text": [
      "**************** regression_l1 ****************\n",
      "Training until validation scores don't improve for 81 rounds\n",
      "[100]\tvalid_0's ER: 94.04\n",
      "[200]\tvalid_0's ER: 93.21\n"
     ]
    },
    {
     "name": "stderr",
     "output_type": "stream",
     "text": [
      "[I 2023-12-16 05:22:37,547] Trial 5 finished with value: 93.2 and parameters: {'lambda_l1': 133.91885209242992, 'lambda_l2': 163.4853060980379, 'learning_rate': 0.1600405609117668, 'num_leaves': 51, 'feature_fraction': 0.39413816463589174, 'min_data_in_leaf': 4807}. Best is trial 4 with value: 90.46.\n"
     ]
    },
    {
     "name": "stdout",
     "output_type": "stream",
     "text": [
      "Early stopping, best iteration is:\n",
      "[203]\tvalid_0's ER: 93.2\n",
      "Evaluated only: ER\n",
      "**************** regression_l1 ****************\n",
      "Training until validation scores don't improve for 85 rounds\n",
      "[100]\tvalid_0's ER: 93.54\n",
      "[200]\tvalid_0's ER: 93.19\n"
     ]
    },
    {
     "name": "stderr",
     "output_type": "stream",
     "text": [
      "[I 2023-12-16 05:22:43,364] Trial 6 finished with value: 93.19 and parameters: {'lambda_l1': 216.33502270503803, 'lambda_l2': 705.2907221580404, 'learning_rate': 0.13912381261395515, 'num_leaves': 511, 'feature_fraction': 0.31985491602429317, 'min_data_in_leaf': 4528}. Best is trial 4 with value: 90.46.\n"
     ]
    },
    {
     "name": "stdout",
     "output_type": "stream",
     "text": [
      "Early stopping, best iteration is:\n",
      "[192]\tvalid_0's ER: 93.19\n",
      "Evaluated only: ER\n",
      "**************** regression_l1 ****************\n",
      "Training until validation scores don't improve for 86 rounds\n",
      "[100]\tvalid_0's ER: 84.73\n",
      "[200]\tvalid_0's ER: 83.58\n"
     ]
    },
    {
     "name": "stderr",
     "output_type": "stream",
     "text": [
      "[I 2023-12-16 05:22:56,522] Trial 7 finished with value: 83.46 and parameters: {'lambda_l1': 247.20601982080515, 'lambda_l2': 406.72811695220213, 'learning_rate': 0.13760891041779744, 'num_leaves': 133, 'feature_fraction': 0.544343119663171, 'min_data_in_leaf': 426}. Best is trial 7 with value: 83.46.\n"
     ]
    },
    {
     "name": "stdout",
     "output_type": "stream",
     "text": [
      "Early stopping, best iteration is:\n",
      "[185]\tvalid_0's ER: 83.46\n",
      "Evaluated only: ER\n",
      "**************** regression_l1 ****************\n",
      "Training until validation scores don't improve for 70 rounds\n",
      "[100]\tvalid_0's ER: 88.05\n",
      "[200]\tvalid_0's ER: 87.15\n",
      "[300]\tvalid_0's ER: 86.98\n",
      "[400]\tvalid_0's ER: 86.45\n",
      "[500]\tvalid_0's ER: 86.27\n"
     ]
    },
    {
     "name": "stderr",
     "output_type": "stream",
     "text": [
      "[I 2023-12-16 05:23:05,703] Trial 8 finished with value: 86.18 and parameters: {'lambda_l1': 118.88510828807574, 'lambda_l2': 792.0888696543947, 'learning_rate': 0.2415242398206948, 'num_leaves': 486, 'feature_fraction': 0.2428227872547189, 'min_data_in_leaf': 1040}. Best is trial 7 with value: 83.46.\n"
     ]
    },
    {
     "name": "stdout",
     "output_type": "stream",
     "text": [
      "Early stopping, best iteration is:\n",
      "[445]\tvalid_0's ER: 86.18\n",
      "Evaluated only: ER\n",
      "**************** regression_l1 ****************\n",
      "Training until validation scores don't improve for 114 rounds\n",
      "[100]\tvalid_0's ER: 97.67\n",
      "[200]\tvalid_0's ER: 96.64\n",
      "[300]\tvalid_0's ER: 95.73\n",
      "[400]\tvalid_0's ER: 95.35\n",
      "[500]\tvalid_0's ER: 95.29\n"
     ]
    },
    {
     "name": "stderr",
     "output_type": "stream",
     "text": [
      "[I 2023-12-16 05:23:21,463] Trial 9 finished with value: 95.28 and parameters: {'lambda_l1': 203.44462029064414, 'lambda_l2': 461.20482401131414, 'learning_rate': 0.0771051403653309, 'num_leaves': 958, 'feature_fraction': 0.9329221033566961, 'min_data_in_leaf': 6475}. Best is trial 7 with value: 83.46.\n"
     ]
    },
    {
     "name": "stdout",
     "output_type": "stream",
     "text": [
      "Early stopping, best iteration is:\n",
      "[418]\tvalid_0's ER: 95.28\n",
      "Evaluated only: ER\n",
      "# Experimentos: 10\n",
      "Mejor experimento: {'lambda_l1': 247.20601982080515, 'lambda_l2': 406.72811695220213, 'learning_rate': 0.13760891041779744, 'num_leaves': 133, 'feature_fraction': 0.544343119663171, 'min_data_in_leaf': 426}\n",
      "=========================================== Cluster 57 ===========================================\n"
     ]
    },
    {
     "name": "stderr",
     "output_type": "stream",
     "text": [
      "[I 2023-12-16 05:23:22,599] A new study created in memory with name: no-name-31f47243-5f03-4ed2-9fc3-6305307c37f9\n"
     ]
    },
    {
     "name": "stdout",
     "output_type": "stream",
     "text": [
      "Periodos entrenar: [201701 201702 201703 201704 201705 201706 201707 201708 201709 201710\n",
      " 201711 201712 201801 201802 201803 201804 201805 201806 201807 201808\n",
      " 201809 201810 201811 201812 201901 201902 201903 201904 201905]\n",
      "Periodos validar: [201907]\n",
      "product_id a validar: 1160\n",
      "X_train: (30914, 120)\n",
      "y_train: (30914,)\n",
      "\n",
      "X_validate: (1160, 120)\n",
      "y_validate: (1160,)\n",
      "Optimizacion Bayesiana\n",
      "**************** regression_l1 ****************\n",
      "Training until validation scores don't improve for 72 rounds\n"
     ]
    },
    {
     "name": "stderr",
     "output_type": "stream",
     "text": [
      "[I 2023-12-16 05:23:23,116] Trial 0 finished with value: 100.0 and parameters: {'lambda_l1': 459.38414795089966, 'lambda_l2': 476.6153567790805, 'learning_rate': 0.22136516112190782, 'num_leaves': 211, 'feature_fraction': 0.7781127277514042, 'min_data_in_leaf': 2962}. Best is trial 0 with value: 100.0.\n"
     ]
    },
    {
     "name": "stdout",
     "output_type": "stream",
     "text": [
      "Early stopping, best iteration is:\n",
      "[1]\tvalid_0's ER: 100\n",
      "Evaluated only: ER\n",
      "**************** regression_l1 ****************\n",
      "Training until validation scores don't improve for 368 rounds\n",
      "[100]\tvalid_0's ER: 100\n",
      "[200]\tvalid_0's ER: 100\n"
     ]
    },
    {
     "name": "stderr",
     "output_type": "stream",
     "text": [
      "[I 2023-12-16 05:23:24,228] Trial 1 finished with value: 100.0 and parameters: {'lambda_l1': 628.4529212047231, 'lambda_l2': 120.97903151344424, 'learning_rate': 0.015686432368669803, 'num_leaves': 819, 'feature_fraction': 0.3167367083029647, 'min_data_in_leaf': 5652}. Best is trial 0 with value: 100.0.\n"
     ]
    },
    {
     "name": "stdout",
     "output_type": "stream",
     "text": [
      "[300]\tvalid_0's ER: 100\n",
      "Early stopping, best iteration is:\n",
      "[1]\tvalid_0's ER: 100\n",
      "Evaluated only: ER\n",
      "**************** regression_l1 ****************\n"
     ]
    },
    {
     "name": "stderr",
     "output_type": "stream",
     "text": [
      "[I 2023-12-16 05:23:24,636] Trial 2 finished with value: 100.0 and parameters: {'lambda_l1': 153.54589328712308, 'lambda_l2': 814.6606025359389, 'learning_rate': 0.23599454574407613, 'num_leaves': 202, 'feature_fraction': 0.3280878992153796, 'min_data_in_leaf': 4585}. Best is trial 0 with value: 100.0.\n"
     ]
    },
    {
     "name": "stdout",
     "output_type": "stream",
     "text": [
      "Training until validation scores don't improve for 71 rounds\n",
      "Early stopping, best iteration is:\n",
      "[1]\tvalid_0's ER: 100\n",
      "Evaluated only: ER\n",
      "**************** regression_l1 ****************\n",
      "Training until validation scores don't improve for 459 rounds\n",
      "[100]\tvalid_0's ER: 100\n",
      "[200]\tvalid_0's ER: 100\n",
      "[300]\tvalid_0's ER: 100\n"
     ]
    },
    {
     "name": "stderr",
     "output_type": "stream",
     "text": [
      "[I 2023-12-16 05:23:25,848] Trial 3 finished with value: 100.0 and parameters: {'lambda_l1': 663.2243019566728, 'lambda_l2': 284.6754999559997, 'learning_rate': 0.012195714502916516, 'num_leaves': 141, 'feature_fraction': 0.2623236069590409, 'min_data_in_leaf': 3855}. Best is trial 0 with value: 100.0.\n"
     ]
    },
    {
     "name": "stdout",
     "output_type": "stream",
     "text": [
      "[400]\tvalid_0's ER: 100\n",
      "Early stopping, best iteration is:\n",
      "[1]\tvalid_0's ER: 100\n",
      "Evaluated only: ER\n",
      "**************** regression_l1 ****************\n",
      "Training until validation scores don't improve for 155 rounds\n",
      "[100]\tvalid_0's ER: 100\n"
     ]
    },
    {
     "name": "stderr",
     "output_type": "stream",
     "text": [
      "[I 2023-12-16 05:23:26,742] Trial 4 finished with value: 100.0 and parameters: {'lambda_l1': 397.1906129341811, 'lambda_l2': 926.886345404028, 'learning_rate': 0.04719331130007962, 'num_leaves': 1018, 'feature_fraction': 0.8414247815611573, 'min_data_in_leaf': 5925}. Best is trial 0 with value: 100.0.\n"
     ]
    },
    {
     "name": "stdout",
     "output_type": "stream",
     "text": [
      "Early stopping, best iteration is:\n",
      "[1]\tvalid_0's ER: 100\n",
      "Evaluated only: ER\n",
      "**************** regression_l1 ****************\n",
      "Training until validation scores don't improve for 67 rounds\n"
     ]
    },
    {
     "name": "stderr",
     "output_type": "stream",
     "text": [
      "[I 2023-12-16 05:23:27,229] Trial 5 finished with value: 100.0 and parameters: {'lambda_l1': 901.6809762307289, 'lambda_l2': 391.8889965015558, 'learning_rate': 0.27934316707984463, 'num_leaves': 260, 'feature_fraction': 0.7041622722383543, 'min_data_in_leaf': 4541}. Best is trial 0 with value: 100.0.\n"
     ]
    },
    {
     "name": "stdout",
     "output_type": "stream",
     "text": [
      "Early stopping, best iteration is:\n",
      "[1]\tvalid_0's ER: 100\n",
      "Evaluated only: ER\n",
      "**************** regression_l1 ****************\n",
      "Training until validation scores don't improve for 67 rounds\n",
      "Early stopping, best iteration is:\n",
      "[1]\tvalid_0's ER: 100\n",
      "Evaluated only: ER\n"
     ]
    },
    {
     "name": "stderr",
     "output_type": "stream",
     "text": [
      "[I 2023-12-16 05:23:27,657] Trial 6 finished with value: 100.0 and parameters: {'lambda_l1': 177.37466444109896, 'lambda_l2': 805.5793915651639, 'learning_rate': 0.2817630450100263, 'num_leaves': 899, 'feature_fraction': 0.4477070019625286, 'min_data_in_leaf': 7558}. Best is trial 0 with value: 100.0.\n"
     ]
    },
    {
     "name": "stdout",
     "output_type": "stream",
     "text": [
      "**************** regression_l1 ****************\n",
      "Training until validation scores don't improve for 80 rounds\n"
     ]
    },
    {
     "name": "stderr",
     "output_type": "stream",
     "text": [
      "[I 2023-12-16 05:23:28,263] Trial 7 finished with value: 100.0 and parameters: {'lambda_l1': 124.47847637492804, 'lambda_l2': 697.2371909960395, 'learning_rate': 0.16297756133625196, 'num_leaves': 840, 'feature_fraction': 0.5882623674673169, 'min_data_in_leaf': 767}. Best is trial 0 with value: 100.0.\n"
     ]
    },
    {
     "name": "stdout",
     "output_type": "stream",
     "text": [
      "Early stopping, best iteration is:\n",
      "[1]\tvalid_0's ER: 100\n",
      "Evaluated only: ER\n",
      "**************** regression_l1 ****************\n",
      "Training until validation scores don't improve for 75 rounds\n"
     ]
    },
    {
     "name": "stderr",
     "output_type": "stream",
     "text": [
      "[I 2023-12-16 05:23:28,830] Trial 8 finished with value: 100.0 and parameters: {'lambda_l1': 219.21874791350325, 'lambda_l2': 971.3060555295912, 'learning_rate': 0.1937341906896534, 'num_leaves': 804, 'feature_fraction': 0.7711104080839013, 'min_data_in_leaf': 1374}. Best is trial 0 with value: 100.0.\n"
     ]
    },
    {
     "name": "stdout",
     "output_type": "stream",
     "text": [
      "Early stopping, best iteration is:\n",
      "[1]\tvalid_0's ER: 100\n",
      "Evaluated only: ER\n",
      "**************** regression_l1 ****************\n",
      "Training until validation scores don't improve for 75 rounds\n",
      "Early stopping, best iteration is:\n",
      "[1]\tvalid_0's ER: 100\n",
      "Evaluated only: ER\n"
     ]
    },
    {
     "name": "stderr",
     "output_type": "stream",
     "text": [
      "[I 2023-12-16 05:23:29,249] Trial 9 finished with value: 100.0 and parameters: {'lambda_l1': 636.5293634683898, 'lambda_l2': 46.296532176404504, 'learning_rate': 0.1925688277225671, 'num_leaves': 555, 'feature_fraction': 0.3302315445459051, 'min_data_in_leaf': 3164}. Best is trial 0 with value: 100.0.\n"
     ]
    },
    {
     "name": "stdout",
     "output_type": "stream",
     "text": [
      "# Experimentos: 10\n",
      "Mejor experimento: {'lambda_l1': 459.38414795089966, 'lambda_l2': 476.6153567790805, 'learning_rate': 0.22136516112190782, 'num_leaves': 211, 'feature_fraction': 0.7781127277514042, 'min_data_in_leaf': 2962}\n",
      "=========================================== Cluster 58 ===========================================\n"
     ]
    },
    {
     "name": "stderr",
     "output_type": "stream",
     "text": [
      "[I 2023-12-16 05:23:30,118] A new study created in memory with name: no-name-fb238018-38f7-483e-b3bb-8696305a4d98\n"
     ]
    },
    {
     "name": "stdout",
     "output_type": "stream",
     "text": [
      "Periodos entrenar: [201708 201709 201710 201711 201712 201801 201802 201803 201804 201805\n",
      " 201806 201807 201808 201809 201810 201811 201812 201901 201902 201903\n",
      " 201904 201905]\n",
      "Periodos validar: [201907]\n",
      "product_id a validar: 1160\n",
      "X_train: (23954, 120)\n",
      "y_train: (23954,)\n",
      "\n",
      "X_validate: (1160, 120)\n",
      "y_validate: (1160,)\n",
      "Optimizacion Bayesiana\n",
      "**************** regression_l1 ****************\n",
      "Training until validation scores don't improve for 119 rounds\n"
     ]
    },
    {
     "name": "stderr",
     "output_type": "stream",
     "text": [
      "[I 2023-12-16 05:23:30,547] Trial 0 finished with value: 100.0 and parameters: {'lambda_l1': 42.37793047188432, 'lambda_l2': 155.3779427516545, 'learning_rate': 0.07223954270895554, 'num_leaves': 396, 'feature_fraction': 0.3120134941921296, 'min_data_in_leaf': 5250}. Best is trial 0 with value: 100.0.\n"
     ]
    },
    {
     "name": "stdout",
     "output_type": "stream",
     "text": [
      "[100]\tvalid_0's ER: 100\n",
      "Early stopping, best iteration is:\n",
      "[1]\tvalid_0's ER: 100\n",
      "Evaluated only: ER\n",
      "**************** regression_l1 ****************\n"
     ]
    },
    {
     "name": "stderr",
     "output_type": "stream",
     "text": [
      "[I 2023-12-16 05:23:30,892] Trial 1 finished with value: 100.0 and parameters: {'lambda_l1': 482.4271352384616, 'lambda_l2': 592.16651344666, 'learning_rate': 0.16831358013109438, 'num_leaves': 33, 'feature_fraction': 0.3363770465900371, 'min_data_in_leaf': 3258}. Best is trial 0 with value: 100.0.\n"
     ]
    },
    {
     "name": "stdout",
     "output_type": "stream",
     "text": [
      "Training until validation scores don't improve for 79 rounds\n",
      "Early stopping, best iteration is:\n",
      "[1]\tvalid_0's ER: 100\n",
      "Evaluated only: ER\n",
      "**************** regression_l1 ****************\n",
      "Training until validation scores don't improve for 80 rounds\n",
      "Early stopping, best iteration is:\n",
      "[1]\tvalid_0's ER: 100\n",
      "Evaluated only: ER\n"
     ]
    },
    {
     "name": "stderr",
     "output_type": "stream",
     "text": [
      "[I 2023-12-16 05:23:31,282] Trial 2 finished with value: 100.0 and parameters: {'lambda_l1': 633.3832641862488, 'lambda_l2': 508.8724549392691, 'learning_rate': 0.1627138629975942, 'num_leaves': 511, 'feature_fraction': 0.8007933922257171, 'min_data_in_leaf': 7468}. Best is trial 0 with value: 100.0.\n"
     ]
    },
    {
     "name": "stdout",
     "output_type": "stream",
     "text": [
      "**************** regression_l1 ****************\n",
      "Training until validation scores don't improve for 273 rounds\n",
      "[100]\tvalid_0's ER: 100\n",
      "[200]\tvalid_0's ER: 100\n"
     ]
    },
    {
     "name": "stderr",
     "output_type": "stream",
     "text": [
      "[I 2023-12-16 05:23:32,009] Trial 3 finished with value: 100.0 and parameters: {'lambda_l1': 528.9558485070567, 'lambda_l2': 388.1255725889296, 'learning_rate': 0.02240243262448125, 'num_leaves': 424, 'feature_fraction': 0.3110943379132991, 'min_data_in_leaf': 5869}. Best is trial 0 with value: 100.0.\n"
     ]
    },
    {
     "name": "stdout",
     "output_type": "stream",
     "text": [
      "Early stopping, best iteration is:\n",
      "[1]\tvalid_0's ER: 100\n",
      "Evaluated only: ER\n",
      "**************** regression_l1 ****************\n",
      "Training until validation scores don't improve for 69 rounds\n"
     ]
    },
    {
     "name": "stderr",
     "output_type": "stream",
     "text": [
      "[I 2023-12-16 05:23:32,366] Trial 4 finished with value: 100.0 and parameters: {'lambda_l1': 825.2674186279405, 'lambda_l2': 510.8176437308285, 'learning_rate': 0.259541948122814, 'num_leaves': 547, 'feature_fraction': 0.5419733854933491, 'min_data_in_leaf': 6859}. Best is trial 0 with value: 100.0.\n"
     ]
    },
    {
     "name": "stdout",
     "output_type": "stream",
     "text": [
      "Early stopping, best iteration is:\n",
      "[1]\tvalid_0's ER: 100\n",
      "Evaluated only: ER\n",
      "**************** regression_l1 ****************\n",
      "Training until validation scores don't improve for 83 rounds\n"
     ]
    },
    {
     "name": "stderr",
     "output_type": "stream",
     "text": [
      "[I 2023-12-16 05:23:32,712] Trial 5 finished with value: 100.0 and parameters: {'lambda_l1': 351.51453736018135, 'lambda_l2': 863.0131408422861, 'learning_rate': 0.14748388709896165, 'num_leaves': 684, 'feature_fraction': 0.2962620660413297, 'min_data_in_leaf': 7581}. Best is trial 0 with value: 100.0.\n"
     ]
    },
    {
     "name": "stdout",
     "output_type": "stream",
     "text": [
      "Early stopping, best iteration is:\n",
      "[1]\tvalid_0's ER: 100\n",
      "Evaluated only: ER\n",
      "**************** regression_l1 ****************\n",
      "Training until validation scores don't improve for 69 rounds\n"
     ]
    },
    {
     "name": "stderr",
     "output_type": "stream",
     "text": [
      "[I 2023-12-16 05:23:33,064] Trial 6 finished with value: 100.0 and parameters: {'lambda_l1': 535.3543108419155, 'lambda_l2': 965.8893200384432, 'learning_rate': 0.2596389030733812, 'num_leaves': 156, 'feature_fraction': 0.37454760857701697, 'min_data_in_leaf': 1393}. Best is trial 0 with value: 100.0.\n"
     ]
    },
    {
     "name": "stdout",
     "output_type": "stream",
     "text": [
      "Early stopping, best iteration is:\n",
      "[1]\tvalid_0's ER: 100\n",
      "Evaluated only: ER\n",
      "**************** regression_l1 ****************\n",
      "Training until validation scores don't improve for 68 rounds\n"
     ]
    },
    {
     "name": "stderr",
     "output_type": "stream",
     "text": [
      "[I 2023-12-16 05:23:33,385] Trial 7 finished with value: 100.0 and parameters: {'lambda_l1': 969.450540940068, 'lambda_l2': 319.0455805757452, 'learning_rate': 0.2671304664489106, 'num_leaves': 408, 'feature_fraction': 0.2599570693975847, 'min_data_in_leaf': 3252}. Best is trial 0 with value: 100.0.\n"
     ]
    },
    {
     "name": "stdout",
     "output_type": "stream",
     "text": [
      "Early stopping, best iteration is:\n",
      "[1]\tvalid_0's ER: 100\n",
      "Evaluated only: ER\n",
      "**************** regression_l1 ****************\n",
      "Training until validation scores don't improve for 71 rounds\n"
     ]
    },
    {
     "name": "stderr",
     "output_type": "stream",
     "text": [
      "[I 2023-12-16 05:23:33,763] Trial 8 finished with value: 100.0 and parameters: {'lambda_l1': 608.5192121368933, 'lambda_l2': 151.8622472274167, 'learning_rate': 0.23592794570296552, 'num_leaves': 990, 'feature_fraction': 0.4903436794878198, 'min_data_in_leaf': 5690}. Best is trial 0 with value: 100.0.\n"
     ]
    },
    {
     "name": "stdout",
     "output_type": "stream",
     "text": [
      "Early stopping, best iteration is:\n",
      "[1]\tvalid_0's ER: 100\n",
      "Evaluated only: ER\n",
      "**************** regression_l1 ****************\n",
      "Training until validation scores don't improve for 71 rounds\n"
     ]
    },
    {
     "name": "stderr",
     "output_type": "stream",
     "text": [
      "[I 2023-12-16 05:23:34,086] Trial 9 finished with value: 100.0 and parameters: {'lambda_l1': 820.8244124082571, 'lambda_l2': 678.9907960677615, 'learning_rate': 0.23339294704281888, 'num_leaves': 220, 'feature_fraction': 0.20963196025269007, 'min_data_in_leaf': 847}. Best is trial 0 with value: 100.0.\n"
     ]
    },
    {
     "name": "stdout",
     "output_type": "stream",
     "text": [
      "Early stopping, best iteration is:\n",
      "[1]\tvalid_0's ER: 100\n",
      "Evaluated only: ER\n",
      "# Experimentos: 10\n",
      "Mejor experimento: {'lambda_l1': 42.37793047188432, 'lambda_l2': 155.3779427516545, 'learning_rate': 0.07223954270895554, 'num_leaves': 396, 'feature_fraction': 0.3120134941921296, 'min_data_in_leaf': 5250}\n",
      "=========================================== Cluster 59 ===========================================\n"
     ]
    },
    {
     "name": "stderr",
     "output_type": "stream",
     "text": [
      "[I 2023-12-16 05:23:39,628] A new study created in memory with name: no-name-e9e13a58-6d79-4d34-931f-031130d57a19\n"
     ]
    },
    {
     "name": "stdout",
     "output_type": "stream",
     "text": [
      "Periodos entrenar: [201701 201702 201703 201704 201705 201706 201707 201708 201709 201710\n",
      " 201711 201712 201801 201802 201803 201804 201805 201806 201807 201808\n",
      " 201809 201810 201811 201812 201901 201902 201903 201904 201905]\n",
      "Periodos validar: [201907]\n",
      "product_id a validar: 8700\n",
      "X_train: (164391, 120)\n",
      "y_train: (164391,)\n",
      "\n",
      "X_validate: (8700, 120)\n",
      "y_validate: (8700,)\n",
      "Optimizacion Bayesiana\n",
      "**************** regression_l1 ****************\n",
      "Training until validation scores don't improve for 88 rounds\n"
     ]
    },
    {
     "name": "stderr",
     "output_type": "stream",
     "text": [
      "[I 2023-12-16 05:23:42,677] Trial 0 finished with value: 100.0 and parameters: {'lambda_l1': 959.3708619732253, 'lambda_l2': 533.5413841929056, 'learning_rate': 0.12953101861627078, 'num_leaves': 308, 'feature_fraction': 0.6026826777597951, 'min_data_in_leaf': 1225}. Best is trial 0 with value: 100.0.\n"
     ]
    },
    {
     "name": "stdout",
     "output_type": "stream",
     "text": [
      "Early stopping, best iteration is:\n",
      "[1]\tvalid_0's ER: 100\n",
      "Evaluated only: ER\n",
      "**************** regression_l1 ****************\n",
      "Training until validation scores don't improve for 117 rounds\n",
      "[100]\tvalid_0's ER: 98.58\n",
      "[200]\tvalid_0's ER: 98.48\n"
     ]
    },
    {
     "name": "stderr",
     "output_type": "stream",
     "text": [
      "[I 2023-12-16 05:23:48,477] Trial 1 finished with value: 98.48 and parameters: {'lambda_l1': 280.2637910762547, 'lambda_l2': 881.4801497959949, 'learning_rate': 0.07371425560543932, 'num_leaves': 186, 'feature_fraction': 0.41098748421690195, 'min_data_in_leaf': 4925}. Best is trial 1 with value: 98.48.\n"
     ]
    },
    {
     "name": "stdout",
     "output_type": "stream",
     "text": [
      "Early stopping, best iteration is:\n",
      "[134]\tvalid_0's ER: 98.48\n",
      "Evaluated only: ER\n",
      "**************** regression_l1 ****************\n",
      "Training until validation scores don't improve for 69 rounds\n"
     ]
    },
    {
     "name": "stderr",
     "output_type": "stream",
     "text": [
      "[I 2023-12-16 05:23:51,899] Trial 2 finished with value: 99.24 and parameters: {'lambda_l1': 34.071942235478936, 'lambda_l2': 348.70705261954936, 'learning_rate': 0.25544473635351395, 'num_leaves': 1012, 'feature_fraction': 0.6013550154551536, 'min_data_in_leaf': 7609}. Best is trial 1 with value: 98.48.\n"
     ]
    },
    {
     "name": "stdout",
     "output_type": "stream",
     "text": [
      "Early stopping, best iteration is:\n",
      "[26]\tvalid_0's ER: 99.24\n",
      "Evaluated only: ER\n",
      "**************** regression_l1 ****************\n",
      "Training until validation scores don't improve for 88 rounds\n",
      "[100]\tvalid_0's ER: 86.03\n"
     ]
    },
    {
     "name": "stderr",
     "output_type": "stream",
     "text": [
      "[I 2023-12-16 05:23:58,632] Trial 3 finished with value: 85.94 and parameters: {'lambda_l1': 38.67572497324434, 'lambda_l2': 787.9374971036568, 'learning_rate': 0.13155684583184948, 'num_leaves': 784, 'feature_fraction': 0.39501652786066455, 'min_data_in_leaf': 661}. Best is trial 3 with value: 85.94.\n"
     ]
    },
    {
     "name": "stdout",
     "output_type": "stream",
     "text": [
      "Early stopping, best iteration is:\n",
      "[90]\tvalid_0's ER: 85.94\n",
      "Evaluated only: ER\n",
      "**************** regression_l1 ****************\n",
      "Training until validation scores don't improve for 134 rounds\n",
      "[100]\tvalid_0's ER: 99.84\n"
     ]
    },
    {
     "name": "stderr",
     "output_type": "stream",
     "text": [
      "[I 2023-12-16 05:24:03,381] Trial 4 finished with value: 99.84 and parameters: {'lambda_l1': 451.597443371207, 'lambda_l2': 411.7520057235403, 'learning_rate': 0.059330377031873764, 'num_leaves': 952, 'feature_fraction': 0.7534295920086409, 'min_data_in_leaf': 3544}. Best is trial 3 with value: 85.94.\n"
     ]
    },
    {
     "name": "stdout",
     "output_type": "stream",
     "text": [
      "Early stopping, best iteration is:\n",
      "[20]\tvalid_0's ER: 99.84\n",
      "Evaluated only: ER\n",
      "**************** regression_l1 ****************\n",
      "Training until validation scores don't improve for 442 rounds\n",
      "[100]\tvalid_0's ER: 99.91\n",
      "[200]\tvalid_0's ER: 99.91\n",
      "[300]\tvalid_0's ER: 99.82\n",
      "[400]\tvalid_0's ER: 99.78\n",
      "[500]\tvalid_0's ER: 99.78\n",
      "[600]\tvalid_0's ER: 99.77\n",
      "[700]\tvalid_0's ER: 99.77\n",
      "[800]\tvalid_0's ER: 99.74\n",
      "[900]\tvalid_0's ER: 99.74\n",
      "[1000]\tvalid_0's ER: 99.74\n",
      "[1100]\tvalid_0's ER: 99.74\n",
      "[1200]\tvalid_0's ER: 99.69\n",
      "[1300]\tvalid_0's ER: 99.47\n",
      "[1400]\tvalid_0's ER: 99.41\n",
      "[1500]\tvalid_0's ER: 99.4\n",
      "[1600]\tvalid_0's ER: 99.27\n",
      "[1700]\tvalid_0's ER: 99.16\n",
      "[1800]\tvalid_0's ER: 99.15\n",
      "[1900]\tvalid_0's ER: 99.15\n",
      "[2000]\tvalid_0's ER: 99.15\n",
      "[2100]\tvalid_0's ER: 99.14\n",
      "[2200]\tvalid_0's ER: 99.14\n",
      "[2300]\tvalid_0's ER: 99.14\n",
      "[2400]\tvalid_0's ER: 99.14\n",
      "[2500]\tvalid_0's ER: 99.14\n",
      "Early stopping, best iteration is:\n",
      "[2064]\tvalid_0's ER: 99.14\n",
      "Evaluated only: ER\n"
     ]
    },
    {
     "name": "stderr",
     "output_type": "stream",
     "text": [
      "[I 2023-12-16 05:24:42,324] Trial 5 finished with value: 99.14 and parameters: {'lambda_l1': 246.60667082362897, 'lambda_l2': 729.4784868273888, 'learning_rate': 0.012754604767760332, 'num_leaves': 631, 'feature_fraction': 0.26778561146435326, 'min_data_in_leaf': 6080}. Best is trial 3 with value: 85.94.\n"
     ]
    },
    {
     "name": "stdout",
     "output_type": "stream",
     "text": [
      "**************** regression_l1 ****************\n",
      "Training until validation scores don't improve for 68 rounds\n",
      "[100]\tvalid_0's ER: 94.62\n",
      "[200]\tvalid_0's ER: 93.87\n",
      "[300]\tvalid_0's ER: 93.18\n"
     ]
    },
    {
     "name": "stderr",
     "output_type": "stream",
     "text": [
      "[I 2023-12-16 05:24:49,935] Trial 6 finished with value: 93.18 and parameters: {'lambda_l1': 102.31970624974429, 'lambda_l2': 85.4239837797759, 'learning_rate': 0.266965179072673, 'num_leaves': 95, 'feature_fraction': 0.4198881188406836, 'min_data_in_leaf': 3638}. Best is trial 3 with value: 85.94.\n"
     ]
    },
    {
     "name": "stdout",
     "output_type": "stream",
     "text": [
      "Early stopping, best iteration is:\n",
      "[291]\tvalid_0's ER: 93.18\n",
      "Evaluated only: ER\n",
      "**************** regression_l1 ****************\n",
      "Training until validation scores don't improve for 75 rounds\n",
      "[100]\tvalid_0's ER: 97.05\n",
      "[200]\tvalid_0's ER: 95.43\n",
      "[300]\tvalid_0's ER: 92.24\n"
     ]
    },
    {
     "name": "stderr",
     "output_type": "stream",
     "text": [
      "[I 2023-12-16 05:24:58,601] Trial 7 finished with value: 92.23 and parameters: {'lambda_l1': 281.5602775773811, 'lambda_l2': 341.70828633561047, 'learning_rate': 0.19748683306438913, 'num_leaves': 210, 'feature_fraction': 0.4361230423967277, 'min_data_in_leaf': 2469}. Best is trial 3 with value: 85.94.\n"
     ]
    },
    {
     "name": "stdout",
     "output_type": "stream",
     "text": [
      "Early stopping, best iteration is:\n",
      "[275]\tvalid_0's ER: 92.23\n",
      "Evaluated only: ER\n",
      "**************** regression_l1 ****************\n",
      "Training until validation scores don't improve for 67 rounds\n"
     ]
    },
    {
     "name": "stderr",
     "output_type": "stream",
     "text": [
      "[I 2023-12-16 05:25:01,285] Trial 8 finished with value: 100.0 and parameters: {'lambda_l1': 973.624754659654, 'lambda_l2': 387.8264290307668, 'learning_rate': 0.29136654151322494, 'num_leaves': 967, 'feature_fraction': 0.8390376472335748, 'min_data_in_leaf': 7324}. Best is trial 3 with value: 85.94.\n"
     ]
    },
    {
     "name": "stdout",
     "output_type": "stream",
     "text": [
      "Early stopping, best iteration is:\n",
      "[1]\tvalid_0's ER: 100\n",
      "Evaluated only: ER\n",
      "**************** regression_l1 ****************\n",
      "Training until validation scores don't improve for 413 rounds\n",
      "[100]\tvalid_0's ER: 99.95\n",
      "[200]\tvalid_0's ER: 99.95\n",
      "[300]\tvalid_0's ER: 99.95\n",
      "[400]\tvalid_0's ER: 99.95\n"
     ]
    },
    {
     "name": "stderr",
     "output_type": "stream",
     "text": [
      "[I 2023-12-16 05:25:12,201] Trial 9 finished with value: 99.95 and parameters: {'lambda_l1': 561.8790536767405, 'lambda_l2': 926.6438002554701, 'learning_rate': 0.013758019686989618, 'num_leaves': 692, 'feature_fraction': 0.6388450517820191, 'min_data_in_leaf': 3830}. Best is trial 3 with value: 85.94.\n"
     ]
    },
    {
     "name": "stdout",
     "output_type": "stream",
     "text": [
      "Early stopping, best iteration is:\n",
      "[12]\tvalid_0's ER: 99.95\n",
      "Evaluated only: ER\n",
      "# Experimentos: 10\n",
      "Mejor experimento: {'lambda_l1': 38.67572497324434, 'lambda_l2': 787.9374971036568, 'learning_rate': 0.13155684583184948, 'num_leaves': 784, 'feature_fraction': 0.39501652786066455, 'min_data_in_leaf': 661}\n",
      "=========================================== Cluster 60 ===========================================\n"
     ]
    },
    {
     "name": "stderr",
     "output_type": "stream",
     "text": [
      "[I 2023-12-16 05:25:17,295] A new study created in memory with name: no-name-a90b754a-7d45-4de9-b8fe-f6bf01e897b9\n"
     ]
    },
    {
     "name": "stdout",
     "output_type": "stream",
     "text": [
      "Periodos entrenar: [201701 201702 201703 201704 201705 201706 201707 201708 201709 201710\n",
      " 201711 201712 201801 201802 201803 201804 201805 201806 201807 201808\n",
      " 201809 201810 201811 201812 201901 201902 201903 201904 201905]\n",
      "Periodos validar: [201907]\n",
      "product_id a validar: 6380\n",
      "X_train: (148105, 120)\n",
      "y_train: (148105,)\n",
      "\n",
      "X_validate: (6380, 120)\n",
      "y_validate: (6380,)\n",
      "Optimizacion Bayesiana\n",
      "**************** regression_l1 ****************\n",
      "Training until validation scores don't improve for 70 rounds\n"
     ]
    },
    {
     "name": "stderr",
     "output_type": "stream",
     "text": [
      "[I 2023-12-16 05:25:19,690] Trial 0 finished with value: 100.0 and parameters: {'lambda_l1': 848.8758287263147, 'lambda_l2': 420.7283280154421, 'learning_rate': 0.24238597741587697, 'num_leaves': 121, 'feature_fraction': 0.6764027349789872, 'min_data_in_leaf': 2598}. Best is trial 0 with value: 100.0.\n"
     ]
    },
    {
     "name": "stdout",
     "output_type": "stream",
     "text": [
      "Early stopping, best iteration is:\n",
      "[1]\tvalid_0's ER: 100\n",
      "Evaluated only: ER\n",
      "**************** regression_l1 ****************\n",
      "Training until validation scores don't improve for 88 rounds\n",
      "[100]\tvalid_0's ER: 93.78\n",
      "[200]\tvalid_0's ER: 92.65\n",
      "[300]\tvalid_0's ER: 92.42\n"
     ]
    },
    {
     "name": "stderr",
     "output_type": "stream",
     "text": [
      "[I 2023-12-16 05:25:29,903] Trial 1 finished with value: 92.42 and parameters: {'lambda_l1': 90.88686282655434, 'lambda_l2': 988.8414272490496, 'learning_rate': 0.13137175954214092, 'num_leaves': 697, 'feature_fraction': 0.9009505909280351, 'min_data_in_leaf': 3221}. Best is trial 1 with value: 92.42.\n"
     ]
    },
    {
     "name": "stdout",
     "output_type": "stream",
     "text": [
      "Early stopping, best iteration is:\n",
      "[267]\tvalid_0's ER: 92.42\n",
      "Evaluated only: ER\n",
      "**************** regression_l1 ****************\n",
      "Training until validation scores don't improve for 73 rounds\n"
     ]
    },
    {
     "name": "stderr",
     "output_type": "stream",
     "text": [
      "[I 2023-12-16 05:25:32,339] Trial 2 finished with value: 100.0 and parameters: {'lambda_l1': 600.104633835786, 'lambda_l2': 376.2695176883547, 'learning_rate': 0.20875209293986577, 'num_leaves': 240, 'feature_fraction': 0.7663833433143621, 'min_data_in_leaf': 6179}. Best is trial 1 with value: 92.42.\n"
     ]
    },
    {
     "name": "stdout",
     "output_type": "stream",
     "text": [
      "Early stopping, best iteration is:\n",
      "[1]\tvalid_0's ER: 100\n",
      "Evaluated only: ER\n",
      "**************** regression_l1 ****************\n",
      "Training until validation scores don't improve for 67 rounds\n"
     ]
    },
    {
     "name": "stderr",
     "output_type": "stream",
     "text": [
      "[I 2023-12-16 05:25:34,318] Trial 3 finished with value: 100.0 and parameters: {'lambda_l1': 801.1334162039162, 'lambda_l2': 834.4327959043453, 'learning_rate': 0.28350600074690296, 'num_leaves': 450, 'feature_fraction': 0.49780559013044656, 'min_data_in_leaf': 4936}. Best is trial 1 with value: 92.42.\n"
     ]
    },
    {
     "name": "stdout",
     "output_type": "stream",
     "text": [
      "Early stopping, best iteration is:\n",
      "[1]\tvalid_0's ER: 100\n",
      "Evaluated only: ER\n",
      "**************** regression_l1 ****************\n",
      "Training until validation scores don't improve for 137 rounds\n",
      "[100]\tvalid_0's ER: 99.41\n",
      "[200]\tvalid_0's ER: 99.31\n"
     ]
    },
    {
     "name": "stderr",
     "output_type": "stream",
     "text": [
      "[I 2023-12-16 05:25:39,364] Trial 4 finished with value: 99.31 and parameters: {'lambda_l1': 2.7520695932067296, 'lambda_l2': 319.8673660373077, 'learning_rate': 0.05728827221496584, 'num_leaves': 289, 'feature_fraction': 0.3692354581579162, 'min_data_in_leaf': 5521}. Best is trial 1 with value: 92.42.\n"
     ]
    },
    {
     "name": "stdout",
     "output_type": "stream",
     "text": [
      "Early stopping, best iteration is:\n",
      "[117]\tvalid_0's ER: 99.31\n",
      "Evaluated only: ER\n",
      "**************** regression_l1 ****************\n",
      "Training until validation scores don't improve for 83 rounds\n"
     ]
    },
    {
     "name": "stderr",
     "output_type": "stream",
     "text": [
      "[I 2023-12-16 05:25:41,694] Trial 5 finished with value: 100.0 and parameters: {'lambda_l1': 964.1051907751728, 'lambda_l2': 754.8902612258415, 'learning_rate': 0.14793841618495804, 'num_leaves': 614, 'feature_fraction': 0.5635058841786633, 'min_data_in_leaf': 4746}. Best is trial 1 with value: 92.42.\n"
     ]
    },
    {
     "name": "stdout",
     "output_type": "stream",
     "text": [
      "Early stopping, best iteration is:\n",
      "[1]\tvalid_0's ER: 100\n",
      "Evaluated only: ER\n",
      "**************** regression_l1 ****************\n",
      "Training until validation scores don't improve for 68 rounds\n"
     ]
    },
    {
     "name": "stderr",
     "output_type": "stream",
     "text": [
      "[I 2023-12-16 05:25:44,015] Trial 6 finished with value: 100.0 and parameters: {'lambda_l1': 919.6527804170436, 'lambda_l2': 668.5852966090567, 'learning_rate': 0.2665905837740924, 'num_leaves': 958, 'feature_fraction': 0.7812866073948861, 'min_data_in_leaf': 7030}. Best is trial 1 with value: 92.42.\n"
     ]
    },
    {
     "name": "stdout",
     "output_type": "stream",
     "text": [
      "Early stopping, best iteration is:\n",
      "[1]\tvalid_0's ER: 100\n",
      "Evaluated only: ER\n",
      "**************** regression_l1 ****************\n",
      "Training until validation scores don't improve for 70 rounds\n"
     ]
    },
    {
     "name": "stderr",
     "output_type": "stream",
     "text": [
      "[I 2023-12-16 05:25:46,474] Trial 7 finished with value: 100.0 and parameters: {'lambda_l1': 450.05419315209906, 'lambda_l2': 698.0849042938447, 'learning_rate': 0.2441657692148875, 'num_leaves': 411, 'feature_fraction': 0.9049317523330527, 'min_data_in_leaf': 6423}. Best is trial 1 with value: 92.42.\n"
     ]
    },
    {
     "name": "stdout",
     "output_type": "stream",
     "text": [
      "Early stopping, best iteration is:\n",
      "[1]\tvalid_0's ER: 100\n",
      "Evaluated only: ER\n",
      "**************** regression_l1 ****************\n",
      "Training until validation scores don't improve for 390 rounds\n",
      "[100]\tvalid_0's ER: 100\n",
      "[200]\tvalid_0's ER: 100\n",
      "[300]\tvalid_0's ER: 100\n"
     ]
    },
    {
     "name": "stderr",
     "output_type": "stream",
     "text": [
      "[I 2023-12-16 05:25:54,829] Trial 8 finished with value: 100.0 and parameters: {'lambda_l1': 751.8461253707815, 'lambda_l2': 664.1092910116321, 'learning_rate': 0.014683991366973646, 'num_leaves': 808, 'feature_fraction': 0.636057055937636, 'min_data_in_leaf': 5861}. Best is trial 1 with value: 92.42.\n"
     ]
    },
    {
     "name": "stdout",
     "output_type": "stream",
     "text": [
      "Early stopping, best iteration is:\n",
      "[1]\tvalid_0's ER: 100\n",
      "Evaluated only: ER\n",
      "**************** regression_l1 ****************\n",
      "Training until validation scores don't improve for 81 rounds\n"
     ]
    },
    {
     "name": "stderr",
     "output_type": "stream",
     "text": [
      "[I 2023-12-16 05:25:57,337] Trial 9 finished with value: 100.0 and parameters: {'lambda_l1': 858.8783038558906, 'lambda_l2': 431.8376938227272, 'learning_rate': 0.15743881964651718, 'num_leaves': 635, 'feature_fraction': 0.6434205287210097, 'min_data_in_leaf': 6174}. Best is trial 1 with value: 92.42.\n"
     ]
    },
    {
     "name": "stdout",
     "output_type": "stream",
     "text": [
      "Early stopping, best iteration is:\n",
      "[1]\tvalid_0's ER: 100\n",
      "Evaluated only: ER\n",
      "# Experimentos: 10\n",
      "Mejor experimento: {'lambda_l1': 90.88686282655434, 'lambda_l2': 988.8414272490496, 'learning_rate': 0.13137175954214092, 'num_leaves': 697, 'feature_fraction': 0.9009505909280351, 'min_data_in_leaf': 3221}\n",
      "=========================================== Cluster 61 ===========================================\n"
     ]
    },
    {
     "name": "stderr",
     "output_type": "stream",
     "text": [
      "[I 2023-12-16 05:25:57,643] A new study created in memory with name: no-name-1cbf9284-1f8d-4234-b73b-570b381f1fb7\n",
      "[I 2023-12-16 05:25:57,754] Trial 0 finished with value: 100.0 and parameters: {'lambda_l1': 337.3268114978322, 'lambda_l2': 246.51159684290513, 'learning_rate': 0.14472217826879472, 'num_leaves': 801, 'feature_fraction': 0.8015686874259953, 'min_data_in_leaf': 6093}. Best is trial 0 with value: 100.0.\n"
     ]
    },
    {
     "name": "stdout",
     "output_type": "stream",
     "text": [
      "Periodos entrenar: [201810 201811 201812 201901 201902 201903 201904 201905]\n",
      "Periodos validar: [201907]\n",
      "product_id a validar: 580\n",
      "X_train: (4496, 120)\n",
      "y_train: (4496,)\n",
      "\n",
      "X_validate: (580, 120)\n",
      "y_validate: (580,)\n",
      "Optimizacion Bayesiana\n",
      "**************** regression_l1 ****************\n",
      "Training until validation scores don't improve for 84 rounds\n",
      "Early stopping, best iteration is:\n",
      "[1]\tvalid_0's ER: 100\n",
      "Evaluated only: ER\n",
      "**************** regression_l1 ****************\n",
      "Training until validation scores don't improve for 75 rounds\n"
     ]
    },
    {
     "name": "stderr",
     "output_type": "stream",
     "text": [
      "[I 2023-12-16 05:25:57,927] Trial 1 finished with value: 100.0 and parameters: {'lambda_l1': 210.41674291092426, 'lambda_l2': 470.2406788197242, 'learning_rate': 0.1944224020861867, 'num_leaves': 225, 'feature_fraction': 0.8521986507839654, 'min_data_in_leaf': 352}. Best is trial 0 with value: 100.0.\n",
      "[I 2023-12-16 05:25:58,108] Trial 2 finished with value: 100.0 and parameters: {'lambda_l1': 302.34018929794, 'lambda_l2': 383.17006885692825, 'learning_rate': 0.038436151683435456, 'num_leaves': 838, 'feature_fraction': 0.4645753895007765, 'min_data_in_leaf': 7434}. Best is trial 0 with value: 100.0.\n"
     ]
    },
    {
     "name": "stdout",
     "output_type": "stream",
     "text": [
      "Early stopping, best iteration is:\n",
      "[1]\tvalid_0's ER: 100\n",
      "Evaluated only: ER\n",
      "**************** regression_l1 ****************\n",
      "Training until validation scores don't improve for 180 rounds\n",
      "[100]\tvalid_0's ER: 100\n",
      "Early stopping, best iteration is:\n",
      "[1]\tvalid_0's ER: 100\n",
      "Evaluated only: ER\n",
      "**************** regression_l1 ****************\n"
     ]
    },
    {
     "name": "stderr",
     "output_type": "stream",
     "text": [
      "[I 2023-12-16 05:25:58,216] Trial 3 finished with value: 100.0 and parameters: {'lambda_l1': 921.3585790487261, 'lambda_l2': 340.79127347803706, 'learning_rate': 0.2757453380341941, 'num_leaves': 946, 'feature_fraction': 0.8527927650065712, 'min_data_in_leaf': 3050}. Best is trial 0 with value: 100.0.\n"
     ]
    },
    {
     "name": "stdout",
     "output_type": "stream",
     "text": [
      "Training until validation scores don't improve for 68 rounds\n",
      "Early stopping, best iteration is:\n",
      "[1]\tvalid_0's ER: 100\n",
      "Evaluated only: ER\n",
      "**************** regression_l1 ****************\n",
      "Training until validation scores don't improve for 134 rounds\n",
      "[100]\tvalid_0's ER: 100\n",
      "Early stopping, best iteration is:\n",
      "[1]\tvalid_0's ER: 100\n",
      "Evaluated only: ER\n"
     ]
    },
    {
     "name": "stderr",
     "output_type": "stream",
     "text": [
      "[I 2023-12-16 05:25:58,377] Trial 4 finished with value: 100.0 and parameters: {'lambda_l1': 922.5130239151683, 'lambda_l2': 482.7159260292886, 'learning_rate': 0.05907053765503788, 'num_leaves': 960, 'feature_fraction': 0.5787118454448374, 'min_data_in_leaf': 4150}. Best is trial 0 with value: 100.0.\n",
      "[I 2023-12-16 05:25:58,525] Trial 5 finished with value: 100.0 and parameters: {'lambda_l1': 352.12005383442045, 'lambda_l2': 820.2587622333581, 'learning_rate': 0.05915586605456611, 'num_leaves': 660, 'feature_fraction': 0.28063045525921126, 'min_data_in_leaf': 6727}. Best is trial 0 with value: 100.0.\n"
     ]
    },
    {
     "name": "stdout",
     "output_type": "stream",
     "text": [
      "**************** regression_l1 ****************\n",
      "Training until validation scores don't improve for 134 rounds\n",
      "[100]\tvalid_0's ER: 100\n",
      "Early stopping, best iteration is:\n",
      "[1]\tvalid_0's ER: 100\n",
      "Evaluated only: ER\n",
      "**************** regression_l1 ****************\n"
     ]
    },
    {
     "name": "stderr",
     "output_type": "stream",
     "text": [
      "[I 2023-12-16 05:25:58,651] Trial 6 finished with value: 100.0 and parameters: {'lambda_l1': 888.5156911076235, 'lambda_l2': 605.03946176651, 'learning_rate': 0.18839813769349395, 'num_leaves': 964, 'feature_fraction': 0.5593978632395293, 'min_data_in_leaf': 2415}. Best is trial 0 with value: 100.0.\n"
     ]
    },
    {
     "name": "stdout",
     "output_type": "stream",
     "text": [
      "Training until validation scores don't improve for 76 rounds\n",
      "Early stopping, best iteration is:\n",
      "[1]\tvalid_0's ER: 100\n",
      "Evaluated only: ER\n",
      "**************** regression_l1 ****************\n",
      "Training until validation scores don't improve for 171 rounds\n",
      "[100]\tvalid_0's ER: 100\n"
     ]
    },
    {
     "name": "stderr",
     "output_type": "stream",
     "text": [
      "[I 2023-12-16 05:25:58,837] Trial 7 finished with value: 100.0 and parameters: {'lambda_l1': 410.00954003907344, 'lambda_l2': 616.3991922089343, 'learning_rate': 0.041226337206619695, 'num_leaves': 776, 'feature_fraction': 0.49167326098775876, 'min_data_in_leaf': 6859}. Best is trial 0 with value: 100.0.\n"
     ]
    },
    {
     "name": "stdout",
     "output_type": "stream",
     "text": [
      "Early stopping, best iteration is:\n",
      "[1]\tvalid_0's ER: 100\n",
      "Evaluated only: ER\n",
      "**************** regression_l1 ****************\n",
      "Training until validation scores don't improve for 68 rounds\n"
     ]
    },
    {
     "name": "stderr",
     "output_type": "stream",
     "text": [
      "[I 2023-12-16 05:25:59,762] Trial 8 finished with value: 100.0 and parameters: {'lambda_l1': 153.47646320381426, 'lambda_l2': 1.1028062324641708, 'learning_rate': 0.2695760488389669, 'num_leaves': 28, 'feature_fraction': 0.41201299960497695, 'min_data_in_leaf': 3744}. Best is trial 0 with value: 100.0.\n",
      "[I 2023-12-16 05:25:59,916] Trial 9 finished with value: 100.0 and parameters: {'lambda_l1': 269.26895203903155, 'lambda_l2': 75.46112612682576, 'learning_rate': 0.14230315623282674, 'num_leaves': 471, 'feature_fraction': 0.8266044585915286, 'min_data_in_leaf': 1281}. Best is trial 0 with value: 100.0.\n"
     ]
    },
    {
     "name": "stdout",
     "output_type": "stream",
     "text": [
      "Early stopping, best iteration is:\n",
      "[1]\tvalid_0's ER: 100\n",
      "Evaluated only: ER\n",
      "**************** regression_l1 ****************\n",
      "Training until validation scores don't improve for 85 rounds\n",
      "Early stopping, best iteration is:\n",
      "[1]\tvalid_0's ER: 100\n",
      "Evaluated only: ER\n",
      "# Experimentos: 10\n",
      "Mejor experimento: {'lambda_l1': 337.3268114978322, 'lambda_l2': 246.51159684290513, 'learning_rate': 0.14472217826879472, 'num_leaves': 801, 'feature_fraction': 0.8015686874259953, 'min_data_in_leaf': 6093}\n",
      "=========================================== Cluster 62 ===========================================\n"
     ]
    },
    {
     "name": "stderr",
     "output_type": "stream",
     "text": [
      "[I 2023-12-16 05:26:05,707] A new study created in memory with name: no-name-dc1e76dd-3877-44e5-822b-45e0f99c5522\n"
     ]
    },
    {
     "name": "stdout",
     "output_type": "stream",
     "text": [
      "Periodos entrenar: [201701 201702 201703 201704 201705 201706 201707 201708 201709 201710\n",
      " 201711 201712 201801 201802 201803 201804 201805 201806 201807 201808\n",
      " 201809 201810 201811 201812 201901 201902 201903 201904 201905]\n",
      "Periodos validar: [201907]\n",
      "product_id a validar: 7540\n",
      "X_train: (173681, 120)\n",
      "y_train: (173681,)\n",
      "\n",
      "X_validate: (7540, 120)\n",
      "y_validate: (7540,)\n",
      "Optimizacion Bayesiana\n",
      "**************** regression_l1 ****************\n",
      "Training until validation scores don't improve for 95 rounds\n"
     ]
    },
    {
     "name": "stderr",
     "output_type": "stream",
     "text": [
      "[I 2023-12-16 05:26:09,411] Trial 0 finished with value: 99.98 and parameters: {'lambda_l1': 191.69118607024828, 'lambda_l2': 379.8928710245042, 'learning_rate': 0.11061939134050865, 'num_leaves': 395, 'feature_fraction': 0.8967705126043828, 'min_data_in_leaf': 4220}. Best is trial 0 with value: 99.98.\n"
     ]
    },
    {
     "name": "stdout",
     "output_type": "stream",
     "text": [
      "Early stopping, best iteration is:\n",
      "[2]\tvalid_0's ER: 99.98\n",
      "Evaluated only: ER\n",
      "**************** regression_l1 ****************\n",
      "Training until validation scores don't improve for 66 rounds\n"
     ]
    },
    {
     "name": "stderr",
     "output_type": "stream",
     "text": [
      "[I 2023-12-16 05:26:12,209] Trial 1 finished with value: 100.0 and parameters: {'lambda_l1': 617.8793526912546, 'lambda_l2': 404.12003553387086, 'learning_rate': 0.2986415192883487, 'num_leaves': 744, 'feature_fraction': 0.8998774379785841, 'min_data_in_leaf': 2971}. Best is trial 0 with value: 99.98.\n"
     ]
    },
    {
     "name": "stdout",
     "output_type": "stream",
     "text": [
      "Early stopping, best iteration is:\n",
      "[1]\tvalid_0's ER: 100\n",
      "Evaluated only: ER\n",
      "**************** regression_l1 ****************\n",
      "Training until validation scores don't improve for 112 rounds\n",
      "[100]\tvalid_0's ER: 104.34\n"
     ]
    },
    {
     "name": "stderr",
     "output_type": "stream",
     "text": [
      "[I 2023-12-16 05:26:15,173] Trial 2 finished with value: 100.0 and parameters: {'lambda_l1': 681.5501913351892, 'lambda_l2': 136.1937155008618, 'learning_rate': 0.08028631110637242, 'num_leaves': 444, 'feature_fraction': 0.3361777405645229, 'min_data_in_leaf': 6990}. Best is trial 0 with value: 99.98.\n"
     ]
    },
    {
     "name": "stdout",
     "output_type": "stream",
     "text": [
      "Early stopping, best iteration is:\n",
      "[1]\tvalid_0's ER: 100\n",
      "Evaluated only: ER\n",
      "**************** regression_l1 ****************\n",
      "Training until validation scores don't improve for 82 rounds\n"
     ]
    },
    {
     "name": "stderr",
     "output_type": "stream",
     "text": [
      "[I 2023-12-16 05:26:18,386] Trial 3 finished with value: 100.0 and parameters: {'lambda_l1': 966.1190407106498, 'lambda_l2': 930.7112613042025, 'learning_rate': 0.15508346016752578, 'num_leaves': 504, 'feature_fraction': 0.894360796107575, 'min_data_in_leaf': 7327}. Best is trial 0 with value: 99.98.\n"
     ]
    },
    {
     "name": "stdout",
     "output_type": "stream",
     "text": [
      "Early stopping, best iteration is:\n",
      "[1]\tvalid_0's ER: 100\n",
      "Evaluated only: ER\n",
      "**************** regression_l1 ****************\n",
      "Training until validation scores don't improve for 78 rounds\n"
     ]
    },
    {
     "name": "stderr",
     "output_type": "stream",
     "text": [
      "[I 2023-12-16 05:26:21,505] Trial 4 finished with value: 100.0 and parameters: {'lambda_l1': 919.9756529465188, 'lambda_l2': 163.21339001986536, 'learning_rate': 0.17830115525835274, 'num_leaves': 188, 'feature_fraction': 0.8897031942563607, 'min_data_in_leaf': 3548}. Best is trial 0 with value: 99.98.\n"
     ]
    },
    {
     "name": "stdout",
     "output_type": "stream",
     "text": [
      "Early stopping, best iteration is:\n",
      "[1]\tvalid_0's ER: 100\n",
      "Evaluated only: ER\n",
      "**************** regression_l1 ****************\n",
      "Training until validation scores don't improve for 123 rounds\n",
      "[100]\tvalid_0's ER: 100\n"
     ]
    },
    {
     "name": "stderr",
     "output_type": "stream",
     "text": [
      "[I 2023-12-16 05:26:25,640] Trial 5 finished with value: 100.0 and parameters: {'lambda_l1': 983.2908088798636, 'lambda_l2': 375.4145472667166, 'learning_rate': 0.06771335232651571, 'num_leaves': 708, 'feature_fraction': 0.7545943966544502, 'min_data_in_leaf': 6079}. Best is trial 0 with value: 99.98.\n"
     ]
    },
    {
     "name": "stdout",
     "output_type": "stream",
     "text": [
      "Early stopping, best iteration is:\n",
      "[1]\tvalid_0's ER: 100\n",
      "Evaluated only: ER\n",
      "**************** regression_l1 ****************\n",
      "Training until validation scores don't improve for 113 rounds\n",
      "[100]\tvalid_0's ER: 100\n"
     ]
    },
    {
     "name": "stderr",
     "output_type": "stream",
     "text": [
      "[I 2023-12-16 05:26:29,000] Trial 6 finished with value: 100.0 and parameters: {'lambda_l1': 881.4661226768394, 'lambda_l2': 529.0136834512481, 'learning_rate': 0.07912786203759944, 'num_leaves': 1000, 'feature_fraction': 0.5708266917043869, 'min_data_in_leaf': 7837}. Best is trial 0 with value: 99.98.\n"
     ]
    },
    {
     "name": "stdout",
     "output_type": "stream",
     "text": [
      "Early stopping, best iteration is:\n",
      "[1]\tvalid_0's ER: 100\n",
      "Evaluated only: ER\n",
      "**************** regression_l1 ****************\n",
      "Training until validation scores don't improve for 68 rounds\n"
     ]
    },
    {
     "name": "stderr",
     "output_type": "stream",
     "text": [
      "[I 2023-12-16 05:26:31,201] Trial 7 finished with value: 100.73 and parameters: {'lambda_l1': 235.0075756632045, 'lambda_l2': 162.69346092268367, 'learning_rate': 0.26647583161122396, 'num_leaves': 666, 'feature_fraction': 0.3275090265247973, 'min_data_in_leaf': 5987}. Best is trial 0 with value: 99.98.\n"
     ]
    },
    {
     "name": "stdout",
     "output_type": "stream",
     "text": [
      "Early stopping, best iteration is:\n",
      "[2]\tvalid_0's ER: 100.73\n",
      "Evaluated only: ER\n",
      "**************** regression_l1 ****************\n",
      "Training until validation scores don't improve for 75 rounds\n"
     ]
    },
    {
     "name": "stderr",
     "output_type": "stream",
     "text": [
      "[I 2023-12-16 05:26:33,887] Trial 8 finished with value: 100.0 and parameters: {'lambda_l1': 482.1970880423223, 'lambda_l2': 523.402357455819, 'learning_rate': 0.1934237949069059, 'num_leaves': 255, 'feature_fraction': 0.5529153032458345, 'min_data_in_leaf': 4802}. Best is trial 0 with value: 99.98.\n"
     ]
    },
    {
     "name": "stdout",
     "output_type": "stream",
     "text": [
      "Early stopping, best iteration is:\n",
      "[1]\tvalid_0's ER: 100\n",
      "Evaluated only: ER\n",
      "**************** regression_l1 ****************\n",
      "Training until validation scores don't improve for 67 rounds\n"
     ]
    },
    {
     "name": "stderr",
     "output_type": "stream",
     "text": [
      "[I 2023-12-16 05:26:36,075] Trial 9 finished with value: 100.0 and parameters: {'lambda_l1': 827.8798595591117, 'lambda_l2': 954.8618648816947, 'learning_rate': 0.2859160523515841, 'num_leaves': 199, 'feature_fraction': 0.3713963853175777, 'min_data_in_leaf': 5661}. Best is trial 0 with value: 99.98.\n"
     ]
    },
    {
     "name": "stdout",
     "output_type": "stream",
     "text": [
      "Early stopping, best iteration is:\n",
      "[1]\tvalid_0's ER: 100\n",
      "Evaluated only: ER\n",
      "# Experimentos: 10\n",
      "Mejor experimento: {'lambda_l1': 191.69118607024828, 'lambda_l2': 379.8928710245042, 'learning_rate': 0.11061939134050865, 'num_leaves': 395, 'feature_fraction': 0.8967705126043828, 'min_data_in_leaf': 4220}\n",
      "=========================================== Cluster 63 ===========================================\n",
      "Periodos entrenar: []\n",
      "Periodos validar: []\n",
      "product_id a validar: 0\n",
      "X_train: (0, 120)\n",
      "y_train: (0,)\n",
      "\n",
      "X_validate: (0, 120)\n",
      "y_validate: (0,)\n",
      "=========================================== Cluster 64 ===========================================\n",
      "Periodos entrenar: []\n",
      "Periodos validar: []\n",
      "product_id a validar: 0\n",
      "X_train: (0, 120)\n",
      "y_train: (0,)\n",
      "\n",
      "X_validate: (0, 120)\n",
      "y_validate: (0,)\n",
      "=========================================== Cluster 65 ===========================================\n"
     ]
    },
    {
     "name": "stderr",
     "output_type": "stream",
     "text": [
      "[I 2023-12-16 05:26:36,928] A new study created in memory with name: no-name-c5a92d0d-10c7-471f-83b8-519c853f0fc1\n",
      "[I 2023-12-16 05:26:37,087] Trial 0 finished with value: 100.0 and parameters: {'lambda_l1': 637.307533040016, 'lambda_l2': 173.94503424989017, 'learning_rate': 0.06668309240023501, 'num_leaves': 419, 'feature_fraction': 0.8976613764330499, 'min_data_in_leaf': 7442}. Best is trial 0 with value: 100.0.\n"
     ]
    },
    {
     "name": "stdout",
     "output_type": "stream",
     "text": [
      "Periodos entrenar: [201709 201710 201711 201712 201801 201802 201803 201804 201805 201806\n",
      " 201807 201808 201809 201810 201811 201812 201901 201902 201903 201904\n",
      " 201905]\n",
      "Periodos validar: [201907]\n",
      "product_id a validar: 580\n",
      "X_train: (11456, 120)\n",
      "y_train: (11456,)\n",
      "\n",
      "X_validate: (580, 120)\n",
      "y_validate: (580,)\n",
      "Optimizacion Bayesiana\n",
      "**************** regression_l1 ****************\n",
      "Training until validation scores don't improve for 124 rounds\n",
      "[100]\tvalid_0's ER: 100\n",
      "Early stopping, best iteration is:\n",
      "[1]\tvalid_0's ER: 100\n",
      "Evaluated only: ER\n",
      "**************** regression_l1 ****************\n"
     ]
    },
    {
     "name": "stderr",
     "output_type": "stream",
     "text": [
      "[I 2023-12-16 05:26:37,287] Trial 1 finished with value: 100.0 and parameters: {'lambda_l1': 38.25493135687963, 'lambda_l2': 734.7297043137391, 'learning_rate': 0.11122230121644196, 'num_leaves': 359, 'feature_fraction': 0.2917819414304865, 'min_data_in_leaf': 3962}. Best is trial 0 with value: 100.0.\n"
     ]
    },
    {
     "name": "stdout",
     "output_type": "stream",
     "text": [
      "Training until validation scores don't improve for 94 rounds\n",
      "Early stopping, best iteration is:\n",
      "[1]\tvalid_0's ER: 100\n",
      "Evaluated only: ER\n",
      "**************** regression_l1 ****************\n",
      "Training until validation scores don't improve for 70 rounds\n"
     ]
    },
    {
     "name": "stderr",
     "output_type": "stream",
     "text": [
      "[I 2023-12-16 05:26:37,431] Trial 2 finished with value: 100.0 and parameters: {'lambda_l1': 783.433236066419, 'lambda_l2': 757.8684864771749, 'learning_rate': 0.24754988121963717, 'num_leaves': 440, 'feature_fraction': 0.7274608675487166, 'min_data_in_leaf': 7723}. Best is trial 0 with value: 100.0.\n"
     ]
    },
    {
     "name": "stdout",
     "output_type": "stream",
     "text": [
      "Early stopping, best iteration is:\n",
      "[1]\tvalid_0's ER: 100\n",
      "Evaluated only: ER\n",
      "**************** regression_l1 ****************\n",
      "Training until validation scores don't improve for 246 rounds\n"
     ]
    },
    {
     "name": "stderr",
     "output_type": "stream",
     "text": [
      "[I 2023-12-16 05:26:37,852] Trial 3 finished with value: 100.0 and parameters: {'lambda_l1': 566.8072767255462, 'lambda_l2': 256.1692347230675, 'learning_rate': 0.025423439363991687, 'num_leaves': 504, 'feature_fraction': 0.8011383120030768, 'min_data_in_leaf': 3888}. Best is trial 0 with value: 100.0.\n"
     ]
    },
    {
     "name": "stdout",
     "output_type": "stream",
     "text": [
      "[100]\tvalid_0's ER: 100\n",
      "[200]\tvalid_0's ER: 100\n",
      "Early stopping, best iteration is:\n",
      "[1]\tvalid_0's ER: 100\n",
      "Evaluated only: ER\n"
     ]
    },
    {
     "name": "stderr",
     "output_type": "stream",
     "text": [
      "[I 2023-12-16 05:26:38,053] Trial 4 finished with value: 100.0 and parameters: {'lambda_l1': 247.97250526833224, 'lambda_l2': 91.03984621244643, 'learning_rate': 0.20177116600406866, 'num_leaves': 179, 'feature_fraction': 0.8710523270393076, 'min_data_in_leaf': 4878}. Best is trial 0 with value: 100.0.\n"
     ]
    },
    {
     "name": "stdout",
     "output_type": "stream",
     "text": [
      "**************** regression_l1 ****************\n",
      "Training until validation scores don't improve for 74 rounds\n",
      "Early stopping, best iteration is:\n",
      "[1]\tvalid_0's ER: 100\n",
      "Evaluated only: ER\n",
      "**************** regression_l1 ****************\n"
     ]
    },
    {
     "name": "stderr",
     "output_type": "stream",
     "text": [
      "[I 2023-12-16 05:26:38,221] Trial 5 finished with value: 100.0 and parameters: {'lambda_l1': 436.5353824284659, 'lambda_l2': 446.43375813250674, 'learning_rate': 0.11993522040024372, 'num_leaves': 498, 'feature_fraction': 0.24293979899166082, 'min_data_in_leaf': 7575}. Best is trial 0 with value: 100.0.\n"
     ]
    },
    {
     "name": "stdout",
     "output_type": "stream",
     "text": [
      "Training until validation scores don't improve for 91 rounds\n",
      "Early stopping, best iteration is:\n",
      "[1]\tvalid_0's ER: 100\n",
      "Evaluated only: ER\n",
      "**************** regression_l1 ****************\n",
      "Training until validation scores don't improve for 74 rounds\n"
     ]
    },
    {
     "name": "stderr",
     "output_type": "stream",
     "text": [
      "[I 2023-12-16 05:26:38,474] Trial 6 finished with value: 100.0 and parameters: {'lambda_l1': 496.89108993600416, 'lambda_l2': 218.8359083082755, 'learning_rate': 0.20186575440744206, 'num_leaves': 768, 'feature_fraction': 0.8257733218907275, 'min_data_in_leaf': 618}. Best is trial 0 with value: 100.0.\n"
     ]
    },
    {
     "name": "stdout",
     "output_type": "stream",
     "text": [
      "Early stopping, best iteration is:\n",
      "[1]\tvalid_0's ER: 100\n",
      "Evaluated only: ER\n",
      "**************** regression_l1 ****************\n",
      "Training until validation scores don't improve for 82 rounds\n"
     ]
    },
    {
     "name": "stderr",
     "output_type": "stream",
     "text": [
      "[I 2023-12-16 05:26:38,697] Trial 7 finished with value: 100.0 and parameters: {'lambda_l1': 430.51024822261365, 'lambda_l2': 665.1669279364547, 'learning_rate': 0.15596478739917344, 'num_leaves': 888, 'feature_fraction': 0.5626426037262913, 'min_data_in_leaf': 4542}. Best is trial 0 with value: 100.0.\n"
     ]
    },
    {
     "name": "stdout",
     "output_type": "stream",
     "text": [
      "Early stopping, best iteration is:\n",
      "[1]\tvalid_0's ER: 100\n",
      "Evaluated only: ER\n",
      "**************** regression_l1 ****************\n",
      "Training until validation scores don't improve for 147 rounds\n"
     ]
    },
    {
     "name": "stderr",
     "output_type": "stream",
     "text": [
      "[I 2023-12-16 05:26:38,977] Trial 8 finished with value: 100.0 and parameters: {'lambda_l1': 459.0559927855332, 'lambda_l2': 750.0252210074045, 'learning_rate': 0.05153996857621613, 'num_leaves': 931, 'feature_fraction': 0.27734439924550913, 'min_data_in_leaf': 2251}. Best is trial 0 with value: 100.0.\n"
     ]
    },
    {
     "name": "stdout",
     "output_type": "stream",
     "text": [
      "[100]\tvalid_0's ER: 100\n",
      "Early stopping, best iteration is:\n",
      "[1]\tvalid_0's ER: 100\n",
      "Evaluated only: ER\n",
      "**************** regression_l1 ****************\n",
      "Training until validation scores don't improve for 68 rounds\n",
      "Early stopping, best iteration is:\n",
      "[1]\tvalid_0's ER: 100\n",
      "Evaluated only: ER\n"
     ]
    },
    {
     "name": "stderr",
     "output_type": "stream",
     "text": [
      "[I 2023-12-16 05:26:39,122] Trial 9 finished with value: 100.0 and parameters: {'lambda_l1': 500.3888053002696, 'lambda_l2': 895.5262233032726, 'learning_rate': 0.2724794076354821, 'num_leaves': 872, 'feature_fraction': 0.6998932770151081, 'min_data_in_leaf': 6976}. Best is trial 0 with value: 100.0.\n"
     ]
    },
    {
     "name": "stdout",
     "output_type": "stream",
     "text": [
      "# Experimentos: 10\n",
      "Mejor experimento: {'lambda_l1': 637.307533040016, 'lambda_l2': 173.94503424989017, 'learning_rate': 0.06668309240023501, 'num_leaves': 419, 'feature_fraction': 0.8976613764330499, 'min_data_in_leaf': 7442}\n",
      "=========================================== Cluster 66 ===========================================\n"
     ]
    },
    {
     "name": "stderr",
     "output_type": "stream",
     "text": [
      "[I 2023-12-16 05:26:42,626] A new study created in memory with name: no-name-7a4169e1-a463-487b-813a-2dcbdb223e9b\n"
     ]
    },
    {
     "name": "stdout",
     "output_type": "stream",
     "text": [
      "Periodos entrenar: [201701 201702 201703 201704 201705 201706 201707 201708 201709 201710\n",
      " 201711 201712 201801 201802 201803 201804 201805 201806 201807 201808\n",
      " 201809 201810 201811 201812 201901 201902 201903 201904 201905]\n",
      "Periodos validar: [201907]\n",
      "product_id a validar: 4060\n",
      "X_train: (108199, 120)\n",
      "y_train: (108199,)\n",
      "\n",
      "X_validate: (4060, 120)\n",
      "y_validate: (4060,)\n",
      "Optimizacion Bayesiana\n",
      "**************** regression_l1 ****************\n",
      "Training until validation scores don't improve for 78 rounds\n"
     ]
    },
    {
     "name": "stderr",
     "output_type": "stream",
     "text": [
      "[I 2023-12-16 05:26:44,230] Trial 0 finished with value: 100.25 and parameters: {'lambda_l1': 130.64014550826352, 'lambda_l2': 210.44625409262053, 'learning_rate': 0.1760951318159503, 'num_leaves': 100, 'feature_fraction': 0.4097297183661692, 'min_data_in_leaf': 4479}. Best is trial 0 with value: 100.25.\n"
     ]
    },
    {
     "name": "stdout",
     "output_type": "stream",
     "text": [
      "Early stopping, best iteration is:\n",
      "[2]\tvalid_0's ER: 100.25\n",
      "Evaluated only: ER\n",
      "**************** regression_l1 ****************\n",
      "Training until validation scores don't improve for 82 rounds\n"
     ]
    },
    {
     "name": "stderr",
     "output_type": "stream",
     "text": [
      "[I 2023-12-16 05:26:46,478] Trial 1 finished with value: 100.54 and parameters: {'lambda_l1': 2.7200034924054206, 'lambda_l2': 770.3962409194603, 'learning_rate': 0.15232286266730447, 'num_leaves': 102, 'feature_fraction': 0.6425639302571342, 'min_data_in_leaf': 5419}. Best is trial 0 with value: 100.25.\n"
     ]
    },
    {
     "name": "stdout",
     "output_type": "stream",
     "text": [
      "Early stopping, best iteration is:\n",
      "[4]\tvalid_0's ER: 100.54\n",
      "Evaluated only: ER\n",
      "**************** regression_l1 ****************\n",
      "Training until validation scores don't improve for 102 rounds\n"
     ]
    },
    {
     "name": "stderr",
     "output_type": "stream",
     "text": [
      "[I 2023-12-16 05:26:48,082] Trial 2 finished with value: 100.0 and parameters: {'lambda_l1': 758.470881665681, 'lambda_l2': 669.1260085795716, 'learning_rate': 0.09567680613416304, 'num_leaves': 663, 'feature_fraction': 0.2738424872878376, 'min_data_in_leaf': 4204}. Best is trial 2 with value: 100.0.\n"
     ]
    },
    {
     "name": "stdout",
     "output_type": "stream",
     "text": [
      "[100]\tvalid_0's ER: 102.39\n",
      "Early stopping, best iteration is:\n",
      "[1]\tvalid_0's ER: 100\n",
      "Evaluated only: ER\n",
      "**************** regression_l1 ****************\n",
      "Training until validation scores don't improve for 68 rounds\n"
     ]
    },
    {
     "name": "stderr",
     "output_type": "stream",
     "text": [
      "[I 2023-12-16 05:26:49,507] Trial 3 finished with value: 100.0 and parameters: {'lambda_l1': 969.9983366751352, 'lambda_l2': 267.30959676809863, 'learning_rate': 0.26426590709833464, 'num_leaves': 62, 'feature_fraction': 0.3985960739456167, 'min_data_in_leaf': 5322}. Best is trial 2 with value: 100.0.\n"
     ]
    },
    {
     "name": "stdout",
     "output_type": "stream",
     "text": [
      "Early stopping, best iteration is:\n",
      "[1]\tvalid_0's ER: 100\n",
      "Evaluated only: ER\n",
      "**************** regression_l1 ****************\n",
      "Training until validation scores don't improve for 70 rounds\n"
     ]
    },
    {
     "name": "stderr",
     "output_type": "stream",
     "text": [
      "[I 2023-12-16 05:26:51,055] Trial 4 finished with value: 100.0 and parameters: {'lambda_l1': 484.148046790163, 'lambda_l2': 174.63559342579404, 'learning_rate': 0.24428437797681887, 'num_leaves': 586, 'feature_fraction': 0.536966190348487, 'min_data_in_leaf': 6863}. Best is trial 2 with value: 100.0.\n"
     ]
    },
    {
     "name": "stdout",
     "output_type": "stream",
     "text": [
      "Early stopping, best iteration is:\n",
      "[1]\tvalid_0's ER: 100\n",
      "Evaluated only: ER\n",
      "**************** regression_l1 ****************\n",
      "Training until validation scores don't improve for 94 rounds\n"
     ]
    },
    {
     "name": "stderr",
     "output_type": "stream",
     "text": [
      "[I 2023-12-16 05:26:53,423] Trial 5 finished with value: 100.33 and parameters: {'lambda_l1': 337.55286245982666, 'lambda_l2': 199.8226015298983, 'learning_rate': 0.11223421540627182, 'num_leaves': 751, 'feature_fraction': 0.942968534294572, 'min_data_in_leaf': 5767}. Best is trial 2 with value: 100.0.\n"
     ]
    },
    {
     "name": "stdout",
     "output_type": "stream",
     "text": [
      "[100]\tvalid_0's ER: 100.66\n",
      "Early stopping, best iteration is:\n",
      "[10]\tvalid_0's ER: 100.33\n",
      "Evaluated only: ER\n",
      "**************** regression_l1 ****************\n",
      "Training until validation scores don't improve for 137 rounds\n",
      "[100]\tvalid_0's ER: 97.5\n"
     ]
    },
    {
     "name": "stderr",
     "output_type": "stream",
     "text": [
      "[I 2023-12-16 05:26:56,907] Trial 6 finished with value: 96.14 and parameters: {'lambda_l1': 564.8274477856131, 'lambda_l2': 456.8676194438805, 'learning_rate': 0.05728810579421723, 'num_leaves': 354, 'feature_fraction': 0.7703192871914613, 'min_data_in_leaf': 820}. Best is trial 6 with value: 96.14.\n"
     ]
    },
    {
     "name": "stdout",
     "output_type": "stream",
     "text": [
      "Early stopping, best iteration is:\n",
      "[16]\tvalid_0's ER: 96.14\n",
      "Evaluated only: ER\n",
      "**************** regression_l1 ****************\n",
      "Training until validation scores don't improve for 113 rounds\n"
     ]
    },
    {
     "name": "stderr",
     "output_type": "stream",
     "text": [
      "[I 2023-12-16 05:26:58,451] Trial 7 finished with value: 100.39 and parameters: {'lambda_l1': 305.4245461830236, 'lambda_l2': 69.46463943874015, 'learning_rate': 0.07860921855640328, 'num_leaves': 261, 'feature_fraction': 0.2049526195037048, 'min_data_in_leaf': 7318}. Best is trial 6 with value: 96.14.\n"
     ]
    },
    {
     "name": "stdout",
     "output_type": "stream",
     "text": [
      "[100]\tvalid_0's ER: 103.37\n",
      "Early stopping, best iteration is:\n",
      "[1]\tvalid_0's ER: 100.39\n",
      "Evaluated only: ER\n",
      "**************** regression_l1 ****************\n",
      "Training until validation scores don't improve for 74 rounds\n"
     ]
    },
    {
     "name": "stderr",
     "output_type": "stream",
     "text": [
      "[I 2023-12-16 05:27:01,139] Trial 8 finished with value: 100.78 and parameters: {'lambda_l1': 185.6270583602684, 'lambda_l2': 897.4119045058285, 'learning_rate': 0.20730979673520095, 'num_leaves': 377, 'feature_fraction': 0.9139109772033955, 'min_data_in_leaf': 6799}. Best is trial 6 with value: 96.14.\n"
     ]
    },
    {
     "name": "stdout",
     "output_type": "stream",
     "text": [
      "Early stopping, best iteration is:\n",
      "[1]\tvalid_0's ER: 100.78\n",
      "Evaluated only: ER\n",
      "**************** regression_l1 ****************\n",
      "Training until validation scores don't improve for 144 rounds\n",
      "[100]\tvalid_0's ER: 103.68\n"
     ]
    },
    {
     "name": "stderr",
     "output_type": "stream",
     "text": [
      "[I 2023-12-16 05:27:03,680] Trial 9 finished with value: 100.13 and parameters: {'lambda_l1': 161.59152645187623, 'lambda_l2': 508.50274640344753, 'learning_rate': 0.05304420340008891, 'num_leaves': 292, 'feature_fraction': 0.5589624336063495, 'min_data_in_leaf': 5687}. Best is trial 6 with value: 96.14.\n"
     ]
    },
    {
     "name": "stdout",
     "output_type": "stream",
     "text": [
      "Early stopping, best iteration is:\n",
      "[2]\tvalid_0's ER: 100.13\n",
      "Evaluated only: ER\n",
      "# Experimentos: 10\n",
      "Mejor experimento: {'lambda_l1': 564.8274477856131, 'lambda_l2': 456.8676194438805, 'learning_rate': 0.05728810579421723, 'num_leaves': 354, 'feature_fraction': 0.7703192871914613, 'min_data_in_leaf': 820}\n",
      "=========================================== Cluster 67 ===========================================\n"
     ]
    },
    {
     "name": "stderr",
     "output_type": "stream",
     "text": [
      "[I 2023-12-16 05:27:04,025] A new study created in memory with name: no-name-ad9a05b5-370a-4bf7-aaa8-2667a7b071de\n",
      "[I 2023-12-16 05:27:04,167] Trial 0 finished with value: 100.0 and parameters: {'lambda_l1': 477.8675576910333, 'lambda_l2': 107.79995150089871, 'learning_rate': 0.07536319992941404, 'num_leaves': 725, 'feature_fraction': 0.2765143886324395, 'min_data_in_leaf': 6604}. Best is trial 0 with value: 100.0.\n"
     ]
    },
    {
     "name": "stdout",
     "output_type": "stream",
     "text": [
      "Periodos entrenar: [201808 201809 201810 201811 201812 201901 201902 201903 201904 201905]\n",
      "Periodos validar: [201907]\n",
      "product_id a validar: 580\n",
      "X_train: (5598, 120)\n",
      "y_train: (5598,)\n",
      "\n",
      "X_validate: (580, 120)\n",
      "y_validate: (580,)\n",
      "Optimizacion Bayesiana\n",
      "**************** regression_l1 ****************\n",
      "Training until validation scores don't improve for 116 rounds\n",
      "[100]\tvalid_0's ER: 100\n",
      "Early stopping, best iteration is:\n",
      "[1]\tvalid_0's ER: 100\n",
      "Evaluated only: ER\n",
      "**************** regression_l1 ****************\n"
     ]
    },
    {
     "name": "stderr",
     "output_type": "stream",
     "text": [
      "[I 2023-12-16 05:27:04,291] Trial 1 finished with value: 100.0 and parameters: {'lambda_l1': 908.9301598036901, 'lambda_l2': 558.1787799678158, 'learning_rate': 0.2582926466495272, 'num_leaves': 70, 'feature_fraction': 0.4560693284045974, 'min_data_in_leaf': 1816}. Best is trial 0 with value: 100.0.\n",
      "[I 2023-12-16 05:27:04,401] Trial 2 finished with value: 100.0 and parameters: {'lambda_l1': 417.16785268628576, 'lambda_l2': 1.5160548188456469, 'learning_rate': 0.28005008645791507, 'num_leaves': 363, 'feature_fraction': 0.2907917558782913, 'min_data_in_leaf': 6106}. Best is trial 0 with value: 100.0.\n"
     ]
    },
    {
     "name": "stdout",
     "output_type": "stream",
     "text": [
      "Training until validation scores don't improve for 69 rounds\n",
      "Early stopping, best iteration is:\n",
      "[1]\tvalid_0's ER: 100\n",
      "Evaluated only: ER\n",
      "**************** regression_l1 ****************\n",
      "Training until validation scores don't improve for 67 rounds\n",
      "Early stopping, best iteration is:\n",
      "[1]\tvalid_0's ER: 100\n",
      "Evaluated only: ER\n",
      "**************** regression_l1 ****************\n"
     ]
    },
    {
     "name": "stderr",
     "output_type": "stream",
     "text": [
      "[I 2023-12-16 05:27:04,580] Trial 3 finished with value: 100.0 and parameters: {'lambda_l1': 439.50690609113764, 'lambda_l2': 85.30279097494797, 'learning_rate': 0.07317848509915982, 'num_leaves': 702, 'feature_fraction': 0.576738007413817, 'min_data_in_leaf': 2532}. Best is trial 0 with value: 100.0.\n"
     ]
    },
    {
     "name": "stdout",
     "output_type": "stream",
     "text": [
      "Training until validation scores don't improve for 118 rounds\n",
      "[100]\tvalid_0's ER: 100\n",
      "Early stopping, best iteration is:\n",
      "[1]\tvalid_0's ER: 100\n",
      "Evaluated only: ER\n",
      "**************** regression_l1 ****************\n",
      "Training until validation scores don't improve for 84 rounds\n"
     ]
    },
    {
     "name": "stderr",
     "output_type": "stream",
     "text": [
      "[I 2023-12-16 05:27:04,716] Trial 4 finished with value: 100.0 and parameters: {'lambda_l1': 982.4574933894424, 'lambda_l2': 807.9010722214786, 'learning_rate': 0.14601887151263712, 'num_leaves': 22, 'feature_fraction': 0.8886456370514357, 'min_data_in_leaf': 1081}. Best is trial 0 with value: 100.0.\n",
      "[I 2023-12-16 05:27:04,878] Trial 5 finished with value: 100.0 and parameters: {'lambda_l1': 937.7920959283604, 'lambda_l2': 494.21108737320276, 'learning_rate': 0.08143255799155916, 'num_leaves': 730, 'feature_fraction': 0.44910182018554456, 'min_data_in_leaf': 669}. Best is trial 0 with value: 100.0.\n"
     ]
    },
    {
     "name": "stdout",
     "output_type": "stream",
     "text": [
      "Early stopping, best iteration is:\n",
      "[1]\tvalid_0's ER: 100\n",
      "Evaluated only: ER\n",
      "**************** regression_l1 ****************\n",
      "Training until validation scores don't improve for 111 rounds\n",
      "[100]\tvalid_0's ER: 100\n",
      "Early stopping, best iteration is:\n",
      "[1]\tvalid_0's ER: 100\n",
      "Evaluated only: ER\n",
      "**************** regression_l1 ****************\n"
     ]
    },
    {
     "name": "stderr",
     "output_type": "stream",
     "text": [
      "[I 2023-12-16 05:27:05,000] Trial 6 finished with value: 100.0 and parameters: {'lambda_l1': 574.3957957468003, 'lambda_l2': 208.9763246596008, 'learning_rate': 0.274053131909568, 'num_leaves': 839, 'feature_fraction': 0.45148066455503033, 'min_data_in_leaf': 2904}. Best is trial 0 with value: 100.0.\n"
     ]
    },
    {
     "name": "stdout",
     "output_type": "stream",
     "text": [
      "Training until validation scores don't improve for 68 rounds\n",
      "Early stopping, best iteration is:\n",
      "[1]\tvalid_0's ER: 100\n",
      "Evaluated only: ER\n",
      "**************** regression_l1 ****************\n",
      "Training until validation scores don't improve for 96 rounds\n"
     ]
    },
    {
     "name": "stderr",
     "output_type": "stream",
     "text": [
      "[I 2023-12-16 05:27:05,255] Trial 7 finished with value: 100.0 and parameters: {'lambda_l1': 446.388271306398, 'lambda_l2': 910.2502578838556, 'learning_rate': 0.10798236899550358, 'num_leaves': 79, 'feature_fraction': 0.9244450526727166, 'min_data_in_leaf': 320}. Best is trial 0 with value: 100.0.\n",
      "[I 2023-12-16 05:27:05,354] Trial 8 finished with value: 100.0 and parameters: {'lambda_l1': 919.3892888815906, 'lambda_l2': 623.0179952837053, 'learning_rate': 0.23383965638240142, 'num_leaves': 372, 'feature_fraction': 0.6639012209965067, 'min_data_in_leaf': 6396}. Best is trial 0 with value: 100.0.\n"
     ]
    },
    {
     "name": "stdout",
     "output_type": "stream",
     "text": [
      "Early stopping, best iteration is:\n",
      "[1]\tvalid_0's ER: 100\n",
      "Evaluated only: ER\n",
      "**************** regression_l1 ****************\n",
      "Training until validation scores don't improve for 71 rounds\n",
      "Early stopping, best iteration is:\n",
      "[1]\tvalid_0's ER: 100\n",
      "Evaluated only: ER\n",
      "**************** regression_l1 ****************\n",
      "Training until validation scores don't improve for 79 rounds\n",
      "Early stopping, best iteration is:\n",
      "[1]\tvalid_0's ER: 100\n",
      "Evaluated only: ER\n"
     ]
    },
    {
     "name": "stderr",
     "output_type": "stream",
     "text": [
      "[I 2023-12-16 05:27:05,462] Trial 9 finished with value: 100.0 and parameters: {'lambda_l1': 449.14851357847994, 'lambda_l2': 463.4663331380525, 'learning_rate': 0.16930129405014518, 'num_leaves': 535, 'feature_fraction': 0.6801868346394391, 'min_data_in_leaf': 6917}. Best is trial 0 with value: 100.0.\n"
     ]
    },
    {
     "name": "stdout",
     "output_type": "stream",
     "text": [
      "# Experimentos: 10\n",
      "Mejor experimento: {'lambda_l1': 477.8675576910333, 'lambda_l2': 107.79995150089871, 'learning_rate': 0.07536319992941404, 'num_leaves': 725, 'feature_fraction': 0.2765143886324395, 'min_data_in_leaf': 6604}\n",
      "=========================================== Cluster 68 ===========================================\n",
      "Periodos entrenar: []\n",
      "Periodos validar: []\n",
      "product_id a validar: 0\n",
      "X_train: (0, 120)\n",
      "y_train: (0,)\n",
      "\n",
      "X_validate: (0, 120)\n",
      "y_validate: (0,)\n",
      "=========================================== Cluster 69 ===========================================\n"
     ]
    },
    {
     "name": "stderr",
     "output_type": "stream",
     "text": [
      "[I 2023-12-16 05:27:06,582] A new study created in memory with name: no-name-39d5b59d-020a-4692-bbd2-75bc4e05b097\n"
     ]
    },
    {
     "name": "stdout",
     "output_type": "stream",
     "text": [
      "Periodos entrenar: [201701 201702 201703 201704 201705 201706 201707 201708 201709 201710\n",
      " 201711 201712 201801 201802 201803 201804 201805 201806 201807 201808\n",
      " 201809 201810 201811 201812 201901 201902 201903 201904 201905]\n",
      "Periodos validar: [201907]\n",
      "product_id a validar: 1160\n",
      "X_train: (30914, 120)\n",
      "y_train: (30914,)\n",
      "\n",
      "X_validate: (1160, 120)\n",
      "y_validate: (1160,)\n",
      "Optimizacion Bayesiana\n",
      "**************** regression_l1 ****************\n",
      "Training until validation scores don't improve for 103 rounds\n",
      "[100]\tvalid_0's ER: 79.27\n",
      "[200]\tvalid_0's ER: 78.77\n",
      "[300]\tvalid_0's ER: 78.68\n",
      "[400]\tvalid_0's ER: 78.58\n",
      "[500]\tvalid_0's ER: 78.36\n",
      "[600]\tvalid_0's ER: 78.25\n",
      "[700]\tvalid_0's ER: 78.02\n",
      "[800]\tvalid_0's ER: 77.85\n",
      "[900]\tvalid_0's ER: 77.67\n",
      "[1000]\tvalid_0's ER: 77.61\n",
      "[1100]\tvalid_0's ER: 77.48\n",
      "[1200]\tvalid_0's ER: 77.21\n",
      "[1300]\tvalid_0's ER: 77.09\n",
      "[1400]\tvalid_0's ER: 76.9\n",
      "[1500]\tvalid_0's ER: 76.69\n",
      "[1600]\tvalid_0's ER: 76.58\n",
      "[1700]\tvalid_0's ER: 76.5\n",
      "[1800]\tvalid_0's ER: 76.45\n",
      "[1900]\tvalid_0's ER: 76.26\n",
      "[2000]\tvalid_0's ER: 76.04\n",
      "[2100]\tvalid_0's ER: 76.08\n",
      "Early stopping, best iteration is:\n",
      "[2012]\tvalid_0's ER: 76.03\n",
      "Evaluated only: ER\n"
     ]
    },
    {
     "name": "stderr",
     "output_type": "stream",
     "text": [
      "[I 2023-12-16 05:27:15,962] Trial 0 finished with value: 76.03 and parameters: {'lambda_l1': 65.38878488552236, 'lambda_l2': 448.61329134389405, 'learning_rate': 0.09336225163672922, 'num_leaves': 253, 'feature_fraction': 0.2987022191359603, 'min_data_in_leaf': 868}. Best is trial 0 with value: 76.03.\n"
     ]
    },
    {
     "name": "stdout",
     "output_type": "stream",
     "text": [
      "**************** regression_l1 ****************\n",
      "Training until validation scores don't improve for 99 rounds\n"
     ]
    },
    {
     "name": "stderr",
     "output_type": "stream",
     "text": [
      "[I 2023-12-16 05:27:16,533] Trial 1 finished with value: 100.0 and parameters: {'lambda_l1': 441.0858779672664, 'lambda_l2': 760.8938780290136, 'learning_rate': 0.1019472096407823, 'num_leaves': 768, 'feature_fraction': 0.8431047729273975, 'min_data_in_leaf': 7560}. Best is trial 0 with value: 76.03.\n"
     ]
    },
    {
     "name": "stdout",
     "output_type": "stream",
     "text": [
      "[100]\tvalid_0's ER: 100\n",
      "Early stopping, best iteration is:\n",
      "[1]\tvalid_0's ER: 100\n",
      "Evaluated only: ER\n",
      "**************** regression_l1 ****************\n",
      "Training until validation scores don't improve for 74 rounds\n",
      "[100]\tvalid_0's ER: 78.3\n"
     ]
    },
    {
     "name": "stderr",
     "output_type": "stream",
     "text": [
      "[I 2023-12-16 05:27:18,230] Trial 2 finished with value: 77.6 and parameters: {'lambda_l1': 67.02800162678369, 'lambda_l2': 368.92884745227474, 'learning_rate': 0.20217200207964786, 'num_leaves': 401, 'feature_fraction': 0.8380744071216937, 'min_data_in_leaf': 54}. Best is trial 0 with value: 76.03.\n"
     ]
    },
    {
     "name": "stdout",
     "output_type": "stream",
     "text": [
      "Early stopping, best iteration is:\n",
      "[39]\tvalid_0's ER: 77.6\n",
      "Evaluated only: ER\n",
      "**************** regression_l1 ****************\n",
      "Training until validation scores don't improve for 98 rounds\n"
     ]
    },
    {
     "name": "stderr",
     "output_type": "stream",
     "text": [
      "[I 2023-12-16 05:27:18,857] Trial 3 finished with value: 100.0 and parameters: {'lambda_l1': 909.255216735805, 'lambda_l2': 371.55711584703124, 'learning_rate': 0.1041142774966359, 'num_leaves': 775, 'feature_fraction': 0.9085468860570063, 'min_data_in_leaf': 1132}. Best is trial 0 with value: 76.03.\n"
     ]
    },
    {
     "name": "stdout",
     "output_type": "stream",
     "text": [
      "Early stopping, best iteration is:\n",
      "[1]\tvalid_0's ER: 100\n",
      "Evaluated only: ER\n",
      "**************** regression_l1 ****************\n",
      "Training until validation scores don't improve for 218 rounds\n",
      "[100]\tvalid_0's ER: 100\n"
     ]
    },
    {
     "name": "stderr",
     "output_type": "stream",
     "text": [
      "[I 2023-12-16 05:27:19,771] Trial 4 finished with value: 100.0 and parameters: {'lambda_l1': 547.5898842306647, 'lambda_l2': 831.4489448702578, 'learning_rate': 0.02970264077847546, 'num_leaves': 946, 'feature_fraction': 0.5445558888970241, 'min_data_in_leaf': 7501}. Best is trial 0 with value: 76.03.\n"
     ]
    },
    {
     "name": "stdout",
     "output_type": "stream",
     "text": [
      "[200]\tvalid_0's ER: 100\n",
      "Early stopping, best iteration is:\n",
      "[1]\tvalid_0's ER: 100\n",
      "Evaluated only: ER\n",
      "**************** regression_l1 ****************\n",
      "Training until validation scores don't improve for 97 rounds\n"
     ]
    },
    {
     "name": "stderr",
     "output_type": "stream",
     "text": [
      "[I 2023-12-16 05:27:20,264] Trial 5 finished with value: 100.0 and parameters: {'lambda_l1': 402.1167738811544, 'lambda_l2': 991.2309694269584, 'learning_rate': 0.10465848394280763, 'num_leaves': 176, 'feature_fraction': 0.45572247568318813, 'min_data_in_leaf': 7855}. Best is trial 0 with value: 76.03.\n"
     ]
    },
    {
     "name": "stdout",
     "output_type": "stream",
     "text": [
      "Early stopping, best iteration is:\n",
      "[1]\tvalid_0's ER: 100\n",
      "Evaluated only: ER\n",
      "**************** regression_l1 ****************\n",
      "Training until validation scores don't improve for 99 rounds\n"
     ]
    },
    {
     "name": "stderr",
     "output_type": "stream",
     "text": [
      "[I 2023-12-16 05:27:20,793] Trial 6 finished with value: 100.0 and parameters: {'lambda_l1': 300.56994518831846, 'lambda_l2': 615.4321975468379, 'learning_rate': 0.10036901871261217, 'num_leaves': 284, 'feature_fraction': 0.4998933093691131, 'min_data_in_leaf': 4102}. Best is trial 0 with value: 76.03.\n"
     ]
    },
    {
     "name": "stdout",
     "output_type": "stream",
     "text": [
      "[100]\tvalid_0's ER: 100\n",
      "Early stopping, best iteration is:\n",
      "[1]\tvalid_0's ER: 100\n",
      "Evaluated only: ER\n",
      "**************** regression_l1 ****************\n"
     ]
    },
    {
     "name": "stderr",
     "output_type": "stream",
     "text": [
      "[I 2023-12-16 05:27:21,148] Trial 7 finished with value: 100.0 and parameters: {'lambda_l1': 612.1574522451875, 'lambda_l2': 682.3581383798961, 'learning_rate': 0.2637665612217935, 'num_leaves': 528, 'feature_fraction': 0.2123350779494053, 'min_data_in_leaf': 6065}. Best is trial 0 with value: 76.03.\n"
     ]
    },
    {
     "name": "stdout",
     "output_type": "stream",
     "text": [
      "Training until validation scores don't improve for 68 rounds\n",
      "Early stopping, best iteration is:\n",
      "[1]\tvalid_0's ER: 100\n",
      "Evaluated only: ER\n",
      "**************** regression_l1 ****************\n",
      "Training until validation scores don't improve for 134 rounds\n"
     ]
    },
    {
     "name": "stderr",
     "output_type": "stream",
     "text": [
      "[I 2023-12-16 05:27:21,868] Trial 8 finished with value: 100.0 and parameters: {'lambda_l1': 170.76237914676585, 'lambda_l2': 818.4079053578553, 'learning_rate': 0.05927839391394494, 'num_leaves': 216, 'feature_fraction': 0.9246870991679681, 'min_data_in_leaf': 3856}. Best is trial 0 with value: 76.03.\n"
     ]
    },
    {
     "name": "stdout",
     "output_type": "stream",
     "text": [
      "[100]\tvalid_0's ER: 100\n",
      "Early stopping, best iteration is:\n",
      "[1]\tvalid_0's ER: 100\n",
      "Evaluated only: ER\n",
      "**************** regression_l1 ****************\n",
      "Training until validation scores don't improve for 73 rounds\n",
      "[100]\tvalid_0's ER: 96.2\n",
      "Early stopping, best iteration is:\n",
      "[71]\tvalid_0's ER: 96.12\n",
      "Evaluated only: ER\n"
     ]
    },
    {
     "name": "stderr",
     "output_type": "stream",
     "text": [
      "[I 2023-12-16 05:27:22,659] Trial 9 finished with value: 96.12 and parameters: {'lambda_l1': 633.4054296357001, 'lambda_l2': 218.6064782234737, 'learning_rate': 0.2084161145409862, 'num_leaves': 966, 'feature_fraction': 0.3150339225058673, 'min_data_in_leaf': 45}. Best is trial 0 with value: 76.03.\n"
     ]
    },
    {
     "name": "stdout",
     "output_type": "stream",
     "text": [
      "# Experimentos: 10\n",
      "Mejor experimento: {'lambda_l1': 65.38878488552236, 'lambda_l2': 448.61329134389405, 'learning_rate': 0.09336225163672922, 'num_leaves': 253, 'feature_fraction': 0.2987022191359603, 'min_data_in_leaf': 868}\n",
      "=========================================== Cluster 70 ===========================================\n"
     ]
    },
    {
     "name": "stderr",
     "output_type": "stream",
     "text": [
      "[I 2023-12-16 05:27:23,217] A new study created in memory with name: no-name-85c4ad2f-c66b-420b-958d-d1877d21cd58\n"
     ]
    },
    {
     "name": "stdout",
     "output_type": "stream",
     "text": [
      "Periodos entrenar: [201701 201702 201703 201704 201705 201706 201707 201708 201709 201710\n",
      " 201711 201712 201801 201802 201803 201804 201805 201806 201807 201808\n",
      " 201809 201810 201811 201812 201901 201902 201903 201904 201905]\n",
      "Periodos validar: [201907]\n",
      "product_id a validar: 580\n",
      "X_train: (15457, 120)\n",
      "y_train: (15457,)\n",
      "\n",
      "X_validate: (580, 120)\n",
      "y_validate: (580,)\n",
      "Optimizacion Bayesiana\n",
      "**************** regression_l1 ****************\n",
      "Training until validation scores don't improve for 73 rounds\n"
     ]
    },
    {
     "name": "stderr",
     "output_type": "stream",
     "text": [
      "[W 2023-12-16 05:27:23,439] Trial 0 failed with parameters: {'lambda_l1': 791.1598857640516, 'lambda_l2': 290.27359386375815, 'learning_rate': 0.21553991538860892, 'num_leaves': 292, 'feature_fraction': 0.2763304067433583, 'min_data_in_leaf': 3096} because of the following error: The value nan is not acceptable..\n",
      "[W 2023-12-16 05:27:23,440] Trial 0 failed with value nan.\n"
     ]
    },
    {
     "name": "stdout",
     "output_type": "stream",
     "text": [
      "Early stopping, best iteration is:\n",
      "[1]\tvalid_0's ER: nan\n",
      "Evaluated only: ER\n",
      "**************** regression_l1 ****************\n",
      "Training until validation scores don't improve for 95 rounds\n"
     ]
    },
    {
     "name": "stderr",
     "output_type": "stream",
     "text": [
      "[W 2023-12-16 05:27:23,726] Trial 1 failed with parameters: {'lambda_l1': 575.3818490677533, 'lambda_l2': 542.5955229072489, 'learning_rate': 0.10931375578580049, 'num_leaves': 988, 'feature_fraction': 0.5841148534765663, 'min_data_in_leaf': 6292} because of the following error: The value nan is not acceptable..\n",
      "[W 2023-12-16 05:27:23,728] Trial 1 failed with value nan.\n"
     ]
    },
    {
     "name": "stdout",
     "output_type": "stream",
     "text": [
      "Early stopping, best iteration is:\n",
      "[1]\tvalid_0's ER: nan\n",
      "Evaluated only: ER\n",
      "**************** regression_l1 ****************\n",
      "Training until validation scores don't improve for 87 rounds\n"
     ]
    },
    {
     "name": "stderr",
     "output_type": "stream",
     "text": [
      "[W 2023-12-16 05:27:23,976] Trial 2 failed with parameters: {'lambda_l1': 512.2237707288479, 'lambda_l2': 421.5066316255823, 'learning_rate': 0.1318297512051532, 'num_leaves': 562, 'feature_fraction': 0.4141940211780612, 'min_data_in_leaf': 5391} because of the following error: The value nan is not acceptable..\n",
      "[W 2023-12-16 05:27:23,977] Trial 2 failed with value nan.\n"
     ]
    },
    {
     "name": "stdout",
     "output_type": "stream",
     "text": [
      "Early stopping, best iteration is:\n",
      "[1]\tvalid_0's ER: nan\n",
      "Evaluated only: ER\n",
      "**************** regression_l1 ****************\n",
      "Training until validation scores don't improve for 183 rounds\n"
     ]
    },
    {
     "name": "stderr",
     "output_type": "stream",
     "text": [
      "[W 2023-12-16 05:27:24,390] Trial 3 failed with parameters: {'lambda_l1': 435.9605488009296, 'lambda_l2': 780.2705945352114, 'learning_rate': 0.03749928951364365, 'num_leaves': 734, 'feature_fraction': 0.7102892322144221, 'min_data_in_leaf': 5636} because of the following error: The value nan is not acceptable..\n",
      "[W 2023-12-16 05:27:24,391] Trial 3 failed with value nan.\n"
     ]
    },
    {
     "name": "stdout",
     "output_type": "stream",
     "text": [
      "[100]\tvalid_0's ER: nan\n",
      "Early stopping, best iteration is:\n",
      "[1]\tvalid_0's ER: nan\n",
      "Evaluated only: ER\n",
      "**************** regression_l1 ****************\n",
      "Training until validation scores don't improve for 398 rounds\n",
      "[100]\tvalid_0's ER: nan\n",
      "[200]\tvalid_0's ER: nan\n",
      "[300]\tvalid_0's ER: nan\n"
     ]
    },
    {
     "name": "stderr",
     "output_type": "stream",
     "text": [
      "[W 2023-12-16 05:27:25,083] Trial 4 failed with parameters: {'lambda_l1': 114.91653815603142, 'lambda_l2': 526.1207609178317, 'learning_rate': 0.014338380749184122, 'num_leaves': 988, 'feature_fraction': 0.47534311157799647, 'min_data_in_leaf': 7121} because of the following error: The value nan is not acceptable..\n",
      "[W 2023-12-16 05:27:25,084] Trial 4 failed with value nan.\n"
     ]
    },
    {
     "name": "stdout",
     "output_type": "stream",
     "text": [
      "Early stopping, best iteration is:\n",
      "[1]\tvalid_0's ER: nan\n",
      "Evaluated only: ER\n",
      "**************** regression_l1 ****************\n",
      "Training until validation scores don't improve for 72 rounds\n"
     ]
    },
    {
     "name": "stderr",
     "output_type": "stream",
     "text": [
      "[W 2023-12-16 05:27:25,349] Trial 5 failed with parameters: {'lambda_l1': 639.0814757077532, 'lambda_l2': 192.76766147269166, 'learning_rate': 0.22559881589368702, 'num_leaves': 844, 'feature_fraction': 0.5509372788816923, 'min_data_in_leaf': 3294} because of the following error: The value nan is not acceptable..\n",
      "[W 2023-12-16 05:27:25,350] Trial 5 failed with value nan.\n"
     ]
    },
    {
     "name": "stdout",
     "output_type": "stream",
     "text": [
      "Early stopping, best iteration is:\n",
      "[1]\tvalid_0's ER: nan\n",
      "Evaluated only: ER\n",
      "**************** regression_l1 ****************\n",
      "Training until validation scores don't improve for 100 rounds\n"
     ]
    },
    {
     "name": "stderr",
     "output_type": "stream",
     "text": [
      "[W 2023-12-16 05:27:25,650] Trial 6 failed with parameters: {'lambda_l1': 544.1997961199863, 'lambda_l2': 604.3518929724045, 'learning_rate': 0.09952712868054081, 'num_leaves': 202, 'feature_fraction': 0.5985370203011511, 'min_data_in_leaf': 4989} because of the following error: The value nan is not acceptable..\n",
      "[W 2023-12-16 05:27:25,651] Trial 6 failed with value nan.\n"
     ]
    },
    {
     "name": "stdout",
     "output_type": "stream",
     "text": [
      "[100]\tvalid_0's ER: nan\n",
      "Early stopping, best iteration is:\n",
      "[1]\tvalid_0's ER: nan\n",
      "Evaluated only: ER\n",
      "**************** regression_l1 ****************\n",
      "Training until validation scores don't improve for 89 rounds\n"
     ]
    },
    {
     "name": "stderr",
     "output_type": "stream",
     "text": [
      "[W 2023-12-16 05:27:25,889] Trial 7 failed with parameters: {'lambda_l1': 613.853459675039, 'lambda_l2': 302.5732837301426, 'learning_rate': 0.1250627582583475, 'num_leaves': 660, 'feature_fraction': 0.258569483024212, 'min_data_in_leaf': 5939} because of the following error: The value nan is not acceptable..\n",
      "[W 2023-12-16 05:27:25,891] Trial 7 failed with value nan.\n"
     ]
    },
    {
     "name": "stdout",
     "output_type": "stream",
     "text": [
      "Early stopping, best iteration is:\n",
      "[1]\tvalid_0's ER: nan\n",
      "Evaluated only: ER\n",
      "**************** regression_l1 ****************\n",
      "Training until validation scores don't improve for 70 rounds\n"
     ]
    },
    {
     "name": "stderr",
     "output_type": "stream",
     "text": [
      "[W 2023-12-16 05:27:26,097] Trial 8 failed with parameters: {'lambda_l1': 517.5675979801473, 'lambda_l2': 361.30243919775097, 'learning_rate': 0.2414930054718179, 'num_leaves': 593, 'feature_fraction': 0.21418819868526331, 'min_data_in_leaf': 5712} because of the following error: The value nan is not acceptable..\n",
      "[W 2023-12-16 05:27:26,099] Trial 8 failed with value nan.\n"
     ]
    },
    {
     "name": "stdout",
     "output_type": "stream",
     "text": [
      "Early stopping, best iteration is:\n",
      "[1]\tvalid_0's ER: nan\n",
      "Evaluated only: ER\n",
      "**************** regression_l1 ****************\n",
      "Training until validation scores don't improve for 73 rounds\n"
     ]
    },
    {
     "name": "stderr",
     "output_type": "stream",
     "text": [
      "[W 2023-12-16 05:27:26,388] Trial 9 failed with parameters: {'lambda_l1': 247.8610597649643, 'lambda_l2': 690.3843683585685, 'learning_rate': 0.216741234787178, 'num_leaves': 375, 'feature_fraction': 0.5957899049254298, 'min_data_in_leaf': 776} because of the following error: The value nan is not acceptable..\n",
      "[W 2023-12-16 05:27:26,390] Trial 9 failed with value nan.\n"
     ]
    },
    {
     "name": "stdout",
     "output_type": "stream",
     "text": [
      "Early stopping, best iteration is:\n",
      "[1]\tvalid_0's ER: nan\n",
      "Evaluated only: ER\n",
      "# Experimentos: 10\n",
      "=========================================== Cluster 71 ===========================================\n"
     ]
    },
    {
     "name": "stderr",
     "output_type": "stream",
     "text": [
      "[I 2023-12-16 05:27:35,876] A new study created in memory with name: no-name-06520984-8dda-46d4-9150-d08e676e8ce7\n"
     ]
    },
    {
     "name": "stdout",
     "output_type": "stream",
     "text": [
      "Periodos entrenar: [201701 201702 201703 201704 201705 201706 201707 201708 201709 201710\n",
      " 201711 201712 201801 201802 201803 201804 201805 201806 201807 201808\n",
      " 201809 201810 201811 201812 201901 201902 201903 201904 201905]\n",
      "Periodos validar: [201907]\n",
      "product_id a validar: 15080\n",
      "X_train: (289124, 120)\n",
      "y_train: (289124,)\n",
      "\n",
      "X_validate: (15080, 120)\n",
      "y_validate: (15080,)\n",
      "Optimizacion Bayesiana\n",
      "**************** regression_l1 ****************\n",
      "Training until validation scores don't improve for 96 rounds\n",
      "[100]\tvalid_0's ER: 91.77\n"
     ]
    },
    {
     "name": "stderr",
     "output_type": "stream",
     "text": [
      "[I 2023-12-16 05:27:43,148] Trial 0 finished with value: 91.77 and parameters: {'lambda_l1': 453.2089382491319, 'lambda_l2': 250.4472905899905, 'learning_rate': 0.10772856284142328, 'num_leaves': 353, 'feature_fraction': 0.9929296175870126, 'min_data_in_leaf': 1904}. Best is trial 0 with value: 91.77.\n"
     ]
    },
    {
     "name": "stdout",
     "output_type": "stream",
     "text": [
      "Early stopping, best iteration is:\n",
      "[37]\tvalid_0's ER: 91.77\n",
      "Evaluated only: ER\n",
      "**************** regression_l1 ****************\n",
      "Training until validation scores don't improve for 72 rounds\n"
     ]
    },
    {
     "name": "stderr",
     "output_type": "stream",
     "text": [
      "[I 2023-12-16 05:27:48,234] Trial 1 finished with value: 98.42 and parameters: {'lambda_l1': 998.5856146295191, 'lambda_l2': 294.53883789430245, 'learning_rate': 0.22710433728786358, 'num_leaves': 906, 'feature_fraction': 0.9834238455350499, 'min_data_in_leaf': 5021}. Best is trial 0 with value: 91.77.\n"
     ]
    },
    {
     "name": "stdout",
     "output_type": "stream",
     "text": [
      "Early stopping, best iteration is:\n",
      "[17]\tvalid_0's ER: 98.42\n",
      "Evaluated only: ER\n",
      "**************** regression_l1 ****************\n",
      "Training until validation scores don't improve for 87 rounds\n",
      "[100]\tvalid_0's ER: 95.84\n",
      "[200]\tvalid_0's ER: 95.46\n",
      "[300]\tvalid_0's ER: 95.48\n"
     ]
    },
    {
     "name": "stderr",
     "output_type": "stream",
     "text": [
      "[I 2023-12-16 05:27:59,584] Trial 2 finished with value: 95.4 and parameters: {'lambda_l1': 245.80131644697124, 'lambda_l2': 162.79172027494891, 'learning_rate': 0.13440272749995866, 'num_leaves': 428, 'feature_fraction': 0.42746777431965033, 'min_data_in_leaf': 7626}. Best is trial 0 with value: 91.77.\n"
     ]
    },
    {
     "name": "stdout",
     "output_type": "stream",
     "text": [
      "Early stopping, best iteration is:\n",
      "[252]\tvalid_0's ER: 95.4\n",
      "Evaluated only: ER\n",
      "**************** regression_l1 ****************\n",
      "Training until validation scores don't improve for 84 rounds\n",
      "[100]\tvalid_0's ER: 96.21\n",
      "[200]\tvalid_0's ER: 96.03\n"
     ]
    },
    {
     "name": "stderr",
     "output_type": "stream",
     "text": [
      "[I 2023-12-16 05:28:13,621] Trial 3 finished with value: 96.02 and parameters: {'lambda_l1': 492.57150471913326, 'lambda_l2': 680.4998863346385, 'learning_rate': 0.14375540555937316, 'num_leaves': 898, 'feature_fraction': 0.7737778922003726, 'min_data_in_leaf': 7439}. Best is trial 0 with value: 91.77.\n"
     ]
    },
    {
     "name": "stdout",
     "output_type": "stream",
     "text": [
      "Early stopping, best iteration is:\n",
      "[173]\tvalid_0's ER: 96.02\n",
      "Evaluated only: ER\n",
      "**************** regression_l1 ****************\n",
      "Training until validation scores don't improve for 90 rounds\n",
      "[100]\tvalid_0's ER: 90.84\n",
      "[200]\tvalid_0's ER: 88.81\n"
     ]
    },
    {
     "name": "stderr",
     "output_type": "stream",
     "text": [
      "[I 2023-12-16 05:28:30,387] Trial 4 finished with value: 88.68 and parameters: {'lambda_l1': 127.2444459964659, 'lambda_l2': 978.3123492567314, 'learning_rate': 0.1241289418132175, 'num_leaves': 778, 'feature_fraction': 0.6799566264955208, 'min_data_in_leaf': 818}. Best is trial 4 with value: 88.68.\n"
     ]
    },
    {
     "name": "stdout",
     "output_type": "stream",
     "text": [
      "Early stopping, best iteration is:\n",
      "[205]\tvalid_0's ER: 88.68\n",
      "Evaluated only: ER\n",
      "**************** regression_l1 ****************\n",
      "Training until validation scores don't improve for 99 rounds\n",
      "[100]\tvalid_0's ER: 95.58\n",
      "[200]\tvalid_0's ER: 94.29\n",
      "[300]\tvalid_0's ER: 94.26\n"
     ]
    },
    {
     "name": "stderr",
     "output_type": "stream",
     "text": [
      "[I 2023-12-16 05:28:47,240] Trial 5 finished with value: 94.26 and parameters: {'lambda_l1': 982.7329124345042, 'lambda_l2': 539.6561802896522, 'learning_rate': 0.1014518345120137, 'num_leaves': 558, 'feature_fraction': 0.6821030493533302, 'min_data_in_leaf': 4054}. Best is trial 4 with value: 88.68.\n"
     ]
    },
    {
     "name": "stdout",
     "output_type": "stream",
     "text": [
      "Early stopping, best iteration is:\n",
      "[290]\tvalid_0's ER: 94.26\n",
      "Evaluated only: ER\n",
      "**************** regression_l1 ****************\n",
      "Training until validation scores don't improve for 124 rounds\n",
      "[100]\tvalid_0's ER: 92.89\n",
      "[200]\tvalid_0's ER: 92.89\n"
     ]
    },
    {
     "name": "stderr",
     "output_type": "stream",
     "text": [
      "[I 2023-12-16 05:28:56,465] Trial 6 finished with value: 92.88 and parameters: {'lambda_l1': 329.88685665407945, 'lambda_l2': 578.8998613899735, 'learning_rate': 0.06708498991889354, 'num_leaves': 505, 'feature_fraction': 0.4081361649267449, 'min_data_in_leaf': 3585}. Best is trial 4 with value: 88.68.\n"
     ]
    },
    {
     "name": "stdout",
     "output_type": "stream",
     "text": [
      "Early stopping, best iteration is:\n",
      "[90]\tvalid_0's ER: 92.88\n",
      "Evaluated only: ER\n",
      "**************** regression_l1 ****************\n",
      "Training until validation scores don't improve for 84 rounds\n"
     ]
    },
    {
     "name": "stderr",
     "output_type": "stream",
     "text": [
      "[I 2023-12-16 05:29:01,401] Trial 7 finished with value: 100.0 and parameters: {'lambda_l1': 919.3884146177548, 'lambda_l2': 952.1758843839137, 'learning_rate': 0.14644914584170837, 'num_leaves': 515, 'feature_fraction': 0.995837131992314, 'min_data_in_leaf': 6106}. Best is trial 4 with value: 88.68.\n"
     ]
    },
    {
     "name": "stdout",
     "output_type": "stream",
     "text": [
      "Early stopping, best iteration is:\n",
      "[1]\tvalid_0's ER: 100\n",
      "Evaluated only: ER\n",
      "**************** regression_l1 ****************\n",
      "Training until validation scores don't improve for 73 rounds\n",
      "[100]\tvalid_0's ER: 97.7\n"
     ]
    },
    {
     "name": "stderr",
     "output_type": "stream",
     "text": [
      "[I 2023-12-16 05:29:08,127] Trial 8 finished with value: 97.6 and parameters: {'lambda_l1': 994.2536751722835, 'lambda_l2': 673.3967760452211, 'learning_rate': 0.2107996414000398, 'num_leaves': 56, 'feature_fraction': 0.9555184749103123, 'min_data_in_leaf': 5805}. Best is trial 4 with value: 88.68.\n"
     ]
    },
    {
     "name": "stdout",
     "output_type": "stream",
     "text": [
      "Early stopping, best iteration is:\n",
      "[37]\tvalid_0's ER: 97.6\n",
      "Evaluated only: ER\n",
      "**************** regression_l1 ****************\n",
      "Training until validation scores don't improve for 76 rounds\n",
      "[100]\tvalid_0's ER: 95.46\n",
      "[200]\tvalid_0's ER: 95.27\n",
      "[300]\tvalid_0's ER: 94.87\n",
      "[400]\tvalid_0's ER: 94.78\n"
     ]
    },
    {
     "name": "stderr",
     "output_type": "stream",
     "text": [
      "[I 2023-12-16 05:29:28,599] Trial 9 finished with value: 94.78 and parameters: {'lambda_l1': 218.2631019423513, 'lambda_l2': 726.7915900419098, 'learning_rate': 0.1857509453374931, 'num_leaves': 719, 'feature_fraction': 0.6003756993140426, 'min_data_in_leaf': 7286}. Best is trial 4 with value: 88.68.\n"
     ]
    },
    {
     "name": "stdout",
     "output_type": "stream",
     "text": [
      "Early stopping, best iteration is:\n",
      "[374]\tvalid_0's ER: 94.78\n",
      "Evaluated only: ER\n",
      "# Experimentos: 10\n",
      "Mejor experimento: {'lambda_l1': 127.2444459964659, 'lambda_l2': 978.3123492567314, 'learning_rate': 0.1241289418132175, 'num_leaves': 778, 'feature_fraction': 0.6799566264955208, 'min_data_in_leaf': 818}\n",
      "=========================================== Cluster 72 ===========================================\n"
     ]
    },
    {
     "name": "stderr",
     "output_type": "stream",
     "text": [
      "[I 2023-12-16 05:29:31,336] A new study created in memory with name: no-name-d30d5fa3-8b32-4446-977f-4e60a508e0ac\n"
     ]
    },
    {
     "name": "stdout",
     "output_type": "stream",
     "text": [
      "Periodos entrenar: [201701 201702 201703 201704 201705 201706 201707 201708 201709 201710\n",
      " 201711 201712 201801 201802 201803 201804 201805 201806 201807 201808\n",
      " 201809 201810 201811 201812 201901 201902 201903 201904 201905]\n",
      "Periodos validar: [201907]\n",
      "product_id a validar: 3480\n",
      "X_train: (79164, 120)\n",
      "y_train: (79164,)\n",
      "\n",
      "X_validate: (3480, 120)\n",
      "y_validate: (3480,)\n",
      "Optimizacion Bayesiana\n",
      "**************** regression_l1 ****************\n",
      "Training until validation scores don't improve for 78 rounds\n"
     ]
    },
    {
     "name": "stderr",
     "output_type": "stream",
     "text": [
      "[I 2023-12-16 05:29:32,754] Trial 0 finished with value: 100.83 and parameters: {'lambda_l1': 345.32091472624313, 'lambda_l2': 177.4427835993293, 'learning_rate': 0.17754966648986237, 'num_leaves': 476, 'feature_fraction': 0.9327702785196297, 'min_data_in_leaf': 6467}. Best is trial 0 with value: 100.83.\n"
     ]
    },
    {
     "name": "stdout",
     "output_type": "stream",
     "text": [
      "Early stopping, best iteration is:\n",
      "[1]\tvalid_0's ER: 100.83\n",
      "Evaluated only: ER\n",
      "**************** regression_l1 ****************\n",
      "Training until validation scores don't improve for 72 rounds\n"
     ]
    },
    {
     "name": "stderr",
     "output_type": "stream",
     "text": [
      "[I 2023-12-16 05:29:34,051] Trial 1 finished with value: 100.0 and parameters: {'lambda_l1': 497.8192145649353, 'lambda_l2': 971.0023501829172, 'learning_rate': 0.22642784972251526, 'num_leaves': 629, 'feature_fraction': 0.6219259668953737, 'min_data_in_leaf': 2442}. Best is trial 1 with value: 100.0.\n"
     ]
    },
    {
     "name": "stdout",
     "output_type": "stream",
     "text": [
      "Early stopping, best iteration is:\n",
      "[1]\tvalid_0's ER: 100\n",
      "Evaluated only: ER\n",
      "**************** regression_l1 ****************\n",
      "Training until validation scores don't improve for 137 rounds\n",
      "[100]\tvalid_0's ER: 100\n"
     ]
    },
    {
     "name": "stderr",
     "output_type": "stream",
     "text": [
      "[I 2023-12-16 05:29:35,689] Trial 2 finished with value: 100.0 and parameters: {'lambda_l1': 677.1366337680298, 'lambda_l2': 655.4132257815295, 'learning_rate': 0.05731164354825328, 'num_leaves': 473, 'feature_fraction': 0.5430764704278157, 'min_data_in_leaf': 7531}. Best is trial 1 with value: 100.0.\n"
     ]
    },
    {
     "name": "stdout",
     "output_type": "stream",
     "text": [
      "Early stopping, best iteration is:\n",
      "[1]\tvalid_0's ER: 100\n",
      "Evaluated only: ER\n",
      "**************** regression_l1 ****************\n",
      "Training until validation scores don't improve for 83 rounds\n"
     ]
    },
    {
     "name": "stderr",
     "output_type": "stream",
     "text": [
      "[I 2023-12-16 05:29:36,797] Trial 3 finished with value: 100.0 and parameters: {'lambda_l1': 203.0972669847012, 'lambda_l2': 402.2085721825277, 'learning_rate': 0.1511876649409851, 'num_leaves': 219, 'feature_fraction': 0.3442495121612372, 'min_data_in_leaf': 3706}. Best is trial 1 with value: 100.0.\n"
     ]
    },
    {
     "name": "stdout",
     "output_type": "stream",
     "text": [
      "Early stopping, best iteration is:\n",
      "[1]\tvalid_0's ER: 100\n",
      "Evaluated only: ER\n",
      "**************** regression_l1 ****************\n",
      "Training until validation scores don't improve for 156 rounds\n",
      "[100]\tvalid_0's ER: 101.46\n"
     ]
    },
    {
     "name": "stderr",
     "output_type": "stream",
     "text": [
      "[I 2023-12-16 05:29:39,393] Trial 4 finished with value: 100.22 and parameters: {'lambda_l1': 131.2242564573285, 'lambda_l2': 794.9532145730109, 'learning_rate': 0.04713656957696323, 'num_leaves': 956, 'feature_fraction': 0.7275578912137697, 'min_data_in_leaf': 4408}. Best is trial 1 with value: 100.0.\n"
     ]
    },
    {
     "name": "stdout",
     "output_type": "stream",
     "text": [
      "Early stopping, best iteration is:\n",
      "[1]\tvalid_0's ER: 100.22\n",
      "Evaluated only: ER\n",
      "**************** regression_l1 ****************\n",
      "Training until validation scores don't improve for 85 rounds\n"
     ]
    },
    {
     "name": "stderr",
     "output_type": "stream",
     "text": [
      "[I 2023-12-16 05:29:41,834] Trial 5 finished with value: 100.0 and parameters: {'lambda_l1': 833.6617747138646, 'lambda_l2': 977.1833378848397, 'learning_rate': 0.14072657581966327, 'num_leaves': 43, 'feature_fraction': 0.6824659023691436, 'min_data_in_leaf': 152}. Best is trial 1 with value: 100.0.\n"
     ]
    },
    {
     "name": "stdout",
     "output_type": "stream",
     "text": [
      "Early stopping, best iteration is:\n",
      "[1]\tvalid_0's ER: 100\n",
      "Evaluated only: ER\n",
      "**************** regression_l1 ****************\n",
      "Training until validation scores don't improve for 90 rounds\n"
     ]
    },
    {
     "name": "stderr",
     "output_type": "stream",
     "text": [
      "[I 2023-12-16 05:29:43,051] Trial 6 finished with value: 100.0 and parameters: {'lambda_l1': 911.6235284096342, 'lambda_l2': 365.4856197096811, 'learning_rate': 0.1234811827335936, 'num_leaves': 692, 'feature_fraction': 0.462560087007432, 'min_data_in_leaf': 4092}. Best is trial 1 with value: 100.0.\n"
     ]
    },
    {
     "name": "stdout",
     "output_type": "stream",
     "text": [
      "Early stopping, best iteration is:\n",
      "[1]\tvalid_0's ER: 100\n",
      "Evaluated only: ER\n",
      "**************** regression_l1 ****************\n",
      "Training until validation scores don't improve for 69 rounds\n"
     ]
    },
    {
     "name": "stderr",
     "output_type": "stream",
     "text": [
      "[I 2023-12-16 05:29:44,050] Trial 7 finished with value: 100.0 and parameters: {'lambda_l1': 880.6005393478662, 'lambda_l2': 461.5146027012559, 'learning_rate': 0.2563119434276846, 'num_leaves': 980, 'feature_fraction': 0.35654377482884486, 'min_data_in_leaf': 3628}. Best is trial 1 with value: 100.0.\n"
     ]
    },
    {
     "name": "stdout",
     "output_type": "stream",
     "text": [
      "Early stopping, best iteration is:\n",
      "[1]\tvalid_0's ER: 100\n",
      "Evaluated only: ER\n",
      "**************** regression_l1 ****************\n",
      "Training until validation scores don't improve for 104 rounds\n"
     ]
    },
    {
     "name": "stderr",
     "output_type": "stream",
     "text": [
      "[I 2023-12-16 05:29:45,369] Trial 8 finished with value: 100.0 and parameters: {'lambda_l1': 633.8213790773776, 'lambda_l2': 745.5931254208725, 'learning_rate': 0.09091435141548947, 'num_leaves': 648, 'feature_fraction': 0.453919133728473, 'min_data_in_leaf': 3046}. Best is trial 1 with value: 100.0.\n"
     ]
    },
    {
     "name": "stdout",
     "output_type": "stream",
     "text": [
      "[100]\tvalid_0's ER: 100\n",
      "Early stopping, best iteration is:\n",
      "[1]\tvalid_0's ER: 100\n",
      "Evaluated only: ER\n",
      "**************** regression_l1 ****************\n",
      "Training until validation scores don't improve for 69 rounds\n"
     ]
    },
    {
     "name": "stderr",
     "output_type": "stream",
     "text": [
      "[I 2023-12-16 05:29:46,629] Trial 9 finished with value: 100.0 and parameters: {'lambda_l1': 581.9121265284108, 'lambda_l2': 670.9321023387198, 'learning_rate': 0.2514243907794972, 'num_leaves': 729, 'feature_fraction': 0.6525391290971211, 'min_data_in_leaf': 4316}. Best is trial 1 with value: 100.0.\n"
     ]
    },
    {
     "name": "stdout",
     "output_type": "stream",
     "text": [
      "Early stopping, best iteration is:\n",
      "[1]\tvalid_0's ER: 100\n",
      "Evaluated only: ER\n",
      "# Experimentos: 10\n",
      "Mejor experimento: {'lambda_l1': 497.8192145649353, 'lambda_l2': 971.0023501829172, 'learning_rate': 0.22642784972251526, 'num_leaves': 629, 'feature_fraction': 0.6219259668953737, 'min_data_in_leaf': 2442}\n",
      "=========================================== Cluster 73 ===========================================\n",
      "Periodos entrenar: [201701 201702 201703 201704 201705 201706 201707 201708 201709 201710\n",
      " 201711 201712 201801 201802 201803 201804 201805 201806 201807 201808\n",
      " 201809 201810 201811 201812 201901 201902 201903 201904 201905]\n",
      "Periodos validar: [201907]\n",
      "product_id a validar: 24940\n"
     ]
    },
    {
     "name": "stderr",
     "output_type": "stream",
     "text": [
      "[I 2023-12-16 05:30:04,467] A new study created in memory with name: no-name-6a6418a0-418c-45de-af11-00c8ae3cee4f\n"
     ]
    },
    {
     "name": "stdout",
     "output_type": "stream",
     "text": [
      "X_train: (602015, 120)\n",
      "y_train: (602015,)\n",
      "\n",
      "X_validate: (24940, 120)\n",
      "y_validate: (24940,)\n",
      "Optimizacion Bayesiana\n",
      "**************** regression_l1 ****************\n",
      "Training until validation scores don't improve for 93 rounds\n"
     ]
    },
    {
     "name": "stderr",
     "output_type": "stream",
     "text": [
      "[I 2023-12-16 05:30:13,500] Trial 0 finished with value: 100.0 and parameters: {'lambda_l1': 846.5705093301567, 'lambda_l2': 509.8623441702621, 'learning_rate': 0.11389162227137471, 'num_leaves': 918, 'feature_fraction': 0.4467683866273996, 'min_data_in_leaf': 1399}. Best is trial 0 with value: 100.0.\n"
     ]
    },
    {
     "name": "stdout",
     "output_type": "stream",
     "text": [
      "Early stopping, best iteration is:\n",
      "[1]\tvalid_0's ER: 100\n",
      "Evaluated only: ER\n",
      "**************** regression_l1 ****************\n",
      "Training until validation scores don't improve for 77 rounds\n"
     ]
    },
    {
     "name": "stderr",
     "output_type": "stream",
     "text": [
      "[I 2023-12-16 05:30:19,628] Trial 1 finished with value: 100.0 and parameters: {'lambda_l1': 852.927832360226, 'lambda_l2': 236.06635647008423, 'learning_rate': 0.18411235277178162, 'num_leaves': 229, 'feature_fraction': 0.6977006659374135, 'min_data_in_leaf': 6875}. Best is trial 0 with value: 100.0.\n"
     ]
    },
    {
     "name": "stdout",
     "output_type": "stream",
     "text": [
      "Early stopping, best iteration is:\n",
      "[1]\tvalid_0's ER: 100\n",
      "Evaluated only: ER\n",
      "**************** regression_l1 ****************\n",
      "Training until validation scores don't improve for 128 rounds\n",
      "[100]\tvalid_0's ER: 100\n"
     ]
    },
    {
     "name": "stderr",
     "output_type": "stream",
     "text": [
      "[I 2023-12-16 05:30:29,078] Trial 2 finished with value: 100.0 and parameters: {'lambda_l1': 432.72177873417485, 'lambda_l2': 178.19648616645844, 'learning_rate': 0.06339978318386445, 'num_leaves': 448, 'feature_fraction': 0.8403047353980282, 'min_data_in_leaf': 1402}. Best is trial 0 with value: 100.0.\n"
     ]
    },
    {
     "name": "stdout",
     "output_type": "stream",
     "text": [
      "Early stopping, best iteration is:\n",
      "[1]\tvalid_0's ER: 100\n",
      "Evaluated only: ER\n",
      "**************** regression_l1 ****************\n",
      "Training until validation scores don't improve for 71 rounds\n"
     ]
    },
    {
     "name": "stderr",
     "output_type": "stream",
     "text": [
      "[I 2023-12-16 05:30:35,566] Trial 3 finished with value: 100.0 and parameters: {'lambda_l1': 166.6043852891398, 'lambda_l2': 891.6479163141137, 'learning_rate': 0.22852302093587606, 'num_leaves': 695, 'feature_fraction': 0.2689745746734337, 'min_data_in_leaf': 1803}. Best is trial 0 with value: 100.0.\n"
     ]
    },
    {
     "name": "stdout",
     "output_type": "stream",
     "text": [
      "Early stopping, best iteration is:\n",
      "[1]\tvalid_0's ER: 100\n",
      "Evaluated only: ER\n",
      "**************** regression_l1 ****************\n",
      "Training until validation scores don't improve for 138 rounds\n",
      "[100]\tvalid_0's ER: 100\n"
     ]
    },
    {
     "name": "stderr",
     "output_type": "stream",
     "text": [
      "[I 2023-12-16 05:30:46,335] Trial 4 finished with value: 100.0 and parameters: {'lambda_l1': 791.5222726654811, 'lambda_l2': 870.0600125534942, 'learning_rate': 0.05641982067068453, 'num_leaves': 779, 'feature_fraction': 0.4493532247363765, 'min_data_in_leaf': 3512}. Best is trial 0 with value: 100.0.\n"
     ]
    },
    {
     "name": "stdout",
     "output_type": "stream",
     "text": [
      "Early stopping, best iteration is:\n",
      "[1]\tvalid_0's ER: 100\n",
      "Evaluated only: ER\n",
      "**************** regression_l1 ****************\n",
      "Training until validation scores don't improve for 127 rounds\n",
      "[100]\tvalid_0's ER: 100\n"
     ]
    },
    {
     "name": "stderr",
     "output_type": "stream",
     "text": [
      "[I 2023-12-16 05:30:54,712] Trial 5 finished with value: 100.0 and parameters: {'lambda_l1': 751.541234169886, 'lambda_l2': 97.77147184518908, 'learning_rate': 0.06443598765704864, 'num_leaves': 345, 'feature_fraction': 0.676230173889927, 'min_data_in_leaf': 1229}. Best is trial 0 with value: 100.0.\n"
     ]
    },
    {
     "name": "stdout",
     "output_type": "stream",
     "text": [
      "Early stopping, best iteration is:\n",
      "[1]\tvalid_0's ER: 100\n",
      "Evaluated only: ER\n",
      "**************** regression_l1 ****************\n",
      "Training until validation scores don't improve for 70 rounds\n"
     ]
    },
    {
     "name": "stderr",
     "output_type": "stream",
     "text": [
      "[I 2023-12-16 05:31:00,833] Trial 6 finished with value: 100.0 and parameters: {'lambda_l1': 503.00222521365913, 'lambda_l2': 129.15202209876674, 'learning_rate': 0.2485243068446002, 'num_leaves': 149, 'feature_fraction': 0.6203125357243349, 'min_data_in_leaf': 2060}. Best is trial 0 with value: 100.0.\n"
     ]
    },
    {
     "name": "stdout",
     "output_type": "stream",
     "text": [
      "Early stopping, best iteration is:\n",
      "[1]\tvalid_0's ER: 100\n",
      "Evaluated only: ER\n",
      "**************** regression_l1 ****************\n",
      "Training until validation scores don't improve for 285 rounds\n",
      "[100]\tvalid_0's ER: 100\n",
      "[200]\tvalid_0's ER: 100\n"
     ]
    },
    {
     "name": "stderr",
     "output_type": "stream",
     "text": [
      "[I 2023-12-16 05:31:17,769] Trial 7 finished with value: 100.0 and parameters: {'lambda_l1': 810.1721307945087, 'lambda_l2': 431.66376945896656, 'learning_rate': 0.02122251345637395, 'num_leaves': 13, 'feature_fraction': 0.618796013725962, 'min_data_in_leaf': 4807}. Best is trial 0 with value: 100.0.\n"
     ]
    },
    {
     "name": "stdout",
     "output_type": "stream",
     "text": [
      "Early stopping, best iteration is:\n",
      "[1]\tvalid_0's ER: 100\n",
      "Evaluated only: ER\n",
      "**************** regression_l1 ****************\n",
      "Training until validation scores don't improve for 71 rounds\n"
     ]
    },
    {
     "name": "stderr",
     "output_type": "stream",
     "text": [
      "[I 2023-12-16 05:31:23,732] Trial 8 finished with value: 100.0 and parameters: {'lambda_l1': 258.6386928193143, 'lambda_l2': 141.72776437563016, 'learning_rate': 0.23394379282031835, 'num_leaves': 139, 'feature_fraction': 0.9236351617628034, 'min_data_in_leaf': 7713}. Best is trial 0 with value: 100.0.\n"
     ]
    },
    {
     "name": "stdout",
     "output_type": "stream",
     "text": [
      "Early stopping, best iteration is:\n",
      "[1]\tvalid_0's ER: 100\n",
      "Evaluated only: ER\n",
      "**************** regression_l1 ****************\n",
      "Training until validation scores don't improve for 82 rounds\n"
     ]
    },
    {
     "name": "stderr",
     "output_type": "stream",
     "text": [
      "[I 2023-12-16 05:31:30,722] Trial 9 finished with value: 100.0 and parameters: {'lambda_l1': 368.268121274962, 'lambda_l2': 69.24370340014019, 'learning_rate': 0.15197289817711193, 'num_leaves': 505, 'feature_fraction': 0.30646428903418876, 'min_data_in_leaf': 6986}. Best is trial 0 with value: 100.0.\n"
     ]
    },
    {
     "name": "stdout",
     "output_type": "stream",
     "text": [
      "Early stopping, best iteration is:\n",
      "[1]\tvalid_0's ER: 100\n",
      "Evaluated only: ER\n",
      "# Experimentos: 10\n",
      "Mejor experimento: {'lambda_l1': 846.5705093301567, 'lambda_l2': 509.8623441702621, 'learning_rate': 0.11389162227137471, 'num_leaves': 918, 'feature_fraction': 0.4467683866273996, 'min_data_in_leaf': 1399}\n",
      "=========================================== Cluster 74 ===========================================\n",
      "Periodos entrenar: []\n",
      "Periodos validar: []\n",
      "product_id a validar: 0\n",
      "X_train: (0, 120)\n",
      "y_train: (0,)\n",
      "\n",
      "X_validate: (0, 120)\n",
      "y_validate: (0,)\n",
      "=========================================== Cluster 75 ===========================================\n"
     ]
    },
    {
     "name": "stderr",
     "output_type": "stream",
     "text": [
      "[I 2023-12-16 05:31:31,277] A new study created in memory with name: no-name-0c1aa0c3-6055-4b32-abd8-7d7b9bb46fce\n",
      "[I 2023-12-16 05:31:31,367] Trial 0 finished with value: 100.0 and parameters: {'lambda_l1': 427.1271678284212, 'lambda_l2': 57.41162170777514, 'learning_rate': 0.2482850185857406, 'num_leaves': 76, 'feature_fraction': 0.6645357668420964, 'min_data_in_leaf': 5338}. Best is trial 0 with value: 100.0.\n",
      "[I 2023-12-16 05:31:31,459] Trial 1 finished with value: 100.0 and parameters: {'lambda_l1': 522.7398461049266, 'lambda_l2': 861.7133652882399, 'learning_rate': 0.21448774074864319, 'num_leaves': 210, 'feature_fraction': 0.9402805579815376, 'min_data_in_leaf': 3080}. Best is trial 0 with value: 100.0.\n"
     ]
    },
    {
     "name": "stdout",
     "output_type": "stream",
     "text": [
      "Periodos entrenar: [201810 201811 201812 201901 201902 201903 201904 201905]\n",
      "Periodos validar: [201907]\n",
      "product_id a validar: 580\n",
      "X_train: (4496, 120)\n",
      "y_train: (4496,)\n",
      "\n",
      "X_validate: (580, 120)\n",
      "y_validate: (580,)\n",
      "Optimizacion Bayesiana\n",
      "**************** regression_l1 ****************\n",
      "Training until validation scores don't improve for 70 rounds\n",
      "Early stopping, best iteration is:\n",
      "[1]\tvalid_0's ER: 100\n",
      "Evaluated only: ER\n",
      "**************** regression_l1 ****************\n",
      "Training until validation scores don't improve for 73 rounds\n",
      "Early stopping, best iteration is:\n",
      "[1]\tvalid_0's ER: 100\n",
      "Evaluated only: ER\n",
      "**************** regression_l1 ****************\n"
     ]
    },
    {
     "name": "stderr",
     "output_type": "stream",
     "text": [
      "[I 2023-12-16 05:31:31,567] Trial 2 finished with value: 100.0 and parameters: {'lambda_l1': 676.8673024540393, 'lambda_l2': 989.2291264291848, 'learning_rate': 0.15042361047997233, 'num_leaves': 1023, 'feature_fraction': 0.7695206555235297, 'min_data_in_leaf': 4723}. Best is trial 0 with value: 100.0.\n",
      "[I 2023-12-16 05:31:31,666] Trial 3 finished with value: 100.0 and parameters: {'lambda_l1': 849.4155213062086, 'lambda_l2': 708.1817803805402, 'learning_rate': 0.24325995442848322, 'num_leaves': 504, 'feature_fraction': 0.7515807017345977, 'min_data_in_leaf': 4511}. Best is trial 0 with value: 100.0.\n"
     ]
    },
    {
     "name": "stdout",
     "output_type": "stream",
     "text": [
      "Training until validation scores don't improve for 83 rounds\n",
      "Early stopping, best iteration is:\n",
      "[1]\tvalid_0's ER: 100\n",
      "Evaluated only: ER\n",
      "**************** regression_l1 ****************\n",
      "Training until validation scores don't improve for 70 rounds\n",
      "Early stopping, best iteration is:\n",
      "[1]\tvalid_0's ER: 100\n",
      "Evaluated only: ER\n",
      "**************** regression_l1 ****************\n"
     ]
    },
    {
     "name": "stderr",
     "output_type": "stream",
     "text": [
      "[I 2023-12-16 05:31:31,782] Trial 4 finished with value: 100.0 and parameters: {'lambda_l1': 688.2491491498249, 'lambda_l2': 629.8436972566122, 'learning_rate': 0.29134230535235484, 'num_leaves': 443, 'feature_fraction': 0.7015719141424879, 'min_data_in_leaf': 845}. Best is trial 0 with value: 100.0.\n",
      "[I 2023-12-16 05:31:31,906] Trial 5 finished with value: 100.0 and parameters: {'lambda_l1': 974.3618340098194, 'lambda_l2': 760.3770688070418, 'learning_rate': 0.11058907569392229, 'num_leaves': 729, 'feature_fraction': 0.3387965882810916, 'min_data_in_leaf': 4180}. Best is trial 0 with value: 100.0.\n"
     ]
    },
    {
     "name": "stdout",
     "output_type": "stream",
     "text": [
      "Training until validation scores don't improve for 67 rounds\n",
      "Early stopping, best iteration is:\n",
      "[1]\tvalid_0's ER: 100\n",
      "Evaluated only: ER\n",
      "**************** regression_l1 ****************\n",
      "Training until validation scores don't improve for 95 rounds\n",
      "Early stopping, best iteration is:\n",
      "[1]\tvalid_0's ER: 100\n",
      "Evaluated only: ER\n",
      "**************** regression_l1 ****************\n"
     ]
    },
    {
     "name": "stderr",
     "output_type": "stream",
     "text": [
      "[I 2023-12-16 05:31:32,030] Trial 6 finished with value: 100.0 and parameters: {'lambda_l1': 277.5493375901328, 'lambda_l2': 822.0256758000717, 'learning_rate': 0.22521098241202617, 'num_leaves': 302, 'feature_fraction': 0.4582080566916938, 'min_data_in_leaf': 1197}. Best is trial 0 with value: 100.0.\n",
      "[I 2023-12-16 05:31:32,140] Trial 7 finished with value: 100.0 and parameters: {'lambda_l1': 154.786820746302, 'lambda_l2': 818.7137122008137, 'learning_rate': 0.0857000488292313, 'num_leaves': 717, 'feature_fraction': 0.8683894455298435, 'min_data_in_leaf': 2586}. Best is trial 0 with value: 100.0.\n"
     ]
    },
    {
     "name": "stdout",
     "output_type": "stream",
     "text": [
      "Training until validation scores don't improve for 72 rounds\n",
      "Early stopping, best iteration is:\n",
      "[1]\tvalid_0's ER: 100\n",
      "Evaluated only: ER\n",
      "**************** regression_l1 ****************\n",
      "Training until validation scores don't improve for 108 rounds\n",
      "[100]\tvalid_0's ER: 100\n",
      "Early stopping, best iteration is:\n",
      "[1]\tvalid_0's ER: 100\n",
      "Evaluated only: ER\n",
      "**************** regression_l1 ****************\n"
     ]
    },
    {
     "name": "stderr",
     "output_type": "stream",
     "text": [
      "[I 2023-12-16 05:31:32,250] Trial 8 finished with value: 100.0 and parameters: {'lambda_l1': 405.96600832066997, 'lambda_l2': 391.98436571662586, 'learning_rate': 0.28795380018252065, 'num_leaves': 313, 'feature_fraction': 0.22500999834706176, 'min_data_in_leaf': 6536}. Best is trial 0 with value: 100.0.\n",
      "[I 2023-12-16 05:31:32,376] Trial 9 finished with value: 100.0 and parameters: {'lambda_l1': 870.7886665379204, 'lambda_l2': 518.7139676320473, 'learning_rate': 0.17544896682466604, 'num_leaves': 448, 'feature_fraction': 0.30013476475116296, 'min_data_in_leaf': 6206}. Best is trial 0 with value: 100.0.\n"
     ]
    },
    {
     "name": "stdout",
     "output_type": "stream",
     "text": [
      "Training until validation scores don't improve for 67 rounds\n",
      "Early stopping, best iteration is:\n",
      "[1]\tvalid_0's ER: 100\n",
      "Evaluated only: ER\n",
      "**************** regression_l1 ****************\n",
      "Training until validation scores don't improve for 78 rounds\n",
      "Early stopping, best iteration is:\n",
      "[1]\tvalid_0's ER: 100\n",
      "Evaluated only: ER\n",
      "# Experimentos: 10\n",
      "Mejor experimento: {'lambda_l1': 427.1271678284212, 'lambda_l2': 57.41162170777514, 'learning_rate': 0.2482850185857406, 'num_leaves': 76, 'feature_fraction': 0.6645357668420964, 'min_data_in_leaf': 5338}\n",
      "=========================================== Cluster 76 ===========================================\n"
     ]
    },
    {
     "name": "stderr",
     "output_type": "stream",
     "text": [
      "[I 2023-12-16 05:31:32,562] A new study created in memory with name: no-name-b336ec34-aab9-48b8-9c96-19f5d38d1aed\n",
      "[I 2023-12-16 05:31:32,642] Trial 0 finished with value: 100.0 and parameters: {'lambda_l1': 74.98260290336422, 'lambda_l2': 847.8185388403847, 'learning_rate': 0.14254410387123226, 'num_leaves': 231, 'feature_fraction': 0.21828380645643453, 'min_data_in_leaf': 3763}. Best is trial 0 with value: 100.0.\n",
      "[I 2023-12-16 05:31:32,717] Trial 1 finished with value: 100.0 and parameters: {'lambda_l1': 222.1513753434794, 'lambda_l2': 820.9191450908259, 'learning_rate': 0.2222365447238445, 'num_leaves': 203, 'feature_fraction': 0.27382767872152547, 'min_data_in_leaf': 5608}. Best is trial 0 with value: 100.0.\n"
     ]
    },
    {
     "name": "stdout",
     "output_type": "stream",
     "text": [
      "Periodos entrenar: [201905]\n",
      "Periodos validar: [201907]\n",
      "product_id a validar: 580\n",
      "X_train: (571, 120)\n",
      "y_train: (571,)\n",
      "\n",
      "X_validate: (580, 120)\n",
      "y_validate: (580,)\n",
      "Optimizacion Bayesiana\n",
      "**************** regression_l1 ****************\n",
      "Training until validation scores don't improve for 85 rounds\n",
      "Early stopping, best iteration is:\n",
      "[1]\tvalid_0's ER: 100\n",
      "Evaluated only: ER\n",
      "**************** regression_l1 ****************\n",
      "Training until validation scores don't improve for 72 rounds\n",
      "Early stopping, best iteration is:\n",
      "[1]\tvalid_0's ER: 100\n",
      "Evaluated only: ER\n",
      "**************** regression_l1 ****************\n",
      "Training until validation scores don't improve for 78 rounds\n"
     ]
    },
    {
     "name": "stderr",
     "output_type": "stream",
     "text": [
      "[I 2023-12-16 05:31:32,795] Trial 2 finished with value: 100.0 and parameters: {'lambda_l1': 332.75891508888367, 'lambda_l2': 153.6246097084816, 'learning_rate': 0.17807699943599226, 'num_leaves': 444, 'feature_fraction': 0.7314404837698785, 'min_data_in_leaf': 5161}. Best is trial 0 with value: 100.0.\n",
      "[I 2023-12-16 05:31:32,868] Trial 3 finished with value: 100.0 and parameters: {'lambda_l1': 427.32282506061136, 'lambda_l2': 770.6911830059046, 'learning_rate': 0.24035242518670658, 'num_leaves': 434, 'feature_fraction': 0.6446622134475, 'min_data_in_leaf': 3038}. Best is trial 0 with value: 100.0.\n",
      "[I 2023-12-16 05:31:32,946] Trial 4 finished with value: 100.0 and parameters: {'lambda_l1': 875.5927881836809, 'lambda_l2': 371.20864988701106, 'learning_rate': 0.14614840608274282, 'num_leaves': 483, 'feature_fraction': 0.9723119272212977, 'min_data_in_leaf': 5563}. Best is trial 0 with value: 100.0.\n"
     ]
    },
    {
     "name": "stdout",
     "output_type": "stream",
     "text": [
      "Early stopping, best iteration is:\n",
      "[1]\tvalid_0's ER: 100\n",
      "Evaluated only: ER\n",
      "**************** regression_l1 ****************\n",
      "Training until validation scores don't improve for 70 rounds\n",
      "Early stopping, best iteration is:\n",
      "[1]\tvalid_0's ER: 100\n",
      "Evaluated only: ER\n",
      "**************** regression_l1 ****************\n",
      "Training until validation scores don't improve for 84 rounds\n",
      "Early stopping, best iteration is:\n",
      "[1]\tvalid_0's ER: 100\n",
      "Evaluated only: ER\n",
      "**************** regression_l1 ****************\n",
      "Training until validation scores don't improve for 80 rounds\n"
     ]
    },
    {
     "name": "stderr",
     "output_type": "stream",
     "text": [
      "[I 2023-12-16 05:31:33,026] Trial 5 finished with value: 100.0 and parameters: {'lambda_l1': 867.1663454519322, 'lambda_l2': 780.5006994704312, 'learning_rate': 0.164172494006424, 'num_leaves': 526, 'feature_fraction': 0.9147248534859198, 'min_data_in_leaf': 2431}. Best is trial 0 with value: 100.0.\n",
      "[I 2023-12-16 05:31:33,111] Trial 6 finished with value: 100.0 and parameters: {'lambda_l1': 832.183410434489, 'lambda_l2': 835.8261747222266, 'learning_rate': 0.20660872054283144, 'num_leaves': 832, 'feature_fraction': 0.3095605571129523, 'min_data_in_leaf': 7177}. Best is trial 0 with value: 100.0.\n"
     ]
    },
    {
     "name": "stdout",
     "output_type": "stream",
     "text": [
      "Early stopping, best iteration is:\n",
      "[1]\tvalid_0's ER: 100\n",
      "Evaluated only: ER\n",
      "**************** regression_l1 ****************\n",
      "Training until validation scores don't improve for 74 rounds\n",
      "Early stopping, best iteration is:\n",
      "[1]\tvalid_0's ER: 100\n",
      "Evaluated only: ER\n",
      "**************** regression_l1 ****************\n",
      "Training until validation scores don't improve for 113 rounds\n",
      "[100]\tvalid_0's ER: 100\n",
      "Early stopping, best iteration is:\n",
      "[1]\tvalid_0's ER: 100\n",
      "Evaluated only: ER\n"
     ]
    },
    {
     "name": "stderr",
     "output_type": "stream",
     "text": [
      "[I 2023-12-16 05:31:33,219] Trial 7 finished with value: 100.0 and parameters: {'lambda_l1': 890.4762888148695, 'lambda_l2': 392.2155679134015, 'learning_rate': 0.07879654543970817, 'num_leaves': 659, 'feature_fraction': 0.48525150249260096, 'min_data_in_leaf': 448}. Best is trial 0 with value: 100.0.\n",
      "[I 2023-12-16 05:31:33,292] Trial 8 finished with value: 100.0 and parameters: {'lambda_l1': 205.803844041605, 'lambda_l2': 578.5145711638465, 'learning_rate': 0.1823138150952861, 'num_leaves': 55, 'feature_fraction': 0.26239899285212714, 'min_data_in_leaf': 7412}. Best is trial 0 with value: 100.0.\n"
     ]
    },
    {
     "name": "stdout",
     "output_type": "stream",
     "text": [
      "**************** regression_l1 ****************\n",
      "Training until validation scores don't improve for 77 rounds\n",
      "Early stopping, best iteration is:\n",
      "[1]\tvalid_0's ER: 100\n",
      "Evaluated only: ER\n",
      "**************** regression_l1 ****************\n",
      "Training until validation scores don't improve for 499 rounds\n",
      "[100]\tvalid_0's ER: 100\n",
      "[200]\tvalid_0's ER: 100\n"
     ]
    },
    {
     "name": "stderr",
     "output_type": "stream",
     "text": [
      "[I 2023-12-16 05:31:33,589] Trial 9 finished with value: 100.0 and parameters: {'lambda_l1': 888.2291669042985, 'lambda_l2': 351.9068744096454, 'learning_rate': 0.01111231666758441, 'num_leaves': 754, 'feature_fraction': 0.4983309428360492, 'min_data_in_leaf': 1154}. Best is trial 0 with value: 100.0.\n"
     ]
    },
    {
     "name": "stdout",
     "output_type": "stream",
     "text": [
      "[300]\tvalid_0's ER: 100\n",
      "[400]\tvalid_0's ER: 100\n",
      "[500]\tvalid_0's ER: 100\n",
      "Early stopping, best iteration is:\n",
      "[1]\tvalid_0's ER: 100\n",
      "Evaluated only: ER\n",
      "# Experimentos: 10\n",
      "Mejor experimento: {'lambda_l1': 74.98260290336422, 'lambda_l2': 847.8185388403847, 'learning_rate': 0.14254410387123226, 'num_leaves': 231, 'feature_fraction': 0.21828380645643453, 'min_data_in_leaf': 3763}\n",
      "=========================================== Cluster 77 ===========================================\n",
      "Periodos entrenar: []\n",
      "Periodos validar: []\n",
      "product_id a validar: 0\n",
      "X_train: (0, 120)\n",
      "y_train: (0,)\n",
      "\n",
      "X_validate: (0, 120)\n",
      "y_validate: (0,)\n",
      "=========================================== Cluster 78 ===========================================\n"
     ]
    },
    {
     "name": "stderr",
     "output_type": "stream",
     "text": [
      "[I 2023-12-16 05:31:36,127] A new study created in memory with name: no-name-c118a719-0784-4def-b938-ca09a3cce435\n"
     ]
    },
    {
     "name": "stdout",
     "output_type": "stream",
     "text": [
      "Periodos entrenar: [201701 201702 201703 201704 201705 201706 201707 201708 201709 201710\n",
      " 201711 201712 201801 201802 201803 201804 201805 201806 201807 201808\n",
      " 201809 201810 201811 201812 201901 201902 201903 201904 201905]\n",
      "Periodos validar: [201907]\n",
      "product_id a validar: 2900\n",
      "X_train: (77285, 120)\n",
      "y_train: (77285,)\n",
      "\n",
      "X_validate: (2900, 120)\n",
      "y_validate: (2900,)\n",
      "Optimizacion Bayesiana\n",
      "**************** regression_l1 ****************\n",
      "Training until validation scores don't improve for 67 rounds\n"
     ]
    },
    {
     "name": "stderr",
     "output_type": "stream",
     "text": [
      "[I 2023-12-16 05:31:37,150] Trial 0 finished with value: 98.05 and parameters: {'lambda_l1': 410.0121503232194, 'lambda_l2': 9.471299740216988, 'learning_rate': 0.2884827275562626, 'num_leaves': 703, 'feature_fraction': 0.34615405689099366, 'min_data_in_leaf': 1721}. Best is trial 0 with value: 98.05.\n"
     ]
    },
    {
     "name": "stdout",
     "output_type": "stream",
     "text": [
      "Early stopping, best iteration is:\n",
      "[5]\tvalid_0's ER: 98.05\n",
      "Evaluated only: ER\n",
      "**************** regression_l1 ****************\n",
      "Training until validation scores don't improve for 111 rounds\n"
     ]
    },
    {
     "name": "stderr",
     "output_type": "stream",
     "text": [
      "[I 2023-12-16 05:31:38,655] Trial 1 finished with value: 100.0 and parameters: {'lambda_l1': 575.2560376002665, 'lambda_l2': 350.0495175204712, 'learning_rate': 0.08155002539061967, 'num_leaves': 596, 'feature_fraction': 0.3296812061569391, 'min_data_in_leaf': 4075}. Best is trial 0 with value: 98.05.\n"
     ]
    },
    {
     "name": "stdout",
     "output_type": "stream",
     "text": [
      "[100]\tvalid_0's ER: 105.07\n",
      "Early stopping, best iteration is:\n",
      "[1]\tvalid_0's ER: 100\n",
      "Evaluated only: ER\n",
      "**************** regression_l1 ****************\n",
      "Training until validation scores don't improve for 77 rounds\n"
     ]
    },
    {
     "name": "stderr",
     "output_type": "stream",
     "text": [
      "[I 2023-12-16 05:31:39,723] Trial 2 finished with value: 100.12 and parameters: {'lambda_l1': 306.8134179822405, 'lambda_l2': 29.77155966499989, 'learning_rate': 0.18507202606758447, 'num_leaves': 363, 'feature_fraction': 0.38766212290731467, 'min_data_in_leaf': 4847}. Best is trial 0 with value: 98.05.\n"
     ]
    },
    {
     "name": "stdout",
     "output_type": "stream",
     "text": [
      "Early stopping, best iteration is:\n",
      "[2]\tvalid_0's ER: 100.12\n",
      "Evaluated only: ER\n",
      "**************** regression_l1 ****************\n",
      "Training until validation scores don't improve for 94 rounds\n"
     ]
    },
    {
     "name": "stderr",
     "output_type": "stream",
     "text": [
      "[I 2023-12-16 05:31:41,352] Trial 3 finished with value: 100.13 and parameters: {'lambda_l1': 963.7714416086098, 'lambda_l2': 7.123861572581491, 'learning_rate': 0.11133018381347799, 'num_leaves': 893, 'feature_fraction': 0.8412892392364177, 'min_data_in_leaf': 1477}. Best is trial 0 with value: 98.05.\n"
     ]
    },
    {
     "name": "stdout",
     "output_type": "stream",
     "text": [
      "Early stopping, best iteration is:\n",
      "[2]\tvalid_0's ER: 100.13\n",
      "Evaluated only: ER\n",
      "**************** regression_l1 ****************\n",
      "Training until validation scores don't improve for 70 rounds\n"
     ]
    },
    {
     "name": "stderr",
     "output_type": "stream",
     "text": [
      "[I 2023-12-16 05:31:42,605] Trial 4 finished with value: 100.84 and parameters: {'lambda_l1': 242.4542891813486, 'lambda_l2': 265.2849379501387, 'learning_rate': 0.24922319212390973, 'num_leaves': 962, 'feature_fraction': 0.8212527107234324, 'min_data_in_leaf': 6871}. Best is trial 0 with value: 98.05.\n"
     ]
    },
    {
     "name": "stdout",
     "output_type": "stream",
     "text": [
      "Early stopping, best iteration is:\n",
      "[1]\tvalid_0's ER: 100.84\n",
      "Evaluated only: ER\n",
      "**************** regression_l1 ****************\n",
      "Training until validation scores don't improve for 79 rounds\n"
     ]
    },
    {
     "name": "stderr",
     "output_type": "stream",
     "text": [
      "[I 2023-12-16 05:31:44,091] Trial 5 finished with value: 100.06 and parameters: {'lambda_l1': 287.4185594315641, 'lambda_l2': 13.861529862454036, 'learning_rate': 0.17119015611983612, 'num_leaves': 299, 'feature_fraction': 0.9772701176403831, 'min_data_in_leaf': 3088}. Best is trial 0 with value: 98.05.\n"
     ]
    },
    {
     "name": "stdout",
     "output_type": "stream",
     "text": [
      "Early stopping, best iteration is:\n",
      "[6]\tvalid_0's ER: 100.06\n",
      "Evaluated only: ER\n",
      "**************** regression_l1 ****************\n",
      "Training until validation scores don't improve for 100 rounds\n"
     ]
    },
    {
     "name": "stderr",
     "output_type": "stream",
     "text": [
      "[I 2023-12-16 05:31:45,591] Trial 6 finished with value: 97.03 and parameters: {'lambda_l1': 88.94791887465436, 'lambda_l2': 208.97450090809377, 'learning_rate': 0.09926181657392973, 'num_leaves': 685, 'feature_fraction': 0.3718239099295416, 'min_data_in_leaf': 1530}. Best is trial 6 with value: 97.03.\n"
     ]
    },
    {
     "name": "stdout",
     "output_type": "stream",
     "text": [
      "[100]\tvalid_0's ER: 113.82\n",
      "Early stopping, best iteration is:\n",
      "[8]\tvalid_0's ER: 97.03\n",
      "Evaluated only: ER\n",
      "**************** regression_l1 ****************\n",
      "Training until validation scores don't improve for 85 rounds\n"
     ]
    },
    {
     "name": "stderr",
     "output_type": "stream",
     "text": [
      "[I 2023-12-16 05:31:46,987] Trial 7 finished with value: 100.27 and parameters: {'lambda_l1': 33.85949012104494, 'lambda_l2': 665.7666041949642, 'learning_rate': 0.1412658670353676, 'num_leaves': 811, 'feature_fraction': 0.5818740083741674, 'min_data_in_leaf': 6140}. Best is trial 6 with value: 97.03.\n"
     ]
    },
    {
     "name": "stdout",
     "output_type": "stream",
     "text": [
      "Early stopping, best iteration is:\n",
      "[1]\tvalid_0's ER: 100.27\n",
      "Evaluated only: ER\n",
      "**************** regression_l1 ****************\n",
      "Training until validation scores don't improve for 71 rounds\n"
     ]
    },
    {
     "name": "stderr",
     "output_type": "stream",
     "text": [
      "[I 2023-12-16 05:31:49,326] Trial 8 finished with value: 100.79 and parameters: {'lambda_l1': 458.37357481900165, 'lambda_l2': 304.0953791377995, 'learning_rate': 0.2339070717889161, 'num_leaves': 224, 'feature_fraction': 0.7513721496993937, 'min_data_in_leaf': 161}. Best is trial 6 with value: 97.03.\n"
     ]
    },
    {
     "name": "stdout",
     "output_type": "stream",
     "text": [
      "Early stopping, best iteration is:\n",
      "[1]\tvalid_0's ER: 100.79\n",
      "Evaluated only: ER\n",
      "**************** regression_l1 ****************\n",
      "Training until validation scores don't improve for 76 rounds\n"
     ]
    },
    {
     "name": "stderr",
     "output_type": "stream",
     "text": [
      "[I 2023-12-16 05:31:50,438] Trial 9 finished with value: 100.0 and parameters: {'lambda_l1': 455.174407172947, 'lambda_l2': 991.6585145888987, 'learning_rate': 0.1853243113974296, 'num_leaves': 502, 'feature_fraction': 0.33291534577599535, 'min_data_in_leaf': 3146}. Best is trial 6 with value: 97.03.\n"
     ]
    },
    {
     "name": "stdout",
     "output_type": "stream",
     "text": [
      "Early stopping, best iteration is:\n",
      "[1]\tvalid_0's ER: 100\n",
      "Evaluated only: ER\n",
      "# Experimentos: 10\n",
      "Mejor experimento: {'lambda_l1': 88.94791887465436, 'lambda_l2': 208.97450090809377, 'learning_rate': 0.09926181657392973, 'num_leaves': 685, 'feature_fraction': 0.3718239099295416, 'min_data_in_leaf': 1530}\n",
      "=========================================== Cluster 79 ===========================================\n",
      "Periodos entrenar: []\n",
      "Periodos validar: []\n",
      "product_id a validar: 0\n",
      "X_train: (0, 120)\n",
      "y_train: (0,)\n",
      "\n",
      "X_validate: (0, 120)\n",
      "y_validate: (0,)\n",
      "=========================================== Cluster 80 ===========================================\n"
     ]
    },
    {
     "name": "stderr",
     "output_type": "stream",
     "text": [
      "[I 2023-12-16 05:31:51,965] A new study created in memory with name: no-name-0d633bba-afea-44da-abd1-9cc9b98c8680\n"
     ]
    },
    {
     "name": "stdout",
     "output_type": "stream",
     "text": [
      "Periodos entrenar: [201809 201810 201811 201812 201901 201902 201903 201904 201905]\n",
      "Periodos validar: [201907]\n",
      "product_id a validar: 3480\n",
      "X_train: (30294, 120)\n",
      "y_train: (30294,)\n",
      "\n",
      "X_validate: (3480, 120)\n",
      "y_validate: (3480,)\n",
      "Optimizacion Bayesiana\n",
      "**************** regression_l1 ****************\n",
      "Training until validation scores don't improve for 79 rounds\n"
     ]
    },
    {
     "name": "stderr",
     "output_type": "stream",
     "text": [
      "[W 2023-12-16 05:31:52,483] Trial 0 failed with parameters: {'lambda_l1': 584.917053729853, 'lambda_l2': 181.4355843911397, 'learning_rate': 0.17045734381848643, 'num_leaves': 116, 'feature_fraction': 0.3536979720690105, 'min_data_in_leaf': 4813} because of the following error: The value nan is not acceptable..\n",
      "[W 2023-12-16 05:31:52,484] Trial 0 failed with value nan.\n"
     ]
    },
    {
     "name": "stdout",
     "output_type": "stream",
     "text": [
      "Early stopping, best iteration is:\n",
      "[1]\tvalid_0's ER: nan\n",
      "Evaluated only: ER\n",
      "**************** regression_l1 ****************\n",
      "Training until validation scores don't improve for 72 rounds\n"
     ]
    },
    {
     "name": "stderr",
     "output_type": "stream",
     "text": [
      "[W 2023-12-16 05:31:53,067] Trial 1 failed with parameters: {'lambda_l1': 139.09341228173722, 'lambda_l2': 503.1561093701112, 'learning_rate': 0.2235627615116093, 'num_leaves': 1016, 'feature_fraction': 0.6802806003941957, 'min_data_in_leaf': 4953} because of the following error: The value nan is not acceptable..\n",
      "[W 2023-12-16 05:31:53,069] Trial 1 failed with value nan.\n"
     ]
    },
    {
     "name": "stdout",
     "output_type": "stream",
     "text": [
      "Early stopping, best iteration is:\n",
      "[1]\tvalid_0's ER: nan\n",
      "Evaluated only: ER\n",
      "**************** regression_l1 ****************\n",
      "Training until validation scores don't improve for 166 rounds\n",
      "[100]\tvalid_0's ER: nan\n"
     ]
    },
    {
     "name": "stderr",
     "output_type": "stream",
     "text": [
      "[W 2023-12-16 05:31:54,020] Trial 2 failed with parameters: {'lambda_l1': 793.518200585368, 'lambda_l2': 348.0466381680588, 'learning_rate': 0.04287825083357294, 'num_leaves': 10, 'feature_fraction': 0.8118072958149276, 'min_data_in_leaf': 6550} because of the following error: The value nan is not acceptable..\n",
      "[W 2023-12-16 05:31:54,022] Trial 2 failed with value nan.\n"
     ]
    },
    {
     "name": "stdout",
     "output_type": "stream",
     "text": [
      "Early stopping, best iteration is:\n",
      "[1]\tvalid_0's ER: nan\n",
      "Evaluated only: ER\n",
      "**************** regression_l1 ****************\n",
      "Training until validation scores don't improve for 69 rounds\n"
     ]
    },
    {
     "name": "stderr",
     "output_type": "stream",
     "text": [
      "[W 2023-12-16 05:31:54,488] Trial 3 failed with parameters: {'lambda_l1': 249.43677788879347, 'lambda_l2': 280.1105684234556, 'learning_rate': 0.2586998553393229, 'num_leaves': 870, 'feature_fraction': 0.28263818085955306, 'min_data_in_leaf': 5807} because of the following error: The value nan is not acceptable..\n",
      "[W 2023-12-16 05:31:54,490] Trial 3 failed with value nan.\n"
     ]
    },
    {
     "name": "stdout",
     "output_type": "stream",
     "text": [
      "Early stopping, best iteration is:\n",
      "[1]\tvalid_0's ER: nan\n",
      "Evaluated only: ER\n",
      "**************** regression_l1 ****************\n",
      "Training until validation scores don't improve for 68 rounds\n"
     ]
    },
    {
     "name": "stderr",
     "output_type": "stream",
     "text": [
      "[W 2023-12-16 05:31:55,045] Trial 4 failed with parameters: {'lambda_l1': 843.2445239842086, 'lambda_l2': 458.5328761833002, 'learning_rate': 0.2726570575490375, 'num_leaves': 760, 'feature_fraction': 0.7974239444776228, 'min_data_in_leaf': 2591} because of the following error: The value nan is not acceptable..\n",
      "[W 2023-12-16 05:31:55,046] Trial 4 failed with value nan.\n"
     ]
    },
    {
     "name": "stdout",
     "output_type": "stream",
     "text": [
      "Early stopping, best iteration is:\n",
      "[1]\tvalid_0's ER: nan\n",
      "Evaluated only: ER\n",
      "**************** regression_l1 ****************\n",
      "Training until validation scores don't improve for 174 rounds\n",
      "[100]\tvalid_0's ER: nan\n"
     ]
    },
    {
     "name": "stderr",
     "output_type": "stream",
     "text": [
      "[W 2023-12-16 05:31:55,860] Trial 5 failed with parameters: {'lambda_l1': 856.7005277153673, 'lambda_l2': 957.6379694281463, 'learning_rate': 0.04002506168040165, 'num_leaves': 818, 'feature_fraction': 0.3413876746607783, 'min_data_in_leaf': 7183} because of the following error: The value nan is not acceptable..\n",
      "[W 2023-12-16 05:31:55,861] Trial 5 failed with value nan.\n"
     ]
    },
    {
     "name": "stdout",
     "output_type": "stream",
     "text": [
      "Early stopping, best iteration is:\n",
      "[1]\tvalid_0's ER: nan\n",
      "Evaluated only: ER\n",
      "**************** regression_l1 ****************\n",
      "Training until validation scores don't improve for 165 rounds\n",
      "[100]\tvalid_0's ER: nan\n"
     ]
    },
    {
     "name": "stderr",
     "output_type": "stream",
     "text": [
      "[W 2023-12-16 05:31:56,640] Trial 6 failed with parameters: {'lambda_l1': 633.254561930195, 'lambda_l2': 233.78749154257704, 'learning_rate': 0.043459408225365974, 'num_leaves': 575, 'feature_fraction': 0.2971692099740051, 'min_data_in_leaf': 1302} because of the following error: The value nan is not acceptable..\n",
      "[W 2023-12-16 05:31:56,641] Trial 6 failed with value nan.\n"
     ]
    },
    {
     "name": "stdout",
     "output_type": "stream",
     "text": [
      "Early stopping, best iteration is:\n",
      "[1]\tvalid_0's ER: nan\n",
      "Evaluated only: ER\n",
      "**************** regression_l1 ****************\n",
      "Training until validation scores don't improve for 76 rounds\n"
     ]
    },
    {
     "name": "stderr",
     "output_type": "stream",
     "text": [
      "[W 2023-12-16 05:31:57,163] Trial 7 failed with parameters: {'lambda_l1': 14.668927302095236, 'lambda_l2': 575.2243437604177, 'learning_rate': 0.19059058296341452, 'num_leaves': 604, 'feature_fraction': 0.4898664283302472, 'min_data_in_leaf': 7231} because of the following error: The value nan is not acceptable..\n",
      "[W 2023-12-16 05:31:57,165] Trial 7 failed with value nan.\n"
     ]
    },
    {
     "name": "stdout",
     "output_type": "stream",
     "text": [
      "Early stopping, best iteration is:\n",
      "[1]\tvalid_0's ER: nan\n",
      "Evaluated only: ER\n",
      "**************** regression_l1 ****************\n",
      "Training until validation scores don't improve for 76 rounds\n"
     ]
    },
    {
     "name": "stderr",
     "output_type": "stream",
     "text": [
      "[W 2023-12-16 05:31:57,733] Trial 8 failed with parameters: {'lambda_l1': 659.0733712694611, 'lambda_l2': 776.7162705476434, 'learning_rate': 0.18907182496613062, 'num_leaves': 99, 'feature_fraction': 0.9054937408381643, 'min_data_in_leaf': 3407} because of the following error: The value nan is not acceptable..\n",
      "[W 2023-12-16 05:31:57,735] Trial 8 failed with value nan.\n"
     ]
    },
    {
     "name": "stdout",
     "output_type": "stream",
     "text": [
      "Early stopping, best iteration is:\n",
      "[1]\tvalid_0's ER: nan\n",
      "Evaluated only: ER\n",
      "**************** regression_l1 ****************\n",
      "Training until validation scores don't improve for 90 rounds\n"
     ]
    },
    {
     "name": "stderr",
     "output_type": "stream",
     "text": [
      "[W 2023-12-16 05:31:58,271] Trial 9 failed with parameters: {'lambda_l1': 837.8408741464691, 'lambda_l2': 608.2182272178038, 'learning_rate': 0.12366622501792747, 'num_leaves': 684, 'feature_fraction': 0.3327574644270122, 'min_data_in_leaf': 2912} because of the following error: The value nan is not acceptable..\n",
      "[W 2023-12-16 05:31:58,273] Trial 9 failed with value nan.\n"
     ]
    },
    {
     "name": "stdout",
     "output_type": "stream",
     "text": [
      "Early stopping, best iteration is:\n",
      "[1]\tvalid_0's ER: nan\n",
      "Evaluated only: ER\n",
      "# Experimentos: 10\n",
      "=========================================== Cluster 81 ===========================================\n"
     ]
    },
    {
     "name": "stderr",
     "output_type": "stream",
     "text": [
      "[I 2023-12-16 05:31:59,676] A new study created in memory with name: no-name-34e49b6d-d826-4d9b-82ba-414fdd92a8bb\n"
     ]
    },
    {
     "name": "stdout",
     "output_type": "stream",
     "text": [
      "Periodos entrenar: [201701 201702 201703 201704 201705 201706 201707 201708 201709 201710\n",
      " 201711 201712 201801 201802 201803 201804 201805 201806 201807 201808\n",
      " 201809 201810 201811 201812 201901 201902 201903 201904 201905]\n",
      "Periodos validar: [201907]\n",
      "product_id a validar: 1740\n",
      "X_train: (46371, 120)\n",
      "y_train: (46371,)\n",
      "\n",
      "X_validate: (1740, 120)\n",
      "y_validate: (1740,)\n",
      "Optimizacion Bayesiana\n",
      "**************** regression_l1 ****************\n",
      "Training until validation scores don't improve for 73 rounds\n"
     ]
    },
    {
     "name": "stderr",
     "output_type": "stream",
     "text": [
      "[I 2023-12-16 05:32:00,387] Trial 0 finished with value: 100.0 and parameters: {'lambda_l1': 907.7899831396469, 'lambda_l2': 474.41122302212347, 'learning_rate': 0.21389642087959898, 'num_leaves': 888, 'feature_fraction': 0.6722617397116599, 'min_data_in_leaf': 3910}. Best is trial 0 with value: 100.0.\n"
     ]
    },
    {
     "name": "stdout",
     "output_type": "stream",
     "text": [
      "Early stopping, best iteration is:\n",
      "[1]\tvalid_0's ER: 100\n",
      "Evaluated only: ER\n",
      "**************** regression_l1 ****************\n",
      "Training until validation scores don't improve for 92 rounds\n"
     ]
    },
    {
     "name": "stderr",
     "output_type": "stream",
     "text": [
      "[I 2023-12-16 05:32:01,121] Trial 1 finished with value: 100.0 and parameters: {'lambda_l1': 572.3097383828634, 'lambda_l2': 111.92892464897297, 'learning_rate': 0.11720395629293562, 'num_leaves': 423, 'feature_fraction': 0.3764230947133753, 'min_data_in_leaf': 286}. Best is trial 0 with value: 100.0.\n"
     ]
    },
    {
     "name": "stdout",
     "output_type": "stream",
     "text": [
      "Early stopping, best iteration is:\n",
      "[1]\tvalid_0's ER: 100\n",
      "Evaluated only: ER\n",
      "**************** regression_l1 ****************\n",
      "Training until validation scores don't improve for 69 rounds\n"
     ]
    },
    {
     "name": "stderr",
     "output_type": "stream",
     "text": [
      "[I 2023-12-16 05:32:01,846] Trial 2 finished with value: 100.0 and parameters: {'lambda_l1': 692.1324933249773, 'lambda_l2': 810.4132491928589, 'learning_rate': 0.2570387882454095, 'num_leaves': 516, 'feature_fraction': 0.6468967801638823, 'min_data_in_leaf': 4767}. Best is trial 0 with value: 100.0.\n"
     ]
    },
    {
     "name": "stdout",
     "output_type": "stream",
     "text": [
      "Early stopping, best iteration is:\n",
      "[1]\tvalid_0's ER: 100\n",
      "Evaluated only: ER\n",
      "**************** regression_l1 ****************\n",
      "Training until validation scores don't improve for 84 rounds\n"
     ]
    },
    {
     "name": "stderr",
     "output_type": "stream",
     "text": [
      "[I 2023-12-16 05:32:02,575] Trial 3 finished with value: 100.0 and parameters: {'lambda_l1': 447.58009736213523, 'lambda_l2': 445.6359572380147, 'learning_rate': 0.14623343810986741, 'num_leaves': 456, 'feature_fraction': 0.975630600609878, 'min_data_in_leaf': 6546}. Best is trial 0 with value: 100.0.\n"
     ]
    },
    {
     "name": "stdout",
     "output_type": "stream",
     "text": [
      "Early stopping, best iteration is:\n",
      "[1]\tvalid_0's ER: 100\n",
      "Evaluated only: ER\n",
      "**************** regression_l1 ****************\n",
      "Training until validation scores don't improve for 292 rounds\n",
      "[100]\tvalid_0's ER: 100\n",
      "[200]\tvalid_0's ER: 100\n"
     ]
    },
    {
     "name": "stderr",
     "output_type": "stream",
     "text": [
      "[I 2023-12-16 05:32:04,354] Trial 4 finished with value: 100.0 and parameters: {'lambda_l1': 475.110311562198, 'lambda_l2': 800.6352460795877, 'learning_rate': 0.02063191627478041, 'num_leaves': 901, 'feature_fraction': 0.8299224200014852, 'min_data_in_leaf': 7470}. Best is trial 0 with value: 100.0.\n"
     ]
    },
    {
     "name": "stdout",
     "output_type": "stream",
     "text": [
      "Early stopping, best iteration is:\n",
      "[1]\tvalid_0's ER: 100\n",
      "Evaluated only: ER\n",
      "**************** regression_l1 ****************\n",
      "Training until validation scores don't improve for 77 rounds\n"
     ]
    },
    {
     "name": "stderr",
     "output_type": "stream",
     "text": [
      "[I 2023-12-16 05:32:05,092] Trial 5 finished with value: 100.0 and parameters: {'lambda_l1': 724.6115944310344, 'lambda_l2': 850.5499131827548, 'learning_rate': 0.18518169719738922, 'num_leaves': 997, 'feature_fraction': 0.5778191729542088, 'min_data_in_leaf': 4010}. Best is trial 0 with value: 100.0.\n"
     ]
    },
    {
     "name": "stdout",
     "output_type": "stream",
     "text": [
      "Early stopping, best iteration is:\n",
      "[1]\tvalid_0's ER: 100\n",
      "Evaluated only: ER\n",
      "**************** regression_l1 ****************\n",
      "Training until validation scores don't improve for 83 rounds\n"
     ]
    },
    {
     "name": "stderr",
     "output_type": "stream",
     "text": [
      "[I 2023-12-16 05:32:05,776] Trial 6 finished with value: 100.0 and parameters: {'lambda_l1': 265.3969341797339, 'lambda_l2': 667.8879742596833, 'learning_rate': 0.14893749313863044, 'num_leaves': 867, 'feature_fraction': 0.4450013557887883, 'min_data_in_leaf': 2486}. Best is trial 0 with value: 100.0.\n"
     ]
    },
    {
     "name": "stdout",
     "output_type": "stream",
     "text": [
      "Early stopping, best iteration is:\n",
      "[1]\tvalid_0's ER: 100\n",
      "Evaluated only: ER\n",
      "**************** regression_l1 ****************\n",
      "Training until validation scores don't improve for 69 rounds\n"
     ]
    },
    {
     "name": "stderr",
     "output_type": "stream",
     "text": [
      "[I 2023-12-16 05:32:06,450] Trial 7 finished with value: 100.0 and parameters: {'lambda_l1': 433.4964383600153, 'lambda_l2': 796.1179127620817, 'learning_rate': 0.252875495678581, 'num_leaves': 922, 'feature_fraction': 0.623229782271236, 'min_data_in_leaf': 1980}. Best is trial 0 with value: 100.0.\n"
     ]
    },
    {
     "name": "stdout",
     "output_type": "stream",
     "text": [
      "Early stopping, best iteration is:\n",
      "[1]\tvalid_0's ER: 100\n",
      "Evaluated only: ER\n",
      "**************** regression_l1 ****************\n",
      "Training until validation scores don't improve for 85 rounds\n"
     ]
    },
    {
     "name": "stderr",
     "output_type": "stream",
     "text": [
      "[I 2023-12-16 05:32:07,146] Trial 8 finished with value: 100.0 and parameters: {'lambda_l1': 135.7381497903839, 'lambda_l2': 503.34945465614544, 'learning_rate': 0.14161572978616968, 'num_leaves': 66, 'feature_fraction': 0.5003839733869371, 'min_data_in_leaf': 7384}. Best is trial 0 with value: 100.0.\n"
     ]
    },
    {
     "name": "stdout",
     "output_type": "stream",
     "text": [
      "Early stopping, best iteration is:\n",
      "[1]\tvalid_0's ER: 100\n",
      "Evaluated only: ER\n",
      "**************** regression_l1 ****************\n",
      "Training until validation scores don't improve for 183 rounds\n",
      "[100]\tvalid_0's ER: 100\n"
     ]
    },
    {
     "name": "stderr",
     "output_type": "stream",
     "text": [
      "[I 2023-12-16 05:32:08,104] Trial 9 finished with value: 100.0 and parameters: {'lambda_l1': 216.09165128792384, 'lambda_l2': 740.3103953518964, 'learning_rate': 0.037322021797415915, 'num_leaves': 81, 'feature_fraction': 0.3087157999315844, 'min_data_in_leaf': 2095}. Best is trial 0 with value: 100.0.\n"
     ]
    },
    {
     "name": "stdout",
     "output_type": "stream",
     "text": [
      "Early stopping, best iteration is:\n",
      "[1]\tvalid_0's ER: 100\n",
      "Evaluated only: ER\n",
      "# Experimentos: 10\n",
      "Mejor experimento: {'lambda_l1': 907.7899831396469, 'lambda_l2': 474.41122302212347, 'learning_rate': 0.21389642087959898, 'num_leaves': 888, 'feature_fraction': 0.6722617397116599, 'min_data_in_leaf': 3910}\n",
      "=========================================== Cluster 82 ===========================================\n"
     ]
    },
    {
     "name": "stderr",
     "output_type": "stream",
     "text": [
      "[I 2023-12-16 05:32:09,169] A new study created in memory with name: no-name-ee0c5299-2167-44ab-b7f0-fe0f9e2d2838\n"
     ]
    },
    {
     "name": "stdout",
     "output_type": "stream",
     "text": [
      "Periodos entrenar: [201701 201702 201703 201704 201705 201706 201707 201708 201709 201710\n",
      " 201711 201712 201801 201802 201803 201804 201805 201806 201807 201808\n",
      " 201809 201810 201811 201812 201901 201902 201903 201904 201905]\n",
      "Periodos validar: [201907]\n",
      "product_id a validar: 1740\n",
      "X_train: (32055, 120)\n",
      "y_train: (32055,)\n",
      "\n",
      "X_validate: (1740, 120)\n",
      "y_validate: (1740,)\n",
      "Optimizacion Bayesiana\n",
      "**************** regression_l1 ****************\n",
      "Training until validation scores don't improve for 69 rounds\n"
     ]
    },
    {
     "name": "stderr",
     "output_type": "stream",
     "text": [
      "[I 2023-12-16 05:32:10,376] Trial 0 finished with value: 100.0 and parameters: {'lambda_l1': 75.91789723452646, 'lambda_l2': 45.17439759588648, 'learning_rate': 0.2548145641501774, 'num_leaves': 116, 'feature_fraction': 0.8523735746484276, 'min_data_in_leaf': 2214}. Best is trial 0 with value: 100.0.\n"
     ]
    },
    {
     "name": "stdout",
     "output_type": "stream",
     "text": [
      "Early stopping, best iteration is:\n",
      "[1]\tvalid_0's ER: 100\n",
      "Evaluated only: ER\n",
      "**************** regression_l1 ****************\n",
      "Training until validation scores don't improve for 70 rounds\n"
     ]
    },
    {
     "name": "stderr",
     "output_type": "stream",
     "text": [
      "[I 2023-12-16 05:32:10,882] Trial 1 finished with value: 100.0 and parameters: {'lambda_l1': 199.853889018062, 'lambda_l2': 528.1467203660274, 'learning_rate': 0.2467944305282484, 'num_leaves': 746, 'feature_fraction': 0.5891364187532391, 'min_data_in_leaf': 2923}. Best is trial 0 with value: 100.0.\n"
     ]
    },
    {
     "name": "stdout",
     "output_type": "stream",
     "text": [
      "Early stopping, best iteration is:\n",
      "[1]\tvalid_0's ER: 100\n",
      "Evaluated only: ER\n",
      "**************** regression_l1 ****************\n",
      "Training until validation scores don't improve for 152 rounds\n"
     ]
    },
    {
     "name": "stderr",
     "output_type": "stream",
     "text": [
      "[I 2023-12-16 05:32:11,605] Trial 2 finished with value: 100.0 and parameters: {'lambda_l1': 625.5268760944346, 'lambda_l2': 497.75447529185976, 'learning_rate': 0.0488556388563767, 'num_leaves': 905, 'feature_fraction': 0.905046419666877, 'min_data_in_leaf': 6163}. Best is trial 0 with value: 100.0.\n"
     ]
    },
    {
     "name": "stdout",
     "output_type": "stream",
     "text": [
      "[100]\tvalid_0's ER: 100\n",
      "Early stopping, best iteration is:\n",
      "[1]\tvalid_0's ER: 100\n",
      "Evaluated only: ER\n",
      "**************** regression_l1 ****************\n",
      "Training until validation scores don't improve for 73 rounds\n"
     ]
    },
    {
     "name": "stderr",
     "output_type": "stream",
     "text": [
      "[I 2023-12-16 05:32:12,061] Trial 3 finished with value: 100.0 and parameters: {'lambda_l1': 666.1635163715684, 'lambda_l2': 175.51646511604946, 'learning_rate': 0.21666987198732904, 'num_leaves': 190, 'feature_fraction': 0.7811759599666726, 'min_data_in_leaf': 2808}. Best is trial 0 with value: 100.0.\n"
     ]
    },
    {
     "name": "stdout",
     "output_type": "stream",
     "text": [
      "Early stopping, best iteration is:\n",
      "[1]\tvalid_0's ER: 100\n",
      "Evaluated only: ER\n",
      "**************** regression_l1 ****************\n",
      "Training until validation scores don't improve for 71 rounds\n"
     ]
    },
    {
     "name": "stderr",
     "output_type": "stream",
     "text": [
      "[I 2023-12-16 05:32:12,606] Trial 4 finished with value: 100.0 and parameters: {'lambda_l1': 319.52519813465716, 'lambda_l2': 4.712868635385781, 'learning_rate': 0.23548255727106318, 'num_leaves': 355, 'feature_fraction': 0.4421300652871913, 'min_data_in_leaf': 517}. Best is trial 0 with value: 100.0.\n"
     ]
    },
    {
     "name": "stdout",
     "output_type": "stream",
     "text": [
      "Early stopping, best iteration is:\n",
      "[1]\tvalid_0's ER: 100\n",
      "Evaluated only: ER\n",
      "**************** regression_l1 ****************\n",
      "Training until validation scores don't improve for 302 rounds\n",
      "[100]\tvalid_0's ER: 100\n",
      "[200]\tvalid_0's ER: 100\n"
     ]
    },
    {
     "name": "stderr",
     "output_type": "stream",
     "text": [
      "[I 2023-12-16 05:32:13,883] Trial 5 finished with value: 100.0 and parameters: {'lambda_l1': 156.95495662932458, 'lambda_l2': 877.7493490947818, 'learning_rate': 0.019838453839036325, 'num_leaves': 248, 'feature_fraction': 0.30368332781352675, 'min_data_in_leaf': 6736}. Best is trial 0 with value: 100.0.\n"
     ]
    },
    {
     "name": "stdout",
     "output_type": "stream",
     "text": [
      "[300]\tvalid_0's ER: 100\n",
      "Early stopping, best iteration is:\n",
      "[1]\tvalid_0's ER: 100\n",
      "Evaluated only: ER\n",
      "**************** regression_l1 ****************\n",
      "Training until validation scores don't improve for 74 rounds\n"
     ]
    },
    {
     "name": "stderr",
     "output_type": "stream",
     "text": [
      "[I 2023-12-16 05:32:14,400] Trial 6 finished with value: 100.0 and parameters: {'lambda_l1': 7.298554312249239, 'lambda_l2': 902.3443558139168, 'learning_rate': 0.20472120236301294, 'num_leaves': 77, 'feature_fraction': 0.3896842589097747, 'min_data_in_leaf': 5457}. Best is trial 0 with value: 100.0.\n"
     ]
    },
    {
     "name": "stdout",
     "output_type": "stream",
     "text": [
      "Early stopping, best iteration is:\n",
      "[1]\tvalid_0's ER: 100\n",
      "Evaluated only: ER\n",
      "**************** regression_l1 ****************\n",
      "Training until validation scores don't improve for 78 rounds\n"
     ]
    },
    {
     "name": "stderr",
     "output_type": "stream",
     "text": [
      "[I 2023-12-16 05:32:14,942] Trial 7 finished with value: 100.0 and parameters: {'lambda_l1': 288.2775001920909, 'lambda_l2': 615.21181668323, 'learning_rate': 0.17356371375873886, 'num_leaves': 386, 'feature_fraction': 0.9869813813183421, 'min_data_in_leaf': 1351}. Best is trial 0 with value: 100.0.\n"
     ]
    },
    {
     "name": "stdout",
     "output_type": "stream",
     "text": [
      "Early stopping, best iteration is:\n",
      "[1]\tvalid_0's ER: 100\n",
      "Evaluated only: ER\n",
      "**************** regression_l1 ****************\n",
      "Training until validation scores don't improve for 75 rounds\n"
     ]
    },
    {
     "name": "stderr",
     "output_type": "stream",
     "text": [
      "[I 2023-12-16 05:32:15,508] Trial 8 finished with value: 100.0 and parameters: {'lambda_l1': 25.095523132755982, 'lambda_l2': 122.50389481467361, 'learning_rate': 0.19533848770506348, 'num_leaves': 754, 'feature_fraction': 0.7675517230337785, 'min_data_in_leaf': 2101}. Best is trial 0 with value: 100.0.\n"
     ]
    },
    {
     "name": "stdout",
     "output_type": "stream",
     "text": [
      "Early stopping, best iteration is:\n",
      "[1]\tvalid_0's ER: 100\n",
      "Evaluated only: ER\n",
      "**************** regression_l1 ****************\n",
      "Training until validation scores don't improve for 82 rounds\n"
     ]
    },
    {
     "name": "stderr",
     "output_type": "stream",
     "text": [
      "[I 2023-12-16 05:32:16,079] Trial 9 finished with value: 100.0 and parameters: {'lambda_l1': 688.2619283123506, 'lambda_l2': 784.5197166894092, 'learning_rate': 0.15341923517653355, 'num_leaves': 235, 'feature_fraction': 0.3944825581034679, 'min_data_in_leaf': 3717}. Best is trial 0 with value: 100.0.\n"
     ]
    },
    {
     "name": "stdout",
     "output_type": "stream",
     "text": [
      "Early stopping, best iteration is:\n",
      "[1]\tvalid_0's ER: 100\n",
      "Evaluated only: ER\n",
      "# Experimentos: 10\n",
      "Mejor experimento: {'lambda_l1': 75.91789723452646, 'lambda_l2': 45.17439759588648, 'learning_rate': 0.2548145641501774, 'num_leaves': 116, 'feature_fraction': 0.8523735746484276, 'min_data_in_leaf': 2214}\n",
      "=========================================== Cluster 83 ===========================================\n"
     ]
    },
    {
     "name": "stderr",
     "output_type": "stream",
     "text": [
      "[I 2023-12-16 05:32:17,435] A new study created in memory with name: no-name-31a25f5b-384f-4e75-82b8-565773406345\n"
     ]
    },
    {
     "name": "stdout",
     "output_type": "stream",
     "text": [
      "Periodos entrenar: [201701 201702 201703 201704 201705 201706 201707 201708 201709 201710\n",
      " 201711 201712 201801 201802 201803 201804 201805 201806 201807 201808\n",
      " 201809 201810 201811 201812 201901 201902 201903 201904 201905]\n",
      "Periodos validar: [201907]\n",
      "product_id a validar: 2900\n",
      "X_train: (35453, 120)\n",
      "y_train: (35453,)\n",
      "\n",
      "X_validate: (2900, 120)\n",
      "y_validate: (2900,)\n",
      "Optimizacion Bayesiana\n",
      "**************** regression_l1 ****************\n",
      "Training until validation scores don't improve for 130 rounds\n"
     ]
    },
    {
     "name": "stderr",
     "output_type": "stream",
     "text": [
      "[I 2023-12-16 05:32:18,205] Trial 0 finished with value: 100.0 and parameters: {'lambda_l1': 788.5848673367129, 'lambda_l2': 349.83133964502633, 'learning_rate': 0.06213395581536583, 'num_leaves': 980, 'feature_fraction': 0.4247553388819775, 'min_data_in_leaf': 7532}. Best is trial 0 with value: 100.0.\n"
     ]
    },
    {
     "name": "stdout",
     "output_type": "stream",
     "text": [
      "[100]\tvalid_0's ER: 100\n",
      "Early stopping, best iteration is:\n",
      "[1]\tvalid_0's ER: 100\n",
      "Evaluated only: ER\n",
      "**************** regression_l1 ****************\n",
      "Training until validation scores don't improve for 339 rounds\n",
      "[100]\tvalid_0's ER: 100\n",
      "[200]\tvalid_0's ER: 100\n",
      "[300]\tvalid_0's ER: 100\n"
     ]
    },
    {
     "name": "stderr",
     "output_type": "stream",
     "text": [
      "[I 2023-12-16 05:32:20,255] Trial 1 finished with value: 100.0 and parameters: {'lambda_l1': 622.4442559975586, 'lambda_l2': 468.46702614250466, 'learning_rate': 0.017267320536280134, 'num_leaves': 539, 'feature_fraction': 0.6886200143004648, 'min_data_in_leaf': 1033}. Best is trial 0 with value: 100.0.\n"
     ]
    },
    {
     "name": "stdout",
     "output_type": "stream",
     "text": [
      "Early stopping, best iteration is:\n",
      "[1]\tvalid_0's ER: 100\n",
      "Evaluated only: ER\n",
      "**************** regression_l1 ****************\n",
      "Training until validation scores don't improve for 163 rounds\n",
      "[100]\tvalid_0's ER: 100\n"
     ]
    },
    {
     "name": "stderr",
     "output_type": "stream",
     "text": [
      "[I 2023-12-16 05:32:21,258] Trial 2 finished with value: 100.0 and parameters: {'lambda_l1': 424.1068645058942, 'lambda_l2': 275.3851648894926, 'learning_rate': 0.043937207691970175, 'num_leaves': 568, 'feature_fraction': 0.6599814981389983, 'min_data_in_leaf': 5340}. Best is trial 0 with value: 100.0.\n"
     ]
    },
    {
     "name": "stdout",
     "output_type": "stream",
     "text": [
      "Early stopping, best iteration is:\n",
      "[1]\tvalid_0's ER: 100\n",
      "Evaluated only: ER\n",
      "**************** regression_l1 ****************\n",
      "Training until validation scores don't improve for 76 rounds\n"
     ]
    },
    {
     "name": "stderr",
     "output_type": "stream",
     "text": [
      "[I 2023-12-16 05:32:21,958] Trial 3 finished with value: 100.0 and parameters: {'lambda_l1': 187.3160954212376, 'lambda_l2': 548.3517960722808, 'learning_rate': 0.18537547259355017, 'num_leaves': 244, 'feature_fraction': 0.9009745729656817, 'min_data_in_leaf': 415}. Best is trial 0 with value: 100.0.\n"
     ]
    },
    {
     "name": "stdout",
     "output_type": "stream",
     "text": [
      "Early stopping, best iteration is:\n",
      "[1]\tvalid_0's ER: 100\n",
      "Evaluated only: ER\n",
      "**************** regression_l1 ****************\n",
      "Training until validation scores don't improve for 101 rounds\n"
     ]
    },
    {
     "name": "stderr",
     "output_type": "stream",
     "text": [
      "[I 2023-12-16 05:32:22,771] Trial 4 finished with value: 100.0 and parameters: {'lambda_l1': 189.31356825414048, 'lambda_l2': 192.31520597028216, 'learning_rate': 0.09761803627857904, 'num_leaves': 141, 'feature_fraction': 0.6635703131143407, 'min_data_in_leaf': 852}. Best is trial 0 with value: 100.0.\n"
     ]
    },
    {
     "name": "stdout",
     "output_type": "stream",
     "text": [
      "[100]\tvalid_0's ER: 100\n",
      "Early stopping, best iteration is:\n",
      "[1]\tvalid_0's ER: 100\n",
      "Evaluated only: ER\n",
      "**************** regression_l1 ****************\n",
      "Training until validation scores don't improve for 78 rounds\n"
     ]
    },
    {
     "name": "stderr",
     "output_type": "stream",
     "text": [
      "[I 2023-12-16 05:32:23,321] Trial 5 finished with value: 100.0 and parameters: {'lambda_l1': 94.80302732799717, 'lambda_l2': 15.548407910225492, 'learning_rate': 0.17366068870570173, 'num_leaves': 653, 'feature_fraction': 0.2544752561791474, 'min_data_in_leaf': 828}. Best is trial 0 with value: 100.0.\n"
     ]
    },
    {
     "name": "stdout",
     "output_type": "stream",
     "text": [
      "Early stopping, best iteration is:\n",
      "[1]\tvalid_0's ER: 100\n",
      "Evaluated only: ER\n",
      "**************** regression_l1 ****************\n",
      "Training until validation scores don't improve for 74 rounds\n"
     ]
    },
    {
     "name": "stderr",
     "output_type": "stream",
     "text": [
      "[I 2023-12-16 05:32:24,010] Trial 6 finished with value: 100.0 and parameters: {'lambda_l1': 333.42874371490984, 'lambda_l2': 520.6631762865924, 'learning_rate': 0.2039019676066373, 'num_leaves': 970, 'feature_fraction': 0.31319054206756763, 'min_data_in_leaf': 116}. Best is trial 0 with value: 100.0.\n"
     ]
    },
    {
     "name": "stdout",
     "output_type": "stream",
     "text": [
      "Early stopping, best iteration is:\n",
      "[1]\tvalid_0's ER: 100\n",
      "Evaluated only: ER\n",
      "**************** regression_l1 ****************\n",
      "Training until validation scores don't improve for 67 rounds\n"
     ]
    },
    {
     "name": "stderr",
     "output_type": "stream",
     "text": [
      "[I 2023-12-16 05:32:24,582] Trial 7 finished with value: 100.0 and parameters: {'lambda_l1': 439.54426836846295, 'lambda_l2': 948.9769526496923, 'learning_rate': 0.27938883511028023, 'num_leaves': 590, 'feature_fraction': 0.8237899481839674, 'min_data_in_leaf': 3983}. Best is trial 0 with value: 100.0.\n"
     ]
    },
    {
     "name": "stdout",
     "output_type": "stream",
     "text": [
      "Early stopping, best iteration is:\n",
      "[1]\tvalid_0's ER: 100\n",
      "Evaluated only: ER\n",
      "**************** regression_l1 ****************\n",
      "Training until validation scores don't improve for 101 rounds\n"
     ]
    },
    {
     "name": "stderr",
     "output_type": "stream",
     "text": [
      "[I 2023-12-16 05:32:25,327] Trial 8 finished with value: 100.0 and parameters: {'lambda_l1': 559.7960571788626, 'lambda_l2': 770.2788715824208, 'learning_rate': 0.09732237622835119, 'num_leaves': 702, 'feature_fraction': 0.5435365053963663, 'min_data_in_leaf': 385}. Best is trial 0 with value: 100.0.\n"
     ]
    },
    {
     "name": "stdout",
     "output_type": "stream",
     "text": [
      "[100]\tvalid_0's ER: 100\n",
      "Early stopping, best iteration is:\n",
      "[1]\tvalid_0's ER: 100\n",
      "Evaluated only: ER\n",
      "**************** regression_l1 ****************\n",
      "Training until validation scores don't improve for 169 rounds\n",
      "[100]\tvalid_0's ER: 100\n"
     ]
    },
    {
     "name": "stderr",
     "output_type": "stream",
     "text": [
      "[I 2023-12-16 05:32:26,402] Trial 9 finished with value: 100.0 and parameters: {'lambda_l1': 306.8470405367142, 'lambda_l2': 620.3383548601472, 'learning_rate': 0.04168339633470547, 'num_leaves': 678, 'feature_fraction': 0.686056967791316, 'min_data_in_leaf': 3082}. Best is trial 0 with value: 100.0.\n"
     ]
    },
    {
     "name": "stdout",
     "output_type": "stream",
     "text": [
      "Early stopping, best iteration is:\n",
      "[1]\tvalid_0's ER: 100\n",
      "Evaluated only: ER\n",
      "# Experimentos: 10\n",
      "Mejor experimento: {'lambda_l1': 788.5848673367129, 'lambda_l2': 349.83133964502633, 'learning_rate': 0.06213395581536583, 'num_leaves': 980, 'feature_fraction': 0.4247553388819775, 'min_data_in_leaf': 7532}\n",
      "=========================================== Cluster 84 ===========================================\n"
     ]
    },
    {
     "name": "stderr",
     "output_type": "stream",
     "text": [
      "[I 2023-12-16 05:32:27,695] A new study created in memory with name: no-name-bff21d00-9096-40a7-bd12-2831bdbf7c39\n"
     ]
    },
    {
     "name": "stdout",
     "output_type": "stream",
     "text": [
      "Periodos entrenar: [201711 201712 201801 201802 201803 201804 201805 201806 201807 201808\n",
      " 201809 201810 201811 201812 201901 201902 201903 201904 201905]\n",
      "Periodos validar: [201907]\n",
      "product_id a validar: 2320\n",
      "X_train: (35714, 120)\n",
      "y_train: (35714,)\n",
      "\n",
      "X_validate: (2320, 120)\n",
      "y_validate: (2320,)\n",
      "Optimizacion Bayesiana\n",
      "**************** regression_l1 ****************\n",
      "Training until validation scores don't improve for 71 rounds\n"
     ]
    },
    {
     "name": "stderr",
     "output_type": "stream",
     "text": [
      "[I 2023-12-16 05:32:28,328] Trial 0 finished with value: 100.0 and parameters: {'lambda_l1': 786.2262189821388, 'lambda_l2': 220.72131229573822, 'learning_rate': 0.22808610336306598, 'num_leaves': 363, 'feature_fraction': 0.9423390001504688, 'min_data_in_leaf': 797}. Best is trial 0 with value: 100.0.\n"
     ]
    },
    {
     "name": "stdout",
     "output_type": "stream",
     "text": [
      "Early stopping, best iteration is:\n",
      "[1]\tvalid_0's ER: 100\n",
      "Evaluated only: ER\n",
      "**************** regression_l1 ****************\n",
      "Training until validation scores don't improve for 66 rounds\n"
     ]
    },
    {
     "name": "stderr",
     "output_type": "stream",
     "text": [
      "[I 2023-12-16 05:32:29,015] Trial 1 finished with value: 100.0 and parameters: {'lambda_l1': 512.3656027256573, 'lambda_l2': 269.3322291832522, 'learning_rate': 0.2999590599550702, 'num_leaves': 982, 'feature_fraction': 0.42363406512912577, 'min_data_in_leaf': 307}. Best is trial 0 with value: 100.0.\n"
     ]
    },
    {
     "name": "stdout",
     "output_type": "stream",
     "text": [
      "Early stopping, best iteration is:\n",
      "[1]\tvalid_0's ER: 100\n",
      "Evaluated only: ER\n",
      "**************** regression_l1 ****************\n",
      "Training until validation scores don't improve for 218 rounds\n",
      "[100]\tvalid_0's ER: 100\n"
     ]
    },
    {
     "name": "stderr",
     "output_type": "stream",
     "text": [
      "[I 2023-12-16 05:32:30,028] Trial 2 finished with value: 100.0 and parameters: {'lambda_l1': 384.0752730023868, 'lambda_l2': 710.7057013481412, 'learning_rate': 0.029601003434786236, 'num_leaves': 100, 'feature_fraction': 0.4205456890634256, 'min_data_in_leaf': 6256}. Best is trial 0 with value: 100.0.\n"
     ]
    },
    {
     "name": "stdout",
     "output_type": "stream",
     "text": [
      "[200]\tvalid_0's ER: 100\n",
      "Early stopping, best iteration is:\n",
      "[1]\tvalid_0's ER: 100\n",
      "Evaluated only: ER\n",
      "**************** regression_l1 ****************\n",
      "Training until validation scores don't improve for 96 rounds\n"
     ]
    },
    {
     "name": "stderr",
     "output_type": "stream",
     "text": [
      "[I 2023-12-16 05:32:30,662] Trial 3 finished with value: 100.0 and parameters: {'lambda_l1': 525.3611311132472, 'lambda_l2': 691.6370542018353, 'learning_rate': 0.1077821949291299, 'num_leaves': 776, 'feature_fraction': 0.3908854198613935, 'min_data_in_leaf': 511}. Best is trial 0 with value: 100.0.\n"
     ]
    },
    {
     "name": "stdout",
     "output_type": "stream",
     "text": [
      "Early stopping, best iteration is:\n",
      "[1]\tvalid_0's ER: 100\n",
      "Evaluated only: ER\n",
      "**************** regression_l1 ****************\n",
      "Training until validation scores don't improve for 130 rounds\n"
     ]
    },
    {
     "name": "stderr",
     "output_type": "stream",
     "text": [
      "[I 2023-12-16 05:32:31,327] Trial 4 finished with value: 100.0 and parameters: {'lambda_l1': 185.19553609889405, 'lambda_l2': 656.6362338275234, 'learning_rate': 0.06233229395291562, 'num_leaves': 326, 'feature_fraction': 0.28092222735147043, 'min_data_in_leaf': 3117}. Best is trial 0 with value: 100.0.\n"
     ]
    },
    {
     "name": "stdout",
     "output_type": "stream",
     "text": [
      "[100]\tvalid_0's ER: 100\n",
      "Early stopping, best iteration is:\n",
      "[1]\tvalid_0's ER: 100\n",
      "Evaluated only: ER\n",
      "**************** regression_l1 ****************\n",
      "Training until validation scores don't improve for 139 rounds\n"
     ]
    },
    {
     "name": "stderr",
     "output_type": "stream",
     "text": [
      "[I 2023-12-16 05:32:32,198] Trial 5 finished with value: 100.0 and parameters: {'lambda_l1': 786.7359224920377, 'lambda_l2': 80.39842630499628, 'learning_rate': 0.055735314396114566, 'num_leaves': 817, 'feature_fraction': 0.5457214644379471, 'min_data_in_leaf': 778}. Best is trial 0 with value: 100.0.\n"
     ]
    },
    {
     "name": "stdout",
     "output_type": "stream",
     "text": [
      "[100]\tvalid_0's ER: 100\n",
      "Early stopping, best iteration is:\n",
      "[1]\tvalid_0's ER: 100\n",
      "Evaluated only: ER\n",
      "**************** regression_l1 ****************\n",
      "Training until validation scores don't improve for 72 rounds\n"
     ]
    },
    {
     "name": "stderr",
     "output_type": "stream",
     "text": [
      "[I 2023-12-16 05:32:32,718] Trial 6 finished with value: 100.0 and parameters: {'lambda_l1': 704.7142785550251, 'lambda_l2': 378.6648452492378, 'learning_rate': 0.223697628860342, 'num_leaves': 402, 'feature_fraction': 0.4473953284323597, 'min_data_in_leaf': 7162}. Best is trial 0 with value: 100.0.\n"
     ]
    },
    {
     "name": "stdout",
     "output_type": "stream",
     "text": [
      "Early stopping, best iteration is:\n",
      "[1]\tvalid_0's ER: 100\n",
      "Evaluated only: ER\n",
      "**************** regression_l1 ****************\n",
      "Training until validation scores don't improve for 296 rounds\n",
      "[100]\tvalid_0's ER: 100\n",
      "[200]\tvalid_0's ER: 100\n"
     ]
    },
    {
     "name": "stderr",
     "output_type": "stream",
     "text": [
      "[I 2023-12-16 05:32:34,434] Trial 7 finished with value: 100.0 and parameters: {'lambda_l1': 747.9418648828537, 'lambda_l2': 654.8491302869129, 'learning_rate': 0.020245507223043455, 'num_leaves': 1000, 'feature_fraction': 0.7827687128879246, 'min_data_in_leaf': 3588}. Best is trial 0 with value: 100.0.\n"
     ]
    },
    {
     "name": "stdout",
     "output_type": "stream",
     "text": [
      "Early stopping, best iteration is:\n",
      "[1]\tvalid_0's ER: 100\n",
      "Evaluated only: ER\n",
      "**************** regression_l1 ****************\n",
      "Training until validation scores don't improve for 375 rounds\n",
      "[100]\tvalid_0's ER: 100\n",
      "[200]\tvalid_0's ER: 100\n",
      "[300]\tvalid_0's ER: 100\n"
     ]
    },
    {
     "name": "stderr",
     "output_type": "stream",
     "text": [
      "[I 2023-12-16 05:32:36,362] Trial 8 finished with value: 100.0 and parameters: {'lambda_l1': 487.19230297699954, 'lambda_l2': 512.7997070945175, 'learning_rate': 0.015362930453815163, 'num_leaves': 942, 'feature_fraction': 0.600198217950768, 'min_data_in_leaf': 7513}. Best is trial 0 with value: 100.0.\n"
     ]
    },
    {
     "name": "stdout",
     "output_type": "stream",
     "text": [
      "Early stopping, best iteration is:\n",
      "[1]\tvalid_0's ER: 100\n",
      "Evaluated only: ER\n",
      "**************** regression_l1 ****************\n",
      "Training until validation scores don't improve for 212 rounds\n",
      "[100]\tvalid_0's ER: 100\n"
     ]
    },
    {
     "name": "stderr",
     "output_type": "stream",
     "text": [
      "[I 2023-12-16 05:32:37,784] Trial 9 finished with value: 100.0 and parameters: {'lambda_l1': 472.7221740890751, 'lambda_l2': 573.5063605945534, 'learning_rate': 0.030780022164998054, 'num_leaves': 568, 'feature_fraction': 0.9844880929695714, 'min_data_in_leaf': 3488}. Best is trial 0 with value: 100.0.\n"
     ]
    },
    {
     "name": "stdout",
     "output_type": "stream",
     "text": [
      "[200]\tvalid_0's ER: 100\n",
      "Early stopping, best iteration is:\n",
      "[1]\tvalid_0's ER: 100\n",
      "Evaluated only: ER\n",
      "# Experimentos: 10\n",
      "Mejor experimento: {'lambda_l1': 786.2262189821388, 'lambda_l2': 220.72131229573822, 'learning_rate': 0.22808610336306598, 'num_leaves': 363, 'feature_fraction': 0.9423390001504688, 'min_data_in_leaf': 797}\n",
      "=========================================== Cluster 85 ===========================================\n"
     ]
    },
    {
     "name": "stderr",
     "output_type": "stream",
     "text": [
      "[I 2023-12-16 05:32:38,138] A new study created in memory with name: no-name-f3852770-40f3-4776-8d90-26d287870803\n",
      "[I 2023-12-16 05:32:38,237] Trial 0 finished with value: 100.0 and parameters: {'lambda_l1': 572.5515447853057, 'lambda_l2': 148.9825154513408, 'learning_rate': 0.14686541146273144, 'num_leaves': 145, 'feature_fraction': 0.9926981628480847, 'min_data_in_leaf': 4153}. Best is trial 0 with value: 100.0.\n"
     ]
    },
    {
     "name": "stdout",
     "output_type": "stream",
     "text": [
      "Periodos entrenar: [201809 201810 201811 201812 201901 201902 201903 201904 201905]\n",
      "Periodos validar: [201907]\n",
      "product_id a validar: 580\n",
      "X_train: (5049, 120)\n",
      "y_train: (5049,)\n",
      "\n",
      "X_validate: (580, 120)\n",
      "y_validate: (580,)\n",
      "Optimizacion Bayesiana\n",
      "**************** regression_l1 ****************\n",
      "Training until validation scores don't improve for 84 rounds\n",
      "Early stopping, best iteration is:\n",
      "[1]\tvalid_0's ER: 100\n",
      "Evaluated only: ER\n",
      "**************** regression_l1 ****************\n",
      "Training until validation scores don't improve for 71 rounds\n"
     ]
    },
    {
     "name": "stderr",
     "output_type": "stream",
     "text": [
      "[I 2023-12-16 05:32:38,375] Trial 1 finished with value: 100.0 and parameters: {'lambda_l1': 704.33908637777, 'lambda_l2': 575.7611457076551, 'learning_rate': 0.2273925836186344, 'num_leaves': 800, 'feature_fraction': 0.56675303694104, 'min_data_in_leaf': 1048}. Best is trial 0 with value: 100.0.\n"
     ]
    },
    {
     "name": "stdout",
     "output_type": "stream",
     "text": [
      "Early stopping, best iteration is:\n",
      "[1]\tvalid_0's ER: 100\n",
      "Evaluated only: ER\n",
      "**************** regression_l1 ****************\n",
      "Training until validation scores don't improve for 240 rounds\n",
      "[100]\tvalid_0's ER: 100\n",
      "[200]\tvalid_0's ER: 100\n"
     ]
    },
    {
     "name": "stderr",
     "output_type": "stream",
     "text": [
      "[I 2023-12-16 05:32:38,578] Trial 2 finished with value: 100.0 and parameters: {'lambda_l1': 373.67661256582085, 'lambda_l2': 497.31383514235296, 'learning_rate': 0.026204491838257633, 'num_leaves': 501, 'feature_fraction': 0.5962474007610506, 'min_data_in_leaf': 5263}. Best is trial 0 with value: 100.0.\n",
      "[I 2023-12-16 05:32:38,694] Trial 3 finished with value: 100.0 and parameters: {'lambda_l1': 264.972667311029, 'lambda_l2': 760.203200834784, 'learning_rate': 0.2932743659359171, 'num_leaves': 333, 'feature_fraction': 0.4364229305464994, 'min_data_in_leaf': 1324}. Best is trial 0 with value: 100.0.\n"
     ]
    },
    {
     "name": "stdout",
     "output_type": "stream",
     "text": [
      "Early stopping, best iteration is:\n",
      "[1]\tvalid_0's ER: 100\n",
      "Evaluated only: ER\n",
      "**************** regression_l1 ****************\n",
      "Training until validation scores don't improve for 67 rounds\n",
      "Early stopping, best iteration is:\n",
      "[1]\tvalid_0's ER: 100\n",
      "Evaluated only: ER\n",
      "**************** regression_l1 ****************\n",
      "Training until validation scores don't improve for 69 rounds\n"
     ]
    },
    {
     "name": "stderr",
     "output_type": "stream",
     "text": [
      "[I 2023-12-16 05:32:38,807] Trial 4 finished with value: 100.0 and parameters: {'lambda_l1': 494.1692448152126, 'lambda_l2': 116.21203803600078, 'learning_rate': 0.2592292059465144, 'num_leaves': 678, 'feature_fraction': 0.320908188475195, 'min_data_in_leaf': 2867}. Best is trial 0 with value: 100.0.\n",
      "[I 2023-12-16 05:32:38,917] Trial 5 finished with value: 100.0 and parameters: {'lambda_l1': 814.2731044684439, 'lambda_l2': 41.420248188748346, 'learning_rate': 0.12065720467406131, 'num_leaves': 280, 'feature_fraction': 0.6066454972729259, 'min_data_in_leaf': 7796}. Best is trial 0 with value: 100.0.\n"
     ]
    },
    {
     "name": "stdout",
     "output_type": "stream",
     "text": [
      "Early stopping, best iteration is:\n",
      "[1]\tvalid_0's ER: 100\n",
      "Evaluated only: ER\n",
      "**************** regression_l1 ****************\n",
      "Training until validation scores don't improve for 91 rounds\n",
      "Early stopping, best iteration is:\n",
      "[1]\tvalid_0's ER: 100\n",
      "Evaluated only: ER\n",
      "**************** regression_l1 ****************\n",
      "Training until validation scores don't improve for 114 rounds\n"
     ]
    },
    {
     "name": "stderr",
     "output_type": "stream",
     "text": [
      "[I 2023-12-16 05:32:39,076] Trial 6 finished with value: 100.0 and parameters: {'lambda_l1': 759.9618989380662, 'lambda_l2': 845.8803120561686, 'learning_rate': 0.07712113243809796, 'num_leaves': 447, 'feature_fraction': 0.6715959440932605, 'min_data_in_leaf': 2103}. Best is trial 0 with value: 100.0.\n",
      "[I 2023-12-16 05:32:39,229] Trial 7 finished with value: 100.0 and parameters: {'lambda_l1': 846.3812887783375, 'lambda_l2': 110.0646079575076, 'learning_rate': 0.060131748620723444, 'num_leaves': 758, 'feature_fraction': 0.4607184677267382, 'min_data_in_leaf': 3424}. Best is trial 0 with value: 100.0.\n"
     ]
    },
    {
     "name": "stdout",
     "output_type": "stream",
     "text": [
      "[100]\tvalid_0's ER: 100\n",
      "Early stopping, best iteration is:\n",
      "[1]\tvalid_0's ER: 100\n",
      "Evaluated only: ER\n",
      "**************** regression_l1 ****************\n",
      "Training until validation scores don't improve for 133 rounds\n",
      "[100]\tvalid_0's ER: 100\n",
      "Early stopping, best iteration is:\n",
      "[1]\tvalid_0's ER: 100\n",
      "Evaluated only: ER\n",
      "**************** regression_l1 ****************\n"
     ]
    },
    {
     "name": "stderr",
     "output_type": "stream",
     "text": [
      "[I 2023-12-16 05:32:39,345] Trial 8 finished with value: 100.0 and parameters: {'lambda_l1': 176.72566195956395, 'lambda_l2': 691.5006173733879, 'learning_rate': 0.16919580560887595, 'num_leaves': 323, 'feature_fraction': 0.41949808317663995, 'min_data_in_leaf': 2638}. Best is trial 0 with value: 100.0.\n"
     ]
    },
    {
     "name": "stdout",
     "output_type": "stream",
     "text": [
      "Training until validation scores don't improve for 79 rounds\n",
      "Early stopping, best iteration is:\n",
      "[1]\tvalid_0's ER: 100\n",
      "Evaluated only: ER\n",
      "**************** regression_l1 ****************\n",
      "Training until validation scores don't improve for 67 rounds\n",
      "Early stopping, best iteration is:\n",
      "[1]\tvalid_0's ER: 100\n",
      "Evaluated only: ER\n"
     ]
    },
    {
     "name": "stderr",
     "output_type": "stream",
     "text": [
      "[I 2023-12-16 05:32:39,494] Trial 9 finished with value: 100.0 and parameters: {'lambda_l1': 209.97528400101328, 'lambda_l2': 879.5439462273728, 'learning_rate': 0.2858244020500791, 'num_leaves': 865, 'feature_fraction': 0.5438328148803478, 'min_data_in_leaf': 1818}. Best is trial 0 with value: 100.0.\n"
     ]
    },
    {
     "name": "stdout",
     "output_type": "stream",
     "text": [
      "# Experimentos: 10\n",
      "Mejor experimento: {'lambda_l1': 572.5515447853057, 'lambda_l2': 148.9825154513408, 'learning_rate': 0.14686541146273144, 'num_leaves': 145, 'feature_fraction': 0.9926981628480847, 'min_data_in_leaf': 4153}\n",
      "=========================================== Cluster 86 ===========================================\n",
      "Periodos entrenar: []\n",
      "Periodos validar: [201907]\n",
      "product_id a validar: 1160\n",
      "X_train: (0, 120)\n",
      "y_train: (0,)\n",
      "\n",
      "X_validate: (1160, 120)\n",
      "y_validate: (1160,)\n",
      "=========================================== Cluster 87 ===========================================\n"
     ]
    },
    {
     "name": "stderr",
     "output_type": "stream",
     "text": [
      "[I 2023-12-16 05:32:40,511] A new study created in memory with name: no-name-b68b33b3-2adb-49ce-b8bb-4d5887de2c7e\n",
      "[I 2023-12-16 05:32:40,702] Trial 0 finished with value: 100.0 and parameters: {'lambda_l1': 514.6707423495283, 'lambda_l2': 891.894170805273, 'learning_rate': 0.28458891930610497, 'num_leaves': 798, 'feature_fraction': 0.5533593449346595, 'min_data_in_leaf': 7800}. Best is trial 0 with value: 100.0.\n"
     ]
    },
    {
     "name": "stdout",
     "output_type": "stream",
     "text": [
      "Periodos entrenar: [201902 201903 201904 201905]\n",
      "Periodos validar: [201907]\n",
      "product_id a validar: 1740\n",
      "X_train: (6807, 120)\n",
      "y_train: (6807,)\n",
      "\n",
      "X_validate: (1740, 120)\n",
      "y_validate: (1740,)\n",
      "Optimizacion Bayesiana\n",
      "**************** regression_l1 ****************\n",
      "Training until validation scores don't improve for 67 rounds\n",
      "Early stopping, best iteration is:\n",
      "[1]\tvalid_0's ER: 100\n",
      "Evaluated only: ER\n",
      "**************** regression_l1 ****************\n",
      "Training until validation scores don't improve for 385 rounds\n",
      "[100]\tvalid_0's ER: 100\n",
      "[200]\tvalid_0's ER: 100\n"
     ]
    },
    {
     "name": "stderr",
     "output_type": "stream",
     "text": [
      "[I 2023-12-16 05:32:41,582] Trial 1 finished with value: 100.0 and parameters: {'lambda_l1': 396.42930449589, 'lambda_l2': 211.92268788427137, 'learning_rate': 0.014884928737781786, 'num_leaves': 836, 'feature_fraction': 0.3079881865957922, 'min_data_in_leaf': 2515}. Best is trial 0 with value: 100.0.\n"
     ]
    },
    {
     "name": "stdout",
     "output_type": "stream",
     "text": [
      "[300]\tvalid_0's ER: 100\n",
      "Early stopping, best iteration is:\n",
      "[1]\tvalid_0's ER: 100\n",
      "Evaluated only: ER\n",
      "**************** regression_l1 ****************\n"
     ]
    },
    {
     "name": "stderr",
     "output_type": "stream",
     "text": [
      "[I 2023-12-16 05:32:41,782] Trial 2 finished with value: 100.0 and parameters: {'lambda_l1': 938.3886618223562, 'lambda_l2': 429.62720505630216, 'learning_rate': 0.2872474077329433, 'num_leaves': 406, 'feature_fraction': 0.5422992974317202, 'min_data_in_leaf': 1162}. Best is trial 0 with value: 100.0.\n"
     ]
    },
    {
     "name": "stdout",
     "output_type": "stream",
     "text": [
      "Training until validation scores don't improve for 67 rounds\n",
      "Early stopping, best iteration is:\n",
      "[1]\tvalid_0's ER: 100\n",
      "Evaluated only: ER\n",
      "**************** regression_l1 ****************\n",
      "Training until validation scores don't improve for 75 rounds\n"
     ]
    },
    {
     "name": "stderr",
     "output_type": "stream",
     "text": [
      "[I 2023-12-16 05:32:41,952] Trial 3 finished with value: 100.0 and parameters: {'lambda_l1': 146.90423074442594, 'lambda_l2': 798.6644689045567, 'learning_rate': 0.19814944891649477, 'num_leaves': 624, 'feature_fraction': 0.708492006634045, 'min_data_in_leaf': 3727}. Best is trial 0 with value: 100.0.\n",
      "[I 2023-12-16 05:32:42,105] Trial 4 finished with value: 100.0 and parameters: {'lambda_l1': 327.7102337725456, 'lambda_l2': 570.6416389774457, 'learning_rate': 0.23018336499357217, 'num_leaves': 386, 'feature_fraction': 0.9781019101929405, 'min_data_in_leaf': 4023}. Best is trial 0 with value: 100.0.\n"
     ]
    },
    {
     "name": "stdout",
     "output_type": "stream",
     "text": [
      "Early stopping, best iteration is:\n",
      "[1]\tvalid_0's ER: 100\n",
      "Evaluated only: ER\n",
      "**************** regression_l1 ****************\n",
      "Training until validation scores don't improve for 71 rounds\n",
      "Early stopping, best iteration is:\n",
      "[1]\tvalid_0's ER: 100\n",
      "Evaluated only: ER\n",
      "**************** regression_l1 ****************\n"
     ]
    },
    {
     "name": "stderr",
     "output_type": "stream",
     "text": [
      "[I 2023-12-16 05:32:42,255] Trial 5 finished with value: 100.0 and parameters: {'lambda_l1': 951.8781233059075, 'lambda_l2': 861.0928489135597, 'learning_rate': 0.24042088746721688, 'num_leaves': 216, 'feature_fraction': 0.6621706761391143, 'min_data_in_leaf': 3570}. Best is trial 0 with value: 100.0.\n"
     ]
    },
    {
     "name": "stdout",
     "output_type": "stream",
     "text": [
      "Training until validation scores don't improve for 70 rounds\n",
      "Early stopping, best iteration is:\n",
      "[1]\tvalid_0's ER: 100\n",
      "Evaluated only: ER\n",
      "**************** regression_l1 ****************\n",
      "Training until validation scores don't improve for 68 rounds\n"
     ]
    },
    {
     "name": "stderr",
     "output_type": "stream",
     "text": [
      "[I 2023-12-16 05:32:42,416] Trial 6 finished with value: 100.0 and parameters: {'lambda_l1': 14.275089753077562, 'lambda_l2': 532.4789691685035, 'learning_rate': 0.2737583953292661, 'num_leaves': 819, 'feature_fraction': 0.9398552539059637, 'min_data_in_leaf': 6875}. Best is trial 0 with value: 100.0.\n"
     ]
    },
    {
     "name": "stdout",
     "output_type": "stream",
     "text": [
      "Early stopping, best iteration is:\n",
      "[1]\tvalid_0's ER: 100\n",
      "Evaluated only: ER\n",
      "**************** regression_l1 ****************\n",
      "Training until validation scores don't improve for 67 rounds\n"
     ]
    },
    {
     "name": "stderr",
     "output_type": "stream",
     "text": [
      "[I 2023-12-16 05:32:42,641] Trial 7 finished with value: 100.0 and parameters: {'lambda_l1': 137.83361972991094, 'lambda_l2': 876.9532196370005, 'learning_rate': 0.2796106984321469, 'num_leaves': 787, 'feature_fraction': 0.555296452182931, 'min_data_in_leaf': 1106}. Best is trial 0 with value: 100.0.\n"
     ]
    },
    {
     "name": "stdout",
     "output_type": "stream",
     "text": [
      "Early stopping, best iteration is:\n",
      "[1]\tvalid_0's ER: 100\n",
      "Evaluated only: ER\n",
      "**************** regression_l1 ****************\n",
      "Training until validation scores don't improve for 70 rounds\n",
      "Early stopping, best iteration is:\n",
      "[1]\tvalid_0's ER: 100\n",
      "Evaluated only: ER\n"
     ]
    },
    {
     "name": "stderr",
     "output_type": "stream",
     "text": [
      "[I 2023-12-16 05:32:42,830] Trial 8 finished with value: 100.0 and parameters: {'lambda_l1': 216.4515771228609, 'lambda_l2': 546.8725656674427, 'learning_rate': 0.23867776226089255, 'num_leaves': 410, 'feature_fraction': 0.2734024458115367, 'min_data_in_leaf': 2440}. Best is trial 0 with value: 100.0.\n"
     ]
    },
    {
     "name": "stdout",
     "output_type": "stream",
     "text": [
      "**************** regression_l1 ****************\n",
      "Training until validation scores don't improve for 180 rounds\n",
      "[100]\tvalid_0's ER: 100\n"
     ]
    },
    {
     "name": "stderr",
     "output_type": "stream",
     "text": [
      "[I 2023-12-16 05:32:43,162] Trial 9 finished with value: 100.0 and parameters: {'lambda_l1': 154.27772320349231, 'lambda_l2': 487.3391147812822, 'learning_rate': 0.03818276342738068, 'num_leaves': 824, 'feature_fraction': 0.3332533932468831, 'min_data_in_leaf': 5575}. Best is trial 0 with value: 100.0.\n"
     ]
    },
    {
     "name": "stdout",
     "output_type": "stream",
     "text": [
      "Early stopping, best iteration is:\n",
      "[1]\tvalid_0's ER: 100\n",
      "Evaluated only: ER\n",
      "# Experimentos: 10\n",
      "Mejor experimento: {'lambda_l1': 514.6707423495283, 'lambda_l2': 891.894170805273, 'learning_rate': 0.28458891930610497, 'num_leaves': 798, 'feature_fraction': 0.5533593449346595, 'min_data_in_leaf': 7800}\n",
      "=========================================== Cluster 88 ===========================================\n"
     ]
    },
    {
     "name": "stderr",
     "output_type": "stream",
     "text": [
      "[I 2023-12-16 05:32:44,339] A new study created in memory with name: no-name-e7a14ca7-6260-41d8-b82b-bb8f7bc73ebb\n"
     ]
    },
    {
     "name": "stdout",
     "output_type": "stream",
     "text": [
      "Periodos entrenar: [201711 201712 201801 201802 201803 201804 201805 201806 201807 201808\n",
      " 201809 201810 201811 201812 201901 201902 201903 201904 201905]\n",
      "Periodos validar: [201907]\n",
      "product_id a validar: 1740\n",
      "X_train: (31218, 120)\n",
      "y_train: (31218,)\n",
      "\n",
      "X_validate: (1740, 120)\n",
      "y_validate: (1740,)\n",
      "Optimizacion Bayesiana\n",
      "**************** regression_l1 ****************\n",
      "Training until validation scores don't improve for 83 rounds\n"
     ]
    },
    {
     "name": "stderr",
     "output_type": "stream",
     "text": [
      "[I 2023-12-16 05:32:44,944] Trial 0 finished with value: 100.0 and parameters: {'lambda_l1': 273.91921158594766, 'lambda_l2': 105.65477576309834, 'learning_rate': 0.15084463285199504, 'num_leaves': 206, 'feature_fraction': 0.6161060848151042, 'min_data_in_leaf': 4995}. Best is trial 0 with value: 100.0.\n"
     ]
    },
    {
     "name": "stdout",
     "output_type": "stream",
     "text": [
      "Early stopping, best iteration is:\n",
      "[1]\tvalid_0's ER: 100\n",
      "Evaluated only: ER\n",
      "**************** regression_l1 ****************\n",
      "Training until validation scores don't improve for 114 rounds\n"
     ]
    },
    {
     "name": "stderr",
     "output_type": "stream",
     "text": [
      "[I 2023-12-16 05:32:45,561] Trial 1 finished with value: 100.0 and parameters: {'lambda_l1': 643.9727814522704, 'lambda_l2': 403.84134349784637, 'learning_rate': 0.07781306685895888, 'num_leaves': 125, 'feature_fraction': 0.44923754104309643, 'min_data_in_leaf': 3270}. Best is trial 0 with value: 100.0.\n"
     ]
    },
    {
     "name": "stdout",
     "output_type": "stream",
     "text": [
      "[100]\tvalid_0's ER: 100\n",
      "Early stopping, best iteration is:\n",
      "[1]\tvalid_0's ER: 100\n",
      "Evaluated only: ER\n",
      "**************** regression_l1 ****************\n",
      "Training until validation scores don't improve for 85 rounds\n"
     ]
    },
    {
     "name": "stderr",
     "output_type": "stream",
     "text": [
      "[I 2023-12-16 05:32:46,030] Trial 2 finished with value: 100.0 and parameters: {'lambda_l1': 320.89214553044934, 'lambda_l2': 918.9835321410445, 'learning_rate': 0.14010836251052175, 'num_leaves': 894, 'feature_fraction': 0.23812087092052414, 'min_data_in_leaf': 5672}. Best is trial 0 with value: 100.0.\n"
     ]
    },
    {
     "name": "stdout",
     "output_type": "stream",
     "text": [
      "Early stopping, best iteration is:\n",
      "[1]\tvalid_0's ER: 100\n",
      "Evaluated only: ER\n",
      "**************** regression_l1 ****************\n",
      "Training until validation scores don't improve for 66 rounds\n"
     ]
    },
    {
     "name": "stderr",
     "output_type": "stream",
     "text": [
      "[I 2023-12-16 05:32:46,541] Trial 3 finished with value: 100.0 and parameters: {'lambda_l1': 415.4272874320676, 'lambda_l2': 488.3069861290221, 'learning_rate': 0.2977567705428008, 'num_leaves': 846, 'feature_fraction': 0.8603412625247291, 'min_data_in_leaf': 5191}. Best is trial 0 with value: 100.0.\n"
     ]
    },
    {
     "name": "stdout",
     "output_type": "stream",
     "text": [
      "Early stopping, best iteration is:\n",
      "[1]\tvalid_0's ER: 100\n",
      "Evaluated only: ER\n",
      "**************** regression_l1 ****************\n",
      "Training until validation scores don't improve for 78 rounds\n"
     ]
    },
    {
     "name": "stderr",
     "output_type": "stream",
     "text": [
      "[I 2023-12-16 05:32:47,075] Trial 4 finished with value: 100.0 and parameters: {'lambda_l1': 482.5213105798215, 'lambda_l2': 577.0684385369361, 'learning_rate': 0.17416351685040352, 'num_leaves': 57, 'feature_fraction': 0.9756702056848836, 'min_data_in_leaf': 6829}. Best is trial 0 with value: 100.0.\n"
     ]
    },
    {
     "name": "stdout",
     "output_type": "stream",
     "text": [
      "Early stopping, best iteration is:\n",
      "[1]\tvalid_0's ER: 100\n",
      "Evaluated only: ER\n",
      "**************** regression_l1 ****************\n",
      "Training until validation scores don't improve for 137 rounds\n"
     ]
    },
    {
     "name": "stderr",
     "output_type": "stream",
     "text": [
      "[I 2023-12-16 05:32:47,843] Trial 5 finished with value: 100.0 and parameters: {'lambda_l1': 665.5271698059572, 'lambda_l2': 985.7023530855607, 'learning_rate': 0.05723704256031486, 'num_leaves': 687, 'feature_fraction': 0.6083090662416659, 'min_data_in_leaf': 7867}. Best is trial 0 with value: 100.0.\n"
     ]
    },
    {
     "name": "stdout",
     "output_type": "stream",
     "text": [
      "[100]\tvalid_0's ER: 100\n",
      "Early stopping, best iteration is:\n",
      "[1]\tvalid_0's ER: 100\n",
      "Evaluated only: ER\n",
      "**************** regression_l1 ****************\n",
      "Training until validation scores don't improve for 140 rounds\n",
      "[100]\tvalid_0's ER: 100\n",
      "Early stopping, best iteration is:\n",
      "[1]\tvalid_0's ER: 100\n",
      "Evaluated only: ER\n"
     ]
    },
    {
     "name": "stderr",
     "output_type": "stream",
     "text": [
      "[I 2023-12-16 05:32:48,700] Trial 6 finished with value: 100.0 and parameters: {'lambda_l1': 352.59198554254846, 'lambda_l2': 698.4054032985122, 'learning_rate': 0.055246884719875454, 'num_leaves': 661, 'feature_fraction': 0.7873600845993809, 'min_data_in_leaf': 3459}. Best is trial 0 with value: 100.0.\n"
     ]
    },
    {
     "name": "stdout",
     "output_type": "stream",
     "text": [
      "**************** regression_l1 ****************\n",
      "Training until validation scores don't improve for 101 rounds\n"
     ]
    },
    {
     "name": "stderr",
     "output_type": "stream",
     "text": [
      "[I 2023-12-16 05:32:49,329] Trial 7 finished with value: 100.0 and parameters: {'lambda_l1': 553.7556023854701, 'lambda_l2': 570.1186230368554, 'learning_rate': 0.09650984029129087, 'num_leaves': 431, 'feature_fraction': 0.7378930105338131, 'min_data_in_leaf': 6742}. Best is trial 0 with value: 100.0.\n"
     ]
    },
    {
     "name": "stdout",
     "output_type": "stream",
     "text": [
      "[100]\tvalid_0's ER: 100\n",
      "Early stopping, best iteration is:\n",
      "[1]\tvalid_0's ER: 100\n",
      "Evaluated only: ER\n",
      "**************** regression_l1 ****************\n",
      "Training until validation scores don't improve for 80 rounds\n"
     ]
    },
    {
     "name": "stderr",
     "output_type": "stream",
     "text": [
      "[I 2023-12-16 05:32:50,074] Trial 8 finished with value: 100.0 and parameters: {'lambda_l1': 620.4995695958377, 'lambda_l2': 317.1264582027642, 'learning_rate': 0.16623102604471568, 'num_leaves': 99, 'feature_fraction': 0.6621794746902985, 'min_data_in_leaf': 241}. Best is trial 0 with value: 100.0.\n"
     ]
    },
    {
     "name": "stdout",
     "output_type": "stream",
     "text": [
      "Early stopping, best iteration is:\n",
      "[1]\tvalid_0's ER: 100\n",
      "Evaluated only: ER\n",
      "**************** regression_l1 ****************\n",
      "Training until validation scores don't improve for 104 rounds\n"
     ]
    },
    {
     "name": "stderr",
     "output_type": "stream",
     "text": [
      "[I 2023-12-16 05:32:50,627] Trial 9 finished with value: 100.0 and parameters: {'lambda_l1': 942.7552637529877, 'lambda_l2': 974.4256920537263, 'learning_rate': 0.09254514942253474, 'num_leaves': 30, 'feature_fraction': 0.44849747075892116, 'min_data_in_leaf': 4174}. Best is trial 0 with value: 100.0.\n"
     ]
    },
    {
     "name": "stdout",
     "output_type": "stream",
     "text": [
      "[100]\tvalid_0's ER: 100\n",
      "Early stopping, best iteration is:\n",
      "[1]\tvalid_0's ER: 100\n",
      "Evaluated only: ER\n",
      "# Experimentos: 10\n",
      "Mejor experimento: {'lambda_l1': 273.91921158594766, 'lambda_l2': 105.65477576309834, 'learning_rate': 0.15084463285199504, 'num_leaves': 206, 'feature_fraction': 0.6161060848151042, 'min_data_in_leaf': 4995}\n",
      "=========================================== Cluster 89 ===========================================\n"
     ]
    },
    {
     "name": "stderr",
     "output_type": "stream",
     "text": [
      "[I 2023-12-16 05:32:52,471] A new study created in memory with name: no-name-795e4ce9-056e-4393-bb1a-65640fbd4e29\n"
     ]
    },
    {
     "name": "stdout",
     "output_type": "stream",
     "text": [
      "Periodos entrenar: [201701 201702 201703 201704 201705 201706 201707 201708 201709 201710\n",
      " 201711 201712 201801 201802 201803 201804 201805 201806 201807 201808\n",
      " 201809 201810 201811 201812 201901 201902 201903 201904 201905]\n",
      "Periodos validar: [201907]\n",
      "product_id a validar: 2320\n",
      "X_train: (61828, 120)\n",
      "y_train: (61828,)\n",
      "\n",
      "X_validate: (2320, 120)\n",
      "y_validate: (2320,)\n",
      "Optimizacion Bayesiana\n",
      "**************** regression_l1 ****************\n",
      "Training until validation scores don't improve for 75 rounds\n"
     ]
    },
    {
     "name": "stderr",
     "output_type": "stream",
     "text": [
      "[I 2023-12-16 05:32:53,265] Trial 0 finished with value: 100.0 and parameters: {'lambda_l1': 885.8940650870369, 'lambda_l2': 629.5781912349194, 'learning_rate': 0.19987496819240927, 'num_leaves': 775, 'feature_fraction': 0.37464279151046925, 'min_data_in_leaf': 2225}. Best is trial 0 with value: 100.0.\n"
     ]
    },
    {
     "name": "stdout",
     "output_type": "stream",
     "text": [
      "Early stopping, best iteration is:\n",
      "[1]\tvalid_0's ER: 100\n",
      "Evaluated only: ER\n",
      "**************** regression_l1 ****************\n",
      "Training until validation scores don't improve for 69 rounds\n"
     ]
    },
    {
     "name": "stderr",
     "output_type": "stream",
     "text": [
      "[I 2023-12-16 05:32:53,946] Trial 1 finished with value: 100.0 and parameters: {'lambda_l1': 242.52831859622714, 'lambda_l2': 939.8280273610391, 'learning_rate': 0.25145590370786924, 'num_leaves': 291, 'feature_fraction': 0.27489471626350404, 'min_data_in_leaf': 5949}. Best is trial 0 with value: 100.0.\n"
     ]
    },
    {
     "name": "stdout",
     "output_type": "stream",
     "text": [
      "Early stopping, best iteration is:\n",
      "[1]\tvalid_0's ER: 100\n",
      "Evaluated only: ER\n",
      "**************** regression_l1 ****************\n",
      "Training until validation scores don't improve for 72 rounds\n"
     ]
    },
    {
     "name": "stderr",
     "output_type": "stream",
     "text": [
      "[I 2023-12-16 05:32:54,835] Trial 2 finished with value: 100.0 and parameters: {'lambda_l1': 231.3854889896858, 'lambda_l2': 168.4013623235774, 'learning_rate': 0.22282397253221803, 'num_leaves': 761, 'feature_fraction': 0.8358619666183913, 'min_data_in_leaf': 7772}. Best is trial 0 with value: 100.0.\n"
     ]
    },
    {
     "name": "stdout",
     "output_type": "stream",
     "text": [
      "Early stopping, best iteration is:\n",
      "[1]\tvalid_0's ER: 100\n",
      "Evaluated only: ER\n",
      "**************** regression_l1 ****************\n",
      "Training until validation scores don't improve for 105 rounds\n"
     ]
    },
    {
     "name": "stderr",
     "output_type": "stream",
     "text": [
      "[I 2023-12-16 05:32:55,816] Trial 3 finished with value: 100.0 and parameters: {'lambda_l1': 215.4638074986951, 'lambda_l2': 259.07524559426867, 'learning_rate': 0.09042124811424429, 'num_leaves': 116, 'feature_fraction': 0.48444293210949035, 'min_data_in_leaf': 3590}. Best is trial 0 with value: 100.0.\n"
     ]
    },
    {
     "name": "stdout",
     "output_type": "stream",
     "text": [
      "[100]\tvalid_0's ER: 100\n",
      "Early stopping, best iteration is:\n",
      "[1]\tvalid_0's ER: 100\n",
      "Evaluated only: ER\n",
      "**************** regression_l1 ****************\n",
      "Training until validation scores don't improve for 78 rounds\n"
     ]
    },
    {
     "name": "stderr",
     "output_type": "stream",
     "text": [
      "[I 2023-12-16 05:32:56,729] Trial 4 finished with value: 100.0 and parameters: {'lambda_l1': 833.0552926041602, 'lambda_l2': 14.537222260099792, 'learning_rate': 0.17244715499134075, 'num_leaves': 569, 'feature_fraction': 0.6603404997320423, 'min_data_in_leaf': 6314}. Best is trial 0 with value: 100.0.\n"
     ]
    },
    {
     "name": "stdout",
     "output_type": "stream",
     "text": [
      "Early stopping, best iteration is:\n",
      "[1]\tvalid_0's ER: 100\n",
      "Evaluated only: ER\n",
      "**************** regression_l1 ****************\n",
      "Training until validation scores don't improve for 75 rounds\n"
     ]
    },
    {
     "name": "stderr",
     "output_type": "stream",
     "text": [
      "[I 2023-12-16 05:32:57,523] Trial 5 finished with value: 100.0 and parameters: {'lambda_l1': 382.35758012389374, 'lambda_l2': 408.0820199587596, 'learning_rate': 0.19924715462423553, 'num_leaves': 702, 'feature_fraction': 0.4231376663323195, 'min_data_in_leaf': 5290}. Best is trial 0 with value: 100.0.\n"
     ]
    },
    {
     "name": "stdout",
     "output_type": "stream",
     "text": [
      "Early stopping, best iteration is:\n",
      "[1]\tvalid_0's ER: 100\n",
      "Evaluated only: ER\n",
      "**************** regression_l1 ****************\n",
      "Training until validation scores don't improve for 85 rounds\n"
     ]
    },
    {
     "name": "stderr",
     "output_type": "stream",
     "text": [
      "[I 2023-12-16 05:32:58,273] Trial 6 finished with value: 100.0 and parameters: {'lambda_l1': 485.5022099940216, 'lambda_l2': 747.409313604361, 'learning_rate': 0.1427414861999838, 'num_leaves': 185, 'feature_fraction': 0.2735540282753234, 'min_data_in_leaf': 5573}. Best is trial 0 with value: 100.0.\n"
     ]
    },
    {
     "name": "stdout",
     "output_type": "stream",
     "text": [
      "Early stopping, best iteration is:\n",
      "[1]\tvalid_0's ER: 100\n",
      "Evaluated only: ER\n",
      "**************** regression_l1 ****************\n",
      "Training until validation scores don't improve for 68 rounds\n"
     ]
    },
    {
     "name": "stderr",
     "output_type": "stream",
     "text": [
      "[I 2023-12-16 05:32:59,106] Trial 7 finished with value: 100.0 and parameters: {'lambda_l1': 946.3942022873877, 'lambda_l2': 761.9633035807142, 'learning_rate': 0.26672130180703046, 'num_leaves': 971, 'feature_fraction': 0.5777035918835788, 'min_data_in_leaf': 3684}. Best is trial 0 with value: 100.0.\n"
     ]
    },
    {
     "name": "stdout",
     "output_type": "stream",
     "text": [
      "Early stopping, best iteration is:\n",
      "[1]\tvalid_0's ER: 100\n",
      "Evaluated only: ER\n",
      "**************** regression_l1 ****************\n",
      "Training until validation scores don't improve for 88 rounds\n"
     ]
    },
    {
     "name": "stderr",
     "output_type": "stream",
     "text": [
      "[I 2023-12-16 05:32:59,867] Trial 8 finished with value: 100.0 and parameters: {'lambda_l1': 169.30410424165697, 'lambda_l2': 607.9639458017924, 'learning_rate': 0.13008312804288324, 'num_leaves': 605, 'feature_fraction': 0.24227292658777683, 'min_data_in_leaf': 3012}. Best is trial 0 with value: 100.0.\n"
     ]
    },
    {
     "name": "stdout",
     "output_type": "stream",
     "text": [
      "Early stopping, best iteration is:\n",
      "[1]\tvalid_0's ER: 100\n",
      "Evaluated only: ER\n",
      "**************** regression_l1 ****************\n",
      "Training until validation scores don't improve for 66 rounds\n"
     ]
    },
    {
     "name": "stderr",
     "output_type": "stream",
     "text": [
      "[I 2023-12-16 05:33:00,689] Trial 9 finished with value: 100.0 and parameters: {'lambda_l1': 175.0524789894773, 'lambda_l2': 239.83414965458783, 'learning_rate': 0.297559042397266, 'num_leaves': 134, 'feature_fraction': 0.5495401912052886, 'min_data_in_leaf': 4204}. Best is trial 0 with value: 100.0.\n"
     ]
    },
    {
     "name": "stdout",
     "output_type": "stream",
     "text": [
      "Early stopping, best iteration is:\n",
      "[1]\tvalid_0's ER: 100\n",
      "Evaluated only: ER\n",
      "# Experimentos: 10\n",
      "Mejor experimento: {'lambda_l1': 885.8940650870369, 'lambda_l2': 629.5781912349194, 'learning_rate': 0.19987496819240927, 'num_leaves': 775, 'feature_fraction': 0.37464279151046925, 'min_data_in_leaf': 2225}\n",
      "=========================================== Cluster 90 ===========================================\n"
     ]
    },
    {
     "name": "stderr",
     "output_type": "stream",
     "text": [
      "[I 2023-12-16 05:33:01,574] A new study created in memory with name: no-name-477f1478-54fb-4dbd-a599-9b6aff488dc2\n"
     ]
    },
    {
     "name": "stdout",
     "output_type": "stream",
     "text": [
      "Periodos entrenar: [201809 201810 201811 201812 201901 201902 201903 201904 201905]\n",
      "Periodos validar: [201907]\n",
      "product_id a validar: 2320\n",
      "X_train: (20196, 120)\n",
      "y_train: (20196,)\n",
      "\n",
      "X_validate: (2320, 120)\n",
      "y_validate: (2320,)\n",
      "Optimizacion Bayesiana\n",
      "**************** regression_l1 ****************\n",
      "Training until validation scores don't improve for 317 rounds\n",
      "[100]\tvalid_0's ER: 100\n",
      "[200]\tvalid_0's ER: 100\n"
     ]
    },
    {
     "name": "stderr",
     "output_type": "stream",
     "text": [
      "[I 2023-12-16 05:33:02,620] Trial 0 finished with value: 100.0 and parameters: {'lambda_l1': 151.36362661022895, 'lambda_l2': 576.0855958971307, 'learning_rate': 0.018684126190372595, 'num_leaves': 95, 'feature_fraction': 0.5277360850883113, 'min_data_in_leaf': 3768}. Best is trial 0 with value: 100.0.\n"
     ]
    },
    {
     "name": "stdout",
     "output_type": "stream",
     "text": [
      "[300]\tvalid_0's ER: 100\n",
      "Early stopping, best iteration is:\n",
      "[1]\tvalid_0's ER: 100\n",
      "Evaluated only: ER\n",
      "**************** regression_l1 ****************\n"
     ]
    },
    {
     "name": "stderr",
     "output_type": "stream",
     "text": [
      "[I 2023-12-16 05:33:02,956] Trial 1 finished with value: 100.0 and parameters: {'lambda_l1': 413.52118857429974, 'lambda_l2': 459.1993180782474, 'learning_rate': 0.1999156314852656, 'num_leaves': 1017, 'feature_fraction': 0.37084218452571094, 'min_data_in_leaf': 3754}. Best is trial 0 with value: 100.0.\n"
     ]
    },
    {
     "name": "stdout",
     "output_type": "stream",
     "text": [
      "Training until validation scores don't improve for 75 rounds\n",
      "Early stopping, best iteration is:\n",
      "[1]\tvalid_0's ER: 100\n",
      "Evaluated only: ER\n",
      "**************** regression_l1 ****************\n"
     ]
    },
    {
     "name": "stderr",
     "output_type": "stream",
     "text": [
      "[I 2023-12-16 05:33:03,306] Trial 2 finished with value: 100.0 and parameters: {'lambda_l1': 832.9255263248747, 'lambda_l2': 741.1190071692245, 'learning_rate': 0.15318031575709887, 'num_leaves': 305, 'feature_fraction': 0.7398730031690175, 'min_data_in_leaf': 1930}. Best is trial 0 with value: 100.0.\n"
     ]
    },
    {
     "name": "stdout",
     "output_type": "stream",
     "text": [
      "Training until validation scores don't improve for 82 rounds\n",
      "Early stopping, best iteration is:\n",
      "[1]\tvalid_0's ER: 100\n",
      "Evaluated only: ER\n",
      "**************** regression_l1 ****************\n",
      "Training until validation scores don't improve for 79 rounds\n"
     ]
    },
    {
     "name": "stderr",
     "output_type": "stream",
     "text": [
      "[I 2023-12-16 05:33:03,735] Trial 3 finished with value: 100.0 and parameters: {'lambda_l1': 67.01763178161302, 'lambda_l2': 251.7606318525487, 'learning_rate': 0.16909412906800897, 'num_leaves': 151, 'feature_fraction': 0.7288990878111632, 'min_data_in_leaf': 2913}. Best is trial 0 with value: 100.0.\n"
     ]
    },
    {
     "name": "stdout",
     "output_type": "stream",
     "text": [
      "Early stopping, best iteration is:\n",
      "[1]\tvalid_0's ER: 100\n",
      "Evaluated only: ER\n",
      "**************** regression_l1 ****************\n",
      "Training until validation scores don't improve for 73 rounds\n"
     ]
    },
    {
     "name": "stderr",
     "output_type": "stream",
     "text": [
      "[I 2023-12-16 05:33:04,074] Trial 4 finished with value: 100.0 and parameters: {'lambda_l1': 781.2821627226326, 'lambda_l2': 824.8740188782833, 'learning_rate': 0.2100626680959205, 'num_leaves': 254, 'feature_fraction': 0.59753235042792, 'min_data_in_leaf': 6630}. Best is trial 0 with value: 100.0.\n"
     ]
    },
    {
     "name": "stdout",
     "output_type": "stream",
     "text": [
      "Early stopping, best iteration is:\n",
      "[1]\tvalid_0's ER: 100\n",
      "Evaluated only: ER\n",
      "**************** regression_l1 ****************\n",
      "Training until validation scores don't improve for 103 rounds\n"
     ]
    },
    {
     "name": "stderr",
     "output_type": "stream",
     "text": [
      "[I 2023-12-16 05:33:04,470] Trial 5 finished with value: 100.0 and parameters: {'lambda_l1': 655.0768334479375, 'lambda_l2': 289.8839992714858, 'learning_rate': 0.0929569149519584, 'num_leaves': 597, 'feature_fraction': 0.5438756313310686, 'min_data_in_leaf': 3201}. Best is trial 0 with value: 100.0.\n"
     ]
    },
    {
     "name": "stdout",
     "output_type": "stream",
     "text": [
      "[100]\tvalid_0's ER: 100\n",
      "Early stopping, best iteration is:\n",
      "[1]\tvalid_0's ER: 100\n",
      "Evaluated only: ER\n",
      "**************** regression_l1 ****************\n",
      "Training until validation scores don't improve for 121 rounds\n"
     ]
    },
    {
     "name": "stderr",
     "output_type": "stream",
     "text": [
      "[I 2023-12-16 05:33:04,927] Trial 6 finished with value: 100.0 and parameters: {'lambda_l1': 703.1507072196489, 'lambda_l2': 334.7516470110824, 'learning_rate': 0.07008681087152983, 'num_leaves': 626, 'feature_fraction': 0.5430142281056909, 'min_data_in_leaf': 1594}. Best is trial 0 with value: 100.0.\n"
     ]
    },
    {
     "name": "stdout",
     "output_type": "stream",
     "text": [
      "[100]\tvalid_0's ER: 100\n",
      "Early stopping, best iteration is:\n",
      "[1]\tvalid_0's ER: 100\n",
      "Evaluated only: ER\n",
      "**************** regression_l1 ****************\n",
      "Training until validation scores don't improve for 133 rounds\n"
     ]
    },
    {
     "name": "stderr",
     "output_type": "stream",
     "text": [
      "[I 2023-12-16 05:33:05,377] Trial 7 finished with value: 100.0 and parameters: {'lambda_l1': 855.9675840880532, 'lambda_l2': 703.907096574278, 'learning_rate': 0.05968978828414036, 'num_leaves': 190, 'feature_fraction': 0.4726818414611691, 'min_data_in_leaf': 3543}. Best is trial 0 with value: 100.0.\n"
     ]
    },
    {
     "name": "stdout",
     "output_type": "stream",
     "text": [
      "[100]\tvalid_0's ER: 100\n",
      "Early stopping, best iteration is:\n",
      "[1]\tvalid_0's ER: 100\n",
      "Evaluated only: ER\n",
      "**************** regression_l1 ****************\n",
      "Training until validation scores don't improve for 95 rounds\n"
     ]
    },
    {
     "name": "stderr",
     "output_type": "stream",
     "text": [
      "[I 2023-12-16 05:33:05,866] Trial 8 finished with value: 100.0 and parameters: {'lambda_l1': 160.4449597817166, 'lambda_l2': 455.42021366997534, 'learning_rate': 0.1088877599106846, 'num_leaves': 15, 'feature_fraction': 0.7356315958003388, 'min_data_in_leaf': 498}. Best is trial 0 with value: 100.0.\n"
     ]
    },
    {
     "name": "stdout",
     "output_type": "stream",
     "text": [
      "Early stopping, best iteration is:\n",
      "[1]\tvalid_0's ER: 100\n",
      "Evaluated only: ER\n",
      "**************** regression_l1 ****************\n",
      "Training until validation scores don't improve for 204 rounds\n",
      "[100]\tvalid_0's ER: 100\n"
     ]
    },
    {
     "name": "stderr",
     "output_type": "stream",
     "text": [
      "[I 2023-12-16 05:33:06,494] Trial 9 finished with value: 100.0 and parameters: {'lambda_l1': 605.3707546834861, 'lambda_l2': 402.34074966917746, 'learning_rate': 0.03245639551641973, 'num_leaves': 67, 'feature_fraction': 0.5861611756327033, 'min_data_in_leaf': 7278}. Best is trial 0 with value: 100.0.\n"
     ]
    },
    {
     "name": "stdout",
     "output_type": "stream",
     "text": [
      "[200]\tvalid_0's ER: 100\n",
      "Early stopping, best iteration is:\n",
      "[1]\tvalid_0's ER: 100\n",
      "Evaluated only: ER\n",
      "# Experimentos: 10\n",
      "Mejor experimento: {'lambda_l1': 151.36362661022895, 'lambda_l2': 576.0855958971307, 'learning_rate': 0.018684126190372595, 'num_leaves': 95, 'feature_fraction': 0.5277360850883113, 'min_data_in_leaf': 3768}\n",
      "=========================================== Cluster 91 ===========================================\n"
     ]
    },
    {
     "name": "stderr",
     "output_type": "stream",
     "text": [
      "[I 2023-12-16 05:33:07,491] A new study created in memory with name: no-name-f9fa414d-ab94-463c-b0e7-b118f7f60d57\n"
     ]
    },
    {
     "name": "stdout",
     "output_type": "stream",
     "text": [
      "Periodos entrenar: [201701 201702 201703 201704 201705 201706 201707 201708 201709 201710\n",
      " 201711 201712 201801 201802 201803 201804 201805 201806 201807 201808\n",
      " 201809 201810 201811 201812 201901 201902 201903 201904 201905]\n",
      "Periodos validar: [201907]\n",
      "product_id a validar: 1160\n",
      "X_train: (30914, 120)\n",
      "y_train: (30914,)\n",
      "\n",
      "X_validate: (1160, 120)\n",
      "y_validate: (1160,)\n",
      "Optimizacion Bayesiana\n",
      "**************** regression_l1 ****************\n",
      "Training until validation scores don't improve for 85 rounds\n"
     ]
    },
    {
     "name": "stderr",
     "output_type": "stream",
     "text": [
      "[I 2023-12-16 05:33:08,019] Trial 0 finished with value: 100.0 and parameters: {'lambda_l1': 253.85851276211636, 'lambda_l2': 301.83280709281524, 'learning_rate': 0.14093866540324018, 'num_leaves': 984, 'feature_fraction': 0.5920361855096161, 'min_data_in_leaf': 1266}. Best is trial 0 with value: 100.0.\n"
     ]
    },
    {
     "name": "stdout",
     "output_type": "stream",
     "text": [
      "Early stopping, best iteration is:\n",
      "[1]\tvalid_0's ER: 100\n",
      "Evaluated only: ER\n",
      "**************** regression_l1 ****************\n"
     ]
    },
    {
     "name": "stderr",
     "output_type": "stream",
     "text": [
      "[I 2023-12-16 05:33:08,352] Trial 1 finished with value: 100.0 and parameters: {'lambda_l1': 785.9756332065313, 'lambda_l2': 99.9153415079993, 'learning_rate': 0.2962796019554164, 'num_leaves': 623, 'feature_fraction': 0.3166473457006473, 'min_data_in_leaf': 6487}. Best is trial 0 with value: 100.0.\n"
     ]
    },
    {
     "name": "stdout",
     "output_type": "stream",
     "text": [
      "Training until validation scores don't improve for 66 rounds\n",
      "Early stopping, best iteration is:\n",
      "[1]\tvalid_0's ER: 100\n",
      "Evaluated only: ER\n",
      "**************** regression_l1 ****************\n"
     ]
    },
    {
     "name": "stderr",
     "output_type": "stream",
     "text": [
      "[I 2023-12-16 05:33:08,743] Trial 2 finished with value: 100.0 and parameters: {'lambda_l1': 544.0159739522106, 'lambda_l2': 308.66719521183194, 'learning_rate': 0.29925733448901226, 'num_leaves': 33, 'feature_fraction': 0.4906997000666806, 'min_data_in_leaf': 5379}. Best is trial 0 with value: 100.0.\n"
     ]
    },
    {
     "name": "stdout",
     "output_type": "stream",
     "text": [
      "Training until validation scores don't improve for 66 rounds\n",
      "Early stopping, best iteration is:\n",
      "[1]\tvalid_0's ER: 100\n",
      "Evaluated only: ER\n",
      "**************** regression_l1 ****************\n"
     ]
    },
    {
     "name": "stderr",
     "output_type": "stream",
     "text": [
      "[I 2023-12-16 05:33:09,060] Trial 3 finished with value: 100.0 and parameters: {'lambda_l1': 800.3029715636708, 'lambda_l2': 432.0042654457822, 'learning_rate': 0.24641204494882094, 'num_leaves': 417, 'feature_fraction': 0.2131215666681679, 'min_data_in_leaf': 1905}. Best is trial 0 with value: 100.0.\n"
     ]
    },
    {
     "name": "stdout",
     "output_type": "stream",
     "text": [
      "Training until validation scores don't improve for 70 rounds\n",
      "Early stopping, best iteration is:\n",
      "[1]\tvalid_0's ER: 100\n",
      "Evaluated only: ER\n",
      "**************** regression_l1 ****************\n"
     ]
    },
    {
     "name": "stderr",
     "output_type": "stream",
     "text": [
      "[I 2023-12-16 05:33:09,432] Trial 4 finished with value: 100.0 and parameters: {'lambda_l1': 15.330860573585458, 'lambda_l2': 10.395045271730407, 'learning_rate': 0.1885451907256892, 'num_leaves': 212, 'feature_fraction': 0.2754001580295044, 'min_data_in_leaf': 7497}. Best is trial 0 with value: 100.0.\n"
     ]
    },
    {
     "name": "stdout",
     "output_type": "stream",
     "text": [
      "Training until validation scores don't improve for 76 rounds\n",
      "Early stopping, best iteration is:\n",
      "[1]\tvalid_0's ER: 100\n",
      "Evaluated only: ER\n",
      "**************** regression_l1 ****************\n"
     ]
    },
    {
     "name": "stderr",
     "output_type": "stream",
     "text": [
      "[I 2023-12-16 05:33:09,768] Trial 5 finished with value: 100.0 and parameters: {'lambda_l1': 870.8879409576117, 'lambda_l2': 620.775125260057, 'learning_rate': 0.2569243117486121, 'num_leaves': 430, 'feature_fraction': 0.3346500584605958, 'min_data_in_leaf': 215}. Best is trial 0 with value: 100.0.\n"
     ]
    },
    {
     "name": "stdout",
     "output_type": "stream",
     "text": [
      "Training until validation scores don't improve for 69 rounds\n",
      "Early stopping, best iteration is:\n",
      "[1]\tvalid_0's ER: 100\n",
      "Evaluated only: ER\n",
      "**************** regression_l1 ****************\n",
      "Training until validation scores don't improve for 124 rounds\n"
     ]
    },
    {
     "name": "stderr",
     "output_type": "stream",
     "text": [
      "[I 2023-12-16 05:33:10,455] Trial 6 finished with value: 100.0 and parameters: {'lambda_l1': 205.12252762514927, 'lambda_l2': 583.9282458906065, 'learning_rate': 0.06684876888265204, 'num_leaves': 129, 'feature_fraction': 0.4574633977790863, 'min_data_in_leaf': 229}. Best is trial 0 with value: 100.0.\n"
     ]
    },
    {
     "name": "stdout",
     "output_type": "stream",
     "text": [
      "[100]\tvalid_0's ER: 100\n",
      "Early stopping, best iteration is:\n",
      "[1]\tvalid_0's ER: 100\n",
      "Evaluated only: ER\n",
      "**************** regression_l1 ****************\n",
      "Training until validation scores don't improve for 88 rounds\n"
     ]
    },
    {
     "name": "stderr",
     "output_type": "stream",
     "text": [
      "[I 2023-12-16 05:33:10,907] Trial 7 finished with value: 100.0 and parameters: {'lambda_l1': 893.2422081441837, 'lambda_l2': 769.419640327978, 'learning_rate': 0.13115589422698332, 'num_leaves': 810, 'feature_fraction': 0.9155470024794754, 'min_data_in_leaf': 7965}. Best is trial 0 with value: 100.0.\n"
     ]
    },
    {
     "name": "stdout",
     "output_type": "stream",
     "text": [
      "Early stopping, best iteration is:\n",
      "[1]\tvalid_0's ER: 100\n",
      "Evaluated only: ER\n",
      "**************** regression_l1 ****************\n",
      "Training until validation scores don't improve for 79 rounds\n",
      "Early stopping, best iteration is:\n",
      "[1]\tvalid_0's ER: 100\n",
      "Evaluated only: ER\n"
     ]
    },
    {
     "name": "stderr",
     "output_type": "stream",
     "text": [
      "[I 2023-12-16 05:33:11,320] Trial 8 finished with value: 100.0 and parameters: {'lambda_l1': 768.9918896701842, 'lambda_l2': 99.99648329339573, 'learning_rate': 0.17044740207657244, 'num_leaves': 767, 'feature_fraction': 0.8260720116726379, 'min_data_in_leaf': 3526}. Best is trial 0 with value: 100.0.\n"
     ]
    },
    {
     "name": "stdout",
     "output_type": "stream",
     "text": [
      "**************** regression_l1 ****************\n",
      "Training until validation scores don't improve for 79 rounds\n"
     ]
    },
    {
     "name": "stderr",
     "output_type": "stream",
     "text": [
      "[I 2023-12-16 05:33:12,638] Trial 9 finished with value: 100.0 and parameters: {'lambda_l1': 181.8677467983304, 'lambda_l2': 344.8361682737592, 'learning_rate': 0.1689906477100893, 'num_leaves': 427, 'feature_fraction': 0.9729055488544216, 'min_data_in_leaf': 5842}. Best is trial 0 with value: 100.0.\n"
     ]
    },
    {
     "name": "stdout",
     "output_type": "stream",
     "text": [
      "Early stopping, best iteration is:\n",
      "[1]\tvalid_0's ER: 100\n",
      "Evaluated only: ER\n",
      "# Experimentos: 10\n",
      "Mejor experimento: {'lambda_l1': 253.85851276211636, 'lambda_l2': 301.83280709281524, 'learning_rate': 0.14093866540324018, 'num_leaves': 984, 'feature_fraction': 0.5920361855096161, 'min_data_in_leaf': 1266}\n",
      "=========================================== Cluster 92 ===========================================\n"
     ]
    },
    {
     "name": "stderr",
     "output_type": "stream",
     "text": [
      "[I 2023-12-16 05:33:13,630] A new study created in memory with name: no-name-be435178-acb5-4574-80fe-76e598e507ac\n"
     ]
    },
    {
     "name": "stdout",
     "output_type": "stream",
     "text": [
      "Periodos entrenar: [201701 201702 201703 201704 201705 201706 201707 201708 201709 201710\n",
      " 201711 201712 201801 201802 201803 201804 201805 201806 201807 201808\n",
      " 201809 201810 201811 201812 201901 201902 201903 201904 201905]\n",
      "Periodos validar: [201907]\n",
      "product_id a validar: 1160\n",
      "X_train: (30914, 120)\n",
      "y_train: (30914,)\n",
      "\n",
      "X_validate: (1160, 120)\n",
      "y_validate: (1160,)\n",
      "Optimizacion Bayesiana\n",
      "**************** regression_l1 ****************\n",
      "Training until validation scores don't improve for 73 rounds\n",
      "Early stopping, best iteration is:\n",
      "[1]\tvalid_0's ER: 100\n",
      "Evaluated only: ER\n"
     ]
    },
    {
     "name": "stderr",
     "output_type": "stream",
     "text": [
      "[I 2023-12-16 05:33:14,044] Trial 0 finished with value: 100.0 and parameters: {'lambda_l1': 372.6139932329073, 'lambda_l2': 435.7072872434593, 'learning_rate': 0.21664478180379868, 'num_leaves': 439, 'feature_fraction': 0.45639424620909486, 'min_data_in_leaf': 7855}. Best is trial 0 with value: 100.0.\n"
     ]
    },
    {
     "name": "stdout",
     "output_type": "stream",
     "text": [
      "**************** regression_l1 ****************\n",
      "Training until validation scores don't improve for 67 rounds\n"
     ]
    },
    {
     "name": "stderr",
     "output_type": "stream",
     "text": [
      "[I 2023-12-16 05:33:14,488] Trial 1 finished with value: 100.0 and parameters: {'lambda_l1': 287.11015240757064, 'lambda_l2': 334.89372995480016, 'learning_rate': 0.2927082858927591, 'num_leaves': 138, 'feature_fraction': 0.716833866683334, 'min_data_in_leaf': 5550}. Best is trial 0 with value: 100.0.\n"
     ]
    },
    {
     "name": "stdout",
     "output_type": "stream",
     "text": [
      "Early stopping, best iteration is:\n",
      "[1]\tvalid_0's ER: 100\n",
      "Evaluated only: ER\n",
      "**************** regression_l1 ****************\n",
      "Training until validation scores don't improve for 81 rounds\n"
     ]
    },
    {
     "name": "stderr",
     "output_type": "stream",
     "text": [
      "[I 2023-12-16 05:33:15,015] Trial 2 finished with value: 100.0 and parameters: {'lambda_l1': 478.19929237464163, 'lambda_l2': 84.88649512362333, 'learning_rate': 0.15625518154944737, 'num_leaves': 859, 'feature_fraction': 0.6954695966827995, 'min_data_in_leaf': 3070}. Best is trial 0 with value: 100.0.\n"
     ]
    },
    {
     "name": "stdout",
     "output_type": "stream",
     "text": [
      "Early stopping, best iteration is:\n",
      "[1]\tvalid_0's ER: 100\n",
      "Evaluated only: ER\n",
      "**************** regression_l1 ****************\n",
      "Training until validation scores don't improve for 78 rounds\n"
     ]
    },
    {
     "name": "stderr",
     "output_type": "stream",
     "text": [
      "[I 2023-12-16 05:33:15,969] Trial 3 finished with value: 100.0 and parameters: {'lambda_l1': 248.9472596987884, 'lambda_l2': 399.7779882818496, 'learning_rate': 0.17627323557882932, 'num_leaves': 584, 'feature_fraction': 0.9706745278463826, 'min_data_in_leaf': 171}. Best is trial 0 with value: 100.0.\n"
     ]
    },
    {
     "name": "stdout",
     "output_type": "stream",
     "text": [
      "Early stopping, best iteration is:\n",
      "[1]\tvalid_0's ER: 100\n",
      "Evaluated only: ER\n",
      "**************** regression_l1 ****************\n",
      "Training until validation scores don't improve for 119 rounds\n"
     ]
    },
    {
     "name": "stderr",
     "output_type": "stream",
     "text": [
      "[I 2023-12-16 05:33:16,519] Trial 4 finished with value: 100.0 and parameters: {'lambda_l1': 490.9405855546184, 'lambda_l2': 564.7759064864089, 'learning_rate': 0.07215385377026154, 'num_leaves': 998, 'feature_fraction': 0.402680262175003, 'min_data_in_leaf': 4031}. Best is trial 0 with value: 100.0.\n"
     ]
    },
    {
     "name": "stdout",
     "output_type": "stream",
     "text": [
      "[100]\tvalid_0's ER: 100\n",
      "Early stopping, best iteration is:\n",
      "[1]\tvalid_0's ER: 100\n",
      "Evaluated only: ER\n",
      "**************** regression_l1 ****************\n",
      "Training until validation scores don't improve for 115 rounds\n"
     ]
    },
    {
     "name": "stderr",
     "output_type": "stream",
     "text": [
      "[I 2023-12-16 05:33:17,118] Trial 5 finished with value: 100.0 and parameters: {'lambda_l1': 257.3534459280752, 'lambda_l2': 561.277258448051, 'learning_rate': 0.07673199885180952, 'num_leaves': 686, 'feature_fraction': 0.5548505883459548, 'min_data_in_leaf': 7158}. Best is trial 0 with value: 100.0.\n"
     ]
    },
    {
     "name": "stdout",
     "output_type": "stream",
     "text": [
      "[100]\tvalid_0's ER: 100\n",
      "Early stopping, best iteration is:\n",
      "[1]\tvalid_0's ER: 100\n",
      "Evaluated only: ER\n",
      "**************** regression_l1 ****************\n"
     ]
    },
    {
     "name": "stderr",
     "output_type": "stream",
     "text": [
      "[I 2023-12-16 05:33:17,444] Trial 6 finished with value: 100.0 and parameters: {'lambda_l1': 923.9785157729664, 'lambda_l2': 493.35206910905606, 'learning_rate': 0.2816403634076622, 'num_leaves': 385, 'feature_fraction': 0.23838559161801182, 'min_data_in_leaf': 1617}. Best is trial 0 with value: 100.0.\n"
     ]
    },
    {
     "name": "stdout",
     "output_type": "stream",
     "text": [
      "Training until validation scores don't improve for 67 rounds\n",
      "Early stopping, best iteration is:\n",
      "[1]\tvalid_0's ER: 100\n",
      "Evaluated only: ER\n",
      "**************** regression_l1 ****************\n",
      "Training until validation scores don't improve for 79 rounds\n"
     ]
    },
    {
     "name": "stderr",
     "output_type": "stream",
     "text": [
      "[I 2023-12-16 05:33:17,914] Trial 7 finished with value: 100.0 and parameters: {'lambda_l1': 76.11997812280646, 'lambda_l2': 718.0403118798898, 'learning_rate': 0.17194457118244763, 'num_leaves': 1020, 'feature_fraction': 0.40202201171990004, 'min_data_in_leaf': 2779}. Best is trial 0 with value: 100.0.\n"
     ]
    },
    {
     "name": "stdout",
     "output_type": "stream",
     "text": [
      "Early stopping, best iteration is:\n",
      "[1]\tvalid_0's ER: 100\n",
      "Evaluated only: ER\n",
      "**************** regression_l1 ****************\n",
      "Training until validation scores don't improve for 178 rounds\n",
      "[100]\tvalid_0's ER: 100\n"
     ]
    },
    {
     "name": "stderr",
     "output_type": "stream",
     "text": [
      "[I 2023-12-16 05:33:18,628] Trial 8 finished with value: 100.0 and parameters: {'lambda_l1': 154.57239491353147, 'lambda_l2': 557.2208626364362, 'learning_rate': 0.03892091193027003, 'num_leaves': 76, 'feature_fraction': 0.41794765984976545, 'min_data_in_leaf': 2457}. Best is trial 0 with value: 100.0.\n"
     ]
    },
    {
     "name": "stdout",
     "output_type": "stream",
     "text": [
      "Early stopping, best iteration is:\n",
      "[1]\tvalid_0's ER: 100\n",
      "Evaluated only: ER\n",
      "**************** regression_l1 ****************\n"
     ]
    },
    {
     "name": "stderr",
     "output_type": "stream",
     "text": [
      "[I 2023-12-16 05:33:19,031] Trial 9 finished with value: 100.0 and parameters: {'lambda_l1': 791.9628874780836, 'lambda_l2': 773.8996525081142, 'learning_rate': 0.21297318110983895, 'num_leaves': 422, 'feature_fraction': 0.8915815196278991, 'min_data_in_leaf': 5738}. Best is trial 0 with value: 100.0.\n"
     ]
    },
    {
     "name": "stdout",
     "output_type": "stream",
     "text": [
      "Training until validation scores don't improve for 73 rounds\n",
      "Early stopping, best iteration is:\n",
      "[1]\tvalid_0's ER: 100\n",
      "Evaluated only: ER\n",
      "# Experimentos: 10\n",
      "Mejor experimento: {'lambda_l1': 372.6139932329073, 'lambda_l2': 435.7072872434593, 'learning_rate': 0.21664478180379868, 'num_leaves': 439, 'feature_fraction': 0.45639424620909486, 'min_data_in_leaf': 7855}\n",
      "=========================================== Cluster 93 ===========================================\n"
     ]
    },
    {
     "name": "stderr",
     "output_type": "stream",
     "text": [
      "[I 2023-12-16 05:33:19,917] A new study created in memory with name: no-name-cb02b92a-e1e2-44c4-8bea-5c41a229027f\n"
     ]
    },
    {
     "name": "stdout",
     "output_type": "stream",
     "text": [
      "Periodos entrenar: [201707 201708 201709 201710 201711 201712 201801 201802 201803 201804\n",
      " 201805 201806 201807 201808 201809 201810 201811 201812 201901 201902\n",
      " 201903 201904 201905]\n",
      "Periodos validar: [201907]\n",
      "product_id a validar: 1160\n",
      "X_train: (24986, 120)\n",
      "y_train: (24986,)\n",
      "\n",
      "X_validate: (1160, 120)\n",
      "y_validate: (1160,)\n",
      "Optimizacion Bayesiana\n",
      "**************** regression_l1 ****************\n",
      "Training until validation scores don't improve for 84 rounds\n"
     ]
    },
    {
     "name": "stderr",
     "output_type": "stream",
     "text": [
      "[I 2023-12-16 05:33:20,292] Trial 0 finished with value: 100.0 and parameters: {'lambda_l1': 832.6991119387385, 'lambda_l2': 140.91129811494952, 'learning_rate': 0.14337273043836873, 'num_leaves': 790, 'feature_fraction': 0.6859900143585086, 'min_data_in_leaf': 5173}. Best is trial 0 with value: 100.0.\n"
     ]
    },
    {
     "name": "stdout",
     "output_type": "stream",
     "text": [
      "Early stopping, best iteration is:\n",
      "[1]\tvalid_0's ER: 100\n",
      "Evaluated only: ER\n",
      "**************** regression_l1 ****************\n",
      "Training until validation scores don't improve for 84 rounds\n"
     ]
    },
    {
     "name": "stderr",
     "output_type": "stream",
     "text": [
      "[I 2023-12-16 05:33:20,604] Trial 1 finished with value: 100.0 and parameters: {'lambda_l1': 692.2297245550526, 'lambda_l2': 150.79247841805622, 'learning_rate': 0.14647772320927271, 'num_leaves': 834, 'feature_fraction': 0.23436414181225074, 'min_data_in_leaf': 4819}. Best is trial 0 with value: 100.0.\n"
     ]
    },
    {
     "name": "stdout",
     "output_type": "stream",
     "text": [
      "Early stopping, best iteration is:\n",
      "[1]\tvalid_0's ER: 100\n",
      "Evaluated only: ER\n",
      "**************** regression_l1 ****************\n",
      "Training until validation scores don't improve for 80 rounds\n"
     ]
    },
    {
     "name": "stderr",
     "output_type": "stream",
     "text": [
      "[I 2023-12-16 05:33:20,924] Trial 2 finished with value: 100.0 and parameters: {'lambda_l1': 987.7083498605103, 'lambda_l2': 150.82271213056742, 'learning_rate': 0.16136531506760374, 'num_leaves': 518, 'feature_fraction': 0.33666958505341693, 'min_data_in_leaf': 710}. Best is trial 0 with value: 100.0.\n"
     ]
    },
    {
     "name": "stdout",
     "output_type": "stream",
     "text": [
      "Early stopping, best iteration is:\n",
      "[1]\tvalid_0's ER: 100\n",
      "Evaluated only: ER\n",
      "**************** regression_l1 ****************\n",
      "Training until validation scores don't improve for 80 rounds\n"
     ]
    },
    {
     "name": "stderr",
     "output_type": "stream",
     "text": [
      "[I 2023-12-16 05:33:21,271] Trial 3 finished with value: 100.0 and parameters: {'lambda_l1': 902.6517496705138, 'lambda_l2': 247.31233613410842, 'learning_rate': 0.165796858198428, 'num_leaves': 157, 'feature_fraction': 0.6564517777345922, 'min_data_in_leaf': 3900}. Best is trial 0 with value: 100.0.\n"
     ]
    },
    {
     "name": "stdout",
     "output_type": "stream",
     "text": [
      "Early stopping, best iteration is:\n",
      "[1]\tvalid_0's ER: 100\n",
      "Evaluated only: ER\n",
      "**************** regression_l1 ****************\n",
      "Training until validation scores don't improve for 74 rounds\n"
     ]
    },
    {
     "name": "stderr",
     "output_type": "stream",
     "text": [
      "[I 2023-12-16 05:33:21,609] Trial 4 finished with value: 100.0 and parameters: {'lambda_l1': 821.0090194819841, 'lambda_l2': 233.1159814388396, 'learning_rate': 0.20727581206530069, 'num_leaves': 143, 'feature_fraction': 0.6901766877965163, 'min_data_in_leaf': 1942}. Best is trial 0 with value: 100.0.\n"
     ]
    },
    {
     "name": "stdout",
     "output_type": "stream",
     "text": [
      "Early stopping, best iteration is:\n",
      "[1]\tvalid_0's ER: 100\n",
      "Evaluated only: ER\n",
      "**************** regression_l1 ****************\n",
      "Training until validation scores don't improve for 83 rounds\n"
     ]
    },
    {
     "name": "stderr",
     "output_type": "stream",
     "text": [
      "[I 2023-12-16 05:33:21,960] Trial 5 finished with value: 100.0 and parameters: {'lambda_l1': 440.31519017522515, 'lambda_l2': 31.686745060652278, 'learning_rate': 0.14811852055036406, 'num_leaves': 123, 'feature_fraction': 0.8274454181921722, 'min_data_in_leaf': 1605}. Best is trial 0 with value: 100.0.\n"
     ]
    },
    {
     "name": "stdout",
     "output_type": "stream",
     "text": [
      "Early stopping, best iteration is:\n",
      "[1]\tvalid_0's ER: 100\n",
      "Evaluated only: ER\n",
      "**************** regression_l1 ****************\n",
      "Training until validation scores don't improve for 67 rounds\n"
     ]
    },
    {
     "name": "stderr",
     "output_type": "stream",
     "text": [
      "[I 2023-12-16 05:33:22,439] Trial 6 finished with value: 100.0 and parameters: {'lambda_l1': 335.0908836461254, 'lambda_l2': 766.9117704459036, 'learning_rate': 0.2785303776002127, 'num_leaves': 124, 'feature_fraction': 0.49158844734579255, 'min_data_in_leaf': 4}. Best is trial 0 with value: 100.0.\n"
     ]
    },
    {
     "name": "stdout",
     "output_type": "stream",
     "text": [
      "Early stopping, best iteration is:\n",
      "[1]\tvalid_0's ER: 100\n",
      "Evaluated only: ER\n",
      "**************** regression_l1 ****************\n",
      "Training until validation scores don't improve for 79 rounds\n"
     ]
    },
    {
     "name": "stderr",
     "output_type": "stream",
     "text": [
      "[I 2023-12-16 05:33:22,773] Trial 7 finished with value: 100.0 and parameters: {'lambda_l1': 165.50972610435133, 'lambda_l2': 298.67759120931703, 'learning_rate': 0.16816372744430497, 'num_leaves': 454, 'feature_fraction': 0.2670545234845341, 'min_data_in_leaf': 5087}. Best is trial 0 with value: 100.0.\n"
     ]
    },
    {
     "name": "stdout",
     "output_type": "stream",
     "text": [
      "Early stopping, best iteration is:\n",
      "[1]\tvalid_0's ER: 100\n",
      "Evaluated only: ER\n",
      "**************** regression_l1 ****************\n",
      "Training until validation scores don't improve for 72 rounds\n"
     ]
    },
    {
     "name": "stderr",
     "output_type": "stream",
     "text": [
      "[I 2023-12-16 05:33:23,053] Trial 8 finished with value: 100.0 and parameters: {'lambda_l1': 397.8417641681548, 'lambda_l2': 59.31973259238177, 'learning_rate': 0.21899051534122846, 'num_leaves': 349, 'feature_fraction': 0.24814386331813756, 'min_data_in_leaf': 3814}. Best is trial 0 with value: 100.0.\n"
     ]
    },
    {
     "name": "stdout",
     "output_type": "stream",
     "text": [
      "Early stopping, best iteration is:\n",
      "[1]\tvalid_0's ER: 100\n",
      "Evaluated only: ER\n",
      "**************** regression_l1 ****************\n",
      "Training until validation scores don't improve for 73 rounds\n"
     ]
    },
    {
     "name": "stderr",
     "output_type": "stream",
     "text": [
      "[I 2023-12-16 05:33:23,369] Trial 9 finished with value: 100.0 and parameters: {'lambda_l1': 970.6606515636108, 'lambda_l2': 196.78001464297245, 'learning_rate': 0.210186367418772, 'num_leaves': 646, 'feature_fraction': 0.43112215562968265, 'min_data_in_leaf': 6669}. Best is trial 0 with value: 100.0.\n"
     ]
    },
    {
     "name": "stdout",
     "output_type": "stream",
     "text": [
      "Early stopping, best iteration is:\n",
      "[1]\tvalid_0's ER: 100\n",
      "Evaluated only: ER\n",
      "# Experimentos: 10\n",
      "Mejor experimento: {'lambda_l1': 832.6991119387385, 'lambda_l2': 140.91129811494952, 'learning_rate': 0.14337273043836873, 'num_leaves': 790, 'feature_fraction': 0.6859900143585086, 'min_data_in_leaf': 5173}\n"
     ]
    }
   ],
   "source": [
    "# Entrenamiento por cluster\n",
    "er_validate_iter = [None] * num_clusters\n",
    "er_holdout_semillerio_iter = [None] * num_clusters\n",
    "params_iter = [None] * num_clusters\n",
    "best_iter_iter = [None] * num_clusters\n",
    "pred_iter = [None] * num_clusters\n",
    "prod_iter = [None] * num_clusters\n",
    "\n",
    "for i in range(0,num_clusters):\n",
    "    print(\"=========================================== Cluster\", i, \"===========================================\")\n",
    "    \n",
    "    df_sellout = pd.read_csv(prefijo_arch_entrada + str(i) + \".csv\")\n",
    "    \n",
    "    ### Categoricas\n",
    "    df_sellout = extras.convertir_categoricas_prod_cust(df_sellout)\n",
    "\n",
    "    ### Remover columnas\n",
    "    df_sellout = df_sellout.drop(columns=[\"periodo_fecha\",\"brand\"])\n",
    "    \n",
    "    ### Split de datasets\n",
    "    df_train = df_sellout[(df_sellout.periodo <= config.TRAIN_PERIODO_LIMITE_PARAM) & (df_sellout.periodo >= config.PERIODO_INICIO_PARAM)]\n",
    "    df_validate = df_sellout[(df_sellout.periodo == config.VALIDATE_PERIODO_PARAM)]\n",
    "    \n",
    "    print(\"Periodos entrenar:\",df_train.periodo.unique())\n",
    "    print(\"Periodos validar:\",df_validate.periodo.unique())\n",
    "    \n",
    "    df_validate = df_validate.sort_values(by=\"product_id\",ascending=True)\n",
    "    print(\"product_id a validar:\", len(df_validate))\n",
    "\n",
    "    ### Armado variables entrenamiento\n",
    "    cols_remover_entren = [\"tn_mas_2\",\"periodo\"]\n",
    "    \n",
    "    # Train - Validate\n",
    "    X_train = df_train.drop(columns=cols_remover_entren, axis=1)\n",
    "    X_validate = df_validate.drop(columns=cols_remover_entren, axis=1)\n",
    "    \n",
    "    y_train = df_train.tn_mas_2\n",
    "    y_validate = df_validate.tn_mas_2\n",
    "    \n",
    "    print(\"X_train:\", X_train.shape)\n",
    "    print(\"y_train:\", y_train.shape)\n",
    "    \n",
    "    print(\"\\nX_validate:\", X_validate.shape)\n",
    "    print(\"y_validate:\", y_validate.shape)\n",
    "    \n",
    "    cols_entren = X_train.columns.tolist()\n",
    "\n",
    "    ### Optimizacion Bayesiana\n",
    "    #Verifico si hay datos de entrenamiento y validacion en el cluster (podria haber 0)\n",
    "    if len(X_train)>0 and len(X_validate)>0:\n",
    "        print(\"Optimizacion Bayesiana\")\n",
    "        GLOBAL_PARAMS_ITER = []\n",
    "        GLOBAL_BEST_IT_ITER = []\n",
    "        GLOBAL_ER_VALIDATE_ITER = []\n",
    "        GLOBAL_MODEL_ITER = []\n",
    "        \n",
    "        study = optuna.create_study(direction='minimize')\n",
    "        study.optimize(objective, n_trials=config.CANT_ITERACIONES_OPT_BAY_PARAM)\n",
    "        print('# Experimentos:', len(study.trials))\n",
    "        \n",
    "        if len(study.get_trials(states=[optuna.trial.TrialState.COMPLETE])) > 0:\n",
    "            print('Mejor experimento:', study.best_trial.params)\n",
    "\n",
    "            best_model_index = study.best_trial.number\n",
    "            best_model = GLOBAL_MODEL_ITER[best_model_index]\n",
    "    \n",
    "            er_validate_iter[i]=study.best_trial.value\n",
    "            params_iter[i] = GLOBAL_PARAMS_ITER[best_model_index]\n",
    "            best_iter_iter[i] = GLOBAL_BEST_IT_ITER[best_model_index]\n",
    "        else:\n",
    "            er_validate_iter[i]=None\n",
    "            params_iter[i] = None\n",
    "            best_iter_iter[i] = None \n",
    "    else:\n",
    "        er_validate_iter[i]=None\n",
    "        params_iter[i] = None\n",
    "        best_iter_iter[i] = None "
   ]
  },
  {
   "cell_type": "code",
   "execution_count": 10,
   "id": "933cdc68-eb97-4e4c-b8bf-0eafdfb04c64",
   "metadata": {},
   "outputs": [
    {
     "data": {
      "text/html": [
       "<div>\n",
       "<style scoped>\n",
       "    .dataframe tbody tr th:only-of-type {\n",
       "        vertical-align: middle;\n",
       "    }\n",
       "\n",
       "    .dataframe tbody tr th {\n",
       "        vertical-align: top;\n",
       "    }\n",
       "\n",
       "    .dataframe thead th {\n",
       "        text-align: right;\n",
       "    }\n",
       "</style>\n",
       "<table border=\"1\" class=\"dataframe\">\n",
       "  <thead>\n",
       "    <tr style=\"text-align: right;\">\n",
       "      <th></th>\n",
       "      <th>cluster</th>\n",
       "      <th>error_validate</th>\n",
       "      <th>lgbm_params</th>\n",
       "      <th>best_iteration</th>\n",
       "    </tr>\n",
       "  </thead>\n",
       "  <tbody>\n",
       "    <tr>\n",
       "      <th>0</th>\n",
       "      <td>0</td>\n",
       "      <td>77.77</td>\n",
       "      <td>{'objective': 'regression_l1', 'first_metric_o...</td>\n",
       "      <td>315.00</td>\n",
       "    </tr>\n",
       "    <tr>\n",
       "      <th>1</th>\n",
       "      <td>1</td>\n",
       "      <td>71.58</td>\n",
       "      <td>{'objective': 'regression_l1', 'first_metric_o...</td>\n",
       "      <td>250.00</td>\n",
       "    </tr>\n",
       "    <tr>\n",
       "      <th>2</th>\n",
       "      <td>2</td>\n",
       "      <td>89.30</td>\n",
       "      <td>{'objective': 'regression_l1', 'first_metric_o...</td>\n",
       "      <td>377.00</td>\n",
       "    </tr>\n",
       "    <tr>\n",
       "      <th>3</th>\n",
       "      <td>3</td>\n",
       "      <td>78.93</td>\n",
       "      <td>{'objective': 'regression_l1', 'first_metric_o...</td>\n",
       "      <td>43.00</td>\n",
       "    </tr>\n",
       "    <tr>\n",
       "      <th>4</th>\n",
       "      <td>4</td>\n",
       "      <td>78.49</td>\n",
       "      <td>{'objective': 'regression_l1', 'first_metric_o...</td>\n",
       "      <td>61.00</td>\n",
       "    </tr>\n",
       "    <tr>\n",
       "      <th>...</th>\n",
       "      <td>...</td>\n",
       "      <td>...</td>\n",
       "      <td>...</td>\n",
       "      <td>...</td>\n",
       "    </tr>\n",
       "    <tr>\n",
       "      <th>89</th>\n",
       "      <td>89</td>\n",
       "      <td>100.00</td>\n",
       "      <td>{'objective': 'regression_l1', 'first_metric_o...</td>\n",
       "      <td>1.00</td>\n",
       "    </tr>\n",
       "    <tr>\n",
       "      <th>90</th>\n",
       "      <td>90</td>\n",
       "      <td>100.00</td>\n",
       "      <td>{'objective': 'regression_l1', 'first_metric_o...</td>\n",
       "      <td>1.00</td>\n",
       "    </tr>\n",
       "    <tr>\n",
       "      <th>91</th>\n",
       "      <td>91</td>\n",
       "      <td>100.00</td>\n",
       "      <td>{'objective': 'regression_l1', 'first_metric_o...</td>\n",
       "      <td>1.00</td>\n",
       "    </tr>\n",
       "    <tr>\n",
       "      <th>92</th>\n",
       "      <td>92</td>\n",
       "      <td>100.00</td>\n",
       "      <td>{'objective': 'regression_l1', 'first_metric_o...</td>\n",
       "      <td>1.00</td>\n",
       "    </tr>\n",
       "    <tr>\n",
       "      <th>93</th>\n",
       "      <td>93</td>\n",
       "      <td>100.00</td>\n",
       "      <td>{'objective': 'regression_l1', 'first_metric_o...</td>\n",
       "      <td>1.00</td>\n",
       "    </tr>\n",
       "  </tbody>\n",
       "</table>\n",
       "<p>94 rows × 4 columns</p>\n",
       "</div>"
      ],
      "text/plain": [
       "    cluster  error_validate  \\\n",
       "0         0           77.77   \n",
       "1         1           71.58   \n",
       "2         2           89.30   \n",
       "3         3           78.93   \n",
       "4         4           78.49   \n",
       "..      ...             ...   \n",
       "89       89          100.00   \n",
       "90       90          100.00   \n",
       "91       91          100.00   \n",
       "92       92          100.00   \n",
       "93       93          100.00   \n",
       "\n",
       "                                          lgbm_params  best_iteration  \n",
       "0   {'objective': 'regression_l1', 'first_metric_o...          315.00  \n",
       "1   {'objective': 'regression_l1', 'first_metric_o...          250.00  \n",
       "2   {'objective': 'regression_l1', 'first_metric_o...          377.00  \n",
       "3   {'objective': 'regression_l1', 'first_metric_o...           43.00  \n",
       "4   {'objective': 'regression_l1', 'first_metric_o...           61.00  \n",
       "..                                                ...             ...  \n",
       "89  {'objective': 'regression_l1', 'first_metric_o...            1.00  \n",
       "90  {'objective': 'regression_l1', 'first_metric_o...            1.00  \n",
       "91  {'objective': 'regression_l1', 'first_metric_o...            1.00  \n",
       "92  {'objective': 'regression_l1', 'first_metric_o...            1.00  \n",
       "93  {'objective': 'regression_l1', 'first_metric_o...            1.00  \n",
       "\n",
       "[94 rows x 4 columns]"
      ]
     },
     "execution_count": 10,
     "metadata": {},
     "output_type": "execute_result"
    }
   ],
   "source": [
    "df_resultados_opt_bay = pd.DataFrame(data={\"cluster\":range(0,num_clusters),\"error_validate\":er_validate_iter,\n",
    "                                   \"lgbm_params\":params_iter,\"best_iteration\":best_iter_iter})\n",
    "\n",
    "df_resultados_opt_bay.to_excel(carpeta_exp +  \"opt_bay.xlsx\",index=False)\n",
    "\n",
    "df_resultados_opt_bay"
   ]
  },
  {
   "cell_type": "code",
   "execution_count": 11,
   "id": "d4683c7c-e768-4b55-b897-b178f8c4fdd5",
   "metadata": {},
   "outputs": [
    {
     "name": "stdout",
     "output_type": "stream",
     "text": [
      "FINALIZADO\n"
     ]
    }
   ],
   "source": [
    "print(\"FINALIZADO\")\n",
    "exp_numero"
   ]
  }
 ],
 "metadata": {
  "kernelspec": {
   "display_name": "Python 3 (ipykernel)",
   "language": "python",
   "name": "python3"
  },
  "language_info": {
   "codemirror_mode": {
    "name": "ipython",
    "version": 3
   },
   "file_extension": ".py",
   "mimetype": "text/x-python",
   "name": "python",
   "nbconvert_exporter": "python",
   "pygments_lexer": "ipython3",
   "version": "3.10.12"
  }
 },
 "nbformat": 4,
 "nbformat_minor": 5
}
