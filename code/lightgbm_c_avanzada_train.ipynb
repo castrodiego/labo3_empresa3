{
 "cells": [
  {
   "cell_type": "code",
   "execution_count": 1,
   "id": "946a34f4-5c14-46cf-a39d-9794031463bb",
   "metadata": {},
   "outputs": [
    {
     "data": {
      "text/html": [
       "<style type='text/css'>\n",
       ".datatable table.frame { margin-bottom: 0; }\n",
       ".datatable table.frame thead { border-bottom: none; }\n",
       ".datatable table.frame tr.coltypes td {  color: #FFFFFF;  line-height: 6px;  padding: 0 0.5em;}\n",
       ".datatable .bool    { background: #DDDD99; }\n",
       ".datatable .object  { background: #565656; }\n",
       ".datatable .int     { background: #5D9E5D; }\n",
       ".datatable .float   { background: #4040CC; }\n",
       ".datatable .str     { background: #CC4040; }\n",
       ".datatable .time    { background: #40CC40; }\n",
       ".datatable .row_index {  background: var(--jp-border-color3);  border-right: 1px solid var(--jp-border-color0);  color: var(--jp-ui-font-color3);  font-size: 9px;}\n",
       ".datatable .frame tbody td { text-align: left; }\n",
       ".datatable .frame tr.coltypes .row_index {  background: var(--jp-border-color0);}\n",
       ".datatable th:nth-child(2) { padding-left: 12px; }\n",
       ".datatable .hellipsis {  color: var(--jp-cell-editor-border-color);}\n",
       ".datatable .vellipsis {  background: var(--jp-layout-color0);  color: var(--jp-cell-editor-border-color);}\n",
       ".datatable .na {  color: var(--jp-cell-editor-border-color);  font-size: 80%;}\n",
       ".datatable .sp {  opacity: 0.25;}\n",
       ".datatable .footer { font-size: 9px; }\n",
       ".datatable .frame_dimensions {  background: var(--jp-border-color3);  border-top: 1px solid var(--jp-border-color0);  color: var(--jp-ui-font-color3);  display: inline-block;  opacity: 0.6;  padding: 1px 10px 1px 5px;}\n",
       ".datatable .frame thead tr.colnames {  background-image: url('data:image/png;base64,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');  background-repeat: repeat-x;  background-size: 14px;  height: 28px;}\n",
       "</style>\n"
      ],
      "text/plain": [
       "<IPython.core.display.HTML object>"
      ]
     },
     "metadata": {},
     "output_type": "display_data"
    }
   ],
   "source": [
    "import os\n",
    "import lightgbm as lgb\n",
    "import pandas as pd\n",
    "import warnings\n",
    "from matplotlib import pyplot as plt\n",
    "import seaborn as sns\n",
    "import numpy as np\n",
    "import datetime\n",
    "import optuna\n",
    "import random\n",
    "from datetime import datetime\n",
    "import pytz\n",
    "\n",
    "# importo los .py\n",
    "import sys\n",
    "sys.path.append(\"auxiliares\")\n",
    "import config\n",
    "import metricas\n",
    "import lightgbm_aux\n",
    "import extras\n",
    "\n",
    "pd.options.display.float_format = '{:.2f}'.format\n",
    "pd.set_option('display.max_columns', None)\n",
    "\n",
    "# Ignore all warnings\n",
    "warnings.filterwarnings(\"ignore\")"
   ]
  },
  {
   "cell_type": "code",
   "execution_count": 2,
   "id": "11ac74ea-68b7-46f2-83ba-a06c00f1e25c",
   "metadata": {},
   "outputs": [],
   "source": [
    "####################################################\n",
    "############# Setear segun cada maquina ############\n",
    "#os.chdir(\"C:/Users/herna/labo3_empresa3_repo/\")\n",
    "#os.chdir(\"C:/diego_tools/labo3/\")\n",
    "os.chdir(\"/home/dcastro_contacto/buckets/b1/\")\n",
    "####################################################"
   ]
  },
  {
   "cell_type": "code",
   "execution_count": 3,
   "id": "02238d29-8545-4363-b04a-f73d55495d00",
   "metadata": {},
   "outputs": [],
   "source": [
    "#Manual\n",
    "prefijo_arch_entrada = \"datasets/emp3_sellout_fe_cluster_manual_\"\n",
    "num_clusters=94\n",
    "carpeta_base_exp = \"exp/avanzada_1/\"\n",
    "\n",
    "#Time Warping\n",
    "#prefijo_arch_entrada = \"datasets/emp3_sellout_base_cluster_warp_\"\n",
    "#prefijo_arch_salida = \"datasets/emp3_sellout_fe_cluster_warp_\"\n",
    "#num_clusters=94\n",
    "#carpeta_base_exp = \"exp/avanzada_2/\""
   ]
  },
  {
   "cell_type": "code",
   "execution_count": 4,
   "id": "547b30c6-7d6b-4c08-872b-6a88a987b237",
   "metadata": {},
   "outputs": [],
   "source": [
    "def lgbm_error_rate(preds, train_data):\n",
    "    labels = train_data.get_label()\n",
    "    ret_val = metricas.error_rate(labels,preds)\n",
    "    return 'ER', ret_val, False"
   ]
  },
  {
   "cell_type": "code",
   "execution_count": 5,
   "id": "fcc3b371-807e-45c2-954d-3e720b30ede9",
   "metadata": {},
   "outputs": [],
   "source": [
    "def objective(trial):\n",
    "    print(\"****************\", config.OBJECTIVE_PARAM, \"****************\")\n",
    "    \n",
    "    lgb_params = {\n",
    "        'objective': config.OBJECTIVE_PARAM,\n",
    "        'first_metric_only': True,\n",
    "        'boost_from_average': True,\n",
    "        'max_depth':-1,\n",
    "        'lambda_l1': trial.suggest_uniform('lambda_l1', 0.0,config.L1_UPPER_PARAM),\n",
    "        'lambda_l2': trial.suggest_uniform('lambda_l2', 0.0,config.L2_UPPER_PARAM),\n",
    "        'min_gain_to_split':0.0,\n",
    "        'force_row_wise':True,\n",
    "        'feature_pre_filter':False,\n",
    "        'metric': \"None\",\n",
    "        'max_bin': config.MAX_BIN_PARAM,\n",
    "        'learning_rate': trial.suggest_uniform('learning_rate', config.LEARNING_RATE_LOWER_PARAM,config.LEARNING_RATE_UPPER_PARAM ),\n",
    "        'num_leaves' : trial.suggest_int('num_leaves', config.NUM_LEAVES_LOWER_PARAM, config.NUM_LEAVES_UPPER_PARAM),\n",
    "        'feature_fraction': trial.suggest_uniform('feature_fraction', config.FEATURE_FRACTION_LOWER_PARAM, config.FEATURE_FRACTION_UPPER_PARAM),\n",
    "        'min_data_in_leaf': trial.suggest_int('min_data_in_leaf', config.MIN_DATA_IN_LEAF_LOWER_PARAM, config.MIN_DATA_IN_LEAF_UPPER_PARAM),\n",
    "        #'bagging_freq':trial.suggest_int('bagging_freq', 1, 10),\n",
    "        #'bagging_fraction': trial.suggest_categorical('bagging_fraction',[0.7,0.75,0.8,0.85,0.9,0.95]),\n",
    "        #'extra_trees':trial.suggest_categorical('extra_trees',[True,False]),\n",
    "        'verbose':-100,\n",
    "        'num_threads':-1\n",
    "    }\n",
    "    \n",
    "    lgb_params_num_boost_round = 10000  #un numero muy grande, lo limita early_stopping_rounds\n",
    "    lgb_params_early_stopping_rounds = int(50 + 5/lgb_params['learning_rate']) #  #el parametro discolo, que depende de otro\n",
    "    \n",
    "    lgb_train = lgb.Dataset(data=X_train, label=y_train, feature_name=cols_entren)\n",
    "    lgb_validate = lgb.Dataset(data=X_validate, label=y_validate, reference=lgb_train, feature_name=cols_entren)\n",
    "    \n",
    "    #Train using selected parameters\n",
    "    model = lgb.train(lgb_params, lgb_train,\n",
    "                  valid_sets=[lgb_validate],\n",
    "                  num_boost_round=lgb_params_num_boost_round,\n",
    "                  early_stopping_rounds=lgb_params_early_stopping_rounds,\n",
    "                  feval=lgbm_error_rate,\n",
    "                  verbose_eval=100)\n",
    "    \n",
    "    y_pred_validate =model.predict(X_validate) #Create predictions on test set\n",
    "    er_validate = metricas.error_rate(y_validate,y_pred_validate)\n",
    "    \n",
    "    GLOBAL_PARAMS_ITER.append(lgb_params)\n",
    "    GLOBAL_BEST_IT_ITER.append(model.best_iteration)\n",
    "    GLOBAL_ER_VALIDATE_ITER.append(er_validate)\n",
    "    GLOBAL_MODEL_ITER.append(model)\n",
    "    \n",
    "    return er_validate"
   ]
  },
  {
   "cell_type": "code",
   "execution_count": 6,
   "id": "53ccdb1f-2f93-4bb9-9f57-9bdf50c4251f",
   "metadata": {},
   "outputs": [],
   "source": [
    "##############################################"
   ]
  },
  {
   "cell_type": "code",
   "execution_count": 7,
   "id": "65dfd032-268b-4b31-9f12-929edb2c0897",
   "metadata": {},
   "outputs": [
    {
     "name": "stdout",
     "output_type": "stream",
     "text": [
      "<class 'pandas.core.frame.DataFrame'>\n",
      "RangeIndex: 868 entries, 0 to 867\n",
      "Data columns (total 1 columns):\n",
      " #   Column      Non-Null Count  Dtype\n",
      "---  ------      --------------  -----\n",
      " 0   product_id  868 non-null    int64\n",
      "dtypes: int64(1)\n",
      "memory usage: 6.9 KB\n"
     ]
    }
   ],
   "source": [
    "df_prods_prediccion_entren=pd.read_csv(config.ARCH_PRODUCTOS_PREDICCION_ENTRENAMIENTO)\n",
    "df_prods_prediccion_entren.info()"
   ]
  },
  {
   "cell_type": "code",
   "execution_count": 8,
   "id": "0b03fc43-674a-41d9-a8e1-ed01808d3894",
   "metadata": {},
   "outputs": [
    {
     "data": {
      "text/plain": [
       "'20231219_202908'"
      ]
     },
     "execution_count": 8,
     "metadata": {},
     "output_type": "execute_result"
    }
   ],
   "source": [
    "current_datetime = datetime.now().astimezone(pytz.timezone('America/Argentina/Buenos_Aires'))\n",
    "exp_numero = current_datetime.strftime(\"%Y%m%d %H%M%S\").replace(\" \", \"_\")\n",
    "exp_numero"
   ]
  },
  {
   "cell_type": "code",
   "execution_count": 9,
   "id": "30514097-0a62-449b-896b-d2045a91be8f",
   "metadata": {},
   "outputs": [],
   "source": [
    "# Guardo Info del experimento\n",
    "carpeta_exp = carpeta_base_exp + exp_numero + \"/\"\n",
    "if not os.path.exists(carpeta_exp):\n",
    "    os.makedirs(carpeta_exp)\n",
    "    \n",
    "# Parametros\n",
    "parametros_nombres = [\"PERIODOS_EXCLUIR\",\"PERIODO_INICIO_PARAM\",\"TRAIN_PERIODO_LIMITE_PARAM\",\n",
    "                      \"VALIDATE_PERIODO_PARAM\",\"USAR_HOLDOUT_PARAM\",\n",
    "                      \"TRAIN_ALL_PERIODO_LIMITE_PARAM\",\"HOLDOUT_PERIODO_PARAM\",\n",
    "                      \"MODELO_FINAL_PERIODO_LIMITE_PARAM\",\"FUTURE_PERIODO_PARAM\",\n",
    "                      \"ARCH_PRODUCTOS_PREDICCION_ENTRENAMIENTO\",\"ARCH_PRODUCTOS_PREDICCION_FUTURE\",\n",
    "                      \"NUM_LAGS_PARAM\",\"FAMILIA_FEATURES_TEMP_PARAM\",\"AMPLIA_FEATURES_PARAM\",\n",
    "                      \"CANT_ITERACIONES_OPT_BAY_PARAM\",\"CANT_SEMILLAS\"]\n",
    "\n",
    "parametros_valores = [config.PERIODOS_EXCLUIR,config.PERIODO_INICIO_PARAM,config.TRAIN_PERIODO_LIMITE_PARAM,\n",
    "                      config.VALIDATE_PERIODO_PARAM,\n",
    "                      config.USAR_HOLDOUT_PARAM,config.TRAIN_ALL_PERIODO_LIMITE_PARAM,config.HOLDOUT_PERIODO_PARAM,\n",
    "                      config.MODELO_FINAL_PERIODO_LIMITE_PARAM,config.FUTURE_PERIODO_PARAM,\n",
    "                      config.ARCH_PRODUCTOS_PREDICCION_ENTRENAMIENTO,config.ARCH_PRODUCTOS_PREDICCION_FUTURE,\n",
    "                      config.NUM_LAGS_PARAM,config.FAMILIA_FEATURES_TEMP_PARAM,config.AMPLIA_FEATURES_PARAM,\n",
    "                      config.CANT_ITERACIONES_OPT_BAY_PARAM, config.CANT_SEMILLAS]\n",
    "\n",
    "parametros = pd.DataFrame(data={\"nombre\":parametros_nombres,\"valor\":parametros_valores})\n",
    "parametros.to_csv(carpeta_exp + \"parametros.csv\",index=False)"
   ]
  },
  {
   "cell_type": "code",
   "execution_count": null,
   "id": "71aa4bfe-d204-451c-85fe-ae97ee3d0248",
   "metadata": {},
   "outputs": [
    {
     "name": "stdout",
     "output_type": "stream",
     "text": [
      "=========================================== Cluster 0 ===========================================\n"
     ]
    },
    {
     "name": "stderr",
     "output_type": "stream",
     "text": [
      "[I 2023-12-19 23:29:13,026] A new study created in memory with name: no-name-32df2164-e8cf-4792-8283-9ddf3cf9c946\n"
     ]
    },
    {
     "name": "stdout",
     "output_type": "stream",
     "text": [
      "Periodos entrenar: [201701 201702 201703 201704 201705 201706 201707 201708 201709 201710\n",
      " 201711 201712 201801 201802 201803 201804 201805 201806 201807 201808\n",
      " 201809 201810]\n",
      "Periodos validar: [201812]\n",
      "product_id a validar: 27900\n",
      "X_train: (469490, 30)\n",
      "y_train: (469490,)\n",
      "\n",
      "X_validate: (27900, 30)\n",
      "y_validate: (27900,)\n",
      "Optimizacion Bayesiana\n",
      "**************** tweedie ****************\n",
      "Training until validation scores don't improve for 82 rounds\n",
      "[100]\tvalid_0's ER: 81.8\n"
     ]
    },
    {
     "name": "stderr",
     "output_type": "stream",
     "text": [
      "[I 2023-12-19 23:29:19,785] Trial 0 finished with value: 81.58 and parameters: {'lambda_l1': 215.74659694559784, 'lambda_l2': 783.904179023682, 'learning_rate': 0.15249711615979497, 'num_leaves': 69, 'feature_fraction': 0.5127341536630576, 'min_data_in_leaf': 3470}. Best is trial 0 with value: 81.58.\n"
     ]
    },
    {
     "name": "stdout",
     "output_type": "stream",
     "text": [
      "Early stopping, best iteration is:\n",
      "[106]\tvalid_0's ER: 81.58\n",
      "Evaluated only: ER\n",
      "**************** tweedie ****************\n",
      "Training until validation scores don't improve for 71 rounds\n",
      "[100]\tvalid_0's ER: 83.58\n"
     ]
    },
    {
     "name": "stderr",
     "output_type": "stream",
     "text": [
      "[I 2023-12-19 23:29:23,804] Trial 1 finished with value: 83.55 and parameters: {'lambda_l1': 842.481332865014, 'lambda_l2': 546.3460478326037, 'learning_rate': 0.23427388866163415, 'num_leaves': 343, 'feature_fraction': 0.9236629462988275, 'min_data_in_leaf': 3174}. Best is trial 0 with value: 81.58.\n"
     ]
    },
    {
     "name": "stdout",
     "output_type": "stream",
     "text": [
      "Early stopping, best iteration is:\n",
      "[56]\tvalid_0's ER: 83.55\n",
      "Evaluated only: ER\n",
      "**************** tweedie ****************\n",
      "Training until validation scores don't improve for 70 rounds\n",
      "[100]\tvalid_0's ER: 75.36\n",
      "[200]\tvalid_0's ER: 72.79\n",
      "[300]\tvalid_0's ER: 72.16\n",
      "[400]\tvalid_0's ER: 71.43\n",
      "Early stopping, best iteration is:\n",
      "[378]\tvalid_0's ER: 71.34\n",
      "Evaluated only: ER\n"
     ]
    },
    {
     "name": "stderr",
     "output_type": "stream",
     "text": [
      "[I 2023-12-19 23:30:49,450] Trial 2 finished with value: 71.34 and parameters: {'lambda_l1': 39.560078670138, 'lambda_l2': 457.20676991807466, 'learning_rate': 0.2464459782075642, 'num_leaves': 475, 'feature_fraction': 0.49486486704925625, 'min_data_in_leaf': 440}. Best is trial 2 with value: 71.34.\n"
     ]
    },
    {
     "name": "stdout",
     "output_type": "stream",
     "text": [
      "**************** tweedie ****************\n",
      "Training until validation scores don't improve for 507 rounds\n",
      "[100]\tvalid_0's ER: 122.82\n",
      "[200]\tvalid_0's ER: 101.78\n",
      "[300]\tvalid_0's ER: 92.97\n",
      "[400]\tvalid_0's ER: 88.25\n",
      "[500]\tvalid_0's ER: 86.42\n",
      "[600]\tvalid_0's ER: 85.21\n",
      "[700]\tvalid_0's ER: 84.98\n",
      "[800]\tvalid_0's ER: 84.74\n",
      "[900]\tvalid_0's ER: 84.18\n",
      "[1000]\tvalid_0's ER: 83.78\n",
      "[1100]\tvalid_0's ER: 83.4\n",
      "[1200]\tvalid_0's ER: 83.16\n",
      "[1300]\tvalid_0's ER: 83.09\n",
      "[1400]\tvalid_0's ER: 82.98\n",
      "[1500]\tvalid_0's ER: 82.78\n",
      "[1600]\tvalid_0's ER: 82.63\n",
      "[1700]\tvalid_0's ER: 82.51\n",
      "[1800]\tvalid_0's ER: 82.39\n",
      "[1900]\tvalid_0's ER: 82.3\n",
      "[2000]\tvalid_0's ER: 82.28\n",
      "[2100]\tvalid_0's ER: 82.27\n",
      "[2200]\tvalid_0's ER: 82.27\n",
      "[2300]\tvalid_0's ER: 82.27\n",
      "[2400]\tvalid_0's ER: 82.27\n",
      "Early stopping, best iteration is:\n",
      "[1935]\tvalid_0's ER: 82.26\n",
      "Evaluated only: ER\n"
     ]
    },
    {
     "name": "stderr",
     "output_type": "stream",
     "text": [
      "[I 2023-12-19 23:32:01,238] Trial 3 finished with value: 82.26 and parameters: {'lambda_l1': 392.93059491809635, 'lambda_l2': 989.5535512754971, 'learning_rate': 0.010928734493769408, 'num_leaves': 53, 'feature_fraction': 0.596354406261195, 'min_data_in_leaf': 6827}. Best is trial 2 with value: 71.34.\n"
     ]
    },
    {
     "name": "stdout",
     "output_type": "stream",
     "text": [
      "**************** tweedie ****************\n",
      "Training until validation scores don't improve for 71 rounds\n",
      "[100]\tvalid_0's ER: 84.84\n"
     ]
    },
    {
     "name": "stderr",
     "output_type": "stream",
     "text": [
      "[I 2023-12-19 23:32:05,307] Trial 4 finished with value: 84.84 and parameters: {'lambda_l1': 646.2805659580777, 'lambda_l2': 313.8262399844448, 'learning_rate': 0.22873554813786653, 'num_leaves': 875, 'feature_fraction': 0.7356104128928871, 'min_data_in_leaf': 6268}. Best is trial 2 with value: 71.34.\n"
     ]
    },
    {
     "name": "stdout",
     "output_type": "stream",
     "text": [
      "Early stopping, best iteration is:\n",
      "[72]\tvalid_0's ER: 84.84\n",
      "Evaluated only: ER\n",
      "**************** tweedie ****************\n",
      "Training until validation scores don't improve for 82 rounds\n",
      "[100]\tvalid_0's ER: 77.61\n",
      "[200]\tvalid_0's ER: 76.78\n",
      "Early stopping, best iteration is:\n",
      "[149]\tvalid_0's ER: 76.53\n",
      "Evaluated only: ER\n"
     ]
    },
    {
     "name": "stderr",
     "output_type": "stream",
     "text": [
      "[I 2023-12-19 23:32:32,649] Trial 5 finished with value: 76.53 and parameters: {'lambda_l1': 206.9861572628313, 'lambda_l2': 764.8180068950719, 'learning_rate': 0.1545960071781213, 'num_leaves': 806, 'feature_fraction': 0.44967553101801727, 'min_data_in_leaf': 313}. Best is trial 2 with value: 71.34.\n"
     ]
    },
    {
     "name": "stdout",
     "output_type": "stream",
     "text": [
      "**************** tweedie ****************\n",
      "Training until validation scores don't improve for 76 rounds\n",
      "[100]\tvalid_0's ER: 81.16\n"
     ]
    },
    {
     "name": "stderr",
     "output_type": "stream",
     "text": [
      "[I 2023-12-19 23:32:37,640] Trial 6 finished with value: 81.15 and parameters: {'lambda_l1': 494.3541757182491, 'lambda_l2': 45.283582965313315, 'learning_rate': 0.18673621050803846, 'num_leaves': 601, 'feature_fraction': 0.7604038528469432, 'min_data_in_leaf': 1826}. Best is trial 2 with value: 71.34.\n"
     ]
    },
    {
     "name": "stdout",
     "output_type": "stream",
     "text": [
      "Early stopping, best iteration is:\n",
      "[69]\tvalid_0's ER: 81.15\n",
      "Evaluated only: ER\n",
      "**************** tweedie ****************\n",
      "Training until validation scores don't improve for 102 rounds\n",
      "[100]\tvalid_0's ER: 80.03\n",
      "[200]\tvalid_0's ER: 78.47\n",
      "Early stopping, best iteration is:\n",
      "[194]\tvalid_0's ER: 78.4\n",
      "Evaluated only: ER\n"
     ]
    },
    {
     "name": "stderr",
     "output_type": "stream",
     "text": [
      "[I 2023-12-19 23:32:53,968] Trial 7 finished with value: 78.41 and parameters: {'lambda_l1': 721.0029088366725, 'lambda_l2': 220.15671886835986, 'learning_rate': 0.09454760448433763, 'num_leaves': 371, 'feature_fraction': 0.31772286108688147, 'min_data_in_leaf': 814}. Best is trial 2 with value: 71.34.\n"
     ]
    },
    {
     "name": "stdout",
     "output_type": "stream",
     "text": [
      "**************** tweedie ****************\n",
      "Training until validation scores don't improve for 74 rounds\n",
      "[100]\tvalid_0's ER: 84.24\n"
     ]
    },
    {
     "name": "stderr",
     "output_type": "stream",
     "text": [
      "[I 2023-12-19 23:32:58,312] Trial 8 finished with value: 84.15 and parameters: {'lambda_l1': 555.1083439567553, 'lambda_l2': 357.6560501390165, 'learning_rate': 0.20757779260435422, 'num_leaves': 306, 'feature_fraction': 0.6517002619962594, 'min_data_in_leaf': 7533}. Best is trial 2 with value: 71.34.\n"
     ]
    },
    {
     "name": "stdout",
     "output_type": "stream",
     "text": [
      "Early stopping, best iteration is:\n",
      "[80]\tvalid_0's ER: 84.15\n",
      "Evaluated only: ER\n",
      "**************** tweedie ****************\n",
      "Training until validation scores don't improve for 165 rounds\n",
      "[100]\tvalid_0's ER: 85.57\n",
      "[200]\tvalid_0's ER: 80.78\n",
      "[300]\tvalid_0's ER: 80.24\n",
      "[400]\tvalid_0's ER: 80.12\n",
      "[500]\tvalid_0's ER: 80.2\n",
      "Early stopping, best iteration is:\n",
      "[362]\tvalid_0's ER: 80\n",
      "Evaluated only: ER\n"
     ]
    },
    {
     "name": "stderr",
     "output_type": "stream",
     "text": [
      "[I 2023-12-19 23:33:17,302] Trial 9 finished with value: 80.0 and parameters: {'lambda_l1': 126.00834798991578, 'lambda_l2': 273.8119942548254, 'learning_rate': 0.043439334028378476, 'num_leaves': 576, 'feature_fraction': 0.5864025985867315, 'min_data_in_leaf': 4607}. Best is trial 2 with value: 71.34.\n"
     ]
    },
    {
     "name": "stdout",
     "output_type": "stream",
     "text": [
      "# Experimentos: 10\n",
      "Mejor experimento: {'lambda_l1': 39.560078670138, 'lambda_l2': 457.20676991807466, 'learning_rate': 0.2464459782075642, 'num_leaves': 475, 'feature_fraction': 0.49486486704925625, 'min_data_in_leaf': 440}\n",
      "=========================================== Cluster 1 ===========================================\n"
     ]
    },
    {
     "name": "stderr",
     "output_type": "stream",
     "text": [
      "[I 2023-12-19 23:33:19,571] A new study created in memory with name: no-name-c5c53f86-4e3e-467e-95cc-cebf58a390f3\n"
     ]
    },
    {
     "name": "stdout",
     "output_type": "stream",
     "text": [
      "Periodos entrenar: [201701 201702 201703 201704 201705 201706 201707 201708 201709 201710\n",
      " 201711 201712 201801 201802 201803 201804 201805 201806 201807 201808\n",
      " 201809 201810]\n",
      "Periodos validar: [201812]\n",
      "product_id a validar: 19530\n",
      "X_train: (361369, 30)\n",
      "y_train: (361369,)\n",
      "\n",
      "X_validate: (19530, 30)\n",
      "y_validate: (19530,)\n",
      "Optimizacion Bayesiana\n",
      "**************** tweedie ****************\n",
      "Training until validation scores don't improve for 84 rounds\n",
      "[100]\tvalid_0's ER: 89.38\n"
     ]
    },
    {
     "name": "stderr",
     "output_type": "stream",
     "text": [
      "[I 2023-12-19 23:33:23,920] Trial 0 finished with value: 88.62 and parameters: {'lambda_l1': 422.7467015667554, 'lambda_l2': 788.8263607082303, 'learning_rate': 0.14391381547345433, 'num_leaves': 767, 'feature_fraction': 0.2314000402155701, 'min_data_in_leaf': 2067}. Best is trial 0 with value: 88.62.\n"
     ]
    },
    {
     "name": "stdout",
     "output_type": "stream",
     "text": [
      "Early stopping, best iteration is:\n",
      "[78]\tvalid_0's ER: 88.62\n",
      "Evaluated only: ER\n",
      "**************** tweedie ****************\n",
      "Training until validation scores don't improve for 87 rounds\n",
      "[100]\tvalid_0's ER: 86.64\n"
     ]
    },
    {
     "name": "stderr",
     "output_type": "stream",
     "text": [
      "[I 2023-12-19 23:33:27,364] Trial 1 finished with value: 85.79 and parameters: {'lambda_l1': 451.11968563446646, 'lambda_l2': 346.4172181115993, 'learning_rate': 0.1325550717142388, 'num_leaves': 141, 'feature_fraction': 0.34590146109697995, 'min_data_in_leaf': 3431}. Best is trial 1 with value: 85.79.\n"
     ]
    },
    {
     "name": "stdout",
     "output_type": "stream",
     "text": [
      "Early stopping, best iteration is:\n",
      "[48]\tvalid_0's ER: 85.79\n",
      "Evaluated only: ER\n",
      "**************** tweedie ****************\n",
      "Training until validation scores don't improve for 67 rounds\n",
      "[100]\tvalid_0's ER: 83.96\n"
     ]
    },
    {
     "name": "stderr",
     "output_type": "stream",
     "text": [
      "[I 2023-12-19 23:33:30,499] Trial 2 finished with value: 83.92 and parameters: {'lambda_l1': 645.8076489007032, 'lambda_l2': 823.3147412806402, 'learning_rate': 0.28927821986479346, 'num_leaves': 80, 'feature_fraction': 0.7076255385017669, 'min_data_in_leaf': 1839}. Best is trial 2 with value: 83.92.\n"
     ]
    },
    {
     "name": "stdout",
     "output_type": "stream",
     "text": [
      "Early stopping, best iteration is:\n",
      "[53]\tvalid_0's ER: 83.92\n",
      "Evaluated only: ER\n",
      "**************** tweedie ****************\n",
      "Training until validation scores don't improve for 80 rounds\n",
      "[100]\tvalid_0's ER: 84\n"
     ]
    },
    {
     "name": "stderr",
     "output_type": "stream",
     "text": [
      "[I 2023-12-19 23:33:37,562] Trial 3 finished with value: 83.7 and parameters: {'lambda_l1': 830.1774861541536, 'lambda_l2': 123.960421637055, 'learning_rate': 0.16663232312298892, 'num_leaves': 943, 'feature_fraction': 0.768251157742325, 'min_data_in_leaf': 931}. Best is trial 3 with value: 83.7.\n"
     ]
    },
    {
     "name": "stdout",
     "output_type": "stream",
     "text": [
      "Early stopping, best iteration is:\n",
      "[76]\tvalid_0's ER: 83.7\n",
      "Evaluated only: ER\n",
      "**************** tweedie ****************\n",
      "Training until validation scores don't improve for 96 rounds\n",
      "[100]\tvalid_0's ER: 83.71\n",
      "[200]\tvalid_0's ER: 82.49\n",
      "[300]\tvalid_0's ER: 82.1\n"
     ]
    },
    {
     "name": "stderr",
     "output_type": "stream",
     "text": [
      "[I 2023-12-19 23:33:47,882] Trial 4 finished with value: 81.98 and parameters: {'lambda_l1': 10.977997867606447, 'lambda_l2': 416.76018755470335, 'learning_rate': 0.10848088089505181, 'num_leaves': 735, 'feature_fraction': 0.5838364075132563, 'min_data_in_leaf': 6976}. Best is trial 4 with value: 81.98.\n"
     ]
    },
    {
     "name": "stdout",
     "output_type": "stream",
     "text": [
      "Early stopping, best iteration is:\n",
      "[234]\tvalid_0's ER: 81.98\n",
      "Evaluated only: ER\n",
      "**************** tweedie ****************\n",
      "Training until validation scores don't improve for 105 rounds\n",
      "[100]\tvalid_0's ER: 84.6\n"
     ]
    }
   ],
   "source": [
    "# Entrenamiento por cluster\n",
    "er_validate_iter = [None] * num_clusters\n",
    "er_holdout_semillerio_iter = [None] * num_clusters\n",
    "params_iter = [None] * num_clusters\n",
    "best_iter_iter = [None] * num_clusters\n",
    "pred_iter = [None] * num_clusters\n",
    "prod_iter = [None] * num_clusters\n",
    "\n",
    "for i in range(0,num_clusters):\n",
    "    print(\"=========================================== Cluster\", i, \"===========================================\")\n",
    "    \n",
    "    df_sellout = pd.read_csv(prefijo_arch_entrada + str(i) + \".csv\")\n",
    "    \n",
    "    ### Categoricas\n",
    "    df_sellout = extras.convertir_categoricas_prod_cust(df_sellout)\n",
    "\n",
    "    ### Remover columnas\n",
    "    df_sellout = df_sellout.drop(columns=[\"periodo_fecha\",\"brand\"])\n",
    "    \n",
    "    ### Split de datasets\n",
    "    df_train = df_sellout[(df_sellout.periodo <= config.TRAIN_PERIODO_LIMITE_PARAM) & (df_sellout.periodo >= config.PERIODO_INICIO_PARAM)]\n",
    "    df_validate = df_sellout[(df_sellout.periodo == config.VALIDATE_PERIODO_PARAM)]\n",
    "    \n",
    "    print(\"Periodos entrenar:\",df_train.periodo.unique())\n",
    "    print(\"Periodos validar:\",df_validate.periodo.unique())\n",
    "    \n",
    "    df_validate = df_validate.sort_values(by=\"product_id\",ascending=True)\n",
    "    print(\"product_id a validar:\", len(df_validate))\n",
    "\n",
    "    ### Armado variables entrenamiento\n",
    "    cols_remover_entren = [\"tn_mas_2\",\"periodo\"]\n",
    "    \n",
    "    # Train - Validate\n",
    "    X_train = df_train.drop(columns=cols_remover_entren, axis=1)\n",
    "    X_validate = df_validate.drop(columns=cols_remover_entren, axis=1)\n",
    "    \n",
    "    y_train = df_train.tn_mas_2\n",
    "    y_validate = df_validate.tn_mas_2\n",
    "    \n",
    "    print(\"X_train:\", X_train.shape)\n",
    "    print(\"y_train:\", y_train.shape)\n",
    "    \n",
    "    print(\"\\nX_validate:\", X_validate.shape)\n",
    "    print(\"y_validate:\", y_validate.shape)\n",
    "    \n",
    "    cols_entren = X_train.columns.tolist()\n",
    "\n",
    "    ### Optimizacion Bayesiana\n",
    "    #Verifico si hay datos de entrenamiento y validacion en el cluster (podria haber 0)\n",
    "    if len(X_train)>0 and len(X_validate)>0:\n",
    "        print(\"Optimizacion Bayesiana\")\n",
    "        GLOBAL_PARAMS_ITER = []\n",
    "        GLOBAL_BEST_IT_ITER = []\n",
    "        GLOBAL_ER_VALIDATE_ITER = []\n",
    "        GLOBAL_MODEL_ITER = []\n",
    "        \n",
    "        study = optuna.create_study(direction='minimize')\n",
    "        study.optimize(objective, n_trials=config.CANT_ITERACIONES_OPT_BAY_PARAM)\n",
    "        print('# Experimentos:', len(study.trials))\n",
    "        \n",
    "        if len(study.get_trials(states=[optuna.trial.TrialState.COMPLETE])) > 0:\n",
    "            print('Mejor experimento:', study.best_trial.params)\n",
    "\n",
    "            best_model_index = study.best_trial.number\n",
    "            best_model = GLOBAL_MODEL_ITER[best_model_index]\n",
    "    \n",
    "            er_validate_iter[i]=study.best_trial.value\n",
    "            params_iter[i] = GLOBAL_PARAMS_ITER[best_model_index]\n",
    "            best_iter_iter[i] = GLOBAL_BEST_IT_ITER[best_model_index]\n",
    "        else:\n",
    "            er_validate_iter[i]=None\n",
    "            params_iter[i] = None\n",
    "            best_iter_iter[i] = None \n",
    "    else:\n",
    "        er_validate_iter[i]=None\n",
    "        params_iter[i] = None\n",
    "        best_iter_iter[i] = None "
   ]
  },
  {
   "cell_type": "code",
   "execution_count": null,
   "id": "c693f849-685e-4266-a40e-1304c8ed5ab3",
   "metadata": {},
   "outputs": [],
   "source": [
    "df_opt_bay = pd.DataFrame(data={\"cluster\":range(0,num_clusters),\"error_validate\":er_validate_iter,\n",
    "                                   \"lgb_params\":params_iter,\"best_iteration\":best_iter_iter})\n",
    "df_opt_bay"
   ]
  },
  {
   "cell_type": "code",
   "execution_count": null,
   "id": "1a0d203e-ce3f-4d1d-afba-19538f30d5f3",
   "metadata": {},
   "outputs": [],
   "source": [
    "# Holdout\n",
    "prod_cust_iter = []\n",
    "prod_iter = []\n",
    "cust_iter = []\n",
    "y_iter = []\n",
    "y_pred_iter = []\n",
    "err_holdout_cluster_iter = []\n",
    "\n",
    "if(config.USAR_HOLDOUT_PARAM):\n",
    "    \n",
    "    for i in range(0,num_clusters):   \n",
    "        print(\"******************************************* CLUSTER\",i,\"*******************************************\")\n",
    "\n",
    "        df_sellout = pd.read_csv(prefijo_arch_entrada + str(i) + \".csv\")\n",
    "              \n",
    "        ### Categoricas\n",
    "        df_sellout = extras.convertir_categoricas_prod_cust(df_sellout)\n",
    "    \n",
    "        ### Remover columnas\n",
    "        df_sellout = df_sellout.drop(columns=[\"periodo_fecha\",\"brand\"])\n",
    "\n",
    "        print(\"# Productos:\",len(df_sellout.product_id.unique()))\n",
    "        print(\"# Clientes:\",len(df_sellout.customer_id.unique()))\n",
    "\n",
    "        # Dataframes\n",
    "        df_train_all = df_sellout[(df_sellout.periodo <= config.TRAIN_ALL_PERIODO_LIMITE_PARAM) & (df_sellout.periodo >= config.PERIODO_INICIO_PARAM)]\n",
    "        df_holdout = df_sellout[df_sellout.periodo == config.HOLDOUT_PERIODO_PARAM]\n",
    "           \n",
    "        print(\"Periodos entrenar ALL:\",df_train_all.periodo.unique())\n",
    "        print(\"Periodos holdout:\",df_holdout.periodo.unique())\n",
    "    \n",
    "        # Variables entrenamiento\n",
    "        X_train_all = df_train_all.drop(columns=cols_remover_entren, axis=1)\n",
    "        X_holdout = df_holdout.drop(columns=cols_remover_entren, axis=1)\n",
    "        \n",
    "        y_train_all = df_train_all.tn_mas_2\n",
    "        y_holdout = df_holdout.tn_mas_2\n",
    "        print(\"\\nX_train_all:\", X_train_all.shape)\n",
    "        print(\"y_train_all:\", y_train_all.shape)\n",
    "        \n",
    "        print(\"\\nX_holdout:\", X_holdout.shape)\n",
    "        print(\"y_holdout:\", y_holdout.shape)\n",
    "\n",
    "        if len(X_train_all)>0:\n",
    "            # Si se pudo entrenar la OB...\n",
    "            if df_opt_bay.iloc[i].lgb_params!=None:\n",
    "                lgbtrain_all = lgb.Dataset(data=X_train_all, label=y_train_all, feature_name=cols_entren)\n",
    "        \n",
    "                #Semillerio\n",
    "                y_pred_holdout_semillerio = lightgbm_aux.semillerio(lgbtrain_all, df_opt_bay.iloc[i].lgb_params, int(df_opt_bay.iloc[i].best_iteration), X_holdout,config.CANT_SEMILLAS)\n",
    "            # Si no se pudo entrenar...\n",
    "            else:\n",
    "                print(\"IMPUTACION!!!\")\n",
    "                #Obtengo promedio de valores de entrenamiento y asumo que esa es la prediccion\n",
    "                media_imputada = X_train_all.tn.mean()\n",
    "                y_pred_holdout_semillerio = np.full(len(X_holdout.prod_cust),media_imputada)\n",
    "\n",
    "            er_holdout_semillerio= metricas.error_rate(y_holdout,y_pred_holdout_semillerio)\n",
    "            print(\"Error holdout semillerio:\",er_holdout_semillerio, \"(Toneladas cluster: \", y_holdout.sum(),\")\")\n",
    "            \n",
    "            prod_cust_iter.extend(X_holdout.prod_cust.reset_index(drop=True))\n",
    "            prod_iter.extend(X_holdout.product_id.reset_index(drop=True))\n",
    "            cust_iter.extend(X_holdout.customer_id.reset_index(drop=True))\n",
    "            y_iter.extend(y_holdout)\n",
    "            y_pred_iter.extend(y_pred_holdout_semillerio)\n",
    "            err_holdout_cluster_iter.append(er_holdout_semillerio)\n",
    "        else:\n",
    "            err_holdout_cluster_iter.append(None)"
   ]
  },
  {
   "cell_type": "code",
   "execution_count": null,
   "id": "f36aa6a1-ea2d-4110-8342-d73d22c5c2bd",
   "metadata": {},
   "outputs": [],
   "source": [
    "df_opt_bay[\"error_holdout\"]=err_holdout_cluster_iter\n",
    "df_opt_bay.to_excel(carpeta_exp +  \"opt_bay.xlsx\",index=False)\n",
    "\n",
    "df_opt_bay"
   ]
  },
  {
   "cell_type": "code",
   "execution_count": null,
   "id": "332e49dc-bc35-4407-b6f1-80307fd087bf",
   "metadata": {},
   "outputs": [],
   "source": [
    "df_pred = pd.DataFrame(data={\"prod_cust\":prod_cust_iter,\"product_id\":prod_iter,\"customer_id\":cust_iter,\"tn_real\":y_iter,\"tn_pred\":y_pred_iter})\n",
    "df_pred = df_pred[df_pred.product_id.isin(df_prods_prediccion_entren.product_id)]\n",
    "er_holdout_general = metricas.error_rate(df_pred.tn_real,df_pred.tn_pred)\n",
    "print(\"ER Holdout General:\",er_holdout_general)\n",
    "df_pred.to_csv(carpeta_exp +  \"general_prediction_\" + str(er_holdout_general) + \".csv\",index=False)"
   ]
  },
  {
   "cell_type": "code",
   "execution_count": null,
   "id": "38ddc4b0-d81d-4636-bee3-e5c1675a06ce",
   "metadata": {},
   "outputs": [],
   "source": [
    "df_pred_prod = df_pred.groupby(\"product_id\").agg({\"tn_real\":\"sum\",\"tn_pred\":\"sum\"}).reset_index()\n",
    "er_holdout_prod = metricas.error_rate(df_pred_prod.tn_real,df_pred_prod.tn_pred)\n",
    "print(\"ER Holdout por Producto:\",er_holdout_prod)\n",
    "df_pred_prod.to_csv(carpeta_exp +  \"prod_prediction_\" + str(er_holdout_prod) + \".csv\",index=False)"
   ]
  },
  {
   "cell_type": "code",
   "execution_count": null,
   "id": "4b17b310-0032-463f-9a54-c048febe6927",
   "metadata": {},
   "outputs": [],
   "source": [
    "star_products = [20001, 20002, 20003, 20004, 20005, 20006, 20007, 20009, 20011, 20032]\n",
    "star_customers = [10001, 10002, 10003, 10004, 10005, 10006, 10007, 10008, 10009, 10011, 10012, 10013]\n",
    "df_pred_star = df_pred[(df_pred.product_id.isin(star_products))&(df_pred.customer_id.isin(star_customers))]\n",
    "\n",
    "er_holdout_star= metricas.error_rate(df_pred_star.tn_real,df_pred_star.tn_pred)\n",
    "print(\"ER Holdout por Producto-Cliente Estrellas:\",er_holdout_star)\n",
    "df_pred_prod.to_csv(carpeta_exp +  \"prod_cust_prediction_\" + str(er_holdout_star) + \".csv\",index=False)"
   ]
  },
  {
   "cell_type": "code",
   "execution_count": null,
   "id": "d4683c7c-e768-4b55-b897-b178f8c4fdd5",
   "metadata": {},
   "outputs": [],
   "source": [
    "print(\"FINALIZADO\")\n",
    "exp_numero"
   ]
  }
 ],
 "metadata": {
  "kernelspec": {
   "display_name": "Python 3 (ipykernel)",
   "language": "python",
   "name": "python3"
  },
  "language_info": {
   "codemirror_mode": {
    "name": "ipython",
    "version": 3
   },
   "file_extension": ".py",
   "mimetype": "text/x-python",
   "name": "python",
   "nbconvert_exporter": "python",
   "pygments_lexer": "ipython3",
   "version": "3.10.12"
  }
 },
 "nbformat": 4,
 "nbformat_minor": 5
}
