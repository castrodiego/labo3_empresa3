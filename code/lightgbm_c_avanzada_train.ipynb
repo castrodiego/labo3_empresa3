{
 "cells": [
  {
   "cell_type": "code",
   "execution_count": 1,
   "id": "946a34f4-5c14-46cf-a39d-9794031463bb",
   "metadata": {},
   "outputs": [
    {
     "data": {
      "text/html": [
       "<style type='text/css'>\n",
       ".datatable table.frame { margin-bottom: 0; }\n",
       ".datatable table.frame thead { border-bottom: none; }\n",
       ".datatable table.frame tr.coltypes td {  color: #FFFFFF;  line-height: 6px;  padding: 0 0.5em;}\n",
       ".datatable .bool    { background: #DDDD99; }\n",
       ".datatable .object  { background: #565656; }\n",
       ".datatable .int     { background: #5D9E5D; }\n",
       ".datatable .float   { background: #4040CC; }\n",
       ".datatable .str     { background: #CC4040; }\n",
       ".datatable .time    { background: #40CC40; }\n",
       ".datatable .row_index {  background: var(--jp-border-color3);  border-right: 1px solid var(--jp-border-color0);  color: var(--jp-ui-font-color3);  font-size: 9px;}\n",
       ".datatable .frame tbody td { text-align: left; }\n",
       ".datatable .frame tr.coltypes .row_index {  background: var(--jp-border-color0);}\n",
       ".datatable th:nth-child(2) { padding-left: 12px; }\n",
       ".datatable .hellipsis {  color: var(--jp-cell-editor-border-color);}\n",
       ".datatable .vellipsis {  background: var(--jp-layout-color0);  color: var(--jp-cell-editor-border-color);}\n",
       ".datatable .na {  color: var(--jp-cell-editor-border-color);  font-size: 80%;}\n",
       ".datatable .sp {  opacity: 0.25;}\n",
       ".datatable .footer { font-size: 9px; }\n",
       ".datatable .frame_dimensions {  background: var(--jp-border-color3);  border-top: 1px solid var(--jp-border-color0);  color: var(--jp-ui-font-color3);  display: inline-block;  opacity: 0.6;  padding: 1px 10px 1px 5px;}\n",
       ".datatable .frame thead tr.colnames {  background-image: url('data:image/png;base64,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');  background-repeat: repeat-x;  background-size: 14px;  height: 28px;}\n",
       "</style>\n"
      ],
      "text/plain": [
       "<IPython.core.display.HTML object>"
      ]
     },
     "metadata": {},
     "output_type": "display_data"
    }
   ],
   "source": [
    "import os\n",
    "import lightgbm as lgb\n",
    "import pandas as pd\n",
    "import warnings\n",
    "from matplotlib import pyplot as plt\n",
    "import seaborn as sns\n",
    "import numpy as np\n",
    "import datetime\n",
    "import optuna\n",
    "import random\n",
    "from datetime import datetime\n",
    "import pytz\n",
    "\n",
    "# importo los .py\n",
    "import sys\n",
    "sys.path.append(\"auxiliares\")\n",
    "import config\n",
    "import metricas\n",
    "import lightgbm_aux\n",
    "import extras\n",
    "\n",
    "pd.options.display.float_format = '{:.2f}'.format\n",
    "pd.set_option('display.max_columns', None)\n",
    "\n",
    "# Ignore all warnings\n",
    "warnings.filterwarnings(\"ignore\")"
   ]
  },
  {
   "cell_type": "code",
   "execution_count": 2,
   "id": "11ac74ea-68b7-46f2-83ba-a06c00f1e25c",
   "metadata": {},
   "outputs": [],
   "source": [
    "####################################################\n",
    "############# Setear segun cada maquina ############\n",
    "#os.chdir(\"C:/Users/herna/labo3_empresa3_repo/\")\n",
    "#os.chdir(\"C:/diego_tools/labo3/\")\n",
    "os.chdir(\"/home/dcastro_contacto/buckets/b1/\")\n",
    "####################################################"
   ]
  },
  {
   "cell_type": "code",
   "execution_count": 3,
   "id": "02238d29-8545-4363-b04a-f73d55495d00",
   "metadata": {},
   "outputs": [],
   "source": [
    "#Manual\n",
    "prefijo_arch_entrada = \"datasets/emp3_sellout_fe_cluster_manual_\"\n",
    "num_clusters=94\n",
    "carpeta_base_exp = \"exp/avanzada_1/\"\n",
    "\n",
    "#Time Warping\n",
    "#prefijo_arch_entrada = \"datasets/emp3_sellout_base_cluster_warp_\"\n",
    "#prefijo_arch_salida = \"datasets/emp3_sellout_fe_cluster_warp_\"\n",
    "#num_clusters=94\n",
    "#carpeta_base_exp = \"exp/avanzada_2/\""
   ]
  },
  {
   "cell_type": "code",
   "execution_count": 4,
   "id": "547b30c6-7d6b-4c08-872b-6a88a987b237",
   "metadata": {},
   "outputs": [],
   "source": [
    "def lgbm_error_rate(preds, train_data):\n",
    "    labels = train_data.get_label()\n",
    "    ret_val = metricas.error_rate(labels,preds)\n",
    "    return 'ER', ret_val, False"
   ]
  },
  {
   "cell_type": "code",
   "execution_count": 5,
   "id": "fcc3b371-807e-45c2-954d-3e720b30ede9",
   "metadata": {},
   "outputs": [],
   "source": [
    "def objective(trial):\n",
    "    print(\"****************\", config.OBJECTIVE_PARAM, \"****************\")\n",
    "    \n",
    "    lgb_params = {\n",
    "        'objective': config.OBJECTIVE_PARAM,\n",
    "        'first_metric_only': True,\n",
    "        'boost_from_average': True,\n",
    "        'max_depth':-1,\n",
    "        'lambda_l1': trial.suggest_uniform('lambda_l1', 0.0,config.L1_UPPER_PARAM),\n",
    "        'lambda_l2': trial.suggest_uniform('lambda_l2', 0.0,config.L2_UPPER_PARAM),\n",
    "        'min_gain_to_split':0.0,\n",
    "        'force_row_wise':True,\n",
    "        'feature_pre_filter':False,\n",
    "        'metric': \"None\",\n",
    "        'max_bin': config.MAX_BIN_PARAM,\n",
    "        'learning_rate': trial.suggest_uniform('learning_rate', config.LEARNING_RATE_LOWER_PARAM,config.LEARNING_RATE_UPPER_PARAM ),\n",
    "        'num_leaves' : trial.suggest_int('num_leaves', config.NUM_LEAVES_LOWER_PARAM, config.NUM_LEAVES_UPPER_PARAM),\n",
    "        'feature_fraction': trial.suggest_uniform('feature_fraction', config.FEATURE_FRACTION_LOWER_PARAM, config.FEATURE_FRACTION_UPPER_PARAM),\n",
    "        'min_data_in_leaf': trial.suggest_int('min_data_in_leaf', config.MIN_DATA_IN_LEAF_LOWER_PARAM, config.MIN_DATA_IN_LEAF_UPPER_PARAM),\n",
    "        #'bagging_freq':trial.suggest_int('bagging_freq', 1, 10),\n",
    "        #'bagging_fraction': trial.suggest_categorical('bagging_fraction',[0.7,0.75,0.8,0.85,0.9,0.95]),\n",
    "        #'extra_trees':trial.suggest_categorical('extra_trees',[True,False]),\n",
    "        'verbose':-100,\n",
    "        'num_threads':-1\n",
    "    }\n",
    "    \n",
    "    lgb_params_num_boost_round = 10000  #un numero muy grande, lo limita early_stopping_rounds\n",
    "    lgb_params_early_stopping_rounds = int(50 + 5/lgb_params['learning_rate']) #  #el parametro discolo, que depende de otro\n",
    "    \n",
    "    lgb_train = lgb.Dataset(data=X_train, label=y_train, feature_name=cols_entren)\n",
    "    lgb_validate = lgb.Dataset(data=X_validate, label=y_validate, reference=lgb_train, feature_name=cols_entren)\n",
    "    \n",
    "    #Train using selected parameters\n",
    "    model = lgb.train(lgb_params, lgb_train,\n",
    "                  valid_sets=[lgb_validate],\n",
    "                  num_boost_round=lgb_params_num_boost_round,\n",
    "                  early_stopping_rounds=lgb_params_early_stopping_rounds,\n",
    "                  feval=lgbm_error_rate,\n",
    "                  verbose_eval=100)\n",
    "    \n",
    "    y_pred_validate =model.predict(X_validate) #Create predictions on test set\n",
    "    er_validate = metricas.error_rate(y_validate,y_pred_validate)\n",
    "    \n",
    "    GLOBAL_PARAMS_ITER.append(lgb_params)\n",
    "    GLOBAL_BEST_IT_ITER.append(model.best_iteration)\n",
    "    GLOBAL_ER_VALIDATE_ITER.append(er_validate)\n",
    "    GLOBAL_MODEL_ITER.append(model)\n",
    "    \n",
    "    return er_validate"
   ]
  },
  {
   "cell_type": "code",
   "execution_count": 6,
   "id": "53ccdb1f-2f93-4bb9-9f57-9bdf50c4251f",
   "metadata": {},
   "outputs": [],
   "source": [
    "##############################################"
   ]
  },
  {
   "cell_type": "code",
   "execution_count": 7,
   "id": "0b03fc43-674a-41d9-a8e1-ed01808d3894",
   "metadata": {},
   "outputs": [
    {
     "data": {
      "text/plain": [
       "'20231212_175029'"
      ]
     },
     "execution_count": 7,
     "metadata": {},
     "output_type": "execute_result"
    }
   ],
   "source": [
    "current_datetime = datetime.now().astimezone(pytz.timezone('America/Argentina/Buenos_Aires'))\n",
    "exp_numero = current_datetime.strftime(\"%Y%m%d %H%M%S\").replace(\" \", \"_\")\n",
    "exp_numero"
   ]
  },
  {
   "cell_type": "code",
   "execution_count": 8,
   "id": "30514097-0a62-449b-896b-d2045a91be8f",
   "metadata": {},
   "outputs": [],
   "source": [
    "# Guardo Info del experimento\n",
    "carpeta_exp = carpeta_base_exp + exp_numero + \"/\"\n",
    "if not os.path.exists(carpeta_exp):\n",
    "    os.makedirs(carpeta_exp)\n",
    "    \n",
    "# Parametros\n",
    "parametros_nombres = [\"PERIODO_INICIO_PARAM\",\"TRAIN_PERIODO_LIMITE_PARAM\",\"VALIDATE_PERIODO_PARAM\",\"USAR_HOLDOUT_PARAM\",\n",
    "                      \"TRAIN_ALL_PERIODO_LIMITE_PARAM\",\"HOLDOUT_PERIODO_PARAM\",\n",
    "                      \"MODELO_FINAL_PERIODO_LIMITE_PARAM\",\"FUTURE_PERIODO_PARAM\",\n",
    "                      \"ARCH_PRODUCTOS_PREDICCION_ENTRENAMIENTO\",\"ARCH_PRODUCTOS_PREDICCION_FUTURE\",\n",
    "                      \"NUM_LAGS_PARAM\",\"FAMILIA_FEATURES_TEMP_PARAM\",\n",
    "                      \"CANT_ITERACIONES_OPT_BAY_PARAM\",\"CANT_SEMILLAS\"]\n",
    "\n",
    "parametros_valores = [config.PERIODO_INICIO_PARAM,config.TRAIN_PERIODO_LIMITE_PARAM,config.VALIDATE_PERIODO_PARAM,\n",
    "                      config.USAR_HOLDOUT_PARAM,config.TRAIN_ALL_PERIODO_LIMITE_PARAM,config.HOLDOUT_PERIODO_PARAM,\n",
    "                      config.MODELO_FINAL_PERIODO_LIMITE_PARAM,config.FUTURE_PERIODO_PARAM,\n",
    "                      config.ARCH_PRODUCTOS_PREDICCION_ENTRENAMIENTO,config.ARCH_PRODUCTOS_PREDICCION_FUTURE,\n",
    "                      config.NUM_LAGS_PARAM,config.FAMILIA_FEATURES_TEMP_PARAM,\n",
    "                      config.CANT_ITERACIONES_OPT_BAY_PARAM, config.CANT_SEMILLAS]\n",
    "\n",
    "parametros = pd.DataFrame(data={\"nombre\":parametros_nombres,\"valor\":parametros_valores})\n",
    "parametros.to_csv(carpeta_exp + \"parametros.csv\",index=False)"
   ]
  },
  {
   "cell_type": "code",
   "execution_count": 9,
   "id": "71aa4bfe-d204-451c-85fe-ae97ee3d0248",
   "metadata": {},
   "outputs": [
    {
     "name": "stdout",
     "output_type": "stream",
     "text": [
      "=========================================== Cluster 0 ===========================================\n"
     ]
    },
    {
     "name": "stderr",
     "output_type": "stream",
     "text": [
      "[I 2023-12-12 20:50:52,759] A new study created in memory with name: no-name-b698d132-921b-4eb9-86af-c867e9db890b\n"
     ]
    },
    {
     "name": "stdout",
     "output_type": "stream",
     "text": [
      "Periodos entrenar: [201701 201702 201703 201704 201705 201706 201707 201708 201709 201710\n",
      " 201711 201712 201801 201802 201803 201804 201805 201806 201807 201808\n",
      " 201809 201810]\n",
      "Periodos validar: [201812]\n",
      "product_id a validar: 27900\n",
      "X_train: (469490, 120)\n",
      "y_train: (469490,)\n",
      "\n",
      "X_validate: (27900, 120)\n",
      "y_validate: (27900,)\n",
      "Optimizacion Bayesiana\n",
      "**************** regression ****************\n",
      "Training until validation scores don't improve for 142 rounds\n",
      "[100]\tvalid_0's ER: 124.92\n",
      "[200]\tvalid_0's ER: 119.14\n",
      "[300]\tvalid_0's ER: 116.77\n"
     ]
    },
    {
     "name": "stderr",
     "output_type": "stream",
     "text": [
      "[I 2023-12-12 20:51:09,195] Trial 0 finished with value: 115.96 and parameters: {'lambda_l1': 872.6277887101201, 'lambda_l2': 982.294209076426, 'learning_rate': 0.05402148692410072, 'num_leaves': 76, 'feature_fraction': 0.38849829821491455, 'min_data_in_leaf': 6228}. Best is trial 0 with value: 115.96.\n"
     ]
    },
    {
     "name": "stdout",
     "output_type": "stream",
     "text": [
      "[400]\tvalid_0's ER: 118.89\n",
      "Early stopping, best iteration is:\n",
      "[258]\tvalid_0's ER: 115.96\n",
      "Evaluated only: ER\n",
      "**************** regression ****************\n",
      "Training until validation scores don't improve for 79 rounds\n",
      "[100]\tvalid_0's ER: 123.85\n"
     ]
    },
    {
     "name": "stderr",
     "output_type": "stream",
     "text": [
      "[I 2023-12-12 20:51:16,294] Trial 1 finished with value: 118.75 and parameters: {'lambda_l1': 855.8135540622369, 'lambda_l2': 134.9973368567644, 'learning_rate': 0.16998531636481617, 'num_leaves': 610, 'feature_fraction': 0.32596604610545565, 'min_data_in_leaf': 6186}. Best is trial 0 with value: 115.96.\n"
     ]
    },
    {
     "name": "stdout",
     "output_type": "stream",
     "text": [
      "Early stopping, best iteration is:\n",
      "[67]\tvalid_0's ER: 118.75\n",
      "Evaluated only: ER\n",
      "# Experimentos: 2\n",
      "Mejor experimento: {'lambda_l1': 872.6277887101201, 'lambda_l2': 982.294209076426, 'learning_rate': 0.05402148692410072, 'num_leaves': 76, 'feature_fraction': 0.38849829821491455, 'min_data_in_leaf': 6228}\n",
      "=========================================== Cluster 1 ===========================================\n"
     ]
    },
    {
     "name": "stderr",
     "output_type": "stream",
     "text": [
      "[I 2023-12-12 20:51:30,452] A new study created in memory with name: no-name-1337d0c8-0a82-435d-9061-34ab9157b0a7\n"
     ]
    },
    {
     "name": "stdout",
     "output_type": "stream",
     "text": [
      "Periodos entrenar: [201701 201702 201703 201704 201705 201706 201707 201708 201709 201710\n",
      " 201711 201712 201801 201802 201803 201804 201805 201806 201807 201808\n",
      " 201809 201810]\n",
      "Periodos validar: [201812]\n",
      "product_id a validar: 19530\n",
      "X_train: (361369, 120)\n",
      "y_train: (361369,)\n",
      "\n",
      "X_validate: (19530, 120)\n",
      "y_validate: (19530,)\n",
      "Optimizacion Bayesiana\n",
      "**************** regression ****************\n",
      "Training until validation scores don't improve for 68 rounds\n",
      "[100]\tvalid_0's ER: 103.77\n",
      "[200]\tvalid_0's ER: 103.81\n",
      "[300]\tvalid_0's ER: 100.49\n",
      "[400]\tvalid_0's ER: 100.65\n"
     ]
    },
    {
     "name": "stderr",
     "output_type": "stream",
     "text": [
      "[I 2023-12-12 20:51:46,840] Trial 0 finished with value: 99.59 and parameters: {'lambda_l1': 267.7172287499953, 'lambda_l2': 617.6204822670687, 'learning_rate': 0.27734383796949114, 'num_leaves': 516, 'feature_fraction': 0.43832287021753474, 'min_data_in_leaf': 1758}. Best is trial 0 with value: 99.59.\n"
     ]
    },
    {
     "name": "stdout",
     "output_type": "stream",
     "text": [
      "Early stopping, best iteration is:\n",
      "[358]\tvalid_0's ER: 99.59\n",
      "Evaluated only: ER\n",
      "**************** regression ****************\n",
      "Training until validation scores don't improve for 120 rounds\n",
      "[100]\tvalid_0's ER: 132.29\n",
      "[200]\tvalid_0's ER: 125.5\n",
      "[300]\tvalid_0's ER: 122.62\n",
      "[400]\tvalid_0's ER: 122\n",
      "[500]\tvalid_0's ER: 122.35\n",
      "[600]\tvalid_0's ER: 120.17\n",
      "[700]\tvalid_0's ER: 118.59\n",
      "[800]\tvalid_0's ER: 119.13\n",
      "[900]\tvalid_0's ER: 117.24\n",
      "[1000]\tvalid_0's ER: 114.84\n",
      "[1100]\tvalid_0's ER: 112.6\n",
      "[1200]\tvalid_0's ER: 111.22\n",
      "[1300]\tvalid_0's ER: 109.95\n",
      "[1400]\tvalid_0's ER: 109.31\n",
      "[1500]\tvalid_0's ER: 108.83\n",
      "[1600]\tvalid_0's ER: 108.19\n",
      "[1700]\tvalid_0's ER: 107.7\n",
      "[1800]\tvalid_0's ER: 107.08\n",
      "[1900]\tvalid_0's ER: 107.57\n",
      "Early stopping, best iteration is:\n",
      "[1797]\tvalid_0's ER: 107.02\n",
      "Evaluated only: ER\n"
     ]
    },
    {
     "name": "stderr",
     "output_type": "stream",
     "text": [
      "[I 2023-12-12 20:53:12,644] Trial 1 finished with value: 107.02 and parameters: {'lambda_l1': 575.5297984918265, 'lambda_l2': 697.6063461655912, 'learning_rate': 0.07099920130015713, 'num_leaves': 44, 'feature_fraction': 0.8130797703785988, 'min_data_in_leaf': 7229}. Best is trial 0 with value: 99.59.\n"
     ]
    },
    {
     "name": "stdout",
     "output_type": "stream",
     "text": [
      "# Experimentos: 2\n",
      "Mejor experimento: {'lambda_l1': 267.7172287499953, 'lambda_l2': 617.6204822670687, 'learning_rate': 0.27734383796949114, 'num_leaves': 516, 'feature_fraction': 0.43832287021753474, 'min_data_in_leaf': 1758}\n",
      "=========================================== Cluster 2 ===========================================\n"
     ]
    },
    {
     "name": "stderr",
     "output_type": "stream",
     "text": [
      "[I 2023-12-12 20:53:17,384] A new study created in memory with name: no-name-8ff4d583-0141-459a-aa9d-1f82565ededb\n"
     ]
    },
    {
     "name": "stdout",
     "output_type": "stream",
     "text": [
      "Periodos entrenar: [201701 201702 201703 201704 201705 201706 201707 201708 201709 201710\n",
      " 201711 201712 201801 201802 201803 201804 201805 201806 201807 201808\n",
      " 201809 201810]\n",
      "Periodos validar: [201812]\n",
      "product_id a validar: 6138\n",
      "X_train: (126665, 120)\n",
      "y_train: (126665,)\n",
      "\n",
      "X_validate: (6138, 120)\n",
      "y_validate: (6138,)\n",
      "Optimizacion Bayesiana\n",
      "**************** regression ****************\n",
      "Training until validation scores don't improve for 69 rounds\n",
      "[100]\tvalid_0's ER: 102.68\n"
     ]
    },
    {
     "name": "stderr",
     "output_type": "stream",
     "text": [
      "[I 2023-12-12 20:53:20,387] Trial 0 finished with value: 99.75 and parameters: {'lambda_l1': 164.43419086215638, 'lambda_l2': 917.1319258725001, 'learning_rate': 0.25271912837252186, 'num_leaves': 921, 'feature_fraction': 0.9431747913757043, 'min_data_in_leaf': 7149}. Best is trial 0 with value: 99.75.\n"
     ]
    },
    {
     "name": "stdout",
     "output_type": "stream",
     "text": [
      "Early stopping, best iteration is:\n",
      "[65]\tvalid_0's ER: 99.75\n",
      "Evaluated only: ER\n",
      "**************** regression ****************\n",
      "Training until validation scores don't improve for 144 rounds\n",
      "[100]\tvalid_0's ER: 111.14\n",
      "[200]\tvalid_0's ER: 106.7\n",
      "[300]\tvalid_0's ER: 104.47\n",
      "[400]\tvalid_0's ER: 102.96\n",
      "[500]\tvalid_0's ER: 102.18\n",
      "[600]\tvalid_0's ER: 101.92\n"
     ]
    },
    {
     "name": "stderr",
     "output_type": "stream",
     "text": [
      "[I 2023-12-12 20:53:26,590] Trial 1 finished with value: 101.66 and parameters: {'lambda_l1': 889.8251176062547, 'lambda_l2': 560.066315725299, 'learning_rate': 0.05283051013104414, 'num_leaves': 192, 'feature_fraction': 0.2848807021067085, 'min_data_in_leaf': 7308}. Best is trial 0 with value: 99.75.\n"
     ]
    },
    {
     "name": "stdout",
     "output_type": "stream",
     "text": [
      "[700]\tvalid_0's ER: 102.5\n",
      "Early stopping, best iteration is:\n",
      "[571]\tvalid_0's ER: 101.66\n",
      "Evaluated only: ER\n",
      "# Experimentos: 2\n",
      "Mejor experimento: {'lambda_l1': 164.43419086215638, 'lambda_l2': 917.1319258725001, 'learning_rate': 0.25271912837252186, 'num_leaves': 921, 'feature_fraction': 0.9431747913757043, 'min_data_in_leaf': 7149}\n",
      "=========================================== Cluster 3 ===========================================\n",
      "Periodos entrenar: [201701 201702 201703 201704 201705 201706 201707 201708 201709 201710\n",
      " 201711 201712 201801 201802 201803 201804 201805 201806 201807 201808\n",
      " 201809 201810]\n",
      "Periodos validar: [201812]\n",
      "product_id a validar: 55242\n"
     ]
    },
    {
     "name": "stderr",
     "output_type": "stream",
     "text": [
      "[I 2023-12-12 20:54:09,238] A new study created in memory with name: no-name-61da9da5-4cdc-47f5-9bd8-eb86bd694d43\n"
     ]
    },
    {
     "name": "stdout",
     "output_type": "stream",
     "text": [
      "X_train: (956945, 120)\n",
      "y_train: (956945,)\n",
      "\n",
      "X_validate: (55242, 120)\n",
      "y_validate: (55242,)\n",
      "Optimizacion Bayesiana\n",
      "**************** regression ****************\n",
      "Training until validation scores don't improve for 77 rounds\n",
      "[100]\tvalid_0's ER: 107.32\n"
     ]
    },
    {
     "name": "stderr",
     "output_type": "stream",
     "text": [
      "[I 2023-12-12 20:54:22,556] Trial 0 finished with value: 106.21 and parameters: {'lambda_l1': 316.0267244991688, 'lambda_l2': 512.180363982119, 'learning_rate': 0.18229712791087088, 'num_leaves': 740, 'feature_fraction': 0.22847210445263305, 'min_data_in_leaf': 5273}. Best is trial 0 with value: 106.21.\n"
     ]
    },
    {
     "name": "stdout",
     "output_type": "stream",
     "text": [
      "Early stopping, best iteration is:\n",
      "[90]\tvalid_0's ER: 106.21\n",
      "Evaluated only: ER\n",
      "**************** regression ****************\n",
      "Training until validation scores don't improve for 83 rounds\n",
      "[100]\tvalid_0's ER: 107.87\n",
      "[200]\tvalid_0's ER: 100.87\n",
      "[300]\tvalid_0's ER: 99.3\n",
      "[400]\tvalid_0's ER: 97.85\n",
      "[500]\tvalid_0's ER: 97.34\n",
      "[600]\tvalid_0's ER: 96.32\n",
      "[700]\tvalid_0's ER: 95.81\n",
      "Early stopping, best iteration is:\n",
      "[713]\tvalid_0's ER: 95.35\n",
      "Evaluated only: ER\n"
     ]
    },
    {
     "name": "stderr",
     "output_type": "stream",
     "text": [
      "[I 2023-12-12 20:56:02,757] Trial 1 finished with value: 95.35 and parameters: {'lambda_l1': 207.21501246217477, 'lambda_l2': 575.2296284624388, 'learning_rate': 0.14790185851572552, 'num_leaves': 632, 'feature_fraction': 0.7912303545196491, 'min_data_in_leaf': 3518}. Best is trial 1 with value: 95.35.\n"
     ]
    },
    {
     "name": "stdout",
     "output_type": "stream",
     "text": [
      "# Experimentos: 2\n",
      "Mejor experimento: {'lambda_l1': 207.21501246217477, 'lambda_l2': 575.2296284624388, 'learning_rate': 0.14790185851572552, 'num_leaves': 632, 'feature_fraction': 0.7912303545196491, 'min_data_in_leaf': 3518}\n",
      "=========================================== Cluster 4 ===========================================\n"
     ]
    },
    {
     "name": "stderr",
     "output_type": "stream",
     "text": [
      "[I 2023-12-12 20:56:07,101] A new study created in memory with name: no-name-cfcba2f1-6d9f-4da8-949d-1bf6d2764248\n"
     ]
    },
    {
     "name": "stdout",
     "output_type": "stream",
     "text": [
      "Periodos entrenar: [201701 201702 201703 201704 201705 201706 201707 201708 201709 201710\n",
      " 201711 201712 201801 201802 201803 201804 201805 201806 201807 201808\n",
      " 201809 201810]\n",
      "Periodos validar: [201812]\n",
      "product_id a validar: 6138\n",
      "X_train: (117049, 120)\n",
      "y_train: (117049,)\n",
      "\n",
      "X_validate: (6138, 120)\n",
      "y_validate: (6138,)\n",
      "Optimizacion Bayesiana\n",
      "**************** regression ****************\n",
      "Training until validation scores don't improve for 171 rounds\n",
      "[100]\tvalid_0's ER: 107.41\n",
      "[200]\tvalid_0's ER: 96.88\n",
      "[300]\tvalid_0's ER: 93.01\n",
      "[400]\tvalid_0's ER: 91.5\n",
      "[500]\tvalid_0's ER: 89.8\n",
      "[600]\tvalid_0's ER: 88.68\n",
      "[700]\tvalid_0's ER: 88.11\n",
      "[800]\tvalid_0's ER: 87.8\n",
      "[900]\tvalid_0's ER: 87.71\n",
      "[1000]\tvalid_0's ER: 87.59\n",
      "[1100]\tvalid_0's ER: 87.69\n"
     ]
    },
    {
     "name": "stderr",
     "output_type": "stream",
     "text": [
      "[I 2023-12-12 20:56:19,030] Trial 0 finished with value: 87.51 and parameters: {'lambda_l1': 855.4145862482103, 'lambda_l2': 260.4579754502295, 'learning_rate': 0.041082568899573374, 'num_leaves': 993, 'feature_fraction': 0.4981536378748624, 'min_data_in_leaf': 6289}. Best is trial 0 with value: 87.51.\n"
     ]
    },
    {
     "name": "stdout",
     "output_type": "stream",
     "text": [
      "Early stopping, best iteration is:\n",
      "[979]\tvalid_0's ER: 87.51\n",
      "Evaluated only: ER\n",
      "**************** regression ****************\n",
      "Training until validation scores don't improve for 67 rounds\n",
      "[100]\tvalid_0's ER: 89.17\n"
     ]
    },
    {
     "name": "stderr",
     "output_type": "stream",
     "text": [
      "[I 2023-12-12 20:56:21,703] Trial 1 finished with value: 88.15 and parameters: {'lambda_l1': 709.3885218212963, 'lambda_l2': 430.32245234723234, 'learning_rate': 0.29234517434275953, 'num_leaves': 795, 'feature_fraction': 0.946103363868041, 'min_data_in_leaf': 5683}. Best is trial 0 with value: 87.51.\n"
     ]
    },
    {
     "name": "stdout",
     "output_type": "stream",
     "text": [
      "Early stopping, best iteration is:\n",
      "[88]\tvalid_0's ER: 88.15\n",
      "Evaluated only: ER\n",
      "# Experimentos: 2\n",
      "Mejor experimento: {'lambda_l1': 855.4145862482103, 'lambda_l2': 260.4579754502295, 'learning_rate': 0.041082568899573374, 'num_leaves': 993, 'feature_fraction': 0.4981536378748624, 'min_data_in_leaf': 6289}\n",
      "=========================================== Cluster 5 ===========================================\n"
     ]
    },
    {
     "name": "stderr",
     "output_type": "stream",
     "text": [
      "[I 2023-12-12 20:56:38,967] A new study created in memory with name: no-name-80acc694-50c8-438c-bb14-da18b5732185\n"
     ]
    },
    {
     "name": "stdout",
     "output_type": "stream",
     "text": [
      "Periodos entrenar: [201701 201702 201703 201704 201705 201706 201707 201708 201709 201710\n",
      " 201711 201712 201801 201802 201803 201804 201805 201806 201807 201808\n",
      " 201809 201810]\n",
      "Periodos validar: [201812]\n",
      "product_id a validar: 22320\n",
      "X_train: (449966, 120)\n",
      "y_train: (449966,)\n",
      "\n",
      "X_validate: (22320, 120)\n",
      "y_validate: (22320,)\n",
      "Optimizacion Bayesiana\n",
      "**************** regression ****************\n",
      "Training until validation scores don't improve for 71 rounds\n"
     ]
    },
    {
     "name": "stderr",
     "output_type": "stream",
     "text": [
      "[I 2023-12-12 20:56:47,333] Trial 0 finished with value: 101.05 and parameters: {'lambda_l1': 349.1925439525473, 'lambda_l2': 8.47058670176104, 'learning_rate': 0.23756268453304974, 'num_leaves': 911, 'feature_fraction': 0.7831325671702272, 'min_data_in_leaf': 2732}. Best is trial 0 with value: 101.05.\n"
     ]
    },
    {
     "name": "stdout",
     "output_type": "stream",
     "text": [
      "Early stopping, best iteration is:\n",
      "[25]\tvalid_0's ER: 101.05\n",
      "Evaluated only: ER\n",
      "**************** regression ****************\n",
      "Training until validation scores don't improve for 165 rounds\n",
      "[100]\tvalid_0's ER: 102.84\n",
      "[200]\tvalid_0's ER: 98.87\n",
      "[300]\tvalid_0's ER: 98.22\n",
      "[400]\tvalid_0's ER: 98.12\n",
      "[500]\tvalid_0's ER: 98.5\n"
     ]
    },
    {
     "name": "stderr",
     "output_type": "stream",
     "text": [
      "[I 2023-12-12 20:57:04,925] Trial 1 finished with value: 98.07 and parameters: {'lambda_l1': 617.2985003235652, 'lambda_l2': 861.7612480798559, 'learning_rate': 0.04311219069905345, 'num_leaves': 49, 'feature_fraction': 0.27586495968822844, 'min_data_in_leaf': 4452}. Best is trial 1 with value: 98.07.\n"
     ]
    },
    {
     "name": "stdout",
     "output_type": "stream",
     "text": [
      "Early stopping, best iteration is:\n",
      "[366]\tvalid_0's ER: 98.07\n",
      "Evaluated only: ER\n",
      "# Experimentos: 2\n",
      "Mejor experimento: {'lambda_l1': 617.2985003235652, 'lambda_l2': 861.7612480798559, 'learning_rate': 0.04311219069905345, 'num_leaves': 49, 'feature_fraction': 0.27586495968822844, 'min_data_in_leaf': 4452}\n",
      "=========================================== Cluster 6 ===========================================\n"
     ]
    },
    {
     "name": "stderr",
     "output_type": "stream",
     "text": [
      "[I 2023-12-12 20:57:10,284] A new study created in memory with name: no-name-4bbe01d4-14ce-4768-a18d-7f0a823cd2b9\n"
     ]
    },
    {
     "name": "stdout",
     "output_type": "stream",
     "text": [
      "Periodos entrenar: [201701 201702 201703 201704 201705 201706 201707 201708 201709 201710\n",
      " 201711 201712 201801 201802 201803 201804 201805 201806 201807 201808\n",
      " 201809 201810]\n",
      "Periodos validar: [201812]\n",
      "product_id a validar: 7254\n",
      "X_train: (149695, 120)\n",
      "y_train: (149695,)\n",
      "\n",
      "X_validate: (7254, 120)\n",
      "y_validate: (7254,)\n",
      "Optimizacion Bayesiana\n",
      "**************** regression ****************\n",
      "Training until validation scores don't improve for 289 rounds\n",
      "[100]\tvalid_0's ER: 109.09\n",
      "[200]\tvalid_0's ER: 98.07\n",
      "[300]\tvalid_0's ER: 94.91\n",
      "[400]\tvalid_0's ER: 93.13\n",
      "[500]\tvalid_0's ER: 91.75\n",
      "[600]\tvalid_0's ER: 90.86\n",
      "[700]\tvalid_0's ER: 90.34\n",
      "[800]\tvalid_0's ER: 90.01\n",
      "[900]\tvalid_0's ER: 90.23\n",
      "[1000]\tvalid_0's ER: 90.14\n"
     ]
    },
    {
     "name": "stderr",
     "output_type": "stream",
     "text": [
      "[I 2023-12-12 20:57:29,500] Trial 0 finished with value: 89.94 and parameters: {'lambda_l1': 542.3799352193396, 'lambda_l2': 329.30700159114144, 'learning_rate': 0.020862248243547737, 'num_leaves': 302, 'feature_fraction': 0.6223289315939158, 'min_data_in_leaf': 3463}. Best is trial 0 with value: 89.94.\n"
     ]
    },
    {
     "name": "stdout",
     "output_type": "stream",
     "text": [
      "Early stopping, best iteration is:\n",
      "[795]\tvalid_0's ER: 89.94\n",
      "Evaluated only: ER\n",
      "**************** regression ****************\n",
      "Training until validation scores don't improve for 73 rounds\n",
      "[100]\tvalid_0's ER: 87.31\n",
      "[200]\tvalid_0's ER: 84.76\n"
     ]
    },
    {
     "name": "stderr",
     "output_type": "stream",
     "text": [
      "[I 2023-12-12 20:57:34,943] Trial 1 finished with value: 84.52 and parameters: {'lambda_l1': 296.3822588754852, 'lambda_l2': 887.4501935583776, 'learning_rate': 0.21321557562690874, 'num_leaves': 70, 'feature_fraction': 0.7643073061449388, 'min_data_in_leaf': 2171}. Best is trial 1 with value: 84.52.\n"
     ]
    },
    {
     "name": "stdout",
     "output_type": "stream",
     "text": [
      "Early stopping, best iteration is:\n",
      "[197]\tvalid_0's ER: 84.52\n",
      "Evaluated only: ER\n",
      "# Experimentos: 2\n",
      "Mejor experimento: {'lambda_l1': 296.3822588754852, 'lambda_l2': 887.4501935583776, 'learning_rate': 0.21321557562690874, 'num_leaves': 70, 'feature_fraction': 0.7643073061449388, 'min_data_in_leaf': 2171}\n",
      "=========================================== Cluster 7 ===========================================\n"
     ]
    },
    {
     "name": "stderr",
     "output_type": "stream",
     "text": [
      "[I 2023-12-12 20:57:39,020] A new study created in memory with name: no-name-a781946c-7b4f-4a07-acc1-35d7039aaf15\n"
     ]
    },
    {
     "name": "stdout",
     "output_type": "stream",
     "text": [
      "Periodos entrenar: [201701 201702 201703 201704 201705 201706 201707 201708 201709 201710\n",
      " 201711 201712 201801 201802 201803 201804 201805 201806 201807 201808\n",
      " 201809 201810]\n",
      "Periodos validar: [201812]\n",
      "product_id a validar: 5022\n",
      "X_train: (103635, 120)\n",
      "y_train: (103635,)\n",
      "\n",
      "X_validate: (5022, 120)\n",
      "y_validate: (5022,)\n",
      "Optimizacion Bayesiana\n",
      "**************** regression ****************\n",
      "Training until validation scores don't improve for 75 rounds\n",
      "[100]\tvalid_0's ER: 136.23\n",
      "[200]\tvalid_0's ER: 128.22\n"
     ]
    },
    {
     "name": "stderr",
     "output_type": "stream",
     "text": [
      "[I 2023-12-12 20:57:42,723] Trial 0 finished with value: 127.2 and parameters: {'lambda_l1': 977.7332337028809, 'lambda_l2': 869.6423818622675, 'learning_rate': 0.1943106200694694, 'num_leaves': 534, 'feature_fraction': 0.7285557730694592, 'min_data_in_leaf': 4694}. Best is trial 0 with value: 127.2.\n"
     ]
    },
    {
     "name": "stdout",
     "output_type": "stream",
     "text": [
      "[300]\tvalid_0's ER: 127.23\n",
      "Early stopping, best iteration is:\n",
      "[228]\tvalid_0's ER: 127.2\n",
      "Evaluated only: ER\n",
      "**************** regression ****************\n",
      "Training until validation scores don't improve for 83 rounds\n",
      "[100]\tvalid_0's ER: 138.91\n",
      "[200]\tvalid_0's ER: 129.4\n",
      "[300]\tvalid_0's ER: 125.75\n"
     ]
    },
    {
     "name": "stderr",
     "output_type": "stream",
     "text": [
      "[I 2023-12-12 20:57:47,342] Trial 1 finished with value: 125.61 and parameters: {'lambda_l1': 991.2619696348717, 'lambda_l2': 42.505369917807734, 'learning_rate': 0.14794296773866902, 'num_leaves': 841, 'feature_fraction': 0.6093501727332316, 'min_data_in_leaf': 5236}. Best is trial 1 with value: 125.61.\n"
     ]
    },
    {
     "name": "stdout",
     "output_type": "stream",
     "text": [
      "[400]\tvalid_0's ER: 125.77\n",
      "Early stopping, best iteration is:\n",
      "[320]\tvalid_0's ER: 125.61\n",
      "Evaluated only: ER\n",
      "# Experimentos: 2\n",
      "Mejor experimento: {'lambda_l1': 991.2619696348717, 'lambda_l2': 42.505369917807734, 'learning_rate': 0.14794296773866902, 'num_leaves': 841, 'feature_fraction': 0.6093501727332316, 'min_data_in_leaf': 5236}\n",
      "=========================================== Cluster 8 ===========================================\n"
     ]
    },
    {
     "name": "stderr",
     "output_type": "stream",
     "text": [
      "[I 2023-12-12 20:57:49,217] A new study created in memory with name: no-name-b2c76b6b-9505-4847-b3ae-49c5b4192ce6\n"
     ]
    },
    {
     "name": "stdout",
     "output_type": "stream",
     "text": [
      "Periodos entrenar: [201701 201702 201703 201704 201705 201706 201707 201708 201709 201710\n",
      " 201711 201712 201801 201802 201803 201804 201805 201806 201807 201808\n",
      " 201809 201810]\n",
      "Periodos validar: [201812]\n",
      "product_id a validar: 2790\n",
      "X_train: (50408, 120)\n",
      "y_train: (50408,)\n",
      "\n",
      "X_validate: (2790, 120)\n",
      "y_validate: (2790,)\n",
      "Optimizacion Bayesiana\n",
      "**************** regression ****************\n",
      "Training until validation scores don't improve for 68 rounds\n"
     ]
    },
    {
     "name": "stderr",
     "output_type": "stream",
     "text": [
      "[I 2023-12-12 20:57:49,990] Trial 0 finished with value: 83.38 and parameters: {'lambda_l1': 704.0425028148422, 'lambda_l2': 191.95518223237352, 'learning_rate': 0.26492253380217423, 'num_leaves': 242, 'feature_fraction': 0.3167867827160189, 'min_data_in_leaf': 1554}. Best is trial 0 with value: 83.38.\n"
     ]
    },
    {
     "name": "stdout",
     "output_type": "stream",
     "text": [
      "[100]\tvalid_0's ER: 83.38\n",
      "Early stopping, best iteration is:\n",
      "[82]\tvalid_0's ER: 83.38\n",
      "Evaluated only: ER\n",
      "**************** regression ****************\n",
      "Training until validation scores don't improve for 391 rounds\n",
      "[100]\tvalid_0's ER: 129.78\n",
      "[200]\tvalid_0's ER: 112.82\n",
      "[300]\tvalid_0's ER: 109.96\n",
      "[400]\tvalid_0's ER: 107.6\n",
      "[500]\tvalid_0's ER: 104.91\n",
      "[600]\tvalid_0's ER: 102.66\n",
      "[700]\tvalid_0's ER: 100.56\n",
      "[800]\tvalid_0's ER: 99.26\n",
      "[900]\tvalid_0's ER: 98.11\n",
      "[1000]\tvalid_0's ER: 97.21\n",
      "[1100]\tvalid_0's ER: 96.54\n",
      "[1200]\tvalid_0's ER: 95.95\n",
      "[1300]\tvalid_0's ER: 95.14\n",
      "[1400]\tvalid_0's ER: 94.35\n",
      "[1500]\tvalid_0's ER: 93.66\n",
      "[1600]\tvalid_0's ER: 92.87\n",
      "[1700]\tvalid_0's ER: 92.21\n",
      "[1800]\tvalid_0's ER: 91.67\n",
      "[1900]\tvalid_0's ER: 91.25\n",
      "[2000]\tvalid_0's ER: 90.91\n",
      "[2100]\tvalid_0's ER: 90.5\n",
      "[2200]\tvalid_0's ER: 90.15\n",
      "[2300]\tvalid_0's ER: 89.9\n",
      "[2400]\tvalid_0's ER: 89.71\n",
      "[2500]\tvalid_0's ER: 89.56\n",
      "[2600]\tvalid_0's ER: 89.41\n",
      "[2700]\tvalid_0's ER: 89.38\n",
      "[2800]\tvalid_0's ER: 89.23\n",
      "[2900]\tvalid_0's ER: 89.09\n",
      "[3000]\tvalid_0's ER: 88.92\n",
      "[3100]\tvalid_0's ER: 88.79\n",
      "[3200]\tvalid_0's ER: 88.68\n",
      "[3300]\tvalid_0's ER: 88.59\n",
      "[3400]\tvalid_0's ER: 88.54\n",
      "[3500]\tvalid_0's ER: 88.42\n",
      "[3600]\tvalid_0's ER: 88.39\n",
      "[3700]\tvalid_0's ER: 88.33\n",
      "[3800]\tvalid_0's ER: 88.24\n",
      "[3900]\tvalid_0's ER: 88.19\n",
      "[4000]\tvalid_0's ER: 88.22\n",
      "[4100]\tvalid_0's ER: 88.1\n",
      "[4200]\tvalid_0's ER: 88.05\n",
      "[4300]\tvalid_0's ER: 88.06\n",
      "[4400]\tvalid_0's ER: 88.07\n",
      "[4500]\tvalid_0's ER: 88\n",
      "[4600]\tvalid_0's ER: 87.93\n",
      "[4700]\tvalid_0's ER: 87.88\n",
      "[4800]\tvalid_0's ER: 87.86\n",
      "[4900]\tvalid_0's ER: 87.86\n",
      "[5000]\tvalid_0's ER: 87.83\n",
      "[5100]\tvalid_0's ER: 87.81\n",
      "[5200]\tvalid_0's ER: 87.77\n",
      "[5300]\tvalid_0's ER: 87.82\n",
      "[5400]\tvalid_0's ER: 87.81\n",
      "[5500]\tvalid_0's ER: 87.79\n",
      "[5600]\tvalid_0's ER: 87.76\n",
      "[5700]\tvalid_0's ER: 87.78\n",
      "[5800]\tvalid_0's ER: 87.78\n",
      "[5900]\tvalid_0's ER: 87.78\n",
      "Early stopping, best iteration is:\n",
      "[5544]\tvalid_0's ER: 87.76\n",
      "Evaluated only: ER\n"
     ]
    },
    {
     "name": "stderr",
     "output_type": "stream",
     "text": [
      "[I 2023-12-12 20:58:08,272] Trial 1 finished with value: 87.76 and parameters: {'lambda_l1': 889.1294092329558, 'lambda_l2': 871.7775258159544, 'learning_rate': 0.01462348274749509, 'num_leaves': 335, 'feature_fraction': 0.23329241179549864, 'min_data_in_leaf': 6703}. Best is trial 0 with value: 83.38.\n"
     ]
    },
    {
     "name": "stdout",
     "output_type": "stream",
     "text": [
      "# Experimentos: 2\n",
      "Mejor experimento: {'lambda_l1': 704.0425028148422, 'lambda_l2': 191.95518223237352, 'learning_rate': 0.26492253380217423, 'num_leaves': 242, 'feature_fraction': 0.3167867827160189, 'min_data_in_leaf': 1554}\n",
      "=========================================== Cluster 9 ===========================================\n"
     ]
    },
    {
     "name": "stderr",
     "output_type": "stream",
     "text": [
      "[I 2023-12-12 20:58:11,343] A new study created in memory with name: no-name-792f8611-1b27-489b-ab78-4bb68b0ffc55\n"
     ]
    },
    {
     "name": "stdout",
     "output_type": "stream",
     "text": [
      "Periodos entrenar: [201701 201702 201703 201704 201705 201706 201707 201708 201709 201710\n",
      " 201711 201712 201801 201802 201803 201804 201805 201806 201807 201808\n",
      " 201809 201810]\n",
      "Periodos validar: [201812]\n",
      "product_id a validar: 4464\n",
      "X_train: (81712, 120)\n",
      "y_train: (81712,)\n",
      "\n",
      "X_validate: (4464, 120)\n",
      "y_validate: (4464,)\n",
      "Optimizacion Bayesiana\n",
      "**************** regression ****************\n",
      "Training until validation scores don't improve for 71 rounds\n",
      "[100]\tvalid_0's ER: 144.37\n"
     ]
    },
    {
     "name": "stderr",
     "output_type": "stream",
     "text": [
      "[I 2023-12-12 20:58:12,935] Trial 0 finished with value: 140.41 and parameters: {'lambda_l1': 964.4839513268186, 'lambda_l2': 797.1963377362035, 'learning_rate': 0.2345151435487831, 'num_leaves': 697, 'feature_fraction': 0.8166450948867479, 'min_data_in_leaf': 5223}. Best is trial 0 with value: 140.41.\n"
     ]
    },
    {
     "name": "stdout",
     "output_type": "stream",
     "text": [
      "Early stopping, best iteration is:\n",
      "[60]\tvalid_0's ER: 140.41\n",
      "Evaluated only: ER\n",
      "**************** regression ****************\n",
      "Training until validation scores don't improve for 78 rounds\n",
      "[100]\tvalid_0's ER: 132.27\n"
     ]
    },
    {
     "name": "stderr",
     "output_type": "stream",
     "text": [
      "[I 2023-12-12 20:58:15,128] Trial 1 finished with value: 131.2 and parameters: {'lambda_l1': 783.6064002608059, 'lambda_l2': 86.84440579122787, 'learning_rate': 0.17836828612222735, 'num_leaves': 108, 'feature_fraction': 0.9725930657564579, 'min_data_in_leaf': 2763}. Best is trial 1 with value: 131.2.\n"
     ]
    },
    {
     "name": "stdout",
     "output_type": "stream",
     "text": [
      "[200]\tvalid_0's ER: 131.93\n",
      "Early stopping, best iteration is:\n",
      "[127]\tvalid_0's ER: 131.2\n",
      "Evaluated only: ER\n",
      "# Experimentos: 2\n",
      "Mejor experimento: {'lambda_l1': 783.6064002608059, 'lambda_l2': 86.84440579122787, 'learning_rate': 0.17836828612222735, 'num_leaves': 108, 'feature_fraction': 0.9725930657564579, 'min_data_in_leaf': 2763}\n",
      "=========================================== Cluster 10 ===========================================\n"
     ]
    },
    {
     "name": "stderr",
     "output_type": "stream",
     "text": [
      "[I 2023-12-12 20:58:22,322] A new study created in memory with name: no-name-ee955658-d3df-48da-b867-71919504591b\n"
     ]
    },
    {
     "name": "stdout",
     "output_type": "stream",
     "text": [
      "Periodos entrenar: [201701 201702 201703 201704 201705 201706 201707 201708 201709 201710\n",
      " 201711 201712 201801 201802 201803 201804 201805 201806 201807 201808\n",
      " 201809 201810]\n",
      "Periodos validar: [201812]\n",
      "product_id a validar: 10044\n",
      "X_train: (197168, 120)\n",
      "y_train: (197168,)\n",
      "\n",
      "X_validate: (10044, 120)\n",
      "y_validate: (10044,)\n",
      "Optimizacion Bayesiana\n",
      "**************** regression ****************\n",
      "Training until validation scores don't improve for 211 rounds\n",
      "[100]\tvalid_0's ER: 97.46\n",
      "[200]\tvalid_0's ER: 93.18\n",
      "[300]\tvalid_0's ER: 91.27\n",
      "[400]\tvalid_0's ER: 91.45\n",
      "[500]\tvalid_0's ER: 92.52\n"
     ]
    },
    {
     "name": "stderr",
     "output_type": "stream",
     "text": [
      "[I 2023-12-12 20:58:38,003] Trial 0 finished with value: 91.14 and parameters: {'lambda_l1': 67.37834195783454, 'lambda_l2': 723.8937711814565, 'learning_rate': 0.031009360328613976, 'num_leaves': 440, 'feature_fraction': 0.647476660904506, 'min_data_in_leaf': 7618}. Best is trial 0 with value: 91.14.\n"
     ]
    },
    {
     "name": "stdout",
     "output_type": "stream",
     "text": [
      "Early stopping, best iteration is:\n",
      "[339]\tvalid_0's ER: 91.14\n",
      "Evaluated only: ER\n",
      "**************** regression ****************\n",
      "Training until validation scores don't improve for 68 rounds\n",
      "[100]\tvalid_0's ER: 92.1\n",
      "[200]\tvalid_0's ER: 90.98\n"
     ]
    },
    {
     "name": "stderr",
     "output_type": "stream",
     "text": [
      "[I 2023-12-12 20:58:42,838] Trial 1 finished with value: 90.98 and parameters: {'lambda_l1': 602.3409497725122, 'lambda_l2': 399.0206627056391, 'learning_rate': 0.2732841637034216, 'num_leaves': 547, 'feature_fraction': 0.5497888335728247, 'min_data_in_leaf': 6549}. Best is trial 1 with value: 90.98.\n"
     ]
    },
    {
     "name": "stdout",
     "output_type": "stream",
     "text": [
      "Early stopping, best iteration is:\n",
      "[149]\tvalid_0's ER: 90.98\n",
      "Evaluated only: ER\n",
      "# Experimentos: 2\n",
      "Mejor experimento: {'lambda_l1': 602.3409497725122, 'lambda_l2': 399.0206627056391, 'learning_rate': 0.2732841637034216, 'num_leaves': 547, 'feature_fraction': 0.5497888335728247, 'min_data_in_leaf': 6549}\n",
      "=========================================== Cluster 11 ===========================================\n"
     ]
    },
    {
     "name": "stderr",
     "output_type": "stream",
     "text": [
      "[I 2023-12-12 20:58:43,751] A new study created in memory with name: no-name-e51a97b1-6f36-4c4a-8a3a-0c5ce7620153\n"
     ]
    },
    {
     "name": "stdout",
     "output_type": "stream",
     "text": [
      "Periodos entrenar: [201701 201702 201703 201704 201705 201706 201707 201708 201709 201710\n",
      " 201711 201712 201801 201802 201803 201804 201805 201806 201807 201808\n",
      " 201809 201810]\n",
      "Periodos validar: [201812]\n",
      "product_id a validar: 1116\n",
      "X_train: (23030, 120)\n",
      "y_train: (23030,)\n",
      "\n",
      "X_validate: (1116, 120)\n",
      "y_validate: (1116,)\n",
      "Optimizacion Bayesiana\n",
      "**************** regression ****************\n",
      "Training until validation scores don't improve for 156 rounds\n",
      "[100]\tvalid_0's ER: 107.99\n",
      "[200]\tvalid_0's ER: 100.37\n",
      "[300]\tvalid_0's ER: 97.12\n",
      "[400]\tvalid_0's ER: 95.02\n",
      "[500]\tvalid_0's ER: 93.91\n",
      "[600]\tvalid_0's ER: 93.17\n",
      "[700]\tvalid_0's ER: 93.49\n",
      "Early stopping, best iteration is:\n",
      "[610]\tvalid_0's ER: 93.04\n",
      "Evaluated only: ER\n"
     ]
    },
    {
     "name": "stderr",
     "output_type": "stream",
     "text": [
      "[I 2023-12-12 20:58:46,186] Trial 0 finished with value: 93.04 and parameters: {'lambda_l1': 187.42943615582652, 'lambda_l2': 323.40181933829894, 'learning_rate': 0.04698873583585824, 'num_leaves': 592, 'feature_fraction': 0.9407550770412525, 'min_data_in_leaf': 4284}. Best is trial 0 with value: 93.04.\n"
     ]
    },
    {
     "name": "stdout",
     "output_type": "stream",
     "text": [
      "**************** regression ****************\n",
      "Training until validation scores don't improve for 477 rounds\n",
      "[100]\tvalid_0's ER: 143.73\n",
      "[200]\tvalid_0's ER: 122.57\n",
      "[300]\tvalid_0's ER: 114.74\n",
      "[400]\tvalid_0's ER: 113.64\n",
      "[500]\tvalid_0's ER: 112.43\n",
      "[600]\tvalid_0's ER: 110.48\n",
      "[700]\tvalid_0's ER: 109.09\n",
      "[800]\tvalid_0's ER: 108.15\n",
      "[900]\tvalid_0's ER: 107.32\n",
      "[1000]\tvalid_0's ER: 106.71\n",
      "[1100]\tvalid_0's ER: 106.24\n",
      "[1200]\tvalid_0's ER: 105.81\n",
      "[1300]\tvalid_0's ER: 105.43\n",
      "[1400]\tvalid_0's ER: 105.05\n",
      "[1500]\tvalid_0's ER: 104.71\n",
      "[1600]\tvalid_0's ER: 104.34\n",
      "[1700]\tvalid_0's ER: 103.96\n",
      "[1800]\tvalid_0's ER: 103.25\n",
      "[1900]\tvalid_0's ER: 102.73\n",
      "[2000]\tvalid_0's ER: 102.28\n",
      "[2100]\tvalid_0's ER: 101.81\n",
      "[2200]\tvalid_0's ER: 101.52\n",
      "[2300]\tvalid_0's ER: 101.33\n",
      "[2400]\tvalid_0's ER: 101.01\n",
      "[2500]\tvalid_0's ER: 100.79\n",
      "[2600]\tvalid_0's ER: 100.5\n",
      "[2700]\tvalid_0's ER: 100.15\n",
      "[2800]\tvalid_0's ER: 99.76\n",
      "[2900]\tvalid_0's ER: 99.56\n",
      "[3000]\tvalid_0's ER: 99.59\n",
      "[3100]\tvalid_0's ER: 99.41\n",
      "[3200]\tvalid_0's ER: 99.36\n",
      "[3300]\tvalid_0's ER: 99.34\n",
      "[3400]\tvalid_0's ER: 99.29\n",
      "[3500]\tvalid_0's ER: 99.29\n",
      "[3600]\tvalid_0's ER: 99.27\n",
      "[3700]\tvalid_0's ER: 99.24\n",
      "[3800]\tvalid_0's ER: 99.2\n",
      "[3900]\tvalid_0's ER: 99.14\n",
      "[4000]\tvalid_0's ER: 99.16\n",
      "[4100]\tvalid_0's ER: 99.09\n",
      "[4200]\tvalid_0's ER: 99.04\n",
      "[4300]\tvalid_0's ER: 98.99\n",
      "[4400]\tvalid_0's ER: 98.96\n",
      "[4500]\tvalid_0's ER: 98.92\n",
      "[4600]\tvalid_0's ER: 98.86\n",
      "[4700]\tvalid_0's ER: 98.79\n",
      "[4800]\tvalid_0's ER: 98.71\n",
      "[4900]\tvalid_0's ER: 98.63\n",
      "[5000]\tvalid_0's ER: 98.58\n",
      "[5100]\tvalid_0's ER: 98.51\n",
      "[5200]\tvalid_0's ER: 98.48\n",
      "[5300]\tvalid_0's ER: 98.42\n",
      "[5400]\tvalid_0's ER: 98.38\n",
      "[5500]\tvalid_0's ER: 98.36\n",
      "[5600]\tvalid_0's ER: 98.33\n",
      "[5700]\tvalid_0's ER: 98.29\n",
      "[5800]\tvalid_0's ER: 98.3\n",
      "[5900]\tvalid_0's ER: 98.24\n",
      "[6000]\tvalid_0's ER: 98.25\n",
      "[6100]\tvalid_0's ER: 98.24\n",
      "[6200]\tvalid_0's ER: 98.21\n",
      "[6300]\tvalid_0's ER: 98.18\n",
      "[6400]\tvalid_0's ER: 98.15\n",
      "[6500]\tvalid_0's ER: 98.15\n",
      "[6600]\tvalid_0's ER: 98.17\n",
      "[6700]\tvalid_0's ER: 98.15\n",
      "[6800]\tvalid_0's ER: 98.14\n",
      "[6900]\tvalid_0's ER: 98.1\n",
      "[7000]\tvalid_0's ER: 98.11\n",
      "[7100]\tvalid_0's ER: 98.12\n",
      "[7200]\tvalid_0's ER: 98.12\n",
      "[7300]\tvalid_0's ER: 98.11\n",
      "Early stopping, best iteration is:\n",
      "[6900]\tvalid_0's ER: 98.1\n",
      "Evaluated only: ER\n"
     ]
    },
    {
     "name": "stderr",
     "output_type": "stream",
     "text": [
      "[I 2023-12-12 20:59:06,760] Trial 1 finished with value: 98.1 and parameters: {'lambda_l1': 665.9898598473106, 'lambda_l2': 637.1231399256761, 'learning_rate': 0.01169577028887717, 'num_leaves': 909, 'feature_fraction': 0.9800250960265486, 'min_data_in_leaf': 4137}. Best is trial 0 with value: 93.04.\n"
     ]
    },
    {
     "name": "stdout",
     "output_type": "stream",
     "text": [
      "# Experimentos: 2\n",
      "Mejor experimento: {'lambda_l1': 187.42943615582652, 'lambda_l2': 323.40181933829894, 'learning_rate': 0.04698873583585824, 'num_leaves': 592, 'feature_fraction': 0.9407550770412525, 'min_data_in_leaf': 4284}\n",
      "=========================================== Cluster 12 ===========================================\n"
     ]
    },
    {
     "name": "stderr",
     "output_type": "stream",
     "text": [
      "[I 2023-12-12 20:59:15,923] A new study created in memory with name: no-name-53308093-1fd6-438c-87d4-ad39043fb908\n"
     ]
    },
    {
     "name": "stdout",
     "output_type": "stream",
     "text": [
      "Periodos entrenar: [201701 201702 201703 201704 201705 201706 201707 201708 201709 201710\n",
      " 201711 201712 201801 201802 201803 201804 201805 201806 201807 201808\n",
      " 201809 201810]\n",
      "Periodos validar: [201812]\n",
      "product_id a validar: 13392\n",
      "X_train: (218215, 120)\n",
      "y_train: (218215,)\n",
      "\n",
      "X_validate: (13392, 120)\n",
      "y_validate: (13392,)\n",
      "Optimizacion Bayesiana\n",
      "**************** regression ****************\n",
      "Training until validation scores don't improve for 67 rounds\n",
      "[100]\tvalid_0's ER: 91.88\n",
      "[200]\tvalid_0's ER: 89.73\n",
      "[300]\tvalid_0's ER: 89.37\n"
     ]
    },
    {
     "name": "stderr",
     "output_type": "stream",
     "text": [
      "[I 2023-12-12 20:59:23,967] Trial 0 finished with value: 89.37 and parameters: {'lambda_l1': 600.3649082017808, 'lambda_l2': 163.934404738293, 'learning_rate': 0.2812583601043171, 'num_leaves': 766, 'feature_fraction': 0.5859456575514894, 'min_data_in_leaf': 5486}. Best is trial 0 with value: 89.37.\n"
     ]
    },
    {
     "name": "stdout",
     "output_type": "stream",
     "text": [
      "Early stopping, best iteration is:\n",
      "[249]\tvalid_0's ER: 89.37\n",
      "Evaluated only: ER\n",
      "**************** regression ****************\n",
      "Training until validation scores don't improve for 69 rounds\n",
      "[100]\tvalid_0's ER: 84.89\n",
      "Early stopping, best iteration is:\n",
      "[45]\tvalid_0's ER: 84.53\n",
      "Evaluated only: ER\n"
     ]
    },
    {
     "name": "stderr",
     "output_type": "stream",
     "text": [
      "[I 2023-12-12 20:59:27,213] Trial 1 finished with value: 84.67 and parameters: {'lambda_l1': 992.3864927225237, 'lambda_l2': 458.58360330451353, 'learning_rate': 0.2630801039900606, 'num_leaves': 622, 'feature_fraction': 0.4373729244761344, 'min_data_in_leaf': 647}. Best is trial 1 with value: 84.67.\n"
     ]
    },
    {
     "name": "stdout",
     "output_type": "stream",
     "text": [
      "# Experimentos: 2\n",
      "Mejor experimento: {'lambda_l1': 992.3864927225237, 'lambda_l2': 458.58360330451353, 'learning_rate': 0.2630801039900606, 'num_leaves': 622, 'feature_fraction': 0.4373729244761344, 'min_data_in_leaf': 647}\n",
      "=========================================== Cluster 13 ===========================================\n",
      "Periodos entrenar: [201701 201702 201703 201704 201705 201706 201707 201708 201709 201710\n",
      " 201711 201712 201801 201802 201803 201804 201805 201806 201807 201808\n",
      " 201809 201810]\n",
      "Periodos validar: [201812]\n",
      "product_id a validar: 66402\n"
     ]
    },
    {
     "name": "stderr",
     "output_type": "stream",
     "text": [
      "[I 2023-12-12 21:00:20,084] A new study created in memory with name: no-name-5a301889-9843-4649-960c-87a09461389b\n"
     ]
    },
    {
     "name": "stdout",
     "output_type": "stream",
     "text": [
      "X_train: (1192358, 120)\n",
      "y_train: (1192358,)\n",
      "\n",
      "X_validate: (66402, 120)\n",
      "y_validate: (66402,)\n",
      "Optimizacion Bayesiana\n",
      "**************** regression ****************\n",
      "Training until validation scores don't improve for 200 rounds\n",
      "[100]\tvalid_0's ER: 100.17\n",
      "[200]\tvalid_0's ER: 96.02\n",
      "[300]\tvalid_0's ER: 95.14\n",
      "[400]\tvalid_0's ER: 94.64\n",
      "[500]\tvalid_0's ER: 94.26\n",
      "[600]\tvalid_0's ER: 94.03\n",
      "[700]\tvalid_0's ER: 93.86\n",
      "[800]\tvalid_0's ER: 93.86\n",
      "Early stopping, best iteration is:\n",
      "[647]\tvalid_0's ER: 93.86\n",
      "Evaluated only: ER\n"
     ]
    },
    {
     "name": "stderr",
     "output_type": "stream",
     "text": [
      "[I 2023-12-12 21:01:36,639] Trial 0 finished with value: 93.86 and parameters: {'lambda_l1': 736.571759823391, 'lambda_l2': 947.2252940088338, 'learning_rate': 0.03318914816232604, 'num_leaves': 377, 'feature_fraction': 0.45471256802967963, 'min_data_in_leaf': 4086}. Best is trial 0 with value: 93.86.\n"
     ]
    },
    {
     "name": "stdout",
     "output_type": "stream",
     "text": [
      "**************** regression ****************\n",
      "Training until validation scores don't improve for 101 rounds\n",
      "[100]\tvalid_0's ER: 96.13\n",
      "[200]\tvalid_0's ER: 94.61\n",
      "[300]\tvalid_0's ER: 94.04\n",
      "Early stopping, best iteration is:\n",
      "[239]\tvalid_0's ER: 94.04\n",
      "Evaluated only: ER\n"
     ]
    },
    {
     "name": "stderr",
     "output_type": "stream",
     "text": [
      "[I 2023-12-12 21:02:21,996] Trial 1 finished with value: 94.04 and parameters: {'lambda_l1': 529.1688880448452, 'lambda_l2': 286.10184168157934, 'learning_rate': 0.09700096445793448, 'num_leaves': 317, 'feature_fraction': 0.8745068690823838, 'min_data_in_leaf': 4474}. Best is trial 0 with value: 93.86.\n"
     ]
    },
    {
     "name": "stdout",
     "output_type": "stream",
     "text": [
      "# Experimentos: 2\n",
      "Mejor experimento: {'lambda_l1': 736.571759823391, 'lambda_l2': 947.2252940088338, 'learning_rate': 0.03318914816232604, 'num_leaves': 377, 'feature_fraction': 0.45471256802967963, 'min_data_in_leaf': 4086}\n",
      "=========================================== Cluster 14 ===========================================\n"
     ]
    },
    {
     "name": "stderr",
     "output_type": "stream",
     "text": [
      "[I 2023-12-12 21:02:25,855] A new study created in memory with name: no-name-b4b57ae6-40c4-48d7-bef0-e355926bedd0\n"
     ]
    },
    {
     "name": "stdout",
     "output_type": "stream",
     "text": [
      "Periodos entrenar: [201701 201702 201703 201704 201705 201706 201707 201708 201709 201710\n",
      " 201711 201712 201801 201802 201803 201804 201805 201806 201807 201808\n",
      " 201809 201810]\n",
      "Periodos validar: [201812]\n",
      "product_id a validar: 5022\n",
      "X_train: (103635, 120)\n",
      "y_train: (103635,)\n",
      "\n",
      "X_validate: (5022, 120)\n",
      "y_validate: (5022,)\n",
      "Optimizacion Bayesiana\n",
      "**************** regression ****************\n",
      "Training until validation scores don't improve for 266 rounds\n",
      "[100]\tvalid_0's ER: 94.41\n",
      "[200]\tvalid_0's ER: 84.37\n",
      "[300]\tvalid_0's ER: 81.44\n",
      "[400]\tvalid_0's ER: 79.02\n",
      "[500]\tvalid_0's ER: 77.61\n",
      "[600]\tvalid_0's ER: 76.75\n",
      "[700]\tvalid_0's ER: 76.14\n",
      "[800]\tvalid_0's ER: 75.57\n",
      "[900]\tvalid_0's ER: 74.91\n",
      "[1000]\tvalid_0's ER: 74.37\n",
      "[1100]\tvalid_0's ER: 74.04\n",
      "[1200]\tvalid_0's ER: 73.71\n",
      "[1300]\tvalid_0's ER: 73.44\n",
      "[1400]\tvalid_0's ER: 73.37\n",
      "[1500]\tvalid_0's ER: 73.1\n",
      "[1600]\tvalid_0's ER: 72.87\n",
      "[1700]\tvalid_0's ER: 72.71\n",
      "[1800]\tvalid_0's ER: 72.59\n",
      "[1900]\tvalid_0's ER: 72.53\n",
      "[2000]\tvalid_0's ER: 72.43\n",
      "[2100]\tvalid_0's ER: 72.33\n",
      "[2200]\tvalid_0's ER: 72.34\n",
      "[2300]\tvalid_0's ER: 72.22\n",
      "[2400]\tvalid_0's ER: 72.1\n",
      "[2500]\tvalid_0's ER: 71.97\n",
      "[2600]\tvalid_0's ER: 71.84\n",
      "[2700]\tvalid_0's ER: 71.71\n",
      "[2800]\tvalid_0's ER: 71.74\n",
      "[2900]\tvalid_0's ER: 71.58\n",
      "[3000]\tvalid_0's ER: 71.5\n",
      "[3100]\tvalid_0's ER: 71.45\n",
      "[3200]\tvalid_0's ER: 71.38\n",
      "[3300]\tvalid_0's ER: 71.37\n",
      "[3400]\tvalid_0's ER: 71.38\n",
      "[3500]\tvalid_0's ER: 71.31\n",
      "[3600]\tvalid_0's ER: 71.35\n",
      "[3700]\tvalid_0's ER: 71.34\n",
      "Early stopping, best iteration is:\n",
      "[3465]\tvalid_0's ER: 71.27\n",
      "Evaluated only: ER\n"
     ]
    },
    {
     "name": "stderr",
     "output_type": "stream",
     "text": [
      "[I 2023-12-12 21:03:23,299] Trial 0 finished with value: 71.27 and parameters: {'lambda_l1': 42.28335682956907, 'lambda_l2': 466.0052990972824, 'learning_rate': 0.02304354119606325, 'num_leaves': 665, 'feature_fraction': 0.6592206011159949, 'min_data_in_leaf': 3335}. Best is trial 0 with value: 71.27.\n"
     ]
    },
    {
     "name": "stdout",
     "output_type": "stream",
     "text": [
      "**************** regression ****************\n",
      "Training until validation scores don't improve for 78 rounds\n",
      "[100]\tvalid_0's ER: 79.04\n",
      "[200]\tvalid_0's ER: 75.7\n",
      "[300]\tvalid_0's ER: 74.43\n"
     ]
    },
    {
     "name": "stderr",
     "output_type": "stream",
     "text": [
      "[I 2023-12-12 21:03:26,498] Trial 1 finished with value: 74.53 and parameters: {'lambda_l1': 821.991611804915, 'lambda_l2': 278.02989620269545, 'learning_rate': 0.17454730780317576, 'num_leaves': 983, 'feature_fraction': 0.3619569912136748, 'min_data_in_leaf': 5195}. Best is trial 0 with value: 71.27.\n"
     ]
    },
    {
     "name": "stdout",
     "output_type": "stream",
     "text": [
      "Early stopping, best iteration is:\n",
      "[307]\tvalid_0's ER: 74.32\n",
      "Evaluated only: ER\n",
      "# Experimentos: 2\n",
      "Mejor experimento: {'lambda_l1': 42.28335682956907, 'lambda_l2': 466.0052990972824, 'learning_rate': 0.02304354119606325, 'num_leaves': 665, 'feature_fraction': 0.6592206011159949, 'min_data_in_leaf': 3335}\n",
      "=========================================== Cluster 15 ===========================================\n"
     ]
    },
    {
     "name": "stderr",
     "output_type": "stream",
     "text": [
      "[I 2023-12-12 21:03:27,027] A new study created in memory with name: no-name-599c4e07-d539-47b0-9d84-733f8e5bd2ee\n",
      "[I 2023-12-12 21:03:27,183] Trial 0 finished with value: 185.39 and parameters: {'lambda_l1': 745.3477556337157, 'lambda_l2': 114.22271453009446, 'learning_rate': 0.28033539175015854, 'num_leaves': 531, 'feature_fraction': 0.20053859877949298, 'min_data_in_leaf': 2897}. Best is trial 0 with value: 185.39.\n"
     ]
    },
    {
     "name": "stdout",
     "output_type": "stream",
     "text": [
      "Periodos entrenar: [201701 201702 201703 201704 201705 201706 201707 201708 201709 201710\n",
      " 201711 201712 201801 201802 201803 201804 201805 201806 201807 201808\n",
      " 201809 201810]\n",
      "Periodos validar: [201812]\n",
      "product_id a validar: 558\n",
      "X_train: (11515, 120)\n",
      "y_train: (11515,)\n",
      "\n",
      "X_validate: (558, 120)\n",
      "y_validate: (558,)\n",
      "Optimizacion Bayesiana\n",
      "**************** regression ****************\n",
      "Training until validation scores don't improve for 67 rounds\n",
      "Early stopping, best iteration is:\n",
      "[12]\tvalid_0's ER: 185.39\n",
      "Evaluated only: ER\n",
      "**************** regression ****************\n"
     ]
    },
    {
     "name": "stderr",
     "output_type": "stream",
     "text": [
      "[I 2023-12-12 21:03:27,421] Trial 1 finished with value: 183.98 and parameters: {'lambda_l1': 824.6322939849922, 'lambda_l2': 72.29134895459688, 'learning_rate': 0.12884408878673342, 'num_leaves': 434, 'feature_fraction': 0.3914946836322442, 'min_data_in_leaf': 1894}. Best is trial 1 with value: 183.98.\n"
     ]
    },
    {
     "name": "stdout",
     "output_type": "stream",
     "text": [
      "Training until validation scores don't improve for 88 rounds\n",
      "[100]\tvalid_0's ER: 184.86\n",
      "Early stopping, best iteration is:\n",
      "[41]\tvalid_0's ER: 183.98\n",
      "Evaluated only: ER\n",
      "# Experimentos: 2\n",
      "Mejor experimento: {'lambda_l1': 824.6322939849922, 'lambda_l2': 72.29134895459688, 'learning_rate': 0.12884408878673342, 'num_leaves': 434, 'feature_fraction': 0.3914946836322442, 'min_data_in_leaf': 1894}\n",
      "=========================================== Cluster 16 ===========================================\n"
     ]
    },
    {
     "name": "stderr",
     "output_type": "stream",
     "text": [
      "[I 2023-12-12 21:03:29,199] A new study created in memory with name: no-name-55f684ca-bf34-4c4f-b4e3-ce285a2c5eb7\n"
     ]
    },
    {
     "name": "stdout",
     "output_type": "stream",
     "text": [
      "Periodos entrenar: [201701 201702 201703 201704 201705 201706 201707 201708 201709 201710\n",
      " 201711 201712 201801 201802 201803 201804 201805 201806 201807 201808\n",
      " 201809 201810]\n",
      "Periodos validar: [201812]\n",
      "product_id a validar: 2790\n",
      "X_train: (48262, 120)\n",
      "y_train: (48262,)\n",
      "\n",
      "X_validate: (2790, 120)\n",
      "y_validate: (2790,)\n",
      "Optimizacion Bayesiana\n",
      "**************** regression ****************\n",
      "Training until validation scores don't improve for 74 rounds\n",
      "[100]\tvalid_0's ER: 103.6\n"
     ]
    },
    {
     "name": "stderr",
     "output_type": "stream",
     "text": [
      "[I 2023-12-12 21:03:30,283] Trial 0 finished with value: 103.6 and parameters: {'lambda_l1': 967.2140082772078, 'lambda_l2': 688.1811669138702, 'learning_rate': 0.20354538110694811, 'num_leaves': 40, 'feature_fraction': 0.8646969119317862, 'min_data_in_leaf': 4085}. Best is trial 0 with value: 103.6.\n"
     ]
    },
    {
     "name": "stdout",
     "output_type": "stream",
     "text": [
      "Early stopping, best iteration is:\n",
      "[90]\tvalid_0's ER: 103.6\n",
      "Evaluated only: ER\n",
      "**************** regression ****************\n",
      "Training until validation scores don't improve for 68 rounds\n",
      "[100]\tvalid_0's ER: 102.27\n"
     ]
    },
    {
     "name": "stderr",
     "output_type": "stream",
     "text": [
      "[I 2023-12-12 21:03:31,223] Trial 1 finished with value: 102.27 and parameters: {'lambda_l1': 851.8369637201134, 'lambda_l2': 897.4785202082536, 'learning_rate': 0.2668827407513833, 'num_leaves': 545, 'feature_fraction': 0.5122039804715361, 'min_data_in_leaf': 5009}. Best is trial 1 with value: 102.27.\n"
     ]
    },
    {
     "name": "stdout",
     "output_type": "stream",
     "text": [
      "Early stopping, best iteration is:\n",
      "[87]\tvalid_0's ER: 102.27\n",
      "Evaluated only: ER\n",
      "# Experimentos: 2\n",
      "Mejor experimento: {'lambda_l1': 851.8369637201134, 'lambda_l2': 897.4785202082536, 'learning_rate': 0.2668827407513833, 'num_leaves': 545, 'feature_fraction': 0.5122039804715361, 'min_data_in_leaf': 5009}\n",
      "=========================================== Cluster 17 ===========================================\n"
     ]
    },
    {
     "name": "stderr",
     "output_type": "stream",
     "text": [
      "[I 2023-12-12 21:03:33,808] A new study created in memory with name: no-name-053f912e-f554-4c95-87fd-540666b8a7b4\n"
     ]
    },
    {
     "name": "stdout",
     "output_type": "stream",
     "text": [
      "Periodos entrenar: [201701 201702 201703 201704 201705 201706 201707 201708 201709 201710\n",
      " 201711 201712 201801 201802 201803 201804 201805 201806 201807 201808\n",
      " 201809 201810]\n",
      "Periodos validar: [201812]\n",
      "product_id a validar: 3906\n",
      "X_train: (69585, 120)\n",
      "y_train: (69585,)\n",
      "\n",
      "X_validate: (3906, 120)\n",
      "y_validate: (3906,)\n",
      "Optimizacion Bayesiana\n",
      "**************** regression ****************\n",
      "Training until validation scores don't improve for 66 rounds\n",
      "[100]\tvalid_0's ER: 115.78\n",
      "[200]\tvalid_0's ER: 114.64\n",
      "[300]\tvalid_0's ER: 115.01\n"
     ]
    },
    {
     "name": "stderr",
     "output_type": "stream",
     "text": [
      "[I 2023-12-12 21:03:37,187] Trial 0 finished with value: 113.48 and parameters: {'lambda_l1': 284.9200283125062, 'lambda_l2': 478.11524908036904, 'learning_rate': 0.2946657370470017, 'num_leaves': 899, 'feature_fraction': 0.9764608215594004, 'min_data_in_leaf': 1625}. Best is trial 0 with value: 113.48.\n"
     ]
    },
    {
     "name": "stdout",
     "output_type": "stream",
     "text": [
      "Early stopping, best iteration is:\n",
      "[267]\tvalid_0's ER: 113.48\n",
      "Evaluated only: ER\n",
      "**************** regression ****************\n",
      "Training until validation scores don't improve for 74 rounds\n",
      "[100]\tvalid_0's ER: 124.21\n",
      "[200]\tvalid_0's ER: 118.35\n",
      "[300]\tvalid_0's ER: 115.31\n"
     ]
    },
    {
     "name": "stderr",
     "output_type": "stream",
     "text": [
      "[I 2023-12-12 21:03:39,863] Trial 1 finished with value: 115.31 and parameters: {'lambda_l1': 997.7767515580451, 'lambda_l2': 989.7104181993608, 'learning_rate': 0.20023379897187613, 'num_leaves': 520, 'feature_fraction': 0.5464883792670006, 'min_data_in_leaf': 4264}. Best is trial 0 with value: 113.48.\n"
     ]
    },
    {
     "name": "stdout",
     "output_type": "stream",
     "text": [
      "Early stopping, best iteration is:\n",
      "[288]\tvalid_0's ER: 115.31\n",
      "Evaluated only: ER\n",
      "# Experimentos: 2\n",
      "Mejor experimento: {'lambda_l1': 284.9200283125062, 'lambda_l2': 478.11524908036904, 'learning_rate': 0.2946657370470017, 'num_leaves': 899, 'feature_fraction': 0.9764608215594004, 'min_data_in_leaf': 1625}\n",
      "=========================================== Cluster 18 ===========================================\n"
     ]
    },
    {
     "name": "stderr",
     "output_type": "stream",
     "text": [
      "[I 2023-12-12 21:03:42,308] A new study created in memory with name: no-name-7cf94ff8-0a63-4c28-aff3-a3a2e27cdf71\n"
     ]
    },
    {
     "name": "stdout",
     "output_type": "stream",
     "text": [
      "Periodos entrenar: [201701 201702 201703 201704 201705 201706 201707 201708 201709 201710\n",
      " 201711 201712 201801 201802 201803 201804 201805 201806 201807 201808\n",
      " 201809 201810]\n",
      "Periodos validar: [201812]\n",
      "product_id a validar: 3906\n",
      "X_train: (58521, 120)\n",
      "y_train: (58521,)\n",
      "\n",
      "X_validate: (3906, 120)\n",
      "y_validate: (3906,)\n",
      "Optimizacion Bayesiana\n",
      "**************** regression ****************\n",
      "Training until validation scores don't improve for 74 rounds\n",
      "[100]\tvalid_0's ER: 136.76\n"
     ]
    },
    {
     "name": "stderr",
     "output_type": "stream",
     "text": [
      "[I 2023-12-12 21:03:43,790] Trial 0 finished with value: 136.75 and parameters: {'lambda_l1': 802.0441791312534, 'lambda_l2': 989.553081508075, 'learning_rate': 0.2011184966301239, 'num_leaves': 741, 'feature_fraction': 0.969150464633735, 'min_data_in_leaf': 3330}. Best is trial 0 with value: 136.75.\n"
     ]
    },
    {
     "name": "stdout",
     "output_type": "stream",
     "text": [
      "Early stopping, best iteration is:\n",
      "[109]\tvalid_0's ER: 136.74\n",
      "Evaluated only: ER\n",
      "**************** regression ****************\n",
      "Training until validation scores don't improve for 90 rounds\n",
      "[100]\tvalid_0's ER: 105.47\n",
      "[200]\tvalid_0's ER: 99.9\n",
      "[300]\tvalid_0's ER: 98.9\n",
      "[400]\tvalid_0's ER: 97.15\n",
      "[500]\tvalid_0's ER: 96.48\n"
     ]
    },
    {
     "name": "stderr",
     "output_type": "stream",
     "text": [
      "[I 2023-12-12 21:03:48,558] Trial 1 finished with value: 96.13 and parameters: {'lambda_l1': 103.89446056593943, 'lambda_l2': 668.9057123076896, 'learning_rate': 0.12413287937198449, 'num_leaves': 968, 'feature_fraction': 0.8807940489612296, 'min_data_in_leaf': 935}. Best is trial 1 with value: 96.13.\n"
     ]
    },
    {
     "name": "stdout",
     "output_type": "stream",
     "text": [
      "[600]\tvalid_0's ER: 96.87\n",
      "Early stopping, best iteration is:\n",
      "[511]\tvalid_0's ER: 96.13\n",
      "Evaluated only: ER\n",
      "# Experimentos: 2\n",
      "Mejor experimento: {'lambda_l1': 103.89446056593943, 'lambda_l2': 668.9057123076896, 'learning_rate': 0.12413287937198449, 'num_leaves': 968, 'feature_fraction': 0.8807940489612296, 'min_data_in_leaf': 935}\n",
      "=========================================== Cluster 19 ===========================================\n"
     ]
    },
    {
     "name": "stderr",
     "output_type": "stream",
     "text": [
      "[I 2023-12-12 21:03:50,166] A new study created in memory with name: no-name-db94e4c9-8239-47a2-bc9a-ecd7c92b1a4d\n"
     ]
    },
    {
     "name": "stdout",
     "output_type": "stream",
     "text": [
      "Periodos entrenar: [201701 201702 201703 201704 201705 201706 201707 201708 201709 201710\n",
      " 201711 201712 201801 201802 201803 201804 201805 201806 201807 201808\n",
      " 201809 201810]\n",
      "Periodos validar: [201812]\n",
      "product_id a validar: 2232\n",
      "X_train: (46060, 120)\n",
      "y_train: (46060,)\n",
      "\n",
      "X_validate: (2232, 120)\n",
      "y_validate: (2232,)\n",
      "Optimizacion Bayesiana\n",
      "**************** regression ****************\n",
      "Training until validation scores don't improve for 68 rounds\n",
      "[100]\tvalid_0's ER: 85.6\n"
     ]
    },
    {
     "name": "stderr",
     "output_type": "stream",
     "text": [
      "[I 2023-12-12 21:03:51,346] Trial 0 finished with value: 84.33 and parameters: {'lambda_l1': 368.93359316109866, 'lambda_l2': 621.9001534480611, 'learning_rate': 0.27715301202893616, 'num_leaves': 931, 'feature_fraction': 0.6929984661301758, 'min_data_in_leaf': 2395}. Best is trial 0 with value: 84.33.\n"
     ]
    },
    {
     "name": "stdout",
     "output_type": "stream",
     "text": [
      "Early stopping, best iteration is:\n",
      "[123]\tvalid_0's ER: 84.33\n",
      "Evaluated only: ER\n",
      "**************** regression ****************\n",
      "Training until validation scores don't improve for 66 rounds\n",
      "[100]\tvalid_0's ER: 89.76\n",
      "[200]\tvalid_0's ER: 84.49\n"
     ]
    },
    {
     "name": "stderr",
     "output_type": "stream",
     "text": [
      "[I 2023-12-12 21:03:53,045] Trial 1 finished with value: 83.9 and parameters: {'lambda_l1': 288.22351924705083, 'lambda_l2': 507.09942224027316, 'learning_rate': 0.2970076901342294, 'num_leaves': 651, 'feature_fraction': 0.6630396176746756, 'min_data_in_leaf': 3148}. Best is trial 1 with value: 83.9.\n"
     ]
    },
    {
     "name": "stdout",
     "output_type": "stream",
     "text": [
      "Early stopping, best iteration is:\n",
      "[225]\tvalid_0's ER: 83.9\n",
      "Evaluated only: ER\n",
      "# Experimentos: 2\n",
      "Mejor experimento: {'lambda_l1': 288.22351924705083, 'lambda_l2': 507.09942224027316, 'learning_rate': 0.2970076901342294, 'num_leaves': 651, 'feature_fraction': 0.6630396176746756, 'min_data_in_leaf': 3148}\n",
      "=========================================== Cluster 20 ===========================================\n"
     ]
    },
    {
     "name": "stderr",
     "output_type": "stream",
     "text": [
      "[I 2023-12-12 21:03:56,409] A new study created in memory with name: no-name-1f201eb5-c5dc-49ed-92a2-1be6fb5b5c6b\n"
     ]
    },
    {
     "name": "stdout",
     "output_type": "stream",
     "text": [
      "Periodos entrenar: [201701 201702 201703 201704 201705 201706 201707 201708 201709 201710\n",
      " 201711 201712 201801 201802 201803 201804 201805 201806 201807 201808\n",
      " 201809 201810]\n",
      "Periodos validar: [201812]\n",
      "product_id a validar: 4464\n",
      "X_train: (84953, 120)\n",
      "y_train: (84953,)\n",
      "\n",
      "X_validate: (4464, 120)\n",
      "y_validate: (4464,)\n",
      "Optimizacion Bayesiana\n",
      "**************** regression ****************\n",
      "Training until validation scores don't improve for 81 rounds\n",
      "[100]\tvalid_0's ER: 92.23\n",
      "[200]\tvalid_0's ER: 92.05\n",
      "[300]\tvalid_0's ER: 92.03\n",
      "Early stopping, best iteration is:\n",
      "[267]\tvalid_0's ER: 92.03\n",
      "Evaluated only: ER\n"
     ]
    },
    {
     "name": "stderr",
     "output_type": "stream",
     "text": [
      "[I 2023-12-12 21:03:58,822] Trial 0 finished with value: 92.03 and parameters: {'lambda_l1': 713.3455387675084, 'lambda_l2': 91.90513987482707, 'learning_rate': 0.16112010140282648, 'num_leaves': 861, 'feature_fraction': 0.25925322117598243, 'min_data_in_leaf': 7225}. Best is trial 0 with value: 92.03.\n"
     ]
    },
    {
     "name": "stdout",
     "output_type": "stream",
     "text": [
      "**************** regression ****************\n",
      "Training until validation scores don't improve for 109 rounds\n",
      "[100]\tvalid_0's ER: 99.18\n",
      "[200]\tvalid_0's ER: 96.39\n",
      "[300]\tvalid_0's ER: 96.11\n"
     ]
    },
    {
     "name": "stderr",
     "output_type": "stream",
     "text": [
      "[I 2023-12-12 21:04:02,592] Trial 1 finished with value: 96.11 and parameters: {'lambda_l1': 817.0414549883442, 'lambda_l2': 370.5078846632224, 'learning_rate': 0.08436632077535458, 'num_leaves': 14, 'feature_fraction': 0.9434111703167514, 'min_data_in_leaf': 6671}. Best is trial 0 with value: 92.03.\n"
     ]
    },
    {
     "name": "stdout",
     "output_type": "stream",
     "text": [
      "Early stopping, best iteration is:\n",
      "[277]\tvalid_0's ER: 96.11\n",
      "Evaluated only: ER\n",
      "# Experimentos: 2\n",
      "Mejor experimento: {'lambda_l1': 713.3455387675084, 'lambda_l2': 91.90513987482707, 'learning_rate': 0.16112010140282648, 'num_leaves': 861, 'feature_fraction': 0.25925322117598243, 'min_data_in_leaf': 7225}\n",
      "=========================================== Cluster 21 ===========================================\n"
     ]
    },
    {
     "name": "stderr",
     "output_type": "stream",
     "text": [
      "[I 2023-12-12 21:04:04,155] A new study created in memory with name: no-name-b3eaffdc-8327-41af-bb44-1b53e808b582\n"
     ]
    },
    {
     "name": "stdout",
     "output_type": "stream",
     "text": [
      "Periodos entrenar: [201701 201702 201703 201704 201705 201706 201707 201708 201709 201710\n",
      " 201711 201712 201801 201802 201803 201804 201805 201806 201807 201808\n",
      " 201809 201810]\n",
      "Periodos validar: [201812]\n",
      "product_id a validar: 2232\n",
      "X_train: (46060, 120)\n",
      "y_train: (46060,)\n",
      "\n",
      "X_validate: (2232, 120)\n",
      "y_validate: (2232,)\n",
      "Optimizacion Bayesiana\n",
      "**************** regression ****************\n",
      "Training until validation scores don't improve for 67 rounds\n"
     ]
    },
    {
     "name": "stderr",
     "output_type": "stream",
     "text": [
      "[I 2023-12-12 21:04:04,904] Trial 0 finished with value: 109.38 and parameters: {'lambda_l1': 190.80875121773545, 'lambda_l2': 85.36120116103952, 'learning_rate': 0.2819869170561974, 'num_leaves': 213, 'feature_fraction': 0.28648351607382216, 'min_data_in_leaf': 3972}. Best is trial 0 with value: 109.38.\n"
     ]
    },
    {
     "name": "stdout",
     "output_type": "stream",
     "text": [
      "[100]\tvalid_0's ER: 110.9\n",
      "Early stopping, best iteration is:\n",
      "[92]\tvalid_0's ER: 109.38\n",
      "Evaluated only: ER\n",
      "**************** regression ****************\n",
      "Training until validation scores don't improve for 75 rounds\n",
      "[100]\tvalid_0's ER: 122.66\n"
     ]
    },
    {
     "name": "stderr",
     "output_type": "stream",
     "text": [
      "[I 2023-12-12 21:04:05,766] Trial 1 finished with value: 121.93 and parameters: {'lambda_l1': 549.693828106813, 'lambda_l2': 85.93803889909246, 'learning_rate': 0.19438168637171332, 'num_leaves': 745, 'feature_fraction': 0.3177225544153153, 'min_data_in_leaf': 3068}. Best is trial 0 with value: 109.38.\n"
     ]
    },
    {
     "name": "stdout",
     "output_type": "stream",
     "text": [
      "Early stopping, best iteration is:\n",
      "[121]\tvalid_0's ER: 121.93\n",
      "Evaluated only: ER\n",
      "# Experimentos: 2\n",
      "Mejor experimento: {'lambda_l1': 190.80875121773545, 'lambda_l2': 85.36120116103952, 'learning_rate': 0.2819869170561974, 'num_leaves': 213, 'feature_fraction': 0.28648351607382216, 'min_data_in_leaf': 3972}\n",
      "=========================================== Cluster 22 ===========================================\n"
     ]
    },
    {
     "name": "stderr",
     "output_type": "stream",
     "text": [
      "[I 2023-12-12 21:04:12,781] A new study created in memory with name: no-name-97a4290f-d015-4e63-968f-fcd91655b906\n"
     ]
    },
    {
     "name": "stdout",
     "output_type": "stream",
     "text": [
      "Periodos entrenar: [201701 201702 201703 201704 201705 201706 201707 201708 201709 201710\n",
      " 201711 201712 201801 201802 201803 201804 201805 201806 201807 201808\n",
      " 201809 201810]\n",
      "Periodos validar: [201812]\n",
      "product_id a validar: 10044\n",
      "X_train: (185523, 120)\n",
      "y_train: (185523,)\n",
      "\n",
      "X_validate: (10044, 120)\n",
      "y_validate: (10044,)\n",
      "Optimizacion Bayesiana\n",
      "**************** regression ****************\n",
      "Training until validation scores don't improve for 68 rounds\n",
      "[100]\tvalid_0's ER: 99.84\n",
      "[200]\tvalid_0's ER: 99.77\n"
     ]
    },
    {
     "name": "stderr",
     "output_type": "stream",
     "text": [
      "[I 2023-12-12 21:04:16,481] Trial 0 finished with value: 99.77 and parameters: {'lambda_l1': 951.6775999673266, 'lambda_l2': 798.2712362112206, 'learning_rate': 0.26522567634690125, 'num_leaves': 150, 'feature_fraction': 0.2894564083738259, 'min_data_in_leaf': 4465}. Best is trial 0 with value: 99.77.\n"
     ]
    },
    {
     "name": "stdout",
     "output_type": "stream",
     "text": [
      "Early stopping, best iteration is:\n",
      "[173]\tvalid_0's ER: 99.77\n",
      "Evaluated only: ER\n",
      "**************** regression ****************\n",
      "Training until validation scores don't improve for 73 rounds\n",
      "[100]\tvalid_0's ER: 83.71\n",
      "[200]\tvalid_0's ER: 82.47\n"
     ]
    },
    {
     "name": "stderr",
     "output_type": "stream",
     "text": [
      "[I 2023-12-12 21:04:20,918] Trial 1 finished with value: 82.21 and parameters: {'lambda_l1': 154.67989740151322, 'lambda_l2': 831.2374297264148, 'learning_rate': 0.21306608774584765, 'num_leaves': 689, 'feature_fraction': 0.30111450557900055, 'min_data_in_leaf': 1132}. Best is trial 1 with value: 82.21.\n"
     ]
    },
    {
     "name": "stdout",
     "output_type": "stream",
     "text": [
      "Early stopping, best iteration is:\n",
      "[177]\tvalid_0's ER: 82.21\n",
      "Evaluated only: ER\n",
      "# Experimentos: 2\n",
      "Mejor experimento: {'lambda_l1': 154.67989740151322, 'lambda_l2': 831.2374297264148, 'learning_rate': 0.21306608774584765, 'num_leaves': 689, 'feature_fraction': 0.30111450557900055, 'min_data_in_leaf': 1132}\n",
      "=========================================== Cluster 23 ===========================================\n"
     ]
    },
    {
     "name": "stderr",
     "output_type": "stream",
     "text": [
      "[I 2023-12-12 21:04:21,814] A new study created in memory with name: no-name-81a7d759-0d5d-476b-9762-f435472d2dee\n"
     ]
    },
    {
     "name": "stdout",
     "output_type": "stream",
     "text": [
      "Periodos entrenar: [201701 201702 201703 201704 201705 201706 201707 201708 201709 201710\n",
      " 201711 201712 201801 201802 201803 201804 201805 201806 201807 201808\n",
      " 201809 201810]\n",
      "Periodos validar: [201812]\n",
      "product_id a validar: 1116\n",
      "X_train: (23030, 120)\n",
      "y_train: (23030,)\n",
      "\n",
      "X_validate: (1116, 120)\n",
      "y_validate: (1116,)\n",
      "Optimizacion Bayesiana\n",
      "**************** regression ****************\n",
      "Training until validation scores don't improve for 419 rounds\n",
      "[100]\tvalid_0's ER: 133.82\n",
      "[200]\tvalid_0's ER: 110.55\n",
      "[300]\tvalid_0's ER: 107.1\n",
      "[400]\tvalid_0's ER: 105.86\n",
      "[500]\tvalid_0's ER: 104.14\n",
      "[600]\tvalid_0's ER: 102.97\n",
      "[700]\tvalid_0's ER: 102.05\n",
      "[800]\tvalid_0's ER: 100.81\n",
      "[900]\tvalid_0's ER: 99.95\n",
      "[1000]\tvalid_0's ER: 99.26\n",
      "[1100]\tvalid_0's ER: 98.45\n",
      "[1200]\tvalid_0's ER: 97.7\n",
      "[1300]\tvalid_0's ER: 97.06\n",
      "[1400]\tvalid_0's ER: 96.41\n",
      "[1500]\tvalid_0's ER: 95.85\n",
      "[1600]\tvalid_0's ER: 95.2\n",
      "[1700]\tvalid_0's ER: 94.72\n",
      "[1800]\tvalid_0's ER: 94.25\n",
      "[1900]\tvalid_0's ER: 93.82\n",
      "[2000]\tvalid_0's ER: 93.32\n",
      "[2100]\tvalid_0's ER: 92.86\n",
      "[2200]\tvalid_0's ER: 92.55\n",
      "[2300]\tvalid_0's ER: 92.29\n",
      "[2400]\tvalid_0's ER: 92.12\n",
      "[2500]\tvalid_0's ER: 92.12\n",
      "[2600]\tvalid_0's ER: 92.01\n",
      "[2700]\tvalid_0's ER: 91.97\n",
      "[2800]\tvalid_0's ER: 91.99\n",
      "[2900]\tvalid_0's ER: 91.93\n",
      "[3000]\tvalid_0's ER: 91.87\n",
      "[3100]\tvalid_0's ER: 91.83\n",
      "[3200]\tvalid_0's ER: 91.74\n",
      "[3300]\tvalid_0's ER: 91.66\n",
      "[3400]\tvalid_0's ER: 91.67\n",
      "[3500]\tvalid_0's ER: 91.61\n",
      "[3600]\tvalid_0's ER: 91.58\n",
      "[3700]\tvalid_0's ER: 91.65\n",
      "[3800]\tvalid_0's ER: 91.65\n"
     ]
    },
    {
     "name": "stderr",
     "output_type": "stream",
     "text": [
      "[I 2023-12-12 21:04:32,267] Trial 0 finished with value: 91.58 and parameters: {'lambda_l1': 324.9084034078148, 'lambda_l2': 244.78060779673672, 'learning_rate': 0.013519941516555719, 'num_leaves': 121, 'feature_fraction': 0.6516899649628143, 'min_data_in_leaf': 2946}. Best is trial 0 with value: 91.58.\n"
     ]
    },
    {
     "name": "stdout",
     "output_type": "stream",
     "text": [
      "[3900]\tvalid_0's ER: 91.65\n",
      "Early stopping, best iteration is:\n",
      "[3521]\tvalid_0's ER: 91.58\n",
      "Evaluated only: ER\n",
      "**************** regression ****************\n",
      "Training until validation scores don't improve for 89 rounds\n",
      "[100]\tvalid_0's ER: 110.41\n"
     ]
    },
    {
     "name": "stderr",
     "output_type": "stream",
     "text": [
      "[I 2023-12-12 21:04:32,900] Trial 1 finished with value: 109.51 and parameters: {'lambda_l1': 179.96452486674042, 'lambda_l2': 60.90623296834386, 'learning_rate': 0.1276177022876276, 'num_leaves': 681, 'feature_fraction': 0.720597704727155, 'min_data_in_leaf': 7664}. Best is trial 0 with value: 91.58.\n"
     ]
    },
    {
     "name": "stdout",
     "output_type": "stream",
     "text": [
      "[200]\tvalid_0's ER: 110.29\n",
      "Early stopping, best iteration is:\n",
      "[129]\tvalid_0's ER: 109.51\n",
      "Evaluated only: ER\n",
      "# Experimentos: 2\n",
      "Mejor experimento: {'lambda_l1': 324.9084034078148, 'lambda_l2': 244.78060779673672, 'learning_rate': 0.013519941516555719, 'num_leaves': 121, 'feature_fraction': 0.6516899649628143, 'min_data_in_leaf': 2946}\n",
      "=========================================== Cluster 24 ===========================================\n"
     ]
    },
    {
     "name": "stderr",
     "output_type": "stream",
     "text": [
      "[I 2023-12-12 21:04:34,537] A new study created in memory with name: no-name-b55c3068-1244-4ad6-8d8d-c9ff8382e329\n"
     ]
    },
    {
     "name": "stdout",
     "output_type": "stream",
     "text": [
      "Periodos entrenar: [201701 201702 201703 201704 201705 201706 201707 201708 201709 201710\n",
      " 201711 201712 201801 201802 201803 201804 201805 201806 201807 201808\n",
      " 201809 201810]\n",
      "Periodos validar: [201812]\n",
      "product_id a validar: 2232\n",
      "X_train: (37533, 120)\n",
      "y_train: (37533,)\n",
      "\n",
      "X_validate: (2232, 120)\n",
      "y_validate: (2232,)\n",
      "Optimizacion Bayesiana\n",
      "**************** regression ****************\n",
      "Training until validation scores don't improve for 74 rounds\n"
     ]
    },
    {
     "name": "stderr",
     "output_type": "stream",
     "text": [
      "[I 2023-12-12 21:04:35,155] Trial 0 finished with value: 143.57 and parameters: {'lambda_l1': 730.7003162186204, 'lambda_l2': 784.179873025659, 'learning_rate': 0.20196177467736423, 'num_leaves': 166, 'feature_fraction': 0.8283472276225154, 'min_data_in_leaf': 2096}. Best is trial 0 with value: 143.57.\n"
     ]
    },
    {
     "name": "stdout",
     "output_type": "stream",
     "text": [
      "[100]\tvalid_0's ER: 143.57\n",
      "Early stopping, best iteration is:\n",
      "[33]\tvalid_0's ER: 143.57\n",
      "Evaluated only: ER\n",
      "**************** regression ****************\n",
      "Training until validation scores don't improve for 136 rounds\n",
      "[100]\tvalid_0's ER: 162.58\n",
      "[200]\tvalid_0's ER: 161.61\n"
     ]
    },
    {
     "name": "stderr",
     "output_type": "stream",
     "text": [
      "[I 2023-12-12 21:04:36,168] Trial 1 finished with value: 161.67 and parameters: {'lambda_l1': 955.329519649195, 'lambda_l2': 500.853590400454, 'learning_rate': 0.05765092909323141, 'num_leaves': 737, 'feature_fraction': 0.2918957161733542, 'min_data_in_leaf': 2794}. Best is trial 0 with value: 143.57.\n"
     ]
    },
    {
     "name": "stdout",
     "output_type": "stream",
     "text": [
      "[300]\tvalid_0's ER: 161.67\n",
      "Early stopping, best iteration is:\n",
      "[180]\tvalid_0's ER: 161.58\n",
      "Evaluated only: ER\n",
      "# Experimentos: 2\n",
      "Mejor experimento: {'lambda_l1': 730.7003162186204, 'lambda_l2': 784.179873025659, 'learning_rate': 0.20196177467736423, 'num_leaves': 166, 'feature_fraction': 0.8283472276225154, 'min_data_in_leaf': 2096}\n",
      "=========================================== Cluster 25 ===========================================\n"
     ]
    },
    {
     "name": "stderr",
     "output_type": "stream",
     "text": [
      "[I 2023-12-12 21:04:37,752] A new study created in memory with name: no-name-967aec51-5984-4f0a-9119-9da045aa3b53\n"
     ]
    },
    {
     "name": "stdout",
     "output_type": "stream",
     "text": [
      "Periodos entrenar: [201701 201702 201703 201704 201705 201706 201707 201708 201709 201710\n",
      " 201711 201712 201801 201802 201803 201804 201805 201806 201807 201808\n",
      " 201809 201810]\n",
      "Periodos validar: [201812]\n",
      "product_id a validar: 2232\n",
      "X_train: (37533, 120)\n",
      "y_train: (37533,)\n",
      "\n",
      "X_validate: (2232, 120)\n",
      "y_validate: (2232,)\n",
      "Optimizacion Bayesiana\n",
      "**************** regression ****************\n",
      "Training until validation scores don't improve for 86 rounds\n",
      "[100]\tvalid_0's ER: 140.12\n"
     ]
    },
    {
     "name": "stderr",
     "output_type": "stream",
     "text": [
      "[I 2023-12-12 21:04:38,770] Trial 0 finished with value: 139.99 and parameters: {'lambda_l1': 428.64001193064416, 'lambda_l2': 86.40868132898282, 'learning_rate': 0.13553339452547875, 'num_leaves': 506, 'feature_fraction': 0.5620400757851489, 'min_data_in_leaf': 2655}. Best is trial 0 with value: 139.99.\n"
     ]
    },
    {
     "name": "stdout",
     "output_type": "stream",
     "text": [
      "[200]\tvalid_0's ER: 139.99\n",
      "Early stopping, best iteration is:\n",
      "[138]\tvalid_0's ER: 139.99\n",
      "Evaluated only: ER\n",
      "**************** regression ****************\n",
      "Training until validation scores don't improve for 76 rounds\n",
      "[100]\tvalid_0's ER: 135.79\n"
     ]
    },
    {
     "name": "stderr",
     "output_type": "stream",
     "text": [
      "[I 2023-12-12 21:04:39,780] Trial 1 finished with value: 135.45 and parameters: {'lambda_l1': 374.0571332737328, 'lambda_l2': 425.8046917218862, 'learning_rate': 0.18522530666847004, 'num_leaves': 48, 'feature_fraction': 0.4676543414398112, 'min_data_in_leaf': 4437}. Best is trial 1 with value: 135.45.\n"
     ]
    },
    {
     "name": "stdout",
     "output_type": "stream",
     "text": [
      "[200]\tvalid_0's ER: 134.95\n",
      "Early stopping, best iteration is:\n",
      "[162]\tvalid_0's ER: 134.77\n",
      "Evaluated only: ER\n",
      "# Experimentos: 2\n",
      "Mejor experimento: {'lambda_l1': 374.0571332737328, 'lambda_l2': 425.8046917218862, 'learning_rate': 0.18522530666847004, 'num_leaves': 48, 'feature_fraction': 0.4676543414398112, 'min_data_in_leaf': 4437}\n",
      "=========================================== Cluster 26 ===========================================\n",
      "Periodos entrenar: [201701 201702 201703 201704 201705 201706 201707 201708 201709 201710\n",
      " 201711 201712 201801 201802 201803 201804 201805 201806 201807 201808\n",
      " 201809 201810]\n",
      "Periodos validar: [201812]\n",
      "product_id a validar: 48546\n"
     ]
    },
    {
     "name": "stderr",
     "output_type": "stream",
     "text": [
      "[I 2023-12-12 21:05:17,691] A new study created in memory with name: no-name-22f6b9ed-78a1-4527-8dac-5016c48bfdd5\n"
     ]
    },
    {
     "name": "stdout",
     "output_type": "stream",
     "text": [
      "X_train: (886198, 120)\n",
      "y_train: (886198,)\n",
      "\n",
      "X_validate: (48546, 120)\n",
      "y_validate: (48546,)\n",
      "Optimizacion Bayesiana\n",
      "**************** regression ****************\n",
      "Training until validation scores don't improve for 67 rounds\n",
      "[100]\tvalid_0's ER: 86.47\n"
     ]
    },
    {
     "name": "stderr",
     "output_type": "stream",
     "text": [
      "[I 2023-12-12 21:05:33,716] Trial 0 finished with value: 86.37 and parameters: {'lambda_l1': 101.87336969182769, 'lambda_l2': 380.7462748400927, 'learning_rate': 0.2936759169610348, 'num_leaves': 741, 'feature_fraction': 0.692491041915642, 'min_data_in_leaf': 690}. Best is trial 0 with value: 86.37.\n"
     ]
    },
    {
     "name": "stdout",
     "output_type": "stream",
     "text": [
      "Early stopping, best iteration is:\n",
      "[72]\tvalid_0's ER: 86.37\n",
      "Evaluated only: ER\n",
      "**************** regression ****************\n",
      "Training until validation scores don't improve for 166 rounds\n",
      "[100]\tvalid_0's ER: 97.44\n",
      "[200]\tvalid_0's ER: 94.82\n",
      "[300]\tvalid_0's ER: 93.83\n",
      "[400]\tvalid_0's ER: 93.47\n",
      "[500]\tvalid_0's ER: 93.29\n",
      "[600]\tvalid_0's ER: 93.16\n",
      "[700]\tvalid_0's ER: 92.95\n",
      "[800]\tvalid_0's ER: 92.95\n",
      "Early stopping, best iteration is:\n",
      "[691]\tvalid_0's ER: 92.95\n",
      "Evaluated only: ER\n"
     ]
    },
    {
     "name": "stderr",
     "output_type": "stream",
     "text": [
      "[I 2023-12-12 21:06:52,608] Trial 1 finished with value: 92.95 and parameters: {'lambda_l1': 250.67935768410132, 'lambda_l2': 492.79423466813256, 'learning_rate': 0.043076698687772585, 'num_leaves': 547, 'feature_fraction': 0.6732566400219286, 'min_data_in_leaf': 7830}. Best is trial 0 with value: 86.37.\n"
     ]
    },
    {
     "name": "stdout",
     "output_type": "stream",
     "text": [
      "# Experimentos: 2\n",
      "Mejor experimento: {'lambda_l1': 101.87336969182769, 'lambda_l2': 380.7462748400927, 'learning_rate': 0.2936759169610348, 'num_leaves': 741, 'feature_fraction': 0.692491041915642, 'min_data_in_leaf': 690}\n",
      "=========================================== Cluster 27 ===========================================\n"
     ]
    },
    {
     "name": "stderr",
     "output_type": "stream",
     "text": [
      "[I 2023-12-12 21:06:54,734] A new study created in memory with name: no-name-d57efc11-f9ea-4c0e-85dd-09cdc71f537d\n"
     ]
    },
    {
     "name": "stdout",
     "output_type": "stream",
     "text": [
      "Periodos entrenar: [201701 201702 201703 201704 201705 201706 201707 201708 201709 201710\n",
      " 201711 201712 201801 201802 201803 201804 201805 201806 201807 201808\n",
      " 201809 201810]\n",
      "Periodos validar: [201812]\n",
      "product_id a validar: 2790\n",
      "X_train: (57575, 120)\n",
      "y_train: (57575,)\n",
      "\n",
      "X_validate: (2790, 120)\n",
      "y_validate: (2790,)\n",
      "Optimizacion Bayesiana\n",
      "**************** regression ****************\n",
      "Training until validation scores don't improve for 69 rounds\n"
     ]
    },
    {
     "name": "stderr",
     "output_type": "stream",
     "text": [
      "[I 2023-12-12 21:06:55,382] Trial 0 finished with value: 124.05 and parameters: {'lambda_l1': 297.49426472786513, 'lambda_l2': 9.305885694948168, 'learning_rate': 0.25740062328948327, 'num_leaves': 666, 'feature_fraction': 0.232455956722416, 'min_data_in_leaf': 1046}. Best is trial 0 with value: 124.05.\n"
     ]
    },
    {
     "name": "stdout",
     "output_type": "stream",
     "text": [
      "Early stopping, best iteration is:\n",
      "[29]\tvalid_0's ER: 124.05\n",
      "Evaluated only: ER\n",
      "**************** regression ****************\n",
      "Training until validation scores don't improve for 111 rounds\n",
      "[100]\tvalid_0's ER: 134.04\n",
      "[200]\tvalid_0's ER: 135.73\n"
     ]
    },
    {
     "name": "stderr",
     "output_type": "stream",
     "text": [
      "[I 2023-12-12 21:06:57,372] Trial 1 finished with value: 131.86 and parameters: {'lambda_l1': 122.5552822176591, 'lambda_l2': 374.02009367933766, 'learning_rate': 0.08195229549117086, 'num_leaves': 288, 'feature_fraction': 0.8475309932119159, 'min_data_in_leaf': 2045}. Best is trial 0 with value: 124.05.\n"
     ]
    },
    {
     "name": "stdout",
     "output_type": "stream",
     "text": [
      "Early stopping, best iteration is:\n",
      "[136]\tvalid_0's ER: 131.86\n",
      "Evaluated only: ER\n",
      "# Experimentos: 2\n",
      "Mejor experimento: {'lambda_l1': 297.49426472786513, 'lambda_l2': 9.305885694948168, 'learning_rate': 0.25740062328948327, 'num_leaves': 666, 'feature_fraction': 0.232455956722416, 'min_data_in_leaf': 1046}\n",
      "=========================================== Cluster 28 ===========================================\n"
     ]
    },
    {
     "name": "stderr",
     "output_type": "stream",
     "text": [
      "[I 2023-12-12 21:06:58,290] A new study created in memory with name: no-name-28749668-ecd2-4c1c-9a0d-35e7d0ff4d3a\n"
     ]
    },
    {
     "name": "stdout",
     "output_type": "stream",
     "text": [
      "Periodos entrenar: [201803 201804 201805 201806 201807 201808 201809 201810]\n",
      "Periodos validar: [201812]\n",
      "product_id a validar: 1674\n",
      "X_train: (13044, 120)\n",
      "y_train: (13044,)\n",
      "\n",
      "X_validate: (1674, 120)\n",
      "y_validate: (1674,)\n",
      "Optimizacion Bayesiana\n",
      "**************** regression ****************\n",
      "Training until validation scores don't improve for 171 rounds\n",
      "[100]\tvalid_0's ER: 144.7\n",
      "[200]\tvalid_0's ER: 144.56\n"
     ]
    },
    {
     "name": "stderr",
     "output_type": "stream",
     "text": [
      "[I 2023-12-12 21:06:59,021] Trial 0 finished with value: 144.55 and parameters: {'lambda_l1': 714.9985053002051, 'lambda_l2': 458.72166288558105, 'learning_rate': 0.041104859556305266, 'num_leaves': 277, 'feature_fraction': 0.6621424171960053, 'min_data_in_leaf': 2444}. Best is trial 0 with value: 144.55.\n"
     ]
    },
    {
     "name": "stdout",
     "output_type": "stream",
     "text": [
      "[300]\tvalid_0's ER: 144.55\n",
      "[400]\tvalid_0's ER: 144.55\n",
      "Early stopping, best iteration is:\n",
      "[229]\tvalid_0's ER: 144.55\n",
      "Evaluated only: ER\n",
      "**************** regression ****************\n",
      "Training until validation scores don't improve for 81 rounds\n",
      "[100]\tvalid_0's ER: 103.83\n",
      "[200]\tvalid_0's ER: 100.09\n",
      "[300]\tvalid_0's ER: 98.61\n",
      "[400]\tvalid_0's ER: 97.79\n",
      "[500]\tvalid_0's ER: 97.21\n",
      "[600]\tvalid_0's ER: 96.92\n",
      "[700]\tvalid_0's ER: 96.68\n",
      "[800]\tvalid_0's ER: 96.56\n",
      "[900]\tvalid_0's ER: 96.46\n",
      "[1000]\tvalid_0's ER: 96.37\n",
      "[1100]\tvalid_0's ER: 96.29\n",
      "[1200]\tvalid_0's ER: 96.22\n",
      "[1300]\tvalid_0's ER: 96.15\n",
      "[1400]\tvalid_0's ER: 96.12\n",
      "[1500]\tvalid_0's ER: 96.08\n",
      "[1600]\tvalid_0's ER: 96.05\n",
      "[1700]\tvalid_0's ER: 96.02\n",
      "[1800]\tvalid_0's ER: 95.99\n",
      "[1900]\tvalid_0's ER: 95.97\n",
      "[2000]\tvalid_0's ER: 95.95\n",
      "[2100]\tvalid_0's ER: 95.93\n",
      "[2200]\tvalid_0's ER: 95.91\n",
      "[2300]\tvalid_0's ER: 95.9\n",
      "Early stopping, best iteration is:\n",
      "[2228]\tvalid_0's ER: 95.9\n",
      "Evaluated only: ER\n"
     ]
    },
    {
     "name": "stderr",
     "output_type": "stream",
     "text": [
      "[I 2023-12-12 21:07:02,927] Trial 1 finished with value: 95.9 and parameters: {'lambda_l1': 81.7108062888442, 'lambda_l2': 745.703377189761, 'learning_rate': 0.15919103937095758, 'num_leaves': 734, 'feature_fraction': 0.25933163696084577, 'min_data_in_leaf': 4534}. Best is trial 1 with value: 95.9.\n"
     ]
    },
    {
     "name": "stdout",
     "output_type": "stream",
     "text": [
      "# Experimentos: 2\n",
      "Mejor experimento: {'lambda_l1': 81.7108062888442, 'lambda_l2': 745.703377189761, 'learning_rate': 0.15919103937095758, 'num_leaves': 734, 'feature_fraction': 0.25933163696084577, 'min_data_in_leaf': 4534}\n",
      "=========================================== Cluster 29 ===========================================\n"
     ]
    },
    {
     "name": "stderr",
     "output_type": "stream",
     "text": [
      "[I 2023-12-12 21:07:03,916] A new study created in memory with name: no-name-75fd7406-1bd9-4320-8f75-978c77e70d71\n"
     ]
    },
    {
     "name": "stdout",
     "output_type": "stream",
     "text": [
      "Periodos entrenar: [201801 201802 201803 201804 201805 201806 201807 201808 201809 201810]\n",
      "Periodos validar: [201812]\n",
      "product_id a validar: 1674\n",
      "X_train: (14630, 120)\n",
      "y_train: (14630,)\n",
      "\n",
      "X_validate: (1674, 120)\n",
      "y_validate: (1674,)\n",
      "Optimizacion Bayesiana\n",
      "**************** regression ****************\n",
      "Training until validation scores don't improve for 95 rounds\n",
      "[100]\tvalid_0's ER: 143.25\n",
      "[200]\tvalid_0's ER: 142.98\n"
     ]
    },
    {
     "name": "stderr",
     "output_type": "stream",
     "text": [
      "[I 2023-12-12 21:07:04,691] Trial 0 finished with value: 142.98 and parameters: {'lambda_l1': 327.3723312917356, 'lambda_l2': 333.6004981157841, 'learning_rate': 0.10920468228824456, 'num_leaves': 967, 'feature_fraction': 0.5502105407463456, 'min_data_in_leaf': 4627}. Best is trial 0 with value: 142.98.\n"
     ]
    },
    {
     "name": "stdout",
     "output_type": "stream",
     "text": [
      "Early stopping, best iteration is:\n",
      "[187]\tvalid_0's ER: 142.98\n",
      "Evaluated only: ER\n",
      "**************** regression ****************\n",
      "Training until validation scores don't improve for 87 rounds\n",
      "[100]\tvalid_0's ER: 127.87\n",
      "Early stopping, best iteration is:\n",
      "[111]\tvalid_0's ER: 127.71\n",
      "Evaluated only: ER\n"
     ]
    },
    {
     "name": "stderr",
     "output_type": "stream",
     "text": [
      "[I 2023-12-12 21:07:05,195] Trial 1 finished with value: 127.71 and parameters: {'lambda_l1': 248.81151883132046, 'lambda_l2': 855.4877967083642, 'learning_rate': 0.1334731142481706, 'num_leaves': 66, 'feature_fraction': 0.337819938567527, 'min_data_in_leaf': 1811}. Best is trial 1 with value: 127.71.\n"
     ]
    },
    {
     "name": "stdout",
     "output_type": "stream",
     "text": [
      "# Experimentos: 2\n",
      "Mejor experimento: {'lambda_l1': 248.81151883132046, 'lambda_l2': 855.4877967083642, 'learning_rate': 0.1334731142481706, 'num_leaves': 66, 'feature_fraction': 0.337819938567527, 'min_data_in_leaf': 1811}\n",
      "=========================================== Cluster 30 ===========================================\n"
     ]
    },
    {
     "name": "stderr",
     "output_type": "stream",
     "text": [
      "[I 2023-12-12 21:07:10,216] A new study created in memory with name: no-name-aba000c6-1caa-4b46-97af-48aa0ca73553\n"
     ]
    },
    {
     "name": "stdout",
     "output_type": "stream",
     "text": [
      "Periodos entrenar: [201701 201702 201703 201704 201705 201706 201707 201708 201709 201710\n",
      " 201711 201712 201801 201802 201803 201804 201805 201806 201807 201808\n",
      " 201809 201810]\n",
      "Periodos validar: [201812]\n",
      "product_id a validar: 7812\n",
      "X_train: (124594, 120)\n",
      "y_train: (124594,)\n",
      "\n",
      "X_validate: (7812, 120)\n",
      "y_validate: (7812,)\n",
      "Optimizacion Bayesiana\n",
      "**************** regression ****************\n",
      "Training until validation scores don't improve for 128 rounds\n",
      "[100]\tvalid_0's ER: 85.26\n",
      "[200]\tvalid_0's ER: 81.44\n",
      "[300]\tvalid_0's ER: 79.71\n",
      "[400]\tvalid_0's ER: 79.2\n",
      "[500]\tvalid_0's ER: 78.89\n",
      "[600]\tvalid_0's ER: 78.63\n",
      "[700]\tvalid_0's ER: 78.49\n",
      "[800]\tvalid_0's ER: 78.41\n",
      "[900]\tvalid_0's ER: 78.35\n",
      "[1000]\tvalid_0's ER: 78.31\n",
      "[1100]\tvalid_0's ER: 78.28\n",
      "[1200]\tvalid_0's ER: 78.27\n",
      "[1300]\tvalid_0's ER: 78.24\n",
      "[1400]\tvalid_0's ER: 78.21\n",
      "[1500]\tvalid_0's ER: 78.21\n",
      "Early stopping, best iteration is:\n",
      "[1381]\tvalid_0's ER: 78.21\n",
      "Evaluated only: ER\n"
     ]
    },
    {
     "name": "stderr",
     "output_type": "stream",
     "text": [
      "[I 2023-12-12 21:07:33,790] Trial 0 finished with value: 78.22 and parameters: {'lambda_l1': 197.31681489720566, 'lambda_l2': 583.2575136756153, 'learning_rate': 0.06374460492889301, 'num_leaves': 464, 'feature_fraction': 0.3501893840435254, 'min_data_in_leaf': 198}. Best is trial 0 with value: 78.22.\n"
     ]
    },
    {
     "name": "stdout",
     "output_type": "stream",
     "text": [
      "**************** regression ****************\n",
      "Training until validation scores don't improve for 86 rounds\n",
      "[100]\tvalid_0's ER: 108.17\n",
      "[200]\tvalid_0's ER: 108.15\n"
     ]
    },
    {
     "name": "stderr",
     "output_type": "stream",
     "text": [
      "[I 2023-12-12 21:07:36,549] Trial 1 finished with value: 108.15 and parameters: {'lambda_l1': 748.5694502275815, 'lambda_l2': 633.2861413347915, 'learning_rate': 0.1360977531474089, 'num_leaves': 848, 'feature_fraction': 0.3768599092834702, 'min_data_in_leaf': 7163}. Best is trial 0 with value: 78.22.\n"
     ]
    },
    {
     "name": "stdout",
     "output_type": "stream",
     "text": [
      "Early stopping, best iteration is:\n",
      "[151]\tvalid_0's ER: 108.15\n",
      "Evaluated only: ER\n",
      "# Experimentos: 2\n",
      "Mejor experimento: {'lambda_l1': 197.31681489720566, 'lambda_l2': 583.2575136756153, 'learning_rate': 0.06374460492889301, 'num_leaves': 464, 'feature_fraction': 0.3501893840435254, 'min_data_in_leaf': 198}\n",
      "=========================================== Cluster 31 ===========================================\n"
     ]
    },
    {
     "name": "stderr",
     "output_type": "stream",
     "text": [
      "[I 2023-12-12 21:07:45,891] A new study created in memory with name: no-name-cdabae20-78dd-4f97-96fb-f485ce818b75\n"
     ]
    },
    {
     "name": "stdout",
     "output_type": "stream",
     "text": [
      "Periodos entrenar: [201701 201702 201703 201704 201705 201706 201707 201708 201709 201710\n",
      " 201711 201712 201801 201802 201803 201804 201805 201806 201807 201808\n",
      " 201809 201810]\n",
      "Periodos validar: [201812]\n",
      "product_id a validar: 13392\n",
      "X_train: (233385, 120)\n",
      "y_train: (233385,)\n",
      "\n",
      "X_validate: (13392, 120)\n",
      "y_validate: (13392,)\n",
      "Optimizacion Bayesiana\n",
      "**************** regression ****************\n",
      "Training until validation scores don't improve for 456 rounds\n",
      "[100]\tvalid_0's ER: 146.25\n",
      "[200]\tvalid_0's ER: 126.31\n",
      "[300]\tvalid_0's ER: 120.3\n",
      "[400]\tvalid_0's ER: 118.2\n",
      "[500]\tvalid_0's ER: 116.97\n",
      "[600]\tvalid_0's ER: 116.35\n",
      "[700]\tvalid_0's ER: 115.77\n",
      "[800]\tvalid_0's ER: 115.46\n",
      "[900]\tvalid_0's ER: 115.46\n",
      "[1000]\tvalid_0's ER: 115.46\n",
      "[1100]\tvalid_0's ER: 115.46\n",
      "[1200]\tvalid_0's ER: 115.46\n"
     ]
    },
    {
     "name": "stderr",
     "output_type": "stream",
     "text": [
      "[I 2023-12-12 21:08:12,513] Trial 0 finished with value: 115.45 and parameters: {'lambda_l1': 718.5016161608729, 'lambda_l2': 975.2143128447423, 'learning_rate': 0.012288108436896227, 'num_leaves': 42, 'feature_fraction': 0.6542581011377944, 'min_data_in_leaf': 1698}. Best is trial 0 with value: 115.45.\n"
     ]
    },
    {
     "name": "stdout",
     "output_type": "stream",
     "text": [
      "Early stopping, best iteration is:\n",
      "[774]\tvalid_0's ER: 115.45\n",
      "Evaluated only: ER\n",
      "**************** regression ****************\n",
      "Training until validation scores don't improve for 120 rounds\n",
      "[100]\tvalid_0's ER: 117.17\n",
      "[200]\tvalid_0's ER: 117.19\n"
     ]
    },
    {
     "name": "stderr",
     "output_type": "stream",
     "text": [
      "[I 2023-12-12 21:08:18,532] Trial 1 finished with value: 117.07 and parameters: {'lambda_l1': 675.4054031571759, 'lambda_l2': 342.46845493245314, 'learning_rate': 0.07109643807855948, 'num_leaves': 974, 'feature_fraction': 0.9015365539687401, 'min_data_in_leaf': 2817}. Best is trial 0 with value: 115.45.\n"
     ]
    },
    {
     "name": "stdout",
     "output_type": "stream",
     "text": [
      "Early stopping, best iteration is:\n",
      "[92]\tvalid_0's ER: 117.07\n",
      "Evaluated only: ER\n",
      "# Experimentos: 2\n",
      "Mejor experimento: {'lambda_l1': 718.5016161608729, 'lambda_l2': 975.2143128447423, 'learning_rate': 0.012288108436896227, 'num_leaves': 42, 'feature_fraction': 0.6542581011377944, 'min_data_in_leaf': 1698}\n",
      "=========================================== Cluster 32 ===========================================\n"
     ]
    },
    {
     "name": "stderr",
     "output_type": "stream",
     "text": [
      "[I 2023-12-12 21:08:22,431] A new study created in memory with name: no-name-81ecf143-20f5-4124-9818-87941030c3ed\n"
     ]
    },
    {
     "name": "stdout",
     "output_type": "stream",
     "text": [
      "Periodos entrenar: [201701 201702 201703 201704 201705 201706 201707 201708 201709 201710\n",
      " 201711 201712 201801 201802 201803 201804 201805 201806 201807 201808\n",
      " 201809 201810]\n",
      "Periodos validar: [201812]\n",
      "product_id a validar: 4464\n",
      "X_train: (89671, 120)\n",
      "y_train: (89671,)\n",
      "\n",
      "X_validate: (4464, 120)\n",
      "y_validate: (4464,)\n",
      "Optimizacion Bayesiana\n",
      "**************** regression ****************\n",
      "Training until validation scores don't improve for 69 rounds\n",
      "[100]\tvalid_0's ER: 101.29\n"
     ]
    },
    {
     "name": "stderr",
     "output_type": "stream",
     "text": [
      "[I 2023-12-12 21:08:23,650] Trial 0 finished with value: 101.29 and parameters: {'lambda_l1': 516.0182700970864, 'lambda_l2': 441.976611629305, 'learning_rate': 0.2509805896784129, 'num_leaves': 520, 'feature_fraction': 0.20970187427110532, 'min_data_in_leaf': 1351}. Best is trial 0 with value: 101.29.\n"
     ]
    },
    {
     "name": "stdout",
     "output_type": "stream",
     "text": [
      "Early stopping, best iteration is:\n",
      "[86]\tvalid_0's ER: 101.29\n",
      "Evaluated only: ER\n",
      "**************** regression ****************\n",
      "Training until validation scores don't improve for 92 rounds\n",
      "[100]\tvalid_0's ER: 102.22\n",
      "[200]\tvalid_0's ER: 99.36\n",
      "[300]\tvalid_0's ER: 98.26\n",
      "[400]\tvalid_0's ER: 98.77\n"
     ]
    },
    {
     "name": "stderr",
     "output_type": "stream",
     "text": [
      "[I 2023-12-12 21:08:27,118] Trial 1 finished with value: 97.98 and parameters: {'lambda_l1': 20.8775861715893, 'lambda_l2': 606.687926615739, 'learning_rate': 0.11705462613488324, 'num_leaves': 487, 'feature_fraction': 0.2762260459536579, 'min_data_in_leaf': 3628}. Best is trial 1 with value: 97.98.\n"
     ]
    },
    {
     "name": "stdout",
     "output_type": "stream",
     "text": [
      "Early stopping, best iteration is:\n",
      "[339]\tvalid_0's ER: 97.98\n",
      "Evaluated only: ER\n",
      "# Experimentos: 2\n",
      "Mejor experimento: {'lambda_l1': 20.8775861715893, 'lambda_l2': 606.687926615739, 'learning_rate': 0.11705462613488324, 'num_leaves': 487, 'feature_fraction': 0.2762260459536579, 'min_data_in_leaf': 3628}\n",
      "=========================================== Cluster 33 ===========================================\n"
     ]
    },
    {
     "name": "stderr",
     "output_type": "stream",
     "text": [
      "[I 2023-12-12 21:08:27,768] A new study created in memory with name: no-name-fa37a465-9ba7-45f9-b96a-68ae04f5bf98\n",
      "[I 2023-12-12 21:08:27,916] Trial 0 finished with value: 181.61 and parameters: {'lambda_l1': 467.23863269406775, 'lambda_l2': 995.8499172483494, 'learning_rate': 0.19423392111121016, 'num_leaves': 886, 'feature_fraction': 0.6562377532957306, 'min_data_in_leaf': 6682}. Best is trial 0 with value: 181.61.\n"
     ]
    },
    {
     "name": "stdout",
     "output_type": "stream",
     "text": [
      "Periodos entrenar: [201801 201802 201803 201804 201805 201806 201807 201808 201809 201810]\n",
      "Periodos validar: [201812]\n",
      "product_id a validar: 1116\n",
      "X_train: (9755, 120)\n",
      "y_train: (9755,)\n",
      "\n",
      "X_validate: (1116, 120)\n",
      "y_validate: (1116,)\n",
      "Optimizacion Bayesiana\n",
      "**************** regression ****************\n",
      "Training until validation scores don't improve for 75 rounds\n",
      "Early stopping, best iteration is:\n",
      "[1]\tvalid_0's ER: 264.69\n",
      "Evaluated only: ER\n",
      "**************** regression ****************\n"
     ]
    },
    {
     "name": "stderr",
     "output_type": "stream",
     "text": [
      "[I 2023-12-12 21:08:28,154] Trial 1 finished with value: 140.52 and parameters: {'lambda_l1': 43.50631915039238, 'lambda_l2': 322.8794125317448, 'learning_rate': 0.28311920080696695, 'num_leaves': 845, 'feature_fraction': 0.7926757311802508, 'min_data_in_leaf': 4860}. Best is trial 1 with value: 140.52.\n"
     ]
    },
    {
     "name": "stdout",
     "output_type": "stream",
     "text": [
      "Training until validation scores don't improve for 67 rounds\n",
      "[100]\tvalid_0's ER: 140.52\n",
      "Early stopping, best iteration is:\n",
      "[51]\tvalid_0's ER: 140.52\n",
      "Evaluated only: ER\n",
      "# Experimentos: 2\n",
      "Mejor experimento: {'lambda_l1': 43.50631915039238, 'lambda_l2': 322.8794125317448, 'learning_rate': 0.28311920080696695, 'num_leaves': 845, 'feature_fraction': 0.7926757311802508, 'min_data_in_leaf': 4860}\n",
      "=========================================== Cluster 34 ===========================================\n"
     ]
    },
    {
     "name": "stderr",
     "output_type": "stream",
     "text": [
      "[I 2023-12-12 21:08:30,367] A new study created in memory with name: no-name-9762865c-746c-4f33-919b-baa8501ba2a1\n"
     ]
    },
    {
     "name": "stdout",
     "output_type": "stream",
     "text": [
      "Periodos entrenar: [201701 201702 201703 201704 201705 201706 201707 201708 201709 201710\n",
      " 201711 201712 201801 201802 201803 201804 201805 201806 201807 201808\n",
      " 201809 201810]\n",
      "Periodos validar: [201812]\n",
      "product_id a validar: 3906\n",
      "X_train: (43676, 120)\n",
      "y_train: (43676,)\n",
      "\n",
      "X_validate: (3906, 120)\n",
      "y_validate: (3906,)\n",
      "Optimizacion Bayesiana\n",
      "**************** regression ****************\n",
      "Training until validation scores don't improve for 80 rounds\n",
      "[100]\tvalid_0's ER: 332.34\n"
     ]
    },
    {
     "name": "stderr",
     "output_type": "stream",
     "text": [
      "[I 2023-12-12 21:08:31,339] Trial 0 finished with value: 119.31 and parameters: {'lambda_l1': 962.5536366047565, 'lambda_l2': 250.96208092572147, 'learning_rate': 0.16602474240629803, 'num_leaves': 604, 'feature_fraction': 0.3571402247667777, 'min_data_in_leaf': 3191}. Best is trial 0 with value: 119.31.\n"
     ]
    },
    {
     "name": "stdout",
     "output_type": "stream",
     "text": [
      "Early stopping, best iteration is:\n",
      "[104]\tvalid_0's ER: 332.33\n",
      "Evaluated only: ER\n",
      "**************** regression ****************\n",
      "Training until validation scores don't improve for 93 rounds\n",
      "[100]\tvalid_0's ER: 330.14\n",
      "[200]\tvalid_0's ER: 329.8\n",
      "Early stopping, best iteration is:\n",
      "[166]\tvalid_0's ER: 329.8\n",
      "Evaluated only: ER\n"
     ]
    },
    {
     "name": "stderr",
     "output_type": "stream",
     "text": [
      "[I 2023-12-12 21:08:32,452] Trial 1 finished with value: 116.12 and parameters: {'lambda_l1': 900.9236913486288, 'lambda_l2': 600.4358592791228, 'learning_rate': 0.1145460935990508, 'num_leaves': 935, 'feature_fraction': 0.2703585621333816, 'min_data_in_leaf': 7342}. Best is trial 1 with value: 116.12.\n"
     ]
    },
    {
     "name": "stdout",
     "output_type": "stream",
     "text": [
      "# Experimentos: 2\n",
      "Mejor experimento: {'lambda_l1': 900.9236913486288, 'lambda_l2': 600.4358592791228, 'learning_rate': 0.1145460935990508, 'num_leaves': 935, 'feature_fraction': 0.2703585621333816, 'min_data_in_leaf': 7342}\n",
      "=========================================== Cluster 35 ===========================================\n"
     ]
    },
    {
     "name": "stderr",
     "output_type": "stream",
     "text": [
      "[I 2023-12-12 21:08:50,393] A new study created in memory with name: no-name-66bc5867-a37a-4be2-aeb2-ce6c6c82cff6\n"
     ]
    },
    {
     "name": "stdout",
     "output_type": "stream",
     "text": [
      "Periodos entrenar: [201701 201702 201703 201704 201705 201706 201707 201708 201709 201710\n",
      " 201711 201712 201801 201802 201803 201804 201805 201806 201807 201808\n",
      " 201809 201810]\n",
      "Periodos validar: [201812]\n",
      "product_id a validar: 22878\n",
      "X_train: (472115, 120)\n",
      "y_train: (472115,)\n",
      "\n",
      "X_validate: (22878, 120)\n",
      "y_validate: (22878,)\n",
      "Optimizacion Bayesiana\n",
      "**************** regression ****************\n",
      "Training until validation scores don't improve for 167 rounds\n",
      "[100]\tvalid_0's ER: 144.85\n",
      "[200]\tvalid_0's ER: 131.82\n",
      "[300]\tvalid_0's ER: 132.8\n"
     ]
    },
    {
     "name": "stderr",
     "output_type": "stream",
     "text": [
      "[I 2023-12-12 21:09:01,038] Trial 0 finished with value: 131.84 and parameters: {'lambda_l1': 827.4385473333905, 'lambda_l2': 816.7351747387593, 'learning_rate': 0.04245003089780802, 'num_leaves': 487, 'feature_fraction': 0.2621816492909192, 'min_data_in_leaf': 2337}. Best is trial 0 with value: 131.84.\n"
     ]
    },
    {
     "name": "stdout",
     "output_type": "stream",
     "text": [
      "Early stopping, best iteration is:\n",
      "[201]\tvalid_0's ER: 131.65\n",
      "Evaluated only: ER\n",
      "**************** regression ****************\n",
      "Training until validation scores don't improve for 113 rounds\n",
      "[100]\tvalid_0's ER: 131.05\n",
      "[200]\tvalid_0's ER: 130.16\n"
     ]
    },
    {
     "name": "stderr",
     "output_type": "stream",
     "text": [
      "[I 2023-12-12 21:09:12,906] Trial 1 finished with value: 129.82 and parameters: {'lambda_l1': 533.9302919802575, 'lambda_l2': 527.9730644370712, 'learning_rate': 0.07886337295629872, 'num_leaves': 249, 'feature_fraction': 0.9548270741823415, 'min_data_in_leaf': 6888}. Best is trial 1 with value: 129.82.\n"
     ]
    },
    {
     "name": "stdout",
     "output_type": "stream",
     "text": [
      "Early stopping, best iteration is:\n",
      "[116]\tvalid_0's ER: 129.82\n",
      "Evaluated only: ER\n",
      "# Experimentos: 2\n",
      "Mejor experimento: {'lambda_l1': 533.9302919802575, 'lambda_l2': 527.9730644370712, 'learning_rate': 0.07886337295629872, 'num_leaves': 249, 'feature_fraction': 0.9548270741823415, 'min_data_in_leaf': 6888}\n",
      "=========================================== Cluster 36 ===========================================\n"
     ]
    },
    {
     "name": "stderr",
     "output_type": "stream",
     "text": [
      "[I 2023-12-12 21:09:15,872] A new study created in memory with name: no-name-186763ad-221a-441e-9abf-60b0d1353ca3\n"
     ]
    },
    {
     "name": "stdout",
     "output_type": "stream",
     "text": [
      "Periodos entrenar: [201701 201702 201703 201704 201705 201706 201707 201708 201709 201710\n",
      " 201711 201712 201801 201802 201803 201804 201805 201806 201807 201808\n",
      " 201809 201810]\n",
      "Periodos validar: [201812]\n",
      "product_id a validar: 3906\n",
      "X_train: (65785, 120)\n",
      "y_train: (65785,)\n",
      "\n",
      "X_validate: (3906, 120)\n",
      "y_validate: (3906,)\n",
      "Optimizacion Bayesiana\n",
      "**************** regression ****************\n",
      "Training until validation scores don't improve for 84 rounds\n",
      "[100]\tvalid_0's ER: 98.25\n",
      "[200]\tvalid_0's ER: 96.05\n",
      "[300]\tvalid_0's ER: 95.85\n",
      "[400]\tvalid_0's ER: 94.76\n",
      "[500]\tvalid_0's ER: 94.84\n"
     ]
    },
    {
     "name": "stderr",
     "output_type": "stream",
     "text": [
      "[I 2023-12-12 21:09:18,623] Trial 0 finished with value: 94.64 and parameters: {'lambda_l1': 27.120635180201248, 'lambda_l2': 43.767104396169266, 'learning_rate': 0.14294629391464145, 'num_leaves': 909, 'feature_fraction': 0.2177665765671443, 'min_data_in_leaf': 3194}. Best is trial 0 with value: 94.64.\n"
     ]
    },
    {
     "name": "stdout",
     "output_type": "stream",
     "text": [
      "Early stopping, best iteration is:\n",
      "[483]\tvalid_0's ER: 94.57\n",
      "Evaluated only: ER\n",
      "**************** regression ****************\n",
      "Training until validation scores don't improve for 66 rounds\n"
     ]
    },
    {
     "name": "stderr",
     "output_type": "stream",
     "text": [
      "[I 2023-12-12 21:09:19,634] Trial 1 finished with value: 110.27 and parameters: {'lambda_l1': 678.924624600984, 'lambda_l2': 695.9411207304466, 'learning_rate': 0.2981522926536056, 'num_leaves': 535, 'feature_fraction': 0.9333265344073116, 'min_data_in_leaf': 3509}. Best is trial 0 with value: 94.64.\n"
     ]
    },
    {
     "name": "stdout",
     "output_type": "stream",
     "text": [
      "[100]\tvalid_0's ER: 224.25\n",
      "Early stopping, best iteration is:\n",
      "[35]\tvalid_0's ER: 224.25\n",
      "Evaluated only: ER\n",
      "# Experimentos: 2\n",
      "Mejor experimento: {'lambda_l1': 27.120635180201248, 'lambda_l2': 43.767104396169266, 'learning_rate': 0.14294629391464145, 'num_leaves': 909, 'feature_fraction': 0.2177665765671443, 'min_data_in_leaf': 3194}\n",
      "=========================================== Cluster 37 ===========================================\n"
     ]
    },
    {
     "name": "stderr",
     "output_type": "stream",
     "text": [
      "[I 2023-12-12 21:09:28,154] A new study created in memory with name: no-name-ab1ed98f-8160-41d1-9e88-5e6e38d7489e\n"
     ]
    },
    {
     "name": "stdout",
     "output_type": "stream",
     "text": [
      "Periodos entrenar: [201701 201702 201703 201704 201705 201706 201707 201708 201709 201710\n",
      " 201711 201712 201801 201802 201803 201804 201805 201806 201807 201808\n",
      " 201809 201810]\n",
      "Periodos validar: [201812]\n",
      "product_id a validar: 11718\n",
      "X_train: (241815, 120)\n",
      "y_train: (241815,)\n",
      "\n",
      "X_validate: (11718, 120)\n",
      "y_validate: (11718,)\n",
      "Optimizacion Bayesiana\n",
      "**************** regression ****************\n",
      "Training until validation scores don't improve for 116 rounds\n",
      "[100]\tvalid_0's ER: 760.21\n",
      "[200]\tvalid_0's ER: 760.19\n"
     ]
    },
    {
     "name": "stderr",
     "output_type": "stream",
     "text": [
      "[I 2023-12-12 21:09:34,315] Trial 0 finished with value: 760.19 and parameters: {'lambda_l1': 966.9095082112252, 'lambda_l2': 763.291206060598, 'learning_rate': 0.07478546154248314, 'num_leaves': 813, 'feature_fraction': 0.8833590968162319, 'min_data_in_leaf': 2076}. Best is trial 0 with value: 760.19.\n"
     ]
    },
    {
     "name": "stdout",
     "output_type": "stream",
     "text": [
      "Early stopping, best iteration is:\n",
      "[116]\tvalid_0's ER: 760.19\n",
      "Evaluated only: ER\n",
      "**************** regression ****************\n",
      "Training until validation scores don't improve for 74 rounds\n",
      "[100]\tvalid_0's ER: 754.66\n"
     ]
    },
    {
     "name": "stderr",
     "output_type": "stream",
     "text": [
      "[I 2023-12-12 21:09:39,286] Trial 1 finished with value: 754.66 and parameters: {'lambda_l1': 990.5704349693971, 'lambda_l2': 811.349599537396, 'learning_rate': 0.20686148710866273, 'num_leaves': 744, 'feature_fraction': 0.7085849505380777, 'min_data_in_leaf': 3504}. Best is trial 1 with value: 754.66.\n"
     ]
    },
    {
     "name": "stdout",
     "output_type": "stream",
     "text": [
      "Early stopping, best iteration is:\n",
      "[87]\tvalid_0's ER: 754.66\n",
      "Evaluated only: ER\n",
      "# Experimentos: 2\n",
      "Mejor experimento: {'lambda_l1': 990.5704349693971, 'lambda_l2': 811.349599537396, 'learning_rate': 0.20686148710866273, 'num_leaves': 744, 'feature_fraction': 0.7085849505380777, 'min_data_in_leaf': 3504}\n",
      "=========================================== Cluster 38 ===========================================\n"
     ]
    },
    {
     "name": "stderr",
     "output_type": "stream",
     "text": [
      "[I 2023-12-12 21:09:40,260] A new study created in memory with name: no-name-b49e2a3e-3f6c-4eda-aa3e-5e014cb32cbf\n"
     ]
    },
    {
     "name": "stdout",
     "output_type": "stream",
     "text": [
      "Periodos entrenar: [201805 201806 201807 201808 201809 201810 201701 201702 201703 201704\n",
      " 201705 201706 201707 201708 201709 201710 201711 201712 201801 201802\n",
      " 201803 201804]\n",
      "Periodos validar: [201812]\n",
      "product_id a validar: 1674\n",
      "X_train: (16454, 120)\n",
      "y_train: (16454,)\n",
      "\n",
      "X_validate: (1674, 120)\n",
      "y_validate: (1674,)\n",
      "Optimizacion Bayesiana\n",
      "**************** regression ****************\n",
      "Training until validation scores don't improve for 67 rounds\n"
     ]
    },
    {
     "name": "stderr",
     "output_type": "stream",
     "text": [
      "[I 2023-12-12 21:09:40,623] Trial 0 finished with value: 194.69 and parameters: {'lambda_l1': 861.6732097033984, 'lambda_l2': 951.2312148107112, 'learning_rate': 0.29399392274121794, 'num_leaves': 422, 'feature_fraction': 0.9019705840728909, 'min_data_in_leaf': 4030}. Best is trial 0 with value: 194.69.\n"
     ]
    },
    {
     "name": "stdout",
     "output_type": "stream",
     "text": [
      "[100]\tvalid_0's ER: 394.23\n",
      "Early stopping, best iteration is:\n",
      "[38]\tvalid_0's ER: 394.23\n",
      "Evaluated only: ER\n",
      "**************** regression ****************\n",
      "Training until validation scores don't improve for 138 rounds\n",
      "[100]\tvalid_0's ER: 175.2\n"
     ]
    },
    {
     "name": "stderr",
     "output_type": "stream",
     "text": [
      "[I 2023-12-12 21:09:41,306] Trial 1 finished with value: 173.16 and parameters: {'lambda_l1': 246.17562385582846, 'lambda_l2': 331.2440331539387, 'learning_rate': 0.05637784939222099, 'num_leaves': 794, 'feature_fraction': 0.9647077719646107, 'min_data_in_leaf': 3447}. Best is trial 1 with value: 173.16.\n"
     ]
    },
    {
     "name": "stdout",
     "output_type": "stream",
     "text": [
      "[200]\tvalid_0's ER: 174.38\n",
      "Early stopping, best iteration is:\n",
      "[105]\tvalid_0's ER: 173.16\n",
      "Evaluated only: ER\n",
      "# Experimentos: 2\n",
      "Mejor experimento: {'lambda_l1': 246.17562385582846, 'lambda_l2': 331.2440331539387, 'learning_rate': 0.05637784939222099, 'num_leaves': 794, 'feature_fraction': 0.9647077719646107, 'min_data_in_leaf': 3447}\n",
      "=========================================== Cluster 39 ===========================================\n"
     ]
    },
    {
     "name": "stderr",
     "output_type": "stream",
     "text": [
      "[I 2023-12-12 21:09:45,219] A new study created in memory with name: no-name-6e95b823-ca03-4f03-8f64-9022a9486652\n"
     ]
    },
    {
     "name": "stdout",
     "output_type": "stream",
     "text": [
      "Periodos entrenar: [201701 201702 201703 201704 201705 201706 201707 201708 201709 201710\n",
      " 201711 201712 201801 201802 201803 201804 201805 201806 201807 201808\n",
      " 201809 201810]\n",
      "Periodos validar: [201812]\n",
      "product_id a validar: 5580\n",
      "X_train: (112396, 120)\n",
      "y_train: (112396,)\n",
      "\n",
      "X_validate: (5580, 120)\n",
      "y_validate: (5580,)\n",
      "Optimizacion Bayesiana\n",
      "**************** regression ****************\n",
      "Training until validation scores don't improve for 69 rounds\n"
     ]
    },
    {
     "name": "stderr",
     "output_type": "stream",
     "text": [
      "[I 2023-12-12 21:09:46,816] Trial 0 finished with value: 219.75 and parameters: {'lambda_l1': 936.8167309976873, 'lambda_l2': 728.8158391155727, 'learning_rate': 0.25173346927924084, 'num_leaves': 778, 'feature_fraction': 0.6136332527684747, 'min_data_in_leaf': 4288}. Best is trial 0 with value: 219.75.\n"
     ]
    },
    {
     "name": "stdout",
     "output_type": "stream",
     "text": [
      "Early stopping, best iteration is:\n",
      "[28]\tvalid_0's ER: 219.75\n",
      "Evaluated only: ER\n",
      "**************** regression ****************\n",
      "Training until validation scores don't improve for 75 rounds\n"
     ]
    },
    {
     "name": "stderr",
     "output_type": "stream",
     "text": [
      "[I 2023-12-12 21:09:48,248] Trial 1 finished with value: 185.68 and parameters: {'lambda_l1': 701.7322405047399, 'lambda_l2': 479.24215859158124, 'learning_rate': 0.19405723540266645, 'num_leaves': 253, 'feature_fraction': 0.683236340929098, 'min_data_in_leaf': 716}. Best is trial 1 with value: 185.68.\n"
     ]
    },
    {
     "name": "stdout",
     "output_type": "stream",
     "text": [
      "Early stopping, best iteration is:\n",
      "[16]\tvalid_0's ER: 185.68\n",
      "Evaluated only: ER\n",
      "# Experimentos: 2\n",
      "Mejor experimento: {'lambda_l1': 701.7322405047399, 'lambda_l2': 479.24215859158124, 'learning_rate': 0.19405723540266645, 'num_leaves': 253, 'feature_fraction': 0.683236340929098, 'min_data_in_leaf': 716}\n",
      "=========================================== Cluster 40 ===========================================\n"
     ]
    },
    {
     "name": "stderr",
     "output_type": "stream",
     "text": [
      "[I 2023-12-12 21:09:52,379] A new study created in memory with name: no-name-0bcfd9ea-f6e5-45d6-bfd9-a1f7df180a51\n"
     ]
    },
    {
     "name": "stdout",
     "output_type": "stream",
     "text": [
      "Periodos entrenar: [201701 201702 201703 201704 201705 201706 201707 201708 201709 201710\n",
      " 201711 201712 201801 201802 201803 201804 201805 201806 201807 201808\n",
      " 201809 201810]\n",
      "Periodos validar: [201812]\n",
      "product_id a validar: 6138\n",
      "X_train: (102369, 120)\n",
      "y_train: (102369,)\n",
      "\n",
      "X_validate: (6138, 120)\n",
      "y_validate: (6138,)\n",
      "Optimizacion Bayesiana\n",
      "**************** regression ****************\n",
      "Training until validation scores don't improve for 73 rounds\n",
      "[100]\tvalid_0's ER: 189.63\n"
     ]
    },
    {
     "name": "stderr",
     "output_type": "stream",
     "text": [
      "[I 2023-12-12 21:09:53,939] Trial 0 finished with value: 99.77 and parameters: {'lambda_l1': 489.53590548513836, 'lambda_l2': 503.4531582494236, 'learning_rate': 0.21501292492673302, 'num_leaves': 275, 'feature_fraction': 0.24302857157869592, 'min_data_in_leaf': 7599}. Best is trial 0 with value: 99.77.\n"
     ]
    },
    {
     "name": "stdout",
     "output_type": "stream",
     "text": [
      "Early stopping, best iteration is:\n",
      "[109]\tvalid_0's ER: 189.62\n",
      "Evaluated only: ER\n",
      "**************** regression ****************\n",
      "Training until validation scores don't improve for 75 rounds\n",
      "[100]\tvalid_0's ER: 87.45\n"
     ]
    },
    {
     "name": "stderr",
     "output_type": "stream",
     "text": [
      "[I 2023-12-12 21:09:56,570] Trial 1 finished with value: 86.89 and parameters: {'lambda_l1': 37.24229194910023, 'lambda_l2': 31.516162697949213, 'learning_rate': 0.19652109690012806, 'num_leaves': 109, 'feature_fraction': 0.6165460535043709, 'min_data_in_leaf': 2345}. Best is trial 1 with value: 86.89.\n"
     ]
    },
    {
     "name": "stdout",
     "output_type": "stream",
     "text": [
      "[200]\tvalid_0's ER: 86.89\n",
      "Early stopping, best iteration is:\n",
      "[127]\tvalid_0's ER: 86.89\n",
      "Evaluated only: ER\n",
      "# Experimentos: 2\n",
      "Mejor experimento: {'lambda_l1': 37.24229194910023, 'lambda_l2': 31.516162697949213, 'learning_rate': 0.19652109690012806, 'num_leaves': 109, 'feature_fraction': 0.6165460535043709, 'min_data_in_leaf': 2345}\n",
      "=========================================== Cluster 41 ===========================================\n"
     ]
    },
    {
     "name": "stderr",
     "output_type": "stream",
     "text": [
      "[I 2023-12-12 21:09:57,124] A new study created in memory with name: no-name-3f5e2973-1d3e-4b42-8215-c3db64b28f36\n",
      "[I 2023-12-12 21:09:57,241] Trial 0 finished with value: 188.36 and parameters: {'lambda_l1': 603.5217749454049, 'lambda_l2': 398.95514381245545, 'learning_rate': 0.19531650950364898, 'num_leaves': 85, 'feature_fraction': 0.9298922153639584, 'min_data_in_leaf': 6361}. Best is trial 0 with value: 188.36.\n"
     ]
    },
    {
     "name": "stdout",
     "output_type": "stream",
     "text": [
      "Periodos entrenar: [201804 201805 201806 201807 201808 201809 201810]\n",
      "Periodos validar: [201812]\n",
      "product_id a validar: 1116\n",
      "X_train: (7632, 120)\n",
      "y_train: (7632,)\n",
      "\n",
      "X_validate: (1116, 120)\n",
      "y_validate: (1116,)\n",
      "Optimizacion Bayesiana\n",
      "**************** regression ****************\n",
      "Training until validation scores don't improve for 75 rounds\n",
      "Early stopping, best iteration is:\n",
      "[1]\tvalid_0's ER: 298.63\n",
      "Evaluated only: ER\n",
      "**************** regression ****************\n",
      "Training until validation scores don't improve for 167 rounds\n"
     ]
    },
    {
     "name": "stderr",
     "output_type": "stream",
     "text": [
      "[I 2023-12-12 21:09:57,491] Trial 1 finished with value: 188.36 and parameters: {'lambda_l1': 75.23519608738872, 'lambda_l2': 6.773256031758601, 'learning_rate': 0.04256301795070542, 'num_leaves': 956, 'feature_fraction': 0.36958240614653726, 'min_data_in_leaf': 4439}. Best is trial 0 with value: 188.36.\n"
     ]
    },
    {
     "name": "stdout",
     "output_type": "stream",
     "text": [
      "[100]\tvalid_0's ER: 298.63\n",
      "Early stopping, best iteration is:\n",
      "[1]\tvalid_0's ER: 298.63\n",
      "Evaluated only: ER\n",
      "# Experimentos: 2\n",
      "Mejor experimento: {'lambda_l1': 603.5217749454049, 'lambda_l2': 398.95514381245545, 'learning_rate': 0.19531650950364898, 'num_leaves': 85, 'feature_fraction': 0.9298922153639584, 'min_data_in_leaf': 6361}\n",
      "=========================================== Cluster 42 ===========================================\n"
     ]
    },
    {
     "name": "stderr",
     "output_type": "stream",
     "text": [
      "[I 2023-12-12 21:10:08,267] A new study created in memory with name: no-name-590809b8-7fb2-480c-95c5-594042f39132\n"
     ]
    },
    {
     "name": "stdout",
     "output_type": "stream",
     "text": [
      "Periodos entrenar: [201701 201702 201703 201704 201705 201706 201707 201708 201709 201710\n",
      " 201711 201712 201801 201802 201803 201804 201805 201806 201807 201808\n",
      " 201809 201810]\n",
      "Periodos validar: [201812]\n",
      "product_id a validar: 15066\n",
      "X_train: (293773, 120)\n",
      "y_train: (293773,)\n",
      "\n",
      "X_validate: (15066, 120)\n",
      "y_validate: (15066,)\n",
      "Optimizacion Bayesiana\n",
      "**************** regression ****************\n",
      "Training until validation scores don't improve for 100 rounds\n",
      "[100]\tvalid_0's ER: 99.17\n",
      "[200]\tvalid_0's ER: 96.72\n"
     ]
    },
    {
     "name": "stderr",
     "output_type": "stream",
     "text": [
      "[I 2023-12-12 21:10:15,173] Trial 0 finished with value: 96.73 and parameters: {'lambda_l1': 220.97517101549846, 'lambda_l2': 243.2866246161789, 'learning_rate': 0.09927768985438011, 'num_leaves': 493, 'feature_fraction': 0.31072043863818444, 'min_data_in_leaf': 586}. Best is trial 0 with value: 96.73.\n"
     ]
    },
    {
     "name": "stdout",
     "output_type": "stream",
     "text": [
      "Early stopping, best iteration is:\n",
      "[152]\tvalid_0's ER: 96.51\n",
      "Evaluated only: ER\n",
      "**************** regression ****************\n",
      "Training until validation scores don't improve for 96 rounds\n",
      "[100]\tvalid_0's ER: 174.73\n"
     ]
    },
    {
     "name": "stderr",
     "output_type": "stream",
     "text": [
      "[I 2023-12-12 21:10:19,772] Trial 1 finished with value: 174.73 and parameters: {'lambda_l1': 820.7950906400474, 'lambda_l2': 262.4029401663345, 'learning_rate': 0.10784436306972753, 'num_leaves': 629, 'feature_fraction': 0.7632176993019073, 'min_data_in_leaf': 2158}. Best is trial 0 with value: 96.73.\n"
     ]
    },
    {
     "name": "stdout",
     "output_type": "stream",
     "text": [
      "Early stopping, best iteration is:\n",
      "[34]\tvalid_0's ER: 174.73\n",
      "Evaluated only: ER\n",
      "# Experimentos: 2\n",
      "Mejor experimento: {'lambda_l1': 220.97517101549846, 'lambda_l2': 243.2866246161789, 'learning_rate': 0.09927768985438011, 'num_leaves': 493, 'feature_fraction': 0.31072043863818444, 'min_data_in_leaf': 586}\n",
      "=========================================== Cluster 43 ===========================================\n",
      "Periodos entrenar: []\n",
      "Periodos validar: [201812]\n",
      "product_id a validar: 558\n",
      "X_train: (0, 120)\n",
      "y_train: (0,)\n",
      "\n",
      "X_validate: (558, 120)\n",
      "y_validate: (558,)\n",
      "=========================================== Cluster 44 ===========================================\n"
     ]
    },
    {
     "name": "stderr",
     "output_type": "stream",
     "text": [
      "[I 2023-12-12 21:10:30,349] A new study created in memory with name: no-name-d6aef00e-6898-4a34-b627-ed803f05cb41\n"
     ]
    },
    {
     "name": "stdout",
     "output_type": "stream",
     "text": [
      "Periodos entrenar: [201701 201702 201703 201704 201705 201706 201707 201708 201709 201710\n",
      " 201711 201712 201801 201802 201803 201804 201805 201806 201807 201808\n",
      " 201809 201810]\n",
      "Periodos validar: [201812]\n",
      "product_id a validar: 11718\n",
      "X_train: (241815, 120)\n",
      "y_train: (241815,)\n",
      "\n",
      "X_validate: (11718, 120)\n",
      "y_validate: (11718,)\n",
      "Optimizacion Bayesiana\n",
      "**************** regression ****************\n",
      "Training until validation scores don't improve for 67 rounds\n"
     ]
    },
    {
     "name": "stderr",
     "output_type": "stream",
     "text": [
      "[I 2023-12-12 21:10:33,151] Trial 0 finished with value: 119.17 and parameters: {'lambda_l1': 285.8666192071081, 'lambda_l2': 570.1943779418058, 'learning_rate': 0.27840870938732126, 'num_leaves': 247, 'feature_fraction': 0.47861969659551734, 'min_data_in_leaf': 6839}. Best is trial 0 with value: 119.17.\n"
     ]
    },
    {
     "name": "stdout",
     "output_type": "stream",
     "text": [
      "Early stopping, best iteration is:\n",
      "[21]\tvalid_0's ER: 119.17\n",
      "Evaluated only: ER\n",
      "**************** regression ****************\n",
      "Training until validation scores don't improve for 119 rounds\n",
      "[100]\tvalid_0's ER: 166.63\n"
     ]
    },
    {
     "name": "stderr",
     "output_type": "stream",
     "text": [
      "[I 2023-12-12 21:10:37,392] Trial 1 finished with value: 166.63 and parameters: {'lambda_l1': 816.3722991748851, 'lambda_l2': 463.61333289206453, 'learning_rate': 0.07155640932679856, 'num_leaves': 310, 'feature_fraction': 0.8565762844880829, 'min_data_in_leaf': 350}. Best is trial 0 with value: 119.17.\n"
     ]
    },
    {
     "name": "stdout",
     "output_type": "stream",
     "text": [
      "Early stopping, best iteration is:\n",
      "[32]\tvalid_0's ER: 166.63\n",
      "Evaluated only: ER\n",
      "# Experimentos: 2\n",
      "Mejor experimento: {'lambda_l1': 285.8666192071081, 'lambda_l2': 570.1943779418058, 'learning_rate': 0.27840870938732126, 'num_leaves': 247, 'feature_fraction': 0.47861969659551734, 'min_data_in_leaf': 6839}\n",
      "=========================================== Cluster 45 ===========================================\n"
     ]
    },
    {
     "name": "stderr",
     "output_type": "stream",
     "text": [
      "[I 2023-12-12 21:10:39,188] A new study created in memory with name: no-name-7ca4545d-a03f-43e1-9b31-cb19a0c56565\n"
     ]
    },
    {
     "name": "stdout",
     "output_type": "stream",
     "text": [
      "Periodos entrenar: [201701 201702 201703 201704 201705 201706 201707 201708 201709 201710\n",
      " 201711 201712 201801 201802 201803 201804 201805 201806 201807 201808\n",
      " 201809 201810]\n",
      "Periodos validar: [201812]\n",
      "product_id a validar: 1674\n",
      "X_train: (34545, 120)\n",
      "y_train: (34545,)\n",
      "\n",
      "X_validate: (1674, 120)\n",
      "y_validate: (1674,)\n",
      "Optimizacion Bayesiana\n",
      "**************** regression ****************\n",
      "Training until validation scores don't improve for 80 rounds\n"
     ]
    },
    {
     "name": "stderr",
     "output_type": "stream",
     "text": [
      "[I 2023-12-12 21:10:39,984] Trial 0 finished with value: 93.34 and parameters: {'lambda_l1': 91.79288173917166, 'lambda_l2': 891.514893142025, 'learning_rate': 0.1660769746463525, 'num_leaves': 958, 'feature_fraction': 0.7792137507537014, 'min_data_in_leaf': 511}. Best is trial 0 with value: 93.34.\n"
     ]
    },
    {
     "name": "stdout",
     "output_type": "stream",
     "text": [
      "[100]\tvalid_0's ER: 93.35\n",
      "Early stopping, best iteration is:\n",
      "[77]\tvalid_0's ER: 93.34\n",
      "Evaluated only: ER\n",
      "**************** regression ****************\n",
      "Training until validation scores don't improve for 298 rounds\n",
      "[100]\tvalid_0's ER: 173.32\n",
      "[200]\tvalid_0's ER: 166.73\n",
      "[300]\tvalid_0's ER: 164.47\n",
      "[400]\tvalid_0's ER: 163.63\n",
      "[500]\tvalid_0's ER: 163.31\n",
      "[600]\tvalid_0's ER: 163.19\n",
      "[700]\tvalid_0's ER: 163.13\n",
      "[800]\tvalid_0's ER: 163.11\n",
      "[900]\tvalid_0's ER: 163.1\n",
      "[1000]\tvalid_0's ER: 163.1\n",
      "[1100]\tvalid_0's ER: 163.09\n",
      "[1200]\tvalid_0's ER: 163.09\n",
      "[1300]\tvalid_0's ER: 163.09\n",
      "Early stopping, best iteration is:\n",
      "[1093]\tvalid_0's ER: 163.09\n",
      "Evaluated only: ER\n"
     ]
    },
    {
     "name": "stderr",
     "output_type": "stream",
     "text": [
      "[I 2023-12-12 21:10:43,128] Trial 1 finished with value: 163.09 and parameters: {'lambda_l1': 275.42182574458616, 'lambda_l2': 558.1191407238298, 'learning_rate': 0.020109212295094978, 'num_leaves': 1000, 'feature_fraction': 0.3351595896288514, 'min_data_in_leaf': 7868}. Best is trial 0 with value: 93.34.\n"
     ]
    },
    {
     "name": "stdout",
     "output_type": "stream",
     "text": [
      "# Experimentos: 2\n",
      "Mejor experimento: {'lambda_l1': 91.79288173917166, 'lambda_l2': 891.514893142025, 'learning_rate': 0.1660769746463525, 'num_leaves': 958, 'feature_fraction': 0.7792137507537014, 'min_data_in_leaf': 511}\n",
      "=========================================== Cluster 46 ===========================================\n"
     ]
    },
    {
     "name": "stderr",
     "output_type": "stream",
     "text": [
      "[I 2023-12-12 21:10:44,370] A new study created in memory with name: no-name-6dedf5a4-51d9-4fb9-b65c-e59a4d8cd692\n"
     ]
    },
    {
     "name": "stdout",
     "output_type": "stream",
     "text": [
      "Periodos entrenar: [201701 201702 201703 201704 201705 201706 201707 201708 201709 201710\n",
      " 201711 201712 201801 201802 201803 201804 201805 201806 201807 201808\n",
      " 201809 201810]\n",
      "Periodos validar: [201812]\n",
      "product_id a validar: 1116\n",
      "X_train: (22597, 120)\n",
      "y_train: (22597,)\n",
      "\n",
      "X_validate: (1116, 120)\n",
      "y_validate: (1116,)\n",
      "Optimizacion Bayesiana\n",
      "**************** regression ****************\n",
      "Training until validation scores don't improve for 86 rounds\n"
     ]
    },
    {
     "name": "stderr",
     "output_type": "stream",
     "text": [
      "[I 2023-12-12 21:10:44,681] Trial 0 finished with value: 228.97 and parameters: {'lambda_l1': 900.2917183707269, 'lambda_l2': 256.6870087260803, 'learning_rate': 0.13734140865095765, 'num_leaves': 367, 'feature_fraction': 0.686108171618321, 'min_data_in_leaf': 4412}. Best is trial 0 with value: 228.97.\n"
     ]
    },
    {
     "name": "stdout",
     "output_type": "stream",
     "text": [
      "Early stopping, best iteration is:\n",
      "[1]\tvalid_0's ER: 371.56\n",
      "Evaluated only: ER\n",
      "**************** regression ****************\n",
      "Training until validation scores don't improve for 93 rounds\n"
     ]
    },
    {
     "name": "stderr",
     "output_type": "stream",
     "text": [
      "[I 2023-12-12 21:10:45,205] Trial 1 finished with value: 199.56 and parameters: {'lambda_l1': 453.74542504076265, 'lambda_l2': 340.97354341353423, 'learning_rate': 0.11596506096877313, 'num_leaves': 846, 'feature_fraction': 0.8934474875981553, 'min_data_in_leaf': 1249}. Best is trial 1 with value: 199.56.\n"
     ]
    },
    {
     "name": "stdout",
     "output_type": "stream",
     "text": [
      "[100]\tvalid_0's ER: 339.95\n",
      "Early stopping, best iteration is:\n",
      "[77]\tvalid_0's ER: 339.95\n",
      "Evaluated only: ER\n",
      "# Experimentos: 2\n",
      "Mejor experimento: {'lambda_l1': 453.74542504076265, 'lambda_l2': 340.97354341353423, 'learning_rate': 0.11596506096877313, 'num_leaves': 846, 'feature_fraction': 0.8934474875981553, 'min_data_in_leaf': 1249}\n",
      "=========================================== Cluster 47 ===========================================\n"
     ]
    },
    {
     "name": "stderr",
     "output_type": "stream",
     "text": [
      "[I 2023-12-12 21:10:47,438] A new study created in memory with name: no-name-69331764-68e7-4d5c-acfd-514c69909a8c\n"
     ]
    },
    {
     "name": "stdout",
     "output_type": "stream",
     "text": [
      "Periodos entrenar: [201710 201711 201712 201801 201802 201803 201804 201805 201806 201807\n",
      " 201808 201809 201810]\n",
      "Periodos validar: [201812]\n",
      "product_id a validar: 3906\n",
      "X_train: (23183, 120)\n",
      "y_train: (23183,)\n",
      "\n",
      "X_validate: (3906, 120)\n",
      "y_validate: (3906,)\n",
      "Optimizacion Bayesiana\n",
      "**************** regression ****************\n",
      "Training until validation scores don't improve for 256 rounds\n",
      "[100]\tvalid_0's ER: 502.67\n",
      "[200]\tvalid_0's ER: 502.67\n",
      "Early stopping, best iteration is:\n",
      "[1]\tvalid_0's ER: 502.67\n",
      "Evaluated only: ER\n"
     ]
    },
    {
     "name": "stderr",
     "output_type": "stream",
     "text": [
      "[I 2023-12-12 21:10:49,065] Trial 0 finished with value: 296.24 and parameters: {'lambda_l1': 550.1792642401833, 'lambda_l2': 227.88439959863538, 'learning_rate': 0.024208085608648833, 'num_leaves': 188, 'feature_fraction': 0.8587095222042069, 'min_data_in_leaf': 6410}. Best is trial 0 with value: 296.24.\n"
     ]
    },
    {
     "name": "stdout",
     "output_type": "stream",
     "text": [
      "**************** regression ****************\n",
      "Training until validation scores don't improve for 66 rounds\n"
     ]
    },
    {
     "name": "stderr",
     "output_type": "stream",
     "text": [
      "[I 2023-12-12 21:10:49,457] Trial 1 finished with value: 296.24 and parameters: {'lambda_l1': 795.0274880053192, 'lambda_l2': 813.4732570333626, 'learning_rate': 0.298512114447084, 'num_leaves': 452, 'feature_fraction': 0.29702363524542874, 'min_data_in_leaf': 908}. Best is trial 0 with value: 296.24.\n"
     ]
    },
    {
     "name": "stdout",
     "output_type": "stream",
     "text": [
      "Early stopping, best iteration is:\n",
      "[1]\tvalid_0's ER: 502.67\n",
      "Evaluated only: ER\n",
      "# Experimentos: 2\n",
      "Mejor experimento: {'lambda_l1': 550.1792642401833, 'lambda_l2': 227.88439959863538, 'learning_rate': 0.024208085608648833, 'num_leaves': 188, 'feature_fraction': 0.8587095222042069, 'min_data_in_leaf': 6410}\n",
      "=========================================== Cluster 48 ===========================================\n",
      "Periodos entrenar: []\n",
      "Periodos validar: [201812]\n",
      "product_id a validar: 2790\n",
      "X_train: (0, 120)\n",
      "y_train: (0,)\n",
      "\n",
      "X_validate: (2790, 120)\n",
      "y_validate: (2790,)\n",
      "=========================================== Cluster 49 ===========================================\n",
      "Periodos entrenar: []\n",
      "Periodos validar: []\n",
      "product_id a validar: 0\n",
      "X_train: (0, 120)\n",
      "y_train: (0,)\n",
      "\n",
      "X_validate: (0, 120)\n",
      "y_validate: (0,)\n",
      "=========================================== Cluster 50 ===========================================\n"
     ]
    },
    {
     "name": "stderr",
     "output_type": "stream",
     "text": [
      "[I 2023-12-12 21:11:02,478] A new study created in memory with name: no-name-b3f84364-a549-4238-9de6-fc514d908320\n"
     ]
    },
    {
     "name": "stdout",
     "output_type": "stream",
     "text": [
      "Periodos entrenar: [201701 201702 201703 201704 201705 201706 201707 201708 201709 201710\n",
      " 201711 201712 201801 201802 201803 201804 201805 201806 201807 201808\n",
      " 201809 201810]\n",
      "Periodos validar: [201812]\n",
      "product_id a validar: 11718\n",
      "X_train: (232490, 120)\n",
      "y_train: (232490,)\n",
      "\n",
      "X_validate: (11718, 120)\n",
      "y_validate: (11718,)\n",
      "Optimizacion Bayesiana\n",
      "**************** regression ****************\n",
      "Training until validation scores don't improve for 67 rounds\n"
     ]
    },
    {
     "name": "stderr",
     "output_type": "stream",
     "text": [
      "[I 2023-12-12 21:11:05,109] Trial 0 finished with value: 156.8 and parameters: {'lambda_l1': 492.2214386825907, 'lambda_l2': 285.5161747528199, 'learning_rate': 0.2829930865490121, 'num_leaves': 109, 'feature_fraction': 0.3126603315478407, 'min_data_in_leaf': 5542}. Best is trial 0 with value: 156.8.\n"
     ]
    },
    {
     "name": "stdout",
     "output_type": "stream",
     "text": [
      "[100]\tvalid_0's ER: 156.8\n",
      "Early stopping, best iteration is:\n",
      "[38]\tvalid_0's ER: 156.8\n",
      "Evaluated only: ER\n",
      "**************** regression ****************\n",
      "Training until validation scores don't improve for 87 rounds\n",
      "[100]\tvalid_0's ER: 173.3\n"
     ]
    },
    {
     "name": "stderr",
     "output_type": "stream",
     "text": [
      "[I 2023-12-12 21:11:09,061] Trial 1 finished with value: 97.6 and parameters: {'lambda_l1': 614.8834285217506, 'lambda_l2': 865.4076897810075, 'learning_rate': 0.13416906482502683, 'num_leaves': 488, 'feature_fraction': 0.7080422384759972, 'min_data_in_leaf': 5233}. Best is trial 1 with value: 97.6.\n"
     ]
    },
    {
     "name": "stdout",
     "output_type": "stream",
     "text": [
      "Early stopping, best iteration is:\n",
      "[60]\tvalid_0's ER: 173.3\n",
      "Evaluated only: ER\n",
      "# Experimentos: 2\n",
      "Mejor experimento: {'lambda_l1': 614.8834285217506, 'lambda_l2': 865.4076897810075, 'learning_rate': 0.13416906482502683, 'num_leaves': 488, 'feature_fraction': 0.7080422384759972, 'min_data_in_leaf': 5233}\n",
      "=========================================== Cluster 51 ===========================================\n"
     ]
    },
    {
     "name": "stderr",
     "output_type": "stream",
     "text": [
      "[I 2023-12-12 21:11:09,852] A new study created in memory with name: no-name-28fafdda-73e6-44d5-ad0c-7e03139605c3\n"
     ]
    },
    {
     "name": "stdout",
     "output_type": "stream",
     "text": [
      "Periodos entrenar: [201701 201702 201703 201704 201705 201706 201707 201708 201709 201710\n",
      " 201711 201712 201801 201802 201803 201804 201805 201806 201807 201808\n",
      " 201809 201810]\n",
      "Periodos validar: [201812]\n",
      "product_id a validar: 558\n",
      "X_train: (11515, 120)\n",
      "y_train: (11515,)\n",
      "\n",
      "X_validate: (558, 120)\n",
      "y_validate: (558,)\n",
      "Optimizacion Bayesiana\n",
      "**************** regression ****************\n",
      "Training until validation scores don't improve for 71 rounds\n",
      "[100]\tvalid_0's ER: 239.73\n"
     ]
    },
    {
     "name": "stderr",
     "output_type": "stream",
     "text": [
      "[I 2023-12-12 21:11:10,095] Trial 0 finished with value: 114.65 and parameters: {'lambda_l1': 91.5538898120023, 'lambda_l2': 993.5613235521374, 'learning_rate': 0.2335105378772001, 'num_leaves': 881, 'feature_fraction': 0.45262557019063276, 'min_data_in_leaf': 4782}. Best is trial 0 with value: 114.65.\n",
      "[I 2023-12-12 21:11:10,240] Trial 1 finished with value: 221.84 and parameters: {'lambda_l1': 175.8283817560987, 'lambda_l2': 147.85171376670692, 'learning_rate': 0.15899851290715777, 'num_leaves': 710, 'feature_fraction': 0.5042299895617894, 'min_data_in_leaf': 7247}. Best is trial 0 with value: 114.65.\n"
     ]
    },
    {
     "name": "stdout",
     "output_type": "stream",
     "text": [
      "Early stopping, best iteration is:\n",
      "[78]\tvalid_0's ER: 239.73\n",
      "Evaluated only: ER\n",
      "**************** regression ****************\n",
      "Training until validation scores don't improve for 81 rounds\n",
      "Early stopping, best iteration is:\n",
      "[1]\tvalid_0's ER: 353.15\n",
      "Evaluated only: ER\n",
      "# Experimentos: 2\n",
      "Mejor experimento: {'lambda_l1': 91.5538898120023, 'lambda_l2': 993.5613235521374, 'learning_rate': 0.2335105378772001, 'num_leaves': 881, 'feature_fraction': 0.45262557019063276, 'min_data_in_leaf': 4782}\n",
      "=========================================== Cluster 52 ===========================================\n"
     ]
    },
    {
     "name": "stderr",
     "output_type": "stream",
     "text": [
      "[I 2023-12-12 21:11:14,146] A new study created in memory with name: no-name-094885f0-b69a-4c48-8871-4e7099d89eb7\n"
     ]
    },
    {
     "name": "stdout",
     "output_type": "stream",
     "text": [
      "Periodos entrenar: [201701 201702 201703 201704 201705 201706 201707 201708 201709 201710\n",
      " 201711 201712 201801 201802 201803 201804 201805 201806 201807 201808\n",
      " 201809 201810]\n",
      "Periodos validar: [201812]\n",
      "product_id a validar: 4464\n",
      "X_train: (92120, 120)\n",
      "y_train: (92120,)\n",
      "\n",
      "X_validate: (4464, 120)\n",
      "y_validate: (4464,)\n",
      "Optimizacion Bayesiana\n",
      "**************** regression ****************\n",
      "Training until validation scores don't improve for 101 rounds\n",
      "[100]\tvalid_0's ER: 258.92\n",
      "[200]\tvalid_0's ER: 258.65\n"
     ]
    },
    {
     "name": "stderr",
     "output_type": "stream",
     "text": [
      "[I 2023-12-12 21:11:16,426] Trial 0 finished with value: 112.91 and parameters: {'lambda_l1': 426.741169064761, 'lambda_l2': 361.58802170316307, 'learning_rate': 0.09793456488165905, 'num_leaves': 960, 'feature_fraction': 0.48669843699633386, 'min_data_in_leaf': 976}. Best is trial 0 with value: 112.91.\n"
     ]
    },
    {
     "name": "stdout",
     "output_type": "stream",
     "text": [
      "Early stopping, best iteration is:\n",
      "[177]\tvalid_0's ER: 258.65\n",
      "Evaluated only: ER\n",
      "**************** regression ****************\n",
      "Training until validation scores don't improve for 105 rounds\n"
     ]
    },
    {
     "name": "stderr",
     "output_type": "stream",
     "text": [
      "[I 2023-12-12 21:11:17,408] Trial 1 finished with value: 241.1 and parameters: {'lambda_l1': 892.326835249098, 'lambda_l2': 418.00277682839095, 'learning_rate': 0.09009407809016515, 'num_leaves': 835, 'feature_fraction': 0.21419475178016337, 'min_data_in_leaf': 2855}. Best is trial 0 with value: 112.91.\n"
     ]
    },
    {
     "name": "stdout",
     "output_type": "stream",
     "text": [
      "[100]\tvalid_0's ER: 400.49\n",
      "Early stopping, best iteration is:\n",
      "[1]\tvalid_0's ER: 400.49\n",
      "Evaluated only: ER\n",
      "# Experimentos: 2\n",
      "Mejor experimento: {'lambda_l1': 426.741169064761, 'lambda_l2': 361.58802170316307, 'learning_rate': 0.09793456488165905, 'num_leaves': 960, 'feature_fraction': 0.48669843699633386, 'min_data_in_leaf': 976}\n",
      "=========================================== Cluster 53 ===========================================\n"
     ]
    },
    {
     "name": "stderr",
     "output_type": "stream",
     "text": [
      "[I 2023-12-12 21:11:22,751] A new study created in memory with name: no-name-a28d97ad-37c1-4bde-9116-a11cce67d05b\n"
     ]
    },
    {
     "name": "stdout",
     "output_type": "stream",
     "text": [
      "Periodos entrenar: [201701 201702 201703 201704 201705 201706 201707 201708 201709 201710\n",
      " 201711 201712 201801 201802 201803 201804 201805 201806 201807 201808\n",
      " 201809 201810]\n",
      "Periodos validar: [201812]\n",
      "product_id a validar: 6138\n",
      "X_train: (126232, 120)\n",
      "y_train: (126232,)\n",
      "\n",
      "X_validate: (6138, 120)\n",
      "y_validate: (6138,)\n",
      "Optimizacion Bayesiana\n",
      "**************** regression ****************\n",
      "Training until validation scores don't improve for 393 rounds\n",
      "[100]\tvalid_0's ER: 242.02\n",
      "[200]\tvalid_0's ER: 234.03\n",
      "[300]\tvalid_0's ER: 229.9\n",
      "[400]\tvalid_0's ER: 229.9\n",
      "[500]\tvalid_0's ER: 229.9\n",
      "[600]\tvalid_0's ER: 229.9\n"
     ]
    },
    {
     "name": "stderr",
     "output_type": "stream",
     "text": [
      "[I 2023-12-12 21:11:30,178] Trial 0 finished with value: 229.9 and parameters: {'lambda_l1': 294.515176459576, 'lambda_l2': 455.17611055207885, 'learning_rate': 0.014546537120220034, 'num_leaves': 36, 'feature_fraction': 0.9516605597660286, 'min_data_in_leaf': 4776}. Best is trial 0 with value: 229.9.\n"
     ]
    },
    {
     "name": "stdout",
     "output_type": "stream",
     "text": [
      "Early stopping, best iteration is:\n",
      "[299]\tvalid_0's ER: 229.9\n",
      "Evaluated only: ER\n",
      "**************** regression ****************\n",
      "Training until validation scores don't improve for 69 rounds\n"
     ]
    },
    {
     "name": "stderr",
     "output_type": "stream",
     "text": [
      "[I 2023-12-12 21:11:32,018] Trial 1 finished with value: 147.38 and parameters: {'lambda_l1': 98.76121307939867, 'lambda_l2': 966.6971758016593, 'learning_rate': 0.25573348672049406, 'num_leaves': 703, 'feature_fraction': 0.7541863479364308, 'min_data_in_leaf': 2186}. Best is trial 1 with value: 147.38.\n"
     ]
    },
    {
     "name": "stdout",
     "output_type": "stream",
     "text": [
      "[100]\tvalid_0's ER: 147.38\n",
      "Early stopping, best iteration is:\n",
      "[39]\tvalid_0's ER: 147.38\n",
      "Evaluated only: ER\n",
      "# Experimentos: 2\n",
      "Mejor experimento: {'lambda_l1': 98.76121307939867, 'lambda_l2': 966.6971758016593, 'learning_rate': 0.25573348672049406, 'num_leaves': 703, 'feature_fraction': 0.7541863479364308, 'min_data_in_leaf': 2186}\n",
      "=========================================== Cluster 54 ===========================================\n"
     ]
    },
    {
     "name": "stderr",
     "output_type": "stream",
     "text": [
      "[I 2023-12-12 21:11:33,887] A new study created in memory with name: no-name-8049fea2-27f5-457d-b01f-66821780d46c\n"
     ]
    },
    {
     "name": "stdout",
     "output_type": "stream",
     "text": [
      "Periodos entrenar: [201701 201702 201703 201704 201705 201706 201707 201708 201709 201710\n",
      " 201711 201712 201801 201802 201803 201804 201805 201806 201807 201808\n",
      " 201809 201810]\n",
      "Periodos validar: [201812]\n",
      "product_id a validar: 2232\n",
      "X_train: (25793, 120)\n",
      "y_train: (25793,)\n",
      "\n",
      "X_validate: (2232, 120)\n",
      "y_validate: (2232,)\n",
      "Optimizacion Bayesiana\n",
      "**************** regression ****************\n",
      "Training until validation scores don't improve for 76 rounds\n"
     ]
    },
    {
     "name": "stderr",
     "output_type": "stream",
     "text": [
      "[I 2023-12-12 21:11:34,459] Trial 0 finished with value: 161.35 and parameters: {'lambda_l1': 216.80513004110847, 'lambda_l2': 756.293850602212, 'learning_rate': 0.19125719101678393, 'num_leaves': 743, 'feature_fraction': 0.7186765449165997, 'min_data_in_leaf': 5131}. Best is trial 0 with value: 161.35.\n"
     ]
    },
    {
     "name": "stdout",
     "output_type": "stream",
     "text": [
      "[100]\tvalid_0's ER: 274.2\n",
      "Early stopping, best iteration is:\n",
      "[53]\tvalid_0's ER: 274.2\n",
      "Evaluated only: ER\n",
      "**************** regression ****************\n"
     ]
    },
    {
     "name": "stderr",
     "output_type": "stream",
     "text": [
      "[I 2023-12-12 21:11:34,795] Trial 1 finished with value: 204.74 and parameters: {'lambda_l1': 545.7379265760517, 'lambda_l2': 967.1533519515601, 'learning_rate': 0.1908573244928468, 'num_leaves': 630, 'feature_fraction': 0.42831343667060984, 'min_data_in_leaf': 3409}. Best is trial 0 with value: 161.35.\n"
     ]
    },
    {
     "name": "stdout",
     "output_type": "stream",
     "text": [
      "Training until validation scores don't improve for 76 rounds\n",
      "Early stopping, best iteration is:\n",
      "[1]\tvalid_0's ER: 321.15\n",
      "Evaluated only: ER\n",
      "# Experimentos: 2\n",
      "Mejor experimento: {'lambda_l1': 216.80513004110847, 'lambda_l2': 756.293850602212, 'learning_rate': 0.19125719101678393, 'num_leaves': 743, 'feature_fraction': 0.7186765449165997, 'min_data_in_leaf': 5131}\n",
      "=========================================== Cluster 55 ===========================================\n"
     ]
    },
    {
     "name": "stderr",
     "output_type": "stream",
     "text": [
      "[I 2023-12-12 21:11:36,068] A new study created in memory with name: no-name-5fc6b564-0b27-4d81-9590-8438cd802288\n"
     ]
    },
    {
     "name": "stdout",
     "output_type": "stream",
     "text": [
      "Periodos entrenar: [201701 201702 201703 201704 201705 201706 201707 201708 201709 201710\n",
      " 201711 201712 201801 201802 201803 201804 201805 201806 201807 201808\n",
      " 201809 201810]\n",
      "Periodos validar: [201812]\n",
      "product_id a validar: 1116\n",
      "X_train: (23030, 120)\n",
      "y_train: (23030,)\n",
      "\n",
      "X_validate: (1116, 120)\n",
      "y_validate: (1116,)\n",
      "Optimizacion Bayesiana\n",
      "**************** regression ****************\n",
      "Training until validation scores don't improve for 75 rounds\n"
     ]
    },
    {
     "name": "stderr",
     "output_type": "stream",
     "text": [
      "[I 2023-12-12 21:11:36,531] Trial 0 finished with value: 171.82 and parameters: {'lambda_l1': 174.19854736959982, 'lambda_l2': 770.3572796193151, 'learning_rate': 0.19665332408312702, 'num_leaves': 360, 'feature_fraction': 0.7784629563741647, 'min_data_in_leaf': 3847}. Best is trial 0 with value: 171.82.\n"
     ]
    },
    {
     "name": "stdout",
     "output_type": "stream",
     "text": [
      "[100]\tvalid_0's ER: 272.22\n",
      "Early stopping, best iteration is:\n",
      "[70]\tvalid_0's ER: 272.22\n",
      "Evaluated only: ER\n",
      "**************** regression ****************\n",
      "Training until validation scores don't improve for 81 rounds\n"
     ]
    },
    {
     "name": "stderr",
     "output_type": "stream",
     "text": [
      "[I 2023-12-12 21:11:36,998] Trial 1 finished with value: 98.1 and parameters: {'lambda_l1': 89.76727848753463, 'lambda_l2': 119.30339811490853, 'learning_rate': 0.15775550630285318, 'num_leaves': 981, 'feature_fraction': 0.9873566689329074, 'min_data_in_leaf': 1478}. Best is trial 1 with value: 98.1.\n"
     ]
    },
    {
     "name": "stdout",
     "output_type": "stream",
     "text": [
      "[100]\tvalid_0's ER: 183.59\n",
      "Early stopping, best iteration is:\n",
      "[54]\tvalid_0's ER: 183.59\n",
      "Evaluated only: ER\n",
      "# Experimentos: 2\n",
      "Mejor experimento: {'lambda_l1': 89.76727848753463, 'lambda_l2': 119.30339811490853, 'learning_rate': 0.15775550630285318, 'num_leaves': 981, 'feature_fraction': 0.9873566689329074, 'min_data_in_leaf': 1478}\n",
      "=========================================== Cluster 56 ===========================================\n"
     ]
    },
    {
     "name": "stderr",
     "output_type": "stream",
     "text": [
      "[I 2023-12-12 21:11:42,794] A new study created in memory with name: no-name-2cb14270-12b6-4a5b-9b3b-9b7f2918a7f2\n"
     ]
    },
    {
     "name": "stdout",
     "output_type": "stream",
     "text": [
      "Periodos entrenar: [201701 201702 201703 201704 201705 201706 201707 201708 201709 201710\n",
      " 201711 201712 201801 201802 201803 201804 201805 201806 201807 201808\n",
      " 201809 201810]\n",
      "Periodos validar: [201812]\n",
      "product_id a validar: 6696\n",
      "X_train: (138180, 120)\n",
      "y_train: (138180,)\n",
      "\n",
      "X_validate: (6696, 120)\n",
      "y_validate: (6696,)\n",
      "Optimizacion Bayesiana\n",
      "**************** regression ****************\n",
      "Training until validation scores don't improve for 78 rounds\n",
      "[100]\tvalid_0's ER: 301.6\n"
     ]
    },
    {
     "name": "stderr",
     "output_type": "stream",
     "text": [
      "[I 2023-12-12 21:11:45,112] Trial 0 finished with value: 146.64 and parameters: {'lambda_l1': 592.7039707941167, 'lambda_l2': 508.4343774639459, 'learning_rate': 0.1750823444700988, 'num_leaves': 500, 'feature_fraction': 0.830533164422576, 'min_data_in_leaf': 410}. Best is trial 0 with value: 146.64.\n"
     ]
    },
    {
     "name": "stdout",
     "output_type": "stream",
     "text": [
      "Early stopping, best iteration is:\n",
      "[58]\tvalid_0's ER: 301.6\n",
      "Evaluated only: ER\n",
      "**************** regression ****************\n",
      "Training until validation scores don't improve for 71 rounds\n",
      "[100]\tvalid_0's ER: 111.26\n",
      "[200]\tvalid_0's ER: 108.87\n",
      "[300]\tvalid_0's ER: 105.19\n",
      "[400]\tvalid_0's ER: 103\n",
      "[500]\tvalid_0's ER: 100.79\n",
      "[600]\tvalid_0's ER: 99.58\n",
      "[700]\tvalid_0's ER: 97.81\n",
      "[800]\tvalid_0's ER: 97\n"
     ]
    },
    {
     "name": "stderr",
     "output_type": "stream",
     "text": [
      "[I 2023-12-12 21:12:01,639] Trial 1 finished with value: 96.74 and parameters: {'lambda_l1': 2.1772791945409153, 'lambda_l2': 614.1722015885045, 'learning_rate': 0.22835725335252982, 'num_leaves': 716, 'feature_fraction': 0.8622474409564722, 'min_data_in_leaf': 6829}. Best is trial 1 with value: 96.74.\n"
     ]
    },
    {
     "name": "stdout",
     "output_type": "stream",
     "text": [
      "Early stopping, best iteration is:\n",
      "[781]\tvalid_0's ER: 96.74\n",
      "Evaluated only: ER\n",
      "# Experimentos: 2\n",
      "Mejor experimento: {'lambda_l1': 2.1772791945409153, 'lambda_l2': 614.1722015885045, 'learning_rate': 0.22835725335252982, 'num_leaves': 716, 'feature_fraction': 0.8622474409564722, 'min_data_in_leaf': 6829}\n",
      "=========================================== Cluster 57 ===========================================\n"
     ]
    },
    {
     "name": "stderr",
     "output_type": "stream",
     "text": [
      "[I 2023-12-12 21:12:02,795] A new study created in memory with name: no-name-cbb32061-aee4-441b-9380-596b132a36b5\n"
     ]
    },
    {
     "name": "stdout",
     "output_type": "stream",
     "text": [
      "Periodos entrenar: [201701 201702 201703 201704 201705 201706 201707 201708 201709 201710\n",
      " 201711 201712 201801 201802 201803 201804 201805 201806 201807 201808\n",
      " 201809 201810]\n",
      "Periodos validar: [201812]\n",
      "product_id a validar: 1116\n",
      "X_train: (23030, 120)\n",
      "y_train: (23030,)\n",
      "\n",
      "X_validate: (1116, 120)\n",
      "y_validate: (1116,)\n",
      "Optimizacion Bayesiana\n",
      "**************** regression ****************\n",
      "Training until validation scores don't improve for 158 rounds\n"
     ]
    },
    {
     "name": "stderr",
     "output_type": "stream",
     "text": [
      "[I 2023-12-12 21:12:03,258] Trial 0 finished with value: 231.83 and parameters: {'lambda_l1': 696.0633993612166, 'lambda_l2': 543.8514217832418, 'learning_rate': 0.045907078723301596, 'num_leaves': 701, 'feature_fraction': 0.7335752625239478, 'min_data_in_leaf': 2469}. Best is trial 0 with value: 231.83.\n"
     ]
    },
    {
     "name": "stdout",
     "output_type": "stream",
     "text": [
      "[100]\tvalid_0's ER: 382.34\n",
      "Early stopping, best iteration is:\n",
      "[1]\tvalid_0's ER: 382.34\n",
      "Evaluated only: ER\n",
      "**************** regression ****************\n"
     ]
    },
    {
     "name": "stderr",
     "output_type": "stream",
     "text": [
      "[I 2023-12-12 21:12:03,502] Trial 1 finished with value: 231.83 and parameters: {'lambda_l1': 925.6162787304123, 'lambda_l2': 43.35549348920509, 'learning_rate': 0.19203623794224264, 'num_leaves': 128, 'feature_fraction': 0.25113953795817745, 'min_data_in_leaf': 334}. Best is trial 0 with value: 231.83.\n"
     ]
    },
    {
     "name": "stdout",
     "output_type": "stream",
     "text": [
      "Training until validation scores don't improve for 76 rounds\n",
      "Early stopping, best iteration is:\n",
      "[1]\tvalid_0's ER: 382.34\n",
      "Evaluated only: ER\n",
      "# Experimentos: 2\n",
      "Mejor experimento: {'lambda_l1': 696.0633993612166, 'lambda_l2': 543.8514217832418, 'learning_rate': 0.045907078723301596, 'num_leaves': 701, 'feature_fraction': 0.7335752625239478, 'min_data_in_leaf': 2469}\n",
      "=========================================== Cluster 58 ===========================================\n"
     ]
    },
    {
     "name": "stderr",
     "output_type": "stream",
     "text": [
      "[I 2023-12-12 21:12:04,542] A new study created in memory with name: no-name-847f327d-eb92-4c8c-ac56-197999c0e0ee\n"
     ]
    },
    {
     "name": "stdout",
     "output_type": "stream",
     "text": [
      "Periodos entrenar: [201708 201709 201710 201711 201712 201801 201802 201803 201804 201805\n",
      " 201806 201807 201808 201809 201810]\n",
      "Periodos validar: [201812]\n",
      "product_id a validar: 1116\n",
      "X_train: (16070, 120)\n",
      "y_train: (16070,)\n",
      "\n",
      "X_validate: (1116, 120)\n",
      "y_validate: (1116,)\n",
      "Optimizacion Bayesiana\n",
      "**************** regression ****************\n",
      "Training until validation scores don't improve for 79 rounds\n"
     ]
    },
    {
     "name": "stderr",
     "output_type": "stream",
     "text": [
      "[I 2023-12-12 21:12:04,807] Trial 0 finished with value: 135.78 and parameters: {'lambda_l1': 198.67311636035646, 'lambda_l2': 480.3780530299417, 'learning_rate': 0.16777258523835217, 'num_leaves': 283, 'feature_fraction': 0.4851746866538673, 'min_data_in_leaf': 1810}. Best is trial 0 with value: 135.78.\n"
     ]
    },
    {
     "name": "stdout",
     "output_type": "stream",
     "text": [
      "Early stopping, best iteration is:\n",
      "[1]\tvalid_0's ER: 174.78\n",
      "Evaluated only: ER\n",
      "**************** regression ****************\n",
      "Training until validation scores don't improve for 91 rounds\n"
     ]
    },
    {
     "name": "stderr",
     "output_type": "stream",
     "text": [
      "[I 2023-12-12 21:12:05,079] Trial 1 finished with value: 135.78 and parameters: {'lambda_l1': 529.4597839901198, 'lambda_l2': 650.0957009164314, 'learning_rate': 0.12161415895248459, 'num_leaves': 924, 'feature_fraction': 0.6511136524971268, 'min_data_in_leaf': 5252}. Best is trial 0 with value: 135.78.\n"
     ]
    },
    {
     "name": "stdout",
     "output_type": "stream",
     "text": [
      "Early stopping, best iteration is:\n",
      "[1]\tvalid_0's ER: 174.78\n",
      "Evaluated only: ER\n",
      "# Experimentos: 2\n",
      "Mejor experimento: {'lambda_l1': 198.67311636035646, 'lambda_l2': 480.3780530299417, 'learning_rate': 0.16777258523835217, 'num_leaves': 283, 'feature_fraction': 0.4851746866538673, 'min_data_in_leaf': 1810}\n",
      "=========================================== Cluster 59 ===========================================\n"
     ]
    },
    {
     "name": "stderr",
     "output_type": "stream",
     "text": [
      "[I 2023-12-12 21:12:10,652] A new study created in memory with name: no-name-78fc401a-7327-48be-acc1-0edeb7844577\n"
     ]
    },
    {
     "name": "stdout",
     "output_type": "stream",
     "text": [
      "Periodos entrenar: [201701 201702 201703 201704 201705 201706 201707 201708 201709 201710\n",
      " 201711 201712 201801 201802 201803 201804 201805 201806 201807 201808\n",
      " 201809 201810]\n",
      "Periodos validar: [201812]\n",
      "product_id a validar: 6138\n",
      "X_train: (117613, 120)\n",
      "y_train: (117613,)\n",
      "\n",
      "X_validate: (6138, 120)\n",
      "y_validate: (6138,)\n",
      "Optimizacion Bayesiana\n",
      "**************** regression ****************\n",
      "Training until validation scores don't improve for 108 rounds\n",
      "[100]\tvalid_0's ER: 333.72\n",
      "[200]\tvalid_0's ER: 333.42\n",
      "[300]\tvalid_0's ER: 333.41\n",
      "Early stopping, best iteration is:\n",
      "[221]\tvalid_0's ER: 333.41\n",
      "Evaluated only: ER\n"
     ]
    },
    {
     "name": "stderr",
     "output_type": "stream",
     "text": [
      "[I 2023-12-12 21:12:13,653] Trial 0 finished with value: 172.84 and parameters: {'lambda_l1': 473.38927617880057, 'lambda_l2': 336.82826032209437, 'learning_rate': 0.08590185799907378, 'num_leaves': 245, 'feature_fraction': 0.38741667784838585, 'min_data_in_leaf': 659}. Best is trial 0 with value: 172.84.\n"
     ]
    },
    {
     "name": "stdout",
     "output_type": "stream",
     "text": [
      "**************** regression ****************\n",
      "Training until validation scores don't improve for 72 rounds\n"
     ]
    },
    {
     "name": "stderr",
     "output_type": "stream",
     "text": [
      "[I 2023-12-12 21:12:15,245] Trial 1 finished with value: 152.08 and parameters: {'lambda_l1': 61.404896628654335, 'lambda_l2': 77.31431309455684, 'learning_rate': 0.22532898149511413, 'num_leaves': 1012, 'feature_fraction': 0.7742852139438132, 'min_data_in_leaf': 2413}. Best is trial 1 with value: 152.08.\n"
     ]
    },
    {
     "name": "stdout",
     "output_type": "stream",
     "text": [
      "Early stopping, best iteration is:\n",
      "[18]\tvalid_0's ER: 152.08\n",
      "Evaluated only: ER\n",
      "# Experimentos: 2\n",
      "Mejor experimento: {'lambda_l1': 61.404896628654335, 'lambda_l2': 77.31431309455684, 'learning_rate': 0.22532898149511413, 'num_leaves': 1012, 'feature_fraction': 0.7742852139438132, 'min_data_in_leaf': 2413}\n",
      "=========================================== Cluster 60 ===========================================\n"
     ]
    },
    {
     "name": "stderr",
     "output_type": "stream",
     "text": [
      "[I 2023-12-12 21:12:20,200] A new study created in memory with name: no-name-b8fd6262-1604-439e-a2a6-cee333072106\n"
     ]
    },
    {
     "name": "stdout",
     "output_type": "stream",
     "text": [
      "Periodos entrenar: [201701 201702 201703 201704 201705 201706 201707 201708 201709 201710\n",
      " 201711 201712 201801 201802 201803 201804 201805 201806 201807 201808\n",
      " 201809 201810]\n",
      "Periodos validar: [201812]\n",
      "product_id a validar: 6138\n",
      "X_train: (104743, 120)\n",
      "y_train: (104743,)\n",
      "\n",
      "X_validate: (6138, 120)\n",
      "y_validate: (6138,)\n",
      "Optimizacion Bayesiana\n",
      "**************** regression ****************\n",
      "Training until validation scores don't improve for 79 rounds\n"
     ]
    },
    {
     "name": "stderr",
     "output_type": "stream",
     "text": [
      "[I 2023-12-12 21:12:21,758] Trial 0 finished with value: 276.09 and parameters: {'lambda_l1': 109.51933869304875, 'lambda_l2': 637.8685506271675, 'learning_rate': 0.17068692911727448, 'num_leaves': 323, 'feature_fraction': 0.8153108736681038, 'min_data_in_leaf': 3767}. Best is trial 0 with value: 276.09.\n"
     ]
    },
    {
     "name": "stdout",
     "output_type": "stream",
     "text": [
      "[100]\tvalid_0's ER: 276.2\n",
      "Early stopping, best iteration is:\n",
      "[25]\tvalid_0's ER: 276.09\n",
      "Evaluated only: ER\n",
      "**************** regression ****************\n",
      "Training until validation scores don't improve for 82 rounds\n"
     ]
    },
    {
     "name": "stderr",
     "output_type": "stream",
     "text": [
      "[I 2023-12-12 21:12:23,052] Trial 1 finished with value: 358.27 and parameters: {'lambda_l1': 629.3894835875598, 'lambda_l2': 310.844410737224, 'learning_rate': 0.15202049805469012, 'num_leaves': 692, 'feature_fraction': 0.6915551661309102, 'min_data_in_leaf': 974}. Best is trial 0 with value: 276.09.\n"
     ]
    },
    {
     "name": "stdout",
     "output_type": "stream",
     "text": [
      "Early stopping, best iteration is:\n",
      "[1]\tvalid_0's ER: 624.15\n",
      "Evaluated only: ER\n",
      "# Experimentos: 2\n",
      "Mejor experimento: {'lambda_l1': 109.51933869304875, 'lambda_l2': 637.8685506271675, 'learning_rate': 0.17068692911727448, 'num_leaves': 323, 'feature_fraction': 0.8153108736681038, 'min_data_in_leaf': 3767}\n",
      "=========================================== Cluster 61 ===========================================\n"
     ]
    },
    {
     "name": "stderr",
     "output_type": "stream",
     "text": [
      "[I 2023-12-12 21:12:23,468] A new study created in memory with name: no-name-c5fff7f5-9351-4c32-a07e-736262682c62\n",
      "[I 2023-12-12 21:12:23,584] Trial 0 finished with value: 199.98 and parameters: {'lambda_l1': 722.2102647980664, 'lambda_l2': 316.6151524619545, 'learning_rate': 0.026394030846463357, 'num_leaves': 14, 'feature_fraction': 0.8806378213938879, 'min_data_in_leaf': 5813}. Best is trial 0 with value: 199.98.\n"
     ]
    },
    {
     "name": "stdout",
     "output_type": "stream",
     "text": [
      "Periodos entrenar: [201810]\n",
      "Periodos validar: [201812]\n",
      "product_id a validar: 558\n",
      "X_train: (554, 120)\n",
      "y_train: (554,)\n",
      "\n",
      "X_validate: (558, 120)\n",
      "y_validate: (558,)\n",
      "Optimizacion Bayesiana\n",
      "**************** regression ****************\n",
      "Training until validation scores don't improve for 239 rounds\n",
      "[100]\tvalid_0's ER: 313.93\n",
      "[200]\tvalid_0's ER: 313.93\n",
      "Early stopping, best iteration is:\n",
      "[1]\tvalid_0's ER: 313.93\n",
      "Evaluated only: ER\n",
      "**************** regression ****************\n",
      "Training until validation scores don't improve for 270 rounds\n",
      "[100]\tvalid_0's ER: 313.93\n"
     ]
    },
    {
     "name": "stderr",
     "output_type": "stream",
     "text": [
      "[I 2023-12-12 21:12:23,752] Trial 1 finished with value: 199.98 and parameters: {'lambda_l1': 239.68703829018355, 'lambda_l2': 383.62922938337465, 'learning_rate': 0.02262641337255509, 'num_leaves': 698, 'feature_fraction': 0.49111574678955744, 'min_data_in_leaf': 4126}. Best is trial 0 with value: 199.98.\n"
     ]
    },
    {
     "name": "stdout",
     "output_type": "stream",
     "text": [
      "[200]\tvalid_0's ER: 313.93\n",
      "Early stopping, best iteration is:\n",
      "[1]\tvalid_0's ER: 313.93\n",
      "Evaluated only: ER\n",
      "# Experimentos: 2\n",
      "Mejor experimento: {'lambda_l1': 722.2102647980664, 'lambda_l2': 316.6151524619545, 'learning_rate': 0.026394030846463357, 'num_leaves': 14, 'feature_fraction': 0.8806378213938879, 'min_data_in_leaf': 5813}\n",
      "=========================================== Cluster 62 ===========================================\n"
     ]
    },
    {
     "name": "stderr",
     "output_type": "stream",
     "text": [
      "[I 2023-12-12 21:12:29,212] A new study created in memory with name: no-name-d8e92b76-a733-4021-9532-5ed9a6a93c1b\n"
     ]
    },
    {
     "name": "stdout",
     "output_type": "stream",
     "text": [
      "Periodos entrenar: [201701 201702 201703 201704 201705 201706 201707 201708 201709 201710\n",
      " 201711 201712 201801 201802 201803 201804 201805 201806 201807 201808\n",
      " 201809 201810]\n",
      "Periodos validar: [201812]\n",
      "product_id a validar: 7254\n",
      "X_train: (122435, 120)\n",
      "y_train: (122435,)\n",
      "\n",
      "X_validate: (7254, 120)\n",
      "y_validate: (7254,)\n",
      "Optimizacion Bayesiana\n",
      "**************** regression ****************\n",
      "Training until validation scores don't improve for 82 rounds\n",
      "[100]\tvalid_0's ER: 118.62\n"
     ]
    },
    {
     "name": "stderr",
     "output_type": "stream",
     "text": [
      "[I 2023-12-12 21:12:31,747] Trial 0 finished with value: 115.7 and parameters: {'lambda_l1': 38.90587698790959, 'lambda_l2': 814.9042043269021, 'learning_rate': 0.15354790026623613, 'num_leaves': 20, 'feature_fraction': 0.9977994549200095, 'min_data_in_leaf': 6426}. Best is trial 0 with value: 115.7.\n"
     ]
    },
    {
     "name": "stdout",
     "output_type": "stream",
     "text": [
      "Early stopping, best iteration is:\n",
      "[63]\tvalid_0's ER: 115.7\n",
      "Evaluated only: ER\n",
      "**************** regression ****************\n",
      "Training until validation scores don't improve for 83 rounds\n",
      "[100]\tvalid_0's ER: 323.15\n"
     ]
    },
    {
     "name": "stderr",
     "output_type": "stream",
     "text": [
      "[I 2023-12-12 21:12:33,580] Trial 1 finished with value: 191.08 and parameters: {'lambda_l1': 618.7532626749462, 'lambda_l2': 861.6519326846214, 'learning_rate': 0.14750176720366015, 'num_leaves': 609, 'feature_fraction': 0.20786808859480674, 'min_data_in_leaf': 3260}. Best is trial 0 with value: 115.7.\n"
     ]
    },
    {
     "name": "stdout",
     "output_type": "stream",
     "text": [
      "Early stopping, best iteration is:\n",
      "[110]\tvalid_0's ER: 323.14\n",
      "Evaluated only: ER\n",
      "# Experimentos: 2\n",
      "Mejor experimento: {'lambda_l1': 38.90587698790959, 'lambda_l2': 814.9042043269021, 'learning_rate': 0.15354790026623613, 'num_leaves': 20, 'feature_fraction': 0.9977994549200095, 'min_data_in_leaf': 6426}\n",
      "=========================================== Cluster 63 ===========================================\n",
      "Periodos entrenar: []\n",
      "Periodos validar: []\n",
      "product_id a validar: 0\n",
      "X_train: (0, 120)\n",
      "y_train: (0,)\n",
      "\n",
      "X_validate: (0, 120)\n",
      "y_validate: (0,)\n",
      "=========================================== Cluster 64 ===========================================\n",
      "Periodos entrenar: []\n",
      "Periodos validar: []\n",
      "product_id a validar: 0\n",
      "X_train: (0, 120)\n",
      "y_train: (0,)\n",
      "\n",
      "X_validate: (0, 120)\n",
      "y_validate: (0,)\n",
      "=========================================== Cluster 65 ===========================================\n"
     ]
    },
    {
     "name": "stderr",
     "output_type": "stream",
     "text": [
      "[I 2023-12-12 21:12:34,513] A new study created in memory with name: no-name-63db5ac1-410c-46e1-8ce1-95dfa2b4077a\n",
      "[I 2023-12-12 21:12:34,618] Trial 0 finished with value: 346.65 and parameters: {'lambda_l1': 59.99334639685849, 'lambda_l2': 636.6046445979312, 'learning_rate': 0.12935234195590023, 'num_leaves': 165, 'feature_fraction': 0.935131168499421, 'min_data_in_leaf': 3768}. Best is trial 0 with value: 346.65.\n"
     ]
    },
    {
     "name": "stdout",
     "output_type": "stream",
     "text": [
      "Periodos entrenar: [201709 201710 201711 201712 201801 201802 201803 201804 201805 201806\n",
      " 201807 201808 201809 201810]\n",
      "Periodos validar: [201812]\n",
      "product_id a validar: 558\n",
      "X_train: (7514, 120)\n",
      "y_train: (7514,)\n",
      "\n",
      "X_validate: (558, 120)\n",
      "y_validate: (558,)\n",
      "Optimizacion Bayesiana\n",
      "**************** regression ****************\n",
      "Training until validation scores don't improve for 88 rounds\n",
      "Early stopping, best iteration is:\n",
      "[1]\tvalid_0's ER: 607.14\n",
      "Evaluated only: ER\n",
      "**************** regression ****************\n",
      "Training until validation scores don't improve for 104 rounds\n"
     ]
    },
    {
     "name": "stderr",
     "output_type": "stream",
     "text": [
      "[I 2023-12-12 21:12:34,804] Trial 1 finished with value: 346.65 and parameters: {'lambda_l1': 100.24751055379477, 'lambda_l2': 20.37996142346099, 'learning_rate': 0.09212306477374065, 'num_leaves': 388, 'feature_fraction': 0.34521008604617753, 'min_data_in_leaf': 1771}. Best is trial 0 with value: 346.65.\n"
     ]
    },
    {
     "name": "stdout",
     "output_type": "stream",
     "text": [
      "[100]\tvalid_0's ER: 607.14\n",
      "Early stopping, best iteration is:\n",
      "[1]\tvalid_0's ER: 607.14\n",
      "Evaluated only: ER\n",
      "# Experimentos: 2\n",
      "Mejor experimento: {'lambda_l1': 59.99334639685849, 'lambda_l2': 636.6046445979312, 'learning_rate': 0.12935234195590023, 'num_leaves': 165, 'feature_fraction': 0.935131168499421, 'min_data_in_leaf': 3768}\n",
      "=========================================== Cluster 66 ===========================================\n"
     ]
    },
    {
     "name": "stderr",
     "output_type": "stream",
     "text": [
      "[I 2023-12-12 21:12:38,271] A new study created in memory with name: no-name-714d8c8e-2b42-46ee-9db9-329ef42fa065\n"
     ]
    },
    {
     "name": "stdout",
     "output_type": "stream",
     "text": [
      "Periodos entrenar: [201701 201702 201703 201704 201705 201706 201707 201708 201709 201710\n",
      " 201711 201712 201801 201802 201803 201804 201805 201806 201807 201808\n",
      " 201809 201810]\n",
      "Periodos validar: [201812]\n",
      "product_id a validar: 3906\n",
      "X_train: (80605, 120)\n",
      "y_train: (80605,)\n",
      "\n",
      "X_validate: (3906, 120)\n",
      "y_validate: (3906,)\n",
      "Optimizacion Bayesiana\n",
      "**************** regression ****************\n",
      "Training until validation scores don't improve for 109 rounds\n",
      "[100]\tvalid_0's ER: 222.1\n",
      "[200]\tvalid_0's ER: 221.44\n",
      "[300]\tvalid_0's ER: 221.42\n",
      "Early stopping, best iteration is:\n",
      "[232]\tvalid_0's ER: 221.42\n",
      "Evaluated only: ER\n"
     ]
    },
    {
     "name": "stderr",
     "output_type": "stream",
     "text": [
      "[I 2023-12-12 21:12:40,445] Trial 0 finished with value: 221.42 and parameters: {'lambda_l1': 167.59816755662072, 'lambda_l2': 921.7137734278439, 'learning_rate': 0.08401400526879524, 'num_leaves': 334, 'feature_fraction': 0.4025630802767863, 'min_data_in_leaf': 7087}. Best is trial 0 with value: 221.42.\n"
     ]
    },
    {
     "name": "stdout",
     "output_type": "stream",
     "text": [
      "**************** regression ****************\n",
      "Training until validation scores don't improve for 87 rounds\n",
      "[100]\tvalid_0's ER: 156.94\n",
      "[200]\tvalid_0's ER: 155.88\n"
     ]
    },
    {
     "name": "stderr",
     "output_type": "stream",
     "text": [
      "[I 2023-12-12 21:12:42,562] Trial 1 finished with value: 155.88 and parameters: {'lambda_l1': 101.69023976478053, 'lambda_l2': 182.8288536206599, 'learning_rate': 0.1320982765946504, 'num_leaves': 754, 'feature_fraction': 0.8942244553254215, 'min_data_in_leaf': 6237}. Best is trial 1 with value: 155.88.\n"
     ]
    },
    {
     "name": "stdout",
     "output_type": "stream",
     "text": [
      "Early stopping, best iteration is:\n",
      "[149]\tvalid_0's ER: 155.88\n",
      "Evaluated only: ER\n",
      "# Experimentos: 2\n",
      "Mejor experimento: {'lambda_l1': 101.69023976478053, 'lambda_l2': 182.8288536206599, 'learning_rate': 0.1320982765946504, 'num_leaves': 754, 'feature_fraction': 0.8942244553254215, 'min_data_in_leaf': 6237}\n",
      "=========================================== Cluster 67 ===========================================\n"
     ]
    },
    {
     "name": "stderr",
     "output_type": "stream",
     "text": [
      "[I 2023-12-12 21:12:43,031] A new study created in memory with name: no-name-fffa6b4a-880d-4fe9-989b-d1f2e3c83b1a\n",
      "[I 2023-12-12 21:12:43,122] Trial 0 finished with value: 208.37 and parameters: {'lambda_l1': 431.38531877426533, 'lambda_l2': 383.9893951891673, 'learning_rate': 0.07976588722995433, 'num_leaves': 399, 'feature_fraction': 0.6165482888150967, 'min_data_in_leaf': 6411}. Best is trial 0 with value: 208.37.\n",
      "[I 2023-12-12 21:12:43,200] Trial 1 finished with value: 208.37 and parameters: {'lambda_l1': 853.4876357999996, 'lambda_l2': 961.8480103879663, 'learning_rate': 0.1727837787544307, 'num_leaves': 802, 'feature_fraction': 0.7969391870851166, 'min_data_in_leaf': 1723}. Best is trial 0 with value: 208.37.\n"
     ]
    },
    {
     "name": "stdout",
     "output_type": "stream",
     "text": [
      "Periodos entrenar: [201808 201809 201810]\n",
      "Periodos validar: [201812]\n",
      "product_id a validar: 558\n",
      "X_train: (1656, 120)\n",
      "y_train: (1656,)\n",
      "\n",
      "X_validate: (558, 120)\n",
      "y_validate: (558,)\n",
      "Optimizacion Bayesiana\n",
      "**************** regression ****************\n",
      "Training until validation scores don't improve for 112 rounds\n",
      "[100]\tvalid_0's ER: 323.5\n",
      "Early stopping, best iteration is:\n",
      "[1]\tvalid_0's ER: 323.5\n",
      "Evaluated only: ER\n",
      "**************** regression ****************\n",
      "Training until validation scores don't improve for 78 rounds\n",
      "Early stopping, best iteration is:\n",
      "[1]\tvalid_0's ER: 323.5\n",
      "Evaluated only: ER\n",
      "# Experimentos: 2\n",
      "Mejor experimento: {'lambda_l1': 431.38531877426533, 'lambda_l2': 383.9893951891673, 'learning_rate': 0.07976588722995433, 'num_leaves': 399, 'feature_fraction': 0.6165482888150967, 'min_data_in_leaf': 6411}\n",
      "=========================================== Cluster 68 ===========================================\n",
      "Periodos entrenar: []\n",
      "Periodos validar: []\n",
      "product_id a validar: 0\n",
      "X_train: (0, 120)\n",
      "y_train: (0,)\n",
      "\n",
      "X_validate: (0, 120)\n",
      "y_validate: (0,)\n",
      "=========================================== Cluster 69 ===========================================\n"
     ]
    },
    {
     "name": "stderr",
     "output_type": "stream",
     "text": [
      "[I 2023-12-12 21:12:44,444] A new study created in memory with name: no-name-aed9992c-23b6-43ee-9922-a274e1fad83a\n"
     ]
    },
    {
     "name": "stdout",
     "output_type": "stream",
     "text": [
      "Periodos entrenar: [201701 201702 201703 201704 201705 201706 201707 201708 201709 201710\n",
      " 201711 201712 201801 201802 201803 201804 201805 201806 201807 201808\n",
      " 201809 201810]\n",
      "Periodos validar: [201812]\n",
      "product_id a validar: 1116\n",
      "X_train: (23030, 120)\n",
      "y_train: (23030,)\n",
      "\n",
      "X_validate: (1116, 120)\n",
      "y_validate: (1116,)\n",
      "Optimizacion Bayesiana\n",
      "**************** regression ****************\n",
      "Training until validation scores don't improve for 96 rounds\n"
     ]
    },
    {
     "name": "stderr",
     "output_type": "stream",
     "text": [
      "[I 2023-12-12 21:12:44,751] Trial 0 finished with value: 189.44 and parameters: {'lambda_l1': 209.46389240303375, 'lambda_l2': 617.5288082158005, 'learning_rate': 0.10844978604922201, 'num_leaves': 988, 'feature_fraction': 0.4055704732919006, 'min_data_in_leaf': 7104}. Best is trial 0 with value: 189.44.\n"
     ]
    },
    {
     "name": "stdout",
     "output_type": "stream",
     "text": [
      "Early stopping, best iteration is:\n",
      "[1]\tvalid_0's ER: 285.57\n",
      "Evaluated only: ER\n",
      "**************** regression ****************\n",
      "Training until validation scores don't improve for 107 rounds\n"
     ]
    },
    {
     "name": "stderr",
     "output_type": "stream",
     "text": [
      "[I 2023-12-12 21:12:45,121] Trial 1 finished with value: 189.44 and parameters: {'lambda_l1': 550.7975303105419, 'lambda_l2': 298.4855483386819, 'learning_rate': 0.08668310066045722, 'num_leaves': 755, 'feature_fraction': 0.7580324439994184, 'min_data_in_leaf': 6496}. Best is trial 0 with value: 189.44.\n"
     ]
    },
    {
     "name": "stdout",
     "output_type": "stream",
     "text": [
      "[100]\tvalid_0's ER: 285.57\n",
      "Early stopping, best iteration is:\n",
      "[1]\tvalid_0's ER: 285.57\n",
      "Evaluated only: ER\n",
      "# Experimentos: 2\n",
      "Mejor experimento: {'lambda_l1': 209.46389240303375, 'lambda_l2': 617.5288082158005, 'learning_rate': 0.10844978604922201, 'num_leaves': 988, 'feature_fraction': 0.4055704732919006, 'min_data_in_leaf': 7104}\n",
      "=========================================== Cluster 70 ===========================================\n"
     ]
    },
    {
     "name": "stderr",
     "output_type": "stream",
     "text": [
      "[I 2023-12-12 21:12:45,953] A new study created in memory with name: no-name-d1be770d-85f5-4dbb-839b-4914c0a07a2d\n",
      "[I 2023-12-12 21:12:46,119] Trial 0 finished with value: 191.68 and parameters: {'lambda_l1': 428.1783911590027, 'lambda_l2': 132.55990911529858, 'learning_rate': 0.27569024192230895, 'num_leaves': 593, 'feature_fraction': 0.7466093386242068, 'min_data_in_leaf': 4379}. Best is trial 0 with value: 191.68.\n"
     ]
    },
    {
     "name": "stdout",
     "output_type": "stream",
     "text": [
      "Periodos entrenar: [201701 201702 201703 201704 201705 201706 201707 201708 201709 201710\n",
      " 201711 201712 201801 201802 201803 201804 201805 201806 201807 201808\n",
      " 201809 201810]\n",
      "Periodos validar: [201812]\n",
      "product_id a validar: 558\n",
      "X_train: (11515, 120)\n",
      "y_train: (11515,)\n",
      "\n",
      "X_validate: (558, 120)\n",
      "y_validate: (558,)\n",
      "Optimizacion Bayesiana\n",
      "**************** regression ****************\n",
      "Training until validation scores don't improve for 68 rounds\n",
      "Early stopping, best iteration is:\n",
      "[1]\tvalid_0's ER: 290.36\n",
      "Evaluated only: ER\n",
      "**************** regression ****************\n"
     ]
    },
    {
     "name": "stderr",
     "output_type": "stream",
     "text": [
      "[I 2023-12-12 21:12:46,296] Trial 1 finished with value: 191.68 and parameters: {'lambda_l1': 272.9027965125269, 'lambda_l2': 480.6379891061989, 'learning_rate': 0.0977429179321599, 'num_leaves': 160, 'feature_fraction': 0.40544631239797496, 'min_data_in_leaf': 4840}. Best is trial 0 with value: 191.68.\n"
     ]
    },
    {
     "name": "stdout",
     "output_type": "stream",
     "text": [
      "Training until validation scores don't improve for 101 rounds\n",
      "[100]\tvalid_0's ER: 290.36\n",
      "Early stopping, best iteration is:\n",
      "[1]\tvalid_0's ER: 290.36\n",
      "Evaluated only: ER\n",
      "# Experimentos: 2\n",
      "Mejor experimento: {'lambda_l1': 428.1783911590027, 'lambda_l2': 132.55990911529858, 'learning_rate': 0.27569024192230895, 'num_leaves': 593, 'feature_fraction': 0.7466093386242068, 'min_data_in_leaf': 4379}\n",
      "=========================================== Cluster 71 ===========================================\n"
     ]
    },
    {
     "name": "stderr",
     "output_type": "stream",
     "text": [
      "[I 2023-12-12 21:12:55,995] A new study created in memory with name: no-name-b1abe302-c89b-4dc6-9b97-3266c259ea03\n"
     ]
    },
    {
     "name": "stdout",
     "output_type": "stream",
     "text": [
      "Periodos entrenar: [201701 201702 201703 201704 201705 201706 201707 201708 201709 201710\n",
      " 201711 201712 201801 201802 201803 201804 201805 201806 201807 201808\n",
      " 201809 201810]\n",
      "Periodos validar: [201812]\n",
      "product_id a validar: 10602\n",
      "X_train: (209097, 120)\n",
      "y_train: (209097,)\n",
      "\n",
      "X_validate: (10602, 120)\n",
      "y_validate: (10602,)\n",
      "Optimizacion Bayesiana\n",
      "**************** regression ****************\n",
      "Training until validation scores don't improve for 83 rounds\n"
     ]
    },
    {
     "name": "stderr",
     "output_type": "stream",
     "text": [
      "[I 2023-12-12 21:12:58,510] Trial 0 finished with value: 260.13 and parameters: {'lambda_l1': 886.4437711458071, 'lambda_l2': 928.2504327095926, 'learning_rate': 0.14973436806664506, 'num_leaves': 784, 'feature_fraction': 0.5741692888533649, 'min_data_in_leaf': 5175}. Best is trial 0 with value: 260.13.\n"
     ]
    },
    {
     "name": "stdout",
     "output_type": "stream",
     "text": [
      "Early stopping, best iteration is:\n",
      "[1]\tvalid_0's ER: 427.72\n",
      "Evaluated only: ER\n",
      "**************** regression ****************\n",
      "Training until validation scores don't improve for 100 rounds\n"
     ]
    },
    {
     "name": "stderr",
     "output_type": "stream",
     "text": [
      "[I 2023-12-12 21:13:00,828] Trial 1 finished with value: 260.13 and parameters: {'lambda_l1': 825.5384461706243, 'lambda_l2': 475.049029255782, 'learning_rate': 0.09844443750769732, 'num_leaves': 925, 'feature_fraction': 0.3160281345415348, 'min_data_in_leaf': 2149}. Best is trial 0 with value: 260.13.\n"
     ]
    },
    {
     "name": "stdout",
     "output_type": "stream",
     "text": [
      "[100]\tvalid_0's ER: 427.72\n",
      "Early stopping, best iteration is:\n",
      "[1]\tvalid_0's ER: 427.72\n",
      "Evaluated only: ER\n",
      "# Experimentos: 2\n",
      "Mejor experimento: {'lambda_l1': 886.4437711458071, 'lambda_l2': 928.2504327095926, 'learning_rate': 0.14973436806664506, 'num_leaves': 784, 'feature_fraction': 0.5741692888533649, 'min_data_in_leaf': 5175}\n",
      "=========================================== Cluster 72 ===========================================\n"
     ]
    },
    {
     "name": "stderr",
     "output_type": "stream",
     "text": [
      "[I 2023-12-12 21:13:03,607] A new study created in memory with name: no-name-fe9f97f0-26e6-4bdf-b9bf-15452d4a0cd8\n"
     ]
    },
    {
     "name": "stdout",
     "output_type": "stream",
     "text": [
      "Periodos entrenar: [201701 201702 201703 201704 201705 201706 201707 201708 201709 201710\n",
      " 201711 201712 201801 201802 201803 201804 201805 201806 201807 201808\n",
      " 201809 201810]\n",
      "Periodos validar: [201812]\n",
      "product_id a validar: 3348\n",
      "X_train: (55512, 120)\n",
      "y_train: (55512,)\n",
      "\n",
      "X_validate: (3348, 120)\n",
      "y_validate: (3348,)\n",
      "Optimizacion Bayesiana\n",
      "**************** regression ****************\n",
      "Training until validation scores don't improve for 411 rounds\n",
      "[100]\tvalid_0's ER: 442.43\n",
      "[200]\tvalid_0's ER: 442.43\n",
      "[300]\tvalid_0's ER: 442.43\n"
     ]
    },
    {
     "name": "stderr",
     "output_type": "stream",
     "text": [
      "[I 2023-12-12 21:13:05,453] Trial 0 finished with value: 264.42 and parameters: {'lambda_l1': 390.9044093575126, 'lambda_l2': 273.10555796700777, 'learning_rate': 0.013839041995834089, 'num_leaves': 339, 'feature_fraction': 0.39803993430282675, 'min_data_in_leaf': 7294}. Best is trial 0 with value: 264.42.\n"
     ]
    },
    {
     "name": "stdout",
     "output_type": "stream",
     "text": [
      "[400]\tvalid_0's ER: 442.43\n",
      "Early stopping, best iteration is:\n",
      "[1]\tvalid_0's ER: 442.43\n",
      "Evaluated only: ER\n",
      "**************** regression ****************\n",
      "Training until validation scores don't improve for 77 rounds\n"
     ]
    },
    {
     "name": "stderr",
     "output_type": "stream",
     "text": [
      "[I 2023-12-12 21:13:06,194] Trial 1 finished with value: 264.42 and parameters: {'lambda_l1': 959.5251413183605, 'lambda_l2': 9.51859342852568, 'learning_rate': 0.18274695682566652, 'num_leaves': 293, 'feature_fraction': 0.9126870575691477, 'min_data_in_leaf': 1428}. Best is trial 0 with value: 264.42.\n"
     ]
    },
    {
     "name": "stdout",
     "output_type": "stream",
     "text": [
      "Early stopping, best iteration is:\n",
      "[1]\tvalid_0's ER: 442.43\n",
      "Evaluated only: ER\n",
      "# Experimentos: 2\n",
      "Mejor experimento: {'lambda_l1': 390.9044093575126, 'lambda_l2': 273.10555796700777, 'learning_rate': 0.013839041995834089, 'num_leaves': 339, 'feature_fraction': 0.39803993430282675, 'min_data_in_leaf': 7294}\n",
      "=========================================== Cluster 73 ===========================================\n"
     ]
    },
    {
     "name": "stderr",
     "output_type": "stream",
     "text": [
      "[I 2023-12-12 21:13:24,783] A new study created in memory with name: no-name-e63373fd-5e44-4a06-a2ef-ca8061fa08ab\n"
     ]
    },
    {
     "name": "stdout",
     "output_type": "stream",
     "text": [
      "Periodos entrenar: [201701 201702 201703 201704 201705 201706 201707 201708 201709 201710\n",
      " 201711 201712 201801 201802 201803 201804 201805 201806 201807 201808\n",
      " 201809 201810]\n",
      "Periodos validar: [201812]\n",
      "product_id a validar: 23436\n",
      "X_train: (435310, 120)\n",
      "y_train: (435310,)\n",
      "\n",
      "X_validate: (23436, 120)\n",
      "y_validate: (23436,)\n",
      "Optimizacion Bayesiana\n",
      "**************** regression ****************\n",
      "Training until validation scores don't improve for 99 rounds\n"
     ]
    },
    {
     "name": "stderr",
     "output_type": "stream",
     "text": [
      "[I 2023-12-12 21:13:29,576] Trial 0 finished with value: 606.23 and parameters: {'lambda_l1': 544.3147695744904, 'lambda_l2': 869.0028452669586, 'learning_rate': 0.10126615666654347, 'num_leaves': 785, 'feature_fraction': 0.6421933315448631, 'min_data_in_leaf': 3381}. Best is trial 0 with value: 606.23.\n"
     ]
    },
    {
     "name": "stdout",
     "output_type": "stream",
     "text": [
      "[100]\tvalid_0's ER: 1112.45\n",
      "Early stopping, best iteration is:\n",
      "[1]\tvalid_0's ER: 1112.45\n",
      "Evaluated only: ER\n",
      "**************** regression ****************\n",
      "Training until validation scores don't improve for 84 rounds\n"
     ]
    },
    {
     "name": "stderr",
     "output_type": "stream",
     "text": [
      "[I 2023-12-12 21:13:34,069] Trial 1 finished with value: 606.23 and parameters: {'lambda_l1': 885.7234219264495, 'lambda_l2': 207.03079647006638, 'learning_rate': 0.14409104212779197, 'num_leaves': 780, 'feature_fraction': 0.7302024913442378, 'min_data_in_leaf': 3062}. Best is trial 0 with value: 606.23.\n"
     ]
    },
    {
     "name": "stdout",
     "output_type": "stream",
     "text": [
      "Early stopping, best iteration is:\n",
      "[1]\tvalid_0's ER: 1112.45\n",
      "Evaluated only: ER\n",
      "# Experimentos: 2\n",
      "Mejor experimento: {'lambda_l1': 544.3147695744904, 'lambda_l2': 869.0028452669586, 'learning_rate': 0.10126615666654347, 'num_leaves': 785, 'feature_fraction': 0.6421933315448631, 'min_data_in_leaf': 3381}\n",
      "=========================================== Cluster 74 ===========================================\n",
      "Periodos entrenar: []\n",
      "Periodos validar: []\n",
      "product_id a validar: 0\n",
      "X_train: (0, 120)\n",
      "y_train: (0,)\n",
      "\n",
      "X_validate: (0, 120)\n",
      "y_validate: (0,)\n",
      "=========================================== Cluster 75 ===========================================\n"
     ]
    },
    {
     "name": "stderr",
     "output_type": "stream",
     "text": [
      "[I 2023-12-12 21:13:34,657] A new study created in memory with name: no-name-396cfcc2-439d-4b7f-83ff-922bb0efbd1b\n",
      "[I 2023-12-12 21:13:34,734] Trial 0 finished with value: 320.68 and parameters: {'lambda_l1': 204.14763905122047, 'lambda_l2': 971.4646099993802, 'learning_rate': 0.11398711120803985, 'num_leaves': 787, 'feature_fraction': 0.693943242661299, 'min_data_in_leaf': 1311}. Best is trial 0 with value: 320.68.\n",
      "[I 2023-12-12 21:13:34,813] Trial 1 finished with value: 320.68 and parameters: {'lambda_l1': 601.6041798901952, 'lambda_l2': 205.71785201361558, 'learning_rate': 0.08609045034439645, 'num_leaves': 522, 'feature_fraction': 0.7373568325068445, 'min_data_in_leaf': 6232}. Best is trial 0 with value: 320.68.\n"
     ]
    },
    {
     "name": "stdout",
     "output_type": "stream",
     "text": [
      "Periodos entrenar: [201810]\n",
      "Periodos validar: [201812]\n",
      "product_id a validar: 558\n",
      "X_train: (554, 120)\n",
      "y_train: (554,)\n",
      "\n",
      "X_validate: (558, 120)\n",
      "y_validate: (558,)\n",
      "Optimizacion Bayesiana\n",
      "**************** regression ****************\n",
      "Training until validation scores don't improve for 93 rounds\n",
      "Early stopping, best iteration is:\n",
      "[1]\tvalid_0's ER: 550.98\n",
      "Evaluated only: ER\n",
      "**************** regression ****************\n",
      "Training until validation scores don't improve for 108 rounds\n",
      "[100]\tvalid_0's ER: 550.98\n",
      "Early stopping, best iteration is:\n",
      "[1]\tvalid_0's ER: 550.98\n",
      "Evaluated only: ER\n",
      "# Experimentos: 2\n",
      "Mejor experimento: {'lambda_l1': 204.14763905122047, 'lambda_l2': 971.4646099993802, 'learning_rate': 0.11398711120803985, 'num_leaves': 787, 'feature_fraction': 0.693943242661299, 'min_data_in_leaf': 1311}\n",
      "=========================================== Cluster 76 ===========================================\n",
      "Periodos entrenar: []\n",
      "Periodos validar: []\n",
      "product_id a validar: 0\n",
      "X_train: (0, 120)\n",
      "y_train: (0,)\n",
      "\n",
      "X_validate: (0, 120)\n",
      "y_validate: (0,)\n",
      "=========================================== Cluster 77 ===========================================\n",
      "Periodos entrenar: []\n",
      "Periodos validar: []\n",
      "product_id a validar: 0\n",
      "X_train: (0, 120)\n",
      "y_train: (0,)\n",
      "\n",
      "X_validate: (0, 120)\n",
      "y_validate: (0,)\n",
      "=========================================== Cluster 78 ===========================================\n"
     ]
    },
    {
     "name": "stderr",
     "output_type": "stream",
     "text": [
      "[I 2023-12-12 21:13:37,811] A new study created in memory with name: no-name-b2cfaf50-8438-44d9-b4c7-c21d7d1ec605\n"
     ]
    },
    {
     "name": "stdout",
     "output_type": "stream",
     "text": [
      "Periodos entrenar: [201701 201702 201703 201704 201705 201706 201707 201708 201709 201710\n",
      " 201711 201712 201801 201802 201803 201804 201805 201806 201807 201808\n",
      " 201809 201810]\n",
      "Periodos validar: [201812]\n",
      "product_id a validar: 2790\n",
      "X_train: (57575, 120)\n",
      "y_train: (57575,)\n",
      "\n",
      "X_validate: (2790, 120)\n",
      "y_validate: (2790,)\n",
      "Optimizacion Bayesiana\n",
      "**************** regression ****************\n",
      "Training until validation scores don't improve for 75 rounds\n"
     ]
    },
    {
     "name": "stderr",
     "output_type": "stream",
     "text": [
      "[I 2023-12-12 21:13:38,827] Trial 0 finished with value: 125.16 and parameters: {'lambda_l1': 69.29380351152248, 'lambda_l2': 95.18059996945493, 'learning_rate': 0.19297809958779036, 'num_leaves': 763, 'feature_fraction': 0.8146498511021125, 'min_data_in_leaf': 3572}. Best is trial 0 with value: 125.16.\n"
     ]
    },
    {
     "name": "stdout",
     "output_type": "stream",
     "text": [
      "[100]\tvalid_0's ER: 264.14\n",
      "Early stopping, best iteration is:\n",
      "[58]\tvalid_0's ER: 264.14\n",
      "Evaluated only: ER\n",
      "**************** regression ****************\n",
      "Training until validation scores don't improve for 68 rounds\n",
      "Early stopping, best iteration is:\n",
      "[1]\tvalid_0's ER: 383.02\n",
      "Evaluated only: ER\n"
     ]
    },
    {
     "name": "stderr",
     "output_type": "stream",
     "text": [
      "[I 2023-12-12 21:13:39,367] Trial 1 finished with value: 234.49 and parameters: {'lambda_l1': 407.9910247790033, 'lambda_l2': 231.88279326947148, 'learning_rate': 0.2746638322956991, 'num_leaves': 323, 'feature_fraction': 0.2925813183256145, 'min_data_in_leaf': 101}. Best is trial 0 with value: 125.16.\n"
     ]
    },
    {
     "name": "stdout",
     "output_type": "stream",
     "text": [
      "# Experimentos: 2\n",
      "Mejor experimento: {'lambda_l1': 69.29380351152248, 'lambda_l2': 95.18059996945493, 'learning_rate': 0.19297809958779036, 'num_leaves': 763, 'feature_fraction': 0.8146498511021125, 'min_data_in_leaf': 3572}\n",
      "=========================================== Cluster 79 ===========================================\n",
      "Periodos entrenar: []\n",
      "Periodos validar: []\n",
      "product_id a validar: 0\n",
      "X_train: (0, 120)\n",
      "y_train: (0,)\n",
      "\n",
      "X_validate: (0, 120)\n",
      "y_validate: (0,)\n",
      "=========================================== Cluster 80 ===========================================\n"
     ]
    },
    {
     "name": "stderr",
     "output_type": "stream",
     "text": [
      "[I 2023-12-12 21:13:41,043] A new study created in memory with name: no-name-41ecc222-b3b6-4fbf-a2fa-975d89655668\n"
     ]
    },
    {
     "name": "stdout",
     "output_type": "stream",
     "text": [
      "Periodos entrenar: [201809 201810]\n",
      "Periodos validar: [201812]\n",
      "product_id a validar: 3348\n",
      "X_train: (6642, 120)\n",
      "y_train: (6642,)\n",
      "\n",
      "X_validate: (3348, 120)\n",
      "y_validate: (3348,)\n",
      "Optimizacion Bayesiana\n",
      "**************** regression ****************\n",
      "Training until validation scores don't improve for 85 rounds\n"
     ]
    },
    {
     "name": "stderr",
     "output_type": "stream",
     "text": [
      "[I 2023-12-12 21:13:41,278] Trial 0 finished with value: 184.74 and parameters: {'lambda_l1': 778.0737561800169, 'lambda_l2': 470.61046535736426, 'learning_rate': 0.14198537727699376, 'num_leaves': 183, 'feature_fraction': 0.30037069157203417, 'min_data_in_leaf': 6497}. Best is trial 0 with value: 184.74.\n"
     ]
    },
    {
     "name": "stdout",
     "output_type": "stream",
     "text": [
      "Early stopping, best iteration is:\n",
      "[1]\tvalid_0's ER: 273.8\n",
      "Evaluated only: ER\n",
      "**************** regression ****************\n",
      "Training until validation scores don't improve for 76 rounds\n"
     ]
    },
    {
     "name": "stderr",
     "output_type": "stream",
     "text": [
      "[I 2023-12-12 21:13:41,499] Trial 1 finished with value: 184.74 and parameters: {'lambda_l1': 422.18237595221996, 'lambda_l2': 671.8344964004627, 'learning_rate': 0.19059038838922582, 'num_leaves': 110, 'feature_fraction': 0.3763851612730469, 'min_data_in_leaf': 6265}. Best is trial 0 with value: 184.74.\n"
     ]
    },
    {
     "name": "stdout",
     "output_type": "stream",
     "text": [
      "Early stopping, best iteration is:\n",
      "[1]\tvalid_0's ER: 273.8\n",
      "Evaluated only: ER\n",
      "# Experimentos: 2\n",
      "Mejor experimento: {'lambda_l1': 778.0737561800169, 'lambda_l2': 470.61046535736426, 'learning_rate': 0.14198537727699376, 'num_leaves': 183, 'feature_fraction': 0.30037069157203417, 'min_data_in_leaf': 6497}\n",
      "=========================================== Cluster 81 ===========================================\n"
     ]
    },
    {
     "name": "stderr",
     "output_type": "stream",
     "text": [
      "[I 2023-12-12 21:13:43,022] A new study created in memory with name: no-name-62608b1c-ae6b-46cb-b04f-64eaae1f9a67\n"
     ]
    },
    {
     "name": "stdout",
     "output_type": "stream",
     "text": [
      "Periodos entrenar: [201701 201702 201703 201704 201705 201706 201707 201708 201709 201710\n",
      " 201711 201712 201801 201802 201803 201804 201805 201806 201807 201808\n",
      " 201809 201810]\n",
      "Periodos validar: [201812]\n",
      "product_id a validar: 1674\n",
      "X_train: (34545, 120)\n",
      "y_train: (34545,)\n",
      "\n",
      "X_validate: (1674, 120)\n",
      "y_validate: (1674,)\n",
      "Optimizacion Bayesiana\n",
      "**************** regression ****************\n",
      "Training until validation scores don't improve for 317 rounds\n",
      "[100]\tvalid_0's ER: 471.32\n",
      "[200]\tvalid_0's ER: 471.32\n",
      "[300]\tvalid_0's ER: 471.32\n"
     ]
    },
    {
     "name": "stderr",
     "output_type": "stream",
     "text": [
      "[I 2023-12-12 21:13:43,859] Trial 0 finished with value: 284.85 and parameters: {'lambda_l1': 158.09404844942665, 'lambda_l2': 607.835289009854, 'learning_rate': 0.018672615234878474, 'num_leaves': 548, 'feature_fraction': 0.3357968287031879, 'min_data_in_leaf': 902}. Best is trial 0 with value: 284.85.\n"
     ]
    },
    {
     "name": "stdout",
     "output_type": "stream",
     "text": [
      "Early stopping, best iteration is:\n",
      "[1]\tvalid_0's ER: 471.32\n",
      "Evaluated only: ER\n",
      "**************** regression ****************\n"
     ]
    },
    {
     "name": "stderr",
     "output_type": "stream",
     "text": [
      "[I 2023-12-12 21:13:44,231] Trial 1 finished with value: 284.85 and parameters: {'lambda_l1': 288.8547350841802, 'lambda_l2': 415.1254798550501, 'learning_rate': 0.2645299276047155, 'num_leaves': 91, 'feature_fraction': 0.4488059639732206, 'min_data_in_leaf': 1074}. Best is trial 0 with value: 284.85.\n"
     ]
    },
    {
     "name": "stdout",
     "output_type": "stream",
     "text": [
      "Training until validation scores don't improve for 68 rounds\n",
      "Early stopping, best iteration is:\n",
      "[1]\tvalid_0's ER: 471.32\n",
      "Evaluated only: ER\n",
      "# Experimentos: 2\n",
      "Mejor experimento: {'lambda_l1': 158.09404844942665, 'lambda_l2': 607.835289009854, 'learning_rate': 0.018672615234878474, 'num_leaves': 548, 'feature_fraction': 0.3357968287031879, 'min_data_in_leaf': 902}\n",
      "=========================================== Cluster 82 ===========================================\n"
     ]
    },
    {
     "name": "stderr",
     "output_type": "stream",
     "text": [
      "[I 2023-12-12 21:13:45,578] A new study created in memory with name: no-name-0851726e-236a-45a1-aa73-27a85db6340b\n"
     ]
    },
    {
     "name": "stdout",
     "output_type": "stream",
     "text": [
      "Periodos entrenar: [201701 201702 201703 201704 201705 201706 201707 201708 201709 201710\n",
      " 201711 201712 201801 201802 201803 201804 201805 201806 201807 201808\n",
      " 201809 201810]\n",
      "Periodos validar: [201812]\n",
      "product_id a validar: 1116\n",
      "X_train: (23030, 120)\n",
      "y_train: (23030,)\n",
      "\n",
      "X_validate: (1116, 120)\n",
      "y_validate: (1116,)\n",
      "Optimizacion Bayesiana\n",
      "**************** regression ****************\n",
      "Training until validation scores don't improve for 419 rounds\n",
      "[100]\tvalid_0's ER: inf\n",
      "[200]\tvalid_0's ER: inf\n",
      "[300]\tvalid_0's ER: inf\n",
      "[400]\tvalid_0's ER: inf\n"
     ]
    },
    {
     "name": "stderr",
     "output_type": "stream",
     "text": [
      "[I 2023-12-12 21:13:46,941] Trial 0 finished with value: inf and parameters: {'lambda_l1': 353.63611197605394, 'lambda_l2': 825.1451806619666, 'learning_rate': 0.013525508929696471, 'num_leaves': 73, 'feature_fraction': 0.9661945720153453, 'min_data_in_leaf': 1138}. Best is trial 0 with value: inf.\n"
     ]
    },
    {
     "name": "stdout",
     "output_type": "stream",
     "text": [
      "Early stopping, best iteration is:\n",
      "[1]\tvalid_0's ER: inf\n",
      "Evaluated only: ER\n",
      "**************** regression ****************\n",
      "Training until validation scores don't improve for 78 rounds\n"
     ]
    },
    {
     "name": "stderr",
     "output_type": "stream",
     "text": [
      "[I 2023-12-12 21:13:47,234] Trial 1 finished with value: inf and parameters: {'lambda_l1': 84.853168428488, 'lambda_l2': 319.0350513304828, 'learning_rate': 0.1750579747901552, 'num_leaves': 449, 'feature_fraction': 0.5197870599628258, 'min_data_in_leaf': 3704}. Best is trial 0 with value: inf.\n"
     ]
    },
    {
     "name": "stdout",
     "output_type": "stream",
     "text": [
      "Early stopping, best iteration is:\n",
      "[1]\tvalid_0's ER: inf\n",
      "Evaluated only: ER\n",
      "# Experimentos: 2\n",
      "Mejor experimento: {'lambda_l1': 353.63611197605394, 'lambda_l2': 825.1451806619666, 'learning_rate': 0.013525508929696471, 'num_leaves': 73, 'feature_fraction': 0.9661945720153453, 'min_data_in_leaf': 1138}\n",
      "=========================================== Cluster 83 ===========================================\n"
     ]
    },
    {
     "name": "stderr",
     "output_type": "stream",
     "text": [
      "[I 2023-12-12 21:13:48,683] A new study created in memory with name: no-name-a9b0e939-38d4-430b-b256-f8ae7550efb6\n"
     ]
    },
    {
     "name": "stdout",
     "output_type": "stream",
     "text": [
      "Periodos entrenar: [201701 201702 201703 201704 201705 201706 201707 201708 201709 201710\n",
      " 201711 201712 201801 201802 201803 201804 201805 201806 201807 201808\n",
      " 201809 201810]\n",
      "Periodos validar: [201812]\n",
      "product_id a validar: 1674\n",
      "X_train: (20211, 120)\n",
      "y_train: (20211,)\n",
      "\n",
      "X_validate: (1674, 120)\n",
      "y_validate: (1674,)\n",
      "Optimizacion Bayesiana\n",
      "**************** regression ****************\n",
      "Training until validation scores don't improve for 82 rounds\n"
     ]
    },
    {
     "name": "stderr",
     "output_type": "stream",
     "text": [
      "[I 2023-12-12 21:13:48,978] Trial 0 finished with value: 349.08 and parameters: {'lambda_l1': 238.2238485410958, 'lambda_l2': 154.02089295109133, 'learning_rate': 0.15284176296336283, 'num_leaves': 854, 'feature_fraction': 0.4029423932671048, 'min_data_in_leaf': 3294}. Best is trial 0 with value: 349.08.\n"
     ]
    },
    {
     "name": "stdout",
     "output_type": "stream",
     "text": [
      "Early stopping, best iteration is:\n",
      "[1]\tvalid_0's ER: 602.56\n",
      "Evaluated only: ER\n",
      "**************** regression ****************\n",
      "Training until validation scores don't improve for 75 rounds\n"
     ]
    },
    {
     "name": "stderr",
     "output_type": "stream",
     "text": [
      "[I 2023-12-12 21:13:49,282] Trial 1 finished with value: 349.08 and parameters: {'lambda_l1': 487.2030411915731, 'lambda_l2': 617.0032122641943, 'learning_rate': 0.1995050025074001, 'num_leaves': 710, 'feature_fraction': 0.8599143180754796, 'min_data_in_leaf': 5176}. Best is trial 0 with value: 349.08.\n"
     ]
    },
    {
     "name": "stdout",
     "output_type": "stream",
     "text": [
      "Early stopping, best iteration is:\n",
      "[1]\tvalid_0's ER: 602.56\n",
      "Evaluated only: ER\n",
      "# Experimentos: 2\n",
      "Mejor experimento: {'lambda_l1': 238.2238485410958, 'lambda_l2': 154.02089295109133, 'learning_rate': 0.15284176296336283, 'num_leaves': 854, 'feature_fraction': 0.4029423932671048, 'min_data_in_leaf': 3294}\n",
      "=========================================== Cluster 84 ===========================================\n"
     ]
    },
    {
     "name": "stderr",
     "output_type": "stream",
     "text": [
      "[I 2023-12-12 21:13:50,814] A new study created in memory with name: no-name-45ed9561-7c9b-46a0-9339-04c3d3c1b1d9\n"
     ]
    },
    {
     "name": "stdout",
     "output_type": "stream",
     "text": [
      "Periodos entrenar: [201711 201712 201801 201802 201803 201804 201805 201806 201807 201808\n",
      " 201809 201810]\n",
      "Periodos validar: [201812]\n",
      "product_id a validar: 2232\n",
      "X_train: (19946, 120)\n",
      "y_train: (19946,)\n",
      "\n",
      "X_validate: (2232, 120)\n",
      "y_validate: (2232,)\n",
      "Optimizacion Bayesiana\n",
      "**************** regression ****************\n",
      "Training until validation scores don't improve for 123 rounds\n"
     ]
    },
    {
     "name": "stderr",
     "output_type": "stream",
     "text": [
      "[I 2023-12-12 21:13:51,284] Trial 0 finished with value: 188.71 and parameters: {'lambda_l1': 294.7291613900359, 'lambda_l2': 494.6951668478375, 'learning_rate': 0.068231536374808, 'num_leaves': 960, 'feature_fraction': 0.41476119671273737, 'min_data_in_leaf': 2886}. Best is trial 0 with value: 188.71.\n"
     ]
    },
    {
     "name": "stdout",
     "output_type": "stream",
     "text": [
      "[100]\tvalid_0's ER: 288.19\n",
      "Early stopping, best iteration is:\n",
      "[1]\tvalid_0's ER: 288.19\n",
      "Evaluated only: ER\n",
      "**************** regression ****************\n"
     ]
    },
    {
     "name": "stderr",
     "output_type": "stream",
     "text": [
      "[I 2023-12-12 21:13:51,617] Trial 1 finished with value: 188.71 and parameters: {'lambda_l1': 715.6616424804407, 'lambda_l2': 901.1268023901569, 'learning_rate': 0.17993090152571983, 'num_leaves': 968, 'feature_fraction': 0.2153478725475429, 'min_data_in_leaf': 6055}. Best is trial 0 with value: 188.71.\n"
     ]
    },
    {
     "name": "stdout",
     "output_type": "stream",
     "text": [
      "Training until validation scores don't improve for 77 rounds\n",
      "Early stopping, best iteration is:\n",
      "[1]\tvalid_0's ER: 288.19\n",
      "Evaluated only: ER\n",
      "# Experimentos: 2\n",
      "Mejor experimento: {'lambda_l1': 294.7291613900359, 'lambda_l2': 494.6951668478375, 'learning_rate': 0.068231536374808, 'num_leaves': 960, 'feature_fraction': 0.41476119671273737, 'min_data_in_leaf': 2886}\n",
      "=========================================== Cluster 85 ===========================================\n"
     ]
    },
    {
     "name": "stderr",
     "output_type": "stream",
     "text": [
      "[I 2023-12-12 21:13:52,265] A new study created in memory with name: no-name-c3bf95da-35d6-4ca5-ab7b-f4e766846d69\n",
      "[I 2023-12-12 21:13:52,349] Trial 0 finished with value: 250.71 and parameters: {'lambda_l1': 335.2234213208033, 'lambda_l2': 485.6207684225302, 'learning_rate': 0.1883013547693486, 'num_leaves': 347, 'feature_fraction': 0.4235146860959623, 'min_data_in_leaf': 4181}. Best is trial 0 with value: 250.71.\n",
      "[I 2023-12-12 21:13:52,425] Trial 1 finished with value: 250.71 and parameters: {'lambda_l1': 504.44724676422095, 'lambda_l2': 493.56670081076425, 'learning_rate': 0.09259920006553886, 'num_leaves': 19, 'feature_fraction': 0.7657376634631725, 'min_data_in_leaf': 2050}. Best is trial 0 with value: 250.71.\n"
     ]
    },
    {
     "name": "stdout",
     "output_type": "stream",
     "text": [
      "Periodos entrenar: [201809 201810]\n",
      "Periodos validar: [201812]\n",
      "product_id a validar: 558\n",
      "X_train: (1107, 120)\n",
      "y_train: (1107,)\n",
      "\n",
      "X_validate: (558, 120)\n",
      "y_validate: (558,)\n",
      "Optimizacion Bayesiana\n",
      "**************** regression ****************\n",
      "Training until validation scores don't improve for 76 rounds\n",
      "Early stopping, best iteration is:\n",
      "[1]\tvalid_0's ER: 401.41\n",
      "Evaluated only: ER\n",
      "**************** regression ****************\n",
      "Training until validation scores don't improve for 103 rounds\n",
      "[100]\tvalid_0's ER: 401.41\n",
      "Early stopping, best iteration is:\n",
      "[1]\tvalid_0's ER: 401.41\n",
      "Evaluated only: ER\n",
      "# Experimentos: 2\n",
      "Mejor experimento: {'lambda_l1': 335.2234213208033, 'lambda_l2': 485.6207684225302, 'learning_rate': 0.1883013547693486, 'num_leaves': 347, 'feature_fraction': 0.4235146860959623, 'min_data_in_leaf': 4181}\n",
      "=========================================== Cluster 86 ===========================================\n",
      "Periodos entrenar: []\n",
      "Periodos validar: []\n",
      "product_id a validar: 0\n",
      "X_train: (0, 120)\n",
      "y_train: (0,)\n",
      "\n",
      "X_validate: (0, 120)\n",
      "y_validate: (0,)\n",
      "=========================================== Cluster 87 ===========================================\n",
      "Periodos entrenar: []\n",
      "Periodos validar: []\n",
      "product_id a validar: 0\n",
      "X_train: (0, 120)\n",
      "y_train: (0,)\n",
      "\n",
      "X_validate: (0, 120)\n",
      "y_validate: (0,)\n",
      "=========================================== Cluster 88 ===========================================\n"
     ]
    },
    {
     "name": "stderr",
     "output_type": "stream",
     "text": [
      "[I 2023-12-12 21:13:54,753] A new study created in memory with name: no-name-635a9255-294a-4cd4-bb7e-4792417346b4\n"
     ]
    },
    {
     "name": "stdout",
     "output_type": "stream",
     "text": [
      "Periodos entrenar: [201711 201712 201801 201802 201803 201804 201805 201806 201807 201808\n",
      " 201809 201810]\n",
      "Periodos validar: [201812]\n",
      "product_id a validar: 1674\n",
      "X_train: (19392, 120)\n",
      "y_train: (19392,)\n",
      "\n",
      "X_validate: (1674, 120)\n",
      "y_validate: (1674,)\n",
      "Optimizacion Bayesiana\n",
      "**************** regression ****************\n",
      "Training until validation scores don't improve for 156 rounds\n"
     ]
    },
    {
     "name": "stderr",
     "output_type": "stream",
     "text": [
      "[I 2023-12-12 21:13:55,164] Trial 0 finished with value: 189.02 and parameters: {'lambda_l1': 389.68789700014827, 'lambda_l2': 863.7274287406601, 'learning_rate': 0.04689368419396923, 'num_leaves': 218, 'feature_fraction': 0.7755612768695874, 'min_data_in_leaf': 3460}. Best is trial 0 with value: 189.02.\n"
     ]
    },
    {
     "name": "stdout",
     "output_type": "stream",
     "text": [
      "[100]\tvalid_0's ER: 285.09\n",
      "Early stopping, best iteration is:\n",
      "[1]\tvalid_0's ER: 285.09\n",
      "Evaluated only: ER\n",
      "**************** regression ****************\n"
     ]
    },
    {
     "name": "stderr",
     "output_type": "stream",
     "text": [
      "[I 2023-12-12 21:13:55,480] Trial 1 finished with value: 189.02 and parameters: {'lambda_l1': 483.7091008624481, 'lambda_l2': 993.517796692924, 'learning_rate': 0.2518067585965817, 'num_leaves': 610, 'feature_fraction': 0.517852519808432, 'min_data_in_leaf': 600}. Best is trial 0 with value: 189.02.\n"
     ]
    },
    {
     "name": "stdout",
     "output_type": "stream",
     "text": [
      "Training until validation scores don't improve for 69 rounds\n",
      "Early stopping, best iteration is:\n",
      "[1]\tvalid_0's ER: 285.09\n",
      "Evaluated only: ER\n",
      "# Experimentos: 2\n",
      "Mejor experimento: {'lambda_l1': 389.68789700014827, 'lambda_l2': 863.7274287406601, 'learning_rate': 0.04689368419396923, 'num_leaves': 218, 'feature_fraction': 0.7755612768695874, 'min_data_in_leaf': 3460}\n",
      "=========================================== Cluster 89 ===========================================\n"
     ]
    },
    {
     "name": "stderr",
     "output_type": "stream",
     "text": [
      "[I 2023-12-12 21:13:57,603] A new study created in memory with name: no-name-185a5269-02fb-4a71-aa49-3507119d75c7\n"
     ]
    },
    {
     "name": "stdout",
     "output_type": "stream",
     "text": [
      "Periodos entrenar: [201701 201702 201703 201704 201705 201706 201707 201708 201709 201710\n",
      " 201711 201712 201801 201802 201803 201804 201805 201806 201807 201808\n",
      " 201809 201810]\n",
      "Periodos validar: [201812]\n",
      "product_id a validar: 2232\n",
      "X_train: (46060, 120)\n",
      "y_train: (46060,)\n",
      "\n",
      "X_validate: (2232, 120)\n",
      "y_validate: (2232,)\n",
      "Optimizacion Bayesiana\n",
      "**************** regression ****************\n",
      "Training until validation scores don't improve for 84 rounds\n"
     ]
    },
    {
     "name": "stderr",
     "output_type": "stream",
     "text": [
      "[I 2023-12-12 21:13:58,342] Trial 0 finished with value: 318.67 and parameters: {'lambda_l1': 625.7161031349165, 'lambda_l2': 608.9021157705176, 'learning_rate': 0.14536131799945626, 'num_leaves': 849, 'feature_fraction': 0.7610822565907005, 'min_data_in_leaf': 1088}. Best is trial 0 with value: 318.67.\n"
     ]
    },
    {
     "name": "stdout",
     "output_type": "stream",
     "text": [
      "Early stopping, best iteration is:\n",
      "[1]\tvalid_0's ER: 538.31\n",
      "Evaluated only: ER\n",
      "**************** regression ****************\n",
      "Training until validation scores don't improve for 404 rounds\n",
      "[100]\tvalid_0's ER: 538.31\n",
      "[200]\tvalid_0's ER: 538.31\n",
      "[300]\tvalid_0's ER: 538.31\n"
     ]
    },
    {
     "name": "stderr",
     "output_type": "stream",
     "text": [
      "[I 2023-12-12 21:14:00,037] Trial 1 finished with value: 318.67 and parameters: {'lambda_l1': 514.3566049407522, 'lambda_l2': 245.57616664417992, 'learning_rate': 0.014088823379989157, 'num_leaves': 949, 'feature_fraction': 0.6184986190591049, 'min_data_in_leaf': 5225}. Best is trial 0 with value: 318.67.\n"
     ]
    },
    {
     "name": "stdout",
     "output_type": "stream",
     "text": [
      "[400]\tvalid_0's ER: 538.31\n",
      "Early stopping, best iteration is:\n",
      "[1]\tvalid_0's ER: 538.31\n",
      "Evaluated only: ER\n",
      "# Experimentos: 2\n",
      "Mejor experimento: {'lambda_l1': 625.7161031349165, 'lambda_l2': 608.9021157705176, 'learning_rate': 0.14536131799945626, 'num_leaves': 849, 'feature_fraction': 0.7610822565907005, 'min_data_in_leaf': 1088}\n",
      "=========================================== Cluster 90 ===========================================\n"
     ]
    },
    {
     "name": "stderr",
     "output_type": "stream",
     "text": [
      "[I 2023-12-12 21:14:01,147] A new study created in memory with name: no-name-f08ebee5-f3ab-441b-9e0a-9a57edbdb193\n"
     ]
    },
    {
     "name": "stdout",
     "output_type": "stream",
     "text": [
      "Periodos entrenar: [201809 201810]\n",
      "Periodos validar: [201812]\n",
      "product_id a validar: 2232\n",
      "X_train: (4428, 120)\n",
      "y_train: (4428,)\n",
      "\n",
      "X_validate: (2232, 120)\n",
      "y_validate: (2232,)\n",
      "Optimizacion Bayesiana\n",
      "**************** regression ****************\n",
      "Training until validation scores don't improve for 92 rounds\n",
      "Early stopping, best iteration is:\n",
      "[1]\tvalid_0's ER: 297.76\n",
      "Evaluated only: ER\n"
     ]
    },
    {
     "name": "stderr",
     "output_type": "stream",
     "text": [
      "[I 2023-12-12 21:14:01,349] Trial 0 finished with value: 198.88 and parameters: {'lambda_l1': 991.2543712012706, 'lambda_l2': 4.8054790557019444, 'learning_rate': 0.11665539079050764, 'num_leaves': 554, 'feature_fraction': 0.4692747734881446, 'min_data_in_leaf': 2174}. Best is trial 0 with value: 198.88.\n",
      "[I 2023-12-12 21:14:01,519] Trial 1 finished with value: 198.88 and parameters: {'lambda_l1': 609.5857127969541, 'lambda_l2': 790.1865191952801, 'learning_rate': 0.18565630638713157, 'num_leaves': 985, 'feature_fraction': 0.9114614629565898, 'min_data_in_leaf': 951}. Best is trial 0 with value: 198.88.\n"
     ]
    },
    {
     "name": "stdout",
     "output_type": "stream",
     "text": [
      "**************** regression ****************\n",
      "Training until validation scores don't improve for 76 rounds\n",
      "Early stopping, best iteration is:\n",
      "[1]\tvalid_0's ER: 297.76\n",
      "Evaluated only: ER\n",
      "# Experimentos: 2\n",
      "Mejor experimento: {'lambda_l1': 991.2543712012706, 'lambda_l2': 4.8054790557019444, 'learning_rate': 0.11665539079050764, 'num_leaves': 554, 'feature_fraction': 0.4692747734881446, 'min_data_in_leaf': 2174}\n",
      "=========================================== Cluster 91 ===========================================\n"
     ]
    },
    {
     "name": "stderr",
     "output_type": "stream",
     "text": [
      "[I 2023-12-12 21:14:02,738] A new study created in memory with name: no-name-17dec70d-54f9-4ff0-a98d-781221a00523\n"
     ]
    },
    {
     "name": "stdout",
     "output_type": "stream",
     "text": [
      "Periodos entrenar: [201701 201702 201703 201704 201705 201706 201707 201708 201709 201710\n",
      " 201711 201712 201801 201802 201803 201804 201805 201806 201807 201808\n",
      " 201809 201810]\n",
      "Periodos validar: [201812]\n",
      "product_id a validar: 1116\n",
      "X_train: (23030, 120)\n",
      "y_train: (23030,)\n",
      "\n",
      "X_validate: (1116, 120)\n",
      "y_validate: (1116,)\n",
      "Optimizacion Bayesiana\n",
      "**************** regression ****************\n",
      "Training until validation scores don't improve for 102 rounds\n"
     ]
    },
    {
     "name": "stderr",
     "output_type": "stream",
     "text": [
      "[I 2023-12-12 21:14:03,072] Trial 0 finished with value: 444.47 and parameters: {'lambda_l1': 332.2515375063362, 'lambda_l2': 28.714108410116012, 'learning_rate': 0.09436776243158904, 'num_leaves': 60, 'feature_fraction': 0.6386084999799506, 'min_data_in_leaf': 7048}. Best is trial 0 with value: 444.47.\n"
     ]
    },
    {
     "name": "stdout",
     "output_type": "stream",
     "text": [
      "[100]\tvalid_0's ER: 788.94\n",
      "Early stopping, best iteration is:\n",
      "[1]\tvalid_0's ER: 788.94\n",
      "Evaluated only: ER\n",
      "**************** regression ****************\n",
      "Training until validation scores don't improve for 85 rounds\n"
     ]
    },
    {
     "name": "stderr",
     "output_type": "stream",
     "text": [
      "[I 2023-12-12 21:14:03,338] Trial 1 finished with value: 444.47 and parameters: {'lambda_l1': 463.0576920174185, 'lambda_l2': 298.4826345760021, 'learning_rate': 0.14157386340317613, 'num_leaves': 454, 'feature_fraction': 0.2988672851278696, 'min_data_in_leaf': 7063}. Best is trial 0 with value: 444.47.\n"
     ]
    },
    {
     "name": "stdout",
     "output_type": "stream",
     "text": [
      "Early stopping, best iteration is:\n",
      "[1]\tvalid_0's ER: 788.94\n",
      "Evaluated only: ER\n",
      "# Experimentos: 2\n",
      "Mejor experimento: {'lambda_l1': 332.2515375063362, 'lambda_l2': 28.714108410116012, 'learning_rate': 0.09436776243158904, 'num_leaves': 60, 'feature_fraction': 0.6386084999799506, 'min_data_in_leaf': 7048}\n",
      "=========================================== Cluster 92 ===========================================\n"
     ]
    },
    {
     "name": "stderr",
     "output_type": "stream",
     "text": [
      "[I 2023-12-12 21:14:04,539] A new study created in memory with name: no-name-70c61f40-258f-4848-80f1-a45f01271bd5\n"
     ]
    },
    {
     "name": "stdout",
     "output_type": "stream",
     "text": [
      "Periodos entrenar: [201701 201702 201703 201704 201705 201706 201707 201708 201709 201710\n",
      " 201711 201712 201801 201802 201803 201804 201805 201806 201807 201808\n",
      " 201809 201810]\n",
      "Periodos validar: [201812]\n",
      "product_id a validar: 1116\n",
      "X_train: (23030, 120)\n",
      "y_train: (23030,)\n",
      "\n",
      "X_validate: (1116, 120)\n",
      "y_validate: (1116,)\n",
      "Optimizacion Bayesiana\n",
      "**************** regression ****************\n",
      "Training until validation scores don't improve for 85 rounds\n"
     ]
    },
    {
     "name": "stderr",
     "output_type": "stream",
     "text": [
      "[I 2023-12-12 21:14:04,817] Trial 0 finished with value: 411.29 and parameters: {'lambda_l1': 778.9822116557499, 'lambda_l2': 224.21295013058628, 'learning_rate': 0.14280851353429144, 'num_leaves': 1023, 'feature_fraction': 0.2981423335169955, 'min_data_in_leaf': 4171}. Best is trial 0 with value: 411.29.\n"
     ]
    },
    {
     "name": "stdout",
     "output_type": "stream",
     "text": [
      "Early stopping, best iteration is:\n",
      "[1]\tvalid_0's ER: 723.91\n",
      "Evaluated only: ER\n",
      "**************** regression ****************\n",
      "Training until validation scores don't improve for 76 rounds\n"
     ]
    },
    {
     "name": "stderr",
     "output_type": "stream",
     "text": [
      "[I 2023-12-12 21:14:05,100] Trial 1 finished with value: 411.29 and parameters: {'lambda_l1': 722.4314187413564, 'lambda_l2': 25.966686125669213, 'learning_rate': 0.18893047240030428, 'num_leaves': 780, 'feature_fraction': 0.44512454261303475, 'min_data_in_leaf': 1239}. Best is trial 0 with value: 411.29.\n"
     ]
    },
    {
     "name": "stdout",
     "output_type": "stream",
     "text": [
      "Early stopping, best iteration is:\n",
      "[1]\tvalid_0's ER: 723.91\n",
      "Evaluated only: ER\n",
      "# Experimentos: 2\n",
      "Mejor experimento: {'lambda_l1': 778.9822116557499, 'lambda_l2': 224.21295013058628, 'learning_rate': 0.14280851353429144, 'num_leaves': 1023, 'feature_fraction': 0.2981423335169955, 'min_data_in_leaf': 4171}\n",
      "=========================================== Cluster 93 ===========================================\n"
     ]
    },
    {
     "name": "stderr",
     "output_type": "stream",
     "text": [
      "[I 2023-12-12 21:14:06,042] A new study created in memory with name: no-name-d9f77b80-dedc-4007-8033-e90636716ae9\n"
     ]
    },
    {
     "name": "stdout",
     "output_type": "stream",
     "text": [
      "Periodos entrenar: [201707 201708 201709 201710 201711 201712 201801 201802 201803 201804\n",
      " 201805 201806 201807 201808 201809 201810]\n",
      "Periodos validar: [201812]\n",
      "product_id a validar: 1116\n",
      "X_train: (17102, 120)\n",
      "y_train: (17102,)\n",
      "\n",
      "X_validate: (1116, 120)\n",
      "y_validate: (1116,)\n",
      "Optimizacion Bayesiana\n",
      "**************** regression ****************\n",
      "Training until validation scores don't improve for 104 rounds\n"
     ]
    },
    {
     "name": "stderr",
     "output_type": "stream",
     "text": [
      "[I 2023-12-12 21:14:06,338] Trial 0 finished with value: 488.55 and parameters: {'lambda_l1': 389.83984160659736, 'lambda_l2': 502.6089171098853, 'learning_rate': 0.09115156582460851, 'num_leaves': 1003, 'feature_fraction': 0.6526947350915195, 'min_data_in_leaf': 7193}. Best is trial 0 with value: 488.55.\n"
     ]
    },
    {
     "name": "stdout",
     "output_type": "stream",
     "text": [
      "[100]\tvalid_0's ER: 877.11\n",
      "Early stopping, best iteration is:\n",
      "[1]\tvalid_0's ER: 877.11\n",
      "Evaluated only: ER\n",
      "**************** regression ****************\n",
      "Training until validation scores don't improve for 92 rounds\n"
     ]
    },
    {
     "name": "stderr",
     "output_type": "stream",
     "text": [
      "[I 2023-12-12 21:14:06,611] Trial 1 finished with value: 488.55 and parameters: {'lambda_l1': 708.905827743061, 'lambda_l2': 268.9069200865597, 'learning_rate': 0.1169753298157249, 'num_leaves': 845, 'feature_fraction': 0.8139261727572302, 'min_data_in_leaf': 4137}. Best is trial 0 with value: 488.55.\n"
     ]
    },
    {
     "name": "stdout",
     "output_type": "stream",
     "text": [
      "Early stopping, best iteration is:\n",
      "[1]\tvalid_0's ER: 877.11\n",
      "Evaluated only: ER\n",
      "# Experimentos: 2\n",
      "Mejor experimento: {'lambda_l1': 389.83984160659736, 'lambda_l2': 502.6089171098853, 'learning_rate': 0.09115156582460851, 'num_leaves': 1003, 'feature_fraction': 0.6526947350915195, 'min_data_in_leaf': 7193}\n"
     ]
    }
   ],
   "source": [
    "# Entrenamiento por cluster\n",
    "er_validate_iter = [None] * num_clusters\n",
    "er_holdout_semillerio_iter = [None] * num_clusters\n",
    "params_iter = [None] * num_clusters\n",
    "best_iter_iter = [None] * num_clusters\n",
    "pred_iter = [None] * num_clusters\n",
    "prod_iter = [None] * num_clusters\n",
    "\n",
    "for i in range(0,num_clusters):\n",
    "    print(\"=========================================== Cluster\", i, \"===========================================\")\n",
    "    \n",
    "    df_sellout = pd.read_csv(prefijo_arch_entrada + str(i) + \".csv\")\n",
    "    \n",
    "    ### Categoricas\n",
    "    df_sellout = extras.convertir_categoricas_prod_cust(df_sellout)\n",
    "\n",
    "    ### Remover columnas\n",
    "    df_sellout = df_sellout.drop(columns=[\"periodo_fecha\",\"brand\"])\n",
    "    \n",
    "    ### Split de datasets\n",
    "    df_train = df_sellout[(df_sellout.periodo <= config.TRAIN_PERIODO_LIMITE_PARAM) & (df_sellout.periodo >= config.PERIODO_INICIO_PARAM)]\n",
    "    df_validate = df_sellout[(df_sellout.periodo == config.VALIDATE_PERIODO_PARAM)]\n",
    "    \n",
    "    print(\"Periodos entrenar:\",df_train.periodo.unique())\n",
    "    print(\"Periodos validar:\",df_validate.periodo.unique())\n",
    "    \n",
    "    df_validate = df_validate.sort_values(by=\"product_id\",ascending=True)\n",
    "    print(\"product_id a validar:\", len(df_validate))\n",
    "\n",
    "    ### Armado variables entrenamiento\n",
    "    cols_remover_entren = [\"tn_mas_2\",\"periodo\"]\n",
    "    \n",
    "    # Train - Validate\n",
    "    X_train = df_train.drop(columns=cols_remover_entren, axis=1)\n",
    "    X_validate = df_validate.drop(columns=cols_remover_entren, axis=1)\n",
    "    \n",
    "    y_train = df_train.tn_mas_2\n",
    "    y_validate = df_validate.tn_mas_2\n",
    "    \n",
    "    print(\"X_train:\", X_train.shape)\n",
    "    print(\"y_train:\", y_train.shape)\n",
    "    \n",
    "    print(\"\\nX_validate:\", X_validate.shape)\n",
    "    print(\"y_validate:\", y_validate.shape)\n",
    "    \n",
    "    cols_entren = X_train.columns.tolist()\n",
    "\n",
    "    ### Optimizacion Bayesiana\n",
    "    #Verifico si hay datos de entrenamiento y validacion en el cluster (podria haber 0)\n",
    "    if len(X_train)>0 and len(X_validate)>0:\n",
    "        print(\"Optimizacion Bayesiana\")\n",
    "        GLOBAL_PARAMS_ITER = []\n",
    "        GLOBAL_BEST_IT_ITER = []\n",
    "        GLOBAL_ER_VALIDATE_ITER = []\n",
    "        GLOBAL_MODEL_ITER = []\n",
    "        \n",
    "        study = optuna.create_study(direction='minimize')\n",
    "        study.optimize(objective, n_trials=config.CANT_ITERACIONES_OPT_BAY_PARAM)\n",
    "        print('# Experimentos:', len(study.trials))\n",
    "        print('Mejor experimento:', study.best_trial.params)\n",
    "    \n",
    "        best_model_index = study.best_trial.number\n",
    "        best_model = GLOBAL_MODEL_ITER[best_model_index]\n",
    "    \n",
    "        er_validate_iter[i]=study.best_trial.value\n",
    "        params_iter[i] = GLOBAL_PARAMS_ITER[best_model_index]\n",
    "        best_iter_iter[i] = GLOBAL_BEST_IT_ITER[best_model_index] \n",
    "    else:\n",
    "        er_validate_iter[i]=None\n",
    "        params_iter[i] = None\n",
    "        best_iter_iter[i] = None "
   ]
  },
  {
   "cell_type": "code",
   "execution_count": 10,
   "id": "933cdc68-eb97-4e4c-b8bf-0eafdfb04c64",
   "metadata": {},
   "outputs": [
    {
     "data": {
      "text/html": [
       "<div>\n",
       "<style scoped>\n",
       "    .dataframe tbody tr th:only-of-type {\n",
       "        vertical-align: middle;\n",
       "    }\n",
       "\n",
       "    .dataframe tbody tr th {\n",
       "        vertical-align: top;\n",
       "    }\n",
       "\n",
       "    .dataframe thead th {\n",
       "        text-align: right;\n",
       "    }\n",
       "</style>\n",
       "<table border=\"1\" class=\"dataframe\">\n",
       "  <thead>\n",
       "    <tr style=\"text-align: right;\">\n",
       "      <th></th>\n",
       "      <th>cluster</th>\n",
       "      <th>error_validate</th>\n",
       "      <th>lgbm_params</th>\n",
       "      <th>best_iteration</th>\n",
       "    </tr>\n",
       "  </thead>\n",
       "  <tbody>\n",
       "    <tr>\n",
       "      <th>0</th>\n",
       "      <td>0</td>\n",
       "      <td>115.96</td>\n",
       "      <td>{'objective': 'regression', 'first_metric_only...</td>\n",
       "      <td>258.00</td>\n",
       "    </tr>\n",
       "    <tr>\n",
       "      <th>1</th>\n",
       "      <td>1</td>\n",
       "      <td>99.59</td>\n",
       "      <td>{'objective': 'regression', 'first_metric_only...</td>\n",
       "      <td>358.00</td>\n",
       "    </tr>\n",
       "    <tr>\n",
       "      <th>2</th>\n",
       "      <td>2</td>\n",
       "      <td>99.75</td>\n",
       "      <td>{'objective': 'regression', 'first_metric_only...</td>\n",
       "      <td>65.00</td>\n",
       "    </tr>\n",
       "    <tr>\n",
       "      <th>3</th>\n",
       "      <td>3</td>\n",
       "      <td>95.35</td>\n",
       "      <td>{'objective': 'regression', 'first_metric_only...</td>\n",
       "      <td>713.00</td>\n",
       "    </tr>\n",
       "    <tr>\n",
       "      <th>4</th>\n",
       "      <td>4</td>\n",
       "      <td>87.51</td>\n",
       "      <td>{'objective': 'regression', 'first_metric_only...</td>\n",
       "      <td>979.00</td>\n",
       "    </tr>\n",
       "    <tr>\n",
       "      <th>...</th>\n",
       "      <td>...</td>\n",
       "      <td>...</td>\n",
       "      <td>...</td>\n",
       "      <td>...</td>\n",
       "    </tr>\n",
       "    <tr>\n",
       "      <th>89</th>\n",
       "      <td>89</td>\n",
       "      <td>318.67</td>\n",
       "      <td>{'objective': 'regression', 'first_metric_only...</td>\n",
       "      <td>1.00</td>\n",
       "    </tr>\n",
       "    <tr>\n",
       "      <th>90</th>\n",
       "      <td>90</td>\n",
       "      <td>198.88</td>\n",
       "      <td>{'objective': 'regression', 'first_metric_only...</td>\n",
       "      <td>1.00</td>\n",
       "    </tr>\n",
       "    <tr>\n",
       "      <th>91</th>\n",
       "      <td>91</td>\n",
       "      <td>444.47</td>\n",
       "      <td>{'objective': 'regression', 'first_metric_only...</td>\n",
       "      <td>1.00</td>\n",
       "    </tr>\n",
       "    <tr>\n",
       "      <th>92</th>\n",
       "      <td>92</td>\n",
       "      <td>411.29</td>\n",
       "      <td>{'objective': 'regression', 'first_metric_only...</td>\n",
       "      <td>1.00</td>\n",
       "    </tr>\n",
       "    <tr>\n",
       "      <th>93</th>\n",
       "      <td>93</td>\n",
       "      <td>488.55</td>\n",
       "      <td>{'objective': 'regression', 'first_metric_only...</td>\n",
       "      <td>1.00</td>\n",
       "    </tr>\n",
       "  </tbody>\n",
       "</table>\n",
       "<p>94 rows × 4 columns</p>\n",
       "</div>"
      ],
      "text/plain": [
       "    cluster  error_validate  \\\n",
       "0         0          115.96   \n",
       "1         1           99.59   \n",
       "2         2           99.75   \n",
       "3         3           95.35   \n",
       "4         4           87.51   \n",
       "..      ...             ...   \n",
       "89       89          318.67   \n",
       "90       90          198.88   \n",
       "91       91          444.47   \n",
       "92       92          411.29   \n",
       "93       93          488.55   \n",
       "\n",
       "                                          lgbm_params  best_iteration  \n",
       "0   {'objective': 'regression', 'first_metric_only...          258.00  \n",
       "1   {'objective': 'regression', 'first_metric_only...          358.00  \n",
       "2   {'objective': 'regression', 'first_metric_only...           65.00  \n",
       "3   {'objective': 'regression', 'first_metric_only...          713.00  \n",
       "4   {'objective': 'regression', 'first_metric_only...          979.00  \n",
       "..                                                ...             ...  \n",
       "89  {'objective': 'regression', 'first_metric_only...            1.00  \n",
       "90  {'objective': 'regression', 'first_metric_only...            1.00  \n",
       "91  {'objective': 'regression', 'first_metric_only...            1.00  \n",
       "92  {'objective': 'regression', 'first_metric_only...            1.00  \n",
       "93  {'objective': 'regression', 'first_metric_only...            1.00  \n",
       "\n",
       "[94 rows x 4 columns]"
      ]
     },
     "execution_count": 10,
     "metadata": {},
     "output_type": "execute_result"
    }
   ],
   "source": [
    "df_resultados_opt_bay = pd.DataFrame(data={\"cluster\":range(0,num_clusters),\"error_validate\":er_validate_iter,\n",
    "                                   \"lgbm_params\":params_iter,\"best_iteration\":best_iter_iter})\n",
    "\n",
    "df_resultados_opt_bay.to_excel(carpeta_exp +  \"opt_bay.xlsx\",index=False)\n",
    "\n",
    "df_resultados_opt_bay"
   ]
  },
  {
   "cell_type": "code",
   "execution_count": 11,
   "id": "d4683c7c-e768-4b55-b897-b178f8c4fdd5",
   "metadata": {},
   "outputs": [
    {
     "name": "stdout",
     "output_type": "stream",
     "text": [
      "FINALIZADO\n"
     ]
    }
   ],
   "source": [
    "print(\"FINALIZADO\")"
   ]
  }
 ],
 "metadata": {
  "kernelspec": {
   "display_name": "Python 3 (ipykernel)",
   "language": "python",
   "name": "python3"
  },
  "language_info": {
   "codemirror_mode": {
    "name": "ipython",
    "version": 3
   },
   "file_extension": ".py",
   "mimetype": "text/x-python",
   "name": "python",
   "nbconvert_exporter": "python",
   "pygments_lexer": "ipython3",
   "version": "3.10.12"
  }
 },
 "nbformat": 4,
 "nbformat_minor": 5
}
