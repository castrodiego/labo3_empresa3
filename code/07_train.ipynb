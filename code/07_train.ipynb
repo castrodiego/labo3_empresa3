{
 "cells": [
  {
   "cell_type": "code",
   "execution_count": 1,
   "id": "946a34f4-5c14-46cf-a39d-9794031463bb",
   "metadata": {},
   "outputs": [
    {
     "data": {
      "text/html": [
       "<style type='text/css'>\n",
       ".datatable table.frame { margin-bottom: 0; }\n",
       ".datatable table.frame thead { border-bottom: none; }\n",
       ".datatable table.frame tr.coltypes td {  color: #FFFFFF;  line-height: 6px;  padding: 0 0.5em;}\n",
       ".datatable .bool    { background: #DDDD99; }\n",
       ".datatable .object  { background: #565656; }\n",
       ".datatable .int     { background: #5D9E5D; }\n",
       ".datatable .float   { background: #4040CC; }\n",
       ".datatable .str     { background: #CC4040; }\n",
       ".datatable .time    { background: #40CC40; }\n",
       ".datatable .row_index {  background: var(--jp-border-color3);  border-right: 1px solid var(--jp-border-color0);  color: var(--jp-ui-font-color3);  font-size: 9px;}\n",
       ".datatable .frame tbody td { text-align: left; }\n",
       ".datatable .frame tr.coltypes .row_index {  background: var(--jp-border-color0);}\n",
       ".datatable th:nth-child(2) { padding-left: 12px; }\n",
       ".datatable .hellipsis {  color: var(--jp-cell-editor-border-color);}\n",
       ".datatable .vellipsis {  background: var(--jp-layout-color0);  color: var(--jp-cell-editor-border-color);}\n",
       ".datatable .na {  color: var(--jp-cell-editor-border-color);  font-size: 80%;}\n",
       ".datatable .sp {  opacity: 0.25;}\n",
       ".datatable .footer { font-size: 9px; }\n",
       ".datatable .frame_dimensions {  background: var(--jp-border-color3);  border-top: 1px solid var(--jp-border-color0);  color: var(--jp-ui-font-color3);  display: inline-block;  opacity: 0.6;  padding: 1px 10px 1px 5px;}\n",
       ".datatable .frame thead tr.colnames {  background-image: url('data:image/png;base64,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');  background-repeat: repeat-x;  background-size: 14px;  height: 28px;}\n",
       "</style>\n"
      ],
      "text/plain": [
       "<IPython.core.display.HTML object>"
      ]
     },
     "metadata": {},
     "output_type": "display_data"
    }
   ],
   "source": [
    "import os\n",
    "import lightgbm as lgb\n",
    "import pandas as pd\n",
    "import warnings\n",
    "from matplotlib import pyplot as plt\n",
    "import seaborn as sns\n",
    "import numpy as np\n",
    "import datetime\n",
    "import optuna\n",
    "import random\n",
    "\n",
    "# importo los .py\n",
    "import sys\n",
    "sys.path.append(\"aux\")\n",
    "import transformaciones\n",
    "import config\n",
    "\n",
    "pd.options.display.float_format = '{:.2f}'.format\n",
    "pd.set_option('display.max_columns', None)\n",
    "\n",
    "# Ignore all warnings\n",
    "warnings.filterwarnings(\"ignore\")"
   ]
  },
  {
   "cell_type": "code",
   "execution_count": 2,
   "id": "11ac74ea-68b7-46f2-83ba-a06c00f1e25c",
   "metadata": {},
   "outputs": [],
   "source": [
    "####################################################\n",
    "############# Setear segun cada maquina ############\n",
    "#os.chdir(\"C:/Users/herna/labo3_empresa3_repo/\")\n",
    "#os.chdir(\"C:/diego_tools/labo3/\")\n",
    "os.chdir(\"/home/dcastro_contacto/buckets/b1/\")\n",
    "####################################################"
   ]
  },
  {
   "cell_type": "code",
   "execution_count": 3,
   "id": "02238d29-8545-4363-b04a-f73d55495d00",
   "metadata": {},
   "outputs": [],
   "source": [
    "arch_entrada = \"datasets/emp3_sellout_train.csv\"\n",
    "\n",
    "arch_min_max_prod_cust = \"datasets/emp3_min_max_prod_cust.csv\"\n",
    "arch_mean_std_prod_cust = \"datasets/emp3_mean_std_prod_cust.csv\"\n",
    "arch_no_transf_prod_cust = \"datasets/emp3_no_transf_prod_cust.csv\""
   ]
  },
  {
   "cell_type": "code",
   "execution_count": 4,
   "id": "c5ab683a-6cae-484a-9f93-b25e2b2909e5",
   "metadata": {},
   "outputs": [],
   "source": [
    "GLOBAL_PROD_CUST_IDS = pd.DataFrame() #aca solamente se define, se setea mas abajo"
   ]
  },
  {
   "cell_type": "code",
   "execution_count": 5,
   "id": "e9e93194-3581-4a3c-b8db-5ccff0b2dbaa",
   "metadata": {},
   "outputs": [],
   "source": [
    "def leer_df_auxiliar_transf(tipo_transf):\n",
    "    if tipo_transf==\"normalizacion\":\n",
    "        return pd.read_csv(arch_min_max_prod_cust)\n",
    "    elif tipo_transf==\"estandarizacion\":\n",
    "        return pd.read_csv(arch_mean_std_prod_cust)\n",
    "    else:\n",
    "        return pd.read_csv(arch_no_transf_prod_cust)"
   ]
  },
  {
   "cell_type": "code",
   "execution_count": 6,
   "id": "e6ec34c5-543c-45d7-b3a9-4033642029e3",
   "metadata": {},
   "outputs": [],
   "source": [
    "############ DEFINO Vector Global de Productos #################\n",
    "def actualizar_global_prod_custs(prod_cust_values, y_vector):\n",
    "    # Ademas del id y los valores para \"destransformar\", se deja el tn original porque la destransformacion puede no ser\n",
    "    # precisa para <productos,cliente> que no estaban en train\n",
    "    GLOBAL_PROD_CUST_IDS = pd.DataFrame(data={\"prod_cust\":prod_cust_values, \"tn_orig\":np.array(y_vector)})\n",
    "    GLOBAL_PROD_CUST_IDS = GLOBAL_PROD_CUST_IDS.merge(df_prod_cust_val1_val2,how=\"left\",on=\"prod_cust\")\n",
    "    GLOBAL_PROD_CUST_IDS = GLOBAL_PROD_CUST_IDS.sort_values(by=\"prod_cust\",ascending=True)\n",
    "    \n",
    "    return GLOBAL_PROD_CUST_IDS"
   ]
  },
  {
   "cell_type": "code",
   "execution_count": 7,
   "id": "547b30c6-7d6b-4c08-872b-6a88a987b237",
   "metadata": {},
   "outputs": [],
   "source": [
    "def error_rate(y, y_pred):\n",
    "    y_pred = np.array(y_pred)\n",
    "    \n",
    "    #Solamente destransformo la prediccion (para el y tomo el original de la columna tn_orig)\n",
    "    df_calculo = GLOBAL_PROD_CUST_IDS.copy()\n",
    "    df_calculo[\"y_pred\"] = y_pred\n",
    "    df_calculo[\"y_pred_destransformado\"]=df_calculo.apply(lambda row: transformaciones.destransformar_valor(config.TIPO_TRANSF_PARAM,row[\"y_pred\"],row[\"valor_1\"],row[\"valor_2\"]),axis=1)\n",
    "\n",
    "    y = df_calculo.tn_orig\n",
    "    y_pred = df_calculo.y_pred_destransformado\n",
    "    \n",
    "    #Las predicciones negativas se convierten a 0\n",
    "    y_pred = np.maximum(y_pred, 0)\n",
    "    \n",
    "    dif_abs = sum(abs(y - y_pred))\n",
    "    suma_real = sum(y)\n",
    "    return round(100*dif_abs/suma_real,2)\n",
    "\n",
    "def lgbm_error_rate(preds, train_data):\n",
    "    labels = train_data.get_label()\n",
    "    ret_val = error_rate(labels,preds)\n",
    "    return 'ER', ret_val, False"
   ]
  },
  {
   "cell_type": "code",
   "execution_count": 8,
   "id": "8934c106-c110-4264-9b51-aca4daf277e0",
   "metadata": {},
   "outputs": [],
   "source": [
    "def plot_lgb_importances(model, plot=False, num=10):\n",
    "    gain = model.feature_importance('gain')\n",
    "    feat_imp = pd.DataFrame({'feature': model.feature_name(),\n",
    "                             'split': model.feature_importance('split'),\n",
    "                             'gain': 100 * gain / gain.sum()}).sort_values('gain', ascending=False)\n",
    "    if plot:\n",
    "        plt.figure(figsize=(10, 10))\n",
    "        sns.set(font_scale=1)\n",
    "        sns.barplot(x=\"gain\", y=\"feature\", data=feat_imp[0:25])\n",
    "        plt.title('feature')\n",
    "        plt.tight_layout()\n",
    "        plt.show(block=True)\n",
    "    else:\n",
    "        print(feat_imp.head(num))\n",
    "    return feat_imp"
   ]
  },
  {
   "cell_type": "code",
   "execution_count": 9,
   "id": "fcc3b371-807e-45c2-954d-3e720b30ede9",
   "metadata": {},
   "outputs": [],
   "source": [
    "def objective(trial):\n",
    "    print(\"****************\", config.OBJECTIVE_PARAM, \"****************\")\n",
    "    \n",
    "    lgb_params = {\n",
    "        'objective': config.OBJECTIVE_PARAM,\n",
    "        'first_metric_only': True,\n",
    "        'boost_from_average': True,\n",
    "        'max_depth':-1,\n",
    "        'lambda_l1': trial.suggest_uniform('lambda_l1', 0.0,config.L1_UPPER_PARAM),\n",
    "        'lambda_l2': trial.suggest_uniform('lambda_l2', 0.0,config.L2_UPPER_PARAM),\n",
    "        'min_gain_to_split':0.0,\n",
    "        'force_row_wise':True,\n",
    "        'feature_pre_filter':False,\n",
    "        'metric': \"None\",\n",
    "        'max_bin': config.MAX_BIN_PARAM,\n",
    "        'learning_rate': trial.suggest_uniform('learning_rate', config.LEARNING_RATE_LOWER_PARAM,config.LEARNING_RATE_UPPER_PARAM ),\n",
    "        'num_leaves' : trial.suggest_int('num_leaves', config.NUM_LEAVES_LOWER_PARAM, config.NUM_LEAVES_UPPER_PARAM),\n",
    "        'feature_fraction': trial.suggest_uniform('feature_fraction', config.FEATURE_FRACTION_LOWER_PARAM, config.FEATURE_FRACTION_UPPER_PARAM),\n",
    "        'min_data_in_leaf': trial.suggest_int('min_data_in_leaf', config.MIN_DATA_IN_LEAF_LOWER_PARAM, config.MIN_DATA_IN_LEAF_UPPER_PARAM),\n",
    "        #'bagging_freq':trial.suggest_int('bagging_freq', 1, 10),\n",
    "        #'bagging_fraction': trial.suggest_categorical('bagging_fraction',[0.7,0.75,0.8,0.85,0.9,0.95]),\n",
    "        #'extra_trees':trial.suggest_categorical('extra_trees',[True,False]),\n",
    "        'verbose':-100,\n",
    "        'num_threads':-1\n",
    "    }\n",
    "    \n",
    "    lgb_params_num_boost_round = 10000  #un numero muy grande, lo limita early_stopping_rounds\n",
    "    lgb_params_early_stopping_rounds = int(50 + 5/lgb_params['learning_rate']) #  #el parametro discolo, que depende de otro\n",
    "    \n",
    "    lgb_train = lgb.Dataset(data=X_train, label=y_train, feature_name=cols)\n",
    "    lgb_validate = lgb.Dataset(data=X_validate, label=y_validate, reference=lgb_train, feature_name=cols)\n",
    "    \n",
    "    #Train using selected parameters\n",
    "    model = lgb.train(lgb_params, lgb_train,\n",
    "                  valid_sets=[lgb_validate],\n",
    "                  num_boost_round=lgb_params_num_boost_round,\n",
    "                  early_stopping_rounds=lgb_params_early_stopping_rounds,\n",
    "                  feval=lgbm_error_rate,\n",
    "                  verbose_eval=100)\n",
    "    \n",
    "    y_pred_validate =model.predict(X_validate) #Create predictions on test set\n",
    "    er_validate = error_rate(y_validate,y_pred_validate)\n",
    "    \n",
    "    GLOBAL_PARAMS_ITER.append(lgb_params)\n",
    "    GLOBAL_BEST_IT_ITER.append(model.best_iteration)\n",
    "    GLOBAL_ER_VALIDATE_ITER.append(er_validate)\n",
    "    GLOBAL_MODEL_ITER.append(model)\n",
    "    \n",
    "    return er_validate"
   ]
  },
  {
   "cell_type": "code",
   "execution_count": 10,
   "id": "53ccdb1f-2f93-4bb9-9f57-9bdf50c4251f",
   "metadata": {},
   "outputs": [],
   "source": [
    "##############################################"
   ]
  },
  {
   "cell_type": "code",
   "execution_count": 11,
   "id": "5f866703-ece7-4986-93aa-84b957781f3f",
   "metadata": {},
   "outputs": [
    {
     "name": "stderr",
     "output_type": "stream",
     "text": [
      "[I 2023-12-04 15:28:52,368] A new study created in memory with name: no-name-ed70fbe5-e054-4d9c-821b-f7239d41b2d1\n"
     ]
    },
    {
     "name": "stdout",
     "output_type": "stream",
     "text": [
      "<prod-cust> a validar: 108\n",
      "<prod-cust> a testear: 120\n",
      "<prod-cust> a validar: 108\n",
      "<prod-cust> a testear: 120\n",
      "Periodos entrenar: [201701 201702 201703 201704 201705 201706 201707 201708 201709 201710\n",
      " 201711 201712 201801 201802 201803 201804 201805 201806 201807 201808]\n",
      "Periodos validar: [201810]\n",
      "Periodos entrenar ALL: [201701 201702 201703 201704 201705 201706 201707 201708 201709 201710\n",
      " 201711 201712 201801 201802 201803 201804 201805 201806 201807 201808\n",
      " 201809 201810]\n",
      "Periodos holdout: [201902]\n",
      "X_train: (2160, 480)\n",
      "y_train: (2160,)\n",
      "\n",
      "X_validate: (108, 480)\n",
      "y_validate: (108,)\n",
      "\n",
      "X_train_all: (2376, 480)\n",
      "y_train_all: (2376,)\n",
      "\n",
      "X_holdout: (120, 480)\n",
      "y_holdout: (120,)\n",
      "**************** tweedie ****************\n",
      "Training until validation scores don't improve for 266 rounds\n",
      "[100]\tvalid_0's ER: 66.6\n",
      "[200]\tvalid_0's ER: 66.6\n"
     ]
    },
    {
     "name": "stderr",
     "output_type": "stream",
     "text": [
      "[I 2023-12-04 15:28:53,687] Trial 0 finished with value: 61.03 and parameters: {'lambda_l1': 902.0707372788208, 'lambda_l2': 941.9465074344243, 'learning_rate': 0.023143242922156117, 'num_leaves': 139, 'feature_fraction': 0.7458636917101236, 'min_data_in_leaf': 5394}. Best is trial 0 with value: 61.03.\n"
     ]
    },
    {
     "name": "stdout",
     "output_type": "stream",
     "text": [
      "Early stopping, best iteration is:\n",
      "[1]\tvalid_0's ER: 66.6\n",
      "Evaluated only: ER\n",
      "**************** tweedie ****************\n",
      "Training until validation scores don't improve for 66 rounds\n"
     ]
    },
    {
     "name": "stderr",
     "output_type": "stream",
     "text": [
      "[I 2023-12-04 15:28:54,163] Trial 1 finished with value: 61.03 and parameters: {'lambda_l1': 543.5908567276052, 'lambda_l2': 896.2111320413635, 'learning_rate': 0.2985020373410019, 'num_leaves': 25, 'feature_fraction': 0.6063402907668883, 'min_data_in_leaf': 2472}. Best is trial 0 with value: 61.03.\n"
     ]
    },
    {
     "name": "stdout",
     "output_type": "stream",
     "text": [
      "Early stopping, best iteration is:\n",
      "[1]\tvalid_0's ER: 66.6\n",
      "Evaluated only: ER\n",
      "**************** tweedie ****************\n",
      "Training until validation scores don't improve for 95 rounds\n"
     ]
    },
    {
     "name": "stderr",
     "output_type": "stream",
     "text": [
      "[I 2023-12-04 15:28:54,840] Trial 2 finished with value: 61.03 and parameters: {'lambda_l1': 363.64287813256846, 'lambda_l2': 596.0446288785934, 'learning_rate': 0.11032246235613842, 'num_leaves': 572, 'feature_fraction': 0.9466543222855233, 'min_data_in_leaf': 6499}. Best is trial 0 with value: 61.03.\n"
     ]
    },
    {
     "name": "stdout",
     "output_type": "stream",
     "text": [
      "Early stopping, best iteration is:\n",
      "[1]\tvalid_0's ER: 66.6\n",
      "Evaluated only: ER\n",
      "**************** tweedie ****************\n",
      "Training until validation scores don't improve for 88 rounds\n"
     ]
    },
    {
     "name": "stderr",
     "output_type": "stream",
     "text": [
      "[I 2023-12-04 15:28:55,373] Trial 3 finished with value: 61.03 and parameters: {'lambda_l1': 942.0677615287807, 'lambda_l2': 602.8495114685978, 'learning_rate': 0.129413966418935, 'num_leaves': 30, 'feature_fraction': 0.7228382899321992, 'min_data_in_leaf': 2651}. Best is trial 0 with value: 61.03.\n"
     ]
    },
    {
     "name": "stdout",
     "output_type": "stream",
     "text": [
      "Early stopping, best iteration is:\n",
      "[1]\tvalid_0's ER: 66.6\n",
      "Evaluated only: ER\n",
      "**************** tweedie ****************\n",
      "Training until validation scores don't improve for 101 rounds\n"
     ]
    },
    {
     "name": "stderr",
     "output_type": "stream",
     "text": [
      "[I 2023-12-04 15:28:56,152] Trial 4 finished with value: 61.03 and parameters: {'lambda_l1': 706.6604728739251, 'lambda_l2': 531.8872768576966, 'learning_rate': 0.09671115650082585, 'num_leaves': 1004, 'feature_fraction': 0.5088128116923377, 'min_data_in_leaf': 6010}. Best is trial 0 with value: 61.03.\n"
     ]
    },
    {
     "name": "stdout",
     "output_type": "stream",
     "text": [
      "[100]\tvalid_0's ER: 66.6\n",
      "Early stopping, best iteration is:\n",
      "[1]\tvalid_0's ER: 66.6\n",
      "Evaluated only: ER\n",
      "**************** tweedie ****************\n",
      "Training until validation scores don't improve for 73 rounds\n"
     ]
    },
    {
     "name": "stderr",
     "output_type": "stream",
     "text": [
      "[I 2023-12-04 15:28:56,640] Trial 5 finished with value: 61.03 and parameters: {'lambda_l1': 706.6609164345424, 'lambda_l2': 695.5414953378996, 'learning_rate': 0.21040167591234743, 'num_leaves': 268, 'feature_fraction': 0.9134006072900556, 'min_data_in_leaf': 6561}. Best is trial 0 with value: 61.03.\n"
     ]
    },
    {
     "name": "stdout",
     "output_type": "stream",
     "text": [
      "Early stopping, best iteration is:\n",
      "[1]\tvalid_0's ER: 66.6\n",
      "Evaluated only: ER\n",
      "**************** tweedie ****************\n",
      "Training until validation scores don't improve for 374 rounds\n",
      "[100]\tvalid_0's ER: 66.6\n",
      "[200]\tvalid_0's ER: 66.6\n",
      "[300]\tvalid_0's ER: 66.6\n"
     ]
    },
    {
     "name": "stderr",
     "output_type": "stream",
     "text": [
      "[I 2023-12-04 15:28:58,345] Trial 6 finished with value: 61.03 and parameters: {'lambda_l1': 780.1967997406115, 'lambda_l2': 614.8630420308152, 'learning_rate': 0.015389403969178202, 'num_leaves': 582, 'feature_fraction': 0.9150981572197903, 'min_data_in_leaf': 5277}. Best is trial 0 with value: 61.03.\n"
     ]
    },
    {
     "name": "stdout",
     "output_type": "stream",
     "text": [
      "Early stopping, best iteration is:\n",
      "[1]\tvalid_0's ER: 66.6\n",
      "Evaluated only: ER\n",
      "**************** tweedie ****************\n",
      "Training until validation scores don't improve for 68 rounds\n"
     ]
    },
    {
     "name": "stderr",
     "output_type": "stream",
     "text": [
      "[I 2023-12-04 15:28:58,851] Trial 7 finished with value: 61.03 and parameters: {'lambda_l1': 534.3354532132003, 'lambda_l2': 691.9962661254293, 'learning_rate': 0.27464183910571355, 'num_leaves': 785, 'feature_fraction': 0.9528041938992864, 'min_data_in_leaf': 2965}. Best is trial 0 with value: 61.03.\n"
     ]
    },
    {
     "name": "stdout",
     "output_type": "stream",
     "text": [
      "Early stopping, best iteration is:\n",
      "[1]\tvalid_0's ER: 66.6\n",
      "Evaluated only: ER\n",
      "**************** tweedie ****************\n",
      "Training until validation scores don't improve for 114 rounds\n"
     ]
    },
    {
     "name": "stderr",
     "output_type": "stream",
     "text": [
      "[I 2023-12-04 15:28:59,545] Trial 8 finished with value: 61.03 and parameters: {'lambda_l1': 923.1846130453102, 'lambda_l2': 868.9585979348014, 'learning_rate': 0.07695687473591682, 'num_leaves': 110, 'feature_fraction': 0.5948883955627219, 'min_data_in_leaf': 6184}. Best is trial 0 with value: 61.03.\n"
     ]
    },
    {
     "name": "stdout",
     "output_type": "stream",
     "text": [
      "[100]\tvalid_0's ER: 66.6\n",
      "Early stopping, best iteration is:\n",
      "[1]\tvalid_0's ER: 66.6\n",
      "Evaluated only: ER\n",
      "**************** tweedie ****************\n",
      "Training until validation scores don't improve for 122 rounds\n"
     ]
    },
    {
     "name": "stderr",
     "output_type": "stream",
     "text": [
      "[I 2023-12-04 15:29:00,251] Trial 9 finished with value: 61.03 and parameters: {'lambda_l1': 44.93792813674746, 'lambda_l2': 590.4496952439472, 'learning_rate': 0.06879525175644356, 'num_leaves': 211, 'feature_fraction': 0.2958796742117283, 'min_data_in_leaf': 6676}. Best is trial 0 with value: 61.03.\n"
     ]
    },
    {
     "name": "stdout",
     "output_type": "stream",
     "text": [
      "[100]\tvalid_0's ER: 66.6\n",
      "Early stopping, best iteration is:\n",
      "[1]\tvalid_0's ER: 66.6\n",
      "Evaluated only: ER\n",
      "**************** tweedie ****************\n",
      "Training until validation scores don't improve for 79 rounds\n"
     ]
    },
    {
     "name": "stderr",
     "output_type": "stream",
     "text": [
      "[I 2023-12-04 15:29:00,891] Trial 10 finished with value: 61.03 and parameters: {'lambda_l1': 952.7180211893319, 'lambda_l2': 293.2454525480633, 'learning_rate': 0.17149859047106653, 'num_leaves': 375, 'feature_fraction': 0.7604738074346474, 'min_data_in_leaf': 473}. Best is trial 0 with value: 61.03.\n"
     ]
    },
    {
     "name": "stdout",
     "output_type": "stream",
     "text": [
      "Early stopping, best iteration is:\n",
      "[1]\tvalid_0's ER: 66.6\n",
      "Evaluated only: ER\n",
      "**************** tweedie ****************\n",
      "Training until validation scores don't improve for 66 rounds\n"
     ]
    },
    {
     "name": "stderr",
     "output_type": "stream",
     "text": [
      "[I 2023-12-04 15:29:01,411] Trial 11 finished with value: 61.03 and parameters: {'lambda_l1': 474.2938646661377, 'lambda_l2': 964.9349908849487, 'learning_rate': 0.29636923218520145, 'num_leaves': 17, 'feature_fraction': 0.46522496579502337, 'min_data_in_leaf': 4173}. Best is trial 0 with value: 61.03.\n"
     ]
    },
    {
     "name": "stdout",
     "output_type": "stream",
     "text": [
      "Early stopping, best iteration is:\n",
      "[1]\tvalid_0's ER: 66.6\n",
      "Evaluated only: ER\n",
      "**************** tweedie ****************\n",
      "Training until validation scores don't improve for 71 rounds\n"
     ]
    },
    {
     "name": "stderr",
     "output_type": "stream",
     "text": [
      "[I 2023-12-04 15:29:02,000] Trial 12 finished with value: 61.03 and parameters: {'lambda_l1': 589.629864768277, 'lambda_l2': 991.5375318927782, 'learning_rate': 0.2275291001685722, 'num_leaves': 372, 'feature_fraction': 0.7204667183319894, 'min_data_in_leaf': 452}. Best is trial 0 with value: 61.03.\n"
     ]
    },
    {
     "name": "stdout",
     "output_type": "stream",
     "text": [
      "Early stopping, best iteration is:\n",
      "[1]\tvalid_0's ER: 66.6\n",
      "Evaluated only: ER\n",
      "**************** tweedie ****************\n",
      "Training until validation scores don't improve for 260 rounds\n",
      "[100]\tvalid_0's ER: 66.6\n",
      "[200]\tvalid_0's ER: 66.6\n"
     ]
    },
    {
     "name": "stderr",
     "output_type": "stream",
     "text": [
      "[I 2023-12-04 15:29:03,270] Trial 13 finished with value: 61.03 and parameters: {'lambda_l1': 329.8129143206178, 'lambda_l2': 818.4763333788508, 'learning_rate': 0.023761413370250294, 'num_leaves': 170, 'feature_fraction': 0.6061854710890465, 'min_data_in_leaf': 7767}. Best is trial 0 with value: 61.03.\n"
     ]
    },
    {
     "name": "stdout",
     "output_type": "stream",
     "text": [
      "Early stopping, best iteration is:\n",
      "[1]\tvalid_0's ER: 66.6\n",
      "Evaluated only: ER\n",
      "**************** tweedie ****************\n",
      "Training until validation scores don't improve for 80 rounds\n"
     ]
    },
    {
     "name": "stderr",
     "output_type": "stream",
     "text": [
      "[I 2023-12-04 15:29:03,829] Trial 14 finished with value: 61.03 and parameters: {'lambda_l1': 813.4936758064584, 'lambda_l2': 835.2557607527685, 'learning_rate': 0.16245209239727545, 'num_leaves': 366, 'feature_fraction': 0.805214211576117, 'min_data_in_leaf': 2209}. Best is trial 0 with value: 61.03.\n"
     ]
    },
    {
     "name": "stdout",
     "output_type": "stream",
     "text": [
      "Early stopping, best iteration is:\n",
      "[1]\tvalid_0's ER: 66.6\n",
      "Evaluated only: ER\n",
      "**************** tweedie ****************\n",
      "Training until validation scores don't improve for 71 rounds\n"
     ]
    },
    {
     "name": "stderr",
     "output_type": "stream",
     "text": [
      "[I 2023-12-04 15:29:04,401] Trial 15 finished with value: 61.03 and parameters: {'lambda_l1': 648.7179039781007, 'lambda_l2': 424.10468643718104, 'learning_rate': 0.2334687842867109, 'num_leaves': 722, 'feature_fraction': 0.6253637167203581, 'min_data_in_leaf': 4162}. Best is trial 0 with value: 61.03.\n"
     ]
    },
    {
     "name": "stdout",
     "output_type": "stream",
     "text": [
      "Early stopping, best iteration is:\n",
      "[1]\tvalid_0's ER: 66.6\n",
      "Evaluated only: ER\n",
      "**************** tweedie ****************\n",
      "Training until validation scores don't improve for 77 rounds\n"
     ]
    },
    {
     "name": "stderr",
     "output_type": "stream",
     "text": [
      "[I 2023-12-04 15:29:04,981] Trial 16 finished with value: 61.03 and parameters: {'lambda_l1': 821.3616568216148, 'lambda_l2': 993.67110812338, 'learning_rate': 0.18287610541163152, 'num_leaves': 268, 'feature_fraction': 0.4014842734770704, 'min_data_in_leaf': 1678}. Best is trial 0 with value: 61.03.\n"
     ]
    },
    {
     "name": "stdout",
     "output_type": "stream",
     "text": [
      "Early stopping, best iteration is:\n",
      "[1]\tvalid_0's ER: 66.6\n",
      "Evaluated only: ER\n",
      "**************** tweedie ****************\n",
      "Training until validation scores don't improve for 69 rounds\n"
     ]
    },
    {
     "name": "stderr",
     "output_type": "stream",
     "text": [
      "[I 2023-12-04 15:29:05,511] Trial 17 finished with value: 61.03 and parameters: {'lambda_l1': 995.9836371141251, 'lambda_l2': 23.00022190393622, 'learning_rate': 0.25913491077855416, 'num_leaves': 134, 'feature_fraction': 0.22827834089110088, 'min_data_in_leaf': 5090}. Best is trial 0 with value: 61.03.\n"
     ]
    },
    {
     "name": "stdout",
     "output_type": "stream",
     "text": [
      "Early stopping, best iteration is:\n",
      "[1]\tvalid_0's ER: 66.6\n",
      "Evaluated only: ER\n",
      "**************** tweedie ****************\n",
      "Training until validation scores don't improve for 85 rounds\n"
     ]
    },
    {
     "name": "stderr",
     "output_type": "stream",
     "text": [
      "[I 2023-12-04 15:29:06,091] Trial 18 finished with value: 61.03 and parameters: {'lambda_l1': 851.1683704261512, 'lambda_l2': 784.1930871678043, 'learning_rate': 0.14175044366810163, 'num_leaves': 448, 'feature_fraction': 0.8188028781849002, 'min_data_in_leaf': 3403}. Best is trial 0 with value: 61.03.\n"
     ]
    },
    {
     "name": "stdout",
     "output_type": "stream",
     "text": [
      "Early stopping, best iteration is:\n",
      "[1]\tvalid_0's ER: 66.6\n",
      "Evaluated only: ER\n",
      "**************** tweedie ****************\n",
      "Training until validation scores don't improve for 75 rounds\n"
     ]
    },
    {
     "name": "stderr",
     "output_type": "stream",
     "text": [
      "[I 2023-12-04 15:29:06,601] Trial 19 finished with value: 61.03 and parameters: {'lambda_l1': 708.3967976784629, 'lambda_l2': 892.5161903970845, 'learning_rate': 0.19441339528438617, 'num_leaves': 61, 'feature_fraction': 0.6553117307924059, 'min_data_in_leaf': 1472}. Best is trial 0 with value: 61.03.\n"
     ]
    },
    {
     "name": "stdout",
     "output_type": "stream",
     "text": [
      "Early stopping, best iteration is:\n",
      "[1]\tvalid_0's ER: 66.6\n",
      "Evaluated only: ER\n",
      "# Experimentos: 20\n",
      "Mejor experimento: {'lambda_l1': 902.0707372788208, 'lambda_l2': 941.9465074344243, 'learning_rate': 0.023143242922156117, 'num_leaves': 139, 'feature_fraction': 0.7458636917101236, 'min_data_in_leaf': 5394}\n"
     ]
    },
    {
     "data": {
      "image/png": "[encoded data removed]",
      "text/plain": [
       "<Figure size 720x720 with 1 Axes>"
      ]
     },
     "metadata": {
      "needs_background": "light"
     },
     "output_type": "display_data"
    },
    {
     "name": "stdout",
     "output_type": "stream",
     "text": [
      "Error Holdout: 63.16\n"
     ]
    }
   ],
   "source": [
    "df_sellout = pd.read_csv(arch_entrada)\n",
    "\n",
    "### Antes de transformar, se guardan los y_validate y holdout originales (se van a usar en el vector global)\n",
    "# Esto se debe a que la \"destransformacion\" no siempre es perfecta, considerando productos que no estuvieron en train\n",
    "df_sellout_validate_orig = df_sellout[df_sellout.periodo==config.VALIDATE_PERIODO_PARAM]\n",
    "df_sellout_validate_orig = df_sellout_validate_orig.sort_values(by=\"prod_cust\",ascending=True)\n",
    "y_validate_orig = df_sellout_validate_orig.tn_mas_2_original\n",
    "print(\"<prod-cust> a validar:\", len(y_validate_orig))\n",
    "\n",
    "df_sellout_holdout_orig = df_sellout[df_sellout.periodo==config.HOLDOUT_PERIODO_PARAM]\n",
    "df_sellout_holdout_orig = df_sellout_holdout_orig.sort_values(by=\"prod_cust\",ascending=True)\n",
    "y_holdout_orig = df_sellout_holdout_orig.tn_mas_2_original\n",
    "print(\"<prod-cust> a testear:\", len(y_holdout_orig))\n",
    "\n",
    "df_sellout = df_sellout.drop(columns=[\"tn_mas_2_original\"])\n",
    "df_prod_cust_val1_val2 = leer_df_auxiliar_transf(config.TIPO_TRANSF_PARAM)\n",
    "\n",
    "### Categoricas\n",
    "#Transformo todas las categoricas\n",
    "categories = [\"plan_precios_cuidados\",\"cat1\",\"cat2\",\"cat3\",\"product_id\",\"customer_id\",\"prod_cust\",\"cero_ventas\"]\n",
    "\n",
    "for c in categories: \n",
    "    df_sellout[c] = df_sellout[c].astype(\"category\")   \n",
    "    \n",
    "### Se descartan variables no utiles para la prediccion\n",
    "df_sellout = df_sellout.drop(columns=[\"brand\",\"periodo_fecha\"])\n",
    "\n",
    "### Split de datasets\n",
    "df_train = df_sellout[(df_sellout.periodo <= config.TRAIN_PERIODO_LIMITE_PARAM) & (df_sellout.periodo >= config.PERIODO_INICIO_PARAM)]\n",
    "df_validate = df_sellout[df_sellout.periodo == config.VALIDATE_PERIODO_PARAM]\n",
    "\n",
    "df_train_all = df_sellout[(df_sellout.periodo <= config.TRAIN_ALL_PERIODO_LIMITE_PARAM) & (df_sellout.periodo >= config.PERIODO_INICIO_PARAM)]\n",
    "df_holdout = df_sellout[df_sellout.periodo == config.HOLDOUT_PERIODO_PARAM]\n",
    "\n",
    "df_validate = df_validate.sort_values(by=\"prod_cust\",ascending=True)\n",
    "print(\"<prod-cust> a validar:\", len(df_validate))\n",
    "\n",
    "df_holdout = df_holdout.sort_values(by=\"prod_cust\",ascending=True)\n",
    "print(\"<prod-cust> a testear:\", len(df_holdout))\n",
    "\n",
    "print(\"Periodos entrenar:\",df_train.periodo.unique())\n",
    "print(\"Periodos validar:\",df_validate.periodo.unique())\n",
    "print(\"Periodos entrenar ALL:\",df_train_all.periodo.unique())\n",
    "print(\"Periodos holdout:\",df_holdout.periodo.unique())\n",
    "\n",
    "### Armado variables entrenamiento\n",
    "\n",
    "cols_remover_entren = [\"tn_mas_2\",\"periodo\"] #,\"prod_cust\",\"customer_id\",\"product_id\"\n",
    "# Train - Validate\n",
    "X_train = df_train.drop(columns=cols_remover_entren, axis=1)\n",
    "X_validate = df_validate.drop(columns=cols_remover_entren, axis=1)\n",
    "\n",
    "y_train = df_train.tn_mas_2\n",
    "y_validate = df_validate.tn_mas_2\n",
    "\n",
    "# Train All - Holdout\n",
    "X_train_all = df_train_all.drop(columns=cols_remover_entren, axis=1)\n",
    "X_holdout = df_holdout.drop(columns=cols_remover_entren, axis=1)\n",
    "\n",
    "y_train_all = df_train_all.tn_mas_2\n",
    "y_holdout = df_holdout.tn_mas_2\n",
    "\n",
    "print(\"X_train:\", X_train.shape)\n",
    "print(\"y_train:\", y_train.shape)\n",
    "\n",
    "print(\"\\nX_validate:\", X_validate.shape)\n",
    "print(\"y_validate:\", y_validate.shape)\n",
    "\n",
    "print(\"\\nX_train_all:\", X_train_all.shape)\n",
    "print(\"y_train_all:\", y_train_all.shape)\n",
    "\n",
    "print(\"\\nX_holdout:\", X_holdout.shape)\n",
    "print(\"y_holdout:\", y_holdout.shape)\n",
    "\n",
    "cols = X_train.columns.tolist()\n",
    "\n",
    "### Optimizacion Bayesiana\n",
    "#Antes de entrenar, se setea vector global para validate\n",
    "GLOBAL_PROD_CUST_IDS = actualizar_global_prod_custs(df_validate.prod_cust, y_validate_orig)\n",
    "\n",
    "GLOBAL_PARAMS_ITER = []\n",
    "GLOBAL_BEST_IT_ITER = []\n",
    "GLOBAL_ER_VALIDATE_ITER = []\n",
    "GLOBAL_MODEL_ITER = []\n",
    "\n",
    "study = optuna.create_study(direction='minimize')\n",
    "study.optimize(objective, n_trials=config.CANT_ITERACIONES_OPT_BAY_PARAM)\n",
    "print('# Experimentos:', len(study.trials))\n",
    "print('Mejor experimento:', study.best_trial.params)\n",
    "\n",
    "best_model_index = study.best_trial.number\n",
    "best_model = GLOBAL_MODEL_ITER[best_model_index]\n",
    "plot_lgb_importances(best_model, num=30, plot=True)\n",
    "\n",
    "lgbtrain_all = lgb.Dataset(data=X_train_all, label=y_train_all, feature_name=cols)\n",
    "\n",
    "final_params = GLOBAL_PARAMS_ITER[best_model_index]\n",
    "final_best_iter = GLOBAL_BEST_IT_ITER[best_model_index]\n",
    "final_model = lgb.train(final_params, lgbtrain_all, num_boost_round=final_best_iter)\n",
    "\n",
    "GLOBAL_PROD_CUST_IDS = actualizar_global_prod_custs(df_holdout.prod_cust, y_holdout_orig)\n",
    "\n",
    "y_pred_holdout = final_model.predict(X_holdout)\n",
    "er_holdout = error_rate(y_holdout,y_pred_holdout)\n",
    "print(\"Error Holdout:\", er_holdout)\n",
    "\n",
    "prediction_with_prod_cust = pd.DataFrame(data={\"prod_cust\":X_holdout.prod_cust,\"actual_value\":y_holdout_orig,\"predicted_value\":y_pred_holdout})"
   ]
  },
  {
   "cell_type": "code",
   "execution_count": null,
   "id": "f77112b6-dc5c-4227-ac0f-0a4e3bab3943",
   "metadata": {},
   "outputs": [],
   "source": []
  }
 ],
 "metadata": {
  "kernelspec": {
   "display_name": "Python 3 (ipykernel)",
   "language": "python",
   "name": "python3"
  },
  "language_info": {
   "codemirror_mode": {
    "name": "ipython",
    "version": 3
   },
   "file_extension": ".py",
   "mimetype": "text/x-python",
   "name": "python",
   "nbconvert_exporter": "python",
   "pygments_lexer": "ipython3",
   "version": "3.10.12"
  }
 },
 "nbformat": 4,
 "nbformat_minor": 5
}
