{
 "cells": [
  {
   "cell_type": "code",
   "execution_count": 1,
   "id": "946a34f4-5c14-46cf-a39d-9794031463bb",
   "metadata": {},
   "outputs": [
    {
     "data": {
      "text/html": [
       "<style type='text/css'>\n",
       ".datatable table.frame { margin-bottom: 0; }\n",
       ".datatable table.frame thead { border-bottom: none; }\n",
       ".datatable table.frame tr.coltypes td {  color: #FFFFFF;  line-height: 6px;  padding: 0 0.5em;}\n",
       ".datatable .bool    { background: #DDDD99; }\n",
       ".datatable .object  { background: #565656; }\n",
       ".datatable .int     { background: #5D9E5D; }\n",
       ".datatable .float   { background: #4040CC; }\n",
       ".datatable .str     { background: #CC4040; }\n",
       ".datatable .time    { background: #40CC40; }\n",
       ".datatable .row_index {  background: var(--jp-border-color3);  border-right: 1px solid var(--jp-border-color0);  color: var(--jp-ui-font-color3);  font-size: 9px;}\n",
       ".datatable .frame tbody td { text-align: left; }\n",
       ".datatable .frame tr.coltypes .row_index {  background: var(--jp-border-color0);}\n",
       ".datatable th:nth-child(2) { padding-left: 12px; }\n",
       ".datatable .hellipsis {  color: var(--jp-cell-editor-border-color);}\n",
       ".datatable .vellipsis {  background: var(--jp-layout-color0);  color: var(--jp-cell-editor-border-color);}\n",
       ".datatable .na {  color: var(--jp-cell-editor-border-color);  font-size: 80%;}\n",
       ".datatable .sp {  opacity: 0.25;}\n",
       ".datatable .footer { font-size: 9px; }\n",
       ".datatable .frame_dimensions {  background: var(--jp-border-color3);  border-top: 1px solid var(--jp-border-color0);  color: var(--jp-ui-font-color3);  display: inline-block;  opacity: 0.6;  padding: 1px 10px 1px 5px;}\n",
       ".datatable .frame thead tr.colnames {  background-image: url('data:image/png;base64,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');  background-repeat: repeat-x;  background-size: 14px;  height: 28px;}\n",
       "</style>\n"
      ],
      "text/plain": [
       "<IPython.core.display.HTML object>"
      ]
     },
     "metadata": {},
     "output_type": "display_data"
    }
   ],
   "source": [
    "import os\n",
    "import lightgbm as lgb\n",
    "import pandas as pd\n",
    "import warnings\n",
    "from matplotlib import pyplot as plt\n",
    "import seaborn as sns\n",
    "import numpy as np\n",
    "import datetime\n",
    "import optuna\n",
    "import random\n",
    "\n",
    "pd.options.display.float_format = '{:.2f}'.format\n",
    "pd.set_option('display.max_columns', None)\n",
    "\n",
    "# Ignore all warnings\n",
    "warnings.filterwarnings(\"ignore\")"
   ]
  },
  {
   "cell_type": "code",
   "execution_count": 2,
   "id": "11ac74ea-68b7-46f2-83ba-a06c00f1e25c",
   "metadata": {},
   "outputs": [],
   "source": [
    "####################################################\n",
    "############# Setear segun cada maquina ############\n",
    "#os.chdir(\"C:/Users/herna/labo3_empresa3_repo/\")\n",
    "#os.chdir(\"C:/diego_tools/labo3/\")\n",
    "os.chdir(\"/home/dcastro_contacto/buckets/b1/\")\n",
    "####################################################"
   ]
  },
  {
   "cell_type": "code",
   "execution_count": 3,
   "id": "bd07d724-5b49-460f-b9cf-9fcb123f05d2",
   "metadata": {},
   "outputs": [],
   "source": [
    "experimento = \"exp/1/\""
   ]
  },
  {
   "cell_type": "code",
   "execution_count": 4,
   "id": "02238d29-8545-4363-b04a-f73d55495d00",
   "metadata": {},
   "outputs": [],
   "source": [
    "arch_train_prefijo = \"datasets/emp3_sellout_train_cluster_\"\n",
    "arch_min_max_prod = \"datasets/emp3_min_max_prod.csv\"\n",
    "arch_mean_std_prod = \"datasets/emp3_mean_std_prod.csv\"\n",
    "arch_prod_ids_prediccion = \"datasets/productos_a_predecir.csv\"\n",
    "arch_predicciones_full = experimento + \"emp3_lightgbm_prediccion_full.csv\"\n",
    "arch_predicciones_simple = experimento + \"emp3_lightgbm_prediccion.csv\""
   ]
  },
  {
   "cell_type": "code",
   "execution_count": 5,
   "id": "c5ab683a-6cae-484a-9f93-b25e2b2909e5",
   "metadata": {},
   "outputs": [],
   "source": [
    "tipos_transf = ['sin_transformacion', 'normalizacion', 'estandarizacion']\n",
    "GLOBAL_TRANSF = tipos_transf[0]\n",
    "CANT_ITERACIONES_OPT_BAY = 15\n",
    "CANT_SEMILLAS = 10\n",
    "CANT_CLUSTERS = 5\n",
    "MAX_BIN_PARAM=255\n",
    "#MAX_BIN_PARAM=1023\n",
    "\n",
    "GLOBAL_PROD_CUST_IDS = pd.DataFrame() #aca solamente se define, se setea mas abajo"
   ]
  },
  {
   "cell_type": "code",
   "execution_count": 6,
   "id": "1d24bb06-b54d-488d-9554-fbcb581dc3a2",
   "metadata": {},
   "outputs": [],
   "source": [
    "# Marco en train, holdout y descartar para considerarlo en las transformaciones\n",
    "periodo_inicio=201701 #inclusive\n",
    "train_periodo_limite = 201810 #inclusive\n",
    "validate_periodo = 201812\n",
    "train_all_periodo_limite = 201812 #inclusive\n",
    "holdout_periodo = 201902"
   ]
  },
  {
   "cell_type": "code",
   "execution_count": 7,
   "id": "30a58411-d6ca-4191-9ca1-7a7bc6ce103f",
   "metadata": {},
   "outputs": [],
   "source": [
    "########### NORMALIZACION\n",
    "def normalizar_valor(valor,minimo,maximo):\n",
    "    if np.isnan(minimo):\n",
    "        return valor #si no hay minimo, devuelvo valor original (no tener minimo significa que no habia datos en train)\n",
    "    else:\n",
    "        if (maximo-minimo)==0: \n",
    "            return 0\n",
    "        else:\n",
    "            return (valor - minimo) / (maximo-minimo)\n",
    "\n",
    "        \n",
    "def desnormalizar_valor(valor,minimo,maximo):\n",
    "    if np.isnan(minimo):\n",
    "        return valor #si no hay minimo, devuelvo valor original (no tener minimo significa que no habia datos en train)\n",
    "    else:\n",
    "        return (valor * (maximo-minimo)) + minimo\n",
    "\n",
    "def normalizar_tn(df_param):\n",
    "    #Calculo min max solamente sobre train (para evitar data leakage)\n",
    "    df_train = df_param[(df_param.periodo<=train_periodo_limite) & (df_param.periodo >= periodo_inicio)]\n",
    "    df_train = df_train[[\"product_id\",\"tn\"]]\n",
    "    \n",
    "    #Calculo min max por producto y lo guardo para poder revertir posteriormente\n",
    "    df_min_max_prod = df_train.groupby('product_id')['tn'].agg(['max', 'min']).reset_index()\n",
    "    df_min_max_prod = df_min_max_prod.rename(columns={\"min\":\"valor_1\",\"max\":\"valor_2\"})\n",
    "    df_min_max_prod.to_csv(arch_min_max_prod, index=False)\n",
    "        \n",
    "    df_ret = df_param.merge(df_min_max_prod,how=\"left\",on=\"product_id\") #puede haber productos que no aparezcan, por eso left\n",
    "    \n",
    "    # Selecciono columnas a normalizar\n",
    "    \n",
    "    # Me guardo la original para comparar\n",
    "    df_ret[\"tn_original\"]=df_ret.tn\n",
    "    \n",
    "    # Dropeo algunas (para evitar ruido)\n",
    "    cols_remover = [\"cust_request_tn\",\"dif_cust_request_tn\",\"cust_request_qty\"]\n",
    "    cols_remover.extend([col for col in df_ret.columns if \"cat1_\" in col])\n",
    "    cols_remover.extend([col for col in df_ret.columns if \"cat2_\" in col])\n",
    "    cols_remover.extend([col for col in df_ret.columns if \"cat3_\" in col])\n",
    "        \n",
    "    df_ret = df_ret.drop(columns=cols_remover)  \n",
    "    \n",
    "    # Normalizo tn, lags y deltas\n",
    "    lag_cols = [col for col in df_ret.columns if \"lag\" in col]\n",
    "    delta_cols = [col for col in df_ret.columns if \"delta\" in col]\n",
    "    cols_norm = [\"tn\",\"tn_mas_2\"]\n",
    "    cols_norm.extend(lag_cols)\n",
    "    cols_norm.extend(delta_cols)\n",
    "                    \n",
    "    for col_norm in cols_norm:\n",
    "        df_ret[col_norm] =df_ret.apply(lambda row: normalizar_valor(row[col_norm],row[\"valor_1\"],row[\"valor_2\"]),axis=1)\n",
    "    \n",
    "    return df_ret\n",
    "\n",
    "############# ESTANDARIZACION\n",
    "def estandarizar_valor(valor,media,desvio):\n",
    "    if np.isnan(media):\n",
    "        return valor #si no hay media, devuelvo valor original (no tener media significa que no habia datos en train)\n",
    "    else:\n",
    "        if desvio==0: \n",
    "            return 0\n",
    "        else:\n",
    "            return (valor - media) / desvio\n",
    "\n",
    "def desestandarizar_valor(valor,media,desvio):\n",
    "    if np.isnan(media):\n",
    "        return valor #si no hay media, devuelvo valor original (no tener media significa que no habia datos en train)\n",
    "    else:\n",
    "        return (valor * desvio) + media\n",
    "    \n",
    "def estandarizar_tn(df_param):\n",
    "    #Calculo min max solamente sobre train (para evitar data leakage)\n",
    "    df_train = df_param[(df_param.periodo<=train_periodo_limite) & (df_param.periodo >= periodo_inicio)]\n",
    "    df_train = df_train[[\"product_id\",\"tn\"]]\n",
    "    \n",
    "    #Calculo media y desvio por producto y lo guardo para poder revertir posteriormente\n",
    "    df_mean_std_prod = df_train.groupby('product_id')['tn'].agg(['mean', lambda x: np.std(x,ddof=0)]).reset_index() #se usa ddof=0 para evitar NaN cuando hay un solo producto\n",
    "    df_mean_std_prod.columns = [\"product_id\",'valor_1', 'valor_2']\n",
    "    df_mean_std_prod.to_csv(arch_mean_std_prod, index=False)\n",
    "        \n",
    "    df_ret = df_param.merge(df_mean_std_prod,how=\"left\",on=\"product_id\")\n",
    "    \n",
    "    # Selecciono columnas a estandarizar\n",
    "    \n",
    "    # Me guardo la original para comparar\n",
    "    df_ret[\"tn_original\"]=df_ret.tn\n",
    "    \n",
    "    # Dropeo algunas (para evitar ruido)\n",
    "    cols_remover = [\"cust_request_tn\",\"dif_cust_request_tn\",\"cust_request_qty\"]\n",
    "    cols_remover.extend([col for col in df_ret.columns if \"cat1_\" in col])\n",
    "    cols_remover.extend([col for col in df_ret.columns if \"cat2_\" in col])\n",
    "    cols_remover.extend([col for col in df_ret.columns if \"cat3_\" in col])\n",
    "        \n",
    "    df_ret = df_ret.drop(columns=cols_remover)  \n",
    "    \n",
    "    # Estandarizo tn, lags y deltas\n",
    "    lag_cols = [col for col in df_ret.columns if \"lag\" in col]\n",
    "    delta_cols = [col for col in df_ret.columns if \"delta\" in col]\n",
    "    cols_norm = [\"tn\",\"tn_mas_2\"]\n",
    "    cols_norm.extend(lag_cols)\n",
    "    cols_norm.extend(delta_cols)\n",
    "                    \n",
    "    for col_norm in cols_norm:\n",
    "        df_ret[col_norm] =df_ret.apply(lambda row: estandarizar_valor(row[col_norm],row[\"valor_1\"],row[\"valor_2\"]),axis=1)\n",
    "    \n",
    "    return df_ret\n",
    "\n",
    "################### TRANSFORMACION    \n",
    "def transformar_valor(valor,var1,var2):\n",
    "    if GLOBAL_TRANSF==\"normalizacion\":\n",
    "        return normalizar_valor(valor,var1,var2)\n",
    "    elif GLOBAL_TRANSF==\"estandarizacion\":\n",
    "        return estandarizar_valor(valor,var1,var2)\n",
    "    else:\n",
    "        return valor\n",
    "\n",
    "def destransformar_valor(valor,var1,var2):\n",
    "    if GLOBAL_TRANSF==\"normalizacion\":\n",
    "        return desnormalizar_valor(valor,var1,var2)\n",
    "    elif GLOBAL_TRANSF==\"estandarizacion\":\n",
    "        return desestandarizar_valor(valor,var1,var2)\n",
    "    else:\n",
    "        return valor\n",
    "\n",
    "def graficar_ejemplo_transformacion(df_param):\n",
    "    df_param = df_param[df_param.product_id==20001]\n",
    "    \n",
    "    plt.plot(df_param.tn_original)\n",
    "    plt.title(\"Original\")\n",
    "    plt.show()\n",
    "    \n",
    "    plt.plot(df_param.tn)\n",
    "    plt.title(\"Transformado\")\n",
    "    plt.show()"
   ]
  },
  {
   "cell_type": "code",
   "execution_count": 8,
   "id": "7ae67cc4-1b65-4db3-ac50-c3bee7baa976",
   "metadata": {},
   "outputs": [],
   "source": [
    "def semillerio(lgbtrain_all, lgb_params, best_iteration, X_holdout, y_holdout):\n",
    "    er_holdout_list = []\n",
    "    y_pred_holdout_list = []\n",
    "\n",
    "    for i in range(0,CANT_SEMILLAS):\n",
    "        seed = random.randint(1,99999999999999)\n",
    "        lgb_params_new = {**lgb_params, **{\"seed\":seed}}\n",
    "\n",
    "        final_model = lgb.train(lgb_params_new, lgbtrain_all, num_boost_round=best_iteration)\n",
    "\n",
    "        y_pred_holdout = final_model.predict(X_holdout)\n",
    "        er_holdout = error_rate(y_holdout,y_pred_holdout)\n",
    "\n",
    "        y_pred_holdout_list.append(y_pred_holdout)\n",
    "        er_holdout_list.append(er_holdout)\n",
    "\n",
    "    #min(er_holdout_list),max(er_holdout_list),round(np.mean(er_holdout_list),2),round(np.median(er_holdout_list),2), round(np.std(er_holdout_list),2)\n",
    "    y_pred_holdout_semillerio = np.sum(y_pred_holdout_list,axis=0)/CANT_SEMILLAS\n",
    "    er_holdout_semillerio = error_rate(y_holdout,y_pred_holdout_semillerio)\n",
    "    return er_holdout_semillerio"
   ]
  },
  {
   "cell_type": "code",
   "execution_count": 9,
   "id": "e6ec34c5-543c-45d7-b3a9-4033642029e3",
   "metadata": {},
   "outputs": [],
   "source": [
    "############ DEFINO Vector Global de Productos #################\n",
    "def actualizar_global_prod_custs(prod_cust_values, y_vector):\n",
    "    # Ademas del id y los valores para \"destransformar\", se deja el tn original porque la destransformacion puede no ser\n",
    "    # precisa para <productos,cliente> que no estaban en train\n",
    "    GLOBAL_PROD_CUST_IDS = pd.DataFrame(data={\"prod_cust\":prod_cust_values, \"tn_orig\":np.array(y_vector)})\n",
    "    GLOBAL_PROD_CUST_IDS = GLOBAL_PROD_CUST_IDS.merge(df_prod_cust_val1_val2,how=\"left\",on=\"prod_cust\")\n",
    "    GLOBAL_PROD_CUST_IDS = GLOBAL_PROD_CUST_IDS.sort_values(by=\"prod_cust\",ascending=True)\n",
    "    \n",
    "    return GLOBAL_PROD_CUST_IDS"
   ]
  },
  {
   "cell_type": "code",
   "execution_count": 10,
   "id": "547b30c6-7d6b-4c08-872b-6a88a987b237",
   "metadata": {},
   "outputs": [],
   "source": [
    "def error_rate(y, y_pred):\n",
    "    y_pred = np.array(y_pred)\n",
    "    \n",
    "    #Solamente destransformo la prediccion (para el y tomo el original de la columna tn_orig)\n",
    "    df_calculo = GLOBAL_PROD_CUST_IDS.copy()\n",
    "    df_calculo[\"y_pred\"] = y_pred\n",
    "    df_calculo[\"y_pred_destransformado\"]=df_calculo.apply(lambda row: destransformar_valor(row[\"y_pred\"],row[\"valor_1\"],row[\"valor_2\"]),axis=1)\n",
    "\n",
    "    y = df_calculo.tn_orig\n",
    "    y_pred = df_calculo.y_pred_destransformado\n",
    "    \n",
    "    #Las predicciones negativas se convierten a 0\n",
    "    y_pred = np.maximum(y_pred, 0)\n",
    "    \n",
    "    dif_abs = sum(abs(y - y_pred))\n",
    "    suma_real = sum(y)\n",
    "    return round(100*dif_abs/suma_real,2)\n",
    "\n",
    "def lgbm_error_rate(preds, train_data):\n",
    "    labels = train_data.get_label()\n",
    "    ret_val = error_rate(labels,preds)\n",
    "    return 'ER', ret_val, False"
   ]
  },
  {
   "cell_type": "code",
   "execution_count": 11,
   "id": "0fd18870-d967-4531-93c6-c6d3be773b76",
   "metadata": {},
   "outputs": [],
   "source": [
    "def destransformar_vector(y_vector):\n",
    "    df_calculo = GLOBAL_PROD_CUST_IDS.copy()\n",
    "    df_calculo[\"y\"] = y_vector\n",
    "    df_calculo[\"y_destransformado\"]=df_calculo.apply(lambda row: destransformar_valor(row[\"y\"],row[\"valor_1\"],row[\"valor_2\"]),axis=1)\n",
    "\n",
    "    return df_calculo.y_destransformado"
   ]
  },
  {
   "cell_type": "code",
   "execution_count": 12,
   "id": "8934c106-c110-4264-9b51-aca4daf277e0",
   "metadata": {},
   "outputs": [],
   "source": [
    "def plot_lgb_importances(model, plot=False, num=10):\n",
    "    gain = model.feature_importance('gain')\n",
    "    feat_imp = pd.DataFrame({'feature': model.feature_name(),\n",
    "                             'split': model.feature_importance('split'),\n",
    "                             'gain': 100 * gain / gain.sum()}).sort_values('gain', ascending=False)\n",
    "    if plot:\n",
    "        plt.figure(figsize=(10, 10))\n",
    "        sns.set(font_scale=1)\n",
    "        sns.barplot(x=\"gain\", y=\"feature\", data=feat_imp[0:25])\n",
    "        plt.title('feature')\n",
    "        plt.tight_layout()\n",
    "        plt.show(block=True)\n",
    "    else:\n",
    "        print(feat_imp.head(num))\n",
    "    return feat_imp"
   ]
  },
  {
   "cell_type": "code",
   "execution_count": 13,
   "id": "fcc3b371-807e-45c2-954d-3e720b30ede9",
   "metadata": {},
   "outputs": [],
   "source": [
    "def objective(trial):\n",
    "\n",
    "    lgb_params = {\n",
    "        'objective': 'regression', \n",
    "        'first_metric_only': True,\n",
    "        'boost_from_average': True,\n",
    "        'max_depth':-1,\n",
    "        'lambda_l1': 0.0,\n",
    "        'lambda_l2': 0.0,\n",
    "        'min_gain_to_split':0.0,\n",
    "        'force_row_wise':True,\n",
    "        'feature_pre_filter':False,\n",
    "        'metric': \"None\",\n",
    "        'max_bin': MAX_BIN_PARAM,\n",
    "        'learning_rate': trial.suggest_categorical('learning_rate', [0.01,0.05,0.1,0.2,0.5,0.9]),\n",
    "        'num_leaves' : trial.suggest_int('num_leaves', 1, 1000),\n",
    "        'feature_fraction': trial.suggest_categorical('feature_fraction', [0.3,0.4,0.5,0.6,0.7,0.8,0.9, 1.0]),\n",
    "        'min_data_in_leaf': trial.suggest_int('min_data_in_leaf', 1, 100),\n",
    "        'bagging_freq':trial.suggest_int('bagging_freq', 1, 10),\n",
    "        'bagging_fraction': trial.suggest_categorical('bagging_fraction',[0.7,0.75,0.8,0.85,0.9,0.95]),\n",
    "        'extra_trees':trial.suggest_categorical('extra_trees',[True,False]),\n",
    "        'verbose':-100,\n",
    "        'num_threads':-1\n",
    "    }\n",
    "    \n",
    "    lgb_params_num_boost_round = 10000  #un numero muy grande, lo limita early_stopping_rounds\n",
    "    lgb_params_early_stopping_rounds = int(50 + 5/lgb_params['learning_rate']) #  #el parametro discolo, que depende de otro\n",
    "    \n",
    "    lgb_train = lgb.Dataset(data=X_train, label=y_train, feature_name=cols)\n",
    "    lgb_validate = lgb.Dataset(data=X_validate, label=y_validate, reference=lgb_train, feature_name=cols)\n",
    "    \n",
    "    #Train using selected parameters\n",
    "    model = lgb.train(lgb_params, lgb_train,\n",
    "                  valid_sets=[lgb_validate],\n",
    "                  num_boost_round=lgb_params_num_boost_round,\n",
    "                  early_stopping_rounds=lgb_params_early_stopping_rounds,\n",
    "                  feval=lgbm_error_rate,\n",
    "                  verbose_eval=100)\n",
    "    \n",
    "    y_pred_validate =model.predict(X_validate) #Create predictions on test set\n",
    "    er_validate = error_rate(y_validate,y_pred_validate)\n",
    "    \n",
    "    GLOBAL_PARAMS_ITER.append(lgb_params)\n",
    "    GLOBAL_BEST_IT_ITER.append(model.best_iteration)\n",
    "    GLOBAL_ER_VALIDATE_ITER.append(er_validate)\n",
    "    GLOBAL_MODEL_ITER.append(model)\n",
    "    \n",
    "    return er_validate"
   ]
  },
  {
   "cell_type": "code",
   "execution_count": 14,
   "id": "53ccdb1f-2f93-4bb9-9f57-9bdf50c4251f",
   "metadata": {},
   "outputs": [],
   "source": [
    "##############################################"
   ]
  },
  {
   "cell_type": "code",
   "execution_count": 18,
   "id": "5f866703-ece7-4986-93aa-84b957781f3f",
   "metadata": {},
   "outputs": [
    {
     "name": "stderr",
     "output_type": "stream",
     "text": [
      "[I 2023-12-03 13:02:16,459] A new study created in memory with name: no-name-f3988fe7-0aab-406e-bdd9-702f72c0bf66\n"
     ]
    },
    {
     "name": "stdout",
     "output_type": "stream",
     "text": [
      "Cluster: 0\n",
      "<prod-cust> a validar: 108\n",
      "<prod-cust> a testear: 120\n",
      "\n",
      "Sin Transformacion\n",
      "<prod-cust> a validar: 108\n",
      "<prod-cust> a testear: 120\n",
      "Periodos entrenar: [201701 201702 201703 201704 201705 201706 201707 201708 201709 201710\n",
      " 201711 201712 201801 201802 201803 201804 201805 201806 201807 201808\n",
      " 201809 201810]\n",
      "Periodos validar: [201812]\n",
      "Periodos entrenar ALL: [201701 201702 201703 201704 201705 201706 201707 201708 201709 201710\n",
      " 201711 201712 201801 201802 201803 201804 201805 201806 201807 201808\n",
      " 201809 201810 201811 201812]\n",
      "Periodos holdout: [201902]\n",
      "X_train: (2376, 31)\n",
      "y_train: (2376,)\n",
      "\n",
      "X_validate: (108, 31)\n",
      "y_validate: (108,)\n",
      "\n",
      "X_train_all: (2592, 31)\n",
      "y_train_all: (2592,)\n",
      "\n",
      "X_holdout: (120, 31)\n",
      "y_holdout: (120,)\n",
      "Training until validation scores don't improve for 550 rounds\n",
      "[100]\tvalid_0's ER: 64.03\n",
      "[200]\tvalid_0's ER: 51.32\n",
      "[300]\tvalid_0's ER: 46.75\n",
      "[400]\tvalid_0's ER: 46.68\n",
      "[500]\tvalid_0's ER: 47.16\n",
      "[600]\tvalid_0's ER: 47.58\n",
      "[700]\tvalid_0's ER: 47.9\n",
      "[800]\tvalid_0's ER: 48.28\n"
     ]
    },
    {
     "name": "stderr",
     "output_type": "stream",
     "text": [
      "[I 2023-12-03 13:02:21,000] Trial 0 finished with value: 46.47 and parameters: {'learning_rate': 0.01, 'num_leaves': 744, 'feature_fraction': 0.6, 'min_data_in_leaf': 68, 'bagging_freq': 4, 'bagging_fraction': 0.95, 'extra_trees': False}. Best is trial 0 with value: 46.47.\n"
     ]
    },
    {
     "name": "stdout",
     "output_type": "stream",
     "text": [
      "Early stopping, best iteration is:\n",
      "[329]\tvalid_0's ER: 46.47\n",
      "Evaluated only: ER\n",
      "Training until validation scores don't improve for 75 rounds\n"
     ]
    },
    {
     "name": "stderr",
     "output_type": "stream",
     "text": [
      "[I 2023-12-03 13:02:21,519] Trial 1 finished with value: 45.95 and parameters: {'learning_rate': 0.2, 'num_leaves': 151, 'feature_fraction': 0.5, 'min_data_in_leaf': 66, 'bagging_freq': 10, 'bagging_fraction': 0.7, 'extra_trees': False}. Best is trial 1 with value: 45.95.\n"
     ]
    },
    {
     "name": "stdout",
     "output_type": "stream",
     "text": [
      "[100]\tvalid_0's ER: 51.61\n",
      "Early stopping, best iteration is:\n",
      "[34]\tvalid_0's ER: 45.95\n",
      "Evaluated only: ER\n",
      "Training until validation scores don't improve for 60 rounds\n"
     ]
    },
    {
     "name": "stderr",
     "output_type": "stream",
     "text": [
      "[I 2023-12-03 13:02:21,941] Trial 2 finished with value: 43.89 and parameters: {'learning_rate': 0.5, 'num_leaves': 83, 'feature_fraction': 0.8, 'min_data_in_leaf': 34, 'bagging_freq': 5, 'bagging_fraction': 0.9, 'extra_trees': False}. Best is trial 2 with value: 43.89.\n"
     ]
    },
    {
     "name": "stdout",
     "output_type": "stream",
     "text": [
      "Early stopping, best iteration is:\n",
      "[9]\tvalid_0's ER: 43.89\n",
      "Evaluated only: ER\n",
      "Training until validation scores don't improve for 60 rounds\n"
     ]
    },
    {
     "name": "stderr",
     "output_type": "stream",
     "text": [
      "[I 2023-12-03 13:02:22,275] Trial 3 finished with value: 49.16 and parameters: {'learning_rate': 0.5, 'num_leaves': 70, 'feature_fraction': 0.6, 'min_data_in_leaf': 92, 'bagging_freq': 5, 'bagging_fraction': 0.95, 'extra_trees': False}. Best is trial 2 with value: 43.89.\n"
     ]
    },
    {
     "name": "stdout",
     "output_type": "stream",
     "text": [
      "Early stopping, best iteration is:\n",
      "[5]\tvalid_0's ER: 49.16\n",
      "Evaluated only: ER\n",
      "Training until validation scores don't improve for 75 rounds\n",
      "[100]\tvalid_0's ER: 59.56\n"
     ]
    },
    {
     "name": "stderr",
     "output_type": "stream",
     "text": [
      "[I 2023-12-03 13:02:23,016] Trial 4 finished with value: 57.05 and parameters: {'learning_rate': 0.2, 'num_leaves': 747, 'feature_fraction': 0.3, 'min_data_in_leaf': 31, 'bagging_freq': 10, 'bagging_fraction': 0.8, 'extra_trees': True}. Best is trial 2 with value: 43.89.\n"
     ]
    },
    {
     "name": "stdout",
     "output_type": "stream",
     "text": [
      "Early stopping, best iteration is:\n",
      "[72]\tvalid_0's ER: 57.05\n",
      "Evaluated only: ER\n",
      "Training until validation scores don't improve for 550 rounds\n",
      "[100]\tvalid_0's ER: 62.01\n",
      "[200]\tvalid_0's ER: 50.56\n",
      "[300]\tvalid_0's ER: 47.03\n",
      "[400]\tvalid_0's ER: 46.14\n",
      "[500]\tvalid_0's ER: 45.66\n",
      "[600]\tvalid_0's ER: 45.92\n",
      "[700]\tvalid_0's ER: 46.33\n",
      "[800]\tvalid_0's ER: 46.47\n",
      "[900]\tvalid_0's ER: 46.64\n",
      "[1000]\tvalid_0's ER: 46.86\n"
     ]
    },
    {
     "name": "stderr",
     "output_type": "stream",
     "text": [
      "[I 2023-12-03 13:02:29,937] Trial 5 finished with value: 45.56 and parameters: {'learning_rate': 0.01, 'num_leaves': 962, 'feature_fraction': 0.4, 'min_data_in_leaf': 25, 'bagging_freq': 9, 'bagging_fraction': 0.9, 'extra_trees': False}. Best is trial 2 with value: 43.89.\n"
     ]
    },
    {
     "name": "stdout",
     "output_type": "stream",
     "text": [
      "Early stopping, best iteration is:\n",
      "[526]\tvalid_0's ER: 45.56\n",
      "Evaluated only: ER\n",
      "Training until validation scores don't improve for 100 rounds\n",
      "[100]\tvalid_0's ER: 51.46\n",
      "Early stopping, best iteration is:\n",
      "[39]\tvalid_0's ER: 47.72\n",
      "Evaluated only: ER\n"
     ]
    },
    {
     "name": "stderr",
     "output_type": "stream",
     "text": [
      "[I 2023-12-03 13:02:30,654] Trial 6 finished with value: 47.72 and parameters: {'learning_rate': 0.1, 'num_leaves': 700, 'feature_fraction': 0.3, 'min_data_in_leaf': 46, 'bagging_freq': 5, 'bagging_fraction': 0.8, 'extra_trees': False}. Best is trial 2 with value: 43.89.\n"
     ]
    },
    {
     "name": "stdout",
     "output_type": "stream",
     "text": [
      "Training until validation scores don't improve for 75 rounds\n",
      "[100]\tvalid_0's ER: 52.89\n"
     ]
    },
    {
     "name": "stderr",
     "output_type": "stream",
     "text": [
      "[I 2023-12-03 13:02:31,470] Trial 7 finished with value: 51.58 and parameters: {'learning_rate': 0.2, 'num_leaves': 458, 'feature_fraction': 0.4, 'min_data_in_leaf': 94, 'bagging_freq': 7, 'bagging_fraction': 0.7, 'extra_trees': True}. Best is trial 2 with value: 43.89.\n"
     ]
    },
    {
     "name": "stdout",
     "output_type": "stream",
     "text": [
      "Early stopping, best iteration is:\n",
      "[115]\tvalid_0's ER: 51.58\n",
      "Evaluated only: ER\n",
      "Training until validation scores don't improve for 550 rounds\n",
      "[100]\tvalid_0's ER: 69.19\n",
      "[200]\tvalid_0's ER: 57.9\n",
      "[300]\tvalid_0's ER: 53.58\n",
      "[400]\tvalid_0's ER: 52.34\n",
      "[500]\tvalid_0's ER: 51.65\n",
      "[600]\tvalid_0's ER: 50.92\n",
      "[700]\tvalid_0's ER: 50.3\n",
      "[800]\tvalid_0's ER: 49.75\n",
      "[900]\tvalid_0's ER: 49.58\n",
      "[1000]\tvalid_0's ER: 49.34\n",
      "[1100]\tvalid_0's ER: 49.34\n",
      "[1200]\tvalid_0's ER: 49.28\n",
      "[1300]\tvalid_0's ER: 49.41\n",
      "[1400]\tvalid_0's ER: 49.69\n",
      "[1500]\tvalid_0's ER: 49.54\n",
      "[1600]\tvalid_0's ER: 49.36\n",
      "[1700]\tvalid_0's ER: 49.28\n",
      "Early stopping, best iteration is:\n",
      "[1176]\tvalid_0's ER: 49.2\n",
      "Evaluated only: ER\n"
     ]
    },
    {
     "name": "stderr",
     "output_type": "stream",
     "text": [
      "[I 2023-12-03 13:02:40,272] Trial 8 finished with value: 49.2 and parameters: {'learning_rate': 0.01, 'num_leaves': 554, 'feature_fraction': 0.8, 'min_data_in_leaf': 40, 'bagging_freq': 6, 'bagging_fraction': 0.8, 'extra_trees': True}. Best is trial 2 with value: 43.89.\n"
     ]
    },
    {
     "name": "stdout",
     "output_type": "stream",
     "text": [
      "Training until validation scores don't improve for 550 rounds\n",
      "[100]\tvalid_0's ER: 61.86\n",
      "[200]\tvalid_0's ER: 50.28\n",
      "[300]\tvalid_0's ER: 46.28\n",
      "[400]\tvalid_0's ER: 46.52\n",
      "[500]\tvalid_0's ER: 46.66\n",
      "[600]\tvalid_0's ER: 47.6\n",
      "[700]\tvalid_0's ER: 47.16\n",
      "[800]\tvalid_0's ER: 47.88\n"
     ]
    },
    {
     "name": "stderr",
     "output_type": "stream",
     "text": [
      "[I 2023-12-03 13:02:44,525] Trial 9 finished with value: 46.23 and parameters: {'learning_rate': 0.01, 'num_leaves': 835, 'feature_fraction': 1.0, 'min_data_in_leaf': 66, 'bagging_freq': 4, 'bagging_fraction': 0.8, 'extra_trees': False}. Best is trial 2 with value: 43.89.\n"
     ]
    },
    {
     "name": "stdout",
     "output_type": "stream",
     "text": [
      "Early stopping, best iteration is:\n",
      "[304]\tvalid_0's ER: 46.23\n",
      "Evaluated only: ER\n",
      "Training until validation scores don't improve for 150 rounds\n",
      "[100]\tvalid_0's ER: 52.14\n",
      "[200]\tvalid_0's ER: 52.31\n"
     ]
    },
    {
     "name": "stderr",
     "output_type": "stream",
     "text": [
      "[I 2023-12-03 13:02:47,451] Trial 10 finished with value: 51.94 and parameters: {'learning_rate': 0.05, 'num_leaves': 289, 'feature_fraction': 0.9, 'min_data_in_leaf': 6, 'bagging_freq': 1, 'bagging_fraction': 0.9, 'extra_trees': True}. Best is trial 2 with value: 43.89.\n"
     ]
    },
    {
     "name": "stdout",
     "output_type": "stream",
     "text": [
      "Early stopping, best iteration is:\n",
      "[125]\tvalid_0's ER: 51.94\n",
      "Evaluated only: ER\n",
      "Training until validation scores don't improve for 55 rounds\n"
     ]
    },
    {
     "name": "stderr",
     "output_type": "stream",
     "text": [
      "[I 2023-12-03 13:02:47,937] Trial 11 finished with value: 53.46 and parameters: {'learning_rate': 0.9, 'num_leaves': 985, 'feature_fraction': 0.8, 'min_data_in_leaf': 19, 'bagging_freq': 8, 'bagging_fraction': 0.9, 'extra_trees': False}. Best is trial 2 with value: 43.89.\n"
     ]
    },
    {
     "name": "stdout",
     "output_type": "stream",
     "text": [
      "Early stopping, best iteration is:\n",
      "[1]\tvalid_0's ER: 53.46\n",
      "Evaluated only: ER\n",
      "Training until validation scores don't improve for 60 rounds\n"
     ]
    },
    {
     "name": "stderr",
     "output_type": "stream",
     "text": [
      "[I 2023-12-03 13:02:48,519] Trial 12 finished with value: 54.67 and parameters: {'learning_rate': 0.5, 'num_leaves': 337, 'feature_fraction': 0.4, 'min_data_in_leaf': 22, 'bagging_freq': 8, 'bagging_fraction': 0.9, 'extra_trees': False}. Best is trial 2 with value: 43.89.\n"
     ]
    },
    {
     "name": "stdout",
     "output_type": "stream",
     "text": [
      "Early stopping, best iteration is:\n",
      "[25]\tvalid_0's ER: 54.67\n",
      "Evaluated only: ER\n",
      "Training until validation scores don't improve for 60 rounds\n"
     ]
    },
    {
     "name": "stderr",
     "output_type": "stream",
     "text": [
      "[I 2023-12-03 13:02:49,339] Trial 13 finished with value: 52.72 and parameters: {'learning_rate': 0.5, 'num_leaves': 959, 'feature_fraction': 0.7, 'min_data_in_leaf': 8, 'bagging_freq': 2, 'bagging_fraction': 0.85, 'extra_trees': False}. Best is trial 2 with value: 43.89.\n"
     ]
    },
    {
     "name": "stdout",
     "output_type": "stream",
     "text": [
      "Early stopping, best iteration is:\n",
      "[6]\tvalid_0's ER: 52.72\n",
      "Evaluated only: ER\n",
      "Training until validation scores don't improve for 150 rounds\n",
      "[100]\tvalid_0's ER: 46.8\n",
      "[200]\tvalid_0's ER: 48.33\n"
     ]
    },
    {
     "name": "stderr",
     "output_type": "stream",
     "text": [
      "[I 2023-12-03 13:02:50,829] Trial 14 finished with value: 46.3 and parameters: {'learning_rate': 0.05, 'num_leaves': 532, 'feature_fraction': 0.8, 'min_data_in_leaf': 32, 'bagging_freq': 8, 'bagging_fraction': 0.75, 'extra_trees': False}. Best is trial 2 with value: 43.89.\n"
     ]
    },
    {
     "name": "stdout",
     "output_type": "stream",
     "text": [
      "Early stopping, best iteration is:\n",
      "[104]\tvalid_0's ER: 46.3\n",
      "Evaluated only: ER\n",
      "# Experimentos: 15\n",
      "Mejor experimento: {'learning_rate': 0.5, 'num_leaves': 83, 'feature_fraction': 0.8, 'min_data_in_leaf': 34, 'bagging_freq': 5, 'bagging_fraction': 0.9, 'extra_trees': False}\n"
     ]
    },
    {
     "data": {
      "image/png": "[encoded data removed]",
      "text/plain": [
       "<Figure size 720x720 with 1 Axes>"
      ]
     },
     "metadata": {},
     "output_type": "display_data"
    },
    {
     "name": "stdout",
     "output_type": "stream",
     "text": [
      "Error Holdout: 60.22\n"
     ]
    }
   ],
   "source": [
    "clusters_final_models = []\n",
    "clusters_er_holdout = []\n",
    "clusters_predictions = []\n",
    "clusters_final_params = []\n",
    "clusters_final_best_iter = []\n",
    "\n",
    "########################\n",
    "CANT_CLUSTERS = 0\n",
    "########################\n",
    "\n",
    "for cluster_iter in range(0,CANT_CLUSTERS+1):\n",
    "    print(\"Cluster:\",cluster_iter)\n",
    "    \n",
    "    ### Se levanta el dataset de cada cluster\n",
    "    df_sellout = pd.read_csv(arch_train_prefijo + str(cluster_iter) + \".csv\")\n",
    "\n",
    "    ### Antes de transformar, se guardan los y_validate y holdout originales (se van a usar en el vector global)\n",
    "    # Esto se debe a que la \"destransformacion\" no siempre es perfecta, considerando productos que no estuvieron en train\n",
    "    df_sellout_validate_orig = df_sellout[df_sellout.periodo==validate_periodo]\n",
    "    df_sellout_validate_orig = df_sellout_validate_orig.sort_values(by=\"prod_cust\",ascending=True)\n",
    "    y_validate_orig = df_sellout_validate_orig.tn_mas_2\n",
    "    print(\"<prod-cust> a validar:\", len(y_validate_orig))\n",
    "    \n",
    "    df_sellout_holdout_orig = df_sellout[df_sellout.periodo==holdout_periodo]\n",
    "    df_sellout_holdout_orig = df_sellout_holdout_orig.sort_values(by=\"prod_cust\",ascending=True)\n",
    "    y_holdout_orig = df_sellout_holdout_orig.tn_mas_2\n",
    "    print(\"<prod-cust> a testear:\", len(y_holdout_orig))\n",
    "\n",
    "    ### Transformacion\n",
    "    if GLOBAL_TRANSF == \"sin_transformacion\":\n",
    "        print(\"\\nSin Transformacion\")\n",
    "             \n",
    "        df_sellout_transf = df_sellout\n",
    "            \n",
    "        df_prod_cust_val1_val2 = pd.DataFrame(data={\"prod_cust\":df_sellout.prod_cust.unique()})\n",
    "        df_prod_cust_val1_val2[\"valor_1\"]=0\n",
    "        df_prod_cust_val1_val2[\"valor_2\"]=0\n",
    "        \n",
    "#    elif GLOBAL_TRANSF == \"normalizacion\":\n",
    "#        print(\"Normalizacion\")\n",
    "#        print(len(df_sellout))\n",
    "#        df_sellout_transf = normalizar_tn(df_sellout)\n",
    "#        print(len(df_sellout_transf))\n",
    "    \n",
    "#        graficar_ejemplo_transformacion(df_sellout_transf)\n",
    "#        df_sellout_transf = df_sellout_transf.drop(columns=[\"tn_original\",\"valor_1\",\"valor_2\"])\n",
    "        \n",
    "#        df_prod_cust_val1_val2 = pd.read_csv(arch_min_max_prod)\n",
    "    \n",
    "#    elif GLOBAL_TRANSF == \"estandarizacion\":\n",
    "#        print(\"Estandarizacion\")\n",
    "#        df_sellout_transf = estandarizar_tn(df_sellout)\n",
    "#        graficar_ejemplo_transformacion(df_sellout_transf)\n",
    "#        df_sellout_transf = df_sellout_transf.drop(columns=[\"tn_original\",\"valor_1\",\"valor_2\"])\n",
    "       \n",
    "#        df_prod_cust_val1_val2 = pd.read_csv(arch_mean_std_prod)\n",
    "\n",
    "    ### Categoricas\n",
    "    #Transformo todas las categoricas\n",
    "    categories = [\"plan_precios_cuidados\",\"cat1\",\"cat2\",\"cat3\",\"product_id\",\"customer_id\",\"prod_cust\",\"cero_ventas\"]\n",
    "    \n",
    "    for c in categories: \n",
    "        df_sellout_transf[c] = df_sellout_transf[c].astype(\"category\")   \n",
    "        \n",
    "    ### Se descartan variables no utiles para la prediccion\n",
    "    df_sellout_transf = df_sellout_transf.drop(columns=[\"brand\",\"periodo_fecha\"])\n",
    "\n",
    "    ### Split de datasets\n",
    "    df_train = df_sellout_transf[(df_sellout_transf.periodo <= train_periodo_limite) & (df_sellout_transf.periodo >= periodo_inicio)]\n",
    "    df_validate = df_sellout_transf[df_sellout_transf.periodo == validate_periodo]\n",
    "    \n",
    "    df_train_all = df_sellout_transf[(df_sellout_transf.periodo <= train_all_periodo_limite) & (df_sellout_transf.periodo >= periodo_inicio)]\n",
    "    df_holdout = df_sellout_transf[df_sellout_transf.periodo == holdout_periodo]\n",
    "    \n",
    "    df_validate = df_validate.sort_values(by=\"prod_cust\",ascending=True)\n",
    "    print(\"<prod-cust> a validar:\", len(df_validate))\n",
    "    \n",
    "    df_holdout = df_holdout.sort_values(by=\"prod_cust\",ascending=True)\n",
    "    print(\"<prod-cust> a testear:\", len(df_holdout))\n",
    "\n",
    "    print(\"Periodos entrenar:\",df_train.periodo.unique())\n",
    "    print(\"Periodos validar:\",df_validate.periodo.unique())\n",
    "    print(\"Periodos entrenar ALL:\",df_train_all.periodo.unique())\n",
    "    print(\"Periodos holdout:\",df_holdout.periodo.unique())\n",
    "\n",
    "    ### Armado variables entrenamiento\n",
    "    # Train - Validate\n",
    "    X_train = df_train.drop(columns=[\"tn_mas_2\",\"periodo\"], axis=1)\n",
    "    X_validate = df_validate.drop(columns=[\"tn_mas_2\",\"periodo\"], axis=1)\n",
    "    \n",
    "    y_train = df_train.tn_mas_2\n",
    "    y_validate = df_validate.tn_mas_2\n",
    "    \n",
    "    # Train All - Holdout\n",
    "    X_train_all = df_train_all.drop(columns=[\"tn_mas_2\",\"periodo\"], axis=1)\n",
    "    X_holdout = df_holdout.drop(columns=[\"tn_mas_2\",\"periodo\"], axis=1)\n",
    "    \n",
    "    y_train_all = df_train_all.tn_mas_2\n",
    "    y_holdout = df_holdout.tn_mas_2\n",
    "    \n",
    "    print(\"X_train:\", X_train.shape)\n",
    "    print(\"y_train:\", y_train.shape)\n",
    "    \n",
    "    print(\"\\nX_validate:\", X_validate.shape)\n",
    "    print(\"y_validate:\", y_validate.shape)\n",
    "    \n",
    "    print(\"\\nX_train_all:\", X_train_all.shape)\n",
    "    print(\"y_train_all:\", y_train_all.shape)\n",
    "    \n",
    "    print(\"\\nX_holdout:\", X_holdout.shape)\n",
    "    print(\"y_holdout:\", y_holdout.shape)\n",
    "\n",
    "    cols = X_train.columns.tolist()\n",
    "\n",
    "    ### Optimizacion Bayesiana\n",
    "    #Antes de entrenar, se setea vector global para validate\n",
    "    GLOBAL_PROD_CUST_IDS = actualizar_global_prod_custs(X_validate.prod_cust, y_validate_orig)\n",
    "    \n",
    "    GLOBAL_PARAMS_ITER = []\n",
    "    GLOBAL_BEST_IT_ITER = []\n",
    "    GLOBAL_ER_VALIDATE_ITER = []\n",
    "    GLOBAL_MODEL_ITER = []\n",
    "    \n",
    "    study = optuna.create_study(direction='minimize')\n",
    "    study.optimize(objective, n_trials=CANT_ITERACIONES_OPT_BAY)\n",
    "    print('# Experimentos:', len(study.trials))\n",
    "    print('Mejor experimento:', study.best_trial.params)\n",
    "\n",
    "    best_model_index = study.best_trial.number\n",
    "    best_model = GLOBAL_MODEL_ITER[best_model_index]\n",
    "    plot_lgb_importances(best_model, num=30, plot=True)\n",
    "\n",
    "    lgbtrain_all = lgb.Dataset(data=X_train_all, label=y_train_all, feature_name=cols)\n",
    "\n",
    "    final_params = GLOBAL_PARAMS_ITER[best_model_index]\n",
    "    final_best_iter = GLOBAL_BEST_IT_ITER[best_model_index]\n",
    "    final_model = lgb.train(final_params, lgbtrain_all, num_boost_round=final_best_iter)\n",
    "    \n",
    "    GLOBAL_PROD_CUST_IDS = actualizar_global_prod_custs(X_holdout.prod_cust, y_holdout_orig)\n",
    "    \n",
    "    y_pred_holdout = final_model.predict(X_holdout)\n",
    "    er_holdout = error_rate(y_holdout,y_pred_holdout)\n",
    "    print(\"Error Holdout:\", er_holdout)\n",
    "\n",
    "    prediction_with_prod_cust = pd.DataFrame(data={\"prod_cust\":X_holdout.prod_cust,\"actual_value\":y_holdout_orig,\"predicted_value\":y_pred_holdout})\n",
    "    \n",
    "    clusters_final_models.append(final_model)\n",
    "    clusters_er_holdout.append(er_holdout)\n",
    "    clusters_predictions.append(prediction_with_prod_cust)\n",
    "    clusters_final_params.append(final_params)\n",
    "    clusters_final_best_iter.append(final_best_iter)"
   ]
  },
  {
   "cell_type": "code",
   "execution_count": 19,
   "id": "49c9b3a8-94bd-489b-8800-c1bbb07db3f3",
   "metadata": {},
   "outputs": [
    {
     "data": {
      "text/plain": [
       "[        prod_cust  actual_value  predicted_value\n",
       " 25    20001-10001        364.37           257.35\n",
       " 61    20001-10002         55.42            10.10\n",
       " 97    20001-10003        230.00           136.04\n",
       " 133   20001-10004         91.68           143.32\n",
       " 169   20001-10005         22.18            19.04\n",
       " ...           ...           ...              ...\n",
       " 3965  20032-10008          0.00             7.54\n",
       " 3976  20032-10009          6.29            15.66\n",
       " 3987  20032-10011          0.00             7.55\n",
       " 3998  20032-10012          0.00            15.66\n",
       " 4009  20032-10013          0.00             7.55\n",
       " \n",
       " [120 rows x 3 columns]]"
      ]
     },
     "execution_count": 19,
     "metadata": {},
     "output_type": "execute_result"
    }
   ],
   "source": [
    "clusters_predictions"
   ]
  },
  {
   "cell_type": "code",
   "execution_count": null,
   "id": "2a64f89d-dc56-4b1a-8ff8-025f715e6abd",
   "metadata": {},
   "outputs": [],
   "source": []
  },
  {
   "cell_type": "code",
   "execution_count": null,
   "id": "b3bc9cdc-f889-4c2a-a698-270de59cb5e7",
   "metadata": {},
   "outputs": [],
   "source": []
  },
  {
   "cell_type": "code",
   "execution_count": null,
   "id": "2a1d4ad9-4be3-491e-9cd2-b4bc1ede2e5a",
   "metadata": {},
   "outputs": [],
   "source": []
  },
  {
   "cell_type": "code",
   "execution_count": null,
   "id": "ea8befd2-2235-4485-a72d-9151ebdfb630",
   "metadata": {},
   "outputs": [],
   "source": []
  },
  {
   "cell_type": "code",
   "execution_count": null,
   "id": "3e2b8e45-b7ba-4d40-a154-3808da0a8c24",
   "metadata": {},
   "outputs": [],
   "source": []
  },
  {
   "cell_type": "code",
   "execution_count": null,
   "id": "5360a6aa-a71c-4824-8b9b-e400143285ca",
   "metadata": {},
   "outputs": [],
   "source": []
  },
  {
   "cell_type": "code",
   "execution_count": null,
   "id": "16c5b068-dba3-4de2-9aff-a7961ba3e549",
   "metadata": {},
   "outputs": [],
   "source": [
    "## Se verifica transformacion\n",
    "df_test = df_sellout_transf[[\"product_id\",\"periodo\",\"tn\",\"tn_mas_2\",\"tn_lag_1\",\"tn_delta_1\"]].merge(df_prod_val1_val2,how=\"left\",on=\"product_id\")\n",
    "df_test[\"tn\"]=df_test.apply(lambda row: destransformar_valor(row[\"tn\"],row[\"valor_1\"],row[\"valor_2\"]),axis=1)\n",
    "df_test[\"tn_mas_2\"]=df_test.apply(lambda row: destransformar_valor(row[\"tn_mas_2\"],row[\"valor_1\"],row[\"valor_2\"]),axis=1)\n",
    "df_test[\"tn_lag_1\"]=df_test.apply(lambda row: destransformar_valor(row[\"tn_lag_1\"],row[\"valor_1\"],row[\"valor_2\"]),axis=1)\n",
    "df_test[\"tn_delta_1\"]=df_test.apply(lambda row: destransformar_valor(row[\"tn_delta_1\"],row[\"valor_1\"],row[\"valor_2\"]),axis=1)\n",
    "df_test = df_test.merge(df_sellout[[\"product_id\",\"periodo\",\"tn\",\"tn_mas_2\",\"tn_lag_1\",\"tn_delta_1\"]],how=\"inner\",on=[\"product_id\",\"periodo\"])\n",
    "df_test[[\"product_id\",\"periodo\",\"tn_x\",\"tn_y\",\"tn_mas_2_x\",\"tn_mas_2_y\",\"tn_lag_1_x\",\"tn_lag_1_y\",\"tn_delta_1_x\",\"tn_delta_1_y\"]].head()\n",
    "\n",
    "\n",
    "\n",
    "\n",
    "# Compruebo que no haya diferencias\n",
    "df_test[\"dif\"]=df_test.tn_x-df_test.tn_y\n",
    "df_test[df_test.dif>1e-3]\n",
    "\n",
    "\n",
    "\n",
    "df_test[df_test.tn_x.isna()]\n"
   ]
  },
  {
   "cell_type": "code",
   "execution_count": null,
   "id": "4124c98b-4512-48e6-a1e9-096c5d5f992d",
   "metadata": {},
   "outputs": [],
   "source": []
  },
  {
   "cell_type": "code",
   "execution_count": null,
   "id": "fd9d27a0-cb53-4e54-98a1-864350198db7",
   "metadata": {},
   "outputs": [],
   "source": []
  },
  {
   "cell_type": "code",
   "execution_count": null,
   "id": "85b26baa-c09e-49d6-adb1-904c0a8a4253",
   "metadata": {},
   "outputs": [],
   "source": []
  },
  {
   "cell_type": "code",
   "execution_count": null,
   "id": "5064c554-7911-4345-8cea-5cc5c6a995a3",
   "metadata": {},
   "outputs": [],
   "source": [
    "df_prods_prediccion=pd.read_csv(arch_prod_ids_prediccion)\n",
    "df_prods_prediccion.head()"
   ]
  },
  {
   "cell_type": "code",
   "execution_count": null,
   "id": "71e1ddba-e056-4fb9-8861-7d5ca5e1fb2c",
   "metadata": {},
   "outputs": [],
   "source": [
    "df_prods_prediccion.info()"
   ]
  },
  {
   "cell_type": "code",
   "execution_count": null,
   "id": "ae36dcae-5d43-4b31-a10e-b093a63a19e5",
   "metadata": {},
   "outputs": [],
   "source": []
  },
  {
   "cell_type": "code",
   "execution_count": null,
   "id": "1269c72d-6945-438f-ba27-5df3daf119e3",
   "metadata": {},
   "outputs": [],
   "source": []
  },
  {
   "cell_type": "code",
   "execution_count": null,
   "id": "aa0040a0-8ef6-4788-abbc-aaa139a82b1c",
   "metadata": {},
   "outputs": [],
   "source": []
  },
  {
   "cell_type": "code",
   "execution_count": null,
   "id": "adea2bfa-270b-45e8-9f36-c46c2cc14c4f",
   "metadata": {},
   "outputs": [],
   "source": []
  },
  {
   "cell_type": "code",
   "execution_count": null,
   "id": "014743aa-9ed5-4f38-851b-b5893b6ca251",
   "metadata": {},
   "outputs": [],
   "source": []
  },
  {
   "cell_type": "markdown",
   "id": "29c0935c-52eb-4c11-baf2-e1c1178059f1",
   "metadata": {},
   "source": [
    "## Modelo Final"
   ]
  },
  {
   "cell_type": "code",
   "execution_count": null,
   "id": "87b4783e-d9d9-4f53-8911-4bb40131e155",
   "metadata": {},
   "outputs": [],
   "source": []
  },
  {
   "cell_type": "code",
   "execution_count": null,
   "id": "7b8ebb01-9b14-49ad-9532-4eeb506f741b",
   "metadata": {},
   "outputs": [],
   "source": []
  },
  {
   "cell_type": "code",
   "execution_count": null,
   "id": "ef018cb4-8e69-41c6-b300-a15156afc023",
   "metadata": {},
   "outputs": [],
   "source": [
    "print(X_holdout.shape)\n",
    "df_prediccion = X_holdout.copy()\n",
    "df_prediccion[\"tn_target\"]=np.array(y_holdout_orig)\n",
    "df_prediccion[\"tn_predicted\"]=np.array(destransformar_vector(y_pred_holdout))\n",
    "print(df_prediccion.shape)"
   ]
  },
  {
   "cell_type": "code",
   "execution_count": null,
   "id": "4687375c-c603-4639-8e8d-fc882e751cc0",
   "metadata": {},
   "outputs": [],
   "source": [
    "print(\"Toneladas Holdout:\\t\", df_prediccion.tn_target.sum())\n",
    "print(\"Toneladas Prediccion:\\t\", df_prediccion.tn_predicted.sum())"
   ]
  },
  {
   "cell_type": "code",
   "execution_count": null,
   "id": "572f3223-779c-42d8-822e-fd4c51680032",
   "metadata": {},
   "outputs": [],
   "source": [
    "df_prediccion = df_prediccion.sort_values(by=\"product_id\",ascending=True)\n",
    "df_prediccion.to_csv(arch_predicciones_full, index=False)\n",
    "df_prediccion[[\"product_id\",\"tn_predicted\"]].to_csv(arch_predicciones_simple, index=False)"
   ]
  },
  {
   "cell_type": "code",
   "execution_count": null,
   "id": "d4095edf-6af3-4f7a-80fe-53ce6e753a6d",
   "metadata": {},
   "outputs": [],
   "source": [
    "print(\"Error Rate Validate:\",GLOBAL_ER_VALIDATE_ITER[best_model_index])\n",
    "print(\"Error Rate Holdout:\",er_holdout)"
   ]
  },
  {
   "cell_type": "code",
   "execution_count": null,
   "id": "eed8479f-261b-46cc-8481-86af74b9b6db",
   "metadata": {},
   "outputs": [],
   "source": [
    "# Armo resultados y calculo modelo final y semillerio para top 5 de error de validacion\n",
    "df_resultado = pd.DataFrame(data={\"error_rate_validation\":GLOBAL_ER_VALIDATE_ITER,\n",
    "                                  \"best_iteration\": GLOBAL_BEST_IT_ITER,\n",
    "                                  \"params\":GLOBAL_PARAMS_ITER})\n",
    "df_resultado[\"max_bin\"]=MAX_BIN_PARAM\n",
    "\n",
    "df_resultado = df_resultado.sort_values(by=\"error_rate_validation\",ascending=True)\n",
    "\n",
    "er_holdout_iter = [None] * len(df_resultado)\n",
    "er_holdout_semillerio_iter = [None] * len(df_resultado)\n",
    "for i in range(0,5):\n",
    "    print(\"Iteración:\",i)\n",
    "    #Modelo Final (Sin Semillerio)\n",
    "    final_model = lgb.train(df_resultado.iloc[i].params, lgbtrain_all, num_boost_round=df_resultado.iloc[i].best_iteration)\n",
    "    y_pred_holdout = final_model.predict(X_holdout)\n",
    "    er_holdout = error_rate(y_holdout,y_pred_holdout)\n",
    "    er_holdout_iter[i]=er_holdout\n",
    "    \n",
    "    #Semillerio\n",
    "    er_holdout_semillerio_iter[i]=(semillerio(lgbtrain_all, df_resultado.iloc[i].params, df_resultado.iloc[i].best_iteration, X_holdout, y_holdout))\n",
    "\n",
    "df_resultado[\"error_rate_holdout\"]=er_holdout_iter    \n",
    "df_resultado[\"error_rate_holdout_semillerio\"]=er_holdout_semillerio_iter    \n",
    "    \n",
    "datetime_string = datetime.datetime.now().strftime('%Y-%m-%d_%H.%M')\n",
    "df_resultado.to_excel(\"resultados_opt_bay_\"+GLOBAL_TRANSF+\"_\"+str(CANT_ITERACIONES_OPT_BAY)+\"_\"+datetime_string+\".xlsx\",index=False)"
   ]
  },
  {
   "cell_type": "code",
   "execution_count": null,
   "id": "f3f2a94e-51a2-4366-a2d0-86c0a1284b02",
   "metadata": {},
   "outputs": [],
   "source": [
    "df_resultado"
   ]
  },
  {
   "cell_type": "code",
   "execution_count": null,
   "id": "c4c42d26-9218-4b50-b544-b72da6f33c11",
   "metadata": {},
   "outputs": [],
   "source": [
    "duration = 500  # 1000 milliseconds = 1 second\n",
    "winsound.Beep(2000, duration)"
   ]
  }
 ],
 "metadata": {
  "kernelspec": {
   "display_name": "Python 3 (ipykernel)",
   "language": "python",
   "name": "python3"
  },
  "language_info": {
   "codemirror_mode": {
    "name": "ipython",
    "version": 3
   },
   "file_extension": ".py",
   "mimetype": "text/x-python",
   "name": "python",
   "nbconvert_exporter": "python",
   "pygments_lexer": "ipython3",
   "version": "3.10.12"
  }
 },
 "nbformat": 4,
 "nbformat_minor": 5
}
