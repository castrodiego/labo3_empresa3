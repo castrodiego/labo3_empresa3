{
 "cells": [
  {
   "cell_type": "code",
   "execution_count": 13,
   "metadata": {},
   "outputs": [],
   "source": [
    "#Librerias\n",
    "import pandas as pd\n",
    "import numpy as np\n",
    "import matplotlib.pyplot as plt\n",
    "import os\n",
    "\n",
    "#Deep Learning\n",
    "from keras.models import Sequential\n",
    "from keras.layers import Dense\n",
    "from keras.layers import LSTM\n",
    "import tensorflow as tf\n",
    "from sklearn.preprocessing import MinMaxScaler\n",
    "\n",
    "\n",
    "from sklearn.preprocessing import StandardScaler"
   ]
  },
  {
   "cell_type": "code",
   "execution_count": 14,
   "metadata": {},
   "outputs": [],
   "source": [
    "#Funcion de error propuesta por la empresa:\n",
    "\n",
    "def custom_loss(y_true, y_pred):\n",
    "    # Calcula el error de pronóstico total según la fórmula dada\n",
    "    forecast_error = tf.reduce_sum(tf.abs(y_true - y_pred)) / tf.reduce_sum(y_true)\n",
    "    return forecast_error"
   ]
  },
  {
   "cell_type": "code",
   "execution_count": 15,
   "metadata": {},
   "outputs": [],
   "source": [
    "####################################################\n",
    "############# Setear segun cada maquina ############\n",
    "os.chdir(\"/Users/diegotorres/Desktop/MCD/segundo_año/laboratorio_3/datasets\")\n",
    "####################################################"
   ]
  },
  {
   "cell_type": "code",
   "execution_count": 16,
   "metadata": {},
   "outputs": [],
   "source": [
    "df_sellout = pd.read_csv(\"datasets_emp3_sellout_producto_base .csv\")"
   ]
  },
  {
   "cell_type": "code",
   "execution_count": 17,
   "metadata": {},
   "outputs": [
    {
     "data": {
      "text/plain": [
       "product_id       0\n",
       "periodo          0\n",
       "product_id_tn    0\n",
       "dtype: int64"
      ]
     },
     "execution_count": 17,
     "metadata": {},
     "output_type": "execute_result"
    }
   ],
   "source": [
    "columnas = ['product_id', 'periodo', 'product_id_tn']\n",
    "df=df_sellout[columnas]\n",
    "df.head()\n",
    "df.isna().sum()\n"
   ]
  },
  {
   "cell_type": "code",
   "execution_count": 18,
   "metadata": {},
   "outputs": [],
   "source": [
    "n_steps_in = 3\n",
    "n_steps_out =2\n",
    "\n",
    "# split a univariate sequence into samples\n",
    "def split_sequence(sequence, n_steps_in, n_steps_out):\n",
    "    X, y = list(), list()\n",
    "    for i in range(len(sequence)):\n",
    "        # find the end of this pattern\n",
    "        end_ix = i + n_steps_in\n",
    "        out_end_ix = end_ix + n_steps_out\n",
    "        # check if we are beyond the sequence\n",
    "        if out_end_ix > len(sequence):\n",
    "            break\n",
    "        # gather input and output parts of the pattern\n",
    "        seq_x, seq_y = sequence[i:end_ix], sequence[end_ix:out_end_ix]\n",
    "        X.append(seq_x)\n",
    "        y.append(seq_y)\n",
    "    return np.array(X), np.array(y)"
   ]
  },
  {
   "cell_type": "code",
   "execution_count": 19,
   "metadata": {},
   "outputs": [],
   "source": [
    "# Crear un DataFrame vacío para almacenar los resultados\n",
    "resultados_df = pd.DataFrame(columns=['product_id', 'product_id_tn', 'y_hat'])"
   ]
  },
  {
   "cell_type": "code",
   "execution_count": 20,
   "metadata": {},
   "outputs": [
    {
     "data": {
      "text/plain": [
       "(989, 989)"
      ]
     },
     "execution_count": 20,
     "metadata": {},
     "output_type": "execute_result"
    }
   ],
   "source": [
    "lista_de_productos = pd.read_csv(\"product_id.csv\")\n",
    "len(lista_de_productos)\n",
    "productos = lista_de_productos.product_id.to_list()\n",
    "len(lista_de_productos), len(productos)"
   ]
  },
  {
   "cell_type": "code",
   "execution_count": 21,
   "metadata": {},
   "outputs": [],
   "source": [
    "tf.random.set_seed(27)"
   ]
  },
  {
   "cell_type": "code",
   "execution_count": 22,
   "metadata": {},
   "outputs": [
    {
     "name": "stderr",
     "output_type": "stream",
     "text": [
      "/var/folders/x4/m6ss_3nn1vn52_2htr4xj3800000gp/T/ipykernel_14000/3859271102.py:25: FutureWarning: The frame.append method is deprecated and will be removed from pandas in a future version. Use pandas.concat instead.\n",
      "  resultados_df = resultados_df.append({'product_id': i, 'product_id_tn': serie_test, 'y_hat': yhat[0][1]}, ignore_index=True)\n"
     ]
    },
    {
     "name": "stdout",
     "output_type": "stream",
     "text": [
      "20001\n"
     ]
    },
    {
     "name": "stderr",
     "output_type": "stream",
     "text": [
      "/var/folders/x4/m6ss_3nn1vn52_2htr4xj3800000gp/T/ipykernel_14000/3859271102.py:25: FutureWarning: The frame.append method is deprecated and will be removed from pandas in a future version. Use pandas.concat instead.\n",
      "  resultados_df = resultados_df.append({'product_id': i, 'product_id_tn': serie_test, 'y_hat': yhat[0][1]}, ignore_index=True)\n"
     ]
    },
    {
     "name": "stdout",
     "output_type": "stream",
     "text": [
      "20002\n"
     ]
    },
    {
     "name": "stderr",
     "output_type": "stream",
     "text": [
      "/var/folders/x4/m6ss_3nn1vn52_2htr4xj3800000gp/T/ipykernel_14000/3859271102.py:25: FutureWarning: The frame.append method is deprecated and will be removed from pandas in a future version. Use pandas.concat instead.\n",
      "  resultados_df = resultados_df.append({'product_id': i, 'product_id_tn': serie_test, 'y_hat': yhat[0][1]}, ignore_index=True)\n"
     ]
    },
    {
     "name": "stdout",
     "output_type": "stream",
     "text": [
      "20003\n"
     ]
    },
    {
     "name": "stderr",
     "output_type": "stream",
     "text": [
      "/var/folders/x4/m6ss_3nn1vn52_2htr4xj3800000gp/T/ipykernel_14000/3859271102.py:25: FutureWarning: The frame.append method is deprecated and will be removed from pandas in a future version. Use pandas.concat instead.\n",
      "  resultados_df = resultados_df.append({'product_id': i, 'product_id_tn': serie_test, 'y_hat': yhat[0][1]}, ignore_index=True)\n"
     ]
    },
    {
     "name": "stdout",
     "output_type": "stream",
     "text": [
      "20004\n"
     ]
    },
    {
     "name": "stderr",
     "output_type": "stream",
     "text": [
      "/var/folders/x4/m6ss_3nn1vn52_2htr4xj3800000gp/T/ipykernel_14000/3859271102.py:25: FutureWarning: The frame.append method is deprecated and will be removed from pandas in a future version. Use pandas.concat instead.\n",
      "  resultados_df = resultados_df.append({'product_id': i, 'product_id_tn': serie_test, 'y_hat': yhat[0][1]}, ignore_index=True)\n"
     ]
    },
    {
     "name": "stdout",
     "output_type": "stream",
     "text": [
      "20005\n"
     ]
    },
    {
     "name": "stderr",
     "output_type": "stream",
     "text": [
      "/var/folders/x4/m6ss_3nn1vn52_2htr4xj3800000gp/T/ipykernel_14000/3859271102.py:25: FutureWarning: The frame.append method is deprecated and will be removed from pandas in a future version. Use pandas.concat instead.\n",
      "  resultados_df = resultados_df.append({'product_id': i, 'product_id_tn': serie_test, 'y_hat': yhat[0][1]}, ignore_index=True)\n"
     ]
    },
    {
     "name": "stdout",
     "output_type": "stream",
     "text": [
      "20006\n"
     ]
    },
    {
     "name": "stderr",
     "output_type": "stream",
     "text": [
      "/var/folders/x4/m6ss_3nn1vn52_2htr4xj3800000gp/T/ipykernel_14000/3859271102.py:25: FutureWarning: The frame.append method is deprecated and will be removed from pandas in a future version. Use pandas.concat instead.\n",
      "  resultados_df = resultados_df.append({'product_id': i, 'product_id_tn': serie_test, 'y_hat': yhat[0][1]}, ignore_index=True)\n"
     ]
    },
    {
     "name": "stdout",
     "output_type": "stream",
     "text": [
      "20007\n"
     ]
    },
    {
     "name": "stderr",
     "output_type": "stream",
     "text": [
      "/var/folders/x4/m6ss_3nn1vn52_2htr4xj3800000gp/T/ipykernel_14000/3859271102.py:25: FutureWarning: The frame.append method is deprecated and will be removed from pandas in a future version. Use pandas.concat instead.\n",
      "  resultados_df = resultados_df.append({'product_id': i, 'product_id_tn': serie_test, 'y_hat': yhat[0][1]}, ignore_index=True)\n"
     ]
    },
    {
     "name": "stdout",
     "output_type": "stream",
     "text": [
      "20008\n"
     ]
    },
    {
     "name": "stderr",
     "output_type": "stream",
     "text": [
      "/var/folders/x4/m6ss_3nn1vn52_2htr4xj3800000gp/T/ipykernel_14000/3859271102.py:25: FutureWarning: The frame.append method is deprecated and will be removed from pandas in a future version. Use pandas.concat instead.\n",
      "  resultados_df = resultados_df.append({'product_id': i, 'product_id_tn': serie_test, 'y_hat': yhat[0][1]}, ignore_index=True)\n"
     ]
    },
    {
     "name": "stdout",
     "output_type": "stream",
     "text": [
      "20009\n"
     ]
    },
    {
     "name": "stderr",
     "output_type": "stream",
     "text": [
      "/var/folders/x4/m6ss_3nn1vn52_2htr4xj3800000gp/T/ipykernel_14000/3859271102.py:25: FutureWarning: The frame.append method is deprecated and will be removed from pandas in a future version. Use pandas.concat instead.\n",
      "  resultados_df = resultados_df.append({'product_id': i, 'product_id_tn': serie_test, 'y_hat': yhat[0][1]}, ignore_index=True)\n"
     ]
    },
    {
     "name": "stdout",
     "output_type": "stream",
     "text": [
      "20010\n"
     ]
    },
    {
     "name": "stderr",
     "output_type": "stream",
     "text": [
      "/var/folders/x4/m6ss_3nn1vn52_2htr4xj3800000gp/T/ipykernel_14000/3859271102.py:25: FutureWarning: The frame.append method is deprecated and will be removed from pandas in a future version. Use pandas.concat instead.\n",
      "  resultados_df = resultados_df.append({'product_id': i, 'product_id_tn': serie_test, 'y_hat': yhat[0][1]}, ignore_index=True)\n"
     ]
    },
    {
     "name": "stdout",
     "output_type": "stream",
     "text": [
      "20011\n"
     ]
    },
    {
     "name": "stderr",
     "output_type": "stream",
     "text": [
      "/var/folders/x4/m6ss_3nn1vn52_2htr4xj3800000gp/T/ipykernel_14000/3859271102.py:25: FutureWarning: The frame.append method is deprecated and will be removed from pandas in a future version. Use pandas.concat instead.\n",
      "  resultados_df = resultados_df.append({'product_id': i, 'product_id_tn': serie_test, 'y_hat': yhat[0][1]}, ignore_index=True)\n"
     ]
    },
    {
     "name": "stdout",
     "output_type": "stream",
     "text": [
      "20012\n"
     ]
    },
    {
     "name": "stderr",
     "output_type": "stream",
     "text": [
      "/var/folders/x4/m6ss_3nn1vn52_2htr4xj3800000gp/T/ipykernel_14000/3859271102.py:25: FutureWarning: The frame.append method is deprecated and will be removed from pandas in a future version. Use pandas.concat instead.\n",
      "  resultados_df = resultados_df.append({'product_id': i, 'product_id_tn': serie_test, 'y_hat': yhat[0][1]}, ignore_index=True)\n"
     ]
    },
    {
     "name": "stdout",
     "output_type": "stream",
     "text": [
      "20013\n"
     ]
    },
    {
     "name": "stderr",
     "output_type": "stream",
     "text": [
      "/var/folders/x4/m6ss_3nn1vn52_2htr4xj3800000gp/T/ipykernel_14000/3859271102.py:25: FutureWarning: The frame.append method is deprecated and will be removed from pandas in a future version. Use pandas.concat instead.\n",
      "  resultados_df = resultados_df.append({'product_id': i, 'product_id_tn': serie_test, 'y_hat': yhat[0][1]}, ignore_index=True)\n"
     ]
    },
    {
     "name": "stdout",
     "output_type": "stream",
     "text": [
      "20014\n"
     ]
    },
    {
     "name": "stderr",
     "output_type": "stream",
     "text": [
      "/var/folders/x4/m6ss_3nn1vn52_2htr4xj3800000gp/T/ipykernel_14000/3859271102.py:25: FutureWarning: The frame.append method is deprecated and will be removed from pandas in a future version. Use pandas.concat instead.\n",
      "  resultados_df = resultados_df.append({'product_id': i, 'product_id_tn': serie_test, 'y_hat': yhat[0][1]}, ignore_index=True)\n"
     ]
    },
    {
     "name": "stdout",
     "output_type": "stream",
     "text": [
      "20015\n"
     ]
    },
    {
     "name": "stderr",
     "output_type": "stream",
     "text": [
      "/var/folders/x4/m6ss_3nn1vn52_2htr4xj3800000gp/T/ipykernel_14000/3859271102.py:25: FutureWarning: The frame.append method is deprecated and will be removed from pandas in a future version. Use pandas.concat instead.\n",
      "  resultados_df = resultados_df.append({'product_id': i, 'product_id_tn': serie_test, 'y_hat': yhat[0][1]}, ignore_index=True)\n"
     ]
    },
    {
     "name": "stdout",
     "output_type": "stream",
     "text": [
      "20016\n"
     ]
    },
    {
     "name": "stderr",
     "output_type": "stream",
     "text": [
      "/var/folders/x4/m6ss_3nn1vn52_2htr4xj3800000gp/T/ipykernel_14000/3859271102.py:25: FutureWarning: The frame.append method is deprecated and will be removed from pandas in a future version. Use pandas.concat instead.\n",
      "  resultados_df = resultados_df.append({'product_id': i, 'product_id_tn': serie_test, 'y_hat': yhat[0][1]}, ignore_index=True)\n"
     ]
    },
    {
     "name": "stdout",
     "output_type": "stream",
     "text": [
      "20017\n"
     ]
    },
    {
     "name": "stderr",
     "output_type": "stream",
     "text": [
      "/var/folders/x4/m6ss_3nn1vn52_2htr4xj3800000gp/T/ipykernel_14000/3859271102.py:25: FutureWarning: The frame.append method is deprecated and will be removed from pandas in a future version. Use pandas.concat instead.\n",
      "  resultados_df = resultados_df.append({'product_id': i, 'product_id_tn': serie_test, 'y_hat': yhat[0][1]}, ignore_index=True)\n"
     ]
    },
    {
     "name": "stdout",
     "output_type": "stream",
     "text": [
      "20018\n"
     ]
    },
    {
     "name": "stderr",
     "output_type": "stream",
     "text": [
      "/var/folders/x4/m6ss_3nn1vn52_2htr4xj3800000gp/T/ipykernel_14000/3859271102.py:25: FutureWarning: The frame.append method is deprecated and will be removed from pandas in a future version. Use pandas.concat instead.\n",
      "  resultados_df = resultados_df.append({'product_id': i, 'product_id_tn': serie_test, 'y_hat': yhat[0][1]}, ignore_index=True)\n"
     ]
    },
    {
     "name": "stdout",
     "output_type": "stream",
     "text": [
      "20019\n"
     ]
    },
    {
     "name": "stderr",
     "output_type": "stream",
     "text": [
      "/var/folders/x4/m6ss_3nn1vn52_2htr4xj3800000gp/T/ipykernel_14000/3859271102.py:25: FutureWarning: The frame.append method is deprecated and will be removed from pandas in a future version. Use pandas.concat instead.\n",
      "  resultados_df = resultados_df.append({'product_id': i, 'product_id_tn': serie_test, 'y_hat': yhat[0][1]}, ignore_index=True)\n"
     ]
    },
    {
     "name": "stdout",
     "output_type": "stream",
     "text": [
      "20020\n"
     ]
    },
    {
     "name": "stderr",
     "output_type": "stream",
     "text": [
      "/var/folders/x4/m6ss_3nn1vn52_2htr4xj3800000gp/T/ipykernel_14000/3859271102.py:25: FutureWarning: The frame.append method is deprecated and will be removed from pandas in a future version. Use pandas.concat instead.\n",
      "  resultados_df = resultados_df.append({'product_id': i, 'product_id_tn': serie_test, 'y_hat': yhat[0][1]}, ignore_index=True)\n"
     ]
    },
    {
     "name": "stdout",
     "output_type": "stream",
     "text": [
      "20021\n"
     ]
    },
    {
     "name": "stderr",
     "output_type": "stream",
     "text": [
      "/var/folders/x4/m6ss_3nn1vn52_2htr4xj3800000gp/T/ipykernel_14000/3859271102.py:25: FutureWarning: The frame.append method is deprecated and will be removed from pandas in a future version. Use pandas.concat instead.\n",
      "  resultados_df = resultados_df.append({'product_id': i, 'product_id_tn': serie_test, 'y_hat': yhat[0][1]}, ignore_index=True)\n"
     ]
    },
    {
     "name": "stdout",
     "output_type": "stream",
     "text": [
      "20022\n"
     ]
    },
    {
     "name": "stderr",
     "output_type": "stream",
     "text": [
      "/var/folders/x4/m6ss_3nn1vn52_2htr4xj3800000gp/T/ipykernel_14000/3859271102.py:25: FutureWarning: The frame.append method is deprecated and will be removed from pandas in a future version. Use pandas.concat instead.\n",
      "  resultados_df = resultados_df.append({'product_id': i, 'product_id_tn': serie_test, 'y_hat': yhat[0][1]}, ignore_index=True)\n"
     ]
    },
    {
     "name": "stdout",
     "output_type": "stream",
     "text": [
      "20023\n"
     ]
    },
    {
     "name": "stderr",
     "output_type": "stream",
     "text": [
      "/var/folders/x4/m6ss_3nn1vn52_2htr4xj3800000gp/T/ipykernel_14000/3859271102.py:25: FutureWarning: The frame.append method is deprecated and will be removed from pandas in a future version. Use pandas.concat instead.\n",
      "  resultados_df = resultados_df.append({'product_id': i, 'product_id_tn': serie_test, 'y_hat': yhat[0][1]}, ignore_index=True)\n"
     ]
    },
    {
     "name": "stdout",
     "output_type": "stream",
     "text": [
      "20024\n"
     ]
    },
    {
     "name": "stderr",
     "output_type": "stream",
     "text": [
      "/var/folders/x4/m6ss_3nn1vn52_2htr4xj3800000gp/T/ipykernel_14000/3859271102.py:25: FutureWarning: The frame.append method is deprecated and will be removed from pandas in a future version. Use pandas.concat instead.\n",
      "  resultados_df = resultados_df.append({'product_id': i, 'product_id_tn': serie_test, 'y_hat': yhat[0][1]}, ignore_index=True)\n"
     ]
    },
    {
     "name": "stdout",
     "output_type": "stream",
     "text": [
      "20025\n"
     ]
    },
    {
     "name": "stderr",
     "output_type": "stream",
     "text": [
      "/var/folders/x4/m6ss_3nn1vn52_2htr4xj3800000gp/T/ipykernel_14000/3859271102.py:25: FutureWarning: The frame.append method is deprecated and will be removed from pandas in a future version. Use pandas.concat instead.\n",
      "  resultados_df = resultados_df.append({'product_id': i, 'product_id_tn': serie_test, 'y_hat': yhat[0][1]}, ignore_index=True)\n"
     ]
    },
    {
     "name": "stdout",
     "output_type": "stream",
     "text": [
      "20026\n"
     ]
    },
    {
     "name": "stderr",
     "output_type": "stream",
     "text": [
      "/var/folders/x4/m6ss_3nn1vn52_2htr4xj3800000gp/T/ipykernel_14000/3859271102.py:25: FutureWarning: The frame.append method is deprecated and will be removed from pandas in a future version. Use pandas.concat instead.\n",
      "  resultados_df = resultados_df.append({'product_id': i, 'product_id_tn': serie_test, 'y_hat': yhat[0][1]}, ignore_index=True)\n"
     ]
    },
    {
     "name": "stdout",
     "output_type": "stream",
     "text": [
      "20027\n"
     ]
    },
    {
     "name": "stderr",
     "output_type": "stream",
     "text": [
      "/var/folders/x4/m6ss_3nn1vn52_2htr4xj3800000gp/T/ipykernel_14000/3859271102.py:25: FutureWarning: The frame.append method is deprecated and will be removed from pandas in a future version. Use pandas.concat instead.\n",
      "  resultados_df = resultados_df.append({'product_id': i, 'product_id_tn': serie_test, 'y_hat': yhat[0][1]}, ignore_index=True)\n"
     ]
    },
    {
     "name": "stdout",
     "output_type": "stream",
     "text": [
      "20028\n"
     ]
    },
    {
     "name": "stderr",
     "output_type": "stream",
     "text": [
      "/var/folders/x4/m6ss_3nn1vn52_2htr4xj3800000gp/T/ipykernel_14000/3859271102.py:25: FutureWarning: The frame.append method is deprecated and will be removed from pandas in a future version. Use pandas.concat instead.\n",
      "  resultados_df = resultados_df.append({'product_id': i, 'product_id_tn': serie_test, 'y_hat': yhat[0][1]}, ignore_index=True)\n"
     ]
    },
    {
     "name": "stdout",
     "output_type": "stream",
     "text": [
      "20029\n"
     ]
    },
    {
     "name": "stderr",
     "output_type": "stream",
     "text": [
      "/var/folders/x4/m6ss_3nn1vn52_2htr4xj3800000gp/T/ipykernel_14000/3859271102.py:25: FutureWarning: The frame.append method is deprecated and will be removed from pandas in a future version. Use pandas.concat instead.\n",
      "  resultados_df = resultados_df.append({'product_id': i, 'product_id_tn': serie_test, 'y_hat': yhat[0][1]}, ignore_index=True)\n"
     ]
    },
    {
     "name": "stdout",
     "output_type": "stream",
     "text": [
      "20030\n"
     ]
    },
    {
     "name": "stderr",
     "output_type": "stream",
     "text": [
      "/var/folders/x4/m6ss_3nn1vn52_2htr4xj3800000gp/T/ipykernel_14000/3859271102.py:25: FutureWarning: The frame.append method is deprecated and will be removed from pandas in a future version. Use pandas.concat instead.\n",
      "  resultados_df = resultados_df.append({'product_id': i, 'product_id_tn': serie_test, 'y_hat': yhat[0][1]}, ignore_index=True)\n"
     ]
    },
    {
     "name": "stdout",
     "output_type": "stream",
     "text": [
      "20031\n"
     ]
    },
    {
     "name": "stderr",
     "output_type": "stream",
     "text": [
      "/var/folders/x4/m6ss_3nn1vn52_2htr4xj3800000gp/T/ipykernel_14000/3859271102.py:25: FutureWarning: The frame.append method is deprecated and will be removed from pandas in a future version. Use pandas.concat instead.\n",
      "  resultados_df = resultados_df.append({'product_id': i, 'product_id_tn': serie_test, 'y_hat': yhat[0][1]}, ignore_index=True)\n"
     ]
    },
    {
     "name": "stdout",
     "output_type": "stream",
     "text": [
      "20033\n"
     ]
    },
    {
     "name": "stderr",
     "output_type": "stream",
     "text": [
      "/var/folders/x4/m6ss_3nn1vn52_2htr4xj3800000gp/T/ipykernel_14000/3859271102.py:25: FutureWarning: The frame.append method is deprecated and will be removed from pandas in a future version. Use pandas.concat instead.\n",
      "  resultados_df = resultados_df.append({'product_id': i, 'product_id_tn': serie_test, 'y_hat': yhat[0][1]}, ignore_index=True)\n"
     ]
    },
    {
     "name": "stdout",
     "output_type": "stream",
     "text": [
      "20034\n"
     ]
    },
    {
     "name": "stderr",
     "output_type": "stream",
     "text": [
      "/var/folders/x4/m6ss_3nn1vn52_2htr4xj3800000gp/T/ipykernel_14000/3859271102.py:25: FutureWarning: The frame.append method is deprecated and will be removed from pandas in a future version. Use pandas.concat instead.\n",
      "  resultados_df = resultados_df.append({'product_id': i, 'product_id_tn': serie_test, 'y_hat': yhat[0][1]}, ignore_index=True)\n"
     ]
    },
    {
     "name": "stdout",
     "output_type": "stream",
     "text": [
      "20035\n"
     ]
    },
    {
     "name": "stderr",
     "output_type": "stream",
     "text": [
      "/var/folders/x4/m6ss_3nn1vn52_2htr4xj3800000gp/T/ipykernel_14000/3859271102.py:25: FutureWarning: The frame.append method is deprecated and will be removed from pandas in a future version. Use pandas.concat instead.\n",
      "  resultados_df = resultados_df.append({'product_id': i, 'product_id_tn': serie_test, 'y_hat': yhat[0][1]}, ignore_index=True)\n"
     ]
    },
    {
     "name": "stdout",
     "output_type": "stream",
     "text": [
      "20036\n"
     ]
    },
    {
     "name": "stderr",
     "output_type": "stream",
     "text": [
      "/var/folders/x4/m6ss_3nn1vn52_2htr4xj3800000gp/T/ipykernel_14000/3859271102.py:25: FutureWarning: The frame.append method is deprecated and will be removed from pandas in a future version. Use pandas.concat instead.\n",
      "  resultados_df = resultados_df.append({'product_id': i, 'product_id_tn': serie_test, 'y_hat': yhat[0][1]}, ignore_index=True)\n"
     ]
    },
    {
     "name": "stdout",
     "output_type": "stream",
     "text": [
      "20037\n"
     ]
    },
    {
     "name": "stderr",
     "output_type": "stream",
     "text": [
      "/var/folders/x4/m6ss_3nn1vn52_2htr4xj3800000gp/T/ipykernel_14000/3859271102.py:25: FutureWarning: The frame.append method is deprecated and will be removed from pandas in a future version. Use pandas.concat instead.\n",
      "  resultados_df = resultados_df.append({'product_id': i, 'product_id_tn': serie_test, 'y_hat': yhat[0][1]}, ignore_index=True)\n"
     ]
    },
    {
     "name": "stdout",
     "output_type": "stream",
     "text": [
      "20038\n"
     ]
    },
    {
     "name": "stderr",
     "output_type": "stream",
     "text": [
      "/var/folders/x4/m6ss_3nn1vn52_2htr4xj3800000gp/T/ipykernel_14000/3859271102.py:25: FutureWarning: The frame.append method is deprecated and will be removed from pandas in a future version. Use pandas.concat instead.\n",
      "  resultados_df = resultados_df.append({'product_id': i, 'product_id_tn': serie_test, 'y_hat': yhat[0][1]}, ignore_index=True)\n"
     ]
    },
    {
     "name": "stdout",
     "output_type": "stream",
     "text": [
      "20039\n"
     ]
    },
    {
     "name": "stderr",
     "output_type": "stream",
     "text": [
      "/var/folders/x4/m6ss_3nn1vn52_2htr4xj3800000gp/T/ipykernel_14000/3859271102.py:25: FutureWarning: The frame.append method is deprecated and will be removed from pandas in a future version. Use pandas.concat instead.\n",
      "  resultados_df = resultados_df.append({'product_id': i, 'product_id_tn': serie_test, 'y_hat': yhat[0][1]}, ignore_index=True)\n"
     ]
    },
    {
     "name": "stdout",
     "output_type": "stream",
     "text": [
      "20040\n"
     ]
    },
    {
     "name": "stderr",
     "output_type": "stream",
     "text": [
      "/var/folders/x4/m6ss_3nn1vn52_2htr4xj3800000gp/T/ipykernel_14000/3859271102.py:25: FutureWarning: The frame.append method is deprecated and will be removed from pandas in a future version. Use pandas.concat instead.\n",
      "  resultados_df = resultados_df.append({'product_id': i, 'product_id_tn': serie_test, 'y_hat': yhat[0][1]}, ignore_index=True)\n"
     ]
    },
    {
     "name": "stdout",
     "output_type": "stream",
     "text": [
      "20041\n"
     ]
    },
    {
     "name": "stderr",
     "output_type": "stream",
     "text": [
      "/var/folders/x4/m6ss_3nn1vn52_2htr4xj3800000gp/T/ipykernel_14000/3859271102.py:25: FutureWarning: The frame.append method is deprecated and will be removed from pandas in a future version. Use pandas.concat instead.\n",
      "  resultados_df = resultados_df.append({'product_id': i, 'product_id_tn': serie_test, 'y_hat': yhat[0][1]}, ignore_index=True)\n"
     ]
    },
    {
     "name": "stdout",
     "output_type": "stream",
     "text": [
      "20042\n"
     ]
    },
    {
     "name": "stderr",
     "output_type": "stream",
     "text": [
      "/var/folders/x4/m6ss_3nn1vn52_2htr4xj3800000gp/T/ipykernel_14000/3859271102.py:25: FutureWarning: The frame.append method is deprecated and will be removed from pandas in a future version. Use pandas.concat instead.\n",
      "  resultados_df = resultados_df.append({'product_id': i, 'product_id_tn': serie_test, 'y_hat': yhat[0][1]}, ignore_index=True)\n"
     ]
    },
    {
     "name": "stdout",
     "output_type": "stream",
     "text": [
      "20043\n"
     ]
    },
    {
     "name": "stderr",
     "output_type": "stream",
     "text": [
      "/var/folders/x4/m6ss_3nn1vn52_2htr4xj3800000gp/T/ipykernel_14000/3859271102.py:25: FutureWarning: The frame.append method is deprecated and will be removed from pandas in a future version. Use pandas.concat instead.\n",
      "  resultados_df = resultados_df.append({'product_id': i, 'product_id_tn': serie_test, 'y_hat': yhat[0][1]}, ignore_index=True)\n"
     ]
    },
    {
     "name": "stdout",
     "output_type": "stream",
     "text": [
      "20044\n"
     ]
    },
    {
     "name": "stderr",
     "output_type": "stream",
     "text": [
      "/var/folders/x4/m6ss_3nn1vn52_2htr4xj3800000gp/T/ipykernel_14000/3859271102.py:25: FutureWarning: The frame.append method is deprecated and will be removed from pandas in a future version. Use pandas.concat instead.\n",
      "  resultados_df = resultados_df.append({'product_id': i, 'product_id_tn': serie_test, 'y_hat': yhat[0][1]}, ignore_index=True)\n"
     ]
    },
    {
     "name": "stdout",
     "output_type": "stream",
     "text": [
      "20045\n"
     ]
    },
    {
     "name": "stderr",
     "output_type": "stream",
     "text": [
      "/var/folders/x4/m6ss_3nn1vn52_2htr4xj3800000gp/T/ipykernel_14000/3859271102.py:25: FutureWarning: The frame.append method is deprecated and will be removed from pandas in a future version. Use pandas.concat instead.\n",
      "  resultados_df = resultados_df.append({'product_id': i, 'product_id_tn': serie_test, 'y_hat': yhat[0][1]}, ignore_index=True)\n"
     ]
    },
    {
     "name": "stdout",
     "output_type": "stream",
     "text": [
      "20046\n"
     ]
    },
    {
     "name": "stderr",
     "output_type": "stream",
     "text": [
      "/var/folders/x4/m6ss_3nn1vn52_2htr4xj3800000gp/T/ipykernel_14000/3859271102.py:25: FutureWarning: The frame.append method is deprecated and will be removed from pandas in a future version. Use pandas.concat instead.\n",
      "  resultados_df = resultados_df.append({'product_id': i, 'product_id_tn': serie_test, 'y_hat': yhat[0][1]}, ignore_index=True)\n"
     ]
    },
    {
     "name": "stdout",
     "output_type": "stream",
     "text": [
      "20047\n"
     ]
    },
    {
     "name": "stderr",
     "output_type": "stream",
     "text": [
      "/var/folders/x4/m6ss_3nn1vn52_2htr4xj3800000gp/T/ipykernel_14000/3859271102.py:25: FutureWarning: The frame.append method is deprecated and will be removed from pandas in a future version. Use pandas.concat instead.\n",
      "  resultados_df = resultados_df.append({'product_id': i, 'product_id_tn': serie_test, 'y_hat': yhat[0][1]}, ignore_index=True)\n"
     ]
    },
    {
     "name": "stdout",
     "output_type": "stream",
     "text": [
      "20048\n"
     ]
    },
    {
     "name": "stderr",
     "output_type": "stream",
     "text": [
      "/var/folders/x4/m6ss_3nn1vn52_2htr4xj3800000gp/T/ipykernel_14000/3859271102.py:25: FutureWarning: The frame.append method is deprecated and will be removed from pandas in a future version. Use pandas.concat instead.\n",
      "  resultados_df = resultados_df.append({'product_id': i, 'product_id_tn': serie_test, 'y_hat': yhat[0][1]}, ignore_index=True)\n"
     ]
    },
    {
     "name": "stdout",
     "output_type": "stream",
     "text": [
      "20049\n"
     ]
    },
    {
     "name": "stderr",
     "output_type": "stream",
     "text": [
      "/var/folders/x4/m6ss_3nn1vn52_2htr4xj3800000gp/T/ipykernel_14000/3859271102.py:25: FutureWarning: The frame.append method is deprecated and will be removed from pandas in a future version. Use pandas.concat instead.\n",
      "  resultados_df = resultados_df.append({'product_id': i, 'product_id_tn': serie_test, 'y_hat': yhat[0][1]}, ignore_index=True)\n"
     ]
    },
    {
     "name": "stdout",
     "output_type": "stream",
     "text": [
      "20050\n"
     ]
    },
    {
     "name": "stderr",
     "output_type": "stream",
     "text": [
      "/var/folders/x4/m6ss_3nn1vn52_2htr4xj3800000gp/T/ipykernel_14000/3859271102.py:25: FutureWarning: The frame.append method is deprecated and will be removed from pandas in a future version. Use pandas.concat instead.\n",
      "  resultados_df = resultados_df.append({'product_id': i, 'product_id_tn': serie_test, 'y_hat': yhat[0][1]}, ignore_index=True)\n"
     ]
    },
    {
     "name": "stdout",
     "output_type": "stream",
     "text": [
      "20051\n"
     ]
    },
    {
     "name": "stderr",
     "output_type": "stream",
     "text": [
      "/var/folders/x4/m6ss_3nn1vn52_2htr4xj3800000gp/T/ipykernel_14000/3859271102.py:25: FutureWarning: The frame.append method is deprecated and will be removed from pandas in a future version. Use pandas.concat instead.\n",
      "  resultados_df = resultados_df.append({'product_id': i, 'product_id_tn': serie_test, 'y_hat': yhat[0][1]}, ignore_index=True)\n"
     ]
    },
    {
     "name": "stdout",
     "output_type": "stream",
     "text": [
      "20052\n"
     ]
    },
    {
     "name": "stderr",
     "output_type": "stream",
     "text": [
      "/var/folders/x4/m6ss_3nn1vn52_2htr4xj3800000gp/T/ipykernel_14000/3859271102.py:25: FutureWarning: The frame.append method is deprecated and will be removed from pandas in a future version. Use pandas.concat instead.\n",
      "  resultados_df = resultados_df.append({'product_id': i, 'product_id_tn': serie_test, 'y_hat': yhat[0][1]}, ignore_index=True)\n"
     ]
    },
    {
     "name": "stdout",
     "output_type": "stream",
     "text": [
      "20053\n"
     ]
    },
    {
     "name": "stderr",
     "output_type": "stream",
     "text": [
      "/var/folders/x4/m6ss_3nn1vn52_2htr4xj3800000gp/T/ipykernel_14000/3859271102.py:25: FutureWarning: The frame.append method is deprecated and will be removed from pandas in a future version. Use pandas.concat instead.\n",
      "  resultados_df = resultados_df.append({'product_id': i, 'product_id_tn': serie_test, 'y_hat': yhat[0][1]}, ignore_index=True)\n"
     ]
    },
    {
     "name": "stdout",
     "output_type": "stream",
     "text": [
      "20054\n"
     ]
    },
    {
     "name": "stderr",
     "output_type": "stream",
     "text": [
      "/var/folders/x4/m6ss_3nn1vn52_2htr4xj3800000gp/T/ipykernel_14000/3859271102.py:25: FutureWarning: The frame.append method is deprecated and will be removed from pandas in a future version. Use pandas.concat instead.\n",
      "  resultados_df = resultados_df.append({'product_id': i, 'product_id_tn': serie_test, 'y_hat': yhat[0][1]}, ignore_index=True)\n"
     ]
    },
    {
     "name": "stdout",
     "output_type": "stream",
     "text": [
      "20055\n"
     ]
    },
    {
     "name": "stderr",
     "output_type": "stream",
     "text": [
      "/var/folders/x4/m6ss_3nn1vn52_2htr4xj3800000gp/T/ipykernel_14000/3859271102.py:25: FutureWarning: The frame.append method is deprecated and will be removed from pandas in a future version. Use pandas.concat instead.\n",
      "  resultados_df = resultados_df.append({'product_id': i, 'product_id_tn': serie_test, 'y_hat': yhat[0][1]}, ignore_index=True)\n"
     ]
    },
    {
     "name": "stdout",
     "output_type": "stream",
     "text": [
      "20056\n"
     ]
    },
    {
     "name": "stderr",
     "output_type": "stream",
     "text": [
      "/var/folders/x4/m6ss_3nn1vn52_2htr4xj3800000gp/T/ipykernel_14000/3859271102.py:25: FutureWarning: The frame.append method is deprecated and will be removed from pandas in a future version. Use pandas.concat instead.\n",
      "  resultados_df = resultados_df.append({'product_id': i, 'product_id_tn': serie_test, 'y_hat': yhat[0][1]}, ignore_index=True)\n"
     ]
    },
    {
     "name": "stdout",
     "output_type": "stream",
     "text": [
      "20057\n"
     ]
    },
    {
     "name": "stderr",
     "output_type": "stream",
     "text": [
      "/var/folders/x4/m6ss_3nn1vn52_2htr4xj3800000gp/T/ipykernel_14000/3859271102.py:25: FutureWarning: The frame.append method is deprecated and will be removed from pandas in a future version. Use pandas.concat instead.\n",
      "  resultados_df = resultados_df.append({'product_id': i, 'product_id_tn': serie_test, 'y_hat': yhat[0][1]}, ignore_index=True)\n"
     ]
    },
    {
     "name": "stdout",
     "output_type": "stream",
     "text": [
      "20058\n"
     ]
    },
    {
     "name": "stderr",
     "output_type": "stream",
     "text": [
      "/var/folders/x4/m6ss_3nn1vn52_2htr4xj3800000gp/T/ipykernel_14000/3859271102.py:25: FutureWarning: The frame.append method is deprecated and will be removed from pandas in a future version. Use pandas.concat instead.\n",
      "  resultados_df = resultados_df.append({'product_id': i, 'product_id_tn': serie_test, 'y_hat': yhat[0][1]}, ignore_index=True)\n"
     ]
    },
    {
     "name": "stdout",
     "output_type": "stream",
     "text": [
      "20059\n"
     ]
    },
    {
     "name": "stderr",
     "output_type": "stream",
     "text": [
      "/var/folders/x4/m6ss_3nn1vn52_2htr4xj3800000gp/T/ipykernel_14000/3859271102.py:25: FutureWarning: The frame.append method is deprecated and will be removed from pandas in a future version. Use pandas.concat instead.\n",
      "  resultados_df = resultados_df.append({'product_id': i, 'product_id_tn': serie_test, 'y_hat': yhat[0][1]}, ignore_index=True)\n"
     ]
    },
    {
     "name": "stdout",
     "output_type": "stream",
     "text": [
      "20060\n"
     ]
    },
    {
     "name": "stderr",
     "output_type": "stream",
     "text": [
      "/var/folders/x4/m6ss_3nn1vn52_2htr4xj3800000gp/T/ipykernel_14000/3859271102.py:25: FutureWarning: The frame.append method is deprecated and will be removed from pandas in a future version. Use pandas.concat instead.\n",
      "  resultados_df = resultados_df.append({'product_id': i, 'product_id_tn': serie_test, 'y_hat': yhat[0][1]}, ignore_index=True)\n"
     ]
    },
    {
     "name": "stdout",
     "output_type": "stream",
     "text": [
      "20061\n"
     ]
    },
    {
     "name": "stderr",
     "output_type": "stream",
     "text": [
      "/var/folders/x4/m6ss_3nn1vn52_2htr4xj3800000gp/T/ipykernel_14000/3859271102.py:25: FutureWarning: The frame.append method is deprecated and will be removed from pandas in a future version. Use pandas.concat instead.\n",
      "  resultados_df = resultados_df.append({'product_id': i, 'product_id_tn': serie_test, 'y_hat': yhat[0][1]}, ignore_index=True)\n"
     ]
    },
    {
     "name": "stdout",
     "output_type": "stream",
     "text": [
      "20062\n"
     ]
    },
    {
     "name": "stderr",
     "output_type": "stream",
     "text": [
      "/var/folders/x4/m6ss_3nn1vn52_2htr4xj3800000gp/T/ipykernel_14000/3859271102.py:25: FutureWarning: The frame.append method is deprecated and will be removed from pandas in a future version. Use pandas.concat instead.\n",
      "  resultados_df = resultados_df.append({'product_id': i, 'product_id_tn': serie_test, 'y_hat': yhat[0][1]}, ignore_index=True)\n"
     ]
    },
    {
     "name": "stdout",
     "output_type": "stream",
     "text": [
      "20063\n"
     ]
    },
    {
     "name": "stderr",
     "output_type": "stream",
     "text": [
      "/var/folders/x4/m6ss_3nn1vn52_2htr4xj3800000gp/T/ipykernel_14000/3859271102.py:25: FutureWarning: The frame.append method is deprecated and will be removed from pandas in a future version. Use pandas.concat instead.\n",
      "  resultados_df = resultados_df.append({'product_id': i, 'product_id_tn': serie_test, 'y_hat': yhat[0][1]}, ignore_index=True)\n"
     ]
    },
    {
     "name": "stdout",
     "output_type": "stream",
     "text": [
      "20064\n"
     ]
    },
    {
     "name": "stderr",
     "output_type": "stream",
     "text": [
      "/var/folders/x4/m6ss_3nn1vn52_2htr4xj3800000gp/T/ipykernel_14000/3859271102.py:25: FutureWarning: The frame.append method is deprecated and will be removed from pandas in a future version. Use pandas.concat instead.\n",
      "  resultados_df = resultados_df.append({'product_id': i, 'product_id_tn': serie_test, 'y_hat': yhat[0][1]}, ignore_index=True)\n"
     ]
    },
    {
     "name": "stdout",
     "output_type": "stream",
     "text": [
      "20065\n"
     ]
    },
    {
     "name": "stderr",
     "output_type": "stream",
     "text": [
      "/var/folders/x4/m6ss_3nn1vn52_2htr4xj3800000gp/T/ipykernel_14000/3859271102.py:25: FutureWarning: The frame.append method is deprecated and will be removed from pandas in a future version. Use pandas.concat instead.\n",
      "  resultados_df = resultados_df.append({'product_id': i, 'product_id_tn': serie_test, 'y_hat': yhat[0][1]}, ignore_index=True)\n"
     ]
    },
    {
     "name": "stdout",
     "output_type": "stream",
     "text": [
      "20066\n"
     ]
    },
    {
     "name": "stderr",
     "output_type": "stream",
     "text": [
      "/var/folders/x4/m6ss_3nn1vn52_2htr4xj3800000gp/T/ipykernel_14000/3859271102.py:25: FutureWarning: The frame.append method is deprecated and will be removed from pandas in a future version. Use pandas.concat instead.\n",
      "  resultados_df = resultados_df.append({'product_id': i, 'product_id_tn': serie_test, 'y_hat': yhat[0][1]}, ignore_index=True)\n"
     ]
    },
    {
     "name": "stdout",
     "output_type": "stream",
     "text": [
      "20067\n"
     ]
    },
    {
     "name": "stderr",
     "output_type": "stream",
     "text": [
      "/var/folders/x4/m6ss_3nn1vn52_2htr4xj3800000gp/T/ipykernel_14000/3859271102.py:25: FutureWarning: The frame.append method is deprecated and will be removed from pandas in a future version. Use pandas.concat instead.\n",
      "  resultados_df = resultados_df.append({'product_id': i, 'product_id_tn': serie_test, 'y_hat': yhat[0][1]}, ignore_index=True)\n"
     ]
    },
    {
     "name": "stdout",
     "output_type": "stream",
     "text": [
      "20068\n"
     ]
    },
    {
     "name": "stderr",
     "output_type": "stream",
     "text": [
      "/var/folders/x4/m6ss_3nn1vn52_2htr4xj3800000gp/T/ipykernel_14000/3859271102.py:25: FutureWarning: The frame.append method is deprecated and will be removed from pandas in a future version. Use pandas.concat instead.\n",
      "  resultados_df = resultados_df.append({'product_id': i, 'product_id_tn': serie_test, 'y_hat': yhat[0][1]}, ignore_index=True)\n"
     ]
    },
    {
     "name": "stdout",
     "output_type": "stream",
     "text": [
      "20069\n"
     ]
    },
    {
     "name": "stderr",
     "output_type": "stream",
     "text": [
      "/var/folders/x4/m6ss_3nn1vn52_2htr4xj3800000gp/T/ipykernel_14000/3859271102.py:25: FutureWarning: The frame.append method is deprecated and will be removed from pandas in a future version. Use pandas.concat instead.\n",
      "  resultados_df = resultados_df.append({'product_id': i, 'product_id_tn': serie_test, 'y_hat': yhat[0][1]}, ignore_index=True)\n"
     ]
    },
    {
     "name": "stdout",
     "output_type": "stream",
     "text": [
      "20070\n"
     ]
    },
    {
     "name": "stderr",
     "output_type": "stream",
     "text": [
      "/var/folders/x4/m6ss_3nn1vn52_2htr4xj3800000gp/T/ipykernel_14000/3859271102.py:25: FutureWarning: The frame.append method is deprecated and will be removed from pandas in a future version. Use pandas.concat instead.\n",
      "  resultados_df = resultados_df.append({'product_id': i, 'product_id_tn': serie_test, 'y_hat': yhat[0][1]}, ignore_index=True)\n"
     ]
    },
    {
     "name": "stdout",
     "output_type": "stream",
     "text": [
      "20071\n"
     ]
    },
    {
     "name": "stderr",
     "output_type": "stream",
     "text": [
      "/var/folders/x4/m6ss_3nn1vn52_2htr4xj3800000gp/T/ipykernel_14000/3859271102.py:25: FutureWarning: The frame.append method is deprecated and will be removed from pandas in a future version. Use pandas.concat instead.\n",
      "  resultados_df = resultados_df.append({'product_id': i, 'product_id_tn': serie_test, 'y_hat': yhat[0][1]}, ignore_index=True)\n"
     ]
    },
    {
     "name": "stdout",
     "output_type": "stream",
     "text": [
      "20072\n"
     ]
    },
    {
     "name": "stderr",
     "output_type": "stream",
     "text": [
      "/var/folders/x4/m6ss_3nn1vn52_2htr4xj3800000gp/T/ipykernel_14000/3859271102.py:25: FutureWarning: The frame.append method is deprecated and will be removed from pandas in a future version. Use pandas.concat instead.\n",
      "  resultados_df = resultados_df.append({'product_id': i, 'product_id_tn': serie_test, 'y_hat': yhat[0][1]}, ignore_index=True)\n"
     ]
    },
    {
     "name": "stdout",
     "output_type": "stream",
     "text": [
      "20073\n"
     ]
    },
    {
     "name": "stderr",
     "output_type": "stream",
     "text": [
      "/var/folders/x4/m6ss_3nn1vn52_2htr4xj3800000gp/T/ipykernel_14000/3859271102.py:25: FutureWarning: The frame.append method is deprecated and will be removed from pandas in a future version. Use pandas.concat instead.\n",
      "  resultados_df = resultados_df.append({'product_id': i, 'product_id_tn': serie_test, 'y_hat': yhat[0][1]}, ignore_index=True)\n"
     ]
    },
    {
     "name": "stdout",
     "output_type": "stream",
     "text": [
      "20074\n"
     ]
    },
    {
     "name": "stderr",
     "output_type": "stream",
     "text": [
      "/var/folders/x4/m6ss_3nn1vn52_2htr4xj3800000gp/T/ipykernel_14000/3859271102.py:25: FutureWarning: The frame.append method is deprecated and will be removed from pandas in a future version. Use pandas.concat instead.\n",
      "  resultados_df = resultados_df.append({'product_id': i, 'product_id_tn': serie_test, 'y_hat': yhat[0][1]}, ignore_index=True)\n"
     ]
    },
    {
     "name": "stdout",
     "output_type": "stream",
     "text": [
      "20075\n"
     ]
    },
    {
     "name": "stderr",
     "output_type": "stream",
     "text": [
      "/var/folders/x4/m6ss_3nn1vn52_2htr4xj3800000gp/T/ipykernel_14000/3859271102.py:25: FutureWarning: The frame.append method is deprecated and will be removed from pandas in a future version. Use pandas.concat instead.\n",
      "  resultados_df = resultados_df.append({'product_id': i, 'product_id_tn': serie_test, 'y_hat': yhat[0][1]}, ignore_index=True)\n"
     ]
    },
    {
     "name": "stdout",
     "output_type": "stream",
     "text": [
      "20076\n"
     ]
    },
    {
     "name": "stderr",
     "output_type": "stream",
     "text": [
      "/var/folders/x4/m6ss_3nn1vn52_2htr4xj3800000gp/T/ipykernel_14000/3859271102.py:25: FutureWarning: The frame.append method is deprecated and will be removed from pandas in a future version. Use pandas.concat instead.\n",
      "  resultados_df = resultados_df.append({'product_id': i, 'product_id_tn': serie_test, 'y_hat': yhat[0][1]}, ignore_index=True)\n"
     ]
    },
    {
     "name": "stdout",
     "output_type": "stream",
     "text": [
      "20077\n"
     ]
    },
    {
     "name": "stderr",
     "output_type": "stream",
     "text": [
      "/var/folders/x4/m6ss_3nn1vn52_2htr4xj3800000gp/T/ipykernel_14000/3859271102.py:25: FutureWarning: The frame.append method is deprecated and will be removed from pandas in a future version. Use pandas.concat instead.\n",
      "  resultados_df = resultados_df.append({'product_id': i, 'product_id_tn': serie_test, 'y_hat': yhat[0][1]}, ignore_index=True)\n"
     ]
    },
    {
     "name": "stdout",
     "output_type": "stream",
     "text": [
      "20078\n"
     ]
    },
    {
     "name": "stderr",
     "output_type": "stream",
     "text": [
      "/var/folders/x4/m6ss_3nn1vn52_2htr4xj3800000gp/T/ipykernel_14000/3859271102.py:25: FutureWarning: The frame.append method is deprecated and will be removed from pandas in a future version. Use pandas.concat instead.\n",
      "  resultados_df = resultados_df.append({'product_id': i, 'product_id_tn': serie_test, 'y_hat': yhat[0][1]}, ignore_index=True)\n"
     ]
    },
    {
     "name": "stdout",
     "output_type": "stream",
     "text": [
      "20079\n"
     ]
    },
    {
     "name": "stderr",
     "output_type": "stream",
     "text": [
      "/var/folders/x4/m6ss_3nn1vn52_2htr4xj3800000gp/T/ipykernel_14000/3859271102.py:25: FutureWarning: The frame.append method is deprecated and will be removed from pandas in a future version. Use pandas.concat instead.\n",
      "  resultados_df = resultados_df.append({'product_id': i, 'product_id_tn': serie_test, 'y_hat': yhat[0][1]}, ignore_index=True)\n"
     ]
    },
    {
     "name": "stdout",
     "output_type": "stream",
     "text": [
      "20080\n"
     ]
    },
    {
     "name": "stderr",
     "output_type": "stream",
     "text": [
      "/var/folders/x4/m6ss_3nn1vn52_2htr4xj3800000gp/T/ipykernel_14000/3859271102.py:25: FutureWarning: The frame.append method is deprecated and will be removed from pandas in a future version. Use pandas.concat instead.\n",
      "  resultados_df = resultados_df.append({'product_id': i, 'product_id_tn': serie_test, 'y_hat': yhat[0][1]}, ignore_index=True)\n"
     ]
    },
    {
     "name": "stdout",
     "output_type": "stream",
     "text": [
      "20081\n"
     ]
    },
    {
     "name": "stderr",
     "output_type": "stream",
     "text": [
      "/var/folders/x4/m6ss_3nn1vn52_2htr4xj3800000gp/T/ipykernel_14000/3859271102.py:25: FutureWarning: The frame.append method is deprecated and will be removed from pandas in a future version. Use pandas.concat instead.\n",
      "  resultados_df = resultados_df.append({'product_id': i, 'product_id_tn': serie_test, 'y_hat': yhat[0][1]}, ignore_index=True)\n"
     ]
    },
    {
     "name": "stdout",
     "output_type": "stream",
     "text": [
      "20082\n"
     ]
    },
    {
     "name": "stderr",
     "output_type": "stream",
     "text": [
      "/var/folders/x4/m6ss_3nn1vn52_2htr4xj3800000gp/T/ipykernel_14000/3859271102.py:25: FutureWarning: The frame.append method is deprecated and will be removed from pandas in a future version. Use pandas.concat instead.\n",
      "  resultados_df = resultados_df.append({'product_id': i, 'product_id_tn': serie_test, 'y_hat': yhat[0][1]}, ignore_index=True)\n"
     ]
    },
    {
     "name": "stdout",
     "output_type": "stream",
     "text": [
      "20083\n"
     ]
    },
    {
     "name": "stderr",
     "output_type": "stream",
     "text": [
      "/var/folders/x4/m6ss_3nn1vn52_2htr4xj3800000gp/T/ipykernel_14000/3859271102.py:25: FutureWarning: The frame.append method is deprecated and will be removed from pandas in a future version. Use pandas.concat instead.\n",
      "  resultados_df = resultados_df.append({'product_id': i, 'product_id_tn': serie_test, 'y_hat': yhat[0][1]}, ignore_index=True)\n"
     ]
    },
    {
     "name": "stdout",
     "output_type": "stream",
     "text": [
      "20084\n"
     ]
    },
    {
     "name": "stderr",
     "output_type": "stream",
     "text": [
      "/var/folders/x4/m6ss_3nn1vn52_2htr4xj3800000gp/T/ipykernel_14000/3859271102.py:25: FutureWarning: The frame.append method is deprecated and will be removed from pandas in a future version. Use pandas.concat instead.\n",
      "  resultados_df = resultados_df.append({'product_id': i, 'product_id_tn': serie_test, 'y_hat': yhat[0][1]}, ignore_index=True)\n"
     ]
    },
    {
     "name": "stdout",
     "output_type": "stream",
     "text": [
      "20086\n"
     ]
    },
    {
     "name": "stderr",
     "output_type": "stream",
     "text": [
      "/var/folders/x4/m6ss_3nn1vn52_2htr4xj3800000gp/T/ipykernel_14000/3859271102.py:25: FutureWarning: The frame.append method is deprecated and will be removed from pandas in a future version. Use pandas.concat instead.\n",
      "  resultados_df = resultados_df.append({'product_id': i, 'product_id_tn': serie_test, 'y_hat': yhat[0][1]}, ignore_index=True)\n"
     ]
    },
    {
     "name": "stdout",
     "output_type": "stream",
     "text": [
      "20087\n"
     ]
    },
    {
     "name": "stderr",
     "output_type": "stream",
     "text": [
      "/var/folders/x4/m6ss_3nn1vn52_2htr4xj3800000gp/T/ipykernel_14000/3859271102.py:25: FutureWarning: The frame.append method is deprecated and will be removed from pandas in a future version. Use pandas.concat instead.\n",
      "  resultados_df = resultados_df.append({'product_id': i, 'product_id_tn': serie_test, 'y_hat': yhat[0][1]}, ignore_index=True)\n"
     ]
    },
    {
     "name": "stdout",
     "output_type": "stream",
     "text": [
      "20088\n"
     ]
    },
    {
     "name": "stderr",
     "output_type": "stream",
     "text": [
      "/var/folders/x4/m6ss_3nn1vn52_2htr4xj3800000gp/T/ipykernel_14000/3859271102.py:25: FutureWarning: The frame.append method is deprecated and will be removed from pandas in a future version. Use pandas.concat instead.\n",
      "  resultados_df = resultados_df.append({'product_id': i, 'product_id_tn': serie_test, 'y_hat': yhat[0][1]}, ignore_index=True)\n"
     ]
    },
    {
     "name": "stdout",
     "output_type": "stream",
     "text": [
      "20089\n"
     ]
    },
    {
     "name": "stderr",
     "output_type": "stream",
     "text": [
      "/var/folders/x4/m6ss_3nn1vn52_2htr4xj3800000gp/T/ipykernel_14000/3859271102.py:25: FutureWarning: The frame.append method is deprecated and will be removed from pandas in a future version. Use pandas.concat instead.\n",
      "  resultados_df = resultados_df.append({'product_id': i, 'product_id_tn': serie_test, 'y_hat': yhat[0][1]}, ignore_index=True)\n"
     ]
    },
    {
     "name": "stdout",
     "output_type": "stream",
     "text": [
      "20090\n"
     ]
    },
    {
     "name": "stderr",
     "output_type": "stream",
     "text": [
      "/var/folders/x4/m6ss_3nn1vn52_2htr4xj3800000gp/T/ipykernel_14000/3859271102.py:25: FutureWarning: The frame.append method is deprecated and will be removed from pandas in a future version. Use pandas.concat instead.\n",
      "  resultados_df = resultados_df.append({'product_id': i, 'product_id_tn': serie_test, 'y_hat': yhat[0][1]}, ignore_index=True)\n"
     ]
    },
    {
     "name": "stdout",
     "output_type": "stream",
     "text": [
      "20091\n"
     ]
    },
    {
     "name": "stderr",
     "output_type": "stream",
     "text": [
      "/var/folders/x4/m6ss_3nn1vn52_2htr4xj3800000gp/T/ipykernel_14000/3859271102.py:25: FutureWarning: The frame.append method is deprecated and will be removed from pandas in a future version. Use pandas.concat instead.\n",
      "  resultados_df = resultados_df.append({'product_id': i, 'product_id_tn': serie_test, 'y_hat': yhat[0][1]}, ignore_index=True)\n"
     ]
    },
    {
     "name": "stdout",
     "output_type": "stream",
     "text": [
      "20092\n"
     ]
    },
    {
     "name": "stderr",
     "output_type": "stream",
     "text": [
      "/var/folders/x4/m6ss_3nn1vn52_2htr4xj3800000gp/T/ipykernel_14000/3859271102.py:25: FutureWarning: The frame.append method is deprecated and will be removed from pandas in a future version. Use pandas.concat instead.\n",
      "  resultados_df = resultados_df.append({'product_id': i, 'product_id_tn': serie_test, 'y_hat': yhat[0][1]}, ignore_index=True)\n"
     ]
    },
    {
     "name": "stdout",
     "output_type": "stream",
     "text": [
      "20093\n"
     ]
    },
    {
     "name": "stderr",
     "output_type": "stream",
     "text": [
      "/var/folders/x4/m6ss_3nn1vn52_2htr4xj3800000gp/T/ipykernel_14000/3859271102.py:25: FutureWarning: The frame.append method is deprecated and will be removed from pandas in a future version. Use pandas.concat instead.\n",
      "  resultados_df = resultados_df.append({'product_id': i, 'product_id_tn': serie_test, 'y_hat': yhat[0][1]}, ignore_index=True)\n"
     ]
    },
    {
     "name": "stdout",
     "output_type": "stream",
     "text": [
      "20094\n"
     ]
    },
    {
     "name": "stderr",
     "output_type": "stream",
     "text": [
      "/var/folders/x4/m6ss_3nn1vn52_2htr4xj3800000gp/T/ipykernel_14000/3859271102.py:25: FutureWarning: The frame.append method is deprecated and will be removed from pandas in a future version. Use pandas.concat instead.\n",
      "  resultados_df = resultados_df.append({'product_id': i, 'product_id_tn': serie_test, 'y_hat': yhat[0][1]}, ignore_index=True)\n"
     ]
    },
    {
     "name": "stdout",
     "output_type": "stream",
     "text": [
      "20095\n"
     ]
    },
    {
     "name": "stderr",
     "output_type": "stream",
     "text": [
      "/var/folders/x4/m6ss_3nn1vn52_2htr4xj3800000gp/T/ipykernel_14000/3859271102.py:25: FutureWarning: The frame.append method is deprecated and will be removed from pandas in a future version. Use pandas.concat instead.\n",
      "  resultados_df = resultados_df.append({'product_id': i, 'product_id_tn': serie_test, 'y_hat': yhat[0][1]}, ignore_index=True)\n"
     ]
    },
    {
     "name": "stdout",
     "output_type": "stream",
     "text": [
      "20096\n"
     ]
    },
    {
     "name": "stderr",
     "output_type": "stream",
     "text": [
      "/var/folders/x4/m6ss_3nn1vn52_2htr4xj3800000gp/T/ipykernel_14000/3859271102.py:25: FutureWarning: The frame.append method is deprecated and will be removed from pandas in a future version. Use pandas.concat instead.\n",
      "  resultados_df = resultados_df.append({'product_id': i, 'product_id_tn': serie_test, 'y_hat': yhat[0][1]}, ignore_index=True)\n"
     ]
    },
    {
     "name": "stdout",
     "output_type": "stream",
     "text": [
      "20097\n"
     ]
    },
    {
     "name": "stderr",
     "output_type": "stream",
     "text": [
      "/var/folders/x4/m6ss_3nn1vn52_2htr4xj3800000gp/T/ipykernel_14000/3859271102.py:25: FutureWarning: The frame.append method is deprecated and will be removed from pandas in a future version. Use pandas.concat instead.\n",
      "  resultados_df = resultados_df.append({'product_id': i, 'product_id_tn': serie_test, 'y_hat': yhat[0][1]}, ignore_index=True)\n"
     ]
    },
    {
     "name": "stdout",
     "output_type": "stream",
     "text": [
      "20098\n"
     ]
    },
    {
     "name": "stderr",
     "output_type": "stream",
     "text": [
      "/var/folders/x4/m6ss_3nn1vn52_2htr4xj3800000gp/T/ipykernel_14000/3859271102.py:25: FutureWarning: The frame.append method is deprecated and will be removed from pandas in a future version. Use pandas.concat instead.\n",
      "  resultados_df = resultados_df.append({'product_id': i, 'product_id_tn': serie_test, 'y_hat': yhat[0][1]}, ignore_index=True)\n"
     ]
    },
    {
     "name": "stdout",
     "output_type": "stream",
     "text": [
      "20099\n"
     ]
    },
    {
     "name": "stderr",
     "output_type": "stream",
     "text": [
      "/var/folders/x4/m6ss_3nn1vn52_2htr4xj3800000gp/T/ipykernel_14000/3859271102.py:25: FutureWarning: The frame.append method is deprecated and will be removed from pandas in a future version. Use pandas.concat instead.\n",
      "  resultados_df = resultados_df.append({'product_id': i, 'product_id_tn': serie_test, 'y_hat': yhat[0][1]}, ignore_index=True)\n"
     ]
    },
    {
     "name": "stdout",
     "output_type": "stream",
     "text": [
      "20100\n"
     ]
    },
    {
     "name": "stderr",
     "output_type": "stream",
     "text": [
      "/var/folders/x4/m6ss_3nn1vn52_2htr4xj3800000gp/T/ipykernel_14000/3859271102.py:25: FutureWarning: The frame.append method is deprecated and will be removed from pandas in a future version. Use pandas.concat instead.\n",
      "  resultados_df = resultados_df.append({'product_id': i, 'product_id_tn': serie_test, 'y_hat': yhat[0][1]}, ignore_index=True)\n"
     ]
    },
    {
     "name": "stdout",
     "output_type": "stream",
     "text": [
      "20101\n"
     ]
    },
    {
     "name": "stderr",
     "output_type": "stream",
     "text": [
      "/var/folders/x4/m6ss_3nn1vn52_2htr4xj3800000gp/T/ipykernel_14000/3859271102.py:25: FutureWarning: The frame.append method is deprecated and will be removed from pandas in a future version. Use pandas.concat instead.\n",
      "  resultados_df = resultados_df.append({'product_id': i, 'product_id_tn': serie_test, 'y_hat': yhat[0][1]}, ignore_index=True)\n"
     ]
    },
    {
     "name": "stdout",
     "output_type": "stream",
     "text": [
      "20102\n"
     ]
    },
    {
     "name": "stderr",
     "output_type": "stream",
     "text": [
      "/var/folders/x4/m6ss_3nn1vn52_2htr4xj3800000gp/T/ipykernel_14000/3859271102.py:25: FutureWarning: The frame.append method is deprecated and will be removed from pandas in a future version. Use pandas.concat instead.\n",
      "  resultados_df = resultados_df.append({'product_id': i, 'product_id_tn': serie_test, 'y_hat': yhat[0][1]}, ignore_index=True)\n"
     ]
    },
    {
     "name": "stdout",
     "output_type": "stream",
     "text": [
      "20103\n"
     ]
    },
    {
     "name": "stderr",
     "output_type": "stream",
     "text": [
      "/var/folders/x4/m6ss_3nn1vn52_2htr4xj3800000gp/T/ipykernel_14000/3859271102.py:25: FutureWarning: The frame.append method is deprecated and will be removed from pandas in a future version. Use pandas.concat instead.\n",
      "  resultados_df = resultados_df.append({'product_id': i, 'product_id_tn': serie_test, 'y_hat': yhat[0][1]}, ignore_index=True)\n"
     ]
    },
    {
     "name": "stdout",
     "output_type": "stream",
     "text": [
      "20104\n"
     ]
    },
    {
     "name": "stderr",
     "output_type": "stream",
     "text": [
      "/var/folders/x4/m6ss_3nn1vn52_2htr4xj3800000gp/T/ipykernel_14000/3859271102.py:25: FutureWarning: The frame.append method is deprecated and will be removed from pandas in a future version. Use pandas.concat instead.\n",
      "  resultados_df = resultados_df.append({'product_id': i, 'product_id_tn': serie_test, 'y_hat': yhat[0][1]}, ignore_index=True)\n"
     ]
    },
    {
     "name": "stdout",
     "output_type": "stream",
     "text": [
      "20105\n"
     ]
    },
    {
     "name": "stderr",
     "output_type": "stream",
     "text": [
      "/var/folders/x4/m6ss_3nn1vn52_2htr4xj3800000gp/T/ipykernel_14000/3859271102.py:25: FutureWarning: The frame.append method is deprecated and will be removed from pandas in a future version. Use pandas.concat instead.\n",
      "  resultados_df = resultados_df.append({'product_id': i, 'product_id_tn': serie_test, 'y_hat': yhat[0][1]}, ignore_index=True)\n"
     ]
    },
    {
     "name": "stdout",
     "output_type": "stream",
     "text": [
      "20106\n"
     ]
    },
    {
     "name": "stderr",
     "output_type": "stream",
     "text": [
      "/var/folders/x4/m6ss_3nn1vn52_2htr4xj3800000gp/T/ipykernel_14000/3859271102.py:25: FutureWarning: The frame.append method is deprecated and will be removed from pandas in a future version. Use pandas.concat instead.\n",
      "  resultados_df = resultados_df.append({'product_id': i, 'product_id_tn': serie_test, 'y_hat': yhat[0][1]}, ignore_index=True)\n"
     ]
    },
    {
     "name": "stdout",
     "output_type": "stream",
     "text": [
      "20107\n"
     ]
    },
    {
     "name": "stderr",
     "output_type": "stream",
     "text": [
      "/var/folders/x4/m6ss_3nn1vn52_2htr4xj3800000gp/T/ipykernel_14000/3859271102.py:25: FutureWarning: The frame.append method is deprecated and will be removed from pandas in a future version. Use pandas.concat instead.\n",
      "  resultados_df = resultados_df.append({'product_id': i, 'product_id_tn': serie_test, 'y_hat': yhat[0][1]}, ignore_index=True)\n"
     ]
    },
    {
     "name": "stdout",
     "output_type": "stream",
     "text": [
      "20108\n"
     ]
    },
    {
     "name": "stderr",
     "output_type": "stream",
     "text": [
      "/var/folders/x4/m6ss_3nn1vn52_2htr4xj3800000gp/T/ipykernel_14000/3859271102.py:25: FutureWarning: The frame.append method is deprecated and will be removed from pandas in a future version. Use pandas.concat instead.\n",
      "  resultados_df = resultados_df.append({'product_id': i, 'product_id_tn': serie_test, 'y_hat': yhat[0][1]}, ignore_index=True)\n"
     ]
    },
    {
     "name": "stdout",
     "output_type": "stream",
     "text": [
      "20109\n"
     ]
    },
    {
     "name": "stderr",
     "output_type": "stream",
     "text": [
      "/var/folders/x4/m6ss_3nn1vn52_2htr4xj3800000gp/T/ipykernel_14000/3859271102.py:25: FutureWarning: The frame.append method is deprecated and will be removed from pandas in a future version. Use pandas.concat instead.\n",
      "  resultados_df = resultados_df.append({'product_id': i, 'product_id_tn': serie_test, 'y_hat': yhat[0][1]}, ignore_index=True)\n"
     ]
    },
    {
     "name": "stdout",
     "output_type": "stream",
     "text": [
      "20110\n"
     ]
    },
    {
     "name": "stderr",
     "output_type": "stream",
     "text": [
      "/var/folders/x4/m6ss_3nn1vn52_2htr4xj3800000gp/T/ipykernel_14000/3859271102.py:25: FutureWarning: The frame.append method is deprecated and will be removed from pandas in a future version. Use pandas.concat instead.\n",
      "  resultados_df = resultados_df.append({'product_id': i, 'product_id_tn': serie_test, 'y_hat': yhat[0][1]}, ignore_index=True)\n"
     ]
    },
    {
     "name": "stdout",
     "output_type": "stream",
     "text": [
      "20111\n"
     ]
    },
    {
     "name": "stderr",
     "output_type": "stream",
     "text": [
      "/var/folders/x4/m6ss_3nn1vn52_2htr4xj3800000gp/T/ipykernel_14000/3859271102.py:25: FutureWarning: The frame.append method is deprecated and will be removed from pandas in a future version. Use pandas.concat instead.\n",
      "  resultados_df = resultados_df.append({'product_id': i, 'product_id_tn': serie_test, 'y_hat': yhat[0][1]}, ignore_index=True)\n"
     ]
    },
    {
     "name": "stdout",
     "output_type": "stream",
     "text": [
      "20112\n"
     ]
    },
    {
     "name": "stderr",
     "output_type": "stream",
     "text": [
      "/var/folders/x4/m6ss_3nn1vn52_2htr4xj3800000gp/T/ipykernel_14000/3859271102.py:25: FutureWarning: The frame.append method is deprecated and will be removed from pandas in a future version. Use pandas.concat instead.\n",
      "  resultados_df = resultados_df.append({'product_id': i, 'product_id_tn': serie_test, 'y_hat': yhat[0][1]}, ignore_index=True)\n"
     ]
    },
    {
     "name": "stdout",
     "output_type": "stream",
     "text": [
      "20113\n"
     ]
    },
    {
     "name": "stderr",
     "output_type": "stream",
     "text": [
      "/var/folders/x4/m6ss_3nn1vn52_2htr4xj3800000gp/T/ipykernel_14000/3859271102.py:25: FutureWarning: The frame.append method is deprecated and will be removed from pandas in a future version. Use pandas.concat instead.\n",
      "  resultados_df = resultados_df.append({'product_id': i, 'product_id_tn': serie_test, 'y_hat': yhat[0][1]}, ignore_index=True)\n"
     ]
    },
    {
     "name": "stdout",
     "output_type": "stream",
     "text": [
      "20114\n"
     ]
    },
    {
     "name": "stderr",
     "output_type": "stream",
     "text": [
      "/var/folders/x4/m6ss_3nn1vn52_2htr4xj3800000gp/T/ipykernel_14000/3859271102.py:25: FutureWarning: The frame.append method is deprecated and will be removed from pandas in a future version. Use pandas.concat instead.\n",
      "  resultados_df = resultados_df.append({'product_id': i, 'product_id_tn': serie_test, 'y_hat': yhat[0][1]}, ignore_index=True)\n"
     ]
    },
    {
     "name": "stdout",
     "output_type": "stream",
     "text": [
      "20115\n"
     ]
    },
    {
     "name": "stderr",
     "output_type": "stream",
     "text": [
      "/var/folders/x4/m6ss_3nn1vn52_2htr4xj3800000gp/T/ipykernel_14000/3859271102.py:25: FutureWarning: The frame.append method is deprecated and will be removed from pandas in a future version. Use pandas.concat instead.\n",
      "  resultados_df = resultados_df.append({'product_id': i, 'product_id_tn': serie_test, 'y_hat': yhat[0][1]}, ignore_index=True)\n"
     ]
    },
    {
     "name": "stdout",
     "output_type": "stream",
     "text": [
      "20116\n"
     ]
    },
    {
     "name": "stderr",
     "output_type": "stream",
     "text": [
      "/var/folders/x4/m6ss_3nn1vn52_2htr4xj3800000gp/T/ipykernel_14000/3859271102.py:25: FutureWarning: The frame.append method is deprecated and will be removed from pandas in a future version. Use pandas.concat instead.\n",
      "  resultados_df = resultados_df.append({'product_id': i, 'product_id_tn': serie_test, 'y_hat': yhat[0][1]}, ignore_index=True)\n"
     ]
    },
    {
     "name": "stdout",
     "output_type": "stream",
     "text": [
      "20117\n"
     ]
    },
    {
     "name": "stderr",
     "output_type": "stream",
     "text": [
      "/var/folders/x4/m6ss_3nn1vn52_2htr4xj3800000gp/T/ipykernel_14000/3859271102.py:25: FutureWarning: The frame.append method is deprecated and will be removed from pandas in a future version. Use pandas.concat instead.\n",
      "  resultados_df = resultados_df.append({'product_id': i, 'product_id_tn': serie_test, 'y_hat': yhat[0][1]}, ignore_index=True)\n"
     ]
    },
    {
     "name": "stdout",
     "output_type": "stream",
     "text": [
      "20118\n"
     ]
    },
    {
     "name": "stderr",
     "output_type": "stream",
     "text": [
      "/var/folders/x4/m6ss_3nn1vn52_2htr4xj3800000gp/T/ipykernel_14000/3859271102.py:25: FutureWarning: The frame.append method is deprecated and will be removed from pandas in a future version. Use pandas.concat instead.\n",
      "  resultados_df = resultados_df.append({'product_id': i, 'product_id_tn': serie_test, 'y_hat': yhat[0][1]}, ignore_index=True)\n"
     ]
    },
    {
     "name": "stdout",
     "output_type": "stream",
     "text": [
      "20119\n"
     ]
    },
    {
     "name": "stderr",
     "output_type": "stream",
     "text": [
      "/var/folders/x4/m6ss_3nn1vn52_2htr4xj3800000gp/T/ipykernel_14000/3859271102.py:25: FutureWarning: The frame.append method is deprecated and will be removed from pandas in a future version. Use pandas.concat instead.\n",
      "  resultados_df = resultados_df.append({'product_id': i, 'product_id_tn': serie_test, 'y_hat': yhat[0][1]}, ignore_index=True)\n"
     ]
    },
    {
     "name": "stdout",
     "output_type": "stream",
     "text": [
      "20120\n"
     ]
    },
    {
     "name": "stderr",
     "output_type": "stream",
     "text": [
      "/var/folders/x4/m6ss_3nn1vn52_2htr4xj3800000gp/T/ipykernel_14000/3859271102.py:25: FutureWarning: The frame.append method is deprecated and will be removed from pandas in a future version. Use pandas.concat instead.\n",
      "  resultados_df = resultados_df.append({'product_id': i, 'product_id_tn': serie_test, 'y_hat': yhat[0][1]}, ignore_index=True)\n"
     ]
    },
    {
     "name": "stdout",
     "output_type": "stream",
     "text": [
      "20121\n"
     ]
    },
    {
     "name": "stderr",
     "output_type": "stream",
     "text": [
      "/var/folders/x4/m6ss_3nn1vn52_2htr4xj3800000gp/T/ipykernel_14000/3859271102.py:25: FutureWarning: The frame.append method is deprecated and will be removed from pandas in a future version. Use pandas.concat instead.\n",
      "  resultados_df = resultados_df.append({'product_id': i, 'product_id_tn': serie_test, 'y_hat': yhat[0][1]}, ignore_index=True)\n"
     ]
    },
    {
     "name": "stdout",
     "output_type": "stream",
     "text": [
      "20122\n"
     ]
    },
    {
     "name": "stderr",
     "output_type": "stream",
     "text": [
      "/var/folders/x4/m6ss_3nn1vn52_2htr4xj3800000gp/T/ipykernel_14000/3859271102.py:25: FutureWarning: The frame.append method is deprecated and will be removed from pandas in a future version. Use pandas.concat instead.\n",
      "  resultados_df = resultados_df.append({'product_id': i, 'product_id_tn': serie_test, 'y_hat': yhat[0][1]}, ignore_index=True)\n"
     ]
    },
    {
     "name": "stdout",
     "output_type": "stream",
     "text": [
      "20123\n"
     ]
    },
    {
     "name": "stderr",
     "output_type": "stream",
     "text": [
      "/var/folders/x4/m6ss_3nn1vn52_2htr4xj3800000gp/T/ipykernel_14000/3859271102.py:25: FutureWarning: The frame.append method is deprecated and will be removed from pandas in a future version. Use pandas.concat instead.\n",
      "  resultados_df = resultados_df.append({'product_id': i, 'product_id_tn': serie_test, 'y_hat': yhat[0][1]}, ignore_index=True)\n"
     ]
    },
    {
     "name": "stdout",
     "output_type": "stream",
     "text": [
      "20124\n"
     ]
    },
    {
     "name": "stderr",
     "output_type": "stream",
     "text": [
      "/var/folders/x4/m6ss_3nn1vn52_2htr4xj3800000gp/T/ipykernel_14000/3859271102.py:25: FutureWarning: The frame.append method is deprecated and will be removed from pandas in a future version. Use pandas.concat instead.\n",
      "  resultados_df = resultados_df.append({'product_id': i, 'product_id_tn': serie_test, 'y_hat': yhat[0][1]}, ignore_index=True)\n"
     ]
    },
    {
     "name": "stdout",
     "output_type": "stream",
     "text": [
      "20125\n"
     ]
    },
    {
     "name": "stderr",
     "output_type": "stream",
     "text": [
      "/var/folders/x4/m6ss_3nn1vn52_2htr4xj3800000gp/T/ipykernel_14000/3859271102.py:25: FutureWarning: The frame.append method is deprecated and will be removed from pandas in a future version. Use pandas.concat instead.\n",
      "  resultados_df = resultados_df.append({'product_id': i, 'product_id_tn': serie_test, 'y_hat': yhat[0][1]}, ignore_index=True)\n"
     ]
    },
    {
     "name": "stdout",
     "output_type": "stream",
     "text": [
      "20126\n"
     ]
    },
    {
     "name": "stderr",
     "output_type": "stream",
     "text": [
      "/var/folders/x4/m6ss_3nn1vn52_2htr4xj3800000gp/T/ipykernel_14000/3859271102.py:25: FutureWarning: The frame.append method is deprecated and will be removed from pandas in a future version. Use pandas.concat instead.\n",
      "  resultados_df = resultados_df.append({'product_id': i, 'product_id_tn': serie_test, 'y_hat': yhat[0][1]}, ignore_index=True)\n"
     ]
    },
    {
     "name": "stdout",
     "output_type": "stream",
     "text": [
      "20128\n"
     ]
    },
    {
     "name": "stderr",
     "output_type": "stream",
     "text": [
      "/var/folders/x4/m6ss_3nn1vn52_2htr4xj3800000gp/T/ipykernel_14000/3859271102.py:25: FutureWarning: The frame.append method is deprecated and will be removed from pandas in a future version. Use pandas.concat instead.\n",
      "  resultados_df = resultados_df.append({'product_id': i, 'product_id_tn': serie_test, 'y_hat': yhat[0][1]}, ignore_index=True)\n"
     ]
    },
    {
     "name": "stdout",
     "output_type": "stream",
     "text": [
      "20129\n"
     ]
    },
    {
     "name": "stderr",
     "output_type": "stream",
     "text": [
      "/var/folders/x4/m6ss_3nn1vn52_2htr4xj3800000gp/T/ipykernel_14000/3859271102.py:25: FutureWarning: The frame.append method is deprecated and will be removed from pandas in a future version. Use pandas.concat instead.\n",
      "  resultados_df = resultados_df.append({'product_id': i, 'product_id_tn': serie_test, 'y_hat': yhat[0][1]}, ignore_index=True)\n"
     ]
    },
    {
     "name": "stdout",
     "output_type": "stream",
     "text": [
      "20130\n"
     ]
    },
    {
     "name": "stderr",
     "output_type": "stream",
     "text": [
      "/var/folders/x4/m6ss_3nn1vn52_2htr4xj3800000gp/T/ipykernel_14000/3859271102.py:25: FutureWarning: The frame.append method is deprecated and will be removed from pandas in a future version. Use pandas.concat instead.\n",
      "  resultados_df = resultados_df.append({'product_id': i, 'product_id_tn': serie_test, 'y_hat': yhat[0][1]}, ignore_index=True)\n"
     ]
    },
    {
     "name": "stdout",
     "output_type": "stream",
     "text": [
      "20131\n"
     ]
    },
    {
     "name": "stderr",
     "output_type": "stream",
     "text": [
      "/var/folders/x4/m6ss_3nn1vn52_2htr4xj3800000gp/T/ipykernel_14000/3859271102.py:25: FutureWarning: The frame.append method is deprecated and will be removed from pandas in a future version. Use pandas.concat instead.\n",
      "  resultados_df = resultados_df.append({'product_id': i, 'product_id_tn': serie_test, 'y_hat': yhat[0][1]}, ignore_index=True)\n"
     ]
    },
    {
     "name": "stdout",
     "output_type": "stream",
     "text": [
      "20132\n"
     ]
    },
    {
     "name": "stderr",
     "output_type": "stream",
     "text": [
      "/var/folders/x4/m6ss_3nn1vn52_2htr4xj3800000gp/T/ipykernel_14000/3859271102.py:25: FutureWarning: The frame.append method is deprecated and will be removed from pandas in a future version. Use pandas.concat instead.\n",
      "  resultados_df = resultados_df.append({'product_id': i, 'product_id_tn': serie_test, 'y_hat': yhat[0][1]}, ignore_index=True)\n"
     ]
    },
    {
     "name": "stdout",
     "output_type": "stream",
     "text": [
      "20133\n"
     ]
    },
    {
     "name": "stderr",
     "output_type": "stream",
     "text": [
      "/var/folders/x4/m6ss_3nn1vn52_2htr4xj3800000gp/T/ipykernel_14000/3859271102.py:25: FutureWarning: The frame.append method is deprecated and will be removed from pandas in a future version. Use pandas.concat instead.\n",
      "  resultados_df = resultados_df.append({'product_id': i, 'product_id_tn': serie_test, 'y_hat': yhat[0][1]}, ignore_index=True)\n"
     ]
    },
    {
     "name": "stdout",
     "output_type": "stream",
     "text": [
      "20134\n"
     ]
    },
    {
     "name": "stderr",
     "output_type": "stream",
     "text": [
      "/var/folders/x4/m6ss_3nn1vn52_2htr4xj3800000gp/T/ipykernel_14000/3859271102.py:25: FutureWarning: The frame.append method is deprecated and will be removed from pandas in a future version. Use pandas.concat instead.\n",
      "  resultados_df = resultados_df.append({'product_id': i, 'product_id_tn': serie_test, 'y_hat': yhat[0][1]}, ignore_index=True)\n"
     ]
    },
    {
     "name": "stdout",
     "output_type": "stream",
     "text": [
      "20135\n"
     ]
    },
    {
     "name": "stderr",
     "output_type": "stream",
     "text": [
      "/var/folders/x4/m6ss_3nn1vn52_2htr4xj3800000gp/T/ipykernel_14000/3859271102.py:25: FutureWarning: The frame.append method is deprecated and will be removed from pandas in a future version. Use pandas.concat instead.\n",
      "  resultados_df = resultados_df.append({'product_id': i, 'product_id_tn': serie_test, 'y_hat': yhat[0][1]}, ignore_index=True)\n"
     ]
    },
    {
     "name": "stdout",
     "output_type": "stream",
     "text": [
      "20136\n"
     ]
    },
    {
     "name": "stderr",
     "output_type": "stream",
     "text": [
      "/var/folders/x4/m6ss_3nn1vn52_2htr4xj3800000gp/T/ipykernel_14000/3859271102.py:25: FutureWarning: The frame.append method is deprecated and will be removed from pandas in a future version. Use pandas.concat instead.\n",
      "  resultados_df = resultados_df.append({'product_id': i, 'product_id_tn': serie_test, 'y_hat': yhat[0][1]}, ignore_index=True)\n"
     ]
    },
    {
     "name": "stdout",
     "output_type": "stream",
     "text": [
      "20137\n"
     ]
    },
    {
     "name": "stderr",
     "output_type": "stream",
     "text": [
      "/var/folders/x4/m6ss_3nn1vn52_2htr4xj3800000gp/T/ipykernel_14000/3859271102.py:25: FutureWarning: The frame.append method is deprecated and will be removed from pandas in a future version. Use pandas.concat instead.\n",
      "  resultados_df = resultados_df.append({'product_id': i, 'product_id_tn': serie_test, 'y_hat': yhat[0][1]}, ignore_index=True)\n"
     ]
    },
    {
     "name": "stdout",
     "output_type": "stream",
     "text": [
      "20138\n"
     ]
    },
    {
     "name": "stderr",
     "output_type": "stream",
     "text": [
      "/var/folders/x4/m6ss_3nn1vn52_2htr4xj3800000gp/T/ipykernel_14000/3859271102.py:25: FutureWarning: The frame.append method is deprecated and will be removed from pandas in a future version. Use pandas.concat instead.\n",
      "  resultados_df = resultados_df.append({'product_id': i, 'product_id_tn': serie_test, 'y_hat': yhat[0][1]}, ignore_index=True)\n"
     ]
    },
    {
     "name": "stdout",
     "output_type": "stream",
     "text": [
      "20139\n"
     ]
    },
    {
     "name": "stderr",
     "output_type": "stream",
     "text": [
      "/var/folders/x4/m6ss_3nn1vn52_2htr4xj3800000gp/T/ipykernel_14000/3859271102.py:25: FutureWarning: The frame.append method is deprecated and will be removed from pandas in a future version. Use pandas.concat instead.\n",
      "  resultados_df = resultados_df.append({'product_id': i, 'product_id_tn': serie_test, 'y_hat': yhat[0][1]}, ignore_index=True)\n"
     ]
    },
    {
     "name": "stdout",
     "output_type": "stream",
     "text": [
      "20140\n"
     ]
    },
    {
     "name": "stderr",
     "output_type": "stream",
     "text": [
      "/var/folders/x4/m6ss_3nn1vn52_2htr4xj3800000gp/T/ipykernel_14000/3859271102.py:25: FutureWarning: The frame.append method is deprecated and will be removed from pandas in a future version. Use pandas.concat instead.\n",
      "  resultados_df = resultados_df.append({'product_id': i, 'product_id_tn': serie_test, 'y_hat': yhat[0][1]}, ignore_index=True)\n"
     ]
    },
    {
     "name": "stdout",
     "output_type": "stream",
     "text": [
      "20141\n"
     ]
    },
    {
     "name": "stderr",
     "output_type": "stream",
     "text": [
      "/var/folders/x4/m6ss_3nn1vn52_2htr4xj3800000gp/T/ipykernel_14000/3859271102.py:25: FutureWarning: The frame.append method is deprecated and will be removed from pandas in a future version. Use pandas.concat instead.\n",
      "  resultados_df = resultados_df.append({'product_id': i, 'product_id_tn': serie_test, 'y_hat': yhat[0][1]}, ignore_index=True)\n"
     ]
    },
    {
     "name": "stdout",
     "output_type": "stream",
     "text": [
      "20142\n"
     ]
    },
    {
     "name": "stderr",
     "output_type": "stream",
     "text": [
      "/var/folders/x4/m6ss_3nn1vn52_2htr4xj3800000gp/T/ipykernel_14000/3859271102.py:25: FutureWarning: The frame.append method is deprecated and will be removed from pandas in a future version. Use pandas.concat instead.\n",
      "  resultados_df = resultados_df.append({'product_id': i, 'product_id_tn': serie_test, 'y_hat': yhat[0][1]}, ignore_index=True)\n"
     ]
    },
    {
     "name": "stdout",
     "output_type": "stream",
     "text": [
      "20143\n"
     ]
    },
    {
     "name": "stderr",
     "output_type": "stream",
     "text": [
      "/var/folders/x4/m6ss_3nn1vn52_2htr4xj3800000gp/T/ipykernel_14000/3859271102.py:25: FutureWarning: The frame.append method is deprecated and will be removed from pandas in a future version. Use pandas.concat instead.\n",
      "  resultados_df = resultados_df.append({'product_id': i, 'product_id_tn': serie_test, 'y_hat': yhat[0][1]}, ignore_index=True)\n"
     ]
    },
    {
     "name": "stdout",
     "output_type": "stream",
     "text": [
      "20144\n"
     ]
    },
    {
     "name": "stderr",
     "output_type": "stream",
     "text": [
      "/var/folders/x4/m6ss_3nn1vn52_2htr4xj3800000gp/T/ipykernel_14000/3859271102.py:25: FutureWarning: The frame.append method is deprecated and will be removed from pandas in a future version. Use pandas.concat instead.\n",
      "  resultados_df = resultados_df.append({'product_id': i, 'product_id_tn': serie_test, 'y_hat': yhat[0][1]}, ignore_index=True)\n"
     ]
    },
    {
     "name": "stdout",
     "output_type": "stream",
     "text": [
      "20145\n"
     ]
    },
    {
     "name": "stderr",
     "output_type": "stream",
     "text": [
      "/var/folders/x4/m6ss_3nn1vn52_2htr4xj3800000gp/T/ipykernel_14000/3859271102.py:25: FutureWarning: The frame.append method is deprecated and will be removed from pandas in a future version. Use pandas.concat instead.\n",
      "  resultados_df = resultados_df.append({'product_id': i, 'product_id_tn': serie_test, 'y_hat': yhat[0][1]}, ignore_index=True)\n"
     ]
    },
    {
     "name": "stdout",
     "output_type": "stream",
     "text": [
      "20146\n"
     ]
    },
    {
     "name": "stderr",
     "output_type": "stream",
     "text": [
      "/var/folders/x4/m6ss_3nn1vn52_2htr4xj3800000gp/T/ipykernel_14000/3859271102.py:25: FutureWarning: The frame.append method is deprecated and will be removed from pandas in a future version. Use pandas.concat instead.\n",
      "  resultados_df = resultados_df.append({'product_id': i, 'product_id_tn': serie_test, 'y_hat': yhat[0][1]}, ignore_index=True)\n"
     ]
    },
    {
     "name": "stdout",
     "output_type": "stream",
     "text": [
      "20147\n"
     ]
    },
    {
     "name": "stderr",
     "output_type": "stream",
     "text": [
      "/var/folders/x4/m6ss_3nn1vn52_2htr4xj3800000gp/T/ipykernel_14000/3859271102.py:25: FutureWarning: The frame.append method is deprecated and will be removed from pandas in a future version. Use pandas.concat instead.\n",
      "  resultados_df = resultados_df.append({'product_id': i, 'product_id_tn': serie_test, 'y_hat': yhat[0][1]}, ignore_index=True)\n"
     ]
    },
    {
     "name": "stdout",
     "output_type": "stream",
     "text": [
      "20148\n"
     ]
    },
    {
     "name": "stderr",
     "output_type": "stream",
     "text": [
      "/var/folders/x4/m6ss_3nn1vn52_2htr4xj3800000gp/T/ipykernel_14000/3859271102.py:25: FutureWarning: The frame.append method is deprecated and will be removed from pandas in a future version. Use pandas.concat instead.\n",
      "  resultados_df = resultados_df.append({'product_id': i, 'product_id_tn': serie_test, 'y_hat': yhat[0][1]}, ignore_index=True)\n"
     ]
    },
    {
     "name": "stdout",
     "output_type": "stream",
     "text": [
      "20149\n"
     ]
    },
    {
     "name": "stderr",
     "output_type": "stream",
     "text": [
      "/var/folders/x4/m6ss_3nn1vn52_2htr4xj3800000gp/T/ipykernel_14000/3859271102.py:25: FutureWarning: The frame.append method is deprecated and will be removed from pandas in a future version. Use pandas.concat instead.\n",
      "  resultados_df = resultados_df.append({'product_id': i, 'product_id_tn': serie_test, 'y_hat': yhat[0][1]}, ignore_index=True)\n"
     ]
    },
    {
     "name": "stdout",
     "output_type": "stream",
     "text": [
      "20150\n"
     ]
    },
    {
     "name": "stderr",
     "output_type": "stream",
     "text": [
      "/var/folders/x4/m6ss_3nn1vn52_2htr4xj3800000gp/T/ipykernel_14000/3859271102.py:25: FutureWarning: The frame.append method is deprecated and will be removed from pandas in a future version. Use pandas.concat instead.\n",
      "  resultados_df = resultados_df.append({'product_id': i, 'product_id_tn': serie_test, 'y_hat': yhat[0][1]}, ignore_index=True)\n"
     ]
    },
    {
     "name": "stdout",
     "output_type": "stream",
     "text": [
      "20151\n"
     ]
    },
    {
     "name": "stderr",
     "output_type": "stream",
     "text": [
      "/var/folders/x4/m6ss_3nn1vn52_2htr4xj3800000gp/T/ipykernel_14000/3859271102.py:25: FutureWarning: The frame.append method is deprecated and will be removed from pandas in a future version. Use pandas.concat instead.\n",
      "  resultados_df = resultados_df.append({'product_id': i, 'product_id_tn': serie_test, 'y_hat': yhat[0][1]}, ignore_index=True)\n"
     ]
    },
    {
     "name": "stdout",
     "output_type": "stream",
     "text": [
      "20152\n"
     ]
    },
    {
     "name": "stderr",
     "output_type": "stream",
     "text": [
      "/var/folders/x4/m6ss_3nn1vn52_2htr4xj3800000gp/T/ipykernel_14000/3859271102.py:25: FutureWarning: The frame.append method is deprecated and will be removed from pandas in a future version. Use pandas.concat instead.\n",
      "  resultados_df = resultados_df.append({'product_id': i, 'product_id_tn': serie_test, 'y_hat': yhat[0][1]}, ignore_index=True)\n"
     ]
    },
    {
     "name": "stdout",
     "output_type": "stream",
     "text": [
      "20153\n"
     ]
    },
    {
     "name": "stderr",
     "output_type": "stream",
     "text": [
      "/var/folders/x4/m6ss_3nn1vn52_2htr4xj3800000gp/T/ipykernel_14000/3859271102.py:25: FutureWarning: The frame.append method is deprecated and will be removed from pandas in a future version. Use pandas.concat instead.\n",
      "  resultados_df = resultados_df.append({'product_id': i, 'product_id_tn': serie_test, 'y_hat': yhat[0][1]}, ignore_index=True)\n"
     ]
    },
    {
     "name": "stdout",
     "output_type": "stream",
     "text": [
      "20154\n"
     ]
    },
    {
     "name": "stderr",
     "output_type": "stream",
     "text": [
      "/var/folders/x4/m6ss_3nn1vn52_2htr4xj3800000gp/T/ipykernel_14000/3859271102.py:25: FutureWarning: The frame.append method is deprecated and will be removed from pandas in a future version. Use pandas.concat instead.\n",
      "  resultados_df = resultados_df.append({'product_id': i, 'product_id_tn': serie_test, 'y_hat': yhat[0][1]}, ignore_index=True)\n"
     ]
    },
    {
     "name": "stdout",
     "output_type": "stream",
     "text": [
      "20155\n"
     ]
    },
    {
     "name": "stderr",
     "output_type": "stream",
     "text": [
      "/var/folders/x4/m6ss_3nn1vn52_2htr4xj3800000gp/T/ipykernel_14000/3859271102.py:25: FutureWarning: The frame.append method is deprecated and will be removed from pandas in a future version. Use pandas.concat instead.\n",
      "  resultados_df = resultados_df.append({'product_id': i, 'product_id_tn': serie_test, 'y_hat': yhat[0][1]}, ignore_index=True)\n"
     ]
    },
    {
     "name": "stdout",
     "output_type": "stream",
     "text": [
      "20156\n"
     ]
    },
    {
     "name": "stderr",
     "output_type": "stream",
     "text": [
      "/var/folders/x4/m6ss_3nn1vn52_2htr4xj3800000gp/T/ipykernel_14000/3859271102.py:25: FutureWarning: The frame.append method is deprecated and will be removed from pandas in a future version. Use pandas.concat instead.\n",
      "  resultados_df = resultados_df.append({'product_id': i, 'product_id_tn': serie_test, 'y_hat': yhat[0][1]}, ignore_index=True)\n"
     ]
    },
    {
     "name": "stdout",
     "output_type": "stream",
     "text": [
      "20157\n"
     ]
    },
    {
     "name": "stderr",
     "output_type": "stream",
     "text": [
      "/var/folders/x4/m6ss_3nn1vn52_2htr4xj3800000gp/T/ipykernel_14000/3859271102.py:25: FutureWarning: The frame.append method is deprecated and will be removed from pandas in a future version. Use pandas.concat instead.\n",
      "  resultados_df = resultados_df.append({'product_id': i, 'product_id_tn': serie_test, 'y_hat': yhat[0][1]}, ignore_index=True)\n"
     ]
    },
    {
     "name": "stdout",
     "output_type": "stream",
     "text": [
      "20158\n"
     ]
    },
    {
     "name": "stderr",
     "output_type": "stream",
     "text": [
      "/var/folders/x4/m6ss_3nn1vn52_2htr4xj3800000gp/T/ipykernel_14000/3859271102.py:25: FutureWarning: The frame.append method is deprecated and will be removed from pandas in a future version. Use pandas.concat instead.\n",
      "  resultados_df = resultados_df.append({'product_id': i, 'product_id_tn': serie_test, 'y_hat': yhat[0][1]}, ignore_index=True)\n"
     ]
    },
    {
     "name": "stdout",
     "output_type": "stream",
     "text": [
      "20159\n"
     ]
    },
    {
     "name": "stderr",
     "output_type": "stream",
     "text": [
      "/var/folders/x4/m6ss_3nn1vn52_2htr4xj3800000gp/T/ipykernel_14000/3859271102.py:25: FutureWarning: The frame.append method is deprecated and will be removed from pandas in a future version. Use pandas.concat instead.\n",
      "  resultados_df = resultados_df.append({'product_id': i, 'product_id_tn': serie_test, 'y_hat': yhat[0][1]}, ignore_index=True)\n"
     ]
    },
    {
     "name": "stdout",
     "output_type": "stream",
     "text": [
      "20160\n"
     ]
    },
    {
     "name": "stderr",
     "output_type": "stream",
     "text": [
      "/var/folders/x4/m6ss_3nn1vn52_2htr4xj3800000gp/T/ipykernel_14000/3859271102.py:25: FutureWarning: The frame.append method is deprecated and will be removed from pandas in a future version. Use pandas.concat instead.\n",
      "  resultados_df = resultados_df.append({'product_id': i, 'product_id_tn': serie_test, 'y_hat': yhat[0][1]}, ignore_index=True)\n"
     ]
    },
    {
     "name": "stdout",
     "output_type": "stream",
     "text": [
      "20161\n"
     ]
    },
    {
     "name": "stderr",
     "output_type": "stream",
     "text": [
      "/var/folders/x4/m6ss_3nn1vn52_2htr4xj3800000gp/T/ipykernel_14000/3859271102.py:25: FutureWarning: The frame.append method is deprecated and will be removed from pandas in a future version. Use pandas.concat instead.\n",
      "  resultados_df = resultados_df.append({'product_id': i, 'product_id_tn': serie_test, 'y_hat': yhat[0][1]}, ignore_index=True)\n"
     ]
    },
    {
     "name": "stdout",
     "output_type": "stream",
     "text": [
      "20162\n"
     ]
    },
    {
     "name": "stderr",
     "output_type": "stream",
     "text": [
      "/var/folders/x4/m6ss_3nn1vn52_2htr4xj3800000gp/T/ipykernel_14000/3859271102.py:25: FutureWarning: The frame.append method is deprecated and will be removed from pandas in a future version. Use pandas.concat instead.\n",
      "  resultados_df = resultados_df.append({'product_id': i, 'product_id_tn': serie_test, 'y_hat': yhat[0][1]}, ignore_index=True)\n"
     ]
    },
    {
     "name": "stdout",
     "output_type": "stream",
     "text": [
      "20163\n"
     ]
    },
    {
     "name": "stderr",
     "output_type": "stream",
     "text": [
      "/var/folders/x4/m6ss_3nn1vn52_2htr4xj3800000gp/T/ipykernel_14000/3859271102.py:25: FutureWarning: The frame.append method is deprecated and will be removed from pandas in a future version. Use pandas.concat instead.\n",
      "  resultados_df = resultados_df.append({'product_id': i, 'product_id_tn': serie_test, 'y_hat': yhat[0][1]}, ignore_index=True)\n"
     ]
    },
    {
     "name": "stdout",
     "output_type": "stream",
     "text": [
      "20164\n"
     ]
    },
    {
     "name": "stderr",
     "output_type": "stream",
     "text": [
      "/var/folders/x4/m6ss_3nn1vn52_2htr4xj3800000gp/T/ipykernel_14000/3859271102.py:25: FutureWarning: The frame.append method is deprecated and will be removed from pandas in a future version. Use pandas.concat instead.\n",
      "  resultados_df = resultados_df.append({'product_id': i, 'product_id_tn': serie_test, 'y_hat': yhat[0][1]}, ignore_index=True)\n"
     ]
    },
    {
     "name": "stdout",
     "output_type": "stream",
     "text": [
      "20165\n"
     ]
    },
    {
     "name": "stderr",
     "output_type": "stream",
     "text": [
      "/var/folders/x4/m6ss_3nn1vn52_2htr4xj3800000gp/T/ipykernel_14000/3859271102.py:25: FutureWarning: The frame.append method is deprecated and will be removed from pandas in a future version. Use pandas.concat instead.\n",
      "  resultados_df = resultados_df.append({'product_id': i, 'product_id_tn': serie_test, 'y_hat': yhat[0][1]}, ignore_index=True)\n"
     ]
    },
    {
     "name": "stdout",
     "output_type": "stream",
     "text": [
      "20166\n"
     ]
    },
    {
     "name": "stderr",
     "output_type": "stream",
     "text": [
      "/var/folders/x4/m6ss_3nn1vn52_2htr4xj3800000gp/T/ipykernel_14000/3859271102.py:25: FutureWarning: The frame.append method is deprecated and will be removed from pandas in a future version. Use pandas.concat instead.\n",
      "  resultados_df = resultados_df.append({'product_id': i, 'product_id_tn': serie_test, 'y_hat': yhat[0][1]}, ignore_index=True)\n"
     ]
    },
    {
     "name": "stdout",
     "output_type": "stream",
     "text": [
      "20167\n"
     ]
    },
    {
     "name": "stderr",
     "output_type": "stream",
     "text": [
      "/var/folders/x4/m6ss_3nn1vn52_2htr4xj3800000gp/T/ipykernel_14000/3859271102.py:25: FutureWarning: The frame.append method is deprecated and will be removed from pandas in a future version. Use pandas.concat instead.\n",
      "  resultados_df = resultados_df.append({'product_id': i, 'product_id_tn': serie_test, 'y_hat': yhat[0][1]}, ignore_index=True)\n"
     ]
    },
    {
     "name": "stdout",
     "output_type": "stream",
     "text": [
      "20168\n"
     ]
    },
    {
     "name": "stderr",
     "output_type": "stream",
     "text": [
      "/var/folders/x4/m6ss_3nn1vn52_2htr4xj3800000gp/T/ipykernel_14000/3859271102.py:25: FutureWarning: The frame.append method is deprecated and will be removed from pandas in a future version. Use pandas.concat instead.\n",
      "  resultados_df = resultados_df.append({'product_id': i, 'product_id_tn': serie_test, 'y_hat': yhat[0][1]}, ignore_index=True)\n"
     ]
    },
    {
     "name": "stdout",
     "output_type": "stream",
     "text": [
      "20169\n"
     ]
    },
    {
     "name": "stderr",
     "output_type": "stream",
     "text": [
      "/var/folders/x4/m6ss_3nn1vn52_2htr4xj3800000gp/T/ipykernel_14000/3859271102.py:25: FutureWarning: The frame.append method is deprecated and will be removed from pandas in a future version. Use pandas.concat instead.\n",
      "  resultados_df = resultados_df.append({'product_id': i, 'product_id_tn': serie_test, 'y_hat': yhat[0][1]}, ignore_index=True)\n"
     ]
    },
    {
     "name": "stdout",
     "output_type": "stream",
     "text": [
      "20170\n"
     ]
    },
    {
     "name": "stderr",
     "output_type": "stream",
     "text": [
      "/var/folders/x4/m6ss_3nn1vn52_2htr4xj3800000gp/T/ipykernel_14000/3859271102.py:25: FutureWarning: The frame.append method is deprecated and will be removed from pandas in a future version. Use pandas.concat instead.\n",
      "  resultados_df = resultados_df.append({'product_id': i, 'product_id_tn': serie_test, 'y_hat': yhat[0][1]}, ignore_index=True)\n"
     ]
    },
    {
     "name": "stdout",
     "output_type": "stream",
     "text": [
      "20171\n"
     ]
    },
    {
     "name": "stderr",
     "output_type": "stream",
     "text": [
      "/var/folders/x4/m6ss_3nn1vn52_2htr4xj3800000gp/T/ipykernel_14000/3859271102.py:25: FutureWarning: The frame.append method is deprecated and will be removed from pandas in a future version. Use pandas.concat instead.\n",
      "  resultados_df = resultados_df.append({'product_id': i, 'product_id_tn': serie_test, 'y_hat': yhat[0][1]}, ignore_index=True)\n"
     ]
    },
    {
     "name": "stdout",
     "output_type": "stream",
     "text": [
      "20172\n"
     ]
    },
    {
     "name": "stderr",
     "output_type": "stream",
     "text": [
      "/var/folders/x4/m6ss_3nn1vn52_2htr4xj3800000gp/T/ipykernel_14000/3859271102.py:25: FutureWarning: The frame.append method is deprecated and will be removed from pandas in a future version. Use pandas.concat instead.\n",
      "  resultados_df = resultados_df.append({'product_id': i, 'product_id_tn': serie_test, 'y_hat': yhat[0][1]}, ignore_index=True)\n"
     ]
    },
    {
     "name": "stdout",
     "output_type": "stream",
     "text": [
      "20173\n"
     ]
    },
    {
     "name": "stderr",
     "output_type": "stream",
     "text": [
      "/var/folders/x4/m6ss_3nn1vn52_2htr4xj3800000gp/T/ipykernel_14000/3859271102.py:25: FutureWarning: The frame.append method is deprecated and will be removed from pandas in a future version. Use pandas.concat instead.\n",
      "  resultados_df = resultados_df.append({'product_id': i, 'product_id_tn': serie_test, 'y_hat': yhat[0][1]}, ignore_index=True)\n"
     ]
    },
    {
     "name": "stdout",
     "output_type": "stream",
     "text": [
      "20175\n"
     ]
    },
    {
     "name": "stderr",
     "output_type": "stream",
     "text": [
      "/var/folders/x4/m6ss_3nn1vn52_2htr4xj3800000gp/T/ipykernel_14000/3859271102.py:25: FutureWarning: The frame.append method is deprecated and will be removed from pandas in a future version. Use pandas.concat instead.\n",
      "  resultados_df = resultados_df.append({'product_id': i, 'product_id_tn': serie_test, 'y_hat': yhat[0][1]}, ignore_index=True)\n"
     ]
    },
    {
     "name": "stdout",
     "output_type": "stream",
     "text": [
      "20176\n"
     ]
    },
    {
     "name": "stderr",
     "output_type": "stream",
     "text": [
      "/var/folders/x4/m6ss_3nn1vn52_2htr4xj3800000gp/T/ipykernel_14000/3859271102.py:25: FutureWarning: The frame.append method is deprecated and will be removed from pandas in a future version. Use pandas.concat instead.\n",
      "  resultados_df = resultados_df.append({'product_id': i, 'product_id_tn': serie_test, 'y_hat': yhat[0][1]}, ignore_index=True)\n"
     ]
    },
    {
     "name": "stdout",
     "output_type": "stream",
     "text": [
      "20177\n"
     ]
    },
    {
     "name": "stderr",
     "output_type": "stream",
     "text": [
      "/var/folders/x4/m6ss_3nn1vn52_2htr4xj3800000gp/T/ipykernel_14000/3859271102.py:25: FutureWarning: The frame.append method is deprecated and will be removed from pandas in a future version. Use pandas.concat instead.\n",
      "  resultados_df = resultados_df.append({'product_id': i, 'product_id_tn': serie_test, 'y_hat': yhat[0][1]}, ignore_index=True)\n"
     ]
    },
    {
     "name": "stdout",
     "output_type": "stream",
     "text": [
      "20178\n"
     ]
    },
    {
     "name": "stderr",
     "output_type": "stream",
     "text": [
      "/var/folders/x4/m6ss_3nn1vn52_2htr4xj3800000gp/T/ipykernel_14000/3859271102.py:25: FutureWarning: The frame.append method is deprecated and will be removed from pandas in a future version. Use pandas.concat instead.\n",
      "  resultados_df = resultados_df.append({'product_id': i, 'product_id_tn': serie_test, 'y_hat': yhat[0][1]}, ignore_index=True)\n"
     ]
    },
    {
     "name": "stdout",
     "output_type": "stream",
     "text": [
      "20179\n"
     ]
    },
    {
     "name": "stderr",
     "output_type": "stream",
     "text": [
      "/var/folders/x4/m6ss_3nn1vn52_2htr4xj3800000gp/T/ipykernel_14000/3859271102.py:25: FutureWarning: The frame.append method is deprecated and will be removed from pandas in a future version. Use pandas.concat instead.\n",
      "  resultados_df = resultados_df.append({'product_id': i, 'product_id_tn': serie_test, 'y_hat': yhat[0][1]}, ignore_index=True)\n"
     ]
    },
    {
     "name": "stdout",
     "output_type": "stream",
     "text": [
      "20180\n"
     ]
    },
    {
     "name": "stderr",
     "output_type": "stream",
     "text": [
      "/var/folders/x4/m6ss_3nn1vn52_2htr4xj3800000gp/T/ipykernel_14000/3859271102.py:25: FutureWarning: The frame.append method is deprecated and will be removed from pandas in a future version. Use pandas.concat instead.\n",
      "  resultados_df = resultados_df.append({'product_id': i, 'product_id_tn': serie_test, 'y_hat': yhat[0][1]}, ignore_index=True)\n"
     ]
    },
    {
     "name": "stdout",
     "output_type": "stream",
     "text": [
      "20181\n"
     ]
    },
    {
     "name": "stderr",
     "output_type": "stream",
     "text": [
      "/var/folders/x4/m6ss_3nn1vn52_2htr4xj3800000gp/T/ipykernel_14000/3859271102.py:25: FutureWarning: The frame.append method is deprecated and will be removed from pandas in a future version. Use pandas.concat instead.\n",
      "  resultados_df = resultados_df.append({'product_id': i, 'product_id_tn': serie_test, 'y_hat': yhat[0][1]}, ignore_index=True)\n"
     ]
    },
    {
     "name": "stdout",
     "output_type": "stream",
     "text": [
      "20182\n"
     ]
    },
    {
     "name": "stderr",
     "output_type": "stream",
     "text": [
      "/var/folders/x4/m6ss_3nn1vn52_2htr4xj3800000gp/T/ipykernel_14000/3859271102.py:25: FutureWarning: The frame.append method is deprecated and will be removed from pandas in a future version. Use pandas.concat instead.\n",
      "  resultados_df = resultados_df.append({'product_id': i, 'product_id_tn': serie_test, 'y_hat': yhat[0][1]}, ignore_index=True)\n"
     ]
    },
    {
     "name": "stdout",
     "output_type": "stream",
     "text": [
      "20183\n"
     ]
    },
    {
     "name": "stderr",
     "output_type": "stream",
     "text": [
      "/var/folders/x4/m6ss_3nn1vn52_2htr4xj3800000gp/T/ipykernel_14000/3859271102.py:25: FutureWarning: The frame.append method is deprecated and will be removed from pandas in a future version. Use pandas.concat instead.\n",
      "  resultados_df = resultados_df.append({'product_id': i, 'product_id_tn': serie_test, 'y_hat': yhat[0][1]}, ignore_index=True)\n"
     ]
    },
    {
     "name": "stdout",
     "output_type": "stream",
     "text": [
      "20184\n"
     ]
    },
    {
     "name": "stderr",
     "output_type": "stream",
     "text": [
      "/var/folders/x4/m6ss_3nn1vn52_2htr4xj3800000gp/T/ipykernel_14000/3859271102.py:25: FutureWarning: The frame.append method is deprecated and will be removed from pandas in a future version. Use pandas.concat instead.\n",
      "  resultados_df = resultados_df.append({'product_id': i, 'product_id_tn': serie_test, 'y_hat': yhat[0][1]}, ignore_index=True)\n"
     ]
    },
    {
     "name": "stdout",
     "output_type": "stream",
     "text": [
      "20185\n"
     ]
    },
    {
     "name": "stderr",
     "output_type": "stream",
     "text": [
      "/var/folders/x4/m6ss_3nn1vn52_2htr4xj3800000gp/T/ipykernel_14000/3859271102.py:25: FutureWarning: The frame.append method is deprecated and will be removed from pandas in a future version. Use pandas.concat instead.\n",
      "  resultados_df = resultados_df.append({'product_id': i, 'product_id_tn': serie_test, 'y_hat': yhat[0][1]}, ignore_index=True)\n"
     ]
    },
    {
     "name": "stdout",
     "output_type": "stream",
     "text": [
      "20186\n"
     ]
    },
    {
     "name": "stderr",
     "output_type": "stream",
     "text": [
      "/var/folders/x4/m6ss_3nn1vn52_2htr4xj3800000gp/T/ipykernel_14000/3859271102.py:25: FutureWarning: The frame.append method is deprecated and will be removed from pandas in a future version. Use pandas.concat instead.\n",
      "  resultados_df = resultados_df.append({'product_id': i, 'product_id_tn': serie_test, 'y_hat': yhat[0][1]}, ignore_index=True)\n"
     ]
    },
    {
     "name": "stdout",
     "output_type": "stream",
     "text": [
      "20187\n"
     ]
    },
    {
     "name": "stderr",
     "output_type": "stream",
     "text": [
      "/var/folders/x4/m6ss_3nn1vn52_2htr4xj3800000gp/T/ipykernel_14000/3859271102.py:25: FutureWarning: The frame.append method is deprecated and will be removed from pandas in a future version. Use pandas.concat instead.\n",
      "  resultados_df = resultados_df.append({'product_id': i, 'product_id_tn': serie_test, 'y_hat': yhat[0][1]}, ignore_index=True)\n"
     ]
    },
    {
     "name": "stdout",
     "output_type": "stream",
     "text": [
      "20188\n"
     ]
    },
    {
     "name": "stderr",
     "output_type": "stream",
     "text": [
      "/var/folders/x4/m6ss_3nn1vn52_2htr4xj3800000gp/T/ipykernel_14000/3859271102.py:25: FutureWarning: The frame.append method is deprecated and will be removed from pandas in a future version. Use pandas.concat instead.\n",
      "  resultados_df = resultados_df.append({'product_id': i, 'product_id_tn': serie_test, 'y_hat': yhat[0][1]}, ignore_index=True)\n"
     ]
    },
    {
     "name": "stdout",
     "output_type": "stream",
     "text": [
      "20189\n"
     ]
    },
    {
     "name": "stderr",
     "output_type": "stream",
     "text": [
      "/var/folders/x4/m6ss_3nn1vn52_2htr4xj3800000gp/T/ipykernel_14000/3859271102.py:25: FutureWarning: The frame.append method is deprecated and will be removed from pandas in a future version. Use pandas.concat instead.\n",
      "  resultados_df = resultados_df.append({'product_id': i, 'product_id_tn': serie_test, 'y_hat': yhat[0][1]}, ignore_index=True)\n"
     ]
    },
    {
     "name": "stdout",
     "output_type": "stream",
     "text": [
      "20190\n"
     ]
    },
    {
     "name": "stderr",
     "output_type": "stream",
     "text": [
      "/var/folders/x4/m6ss_3nn1vn52_2htr4xj3800000gp/T/ipykernel_14000/3859271102.py:25: FutureWarning: The frame.append method is deprecated and will be removed from pandas in a future version. Use pandas.concat instead.\n",
      "  resultados_df = resultados_df.append({'product_id': i, 'product_id_tn': serie_test, 'y_hat': yhat[0][1]}, ignore_index=True)\n"
     ]
    },
    {
     "name": "stdout",
     "output_type": "stream",
     "text": [
      "20191\n"
     ]
    },
    {
     "name": "stderr",
     "output_type": "stream",
     "text": [
      "/var/folders/x4/m6ss_3nn1vn52_2htr4xj3800000gp/T/ipykernel_14000/3859271102.py:25: FutureWarning: The frame.append method is deprecated and will be removed from pandas in a future version. Use pandas.concat instead.\n",
      "  resultados_df = resultados_df.append({'product_id': i, 'product_id_tn': serie_test, 'y_hat': yhat[0][1]}, ignore_index=True)\n"
     ]
    },
    {
     "name": "stdout",
     "output_type": "stream",
     "text": [
      "20192\n"
     ]
    },
    {
     "name": "stderr",
     "output_type": "stream",
     "text": [
      "/var/folders/x4/m6ss_3nn1vn52_2htr4xj3800000gp/T/ipykernel_14000/3859271102.py:25: FutureWarning: The frame.append method is deprecated and will be removed from pandas in a future version. Use pandas.concat instead.\n",
      "  resultados_df = resultados_df.append({'product_id': i, 'product_id_tn': serie_test, 'y_hat': yhat[0][1]}, ignore_index=True)\n"
     ]
    },
    {
     "name": "stdout",
     "output_type": "stream",
     "text": [
      "20193\n"
     ]
    },
    {
     "name": "stderr",
     "output_type": "stream",
     "text": [
      "/var/folders/x4/m6ss_3nn1vn52_2htr4xj3800000gp/T/ipykernel_14000/3859271102.py:25: FutureWarning: The frame.append method is deprecated and will be removed from pandas in a future version. Use pandas.concat instead.\n",
      "  resultados_df = resultados_df.append({'product_id': i, 'product_id_tn': serie_test, 'y_hat': yhat[0][1]}, ignore_index=True)\n"
     ]
    },
    {
     "name": "stdout",
     "output_type": "stream",
     "text": [
      "20194\n"
     ]
    },
    {
     "name": "stderr",
     "output_type": "stream",
     "text": [
      "/var/folders/x4/m6ss_3nn1vn52_2htr4xj3800000gp/T/ipykernel_14000/3859271102.py:25: FutureWarning: The frame.append method is deprecated and will be removed from pandas in a future version. Use pandas.concat instead.\n",
      "  resultados_df = resultados_df.append({'product_id': i, 'product_id_tn': serie_test, 'y_hat': yhat[0][1]}, ignore_index=True)\n"
     ]
    },
    {
     "name": "stdout",
     "output_type": "stream",
     "text": [
      "20195\n"
     ]
    },
    {
     "name": "stderr",
     "output_type": "stream",
     "text": [
      "/var/folders/x4/m6ss_3nn1vn52_2htr4xj3800000gp/T/ipykernel_14000/3859271102.py:25: FutureWarning: The frame.append method is deprecated and will be removed from pandas in a future version. Use pandas.concat instead.\n",
      "  resultados_df = resultados_df.append({'product_id': i, 'product_id_tn': serie_test, 'y_hat': yhat[0][1]}, ignore_index=True)\n"
     ]
    },
    {
     "name": "stdout",
     "output_type": "stream",
     "text": [
      "20196\n"
     ]
    },
    {
     "name": "stderr",
     "output_type": "stream",
     "text": [
      "/var/folders/x4/m6ss_3nn1vn52_2htr4xj3800000gp/T/ipykernel_14000/3859271102.py:25: FutureWarning: The frame.append method is deprecated and will be removed from pandas in a future version. Use pandas.concat instead.\n",
      "  resultados_df = resultados_df.append({'product_id': i, 'product_id_tn': serie_test, 'y_hat': yhat[0][1]}, ignore_index=True)\n"
     ]
    },
    {
     "name": "stdout",
     "output_type": "stream",
     "text": [
      "20197\n"
     ]
    },
    {
     "name": "stderr",
     "output_type": "stream",
     "text": [
      "/var/folders/x4/m6ss_3nn1vn52_2htr4xj3800000gp/T/ipykernel_14000/3859271102.py:25: FutureWarning: The frame.append method is deprecated and will be removed from pandas in a future version. Use pandas.concat instead.\n",
      "  resultados_df = resultados_df.append({'product_id': i, 'product_id_tn': serie_test, 'y_hat': yhat[0][1]}, ignore_index=True)\n"
     ]
    },
    {
     "name": "stdout",
     "output_type": "stream",
     "text": [
      "20198\n"
     ]
    },
    {
     "name": "stderr",
     "output_type": "stream",
     "text": [
      "/var/folders/x4/m6ss_3nn1vn52_2htr4xj3800000gp/T/ipykernel_14000/3859271102.py:25: FutureWarning: The frame.append method is deprecated and will be removed from pandas in a future version. Use pandas.concat instead.\n",
      "  resultados_df = resultados_df.append({'product_id': i, 'product_id_tn': serie_test, 'y_hat': yhat[0][1]}, ignore_index=True)\n"
     ]
    },
    {
     "name": "stdout",
     "output_type": "stream",
     "text": [
      "20199\n"
     ]
    },
    {
     "name": "stderr",
     "output_type": "stream",
     "text": [
      "/var/folders/x4/m6ss_3nn1vn52_2htr4xj3800000gp/T/ipykernel_14000/3859271102.py:25: FutureWarning: The frame.append method is deprecated and will be removed from pandas in a future version. Use pandas.concat instead.\n",
      "  resultados_df = resultados_df.append({'product_id': i, 'product_id_tn': serie_test, 'y_hat': yhat[0][1]}, ignore_index=True)\n"
     ]
    },
    {
     "name": "stdout",
     "output_type": "stream",
     "text": [
      "20200\n"
     ]
    },
    {
     "name": "stderr",
     "output_type": "stream",
     "text": [
      "/var/folders/x4/m6ss_3nn1vn52_2htr4xj3800000gp/T/ipykernel_14000/3859271102.py:25: FutureWarning: The frame.append method is deprecated and will be removed from pandas in a future version. Use pandas.concat instead.\n",
      "  resultados_df = resultados_df.append({'product_id': i, 'product_id_tn': serie_test, 'y_hat': yhat[0][1]}, ignore_index=True)\n"
     ]
    },
    {
     "name": "stdout",
     "output_type": "stream",
     "text": [
      "20201\n"
     ]
    },
    {
     "name": "stderr",
     "output_type": "stream",
     "text": [
      "/var/folders/x4/m6ss_3nn1vn52_2htr4xj3800000gp/T/ipykernel_14000/3859271102.py:25: FutureWarning: The frame.append method is deprecated and will be removed from pandas in a future version. Use pandas.concat instead.\n",
      "  resultados_df = resultados_df.append({'product_id': i, 'product_id_tn': serie_test, 'y_hat': yhat[0][1]}, ignore_index=True)\n"
     ]
    },
    {
     "name": "stdout",
     "output_type": "stream",
     "text": [
      "20202\n"
     ]
    },
    {
     "name": "stderr",
     "output_type": "stream",
     "text": [
      "/var/folders/x4/m6ss_3nn1vn52_2htr4xj3800000gp/T/ipykernel_14000/3859271102.py:25: FutureWarning: The frame.append method is deprecated and will be removed from pandas in a future version. Use pandas.concat instead.\n",
      "  resultados_df = resultados_df.append({'product_id': i, 'product_id_tn': serie_test, 'y_hat': yhat[0][1]}, ignore_index=True)\n"
     ]
    },
    {
     "name": "stdout",
     "output_type": "stream",
     "text": [
      "20203\n"
     ]
    },
    {
     "name": "stderr",
     "output_type": "stream",
     "text": [
      "/var/folders/x4/m6ss_3nn1vn52_2htr4xj3800000gp/T/ipykernel_14000/3859271102.py:25: FutureWarning: The frame.append method is deprecated and will be removed from pandas in a future version. Use pandas.concat instead.\n",
      "  resultados_df = resultados_df.append({'product_id': i, 'product_id_tn': serie_test, 'y_hat': yhat[0][1]}, ignore_index=True)\n"
     ]
    },
    {
     "name": "stdout",
     "output_type": "stream",
     "text": [
      "20205\n"
     ]
    },
    {
     "name": "stderr",
     "output_type": "stream",
     "text": [
      "/var/folders/x4/m6ss_3nn1vn52_2htr4xj3800000gp/T/ipykernel_14000/3859271102.py:25: FutureWarning: The frame.append method is deprecated and will be removed from pandas in a future version. Use pandas.concat instead.\n",
      "  resultados_df = resultados_df.append({'product_id': i, 'product_id_tn': serie_test, 'y_hat': yhat[0][1]}, ignore_index=True)\n"
     ]
    },
    {
     "name": "stdout",
     "output_type": "stream",
     "text": [
      "20206\n"
     ]
    },
    {
     "name": "stderr",
     "output_type": "stream",
     "text": [
      "/var/folders/x4/m6ss_3nn1vn52_2htr4xj3800000gp/T/ipykernel_14000/3859271102.py:25: FutureWarning: The frame.append method is deprecated and will be removed from pandas in a future version. Use pandas.concat instead.\n",
      "  resultados_df = resultados_df.append({'product_id': i, 'product_id_tn': serie_test, 'y_hat': yhat[0][1]}, ignore_index=True)\n"
     ]
    },
    {
     "name": "stdout",
     "output_type": "stream",
     "text": [
      "20207\n"
     ]
    },
    {
     "name": "stderr",
     "output_type": "stream",
     "text": [
      "/var/folders/x4/m6ss_3nn1vn52_2htr4xj3800000gp/T/ipykernel_14000/3859271102.py:25: FutureWarning: The frame.append method is deprecated and will be removed from pandas in a future version. Use pandas.concat instead.\n",
      "  resultados_df = resultados_df.append({'product_id': i, 'product_id_tn': serie_test, 'y_hat': yhat[0][1]}, ignore_index=True)\n"
     ]
    },
    {
     "name": "stdout",
     "output_type": "stream",
     "text": [
      "20208\n"
     ]
    },
    {
     "name": "stderr",
     "output_type": "stream",
     "text": [
      "/var/folders/x4/m6ss_3nn1vn52_2htr4xj3800000gp/T/ipykernel_14000/3859271102.py:25: FutureWarning: The frame.append method is deprecated and will be removed from pandas in a future version. Use pandas.concat instead.\n",
      "  resultados_df = resultados_df.append({'product_id': i, 'product_id_tn': serie_test, 'y_hat': yhat[0][1]}, ignore_index=True)\n"
     ]
    },
    {
     "name": "stdout",
     "output_type": "stream",
     "text": [
      "20209\n"
     ]
    },
    {
     "name": "stderr",
     "output_type": "stream",
     "text": [
      "/var/folders/x4/m6ss_3nn1vn52_2htr4xj3800000gp/T/ipykernel_14000/3859271102.py:25: FutureWarning: The frame.append method is deprecated and will be removed from pandas in a future version. Use pandas.concat instead.\n",
      "  resultados_df = resultados_df.append({'product_id': i, 'product_id_tn': serie_test, 'y_hat': yhat[0][1]}, ignore_index=True)\n"
     ]
    },
    {
     "name": "stdout",
     "output_type": "stream",
     "text": [
      "20211\n"
     ]
    },
    {
     "name": "stderr",
     "output_type": "stream",
     "text": [
      "/var/folders/x4/m6ss_3nn1vn52_2htr4xj3800000gp/T/ipykernel_14000/3859271102.py:25: FutureWarning: The frame.append method is deprecated and will be removed from pandas in a future version. Use pandas.concat instead.\n",
      "  resultados_df = resultados_df.append({'product_id': i, 'product_id_tn': serie_test, 'y_hat': yhat[0][1]}, ignore_index=True)\n"
     ]
    },
    {
     "name": "stdout",
     "output_type": "stream",
     "text": [
      "20212\n"
     ]
    },
    {
     "name": "stderr",
     "output_type": "stream",
     "text": [
      "/var/folders/x4/m6ss_3nn1vn52_2htr4xj3800000gp/T/ipykernel_14000/3859271102.py:25: FutureWarning: The frame.append method is deprecated and will be removed from pandas in a future version. Use pandas.concat instead.\n",
      "  resultados_df = resultados_df.append({'product_id': i, 'product_id_tn': serie_test, 'y_hat': yhat[0][1]}, ignore_index=True)\n"
     ]
    },
    {
     "name": "stdout",
     "output_type": "stream",
     "text": [
      "20214\n"
     ]
    },
    {
     "name": "stderr",
     "output_type": "stream",
     "text": [
      "/var/folders/x4/m6ss_3nn1vn52_2htr4xj3800000gp/T/ipykernel_14000/3859271102.py:25: FutureWarning: The frame.append method is deprecated and will be removed from pandas in a future version. Use pandas.concat instead.\n",
      "  resultados_df = resultados_df.append({'product_id': i, 'product_id_tn': serie_test, 'y_hat': yhat[0][1]}, ignore_index=True)\n"
     ]
    },
    {
     "name": "stdout",
     "output_type": "stream",
     "text": [
      "20215\n"
     ]
    },
    {
     "name": "stderr",
     "output_type": "stream",
     "text": [
      "/var/folders/x4/m6ss_3nn1vn52_2htr4xj3800000gp/T/ipykernel_14000/3859271102.py:25: FutureWarning: The frame.append method is deprecated and will be removed from pandas in a future version. Use pandas.concat instead.\n",
      "  resultados_df = resultados_df.append({'product_id': i, 'product_id_tn': serie_test, 'y_hat': yhat[0][1]}, ignore_index=True)\n"
     ]
    },
    {
     "name": "stdout",
     "output_type": "stream",
     "text": [
      "20216\n"
     ]
    },
    {
     "name": "stderr",
     "output_type": "stream",
     "text": [
      "/var/folders/x4/m6ss_3nn1vn52_2htr4xj3800000gp/T/ipykernel_14000/3859271102.py:25: FutureWarning: The frame.append method is deprecated and will be removed from pandas in a future version. Use pandas.concat instead.\n",
      "  resultados_df = resultados_df.append({'product_id': i, 'product_id_tn': serie_test, 'y_hat': yhat[0][1]}, ignore_index=True)\n"
     ]
    },
    {
     "name": "stdout",
     "output_type": "stream",
     "text": [
      "20217\n"
     ]
    },
    {
     "name": "stderr",
     "output_type": "stream",
     "text": [
      "/var/folders/x4/m6ss_3nn1vn52_2htr4xj3800000gp/T/ipykernel_14000/3859271102.py:25: FutureWarning: The frame.append method is deprecated and will be removed from pandas in a future version. Use pandas.concat instead.\n",
      "  resultados_df = resultados_df.append({'product_id': i, 'product_id_tn': serie_test, 'y_hat': yhat[0][1]}, ignore_index=True)\n"
     ]
    },
    {
     "name": "stdout",
     "output_type": "stream",
     "text": [
      "20218\n"
     ]
    },
    {
     "name": "stderr",
     "output_type": "stream",
     "text": [
      "/var/folders/x4/m6ss_3nn1vn52_2htr4xj3800000gp/T/ipykernel_14000/3859271102.py:25: FutureWarning: The frame.append method is deprecated and will be removed from pandas in a future version. Use pandas.concat instead.\n",
      "  resultados_df = resultados_df.append({'product_id': i, 'product_id_tn': serie_test, 'y_hat': yhat[0][1]}, ignore_index=True)\n"
     ]
    },
    {
     "name": "stdout",
     "output_type": "stream",
     "text": [
      "20219\n"
     ]
    },
    {
     "name": "stderr",
     "output_type": "stream",
     "text": [
      "/var/folders/x4/m6ss_3nn1vn52_2htr4xj3800000gp/T/ipykernel_14000/3859271102.py:25: FutureWarning: The frame.append method is deprecated and will be removed from pandas in a future version. Use pandas.concat instead.\n",
      "  resultados_df = resultados_df.append({'product_id': i, 'product_id_tn': serie_test, 'y_hat': yhat[0][1]}, ignore_index=True)\n"
     ]
    },
    {
     "name": "stdout",
     "output_type": "stream",
     "text": [
      "20220\n"
     ]
    },
    {
     "name": "stderr",
     "output_type": "stream",
     "text": [
      "/var/folders/x4/m6ss_3nn1vn52_2htr4xj3800000gp/T/ipykernel_14000/3859271102.py:25: FutureWarning: The frame.append method is deprecated and will be removed from pandas in a future version. Use pandas.concat instead.\n",
      "  resultados_df = resultados_df.append({'product_id': i, 'product_id_tn': serie_test, 'y_hat': yhat[0][1]}, ignore_index=True)\n"
     ]
    },
    {
     "name": "stdout",
     "output_type": "stream",
     "text": [
      "20221\n"
     ]
    },
    {
     "name": "stderr",
     "output_type": "stream",
     "text": [
      "/var/folders/x4/m6ss_3nn1vn52_2htr4xj3800000gp/T/ipykernel_14000/3859271102.py:25: FutureWarning: The frame.append method is deprecated and will be removed from pandas in a future version. Use pandas.concat instead.\n",
      "  resultados_df = resultados_df.append({'product_id': i, 'product_id_tn': serie_test, 'y_hat': yhat[0][1]}, ignore_index=True)\n"
     ]
    },
    {
     "name": "stdout",
     "output_type": "stream",
     "text": [
      "20222\n"
     ]
    },
    {
     "name": "stderr",
     "output_type": "stream",
     "text": [
      "/var/folders/x4/m6ss_3nn1vn52_2htr4xj3800000gp/T/ipykernel_14000/3859271102.py:25: FutureWarning: The frame.append method is deprecated and will be removed from pandas in a future version. Use pandas.concat instead.\n",
      "  resultados_df = resultados_df.append({'product_id': i, 'product_id_tn': serie_test, 'y_hat': yhat[0][1]}, ignore_index=True)\n"
     ]
    },
    {
     "name": "stdout",
     "output_type": "stream",
     "text": [
      "20223\n"
     ]
    },
    {
     "name": "stderr",
     "output_type": "stream",
     "text": [
      "/var/folders/x4/m6ss_3nn1vn52_2htr4xj3800000gp/T/ipykernel_14000/3859271102.py:25: FutureWarning: The frame.append method is deprecated and will be removed from pandas in a future version. Use pandas.concat instead.\n",
      "  resultados_df = resultados_df.append({'product_id': i, 'product_id_tn': serie_test, 'y_hat': yhat[0][1]}, ignore_index=True)\n"
     ]
    },
    {
     "name": "stdout",
     "output_type": "stream",
     "text": [
      "20224\n"
     ]
    },
    {
     "name": "stderr",
     "output_type": "stream",
     "text": [
      "/var/folders/x4/m6ss_3nn1vn52_2htr4xj3800000gp/T/ipykernel_14000/3859271102.py:25: FutureWarning: The frame.append method is deprecated and will be removed from pandas in a future version. Use pandas.concat instead.\n",
      "  resultados_df = resultados_df.append({'product_id': i, 'product_id_tn': serie_test, 'y_hat': yhat[0][1]}, ignore_index=True)\n"
     ]
    },
    {
     "name": "stdout",
     "output_type": "stream",
     "text": [
      "20225\n"
     ]
    },
    {
     "name": "stderr",
     "output_type": "stream",
     "text": [
      "/var/folders/x4/m6ss_3nn1vn52_2htr4xj3800000gp/T/ipykernel_14000/3859271102.py:25: FutureWarning: The frame.append method is deprecated and will be removed from pandas in a future version. Use pandas.concat instead.\n",
      "  resultados_df = resultados_df.append({'product_id': i, 'product_id_tn': serie_test, 'y_hat': yhat[0][1]}, ignore_index=True)\n"
     ]
    },
    {
     "name": "stdout",
     "output_type": "stream",
     "text": [
      "20226\n"
     ]
    },
    {
     "name": "stderr",
     "output_type": "stream",
     "text": [
      "/var/folders/x4/m6ss_3nn1vn52_2htr4xj3800000gp/T/ipykernel_14000/3859271102.py:25: FutureWarning: The frame.append method is deprecated and will be removed from pandas in a future version. Use pandas.concat instead.\n",
      "  resultados_df = resultados_df.append({'product_id': i, 'product_id_tn': serie_test, 'y_hat': yhat[0][1]}, ignore_index=True)\n"
     ]
    },
    {
     "name": "stdout",
     "output_type": "stream",
     "text": [
      "20227\n"
     ]
    },
    {
     "name": "stderr",
     "output_type": "stream",
     "text": [
      "/var/folders/x4/m6ss_3nn1vn52_2htr4xj3800000gp/T/ipykernel_14000/3859271102.py:25: FutureWarning: The frame.append method is deprecated and will be removed from pandas in a future version. Use pandas.concat instead.\n",
      "  resultados_df = resultados_df.append({'product_id': i, 'product_id_tn': serie_test, 'y_hat': yhat[0][1]}, ignore_index=True)\n"
     ]
    },
    {
     "name": "stdout",
     "output_type": "stream",
     "text": [
      "20228\n"
     ]
    },
    {
     "name": "stderr",
     "output_type": "stream",
     "text": [
      "/var/folders/x4/m6ss_3nn1vn52_2htr4xj3800000gp/T/ipykernel_14000/3859271102.py:25: FutureWarning: The frame.append method is deprecated and will be removed from pandas in a future version. Use pandas.concat instead.\n",
      "  resultados_df = resultados_df.append({'product_id': i, 'product_id_tn': serie_test, 'y_hat': yhat[0][1]}, ignore_index=True)\n"
     ]
    },
    {
     "name": "stdout",
     "output_type": "stream",
     "text": [
      "20229\n"
     ]
    },
    {
     "name": "stderr",
     "output_type": "stream",
     "text": [
      "/var/folders/x4/m6ss_3nn1vn52_2htr4xj3800000gp/T/ipykernel_14000/3859271102.py:25: FutureWarning: The frame.append method is deprecated and will be removed from pandas in a future version. Use pandas.concat instead.\n",
      "  resultados_df = resultados_df.append({'product_id': i, 'product_id_tn': serie_test, 'y_hat': yhat[0][1]}, ignore_index=True)\n"
     ]
    },
    {
     "name": "stdout",
     "output_type": "stream",
     "text": [
      "20230\n"
     ]
    },
    {
     "name": "stderr",
     "output_type": "stream",
     "text": [
      "/var/folders/x4/m6ss_3nn1vn52_2htr4xj3800000gp/T/ipykernel_14000/3859271102.py:25: FutureWarning: The frame.append method is deprecated and will be removed from pandas in a future version. Use pandas.concat instead.\n",
      "  resultados_df = resultados_df.append({'product_id': i, 'product_id_tn': serie_test, 'y_hat': yhat[0][1]}, ignore_index=True)\n"
     ]
    },
    {
     "name": "stdout",
     "output_type": "stream",
     "text": [
      "20231\n"
     ]
    },
    {
     "name": "stderr",
     "output_type": "stream",
     "text": [
      "/var/folders/x4/m6ss_3nn1vn52_2htr4xj3800000gp/T/ipykernel_14000/3859271102.py:25: FutureWarning: The frame.append method is deprecated and will be removed from pandas in a future version. Use pandas.concat instead.\n",
      "  resultados_df = resultados_df.append({'product_id': i, 'product_id_tn': serie_test, 'y_hat': yhat[0][1]}, ignore_index=True)\n"
     ]
    },
    {
     "name": "stdout",
     "output_type": "stream",
     "text": [
      "20232\n"
     ]
    },
    {
     "name": "stderr",
     "output_type": "stream",
     "text": [
      "/var/folders/x4/m6ss_3nn1vn52_2htr4xj3800000gp/T/ipykernel_14000/3859271102.py:25: FutureWarning: The frame.append method is deprecated and will be removed from pandas in a future version. Use pandas.concat instead.\n",
      "  resultados_df = resultados_df.append({'product_id': i, 'product_id_tn': serie_test, 'y_hat': yhat[0][1]}, ignore_index=True)\n"
     ]
    },
    {
     "name": "stdout",
     "output_type": "stream",
     "text": [
      "20233\n"
     ]
    },
    {
     "name": "stderr",
     "output_type": "stream",
     "text": [
      "/var/folders/x4/m6ss_3nn1vn52_2htr4xj3800000gp/T/ipykernel_14000/3859271102.py:25: FutureWarning: The frame.append method is deprecated and will be removed from pandas in a future version. Use pandas.concat instead.\n",
      "  resultados_df = resultados_df.append({'product_id': i, 'product_id_tn': serie_test, 'y_hat': yhat[0][1]}, ignore_index=True)\n"
     ]
    },
    {
     "name": "stdout",
     "output_type": "stream",
     "text": [
      "20234\n"
     ]
    },
    {
     "name": "stderr",
     "output_type": "stream",
     "text": [
      "/var/folders/x4/m6ss_3nn1vn52_2htr4xj3800000gp/T/ipykernel_14000/3859271102.py:25: FutureWarning: The frame.append method is deprecated and will be removed from pandas in a future version. Use pandas.concat instead.\n",
      "  resultados_df = resultados_df.append({'product_id': i, 'product_id_tn': serie_test, 'y_hat': yhat[0][1]}, ignore_index=True)\n"
     ]
    },
    {
     "name": "stdout",
     "output_type": "stream",
     "text": [
      "20235\n"
     ]
    },
    {
     "name": "stderr",
     "output_type": "stream",
     "text": [
      "/var/folders/x4/m6ss_3nn1vn52_2htr4xj3800000gp/T/ipykernel_14000/3859271102.py:25: FutureWarning: The frame.append method is deprecated and will be removed from pandas in a future version. Use pandas.concat instead.\n",
      "  resultados_df = resultados_df.append({'product_id': i, 'product_id_tn': serie_test, 'y_hat': yhat[0][1]}, ignore_index=True)\n"
     ]
    },
    {
     "name": "stdout",
     "output_type": "stream",
     "text": [
      "20237\n"
     ]
    },
    {
     "name": "stderr",
     "output_type": "stream",
     "text": [
      "/var/folders/x4/m6ss_3nn1vn52_2htr4xj3800000gp/T/ipykernel_14000/3859271102.py:25: FutureWarning: The frame.append method is deprecated and will be removed from pandas in a future version. Use pandas.concat instead.\n",
      "  resultados_df = resultados_df.append({'product_id': i, 'product_id_tn': serie_test, 'y_hat': yhat[0][1]}, ignore_index=True)\n"
     ]
    },
    {
     "name": "stdout",
     "output_type": "stream",
     "text": [
      "20238\n"
     ]
    },
    {
     "name": "stderr",
     "output_type": "stream",
     "text": [
      "/var/folders/x4/m6ss_3nn1vn52_2htr4xj3800000gp/T/ipykernel_14000/3859271102.py:25: FutureWarning: The frame.append method is deprecated and will be removed from pandas in a future version. Use pandas.concat instead.\n",
      "  resultados_df = resultados_df.append({'product_id': i, 'product_id_tn': serie_test, 'y_hat': yhat[0][1]}, ignore_index=True)\n"
     ]
    },
    {
     "name": "stdout",
     "output_type": "stream",
     "text": [
      "20239\n"
     ]
    },
    {
     "name": "stderr",
     "output_type": "stream",
     "text": [
      "/var/folders/x4/m6ss_3nn1vn52_2htr4xj3800000gp/T/ipykernel_14000/3859271102.py:25: FutureWarning: The frame.append method is deprecated and will be removed from pandas in a future version. Use pandas.concat instead.\n",
      "  resultados_df = resultados_df.append({'product_id': i, 'product_id_tn': serie_test, 'y_hat': yhat[0][1]}, ignore_index=True)\n"
     ]
    },
    {
     "name": "stdout",
     "output_type": "stream",
     "text": [
      "20240\n"
     ]
    },
    {
     "name": "stderr",
     "output_type": "stream",
     "text": [
      "/var/folders/x4/m6ss_3nn1vn52_2htr4xj3800000gp/T/ipykernel_14000/3859271102.py:25: FutureWarning: The frame.append method is deprecated and will be removed from pandas in a future version. Use pandas.concat instead.\n",
      "  resultados_df = resultados_df.append({'product_id': i, 'product_id_tn': serie_test, 'y_hat': yhat[0][1]}, ignore_index=True)\n"
     ]
    },
    {
     "name": "stdout",
     "output_type": "stream",
     "text": [
      "20241\n"
     ]
    },
    {
     "name": "stderr",
     "output_type": "stream",
     "text": [
      "/var/folders/x4/m6ss_3nn1vn52_2htr4xj3800000gp/T/ipykernel_14000/3859271102.py:25: FutureWarning: The frame.append method is deprecated and will be removed from pandas in a future version. Use pandas.concat instead.\n",
      "  resultados_df = resultados_df.append({'product_id': i, 'product_id_tn': serie_test, 'y_hat': yhat[0][1]}, ignore_index=True)\n"
     ]
    },
    {
     "name": "stdout",
     "output_type": "stream",
     "text": [
      "20242\n"
     ]
    },
    {
     "name": "stderr",
     "output_type": "stream",
     "text": [
      "/var/folders/x4/m6ss_3nn1vn52_2htr4xj3800000gp/T/ipykernel_14000/3859271102.py:25: FutureWarning: The frame.append method is deprecated and will be removed from pandas in a future version. Use pandas.concat instead.\n",
      "  resultados_df = resultados_df.append({'product_id': i, 'product_id_tn': serie_test, 'y_hat': yhat[0][1]}, ignore_index=True)\n"
     ]
    },
    {
     "name": "stdout",
     "output_type": "stream",
     "text": [
      "20243\n"
     ]
    },
    {
     "name": "stderr",
     "output_type": "stream",
     "text": [
      "/var/folders/x4/m6ss_3nn1vn52_2htr4xj3800000gp/T/ipykernel_14000/3859271102.py:25: FutureWarning: The frame.append method is deprecated and will be removed from pandas in a future version. Use pandas.concat instead.\n",
      "  resultados_df = resultados_df.append({'product_id': i, 'product_id_tn': serie_test, 'y_hat': yhat[0][1]}, ignore_index=True)\n"
     ]
    },
    {
     "name": "stdout",
     "output_type": "stream",
     "text": [
      "20244\n"
     ]
    },
    {
     "name": "stderr",
     "output_type": "stream",
     "text": [
      "/var/folders/x4/m6ss_3nn1vn52_2htr4xj3800000gp/T/ipykernel_14000/3859271102.py:25: FutureWarning: The frame.append method is deprecated and will be removed from pandas in a future version. Use pandas.concat instead.\n",
      "  resultados_df = resultados_df.append({'product_id': i, 'product_id_tn': serie_test, 'y_hat': yhat[0][1]}, ignore_index=True)\n"
     ]
    },
    {
     "name": "stdout",
     "output_type": "stream",
     "text": [
      "20245\n"
     ]
    },
    {
     "name": "stderr",
     "output_type": "stream",
     "text": [
      "/var/folders/x4/m6ss_3nn1vn52_2htr4xj3800000gp/T/ipykernel_14000/3859271102.py:25: FutureWarning: The frame.append method is deprecated and will be removed from pandas in a future version. Use pandas.concat instead.\n",
      "  resultados_df = resultados_df.append({'product_id': i, 'product_id_tn': serie_test, 'y_hat': yhat[0][1]}, ignore_index=True)\n"
     ]
    },
    {
     "name": "stdout",
     "output_type": "stream",
     "text": [
      "20246\n"
     ]
    },
    {
     "name": "stderr",
     "output_type": "stream",
     "text": [
      "/var/folders/x4/m6ss_3nn1vn52_2htr4xj3800000gp/T/ipykernel_14000/3859271102.py:25: FutureWarning: The frame.append method is deprecated and will be removed from pandas in a future version. Use pandas.concat instead.\n",
      "  resultados_df = resultados_df.append({'product_id': i, 'product_id_tn': serie_test, 'y_hat': yhat[0][1]}, ignore_index=True)\n"
     ]
    },
    {
     "name": "stdout",
     "output_type": "stream",
     "text": [
      "20247\n"
     ]
    },
    {
     "name": "stderr",
     "output_type": "stream",
     "text": [
      "/var/folders/x4/m6ss_3nn1vn52_2htr4xj3800000gp/T/ipykernel_14000/3859271102.py:25: FutureWarning: The frame.append method is deprecated and will be removed from pandas in a future version. Use pandas.concat instead.\n",
      "  resultados_df = resultados_df.append({'product_id': i, 'product_id_tn': serie_test, 'y_hat': yhat[0][1]}, ignore_index=True)\n"
     ]
    },
    {
     "name": "stdout",
     "output_type": "stream",
     "text": [
      "20248\n"
     ]
    },
    {
     "name": "stderr",
     "output_type": "stream",
     "text": [
      "/var/folders/x4/m6ss_3nn1vn52_2htr4xj3800000gp/T/ipykernel_14000/3859271102.py:25: FutureWarning: The frame.append method is deprecated and will be removed from pandas in a future version. Use pandas.concat instead.\n",
      "  resultados_df = resultados_df.append({'product_id': i, 'product_id_tn': serie_test, 'y_hat': yhat[0][1]}, ignore_index=True)\n"
     ]
    },
    {
     "name": "stdout",
     "output_type": "stream",
     "text": [
      "20249\n"
     ]
    },
    {
     "name": "stderr",
     "output_type": "stream",
     "text": [
      "/var/folders/x4/m6ss_3nn1vn52_2htr4xj3800000gp/T/ipykernel_14000/3859271102.py:25: FutureWarning: The frame.append method is deprecated and will be removed from pandas in a future version. Use pandas.concat instead.\n",
      "  resultados_df = resultados_df.append({'product_id': i, 'product_id_tn': serie_test, 'y_hat': yhat[0][1]}, ignore_index=True)\n"
     ]
    },
    {
     "name": "stdout",
     "output_type": "stream",
     "text": [
      "20250\n"
     ]
    },
    {
     "name": "stderr",
     "output_type": "stream",
     "text": [
      "/var/folders/x4/m6ss_3nn1vn52_2htr4xj3800000gp/T/ipykernel_14000/3859271102.py:25: FutureWarning: The frame.append method is deprecated and will be removed from pandas in a future version. Use pandas.concat instead.\n",
      "  resultados_df = resultados_df.append({'product_id': i, 'product_id_tn': serie_test, 'y_hat': yhat[0][1]}, ignore_index=True)\n"
     ]
    },
    {
     "name": "stdout",
     "output_type": "stream",
     "text": [
      "20251\n"
     ]
    },
    {
     "name": "stderr",
     "output_type": "stream",
     "text": [
      "/var/folders/x4/m6ss_3nn1vn52_2htr4xj3800000gp/T/ipykernel_14000/3859271102.py:25: FutureWarning: The frame.append method is deprecated and will be removed from pandas in a future version. Use pandas.concat instead.\n",
      "  resultados_df = resultados_df.append({'product_id': i, 'product_id_tn': serie_test, 'y_hat': yhat[0][1]}, ignore_index=True)\n"
     ]
    },
    {
     "name": "stdout",
     "output_type": "stream",
     "text": [
      "20252\n"
     ]
    },
    {
     "name": "stderr",
     "output_type": "stream",
     "text": [
      "/var/folders/x4/m6ss_3nn1vn52_2htr4xj3800000gp/T/ipykernel_14000/3859271102.py:25: FutureWarning: The frame.append method is deprecated and will be removed from pandas in a future version. Use pandas.concat instead.\n",
      "  resultados_df = resultados_df.append({'product_id': i, 'product_id_tn': serie_test, 'y_hat': yhat[0][1]}, ignore_index=True)\n"
     ]
    },
    {
     "name": "stdout",
     "output_type": "stream",
     "text": [
      "20253\n"
     ]
    },
    {
     "name": "stderr",
     "output_type": "stream",
     "text": [
      "/var/folders/x4/m6ss_3nn1vn52_2htr4xj3800000gp/T/ipykernel_14000/3859271102.py:25: FutureWarning: The frame.append method is deprecated and will be removed from pandas in a future version. Use pandas.concat instead.\n",
      "  resultados_df = resultados_df.append({'product_id': i, 'product_id_tn': serie_test, 'y_hat': yhat[0][1]}, ignore_index=True)\n"
     ]
    },
    {
     "name": "stdout",
     "output_type": "stream",
     "text": [
      "20254\n"
     ]
    },
    {
     "name": "stderr",
     "output_type": "stream",
     "text": [
      "/var/folders/x4/m6ss_3nn1vn52_2htr4xj3800000gp/T/ipykernel_14000/3859271102.py:25: FutureWarning: The frame.append method is deprecated and will be removed from pandas in a future version. Use pandas.concat instead.\n",
      "  resultados_df = resultados_df.append({'product_id': i, 'product_id_tn': serie_test, 'y_hat': yhat[0][1]}, ignore_index=True)\n"
     ]
    },
    {
     "name": "stdout",
     "output_type": "stream",
     "text": [
      "20255\n"
     ]
    },
    {
     "name": "stderr",
     "output_type": "stream",
     "text": [
      "/var/folders/x4/m6ss_3nn1vn52_2htr4xj3800000gp/T/ipykernel_14000/3859271102.py:25: FutureWarning: The frame.append method is deprecated and will be removed from pandas in a future version. Use pandas.concat instead.\n",
      "  resultados_df = resultados_df.append({'product_id': i, 'product_id_tn': serie_test, 'y_hat': yhat[0][1]}, ignore_index=True)\n"
     ]
    },
    {
     "name": "stdout",
     "output_type": "stream",
     "text": [
      "20256\n"
     ]
    },
    {
     "name": "stderr",
     "output_type": "stream",
     "text": [
      "/var/folders/x4/m6ss_3nn1vn52_2htr4xj3800000gp/T/ipykernel_14000/3859271102.py:25: FutureWarning: The frame.append method is deprecated and will be removed from pandas in a future version. Use pandas.concat instead.\n",
      "  resultados_df = resultados_df.append({'product_id': i, 'product_id_tn': serie_test, 'y_hat': yhat[0][1]}, ignore_index=True)\n"
     ]
    },
    {
     "name": "stdout",
     "output_type": "stream",
     "text": [
      "20258\n"
     ]
    },
    {
     "name": "stderr",
     "output_type": "stream",
     "text": [
      "/var/folders/x4/m6ss_3nn1vn52_2htr4xj3800000gp/T/ipykernel_14000/3859271102.py:25: FutureWarning: The frame.append method is deprecated and will be removed from pandas in a future version. Use pandas.concat instead.\n",
      "  resultados_df = resultados_df.append({'product_id': i, 'product_id_tn': serie_test, 'y_hat': yhat[0][1]}, ignore_index=True)\n"
     ]
    },
    {
     "name": "stdout",
     "output_type": "stream",
     "text": [
      "20259\n"
     ]
    },
    {
     "name": "stderr",
     "output_type": "stream",
     "text": [
      "/var/folders/x4/m6ss_3nn1vn52_2htr4xj3800000gp/T/ipykernel_14000/3859271102.py:25: FutureWarning: The frame.append method is deprecated and will be removed from pandas in a future version. Use pandas.concat instead.\n",
      "  resultados_df = resultados_df.append({'product_id': i, 'product_id_tn': serie_test, 'y_hat': yhat[0][1]}, ignore_index=True)\n"
     ]
    },
    {
     "name": "stdout",
     "output_type": "stream",
     "text": [
      "20260\n"
     ]
    },
    {
     "name": "stderr",
     "output_type": "stream",
     "text": [
      "/var/folders/x4/m6ss_3nn1vn52_2htr4xj3800000gp/T/ipykernel_14000/3859271102.py:25: FutureWarning: The frame.append method is deprecated and will be removed from pandas in a future version. Use pandas.concat instead.\n",
      "  resultados_df = resultados_df.append({'product_id': i, 'product_id_tn': serie_test, 'y_hat': yhat[0][1]}, ignore_index=True)\n"
     ]
    },
    {
     "name": "stdout",
     "output_type": "stream",
     "text": [
      "20262\n"
     ]
    },
    {
     "name": "stderr",
     "output_type": "stream",
     "text": [
      "/var/folders/x4/m6ss_3nn1vn52_2htr4xj3800000gp/T/ipykernel_14000/3859271102.py:25: FutureWarning: The frame.append method is deprecated and will be removed from pandas in a future version. Use pandas.concat instead.\n",
      "  resultados_df = resultados_df.append({'product_id': i, 'product_id_tn': serie_test, 'y_hat': yhat[0][1]}, ignore_index=True)\n"
     ]
    },
    {
     "name": "stdout",
     "output_type": "stream",
     "text": [
      "20263\n"
     ]
    },
    {
     "name": "stderr",
     "output_type": "stream",
     "text": [
      "/var/folders/x4/m6ss_3nn1vn52_2htr4xj3800000gp/T/ipykernel_14000/3859271102.py:25: FutureWarning: The frame.append method is deprecated and will be removed from pandas in a future version. Use pandas.concat instead.\n",
      "  resultados_df = resultados_df.append({'product_id': i, 'product_id_tn': serie_test, 'y_hat': yhat[0][1]}, ignore_index=True)\n"
     ]
    },
    {
     "name": "stdout",
     "output_type": "stream",
     "text": [
      "20264\n"
     ]
    },
    {
     "name": "stderr",
     "output_type": "stream",
     "text": [
      "/var/folders/x4/m6ss_3nn1vn52_2htr4xj3800000gp/T/ipykernel_14000/3859271102.py:25: FutureWarning: The frame.append method is deprecated and will be removed from pandas in a future version. Use pandas.concat instead.\n",
      "  resultados_df = resultados_df.append({'product_id': i, 'product_id_tn': serie_test, 'y_hat': yhat[0][1]}, ignore_index=True)\n"
     ]
    },
    {
     "name": "stdout",
     "output_type": "stream",
     "text": [
      "20265\n"
     ]
    },
    {
     "name": "stderr",
     "output_type": "stream",
     "text": [
      "/var/folders/x4/m6ss_3nn1vn52_2htr4xj3800000gp/T/ipykernel_14000/3859271102.py:25: FutureWarning: The frame.append method is deprecated and will be removed from pandas in a future version. Use pandas.concat instead.\n",
      "  resultados_df = resultados_df.append({'product_id': i, 'product_id_tn': serie_test, 'y_hat': yhat[0][1]}, ignore_index=True)\n"
     ]
    },
    {
     "name": "stdout",
     "output_type": "stream",
     "text": [
      "20266\n"
     ]
    },
    {
     "name": "stderr",
     "output_type": "stream",
     "text": [
      "/var/folders/x4/m6ss_3nn1vn52_2htr4xj3800000gp/T/ipykernel_14000/3859271102.py:25: FutureWarning: The frame.append method is deprecated and will be removed from pandas in a future version. Use pandas.concat instead.\n",
      "  resultados_df = resultados_df.append({'product_id': i, 'product_id_tn': serie_test, 'y_hat': yhat[0][1]}, ignore_index=True)\n"
     ]
    },
    {
     "name": "stdout",
     "output_type": "stream",
     "text": [
      "20267\n"
     ]
    },
    {
     "name": "stderr",
     "output_type": "stream",
     "text": [
      "/var/folders/x4/m6ss_3nn1vn52_2htr4xj3800000gp/T/ipykernel_14000/3859271102.py:25: FutureWarning: The frame.append method is deprecated and will be removed from pandas in a future version. Use pandas.concat instead.\n",
      "  resultados_df = resultados_df.append({'product_id': i, 'product_id_tn': serie_test, 'y_hat': yhat[0][1]}, ignore_index=True)\n"
     ]
    },
    {
     "name": "stdout",
     "output_type": "stream",
     "text": [
      "20268\n"
     ]
    },
    {
     "name": "stderr",
     "output_type": "stream",
     "text": [
      "/var/folders/x4/m6ss_3nn1vn52_2htr4xj3800000gp/T/ipykernel_14000/3859271102.py:25: FutureWarning: The frame.append method is deprecated and will be removed from pandas in a future version. Use pandas.concat instead.\n",
      "  resultados_df = resultados_df.append({'product_id': i, 'product_id_tn': serie_test, 'y_hat': yhat[0][1]}, ignore_index=True)\n"
     ]
    },
    {
     "name": "stdout",
     "output_type": "stream",
     "text": [
      "20269\n"
     ]
    },
    {
     "name": "stderr",
     "output_type": "stream",
     "text": [
      "/var/folders/x4/m6ss_3nn1vn52_2htr4xj3800000gp/T/ipykernel_14000/3859271102.py:25: FutureWarning: The frame.append method is deprecated and will be removed from pandas in a future version. Use pandas.concat instead.\n",
      "  resultados_df = resultados_df.append({'product_id': i, 'product_id_tn': serie_test, 'y_hat': yhat[0][1]}, ignore_index=True)\n"
     ]
    },
    {
     "name": "stdout",
     "output_type": "stream",
     "text": [
      "20270\n"
     ]
    },
    {
     "name": "stderr",
     "output_type": "stream",
     "text": [
      "/var/folders/x4/m6ss_3nn1vn52_2htr4xj3800000gp/T/ipykernel_14000/3859271102.py:25: FutureWarning: The frame.append method is deprecated and will be removed from pandas in a future version. Use pandas.concat instead.\n",
      "  resultados_df = resultados_df.append({'product_id': i, 'product_id_tn': serie_test, 'y_hat': yhat[0][1]}, ignore_index=True)\n"
     ]
    },
    {
     "name": "stdout",
     "output_type": "stream",
     "text": [
      "20271\n"
     ]
    },
    {
     "name": "stderr",
     "output_type": "stream",
     "text": [
      "/var/folders/x4/m6ss_3nn1vn52_2htr4xj3800000gp/T/ipykernel_14000/3859271102.py:25: FutureWarning: The frame.append method is deprecated and will be removed from pandas in a future version. Use pandas.concat instead.\n",
      "  resultados_df = resultados_df.append({'product_id': i, 'product_id_tn': serie_test, 'y_hat': yhat[0][1]}, ignore_index=True)\n"
     ]
    },
    {
     "name": "stdout",
     "output_type": "stream",
     "text": [
      "20272\n"
     ]
    },
    {
     "name": "stderr",
     "output_type": "stream",
     "text": [
      "/var/folders/x4/m6ss_3nn1vn52_2htr4xj3800000gp/T/ipykernel_14000/3859271102.py:25: FutureWarning: The frame.append method is deprecated and will be removed from pandas in a future version. Use pandas.concat instead.\n",
      "  resultados_df = resultados_df.append({'product_id': i, 'product_id_tn': serie_test, 'y_hat': yhat[0][1]}, ignore_index=True)\n"
     ]
    },
    {
     "name": "stdout",
     "output_type": "stream",
     "text": [
      "20273\n"
     ]
    },
    {
     "name": "stderr",
     "output_type": "stream",
     "text": [
      "/var/folders/x4/m6ss_3nn1vn52_2htr4xj3800000gp/T/ipykernel_14000/3859271102.py:25: FutureWarning: The frame.append method is deprecated and will be removed from pandas in a future version. Use pandas.concat instead.\n",
      "  resultados_df = resultados_df.append({'product_id': i, 'product_id_tn': serie_test, 'y_hat': yhat[0][1]}, ignore_index=True)\n"
     ]
    },
    {
     "name": "stdout",
     "output_type": "stream",
     "text": [
      "20274\n"
     ]
    },
    {
     "name": "stderr",
     "output_type": "stream",
     "text": [
      "/var/folders/x4/m6ss_3nn1vn52_2htr4xj3800000gp/T/ipykernel_14000/3859271102.py:25: FutureWarning: The frame.append method is deprecated and will be removed from pandas in a future version. Use pandas.concat instead.\n",
      "  resultados_df = resultados_df.append({'product_id': i, 'product_id_tn': serie_test, 'y_hat': yhat[0][1]}, ignore_index=True)\n"
     ]
    },
    {
     "name": "stdout",
     "output_type": "stream",
     "text": [
      "20275\n"
     ]
    },
    {
     "name": "stderr",
     "output_type": "stream",
     "text": [
      "/var/folders/x4/m6ss_3nn1vn52_2htr4xj3800000gp/T/ipykernel_14000/3859271102.py:25: FutureWarning: The frame.append method is deprecated and will be removed from pandas in a future version. Use pandas.concat instead.\n",
      "  resultados_df = resultados_df.append({'product_id': i, 'product_id_tn': serie_test, 'y_hat': yhat[0][1]}, ignore_index=True)\n"
     ]
    },
    {
     "name": "stdout",
     "output_type": "stream",
     "text": [
      "20276\n"
     ]
    },
    {
     "name": "stderr",
     "output_type": "stream",
     "text": [
      "/var/folders/x4/m6ss_3nn1vn52_2htr4xj3800000gp/T/ipykernel_14000/3859271102.py:25: FutureWarning: The frame.append method is deprecated and will be removed from pandas in a future version. Use pandas.concat instead.\n",
      "  resultados_df = resultados_df.append({'product_id': i, 'product_id_tn': serie_test, 'y_hat': yhat[0][1]}, ignore_index=True)\n"
     ]
    },
    {
     "name": "stdout",
     "output_type": "stream",
     "text": [
      "20277\n"
     ]
    },
    {
     "name": "stderr",
     "output_type": "stream",
     "text": [
      "/var/folders/x4/m6ss_3nn1vn52_2htr4xj3800000gp/T/ipykernel_14000/3859271102.py:25: FutureWarning: The frame.append method is deprecated and will be removed from pandas in a future version. Use pandas.concat instead.\n",
      "  resultados_df = resultados_df.append({'product_id': i, 'product_id_tn': serie_test, 'y_hat': yhat[0][1]}, ignore_index=True)\n"
     ]
    },
    {
     "name": "stdout",
     "output_type": "stream",
     "text": [
      "20278\n"
     ]
    },
    {
     "name": "stderr",
     "output_type": "stream",
     "text": [
      "/var/folders/x4/m6ss_3nn1vn52_2htr4xj3800000gp/T/ipykernel_14000/3859271102.py:25: FutureWarning: The frame.append method is deprecated and will be removed from pandas in a future version. Use pandas.concat instead.\n",
      "  resultados_df = resultados_df.append({'product_id': i, 'product_id_tn': serie_test, 'y_hat': yhat[0][1]}, ignore_index=True)\n"
     ]
    },
    {
     "name": "stdout",
     "output_type": "stream",
     "text": [
      "20280\n"
     ]
    },
    {
     "name": "stderr",
     "output_type": "stream",
     "text": [
      "/var/folders/x4/m6ss_3nn1vn52_2htr4xj3800000gp/T/ipykernel_14000/3859271102.py:25: FutureWarning: The frame.append method is deprecated and will be removed from pandas in a future version. Use pandas.concat instead.\n",
      "  resultados_df = resultados_df.append({'product_id': i, 'product_id_tn': serie_test, 'y_hat': yhat[0][1]}, ignore_index=True)\n"
     ]
    },
    {
     "name": "stdout",
     "output_type": "stream",
     "text": [
      "20281\n"
     ]
    },
    {
     "name": "stderr",
     "output_type": "stream",
     "text": [
      "/var/folders/x4/m6ss_3nn1vn52_2htr4xj3800000gp/T/ipykernel_14000/3859271102.py:25: FutureWarning: The frame.append method is deprecated and will be removed from pandas in a future version. Use pandas.concat instead.\n",
      "  resultados_df = resultados_df.append({'product_id': i, 'product_id_tn': serie_test, 'y_hat': yhat[0][1]}, ignore_index=True)\n"
     ]
    },
    {
     "name": "stdout",
     "output_type": "stream",
     "text": [
      "20282\n"
     ]
    },
    {
     "name": "stderr",
     "output_type": "stream",
     "text": [
      "/var/folders/x4/m6ss_3nn1vn52_2htr4xj3800000gp/T/ipykernel_14000/3859271102.py:25: FutureWarning: The frame.append method is deprecated and will be removed from pandas in a future version. Use pandas.concat instead.\n",
      "  resultados_df = resultados_df.append({'product_id': i, 'product_id_tn': serie_test, 'y_hat': yhat[0][1]}, ignore_index=True)\n"
     ]
    },
    {
     "name": "stdout",
     "output_type": "stream",
     "text": [
      "20283\n"
     ]
    },
    {
     "name": "stderr",
     "output_type": "stream",
     "text": [
      "/var/folders/x4/m6ss_3nn1vn52_2htr4xj3800000gp/T/ipykernel_14000/3859271102.py:25: FutureWarning: The frame.append method is deprecated and will be removed from pandas in a future version. Use pandas.concat instead.\n",
      "  resultados_df = resultados_df.append({'product_id': i, 'product_id_tn': serie_test, 'y_hat': yhat[0][1]}, ignore_index=True)\n"
     ]
    },
    {
     "name": "stdout",
     "output_type": "stream",
     "text": [
      "20284\n"
     ]
    },
    {
     "name": "stderr",
     "output_type": "stream",
     "text": [
      "/var/folders/x4/m6ss_3nn1vn52_2htr4xj3800000gp/T/ipykernel_14000/3859271102.py:25: FutureWarning: The frame.append method is deprecated and will be removed from pandas in a future version. Use pandas.concat instead.\n",
      "  resultados_df = resultados_df.append({'product_id': i, 'product_id_tn': serie_test, 'y_hat': yhat[0][1]}, ignore_index=True)\n"
     ]
    },
    {
     "name": "stdout",
     "output_type": "stream",
     "text": [
      "20285\n"
     ]
    },
    {
     "name": "stderr",
     "output_type": "stream",
     "text": [
      "/var/folders/x4/m6ss_3nn1vn52_2htr4xj3800000gp/T/ipykernel_14000/3859271102.py:25: FutureWarning: The frame.append method is deprecated and will be removed from pandas in a future version. Use pandas.concat instead.\n",
      "  resultados_df = resultados_df.append({'product_id': i, 'product_id_tn': serie_test, 'y_hat': yhat[0][1]}, ignore_index=True)\n"
     ]
    },
    {
     "name": "stdout",
     "output_type": "stream",
     "text": [
      "20287\n"
     ]
    },
    {
     "name": "stderr",
     "output_type": "stream",
     "text": [
      "/var/folders/x4/m6ss_3nn1vn52_2htr4xj3800000gp/T/ipykernel_14000/3859271102.py:25: FutureWarning: The frame.append method is deprecated and will be removed from pandas in a future version. Use pandas.concat instead.\n",
      "  resultados_df = resultados_df.append({'product_id': i, 'product_id_tn': serie_test, 'y_hat': yhat[0][1]}, ignore_index=True)\n"
     ]
    },
    {
     "name": "stdout",
     "output_type": "stream",
     "text": [
      "20288\n"
     ]
    },
    {
     "name": "stderr",
     "output_type": "stream",
     "text": [
      "/var/folders/x4/m6ss_3nn1vn52_2htr4xj3800000gp/T/ipykernel_14000/3859271102.py:25: FutureWarning: The frame.append method is deprecated and will be removed from pandas in a future version. Use pandas.concat instead.\n",
      "  resultados_df = resultados_df.append({'product_id': i, 'product_id_tn': serie_test, 'y_hat': yhat[0][1]}, ignore_index=True)\n"
     ]
    },
    {
     "name": "stdout",
     "output_type": "stream",
     "text": [
      "20289\n"
     ]
    },
    {
     "name": "stderr",
     "output_type": "stream",
     "text": [
      "/var/folders/x4/m6ss_3nn1vn52_2htr4xj3800000gp/T/ipykernel_14000/3859271102.py:25: FutureWarning: The frame.append method is deprecated and will be removed from pandas in a future version. Use pandas.concat instead.\n",
      "  resultados_df = resultados_df.append({'product_id': i, 'product_id_tn': serie_test, 'y_hat': yhat[0][1]}, ignore_index=True)\n"
     ]
    },
    {
     "name": "stdout",
     "output_type": "stream",
     "text": [
      "20290\n"
     ]
    },
    {
     "name": "stderr",
     "output_type": "stream",
     "text": [
      "/var/folders/x4/m6ss_3nn1vn52_2htr4xj3800000gp/T/ipykernel_14000/3859271102.py:25: FutureWarning: The frame.append method is deprecated and will be removed from pandas in a future version. Use pandas.concat instead.\n",
      "  resultados_df = resultados_df.append({'product_id': i, 'product_id_tn': serie_test, 'y_hat': yhat[0][1]}, ignore_index=True)\n"
     ]
    },
    {
     "name": "stdout",
     "output_type": "stream",
     "text": [
      "20291\n"
     ]
    },
    {
     "name": "stderr",
     "output_type": "stream",
     "text": [
      "/var/folders/x4/m6ss_3nn1vn52_2htr4xj3800000gp/T/ipykernel_14000/3859271102.py:25: FutureWarning: The frame.append method is deprecated and will be removed from pandas in a future version. Use pandas.concat instead.\n",
      "  resultados_df = resultados_df.append({'product_id': i, 'product_id_tn': serie_test, 'y_hat': yhat[0][1]}, ignore_index=True)\n"
     ]
    },
    {
     "name": "stdout",
     "output_type": "stream",
     "text": [
      "20292\n"
     ]
    },
    {
     "name": "stderr",
     "output_type": "stream",
     "text": [
      "/var/folders/x4/m6ss_3nn1vn52_2htr4xj3800000gp/T/ipykernel_14000/3859271102.py:25: FutureWarning: The frame.append method is deprecated and will be removed from pandas in a future version. Use pandas.concat instead.\n",
      "  resultados_df = resultados_df.append({'product_id': i, 'product_id_tn': serie_test, 'y_hat': yhat[0][1]}, ignore_index=True)\n"
     ]
    },
    {
     "name": "stdout",
     "output_type": "stream",
     "text": [
      "20293\n"
     ]
    },
    {
     "name": "stderr",
     "output_type": "stream",
     "text": [
      "/var/folders/x4/m6ss_3nn1vn52_2htr4xj3800000gp/T/ipykernel_14000/3859271102.py:25: FutureWarning: The frame.append method is deprecated and will be removed from pandas in a future version. Use pandas.concat instead.\n",
      "  resultados_df = resultados_df.append({'product_id': i, 'product_id_tn': serie_test, 'y_hat': yhat[0][1]}, ignore_index=True)\n"
     ]
    },
    {
     "name": "stdout",
     "output_type": "stream",
     "text": [
      "20294\n"
     ]
    },
    {
     "name": "stderr",
     "output_type": "stream",
     "text": [
      "/var/folders/x4/m6ss_3nn1vn52_2htr4xj3800000gp/T/ipykernel_14000/3859271102.py:25: FutureWarning: The frame.append method is deprecated and will be removed from pandas in a future version. Use pandas.concat instead.\n",
      "  resultados_df = resultados_df.append({'product_id': i, 'product_id_tn': serie_test, 'y_hat': yhat[0][1]}, ignore_index=True)\n"
     ]
    },
    {
     "name": "stdout",
     "output_type": "stream",
     "text": [
      "20295\n"
     ]
    },
    {
     "name": "stderr",
     "output_type": "stream",
     "text": [
      "/var/folders/x4/m6ss_3nn1vn52_2htr4xj3800000gp/T/ipykernel_14000/3859271102.py:25: FutureWarning: The frame.append method is deprecated and will be removed from pandas in a future version. Use pandas.concat instead.\n",
      "  resultados_df = resultados_df.append({'product_id': i, 'product_id_tn': serie_test, 'y_hat': yhat[0][1]}, ignore_index=True)\n"
     ]
    },
    {
     "name": "stdout",
     "output_type": "stream",
     "text": [
      "20296\n"
     ]
    },
    {
     "name": "stderr",
     "output_type": "stream",
     "text": [
      "/var/folders/x4/m6ss_3nn1vn52_2htr4xj3800000gp/T/ipykernel_14000/3859271102.py:25: FutureWarning: The frame.append method is deprecated and will be removed from pandas in a future version. Use pandas.concat instead.\n",
      "  resultados_df = resultados_df.append({'product_id': i, 'product_id_tn': serie_test, 'y_hat': yhat[0][1]}, ignore_index=True)\n"
     ]
    },
    {
     "name": "stdout",
     "output_type": "stream",
     "text": [
      "20297\n"
     ]
    },
    {
     "name": "stderr",
     "output_type": "stream",
     "text": [
      "/var/folders/x4/m6ss_3nn1vn52_2htr4xj3800000gp/T/ipykernel_14000/3859271102.py:25: FutureWarning: The frame.append method is deprecated and will be removed from pandas in a future version. Use pandas.concat instead.\n",
      "  resultados_df = resultados_df.append({'product_id': i, 'product_id_tn': serie_test, 'y_hat': yhat[0][1]}, ignore_index=True)\n"
     ]
    },
    {
     "name": "stdout",
     "output_type": "stream",
     "text": [
      "20298\n"
     ]
    },
    {
     "name": "stderr",
     "output_type": "stream",
     "text": [
      "/var/folders/x4/m6ss_3nn1vn52_2htr4xj3800000gp/T/ipykernel_14000/3859271102.py:25: FutureWarning: The frame.append method is deprecated and will be removed from pandas in a future version. Use pandas.concat instead.\n",
      "  resultados_df = resultados_df.append({'product_id': i, 'product_id_tn': serie_test, 'y_hat': yhat[0][1]}, ignore_index=True)\n"
     ]
    },
    {
     "name": "stdout",
     "output_type": "stream",
     "text": [
      "20299\n"
     ]
    },
    {
     "name": "stderr",
     "output_type": "stream",
     "text": [
      "/var/folders/x4/m6ss_3nn1vn52_2htr4xj3800000gp/T/ipykernel_14000/3859271102.py:25: FutureWarning: The frame.append method is deprecated and will be removed from pandas in a future version. Use pandas.concat instead.\n",
      "  resultados_df = resultados_df.append({'product_id': i, 'product_id_tn': serie_test, 'y_hat': yhat[0][1]}, ignore_index=True)\n"
     ]
    },
    {
     "name": "stdout",
     "output_type": "stream",
     "text": [
      "20300\n"
     ]
    },
    {
     "name": "stderr",
     "output_type": "stream",
     "text": [
      "/var/folders/x4/m6ss_3nn1vn52_2htr4xj3800000gp/T/ipykernel_14000/3859271102.py:25: FutureWarning: The frame.append method is deprecated and will be removed from pandas in a future version. Use pandas.concat instead.\n",
      "  resultados_df = resultados_df.append({'product_id': i, 'product_id_tn': serie_test, 'y_hat': yhat[0][1]}, ignore_index=True)\n"
     ]
    },
    {
     "name": "stdout",
     "output_type": "stream",
     "text": [
      "20301\n"
     ]
    },
    {
     "name": "stderr",
     "output_type": "stream",
     "text": [
      "/var/folders/x4/m6ss_3nn1vn52_2htr4xj3800000gp/T/ipykernel_14000/3859271102.py:25: FutureWarning: The frame.append method is deprecated and will be removed from pandas in a future version. Use pandas.concat instead.\n",
      "  resultados_df = resultados_df.append({'product_id': i, 'product_id_tn': serie_test, 'y_hat': yhat[0][1]}, ignore_index=True)\n"
     ]
    },
    {
     "name": "stdout",
     "output_type": "stream",
     "text": [
      "20302\n"
     ]
    },
    {
     "name": "stderr",
     "output_type": "stream",
     "text": [
      "/var/folders/x4/m6ss_3nn1vn52_2htr4xj3800000gp/T/ipykernel_14000/3859271102.py:25: FutureWarning: The frame.append method is deprecated and will be removed from pandas in a future version. Use pandas.concat instead.\n",
      "  resultados_df = resultados_df.append({'product_id': i, 'product_id_tn': serie_test, 'y_hat': yhat[0][1]}, ignore_index=True)\n"
     ]
    },
    {
     "name": "stdout",
     "output_type": "stream",
     "text": [
      "20303\n"
     ]
    },
    {
     "name": "stderr",
     "output_type": "stream",
     "text": [
      "/var/folders/x4/m6ss_3nn1vn52_2htr4xj3800000gp/T/ipykernel_14000/3859271102.py:25: FutureWarning: The frame.append method is deprecated and will be removed from pandas in a future version. Use pandas.concat instead.\n",
      "  resultados_df = resultados_df.append({'product_id': i, 'product_id_tn': serie_test, 'y_hat': yhat[0][1]}, ignore_index=True)\n"
     ]
    },
    {
     "name": "stdout",
     "output_type": "stream",
     "text": [
      "20304\n"
     ]
    },
    {
     "name": "stderr",
     "output_type": "stream",
     "text": [
      "/var/folders/x4/m6ss_3nn1vn52_2htr4xj3800000gp/T/ipykernel_14000/3859271102.py:25: FutureWarning: The frame.append method is deprecated and will be removed from pandas in a future version. Use pandas.concat instead.\n",
      "  resultados_df = resultados_df.append({'product_id': i, 'product_id_tn': serie_test, 'y_hat': yhat[0][1]}, ignore_index=True)\n"
     ]
    },
    {
     "name": "stdout",
     "output_type": "stream",
     "text": [
      "20305\n"
     ]
    },
    {
     "name": "stderr",
     "output_type": "stream",
     "text": [
      "/var/folders/x4/m6ss_3nn1vn52_2htr4xj3800000gp/T/ipykernel_14000/3859271102.py:25: FutureWarning: The frame.append method is deprecated and will be removed from pandas in a future version. Use pandas.concat instead.\n",
      "  resultados_df = resultados_df.append({'product_id': i, 'product_id_tn': serie_test, 'y_hat': yhat[0][1]}, ignore_index=True)\n"
     ]
    },
    {
     "name": "stdout",
     "output_type": "stream",
     "text": [
      "20306\n"
     ]
    },
    {
     "name": "stderr",
     "output_type": "stream",
     "text": [
      "/var/folders/x4/m6ss_3nn1vn52_2htr4xj3800000gp/T/ipykernel_14000/3859271102.py:25: FutureWarning: The frame.append method is deprecated and will be removed from pandas in a future version. Use pandas.concat instead.\n",
      "  resultados_df = resultados_df.append({'product_id': i, 'product_id_tn': serie_test, 'y_hat': yhat[0][1]}, ignore_index=True)\n"
     ]
    },
    {
     "name": "stdout",
     "output_type": "stream",
     "text": [
      "20307\n"
     ]
    },
    {
     "name": "stderr",
     "output_type": "stream",
     "text": [
      "/var/folders/x4/m6ss_3nn1vn52_2htr4xj3800000gp/T/ipykernel_14000/3859271102.py:25: FutureWarning: The frame.append method is deprecated and will be removed from pandas in a future version. Use pandas.concat instead.\n",
      "  resultados_df = resultados_df.append({'product_id': i, 'product_id_tn': serie_test, 'y_hat': yhat[0][1]}, ignore_index=True)\n"
     ]
    },
    {
     "name": "stdout",
     "output_type": "stream",
     "text": [
      "20308\n"
     ]
    },
    {
     "name": "stderr",
     "output_type": "stream",
     "text": [
      "/var/folders/x4/m6ss_3nn1vn52_2htr4xj3800000gp/T/ipykernel_14000/3859271102.py:25: FutureWarning: The frame.append method is deprecated and will be removed from pandas in a future version. Use pandas.concat instead.\n",
      "  resultados_df = resultados_df.append({'product_id': i, 'product_id_tn': serie_test, 'y_hat': yhat[0][1]}, ignore_index=True)\n"
     ]
    },
    {
     "name": "stdout",
     "output_type": "stream",
     "text": [
      "20309\n"
     ]
    },
    {
     "name": "stderr",
     "output_type": "stream",
     "text": [
      "/var/folders/x4/m6ss_3nn1vn52_2htr4xj3800000gp/T/ipykernel_14000/3859271102.py:25: FutureWarning: The frame.append method is deprecated and will be removed from pandas in a future version. Use pandas.concat instead.\n",
      "  resultados_df = resultados_df.append({'product_id': i, 'product_id_tn': serie_test, 'y_hat': yhat[0][1]}, ignore_index=True)\n"
     ]
    },
    {
     "name": "stdout",
     "output_type": "stream",
     "text": [
      "20310\n"
     ]
    },
    {
     "name": "stderr",
     "output_type": "stream",
     "text": [
      "/var/folders/x4/m6ss_3nn1vn52_2htr4xj3800000gp/T/ipykernel_14000/3859271102.py:25: FutureWarning: The frame.append method is deprecated and will be removed from pandas in a future version. Use pandas.concat instead.\n",
      "  resultados_df = resultados_df.append({'product_id': i, 'product_id_tn': serie_test, 'y_hat': yhat[0][1]}, ignore_index=True)\n"
     ]
    },
    {
     "name": "stdout",
     "output_type": "stream",
     "text": [
      "20311\n"
     ]
    },
    {
     "name": "stderr",
     "output_type": "stream",
     "text": [
      "/var/folders/x4/m6ss_3nn1vn52_2htr4xj3800000gp/T/ipykernel_14000/3859271102.py:25: FutureWarning: The frame.append method is deprecated and will be removed from pandas in a future version. Use pandas.concat instead.\n",
      "  resultados_df = resultados_df.append({'product_id': i, 'product_id_tn': serie_test, 'y_hat': yhat[0][1]}, ignore_index=True)\n"
     ]
    },
    {
     "name": "stdout",
     "output_type": "stream",
     "text": [
      "20312\n"
     ]
    },
    {
     "name": "stderr",
     "output_type": "stream",
     "text": [
      "/var/folders/x4/m6ss_3nn1vn52_2htr4xj3800000gp/T/ipykernel_14000/3859271102.py:25: FutureWarning: The frame.append method is deprecated and will be removed from pandas in a future version. Use pandas.concat instead.\n",
      "  resultados_df = resultados_df.append({'product_id': i, 'product_id_tn': serie_test, 'y_hat': yhat[0][1]}, ignore_index=True)\n"
     ]
    },
    {
     "name": "stdout",
     "output_type": "stream",
     "text": [
      "20313\n"
     ]
    },
    {
     "name": "stderr",
     "output_type": "stream",
     "text": [
      "/var/folders/x4/m6ss_3nn1vn52_2htr4xj3800000gp/T/ipykernel_14000/3859271102.py:25: FutureWarning: The frame.append method is deprecated and will be removed from pandas in a future version. Use pandas.concat instead.\n",
      "  resultados_df = resultados_df.append({'product_id': i, 'product_id_tn': serie_test, 'y_hat': yhat[0][1]}, ignore_index=True)\n"
     ]
    },
    {
     "name": "stdout",
     "output_type": "stream",
     "text": [
      "20314\n"
     ]
    },
    {
     "name": "stderr",
     "output_type": "stream",
     "text": [
      "/var/folders/x4/m6ss_3nn1vn52_2htr4xj3800000gp/T/ipykernel_14000/3859271102.py:25: FutureWarning: The frame.append method is deprecated and will be removed from pandas in a future version. Use pandas.concat instead.\n",
      "  resultados_df = resultados_df.append({'product_id': i, 'product_id_tn': serie_test, 'y_hat': yhat[0][1]}, ignore_index=True)\n"
     ]
    },
    {
     "name": "stdout",
     "output_type": "stream",
     "text": [
      "20315\n"
     ]
    },
    {
     "name": "stderr",
     "output_type": "stream",
     "text": [
      "/var/folders/x4/m6ss_3nn1vn52_2htr4xj3800000gp/T/ipykernel_14000/3859271102.py:25: FutureWarning: The frame.append method is deprecated and will be removed from pandas in a future version. Use pandas.concat instead.\n",
      "  resultados_df = resultados_df.append({'product_id': i, 'product_id_tn': serie_test, 'y_hat': yhat[0][1]}, ignore_index=True)\n"
     ]
    },
    {
     "name": "stdout",
     "output_type": "stream",
     "text": [
      "20316\n"
     ]
    },
    {
     "name": "stderr",
     "output_type": "stream",
     "text": [
      "/var/folders/x4/m6ss_3nn1vn52_2htr4xj3800000gp/T/ipykernel_14000/3859271102.py:25: FutureWarning: The frame.append method is deprecated and will be removed from pandas in a future version. Use pandas.concat instead.\n",
      "  resultados_df = resultados_df.append({'product_id': i, 'product_id_tn': serie_test, 'y_hat': yhat[0][1]}, ignore_index=True)\n"
     ]
    },
    {
     "name": "stdout",
     "output_type": "stream",
     "text": [
      "20317\n"
     ]
    },
    {
     "name": "stderr",
     "output_type": "stream",
     "text": [
      "/var/folders/x4/m6ss_3nn1vn52_2htr4xj3800000gp/T/ipykernel_14000/3859271102.py:25: FutureWarning: The frame.append method is deprecated and will be removed from pandas in a future version. Use pandas.concat instead.\n",
      "  resultados_df = resultados_df.append({'product_id': i, 'product_id_tn': serie_test, 'y_hat': yhat[0][1]}, ignore_index=True)\n"
     ]
    },
    {
     "name": "stdout",
     "output_type": "stream",
     "text": [
      "20318\n"
     ]
    },
    {
     "name": "stderr",
     "output_type": "stream",
     "text": [
      "/var/folders/x4/m6ss_3nn1vn52_2htr4xj3800000gp/T/ipykernel_14000/3859271102.py:25: FutureWarning: The frame.append method is deprecated and will be removed from pandas in a future version. Use pandas.concat instead.\n",
      "  resultados_df = resultados_df.append({'product_id': i, 'product_id_tn': serie_test, 'y_hat': yhat[0][1]}, ignore_index=True)\n"
     ]
    },
    {
     "name": "stdout",
     "output_type": "stream",
     "text": [
      "20319\n"
     ]
    },
    {
     "name": "stderr",
     "output_type": "stream",
     "text": [
      "/var/folders/x4/m6ss_3nn1vn52_2htr4xj3800000gp/T/ipykernel_14000/3859271102.py:25: FutureWarning: The frame.append method is deprecated and will be removed from pandas in a future version. Use pandas.concat instead.\n",
      "  resultados_df = resultados_df.append({'product_id': i, 'product_id_tn': serie_test, 'y_hat': yhat[0][1]}, ignore_index=True)\n"
     ]
    },
    {
     "name": "stdout",
     "output_type": "stream",
     "text": [
      "20320\n"
     ]
    },
    {
     "name": "stderr",
     "output_type": "stream",
     "text": [
      "/var/folders/x4/m6ss_3nn1vn52_2htr4xj3800000gp/T/ipykernel_14000/3859271102.py:25: FutureWarning: The frame.append method is deprecated and will be removed from pandas in a future version. Use pandas.concat instead.\n",
      "  resultados_df = resultados_df.append({'product_id': i, 'product_id_tn': serie_test, 'y_hat': yhat[0][1]}, ignore_index=True)\n"
     ]
    },
    {
     "name": "stdout",
     "output_type": "stream",
     "text": [
      "20321\n"
     ]
    },
    {
     "name": "stderr",
     "output_type": "stream",
     "text": [
      "/var/folders/x4/m6ss_3nn1vn52_2htr4xj3800000gp/T/ipykernel_14000/3859271102.py:25: FutureWarning: The frame.append method is deprecated and will be removed from pandas in a future version. Use pandas.concat instead.\n",
      "  resultados_df = resultados_df.append({'product_id': i, 'product_id_tn': serie_test, 'y_hat': yhat[0][1]}, ignore_index=True)\n"
     ]
    },
    {
     "name": "stdout",
     "output_type": "stream",
     "text": [
      "20322\n"
     ]
    },
    {
     "name": "stderr",
     "output_type": "stream",
     "text": [
      "/var/folders/x4/m6ss_3nn1vn52_2htr4xj3800000gp/T/ipykernel_14000/3859271102.py:25: FutureWarning: The frame.append method is deprecated and will be removed from pandas in a future version. Use pandas.concat instead.\n",
      "  resultados_df = resultados_df.append({'product_id': i, 'product_id_tn': serie_test, 'y_hat': yhat[0][1]}, ignore_index=True)\n"
     ]
    },
    {
     "name": "stdout",
     "output_type": "stream",
     "text": [
      "20323\n"
     ]
    },
    {
     "name": "stderr",
     "output_type": "stream",
     "text": [
      "/var/folders/x4/m6ss_3nn1vn52_2htr4xj3800000gp/T/ipykernel_14000/3859271102.py:25: FutureWarning: The frame.append method is deprecated and will be removed from pandas in a future version. Use pandas.concat instead.\n",
      "  resultados_df = resultados_df.append({'product_id': i, 'product_id_tn': serie_test, 'y_hat': yhat[0][1]}, ignore_index=True)\n"
     ]
    },
    {
     "name": "stdout",
     "output_type": "stream",
     "text": [
      "20324\n"
     ]
    },
    {
     "name": "stderr",
     "output_type": "stream",
     "text": [
      "/var/folders/x4/m6ss_3nn1vn52_2htr4xj3800000gp/T/ipykernel_14000/3859271102.py:25: FutureWarning: The frame.append method is deprecated and will be removed from pandas in a future version. Use pandas.concat instead.\n",
      "  resultados_df = resultados_df.append({'product_id': i, 'product_id_tn': serie_test, 'y_hat': yhat[0][1]}, ignore_index=True)\n"
     ]
    },
    {
     "name": "stdout",
     "output_type": "stream",
     "text": [
      "20325\n"
     ]
    },
    {
     "name": "stderr",
     "output_type": "stream",
     "text": [
      "/var/folders/x4/m6ss_3nn1vn52_2htr4xj3800000gp/T/ipykernel_14000/3859271102.py:25: FutureWarning: The frame.append method is deprecated and will be removed from pandas in a future version. Use pandas.concat instead.\n",
      "  resultados_df = resultados_df.append({'product_id': i, 'product_id_tn': serie_test, 'y_hat': yhat[0][1]}, ignore_index=True)\n"
     ]
    },
    {
     "name": "stdout",
     "output_type": "stream",
     "text": [
      "20326\n"
     ]
    },
    {
     "name": "stderr",
     "output_type": "stream",
     "text": [
      "/var/folders/x4/m6ss_3nn1vn52_2htr4xj3800000gp/T/ipykernel_14000/3859271102.py:25: FutureWarning: The frame.append method is deprecated and will be removed from pandas in a future version. Use pandas.concat instead.\n",
      "  resultados_df = resultados_df.append({'product_id': i, 'product_id_tn': serie_test, 'y_hat': yhat[0][1]}, ignore_index=True)\n"
     ]
    },
    {
     "name": "stdout",
     "output_type": "stream",
     "text": [
      "20327\n"
     ]
    },
    {
     "name": "stderr",
     "output_type": "stream",
     "text": [
      "/var/folders/x4/m6ss_3nn1vn52_2htr4xj3800000gp/T/ipykernel_14000/3859271102.py:25: FutureWarning: The frame.append method is deprecated and will be removed from pandas in a future version. Use pandas.concat instead.\n",
      "  resultados_df = resultados_df.append({'product_id': i, 'product_id_tn': serie_test, 'y_hat': yhat[0][1]}, ignore_index=True)\n"
     ]
    },
    {
     "name": "stdout",
     "output_type": "stream",
     "text": [
      "20328\n"
     ]
    },
    {
     "name": "stderr",
     "output_type": "stream",
     "text": [
      "/var/folders/x4/m6ss_3nn1vn52_2htr4xj3800000gp/T/ipykernel_14000/3859271102.py:25: FutureWarning: The frame.append method is deprecated and will be removed from pandas in a future version. Use pandas.concat instead.\n",
      "  resultados_df = resultados_df.append({'product_id': i, 'product_id_tn': serie_test, 'y_hat': yhat[0][1]}, ignore_index=True)\n"
     ]
    },
    {
     "name": "stdout",
     "output_type": "stream",
     "text": [
      "20329\n"
     ]
    },
    {
     "name": "stderr",
     "output_type": "stream",
     "text": [
      "/var/folders/x4/m6ss_3nn1vn52_2htr4xj3800000gp/T/ipykernel_14000/3859271102.py:25: FutureWarning: The frame.append method is deprecated and will be removed from pandas in a future version. Use pandas.concat instead.\n",
      "  resultados_df = resultados_df.append({'product_id': i, 'product_id_tn': serie_test, 'y_hat': yhat[0][1]}, ignore_index=True)\n"
     ]
    },
    {
     "name": "stdout",
     "output_type": "stream",
     "text": [
      "20330\n"
     ]
    },
    {
     "name": "stderr",
     "output_type": "stream",
     "text": [
      "/var/folders/x4/m6ss_3nn1vn52_2htr4xj3800000gp/T/ipykernel_14000/3859271102.py:25: FutureWarning: The frame.append method is deprecated and will be removed from pandas in a future version. Use pandas.concat instead.\n",
      "  resultados_df = resultados_df.append({'product_id': i, 'product_id_tn': serie_test, 'y_hat': yhat[0][1]}, ignore_index=True)\n"
     ]
    },
    {
     "name": "stdout",
     "output_type": "stream",
     "text": [
      "20331\n"
     ]
    },
    {
     "name": "stderr",
     "output_type": "stream",
     "text": [
      "/var/folders/x4/m6ss_3nn1vn52_2htr4xj3800000gp/T/ipykernel_14000/3859271102.py:25: FutureWarning: The frame.append method is deprecated and will be removed from pandas in a future version. Use pandas.concat instead.\n",
      "  resultados_df = resultados_df.append({'product_id': i, 'product_id_tn': serie_test, 'y_hat': yhat[0][1]}, ignore_index=True)\n"
     ]
    },
    {
     "name": "stdout",
     "output_type": "stream",
     "text": [
      "20332\n"
     ]
    },
    {
     "name": "stderr",
     "output_type": "stream",
     "text": [
      "/var/folders/x4/m6ss_3nn1vn52_2htr4xj3800000gp/T/ipykernel_14000/3859271102.py:25: FutureWarning: The frame.append method is deprecated and will be removed from pandas in a future version. Use pandas.concat instead.\n",
      "  resultados_df = resultados_df.append({'product_id': i, 'product_id_tn': serie_test, 'y_hat': yhat[0][1]}, ignore_index=True)\n"
     ]
    },
    {
     "name": "stdout",
     "output_type": "stream",
     "text": [
      "20333\n"
     ]
    },
    {
     "name": "stderr",
     "output_type": "stream",
     "text": [
      "/var/folders/x4/m6ss_3nn1vn52_2htr4xj3800000gp/T/ipykernel_14000/3859271102.py:25: FutureWarning: The frame.append method is deprecated and will be removed from pandas in a future version. Use pandas.concat instead.\n",
      "  resultados_df = resultados_df.append({'product_id': i, 'product_id_tn': serie_test, 'y_hat': yhat[0][1]}, ignore_index=True)\n"
     ]
    },
    {
     "name": "stdout",
     "output_type": "stream",
     "text": [
      "20334\n"
     ]
    },
    {
     "name": "stderr",
     "output_type": "stream",
     "text": [
      "/var/folders/x4/m6ss_3nn1vn52_2htr4xj3800000gp/T/ipykernel_14000/3859271102.py:25: FutureWarning: The frame.append method is deprecated and will be removed from pandas in a future version. Use pandas.concat instead.\n",
      "  resultados_df = resultados_df.append({'product_id': i, 'product_id_tn': serie_test, 'y_hat': yhat[0][1]}, ignore_index=True)\n"
     ]
    },
    {
     "name": "stdout",
     "output_type": "stream",
     "text": [
      "20335\n"
     ]
    },
    {
     "name": "stderr",
     "output_type": "stream",
     "text": [
      "/var/folders/x4/m6ss_3nn1vn52_2htr4xj3800000gp/T/ipykernel_14000/3859271102.py:25: FutureWarning: The frame.append method is deprecated and will be removed from pandas in a future version. Use pandas.concat instead.\n",
      "  resultados_df = resultados_df.append({'product_id': i, 'product_id_tn': serie_test, 'y_hat': yhat[0][1]}, ignore_index=True)\n"
     ]
    },
    {
     "name": "stdout",
     "output_type": "stream",
     "text": [
      "20336\n"
     ]
    },
    {
     "name": "stderr",
     "output_type": "stream",
     "text": [
      "/var/folders/x4/m6ss_3nn1vn52_2htr4xj3800000gp/T/ipykernel_14000/3859271102.py:25: FutureWarning: The frame.append method is deprecated and will be removed from pandas in a future version. Use pandas.concat instead.\n",
      "  resultados_df = resultados_df.append({'product_id': i, 'product_id_tn': serie_test, 'y_hat': yhat[0][1]}, ignore_index=True)\n"
     ]
    },
    {
     "name": "stdout",
     "output_type": "stream",
     "text": [
      "20337\n"
     ]
    },
    {
     "name": "stderr",
     "output_type": "stream",
     "text": [
      "/var/folders/x4/m6ss_3nn1vn52_2htr4xj3800000gp/T/ipykernel_14000/3859271102.py:25: FutureWarning: The frame.append method is deprecated and will be removed from pandas in a future version. Use pandas.concat instead.\n",
      "  resultados_df = resultados_df.append({'product_id': i, 'product_id_tn': serie_test, 'y_hat': yhat[0][1]}, ignore_index=True)\n"
     ]
    },
    {
     "name": "stdout",
     "output_type": "stream",
     "text": [
      "20338\n"
     ]
    },
    {
     "name": "stderr",
     "output_type": "stream",
     "text": [
      "/var/folders/x4/m6ss_3nn1vn52_2htr4xj3800000gp/T/ipykernel_14000/3859271102.py:25: FutureWarning: The frame.append method is deprecated and will be removed from pandas in a future version. Use pandas.concat instead.\n",
      "  resultados_df = resultados_df.append({'product_id': i, 'product_id_tn': serie_test, 'y_hat': yhat[0][1]}, ignore_index=True)\n"
     ]
    },
    {
     "name": "stdout",
     "output_type": "stream",
     "text": [
      "20339\n"
     ]
    },
    {
     "name": "stderr",
     "output_type": "stream",
     "text": [
      "/var/folders/x4/m6ss_3nn1vn52_2htr4xj3800000gp/T/ipykernel_14000/3859271102.py:25: FutureWarning: The frame.append method is deprecated and will be removed from pandas in a future version. Use pandas.concat instead.\n",
      "  resultados_df = resultados_df.append({'product_id': i, 'product_id_tn': serie_test, 'y_hat': yhat[0][1]}, ignore_index=True)\n"
     ]
    },
    {
     "name": "stdout",
     "output_type": "stream",
     "text": [
      "20340\n"
     ]
    },
    {
     "name": "stderr",
     "output_type": "stream",
     "text": [
      "/var/folders/x4/m6ss_3nn1vn52_2htr4xj3800000gp/T/ipykernel_14000/3859271102.py:25: FutureWarning: The frame.append method is deprecated and will be removed from pandas in a future version. Use pandas.concat instead.\n",
      "  resultados_df = resultados_df.append({'product_id': i, 'product_id_tn': serie_test, 'y_hat': yhat[0][1]}, ignore_index=True)\n"
     ]
    },
    {
     "name": "stdout",
     "output_type": "stream",
     "text": [
      "20341\n"
     ]
    },
    {
     "name": "stderr",
     "output_type": "stream",
     "text": [
      "/var/folders/x4/m6ss_3nn1vn52_2htr4xj3800000gp/T/ipykernel_14000/3859271102.py:25: FutureWarning: The frame.append method is deprecated and will be removed from pandas in a future version. Use pandas.concat instead.\n",
      "  resultados_df = resultados_df.append({'product_id': i, 'product_id_tn': serie_test, 'y_hat': yhat[0][1]}, ignore_index=True)\n"
     ]
    },
    {
     "name": "stdout",
     "output_type": "stream",
     "text": [
      "20342\n"
     ]
    },
    {
     "name": "stderr",
     "output_type": "stream",
     "text": [
      "/var/folders/x4/m6ss_3nn1vn52_2htr4xj3800000gp/T/ipykernel_14000/3859271102.py:25: FutureWarning: The frame.append method is deprecated and will be removed from pandas in a future version. Use pandas.concat instead.\n",
      "  resultados_df = resultados_df.append({'product_id': i, 'product_id_tn': serie_test, 'y_hat': yhat[0][1]}, ignore_index=True)\n"
     ]
    },
    {
     "name": "stdout",
     "output_type": "stream",
     "text": [
      "20343\n"
     ]
    },
    {
     "name": "stderr",
     "output_type": "stream",
     "text": [
      "/var/folders/x4/m6ss_3nn1vn52_2htr4xj3800000gp/T/ipykernel_14000/3859271102.py:25: FutureWarning: The frame.append method is deprecated and will be removed from pandas in a future version. Use pandas.concat instead.\n",
      "  resultados_df = resultados_df.append({'product_id': i, 'product_id_tn': serie_test, 'y_hat': yhat[0][1]}, ignore_index=True)\n"
     ]
    },
    {
     "name": "stdout",
     "output_type": "stream",
     "text": [
      "20344\n"
     ]
    },
    {
     "name": "stderr",
     "output_type": "stream",
     "text": [
      "/var/folders/x4/m6ss_3nn1vn52_2htr4xj3800000gp/T/ipykernel_14000/3859271102.py:25: FutureWarning: The frame.append method is deprecated and will be removed from pandas in a future version. Use pandas.concat instead.\n",
      "  resultados_df = resultados_df.append({'product_id': i, 'product_id_tn': serie_test, 'y_hat': yhat[0][1]}, ignore_index=True)\n"
     ]
    },
    {
     "name": "stdout",
     "output_type": "stream",
     "text": [
      "20345\n"
     ]
    },
    {
     "name": "stderr",
     "output_type": "stream",
     "text": [
      "/var/folders/x4/m6ss_3nn1vn52_2htr4xj3800000gp/T/ipykernel_14000/3859271102.py:25: FutureWarning: The frame.append method is deprecated and will be removed from pandas in a future version. Use pandas.concat instead.\n",
      "  resultados_df = resultados_df.append({'product_id': i, 'product_id_tn': serie_test, 'y_hat': yhat[0][1]}, ignore_index=True)\n"
     ]
    },
    {
     "name": "stdout",
     "output_type": "stream",
     "text": [
      "20346\n"
     ]
    },
    {
     "name": "stderr",
     "output_type": "stream",
     "text": [
      "/var/folders/x4/m6ss_3nn1vn52_2htr4xj3800000gp/T/ipykernel_14000/3859271102.py:25: FutureWarning: The frame.append method is deprecated and will be removed from pandas in a future version. Use pandas.concat instead.\n",
      "  resultados_df = resultados_df.append({'product_id': i, 'product_id_tn': serie_test, 'y_hat': yhat[0][1]}, ignore_index=True)\n"
     ]
    },
    {
     "name": "stdout",
     "output_type": "stream",
     "text": [
      "20347\n"
     ]
    },
    {
     "name": "stderr",
     "output_type": "stream",
     "text": [
      "/var/folders/x4/m6ss_3nn1vn52_2htr4xj3800000gp/T/ipykernel_14000/3859271102.py:25: FutureWarning: The frame.append method is deprecated and will be removed from pandas in a future version. Use pandas.concat instead.\n",
      "  resultados_df = resultados_df.append({'product_id': i, 'product_id_tn': serie_test, 'y_hat': yhat[0][1]}, ignore_index=True)\n"
     ]
    },
    {
     "name": "stdout",
     "output_type": "stream",
     "text": [
      "20348\n"
     ]
    },
    {
     "name": "stderr",
     "output_type": "stream",
     "text": [
      "/var/folders/x4/m6ss_3nn1vn52_2htr4xj3800000gp/T/ipykernel_14000/3859271102.py:25: FutureWarning: The frame.append method is deprecated and will be removed from pandas in a future version. Use pandas.concat instead.\n",
      "  resultados_df = resultados_df.append({'product_id': i, 'product_id_tn': serie_test, 'y_hat': yhat[0][1]}, ignore_index=True)\n"
     ]
    },
    {
     "name": "stdout",
     "output_type": "stream",
     "text": [
      "20349\n"
     ]
    },
    {
     "name": "stderr",
     "output_type": "stream",
     "text": [
      "/var/folders/x4/m6ss_3nn1vn52_2htr4xj3800000gp/T/ipykernel_14000/3859271102.py:25: FutureWarning: The frame.append method is deprecated and will be removed from pandas in a future version. Use pandas.concat instead.\n",
      "  resultados_df = resultados_df.append({'product_id': i, 'product_id_tn': serie_test, 'y_hat': yhat[0][1]}, ignore_index=True)\n"
     ]
    },
    {
     "name": "stdout",
     "output_type": "stream",
     "text": [
      "20350\n"
     ]
    },
    {
     "name": "stderr",
     "output_type": "stream",
     "text": [
      "/var/folders/x4/m6ss_3nn1vn52_2htr4xj3800000gp/T/ipykernel_14000/3859271102.py:25: FutureWarning: The frame.append method is deprecated and will be removed from pandas in a future version. Use pandas.concat instead.\n",
      "  resultados_df = resultados_df.append({'product_id': i, 'product_id_tn': serie_test, 'y_hat': yhat[0][1]}, ignore_index=True)\n"
     ]
    },
    {
     "name": "stdout",
     "output_type": "stream",
     "text": [
      "20351\n"
     ]
    },
    {
     "name": "stderr",
     "output_type": "stream",
     "text": [
      "/var/folders/x4/m6ss_3nn1vn52_2htr4xj3800000gp/T/ipykernel_14000/3859271102.py:25: FutureWarning: The frame.append method is deprecated and will be removed from pandas in a future version. Use pandas.concat instead.\n",
      "  resultados_df = resultados_df.append({'product_id': i, 'product_id_tn': serie_test, 'y_hat': yhat[0][1]}, ignore_index=True)\n"
     ]
    },
    {
     "name": "stdout",
     "output_type": "stream",
     "text": [
      "20352\n"
     ]
    },
    {
     "name": "stderr",
     "output_type": "stream",
     "text": [
      "/var/folders/x4/m6ss_3nn1vn52_2htr4xj3800000gp/T/ipykernel_14000/3859271102.py:25: FutureWarning: The frame.append method is deprecated and will be removed from pandas in a future version. Use pandas.concat instead.\n",
      "  resultados_df = resultados_df.append({'product_id': i, 'product_id_tn': serie_test, 'y_hat': yhat[0][1]}, ignore_index=True)\n"
     ]
    },
    {
     "name": "stdout",
     "output_type": "stream",
     "text": [
      "20353\n"
     ]
    },
    {
     "name": "stderr",
     "output_type": "stream",
     "text": [
      "/var/folders/x4/m6ss_3nn1vn52_2htr4xj3800000gp/T/ipykernel_14000/3859271102.py:25: FutureWarning: The frame.append method is deprecated and will be removed from pandas in a future version. Use pandas.concat instead.\n",
      "  resultados_df = resultados_df.append({'product_id': i, 'product_id_tn': serie_test, 'y_hat': yhat[0][1]}, ignore_index=True)\n"
     ]
    },
    {
     "name": "stdout",
     "output_type": "stream",
     "text": [
      "20354\n"
     ]
    },
    {
     "name": "stderr",
     "output_type": "stream",
     "text": [
      "/var/folders/x4/m6ss_3nn1vn52_2htr4xj3800000gp/T/ipykernel_14000/3859271102.py:25: FutureWarning: The frame.append method is deprecated and will be removed from pandas in a future version. Use pandas.concat instead.\n",
      "  resultados_df = resultados_df.append({'product_id': i, 'product_id_tn': serie_test, 'y_hat': yhat[0][1]}, ignore_index=True)\n"
     ]
    },
    {
     "name": "stdout",
     "output_type": "stream",
     "text": [
      "20356\n"
     ]
    },
    {
     "name": "stderr",
     "output_type": "stream",
     "text": [
      "/var/folders/x4/m6ss_3nn1vn52_2htr4xj3800000gp/T/ipykernel_14000/3859271102.py:25: FutureWarning: The frame.append method is deprecated and will be removed from pandas in a future version. Use pandas.concat instead.\n",
      "  resultados_df = resultados_df.append({'product_id': i, 'product_id_tn': serie_test, 'y_hat': yhat[0][1]}, ignore_index=True)\n"
     ]
    },
    {
     "name": "stdout",
     "output_type": "stream",
     "text": [
      "20357\n"
     ]
    },
    {
     "name": "stderr",
     "output_type": "stream",
     "text": [
      "/var/folders/x4/m6ss_3nn1vn52_2htr4xj3800000gp/T/ipykernel_14000/3859271102.py:25: FutureWarning: The frame.append method is deprecated and will be removed from pandas in a future version. Use pandas.concat instead.\n",
      "  resultados_df = resultados_df.append({'product_id': i, 'product_id_tn': serie_test, 'y_hat': yhat[0][1]}, ignore_index=True)\n"
     ]
    },
    {
     "name": "stdout",
     "output_type": "stream",
     "text": [
      "20358\n"
     ]
    },
    {
     "name": "stderr",
     "output_type": "stream",
     "text": [
      "/var/folders/x4/m6ss_3nn1vn52_2htr4xj3800000gp/T/ipykernel_14000/3859271102.py:25: FutureWarning: The frame.append method is deprecated and will be removed from pandas in a future version. Use pandas.concat instead.\n",
      "  resultados_df = resultados_df.append({'product_id': i, 'product_id_tn': serie_test, 'y_hat': yhat[0][1]}, ignore_index=True)\n"
     ]
    },
    {
     "name": "stdout",
     "output_type": "stream",
     "text": [
      "20359\n"
     ]
    },
    {
     "name": "stderr",
     "output_type": "stream",
     "text": [
      "/var/folders/x4/m6ss_3nn1vn52_2htr4xj3800000gp/T/ipykernel_14000/3859271102.py:25: FutureWarning: The frame.append method is deprecated and will be removed from pandas in a future version. Use pandas.concat instead.\n",
      "  resultados_df = resultados_df.append({'product_id': i, 'product_id_tn': serie_test, 'y_hat': yhat[0][1]}, ignore_index=True)\n"
     ]
    },
    {
     "name": "stdout",
     "output_type": "stream",
     "text": [
      "20360\n"
     ]
    },
    {
     "name": "stderr",
     "output_type": "stream",
     "text": [
      "/var/folders/x4/m6ss_3nn1vn52_2htr4xj3800000gp/T/ipykernel_14000/3859271102.py:25: FutureWarning: The frame.append method is deprecated and will be removed from pandas in a future version. Use pandas.concat instead.\n",
      "  resultados_df = resultados_df.append({'product_id': i, 'product_id_tn': serie_test, 'y_hat': yhat[0][1]}, ignore_index=True)\n"
     ]
    },
    {
     "name": "stdout",
     "output_type": "stream",
     "text": [
      "20361\n"
     ]
    },
    {
     "name": "stderr",
     "output_type": "stream",
     "text": [
      "/var/folders/x4/m6ss_3nn1vn52_2htr4xj3800000gp/T/ipykernel_14000/3859271102.py:25: FutureWarning: The frame.append method is deprecated and will be removed from pandas in a future version. Use pandas.concat instead.\n",
      "  resultados_df = resultados_df.append({'product_id': i, 'product_id_tn': serie_test, 'y_hat': yhat[0][1]}, ignore_index=True)\n"
     ]
    },
    {
     "name": "stdout",
     "output_type": "stream",
     "text": [
      "20362\n"
     ]
    },
    {
     "name": "stderr",
     "output_type": "stream",
     "text": [
      "/var/folders/x4/m6ss_3nn1vn52_2htr4xj3800000gp/T/ipykernel_14000/3859271102.py:25: FutureWarning: The frame.append method is deprecated and will be removed from pandas in a future version. Use pandas.concat instead.\n",
      "  resultados_df = resultados_df.append({'product_id': i, 'product_id_tn': serie_test, 'y_hat': yhat[0][1]}, ignore_index=True)\n"
     ]
    },
    {
     "name": "stdout",
     "output_type": "stream",
     "text": [
      "20363\n"
     ]
    },
    {
     "name": "stderr",
     "output_type": "stream",
     "text": [
      "/var/folders/x4/m6ss_3nn1vn52_2htr4xj3800000gp/T/ipykernel_14000/3859271102.py:25: FutureWarning: The frame.append method is deprecated and will be removed from pandas in a future version. Use pandas.concat instead.\n",
      "  resultados_df = resultados_df.append({'product_id': i, 'product_id_tn': serie_test, 'y_hat': yhat[0][1]}, ignore_index=True)\n"
     ]
    },
    {
     "name": "stdout",
     "output_type": "stream",
     "text": [
      "20364\n"
     ]
    },
    {
     "name": "stderr",
     "output_type": "stream",
     "text": [
      "/var/folders/x4/m6ss_3nn1vn52_2htr4xj3800000gp/T/ipykernel_14000/3859271102.py:25: FutureWarning: The frame.append method is deprecated and will be removed from pandas in a future version. Use pandas.concat instead.\n",
      "  resultados_df = resultados_df.append({'product_id': i, 'product_id_tn': serie_test, 'y_hat': yhat[0][1]}, ignore_index=True)\n"
     ]
    },
    {
     "name": "stdout",
     "output_type": "stream",
     "text": [
      "20365\n"
     ]
    },
    {
     "name": "stderr",
     "output_type": "stream",
     "text": [
      "/var/folders/x4/m6ss_3nn1vn52_2htr4xj3800000gp/T/ipykernel_14000/3859271102.py:25: FutureWarning: The frame.append method is deprecated and will be removed from pandas in a future version. Use pandas.concat instead.\n",
      "  resultados_df = resultados_df.append({'product_id': i, 'product_id_tn': serie_test, 'y_hat': yhat[0][1]}, ignore_index=True)\n"
     ]
    },
    {
     "name": "stdout",
     "output_type": "stream",
     "text": [
      "20366\n"
     ]
    },
    {
     "name": "stderr",
     "output_type": "stream",
     "text": [
      "/var/folders/x4/m6ss_3nn1vn52_2htr4xj3800000gp/T/ipykernel_14000/3859271102.py:25: FutureWarning: The frame.append method is deprecated and will be removed from pandas in a future version. Use pandas.concat instead.\n",
      "  resultados_df = resultados_df.append({'product_id': i, 'product_id_tn': serie_test, 'y_hat': yhat[0][1]}, ignore_index=True)\n"
     ]
    },
    {
     "name": "stdout",
     "output_type": "stream",
     "text": [
      "20367\n"
     ]
    },
    {
     "name": "stderr",
     "output_type": "stream",
     "text": [
      "/var/folders/x4/m6ss_3nn1vn52_2htr4xj3800000gp/T/ipykernel_14000/3859271102.py:25: FutureWarning: The frame.append method is deprecated and will be removed from pandas in a future version. Use pandas.concat instead.\n",
      "  resultados_df = resultados_df.append({'product_id': i, 'product_id_tn': serie_test, 'y_hat': yhat[0][1]}, ignore_index=True)\n"
     ]
    },
    {
     "name": "stdout",
     "output_type": "stream",
     "text": [
      "20368\n"
     ]
    },
    {
     "name": "stderr",
     "output_type": "stream",
     "text": [
      "/var/folders/x4/m6ss_3nn1vn52_2htr4xj3800000gp/T/ipykernel_14000/3859271102.py:25: FutureWarning: The frame.append method is deprecated and will be removed from pandas in a future version. Use pandas.concat instead.\n",
      "  resultados_df = resultados_df.append({'product_id': i, 'product_id_tn': serie_test, 'y_hat': yhat[0][1]}, ignore_index=True)\n"
     ]
    },
    {
     "name": "stdout",
     "output_type": "stream",
     "text": [
      "20369\n"
     ]
    },
    {
     "name": "stderr",
     "output_type": "stream",
     "text": [
      "/var/folders/x4/m6ss_3nn1vn52_2htr4xj3800000gp/T/ipykernel_14000/3859271102.py:25: FutureWarning: The frame.append method is deprecated and will be removed from pandas in a future version. Use pandas.concat instead.\n",
      "  resultados_df = resultados_df.append({'product_id': i, 'product_id_tn': serie_test, 'y_hat': yhat[0][1]}, ignore_index=True)\n"
     ]
    },
    {
     "name": "stdout",
     "output_type": "stream",
     "text": [
      "20370\n"
     ]
    },
    {
     "name": "stderr",
     "output_type": "stream",
     "text": [
      "/var/folders/x4/m6ss_3nn1vn52_2htr4xj3800000gp/T/ipykernel_14000/3859271102.py:25: FutureWarning: The frame.append method is deprecated and will be removed from pandas in a future version. Use pandas.concat instead.\n",
      "  resultados_df = resultados_df.append({'product_id': i, 'product_id_tn': serie_test, 'y_hat': yhat[0][1]}, ignore_index=True)\n"
     ]
    },
    {
     "name": "stdout",
     "output_type": "stream",
     "text": [
      "20371\n"
     ]
    },
    {
     "name": "stderr",
     "output_type": "stream",
     "text": [
      "/var/folders/x4/m6ss_3nn1vn52_2htr4xj3800000gp/T/ipykernel_14000/3859271102.py:25: FutureWarning: The frame.append method is deprecated and will be removed from pandas in a future version. Use pandas.concat instead.\n",
      "  resultados_df = resultados_df.append({'product_id': i, 'product_id_tn': serie_test, 'y_hat': yhat[0][1]}, ignore_index=True)\n"
     ]
    },
    {
     "name": "stdout",
     "output_type": "stream",
     "text": [
      "20372\n"
     ]
    },
    {
     "name": "stderr",
     "output_type": "stream",
     "text": [
      "/var/folders/x4/m6ss_3nn1vn52_2htr4xj3800000gp/T/ipykernel_14000/3859271102.py:25: FutureWarning: The frame.append method is deprecated and will be removed from pandas in a future version. Use pandas.concat instead.\n",
      "  resultados_df = resultados_df.append({'product_id': i, 'product_id_tn': serie_test, 'y_hat': yhat[0][1]}, ignore_index=True)\n"
     ]
    },
    {
     "name": "stdout",
     "output_type": "stream",
     "text": [
      "20373\n"
     ]
    },
    {
     "name": "stderr",
     "output_type": "stream",
     "text": [
      "/var/folders/x4/m6ss_3nn1vn52_2htr4xj3800000gp/T/ipykernel_14000/3859271102.py:25: FutureWarning: The frame.append method is deprecated and will be removed from pandas in a future version. Use pandas.concat instead.\n",
      "  resultados_df = resultados_df.append({'product_id': i, 'product_id_tn': serie_test, 'y_hat': yhat[0][1]}, ignore_index=True)\n"
     ]
    },
    {
     "name": "stdout",
     "output_type": "stream",
     "text": [
      "20374\n"
     ]
    },
    {
     "name": "stderr",
     "output_type": "stream",
     "text": [
      "/var/folders/x4/m6ss_3nn1vn52_2htr4xj3800000gp/T/ipykernel_14000/3859271102.py:25: FutureWarning: The frame.append method is deprecated and will be removed from pandas in a future version. Use pandas.concat instead.\n",
      "  resultados_df = resultados_df.append({'product_id': i, 'product_id_tn': serie_test, 'y_hat': yhat[0][1]}, ignore_index=True)\n"
     ]
    },
    {
     "name": "stdout",
     "output_type": "stream",
     "text": [
      "20375\n"
     ]
    },
    {
     "name": "stderr",
     "output_type": "stream",
     "text": [
      "/var/folders/x4/m6ss_3nn1vn52_2htr4xj3800000gp/T/ipykernel_14000/3859271102.py:25: FutureWarning: The frame.append method is deprecated and will be removed from pandas in a future version. Use pandas.concat instead.\n",
      "  resultados_df = resultados_df.append({'product_id': i, 'product_id_tn': serie_test, 'y_hat': yhat[0][1]}, ignore_index=True)\n"
     ]
    },
    {
     "name": "stdout",
     "output_type": "stream",
     "text": [
      "20376\n"
     ]
    },
    {
     "name": "stderr",
     "output_type": "stream",
     "text": [
      "/var/folders/x4/m6ss_3nn1vn52_2htr4xj3800000gp/T/ipykernel_14000/3859271102.py:25: FutureWarning: The frame.append method is deprecated and will be removed from pandas in a future version. Use pandas.concat instead.\n",
      "  resultados_df = resultados_df.append({'product_id': i, 'product_id_tn': serie_test, 'y_hat': yhat[0][1]}, ignore_index=True)\n"
     ]
    },
    {
     "name": "stdout",
     "output_type": "stream",
     "text": [
      "20377\n"
     ]
    },
    {
     "name": "stderr",
     "output_type": "stream",
     "text": [
      "/var/folders/x4/m6ss_3nn1vn52_2htr4xj3800000gp/T/ipykernel_14000/3859271102.py:25: FutureWarning: The frame.append method is deprecated and will be removed from pandas in a future version. Use pandas.concat instead.\n",
      "  resultados_df = resultados_df.append({'product_id': i, 'product_id_tn': serie_test, 'y_hat': yhat[0][1]}, ignore_index=True)\n"
     ]
    },
    {
     "name": "stdout",
     "output_type": "stream",
     "text": [
      "20378\n"
     ]
    },
    {
     "name": "stderr",
     "output_type": "stream",
     "text": [
      "/var/folders/x4/m6ss_3nn1vn52_2htr4xj3800000gp/T/ipykernel_14000/3859271102.py:25: FutureWarning: The frame.append method is deprecated and will be removed from pandas in a future version. Use pandas.concat instead.\n",
      "  resultados_df = resultados_df.append({'product_id': i, 'product_id_tn': serie_test, 'y_hat': yhat[0][1]}, ignore_index=True)\n"
     ]
    },
    {
     "name": "stdout",
     "output_type": "stream",
     "text": [
      "20379\n"
     ]
    },
    {
     "name": "stderr",
     "output_type": "stream",
     "text": [
      "/var/folders/x4/m6ss_3nn1vn52_2htr4xj3800000gp/T/ipykernel_14000/3859271102.py:25: FutureWarning: The frame.append method is deprecated and will be removed from pandas in a future version. Use pandas.concat instead.\n",
      "  resultados_df = resultados_df.append({'product_id': i, 'product_id_tn': serie_test, 'y_hat': yhat[0][1]}, ignore_index=True)\n"
     ]
    },
    {
     "name": "stdout",
     "output_type": "stream",
     "text": [
      "20380\n"
     ]
    },
    {
     "name": "stderr",
     "output_type": "stream",
     "text": [
      "/var/folders/x4/m6ss_3nn1vn52_2htr4xj3800000gp/T/ipykernel_14000/3859271102.py:25: FutureWarning: The frame.append method is deprecated and will be removed from pandas in a future version. Use pandas.concat instead.\n",
      "  resultados_df = resultados_df.append({'product_id': i, 'product_id_tn': serie_test, 'y_hat': yhat[0][1]}, ignore_index=True)\n"
     ]
    },
    {
     "name": "stdout",
     "output_type": "stream",
     "text": [
      "20381\n"
     ]
    },
    {
     "name": "stderr",
     "output_type": "stream",
     "text": [
      "/var/folders/x4/m6ss_3nn1vn52_2htr4xj3800000gp/T/ipykernel_14000/3859271102.py:25: FutureWarning: The frame.append method is deprecated and will be removed from pandas in a future version. Use pandas.concat instead.\n",
      "  resultados_df = resultados_df.append({'product_id': i, 'product_id_tn': serie_test, 'y_hat': yhat[0][1]}, ignore_index=True)\n"
     ]
    },
    {
     "name": "stdout",
     "output_type": "stream",
     "text": [
      "20382\n"
     ]
    },
    {
     "name": "stderr",
     "output_type": "stream",
     "text": [
      "/var/folders/x4/m6ss_3nn1vn52_2htr4xj3800000gp/T/ipykernel_14000/3859271102.py:25: FutureWarning: The frame.append method is deprecated and will be removed from pandas in a future version. Use pandas.concat instead.\n",
      "  resultados_df = resultados_df.append({'product_id': i, 'product_id_tn': serie_test, 'y_hat': yhat[0][1]}, ignore_index=True)\n"
     ]
    },
    {
     "name": "stdout",
     "output_type": "stream",
     "text": [
      "20383\n"
     ]
    },
    {
     "name": "stderr",
     "output_type": "stream",
     "text": [
      "/var/folders/x4/m6ss_3nn1vn52_2htr4xj3800000gp/T/ipykernel_14000/3859271102.py:25: FutureWarning: The frame.append method is deprecated and will be removed from pandas in a future version. Use pandas.concat instead.\n",
      "  resultados_df = resultados_df.append({'product_id': i, 'product_id_tn': serie_test, 'y_hat': yhat[0][1]}, ignore_index=True)\n"
     ]
    },
    {
     "name": "stdout",
     "output_type": "stream",
     "text": [
      "20384\n"
     ]
    },
    {
     "name": "stderr",
     "output_type": "stream",
     "text": [
      "/var/folders/x4/m6ss_3nn1vn52_2htr4xj3800000gp/T/ipykernel_14000/3859271102.py:25: FutureWarning: The frame.append method is deprecated and will be removed from pandas in a future version. Use pandas.concat instead.\n",
      "  resultados_df = resultados_df.append({'product_id': i, 'product_id_tn': serie_test, 'y_hat': yhat[0][1]}, ignore_index=True)\n"
     ]
    },
    {
     "name": "stdout",
     "output_type": "stream",
     "text": [
      "20385\n"
     ]
    },
    {
     "name": "stderr",
     "output_type": "stream",
     "text": [
      "/var/folders/x4/m6ss_3nn1vn52_2htr4xj3800000gp/T/ipykernel_14000/3859271102.py:25: FutureWarning: The frame.append method is deprecated and will be removed from pandas in a future version. Use pandas.concat instead.\n",
      "  resultados_df = resultados_df.append({'product_id': i, 'product_id_tn': serie_test, 'y_hat': yhat[0][1]}, ignore_index=True)\n"
     ]
    },
    {
     "name": "stdout",
     "output_type": "stream",
     "text": [
      "20386\n"
     ]
    },
    {
     "name": "stderr",
     "output_type": "stream",
     "text": [
      "/var/folders/x4/m6ss_3nn1vn52_2htr4xj3800000gp/T/ipykernel_14000/3859271102.py:25: FutureWarning: The frame.append method is deprecated and will be removed from pandas in a future version. Use pandas.concat instead.\n",
      "  resultados_df = resultados_df.append({'product_id': i, 'product_id_tn': serie_test, 'y_hat': yhat[0][1]}, ignore_index=True)\n"
     ]
    },
    {
     "name": "stdout",
     "output_type": "stream",
     "text": [
      "20387\n"
     ]
    },
    {
     "name": "stderr",
     "output_type": "stream",
     "text": [
      "/var/folders/x4/m6ss_3nn1vn52_2htr4xj3800000gp/T/ipykernel_14000/3859271102.py:25: FutureWarning: The frame.append method is deprecated and will be removed from pandas in a future version. Use pandas.concat instead.\n",
      "  resultados_df = resultados_df.append({'product_id': i, 'product_id_tn': serie_test, 'y_hat': yhat[0][1]}, ignore_index=True)\n"
     ]
    },
    {
     "name": "stdout",
     "output_type": "stream",
     "text": [
      "20388\n"
     ]
    },
    {
     "name": "stderr",
     "output_type": "stream",
     "text": [
      "/var/folders/x4/m6ss_3nn1vn52_2htr4xj3800000gp/T/ipykernel_14000/3859271102.py:25: FutureWarning: The frame.append method is deprecated and will be removed from pandas in a future version. Use pandas.concat instead.\n",
      "  resultados_df = resultados_df.append({'product_id': i, 'product_id_tn': serie_test, 'y_hat': yhat[0][1]}, ignore_index=True)\n"
     ]
    },
    {
     "name": "stdout",
     "output_type": "stream",
     "text": [
      "20389\n"
     ]
    },
    {
     "name": "stderr",
     "output_type": "stream",
     "text": [
      "/var/folders/x4/m6ss_3nn1vn52_2htr4xj3800000gp/T/ipykernel_14000/3859271102.py:25: FutureWarning: The frame.append method is deprecated and will be removed from pandas in a future version. Use pandas.concat instead.\n",
      "  resultados_df = resultados_df.append({'product_id': i, 'product_id_tn': serie_test, 'y_hat': yhat[0][1]}, ignore_index=True)\n"
     ]
    },
    {
     "name": "stdout",
     "output_type": "stream",
     "text": [
      "20390\n"
     ]
    },
    {
     "name": "stderr",
     "output_type": "stream",
     "text": [
      "/var/folders/x4/m6ss_3nn1vn52_2htr4xj3800000gp/T/ipykernel_14000/3859271102.py:25: FutureWarning: The frame.append method is deprecated and will be removed from pandas in a future version. Use pandas.concat instead.\n",
      "  resultados_df = resultados_df.append({'product_id': i, 'product_id_tn': serie_test, 'y_hat': yhat[0][1]}, ignore_index=True)\n"
     ]
    },
    {
     "name": "stdout",
     "output_type": "stream",
     "text": [
      "20391\n"
     ]
    },
    {
     "name": "stderr",
     "output_type": "stream",
     "text": [
      "/var/folders/x4/m6ss_3nn1vn52_2htr4xj3800000gp/T/ipykernel_14000/3859271102.py:25: FutureWarning: The frame.append method is deprecated and will be removed from pandas in a future version. Use pandas.concat instead.\n",
      "  resultados_df = resultados_df.append({'product_id': i, 'product_id_tn': serie_test, 'y_hat': yhat[0][1]}, ignore_index=True)\n"
     ]
    },
    {
     "name": "stdout",
     "output_type": "stream",
     "text": [
      "20392\n"
     ]
    },
    {
     "name": "stderr",
     "output_type": "stream",
     "text": [
      "/var/folders/x4/m6ss_3nn1vn52_2htr4xj3800000gp/T/ipykernel_14000/3859271102.py:25: FutureWarning: The frame.append method is deprecated and will be removed from pandas in a future version. Use pandas.concat instead.\n",
      "  resultados_df = resultados_df.append({'product_id': i, 'product_id_tn': serie_test, 'y_hat': yhat[0][1]}, ignore_index=True)\n"
     ]
    },
    {
     "name": "stdout",
     "output_type": "stream",
     "text": [
      "20393\n"
     ]
    },
    {
     "name": "stderr",
     "output_type": "stream",
     "text": [
      "/var/folders/x4/m6ss_3nn1vn52_2htr4xj3800000gp/T/ipykernel_14000/3859271102.py:25: FutureWarning: The frame.append method is deprecated and will be removed from pandas in a future version. Use pandas.concat instead.\n",
      "  resultados_df = resultados_df.append({'product_id': i, 'product_id_tn': serie_test, 'y_hat': yhat[0][1]}, ignore_index=True)\n"
     ]
    },
    {
     "name": "stdout",
     "output_type": "stream",
     "text": [
      "20394\n"
     ]
    },
    {
     "name": "stderr",
     "output_type": "stream",
     "text": [
      "/var/folders/x4/m6ss_3nn1vn52_2htr4xj3800000gp/T/ipykernel_14000/3859271102.py:25: FutureWarning: The frame.append method is deprecated and will be removed from pandas in a future version. Use pandas.concat instead.\n",
      "  resultados_df = resultados_df.append({'product_id': i, 'product_id_tn': serie_test, 'y_hat': yhat[0][1]}, ignore_index=True)\n"
     ]
    },
    {
     "name": "stdout",
     "output_type": "stream",
     "text": [
      "20395\n"
     ]
    },
    {
     "name": "stderr",
     "output_type": "stream",
     "text": [
      "/var/folders/x4/m6ss_3nn1vn52_2htr4xj3800000gp/T/ipykernel_14000/3859271102.py:25: FutureWarning: The frame.append method is deprecated and will be removed from pandas in a future version. Use pandas.concat instead.\n",
      "  resultados_df = resultados_df.append({'product_id': i, 'product_id_tn': serie_test, 'y_hat': yhat[0][1]}, ignore_index=True)\n"
     ]
    },
    {
     "name": "stdout",
     "output_type": "stream",
     "text": [
      "20396\n"
     ]
    },
    {
     "name": "stderr",
     "output_type": "stream",
     "text": [
      "/var/folders/x4/m6ss_3nn1vn52_2htr4xj3800000gp/T/ipykernel_14000/3859271102.py:25: FutureWarning: The frame.append method is deprecated and will be removed from pandas in a future version. Use pandas.concat instead.\n",
      "  resultados_df = resultados_df.append({'product_id': i, 'product_id_tn': serie_test, 'y_hat': yhat[0][1]}, ignore_index=True)\n"
     ]
    },
    {
     "name": "stdout",
     "output_type": "stream",
     "text": [
      "20397\n"
     ]
    },
    {
     "name": "stderr",
     "output_type": "stream",
     "text": [
      "/var/folders/x4/m6ss_3nn1vn52_2htr4xj3800000gp/T/ipykernel_14000/3859271102.py:25: FutureWarning: The frame.append method is deprecated and will be removed from pandas in a future version. Use pandas.concat instead.\n",
      "  resultados_df = resultados_df.append({'product_id': i, 'product_id_tn': serie_test, 'y_hat': yhat[0][1]}, ignore_index=True)\n"
     ]
    },
    {
     "name": "stdout",
     "output_type": "stream",
     "text": [
      "20398\n"
     ]
    },
    {
     "name": "stderr",
     "output_type": "stream",
     "text": [
      "/var/folders/x4/m6ss_3nn1vn52_2htr4xj3800000gp/T/ipykernel_14000/3859271102.py:25: FutureWarning: The frame.append method is deprecated and will be removed from pandas in a future version. Use pandas.concat instead.\n",
      "  resultados_df = resultados_df.append({'product_id': i, 'product_id_tn': serie_test, 'y_hat': yhat[0][1]}, ignore_index=True)\n"
     ]
    },
    {
     "name": "stdout",
     "output_type": "stream",
     "text": [
      "20399\n"
     ]
    },
    {
     "name": "stderr",
     "output_type": "stream",
     "text": [
      "/var/folders/x4/m6ss_3nn1vn52_2htr4xj3800000gp/T/ipykernel_14000/3859271102.py:25: FutureWarning: The frame.append method is deprecated and will be removed from pandas in a future version. Use pandas.concat instead.\n",
      "  resultados_df = resultados_df.append({'product_id': i, 'product_id_tn': serie_test, 'y_hat': yhat[0][1]}, ignore_index=True)\n"
     ]
    },
    {
     "name": "stdout",
     "output_type": "stream",
     "text": [
      "20400\n"
     ]
    },
    {
     "name": "stderr",
     "output_type": "stream",
     "text": [
      "/var/folders/x4/m6ss_3nn1vn52_2htr4xj3800000gp/T/ipykernel_14000/3859271102.py:25: FutureWarning: The frame.append method is deprecated and will be removed from pandas in a future version. Use pandas.concat instead.\n",
      "  resultados_df = resultados_df.append({'product_id': i, 'product_id_tn': serie_test, 'y_hat': yhat[0][1]}, ignore_index=True)\n"
     ]
    },
    {
     "name": "stdout",
     "output_type": "stream",
     "text": [
      "20401\n"
     ]
    },
    {
     "name": "stderr",
     "output_type": "stream",
     "text": [
      "/var/folders/x4/m6ss_3nn1vn52_2htr4xj3800000gp/T/ipykernel_14000/3859271102.py:25: FutureWarning: The frame.append method is deprecated and will be removed from pandas in a future version. Use pandas.concat instead.\n",
      "  resultados_df = resultados_df.append({'product_id': i, 'product_id_tn': serie_test, 'y_hat': yhat[0][1]}, ignore_index=True)\n"
     ]
    },
    {
     "name": "stdout",
     "output_type": "stream",
     "text": [
      "20402\n"
     ]
    },
    {
     "name": "stderr",
     "output_type": "stream",
     "text": [
      "/var/folders/x4/m6ss_3nn1vn52_2htr4xj3800000gp/T/ipykernel_14000/3859271102.py:25: FutureWarning: The frame.append method is deprecated and will be removed from pandas in a future version. Use pandas.concat instead.\n",
      "  resultados_df = resultados_df.append({'product_id': i, 'product_id_tn': serie_test, 'y_hat': yhat[0][1]}, ignore_index=True)\n"
     ]
    },
    {
     "name": "stdout",
     "output_type": "stream",
     "text": [
      "20403\n"
     ]
    },
    {
     "name": "stderr",
     "output_type": "stream",
     "text": [
      "/var/folders/x4/m6ss_3nn1vn52_2htr4xj3800000gp/T/ipykernel_14000/3859271102.py:25: FutureWarning: The frame.append method is deprecated and will be removed from pandas in a future version. Use pandas.concat instead.\n",
      "  resultados_df = resultados_df.append({'product_id': i, 'product_id_tn': serie_test, 'y_hat': yhat[0][1]}, ignore_index=True)\n"
     ]
    },
    {
     "name": "stdout",
     "output_type": "stream",
     "text": [
      "20404\n"
     ]
    },
    {
     "name": "stderr",
     "output_type": "stream",
     "text": [
      "/var/folders/x4/m6ss_3nn1vn52_2htr4xj3800000gp/T/ipykernel_14000/3859271102.py:25: FutureWarning: The frame.append method is deprecated and will be removed from pandas in a future version. Use pandas.concat instead.\n",
      "  resultados_df = resultados_df.append({'product_id': i, 'product_id_tn': serie_test, 'y_hat': yhat[0][1]}, ignore_index=True)\n"
     ]
    },
    {
     "name": "stdout",
     "output_type": "stream",
     "text": [
      "20405\n"
     ]
    },
    {
     "name": "stderr",
     "output_type": "stream",
     "text": [
      "/var/folders/x4/m6ss_3nn1vn52_2htr4xj3800000gp/T/ipykernel_14000/3859271102.py:25: FutureWarning: The frame.append method is deprecated and will be removed from pandas in a future version. Use pandas.concat instead.\n",
      "  resultados_df = resultados_df.append({'product_id': i, 'product_id_tn': serie_test, 'y_hat': yhat[0][1]}, ignore_index=True)\n"
     ]
    },
    {
     "name": "stdout",
     "output_type": "stream",
     "text": [
      "20406\n"
     ]
    },
    {
     "name": "stderr",
     "output_type": "stream",
     "text": [
      "/var/folders/x4/m6ss_3nn1vn52_2htr4xj3800000gp/T/ipykernel_14000/3859271102.py:25: FutureWarning: The frame.append method is deprecated and will be removed from pandas in a future version. Use pandas.concat instead.\n",
      "  resultados_df = resultados_df.append({'product_id': i, 'product_id_tn': serie_test, 'y_hat': yhat[0][1]}, ignore_index=True)\n"
     ]
    },
    {
     "name": "stdout",
     "output_type": "stream",
     "text": [
      "20407\n"
     ]
    },
    {
     "name": "stderr",
     "output_type": "stream",
     "text": [
      "/var/folders/x4/m6ss_3nn1vn52_2htr4xj3800000gp/T/ipykernel_14000/3859271102.py:25: FutureWarning: The frame.append method is deprecated and will be removed from pandas in a future version. Use pandas.concat instead.\n",
      "  resultados_df = resultados_df.append({'product_id': i, 'product_id_tn': serie_test, 'y_hat': yhat[0][1]}, ignore_index=True)\n"
     ]
    },
    {
     "name": "stdout",
     "output_type": "stream",
     "text": [
      "20409\n"
     ]
    },
    {
     "name": "stderr",
     "output_type": "stream",
     "text": [
      "/var/folders/x4/m6ss_3nn1vn52_2htr4xj3800000gp/T/ipykernel_14000/3859271102.py:25: FutureWarning: The frame.append method is deprecated and will be removed from pandas in a future version. Use pandas.concat instead.\n",
      "  resultados_df = resultados_df.append({'product_id': i, 'product_id_tn': serie_test, 'y_hat': yhat[0][1]}, ignore_index=True)\n"
     ]
    },
    {
     "name": "stdout",
     "output_type": "stream",
     "text": [
      "20410\n"
     ]
    },
    {
     "name": "stderr",
     "output_type": "stream",
     "text": [
      "/var/folders/x4/m6ss_3nn1vn52_2htr4xj3800000gp/T/ipykernel_14000/3859271102.py:25: FutureWarning: The frame.append method is deprecated and will be removed from pandas in a future version. Use pandas.concat instead.\n",
      "  resultados_df = resultados_df.append({'product_id': i, 'product_id_tn': serie_test, 'y_hat': yhat[0][1]}, ignore_index=True)\n"
     ]
    },
    {
     "name": "stdout",
     "output_type": "stream",
     "text": [
      "20411\n"
     ]
    },
    {
     "name": "stderr",
     "output_type": "stream",
     "text": [
      "/var/folders/x4/m6ss_3nn1vn52_2htr4xj3800000gp/T/ipykernel_14000/3859271102.py:25: FutureWarning: The frame.append method is deprecated and will be removed from pandas in a future version. Use pandas.concat instead.\n",
      "  resultados_df = resultados_df.append({'product_id': i, 'product_id_tn': serie_test, 'y_hat': yhat[0][1]}, ignore_index=True)\n"
     ]
    },
    {
     "name": "stdout",
     "output_type": "stream",
     "text": [
      "20412\n"
     ]
    },
    {
     "name": "stderr",
     "output_type": "stream",
     "text": [
      "/var/folders/x4/m6ss_3nn1vn52_2htr4xj3800000gp/T/ipykernel_14000/3859271102.py:25: FutureWarning: The frame.append method is deprecated and will be removed from pandas in a future version. Use pandas.concat instead.\n",
      "  resultados_df = resultados_df.append({'product_id': i, 'product_id_tn': serie_test, 'y_hat': yhat[0][1]}, ignore_index=True)\n"
     ]
    },
    {
     "name": "stdout",
     "output_type": "stream",
     "text": [
      "20413\n"
     ]
    },
    {
     "name": "stderr",
     "output_type": "stream",
     "text": [
      "/var/folders/x4/m6ss_3nn1vn52_2htr4xj3800000gp/T/ipykernel_14000/3859271102.py:25: FutureWarning: The frame.append method is deprecated and will be removed from pandas in a future version. Use pandas.concat instead.\n",
      "  resultados_df = resultados_df.append({'product_id': i, 'product_id_tn': serie_test, 'y_hat': yhat[0][1]}, ignore_index=True)\n"
     ]
    },
    {
     "name": "stdout",
     "output_type": "stream",
     "text": [
      "20415\n"
     ]
    },
    {
     "name": "stderr",
     "output_type": "stream",
     "text": [
      "/var/folders/x4/m6ss_3nn1vn52_2htr4xj3800000gp/T/ipykernel_14000/3859271102.py:25: FutureWarning: The frame.append method is deprecated and will be removed from pandas in a future version. Use pandas.concat instead.\n",
      "  resultados_df = resultados_df.append({'product_id': i, 'product_id_tn': serie_test, 'y_hat': yhat[0][1]}, ignore_index=True)\n"
     ]
    },
    {
     "name": "stdout",
     "output_type": "stream",
     "text": [
      "20416\n"
     ]
    },
    {
     "name": "stderr",
     "output_type": "stream",
     "text": [
      "/var/folders/x4/m6ss_3nn1vn52_2htr4xj3800000gp/T/ipykernel_14000/3859271102.py:25: FutureWarning: The frame.append method is deprecated and will be removed from pandas in a future version. Use pandas.concat instead.\n",
      "  resultados_df = resultados_df.append({'product_id': i, 'product_id_tn': serie_test, 'y_hat': yhat[0][1]}, ignore_index=True)\n"
     ]
    },
    {
     "name": "stdout",
     "output_type": "stream",
     "text": [
      "20417\n"
     ]
    },
    {
     "name": "stderr",
     "output_type": "stream",
     "text": [
      "/var/folders/x4/m6ss_3nn1vn52_2htr4xj3800000gp/T/ipykernel_14000/3859271102.py:25: FutureWarning: The frame.append method is deprecated and will be removed from pandas in a future version. Use pandas.concat instead.\n",
      "  resultados_df = resultados_df.append({'product_id': i, 'product_id_tn': serie_test, 'y_hat': yhat[0][1]}, ignore_index=True)\n"
     ]
    },
    {
     "name": "stdout",
     "output_type": "stream",
     "text": [
      "20418\n"
     ]
    },
    {
     "name": "stderr",
     "output_type": "stream",
     "text": [
      "/var/folders/x4/m6ss_3nn1vn52_2htr4xj3800000gp/T/ipykernel_14000/3859271102.py:25: FutureWarning: The frame.append method is deprecated and will be removed from pandas in a future version. Use pandas.concat instead.\n",
      "  resultados_df = resultados_df.append({'product_id': i, 'product_id_tn': serie_test, 'y_hat': yhat[0][1]}, ignore_index=True)\n"
     ]
    },
    {
     "name": "stdout",
     "output_type": "stream",
     "text": [
      "20419\n"
     ]
    },
    {
     "name": "stderr",
     "output_type": "stream",
     "text": [
      "/var/folders/x4/m6ss_3nn1vn52_2htr4xj3800000gp/T/ipykernel_14000/3859271102.py:25: FutureWarning: The frame.append method is deprecated and will be removed from pandas in a future version. Use pandas.concat instead.\n",
      "  resultados_df = resultados_df.append({'product_id': i, 'product_id_tn': serie_test, 'y_hat': yhat[0][1]}, ignore_index=True)\n"
     ]
    },
    {
     "name": "stdout",
     "output_type": "stream",
     "text": [
      "20420\n"
     ]
    },
    {
     "name": "stderr",
     "output_type": "stream",
     "text": [
      "/var/folders/x4/m6ss_3nn1vn52_2htr4xj3800000gp/T/ipykernel_14000/3859271102.py:25: FutureWarning: The frame.append method is deprecated and will be removed from pandas in a future version. Use pandas.concat instead.\n",
      "  resultados_df = resultados_df.append({'product_id': i, 'product_id_tn': serie_test, 'y_hat': yhat[0][1]}, ignore_index=True)\n"
     ]
    },
    {
     "name": "stdout",
     "output_type": "stream",
     "text": [
      "20421\n"
     ]
    },
    {
     "name": "stderr",
     "output_type": "stream",
     "text": [
      "/var/folders/x4/m6ss_3nn1vn52_2htr4xj3800000gp/T/ipykernel_14000/3859271102.py:25: FutureWarning: The frame.append method is deprecated and will be removed from pandas in a future version. Use pandas.concat instead.\n",
      "  resultados_df = resultados_df.append({'product_id': i, 'product_id_tn': serie_test, 'y_hat': yhat[0][1]}, ignore_index=True)\n"
     ]
    },
    {
     "name": "stdout",
     "output_type": "stream",
     "text": [
      "20422\n"
     ]
    },
    {
     "name": "stderr",
     "output_type": "stream",
     "text": [
      "/var/folders/x4/m6ss_3nn1vn52_2htr4xj3800000gp/T/ipykernel_14000/3859271102.py:25: FutureWarning: The frame.append method is deprecated and will be removed from pandas in a future version. Use pandas.concat instead.\n",
      "  resultados_df = resultados_df.append({'product_id': i, 'product_id_tn': serie_test, 'y_hat': yhat[0][1]}, ignore_index=True)\n"
     ]
    },
    {
     "name": "stdout",
     "output_type": "stream",
     "text": [
      "20423\n"
     ]
    },
    {
     "name": "stderr",
     "output_type": "stream",
     "text": [
      "/var/folders/x4/m6ss_3nn1vn52_2htr4xj3800000gp/T/ipykernel_14000/3859271102.py:25: FutureWarning: The frame.append method is deprecated and will be removed from pandas in a future version. Use pandas.concat instead.\n",
      "  resultados_df = resultados_df.append({'product_id': i, 'product_id_tn': serie_test, 'y_hat': yhat[0][1]}, ignore_index=True)\n"
     ]
    },
    {
     "name": "stdout",
     "output_type": "stream",
     "text": [
      "20424\n"
     ]
    },
    {
     "name": "stderr",
     "output_type": "stream",
     "text": [
      "/var/folders/x4/m6ss_3nn1vn52_2htr4xj3800000gp/T/ipykernel_14000/3859271102.py:25: FutureWarning: The frame.append method is deprecated and will be removed from pandas in a future version. Use pandas.concat instead.\n",
      "  resultados_df = resultados_df.append({'product_id': i, 'product_id_tn': serie_test, 'y_hat': yhat[0][1]}, ignore_index=True)\n"
     ]
    },
    {
     "name": "stdout",
     "output_type": "stream",
     "text": [
      "20425\n"
     ]
    },
    {
     "name": "stderr",
     "output_type": "stream",
     "text": [
      "/var/folders/x4/m6ss_3nn1vn52_2htr4xj3800000gp/T/ipykernel_14000/3859271102.py:25: FutureWarning: The frame.append method is deprecated and will be removed from pandas in a future version. Use pandas.concat instead.\n",
      "  resultados_df = resultados_df.append({'product_id': i, 'product_id_tn': serie_test, 'y_hat': yhat[0][1]}, ignore_index=True)\n"
     ]
    },
    {
     "name": "stdout",
     "output_type": "stream",
     "text": [
      "20426\n"
     ]
    },
    {
     "name": "stderr",
     "output_type": "stream",
     "text": [
      "/var/folders/x4/m6ss_3nn1vn52_2htr4xj3800000gp/T/ipykernel_14000/3859271102.py:25: FutureWarning: The frame.append method is deprecated and will be removed from pandas in a future version. Use pandas.concat instead.\n",
      "  resultados_df = resultados_df.append({'product_id': i, 'product_id_tn': serie_test, 'y_hat': yhat[0][1]}, ignore_index=True)\n"
     ]
    },
    {
     "name": "stdout",
     "output_type": "stream",
     "text": [
      "20427\n"
     ]
    },
    {
     "name": "stderr",
     "output_type": "stream",
     "text": [
      "/var/folders/x4/m6ss_3nn1vn52_2htr4xj3800000gp/T/ipykernel_14000/3859271102.py:25: FutureWarning: The frame.append method is deprecated and will be removed from pandas in a future version. Use pandas.concat instead.\n",
      "  resultados_df = resultados_df.append({'product_id': i, 'product_id_tn': serie_test, 'y_hat': yhat[0][1]}, ignore_index=True)\n"
     ]
    },
    {
     "name": "stdout",
     "output_type": "stream",
     "text": [
      "20428\n"
     ]
    },
    {
     "name": "stderr",
     "output_type": "stream",
     "text": [
      "/var/folders/x4/m6ss_3nn1vn52_2htr4xj3800000gp/T/ipykernel_14000/3859271102.py:25: FutureWarning: The frame.append method is deprecated and will be removed from pandas in a future version. Use pandas.concat instead.\n",
      "  resultados_df = resultados_df.append({'product_id': i, 'product_id_tn': serie_test, 'y_hat': yhat[0][1]}, ignore_index=True)\n"
     ]
    },
    {
     "name": "stdout",
     "output_type": "stream",
     "text": [
      "20429\n"
     ]
    },
    {
     "name": "stderr",
     "output_type": "stream",
     "text": [
      "/var/folders/x4/m6ss_3nn1vn52_2htr4xj3800000gp/T/ipykernel_14000/3859271102.py:25: FutureWarning: The frame.append method is deprecated and will be removed from pandas in a future version. Use pandas.concat instead.\n",
      "  resultados_df = resultados_df.append({'product_id': i, 'product_id_tn': serie_test, 'y_hat': yhat[0][1]}, ignore_index=True)\n"
     ]
    },
    {
     "name": "stdout",
     "output_type": "stream",
     "text": [
      "20430\n"
     ]
    },
    {
     "name": "stderr",
     "output_type": "stream",
     "text": [
      "/var/folders/x4/m6ss_3nn1vn52_2htr4xj3800000gp/T/ipykernel_14000/3859271102.py:25: FutureWarning: The frame.append method is deprecated and will be removed from pandas in a future version. Use pandas.concat instead.\n",
      "  resultados_df = resultados_df.append({'product_id': i, 'product_id_tn': serie_test, 'y_hat': yhat[0][1]}, ignore_index=True)\n"
     ]
    },
    {
     "name": "stdout",
     "output_type": "stream",
     "text": [
      "20431\n"
     ]
    },
    {
     "name": "stderr",
     "output_type": "stream",
     "text": [
      "/var/folders/x4/m6ss_3nn1vn52_2htr4xj3800000gp/T/ipykernel_14000/3859271102.py:25: FutureWarning: The frame.append method is deprecated and will be removed from pandas in a future version. Use pandas.concat instead.\n",
      "  resultados_df = resultados_df.append({'product_id': i, 'product_id_tn': serie_test, 'y_hat': yhat[0][1]}, ignore_index=True)\n"
     ]
    },
    {
     "name": "stdout",
     "output_type": "stream",
     "text": [
      "20432\n"
     ]
    },
    {
     "name": "stderr",
     "output_type": "stream",
     "text": [
      "/var/folders/x4/m6ss_3nn1vn52_2htr4xj3800000gp/T/ipykernel_14000/3859271102.py:25: FutureWarning: The frame.append method is deprecated and will be removed from pandas in a future version. Use pandas.concat instead.\n",
      "  resultados_df = resultados_df.append({'product_id': i, 'product_id_tn': serie_test, 'y_hat': yhat[0][1]}, ignore_index=True)\n"
     ]
    },
    {
     "name": "stdout",
     "output_type": "stream",
     "text": [
      "20433\n"
     ]
    },
    {
     "name": "stderr",
     "output_type": "stream",
     "text": [
      "/var/folders/x4/m6ss_3nn1vn52_2htr4xj3800000gp/T/ipykernel_14000/3859271102.py:25: FutureWarning: The frame.append method is deprecated and will be removed from pandas in a future version. Use pandas.concat instead.\n",
      "  resultados_df = resultados_df.append({'product_id': i, 'product_id_tn': serie_test, 'y_hat': yhat[0][1]}, ignore_index=True)\n"
     ]
    },
    {
     "name": "stdout",
     "output_type": "stream",
     "text": [
      "20434\n"
     ]
    },
    {
     "name": "stderr",
     "output_type": "stream",
     "text": [
      "/var/folders/x4/m6ss_3nn1vn52_2htr4xj3800000gp/T/ipykernel_14000/3859271102.py:25: FutureWarning: The frame.append method is deprecated and will be removed from pandas in a future version. Use pandas.concat instead.\n",
      "  resultados_df = resultados_df.append({'product_id': i, 'product_id_tn': serie_test, 'y_hat': yhat[0][1]}, ignore_index=True)\n"
     ]
    },
    {
     "name": "stdout",
     "output_type": "stream",
     "text": [
      "20435\n"
     ]
    },
    {
     "name": "stderr",
     "output_type": "stream",
     "text": [
      "/var/folders/x4/m6ss_3nn1vn52_2htr4xj3800000gp/T/ipykernel_14000/3859271102.py:25: FutureWarning: The frame.append method is deprecated and will be removed from pandas in a future version. Use pandas.concat instead.\n",
      "  resultados_df = resultados_df.append({'product_id': i, 'product_id_tn': serie_test, 'y_hat': yhat[0][1]}, ignore_index=True)\n"
     ]
    },
    {
     "name": "stdout",
     "output_type": "stream",
     "text": [
      "20438\n"
     ]
    },
    {
     "name": "stderr",
     "output_type": "stream",
     "text": [
      "/var/folders/x4/m6ss_3nn1vn52_2htr4xj3800000gp/T/ipykernel_14000/3859271102.py:25: FutureWarning: The frame.append method is deprecated and will be removed from pandas in a future version. Use pandas.concat instead.\n",
      "  resultados_df = resultados_df.append({'product_id': i, 'product_id_tn': serie_test, 'y_hat': yhat[0][1]}, ignore_index=True)\n"
     ]
    },
    {
     "name": "stdout",
     "output_type": "stream",
     "text": [
      "20439\n"
     ]
    },
    {
     "name": "stderr",
     "output_type": "stream",
     "text": [
      "/var/folders/x4/m6ss_3nn1vn52_2htr4xj3800000gp/T/ipykernel_14000/3859271102.py:25: FutureWarning: The frame.append method is deprecated and will be removed from pandas in a future version. Use pandas.concat instead.\n",
      "  resultados_df = resultados_df.append({'product_id': i, 'product_id_tn': serie_test, 'y_hat': yhat[0][1]}, ignore_index=True)\n"
     ]
    },
    {
     "name": "stdout",
     "output_type": "stream",
     "text": [
      "20441\n"
     ]
    },
    {
     "name": "stderr",
     "output_type": "stream",
     "text": [
      "/var/folders/x4/m6ss_3nn1vn52_2htr4xj3800000gp/T/ipykernel_14000/3859271102.py:25: FutureWarning: The frame.append method is deprecated and will be removed from pandas in a future version. Use pandas.concat instead.\n",
      "  resultados_df = resultados_df.append({'product_id': i, 'product_id_tn': serie_test, 'y_hat': yhat[0][1]}, ignore_index=True)\n"
     ]
    },
    {
     "name": "stdout",
     "output_type": "stream",
     "text": [
      "20443\n"
     ]
    },
    {
     "name": "stderr",
     "output_type": "stream",
     "text": [
      "/var/folders/x4/m6ss_3nn1vn52_2htr4xj3800000gp/T/ipykernel_14000/3859271102.py:25: FutureWarning: The frame.append method is deprecated and will be removed from pandas in a future version. Use pandas.concat instead.\n",
      "  resultados_df = resultados_df.append({'product_id': i, 'product_id_tn': serie_test, 'y_hat': yhat[0][1]}, ignore_index=True)\n"
     ]
    },
    {
     "name": "stdout",
     "output_type": "stream",
     "text": [
      "20444\n"
     ]
    },
    {
     "name": "stderr",
     "output_type": "stream",
     "text": [
      "/var/folders/x4/m6ss_3nn1vn52_2htr4xj3800000gp/T/ipykernel_14000/3859271102.py:25: FutureWarning: The frame.append method is deprecated and will be removed from pandas in a future version. Use pandas.concat instead.\n",
      "  resultados_df = resultados_df.append({'product_id': i, 'product_id_tn': serie_test, 'y_hat': yhat[0][1]}, ignore_index=True)\n"
     ]
    },
    {
     "name": "stdout",
     "output_type": "stream",
     "text": [
      "20445\n"
     ]
    },
    {
     "name": "stderr",
     "output_type": "stream",
     "text": [
      "/var/folders/x4/m6ss_3nn1vn52_2htr4xj3800000gp/T/ipykernel_14000/3859271102.py:25: FutureWarning: The frame.append method is deprecated and will be removed from pandas in a future version. Use pandas.concat instead.\n",
      "  resultados_df = resultados_df.append({'product_id': i, 'product_id_tn': serie_test, 'y_hat': yhat[0][1]}, ignore_index=True)\n"
     ]
    },
    {
     "name": "stdout",
     "output_type": "stream",
     "text": [
      "20446\n"
     ]
    },
    {
     "name": "stderr",
     "output_type": "stream",
     "text": [
      "/var/folders/x4/m6ss_3nn1vn52_2htr4xj3800000gp/T/ipykernel_14000/3859271102.py:25: FutureWarning: The frame.append method is deprecated and will be removed from pandas in a future version. Use pandas.concat instead.\n",
      "  resultados_df = resultados_df.append({'product_id': i, 'product_id_tn': serie_test, 'y_hat': yhat[0][1]}, ignore_index=True)\n"
     ]
    },
    {
     "name": "stdout",
     "output_type": "stream",
     "text": [
      "20447\n"
     ]
    },
    {
     "name": "stderr",
     "output_type": "stream",
     "text": [
      "/var/folders/x4/m6ss_3nn1vn52_2htr4xj3800000gp/T/ipykernel_14000/3859271102.py:25: FutureWarning: The frame.append method is deprecated and will be removed from pandas in a future version. Use pandas.concat instead.\n",
      "  resultados_df = resultados_df.append({'product_id': i, 'product_id_tn': serie_test, 'y_hat': yhat[0][1]}, ignore_index=True)\n"
     ]
    },
    {
     "name": "stdout",
     "output_type": "stream",
     "text": [
      "20448\n"
     ]
    },
    {
     "name": "stderr",
     "output_type": "stream",
     "text": [
      "/var/folders/x4/m6ss_3nn1vn52_2htr4xj3800000gp/T/ipykernel_14000/3859271102.py:25: FutureWarning: The frame.append method is deprecated and will be removed from pandas in a future version. Use pandas.concat instead.\n",
      "  resultados_df = resultados_df.append({'product_id': i, 'product_id_tn': serie_test, 'y_hat': yhat[0][1]}, ignore_index=True)\n"
     ]
    },
    {
     "name": "stdout",
     "output_type": "stream",
     "text": [
      "20449\n"
     ]
    },
    {
     "name": "stderr",
     "output_type": "stream",
     "text": [
      "/var/folders/x4/m6ss_3nn1vn52_2htr4xj3800000gp/T/ipykernel_14000/3859271102.py:25: FutureWarning: The frame.append method is deprecated and will be removed from pandas in a future version. Use pandas.concat instead.\n",
      "  resultados_df = resultados_df.append({'product_id': i, 'product_id_tn': serie_test, 'y_hat': yhat[0][1]}, ignore_index=True)\n"
     ]
    },
    {
     "name": "stdout",
     "output_type": "stream",
     "text": [
      "20450\n"
     ]
    },
    {
     "name": "stderr",
     "output_type": "stream",
     "text": [
      "/var/folders/x4/m6ss_3nn1vn52_2htr4xj3800000gp/T/ipykernel_14000/3859271102.py:25: FutureWarning: The frame.append method is deprecated and will be removed from pandas in a future version. Use pandas.concat instead.\n",
      "  resultados_df = resultados_df.append({'product_id': i, 'product_id_tn': serie_test, 'y_hat': yhat[0][1]}, ignore_index=True)\n"
     ]
    },
    {
     "name": "stdout",
     "output_type": "stream",
     "text": [
      "20451\n"
     ]
    },
    {
     "name": "stderr",
     "output_type": "stream",
     "text": [
      "/var/folders/x4/m6ss_3nn1vn52_2htr4xj3800000gp/T/ipykernel_14000/3859271102.py:25: FutureWarning: The frame.append method is deprecated and will be removed from pandas in a future version. Use pandas.concat instead.\n",
      "  resultados_df = resultados_df.append({'product_id': i, 'product_id_tn': serie_test, 'y_hat': yhat[0][1]}, ignore_index=True)\n"
     ]
    },
    {
     "name": "stdout",
     "output_type": "stream",
     "text": [
      "20452\n"
     ]
    },
    {
     "name": "stderr",
     "output_type": "stream",
     "text": [
      "/var/folders/x4/m6ss_3nn1vn52_2htr4xj3800000gp/T/ipykernel_14000/3859271102.py:25: FutureWarning: The frame.append method is deprecated and will be removed from pandas in a future version. Use pandas.concat instead.\n",
      "  resultados_df = resultados_df.append({'product_id': i, 'product_id_tn': serie_test, 'y_hat': yhat[0][1]}, ignore_index=True)\n"
     ]
    },
    {
     "name": "stdout",
     "output_type": "stream",
     "text": [
      "20453\n"
     ]
    },
    {
     "name": "stderr",
     "output_type": "stream",
     "text": [
      "/var/folders/x4/m6ss_3nn1vn52_2htr4xj3800000gp/T/ipykernel_14000/3859271102.py:25: FutureWarning: The frame.append method is deprecated and will be removed from pandas in a future version. Use pandas.concat instead.\n",
      "  resultados_df = resultados_df.append({'product_id': i, 'product_id_tn': serie_test, 'y_hat': yhat[0][1]}, ignore_index=True)\n"
     ]
    },
    {
     "name": "stdout",
     "output_type": "stream",
     "text": [
      "20454\n"
     ]
    },
    {
     "name": "stderr",
     "output_type": "stream",
     "text": [
      "/var/folders/x4/m6ss_3nn1vn52_2htr4xj3800000gp/T/ipykernel_14000/3859271102.py:25: FutureWarning: The frame.append method is deprecated and will be removed from pandas in a future version. Use pandas.concat instead.\n",
      "  resultados_df = resultados_df.append({'product_id': i, 'product_id_tn': serie_test, 'y_hat': yhat[0][1]}, ignore_index=True)\n"
     ]
    },
    {
     "name": "stdout",
     "output_type": "stream",
     "text": [
      "20455\n"
     ]
    },
    {
     "name": "stderr",
     "output_type": "stream",
     "text": [
      "/var/folders/x4/m6ss_3nn1vn52_2htr4xj3800000gp/T/ipykernel_14000/3859271102.py:25: FutureWarning: The frame.append method is deprecated and will be removed from pandas in a future version. Use pandas.concat instead.\n",
      "  resultados_df = resultados_df.append({'product_id': i, 'product_id_tn': serie_test, 'y_hat': yhat[0][1]}, ignore_index=True)\n"
     ]
    },
    {
     "name": "stdout",
     "output_type": "stream",
     "text": [
      "20456\n"
     ]
    },
    {
     "name": "stderr",
     "output_type": "stream",
     "text": [
      "/var/folders/x4/m6ss_3nn1vn52_2htr4xj3800000gp/T/ipykernel_14000/3859271102.py:25: FutureWarning: The frame.append method is deprecated and will be removed from pandas in a future version. Use pandas.concat instead.\n",
      "  resultados_df = resultados_df.append({'product_id': i, 'product_id_tn': serie_test, 'y_hat': yhat[0][1]}, ignore_index=True)\n"
     ]
    },
    {
     "name": "stdout",
     "output_type": "stream",
     "text": [
      "20457\n"
     ]
    },
    {
     "name": "stderr",
     "output_type": "stream",
     "text": [
      "/var/folders/x4/m6ss_3nn1vn52_2htr4xj3800000gp/T/ipykernel_14000/3859271102.py:25: FutureWarning: The frame.append method is deprecated and will be removed from pandas in a future version. Use pandas.concat instead.\n",
      "  resultados_df = resultados_df.append({'product_id': i, 'product_id_tn': serie_test, 'y_hat': yhat[0][1]}, ignore_index=True)\n"
     ]
    },
    {
     "name": "stdout",
     "output_type": "stream",
     "text": [
      "20459\n"
     ]
    },
    {
     "name": "stderr",
     "output_type": "stream",
     "text": [
      "/var/folders/x4/m6ss_3nn1vn52_2htr4xj3800000gp/T/ipykernel_14000/3859271102.py:25: FutureWarning: The frame.append method is deprecated and will be removed from pandas in a future version. Use pandas.concat instead.\n",
      "  resultados_df = resultados_df.append({'product_id': i, 'product_id_tn': serie_test, 'y_hat': yhat[0][1]}, ignore_index=True)\n"
     ]
    },
    {
     "name": "stdout",
     "output_type": "stream",
     "text": [
      "20461\n"
     ]
    },
    {
     "name": "stderr",
     "output_type": "stream",
     "text": [
      "/var/folders/x4/m6ss_3nn1vn52_2htr4xj3800000gp/T/ipykernel_14000/3859271102.py:25: FutureWarning: The frame.append method is deprecated and will be removed from pandas in a future version. Use pandas.concat instead.\n",
      "  resultados_df = resultados_df.append({'product_id': i, 'product_id_tn': serie_test, 'y_hat': yhat[0][1]}, ignore_index=True)\n"
     ]
    },
    {
     "name": "stdout",
     "output_type": "stream",
     "text": [
      "20462\n"
     ]
    },
    {
     "name": "stderr",
     "output_type": "stream",
     "text": [
      "/var/folders/x4/m6ss_3nn1vn52_2htr4xj3800000gp/T/ipykernel_14000/3859271102.py:25: FutureWarning: The frame.append method is deprecated and will be removed from pandas in a future version. Use pandas.concat instead.\n",
      "  resultados_df = resultados_df.append({'product_id': i, 'product_id_tn': serie_test, 'y_hat': yhat[0][1]}, ignore_index=True)\n"
     ]
    },
    {
     "name": "stdout",
     "output_type": "stream",
     "text": [
      "20463\n"
     ]
    },
    {
     "name": "stderr",
     "output_type": "stream",
     "text": [
      "/var/folders/x4/m6ss_3nn1vn52_2htr4xj3800000gp/T/ipykernel_14000/3859271102.py:25: FutureWarning: The frame.append method is deprecated and will be removed from pandas in a future version. Use pandas.concat instead.\n",
      "  resultados_df = resultados_df.append({'product_id': i, 'product_id_tn': serie_test, 'y_hat': yhat[0][1]}, ignore_index=True)\n"
     ]
    },
    {
     "name": "stdout",
     "output_type": "stream",
     "text": [
      "20464\n"
     ]
    },
    {
     "name": "stderr",
     "output_type": "stream",
     "text": [
      "/var/folders/x4/m6ss_3nn1vn52_2htr4xj3800000gp/T/ipykernel_14000/3859271102.py:25: FutureWarning: The frame.append method is deprecated and will be removed from pandas in a future version. Use pandas.concat instead.\n",
      "  resultados_df = resultados_df.append({'product_id': i, 'product_id_tn': serie_test, 'y_hat': yhat[0][1]}, ignore_index=True)\n"
     ]
    },
    {
     "name": "stdout",
     "output_type": "stream",
     "text": [
      "20465\n"
     ]
    },
    {
     "name": "stderr",
     "output_type": "stream",
     "text": [
      "/var/folders/x4/m6ss_3nn1vn52_2htr4xj3800000gp/T/ipykernel_14000/3859271102.py:25: FutureWarning: The frame.append method is deprecated and will be removed from pandas in a future version. Use pandas.concat instead.\n",
      "  resultados_df = resultados_df.append({'product_id': i, 'product_id_tn': serie_test, 'y_hat': yhat[0][1]}, ignore_index=True)\n"
     ]
    },
    {
     "name": "stdout",
     "output_type": "stream",
     "text": [
      "20466\n"
     ]
    },
    {
     "name": "stderr",
     "output_type": "stream",
     "text": [
      "/var/folders/x4/m6ss_3nn1vn52_2htr4xj3800000gp/T/ipykernel_14000/3859271102.py:25: FutureWarning: The frame.append method is deprecated and will be removed from pandas in a future version. Use pandas.concat instead.\n",
      "  resultados_df = resultados_df.append({'product_id': i, 'product_id_tn': serie_test, 'y_hat': yhat[0][1]}, ignore_index=True)\n"
     ]
    },
    {
     "name": "stdout",
     "output_type": "stream",
     "text": [
      "20467\n"
     ]
    },
    {
     "name": "stderr",
     "output_type": "stream",
     "text": [
      "/var/folders/x4/m6ss_3nn1vn52_2htr4xj3800000gp/T/ipykernel_14000/3859271102.py:25: FutureWarning: The frame.append method is deprecated and will be removed from pandas in a future version. Use pandas.concat instead.\n",
      "  resultados_df = resultados_df.append({'product_id': i, 'product_id_tn': serie_test, 'y_hat': yhat[0][1]}, ignore_index=True)\n"
     ]
    },
    {
     "name": "stdout",
     "output_type": "stream",
     "text": [
      "20469\n"
     ]
    },
    {
     "name": "stderr",
     "output_type": "stream",
     "text": [
      "/var/folders/x4/m6ss_3nn1vn52_2htr4xj3800000gp/T/ipykernel_14000/3859271102.py:25: FutureWarning: The frame.append method is deprecated and will be removed from pandas in a future version. Use pandas.concat instead.\n",
      "  resultados_df = resultados_df.append({'product_id': i, 'product_id_tn': serie_test, 'y_hat': yhat[0][1]}, ignore_index=True)\n"
     ]
    },
    {
     "name": "stdout",
     "output_type": "stream",
     "text": [
      "20470\n"
     ]
    },
    {
     "name": "stderr",
     "output_type": "stream",
     "text": [
      "/var/folders/x4/m6ss_3nn1vn52_2htr4xj3800000gp/T/ipykernel_14000/3859271102.py:25: FutureWarning: The frame.append method is deprecated and will be removed from pandas in a future version. Use pandas.concat instead.\n",
      "  resultados_df = resultados_df.append({'product_id': i, 'product_id_tn': serie_test, 'y_hat': yhat[0][1]}, ignore_index=True)\n"
     ]
    },
    {
     "name": "stdout",
     "output_type": "stream",
     "text": [
      "20471\n"
     ]
    },
    {
     "name": "stderr",
     "output_type": "stream",
     "text": [
      "/var/folders/x4/m6ss_3nn1vn52_2htr4xj3800000gp/T/ipykernel_14000/3859271102.py:25: FutureWarning: The frame.append method is deprecated and will be removed from pandas in a future version. Use pandas.concat instead.\n",
      "  resultados_df = resultados_df.append({'product_id': i, 'product_id_tn': serie_test, 'y_hat': yhat[0][1]}, ignore_index=True)\n"
     ]
    },
    {
     "name": "stdout",
     "output_type": "stream",
     "text": [
      "20472\n"
     ]
    },
    {
     "name": "stderr",
     "output_type": "stream",
     "text": [
      "/var/folders/x4/m6ss_3nn1vn52_2htr4xj3800000gp/T/ipykernel_14000/3859271102.py:25: FutureWarning: The frame.append method is deprecated and will be removed from pandas in a future version. Use pandas.concat instead.\n",
      "  resultados_df = resultados_df.append({'product_id': i, 'product_id_tn': serie_test, 'y_hat': yhat[0][1]}, ignore_index=True)\n"
     ]
    },
    {
     "name": "stdout",
     "output_type": "stream",
     "text": [
      "20473\n"
     ]
    },
    {
     "name": "stderr",
     "output_type": "stream",
     "text": [
      "/var/folders/x4/m6ss_3nn1vn52_2htr4xj3800000gp/T/ipykernel_14000/3859271102.py:25: FutureWarning: The frame.append method is deprecated and will be removed from pandas in a future version. Use pandas.concat instead.\n",
      "  resultados_df = resultados_df.append({'product_id': i, 'product_id_tn': serie_test, 'y_hat': yhat[0][1]}, ignore_index=True)\n"
     ]
    },
    {
     "name": "stdout",
     "output_type": "stream",
     "text": [
      "20474\n"
     ]
    },
    {
     "name": "stderr",
     "output_type": "stream",
     "text": [
      "/var/folders/x4/m6ss_3nn1vn52_2htr4xj3800000gp/T/ipykernel_14000/3859271102.py:25: FutureWarning: The frame.append method is deprecated and will be removed from pandas in a future version. Use pandas.concat instead.\n",
      "  resultados_df = resultados_df.append({'product_id': i, 'product_id_tn': serie_test, 'y_hat': yhat[0][1]}, ignore_index=True)\n"
     ]
    },
    {
     "name": "stdout",
     "output_type": "stream",
     "text": [
      "20475\n"
     ]
    },
    {
     "name": "stderr",
     "output_type": "stream",
     "text": [
      "/var/folders/x4/m6ss_3nn1vn52_2htr4xj3800000gp/T/ipykernel_14000/3859271102.py:25: FutureWarning: The frame.append method is deprecated and will be removed from pandas in a future version. Use pandas.concat instead.\n",
      "  resultados_df = resultados_df.append({'product_id': i, 'product_id_tn': serie_test, 'y_hat': yhat[0][1]}, ignore_index=True)\n"
     ]
    },
    {
     "name": "stdout",
     "output_type": "stream",
     "text": [
      "20478\n"
     ]
    },
    {
     "name": "stderr",
     "output_type": "stream",
     "text": [
      "/var/folders/x4/m6ss_3nn1vn52_2htr4xj3800000gp/T/ipykernel_14000/3859271102.py:25: FutureWarning: The frame.append method is deprecated and will be removed from pandas in a future version. Use pandas.concat instead.\n",
      "  resultados_df = resultados_df.append({'product_id': i, 'product_id_tn': serie_test, 'y_hat': yhat[0][1]}, ignore_index=True)\n"
     ]
    },
    {
     "name": "stdout",
     "output_type": "stream",
     "text": [
      "20479\n"
     ]
    },
    {
     "name": "stderr",
     "output_type": "stream",
     "text": [
      "/var/folders/x4/m6ss_3nn1vn52_2htr4xj3800000gp/T/ipykernel_14000/3859271102.py:25: FutureWarning: The frame.append method is deprecated and will be removed from pandas in a future version. Use pandas.concat instead.\n",
      "  resultados_df = resultados_df.append({'product_id': i, 'product_id_tn': serie_test, 'y_hat': yhat[0][1]}, ignore_index=True)\n"
     ]
    },
    {
     "name": "stdout",
     "output_type": "stream",
     "text": [
      "20480\n"
     ]
    },
    {
     "name": "stderr",
     "output_type": "stream",
     "text": [
      "/var/folders/x4/m6ss_3nn1vn52_2htr4xj3800000gp/T/ipykernel_14000/3859271102.py:25: FutureWarning: The frame.append method is deprecated and will be removed from pandas in a future version. Use pandas.concat instead.\n",
      "  resultados_df = resultados_df.append({'product_id': i, 'product_id_tn': serie_test, 'y_hat': yhat[0][1]}, ignore_index=True)\n"
     ]
    },
    {
     "name": "stdout",
     "output_type": "stream",
     "text": [
      "20481\n"
     ]
    },
    {
     "name": "stderr",
     "output_type": "stream",
     "text": [
      "/var/folders/x4/m6ss_3nn1vn52_2htr4xj3800000gp/T/ipykernel_14000/3859271102.py:25: FutureWarning: The frame.append method is deprecated and will be removed from pandas in a future version. Use pandas.concat instead.\n",
      "  resultados_df = resultados_df.append({'product_id': i, 'product_id_tn': serie_test, 'y_hat': yhat[0][1]}, ignore_index=True)\n"
     ]
    },
    {
     "name": "stdout",
     "output_type": "stream",
     "text": [
      "20482\n"
     ]
    },
    {
     "name": "stderr",
     "output_type": "stream",
     "text": [
      "/var/folders/x4/m6ss_3nn1vn52_2htr4xj3800000gp/T/ipykernel_14000/3859271102.py:25: FutureWarning: The frame.append method is deprecated and will be removed from pandas in a future version. Use pandas.concat instead.\n",
      "  resultados_df = resultados_df.append({'product_id': i, 'product_id_tn': serie_test, 'y_hat': yhat[0][1]}, ignore_index=True)\n"
     ]
    },
    {
     "name": "stdout",
     "output_type": "stream",
     "text": [
      "20483\n"
     ]
    },
    {
     "name": "stderr",
     "output_type": "stream",
     "text": [
      "/var/folders/x4/m6ss_3nn1vn52_2htr4xj3800000gp/T/ipykernel_14000/3859271102.py:25: FutureWarning: The frame.append method is deprecated and will be removed from pandas in a future version. Use pandas.concat instead.\n",
      "  resultados_df = resultados_df.append({'product_id': i, 'product_id_tn': serie_test, 'y_hat': yhat[0][1]}, ignore_index=True)\n"
     ]
    },
    {
     "name": "stdout",
     "output_type": "stream",
     "text": [
      "20484\n"
     ]
    },
    {
     "name": "stderr",
     "output_type": "stream",
     "text": [
      "/var/folders/x4/m6ss_3nn1vn52_2htr4xj3800000gp/T/ipykernel_14000/3859271102.py:25: FutureWarning: The frame.append method is deprecated and will be removed from pandas in a future version. Use pandas.concat instead.\n",
      "  resultados_df = resultados_df.append({'product_id': i, 'product_id_tn': serie_test, 'y_hat': yhat[0][1]}, ignore_index=True)\n"
     ]
    },
    {
     "name": "stdout",
     "output_type": "stream",
     "text": [
      "20485\n"
     ]
    },
    {
     "name": "stderr",
     "output_type": "stream",
     "text": [
      "/var/folders/x4/m6ss_3nn1vn52_2htr4xj3800000gp/T/ipykernel_14000/3859271102.py:25: FutureWarning: The frame.append method is deprecated and will be removed from pandas in a future version. Use pandas.concat instead.\n",
      "  resultados_df = resultados_df.append({'product_id': i, 'product_id_tn': serie_test, 'y_hat': yhat[0][1]}, ignore_index=True)\n"
     ]
    },
    {
     "name": "stdout",
     "output_type": "stream",
     "text": [
      "20486\n"
     ]
    },
    {
     "name": "stderr",
     "output_type": "stream",
     "text": [
      "/var/folders/x4/m6ss_3nn1vn52_2htr4xj3800000gp/T/ipykernel_14000/3859271102.py:25: FutureWarning: The frame.append method is deprecated and will be removed from pandas in a future version. Use pandas.concat instead.\n",
      "  resultados_df = resultados_df.append({'product_id': i, 'product_id_tn': serie_test, 'y_hat': yhat[0][1]}, ignore_index=True)\n"
     ]
    },
    {
     "name": "stdout",
     "output_type": "stream",
     "text": [
      "20488\n"
     ]
    },
    {
     "name": "stderr",
     "output_type": "stream",
     "text": [
      "/var/folders/x4/m6ss_3nn1vn52_2htr4xj3800000gp/T/ipykernel_14000/3859271102.py:25: FutureWarning: The frame.append method is deprecated and will be removed from pandas in a future version. Use pandas.concat instead.\n",
      "  resultados_df = resultados_df.append({'product_id': i, 'product_id_tn': serie_test, 'y_hat': yhat[0][1]}, ignore_index=True)\n"
     ]
    },
    {
     "name": "stdout",
     "output_type": "stream",
     "text": [
      "20489\n"
     ]
    },
    {
     "name": "stderr",
     "output_type": "stream",
     "text": [
      "/var/folders/x4/m6ss_3nn1vn52_2htr4xj3800000gp/T/ipykernel_14000/3859271102.py:25: FutureWarning: The frame.append method is deprecated and will be removed from pandas in a future version. Use pandas.concat instead.\n",
      "  resultados_df = resultados_df.append({'product_id': i, 'product_id_tn': serie_test, 'y_hat': yhat[0][1]}, ignore_index=True)\n"
     ]
    },
    {
     "name": "stdout",
     "output_type": "stream",
     "text": [
      "20490\n"
     ]
    },
    {
     "name": "stderr",
     "output_type": "stream",
     "text": [
      "/var/folders/x4/m6ss_3nn1vn52_2htr4xj3800000gp/T/ipykernel_14000/3859271102.py:25: FutureWarning: The frame.append method is deprecated and will be removed from pandas in a future version. Use pandas.concat instead.\n",
      "  resultados_df = resultados_df.append({'product_id': i, 'product_id_tn': serie_test, 'y_hat': yhat[0][1]}, ignore_index=True)\n"
     ]
    },
    {
     "name": "stdout",
     "output_type": "stream",
     "text": [
      "20492\n"
     ]
    },
    {
     "name": "stderr",
     "output_type": "stream",
     "text": [
      "/var/folders/x4/m6ss_3nn1vn52_2htr4xj3800000gp/T/ipykernel_14000/3859271102.py:25: FutureWarning: The frame.append method is deprecated and will be removed from pandas in a future version. Use pandas.concat instead.\n",
      "  resultados_df = resultados_df.append({'product_id': i, 'product_id_tn': serie_test, 'y_hat': yhat[0][1]}, ignore_index=True)\n"
     ]
    },
    {
     "name": "stdout",
     "output_type": "stream",
     "text": [
      "20493\n"
     ]
    },
    {
     "name": "stderr",
     "output_type": "stream",
     "text": [
      "/var/folders/x4/m6ss_3nn1vn52_2htr4xj3800000gp/T/ipykernel_14000/3859271102.py:25: FutureWarning: The frame.append method is deprecated and will be removed from pandas in a future version. Use pandas.concat instead.\n",
      "  resultados_df = resultados_df.append({'product_id': i, 'product_id_tn': serie_test, 'y_hat': yhat[0][1]}, ignore_index=True)\n"
     ]
    },
    {
     "name": "stdout",
     "output_type": "stream",
     "text": [
      "20494\n"
     ]
    },
    {
     "name": "stderr",
     "output_type": "stream",
     "text": [
      "/var/folders/x4/m6ss_3nn1vn52_2htr4xj3800000gp/T/ipykernel_14000/3859271102.py:25: FutureWarning: The frame.append method is deprecated and will be removed from pandas in a future version. Use pandas.concat instead.\n",
      "  resultados_df = resultados_df.append({'product_id': i, 'product_id_tn': serie_test, 'y_hat': yhat[0][1]}, ignore_index=True)\n"
     ]
    },
    {
     "name": "stdout",
     "output_type": "stream",
     "text": [
      "20495\n"
     ]
    },
    {
     "name": "stderr",
     "output_type": "stream",
     "text": [
      "/var/folders/x4/m6ss_3nn1vn52_2htr4xj3800000gp/T/ipykernel_14000/3859271102.py:25: FutureWarning: The frame.append method is deprecated and will be removed from pandas in a future version. Use pandas.concat instead.\n",
      "  resultados_df = resultados_df.append({'product_id': i, 'product_id_tn': serie_test, 'y_hat': yhat[0][1]}, ignore_index=True)\n"
     ]
    },
    {
     "name": "stdout",
     "output_type": "stream",
     "text": [
      "20496\n"
     ]
    },
    {
     "name": "stderr",
     "output_type": "stream",
     "text": [
      "/var/folders/x4/m6ss_3nn1vn52_2htr4xj3800000gp/T/ipykernel_14000/3859271102.py:25: FutureWarning: The frame.append method is deprecated and will be removed from pandas in a future version. Use pandas.concat instead.\n",
      "  resultados_df = resultados_df.append({'product_id': i, 'product_id_tn': serie_test, 'y_hat': yhat[0][1]}, ignore_index=True)\n"
     ]
    },
    {
     "name": "stdout",
     "output_type": "stream",
     "text": [
      "20497\n"
     ]
    },
    {
     "name": "stderr",
     "output_type": "stream",
     "text": [
      "/var/folders/x4/m6ss_3nn1vn52_2htr4xj3800000gp/T/ipykernel_14000/3859271102.py:25: FutureWarning: The frame.append method is deprecated and will be removed from pandas in a future version. Use pandas.concat instead.\n",
      "  resultados_df = resultados_df.append({'product_id': i, 'product_id_tn': serie_test, 'y_hat': yhat[0][1]}, ignore_index=True)\n"
     ]
    },
    {
     "name": "stdout",
     "output_type": "stream",
     "text": [
      "20498\n"
     ]
    },
    {
     "name": "stderr",
     "output_type": "stream",
     "text": [
      "/var/folders/x4/m6ss_3nn1vn52_2htr4xj3800000gp/T/ipykernel_14000/3859271102.py:25: FutureWarning: The frame.append method is deprecated and will be removed from pandas in a future version. Use pandas.concat instead.\n",
      "  resultados_df = resultados_df.append({'product_id': i, 'product_id_tn': serie_test, 'y_hat': yhat[0][1]}, ignore_index=True)\n"
     ]
    },
    {
     "name": "stdout",
     "output_type": "stream",
     "text": [
      "20499\n"
     ]
    },
    {
     "name": "stderr",
     "output_type": "stream",
     "text": [
      "/var/folders/x4/m6ss_3nn1vn52_2htr4xj3800000gp/T/ipykernel_14000/3859271102.py:25: FutureWarning: The frame.append method is deprecated and will be removed from pandas in a future version. Use pandas.concat instead.\n",
      "  resultados_df = resultados_df.append({'product_id': i, 'product_id_tn': serie_test, 'y_hat': yhat[0][1]}, ignore_index=True)\n"
     ]
    },
    {
     "name": "stdout",
     "output_type": "stream",
     "text": [
      "20500\n"
     ]
    },
    {
     "name": "stderr",
     "output_type": "stream",
     "text": [
      "/var/folders/x4/m6ss_3nn1vn52_2htr4xj3800000gp/T/ipykernel_14000/3859271102.py:25: FutureWarning: The frame.append method is deprecated and will be removed from pandas in a future version. Use pandas.concat instead.\n",
      "  resultados_df = resultados_df.append({'product_id': i, 'product_id_tn': serie_test, 'y_hat': yhat[0][1]}, ignore_index=True)\n"
     ]
    },
    {
     "name": "stdout",
     "output_type": "stream",
     "text": [
      "20501\n"
     ]
    },
    {
     "name": "stderr",
     "output_type": "stream",
     "text": [
      "/var/folders/x4/m6ss_3nn1vn52_2htr4xj3800000gp/T/ipykernel_14000/3859271102.py:25: FutureWarning: The frame.append method is deprecated and will be removed from pandas in a future version. Use pandas.concat instead.\n",
      "  resultados_df = resultados_df.append({'product_id': i, 'product_id_tn': serie_test, 'y_hat': yhat[0][1]}, ignore_index=True)\n"
     ]
    },
    {
     "name": "stdout",
     "output_type": "stream",
     "text": [
      "20502\n"
     ]
    },
    {
     "name": "stderr",
     "output_type": "stream",
     "text": [
      "/var/folders/x4/m6ss_3nn1vn52_2htr4xj3800000gp/T/ipykernel_14000/3859271102.py:25: FutureWarning: The frame.append method is deprecated and will be removed from pandas in a future version. Use pandas.concat instead.\n",
      "  resultados_df = resultados_df.append({'product_id': i, 'product_id_tn': serie_test, 'y_hat': yhat[0][1]}, ignore_index=True)\n"
     ]
    },
    {
     "name": "stdout",
     "output_type": "stream",
     "text": [
      "20503\n"
     ]
    },
    {
     "name": "stderr",
     "output_type": "stream",
     "text": [
      "/var/folders/x4/m6ss_3nn1vn52_2htr4xj3800000gp/T/ipykernel_14000/3859271102.py:25: FutureWarning: The frame.append method is deprecated and will be removed from pandas in a future version. Use pandas.concat instead.\n",
      "  resultados_df = resultados_df.append({'product_id': i, 'product_id_tn': serie_test, 'y_hat': yhat[0][1]}, ignore_index=True)\n"
     ]
    },
    {
     "name": "stdout",
     "output_type": "stream",
     "text": [
      "20504\n"
     ]
    },
    {
     "name": "stderr",
     "output_type": "stream",
     "text": [
      "/var/folders/x4/m6ss_3nn1vn52_2htr4xj3800000gp/T/ipykernel_14000/3859271102.py:25: FutureWarning: The frame.append method is deprecated and will be removed from pandas in a future version. Use pandas.concat instead.\n",
      "  resultados_df = resultados_df.append({'product_id': i, 'product_id_tn': serie_test, 'y_hat': yhat[0][1]}, ignore_index=True)\n"
     ]
    },
    {
     "name": "stdout",
     "output_type": "stream",
     "text": [
      "20505\n"
     ]
    },
    {
     "name": "stderr",
     "output_type": "stream",
     "text": [
      "/var/folders/x4/m6ss_3nn1vn52_2htr4xj3800000gp/T/ipykernel_14000/3859271102.py:25: FutureWarning: The frame.append method is deprecated and will be removed from pandas in a future version. Use pandas.concat instead.\n",
      "  resultados_df = resultados_df.append({'product_id': i, 'product_id_tn': serie_test, 'y_hat': yhat[0][1]}, ignore_index=True)\n"
     ]
    },
    {
     "name": "stdout",
     "output_type": "stream",
     "text": [
      "20506\n"
     ]
    },
    {
     "name": "stderr",
     "output_type": "stream",
     "text": [
      "/var/folders/x4/m6ss_3nn1vn52_2htr4xj3800000gp/T/ipykernel_14000/3859271102.py:25: FutureWarning: The frame.append method is deprecated and will be removed from pandas in a future version. Use pandas.concat instead.\n",
      "  resultados_df = resultados_df.append({'product_id': i, 'product_id_tn': serie_test, 'y_hat': yhat[0][1]}, ignore_index=True)\n"
     ]
    },
    {
     "name": "stdout",
     "output_type": "stream",
     "text": [
      "20507\n"
     ]
    },
    {
     "name": "stderr",
     "output_type": "stream",
     "text": [
      "/var/folders/x4/m6ss_3nn1vn52_2htr4xj3800000gp/T/ipykernel_14000/3859271102.py:25: FutureWarning: The frame.append method is deprecated and will be removed from pandas in a future version. Use pandas.concat instead.\n",
      "  resultados_df = resultados_df.append({'product_id': i, 'product_id_tn': serie_test, 'y_hat': yhat[0][1]}, ignore_index=True)\n"
     ]
    },
    {
     "name": "stdout",
     "output_type": "stream",
     "text": [
      "20508\n"
     ]
    },
    {
     "name": "stderr",
     "output_type": "stream",
     "text": [
      "/var/folders/x4/m6ss_3nn1vn52_2htr4xj3800000gp/T/ipykernel_14000/3859271102.py:25: FutureWarning: The frame.append method is deprecated and will be removed from pandas in a future version. Use pandas.concat instead.\n",
      "  resultados_df = resultados_df.append({'product_id': i, 'product_id_tn': serie_test, 'y_hat': yhat[0][1]}, ignore_index=True)\n"
     ]
    },
    {
     "name": "stdout",
     "output_type": "stream",
     "text": [
      "20509\n"
     ]
    },
    {
     "name": "stderr",
     "output_type": "stream",
     "text": [
      "/var/folders/x4/m6ss_3nn1vn52_2htr4xj3800000gp/T/ipykernel_14000/3859271102.py:25: FutureWarning: The frame.append method is deprecated and will be removed from pandas in a future version. Use pandas.concat instead.\n",
      "  resultados_df = resultados_df.append({'product_id': i, 'product_id_tn': serie_test, 'y_hat': yhat[0][1]}, ignore_index=True)\n"
     ]
    },
    {
     "name": "stdout",
     "output_type": "stream",
     "text": [
      "20511\n"
     ]
    },
    {
     "name": "stderr",
     "output_type": "stream",
     "text": [
      "/var/folders/x4/m6ss_3nn1vn52_2htr4xj3800000gp/T/ipykernel_14000/3859271102.py:25: FutureWarning: The frame.append method is deprecated and will be removed from pandas in a future version. Use pandas.concat instead.\n",
      "  resultados_df = resultados_df.append({'product_id': i, 'product_id_tn': serie_test, 'y_hat': yhat[0][1]}, ignore_index=True)\n"
     ]
    },
    {
     "name": "stdout",
     "output_type": "stream",
     "text": [
      "20512\n"
     ]
    },
    {
     "name": "stderr",
     "output_type": "stream",
     "text": [
      "/var/folders/x4/m6ss_3nn1vn52_2htr4xj3800000gp/T/ipykernel_14000/3859271102.py:25: FutureWarning: The frame.append method is deprecated and will be removed from pandas in a future version. Use pandas.concat instead.\n",
      "  resultados_df = resultados_df.append({'product_id': i, 'product_id_tn': serie_test, 'y_hat': yhat[0][1]}, ignore_index=True)\n"
     ]
    },
    {
     "name": "stdout",
     "output_type": "stream",
     "text": [
      "20513\n"
     ]
    },
    {
     "name": "stderr",
     "output_type": "stream",
     "text": [
      "/var/folders/x4/m6ss_3nn1vn52_2htr4xj3800000gp/T/ipykernel_14000/3859271102.py:25: FutureWarning: The frame.append method is deprecated and will be removed from pandas in a future version. Use pandas.concat instead.\n",
      "  resultados_df = resultados_df.append({'product_id': i, 'product_id_tn': serie_test, 'y_hat': yhat[0][1]}, ignore_index=True)\n"
     ]
    },
    {
     "name": "stdout",
     "output_type": "stream",
     "text": [
      "20514\n"
     ]
    },
    {
     "name": "stderr",
     "output_type": "stream",
     "text": [
      "/var/folders/x4/m6ss_3nn1vn52_2htr4xj3800000gp/T/ipykernel_14000/3859271102.py:25: FutureWarning: The frame.append method is deprecated and will be removed from pandas in a future version. Use pandas.concat instead.\n",
      "  resultados_df = resultados_df.append({'product_id': i, 'product_id_tn': serie_test, 'y_hat': yhat[0][1]}, ignore_index=True)\n"
     ]
    },
    {
     "name": "stdout",
     "output_type": "stream",
     "text": [
      "20516\n"
     ]
    },
    {
     "name": "stderr",
     "output_type": "stream",
     "text": [
      "/var/folders/x4/m6ss_3nn1vn52_2htr4xj3800000gp/T/ipykernel_14000/3859271102.py:25: FutureWarning: The frame.append method is deprecated and will be removed from pandas in a future version. Use pandas.concat instead.\n",
      "  resultados_df = resultados_df.append({'product_id': i, 'product_id_tn': serie_test, 'y_hat': yhat[0][1]}, ignore_index=True)\n"
     ]
    },
    {
     "name": "stdout",
     "output_type": "stream",
     "text": [
      "20517\n"
     ]
    },
    {
     "name": "stderr",
     "output_type": "stream",
     "text": [
      "/var/folders/x4/m6ss_3nn1vn52_2htr4xj3800000gp/T/ipykernel_14000/3859271102.py:25: FutureWarning: The frame.append method is deprecated and will be removed from pandas in a future version. Use pandas.concat instead.\n",
      "  resultados_df = resultados_df.append({'product_id': i, 'product_id_tn': serie_test, 'y_hat': yhat[0][1]}, ignore_index=True)\n"
     ]
    },
    {
     "name": "stdout",
     "output_type": "stream",
     "text": [
      "20520\n"
     ]
    },
    {
     "name": "stderr",
     "output_type": "stream",
     "text": [
      "/var/folders/x4/m6ss_3nn1vn52_2htr4xj3800000gp/T/ipykernel_14000/3859271102.py:25: FutureWarning: The frame.append method is deprecated and will be removed from pandas in a future version. Use pandas.concat instead.\n",
      "  resultados_df = resultados_df.append({'product_id': i, 'product_id_tn': serie_test, 'y_hat': yhat[0][1]}, ignore_index=True)\n"
     ]
    },
    {
     "name": "stdout",
     "output_type": "stream",
     "text": [
      "20522\n"
     ]
    },
    {
     "name": "stderr",
     "output_type": "stream",
     "text": [
      "/var/folders/x4/m6ss_3nn1vn52_2htr4xj3800000gp/T/ipykernel_14000/3859271102.py:25: FutureWarning: The frame.append method is deprecated and will be removed from pandas in a future version. Use pandas.concat instead.\n",
      "  resultados_df = resultados_df.append({'product_id': i, 'product_id_tn': serie_test, 'y_hat': yhat[0][1]}, ignore_index=True)\n"
     ]
    },
    {
     "name": "stdout",
     "output_type": "stream",
     "text": [
      "20523\n"
     ]
    },
    {
     "name": "stderr",
     "output_type": "stream",
     "text": [
      "/var/folders/x4/m6ss_3nn1vn52_2htr4xj3800000gp/T/ipykernel_14000/3859271102.py:25: FutureWarning: The frame.append method is deprecated and will be removed from pandas in a future version. Use pandas.concat instead.\n",
      "  resultados_df = resultados_df.append({'product_id': i, 'product_id_tn': serie_test, 'y_hat': yhat[0][1]}, ignore_index=True)\n"
     ]
    },
    {
     "name": "stdout",
     "output_type": "stream",
     "text": [
      "20524\n"
     ]
    },
    {
     "name": "stderr",
     "output_type": "stream",
     "text": [
      "/var/folders/x4/m6ss_3nn1vn52_2htr4xj3800000gp/T/ipykernel_14000/3859271102.py:25: FutureWarning: The frame.append method is deprecated and will be removed from pandas in a future version. Use pandas.concat instead.\n",
      "  resultados_df = resultados_df.append({'product_id': i, 'product_id_tn': serie_test, 'y_hat': yhat[0][1]}, ignore_index=True)\n"
     ]
    },
    {
     "name": "stdout",
     "output_type": "stream",
     "text": [
      "20527\n"
     ]
    },
    {
     "name": "stderr",
     "output_type": "stream",
     "text": [
      "/var/folders/x4/m6ss_3nn1vn52_2htr4xj3800000gp/T/ipykernel_14000/3859271102.py:25: FutureWarning: The frame.append method is deprecated and will be removed from pandas in a future version. Use pandas.concat instead.\n",
      "  resultados_df = resultados_df.append({'product_id': i, 'product_id_tn': serie_test, 'y_hat': yhat[0][1]}, ignore_index=True)\n"
     ]
    },
    {
     "name": "stdout",
     "output_type": "stream",
     "text": [
      "20528\n"
     ]
    },
    {
     "name": "stderr",
     "output_type": "stream",
     "text": [
      "/var/folders/x4/m6ss_3nn1vn52_2htr4xj3800000gp/T/ipykernel_14000/3859271102.py:25: FutureWarning: The frame.append method is deprecated and will be removed from pandas in a future version. Use pandas.concat instead.\n",
      "  resultados_df = resultados_df.append({'product_id': i, 'product_id_tn': serie_test, 'y_hat': yhat[0][1]}, ignore_index=True)\n"
     ]
    },
    {
     "name": "stdout",
     "output_type": "stream",
     "text": [
      "20529\n"
     ]
    },
    {
     "name": "stderr",
     "output_type": "stream",
     "text": [
      "/var/folders/x4/m6ss_3nn1vn52_2htr4xj3800000gp/T/ipykernel_14000/3859271102.py:25: FutureWarning: The frame.append method is deprecated and will be removed from pandas in a future version. Use pandas.concat instead.\n",
      "  resultados_df = resultados_df.append({'product_id': i, 'product_id_tn': serie_test, 'y_hat': yhat[0][1]}, ignore_index=True)\n"
     ]
    },
    {
     "name": "stdout",
     "output_type": "stream",
     "text": [
      "20530\n"
     ]
    },
    {
     "name": "stderr",
     "output_type": "stream",
     "text": [
      "/var/folders/x4/m6ss_3nn1vn52_2htr4xj3800000gp/T/ipykernel_14000/3859271102.py:25: FutureWarning: The frame.append method is deprecated and will be removed from pandas in a future version. Use pandas.concat instead.\n",
      "  resultados_df = resultados_df.append({'product_id': i, 'product_id_tn': serie_test, 'y_hat': yhat[0][1]}, ignore_index=True)\n"
     ]
    },
    {
     "name": "stdout",
     "output_type": "stream",
     "text": [
      "20532\n"
     ]
    },
    {
     "name": "stderr",
     "output_type": "stream",
     "text": [
      "/var/folders/x4/m6ss_3nn1vn52_2htr4xj3800000gp/T/ipykernel_14000/3859271102.py:25: FutureWarning: The frame.append method is deprecated and will be removed from pandas in a future version. Use pandas.concat instead.\n",
      "  resultados_df = resultados_df.append({'product_id': i, 'product_id_tn': serie_test, 'y_hat': yhat[0][1]}, ignore_index=True)\n"
     ]
    },
    {
     "name": "stdout",
     "output_type": "stream",
     "text": [
      "20533\n"
     ]
    },
    {
     "name": "stderr",
     "output_type": "stream",
     "text": [
      "/var/folders/x4/m6ss_3nn1vn52_2htr4xj3800000gp/T/ipykernel_14000/3859271102.py:25: FutureWarning: The frame.append method is deprecated and will be removed from pandas in a future version. Use pandas.concat instead.\n",
      "  resultados_df = resultados_df.append({'product_id': i, 'product_id_tn': serie_test, 'y_hat': yhat[0][1]}, ignore_index=True)\n"
     ]
    },
    {
     "name": "stdout",
     "output_type": "stream",
     "text": [
      "20534\n"
     ]
    },
    {
     "name": "stderr",
     "output_type": "stream",
     "text": [
      "/var/folders/x4/m6ss_3nn1vn52_2htr4xj3800000gp/T/ipykernel_14000/3859271102.py:25: FutureWarning: The frame.append method is deprecated and will be removed from pandas in a future version. Use pandas.concat instead.\n",
      "  resultados_df = resultados_df.append({'product_id': i, 'product_id_tn': serie_test, 'y_hat': yhat[0][1]}, ignore_index=True)\n"
     ]
    },
    {
     "name": "stdout",
     "output_type": "stream",
     "text": [
      "20535\n"
     ]
    },
    {
     "name": "stderr",
     "output_type": "stream",
     "text": [
      "/var/folders/x4/m6ss_3nn1vn52_2htr4xj3800000gp/T/ipykernel_14000/3859271102.py:25: FutureWarning: The frame.append method is deprecated and will be removed from pandas in a future version. Use pandas.concat instead.\n",
      "  resultados_df = resultados_df.append({'product_id': i, 'product_id_tn': serie_test, 'y_hat': yhat[0][1]}, ignore_index=True)\n"
     ]
    },
    {
     "name": "stdout",
     "output_type": "stream",
     "text": [
      "20536\n"
     ]
    },
    {
     "name": "stderr",
     "output_type": "stream",
     "text": [
      "/var/folders/x4/m6ss_3nn1vn52_2htr4xj3800000gp/T/ipykernel_14000/3859271102.py:25: FutureWarning: The frame.append method is deprecated and will be removed from pandas in a future version. Use pandas.concat instead.\n",
      "  resultados_df = resultados_df.append({'product_id': i, 'product_id_tn': serie_test, 'y_hat': yhat[0][1]}, ignore_index=True)\n"
     ]
    },
    {
     "name": "stdout",
     "output_type": "stream",
     "text": [
      "20538\n"
     ]
    },
    {
     "name": "stderr",
     "output_type": "stream",
     "text": [
      "/var/folders/x4/m6ss_3nn1vn52_2htr4xj3800000gp/T/ipykernel_14000/3859271102.py:25: FutureWarning: The frame.append method is deprecated and will be removed from pandas in a future version. Use pandas.concat instead.\n",
      "  resultados_df = resultados_df.append({'product_id': i, 'product_id_tn': serie_test, 'y_hat': yhat[0][1]}, ignore_index=True)\n"
     ]
    },
    {
     "name": "stdout",
     "output_type": "stream",
     "text": [
      "20539\n"
     ]
    },
    {
     "name": "stderr",
     "output_type": "stream",
     "text": [
      "/var/folders/x4/m6ss_3nn1vn52_2htr4xj3800000gp/T/ipykernel_14000/3859271102.py:25: FutureWarning: The frame.append method is deprecated and will be removed from pandas in a future version. Use pandas.concat instead.\n",
      "  resultados_df = resultados_df.append({'product_id': i, 'product_id_tn': serie_test, 'y_hat': yhat[0][1]}, ignore_index=True)\n"
     ]
    },
    {
     "name": "stdout",
     "output_type": "stream",
     "text": [
      "20540\n"
     ]
    },
    {
     "name": "stderr",
     "output_type": "stream",
     "text": [
      "/var/folders/x4/m6ss_3nn1vn52_2htr4xj3800000gp/T/ipykernel_14000/3859271102.py:25: FutureWarning: The frame.append method is deprecated and will be removed from pandas in a future version. Use pandas.concat instead.\n",
      "  resultados_df = resultados_df.append({'product_id': i, 'product_id_tn': serie_test, 'y_hat': yhat[0][1]}, ignore_index=True)\n"
     ]
    },
    {
     "name": "stdout",
     "output_type": "stream",
     "text": [
      "20541\n"
     ]
    },
    {
     "name": "stderr",
     "output_type": "stream",
     "text": [
      "/var/folders/x4/m6ss_3nn1vn52_2htr4xj3800000gp/T/ipykernel_14000/3859271102.py:25: FutureWarning: The frame.append method is deprecated and will be removed from pandas in a future version. Use pandas.concat instead.\n",
      "  resultados_df = resultados_df.append({'product_id': i, 'product_id_tn': serie_test, 'y_hat': yhat[0][1]}, ignore_index=True)\n"
     ]
    },
    {
     "name": "stdout",
     "output_type": "stream",
     "text": [
      "20542\n"
     ]
    },
    {
     "name": "stderr",
     "output_type": "stream",
     "text": [
      "/var/folders/x4/m6ss_3nn1vn52_2htr4xj3800000gp/T/ipykernel_14000/3859271102.py:25: FutureWarning: The frame.append method is deprecated and will be removed from pandas in a future version. Use pandas.concat instead.\n",
      "  resultados_df = resultados_df.append({'product_id': i, 'product_id_tn': serie_test, 'y_hat': yhat[0][1]}, ignore_index=True)\n"
     ]
    },
    {
     "name": "stdout",
     "output_type": "stream",
     "text": [
      "20543\n"
     ]
    },
    {
     "name": "stderr",
     "output_type": "stream",
     "text": [
      "/var/folders/x4/m6ss_3nn1vn52_2htr4xj3800000gp/T/ipykernel_14000/3859271102.py:25: FutureWarning: The frame.append method is deprecated and will be removed from pandas in a future version. Use pandas.concat instead.\n",
      "  resultados_df = resultados_df.append({'product_id': i, 'product_id_tn': serie_test, 'y_hat': yhat[0][1]}, ignore_index=True)\n"
     ]
    },
    {
     "name": "stdout",
     "output_type": "stream",
     "text": [
      "20544\n"
     ]
    },
    {
     "name": "stderr",
     "output_type": "stream",
     "text": [
      "/var/folders/x4/m6ss_3nn1vn52_2htr4xj3800000gp/T/ipykernel_14000/3859271102.py:25: FutureWarning: The frame.append method is deprecated and will be removed from pandas in a future version. Use pandas.concat instead.\n",
      "  resultados_df = resultados_df.append({'product_id': i, 'product_id_tn': serie_test, 'y_hat': yhat[0][1]}, ignore_index=True)\n"
     ]
    },
    {
     "name": "stdout",
     "output_type": "stream",
     "text": [
      "20545\n"
     ]
    },
    {
     "name": "stderr",
     "output_type": "stream",
     "text": [
      "/var/folders/x4/m6ss_3nn1vn52_2htr4xj3800000gp/T/ipykernel_14000/3859271102.py:25: FutureWarning: The frame.append method is deprecated and will be removed from pandas in a future version. Use pandas.concat instead.\n",
      "  resultados_df = resultados_df.append({'product_id': i, 'product_id_tn': serie_test, 'y_hat': yhat[0][1]}, ignore_index=True)\n"
     ]
    },
    {
     "name": "stdout",
     "output_type": "stream",
     "text": [
      "20546\n"
     ]
    },
    {
     "name": "stderr",
     "output_type": "stream",
     "text": [
      "/var/folders/x4/m6ss_3nn1vn52_2htr4xj3800000gp/T/ipykernel_14000/3859271102.py:25: FutureWarning: The frame.append method is deprecated and will be removed from pandas in a future version. Use pandas.concat instead.\n",
      "  resultados_df = resultados_df.append({'product_id': i, 'product_id_tn': serie_test, 'y_hat': yhat[0][1]}, ignore_index=True)\n"
     ]
    },
    {
     "name": "stdout",
     "output_type": "stream",
     "text": [
      "20549\n"
     ]
    },
    {
     "name": "stderr",
     "output_type": "stream",
     "text": [
      "/var/folders/x4/m6ss_3nn1vn52_2htr4xj3800000gp/T/ipykernel_14000/3859271102.py:25: FutureWarning: The frame.append method is deprecated and will be removed from pandas in a future version. Use pandas.concat instead.\n",
      "  resultados_df = resultados_df.append({'product_id': i, 'product_id_tn': serie_test, 'y_hat': yhat[0][1]}, ignore_index=True)\n"
     ]
    },
    {
     "name": "stdout",
     "output_type": "stream",
     "text": [
      "20550\n"
     ]
    },
    {
     "name": "stderr",
     "output_type": "stream",
     "text": [
      "/var/folders/x4/m6ss_3nn1vn52_2htr4xj3800000gp/T/ipykernel_14000/3859271102.py:25: FutureWarning: The frame.append method is deprecated and will be removed from pandas in a future version. Use pandas.concat instead.\n",
      "  resultados_df = resultados_df.append({'product_id': i, 'product_id_tn': serie_test, 'y_hat': yhat[0][1]}, ignore_index=True)\n"
     ]
    },
    {
     "name": "stdout",
     "output_type": "stream",
     "text": [
      "20551\n"
     ]
    },
    {
     "name": "stderr",
     "output_type": "stream",
     "text": [
      "/var/folders/x4/m6ss_3nn1vn52_2htr4xj3800000gp/T/ipykernel_14000/3859271102.py:25: FutureWarning: The frame.append method is deprecated and will be removed from pandas in a future version. Use pandas.concat instead.\n",
      "  resultados_df = resultados_df.append({'product_id': i, 'product_id_tn': serie_test, 'y_hat': yhat[0][1]}, ignore_index=True)\n"
     ]
    },
    {
     "name": "stdout",
     "output_type": "stream",
     "text": [
      "20552\n"
     ]
    },
    {
     "name": "stderr",
     "output_type": "stream",
     "text": [
      "/var/folders/x4/m6ss_3nn1vn52_2htr4xj3800000gp/T/ipykernel_14000/3859271102.py:25: FutureWarning: The frame.append method is deprecated and will be removed from pandas in a future version. Use pandas.concat instead.\n",
      "  resultados_df = resultados_df.append({'product_id': i, 'product_id_tn': serie_test, 'y_hat': yhat[0][1]}, ignore_index=True)\n"
     ]
    },
    {
     "name": "stdout",
     "output_type": "stream",
     "text": [
      "20553\n"
     ]
    },
    {
     "name": "stderr",
     "output_type": "stream",
     "text": [
      "/var/folders/x4/m6ss_3nn1vn52_2htr4xj3800000gp/T/ipykernel_14000/3859271102.py:25: FutureWarning: The frame.append method is deprecated and will be removed from pandas in a future version. Use pandas.concat instead.\n",
      "  resultados_df = resultados_df.append({'product_id': i, 'product_id_tn': serie_test, 'y_hat': yhat[0][1]}, ignore_index=True)\n"
     ]
    },
    {
     "name": "stdout",
     "output_type": "stream",
     "text": [
      "20554\n"
     ]
    },
    {
     "name": "stderr",
     "output_type": "stream",
     "text": [
      "/var/folders/x4/m6ss_3nn1vn52_2htr4xj3800000gp/T/ipykernel_14000/3859271102.py:25: FutureWarning: The frame.append method is deprecated and will be removed from pandas in a future version. Use pandas.concat instead.\n",
      "  resultados_df = resultados_df.append({'product_id': i, 'product_id_tn': serie_test, 'y_hat': yhat[0][1]}, ignore_index=True)\n"
     ]
    },
    {
     "name": "stdout",
     "output_type": "stream",
     "text": [
      "20555\n"
     ]
    },
    {
     "name": "stderr",
     "output_type": "stream",
     "text": [
      "/var/folders/x4/m6ss_3nn1vn52_2htr4xj3800000gp/T/ipykernel_14000/3859271102.py:25: FutureWarning: The frame.append method is deprecated and will be removed from pandas in a future version. Use pandas.concat instead.\n",
      "  resultados_df = resultados_df.append({'product_id': i, 'product_id_tn': serie_test, 'y_hat': yhat[0][1]}, ignore_index=True)\n"
     ]
    },
    {
     "name": "stdout",
     "output_type": "stream",
     "text": [
      "20556\n"
     ]
    },
    {
     "name": "stderr",
     "output_type": "stream",
     "text": [
      "/var/folders/x4/m6ss_3nn1vn52_2htr4xj3800000gp/T/ipykernel_14000/3859271102.py:25: FutureWarning: The frame.append method is deprecated and will be removed from pandas in a future version. Use pandas.concat instead.\n",
      "  resultados_df = resultados_df.append({'product_id': i, 'product_id_tn': serie_test, 'y_hat': yhat[0][1]}, ignore_index=True)\n"
     ]
    },
    {
     "name": "stdout",
     "output_type": "stream",
     "text": [
      "20559\n"
     ]
    },
    {
     "name": "stderr",
     "output_type": "stream",
     "text": [
      "/var/folders/x4/m6ss_3nn1vn52_2htr4xj3800000gp/T/ipykernel_14000/3859271102.py:25: FutureWarning: The frame.append method is deprecated and will be removed from pandas in a future version. Use pandas.concat instead.\n",
      "  resultados_df = resultados_df.append({'product_id': i, 'product_id_tn': serie_test, 'y_hat': yhat[0][1]}, ignore_index=True)\n"
     ]
    },
    {
     "name": "stdout",
     "output_type": "stream",
     "text": [
      "20560\n"
     ]
    },
    {
     "name": "stderr",
     "output_type": "stream",
     "text": [
      "/var/folders/x4/m6ss_3nn1vn52_2htr4xj3800000gp/T/ipykernel_14000/3859271102.py:25: FutureWarning: The frame.append method is deprecated and will be removed from pandas in a future version. Use pandas.concat instead.\n",
      "  resultados_df = resultados_df.append({'product_id': i, 'product_id_tn': serie_test, 'y_hat': yhat[0][1]}, ignore_index=True)\n"
     ]
    },
    {
     "name": "stdout",
     "output_type": "stream",
     "text": [
      "20561\n"
     ]
    },
    {
     "name": "stderr",
     "output_type": "stream",
     "text": [
      "/var/folders/x4/m6ss_3nn1vn52_2htr4xj3800000gp/T/ipykernel_14000/3859271102.py:25: FutureWarning: The frame.append method is deprecated and will be removed from pandas in a future version. Use pandas.concat instead.\n",
      "  resultados_df = resultados_df.append({'product_id': i, 'product_id_tn': serie_test, 'y_hat': yhat[0][1]}, ignore_index=True)\n"
     ]
    },
    {
     "name": "stdout",
     "output_type": "stream",
     "text": [
      "20563\n"
     ]
    },
    {
     "name": "stderr",
     "output_type": "stream",
     "text": [
      "/var/folders/x4/m6ss_3nn1vn52_2htr4xj3800000gp/T/ipykernel_14000/3859271102.py:25: FutureWarning: The frame.append method is deprecated and will be removed from pandas in a future version. Use pandas.concat instead.\n",
      "  resultados_df = resultados_df.append({'product_id': i, 'product_id_tn': serie_test, 'y_hat': yhat[0][1]}, ignore_index=True)\n"
     ]
    },
    {
     "name": "stdout",
     "output_type": "stream",
     "text": [
      "20564\n"
     ]
    },
    {
     "name": "stderr",
     "output_type": "stream",
     "text": [
      "/var/folders/x4/m6ss_3nn1vn52_2htr4xj3800000gp/T/ipykernel_14000/3859271102.py:25: FutureWarning: The frame.append method is deprecated and will be removed from pandas in a future version. Use pandas.concat instead.\n",
      "  resultados_df = resultados_df.append({'product_id': i, 'product_id_tn': serie_test, 'y_hat': yhat[0][1]}, ignore_index=True)\n"
     ]
    },
    {
     "name": "stdout",
     "output_type": "stream",
     "text": [
      "20565\n"
     ]
    },
    {
     "name": "stderr",
     "output_type": "stream",
     "text": [
      "/var/folders/x4/m6ss_3nn1vn52_2htr4xj3800000gp/T/ipykernel_14000/3859271102.py:25: FutureWarning: The frame.append method is deprecated and will be removed from pandas in a future version. Use pandas.concat instead.\n",
      "  resultados_df = resultados_df.append({'product_id': i, 'product_id_tn': serie_test, 'y_hat': yhat[0][1]}, ignore_index=True)\n"
     ]
    },
    {
     "name": "stdout",
     "output_type": "stream",
     "text": [
      "20566\n"
     ]
    },
    {
     "name": "stderr",
     "output_type": "stream",
     "text": [
      "/var/folders/x4/m6ss_3nn1vn52_2htr4xj3800000gp/T/ipykernel_14000/3859271102.py:25: FutureWarning: The frame.append method is deprecated and will be removed from pandas in a future version. Use pandas.concat instead.\n",
      "  resultados_df = resultados_df.append({'product_id': i, 'product_id_tn': serie_test, 'y_hat': yhat[0][1]}, ignore_index=True)\n"
     ]
    },
    {
     "name": "stdout",
     "output_type": "stream",
     "text": [
      "20567\n"
     ]
    },
    {
     "name": "stderr",
     "output_type": "stream",
     "text": [
      "/var/folders/x4/m6ss_3nn1vn52_2htr4xj3800000gp/T/ipykernel_14000/3859271102.py:25: FutureWarning: The frame.append method is deprecated and will be removed from pandas in a future version. Use pandas.concat instead.\n",
      "  resultados_df = resultados_df.append({'product_id': i, 'product_id_tn': serie_test, 'y_hat': yhat[0][1]}, ignore_index=True)\n"
     ]
    },
    {
     "name": "stdout",
     "output_type": "stream",
     "text": [
      "20568\n"
     ]
    },
    {
     "name": "stderr",
     "output_type": "stream",
     "text": [
      "/var/folders/x4/m6ss_3nn1vn52_2htr4xj3800000gp/T/ipykernel_14000/3859271102.py:25: FutureWarning: The frame.append method is deprecated and will be removed from pandas in a future version. Use pandas.concat instead.\n",
      "  resultados_df = resultados_df.append({'product_id': i, 'product_id_tn': serie_test, 'y_hat': yhat[0][1]}, ignore_index=True)\n"
     ]
    },
    {
     "name": "stdout",
     "output_type": "stream",
     "text": [
      "20569\n"
     ]
    },
    {
     "name": "stderr",
     "output_type": "stream",
     "text": [
      "/var/folders/x4/m6ss_3nn1vn52_2htr4xj3800000gp/T/ipykernel_14000/3859271102.py:25: FutureWarning: The frame.append method is deprecated and will be removed from pandas in a future version. Use pandas.concat instead.\n",
      "  resultados_df = resultados_df.append({'product_id': i, 'product_id_tn': serie_test, 'y_hat': yhat[0][1]}, ignore_index=True)\n"
     ]
    },
    {
     "name": "stdout",
     "output_type": "stream",
     "text": [
      "20570\n"
     ]
    },
    {
     "name": "stderr",
     "output_type": "stream",
     "text": [
      "/var/folders/x4/m6ss_3nn1vn52_2htr4xj3800000gp/T/ipykernel_14000/3859271102.py:25: FutureWarning: The frame.append method is deprecated and will be removed from pandas in a future version. Use pandas.concat instead.\n",
      "  resultados_df = resultados_df.append({'product_id': i, 'product_id_tn': serie_test, 'y_hat': yhat[0][1]}, ignore_index=True)\n"
     ]
    },
    {
     "name": "stdout",
     "output_type": "stream",
     "text": [
      "20571\n"
     ]
    },
    {
     "name": "stderr",
     "output_type": "stream",
     "text": [
      "/var/folders/x4/m6ss_3nn1vn52_2htr4xj3800000gp/T/ipykernel_14000/3859271102.py:25: FutureWarning: The frame.append method is deprecated and will be removed from pandas in a future version. Use pandas.concat instead.\n",
      "  resultados_df = resultados_df.append({'product_id': i, 'product_id_tn': serie_test, 'y_hat': yhat[0][1]}, ignore_index=True)\n"
     ]
    },
    {
     "name": "stdout",
     "output_type": "stream",
     "text": [
      "20572\n"
     ]
    },
    {
     "name": "stderr",
     "output_type": "stream",
     "text": [
      "/var/folders/x4/m6ss_3nn1vn52_2htr4xj3800000gp/T/ipykernel_14000/3859271102.py:25: FutureWarning: The frame.append method is deprecated and will be removed from pandas in a future version. Use pandas.concat instead.\n",
      "  resultados_df = resultados_df.append({'product_id': i, 'product_id_tn': serie_test, 'y_hat': yhat[0][1]}, ignore_index=True)\n"
     ]
    },
    {
     "name": "stdout",
     "output_type": "stream",
     "text": [
      "20573\n"
     ]
    },
    {
     "name": "stderr",
     "output_type": "stream",
     "text": [
      "/var/folders/x4/m6ss_3nn1vn52_2htr4xj3800000gp/T/ipykernel_14000/3859271102.py:25: FutureWarning: The frame.append method is deprecated and will be removed from pandas in a future version. Use pandas.concat instead.\n",
      "  resultados_df = resultados_df.append({'product_id': i, 'product_id_tn': serie_test, 'y_hat': yhat[0][1]}, ignore_index=True)\n"
     ]
    },
    {
     "name": "stdout",
     "output_type": "stream",
     "text": [
      "20574\n"
     ]
    },
    {
     "name": "stderr",
     "output_type": "stream",
     "text": [
      "/var/folders/x4/m6ss_3nn1vn52_2htr4xj3800000gp/T/ipykernel_14000/3859271102.py:25: FutureWarning: The frame.append method is deprecated and will be removed from pandas in a future version. Use pandas.concat instead.\n",
      "  resultados_df = resultados_df.append({'product_id': i, 'product_id_tn': serie_test, 'y_hat': yhat[0][1]}, ignore_index=True)\n"
     ]
    },
    {
     "name": "stdout",
     "output_type": "stream",
     "text": [
      "20576\n"
     ]
    },
    {
     "name": "stderr",
     "output_type": "stream",
     "text": [
      "/var/folders/x4/m6ss_3nn1vn52_2htr4xj3800000gp/T/ipykernel_14000/3859271102.py:25: FutureWarning: The frame.append method is deprecated and will be removed from pandas in a future version. Use pandas.concat instead.\n",
      "  resultados_df = resultados_df.append({'product_id': i, 'product_id_tn': serie_test, 'y_hat': yhat[0][1]}, ignore_index=True)\n"
     ]
    },
    {
     "name": "stdout",
     "output_type": "stream",
     "text": [
      "20578\n"
     ]
    },
    {
     "name": "stderr",
     "output_type": "stream",
     "text": [
      "/var/folders/x4/m6ss_3nn1vn52_2htr4xj3800000gp/T/ipykernel_14000/3859271102.py:25: FutureWarning: The frame.append method is deprecated and will be removed from pandas in a future version. Use pandas.concat instead.\n",
      "  resultados_df = resultados_df.append({'product_id': i, 'product_id_tn': serie_test, 'y_hat': yhat[0][1]}, ignore_index=True)\n"
     ]
    },
    {
     "name": "stdout",
     "output_type": "stream",
     "text": [
      "20579\n"
     ]
    },
    {
     "name": "stderr",
     "output_type": "stream",
     "text": [
      "/var/folders/x4/m6ss_3nn1vn52_2htr4xj3800000gp/T/ipykernel_14000/3859271102.py:25: FutureWarning: The frame.append method is deprecated and will be removed from pandas in a future version. Use pandas.concat instead.\n",
      "  resultados_df = resultados_df.append({'product_id': i, 'product_id_tn': serie_test, 'y_hat': yhat[0][1]}, ignore_index=True)\n"
     ]
    },
    {
     "name": "stdout",
     "output_type": "stream",
     "text": [
      "20581\n"
     ]
    },
    {
     "name": "stderr",
     "output_type": "stream",
     "text": [
      "/var/folders/x4/m6ss_3nn1vn52_2htr4xj3800000gp/T/ipykernel_14000/3859271102.py:25: FutureWarning: The frame.append method is deprecated and will be removed from pandas in a future version. Use pandas.concat instead.\n",
      "  resultados_df = resultados_df.append({'product_id': i, 'product_id_tn': serie_test, 'y_hat': yhat[0][1]}, ignore_index=True)\n"
     ]
    },
    {
     "name": "stdout",
     "output_type": "stream",
     "text": [
      "20582\n"
     ]
    },
    {
     "name": "stderr",
     "output_type": "stream",
     "text": [
      "/var/folders/x4/m6ss_3nn1vn52_2htr4xj3800000gp/T/ipykernel_14000/3859271102.py:25: FutureWarning: The frame.append method is deprecated and will be removed from pandas in a future version. Use pandas.concat instead.\n",
      "  resultados_df = resultados_df.append({'product_id': i, 'product_id_tn': serie_test, 'y_hat': yhat[0][1]}, ignore_index=True)\n"
     ]
    },
    {
     "name": "stdout",
     "output_type": "stream",
     "text": [
      "20583\n"
     ]
    },
    {
     "name": "stderr",
     "output_type": "stream",
     "text": [
      "/var/folders/x4/m6ss_3nn1vn52_2htr4xj3800000gp/T/ipykernel_14000/3859271102.py:25: FutureWarning: The frame.append method is deprecated and will be removed from pandas in a future version. Use pandas.concat instead.\n",
      "  resultados_df = resultados_df.append({'product_id': i, 'product_id_tn': serie_test, 'y_hat': yhat[0][1]}, ignore_index=True)\n"
     ]
    },
    {
     "name": "stdout",
     "output_type": "stream",
     "text": [
      "20584\n"
     ]
    },
    {
     "name": "stderr",
     "output_type": "stream",
     "text": [
      "/var/folders/x4/m6ss_3nn1vn52_2htr4xj3800000gp/T/ipykernel_14000/3859271102.py:25: FutureWarning: The frame.append method is deprecated and will be removed from pandas in a future version. Use pandas.concat instead.\n",
      "  resultados_df = resultados_df.append({'product_id': i, 'product_id_tn': serie_test, 'y_hat': yhat[0][1]}, ignore_index=True)\n"
     ]
    },
    {
     "name": "stdout",
     "output_type": "stream",
     "text": [
      "20585\n"
     ]
    },
    {
     "name": "stderr",
     "output_type": "stream",
     "text": [
      "/var/folders/x4/m6ss_3nn1vn52_2htr4xj3800000gp/T/ipykernel_14000/3859271102.py:25: FutureWarning: The frame.append method is deprecated and will be removed from pandas in a future version. Use pandas.concat instead.\n",
      "  resultados_df = resultados_df.append({'product_id': i, 'product_id_tn': serie_test, 'y_hat': yhat[0][1]}, ignore_index=True)\n"
     ]
    },
    {
     "name": "stdout",
     "output_type": "stream",
     "text": [
      "20586\n"
     ]
    },
    {
     "name": "stderr",
     "output_type": "stream",
     "text": [
      "/var/folders/x4/m6ss_3nn1vn52_2htr4xj3800000gp/T/ipykernel_14000/3859271102.py:25: FutureWarning: The frame.append method is deprecated and will be removed from pandas in a future version. Use pandas.concat instead.\n",
      "  resultados_df = resultados_df.append({'product_id': i, 'product_id_tn': serie_test, 'y_hat': yhat[0][1]}, ignore_index=True)\n"
     ]
    },
    {
     "name": "stdout",
     "output_type": "stream",
     "text": [
      "20587\n"
     ]
    },
    {
     "name": "stderr",
     "output_type": "stream",
     "text": [
      "/var/folders/x4/m6ss_3nn1vn52_2htr4xj3800000gp/T/ipykernel_14000/3859271102.py:25: FutureWarning: The frame.append method is deprecated and will be removed from pandas in a future version. Use pandas.concat instead.\n",
      "  resultados_df = resultados_df.append({'product_id': i, 'product_id_tn': serie_test, 'y_hat': yhat[0][1]}, ignore_index=True)\n"
     ]
    },
    {
     "name": "stdout",
     "output_type": "stream",
     "text": [
      "20588\n"
     ]
    },
    {
     "name": "stderr",
     "output_type": "stream",
     "text": [
      "/var/folders/x4/m6ss_3nn1vn52_2htr4xj3800000gp/T/ipykernel_14000/3859271102.py:25: FutureWarning: The frame.append method is deprecated and will be removed from pandas in a future version. Use pandas.concat instead.\n",
      "  resultados_df = resultados_df.append({'product_id': i, 'product_id_tn': serie_test, 'y_hat': yhat[0][1]}, ignore_index=True)\n"
     ]
    },
    {
     "name": "stdout",
     "output_type": "stream",
     "text": [
      "20589\n"
     ]
    },
    {
     "name": "stderr",
     "output_type": "stream",
     "text": [
      "/var/folders/x4/m6ss_3nn1vn52_2htr4xj3800000gp/T/ipykernel_14000/3859271102.py:25: FutureWarning: The frame.append method is deprecated and will be removed from pandas in a future version. Use pandas.concat instead.\n",
      "  resultados_df = resultados_df.append({'product_id': i, 'product_id_tn': serie_test, 'y_hat': yhat[0][1]}, ignore_index=True)\n"
     ]
    },
    {
     "name": "stdout",
     "output_type": "stream",
     "text": [
      "20590\n"
     ]
    },
    {
     "name": "stderr",
     "output_type": "stream",
     "text": [
      "/var/folders/x4/m6ss_3nn1vn52_2htr4xj3800000gp/T/ipykernel_14000/3859271102.py:25: FutureWarning: The frame.append method is deprecated and will be removed from pandas in a future version. Use pandas.concat instead.\n",
      "  resultados_df = resultados_df.append({'product_id': i, 'product_id_tn': serie_test, 'y_hat': yhat[0][1]}, ignore_index=True)\n"
     ]
    },
    {
     "name": "stdout",
     "output_type": "stream",
     "text": [
      "20591\n"
     ]
    },
    {
     "name": "stderr",
     "output_type": "stream",
     "text": [
      "/var/folders/x4/m6ss_3nn1vn52_2htr4xj3800000gp/T/ipykernel_14000/3859271102.py:25: FutureWarning: The frame.append method is deprecated and will be removed from pandas in a future version. Use pandas.concat instead.\n",
      "  resultados_df = resultados_df.append({'product_id': i, 'product_id_tn': serie_test, 'y_hat': yhat[0][1]}, ignore_index=True)\n"
     ]
    },
    {
     "name": "stdout",
     "output_type": "stream",
     "text": [
      "20594\n"
     ]
    },
    {
     "name": "stderr",
     "output_type": "stream",
     "text": [
      "/var/folders/x4/m6ss_3nn1vn52_2htr4xj3800000gp/T/ipykernel_14000/3859271102.py:25: FutureWarning: The frame.append method is deprecated and will be removed from pandas in a future version. Use pandas.concat instead.\n",
      "  resultados_df = resultados_df.append({'product_id': i, 'product_id_tn': serie_test, 'y_hat': yhat[0][1]}, ignore_index=True)\n"
     ]
    },
    {
     "name": "stdout",
     "output_type": "stream",
     "text": [
      "20595\n"
     ]
    },
    {
     "name": "stderr",
     "output_type": "stream",
     "text": [
      "/var/folders/x4/m6ss_3nn1vn52_2htr4xj3800000gp/T/ipykernel_14000/3859271102.py:25: FutureWarning: The frame.append method is deprecated and will be removed from pandas in a future version. Use pandas.concat instead.\n",
      "  resultados_df = resultados_df.append({'product_id': i, 'product_id_tn': serie_test, 'y_hat': yhat[0][1]}, ignore_index=True)\n"
     ]
    },
    {
     "name": "stdout",
     "output_type": "stream",
     "text": [
      "20596\n"
     ]
    },
    {
     "name": "stderr",
     "output_type": "stream",
     "text": [
      "/var/folders/x4/m6ss_3nn1vn52_2htr4xj3800000gp/T/ipykernel_14000/3859271102.py:25: FutureWarning: The frame.append method is deprecated and will be removed from pandas in a future version. Use pandas.concat instead.\n",
      "  resultados_df = resultados_df.append({'product_id': i, 'product_id_tn': serie_test, 'y_hat': yhat[0][1]}, ignore_index=True)\n"
     ]
    },
    {
     "name": "stdout",
     "output_type": "stream",
     "text": [
      "20597\n"
     ]
    },
    {
     "name": "stderr",
     "output_type": "stream",
     "text": [
      "/var/folders/x4/m6ss_3nn1vn52_2htr4xj3800000gp/T/ipykernel_14000/3859271102.py:25: FutureWarning: The frame.append method is deprecated and will be removed from pandas in a future version. Use pandas.concat instead.\n",
      "  resultados_df = resultados_df.append({'product_id': i, 'product_id_tn': serie_test, 'y_hat': yhat[0][1]}, ignore_index=True)\n"
     ]
    },
    {
     "name": "stdout",
     "output_type": "stream",
     "text": [
      "20598\n"
     ]
    },
    {
     "name": "stderr",
     "output_type": "stream",
     "text": [
      "/var/folders/x4/m6ss_3nn1vn52_2htr4xj3800000gp/T/ipykernel_14000/3859271102.py:25: FutureWarning: The frame.append method is deprecated and will be removed from pandas in a future version. Use pandas.concat instead.\n",
      "  resultados_df = resultados_df.append({'product_id': i, 'product_id_tn': serie_test, 'y_hat': yhat[0][1]}, ignore_index=True)\n"
     ]
    },
    {
     "name": "stdout",
     "output_type": "stream",
     "text": [
      "20599\n"
     ]
    },
    {
     "name": "stderr",
     "output_type": "stream",
     "text": [
      "/var/folders/x4/m6ss_3nn1vn52_2htr4xj3800000gp/T/ipykernel_14000/3859271102.py:25: FutureWarning: The frame.append method is deprecated and will be removed from pandas in a future version. Use pandas.concat instead.\n",
      "  resultados_df = resultados_df.append({'product_id': i, 'product_id_tn': serie_test, 'y_hat': yhat[0][1]}, ignore_index=True)\n"
     ]
    },
    {
     "name": "stdout",
     "output_type": "stream",
     "text": [
      "20600\n"
     ]
    },
    {
     "name": "stderr",
     "output_type": "stream",
     "text": [
      "/var/folders/x4/m6ss_3nn1vn52_2htr4xj3800000gp/T/ipykernel_14000/3859271102.py:25: FutureWarning: The frame.append method is deprecated and will be removed from pandas in a future version. Use pandas.concat instead.\n",
      "  resultados_df = resultados_df.append({'product_id': i, 'product_id_tn': serie_test, 'y_hat': yhat[0][1]}, ignore_index=True)\n"
     ]
    },
    {
     "name": "stdout",
     "output_type": "stream",
     "text": [
      "20601\n"
     ]
    },
    {
     "name": "stderr",
     "output_type": "stream",
     "text": [
      "/var/folders/x4/m6ss_3nn1vn52_2htr4xj3800000gp/T/ipykernel_14000/3859271102.py:25: FutureWarning: The frame.append method is deprecated and will be removed from pandas in a future version. Use pandas.concat instead.\n",
      "  resultados_df = resultados_df.append({'product_id': i, 'product_id_tn': serie_test, 'y_hat': yhat[0][1]}, ignore_index=True)\n"
     ]
    },
    {
     "name": "stdout",
     "output_type": "stream",
     "text": [
      "20602\n"
     ]
    },
    {
     "name": "stderr",
     "output_type": "stream",
     "text": [
      "/var/folders/x4/m6ss_3nn1vn52_2htr4xj3800000gp/T/ipykernel_14000/3859271102.py:25: FutureWarning: The frame.append method is deprecated and will be removed from pandas in a future version. Use pandas.concat instead.\n",
      "  resultados_df = resultados_df.append({'product_id': i, 'product_id_tn': serie_test, 'y_hat': yhat[0][1]}, ignore_index=True)\n"
     ]
    },
    {
     "name": "stdout",
     "output_type": "stream",
     "text": [
      "20604\n"
     ]
    },
    {
     "name": "stderr",
     "output_type": "stream",
     "text": [
      "/var/folders/x4/m6ss_3nn1vn52_2htr4xj3800000gp/T/ipykernel_14000/3859271102.py:25: FutureWarning: The frame.append method is deprecated and will be removed from pandas in a future version. Use pandas.concat instead.\n",
      "  resultados_df = resultados_df.append({'product_id': i, 'product_id_tn': serie_test, 'y_hat': yhat[0][1]}, ignore_index=True)\n"
     ]
    },
    {
     "name": "stdout",
     "output_type": "stream",
     "text": [
      "20605\n"
     ]
    },
    {
     "name": "stderr",
     "output_type": "stream",
     "text": [
      "/var/folders/x4/m6ss_3nn1vn52_2htr4xj3800000gp/T/ipykernel_14000/3859271102.py:25: FutureWarning: The frame.append method is deprecated and will be removed from pandas in a future version. Use pandas.concat instead.\n",
      "  resultados_df = resultados_df.append({'product_id': i, 'product_id_tn': serie_test, 'y_hat': yhat[0][1]}, ignore_index=True)\n"
     ]
    },
    {
     "name": "stdout",
     "output_type": "stream",
     "text": [
      "20606\n"
     ]
    },
    {
     "name": "stderr",
     "output_type": "stream",
     "text": [
      "/var/folders/x4/m6ss_3nn1vn52_2htr4xj3800000gp/T/ipykernel_14000/3859271102.py:25: FutureWarning: The frame.append method is deprecated and will be removed from pandas in a future version. Use pandas.concat instead.\n",
      "  resultados_df = resultados_df.append({'product_id': i, 'product_id_tn': serie_test, 'y_hat': yhat[0][1]}, ignore_index=True)\n"
     ]
    },
    {
     "name": "stdout",
     "output_type": "stream",
     "text": [
      "20607\n"
     ]
    },
    {
     "name": "stderr",
     "output_type": "stream",
     "text": [
      "/var/folders/x4/m6ss_3nn1vn52_2htr4xj3800000gp/T/ipykernel_14000/3859271102.py:25: FutureWarning: The frame.append method is deprecated and will be removed from pandas in a future version. Use pandas.concat instead.\n",
      "  resultados_df = resultados_df.append({'product_id': i, 'product_id_tn': serie_test, 'y_hat': yhat[0][1]}, ignore_index=True)\n"
     ]
    },
    {
     "name": "stdout",
     "output_type": "stream",
     "text": [
      "20608\n"
     ]
    },
    {
     "name": "stderr",
     "output_type": "stream",
     "text": [
      "/var/folders/x4/m6ss_3nn1vn52_2htr4xj3800000gp/T/ipykernel_14000/3859271102.py:25: FutureWarning: The frame.append method is deprecated and will be removed from pandas in a future version. Use pandas.concat instead.\n",
      "  resultados_df = resultados_df.append({'product_id': i, 'product_id_tn': serie_test, 'y_hat': yhat[0][1]}, ignore_index=True)\n"
     ]
    },
    {
     "name": "stdout",
     "output_type": "stream",
     "text": [
      "20609\n"
     ]
    },
    {
     "name": "stderr",
     "output_type": "stream",
     "text": [
      "/var/folders/x4/m6ss_3nn1vn52_2htr4xj3800000gp/T/ipykernel_14000/3859271102.py:25: FutureWarning: The frame.append method is deprecated and will be removed from pandas in a future version. Use pandas.concat instead.\n",
      "  resultados_df = resultados_df.append({'product_id': i, 'product_id_tn': serie_test, 'y_hat': yhat[0][1]}, ignore_index=True)\n"
     ]
    },
    {
     "name": "stdout",
     "output_type": "stream",
     "text": [
      "20610\n"
     ]
    },
    {
     "name": "stderr",
     "output_type": "stream",
     "text": [
      "/var/folders/x4/m6ss_3nn1vn52_2htr4xj3800000gp/T/ipykernel_14000/3859271102.py:25: FutureWarning: The frame.append method is deprecated and will be removed from pandas in a future version. Use pandas.concat instead.\n",
      "  resultados_df = resultados_df.append({'product_id': i, 'product_id_tn': serie_test, 'y_hat': yhat[0][1]}, ignore_index=True)\n"
     ]
    },
    {
     "name": "stdout",
     "output_type": "stream",
     "text": [
      "20611\n"
     ]
    },
    {
     "name": "stderr",
     "output_type": "stream",
     "text": [
      "/var/folders/x4/m6ss_3nn1vn52_2htr4xj3800000gp/T/ipykernel_14000/3859271102.py:25: FutureWarning: The frame.append method is deprecated and will be removed from pandas in a future version. Use pandas.concat instead.\n",
      "  resultados_df = resultados_df.append({'product_id': i, 'product_id_tn': serie_test, 'y_hat': yhat[0][1]}, ignore_index=True)\n"
     ]
    },
    {
     "name": "stdout",
     "output_type": "stream",
     "text": [
      "20612\n"
     ]
    },
    {
     "name": "stderr",
     "output_type": "stream",
     "text": [
      "/var/folders/x4/m6ss_3nn1vn52_2htr4xj3800000gp/T/ipykernel_14000/3859271102.py:25: FutureWarning: The frame.append method is deprecated and will be removed from pandas in a future version. Use pandas.concat instead.\n",
      "  resultados_df = resultados_df.append({'product_id': i, 'product_id_tn': serie_test, 'y_hat': yhat[0][1]}, ignore_index=True)\n"
     ]
    },
    {
     "name": "stdout",
     "output_type": "stream",
     "text": [
      "20613\n"
     ]
    },
    {
     "name": "stderr",
     "output_type": "stream",
     "text": [
      "/var/folders/x4/m6ss_3nn1vn52_2htr4xj3800000gp/T/ipykernel_14000/3859271102.py:25: FutureWarning: The frame.append method is deprecated and will be removed from pandas in a future version. Use pandas.concat instead.\n",
      "  resultados_df = resultados_df.append({'product_id': i, 'product_id_tn': serie_test, 'y_hat': yhat[0][1]}, ignore_index=True)\n"
     ]
    },
    {
     "name": "stdout",
     "output_type": "stream",
     "text": [
      "20614\n"
     ]
    },
    {
     "name": "stderr",
     "output_type": "stream",
     "text": [
      "/var/folders/x4/m6ss_3nn1vn52_2htr4xj3800000gp/T/ipykernel_14000/3859271102.py:25: FutureWarning: The frame.append method is deprecated and will be removed from pandas in a future version. Use pandas.concat instead.\n",
      "  resultados_df = resultados_df.append({'product_id': i, 'product_id_tn': serie_test, 'y_hat': yhat[0][1]}, ignore_index=True)\n"
     ]
    },
    {
     "name": "stdout",
     "output_type": "stream",
     "text": [
      "20616\n"
     ]
    },
    {
     "name": "stderr",
     "output_type": "stream",
     "text": [
      "/var/folders/x4/m6ss_3nn1vn52_2htr4xj3800000gp/T/ipykernel_14000/3859271102.py:25: FutureWarning: The frame.append method is deprecated and will be removed from pandas in a future version. Use pandas.concat instead.\n",
      "  resultados_df = resultados_df.append({'product_id': i, 'product_id_tn': serie_test, 'y_hat': yhat[0][1]}, ignore_index=True)\n"
     ]
    },
    {
     "name": "stdout",
     "output_type": "stream",
     "text": [
      "20617\n"
     ]
    },
    {
     "name": "stderr",
     "output_type": "stream",
     "text": [
      "/var/folders/x4/m6ss_3nn1vn52_2htr4xj3800000gp/T/ipykernel_14000/3859271102.py:25: FutureWarning: The frame.append method is deprecated and will be removed from pandas in a future version. Use pandas.concat instead.\n",
      "  resultados_df = resultados_df.append({'product_id': i, 'product_id_tn': serie_test, 'y_hat': yhat[0][1]}, ignore_index=True)\n"
     ]
    },
    {
     "name": "stdout",
     "output_type": "stream",
     "text": [
      "20618\n"
     ]
    },
    {
     "name": "stderr",
     "output_type": "stream",
     "text": [
      "/var/folders/x4/m6ss_3nn1vn52_2htr4xj3800000gp/T/ipykernel_14000/3859271102.py:25: FutureWarning: The frame.append method is deprecated and will be removed from pandas in a future version. Use pandas.concat instead.\n",
      "  resultados_df = resultados_df.append({'product_id': i, 'product_id_tn': serie_test, 'y_hat': yhat[0][1]}, ignore_index=True)\n"
     ]
    },
    {
     "name": "stdout",
     "output_type": "stream",
     "text": [
      "20619\n"
     ]
    },
    {
     "name": "stderr",
     "output_type": "stream",
     "text": [
      "/var/folders/x4/m6ss_3nn1vn52_2htr4xj3800000gp/T/ipykernel_14000/3859271102.py:25: FutureWarning: The frame.append method is deprecated and will be removed from pandas in a future version. Use pandas.concat instead.\n",
      "  resultados_df = resultados_df.append({'product_id': i, 'product_id_tn': serie_test, 'y_hat': yhat[0][1]}, ignore_index=True)\n"
     ]
    },
    {
     "name": "stdout",
     "output_type": "stream",
     "text": [
      "20622\n"
     ]
    },
    {
     "name": "stderr",
     "output_type": "stream",
     "text": [
      "/var/folders/x4/m6ss_3nn1vn52_2htr4xj3800000gp/T/ipykernel_14000/3859271102.py:25: FutureWarning: The frame.append method is deprecated and will be removed from pandas in a future version. Use pandas.concat instead.\n",
      "  resultados_df = resultados_df.append({'product_id': i, 'product_id_tn': serie_test, 'y_hat': yhat[0][1]}, ignore_index=True)\n"
     ]
    },
    {
     "name": "stdout",
     "output_type": "stream",
     "text": [
      "20624\n"
     ]
    },
    {
     "name": "stderr",
     "output_type": "stream",
     "text": [
      "/var/folders/x4/m6ss_3nn1vn52_2htr4xj3800000gp/T/ipykernel_14000/3859271102.py:25: FutureWarning: The frame.append method is deprecated and will be removed from pandas in a future version. Use pandas.concat instead.\n",
      "  resultados_df = resultados_df.append({'product_id': i, 'product_id_tn': serie_test, 'y_hat': yhat[0][1]}, ignore_index=True)\n"
     ]
    },
    {
     "name": "stdout",
     "output_type": "stream",
     "text": [
      "20625\n"
     ]
    },
    {
     "name": "stderr",
     "output_type": "stream",
     "text": [
      "/var/folders/x4/m6ss_3nn1vn52_2htr4xj3800000gp/T/ipykernel_14000/3859271102.py:25: FutureWarning: The frame.append method is deprecated and will be removed from pandas in a future version. Use pandas.concat instead.\n",
      "  resultados_df = resultados_df.append({'product_id': i, 'product_id_tn': serie_test, 'y_hat': yhat[0][1]}, ignore_index=True)\n"
     ]
    },
    {
     "name": "stdout",
     "output_type": "stream",
     "text": [
      "20628\n"
     ]
    },
    {
     "name": "stderr",
     "output_type": "stream",
     "text": [
      "/var/folders/x4/m6ss_3nn1vn52_2htr4xj3800000gp/T/ipykernel_14000/3859271102.py:25: FutureWarning: The frame.append method is deprecated and will be removed from pandas in a future version. Use pandas.concat instead.\n",
      "  resultados_df = resultados_df.append({'product_id': i, 'product_id_tn': serie_test, 'y_hat': yhat[0][1]}, ignore_index=True)\n"
     ]
    },
    {
     "name": "stdout",
     "output_type": "stream",
     "text": [
      "20629\n"
     ]
    },
    {
     "name": "stderr",
     "output_type": "stream",
     "text": [
      "/var/folders/x4/m6ss_3nn1vn52_2htr4xj3800000gp/T/ipykernel_14000/3859271102.py:25: FutureWarning: The frame.append method is deprecated and will be removed from pandas in a future version. Use pandas.concat instead.\n",
      "  resultados_df = resultados_df.append({'product_id': i, 'product_id_tn': serie_test, 'y_hat': yhat[0][1]}, ignore_index=True)\n"
     ]
    },
    {
     "name": "stdout",
     "output_type": "stream",
     "text": [
      "20630\n"
     ]
    },
    {
     "name": "stderr",
     "output_type": "stream",
     "text": [
      "/var/folders/x4/m6ss_3nn1vn52_2htr4xj3800000gp/T/ipykernel_14000/3859271102.py:25: FutureWarning: The frame.append method is deprecated and will be removed from pandas in a future version. Use pandas.concat instead.\n",
      "  resultados_df = resultados_df.append({'product_id': i, 'product_id_tn': serie_test, 'y_hat': yhat[0][1]}, ignore_index=True)\n"
     ]
    },
    {
     "name": "stdout",
     "output_type": "stream",
     "text": [
      "20632\n"
     ]
    },
    {
     "name": "stderr",
     "output_type": "stream",
     "text": [
      "/var/folders/x4/m6ss_3nn1vn52_2htr4xj3800000gp/T/ipykernel_14000/3859271102.py:25: FutureWarning: The frame.append method is deprecated and will be removed from pandas in a future version. Use pandas.concat instead.\n",
      "  resultados_df = resultados_df.append({'product_id': i, 'product_id_tn': serie_test, 'y_hat': yhat[0][1]}, ignore_index=True)\n"
     ]
    },
    {
     "name": "stdout",
     "output_type": "stream",
     "text": [
      "20634\n"
     ]
    },
    {
     "name": "stderr",
     "output_type": "stream",
     "text": [
      "/var/folders/x4/m6ss_3nn1vn52_2htr4xj3800000gp/T/ipykernel_14000/3859271102.py:25: FutureWarning: The frame.append method is deprecated and will be removed from pandas in a future version. Use pandas.concat instead.\n",
      "  resultados_df = resultados_df.append({'product_id': i, 'product_id_tn': serie_test, 'y_hat': yhat[0][1]}, ignore_index=True)\n"
     ]
    },
    {
     "name": "stdout",
     "output_type": "stream",
     "text": [
      "20635\n"
     ]
    },
    {
     "name": "stderr",
     "output_type": "stream",
     "text": [
      "/var/folders/x4/m6ss_3nn1vn52_2htr4xj3800000gp/T/ipykernel_14000/3859271102.py:25: FutureWarning: The frame.append method is deprecated and will be removed from pandas in a future version. Use pandas.concat instead.\n",
      "  resultados_df = resultados_df.append({'product_id': i, 'product_id_tn': serie_test, 'y_hat': yhat[0][1]}, ignore_index=True)\n"
     ]
    },
    {
     "name": "stdout",
     "output_type": "stream",
     "text": [
      "20636\n"
     ]
    },
    {
     "name": "stderr",
     "output_type": "stream",
     "text": [
      "/var/folders/x4/m6ss_3nn1vn52_2htr4xj3800000gp/T/ipykernel_14000/3859271102.py:25: FutureWarning: The frame.append method is deprecated and will be removed from pandas in a future version. Use pandas.concat instead.\n",
      "  resultados_df = resultados_df.append({'product_id': i, 'product_id_tn': serie_test, 'y_hat': yhat[0][1]}, ignore_index=True)\n"
     ]
    },
    {
     "name": "stdout",
     "output_type": "stream",
     "text": [
      "20637\n"
     ]
    },
    {
     "name": "stderr",
     "output_type": "stream",
     "text": [
      "/var/folders/x4/m6ss_3nn1vn52_2htr4xj3800000gp/T/ipykernel_14000/3859271102.py:25: FutureWarning: The frame.append method is deprecated and will be removed from pandas in a future version. Use pandas.concat instead.\n",
      "  resultados_df = resultados_df.append({'product_id': i, 'product_id_tn': serie_test, 'y_hat': yhat[0][1]}, ignore_index=True)\n"
     ]
    },
    {
     "name": "stdout",
     "output_type": "stream",
     "text": [
      "20638\n"
     ]
    },
    {
     "name": "stderr",
     "output_type": "stream",
     "text": [
      "/var/folders/x4/m6ss_3nn1vn52_2htr4xj3800000gp/T/ipykernel_14000/3859271102.py:25: FutureWarning: The frame.append method is deprecated and will be removed from pandas in a future version. Use pandas.concat instead.\n",
      "  resultados_df = resultados_df.append({'product_id': i, 'product_id_tn': serie_test, 'y_hat': yhat[0][1]}, ignore_index=True)\n"
     ]
    },
    {
     "name": "stdout",
     "output_type": "stream",
     "text": [
      "20639\n"
     ]
    },
    {
     "name": "stderr",
     "output_type": "stream",
     "text": [
      "/var/folders/x4/m6ss_3nn1vn52_2htr4xj3800000gp/T/ipykernel_14000/3859271102.py:25: FutureWarning: The frame.append method is deprecated and will be removed from pandas in a future version. Use pandas.concat instead.\n",
      "  resultados_df = resultados_df.append({'product_id': i, 'product_id_tn': serie_test, 'y_hat': yhat[0][1]}, ignore_index=True)\n"
     ]
    },
    {
     "name": "stdout",
     "output_type": "stream",
     "text": [
      "20640\n"
     ]
    },
    {
     "name": "stderr",
     "output_type": "stream",
     "text": [
      "/var/folders/x4/m6ss_3nn1vn52_2htr4xj3800000gp/T/ipykernel_14000/3859271102.py:25: FutureWarning: The frame.append method is deprecated and will be removed from pandas in a future version. Use pandas.concat instead.\n",
      "  resultados_df = resultados_df.append({'product_id': i, 'product_id_tn': serie_test, 'y_hat': yhat[0][1]}, ignore_index=True)\n"
     ]
    },
    {
     "name": "stdout",
     "output_type": "stream",
     "text": [
      "20641\n"
     ]
    },
    {
     "name": "stderr",
     "output_type": "stream",
     "text": [
      "/var/folders/x4/m6ss_3nn1vn52_2htr4xj3800000gp/T/ipykernel_14000/3859271102.py:25: FutureWarning: The frame.append method is deprecated and will be removed from pandas in a future version. Use pandas.concat instead.\n",
      "  resultados_df = resultados_df.append({'product_id': i, 'product_id_tn': serie_test, 'y_hat': yhat[0][1]}, ignore_index=True)\n"
     ]
    },
    {
     "name": "stdout",
     "output_type": "stream",
     "text": [
      "20642\n"
     ]
    },
    {
     "name": "stderr",
     "output_type": "stream",
     "text": [
      "/var/folders/x4/m6ss_3nn1vn52_2htr4xj3800000gp/T/ipykernel_14000/3859271102.py:25: FutureWarning: The frame.append method is deprecated and will be removed from pandas in a future version. Use pandas.concat instead.\n",
      "  resultados_df = resultados_df.append({'product_id': i, 'product_id_tn': serie_test, 'y_hat': yhat[0][1]}, ignore_index=True)\n"
     ]
    },
    {
     "name": "stdout",
     "output_type": "stream",
     "text": [
      "20643\n"
     ]
    },
    {
     "name": "stderr",
     "output_type": "stream",
     "text": [
      "/var/folders/x4/m6ss_3nn1vn52_2htr4xj3800000gp/T/ipykernel_14000/3859271102.py:25: FutureWarning: The frame.append method is deprecated and will be removed from pandas in a future version. Use pandas.concat instead.\n",
      "  resultados_df = resultados_df.append({'product_id': i, 'product_id_tn': serie_test, 'y_hat': yhat[0][1]}, ignore_index=True)\n"
     ]
    },
    {
     "name": "stdout",
     "output_type": "stream",
     "text": [
      "20644\n"
     ]
    },
    {
     "name": "stderr",
     "output_type": "stream",
     "text": [
      "/var/folders/x4/m6ss_3nn1vn52_2htr4xj3800000gp/T/ipykernel_14000/3859271102.py:25: FutureWarning: The frame.append method is deprecated and will be removed from pandas in a future version. Use pandas.concat instead.\n",
      "  resultados_df = resultados_df.append({'product_id': i, 'product_id_tn': serie_test, 'y_hat': yhat[0][1]}, ignore_index=True)\n"
     ]
    },
    {
     "name": "stdout",
     "output_type": "stream",
     "text": [
      "20645\n"
     ]
    },
    {
     "name": "stderr",
     "output_type": "stream",
     "text": [
      "/var/folders/x4/m6ss_3nn1vn52_2htr4xj3800000gp/T/ipykernel_14000/3859271102.py:25: FutureWarning: The frame.append method is deprecated and will be removed from pandas in a future version. Use pandas.concat instead.\n",
      "  resultados_df = resultados_df.append({'product_id': i, 'product_id_tn': serie_test, 'y_hat': yhat[0][1]}, ignore_index=True)\n"
     ]
    },
    {
     "name": "stdout",
     "output_type": "stream",
     "text": [
      "20646\n"
     ]
    },
    {
     "name": "stderr",
     "output_type": "stream",
     "text": [
      "/var/folders/x4/m6ss_3nn1vn52_2htr4xj3800000gp/T/ipykernel_14000/3859271102.py:25: FutureWarning: The frame.append method is deprecated and will be removed from pandas in a future version. Use pandas.concat instead.\n",
      "  resultados_df = resultados_df.append({'product_id': i, 'product_id_tn': serie_test, 'y_hat': yhat[0][1]}, ignore_index=True)\n"
     ]
    },
    {
     "name": "stdout",
     "output_type": "stream",
     "text": [
      "20647\n"
     ]
    },
    {
     "name": "stderr",
     "output_type": "stream",
     "text": [
      "/var/folders/x4/m6ss_3nn1vn52_2htr4xj3800000gp/T/ipykernel_14000/3859271102.py:25: FutureWarning: The frame.append method is deprecated and will be removed from pandas in a future version. Use pandas.concat instead.\n",
      "  resultados_df = resultados_df.append({'product_id': i, 'product_id_tn': serie_test, 'y_hat': yhat[0][1]}, ignore_index=True)\n"
     ]
    },
    {
     "name": "stdout",
     "output_type": "stream",
     "text": [
      "20648\n"
     ]
    },
    {
     "name": "stderr",
     "output_type": "stream",
     "text": [
      "/var/folders/x4/m6ss_3nn1vn52_2htr4xj3800000gp/T/ipykernel_14000/3859271102.py:25: FutureWarning: The frame.append method is deprecated and will be removed from pandas in a future version. Use pandas.concat instead.\n",
      "  resultados_df = resultados_df.append({'product_id': i, 'product_id_tn': serie_test, 'y_hat': yhat[0][1]}, ignore_index=True)\n"
     ]
    },
    {
     "name": "stdout",
     "output_type": "stream",
     "text": [
      "20650\n"
     ]
    },
    {
     "name": "stderr",
     "output_type": "stream",
     "text": [
      "/var/folders/x4/m6ss_3nn1vn52_2htr4xj3800000gp/T/ipykernel_14000/3859271102.py:25: FutureWarning: The frame.append method is deprecated and will be removed from pandas in a future version. Use pandas.concat instead.\n",
      "  resultados_df = resultados_df.append({'product_id': i, 'product_id_tn': serie_test, 'y_hat': yhat[0][1]}, ignore_index=True)\n"
     ]
    },
    {
     "name": "stdout",
     "output_type": "stream",
     "text": [
      "20651\n"
     ]
    },
    {
     "name": "stderr",
     "output_type": "stream",
     "text": [
      "/var/folders/x4/m6ss_3nn1vn52_2htr4xj3800000gp/T/ipykernel_14000/3859271102.py:25: FutureWarning: The frame.append method is deprecated and will be removed from pandas in a future version. Use pandas.concat instead.\n",
      "  resultados_df = resultados_df.append({'product_id': i, 'product_id_tn': serie_test, 'y_hat': yhat[0][1]}, ignore_index=True)\n"
     ]
    },
    {
     "name": "stdout",
     "output_type": "stream",
     "text": [
      "20652\n"
     ]
    },
    {
     "name": "stderr",
     "output_type": "stream",
     "text": [
      "/var/folders/x4/m6ss_3nn1vn52_2htr4xj3800000gp/T/ipykernel_14000/3859271102.py:25: FutureWarning: The frame.append method is deprecated and will be removed from pandas in a future version. Use pandas.concat instead.\n",
      "  resultados_df = resultados_df.append({'product_id': i, 'product_id_tn': serie_test, 'y_hat': yhat[0][1]}, ignore_index=True)\n"
     ]
    },
    {
     "name": "stdout",
     "output_type": "stream",
     "text": [
      "20653\n"
     ]
    },
    {
     "name": "stderr",
     "output_type": "stream",
     "text": [
      "/var/folders/x4/m6ss_3nn1vn52_2htr4xj3800000gp/T/ipykernel_14000/3859271102.py:25: FutureWarning: The frame.append method is deprecated and will be removed from pandas in a future version. Use pandas.concat instead.\n",
      "  resultados_df = resultados_df.append({'product_id': i, 'product_id_tn': serie_test, 'y_hat': yhat[0][1]}, ignore_index=True)\n"
     ]
    },
    {
     "name": "stdout",
     "output_type": "stream",
     "text": [
      "20654\n"
     ]
    },
    {
     "name": "stderr",
     "output_type": "stream",
     "text": [
      "/var/folders/x4/m6ss_3nn1vn52_2htr4xj3800000gp/T/ipykernel_14000/3859271102.py:25: FutureWarning: The frame.append method is deprecated and will be removed from pandas in a future version. Use pandas.concat instead.\n",
      "  resultados_df = resultados_df.append({'product_id': i, 'product_id_tn': serie_test, 'y_hat': yhat[0][1]}, ignore_index=True)\n"
     ]
    },
    {
     "name": "stdout",
     "output_type": "stream",
     "text": [
      "20655\n"
     ]
    },
    {
     "name": "stderr",
     "output_type": "stream",
     "text": [
      "/var/folders/x4/m6ss_3nn1vn52_2htr4xj3800000gp/T/ipykernel_14000/3859271102.py:25: FutureWarning: The frame.append method is deprecated and will be removed from pandas in a future version. Use pandas.concat instead.\n",
      "  resultados_df = resultados_df.append({'product_id': i, 'product_id_tn': serie_test, 'y_hat': yhat[0][1]}, ignore_index=True)\n"
     ]
    },
    {
     "name": "stdout",
     "output_type": "stream",
     "text": [
      "20656\n"
     ]
    },
    {
     "name": "stderr",
     "output_type": "stream",
     "text": [
      "/var/folders/x4/m6ss_3nn1vn52_2htr4xj3800000gp/T/ipykernel_14000/3859271102.py:25: FutureWarning: The frame.append method is deprecated and will be removed from pandas in a future version. Use pandas.concat instead.\n",
      "  resultados_df = resultados_df.append({'product_id': i, 'product_id_tn': serie_test, 'y_hat': yhat[0][1]}, ignore_index=True)\n"
     ]
    },
    {
     "name": "stdout",
     "output_type": "stream",
     "text": [
      "20657\n"
     ]
    },
    {
     "name": "stderr",
     "output_type": "stream",
     "text": [
      "/var/folders/x4/m6ss_3nn1vn52_2htr4xj3800000gp/T/ipykernel_14000/3859271102.py:25: FutureWarning: The frame.append method is deprecated and will be removed from pandas in a future version. Use pandas.concat instead.\n",
      "  resultados_df = resultados_df.append({'product_id': i, 'product_id_tn': serie_test, 'y_hat': yhat[0][1]}, ignore_index=True)\n"
     ]
    },
    {
     "name": "stdout",
     "output_type": "stream",
     "text": [
      "20658\n"
     ]
    },
    {
     "name": "stderr",
     "output_type": "stream",
     "text": [
      "/var/folders/x4/m6ss_3nn1vn52_2htr4xj3800000gp/T/ipykernel_14000/3859271102.py:25: FutureWarning: The frame.append method is deprecated and will be removed from pandas in a future version. Use pandas.concat instead.\n",
      "  resultados_df = resultados_df.append({'product_id': i, 'product_id_tn': serie_test, 'y_hat': yhat[0][1]}, ignore_index=True)\n"
     ]
    },
    {
     "name": "stdout",
     "output_type": "stream",
     "text": [
      "20660\n"
     ]
    },
    {
     "name": "stderr",
     "output_type": "stream",
     "text": [
      "/var/folders/x4/m6ss_3nn1vn52_2htr4xj3800000gp/T/ipykernel_14000/3859271102.py:25: FutureWarning: The frame.append method is deprecated and will be removed from pandas in a future version. Use pandas.concat instead.\n",
      "  resultados_df = resultados_df.append({'product_id': i, 'product_id_tn': serie_test, 'y_hat': yhat[0][1]}, ignore_index=True)\n"
     ]
    },
    {
     "name": "stdout",
     "output_type": "stream",
     "text": [
      "20661\n"
     ]
    },
    {
     "name": "stderr",
     "output_type": "stream",
     "text": [
      "/var/folders/x4/m6ss_3nn1vn52_2htr4xj3800000gp/T/ipykernel_14000/3859271102.py:25: FutureWarning: The frame.append method is deprecated and will be removed from pandas in a future version. Use pandas.concat instead.\n",
      "  resultados_df = resultados_df.append({'product_id': i, 'product_id_tn': serie_test, 'y_hat': yhat[0][1]}, ignore_index=True)\n"
     ]
    },
    {
     "name": "stdout",
     "output_type": "stream",
     "text": [
      "20663\n"
     ]
    },
    {
     "name": "stderr",
     "output_type": "stream",
     "text": [
      "/var/folders/x4/m6ss_3nn1vn52_2htr4xj3800000gp/T/ipykernel_14000/3859271102.py:25: FutureWarning: The frame.append method is deprecated and will be removed from pandas in a future version. Use pandas.concat instead.\n",
      "  resultados_df = resultados_df.append({'product_id': i, 'product_id_tn': serie_test, 'y_hat': yhat[0][1]}, ignore_index=True)\n"
     ]
    },
    {
     "name": "stdout",
     "output_type": "stream",
     "text": [
      "20664\n"
     ]
    },
    {
     "name": "stderr",
     "output_type": "stream",
     "text": [
      "/var/folders/x4/m6ss_3nn1vn52_2htr4xj3800000gp/T/ipykernel_14000/3859271102.py:25: FutureWarning: The frame.append method is deprecated and will be removed from pandas in a future version. Use pandas.concat instead.\n",
      "  resultados_df = resultados_df.append({'product_id': i, 'product_id_tn': serie_test, 'y_hat': yhat[0][1]}, ignore_index=True)\n"
     ]
    },
    {
     "name": "stdout",
     "output_type": "stream",
     "text": [
      "20665\n"
     ]
    },
    {
     "name": "stderr",
     "output_type": "stream",
     "text": [
      "/var/folders/x4/m6ss_3nn1vn52_2htr4xj3800000gp/T/ipykernel_14000/3859271102.py:25: FutureWarning: The frame.append method is deprecated and will be removed from pandas in a future version. Use pandas.concat instead.\n",
      "  resultados_df = resultados_df.append({'product_id': i, 'product_id_tn': serie_test, 'y_hat': yhat[0][1]}, ignore_index=True)\n"
     ]
    },
    {
     "name": "stdout",
     "output_type": "stream",
     "text": [
      "20666\n"
     ]
    },
    {
     "name": "stderr",
     "output_type": "stream",
     "text": [
      "/var/folders/x4/m6ss_3nn1vn52_2htr4xj3800000gp/T/ipykernel_14000/3859271102.py:25: FutureWarning: The frame.append method is deprecated and will be removed from pandas in a future version. Use pandas.concat instead.\n",
      "  resultados_df = resultados_df.append({'product_id': i, 'product_id_tn': serie_test, 'y_hat': yhat[0][1]}, ignore_index=True)\n"
     ]
    },
    {
     "name": "stdout",
     "output_type": "stream",
     "text": [
      "20667\n"
     ]
    },
    {
     "name": "stderr",
     "output_type": "stream",
     "text": [
      "/var/folders/x4/m6ss_3nn1vn52_2htr4xj3800000gp/T/ipykernel_14000/3859271102.py:25: FutureWarning: The frame.append method is deprecated and will be removed from pandas in a future version. Use pandas.concat instead.\n",
      "  resultados_df = resultados_df.append({'product_id': i, 'product_id_tn': serie_test, 'y_hat': yhat[0][1]}, ignore_index=True)\n"
     ]
    },
    {
     "name": "stdout",
     "output_type": "stream",
     "text": [
      "20669\n"
     ]
    },
    {
     "name": "stderr",
     "output_type": "stream",
     "text": [
      "/var/folders/x4/m6ss_3nn1vn52_2htr4xj3800000gp/T/ipykernel_14000/3859271102.py:25: FutureWarning: The frame.append method is deprecated and will be removed from pandas in a future version. Use pandas.concat instead.\n",
      "  resultados_df = resultados_df.append({'product_id': i, 'product_id_tn': serie_test, 'y_hat': yhat[0][1]}, ignore_index=True)\n"
     ]
    },
    {
     "name": "stdout",
     "output_type": "stream",
     "text": [
      "20670\n"
     ]
    },
    {
     "name": "stderr",
     "output_type": "stream",
     "text": [
      "/var/folders/x4/m6ss_3nn1vn52_2htr4xj3800000gp/T/ipykernel_14000/3859271102.py:25: FutureWarning: The frame.append method is deprecated and will be removed from pandas in a future version. Use pandas.concat instead.\n",
      "  resultados_df = resultados_df.append({'product_id': i, 'product_id_tn': serie_test, 'y_hat': yhat[0][1]}, ignore_index=True)\n"
     ]
    },
    {
     "name": "stdout",
     "output_type": "stream",
     "text": [
      "20672\n"
     ]
    },
    {
     "name": "stderr",
     "output_type": "stream",
     "text": [
      "/var/folders/x4/m6ss_3nn1vn52_2htr4xj3800000gp/T/ipykernel_14000/3859271102.py:25: FutureWarning: The frame.append method is deprecated and will be removed from pandas in a future version. Use pandas.concat instead.\n",
      "  resultados_df = resultados_df.append({'product_id': i, 'product_id_tn': serie_test, 'y_hat': yhat[0][1]}, ignore_index=True)\n"
     ]
    },
    {
     "name": "stdout",
     "output_type": "stream",
     "text": [
      "20675\n"
     ]
    },
    {
     "name": "stderr",
     "output_type": "stream",
     "text": [
      "/var/folders/x4/m6ss_3nn1vn52_2htr4xj3800000gp/T/ipykernel_14000/3859271102.py:25: FutureWarning: The frame.append method is deprecated and will be removed from pandas in a future version. Use pandas.concat instead.\n",
      "  resultados_df = resultados_df.append({'product_id': i, 'product_id_tn': serie_test, 'y_hat': yhat[0][1]}, ignore_index=True)\n"
     ]
    },
    {
     "name": "stdout",
     "output_type": "stream",
     "text": [
      "20676\n"
     ]
    },
    {
     "name": "stderr",
     "output_type": "stream",
     "text": [
      "/var/folders/x4/m6ss_3nn1vn52_2htr4xj3800000gp/T/ipykernel_14000/3859271102.py:25: FutureWarning: The frame.append method is deprecated and will be removed from pandas in a future version. Use pandas.concat instead.\n",
      "  resultados_df = resultados_df.append({'product_id': i, 'product_id_tn': serie_test, 'y_hat': yhat[0][1]}, ignore_index=True)\n"
     ]
    },
    {
     "name": "stdout",
     "output_type": "stream",
     "text": [
      "20677\n"
     ]
    },
    {
     "name": "stderr",
     "output_type": "stream",
     "text": [
      "/var/folders/x4/m6ss_3nn1vn52_2htr4xj3800000gp/T/ipykernel_14000/3859271102.py:25: FutureWarning: The frame.append method is deprecated and will be removed from pandas in a future version. Use pandas.concat instead.\n",
      "  resultados_df = resultados_df.append({'product_id': i, 'product_id_tn': serie_test, 'y_hat': yhat[0][1]}, ignore_index=True)\n"
     ]
    },
    {
     "name": "stdout",
     "output_type": "stream",
     "text": [
      "20678\n"
     ]
    },
    {
     "name": "stderr",
     "output_type": "stream",
     "text": [
      "/var/folders/x4/m6ss_3nn1vn52_2htr4xj3800000gp/T/ipykernel_14000/3859271102.py:25: FutureWarning: The frame.append method is deprecated and will be removed from pandas in a future version. Use pandas.concat instead.\n",
      "  resultados_df = resultados_df.append({'product_id': i, 'product_id_tn': serie_test, 'y_hat': yhat[0][1]}, ignore_index=True)\n"
     ]
    },
    {
     "name": "stdout",
     "output_type": "stream",
     "text": [
      "20679\n"
     ]
    },
    {
     "name": "stderr",
     "output_type": "stream",
     "text": [
      "/var/folders/x4/m6ss_3nn1vn52_2htr4xj3800000gp/T/ipykernel_14000/3859271102.py:25: FutureWarning: The frame.append method is deprecated and will be removed from pandas in a future version. Use pandas.concat instead.\n",
      "  resultados_df = resultados_df.append({'product_id': i, 'product_id_tn': serie_test, 'y_hat': yhat[0][1]}, ignore_index=True)\n"
     ]
    },
    {
     "name": "stdout",
     "output_type": "stream",
     "text": [
      "20680\n"
     ]
    },
    {
     "name": "stderr",
     "output_type": "stream",
     "text": [
      "/var/folders/x4/m6ss_3nn1vn52_2htr4xj3800000gp/T/ipykernel_14000/3859271102.py:25: FutureWarning: The frame.append method is deprecated and will be removed from pandas in a future version. Use pandas.concat instead.\n",
      "  resultados_df = resultados_df.append({'product_id': i, 'product_id_tn': serie_test, 'y_hat': yhat[0][1]}, ignore_index=True)\n"
     ]
    },
    {
     "name": "stdout",
     "output_type": "stream",
     "text": [
      "20682\n"
     ]
    },
    {
     "name": "stderr",
     "output_type": "stream",
     "text": [
      "/var/folders/x4/m6ss_3nn1vn52_2htr4xj3800000gp/T/ipykernel_14000/3859271102.py:25: FutureWarning: The frame.append method is deprecated and will be removed from pandas in a future version. Use pandas.concat instead.\n",
      "  resultados_df = resultados_df.append({'product_id': i, 'product_id_tn': serie_test, 'y_hat': yhat[0][1]}, ignore_index=True)\n"
     ]
    },
    {
     "name": "stdout",
     "output_type": "stream",
     "text": [
      "20683\n"
     ]
    },
    {
     "name": "stderr",
     "output_type": "stream",
     "text": [
      "/var/folders/x4/m6ss_3nn1vn52_2htr4xj3800000gp/T/ipykernel_14000/3859271102.py:25: FutureWarning: The frame.append method is deprecated and will be removed from pandas in a future version. Use pandas.concat instead.\n",
      "  resultados_df = resultados_df.append({'product_id': i, 'product_id_tn': serie_test, 'y_hat': yhat[0][1]}, ignore_index=True)\n"
     ]
    },
    {
     "name": "stdout",
     "output_type": "stream",
     "text": [
      "20684\n"
     ]
    },
    {
     "name": "stderr",
     "output_type": "stream",
     "text": [
      "/var/folders/x4/m6ss_3nn1vn52_2htr4xj3800000gp/T/ipykernel_14000/3859271102.py:25: FutureWarning: The frame.append method is deprecated and will be removed from pandas in a future version. Use pandas.concat instead.\n",
      "  resultados_df = resultados_df.append({'product_id': i, 'product_id_tn': serie_test, 'y_hat': yhat[0][1]}, ignore_index=True)\n"
     ]
    },
    {
     "name": "stdout",
     "output_type": "stream",
     "text": [
      "20685\n"
     ]
    },
    {
     "name": "stderr",
     "output_type": "stream",
     "text": [
      "/var/folders/x4/m6ss_3nn1vn52_2htr4xj3800000gp/T/ipykernel_14000/3859271102.py:25: FutureWarning: The frame.append method is deprecated and will be removed from pandas in a future version. Use pandas.concat instead.\n",
      "  resultados_df = resultados_df.append({'product_id': i, 'product_id_tn': serie_test, 'y_hat': yhat[0][1]}, ignore_index=True)\n"
     ]
    },
    {
     "name": "stdout",
     "output_type": "stream",
     "text": [
      "20687\n"
     ]
    },
    {
     "name": "stderr",
     "output_type": "stream",
     "text": [
      "/var/folders/x4/m6ss_3nn1vn52_2htr4xj3800000gp/T/ipykernel_14000/3859271102.py:25: FutureWarning: The frame.append method is deprecated and will be removed from pandas in a future version. Use pandas.concat instead.\n",
      "  resultados_df = resultados_df.append({'product_id': i, 'product_id_tn': serie_test, 'y_hat': yhat[0][1]}, ignore_index=True)\n"
     ]
    },
    {
     "name": "stdout",
     "output_type": "stream",
     "text": [
      "20690\n"
     ]
    },
    {
     "name": "stderr",
     "output_type": "stream",
     "text": [
      "/var/folders/x4/m6ss_3nn1vn52_2htr4xj3800000gp/T/ipykernel_14000/3859271102.py:25: FutureWarning: The frame.append method is deprecated and will be removed from pandas in a future version. Use pandas.concat instead.\n",
      "  resultados_df = resultados_df.append({'product_id': i, 'product_id_tn': serie_test, 'y_hat': yhat[0][1]}, ignore_index=True)\n"
     ]
    },
    {
     "name": "stdout",
     "output_type": "stream",
     "text": [
      "20692\n"
     ]
    },
    {
     "name": "stderr",
     "output_type": "stream",
     "text": [
      "/var/folders/x4/m6ss_3nn1vn52_2htr4xj3800000gp/T/ipykernel_14000/3859271102.py:25: FutureWarning: The frame.append method is deprecated and will be removed from pandas in a future version. Use pandas.concat instead.\n",
      "  resultados_df = resultados_df.append({'product_id': i, 'product_id_tn': serie_test, 'y_hat': yhat[0][1]}, ignore_index=True)\n"
     ]
    },
    {
     "name": "stdout",
     "output_type": "stream",
     "text": [
      "20693\n"
     ]
    },
    {
     "name": "stderr",
     "output_type": "stream",
     "text": [
      "/var/folders/x4/m6ss_3nn1vn52_2htr4xj3800000gp/T/ipykernel_14000/3859271102.py:25: FutureWarning: The frame.append method is deprecated and will be removed from pandas in a future version. Use pandas.concat instead.\n",
      "  resultados_df = resultados_df.append({'product_id': i, 'product_id_tn': serie_test, 'y_hat': yhat[0][1]}, ignore_index=True)\n"
     ]
    },
    {
     "name": "stdout",
     "output_type": "stream",
     "text": [
      "20696\n"
     ]
    },
    {
     "name": "stderr",
     "output_type": "stream",
     "text": [
      "/var/folders/x4/m6ss_3nn1vn52_2htr4xj3800000gp/T/ipykernel_14000/3859271102.py:25: FutureWarning: The frame.append method is deprecated and will be removed from pandas in a future version. Use pandas.concat instead.\n",
      "  resultados_df = resultados_df.append({'product_id': i, 'product_id_tn': serie_test, 'y_hat': yhat[0][1]}, ignore_index=True)\n"
     ]
    },
    {
     "name": "stdout",
     "output_type": "stream",
     "text": [
      "20697\n"
     ]
    },
    {
     "name": "stderr",
     "output_type": "stream",
     "text": [
      "/var/folders/x4/m6ss_3nn1vn52_2htr4xj3800000gp/T/ipykernel_14000/3859271102.py:25: FutureWarning: The frame.append method is deprecated and will be removed from pandas in a future version. Use pandas.concat instead.\n",
      "  resultados_df = resultados_df.append({'product_id': i, 'product_id_tn': serie_test, 'y_hat': yhat[0][1]}, ignore_index=True)\n"
     ]
    },
    {
     "name": "stdout",
     "output_type": "stream",
     "text": [
      "20698\n"
     ]
    },
    {
     "name": "stderr",
     "output_type": "stream",
     "text": [
      "/var/folders/x4/m6ss_3nn1vn52_2htr4xj3800000gp/T/ipykernel_14000/3859271102.py:25: FutureWarning: The frame.append method is deprecated and will be removed from pandas in a future version. Use pandas.concat instead.\n",
      "  resultados_df = resultados_df.append({'product_id': i, 'product_id_tn': serie_test, 'y_hat': yhat[0][1]}, ignore_index=True)\n"
     ]
    },
    {
     "name": "stdout",
     "output_type": "stream",
     "text": [
      "20699\n"
     ]
    },
    {
     "name": "stderr",
     "output_type": "stream",
     "text": [
      "/var/folders/x4/m6ss_3nn1vn52_2htr4xj3800000gp/T/ipykernel_14000/3859271102.py:25: FutureWarning: The frame.append method is deprecated and will be removed from pandas in a future version. Use pandas.concat instead.\n",
      "  resultados_df = resultados_df.append({'product_id': i, 'product_id_tn': serie_test, 'y_hat': yhat[0][1]}, ignore_index=True)\n"
     ]
    },
    {
     "name": "stdout",
     "output_type": "stream",
     "text": [
      "20701\n"
     ]
    },
    {
     "name": "stderr",
     "output_type": "stream",
     "text": [
      "/var/folders/x4/m6ss_3nn1vn52_2htr4xj3800000gp/T/ipykernel_14000/3859271102.py:25: FutureWarning: The frame.append method is deprecated and will be removed from pandas in a future version. Use pandas.concat instead.\n",
      "  resultados_df = resultados_df.append({'product_id': i, 'product_id_tn': serie_test, 'y_hat': yhat[0][1]}, ignore_index=True)\n"
     ]
    },
    {
     "name": "stdout",
     "output_type": "stream",
     "text": [
      "20702\n"
     ]
    },
    {
     "name": "stderr",
     "output_type": "stream",
     "text": [
      "/var/folders/x4/m6ss_3nn1vn52_2htr4xj3800000gp/T/ipykernel_14000/3859271102.py:25: FutureWarning: The frame.append method is deprecated and will be removed from pandas in a future version. Use pandas.concat instead.\n",
      "  resultados_df = resultados_df.append({'product_id': i, 'product_id_tn': serie_test, 'y_hat': yhat[0][1]}, ignore_index=True)\n"
     ]
    },
    {
     "name": "stdout",
     "output_type": "stream",
     "text": [
      "20704\n"
     ]
    },
    {
     "name": "stderr",
     "output_type": "stream",
     "text": [
      "/var/folders/x4/m6ss_3nn1vn52_2htr4xj3800000gp/T/ipykernel_14000/3859271102.py:25: FutureWarning: The frame.append method is deprecated and will be removed from pandas in a future version. Use pandas.concat instead.\n",
      "  resultados_df = resultados_df.append({'product_id': i, 'product_id_tn': serie_test, 'y_hat': yhat[0][1]}, ignore_index=True)\n"
     ]
    },
    {
     "name": "stdout",
     "output_type": "stream",
     "text": [
      "20705\n"
     ]
    },
    {
     "name": "stderr",
     "output_type": "stream",
     "text": [
      "/var/folders/x4/m6ss_3nn1vn52_2htr4xj3800000gp/T/ipykernel_14000/3859271102.py:25: FutureWarning: The frame.append method is deprecated and will be removed from pandas in a future version. Use pandas.concat instead.\n",
      "  resultados_df = resultados_df.append({'product_id': i, 'product_id_tn': serie_test, 'y_hat': yhat[0][1]}, ignore_index=True)\n"
     ]
    },
    {
     "name": "stdout",
     "output_type": "stream",
     "text": [
      "20706\n"
     ]
    },
    {
     "name": "stderr",
     "output_type": "stream",
     "text": [
      "/var/folders/x4/m6ss_3nn1vn52_2htr4xj3800000gp/T/ipykernel_14000/3859271102.py:25: FutureWarning: The frame.append method is deprecated and will be removed from pandas in a future version. Use pandas.concat instead.\n",
      "  resultados_df = resultados_df.append({'product_id': i, 'product_id_tn': serie_test, 'y_hat': yhat[0][1]}, ignore_index=True)\n"
     ]
    },
    {
     "name": "stdout",
     "output_type": "stream",
     "text": [
      "20707\n"
     ]
    },
    {
     "name": "stderr",
     "output_type": "stream",
     "text": [
      "/var/folders/x4/m6ss_3nn1vn52_2htr4xj3800000gp/T/ipykernel_14000/3859271102.py:25: FutureWarning: The frame.append method is deprecated and will be removed from pandas in a future version. Use pandas.concat instead.\n",
      "  resultados_df = resultados_df.append({'product_id': i, 'product_id_tn': serie_test, 'y_hat': yhat[0][1]}, ignore_index=True)\n"
     ]
    },
    {
     "name": "stdout",
     "output_type": "stream",
     "text": [
      "20708\n"
     ]
    },
    {
     "name": "stderr",
     "output_type": "stream",
     "text": [
      "/var/folders/x4/m6ss_3nn1vn52_2htr4xj3800000gp/T/ipykernel_14000/3859271102.py:25: FutureWarning: The frame.append method is deprecated and will be removed from pandas in a future version. Use pandas.concat instead.\n",
      "  resultados_df = resultados_df.append({'product_id': i, 'product_id_tn': serie_test, 'y_hat': yhat[0][1]}, ignore_index=True)\n"
     ]
    },
    {
     "name": "stdout",
     "output_type": "stream",
     "text": [
      "20710\n"
     ]
    },
    {
     "name": "stderr",
     "output_type": "stream",
     "text": [
      "/var/folders/x4/m6ss_3nn1vn52_2htr4xj3800000gp/T/ipykernel_14000/3859271102.py:25: FutureWarning: The frame.append method is deprecated and will be removed from pandas in a future version. Use pandas.concat instead.\n",
      "  resultados_df = resultados_df.append({'product_id': i, 'product_id_tn': serie_test, 'y_hat': yhat[0][1]}, ignore_index=True)\n"
     ]
    },
    {
     "name": "stdout",
     "output_type": "stream",
     "text": [
      "20713\n"
     ]
    },
    {
     "name": "stderr",
     "output_type": "stream",
     "text": [
      "/var/folders/x4/m6ss_3nn1vn52_2htr4xj3800000gp/T/ipykernel_14000/3859271102.py:25: FutureWarning: The frame.append method is deprecated and will be removed from pandas in a future version. Use pandas.concat instead.\n",
      "  resultados_df = resultados_df.append({'product_id': i, 'product_id_tn': serie_test, 'y_hat': yhat[0][1]}, ignore_index=True)\n"
     ]
    },
    {
     "name": "stdout",
     "output_type": "stream",
     "text": [
      "20714\n"
     ]
    },
    {
     "name": "stderr",
     "output_type": "stream",
     "text": [
      "/var/folders/x4/m6ss_3nn1vn52_2htr4xj3800000gp/T/ipykernel_14000/3859271102.py:25: FutureWarning: The frame.append method is deprecated and will be removed from pandas in a future version. Use pandas.concat instead.\n",
      "  resultados_df = resultados_df.append({'product_id': i, 'product_id_tn': serie_test, 'y_hat': yhat[0][1]}, ignore_index=True)\n"
     ]
    },
    {
     "name": "stdout",
     "output_type": "stream",
     "text": [
      "20715\n"
     ]
    },
    {
     "name": "stderr",
     "output_type": "stream",
     "text": [
      "/var/folders/x4/m6ss_3nn1vn52_2htr4xj3800000gp/T/ipykernel_14000/3859271102.py:25: FutureWarning: The frame.append method is deprecated and will be removed from pandas in a future version. Use pandas.concat instead.\n",
      "  resultados_df = resultados_df.append({'product_id': i, 'product_id_tn': serie_test, 'y_hat': yhat[0][1]}, ignore_index=True)\n"
     ]
    },
    {
     "name": "stdout",
     "output_type": "stream",
     "text": [
      "20716\n"
     ]
    },
    {
     "name": "stderr",
     "output_type": "stream",
     "text": [
      "/var/folders/x4/m6ss_3nn1vn52_2htr4xj3800000gp/T/ipykernel_14000/3859271102.py:25: FutureWarning: The frame.append method is deprecated and will be removed from pandas in a future version. Use pandas.concat instead.\n",
      "  resultados_df = resultados_df.append({'product_id': i, 'product_id_tn': serie_test, 'y_hat': yhat[0][1]}, ignore_index=True)\n"
     ]
    },
    {
     "name": "stdout",
     "output_type": "stream",
     "text": [
      "20717\n"
     ]
    },
    {
     "name": "stderr",
     "output_type": "stream",
     "text": [
      "/var/folders/x4/m6ss_3nn1vn52_2htr4xj3800000gp/T/ipykernel_14000/3859271102.py:25: FutureWarning: The frame.append method is deprecated and will be removed from pandas in a future version. Use pandas.concat instead.\n",
      "  resultados_df = resultados_df.append({'product_id': i, 'product_id_tn': serie_test, 'y_hat': yhat[0][1]}, ignore_index=True)\n"
     ]
    },
    {
     "name": "stdout",
     "output_type": "stream",
     "text": [
      "20718\n"
     ]
    },
    {
     "name": "stderr",
     "output_type": "stream",
     "text": [
      "/var/folders/x4/m6ss_3nn1vn52_2htr4xj3800000gp/T/ipykernel_14000/3859271102.py:25: FutureWarning: The frame.append method is deprecated and will be removed from pandas in a future version. Use pandas.concat instead.\n",
      "  resultados_df = resultados_df.append({'product_id': i, 'product_id_tn': serie_test, 'y_hat': yhat[0][1]}, ignore_index=True)\n"
     ]
    },
    {
     "name": "stdout",
     "output_type": "stream",
     "text": [
      "20721\n"
     ]
    },
    {
     "name": "stderr",
     "output_type": "stream",
     "text": [
      "/var/folders/x4/m6ss_3nn1vn52_2htr4xj3800000gp/T/ipykernel_14000/3859271102.py:25: FutureWarning: The frame.append method is deprecated and will be removed from pandas in a future version. Use pandas.concat instead.\n",
      "  resultados_df = resultados_df.append({'product_id': i, 'product_id_tn': serie_test, 'y_hat': yhat[0][1]}, ignore_index=True)\n"
     ]
    },
    {
     "name": "stdout",
     "output_type": "stream",
     "text": [
      "20722\n"
     ]
    },
    {
     "name": "stderr",
     "output_type": "stream",
     "text": [
      "/var/folders/x4/m6ss_3nn1vn52_2htr4xj3800000gp/T/ipykernel_14000/3859271102.py:25: FutureWarning: The frame.append method is deprecated and will be removed from pandas in a future version. Use pandas.concat instead.\n",
      "  resultados_df = resultados_df.append({'product_id': i, 'product_id_tn': serie_test, 'y_hat': yhat[0][1]}, ignore_index=True)\n"
     ]
    },
    {
     "name": "stdout",
     "output_type": "stream",
     "text": [
      "20724\n"
     ]
    },
    {
     "name": "stderr",
     "output_type": "stream",
     "text": [
      "/var/folders/x4/m6ss_3nn1vn52_2htr4xj3800000gp/T/ipykernel_14000/3859271102.py:25: FutureWarning: The frame.append method is deprecated and will be removed from pandas in a future version. Use pandas.concat instead.\n",
      "  resultados_df = resultados_df.append({'product_id': i, 'product_id_tn': serie_test, 'y_hat': yhat[0][1]}, ignore_index=True)\n"
     ]
    },
    {
     "name": "stdout",
     "output_type": "stream",
     "text": [
      "20725\n"
     ]
    },
    {
     "name": "stderr",
     "output_type": "stream",
     "text": [
      "/var/folders/x4/m6ss_3nn1vn52_2htr4xj3800000gp/T/ipykernel_14000/3859271102.py:25: FutureWarning: The frame.append method is deprecated and will be removed from pandas in a future version. Use pandas.concat instead.\n",
      "  resultados_df = resultados_df.append({'product_id': i, 'product_id_tn': serie_test, 'y_hat': yhat[0][1]}, ignore_index=True)\n"
     ]
    },
    {
     "name": "stdout",
     "output_type": "stream",
     "text": [
      "20726\n"
     ]
    },
    {
     "name": "stderr",
     "output_type": "stream",
     "text": [
      "/var/folders/x4/m6ss_3nn1vn52_2htr4xj3800000gp/T/ipykernel_14000/3859271102.py:25: FutureWarning: The frame.append method is deprecated and will be removed from pandas in a future version. Use pandas.concat instead.\n",
      "  resultados_df = resultados_df.append({'product_id': i, 'product_id_tn': serie_test, 'y_hat': yhat[0][1]}, ignore_index=True)\n"
     ]
    },
    {
     "name": "stdout",
     "output_type": "stream",
     "text": [
      "20727\n"
     ]
    },
    {
     "name": "stderr",
     "output_type": "stream",
     "text": [
      "/var/folders/x4/m6ss_3nn1vn52_2htr4xj3800000gp/T/ipykernel_14000/3859271102.py:25: FutureWarning: The frame.append method is deprecated and will be removed from pandas in a future version. Use pandas.concat instead.\n",
      "  resultados_df = resultados_df.append({'product_id': i, 'product_id_tn': serie_test, 'y_hat': yhat[0][1]}, ignore_index=True)\n"
     ]
    },
    {
     "name": "stdout",
     "output_type": "stream",
     "text": [
      "20729\n"
     ]
    },
    {
     "name": "stderr",
     "output_type": "stream",
     "text": [
      "/var/folders/x4/m6ss_3nn1vn52_2htr4xj3800000gp/T/ipykernel_14000/3859271102.py:25: FutureWarning: The frame.append method is deprecated and will be removed from pandas in a future version. Use pandas.concat instead.\n",
      "  resultados_df = resultados_df.append({'product_id': i, 'product_id_tn': serie_test, 'y_hat': yhat[0][1]}, ignore_index=True)\n"
     ]
    },
    {
     "name": "stdout",
     "output_type": "stream",
     "text": [
      "20730\n"
     ]
    },
    {
     "name": "stderr",
     "output_type": "stream",
     "text": [
      "/var/folders/x4/m6ss_3nn1vn52_2htr4xj3800000gp/T/ipykernel_14000/3859271102.py:25: FutureWarning: The frame.append method is deprecated and will be removed from pandas in a future version. Use pandas.concat instead.\n",
      "  resultados_df = resultados_df.append({'product_id': i, 'product_id_tn': serie_test, 'y_hat': yhat[0][1]}, ignore_index=True)\n"
     ]
    },
    {
     "name": "stdout",
     "output_type": "stream",
     "text": [
      "20731\n"
     ]
    },
    {
     "name": "stderr",
     "output_type": "stream",
     "text": [
      "/var/folders/x4/m6ss_3nn1vn52_2htr4xj3800000gp/T/ipykernel_14000/3859271102.py:25: FutureWarning: The frame.append method is deprecated and will be removed from pandas in a future version. Use pandas.concat instead.\n",
      "  resultados_df = resultados_df.append({'product_id': i, 'product_id_tn': serie_test, 'y_hat': yhat[0][1]}, ignore_index=True)\n"
     ]
    },
    {
     "name": "stdout",
     "output_type": "stream",
     "text": [
      "20733\n"
     ]
    },
    {
     "name": "stderr",
     "output_type": "stream",
     "text": [
      "/var/folders/x4/m6ss_3nn1vn52_2htr4xj3800000gp/T/ipykernel_14000/3859271102.py:25: FutureWarning: The frame.append method is deprecated and will be removed from pandas in a future version. Use pandas.concat instead.\n",
      "  resultados_df = resultados_df.append({'product_id': i, 'product_id_tn': serie_test, 'y_hat': yhat[0][1]}, ignore_index=True)\n"
     ]
    },
    {
     "name": "stdout",
     "output_type": "stream",
     "text": [
      "20735\n"
     ]
    },
    {
     "name": "stderr",
     "output_type": "stream",
     "text": [
      "/var/folders/x4/m6ss_3nn1vn52_2htr4xj3800000gp/T/ipykernel_14000/3859271102.py:25: FutureWarning: The frame.append method is deprecated and will be removed from pandas in a future version. Use pandas.concat instead.\n",
      "  resultados_df = resultados_df.append({'product_id': i, 'product_id_tn': serie_test, 'y_hat': yhat[0][1]}, ignore_index=True)\n"
     ]
    },
    {
     "name": "stdout",
     "output_type": "stream",
     "text": [
      "20736\n"
     ]
    },
    {
     "name": "stderr",
     "output_type": "stream",
     "text": [
      "/var/folders/x4/m6ss_3nn1vn52_2htr4xj3800000gp/T/ipykernel_14000/3859271102.py:25: FutureWarning: The frame.append method is deprecated and will be removed from pandas in a future version. Use pandas.concat instead.\n",
      "  resultados_df = resultados_df.append({'product_id': i, 'product_id_tn': serie_test, 'y_hat': yhat[0][1]}, ignore_index=True)\n"
     ]
    },
    {
     "name": "stdout",
     "output_type": "stream",
     "text": [
      "20737\n"
     ]
    },
    {
     "name": "stderr",
     "output_type": "stream",
     "text": [
      "/var/folders/x4/m6ss_3nn1vn52_2htr4xj3800000gp/T/ipykernel_14000/3859271102.py:25: FutureWarning: The frame.append method is deprecated and will be removed from pandas in a future version. Use pandas.concat instead.\n",
      "  resultados_df = resultados_df.append({'product_id': i, 'product_id_tn': serie_test, 'y_hat': yhat[0][1]}, ignore_index=True)\n"
     ]
    },
    {
     "name": "stdout",
     "output_type": "stream",
     "text": [
      "20738\n"
     ]
    },
    {
     "name": "stderr",
     "output_type": "stream",
     "text": [
      "/var/folders/x4/m6ss_3nn1vn52_2htr4xj3800000gp/T/ipykernel_14000/3859271102.py:25: FutureWarning: The frame.append method is deprecated and will be removed from pandas in a future version. Use pandas.concat instead.\n",
      "  resultados_df = resultados_df.append({'product_id': i, 'product_id_tn': serie_test, 'y_hat': yhat[0][1]}, ignore_index=True)\n"
     ]
    },
    {
     "name": "stdout",
     "output_type": "stream",
     "text": [
      "20739\n"
     ]
    },
    {
     "name": "stderr",
     "output_type": "stream",
     "text": [
      "/var/folders/x4/m6ss_3nn1vn52_2htr4xj3800000gp/T/ipykernel_14000/3859271102.py:25: FutureWarning: The frame.append method is deprecated and will be removed from pandas in a future version. Use pandas.concat instead.\n",
      "  resultados_df = resultados_df.append({'product_id': i, 'product_id_tn': serie_test, 'y_hat': yhat[0][1]}, ignore_index=True)\n"
     ]
    },
    {
     "name": "stdout",
     "output_type": "stream",
     "text": [
      "20741\n"
     ]
    },
    {
     "name": "stderr",
     "output_type": "stream",
     "text": [
      "/var/folders/x4/m6ss_3nn1vn52_2htr4xj3800000gp/T/ipykernel_14000/3859271102.py:25: FutureWarning: The frame.append method is deprecated and will be removed from pandas in a future version. Use pandas.concat instead.\n",
      "  resultados_df = resultados_df.append({'product_id': i, 'product_id_tn': serie_test, 'y_hat': yhat[0][1]}, ignore_index=True)\n"
     ]
    },
    {
     "name": "stdout",
     "output_type": "stream",
     "text": [
      "20742\n"
     ]
    },
    {
     "name": "stderr",
     "output_type": "stream",
     "text": [
      "/var/folders/x4/m6ss_3nn1vn52_2htr4xj3800000gp/T/ipykernel_14000/3859271102.py:25: FutureWarning: The frame.append method is deprecated and will be removed from pandas in a future version. Use pandas.concat instead.\n",
      "  resultados_df = resultados_df.append({'product_id': i, 'product_id_tn': serie_test, 'y_hat': yhat[0][1]}, ignore_index=True)\n"
     ]
    },
    {
     "name": "stdout",
     "output_type": "stream",
     "text": [
      "20743\n"
     ]
    },
    {
     "name": "stderr",
     "output_type": "stream",
     "text": [
      "/var/folders/x4/m6ss_3nn1vn52_2htr4xj3800000gp/T/ipykernel_14000/3859271102.py:25: FutureWarning: The frame.append method is deprecated and will be removed from pandas in a future version. Use pandas.concat instead.\n",
      "  resultados_df = resultados_df.append({'product_id': i, 'product_id_tn': serie_test, 'y_hat': yhat[0][1]}, ignore_index=True)\n"
     ]
    },
    {
     "name": "stdout",
     "output_type": "stream",
     "text": [
      "20744\n"
     ]
    },
    {
     "name": "stderr",
     "output_type": "stream",
     "text": [
      "/var/folders/x4/m6ss_3nn1vn52_2htr4xj3800000gp/T/ipykernel_14000/3859271102.py:25: FutureWarning: The frame.append method is deprecated and will be removed from pandas in a future version. Use pandas.concat instead.\n",
      "  resultados_df = resultados_df.append({'product_id': i, 'product_id_tn': serie_test, 'y_hat': yhat[0][1]}, ignore_index=True)\n"
     ]
    },
    {
     "name": "stdout",
     "output_type": "stream",
     "text": [
      "20745\n"
     ]
    },
    {
     "name": "stderr",
     "output_type": "stream",
     "text": [
      "/var/folders/x4/m6ss_3nn1vn52_2htr4xj3800000gp/T/ipykernel_14000/3859271102.py:25: FutureWarning: The frame.append method is deprecated and will be removed from pandas in a future version. Use pandas.concat instead.\n",
      "  resultados_df = resultados_df.append({'product_id': i, 'product_id_tn': serie_test, 'y_hat': yhat[0][1]}, ignore_index=True)\n"
     ]
    },
    {
     "name": "stdout",
     "output_type": "stream",
     "text": [
      "20747\n"
     ]
    },
    {
     "name": "stderr",
     "output_type": "stream",
     "text": [
      "/var/folders/x4/m6ss_3nn1vn52_2htr4xj3800000gp/T/ipykernel_14000/3859271102.py:25: FutureWarning: The frame.append method is deprecated and will be removed from pandas in a future version. Use pandas.concat instead.\n",
      "  resultados_df = resultados_df.append({'product_id': i, 'product_id_tn': serie_test, 'y_hat': yhat[0][1]}, ignore_index=True)\n"
     ]
    },
    {
     "name": "stdout",
     "output_type": "stream",
     "text": [
      "20748\n"
     ]
    },
    {
     "name": "stderr",
     "output_type": "stream",
     "text": [
      "/var/folders/x4/m6ss_3nn1vn52_2htr4xj3800000gp/T/ipykernel_14000/3859271102.py:25: FutureWarning: The frame.append method is deprecated and will be removed from pandas in a future version. Use pandas.concat instead.\n",
      "  resultados_df = resultados_df.append({'product_id': i, 'product_id_tn': serie_test, 'y_hat': yhat[0][1]}, ignore_index=True)\n"
     ]
    },
    {
     "name": "stdout",
     "output_type": "stream",
     "text": [
      "20749\n"
     ]
    },
    {
     "name": "stderr",
     "output_type": "stream",
     "text": [
      "/var/folders/x4/m6ss_3nn1vn52_2htr4xj3800000gp/T/ipykernel_14000/3859271102.py:25: FutureWarning: The frame.append method is deprecated and will be removed from pandas in a future version. Use pandas.concat instead.\n",
      "  resultados_df = resultados_df.append({'product_id': i, 'product_id_tn': serie_test, 'y_hat': yhat[0][1]}, ignore_index=True)\n"
     ]
    },
    {
     "name": "stdout",
     "output_type": "stream",
     "text": [
      "20750\n"
     ]
    },
    {
     "name": "stderr",
     "output_type": "stream",
     "text": [
      "/var/folders/x4/m6ss_3nn1vn52_2htr4xj3800000gp/T/ipykernel_14000/3859271102.py:25: FutureWarning: The frame.append method is deprecated and will be removed from pandas in a future version. Use pandas.concat instead.\n",
      "  resultados_df = resultados_df.append({'product_id': i, 'product_id_tn': serie_test, 'y_hat': yhat[0][1]}, ignore_index=True)\n"
     ]
    },
    {
     "name": "stdout",
     "output_type": "stream",
     "text": [
      "20751\n"
     ]
    },
    {
     "name": "stderr",
     "output_type": "stream",
     "text": [
      "/var/folders/x4/m6ss_3nn1vn52_2htr4xj3800000gp/T/ipykernel_14000/3859271102.py:25: FutureWarning: The frame.append method is deprecated and will be removed from pandas in a future version. Use pandas.concat instead.\n",
      "  resultados_df = resultados_df.append({'product_id': i, 'product_id_tn': serie_test, 'y_hat': yhat[0][1]}, ignore_index=True)\n"
     ]
    },
    {
     "name": "stdout",
     "output_type": "stream",
     "text": [
      "20752\n"
     ]
    },
    {
     "name": "stderr",
     "output_type": "stream",
     "text": [
      "/var/folders/x4/m6ss_3nn1vn52_2htr4xj3800000gp/T/ipykernel_14000/3859271102.py:25: FutureWarning: The frame.append method is deprecated and will be removed from pandas in a future version. Use pandas.concat instead.\n",
      "  resultados_df = resultados_df.append({'product_id': i, 'product_id_tn': serie_test, 'y_hat': yhat[0][1]}, ignore_index=True)\n"
     ]
    },
    {
     "name": "stdout",
     "output_type": "stream",
     "text": [
      "20755\n"
     ]
    },
    {
     "name": "stderr",
     "output_type": "stream",
     "text": [
      "/var/folders/x4/m6ss_3nn1vn52_2htr4xj3800000gp/T/ipykernel_14000/3859271102.py:25: FutureWarning: The frame.append method is deprecated and will be removed from pandas in a future version. Use pandas.concat instead.\n",
      "  resultados_df = resultados_df.append({'product_id': i, 'product_id_tn': serie_test, 'y_hat': yhat[0][1]}, ignore_index=True)\n"
     ]
    },
    {
     "name": "stdout",
     "output_type": "stream",
     "text": [
      "20756\n"
     ]
    },
    {
     "name": "stderr",
     "output_type": "stream",
     "text": [
      "/var/folders/x4/m6ss_3nn1vn52_2htr4xj3800000gp/T/ipykernel_14000/3859271102.py:25: FutureWarning: The frame.append method is deprecated and will be removed from pandas in a future version. Use pandas.concat instead.\n",
      "  resultados_df = resultados_df.append({'product_id': i, 'product_id_tn': serie_test, 'y_hat': yhat[0][1]}, ignore_index=True)\n"
     ]
    },
    {
     "name": "stdout",
     "output_type": "stream",
     "text": [
      "20758\n"
     ]
    },
    {
     "name": "stderr",
     "output_type": "stream",
     "text": [
      "/var/folders/x4/m6ss_3nn1vn52_2htr4xj3800000gp/T/ipykernel_14000/3859271102.py:25: FutureWarning: The frame.append method is deprecated and will be removed from pandas in a future version. Use pandas.concat instead.\n",
      "  resultados_df = resultados_df.append({'product_id': i, 'product_id_tn': serie_test, 'y_hat': yhat[0][1]}, ignore_index=True)\n"
     ]
    },
    {
     "name": "stdout",
     "output_type": "stream",
     "text": [
      "20759\n"
     ]
    },
    {
     "name": "stderr",
     "output_type": "stream",
     "text": [
      "/var/folders/x4/m6ss_3nn1vn52_2htr4xj3800000gp/T/ipykernel_14000/3859271102.py:25: FutureWarning: The frame.append method is deprecated and will be removed from pandas in a future version. Use pandas.concat instead.\n",
      "  resultados_df = resultados_df.append({'product_id': i, 'product_id_tn': serie_test, 'y_hat': yhat[0][1]}, ignore_index=True)\n"
     ]
    },
    {
     "name": "stdout",
     "output_type": "stream",
     "text": [
      "20761\n"
     ]
    },
    {
     "name": "stderr",
     "output_type": "stream",
     "text": [
      "/var/folders/x4/m6ss_3nn1vn52_2htr4xj3800000gp/T/ipykernel_14000/3859271102.py:25: FutureWarning: The frame.append method is deprecated and will be removed from pandas in a future version. Use pandas.concat instead.\n",
      "  resultados_df = resultados_df.append({'product_id': i, 'product_id_tn': serie_test, 'y_hat': yhat[0][1]}, ignore_index=True)\n"
     ]
    },
    {
     "name": "stdout",
     "output_type": "stream",
     "text": [
      "20765\n"
     ]
    },
    {
     "name": "stderr",
     "output_type": "stream",
     "text": [
      "/var/folders/x4/m6ss_3nn1vn52_2htr4xj3800000gp/T/ipykernel_14000/3859271102.py:25: FutureWarning: The frame.append method is deprecated and will be removed from pandas in a future version. Use pandas.concat instead.\n",
      "  resultados_df = resultados_df.append({'product_id': i, 'product_id_tn': serie_test, 'y_hat': yhat[0][1]}, ignore_index=True)\n"
     ]
    },
    {
     "name": "stdout",
     "output_type": "stream",
     "text": [
      "20766\n"
     ]
    },
    {
     "name": "stderr",
     "output_type": "stream",
     "text": [
      "/var/folders/x4/m6ss_3nn1vn52_2htr4xj3800000gp/T/ipykernel_14000/3859271102.py:25: FutureWarning: The frame.append method is deprecated and will be removed from pandas in a future version. Use pandas.concat instead.\n",
      "  resultados_df = resultados_df.append({'product_id': i, 'product_id_tn': serie_test, 'y_hat': yhat[0][1]}, ignore_index=True)\n"
     ]
    },
    {
     "name": "stdout",
     "output_type": "stream",
     "text": [
      "20767\n"
     ]
    },
    {
     "name": "stderr",
     "output_type": "stream",
     "text": [
      "/var/folders/x4/m6ss_3nn1vn52_2htr4xj3800000gp/T/ipykernel_14000/3859271102.py:25: FutureWarning: The frame.append method is deprecated and will be removed from pandas in a future version. Use pandas.concat instead.\n",
      "  resultados_df = resultados_df.append({'product_id': i, 'product_id_tn': serie_test, 'y_hat': yhat[0][1]}, ignore_index=True)\n"
     ]
    },
    {
     "name": "stdout",
     "output_type": "stream",
     "text": [
      "20768\n"
     ]
    },
    {
     "name": "stderr",
     "output_type": "stream",
     "text": [
      "/var/folders/x4/m6ss_3nn1vn52_2htr4xj3800000gp/T/ipykernel_14000/3859271102.py:25: FutureWarning: The frame.append method is deprecated and will be removed from pandas in a future version. Use pandas.concat instead.\n",
      "  resultados_df = resultados_df.append({'product_id': i, 'product_id_tn': serie_test, 'y_hat': yhat[0][1]}, ignore_index=True)\n"
     ]
    },
    {
     "name": "stdout",
     "output_type": "stream",
     "text": [
      "20769\n"
     ]
    },
    {
     "name": "stderr",
     "output_type": "stream",
     "text": [
      "/var/folders/x4/m6ss_3nn1vn52_2htr4xj3800000gp/T/ipykernel_14000/3859271102.py:25: FutureWarning: The frame.append method is deprecated and will be removed from pandas in a future version. Use pandas.concat instead.\n",
      "  resultados_df = resultados_df.append({'product_id': i, 'product_id_tn': serie_test, 'y_hat': yhat[0][1]}, ignore_index=True)\n"
     ]
    },
    {
     "name": "stdout",
     "output_type": "stream",
     "text": [
      "20771\n"
     ]
    },
    {
     "name": "stderr",
     "output_type": "stream",
     "text": [
      "/var/folders/x4/m6ss_3nn1vn52_2htr4xj3800000gp/T/ipykernel_14000/3859271102.py:25: FutureWarning: The frame.append method is deprecated and will be removed from pandas in a future version. Use pandas.concat instead.\n",
      "  resultados_df = resultados_df.append({'product_id': i, 'product_id_tn': serie_test, 'y_hat': yhat[0][1]}, ignore_index=True)\n"
     ]
    },
    {
     "name": "stdout",
     "output_type": "stream",
     "text": [
      "20773\n"
     ]
    },
    {
     "name": "stderr",
     "output_type": "stream",
     "text": [
      "/var/folders/x4/m6ss_3nn1vn52_2htr4xj3800000gp/T/ipykernel_14000/3859271102.py:25: FutureWarning: The frame.append method is deprecated and will be removed from pandas in a future version. Use pandas.concat instead.\n",
      "  resultados_df = resultados_df.append({'product_id': i, 'product_id_tn': serie_test, 'y_hat': yhat[0][1]}, ignore_index=True)\n"
     ]
    },
    {
     "name": "stdout",
     "output_type": "stream",
     "text": [
      "20775\n"
     ]
    },
    {
     "name": "stderr",
     "output_type": "stream",
     "text": [
      "/var/folders/x4/m6ss_3nn1vn52_2htr4xj3800000gp/T/ipykernel_14000/3859271102.py:25: FutureWarning: The frame.append method is deprecated and will be removed from pandas in a future version. Use pandas.concat instead.\n",
      "  resultados_df = resultados_df.append({'product_id': i, 'product_id_tn': serie_test, 'y_hat': yhat[0][1]}, ignore_index=True)\n"
     ]
    },
    {
     "name": "stdout",
     "output_type": "stream",
     "text": [
      "20776\n"
     ]
    },
    {
     "name": "stderr",
     "output_type": "stream",
     "text": [
      "/var/folders/x4/m6ss_3nn1vn52_2htr4xj3800000gp/T/ipykernel_14000/3859271102.py:25: FutureWarning: The frame.append method is deprecated and will be removed from pandas in a future version. Use pandas.concat instead.\n",
      "  resultados_df = resultados_df.append({'product_id': i, 'product_id_tn': serie_test, 'y_hat': yhat[0][1]}, ignore_index=True)\n"
     ]
    },
    {
     "name": "stdout",
     "output_type": "stream",
     "text": [
      "20777\n"
     ]
    },
    {
     "name": "stderr",
     "output_type": "stream",
     "text": [
      "/var/folders/x4/m6ss_3nn1vn52_2htr4xj3800000gp/T/ipykernel_14000/3859271102.py:25: FutureWarning: The frame.append method is deprecated and will be removed from pandas in a future version. Use pandas.concat instead.\n",
      "  resultados_df = resultados_df.append({'product_id': i, 'product_id_tn': serie_test, 'y_hat': yhat[0][1]}, ignore_index=True)\n"
     ]
    },
    {
     "name": "stdout",
     "output_type": "stream",
     "text": [
      "20778\n"
     ]
    },
    {
     "name": "stderr",
     "output_type": "stream",
     "text": [
      "/var/folders/x4/m6ss_3nn1vn52_2htr4xj3800000gp/T/ipykernel_14000/3859271102.py:25: FutureWarning: The frame.append method is deprecated and will be removed from pandas in a future version. Use pandas.concat instead.\n",
      "  resultados_df = resultados_df.append({'product_id': i, 'product_id_tn': serie_test, 'y_hat': yhat[0][1]}, ignore_index=True)\n"
     ]
    },
    {
     "name": "stdout",
     "output_type": "stream",
     "text": [
      "20780\n"
     ]
    },
    {
     "name": "stderr",
     "output_type": "stream",
     "text": [
      "/var/folders/x4/m6ss_3nn1vn52_2htr4xj3800000gp/T/ipykernel_14000/3859271102.py:25: FutureWarning: The frame.append method is deprecated and will be removed from pandas in a future version. Use pandas.concat instead.\n",
      "  resultados_df = resultados_df.append({'product_id': i, 'product_id_tn': serie_test, 'y_hat': yhat[0][1]}, ignore_index=True)\n"
     ]
    },
    {
     "name": "stdout",
     "output_type": "stream",
     "text": [
      "20781\n"
     ]
    },
    {
     "name": "stderr",
     "output_type": "stream",
     "text": [
      "/var/folders/x4/m6ss_3nn1vn52_2htr4xj3800000gp/T/ipykernel_14000/3859271102.py:25: FutureWarning: The frame.append method is deprecated and will be removed from pandas in a future version. Use pandas.concat instead.\n",
      "  resultados_df = resultados_df.append({'product_id': i, 'product_id_tn': serie_test, 'y_hat': yhat[0][1]}, ignore_index=True)\n"
     ]
    },
    {
     "name": "stdout",
     "output_type": "stream",
     "text": [
      "20782\n"
     ]
    },
    {
     "name": "stderr",
     "output_type": "stream",
     "text": [
      "/var/folders/x4/m6ss_3nn1vn52_2htr4xj3800000gp/T/ipykernel_14000/3859271102.py:25: FutureWarning: The frame.append method is deprecated and will be removed from pandas in a future version. Use pandas.concat instead.\n",
      "  resultados_df = resultados_df.append({'product_id': i, 'product_id_tn': serie_test, 'y_hat': yhat[0][1]}, ignore_index=True)\n"
     ]
    },
    {
     "name": "stdout",
     "output_type": "stream",
     "text": [
      "20783\n"
     ]
    },
    {
     "name": "stderr",
     "output_type": "stream",
     "text": [
      "/var/folders/x4/m6ss_3nn1vn52_2htr4xj3800000gp/T/ipykernel_14000/3859271102.py:25: FutureWarning: The frame.append method is deprecated and will be removed from pandas in a future version. Use pandas.concat instead.\n",
      "  resultados_df = resultados_df.append({'product_id': i, 'product_id_tn': serie_test, 'y_hat': yhat[0][1]}, ignore_index=True)\n"
     ]
    },
    {
     "name": "stdout",
     "output_type": "stream",
     "text": [
      "20784\n"
     ]
    },
    {
     "name": "stderr",
     "output_type": "stream",
     "text": [
      "/var/folders/x4/m6ss_3nn1vn52_2htr4xj3800000gp/T/ipykernel_14000/3859271102.py:25: FutureWarning: The frame.append method is deprecated and will be removed from pandas in a future version. Use pandas.concat instead.\n",
      "  resultados_df = resultados_df.append({'product_id': i, 'product_id_tn': serie_test, 'y_hat': yhat[0][1]}, ignore_index=True)\n"
     ]
    },
    {
     "name": "stdout",
     "output_type": "stream",
     "text": [
      "20786\n"
     ]
    },
    {
     "name": "stderr",
     "output_type": "stream",
     "text": [
      "/var/folders/x4/m6ss_3nn1vn52_2htr4xj3800000gp/T/ipykernel_14000/3859271102.py:25: FutureWarning: The frame.append method is deprecated and will be removed from pandas in a future version. Use pandas.concat instead.\n",
      "  resultados_df = resultados_df.append({'product_id': i, 'product_id_tn': serie_test, 'y_hat': yhat[0][1]}, ignore_index=True)\n"
     ]
    },
    {
     "name": "stdout",
     "output_type": "stream",
     "text": [
      "20787\n"
     ]
    },
    {
     "name": "stderr",
     "output_type": "stream",
     "text": [
      "/var/folders/x4/m6ss_3nn1vn52_2htr4xj3800000gp/T/ipykernel_14000/3859271102.py:25: FutureWarning: The frame.append method is deprecated and will be removed from pandas in a future version. Use pandas.concat instead.\n",
      "  resultados_df = resultados_df.append({'product_id': i, 'product_id_tn': serie_test, 'y_hat': yhat[0][1]}, ignore_index=True)\n"
     ]
    },
    {
     "name": "stdout",
     "output_type": "stream",
     "text": [
      "20788\n"
     ]
    },
    {
     "name": "stderr",
     "output_type": "stream",
     "text": [
      "/var/folders/x4/m6ss_3nn1vn52_2htr4xj3800000gp/T/ipykernel_14000/3859271102.py:25: FutureWarning: The frame.append method is deprecated and will be removed from pandas in a future version. Use pandas.concat instead.\n",
      "  resultados_df = resultados_df.append({'product_id': i, 'product_id_tn': serie_test, 'y_hat': yhat[0][1]}, ignore_index=True)\n"
     ]
    },
    {
     "name": "stdout",
     "output_type": "stream",
     "text": [
      "20789\n"
     ]
    },
    {
     "name": "stderr",
     "output_type": "stream",
     "text": [
      "/var/folders/x4/m6ss_3nn1vn52_2htr4xj3800000gp/T/ipykernel_14000/3859271102.py:25: FutureWarning: The frame.append method is deprecated and will be removed from pandas in a future version. Use pandas.concat instead.\n",
      "  resultados_df = resultados_df.append({'product_id': i, 'product_id_tn': serie_test, 'y_hat': yhat[0][1]}, ignore_index=True)\n"
     ]
    },
    {
     "name": "stdout",
     "output_type": "stream",
     "text": [
      "20790\n"
     ]
    },
    {
     "name": "stderr",
     "output_type": "stream",
     "text": [
      "/var/folders/x4/m6ss_3nn1vn52_2htr4xj3800000gp/T/ipykernel_14000/3859271102.py:25: FutureWarning: The frame.append method is deprecated and will be removed from pandas in a future version. Use pandas.concat instead.\n",
      "  resultados_df = resultados_df.append({'product_id': i, 'product_id_tn': serie_test, 'y_hat': yhat[0][1]}, ignore_index=True)\n"
     ]
    },
    {
     "name": "stdout",
     "output_type": "stream",
     "text": [
      "20791\n"
     ]
    },
    {
     "name": "stderr",
     "output_type": "stream",
     "text": [
      "/var/folders/x4/m6ss_3nn1vn52_2htr4xj3800000gp/T/ipykernel_14000/3859271102.py:25: FutureWarning: The frame.append method is deprecated and will be removed from pandas in a future version. Use pandas.concat instead.\n",
      "  resultados_df = resultados_df.append({'product_id': i, 'product_id_tn': serie_test, 'y_hat': yhat[0][1]}, ignore_index=True)\n"
     ]
    },
    {
     "name": "stdout",
     "output_type": "stream",
     "text": [
      "20793\n"
     ]
    },
    {
     "name": "stderr",
     "output_type": "stream",
     "text": [
      "/var/folders/x4/m6ss_3nn1vn52_2htr4xj3800000gp/T/ipykernel_14000/3859271102.py:25: FutureWarning: The frame.append method is deprecated and will be removed from pandas in a future version. Use pandas.concat instead.\n",
      "  resultados_df = resultados_df.append({'product_id': i, 'product_id_tn': serie_test, 'y_hat': yhat[0][1]}, ignore_index=True)\n"
     ]
    },
    {
     "name": "stdout",
     "output_type": "stream",
     "text": [
      "20794\n"
     ]
    },
    {
     "name": "stderr",
     "output_type": "stream",
     "text": [
      "/var/folders/x4/m6ss_3nn1vn52_2htr4xj3800000gp/T/ipykernel_14000/3859271102.py:25: FutureWarning: The frame.append method is deprecated and will be removed from pandas in a future version. Use pandas.concat instead.\n",
      "  resultados_df = resultados_df.append({'product_id': i, 'product_id_tn': serie_test, 'y_hat': yhat[0][1]}, ignore_index=True)\n"
     ]
    },
    {
     "name": "stdout",
     "output_type": "stream",
     "text": [
      "20796\n"
     ]
    },
    {
     "name": "stderr",
     "output_type": "stream",
     "text": [
      "/var/folders/x4/m6ss_3nn1vn52_2htr4xj3800000gp/T/ipykernel_14000/3859271102.py:25: FutureWarning: The frame.append method is deprecated and will be removed from pandas in a future version. Use pandas.concat instead.\n",
      "  resultados_df = resultados_df.append({'product_id': i, 'product_id_tn': serie_test, 'y_hat': yhat[0][1]}, ignore_index=True)\n"
     ]
    },
    {
     "name": "stdout",
     "output_type": "stream",
     "text": [
      "20797\n"
     ]
    },
    {
     "name": "stderr",
     "output_type": "stream",
     "text": [
      "/var/folders/x4/m6ss_3nn1vn52_2htr4xj3800000gp/T/ipykernel_14000/3859271102.py:25: FutureWarning: The frame.append method is deprecated and will be removed from pandas in a future version. Use pandas.concat instead.\n",
      "  resultados_df = resultados_df.append({'product_id': i, 'product_id_tn': serie_test, 'y_hat': yhat[0][1]}, ignore_index=True)\n"
     ]
    },
    {
     "name": "stdout",
     "output_type": "stream",
     "text": [
      "20800\n"
     ]
    },
    {
     "name": "stderr",
     "output_type": "stream",
     "text": [
      "/var/folders/x4/m6ss_3nn1vn52_2htr4xj3800000gp/T/ipykernel_14000/3859271102.py:25: FutureWarning: The frame.append method is deprecated and will be removed from pandas in a future version. Use pandas.concat instead.\n",
      "  resultados_df = resultados_df.append({'product_id': i, 'product_id_tn': serie_test, 'y_hat': yhat[0][1]}, ignore_index=True)\n"
     ]
    },
    {
     "name": "stdout",
     "output_type": "stream",
     "text": [
      "20801\n"
     ]
    },
    {
     "name": "stderr",
     "output_type": "stream",
     "text": [
      "/var/folders/x4/m6ss_3nn1vn52_2htr4xj3800000gp/T/ipykernel_14000/3859271102.py:25: FutureWarning: The frame.append method is deprecated and will be removed from pandas in a future version. Use pandas.concat instead.\n",
      "  resultados_df = resultados_df.append({'product_id': i, 'product_id_tn': serie_test, 'y_hat': yhat[0][1]}, ignore_index=True)\n"
     ]
    },
    {
     "name": "stdout",
     "output_type": "stream",
     "text": [
      "20802\n"
     ]
    },
    {
     "name": "stderr",
     "output_type": "stream",
     "text": [
      "/var/folders/x4/m6ss_3nn1vn52_2htr4xj3800000gp/T/ipykernel_14000/3859271102.py:25: FutureWarning: The frame.append method is deprecated and will be removed from pandas in a future version. Use pandas.concat instead.\n",
      "  resultados_df = resultados_df.append({'product_id': i, 'product_id_tn': serie_test, 'y_hat': yhat[0][1]}, ignore_index=True)\n"
     ]
    },
    {
     "name": "stdout",
     "output_type": "stream",
     "text": [
      "20803\n"
     ]
    },
    {
     "name": "stderr",
     "output_type": "stream",
     "text": [
      "/var/folders/x4/m6ss_3nn1vn52_2htr4xj3800000gp/T/ipykernel_14000/3859271102.py:25: FutureWarning: The frame.append method is deprecated and will be removed from pandas in a future version. Use pandas.concat instead.\n",
      "  resultados_df = resultados_df.append({'product_id': i, 'product_id_tn': serie_test, 'y_hat': yhat[0][1]}, ignore_index=True)\n"
     ]
    },
    {
     "name": "stdout",
     "output_type": "stream",
     "text": [
      "20804\n"
     ]
    },
    {
     "name": "stderr",
     "output_type": "stream",
     "text": [
      "/var/folders/x4/m6ss_3nn1vn52_2htr4xj3800000gp/T/ipykernel_14000/3859271102.py:25: FutureWarning: The frame.append method is deprecated and will be removed from pandas in a future version. Use pandas.concat instead.\n",
      "  resultados_df = resultados_df.append({'product_id': i, 'product_id_tn': serie_test, 'y_hat': yhat[0][1]}, ignore_index=True)\n"
     ]
    },
    {
     "name": "stdout",
     "output_type": "stream",
     "text": [
      "20805\n"
     ]
    },
    {
     "name": "stderr",
     "output_type": "stream",
     "text": [
      "/var/folders/x4/m6ss_3nn1vn52_2htr4xj3800000gp/T/ipykernel_14000/3859271102.py:25: FutureWarning: The frame.append method is deprecated and will be removed from pandas in a future version. Use pandas.concat instead.\n",
      "  resultados_df = resultados_df.append({'product_id': i, 'product_id_tn': serie_test, 'y_hat': yhat[0][1]}, ignore_index=True)\n"
     ]
    },
    {
     "name": "stdout",
     "output_type": "stream",
     "text": [
      "20806\n"
     ]
    },
    {
     "name": "stderr",
     "output_type": "stream",
     "text": [
      "/var/folders/x4/m6ss_3nn1vn52_2htr4xj3800000gp/T/ipykernel_14000/3859271102.py:25: FutureWarning: The frame.append method is deprecated and will be removed from pandas in a future version. Use pandas.concat instead.\n",
      "  resultados_df = resultados_df.append({'product_id': i, 'product_id_tn': serie_test, 'y_hat': yhat[0][1]}, ignore_index=True)\n"
     ]
    },
    {
     "name": "stdout",
     "output_type": "stream",
     "text": [
      "20807\n"
     ]
    },
    {
     "name": "stderr",
     "output_type": "stream",
     "text": [
      "/var/folders/x4/m6ss_3nn1vn52_2htr4xj3800000gp/T/ipykernel_14000/3859271102.py:25: FutureWarning: The frame.append method is deprecated and will be removed from pandas in a future version. Use pandas.concat instead.\n",
      "  resultados_df = resultados_df.append({'product_id': i, 'product_id_tn': serie_test, 'y_hat': yhat[0][1]}, ignore_index=True)\n"
     ]
    },
    {
     "name": "stdout",
     "output_type": "stream",
     "text": [
      "20808\n"
     ]
    },
    {
     "name": "stderr",
     "output_type": "stream",
     "text": [
      "/var/folders/x4/m6ss_3nn1vn52_2htr4xj3800000gp/T/ipykernel_14000/3859271102.py:25: FutureWarning: The frame.append method is deprecated and will be removed from pandas in a future version. Use pandas.concat instead.\n",
      "  resultados_df = resultados_df.append({'product_id': i, 'product_id_tn': serie_test, 'y_hat': yhat[0][1]}, ignore_index=True)\n"
     ]
    },
    {
     "name": "stdout",
     "output_type": "stream",
     "text": [
      "20809\n"
     ]
    },
    {
     "name": "stderr",
     "output_type": "stream",
     "text": [
      "/var/folders/x4/m6ss_3nn1vn52_2htr4xj3800000gp/T/ipykernel_14000/3859271102.py:25: FutureWarning: The frame.append method is deprecated and will be removed from pandas in a future version. Use pandas.concat instead.\n",
      "  resultados_df = resultados_df.append({'product_id': i, 'product_id_tn': serie_test, 'y_hat': yhat[0][1]}, ignore_index=True)\n"
     ]
    },
    {
     "name": "stdout",
     "output_type": "stream",
     "text": [
      "20810\n"
     ]
    },
    {
     "name": "stderr",
     "output_type": "stream",
     "text": [
      "/var/folders/x4/m6ss_3nn1vn52_2htr4xj3800000gp/T/ipykernel_14000/3859271102.py:25: FutureWarning: The frame.append method is deprecated and will be removed from pandas in a future version. Use pandas.concat instead.\n",
      "  resultados_df = resultados_df.append({'product_id': i, 'product_id_tn': serie_test, 'y_hat': yhat[0][1]}, ignore_index=True)\n"
     ]
    },
    {
     "name": "stdout",
     "output_type": "stream",
     "text": [
      "20811\n"
     ]
    },
    {
     "name": "stderr",
     "output_type": "stream",
     "text": [
      "/var/folders/x4/m6ss_3nn1vn52_2htr4xj3800000gp/T/ipykernel_14000/3859271102.py:25: FutureWarning: The frame.append method is deprecated and will be removed from pandas in a future version. Use pandas.concat instead.\n",
      "  resultados_df = resultados_df.append({'product_id': i, 'product_id_tn': serie_test, 'y_hat': yhat[0][1]}, ignore_index=True)\n"
     ]
    },
    {
     "name": "stdout",
     "output_type": "stream",
     "text": [
      "20812\n"
     ]
    },
    {
     "name": "stderr",
     "output_type": "stream",
     "text": [
      "/var/folders/x4/m6ss_3nn1vn52_2htr4xj3800000gp/T/ipykernel_14000/3859271102.py:25: FutureWarning: The frame.append method is deprecated and will be removed from pandas in a future version. Use pandas.concat instead.\n",
      "  resultados_df = resultados_df.append({'product_id': i, 'product_id_tn': serie_test, 'y_hat': yhat[0][1]}, ignore_index=True)\n"
     ]
    },
    {
     "name": "stdout",
     "output_type": "stream",
     "text": [
      "20813\n"
     ]
    },
    {
     "name": "stderr",
     "output_type": "stream",
     "text": [
      "/var/folders/x4/m6ss_3nn1vn52_2htr4xj3800000gp/T/ipykernel_14000/3859271102.py:25: FutureWarning: The frame.append method is deprecated and will be removed from pandas in a future version. Use pandas.concat instead.\n",
      "  resultados_df = resultados_df.append({'product_id': i, 'product_id_tn': serie_test, 'y_hat': yhat[0][1]}, ignore_index=True)\n"
     ]
    },
    {
     "name": "stdout",
     "output_type": "stream",
     "text": [
      "20814\n"
     ]
    },
    {
     "name": "stderr",
     "output_type": "stream",
     "text": [
      "/var/folders/x4/m6ss_3nn1vn52_2htr4xj3800000gp/T/ipykernel_14000/3859271102.py:25: FutureWarning: The frame.append method is deprecated and will be removed from pandas in a future version. Use pandas.concat instead.\n",
      "  resultados_df = resultados_df.append({'product_id': i, 'product_id_tn': serie_test, 'y_hat': yhat[0][1]}, ignore_index=True)\n"
     ]
    },
    {
     "name": "stdout",
     "output_type": "stream",
     "text": [
      "20816\n"
     ]
    },
    {
     "name": "stderr",
     "output_type": "stream",
     "text": [
      "/var/folders/x4/m6ss_3nn1vn52_2htr4xj3800000gp/T/ipykernel_14000/3859271102.py:25: FutureWarning: The frame.append method is deprecated and will be removed from pandas in a future version. Use pandas.concat instead.\n",
      "  resultados_df = resultados_df.append({'product_id': i, 'product_id_tn': serie_test, 'y_hat': yhat[0][1]}, ignore_index=True)\n"
     ]
    },
    {
     "name": "stdout",
     "output_type": "stream",
     "text": [
      "20818\n"
     ]
    },
    {
     "name": "stderr",
     "output_type": "stream",
     "text": [
      "/var/folders/x4/m6ss_3nn1vn52_2htr4xj3800000gp/T/ipykernel_14000/3859271102.py:25: FutureWarning: The frame.append method is deprecated and will be removed from pandas in a future version. Use pandas.concat instead.\n",
      "  resultados_df = resultados_df.append({'product_id': i, 'product_id_tn': serie_test, 'y_hat': yhat[0][1]}, ignore_index=True)\n"
     ]
    },
    {
     "name": "stdout",
     "output_type": "stream",
     "text": [
      "20819\n"
     ]
    },
    {
     "name": "stderr",
     "output_type": "stream",
     "text": [
      "/var/folders/x4/m6ss_3nn1vn52_2htr4xj3800000gp/T/ipykernel_14000/3859271102.py:25: FutureWarning: The frame.append method is deprecated and will be removed from pandas in a future version. Use pandas.concat instead.\n",
      "  resultados_df = resultados_df.append({'product_id': i, 'product_id_tn': serie_test, 'y_hat': yhat[0][1]}, ignore_index=True)\n"
     ]
    },
    {
     "name": "stdout",
     "output_type": "stream",
     "text": [
      "20820\n"
     ]
    },
    {
     "name": "stderr",
     "output_type": "stream",
     "text": [
      "/var/folders/x4/m6ss_3nn1vn52_2htr4xj3800000gp/T/ipykernel_14000/3859271102.py:25: FutureWarning: The frame.append method is deprecated and will be removed from pandas in a future version. Use pandas.concat instead.\n",
      "  resultados_df = resultados_df.append({'product_id': i, 'product_id_tn': serie_test, 'y_hat': yhat[0][1]}, ignore_index=True)\n"
     ]
    },
    {
     "name": "stdout",
     "output_type": "stream",
     "text": [
      "20821\n"
     ]
    },
    {
     "name": "stderr",
     "output_type": "stream",
     "text": [
      "/var/folders/x4/m6ss_3nn1vn52_2htr4xj3800000gp/T/ipykernel_14000/3859271102.py:25: FutureWarning: The frame.append method is deprecated and will be removed from pandas in a future version. Use pandas.concat instead.\n",
      "  resultados_df = resultados_df.append({'product_id': i, 'product_id_tn': serie_test, 'y_hat': yhat[0][1]}, ignore_index=True)\n"
     ]
    },
    {
     "name": "stdout",
     "output_type": "stream",
     "text": [
      "20823\n"
     ]
    },
    {
     "name": "stderr",
     "output_type": "stream",
     "text": [
      "/var/folders/x4/m6ss_3nn1vn52_2htr4xj3800000gp/T/ipykernel_14000/3859271102.py:25: FutureWarning: The frame.append method is deprecated and will be removed from pandas in a future version. Use pandas.concat instead.\n",
      "  resultados_df = resultados_df.append({'product_id': i, 'product_id_tn': serie_test, 'y_hat': yhat[0][1]}, ignore_index=True)\n"
     ]
    },
    {
     "name": "stdout",
     "output_type": "stream",
     "text": [
      "20824\n"
     ]
    },
    {
     "name": "stderr",
     "output_type": "stream",
     "text": [
      "/var/folders/x4/m6ss_3nn1vn52_2htr4xj3800000gp/T/ipykernel_14000/3859271102.py:25: FutureWarning: The frame.append method is deprecated and will be removed from pandas in a future version. Use pandas.concat instead.\n",
      "  resultados_df = resultados_df.append({'product_id': i, 'product_id_tn': serie_test, 'y_hat': yhat[0][1]}, ignore_index=True)\n"
     ]
    },
    {
     "name": "stdout",
     "output_type": "stream",
     "text": [
      "20825\n"
     ]
    },
    {
     "name": "stderr",
     "output_type": "stream",
     "text": [
      "/var/folders/x4/m6ss_3nn1vn52_2htr4xj3800000gp/T/ipykernel_14000/3859271102.py:25: FutureWarning: The frame.append method is deprecated and will be removed from pandas in a future version. Use pandas.concat instead.\n",
      "  resultados_df = resultados_df.append({'product_id': i, 'product_id_tn': serie_test, 'y_hat': yhat[0][1]}, ignore_index=True)\n"
     ]
    },
    {
     "name": "stdout",
     "output_type": "stream",
     "text": [
      "20826\n"
     ]
    },
    {
     "name": "stderr",
     "output_type": "stream",
     "text": [
      "/var/folders/x4/m6ss_3nn1vn52_2htr4xj3800000gp/T/ipykernel_14000/3859271102.py:25: FutureWarning: The frame.append method is deprecated and will be removed from pandas in a future version. Use pandas.concat instead.\n",
      "  resultados_df = resultados_df.append({'product_id': i, 'product_id_tn': serie_test, 'y_hat': yhat[0][1]}, ignore_index=True)\n"
     ]
    },
    {
     "name": "stdout",
     "output_type": "stream",
     "text": [
      "20828\n"
     ]
    },
    {
     "name": "stderr",
     "output_type": "stream",
     "text": [
      "/var/folders/x4/m6ss_3nn1vn52_2htr4xj3800000gp/T/ipykernel_14000/3859271102.py:25: FutureWarning: The frame.append method is deprecated and will be removed from pandas in a future version. Use pandas.concat instead.\n",
      "  resultados_df = resultados_df.append({'product_id': i, 'product_id_tn': serie_test, 'y_hat': yhat[0][1]}, ignore_index=True)\n"
     ]
    },
    {
     "name": "stdout",
     "output_type": "stream",
     "text": [
      "20829\n"
     ]
    },
    {
     "name": "stderr",
     "output_type": "stream",
     "text": [
      "/var/folders/x4/m6ss_3nn1vn52_2htr4xj3800000gp/T/ipykernel_14000/3859271102.py:25: FutureWarning: The frame.append method is deprecated and will be removed from pandas in a future version. Use pandas.concat instead.\n",
      "  resultados_df = resultados_df.append({'product_id': i, 'product_id_tn': serie_test, 'y_hat': yhat[0][1]}, ignore_index=True)\n"
     ]
    },
    {
     "name": "stdout",
     "output_type": "stream",
     "text": [
      "20830\n"
     ]
    },
    {
     "name": "stderr",
     "output_type": "stream",
     "text": [
      "/var/folders/x4/m6ss_3nn1vn52_2htr4xj3800000gp/T/ipykernel_14000/3859271102.py:25: FutureWarning: The frame.append method is deprecated and will be removed from pandas in a future version. Use pandas.concat instead.\n",
      "  resultados_df = resultados_df.append({'product_id': i, 'product_id_tn': serie_test, 'y_hat': yhat[0][1]}, ignore_index=True)\n"
     ]
    },
    {
     "name": "stdout",
     "output_type": "stream",
     "text": [
      "20831\n"
     ]
    },
    {
     "name": "stderr",
     "output_type": "stream",
     "text": [
      "/var/folders/x4/m6ss_3nn1vn52_2htr4xj3800000gp/T/ipykernel_14000/3859271102.py:25: FutureWarning: The frame.append method is deprecated and will be removed from pandas in a future version. Use pandas.concat instead.\n",
      "  resultados_df = resultados_df.append({'product_id': i, 'product_id_tn': serie_test, 'y_hat': yhat[0][1]}, ignore_index=True)\n"
     ]
    },
    {
     "name": "stdout",
     "output_type": "stream",
     "text": [
      "20832\n"
     ]
    },
    {
     "name": "stderr",
     "output_type": "stream",
     "text": [
      "/var/folders/x4/m6ss_3nn1vn52_2htr4xj3800000gp/T/ipykernel_14000/3859271102.py:25: FutureWarning: The frame.append method is deprecated and will be removed from pandas in a future version. Use pandas.concat instead.\n",
      "  resultados_df = resultados_df.append({'product_id': i, 'product_id_tn': serie_test, 'y_hat': yhat[0][1]}, ignore_index=True)\n"
     ]
    },
    {
     "name": "stdout",
     "output_type": "stream",
     "text": [
      "20833\n"
     ]
    },
    {
     "name": "stderr",
     "output_type": "stream",
     "text": [
      "/var/folders/x4/m6ss_3nn1vn52_2htr4xj3800000gp/T/ipykernel_14000/3859271102.py:25: FutureWarning: The frame.append method is deprecated and will be removed from pandas in a future version. Use pandas.concat instead.\n",
      "  resultados_df = resultados_df.append({'product_id': i, 'product_id_tn': serie_test, 'y_hat': yhat[0][1]}, ignore_index=True)\n"
     ]
    },
    {
     "name": "stdout",
     "output_type": "stream",
     "text": [
      "20837\n"
     ]
    },
    {
     "name": "stderr",
     "output_type": "stream",
     "text": [
      "/var/folders/x4/m6ss_3nn1vn52_2htr4xj3800000gp/T/ipykernel_14000/3859271102.py:25: FutureWarning: The frame.append method is deprecated and will be removed from pandas in a future version. Use pandas.concat instead.\n",
      "  resultados_df = resultados_df.append({'product_id': i, 'product_id_tn': serie_test, 'y_hat': yhat[0][1]}, ignore_index=True)\n"
     ]
    },
    {
     "name": "stdout",
     "output_type": "stream",
     "text": [
      "20838\n"
     ]
    },
    {
     "name": "stderr",
     "output_type": "stream",
     "text": [
      "/var/folders/x4/m6ss_3nn1vn52_2htr4xj3800000gp/T/ipykernel_14000/3859271102.py:25: FutureWarning: The frame.append method is deprecated and will be removed from pandas in a future version. Use pandas.concat instead.\n",
      "  resultados_df = resultados_df.append({'product_id': i, 'product_id_tn': serie_test, 'y_hat': yhat[0][1]}, ignore_index=True)\n"
     ]
    },
    {
     "name": "stdout",
     "output_type": "stream",
     "text": [
      "20839\n"
     ]
    },
    {
     "name": "stderr",
     "output_type": "stream",
     "text": [
      "/var/folders/x4/m6ss_3nn1vn52_2htr4xj3800000gp/T/ipykernel_14000/3859271102.py:25: FutureWarning: The frame.append method is deprecated and will be removed from pandas in a future version. Use pandas.concat instead.\n",
      "  resultados_df = resultados_df.append({'product_id': i, 'product_id_tn': serie_test, 'y_hat': yhat[0][1]}, ignore_index=True)\n"
     ]
    },
    {
     "name": "stdout",
     "output_type": "stream",
     "text": [
      "20840\n"
     ]
    },
    {
     "name": "stderr",
     "output_type": "stream",
     "text": [
      "/var/folders/x4/m6ss_3nn1vn52_2htr4xj3800000gp/T/ipykernel_14000/3859271102.py:25: FutureWarning: The frame.append method is deprecated and will be removed from pandas in a future version. Use pandas.concat instead.\n",
      "  resultados_df = resultados_df.append({'product_id': i, 'product_id_tn': serie_test, 'y_hat': yhat[0][1]}, ignore_index=True)\n"
     ]
    },
    {
     "name": "stdout",
     "output_type": "stream",
     "text": [
      "20841\n"
     ]
    },
    {
     "name": "stderr",
     "output_type": "stream",
     "text": [
      "/var/folders/x4/m6ss_3nn1vn52_2htr4xj3800000gp/T/ipykernel_14000/3859271102.py:25: FutureWarning: The frame.append method is deprecated and will be removed from pandas in a future version. Use pandas.concat instead.\n",
      "  resultados_df = resultados_df.append({'product_id': i, 'product_id_tn': serie_test, 'y_hat': yhat[0][1]}, ignore_index=True)\n"
     ]
    },
    {
     "name": "stdout",
     "output_type": "stream",
     "text": [
      "20843\n"
     ]
    },
    {
     "name": "stderr",
     "output_type": "stream",
     "text": [
      "/var/folders/x4/m6ss_3nn1vn52_2htr4xj3800000gp/T/ipykernel_14000/3859271102.py:25: FutureWarning: The frame.append method is deprecated and will be removed from pandas in a future version. Use pandas.concat instead.\n",
      "  resultados_df = resultados_df.append({'product_id': i, 'product_id_tn': serie_test, 'y_hat': yhat[0][1]}, ignore_index=True)\n"
     ]
    },
    {
     "name": "stdout",
     "output_type": "stream",
     "text": [
      "20844\n"
     ]
    },
    {
     "name": "stderr",
     "output_type": "stream",
     "text": [
      "/var/folders/x4/m6ss_3nn1vn52_2htr4xj3800000gp/T/ipykernel_14000/3859271102.py:25: FutureWarning: The frame.append method is deprecated and will be removed from pandas in a future version. Use pandas.concat instead.\n",
      "  resultados_df = resultados_df.append({'product_id': i, 'product_id_tn': serie_test, 'y_hat': yhat[0][1]}, ignore_index=True)\n"
     ]
    },
    {
     "name": "stdout",
     "output_type": "stream",
     "text": [
      "20846\n"
     ]
    },
    {
     "name": "stderr",
     "output_type": "stream",
     "text": [
      "/var/folders/x4/m6ss_3nn1vn52_2htr4xj3800000gp/T/ipykernel_14000/3859271102.py:25: FutureWarning: The frame.append method is deprecated and will be removed from pandas in a future version. Use pandas.concat instead.\n",
      "  resultados_df = resultados_df.append({'product_id': i, 'product_id_tn': serie_test, 'y_hat': yhat[0][1]}, ignore_index=True)\n"
     ]
    },
    {
     "name": "stdout",
     "output_type": "stream",
     "text": [
      "20847\n"
     ]
    },
    {
     "name": "stderr",
     "output_type": "stream",
     "text": [
      "/var/folders/x4/m6ss_3nn1vn52_2htr4xj3800000gp/T/ipykernel_14000/3859271102.py:25: FutureWarning: The frame.append method is deprecated and will be removed from pandas in a future version. Use pandas.concat instead.\n",
      "  resultados_df = resultados_df.append({'product_id': i, 'product_id_tn': serie_test, 'y_hat': yhat[0][1]}, ignore_index=True)\n"
     ]
    },
    {
     "name": "stdout",
     "output_type": "stream",
     "text": [
      "20848\n"
     ]
    },
    {
     "name": "stderr",
     "output_type": "stream",
     "text": [
      "/var/folders/x4/m6ss_3nn1vn52_2htr4xj3800000gp/T/ipykernel_14000/3859271102.py:25: FutureWarning: The frame.append method is deprecated and will be removed from pandas in a future version. Use pandas.concat instead.\n",
      "  resultados_df = resultados_df.append({'product_id': i, 'product_id_tn': serie_test, 'y_hat': yhat[0][1]}, ignore_index=True)\n"
     ]
    },
    {
     "name": "stdout",
     "output_type": "stream",
     "text": [
      "20849\n"
     ]
    },
    {
     "name": "stderr",
     "output_type": "stream",
     "text": [
      "/var/folders/x4/m6ss_3nn1vn52_2htr4xj3800000gp/T/ipykernel_14000/3859271102.py:25: FutureWarning: The frame.append method is deprecated and will be removed from pandas in a future version. Use pandas.concat instead.\n",
      "  resultados_df = resultados_df.append({'product_id': i, 'product_id_tn': serie_test, 'y_hat': yhat[0][1]}, ignore_index=True)\n"
     ]
    },
    {
     "name": "stdout",
     "output_type": "stream",
     "text": [
      "20850\n"
     ]
    },
    {
     "name": "stderr",
     "output_type": "stream",
     "text": [
      "/var/folders/x4/m6ss_3nn1vn52_2htr4xj3800000gp/T/ipykernel_14000/3859271102.py:25: FutureWarning: The frame.append method is deprecated and will be removed from pandas in a future version. Use pandas.concat instead.\n",
      "  resultados_df = resultados_df.append({'product_id': i, 'product_id_tn': serie_test, 'y_hat': yhat[0][1]}, ignore_index=True)\n"
     ]
    },
    {
     "name": "stdout",
     "output_type": "stream",
     "text": [
      "20851\n"
     ]
    },
    {
     "name": "stderr",
     "output_type": "stream",
     "text": [
      "/var/folders/x4/m6ss_3nn1vn52_2htr4xj3800000gp/T/ipykernel_14000/3859271102.py:25: FutureWarning: The frame.append method is deprecated and will be removed from pandas in a future version. Use pandas.concat instead.\n",
      "  resultados_df = resultados_df.append({'product_id': i, 'product_id_tn': serie_test, 'y_hat': yhat[0][1]}, ignore_index=True)\n"
     ]
    },
    {
     "name": "stdout",
     "output_type": "stream",
     "text": [
      "20852\n"
     ]
    },
    {
     "name": "stderr",
     "output_type": "stream",
     "text": [
      "/var/folders/x4/m6ss_3nn1vn52_2htr4xj3800000gp/T/ipykernel_14000/3859271102.py:25: FutureWarning: The frame.append method is deprecated and will be removed from pandas in a future version. Use pandas.concat instead.\n",
      "  resultados_df = resultados_df.append({'product_id': i, 'product_id_tn': serie_test, 'y_hat': yhat[0][1]}, ignore_index=True)\n"
     ]
    },
    {
     "name": "stdout",
     "output_type": "stream",
     "text": [
      "20853\n"
     ]
    },
    {
     "name": "stderr",
     "output_type": "stream",
     "text": [
      "/var/folders/x4/m6ss_3nn1vn52_2htr4xj3800000gp/T/ipykernel_14000/3859271102.py:25: FutureWarning: The frame.append method is deprecated and will be removed from pandas in a future version. Use pandas.concat instead.\n",
      "  resultados_df = resultados_df.append({'product_id': i, 'product_id_tn': serie_test, 'y_hat': yhat[0][1]}, ignore_index=True)\n"
     ]
    },
    {
     "name": "stdout",
     "output_type": "stream",
     "text": [
      "20855\n"
     ]
    },
    {
     "name": "stderr",
     "output_type": "stream",
     "text": [
      "/var/folders/x4/m6ss_3nn1vn52_2htr4xj3800000gp/T/ipykernel_14000/3859271102.py:25: FutureWarning: The frame.append method is deprecated and will be removed from pandas in a future version. Use pandas.concat instead.\n",
      "  resultados_df = resultados_df.append({'product_id': i, 'product_id_tn': serie_test, 'y_hat': yhat[0][1]}, ignore_index=True)\n"
     ]
    },
    {
     "name": "stdout",
     "output_type": "stream",
     "text": [
      "20856\n"
     ]
    },
    {
     "name": "stderr",
     "output_type": "stream",
     "text": [
      "/var/folders/x4/m6ss_3nn1vn52_2htr4xj3800000gp/T/ipykernel_14000/3859271102.py:25: FutureWarning: The frame.append method is deprecated and will be removed from pandas in a future version. Use pandas.concat instead.\n",
      "  resultados_df = resultados_df.append({'product_id': i, 'product_id_tn': serie_test, 'y_hat': yhat[0][1]}, ignore_index=True)\n"
     ]
    },
    {
     "name": "stdout",
     "output_type": "stream",
     "text": [
      "20857\n"
     ]
    },
    {
     "name": "stderr",
     "output_type": "stream",
     "text": [
      "/var/folders/x4/m6ss_3nn1vn52_2htr4xj3800000gp/T/ipykernel_14000/3859271102.py:25: FutureWarning: The frame.append method is deprecated and will be removed from pandas in a future version. Use pandas.concat instead.\n",
      "  resultados_df = resultados_df.append({'product_id': i, 'product_id_tn': serie_test, 'y_hat': yhat[0][1]}, ignore_index=True)\n"
     ]
    },
    {
     "name": "stdout",
     "output_type": "stream",
     "text": [
      "20858\n"
     ]
    },
    {
     "name": "stderr",
     "output_type": "stream",
     "text": [
      "/var/folders/x4/m6ss_3nn1vn52_2htr4xj3800000gp/T/ipykernel_14000/3859271102.py:25: FutureWarning: The frame.append method is deprecated and will be removed from pandas in a future version. Use pandas.concat instead.\n",
      "  resultados_df = resultados_df.append({'product_id': i, 'product_id_tn': serie_test, 'y_hat': yhat[0][1]}, ignore_index=True)\n"
     ]
    },
    {
     "name": "stdout",
     "output_type": "stream",
     "text": [
      "20860\n"
     ]
    },
    {
     "name": "stderr",
     "output_type": "stream",
     "text": [
      "/var/folders/x4/m6ss_3nn1vn52_2htr4xj3800000gp/T/ipykernel_14000/3859271102.py:25: FutureWarning: The frame.append method is deprecated and will be removed from pandas in a future version. Use pandas.concat instead.\n",
      "  resultados_df = resultados_df.append({'product_id': i, 'product_id_tn': serie_test, 'y_hat': yhat[0][1]}, ignore_index=True)\n"
     ]
    },
    {
     "name": "stdout",
     "output_type": "stream",
     "text": [
      "20861\n"
     ]
    },
    {
     "name": "stderr",
     "output_type": "stream",
     "text": [
      "/var/folders/x4/m6ss_3nn1vn52_2htr4xj3800000gp/T/ipykernel_14000/3859271102.py:25: FutureWarning: The frame.append method is deprecated and will be removed from pandas in a future version. Use pandas.concat instead.\n",
      "  resultados_df = resultados_df.append({'product_id': i, 'product_id_tn': serie_test, 'y_hat': yhat[0][1]}, ignore_index=True)\n"
     ]
    },
    {
     "name": "stdout",
     "output_type": "stream",
     "text": [
      "20862\n"
     ]
    },
    {
     "name": "stderr",
     "output_type": "stream",
     "text": [
      "/var/folders/x4/m6ss_3nn1vn52_2htr4xj3800000gp/T/ipykernel_14000/3859271102.py:25: FutureWarning: The frame.append method is deprecated and will be removed from pandas in a future version. Use pandas.concat instead.\n",
      "  resultados_df = resultados_df.append({'product_id': i, 'product_id_tn': serie_test, 'y_hat': yhat[0][1]}, ignore_index=True)\n"
     ]
    },
    {
     "name": "stdout",
     "output_type": "stream",
     "text": [
      "20863\n"
     ]
    },
    {
     "name": "stderr",
     "output_type": "stream",
     "text": [
      "/var/folders/x4/m6ss_3nn1vn52_2htr4xj3800000gp/T/ipykernel_14000/3859271102.py:25: FutureWarning: The frame.append method is deprecated and will be removed from pandas in a future version. Use pandas.concat instead.\n",
      "  resultados_df = resultados_df.append({'product_id': i, 'product_id_tn': serie_test, 'y_hat': yhat[0][1]}, ignore_index=True)\n"
     ]
    },
    {
     "name": "stdout",
     "output_type": "stream",
     "text": [
      "20864\n"
     ]
    },
    {
     "name": "stderr",
     "output_type": "stream",
     "text": [
      "/var/folders/x4/m6ss_3nn1vn52_2htr4xj3800000gp/T/ipykernel_14000/3859271102.py:25: FutureWarning: The frame.append method is deprecated and will be removed from pandas in a future version. Use pandas.concat instead.\n",
      "  resultados_df = resultados_df.append({'product_id': i, 'product_id_tn': serie_test, 'y_hat': yhat[0][1]}, ignore_index=True)\n"
     ]
    },
    {
     "name": "stdout",
     "output_type": "stream",
     "text": [
      "20865\n"
     ]
    },
    {
     "name": "stderr",
     "output_type": "stream",
     "text": [
      "/var/folders/x4/m6ss_3nn1vn52_2htr4xj3800000gp/T/ipykernel_14000/3859271102.py:25: FutureWarning: The frame.append method is deprecated and will be removed from pandas in a future version. Use pandas.concat instead.\n",
      "  resultados_df = resultados_df.append({'product_id': i, 'product_id_tn': serie_test, 'y_hat': yhat[0][1]}, ignore_index=True)\n"
     ]
    },
    {
     "name": "stdout",
     "output_type": "stream",
     "text": [
      "20866\n"
     ]
    },
    {
     "name": "stderr",
     "output_type": "stream",
     "text": [
      "/var/folders/x4/m6ss_3nn1vn52_2htr4xj3800000gp/T/ipykernel_14000/3859271102.py:25: FutureWarning: The frame.append method is deprecated and will be removed from pandas in a future version. Use pandas.concat instead.\n",
      "  resultados_df = resultados_df.append({'product_id': i, 'product_id_tn': serie_test, 'y_hat': yhat[0][1]}, ignore_index=True)\n"
     ]
    },
    {
     "name": "stdout",
     "output_type": "stream",
     "text": [
      "20868\n"
     ]
    },
    {
     "name": "stderr",
     "output_type": "stream",
     "text": [
      "/var/folders/x4/m6ss_3nn1vn52_2htr4xj3800000gp/T/ipykernel_14000/3859271102.py:25: FutureWarning: The frame.append method is deprecated and will be removed from pandas in a future version. Use pandas.concat instead.\n",
      "  resultados_df = resultados_df.append({'product_id': i, 'product_id_tn': serie_test, 'y_hat': yhat[0][1]}, ignore_index=True)\n"
     ]
    },
    {
     "name": "stdout",
     "output_type": "stream",
     "text": [
      "20869\n"
     ]
    },
    {
     "name": "stderr",
     "output_type": "stream",
     "text": [
      "/var/folders/x4/m6ss_3nn1vn52_2htr4xj3800000gp/T/ipykernel_14000/3859271102.py:25: FutureWarning: The frame.append method is deprecated and will be removed from pandas in a future version. Use pandas.concat instead.\n",
      "  resultados_df = resultados_df.append({'product_id': i, 'product_id_tn': serie_test, 'y_hat': yhat[0][1]}, ignore_index=True)\n"
     ]
    },
    {
     "name": "stdout",
     "output_type": "stream",
     "text": [
      "20870\n"
     ]
    },
    {
     "name": "stderr",
     "output_type": "stream",
     "text": [
      "/var/folders/x4/m6ss_3nn1vn52_2htr4xj3800000gp/T/ipykernel_14000/3859271102.py:25: FutureWarning: The frame.append method is deprecated and will be removed from pandas in a future version. Use pandas.concat instead.\n",
      "  resultados_df = resultados_df.append({'product_id': i, 'product_id_tn': serie_test, 'y_hat': yhat[0][1]}, ignore_index=True)\n"
     ]
    },
    {
     "name": "stdout",
     "output_type": "stream",
     "text": [
      "20872\n"
     ]
    },
    {
     "name": "stderr",
     "output_type": "stream",
     "text": [
      "/var/folders/x4/m6ss_3nn1vn52_2htr4xj3800000gp/T/ipykernel_14000/3859271102.py:25: FutureWarning: The frame.append method is deprecated and will be removed from pandas in a future version. Use pandas.concat instead.\n",
      "  resultados_df = resultados_df.append({'product_id': i, 'product_id_tn': serie_test, 'y_hat': yhat[0][1]}, ignore_index=True)\n"
     ]
    },
    {
     "name": "stdout",
     "output_type": "stream",
     "text": [
      "20873\n"
     ]
    },
    {
     "name": "stderr",
     "output_type": "stream",
     "text": [
      "/var/folders/x4/m6ss_3nn1vn52_2htr4xj3800000gp/T/ipykernel_14000/3859271102.py:25: FutureWarning: The frame.append method is deprecated and will be removed from pandas in a future version. Use pandas.concat instead.\n",
      "  resultados_df = resultados_df.append({'product_id': i, 'product_id_tn': serie_test, 'y_hat': yhat[0][1]}, ignore_index=True)\n"
     ]
    },
    {
     "name": "stdout",
     "output_type": "stream",
     "text": [
      "20874\n"
     ]
    },
    {
     "name": "stderr",
     "output_type": "stream",
     "text": [
      "/var/folders/x4/m6ss_3nn1vn52_2htr4xj3800000gp/T/ipykernel_14000/3859271102.py:25: FutureWarning: The frame.append method is deprecated and will be removed from pandas in a future version. Use pandas.concat instead.\n",
      "  resultados_df = resultados_df.append({'product_id': i, 'product_id_tn': serie_test, 'y_hat': yhat[0][1]}, ignore_index=True)\n"
     ]
    },
    {
     "name": "stdout",
     "output_type": "stream",
     "text": [
      "20876\n"
     ]
    },
    {
     "name": "stderr",
     "output_type": "stream",
     "text": [
      "/var/folders/x4/m6ss_3nn1vn52_2htr4xj3800000gp/T/ipykernel_14000/3859271102.py:25: FutureWarning: The frame.append method is deprecated and will be removed from pandas in a future version. Use pandas.concat instead.\n",
      "  resultados_df = resultados_df.append({'product_id': i, 'product_id_tn': serie_test, 'y_hat': yhat[0][1]}, ignore_index=True)\n"
     ]
    },
    {
     "name": "stdout",
     "output_type": "stream",
     "text": [
      "20877\n"
     ]
    },
    {
     "name": "stderr",
     "output_type": "stream",
     "text": [
      "/var/folders/x4/m6ss_3nn1vn52_2htr4xj3800000gp/T/ipykernel_14000/3859271102.py:25: FutureWarning: The frame.append method is deprecated and will be removed from pandas in a future version. Use pandas.concat instead.\n",
      "  resultados_df = resultados_df.append({'product_id': i, 'product_id_tn': serie_test, 'y_hat': yhat[0][1]}, ignore_index=True)\n"
     ]
    },
    {
     "name": "stdout",
     "output_type": "stream",
     "text": [
      "20878\n"
     ]
    },
    {
     "name": "stderr",
     "output_type": "stream",
     "text": [
      "/var/folders/x4/m6ss_3nn1vn52_2htr4xj3800000gp/T/ipykernel_14000/3859271102.py:25: FutureWarning: The frame.append method is deprecated and will be removed from pandas in a future version. Use pandas.concat instead.\n",
      "  resultados_df = resultados_df.append({'product_id': i, 'product_id_tn': serie_test, 'y_hat': yhat[0][1]}, ignore_index=True)\n"
     ]
    },
    {
     "name": "stdout",
     "output_type": "stream",
     "text": [
      "20879\n"
     ]
    },
    {
     "name": "stderr",
     "output_type": "stream",
     "text": [
      "/var/folders/x4/m6ss_3nn1vn52_2htr4xj3800000gp/T/ipykernel_14000/3859271102.py:25: FutureWarning: The frame.append method is deprecated and will be removed from pandas in a future version. Use pandas.concat instead.\n",
      "  resultados_df = resultados_df.append({'product_id': i, 'product_id_tn': serie_test, 'y_hat': yhat[0][1]}, ignore_index=True)\n"
     ]
    },
    {
     "name": "stdout",
     "output_type": "stream",
     "text": [
      "20880\n"
     ]
    },
    {
     "name": "stderr",
     "output_type": "stream",
     "text": [
      "/var/folders/x4/m6ss_3nn1vn52_2htr4xj3800000gp/T/ipykernel_14000/3859271102.py:25: FutureWarning: The frame.append method is deprecated and will be removed from pandas in a future version. Use pandas.concat instead.\n",
      "  resultados_df = resultados_df.append({'product_id': i, 'product_id_tn': serie_test, 'y_hat': yhat[0][1]}, ignore_index=True)\n"
     ]
    },
    {
     "name": "stdout",
     "output_type": "stream",
     "text": [
      "20881\n"
     ]
    },
    {
     "name": "stderr",
     "output_type": "stream",
     "text": [
      "/var/folders/x4/m6ss_3nn1vn52_2htr4xj3800000gp/T/ipykernel_14000/3859271102.py:25: FutureWarning: The frame.append method is deprecated and will be removed from pandas in a future version. Use pandas.concat instead.\n",
      "  resultados_df = resultados_df.append({'product_id': i, 'product_id_tn': serie_test, 'y_hat': yhat[0][1]}, ignore_index=True)\n"
     ]
    },
    {
     "name": "stdout",
     "output_type": "stream",
     "text": [
      "20882\n"
     ]
    },
    {
     "name": "stderr",
     "output_type": "stream",
     "text": [
      "/var/folders/x4/m6ss_3nn1vn52_2htr4xj3800000gp/T/ipykernel_14000/3859271102.py:25: FutureWarning: The frame.append method is deprecated and will be removed from pandas in a future version. Use pandas.concat instead.\n",
      "  resultados_df = resultados_df.append({'product_id': i, 'product_id_tn': serie_test, 'y_hat': yhat[0][1]}, ignore_index=True)\n"
     ]
    },
    {
     "name": "stdout",
     "output_type": "stream",
     "text": [
      "20883\n"
     ]
    },
    {
     "name": "stderr",
     "output_type": "stream",
     "text": [
      "/var/folders/x4/m6ss_3nn1vn52_2htr4xj3800000gp/T/ipykernel_14000/3859271102.py:25: FutureWarning: The frame.append method is deprecated and will be removed from pandas in a future version. Use pandas.concat instead.\n",
      "  resultados_df = resultados_df.append({'product_id': i, 'product_id_tn': serie_test, 'y_hat': yhat[0][1]}, ignore_index=True)\n"
     ]
    },
    {
     "name": "stdout",
     "output_type": "stream",
     "text": [
      "20885\n"
     ]
    },
    {
     "name": "stderr",
     "output_type": "stream",
     "text": [
      "/var/folders/x4/m6ss_3nn1vn52_2htr4xj3800000gp/T/ipykernel_14000/3859271102.py:25: FutureWarning: The frame.append method is deprecated and will be removed from pandas in a future version. Use pandas.concat instead.\n",
      "  resultados_df = resultados_df.append({'product_id': i, 'product_id_tn': serie_test, 'y_hat': yhat[0][1]}, ignore_index=True)\n"
     ]
    },
    {
     "name": "stdout",
     "output_type": "stream",
     "text": [
      "20887\n"
     ]
    },
    {
     "name": "stderr",
     "output_type": "stream",
     "text": [
      "/var/folders/x4/m6ss_3nn1vn52_2htr4xj3800000gp/T/ipykernel_14000/3859271102.py:25: FutureWarning: The frame.append method is deprecated and will be removed from pandas in a future version. Use pandas.concat instead.\n",
      "  resultados_df = resultados_df.append({'product_id': i, 'product_id_tn': serie_test, 'y_hat': yhat[0][1]}, ignore_index=True)\n"
     ]
    },
    {
     "name": "stdout",
     "output_type": "stream",
     "text": [
      "20890\n"
     ]
    },
    {
     "name": "stderr",
     "output_type": "stream",
     "text": [
      "/var/folders/x4/m6ss_3nn1vn52_2htr4xj3800000gp/T/ipykernel_14000/3859271102.py:25: FutureWarning: The frame.append method is deprecated and will be removed from pandas in a future version. Use pandas.concat instead.\n",
      "  resultados_df = resultados_df.append({'product_id': i, 'product_id_tn': serie_test, 'y_hat': yhat[0][1]}, ignore_index=True)\n"
     ]
    },
    {
     "name": "stdout",
     "output_type": "stream",
     "text": [
      "20891\n"
     ]
    },
    {
     "name": "stderr",
     "output_type": "stream",
     "text": [
      "/var/folders/x4/m6ss_3nn1vn52_2htr4xj3800000gp/T/ipykernel_14000/3859271102.py:25: FutureWarning: The frame.append method is deprecated and will be removed from pandas in a future version. Use pandas.concat instead.\n",
      "  resultados_df = resultados_df.append({'product_id': i, 'product_id_tn': serie_test, 'y_hat': yhat[0][1]}, ignore_index=True)\n"
     ]
    },
    {
     "name": "stdout",
     "output_type": "stream",
     "text": [
      "20892\n"
     ]
    },
    {
     "name": "stderr",
     "output_type": "stream",
     "text": [
      "/var/folders/x4/m6ss_3nn1vn52_2htr4xj3800000gp/T/ipykernel_14000/3859271102.py:25: FutureWarning: The frame.append method is deprecated and will be removed from pandas in a future version. Use pandas.concat instead.\n",
      "  resultados_df = resultados_df.append({'product_id': i, 'product_id_tn': serie_test, 'y_hat': yhat[0][1]}, ignore_index=True)\n"
     ]
    },
    {
     "name": "stdout",
     "output_type": "stream",
     "text": [
      "20893\n"
     ]
    },
    {
     "name": "stderr",
     "output_type": "stream",
     "text": [
      "/var/folders/x4/m6ss_3nn1vn52_2htr4xj3800000gp/T/ipykernel_14000/3859271102.py:25: FutureWarning: The frame.append method is deprecated and will be removed from pandas in a future version. Use pandas.concat instead.\n",
      "  resultados_df = resultados_df.append({'product_id': i, 'product_id_tn': serie_test, 'y_hat': yhat[0][1]}, ignore_index=True)\n"
     ]
    },
    {
     "name": "stdout",
     "output_type": "stream",
     "text": [
      "20894\n"
     ]
    },
    {
     "name": "stderr",
     "output_type": "stream",
     "text": [
      "/var/folders/x4/m6ss_3nn1vn52_2htr4xj3800000gp/T/ipykernel_14000/3859271102.py:25: FutureWarning: The frame.append method is deprecated and will be removed from pandas in a future version. Use pandas.concat instead.\n",
      "  resultados_df = resultados_df.append({'product_id': i, 'product_id_tn': serie_test, 'y_hat': yhat[0][1]}, ignore_index=True)\n"
     ]
    },
    {
     "name": "stdout",
     "output_type": "stream",
     "text": [
      "20897\n"
     ]
    },
    {
     "name": "stderr",
     "output_type": "stream",
     "text": [
      "/var/folders/x4/m6ss_3nn1vn52_2htr4xj3800000gp/T/ipykernel_14000/3859271102.py:25: FutureWarning: The frame.append method is deprecated and will be removed from pandas in a future version. Use pandas.concat instead.\n",
      "  resultados_df = resultados_df.append({'product_id': i, 'product_id_tn': serie_test, 'y_hat': yhat[0][1]}, ignore_index=True)\n"
     ]
    },
    {
     "name": "stdout",
     "output_type": "stream",
     "text": [
      "20898\n"
     ]
    },
    {
     "name": "stderr",
     "output_type": "stream",
     "text": [
      "/var/folders/x4/m6ss_3nn1vn52_2htr4xj3800000gp/T/ipykernel_14000/3859271102.py:25: FutureWarning: The frame.append method is deprecated and will be removed from pandas in a future version. Use pandas.concat instead.\n",
      "  resultados_df = resultados_df.append({'product_id': i, 'product_id_tn': serie_test, 'y_hat': yhat[0][1]}, ignore_index=True)\n"
     ]
    },
    {
     "name": "stdout",
     "output_type": "stream",
     "text": [
      "20901\n"
     ]
    },
    {
     "name": "stderr",
     "output_type": "stream",
     "text": [
      "/var/folders/x4/m6ss_3nn1vn52_2htr4xj3800000gp/T/ipykernel_14000/3859271102.py:25: FutureWarning: The frame.append method is deprecated and will be removed from pandas in a future version. Use pandas.concat instead.\n",
      "  resultados_df = resultados_df.append({'product_id': i, 'product_id_tn': serie_test, 'y_hat': yhat[0][1]}, ignore_index=True)\n"
     ]
    },
    {
     "name": "stdout",
     "output_type": "stream",
     "text": [
      "20902\n"
     ]
    },
    {
     "name": "stderr",
     "output_type": "stream",
     "text": [
      "/var/folders/x4/m6ss_3nn1vn52_2htr4xj3800000gp/T/ipykernel_14000/3859271102.py:25: FutureWarning: The frame.append method is deprecated and will be removed from pandas in a future version. Use pandas.concat instead.\n",
      "  resultados_df = resultados_df.append({'product_id': i, 'product_id_tn': serie_test, 'y_hat': yhat[0][1]}, ignore_index=True)\n"
     ]
    },
    {
     "name": "stdout",
     "output_type": "stream",
     "text": [
      "20903\n"
     ]
    },
    {
     "name": "stderr",
     "output_type": "stream",
     "text": [
      "/var/folders/x4/m6ss_3nn1vn52_2htr4xj3800000gp/T/ipykernel_14000/3859271102.py:25: FutureWarning: The frame.append method is deprecated and will be removed from pandas in a future version. Use pandas.concat instead.\n",
      "  resultados_df = resultados_df.append({'product_id': i, 'product_id_tn': serie_test, 'y_hat': yhat[0][1]}, ignore_index=True)\n"
     ]
    },
    {
     "name": "stdout",
     "output_type": "stream",
     "text": [
      "20905\n"
     ]
    },
    {
     "name": "stderr",
     "output_type": "stream",
     "text": [
      "/var/folders/x4/m6ss_3nn1vn52_2htr4xj3800000gp/T/ipykernel_14000/3859271102.py:25: FutureWarning: The frame.append method is deprecated and will be removed from pandas in a future version. Use pandas.concat instead.\n",
      "  resultados_df = resultados_df.append({'product_id': i, 'product_id_tn': serie_test, 'y_hat': yhat[0][1]}, ignore_index=True)\n"
     ]
    },
    {
     "name": "stdout",
     "output_type": "stream",
     "text": [
      "20906\n"
     ]
    },
    {
     "name": "stderr",
     "output_type": "stream",
     "text": [
      "/var/folders/x4/m6ss_3nn1vn52_2htr4xj3800000gp/T/ipykernel_14000/3859271102.py:25: FutureWarning: The frame.append method is deprecated and will be removed from pandas in a future version. Use pandas.concat instead.\n",
      "  resultados_df = resultados_df.append({'product_id': i, 'product_id_tn': serie_test, 'y_hat': yhat[0][1]}, ignore_index=True)\n"
     ]
    },
    {
     "name": "stdout",
     "output_type": "stream",
     "text": [
      "20908\n"
     ]
    },
    {
     "name": "stderr",
     "output_type": "stream",
     "text": [
      "/var/folders/x4/m6ss_3nn1vn52_2htr4xj3800000gp/T/ipykernel_14000/3859271102.py:25: FutureWarning: The frame.append method is deprecated and will be removed from pandas in a future version. Use pandas.concat instead.\n",
      "  resultados_df = resultados_df.append({'product_id': i, 'product_id_tn': serie_test, 'y_hat': yhat[0][1]}, ignore_index=True)\n"
     ]
    },
    {
     "name": "stdout",
     "output_type": "stream",
     "text": [
      "20909\n"
     ]
    },
    {
     "name": "stderr",
     "output_type": "stream",
     "text": [
      "/var/folders/x4/m6ss_3nn1vn52_2htr4xj3800000gp/T/ipykernel_14000/3859271102.py:25: FutureWarning: The frame.append method is deprecated and will be removed from pandas in a future version. Use pandas.concat instead.\n",
      "  resultados_df = resultados_df.append({'product_id': i, 'product_id_tn': serie_test, 'y_hat': yhat[0][1]}, ignore_index=True)\n"
     ]
    },
    {
     "name": "stdout",
     "output_type": "stream",
     "text": [
      "20913\n"
     ]
    },
    {
     "name": "stderr",
     "output_type": "stream",
     "text": [
      "/var/folders/x4/m6ss_3nn1vn52_2htr4xj3800000gp/T/ipykernel_14000/3859271102.py:25: FutureWarning: The frame.append method is deprecated and will be removed from pandas in a future version. Use pandas.concat instead.\n",
      "  resultados_df = resultados_df.append({'product_id': i, 'product_id_tn': serie_test, 'y_hat': yhat[0][1]}, ignore_index=True)\n"
     ]
    },
    {
     "name": "stdout",
     "output_type": "stream",
     "text": [
      "20914\n"
     ]
    },
    {
     "name": "stderr",
     "output_type": "stream",
     "text": [
      "/var/folders/x4/m6ss_3nn1vn52_2htr4xj3800000gp/T/ipykernel_14000/3859271102.py:25: FutureWarning: The frame.append method is deprecated and will be removed from pandas in a future version. Use pandas.concat instead.\n",
      "  resultados_df = resultados_df.append({'product_id': i, 'product_id_tn': serie_test, 'y_hat': yhat[0][1]}, ignore_index=True)\n"
     ]
    },
    {
     "name": "stdout",
     "output_type": "stream",
     "text": [
      "20919\n"
     ]
    },
    {
     "name": "stderr",
     "output_type": "stream",
     "text": [
      "/var/folders/x4/m6ss_3nn1vn52_2htr4xj3800000gp/T/ipykernel_14000/3859271102.py:25: FutureWarning: The frame.append method is deprecated and will be removed from pandas in a future version. Use pandas.concat instead.\n",
      "  resultados_df = resultados_df.append({'product_id': i, 'product_id_tn': serie_test, 'y_hat': yhat[0][1]}, ignore_index=True)\n"
     ]
    },
    {
     "name": "stdout",
     "output_type": "stream",
     "text": [
      "20922\n"
     ]
    },
    {
     "name": "stderr",
     "output_type": "stream",
     "text": [
      "/var/folders/x4/m6ss_3nn1vn52_2htr4xj3800000gp/T/ipykernel_14000/3859271102.py:25: FutureWarning: The frame.append method is deprecated and will be removed from pandas in a future version. Use pandas.concat instead.\n",
      "  resultados_df = resultados_df.append({'product_id': i, 'product_id_tn': serie_test, 'y_hat': yhat[0][1]}, ignore_index=True)\n"
     ]
    },
    {
     "name": "stdout",
     "output_type": "stream",
     "text": [
      "20925\n"
     ]
    },
    {
     "name": "stderr",
     "output_type": "stream",
     "text": [
      "/var/folders/x4/m6ss_3nn1vn52_2htr4xj3800000gp/T/ipykernel_14000/3859271102.py:25: FutureWarning: The frame.append method is deprecated and will be removed from pandas in a future version. Use pandas.concat instead.\n",
      "  resultados_df = resultados_df.append({'product_id': i, 'product_id_tn': serie_test, 'y_hat': yhat[0][1]}, ignore_index=True)\n"
     ]
    },
    {
     "name": "stdout",
     "output_type": "stream",
     "text": [
      "20930\n"
     ]
    },
    {
     "name": "stderr",
     "output_type": "stream",
     "text": [
      "/var/folders/x4/m6ss_3nn1vn52_2htr4xj3800000gp/T/ipykernel_14000/3859271102.py:25: FutureWarning: The frame.append method is deprecated and will be removed from pandas in a future version. Use pandas.concat instead.\n",
      "  resultados_df = resultados_df.append({'product_id': i, 'product_id_tn': serie_test, 'y_hat': yhat[0][1]}, ignore_index=True)\n"
     ]
    },
    {
     "name": "stdout",
     "output_type": "stream",
     "text": [
      "20931\n"
     ]
    },
    {
     "name": "stderr",
     "output_type": "stream",
     "text": [
      "/var/folders/x4/m6ss_3nn1vn52_2htr4xj3800000gp/T/ipykernel_14000/3859271102.py:25: FutureWarning: The frame.append method is deprecated and will be removed from pandas in a future version. Use pandas.concat instead.\n",
      "  resultados_df = resultados_df.append({'product_id': i, 'product_id_tn': serie_test, 'y_hat': yhat[0][1]}, ignore_index=True)\n"
     ]
    },
    {
     "name": "stdout",
     "output_type": "stream",
     "text": [
      "20935\n"
     ]
    },
    {
     "name": "stderr",
     "output_type": "stream",
     "text": [
      "/var/folders/x4/m6ss_3nn1vn52_2htr4xj3800000gp/T/ipykernel_14000/3859271102.py:25: FutureWarning: The frame.append method is deprecated and will be removed from pandas in a future version. Use pandas.concat instead.\n",
      "  resultados_df = resultados_df.append({'product_id': i, 'product_id_tn': serie_test, 'y_hat': yhat[0][1]}, ignore_index=True)\n"
     ]
    },
    {
     "name": "stdout",
     "output_type": "stream",
     "text": [
      "20936\n"
     ]
    },
    {
     "name": "stderr",
     "output_type": "stream",
     "text": [
      "/var/folders/x4/m6ss_3nn1vn52_2htr4xj3800000gp/T/ipykernel_14000/3859271102.py:25: FutureWarning: The frame.append method is deprecated and will be removed from pandas in a future version. Use pandas.concat instead.\n",
      "  resultados_df = resultados_df.append({'product_id': i, 'product_id_tn': serie_test, 'y_hat': yhat[0][1]}, ignore_index=True)\n"
     ]
    },
    {
     "name": "stdout",
     "output_type": "stream",
     "text": [
      "20937\n"
     ]
    },
    {
     "name": "stderr",
     "output_type": "stream",
     "text": [
      "/var/folders/x4/m6ss_3nn1vn52_2htr4xj3800000gp/T/ipykernel_14000/3859271102.py:25: FutureWarning: The frame.append method is deprecated and will be removed from pandas in a future version. Use pandas.concat instead.\n",
      "  resultados_df = resultados_df.append({'product_id': i, 'product_id_tn': serie_test, 'y_hat': yhat[0][1]}, ignore_index=True)\n"
     ]
    },
    {
     "name": "stdout",
     "output_type": "stream",
     "text": [
      "20938\n"
     ]
    },
    {
     "name": "stderr",
     "output_type": "stream",
     "text": [
      "/var/folders/x4/m6ss_3nn1vn52_2htr4xj3800000gp/T/ipykernel_14000/3859271102.py:25: FutureWarning: The frame.append method is deprecated and will be removed from pandas in a future version. Use pandas.concat instead.\n",
      "  resultados_df = resultados_df.append({'product_id': i, 'product_id_tn': serie_test, 'y_hat': yhat[0][1]}, ignore_index=True)\n"
     ]
    },
    {
     "name": "stdout",
     "output_type": "stream",
     "text": [
      "20939\n"
     ]
    },
    {
     "name": "stderr",
     "output_type": "stream",
     "text": [
      "/var/folders/x4/m6ss_3nn1vn52_2htr4xj3800000gp/T/ipykernel_14000/3859271102.py:25: FutureWarning: The frame.append method is deprecated and will be removed from pandas in a future version. Use pandas.concat instead.\n",
      "  resultados_df = resultados_df.append({'product_id': i, 'product_id_tn': serie_test, 'y_hat': yhat[0][1]}, ignore_index=True)\n"
     ]
    },
    {
     "name": "stdout",
     "output_type": "stream",
     "text": [
      "20941\n"
     ]
    },
    {
     "name": "stderr",
     "output_type": "stream",
     "text": [
      "/var/folders/x4/m6ss_3nn1vn52_2htr4xj3800000gp/T/ipykernel_14000/3859271102.py:25: FutureWarning: The frame.append method is deprecated and will be removed from pandas in a future version. Use pandas.concat instead.\n",
      "  resultados_df = resultados_df.append({'product_id': i, 'product_id_tn': serie_test, 'y_hat': yhat[0][1]}, ignore_index=True)\n"
     ]
    },
    {
     "name": "stdout",
     "output_type": "stream",
     "text": [
      "20943\n"
     ]
    },
    {
     "name": "stderr",
     "output_type": "stream",
     "text": [
      "/var/folders/x4/m6ss_3nn1vn52_2htr4xj3800000gp/T/ipykernel_14000/3859271102.py:25: FutureWarning: The frame.append method is deprecated and will be removed from pandas in a future version. Use pandas.concat instead.\n",
      "  resultados_df = resultados_df.append({'product_id': i, 'product_id_tn': serie_test, 'y_hat': yhat[0][1]}, ignore_index=True)\n"
     ]
    },
    {
     "name": "stdout",
     "output_type": "stream",
     "text": [
      "20944\n"
     ]
    },
    {
     "name": "stderr",
     "output_type": "stream",
     "text": [
      "/var/folders/x4/m6ss_3nn1vn52_2htr4xj3800000gp/T/ipykernel_14000/3859271102.py:25: FutureWarning: The frame.append method is deprecated and will be removed from pandas in a future version. Use pandas.concat instead.\n",
      "  resultados_df = resultados_df.append({'product_id': i, 'product_id_tn': serie_test, 'y_hat': yhat[0][1]}, ignore_index=True)\n"
     ]
    },
    {
     "name": "stdout",
     "output_type": "stream",
     "text": [
      "20945\n"
     ]
    },
    {
     "name": "stderr",
     "output_type": "stream",
     "text": [
      "/var/folders/x4/m6ss_3nn1vn52_2htr4xj3800000gp/T/ipykernel_14000/3859271102.py:25: FutureWarning: The frame.append method is deprecated and will be removed from pandas in a future version. Use pandas.concat instead.\n",
      "  resultados_df = resultados_df.append({'product_id': i, 'product_id_tn': serie_test, 'y_hat': yhat[0][1]}, ignore_index=True)\n"
     ]
    },
    {
     "name": "stdout",
     "output_type": "stream",
     "text": [
      "20947\n"
     ]
    },
    {
     "name": "stderr",
     "output_type": "stream",
     "text": [
      "/var/folders/x4/m6ss_3nn1vn52_2htr4xj3800000gp/T/ipykernel_14000/3859271102.py:25: FutureWarning: The frame.append method is deprecated and will be removed from pandas in a future version. Use pandas.concat instead.\n",
      "  resultados_df = resultados_df.append({'product_id': i, 'product_id_tn': serie_test, 'y_hat': yhat[0][1]}, ignore_index=True)\n"
     ]
    },
    {
     "name": "stdout",
     "output_type": "stream",
     "text": [
      "20948\n"
     ]
    },
    {
     "name": "stderr",
     "output_type": "stream",
     "text": [
      "/var/folders/x4/m6ss_3nn1vn52_2htr4xj3800000gp/T/ipykernel_14000/3859271102.py:25: FutureWarning: The frame.append method is deprecated and will be removed from pandas in a future version. Use pandas.concat instead.\n",
      "  resultados_df = resultados_df.append({'product_id': i, 'product_id_tn': serie_test, 'y_hat': yhat[0][1]}, ignore_index=True)\n"
     ]
    },
    {
     "name": "stdout",
     "output_type": "stream",
     "text": [
      "20949\n"
     ]
    },
    {
     "name": "stderr",
     "output_type": "stream",
     "text": [
      "/var/folders/x4/m6ss_3nn1vn52_2htr4xj3800000gp/T/ipykernel_14000/3859271102.py:25: FutureWarning: The frame.append method is deprecated and will be removed from pandas in a future version. Use pandas.concat instead.\n",
      "  resultados_df = resultados_df.append({'product_id': i, 'product_id_tn': serie_test, 'y_hat': yhat[0][1]}, ignore_index=True)\n"
     ]
    },
    {
     "name": "stdout",
     "output_type": "stream",
     "text": [
      "20951\n"
     ]
    },
    {
     "name": "stderr",
     "output_type": "stream",
     "text": [
      "/var/folders/x4/m6ss_3nn1vn52_2htr4xj3800000gp/T/ipykernel_14000/3859271102.py:25: FutureWarning: The frame.append method is deprecated and will be removed from pandas in a future version. Use pandas.concat instead.\n",
      "  resultados_df = resultados_df.append({'product_id': i, 'product_id_tn': serie_test, 'y_hat': yhat[0][1]}, ignore_index=True)\n"
     ]
    },
    {
     "name": "stdout",
     "output_type": "stream",
     "text": [
      "20952\n"
     ]
    },
    {
     "name": "stderr",
     "output_type": "stream",
     "text": [
      "/var/folders/x4/m6ss_3nn1vn52_2htr4xj3800000gp/T/ipykernel_14000/3859271102.py:25: FutureWarning: The frame.append method is deprecated and will be removed from pandas in a future version. Use pandas.concat instead.\n",
      "  resultados_df = resultados_df.append({'product_id': i, 'product_id_tn': serie_test, 'y_hat': yhat[0][1]}, ignore_index=True)\n"
     ]
    },
    {
     "name": "stdout",
     "output_type": "stream",
     "text": [
      "20954\n"
     ]
    },
    {
     "name": "stderr",
     "output_type": "stream",
     "text": [
      "/var/folders/x4/m6ss_3nn1vn52_2htr4xj3800000gp/T/ipykernel_14000/3859271102.py:25: FutureWarning: The frame.append method is deprecated and will be removed from pandas in a future version. Use pandas.concat instead.\n",
      "  resultados_df = resultados_df.append({'product_id': i, 'product_id_tn': serie_test, 'y_hat': yhat[0][1]}, ignore_index=True)\n"
     ]
    },
    {
     "name": "stdout",
     "output_type": "stream",
     "text": [
      "20955\n"
     ]
    },
    {
     "name": "stderr",
     "output_type": "stream",
     "text": [
      "/var/folders/x4/m6ss_3nn1vn52_2htr4xj3800000gp/T/ipykernel_14000/3859271102.py:25: FutureWarning: The frame.append method is deprecated and will be removed from pandas in a future version. Use pandas.concat instead.\n",
      "  resultados_df = resultados_df.append({'product_id': i, 'product_id_tn': serie_test, 'y_hat': yhat[0][1]}, ignore_index=True)\n"
     ]
    },
    {
     "name": "stdout",
     "output_type": "stream",
     "text": [
      "20956\n"
     ]
    },
    {
     "name": "stderr",
     "output_type": "stream",
     "text": [
      "/var/folders/x4/m6ss_3nn1vn52_2htr4xj3800000gp/T/ipykernel_14000/3859271102.py:25: FutureWarning: The frame.append method is deprecated and will be removed from pandas in a future version. Use pandas.concat instead.\n",
      "  resultados_df = resultados_df.append({'product_id': i, 'product_id_tn': serie_test, 'y_hat': yhat[0][1]}, ignore_index=True)\n"
     ]
    },
    {
     "name": "stdout",
     "output_type": "stream",
     "text": [
      "20957\n"
     ]
    },
    {
     "name": "stderr",
     "output_type": "stream",
     "text": [
      "/var/folders/x4/m6ss_3nn1vn52_2htr4xj3800000gp/T/ipykernel_14000/3859271102.py:25: FutureWarning: The frame.append method is deprecated and will be removed from pandas in a future version. Use pandas.concat instead.\n",
      "  resultados_df = resultados_df.append({'product_id': i, 'product_id_tn': serie_test, 'y_hat': yhat[0][1]}, ignore_index=True)\n"
     ]
    },
    {
     "name": "stdout",
     "output_type": "stream",
     "text": [
      "20959\n"
     ]
    },
    {
     "name": "stderr",
     "output_type": "stream",
     "text": [
      "/var/folders/x4/m6ss_3nn1vn52_2htr4xj3800000gp/T/ipykernel_14000/3859271102.py:25: FutureWarning: The frame.append method is deprecated and will be removed from pandas in a future version. Use pandas.concat instead.\n",
      "  resultados_df = resultados_df.append({'product_id': i, 'product_id_tn': serie_test, 'y_hat': yhat[0][1]}, ignore_index=True)\n"
     ]
    },
    {
     "name": "stdout",
     "output_type": "stream",
     "text": [
      "20960\n"
     ]
    },
    {
     "name": "stderr",
     "output_type": "stream",
     "text": [
      "/var/folders/x4/m6ss_3nn1vn52_2htr4xj3800000gp/T/ipykernel_14000/3859271102.py:25: FutureWarning: The frame.append method is deprecated and will be removed from pandas in a future version. Use pandas.concat instead.\n",
      "  resultados_df = resultados_df.append({'product_id': i, 'product_id_tn': serie_test, 'y_hat': yhat[0][1]}, ignore_index=True)\n"
     ]
    },
    {
     "name": "stdout",
     "output_type": "stream",
     "text": [
      "20961\n"
     ]
    },
    {
     "name": "stderr",
     "output_type": "stream",
     "text": [
      "/var/folders/x4/m6ss_3nn1vn52_2htr4xj3800000gp/T/ipykernel_14000/3859271102.py:25: FutureWarning: The frame.append method is deprecated and will be removed from pandas in a future version. Use pandas.concat instead.\n",
      "  resultados_df = resultados_df.append({'product_id': i, 'product_id_tn': serie_test, 'y_hat': yhat[0][1]}, ignore_index=True)\n"
     ]
    },
    {
     "name": "stdout",
     "output_type": "stream",
     "text": [
      "20963\n"
     ]
    },
    {
     "name": "stderr",
     "output_type": "stream",
     "text": [
      "/var/folders/x4/m6ss_3nn1vn52_2htr4xj3800000gp/T/ipykernel_14000/3859271102.py:25: FutureWarning: The frame.append method is deprecated and will be removed from pandas in a future version. Use pandas.concat instead.\n",
      "  resultados_df = resultados_df.append({'product_id': i, 'product_id_tn': serie_test, 'y_hat': yhat[0][1]}, ignore_index=True)\n"
     ]
    },
    {
     "name": "stdout",
     "output_type": "stream",
     "text": [
      "20965\n"
     ]
    },
    {
     "name": "stderr",
     "output_type": "stream",
     "text": [
      "/var/folders/x4/m6ss_3nn1vn52_2htr4xj3800000gp/T/ipykernel_14000/3859271102.py:25: FutureWarning: The frame.append method is deprecated and will be removed from pandas in a future version. Use pandas.concat instead.\n",
      "  resultados_df = resultados_df.append({'product_id': i, 'product_id_tn': serie_test, 'y_hat': yhat[0][1]}, ignore_index=True)\n"
     ]
    },
    {
     "name": "stdout",
     "output_type": "stream",
     "text": [
      "20967\n"
     ]
    },
    {
     "name": "stderr",
     "output_type": "stream",
     "text": [
      "/var/folders/x4/m6ss_3nn1vn52_2htr4xj3800000gp/T/ipykernel_14000/3859271102.py:25: FutureWarning: The frame.append method is deprecated and will be removed from pandas in a future version. Use pandas.concat instead.\n",
      "  resultados_df = resultados_df.append({'product_id': i, 'product_id_tn': serie_test, 'y_hat': yhat[0][1]}, ignore_index=True)\n"
     ]
    },
    {
     "name": "stdout",
     "output_type": "stream",
     "text": [
      "20969\n"
     ]
    },
    {
     "name": "stderr",
     "output_type": "stream",
     "text": [
      "/var/folders/x4/m6ss_3nn1vn52_2htr4xj3800000gp/T/ipykernel_14000/3859271102.py:25: FutureWarning: The frame.append method is deprecated and will be removed from pandas in a future version. Use pandas.concat instead.\n",
      "  resultados_df = resultados_df.append({'product_id': i, 'product_id_tn': serie_test, 'y_hat': yhat[0][1]}, ignore_index=True)\n"
     ]
    },
    {
     "name": "stdout",
     "output_type": "stream",
     "text": [
      "20970\n"
     ]
    },
    {
     "name": "stderr",
     "output_type": "stream",
     "text": [
      "/var/folders/x4/m6ss_3nn1vn52_2htr4xj3800000gp/T/ipykernel_14000/3859271102.py:25: FutureWarning: The frame.append method is deprecated and will be removed from pandas in a future version. Use pandas.concat instead.\n",
      "  resultados_df = resultados_df.append({'product_id': i, 'product_id_tn': serie_test, 'y_hat': yhat[0][1]}, ignore_index=True)\n"
     ]
    },
    {
     "name": "stdout",
     "output_type": "stream",
     "text": [
      "20971\n"
     ]
    },
    {
     "name": "stderr",
     "output_type": "stream",
     "text": [
      "/var/folders/x4/m6ss_3nn1vn52_2htr4xj3800000gp/T/ipykernel_14000/3859271102.py:25: FutureWarning: The frame.append method is deprecated and will be removed from pandas in a future version. Use pandas.concat instead.\n",
      "  resultados_df = resultados_df.append({'product_id': i, 'product_id_tn': serie_test, 'y_hat': yhat[0][1]}, ignore_index=True)\n"
     ]
    },
    {
     "name": "stdout",
     "output_type": "stream",
     "text": [
      "20973\n"
     ]
    },
    {
     "name": "stderr",
     "output_type": "stream",
     "text": [
      "/var/folders/x4/m6ss_3nn1vn52_2htr4xj3800000gp/T/ipykernel_14000/3859271102.py:25: FutureWarning: The frame.append method is deprecated and will be removed from pandas in a future version. Use pandas.concat instead.\n",
      "  resultados_df = resultados_df.append({'product_id': i, 'product_id_tn': serie_test, 'y_hat': yhat[0][1]}, ignore_index=True)\n"
     ]
    },
    {
     "name": "stdout",
     "output_type": "stream",
     "text": [
      "20974\n"
     ]
    },
    {
     "name": "stderr",
     "output_type": "stream",
     "text": [
      "/var/folders/x4/m6ss_3nn1vn52_2htr4xj3800000gp/T/ipykernel_14000/3859271102.py:25: FutureWarning: The frame.append method is deprecated and will be removed from pandas in a future version. Use pandas.concat instead.\n",
      "  resultados_df = resultados_df.append({'product_id': i, 'product_id_tn': serie_test, 'y_hat': yhat[0][1]}, ignore_index=True)\n"
     ]
    },
    {
     "name": "stdout",
     "output_type": "stream",
     "text": [
      "20976\n"
     ]
    },
    {
     "name": "stderr",
     "output_type": "stream",
     "text": [
      "/var/folders/x4/m6ss_3nn1vn52_2htr4xj3800000gp/T/ipykernel_14000/3859271102.py:25: FutureWarning: The frame.append method is deprecated and will be removed from pandas in a future version. Use pandas.concat instead.\n",
      "  resultados_df = resultados_df.append({'product_id': i, 'product_id_tn': serie_test, 'y_hat': yhat[0][1]}, ignore_index=True)\n"
     ]
    },
    {
     "name": "stdout",
     "output_type": "stream",
     "text": [
      "20977\n"
     ]
    },
    {
     "name": "stderr",
     "output_type": "stream",
     "text": [
      "/var/folders/x4/m6ss_3nn1vn52_2htr4xj3800000gp/T/ipykernel_14000/3859271102.py:25: FutureWarning: The frame.append method is deprecated and will be removed from pandas in a future version. Use pandas.concat instead.\n",
      "  resultados_df = resultados_df.append({'product_id': i, 'product_id_tn': serie_test, 'y_hat': yhat[0][1]}, ignore_index=True)\n"
     ]
    },
    {
     "name": "stdout",
     "output_type": "stream",
     "text": [
      "20978\n"
     ]
    },
    {
     "name": "stderr",
     "output_type": "stream",
     "text": [
      "/var/folders/x4/m6ss_3nn1vn52_2htr4xj3800000gp/T/ipykernel_14000/3859271102.py:25: FutureWarning: The frame.append method is deprecated and will be removed from pandas in a future version. Use pandas.concat instead.\n",
      "  resultados_df = resultados_df.append({'product_id': i, 'product_id_tn': serie_test, 'y_hat': yhat[0][1]}, ignore_index=True)\n"
     ]
    },
    {
     "name": "stdout",
     "output_type": "stream",
     "text": [
      "20979\n"
     ]
    },
    {
     "name": "stderr",
     "output_type": "stream",
     "text": [
      "/var/folders/x4/m6ss_3nn1vn52_2htr4xj3800000gp/T/ipykernel_14000/3859271102.py:25: FutureWarning: The frame.append method is deprecated and will be removed from pandas in a future version. Use pandas.concat instead.\n",
      "  resultados_df = resultados_df.append({'product_id': i, 'product_id_tn': serie_test, 'y_hat': yhat[0][1]}, ignore_index=True)\n"
     ]
    },
    {
     "name": "stdout",
     "output_type": "stream",
     "text": [
      "20981\n"
     ]
    },
    {
     "name": "stderr",
     "output_type": "stream",
     "text": [
      "/var/folders/x4/m6ss_3nn1vn52_2htr4xj3800000gp/T/ipykernel_14000/3859271102.py:25: FutureWarning: The frame.append method is deprecated and will be removed from pandas in a future version. Use pandas.concat instead.\n",
      "  resultados_df = resultados_df.append({'product_id': i, 'product_id_tn': serie_test, 'y_hat': yhat[0][1]}, ignore_index=True)\n"
     ]
    },
    {
     "name": "stdout",
     "output_type": "stream",
     "text": [
      "20982\n"
     ]
    },
    {
     "name": "stderr",
     "output_type": "stream",
     "text": [
      "/var/folders/x4/m6ss_3nn1vn52_2htr4xj3800000gp/T/ipykernel_14000/3859271102.py:25: FutureWarning: The frame.append method is deprecated and will be removed from pandas in a future version. Use pandas.concat instead.\n",
      "  resultados_df = resultados_df.append({'product_id': i, 'product_id_tn': serie_test, 'y_hat': yhat[0][1]}, ignore_index=True)\n"
     ]
    },
    {
     "name": "stdout",
     "output_type": "stream",
     "text": [
      "20983\n"
     ]
    },
    {
     "name": "stderr",
     "output_type": "stream",
     "text": [
      "/var/folders/x4/m6ss_3nn1vn52_2htr4xj3800000gp/T/ipykernel_14000/3859271102.py:25: FutureWarning: The frame.append method is deprecated and will be removed from pandas in a future version. Use pandas.concat instead.\n",
      "  resultados_df = resultados_df.append({'product_id': i, 'product_id_tn': serie_test, 'y_hat': yhat[0][1]}, ignore_index=True)\n"
     ]
    },
    {
     "name": "stdout",
     "output_type": "stream",
     "text": [
      "20984\n"
     ]
    },
    {
     "name": "stderr",
     "output_type": "stream",
     "text": [
      "/var/folders/x4/m6ss_3nn1vn52_2htr4xj3800000gp/T/ipykernel_14000/3859271102.py:25: FutureWarning: The frame.append method is deprecated and will be removed from pandas in a future version. Use pandas.concat instead.\n",
      "  resultados_df = resultados_df.append({'product_id': i, 'product_id_tn': serie_test, 'y_hat': yhat[0][1]}, ignore_index=True)\n"
     ]
    },
    {
     "name": "stdout",
     "output_type": "stream",
     "text": [
      "20985\n"
     ]
    },
    {
     "name": "stderr",
     "output_type": "stream",
     "text": [
      "/var/folders/x4/m6ss_3nn1vn52_2htr4xj3800000gp/T/ipykernel_14000/3859271102.py:25: FutureWarning: The frame.append method is deprecated and will be removed from pandas in a future version. Use pandas.concat instead.\n",
      "  resultados_df = resultados_df.append({'product_id': i, 'product_id_tn': serie_test, 'y_hat': yhat[0][1]}, ignore_index=True)\n"
     ]
    },
    {
     "name": "stdout",
     "output_type": "stream",
     "text": [
      "20986\n"
     ]
    },
    {
     "name": "stderr",
     "output_type": "stream",
     "text": [
      "/var/folders/x4/m6ss_3nn1vn52_2htr4xj3800000gp/T/ipykernel_14000/3859271102.py:25: FutureWarning: The frame.append method is deprecated and will be removed from pandas in a future version. Use pandas.concat instead.\n",
      "  resultados_df = resultados_df.append({'product_id': i, 'product_id_tn': serie_test, 'y_hat': yhat[0][1]}, ignore_index=True)\n"
     ]
    },
    {
     "name": "stdout",
     "output_type": "stream",
     "text": [
      "20988\n"
     ]
    },
    {
     "name": "stderr",
     "output_type": "stream",
     "text": [
      "/var/folders/x4/m6ss_3nn1vn52_2htr4xj3800000gp/T/ipykernel_14000/3859271102.py:25: FutureWarning: The frame.append method is deprecated and will be removed from pandas in a future version. Use pandas.concat instead.\n",
      "  resultados_df = resultados_df.append({'product_id': i, 'product_id_tn': serie_test, 'y_hat': yhat[0][1]}, ignore_index=True)\n"
     ]
    },
    {
     "name": "stdout",
     "output_type": "stream",
     "text": [
      "20989\n"
     ]
    },
    {
     "name": "stderr",
     "output_type": "stream",
     "text": [
      "/var/folders/x4/m6ss_3nn1vn52_2htr4xj3800000gp/T/ipykernel_14000/3859271102.py:25: FutureWarning: The frame.append method is deprecated and will be removed from pandas in a future version. Use pandas.concat instead.\n",
      "  resultados_df = resultados_df.append({'product_id': i, 'product_id_tn': serie_test, 'y_hat': yhat[0][1]}, ignore_index=True)\n"
     ]
    },
    {
     "name": "stdout",
     "output_type": "stream",
     "text": [
      "20991\n"
     ]
    },
    {
     "name": "stderr",
     "output_type": "stream",
     "text": [
      "/var/folders/x4/m6ss_3nn1vn52_2htr4xj3800000gp/T/ipykernel_14000/3859271102.py:25: FutureWarning: The frame.append method is deprecated and will be removed from pandas in a future version. Use pandas.concat instead.\n",
      "  resultados_df = resultados_df.append({'product_id': i, 'product_id_tn': serie_test, 'y_hat': yhat[0][1]}, ignore_index=True)\n"
     ]
    },
    {
     "name": "stdout",
     "output_type": "stream",
     "text": [
      "20994\n"
     ]
    },
    {
     "name": "stderr",
     "output_type": "stream",
     "text": [
      "/var/folders/x4/m6ss_3nn1vn52_2htr4xj3800000gp/T/ipykernel_14000/3859271102.py:25: FutureWarning: The frame.append method is deprecated and will be removed from pandas in a future version. Use pandas.concat instead.\n",
      "  resultados_df = resultados_df.append({'product_id': i, 'product_id_tn': serie_test, 'y_hat': yhat[0][1]}, ignore_index=True)\n"
     ]
    },
    {
     "name": "stdout",
     "output_type": "stream",
     "text": [
      "20996\n"
     ]
    },
    {
     "name": "stderr",
     "output_type": "stream",
     "text": [
      "/var/folders/x4/m6ss_3nn1vn52_2htr4xj3800000gp/T/ipykernel_14000/3859271102.py:25: FutureWarning: The frame.append method is deprecated and will be removed from pandas in a future version. Use pandas.concat instead.\n",
      "  resultados_df = resultados_df.append({'product_id': i, 'product_id_tn': serie_test, 'y_hat': yhat[0][1]}, ignore_index=True)\n"
     ]
    },
    {
     "name": "stdout",
     "output_type": "stream",
     "text": [
      "20997\n"
     ]
    },
    {
     "name": "stderr",
     "output_type": "stream",
     "text": [
      "/var/folders/x4/m6ss_3nn1vn52_2htr4xj3800000gp/T/ipykernel_14000/3859271102.py:25: FutureWarning: The frame.append method is deprecated and will be removed from pandas in a future version. Use pandas.concat instead.\n",
      "  resultados_df = resultados_df.append({'product_id': i, 'product_id_tn': serie_test, 'y_hat': yhat[0][1]}, ignore_index=True)\n"
     ]
    },
    {
     "name": "stdout",
     "output_type": "stream",
     "text": [
      "20998\n"
     ]
    },
    {
     "name": "stderr",
     "output_type": "stream",
     "text": [
      "/var/folders/x4/m6ss_3nn1vn52_2htr4xj3800000gp/T/ipykernel_14000/3859271102.py:25: FutureWarning: The frame.append method is deprecated and will be removed from pandas in a future version. Use pandas.concat instead.\n",
      "  resultados_df = resultados_df.append({'product_id': i, 'product_id_tn': serie_test, 'y_hat': yhat[0][1]}, ignore_index=True)\n"
     ]
    },
    {
     "name": "stdout",
     "output_type": "stream",
     "text": [
      "20999\n"
     ]
    },
    {
     "name": "stderr",
     "output_type": "stream",
     "text": [
      "/var/folders/x4/m6ss_3nn1vn52_2htr4xj3800000gp/T/ipykernel_14000/3859271102.py:25: FutureWarning: The frame.append method is deprecated and will be removed from pandas in a future version. Use pandas.concat instead.\n",
      "  resultados_df = resultados_df.append({'product_id': i, 'product_id_tn': serie_test, 'y_hat': yhat[0][1]}, ignore_index=True)\n"
     ]
    },
    {
     "name": "stdout",
     "output_type": "stream",
     "text": [
      "21002\n"
     ]
    },
    {
     "name": "stderr",
     "output_type": "stream",
     "text": [
      "/var/folders/x4/m6ss_3nn1vn52_2htr4xj3800000gp/T/ipykernel_14000/3859271102.py:25: FutureWarning: The frame.append method is deprecated and will be removed from pandas in a future version. Use pandas.concat instead.\n",
      "  resultados_df = resultados_df.append({'product_id': i, 'product_id_tn': serie_test, 'y_hat': yhat[0][1]}, ignore_index=True)\n"
     ]
    },
    {
     "name": "stdout",
     "output_type": "stream",
     "text": [
      "21003\n"
     ]
    },
    {
     "name": "stderr",
     "output_type": "stream",
     "text": [
      "/var/folders/x4/m6ss_3nn1vn52_2htr4xj3800000gp/T/ipykernel_14000/3859271102.py:25: FutureWarning: The frame.append method is deprecated and will be removed from pandas in a future version. Use pandas.concat instead.\n",
      "  resultados_df = resultados_df.append({'product_id': i, 'product_id_tn': serie_test, 'y_hat': yhat[0][1]}, ignore_index=True)\n"
     ]
    },
    {
     "name": "stdout",
     "output_type": "stream",
     "text": [
      "21005\n"
     ]
    },
    {
     "name": "stderr",
     "output_type": "stream",
     "text": [
      "/var/folders/x4/m6ss_3nn1vn52_2htr4xj3800000gp/T/ipykernel_14000/3859271102.py:25: FutureWarning: The frame.append method is deprecated and will be removed from pandas in a future version. Use pandas.concat instead.\n",
      "  resultados_df = resultados_df.append({'product_id': i, 'product_id_tn': serie_test, 'y_hat': yhat[0][1]}, ignore_index=True)\n"
     ]
    },
    {
     "name": "stdout",
     "output_type": "stream",
     "text": [
      "21008\n"
     ]
    },
    {
     "name": "stderr",
     "output_type": "stream",
     "text": [
      "/var/folders/x4/m6ss_3nn1vn52_2htr4xj3800000gp/T/ipykernel_14000/3859271102.py:25: FutureWarning: The frame.append method is deprecated and will be removed from pandas in a future version. Use pandas.concat instead.\n",
      "  resultados_df = resultados_df.append({'product_id': i, 'product_id_tn': serie_test, 'y_hat': yhat[0][1]}, ignore_index=True)\n"
     ]
    },
    {
     "name": "stdout",
     "output_type": "stream",
     "text": [
      "21009\n"
     ]
    },
    {
     "name": "stderr",
     "output_type": "stream",
     "text": [
      "/var/folders/x4/m6ss_3nn1vn52_2htr4xj3800000gp/T/ipykernel_14000/3859271102.py:25: FutureWarning: The frame.append method is deprecated and will be removed from pandas in a future version. Use pandas.concat instead.\n",
      "  resultados_df = resultados_df.append({'product_id': i, 'product_id_tn': serie_test, 'y_hat': yhat[0][1]}, ignore_index=True)\n"
     ]
    },
    {
     "name": "stdout",
     "output_type": "stream",
     "text": [
      "21010\n"
     ]
    },
    {
     "name": "stderr",
     "output_type": "stream",
     "text": [
      "/var/folders/x4/m6ss_3nn1vn52_2htr4xj3800000gp/T/ipykernel_14000/3859271102.py:25: FutureWarning: The frame.append method is deprecated and will be removed from pandas in a future version. Use pandas.concat instead.\n",
      "  resultados_df = resultados_df.append({'product_id': i, 'product_id_tn': serie_test, 'y_hat': yhat[0][1]}, ignore_index=True)\n"
     ]
    },
    {
     "name": "stdout",
     "output_type": "stream",
     "text": [
      "21011\n"
     ]
    },
    {
     "name": "stderr",
     "output_type": "stream",
     "text": [
      "/var/folders/x4/m6ss_3nn1vn52_2htr4xj3800000gp/T/ipykernel_14000/3859271102.py:25: FutureWarning: The frame.append method is deprecated and will be removed from pandas in a future version. Use pandas.concat instead.\n",
      "  resultados_df = resultados_df.append({'product_id': i, 'product_id_tn': serie_test, 'y_hat': yhat[0][1]}, ignore_index=True)\n"
     ]
    },
    {
     "name": "stdout",
     "output_type": "stream",
     "text": [
      "21014\n"
     ]
    },
    {
     "name": "stderr",
     "output_type": "stream",
     "text": [
      "/var/folders/x4/m6ss_3nn1vn52_2htr4xj3800000gp/T/ipykernel_14000/3859271102.py:25: FutureWarning: The frame.append method is deprecated and will be removed from pandas in a future version. Use pandas.concat instead.\n",
      "  resultados_df = resultados_df.append({'product_id': i, 'product_id_tn': serie_test, 'y_hat': yhat[0][1]}, ignore_index=True)\n"
     ]
    },
    {
     "name": "stdout",
     "output_type": "stream",
     "text": [
      "21015\n"
     ]
    },
    {
     "name": "stderr",
     "output_type": "stream",
     "text": [
      "/var/folders/x4/m6ss_3nn1vn52_2htr4xj3800000gp/T/ipykernel_14000/3859271102.py:25: FutureWarning: The frame.append method is deprecated and will be removed from pandas in a future version. Use pandas.concat instead.\n",
      "  resultados_df = resultados_df.append({'product_id': i, 'product_id_tn': serie_test, 'y_hat': yhat[0][1]}, ignore_index=True)\n"
     ]
    },
    {
     "name": "stdout",
     "output_type": "stream",
     "text": [
      "21016\n"
     ]
    },
    {
     "name": "stderr",
     "output_type": "stream",
     "text": [
      "/var/folders/x4/m6ss_3nn1vn52_2htr4xj3800000gp/T/ipykernel_14000/3859271102.py:25: FutureWarning: The frame.append method is deprecated and will be removed from pandas in a future version. Use pandas.concat instead.\n",
      "  resultados_df = resultados_df.append({'product_id': i, 'product_id_tn': serie_test, 'y_hat': yhat[0][1]}, ignore_index=True)\n"
     ]
    },
    {
     "name": "stdout",
     "output_type": "stream",
     "text": [
      "21019\n"
     ]
    },
    {
     "name": "stderr",
     "output_type": "stream",
     "text": [
      "/var/folders/x4/m6ss_3nn1vn52_2htr4xj3800000gp/T/ipykernel_14000/3859271102.py:25: FutureWarning: The frame.append method is deprecated and will be removed from pandas in a future version. Use pandas.concat instead.\n",
      "  resultados_df = resultados_df.append({'product_id': i, 'product_id_tn': serie_test, 'y_hat': yhat[0][1]}, ignore_index=True)\n"
     ]
    },
    {
     "name": "stdout",
     "output_type": "stream",
     "text": [
      "21020\n"
     ]
    },
    {
     "name": "stderr",
     "output_type": "stream",
     "text": [
      "/var/folders/x4/m6ss_3nn1vn52_2htr4xj3800000gp/T/ipykernel_14000/3859271102.py:25: FutureWarning: The frame.append method is deprecated and will be removed from pandas in a future version. Use pandas.concat instead.\n",
      "  resultados_df = resultados_df.append({'product_id': i, 'product_id_tn': serie_test, 'y_hat': yhat[0][1]}, ignore_index=True)\n"
     ]
    },
    {
     "name": "stdout",
     "output_type": "stream",
     "text": [
      "21021\n"
     ]
    },
    {
     "name": "stderr",
     "output_type": "stream",
     "text": [
      "/var/folders/x4/m6ss_3nn1vn52_2htr4xj3800000gp/T/ipykernel_14000/3859271102.py:25: FutureWarning: The frame.append method is deprecated and will be removed from pandas in a future version. Use pandas.concat instead.\n",
      "  resultados_df = resultados_df.append({'product_id': i, 'product_id_tn': serie_test, 'y_hat': yhat[0][1]}, ignore_index=True)\n"
     ]
    },
    {
     "name": "stdout",
     "output_type": "stream",
     "text": [
      "21023\n"
     ]
    },
    {
     "name": "stderr",
     "output_type": "stream",
     "text": [
      "/var/folders/x4/m6ss_3nn1vn52_2htr4xj3800000gp/T/ipykernel_14000/3859271102.py:25: FutureWarning: The frame.append method is deprecated and will be removed from pandas in a future version. Use pandas.concat instead.\n",
      "  resultados_df = resultados_df.append({'product_id': i, 'product_id_tn': serie_test, 'y_hat': yhat[0][1]}, ignore_index=True)\n"
     ]
    },
    {
     "name": "stdout",
     "output_type": "stream",
     "text": [
      "21024\n"
     ]
    },
    {
     "name": "stderr",
     "output_type": "stream",
     "text": [
      "/var/folders/x4/m6ss_3nn1vn52_2htr4xj3800000gp/T/ipykernel_14000/3859271102.py:25: FutureWarning: The frame.append method is deprecated and will be removed from pandas in a future version. Use pandas.concat instead.\n",
      "  resultados_df = resultados_df.append({'product_id': i, 'product_id_tn': serie_test, 'y_hat': yhat[0][1]}, ignore_index=True)\n"
     ]
    },
    {
     "name": "stdout",
     "output_type": "stream",
     "text": [
      "21027\n"
     ]
    },
    {
     "name": "stderr",
     "output_type": "stream",
     "text": [
      "/var/folders/x4/m6ss_3nn1vn52_2htr4xj3800000gp/T/ipykernel_14000/3859271102.py:25: FutureWarning: The frame.append method is deprecated and will be removed from pandas in a future version. Use pandas.concat instead.\n",
      "  resultados_df = resultados_df.append({'product_id': i, 'product_id_tn': serie_test, 'y_hat': yhat[0][1]}, ignore_index=True)\n"
     ]
    },
    {
     "name": "stdout",
     "output_type": "stream",
     "text": [
      "21028\n"
     ]
    },
    {
     "name": "stderr",
     "output_type": "stream",
     "text": [
      "/var/folders/x4/m6ss_3nn1vn52_2htr4xj3800000gp/T/ipykernel_14000/3859271102.py:25: FutureWarning: The frame.append method is deprecated and will be removed from pandas in a future version. Use pandas.concat instead.\n",
      "  resultados_df = resultados_df.append({'product_id': i, 'product_id_tn': serie_test, 'y_hat': yhat[0][1]}, ignore_index=True)\n"
     ]
    },
    {
     "name": "stdout",
     "output_type": "stream",
     "text": [
      "21029\n"
     ]
    },
    {
     "name": "stderr",
     "output_type": "stream",
     "text": [
      "/var/folders/x4/m6ss_3nn1vn52_2htr4xj3800000gp/T/ipykernel_14000/3859271102.py:25: FutureWarning: The frame.append method is deprecated and will be removed from pandas in a future version. Use pandas.concat instead.\n",
      "  resultados_df = resultados_df.append({'product_id': i, 'product_id_tn': serie_test, 'y_hat': yhat[0][1]}, ignore_index=True)\n"
     ]
    },
    {
     "name": "stdout",
     "output_type": "stream",
     "text": [
      "21030\n"
     ]
    },
    {
     "name": "stderr",
     "output_type": "stream",
     "text": [
      "/var/folders/x4/m6ss_3nn1vn52_2htr4xj3800000gp/T/ipykernel_14000/3859271102.py:25: FutureWarning: The frame.append method is deprecated and will be removed from pandas in a future version. Use pandas.concat instead.\n",
      "  resultados_df = resultados_df.append({'product_id': i, 'product_id_tn': serie_test, 'y_hat': yhat[0][1]}, ignore_index=True)\n"
     ]
    },
    {
     "name": "stdout",
     "output_type": "stream",
     "text": [
      "21031\n"
     ]
    },
    {
     "name": "stderr",
     "output_type": "stream",
     "text": [
      "/var/folders/x4/m6ss_3nn1vn52_2htr4xj3800000gp/T/ipykernel_14000/3859271102.py:25: FutureWarning: The frame.append method is deprecated and will be removed from pandas in a future version. Use pandas.concat instead.\n",
      "  resultados_df = resultados_df.append({'product_id': i, 'product_id_tn': serie_test, 'y_hat': yhat[0][1]}, ignore_index=True)\n"
     ]
    },
    {
     "name": "stdout",
     "output_type": "stream",
     "text": [
      "21032\n"
     ]
    },
    {
     "name": "stderr",
     "output_type": "stream",
     "text": [
      "/var/folders/x4/m6ss_3nn1vn52_2htr4xj3800000gp/T/ipykernel_14000/3859271102.py:25: FutureWarning: The frame.append method is deprecated and will be removed from pandas in a future version. Use pandas.concat instead.\n",
      "  resultados_df = resultados_df.append({'product_id': i, 'product_id_tn': serie_test, 'y_hat': yhat[0][1]}, ignore_index=True)\n"
     ]
    },
    {
     "name": "stdout",
     "output_type": "stream",
     "text": [
      "21034\n"
     ]
    },
    {
     "name": "stderr",
     "output_type": "stream",
     "text": [
      "/var/folders/x4/m6ss_3nn1vn52_2htr4xj3800000gp/T/ipykernel_14000/3859271102.py:25: FutureWarning: The frame.append method is deprecated and will be removed from pandas in a future version. Use pandas.concat instead.\n",
      "  resultados_df = resultados_df.append({'product_id': i, 'product_id_tn': serie_test, 'y_hat': yhat[0][1]}, ignore_index=True)\n"
     ]
    },
    {
     "name": "stdout",
     "output_type": "stream",
     "text": [
      "21036\n"
     ]
    },
    {
     "name": "stderr",
     "output_type": "stream",
     "text": [
      "/var/folders/x4/m6ss_3nn1vn52_2htr4xj3800000gp/T/ipykernel_14000/3859271102.py:25: FutureWarning: The frame.append method is deprecated and will be removed from pandas in a future version. Use pandas.concat instead.\n",
      "  resultados_df = resultados_df.append({'product_id': i, 'product_id_tn': serie_test, 'y_hat': yhat[0][1]}, ignore_index=True)\n"
     ]
    },
    {
     "name": "stdout",
     "output_type": "stream",
     "text": [
      "21038\n"
     ]
    },
    {
     "name": "stderr",
     "output_type": "stream",
     "text": [
      "/var/folders/x4/m6ss_3nn1vn52_2htr4xj3800000gp/T/ipykernel_14000/3859271102.py:25: FutureWarning: The frame.append method is deprecated and will be removed from pandas in a future version. Use pandas.concat instead.\n",
      "  resultados_df = resultados_df.append({'product_id': i, 'product_id_tn': serie_test, 'y_hat': yhat[0][1]}, ignore_index=True)\n"
     ]
    },
    {
     "name": "stdout",
     "output_type": "stream",
     "text": [
      "21040\n"
     ]
    },
    {
     "name": "stderr",
     "output_type": "stream",
     "text": [
      "/var/folders/x4/m6ss_3nn1vn52_2htr4xj3800000gp/T/ipykernel_14000/3859271102.py:25: FutureWarning: The frame.append method is deprecated and will be removed from pandas in a future version. Use pandas.concat instead.\n",
      "  resultados_df = resultados_df.append({'product_id': i, 'product_id_tn': serie_test, 'y_hat': yhat[0][1]}, ignore_index=True)\n"
     ]
    },
    {
     "name": "stdout",
     "output_type": "stream",
     "text": [
      "21041\n"
     ]
    },
    {
     "name": "stderr",
     "output_type": "stream",
     "text": [
      "/var/folders/x4/m6ss_3nn1vn52_2htr4xj3800000gp/T/ipykernel_14000/3859271102.py:25: FutureWarning: The frame.append method is deprecated and will be removed from pandas in a future version. Use pandas.concat instead.\n",
      "  resultados_df = resultados_df.append({'product_id': i, 'product_id_tn': serie_test, 'y_hat': yhat[0][1]}, ignore_index=True)\n"
     ]
    },
    {
     "name": "stdout",
     "output_type": "stream",
     "text": [
      "21043\n"
     ]
    },
    {
     "name": "stderr",
     "output_type": "stream",
     "text": [
      "/var/folders/x4/m6ss_3nn1vn52_2htr4xj3800000gp/T/ipykernel_14000/3859271102.py:25: FutureWarning: The frame.append method is deprecated and will be removed from pandas in a future version. Use pandas.concat instead.\n",
      "  resultados_df = resultados_df.append({'product_id': i, 'product_id_tn': serie_test, 'y_hat': yhat[0][1]}, ignore_index=True)\n"
     ]
    },
    {
     "name": "stdout",
     "output_type": "stream",
     "text": [
      "21045\n"
     ]
    },
    {
     "name": "stderr",
     "output_type": "stream",
     "text": [
      "/var/folders/x4/m6ss_3nn1vn52_2htr4xj3800000gp/T/ipykernel_14000/3859271102.py:25: FutureWarning: The frame.append method is deprecated and will be removed from pandas in a future version. Use pandas.concat instead.\n",
      "  resultados_df = resultados_df.append({'product_id': i, 'product_id_tn': serie_test, 'y_hat': yhat[0][1]}, ignore_index=True)\n"
     ]
    },
    {
     "name": "stdout",
     "output_type": "stream",
     "text": [
      "21046\n"
     ]
    },
    {
     "name": "stderr",
     "output_type": "stream",
     "text": [
      "/var/folders/x4/m6ss_3nn1vn52_2htr4xj3800000gp/T/ipykernel_14000/3859271102.py:25: FutureWarning: The frame.append method is deprecated and will be removed from pandas in a future version. Use pandas.concat instead.\n",
      "  resultados_df = resultados_df.append({'product_id': i, 'product_id_tn': serie_test, 'y_hat': yhat[0][1]}, ignore_index=True)\n"
     ]
    },
    {
     "name": "stdout",
     "output_type": "stream",
     "text": [
      "21047\n"
     ]
    },
    {
     "name": "stderr",
     "output_type": "stream",
     "text": [
      "/var/folders/x4/m6ss_3nn1vn52_2htr4xj3800000gp/T/ipykernel_14000/3859271102.py:25: FutureWarning: The frame.append method is deprecated and will be removed from pandas in a future version. Use pandas.concat instead.\n",
      "  resultados_df = resultados_df.append({'product_id': i, 'product_id_tn': serie_test, 'y_hat': yhat[0][1]}, ignore_index=True)\n"
     ]
    },
    {
     "name": "stdout",
     "output_type": "stream",
     "text": [
      "21048\n"
     ]
    },
    {
     "name": "stderr",
     "output_type": "stream",
     "text": [
      "/var/folders/x4/m6ss_3nn1vn52_2htr4xj3800000gp/T/ipykernel_14000/3859271102.py:25: FutureWarning: The frame.append method is deprecated and will be removed from pandas in a future version. Use pandas.concat instead.\n",
      "  resultados_df = resultados_df.append({'product_id': i, 'product_id_tn': serie_test, 'y_hat': yhat[0][1]}, ignore_index=True)\n"
     ]
    },
    {
     "name": "stdout",
     "output_type": "stream",
     "text": [
      "21049\n"
     ]
    },
    {
     "name": "stderr",
     "output_type": "stream",
     "text": [
      "/var/folders/x4/m6ss_3nn1vn52_2htr4xj3800000gp/T/ipykernel_14000/3859271102.py:25: FutureWarning: The frame.append method is deprecated and will be removed from pandas in a future version. Use pandas.concat instead.\n",
      "  resultados_df = resultados_df.append({'product_id': i, 'product_id_tn': serie_test, 'y_hat': yhat[0][1]}, ignore_index=True)\n"
     ]
    },
    {
     "name": "stdout",
     "output_type": "stream",
     "text": [
      "21050\n"
     ]
    },
    {
     "name": "stderr",
     "output_type": "stream",
     "text": [
      "/var/folders/x4/m6ss_3nn1vn52_2htr4xj3800000gp/T/ipykernel_14000/3859271102.py:25: FutureWarning: The frame.append method is deprecated and will be removed from pandas in a future version. Use pandas.concat instead.\n",
      "  resultados_df = resultados_df.append({'product_id': i, 'product_id_tn': serie_test, 'y_hat': yhat[0][1]}, ignore_index=True)\n"
     ]
    },
    {
     "name": "stdout",
     "output_type": "stream",
     "text": [
      "21051\n"
     ]
    },
    {
     "name": "stderr",
     "output_type": "stream",
     "text": [
      "/var/folders/x4/m6ss_3nn1vn52_2htr4xj3800000gp/T/ipykernel_14000/3859271102.py:25: FutureWarning: The frame.append method is deprecated and will be removed from pandas in a future version. Use pandas.concat instead.\n",
      "  resultados_df = resultados_df.append({'product_id': i, 'product_id_tn': serie_test, 'y_hat': yhat[0][1]}, ignore_index=True)\n"
     ]
    },
    {
     "name": "stdout",
     "output_type": "stream",
     "text": [
      "21055\n"
     ]
    },
    {
     "name": "stderr",
     "output_type": "stream",
     "text": [
      "/var/folders/x4/m6ss_3nn1vn52_2htr4xj3800000gp/T/ipykernel_14000/3859271102.py:25: FutureWarning: The frame.append method is deprecated and will be removed from pandas in a future version. Use pandas.concat instead.\n",
      "  resultados_df = resultados_df.append({'product_id': i, 'product_id_tn': serie_test, 'y_hat': yhat[0][1]}, ignore_index=True)\n"
     ]
    },
    {
     "name": "stdout",
     "output_type": "stream",
     "text": [
      "21057\n"
     ]
    },
    {
     "name": "stderr",
     "output_type": "stream",
     "text": [
      "/var/folders/x4/m6ss_3nn1vn52_2htr4xj3800000gp/T/ipykernel_14000/3859271102.py:25: FutureWarning: The frame.append method is deprecated and will be removed from pandas in a future version. Use pandas.concat instead.\n",
      "  resultados_df = resultados_df.append({'product_id': i, 'product_id_tn': serie_test, 'y_hat': yhat[0][1]}, ignore_index=True)\n"
     ]
    },
    {
     "name": "stdout",
     "output_type": "stream",
     "text": [
      "21059\n"
     ]
    },
    {
     "name": "stderr",
     "output_type": "stream",
     "text": [
      "/var/folders/x4/m6ss_3nn1vn52_2htr4xj3800000gp/T/ipykernel_14000/3859271102.py:25: FutureWarning: The frame.append method is deprecated and will be removed from pandas in a future version. Use pandas.concat instead.\n",
      "  resultados_df = resultados_df.append({'product_id': i, 'product_id_tn': serie_test, 'y_hat': yhat[0][1]}, ignore_index=True)\n"
     ]
    },
    {
     "name": "stdout",
     "output_type": "stream",
     "text": [
      "21061\n"
     ]
    },
    {
     "name": "stderr",
     "output_type": "stream",
     "text": [
      "/var/folders/x4/m6ss_3nn1vn52_2htr4xj3800000gp/T/ipykernel_14000/3859271102.py:25: FutureWarning: The frame.append method is deprecated and will be removed from pandas in a future version. Use pandas.concat instead.\n",
      "  resultados_df = resultados_df.append({'product_id': i, 'product_id_tn': serie_test, 'y_hat': yhat[0][1]}, ignore_index=True)\n"
     ]
    },
    {
     "name": "stdout",
     "output_type": "stream",
     "text": [
      "21062\n"
     ]
    },
    {
     "name": "stderr",
     "output_type": "stream",
     "text": [
      "/var/folders/x4/m6ss_3nn1vn52_2htr4xj3800000gp/T/ipykernel_14000/3859271102.py:25: FutureWarning: The frame.append method is deprecated and will be removed from pandas in a future version. Use pandas.concat instead.\n",
      "  resultados_df = resultados_df.append({'product_id': i, 'product_id_tn': serie_test, 'y_hat': yhat[0][1]}, ignore_index=True)\n"
     ]
    },
    {
     "name": "stdout",
     "output_type": "stream",
     "text": [
      "21063\n"
     ]
    },
    {
     "name": "stderr",
     "output_type": "stream",
     "text": [
      "/var/folders/x4/m6ss_3nn1vn52_2htr4xj3800000gp/T/ipykernel_14000/3859271102.py:25: FutureWarning: The frame.append method is deprecated and will be removed from pandas in a future version. Use pandas.concat instead.\n",
      "  resultados_df = resultados_df.append({'product_id': i, 'product_id_tn': serie_test, 'y_hat': yhat[0][1]}, ignore_index=True)\n"
     ]
    },
    {
     "name": "stdout",
     "output_type": "stream",
     "text": [
      "21065\n"
     ]
    },
    {
     "name": "stderr",
     "output_type": "stream",
     "text": [
      "/var/folders/x4/m6ss_3nn1vn52_2htr4xj3800000gp/T/ipykernel_14000/3859271102.py:25: FutureWarning: The frame.append method is deprecated and will be removed from pandas in a future version. Use pandas.concat instead.\n",
      "  resultados_df = resultados_df.append({'product_id': i, 'product_id_tn': serie_test, 'y_hat': yhat[0][1]}, ignore_index=True)\n"
     ]
    },
    {
     "name": "stdout",
     "output_type": "stream",
     "text": [
      "21066\n"
     ]
    },
    {
     "name": "stderr",
     "output_type": "stream",
     "text": [
      "/var/folders/x4/m6ss_3nn1vn52_2htr4xj3800000gp/T/ipykernel_14000/3859271102.py:25: FutureWarning: The frame.append method is deprecated and will be removed from pandas in a future version. Use pandas.concat instead.\n",
      "  resultados_df = resultados_df.append({'product_id': i, 'product_id_tn': serie_test, 'y_hat': yhat[0][1]}, ignore_index=True)\n"
     ]
    },
    {
     "name": "stdout",
     "output_type": "stream",
     "text": [
      "21067\n"
     ]
    },
    {
     "name": "stderr",
     "output_type": "stream",
     "text": [
      "/var/folders/x4/m6ss_3nn1vn52_2htr4xj3800000gp/T/ipykernel_14000/3859271102.py:25: FutureWarning: The frame.append method is deprecated and will be removed from pandas in a future version. Use pandas.concat instead.\n",
      "  resultados_df = resultados_df.append({'product_id': i, 'product_id_tn': serie_test, 'y_hat': yhat[0][1]}, ignore_index=True)\n"
     ]
    },
    {
     "name": "stdout",
     "output_type": "stream",
     "text": [
      "21068\n"
     ]
    },
    {
     "name": "stderr",
     "output_type": "stream",
     "text": [
      "/var/folders/x4/m6ss_3nn1vn52_2htr4xj3800000gp/T/ipykernel_14000/3859271102.py:25: FutureWarning: The frame.append method is deprecated and will be removed from pandas in a future version. Use pandas.concat instead.\n",
      "  resultados_df = resultados_df.append({'product_id': i, 'product_id_tn': serie_test, 'y_hat': yhat[0][1]}, ignore_index=True)\n"
     ]
    },
    {
     "name": "stdout",
     "output_type": "stream",
     "text": [
      "21069\n"
     ]
    },
    {
     "name": "stderr",
     "output_type": "stream",
     "text": [
      "/var/folders/x4/m6ss_3nn1vn52_2htr4xj3800000gp/T/ipykernel_14000/3859271102.py:25: FutureWarning: The frame.append method is deprecated and will be removed from pandas in a future version. Use pandas.concat instead.\n",
      "  resultados_df = resultados_df.append({'product_id': i, 'product_id_tn': serie_test, 'y_hat': yhat[0][1]}, ignore_index=True)\n"
     ]
    },
    {
     "name": "stdout",
     "output_type": "stream",
     "text": [
      "21070\n"
     ]
    },
    {
     "name": "stderr",
     "output_type": "stream",
     "text": [
      "/var/folders/x4/m6ss_3nn1vn52_2htr4xj3800000gp/T/ipykernel_14000/3859271102.py:25: FutureWarning: The frame.append method is deprecated and will be removed from pandas in a future version. Use pandas.concat instead.\n",
      "  resultados_df = resultados_df.append({'product_id': i, 'product_id_tn': serie_test, 'y_hat': yhat[0][1]}, ignore_index=True)\n"
     ]
    },
    {
     "name": "stdout",
     "output_type": "stream",
     "text": [
      "21071\n"
     ]
    },
    {
     "name": "stderr",
     "output_type": "stream",
     "text": [
      "/var/folders/x4/m6ss_3nn1vn52_2htr4xj3800000gp/T/ipykernel_14000/3859271102.py:25: FutureWarning: The frame.append method is deprecated and will be removed from pandas in a future version. Use pandas.concat instead.\n",
      "  resultados_df = resultados_df.append({'product_id': i, 'product_id_tn': serie_test, 'y_hat': yhat[0][1]}, ignore_index=True)\n"
     ]
    },
    {
     "name": "stdout",
     "output_type": "stream",
     "text": [
      "21076\n"
     ]
    },
    {
     "name": "stderr",
     "output_type": "stream",
     "text": [
      "/var/folders/x4/m6ss_3nn1vn52_2htr4xj3800000gp/T/ipykernel_14000/3859271102.py:25: FutureWarning: The frame.append method is deprecated and will be removed from pandas in a future version. Use pandas.concat instead.\n",
      "  resultados_df = resultados_df.append({'product_id': i, 'product_id_tn': serie_test, 'y_hat': yhat[0][1]}, ignore_index=True)\n"
     ]
    },
    {
     "name": "stdout",
     "output_type": "stream",
     "text": [
      "21077\n"
     ]
    },
    {
     "name": "stderr",
     "output_type": "stream",
     "text": [
      "/var/folders/x4/m6ss_3nn1vn52_2htr4xj3800000gp/T/ipykernel_14000/3859271102.py:25: FutureWarning: The frame.append method is deprecated and will be removed from pandas in a future version. Use pandas.concat instead.\n",
      "  resultados_df = resultados_df.append({'product_id': i, 'product_id_tn': serie_test, 'y_hat': yhat[0][1]}, ignore_index=True)\n"
     ]
    },
    {
     "name": "stdout",
     "output_type": "stream",
     "text": [
      "21078\n"
     ]
    },
    {
     "name": "stderr",
     "output_type": "stream",
     "text": [
      "/var/folders/x4/m6ss_3nn1vn52_2htr4xj3800000gp/T/ipykernel_14000/3859271102.py:25: FutureWarning: The frame.append method is deprecated and will be removed from pandas in a future version. Use pandas.concat instead.\n",
      "  resultados_df = resultados_df.append({'product_id': i, 'product_id_tn': serie_test, 'y_hat': yhat[0][1]}, ignore_index=True)\n"
     ]
    },
    {
     "name": "stdout",
     "output_type": "stream",
     "text": [
      "21080\n"
     ]
    },
    {
     "name": "stderr",
     "output_type": "stream",
     "text": [
      "/var/folders/x4/m6ss_3nn1vn52_2htr4xj3800000gp/T/ipykernel_14000/3859271102.py:25: FutureWarning: The frame.append method is deprecated and will be removed from pandas in a future version. Use pandas.concat instead.\n",
      "  resultados_df = resultados_df.append({'product_id': i, 'product_id_tn': serie_test, 'y_hat': yhat[0][1]}, ignore_index=True)\n"
     ]
    },
    {
     "name": "stdout",
     "output_type": "stream",
     "text": [
      "21081\n"
     ]
    },
    {
     "name": "stderr",
     "output_type": "stream",
     "text": [
      "/var/folders/x4/m6ss_3nn1vn52_2htr4xj3800000gp/T/ipykernel_14000/3859271102.py:25: FutureWarning: The frame.append method is deprecated and will be removed from pandas in a future version. Use pandas.concat instead.\n",
      "  resultados_df = resultados_df.append({'product_id': i, 'product_id_tn': serie_test, 'y_hat': yhat[0][1]}, ignore_index=True)\n"
     ]
    },
    {
     "name": "stdout",
     "output_type": "stream",
     "text": [
      "21082\n"
     ]
    },
    {
     "name": "stderr",
     "output_type": "stream",
     "text": [
      "/var/folders/x4/m6ss_3nn1vn52_2htr4xj3800000gp/T/ipykernel_14000/3859271102.py:25: FutureWarning: The frame.append method is deprecated and will be removed from pandas in a future version. Use pandas.concat instead.\n",
      "  resultados_df = resultados_df.append({'product_id': i, 'product_id_tn': serie_test, 'y_hat': yhat[0][1]}, ignore_index=True)\n"
     ]
    },
    {
     "name": "stdout",
     "output_type": "stream",
     "text": [
      "21083\n"
     ]
    },
    {
     "name": "stderr",
     "output_type": "stream",
     "text": [
      "/var/folders/x4/m6ss_3nn1vn52_2htr4xj3800000gp/T/ipykernel_14000/3859271102.py:25: FutureWarning: The frame.append method is deprecated and will be removed from pandas in a future version. Use pandas.concat instead.\n",
      "  resultados_df = resultados_df.append({'product_id': i, 'product_id_tn': serie_test, 'y_hat': yhat[0][1]}, ignore_index=True)\n"
     ]
    },
    {
     "name": "stdout",
     "output_type": "stream",
     "text": [
      "21084\n"
     ]
    },
    {
     "name": "stderr",
     "output_type": "stream",
     "text": [
      "/var/folders/x4/m6ss_3nn1vn52_2htr4xj3800000gp/T/ipykernel_14000/3859271102.py:25: FutureWarning: The frame.append method is deprecated and will be removed from pandas in a future version. Use pandas.concat instead.\n",
      "  resultados_df = resultados_df.append({'product_id': i, 'product_id_tn': serie_test, 'y_hat': yhat[0][1]}, ignore_index=True)\n"
     ]
    },
    {
     "name": "stdout",
     "output_type": "stream",
     "text": [
      "21085\n"
     ]
    },
    {
     "name": "stderr",
     "output_type": "stream",
     "text": [
      "/var/folders/x4/m6ss_3nn1vn52_2htr4xj3800000gp/T/ipykernel_14000/3859271102.py:25: FutureWarning: The frame.append method is deprecated and will be removed from pandas in a future version. Use pandas.concat instead.\n",
      "  resultados_df = resultados_df.append({'product_id': i, 'product_id_tn': serie_test, 'y_hat': yhat[0][1]}, ignore_index=True)\n"
     ]
    },
    {
     "name": "stdout",
     "output_type": "stream",
     "text": [
      "21088\n"
     ]
    },
    {
     "name": "stderr",
     "output_type": "stream",
     "text": [
      "/var/folders/x4/m6ss_3nn1vn52_2htr4xj3800000gp/T/ipykernel_14000/3859271102.py:25: FutureWarning: The frame.append method is deprecated and will be removed from pandas in a future version. Use pandas.concat instead.\n",
      "  resultados_df = resultados_df.append({'product_id': i, 'product_id_tn': serie_test, 'y_hat': yhat[0][1]}, ignore_index=True)\n"
     ]
    },
    {
     "name": "stdout",
     "output_type": "stream",
     "text": [
      "21090\n"
     ]
    },
    {
     "name": "stderr",
     "output_type": "stream",
     "text": [
      "/var/folders/x4/m6ss_3nn1vn52_2htr4xj3800000gp/T/ipykernel_14000/3859271102.py:25: FutureWarning: The frame.append method is deprecated and will be removed from pandas in a future version. Use pandas.concat instead.\n",
      "  resultados_df = resultados_df.append({'product_id': i, 'product_id_tn': serie_test, 'y_hat': yhat[0][1]}, ignore_index=True)\n"
     ]
    },
    {
     "name": "stdout",
     "output_type": "stream",
     "text": [
      "21091\n"
     ]
    },
    {
     "name": "stderr",
     "output_type": "stream",
     "text": [
      "/var/folders/x4/m6ss_3nn1vn52_2htr4xj3800000gp/T/ipykernel_14000/3859271102.py:25: FutureWarning: The frame.append method is deprecated and will be removed from pandas in a future version. Use pandas.concat instead.\n",
      "  resultados_df = resultados_df.append({'product_id': i, 'product_id_tn': serie_test, 'y_hat': yhat[0][1]}, ignore_index=True)\n"
     ]
    },
    {
     "name": "stdout",
     "output_type": "stream",
     "text": [
      "21094\n"
     ]
    },
    {
     "name": "stderr",
     "output_type": "stream",
     "text": [
      "/var/folders/x4/m6ss_3nn1vn52_2htr4xj3800000gp/T/ipykernel_14000/3859271102.py:25: FutureWarning: The frame.append method is deprecated and will be removed from pandas in a future version. Use pandas.concat instead.\n",
      "  resultados_df = resultados_df.append({'product_id': i, 'product_id_tn': serie_test, 'y_hat': yhat[0][1]}, ignore_index=True)\n"
     ]
    },
    {
     "name": "stdout",
     "output_type": "stream",
     "text": [
      "21095\n"
     ]
    },
    {
     "name": "stderr",
     "output_type": "stream",
     "text": [
      "/var/folders/x4/m6ss_3nn1vn52_2htr4xj3800000gp/T/ipykernel_14000/3859271102.py:25: FutureWarning: The frame.append method is deprecated and will be removed from pandas in a future version. Use pandas.concat instead.\n",
      "  resultados_df = resultados_df.append({'product_id': i, 'product_id_tn': serie_test, 'y_hat': yhat[0][1]}, ignore_index=True)\n"
     ]
    },
    {
     "name": "stdout",
     "output_type": "stream",
     "text": [
      "21096\n"
     ]
    },
    {
     "name": "stderr",
     "output_type": "stream",
     "text": [
      "/var/folders/x4/m6ss_3nn1vn52_2htr4xj3800000gp/T/ipykernel_14000/3859271102.py:25: FutureWarning: The frame.append method is deprecated and will be removed from pandas in a future version. Use pandas.concat instead.\n",
      "  resultados_df = resultados_df.append({'product_id': i, 'product_id_tn': serie_test, 'y_hat': yhat[0][1]}, ignore_index=True)\n"
     ]
    },
    {
     "name": "stdout",
     "output_type": "stream",
     "text": [
      "21098\n"
     ]
    },
    {
     "name": "stderr",
     "output_type": "stream",
     "text": [
      "/var/folders/x4/m6ss_3nn1vn52_2htr4xj3800000gp/T/ipykernel_14000/3859271102.py:25: FutureWarning: The frame.append method is deprecated and will be removed from pandas in a future version. Use pandas.concat instead.\n",
      "  resultados_df = resultados_df.append({'product_id': i, 'product_id_tn': serie_test, 'y_hat': yhat[0][1]}, ignore_index=True)\n"
     ]
    },
    {
     "name": "stdout",
     "output_type": "stream",
     "text": [
      "21100\n"
     ]
    },
    {
     "name": "stderr",
     "output_type": "stream",
     "text": [
      "/var/folders/x4/m6ss_3nn1vn52_2htr4xj3800000gp/T/ipykernel_14000/3859271102.py:25: FutureWarning: The frame.append method is deprecated and will be removed from pandas in a future version. Use pandas.concat instead.\n",
      "  resultados_df = resultados_df.append({'product_id': i, 'product_id_tn': serie_test, 'y_hat': yhat[0][1]}, ignore_index=True)\n"
     ]
    },
    {
     "name": "stdout",
     "output_type": "stream",
     "text": [
      "21106\n"
     ]
    },
    {
     "name": "stderr",
     "output_type": "stream",
     "text": [
      "/var/folders/x4/m6ss_3nn1vn52_2htr4xj3800000gp/T/ipykernel_14000/3859271102.py:25: FutureWarning: The frame.append method is deprecated and will be removed from pandas in a future version. Use pandas.concat instead.\n",
      "  resultados_df = resultados_df.append({'product_id': i, 'product_id_tn': serie_test, 'y_hat': yhat[0][1]}, ignore_index=True)\n"
     ]
    },
    {
     "name": "stdout",
     "output_type": "stream",
     "text": [
      "21113\n"
     ]
    },
    {
     "name": "stderr",
     "output_type": "stream",
     "text": [
      "/var/folders/x4/m6ss_3nn1vn52_2htr4xj3800000gp/T/ipykernel_14000/3859271102.py:25: FutureWarning: The frame.append method is deprecated and will be removed from pandas in a future version. Use pandas.concat instead.\n",
      "  resultados_df = resultados_df.append({'product_id': i, 'product_id_tn': serie_test, 'y_hat': yhat[0][1]}, ignore_index=True)\n"
     ]
    },
    {
     "name": "stdout",
     "output_type": "stream",
     "text": [
      "21116\n"
     ]
    },
    {
     "name": "stderr",
     "output_type": "stream",
     "text": [
      "/var/folders/x4/m6ss_3nn1vn52_2htr4xj3800000gp/T/ipykernel_14000/3859271102.py:25: FutureWarning: The frame.append method is deprecated and will be removed from pandas in a future version. Use pandas.concat instead.\n",
      "  resultados_df = resultados_df.append({'product_id': i, 'product_id_tn': serie_test, 'y_hat': yhat[0][1]}, ignore_index=True)\n"
     ]
    },
    {
     "name": "stdout",
     "output_type": "stream",
     "text": [
      "21117\n"
     ]
    },
    {
     "name": "stderr",
     "output_type": "stream",
     "text": [
      "/var/folders/x4/m6ss_3nn1vn52_2htr4xj3800000gp/T/ipykernel_14000/3859271102.py:25: FutureWarning: The frame.append method is deprecated and will be removed from pandas in a future version. Use pandas.concat instead.\n",
      "  resultados_df = resultados_df.append({'product_id': i, 'product_id_tn': serie_test, 'y_hat': yhat[0][1]}, ignore_index=True)\n"
     ]
    },
    {
     "name": "stdout",
     "output_type": "stream",
     "text": [
      "21118\n"
     ]
    },
    {
     "name": "stderr",
     "output_type": "stream",
     "text": [
      "/var/folders/x4/m6ss_3nn1vn52_2htr4xj3800000gp/T/ipykernel_14000/3859271102.py:25: FutureWarning: The frame.append method is deprecated and will be removed from pandas in a future version. Use pandas.concat instead.\n",
      "  resultados_df = resultados_df.append({'product_id': i, 'product_id_tn': serie_test, 'y_hat': yhat[0][1]}, ignore_index=True)\n"
     ]
    },
    {
     "name": "stdout",
     "output_type": "stream",
     "text": [
      "21120\n"
     ]
    },
    {
     "name": "stderr",
     "output_type": "stream",
     "text": [
      "/var/folders/x4/m6ss_3nn1vn52_2htr4xj3800000gp/T/ipykernel_14000/3859271102.py:25: FutureWarning: The frame.append method is deprecated and will be removed from pandas in a future version. Use pandas.concat instead.\n",
      "  resultados_df = resultados_df.append({'product_id': i, 'product_id_tn': serie_test, 'y_hat': yhat[0][1]}, ignore_index=True)\n"
     ]
    },
    {
     "name": "stdout",
     "output_type": "stream",
     "text": [
      "21122\n"
     ]
    },
    {
     "name": "stderr",
     "output_type": "stream",
     "text": [
      "/var/folders/x4/m6ss_3nn1vn52_2htr4xj3800000gp/T/ipykernel_14000/3859271102.py:25: FutureWarning: The frame.append method is deprecated and will be removed from pandas in a future version. Use pandas.concat instead.\n",
      "  resultados_df = resultados_df.append({'product_id': i, 'product_id_tn': serie_test, 'y_hat': yhat[0][1]}, ignore_index=True)\n"
     ]
    },
    {
     "name": "stdout",
     "output_type": "stream",
     "text": [
      "21124\n"
     ]
    },
    {
     "name": "stderr",
     "output_type": "stream",
     "text": [
      "/var/folders/x4/m6ss_3nn1vn52_2htr4xj3800000gp/T/ipykernel_14000/3859271102.py:25: FutureWarning: The frame.append method is deprecated and will be removed from pandas in a future version. Use pandas.concat instead.\n",
      "  resultados_df = resultados_df.append({'product_id': i, 'product_id_tn': serie_test, 'y_hat': yhat[0][1]}, ignore_index=True)\n"
     ]
    },
    {
     "name": "stdout",
     "output_type": "stream",
     "text": [
      "21125\n"
     ]
    },
    {
     "name": "stderr",
     "output_type": "stream",
     "text": [
      "/var/folders/x4/m6ss_3nn1vn52_2htr4xj3800000gp/T/ipykernel_14000/3859271102.py:25: FutureWarning: The frame.append method is deprecated and will be removed from pandas in a future version. Use pandas.concat instead.\n",
      "  resultados_df = resultados_df.append({'product_id': i, 'product_id_tn': serie_test, 'y_hat': yhat[0][1]}, ignore_index=True)\n"
     ]
    },
    {
     "name": "stdout",
     "output_type": "stream",
     "text": [
      "21126\n"
     ]
    },
    {
     "name": "stderr",
     "output_type": "stream",
     "text": [
      "/var/folders/x4/m6ss_3nn1vn52_2htr4xj3800000gp/T/ipykernel_14000/3859271102.py:25: FutureWarning: The frame.append method is deprecated and will be removed from pandas in a future version. Use pandas.concat instead.\n",
      "  resultados_df = resultados_df.append({'product_id': i, 'product_id_tn': serie_test, 'y_hat': yhat[0][1]}, ignore_index=True)\n"
     ]
    },
    {
     "name": "stdout",
     "output_type": "stream",
     "text": [
      "21130\n"
     ]
    },
    {
     "name": "stderr",
     "output_type": "stream",
     "text": [
      "/var/folders/x4/m6ss_3nn1vn52_2htr4xj3800000gp/T/ipykernel_14000/3859271102.py:25: FutureWarning: The frame.append method is deprecated and will be removed from pandas in a future version. Use pandas.concat instead.\n",
      "  resultados_df = resultados_df.append({'product_id': i, 'product_id_tn': serie_test, 'y_hat': yhat[0][1]}, ignore_index=True)\n"
     ]
    },
    {
     "name": "stdout",
     "output_type": "stream",
     "text": [
      "21131\n"
     ]
    },
    {
     "name": "stderr",
     "output_type": "stream",
     "text": [
      "/var/folders/x4/m6ss_3nn1vn52_2htr4xj3800000gp/T/ipykernel_14000/3859271102.py:25: FutureWarning: The frame.append method is deprecated and will be removed from pandas in a future version. Use pandas.concat instead.\n",
      "  resultados_df = resultados_df.append({'product_id': i, 'product_id_tn': serie_test, 'y_hat': yhat[0][1]}, ignore_index=True)\n"
     ]
    },
    {
     "name": "stdout",
     "output_type": "stream",
     "text": [
      "21133\n"
     ]
    },
    {
     "name": "stderr",
     "output_type": "stream",
     "text": [
      "/var/folders/x4/m6ss_3nn1vn52_2htr4xj3800000gp/T/ipykernel_14000/3859271102.py:25: FutureWarning: The frame.append method is deprecated and will be removed from pandas in a future version. Use pandas.concat instead.\n",
      "  resultados_df = resultados_df.append({'product_id': i, 'product_id_tn': serie_test, 'y_hat': yhat[0][1]}, ignore_index=True)\n"
     ]
    },
    {
     "name": "stdout",
     "output_type": "stream",
     "text": [
      "21142\n"
     ]
    },
    {
     "name": "stderr",
     "output_type": "stream",
     "text": [
      "/var/folders/x4/m6ss_3nn1vn52_2htr4xj3800000gp/T/ipykernel_14000/3859271102.py:25: FutureWarning: The frame.append method is deprecated and will be removed from pandas in a future version. Use pandas.concat instead.\n",
      "  resultados_df = resultados_df.append({'product_id': i, 'product_id_tn': serie_test, 'y_hat': yhat[0][1]}, ignore_index=True)\n"
     ]
    },
    {
     "name": "stdout",
     "output_type": "stream",
     "text": [
      "21143\n"
     ]
    },
    {
     "name": "stderr",
     "output_type": "stream",
     "text": [
      "/var/folders/x4/m6ss_3nn1vn52_2htr4xj3800000gp/T/ipykernel_14000/3859271102.py:25: FutureWarning: The frame.append method is deprecated and will be removed from pandas in a future version. Use pandas.concat instead.\n",
      "  resultados_df = resultados_df.append({'product_id': i, 'product_id_tn': serie_test, 'y_hat': yhat[0][1]}, ignore_index=True)\n"
     ]
    },
    {
     "name": "stdout",
     "output_type": "stream",
     "text": [
      "21148\n"
     ]
    },
    {
     "name": "stderr",
     "output_type": "stream",
     "text": [
      "/var/folders/x4/m6ss_3nn1vn52_2htr4xj3800000gp/T/ipykernel_14000/3859271102.py:25: FutureWarning: The frame.append method is deprecated and will be removed from pandas in a future version. Use pandas.concat instead.\n",
      "  resultados_df = resultados_df.append({'product_id': i, 'product_id_tn': serie_test, 'y_hat': yhat[0][1]}, ignore_index=True)\n"
     ]
    },
    {
     "name": "stdout",
     "output_type": "stream",
     "text": [
      "21149\n"
     ]
    },
    {
     "name": "stderr",
     "output_type": "stream",
     "text": [
      "/var/folders/x4/m6ss_3nn1vn52_2htr4xj3800000gp/T/ipykernel_14000/3859271102.py:25: FutureWarning: The frame.append method is deprecated and will be removed from pandas in a future version. Use pandas.concat instead.\n",
      "  resultados_df = resultados_df.append({'product_id': i, 'product_id_tn': serie_test, 'y_hat': yhat[0][1]}, ignore_index=True)\n"
     ]
    },
    {
     "name": "stdout",
     "output_type": "stream",
     "text": [
      "21151\n"
     ]
    },
    {
     "name": "stderr",
     "output_type": "stream",
     "text": [
      "/var/folders/x4/m6ss_3nn1vn52_2htr4xj3800000gp/T/ipykernel_14000/3859271102.py:25: FutureWarning: The frame.append method is deprecated and will be removed from pandas in a future version. Use pandas.concat instead.\n",
      "  resultados_df = resultados_df.append({'product_id': i, 'product_id_tn': serie_test, 'y_hat': yhat[0][1]}, ignore_index=True)\n"
     ]
    },
    {
     "name": "stdout",
     "output_type": "stream",
     "text": [
      "21152\n"
     ]
    },
    {
     "name": "stderr",
     "output_type": "stream",
     "text": [
      "/var/folders/x4/m6ss_3nn1vn52_2htr4xj3800000gp/T/ipykernel_14000/3859271102.py:25: FutureWarning: The frame.append method is deprecated and will be removed from pandas in a future version. Use pandas.concat instead.\n",
      "  resultados_df = resultados_df.append({'product_id': i, 'product_id_tn': serie_test, 'y_hat': yhat[0][1]}, ignore_index=True)\n"
     ]
    },
    {
     "name": "stdout",
     "output_type": "stream",
     "text": [
      "21155\n"
     ]
    },
    {
     "name": "stderr",
     "output_type": "stream",
     "text": [
      "/var/folders/x4/m6ss_3nn1vn52_2htr4xj3800000gp/T/ipykernel_14000/3859271102.py:25: FutureWarning: The frame.append method is deprecated and will be removed from pandas in a future version. Use pandas.concat instead.\n",
      "  resultados_df = resultados_df.append({'product_id': i, 'product_id_tn': serie_test, 'y_hat': yhat[0][1]}, ignore_index=True)\n"
     ]
    },
    {
     "name": "stdout",
     "output_type": "stream",
     "text": [
      "21156\n"
     ]
    },
    {
     "name": "stderr",
     "output_type": "stream",
     "text": [
      "/var/folders/x4/m6ss_3nn1vn52_2htr4xj3800000gp/T/ipykernel_14000/3859271102.py:25: FutureWarning: The frame.append method is deprecated and will be removed from pandas in a future version. Use pandas.concat instead.\n",
      "  resultados_df = resultados_df.append({'product_id': i, 'product_id_tn': serie_test, 'y_hat': yhat[0][1]}, ignore_index=True)\n"
     ]
    },
    {
     "name": "stdout",
     "output_type": "stream",
     "text": [
      "21157\n"
     ]
    },
    {
     "name": "stderr",
     "output_type": "stream",
     "text": [
      "/var/folders/x4/m6ss_3nn1vn52_2htr4xj3800000gp/T/ipykernel_14000/3859271102.py:25: FutureWarning: The frame.append method is deprecated and will be removed from pandas in a future version. Use pandas.concat instead.\n",
      "  resultados_df = resultados_df.append({'product_id': i, 'product_id_tn': serie_test, 'y_hat': yhat[0][1]}, ignore_index=True)\n"
     ]
    },
    {
     "name": "stdout",
     "output_type": "stream",
     "text": [
      "21158\n"
     ]
    },
    {
     "name": "stderr",
     "output_type": "stream",
     "text": [
      "/var/folders/x4/m6ss_3nn1vn52_2htr4xj3800000gp/T/ipykernel_14000/3859271102.py:25: FutureWarning: The frame.append method is deprecated and will be removed from pandas in a future version. Use pandas.concat instead.\n",
      "  resultados_df = resultados_df.append({'product_id': i, 'product_id_tn': serie_test, 'y_hat': yhat[0][1]}, ignore_index=True)\n"
     ]
    },
    {
     "name": "stdout",
     "output_type": "stream",
     "text": [
      "21160\n"
     ]
    },
    {
     "name": "stderr",
     "output_type": "stream",
     "text": [
      "/var/folders/x4/m6ss_3nn1vn52_2htr4xj3800000gp/T/ipykernel_14000/3859271102.py:25: FutureWarning: The frame.append method is deprecated and will be removed from pandas in a future version. Use pandas.concat instead.\n",
      "  resultados_df = resultados_df.append({'product_id': i, 'product_id_tn': serie_test, 'y_hat': yhat[0][1]}, ignore_index=True)\n"
     ]
    },
    {
     "name": "stdout",
     "output_type": "stream",
     "text": [
      "21161\n"
     ]
    },
    {
     "name": "stderr",
     "output_type": "stream",
     "text": [
      "/var/folders/x4/m6ss_3nn1vn52_2htr4xj3800000gp/T/ipykernel_14000/3859271102.py:25: FutureWarning: The frame.append method is deprecated and will be removed from pandas in a future version. Use pandas.concat instead.\n",
      "  resultados_df = resultados_df.append({'product_id': i, 'product_id_tn': serie_test, 'y_hat': yhat[0][1]}, ignore_index=True)\n"
     ]
    },
    {
     "name": "stdout",
     "output_type": "stream",
     "text": [
      "21162\n"
     ]
    },
    {
     "name": "stderr",
     "output_type": "stream",
     "text": [
      "/var/folders/x4/m6ss_3nn1vn52_2htr4xj3800000gp/T/ipykernel_14000/3859271102.py:25: FutureWarning: The frame.append method is deprecated and will be removed from pandas in a future version. Use pandas.concat instead.\n",
      "  resultados_df = resultados_df.append({'product_id': i, 'product_id_tn': serie_test, 'y_hat': yhat[0][1]}, ignore_index=True)\n"
     ]
    },
    {
     "name": "stdout",
     "output_type": "stream",
     "text": [
      "21164\n"
     ]
    },
    {
     "name": "stderr",
     "output_type": "stream",
     "text": [
      "/var/folders/x4/m6ss_3nn1vn52_2htr4xj3800000gp/T/ipykernel_14000/3859271102.py:25: FutureWarning: The frame.append method is deprecated and will be removed from pandas in a future version. Use pandas.concat instead.\n",
      "  resultados_df = resultados_df.append({'product_id': i, 'product_id_tn': serie_test, 'y_hat': yhat[0][1]}, ignore_index=True)\n"
     ]
    },
    {
     "name": "stdout",
     "output_type": "stream",
     "text": [
      "21165\n"
     ]
    },
    {
     "name": "stderr",
     "output_type": "stream",
     "text": [
      "/var/folders/x4/m6ss_3nn1vn52_2htr4xj3800000gp/T/ipykernel_14000/3859271102.py:25: FutureWarning: The frame.append method is deprecated and will be removed from pandas in a future version. Use pandas.concat instead.\n",
      "  resultados_df = resultados_df.append({'product_id': i, 'product_id_tn': serie_test, 'y_hat': yhat[0][1]}, ignore_index=True)\n"
     ]
    },
    {
     "name": "stdout",
     "output_type": "stream",
     "text": [
      "21167\n"
     ]
    },
    {
     "name": "stderr",
     "output_type": "stream",
     "text": [
      "/var/folders/x4/m6ss_3nn1vn52_2htr4xj3800000gp/T/ipykernel_14000/3859271102.py:25: FutureWarning: The frame.append method is deprecated and will be removed from pandas in a future version. Use pandas.concat instead.\n",
      "  resultados_df = resultados_df.append({'product_id': i, 'product_id_tn': serie_test, 'y_hat': yhat[0][1]}, ignore_index=True)\n"
     ]
    },
    {
     "name": "stdout",
     "output_type": "stream",
     "text": [
      "21170\n"
     ]
    },
    {
     "name": "stderr",
     "output_type": "stream",
     "text": [
      "/var/folders/x4/m6ss_3nn1vn52_2htr4xj3800000gp/T/ipykernel_14000/3859271102.py:25: FutureWarning: The frame.append method is deprecated and will be removed from pandas in a future version. Use pandas.concat instead.\n",
      "  resultados_df = resultados_df.append({'product_id': i, 'product_id_tn': serie_test, 'y_hat': yhat[0][1]}, ignore_index=True)\n"
     ]
    },
    {
     "name": "stdout",
     "output_type": "stream",
     "text": [
      "21172\n"
     ]
    },
    {
     "name": "stderr",
     "output_type": "stream",
     "text": [
      "/var/folders/x4/m6ss_3nn1vn52_2htr4xj3800000gp/T/ipykernel_14000/3859271102.py:25: FutureWarning: The frame.append method is deprecated and will be removed from pandas in a future version. Use pandas.concat instead.\n",
      "  resultados_df = resultados_df.append({'product_id': i, 'product_id_tn': serie_test, 'y_hat': yhat[0][1]}, ignore_index=True)\n"
     ]
    },
    {
     "name": "stdout",
     "output_type": "stream",
     "text": [
      "21176\n"
     ]
    },
    {
     "name": "stderr",
     "output_type": "stream",
     "text": [
      "/var/folders/x4/m6ss_3nn1vn52_2htr4xj3800000gp/T/ipykernel_14000/3859271102.py:25: FutureWarning: The frame.append method is deprecated and will be removed from pandas in a future version. Use pandas.concat instead.\n",
      "  resultados_df = resultados_df.append({'product_id': i, 'product_id_tn': serie_test, 'y_hat': yhat[0][1]}, ignore_index=True)\n"
     ]
    },
    {
     "name": "stdout",
     "output_type": "stream",
     "text": [
      "21178\n"
     ]
    },
    {
     "name": "stderr",
     "output_type": "stream",
     "text": [
      "/var/folders/x4/m6ss_3nn1vn52_2htr4xj3800000gp/T/ipykernel_14000/3859271102.py:25: FutureWarning: The frame.append method is deprecated and will be removed from pandas in a future version. Use pandas.concat instead.\n",
      "  resultados_df = resultados_df.append({'product_id': i, 'product_id_tn': serie_test, 'y_hat': yhat[0][1]}, ignore_index=True)\n"
     ]
    },
    {
     "name": "stdout",
     "output_type": "stream",
     "text": [
      "21180\n"
     ]
    },
    {
     "name": "stderr",
     "output_type": "stream",
     "text": [
      "/var/folders/x4/m6ss_3nn1vn52_2htr4xj3800000gp/T/ipykernel_14000/3859271102.py:25: FutureWarning: The frame.append method is deprecated and will be removed from pandas in a future version. Use pandas.concat instead.\n",
      "  resultados_df = resultados_df.append({'product_id': i, 'product_id_tn': serie_test, 'y_hat': yhat[0][1]}, ignore_index=True)\n"
     ]
    },
    {
     "name": "stdout",
     "output_type": "stream",
     "text": [
      "21181\n"
     ]
    },
    {
     "name": "stderr",
     "output_type": "stream",
     "text": [
      "/var/folders/x4/m6ss_3nn1vn52_2htr4xj3800000gp/T/ipykernel_14000/3859271102.py:25: FutureWarning: The frame.append method is deprecated and will be removed from pandas in a future version. Use pandas.concat instead.\n",
      "  resultados_df = resultados_df.append({'product_id': i, 'product_id_tn': serie_test, 'y_hat': yhat[0][1]}, ignore_index=True)\n"
     ]
    },
    {
     "name": "stdout",
     "output_type": "stream",
     "text": [
      "21182\n"
     ]
    },
    {
     "name": "stderr",
     "output_type": "stream",
     "text": [
      "/var/folders/x4/m6ss_3nn1vn52_2htr4xj3800000gp/T/ipykernel_14000/3859271102.py:25: FutureWarning: The frame.append method is deprecated and will be removed from pandas in a future version. Use pandas.concat instead.\n",
      "  resultados_df = resultados_df.append({'product_id': i, 'product_id_tn': serie_test, 'y_hat': yhat[0][1]}, ignore_index=True)\n"
     ]
    },
    {
     "name": "stdout",
     "output_type": "stream",
     "text": [
      "21184\n"
     ]
    },
    {
     "name": "stderr",
     "output_type": "stream",
     "text": [
      "/var/folders/x4/m6ss_3nn1vn52_2htr4xj3800000gp/T/ipykernel_14000/3859271102.py:25: FutureWarning: The frame.append method is deprecated and will be removed from pandas in a future version. Use pandas.concat instead.\n",
      "  resultados_df = resultados_df.append({'product_id': i, 'product_id_tn': serie_test, 'y_hat': yhat[0][1]}, ignore_index=True)\n"
     ]
    },
    {
     "name": "stdout",
     "output_type": "stream",
     "text": [
      "21185\n"
     ]
    },
    {
     "name": "stderr",
     "output_type": "stream",
     "text": [
      "/var/folders/x4/m6ss_3nn1vn52_2htr4xj3800000gp/T/ipykernel_14000/3859271102.py:25: FutureWarning: The frame.append method is deprecated and will be removed from pandas in a future version. Use pandas.concat instead.\n",
      "  resultados_df = resultados_df.append({'product_id': i, 'product_id_tn': serie_test, 'y_hat': yhat[0][1]}, ignore_index=True)\n"
     ]
    },
    {
     "name": "stdout",
     "output_type": "stream",
     "text": [
      "21188\n"
     ]
    },
    {
     "name": "stderr",
     "output_type": "stream",
     "text": [
      "/var/folders/x4/m6ss_3nn1vn52_2htr4xj3800000gp/T/ipykernel_14000/3859271102.py:25: FutureWarning: The frame.append method is deprecated and will be removed from pandas in a future version. Use pandas.concat instead.\n",
      "  resultados_df = resultados_df.append({'product_id': i, 'product_id_tn': serie_test, 'y_hat': yhat[0][1]}, ignore_index=True)\n"
     ]
    },
    {
     "name": "stdout",
     "output_type": "stream",
     "text": [
      "21189\n"
     ]
    },
    {
     "name": "stderr",
     "output_type": "stream",
     "text": [
      "/var/folders/x4/m6ss_3nn1vn52_2htr4xj3800000gp/T/ipykernel_14000/3859271102.py:25: FutureWarning: The frame.append method is deprecated and will be removed from pandas in a future version. Use pandas.concat instead.\n",
      "  resultados_df = resultados_df.append({'product_id': i, 'product_id_tn': serie_test, 'y_hat': yhat[0][1]}, ignore_index=True)\n"
     ]
    },
    {
     "name": "stdout",
     "output_type": "stream",
     "text": [
      "21190\n"
     ]
    },
    {
     "name": "stderr",
     "output_type": "stream",
     "text": [
      "/var/folders/x4/m6ss_3nn1vn52_2htr4xj3800000gp/T/ipykernel_14000/3859271102.py:25: FutureWarning: The frame.append method is deprecated and will be removed from pandas in a future version. Use pandas.concat instead.\n",
      "  resultados_df = resultados_df.append({'product_id': i, 'product_id_tn': serie_test, 'y_hat': yhat[0][1]}, ignore_index=True)\n"
     ]
    },
    {
     "name": "stdout",
     "output_type": "stream",
     "text": [
      "21191\n"
     ]
    },
    {
     "name": "stderr",
     "output_type": "stream",
     "text": [
      "/var/folders/x4/m6ss_3nn1vn52_2htr4xj3800000gp/T/ipykernel_14000/3859271102.py:25: FutureWarning: The frame.append method is deprecated and will be removed from pandas in a future version. Use pandas.concat instead.\n",
      "  resultados_df = resultados_df.append({'product_id': i, 'product_id_tn': serie_test, 'y_hat': yhat[0][1]}, ignore_index=True)\n"
     ]
    },
    {
     "name": "stdout",
     "output_type": "stream",
     "text": [
      "21192\n"
     ]
    },
    {
     "name": "stderr",
     "output_type": "stream",
     "text": [
      "/var/folders/x4/m6ss_3nn1vn52_2htr4xj3800000gp/T/ipykernel_14000/3859271102.py:25: FutureWarning: The frame.append method is deprecated and will be removed from pandas in a future version. Use pandas.concat instead.\n",
      "  resultados_df = resultados_df.append({'product_id': i, 'product_id_tn': serie_test, 'y_hat': yhat[0][1]}, ignore_index=True)\n"
     ]
    },
    {
     "name": "stdout",
     "output_type": "stream",
     "text": [
      "21193\n"
     ]
    },
    {
     "name": "stderr",
     "output_type": "stream",
     "text": [
      "/var/folders/x4/m6ss_3nn1vn52_2htr4xj3800000gp/T/ipykernel_14000/3859271102.py:25: FutureWarning: The frame.append method is deprecated and will be removed from pandas in a future version. Use pandas.concat instead.\n",
      "  resultados_df = resultados_df.append({'product_id': i, 'product_id_tn': serie_test, 'y_hat': yhat[0][1]}, ignore_index=True)\n"
     ]
    },
    {
     "name": "stdout",
     "output_type": "stream",
     "text": [
      "21194\n"
     ]
    },
    {
     "name": "stderr",
     "output_type": "stream",
     "text": [
      "/var/folders/x4/m6ss_3nn1vn52_2htr4xj3800000gp/T/ipykernel_14000/3859271102.py:25: FutureWarning: The frame.append method is deprecated and will be removed from pandas in a future version. Use pandas.concat instead.\n",
      "  resultados_df = resultados_df.append({'product_id': i, 'product_id_tn': serie_test, 'y_hat': yhat[0][1]}, ignore_index=True)\n"
     ]
    },
    {
     "name": "stdout",
     "output_type": "stream",
     "text": [
      "21195\n"
     ]
    },
    {
     "name": "stderr",
     "output_type": "stream",
     "text": [
      "/var/folders/x4/m6ss_3nn1vn52_2htr4xj3800000gp/T/ipykernel_14000/3859271102.py:25: FutureWarning: The frame.append method is deprecated and will be removed from pandas in a future version. Use pandas.concat instead.\n",
      "  resultados_df = resultados_df.append({'product_id': i, 'product_id_tn': serie_test, 'y_hat': yhat[0][1]}, ignore_index=True)\n"
     ]
    },
    {
     "name": "stdout",
     "output_type": "stream",
     "text": [
      "21198\n"
     ]
    },
    {
     "name": "stderr",
     "output_type": "stream",
     "text": [
      "/var/folders/x4/m6ss_3nn1vn52_2htr4xj3800000gp/T/ipykernel_14000/3859271102.py:25: FutureWarning: The frame.append method is deprecated and will be removed from pandas in a future version. Use pandas.concat instead.\n",
      "  resultados_df = resultados_df.append({'product_id': i, 'product_id_tn': serie_test, 'y_hat': yhat[0][1]}, ignore_index=True)\n"
     ]
    },
    {
     "name": "stdout",
     "output_type": "stream",
     "text": [
      "21200\n"
     ]
    },
    {
     "name": "stderr",
     "output_type": "stream",
     "text": [
      "/var/folders/x4/m6ss_3nn1vn52_2htr4xj3800000gp/T/ipykernel_14000/3859271102.py:25: FutureWarning: The frame.append method is deprecated and will be removed from pandas in a future version. Use pandas.concat instead.\n",
      "  resultados_df = resultados_df.append({'product_id': i, 'product_id_tn': serie_test, 'y_hat': yhat[0][1]}, ignore_index=True)\n"
     ]
    },
    {
     "name": "stdout",
     "output_type": "stream",
     "text": [
      "21202\n"
     ]
    },
    {
     "name": "stderr",
     "output_type": "stream",
     "text": [
      "/var/folders/x4/m6ss_3nn1vn52_2htr4xj3800000gp/T/ipykernel_14000/3859271102.py:25: FutureWarning: The frame.append method is deprecated and will be removed from pandas in a future version. Use pandas.concat instead.\n",
      "  resultados_df = resultados_df.append({'product_id': i, 'product_id_tn': serie_test, 'y_hat': yhat[0][1]}, ignore_index=True)\n"
     ]
    },
    {
     "name": "stdout",
     "output_type": "stream",
     "text": [
      "21203\n"
     ]
    },
    {
     "name": "stderr",
     "output_type": "stream",
     "text": [
      "/var/folders/x4/m6ss_3nn1vn52_2htr4xj3800000gp/T/ipykernel_14000/3859271102.py:25: FutureWarning: The frame.append method is deprecated and will be removed from pandas in a future version. Use pandas.concat instead.\n",
      "  resultados_df = resultados_df.append({'product_id': i, 'product_id_tn': serie_test, 'y_hat': yhat[0][1]}, ignore_index=True)\n"
     ]
    },
    {
     "name": "stdout",
     "output_type": "stream",
     "text": [
      "21206\n"
     ]
    },
    {
     "name": "stderr",
     "output_type": "stream",
     "text": [
      "/var/folders/x4/m6ss_3nn1vn52_2htr4xj3800000gp/T/ipykernel_14000/3859271102.py:25: FutureWarning: The frame.append method is deprecated and will be removed from pandas in a future version. Use pandas.concat instead.\n",
      "  resultados_df = resultados_df.append({'product_id': i, 'product_id_tn': serie_test, 'y_hat': yhat[0][1]}, ignore_index=True)\n"
     ]
    },
    {
     "name": "stdout",
     "output_type": "stream",
     "text": [
      "21207\n"
     ]
    },
    {
     "name": "stderr",
     "output_type": "stream",
     "text": [
      "/var/folders/x4/m6ss_3nn1vn52_2htr4xj3800000gp/T/ipykernel_14000/3859271102.py:25: FutureWarning: The frame.append method is deprecated and will be removed from pandas in a future version. Use pandas.concat instead.\n",
      "  resultados_df = resultados_df.append({'product_id': i, 'product_id_tn': serie_test, 'y_hat': yhat[0][1]}, ignore_index=True)\n"
     ]
    },
    {
     "name": "stdout",
     "output_type": "stream",
     "text": [
      "21208\n"
     ]
    },
    {
     "name": "stderr",
     "output_type": "stream",
     "text": [
      "/var/folders/x4/m6ss_3nn1vn52_2htr4xj3800000gp/T/ipykernel_14000/3859271102.py:25: FutureWarning: The frame.append method is deprecated and will be removed from pandas in a future version. Use pandas.concat instead.\n",
      "  resultados_df = resultados_df.append({'product_id': i, 'product_id_tn': serie_test, 'y_hat': yhat[0][1]}, ignore_index=True)\n"
     ]
    },
    {
     "name": "stdout",
     "output_type": "stream",
     "text": [
      "21209\n"
     ]
    },
    {
     "name": "stderr",
     "output_type": "stream",
     "text": [
      "/var/folders/x4/m6ss_3nn1vn52_2htr4xj3800000gp/T/ipykernel_14000/3859271102.py:25: FutureWarning: The frame.append method is deprecated and will be removed from pandas in a future version. Use pandas.concat instead.\n",
      "  resultados_df = resultados_df.append({'product_id': i, 'product_id_tn': serie_test, 'y_hat': yhat[0][1]}, ignore_index=True)\n"
     ]
    },
    {
     "name": "stdout",
     "output_type": "stream",
     "text": [
      "21210\n"
     ]
    },
    {
     "name": "stderr",
     "output_type": "stream",
     "text": [
      "/var/folders/x4/m6ss_3nn1vn52_2htr4xj3800000gp/T/ipykernel_14000/3859271102.py:25: FutureWarning: The frame.append method is deprecated and will be removed from pandas in a future version. Use pandas.concat instead.\n",
      "  resultados_df = resultados_df.append({'product_id': i, 'product_id_tn': serie_test, 'y_hat': yhat[0][1]}, ignore_index=True)\n"
     ]
    },
    {
     "name": "stdout",
     "output_type": "stream",
     "text": [
      "21212\n"
     ]
    },
    {
     "name": "stderr",
     "output_type": "stream",
     "text": [
      "/var/folders/x4/m6ss_3nn1vn52_2htr4xj3800000gp/T/ipykernel_14000/3859271102.py:25: FutureWarning: The frame.append method is deprecated and will be removed from pandas in a future version. Use pandas.concat instead.\n",
      "  resultados_df = resultados_df.append({'product_id': i, 'product_id_tn': serie_test, 'y_hat': yhat[0][1]}, ignore_index=True)\n"
     ]
    },
    {
     "name": "stdout",
     "output_type": "stream",
     "text": [
      "21213\n"
     ]
    },
    {
     "name": "stderr",
     "output_type": "stream",
     "text": [
      "/var/folders/x4/m6ss_3nn1vn52_2htr4xj3800000gp/T/ipykernel_14000/3859271102.py:25: FutureWarning: The frame.append method is deprecated and will be removed from pandas in a future version. Use pandas.concat instead.\n",
      "  resultados_df = resultados_df.append({'product_id': i, 'product_id_tn': serie_test, 'y_hat': yhat[0][1]}, ignore_index=True)\n"
     ]
    },
    {
     "name": "stdout",
     "output_type": "stream",
     "text": [
      "21215\n"
     ]
    },
    {
     "name": "stderr",
     "output_type": "stream",
     "text": [
      "/var/folders/x4/m6ss_3nn1vn52_2htr4xj3800000gp/T/ipykernel_14000/3859271102.py:25: FutureWarning: The frame.append method is deprecated and will be removed from pandas in a future version. Use pandas.concat instead.\n",
      "  resultados_df = resultados_df.append({'product_id': i, 'product_id_tn': serie_test, 'y_hat': yhat[0][1]}, ignore_index=True)\n"
     ]
    },
    {
     "name": "stdout",
     "output_type": "stream",
     "text": [
      "21217\n"
     ]
    },
    {
     "name": "stderr",
     "output_type": "stream",
     "text": [
      "/var/folders/x4/m6ss_3nn1vn52_2htr4xj3800000gp/T/ipykernel_14000/3859271102.py:25: FutureWarning: The frame.append method is deprecated and will be removed from pandas in a future version. Use pandas.concat instead.\n",
      "  resultados_df = resultados_df.append({'product_id': i, 'product_id_tn': serie_test, 'y_hat': yhat[0][1]}, ignore_index=True)\n"
     ]
    },
    {
     "name": "stdout",
     "output_type": "stream",
     "text": [
      "21218\n"
     ]
    },
    {
     "name": "stderr",
     "output_type": "stream",
     "text": [
      "/var/folders/x4/m6ss_3nn1vn52_2htr4xj3800000gp/T/ipykernel_14000/3859271102.py:25: FutureWarning: The frame.append method is deprecated and will be removed from pandas in a future version. Use pandas.concat instead.\n",
      "  resultados_df = resultados_df.append({'product_id': i, 'product_id_tn': serie_test, 'y_hat': yhat[0][1]}, ignore_index=True)\n"
     ]
    },
    {
     "name": "stdout",
     "output_type": "stream",
     "text": [
      "21222\n"
     ]
    },
    {
     "name": "stderr",
     "output_type": "stream",
     "text": [
      "/var/folders/x4/m6ss_3nn1vn52_2htr4xj3800000gp/T/ipykernel_14000/3859271102.py:25: FutureWarning: The frame.append method is deprecated and will be removed from pandas in a future version. Use pandas.concat instead.\n",
      "  resultados_df = resultados_df.append({'product_id': i, 'product_id_tn': serie_test, 'y_hat': yhat[0][1]}, ignore_index=True)\n"
     ]
    },
    {
     "name": "stdout",
     "output_type": "stream",
     "text": [
      "21223\n"
     ]
    },
    {
     "name": "stderr",
     "output_type": "stream",
     "text": [
      "/var/folders/x4/m6ss_3nn1vn52_2htr4xj3800000gp/T/ipykernel_14000/3859271102.py:25: FutureWarning: The frame.append method is deprecated and will be removed from pandas in a future version. Use pandas.concat instead.\n",
      "  resultados_df = resultados_df.append({'product_id': i, 'product_id_tn': serie_test, 'y_hat': yhat[0][1]}, ignore_index=True)\n"
     ]
    },
    {
     "name": "stdout",
     "output_type": "stream",
     "text": [
      "21224\n"
     ]
    },
    {
     "name": "stderr",
     "output_type": "stream",
     "text": [
      "/var/folders/x4/m6ss_3nn1vn52_2htr4xj3800000gp/T/ipykernel_14000/3859271102.py:25: FutureWarning: The frame.append method is deprecated and will be removed from pandas in a future version. Use pandas.concat instead.\n",
      "  resultados_df = resultados_df.append({'product_id': i, 'product_id_tn': serie_test, 'y_hat': yhat[0][1]}, ignore_index=True)\n"
     ]
    },
    {
     "name": "stdout",
     "output_type": "stream",
     "text": [
      "21225\n"
     ]
    },
    {
     "name": "stderr",
     "output_type": "stream",
     "text": [
      "/var/folders/x4/m6ss_3nn1vn52_2htr4xj3800000gp/T/ipykernel_14000/3859271102.py:25: FutureWarning: The frame.append method is deprecated and will be removed from pandas in a future version. Use pandas.concat instead.\n",
      "  resultados_df = resultados_df.append({'product_id': i, 'product_id_tn': serie_test, 'y_hat': yhat[0][1]}, ignore_index=True)\n"
     ]
    },
    {
     "name": "stdout",
     "output_type": "stream",
     "text": [
      "21226\n"
     ]
    },
    {
     "name": "stderr",
     "output_type": "stream",
     "text": [
      "/var/folders/x4/m6ss_3nn1vn52_2htr4xj3800000gp/T/ipykernel_14000/3859271102.py:25: FutureWarning: The frame.append method is deprecated and will be removed from pandas in a future version. Use pandas.concat instead.\n",
      "  resultados_df = resultados_df.append({'product_id': i, 'product_id_tn': serie_test, 'y_hat': yhat[0][1]}, ignore_index=True)\n"
     ]
    },
    {
     "name": "stdout",
     "output_type": "stream",
     "text": [
      "21229\n"
     ]
    },
    {
     "name": "stderr",
     "output_type": "stream",
     "text": [
      "/var/folders/x4/m6ss_3nn1vn52_2htr4xj3800000gp/T/ipykernel_14000/3859271102.py:25: FutureWarning: The frame.append method is deprecated and will be removed from pandas in a future version. Use pandas.concat instead.\n",
      "  resultados_df = resultados_df.append({'product_id': i, 'product_id_tn': serie_test, 'y_hat': yhat[0][1]}, ignore_index=True)\n"
     ]
    },
    {
     "name": "stdout",
     "output_type": "stream",
     "text": [
      "21232\n"
     ]
    },
    {
     "name": "stderr",
     "output_type": "stream",
     "text": [
      "/var/folders/x4/m6ss_3nn1vn52_2htr4xj3800000gp/T/ipykernel_14000/3859271102.py:25: FutureWarning: The frame.append method is deprecated and will be removed from pandas in a future version. Use pandas.concat instead.\n",
      "  resultados_df = resultados_df.append({'product_id': i, 'product_id_tn': serie_test, 'y_hat': yhat[0][1]}, ignore_index=True)\n"
     ]
    },
    {
     "name": "stdout",
     "output_type": "stream",
     "text": [
      "21233\n"
     ]
    },
    {
     "name": "stderr",
     "output_type": "stream",
     "text": [
      "/var/folders/x4/m6ss_3nn1vn52_2htr4xj3800000gp/T/ipykernel_14000/3859271102.py:25: FutureWarning: The frame.append method is deprecated and will be removed from pandas in a future version. Use pandas.concat instead.\n",
      "  resultados_df = resultados_df.append({'product_id': i, 'product_id_tn': serie_test, 'y_hat': yhat[0][1]}, ignore_index=True)\n"
     ]
    },
    {
     "name": "stdout",
     "output_type": "stream",
     "text": [
      "21238\n"
     ]
    },
    {
     "name": "stderr",
     "output_type": "stream",
     "text": [
      "/var/folders/x4/m6ss_3nn1vn52_2htr4xj3800000gp/T/ipykernel_14000/3859271102.py:25: FutureWarning: The frame.append method is deprecated and will be removed from pandas in a future version. Use pandas.concat instead.\n",
      "  resultados_df = resultados_df.append({'product_id': i, 'product_id_tn': serie_test, 'y_hat': yhat[0][1]}, ignore_index=True)\n"
     ]
    },
    {
     "name": "stdout",
     "output_type": "stream",
     "text": [
      "21240\n"
     ]
    },
    {
     "name": "stderr",
     "output_type": "stream",
     "text": [
      "/var/folders/x4/m6ss_3nn1vn52_2htr4xj3800000gp/T/ipykernel_14000/3859271102.py:25: FutureWarning: The frame.append method is deprecated and will be removed from pandas in a future version. Use pandas.concat instead.\n",
      "  resultados_df = resultados_df.append({'product_id': i, 'product_id_tn': serie_test, 'y_hat': yhat[0][1]}, ignore_index=True)\n"
     ]
    },
    {
     "name": "stdout",
     "output_type": "stream",
     "text": [
      "21241\n"
     ]
    },
    {
     "name": "stderr",
     "output_type": "stream",
     "text": [
      "/var/folders/x4/m6ss_3nn1vn52_2htr4xj3800000gp/T/ipykernel_14000/3859271102.py:25: FutureWarning: The frame.append method is deprecated and will be removed from pandas in a future version. Use pandas.concat instead.\n",
      "  resultados_df = resultados_df.append({'product_id': i, 'product_id_tn': serie_test, 'y_hat': yhat[0][1]}, ignore_index=True)\n"
     ]
    },
    {
     "name": "stdout",
     "output_type": "stream",
     "text": [
      "21245\n"
     ]
    },
    {
     "name": "stderr",
     "output_type": "stream",
     "text": [
      "/var/folders/x4/m6ss_3nn1vn52_2htr4xj3800000gp/T/ipykernel_14000/3859271102.py:25: FutureWarning: The frame.append method is deprecated and will be removed from pandas in a future version. Use pandas.concat instead.\n",
      "  resultados_df = resultados_df.append({'product_id': i, 'product_id_tn': serie_test, 'y_hat': yhat[0][1]}, ignore_index=True)\n"
     ]
    },
    {
     "name": "stdout",
     "output_type": "stream",
     "text": [
      "21249\n"
     ]
    },
    {
     "name": "stderr",
     "output_type": "stream",
     "text": [
      "/var/folders/x4/m6ss_3nn1vn52_2htr4xj3800000gp/T/ipykernel_14000/3859271102.py:25: FutureWarning: The frame.append method is deprecated and will be removed from pandas in a future version. Use pandas.concat instead.\n",
      "  resultados_df = resultados_df.append({'product_id': i, 'product_id_tn': serie_test, 'y_hat': yhat[0][1]}, ignore_index=True)\n"
     ]
    },
    {
     "name": "stdout",
     "output_type": "stream",
     "text": [
      "21253\n"
     ]
    },
    {
     "name": "stderr",
     "output_type": "stream",
     "text": [
      "/var/folders/x4/m6ss_3nn1vn52_2htr4xj3800000gp/T/ipykernel_14000/3859271102.py:25: FutureWarning: The frame.append method is deprecated and will be removed from pandas in a future version. Use pandas.concat instead.\n",
      "  resultados_df = resultados_df.append({'product_id': i, 'product_id_tn': serie_test, 'y_hat': yhat[0][1]}, ignore_index=True)\n"
     ]
    },
    {
     "name": "stdout",
     "output_type": "stream",
     "text": [
      "21255\n"
     ]
    },
    {
     "name": "stderr",
     "output_type": "stream",
     "text": [
      "/var/folders/x4/m6ss_3nn1vn52_2htr4xj3800000gp/T/ipykernel_14000/3859271102.py:25: FutureWarning: The frame.append method is deprecated and will be removed from pandas in a future version. Use pandas.concat instead.\n",
      "  resultados_df = resultados_df.append({'product_id': i, 'product_id_tn': serie_test, 'y_hat': yhat[0][1]}, ignore_index=True)\n"
     ]
    },
    {
     "name": "stdout",
     "output_type": "stream",
     "text": [
      "21257\n"
     ]
    },
    {
     "name": "stderr",
     "output_type": "stream",
     "text": [
      "/var/folders/x4/m6ss_3nn1vn52_2htr4xj3800000gp/T/ipykernel_14000/3859271102.py:25: FutureWarning: The frame.append method is deprecated and will be removed from pandas in a future version. Use pandas.concat instead.\n",
      "  resultados_df = resultados_df.append({'product_id': i, 'product_id_tn': serie_test, 'y_hat': yhat[0][1]}, ignore_index=True)\n"
     ]
    },
    {
     "name": "stdout",
     "output_type": "stream",
     "text": [
      "21260\n"
     ]
    },
    {
     "name": "stderr",
     "output_type": "stream",
     "text": [
      "/var/folders/x4/m6ss_3nn1vn52_2htr4xj3800000gp/T/ipykernel_14000/3859271102.py:25: FutureWarning: The frame.append method is deprecated and will be removed from pandas in a future version. Use pandas.concat instead.\n",
      "  resultados_df = resultados_df.append({'product_id': i, 'product_id_tn': serie_test, 'y_hat': yhat[0][1]}, ignore_index=True)\n"
     ]
    },
    {
     "name": "stdout",
     "output_type": "stream",
     "text": [
      "21264\n"
     ]
    },
    {
     "name": "stderr",
     "output_type": "stream",
     "text": [
      "/var/folders/x4/m6ss_3nn1vn52_2htr4xj3800000gp/T/ipykernel_14000/3859271102.py:25: FutureWarning: The frame.append method is deprecated and will be removed from pandas in a future version. Use pandas.concat instead.\n",
      "  resultados_df = resultados_df.append({'product_id': i, 'product_id_tn': serie_test, 'y_hat': yhat[0][1]}, ignore_index=True)\n"
     ]
    },
    {
     "name": "stdout",
     "output_type": "stream",
     "text": [
      "21268\n"
     ]
    },
    {
     "name": "stderr",
     "output_type": "stream",
     "text": [
      "/var/folders/x4/m6ss_3nn1vn52_2htr4xj3800000gp/T/ipykernel_14000/3859271102.py:25: FutureWarning: The frame.append method is deprecated and will be removed from pandas in a future version. Use pandas.concat instead.\n",
      "  resultados_df = resultados_df.append({'product_id': i, 'product_id_tn': serie_test, 'y_hat': yhat[0][1]}, ignore_index=True)\n"
     ]
    },
    {
     "name": "stdout",
     "output_type": "stream",
     "text": [
      "21271\n"
     ]
    },
    {
     "name": "stderr",
     "output_type": "stream",
     "text": [
      "/var/folders/x4/m6ss_3nn1vn52_2htr4xj3800000gp/T/ipykernel_14000/3859271102.py:25: FutureWarning: The frame.append method is deprecated and will be removed from pandas in a future version. Use pandas.concat instead.\n",
      "  resultados_df = resultados_df.append({'product_id': i, 'product_id_tn': serie_test, 'y_hat': yhat[0][1]}, ignore_index=True)\n"
     ]
    },
    {
     "name": "stdout",
     "output_type": "stream",
     "text": [
      "21273\n"
     ]
    },
    {
     "name": "stderr",
     "output_type": "stream",
     "text": [
      "/var/folders/x4/m6ss_3nn1vn52_2htr4xj3800000gp/T/ipykernel_14000/3859271102.py:25: FutureWarning: The frame.append method is deprecated and will be removed from pandas in a future version. Use pandas.concat instead.\n",
      "  resultados_df = resultados_df.append({'product_id': i, 'product_id_tn': serie_test, 'y_hat': yhat[0][1]}, ignore_index=True)\n"
     ]
    },
    {
     "name": "stdout",
     "output_type": "stream",
     "text": [
      "21274\n",
      "21281\n",
      "    product_id product_id_tn        y_hat\n",
      "0        20001  [1647.63848]  1563.311279\n",
      "1        20002  [1287.62346]  1302.592896\n",
      "2        20003   [565.33774]   662.217957\n",
      "3        20004   [466.70901]   427.699341\n",
      "4        20005    [624.9988]   404.636292\n",
      "..         ...           ...          ...\n",
      "984      21268         [0.0]    -0.000036\n",
      "985      21271     [0.00185]     0.024233\n",
      "986      21273         [0.0]     0.000422\n",
      "987      21274         [0.0]    -0.000007\n",
      "988      21281         [0.0]    -0.000029\n",
      "\n",
      "[989 rows x 3 columns]\n"
     ]
    },
    {
     "name": "stderr",
     "output_type": "stream",
     "text": [
      "/var/folders/x4/m6ss_3nn1vn52_2htr4xj3800000gp/T/ipykernel_14000/3859271102.py:25: FutureWarning: The frame.append method is deprecated and will be removed from pandas in a future version. Use pandas.concat instead.\n",
      "  resultados_df = resultados_df.append({'product_id': i, 'product_id_tn': serie_test, 'y_hat': yhat[0][1]}, ignore_index=True)\n"
     ]
    }
   ],
   "source": [
    "for i in productos:\n",
    "    df_1 = df[df['product_id']==i]\n",
    "    df_1 = df_1[['periodo', 'product_id_tn']].reset_index()\n",
    "    df_train = df_1[df_1['periodo']<=201902]\n",
    "    df_test =  df_1[df_1['periodo'] == 201904]\n",
    "    serie_train = df_train['product_id_tn'].values\n",
    "    serie_test = df_test['product_id_tn'].values\n",
    "    X, y = split_sequence(serie_train, n_steps_in, n_steps_out)\n",
    "    model = Sequential()\n",
    "    model.add(Dense(64, activation='relu', input_dim=n_steps_in))\n",
    "    model.add(Dense(32, activation='relu'))\n",
    "    model.add(Dense(n_steps_out, activation='linear'))\n",
    "    #model.compile(optimizer='adam', loss='mse')\n",
    "    model.compile(optimizer='adam', loss=custom_loss)\n",
    "    #model.compile(optimizer='adam', loss=custom_loss, run_eagerly=True)\n",
    "    model.fit(X, y, epochs=1000, verbose=0)\n",
    "    q= np.array(y[-1])\n",
    "    p = np.array(X[-1]).T\n",
    "    resulting_array = np.concatenate((p, q))\n",
    "    test = resulting_array[-n_steps_in:]\n",
    "    x_input = test\n",
    "    x_input = x_input.reshape((1, n_steps_in))\n",
    "    yhat = model.predict(x_input, verbose=0)\n",
    "    # Almacenar los resultados en el DataFrame de resultados\n",
    "    resultados_df = resultados_df.append({'product_id': i, 'product_id_tn': serie_test, 'y_hat': yhat[0][1]}, ignore_index=True)\n",
    "    print(i)\n",
    "\n",
    "# Imprimir el DataFrame de resultados\n",
    "print(resultados_df)"
   ]
  },
  {
   "cell_type": "code",
   "execution_count": 26,
   "metadata": {},
   "outputs": [
    {
     "data": {
      "text/html": [
       "<div>\n",
       "<style scoped>\n",
       "    .dataframe tbody tr th:only-of-type {\n",
       "        vertical-align: middle;\n",
       "    }\n",
       "\n",
       "    .dataframe tbody tr th {\n",
       "        vertical-align: top;\n",
       "    }\n",
       "\n",
       "    .dataframe thead th {\n",
       "        text-align: right;\n",
       "    }\n",
       "</style>\n",
       "<table border=\"1\" class=\"dataframe\">\n",
       "  <thead>\n",
       "    <tr style=\"text-align: right;\">\n",
       "      <th></th>\n",
       "      <th>product_id</th>\n",
       "      <th>product_id_tn</th>\n",
       "      <th>y_hat</th>\n",
       "      <th>diff</th>\n",
       "    </tr>\n",
       "  </thead>\n",
       "  <tbody>\n",
       "    <tr>\n",
       "      <th>0</th>\n",
       "      <td>20001</td>\n",
       "      <td>[1647.63848]</td>\n",
       "      <td>1563.311279</td>\n",
       "      <td>[84.32720070312507]</td>\n",
       "    </tr>\n",
       "    <tr>\n",
       "      <th>1</th>\n",
       "      <td>20002</td>\n",
       "      <td>[1287.62346]</td>\n",
       "      <td>1302.592896</td>\n",
       "      <td>[14.969435507812477]</td>\n",
       "    </tr>\n",
       "    <tr>\n",
       "      <th>2</th>\n",
       "      <td>20003</td>\n",
       "      <td>[565.33774]</td>\n",
       "      <td>662.217957</td>\n",
       "      <td>[96.8802165429687]</td>\n",
       "    </tr>\n",
       "    <tr>\n",
       "      <th>3</th>\n",
       "      <td>20004</td>\n",
       "      <td>[466.70901]</td>\n",
       "      <td>427.699341</td>\n",
       "      <td>[39.00966917968748]</td>\n",
       "    </tr>\n",
       "    <tr>\n",
       "      <th>4</th>\n",
       "      <td>20005</td>\n",
       "      <td>[624.9988]</td>\n",
       "      <td>404.636292</td>\n",
       "      <td>[220.3625084960937]</td>\n",
       "    </tr>\n",
       "  </tbody>\n",
       "</table>\n",
       "</div>"
      ],
      "text/plain": [
       "  product_id product_id_tn        y_hat                  diff\n",
       "0      20001  [1647.63848]  1563.311279   [84.32720070312507]\n",
       "1      20002  [1287.62346]  1302.592896  [14.969435507812477]\n",
       "2      20003   [565.33774]   662.217957    [96.8802165429687]\n",
       "3      20004   [466.70901]   427.699341   [39.00966917968748]\n",
       "4      20005    [624.9988]   404.636292   [220.3625084960937]"
      ]
     },
     "execution_count": 26,
     "metadata": {},
     "output_type": "execute_result"
    }
   ],
   "source": [
    "resultados_df['diff']=abs(resultados_df['product_id_tn']-resultados_df['y_hat'])\n",
    "resultados_df.head()"
   ]
  },
  {
   "cell_type": "code",
   "execution_count": 25,
   "metadata": {},
   "outputs": [
    {
     "data": {
      "text/plain": [
       "array([0.30408752])"
      ]
     },
     "execution_count": 25,
     "metadata": {},
     "output_type": "execute_result"
    }
   ],
   "source": [
    "error_rate = resultados_df['diff'].sum()/resultados_df['product_id_tn'].sum()\n",
    "error_rate"
   ]
  }
 ],
 "metadata": {
  "kernelspec": {
   "display_name": "labo3",
   "language": "python",
   "name": "python3"
  },
  "language_info": {
   "codemirror_mode": {
    "name": "ipython",
    "version": 3
   },
   "file_extension": ".py",
   "mimetype": "text/x-python",
   "name": "python",
   "nbconvert_exporter": "python",
   "pygments_lexer": "ipython3",
   "version": "3.10.13"
  }
 },
 "nbformat": 4,
 "nbformat_minor": 2
}
