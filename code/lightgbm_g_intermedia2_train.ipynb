{
 "cells": [
  {
   "cell_type": "code",
   "execution_count": 1,
   "id": "946a34f4-5c14-46cf-a39d-9794031463bb",
   "metadata": {},
   "outputs": [
    {
     "data": {
      "text/html": [
       "<style type='text/css'>\n",
       ".datatable table.frame { margin-bottom: 0; }\n",
       ".datatable table.frame thead { border-bottom: none; }\n",
       ".datatable table.frame tr.coltypes td {  color: #FFFFFF;  line-height: 6px;  padding: 0 0.5em;}\n",
       ".datatable .bool    { background: #DDDD99; }\n",
       ".datatable .object  { background: #565656; }\n",
       ".datatable .int     { background: #5D9E5D; }\n",
       ".datatable .float   { background: #4040CC; }\n",
       ".datatable .str     { background: #CC4040; }\n",
       ".datatable .time    { background: #40CC40; }\n",
       ".datatable .row_index {  background: var(--jp-border-color3);  border-right: 1px solid var(--jp-border-color0);  color: var(--jp-ui-font-color3);  font-size: 9px;}\n",
       ".datatable .frame tbody td { text-align: left; }\n",
       ".datatable .frame tr.coltypes .row_index {  background: var(--jp-border-color0);}\n",
       ".datatable th:nth-child(2) { padding-left: 12px; }\n",
       ".datatable .hellipsis {  color: var(--jp-cell-editor-border-color);}\n",
       ".datatable .vellipsis {  background: var(--jp-layout-color0);  color: var(--jp-cell-editor-border-color);}\n",
       ".datatable .na {  color: var(--jp-cell-editor-border-color);  font-size: 80%;}\n",
       ".datatable .sp {  opacity: 0.25;}\n",
       ".datatable .footer { font-size: 9px; }\n",
       ".datatable .frame_dimensions {  background: var(--jp-border-color3);  border-top: 1px solid var(--jp-border-color0);  color: var(--jp-ui-font-color3);  display: inline-block;  opacity: 0.6;  padding: 1px 10px 1px 5px;}\n",
       ".datatable .frame thead tr.colnames {  background-image: url('data:image/png;base64,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');  background-repeat: repeat-x;  background-size: 14px;  height: 28px;}\n",
       "</style>\n"
      ],
      "text/plain": [
       "<IPython.core.display.HTML object>"
      ]
     },
     "metadata": {},
     "output_type": "display_data"
    }
   ],
   "source": [
    "import os\n",
    "import lightgbm as lgb\n",
    "import pandas as pd\n",
    "import warnings\n",
    "from matplotlib import pyplot as plt\n",
    "import seaborn as sns\n",
    "import numpy as np\n",
    "import datetime\n",
    "import optuna\n",
    "import random\n",
    "from datetime import datetime\n",
    "import pytz\n",
    "\n",
    "# importo los .py\n",
    "import sys\n",
    "sys.path.append(\"auxiliares\")\n",
    "import config\n",
    "import transformaciones\n",
    "import lightgbm_aux\n",
    "import extras\n",
    "\n",
    "pd.options.display.float_format = '{:.2f}'.format\n",
    "pd.set_option('display.max_columns', None)\n",
    "\n",
    "# Ignore all warnings\n",
    "warnings.filterwarnings(\"ignore\")"
   ]
  },
  {
   "cell_type": "code",
   "execution_count": 2,
   "id": "11ac74ea-68b7-46f2-83ba-a06c00f1e25c",
   "metadata": {},
   "outputs": [],
   "source": [
    "####################################################\n",
    "############# Setear segun cada maquina ############\n",
    "#os.chdir(\"C:/Users/herna/labo3_empresa3_repo/\")\n",
    "#os.chdir(\"C:/diego_tools/labo3/\")\n",
    "os.chdir(\"/home/dcastro_contacto/buckets/b1/\")\n",
    "####################################################"
   ]
  },
  {
   "cell_type": "code",
   "execution_count": 3,
   "id": "02238d29-8545-4363-b04a-f73d55495d00",
   "metadata": {},
   "outputs": [],
   "source": [
    "arch_entrada = \"datasets/emp3_sellout_producto_transf_fe.csv\"\n",
    "\n",
    "arch_min_max_prod = \"datasets/emp3_min_max_prod.csv\"\n",
    "arch_mean_std_prod = \"datasets/emp3_mean_std_prod.csv\"\n",
    "\n",
    "carpeta_exp_prefijo = \"exp/intermedia_2/\""
   ]
  },
  {
   "cell_type": "code",
   "execution_count": 4,
   "id": "72951684-4597-4679-aab6-3aee3a36c48d",
   "metadata": {},
   "outputs": [],
   "source": [
    "GLOBAL_PRODUCT_IDS = pd.DataFrame() #aca solamente se define, se setea mas abajo"
   ]
  },
  {
   "cell_type": "code",
   "execution_count": 5,
   "id": "3f7707d4-7de1-4c89-a252-2a87793abda2",
   "metadata": {},
   "outputs": [],
   "source": [
    "############ DEFINO Vector Global de Productos #################\n",
    "def actualizar_global_prods(prod_values, y_vector):\n",
    "    \n",
    "    GLOBAL_PRODUCT_IDS = pd.DataFrame(data={\"product_id\":prod_values, \"tn\":np.array(y_vector)})\n",
    "    GLOBAL_PRODUCT_IDS = GLOBAL_PRODUCT_IDS.merge(df_prod_val1_val2,how=\"left\",on=\"product_id\")\n",
    "    GLOBAL_PRODUCT_IDS = GLOBAL_PRODUCT_IDS.sort_values(by=\"product_id\",ascending=True)\n",
    "    \n",
    "    return GLOBAL_PRODUCT_IDS"
   ]
  },
  {
   "cell_type": "code",
   "execution_count": 6,
   "id": "9572eda9-eafe-44ce-ba30-df6f759499ab",
   "metadata": {},
   "outputs": [],
   "source": [
    "def error_rate_transf(y, y_pred):\n",
    "    y = np.array(y)\n",
    "    y_pred = np.array(y_pred)\n",
    "    \n",
    "    #Destransformo\n",
    "    df_calculo = GLOBAL_PRODUCT_IDS.copy()\n",
    "    df_calculo[\"y\"] = y\n",
    "    df_calculo[\"y_destransformado\"]=df_calculo.apply(lambda row: transformaciones.destransformar_valor(config.TIPO_TRANSF_PARAM,row[\"y\"],row[\"valor_1\"],row[\"valor_2\"]),axis=1)\n",
    "\n",
    "    df_calculo[\"y_pred\"] = y_pred\n",
    "    df_calculo[\"y_pred_destransformado\"]=df_calculo.apply(lambda row: transformaciones.destransformar_valor(config.TIPO_TRANSF_PARAM,row[\"y_pred\"],row[\"valor_1\"],row[\"valor_2\"]),axis=1)\n",
    "\n",
    "    y = df_calculo.y_destransformado\n",
    "    y_pred = df_calculo.y_pred_destransformado\n",
    "    \n",
    "    #Las predicciones negativas se convierten a 0\n",
    "    y_pred = np.maximum(y_pred, 0)\n",
    "    \n",
    "    dif_abs = sum(abs(y - y_pred))\n",
    "    suma_real = sum(y)\n",
    "    return round(100*dif_abs/suma_real,2)"
   ]
  },
  {
   "cell_type": "code",
   "execution_count": 7,
   "id": "547b30c6-7d6b-4c08-872b-6a88a987b237",
   "metadata": {},
   "outputs": [],
   "source": [
    "def lgbm_error_rate(preds, train_data):\n",
    "    labels = train_data.get_label()\n",
    "    ret_val = error_rate_transf(labels,preds)\n",
    "    return 'ER', ret_val, False"
   ]
  },
  {
   "cell_type": "code",
   "execution_count": 8,
   "id": "fcc3b371-807e-45c2-954d-3e720b30ede9",
   "metadata": {},
   "outputs": [],
   "source": [
    "def objective(trial):\n",
    "    print(\"****************\", config.OBJECTIVE_PARAM, \"****************\")\n",
    "    \n",
    "    lgb_params = {\n",
    "        'objective': config.OBJECTIVE_PARAM,\n",
    "        'first_metric_only': True,\n",
    "        'boost_from_average': True,\n",
    "        'max_depth':-1,\n",
    "        'lambda_l1': trial.suggest_uniform('lambda_l1', 0.0,config.L1_UPPER_PARAM),\n",
    "        'lambda_l2': trial.suggest_uniform('lambda_l2', 0.0,config.L2_UPPER_PARAM),\n",
    "        'min_gain_to_split':0.0,\n",
    "        'force_row_wise':True,\n",
    "        'feature_pre_filter':False,\n",
    "        'metric': \"None\",\n",
    "        'max_bin': config.MAX_BIN_PARAM,\n",
    "        'learning_rate': trial.suggest_uniform('learning_rate', config.LEARNING_RATE_LOWER_PARAM,config.LEARNING_RATE_UPPER_PARAM ),\n",
    "        'num_leaves' : trial.suggest_int('num_leaves', config.NUM_LEAVES_LOWER_PARAM, config.NUM_LEAVES_UPPER_PARAM),\n",
    "        'feature_fraction': trial.suggest_uniform('feature_fraction', config.FEATURE_FRACTION_LOWER_PARAM, config.FEATURE_FRACTION_UPPER_PARAM),\n",
    "        'min_data_in_leaf': trial.suggest_int('min_data_in_leaf', config.MIN_DATA_IN_LEAF_LOWER_PARAM, config.MIN_DATA_IN_LEAF_UPPER_PARAM),\n",
    "        #'bagging_freq':trial.suggest_int('bagging_freq', 1, 10),\n",
    "        #'bagging_fraction': trial.suggest_categorical('bagging_fraction',[0.7,0.75,0.8,0.85,0.9,0.95]),\n",
    "        #'extra_trees':trial.suggest_categorical('extra_trees',[True,False]),\n",
    "        'verbose':-100,\n",
    "        'num_threads':-1\n",
    "    }\n",
    "    \n",
    "    lgb_params_num_boost_round = 10000  #un numero muy grande, lo limita early_stopping_rounds\n",
    "    lgb_params_early_stopping_rounds = int(50 + 5/lgb_params['learning_rate']) #  #el parametro discolo, que depende de otro\n",
    "    \n",
    "    lgb_train = lgb.Dataset(data=X_train, label=y_train, feature_name=cols_entren)\n",
    "    lgb_validate = lgb.Dataset(data=X_validate, label=y_validate, reference=lgb_train, feature_name=cols_entren)\n",
    "    \n",
    "    #Train using selected parameters\n",
    "    model = lgb.train(lgb_params, lgb_train,\n",
    "                  valid_sets=[lgb_validate],\n",
    "                  num_boost_round=lgb_params_num_boost_round,\n",
    "                  early_stopping_rounds=lgb_params_early_stopping_rounds,\n",
    "                  feval=lgbm_error_rate,\n",
    "                  verbose_eval=100)\n",
    "    \n",
    "    y_pred_validate =model.predict(X_validate) #Create predictions on test set\n",
    "    er_validate = error_rate_transf(y_validate,y_pred_validate)\n",
    "    \n",
    "    GLOBAL_PARAMS_ITER.append(lgb_params)\n",
    "    GLOBAL_BEST_IT_ITER.append(model.best_iteration)\n",
    "    GLOBAL_ER_VALIDATE_ITER.append(er_validate)\n",
    "    GLOBAL_MODEL_ITER.append(model)\n",
    "    \n",
    "    return er_validate"
   ]
  },
  {
   "cell_type": "code",
   "execution_count": 9,
   "id": "53ccdb1f-2f93-4bb9-9f57-9bdf50c4251f",
   "metadata": {},
   "outputs": [],
   "source": [
    "##############################################"
   ]
  },
  {
   "cell_type": "code",
   "execution_count": 10,
   "id": "71aa4bfe-d204-451c-85fe-ae97ee3d0248",
   "metadata": {},
   "outputs": [
    {
     "name": "stdout",
     "output_type": "stream",
     "text": [
      "<class 'pandas.core.frame.DataFrame'>\n",
      "RangeIndex: 34707 entries, 0 to 34706\n",
      "Columns: 446 entries, product_id to cat3_tn_bollinger_band_lower_15\n",
      "dtypes: bool(1), float64(437), int64(5), object(3)\n",
      "memory usage: 117.9+ MB\n"
     ]
    }
   ],
   "source": [
    "df_sellout = pd.read_csv(arch_entrada)\n",
    "df_sellout.info()"
   ]
  },
  {
   "cell_type": "code",
   "execution_count": 11,
   "id": "eada627a-f5e2-4e9d-acba-39638a54cbbb",
   "metadata": {},
   "outputs": [
    {
     "name": "stdout",
     "output_type": "stream",
     "text": [
      "<class 'pandas.core.frame.DataFrame'>\n",
      "RangeIndex: 780 entries, 0 to 779\n",
      "Data columns (total 1 columns):\n",
      " #   Column      Non-Null Count  Dtype\n",
      "---  ------      --------------  -----\n",
      " 0   product_id  780 non-null    int64\n",
      "dtypes: int64(1)\n",
      "memory usage: 6.2 KB\n"
     ]
    }
   ],
   "source": [
    "df_prods_prediccion_entren=pd.read_csv(config.ARCH_PRODUCTOS_PREDICCION_ENTRENAMIENTO)\n",
    "df_prods_prediccion_entren.info()"
   ]
  },
  {
   "cell_type": "code",
   "execution_count": 12,
   "id": "410062a1-3b44-4d5a-8a2b-5832f25f669e",
   "metadata": {},
   "outputs": [],
   "source": [
    "### Categoricas\n",
    "df_sellout = extras.convertir_categoricas_prod(df_sellout)"
   ]
  },
  {
   "cell_type": "code",
   "execution_count": 13,
   "id": "5f866703-ece7-4986-93aa-84b957781f3f",
   "metadata": {},
   "outputs": [
    {
     "name": "stdout",
     "output_type": "stream",
     "text": [
      "Periodos entrenar: [201701 201702 201703 201704 201705 201706 201707 201708 201709 201710\n",
      " 201711 201712 201801 201802 201803 201804 201805 201806 201807 201808\n",
      " 201809 201810 201811 201812 201901 201902 201903 201904 201905]\n",
      "Periodos validar: [201907]\n",
      "product_id a validar: 756\n"
     ]
    }
   ],
   "source": [
    "### Split de datasets\n",
    "df_train = df_sellout[(df_sellout.periodo <= config.TRAIN_PERIODO_LIMITE_PARAM) & (df_sellout.periodo >= config.PERIODO_INICIO_PARAM)]\n",
    "df_validate = df_sellout[(df_sellout.product_id.isin(df_prods_prediccion_entren.product_id)) & (df_sellout.periodo == config.VALIDATE_PERIODO_PARAM)]\n",
    "\n",
    "print(\"Periodos entrenar:\",df_train.periodo.unique())\n",
    "print(\"Periodos validar:\",df_validate.periodo.unique())\n",
    "\n",
    "df_validate = df_validate.sort_values(by=\"product_id\",ascending=True)\n",
    "print(\"product_id a validar:\", len(df_validate))"
   ]
  },
  {
   "cell_type": "code",
   "execution_count": 14,
   "id": "7f5f95f4-44a3-46b9-9683-df39935b83b7",
   "metadata": {
    "scrolled": true
   },
   "outputs": [
    {
     "name": "stdout",
     "output_type": "stream",
     "text": [
      "X_train: (27519, 444)\n",
      "y_train: (27519,)\n",
      "\n",
      "X_validate: (756, 444)\n",
      "y_validate: (756,)\n"
     ]
    }
   ],
   "source": [
    "### Armado variables entrenamiento\n",
    "cols_remover_entren = [\"tn_mas_2\",\"periodo\"]\n",
    "\n",
    "# Train - Validate\n",
    "X_train = df_train.drop(columns=cols_remover_entren, axis=1)\n",
    "X_validate = df_validate.drop(columns=cols_remover_entren, axis=1)\n",
    "\n",
    "y_train = df_train.tn_mas_2\n",
    "y_validate = df_validate.tn_mas_2\n",
    "\n",
    "print(\"X_train:\", X_train.shape)\n",
    "print(\"y_train:\", y_train.shape)\n",
    "\n",
    "print(\"\\nX_validate:\", X_validate.shape)\n",
    "print(\"y_validate:\", y_validate.shape)\n",
    "\n",
    "cols_entren = X_train.columns.tolist()"
   ]
  },
  {
   "cell_type": "code",
   "execution_count": 15,
   "id": "4aa16c23-93fb-4b84-a6e7-32fedeeea9a9",
   "metadata": {},
   "outputs": [
    {
     "name": "stdout",
     "output_type": "stream",
     "text": [
      "Estandarizacion\n"
     ]
    }
   ],
   "source": [
    "# Dataframes auxiliares\n",
    "if config.TIPO_TRANSF_PARAM == \"normalizacion\":\n",
    "    print(\"Normalizacion\")\n",
    "    df_prod_val1_val2 = pd.read_csv(arch_min_max_prod)\n",
    "\n",
    "elif config.TIPO_TRANSF_PARAM == \"estandarizacion\":\n",
    "    print(\"Estandarizacion\")\n",
    "    df_prod_val1_val2 = pd.read_csv(arch_mean_std_prod)"
   ]
  },
  {
   "cell_type": "code",
   "execution_count": 16,
   "id": "f77112b6-dc5c-4227-ac0f-0a4e3bab3943",
   "metadata": {},
   "outputs": [
    {
     "name": "stderr",
     "output_type": "stream",
     "text": [
      "[I 2023-12-17 19:54:34,827] A new study created in memory with name: no-name-bf49e037-669b-468c-a932-20ea55e35fab\n"
     ]
    },
    {
     "name": "stdout",
     "output_type": "stream",
     "text": [
      "**************** regression ****************\n",
      "Training until validation scores don't improve for 241 rounds\n",
      "[100]\tvalid_0's ER: 31.58\n",
      "[200]\tvalid_0's ER: 31.36\n",
      "[300]\tvalid_0's ER: 31.25\n",
      "[400]\tvalid_0's ER: 31.25\n"
     ]
    },
    {
     "name": "stderr",
     "output_type": "stream",
     "text": [
      "[I 2023-12-17 19:54:55,926] Trial 0 finished with value: 31.25 and parameters: {'lambda_l1': 479.9891880861743, 'lambda_l2': 547.5210333631998, 'learning_rate': 0.02604318254949487, 'num_leaves': 1022, 'feature_fraction': 0.6983727046721193, 'min_data_in_leaf': 1123}. Best is trial 0 with value: 31.25.\n"
     ]
    },
    {
     "name": "stdout",
     "output_type": "stream",
     "text": [
      "Early stopping, best iteration is:\n",
      "[257]\tvalid_0's ER: 31.25\n",
      "Evaluated only: ER\n",
      "**************** regression ****************\n",
      "Training until validation scores don't improve for 71 rounds\n"
     ]
    },
    {
     "name": "stderr",
     "output_type": "stream",
     "text": [
      "[I 2023-12-17 19:55:00,032] Trial 1 finished with value: 30.64 and parameters: {'lambda_l1': 818.0415172265261, 'lambda_l2': 441.52574661904276, 'learning_rate': 0.23617894204017234, 'num_leaves': 62, 'feature_fraction': 0.7904855383177014, 'min_data_in_leaf': 6138}. Best is trial 1 with value: 30.64.\n"
     ]
    },
    {
     "name": "stdout",
     "output_type": "stream",
     "text": [
      "Early stopping, best iteration is:\n",
      "[23]\tvalid_0's ER: 30.64\n",
      "Evaluated only: ER\n",
      "**************** regression ****************\n",
      "Training until validation scores don't improve for 144 rounds\n",
      "[100]\tvalid_0's ER: 31.04\n",
      "[200]\tvalid_0's ER: 30.96\n",
      "[300]\tvalid_0's ER: 30.95\n"
     ]
    },
    {
     "name": "stderr",
     "output_type": "stream",
     "text": [
      "[I 2023-12-17 19:55:14,146] Trial 2 finished with value: 30.95 and parameters: {'lambda_l1': 447.8960040652884, 'lambda_l2': 703.685239831143, 'learning_rate': 0.05300128911788475, 'num_leaves': 959, 'feature_fraction': 0.6871238412037552, 'min_data_in_leaf': 3819}. Best is trial 1 with value: 30.64.\n"
     ]
    },
    {
     "name": "stdout",
     "output_type": "stream",
     "text": [
      "Early stopping, best iteration is:\n",
      "[204]\tvalid_0's ER: 30.95\n",
      "Evaluated only: ER\n",
      "**************** regression ****************\n",
      "Training until validation scores don't improve for 76 rounds\n",
      "[100]\tvalid_0's ER: 30.64\n",
      "[200]\tvalid_0's ER: 30.61\n"
     ]
    },
    {
     "name": "stderr",
     "output_type": "stream",
     "text": [
      "[I 2023-12-17 19:55:21,392] Trial 3 finished with value: 30.6 and parameters: {'lambda_l1': 400.89227067014457, 'lambda_l2': 3.7978158128887385, 'learning_rate': 0.1906759432861286, 'num_leaves': 725, 'feature_fraction': 0.5321104881357607, 'min_data_in_leaf': 7862}. Best is trial 3 with value: 30.6.\n"
     ]
    },
    {
     "name": "stdout",
     "output_type": "stream",
     "text": [
      "Early stopping, best iteration is:\n",
      "[132]\tvalid_0's ER: 30.6\n",
      "Evaluated only: ER\n",
      "**************** regression ****************\n",
      "Training until validation scores don't improve for 69 rounds\n"
     ]
    },
    {
     "name": "stderr",
     "output_type": "stream",
     "text": [
      "[I 2023-12-17 19:55:24,456] Trial 4 finished with value: 32.42 and parameters: {'lambda_l1': 418.7141816104841, 'lambda_l2': 987.1997946771556, 'learning_rate': 0.25102711435040465, 'num_leaves': 655, 'feature_fraction': 0.40374200006697153, 'min_data_in_leaf': 1125}. Best is trial 3 with value: 30.6.\n"
     ]
    },
    {
     "name": "stdout",
     "output_type": "stream",
     "text": [
      "Early stopping, best iteration is:\n",
      "[1]\tvalid_0's ER: 32.42\n",
      "Evaluated only: ER\n",
      "**************** regression ****************\n",
      "Training until validation scores don't improve for 71 rounds\n"
     ]
    },
    {
     "name": "stderr",
     "output_type": "stream",
     "text": [
      "[I 2023-12-17 19:55:28,298] Trial 5 finished with value: 31.77 and parameters: {'lambda_l1': 499.51065752987256, 'lambda_l2': 426.18831024725046, 'learning_rate': 0.2296887056763004, 'num_leaves': 612, 'feature_fraction': 0.34109170033589553, 'min_data_in_leaf': 289}. Best is trial 3 with value: 30.6.\n"
     ]
    },
    {
     "name": "stdout",
     "output_type": "stream",
     "text": [
      "[100]\tvalid_0's ER: 31.77\n",
      "Early stopping, best iteration is:\n",
      "[30]\tvalid_0's ER: 31.77\n",
      "Evaluated only: ER\n",
      "**************** regression ****************\n",
      "Training until validation scores don't improve for 261 rounds\n",
      "[100]\tvalid_0's ER: 31.11\n",
      "[200]\tvalid_0's ER: 30.88\n",
      "[300]\tvalid_0's ER: 30.96\n",
      "[400]\tvalid_0's ER: 30.93\n"
     ]
    },
    {
     "name": "stderr",
     "output_type": "stream",
     "text": [
      "[I 2023-12-17 19:55:46,876] Trial 6 finished with value: 30.84 and parameters: {'lambda_l1': 94.90900658692914, 'lambda_l2': 721.634466619868, 'learning_rate': 0.023670328101494033, 'num_leaves': 186, 'feature_fraction': 0.8049136450365177, 'min_data_in_leaf': 3655}. Best is trial 3 with value: 30.6.\n"
     ]
    },
    {
     "name": "stdout",
     "output_type": "stream",
     "text": [
      "Early stopping, best iteration is:\n",
      "[180]\tvalid_0's ER: 30.84\n",
      "Evaluated only: ER\n",
      "**************** regression ****************\n",
      "Training until validation scores don't improve for 257 rounds\n",
      "[100]\tvalid_0's ER: 30.99\n",
      "[200]\tvalid_0's ER: 30.83\n",
      "[300]\tvalid_0's ER: 30.72\n",
      "[400]\tvalid_0's ER: 30.61\n",
      "[500]\tvalid_0's ER: 30.58\n",
      "[600]\tvalid_0's ER: 30.58\n",
      "[700]\tvalid_0's ER: 30.57\n",
      "[800]\tvalid_0's ER: 30.57\n",
      "[900]\tvalid_0's ER: 30.58\n"
     ]
    },
    {
     "name": "stderr",
     "output_type": "stream",
     "text": [
      "[I 2023-12-17 19:56:21,378] Trial 7 finished with value: 30.56 and parameters: {'lambda_l1': 310.7710824572394, 'lambda_l2': 206.82698325507985, 'learning_rate': 0.024076192037024054, 'num_leaves': 467, 'feature_fraction': 0.7130658713868103, 'min_data_in_leaf': 6327}. Best is trial 7 with value: 30.56.\n"
     ]
    },
    {
     "name": "stdout",
     "output_type": "stream",
     "text": [
      "Early stopping, best iteration is:\n",
      "[656]\tvalid_0's ER: 30.56\n",
      "Evaluated only: ER\n",
      "**************** regression ****************\n",
      "Training until validation scores don't improve for 69 rounds\n"
     ]
    },
    {
     "name": "stderr",
     "output_type": "stream",
     "text": [
      "[I 2023-12-17 19:56:24,977] Trial 8 finished with value: 31.03 and parameters: {'lambda_l1': 656.8355492377026, 'lambda_l2': 589.7470593918167, 'learning_rate': 0.2503217233155154, 'num_leaves': 451, 'feature_fraction': 0.5230588269342689, 'min_data_in_leaf': 4472}. Best is trial 7 with value: 30.56.\n"
     ]
    },
    {
     "name": "stdout",
     "output_type": "stream",
     "text": [
      "Early stopping, best iteration is:\n",
      "[17]\tvalid_0's ER: 31.03\n",
      "Evaluated only: ER\n",
      "**************** regression ****************\n",
      "Training until validation scores don't improve for 126 rounds\n",
      "[100]\tvalid_0's ER: 30.9\n",
      "[200]\tvalid_0's ER: 30.95\n"
     ]
    },
    {
     "name": "stderr",
     "output_type": "stream",
     "text": [
      "[I 2023-12-17 19:56:35,142] Trial 9 finished with value: 30.83 and parameters: {'lambda_l1': 177.6416779372586, 'lambda_l2': 335.70649602240144, 'learning_rate': 0.06548353978578753, 'num_leaves': 328, 'feature_fraction': 0.882718776379716, 'min_data_in_leaf': 4328}. Best is trial 7 with value: 30.56.\n"
     ]
    },
    {
     "name": "stdout",
     "output_type": "stream",
     "text": [
      "Early stopping, best iteration is:\n",
      "[113]\tvalid_0's ER: 30.83\n",
      "Evaluated only: ER\n",
      "**************** regression ****************\n",
      "Training until validation scores don't improve for 86 rounds\n",
      "[100]\tvalid_0's ER: 31.46\n"
     ]
    },
    {
     "name": "stderr",
     "output_type": "stream",
     "text": [
      "[I 2023-12-17 19:56:39,491] Trial 10 finished with value: 31.37 and parameters: {'lambda_l1': 967.1351928307287, 'lambda_l2': 165.62456103634432, 'learning_rate': 0.13752556959059975, 'num_leaves': 386, 'feature_fraction': 0.21097222072721256, 'min_data_in_leaf': 7732}. Best is trial 7 with value: 30.56.\n"
     ]
    },
    {
     "name": "stdout",
     "output_type": "stream",
     "text": [
      "Early stopping, best iteration is:\n",
      "[43]\tvalid_0's ER: 31.37\n",
      "Evaluated only: ER\n",
      "**************** regression ****************\n",
      "Training until validation scores don't improve for 84 rounds\n",
      "[100]\tvalid_0's ER: 30.67\n",
      "[200]\tvalid_0's ER: 30.59\n"
     ]
    },
    {
     "name": "stderr",
     "output_type": "stream",
     "text": [
      "[I 2023-12-17 19:56:47,168] Trial 11 finished with value: 30.51 and parameters: {'lambda_l1': 223.5719435327174, 'lambda_l2': 4.748717271465864, 'learning_rate': 0.14644022991648287, 'num_leaves': 781, 'feature_fraction': 0.5701121350620064, 'min_data_in_leaf': 7818}. Best is trial 11 with value: 30.51.\n"
     ]
    },
    {
     "name": "stdout",
     "output_type": "stream",
     "text": [
      "Early stopping, best iteration is:\n",
      "[132]\tvalid_0's ER: 30.51\n",
      "Evaluated only: ER\n",
      "**************** regression ****************\n",
      "Training until validation scores don't improve for 92 rounds\n",
      "[100]\tvalid_0's ER: 30.39\n"
     ]
    },
    {
     "name": "stderr",
     "output_type": "stream",
     "text": [
      "[I 2023-12-17 19:56:54,094] Trial 12 finished with value: 30.32 and parameters: {'lambda_l1': 256.80555381992224, 'lambda_l2': 20.447731974621526, 'learning_rate': 0.11629041994971251, 'num_leaves': 822, 'feature_fraction': 0.9972046282320994, 'min_data_in_leaf': 6301}. Best is trial 12 with value: 30.32.\n"
     ]
    },
    {
     "name": "stdout",
     "output_type": "stream",
     "text": [
      "Early stopping, best iteration is:\n",
      "[72]\tvalid_0's ER: 30.32\n",
      "Evaluated only: ER\n",
      "**************** regression ****************\n",
      "Training until validation scores don't improve for 89 rounds\n",
      "[100]\tvalid_0's ER: 30.66\n"
     ]
    },
    {
     "name": "stderr",
     "output_type": "stream",
     "text": [
      "[I 2023-12-17 19:56:59,852] Trial 13 finished with value: 30.57 and parameters: {'lambda_l1': 214.11766589122976, 'lambda_l2': 0.5376459209113698, 'learning_rate': 0.12576081859993501, 'num_leaves': 834, 'feature_fraction': 0.9699040648439889, 'min_data_in_leaf': 6216}. Best is trial 12 with value: 30.32.\n"
     ]
    },
    {
     "name": "stdout",
     "output_type": "stream",
     "text": [
      "Early stopping, best iteration is:\n",
      "[42]\tvalid_0's ER: 30.57\n",
      "Evaluated only: ER\n",
      "**************** regression ****************\n",
      "Training until validation scores don't improve for 96 rounds\n",
      "[100]\tvalid_0's ER: 30.68\n"
     ]
    },
    {
     "name": "stderr",
     "output_type": "stream",
     "text": [
      "[I 2023-12-17 19:57:06,134] Trial 14 finished with value: 30.45 and parameters: {'lambda_l1': 19.753645685328422, 'lambda_l2': 134.29344075218864, 'learning_rate': 0.1071791995330407, 'num_leaves': 843, 'feature_fraction': 0.9909212190700842, 'min_data_in_leaf': 6979}. Best is trial 12 with value: 30.32.\n"
     ]
    },
    {
     "name": "stdout",
     "output_type": "stream",
     "text": [
      "Early stopping, best iteration is:\n",
      "[53]\tvalid_0's ER: 30.45\n",
      "Evaluated only: ER\n",
      "**************** regression ****************\n",
      "Training until validation scores don't improve for 98 rounds\n",
      "[100]\tvalid_0's ER: 30.85\n"
     ]
    },
    {
     "name": "stderr",
     "output_type": "stream",
     "text": [
      "[I 2023-12-17 19:57:12,904] Trial 15 finished with value: 30.6 and parameters: {'lambda_l1': 39.998044382819984, 'lambda_l2': 175.28756445506784, 'learning_rate': 0.10298304898041899, 'num_leaves': 877, 'feature_fraction': 0.9947732407411094, 'min_data_in_leaf': 5379}. Best is trial 12 with value: 30.32.\n"
     ]
    },
    {
     "name": "stdout",
     "output_type": "stream",
     "text": [
      "Early stopping, best iteration is:\n",
      "[56]\tvalid_0's ER: 30.6\n",
      "Evaluated only: ER\n",
      "**************** regression ****************\n",
      "Training until validation scores don't improve for 103 rounds\n",
      "[100]\tvalid_0's ER: 30.71\n"
     ]
    },
    {
     "name": "stderr",
     "output_type": "stream",
     "text": [
      "[I 2023-12-17 19:57:20,287] Trial 16 finished with value: 30.39 and parameters: {'lambda_l1': 1.2247278366691603, 'lambda_l2': 301.838757235503, 'learning_rate': 0.09263882354121936, 'num_leaves': 614, 'feature_fraction': 0.9052040322766028, 'min_data_in_leaf': 6559}. Best is trial 12 with value: 30.32.\n"
     ]
    },
    {
     "name": "stdout",
     "output_type": "stream",
     "text": [
      "Early stopping, best iteration is:\n",
      "[73]\tvalid_0's ER: 30.39\n",
      "Evaluated only: ER\n",
      "**************** regression ****************\n",
      "Training until validation scores don't improve for 78 rounds\n",
      "[100]\tvalid_0's ER: 30.42\n"
     ]
    },
    {
     "name": "stderr",
     "output_type": "stream",
     "text": [
      "[I 2023-12-17 19:57:26,436] Trial 17 finished with value: 30.37 and parameters: {'lambda_l1': 129.4304705258294, 'lambda_l2': 295.8785213323486, 'learning_rate': 0.1745617574804926, 'num_leaves': 597, 'feature_fraction': 0.8915715844867078, 'min_data_in_leaf': 5303}. Best is trial 12 with value: 30.32.\n"
     ]
    },
    {
     "name": "stdout",
     "output_type": "stream",
     "text": [
      "Early stopping, best iteration is:\n",
      "[60]\tvalid_0's ER: 30.37\n",
      "Evaluated only: ER\n",
      "**************** regression ****************\n",
      "Training until validation scores don't improve for 79 rounds\n",
      "[100]\tvalid_0's ER: 30.48\n"
     ]
    },
    {
     "name": "stderr",
     "output_type": "stream",
     "text": [
      "[I 2023-12-17 19:57:32,631] Trial 18 finished with value: 30.48 and parameters: {'lambda_l1': 310.70145745285436, 'lambda_l2': 282.794904860515, 'learning_rate': 0.16971059892223664, 'num_leaves': 563, 'feature_fraction': 0.8684069741447613, 'min_data_in_leaf': 2880}. Best is trial 12 with value: 30.32.\n"
     ]
    },
    {
     "name": "stdout",
     "output_type": "stream",
     "text": [
      "Early stopping, best iteration is:\n",
      "[65]\tvalid_0's ER: 30.48\n",
      "Evaluated only: ER\n",
      "**************** regression ****************\n",
      "Training until validation scores don't improve for 76 rounds\n",
      "[100]\tvalid_0's ER: 31.01\n"
     ]
    },
    {
     "name": "stderr",
     "output_type": "stream",
     "text": [
      "[I 2023-12-17 19:57:39,102] Trial 19 finished with value: 30.65 and parameters: {'lambda_l1': 121.97241598394083, 'lambda_l2': 137.1505681088033, 'learning_rate': 0.19212200258526574, 'num_leaves': 713, 'feature_fraction': 0.9233014454543588, 'min_data_in_leaf': 5487}. Best is trial 12 with value: 30.32.\n"
     ]
    },
    {
     "name": "stdout",
     "output_type": "stream",
     "text": [
      "Early stopping, best iteration is:\n",
      "[71]\tvalid_0's ER: 30.65\n",
      "Evaluated only: ER\n",
      "**************** regression ****************\n",
      "Training until validation scores don't improve for 68 rounds\n"
     ]
    },
    {
     "name": "stderr",
     "output_type": "stream",
     "text": [
      "[I 2023-12-17 19:57:44,081] Trial 20 finished with value: 30.24 and parameters: {'lambda_l1': 281.36393168420807, 'lambda_l2': 369.5329780558059, 'learning_rate': 0.2745931209062109, 'num_leaves': 295, 'feature_fraction': 0.8508279862569302, 'min_data_in_leaf': 5437}. Best is trial 20 with value: 30.24.\n"
     ]
    },
    {
     "name": "stdout",
     "output_type": "stream",
     "text": [
      "[100]\tvalid_0's ER: 30.31\n",
      "Early stopping, best iteration is:\n",
      "[35]\tvalid_0's ER: 30.24\n",
      "Evaluated only: ER\n",
      "**************** regression ****************\n",
      "Training until validation scores don't improve for 66 rounds\n",
      "[100]\tvalid_0's ER: 30.62\n"
     ]
    },
    {
     "name": "stderr",
     "output_type": "stream",
     "text": [
      "[I 2023-12-17 19:57:49,351] Trial 21 finished with value: 30.62 and parameters: {'lambda_l1': 303.2069637228721, 'lambda_l2': 378.55137181654106, 'learning_rate': 0.29888897421180116, 'num_leaves': 308, 'feature_fraction': 0.8001657389505739, 'min_data_in_leaf': 5182}. Best is trial 20 with value: 30.24.\n"
     ]
    },
    {
     "name": "stdout",
     "output_type": "stream",
     "text": [
      "Early stopping, best iteration is:\n",
      "[60]\tvalid_0's ER: 30.62\n",
      "Evaluated only: ER\n",
      "**************** regression ****************\n",
      "Training until validation scores don't improve for 79 rounds\n",
      "[100]\tvalid_0's ER: 31.07\n"
     ]
    },
    {
     "name": "stderr",
     "output_type": "stream",
     "text": [
      "[I 2023-12-17 19:57:55,046] Trial 22 finished with value: 30.74 and parameters: {'lambda_l1': 139.8297762348031, 'lambda_l2': 261.7192059053577, 'learning_rate': 0.16944555282439816, 'num_leaves': 214, 'feature_fraction': 0.9246965477645126, 'min_data_in_leaf': 4849}. Best is trial 20 with value: 30.24.\n"
     ]
    },
    {
     "name": "stdout",
     "output_type": "stream",
     "text": [
      "Early stopping, best iteration is:\n",
      "[46]\tvalid_0's ER: 30.74\n",
      "Evaluated only: ER\n",
      "**************** regression ****************\n",
      "Training until validation scores don't improve for 66 rounds\n"
     ]
    },
    {
     "name": "stderr",
     "output_type": "stream",
     "text": [
      "[I 2023-12-17 19:57:59,695] Trial 23 finished with value: 30.08 and parameters: {'lambda_l1': 242.26624269552127, 'lambda_l2': 88.60530170499516, 'learning_rate': 0.2972561885475407, 'num_leaves': 33, 'feature_fraction': 0.8470865595383625, 'min_data_in_leaf': 2719}. Best is trial 23 with value: 30.08.\n"
     ]
    },
    {
     "name": "stdout",
     "output_type": "stream",
     "text": [
      "[100]\tvalid_0's ER: 30.16\n",
      "Early stopping, best iteration is:\n",
      "[36]\tvalid_0's ER: 30.08\n",
      "Evaluated only: ER\n",
      "**************** regression ****************\n",
      "Training until validation scores don't improve for 66 rounds\n",
      "[100]\tvalid_0's ER: 30.19\n"
     ]
    },
    {
     "name": "stderr",
     "output_type": "stream",
     "text": [
      "[I 2023-12-17 19:58:04,551] Trial 24 finished with value: 30.19 and parameters: {'lambda_l1': 270.2166770352723, 'lambda_l2': 98.50134681757197, 'learning_rate': 0.29867909419841515, 'num_leaves': 48, 'feature_fraction': 0.8348181588048513, 'min_data_in_leaf': 3150}. Best is trial 23 with value: 30.08.\n"
     ]
    },
    {
     "name": "stdout",
     "output_type": "stream",
     "text": [
      "Early stopping, best iteration is:\n",
      "[45]\tvalid_0's ER: 30.19\n",
      "Evaluated only: ER\n",
      "**************** regression ****************\n",
      "Training until validation scores don't improve for 67 rounds\n"
     ]
    },
    {
     "name": "stderr",
     "output_type": "stream",
     "text": [
      "[I 2023-12-17 19:58:08,979] Trial 25 finished with value: 30.85 and parameters: {'lambda_l1': 348.08375842878377, 'lambda_l2': 125.77619361403274, 'learning_rate': 0.2940275408840343, 'num_leaves': 16, 'feature_fraction': 0.8241763014148896, 'min_data_in_leaf': 2757}. Best is trial 23 with value: 30.08.\n"
     ]
    },
    {
     "name": "stdout",
     "output_type": "stream",
     "text": [
      "Early stopping, best iteration is:\n",
      "[32]\tvalid_0's ER: 30.85\n",
      "Evaluated only: ER\n",
      "**************** regression ****************\n",
      "Training until validation scores don't improve for 67 rounds\n"
     ]
    },
    {
     "name": "stderr",
     "output_type": "stream",
     "text": [
      "[I 2023-12-17 19:58:13,012] Trial 26 finished with value: 30.74 and parameters: {'lambda_l1': 239.22346227705725, 'lambda_l2': 80.54430696636082, 'learning_rate': 0.2782441289190727, 'num_leaves': 115, 'feature_fraction': 0.7369753849217142, 'min_data_in_leaf': 2683}. Best is trial 23 with value: 30.08.\n"
     ]
    },
    {
     "name": "stdout",
     "output_type": "stream",
     "text": [
      "Early stopping, best iteration is:\n",
      "[15]\tvalid_0's ER: 30.74\n",
      "Evaluated only: ER\n",
      "**************** regression ****************\n",
      "Training until validation scores don't improve for 68 rounds\n"
     ]
    },
    {
     "name": "stderr",
     "output_type": "stream",
     "text": [
      "[I 2023-12-17 19:58:16,954] Trial 27 finished with value: 31.05 and parameters: {'lambda_l1': 388.5928812266818, 'lambda_l2': 226.03051325161275, 'learning_rate': 0.27678021097263383, 'num_leaves': 171, 'feature_fraction': 0.6552582671558564, 'min_data_in_leaf': 1743}. Best is trial 23 with value: 30.08.\n"
     ]
    },
    {
     "name": "stdout",
     "output_type": "stream",
     "text": [
      "Early stopping, best iteration is:\n",
      "[15]\tvalid_0's ER: 31.05\n",
      "Evaluated only: ER\n",
      "**************** regression ****************\n",
      "Training until validation scores don't improve for 68 rounds\n"
     ]
    },
    {
     "name": "stderr",
     "output_type": "stream",
     "text": [
      "[I 2023-12-17 19:58:21,089] Trial 28 finished with value: 30.5 and parameters: {'lambda_l1': 560.8855920490992, 'lambda_l2': 76.97754282996755, 'learning_rate': 0.27615666143329143, 'num_leaves': 265, 'feature_fraction': 0.7447211290092361, 'min_data_in_leaf': 3320}. Best is trial 23 with value: 30.08.\n"
     ]
    },
    {
     "name": "stdout",
     "output_type": "stream",
     "text": [
      "Early stopping, best iteration is:\n",
      "[25]\tvalid_0's ER: 30.5\n",
      "Evaluated only: ER\n",
      "**************** regression ****************\n",
      "Training until validation scores don't improve for 66 rounds\n",
      "[100]\tvalid_0's ER: 30.28\n"
     ]
    },
    {
     "name": "stderr",
     "output_type": "stream",
     "text": [
      "[I 2023-12-17 19:58:25,963] Trial 29 finished with value: 30.28 and parameters: {'lambda_l1': 289.2609807070544, 'lambda_l2': 232.48943363959324, 'learning_rate': 0.29667674123132864, 'num_leaves': 109, 'feature_fraction': 0.6419037229400435, 'min_data_in_leaf': 3204}. Best is trial 23 with value: 30.08.\n"
     ]
    },
    {
     "name": "stdout",
     "output_type": "stream",
     "text": [
      "Early stopping, best iteration is:\n",
      "[45]\tvalid_0's ER: 30.28\n",
      "Evaluated only: ER\n",
      "# Experimentos: 30\n",
      "Mejor experimento: {'lambda_l1': 242.26624269552127, 'lambda_l2': 88.60530170499516, 'learning_rate': 0.2972561885475407, 'num_leaves': 33, 'feature_fraction': 0.8470865595383625, 'min_data_in_leaf': 2719}\n"
     ]
    }
   ],
   "source": [
    "#Antes de entrenar, se setea vector global para validate\n",
    "GLOBAL_PRODUCT_IDS = actualizar_global_prods(X_validate.product_id,y_validate)\n",
    "\n",
    "### Optimizacion Bayesiana\n",
    "GLOBAL_PARAMS_ITER = []\n",
    "GLOBAL_BEST_IT_ITER = []\n",
    "GLOBAL_ER_VALIDATE_ITER = []\n",
    "GLOBAL_MODEL_ITER = []\n",
    "\n",
    "study = optuna.create_study(direction='minimize')\n",
    "study.optimize(objective, n_trials=config.CANT_ITERACIONES_OPT_BAY_PARAM)\n",
    "print('# Experimentos:', len(study.trials))\n",
    "print('Mejor experimento:', study.best_trial.params)"
   ]
  },
  {
   "cell_type": "code",
   "execution_count": 17,
   "id": "933cdc68-eb97-4e4c-b8bf-0eafdfb04c64",
   "metadata": {},
   "outputs": [
    {
     "data": {
      "image/png": "[encoded data removed]",
      "text/plain": [
       "<Figure size 720x720 with 1 Axes>"
      ]
     },
     "metadata": {
      "needs_background": "light"
     },
     "output_type": "display_data"
    }
   ],
   "source": [
    "# Feature Importance\n",
    "best_model_index = study.best_trial.number\n",
    "best_model = GLOBAL_MODEL_ITER[best_model_index]\n",
    "feature_importance = lightgbm_aux.plot_lgb_importances(best_model, num=30, plot=True)"
   ]
  },
  {
   "cell_type": "code",
   "execution_count": 18,
   "id": "1d0ec636-d1ae-446d-980a-70ac4499d75a",
   "metadata": {},
   "outputs": [
    {
     "name": "stdout",
     "output_type": "stream",
     "text": [
      "product_id a testear: 780\n",
      "Periodos entrenar ALL: [201701 201702 201703 201704 201705 201706 201707 201708 201709 201710\n",
      " 201711 201712 201801 201802 201803 201804 201805 201806 201807 201808\n",
      " 201809 201810 201811 201812 201901 201902 201903 201904 201905 201906\n",
      " 201907]\n",
      "Periodos holdout: [201910]\n",
      "\n",
      "X_train_all: (29825, 444)\n",
      "y_train_all: (29825,)\n",
      "\n",
      "X_holdout: (780, 444)\n",
      "y_holdout: (780,)\n"
     ]
    }
   ],
   "source": [
    "#Si se usa holdout, se generan variables para luego evaluar modelos\n",
    "if(config.USAR_HOLDOUT_PARAM):\n",
    "    # Dataframes\n",
    "    df_train_all = df_sellout[(df_sellout.periodo <= config.TRAIN_ALL_PERIODO_LIMITE_PARAM) & (df_sellout.periodo >= config.PERIODO_INICIO_PARAM)]\n",
    "    df_holdout = df_sellout[(df_sellout.product_id.isin(df_prods_prediccion_entren.product_id)) & (df_sellout.periodo == config.HOLDOUT_PERIODO_PARAM)]\n",
    "    \n",
    "    df_holdout = df_holdout.sort_values(by=\"product_id\",ascending=True)\n",
    "    print(\"product_id a testear:\", len(df_holdout))\n",
    "\n",
    "    print(\"Periodos entrenar ALL:\",df_train_all.periodo.unique())\n",
    "    print(\"Periodos holdout:\",df_holdout.periodo.unique())\n",
    "\n",
    "    # Variables entrenamiento\n",
    "    X_train_all = df_train_all.drop(columns=cols_remover_entren, axis=1)\n",
    "    X_holdout = df_holdout.drop(columns=cols_remover_entren, axis=1)\n",
    "    \n",
    "    y_train_all = df_train_all.tn_mas_2\n",
    "    y_holdout = df_holdout.tn_mas_2\n",
    "    print(\"\\nX_train_all:\", X_train_all.shape)\n",
    "    print(\"y_train_all:\", y_train_all.shape)\n",
    "    \n",
    "    print(\"\\nX_holdout:\", X_holdout.shape)\n",
    "    print(\"y_holdout:\", y_holdout.shape)\n",
    "\n",
    "    lgbtrain_all = lgb.Dataset(data=X_train_all, label=y_train_all, feature_name=cols_entren)"
   ]
  },
  {
   "cell_type": "code",
   "execution_count": 19,
   "id": "1bec2d20-752c-4862-96c8-69f22a83b617",
   "metadata": {},
   "outputs": [
    {
     "data": {
      "text/plain": [
       "'20231217_165826'"
      ]
     },
     "execution_count": 19,
     "metadata": {},
     "output_type": "execute_result"
    }
   ],
   "source": [
    "current_datetime = datetime.now().astimezone(pytz.timezone('America/Argentina/Buenos_Aires'))\n",
    "exp_numero = current_datetime.strftime(\"%Y%m%d %H%M%S\").replace(\" \", \"_\")\n",
    "exp_numero"
   ]
  },
  {
   "cell_type": "code",
   "execution_count": 20,
   "id": "efb947b6-d349-475a-bb5c-234277c58a7f",
   "metadata": {},
   "outputs": [
    {
     "name": "stdout",
     "output_type": "stream",
     "text": [
      "Iteración: 0\n",
      "Iteración: 1\n",
      "Iteración: 2\n",
      "Iteración: 3\n",
      "Iteración: 4\n"
     ]
    }
   ],
   "source": [
    "# Guardo resultados\n",
    "carpeta_exp = carpeta_exp_prefijo + exp_numero + \"/\"\n",
    "if not os.path.exists(carpeta_exp):\n",
    "    os.makedirs(carpeta_exp)\n",
    "    \n",
    "# Feature Importance\n",
    "feature_importance.to_csv(carpeta_exp + \"feature_importance.csv\",index=False)\n",
    "\n",
    "# Parametros\n",
    "parametros_nombres = [\"PERIODO_INICIO_PARAM\",\"TRAIN_PERIODO_LIMITE_PARAM\",\"VALIDATE_PERIODO_PARAM\",\"USAR_HOLDOUT_PARAM\",\n",
    "                      \"TRAIN_ALL_PERIODO_LIMITE_PARAM\",\"HOLDOUT_PERIODO_PARAM\",\n",
    "                      \"MODELO_FINAL_PERIODO_LIMITE_PARAM\",\"FUTURE_PERIODO_PARAM\",\n",
    "                      \"ARCH_PRODUCTOS_PREDICCION_ENTRENAMIENTO\",\"ARCH_PRODUCTOS_PREDICCION_FUTURE\",\n",
    "                      \"NUM_LAGS_PARAM\",\"FAMILIA_FEATURES_TEMP_PARAM\",\n",
    "                      \"CANT_ITERACIONES_OPT_BAY_PARAM\",\"CANT_SEMILLAS\"]\n",
    "\n",
    "parametros_valores = [config.PERIODO_INICIO_PARAM,config.TRAIN_PERIODO_LIMITE_PARAM,config.VALIDATE_PERIODO_PARAM,\n",
    "                      config.USAR_HOLDOUT_PARAM,config.TRAIN_ALL_PERIODO_LIMITE_PARAM,config.HOLDOUT_PERIODO_PARAM,\n",
    "                      config.MODELO_FINAL_PERIODO_LIMITE_PARAM,config.FUTURE_PERIODO_PARAM,\n",
    "                      config.ARCH_PRODUCTOS_PREDICCION_ENTRENAMIENTO,config.ARCH_PRODUCTOS_PREDICCION_FUTURE,\n",
    "                      config.NUM_LAGS_PARAM,config.FAMILIA_FEATURES_TEMP_PARAM,\n",
    "                      config.CANT_ITERACIONES_OPT_BAY_PARAM, config.CANT_SEMILLAS]\n",
    "\n",
    "parametros = pd.DataFrame(data={\"nombre\":parametros_nombres,\"valor\":parametros_valores})\n",
    "parametros.to_csv(carpeta_exp + \"parametros.csv\",index=False)\n",
    "\n",
    "# Optimizacion Bayesiana\n",
    "df_opt_bay = pd.DataFrame(data={\"lgb_params\":GLOBAL_PARAMS_ITER,\"best_iteration\":GLOBAL_BEST_IT_ITER,\n",
    "                                \"error_rate_validate\":GLOBAL_ER_VALIDATE_ITER})\n",
    "\n",
    "# Ordeno de menor a mayor\n",
    "df_opt_bay = df_opt_bay.sort_values(by=\"error_rate_validate\",ascending=True)\n",
    "df_opt_bay[\"index\"] = range(0,len(GLOBAL_PARAMS_ITER))\n",
    "\n",
    "# Holdout\n",
    "if(config.USAR_HOLDOUT_PARAM):\n",
    "    er_holdout_iter = [None] * len(df_opt_bay)\n",
    "    er_holdout_semillerio_iter = [None] * len(df_opt_bay)\n",
    "    \n",
    "    for i in range(config.OFFSET_EVAL_HOLDOUT,config.CANT_EVAL_HOLDOUT):\n",
    "        print(\"Iteración:\",i)\n",
    "\n",
    "        #Modelo Train All (Sin Semillerio)\n",
    "        model_train_all = lgb.train(df_opt_bay.iloc[i].lgb_params, lgbtrain_all, num_boost_round=df_opt_bay.iloc[i].best_iteration)\n",
    "        y_pred_holdout = model_train_all.predict(X_holdout)\n",
    "\n",
    "        #Seteo vector global\n",
    "        GLOBAL_PRODUCT_IDS = actualizar_global_prods(X_holdout.product_id,y_holdout)\n",
    "        er_holdout = error_rate_transf(y_holdout,y_pred_holdout)\n",
    "        er_holdout_iter[i]=er_holdout\n",
    "        \n",
    "        #Semillerio\n",
    "        y_pred_holdout_semillerio = lightgbm_aux.semillerio(lgbtrain_all, df_opt_bay.iloc[i].lgb_params, df_opt_bay.iloc[i].best_iteration, X_holdout,config.CANT_SEMILLAS)\n",
    "        er_holdout_semillerio_iter[i]= error_rate_transf(y_holdout,y_pred_holdout_semillerio)\n",
    "        \n",
    "    df_opt_bay[\"error_rate_holdout\"]=er_holdout_iter    \n",
    "    df_opt_bay[\"error_rate_holdout_semillerio\"]=er_holdout_semillerio_iter    \n",
    "\n",
    "df_opt_bay.to_excel(carpeta_exp +  \"opt_bay.xlsx\",index=False)"
   ]
  },
  {
   "cell_type": "code",
   "execution_count": 21,
   "id": "d4683c7c-e768-4b55-b897-b178f8c4fdd5",
   "metadata": {},
   "outputs": [
    {
     "name": "stdout",
     "output_type": "stream",
     "text": [
      "FINALIZADO\n"
     ]
    }
   ],
   "source": [
    "print(\"FINALIZADO\")\n",
    "exp_numero"
   ]
  }
 ],
 "metadata": {
  "kernelspec": {
   "display_name": "Python 3 (ipykernel)",
   "language": "python",
   "name": "python3"
  },
  "language_info": {
   "codemirror_mode": {
    "name": "ipython",
    "version": 3
   },
   "file_extension": ".py",
   "mimetype": "text/x-python",
   "name": "python",
   "nbconvert_exporter": "python",
   "pygments_lexer": "ipython3",
   "version": "3.10.12"
  }
 },
 "nbformat": 4,
 "nbformat_minor": 5
}
