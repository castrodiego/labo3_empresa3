{
 "cells": [
  {
   "cell_type": "code",
   "execution_count": null,
   "id": "1b6c0f22",
   "metadata": {},
   "outputs": [],
   "source": [
    "import pandas as pd\n",
    "import gzip\n",
    "import os\n",
    "import numpy as np"
   ]
  },
  {
   "cell_type": "markdown",
   "id": "04d61971",
   "metadata": {},
   "source": [
    " # A la empresa le interesa el rastreo de lo que marketing considera los productos y lo que ventas considera los mejores clientes.\n",
    "\n",
    "## Mejores Productos\n",
    "- product_id = {20001, 20002, 20003, 20004, 20005, 20006, 20007, 20009, 20011, 20032} (diez productos)\n",
    "\n",
    "## Mejores Clientes\n",
    "- customer_id = {10001, 10002, 10003, 10004, 10005, 10006, 10007, 10008, 10009, 10011, 10012, 10013} (doce clientes)\n",
    "\n",
    "Total de <producto, cliente> a predecir = 10 * 12 = 120\n",
    "\n",
    "# Objetivo\n",
    "- Es el 01-enero-2020 a las 00:01 y disponibilizamos las ventas del periodo 2021912.\n",
    "- El 02-enero a las 18:00 nos deben entregar:\n",
    "  - El primer forecast de ventas para cada producto que se harán durante el mes 202002, de forma que nuestras plantas puedan fabricarlos durante el mes de 202001.\n",
    "  - El segundo forecast es las ventas esperadas en 202002, para los 120 pares de <mejores_clientes, mejores_productos>."
   ]
  },
  {
   "cell_type": "code",
   "execution_count": null,
   "id": "e3f80795-b65c-452d-9d00-8f3c57afe98b",
   "metadata": {},
   "outputs": [],
   "source": [
    "####################################################\n",
    "############# Setear segun cada maquina ############\n",
    "#os.chdir(\"C:/Users/herna/labo3_empresa3_repo/datasets\")\n",
    "os.chdir(\"C:/diego_tools/labo3/dataset\")\n",
    "####################################################"
   ]
  },
  {
   "cell_type": "code",
   "execution_count": null,
   "id": "29cfb14c-e6c2-4e67-9db3-a09081d7a7da",
   "metadata": {},
   "outputs": [],
   "source": [
    "arch_sellout = \"tb_sellout_02.txt.gz\"\n",
    "arch_maestro_prod = \"maestro_productos_depurado.csv\"\n",
    "arch_exogenas = \"emp3_exogenas.csv\"\n",
    "arch_prod_ids_prediccion = \"productos_a_predecir.csv\""
   ]
  },
  {
   "cell_type": "code",
   "execution_count": null,
   "id": "ceaf9368-4812-46e8-91a9-4c944d966d4b",
   "metadata": {},
   "outputs": [],
   "source": [
    "# Variables para definir que atributos se descartan\n",
    "meses_para_control_vigencia = [201904,201905,201906] #meses en los cuales deben aparecer los productos para ser considerados vigentes (NO discontinuados) y ser tomados en la prediccion\n",
    "tope_fecha_historia = 201902 #los productos que aparezcan desde este mes (inclusive) en adelante, se excluyen por tener poca historia de ventas"
   ]
  },
  {
   "cell_type": "code",
   "execution_count": null,
   "id": "f4f73a86-4870-4d41-ad75-d02689460c8f",
   "metadata": {},
   "outputs": [],
   "source": [
    "def diferencia_meses(d1, d2):\n",
    "    return (d1.year - d2.year) * 12 + d1.month - d2.month"
   ]
  },
  {
   "cell_type": "code",
   "execution_count": null,
   "id": "7792d75f-8b23-4674-ae5b-850a58ca62b9",
   "metadata": {},
   "outputs": [],
   "source": [
    "clientes_estrella = [10001, 10002, 10003, 10004, 10005, 10006, 10007, 10008, 10009, 10011, 10012, 10013]"
   ]
  },
  {
   "cell_type": "markdown",
   "id": "97f20c65-c7e9-4313-ad41-906f6514c659",
   "metadata": {},
   "source": [
    "## Sellout"
   ]
  },
  {
   "cell_type": "code",
   "execution_count": null,
   "id": "977fc914",
   "metadata": {},
   "outputs": [],
   "source": [
    "# Abrir el archivo .gz y cargarlo en un DataFrame\n",
    "with gzip.open(arch_sellout, 'rt') as archivo:\n",
    "    # Leer el archivo línea por línea\n",
    "    df_sellout = pd.read_csv(archivo,sep=\"\\t\")"
   ]
  },
  {
   "cell_type": "code",
   "execution_count": null,
   "id": "8d5982ad",
   "metadata": {},
   "outputs": [],
   "source": [
    "df_sellout.info()"
   ]
  },
  {
   "cell_type": "code",
   "execution_count": null,
   "id": "5011849c-5a5a-4b0c-8c99-531447a8d0b7",
   "metadata": {},
   "outputs": [],
   "source": [
    "# Por las dudas, eliminamos duplicados\n",
    "print(len(df_sellout))\n",
    "df_sellout.drop_duplicates(inplace=True)\n",
    "print(len(df_sellout))"
   ]
  },
  {
   "cell_type": "markdown",
   "id": "76eb0937-5e96-45e0-a2a7-568ac21055dc",
   "metadata": {},
   "source": [
    "**--> sin duplicados**"
   ]
  },
  {
   "cell_type": "code",
   "execution_count": null,
   "id": "e55da3b7-d640-4e6d-ae92-8ac4507ef3b8",
   "metadata": {},
   "outputs": [],
   "source": [
    "df_sellout.isna().sum()"
   ]
  },
  {
   "cell_type": "markdown",
   "id": "964e3af1-f704-44b2-80ca-13299a4758ab",
   "metadata": {},
   "source": [
    "**--> sin nulos**"
   ]
  },
  {
   "cell_type": "code",
   "execution_count": null,
   "id": "b7cf7dfb-9ce4-4233-b1ab-9491c2d2333c",
   "metadata": {},
   "outputs": [],
   "source": [
    "df_sellout.periodo.unique()                "
   ]
  },
  {
   "cell_type": "code",
   "execution_count": null,
   "id": "45670a8f-3f08-497e-825f-1a33f480b8a8",
   "metadata": {},
   "outputs": [],
   "source": [
    "len(df_sellout.product_id.unique())          "
   ]
  },
  {
   "cell_type": "markdown",
   "id": "6fcc221a-05d8-4d45-b90a-55d61f1dec47",
   "metadata": {},
   "source": [
    "--> algunos productos no van a tener descripción"
   ]
  },
  {
   "cell_type": "code",
   "execution_count": null,
   "id": "a86859b9-e128-402e-831a-94d43108da7d",
   "metadata": {},
   "outputs": [],
   "source": [
    "len(df_sellout.customer_id.unique())            "
   ]
  },
  {
   "cell_type": "code",
   "execution_count": null,
   "id": "4c04a7c4-d8f3-4005-8669-92d4a3457768",
   "metadata": {},
   "outputs": [],
   "source": [
    "df_sellout.plan_precios_cuidados.unique()          "
   ]
  },
  {
   "cell_type": "code",
   "execution_count": null,
   "id": "d29c2cb2-779e-4a27-8a16-2c7829e1c672",
   "metadata": {},
   "outputs": [],
   "source": [
    "df_sellout[df_sellout.tn==0]"
   ]
  },
  {
   "cell_type": "markdown",
   "id": "34ab1570-16de-43a7-a661-c5d14fb1e0c0",
   "metadata": {},
   "source": [
    "--> si no hay ventas, no hay registro en 0 (directamente no hay registro)"
   ]
  },
  {
   "cell_type": "code",
   "execution_count": null,
   "id": "a8c70c9d",
   "metadata": {},
   "outputs": [],
   "source": [
    "df_sellout.head()"
   ]
  },
  {
   "cell_type": "code",
   "execution_count": null,
   "id": "f575f625-8058-48c2-b383-42fe9939bc01",
   "metadata": {},
   "outputs": [],
   "source": [
    "# Como control, sumo tns\n",
    "tn_suma_original = round(sum(df_sellout.tn))\n",
    "print(\"Toneladas Total Control:\", round(sum(df_sellout.tn),0))"
   ]
  },
  {
   "cell_type": "markdown",
   "id": "2abfc99a-8903-46b5-a530-5ab34f39e0cd",
   "metadata": {},
   "source": [
    "## Descarte de Productos que no hay que predecir"
   ]
  },
  {
   "cell_type": "code",
   "execution_count": null,
   "id": "c965f03c-866a-43e5-aa22-8466794a881b",
   "metadata": {},
   "outputs": [],
   "source": [
    "# Discontinuados (sin ventas en 3 meses mas adelante)\n",
    "product_ids_vigentes =  df_sellout[df_sellout.periodo.isin(meses_para_control_vigencia)].product_id.unique()\n",
    "print(\"Vigentes:\", len(product_ids_vigentes))\n",
    "\n",
    "product_ids_discontinuados = set(df_sellout.product_id.unique()).difference(set(product_ids_vigentes))\n",
    "print(\"Discontinuados:\", len(product_ids_discontinuados))\n",
    "\n",
    "#Sin historia suficiente (minima fecha >= 201902)\n",
    "product_ids_sin_hist_sufic = df_sellout.groupby(\"product_id\").agg({\"periodo\":\"min\"}).reset_index()\n",
    "product_ids_sin_hist_sufic = product_ids_sin_hist_sufic[product_ids_sin_hist_sufic.periodo>=tope_fecha_historia]\n",
    "print(product_ids_sin_hist_sufic.head(5))\n",
    "product_ids_sin_hist_sufic = product_ids_sin_hist_sufic.product_id.unique()\n",
    "print(\"Menos 3 meses hist:\", len(product_ids_sin_hist_sufic))\n",
    "\n",
    "#Interseccion y union\n",
    "print(\"Interseccion: \", len((set(product_ids_discontinuados).intersection(set(product_ids_sin_hist_sufic)))))\n",
    "print(\"Union: \", len((set(product_ids_discontinuados).union(set(product_ids_sin_hist_sufic)))))\n",
    "\n",
    "\n",
    "product_ids_para_predecir = set(df_sellout.product_id.unique()).difference((set(product_ids_discontinuados).union(set(product_ids_sin_hist_sufic))))\n",
    "print(\"\\nTotal:\", len(product_ids_para_predecir))"
   ]
  },
  {
   "cell_type": "code",
   "execution_count": null,
   "id": "4efcf796-005a-4b4d-a473-471901a22cf5",
   "metadata": {},
   "outputs": [],
   "source": [
    "#Se guardan en un csv aparte\n",
    "df_prods_prediccion = pd.DataFrame(data={\"product_id\":list(product_ids_para_predecir)})\n",
    "df_prods_prediccion.to_csv(arch_prod_ids_prediccion, index=False)"
   ]
  },
  {
   "cell_type": "markdown",
   "id": "0d4165a8-f6de-4d53-a3f9-ffc8460968bc",
   "metadata": {},
   "source": [
    "## Completado de Períodos sin Ventas"
   ]
  },
  {
   "cell_type": "markdown",
   "id": "14ad81bf-00fd-4f5a-baf7-67e297952a00",
   "metadata": {},
   "source": [
    "* Los pares <cliente,producto> que no aparecen un mes van a ser completados con un registro en 0\n",
    "* Sin embargo, se completará a partir de su primer mes (y no para atrás)\n",
    "* Esto aplicará para el primer mes del cliente y del producto"
   ]
  },
  {
   "cell_type": "code",
   "execution_count": null,
   "id": "66276e32-ceb0-4d42-9c6f-36689c69b292",
   "metadata": {},
   "outputs": [],
   "source": [
    "periodos = df_sellout.periodo.unique()\n",
    "cant_periodos = len(periodos)\n",
    "periodos, cant_periodos"
   ]
  },
  {
   "cell_type": "code",
   "execution_count": null,
   "id": "af235c1d-436b-4765-917e-1f49ca6da3f6",
   "metadata": {},
   "outputs": [],
   "source": [
    "productos = df_sellout.product_id.unique()\n",
    "cant_productos = len(productos)\n",
    "cant_productos"
   ]
  },
  {
   "cell_type": "code",
   "execution_count": null,
   "id": "4c336afa-265c-4544-b35e-7788a207e4ee",
   "metadata": {},
   "outputs": [],
   "source": [
    "clientes = df_sellout.customer_id.unique()\n",
    "cant_clientes = len(clientes)\n",
    "cant_clientes"
   ]
  },
  {
   "cell_type": "code",
   "execution_count": null,
   "id": "4bfb5198-ff40-40fc-8c70-644b2b8cc9f2",
   "metadata": {},
   "outputs": [],
   "source": [
    "len(df_sellout),cant_productos*cant_periodos*cant_clientes"
   ]
  },
  {
   "cell_type": "markdown",
   "id": "0c445edd-7797-4312-9ba1-85ca8b426673",
   "metadata": {},
   "source": [
    "**--> no todos los productos y clientes están en todos los períodos (2.95M vs 26.5M)**"
   ]
  },
  {
   "cell_type": "code",
   "execution_count": null,
   "id": "66cfdc21-2236-43c2-bd2e-bfead214277a",
   "metadata": {},
   "outputs": [],
   "source": [
    "# Obtengo el primer mes de cada producto\n",
    "df_primer_mes_prod = df_sellout.groupby(\"product_id\").agg({\"periodo\":\"min\"}).reset_index()\n",
    "df_primer_mes_prod = df_primer_mes_prod.rename(columns={\"periodo\":\"primer_periodo_prod\"})\n",
    "df_primer_mes_prod.tail()"
   ]
  },
  {
   "cell_type": "code",
   "execution_count": null,
   "id": "ff717918-42a1-440a-ab03-6fc3d8dd8282",
   "metadata": {},
   "outputs": [],
   "source": [
    "# Obtengo el primer mes de cada cliente\n",
    "df_primer_mes_cliente = df_sellout.groupby(\"customer_id\").agg({\"periodo\":\"min\"}).reset_index()\n",
    "df_primer_mes_cliente = df_primer_mes_cliente.rename(columns={\"periodo\":\"primer_periodo_cliente\"})\n",
    "df_primer_mes_cliente.tail()"
   ]
  },
  {
   "cell_type": "code",
   "execution_count": null,
   "id": "80670a6c-52ec-47d5-b01a-e7ada6a3396a",
   "metadata": {},
   "outputs": [],
   "source": [
    "# Se va a poner 0 a todos los periodos donde el producto no se vendio\n",
    "df_cartesiano = pd.DataFrame(data={\"product_id\":productos}).merge(pd.DataFrame(data={\"periodo\":periodos}), how='cross')\n",
    "df_cartesiano = df_cartesiano.merge(pd.DataFrame(data={\"customer_id\":clientes}), how='cross')\n",
    "\n",
    "df_cartesiano[\"cero_ventas\"] = 0\n",
    "len(df_cartesiano)"
   ]
  },
  {
   "cell_type": "code",
   "execution_count": null,
   "id": "69fc327f-5e01-45cc-a2a2-6499bca0c729",
   "metadata": {},
   "outputs": [],
   "source": [
    "df_cartesiano.info()"
   ]
  },
  {
   "cell_type": "code",
   "execution_count": null,
   "id": "ab03e3a7-6d40-4633-a794-d8136b0ebfd7",
   "metadata": {},
   "outputs": [],
   "source": [
    "df_cartesiano.head()"
   ]
  },
  {
   "cell_type": "code",
   "execution_count": null,
   "id": "0f8d7823-3c6f-40ee-9ea4-3b2a2ba4b24c",
   "metadata": {},
   "outputs": [],
   "source": [
    "df_sellout_complet = df_cartesiano.merge(df_sellout, how=\"left\",on=[\"product_id\",\"customer_id\",\"periodo\"])\n",
    "len(df_sellout_complet)"
   ]
  },
  {
   "cell_type": "code",
   "execution_count": null,
   "id": "2bcc7e0b-db53-4854-ae92-9d14645139bf",
   "metadata": {},
   "outputs": [],
   "source": [
    "df_sellout_complet.head()"
   ]
  },
  {
   "cell_type": "code",
   "execution_count": null,
   "id": "7537a9f8-8f05-407a-9780-e4103c61d5d1",
   "metadata": {},
   "outputs": [],
   "source": [
    "df_sellout_complet.isna().sum()"
   ]
  },
  {
   "cell_type": "code",
   "execution_count": null,
   "id": "0662f982-f93c-4f9a-80a6-30fc1aa9951e",
   "metadata": {},
   "outputs": [],
   "source": [
    "# Imputo\n",
    "df_sellout_complet.cero_ventas = np.where(df_sellout_complet.tn.isna(),1,0)\n",
    "df_sellout_complet.tn = np.where(df_sellout_complet.cero_ventas==1,0,df_sellout_complet.tn)\n",
    "df_sellout_complet.cust_request_tn = np.where(df_sellout_complet.cero_ventas==1,0,df_sellout_complet.cust_request_tn)\n",
    "df_sellout_complet.cust_request_qty = np.where(df_sellout_complet.cero_ventas==1,0,df_sellout_complet.cust_request_qty)\n",
    "df_sellout_complet.plan_precios_cuidados = np.where(df_sellout_complet.cero_ventas==1,0,df_sellout_complet.plan_precios_cuidados)"
   ]
  },
  {
   "cell_type": "code",
   "execution_count": null,
   "id": "d5be5ae9-6ad0-4d13-9437-cc428dbef816",
   "metadata": {},
   "outputs": [],
   "source": [
    "df_sellout_complet.isna().sum()"
   ]
  },
  {
   "cell_type": "code",
   "execution_count": null,
   "id": "137762e9-f7c2-4584-8e67-6973848ce936",
   "metadata": {},
   "outputs": [],
   "source": [
    "df_sellout_complet.cero_ventas.sum(),len(df_cartesiano)-len(df_sellout)"
   ]
  },
  {
   "cell_type": "code",
   "execution_count": null,
   "id": "a846132c-c2e2-45dc-861e-58c90b0c7cdc",
   "metadata": {},
   "outputs": [],
   "source": [
    "# Ahora, cruzo con el primer mes (para luego borrar aquellos registros previos al primer mes de datos)\n",
    "print(len(df_sellout_complet))\n",
    "df_sellout_complet_desde_1er_mes = df_sellout_complet.merge(df_primer_mes_prod,on=\"product_id\",how=\"inner\")\n",
    "df_sellout_complet_desde_1er_mes = df_sellout_complet_desde_1er_mes.merge(df_primer_mes_cliente,on=\"customer_id\",how=\"inner\")\n",
    "print(len(df_sellout_complet_desde_1er_mes))"
   ]
  },
  {
   "cell_type": "code",
   "execution_count": null,
   "id": "3b83a49e-bfd9-4a07-8d5b-a5df0510072d",
   "metadata": {},
   "outputs": [],
   "source": [
    "# Borro los previos al primer mes\n",
    "df_sellout_complet_desde_1er_mes = df_sellout_complet_desde_1er_mes[(df_sellout_complet_desde_1er_mes.periodo >= df_sellout_complet_desde_1er_mes.primer_periodo_prod) & (df_sellout_complet_desde_1er_mes.periodo >= df_sellout_complet_desde_1er_mes.primer_periodo_cliente)]\n",
    "\n",
    "print(len(df_sellout_complet_desde_1er_mes))\n",
    "df_sellout_complet_desde_1er_mes.tail(10)"
   ]
  },
  {
   "cell_type": "markdown",
   "id": "27e49555-b297-4265-bbb7-153b48f84bca",
   "metadata": {},
   "source": [
    "--> **Quedan 19.6M de registros**"
   ]
  },
  {
   "cell_type": "markdown",
   "id": "a0bc05fa-84d4-4799-869c-93421b39a767",
   "metadata": {},
   "source": [
    "### --> La que sigue es la parte que más demora..."
   ]
  },
  {
   "cell_type": "code",
   "execution_count": null,
   "id": "00fbbafd-5942-41b8-a691-d885d484b13e",
   "metadata": {
    "tags": []
   },
   "outputs": [],
   "source": [
    "df_sellout_complet_desde_1er_mes['periodo_fecha'] = pd.to_datetime(df_sellout_complet_desde_1er_mes['periodo'], format='%Y%m')\n",
    "\n",
    "# Se agrega una variable que tenga el mes y tambien la cantidad de meses de historia del producto\n",
    "df_sellout_complet_desde_1er_mes[\"mes\"] = pd.DatetimeIndex(df_sellout_complet_desde_1er_mes.periodo_fecha).month\n",
    "df_sellout_complet_desde_1er_mes['primer_periodo_fecha_prod'] = pd.to_datetime(df_sellout_complet_desde_1er_mes['primer_periodo_prod'], format='%Y%m')\n",
    "df_sellout_complet_desde_1er_mes[\"meses_historia_prod\"]=df_sellout_complet_desde_1er_mes.apply(lambda row: diferencia_meses(row[\"periodo_fecha\"],row[\"primer_periodo_fecha_prod\"]),axis=1)\n",
    "df_sellout_complet_desde_1er_mes['primer_periodo_fecha_cliente'] = pd.to_datetime(df_sellout_complet_desde_1er_mes['primer_periodo_cliente'], format='%Y%m')\n",
    "df_sellout_complet_desde_1er_mes[\"meses_historia_cliente\"]=df_sellout_complet_desde_1er_mes.apply(lambda row: diferencia_meses(row[\"periodo_fecha\"],row[\"primer_periodo_fecha_cliente\"]),axis=1)\n",
    "\n",
    "#Se agrega columna de \"cliente_estrella\" y par producto-cliente\n",
    "df_sellout_complet_desde_1er_mes[\"cliente_estrella\"]=np.where(df_sellout_complet_desde_1er_mes.customer_id.isin(clientes_estrella),1,0)\n",
    "df_sellout_complet_desde_1er_mes[\"prod_cust\"] = df_sellout_complet_desde_1er_mes.product_id.astype(str) + \"-\" + df_sellout_complet_desde_1er_mes.customer_id.astype(str)\n",
    "# Dejo unicamente las columnas de meses_historia\n",
    "df_sellout_complet_desde_1er_mes = df_sellout_complet_desde_1er_mes.drop(columns=[\"primer_periodo_prod\",\"primer_periodo_cliente\",\"primer_periodo_fecha_prod\",\"primer_periodo_fecha_cliente\"])"
   ]
  },
  {
   "cell_type": "code",
   "execution_count": null,
   "id": "b8384178-6b22-47c8-8fca-461d7b3085c6",
   "metadata": {},
   "outputs": [],
   "source": [
    "df_sellout_complet_desde_1er_mes.head(10)"
   ]
  },
  {
   "cell_type": "markdown",
   "id": "a2ee5067-be9c-4727-bb2c-c85974e6942f",
   "metadata": {},
   "source": [
    "### Comprobación de casos puntuales"
   ]
  },
  {
   "cell_type": "code",
   "execution_count": null,
   "id": "24695b7c-a1ae-4a22-b126-c7c31f59f4e3",
   "metadata": {},
   "outputs": [],
   "source": [
    "df_sellout[(df_sellout.customer_id==10637)&(df_sellout.product_id==20741)]"
   ]
  },
  {
   "cell_type": "code",
   "execution_count": null,
   "id": "47e46d5e-f981-473d-b771-e5ed0e90c9e1",
   "metadata": {},
   "outputs": [],
   "source": [
    "df_sellout[(df_sellout.customer_id==10637)].periodo.min()"
   ]
  },
  {
   "cell_type": "code",
   "execution_count": null,
   "id": "eeb85311-f0cc-46af-9e48-ceeb807d97f8",
   "metadata": {},
   "outputs": [],
   "source": [
    "df_sellout[(df_sellout.product_id==20741)].periodo.min()"
   ]
  },
  {
   "cell_type": "code",
   "execution_count": null,
   "id": "d56e28ab-455c-462b-a66d-5c70b9964879",
   "metadata": {},
   "outputs": [],
   "source": [
    "df_sellout_complet_desde_1er_mes[(df_sellout_complet_desde_1er_mes.customer_id==10637)&(df_sellout_complet_desde_1er_mes.product_id==20741)]"
   ]
  },
  {
   "cell_type": "markdown",
   "id": "b7ff110b-12df-4bea-bf56-f6be705b86f8",
   "metadata": {},
   "source": [
    "**--> se generó OK, desde 201709 en adelante únicamente**"
   ]
  },
  {
   "cell_type": "markdown",
   "id": "1ba8f77e-3998-4f4f-b7ec-dde5da8e6373",
   "metadata": {},
   "source": [
    "## Incorporo Maestro y Exógenas"
   ]
  },
  {
   "cell_type": "code",
   "execution_count": null,
   "id": "afbca416-adb5-461e-9558-19a4b21de708",
   "metadata": {},
   "outputs": [],
   "source": [
    "df_maestro_prod = pd.read_csv(arch_maestro_prod)"
   ]
  },
  {
   "cell_type": "code",
   "execution_count": null,
   "id": "90f993a4-62af-4e2a-b6b6-fbbd8b1f6f2f",
   "metadata": {},
   "outputs": [],
   "source": [
    "df_maestro_prod.info()"
   ]
  },
  {
   "cell_type": "code",
   "execution_count": null,
   "id": "4a63cc99-72a9-4ff9-82e8-b82ad4f45fb7",
   "metadata": {},
   "outputs": [],
   "source": [
    "df_maestro_prod.head()"
   ]
  },
  {
   "cell_type": "code",
   "execution_count": null,
   "id": "14613d4c-ad8b-486a-9aef-e4e28202c7ea",
   "metadata": {},
   "outputs": [],
   "source": [
    "prods_desconocidos = set(df_sellout_complet_desde_1er_mes.product_id).difference(set(df_maestro_prod.product_id))\n",
    "print(len(prods_desconocidos))"
   ]
  },
  {
   "cell_type": "code",
   "execution_count": null,
   "id": "27c00516-dd95-44af-879c-d8f7a74a1267",
   "metadata": {},
   "outputs": [],
   "source": [
    "df_tn_prod_desc = df_sellout_complet_desde_1er_mes[df_sellout_complet_desde_1er_mes.product_id.isin(prods_desconocidos)]\n",
    "df_tn_prod_desc.tn.sum()"
   ]
  },
  {
   "cell_type": "code",
   "execution_count": null,
   "id": "4f4e4397-9170-41f9-a18f-4f61c7fd286d",
   "metadata": {},
   "outputs": [],
   "source": [
    "print(len(df_sellout_complet_desde_1er_mes))\n",
    "df_sellout_complet_desde_1er_mes = pd.merge(df_sellout_complet_desde_1er_mes, df_maestro_prod, on='product_id', how='left')\n",
    "print(len(df_sellout_complet_desde_1er_mes))\n",
    "df_sellout_complet_desde_1er_mes.head()"
   ]
  },
  {
   "cell_type": "code",
   "execution_count": null,
   "id": "48a60775-9a9b-4dd2-b31e-f1d753638755",
   "metadata": {},
   "outputs": [],
   "source": [
    "df_sellout_complet_desde_1er_mes.cat1 = np.where(df_sellout_complet_desde_1er_mes.product_id.isin(prods_desconocidos),\"desconocida\",df_sellout_complet_desde_1er_mes.cat1)\n",
    "df_sellout_complet_desde_1er_mes.cat2 = np.where(df_sellout_complet_desde_1er_mes.product_id.isin(prods_desconocidos),\"desconocida\",df_sellout_complet_desde_1er_mes.cat2)\n",
    "df_sellout_complet_desde_1er_mes.cat3 = np.where(df_sellout_complet_desde_1er_mes.product_id.isin(prods_desconocidos),\"desconocida\",df_sellout_complet_desde_1er_mes.cat3)\n",
    "df_sellout_complet_desde_1er_mes.brand = np.where(df_sellout_complet_desde_1er_mes.product_id.isin(prods_desconocidos),\"desconocida\",df_sellout_complet_desde_1er_mes.brand)\n",
    "df_sellout_complet_desde_1er_mes.sku_size = np.where(df_sellout_complet_desde_1er_mes.product_id.isin(prods_desconocidos),0,df_sellout_complet_desde_1er_mes.sku_size)\n",
    "df_sellout_complet_desde_1er_mes.producto_estrella = np.where(df_sellout_complet_desde_1er_mes.product_id.isin(prods_desconocidos),0,df_sellout_complet_desde_1er_mes.producto_estrella)"
   ]
  },
  {
   "cell_type": "code",
   "execution_count": null,
   "id": "1429c6c6-d1e8-444f-b194-f6af13733716",
   "metadata": {},
   "outputs": [],
   "source": [
    "df_exogenas = pd.read_csv(arch_exogenas)\n",
    "df_exogenas.periodo_fecha = pd.to_datetime(df_exogenas.periodo_fecha)\n",
    "\n",
    "df_exogenas.info()"
   ]
  },
  {
   "cell_type": "code",
   "execution_count": null,
   "id": "1d14bd94-1d45-4214-a11f-663d8e1d7282",
   "metadata": {},
   "outputs": [],
   "source": [
    "# Le agregamos las exogenas\n",
    "print(len(df_sellout_complet_desde_1er_mes))\n",
    "df_sellout_complet_desde_1er_mes = pd.merge(df_sellout_complet_desde_1er_mes,df_exogenas,on=\"periodo_fecha\",how=\"left\")\n",
    "print(len(df_sellout_complet_desde_1er_mes))"
   ]
  },
  {
   "cell_type": "code",
   "execution_count": null,
   "id": "bc04a59b-06a2-48e0-9d7d-d4325a6b8989",
   "metadata": {},
   "outputs": [],
   "source": [
    "# Como control, sumo tns\n",
    "print(\"Toneladas Total Control:\", round(sum(df_sellout_complet_desde_1er_mes.tn),0),tn_suma_original==round(sum(df_sellout_complet_desde_1er_mes.tn),0))"
   ]
  },
  {
   "cell_type": "code",
   "execution_count": null,
   "id": "9ca00d2c-a934-462a-9b6b-71ce97ad4d7a",
   "metadata": {},
   "outputs": [],
   "source": [
    "df_sellout_complet_desde_1er_mes.info()"
   ]
  },
  {
   "cell_type": "code",
   "execution_count": null,
   "id": "65038aad-c62b-4ac6-aff3-f49d3f2968b0",
   "metadata": {},
   "outputs": [],
   "source": [
    "# Ordeno para que luego el FE funcione correctamente usando SHIFT\n",
    "df_sellout_complet_desde_1er_mes = df_sellout_complet_desde_1er_mes.sort_values(by=[\"product_id\",\"customer_id\",\"periodo\"],ascending=True)"
   ]
  },
  {
   "cell_type": "code",
   "execution_count": null,
   "id": "f75ba7d1-dc10-4213-8869-7c72ac235431",
   "metadata": {},
   "outputs": [],
   "source": [
    "df_sellout_complet_desde_1er_mes.head(50)"
   ]
  },
  {
   "cell_type": "code",
   "execution_count": null,
   "id": "af1d82b8-bf69-47a4-a98b-012df9c29f06",
   "metadata": {},
   "outputs": [],
   "source": [
    "df_sellout_complet_desde_1er_mes.isna().sum()"
   ]
  },
  {
   "cell_type": "code",
   "execution_count": null,
   "id": "b8be14fc",
   "metadata": {},
   "outputs": [],
   "source": [
    "# Exportar el DataFrame a un archivo CSV\n",
    "df_sellout_complet_desde_1er_mes.to_csv(\"emp3_sellout_base.csv\", index=False)"
   ]
  }
 ],
 "metadata": {
  "kernelspec": {
   "display_name": "Python 3 (ipykernel)",
   "language": "python",
   "name": "python3"
  },
  "language_info": {
   "codemirror_mode": {
    "name": "ipython",
    "version": 3
   },
   "file_extension": ".py",
   "mimetype": "text/x-python",
   "name": "python",
   "nbconvert_exporter": "python",
   "pygments_lexer": "ipython3",
   "version": "3.10.6"
  }
 },
 "nbformat": 4,
 "nbformat_minor": 5
}
