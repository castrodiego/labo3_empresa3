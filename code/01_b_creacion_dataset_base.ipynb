{
 "cells": [
  {
   "cell_type": "code",
   "execution_count": 1,
   "id": "1b6c0f22",
   "metadata": {},
   "outputs": [],
   "source": [
    "import pandas as pd\n",
    "import gzip\n",
    "import os\n",
    "import numpy as np"
   ]
  },
  {
   "cell_type": "markdown",
   "id": "04d61971",
   "metadata": {},
   "source": [
    " # A la empresa le interesa el rastreo de lo que marketing considera los productos y lo que ventas considera los mejores clientes.\n",
    "\n",
    "## Mejores Productos\n",
    "- product_id = {20001, 20002, 20003, 20004, 20005, 20006, 20007, 20009, 20011, 20032} (diez productos)\n",
    "\n",
    "## Mejores Clientes\n",
    "- customer_id = {10001, 10002, 10003, 10004, 10005, 10006, 10007, 10008, 10009, 10011, 10012, 10013} (doce clientes)\n",
    "\n",
    "Total de <producto, cliente> a predecir = 10 * 12 = 120\n",
    "\n",
    "# Objetivo\n",
    "- Es el 01-enero-2020 a las 00:01 y disponibilizamos las ventas del periodo 2021912.\n",
    "- El 02-enero a las 18:00 nos deben entregar:\n",
    "  - El primer forecast de ventas para cada producto que se harán durante el mes 202002, de forma que nuestras plantas puedan fabricarlos durante el mes de 202001.\n",
    "  - El segundo forecast es las ventas esperadas en 202002, para los 120 pares de <mejores_clientes, mejores_productos>."
   ]
  },
  {
   "cell_type": "code",
   "execution_count": 2,
   "id": "e3f80795-b65c-452d-9d00-8f3c57afe98b",
   "metadata": {},
   "outputs": [],
   "source": [
    "####################################################\n",
    "############# Setear segun cada maquina ############\n",
    "#os.chdir(\"C:/Users/herna/labo3_empresa3_repo/datasets\")\n",
    "os.chdir(\"C:/diego_tools/labo3/dataset\")\n",
    "####################################################"
   ]
  },
  {
   "cell_type": "code",
   "execution_count": 3,
   "id": "29cfb14c-e6c2-4e67-9db3-a09081d7a7da",
   "metadata": {},
   "outputs": [],
   "source": [
    "arch_sellout = \"tb_sellout_02.txt.gz\"\n",
    "arch_maestro_prod = \"maestro_productos_depurado.csv\"\n",
    "arch_exogenas = \"emp3_exogenas.csv\"\n",
    "arch_prod_ids_prediccion = \"productos_a_predecir.csv\""
   ]
  },
  {
   "cell_type": "code",
   "execution_count": 4,
   "id": "ceaf9368-4812-46e8-91a9-4c944d966d4b",
   "metadata": {},
   "outputs": [],
   "source": [
    "# Variables para definir que atributos se descartan\n",
    "meses_para_control_vigencia = [201904,201905,201906] #meses en los cuales deben aparecer los productos para ser considerados vigentes (NO discontinuados) y ser tomados en la prediccion\n",
    "tope_fecha_historia = 201902 #los productos que aparezcan desde este mes (inclusive) en adelante, se excluyen por tener poca historia de ventas"
   ]
  },
  {
   "cell_type": "code",
   "execution_count": 5,
   "id": "f4f73a86-4870-4d41-ad75-d02689460c8f",
   "metadata": {},
   "outputs": [],
   "source": [
    "def diferencia_meses(d1, d2):\n",
    "    return (d1.year - d2.year) * 12 + d1.month - d2.month"
   ]
  },
  {
   "cell_type": "markdown",
   "id": "97f20c65-c7e9-4313-ad41-906f6514c659",
   "metadata": {},
   "source": [
    "## Sellout"
   ]
  },
  {
   "cell_type": "code",
   "execution_count": 6,
   "id": "977fc914",
   "metadata": {},
   "outputs": [],
   "source": [
    "# Abrir el archivo .gz y cargarlo en un DataFrame\n",
    "with gzip.open(arch_sellout, 'rt') as archivo:\n",
    "    # Leer el archivo línea por línea\n",
    "    df_sellout = pd.read_csv(archivo,sep=\"\\t\")"
   ]
  },
  {
   "cell_type": "code",
   "execution_count": 7,
   "id": "8d5982ad",
   "metadata": {},
   "outputs": [
    {
     "name": "stdout",
     "output_type": "stream",
     "text": [
      "<class 'pandas.core.frame.DataFrame'>\n",
      "RangeIndex: 2945818 entries, 0 to 2945817\n",
      "Data columns (total 7 columns):\n",
      " #   Column                 Dtype  \n",
      "---  ------                 -----  \n",
      " 0   periodo                int64  \n",
      " 1   customer_id            int64  \n",
      " 2   product_id             int64  \n",
      " 3   plan_precios_cuidados  int64  \n",
      " 4   cust_request_qty       int64  \n",
      " 5   cust_request_tn        float64\n",
      " 6   tn                     float64\n",
      "dtypes: float64(2), int64(5)\n",
      "memory usage: 157.3 MB\n"
     ]
    }
   ],
   "source": [
    "df_sellout.info()"
   ]
  },
  {
   "cell_type": "code",
   "execution_count": 8,
   "id": "5011849c-5a5a-4b0c-8c99-531447a8d0b7",
   "metadata": {},
   "outputs": [
    {
     "name": "stdout",
     "output_type": "stream",
     "text": [
      "2945818\n",
      "2945818\n"
     ]
    }
   ],
   "source": [
    "# Por las dudas, eliminamos duplicados\n",
    "print(len(df_sellout))\n",
    "df_sellout.drop_duplicates(inplace=True)\n",
    "print(len(df_sellout))"
   ]
  },
  {
   "cell_type": "markdown",
   "id": "76eb0937-5e96-45e0-a2a7-568ac21055dc",
   "metadata": {},
   "source": [
    "**--> sin duplicados**"
   ]
  },
  {
   "cell_type": "code",
   "execution_count": 9,
   "id": "e55da3b7-d640-4e6d-ae92-8ac4507ef3b8",
   "metadata": {},
   "outputs": [
    {
     "data": {
      "text/plain": [
       "periodo                  0\n",
       "customer_id              0\n",
       "product_id               0\n",
       "plan_precios_cuidados    0\n",
       "cust_request_qty         0\n",
       "cust_request_tn          0\n",
       "tn                       0\n",
       "dtype: int64"
      ]
     },
     "execution_count": 9,
     "metadata": {},
     "output_type": "execute_result"
    }
   ],
   "source": [
    "df_sellout.isna().sum()"
   ]
  },
  {
   "cell_type": "markdown",
   "id": "964e3af1-f704-44b2-80ca-13299a4758ab",
   "metadata": {},
   "source": [
    "**--> sin nulos**"
   ]
  },
  {
   "cell_type": "code",
   "execution_count": 10,
   "id": "b7cf7dfb-9ce4-4233-b1ab-9491c2d2333c",
   "metadata": {},
   "outputs": [
    {
     "data": {
      "text/plain": [
       "array([201701, 201702, 201703, 201704, 201705, 201706, 201707, 201708,\n",
       "       201709, 201710, 201711, 201712, 201801, 201802, 201803, 201804,\n",
       "       201805, 201806, 201807, 201808, 201809, 201810, 201811, 201812,\n",
       "       201901, 201902, 201903, 201904, 201905, 201906, 201907, 201908,\n",
       "       201909, 201910, 201911, 201912], dtype=int64)"
      ]
     },
     "execution_count": 10,
     "metadata": {},
     "output_type": "execute_result"
    }
   ],
   "source": [
    "df_sellout.periodo.unique()                "
   ]
  },
  {
   "cell_type": "code",
   "execution_count": 11,
   "id": "45670a8f-3f08-497e-825f-1a33f480b8a8",
   "metadata": {},
   "outputs": [
    {
     "data": {
      "text/plain": [
       "1233"
      ]
     },
     "execution_count": 11,
     "metadata": {},
     "output_type": "execute_result"
    }
   ],
   "source": [
    "len(df_sellout.product_id.unique())          "
   ]
  },
  {
   "cell_type": "markdown",
   "id": "6fcc221a-05d8-4d45-b90a-55d61f1dec47",
   "metadata": {},
   "source": [
    "--> algunos productos no van a tener descripción"
   ]
  },
  {
   "cell_type": "code",
   "execution_count": 12,
   "id": "a86859b9-e128-402e-831a-94d43108da7d",
   "metadata": {},
   "outputs": [
    {
     "data": {
      "text/plain": [
       "597"
      ]
     },
     "execution_count": 12,
     "metadata": {},
     "output_type": "execute_result"
    }
   ],
   "source": [
    "len(df_sellout.customer_id.unique())            "
   ]
  },
  {
   "cell_type": "code",
   "execution_count": 13,
   "id": "4c04a7c4-d8f3-4005-8669-92d4a3457768",
   "metadata": {},
   "outputs": [
    {
     "data": {
      "text/plain": [
       "array([0, 1], dtype=int64)"
      ]
     },
     "execution_count": 13,
     "metadata": {},
     "output_type": "execute_result"
    }
   ],
   "source": [
    "df_sellout.plan_precios_cuidados.unique()          "
   ]
  },
  {
   "cell_type": "code",
   "execution_count": 14,
   "id": "d29c2cb2-779e-4a27-8a16-2c7829e1c672",
   "metadata": {},
   "outputs": [
    {
     "data": {
      "text/html": [
       "<div>\n",
       "<style scoped>\n",
       "    .dataframe tbody tr th:only-of-type {\n",
       "        vertical-align: middle;\n",
       "    }\n",
       "\n",
       "    .dataframe tbody tr th {\n",
       "        vertical-align: top;\n",
       "    }\n",
       "\n",
       "    .dataframe thead th {\n",
       "        text-align: right;\n",
       "    }\n",
       "</style>\n",
       "<table border=\"1\" class=\"dataframe\">\n",
       "  <thead>\n",
       "    <tr style=\"text-align: right;\">\n",
       "      <th></th>\n",
       "      <th>periodo</th>\n",
       "      <th>customer_id</th>\n",
       "      <th>product_id</th>\n",
       "      <th>plan_precios_cuidados</th>\n",
       "      <th>cust_request_qty</th>\n",
       "      <th>cust_request_tn</th>\n",
       "      <th>tn</th>\n",
       "    </tr>\n",
       "  </thead>\n",
       "  <tbody>\n",
       "  </tbody>\n",
       "</table>\n",
       "</div>"
      ],
      "text/plain": [
       "Empty DataFrame\n",
       "Columns: [periodo, customer_id, product_id, plan_precios_cuidados, cust_request_qty, cust_request_tn, tn]\n",
       "Index: []"
      ]
     },
     "execution_count": 14,
     "metadata": {},
     "output_type": "execute_result"
    }
   ],
   "source": [
    "df_sellout[df_sellout.tn==0]"
   ]
  },
  {
   "cell_type": "markdown",
   "id": "34ab1570-16de-43a7-a661-c5d14fb1e0c0",
   "metadata": {},
   "source": [
    "--> si no hay ventas, no hay registro en 0 (directamente no hay registro)"
   ]
  },
  {
   "cell_type": "code",
   "execution_count": 15,
   "id": "a8c70c9d",
   "metadata": {},
   "outputs": [
    {
     "data": {
      "text/html": [
       "<div>\n",
       "<style scoped>\n",
       "    .dataframe tbody tr th:only-of-type {\n",
       "        vertical-align: middle;\n",
       "    }\n",
       "\n",
       "    .dataframe tbody tr th {\n",
       "        vertical-align: top;\n",
       "    }\n",
       "\n",
       "    .dataframe thead th {\n",
       "        text-align: right;\n",
       "    }\n",
       "</style>\n",
       "<table border=\"1\" class=\"dataframe\">\n",
       "  <thead>\n",
       "    <tr style=\"text-align: right;\">\n",
       "      <th></th>\n",
       "      <th>periodo</th>\n",
       "      <th>customer_id</th>\n",
       "      <th>product_id</th>\n",
       "      <th>plan_precios_cuidados</th>\n",
       "      <th>cust_request_qty</th>\n",
       "      <th>cust_request_tn</th>\n",
       "      <th>tn</th>\n",
       "    </tr>\n",
       "  </thead>\n",
       "  <tbody>\n",
       "    <tr>\n",
       "      <th>0</th>\n",
       "      <td>201701</td>\n",
       "      <td>10234</td>\n",
       "      <td>20524</td>\n",
       "      <td>0</td>\n",
       "      <td>2</td>\n",
       "      <td>0.05300</td>\n",
       "      <td>0.05300</td>\n",
       "    </tr>\n",
       "    <tr>\n",
       "      <th>1</th>\n",
       "      <td>201701</td>\n",
       "      <td>10032</td>\n",
       "      <td>20524</td>\n",
       "      <td>0</td>\n",
       "      <td>1</td>\n",
       "      <td>0.13628</td>\n",
       "      <td>0.13628</td>\n",
       "    </tr>\n",
       "    <tr>\n",
       "      <th>2</th>\n",
       "      <td>201701</td>\n",
       "      <td>10217</td>\n",
       "      <td>20524</td>\n",
       "      <td>0</td>\n",
       "      <td>1</td>\n",
       "      <td>0.03028</td>\n",
       "      <td>0.03028</td>\n",
       "    </tr>\n",
       "    <tr>\n",
       "      <th>3</th>\n",
       "      <td>201701</td>\n",
       "      <td>10125</td>\n",
       "      <td>20524</td>\n",
       "      <td>0</td>\n",
       "      <td>1</td>\n",
       "      <td>0.02271</td>\n",
       "      <td>0.02271</td>\n",
       "    </tr>\n",
       "    <tr>\n",
       "      <th>4</th>\n",
       "      <td>201701</td>\n",
       "      <td>10012</td>\n",
       "      <td>20524</td>\n",
       "      <td>0</td>\n",
       "      <td>11</td>\n",
       "      <td>1.54452</td>\n",
       "      <td>1.54452</td>\n",
       "    </tr>\n",
       "  </tbody>\n",
       "</table>\n",
       "</div>"
      ],
      "text/plain": [
       "   periodo  customer_id  product_id  plan_precios_cuidados  cust_request_qty  \\\n",
       "0   201701        10234       20524                      0                 2   \n",
       "1   201701        10032       20524                      0                 1   \n",
       "2   201701        10217       20524                      0                 1   \n",
       "3   201701        10125       20524                      0                 1   \n",
       "4   201701        10012       20524                      0                11   \n",
       "\n",
       "   cust_request_tn       tn  \n",
       "0          0.05300  0.05300  \n",
       "1          0.13628  0.13628  \n",
       "2          0.03028  0.03028  \n",
       "3          0.02271  0.02271  \n",
       "4          1.54452  1.54452  "
      ]
     },
     "execution_count": 15,
     "metadata": {},
     "output_type": "execute_result"
    }
   ],
   "source": [
    "df_sellout.head()"
   ]
  },
  {
   "cell_type": "code",
   "execution_count": 16,
   "id": "f575f625-8058-48c2-b383-42fe9939bc01",
   "metadata": {},
   "outputs": [
    {
     "name": "stdout",
     "output_type": "stream",
     "text": [
      "Toneladas Total Control: 1324989.0\n"
     ]
    }
   ],
   "source": [
    "# Como control, sumo tns\n",
    "tn_suma_original = round(sum(df_sellout.tn))\n",
    "print(\"Toneladas Total Control:\", round(sum(df_sellout.tn),0))"
   ]
  },
  {
   "cell_type": "markdown",
   "id": "2abfc99a-8903-46b5-a530-5ab34f39e0cd",
   "metadata": {},
   "source": [
    "## Descarte de Productos que no hay que predecir"
   ]
  },
  {
   "cell_type": "code",
   "execution_count": 17,
   "id": "c965f03c-866a-43e5-aa22-8466794a881b",
   "metadata": {},
   "outputs": [
    {
     "name": "stdout",
     "output_type": "stream",
     "text": [
      "Vigentes: 958\n",
      "Discontinuados: 275\n",
      "     product_id  periodo\n",
      "31        20032   201902\n",
      "126       20127   201909\n",
      "173       20174   201906\n",
      "208       20210   201909\n",
      "211       20213   201908\n",
      "Menos 3 meses hist: 182\n",
      "Interseccion:  92\n",
      "Union:  365\n",
      "\n",
      "Total: 868\n"
     ]
    }
   ],
   "source": [
    "# Discontinuados (sin ventas en 3 meses mas adelante)\n",
    "product_ids_vigentes =  df_sellout[df_sellout.periodo.isin(meses_para_control_vigencia)].product_id.unique()\n",
    "print(\"Vigentes:\", len(product_ids_vigentes))\n",
    "\n",
    "product_ids_discontinuados = set(df_sellout.product_id.unique()).difference(set(product_ids_vigentes))\n",
    "print(\"Discontinuados:\", len(product_ids_discontinuados))\n",
    "\n",
    "#Sin historia suficiente (minima fecha >= 201902)\n",
    "product_ids_sin_hist_sufic = df_sellout.groupby(\"product_id\").agg({\"periodo\":\"min\"}).reset_index()\n",
    "product_ids_sin_hist_sufic = product_ids_sin_hist_sufic[product_ids_sin_hist_sufic.periodo>=tope_fecha_historia]\n",
    "print(product_ids_sin_hist_sufic.head(5))\n",
    "product_ids_sin_hist_sufic = product_ids_sin_hist_sufic.product_id.unique()\n",
    "print(\"Menos 3 meses hist:\", len(product_ids_sin_hist_sufic))\n",
    "\n",
    "#Interseccion y union\n",
    "print(\"Interseccion: \", len((set(product_ids_discontinuados).intersection(set(product_ids_sin_hist_sufic)))))\n",
    "print(\"Union: \", len((set(product_ids_discontinuados).union(set(product_ids_sin_hist_sufic)))))\n",
    "\n",
    "\n",
    "product_ids_para_predecir = set(df_sellout.product_id.unique()).difference((set(product_ids_discontinuados).union(set(product_ids_sin_hist_sufic))))\n",
    "print(\"\\nTotal:\", len(product_ids_para_predecir))"
   ]
  },
  {
   "cell_type": "code",
   "execution_count": 18,
   "id": "4efcf796-005a-4b4d-a473-471901a22cf5",
   "metadata": {},
   "outputs": [],
   "source": [
    "#Se guardan en un csv aparte\n",
    "df_prods_prediccion = pd.DataFrame(data={\"product_id\":list(product_ids_para_predecir)})\n",
    "df_prods_prediccion.to_csv(arch_prod_ids_prediccion, index=False)"
   ]
  },
  {
   "cell_type": "markdown",
   "id": "0d4165a8-f6de-4d53-a3f9-ffc8460968bc",
   "metadata": {},
   "source": [
    "## Completado de Períodos sin Ventas"
   ]
  },
  {
   "cell_type": "markdown",
   "id": "14ad81bf-00fd-4f5a-baf7-67e297952a00",
   "metadata": {},
   "source": [
    "* Los pares <cliente,producto> que no aparecen un mes van a ser completados con un registro en 0\n",
    "* Sin embargo, se completará a partir de su primer mes (y no para atrás)\n",
    "* Esto aplicará para el primer mes del cliente y del producto"
   ]
  },
  {
   "cell_type": "code",
   "execution_count": 19,
   "id": "66276e32-ceb0-4d42-9c6f-36689c69b292",
   "metadata": {},
   "outputs": [
    {
     "data": {
      "text/plain": [
       "(array([201701, 201702, 201703, 201704, 201705, 201706, 201707, 201708,\n",
       "        201709, 201710, 201711, 201712, 201801, 201802, 201803, 201804,\n",
       "        201805, 201806, 201807, 201808, 201809, 201810, 201811, 201812,\n",
       "        201901, 201902, 201903, 201904, 201905, 201906, 201907, 201908,\n",
       "        201909, 201910, 201911, 201912], dtype=int64),\n",
       " 36)"
      ]
     },
     "execution_count": 19,
     "metadata": {},
     "output_type": "execute_result"
    }
   ],
   "source": [
    "periodos = df_sellout.periodo.unique()\n",
    "cant_periodos = len(periodos)\n",
    "periodos, cant_periodos"
   ]
  },
  {
   "cell_type": "code",
   "execution_count": 20,
   "id": "af235c1d-436b-4765-917e-1f49ca6da3f6",
   "metadata": {},
   "outputs": [
    {
     "data": {
      "text/plain": [
       "1233"
      ]
     },
     "execution_count": 20,
     "metadata": {},
     "output_type": "execute_result"
    }
   ],
   "source": [
    "productos = df_sellout.product_id.unique()\n",
    "cant_productos = len(productos)\n",
    "cant_productos"
   ]
  },
  {
   "cell_type": "code",
   "execution_count": 21,
   "id": "4c336afa-265c-4544-b35e-7788a207e4ee",
   "metadata": {},
   "outputs": [
    {
     "data": {
      "text/plain": [
       "597"
      ]
     },
     "execution_count": 21,
     "metadata": {},
     "output_type": "execute_result"
    }
   ],
   "source": [
    "clientes = df_sellout.customer_id.unique()\n",
    "cant_clientes = len(clientes)\n",
    "cant_clientes"
   ]
  },
  {
   "cell_type": "code",
   "execution_count": 22,
   "id": "4bfb5198-ff40-40fc-8c70-644b2b8cc9f2",
   "metadata": {},
   "outputs": [
    {
     "data": {
      "text/plain": [
       "(2945818, 26499636)"
      ]
     },
     "execution_count": 22,
     "metadata": {},
     "output_type": "execute_result"
    }
   ],
   "source": [
    "len(df_sellout),cant_productos*cant_periodos*cant_clientes"
   ]
  },
  {
   "cell_type": "markdown",
   "id": "0c445edd-7797-4312-9ba1-85ca8b426673",
   "metadata": {},
   "source": [
    "**--> no todos los productos y clientes están en todos los períodos (2.95M vs 26.5M)**"
   ]
  },
  {
   "cell_type": "code",
   "execution_count": 23,
   "id": "66cfdc21-2236-43c2-bd2e-bfead214277a",
   "metadata": {},
   "outputs": [
    {
     "data": {
      "text/html": [
       "<div>\n",
       "<style scoped>\n",
       "    .dataframe tbody tr th:only-of-type {\n",
       "        vertical-align: middle;\n",
       "    }\n",
       "\n",
       "    .dataframe tbody tr th {\n",
       "        vertical-align: top;\n",
       "    }\n",
       "\n",
       "    .dataframe thead th {\n",
       "        text-align: right;\n",
       "    }\n",
       "</style>\n",
       "<table border=\"1\" class=\"dataframe\">\n",
       "  <thead>\n",
       "    <tr style=\"text-align: right;\">\n",
       "      <th></th>\n",
       "      <th>product_id</th>\n",
       "      <th>primer_periodo_prod</th>\n",
       "    </tr>\n",
       "  </thead>\n",
       "  <tbody>\n",
       "    <tr>\n",
       "      <th>1228</th>\n",
       "      <td>21295</td>\n",
       "      <td>201701</td>\n",
       "    </tr>\n",
       "    <tr>\n",
       "      <th>1229</th>\n",
       "      <td>21296</td>\n",
       "      <td>201708</td>\n",
       "    </tr>\n",
       "    <tr>\n",
       "      <th>1230</th>\n",
       "      <td>21297</td>\n",
       "      <td>201701</td>\n",
       "    </tr>\n",
       "    <tr>\n",
       "      <th>1231</th>\n",
       "      <td>21298</td>\n",
       "      <td>201708</td>\n",
       "    </tr>\n",
       "    <tr>\n",
       "      <th>1232</th>\n",
       "      <td>21299</td>\n",
       "      <td>201708</td>\n",
       "    </tr>\n",
       "  </tbody>\n",
       "</table>\n",
       "</div>"
      ],
      "text/plain": [
       "      product_id  primer_periodo_prod\n",
       "1228       21295               201701\n",
       "1229       21296               201708\n",
       "1230       21297               201701\n",
       "1231       21298               201708\n",
       "1232       21299               201708"
      ]
     },
     "execution_count": 23,
     "metadata": {},
     "output_type": "execute_result"
    }
   ],
   "source": [
    "# Obtengo el primer mes de cada producto\n",
    "df_primer_mes_prod = df_sellout.groupby(\"product_id\").agg({\"periodo\":\"min\"}).reset_index()\n",
    "df_primer_mes_prod = df_primer_mes_prod.rename(columns={\"periodo\":\"primer_periodo_prod\"})\n",
    "df_primer_mes_prod.tail()"
   ]
  },
  {
   "cell_type": "code",
   "execution_count": 24,
   "id": "ff717918-42a1-440a-ab03-6fc3d8dd8282",
   "metadata": {},
   "outputs": [
    {
     "data": {
      "text/html": [
       "<div>\n",
       "<style scoped>\n",
       "    .dataframe tbody tr th:only-of-type {\n",
       "        vertical-align: middle;\n",
       "    }\n",
       "\n",
       "    .dataframe tbody tr th {\n",
       "        vertical-align: top;\n",
       "    }\n",
       "\n",
       "    .dataframe thead th {\n",
       "        text-align: right;\n",
       "    }\n",
       "</style>\n",
       "<table border=\"1\" class=\"dataframe\">\n",
       "  <thead>\n",
       "    <tr style=\"text-align: right;\">\n",
       "      <th></th>\n",
       "      <th>customer_id</th>\n",
       "      <th>primer_periodo_cliente</th>\n",
       "    </tr>\n",
       "  </thead>\n",
       "  <tbody>\n",
       "    <tr>\n",
       "      <th>592</th>\n",
       "      <td>10633</td>\n",
       "      <td>201701</td>\n",
       "    </tr>\n",
       "    <tr>\n",
       "      <th>593</th>\n",
       "      <td>10634</td>\n",
       "      <td>201702</td>\n",
       "    </tr>\n",
       "    <tr>\n",
       "      <th>594</th>\n",
       "      <td>10635</td>\n",
       "      <td>201701</td>\n",
       "    </tr>\n",
       "    <tr>\n",
       "      <th>595</th>\n",
       "      <td>10636</td>\n",
       "      <td>201702</td>\n",
       "    </tr>\n",
       "    <tr>\n",
       "      <th>596</th>\n",
       "      <td>10637</td>\n",
       "      <td>201709</td>\n",
       "    </tr>\n",
       "  </tbody>\n",
       "</table>\n",
       "</div>"
      ],
      "text/plain": [
       "     customer_id  primer_periodo_cliente\n",
       "592        10633                  201701\n",
       "593        10634                  201702\n",
       "594        10635                  201701\n",
       "595        10636                  201702\n",
       "596        10637                  201709"
      ]
     },
     "execution_count": 24,
     "metadata": {},
     "output_type": "execute_result"
    }
   ],
   "source": [
    "# Obtengo el primer mes de cada cliente\n",
    "df_primer_mes_cliente = df_sellout.groupby(\"customer_id\").agg({\"periodo\":\"min\"}).reset_index()\n",
    "df_primer_mes_cliente = df_primer_mes_cliente.rename(columns={\"periodo\":\"primer_periodo_cliente\"})\n",
    "df_primer_mes_cliente.tail()"
   ]
  },
  {
   "cell_type": "code",
   "execution_count": 25,
   "id": "80670a6c-52ec-47d5-b01a-e7ada6a3396a",
   "metadata": {},
   "outputs": [
    {
     "data": {
      "text/plain": [
       "26499636"
      ]
     },
     "execution_count": 25,
     "metadata": {},
     "output_type": "execute_result"
    }
   ],
   "source": [
    "# Se va a poner 0 a todos los periodos donde el producto no se vendio\n",
    "df_cartesiano = pd.DataFrame(data={\"product_id\":productos}).merge(pd.DataFrame(data={\"periodo\":periodos}), how='cross')\n",
    "df_cartesiano = df_cartesiano.merge(pd.DataFrame(data={\"customer_id\":clientes}), how='cross')\n",
    "\n",
    "df_cartesiano[\"cero_ventas\"] = 0\n",
    "len(df_cartesiano)"
   ]
  },
  {
   "cell_type": "code",
   "execution_count": 26,
   "id": "69fc327f-5e01-45cc-a2a2-6499bca0c729",
   "metadata": {},
   "outputs": [
    {
     "name": "stdout",
     "output_type": "stream",
     "text": [
      "<class 'pandas.core.frame.DataFrame'>\n",
      "Int64Index: 26499636 entries, 0 to 26499635\n",
      "Data columns (total 4 columns):\n",
      " #   Column       Dtype\n",
      "---  ------       -----\n",
      " 0   product_id   int64\n",
      " 1   periodo      int64\n",
      " 2   customer_id  int64\n",
      " 3   cero_ventas  int64\n",
      "dtypes: int64(4)\n",
      "memory usage: 1010.9 MB\n"
     ]
    }
   ],
   "source": [
    "df_cartesiano.info()"
   ]
  },
  {
   "cell_type": "code",
   "execution_count": 27,
   "id": "ab03e3a7-6d40-4633-a794-d8136b0ebfd7",
   "metadata": {},
   "outputs": [
    {
     "data": {
      "text/html": [
       "<div>\n",
       "<style scoped>\n",
       "    .dataframe tbody tr th:only-of-type {\n",
       "        vertical-align: middle;\n",
       "    }\n",
       "\n",
       "    .dataframe tbody tr th {\n",
       "        vertical-align: top;\n",
       "    }\n",
       "\n",
       "    .dataframe thead th {\n",
       "        text-align: right;\n",
       "    }\n",
       "</style>\n",
       "<table border=\"1\" class=\"dataframe\">\n",
       "  <thead>\n",
       "    <tr style=\"text-align: right;\">\n",
       "      <th></th>\n",
       "      <th>product_id</th>\n",
       "      <th>periodo</th>\n",
       "      <th>customer_id</th>\n",
       "      <th>cero_ventas</th>\n",
       "    </tr>\n",
       "  </thead>\n",
       "  <tbody>\n",
       "    <tr>\n",
       "      <th>0</th>\n",
       "      <td>20524</td>\n",
       "      <td>201701</td>\n",
       "      <td>10234</td>\n",
       "      <td>0</td>\n",
       "    </tr>\n",
       "    <tr>\n",
       "      <th>1</th>\n",
       "      <td>20524</td>\n",
       "      <td>201701</td>\n",
       "      <td>10032</td>\n",
       "      <td>0</td>\n",
       "    </tr>\n",
       "    <tr>\n",
       "      <th>2</th>\n",
       "      <td>20524</td>\n",
       "      <td>201701</td>\n",
       "      <td>10217</td>\n",
       "      <td>0</td>\n",
       "    </tr>\n",
       "    <tr>\n",
       "      <th>3</th>\n",
       "      <td>20524</td>\n",
       "      <td>201701</td>\n",
       "      <td>10125</td>\n",
       "      <td>0</td>\n",
       "    </tr>\n",
       "    <tr>\n",
       "      <th>4</th>\n",
       "      <td>20524</td>\n",
       "      <td>201701</td>\n",
       "      <td>10012</td>\n",
       "      <td>0</td>\n",
       "    </tr>\n",
       "  </tbody>\n",
       "</table>\n",
       "</div>"
      ],
      "text/plain": [
       "   product_id  periodo  customer_id  cero_ventas\n",
       "0       20524   201701        10234            0\n",
       "1       20524   201701        10032            0\n",
       "2       20524   201701        10217            0\n",
       "3       20524   201701        10125            0\n",
       "4       20524   201701        10012            0"
      ]
     },
     "execution_count": 27,
     "metadata": {},
     "output_type": "execute_result"
    }
   ],
   "source": [
    "df_cartesiano.head()"
   ]
  },
  {
   "cell_type": "code",
   "execution_count": 28,
   "id": "0f8d7823-3c6f-40ee-9ea4-3b2a2ba4b24c",
   "metadata": {},
   "outputs": [
    {
     "data": {
      "text/plain": [
       "26499636"
      ]
     },
     "execution_count": 28,
     "metadata": {},
     "output_type": "execute_result"
    }
   ],
   "source": [
    "df_sellout_complet = df_cartesiano.merge(df_sellout, how=\"left\",on=[\"product_id\",\"customer_id\",\"periodo\"])\n",
    "len(df_sellout_complet)"
   ]
  },
  {
   "cell_type": "code",
   "execution_count": 29,
   "id": "2bcc7e0b-db53-4854-ae92-9d14645139bf",
   "metadata": {},
   "outputs": [
    {
     "data": {
      "text/html": [
       "<div>\n",
       "<style scoped>\n",
       "    .dataframe tbody tr th:only-of-type {\n",
       "        vertical-align: middle;\n",
       "    }\n",
       "\n",
       "    .dataframe tbody tr th {\n",
       "        vertical-align: top;\n",
       "    }\n",
       "\n",
       "    .dataframe thead th {\n",
       "        text-align: right;\n",
       "    }\n",
       "</style>\n",
       "<table border=\"1\" class=\"dataframe\">\n",
       "  <thead>\n",
       "    <tr style=\"text-align: right;\">\n",
       "      <th></th>\n",
       "      <th>product_id</th>\n",
       "      <th>periodo</th>\n",
       "      <th>customer_id</th>\n",
       "      <th>cero_ventas</th>\n",
       "      <th>plan_precios_cuidados</th>\n",
       "      <th>cust_request_qty</th>\n",
       "      <th>cust_request_tn</th>\n",
       "      <th>tn</th>\n",
       "    </tr>\n",
       "  </thead>\n",
       "  <tbody>\n",
       "    <tr>\n",
       "      <th>0</th>\n",
       "      <td>20524</td>\n",
       "      <td>201701</td>\n",
       "      <td>10234</td>\n",
       "      <td>0</td>\n",
       "      <td>0.0</td>\n",
       "      <td>2.0</td>\n",
       "      <td>0.05300</td>\n",
       "      <td>0.05300</td>\n",
       "    </tr>\n",
       "    <tr>\n",
       "      <th>1</th>\n",
       "      <td>20524</td>\n",
       "      <td>201701</td>\n",
       "      <td>10032</td>\n",
       "      <td>0</td>\n",
       "      <td>0.0</td>\n",
       "      <td>1.0</td>\n",
       "      <td>0.13628</td>\n",
       "      <td>0.13628</td>\n",
       "    </tr>\n",
       "    <tr>\n",
       "      <th>2</th>\n",
       "      <td>20524</td>\n",
       "      <td>201701</td>\n",
       "      <td>10217</td>\n",
       "      <td>0</td>\n",
       "      <td>0.0</td>\n",
       "      <td>1.0</td>\n",
       "      <td>0.03028</td>\n",
       "      <td>0.03028</td>\n",
       "    </tr>\n",
       "    <tr>\n",
       "      <th>3</th>\n",
       "      <td>20524</td>\n",
       "      <td>201701</td>\n",
       "      <td>10125</td>\n",
       "      <td>0</td>\n",
       "      <td>0.0</td>\n",
       "      <td>1.0</td>\n",
       "      <td>0.02271</td>\n",
       "      <td>0.02271</td>\n",
       "    </tr>\n",
       "    <tr>\n",
       "      <th>4</th>\n",
       "      <td>20524</td>\n",
       "      <td>201701</td>\n",
       "      <td>10012</td>\n",
       "      <td>0</td>\n",
       "      <td>0.0</td>\n",
       "      <td>11.0</td>\n",
       "      <td>1.54452</td>\n",
       "      <td>1.54452</td>\n",
       "    </tr>\n",
       "  </tbody>\n",
       "</table>\n",
       "</div>"
      ],
      "text/plain": [
       "   product_id  periodo  customer_id  cero_ventas  plan_precios_cuidados  \\\n",
       "0       20524   201701        10234            0                    0.0   \n",
       "1       20524   201701        10032            0                    0.0   \n",
       "2       20524   201701        10217            0                    0.0   \n",
       "3       20524   201701        10125            0                    0.0   \n",
       "4       20524   201701        10012            0                    0.0   \n",
       "\n",
       "   cust_request_qty  cust_request_tn       tn  \n",
       "0               2.0          0.05300  0.05300  \n",
       "1               1.0          0.13628  0.13628  \n",
       "2               1.0          0.03028  0.03028  \n",
       "3               1.0          0.02271  0.02271  \n",
       "4              11.0          1.54452  1.54452  "
      ]
     },
     "execution_count": 29,
     "metadata": {},
     "output_type": "execute_result"
    }
   ],
   "source": [
    "df_sellout_complet.head()"
   ]
  },
  {
   "cell_type": "code",
   "execution_count": 30,
   "id": "7537a9f8-8f05-407a-9780-e4103c61d5d1",
   "metadata": {},
   "outputs": [
    {
     "data": {
      "text/plain": [
       "product_id                      0\n",
       "periodo                         0\n",
       "customer_id                     0\n",
       "cero_ventas                     0\n",
       "plan_precios_cuidados    23553818\n",
       "cust_request_qty         23553818\n",
       "cust_request_tn          23553818\n",
       "tn                       23553818\n",
       "dtype: int64"
      ]
     },
     "execution_count": 30,
     "metadata": {},
     "output_type": "execute_result"
    }
   ],
   "source": [
    "df_sellout_complet.isna().sum()"
   ]
  },
  {
   "cell_type": "code",
   "execution_count": 31,
   "id": "0662f982-f93c-4f9a-80a6-30fc1aa9951e",
   "metadata": {},
   "outputs": [],
   "source": [
    "# Imputo\n",
    "df_sellout_complet.cero_ventas = np.where(df_sellout_complet.tn.isna(),1,0)\n",
    "df_sellout_complet.tn = np.where(df_sellout_complet.cero_ventas==1,0,df_sellout_complet.tn)\n",
    "df_sellout_complet.cust_request_tn = np.where(df_sellout_complet.cero_ventas==1,0,df_sellout_complet.cust_request_tn)\n",
    "df_sellout_complet.cust_request_qty = np.where(df_sellout_complet.cero_ventas==1,0,df_sellout_complet.cust_request_qty)\n",
    "df_sellout_complet.plan_precios_cuidados = np.where(df_sellout_complet.cero_ventas==1,0,df_sellout_complet.plan_precios_cuidados)"
   ]
  },
  {
   "cell_type": "code",
   "execution_count": 32,
   "id": "d5be5ae9-6ad0-4d13-9437-cc428dbef816",
   "metadata": {},
   "outputs": [
    {
     "data": {
      "text/plain": [
       "product_id               0\n",
       "periodo                  0\n",
       "customer_id              0\n",
       "cero_ventas              0\n",
       "plan_precios_cuidados    0\n",
       "cust_request_qty         0\n",
       "cust_request_tn          0\n",
       "tn                       0\n",
       "dtype: int64"
      ]
     },
     "execution_count": 32,
     "metadata": {},
     "output_type": "execute_result"
    }
   ],
   "source": [
    "df_sellout_complet.isna().sum()"
   ]
  },
  {
   "cell_type": "code",
   "execution_count": 33,
   "id": "137762e9-f7c2-4584-8e67-6973848ce936",
   "metadata": {},
   "outputs": [
    {
     "data": {
      "text/plain": [
       "(23553818, 23553818)"
      ]
     },
     "execution_count": 33,
     "metadata": {},
     "output_type": "execute_result"
    }
   ],
   "source": [
    "df_sellout_complet.cero_ventas.sum(),len(df_cartesiano)-len(df_sellout)"
   ]
  },
  {
   "cell_type": "code",
   "execution_count": 34,
   "id": "a846132c-c2e2-45dc-861e-58c90b0c7cdc",
   "metadata": {},
   "outputs": [
    {
     "name": "stdout",
     "output_type": "stream",
     "text": [
      "26499636\n",
      "26499636\n"
     ]
    }
   ],
   "source": [
    "# Ahora, cruzo con el primer mes (para luego borrar aquellos registros previos al primer mes de datos)\n",
    "print(len(df_sellout_complet))\n",
    "df_sellout_complet_desde_1er_mes = df_sellout_complet.merge(df_primer_mes_prod,on=\"product_id\",how=\"inner\")\n",
    "df_sellout_complet_desde_1er_mes = df_sellout_complet_desde_1er_mes.merge(df_primer_mes_cliente,on=\"customer_id\",how=\"inner\")\n",
    "print(len(df_sellout_complet_desde_1er_mes))"
   ]
  },
  {
   "cell_type": "code",
   "execution_count": 35,
   "id": "3b83a49e-bfd9-4a07-8d5b-a5df0510072d",
   "metadata": {},
   "outputs": [
    {
     "name": "stdout",
     "output_type": "stream",
     "text": [
      "19639107\n"
     ]
    },
    {
     "data": {
      "text/html": [
       "<div>\n",
       "<style scoped>\n",
       "    .dataframe tbody tr th:only-of-type {\n",
       "        vertical-align: middle;\n",
       "    }\n",
       "\n",
       "    .dataframe tbody tr th {\n",
       "        vertical-align: top;\n",
       "    }\n",
       "\n",
       "    .dataframe thead th {\n",
       "        text-align: right;\n",
       "    }\n",
       "</style>\n",
       "<table border=\"1\" class=\"dataframe\">\n",
       "  <thead>\n",
       "    <tr style=\"text-align: right;\">\n",
       "      <th></th>\n",
       "      <th>product_id</th>\n",
       "      <th>periodo</th>\n",
       "      <th>customer_id</th>\n",
       "      <th>cero_ventas</th>\n",
       "      <th>plan_precios_cuidados</th>\n",
       "      <th>cust_request_qty</th>\n",
       "      <th>cust_request_tn</th>\n",
       "      <th>tn</th>\n",
       "      <th>primer_periodo_prod</th>\n",
       "      <th>primer_periodo_cliente</th>\n",
       "    </tr>\n",
       "  </thead>\n",
       "  <tbody>\n",
       "    <tr>\n",
       "      <th>26499311</th>\n",
       "      <td>20992</td>\n",
       "      <td>201912</td>\n",
       "      <td>10572</td>\n",
       "      <td>1</td>\n",
       "      <td>0.0</td>\n",
       "      <td>0.0</td>\n",
       "      <td>0.0</td>\n",
       "      <td>0.0</td>\n",
       "      <td>201910</td>\n",
       "      <td>201912</td>\n",
       "    </tr>\n",
       "    <tr>\n",
       "      <th>26499347</th>\n",
       "      <td>21018</td>\n",
       "      <td>201912</td>\n",
       "      <td>10572</td>\n",
       "      <td>1</td>\n",
       "      <td>0.0</td>\n",
       "      <td>0.0</td>\n",
       "      <td>0.0</td>\n",
       "      <td>0.0</td>\n",
       "      <td>201910</td>\n",
       "      <td>201912</td>\n",
       "    </tr>\n",
       "    <tr>\n",
       "      <th>26499383</th>\n",
       "      <td>20993</td>\n",
       "      <td>201912</td>\n",
       "      <td>10572</td>\n",
       "      <td>1</td>\n",
       "      <td>0.0</td>\n",
       "      <td>0.0</td>\n",
       "      <td>0.0</td>\n",
       "      <td>0.0</td>\n",
       "      <td>201910</td>\n",
       "      <td>201912</td>\n",
       "    </tr>\n",
       "    <tr>\n",
       "      <th>26499419</th>\n",
       "      <td>20764</td>\n",
       "      <td>201912</td>\n",
       "      <td>10572</td>\n",
       "      <td>1</td>\n",
       "      <td>0.0</td>\n",
       "      <td>0.0</td>\n",
       "      <td>0.0</td>\n",
       "      <td>0.0</td>\n",
       "      <td>201910</td>\n",
       "      <td>201912</td>\n",
       "    </tr>\n",
       "    <tr>\n",
       "      <th>26499455</th>\n",
       "      <td>21026</td>\n",
       "      <td>201912</td>\n",
       "      <td>10572</td>\n",
       "      <td>1</td>\n",
       "      <td>0.0</td>\n",
       "      <td>0.0</td>\n",
       "      <td>0.0</td>\n",
       "      <td>0.0</td>\n",
       "      <td>201910</td>\n",
       "      <td>201912</td>\n",
       "    </tr>\n",
       "    <tr>\n",
       "      <th>26499491</th>\n",
       "      <td>21054</td>\n",
       "      <td>201912</td>\n",
       "      <td>10572</td>\n",
       "      <td>1</td>\n",
       "      <td>0.0</td>\n",
       "      <td>0.0</td>\n",
       "      <td>0.0</td>\n",
       "      <td>0.0</td>\n",
       "      <td>201910</td>\n",
       "      <td>201912</td>\n",
       "    </tr>\n",
       "    <tr>\n",
       "      <th>26499527</th>\n",
       "      <td>20728</td>\n",
       "      <td>201912</td>\n",
       "      <td>10572</td>\n",
       "      <td>1</td>\n",
       "      <td>0.0</td>\n",
       "      <td>0.0</td>\n",
       "      <td>0.0</td>\n",
       "      <td>0.0</td>\n",
       "      <td>201911</td>\n",
       "      <td>201912</td>\n",
       "    </tr>\n",
       "    <tr>\n",
       "      <th>26499563</th>\n",
       "      <td>20792</td>\n",
       "      <td>201912</td>\n",
       "      <td>10572</td>\n",
       "      <td>1</td>\n",
       "      <td>0.0</td>\n",
       "      <td>0.0</td>\n",
       "      <td>0.0</td>\n",
       "      <td>0.0</td>\n",
       "      <td>201912</td>\n",
       "      <td>201912</td>\n",
       "    </tr>\n",
       "    <tr>\n",
       "      <th>26499599</th>\n",
       "      <td>20854</td>\n",
       "      <td>201912</td>\n",
       "      <td>10572</td>\n",
       "      <td>1</td>\n",
       "      <td>0.0</td>\n",
       "      <td>0.0</td>\n",
       "      <td>0.0</td>\n",
       "      <td>0.0</td>\n",
       "      <td>201912</td>\n",
       "      <td>201912</td>\n",
       "    </tr>\n",
       "    <tr>\n",
       "      <th>26499635</th>\n",
       "      <td>20770</td>\n",
       "      <td>201912</td>\n",
       "      <td>10572</td>\n",
       "      <td>1</td>\n",
       "      <td>0.0</td>\n",
       "      <td>0.0</td>\n",
       "      <td>0.0</td>\n",
       "      <td>0.0</td>\n",
       "      <td>201912</td>\n",
       "      <td>201912</td>\n",
       "    </tr>\n",
       "  </tbody>\n",
       "</table>\n",
       "</div>"
      ],
      "text/plain": [
       "          product_id  periodo  customer_id  cero_ventas  \\\n",
       "26499311       20992   201912        10572            1   \n",
       "26499347       21018   201912        10572            1   \n",
       "26499383       20993   201912        10572            1   \n",
       "26499419       20764   201912        10572            1   \n",
       "26499455       21026   201912        10572            1   \n",
       "26499491       21054   201912        10572            1   \n",
       "26499527       20728   201912        10572            1   \n",
       "26499563       20792   201912        10572            1   \n",
       "26499599       20854   201912        10572            1   \n",
       "26499635       20770   201912        10572            1   \n",
       "\n",
       "          plan_precios_cuidados  cust_request_qty  cust_request_tn   tn  \\\n",
       "26499311                    0.0               0.0              0.0  0.0   \n",
       "26499347                    0.0               0.0              0.0  0.0   \n",
       "26499383                    0.0               0.0              0.0  0.0   \n",
       "26499419                    0.0               0.0              0.0  0.0   \n",
       "26499455                    0.0               0.0              0.0  0.0   \n",
       "26499491                    0.0               0.0              0.0  0.0   \n",
       "26499527                    0.0               0.0              0.0  0.0   \n",
       "26499563                    0.0               0.0              0.0  0.0   \n",
       "26499599                    0.0               0.0              0.0  0.0   \n",
       "26499635                    0.0               0.0              0.0  0.0   \n",
       "\n",
       "          primer_periodo_prod  primer_periodo_cliente  \n",
       "26499311               201910                  201912  \n",
       "26499347               201910                  201912  \n",
       "26499383               201910                  201912  \n",
       "26499419               201910                  201912  \n",
       "26499455               201910                  201912  \n",
       "26499491               201910                  201912  \n",
       "26499527               201911                  201912  \n",
       "26499563               201912                  201912  \n",
       "26499599               201912                  201912  \n",
       "26499635               201912                  201912  "
      ]
     },
     "execution_count": 35,
     "metadata": {},
     "output_type": "execute_result"
    }
   ],
   "source": [
    "# Borro los previos al primer mes\n",
    "df_sellout_complet_desde_1er_mes = df_sellout_complet_desde_1er_mes[(df_sellout_complet_desde_1er_mes.periodo >= df_sellout_complet_desde_1er_mes.primer_periodo_prod) & (df_sellout_complet_desde_1er_mes.periodo >= df_sellout_complet_desde_1er_mes.primer_periodo_cliente)]\n",
    "\n",
    "print(len(df_sellout_complet_desde_1er_mes))\n",
    "df_sellout_complet_desde_1er_mes.tail(10)"
   ]
  },
  {
   "cell_type": "markdown",
   "id": "27e49555-b297-4265-bbb7-153b48f84bca",
   "metadata": {},
   "source": [
    "--> **Quedan 19.6M de registros**"
   ]
  },
  {
   "cell_type": "code",
   "execution_count": 36,
   "id": "727707c7-ef3b-4286-8f34-15e9ff99b6a0",
   "metadata": {
    "tags": []
   },
   "outputs": [
    {
     "name": "stderr",
     "output_type": "stream",
     "text": [
      "\n",
      "KeyboardInterrupt\n",
      "\n"
     ]
    }
   ],
   "source": [
    "df_sellout_complet_desde_1er_mes['periodo_fecha'] = pd.to_datetime(df_sellout_complet_desde_1er_mes['periodo'], format='%Y%m')\n",
    "\n",
    "# Se agrega una variable que tenga el mes y tambien la cantidad de meses de historia del producto\n",
    "df_sellout_complet_desde_1er_mes[\"mes\"] = pd.DatetimeIndex(df_sellout_complet_desde_1er_mes.periodo_fecha).month\n",
    "df_sellout_complet_desde_1er_mes['primer_periodo_fecha_prod'] = pd.to_datetime(df_sellout_complet_desde_1er_mes['primer_periodo_prod'], format='%Y%m')\n",
    "df_sellout_complet_desde_1er_mes[\"meses_historia_prod\"]=df_sellout_complet_desde_1er_mes.apply(lambda row: diferencia_meses(row[\"periodo_fecha\"],row[\"primer_periodo_fecha_prod\"]),axis=1)\n",
    "df_sellout_complet_desde_1er_mes['primer_periodo_fecha_cliente'] = pd.to_datetime(df_sellout_complet_desde_1er_mes['primer_periodo_cliente'], format='%Y%m')\n",
    "df_sellout_complet_desde_1er_mes[\"meses_historia_cliente\"]=df_sellout_complet_desde_1er_mes.apply(lambda row: diferencia_meses(row[\"periodo_fecha\"],row[\"primer_periodo_fecha_cliente\"]),axis=1)\n",
    "\n",
    "# Dejo unicamente las columnas de meses_historia\n",
    "df_sellout_complet_desde_1er_mes = df_sellout_complet_desde_1er_mes.drop(columns=[\"primer_periodo_prod\",\"primer_periodo_cliente\",\"primer_periodo_fecha_prod\",\"primer_periodo_fecha_cliente\"])"
   ]
  },
  {
   "cell_type": "code",
   "execution_count": 37,
   "id": "b8384178-6b22-47c8-8fca-461d7b3085c6",
   "metadata": {},
   "outputs": [
    {
     "data": {
      "text/html": [
       "<div>\n",
       "<style scoped>\n",
       "    .dataframe tbody tr th:only-of-type {\n",
       "        vertical-align: middle;\n",
       "    }\n",
       "\n",
       "    .dataframe tbody tr th {\n",
       "        vertical-align: top;\n",
       "    }\n",
       "\n",
       "    .dataframe thead th {\n",
       "        text-align: right;\n",
       "    }\n",
       "</style>\n",
       "<table border=\"1\" class=\"dataframe\">\n",
       "  <thead>\n",
       "    <tr style=\"text-align: right;\">\n",
       "      <th></th>\n",
       "      <th>product_id</th>\n",
       "      <th>periodo</th>\n",
       "      <th>customer_id</th>\n",
       "      <th>cero_ventas</th>\n",
       "      <th>plan_precios_cuidados</th>\n",
       "      <th>cust_request_qty</th>\n",
       "      <th>cust_request_tn</th>\n",
       "      <th>tn</th>\n",
       "      <th>primer_periodo_prod</th>\n",
       "      <th>primer_periodo_cliente</th>\n",
       "      <th>periodo_fecha</th>\n",
       "      <th>mes</th>\n",
       "      <th>primer_periodo_fecha_prod</th>\n",
       "    </tr>\n",
       "  </thead>\n",
       "  <tbody>\n",
       "    <tr>\n",
       "      <th>0</th>\n",
       "      <td>20524</td>\n",
       "      <td>201701</td>\n",
       "      <td>10234</td>\n",
       "      <td>0</td>\n",
       "      <td>0.0</td>\n",
       "      <td>2.0</td>\n",
       "      <td>0.05300</td>\n",
       "      <td>0.05300</td>\n",
       "      <td>201701</td>\n",
       "      <td>201701</td>\n",
       "      <td>2017-01-01</td>\n",
       "      <td>1</td>\n",
       "      <td>2017-01-01</td>\n",
       "    </tr>\n",
       "    <tr>\n",
       "      <th>1</th>\n",
       "      <td>20524</td>\n",
       "      <td>201702</td>\n",
       "      <td>10234</td>\n",
       "      <td>1</td>\n",
       "      <td>0.0</td>\n",
       "      <td>0.0</td>\n",
       "      <td>0.00000</td>\n",
       "      <td>0.00000</td>\n",
       "      <td>201701</td>\n",
       "      <td>201701</td>\n",
       "      <td>2017-02-01</td>\n",
       "      <td>2</td>\n",
       "      <td>2017-01-01</td>\n",
       "    </tr>\n",
       "    <tr>\n",
       "      <th>2</th>\n",
       "      <td>20524</td>\n",
       "      <td>201703</td>\n",
       "      <td>10234</td>\n",
       "      <td>0</td>\n",
       "      <td>0.0</td>\n",
       "      <td>1.0</td>\n",
       "      <td>0.01514</td>\n",
       "      <td>0.01514</td>\n",
       "      <td>201701</td>\n",
       "      <td>201701</td>\n",
       "      <td>2017-03-01</td>\n",
       "      <td>3</td>\n",
       "      <td>2017-01-01</td>\n",
       "    </tr>\n",
       "    <tr>\n",
       "      <th>3</th>\n",
       "      <td>20524</td>\n",
       "      <td>201704</td>\n",
       "      <td>10234</td>\n",
       "      <td>1</td>\n",
       "      <td>0.0</td>\n",
       "      <td>0.0</td>\n",
       "      <td>0.00000</td>\n",
       "      <td>0.00000</td>\n",
       "      <td>201701</td>\n",
       "      <td>201701</td>\n",
       "      <td>2017-04-01</td>\n",
       "      <td>4</td>\n",
       "      <td>2017-01-01</td>\n",
       "    </tr>\n",
       "    <tr>\n",
       "      <th>4</th>\n",
       "      <td>20524</td>\n",
       "      <td>201705</td>\n",
       "      <td>10234</td>\n",
       "      <td>1</td>\n",
       "      <td>0.0</td>\n",
       "      <td>0.0</td>\n",
       "      <td>0.00000</td>\n",
       "      <td>0.00000</td>\n",
       "      <td>201701</td>\n",
       "      <td>201701</td>\n",
       "      <td>2017-05-01</td>\n",
       "      <td>5</td>\n",
       "      <td>2017-01-01</td>\n",
       "    </tr>\n",
       "    <tr>\n",
       "      <th>5</th>\n",
       "      <td>20524</td>\n",
       "      <td>201706</td>\n",
       "      <td>10234</td>\n",
       "      <td>0</td>\n",
       "      <td>0.0</td>\n",
       "      <td>1.0</td>\n",
       "      <td>0.03786</td>\n",
       "      <td>0.03786</td>\n",
       "      <td>201701</td>\n",
       "      <td>201701</td>\n",
       "      <td>2017-06-01</td>\n",
       "      <td>6</td>\n",
       "      <td>2017-01-01</td>\n",
       "    </tr>\n",
       "    <tr>\n",
       "      <th>6</th>\n",
       "      <td>20524</td>\n",
       "      <td>201707</td>\n",
       "      <td>10234</td>\n",
       "      <td>1</td>\n",
       "      <td>0.0</td>\n",
       "      <td>0.0</td>\n",
       "      <td>0.00000</td>\n",
       "      <td>0.00000</td>\n",
       "      <td>201701</td>\n",
       "      <td>201701</td>\n",
       "      <td>2017-07-01</td>\n",
       "      <td>7</td>\n",
       "      <td>2017-01-01</td>\n",
       "    </tr>\n",
       "    <tr>\n",
       "      <th>7</th>\n",
       "      <td>20524</td>\n",
       "      <td>201708</td>\n",
       "      <td>10234</td>\n",
       "      <td>1</td>\n",
       "      <td>0.0</td>\n",
       "      <td>0.0</td>\n",
       "      <td>0.00000</td>\n",
       "      <td>0.00000</td>\n",
       "      <td>201701</td>\n",
       "      <td>201701</td>\n",
       "      <td>2017-08-01</td>\n",
       "      <td>8</td>\n",
       "      <td>2017-01-01</td>\n",
       "    </tr>\n",
       "    <tr>\n",
       "      <th>8</th>\n",
       "      <td>20524</td>\n",
       "      <td>201709</td>\n",
       "      <td>10234</td>\n",
       "      <td>1</td>\n",
       "      <td>0.0</td>\n",
       "      <td>0.0</td>\n",
       "      <td>0.00000</td>\n",
       "      <td>0.00000</td>\n",
       "      <td>201701</td>\n",
       "      <td>201701</td>\n",
       "      <td>2017-09-01</td>\n",
       "      <td>9</td>\n",
       "      <td>2017-01-01</td>\n",
       "    </tr>\n",
       "    <tr>\n",
       "      <th>9</th>\n",
       "      <td>20524</td>\n",
       "      <td>201710</td>\n",
       "      <td>10234</td>\n",
       "      <td>1</td>\n",
       "      <td>0.0</td>\n",
       "      <td>0.0</td>\n",
       "      <td>0.00000</td>\n",
       "      <td>0.00000</td>\n",
       "      <td>201701</td>\n",
       "      <td>201701</td>\n",
       "      <td>2017-10-01</td>\n",
       "      <td>10</td>\n",
       "      <td>2017-01-01</td>\n",
       "    </tr>\n",
       "  </tbody>\n",
       "</table>\n",
       "</div>"
      ],
      "text/plain": [
       "   product_id  periodo  customer_id  cero_ventas  plan_precios_cuidados  \\\n",
       "0       20524   201701        10234            0                    0.0   \n",
       "1       20524   201702        10234            1                    0.0   \n",
       "2       20524   201703        10234            0                    0.0   \n",
       "3       20524   201704        10234            1                    0.0   \n",
       "4       20524   201705        10234            1                    0.0   \n",
       "5       20524   201706        10234            0                    0.0   \n",
       "6       20524   201707        10234            1                    0.0   \n",
       "7       20524   201708        10234            1                    0.0   \n",
       "8       20524   201709        10234            1                    0.0   \n",
       "9       20524   201710        10234            1                    0.0   \n",
       "\n",
       "   cust_request_qty  cust_request_tn       tn  primer_periodo_prod  \\\n",
       "0               2.0          0.05300  0.05300               201701   \n",
       "1               0.0          0.00000  0.00000               201701   \n",
       "2               1.0          0.01514  0.01514               201701   \n",
       "3               0.0          0.00000  0.00000               201701   \n",
       "4               0.0          0.00000  0.00000               201701   \n",
       "5               1.0          0.03786  0.03786               201701   \n",
       "6               0.0          0.00000  0.00000               201701   \n",
       "7               0.0          0.00000  0.00000               201701   \n",
       "8               0.0          0.00000  0.00000               201701   \n",
       "9               0.0          0.00000  0.00000               201701   \n",
       "\n",
       "   primer_periodo_cliente periodo_fecha  mes primer_periodo_fecha_prod  \n",
       "0                  201701    2017-01-01    1                2017-01-01  \n",
       "1                  201701    2017-02-01    2                2017-01-01  \n",
       "2                  201701    2017-03-01    3                2017-01-01  \n",
       "3                  201701    2017-04-01    4                2017-01-01  \n",
       "4                  201701    2017-05-01    5                2017-01-01  \n",
       "5                  201701    2017-06-01    6                2017-01-01  \n",
       "6                  201701    2017-07-01    7                2017-01-01  \n",
       "7                  201701    2017-08-01    8                2017-01-01  \n",
       "8                  201701    2017-09-01    9                2017-01-01  \n",
       "9                  201701    2017-10-01   10                2017-01-01  "
      ]
     },
     "execution_count": 37,
     "metadata": {},
     "output_type": "execute_result"
    }
   ],
   "source": [
    "df_sellout_complet_desde_1er_mes.head(10)"
   ]
  },
  {
   "cell_type": "markdown",
   "id": "a2ee5067-be9c-4727-bb2c-c85974e6942f",
   "metadata": {},
   "source": [
    "### Comprobación de casos puntuales"
   ]
  },
  {
   "cell_type": "code",
   "execution_count": 38,
   "id": "24695b7c-a1ae-4a22-b126-c7c31f59f4e3",
   "metadata": {},
   "outputs": [
    {
     "data": {
      "text/html": [
       "<div>\n",
       "<style scoped>\n",
       "    .dataframe tbody tr th:only-of-type {\n",
       "        vertical-align: middle;\n",
       "    }\n",
       "\n",
       "    .dataframe tbody tr th {\n",
       "        vertical-align: top;\n",
       "    }\n",
       "\n",
       "    .dataframe thead th {\n",
       "        text-align: right;\n",
       "    }\n",
       "</style>\n",
       "<table border=\"1\" class=\"dataframe\">\n",
       "  <thead>\n",
       "    <tr style=\"text-align: right;\">\n",
       "      <th></th>\n",
       "      <th>periodo</th>\n",
       "      <th>customer_id</th>\n",
       "      <th>product_id</th>\n",
       "      <th>plan_precios_cuidados</th>\n",
       "      <th>cust_request_qty</th>\n",
       "      <th>cust_request_tn</th>\n",
       "      <th>tn</th>\n",
       "    </tr>\n",
       "  </thead>\n",
       "  <tbody>\n",
       "    <tr>\n",
       "      <th>776913</th>\n",
       "      <td>201709</td>\n",
       "      <td>10637</td>\n",
       "      <td>20741</td>\n",
       "      <td>0</td>\n",
       "      <td>1</td>\n",
       "      <td>0.00144</td>\n",
       "      <td>0.00144</td>\n",
       "    </tr>\n",
       "  </tbody>\n",
       "</table>\n",
       "</div>"
      ],
      "text/plain": [
       "        periodo  customer_id  product_id  plan_precios_cuidados  \\\n",
       "776913   201709        10637       20741                      0   \n",
       "\n",
       "        cust_request_qty  cust_request_tn       tn  \n",
       "776913                 1          0.00144  0.00144  "
      ]
     },
     "execution_count": 38,
     "metadata": {},
     "output_type": "execute_result"
    }
   ],
   "source": [
    "df_sellout[(df_sellout.customer_id==10637)&(df_sellout.product_id==20741)]"
   ]
  },
  {
   "cell_type": "code",
   "execution_count": 39,
   "id": "47e46d5e-f981-473d-b771-e5ed0e90c9e1",
   "metadata": {},
   "outputs": [
    {
     "data": {
      "text/plain": [
       "201709"
      ]
     },
     "execution_count": 39,
     "metadata": {},
     "output_type": "execute_result"
    }
   ],
   "source": [
    "df_sellout[(df_sellout.customer_id==10637)].periodo.min()"
   ]
  },
  {
   "cell_type": "code",
   "execution_count": 40,
   "id": "eeb85311-f0cc-46af-9e48-ceeb807d97f8",
   "metadata": {},
   "outputs": [
    {
     "data": {
      "text/plain": [
       "201708"
      ]
     },
     "execution_count": 40,
     "metadata": {},
     "output_type": "execute_result"
    }
   ],
   "source": [
    "df_sellout[(df_sellout.product_id==20741)].periodo.min()"
   ]
  },
  {
   "cell_type": "code",
   "execution_count": 41,
   "id": "d56e28ab-455c-462b-a66d-5c70b9964879",
   "metadata": {},
   "outputs": [
    {
     "data": {
      "text/html": [
       "<div>\n",
       "<style scoped>\n",
       "    .dataframe tbody tr th:only-of-type {\n",
       "        vertical-align: middle;\n",
       "    }\n",
       "\n",
       "    .dataframe tbody tr th {\n",
       "        vertical-align: top;\n",
       "    }\n",
       "\n",
       "    .dataframe thead th {\n",
       "        text-align: right;\n",
       "    }\n",
       "</style>\n",
       "<table border=\"1\" class=\"dataframe\">\n",
       "  <thead>\n",
       "    <tr style=\"text-align: right;\">\n",
       "      <th></th>\n",
       "      <th>product_id</th>\n",
       "      <th>periodo</th>\n",
       "      <th>customer_id</th>\n",
       "      <th>cero_ventas</th>\n",
       "      <th>plan_precios_cuidados</th>\n",
       "      <th>cust_request_qty</th>\n",
       "      <th>cust_request_tn</th>\n",
       "      <th>tn</th>\n",
       "      <th>primer_periodo_prod</th>\n",
       "      <th>primer_periodo_cliente</th>\n",
       "      <th>periodo_fecha</th>\n",
       "      <th>mes</th>\n",
       "      <th>primer_periodo_fecha_prod</th>\n",
       "    </tr>\n",
       "  </thead>\n",
       "  <tbody>\n",
       "    <tr>\n",
       "      <th>23290748</th>\n",
       "      <td>20741</td>\n",
       "      <td>201709</td>\n",
       "      <td>10637</td>\n",
       "      <td>0</td>\n",
       "      <td>0.0</td>\n",
       "      <td>1.0</td>\n",
       "      <td>0.00144</td>\n",
       "      <td>0.00144</td>\n",
       "      <td>201708</td>\n",
       "      <td>201709</td>\n",
       "      <td>2017-09-01</td>\n",
       "      <td>9</td>\n",
       "      <td>2017-08-01</td>\n",
       "    </tr>\n",
       "    <tr>\n",
       "      <th>23290749</th>\n",
       "      <td>20741</td>\n",
       "      <td>201710</td>\n",
       "      <td>10637</td>\n",
       "      <td>1</td>\n",
       "      <td>0.0</td>\n",
       "      <td>0.0</td>\n",
       "      <td>0.00000</td>\n",
       "      <td>0.00000</td>\n",
       "      <td>201708</td>\n",
       "      <td>201709</td>\n",
       "      <td>2017-10-01</td>\n",
       "      <td>10</td>\n",
       "      <td>2017-08-01</td>\n",
       "    </tr>\n",
       "    <tr>\n",
       "      <th>23290750</th>\n",
       "      <td>20741</td>\n",
       "      <td>201711</td>\n",
       "      <td>10637</td>\n",
       "      <td>1</td>\n",
       "      <td>0.0</td>\n",
       "      <td>0.0</td>\n",
       "      <td>0.00000</td>\n",
       "      <td>0.00000</td>\n",
       "      <td>201708</td>\n",
       "      <td>201709</td>\n",
       "      <td>2017-11-01</td>\n",
       "      <td>11</td>\n",
       "      <td>2017-08-01</td>\n",
       "    </tr>\n",
       "    <tr>\n",
       "      <th>23290751</th>\n",
       "      <td>20741</td>\n",
       "      <td>201712</td>\n",
       "      <td>10637</td>\n",
       "      <td>1</td>\n",
       "      <td>0.0</td>\n",
       "      <td>0.0</td>\n",
       "      <td>0.00000</td>\n",
       "      <td>0.00000</td>\n",
       "      <td>201708</td>\n",
       "      <td>201709</td>\n",
       "      <td>2017-12-01</td>\n",
       "      <td>12</td>\n",
       "      <td>2017-08-01</td>\n",
       "    </tr>\n",
       "    <tr>\n",
       "      <th>23290752</th>\n",
       "      <td>20741</td>\n",
       "      <td>201801</td>\n",
       "      <td>10637</td>\n",
       "      <td>1</td>\n",
       "      <td>0.0</td>\n",
       "      <td>0.0</td>\n",
       "      <td>0.00000</td>\n",
       "      <td>0.00000</td>\n",
       "      <td>201708</td>\n",
       "      <td>201709</td>\n",
       "      <td>2018-01-01</td>\n",
       "      <td>1</td>\n",
       "      <td>2017-08-01</td>\n",
       "    </tr>\n",
       "    <tr>\n",
       "      <th>23290753</th>\n",
       "      <td>20741</td>\n",
       "      <td>201802</td>\n",
       "      <td>10637</td>\n",
       "      <td>1</td>\n",
       "      <td>0.0</td>\n",
       "      <td>0.0</td>\n",
       "      <td>0.00000</td>\n",
       "      <td>0.00000</td>\n",
       "      <td>201708</td>\n",
       "      <td>201709</td>\n",
       "      <td>2018-02-01</td>\n",
       "      <td>2</td>\n",
       "      <td>2017-08-01</td>\n",
       "    </tr>\n",
       "    <tr>\n",
       "      <th>23290754</th>\n",
       "      <td>20741</td>\n",
       "      <td>201803</td>\n",
       "      <td>10637</td>\n",
       "      <td>1</td>\n",
       "      <td>0.0</td>\n",
       "      <td>0.0</td>\n",
       "      <td>0.00000</td>\n",
       "      <td>0.00000</td>\n",
       "      <td>201708</td>\n",
       "      <td>201709</td>\n",
       "      <td>2018-03-01</td>\n",
       "      <td>3</td>\n",
       "      <td>2017-08-01</td>\n",
       "    </tr>\n",
       "    <tr>\n",
       "      <th>23290755</th>\n",
       "      <td>20741</td>\n",
       "      <td>201804</td>\n",
       "      <td>10637</td>\n",
       "      <td>1</td>\n",
       "      <td>0.0</td>\n",
       "      <td>0.0</td>\n",
       "      <td>0.00000</td>\n",
       "      <td>0.00000</td>\n",
       "      <td>201708</td>\n",
       "      <td>201709</td>\n",
       "      <td>2018-04-01</td>\n",
       "      <td>4</td>\n",
       "      <td>2017-08-01</td>\n",
       "    </tr>\n",
       "    <tr>\n",
       "      <th>23290756</th>\n",
       "      <td>20741</td>\n",
       "      <td>201805</td>\n",
       "      <td>10637</td>\n",
       "      <td>1</td>\n",
       "      <td>0.0</td>\n",
       "      <td>0.0</td>\n",
       "      <td>0.00000</td>\n",
       "      <td>0.00000</td>\n",
       "      <td>201708</td>\n",
       "      <td>201709</td>\n",
       "      <td>2018-05-01</td>\n",
       "      <td>5</td>\n",
       "      <td>2017-08-01</td>\n",
       "    </tr>\n",
       "    <tr>\n",
       "      <th>23290757</th>\n",
       "      <td>20741</td>\n",
       "      <td>201806</td>\n",
       "      <td>10637</td>\n",
       "      <td>1</td>\n",
       "      <td>0.0</td>\n",
       "      <td>0.0</td>\n",
       "      <td>0.00000</td>\n",
       "      <td>0.00000</td>\n",
       "      <td>201708</td>\n",
       "      <td>201709</td>\n",
       "      <td>2018-06-01</td>\n",
       "      <td>6</td>\n",
       "      <td>2017-08-01</td>\n",
       "    </tr>\n",
       "    <tr>\n",
       "      <th>23290758</th>\n",
       "      <td>20741</td>\n",
       "      <td>201807</td>\n",
       "      <td>10637</td>\n",
       "      <td>1</td>\n",
       "      <td>0.0</td>\n",
       "      <td>0.0</td>\n",
       "      <td>0.00000</td>\n",
       "      <td>0.00000</td>\n",
       "      <td>201708</td>\n",
       "      <td>201709</td>\n",
       "      <td>2018-07-01</td>\n",
       "      <td>7</td>\n",
       "      <td>2017-08-01</td>\n",
       "    </tr>\n",
       "    <tr>\n",
       "      <th>23290759</th>\n",
       "      <td>20741</td>\n",
       "      <td>201808</td>\n",
       "      <td>10637</td>\n",
       "      <td>1</td>\n",
       "      <td>0.0</td>\n",
       "      <td>0.0</td>\n",
       "      <td>0.00000</td>\n",
       "      <td>0.00000</td>\n",
       "      <td>201708</td>\n",
       "      <td>201709</td>\n",
       "      <td>2018-08-01</td>\n",
       "      <td>8</td>\n",
       "      <td>2017-08-01</td>\n",
       "    </tr>\n",
       "    <tr>\n",
       "      <th>23290760</th>\n",
       "      <td>20741</td>\n",
       "      <td>201809</td>\n",
       "      <td>10637</td>\n",
       "      <td>1</td>\n",
       "      <td>0.0</td>\n",
       "      <td>0.0</td>\n",
       "      <td>0.00000</td>\n",
       "      <td>0.00000</td>\n",
       "      <td>201708</td>\n",
       "      <td>201709</td>\n",
       "      <td>2018-09-01</td>\n",
       "      <td>9</td>\n",
       "      <td>2017-08-01</td>\n",
       "    </tr>\n",
       "    <tr>\n",
       "      <th>23290761</th>\n",
       "      <td>20741</td>\n",
       "      <td>201810</td>\n",
       "      <td>10637</td>\n",
       "      <td>1</td>\n",
       "      <td>0.0</td>\n",
       "      <td>0.0</td>\n",
       "      <td>0.00000</td>\n",
       "      <td>0.00000</td>\n",
       "      <td>201708</td>\n",
       "      <td>201709</td>\n",
       "      <td>2018-10-01</td>\n",
       "      <td>10</td>\n",
       "      <td>2017-08-01</td>\n",
       "    </tr>\n",
       "    <tr>\n",
       "      <th>23290762</th>\n",
       "      <td>20741</td>\n",
       "      <td>201811</td>\n",
       "      <td>10637</td>\n",
       "      <td>1</td>\n",
       "      <td>0.0</td>\n",
       "      <td>0.0</td>\n",
       "      <td>0.00000</td>\n",
       "      <td>0.00000</td>\n",
       "      <td>201708</td>\n",
       "      <td>201709</td>\n",
       "      <td>2018-11-01</td>\n",
       "      <td>11</td>\n",
       "      <td>2017-08-01</td>\n",
       "    </tr>\n",
       "    <tr>\n",
       "      <th>23290763</th>\n",
       "      <td>20741</td>\n",
       "      <td>201812</td>\n",
       "      <td>10637</td>\n",
       "      <td>1</td>\n",
       "      <td>0.0</td>\n",
       "      <td>0.0</td>\n",
       "      <td>0.00000</td>\n",
       "      <td>0.00000</td>\n",
       "      <td>201708</td>\n",
       "      <td>201709</td>\n",
       "      <td>2018-12-01</td>\n",
       "      <td>12</td>\n",
       "      <td>2017-08-01</td>\n",
       "    </tr>\n",
       "    <tr>\n",
       "      <th>23290764</th>\n",
       "      <td>20741</td>\n",
       "      <td>201901</td>\n",
       "      <td>10637</td>\n",
       "      <td>1</td>\n",
       "      <td>0.0</td>\n",
       "      <td>0.0</td>\n",
       "      <td>0.00000</td>\n",
       "      <td>0.00000</td>\n",
       "      <td>201708</td>\n",
       "      <td>201709</td>\n",
       "      <td>2019-01-01</td>\n",
       "      <td>1</td>\n",
       "      <td>2017-08-01</td>\n",
       "    </tr>\n",
       "    <tr>\n",
       "      <th>23290765</th>\n",
       "      <td>20741</td>\n",
       "      <td>201902</td>\n",
       "      <td>10637</td>\n",
       "      <td>1</td>\n",
       "      <td>0.0</td>\n",
       "      <td>0.0</td>\n",
       "      <td>0.00000</td>\n",
       "      <td>0.00000</td>\n",
       "      <td>201708</td>\n",
       "      <td>201709</td>\n",
       "      <td>2019-02-01</td>\n",
       "      <td>2</td>\n",
       "      <td>2017-08-01</td>\n",
       "    </tr>\n",
       "    <tr>\n",
       "      <th>23290766</th>\n",
       "      <td>20741</td>\n",
       "      <td>201903</td>\n",
       "      <td>10637</td>\n",
       "      <td>1</td>\n",
       "      <td>0.0</td>\n",
       "      <td>0.0</td>\n",
       "      <td>0.00000</td>\n",
       "      <td>0.00000</td>\n",
       "      <td>201708</td>\n",
       "      <td>201709</td>\n",
       "      <td>2019-03-01</td>\n",
       "      <td>3</td>\n",
       "      <td>2017-08-01</td>\n",
       "    </tr>\n",
       "    <tr>\n",
       "      <th>23290767</th>\n",
       "      <td>20741</td>\n",
       "      <td>201904</td>\n",
       "      <td>10637</td>\n",
       "      <td>1</td>\n",
       "      <td>0.0</td>\n",
       "      <td>0.0</td>\n",
       "      <td>0.00000</td>\n",
       "      <td>0.00000</td>\n",
       "      <td>201708</td>\n",
       "      <td>201709</td>\n",
       "      <td>2019-04-01</td>\n",
       "      <td>4</td>\n",
       "      <td>2017-08-01</td>\n",
       "    </tr>\n",
       "    <tr>\n",
       "      <th>23290768</th>\n",
       "      <td>20741</td>\n",
       "      <td>201905</td>\n",
       "      <td>10637</td>\n",
       "      <td>1</td>\n",
       "      <td>0.0</td>\n",
       "      <td>0.0</td>\n",
       "      <td>0.00000</td>\n",
       "      <td>0.00000</td>\n",
       "      <td>201708</td>\n",
       "      <td>201709</td>\n",
       "      <td>2019-05-01</td>\n",
       "      <td>5</td>\n",
       "      <td>2017-08-01</td>\n",
       "    </tr>\n",
       "    <tr>\n",
       "      <th>23290769</th>\n",
       "      <td>20741</td>\n",
       "      <td>201906</td>\n",
       "      <td>10637</td>\n",
       "      <td>1</td>\n",
       "      <td>0.0</td>\n",
       "      <td>0.0</td>\n",
       "      <td>0.00000</td>\n",
       "      <td>0.00000</td>\n",
       "      <td>201708</td>\n",
       "      <td>201709</td>\n",
       "      <td>2019-06-01</td>\n",
       "      <td>6</td>\n",
       "      <td>2017-08-01</td>\n",
       "    </tr>\n",
       "    <tr>\n",
       "      <th>23290770</th>\n",
       "      <td>20741</td>\n",
       "      <td>201907</td>\n",
       "      <td>10637</td>\n",
       "      <td>1</td>\n",
       "      <td>0.0</td>\n",
       "      <td>0.0</td>\n",
       "      <td>0.00000</td>\n",
       "      <td>0.00000</td>\n",
       "      <td>201708</td>\n",
       "      <td>201709</td>\n",
       "      <td>2019-07-01</td>\n",
       "      <td>7</td>\n",
       "      <td>2017-08-01</td>\n",
       "    </tr>\n",
       "    <tr>\n",
       "      <th>23290771</th>\n",
       "      <td>20741</td>\n",
       "      <td>201908</td>\n",
       "      <td>10637</td>\n",
       "      <td>1</td>\n",
       "      <td>0.0</td>\n",
       "      <td>0.0</td>\n",
       "      <td>0.00000</td>\n",
       "      <td>0.00000</td>\n",
       "      <td>201708</td>\n",
       "      <td>201709</td>\n",
       "      <td>2019-08-01</td>\n",
       "      <td>8</td>\n",
       "      <td>2017-08-01</td>\n",
       "    </tr>\n",
       "    <tr>\n",
       "      <th>23290772</th>\n",
       "      <td>20741</td>\n",
       "      <td>201909</td>\n",
       "      <td>10637</td>\n",
       "      <td>1</td>\n",
       "      <td>0.0</td>\n",
       "      <td>0.0</td>\n",
       "      <td>0.00000</td>\n",
       "      <td>0.00000</td>\n",
       "      <td>201708</td>\n",
       "      <td>201709</td>\n",
       "      <td>2019-09-01</td>\n",
       "      <td>9</td>\n",
       "      <td>2017-08-01</td>\n",
       "    </tr>\n",
       "    <tr>\n",
       "      <th>23290773</th>\n",
       "      <td>20741</td>\n",
       "      <td>201910</td>\n",
       "      <td>10637</td>\n",
       "      <td>1</td>\n",
       "      <td>0.0</td>\n",
       "      <td>0.0</td>\n",
       "      <td>0.00000</td>\n",
       "      <td>0.00000</td>\n",
       "      <td>201708</td>\n",
       "      <td>201709</td>\n",
       "      <td>2019-10-01</td>\n",
       "      <td>10</td>\n",
       "      <td>2017-08-01</td>\n",
       "    </tr>\n",
       "    <tr>\n",
       "      <th>23290774</th>\n",
       "      <td>20741</td>\n",
       "      <td>201911</td>\n",
       "      <td>10637</td>\n",
       "      <td>1</td>\n",
       "      <td>0.0</td>\n",
       "      <td>0.0</td>\n",
       "      <td>0.00000</td>\n",
       "      <td>0.00000</td>\n",
       "      <td>201708</td>\n",
       "      <td>201709</td>\n",
       "      <td>2019-11-01</td>\n",
       "      <td>11</td>\n",
       "      <td>2017-08-01</td>\n",
       "    </tr>\n",
       "    <tr>\n",
       "      <th>23290775</th>\n",
       "      <td>20741</td>\n",
       "      <td>201912</td>\n",
       "      <td>10637</td>\n",
       "      <td>1</td>\n",
       "      <td>0.0</td>\n",
       "      <td>0.0</td>\n",
       "      <td>0.00000</td>\n",
       "      <td>0.00000</td>\n",
       "      <td>201708</td>\n",
       "      <td>201709</td>\n",
       "      <td>2019-12-01</td>\n",
       "      <td>12</td>\n",
       "      <td>2017-08-01</td>\n",
       "    </tr>\n",
       "  </tbody>\n",
       "</table>\n",
       "</div>"
      ],
      "text/plain": [
       "          product_id  periodo  customer_id  cero_ventas  \\\n",
       "23290748       20741   201709        10637            0   \n",
       "23290749       20741   201710        10637            1   \n",
       "23290750       20741   201711        10637            1   \n",
       "23290751       20741   201712        10637            1   \n",
       "23290752       20741   201801        10637            1   \n",
       "23290753       20741   201802        10637            1   \n",
       "23290754       20741   201803        10637            1   \n",
       "23290755       20741   201804        10637            1   \n",
       "23290756       20741   201805        10637            1   \n",
       "23290757       20741   201806        10637            1   \n",
       "23290758       20741   201807        10637            1   \n",
       "23290759       20741   201808        10637            1   \n",
       "23290760       20741   201809        10637            1   \n",
       "23290761       20741   201810        10637            1   \n",
       "23290762       20741   201811        10637            1   \n",
       "23290763       20741   201812        10637            1   \n",
       "23290764       20741   201901        10637            1   \n",
       "23290765       20741   201902        10637            1   \n",
       "23290766       20741   201903        10637            1   \n",
       "23290767       20741   201904        10637            1   \n",
       "23290768       20741   201905        10637            1   \n",
       "23290769       20741   201906        10637            1   \n",
       "23290770       20741   201907        10637            1   \n",
       "23290771       20741   201908        10637            1   \n",
       "23290772       20741   201909        10637            1   \n",
       "23290773       20741   201910        10637            1   \n",
       "23290774       20741   201911        10637            1   \n",
       "23290775       20741   201912        10637            1   \n",
       "\n",
       "          plan_precios_cuidados  cust_request_qty  cust_request_tn       tn  \\\n",
       "23290748                    0.0               1.0          0.00144  0.00144   \n",
       "23290749                    0.0               0.0          0.00000  0.00000   \n",
       "23290750                    0.0               0.0          0.00000  0.00000   \n",
       "23290751                    0.0               0.0          0.00000  0.00000   \n",
       "23290752                    0.0               0.0          0.00000  0.00000   \n",
       "23290753                    0.0               0.0          0.00000  0.00000   \n",
       "23290754                    0.0               0.0          0.00000  0.00000   \n",
       "23290755                    0.0               0.0          0.00000  0.00000   \n",
       "23290756                    0.0               0.0          0.00000  0.00000   \n",
       "23290757                    0.0               0.0          0.00000  0.00000   \n",
       "23290758                    0.0               0.0          0.00000  0.00000   \n",
       "23290759                    0.0               0.0          0.00000  0.00000   \n",
       "23290760                    0.0               0.0          0.00000  0.00000   \n",
       "23290761                    0.0               0.0          0.00000  0.00000   \n",
       "23290762                    0.0               0.0          0.00000  0.00000   \n",
       "23290763                    0.0               0.0          0.00000  0.00000   \n",
       "23290764                    0.0               0.0          0.00000  0.00000   \n",
       "23290765                    0.0               0.0          0.00000  0.00000   \n",
       "23290766                    0.0               0.0          0.00000  0.00000   \n",
       "23290767                    0.0               0.0          0.00000  0.00000   \n",
       "23290768                    0.0               0.0          0.00000  0.00000   \n",
       "23290769                    0.0               0.0          0.00000  0.00000   \n",
       "23290770                    0.0               0.0          0.00000  0.00000   \n",
       "23290771                    0.0               0.0          0.00000  0.00000   \n",
       "23290772                    0.0               0.0          0.00000  0.00000   \n",
       "23290773                    0.0               0.0          0.00000  0.00000   \n",
       "23290774                    0.0               0.0          0.00000  0.00000   \n",
       "23290775                    0.0               0.0          0.00000  0.00000   \n",
       "\n",
       "          primer_periodo_prod  primer_periodo_cliente periodo_fecha  mes  \\\n",
       "23290748               201708                  201709    2017-09-01    9   \n",
       "23290749               201708                  201709    2017-10-01   10   \n",
       "23290750               201708                  201709    2017-11-01   11   \n",
       "23290751               201708                  201709    2017-12-01   12   \n",
       "23290752               201708                  201709    2018-01-01    1   \n",
       "23290753               201708                  201709    2018-02-01    2   \n",
       "23290754               201708                  201709    2018-03-01    3   \n",
       "23290755               201708                  201709    2018-04-01    4   \n",
       "23290756               201708                  201709    2018-05-01    5   \n",
       "23290757               201708                  201709    2018-06-01    6   \n",
       "23290758               201708                  201709    2018-07-01    7   \n",
       "23290759               201708                  201709    2018-08-01    8   \n",
       "23290760               201708                  201709    2018-09-01    9   \n",
       "23290761               201708                  201709    2018-10-01   10   \n",
       "23290762               201708                  201709    2018-11-01   11   \n",
       "23290763               201708                  201709    2018-12-01   12   \n",
       "23290764               201708                  201709    2019-01-01    1   \n",
       "23290765               201708                  201709    2019-02-01    2   \n",
       "23290766               201708                  201709    2019-03-01    3   \n",
       "23290767               201708                  201709    2019-04-01    4   \n",
       "23290768               201708                  201709    2019-05-01    5   \n",
       "23290769               201708                  201709    2019-06-01    6   \n",
       "23290770               201708                  201709    2019-07-01    7   \n",
       "23290771               201708                  201709    2019-08-01    8   \n",
       "23290772               201708                  201709    2019-09-01    9   \n",
       "23290773               201708                  201709    2019-10-01   10   \n",
       "23290774               201708                  201709    2019-11-01   11   \n",
       "23290775               201708                  201709    2019-12-01   12   \n",
       "\n",
       "         primer_periodo_fecha_prod  \n",
       "23290748                2017-08-01  \n",
       "23290749                2017-08-01  \n",
       "23290750                2017-08-01  \n",
       "23290751                2017-08-01  \n",
       "23290752                2017-08-01  \n",
       "23290753                2017-08-01  \n",
       "23290754                2017-08-01  \n",
       "23290755                2017-08-01  \n",
       "23290756                2017-08-01  \n",
       "23290757                2017-08-01  \n",
       "23290758                2017-08-01  \n",
       "23290759                2017-08-01  \n",
       "23290760                2017-08-01  \n",
       "23290761                2017-08-01  \n",
       "23290762                2017-08-01  \n",
       "23290763                2017-08-01  \n",
       "23290764                2017-08-01  \n",
       "23290765                2017-08-01  \n",
       "23290766                2017-08-01  \n",
       "23290767                2017-08-01  \n",
       "23290768                2017-08-01  \n",
       "23290769                2017-08-01  \n",
       "23290770                2017-08-01  \n",
       "23290771                2017-08-01  \n",
       "23290772                2017-08-01  \n",
       "23290773                2017-08-01  \n",
       "23290774                2017-08-01  \n",
       "23290775                2017-08-01  "
      ]
     },
     "execution_count": 41,
     "metadata": {},
     "output_type": "execute_result"
    }
   ],
   "source": [
    "df_sellout_complet_desde_1er_mes[(df_sellout_complet_desde_1er_mes.customer_id==10637)&(df_sellout_complet_desde_1er_mes.product_id==20741)]"
   ]
  },
  {
   "cell_type": "markdown",
   "id": "b7ff110b-12df-4bea-bf56-f6be705b86f8",
   "metadata": {},
   "source": [
    "**--> se generó OK, desde 201709 en adelante únicamente**"
   ]
  },
  {
   "cell_type": "markdown",
   "id": "1ba8f77e-3998-4f4f-b7ec-dde5da8e6373",
   "metadata": {},
   "source": [
    "## Incorporo Maestro y Exógenas"
   ]
  },
  {
   "cell_type": "code",
   "execution_count": null,
   "id": "afbca416-adb5-461e-9558-19a4b21de708",
   "metadata": {},
   "outputs": [],
   "source": [
    "df_maestro_prod = pd.read_csv(arch_maestro_prod)"
   ]
  },
  {
   "cell_type": "code",
   "execution_count": null,
   "id": "90f993a4-62af-4e2a-b6b6-fbbd8b1f6f2f",
   "metadata": {},
   "outputs": [],
   "source": [
    "df_maestro_prod.info()"
   ]
  },
  {
   "cell_type": "code",
   "execution_count": null,
   "id": "4a63cc99-72a9-4ff9-82e8-b82ad4f45fb7",
   "metadata": {},
   "outputs": [],
   "source": [
    "df_maestro_prod.head()"
   ]
  },
  {
   "cell_type": "code",
   "execution_count": null,
   "id": "14613d4c-ad8b-486a-9aef-e4e28202c7ea",
   "metadata": {},
   "outputs": [],
   "source": [
    "prods_desconocidos = set(df_sellout_complet_desde_1er_mes.product_id).difference(set(df_maestro_prod.product_id))\n",
    "print(len(prods_desconocidos))"
   ]
  },
  {
   "cell_type": "code",
   "execution_count": null,
   "id": "27c00516-dd95-44af-879c-d8f7a74a1267",
   "metadata": {},
   "outputs": [],
   "source": [
    "df_tn_prod_desc = df_sellout_complet_desde_1er_mes[df_sellout_complet_desde_1er_mes.product_id.isin(prods_desconocidos)]\n",
    "df_tn_prod_desc.tn.sum()"
   ]
  },
  {
   "cell_type": "code",
   "execution_count": null,
   "id": "4f4e4397-9170-41f9-a18f-4f61c7fd286d",
   "metadata": {},
   "outputs": [],
   "source": [
    "print(len(df_sellout_complet_desde_1er_mes))\n",
    "df_sellout_complet_desde_1er_mes = pd.merge(df_sellout_complet_desde_1er_mes, df_maestro_prod, on='product_id', how='left')\n",
    "print(len(df_sellout_complet_desde_1er_mes))\n",
    "df_sellout_complet_desde_1er_mes.head()"
   ]
  },
  {
   "cell_type": "code",
   "execution_count": null,
   "id": "48a60775-9a9b-4dd2-b31e-f1d753638755",
   "metadata": {},
   "outputs": [],
   "source": [
    "df_sellout_complet_desde_1er_mes.cat1 = np.where(df_sellout_complet_desde_1er_mes.product_id.isin(prods_desconocidos),\"desconocida\",df_sellout_complet_desde_1er_mes.cat1)\n",
    "df_sellout_complet_desde_1er_mes.cat2 = np.where(df_sellout_complet_desde_1er_mes.product_id.isin(prods_desconocidos),\"desconocida\",df_sellout_complet_desde_1er_mes.cat2)\n",
    "df_sellout_complet_desde_1er_mes.cat3 = np.where(df_sellout_complet_desde_1er_mes.product_id.isin(prods_desconocidos),\"desconocida\",df_sellout_complet_desde_1er_mes.cat3)\n",
    "df_sellout_complet_desde_1er_mes.brand = np.where(df_sellout_complet_desde_1er_mes.product_id.isin(prods_desconocidos),\"desconocida\",df_sellout_complet_desde_1er_mes.brand)\n",
    "df_sellout_complet_desde_1er_mes.sku_size = np.where(df_sellout_complet_desde_1er_mes.product_id.isin(prods_desconocidos),0,df_sellout_complet_desde_1er_mes.sku_size)\n",
    "df_sellout_complet_desde_1er_mes.producto_estrella = np.where(df_sellout_complet_desde_1er_mes.product_id.isin(prods_desconocidos),0,df_sellout_complet_desde_1er_mes.producto_estrella)"
   ]
  },
  {
   "cell_type": "code",
   "execution_count": null,
   "id": "1429c6c6-d1e8-444f-b194-f6af13733716",
   "metadata": {},
   "outputs": [],
   "source": [
    "df_exogenas = pd.read_csv(arch_exogenas)\n",
    "df_exogenas.periodo_fecha = pd.to_datetime(df_exogenas.periodo_fecha)\n",
    "\n",
    "df_exogenas.info()"
   ]
  },
  {
   "cell_type": "code",
   "execution_count": null,
   "id": "1d14bd94-1d45-4214-a11f-663d8e1d7282",
   "metadata": {},
   "outputs": [],
   "source": [
    "# Le agregamos las exogenas\n",
    "print(len(df_sellout_complet_desde_1er_mes))\n",
    "df_sellout_complet_desde_1er_mes = pd.merge(df_sellout_complet_desde_1er_mes,df_exogenas,on=\"periodo_fecha\",how=\"left\")\n",
    "print(len(df_sellout_complet_desde_1er_mes))"
   ]
  },
  {
   "cell_type": "code",
   "execution_count": null,
   "id": "bc04a59b-06a2-48e0-9d7d-d4325a6b8989",
   "metadata": {},
   "outputs": [],
   "source": [
    "# Como control, sumo tns\n",
    "print(\"Toneladas Total Control:\", round(sum(df_sellout_complet_desde_1er_mes.tn),0),tn_suma_original==round(sum(df_sellout_complet_desde_1er_mes.tn),0))"
   ]
  },
  {
   "cell_type": "code",
   "execution_count": null,
   "id": "9ca00d2c-a934-462a-9b6b-71ce97ad4d7a",
   "metadata": {},
   "outputs": [],
   "source": [
    "df_sellout_complet_desde_1er_mes.info()"
   ]
  },
  {
   "cell_type": "code",
   "execution_count": null,
   "id": "65038aad-c62b-4ac6-aff3-f49d3f2968b0",
   "metadata": {},
   "outputs": [],
   "source": [
    "# Ordeno para que luego el FE funcione correctamente usando SHIFT\n",
    "df_sellout_complet_desde_1er_mes = df_sellout_complet_desde_1er_mes.sort_values(by=[\"product_id\",\"customer_id\",\"periodo\"],ascending=True)"
   ]
  },
  {
   "cell_type": "code",
   "execution_count": null,
   "id": "f75ba7d1-dc10-4213-8869-7c72ac235431",
   "metadata": {},
   "outputs": [],
   "source": [
    "df_sellout_complet_desde_1er_mes.head(50)"
   ]
  },
  {
   "cell_type": "code",
   "execution_count": null,
   "id": "af1d82b8-bf69-47a4-a98b-012df9c29f06",
   "metadata": {},
   "outputs": [],
   "source": [
    "df_sellout_complet_desde_1er_mes.isna().sum()"
   ]
  },
  {
   "cell_type": "code",
   "execution_count": null,
   "id": "b8be14fc",
   "metadata": {},
   "outputs": [],
   "source": [
    "# Exportar el DataFrame a un archivo CSV\n",
    "df_sellout_complet_desde_1er_mes.to_csv(\"emp3_sellout_base.csv\", index=False)"
   ]
  }
 ],
 "metadata": {
  "kernelspec": {
   "display_name": "Python 3 (ipykernel)",
   "language": "python",
   "name": "python3"
  },
  "language_info": {
   "codemirror_mode": {
    "name": "ipython",
    "version": 3
   },
   "file_extension": ".py",
   "mimetype": "text/x-python",
   "name": "python",
   "nbconvert_exporter": "python",
   "pygments_lexer": "ipython3",
   "version": "3.10.6"
  }
 },
 "nbformat": 4,
 "nbformat_minor": 5
}
