{
 "cells": [
  {
   "cell_type": "code",
   "execution_count": 1,
   "id": "1b6c0f22",
   "metadata": {},
   "outputs": [],
   "source": [
    "import pandas as pd\n",
    "import gzip\n",
    "import os\n",
    "import numpy as np\n",
    "from sklearn.preprocessing import MinMaxScaler\n",
    "from sklearn.preprocessing import StandardScaler"
   ]
  },
  {
   "cell_type": "markdown",
   "id": "04d61971",
   "metadata": {},
   "source": [
    " # A la empresa le interesa el rastreo de lo que marketing considera los productos y lo que ventas considera los mejores clientes.\n",
    "\n",
    "## Mejores Productos\n",
    "- product_id = {20001, 20002, 20003, 20004, 20005, 20006, 20007, 20009, 20011, 20032} (diez productos)\n",
    "\n",
    "## Mejores Clientes\n",
    "- customer_id = {10001, 10002, 10003, 10004, 10005, 10006, 10007, 10008, 10009, 10011, 10012, 10013} (doce clientes)\n",
    "\n",
    "Total de <producto, cliente> a predecir = 10 * 12 = 120\n",
    "\n",
    "# Objetivo\n",
    "- Es el 01-enero-2020 a las 00:01 y disponibilizamos las ventas del periodo 2021912.\n",
    "- El 02-enero a las 18:00 nos deben entregar:\n",
    "  - El primer forecast de ventas para cada producto que se harán durante el mes 202002, de forma que nuestras plantas puedan fabricarlos durante el mes de 202001.\n",
    "  - El segundo forecast es las ventas esperadas en 202002, para los 120 pares de <mejores_clientes, mejores_productos>."
   ]
  },
  {
   "cell_type": "code",
   "execution_count": 2,
   "id": "e3f80795-b65c-452d-9d00-8f3c57afe98b",
   "metadata": {},
   "outputs": [],
   "source": [
    "####################################################\n",
    "############# Setear segun cada maquina ############\n",
    "os.chdir(\"C:/Users/herna/labo3_empresa3_repo/datasets\")\n",
    "####################################################"
   ]
  },
  {
   "cell_type": "code",
   "execution_count": 3,
   "id": "29cfb14c-e6c2-4e67-9db3-a09081d7a7da",
   "metadata": {},
   "outputs": [],
   "source": [
    "arch_sellout = \"tb_sellout_02.txt.gz\"\n",
    "arch_maestro_prod = \"tb_productos_02.txt\"\n",
    "arch_exogenadas = \"exogenas.csv\""
   ]
  },
  {
   "cell_type": "markdown",
   "id": "3c79f59b-6eb5-441e-a397-71ab72602c6e",
   "metadata": {},
   "source": [
    "## Maestro de productos"
   ]
  },
  {
   "cell_type": "code",
   "execution_count": 4,
   "id": "a404bbcf",
   "metadata": {},
   "outputs": [],
   "source": [
    "df_product = pd.read_csv(arch_maestro_prod,sep=\"\\t\")"
   ]
  },
  {
   "cell_type": "code",
   "execution_count": 5,
   "id": "05821c22",
   "metadata": {},
   "outputs": [
    {
     "name": "stdout",
     "output_type": "stream",
     "text": [
      "<class 'pandas.core.frame.DataFrame'>\n",
      "RangeIndex: 1262 entries, 0 to 1261\n",
      "Data columns (total 6 columns):\n",
      " #   Column      Non-Null Count  Dtype \n",
      "---  ------      --------------  ----- \n",
      " 0   cat1        1262 non-null   object\n",
      " 1   cat2        1262 non-null   object\n",
      " 2   cat3        1262 non-null   object\n",
      " 3   brand       1262 non-null   object\n",
      " 4   sku_size    1262 non-null   int64 \n",
      " 5   product_id  1262 non-null   int64 \n",
      "dtypes: int64(2), object(4)\n",
      "memory usage: 59.3+ KB\n"
     ]
    }
   ],
   "source": [
    "df_product.info()"
   ]
  },
  {
   "cell_type": "code",
   "execution_count": 6,
   "id": "f752204d-ad2e-4016-ac70-f52da9705abe",
   "metadata": {},
   "outputs": [
    {
     "name": "stdout",
     "output_type": "stream",
     "text": [
      "1262\n",
      "1253\n"
     ]
    }
   ],
   "source": [
    "# Por las dudas, eliminamos duplicados\n",
    "print(len(df_product))\n",
    "df_product.drop_duplicates(inplace=True)\n",
    "print(len(df_product))"
   ]
  },
  {
   "cell_type": "code",
   "execution_count": 7,
   "id": "3285676b-8a79-4368-a796-6373df1d6051",
   "metadata": {},
   "outputs": [
    {
     "name": "stdout",
     "output_type": "stream",
     "text": [
      "1251\n",
      "1253\n"
     ]
    }
   ],
   "source": [
    "print(len(df_product.product_id.unique()))\n",
    "print(len(df_product))"
   ]
  },
  {
   "cell_type": "code",
   "execution_count": 8,
   "id": "1fc62ec6-cce2-4403-a051-ab744b477b25",
   "metadata": {},
   "outputs": [
    {
     "data": {
      "text/html": [
       "<div>\n",
       "<style scoped>\n",
       "    .dataframe tbody tr th:only-of-type {\n",
       "        vertical-align: middle;\n",
       "    }\n",
       "\n",
       "    .dataframe tbody tr th {\n",
       "        vertical-align: top;\n",
       "    }\n",
       "\n",
       "    .dataframe thead th {\n",
       "        text-align: right;\n",
       "    }\n",
       "</style>\n",
       "<table border=\"1\" class=\"dataframe\">\n",
       "  <thead>\n",
       "    <tr style=\"text-align: right;\">\n",
       "      <th></th>\n",
       "      <th>cat1</th>\n",
       "      <th>cat2</th>\n",
       "      <th>cat3</th>\n",
       "      <th>brand</th>\n",
       "      <th>sku_size</th>\n",
       "      <th>product_id</th>\n",
       "    </tr>\n",
       "  </thead>\n",
       "  <tbody>\n",
       "    <tr>\n",
       "      <th>915</th>\n",
       "      <td>PC</td>\n",
       "      <td>CABELLO</td>\n",
       "      <td>ACONDICIONADOR</td>\n",
       "      <td>SHAMPOO3</td>\n",
       "      <td>350</td>\n",
       "      <td>20623</td>\n",
       "    </tr>\n",
       "    <tr>\n",
       "      <th>917</th>\n",
       "      <td>PC</td>\n",
       "      <td>CABELLO</td>\n",
       "      <td>ACONDICIONADOR</td>\n",
       "      <td>SHAMPOO3</td>\n",
       "      <td>350</td>\n",
       "      <td>20230</td>\n",
       "    </tr>\n",
       "    <tr>\n",
       "      <th>981</th>\n",
       "      <td>PC</td>\n",
       "      <td>CABELLO</td>\n",
       "      <td>SHAMPOO</td>\n",
       "      <td>SHAMPOO3</td>\n",
       "      <td>350</td>\n",
       "      <td>20623</td>\n",
       "    </tr>\n",
       "    <tr>\n",
       "      <th>983</th>\n",
       "      <td>PC</td>\n",
       "      <td>CABELLO</td>\n",
       "      <td>SHAMPOO</td>\n",
       "      <td>SHAMPOO3</td>\n",
       "      <td>350</td>\n",
       "      <td>20230</td>\n",
       "    </tr>\n",
       "  </tbody>\n",
       "</table>\n",
       "</div>"
      ],
      "text/plain": [
       "    cat1     cat2            cat3     brand  sku_size  product_id\n",
       "915   PC  CABELLO  ACONDICIONADOR  SHAMPOO3       350       20623\n",
       "917   PC  CABELLO  ACONDICIONADOR  SHAMPOO3       350       20230\n",
       "981   PC  CABELLO         SHAMPOO  SHAMPOO3       350       20623\n",
       "983   PC  CABELLO         SHAMPOO  SHAMPOO3       350       20230"
      ]
     },
     "execution_count": 8,
     "metadata": {},
     "output_type": "execute_result"
    }
   ],
   "source": [
    "# Revisamos cuales son los que tienen mas de una descripcion\n",
    "df_product.groupby(\"product_id\").filter(lambda x: len(x) > 1)"
   ]
  },
  {
   "cell_type": "code",
   "execution_count": 9,
   "id": "b552a67b-abdf-42d7-adfd-b86b8455b362",
   "metadata": {},
   "outputs": [
    {
     "name": "stdout",
     "output_type": "stream",
     "text": [
      "1251\n",
      "1251\n"
     ]
    }
   ],
   "source": [
    "# Eliminamos los que son acondicionador\n",
    "df_product = df_product[~((df_product.product_id.isin([20623,20230])) & (df_product.cat3==\"ACONDICIONADOR\"))]\n",
    "print(len(df_product.product_id.unique()))\n",
    "print(len(df_product))"
   ]
  },
  {
   "cell_type": "code",
   "execution_count": 10,
   "id": "5b5bd24c-b5bc-49e8-9ea6-051d1ca2d2a8",
   "metadata": {},
   "outputs": [
    {
     "data": {
      "text/plain": [
       "PC       721\n",
       "HC       292\n",
       "FOODS    225\n",
       "REF       13\n",
       "Name: cat1, dtype: int64"
      ]
     },
     "execution_count": 10,
     "metadata": {},
     "output_type": "execute_result"
    }
   ],
   "source": [
    "df_product.cat1.value_counts(dropna=False)"
   ]
  },
  {
   "cell_type": "code",
   "execution_count": 11,
   "id": "1611a443-b2b4-4273-9267-fbdc804cfb8f",
   "metadata": {},
   "outputs": [
    {
     "data": {
      "text/html": [
       "<div>\n",
       "<style scoped>\n",
       "    .dataframe tbody tr th:only-of-type {\n",
       "        vertical-align: middle;\n",
       "    }\n",
       "\n",
       "    .dataframe tbody tr th {\n",
       "        vertical-align: top;\n",
       "    }\n",
       "\n",
       "    .dataframe thead th {\n",
       "        text-align: right;\n",
       "    }\n",
       "</style>\n",
       "<table border=\"1\" class=\"dataframe\">\n",
       "  <thead>\n",
       "    <tr style=\"text-align: right;\">\n",
       "      <th></th>\n",
       "      <th>cat1</th>\n",
       "      <th>cat2</th>\n",
       "      <th>cat3</th>\n",
       "      <th>brand</th>\n",
       "      <th>sku_size</th>\n",
       "      <th>product_id</th>\n",
       "    </tr>\n",
       "  </thead>\n",
       "  <tbody>\n",
       "    <tr>\n",
       "      <th>673</th>\n",
       "      <td>REF</td>\n",
       "      <td>TE</td>\n",
       "      <td>Frutas</td>\n",
       "      <td>TWININGS</td>\n",
       "      <td>20</td>\n",
       "      <td>21271</td>\n",
       "    </tr>\n",
       "    <tr>\n",
       "      <th>674</th>\n",
       "      <td>REF</td>\n",
       "      <td>TE</td>\n",
       "      <td>Hierbas</td>\n",
       "      <td>TWININGS</td>\n",
       "      <td>20</td>\n",
       "      <td>21218</td>\n",
       "    </tr>\n",
       "    <tr>\n",
       "      <th>675</th>\n",
       "      <td>REF</td>\n",
       "      <td>TE</td>\n",
       "      <td>Especial</td>\n",
       "      <td>TWININGS</td>\n",
       "      <td>10</td>\n",
       "      <td>21257</td>\n",
       "    </tr>\n",
       "    <tr>\n",
       "      <th>676</th>\n",
       "      <td>REF</td>\n",
       "      <td>TE</td>\n",
       "      <td>Especial</td>\n",
       "      <td>TWININGS</td>\n",
       "      <td>20</td>\n",
       "      <td>21181</td>\n",
       "    </tr>\n",
       "    <tr>\n",
       "      <th>677</th>\n",
       "      <td>REF</td>\n",
       "      <td>TE</td>\n",
       "      <td>Especial</td>\n",
       "      <td>TWININGS</td>\n",
       "      <td>10</td>\n",
       "      <td>21255</td>\n",
       "    </tr>\n",
       "    <tr>\n",
       "      <th>678</th>\n",
       "      <td>REF</td>\n",
       "      <td>TE</td>\n",
       "      <td>Especial</td>\n",
       "      <td>TWININGS</td>\n",
       "      <td>20</td>\n",
       "      <td>21170</td>\n",
       "    </tr>\n",
       "    <tr>\n",
       "      <th>679</th>\n",
       "      <td>REF</td>\n",
       "      <td>TE</td>\n",
       "      <td>Hierbas</td>\n",
       "      <td>TWININGS</td>\n",
       "      <td>20</td>\n",
       "      <td>21202</td>\n",
       "    </tr>\n",
       "    <tr>\n",
       "      <th>680</th>\n",
       "      <td>REF</td>\n",
       "      <td>TE</td>\n",
       "      <td>Frutas</td>\n",
       "      <td>TWININGS</td>\n",
       "      <td>20</td>\n",
       "      <td>21264</td>\n",
       "    </tr>\n",
       "    <tr>\n",
       "      <th>681</th>\n",
       "      <td>REF</td>\n",
       "      <td>TE</td>\n",
       "      <td>Verde</td>\n",
       "      <td>TWININGS</td>\n",
       "      <td>20</td>\n",
       "      <td>21192</td>\n",
       "    </tr>\n",
       "    <tr>\n",
       "      <th>682</th>\n",
       "      <td>REF</td>\n",
       "      <td>TE</td>\n",
       "      <td>Azul</td>\n",
       "      <td>TWININGS</td>\n",
       "      <td>20</td>\n",
       "      <td>20982</td>\n",
       "    </tr>\n",
       "    <tr>\n",
       "      <th>683</th>\n",
       "      <td>REF</td>\n",
       "      <td>TE</td>\n",
       "      <td>Azul</td>\n",
       "      <td>TWININGS</td>\n",
       "      <td>10</td>\n",
       "      <td>21161</td>\n",
       "    </tr>\n",
       "    <tr>\n",
       "      <th>684</th>\n",
       "      <td>REF</td>\n",
       "      <td>TE</td>\n",
       "      <td>Verde</td>\n",
       "      <td>TWININGS</td>\n",
       "      <td>20</td>\n",
       "      <td>21222</td>\n",
       "    </tr>\n",
       "    <tr>\n",
       "      <th>685</th>\n",
       "      <td>REF</td>\n",
       "      <td>TE</td>\n",
       "      <td>Azul</td>\n",
       "      <td>TWININGS</td>\n",
       "      <td>225</td>\n",
       "      <td>21185</td>\n",
       "    </tr>\n",
       "  </tbody>\n",
       "</table>\n",
       "</div>"
      ],
      "text/plain": [
       "    cat1 cat2      cat3     brand  sku_size  product_id\n",
       "673  REF   TE    Frutas  TWININGS        20       21271\n",
       "674  REF   TE   Hierbas  TWININGS        20       21218\n",
       "675  REF   TE  Especial  TWININGS        10       21257\n",
       "676  REF   TE  Especial  TWININGS        20       21181\n",
       "677  REF   TE  Especial  TWININGS        10       21255\n",
       "678  REF   TE  Especial  TWININGS        20       21170\n",
       "679  REF   TE   Hierbas  TWININGS        20       21202\n",
       "680  REF   TE    Frutas  TWININGS        20       21264\n",
       "681  REF   TE     Verde  TWININGS        20       21192\n",
       "682  REF   TE      Azul  TWININGS        20       20982\n",
       "683  REF   TE      Azul  TWININGS        10       21161\n",
       "684  REF   TE     Verde  TWININGS        20       21222\n",
       "685  REF   TE      Azul  TWININGS       225       21185"
      ]
     },
     "execution_count": 11,
     "metadata": {},
     "output_type": "execute_result"
    }
   ],
   "source": [
    "df_product[df_product.cat1==\"REF\"]"
   ]
  },
  {
   "cell_type": "markdown",
   "id": "82ad28e0-5ea7-4a20-8edf-767126a998c2",
   "metadata": {},
   "source": [
    "--> los reasignaremos a FOODS"
   ]
  },
  {
   "cell_type": "code",
   "execution_count": 12,
   "id": "c36c6afd-f337-486a-966e-0e8223a6500b",
   "metadata": {},
   "outputs": [],
   "source": [
    "df_product.cat1 = np.where(df_product.cat1==\"REF\",\"FOODS\",df_product.cat1)"
   ]
  },
  {
   "cell_type": "code",
   "execution_count": 13,
   "id": "eee48c94-6936-4fa6-8ac8-56b91bb0e0ac",
   "metadata": {},
   "outputs": [
    {
     "data": {
      "text/plain": [
       "PC       721\n",
       "HC       292\n",
       "FOODS    238\n",
       "Name: cat1, dtype: int64"
      ]
     },
     "execution_count": 13,
     "metadata": {},
     "output_type": "execute_result"
    }
   ],
   "source": [
    "df_product.cat1.value_counts(dropna=False)"
   ]
  },
  {
   "cell_type": "code",
   "execution_count": 14,
   "id": "e2a7f713-6842-48d7-a338-22f7d871a02f",
   "metadata": {},
   "outputs": [
    {
     "data": {
      "text/plain": [
       "CABELLO                352\n",
       "DEOS                   168\n",
       "SOPAS Y CALDOS         133\n",
       "PIEL2                  114\n",
       "ROPA LAVADO             99\n",
       "HOGAR                   77\n",
       "PIEL1                   73\n",
       "ADEREZOS                69\n",
       "VAJILLA                 47\n",
       "PROFESIONAL             34\n",
       "ROPA ACONDICIONADOR     33\n",
       "OTROS                   23\n",
       "DENTAL                  14\n",
       "TE                      13\n",
       "ROPA MANCHAS             2\n",
       "Name: cat2, dtype: int64"
      ]
     },
     "execution_count": 14,
     "metadata": {},
     "output_type": "execute_result"
    }
   ],
   "source": [
    "df_product.cat2.value_counts(dropna=False)"
   ]
  },
  {
   "cell_type": "code",
   "execution_count": 15,
   "id": "f826a34c-4384-447c-a3cb-dbcc7ca88b98",
   "metadata": {},
   "outputs": [
    {
     "data": {
      "text/plain": [
       "SHAMPOO           146\n",
       "ACONDICIONADOR    116\n",
       "Aero              114\n",
       "Liquido            63\n",
       "Polvo              48\n",
       "                 ... \n",
       "Pure de Tomate      1\n",
       "Jabon Hotel         1\n",
       "Jabon Barba         1\n",
       "Chimichurri         1\n",
       "Aji Picante         1\n",
       "Name: cat3, Length: 99, dtype: int64"
      ]
     },
     "execution_count": 15,
     "metadata": {},
     "output_type": "execute_result"
    }
   ],
   "source": [
    "df_product.cat3.value_counts(dropna=False)"
   ]
  },
  {
   "cell_type": "markdown",
   "id": "97f20c65-c7e9-4313-ad41-906f6514c659",
   "metadata": {},
   "source": [
    "## Sellout"
   ]
  },
  {
   "cell_type": "code",
   "execution_count": 16,
   "id": "977fc914",
   "metadata": {},
   "outputs": [],
   "source": [
    "# Abrir el archivo .gz y cargarlo en un DataFrame\n",
    "with gzip.open(arch_sellout, 'rt') as archivo:\n",
    "    # Leer el archivo línea por línea\n",
    "    df_sellout = pd.read_csv(archivo,sep=\"\\t\")"
   ]
  },
  {
   "cell_type": "code",
   "execution_count": 17,
   "id": "8d5982ad",
   "metadata": {},
   "outputs": [
    {
     "name": "stdout",
     "output_type": "stream",
     "text": [
      "<class 'pandas.core.frame.DataFrame'>\n",
      "RangeIndex: 2945818 entries, 0 to 2945817\n",
      "Data columns (total 7 columns):\n",
      " #   Column                 Dtype  \n",
      "---  ------                 -----  \n",
      " 0   periodo                int64  \n",
      " 1   customer_id            int64  \n",
      " 2   product_id             int64  \n",
      " 3   plan_precios_cuidados  int64  \n",
      " 4   cust_request_qty       int64  \n",
      " 5   cust_request_tn        float64\n",
      " 6   tn                     float64\n",
      "dtypes: float64(2), int64(5)\n",
      "memory usage: 157.3 MB\n"
     ]
    }
   ],
   "source": [
    "df_sellout.info()"
   ]
  },
  {
   "cell_type": "code",
   "execution_count": 18,
   "id": "5011849c-5a5a-4b0c-8c99-531447a8d0b7",
   "metadata": {},
   "outputs": [
    {
     "name": "stdout",
     "output_type": "stream",
     "text": [
      "2945818\n",
      "2945818\n"
     ]
    }
   ],
   "source": [
    "# Por las dudas, eliminamos duplicados\n",
    "print(len(df_sellout))\n",
    "df_sellout.drop_duplicates(inplace=True)\n",
    "print(len(df_sellout))"
   ]
  },
  {
   "cell_type": "markdown",
   "id": "76eb0937-5e96-45e0-a2a7-568ac21055dc",
   "metadata": {},
   "source": [
    "--> sin duplicados"
   ]
  },
  {
   "cell_type": "code",
   "execution_count": 19,
   "id": "b7cf7dfb-9ce4-4233-b1ab-9491c2d2333c",
   "metadata": {},
   "outputs": [
    {
     "data": {
      "text/plain": [
       "array([201701, 201702, 201703, 201704, 201705, 201706, 201707, 201708,\n",
       "       201709, 201710, 201711, 201712, 201801, 201802, 201803, 201804,\n",
       "       201805, 201806, 201807, 201808, 201809, 201810, 201811, 201812,\n",
       "       201901, 201902, 201903, 201904, 201905, 201906, 201907, 201908,\n",
       "       201909, 201910, 201911, 201912], dtype=int64)"
      ]
     },
     "execution_count": 19,
     "metadata": {},
     "output_type": "execute_result"
    }
   ],
   "source": [
    "df_sellout.periodo.unique()                "
   ]
  },
  {
   "cell_type": "code",
   "execution_count": 20,
   "id": "45670a8f-3f08-497e-825f-1a33f480b8a8",
   "metadata": {},
   "outputs": [
    {
     "data": {
      "text/plain": [
       "1233"
      ]
     },
     "execution_count": 20,
     "metadata": {},
     "output_type": "execute_result"
    }
   ],
   "source": [
    "len(df_sellout.product_id.unique())          "
   ]
  },
  {
   "cell_type": "markdown",
   "id": "6fcc221a-05d8-4d45-b90a-55d61f1dec47",
   "metadata": {},
   "source": [
    "--> algunos productos no van a tener descripción"
   ]
  },
  {
   "cell_type": "code",
   "execution_count": 21,
   "id": "a86859b9-e128-402e-831a-94d43108da7d",
   "metadata": {},
   "outputs": [
    {
     "data": {
      "text/plain": [
       "597"
      ]
     },
     "execution_count": 21,
     "metadata": {},
     "output_type": "execute_result"
    }
   ],
   "source": [
    "len(df_sellout.customer_id.unique())            "
   ]
  },
  {
   "cell_type": "code",
   "execution_count": 22,
   "id": "4c04a7c4-d8f3-4005-8669-92d4a3457768",
   "metadata": {},
   "outputs": [
    {
     "data": {
      "text/plain": [
       "array([0, 1], dtype=int64)"
      ]
     },
     "execution_count": 22,
     "metadata": {},
     "output_type": "execute_result"
    }
   ],
   "source": [
    "df_sellout.plan_precios_cuidados.unique()          "
   ]
  },
  {
   "cell_type": "code",
   "execution_count": 23,
   "id": "774904eb",
   "metadata": {},
   "outputs": [],
   "source": [
    "df_sellout['periodo_fecha'] = pd.to_datetime(df_sellout['periodo'], format='%Y%m')"
   ]
  },
  {
   "cell_type": "code",
   "execution_count": 24,
   "id": "a8c70c9d",
   "metadata": {},
   "outputs": [
    {
     "data": {
      "text/html": [
       "<div>\n",
       "<style scoped>\n",
       "    .dataframe tbody tr th:only-of-type {\n",
       "        vertical-align: middle;\n",
       "    }\n",
       "\n",
       "    .dataframe tbody tr th {\n",
       "        vertical-align: top;\n",
       "    }\n",
       "\n",
       "    .dataframe thead th {\n",
       "        text-align: right;\n",
       "    }\n",
       "</style>\n",
       "<table border=\"1\" class=\"dataframe\">\n",
       "  <thead>\n",
       "    <tr style=\"text-align: right;\">\n",
       "      <th></th>\n",
       "      <th>periodo</th>\n",
       "      <th>customer_id</th>\n",
       "      <th>product_id</th>\n",
       "      <th>plan_precios_cuidados</th>\n",
       "      <th>cust_request_qty</th>\n",
       "      <th>cust_request_tn</th>\n",
       "      <th>tn</th>\n",
       "      <th>periodo_fecha</th>\n",
       "    </tr>\n",
       "  </thead>\n",
       "  <tbody>\n",
       "    <tr>\n",
       "      <th>0</th>\n",
       "      <td>201701</td>\n",
       "      <td>10234</td>\n",
       "      <td>20524</td>\n",
       "      <td>0</td>\n",
       "      <td>2</td>\n",
       "      <td>0.05300</td>\n",
       "      <td>0.05300</td>\n",
       "      <td>2017-01-01</td>\n",
       "    </tr>\n",
       "    <tr>\n",
       "      <th>1</th>\n",
       "      <td>201701</td>\n",
       "      <td>10032</td>\n",
       "      <td>20524</td>\n",
       "      <td>0</td>\n",
       "      <td>1</td>\n",
       "      <td>0.13628</td>\n",
       "      <td>0.13628</td>\n",
       "      <td>2017-01-01</td>\n",
       "    </tr>\n",
       "    <tr>\n",
       "      <th>2</th>\n",
       "      <td>201701</td>\n",
       "      <td>10217</td>\n",
       "      <td>20524</td>\n",
       "      <td>0</td>\n",
       "      <td>1</td>\n",
       "      <td>0.03028</td>\n",
       "      <td>0.03028</td>\n",
       "      <td>2017-01-01</td>\n",
       "    </tr>\n",
       "    <tr>\n",
       "      <th>3</th>\n",
       "      <td>201701</td>\n",
       "      <td>10125</td>\n",
       "      <td>20524</td>\n",
       "      <td>0</td>\n",
       "      <td>1</td>\n",
       "      <td>0.02271</td>\n",
       "      <td>0.02271</td>\n",
       "      <td>2017-01-01</td>\n",
       "    </tr>\n",
       "    <tr>\n",
       "      <th>4</th>\n",
       "      <td>201701</td>\n",
       "      <td>10012</td>\n",
       "      <td>20524</td>\n",
       "      <td>0</td>\n",
       "      <td>11</td>\n",
       "      <td>1.54452</td>\n",
       "      <td>1.54452</td>\n",
       "      <td>2017-01-01</td>\n",
       "    </tr>\n",
       "  </tbody>\n",
       "</table>\n",
       "</div>"
      ],
      "text/plain": [
       "   periodo  customer_id  product_id  plan_precios_cuidados  cust_request_qty  \\\n",
       "0   201701        10234       20524                      0                 2   \n",
       "1   201701        10032       20524                      0                 1   \n",
       "2   201701        10217       20524                      0                 1   \n",
       "3   201701        10125       20524                      0                 1   \n",
       "4   201701        10012       20524                      0                11   \n",
       "\n",
       "   cust_request_tn       tn periodo_fecha  \n",
       "0          0.05300  0.05300    2017-01-01  \n",
       "1          0.13628  0.13628    2017-01-01  \n",
       "2          0.03028  0.03028    2017-01-01  \n",
       "3          0.02271  0.02271    2017-01-01  \n",
       "4          1.54452  1.54452    2017-01-01  "
      ]
     },
     "execution_count": 24,
     "metadata": {},
     "output_type": "execute_result"
    }
   ],
   "source": [
    "df_sellout.head()"
   ]
  },
  {
   "cell_type": "code",
   "execution_count": 25,
   "id": "f575f625-8058-48c2-b383-42fe9939bc01",
   "metadata": {},
   "outputs": [
    {
     "name": "stdout",
     "output_type": "stream",
     "text": [
      "Toneladas Total Control: 1324989.0\n"
     ]
    }
   ],
   "source": [
    "# Como control, sumo tns\n",
    "print(\"Toneladas Total Control:\", round(sum(df_sellout.tn),0))"
   ]
  },
  {
   "cell_type": "code",
   "execution_count": 26,
   "id": "1ae9c8a1",
   "metadata": {},
   "outputs": [
    {
     "name": "stdout",
     "output_type": "stream",
     "text": [
      "2945818\n",
      "2945818\n"
     ]
    },
    {
     "data": {
      "text/html": [
       "<div>\n",
       "<style scoped>\n",
       "    .dataframe tbody tr th:only-of-type {\n",
       "        vertical-align: middle;\n",
       "    }\n",
       "\n",
       "    .dataframe tbody tr th {\n",
       "        vertical-align: top;\n",
       "    }\n",
       "\n",
       "    .dataframe thead th {\n",
       "        text-align: right;\n",
       "    }\n",
       "</style>\n",
       "<table border=\"1\" class=\"dataframe\">\n",
       "  <thead>\n",
       "    <tr style=\"text-align: right;\">\n",
       "      <th></th>\n",
       "      <th>periodo</th>\n",
       "      <th>customer_id</th>\n",
       "      <th>product_id</th>\n",
       "      <th>plan_precios_cuidados</th>\n",
       "      <th>cust_request_qty</th>\n",
       "      <th>cust_request_tn</th>\n",
       "      <th>tn</th>\n",
       "      <th>periodo_fecha</th>\n",
       "      <th>cat1</th>\n",
       "      <th>cat2</th>\n",
       "      <th>cat3</th>\n",
       "      <th>brand</th>\n",
       "      <th>sku_size</th>\n",
       "    </tr>\n",
       "  </thead>\n",
       "  <tbody>\n",
       "    <tr>\n",
       "      <th>0</th>\n",
       "      <td>201701</td>\n",
       "      <td>10234</td>\n",
       "      <td>20524</td>\n",
       "      <td>0</td>\n",
       "      <td>2</td>\n",
       "      <td>0.05300</td>\n",
       "      <td>0.05300</td>\n",
       "      <td>2017-01-01</td>\n",
       "      <td>HC</td>\n",
       "      <td>VAJILLA</td>\n",
       "      <td>Cristalino</td>\n",
       "      <td>Importado</td>\n",
       "      <td>500.0</td>\n",
       "    </tr>\n",
       "    <tr>\n",
       "      <th>1</th>\n",
       "      <td>201701</td>\n",
       "      <td>10032</td>\n",
       "      <td>20524</td>\n",
       "      <td>0</td>\n",
       "      <td>1</td>\n",
       "      <td>0.13628</td>\n",
       "      <td>0.13628</td>\n",
       "      <td>2017-01-01</td>\n",
       "      <td>HC</td>\n",
       "      <td>VAJILLA</td>\n",
       "      <td>Cristalino</td>\n",
       "      <td>Importado</td>\n",
       "      <td>500.0</td>\n",
       "    </tr>\n",
       "    <tr>\n",
       "      <th>2</th>\n",
       "      <td>201701</td>\n",
       "      <td>10217</td>\n",
       "      <td>20524</td>\n",
       "      <td>0</td>\n",
       "      <td>1</td>\n",
       "      <td>0.03028</td>\n",
       "      <td>0.03028</td>\n",
       "      <td>2017-01-01</td>\n",
       "      <td>HC</td>\n",
       "      <td>VAJILLA</td>\n",
       "      <td>Cristalino</td>\n",
       "      <td>Importado</td>\n",
       "      <td>500.0</td>\n",
       "    </tr>\n",
       "    <tr>\n",
       "      <th>3</th>\n",
       "      <td>201701</td>\n",
       "      <td>10125</td>\n",
       "      <td>20524</td>\n",
       "      <td>0</td>\n",
       "      <td>1</td>\n",
       "      <td>0.02271</td>\n",
       "      <td>0.02271</td>\n",
       "      <td>2017-01-01</td>\n",
       "      <td>HC</td>\n",
       "      <td>VAJILLA</td>\n",
       "      <td>Cristalino</td>\n",
       "      <td>Importado</td>\n",
       "      <td>500.0</td>\n",
       "    </tr>\n",
       "    <tr>\n",
       "      <th>4</th>\n",
       "      <td>201701</td>\n",
       "      <td>10012</td>\n",
       "      <td>20524</td>\n",
       "      <td>0</td>\n",
       "      <td>11</td>\n",
       "      <td>1.54452</td>\n",
       "      <td>1.54452</td>\n",
       "      <td>2017-01-01</td>\n",
       "      <td>HC</td>\n",
       "      <td>VAJILLA</td>\n",
       "      <td>Cristalino</td>\n",
       "      <td>Importado</td>\n",
       "      <td>500.0</td>\n",
       "    </tr>\n",
       "  </tbody>\n",
       "</table>\n",
       "</div>"
      ],
      "text/plain": [
       "   periodo  customer_id  product_id  plan_precios_cuidados  cust_request_qty  \\\n",
       "0   201701        10234       20524                      0                 2   \n",
       "1   201701        10032       20524                      0                 1   \n",
       "2   201701        10217       20524                      0                 1   \n",
       "3   201701        10125       20524                      0                 1   \n",
       "4   201701        10012       20524                      0                11   \n",
       "\n",
       "   cust_request_tn       tn periodo_fecha cat1     cat2        cat3  \\\n",
       "0          0.05300  0.05300    2017-01-01   HC  VAJILLA  Cristalino   \n",
       "1          0.13628  0.13628    2017-01-01   HC  VAJILLA  Cristalino   \n",
       "2          0.03028  0.03028    2017-01-01   HC  VAJILLA  Cristalino   \n",
       "3          0.02271  0.02271    2017-01-01   HC  VAJILLA  Cristalino   \n",
       "4          1.54452  1.54452    2017-01-01   HC  VAJILLA  Cristalino   \n",
       "\n",
       "       brand  sku_size  \n",
       "0  Importado     500.0  \n",
       "1  Importado     500.0  \n",
       "2  Importado     500.0  \n",
       "3  Importado     500.0  \n",
       "4  Importado     500.0  "
      ]
     },
     "execution_count": 26,
     "metadata": {},
     "output_type": "execute_result"
    }
   ],
   "source": [
    "print(len(df_sellout))\n",
    "df_sellout = pd.merge(df_sellout, df_product, on='product_id', how='left')\n",
    "print(len(df_sellout))\n",
    "df_sellout.head()"
   ]
  },
  {
   "cell_type": "code",
   "execution_count": 27,
   "id": "0d0fa32c",
   "metadata": {},
   "outputs": [],
   "source": [
    "df_sellout.cat1 = np.where(df_sellout.cat1.isna(),\"desconocida\",df_sellout.cat1)\n",
    "df_sellout.cat2 = np.where(df_sellout.cat2.isna(),\"desconocida\",df_sellout.cat2)\n",
    "df_sellout.cat3 = np.where(df_sellout.cat3.isna(),\"desconocida\",df_sellout.cat3)\n",
    "df_sellout.brand = np.where(df_sellout.brand.isna(),\"desconocida\",df_sellout.brand)\n",
    "df_sellout.sku_size = np.where(df_sellout.sku_size.isna(),0,df_sellout.sku_size)"
   ]
  },
  {
   "cell_type": "markdown",
   "id": "00be4564-d3fa-4e79-9113-1ff1610f93f8",
   "metadata": {},
   "source": [
    "## Exogenas"
   ]
  },
  {
   "cell_type": "code",
   "execution_count": 28,
   "id": "1429c6c6-d1e8-444f-b194-f6af13733716",
   "metadata": {},
   "outputs": [
    {
     "name": "stdout",
     "output_type": "stream",
     "text": [
      "<class 'pandas.core.frame.DataFrame'>\n",
      "RangeIndex: 48 entries, 0 to 47\n",
      "Data columns (total 7 columns):\n",
      " #   Column                     Non-Null Count  Dtype         \n",
      "---  ------                     --------------  -----         \n",
      " 0   periodo_fecha              48 non-null     datetime64[ns]\n",
      " 1   temp_media                 48 non-null     float64       \n",
      " 2   temp_max_media             48 non-null     float64       \n",
      " 3   temp_min_media             48 non-null     float64       \n",
      " 4   IPC                        48 non-null     float64       \n",
      " 5   promedio_mens_dolar_venta  48 non-null     float64       \n",
      " 6   catastrofe                 48 non-null     bool          \n",
      "dtypes: bool(1), datetime64[ns](1), float64(5)\n",
      "memory usage: 2.4 KB\n"
     ]
    }
   ],
   "source": [
    "df_exogenas = pd.read_csv(\"emp3_exogenas.csv\")\n",
    "df_exogenas.periodo_fecha = pd.to_datetime(df_exogenas.periodo_fecha)\n",
    "\n",
    "df_exogenas.info()"
   ]
  },
  {
   "cell_type": "markdown",
   "id": "37c1ad1c-9fba-402f-bdb3-f3d6ad223fde",
   "metadata": {},
   "source": [
    "## Generación de datasets base"
   ]
  },
  {
   "cell_type": "markdown",
   "id": "7b1be33c",
   "metadata": {},
   "source": [
    "**El primer forecast de ventas para cada producto que se harán durante el mes 202002, de forma que nuestras plantas puedan fabricarlos durante el mes de 202001.**"
   ]
  },
  {
   "cell_type": "code",
   "execution_count": 29,
   "id": "051fc15c",
   "metadata": {},
   "outputs": [
    {
     "name": "stdout",
     "output_type": "stream",
     "text": [
      "Toneladas Total Control: 1324989.0\n"
     ]
    }
   ],
   "source": [
    "df_base_prod = df_sellout.groupby(['periodo','periodo_fecha','product_id']).agg({'tn': 'sum', 'cust_request_qty':'sum','cust_request_tn':'sum','plan_precios_cuidados':'max','cat1': 'max', 'cat2': 'max', 'cat3': 'max', 'sku_size':'max'}).reset_index()\n",
    "print(\"Toneladas Total Control:\", round(sum(df_base_prod.tn),0))"
   ]
  },
  {
   "cell_type": "code",
   "execution_count": 30,
   "id": "45f8d2d2",
   "metadata": {},
   "outputs": [],
   "source": [
    "# generamos nuevos tn y cust_request_tn con normalizacion\n",
    "\n",
    "# Normalizacion MinMaxScaler lineal (0-1)\n",
    "scaler = MinMaxScaler()\n",
    "df_base_prod[['tn_01', 'cust_request_tn_01']] = scaler.fit_transform(df_base_prod[['tn', 'cust_request_tn']])\n",
    "\n",
    "# Normalizacion standard con media y desvio\n",
    "scaler = StandardScaler()\n",
    "df_base_prod[['tn_md', 'cust_request_tn_md']] = scaler.fit_transform(df_base_prod[['tn', 'cust_request_tn']])"
   ]
  },
  {
   "cell_type": "code",
   "execution_count": 31,
   "id": "c03f6594",
   "metadata": {},
   "outputs": [],
   "source": [
    "# Lista con el nuevo orden de las columnas\n",
    "new_order = ['periodo','periodo_fecha','product_id','tn','tn_01','tn_md','cust_request_qty','cust_request_tn',\n",
    "             'cust_request_tn_01', 'cust_request_tn_md', 'plan_precios_cuidados', 'cat1','cat2','cat3','sku_size']\n",
    "\n",
    "# Reordena las columnas del DataFrame\n",
    "df_base_prod = df_base_prod[new_order]"
   ]
  },
  {
   "cell_type": "code",
   "execution_count": 32,
   "id": "8d21ab36",
   "metadata": {},
   "outputs": [
    {
     "data": {
      "text/html": [
       "<div>\n",
       "<style scoped>\n",
       "    .dataframe tbody tr th:only-of-type {\n",
       "        vertical-align: middle;\n",
       "    }\n",
       "\n",
       "    .dataframe tbody tr th {\n",
       "        vertical-align: top;\n",
       "    }\n",
       "\n",
       "    .dataframe thead th {\n",
       "        text-align: right;\n",
       "    }\n",
       "</style>\n",
       "<table border=\"1\" class=\"dataframe\">\n",
       "  <thead>\n",
       "    <tr style=\"text-align: right;\">\n",
       "      <th></th>\n",
       "      <th>periodo</th>\n",
       "      <th>periodo_fecha</th>\n",
       "      <th>product_id</th>\n",
       "      <th>tn</th>\n",
       "      <th>tn_01</th>\n",
       "      <th>tn_md</th>\n",
       "      <th>cust_request_qty</th>\n",
       "      <th>cust_request_tn</th>\n",
       "      <th>cust_request_tn_01</th>\n",
       "      <th>cust_request_tn_md</th>\n",
       "      <th>plan_precios_cuidados</th>\n",
       "      <th>cat1</th>\n",
       "      <th>cat2</th>\n",
       "      <th>cat3</th>\n",
       "      <th>sku_size</th>\n",
       "    </tr>\n",
       "  </thead>\n",
       "  <tbody>\n",
       "    <tr>\n",
       "      <th>0</th>\n",
       "      <td>201701</td>\n",
       "      <td>2017-01-01</td>\n",
       "      <td>20001</td>\n",
       "      <td>934.77222</td>\n",
       "      <td>0.407273</td>\n",
       "      <td>8.128089</td>\n",
       "      <td>479</td>\n",
       "      <td>937.72717</td>\n",
       "      <td>0.386897</td>\n",
       "      <td>7.876399</td>\n",
       "      <td>0</td>\n",
       "      <td>HC</td>\n",
       "      <td>ROPA LAVADO</td>\n",
       "      <td>Liquido</td>\n",
       "      <td>3000.0</td>\n",
       "    </tr>\n",
       "    <tr>\n",
       "      <th>1</th>\n",
       "      <td>201701</td>\n",
       "      <td>2017-01-01</td>\n",
       "      <td>20002</td>\n",
       "      <td>550.15707</td>\n",
       "      <td>0.239699</td>\n",
       "      <td>4.624822</td>\n",
       "      <td>391</td>\n",
       "      <td>555.18654</td>\n",
       "      <td>0.229065</td>\n",
       "      <td>4.507684</td>\n",
       "      <td>0</td>\n",
       "      <td>HC</td>\n",
       "      <td>ROPA LAVADO</td>\n",
       "      <td>Liquido</td>\n",
       "      <td>3000.0</td>\n",
       "    </tr>\n",
       "    <tr>\n",
       "      <th>2</th>\n",
       "      <td>201701</td>\n",
       "      <td>2017-01-01</td>\n",
       "      <td>20003</td>\n",
       "      <td>1063.45835</td>\n",
       "      <td>0.463340</td>\n",
       "      <td>9.300226</td>\n",
       "      <td>438</td>\n",
       "      <td>1067.81543</td>\n",
       "      <td>0.440571</td>\n",
       "      <td>9.021977</td>\n",
       "      <td>0</td>\n",
       "      <td>FOODS</td>\n",
       "      <td>ADEREZOS</td>\n",
       "      <td>Mayonesa</td>\n",
       "      <td>475.0</td>\n",
       "    </tr>\n",
       "    <tr>\n",
       "      <th>3</th>\n",
       "      <td>201701</td>\n",
       "      <td>2017-01-01</td>\n",
       "      <td>20004</td>\n",
       "      <td>555.91614</td>\n",
       "      <td>0.242208</td>\n",
       "      <td>4.677278</td>\n",
       "      <td>339</td>\n",
       "      <td>569.37394</td>\n",
       "      <td>0.234918</td>\n",
       "      <td>4.632621</td>\n",
       "      <td>0</td>\n",
       "      <td>FOODS</td>\n",
       "      <td>ADEREZOS</td>\n",
       "      <td>Mayonesa</td>\n",
       "      <td>240.0</td>\n",
       "    </tr>\n",
       "    <tr>\n",
       "      <th>4</th>\n",
       "      <td>201701</td>\n",
       "      <td>2017-01-01</td>\n",
       "      <td>20005</td>\n",
       "      <td>494.27011</td>\n",
       "      <td>0.215349</td>\n",
       "      <td>4.115776</td>\n",
       "      <td>249</td>\n",
       "      <td>494.60084</td>\n",
       "      <td>0.204068</td>\n",
       "      <td>3.974157</td>\n",
       "      <td>0</td>\n",
       "      <td>FOODS</td>\n",
       "      <td>ADEREZOS</td>\n",
       "      <td>Mayonesa</td>\n",
       "      <td>120.0</td>\n",
       "    </tr>\n",
       "  </tbody>\n",
       "</table>\n",
       "</div>"
      ],
      "text/plain": [
       "   periodo periodo_fecha  product_id          tn     tn_01     tn_md  \\\n",
       "0   201701    2017-01-01       20001   934.77222  0.407273  8.128089   \n",
       "1   201701    2017-01-01       20002   550.15707  0.239699  4.624822   \n",
       "2   201701    2017-01-01       20003  1063.45835  0.463340  9.300226   \n",
       "3   201701    2017-01-01       20004   555.91614  0.242208  4.677278   \n",
       "4   201701    2017-01-01       20005   494.27011  0.215349  4.115776   \n",
       "\n",
       "   cust_request_qty  cust_request_tn  cust_request_tn_01  cust_request_tn_md  \\\n",
       "0               479        937.72717            0.386897            7.876399   \n",
       "1               391        555.18654            0.229065            4.507684   \n",
       "2               438       1067.81543            0.440571            9.021977   \n",
       "3               339        569.37394            0.234918            4.632621   \n",
       "4               249        494.60084            0.204068            3.974157   \n",
       "\n",
       "   plan_precios_cuidados   cat1         cat2      cat3  sku_size  \n",
       "0                      0     HC  ROPA LAVADO   Liquido    3000.0  \n",
       "1                      0     HC  ROPA LAVADO   Liquido    3000.0  \n",
       "2                      0  FOODS     ADEREZOS  Mayonesa     475.0  \n",
       "3                      0  FOODS     ADEREZOS  Mayonesa     240.0  \n",
       "4                      0  FOODS     ADEREZOS  Mayonesa     120.0  "
      ]
     },
     "execution_count": 32,
     "metadata": {},
     "output_type": "execute_result"
    }
   ],
   "source": [
    "df_base_prod.head()"
   ]
  },
  {
   "cell_type": "code",
   "execution_count": 33,
   "id": "1d14bd94-1d45-4214-a11f-663d8e1d7282",
   "metadata": {},
   "outputs": [
    {
     "name": "stdout",
     "output_type": "stream",
     "text": [
      "31243\n",
      "31243\n"
     ]
    }
   ],
   "source": [
    "# Le agregamos las exogenas\n",
    "print(len(df_base_prod))\n",
    "df_base_prod = pd.merge(df_base_prod,df_exogenas,on=\"periodo_fecha\",how=\"left\")\n",
    "print(len(df_base_prod))"
   ]
  },
  {
   "cell_type": "code",
   "execution_count": 34,
   "id": "9ca00d2c-a934-462a-9b6b-71ce97ad4d7a",
   "metadata": {},
   "outputs": [
    {
     "name": "stdout",
     "output_type": "stream",
     "text": [
      "<class 'pandas.core.frame.DataFrame'>\n",
      "Int64Index: 31243 entries, 0 to 31242\n",
      "Data columns (total 21 columns):\n",
      " #   Column                     Non-Null Count  Dtype         \n",
      "---  ------                     --------------  -----         \n",
      " 0   periodo                    31243 non-null  int64         \n",
      " 1   periodo_fecha              31243 non-null  datetime64[ns]\n",
      " 2   product_id                 31243 non-null  int64         \n",
      " 3   tn                         31243 non-null  float64       \n",
      " 4   tn_01                      31243 non-null  float64       \n",
      " 5   tn_md                      31243 non-null  float64       \n",
      " 6   cust_request_qty           31243 non-null  int64         \n",
      " 7   cust_request_tn            31243 non-null  float64       \n",
      " 8   cust_request_tn_01         31243 non-null  float64       \n",
      " 9   cust_request_tn_md         31243 non-null  float64       \n",
      " 10  plan_precios_cuidados      31243 non-null  int64         \n",
      " 11  cat1                       31243 non-null  object        \n",
      " 12  cat2                       31243 non-null  object        \n",
      " 13  cat3                       31243 non-null  object        \n",
      " 14  sku_size                   31243 non-null  float64       \n",
      " 15  temp_media                 31243 non-null  float64       \n",
      " 16  temp_max_media             31243 non-null  float64       \n",
      " 17  temp_min_media             31243 non-null  float64       \n",
      " 18  IPC                        31243 non-null  float64       \n",
      " 19  promedio_mens_dolar_venta  31243 non-null  float64       \n",
      " 20  catastrofe                 31243 non-null  bool          \n",
      "dtypes: bool(1), datetime64[ns](1), float64(12), int64(4), object(3)\n",
      "memory usage: 5.0+ MB\n"
     ]
    }
   ],
   "source": [
    "df_base_prod.info()"
   ]
  },
  {
   "cell_type": "code",
   "execution_count": 35,
   "id": "b8be14fc",
   "metadata": {},
   "outputs": [],
   "source": [
    "# Exportar el DataFrame a un archivo CSV\n",
    "df_base_prod.to_csv(\"emp3_sellout_base_period_product.csv\", index=False)"
   ]
  },
  {
   "cell_type": "markdown",
   "id": "e1db1bb3",
   "metadata": {},
   "source": [
    "**El segundo forecast es las ventas esperadas en 202002, para los 120 pares de <mejores_clientes, mejores_productos>.**"
   ]
  },
  {
   "cell_type": "code",
   "execution_count": 36,
   "id": "b022d56d",
   "metadata": {},
   "outputs": [],
   "source": [
    "# Filtrar productos y clientes\n",
    "products_to_filter = [20001, 20002, 20003, 20004, 20005, 20006, 20007, 20009, 20011, 20032]\n",
    "customers_to_filter = [10001, 10002, 10003, 10004, 10005, 10006, 10007, 10008, 10009, 10011, 10012, 10013]\n",
    "filtered_df = df_sellout[(df_sellout['product_id'].isin(products_to_filter))]\n",
    "filtered_df = filtered_df[(filtered_df['customer_id'].isin(customers_to_filter))]"
   ]
  },
  {
   "cell_type": "code",
   "execution_count": 37,
   "id": "ea350336",
   "metadata": {},
   "outputs": [],
   "source": [
    "# generamos nuevos tn y cust_request_tn con normalizacion\n",
    "\n",
    "# Normalizacion MinMaxScaler lineal (0-1)\n",
    "scaler = MinMaxScaler()\n",
    "filtered_df[['tn_01', 'cust_request_tn_01']] = scaler.fit_transform(filtered_df[['tn', 'cust_request_tn']])\n",
    "\n",
    "# Normalizacion standard con media y desvio\n",
    "scaler = StandardScaler()\n",
    "filtered_df[['tn_md', 'cust_request_tn_md']] = scaler.fit_transform(filtered_df[['tn', 'cust_request_tn']])"
   ]
  },
  {
   "cell_type": "code",
   "execution_count": 38,
   "id": "5bda18ea",
   "metadata": {},
   "outputs": [],
   "source": [
    "# Lista con el nuevo orden de las columnas\n",
    "new_order = ['periodo','periodo_fecha', 'product_id', 'customer_id', 'tn','tn_01','tn_md','cust_request_qty','cust_request_tn',\n",
    "             'cust_request_tn_01', 'cust_request_tn_md', 'plan_precios_cuidados', 'cat1','cat2','cat3','sku_size']\n",
    "\n",
    "# Reordena las columnas del DataFrame\n",
    "filtered_df = filtered_df[new_order]"
   ]
  },
  {
   "cell_type": "code",
   "execution_count": 39,
   "id": "e13b7e78",
   "metadata": {},
   "outputs": [
    {
     "data": {
      "text/html": [
       "<div>\n",
       "<style scoped>\n",
       "    .dataframe tbody tr th:only-of-type {\n",
       "        vertical-align: middle;\n",
       "    }\n",
       "\n",
       "    .dataframe tbody tr th {\n",
       "        vertical-align: top;\n",
       "    }\n",
       "\n",
       "    .dataframe thead th {\n",
       "        text-align: right;\n",
       "    }\n",
       "</style>\n",
       "<table border=\"1\" class=\"dataframe\">\n",
       "  <thead>\n",
       "    <tr style=\"text-align: right;\">\n",
       "      <th></th>\n",
       "      <th>periodo</th>\n",
       "      <th>periodo_fecha</th>\n",
       "      <th>product_id</th>\n",
       "      <th>customer_id</th>\n",
       "      <th>tn</th>\n",
       "      <th>tn_01</th>\n",
       "      <th>tn_md</th>\n",
       "      <th>cust_request_qty</th>\n",
       "      <th>cust_request_tn</th>\n",
       "      <th>cust_request_tn_01</th>\n",
       "      <th>cust_request_tn_md</th>\n",
       "      <th>plan_precios_cuidados</th>\n",
       "      <th>cat1</th>\n",
       "      <th>cat2</th>\n",
       "      <th>cat3</th>\n",
       "      <th>sku_size</th>\n",
       "    </tr>\n",
       "  </thead>\n",
       "  <tbody>\n",
       "    <tr>\n",
       "      <th>4797</th>\n",
       "      <td>201701</td>\n",
       "      <td>2017-01-01</td>\n",
       "      <td>20007</td>\n",
       "      <td>10011</td>\n",
       "      <td>4.90379</td>\n",
       "      <td>0.008943</td>\n",
       "      <td>-0.647465</td>\n",
       "      <td>5</td>\n",
       "      <td>4.90379</td>\n",
       "      <td>0.008883</td>\n",
       "      <td>-0.650233</td>\n",
       "      <td>0</td>\n",
       "      <td>HC</td>\n",
       "      <td>ROPA ACONDICIONADOR</td>\n",
       "      <td>ACONDICIONADOR</td>\n",
       "      <td>900.0</td>\n",
       "    </tr>\n",
       "    <tr>\n",
       "      <th>4812</th>\n",
       "      <td>201701</td>\n",
       "      <td>2017-01-01</td>\n",
       "      <td>20007</td>\n",
       "      <td>10005</td>\n",
       "      <td>4.20325</td>\n",
       "      <td>0.007664</td>\n",
       "      <td>-0.661350</td>\n",
       "      <td>6</td>\n",
       "      <td>4.20325</td>\n",
       "      <td>0.007613</td>\n",
       "      <td>-0.663648</td>\n",
       "      <td>0</td>\n",
       "      <td>HC</td>\n",
       "      <td>ROPA ACONDICIONADOR</td>\n",
       "      <td>ACONDICIONADOR</td>\n",
       "      <td>900.0</td>\n",
       "    </tr>\n",
       "    <tr>\n",
       "      <th>4823</th>\n",
       "      <td>201701</td>\n",
       "      <td>2017-01-01</td>\n",
       "      <td>20007</td>\n",
       "      <td>10007</td>\n",
       "      <td>2.52973</td>\n",
       "      <td>0.004610</td>\n",
       "      <td>-0.694521</td>\n",
       "      <td>1</td>\n",
       "      <td>2.52973</td>\n",
       "      <td>0.004579</td>\n",
       "      <td>-0.695695</td>\n",
       "      <td>0</td>\n",
       "      <td>HC</td>\n",
       "      <td>ROPA ACONDICIONADOR</td>\n",
       "      <td>ACONDICIONADOR</td>\n",
       "      <td>900.0</td>\n",
       "    </tr>\n",
       "    <tr>\n",
       "      <th>4836</th>\n",
       "      <td>201701</td>\n",
       "      <td>2017-01-01</td>\n",
       "      <td>20007</td>\n",
       "      <td>10012</td>\n",
       "      <td>21.19132</td>\n",
       "      <td>0.038671</td>\n",
       "      <td>-0.324629</td>\n",
       "      <td>7</td>\n",
       "      <td>21.19132</td>\n",
       "      <td>0.038413</td>\n",
       "      <td>-0.338329</td>\n",
       "      <td>0</td>\n",
       "      <td>HC</td>\n",
       "      <td>ROPA ACONDICIONADOR</td>\n",
       "      <td>ACONDICIONADOR</td>\n",
       "      <td>900.0</td>\n",
       "    </tr>\n",
       "    <tr>\n",
       "      <th>4843</th>\n",
       "      <td>201701</td>\n",
       "      <td>2017-01-01</td>\n",
       "      <td>20007</td>\n",
       "      <td>10003</td>\n",
       "      <td>20.22810</td>\n",
       "      <td>0.036913</td>\n",
       "      <td>-0.343721</td>\n",
       "      <td>22</td>\n",
       "      <td>20.22810</td>\n",
       "      <td>0.036667</td>\n",
       "      <td>-0.356774</td>\n",
       "      <td>0</td>\n",
       "      <td>HC</td>\n",
       "      <td>ROPA ACONDICIONADOR</td>\n",
       "      <td>ACONDICIONADOR</td>\n",
       "      <td>900.0</td>\n",
       "    </tr>\n",
       "  </tbody>\n",
       "</table>\n",
       "</div>"
      ],
      "text/plain": [
       "      periodo periodo_fecha  product_id  customer_id        tn     tn_01  \\\n",
       "4797   201701    2017-01-01       20007        10011   4.90379  0.008943   \n",
       "4812   201701    2017-01-01       20007        10005   4.20325  0.007664   \n",
       "4823   201701    2017-01-01       20007        10007   2.52973  0.004610   \n",
       "4836   201701    2017-01-01       20007        10012  21.19132  0.038671   \n",
       "4843   201701    2017-01-01       20007        10003  20.22810  0.036913   \n",
       "\n",
       "         tn_md  cust_request_qty  cust_request_tn  cust_request_tn_01  \\\n",
       "4797 -0.647465                 5          4.90379            0.008883   \n",
       "4812 -0.661350                 6          4.20325            0.007613   \n",
       "4823 -0.694521                 1          2.52973            0.004579   \n",
       "4836 -0.324629                 7         21.19132            0.038413   \n",
       "4843 -0.343721                22         20.22810            0.036667   \n",
       "\n",
       "      cust_request_tn_md  plan_precios_cuidados cat1                 cat2  \\\n",
       "4797           -0.650233                      0   HC  ROPA ACONDICIONADOR   \n",
       "4812           -0.663648                      0   HC  ROPA ACONDICIONADOR   \n",
       "4823           -0.695695                      0   HC  ROPA ACONDICIONADOR   \n",
       "4836           -0.338329                      0   HC  ROPA ACONDICIONADOR   \n",
       "4843           -0.356774                      0   HC  ROPA ACONDICIONADOR   \n",
       "\n",
       "                cat3  sku_size  \n",
       "4797  ACONDICIONADOR     900.0  \n",
       "4812  ACONDICIONADOR     900.0  \n",
       "4823  ACONDICIONADOR     900.0  \n",
       "4836  ACONDICIONADOR     900.0  \n",
       "4843  ACONDICIONADOR     900.0  "
      ]
     },
     "execution_count": 39,
     "metadata": {},
     "output_type": "execute_result"
    }
   ],
   "source": [
    "filtered_df.head()"
   ]
  },
  {
   "cell_type": "code",
   "execution_count": 40,
   "id": "1ef85db9-2647-4147-b2d5-08aff6f0b971",
   "metadata": {},
   "outputs": [
    {
     "name": "stdout",
     "output_type": "stream",
     "text": [
      "3744\n",
      "3744\n"
     ]
    }
   ],
   "source": [
    "# Le agregamos las exogenas\n",
    "print(len(filtered_df))\n",
    "filtered_df = pd.merge(filtered_df,df_exogenas,on=\"periodo_fecha\",how=\"left\")\n",
    "print(len(filtered_df))"
   ]
  },
  {
   "cell_type": "code",
   "execution_count": 41,
   "id": "2cea70d9-ac0a-4051-ac1d-5c3a5b6f6fd5",
   "metadata": {},
   "outputs": [
    {
     "name": "stdout",
     "output_type": "stream",
     "text": [
      "<class 'pandas.core.frame.DataFrame'>\n",
      "Int64Index: 3744 entries, 0 to 3743\n",
      "Data columns (total 22 columns):\n",
      " #   Column                     Non-Null Count  Dtype         \n",
      "---  ------                     --------------  -----         \n",
      " 0   periodo                    3744 non-null   int64         \n",
      " 1   periodo_fecha              3744 non-null   datetime64[ns]\n",
      " 2   product_id                 3744 non-null   int64         \n",
      " 3   customer_id                3744 non-null   int64         \n",
      " 4   tn                         3744 non-null   float64       \n",
      " 5   tn_01                      3744 non-null   float64       \n",
      " 6   tn_md                      3744 non-null   float64       \n",
      " 7   cust_request_qty           3744 non-null   int64         \n",
      " 8   cust_request_tn            3744 non-null   float64       \n",
      " 9   cust_request_tn_01         3744 non-null   float64       \n",
      " 10  cust_request_tn_md         3744 non-null   float64       \n",
      " 11  plan_precios_cuidados      3744 non-null   int64         \n",
      " 12  cat1                       3744 non-null   object        \n",
      " 13  cat2                       3744 non-null   object        \n",
      " 14  cat3                       3744 non-null   object        \n",
      " 15  sku_size                   3744 non-null   float64       \n",
      " 16  temp_media                 3744 non-null   float64       \n",
      " 17  temp_max_media             3744 non-null   float64       \n",
      " 18  temp_min_media             3744 non-null   float64       \n",
      " 19  IPC                        3744 non-null   float64       \n",
      " 20  promedio_mens_dolar_venta  3744 non-null   float64       \n",
      " 21  catastrofe                 3744 non-null   bool          \n",
      "dtypes: bool(1), datetime64[ns](1), float64(12), int64(5), object(3)\n",
      "memory usage: 647.2+ KB\n"
     ]
    }
   ],
   "source": [
    "filtered_df.info()"
   ]
  },
  {
   "cell_type": "code",
   "execution_count": 42,
   "id": "dbe73bb1",
   "metadata": {},
   "outputs": [],
   "source": [
    "# Exportar el DataFrame a un archivo CSV\n",
    "filtered_df.to_csv(\"emp3_sellout_base_period_filtered_customer_product.csv\", index=False)"
   ]
  },
  {
   "cell_type": "code",
   "execution_count": null,
   "id": "b9871719",
   "metadata": {},
   "outputs": [],
   "source": []
  }
 ],
 "metadata": {
  "kernelspec": {
   "display_name": "Python 3 (ipykernel)",
   "language": "python",
   "name": "python3"
  },
  "language_info": {
   "codemirror_mode": {
    "name": "ipython",
    "version": 3
   },
   "file_extension": ".py",
   "mimetype": "text/x-python",
   "name": "python",
   "nbconvert_exporter": "python",
   "pygments_lexer": "ipython3",
   "version": "3.9.12"
  }
 },
 "nbformat": 4,
 "nbformat_minor": 5
}
