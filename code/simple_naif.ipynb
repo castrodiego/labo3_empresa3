{
 "cells": [
  {
   "cell_type": "code",
   "execution_count": 25,
   "id": "21185fc4-daf9-4aa1-ab9f-20811ecafd13",
   "metadata": {},
   "outputs": [],
   "source": [
    "import warnings\n",
    "warnings.filterwarnings(\"ignore\")\n",
    "\n",
    "import logging\n",
    "import pandas as pd\n",
    "import os\n",
    "import gzip\n",
    "\n",
    "from datetime import datetime\n",
    "import numpy as np\n",
    "import matplotlib.pylab as plt\n",
    "%matplotlib inline\n",
    "from matplotlib.pylab import rcParams\n",
    "\n",
    "# importo los .py\n",
    "import sys\n",
    "sys.path.append(\"auxiliares\")\n",
    "import metricas"
   ]
  },
  {
   "cell_type": "code",
   "execution_count": 26,
   "id": "a60c14f0-0640-4e76-a49a-56ca438a427d",
   "metadata": {},
   "outputs": [],
   "source": [
    "####################################################\n",
    "############# Setear segun cada maquina ############\n",
    "#os.chdir(\"C:/diego_tools/labo3/\")\n",
    "os.chdir(\"/home/dcastro_contacto/buckets/b1/\")\n",
    "####################################################"
   ]
  },
  {
   "cell_type": "code",
   "execution_count": 27,
   "id": "22c63b32-aa06-4505-a03b-607081053fa5",
   "metadata": {},
   "outputs": [],
   "source": [
    "mes_train_tope = 201902\n",
    "mes_holdout = 201904"
   ]
  },
  {
   "cell_type": "code",
   "execution_count": 28,
   "id": "f02e56ca-4931-4086-a54b-d900508cecee",
   "metadata": {},
   "outputs": [],
   "source": [
    "arch_prod_ids_prediccion = \"datasets/productos_a_predecir_201902.csv\"\n",
    "arch_sellout_productos = \"datasets/emp3_sellout_producto_base.csv\""
   ]
  },
  {
   "cell_type": "code",
   "execution_count": 29,
   "id": "5008958b-1549-4c7c-bd61-7a683301009a",
   "metadata": {},
   "outputs": [],
   "source": [
    "df_sellout = pd.read_csv(arch_sellout_productos)"
   ]
  },
  {
   "cell_type": "code",
   "execution_count": 30,
   "id": "c9e327ab-3daf-4e03-b32c-118e2ec57ebc",
   "metadata": {},
   "outputs": [
    {
     "data": {
      "text/html": [
       "<div>\n",
       "<style scoped>\n",
       "    .dataframe tbody tr th:only-of-type {\n",
       "        vertical-align: middle;\n",
       "    }\n",
       "\n",
       "    .dataframe tbody tr th {\n",
       "        vertical-align: top;\n",
       "    }\n",
       "\n",
       "    .dataframe thead th {\n",
       "        text-align: right;\n",
       "    }\n",
       "</style>\n",
       "<table border=\"1\" class=\"dataframe\">\n",
       "  <thead>\n",
       "    <tr style=\"text-align: right;\">\n",
       "      <th></th>\n",
       "      <th>product_id</th>\n",
       "      <th>periodo</th>\n",
       "      <th>product_id_tn</th>\n",
       "      <th>cero_ventas</th>\n",
       "      <th>cust_request_qty</th>\n",
       "      <th>cust_request_tn</th>\n",
       "      <th>mes</th>\n",
       "      <th>producto_estrella</th>\n",
       "      <th>meses_historia_prod</th>\n",
       "      <th>cat1</th>\n",
       "      <th>cat2</th>\n",
       "      <th>cat3</th>\n",
       "      <th>sku_size</th>\n",
       "      <th>temp_media</th>\n",
       "      <th>temp_min_media</th>\n",
       "      <th>temp_max_media</th>\n",
       "      <th>IPC</th>\n",
       "      <th>promedio_mens_dolar_venta</th>\n",
       "      <th>catastrofe</th>\n",
       "    </tr>\n",
       "  </thead>\n",
       "  <tbody>\n",
       "    <tr>\n",
       "      <th>0</th>\n",
       "      <td>20001</td>\n",
       "      <td>201701</td>\n",
       "      <td>934.77222</td>\n",
       "      <td>0</td>\n",
       "      <td>479.0</td>\n",
       "      <td>937.72717</td>\n",
       "      <td>1</td>\n",
       "      <td>1.0</td>\n",
       "      <td>0</td>\n",
       "      <td>HC</td>\n",
       "      <td>ROPA LAVADO</td>\n",
       "      <td>Liquido</td>\n",
       "      <td>3000.0</td>\n",
       "      <td>25.65</td>\n",
       "      <td>20.9</td>\n",
       "      <td>30.4</td>\n",
       "      <td>1.6</td>\n",
       "      <td>15.91</td>\n",
       "      <td>False</td>\n",
       "    </tr>\n",
       "    <tr>\n",
       "      <th>1</th>\n",
       "      <td>20001</td>\n",
       "      <td>201702</td>\n",
       "      <td>798.01620</td>\n",
       "      <td>0</td>\n",
       "      <td>432.0</td>\n",
       "      <td>833.72187</td>\n",
       "      <td>2</td>\n",
       "      <td>1.0</td>\n",
       "      <td>1</td>\n",
       "      <td>HC</td>\n",
       "      <td>ROPA LAVADO</td>\n",
       "      <td>Liquido</td>\n",
       "      <td>3000.0</td>\n",
       "      <td>25.35</td>\n",
       "      <td>20.6</td>\n",
       "      <td>30.1</td>\n",
       "      <td>2.1</td>\n",
       "      <td>15.59</td>\n",
       "      <td>False</td>\n",
       "    </tr>\n",
       "    <tr>\n",
       "      <th>2</th>\n",
       "      <td>20001</td>\n",
       "      <td>201703</td>\n",
       "      <td>1303.35771</td>\n",
       "      <td>0</td>\n",
       "      <td>509.0</td>\n",
       "      <td>1330.74697</td>\n",
       "      <td>3</td>\n",
       "      <td>1.0</td>\n",
       "      <td>2</td>\n",
       "      <td>HC</td>\n",
       "      <td>ROPA LAVADO</td>\n",
       "      <td>Liquido</td>\n",
       "      <td>3000.0</td>\n",
       "      <td>22.45</td>\n",
       "      <td>18.0</td>\n",
       "      <td>26.9</td>\n",
       "      <td>2.4</td>\n",
       "      <td>15.52</td>\n",
       "      <td>False</td>\n",
       "    </tr>\n",
       "    <tr>\n",
       "      <th>3</th>\n",
       "      <td>20001</td>\n",
       "      <td>201704</td>\n",
       "      <td>1069.96130</td>\n",
       "      <td>0</td>\n",
       "      <td>279.0</td>\n",
       "      <td>1132.94430</td>\n",
       "      <td>4</td>\n",
       "      <td>1.0</td>\n",
       "      <td>3</td>\n",
       "      <td>HC</td>\n",
       "      <td>ROPA LAVADO</td>\n",
       "      <td>Liquido</td>\n",
       "      <td>3000.0</td>\n",
       "      <td>18.90</td>\n",
       "      <td>14.3</td>\n",
       "      <td>23.5</td>\n",
       "      <td>2.7</td>\n",
       "      <td>15.36</td>\n",
       "      <td>False</td>\n",
       "    </tr>\n",
       "    <tr>\n",
       "      <th>4</th>\n",
       "      <td>20001</td>\n",
       "      <td>201705</td>\n",
       "      <td>1502.20132</td>\n",
       "      <td>0</td>\n",
       "      <td>701.0</td>\n",
       "      <td>1550.68936</td>\n",
       "      <td>5</td>\n",
       "      <td>1.0</td>\n",
       "      <td>4</td>\n",
       "      <td>HC</td>\n",
       "      <td>ROPA LAVADO</td>\n",
       "      <td>Liquido</td>\n",
       "      <td>3000.0</td>\n",
       "      <td>15.90</td>\n",
       "      <td>12.3</td>\n",
       "      <td>19.5</td>\n",
       "      <td>1.4</td>\n",
       "      <td>15.72</td>\n",
       "      <td>False</td>\n",
       "    </tr>\n",
       "  </tbody>\n",
       "</table>\n",
       "</div>"
      ],
      "text/plain": [
       "   product_id  periodo  product_id_tn  cero_ventas  cust_request_qty  \\\n",
       "0       20001   201701      934.77222            0             479.0   \n",
       "1       20001   201702      798.01620            0             432.0   \n",
       "2       20001   201703     1303.35771            0             509.0   \n",
       "3       20001   201704     1069.96130            0             279.0   \n",
       "4       20001   201705     1502.20132            0             701.0   \n",
       "\n",
       "   cust_request_tn  mes  producto_estrella  meses_historia_prod cat1  \\\n",
       "0        937.72717    1                1.0                    0   HC   \n",
       "1        833.72187    2                1.0                    1   HC   \n",
       "2       1330.74697    3                1.0                    2   HC   \n",
       "3       1132.94430    4                1.0                    3   HC   \n",
       "4       1550.68936    5                1.0                    4   HC   \n",
       "\n",
       "          cat2     cat3  sku_size  temp_media  temp_min_media  temp_max_media  \\\n",
       "0  ROPA LAVADO  Liquido    3000.0       25.65            20.9            30.4   \n",
       "1  ROPA LAVADO  Liquido    3000.0       25.35            20.6            30.1   \n",
       "2  ROPA LAVADO  Liquido    3000.0       22.45            18.0            26.9   \n",
       "3  ROPA LAVADO  Liquido    3000.0       18.90            14.3            23.5   \n",
       "4  ROPA LAVADO  Liquido    3000.0       15.90            12.3            19.5   \n",
       "\n",
       "   IPC  promedio_mens_dolar_venta  catastrofe  \n",
       "0  1.6                      15.91       False  \n",
       "1  2.1                      15.59       False  \n",
       "2  2.4                      15.52       False  \n",
       "3  2.7                      15.36       False  \n",
       "4  1.4                      15.72       False  "
      ]
     },
     "execution_count": 30,
     "metadata": {},
     "output_type": "execute_result"
    }
   ],
   "source": [
    "df_sellout.head()"
   ]
  },
  {
   "cell_type": "code",
   "execution_count": 31,
   "id": "70f0ac6f-91a5-482b-a04b-e19966042321",
   "metadata": {},
   "outputs": [
    {
     "name": "stdout",
     "output_type": "stream",
     "text": [
      "<class 'pandas.core.frame.DataFrame'>\n",
      "RangeIndex: 35888 entries, 0 to 35887\n",
      "Data columns (total 19 columns):\n",
      " #   Column                     Non-Null Count  Dtype  \n",
      "---  ------                     --------------  -----  \n",
      " 0   product_id                 35888 non-null  int64  \n",
      " 1   periodo                    35888 non-null  int64  \n",
      " 2   product_id_tn              35888 non-null  float64\n",
      " 3   cero_ventas                35888 non-null  int64  \n",
      " 4   cust_request_qty           35888 non-null  float64\n",
      " 5   cust_request_tn            35888 non-null  float64\n",
      " 6   mes                        35888 non-null  int64  \n",
      " 7   producto_estrella          35888 non-null  float64\n",
      " 8   meses_historia_prod        35888 non-null  int64  \n",
      " 9   cat1                       35888 non-null  object \n",
      " 10  cat2                       35888 non-null  object \n",
      " 11  cat3                       35888 non-null  object \n",
      " 12  sku_size                   35888 non-null  float64\n",
      " 13  temp_media                 35888 non-null  float64\n",
      " 14  temp_min_media             35888 non-null  float64\n",
      " 15  temp_max_media             35888 non-null  float64\n",
      " 16  IPC                        35888 non-null  float64\n",
      " 17  promedio_mens_dolar_venta  35888 non-null  float64\n",
      " 18  catastrofe                 35888 non-null  bool   \n",
      "dtypes: bool(1), float64(10), int64(5), object(3)\n",
      "memory usage: 5.0+ MB\n"
     ]
    }
   ],
   "source": [
    "df_sellout.info()"
   ]
  },
  {
   "cell_type": "code",
   "execution_count": 32,
   "id": "152e325c-5ab5-41b1-89d4-fe8f19d62eb1",
   "metadata": {},
   "outputs": [
    {
     "data": {
      "text/plain": [
       "PC             19181\n",
       "HC              8115\n",
       "FOODS           7160\n",
       "desconocida     1432\n",
       "Name: cat1, dtype: int64"
      ]
     },
     "execution_count": 32,
     "metadata": {},
     "output_type": "execute_result"
    }
   ],
   "source": [
    "df_sellout.cat1.value_counts()"
   ]
  },
  {
   "cell_type": "code",
   "execution_count": 33,
   "id": "71b64e77-41db-4aba-8972-08d31acd4b73",
   "metadata": {},
   "outputs": [],
   "source": [
    "# Selecciono las columnas iniciales\n",
    "df_sellout = df_sellout.rename(columns={\"product_id_tn\":\"tn\"})\n",
    "\n",
    "df_sellout = df_sellout[[\"periodo\",\"product_id\",\"tn\",\"cat1\"]]"
   ]
  },
  {
   "cell_type": "markdown",
   "id": "549e7099-3e90-4fd6-85bc-0aa55bfdc7b5",
   "metadata": {},
   "source": [
    "Verificación de producto estrella --> ok"
   ]
  },
  {
   "cell_type": "markdown",
   "id": "87eaf260-ade7-4f8c-a3e9-a0f04b9d8b4f",
   "metadata": {},
   "source": [
    "## Split train y test"
   ]
  },
  {
   "cell_type": "code",
   "execution_count": 34,
   "id": "6301062b-abe2-4d14-8c57-d9a52cbe8960",
   "metadata": {},
   "outputs": [],
   "source": [
    "df_train = df_sellout[df_sellout.periodo <= mes_train_tope]\n",
    "df_test = df_sellout[df_sellout.periodo == mes_holdout]"
   ]
  },
  {
   "cell_type": "code",
   "execution_count": 35,
   "id": "354ce556-3164-45e7-b0f0-c2895763d052",
   "metadata": {},
   "outputs": [
    {
     "data": {
      "text/html": [
       "<div>\n",
       "<style scoped>\n",
       "    .dataframe tbody tr th:only-of-type {\n",
       "        vertical-align: middle;\n",
       "    }\n",
       "\n",
       "    .dataframe tbody tr th {\n",
       "        vertical-align: top;\n",
       "    }\n",
       "\n",
       "    .dataframe thead th {\n",
       "        text-align: right;\n",
       "    }\n",
       "</style>\n",
       "<table border=\"1\" class=\"dataframe\">\n",
       "  <thead>\n",
       "    <tr style=\"text-align: right;\">\n",
       "      <th></th>\n",
       "      <th>periodo</th>\n",
       "      <th>product_id</th>\n",
       "      <th>tn</th>\n",
       "      <th>cat1</th>\n",
       "    </tr>\n",
       "  </thead>\n",
       "  <tbody>\n",
       "    <tr>\n",
       "      <th>0</th>\n",
       "      <td>201701</td>\n",
       "      <td>20001</td>\n",
       "      <td>934.77222</td>\n",
       "      <td>HC</td>\n",
       "    </tr>\n",
       "    <tr>\n",
       "      <th>1</th>\n",
       "      <td>201702</td>\n",
       "      <td>20001</td>\n",
       "      <td>798.01620</td>\n",
       "      <td>HC</td>\n",
       "    </tr>\n",
       "    <tr>\n",
       "      <th>2</th>\n",
       "      <td>201703</td>\n",
       "      <td>20001</td>\n",
       "      <td>1303.35771</td>\n",
       "      <td>HC</td>\n",
       "    </tr>\n",
       "    <tr>\n",
       "      <th>3</th>\n",
       "      <td>201704</td>\n",
       "      <td>20001</td>\n",
       "      <td>1069.96130</td>\n",
       "      <td>HC</td>\n",
       "    </tr>\n",
       "    <tr>\n",
       "      <th>4</th>\n",
       "      <td>201705</td>\n",
       "      <td>20001</td>\n",
       "      <td>1502.20132</td>\n",
       "      <td>HC</td>\n",
       "    </tr>\n",
       "    <tr>\n",
       "      <th>...</th>\n",
       "      <td>...</td>\n",
       "      <td>...</td>\n",
       "      <td>...</td>\n",
       "      <td>...</td>\n",
       "    </tr>\n",
       "    <tr>\n",
       "      <th>35873</th>\n",
       "      <td>201810</td>\n",
       "      <td>21299</td>\n",
       "      <td>0.00000</td>\n",
       "      <td>desconocida</td>\n",
       "    </tr>\n",
       "    <tr>\n",
       "      <th>35874</th>\n",
       "      <td>201811</td>\n",
       "      <td>21299</td>\n",
       "      <td>0.00000</td>\n",
       "      <td>desconocida</td>\n",
       "    </tr>\n",
       "    <tr>\n",
       "      <th>35875</th>\n",
       "      <td>201812</td>\n",
       "      <td>21299</td>\n",
       "      <td>0.00000</td>\n",
       "      <td>desconocida</td>\n",
       "    </tr>\n",
       "    <tr>\n",
       "      <th>35876</th>\n",
       "      <td>201901</td>\n",
       "      <td>21299</td>\n",
       "      <td>0.00000</td>\n",
       "      <td>desconocida</td>\n",
       "    </tr>\n",
       "    <tr>\n",
       "      <th>35877</th>\n",
       "      <td>201902</td>\n",
       "      <td>21299</td>\n",
       "      <td>0.00000</td>\n",
       "      <td>desconocida</td>\n",
       "    </tr>\n",
       "  </tbody>\n",
       "</table>\n",
       "<p>24224 rows × 4 columns</p>\n",
       "</div>"
      ],
      "text/plain": [
       "       periodo  product_id          tn         cat1\n",
       "0       201701       20001   934.77222           HC\n",
       "1       201702       20001   798.01620           HC\n",
       "2       201703       20001  1303.35771           HC\n",
       "3       201704       20001  1069.96130           HC\n",
       "4       201705       20001  1502.20132           HC\n",
       "...        ...         ...         ...          ...\n",
       "35873   201810       21299     0.00000  desconocida\n",
       "35874   201811       21299     0.00000  desconocida\n",
       "35875   201812       21299     0.00000  desconocida\n",
       "35876   201901       21299     0.00000  desconocida\n",
       "35877   201902       21299     0.00000  desconocida\n",
       "\n",
       "[24224 rows x 4 columns]"
      ]
     },
     "execution_count": 35,
     "metadata": {},
     "output_type": "execute_result"
    }
   ],
   "source": [
    "df_train"
   ]
  },
  {
   "cell_type": "code",
   "execution_count": 36,
   "id": "3d887a8c-4c23-4e2a-878d-fc21ad94c0a0",
   "metadata": {},
   "outputs": [
    {
     "name": "stdout",
     "output_type": "stream",
     "text": [
      "1105\n"
     ]
    },
    {
     "data": {
      "text/html": [
       "<div>\n",
       "<style scoped>\n",
       "    .dataframe tbody tr th:only-of-type {\n",
       "        vertical-align: middle;\n",
       "    }\n",
       "\n",
       "    .dataframe tbody tr th {\n",
       "        vertical-align: top;\n",
       "    }\n",
       "\n",
       "    .dataframe thead th {\n",
       "        text-align: right;\n",
       "    }\n",
       "</style>\n",
       "<table border=\"1\" class=\"dataframe\">\n",
       "  <thead>\n",
       "    <tr style=\"text-align: right;\">\n",
       "      <th></th>\n",
       "      <th>periodo</th>\n",
       "      <th>product_id</th>\n",
       "      <th>tn</th>\n",
       "      <th>cat1</th>\n",
       "    </tr>\n",
       "  </thead>\n",
       "  <tbody>\n",
       "    <tr>\n",
       "      <th>27</th>\n",
       "      <td>201904</td>\n",
       "      <td>20001</td>\n",
       "      <td>1647.63848</td>\n",
       "      <td>HC</td>\n",
       "    </tr>\n",
       "    <tr>\n",
       "      <th>63</th>\n",
       "      <td>201904</td>\n",
       "      <td>20002</td>\n",
       "      <td>1287.62346</td>\n",
       "      <td>HC</td>\n",
       "    </tr>\n",
       "    <tr>\n",
       "      <th>99</th>\n",
       "      <td>201904</td>\n",
       "      <td>20003</td>\n",
       "      <td>565.33774</td>\n",
       "      <td>FOODS</td>\n",
       "    </tr>\n",
       "    <tr>\n",
       "      <th>135</th>\n",
       "      <td>201904</td>\n",
       "      <td>20004</td>\n",
       "      <td>466.70901</td>\n",
       "      <td>FOODS</td>\n",
       "    </tr>\n",
       "    <tr>\n",
       "      <th>171</th>\n",
       "      <td>201904</td>\n",
       "      <td>20005</td>\n",
       "      <td>624.99880</td>\n",
       "      <td>FOODS</td>\n",
       "    </tr>\n",
       "    <tr>\n",
       "      <th>...</th>\n",
       "      <td>...</td>\n",
       "      <td>...</td>\n",
       "      <td>...</td>\n",
       "      <td>...</td>\n",
       "    </tr>\n",
       "    <tr>\n",
       "      <th>35756</th>\n",
       "      <td>201904</td>\n",
       "      <td>21295</td>\n",
       "      <td>0.00000</td>\n",
       "      <td>desconocida</td>\n",
       "    </tr>\n",
       "    <tr>\n",
       "      <th>35785</th>\n",
       "      <td>201904</td>\n",
       "      <td>21296</td>\n",
       "      <td>0.00000</td>\n",
       "      <td>desconocida</td>\n",
       "    </tr>\n",
       "    <tr>\n",
       "      <th>35821</th>\n",
       "      <td>201904</td>\n",
       "      <td>21297</td>\n",
       "      <td>0.00000</td>\n",
       "      <td>desconocida</td>\n",
       "    </tr>\n",
       "    <tr>\n",
       "      <th>35850</th>\n",
       "      <td>201904</td>\n",
       "      <td>21298</td>\n",
       "      <td>0.00000</td>\n",
       "      <td>desconocida</td>\n",
       "    </tr>\n",
       "    <tr>\n",
       "      <th>35879</th>\n",
       "      <td>201904</td>\n",
       "      <td>21299</td>\n",
       "      <td>0.00000</td>\n",
       "      <td>desconocida</td>\n",
       "    </tr>\n",
       "  </tbody>\n",
       "</table>\n",
       "<p>1105 rows × 4 columns</p>\n",
       "</div>"
      ],
      "text/plain": [
       "       periodo  product_id          tn         cat1\n",
       "27      201904       20001  1647.63848           HC\n",
       "63      201904       20002  1287.62346           HC\n",
       "99      201904       20003   565.33774        FOODS\n",
       "135     201904       20004   466.70901        FOODS\n",
       "171     201904       20005   624.99880        FOODS\n",
       "...        ...         ...         ...          ...\n",
       "35756   201904       21295     0.00000  desconocida\n",
       "35785   201904       21296     0.00000  desconocida\n",
       "35821   201904       21297     0.00000  desconocida\n",
       "35850   201904       21298     0.00000  desconocida\n",
       "35879   201904       21299     0.00000  desconocida\n",
       "\n",
       "[1105 rows x 4 columns]"
      ]
     },
     "execution_count": 36,
     "metadata": {},
     "output_type": "execute_result"
    }
   ],
   "source": [
    "print(len(df_test))\n",
    "df_test"
   ]
  },
  {
   "cell_type": "code",
   "execution_count": 37,
   "id": "c9c323a2-8b00-411b-b8a6-32dc5ad233eb",
   "metadata": {},
   "outputs": [
    {
     "data": {
      "text/html": [
       "<div>\n",
       "<style scoped>\n",
       "    .dataframe tbody tr th:only-of-type {\n",
       "        vertical-align: middle;\n",
       "    }\n",
       "\n",
       "    .dataframe tbody tr th {\n",
       "        vertical-align: top;\n",
       "    }\n",
       "\n",
       "    .dataframe thead th {\n",
       "        text-align: right;\n",
       "    }\n",
       "</style>\n",
       "<table border=\"1\" class=\"dataframe\">\n",
       "  <thead>\n",
       "    <tr style=\"text-align: right;\">\n",
       "      <th></th>\n",
       "      <th>product_id</th>\n",
       "    </tr>\n",
       "  </thead>\n",
       "  <tbody>\n",
       "    <tr>\n",
       "      <th>0</th>\n",
       "      <td>20480</td>\n",
       "    </tr>\n",
       "    <tr>\n",
       "      <th>1</th>\n",
       "      <td>20481</td>\n",
       "    </tr>\n",
       "    <tr>\n",
       "      <th>2</th>\n",
       "      <td>20482</td>\n",
       "    </tr>\n",
       "    <tr>\n",
       "      <th>3</th>\n",
       "      <td>20483</td>\n",
       "    </tr>\n",
       "    <tr>\n",
       "      <th>4</th>\n",
       "      <td>20484</td>\n",
       "    </tr>\n",
       "  </tbody>\n",
       "</table>\n",
       "</div>"
      ],
      "text/plain": [
       "   product_id\n",
       "0       20480\n",
       "1       20481\n",
       "2       20482\n",
       "3       20483\n",
       "4       20484"
      ]
     },
     "execution_count": 37,
     "metadata": {},
     "output_type": "execute_result"
    }
   ],
   "source": [
    "df_prods_prediccion=pd.read_csv(arch_prod_ids_prediccion)\n",
    "df_prods_prediccion.head()"
   ]
  },
  {
   "cell_type": "code",
   "execution_count": 38,
   "id": "d27e0049-b07d-4aad-9864-115dea1ba13c",
   "metadata": {},
   "outputs": [
    {
     "data": {
      "text/plain": [
       "868"
      ]
     },
     "execution_count": 38,
     "metadata": {},
     "output_type": "execute_result"
    }
   ],
   "source": [
    "df_test = df_test[df_test.product_id.isin(df_prods_prediccion.product_id)]\n",
    "len(df_test)"
   ]
  },
  {
   "cell_type": "code",
   "execution_count": 39,
   "id": "e9fe2c81-3071-42b9-88b6-69662521989d",
   "metadata": {},
   "outputs": [
    {
     "data": {
      "text/html": [
       "<div>\n",
       "<style scoped>\n",
       "    .dataframe tbody tr th:only-of-type {\n",
       "        vertical-align: middle;\n",
       "    }\n",
       "\n",
       "    .dataframe tbody tr th {\n",
       "        vertical-align: top;\n",
       "    }\n",
       "\n",
       "    .dataframe thead th {\n",
       "        text-align: right;\n",
       "    }\n",
       "</style>\n",
       "<table border=\"1\" class=\"dataframe\">\n",
       "  <thead>\n",
       "    <tr style=\"text-align: right;\">\n",
       "      <th></th>\n",
       "      <th>product_id</th>\n",
       "      <th>tn</th>\n",
       "    </tr>\n",
       "  </thead>\n",
       "  <tbody>\n",
       "    <tr>\n",
       "      <th>0</th>\n",
       "      <td>20001</td>\n",
       "      <td>1362.248849</td>\n",
       "    </tr>\n",
       "    <tr>\n",
       "      <th>1</th>\n",
       "      <td>20002</td>\n",
       "      <td>943.915757</td>\n",
       "    </tr>\n",
       "    <tr>\n",
       "      <th>2</th>\n",
       "      <td>20003</td>\n",
       "      <td>934.905062</td>\n",
       "    </tr>\n",
       "    <tr>\n",
       "      <th>3</th>\n",
       "      <td>20004</td>\n",
       "      <td>677.100396</td>\n",
       "    </tr>\n",
       "    <tr>\n",
       "      <th>4</th>\n",
       "      <td>20005</td>\n",
       "      <td>613.286967</td>\n",
       "    </tr>\n",
       "    <tr>\n",
       "      <th>...</th>\n",
       "      <td>...</td>\n",
       "      <td>...</td>\n",
       "    </tr>\n",
       "    <tr>\n",
       "      <th>1050</th>\n",
       "      <td>21295</td>\n",
       "      <td>0.000269</td>\n",
       "    </tr>\n",
       "    <tr>\n",
       "      <th>1051</th>\n",
       "      <td>21296</td>\n",
       "      <td>0.000343</td>\n",
       "    </tr>\n",
       "    <tr>\n",
       "      <th>1052</th>\n",
       "      <td>21297</td>\n",
       "      <td>0.000223</td>\n",
       "    </tr>\n",
       "    <tr>\n",
       "      <th>1053</th>\n",
       "      <td>21298</td>\n",
       "      <td>0.000302</td>\n",
       "    </tr>\n",
       "    <tr>\n",
       "      <th>1054</th>\n",
       "      <td>21299</td>\n",
       "      <td>0.000287</td>\n",
       "    </tr>\n",
       "  </tbody>\n",
       "</table>\n",
       "<p>1055 rows × 2 columns</p>\n",
       "</div>"
      ],
      "text/plain": [
       "      product_id           tn\n",
       "0          20001  1362.248849\n",
       "1          20002   943.915757\n",
       "2          20003   934.905062\n",
       "3          20004   677.100396\n",
       "4          20005   613.286967\n",
       "...          ...          ...\n",
       "1050       21295     0.000269\n",
       "1051       21296     0.000343\n",
       "1052       21297     0.000223\n",
       "1053       21298     0.000302\n",
       "1054       21299     0.000287\n",
       "\n",
       "[1055 rows x 2 columns]"
      ]
     },
     "execution_count": 39,
     "metadata": {},
     "output_type": "execute_result"
    }
   ],
   "source": [
    "# Como puede haber productos que no estén en algunos períodos (que se usan en modelos naif), calculo promedio para completar\n",
    "df_completar = df_train[[\"product_id\",\"tn\"]].groupby(\"product_id\").mean().reset_index()\n",
    "df_completar"
   ]
  },
  {
   "cell_type": "markdown",
   "id": "4921de22-2729-4ee3-92f1-f97ca743ebf5",
   "metadata": {},
   "source": [
    "## Predicción Estacional"
   ]
  },
  {
   "cell_type": "code",
   "execution_count": 40,
   "id": "900ed328-8680-4942-b7d9-65f8d8f104cc",
   "metadata": {},
   "outputs": [
    {
     "data": {
      "text/html": [
       "<div>\n",
       "<style scoped>\n",
       "    .dataframe tbody tr th:only-of-type {\n",
       "        vertical-align: middle;\n",
       "    }\n",
       "\n",
       "    .dataframe tbody tr th {\n",
       "        vertical-align: top;\n",
       "    }\n",
       "\n",
       "    .dataframe thead th {\n",
       "        text-align: right;\n",
       "    }\n",
       "</style>\n",
       "<table border=\"1\" class=\"dataframe\">\n",
       "  <thead>\n",
       "    <tr style=\"text-align: right;\">\n",
       "      <th></th>\n",
       "      <th>product_id</th>\n",
       "      <th>tn</th>\n",
       "    </tr>\n",
       "  </thead>\n",
       "  <tbody>\n",
       "    <tr>\n",
       "      <th>15</th>\n",
       "      <td>20001</td>\n",
       "      <td>1251.28462</td>\n",
       "    </tr>\n",
       "    <tr>\n",
       "      <th>51</th>\n",
       "      <td>20002</td>\n",
       "      <td>999.20934</td>\n",
       "    </tr>\n",
       "    <tr>\n",
       "      <th>87</th>\n",
       "      <td>20003</td>\n",
       "      <td>765.47838</td>\n",
       "    </tr>\n",
       "    <tr>\n",
       "      <th>123</th>\n",
       "      <td>20004</td>\n",
       "      <td>611.51237</td>\n",
       "    </tr>\n",
       "    <tr>\n",
       "      <th>159</th>\n",
       "      <td>20005</td>\n",
       "      <td>496.41774</td>\n",
       "    </tr>\n",
       "  </tbody>\n",
       "</table>\n",
       "</div>"
      ],
      "text/plain": [
       "     product_id          tn\n",
       "15        20001  1251.28462\n",
       "51        20002   999.20934\n",
       "87        20003   765.47838\n",
       "123       20004   611.51237\n",
       "159       20005   496.41774"
      ]
     },
     "execution_count": 40,
     "metadata": {},
     "output_type": "execute_result"
    }
   ],
   "source": [
    "df_pred_estac = df_train[df_train.periodo==201804]\n",
    "df_pred_estac = df_pred_estac[[\"product_id\",\"tn\"]]\n",
    "df_pred_estac.head()"
   ]
  },
  {
   "cell_type": "code",
   "execution_count": 41,
   "id": "a74a7982-c69e-4e4d-89c9-b2d03dd2f233",
   "metadata": {},
   "outputs": [
    {
     "data": {
      "text/html": [
       "<div>\n",
       "<style scoped>\n",
       "    .dataframe tbody tr th:only-of-type {\n",
       "        vertical-align: middle;\n",
       "    }\n",
       "\n",
       "    .dataframe tbody tr th {\n",
       "        vertical-align: top;\n",
       "    }\n",
       "\n",
       "    .dataframe thead th {\n",
       "        text-align: right;\n",
       "    }\n",
       "</style>\n",
       "<table border=\"1\" class=\"dataframe\">\n",
       "  <thead>\n",
       "    <tr style=\"text-align: right;\">\n",
       "      <th></th>\n",
       "      <th>product_id</th>\n",
       "      <th>cat1</th>\n",
       "      <th>tn_real</th>\n",
       "      <th>tn_pred</th>\n",
       "    </tr>\n",
       "  </thead>\n",
       "  <tbody>\n",
       "    <tr>\n",
       "      <th>0</th>\n",
       "      <td>20001</td>\n",
       "      <td>HC</td>\n",
       "      <td>1647.63848</td>\n",
       "      <td>1251.28462</td>\n",
       "    </tr>\n",
       "    <tr>\n",
       "      <th>1</th>\n",
       "      <td>20002</td>\n",
       "      <td>HC</td>\n",
       "      <td>1287.62346</td>\n",
       "      <td>999.20934</td>\n",
       "    </tr>\n",
       "    <tr>\n",
       "      <th>2</th>\n",
       "      <td>20003</td>\n",
       "      <td>FOODS</td>\n",
       "      <td>565.33774</td>\n",
       "      <td>765.47838</td>\n",
       "    </tr>\n",
       "    <tr>\n",
       "      <th>3</th>\n",
       "      <td>20004</td>\n",
       "      <td>FOODS</td>\n",
       "      <td>466.70901</td>\n",
       "      <td>611.51237</td>\n",
       "    </tr>\n",
       "    <tr>\n",
       "      <th>4</th>\n",
       "      <td>20005</td>\n",
       "      <td>FOODS</td>\n",
       "      <td>624.99880</td>\n",
       "      <td>496.41774</td>\n",
       "    </tr>\n",
       "  </tbody>\n",
       "</table>\n",
       "</div>"
      ],
      "text/plain": [
       "   product_id   cat1     tn_real     tn_pred\n",
       "0       20001     HC  1647.63848  1251.28462\n",
       "1       20002     HC  1287.62346   999.20934\n",
       "2       20003  FOODS   565.33774   765.47838\n",
       "3       20004  FOODS   466.70901   611.51237\n",
       "4       20005  FOODS   624.99880   496.41774"
      ]
     },
     "execution_count": 41,
     "metadata": {},
     "output_type": "execute_result"
    }
   ],
   "source": [
    "# Left join de test con prediccion estacional\n",
    "df_res_estac = pd.merge(df_test,df_pred_estac,on=\"product_id\",how=\"left\",suffixes=[\"_real\",\"_estac\"])\n",
    "\n",
    "# Left join con prediccion promedio (para completar)\n",
    "df_res_estac = pd.merge(df_res_estac,df_completar,on=\"product_id\",how=\"left\")\n",
    "df_res_estac.rename(columns={'tn': 'tn_prom'}, inplace=True)\n",
    "\n",
    "# Calculo toneladas predichas usando los valores anteriores\n",
    "df_res_estac[\"tn_pred\"]=np.where(df_res_estac.tn_estac.isnull(),df_res_estac.tn_prom,df_res_estac.tn_estac)\n",
    "\n",
    "df_res_estac = df_res_estac[[\"product_id\",\"cat1\",\"tn_real\",\"tn_pred\"]]\n",
    "df_res_estac.head()"
   ]
  },
  {
   "cell_type": "code",
   "execution_count": 42,
   "id": "20fec2ac-a5b6-4fc1-b1f1-11e9182eb6d3",
   "metadata": {},
   "outputs": [
    {
     "data": {
      "text/plain": [
       "product_id    0\n",
       "cat1          0\n",
       "tn_real       0\n",
       "tn_pred       0\n",
       "dtype: int64"
      ]
     },
     "execution_count": 42,
     "metadata": {},
     "output_type": "execute_result"
    }
   ],
   "source": [
    "df_res_estac.isna().sum()"
   ]
  },
  {
   "cell_type": "code",
   "execution_count": 43,
   "id": "80862fa4-3706-4a92-96ae-072457de2db2",
   "metadata": {},
   "outputs": [
    {
     "data": {
      "text/markdown": [
       "**Error Rate Total:** 35.09"
      ],
      "text/plain": [
       "<IPython.core.display.Markdown object>"
      ]
     },
     "metadata": {},
     "output_type": "display_data"
    },
    {
     "data": {
      "text/markdown": [
       "**Error Rate por Categoría HC**: 33.75"
      ],
      "text/plain": [
       "<IPython.core.display.Markdown object>"
      ]
     },
     "metadata": {},
     "output_type": "display_data"
    },
    {
     "data": {
      "text/markdown": [
       "**Error Rate por Categoría FOODS**: 32.1"
      ],
      "text/plain": [
       "<IPython.core.display.Markdown object>"
      ]
     },
     "metadata": {},
     "output_type": "display_data"
    },
    {
     "data": {
      "text/markdown": [
       "**Error Rate por Categoría PC**: 42.78"
      ],
      "text/plain": [
       "<IPython.core.display.Markdown object>"
      ]
     },
     "metadata": {},
     "output_type": "display_data"
    },
    {
     "data": {
      "text/markdown": [
       "**Error Rate por Categoría desconocida**: inf"
      ],
      "text/plain": [
       "<IPython.core.display.Markdown object>"
      ]
     },
     "metadata": {},
     "output_type": "display_data"
    }
   ],
   "source": [
    "metricas.print_error_rate_total_y_cat(df_res_estac)"
   ]
  },
  {
   "cell_type": "markdown",
   "id": "211d53e8-b852-4ccd-94ac-2b58f3f291c5",
   "metadata": {},
   "source": [
    "## Predicción Menos 2"
   ]
  },
  {
   "cell_type": "code",
   "execution_count": 44,
   "id": "eba5fe9d-8578-43d6-8f83-8a0d9addb5bc",
   "metadata": {},
   "outputs": [
    {
     "data": {
      "text/html": [
       "<div>\n",
       "<style scoped>\n",
       "    .dataframe tbody tr th:only-of-type {\n",
       "        vertical-align: middle;\n",
       "    }\n",
       "\n",
       "    .dataframe tbody tr th {\n",
       "        vertical-align: top;\n",
       "    }\n",
       "\n",
       "    .dataframe thead th {\n",
       "        text-align: right;\n",
       "    }\n",
       "</style>\n",
       "<table border=\"1\" class=\"dataframe\">\n",
       "  <thead>\n",
       "    <tr style=\"text-align: right;\">\n",
       "      <th></th>\n",
       "      <th>product_id</th>\n",
       "      <th>tn</th>\n",
       "    </tr>\n",
       "  </thead>\n",
       "  <tbody>\n",
       "    <tr>\n",
       "      <th>25</th>\n",
       "      <td>20001</td>\n",
       "      <td>1259.09363</td>\n",
       "    </tr>\n",
       "    <tr>\n",
       "      <th>61</th>\n",
       "      <td>20002</td>\n",
       "      <td>1043.01349</td>\n",
       "    </tr>\n",
       "    <tr>\n",
       "      <th>97</th>\n",
       "      <td>20003</td>\n",
       "      <td>758.32657</td>\n",
       "    </tr>\n",
       "    <tr>\n",
       "      <th>133</th>\n",
       "      <td>20004</td>\n",
       "      <td>441.70332</td>\n",
       "    </tr>\n",
       "    <tr>\n",
       "      <th>169</th>\n",
       "      <td>20005</td>\n",
       "      <td>409.89950</td>\n",
       "    </tr>\n",
       "  </tbody>\n",
       "</table>\n",
       "</div>"
      ],
      "text/plain": [
       "     product_id          tn\n",
       "25        20001  1259.09363\n",
       "61        20002  1043.01349\n",
       "97        20003   758.32657\n",
       "133       20004   441.70332\n",
       "169       20005   409.89950"
      ]
     },
     "execution_count": 44,
     "metadata": {},
     "output_type": "execute_result"
    }
   ],
   "source": [
    "# Naif -2\n",
    "df_pred_menos2 = df_train[df_train.periodo==201902]\n",
    "df_pred_menos2 = df_pred_menos2[[\"product_id\",\"tn\"]]\n",
    "df_pred_menos2.head()"
   ]
  },
  {
   "cell_type": "code",
   "execution_count": 45,
   "id": "a320fe3e-41f3-4168-8d16-086fc70e12d7",
   "metadata": {},
   "outputs": [
    {
     "data": {
      "text/html": [
       "<div>\n",
       "<style scoped>\n",
       "    .dataframe tbody tr th:only-of-type {\n",
       "        vertical-align: middle;\n",
       "    }\n",
       "\n",
       "    .dataframe tbody tr th {\n",
       "        vertical-align: top;\n",
       "    }\n",
       "\n",
       "    .dataframe thead th {\n",
       "        text-align: right;\n",
       "    }\n",
       "</style>\n",
       "<table border=\"1\" class=\"dataframe\">\n",
       "  <thead>\n",
       "    <tr style=\"text-align: right;\">\n",
       "      <th></th>\n",
       "      <th>product_id</th>\n",
       "      <th>cat1</th>\n",
       "      <th>tn_real</th>\n",
       "      <th>tn_pred</th>\n",
       "    </tr>\n",
       "  </thead>\n",
       "  <tbody>\n",
       "    <tr>\n",
       "      <th>0</th>\n",
       "      <td>20001</td>\n",
       "      <td>HC</td>\n",
       "      <td>1647.63848</td>\n",
       "      <td>1259.09363</td>\n",
       "    </tr>\n",
       "    <tr>\n",
       "      <th>1</th>\n",
       "      <td>20002</td>\n",
       "      <td>HC</td>\n",
       "      <td>1287.62346</td>\n",
       "      <td>1043.01349</td>\n",
       "    </tr>\n",
       "    <tr>\n",
       "      <th>2</th>\n",
       "      <td>20003</td>\n",
       "      <td>FOODS</td>\n",
       "      <td>565.33774</td>\n",
       "      <td>758.32657</td>\n",
       "    </tr>\n",
       "    <tr>\n",
       "      <th>3</th>\n",
       "      <td>20004</td>\n",
       "      <td>FOODS</td>\n",
       "      <td>466.70901</td>\n",
       "      <td>441.70332</td>\n",
       "    </tr>\n",
       "    <tr>\n",
       "      <th>4</th>\n",
       "      <td>20005</td>\n",
       "      <td>FOODS</td>\n",
       "      <td>624.99880</td>\n",
       "      <td>409.89950</td>\n",
       "    </tr>\n",
       "  </tbody>\n",
       "</table>\n",
       "</div>"
      ],
      "text/plain": [
       "   product_id   cat1     tn_real     tn_pred\n",
       "0       20001     HC  1647.63848  1259.09363\n",
       "1       20002     HC  1287.62346  1043.01349\n",
       "2       20003  FOODS   565.33774   758.32657\n",
       "3       20004  FOODS   466.70901   441.70332\n",
       "4       20005  FOODS   624.99880   409.89950"
      ]
     },
     "execution_count": 45,
     "metadata": {},
     "output_type": "execute_result"
    }
   ],
   "source": [
    "# Left join de test con prediccion menos 2\n",
    "df_res_menos2 = pd.merge(df_test,df_pred_menos2,on=\"product_id\",how=\"left\",suffixes=[\"_real\",\"_menos2\"])\n",
    "\n",
    "# Left join con prediccion promedio (para completar)\n",
    "df_res_menos2 = pd.merge(df_res_menos2,df_completar,on=\"product_id\",how=\"left\")\n",
    "df_res_menos2.rename(columns={'tn': 'tn_prom'}, inplace=True)\n",
    "\n",
    "# Calculo toneladas predichas usando los valores anteriores\n",
    "df_res_menos2[\"tn_pred\"]=np.where(df_res_menos2.tn_menos2.isnull(),df_res_menos2.tn_prom,df_res_menos2.tn_menos2)\n",
    "\n",
    "df_res_menos2 = df_res_menos2[[\"product_id\",\"cat1\",\"tn_real\",\"tn_pred\"]]\n",
    "df_res_menos2.head()"
   ]
  },
  {
   "cell_type": "code",
   "execution_count": 46,
   "id": "d64384cc-8012-458c-b646-8166d2c94674",
   "metadata": {},
   "outputs": [
    {
     "data": {
      "text/html": [
       "<div>\n",
       "<style scoped>\n",
       "    .dataframe tbody tr th:only-of-type {\n",
       "        vertical-align: middle;\n",
       "    }\n",
       "\n",
       "    .dataframe tbody tr th {\n",
       "        vertical-align: top;\n",
       "    }\n",
       "\n",
       "    .dataframe thead th {\n",
       "        text-align: right;\n",
       "    }\n",
       "</style>\n",
       "<table border=\"1\" class=\"dataframe\">\n",
       "  <thead>\n",
       "    <tr style=\"text-align: right;\">\n",
       "      <th></th>\n",
       "      <th>product_id</th>\n",
       "      <th>cat1</th>\n",
       "      <th>tn_real</th>\n",
       "      <th>tn_pred</th>\n",
       "    </tr>\n",
       "  </thead>\n",
       "  <tbody>\n",
       "    <tr>\n",
       "      <th>0</th>\n",
       "      <td>20001</td>\n",
       "      <td>HC</td>\n",
       "      <td>1647.63848</td>\n",
       "      <td>1259.09363</td>\n",
       "    </tr>\n",
       "  </tbody>\n",
       "</table>\n",
       "</div>"
      ],
      "text/plain": [
       "   product_id cat1     tn_real     tn_pred\n",
       "0       20001   HC  1647.63848  1259.09363"
      ]
     },
     "execution_count": 46,
     "metadata": {},
     "output_type": "execute_result"
    }
   ],
   "source": [
    "df_res_menos2[df_res_menos2.product_id==20001]"
   ]
  },
  {
   "cell_type": "code",
   "execution_count": 47,
   "id": "022a6d8d-8570-4d31-88a5-e0cae7dd19e0",
   "metadata": {},
   "outputs": [
    {
     "data": {
      "text/html": [
       "<div>\n",
       "<style scoped>\n",
       "    .dataframe tbody tr th:only-of-type {\n",
       "        vertical-align: middle;\n",
       "    }\n",
       "\n",
       "    .dataframe tbody tr th {\n",
       "        vertical-align: top;\n",
       "    }\n",
       "\n",
       "    .dataframe thead th {\n",
       "        text-align: right;\n",
       "    }\n",
       "</style>\n",
       "<table border=\"1\" class=\"dataframe\">\n",
       "  <thead>\n",
       "    <tr style=\"text-align: right;\">\n",
       "      <th></th>\n",
       "      <th>product_id</th>\n",
       "      <th>cat1</th>\n",
       "      <th>tn_real</th>\n",
       "      <th>tn_pred</th>\n",
       "    </tr>\n",
       "  </thead>\n",
       "  <tbody>\n",
       "    <tr>\n",
       "      <th>0</th>\n",
       "      <td>20001</td>\n",
       "      <td>HC</td>\n",
       "      <td>1647.63848</td>\n",
       "      <td>1251.28462</td>\n",
       "    </tr>\n",
       "  </tbody>\n",
       "</table>\n",
       "</div>"
      ],
      "text/plain": [
       "   product_id cat1     tn_real     tn_pred\n",
       "0       20001   HC  1647.63848  1251.28462"
      ]
     },
     "execution_count": 47,
     "metadata": {},
     "output_type": "execute_result"
    }
   ],
   "source": [
    "df_res_estac[df_res_estac.product_id==20001]"
   ]
  },
  {
   "cell_type": "code",
   "execution_count": 48,
   "id": "5a9df42c-fd27-4d4c-a603-4e34e9b965aa",
   "metadata": {},
   "outputs": [
    {
     "data": {
      "text/markdown": [
       "**Error Rate Total:** 29.0"
      ],
      "text/plain": [
       "<IPython.core.display.Markdown object>"
      ]
     },
     "metadata": {},
     "output_type": "display_data"
    },
    {
     "data": {
      "text/markdown": [
       "**Error Rate por Categoría HC**: 27.98"
      ],
      "text/plain": [
       "<IPython.core.display.Markdown object>"
      ]
     },
     "metadata": {},
     "output_type": "display_data"
    },
    {
     "data": {
      "text/markdown": [
       "**Error Rate por Categoría FOODS**: 27.45"
      ],
      "text/plain": [
       "<IPython.core.display.Markdown object>"
      ]
     },
     "metadata": {},
     "output_type": "display_data"
    },
    {
     "data": {
      "text/markdown": [
       "**Error Rate por Categoría PC**: 34.13"
      ],
      "text/plain": [
       "<IPython.core.display.Markdown object>"
      ]
     },
     "metadata": {},
     "output_type": "display_data"
    },
    {
     "data": {
      "text/markdown": [
       "**Error Rate por Categoría desconocida**: inf"
      ],
      "text/plain": [
       "<IPython.core.display.Markdown object>"
      ]
     },
     "metadata": {},
     "output_type": "display_data"
    }
   ],
   "source": [
    "metricas.print_error_rate_total_y_cat(df_res_menos2)"
   ]
  }
 ],
 "metadata": {
  "kernelspec": {
   "display_name": "Python 3 (ipykernel)",
   "language": "python",
   "name": "python3"
  },
  "language_info": {
   "codemirror_mode": {
    "name": "ipython",
    "version": 3
   },
   "file_extension": ".py",
   "mimetype": "text/x-python",
   "name": "python",
   "nbconvert_exporter": "python",
   "pygments_lexer": "ipython3",
   "version": "3.10.12"
  }
 },
 "nbformat": 4,
 "nbformat_minor": 5
}
