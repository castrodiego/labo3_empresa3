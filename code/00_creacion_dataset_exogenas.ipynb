{
 "cells": [
  {
   "cell_type": "code",
   "execution_count": 1,
   "id": "1b6c0f22",
   "metadata": {},
   "outputs": [],
   "source": [
    "import pandas as pd\n",
    "import os\n",
    "import numpy as np"
   ]
  },
  {
   "cell_type": "code",
   "execution_count": 2,
   "id": "2076c7bf-a2e8-4758-afbc-8e5848687f14",
   "metadata": {},
   "outputs": [],
   "source": [
    "####################################################\n",
    "############# Setear segun cada maquina ############\n",
    "os.chdir(\"C:/diego_tools/labo3/dataset\")\n",
    "####################################################"
   ]
  },
  {
   "cell_type": "code",
   "execution_count": 3,
   "id": "afc82757-a25a-42e1-b664-b24cb8f36de0",
   "metadata": {},
   "outputs": [],
   "source": [
    "arch_temp = \"externos/temperaturaMediaHistoricaCABA.xlsx\"\n",
    "arch_ipc = \"externos/IPC.xlsx\"\n",
    "arch_dolar = \"externos/cotizacionDolar.xlsx\""
   ]
  },
  {
   "cell_type": "markdown",
   "id": "c634ab5c-8118-433e-863e-235863578983",
   "metadata": {},
   "source": [
    "## Temperatura"
   ]
  },
  {
   "cell_type": "code",
   "execution_count": 4,
   "id": "3eba47cd-0afc-4d77-a7a8-e757a2280bb0",
   "metadata": {},
   "outputs": [
    {
     "name": "stdout",
     "output_type": "stream",
     "text": [
      "<class 'pandas.core.frame.DataFrame'>\n",
      "RangeIndex: 48 entries, 0 to 47\n",
      "Data columns (total 4 columns):\n",
      " #   Column          Non-Null Count  Dtype         \n",
      "---  ------          --------------  -----         \n",
      " 0   periodo_fecha   48 non-null     datetime64[ns]\n",
      " 1   temp_media      36 non-null     float64       \n",
      " 2   temp_max_media  48 non-null     float64       \n",
      " 3   temp_min_media  48 non-null     float64       \n",
      "dtypes: datetime64[ns](1), float64(3)\n",
      "memory usage: 1.6 KB\n"
     ]
    }
   ],
   "source": [
    "df_temp = pd.read_excel(arch_temp)\n",
    "df_temp.info()"
   ]
  },
  {
   "cell_type": "code",
   "execution_count": 5,
   "id": "934fd4fb-d8ac-4399-a242-6a69166e34ea",
   "metadata": {},
   "outputs": [],
   "source": [
    "# Para 2017 no esta la temperatura media, la aproximo\n",
    "df_temp.temp_media = np.where(df_temp.temp_media.isna(),(df_temp.temp_max_media+df_temp.temp_min_media)/2,df_temp.temp_media)"
   ]
  },
  {
   "cell_type": "code",
   "execution_count": 6,
   "id": "e5cc9dcf-e004-49ee-9082-ffdf7ab1ce91",
   "metadata": {},
   "outputs": [
    {
     "data": {
      "text/html": [
       "<div>\n",
       "<style scoped>\n",
       "    .dataframe tbody tr th:only-of-type {\n",
       "        vertical-align: middle;\n",
       "    }\n",
       "\n",
       "    .dataframe tbody tr th {\n",
       "        vertical-align: top;\n",
       "    }\n",
       "\n",
       "    .dataframe thead th {\n",
       "        text-align: right;\n",
       "    }\n",
       "</style>\n",
       "<table border=\"1\" class=\"dataframe\">\n",
       "  <thead>\n",
       "    <tr style=\"text-align: right;\">\n",
       "      <th></th>\n",
       "      <th>periodo_fecha</th>\n",
       "      <th>temp_media</th>\n",
       "      <th>temp_max_media</th>\n",
       "      <th>temp_min_media</th>\n",
       "    </tr>\n",
       "  </thead>\n",
       "  <tbody>\n",
       "    <tr>\n",
       "      <th>0</th>\n",
       "      <td>2017-01-01</td>\n",
       "      <td>25.65</td>\n",
       "      <td>30.4</td>\n",
       "      <td>20.9</td>\n",
       "    </tr>\n",
       "    <tr>\n",
       "      <th>1</th>\n",
       "      <td>2017-02-01</td>\n",
       "      <td>25.35</td>\n",
       "      <td>30.1</td>\n",
       "      <td>20.6</td>\n",
       "    </tr>\n",
       "    <tr>\n",
       "      <th>2</th>\n",
       "      <td>2017-03-01</td>\n",
       "      <td>22.45</td>\n",
       "      <td>26.9</td>\n",
       "      <td>18.0</td>\n",
       "    </tr>\n",
       "    <tr>\n",
       "      <th>3</th>\n",
       "      <td>2017-04-01</td>\n",
       "      <td>18.90</td>\n",
       "      <td>23.5</td>\n",
       "      <td>14.3</td>\n",
       "    </tr>\n",
       "    <tr>\n",
       "      <th>4</th>\n",
       "      <td>2017-05-01</td>\n",
       "      <td>15.90</td>\n",
       "      <td>19.5</td>\n",
       "      <td>12.3</td>\n",
       "    </tr>\n",
       "  </tbody>\n",
       "</table>\n",
       "</div>"
      ],
      "text/plain": [
       "  periodo_fecha  temp_media  temp_max_media  temp_min_media\n",
       "0    2017-01-01       25.65            30.4            20.9\n",
       "1    2017-02-01       25.35            30.1            20.6\n",
       "2    2017-03-01       22.45            26.9            18.0\n",
       "3    2017-04-01       18.90            23.5            14.3\n",
       "4    2017-05-01       15.90            19.5            12.3"
      ]
     },
     "execution_count": 6,
     "metadata": {},
     "output_type": "execute_result"
    }
   ],
   "source": [
    "df_temp.head()"
   ]
  },
  {
   "cell_type": "code",
   "execution_count": 7,
   "id": "c33df542-0782-4184-8306-772a9e073bde",
   "metadata": {},
   "outputs": [
    {
     "name": "stdout",
     "output_type": "stream",
     "text": [
      "<class 'pandas.core.frame.DataFrame'>\n",
      "RangeIndex: 48 entries, 0 to 47\n",
      "Data columns (total 4 columns):\n",
      " #   Column          Non-Null Count  Dtype         \n",
      "---  ------          --------------  -----         \n",
      " 0   periodo_fecha   48 non-null     datetime64[ns]\n",
      " 1   temp_media      48 non-null     float64       \n",
      " 2   temp_max_media  48 non-null     float64       \n",
      " 3   temp_min_media  48 non-null     float64       \n",
      "dtypes: datetime64[ns](1), float64(3)\n",
      "memory usage: 1.6 KB\n"
     ]
    }
   ],
   "source": [
    "df_temp.info()"
   ]
  },
  {
   "cell_type": "code",
   "execution_count": 8,
   "id": "8eedbcf7-57e6-4548-a822-89e019d6eccb",
   "metadata": {},
   "outputs": [
    {
     "name": "stdout",
     "output_type": "stream",
     "text": [
      "2017-01-01 00:00:00\n",
      "2020-12-01 00:00:00\n"
     ]
    }
   ],
   "source": [
    "print(min(df_temp.periodo_fecha))\n",
    "print(max(df_temp.periodo_fecha))"
   ]
  },
  {
   "cell_type": "markdown",
   "id": "55ff7011-a2aa-44a2-a71d-85db56c585ce",
   "metadata": {},
   "source": [
    "## IPC"
   ]
  },
  {
   "cell_type": "code",
   "execution_count": 9,
   "id": "d620efe3-3320-4dac-9459-7aad61eedda5",
   "metadata": {},
   "outputs": [
    {
     "name": "stdout",
     "output_type": "stream",
     "text": [
      "<class 'pandas.core.frame.DataFrame'>\n",
      "RangeIndex: 81 entries, 0 to 80\n",
      "Data columns (total 2 columns):\n",
      " #   Column  Non-Null Count  Dtype         \n",
      "---  ------  --------------  -----         \n",
      " 0   fecha   81 non-null     datetime64[ns]\n",
      " 1   IPC     81 non-null     float64       \n",
      "dtypes: datetime64[ns](1), float64(1)\n",
      "memory usage: 1.4 KB\n"
     ]
    }
   ],
   "source": [
    "df_ipc = pd.read_excel(arch_ipc)\n",
    "df_ipc.info()"
   ]
  },
  {
   "cell_type": "code",
   "execution_count": 10,
   "id": "19f37efa-b784-4292-8606-99949b7fb0aa",
   "metadata": {},
   "outputs": [],
   "source": [
    "df_ipc.rename(columns={\"fecha\":\"periodo_fecha\"},inplace=True)"
   ]
  },
  {
   "cell_type": "code",
   "execution_count": 11,
   "id": "27564696-d85e-400f-8e22-cd10803a6ce5",
   "metadata": {},
   "outputs": [
    {
     "data": {
      "text/html": [
       "<div>\n",
       "<style scoped>\n",
       "    .dataframe tbody tr th:only-of-type {\n",
       "        vertical-align: middle;\n",
       "    }\n",
       "\n",
       "    .dataframe tbody tr th {\n",
       "        vertical-align: top;\n",
       "    }\n",
       "\n",
       "    .dataframe thead th {\n",
       "        text-align: right;\n",
       "    }\n",
       "</style>\n",
       "<table border=\"1\" class=\"dataframe\">\n",
       "  <thead>\n",
       "    <tr style=\"text-align: right;\">\n",
       "      <th></th>\n",
       "      <th>periodo_fecha</th>\n",
       "      <th>IPC</th>\n",
       "    </tr>\n",
       "  </thead>\n",
       "  <tbody>\n",
       "    <tr>\n",
       "      <th>0</th>\n",
       "      <td>2017-01-01</td>\n",
       "      <td>1.6</td>\n",
       "    </tr>\n",
       "    <tr>\n",
       "      <th>1</th>\n",
       "      <td>2017-02-01</td>\n",
       "      <td>2.1</td>\n",
       "    </tr>\n",
       "    <tr>\n",
       "      <th>2</th>\n",
       "      <td>2017-03-01</td>\n",
       "      <td>2.4</td>\n",
       "    </tr>\n",
       "    <tr>\n",
       "      <th>3</th>\n",
       "      <td>2017-04-01</td>\n",
       "      <td>2.7</td>\n",
       "    </tr>\n",
       "    <tr>\n",
       "      <th>4</th>\n",
       "      <td>2017-05-01</td>\n",
       "      <td>1.4</td>\n",
       "    </tr>\n",
       "  </tbody>\n",
       "</table>\n",
       "</div>"
      ],
      "text/plain": [
       "  periodo_fecha  IPC\n",
       "0    2017-01-01  1.6\n",
       "1    2017-02-01  2.1\n",
       "2    2017-03-01  2.4\n",
       "3    2017-04-01  2.7\n",
       "4    2017-05-01  1.4"
      ]
     },
     "execution_count": 11,
     "metadata": {},
     "output_type": "execute_result"
    }
   ],
   "source": [
    "df_ipc.head()"
   ]
  },
  {
   "cell_type": "code",
   "execution_count": 12,
   "id": "412febbe-03bb-4648-855d-ab1bf719478c",
   "metadata": {},
   "outputs": [
    {
     "name": "stdout",
     "output_type": "stream",
     "text": [
      "2017-01-01 00:00:00\n",
      "2023-09-01 00:00:00\n"
     ]
    }
   ],
   "source": [
    "print(min(df_ipc.periodo_fecha))\n",
    "print(max(df_ipc.periodo_fecha))"
   ]
  },
  {
   "cell_type": "markdown",
   "id": "e990d32a-d5a3-49c8-972a-51df6dfeb78e",
   "metadata": {},
   "source": [
    "## Dolar"
   ]
  },
  {
   "cell_type": "code",
   "execution_count": 13,
   "id": "ac23179f-f2d6-477e-981c-e2af05a36bd3",
   "metadata": {},
   "outputs": [
    {
     "name": "stdout",
     "output_type": "stream",
     "text": [
      "<class 'pandas.core.frame.DataFrame'>\n",
      "RangeIndex: 1668 entries, 0 to 1667\n",
      "Data columns (total 2 columns):\n",
      " #   Column                  Non-Null Count  Dtype         \n",
      "---  ------                  --------------  -----         \n",
      " 0   fecha                   1668 non-null   datetime64[ns]\n",
      " 1   cotizacion_dolar_venta  1668 non-null   float64       \n",
      "dtypes: datetime64[ns](1), float64(1)\n",
      "memory usage: 26.2 KB\n"
     ]
    }
   ],
   "source": [
    "df_dolar = pd.read_excel(arch_dolar)\n",
    "df_dolar.info()"
   ]
  },
  {
   "cell_type": "code",
   "execution_count": 14,
   "id": "ce41ab96-cfb3-43c5-b34a-368828755887",
   "metadata": {},
   "outputs": [
    {
     "data": {
      "text/html": [
       "<div>\n",
       "<style scoped>\n",
       "    .dataframe tbody tr th:only-of-type {\n",
       "        vertical-align: middle;\n",
       "    }\n",
       "\n",
       "    .dataframe tbody tr th {\n",
       "        vertical-align: top;\n",
       "    }\n",
       "\n",
       "    .dataframe thead th {\n",
       "        text-align: right;\n",
       "    }\n",
       "</style>\n",
       "<table border=\"1\" class=\"dataframe\">\n",
       "  <thead>\n",
       "    <tr style=\"text-align: right;\">\n",
       "      <th></th>\n",
       "      <th>fecha</th>\n",
       "      <th>cotizacion_dolar_venta</th>\n",
       "    </tr>\n",
       "  </thead>\n",
       "  <tbody>\n",
       "    <tr>\n",
       "      <th>0</th>\n",
       "      <td>2017-01-02</td>\n",
       "      <td>15.920</td>\n",
       "    </tr>\n",
       "    <tr>\n",
       "      <th>1</th>\n",
       "      <td>2017-01-03</td>\n",
       "      <td>15.945</td>\n",
       "    </tr>\n",
       "    <tr>\n",
       "      <th>2</th>\n",
       "      <td>2017-01-04</td>\n",
       "      <td>16.080</td>\n",
       "    </tr>\n",
       "    <tr>\n",
       "      <th>3</th>\n",
       "      <td>2017-01-05</td>\n",
       "      <td>15.960</td>\n",
       "    </tr>\n",
       "    <tr>\n",
       "      <th>4</th>\n",
       "      <td>2017-01-06</td>\n",
       "      <td>15.810</td>\n",
       "    </tr>\n",
       "  </tbody>\n",
       "</table>\n",
       "</div>"
      ],
      "text/plain": [
       "       fecha  cotizacion_dolar_venta\n",
       "0 2017-01-02                  15.920\n",
       "1 2017-01-03                  15.945\n",
       "2 2017-01-04                  16.080\n",
       "3 2017-01-05                  15.960\n",
       "4 2017-01-06                  15.810"
      ]
     },
     "execution_count": 14,
     "metadata": {},
     "output_type": "execute_result"
    }
   ],
   "source": [
    "df_dolar.head()"
   ]
  },
  {
   "cell_type": "code",
   "execution_count": 15,
   "id": "e61faf0e-41cc-418e-b364-478e5bfb5bfd",
   "metadata": {},
   "outputs": [],
   "source": [
    "  def getYearMonth(d):\n",
    "      return str(d.year) + str.rjust(str(d.month),2,\"0\")"
   ]
  },
  {
   "cell_type": "code",
   "execution_count": 16,
   "id": "e9aff17b-9113-4488-9fdf-5dcfb9cf5050",
   "metadata": {},
   "outputs": [
    {
     "data": {
      "text/plain": [
       "array(['201701', '201702', '201703', '201704', '201705', '201706',\n",
       "       '201707', '201708', '201709', '201710', '201711', '201712',\n",
       "       '201801', '201802', '201803', '201804', '201805', '201806',\n",
       "       '201807', '201808', '201809', '201810', '201811', '201812',\n",
       "       '201901', '201902', '201903', '201904', '201905', '201906',\n",
       "       '201907', '201908', '201909', '201910', '201911', '201912',\n",
       "       '202001', '202002', '202003', '202004', '202005', '202006',\n",
       "       '202007', '202008', '202009', '202010', '202011', '202012',\n",
       "       '202101', '202102', '202103', '202104', '202105', '202106',\n",
       "       '202107', '202108', '202109', '202110', '202111', '202112',\n",
       "       '202201', '202202', '202203', '202204', '202205', '202206',\n",
       "       '202207', '202208', '202209', '202210', '202211', '202212',\n",
       "       '202301', '202302', '202303', '202304', '202305', '202306',\n",
       "       '202307', '202308', '202309', '202310'], dtype=object)"
      ]
     },
     "execution_count": 16,
     "metadata": {},
     "output_type": "execute_result"
    }
   ],
   "source": [
    "df_dolar['periodo'] = df_dolar['fecha'].apply(lambda x: getYearMonth(x))\n",
    "df_dolar.periodo.unique()"
   ]
  },
  {
   "cell_type": "code",
   "execution_count": 17,
   "id": "a761fe1d-39b1-4696-a6a0-d0baf196d108",
   "metadata": {},
   "outputs": [
    {
     "name": "stdout",
     "output_type": "stream",
     "text": [
      "<class 'pandas.core.frame.DataFrame'>\n",
      "RangeIndex: 82 entries, 0 to 81\n",
      "Data columns (total 3 columns):\n",
      " #   Column                     Non-Null Count  Dtype         \n",
      "---  ------                     --------------  -----         \n",
      " 0   periodo                    82 non-null     object        \n",
      " 1   promedio_mens_dolar_venta  82 non-null     float64       \n",
      " 2   periodo_fecha              82 non-null     datetime64[ns]\n",
      "dtypes: datetime64[ns](1), float64(1), object(1)\n",
      "memory usage: 2.0+ KB\n"
     ]
    },
    {
     "name": "stderr",
     "output_type": "stream",
     "text": [
      "C:\\Users\\dacastro\\AppData\\Local\\Temp\\ipykernel_2600\\991746535.py:1: FutureWarning: The default value of numeric_only in DataFrameGroupBy.mean is deprecated. In a future version, numeric_only will default to False. Either specify numeric_only or select only columns which should be valid for the function.\n",
      "  df_dolar_resum = df_dolar.groupby(\"periodo\").mean().reset_index()\n"
     ]
    }
   ],
   "source": [
    "df_dolar_resum = df_dolar.groupby(\"periodo\").mean().reset_index()\n",
    "df_dolar_resum.rename(columns={\"cotizacion_dolar_venta\":\"promedio_mens_dolar_venta\"},inplace=True)\n",
    "df_dolar_resum.promedio_mens_dolar_venta = round(df_dolar_resum.promedio_mens_dolar_venta,2)\n",
    "df_dolar_resum['periodo_fecha'] = pd.to_datetime(df_dolar_resum['periodo'], format='%Y%m')\n",
    "df_dolar_resum.info()"
   ]
  },
  {
   "cell_type": "markdown",
   "id": "a429b214-c0b7-42a3-bd23-f73d984379d3",
   "metadata": {},
   "source": [
    "## Variable \"Coyuntura pais\""
   ]
  },
  {
   "cell_type": "code",
   "execution_count": 18,
   "id": "a433d6b9-c96a-4301-a10f-57bf37488dee",
   "metadata": {},
   "outputs": [
    {
     "data": {
      "text/html": [
       "<div>\n",
       "<style scoped>\n",
       "    .dataframe tbody tr th:only-of-type {\n",
       "        vertical-align: middle;\n",
       "    }\n",
       "\n",
       "    .dataframe tbody tr th {\n",
       "        vertical-align: top;\n",
       "    }\n",
       "\n",
       "    .dataframe thead th {\n",
       "        text-align: right;\n",
       "    }\n",
       "</style>\n",
       "<table border=\"1\" class=\"dataframe\">\n",
       "  <thead>\n",
       "    <tr style=\"text-align: right;\">\n",
       "      <th></th>\n",
       "      <th>catastrofe</th>\n",
       "      <th>periodo_fecha</th>\n",
       "    </tr>\n",
       "  </thead>\n",
       "  <tbody>\n",
       "    <tr>\n",
       "      <th>0</th>\n",
       "      <td>True</td>\n",
       "      <td>2019-08-01</td>\n",
       "    </tr>\n",
       "  </tbody>\n",
       "</table>\n",
       "</div>"
      ],
      "text/plain": [
       "   catastrofe periodo_fecha\n",
       "0        True    2019-08-01"
      ]
     },
     "execution_count": 18,
     "metadata": {},
     "output_type": "execute_result"
    }
   ],
   "source": [
    "df_coyuntura_pais = pd.DataFrame({\"periodo\":[\"201908\"],\"catastrofe\":[True]})\n",
    "df_coyuntura_pais['periodo_fecha'] = pd.to_datetime(df_coyuntura_pais['periodo'], format='%Y%m')\n",
    "df_coyuntura_pais.drop(columns=\"periodo\",inplace=True)\n",
    "\n",
    "df_coyuntura_pais.head()"
   ]
  },
  {
   "cell_type": "code",
   "execution_count": 19,
   "id": "89d53138-0c67-4d0c-8841-08119be1c71b",
   "metadata": {},
   "outputs": [
    {
     "name": "stdout",
     "output_type": "stream",
     "text": [
      "<class 'pandas.core.frame.DataFrame'>\n",
      "RangeIndex: 1 entries, 0 to 0\n",
      "Data columns (total 2 columns):\n",
      " #   Column         Non-Null Count  Dtype         \n",
      "---  ------         --------------  -----         \n",
      " 0   catastrofe     1 non-null      bool          \n",
      " 1   periodo_fecha  1 non-null      datetime64[ns]\n",
      "dtypes: bool(1), datetime64[ns](1)\n",
      "memory usage: 137.0 bytes\n"
     ]
    }
   ],
   "source": [
    "df_coyuntura_pais.info()"
   ]
  },
  {
   "cell_type": "markdown",
   "id": "4eacf537-cf98-4f07-bc78-9e616192bd93",
   "metadata": {},
   "source": [
    "## Join de todo"
   ]
  },
  {
   "cell_type": "code",
   "execution_count": 20,
   "id": "608a01bb-bfa9-45a5-a9dd-41b174b1fc0f",
   "metadata": {},
   "outputs": [
    {
     "name": "stdout",
     "output_type": "stream",
     "text": [
      "48\n",
      "48\n"
     ]
    }
   ],
   "source": [
    "print(len(df_temp))\n",
    "df_exogenas = pd.merge(df_temp,df_ipc,on=\"periodo_fecha\",how=\"left\")\n",
    "df_exogenas = pd.merge(df_exogenas,df_dolar_resum,on=\"periodo_fecha\",how=\"left\")\n",
    "df_exogenas = pd.merge(df_exogenas,df_coyuntura_pais,on=\"periodo_fecha\",how=\"left\")\n",
    "print(len(df_exogenas))"
   ]
  },
  {
   "cell_type": "code",
   "execution_count": 21,
   "id": "a63ba857-9ce5-40d9-8e06-f6dad201398e",
   "metadata": {},
   "outputs": [
    {
     "name": "stdout",
     "output_type": "stream",
     "text": [
      "<class 'pandas.core.frame.DataFrame'>\n",
      "Int64Index: 48 entries, 0 to 47\n",
      "Data columns (total 8 columns):\n",
      " #   Column                     Non-Null Count  Dtype         \n",
      "---  ------                     --------------  -----         \n",
      " 0   periodo_fecha              48 non-null     datetime64[ns]\n",
      " 1   temp_media                 48 non-null     float64       \n",
      " 2   temp_max_media             48 non-null     float64       \n",
      " 3   temp_min_media             48 non-null     float64       \n",
      " 4   IPC                        48 non-null     float64       \n",
      " 5   periodo                    48 non-null     object        \n",
      " 6   promedio_mens_dolar_venta  48 non-null     float64       \n",
      " 7   catastrofe                 1 non-null      object        \n",
      "dtypes: datetime64[ns](1), float64(5), object(2)\n",
      "memory usage: 3.4+ KB\n"
     ]
    }
   ],
   "source": [
    "df_exogenas.info()"
   ]
  },
  {
   "cell_type": "code",
   "execution_count": 22,
   "id": "e3bb29b0-2393-43ec-bc8c-5854e9594c2a",
   "metadata": {},
   "outputs": [
    {
     "name": "stdout",
     "output_type": "stream",
     "text": [
      "<class 'pandas.core.frame.DataFrame'>\n",
      "Int64Index: 48 entries, 0 to 47\n",
      "Data columns (total 7 columns):\n",
      " #   Column                     Non-Null Count  Dtype         \n",
      "---  ------                     --------------  -----         \n",
      " 0   periodo_fecha              48 non-null     datetime64[ns]\n",
      " 1   temp_media                 48 non-null     float64       \n",
      " 2   temp_max_media             48 non-null     float64       \n",
      " 3   temp_min_media             48 non-null     float64       \n",
      " 4   IPC                        48 non-null     float64       \n",
      " 5   promedio_mens_dolar_venta  48 non-null     float64       \n",
      " 6   catastrofe                 48 non-null     bool          \n",
      "dtypes: bool(1), datetime64[ns](1), float64(5)\n",
      "memory usage: 2.7 KB\n"
     ]
    }
   ],
   "source": [
    "df_exogenas.catastrofe = df_exogenas.catastrofe.fillna(False)\n",
    "df_exogenas.drop(columns=\"periodo\",inplace=True)\n",
    "df_exogenas.info()"
   ]
  },
  {
   "cell_type": "code",
   "execution_count": 23,
   "id": "47741043-686d-463c-8cb2-70be5e1f6e83",
   "metadata": {},
   "outputs": [
    {
     "data": {
      "text/html": [
       "<div>\n",
       "<style scoped>\n",
       "    .dataframe tbody tr th:only-of-type {\n",
       "        vertical-align: middle;\n",
       "    }\n",
       "\n",
       "    .dataframe tbody tr th {\n",
       "        vertical-align: top;\n",
       "    }\n",
       "\n",
       "    .dataframe thead th {\n",
       "        text-align: right;\n",
       "    }\n",
       "</style>\n",
       "<table border=\"1\" class=\"dataframe\">\n",
       "  <thead>\n",
       "    <tr style=\"text-align: right;\">\n",
       "      <th></th>\n",
       "      <th>periodo_fecha</th>\n",
       "      <th>temp_media</th>\n",
       "      <th>temp_max_media</th>\n",
       "      <th>temp_min_media</th>\n",
       "      <th>IPC</th>\n",
       "      <th>promedio_mens_dolar_venta</th>\n",
       "      <th>catastrofe</th>\n",
       "    </tr>\n",
       "  </thead>\n",
       "  <tbody>\n",
       "    <tr>\n",
       "      <th>0</th>\n",
       "      <td>2017-01-01</td>\n",
       "      <td>25.65</td>\n",
       "      <td>30.4</td>\n",
       "      <td>20.9</td>\n",
       "      <td>1.6</td>\n",
       "      <td>15.91</td>\n",
       "      <td>False</td>\n",
       "    </tr>\n",
       "    <tr>\n",
       "      <th>1</th>\n",
       "      <td>2017-02-01</td>\n",
       "      <td>25.35</td>\n",
       "      <td>30.1</td>\n",
       "      <td>20.6</td>\n",
       "      <td>2.1</td>\n",
       "      <td>15.59</td>\n",
       "      <td>False</td>\n",
       "    </tr>\n",
       "    <tr>\n",
       "      <th>2</th>\n",
       "      <td>2017-03-01</td>\n",
       "      <td>22.45</td>\n",
       "      <td>26.9</td>\n",
       "      <td>18.0</td>\n",
       "      <td>2.4</td>\n",
       "      <td>15.52</td>\n",
       "      <td>False</td>\n",
       "    </tr>\n",
       "    <tr>\n",
       "      <th>3</th>\n",
       "      <td>2017-04-01</td>\n",
       "      <td>18.90</td>\n",
       "      <td>23.5</td>\n",
       "      <td>14.3</td>\n",
       "      <td>2.7</td>\n",
       "      <td>15.36</td>\n",
       "      <td>False</td>\n",
       "    </tr>\n",
       "    <tr>\n",
       "      <th>4</th>\n",
       "      <td>2017-05-01</td>\n",
       "      <td>15.90</td>\n",
       "      <td>19.5</td>\n",
       "      <td>12.3</td>\n",
       "      <td>1.4</td>\n",
       "      <td>15.72</td>\n",
       "      <td>False</td>\n",
       "    </tr>\n",
       "  </tbody>\n",
       "</table>\n",
       "</div>"
      ],
      "text/plain": [
       "  periodo_fecha  temp_media  temp_max_media  temp_min_media  IPC  \\\n",
       "0    2017-01-01       25.65            30.4            20.9  1.6   \n",
       "1    2017-02-01       25.35            30.1            20.6  2.1   \n",
       "2    2017-03-01       22.45            26.9            18.0  2.4   \n",
       "3    2017-04-01       18.90            23.5            14.3  2.7   \n",
       "4    2017-05-01       15.90            19.5            12.3  1.4   \n",
       "\n",
       "   promedio_mens_dolar_venta  catastrofe  \n",
       "0                      15.91       False  \n",
       "1                      15.59       False  \n",
       "2                      15.52       False  \n",
       "3                      15.36       False  \n",
       "4                      15.72       False  "
      ]
     },
     "execution_count": 23,
     "metadata": {},
     "output_type": "execute_result"
    }
   ],
   "source": [
    "df_exogenas.head()"
   ]
  },
  {
   "cell_type": "code",
   "execution_count": 24,
   "id": "186f3562-89fa-400e-9fd4-44eaa19b0da8",
   "metadata": {},
   "outputs": [
    {
     "data": {
      "text/html": [
       "<div>\n",
       "<style scoped>\n",
       "    .dataframe tbody tr th:only-of-type {\n",
       "        vertical-align: middle;\n",
       "    }\n",
       "\n",
       "    .dataframe tbody tr th {\n",
       "        vertical-align: top;\n",
       "    }\n",
       "\n",
       "    .dataframe thead th {\n",
       "        text-align: right;\n",
       "    }\n",
       "</style>\n",
       "<table border=\"1\" class=\"dataframe\">\n",
       "  <thead>\n",
       "    <tr style=\"text-align: right;\">\n",
       "      <th></th>\n",
       "      <th>periodo_fecha</th>\n",
       "      <th>temp_media</th>\n",
       "      <th>temp_max_media</th>\n",
       "      <th>temp_min_media</th>\n",
       "      <th>IPC</th>\n",
       "      <th>promedio_mens_dolar_venta</th>\n",
       "      <th>catastrofe</th>\n",
       "    </tr>\n",
       "  </thead>\n",
       "  <tbody>\n",
       "    <tr>\n",
       "      <th>28</th>\n",
       "      <td>2019-05-01</td>\n",
       "      <td>15.8</td>\n",
       "      <td>20.1</td>\n",
       "      <td>12.0</td>\n",
       "      <td>3.1</td>\n",
       "      <td>44.88</td>\n",
       "      <td>False</td>\n",
       "    </tr>\n",
       "    <tr>\n",
       "      <th>29</th>\n",
       "      <td>2019-06-01</td>\n",
       "      <td>14.5</td>\n",
       "      <td>17.8</td>\n",
       "      <td>11.3</td>\n",
       "      <td>2.7</td>\n",
       "      <td>43.73</td>\n",
       "      <td>False</td>\n",
       "    </tr>\n",
       "    <tr>\n",
       "      <th>30</th>\n",
       "      <td>2019-07-01</td>\n",
       "      <td>11.7</td>\n",
       "      <td>15.9</td>\n",
       "      <td>11.7</td>\n",
       "      <td>2.2</td>\n",
       "      <td>42.58</td>\n",
       "      <td>False</td>\n",
       "    </tr>\n",
       "    <tr>\n",
       "      <th>31</th>\n",
       "      <td>2019-08-01</td>\n",
       "      <td>12.6</td>\n",
       "      <td>17.1</td>\n",
       "      <td>8.6</td>\n",
       "      <td>4.0</td>\n",
       "      <td>52.59</td>\n",
       "      <td>True</td>\n",
       "    </tr>\n",
       "    <tr>\n",
       "      <th>32</th>\n",
       "      <td>2019-09-01</td>\n",
       "      <td>15.3</td>\n",
       "      <td>20.4</td>\n",
       "      <td>10.4</td>\n",
       "      <td>5.9</td>\n",
       "      <td>56.46</td>\n",
       "      <td>False</td>\n",
       "    </tr>\n",
       "    <tr>\n",
       "      <th>33</th>\n",
       "      <td>2019-10-01</td>\n",
       "      <td>17.8</td>\n",
       "      <td>22.0</td>\n",
       "      <td>13.0</td>\n",
       "      <td>3.3</td>\n",
       "      <td>58.54</td>\n",
       "      <td>False</td>\n",
       "    </tr>\n",
       "    <tr>\n",
       "      <th>34</th>\n",
       "      <td>2019-11-01</td>\n",
       "      <td>22.9</td>\n",
       "      <td>27.8</td>\n",
       "      <td>17.6</td>\n",
       "      <td>4.3</td>\n",
       "      <td>59.75</td>\n",
       "      <td>False</td>\n",
       "    </tr>\n",
       "    <tr>\n",
       "      <th>35</th>\n",
       "      <td>2019-12-01</td>\n",
       "      <td>24.0</td>\n",
       "      <td>29.5</td>\n",
       "      <td>18.0</td>\n",
       "      <td>3.7</td>\n",
       "      <td>59.88</td>\n",
       "      <td>False</td>\n",
       "    </tr>\n",
       "    <tr>\n",
       "      <th>36</th>\n",
       "      <td>2020-01-01</td>\n",
       "      <td>25.1</td>\n",
       "      <td>30.0</td>\n",
       "      <td>20.2</td>\n",
       "      <td>2.3</td>\n",
       "      <td>60.01</td>\n",
       "      <td>False</td>\n",
       "    </tr>\n",
       "    <tr>\n",
       "      <th>37</th>\n",
       "      <td>2020-02-01</td>\n",
       "      <td>24.4</td>\n",
       "      <td>29.6</td>\n",
       "      <td>19.3</td>\n",
       "      <td>2.0</td>\n",
       "      <td>61.36</td>\n",
       "      <td>False</td>\n",
       "    </tr>\n",
       "    <tr>\n",
       "      <th>38</th>\n",
       "      <td>2020-03-01</td>\n",
       "      <td>24.0</td>\n",
       "      <td>28.6</td>\n",
       "      <td>20.1</td>\n",
       "      <td>3.3</td>\n",
       "      <td>63.12</td>\n",
       "      <td>False</td>\n",
       "    </tr>\n",
       "    <tr>\n",
       "      <th>39</th>\n",
       "      <td>2020-04-01</td>\n",
       "      <td>18.0</td>\n",
       "      <td>22.8</td>\n",
       "      <td>13.6</td>\n",
       "      <td>1.5</td>\n",
       "      <td>65.76</td>\n",
       "      <td>False</td>\n",
       "    </tr>\n",
       "    <tr>\n",
       "      <th>40</th>\n",
       "      <td>2020-05-01</td>\n",
       "      <td>15.3</td>\n",
       "      <td>20.4</td>\n",
       "      <td>11.0</td>\n",
       "      <td>1.5</td>\n",
       "      <td>67.73</td>\n",
       "      <td>False</td>\n",
       "    </tr>\n",
       "    <tr>\n",
       "      <th>41</th>\n",
       "      <td>2020-06-01</td>\n",
       "      <td>12.7</td>\n",
       "      <td>16.9</td>\n",
       "      <td>9.1</td>\n",
       "      <td>2.2</td>\n",
       "      <td>69.54</td>\n",
       "      <td>False</td>\n",
       "    </tr>\n",
       "    <tr>\n",
       "      <th>42</th>\n",
       "      <td>2020-07-01</td>\n",
       "      <td>10.5</td>\n",
       "      <td>15.1</td>\n",
       "      <td>6.7</td>\n",
       "      <td>1.9</td>\n",
       "      <td>71.48</td>\n",
       "      <td>False</td>\n",
       "    </tr>\n",
       "    <tr>\n",
       "      <th>43</th>\n",
       "      <td>2020-08-01</td>\n",
       "      <td>13.9</td>\n",
       "      <td>19.0</td>\n",
       "      <td>9.2</td>\n",
       "      <td>2.7</td>\n",
       "      <td>73.30</td>\n",
       "      <td>False</td>\n",
       "    </tr>\n",
       "    <tr>\n",
       "      <th>44</th>\n",
       "      <td>2020-09-01</td>\n",
       "      <td>14.8</td>\n",
       "      <td>19.3</td>\n",
       "      <td>9.8</td>\n",
       "      <td>2.8</td>\n",
       "      <td>75.20</td>\n",
       "      <td>False</td>\n",
       "    </tr>\n",
       "    <tr>\n",
       "      <th>45</th>\n",
       "      <td>2020-10-01</td>\n",
       "      <td>17.3</td>\n",
       "      <td>22.1</td>\n",
       "      <td>12.4</td>\n",
       "      <td>3.8</td>\n",
       "      <td>77.58</td>\n",
       "      <td>False</td>\n",
       "    </tr>\n",
       "    <tr>\n",
       "      <th>46</th>\n",
       "      <td>2020-11-01</td>\n",
       "      <td>21.8</td>\n",
       "      <td>26.5</td>\n",
       "      <td>17.3</td>\n",
       "      <td>3.2</td>\n",
       "      <td>79.94</td>\n",
       "      <td>False</td>\n",
       "    </tr>\n",
       "    <tr>\n",
       "      <th>47</th>\n",
       "      <td>2020-12-01</td>\n",
       "      <td>23.5</td>\n",
       "      <td>29.0</td>\n",
       "      <td>18.0</td>\n",
       "      <td>4.0</td>\n",
       "      <td>82.72</td>\n",
       "      <td>False</td>\n",
       "    </tr>\n",
       "  </tbody>\n",
       "</table>\n",
       "</div>"
      ],
      "text/plain": [
       "   periodo_fecha  temp_media  temp_max_media  temp_min_media  IPC  \\\n",
       "28    2019-05-01        15.8            20.1            12.0  3.1   \n",
       "29    2019-06-01        14.5            17.8            11.3  2.7   \n",
       "30    2019-07-01        11.7            15.9            11.7  2.2   \n",
       "31    2019-08-01        12.6            17.1             8.6  4.0   \n",
       "32    2019-09-01        15.3            20.4            10.4  5.9   \n",
       "33    2019-10-01        17.8            22.0            13.0  3.3   \n",
       "34    2019-11-01        22.9            27.8            17.6  4.3   \n",
       "35    2019-12-01        24.0            29.5            18.0  3.7   \n",
       "36    2020-01-01        25.1            30.0            20.2  2.3   \n",
       "37    2020-02-01        24.4            29.6            19.3  2.0   \n",
       "38    2020-03-01        24.0            28.6            20.1  3.3   \n",
       "39    2020-04-01        18.0            22.8            13.6  1.5   \n",
       "40    2020-05-01        15.3            20.4            11.0  1.5   \n",
       "41    2020-06-01        12.7            16.9             9.1  2.2   \n",
       "42    2020-07-01        10.5            15.1             6.7  1.9   \n",
       "43    2020-08-01        13.9            19.0             9.2  2.7   \n",
       "44    2020-09-01        14.8            19.3             9.8  2.8   \n",
       "45    2020-10-01        17.3            22.1            12.4  3.8   \n",
       "46    2020-11-01        21.8            26.5            17.3  3.2   \n",
       "47    2020-12-01        23.5            29.0            18.0  4.0   \n",
       "\n",
       "    promedio_mens_dolar_venta  catastrofe  \n",
       "28                      44.88       False  \n",
       "29                      43.73       False  \n",
       "30                      42.58       False  \n",
       "31                      52.59        True  \n",
       "32                      56.46       False  \n",
       "33                      58.54       False  \n",
       "34                      59.75       False  \n",
       "35                      59.88       False  \n",
       "36                      60.01       False  \n",
       "37                      61.36       False  \n",
       "38                      63.12       False  \n",
       "39                      65.76       False  \n",
       "40                      67.73       False  \n",
       "41                      69.54       False  \n",
       "42                      71.48       False  \n",
       "43                      73.30       False  \n",
       "44                      75.20       False  \n",
       "45                      77.58       False  \n",
       "46                      79.94       False  \n",
       "47                      82.72       False  "
      ]
     },
     "execution_count": 24,
     "metadata": {},
     "output_type": "execute_result"
    }
   ],
   "source": [
    "df_exogenas.tail(20)"
   ]
  },
  {
   "cell_type": "code",
   "execution_count": 25,
   "id": "b86d88aa-ea27-493d-a2c1-7a89ec2482a6",
   "metadata": {},
   "outputs": [],
   "source": [
    "df_exogenas.to_csv(\"emp3_exogenas.csv\",index=False)"
   ]
  }
 ],
 "metadata": {
  "kernelspec": {
   "display_name": "Python 3 (ipykernel)",
   "language": "python",
   "name": "python3"
  },
  "language_info": {
   "codemirror_mode": {
    "name": "ipython",
    "version": 3
   },
   "file_extension": ".py",
   "mimetype": "text/x-python",
   "name": "python",
   "nbconvert_exporter": "python",
   "pygments_lexer": "ipython3",
   "version": "3.9.12"
  }
 },
 "nbformat": 4,
 "nbformat_minor": 5
}
