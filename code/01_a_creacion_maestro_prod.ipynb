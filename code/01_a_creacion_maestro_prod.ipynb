{
 "cells": [
  {
   "cell_type": "code",
   "execution_count": null,
   "id": "1b6c0f22",
   "metadata": {},
   "outputs": [],
   "source": [
    "import pandas as pd\n",
    "import os\n",
    "import numpy as np"
   ]
  },
  {
   "cell_type": "code",
   "execution_count": null,
   "id": "e3f80795-b65c-452d-9d00-8f3c57afe98b",
   "metadata": {},
   "outputs": [],
   "source": [
    "####################################################\n",
    "############# Setear segun cada maquina ############\n",
    "#os.chdir(\"C:/Users/herna/labo3_empresa3_repo/\")\n",
    "#os.chdir(\"C:/diego_tools/labo3/\")\n",
    "os.chdir(\"/home/dcastro_contacto/buckets/b1/\")\n",
    "####################################################"
   ]
  },
  {
   "cell_type": "code",
   "execution_count": null,
   "id": "29cfb14c-e6c2-4e67-9db3-a09081d7a7da",
   "metadata": {},
   "outputs": [],
   "source": [
    "arch_maestro_prod = \"datasets/tb_productos_02.txt\"\n",
    "arch_salida = \"datasets/maestro_productos_depurado.csv\""
   ]
  },
  {
   "cell_type": "code",
   "execution_count": null,
   "id": "cb712f4a-ac8a-47ca-83a6-70195acf89ff",
   "metadata": {},
   "outputs": [],
   "source": [
    "star_products = [20001, 20002, 20003, 20004, 20005, 20006, 20007, 20009, 20011, 20032]\n",
    "print(len(star_products))"
   ]
  },
  {
   "cell_type": "markdown",
   "id": "3c79f59b-6eb5-441e-a397-71ab72602c6e",
   "metadata": {},
   "source": [
    "## Maestro de productos"
   ]
  },
  {
   "cell_type": "code",
   "execution_count": null,
   "id": "a404bbcf",
   "metadata": {},
   "outputs": [],
   "source": [
    "df_product = pd.read_csv(arch_maestro_prod,sep=\"\\t\")"
   ]
  },
  {
   "cell_type": "code",
   "execution_count": null,
   "id": "05821c22",
   "metadata": {},
   "outputs": [],
   "source": [
    "df_product.info()"
   ]
  },
  {
   "cell_type": "code",
   "execution_count": null,
   "id": "f752204d-ad2e-4016-ac70-f52da9705abe",
   "metadata": {},
   "outputs": [],
   "source": [
    "# Por las dudas, eliminamos duplicados\n",
    "print(len(df_product))\n",
    "df_product.drop_duplicates(inplace=True)\n",
    "print(len(df_product))"
   ]
  },
  {
   "cell_type": "code",
   "execution_count": null,
   "id": "3285676b-8a79-4368-a796-6373df1d6051",
   "metadata": {},
   "outputs": [],
   "source": [
    "print(len(df_product.product_id.unique()))\n",
    "print(len(df_product))"
   ]
  },
  {
   "cell_type": "code",
   "execution_count": null,
   "id": "1fc62ec6-cce2-4403-a051-ab744b477b25",
   "metadata": {},
   "outputs": [],
   "source": [
    "# Revisamos cuales son los que tienen mas de una descripcion\n",
    "df_product.groupby(\"product_id\").filter(lambda x: len(x) > 1)"
   ]
  },
  {
   "cell_type": "code",
   "execution_count": null,
   "id": "b552a67b-abdf-42d7-adfd-b86b8455b362",
   "metadata": {},
   "outputs": [],
   "source": [
    "# Eliminamos los que son acondicionador\n",
    "df_product = df_product[~((df_product.product_id.isin([20623,20230])) & (df_product.cat3==\"ACONDICIONADOR\"))]\n",
    "print(len(df_product.product_id.unique()))\n",
    "print(len(df_product))"
   ]
  },
  {
   "cell_type": "code",
   "execution_count": null,
   "id": "5b5bd24c-b5bc-49e8-9ea6-051d1ca2d2a8",
   "metadata": {},
   "outputs": [],
   "source": [
    "df_product.cat1.value_counts(dropna=False)"
   ]
  },
  {
   "cell_type": "code",
   "execution_count": null,
   "id": "1611a443-b2b4-4273-9267-fbdc804cfb8f",
   "metadata": {},
   "outputs": [],
   "source": [
    "df_product[df_product.cat1==\"REF\"]"
   ]
  },
  {
   "cell_type": "markdown",
   "id": "82ad28e0-5ea7-4a20-8edf-767126a998c2",
   "metadata": {},
   "source": [
    "--> los reasignaremos a FOODS"
   ]
  },
  {
   "cell_type": "code",
   "execution_count": null,
   "id": "c36c6afd-f337-486a-966e-0e8223a6500b",
   "metadata": {},
   "outputs": [],
   "source": [
    "df_product.cat1 = np.where(df_product.cat1==\"REF\",\"FOODS\",df_product.cat1)"
   ]
  },
  {
   "cell_type": "code",
   "execution_count": null,
   "id": "eee48c94-6936-4fa6-8ac8-56b91bb0e0ac",
   "metadata": {},
   "outputs": [],
   "source": [
    "df_product.cat1.value_counts(dropna=False)"
   ]
  },
  {
   "cell_type": "code",
   "execution_count": null,
   "id": "e2a7f713-6842-48d7-a338-22f7d871a02f",
   "metadata": {},
   "outputs": [],
   "source": [
    "df_product.cat2.value_counts(dropna=False)"
   ]
  },
  {
   "cell_type": "code",
   "execution_count": null,
   "id": "f826a34c-4384-447c-a3cb-dbcc7ca88b98",
   "metadata": {},
   "outputs": [],
   "source": [
    "df_product.cat3.value_counts(dropna=False)"
   ]
  },
  {
   "cell_type": "code",
   "execution_count": null,
   "id": "a36d8d91-7759-4a49-b5cc-98116ff8b19f",
   "metadata": {},
   "outputs": [],
   "source": [
    "df_product[\"producto_estrella\"]=np.where(df_product.product_id.isin(star_products),1,0)"
   ]
  },
  {
   "cell_type": "code",
   "execution_count": null,
   "id": "8f6a3945-977a-419d-9104-24451545a11e",
   "metadata": {},
   "outputs": [],
   "source": [
    "df_product.to_csv(arch_salida, index=False)"
   ]
  }
 ],
 "metadata": {
  "kernelspec": {
   "display_name": "Python 3 (ipykernel)",
   "language": "python",
   "name": "python3"
  },
  "language_info": {
   "codemirror_mode": {
    "name": "ipython",
    "version": 3
   },
   "file_extension": ".py",
   "mimetype": "text/x-python",
   "name": "python",
   "nbconvert_exporter": "python",
   "pygments_lexer": "ipython3",
   "version": "3.10.12"
  }
 },
 "nbformat": 4,
 "nbformat_minor": 5
}
