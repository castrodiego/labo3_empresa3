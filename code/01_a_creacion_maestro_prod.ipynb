{
 "cells": [
  {
   "cell_type": "code",
   "execution_count": 1,
   "id": "1b6c0f22",
   "metadata": {},
   "outputs": [],
   "source": [
    "import pandas as pd\n",
    "import os\n",
    "import numpy as np"
   ]
  },
  {
   "cell_type": "code",
   "execution_count": 2,
   "id": "e3f80795-b65c-452d-9d00-8f3c57afe98b",
   "metadata": {},
   "outputs": [],
   "source": [
    "####################################################\n",
    "############# Setear segun cada maquina ############\n",
    "#os.chdir(\"C:/Users/herna/labo3_empresa3_repo/datasets\")\n",
    "os.chdir(\"C:/diego_tools/labo3/dataset\")\n",
    "####################################################"
   ]
  },
  {
   "cell_type": "code",
   "execution_count": 3,
   "id": "29cfb14c-e6c2-4e67-9db3-a09081d7a7da",
   "metadata": {},
   "outputs": [],
   "source": [
    "arch_maestro_prod = \"tb_productos_02.txt\""
   ]
  },
  {
   "cell_type": "code",
   "execution_count": 4,
   "id": "cb712f4a-ac8a-47ca-83a6-70195acf89ff",
   "metadata": {},
   "outputs": [
    {
     "name": "stdout",
     "output_type": "stream",
     "text": [
      "10\n"
     ]
    }
   ],
   "source": [
    "star_products = [20001, 20002, 20003, 20004, 20005, 20006, 20007, 20009, 20011, 20032]\n",
    "print(len(star_products))"
   ]
  },
  {
   "cell_type": "markdown",
   "id": "3c79f59b-6eb5-441e-a397-71ab72602c6e",
   "metadata": {},
   "source": [
    "## Maestro de productos"
   ]
  },
  {
   "cell_type": "code",
   "execution_count": 5,
   "id": "a404bbcf",
   "metadata": {},
   "outputs": [],
   "source": [
    "df_product = pd.read_csv(arch_maestro_prod,sep=\"\\t\")"
   ]
  },
  {
   "cell_type": "code",
   "execution_count": 6,
   "id": "05821c22",
   "metadata": {},
   "outputs": [
    {
     "name": "stdout",
     "output_type": "stream",
     "text": [
      "<class 'pandas.core.frame.DataFrame'>\n",
      "RangeIndex: 1262 entries, 0 to 1261\n",
      "Data columns (total 6 columns):\n",
      " #   Column      Non-Null Count  Dtype \n",
      "---  ------      --------------  ----- \n",
      " 0   cat1        1262 non-null   object\n",
      " 1   cat2        1262 non-null   object\n",
      " 2   cat3        1262 non-null   object\n",
      " 3   brand       1262 non-null   object\n",
      " 4   sku_size    1262 non-null   int64 \n",
      " 5   product_id  1262 non-null   int64 \n",
      "dtypes: int64(2), object(4)\n",
      "memory usage: 59.3+ KB\n"
     ]
    }
   ],
   "source": [
    "df_product.info()"
   ]
  },
  {
   "cell_type": "code",
   "execution_count": 7,
   "id": "f752204d-ad2e-4016-ac70-f52da9705abe",
   "metadata": {},
   "outputs": [
    {
     "name": "stdout",
     "output_type": "stream",
     "text": [
      "1262\n",
      "1253\n"
     ]
    }
   ],
   "source": [
    "# Por las dudas, eliminamos duplicados\n",
    "print(len(df_product))\n",
    "df_product.drop_duplicates(inplace=True)\n",
    "print(len(df_product))"
   ]
  },
  {
   "cell_type": "code",
   "execution_count": 8,
   "id": "3285676b-8a79-4368-a796-6373df1d6051",
   "metadata": {},
   "outputs": [
    {
     "name": "stdout",
     "output_type": "stream",
     "text": [
      "1251\n",
      "1253\n"
     ]
    }
   ],
   "source": [
    "print(len(df_product.product_id.unique()))\n",
    "print(len(df_product))"
   ]
  },
  {
   "cell_type": "code",
   "execution_count": 9,
   "id": "1fc62ec6-cce2-4403-a051-ab744b477b25",
   "metadata": {},
   "outputs": [
    {
     "data": {
      "text/html": [
       "<div>\n",
       "<style scoped>\n",
       "    .dataframe tbody tr th:only-of-type {\n",
       "        vertical-align: middle;\n",
       "    }\n",
       "\n",
       "    .dataframe tbody tr th {\n",
       "        vertical-align: top;\n",
       "    }\n",
       "\n",
       "    .dataframe thead th {\n",
       "        text-align: right;\n",
       "    }\n",
       "</style>\n",
       "<table border=\"1\" class=\"dataframe\">\n",
       "  <thead>\n",
       "    <tr style=\"text-align: right;\">\n",
       "      <th></th>\n",
       "      <th>cat1</th>\n",
       "      <th>cat2</th>\n",
       "      <th>cat3</th>\n",
       "      <th>brand</th>\n",
       "      <th>sku_size</th>\n",
       "      <th>product_id</th>\n",
       "    </tr>\n",
       "  </thead>\n",
       "  <tbody>\n",
       "    <tr>\n",
       "      <th>915</th>\n",
       "      <td>PC</td>\n",
       "      <td>CABELLO</td>\n",
       "      <td>ACONDICIONADOR</td>\n",
       "      <td>SHAMPOO3</td>\n",
       "      <td>350</td>\n",
       "      <td>20623</td>\n",
       "    </tr>\n",
       "    <tr>\n",
       "      <th>917</th>\n",
       "      <td>PC</td>\n",
       "      <td>CABELLO</td>\n",
       "      <td>ACONDICIONADOR</td>\n",
       "      <td>SHAMPOO3</td>\n",
       "      <td>350</td>\n",
       "      <td>20230</td>\n",
       "    </tr>\n",
       "    <tr>\n",
       "      <th>981</th>\n",
       "      <td>PC</td>\n",
       "      <td>CABELLO</td>\n",
       "      <td>SHAMPOO</td>\n",
       "      <td>SHAMPOO3</td>\n",
       "      <td>350</td>\n",
       "      <td>20623</td>\n",
       "    </tr>\n",
       "    <tr>\n",
       "      <th>983</th>\n",
       "      <td>PC</td>\n",
       "      <td>CABELLO</td>\n",
       "      <td>SHAMPOO</td>\n",
       "      <td>SHAMPOO3</td>\n",
       "      <td>350</td>\n",
       "      <td>20230</td>\n",
       "    </tr>\n",
       "  </tbody>\n",
       "</table>\n",
       "</div>"
      ],
      "text/plain": [
       "    cat1     cat2            cat3     brand  sku_size  product_id\n",
       "915   PC  CABELLO  ACONDICIONADOR  SHAMPOO3       350       20623\n",
       "917   PC  CABELLO  ACONDICIONADOR  SHAMPOO3       350       20230\n",
       "981   PC  CABELLO         SHAMPOO  SHAMPOO3       350       20623\n",
       "983   PC  CABELLO         SHAMPOO  SHAMPOO3       350       20230"
      ]
     },
     "execution_count": 9,
     "metadata": {},
     "output_type": "execute_result"
    }
   ],
   "source": [
    "# Revisamos cuales son los que tienen mas de una descripcion\n",
    "df_product.groupby(\"product_id\").filter(lambda x: len(x) > 1)"
   ]
  },
  {
   "cell_type": "code",
   "execution_count": 10,
   "id": "b552a67b-abdf-42d7-adfd-b86b8455b362",
   "metadata": {},
   "outputs": [
    {
     "name": "stdout",
     "output_type": "stream",
     "text": [
      "1251\n",
      "1251\n"
     ]
    }
   ],
   "source": [
    "# Eliminamos los que son acondicionador\n",
    "df_product = df_product[~((df_product.product_id.isin([20623,20230])) & (df_product.cat3==\"ACONDICIONADOR\"))]\n",
    "print(len(df_product.product_id.unique()))\n",
    "print(len(df_product))"
   ]
  },
  {
   "cell_type": "code",
   "execution_count": 11,
   "id": "5b5bd24c-b5bc-49e8-9ea6-051d1ca2d2a8",
   "metadata": {},
   "outputs": [
    {
     "data": {
      "text/plain": [
       "PC       721\n",
       "HC       292\n",
       "FOODS    225\n",
       "REF       13\n",
       "Name: cat1, dtype: int64"
      ]
     },
     "execution_count": 11,
     "metadata": {},
     "output_type": "execute_result"
    }
   ],
   "source": [
    "df_product.cat1.value_counts(dropna=False)"
   ]
  },
  {
   "cell_type": "code",
   "execution_count": 12,
   "id": "1611a443-b2b4-4273-9267-fbdc804cfb8f",
   "metadata": {},
   "outputs": [
    {
     "data": {
      "text/html": [
       "<div>\n",
       "<style scoped>\n",
       "    .dataframe tbody tr th:only-of-type {\n",
       "        vertical-align: middle;\n",
       "    }\n",
       "\n",
       "    .dataframe tbody tr th {\n",
       "        vertical-align: top;\n",
       "    }\n",
       "\n",
       "    .dataframe thead th {\n",
       "        text-align: right;\n",
       "    }\n",
       "</style>\n",
       "<table border=\"1\" class=\"dataframe\">\n",
       "  <thead>\n",
       "    <tr style=\"text-align: right;\">\n",
       "      <th></th>\n",
       "      <th>cat1</th>\n",
       "      <th>cat2</th>\n",
       "      <th>cat3</th>\n",
       "      <th>brand</th>\n",
       "      <th>sku_size</th>\n",
       "      <th>product_id</th>\n",
       "    </tr>\n",
       "  </thead>\n",
       "  <tbody>\n",
       "    <tr>\n",
       "      <th>673</th>\n",
       "      <td>REF</td>\n",
       "      <td>TE</td>\n",
       "      <td>Frutas</td>\n",
       "      <td>TWININGS</td>\n",
       "      <td>20</td>\n",
       "      <td>21271</td>\n",
       "    </tr>\n",
       "    <tr>\n",
       "      <th>674</th>\n",
       "      <td>REF</td>\n",
       "      <td>TE</td>\n",
       "      <td>Hierbas</td>\n",
       "      <td>TWININGS</td>\n",
       "      <td>20</td>\n",
       "      <td>21218</td>\n",
       "    </tr>\n",
       "    <tr>\n",
       "      <th>675</th>\n",
       "      <td>REF</td>\n",
       "      <td>TE</td>\n",
       "      <td>Especial</td>\n",
       "      <td>TWININGS</td>\n",
       "      <td>10</td>\n",
       "      <td>21257</td>\n",
       "    </tr>\n",
       "    <tr>\n",
       "      <th>676</th>\n",
       "      <td>REF</td>\n",
       "      <td>TE</td>\n",
       "      <td>Especial</td>\n",
       "      <td>TWININGS</td>\n",
       "      <td>20</td>\n",
       "      <td>21181</td>\n",
       "    </tr>\n",
       "    <tr>\n",
       "      <th>677</th>\n",
       "      <td>REF</td>\n",
       "      <td>TE</td>\n",
       "      <td>Especial</td>\n",
       "      <td>TWININGS</td>\n",
       "      <td>10</td>\n",
       "      <td>21255</td>\n",
       "    </tr>\n",
       "    <tr>\n",
       "      <th>678</th>\n",
       "      <td>REF</td>\n",
       "      <td>TE</td>\n",
       "      <td>Especial</td>\n",
       "      <td>TWININGS</td>\n",
       "      <td>20</td>\n",
       "      <td>21170</td>\n",
       "    </tr>\n",
       "    <tr>\n",
       "      <th>679</th>\n",
       "      <td>REF</td>\n",
       "      <td>TE</td>\n",
       "      <td>Hierbas</td>\n",
       "      <td>TWININGS</td>\n",
       "      <td>20</td>\n",
       "      <td>21202</td>\n",
       "    </tr>\n",
       "    <tr>\n",
       "      <th>680</th>\n",
       "      <td>REF</td>\n",
       "      <td>TE</td>\n",
       "      <td>Frutas</td>\n",
       "      <td>TWININGS</td>\n",
       "      <td>20</td>\n",
       "      <td>21264</td>\n",
       "    </tr>\n",
       "    <tr>\n",
       "      <th>681</th>\n",
       "      <td>REF</td>\n",
       "      <td>TE</td>\n",
       "      <td>Verde</td>\n",
       "      <td>TWININGS</td>\n",
       "      <td>20</td>\n",
       "      <td>21192</td>\n",
       "    </tr>\n",
       "    <tr>\n",
       "      <th>682</th>\n",
       "      <td>REF</td>\n",
       "      <td>TE</td>\n",
       "      <td>Azul</td>\n",
       "      <td>TWININGS</td>\n",
       "      <td>20</td>\n",
       "      <td>20982</td>\n",
       "    </tr>\n",
       "    <tr>\n",
       "      <th>683</th>\n",
       "      <td>REF</td>\n",
       "      <td>TE</td>\n",
       "      <td>Azul</td>\n",
       "      <td>TWININGS</td>\n",
       "      <td>10</td>\n",
       "      <td>21161</td>\n",
       "    </tr>\n",
       "    <tr>\n",
       "      <th>684</th>\n",
       "      <td>REF</td>\n",
       "      <td>TE</td>\n",
       "      <td>Verde</td>\n",
       "      <td>TWININGS</td>\n",
       "      <td>20</td>\n",
       "      <td>21222</td>\n",
       "    </tr>\n",
       "    <tr>\n",
       "      <th>685</th>\n",
       "      <td>REF</td>\n",
       "      <td>TE</td>\n",
       "      <td>Azul</td>\n",
       "      <td>TWININGS</td>\n",
       "      <td>225</td>\n",
       "      <td>21185</td>\n",
       "    </tr>\n",
       "  </tbody>\n",
       "</table>\n",
       "</div>"
      ],
      "text/plain": [
       "    cat1 cat2      cat3     brand  sku_size  product_id\n",
       "673  REF   TE    Frutas  TWININGS        20       21271\n",
       "674  REF   TE   Hierbas  TWININGS        20       21218\n",
       "675  REF   TE  Especial  TWININGS        10       21257\n",
       "676  REF   TE  Especial  TWININGS        20       21181\n",
       "677  REF   TE  Especial  TWININGS        10       21255\n",
       "678  REF   TE  Especial  TWININGS        20       21170\n",
       "679  REF   TE   Hierbas  TWININGS        20       21202\n",
       "680  REF   TE    Frutas  TWININGS        20       21264\n",
       "681  REF   TE     Verde  TWININGS        20       21192\n",
       "682  REF   TE      Azul  TWININGS        20       20982\n",
       "683  REF   TE      Azul  TWININGS        10       21161\n",
       "684  REF   TE     Verde  TWININGS        20       21222\n",
       "685  REF   TE      Azul  TWININGS       225       21185"
      ]
     },
     "execution_count": 12,
     "metadata": {},
     "output_type": "execute_result"
    }
   ],
   "source": [
    "df_product[df_product.cat1==\"REF\"]"
   ]
  },
  {
   "cell_type": "markdown",
   "id": "82ad28e0-5ea7-4a20-8edf-767126a998c2",
   "metadata": {},
   "source": [
    "--> los reasignaremos a FOODS"
   ]
  },
  {
   "cell_type": "code",
   "execution_count": 13,
   "id": "c36c6afd-f337-486a-966e-0e8223a6500b",
   "metadata": {},
   "outputs": [],
   "source": [
    "df_product.cat1 = np.where(df_product.cat1==\"REF\",\"FOODS\",df_product.cat1)"
   ]
  },
  {
   "cell_type": "code",
   "execution_count": 14,
   "id": "eee48c94-6936-4fa6-8ac8-56b91bb0e0ac",
   "metadata": {},
   "outputs": [
    {
     "data": {
      "text/plain": [
       "PC       721\n",
       "HC       292\n",
       "FOODS    238\n",
       "Name: cat1, dtype: int64"
      ]
     },
     "execution_count": 14,
     "metadata": {},
     "output_type": "execute_result"
    }
   ],
   "source": [
    "df_product.cat1.value_counts(dropna=False)"
   ]
  },
  {
   "cell_type": "code",
   "execution_count": 15,
   "id": "e2a7f713-6842-48d7-a338-22f7d871a02f",
   "metadata": {},
   "outputs": [
    {
     "data": {
      "text/plain": [
       "CABELLO                352\n",
       "DEOS                   168\n",
       "SOPAS Y CALDOS         133\n",
       "PIEL2                  114\n",
       "ROPA LAVADO             99\n",
       "HOGAR                   77\n",
       "PIEL1                   73\n",
       "ADEREZOS                69\n",
       "VAJILLA                 47\n",
       "PROFESIONAL             34\n",
       "ROPA ACONDICIONADOR     33\n",
       "OTROS                   23\n",
       "DENTAL                  14\n",
       "TE                      13\n",
       "ROPA MANCHAS             2\n",
       "Name: cat2, dtype: int64"
      ]
     },
     "execution_count": 15,
     "metadata": {},
     "output_type": "execute_result"
    }
   ],
   "source": [
    "df_product.cat2.value_counts(dropna=False)"
   ]
  },
  {
   "cell_type": "code",
   "execution_count": 16,
   "id": "f826a34c-4384-447c-a3cb-dbcc7ca88b98",
   "metadata": {},
   "outputs": [
    {
     "data": {
      "text/plain": [
       "SHAMPOO           146\n",
       "ACONDICIONADOR    116\n",
       "Aero              114\n",
       "Liquido            63\n",
       "Polvo              48\n",
       "                 ... \n",
       "Pure de Tomate      1\n",
       "Jabon Hotel         1\n",
       "Jabon Barba         1\n",
       "Chimichurri         1\n",
       "Aji Picante         1\n",
       "Name: cat3, Length: 99, dtype: int64"
      ]
     },
     "execution_count": 16,
     "metadata": {},
     "output_type": "execute_result"
    }
   ],
   "source": [
    "df_product.cat3.value_counts(dropna=False)"
   ]
  },
  {
   "cell_type": "code",
   "execution_count": 17,
   "id": "a36d8d91-7759-4a49-b5cc-98116ff8b19f",
   "metadata": {},
   "outputs": [],
   "source": [
    "df_product[\"producto_estrella\"]=np.where(df_product.product_id.isin(star_products),1,0)"
   ]
  },
  {
   "cell_type": "code",
   "execution_count": 18,
   "id": "8f6a3945-977a-419d-9104-24451545a11e",
   "metadata": {},
   "outputs": [],
   "source": [
    "df_product.to_csv(\"maestro_productos_depurado.csv\", index=False)"
   ]
  }
 ],
 "metadata": {
  "kernelspec": {
   "display_name": "Python 3 (ipykernel)",
   "language": "python",
   "name": "python3"
  },
  "language_info": {
   "codemirror_mode": {
    "name": "ipython",
    "version": 3
   },
   "file_extension": ".py",
   "mimetype": "text/x-python",
   "name": "python",
   "nbconvert_exporter": "python",
   "pygments_lexer": "ipython3",
   "version": "3.10.6"
  }
 },
 "nbformat": 4,
 "nbformat_minor": 5
}
