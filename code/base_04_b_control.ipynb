{
 "cells": [
  {
   "cell_type": "code",
   "execution_count": 1,
   "id": "dcd691c2-627f-4f38-982c-729028537638",
   "metadata": {},
   "outputs": [],
   "source": [
    "import pandas as pd\n",
    "import gzip\n",
    "import os\n",
    "import numpy as np"
   ]
  },
  {
   "cell_type": "code",
   "execution_count": 2,
   "id": "7f81f21f-e68c-4210-8f39-add8f37b5dcf",
   "metadata": {},
   "outputs": [],
   "source": [
    "####################################################\n",
    "############# Setear segun cada maquina ############\n",
    "#os.chdir(\"C:/Users/herna/labo3_empresa3_repo/\")\n",
    "#os.chdir(\"C:/diego_tools/labo3/\")\n",
    "os.chdir(\"/home/dcastro_contacto/buckets/b1/\")\n",
    "####################################################"
   ]
  },
  {
   "cell_type": "code",
   "execution_count": 3,
   "id": "bca673c8-dd46-47eb-8412-9c8d601dc072",
   "metadata": {},
   "outputs": [],
   "source": [
    "arch_sellout_orig = \"datasets/tb_sellout_02.txt.gz\"\n",
    "arch_sellout_base_completo = \"datasets/emp3_sellout_base.csv\"\n",
    "arch_sellout_producto = \"datasets/emp3_sellout_producto_base.csv\""
   ]
  },
  {
   "cell_type": "code",
   "execution_count": 4,
   "id": "be4399bf-7c30-40b8-9fed-92aeb410b327",
   "metadata": {},
   "outputs": [],
   "source": [
    "# Abrir el archivo .gz y cargarlo en un DataFrame\n",
    "with gzip.open(arch_sellout_orig, 'rt') as archivo:\n",
    "    # Leer el archivo línea por línea\n",
    "    df_sellout_orig = pd.read_csv(archivo,sep=\"\\t\")"
   ]
  },
  {
   "cell_type": "code",
   "execution_count": 5,
   "id": "aa68395c-fde0-46ca-bebf-373bde581136",
   "metadata": {},
   "outputs": [
    {
     "name": "stdout",
     "output_type": "stream",
     "text": [
      "<class 'pandas.core.frame.DataFrame'>\n",
      "RangeIndex: 2945818 entries, 0 to 2945817\n",
      "Data columns (total 7 columns):\n",
      " #   Column                 Dtype  \n",
      "---  ------                 -----  \n",
      " 0   periodo                int64  \n",
      " 1   customer_id            int64  \n",
      " 2   product_id             int64  \n",
      " 3   plan_precios_cuidados  int64  \n",
      " 4   cust_request_qty       int64  \n",
      " 5   cust_request_tn        float64\n",
      " 6   tn                     float64\n",
      "dtypes: float64(2), int64(5)\n",
      "memory usage: 157.3 MB\n"
     ]
    }
   ],
   "source": [
    "df_sellout_orig.info()"
   ]
  },
  {
   "cell_type": "code",
   "execution_count": 6,
   "id": "829c7708-1117-42b1-8ea3-00a4f60b9278",
   "metadata": {},
   "outputs": [
    {
     "name": "stdout",
     "output_type": "stream",
     "text": [
      "<class 'pandas.core.frame.DataFrame'>\n",
      "RangeIndex: 19639107 entries, 0 to 19639106\n",
      "Data columns (total 26 columns):\n",
      " #   Column                     Dtype  \n",
      "---  ------                     -----  \n",
      " 0   product_id                 int64  \n",
      " 1   periodo                    int64  \n",
      " 2   customer_id                int64  \n",
      " 3   cero_ventas                int64  \n",
      " 4   plan_precios_cuidados      float64\n",
      " 5   cust_request_qty           float64\n",
      " 6   cust_request_tn            float64\n",
      " 7   tn                         float64\n",
      " 8   periodo_fecha              object \n",
      " 9   mes                        int64  \n",
      " 10  meses_historia_prod        int64  \n",
      " 11  meses_historia_cliente     int64  \n",
      " 12  cliente_estrella           int64  \n",
      " 13  prod_cust                  object \n",
      " 14  cat1                       object \n",
      " 15  cat2                       object \n",
      " 16  cat3                       object \n",
      " 17  brand                      object \n",
      " 18  sku_size                   float64\n",
      " 19  producto_estrella          float64\n",
      " 20  temp_media                 float64\n",
      " 21  temp_max_media             float64\n",
      " 22  temp_min_media             float64\n",
      " 23  IPC                        float64\n",
      " 24  promedio_mens_dolar_venta  float64\n",
      " 25  catastrofe                 bool   \n",
      "dtypes: bool(1), float64(11), int64(8), object(6)\n",
      "memory usage: 3.7+ GB\n"
     ]
    }
   ],
   "source": [
    "df_sellout_base_completo = pd.read_csv(arch_sellout_base_completo)\n",
    "df_sellout_base_completo.info()"
   ]
  },
  {
   "cell_type": "code",
   "execution_count": 7,
   "id": "10e4882c-3eb8-4a46-b27a-4162c75400f5",
   "metadata": {},
   "outputs": [
    {
     "name": "stdout",
     "output_type": "stream",
     "text": [
      "<class 'pandas.core.frame.DataFrame'>\n",
      "RangeIndex: 35888 entries, 0 to 35887\n",
      "Data columns (total 19 columns):\n",
      " #   Column                     Non-Null Count  Dtype  \n",
      "---  ------                     --------------  -----  \n",
      " 0   product_id                 35888 non-null  int64  \n",
      " 1   periodo                    35888 non-null  int64  \n",
      " 2   product_id_tn              35888 non-null  float64\n",
      " 3   cero_ventas                35888 non-null  int64  \n",
      " 4   cust_request_qty           35888 non-null  float64\n",
      " 5   cust_request_tn            35888 non-null  float64\n",
      " 6   mes                        35888 non-null  int64  \n",
      " 7   producto_estrella          35888 non-null  float64\n",
      " 8   meses_historia_prod        35888 non-null  int64  \n",
      " 9   cat1                       35888 non-null  object \n",
      " 10  cat2                       35888 non-null  object \n",
      " 11  cat3                       35888 non-null  object \n",
      " 12  sku_size                   35888 non-null  float64\n",
      " 13  temp_media                 35888 non-null  float64\n",
      " 14  temp_min_media             35888 non-null  float64\n",
      " 15  temp_max_media             35888 non-null  float64\n",
      " 16  IPC                        35888 non-null  float64\n",
      " 17  promedio_mens_dolar_venta  35888 non-null  float64\n",
      " 18  catastrofe                 35888 non-null  bool   \n",
      "dtypes: bool(1), float64(10), int64(5), object(3)\n",
      "memory usage: 5.0+ MB\n"
     ]
    }
   ],
   "source": [
    "df_sellout_producto = pd.read_csv(arch_sellout_producto)\n",
    "df_sellout_producto.info()"
   ]
  },
  {
   "cell_type": "code",
   "execution_count": 8,
   "id": "9c50b84f-0832-4d1d-9579-7ea4106275e9",
   "metadata": {},
   "outputs": [
    {
     "name": "stdout",
     "output_type": "stream",
     "text": [
      "1324988.5884099994\n",
      "1324988.5884100045\n",
      "1324988.5884099999\n"
     ]
    }
   ],
   "source": [
    "#Control toneladas total\n",
    "print(df_sellout_orig.tn.sum())\n",
    "print(df_sellout_base_completo.tn.sum())\n",
    "print(df_sellout_producto.product_id_tn.sum())"
   ]
  },
  {
   "cell_type": "code",
   "execution_count": 9,
   "id": "01babe28-b57b-48ef-91b2-1f983af8af37",
   "metadata": {},
   "outputs": [
    {
     "name": "stdout",
     "output_type": "stream",
     "text": [
      "                       tn\n",
      "cat1                     \n",
      "FOODS        264407.05584\n",
      "HC           803839.98292\n",
      "PC           256381.34097\n",
      "desconocida     360.20868\n",
      "             product_id_tn\n",
      "cat1                      \n",
      "FOODS         264407.05584\n",
      "HC            803839.98292\n",
      "PC            256381.34097\n",
      "desconocida      360.20868\n"
     ]
    }
   ],
   "source": [
    "#Control toneladas por cat1\n",
    "print(df_sellout_base_completo.groupby(\"cat1\").agg({\"tn\":\"sum\"}))\n",
    "print(df_sellout_producto.groupby(\"cat1\").agg({\"product_id_tn\":\"sum\"}))"
   ]
  },
  {
   "cell_type": "code",
   "execution_count": 10,
   "id": "fd97e676-a75e-4591-971d-4ed7a9202cd7",
   "metadata": {},
   "outputs": [
    {
     "name": "stdout",
     "output_type": "stream",
     "text": [
      "[201701 201702 201703 201704 201705 201706 201707 201708 201709 201710\n",
      " 201711 201712 201801 201802 201803 201804 201805 201806 201807 201808\n",
      " 201809 201810 201811 201812 201901 201902 201903 201904 201905 201906\n",
      " 201907 201908 201909 201910 201911 201912]\n",
      "[201701 201702 201703 201704 201705 201706 201707 201708 201709 201710\n",
      " 201711 201712 201801 201802 201803 201804 201805 201806 201807 201808\n",
      " 201809 201810 201811 201812 201901 201902 201903 201904 201905 201906\n",
      " 201907 201908 201909 201910 201911 201912]\n",
      "[201701 201702 201703 201704 201705 201706 201707 201708 201709 201710\n",
      " 201711 201712 201801 201802 201803 201804 201805 201806 201807 201808\n",
      " 201809 201810 201811 201812 201901 201902 201903 201904 201905 201906\n",
      " 201907 201908 201909 201910 201911 201912]\n"
     ]
    }
   ],
   "source": [
    "#Control Periodos\n",
    "print(df_sellout_orig.periodo.unique())\n",
    "print(df_sellout_base_completo.periodo.unique())\n",
    "print(df_sellout_producto.periodo.unique())"
   ]
  },
  {
   "cell_type": "code",
   "execution_count": 11,
   "id": "888c2ada-e036-4ced-bdab-a5fbf82aefb7",
   "metadata": {},
   "outputs": [
    {
     "name": "stdout",
     "output_type": "stream",
     "text": [
      "1233\n",
      "1233\n",
      "1233\n"
     ]
    }
   ],
   "source": [
    "#Control Cantidad Productos\n",
    "print(len(df_sellout_orig.product_id.unique()))\n",
    "print(len(df_sellout_base_completo.product_id.unique()))\n",
    "print(len(df_sellout_producto.product_id.unique()))"
   ]
  },
  {
   "cell_type": "code",
   "execution_count": 12,
   "id": "a9d07754-e0bc-4a50-b9b0-4677a74314e5",
   "metadata": {},
   "outputs": [
    {
     "data": {
      "text/plain": [
       "2840151    20342\n",
       "2256662    20135\n",
       "Name: product_id, dtype: int64"
      ]
     },
     "execution_count": 12,
     "metadata": {},
     "output_type": "execute_result"
    }
   ],
   "source": [
    "#Control Meses en 0\n",
    "df_sellout_orig.product_id.sample(2)"
   ]
  },
  {
   "cell_type": "code",
   "execution_count": 13,
   "id": "ce56aa67-467e-4624-97ba-a54ffc4fee6d",
   "metadata": {},
   "outputs": [
    {
     "name": "stdout",
     "output_type": "stream",
     "text": [
      "Prod Id= 20575 - Periodo Min: 201904\n",
      "Prod Id= 20575 - Periodo Max: 201912\n",
      "periodo\n",
      "201904    12.65073\n",
      "201905    19.25562\n",
      "201906    18.33422\n",
      "201907    14.45743\n",
      "201908    13.75438\n",
      "201909    18.76081\n",
      "201910    21.90014\n",
      "201911    14.11230\n",
      "201912     9.11891\n",
      "Name: tn, dtype: float64\n",
      "periodo\n",
      "201904    12.65073\n",
      "201905    19.25562\n",
      "201906    18.33422\n",
      "201907    14.45743\n",
      "201908    13.75438\n",
      "201909    18.76081\n",
      "201910    21.90014\n",
      "201911    14.11230\n",
      "201912     9.11891\n",
      "Name: tn, dtype: float64\n",
      "periodo\n",
      "201904    12.65073\n",
      "201905    19.25562\n",
      "201906    18.33422\n",
      "201907    14.45743\n",
      "201908    13.75438\n",
      "201909    18.76081\n",
      "201910    21.90014\n",
      "201911    14.11230\n",
      "201912     9.11891\n",
      "Name: product_id_tn, dtype: float64\n"
     ]
    }
   ],
   "source": [
    "# Producto que no se rellena historia atras de su primer aparicion\n",
    "product_id_var=20575\n",
    "print(\"Prod Id=\",product_id_var,\"- Periodo Min:\",df_sellout_orig[df_sellout_orig.product_id==product_id_var].periodo.min())\n",
    "print(\"Prod Id=\",product_id_var,\"- Periodo Max:\",df_sellout_orig[df_sellout_orig.product_id==product_id_var].periodo.max())\n",
    "print(df_sellout_orig[df_sellout_orig.product_id==product_id_var].groupby(\"periodo\")[\"tn\"].sum())\n",
    "print(df_sellout_base_completo[df_sellout_base_completo.product_id==product_id_var].groupby(\"periodo\")[\"tn\"].sum())\n",
    "print(df_sellout_producto[df_sellout_producto.product_id==product_id_var].groupby(\"periodo\")[\"product_id_tn\"].sum())"
   ]
  },
  {
   "cell_type": "code",
   "execution_count": 14,
   "id": "ff56473d-8796-4ef6-9174-f38368020db7",
   "metadata": {
    "scrolled": true
   },
   "outputs": [
    {
     "name": "stdout",
     "output_type": "stream",
     "text": [
      "Prod Id= 20607 - Periodo Min: 201704\n",
      "Prod Id= 20607 - Periodo Max: 201905\n",
      "periodo\n",
      "201704    26.76757\n",
      "201705    23.54654\n",
      "201706    20.41359\n",
      "201707    15.65478\n",
      "201708    12.18991\n",
      "201709     7.71566\n",
      "201710     5.09412\n",
      "201711     7.69193\n",
      "201712     7.64108\n",
      "201801     6.32027\n",
      "201802     7.42097\n",
      "201803     7.89850\n",
      "201804     6.96037\n",
      "201805     6.37776\n",
      "201806     8.73512\n",
      "201807     8.21352\n",
      "201808     6.32697\n",
      "201809     6.60812\n",
      "201810    10.65212\n",
      "201811     2.27270\n",
      "201812     0.01694\n",
      "201902     6.52001\n",
      "201903    15.63786\n",
      "201904     7.95275\n",
      "201905     0.25402\n",
      "Name: tn, dtype: float64\n",
      "periodo\n",
      "201704    26.76757\n",
      "201705    23.54654\n",
      "201706    20.41359\n",
      "201707    15.65478\n",
      "201708    12.18991\n",
      "201709     7.71566\n",
      "201710     5.09412\n",
      "201711     7.69193\n",
      "201712     7.64108\n",
      "201801     6.32027\n",
      "201802     7.42097\n",
      "201803     7.89850\n",
      "201804     6.96037\n",
      "201805     6.37776\n",
      "201806     8.73512\n",
      "201807     8.21352\n",
      "201808     6.32697\n",
      "201809     6.60812\n",
      "201810    10.65212\n",
      "201811     2.27270\n",
      "201812     0.01694\n",
      "201901     0.00000\n",
      "201902     6.52001\n",
      "201903    15.63786\n",
      "201904     7.95275\n",
      "201905     0.25402\n",
      "201906     0.00000\n",
      "201907     0.00000\n",
      "201908     0.00000\n",
      "201909     0.00000\n",
      "201910     0.00000\n",
      "201911     0.00000\n",
      "201912     0.00000\n",
      "Name: tn, dtype: float64\n",
      "periodo\n",
      "201704    26.76757\n",
      "201705    23.54654\n",
      "201706    20.41359\n",
      "201707    15.65478\n",
      "201708    12.18991\n",
      "201709     7.71566\n",
      "201710     5.09412\n",
      "201711     7.69193\n",
      "201712     7.64108\n",
      "201801     6.32027\n",
      "201802     7.42097\n",
      "201803     7.89850\n",
      "201804     6.96037\n",
      "201805     6.37776\n",
      "201806     8.73512\n",
      "201807     8.21352\n",
      "201808     6.32697\n",
      "201809     6.60812\n",
      "201810    10.65212\n",
      "201811     2.27270\n",
      "201812     0.01694\n",
      "201901     0.00000\n",
      "201902     6.52001\n",
      "201903    15.63786\n",
      "201904     7.95275\n",
      "201905     0.25402\n",
      "201906     0.00000\n",
      "201907     0.00000\n",
      "201908     0.00000\n",
      "201909     0.00000\n",
      "201910     0.00000\n",
      "201911     0.00000\n",
      "201912     0.00000\n",
      "Name: product_id_tn, dtype: float64\n"
     ]
    }
   ],
   "source": [
    "# Producto que no se rellena historia atras de su primer aparicion y se completa desde su ultima hacia adelante\n",
    "product_id_var=20607\n",
    "print(\"Prod Id=\",product_id_var,\"- Periodo Min:\",df_sellout_orig[df_sellout_orig.product_id==product_id_var].periodo.min())\n",
    "print(\"Prod Id=\",product_id_var,\"- Periodo Max:\",df_sellout_orig[df_sellout_orig.product_id==product_id_var].periodo.max())\n",
    "print(df_sellout_orig[df_sellout_orig.product_id==product_id_var].groupby(\"periodo\")[\"tn\"].sum())\n",
    "print(df_sellout_base_completo[df_sellout_base_completo.product_id==product_id_var].groupby(\"periodo\")[\"tn\"].sum())\n",
    "print(df_sellout_producto[df_sellout_producto.product_id==product_id_var].groupby(\"periodo\")[\"product_id_tn\"].sum())"
   ]
  },
  {
   "cell_type": "markdown",
   "id": "920c3a7c-02a8-4c3d-93c1-6d26493dfafb",
   "metadata": {},
   "source": [
    "**--> Relleno 201901 y desde 201905 para adelante**"
   ]
  },
  {
   "cell_type": "code",
   "execution_count": 15,
   "id": "247a31a8-34a4-4bdf-8378-e87e948fd9af",
   "metadata": {},
   "outputs": [
    {
     "name": "stdout",
     "output_type": "stream",
     "text": [
      "201809\n",
      "201701\n",
      "periodo\n",
      "201902    0.04179\n",
      "201903    0.04179\n",
      "201904    0.04179\n",
      "201905    0.01944\n",
      "201910    0.01944\n",
      "201911    0.00486\n",
      "Name: tn, dtype: float64\n",
      "periodo\n",
      "201809    0.00000\n",
      "201810    0.00000\n",
      "201811    0.00000\n",
      "201812    0.00000\n",
      "201901    0.00000\n",
      "201902    0.04179\n",
      "201903    0.04179\n",
      "201904    0.04179\n",
      "201905    0.01944\n",
      "201906    0.00000\n",
      "201907    0.00000\n",
      "201908    0.00000\n",
      "201909    0.00000\n",
      "201910    0.01944\n",
      "201911    0.00486\n",
      "201912    0.00000\n",
      "Name: tn, dtype: float64\n"
     ]
    }
   ],
   "source": [
    "# Control de que se rellene a partir de primera aparicion de producto Y de cliente\n",
    "product_id_var=20569\n",
    "customer_id_var=10099\n",
    "\n",
    "print(df_sellout_orig[df_sellout_orig.product_id==product_id_var].periodo.min())\n",
    "print(df_sellout_orig[df_sellout_orig.customer_id==customer_id_var].periodo.min())\n",
    "\n",
    "print(df_sellout_orig[(df_sellout_orig.product_id==product_id_var)&(df_sellout_orig.customer_id==customer_id_var)].groupby(\"periodo\")[\"tn\"].sum())\n",
    "print(df_sellout_base_completo[(df_sellout_base_completo.product_id==product_id_var)&(df_sellout_base_completo.customer_id==customer_id_var)].groupby(\"periodo\")[\"tn\"].sum())"
   ]
  }
 ],
 "metadata": {
  "kernelspec": {
   "display_name": "Python 3 (ipykernel)",
   "language": "python",
   "name": "python3"
  },
  "language_info": {
   "codemirror_mode": {
    "name": "ipython",
    "version": 3
   },
   "file_extension": ".py",
   "mimetype": "text/x-python",
   "name": "python",
   "nbconvert_exporter": "python",
   "pygments_lexer": "ipython3",
   "version": "3.10.12"
  }
 },
 "nbformat": 4,
 "nbformat_minor": 5
}
