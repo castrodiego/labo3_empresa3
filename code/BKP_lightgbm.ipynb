{
 "cells": [
  {
   "cell_type": "code",
   "execution_count": 1,
   "id": "946a34f4-5c14-46cf-a39d-9794031463bb",
   "metadata": {},
   "outputs": [],
   "source": [
    "import os\n",
    "\n",
    "from sklearn.model_selection import ParameterGrid\n",
    "from sklearn.model_selection import train_test_split, KFold\n",
    "from sklearn import datasets\n",
    "from sklearn.model_selection import KFold, cross_val_score, StratifiedKFold\n",
    "from sklearn.metrics import make_scorer\n",
    "from sklearn.model_selection import RandomizedSearchCV,PredefinedSplit\n",
    "from sklearn.metrics import classification_report, confusion_matrix \n",
    "import lightgbm\n",
    "from lightgbm import LGBMRegressor\n",
    "import numpy as np\n",
    "from skopt import BayesSearchCV, space, plots\n",
    "from skopt.callbacks import DeadlineStopper, DeltaYStopper\n",
    "from time import time\n",
    "import pprint\n",
    "\n",
    "import pandas as pd\n",
    "\n",
    "import warnings\n",
    "\n",
    "# Ignore all warnings\n",
    "warnings.filterwarnings(\"ignore\")"
   ]
  },
  {
   "cell_type": "code",
   "execution_count": 2,
   "id": "11ac74ea-68b7-46f2-83ba-a06c00f1e25c",
   "metadata": {},
   "outputs": [],
   "source": [
    "####################################################\n",
    "############# Setear segun cada maquina ############\n",
    "#os.chdir(\"C:/Users/herna/labo3_empresa3_repo/datasets\")\n",
    "os.chdir(\"C:/diego_tools/labo3/dataset\")\n",
    "####################################################"
   ]
  },
  {
   "cell_type": "code",
   "execution_count": 3,
   "id": "547b30c6-7d6b-4c08-872b-6a88a987b237",
   "metadata": {},
   "outputs": [],
   "source": [
    "def error_rate(y, y_pred):\n",
    "    dif_abs = sum(abs(y - y_pred))\n",
    "    suma_real = sum(y)\n",
    "    print(\"Y REAL:\" ,suma_real)\n",
    "    return round(100*dif_abs/suma_real,2)"
   ]
  },
  {
   "cell_type": "code",
   "execution_count": 4,
   "id": "70cc254b-9e6a-45d0-af03-9d04869a1279",
   "metadata": {},
   "outputs": [],
   "source": [
    "def report_perf(optimizer, X, y, title=\"model\", callbacks=None):\n",
    "    \"\"\"\n",
    "    A wrapper for measuring time and performances of different optimizers\n",
    "    \n",
    "    optimizer = a sklearn or a skopt optimizer\n",
    "    X = the training set \n",
    "    y = our target\n",
    "    title = a string label for the experiment\n",
    "    \"\"\"\n",
    "    start = time()\n",
    "    \n",
    "    if callbacks is not None:\n",
    "        optimizer.fit(X, y, callbacks=callbacks)\n",
    "    else:\n",
    "        optimizer.fit(X, y)\n",
    "        \n",
    "    d=pd.DataFrame(optimizer.cv_results_)\n",
    "    best_score = optimizer.best_score_\n",
    "    best_score_std = d.iloc[optimizer.best_index_].std_test_score\n",
    "    best_params = optimizer.best_params_\n",
    "    \n",
    "    print((title + \" took %.2f seconds,  candidates checked: %d, best CV score: %.3f \"\n",
    "           + u\"\\u00B1\"+\" %.3f\") % (time() - start, \n",
    "                                   len(optimizer.cv_results_['params']),\n",
    "                                   best_score,\n",
    "                                   best_score_std))    \n",
    "    print('Best parameters:')\n",
    "    pprint.pprint(best_params)\n",
    "    print()\n",
    "    return best_params"
   ]
  },
  {
   "cell_type": "code",
   "execution_count": 5,
   "id": "7b7f84b6-f672-43e0-9d37-e5eec561cf77",
   "metadata": {},
   "outputs": [],
   "source": [
    "df_sellout = pd.read_csv(\"emp3_sellout_base_period_product_FE_sin_norm.csv\")"
   ]
  },
  {
   "cell_type": "code",
   "execution_count": 6,
   "id": "0fc9a941-b476-4d7e-ab93-a6b67ba78b77",
   "metadata": {},
   "outputs": [
    {
     "data": {
      "text/html": [
       "<div>\n",
       "<style scoped>\n",
       "    .dataframe tbody tr th:only-of-type {\n",
       "        vertical-align: middle;\n",
       "    }\n",
       "\n",
       "    .dataframe tbody tr th {\n",
       "        vertical-align: top;\n",
       "    }\n",
       "\n",
       "    .dataframe thead th {\n",
       "        text-align: right;\n",
       "    }\n",
       "</style>\n",
       "<table border=\"1\" class=\"dataframe\">\n",
       "  <thead>\n",
       "    <tr style=\"text-align: right;\">\n",
       "      <th></th>\n",
       "      <th>periodo</th>\n",
       "      <th>product_id</th>\n",
       "      <th>tn</th>\n",
       "      <th>cust_request_qty</th>\n",
       "      <th>cust_request_tn</th>\n",
       "      <th>plan_precios_cuidados</th>\n",
       "      <th>cat1</th>\n",
       "      <th>cat2</th>\n",
       "      <th>cat3</th>\n",
       "      <th>sku_size</th>\n",
       "      <th>...</th>\n",
       "      <th>lag_mean_tn_q2</th>\n",
       "      <th>lag_sum_tn_q3</th>\n",
       "      <th>lag_mean_tn_q3</th>\n",
       "      <th>lag_sum_tn_q4</th>\n",
       "      <th>lag_mean_tn_q4</th>\n",
       "      <th>lag_trend_q1</th>\n",
       "      <th>lag_trend_q2</th>\n",
       "      <th>lag_trend_q3</th>\n",
       "      <th>lag_trend_q4</th>\n",
       "      <th>tn_mas_2</th>\n",
       "    </tr>\n",
       "  </thead>\n",
       "  <tbody>\n",
       "    <tr>\n",
       "      <th>0</th>\n",
       "      <td>2019-04-01</td>\n",
       "      <td>20001</td>\n",
       "      <td>1647.63848</td>\n",
       "      <td>478</td>\n",
       "      <td>1757.73271</td>\n",
       "      <td>0</td>\n",
       "      <td>HC</td>\n",
       "      <td>ROPA LAVADO</td>\n",
       "      <td>Liquido</td>\n",
       "      <td>3000.0</td>\n",
       "      <td>...</td>\n",
       "      <td>1864.966707</td>\n",
       "      <td>4710.04632</td>\n",
       "      <td>1570.015440</td>\n",
       "      <td>3695.97419</td>\n",
       "      <td>1231.991397</td>\n",
       "      <td>-97.441510</td>\n",
       "      <td>404.255815</td>\n",
       "      <td>15.867770</td>\n",
       "      <td>50.246465</td>\n",
       "      <td>1109.93769</td>\n",
       "    </tr>\n",
       "    <tr>\n",
       "      <th>1</th>\n",
       "      <td>2019-04-01</td>\n",
       "      <td>20002</td>\n",
       "      <td>1287.62346</td>\n",
       "      <td>454</td>\n",
       "      <td>1360.44402</td>\n",
       "      <td>0</td>\n",
       "      <td>HC</td>\n",
       "      <td>ROPA LAVADO</td>\n",
       "      <td>Liquido</td>\n",
       "      <td>3000.0</td>\n",
       "      <td>...</td>\n",
       "      <td>1384.918527</td>\n",
       "      <td>3093.52244</td>\n",
       "      <td>1031.174147</td>\n",
       "      <td>3136.42970</td>\n",
       "      <td>1045.476567</td>\n",
       "      <td>91.580995</td>\n",
       "      <td>184.517870</td>\n",
       "      <td>11.583320</td>\n",
       "      <td>-17.309555</td>\n",
       "      <td>928.36431</td>\n",
       "    </tr>\n",
       "    <tr>\n",
       "      <th>2</th>\n",
       "      <td>2019-04-01</td>\n",
       "      <td>20003</td>\n",
       "      <td>565.33774</td>\n",
       "      <td>282</td>\n",
       "      <td>569.69482</td>\n",
       "      <td>0</td>\n",
       "      <td>FOODS</td>\n",
       "      <td>ADEREZOS</td>\n",
       "      <td>Mayonesa</td>\n",
       "      <td>475.0</td>\n",
       "      <td>...</td>\n",
       "      <td>1096.696177</td>\n",
       "      <td>2524.53935</td>\n",
       "      <td>841.513117</td>\n",
       "      <td>2210.57046</td>\n",
       "      <td>736.856820</td>\n",
       "      <td>163.364545</td>\n",
       "      <td>271.756710</td>\n",
       "      <td>-128.057280</td>\n",
       "      <td>52.372575</td>\n",
       "      <td>662.38654</td>\n",
       "    </tr>\n",
       "    <tr>\n",
       "      <th>3</th>\n",
       "      <td>2019-04-01</td>\n",
       "      <td>20004</td>\n",
       "      <td>466.70901</td>\n",
       "      <td>346</td>\n",
       "      <td>468.21007</td>\n",
       "      <td>0</td>\n",
       "      <td>FOODS</td>\n",
       "      <td>ADEREZOS</td>\n",
       "      <td>Mayonesa</td>\n",
       "      <td>240.0</td>\n",
       "      <td>...</td>\n",
       "      <td>732.527440</td>\n",
       "      <td>2538.70653</td>\n",
       "      <td>846.235510</td>\n",
       "      <td>1700.72775</td>\n",
       "      <td>566.909250</td>\n",
       "      <td>-54.216855</td>\n",
       "      <td>112.053045</td>\n",
       "      <td>-147.720160</td>\n",
       "      <td>81.833810</td>\n",
       "      <td>667.19411</td>\n",
       "    </tr>\n",
       "    <tr>\n",
       "      <th>4</th>\n",
       "      <td>2019-04-01</td>\n",
       "      <td>20005</td>\n",
       "      <td>624.99880</td>\n",
       "      <td>327</td>\n",
       "      <td>629.64621</td>\n",
       "      <td>0</td>\n",
       "      <td>FOODS</td>\n",
       "      <td>ADEREZOS</td>\n",
       "      <td>Mayonesa</td>\n",
       "      <td>120.0</td>\n",
       "      <td>...</td>\n",
       "      <td>578.546193</td>\n",
       "      <td>2139.00521</td>\n",
       "      <td>713.001737</td>\n",
       "      <td>1681.15422</td>\n",
       "      <td>560.384740</td>\n",
       "      <td>-62.314745</td>\n",
       "      <td>260.553290</td>\n",
       "      <td>-129.717215</td>\n",
       "      <td>-25.603695</td>\n",
       "      <td>876.39696</td>\n",
       "    </tr>\n",
       "  </tbody>\n",
       "</table>\n",
       "<p>5 rows × 343 columns</p>\n",
       "</div>"
      ],
      "text/plain": [
       "      periodo  product_id          tn  cust_request_qty  cust_request_tn  \\\n",
       "0  2019-04-01       20001  1647.63848               478       1757.73271   \n",
       "1  2019-04-01       20002  1287.62346               454       1360.44402   \n",
       "2  2019-04-01       20003   565.33774               282        569.69482   \n",
       "3  2019-04-01       20004   466.70901               346        468.21007   \n",
       "4  2019-04-01       20005   624.99880               327        629.64621   \n",
       "\n",
       "   plan_precios_cuidados   cat1         cat2      cat3  sku_size  ...  \\\n",
       "0                      0     HC  ROPA LAVADO   Liquido    3000.0  ...   \n",
       "1                      0     HC  ROPA LAVADO   Liquido    3000.0  ...   \n",
       "2                      0  FOODS     ADEREZOS  Mayonesa     475.0  ...   \n",
       "3                      0  FOODS     ADEREZOS  Mayonesa     240.0  ...   \n",
       "4                      0  FOODS     ADEREZOS  Mayonesa     120.0  ...   \n",
       "\n",
       "   lag_mean_tn_q2  lag_sum_tn_q3  lag_mean_tn_q3  lag_sum_tn_q4  \\\n",
       "0     1864.966707     4710.04632     1570.015440     3695.97419   \n",
       "1     1384.918527     3093.52244     1031.174147     3136.42970   \n",
       "2     1096.696177     2524.53935      841.513117     2210.57046   \n",
       "3      732.527440     2538.70653      846.235510     1700.72775   \n",
       "4      578.546193     2139.00521      713.001737     1681.15422   \n",
       "\n",
       "   lag_mean_tn_q4  lag_trend_q1  lag_trend_q2  lag_trend_q3  lag_trend_q4  \\\n",
       "0     1231.991397    -97.441510    404.255815     15.867770     50.246465   \n",
       "1     1045.476567     91.580995    184.517870     11.583320    -17.309555   \n",
       "2      736.856820    163.364545    271.756710   -128.057280     52.372575   \n",
       "3      566.909250    -54.216855    112.053045   -147.720160     81.833810   \n",
       "4      560.384740    -62.314745    260.553290   -129.717215    -25.603695   \n",
       "\n",
       "     tn_mas_2  \n",
       "0  1109.93769  \n",
       "1   928.36431  \n",
       "2   662.38654  \n",
       "3   667.19411  \n",
       "4   876.39696  \n",
       "\n",
       "[5 rows x 343 columns]"
      ]
     },
     "execution_count": 6,
     "metadata": {},
     "output_type": "execute_result"
    }
   ],
   "source": [
    "df_sellout.head()"
   ]
  },
  {
   "cell_type": "code",
   "execution_count": 7,
   "id": "68fa7dab-16ee-4523-abc2-8176aa618406",
   "metadata": {},
   "outputs": [
    {
     "name": "stdout",
     "output_type": "stream",
     "text": [
      "<class 'pandas.core.frame.DataFrame'>\n",
      "RangeIndex: 11420 entries, 0 to 11419\n",
      "Columns: 343 entries, periodo to tn_mas_2\n",
      "dtypes: bool(1), float64(322), int64(16), object(4)\n",
      "memory usage: 29.8+ MB\n"
     ]
    }
   ],
   "source": [
    "df_sellout.info()"
   ]
  },
  {
   "cell_type": "code",
   "execution_count": 8,
   "id": "160c1f61-ac12-4e4e-9a0a-e3ff726482b7",
   "metadata": {},
   "outputs": [
    {
     "data": {
      "text/plain": [
       "periodo               0\n",
       "product_id            0\n",
       "tn                    0\n",
       "cust_request_qty      0\n",
       "cust_request_tn       0\n",
       "                   ... \n",
       "lag_trend_q1          0\n",
       "lag_trend_q2          0\n",
       "lag_trend_q3          0\n",
       "lag_trend_q4          0\n",
       "tn_mas_2            261\n",
       "Length: 343, dtype: int64"
      ]
     },
     "execution_count": 8,
     "metadata": {},
     "output_type": "execute_result"
    }
   ],
   "source": [
    "df_sellout.isna().sum()"
   ]
  },
  {
   "cell_type": "code",
   "execution_count": 9,
   "id": "ffc57d49-f8d2-4de0-b690-a5539f5becde",
   "metadata": {},
   "outputs": [
    {
     "name": "stdout",
     "output_type": "stream",
     "text": [
      "11420\n",
      "11159\n"
     ]
    }
   ],
   "source": [
    "print(len(df_sellout))\n",
    "df_sellout = df_sellout[~df_sellout.tn_mas_2.isna()]\n",
    "print(len(df_sellout))"
   ]
  },
  {
   "cell_type": "code",
   "execution_count": 10,
   "id": "54ed5a19-a82d-4224-9c99-3de06280965e",
   "metadata": {},
   "outputs": [],
   "source": [
    "lag_cols = [col for col in df_sellout.columns if \"lag\" in col]\n",
    "#for col in lag_cols:\n",
    "#    print(col)\n",
    "    \n",
    "df_sellout = df_sellout.drop(columns=lag_cols)"
   ]
  },
  {
   "cell_type": "code",
   "execution_count": 11,
   "id": "ccb81a42-f61a-4386-834a-dce6ea94211f",
   "metadata": {},
   "outputs": [
    {
     "name": "stdout",
     "output_type": "stream",
     "text": [
      "periodo\n",
      "product_id\n",
      "tn\n",
      "cust_request_qty\n",
      "cust_request_tn\n",
      "plan_precios_cuidados\n",
      "cat1\n",
      "cat2\n",
      "cat3\n",
      "sku_size\n",
      "temp_media\n",
      "temp_max_media\n",
      "temp_min_media\n",
      "IPC\n",
      "promedio_mens_dolar_venta\n",
      "catastrofe\n",
      "tn_mas_2\n"
     ]
    }
   ],
   "source": [
    "for col in df_sellout.columns:\n",
    "    print(col)"
   ]
  },
  {
   "cell_type": "code",
   "execution_count": 12,
   "id": "7eae2452-a804-486e-9aad-9d65bb9c1d4d",
   "metadata": {},
   "outputs": [],
   "source": [
    "#Transformo todas las categoricas\n",
    "categories = [\"plan_precios_cuidados\",\"cat1\",\"cat2\",\"cat3\",\"product_id\"]\n",
    "\n",
    "for c in categories: \n",
    "    df_sellout[c] = df_sellout[c].astype(\"category\")   "
   ]
  },
  {
   "cell_type": "code",
   "execution_count": 13,
   "id": "ebda297a-7e9b-45d7-8965-cca8b001d903",
   "metadata": {},
   "outputs": [
    {
     "data": {
      "text/plain": [
       "0    2019-04-01\n",
       "1    2019-04-01\n",
       "2    2019-04-01\n",
       "3    2019-04-01\n",
       "4    2019-04-01\n",
       "Name: periodo, dtype: object"
      ]
     },
     "execution_count": 13,
     "metadata": {},
     "output_type": "execute_result"
    }
   ],
   "source": [
    "df_sellout.periodo.head()"
   ]
  },
  {
   "cell_type": "code",
   "execution_count": 14,
   "id": "0479f4a7-84bd-4d1a-963e-2b58351b4cf7",
   "metadata": {},
   "outputs": [],
   "source": [
    "df_train_test = df_sellout[df_sellout.periodo <= \"2018-12-01\"]\n",
    "df_train_test = df_train_test[df_train_test.periodo != \"2018-11-01\"]\n",
    "df_holdout = df_sellout[df_sellout.periodo == \"2019-02-01\"]"
   ]
  },
  {
   "cell_type": "code",
   "execution_count": 15,
   "id": "2e58fbc7-f078-4836-adf0-6e3054374e1a",
   "metadata": {},
   "outputs": [
    {
     "data": {
      "text/plain": [
       "array(['2018-12-01', '2018-10-01', '2018-09-01', '2018-08-01',\n",
       "       '2018-07-01', '2018-06-01', '2018-05-01', '2018-04-01'],\n",
       "      dtype=object)"
      ]
     },
     "execution_count": 15,
     "metadata": {},
     "output_type": "execute_result"
    }
   ],
   "source": [
    "df_train_test.periodo.unique()"
   ]
  },
  {
   "cell_type": "code",
   "execution_count": 16,
   "id": "cc1203d8-52d3-477a-a21b-54b398ba5603",
   "metadata": {},
   "outputs": [
    {
     "data": {
      "text/plain": [
       "array(['2019-02-01'], dtype=object)"
      ]
     },
     "execution_count": 16,
     "metadata": {},
     "output_type": "execute_result"
    }
   ],
   "source": [
    "df_holdout.periodo.unique()"
   ]
  },
  {
   "cell_type": "markdown",
   "id": "0aebbe89-6315-4364-b1a4-188028a2c935",
   "metadata": {},
   "source": [
    "model_tuning_params = {\n",
    "    'n_estimators': [50, 100, 200],\n",
    "    'learning_rate': [0.01, 0.05, 0.1],\n",
    "    'max_depth': [5, 10, 15],\n",
    "    'colsample_bytree': [0.8, 0.9, 1.0],\n",
    "}\n",
    "\n",
    "# Since we want to use a predefined Test/Val set, we'll use PredefinedSplit and pass it as the CV parameter\n",
    "# We need to merge both the datasets and label 0 for test and -1 for the train set\n",
    "df_train_test[\"test\"] = np.where(df_train_test.periodo==\"2018-12-01\",0,-1)\n",
    "\n",
    "test_fold = np.array(df_train_test.test)\n",
    "ps = PredefinedSplit(test_fold)\n",
    "\n",
    "X = df_train_test.drop(columns=[\"tn_mas_2\",\"periodo\",\"test\"], axis=1)\n",
    "y = df_train_test.tn_mas_2\n",
    "\n",
    "opt = RandomizedSearchCV(\n",
    "            LGBMRegressor(),\n",
    "            model_tuning_params,\n",
    "            scoring=make_scorer(error_rate,greater_is_better=False),\n",
    "            cv=ps,\n",
    "            verbose=5,\n",
    "            return_train_score=True,\n",
    "            random_state=seed,\n",
    "            n_iter=param_iterations)\n",
    "\n",
    "#overdone_control = DeltaYStopper(delta=0.0001)               # We stop if the gain of the optimization becomes too small\n",
    "#time_limit_control = DeadlineStopper(total_time=60 * param_minutes_limit)     # We impose a time limit (xx minutes)\n",
    "#best_params = report_perf(opt, X, y,'LightGBM', callbacks=[overdone_control, time_limit_control])\n",
    "\n",
    "opt.fit(X, y)\n",
    "        \n",
    "d=pd.DataFrame(opt.cv_results_)\n",
    "best_score = opt.best_score_\n",
    "best_score_std = d.iloc[opt.best_index_].std_test_score\n",
    "best_params = opt.best_params_\n",
    "best_score\n",
    "\n",
    "pd.DataFrame(opt.cv_results_) \\\n",
    "            .sort_values(by='rank_test_score').head(50).to_csv(\"opt_results.csv\")\n",
    "\n",
    "model = LGBMClassifier(**best_all_model_params)\n",
    "model.fit(X_train, y_train)\n",
    "\n",
    "y_pred = model.predict(X_test)\n",
    "test_result = metrica(y_test, y_pred)\n",
    "test_result"
   ]
  },
  {
   "cell_type": "code",
   "execution_count": null,
   "id": "618ee979-2788-4d4a-9a90-575a754b48b3",
   "metadata": {},
   "outputs": [],
   "source": []
  },
  {
   "cell_type": "code",
   "execution_count": null,
   "id": "545a7078-c78a-48da-ae48-dfd2438ffb76",
   "metadata": {},
   "outputs": [],
   "source": []
  },
  {
   "cell_type": "code",
   "execution_count": null,
   "id": "45526218-a411-482c-bb92-78d18cf37268",
   "metadata": {},
   "outputs": [],
   "source": []
  },
  {
   "cell_type": "code",
   "execution_count": 17,
   "id": "f926ed92-0616-47bf-86f5-a046859bb2c9",
   "metadata": {},
   "outputs": [],
   "source": [
    "#lightgbm.plot_importance(model, max_num_features = 30, height=1)\n"
   ]
  }
 ],
 "metadata": {
  "kernelspec": {
   "display_name": "Python 3 (ipykernel)",
   "language": "python",
   "name": "python3"
  },
  "language_info": {
   "codemirror_mode": {
    "name": "ipython",
    "version": 3
   },
   "file_extension": ".py",
   "mimetype": "text/x-python",
   "name": "python",
   "nbconvert_exporter": "python",
   "pygments_lexer": "ipython3",
   "version": "3.10.6"
  }
 },
 "nbformat": 4,
 "nbformat_minor": 5
}
