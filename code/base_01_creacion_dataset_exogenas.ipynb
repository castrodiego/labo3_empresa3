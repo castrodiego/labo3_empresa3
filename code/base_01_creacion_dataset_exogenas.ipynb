{
 "cells": [
  {
   "cell_type": "code",
   "execution_count": null,
   "id": "1b6c0f22",
   "metadata": {},
   "outputs": [],
   "source": [
    "import pandas as pd\n",
    "import os\n",
    "import numpy as np"
   ]
  },
  {
   "cell_type": "code",
   "execution_count": null,
   "id": "2076c7bf-a2e8-4758-afbc-8e5848687f14",
   "metadata": {},
   "outputs": [],
   "source": [
    "####################################################\n",
    "############# Setear segun cada maquina ############\n",
    "#os.chdir(\"C:/diego_tools/labo3/\")\n",
    "os.chdir(\"/home/dcastro_contacto/buckets/b1/\")\n",
    "####################################################"
   ]
  },
  {
   "cell_type": "code",
   "execution_count": null,
   "id": "afc82757-a25a-42e1-b664-b24cb8f36de0",
   "metadata": {},
   "outputs": [],
   "source": [
    "arch_temp = \"datasets/externos/temperaturaMediaHistoricaCABA.xlsx\"\n",
    "arch_ipc = \"datasets/externos/IPC.xlsx\"\n",
    "arch_dolar = \"datasets/externos/cotizacionDolar.xlsx\"\n",
    "arch_salida = \"datasets/emp3_exogenas.csv\""
   ]
  },
  {
   "cell_type": "markdown",
   "id": "c634ab5c-8118-433e-863e-235863578983",
   "metadata": {},
   "source": [
    "## Temperatura"
   ]
  },
  {
   "cell_type": "code",
   "execution_count": null,
   "id": "3eba47cd-0afc-4d77-a7a8-e757a2280bb0",
   "metadata": {},
   "outputs": [],
   "source": [
    "df_temp = pd.read_excel(arch_temp)\n",
    "df_temp.info()"
   ]
  },
  {
   "cell_type": "code",
   "execution_count": null,
   "id": "934fd4fb-d8ac-4399-a242-6a69166e34ea",
   "metadata": {},
   "outputs": [],
   "source": [
    "# Para 2017 no esta la temperatura media, la aproximo\n",
    "df_temp.temp_media = np.where(df_temp.temp_media.isna(),(df_temp.temp_max_media+df_temp.temp_min_media)/2,df_temp.temp_media)"
   ]
  },
  {
   "cell_type": "code",
   "execution_count": null,
   "id": "e5cc9dcf-e004-49ee-9082-ffdf7ab1ce91",
   "metadata": {},
   "outputs": [],
   "source": [
    "df_temp.head()"
   ]
  },
  {
   "cell_type": "code",
   "execution_count": null,
   "id": "c33df542-0782-4184-8306-772a9e073bde",
   "metadata": {},
   "outputs": [],
   "source": [
    "df_temp.info()"
   ]
  },
  {
   "cell_type": "code",
   "execution_count": null,
   "id": "8eedbcf7-57e6-4548-a822-89e019d6eccb",
   "metadata": {},
   "outputs": [],
   "source": [
    "print(min(df_temp.periodo_fecha))\n",
    "print(max(df_temp.periodo_fecha))"
   ]
  },
  {
   "cell_type": "markdown",
   "id": "55ff7011-a2aa-44a2-a71d-85db56c585ce",
   "metadata": {},
   "source": [
    "## IPC"
   ]
  },
  {
   "cell_type": "code",
   "execution_count": null,
   "id": "d620efe3-3320-4dac-9459-7aad61eedda5",
   "metadata": {},
   "outputs": [],
   "source": [
    "df_ipc = pd.read_excel(arch_ipc)\n",
    "df_ipc.info()"
   ]
  },
  {
   "cell_type": "code",
   "execution_count": null,
   "id": "19f37efa-b784-4292-8606-99949b7fb0aa",
   "metadata": {},
   "outputs": [],
   "source": [
    "df_ipc.rename(columns={\"fecha\":\"periodo_fecha\"},inplace=True)"
   ]
  },
  {
   "cell_type": "code",
   "execution_count": null,
   "id": "27564696-d85e-400f-8e22-cd10803a6ce5",
   "metadata": {},
   "outputs": [],
   "source": [
    "df_ipc.head()"
   ]
  },
  {
   "cell_type": "code",
   "execution_count": null,
   "id": "412febbe-03bb-4648-855d-ab1bf719478c",
   "metadata": {},
   "outputs": [],
   "source": [
    "print(min(df_ipc.periodo_fecha))\n",
    "print(max(df_ipc.periodo_fecha))"
   ]
  },
  {
   "cell_type": "markdown",
   "id": "e990d32a-d5a3-49c8-972a-51df6dfeb78e",
   "metadata": {},
   "source": [
    "## Dolar"
   ]
  },
  {
   "cell_type": "code",
   "execution_count": null,
   "id": "ac23179f-f2d6-477e-981c-e2af05a36bd3",
   "metadata": {},
   "outputs": [],
   "source": [
    "df_dolar = pd.read_excel(arch_dolar)\n",
    "df_dolar.info()"
   ]
  },
  {
   "cell_type": "code",
   "execution_count": null,
   "id": "ce41ab96-cfb3-43c5-b34a-368828755887",
   "metadata": {},
   "outputs": [],
   "source": [
    "df_dolar.head()"
   ]
  },
  {
   "cell_type": "code",
   "execution_count": null,
   "id": "e61faf0e-41cc-418e-b364-478e5bfb5bfd",
   "metadata": {},
   "outputs": [],
   "source": [
    "  def getYearMonth(d):\n",
    "      return str(d.year) + str.rjust(str(d.month),2,\"0\")"
   ]
  },
  {
   "cell_type": "code",
   "execution_count": null,
   "id": "e9aff17b-9113-4488-9fdf-5dcfb9cf5050",
   "metadata": {},
   "outputs": [],
   "source": [
    "df_dolar['periodo'] = df_dolar['fecha'].apply(lambda x: getYearMonth(x))\n",
    "df_dolar.periodo.unique()"
   ]
  },
  {
   "cell_type": "code",
   "execution_count": null,
   "id": "a761fe1d-39b1-4696-a6a0-d0baf196d108",
   "metadata": {},
   "outputs": [],
   "source": [
    "df_dolar_resum = df_dolar.groupby(\"periodo\").mean(numeric_only=True).reset_index()\n",
    "df_dolar_resum.rename(columns={\"cotizacion_dolar_venta\":\"promedio_mens_dolar_venta\"},inplace=True)\n",
    "df_dolar_resum.promedio_mens_dolar_venta = round(df_dolar_resum.promedio_mens_dolar_venta,2)\n",
    "df_dolar_resum['periodo_fecha'] = pd.to_datetime(df_dolar_resum['periodo'], format='%Y%m')\n",
    "df_dolar_resum.info()"
   ]
  },
  {
   "cell_type": "markdown",
   "id": "a429b214-c0b7-42a3-bd23-f73d984379d3",
   "metadata": {},
   "source": [
    "## Variable \"Coyuntura pais\""
   ]
  },
  {
   "cell_type": "code",
   "execution_count": null,
   "id": "a433d6b9-c96a-4301-a10f-57bf37488dee",
   "metadata": {},
   "outputs": [],
   "source": [
    "df_coyuntura_pais = pd.DataFrame({\"periodo\":[\"201908\"],\"catastrofe\":[True]})\n",
    "df_coyuntura_pais['periodo_fecha'] = pd.to_datetime(df_coyuntura_pais['periodo'], format='%Y%m')\n",
    "df_coyuntura_pais.drop(columns=\"periodo\",inplace=True)\n",
    "\n",
    "df_coyuntura_pais.head()"
   ]
  },
  {
   "cell_type": "code",
   "execution_count": null,
   "id": "89d53138-0c67-4d0c-8841-08119be1c71b",
   "metadata": {},
   "outputs": [],
   "source": [
    "df_coyuntura_pais.info()"
   ]
  },
  {
   "cell_type": "markdown",
   "id": "4eacf537-cf98-4f07-bc78-9e616192bd93",
   "metadata": {},
   "source": [
    "## Join de todo"
   ]
  },
  {
   "cell_type": "code",
   "execution_count": null,
   "id": "608a01bb-bfa9-45a5-a9dd-41b174b1fc0f",
   "metadata": {},
   "outputs": [],
   "source": [
    "print(len(df_temp))\n",
    "df_exogenas = pd.merge(df_temp,df_ipc,on=\"periodo_fecha\",how=\"left\")\n",
    "df_exogenas = pd.merge(df_exogenas,df_dolar_resum,on=\"periodo_fecha\",how=\"left\")\n",
    "df_exogenas = pd.merge(df_exogenas,df_coyuntura_pais,on=\"periodo_fecha\",how=\"left\")\n",
    "print(len(df_exogenas))"
   ]
  },
  {
   "cell_type": "code",
   "execution_count": null,
   "id": "a63ba857-9ce5-40d9-8e06-f6dad201398e",
   "metadata": {},
   "outputs": [],
   "source": [
    "df_exogenas.info()"
   ]
  },
  {
   "cell_type": "code",
   "execution_count": null,
   "id": "e3bb29b0-2393-43ec-bc8c-5854e9594c2a",
   "metadata": {},
   "outputs": [],
   "source": [
    "df_exogenas.catastrofe = df_exogenas.catastrofe.fillna(False)\n",
    "df_exogenas.drop(columns=\"periodo\",inplace=True)\n",
    "df_exogenas.info()"
   ]
  },
  {
   "cell_type": "code",
   "execution_count": null,
   "id": "47741043-686d-463c-8cb2-70be5e1f6e83",
   "metadata": {},
   "outputs": [],
   "source": [
    "df_exogenas.head()"
   ]
  },
  {
   "cell_type": "code",
   "execution_count": null,
   "id": "186f3562-89fa-400e-9fd4-44eaa19b0da8",
   "metadata": {},
   "outputs": [],
   "source": [
    "df_exogenas.tail(20)"
   ]
  },
  {
   "cell_type": "code",
   "execution_count": null,
   "id": "b86d88aa-ea27-493d-a2c1-7a89ec2482a6",
   "metadata": {},
   "outputs": [],
   "source": [
    "df_exogenas.to_csv(arch_salida,index=False)"
   ]
  }
 ],
 "metadata": {
  "kernelspec": {
   "display_name": "Python 3 (ipykernel)",
   "language": "python",
   "name": "python3"
  },
  "language_info": {
   "codemirror_mode": {
    "name": "ipython",
    "version": 3
   },
   "file_extension": ".py",
   "mimetype": "text/x-python",
   "name": "python",
   "nbconvert_exporter": "python",
   "pygments_lexer": "ipython3",
   "version": "3.10.12"
  }
 },
 "nbformat": 4,
 "nbformat_minor": 5
}
