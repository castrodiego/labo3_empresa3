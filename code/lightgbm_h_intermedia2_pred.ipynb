{
 "cells": [
  {
   "cell_type": "code",
   "execution_count": 1,
   "id": "946a34f4-5c14-46cf-a39d-9794031463bb",
   "metadata": {},
   "outputs": [
    {
     "data": {
      "text/html": [
       "<style type='text/css'>\n",
       ".datatable table.frame { margin-bottom: 0; }\n",
       ".datatable table.frame thead { border-bottom: none; }\n",
       ".datatable table.frame tr.coltypes td {  color: #FFFFFF;  line-height: 6px;  padding: 0 0.5em;}\n",
       ".datatable .bool    { background: #DDDD99; }\n",
       ".datatable .object  { background: #565656; }\n",
       ".datatable .int     { background: #5D9E5D; }\n",
       ".datatable .float   { background: #4040CC; }\n",
       ".datatable .str     { background: #CC4040; }\n",
       ".datatable .time    { background: #40CC40; }\n",
       ".datatable .row_index {  background: var(--jp-border-color3);  border-right: 1px solid var(--jp-border-color0);  color: var(--jp-ui-font-color3);  font-size: 9px;}\n",
       ".datatable .frame tbody td { text-align: left; }\n",
       ".datatable .frame tr.coltypes .row_index {  background: var(--jp-border-color0);}\n",
       ".datatable th:nth-child(2) { padding-left: 12px; }\n",
       ".datatable .hellipsis {  color: var(--jp-cell-editor-border-color);}\n",
       ".datatable .vellipsis {  background: var(--jp-layout-color0);  color: var(--jp-cell-editor-border-color);}\n",
       ".datatable .na {  color: var(--jp-cell-editor-border-color);  font-size: 80%;}\n",
       ".datatable .sp {  opacity: 0.25;}\n",
       ".datatable .footer { font-size: 9px; }\n",
       ".datatable .frame_dimensions {  background: var(--jp-border-color3);  border-top: 1px solid var(--jp-border-color0);  color: var(--jp-ui-font-color3);  display: inline-block;  opacity: 0.6;  padding: 1px 10px 1px 5px;}\n",
       ".datatable .frame thead tr.colnames {  background-image: url('data:image/png;base64,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');  background-repeat: repeat-x;  background-size: 14px;  height: 28px;}\n",
       "</style>\n"
      ],
      "text/plain": [
       "<IPython.core.display.HTML object>"
      ]
     },
     "metadata": {},
     "output_type": "display_data"
    }
   ],
   "source": [
    "import os\n",
    "import lightgbm as lgb\n",
    "import pandas as pd\n",
    "import warnings\n",
    "import numpy as np\n",
    "import random\n",
    "import ast\n",
    "\n",
    "\n",
    "# importo los .py\n",
    "import sys\n",
    "sys.path.append(\"auxiliares\")\n",
    "import config\n",
    "import transformaciones\n",
    "import lightgbm_aux\n",
    "import extras\n",
    "\n",
    "pd.options.display.float_format = '{:.2f}'.format\n",
    "pd.set_option('display.max_columns', None)\n",
    "\n",
    "# Ignore all warnings\n",
    "warnings.filterwarnings(\"ignore\")"
   ]
  },
  {
   "cell_type": "code",
   "execution_count": 2,
   "id": "11ac74ea-68b7-46f2-83ba-a06c00f1e25c",
   "metadata": {},
   "outputs": [],
   "source": [
    "####################################################\n",
    "############# Setear segun cada maquina ############\n",
    "#os.chdir(\"C:/Users/herna/labo3_empresa3_repo/\")\n",
    "#os.chdir(\"C:/diego_tools/labo3/\")\n",
    "os.chdir(\"/home/dcastro_contacto/buckets/b1/\")\n",
    "####################################################"
   ]
  },
  {
   "cell_type": "code",
   "execution_count": 3,
   "id": "02238d29-8545-4363-b04a-f73d55495d00",
   "metadata": {},
   "outputs": [],
   "source": [
    "arch_entrada = \"datasets/emp3_sellout_producto_transf_fe.csv\"\n",
    "\n",
    "arch_min_max_prod = \"datasets/emp3_min_max_prod.csv\"\n",
    "arch_mean_std_prod = \"datasets/emp3_mean_std_prod.csv\"\n",
    "\n",
    "carpeta_base_exp = \"exp/intermedia_2/\""
   ]
  },
  {
   "cell_type": "code",
   "execution_count": 4,
   "id": "a7183bc2-62ff-4bbb-a240-1dcbaee74237",
   "metadata": {},
   "outputs": [],
   "source": [
    "# Se genera la prediccion para el indice elegido de la optimizacion bayesiana\n",
    "FUTURE_OPT_BAY_INDEX = 3\n",
    "EXP_NOMBRE = \"20231217_165826\""
   ]
  },
  {
   "cell_type": "code",
   "execution_count": 5,
   "id": "e3009259-aa06-4d9b-99e0-24f25f846a45",
   "metadata": {},
   "outputs": [],
   "source": [
    "GLOBAL_PRODUCT_IDS = pd.DataFrame() #aca solamente se define, se setea mas abajo"
   ]
  },
  {
   "cell_type": "code",
   "execution_count": 6,
   "id": "082b7b4d-d25e-4e92-ac36-e39870bb9802",
   "metadata": {},
   "outputs": [],
   "source": [
    "def destransformar_vector(prod_values,y_vector):\n",
    "    # Dataframes auxiliares\n",
    "    if config.TIPO_TRANSF_PARAM == \"normalizacion\":\n",
    "        print(\"Normalizacion\")\n",
    "        df_prod_val1_val2 = pd.read_csv(arch_min_max_prod)\n",
    "    \n",
    "    elif config.TIPO_TRANSF_PARAM == \"estandarizacion\":\n",
    "        print(\"Estandarizacion\")\n",
    "        df_prod_val1_val2 = pd.read_csv(arch_mean_std_prod)\n",
    "    \n",
    "    df_calculo = pd.DataFrame(data={\"product_id\":prod_values})\n",
    "    df_calculo = df_calculo.merge(df_prod_val1_val2,how=\"left\",on=\"product_id\")\n",
    "    df_calculo = df_calculo.sort_values(by=\"product_id\",ascending=True)\n",
    "    \n",
    "    df_calculo[\"y\"] = y_vector\n",
    "    df_calculo[\"y_destransformado\"]=df_calculo.apply(lambda row: transformaciones.destransformar_valor(config.TIPO_TRANSF_PARAM,row[\"y\"],row[\"valor_1\"],row[\"valor_2\"]),axis=1)\n",
    "\n",
    "    return df_calculo.y_destransformado"
   ]
  },
  {
   "cell_type": "code",
   "execution_count": 7,
   "id": "53ccdb1f-2f93-4bb9-9f57-9bdf50c4251f",
   "metadata": {},
   "outputs": [],
   "source": [
    "##############################################"
   ]
  },
  {
   "cell_type": "code",
   "execution_count": 8,
   "id": "60f49df8-ea45-48d5-87f2-7a5c0281116a",
   "metadata": {},
   "outputs": [],
   "source": [
    "carpeta_exp = carpeta_base_exp + EXP_NOMBRE + \"/\""
   ]
  },
  {
   "cell_type": "code",
   "execution_count": 9,
   "id": "71aa4bfe-d204-451c-85fe-ae97ee3d0248",
   "metadata": {},
   "outputs": [
    {
     "name": "stdout",
     "output_type": "stream",
     "text": [
      "<class 'pandas.core.frame.DataFrame'>\n",
      "RangeIndex: 34707 entries, 0 to 34706\n",
      "Columns: 446 entries, product_id to cat3_tn_bollinger_band_lower_15\n",
      "dtypes: bool(1), float64(437), int64(5), object(3)\n",
      "memory usage: 117.9+ MB\n"
     ]
    }
   ],
   "source": [
    "df_sellout = pd.read_csv(arch_entrada)\n",
    "df_sellout.info()"
   ]
  },
  {
   "cell_type": "code",
   "execution_count": 10,
   "id": "93246681-d2d0-4df8-927d-0a3a1f2aa22d",
   "metadata": {},
   "outputs": [
    {
     "name": "stdout",
     "output_type": "stream",
     "text": [
      "<class 'pandas.core.frame.DataFrame'>\n",
      "RangeIndex: 780 entries, 0 to 779\n",
      "Data columns (total 1 columns):\n",
      " #   Column      Non-Null Count  Dtype\n",
      "---  ------      --------------  -----\n",
      " 0   product_id  780 non-null    int64\n",
      "dtypes: int64(1)\n",
      "memory usage: 6.2 KB\n"
     ]
    }
   ],
   "source": [
    "df_prods_prediccion_future=pd.read_csv(config.ARCH_PRODUCTOS_PREDICCION_FUTURE)\n",
    "df_prods_prediccion_future.info()"
   ]
  },
  {
   "cell_type": "code",
   "execution_count": 11,
   "id": "410062a1-3b44-4d5a-8a2b-5832f25f669e",
   "metadata": {},
   "outputs": [],
   "source": [
    "### Categoricas\n",
    "df_sellout = extras.convertir_categoricas_prod(df_sellout)"
   ]
  },
  {
   "cell_type": "code",
   "execution_count": 12,
   "id": "11ee5a68-6259-4e95-b864-7a13eb4c8b15",
   "metadata": {},
   "outputs": [
    {
     "name": "stdout",
     "output_type": "stream",
     "text": [
      "Periodos entrenar MODELO FINAL: [201701 201702 201703 201704 201705 201706 201707 201708 201709 201710\n",
      " 201711 201712 201801 201802 201803 201804 201805 201806 201807 201808\n",
      " 201809 201810 201811 201812 201901 201902 201903 201904 201905 201906\n",
      " 201907 201909 201910]\n",
      "Periodos FUTURE: [201912]\n",
      "\n",
      "X_train_all: (32244, 444)\n",
      "y_train_all: (32244,)\n",
      "\n",
      "X_future: (780, 444)\n"
     ]
    }
   ],
   "source": [
    "# Modelo Final\n",
    "cols_remover_entren = [\"tn_mas_2\",\"periodo\"]\n",
    "\n",
    "df_train_modelo_final = df_sellout[(df_sellout.periodo <= config.MODELO_FINAL_PERIODO_LIMITE_PARAM) & (df_sellout.periodo >= config.PERIODO_INICIO_PARAM)]\n",
    "df_future = df_sellout[(df_sellout.product_id.isin(df_prods_prediccion_future.product_id)) & (df_sellout.periodo == config.FUTURE_PERIODO_PARAM)]\n",
    "df_future.reset_index(inplace=True, drop=True)\n",
    "\n",
    "print(\"Periodos entrenar MODELO FINAL:\",df_train_modelo_final.periodo.unique())\n",
    "print(\"Periodos FUTURE:\",df_future.periodo.unique())\n",
    "\n",
    "# Variables entrenamiento\n",
    "X_train_modelo_final = df_train_modelo_final.drop(columns=cols_remover_entren, axis=1)\n",
    "y_train_modelo_final = df_train_modelo_final.tn_mas_2\n",
    "cols_entren = X_train_modelo_final.columns.tolist()\n",
    "\n",
    "X_future = df_future.drop(columns=cols_remover_entren, axis=1)\n",
    "\n",
    "print(\"\\nX_train_all:\", X_train_modelo_final.shape)\n",
    "print(\"y_train_all:\", y_train_modelo_final.shape)\n",
    "print(\"\\nX_future:\", X_future.shape)\n",
    "\n",
    "lgbtrain_modelo_final = lgb.Dataset(data=X_train_modelo_final, label=y_train_modelo_final, feature_name=cols_entren)"
   ]
  },
  {
   "cell_type": "code",
   "execution_count": 13,
   "id": "08fc109d-37bf-4b6d-ac1f-467432c84235",
   "metadata": {},
   "outputs": [],
   "source": [
    "df_opt_bay = pd.read_excel(carpeta_exp + \"opt_bay.xlsx\")\n",
    "\n",
    "future_params = ast.literal_eval(df_opt_bay.iloc[FUTURE_OPT_BAY_INDEX].lgb_params) #convierto string a diccionario\n",
    "future_best_iter = int(df_opt_bay.iloc[FUTURE_OPT_BAY_INDEX].best_iteration)\n",
    "y_pred_future = lightgbm_aux.semillerio(lgbtrain_modelo_final, future_params, future_best_iter, X_future,config.CANT_SEMILLAS)"
   ]
  },
  {
   "cell_type": "code",
   "execution_count": 14,
   "id": "efb947b6-d349-475a-bb5c-234277c58a7f",
   "metadata": {},
   "outputs": [
    {
     "name": "stdout",
     "output_type": "stream",
     "text": [
      "Estandarizacion\n"
     ]
    }
   ],
   "source": [
    "# Guardo predicciones\n",
    "y_pred_future = extras.limpiar_prediccion(destransformar_vector(df_prods_prediccion_future.product_id,y_pred_future))\n",
    "\n",
    "# Prediccion Future\n",
    "df_pred = pd.DataFrame(data={\"product_id\":X_future.product_id,\"tn\":y_pred_future})\n",
    "\n",
    "df_pred.to_csv(carpeta_exp + str(FUTURE_OPT_BAY_INDEX) + \"_prediccion.csv\",index=False)"
   ]
  },
  {
   "cell_type": "code",
   "execution_count": 15,
   "id": "5ceae9ef-cd21-4258-9725-72de03d8ab12",
   "metadata": {},
   "outputs": [
    {
     "data": {
      "text/html": [
       "<div>\n",
       "<style scoped>\n",
       "    .dataframe tbody tr th:only-of-type {\n",
       "        vertical-align: middle;\n",
       "    }\n",
       "\n",
       "    .dataframe tbody tr th {\n",
       "        vertical-align: top;\n",
       "    }\n",
       "\n",
       "    .dataframe thead th {\n",
       "        text-align: right;\n",
       "    }\n",
       "</style>\n",
       "<table border=\"1\" class=\"dataframe\">\n",
       "  <thead>\n",
       "    <tr style=\"text-align: right;\">\n",
       "      <th></th>\n",
       "      <th>product_id</th>\n",
       "      <th>tn</th>\n",
       "    </tr>\n",
       "  </thead>\n",
       "  <tbody>\n",
       "    <tr>\n",
       "      <th>0</th>\n",
       "      <td>20001</td>\n",
       "      <td>1586.59</td>\n",
       "    </tr>\n",
       "    <tr>\n",
       "      <th>1</th>\n",
       "      <td>20002</td>\n",
       "      <td>1616.30</td>\n",
       "    </tr>\n",
       "    <tr>\n",
       "      <th>2</th>\n",
       "      <td>20003</td>\n",
       "      <td>900.04</td>\n",
       "    </tr>\n",
       "    <tr>\n",
       "      <th>3</th>\n",
       "      <td>20004</td>\n",
       "      <td>665.32</td>\n",
       "    </tr>\n",
       "    <tr>\n",
       "      <th>4</th>\n",
       "      <td>20005</td>\n",
       "      <td>619.17</td>\n",
       "    </tr>\n",
       "    <tr>\n",
       "      <th>...</th>\n",
       "      <td>...</td>\n",
       "      <td>...</td>\n",
       "    </tr>\n",
       "    <tr>\n",
       "      <th>775</th>\n",
       "      <td>21263</td>\n",
       "      <td>0.15</td>\n",
       "    </tr>\n",
       "    <tr>\n",
       "      <th>776</th>\n",
       "      <td>21265</td>\n",
       "      <td>0.19</td>\n",
       "    </tr>\n",
       "    <tr>\n",
       "      <th>777</th>\n",
       "      <td>21266</td>\n",
       "      <td>0.19</td>\n",
       "    </tr>\n",
       "    <tr>\n",
       "      <th>778</th>\n",
       "      <td>21267</td>\n",
       "      <td>0.19</td>\n",
       "    </tr>\n",
       "    <tr>\n",
       "      <th>779</th>\n",
       "      <td>21276</td>\n",
       "      <td>0.11</td>\n",
       "    </tr>\n",
       "  </tbody>\n",
       "</table>\n",
       "<p>780 rows × 2 columns</p>\n",
       "</div>"
      ],
      "text/plain": [
       "    product_id      tn\n",
       "0        20001 1586.59\n",
       "1        20002 1616.30\n",
       "2        20003  900.04\n",
       "3        20004  665.32\n",
       "4        20005  619.17\n",
       "..         ...     ...\n",
       "775      21263    0.15\n",
       "776      21265    0.19\n",
       "777      21266    0.19\n",
       "778      21267    0.19\n",
       "779      21276    0.11\n",
       "\n",
       "[780 rows x 2 columns]"
      ]
     },
     "execution_count": 15,
     "metadata": {},
     "output_type": "execute_result"
    }
   ],
   "source": [
    "df_pred"
   ]
  }
 ],
 "metadata": {
  "kernelspec": {
   "display_name": "Python 3 (ipykernel)",
   "language": "python",
   "name": "python3"
  },
  "language_info": {
   "codemirror_mode": {
    "name": "ipython",
    "version": 3
   },
   "file_extension": ".py",
   "mimetype": "text/x-python",
   "name": "python",
   "nbconvert_exporter": "python",
   "pygments_lexer": "ipython3",
   "version": "3.10.12"
  }
 },
 "nbformat": 4,
 "nbformat_minor": 5
}
