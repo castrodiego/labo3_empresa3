{
 "cells": [
  {
   "cell_type": "code",
   "execution_count": 1,
   "id": "946a34f4-5c14-46cf-a39d-9794031463bb",
   "metadata": {},
   "outputs": [
    {
     "data": {
      "text/html": [
       "<style type='text/css'>\n",
       ".datatable table.frame { margin-bottom: 0; }\n",
       ".datatable table.frame thead { border-bottom: none; }\n",
       ".datatable table.frame tr.coltypes td {  color: #FFFFFF;  line-height: 6px;  padding: 0 0.5em;}\n",
       ".datatable .bool    { background: #DDDD99; }\n",
       ".datatable .object  { background: #565656; }\n",
       ".datatable .int     { background: #5D9E5D; }\n",
       ".datatable .float   { background: #4040CC; }\n",
       ".datatable .str     { background: #CC4040; }\n",
       ".datatable .time    { background: #40CC40; }\n",
       ".datatable .row_index {  background: var(--jp-border-color3);  border-right: 1px solid var(--jp-border-color0);  color: var(--jp-ui-font-color3);  font-size: 9px;}\n",
       ".datatable .frame tbody td { text-align: left; }\n",
       ".datatable .frame tr.coltypes .row_index {  background: var(--jp-border-color0);}\n",
       ".datatable th:nth-child(2) { padding-left: 12px; }\n",
       ".datatable .hellipsis {  color: var(--jp-cell-editor-border-color);}\n",
       ".datatable .vellipsis {  background: var(--jp-layout-color0);  color: var(--jp-cell-editor-border-color);}\n",
       ".datatable .na {  color: var(--jp-cell-editor-border-color);  font-size: 80%;}\n",
       ".datatable .sp {  opacity: 0.25;}\n",
       ".datatable .footer { font-size: 9px; }\n",
       ".datatable .frame_dimensions {  background: var(--jp-border-color3);  border-top: 1px solid var(--jp-border-color0);  color: var(--jp-ui-font-color3);  display: inline-block;  opacity: 0.6;  padding: 1px 10px 1px 5px;}\n",
       ".datatable .frame thead tr.colnames {  background-image: url('data:image/png;base64,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');  background-repeat: repeat-x;  background-size: 14px;  height: 28px;}\n",
       "</style>\n"
      ],
      "text/plain": [
       "<IPython.core.display.HTML object>"
      ]
     },
     "metadata": {},
     "output_type": "display_data"
    }
   ],
   "source": [
    "import os\n",
    "import lightgbm as lgb\n",
    "import pandas as pd\n",
    "import warnings\n",
    "from matplotlib import pyplot as plt\n",
    "import seaborn as sns\n",
    "import numpy as np\n",
    "import datetime\n",
    "import optuna\n",
    "import random\n",
    "from datetime import datetime\n",
    "import pytz\n",
    "\n",
    "# importo los .py\n",
    "import sys\n",
    "sys.path.append(\"auxiliares\")\n",
    "import config\n",
    "import metricas\n",
    "import lightgbm_aux\n",
    "import extras\n",
    "\n",
    "pd.options.display.float_format = '{:.2f}'.format\n",
    "pd.set_option('display.max_columns', None)\n",
    "\n",
    "# Ignore all warnings\n",
    "warnings.filterwarnings(\"ignore\")"
   ]
  },
  {
   "cell_type": "code",
   "execution_count": 2,
   "id": "11ac74ea-68b7-46f2-83ba-a06c00f1e25c",
   "metadata": {},
   "outputs": [],
   "source": [
    "####################################################\n",
    "############# Setear segun cada maquina ############\n",
    "#os.chdir(\"C:/Users/herna/labo3_empresa3_repo/\")\n",
    "#os.chdir(\"C:/diego_tools/labo3/\")\n",
    "os.chdir(\"/home/dcastro_contacto/buckets/b1/\")\n",
    "####################################################"
   ]
  },
  {
   "cell_type": "code",
   "execution_count": 3,
   "id": "02238d29-8545-4363-b04a-f73d55495d00",
   "metadata": {},
   "outputs": [],
   "source": [
    "arch_entrada = \"datasets/emp3_sellout_producto_fe.csv\"\n",
    "carpeta_exp_prefijo = \"exp/intermedia_1/\""
   ]
  },
  {
   "cell_type": "code",
   "execution_count": 4,
   "id": "547b30c6-7d6b-4c08-872b-6a88a987b237",
   "metadata": {},
   "outputs": [],
   "source": [
    "def lgbm_error_rate(preds, train_data):\n",
    "    labels = train_data.get_label()\n",
    "    ret_val = metricas.error_rate(labels,preds)\n",
    "    return 'ER', ret_val, False"
   ]
  },
  {
   "cell_type": "code",
   "execution_count": 5,
   "id": "fcc3b371-807e-45c2-954d-3e720b30ede9",
   "metadata": {},
   "outputs": [],
   "source": [
    "def objective(trial):\n",
    "    print(\"****************\", config.OBJECTIVE_PARAM, \"****************\")\n",
    "    \n",
    "    lgb_params = {\n",
    "        'objective': config.OBJECTIVE_PARAM,\n",
    "        'first_metric_only': True,\n",
    "        'boost_from_average': True,\n",
    "        'max_depth':-1,\n",
    "        'lambda_l1': trial.suggest_uniform('lambda_l1', 0.0,config.L1_UPPER_PARAM),\n",
    "        'lambda_l2': trial.suggest_uniform('lambda_l2', 0.0,config.L2_UPPER_PARAM),\n",
    "        'min_gain_to_split':0.0,\n",
    "        'force_row_wise':True,\n",
    "        'feature_pre_filter':False,\n",
    "        'metric': \"None\",\n",
    "        'max_bin': config.MAX_BIN_PARAM,\n",
    "        'learning_rate': trial.suggest_uniform('learning_rate', config.LEARNING_RATE_LOWER_PARAM,config.LEARNING_RATE_UPPER_PARAM ),\n",
    "        'num_leaves' : trial.suggest_int('num_leaves', config.NUM_LEAVES_LOWER_PARAM, config.NUM_LEAVES_UPPER_PARAM),\n",
    "        'feature_fraction': trial.suggest_uniform('feature_fraction', config.FEATURE_FRACTION_LOWER_PARAM, config.FEATURE_FRACTION_UPPER_PARAM),\n",
    "        'min_data_in_leaf': trial.suggest_int('min_data_in_leaf', config.MIN_DATA_IN_LEAF_LOWER_PARAM, config.MIN_DATA_IN_LEAF_UPPER_PARAM),\n",
    "        #'bagging_freq':trial.suggest_int('bagging_freq', 1, 10),\n",
    "        #'bagging_fraction': trial.suggest_categorical('bagging_fraction',[0.7,0.75,0.8,0.85,0.9,0.95]),\n",
    "        #'extra_trees':trial.suggest_categorical('extra_trees',[True,False]),\n",
    "        'verbose':-100,\n",
    "        'num_threads':-1\n",
    "    }\n",
    "    \n",
    "    lgb_params_num_boost_round = 10000  #un numero muy grande, lo limita early_stopping_rounds\n",
    "    lgb_params_early_stopping_rounds = int(50 + 5/lgb_params['learning_rate']) #  #el parametro discolo, que depende de otro\n",
    "    \n",
    "    lgb_train = lgb.Dataset(data=X_train, label=y_train, feature_name=cols_entren)\n",
    "    lgb_validate = lgb.Dataset(data=X_validate, label=y_validate, reference=lgb_train, feature_name=cols_entren)\n",
    "    \n",
    "    #Train using selected parameters\n",
    "    model = lgb.train(lgb_params, lgb_train,\n",
    "                  valid_sets=[lgb_validate],\n",
    "                  num_boost_round=lgb_params_num_boost_round,\n",
    "                  early_stopping_rounds=lgb_params_early_stopping_rounds,\n",
    "                  feval=lgbm_error_rate,\n",
    "                  verbose_eval=100)\n",
    "    \n",
    "    y_pred_validate =model.predict(X_validate) #Create predictions on test set\n",
    "    er_validate = metricas.error_rate(y_validate,y_pred_validate)\n",
    "    \n",
    "    GLOBAL_PARAMS_ITER.append(lgb_params)\n",
    "    GLOBAL_BEST_IT_ITER.append(model.best_iteration)\n",
    "    GLOBAL_ER_VALIDATE_ITER.append(er_validate)\n",
    "    GLOBAL_MODEL_ITER.append(model)\n",
    "    \n",
    "    return er_validate"
   ]
  },
  {
   "cell_type": "code",
   "execution_count": 6,
   "id": "53ccdb1f-2f93-4bb9-9f57-9bdf50c4251f",
   "metadata": {},
   "outputs": [],
   "source": [
    "##############################################"
   ]
  },
  {
   "cell_type": "code",
   "execution_count": 7,
   "id": "71aa4bfe-d204-451c-85fe-ae97ee3d0248",
   "metadata": {},
   "outputs": [
    {
     "name": "stdout",
     "output_type": "stream",
     "text": [
      "<class 'pandas.core.frame.DataFrame'>\n",
      "RangeIndex: 34707 entries, 0 to 34706\n",
      "Data columns (total 28 columns):\n",
      " #   Column                     Non-Null Count  Dtype  \n",
      "---  ------                     --------------  -----  \n",
      " 0   product_id                 34707 non-null  int64  \n",
      " 1   periodo                    34707 non-null  int64  \n",
      " 2   tn                         34707 non-null  float64\n",
      " 3   cero_ventas                34707 non-null  int64  \n",
      " 4   cust_request_qty           34707 non-null  float64\n",
      " 5   cust_request_tn            34707 non-null  float64\n",
      " 6   mes                        34707 non-null  int64  \n",
      " 7   producto_estrella          34707 non-null  float64\n",
      " 8   plan_precios_cuidados      34707 non-null  float64\n",
      " 9   meses_historia_prod        34707 non-null  int64  \n",
      " 10  cat1                       34707 non-null  object \n",
      " 11  cat2                       34707 non-null  object \n",
      " 12  cat3                       34707 non-null  object \n",
      " 13  sku_size                   34707 non-null  float64\n",
      " 14  temp_media                 34707 non-null  float64\n",
      " 15  temp_min_media             34707 non-null  float64\n",
      " 16  temp_max_media             34707 non-null  float64\n",
      " 17  IPC                        34707 non-null  float64\n",
      " 18  promedio_mens_dolar_venta  34707 non-null  float64\n",
      " 19  catastrofe                 34707 non-null  bool   \n",
      " 20  tn_mas_2                   32244 non-null  float64\n",
      " 21  dif_cust_request_tn        34707 non-null  float64\n",
      " 22  dif_cust_request_tn_porc   34707 non-null  float64\n",
      " 23  product_id_tn_lag_1        33474 non-null  float64\n",
      " 24  product_id_tn_lag_2        32244 non-null  float64\n",
      " 25  product_id_tn_lag_3        31015 non-null  float64\n",
      " 26  product_id_tn_lag_4        29825 non-null  float64\n",
      " 27  product_id_tn_lag_5        28660 non-null  float64\n",
      "dtypes: bool(1), float64(19), int64(5), object(3)\n",
      "memory usage: 7.2+ MB\n"
     ]
    }
   ],
   "source": [
    "df_sellout = pd.read_csv(arch_entrada)\n",
    "df_sellout.info()"
   ]
  },
  {
   "cell_type": "code",
   "execution_count": 8,
   "id": "eada627a-f5e2-4e9d-acba-39638a54cbbb",
   "metadata": {},
   "outputs": [
    {
     "name": "stdout",
     "output_type": "stream",
     "text": [
      "<class 'pandas.core.frame.DataFrame'>\n",
      "RangeIndex: 868 entries, 0 to 867\n",
      "Data columns (total 1 columns):\n",
      " #   Column      Non-Null Count  Dtype\n",
      "---  ------      --------------  -----\n",
      " 0   product_id  868 non-null    int64\n",
      "dtypes: int64(1)\n",
      "memory usage: 6.9 KB\n"
     ]
    }
   ],
   "source": [
    "df_prods_prediccion_entren=pd.read_csv(config.ARCH_PRODUCTOS_PREDICCION_ENTRENAMIENTO)\n",
    "df_prods_prediccion_entren.info()"
   ]
  },
  {
   "cell_type": "code",
   "execution_count": 9,
   "id": "410062a1-3b44-4d5a-8a2b-5832f25f669e",
   "metadata": {},
   "outputs": [],
   "source": [
    "### Categoricas\n",
    "df_sellout = extras.convertir_categoricas_prod(df_sellout)"
   ]
  },
  {
   "cell_type": "code",
   "execution_count": 10,
   "id": "5f866703-ece7-4986-93aa-84b957781f3f",
   "metadata": {},
   "outputs": [
    {
     "name": "stdout",
     "output_type": "stream",
     "text": [
      "Periodos entrenar: [201706 201707 201708 201709 201710 201711 201712 201801 201802 201803\n",
      " 201804 201805 201806 201807 201808 201809 201810]\n",
      "Periodos validar: [201812]\n",
      "product_id a validar: 868\n"
     ]
    }
   ],
   "source": [
    "### Split de datasets\n",
    "df_train = df_sellout[(df_sellout.periodo <= config.TRAIN_PERIODO_LIMITE_PARAM) & (df_sellout.periodo >= config.PERIODO_INICIO_PARAM)]\n",
    "df_validate = df_sellout[(df_sellout.product_id.isin(df_prods_prediccion_entren.product_id)) & (df_sellout.periodo == config.VALIDATE_PERIODO_PARAM)]\n",
    "\n",
    "print(\"Periodos entrenar:\",df_train.periodo.unique())\n",
    "print(\"Periodos validar:\",df_validate.periodo.unique())\n",
    "\n",
    "df_validate = df_validate.sort_values(by=\"product_id\",ascending=True)\n",
    "print(\"product_id a validar:\", len(df_validate))"
   ]
  },
  {
   "cell_type": "code",
   "execution_count": 11,
   "id": "7f5f95f4-44a3-46b9-9683-df39935b83b7",
   "metadata": {},
   "outputs": [
    {
     "name": "stdout",
     "output_type": "stream",
     "text": [
      "X_train: (16005, 26)\n",
      "y_train: (16005,)\n",
      "\n",
      "X_validate: (868, 26)\n",
      "y_validate: (868,)\n"
     ]
    }
   ],
   "source": [
    "### Armado variables entrenamiento\n",
    "cols_remover_entren = [\"tn_mas_2\",\"periodo\"]\n",
    "\n",
    "# Train - Validate\n",
    "X_train = df_train.drop(columns=cols_remover_entren, axis=1)\n",
    "X_validate = df_validate.drop(columns=cols_remover_entren, axis=1)\n",
    "\n",
    "y_train = df_train.tn_mas_2\n",
    "y_validate = df_validate.tn_mas_2\n",
    "\n",
    "print(\"X_train:\", X_train.shape)\n",
    "print(\"y_train:\", y_train.shape)\n",
    "\n",
    "print(\"\\nX_validate:\", X_validate.shape)\n",
    "print(\"y_validate:\", y_validate.shape)\n",
    "\n",
    "cols_entren = X_train.columns.tolist()"
   ]
  },
  {
   "cell_type": "code",
   "execution_count": 12,
   "id": "f77112b6-dc5c-4227-ac0f-0a4e3bab3943",
   "metadata": {},
   "outputs": [
    {
     "name": "stderr",
     "output_type": "stream",
     "text": [
      "[I 2023-12-18 18:29:45,245] A new study created in memory with name: no-name-c9b756a9-7c08-401e-b700-fd997b34fc28\n"
     ]
    },
    {
     "name": "stdout",
     "output_type": "stream",
     "text": [
      "**************** regression ****************\n",
      "Training until validation scores don't improve for 86 rounds\n",
      "[100]\tvalid_0's ER: 79.78\n"
     ]
    },
    {
     "name": "stderr",
     "output_type": "stream",
     "text": [
      "[I 2023-12-18 18:29:45,508] Trial 0 finished with value: 79.65 and parameters: {'lambda_l1': 249.75891956784625, 'lambda_l2': 172.58493830592013, 'learning_rate': 0.13573690962856688, 'num_leaves': 736, 'feature_fraction': 0.9234283338576366, 'min_data_in_leaf': 6913}. Best is trial 0 with value: 79.65.\n"
     ]
    },
    {
     "name": "stdout",
     "output_type": "stream",
     "text": [
      "Early stopping, best iteration is:\n",
      "[102]\tvalid_0's ER: 79.65\n",
      "Evaluated only: ER\n",
      "**************** regression ****************\n",
      "Training until validation scores don't improve for 75 rounds\n"
     ]
    },
    {
     "name": "stderr",
     "output_type": "stream",
     "text": [
      "[I 2023-12-18 18:29:45,692] Trial 1 finished with value: 78.51 and parameters: {'lambda_l1': 534.9805378631576, 'lambda_l2': 446.93991416469794, 'learning_rate': 0.19741310806044388, 'num_leaves': 619, 'feature_fraction': 0.9667235854105398, 'min_data_in_leaf': 6664}. Best is trial 1 with value: 78.51.\n"
     ]
    },
    {
     "name": "stdout",
     "output_type": "stream",
     "text": [
      "[100]\tvalid_0's ER: 78.98\n",
      "Early stopping, best iteration is:\n",
      "[75]\tvalid_0's ER: 78.51\n",
      "Evaluated only: ER\n",
      "**************** regression ****************\n",
      "Training until validation scores don't improve for 124 rounds\n",
      "[100]\tvalid_0's ER: 67.31\n",
      "[200]\tvalid_0's ER: 61.87\n",
      "[300]\tvalid_0's ER: 58.53\n",
      "[400]\tvalid_0's ER: 56.44\n",
      "[500]\tvalid_0's ER: 55.14\n",
      "[600]\tvalid_0's ER: 54.17\n",
      "[700]\tvalid_0's ER: 53.95\n",
      "[800]\tvalid_0's ER: 53.41\n",
      "[900]\tvalid_0's ER: 53.04\n",
      "[1000]\tvalid_0's ER: 52.73\n",
      "[1100]\tvalid_0's ER: 52.53\n",
      "[1200]\tvalid_0's ER: 52.26\n",
      "[1300]\tvalid_0's ER: 52.25\n"
     ]
    },
    {
     "name": "stderr",
     "output_type": "stream",
     "text": [
      "[I 2023-12-18 18:29:47,301] Trial 2 finished with value: 52.2 and parameters: {'lambda_l1': 610.0608536533429, 'lambda_l2': 999.1423977576756, 'learning_rate': 0.0671529883019494, 'num_leaves': 698, 'feature_fraction': 0.9110165540161137, 'min_data_in_leaf': 4414}. Best is trial 2 with value: 52.2.\n"
     ]
    },
    {
     "name": "stdout",
     "output_type": "stream",
     "text": [
      "Early stopping, best iteration is:\n",
      "[1269]\tvalid_0's ER: 52.2\n",
      "Evaluated only: ER\n",
      "**************** regression ****************\n",
      "Training until validation scores don't improve for 74 rounds\n"
     ]
    },
    {
     "name": "stderr",
     "output_type": "stream",
     "text": [
      "[I 2023-12-18 18:29:47,627] Trial 3 finished with value: 42.88 and parameters: {'lambda_l1': 469.02942839427664, 'lambda_l2': 796.5865540937199, 'learning_rate': 0.20286298354307206, 'num_leaves': 243, 'feature_fraction': 0.559180581524823, 'min_data_in_leaf': 1700}. Best is trial 3 with value: 42.88.\n"
     ]
    },
    {
     "name": "stdout",
     "output_type": "stream",
     "text": [
      "[100]\tvalid_0's ER: 43.57\n",
      "[200]\tvalid_0's ER: 44.52\n",
      "Early stopping, best iteration is:\n",
      "[136]\tvalid_0's ER: 42.88\n",
      "Evaluated only: ER\n",
      "**************** regression ****************\n",
      "Training until validation scores don't improve for 68 rounds\n"
     ]
    },
    {
     "name": "stderr",
     "output_type": "stream",
     "text": [
      "[I 2023-12-18 18:29:47,768] Trial 4 finished with value: 76.84 and parameters: {'lambda_l1': 729.6050339740099, 'lambda_l2': 276.3973997911566, 'learning_rate': 0.26852034332344155, 'num_leaves': 676, 'feature_fraction': 0.5746039945433359, 'min_data_in_leaf': 6245}. Best is trial 3 with value: 42.88.\n"
     ]
    },
    {
     "name": "stdout",
     "output_type": "stream",
     "text": [
      "[100]\tvalid_0's ER: 77.48\n",
      "Early stopping, best iteration is:\n",
      "[41]\tvalid_0's ER: 76.84\n",
      "Evaluated only: ER\n",
      "**************** regression ****************\n",
      "Training until validation scores don't improve for 98 rounds\n",
      "[100]\tvalid_0's ER: 78.02\n",
      "[200]\tvalid_0's ER: 77.4\n"
     ]
    },
    {
     "name": "stderr",
     "output_type": "stream",
     "text": [
      "[I 2023-12-18 18:29:48,019] Trial 5 finished with value: 77.12 and parameters: {'lambda_l1': 184.52515474762586, 'lambda_l2': 224.32867853610017, 'learning_rate': 0.10288555567846625, 'num_leaves': 744, 'feature_fraction': 0.20377469209842483, 'min_data_in_leaf': 6242}. Best is trial 3 with value: 42.88.\n"
     ]
    },
    {
     "name": "stdout",
     "output_type": "stream",
     "text": [
      "Early stopping, best iteration is:\n",
      "[174]\tvalid_0's ER: 77.12\n",
      "Evaluated only: ER\n",
      "**************** regression ****************\n",
      "Training until validation scores don't improve for 134 rounds\n",
      "[100]\tvalid_0's ER: 75.49\n"
     ]
    },
    {
     "name": "stderr",
     "output_type": "stream",
     "text": [
      "[I 2023-12-18 18:29:48,264] Trial 6 finished with value: 75.31 and parameters: {'lambda_l1': 821.494156049905, 'lambda_l2': 750.6957726735221, 'learning_rate': 0.05892673482565304, 'num_leaves': 163, 'feature_fraction': 0.9283171616402182, 'min_data_in_leaf': 5849}. Best is trial 3 with value: 42.88.\n"
     ]
    },
    {
     "name": "stdout",
     "output_type": "stream",
     "text": [
      "[200]\tvalid_0's ER: 75.58\n",
      "Early stopping, best iteration is:\n",
      "[91]\tvalid_0's ER: 75.31\n",
      "Evaluated only: ER\n",
      "**************** regression ****************\n",
      "Training until validation scores don't improve for 73 rounds\n",
      "[100]\tvalid_0's ER: 68.26\n",
      "[200]\tvalid_0's ER: 65.4\n",
      "[300]\tvalid_0's ER: 64.61\n",
      "[400]\tvalid_0's ER: 63.97\n"
     ]
    },
    {
     "name": "stderr",
     "output_type": "stream",
     "text": [
      "[I 2023-12-18 18:29:48,913] Trial 7 finished with value: 62.41 and parameters: {'lambda_l1': 35.20069825942185, 'lambda_l2': 262.94413984175037, 'learning_rate': 0.21550781457796825, 'num_leaves': 202, 'feature_fraction': 0.3179921844345221, 'min_data_in_leaf': 4734}. Best is trial 3 with value: 42.88.\n"
     ]
    },
    {
     "name": "stdout",
     "output_type": "stream",
     "text": [
      "[500]\tvalid_0's ER: 63.18\n",
      "[600]\tvalid_0's ER: 62.69\n",
      "Early stopping, best iteration is:\n",
      "[625]\tvalid_0's ER: 62.41\n",
      "Evaluated only: ER\n",
      "**************** regression ****************\n",
      "Training until validation scores don't improve for 88 rounds\n",
      "[100]\tvalid_0's ER: 80.57\n",
      "[200]\tvalid_0's ER: 80.51\n",
      "Early stopping, best iteration is:\n",
      "[163]\tvalid_0's ER: 80.05\n",
      "Evaluated only: ER\n"
     ]
    },
    {
     "name": "stderr",
     "output_type": "stream",
     "text": [
      "[I 2023-12-18 18:29:49,170] Trial 8 finished with value: 80.05 and parameters: {'lambda_l1': 62.0160165111987, 'lambda_l2': 462.6566105831984, 'learning_rate': 0.13142014076622938, 'num_leaves': 903, 'feature_fraction': 0.3272381084591326, 'min_data_in_leaf': 7082}. Best is trial 3 with value: 42.88.\n",
      "[I 2023-12-18 18:29:49,335] Trial 9 finished with value: 75.18 and parameters: {'lambda_l1': 188.48199746861027, 'lambda_l2': 702.8571407492761, 'learning_rate': 0.1593182815734364, 'num_leaves': 655, 'feature_fraction': 0.9538648002470014, 'min_data_in_leaf': 5804}. Best is trial 3 with value: 42.88.\n"
     ]
    },
    {
     "name": "stdout",
     "output_type": "stream",
     "text": [
      "**************** regression ****************\n",
      "Training until validation scores don't improve for 81 rounds\n",
      "[100]\tvalid_0's ER: 75.42\n",
      "Early stopping, best iteration is:\n",
      "[53]\tvalid_0's ER: 75.18\n",
      "Evaluated only: ER\n",
      "**************** regression ****************\n",
      "Training until validation scores don't improve for 67 rounds\n",
      "[100]\tvalid_0's ER: 39.01\n"
     ]
    },
    {
     "name": "stderr",
     "output_type": "stream",
     "text": [
      "[I 2023-12-18 18:29:49,809] Trial 10 finished with value: 36.98 and parameters: {'lambda_l1': 974.5802801696666, 'lambda_l2': 976.9745702264263, 'learning_rate': 0.2855640750984137, 'num_leaves': 304, 'feature_fraction': 0.6491370663287163, 'min_data_in_leaf': 1142}. Best is trial 10 with value: 36.98.\n"
     ]
    },
    {
     "name": "stdout",
     "output_type": "stream",
     "text": [
      "[200]\tvalid_0's ER: 37.23\n",
      "Early stopping, best iteration is:\n",
      "[202]\tvalid_0's ER: 36.98\n",
      "Evaluated only: ER\n",
      "**************** regression ****************\n",
      "Training until validation scores don't improve for 66 rounds\n"
     ]
    },
    {
     "name": "stderr",
     "output_type": "stream",
     "text": [
      "[I 2023-12-18 18:29:50,102] Trial 11 finished with value: 36.21 and parameters: {'lambda_l1': 945.784903174294, 'lambda_l2': 993.1511362957939, 'learning_rate': 0.29577860929481176, 'num_leaves': 318, 'feature_fraction': 0.6366816720848728, 'min_data_in_leaf': 882}. Best is trial 11 with value: 36.21.\n"
     ]
    },
    {
     "name": "stdout",
     "output_type": "stream",
     "text": [
      "[100]\tvalid_0's ER: 36.52\n",
      "Early stopping, best iteration is:\n",
      "[75]\tvalid_0's ER: 36.21\n",
      "Evaluated only: ER\n",
      "**************** regression ****************\n",
      "Training until validation scores don't improve for 66 rounds\n",
      "[100]\tvalid_0's ER: 28.72\n",
      "[200]\tvalid_0's ER: 26.81\n",
      "[300]\tvalid_0's ER: 26.34\n",
      "[400]\tvalid_0's ER: 26.05\n"
     ]
    },
    {
     "name": "stderr",
     "output_type": "stream",
     "text": [
      "[I 2023-12-18 18:29:51,429] Trial 12 finished with value: 25.94 and parameters: {'lambda_l1': 994.9891503038601, 'lambda_l2': 986.3582755933404, 'learning_rate': 0.2973283652017673, 'num_leaves': 365, 'feature_fraction': 0.7319809176874111, 'min_data_in_leaf': 216}. Best is trial 12 with value: 25.94.\n"
     ]
    },
    {
     "name": "stdout",
     "output_type": "stream",
     "text": [
      "Early stopping, best iteration is:\n",
      "[426]\tvalid_0's ER: 25.94\n",
      "Evaluated only: ER\n",
      "**************** regression ****************\n",
      "Training until validation scores don't improve for 66 rounds\n",
      "[100]\tvalid_0's ER: 27.33\n",
      "[200]\tvalid_0's ER: 25.42\n",
      "[300]\tvalid_0's ER: 24.73\n",
      "[400]\tvalid_0's ER: 24.29\n",
      "[500]\tvalid_0's ER: 24.14\n",
      "Early stopping, best iteration is:\n",
      "[507]\tvalid_0's ER: 24.09\n",
      "Evaluated only: ER\n"
     ]
    },
    {
     "name": "stderr",
     "output_type": "stream",
     "text": [
      "[I 2023-12-18 18:29:53,131] Trial 13 finished with value: 24.09 and parameters: {'lambda_l1': 979.5358812767505, 'lambda_l2': 879.3539852146537, 'learning_rate': 0.2966669934131415, 'num_leaves': 449, 'feature_fraction': 0.7157043944926237, 'min_data_in_leaf': 45}. Best is trial 13 with value: 24.09.\n"
     ]
    },
    {
     "name": "stdout",
     "output_type": "stream",
     "text": [
      "**************** regression ****************\n",
      "Training until validation scores don't improve for 69 rounds\n"
     ]
    },
    {
     "name": "stderr",
     "output_type": "stream",
     "text": [
      "[I 2023-12-18 18:29:53,646] Trial 14 finished with value: 25.49 and parameters: {'lambda_l1': 986.2890076780225, 'lambda_l2': 22.207805866709236, 'learning_rate': 0.2518765230387419, 'num_leaves': 390, 'feature_fraction': 0.7610540307706827, 'min_data_in_leaf': 8}. Best is trial 13 with value: 24.09.\n"
     ]
    },
    {
     "name": "stdout",
     "output_type": "stream",
     "text": [
      "[100]\tvalid_0's ER: 25.61\n",
      "Early stopping, best iteration is:\n",
      "[105]\tvalid_0's ER: 25.49\n",
      "Evaluated only: ER\n",
      "**************** regression ****************\n",
      "Training until validation scores don't improve for 69 rounds\n"
     ]
    },
    {
     "name": "stderr",
     "output_type": "stream",
     "text": [
      "[I 2023-12-18 18:29:53,915] Trial 15 finished with value: 52.2 and parameters: {'lambda_l1': 836.1824352460416, 'lambda_l2': 22.98797599852001, 'learning_rate': 0.25018034582611126, 'num_leaves': 453, 'feature_fraction': 0.7896744580291462, 'min_data_in_leaf': 2664}. Best is trial 13 with value: 24.09.\n"
     ]
    },
    {
     "name": "stdout",
     "output_type": "stream",
     "text": [
      "[100]\tvalid_0's ER: 52.36\n",
      "Early stopping, best iteration is:\n",
      "[87]\tvalid_0's ER: 52.2\n",
      "Evaluated only: ER\n",
      "**************** regression ****************\n",
      "Training until validation scores don't improve for 70 rounds\n",
      "[100]\tvalid_0's ER: 52.48\n",
      "[200]\tvalid_0's ER: 50.97\n"
     ]
    },
    {
     "name": "stderr",
     "output_type": "stream",
     "text": [
      "[I 2023-12-18 18:29:54,377] Trial 16 finished with value: 50.36 and parameters: {'lambda_l1': 831.3594728428882, 'lambda_l2': 0.3678541362481518, 'learning_rate': 0.24259979262060868, 'num_leaves': 48, 'feature_fraction': 0.8086875325808633, 'min_data_in_leaf': 2771}. Best is trial 13 with value: 24.09.\n"
     ]
    },
    {
     "name": "stdout",
     "output_type": "stream",
     "text": [
      "[300]\tvalid_0's ER: 50.82\n",
      "Early stopping, best iteration is:\n",
      "[258]\tvalid_0's ER: 50.36\n",
      "Evaluated only: ER\n",
      "**************** regression ****************\n",
      "Training until validation scores don't improve for 69 rounds\n"
     ]
    },
    {
     "name": "stderr",
     "output_type": "stream",
     "text": [
      "[I 2023-12-18 18:29:54,731] Trial 17 finished with value: 49.63 and parameters: {'lambda_l1': 701.9445787257987, 'lambda_l2': 610.256281884971, 'learning_rate': 0.2511339985928691, 'num_leaves': 476, 'feature_fraction': 0.7216234386264697, 'min_data_in_leaf': 2445}. Best is trial 13 with value: 24.09.\n"
     ]
    },
    {
     "name": "stdout",
     "output_type": "stream",
     "text": [
      "[100]\tvalid_0's ER: 51.03\n",
      "[200]\tvalid_0's ER: 49.88\n",
      "Early stopping, best iteration is:\n",
      "[153]\tvalid_0's ER: 49.63\n",
      "Evaluated only: ER\n",
      "**************** regression ****************\n",
      "Training until validation scores don't improve for 72 rounds\n",
      "[100]\tvalid_0's ER: 28.98\n",
      "[200]\tvalid_0's ER: 26.5\n",
      "[300]\tvalid_0's ER: 25.68\n",
      "[400]\tvalid_0's ER: 25.13\n"
     ]
    },
    {
     "name": "stderr",
     "output_type": "stream",
     "text": [
      "[I 2023-12-18 18:29:56,043] Trial 18 finished with value: 25.05 and parameters: {'lambda_l1': 883.7881637271421, 'lambda_l2': 555.4768876576236, 'learning_rate': 0.2271281509926315, 'num_leaves': 539, 'feature_fraction': 0.514303318506854, 'min_data_in_leaf': 147}. Best is trial 13 with value: 24.09.\n"
     ]
    },
    {
     "name": "stdout",
     "output_type": "stream",
     "text": [
      "[500]\tvalid_0's ER: 25.13\n",
      "Early stopping, best iteration is:\n",
      "[431]\tvalid_0's ER: 25.05\n",
      "Evaluated only: ER\n",
      "**************** regression ****************\n",
      "Training until validation scores don't improve for 72 rounds\n",
      "[100]\tvalid_0's ER: 56.61\n",
      "[200]\tvalid_0's ER: 53.69\n",
      "[300]\tvalid_0's ER: 52.46\n",
      "[400]\tvalid_0's ER: 51.64\n"
     ]
    },
    {
     "name": "stderr",
     "output_type": "stream",
     "text": [
      "[I 2023-12-18 18:29:56,764] Trial 19 finished with value: 50.96 and parameters: {'lambda_l1': 888.9669599609233, 'lambda_l2': 852.3700540975248, 'learning_rate': 0.22437278521536408, 'num_leaves': 562, 'feature_fraction': 0.5282551205607696, 'min_data_in_leaf': 3271}. Best is trial 13 with value: 24.09.\n"
     ]
    },
    {
     "name": "stdout",
     "output_type": "stream",
     "text": [
      "[500]\tvalid_0's ER: 51.08\n",
      "Early stopping, best iteration is:\n",
      "[518]\tvalid_0's ER: 50.96\n",
      "Evaluated only: ER\n",
      "**************** regression ****************\n",
      "Training until validation scores don't improve for 463 rounds\n",
      "[100]\tvalid_0's ER: 60.11\n",
      "[200]\tvalid_0's ER: 52.52\n",
      "[300]\tvalid_0's ER: 52.82\n",
      "[400]\tvalid_0's ER: 53.08\n",
      "[500]\tvalid_0's ER: 52.82\n",
      "[600]\tvalid_0's ER: 52.15\n",
      "[700]\tvalid_0's ER: 51.34\n",
      "[800]\tvalid_0's ER: 50.62\n",
      "[900]\tvalid_0's ER: 49.93\n",
      "[1000]\tvalid_0's ER: 49.04\n",
      "[1100]\tvalid_0's ER: 48.17\n",
      "[1200]\tvalid_0's ER: 47.41\n",
      "[1300]\tvalid_0's ER: 46.75\n",
      "[1400]\tvalid_0's ER: 46.27\n",
      "[1500]\tvalid_0's ER: 45.89\n",
      "[1600]\tvalid_0's ER: 45.61\n",
      "[1700]\tvalid_0's ER: 45.33\n",
      "[1800]\tvalid_0's ER: 45.17\n",
      "[1900]\tvalid_0's ER: 45.1\n",
      "[2000]\tvalid_0's ER: 45.02\n",
      "[2100]\tvalid_0's ER: 44.92\n",
      "[2200]\tvalid_0's ER: 44.77\n",
      "[2300]\tvalid_0's ER: 44.7\n",
      "[2400]\tvalid_0's ER: 44.61\n",
      "[2500]\tvalid_0's ER: 44.46\n",
      "[2600]\tvalid_0's ER: 44.32\n",
      "[2700]\tvalid_0's ER: 44.42\n",
      "[2800]\tvalid_0's ER: 44.17\n",
      "[2900]\tvalid_0's ER: 44.17\n",
      "[3000]\tvalid_0's ER: 44.1\n",
      "[3100]\tvalid_0's ER: 44.14\n",
      "[3200]\tvalid_0's ER: 44.2\n",
      "[3300]\tvalid_0's ER: 44.24\n",
      "[3400]\tvalid_0's ER: 44.2\n"
     ]
    },
    {
     "name": "stderr",
     "output_type": "stream",
     "text": [
      "[I 2023-12-18 18:30:01,625] Trial 20 finished with value: 44.08 and parameters: {'lambda_l1': 726.4715165179591, 'lambda_l2': 596.812246949449, 'learning_rate': 0.01207868709274873, 'num_leaves': 855, 'feature_fraction': 0.48595914219764513, 'min_data_in_leaf': 1722}. Best is trial 13 with value: 24.09.\n"
     ]
    },
    {
     "name": "stdout",
     "output_type": "stream",
     "text": [
      "Early stopping, best iteration is:\n",
      "[3012]\tvalid_0's ER: 44.08\n",
      "Evaluated only: ER\n",
      "**************** regression ****************\n",
      "Training until validation scores don't improve for 68 rounds\n",
      "[100]\tvalid_0's ER: 27.63\n",
      "[200]\tvalid_0's ER: 26.46\n",
      "[300]\tvalid_0's ER: 26.03\n",
      "Early stopping, best iteration is:\n",
      "[303]\tvalid_0's ER: 26.02\n",
      "Evaluated only: ER\n"
     ]
    },
    {
     "name": "stderr",
     "output_type": "stream",
     "text": [
      "[I 2023-12-18 18:30:02,739] Trial 21 finished with value: 26.02 and parameters: {'lambda_l1': 988.814541803711, 'lambda_l2': 409.45844232445455, 'learning_rate': 0.268893462774724, 'num_leaves': 415, 'feature_fraction': 0.6832223651779545, 'min_data_in_leaf': 88}. Best is trial 13 with value: 24.09.\n"
     ]
    },
    {
     "name": "stdout",
     "output_type": "stream",
     "text": [
      "**************** regression ****************\n",
      "Training until validation scores don't improve for 68 rounds\n",
      "[100]\tvalid_0's ER: 35.2\n",
      "[200]\tvalid_0's ER: 34.35\n"
     ]
    },
    {
     "name": "stderr",
     "output_type": "stream",
     "text": [
      "[I 2023-12-18 18:30:03,299] Trial 22 finished with value: 34.2 and parameters: {'lambda_l1': 882.3483477799538, 'lambda_l2': 571.4697482016018, 'learning_rate': 0.270367365552076, 'num_leaves': 530, 'feature_fraction': 0.8484501743242241, 'min_data_in_leaf': 819}. Best is trial 13 with value: 24.09.\n"
     ]
    },
    {
     "name": "stdout",
     "output_type": "stream",
     "text": [
      "Early stopping, best iteration is:\n",
      "[219]\tvalid_0's ER: 34.2\n",
      "Evaluated only: ER\n",
      "**************** regression ****************\n",
      "Training until validation scores don't improve for 71 rounds\n",
      "[100]\tvalid_0's ER: 30.24\n",
      "[200]\tvalid_0's ER: 28.59\n",
      "[300]\tvalid_0's ER: 27.76\n",
      "[400]\tvalid_0's ER: 27.29\n",
      "[500]\tvalid_0's ER: 27.06\n",
      "[600]\tvalid_0's ER: 26.79\n",
      "[700]\tvalid_0's ER: 26.76\n"
     ]
    },
    {
     "name": "stderr",
     "output_type": "stream",
     "text": [
      "[I 2023-12-18 18:30:05,696] Trial 23 finished with value: 26.64 and parameters: {'lambda_l1': 910.2821910353234, 'lambda_l2': 687.7116585418282, 'learning_rate': 0.22877839336968697, 'num_leaves': 1021, 'feature_fraction': 0.7468899043861784, 'min_data_in_leaf': 13}. Best is trial 13 with value: 24.09.\n"
     ]
    },
    {
     "name": "stdout",
     "output_type": "stream",
     "text": [
      "[800]\tvalid_0's ER: 26.7\n",
      "Early stopping, best iteration is:\n",
      "[756]\tvalid_0's ER: 26.64\n",
      "Evaluated only: ER\n",
      "**************** regression ****************\n",
      "Training until validation scores don't improve for 76 rounds\n"
     ]
    },
    {
     "name": "stderr",
     "output_type": "stream",
     "text": [
      "[I 2023-12-18 18:30:06,096] Trial 24 finished with value: 44.41 and parameters: {'lambda_l1': 991.804284899801, 'lambda_l2': 400.9830226836589, 'learning_rate': 0.18965099018487078, 'num_leaves': 550, 'feature_fraction': 0.6090110875374843, 'min_data_in_leaf': 1658}. Best is trial 13 with value: 24.09.\n"
     ]
    },
    {
     "name": "stdout",
     "output_type": "stream",
     "text": [
      "[100]\tvalid_0's ER: 45.34\n",
      "[200]\tvalid_0's ER: 44.61\n",
      "Early stopping, best iteration is:\n",
      "[154]\tvalid_0's ER: 44.41\n",
      "Evaluated only: ER\n",
      "# Experimentos: 25\n",
      "Mejor experimento: {'lambda_l1': 979.5358812767505, 'lambda_l2': 879.3539852146537, 'learning_rate': 0.2966669934131415, 'num_leaves': 449, 'feature_fraction': 0.7157043944926237, 'min_data_in_leaf': 45}\n"
     ]
    }
   ],
   "source": [
    "### Optimizacion Bayesiana\n",
    "GLOBAL_PARAMS_ITER = []\n",
    "GLOBAL_BEST_IT_ITER = []\n",
    "GLOBAL_ER_VALIDATE_ITER = []\n",
    "GLOBAL_MODEL_ITER = []\n",
    "\n",
    "study = optuna.create_study(direction='minimize')\n",
    "study.optimize(objective, n_trials=config.CANT_ITERACIONES_OPT_BAY_PARAM)\n",
    "print('# Experimentos:', len(study.trials))\n",
    "print('Mejor experimento:', study.best_trial.params)"
   ]
  },
  {
   "cell_type": "code",
   "execution_count": 13,
   "id": "933cdc68-eb97-4e4c-b8bf-0eafdfb04c64",
   "metadata": {},
   "outputs": [
    {
     "data": {
      "image/png": "[encoded data removed]",
      "text/plain": [
       "<Figure size 720x720 with 1 Axes>"
      ]
     },
     "metadata": {
      "needs_background": "light"
     },
     "output_type": "display_data"
    }
   ],
   "source": [
    "# Feature Importance\n",
    "best_model_index = study.best_trial.number\n",
    "best_model = GLOBAL_MODEL_ITER[best_model_index]\n",
    "feature_importance = lightgbm_aux.plot_lgb_importances(best_model, num=30, plot=True)"
   ]
  },
  {
   "cell_type": "code",
   "execution_count": 14,
   "id": "1d0ec636-d1ae-446d-980a-70ac4499d75a",
   "metadata": {},
   "outputs": [
    {
     "name": "stdout",
     "output_type": "stream",
     "text": [
      "product_id a testear: 868\n",
      "Periodos entrenar ALL: [201706 201707 201708 201709 201710 201711 201712 201801 201802 201803\n",
      " 201804 201805 201806 201807 201808 201809 201810 201811 201812]\n",
      "Periodos holdout: [201902]\n",
      "\n",
      "X_train_all: (18107, 26)\n",
      "y_train_all: (18107,)\n",
      "\n",
      "X_holdout: (868, 26)\n",
      "y_holdout: (868,)\n"
     ]
    }
   ],
   "source": [
    "#Si se usa holdout, se generan variables para luego evaluar modelos\n",
    "if(config.USAR_HOLDOUT_PARAM):\n",
    "    # Dataframes\n",
    "    df_train_all = df_sellout[(df_sellout.periodo <= config.TRAIN_ALL_PERIODO_LIMITE_PARAM) & (df_sellout.periodo >= config.PERIODO_INICIO_PARAM)]\n",
    "    df_holdout = df_sellout[(df_sellout.product_id.isin(df_prods_prediccion_entren.product_id)) & (df_sellout.periodo == config.HOLDOUT_PERIODO_PARAM)]\n",
    "    \n",
    "    df_holdout = df_holdout.sort_values(by=\"product_id\",ascending=True)\n",
    "    print(\"product_id a testear:\", len(df_holdout))\n",
    "\n",
    "    print(\"Periodos entrenar ALL:\",df_train_all.periodo.unique())\n",
    "    print(\"Periodos holdout:\",df_holdout.periodo.unique())\n",
    "\n",
    "    # Variables entrenamiento\n",
    "    X_train_all = df_train_all.drop(columns=cols_remover_entren, axis=1)\n",
    "    X_holdout = df_holdout.drop(columns=cols_remover_entren, axis=1)\n",
    "    \n",
    "    y_train_all = df_train_all.tn_mas_2\n",
    "    y_holdout = df_holdout.tn_mas_2\n",
    "    print(\"\\nX_train_all:\", X_train_all.shape)\n",
    "    print(\"y_train_all:\", y_train_all.shape)\n",
    "    \n",
    "    print(\"\\nX_holdout:\", X_holdout.shape)\n",
    "    print(\"y_holdout:\", y_holdout.shape)\n",
    "\n",
    "    lgbtrain_all = lgb.Dataset(data=X_train_all, label=y_train_all, feature_name=cols_entren)"
   ]
  },
  {
   "cell_type": "code",
   "execution_count": 15,
   "id": "1bec2d20-752c-4862-96c8-69f22a83b617",
   "metadata": {},
   "outputs": [
    {
     "data": {
      "text/plain": [
       "'20231218_153006'"
      ]
     },
     "execution_count": 15,
     "metadata": {},
     "output_type": "execute_result"
    }
   ],
   "source": [
    "current_datetime = datetime.now().astimezone(pytz.timezone('America/Argentina/Buenos_Aires'))\n",
    "exp_numero = current_datetime.strftime(\"%Y%m%d %H%M%S\").replace(\" \", \"_\")\n",
    "exp_numero"
   ]
  },
  {
   "cell_type": "code",
   "execution_count": 16,
   "id": "efb947b6-d349-475a-bb5c-234277c58a7f",
   "metadata": {},
   "outputs": [
    {
     "name": "stdout",
     "output_type": "stream",
     "text": [
      "Iteración: 0\n",
      "Iteración: 1\n",
      "Iteración: 2\n",
      "Iteración: 3\n",
      "Iteración: 4\n"
     ]
    }
   ],
   "source": [
    "# Guardo resultados\n",
    "carpeta_exp = carpeta_exp_prefijo + exp_numero + \"/\"\n",
    "if not os.path.exists(carpeta_exp):\n",
    "    os.makedirs(carpeta_exp)\n",
    "    \n",
    "# Feature Importance\n",
    "feature_importance.to_csv(carpeta_exp + \"feature_importance.csv\",index=False)\n",
    "\n",
    "# Parametros\n",
    "parametros_nombres = [\"PERIODOS_EXCLUIR\",\"PERIODO_INICIO_PARAM\",\"TRAIN_PERIODO_LIMITE_PARAM\",\n",
    "                      \"VALIDATE_PERIODO_PARAM\",\"USAR_HOLDOUT_PARAM\",\n",
    "                      \"TRAIN_ALL_PERIODO_LIMITE_PARAM\",\"HOLDOUT_PERIODO_PARAM\",\n",
    "                      \"MODELO_FINAL_PERIODO_LIMITE_PARAM\",\"FUTURE_PERIODO_PARAM\",\n",
    "                      \"ARCH_PRODUCTOS_PREDICCION_ENTRENAMIENTO\",\"ARCH_PRODUCTOS_PREDICCION_FUTURE\",\n",
    "                      \"NUM_LAGS_PARAM\",\"FAMILIA_FEATURES_TEMP_PARAM\",\"AMPLIA_FEATURES_PARAM\",\n",
    "                      \"CANT_ITERACIONES_OPT_BAY_PARAM\",\"CANT_SEMILLAS\"]\n",
    "\n",
    "parametros_valores = [config.PERIODOS_EXCLUIR,config.PERIODO_INICIO_PARAM,config.TRAIN_PERIODO_LIMITE_PARAM,\n",
    "                      config.VALIDATE_PERIODO_PARAM,\n",
    "                      config.USAR_HOLDOUT_PARAM,config.TRAIN_ALL_PERIODO_LIMITE_PARAM,config.HOLDOUT_PERIODO_PARAM,\n",
    "                      config.MODELO_FINAL_PERIODO_LIMITE_PARAM,config.FUTURE_PERIODO_PARAM,\n",
    "                      config.ARCH_PRODUCTOS_PREDICCION_ENTRENAMIENTO,config.ARCH_PRODUCTOS_PREDICCION_FUTURE,\n",
    "                      config.NUM_LAGS_PARAM,config.FAMILIA_FEATURES_TEMP_PARAM,config.AMPLIA_FEATURES_PARAM,\n",
    "                      config.CANT_ITERACIONES_OPT_BAY_PARAM, config.CANT_SEMILLAS]\n",
    "\n",
    "parametros = pd.DataFrame(data={\"nombre\":parametros_nombres,\"valor\":parametros_valores})\n",
    "parametros.to_csv(carpeta_exp + \"parametros.csv\",index=False)\n",
    "\n",
    "# Optimizacion Bayesiana\n",
    "df_opt_bay = pd.DataFrame(data={\"lgb_params\":GLOBAL_PARAMS_ITER,\"best_iteration\":GLOBAL_BEST_IT_ITER,\n",
    "                                \"error_rate_validate\":GLOBAL_ER_VALIDATE_ITER})\n",
    "\n",
    "# Ordeno de menor a mayor\n",
    "df_opt_bay = df_opt_bay.sort_values(by=\"error_rate_validate\",ascending=True)\n",
    "df_opt_bay[\"index\"] = range(0,len(GLOBAL_PARAMS_ITER))\n",
    "\n",
    "# Holdout\n",
    "if(config.USAR_HOLDOUT_PARAM):\n",
    "    er_holdout_iter = [None] * len(df_opt_bay)\n",
    "    er_holdout_semillerio_iter = [None] * len(df_opt_bay)\n",
    "    \n",
    "    for i in range(config.OFFSET_EVAL_HOLDOUT,config.CANT_EVAL_HOLDOUT):\n",
    "        print(\"Iteración:\",i)\n",
    "\n",
    "        #Modelo Train All (Sin Semillerio)\n",
    "        model_train_all = lgb.train(df_opt_bay.iloc[i].lgb_params, lgbtrain_all, num_boost_round=df_opt_bay.iloc[i].best_iteration)\n",
    "        y_pred_holdout = model_train_all.predict(X_holdout)\n",
    "        er_holdout = metricas.error_rate(y_holdout,y_pred_holdout)\n",
    "        er_holdout_iter[i]=er_holdout\n",
    "        \n",
    "        #Semillerio\n",
    "        y_pred_holdout_semillerio = lightgbm_aux.semillerio(lgbtrain_all, df_opt_bay.iloc[i].lgb_params, df_opt_bay.iloc[i].best_iteration, X_holdout,config.CANT_SEMILLAS)\n",
    "        er_holdout_semillerio_iter[i]= metricas.error_rate(y_holdout,y_pred_holdout_semillerio)\n",
    "        \n",
    "    df_opt_bay[\"error_rate_holdout\"]=er_holdout_iter    \n",
    "    df_opt_bay[\"error_rate_holdout_semillerio\"]=er_holdout_semillerio_iter    \n",
    "\n",
    "df_opt_bay.to_excel(carpeta_exp +  \"opt_bay.xlsx\",index=False)"
   ]
  },
  {
   "cell_type": "code",
   "execution_count": 17,
   "id": "d4683c7c-e768-4b55-b897-b178f8c4fdd5",
   "metadata": {},
   "outputs": [
    {
     "name": "stdout",
     "output_type": "stream",
     "text": [
      "FINALIZADO\n"
     ]
    },
    {
     "data": {
      "text/plain": [
       "'20231218_153006'"
      ]
     },
     "execution_count": 17,
     "metadata": {},
     "output_type": "execute_result"
    }
   ],
   "source": [
    "print(\"FINALIZADO\")\n",
    "exp_numero"
   ]
  }
 ],
 "metadata": {
  "kernelspec": {
   "display_name": "Python 3 (ipykernel)",
   "language": "python",
   "name": "python3"
  },
  "language_info": {
   "codemirror_mode": {
    "name": "ipython",
    "version": 3
   },
   "file_extension": ".py",
   "mimetype": "text/x-python",
   "name": "python",
   "nbconvert_exporter": "python",
   "pygments_lexer": "ipython3",
   "version": "3.10.12"
  }
 },
 "nbformat": 4,
 "nbformat_minor": 5
}
