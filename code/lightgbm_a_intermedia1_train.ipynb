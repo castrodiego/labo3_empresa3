{
 "cells": [
  {
   "cell_type": "code",
   "execution_count": 1,
   "id": "946a34f4-5c14-46cf-a39d-9794031463bb",
   "metadata": {},
   "outputs": [
    {
     "data": {
      "text/html": [
       "<style type='text/css'>\n",
       ".datatable table.frame { margin-bottom: 0; }\n",
       ".datatable table.frame thead { border-bottom: none; }\n",
       ".datatable table.frame tr.coltypes td {  color: #FFFFFF;  line-height: 6px;  padding: 0 0.5em;}\n",
       ".datatable .bool    { background: #DDDD99; }\n",
       ".datatable .object  { background: #565656; }\n",
       ".datatable .int     { background: #5D9E5D; }\n",
       ".datatable .float   { background: #4040CC; }\n",
       ".datatable .str     { background: #CC4040; }\n",
       ".datatable .time    { background: #40CC40; }\n",
       ".datatable .row_index {  background: var(--jp-border-color3);  border-right: 1px solid var(--jp-border-color0);  color: var(--jp-ui-font-color3);  font-size: 9px;}\n",
       ".datatable .frame tbody td { text-align: left; }\n",
       ".datatable .frame tr.coltypes .row_index {  background: var(--jp-border-color0);}\n",
       ".datatable th:nth-child(2) { padding-left: 12px; }\n",
       ".datatable .hellipsis {  color: var(--jp-cell-editor-border-color);}\n",
       ".datatable .vellipsis {  background: var(--jp-layout-color0);  color: var(--jp-cell-editor-border-color);}\n",
       ".datatable .na {  color: var(--jp-cell-editor-border-color);  font-size: 80%;}\n",
       ".datatable .sp {  opacity: 0.25;}\n",
       ".datatable .footer { font-size: 9px; }\n",
       ".datatable .frame_dimensions {  background: var(--jp-border-color3);  border-top: 1px solid var(--jp-border-color0);  color: var(--jp-ui-font-color3);  display: inline-block;  opacity: 0.6;  padding: 1px 10px 1px 5px;}\n",
       ".datatable .frame thead tr.colnames {  background-image: url('data:image/png;base64,iVBORw0KGgoAAAANSUhEUgAAABwAAAA4CAYAAADuMJi0AAAGR0lEQVR42rVZ21IbRxBtCbQrkIR2dQVjsLmDLBsET3nTQ8ouYRkQVf6e/E9+Im958qMfkgoXAaKSSj6C9Jnd2R2NeiRSRaZqitVOT5+Z6dNnWoKGlN94JFp8Ipofkb/7SOXjGyp8wF+z35K3f0uUp/GW4XfLQ8v2gefj3ZCCzojoNfue+43o1Q3l3xB/yA3JO7jnF2pCLnI+pNyx/qw7L+SQ7T2N9p2f8c60QcfcK6KGXsAd+ZvA4LlZYuSSAoOhMs5vwJkEGDlbPMaJoA+FcQ0IH38QLWkbAFLkOOhoMF5tU6/eBRhNjro0ZgKiPRAt3FLhCO/vqdgmNTm32LkmKpvBmQY4q5uAaAgbwDBG2BVv3bfI8KKAMWj2kfw9+pkZREIbEql4ST1x7hgHIANkbJ//MF8mAH/ilTCJ2tIi4ASr1IC3VNqXHKOxjy34mgoImnOQtx1g81fkqTiMOBVGcTogNhiT5iBHET8R8C+iApJUmgim3SQAXhsLQz7ee2G8gOAQNtJckBEplADiAxtX+G9NmhDl0qJKnTvyWlAMPYZnvIviGXRg6/Dh824DBXhP/tbfREXJEIvQ+aaPGjG7pvw6r3xdx+9hqb4dgZaP2XmdHO2K/B0c1+oUph6k8kShBryl/Ft0DYgjTlOieOACHFFpVyUl72T9V3cM1jUoYvxIC2vpCSys/ck70mDYuYvdvKjlMdKAUThneWVU1aAsyjv6PURDiwNsHGBZzY+JtAAgE2TFxdRHJdyIp/f+zqu09M5cDP2F08Ukkpj4YNSdX950HY2pNCCUK/Hhx5ZMBfjNSEzdsIihVzzAMdn9dz4eDYhnyQb9SSCiAryiJcQk82LiTbJ4x2FZJaUenpKnzP95WyDf4Y+QN9EFHHSeDLGdBjjKNQ5vKHf4XMA7KrY0y0GEObBOO/8e1ywuQExOHXktuQyJALEBpcEqhwtHqgiDuCK5b6i0p2MQpcckIIoh+6hYgTZtO8xlMi6O4tKCF/kOGHEg/W0UUpHW0ZoGNZ1ExZWcn7EErgwt4uj50E/sFBjXXIayWvh7WryjasxarZKssXon0zxvvkc32Q0bqbBCuZiKt9dWFysfQefeL29JYFaeztX6tePaZdz5mYx8+6Zq3Mk0wXECQxlhdzgS2wjBHju3j1RIgKyOMdNUE8X0+RAdbSapS11MRCv1SzUXmO6wGZe2SQYrv2MvCSWEv2VODE6DN7bz8ufypgQKW7uQskFTQHULLKyaEyrnlZbgOGLrV5qrn9U79jjm2HJmgkaVN98AfBub91lGPLZBqdroN5LYgjSu4zYZDDHXZOIPC691HqrWI1900I8qLzgKP4ft8DxEWigprPfrO+KcXno9gZz4jjGewWdUcpGCj0qVFuGPYbl2VturndZ2qRvlL8acDO6lF/DY/VjsFesiUK+ypJ+r/ep+cJkSQxEK4PG4WozgA75TYrDDqStE69K8/mzGEM+JXTeqvmedEElMmwCMm2SLd6bNNF9su02zEtoW6nAQtpMj5Gd7fKa//wqonF7UdtHFsVn+6hf1o7AfriPH7M6EeIUEF5zKVxXbYo7kS/OEtOqDYZKPoBsETIixn0uYrasThmzDkhdKPkz2EnaX0HdQbIgr59vAdGYDqjHrxkjS7WOxkTD8sqEqhiwcJETgBYigrBqF08KyDaje9SZ/I1A7MzaTzMGDEulPtZUkuKcyIRAjxEJPVrnVlb/9wkfij31D/pQt1IN+iL8bGJcstBIO7Y5VI/cwDqURbXhMuJxBqD0KLoK3esWFs0Jz5i5ZvJUAfFJMFb9XmGIOnzGpijpcWYCaMqXSQWp8EnCABepQ0Elyi4wfKfsw78ikIqif1pe1AGPlLmojl1SKxHHXp1L+Ut7AmDQHvhI5xHGi4EooO2BR7k78PEkJOdL7cAxQUZ/Tyclu9gnfwGgOmm2lNHGNmZXsq4Pqgc1EG1ATrvKl8s4R9ywwnqulGUnaRLVhxy8v3ieUwy2hbooT68uscW++DCDH0WSzuoyN2D4LUJ/tLECbcSKznwMIFs0ChF4mRTCnQbIIfk4SHJo6A9BMuTnXTs3Ku/KxsgZWqzuSe+Os8cEUfnMBY6UF5gi3SUbd5K7vDjq5WW0UENJlRsWn4sy21Er/E/AvPQSFHy1p4fgAAAAASUVORK5CYII=');  background-repeat: repeat-x;  background-size: 14px;  height: 28px;}\n",
       "</style>\n"
      ],
      "text/plain": [
       "<IPython.core.display.HTML object>"
      ]
     },
     "metadata": {},
     "output_type": "display_data"
    }
   ],
   "source": [
    "import os\n",
    "import lightgbm as lgb\n",
    "import pandas as pd\n",
    "import warnings\n",
    "from matplotlib import pyplot as plt\n",
    "import seaborn as sns\n",
    "import numpy as np\n",
    "import datetime\n",
    "import optuna\n",
    "import random\n",
    "from datetime import datetime\n",
    "import pytz\n",
    "\n",
    "# importo los .py\n",
    "import sys\n",
    "sys.path.append(\"auxiliares\")\n",
    "import config\n",
    "import metricas\n",
    "import lightgbm_aux\n",
    "import extras\n",
    "\n",
    "pd.options.display.float_format = '{:.2f}'.format\n",
    "pd.set_option('display.max_columns', None)\n",
    "\n",
    "# Ignore all warnings\n",
    "warnings.filterwarnings(\"ignore\")"
   ]
  },
  {
   "cell_type": "code",
   "execution_count": 2,
   "id": "11ac74ea-68b7-46f2-83ba-a06c00f1e25c",
   "metadata": {},
   "outputs": [],
   "source": [
    "####################################################\n",
    "############# Setear segun cada maquina ############\n",
    "#os.chdir(\"C:/Users/herna/labo3_empresa3_repo/\")\n",
    "#os.chdir(\"C:/diego_tools/labo3/\")\n",
    "os.chdir(\"/home/dcastro_contacto/buckets/b1/\")\n",
    "####################################################"
   ]
  },
  {
   "cell_type": "code",
   "execution_count": 3,
   "id": "02238d29-8545-4363-b04a-f73d55495d00",
   "metadata": {},
   "outputs": [],
   "source": [
    "arch_entrada = \"datasets/emp3_sellout_producto_fe.csv\"\n",
    "carpeta_exp_prefijo = \"exp/intermedia_1/\""
   ]
  },
  {
   "cell_type": "code",
   "execution_count": 4,
   "id": "547b30c6-7d6b-4c08-872b-6a88a987b237",
   "metadata": {},
   "outputs": [],
   "source": [
    "def lgbm_error_rate(preds, train_data):\n",
    "    labels = train_data.get_label()\n",
    "    ret_val = metricas.error_rate(labels,preds)\n",
    "    return 'ER', ret_val, False"
   ]
  },
  {
   "cell_type": "code",
   "execution_count": 5,
   "id": "fcc3b371-807e-45c2-954d-3e720b30ede9",
   "metadata": {},
   "outputs": [],
   "source": [
    "def objective(trial):\n",
    "    print(\"****************\", config.OBJECTIVE_PARAM, \"****************\")\n",
    "    \n",
    "    lgb_params = {\n",
    "        'objective': config.OBJECTIVE_PARAM,\n",
    "        'first_metric_only': True,\n",
    "        'boost_from_average': True,\n",
    "        'max_depth':-1,\n",
    "        'lambda_l1': trial.suggest_uniform('lambda_l1', 0.0,config.L1_UPPER_PARAM),\n",
    "        'lambda_l2': trial.suggest_uniform('lambda_l2', 0.0,config.L2_UPPER_PARAM),\n",
    "        'min_gain_to_split':0.0,\n",
    "        'force_row_wise':True,\n",
    "        'feature_pre_filter':False,\n",
    "        'metric': \"None\",\n",
    "        'max_bin': config.MAX_BIN_PARAM,\n",
    "        'learning_rate': trial.suggest_uniform('learning_rate', config.LEARNING_RATE_LOWER_PARAM,config.LEARNING_RATE_UPPER_PARAM ),\n",
    "        'num_leaves' : trial.suggest_int('num_leaves', config.NUM_LEAVES_LOWER_PARAM, config.NUM_LEAVES_UPPER_PARAM),\n",
    "        'feature_fraction': trial.suggest_uniform('feature_fraction', config.FEATURE_FRACTION_LOWER_PARAM, config.FEATURE_FRACTION_UPPER_PARAM),\n",
    "        'min_data_in_leaf': trial.suggest_int('min_data_in_leaf', config.MIN_DATA_IN_LEAF_LOWER_PARAM, config.MIN_DATA_IN_LEAF_UPPER_PARAM),\n",
    "        #'bagging_freq':trial.suggest_int('bagging_freq', 1, 10),\n",
    "        #'bagging_fraction': trial.suggest_categorical('bagging_fraction',[0.7,0.75,0.8,0.85,0.9,0.95]),\n",
    "        #'extra_trees':trial.suggest_categorical('extra_trees',[True,False]),\n",
    "        'verbose':-100,\n",
    "        'num_threads':-1\n",
    "    }\n",
    "    \n",
    "    lgb_params_num_boost_round = 10000  #un numero muy grande, lo limita early_stopping_rounds\n",
    "    lgb_params_early_stopping_rounds = int(50 + 5/lgb_params['learning_rate']) #  #el parametro discolo, que depende de otro\n",
    "    \n",
    "    lgb_train = lgb.Dataset(data=X_train, label=y_train, feature_name=cols_entren)\n",
    "    lgb_validate = lgb.Dataset(data=X_validate, label=y_validate, reference=lgb_train, feature_name=cols_entren)\n",
    "    \n",
    "    #Train using selected parameters\n",
    "    model = lgb.train(lgb_params, lgb_train,\n",
    "                  valid_sets=[lgb_validate],\n",
    "                  num_boost_round=lgb_params_num_boost_round,\n",
    "                  early_stopping_rounds=lgb_params_early_stopping_rounds,\n",
    "                  feval=lgbm_error_rate,\n",
    "                  verbose_eval=100)\n",
    "    \n",
    "    y_pred_validate =model.predict(X_validate) #Create predictions on test set\n",
    "    er_validate = metricas.error_rate(y_validate,y_pred_validate)\n",
    "    \n",
    "    GLOBAL_PARAMS_ITER.append(lgb_params)\n",
    "    GLOBAL_BEST_IT_ITER.append(model.best_iteration)\n",
    "    GLOBAL_ER_VALIDATE_ITER.append(er_validate)\n",
    "    GLOBAL_MODEL_ITER.append(model)\n",
    "    \n",
    "    return er_validate"
   ]
  },
  {
   "cell_type": "code",
   "execution_count": 6,
   "id": "53ccdb1f-2f93-4bb9-9f57-9bdf50c4251f",
   "metadata": {},
   "outputs": [],
   "source": [
    "##############################################"
   ]
  },
  {
   "cell_type": "code",
   "execution_count": 7,
   "id": "71aa4bfe-d204-451c-85fe-ae97ee3d0248",
   "metadata": {},
   "outputs": [
    {
     "name": "stdout",
     "output_type": "stream",
     "text": [
      "<class 'pandas.core.frame.DataFrame'>\n",
      "RangeIndex: 34707 entries, 0 to 34706\n",
      "Data columns (total 86 columns):\n",
      " #   Column                        Non-Null Count  Dtype  \n",
      "---  ------                        --------------  -----  \n",
      " 0   product_id                    34707 non-null  int64  \n",
      " 1   periodo                       34707 non-null  int64  \n",
      " 2   tn                            34707 non-null  float64\n",
      " 3   cero_ventas                   34707 non-null  int64  \n",
      " 4   cust_request_qty              34707 non-null  float64\n",
      " 5   cust_request_tn               34707 non-null  float64\n",
      " 6   mes                           34707 non-null  int64  \n",
      " 7   producto_estrella             34707 non-null  float64\n",
      " 8   plan_precios_cuidados         34707 non-null  float64\n",
      " 9   meses_historia_prod           34707 non-null  int64  \n",
      " 10  cat1                          34707 non-null  object \n",
      " 11  cat2                          34707 non-null  object \n",
      " 12  cat3                          34707 non-null  object \n",
      " 13  sku_size                      34707 non-null  float64\n",
      " 14  temp_media                    34707 non-null  float64\n",
      " 15  temp_min_media                34707 non-null  float64\n",
      " 16  temp_max_media                34707 non-null  float64\n",
      " 17  IPC                           34707 non-null  float64\n",
      " 18  promedio_mens_dolar_venta     34707 non-null  float64\n",
      " 19  catastrofe                    34707 non-null  bool   \n",
      " 20  tn_mas_2                      32244 non-null  float64\n",
      " 21  dif_cust_request_tn           34707 non-null  float64\n",
      " 22  dif_cust_request_tn_porc      34707 non-null  float64\n",
      " 23  product_id_tn_rolling_std_1   33474 non-null  float64\n",
      " 24  product_id_tn_rolling_std_2   32244 non-null  float64\n",
      " 25  product_id_tn_rolling_std_3   31015 non-null  float64\n",
      " 26  product_id_tn_rolling_std_4   29825 non-null  float64\n",
      " 27  product_id_tn_rolling_std_5   28660 non-null  float64\n",
      " 28  product_id_tn_rolling_std_6   27519 non-null  float64\n",
      " 29  product_id_tn_rolling_std_7   26400 non-null  float64\n",
      " 30  product_id_tn_rolling_std_8   25295 non-null  float64\n",
      " 31  product_id_tn_rolling_std_9   24224 non-null  float64\n",
      " 32  product_id_tn_rolling_std_10  23169 non-null  float64\n",
      " 33  product_id_tn_rolling_std_11  22118 non-null  float64\n",
      " 34  product_id_tn_rolling_std_12  21067 non-null  float64\n",
      " 35  product_id_tn_rolling_std_13  20016 non-null  float64\n",
      " 36  product_id_tn_rolling_std_14  18977 non-null  float64\n",
      " 37  product_id_tn_rolling_std_15  17962 non-null  float64\n",
      " 38  cat1_tn                       34707 non-null  float64\n",
      " 39  cat1_tn_rolling_std_1         33922 non-null  float64\n",
      " 40  cat1_tn_rolling_std_2         33130 non-null  float64\n",
      " 41  cat1_tn_rolling_std_3         32328 non-null  float64\n",
      " 42  cat1_tn_rolling_std_4         31520 non-null  float64\n",
      " 43  cat1_tn_rolling_std_5         30696 non-null  float64\n",
      " 44  cat1_tn_rolling_std_6         29855 non-null  float64\n",
      " 45  cat1_tn_rolling_std_7         28991 non-null  float64\n",
      " 46  cat1_tn_rolling_std_8         28114 non-null  float64\n",
      " 47  cat1_tn_rolling_std_9         27230 non-null  float64\n",
      " 48  cat1_tn_rolling_std_10        26319 non-null  float64\n",
      " 49  cat1_tn_rolling_std_11        25388 non-null  float64\n",
      " 50  cat1_tn_rolling_std_12        24457 non-null  float64\n",
      " 51  cat1_tn_rolling_std_13        23521 non-null  float64\n",
      " 52  cat1_tn_rolling_std_14        22580 non-null  float64\n",
      " 53  cat1_tn_rolling_std_15        21630 non-null  float64\n",
      " 54  cat2_tn                       34707 non-null  float64\n",
      " 55  cat2_tn_rolling_std_1         33922 non-null  float64\n",
      " 56  cat2_tn_rolling_std_2         33130 non-null  float64\n",
      " 57  cat2_tn_rolling_std_3         32328 non-null  float64\n",
      " 58  cat2_tn_rolling_std_4         31520 non-null  float64\n",
      " 59  cat2_tn_rolling_std_5         30696 non-null  float64\n",
      " 60  cat2_tn_rolling_std_6         29855 non-null  float64\n",
      " 61  cat2_tn_rolling_std_7         28991 non-null  float64\n",
      " 62  cat2_tn_rolling_std_8         28114 non-null  float64\n",
      " 63  cat2_tn_rolling_std_9         27230 non-null  float64\n",
      " 64  cat2_tn_rolling_std_10        26319 non-null  float64\n",
      " 65  cat2_tn_rolling_std_11        25388 non-null  float64\n",
      " 66  cat2_tn_rolling_std_12        24457 non-null  float64\n",
      " 67  cat2_tn_rolling_std_13        23521 non-null  float64\n",
      " 68  cat2_tn_rolling_std_14        22580 non-null  float64\n",
      " 69  cat2_tn_rolling_std_15        21630 non-null  float64\n",
      " 70  cat3_tn                       34707 non-null  float64\n",
      " 71  cat3_tn_rolling_std_1         33856 non-null  float64\n",
      " 72  cat3_tn_rolling_std_2         33000 non-null  float64\n",
      " 73  cat3_tn_rolling_std_3         32133 non-null  float64\n",
      " 74  cat3_tn_rolling_std_4         31264 non-null  float64\n",
      " 75  cat3_tn_rolling_std_5         30384 non-null  float64\n",
      " 76  cat3_tn_rolling_std_6         29487 non-null  float64\n",
      " 77  cat3_tn_rolling_std_7         28577 non-null  float64\n",
      " 78  cat3_tn_rolling_std_8         27657 non-null  float64\n",
      " 79  cat3_tn_rolling_std_9         26731 non-null  float64\n",
      " 80  cat3_tn_rolling_std_10        25781 non-null  float64\n",
      " 81  cat3_tn_rolling_std_11        24820 non-null  float64\n",
      " 82  cat3_tn_rolling_std_12        23858 non-null  float64\n",
      " 83  cat3_tn_rolling_std_13        22890 non-null  float64\n",
      " 84  cat3_tn_rolling_std_14        21923 non-null  float64\n",
      " 85  cat3_tn_rolling_std_15        20953 non-null  float64\n",
      "dtypes: bool(1), float64(77), int64(5), object(3)\n",
      "memory usage: 22.5+ MB\n"
     ]
    }
   ],
   "source": [
    "df_sellout = pd.read_csv(arch_entrada)\n",
    "df_sellout.info()"
   ]
  },
  {
   "cell_type": "code",
   "execution_count": 8,
   "id": "eada627a-f5e2-4e9d-acba-39638a54cbbb",
   "metadata": {},
   "outputs": [
    {
     "name": "stdout",
     "output_type": "stream",
     "text": [
      "<class 'pandas.core.frame.DataFrame'>\n",
      "RangeIndex: 868 entries, 0 to 867\n",
      "Data columns (total 1 columns):\n",
      " #   Column      Non-Null Count  Dtype\n",
      "---  ------      --------------  -----\n",
      " 0   product_id  868 non-null    int64\n",
      "dtypes: int64(1)\n",
      "memory usage: 6.9 KB\n"
     ]
    }
   ],
   "source": [
    "df_prods_prediccion_entren=pd.read_csv(config.ARCH_PRODUCTOS_PREDICCION_ENTRENAMIENTO)\n",
    "df_prods_prediccion_entren.info()"
   ]
  },
  {
   "cell_type": "code",
   "execution_count": 9,
   "id": "410062a1-3b44-4d5a-8a2b-5832f25f669e",
   "metadata": {},
   "outputs": [],
   "source": [
    "### Categoricas\n",
    "df_sellout = extras.convertir_categoricas_prod(df_sellout)"
   ]
  },
  {
   "cell_type": "code",
   "execution_count": 10,
   "id": "5f866703-ece7-4986-93aa-84b957781f3f",
   "metadata": {},
   "outputs": [
    {
     "name": "stdout",
     "output_type": "stream",
     "text": [
      "Periodos entrenar: [201701 201702 201703 201704 201705 201706 201707 201708 201709 201710\n",
      " 201711 201712 201801 201802 201803 201804 201805 201806 201807 201808\n",
      " 201809 201810]\n",
      "Periodos validar: [201812]\n",
      "product_id a validar: 868\n"
     ]
    }
   ],
   "source": [
    "### Split de datasets\n",
    "df_train = df_sellout[(df_sellout.periodo <= config.TRAIN_PERIODO_LIMITE_PARAM) & (df_sellout.periodo >= config.PERIODO_INICIO_PARAM)]\n",
    "df_validate = df_sellout[(df_sellout.product_id.isin(df_prods_prediccion_entren.product_id)) & (df_sellout.periodo == config.VALIDATE_PERIODO_PARAM)]\n",
    "\n",
    "print(\"Periodos entrenar:\",df_train.periodo.unique())\n",
    "print(\"Periodos validar:\",df_validate.periodo.unique())\n",
    "\n",
    "df_validate = df_validate.sort_values(by=\"product_id\",ascending=True)\n",
    "print(\"product_id a validar:\", len(df_validate))"
   ]
  },
  {
   "cell_type": "code",
   "execution_count": 11,
   "id": "7f5f95f4-44a3-46b9-9683-df39935b83b7",
   "metadata": {},
   "outputs": [
    {
     "name": "stdout",
     "output_type": "stream",
     "text": [
      "X_train: (20016, 84)\n",
      "y_train: (20016,)\n",
      "\n",
      "X_validate: (868, 84)\n",
      "y_validate: (868,)\n"
     ]
    }
   ],
   "source": [
    "### Armado variables entrenamiento\n",
    "cols_remover_entren = [\"tn_mas_2\",\"periodo\"]\n",
    "\n",
    "# Train - Validate\n",
    "X_train = df_train.drop(columns=cols_remover_entren, axis=1)\n",
    "X_validate = df_validate.drop(columns=cols_remover_entren, axis=1)\n",
    "\n",
    "y_train = df_train.tn_mas_2\n",
    "y_validate = df_validate.tn_mas_2\n",
    "\n",
    "print(\"X_train:\", X_train.shape)\n",
    "print(\"y_train:\", y_train.shape)\n",
    "\n",
    "print(\"\\nX_validate:\", X_validate.shape)\n",
    "print(\"y_validate:\", y_validate.shape)\n",
    "\n",
    "cols_entren = X_train.columns.tolist()"
   ]
  },
  {
   "cell_type": "code",
   "execution_count": null,
   "id": "f77112b6-dc5c-4227-ac0f-0a4e3bab3943",
   "metadata": {},
   "outputs": [
    {
     "name": "stderr",
     "output_type": "stream",
     "text": [
      "[I 2023-12-11 15:32:54,239] A new study created in memory with name: no-name-dc46c6dc-bd13-4210-94a2-2e27527ac0c7\n"
     ]
    },
    {
     "name": "stdout",
     "output_type": "stream",
     "text": [
      "**************** regression ****************\n",
      "Training until validation scores don't improve for 73 rounds\n",
      "[100]\tvalid_0's ER: 56.03\n",
      "[200]\tvalid_0's ER: 52.65\n",
      "[300]\tvalid_0's ER: 51.49\n"
     ]
    },
    {
     "name": "stderr",
     "output_type": "stream",
     "text": [
      "[I 2023-12-11 15:32:55,529] Trial 0 finished with value: 50.95 and parameters: {'lambda_l1': 529.5886137116597, 'lambda_l2': 686.0466430830945, 'learning_rate': 0.2122572338860103, 'num_leaves': 885, 'feature_fraction': 0.7420799556258064, 'min_data_in_leaf': 6640}. Best is trial 0 with value: 50.95.\n"
     ]
    },
    {
     "name": "stdout",
     "output_type": "stream",
     "text": [
      "[400]\tvalid_0's ER: 51.14\n",
      "Early stopping, best iteration is:\n",
      "[388]\tvalid_0's ER: 50.95\n",
      "Evaluated only: ER\n",
      "**************** regression ****************\n",
      "Training until validation scores don't improve for 69 rounds\n",
      "[100]\tvalid_0's ER: 51.98\n"
     ]
    },
    {
     "name": "stderr",
     "output_type": "stream",
     "text": [
      "[I 2023-12-11 15:32:56,017] Trial 1 finished with value: 50.34 and parameters: {'lambda_l1': 56.44785272608288, 'lambda_l2': 758.1110294104332, 'learning_rate': 0.2558334893270708, 'num_leaves': 676, 'feature_fraction': 0.3935502779557843, 'min_data_in_leaf': 5882}. Best is trial 1 with value: 50.34.\n"
     ]
    },
    {
     "name": "stdout",
     "output_type": "stream",
     "text": [
      "[200]\tvalid_0's ER: 51.57\n",
      "Early stopping, best iteration is:\n",
      "[136]\tvalid_0's ER: 50.34\n",
      "Evaluated only: ER\n",
      "**************** regression ****************\n",
      "Training until validation scores don't improve for 87 rounds\n",
      "[100]\tvalid_0's ER: 27.58\n",
      "[200]\tvalid_0's ER: 27.18\n",
      "[300]\tvalid_0's ER: 27.08\n"
     ]
    },
    {
     "name": "stderr",
     "output_type": "stream",
     "text": [
      "[I 2023-12-11 15:32:59,917] Trial 2 finished with value: 26.79 and parameters: {'lambda_l1': 261.5439040527991, 'lambda_l2': 430.93800790985904, 'learning_rate': 0.13175642606589244, 'num_leaves': 339, 'feature_fraction': 0.5496702102724926, 'min_data_in_leaf': 211}. Best is trial 2 with value: 26.79.\n"
     ]
    },
    {
     "name": "stdout",
     "output_type": "stream",
     "text": [
      "Early stopping, best iteration is:\n",
      "[252]\tvalid_0's ER: 26.79\n",
      "Evaluated only: ER\n",
      "**************** regression ****************\n",
      "Training until validation scores don't improve for 76 rounds\n",
      "[100]\tvalid_0's ER: 53.62\n",
      "[200]\tvalid_0's ER: 50.35\n",
      "[300]\tvalid_0's ER: 49.3\n"
     ]
    },
    {
     "name": "stderr",
     "output_type": "stream",
     "text": [
      "[I 2023-12-11 15:33:01,098] Trial 3 finished with value: 48.68 and parameters: {'lambda_l1': 599.4331164478059, 'lambda_l2': 200.30810075898265, 'learning_rate': 0.19224571993338335, 'num_leaves': 89, 'feature_fraction': 0.651432099918581, 'min_data_in_leaf': 6450}. Best is trial 2 with value: 26.79.\n"
     ]
    },
    {
     "name": "stdout",
     "output_type": "stream",
     "text": [
      "[400]\tvalid_0's ER: 48.9\n",
      "Early stopping, best iteration is:\n",
      "[394]\tvalid_0's ER: 48.68\n",
      "Evaluated only: ER\n",
      "**************** regression ****************\n",
      "Training until validation scores don't improve for 95 rounds\n",
      "[100]\tvalid_0's ER: 64.7\n",
      "[200]\tvalid_0's ER: 61.03\n",
      "[300]\tvalid_0's ER: 59.25\n",
      "[400]\tvalid_0's ER: 57.85\n",
      "[500]\tvalid_0's ER: 57.13\n",
      "[600]\tvalid_0's ER: 56.51\n",
      "[700]\tvalid_0's ER: 56.15\n",
      "[800]\tvalid_0's ER: 55.29\n",
      "[900]\tvalid_0's ER: 55.05\n",
      "[1000]\tvalid_0's ER: 54.92\n",
      "[1100]\tvalid_0's ER: 54.81\n"
     ]
    },
    {
     "name": "stderr",
     "output_type": "stream",
     "text": [
      "[I 2023-12-11 15:33:04,568] Trial 4 finished with value: 54.74 and parameters: {'lambda_l1': 498.10175393568744, 'lambda_l2': 453.3051282969073, 'learning_rate': 0.11014160073048335, 'num_leaves': 858, 'feature_fraction': 0.8510356295967927, 'min_data_in_leaf': 7328}. Best is trial 2 with value: 26.79.\n"
     ]
    },
    {
     "name": "stdout",
     "output_type": "stream",
     "text": [
      "[1200]\tvalid_0's ER: 54.93\n",
      "Early stopping, best iteration is:\n",
      "[1152]\tvalid_0's ER: 54.74\n",
      "Evaluated only: ER\n",
      "**************** regression ****************\n",
      "Training until validation scores don't improve for 129 rounds\n",
      "[100]\tvalid_0's ER: 61.73\n",
      "[200]\tvalid_0's ER: 55.76\n",
      "[300]\tvalid_0's ER: 53.64\n",
      "[400]\tvalid_0's ER: 52.74\n",
      "[500]\tvalid_0's ER: 51.75\n",
      "[600]\tvalid_0's ER: 50.88\n",
      "[700]\tvalid_0's ER: 50.2\n",
      "[800]\tvalid_0's ER: 49.93\n",
      "[900]\tvalid_0's ER: 49.5\n",
      "[1000]\tvalid_0's ER: 49.21\n",
      "[1100]\tvalid_0's ER: 49.04\n",
      "Early stopping, best iteration is:\n",
      "[1054]\tvalid_0's ER: 48.96\n",
      "Evaluated only: ER\n"
     ]
    },
    {
     "name": "stderr",
     "output_type": "stream",
     "text": [
      "[I 2023-12-11 15:33:07,605] Trial 5 finished with value: 48.96 and parameters: {'lambda_l1': 490.2700212630581, 'lambda_l2': 780.860850500334, 'learning_rate': 0.0632607467644285, 'num_leaves': 545, 'feature_fraction': 0.7922195837617825, 'min_data_in_leaf': 6382}. Best is trial 2 with value: 26.79.\n"
     ]
    },
    {
     "name": "stdout",
     "output_type": "stream",
     "text": [
      "**************** regression ****************\n",
      "Training until validation scores don't improve for 72 rounds\n",
      "[100]\tvalid_0's ER: 51.89\n"
     ]
    },
    {
     "name": "stderr",
     "output_type": "stream",
     "text": [
      "[I 2023-12-11 15:33:08,378] Trial 6 finished with value: 49.68 and parameters: {'lambda_l1': 324.1094651871109, 'lambda_l2': 849.6595028011178, 'learning_rate': 0.2179000207288346, 'num_leaves': 911, 'feature_fraction': 0.6984803760601872, 'min_data_in_leaf': 5828}. Best is trial 2 with value: 26.79.\n"
     ]
    },
    {
     "name": "stdout",
     "output_type": "stream",
     "text": [
      "[200]\tvalid_0's ER: 51.18\n",
      "Early stopping, best iteration is:\n",
      "[167]\tvalid_0's ER: 49.68\n",
      "Evaluated only: ER\n",
      "**************** regression ****************\n",
      "Training until validation scores don't improve for 114 rounds\n",
      "[100]\tvalid_0's ER: 42.37\n",
      "[200]\tvalid_0's ER: 41.19\n",
      "[300]\tvalid_0's ER: 40.21\n",
      "[400]\tvalid_0's ER: 39.64\n",
      "[500]\tvalid_0's ER: 39.26\n",
      "[600]\tvalid_0's ER: 39.3\n",
      "[700]\tvalid_0's ER: 38.85\n",
      "[800]\tvalid_0's ER: 38.71\n"
     ]
    },
    {
     "name": "stderr",
     "output_type": "stream",
     "text": [
      "[I 2023-12-11 15:33:14,497] Trial 7 finished with value: 38.7 and parameters: {'lambda_l1': 211.73708445895045, 'lambda_l2': 321.037280406139, 'learning_rate': 0.0775347801570902, 'num_leaves': 203, 'feature_fraction': 0.744232915445245, 'min_data_in_leaf': 1429}. Best is trial 2 with value: 26.79.\n"
     ]
    },
    {
     "name": "stdout",
     "output_type": "stream",
     "text": [
      "[900]\tvalid_0's ER: 38.96\n",
      "Early stopping, best iteration is:\n",
      "[799]\tvalid_0's ER: 38.7\n",
      "Evaluated only: ER\n",
      "**************** regression ****************\n",
      "Training until validation scores don't improve for 83 rounds\n",
      "[100]\tvalid_0's ER: 28.1\n",
      "[200]\tvalid_0's ER: 27.11\n"
     ]
    },
    {
     "name": "stderr",
     "output_type": "stream",
     "text": [
      "[I 2023-12-11 15:33:18,840] Trial 8 finished with value: 26.96 and parameters: {'lambda_l1': 87.70821991550449, 'lambda_l2': 915.174910787163, 'learning_rate': 0.14995731255445555, 'num_leaves': 991, 'feature_fraction': 0.866822994130465, 'min_data_in_leaf': 302}. Best is trial 2 with value: 26.79.\n"
     ]
    },
    {
     "name": "stdout",
     "output_type": "stream",
     "text": [
      "Early stopping, best iteration is:\n",
      "[183]\tvalid_0's ER: 26.96\n",
      "Evaluated only: ER\n",
      "**************** regression ****************\n",
      "Training until validation scores don't improve for 80 rounds\n",
      "[100]\tvalid_0's ER: 63.48\n",
      "[200]\tvalid_0's ER: 59.97\n",
      "[300]\tvalid_0's ER: 58.92\n",
      "[400]\tvalid_0's ER: 58.18\n",
      "[500]\tvalid_0's ER: 57.22\n",
      "[600]\tvalid_0's ER: 56.83\n"
     ]
    },
    {
     "name": "stderr",
     "output_type": "stream",
     "text": [
      "[I 2023-12-11 15:33:20,002] Trial 9 finished with value: 56.4 and parameters: {'lambda_l1': 431.4779332348312, 'lambda_l2': 660.7879726653192, 'learning_rate': 0.1632431240329774, 'num_leaves': 236, 'feature_fraction': 0.307185965235211, 'min_data_in_leaf': 7407}. Best is trial 2 with value: 26.79.\n"
     ]
    },
    {
     "name": "stdout",
     "output_type": "stream",
     "text": [
      "[700]\tvalid_0's ER: 56.82\n",
      "[800]\tvalid_0's ER: 56.83\n",
      "Early stopping, best iteration is:\n",
      "[761]\tvalid_0's ER: 56.4\n",
      "Evaluated only: ER\n",
      "**************** regression ****************\n",
      "Training until validation scores don't improve for 225 rounds\n",
      "[100]\tvalid_0's ER: 54.41\n",
      "[200]\tvalid_0's ER: 55.69\n"
     ]
    },
    {
     "name": "stderr",
     "output_type": "stream",
     "text": [
      "[I 2023-12-11 15:33:21,135] Trial 10 finished with value: 54.23 and parameters: {'lambda_l1': 807.625198694137, 'lambda_l2': 100.43442111455403, 'learning_rate': 0.02854157393764714, 'num_leaves': 367, 'feature_fraction': 0.507623578896002, 'min_data_in_leaf': 3044}. Best is trial 2 with value: 26.79.\n"
     ]
    },
    {
     "name": "stdout",
     "output_type": "stream",
     "text": [
      "[300]\tvalid_0's ER: 55.29\n",
      "Early stopping, best iteration is:\n",
      "[111]\tvalid_0's ER: 54.23\n",
      "Evaluated only: ER\n",
      "**************** regression ****************\n",
      "Training until validation scores don't improve for 89 rounds\n",
      "[100]\tvalid_0's ER: 29.39\n",
      "[200]\tvalid_0's ER: 27.24\n",
      "[300]\tvalid_0's ER: 27.04\n"
     ]
    },
    {
     "name": "stderr",
     "output_type": "stream",
     "text": [
      "[I 2023-12-11 15:33:31,454] Trial 11 finished with value: 26.98 and parameters: {'lambda_l1': 17.487321963061447, 'lambda_l2': 956.2581532625129, 'learning_rate': 0.12630203928285452, 'num_leaves': 480, 'feature_fraction': 0.9797573430483999, 'min_data_in_leaf': 133}. Best is trial 2 with value: 26.79.\n"
     ]
    },
    {
     "name": "stdout",
     "output_type": "stream",
     "text": [
      "Early stopping, best iteration is:\n",
      "[276]\tvalid_0's ER: 26.98\n",
      "Evaluated only: ER\n",
      "**************** regression ****************\n",
      "Training until validation scores don't improve for 85 rounds\n",
      "[100]\tvalid_0's ER: 28.09\n",
      "[200]\tvalid_0's ER: 27.2\n",
      "[300]\tvalid_0's ER: 26.95\n"
     ]
    },
    {
     "name": "stderr",
     "output_type": "stream",
     "text": [
      "[I 2023-12-11 15:33:39,361] Trial 12 finished with value: 26.83 and parameters: {'lambda_l1': 176.98621273492313, 'lambda_l2': 548.2771222984433, 'learning_rate': 0.140429580101097, 'num_leaves': 676, 'feature_fraction': 0.570148361335449, 'min_data_in_leaf': 44}. Best is trial 2 with value: 26.79.\n"
     ]
    },
    {
     "name": "stdout",
     "output_type": "stream",
     "text": [
      "Early stopping, best iteration is:\n",
      "[246]\tvalid_0's ER: 26.83\n",
      "Evaluated only: ER\n",
      "**************** regression ****************\n",
      "Training until validation scores don't improve for 66 rounds\n",
      "[100]\tvalid_0's ER: 45.59\n",
      "[200]\tvalid_0's ER: 43.02\n",
      "[300]\tvalid_0's ER: 40.64\n",
      "[400]\tvalid_0's ER: 39.93\n",
      "[500]\tvalid_0's ER: 38.61\n",
      "[600]\tvalid_0's ER: 37.31\n",
      "[700]\tvalid_0's ER: 36.9\n",
      "[800]\tvalid_0's ER: 36.47\n",
      "[900]\tvalid_0's ER: 36.12\n",
      "[1000]\tvalid_0's ER: 35.95\n",
      "[1100]\tvalid_0's ER: 35.34\n",
      "[1200]\tvalid_0's ER: 35.08\n",
      "[1300]\tvalid_0's ER: 34.81\n"
     ]
    },
    {
     "name": "stderr",
     "output_type": "stream",
     "text": [
      "[I 2023-12-11 15:33:44,723] Trial 13 finished with value: 34.56 and parameters: {'lambda_l1': 216.17593135639936, 'lambda_l2': 513.5555537262323, 'learning_rate': 0.29494872834932206, 'num_leaves': 658, 'feature_fraction': 0.5448320434322357, 'min_data_in_leaf': 2181}. Best is trial 2 with value: 26.79.\n"
     ]
    },
    {
     "name": "stdout",
     "output_type": "stream",
     "text": [
      "Early stopping, best iteration is:\n",
      "[1318]\tvalid_0's ER: 34.56\n",
      "Evaluated only: ER\n",
      "**************** regression ****************\n",
      "Training until validation scores don't improve for 94 rounds\n",
      "[100]\tvalid_0's ER: 55.23\n",
      "[200]\tvalid_0's ER: 52.24\n",
      "[300]\tvalid_0's ER: 49.45\n",
      "[400]\tvalid_0's ER: 47.97\n",
      "[500]\tvalid_0's ER: 47.13\n",
      "[600]\tvalid_0's ER: 46.32\n",
      "[700]\tvalid_0's ER: 45.55\n",
      "[800]\tvalid_0's ER: 44.55\n",
      "[900]\tvalid_0's ER: 43.73\n",
      "[1000]\tvalid_0's ER: 43.07\n",
      "[1100]\tvalid_0's ER: 42.48\n",
      "[1200]\tvalid_0's ER: 42.06\n",
      "[1300]\tvalid_0's ER: 41.66\n",
      "[1400]\tvalid_0's ER: 41.49\n",
      "[1500]\tvalid_0's ER: 41.25\n",
      "[1600]\tvalid_0's ER: 40.98\n",
      "[1700]\tvalid_0's ER: 40.74\n",
      "[1800]\tvalid_0's ER: 40.66\n",
      "[1900]\tvalid_0's ER: 40.58\n",
      "[2000]\tvalid_0's ER: 40.3\n",
      "[2100]\tvalid_0's ER: 40.08\n",
      "[2200]\tvalid_0's ER: 39.83\n",
      "[2300]\tvalid_0's ER: 39.53\n",
      "[2400]\tvalid_0's ER: 39.49\n",
      "[2500]\tvalid_0's ER: 39.13\n",
      "[2600]\tvalid_0's ER: 38.77\n",
      "[2700]\tvalid_0's ER: 38.68\n",
      "[2800]\tvalid_0's ER: 38.46\n",
      "[2900]\tvalid_0's ER: 38.39\n",
      "[3000]\tvalid_0's ER: 38.16\n",
      "[3100]\tvalid_0's ER: 38.04\n"
     ]
    },
    {
     "name": "stderr",
     "output_type": "stream",
     "text": [
      "[I 2023-12-11 15:33:53,910] Trial 14 finished with value: 37.95 and parameters: {'lambda_l1': 244.245399549492, 'lambda_l2': 444.54673568900733, 'learning_rate': 0.11316404429442767, 'num_leaves': 699, 'feature_fraction': 0.5886501350375044, 'min_data_in_leaf': 4079}. Best is trial 2 with value: 26.79.\n"
     ]
    },
    {
     "name": "stdout",
     "output_type": "stream",
     "text": [
      "[3200]\tvalid_0's ER: 38.12\n",
      "Early stopping, best iteration is:\n",
      "[3118]\tvalid_0's ER: 37.95\n",
      "Evaluated only: ER\n",
      "**************** regression ****************\n",
      "Training until validation scores don't improve for 83 rounds\n",
      "[100]\tvalid_0's ER: 38.81\n",
      "[200]\tvalid_0's ER: 36.26\n",
      "[300]\tvalid_0's ER: 35.44\n"
     ]
    },
    {
     "name": "stderr",
     "output_type": "stream",
     "text": [
      "[I 2023-12-11 15:33:56,018] Trial 15 finished with value: 34.84 and parameters: {'lambda_l1': 332.7909324918515, 'lambda_l2': 580.455407297702, 'learning_rate': 0.1506775391413057, 'num_leaves': 405, 'feature_fraction': 0.4662579962725304, 'min_data_in_leaf': 1204}. Best is trial 2 with value: 26.79.\n"
     ]
    },
    {
     "name": "stdout",
     "output_type": "stream",
     "text": [
      "[400]\tvalid_0's ER: 35.19\n",
      "Early stopping, best iteration is:\n",
      "[340]\tvalid_0's ER: 34.84\n",
      "Evaluated only: ER\n",
      "**************** regression ****************\n",
      "Training until validation scores don't improve for 109 rounds\n",
      "[100]\tvalid_0's ER: 58.05\n",
      "[200]\tvalid_0's ER: 53.46\n",
      "[300]\tvalid_0's ER: 51.16\n",
      "[400]\tvalid_0's ER: 49.85\n",
      "[500]\tvalid_0's ER: 48.8\n",
      "[600]\tvalid_0's ER: 48.5\n",
      "[700]\tvalid_0's ER: 47.96\n",
      "[800]\tvalid_0's ER: 46.86\n",
      "[900]\tvalid_0's ER: 46.3\n",
      "[1000]\tvalid_0's ER: 45.56\n",
      "[1100]\tvalid_0's ER: 45.13\n",
      "[1200]\tvalid_0's ER: 44.54\n",
      "[1300]\tvalid_0's ER: 44.11\n",
      "[1400]\tvalid_0's ER: 43.72\n",
      "[1500]\tvalid_0's ER: 43.37\n",
      "[1600]\tvalid_0's ER: 43.07\n",
      "[1700]\tvalid_0's ER: 42.98\n",
      "[1800]\tvalid_0's ER: 42.84\n",
      "[1900]\tvalid_0's ER: 42.67\n",
      "[2000]\tvalid_0's ER: 42.55\n",
      "[2100]\tvalid_0's ER: 42.32\n",
      "[2200]\tvalid_0's ER: 42.1\n",
      "[2300]\tvalid_0's ER: 41.9\n",
      "[2400]\tvalid_0's ER: 41.73\n",
      "[2500]\tvalid_0's ER: 41.56\n",
      "[2600]\tvalid_0's ER: 41.2\n",
      "[2700]\tvalid_0's ER: 41.04\n",
      "[2800]\tvalid_0's ER: 40.85\n",
      "[2900]\tvalid_0's ER: 40.62\n",
      "[3000]\tvalid_0's ER: 40.34\n",
      "[3100]\tvalid_0's ER: 40.1\n",
      "[3200]\tvalid_0's ER: 39.96\n",
      "[3300]\tvalid_0's ER: 39.88\n",
      "[3400]\tvalid_0's ER: 39.59\n",
      "[3500]\tvalid_0's ER: 39.38\n",
      "[3600]\tvalid_0's ER: 39.34\n",
      "[3700]\tvalid_0's ER: 39.26\n",
      "[3800]\tvalid_0's ER: 39.12\n",
      "[3900]\tvalid_0's ER: 39.02\n",
      "[4000]\tvalid_0's ER: 38.91\n",
      "[4100]\tvalid_0's ER: 38.85\n",
      "[4200]\tvalid_0's ER: 38.8\n",
      "Early stopping, best iteration is:\n",
      "[4127]\tvalid_0's ER: 38.72\n",
      "Evaluated only: ER\n"
     ]
    },
    {
     "name": "stderr",
     "output_type": "stream",
     "text": [
      "[I 2023-12-11 15:34:10,152] Trial 16 finished with value: 38.72 and parameters: {'lambda_l1': 141.93083683685836, 'lambda_l2': 342.32172385893386, 'learning_rate': 0.08462641941642177, 'num_leaves': 268, 'feature_fraction': 0.6023815730035774, 'min_data_in_leaf': 3691}. Best is trial 2 with value: 26.79.\n"
     ]
    },
    {
     "name": "stdout",
     "output_type": "stream",
     "text": [
      "**************** regression ****************\n",
      "Training until validation scores don't improve for 508 rounds\n",
      "[100]\tvalid_0's ER: 60.96\n",
      "[200]\tvalid_0's ER: 40.58\n",
      "[300]\tvalid_0's ER: 38.01\n",
      "[400]\tvalid_0's ER: 38.44\n",
      "[500]\tvalid_0's ER: 39.23\n",
      "[600]\tvalid_0's ER: 39.9\n",
      "[700]\tvalid_0's ER: 40.25\n",
      "[800]\tvalid_0's ER: 40.06\n"
     ]
    },
    {
     "name": "stderr",
     "output_type": "stream",
     "text": [
      "[I 2023-12-11 15:34:13,799] Trial 17 finished with value: 37.9 and parameters: {'lambda_l1': 7.644923959601499, 'lambda_l2': 571.9101787357646, 'learning_rate': 0.010916996559839964, 'num_leaves': 27, 'feature_fraction': 0.4505072233165552, 'min_data_in_leaf': 1136}. Best is trial 2 with value: 26.79.\n"
     ]
    },
    {
     "name": "stdout",
     "output_type": "stream",
     "text": [
      "Early stopping, best iteration is:\n",
      "[340]\tvalid_0's ER: 37.9\n",
      "Evaluated only: ER\n",
      "**************** regression ****************\n",
      "Training until validation scores don't improve for 78 rounds\n"
     ]
    },
    {
     "name": "stderr",
     "output_type": "stream",
     "text": [
      "[I 2023-12-11 15:34:14,198] Trial 18 finished with value: 45.9 and parameters: {'lambda_l1': 149.56917545598304, 'lambda_l2': 15.328250831138064, 'learning_rate': 0.17628692439598354, 'num_leaves': 528, 'feature_fraction': 0.256400199116692, 'min_data_in_leaf': 2157}. Best is trial 2 with value: 26.79.\n"
     ]
    },
    {
     "name": "stdout",
     "output_type": "stream",
     "text": [
      "Early stopping, best iteration is:\n",
      "[18]\tvalid_0's ER: 45.9\n",
      "Evaluated only: ER\n",
      "**************** regression ****************\n",
      "Training until validation scores don't improve for 85 rounds\n",
      "[100]\tvalid_0's ER: 25.82\n",
      "[200]\tvalid_0's ER: 25.42\n"
     ]
    },
    {
     "name": "stderr",
     "output_type": "stream",
     "text": [
      "[I 2023-12-11 15:34:20,254] Trial 19 finished with value: 25.35 and parameters: {'lambda_l1': 302.79268142588865, 'lambda_l2': 348.0497511898205, 'learning_rate': 0.13939286348275323, 'num_leaves': 785, 'feature_fraction': 0.6240015966120067, 'min_data_in_leaf': 57}. Best is trial 19 with value: 25.35.\n"
     ]
    },
    {
     "name": "stdout",
     "output_type": "stream",
     "text": [
      "Early stopping, best iteration is:\n",
      "[173]\tvalid_0's ER: 25.35\n",
      "Evaluated only: ER\n",
      "**************** regression ****************\n",
      "Training until validation scores don't improve for 93 rounds\n",
      "[100]\tvalid_0's ER: 55.48\n",
      "[200]\tvalid_0's ER: 52.42\n",
      "[300]\tvalid_0's ER: 51\n"
     ]
    },
    {
     "name": "stderr",
     "output_type": "stream",
     "text": [
      "[I 2023-12-11 15:34:21,771] Trial 20 finished with value: 50.67 and parameters: {'lambda_l1': 340.63180055256964, 'lambda_l2': 321.7183155752097, 'learning_rate': 0.11520090665397575, 'num_leaves': 789, 'feature_fraction': 0.6501746144446783, 'min_data_in_leaf': 4735}. Best is trial 19 with value: 25.35.\n"
     ]
    },
    {
     "name": "stdout",
     "output_type": "stream",
     "text": [
      "[400]\tvalid_0's ER: 51.44\n",
      "Early stopping, best iteration is:\n",
      "[354]\tvalid_0's ER: 50.67\n",
      "Evaluated only: ER\n",
      "**************** regression ****************\n",
      "Training until validation scores don't improve for 86 rounds\n",
      "[100]\tvalid_0's ER: 26.37\n",
      "[200]\tvalid_0's ER: 26\n"
     ]
    },
    {
     "name": "stderr",
     "output_type": "stream",
     "text": [
      "[I 2023-12-11 15:34:25,813] Trial 21 finished with value: 25.84 and parameters: {'lambda_l1': 270.2554533009711, 'lambda_l2': 409.22007842676766, 'learning_rate': 0.13628654033009288, 'num_leaves': 602, 'feature_fraction': 0.5730052661275433, 'min_data_in_leaf': 87}. Best is trial 19 with value: 25.35.\n"
     ]
    },
    {
     "name": "stdout",
     "output_type": "stream",
     "text": [
      "Early stopping, best iteration is:\n",
      "[151]\tvalid_0's ER: 25.84\n",
      "Evaluated only: ER\n",
      "**************** regression ****************\n",
      "Training until validation scores don't improve for 78 rounds\n"
     ]
    },
    {
     "name": "stderr",
     "output_type": "stream",
     "text": [
      "[I 2023-12-11 15:34:26,570] Trial 22 finished with value: 33.17 and parameters: {'lambda_l1': 302.95882817289805, 'lambda_l2': 416.73341782485204, 'learning_rate': 0.1773121397189496, 'num_leaves': 573, 'feature_fraction': 0.5163441787857, 'min_data_in_leaf': 734}. Best is trial 19 with value: 25.35.\n"
     ]
    },
    {
     "name": "stdout",
     "output_type": "stream",
     "text": [
      "Early stopping, best iteration is:\n",
      "[19]\tvalid_0's ER: 33.17\n",
      "Evaluated only: ER\n",
      "**************** regression ****************\n",
      "Training until validation scores don't improve for 89 rounds\n",
      "[100]\tvalid_0's ER: 44.72\n",
      "[200]\tvalid_0's ER: 42.86\n",
      "[300]\tvalid_0's ER: 41.97\n",
      "[400]\tvalid_0's ER: 41.02\n",
      "[500]\tvalid_0's ER: 40.65\n",
      "[600]\tvalid_0's ER: 39.99\n",
      "[700]\tvalid_0's ER: 39.52\n",
      "[800]\tvalid_0's ER: 39\n",
      "[900]\tvalid_0's ER: 38.82\n",
      "[1000]\tvalid_0's ER: 38.39\n",
      "[1100]\tvalid_0's ER: 37.88\n",
      "[1200]\tvalid_0's ER: 37.36\n",
      "[1300]\tvalid_0's ER: 37.46\n",
      "Early stopping, best iteration is:\n",
      "[1238]\tvalid_0's ER: 37.17\n",
      "Evaluated only: ER\n"
     ]
    },
    {
     "name": "stderr",
     "output_type": "stream",
     "text": [
      "[I 2023-12-11 15:34:34,357] Trial 23 finished with value: 37.17 and parameters: {'lambda_l1': 381.6155439948649, 'lambda_l2': 224.5519018321905, 'learning_rate': 0.1276649603321415, 'num_leaves': 354, 'feature_fraction': 0.6303185457384999, 'min_data_in_leaf': 2064}. Best is trial 19 with value: 25.35.\n"
     ]
    },
    {
     "name": "stdout",
     "output_type": "stream",
     "text": [
      "**************** regression ****************\n",
      "Training until validation scores don't improve for 84 rounds\n"
     ]
    },
    {
     "name": "stderr",
     "output_type": "stream",
     "text": [
      "[I 2023-12-11 15:34:35,054] Trial 24 finished with value: 35.04 and parameters: {'lambda_l1': 254.54005780433621, 'lambda_l2': 359.92843251551136, 'learning_rate': 0.1469205875382575, 'num_leaves': 785, 'feature_fraction': 0.3911604996157467, 'min_data_in_leaf': 832}. Best is trial 19 with value: 25.35.\n"
     ]
    },
    {
     "name": "stdout",
     "output_type": "stream",
     "text": [
      "[100]\tvalid_0's ER: 36.35\n",
      "Early stopping, best iteration is:\n",
      "[24]\tvalid_0's ER: 35.04\n",
      "Evaluated only: ER\n",
      "**************** regression ****************\n",
      "Training until validation scores don't improve for 108 rounds\n",
      "[100]\tvalid_0's ER: 45.43\n",
      "[200]\tvalid_0's ER: 43.25\n",
      "[300]\tvalid_0's ER: 42.31\n",
      "[400]\tvalid_0's ER: 42.09\n",
      "[500]\tvalid_0's ER: 41.42\n"
     ]
    },
    {
     "name": "stderr",
     "output_type": "stream",
     "text": [
      "[I 2023-12-11 15:34:37,726] Trial 25 finished with value: 41.29 and parameters: {'lambda_l1': 405.07844560507317, 'lambda_l2': 248.67137821877387, 'learning_rate': 0.08489224528551911, 'num_leaves': 438, 'feature_fraction': 0.5469116886569488, 'min_data_in_leaf': 1804}. Best is trial 19 with value: 25.35.\n"
     ]
    },
    {
     "name": "stdout",
     "output_type": "stream",
     "text": [
      "Early stopping, best iteration is:\n",
      "[488]\tvalid_0's ER: 41.29\n",
      "Evaluated only: ER\n",
      "**************** regression ****************\n",
      "Training until validation scores don't improve for 97 rounds\n"
     ]
    },
    {
     "name": "stderr",
     "output_type": "stream",
     "text": [
      "[I 2023-12-11 15:34:38,454] Trial 26 finished with value: 50.96 and parameters: {'lambda_l1': 266.3684387590133, 'lambda_l2': 478.320169243446, 'learning_rate': 0.10528079034017737, 'num_leaves': 617, 'feature_fraction': 0.6744077086861325, 'min_data_in_leaf': 2876}. Best is trial 19 with value: 25.35.\n"
     ]
    },
    {
     "name": "stdout",
     "output_type": "stream",
     "text": [
      "[100]\tvalid_0's ER: 51.74\n",
      "Early stopping, best iteration is:\n",
      "[31]\tvalid_0's ER: 50.96\n",
      "Evaluated only: ER\n",
      "**************** regression ****************\n",
      "Training until validation scores don't improve for 87 rounds\n",
      "[100]\tvalid_0's ER: 31.07\n",
      "[200]\tvalid_0's ER: 30.42\n"
     ]
    },
    {
     "name": "stderr",
     "output_type": "stream",
     "text": [
      "[I 2023-12-11 15:34:41,139] Trial 27 finished with value: 30.22 and parameters: {'lambda_l1': 110.7471986791673, 'lambda_l2': 404.76895653015515, 'learning_rate': 0.13503382980527495, 'num_leaves': 742, 'feature_fraction': 0.5915266785260339, 'min_data_in_leaf': 614}. Best is trial 19 with value: 25.35.\n"
     ]
    },
    {
     "name": "stdout",
     "output_type": "stream",
     "text": [
      "Early stopping, best iteration is:\n",
      "[206]\tvalid_0's ER: 30.22\n",
      "Evaluated only: ER\n",
      "**************** regression ****************\n",
      "Training until validation scores don't improve for 81 rounds\n",
      "[100]\tvalid_0's ER: 27.15\n",
      "[200]\tvalid_0's ER: 26.39\n",
      "[300]\tvalid_0's ER: 26.2\n",
      "[400]\tvalid_0's ER: 26.07\n",
      "[500]\tvalid_0's ER: 26.05\n"
     ]
    }
   ],
   "source": [
    "### Optimizacion Bayesiana\n",
    "GLOBAL_PARAMS_ITER = []\n",
    "GLOBAL_BEST_IT_ITER = []\n",
    "GLOBAL_ER_VALIDATE_ITER = []\n",
    "GLOBAL_MODEL_ITER = []\n",
    "\n",
    "study = optuna.create_study(direction='minimize')\n",
    "study.optimize(objective, n_trials=config.CANT_ITERACIONES_OPT_BAY_PARAM)\n",
    "print('# Experimentos:', len(study.trials))\n",
    "print('Mejor experimento:', study.best_trial.params)"
   ]
  },
  {
   "cell_type": "code",
   "execution_count": null,
   "id": "933cdc68-eb97-4e4c-b8bf-0eafdfb04c64",
   "metadata": {},
   "outputs": [],
   "source": [
    "# Feature Importance\n",
    "best_model_index = study.best_trial.number\n",
    "best_model = GLOBAL_MODEL_ITER[best_model_index]\n",
    "feature_importance = lightgbm_aux.plot_lgb_importances(best_model, num=30, plot=True)"
   ]
  },
  {
   "cell_type": "code",
   "execution_count": null,
   "id": "1d0ec636-d1ae-446d-980a-70ac4499d75a",
   "metadata": {},
   "outputs": [],
   "source": [
    "#Si se usa holdout, se generan variables para luego evaluar modelos\n",
    "if(config.USAR_HOLDOUT_PARAM):\n",
    "    # Dataframes\n",
    "    df_train_all = df_sellout[(df_sellout.periodo <= config.TRAIN_ALL_PERIODO_LIMITE_PARAM) & (df_sellout.periodo >= config.PERIODO_INICIO_PARAM)]\n",
    "    df_holdout = df_sellout[(df_sellout.product_id.isin(df_prods_prediccion_entren.product_id)) & (df_sellout.periodo == config.HOLDOUT_PERIODO_PARAM)]\n",
    "    \n",
    "    df_holdout = df_holdout.sort_values(by=\"product_id\",ascending=True)\n",
    "    print(\"product_id a testear:\", len(df_holdout))\n",
    "\n",
    "    print(\"Periodos entrenar ALL:\",df_train_all.periodo.unique())\n",
    "    print(\"Periodos holdout:\",df_holdout.periodo.unique())\n",
    "\n",
    "    # Variables entrenamiento\n",
    "    X_train_all = df_train_all.drop(columns=cols_remover_entren, axis=1)\n",
    "    X_holdout = df_holdout.drop(columns=cols_remover_entren, axis=1)\n",
    "    \n",
    "    y_train_all = df_train_all.tn_mas_2\n",
    "    y_holdout = df_holdout.tn_mas_2\n",
    "    print(\"\\nX_train_all:\", X_train_all.shape)\n",
    "    print(\"y_train_all:\", y_train_all.shape)\n",
    "    \n",
    "    print(\"\\nX_holdout:\", X_holdout.shape)\n",
    "    print(\"y_holdout:\", y_holdout.shape)\n",
    "\n",
    "    lgbtrain_all = lgb.Dataset(data=X_train_all, label=y_train_all, feature_name=cols_entren)"
   ]
  },
  {
   "cell_type": "code",
   "execution_count": null,
   "id": "1bec2d20-752c-4862-96c8-69f22a83b617",
   "metadata": {},
   "outputs": [],
   "source": [
    "current_datetime = datetime.now().astimezone(pytz.timezone('America/Argentina/Buenos_Aires'))\n",
    "exp_numero = current_datetime.strftime(\"%Y%m%d %H%M%S\").replace(\" \", \"_\")\n",
    "exp_numero"
   ]
  },
  {
   "cell_type": "code",
   "execution_count": null,
   "id": "efb947b6-d349-475a-bb5c-234277c58a7f",
   "metadata": {},
   "outputs": [],
   "source": [
    "# Guardo resultados\n",
    "carpeta_exp = carpeta_exp_prefijo + exp_numero + \"/\"\n",
    "if not os.path.exists(carpeta_exp):\n",
    "    os.makedirs(carpeta_exp)\n",
    "    \n",
    "# Feature Importance\n",
    "feature_importance.to_csv(carpeta_exp + \"feature_importance.csv\",index=False)\n",
    "\n",
    "# Parametros\n",
    "parametros_nombres = [\"PERIODO_INICIO_PARAM\",\"TRAIN_PERIODO_LIMITE_PARAM\",\"VALIDATE_PERIODO_PARAM\",\"USAR_HOLDOUT_PARAM\",\n",
    "                      \"TRAIN_ALL_PERIODO_LIMITE_PARAM\",\"HOLDOUT_PERIODO_PARAM\",\n",
    "                      \"MODELO_FINAL_PERIODO_LIMITE_PARAM\",\"FUTURE_PERIODO_PARAM\",\n",
    "                      \"ARCH_PRODUCTOS_PREDICCION_ENTRENAMIENTO\",\"ARCH_PRODUCTOS_PREDICCION_FUTURE\",\n",
    "                      \"NUM_LAGS_PARAM\",\"FAMILIA_FEATURES_TEMP_PARAM\",\n",
    "                      \"CANT_ITERACIONES_OPT_BAY_PARAM\",\"CANT_SEMILLAS\"]\n",
    "\n",
    "parametros_valores = [config.PERIODO_INICIO_PARAM,config.TRAIN_PERIODO_LIMITE_PARAM,config.VALIDATE_PERIODO_PARAM,\n",
    "                      config.USAR_HOLDOUT_PARAM,config.TRAIN_ALL_PERIODO_LIMITE_PARAM,config.HOLDOUT_PERIODO_PARAM,\n",
    "                      config.MODELO_FINAL_PERIODO_LIMITE_PARAM,config.FUTURE_PERIODO_PARAM,\n",
    "                      config.ARCH_PRODUCTOS_PREDICCION_ENTRENAMIENTO,config.ARCH_PRODUCTOS_PREDICCION_FUTURE,\n",
    "                      config.NUM_LAGS_PARAM,config.FAMILIA_FEATURES_TEMP_PARAM,\n",
    "                      config.CANT_ITERACIONES_OPT_BAY_PARAM, config.CANT_SEMILLAS]\n",
    "\n",
    "parametros = pd.DataFrame(data={\"nombre\":parametros_nombres,\"valor\":parametros_valores})\n",
    "parametros.to_csv(carpeta_exp + \"parametros.csv\",index=False)\n",
    "\n",
    "# Optimizacion Bayesiana\n",
    "df_opt_bay = pd.DataFrame(data={\"lgb_params\":GLOBAL_PARAMS_ITER,\"best_iteration\":GLOBAL_BEST_IT_ITER,\n",
    "                                \"error_rate_validate\":GLOBAL_ER_VALIDATE_ITER})\n",
    "\n",
    "# Ordeno de menor a mayor\n",
    "df_opt_bay = df_opt_bay.sort_values(by=\"error_rate_validate\",ascending=True)\n",
    "df_opt_bay[\"index\"] = range(0,len(GLOBAL_PARAMS_ITER))\n",
    "\n",
    "# Holdout\n",
    "if(config.USAR_HOLDOUT_PARAM):\n",
    "    er_holdout_iter = [None] * len(df_opt_bay)\n",
    "    er_holdout_semillerio_iter = [None] * len(df_opt_bay)\n",
    "    \n",
    "    for i in range(config.OFFSET_EVAL_HOLDOUT,config.CANT_EVAL_HOLDOUT):\n",
    "        print(\"Iteración:\",i)\n",
    "\n",
    "        #Modelo Train All (Sin Semillerio)\n",
    "        model_train_all = lgb.train(df_opt_bay.iloc[i].lgb_params, lgbtrain_all, num_boost_round=df_opt_bay.iloc[i].best_iteration)\n",
    "        y_pred_holdout = model_train_all.predict(X_holdout)\n",
    "        er_holdout = metricas.error_rate(y_holdout,y_pred_holdout)\n",
    "        er_holdout_iter[i]=er_holdout\n",
    "        \n",
    "        #Semillerio\n",
    "        y_pred_holdout_semillerio = lightgbm_aux.semillerio(lgbtrain_all, df_opt_bay.iloc[i].lgb_params, df_opt_bay.iloc[i].best_iteration, X_holdout,config.CANT_SEMILLAS)\n",
    "        er_holdout_semillerio_iter[i]= metricas.error_rate(y_holdout,y_pred_holdout_semillerio)\n",
    "        \n",
    "    df_opt_bay[\"error_rate_holdout\"]=er_holdout_iter    \n",
    "    df_opt_bay[\"error_rate_holdout_semillerio\"]=er_holdout_semillerio_iter    \n",
    "\n",
    "df_opt_bay.to_excel(carpeta_exp +  \"opt_bay.xlsx\",index=False)"
   ]
  },
  {
   "cell_type": "code",
   "execution_count": null,
   "id": "d4683c7c-e768-4b55-b897-b178f8c4fdd5",
   "metadata": {},
   "outputs": [],
   "source": [
    "print(\"FINALIZADO\")"
   ]
  }
 ],
 "metadata": {
  "kernelspec": {
   "display_name": "Python 3 (ipykernel)",
   "language": "python",
   "name": "python3"
  },
  "language_info": {
   "codemirror_mode": {
    "name": "ipython",
    "version": 3
   },
   "file_extension": ".py",
   "mimetype": "text/x-python",
   "name": "python",
   "nbconvert_exporter": "python",
   "pygments_lexer": "ipython3",
   "version": "3.10.12"
  }
 },
 "nbformat": 4,
 "nbformat_minor": 5
}
