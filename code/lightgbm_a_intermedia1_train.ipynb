{
 "cells": [
  {
   "cell_type": "code",
   "execution_count": 1,
   "id": "946a34f4-5c14-46cf-a39d-9794031463bb",
   "metadata": {},
   "outputs": [
    {
     "data": {
      "text/html": [
       "<style type='text/css'>\n",
       ".datatable table.frame { margin-bottom: 0; }\n",
       ".datatable table.frame thead { border-bottom: none; }\n",
       ".datatable table.frame tr.coltypes td {  color: #FFFFFF;  line-height: 6px;  padding: 0 0.5em;}\n",
       ".datatable .bool    { background: #DDDD99; }\n",
       ".datatable .object  { background: #565656; }\n",
       ".datatable .int     { background: #5D9E5D; }\n",
       ".datatable .float   { background: #4040CC; }\n",
       ".datatable .str     { background: #CC4040; }\n",
       ".datatable .time    { background: #40CC40; }\n",
       ".datatable .row_index {  background: var(--jp-border-color3);  border-right: 1px solid var(--jp-border-color0);  color: var(--jp-ui-font-color3);  font-size: 9px;}\n",
       ".datatable .frame tbody td { text-align: left; }\n",
       ".datatable .frame tr.coltypes .row_index {  background: var(--jp-border-color0);}\n",
       ".datatable th:nth-child(2) { padding-left: 12px; }\n",
       ".datatable .hellipsis {  color: var(--jp-cell-editor-border-color);}\n",
       ".datatable .vellipsis {  background: var(--jp-layout-color0);  color: var(--jp-cell-editor-border-color);}\n",
       ".datatable .na {  color: var(--jp-cell-editor-border-color);  font-size: 80%;}\n",
       ".datatable .sp {  opacity: 0.25;}\n",
       ".datatable .footer { font-size: 9px; }\n",
       ".datatable .frame_dimensions {  background: var(--jp-border-color3);  border-top: 1px solid var(--jp-border-color0);  color: var(--jp-ui-font-color3);  display: inline-block;  opacity: 0.6;  padding: 1px 10px 1px 5px;}\n",
       ".datatable .frame thead tr.colnames {  background-image: url('data:image/png;base64,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');  background-repeat: repeat-x;  background-size: 14px;  height: 28px;}\n",
       "</style>\n"
      ],
      "text/plain": [
       "<IPython.core.display.HTML object>"
      ]
     },
     "metadata": {},
     "output_type": "display_data"
    }
   ],
   "source": [
    "import os\n",
    "import lightgbm as lgb\n",
    "import pandas as pd\n",
    "import warnings\n",
    "from matplotlib import pyplot as plt\n",
    "import seaborn as sns\n",
    "import numpy as np\n",
    "import datetime\n",
    "import optuna\n",
    "import random\n",
    "from datetime import datetime\n",
    "import pytz\n",
    "\n",
    "# importo los .py\n",
    "import sys\n",
    "sys.path.append(\"auxiliares\")\n",
    "import config\n",
    "import metricas\n",
    "import lightgbm_aux\n",
    "import extras\n",
    "\n",
    "pd.options.display.float_format = '{:.2f}'.format\n",
    "pd.set_option('display.max_columns', None)\n",
    "\n",
    "# Ignore all warnings\n",
    "warnings.filterwarnings(\"ignore\")"
   ]
  },
  {
   "cell_type": "code",
   "execution_count": 2,
   "id": "11ac74ea-68b7-46f2-83ba-a06c00f1e25c",
   "metadata": {},
   "outputs": [],
   "source": [
    "####################################################\n",
    "############# Setear segun cada maquina ############\n",
    "#os.chdir(\"C:/Users/herna/labo3_empresa3_repo/\")\n",
    "#os.chdir(\"C:/diego_tools/labo3/\")\n",
    "os.chdir(\"/home/dcastro_contacto/buckets/b1/\")\n",
    "####################################################"
   ]
  },
  {
   "cell_type": "code",
   "execution_count": 3,
   "id": "02238d29-8545-4363-b04a-f73d55495d00",
   "metadata": {},
   "outputs": [],
   "source": [
    "arch_entrada = \"datasets/emp3_sellout_producto_fe.csv\"\n",
    "carpeta_exp_prefijo = \"exp/intermedia_1/\""
   ]
  },
  {
   "cell_type": "code",
   "execution_count": 4,
   "id": "547b30c6-7d6b-4c08-872b-6a88a987b237",
   "metadata": {},
   "outputs": [],
   "source": [
    "def lgbm_error_rate(preds, train_data):\n",
    "    labels = train_data.get_label()\n",
    "    ret_val = metricas.error_rate(labels,preds)\n",
    "    return 'ER', ret_val, False"
   ]
  },
  {
   "cell_type": "code",
   "execution_count": 5,
   "id": "fcc3b371-807e-45c2-954d-3e720b30ede9",
   "metadata": {},
   "outputs": [],
   "source": [
    "def objective(trial):\n",
    "    print(\"****************\", config.OBJECTIVE_PARAM, \"****************\")\n",
    "    \n",
    "    lgb_params = {\n",
    "        'objective': config.OBJECTIVE_PARAM,\n",
    "        'first_metric_only': True,\n",
    "        'boost_from_average': True,\n",
    "        'max_depth':-1,\n",
    "        'lambda_l1': trial.suggest_uniform('lambda_l1', 0.0,config.L1_UPPER_PARAM),\n",
    "        'lambda_l2': trial.suggest_uniform('lambda_l2', 0.0,config.L2_UPPER_PARAM),\n",
    "        'min_gain_to_split':0.0,\n",
    "        'force_row_wise':True,\n",
    "        'feature_pre_filter':False,\n",
    "        'metric': \"None\",\n",
    "        'max_bin': config.MAX_BIN_PARAM,\n",
    "        'learning_rate': trial.suggest_uniform('learning_rate', config.LEARNING_RATE_LOWER_PARAM,config.LEARNING_RATE_UPPER_PARAM ),\n",
    "        'num_leaves' : trial.suggest_int('num_leaves', config.NUM_LEAVES_LOWER_PARAM, config.NUM_LEAVES_UPPER_PARAM),\n",
    "        'feature_fraction': trial.suggest_uniform('feature_fraction', config.FEATURE_FRACTION_LOWER_PARAM, config.FEATURE_FRACTION_UPPER_PARAM),\n",
    "        'min_data_in_leaf': trial.suggest_int('min_data_in_leaf', config.MIN_DATA_IN_LEAF_LOWER_PARAM, config.MIN_DATA_IN_LEAF_UPPER_PARAM),\n",
    "        #'bagging_freq':trial.suggest_int('bagging_freq', 1, 10),\n",
    "        #'bagging_fraction': trial.suggest_categorical('bagging_fraction',[0.7,0.75,0.8,0.85,0.9,0.95]),\n",
    "        #'extra_trees':trial.suggest_categorical('extra_trees',[True,False]),\n",
    "        'verbose':-100,\n",
    "        'num_threads':-1\n",
    "    }\n",
    "    \n",
    "    lgb_params_num_boost_round = 10000  #un numero muy grande, lo limita early_stopping_rounds\n",
    "    lgb_params_early_stopping_rounds = int(50 + 5/lgb_params['learning_rate']) #  #el parametro discolo, que depende de otro\n",
    "    \n",
    "    lgb_train = lgb.Dataset(data=X_train, label=y_train, feature_name=cols_entren)\n",
    "    lgb_validate = lgb.Dataset(data=X_validate, label=y_validate, reference=lgb_train, feature_name=cols_entren)\n",
    "    \n",
    "    #Train using selected parameters\n",
    "    model = lgb.train(lgb_params, lgb_train,\n",
    "                  valid_sets=[lgb_validate],\n",
    "                  num_boost_round=lgb_params_num_boost_round,\n",
    "                  early_stopping_rounds=lgb_params_early_stopping_rounds,\n",
    "                  feval=lgbm_error_rate,\n",
    "                  verbose_eval=100)\n",
    "    \n",
    "    y_pred_validate =model.predict(X_validate) #Create predictions on test set\n",
    "    er_validate = metricas.error_rate(y_validate,y_pred_validate)\n",
    "    \n",
    "    GLOBAL_PARAMS_ITER.append(lgb_params)\n",
    "    GLOBAL_BEST_IT_ITER.append(model.best_iteration)\n",
    "    GLOBAL_ER_VALIDATE_ITER.append(er_validate)\n",
    "    GLOBAL_MODEL_ITER.append(model)\n",
    "    \n",
    "    return er_validate"
   ]
  },
  {
   "cell_type": "code",
   "execution_count": 6,
   "id": "53ccdb1f-2f93-4bb9-9f57-9bdf50c4251f",
   "metadata": {},
   "outputs": [],
   "source": [
    "##############################################"
   ]
  },
  {
   "cell_type": "code",
   "execution_count": 7,
   "id": "71aa4bfe-d204-451c-85fe-ae97ee3d0248",
   "metadata": {},
   "outputs": [
    {
     "name": "stdout",
     "output_type": "stream",
     "text": [
      "<class 'pandas.core.frame.DataFrame'>\n",
      "RangeIndex: 35888 entries, 0 to 35887\n",
      "Columns: 446 entries, product_id to cat3_tn_bollinger_band_lower_15\n",
      "dtypes: bool(1), float64(437), int64(5), object(3)\n",
      "memory usage: 121.9+ MB\n"
     ]
    }
   ],
   "source": [
    "df_sellout = pd.read_csv(arch_entrada)\n",
    "df_sellout.info()"
   ]
  },
  {
   "cell_type": "code",
   "execution_count": 8,
   "id": "eada627a-f5e2-4e9d-acba-39638a54cbbb",
   "metadata": {},
   "outputs": [
    {
     "name": "stdout",
     "output_type": "stream",
     "text": [
      "<class 'pandas.core.frame.DataFrame'>\n",
      "RangeIndex: 868 entries, 0 to 867\n",
      "Data columns (total 1 columns):\n",
      " #   Column      Non-Null Count  Dtype\n",
      "---  ------      --------------  -----\n",
      " 0   product_id  868 non-null    int64\n",
      "dtypes: int64(1)\n",
      "memory usage: 6.9 KB\n"
     ]
    }
   ],
   "source": [
    "df_prods_prediccion_entren=pd.read_csv(config.ARCH_PRODUCTOS_PREDICCION_ENTRENAMIENTO)\n",
    "df_prods_prediccion_entren.info()"
   ]
  },
  {
   "cell_type": "code",
   "execution_count": 9,
   "id": "410062a1-3b44-4d5a-8a2b-5832f25f669e",
   "metadata": {},
   "outputs": [],
   "source": [
    "### Categoricas\n",
    "df_sellout = extras.convertir_categoricas_prod(df_sellout)"
   ]
  },
  {
   "cell_type": "code",
   "execution_count": 10,
   "id": "5f866703-ece7-4986-93aa-84b957781f3f",
   "metadata": {},
   "outputs": [
    {
     "name": "stdout",
     "output_type": "stream",
     "text": [
      "Periodos entrenar: [201701 201702 201703 201704 201705 201706 201707 201708 201709 201710\n",
      " 201711 201712 201801 201802 201803 201804 201805 201806 201807 201808\n",
      " 201809 201810]\n",
      "Periodos validar: [201812]\n",
      "product_id a validar: 868\n"
     ]
    }
   ],
   "source": [
    "### Split de datasets\n",
    "df_train = df_sellout[(df_sellout.periodo <= config.TRAIN_PERIODO_LIMITE_PARAM) & (df_sellout.periodo >= config.PERIODO_INICIO_PARAM)]\n",
    "df_validate = df_sellout[(df_sellout.product_id.isin(df_prods_prediccion_entren.product_id)) & (df_sellout.periodo == config.VALIDATE_PERIODO_PARAM)]\n",
    "\n",
    "print(\"Periodos entrenar:\",df_train.periodo.unique())\n",
    "print(\"Periodos validar:\",df_validate.periodo.unique())\n",
    "\n",
    "df_validate = df_validate.sort_values(by=\"product_id\",ascending=True)\n",
    "print(\"product_id a validar:\", len(df_validate))"
   ]
  },
  {
   "cell_type": "code",
   "execution_count": 11,
   "id": "7f5f95f4-44a3-46b9-9683-df39935b83b7",
   "metadata": {},
   "outputs": [
    {
     "name": "stdout",
     "output_type": "stream",
     "text": [
      "X_train: (20016, 444)\n",
      "y_train: (20016,)\n",
      "\n",
      "X_validate: (868, 444)\n",
      "y_validate: (868,)\n"
     ]
    }
   ],
   "source": [
    "### Armado variables entrenamiento\n",
    "cols_remover_entren = [\"tn_mas_2\",\"periodo\"]\n",
    "\n",
    "# Train - Validate\n",
    "X_train = df_train.drop(columns=cols_remover_entren, axis=1)\n",
    "X_validate = df_validate.drop(columns=cols_remover_entren, axis=1)\n",
    "\n",
    "y_train = df_train.tn_mas_2\n",
    "y_validate = df_validate.tn_mas_2\n",
    "\n",
    "print(\"X_train:\", X_train.shape)\n",
    "print(\"y_train:\", y_train.shape)\n",
    "\n",
    "print(\"\\nX_validate:\", X_validate.shape)\n",
    "print(\"y_validate:\", y_validate.shape)\n",
    "\n",
    "cols_entren = X_train.columns.tolist()"
   ]
  },
  {
   "cell_type": "code",
   "execution_count": 12,
   "id": "f77112b6-dc5c-4227-ac0f-0a4e3bab3943",
   "metadata": {},
   "outputs": [
    {
     "name": "stderr",
     "output_type": "stream",
     "text": [
      "[I 2023-12-10 20:00:26,226] A new study created in memory with name: no-name-24451ab5-8ea1-433e-bec0-e6539e0147d5\n"
     ]
    },
    {
     "name": "stdout",
     "output_type": "stream",
     "text": [
      "**************** regression_l1 ****************\n",
      "Training until validation scores don't improve for 68 rounds\n",
      "[100]\tvalid_0's ER: 34.08\n",
      "[200]\tvalid_0's ER: 32.63\n",
      "[300]\tvalid_0's ER: 31.43\n",
      "[400]\tvalid_0's ER: 30.37\n",
      "[500]\tvalid_0's ER: 30.02\n",
      "[600]\tvalid_0's ER: 29.69\n",
      "[700]\tvalid_0's ER: 29.47\n"
     ]
    },
    {
     "name": "stderr",
     "output_type": "stream",
     "text": [
      "[I 2023-12-10 20:00:39,549] Trial 0 finished with value: 29.43 and parameters: {'lambda_l1': 35.90950950418237, 'lambda_l2': 61.256450579817766, 'learning_rate': 0.26862368894902877, 'num_leaves': 395, 'feature_fraction': 0.9452602646108821, 'min_data_in_leaf': 1793}. Best is trial 0 with value: 29.43.\n"
     ]
    },
    {
     "name": "stdout",
     "output_type": "stream",
     "text": [
      "[800]\tvalid_0's ER: 29.47\n",
      "Early stopping, best iteration is:\n",
      "[737]\tvalid_0's ER: 29.43\n",
      "Evaluated only: ER\n",
      "**************** regression_l1 ****************\n",
      "Training until validation scores don't improve for 101 rounds\n",
      "[100]\tvalid_0's ER: 40.57\n",
      "[200]\tvalid_0's ER: 39.39\n",
      "[300]\tvalid_0's ER: 38.44\n",
      "[400]\tvalid_0's ER: 37.59\n",
      "[500]\tvalid_0's ER: 36.97\n",
      "[600]\tvalid_0's ER: 36.36\n",
      "[700]\tvalid_0's ER: 35.84\n",
      "[800]\tvalid_0's ER: 35.46\n",
      "[900]\tvalid_0's ER: 35.15\n",
      "[1000]\tvalid_0's ER: 34.9\n",
      "[1100]\tvalid_0's ER: 34.68\n",
      "[1200]\tvalid_0's ER: 34.45\n",
      "[1300]\tvalid_0's ER: 34.26\n",
      "[1400]\tvalid_0's ER: 34.03\n",
      "[1500]\tvalid_0's ER: 33.76\n",
      "[1600]\tvalid_0's ER: 33.52\n",
      "[1700]\tvalid_0's ER: 33.32\n",
      "[1800]\tvalid_0's ER: 33.14\n",
      "[1900]\tvalid_0's ER: 32.96\n",
      "[2000]\tvalid_0's ER: 32.82\n",
      "[2100]\tvalid_0's ER: 32.71\n",
      "[2200]\tvalid_0's ER: 32.58\n",
      "[2300]\tvalid_0's ER: 32.44\n",
      "[2400]\tvalid_0's ER: 32.34\n",
      "[2500]\tvalid_0's ER: 32.19\n",
      "[2600]\tvalid_0's ER: 32.08\n",
      "[2700]\tvalid_0's ER: 31.96\n",
      "[2800]\tvalid_0's ER: 31.85\n",
      "[2900]\tvalid_0's ER: 31.77\n",
      "[3000]\tvalid_0's ER: 31.68\n",
      "[3100]\tvalid_0's ER: 31.57\n",
      "[3200]\tvalid_0's ER: 31.47\n",
      "[3300]\tvalid_0's ER: 31.37\n",
      "[3400]\tvalid_0's ER: 31.26\n",
      "[3500]\tvalid_0's ER: 31.19\n",
      "[3600]\tvalid_0's ER: 31.08\n",
      "[3700]\tvalid_0's ER: 30.99\n",
      "[3800]\tvalid_0's ER: 30.91\n"
     ]
    },
    {
     "name": "stderr",
     "output_type": "stream",
     "text": [
      "[I 2023-12-10 20:01:16,666] Trial 1 finished with value: 30.91 and parameters: {'lambda_l1': 169.7111408821993, 'lambda_l2': 797.3101354971344, 'learning_rate': 0.09648829575203265, 'num_leaves': 89, 'feature_fraction': 0.5958755947177559, 'min_data_in_leaf': 2586}. Best is trial 0 with value: 29.43.\n"
     ]
    },
    {
     "name": "stdout",
     "output_type": "stream",
     "text": [
      "Early stopping, best iteration is:\n",
      "[3758]\tvalid_0's ER: 30.91\n",
      "Evaluated only: ER\n",
      "**************** regression_l1 ****************\n",
      "Training until validation scores don't improve for 67 rounds\n",
      "[100]\tvalid_0's ER: 51.23\n",
      "[200]\tvalid_0's ER: 47.43\n"
     ]
    },
    {
     "name": "stderr",
     "output_type": "stream",
     "text": [
      "[I 2023-12-10 20:01:19,230] Trial 2 finished with value: 46.46 and parameters: {'lambda_l1': 597.9018802908421, 'lambda_l2': 185.68627592416553, 'learning_rate': 0.28796728583590603, 'num_leaves': 193, 'feature_fraction': 0.5945576596399658, 'min_data_in_leaf': 5813}. Best is trial 0 with value: 29.43.\n"
     ]
    },
    {
     "name": "stdout",
     "output_type": "stream",
     "text": [
      "[300]\tvalid_0's ER: 46.46\n",
      "Early stopping, best iteration is:\n",
      "[240]\tvalid_0's ER: 46.46\n",
      "Evaluated only: ER\n",
      "**************** regression_l1 ****************\n",
      "Training until validation scores don't improve for 72 rounds\n",
      "[100]\tvalid_0's ER: 60.06\n",
      "[200]\tvalid_0's ER: 57.96\n",
      "[300]\tvalid_0's ER: 55.68\n",
      "[400]\tvalid_0's ER: 54.14\n",
      "[500]\tvalid_0's ER: 52.78\n",
      "[600]\tvalid_0's ER: 51.69\n",
      "[700]\tvalid_0's ER: 50.82\n"
     ]
    },
    {
     "name": "stderr",
     "output_type": "stream",
     "text": [
      "[I 2023-12-10 20:01:24,882] Trial 3 finished with value: 50.82 and parameters: {'lambda_l1': 810.8872526936703, 'lambda_l2': 319.2515223658808, 'learning_rate': 0.22297186828099455, 'num_leaves': 885, 'feature_fraction': 0.6490560118775985, 'min_data_in_leaf': 6796}. Best is trial 0 with value: 29.43.\n"
     ]
    },
    {
     "name": "stdout",
     "output_type": "stream",
     "text": [
      "Early stopping, best iteration is:\n",
      "[683]\tvalid_0's ER: 50.82\n",
      "Evaluated only: ER\n",
      "**************** regression_l1 ****************\n",
      "Training until validation scores don't improve for 75 rounds\n",
      "[100]\tvalid_0's ER: 37.51\n",
      "[200]\tvalid_0's ER: 35.39\n",
      "[300]\tvalid_0's ER: 34.06\n",
      "[400]\tvalid_0's ER: 32.91\n",
      "[500]\tvalid_0's ER: 32.03\n",
      "[600]\tvalid_0's ER: 31.8\n",
      "[700]\tvalid_0's ER: 31.49\n",
      "[800]\tvalid_0's ER: 31.37\n",
      "[900]\tvalid_0's ER: 30.92\n"
     ]
    },
    {
     "name": "stderr",
     "output_type": "stream",
     "text": [
      "[I 2023-12-10 20:01:33,514] Trial 4 finished with value: 30.91 and parameters: {'lambda_l1': 209.9629463577829, 'lambda_l2': 283.8246683652876, 'learning_rate': 0.19284715587732512, 'num_leaves': 571, 'feature_fraction': 0.5775897932649543, 'min_data_in_leaf': 2089}. Best is trial 0 with value: 29.43.\n"
     ]
    },
    {
     "name": "stdout",
     "output_type": "stream",
     "text": [
      "Early stopping, best iteration is:\n",
      "[886]\tvalid_0's ER: 30.91\n",
      "Evaluated only: ER\n",
      "# Experimentos: 5\n",
      "Mejor experimento: {'lambda_l1': 35.90950950418237, 'lambda_l2': 61.256450579817766, 'learning_rate': 0.26862368894902877, 'num_leaves': 395, 'feature_fraction': 0.9452602646108821, 'min_data_in_leaf': 1793}\n"
     ]
    }
   ],
   "source": [
    "### Optimizacion Bayesiana\n",
    "GLOBAL_PARAMS_ITER = []\n",
    "GLOBAL_BEST_IT_ITER = []\n",
    "GLOBAL_ER_VALIDATE_ITER = []\n",
    "GLOBAL_MODEL_ITER = []\n",
    "\n",
    "study = optuna.create_study(direction='minimize')\n",
    "study.optimize(objective, n_trials=config.CANT_ITERACIONES_OPT_BAY_PARAM)\n",
    "print('# Experimentos:', len(study.trials))\n",
    "print('Mejor experimento:', study.best_trial.params)"
   ]
  },
  {
   "cell_type": "code",
   "execution_count": 13,
   "id": "933cdc68-eb97-4e4c-b8bf-0eafdfb04c64",
   "metadata": {},
   "outputs": [
    {
     "data": {
      "image/png": "[encoded data removed]",
      "text/plain": [
       "<Figure size 720x720 with 1 Axes>"
      ]
     },
     "metadata": {
      "needs_background": "light"
     },
     "output_type": "display_data"
    }
   ],
   "source": [
    "# Feature Importance\n",
    "best_model_index = study.best_trial.number\n",
    "best_model = GLOBAL_MODEL_ITER[best_model_index]\n",
    "feature_importance = lightgbm_aux.plot_lgb_importances(best_model, num=30, plot=True)"
   ]
  },
  {
   "cell_type": "code",
   "execution_count": 14,
   "id": "1d0ec636-d1ae-446d-980a-70ac4499d75a",
   "metadata": {},
   "outputs": [
    {
     "name": "stdout",
     "output_type": "stream",
     "text": [
      "product_id a testear: 868\n",
      "Periodos entrenar ALL: [201701 201702 201703 201704 201705 201706 201707 201708 201709 201710\n",
      " 201711 201712 201801 201802 201803 201804 201805 201806 201807 201808\n",
      " 201809 201810 201811 201812]\n",
      "Periodos holdout: [201902]\n",
      "\n",
      "X_train_all: (22118, 444)\n",
      "y_train_all: (22118,)\n",
      "\n",
      "X_holdout: (868, 444)\n",
      "y_holdout: (868,)\n"
     ]
    }
   ],
   "source": [
    "#Si se usa holdout, se generan variables para luego evaluar modelos\n",
    "if(config.USAR_HOLDOUT_PARAM):\n",
    "    # Dataframes\n",
    "    df_train_all = df_sellout[(df_sellout.periodo <= config.TRAIN_ALL_PERIODO_LIMITE_PARAM) & (df_sellout.periodo >= config.PERIODO_INICIO_PARAM)]\n",
    "    df_holdout = df_sellout[(df_sellout.product_id.isin(df_prods_prediccion_entren.product_id)) & (df_sellout.periodo == config.HOLDOUT_PERIODO_PARAM)]\n",
    "    \n",
    "    df_holdout = df_holdout.sort_values(by=\"product_id\",ascending=True)\n",
    "    print(\"product_id a testear:\", len(df_holdout))\n",
    "\n",
    "    print(\"Periodos entrenar ALL:\",df_train_all.periodo.unique())\n",
    "    print(\"Periodos holdout:\",df_holdout.periodo.unique())\n",
    "\n",
    "    # Variables entrenamiento\n",
    "    X_train_all = df_train_all.drop(columns=cols_remover_entren, axis=1)\n",
    "    X_holdout = df_holdout.drop(columns=cols_remover_entren, axis=1)\n",
    "    \n",
    "    y_train_all = df_train_all.tn_mas_2\n",
    "    y_holdout = df_holdout.tn_mas_2\n",
    "    print(\"\\nX_train_all:\", X_train_all.shape)\n",
    "    print(\"y_train_all:\", y_train_all.shape)\n",
    "    \n",
    "    print(\"\\nX_holdout:\", X_holdout.shape)\n",
    "    print(\"y_holdout:\", y_holdout.shape)\n",
    "\n",
    "    lgbtrain_all = lgb.Dataset(data=X_train_all, label=y_train_all, feature_name=cols_entren)"
   ]
  },
  {
   "cell_type": "code",
   "execution_count": 15,
   "id": "1bec2d20-752c-4862-96c8-69f22a83b617",
   "metadata": {},
   "outputs": [
    {
     "data": {
      "text/plain": [
       "'20231210_170134'"
      ]
     },
     "execution_count": 15,
     "metadata": {},
     "output_type": "execute_result"
    }
   ],
   "source": [
    "current_datetime = datetime.now().astimezone(pytz.timezone('America/Argentina/Buenos_Aires'))\n",
    "exp_numero = current_datetime.strftime(\"%Y%m%d %H%M%S\").replace(\" \", \"_\")\n",
    "exp_numero"
   ]
  },
  {
   "cell_type": "code",
   "execution_count": 16,
   "id": "efb947b6-d349-475a-bb5c-234277c58a7f",
   "metadata": {},
   "outputs": [
    {
     "name": "stdout",
     "output_type": "stream",
     "text": [
      "Iteración: 0\n",
      "Iteración: 1\n",
      "Iteración: 2\n"
     ]
    }
   ],
   "source": [
    "# Guardo resultados\n",
    "carpeta_exp = carpeta_exp_prefijo + exp_numero + \"/\"\n",
    "if not os.path.exists(carpeta_exp):\n",
    "    os.makedirs(carpeta_exp)\n",
    "    \n",
    "# Feature Importance\n",
    "feature_importance.to_csv(carpeta_exp + \"feature_importance.csv\",index=False)\n",
    "\n",
    "# Parametros\n",
    "parametros_nombres = [\"PERIODO_INICIO_PARAM\",\"TRAIN_PERIODO_LIMITE_PARAM\",\"VALIDATE_PERIODO_PARAM\",\"USAR_HOLDOUT_PARAM\",\n",
    "                      \"TRAIN_ALL_PERIODO_LIMITE_PARAM\",\"HOLDOUT_PERIODO_PARAM\",\n",
    "                      \"MODELO_FINAL_PERIODO_LIMITE_PARAM\",\"FUTURE_PERIODO_PARAM\",\n",
    "                      \"ARCH_PRODUCTOS_PREDICCION_ENTRENAMIENTO\",\"ARCH_PRODUCTOS_PREDICCION_FUTURE\",\n",
    "                      \"NUM_LAGS_PARAM\",\"FAMILIA_FEATURES_TEMP_PARAM\",\n",
    "                      \"CANT_ITERACIONES_OPT_BAY_PARAM\",\"CANT_SEMILLAS\"]\n",
    "\n",
    "parametros_valores = [config.PERIODO_INICIO_PARAM,config.TRAIN_PERIODO_LIMITE_PARAM,config.VALIDATE_PERIODO_PARAM,\n",
    "                      config.USAR_HOLDOUT_PARAM,config.TRAIN_ALL_PERIODO_LIMITE_PARAM,config.HOLDOUT_PERIODO_PARAM,\n",
    "                      config.MODELO_FINAL_PERIODO_LIMITE_PARAM,config.FUTURE_PERIODO_PARAM,\n",
    "                      config.ARCH_PRODUCTOS_PREDICCION_ENTRENAMIENTO,config.ARCH_PRODUCTOS_PREDICCION_FUTURE,\n",
    "                      config.NUM_LAGS_PARAM,config.FAMILIA_FEATURES_TEMP_PARAM,\n",
    "                      config.CANT_ITERACIONES_OPT_BAY_PARAM, config.CANT_SEMILLAS]\n",
    "\n",
    "parametros = pd.DataFrame(data={\"nombre\":parametros_nombres,\"valor\":parametros_valores})\n",
    "parametros.to_csv(carpeta_exp + \"parametros.csv\",index=False)\n",
    "\n",
    "# Optimizacion Bayesiana\n",
    "df_opt_bay = pd.DataFrame(data={\"index\":range(0,len(GLOBAL_PARAMS_ITER)),\"lgb_params\":GLOBAL_PARAMS_ITER,\"best_iteration\":GLOBAL_BEST_IT_ITER,\n",
    "                                \"error_rate_validate\":GLOBAL_ER_VALIDATE_ITER})\n",
    "\n",
    "# Ordeno de menor a mayor\n",
    "df_opt_bay = df_opt_bay.sort_values(by=\"error_rate_validate\",ascending=True)\n",
    "\n",
    "# Holdout\n",
    "if(config.USAR_HOLDOUT_PARAM):\n",
    "    er_holdout_iter = [None] * len(df_opt_bay)\n",
    "    er_holdout_semillerio_iter = [None] * len(df_opt_bay)\n",
    "    \n",
    "    for i in range(config.OFFSET_EVAL_HOLDOUT,config.CANT_EVAL_HOLDOUT):\n",
    "        print(\"Iteración:\",i)\n",
    "\n",
    "        #Modelo Train All (Sin Semillerio)\n",
    "        model_train_all = lgb.train(df_opt_bay.iloc[i].lgb_params, lgbtrain_all, num_boost_round=df_opt_bay.iloc[i].best_iteration)\n",
    "        y_pred_holdout = model_train_all.predict(X_holdout)\n",
    "        er_holdout = metricas.error_rate(y_holdout,y_pred_holdout)\n",
    "        er_holdout_iter[i]=er_holdout\n",
    "        \n",
    "        #Semillerio\n",
    "        y_pred_holdout_semillerio = lightgbm_aux.semillerio(lgbtrain_all, df_opt_bay.iloc[i].lgb_params, df_opt_bay.iloc[i].best_iteration, X_holdout,config.CANT_SEMILLAS)\n",
    "        er_holdout_semillerio_iter[i]= metricas.error_rate(y_holdout,y_pred_holdout_semillerio)\n",
    "        \n",
    "    df_opt_bay[\"error_rate_holdout\"]=er_holdout_iter    \n",
    "    df_opt_bay[\"error_rate_holdout_semillerio\"]=er_holdout_semillerio_iter    \n",
    "\n",
    "df_opt_bay.to_excel(carpeta_exp +  \"opt_bay.xlsx\",index=False)"
   ]
  }
 ],
 "metadata": {
  "kernelspec": {
   "display_name": "Python 3 (ipykernel)",
   "language": "python",
   "name": "python3"
  },
  "language_info": {
   "codemirror_mode": {
    "name": "ipython",
    "version": 3
   },
   "file_extension": ".py",
   "mimetype": "text/x-python",
   "name": "python",
   "nbconvert_exporter": "python",
   "pygments_lexer": "ipython3",
   "version": "3.10.12"
  }
 },
 "nbformat": 4,
 "nbformat_minor": 5
}
