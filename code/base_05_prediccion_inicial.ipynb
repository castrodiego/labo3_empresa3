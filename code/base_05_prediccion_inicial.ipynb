{
 "cells": [
  {
   "cell_type": "code",
   "execution_count": 1,
   "id": "56bdd0f9-69e5-4034-a621-29e7596be0b0",
   "metadata": {},
   "outputs": [],
   "source": [
    "import pandas as pd\n",
    "import os\n",
    "import numpy as np"
   ]
  },
  {
   "cell_type": "code",
   "execution_count": 2,
   "id": "2a926af2-8f0a-48a6-9b60-0a6483f5def8",
   "metadata": {},
   "outputs": [],
   "source": [
    "####################################################\n",
    "############# Setear segun cada maquina ############\n",
    "#os.chdir(\"C:/Users/herna/labo3_empresa3_repo/\")\n",
    "#os.chdir(\"C:/diego_tools/labo3/\")\n",
    "os.chdir(\"/home/dcastro_contacto/buckets/b1/\")\n",
    "####################################################"
   ]
  },
  {
   "cell_type": "code",
   "execution_count": 3,
   "id": "2bfd00d3-db71-4e60-9242-257d72e15453",
   "metadata": {},
   "outputs": [],
   "source": [
    "arch_entrada = \"datasets/emp3_sellout_producto_base.csv\"\n",
    "arch_salida = \"datasets/emp3_prediccion_201904.xlsx\"\n",
    "arch_prod_ids_prediccion = \"datasets/productos_a_predecir_201902.csv\""
   ]
  },
  {
   "cell_type": "code",
   "execution_count": 4,
   "id": "68624af4-87bc-4d2a-a2e1-99c6c23ccbcf",
   "metadata": {},
   "outputs": [
    {
     "name": "stdout",
     "output_type": "stream",
     "text": [
      "<class 'pandas.core.frame.DataFrame'>\n",
      "RangeIndex: 34707 entries, 0 to 34706\n",
      "Data columns (total 20 columns):\n",
      " #   Column                     Non-Null Count  Dtype  \n",
      "---  ------                     --------------  -----  \n",
      " 0   product_id                 34707 non-null  int64  \n",
      " 1   periodo                    34707 non-null  int64  \n",
      " 2   product_id_tn              34707 non-null  float64\n",
      " 3   cero_ventas                34707 non-null  int64  \n",
      " 4   cust_request_qty           34707 non-null  float64\n",
      " 5   cust_request_tn            34707 non-null  float64\n",
      " 6   mes                        34707 non-null  int64  \n",
      " 7   producto_estrella          34707 non-null  float64\n",
      " 8   plan_precios_cuidados      34707 non-null  float64\n",
      " 9   meses_historia_prod        34707 non-null  int64  \n",
      " 10  cat1                       34707 non-null  object \n",
      " 11  cat2                       34707 non-null  object \n",
      " 12  cat3                       34707 non-null  object \n",
      " 13  sku_size                   34707 non-null  float64\n",
      " 14  temp_media                 34707 non-null  float64\n",
      " 15  temp_min_media             34707 non-null  float64\n",
      " 16  temp_max_media             34707 non-null  float64\n",
      " 17  IPC                        34707 non-null  float64\n",
      " 18  promedio_mens_dolar_venta  34707 non-null  float64\n",
      " 19  catastrofe                 34707 non-null  bool   \n",
      "dtypes: bool(1), float64(11), int64(5), object(3)\n",
      "memory usage: 5.1+ MB\n"
     ]
    }
   ],
   "source": [
    "df_sellout = pd.read_csv(arch_entrada)\n",
    "df_sellout.info()"
   ]
  },
  {
   "cell_type": "code",
   "execution_count": 5,
   "id": "aa5db0f3-22a8-48dd-b987-c564da46cb8b",
   "metadata": {},
   "outputs": [
    {
     "data": {
      "text/plain": [
       "1105"
      ]
     },
     "execution_count": 5,
     "metadata": {},
     "output_type": "execute_result"
    }
   ],
   "source": [
    "df_sellout = df_sellout[df_sellout.periodo==201904]\n",
    "len(df_sellout)"
   ]
  },
  {
   "cell_type": "code",
   "execution_count": 6,
   "id": "599ba68c-17b0-4024-a72b-050be995d11b",
   "metadata": {},
   "outputs": [
    {
     "data": {
      "text/plain": [
       "868"
      ]
     },
     "execution_count": 6,
     "metadata": {},
     "output_type": "execute_result"
    }
   ],
   "source": [
    "df_prods_prediccion=pd.read_csv(arch_prod_ids_prediccion)\n",
    "len(df_prods_prediccion)"
   ]
  },
  {
   "cell_type": "code",
   "execution_count": 7,
   "id": "7b8e6762-4d09-4706-9aad-91c91ffebb52",
   "metadata": {},
   "outputs": [
    {
     "data": {
      "text/plain": [
       "868"
      ]
     },
     "execution_count": 7,
     "metadata": {},
     "output_type": "execute_result"
    }
   ],
   "source": [
    "df_sellout = df_sellout[df_sellout.product_id.isin(df_prods_prediccion.product_id)]\n",
    "df_sellout = df_sellout[[\"product_id\",\"product_id_tn\"]].reset_index(drop=True)\n",
    "df_sellout = df_sellout.rename(columns={\"product_id_tn\":\"tn\"})\n",
    "len(df_sellout)"
   ]
  },
  {
   "cell_type": "code",
   "execution_count": 8,
   "id": "473082b1-4c7e-4e32-823e-e83aabb52319",
   "metadata": {},
   "outputs": [
    {
     "data": {
      "text/html": [
       "<div>\n",
       "<style scoped>\n",
       "    .dataframe tbody tr th:only-of-type {\n",
       "        vertical-align: middle;\n",
       "    }\n",
       "\n",
       "    .dataframe tbody tr th {\n",
       "        vertical-align: top;\n",
       "    }\n",
       "\n",
       "    .dataframe thead th {\n",
       "        text-align: right;\n",
       "    }\n",
       "</style>\n",
       "<table border=\"1\" class=\"dataframe\">\n",
       "  <thead>\n",
       "    <tr style=\"text-align: right;\">\n",
       "      <th></th>\n",
       "      <th>product_id</th>\n",
       "      <th>tn</th>\n",
       "    </tr>\n",
       "  </thead>\n",
       "  <tbody>\n",
       "    <tr>\n",
       "      <th>0</th>\n",
       "      <td>20001</td>\n",
       "      <td>1647.63848</td>\n",
       "    </tr>\n",
       "    <tr>\n",
       "      <th>1</th>\n",
       "      <td>20002</td>\n",
       "      <td>1287.62346</td>\n",
       "    </tr>\n",
       "    <tr>\n",
       "      <th>2</th>\n",
       "      <td>20003</td>\n",
       "      <td>565.33774</td>\n",
       "    </tr>\n",
       "    <tr>\n",
       "      <th>3</th>\n",
       "      <td>20004</td>\n",
       "      <td>466.70901</td>\n",
       "    </tr>\n",
       "    <tr>\n",
       "      <th>4</th>\n",
       "      <td>20005</td>\n",
       "      <td>624.99880</td>\n",
       "    </tr>\n",
       "  </tbody>\n",
       "</table>\n",
       "</div>"
      ],
      "text/plain": [
       "   product_id          tn\n",
       "0       20001  1647.63848\n",
       "1       20002  1287.62346\n",
       "2       20003   565.33774\n",
       "3       20004   466.70901\n",
       "4       20005   624.99880"
      ]
     },
     "execution_count": 8,
     "metadata": {},
     "output_type": "execute_result"
    }
   ],
   "source": [
    "df_sellout.head()"
   ]
  },
  {
   "cell_type": "code",
   "execution_count": 9,
   "id": "19cbcee5-2a95-4454-8eec-67e4a3b636e9",
   "metadata": {},
   "outputs": [
    {
     "data": {
      "text/plain": [
       "33763.86541"
      ]
     },
     "execution_count": 9,
     "metadata": {},
     "output_type": "execute_result"
    }
   ],
   "source": [
    "df_sellout.to_excel(arch_salida,index=False)\n",
    "df_sellout.tn.sum()"
   ]
  }
 ],
 "metadata": {
  "kernelspec": {
   "display_name": "Python 3 (ipykernel)",
   "language": "python",
   "name": "python3"
  },
  "language_info": {
   "codemirror_mode": {
    "name": "ipython",
    "version": 3
   },
   "file_extension": ".py",
   "mimetype": "text/x-python",
   "name": "python",
   "nbconvert_exporter": "python",
   "pygments_lexer": "ipython3",
   "version": "3.10.12"
  }
 },
 "nbformat": 4,
 "nbformat_minor": 5
}
