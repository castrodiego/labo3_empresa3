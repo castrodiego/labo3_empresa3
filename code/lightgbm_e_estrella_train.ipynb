{
 "cells": [
  {
   "cell_type": "code",
   "execution_count": 1,
   "id": "946a34f4-5c14-46cf-a39d-9794031463bb",
   "metadata": {},
   "outputs": [
    {
     "data": {
      "text/html": [
       "<style type='text/css'>\n",
       ".datatable table.frame { margin-bottom: 0; }\n",
       ".datatable table.frame thead { border-bottom: none; }\n",
       ".datatable table.frame tr.coltypes td {  color: #FFFFFF;  line-height: 6px;  padding: 0 0.5em;}\n",
       ".datatable .bool    { background: #DDDD99; }\n",
       ".datatable .object  { background: #565656; }\n",
       ".datatable .int     { background: #5D9E5D; }\n",
       ".datatable .float   { background: #4040CC; }\n",
       ".datatable .str     { background: #CC4040; }\n",
       ".datatable .time    { background: #40CC40; }\n",
       ".datatable .row_index {  background: var(--jp-border-color3);  border-right: 1px solid var(--jp-border-color0);  color: var(--jp-ui-font-color3);  font-size: 9px;}\n",
       ".datatable .frame tbody td { text-align: left; }\n",
       ".datatable .frame tr.coltypes .row_index {  background: var(--jp-border-color0);}\n",
       ".datatable th:nth-child(2) { padding-left: 12px; }\n",
       ".datatable .hellipsis {  color: var(--jp-cell-editor-border-color);}\n",
       ".datatable .vellipsis {  background: var(--jp-layout-color0);  color: var(--jp-cell-editor-border-color);}\n",
       ".datatable .na {  color: var(--jp-cell-editor-border-color);  font-size: 80%;}\n",
       ".datatable .sp {  opacity: 0.25;}\n",
       ".datatable .footer { font-size: 9px; }\n",
       ".datatable .frame_dimensions {  background: var(--jp-border-color3);  border-top: 1px solid var(--jp-border-color0);  color: var(--jp-ui-font-color3);  display: inline-block;  opacity: 0.6;  padding: 1px 10px 1px 5px;}\n",
       ".datatable .frame thead tr.colnames {  background-image: url('data:image/png;base64,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');  background-repeat: repeat-x;  background-size: 14px;  height: 28px;}\n",
       "</style>\n"
      ],
      "text/plain": [
       "<IPython.core.display.HTML object>"
      ]
     },
     "metadata": {},
     "output_type": "display_data"
    }
   ],
   "source": [
    "import os\n",
    "import lightgbm as lgb\n",
    "import pandas as pd\n",
    "import warnings\n",
    "from matplotlib import pyplot as plt\n",
    "import seaborn as sns\n",
    "import numpy as np\n",
    "import datetime\n",
    "import optuna\n",
    "import random\n",
    "from datetime import datetime\n",
    "import pytz\n",
    "\n",
    "# importo los .py\n",
    "import sys\n",
    "sys.path.append(\"auxiliares\")\n",
    "import config\n",
    "import metricas\n",
    "import lightgbm_aux\n",
    "import extras\n",
    "\n",
    "pd.options.display.float_format = '{:.2f}'.format\n",
    "pd.set_option('display.max_columns', None)\n",
    "\n",
    "# Ignore all warnings\n",
    "warnings.filterwarnings(\"ignore\")"
   ]
  },
  {
   "cell_type": "code",
   "execution_count": 2,
   "id": "11ac74ea-68b7-46f2-83ba-a06c00f1e25c",
   "metadata": {},
   "outputs": [],
   "source": [
    "####################################################\n",
    "############# Setear segun cada maquina ############\n",
    "#os.chdir(\"C:/Users/herna/labo3_empresa3_repo/\")\n",
    "#os.chdir(\"C:/diego_tools/labo3/\")\n",
    "os.chdir(\"/home/dcastro_contacto/buckets/b1/\")\n",
    "####################################################"
   ]
  },
  {
   "cell_type": "code",
   "execution_count": 3,
   "id": "02238d29-8545-4363-b04a-f73d55495d00",
   "metadata": {},
   "outputs": [],
   "source": [
    "arch_entrada = \"datasets/emp3_sellout_fe_estrellas.csv\"\n",
    "carpeta_base_exp = \"exp/estrella/\""
   ]
  },
  {
   "cell_type": "code",
   "execution_count": 4,
   "id": "547b30c6-7d6b-4c08-872b-6a88a987b237",
   "metadata": {},
   "outputs": [],
   "source": [
    "def lgbm_error_rate(preds, train_data):\n",
    "    labels = train_data.get_label()\n",
    "    ret_val = metricas.error_rate(labels,preds)\n",
    "    return 'ER', ret_val, False"
   ]
  },
  {
   "cell_type": "code",
   "execution_count": 5,
   "id": "fcc3b371-807e-45c2-954d-3e720b30ede9",
   "metadata": {},
   "outputs": [],
   "source": [
    "def objective(trial):\n",
    "    print(\"****************\", config.OBJECTIVE_PARAM, \"****************\")\n",
    "    \n",
    "    lgb_params = {\n",
    "        'objective': config.OBJECTIVE_PARAM,\n",
    "        'first_metric_only': True,\n",
    "        'boost_from_average': True,\n",
    "        'max_depth':-1,\n",
    "        'lambda_l1': trial.suggest_uniform('lambda_l1', 0.0,config.L1_UPPER_PARAM),\n",
    "        'lambda_l2': trial.suggest_uniform('lambda_l2', 0.0,config.L2_UPPER_PARAM),\n",
    "        'min_gain_to_split':0.0,\n",
    "        'force_row_wise':True,\n",
    "        'feature_pre_filter':False,\n",
    "        'metric': \"None\",\n",
    "        'max_bin': config.MAX_BIN_PARAM,\n",
    "        'learning_rate': trial.suggest_uniform('learning_rate', config.LEARNING_RATE_LOWER_PARAM,config.LEARNING_RATE_UPPER_PARAM ),\n",
    "        'num_leaves' : trial.suggest_int('num_leaves', config.NUM_LEAVES_LOWER_PARAM, config.NUM_LEAVES_UPPER_PARAM),\n",
    "        'feature_fraction': trial.suggest_uniform('feature_fraction', config.FEATURE_FRACTION_LOWER_PARAM, config.FEATURE_FRACTION_UPPER_PARAM),\n",
    "        'min_data_in_leaf': trial.suggest_int('min_data_in_leaf', config.MIN_DATA_IN_LEAF_LOWER_PARAM, config.MIN_DATA_IN_LEAF_UPPER_PARAM),\n",
    "        #'bagging_freq':trial.suggest_int('bagging_freq', 1, 10),\n",
    "        #'bagging_fraction': trial.suggest_categorical('bagging_fraction',[0.7,0.75,0.8,0.85,0.9,0.95]),\n",
    "        #'extra_trees':trial.suggest_categorical('extra_trees',[True,False]),\n",
    "        'verbose':-100,\n",
    "        'num_threads':-1\n",
    "    }\n",
    "    \n",
    "    lgb_params_num_boost_round = 10000  #un numero muy grande, lo limita early_stopping_rounds\n",
    "    lgb_params_early_stopping_rounds = int(50 + 5/lgb_params['learning_rate']) #  #el parametro discolo, que depende de otro\n",
    "    \n",
    "    lgb_train = lgb.Dataset(data=X_train, label=y_train, feature_name=cols_entren)\n",
    "    lgb_validate = lgb.Dataset(data=X_validate, label=y_validate, reference=lgb_train, feature_name=cols_entren)\n",
    "    \n",
    "    #Train using selected parameters\n",
    "    model = lgb.train(lgb_params, lgb_train,\n",
    "                  valid_sets=[lgb_validate],\n",
    "                  num_boost_round=lgb_params_num_boost_round,\n",
    "                  early_stopping_rounds=lgb_params_early_stopping_rounds,\n",
    "                  feval=lgbm_error_rate,\n",
    "                  verbose_eval=100)\n",
    "    \n",
    "    y_pred_validate =model.predict(X_validate) #Create predictions on test set\n",
    "    er_validate = metricas.error_rate(y_validate,y_pred_validate)\n",
    "    \n",
    "    GLOBAL_PARAMS_ITER.append(lgb_params)\n",
    "    GLOBAL_BEST_IT_ITER.append(model.best_iteration)\n",
    "    GLOBAL_ER_VALIDATE_ITER.append(er_validate)\n",
    "    GLOBAL_MODEL_ITER.append(model)\n",
    "    \n",
    "    return er_validate"
   ]
  },
  {
   "cell_type": "code",
   "execution_count": 6,
   "id": "53ccdb1f-2f93-4bb9-9f57-9bdf50c4251f",
   "metadata": {},
   "outputs": [],
   "source": [
    "##############################################"
   ]
  },
  {
   "cell_type": "code",
   "execution_count": 7,
   "id": "71aa4bfe-d204-451c-85fe-ae97ee3d0248",
   "metadata": {},
   "outputs": [
    {
     "name": "stdout",
     "output_type": "stream",
     "text": [
      "<class 'pandas.core.frame.DataFrame'>\n",
      "RangeIndex: 3900 entries, 0 to 3899\n",
      "Data columns (total 48 columns):\n",
      " #   Column                      Non-Null Count  Dtype  \n",
      "---  ------                      --------------  -----  \n",
      " 0   product_id                  3900 non-null   int64  \n",
      " 1   periodo                     3900 non-null   int64  \n",
      " 2   customer_id                 3900 non-null   int64  \n",
      " 3   cero_ventas                 3900 non-null   int64  \n",
      " 4   plan_precios_cuidados       3900 non-null   float64\n",
      " 5   cust_request_qty            3900 non-null   float64\n",
      " 6   cust_request_tn             3900 non-null   float64\n",
      " 7   tn                          3900 non-null   float64\n",
      " 8   periodo_fecha               3900 non-null   object \n",
      " 9   mes                         3900 non-null   int64  \n",
      " 10  meses_historia_prod         3900 non-null   int64  \n",
      " 11  meses_historia_cliente      3900 non-null   int64  \n",
      " 12  cliente_estrella            3900 non-null   int64  \n",
      " 13  prod_cust                   3900 non-null   object \n",
      " 14  cat1                        3900 non-null   object \n",
      " 15  cat2                        3900 non-null   object \n",
      " 16  cat3                        3900 non-null   object \n",
      " 17  brand                       3900 non-null   object \n",
      " 18  sku_size                    3900 non-null   float64\n",
      " 19  producto_estrella           3900 non-null   float64\n",
      " 20  temp_media                  3900 non-null   float64\n",
      " 21  temp_max_media              3900 non-null   float64\n",
      " 22  temp_min_media              3900 non-null   float64\n",
      " 23  IPC                         3900 non-null   float64\n",
      " 24  promedio_mens_dolar_venta   3900 non-null   float64\n",
      " 25  catastrofe                  3900 non-null   bool   \n",
      " 26  tn_mas_2                    3880 non-null   float64\n",
      " 27  dif_cust_request_tn         3900 non-null   float64\n",
      " 28  dif_cust_request_tn_porc    3900 non-null   float64\n",
      " 29  prod_cust_tn_delta_lag_1    3780 non-null   float64\n",
      " 30  prod_cust_tn_delta_lag_2    3660 non-null   float64\n",
      " 31  prod_cust_tn_delta_lag_3    3540 non-null   float64\n",
      " 32  customer_id_tn              3900 non-null   float64\n",
      " 33  customer_id_tn_delta_lag_1  3792 non-null   float64\n",
      " 34  customer_id_tn_delta_lag_2  3684 non-null   float64\n",
      " 35  customer_id_tn_delta_lag_3  3576 non-null   float64\n",
      " 36  cat1_tn                     3900 non-null   float64\n",
      " 37  cat1_tn_delta_lag_1         3792 non-null   float64\n",
      " 38  cat1_tn_delta_lag_2         3684 non-null   float64\n",
      " 39  cat1_tn_delta_lag_3         3576 non-null   float64\n",
      " 40  cat2_tn                     3900 non-null   float64\n",
      " 41  cat2_tn_delta_lag_1         3792 non-null   float64\n",
      " 42  cat2_tn_delta_lag_2         3684 non-null   float64\n",
      " 43  cat2_tn_delta_lag_3         3576 non-null   float64\n",
      " 44  cat3_tn                     3900 non-null   float64\n",
      " 45  cat3_tn_delta_lag_1         3792 non-null   float64\n",
      " 46  cat3_tn_delta_lag_2         3684 non-null   float64\n",
      " 47  cat3_tn_delta_lag_3         3576 non-null   float64\n",
      "dtypes: bool(1), float64(33), int64(8), object(6)\n",
      "memory usage: 1.4+ MB\n"
     ]
    }
   ],
   "source": [
    "df_sellout = pd.read_csv(arch_entrada)\n",
    "df_sellout.info()"
   ]
  },
  {
   "cell_type": "code",
   "execution_count": 8,
   "id": "410062a1-3b44-4d5a-8a2b-5832f25f669e",
   "metadata": {},
   "outputs": [],
   "source": [
    "### Categoricas\n",
    "df_sellout = extras.convertir_categoricas_prod_cust(df_sellout)\n",
    "\n",
    "df_sellout = df_sellout.drop(columns=[\"periodo_fecha\",\"brand\"])"
   ]
  },
  {
   "cell_type": "code",
   "execution_count": 9,
   "id": "5f866703-ece7-4986-93aa-84b957781f3f",
   "metadata": {},
   "outputs": [
    {
     "name": "stdout",
     "output_type": "stream",
     "text": [
      "Periodos entrenar: [201701 201702 201703 201704 201705 201706 201707 201708 201709 201710\n",
      " 201711 201712 201801 201802 201803 201804 201805 201806 201807 201808\n",
      " 201809 201810 201811 201812 201901 201902 201903 201904 201905]\n",
      "Periodos validar: [201907]\n",
      "prod_cust a validar: 120\n"
     ]
    }
   ],
   "source": [
    "### Split de datasets\n",
    "df_train = df_sellout[(df_sellout.periodo <= config.TRAIN_PERIODO_LIMITE_PARAM) & (df_sellout.periodo >= config.PERIODO_INICIO_PARAM)]\n",
    "df_validate = df_sellout[(df_sellout.periodo == config.VALIDATE_PERIODO_PARAM)]\n",
    "\n",
    "print(\"Periodos entrenar:\",df_train.periodo.unique())\n",
    "print(\"Periodos validar:\",df_validate.periodo.unique())\n",
    "\n",
    "df_validate = df_validate.sort_values(by=\"prod_cust\",ascending=True)\n",
    "print(\"prod_cust a validar:\", len(df_validate))"
   ]
  },
  {
   "cell_type": "code",
   "execution_count": 10,
   "id": "7f5f95f4-44a3-46b9-9683-df39935b83b7",
   "metadata": {},
   "outputs": [
    {
     "name": "stdout",
     "output_type": "stream",
     "text": [
      "X_train: (3180, 44)\n",
      "y_train: (3180,)\n",
      "\n",
      "X_validate: (120, 44)\n",
      "y_validate: (120,)\n"
     ]
    }
   ],
   "source": [
    "### Armado variables entrenamiento\n",
    "cols_remover_entren = [\"tn_mas_2\",\"periodo\"]\n",
    "\n",
    "# Train - Validate\n",
    "X_train = df_train.drop(columns=cols_remover_entren, axis=1)\n",
    "X_validate = df_validate.drop(columns=cols_remover_entren, axis=1)\n",
    "\n",
    "y_train = df_train.tn_mas_2\n",
    "y_validate = df_validate.tn_mas_2\n",
    "\n",
    "print(\"X_train:\", X_train.shape)\n",
    "print(\"y_train:\", y_train.shape)\n",
    "\n",
    "print(\"\\nX_validate:\", X_validate.shape)\n",
    "print(\"y_validate:\", y_validate.shape)\n",
    "\n",
    "cols_entren = X_train.columns.tolist()"
   ]
  },
  {
   "cell_type": "code",
   "execution_count": 11,
   "id": "f77112b6-dc5c-4227-ac0f-0a4e3bab3943",
   "metadata": {},
   "outputs": [
    {
     "name": "stderr",
     "output_type": "stream",
     "text": [
      "[I 2023-12-12 23:55:21,292] A new study created in memory with name: no-name-c8864525-58a0-4b14-9939-48a6162d5d9c\n",
      "[I 2023-12-12 23:55:21,356] Trial 0 finished with value: 102.6 and parameters: {'lambda_l1': 652.1777412859394, 'lambda_l2': 782.7929865424162, 'learning_rate': 0.08030461455051097, 'num_leaves': 298, 'feature_fraction': 0.6145439214243382, 'min_data_in_leaf': 3008}. Best is trial 0 with value: 102.6.\n"
     ]
    },
    {
     "name": "stdout",
     "output_type": "stream",
     "text": [
      "**************** regression ****************\n",
      "Training until validation scores don't improve for 112 rounds\n",
      "[100]\tvalid_0's ER: 166.18\n",
      "Early stopping, best iteration is:\n",
      "[1]\tvalid_0's ER: 166.18\n",
      "Evaluated only: ER\n",
      "**************** regression ****************\n",
      "Training until validation scores don't improve for 472 rounds\n",
      "[100]\tvalid_0's ER: 90.22\n",
      "[200]\tvalid_0's ER: 82\n",
      "[300]\tvalid_0's ER: 78\n",
      "[400]\tvalid_0's ER: 74.14\n",
      "[500]\tvalid_0's ER: 71.39\n",
      "[600]\tvalid_0's ER: 68.77\n",
      "[700]\tvalid_0's ER: 66.58\n",
      "[800]\tvalid_0's ER: 64.81\n",
      "[900]\tvalid_0's ER: 63.43\n",
      "[1000]\tvalid_0's ER: 62.58\n",
      "[1100]\tvalid_0's ER: 61.79\n",
      "[1200]\tvalid_0's ER: 61.33\n",
      "[1300]\tvalid_0's ER: 61.08\n",
      "[1400]\tvalid_0's ER: 60.83\n",
      "[1500]\tvalid_0's ER: 60.65\n",
      "[1600]\tvalid_0's ER: 60.5\n",
      "[1700]\tvalid_0's ER: 60.29\n",
      "[1800]\tvalid_0's ER: 59.99\n",
      "[1900]\tvalid_0's ER: 59.86\n",
      "[2000]\tvalid_0's ER: 59.79\n",
      "[2100]\tvalid_0's ER: 59.71\n",
      "[2200]\tvalid_0's ER: 59.55\n",
      "[2300]\tvalid_0's ER: 59.39\n",
      "[2400]\tvalid_0's ER: 59.3\n",
      "[2500]\tvalid_0's ER: 59.14\n",
      "[2600]\tvalid_0's ER: 58.98\n",
      "[2700]\tvalid_0's ER: 58.83\n",
      "[2800]\tvalid_0's ER: 58.67\n",
      "[2900]\tvalid_0's ER: 58.52\n",
      "[3000]\tvalid_0's ER: 58.3\n",
      "[3100]\tvalid_0's ER: 58.18\n",
      "[3200]\tvalid_0's ER: 58.05\n",
      "[3300]\tvalid_0's ER: 57.9\n",
      "[3400]\tvalid_0's ER: 57.75\n",
      "[3500]\tvalid_0's ER: 57.6\n",
      "[3600]\tvalid_0's ER: 57.53\n",
      "[3700]\tvalid_0's ER: 57.42\n",
      "[3800]\tvalid_0's ER: 57.41\n",
      "[3900]\tvalid_0's ER: 57.28\n",
      "[4000]\tvalid_0's ER: 57.24\n",
      "[4100]\tvalid_0's ER: 57.15\n",
      "[4200]\tvalid_0's ER: 57.08\n",
      "[4300]\tvalid_0's ER: 56.94\n",
      "[4400]\tvalid_0's ER: 56.91\n",
      "[4500]\tvalid_0's ER: 56.84\n",
      "[4600]\tvalid_0's ER: 56.8\n",
      "[4700]\tvalid_0's ER: 56.75\n",
      "[4800]\tvalid_0's ER: 56.68\n",
      "[4900]\tvalid_0's ER: 56.62\n",
      "[5000]\tvalid_0's ER: 56.6\n",
      "[5100]\tvalid_0's ER: 56.54\n",
      "[5200]\tvalid_0's ER: 56.49\n",
      "[5300]\tvalid_0's ER: 56.46\n",
      "[5400]\tvalid_0's ER: 56.43\n",
      "[5500]\tvalid_0's ER: 56.38\n",
      "[5600]\tvalid_0's ER: 56.34\n",
      "[5700]\tvalid_0's ER: 56.32\n",
      "[5800]\tvalid_0's ER: 56.3\n",
      "[5900]\tvalid_0's ER: 56.29\n",
      "[6000]\tvalid_0's ER: 56.29\n",
      "[6100]\tvalid_0's ER: 56.21\n",
      "[6200]\tvalid_0's ER: 56.19\n",
      "[6300]\tvalid_0's ER: 56.17\n",
      "[6400]\tvalid_0's ER: 56.13\n",
      "[6500]\tvalid_0's ER: 56.08\n",
      "[6600]\tvalid_0's ER: 56.06\n",
      "[6700]\tvalid_0's ER: 56.02\n",
      "[6800]\tvalid_0's ER: 55.96\n",
      "[6900]\tvalid_0's ER: 55.95\n",
      "[7000]\tvalid_0's ER: 55.92\n",
      "[7100]\tvalid_0's ER: 55.9\n",
      "[7200]\tvalid_0's ER: 55.88\n",
      "[7300]\tvalid_0's ER: 55.84\n",
      "[7400]\tvalid_0's ER: 55.8\n",
      "[7500]\tvalid_0's ER: 55.75\n",
      "[7600]\tvalid_0's ER: 55.71\n",
      "[7700]\tvalid_0's ER: 55.7\n",
      "[7800]\tvalid_0's ER: 55.66\n",
      "[7900]\tvalid_0's ER: 55.62\n",
      "[8000]\tvalid_0's ER: 55.62\n",
      "[8100]\tvalid_0's ER: 55.61\n",
      "[8200]\tvalid_0's ER: 55.59\n",
      "[8300]\tvalid_0's ER: 55.57\n",
      "[8400]\tvalid_0's ER: 55.54\n",
      "[8500]\tvalid_0's ER: 55.52\n",
      "[8600]\tvalid_0's ER: 55.49\n",
      "[8700]\tvalid_0's ER: 55.47\n",
      "[8800]\tvalid_0's ER: 55.44\n",
      "[8900]\tvalid_0's ER: 55.41\n",
      "[9000]\tvalid_0's ER: 55.4\n",
      "[9100]\tvalid_0's ER: 55.37\n",
      "[9200]\tvalid_0's ER: 55.34\n",
      "[9300]\tvalid_0's ER: 55.33\n",
      "[9400]\tvalid_0's ER: 55.3\n",
      "[9500]\tvalid_0's ER: 55.31\n",
      "[9600]\tvalid_0's ER: 55.31\n",
      "[9700]\tvalid_0's ER: 55.28\n",
      "[9800]\tvalid_0's ER: 55.26\n",
      "[9900]\tvalid_0's ER: 55.23\n",
      "[10000]\tvalid_0's ER: 55.23\n",
      "Did not meet early stopping. Best iteration is:\n",
      "[9919]\tvalid_0's ER: 55.22\n",
      "Evaluated only: ER\n"
     ]
    },
    {
     "name": "stderr",
     "output_type": "stream",
     "text": [
      "[I 2023-12-12 23:55:24,889] Trial 1 finished with value: 55.22 and parameters: {'lambda_l1': 729.0860537685355, 'lambda_l2': 73.57945775576724, 'learning_rate': 0.011845971893819368, 'num_leaves': 15, 'feature_fraction': 0.23645640508756421, 'min_data_in_leaf': 847}. Best is trial 1 with value: 55.22.\n",
      "[I 2023-12-12 23:55:24,966] Trial 2 finished with value: 102.6 and parameters: {'lambda_l1': 821.1774961312841, 'lambda_l2': 161.42581047786885, 'learning_rate': 0.1651668548560594, 'num_leaves': 747, 'feature_fraction': 0.23445611461888768, 'min_data_in_leaf': 1618}. Best is trial 1 with value: 55.22.\n",
      "[I 2023-12-12 23:55:25,012] Trial 3 finished with value: 102.6 and parameters: {'lambda_l1': 172.66865620741257, 'lambda_l2': 537.3561182947071, 'learning_rate': 0.2202049088929976, 'num_leaves': 703, 'feature_fraction': 0.33462432205876613, 'min_data_in_leaf': 5721}. Best is trial 1 with value: 55.22.\n",
      "[I 2023-12-12 23:55:25,058] Trial 4 finished with value: 102.6 and parameters: {'lambda_l1': 783.3162151552195, 'lambda_l2': 325.47260036247536, 'learning_rate': 0.13007845357119788, 'num_leaves': 161, 'feature_fraction': 0.3638198189704649, 'min_data_in_leaf': 6023}. Best is trial 1 with value: 55.22.\n"
     ]
    },
    {
     "name": "stdout",
     "output_type": "stream",
     "text": [
      "**************** regression ****************\n",
      "Training until validation scores don't improve for 80 rounds\n",
      "Early stopping, best iteration is:\n",
      "[1]\tvalid_0's ER: 166.18\n",
      "Evaluated only: ER\n",
      "**************** regression ****************\n",
      "Training until validation scores don't improve for 72 rounds\n",
      "Early stopping, best iteration is:\n",
      "[1]\tvalid_0's ER: 166.18\n",
      "Evaluated only: ER\n",
      "**************** regression ****************\n",
      "Training until validation scores don't improve for 88 rounds\n",
      "Early stopping, best iteration is:\n",
      "[1]\tvalid_0's ER: 166.18\n",
      "Evaluated only: ER\n",
      "**************** regression ****************\n",
      "Training until validation scores don't improve for 435 rounds\n"
     ]
    },
    {
     "name": "stderr",
     "output_type": "stream",
     "text": [
      "[I 2023-12-12 23:55:25,172] Trial 5 finished with value: 102.6 and parameters: {'lambda_l1': 662.9648825118405, 'lambda_l2': 730.8145789181904, 'learning_rate': 0.012965638432345234, 'num_leaves': 237, 'feature_fraction': 0.3000584750378996, 'min_data_in_leaf': 5153}. Best is trial 1 with value: 55.22.\n",
      "[I 2023-12-12 23:55:25,214] Trial 6 finished with value: 102.6 and parameters: {'lambda_l1': 674.2364910022013, 'lambda_l2': 751.0539209592173, 'learning_rate': 0.13072408237088734, 'num_leaves': 365, 'feature_fraction': 0.6531395823072421, 'min_data_in_leaf': 4154}. Best is trial 1 with value: 55.22.\n",
      "[I 2023-12-12 23:55:25,256] Trial 7 finished with value: 102.6 and parameters: {'lambda_l1': 497.1154693410753, 'lambda_l2': 49.41861265119496, 'learning_rate': 0.13027306477294903, 'num_leaves': 645, 'feature_fraction': 0.954531184969156, 'min_data_in_leaf': 3435}. Best is trial 1 with value: 55.22.\n"
     ]
    },
    {
     "name": "stdout",
     "output_type": "stream",
     "text": [
      "[100]\tvalid_0's ER: 166.18\n",
      "[200]\tvalid_0's ER: 166.18\n",
      "[300]\tvalid_0's ER: 166.18\n",
      "[400]\tvalid_0's ER: 166.18\n",
      "Early stopping, best iteration is:\n",
      "[1]\tvalid_0's ER: 166.18\n",
      "Evaluated only: ER\n",
      "**************** regression ****************\n",
      "Training until validation scores don't improve for 88 rounds\n",
      "Early stopping, best iteration is:\n",
      "[1]\tvalid_0's ER: 166.18\n",
      "Evaluated only: ER\n",
      "**************** regression ****************\n",
      "Training until validation scores don't improve for 88 rounds\n",
      "Early stopping, best iteration is:\n",
      "[1]\tvalid_0's ER: 166.18\n",
      "Evaluated only: ER\n",
      "**************** regression ****************\n",
      "Training until validation scores don't improve for 109 rounds\n",
      "[100]\tvalid_0's ER: 84.56\n",
      "[200]\tvalid_0's ER: 81.54\n",
      "[300]\tvalid_0's ER: 81.08\n",
      "[400]\tvalid_0's ER: 80.71\n",
      "[500]\tvalid_0's ER: 80.49\n",
      "[600]\tvalid_0's ER: 80.49\n",
      "Early stopping, best iteration is:\n",
      "[507]\tvalid_0's ER: 80.44\n",
      "Evaluated only: ER\n"
     ]
    },
    {
     "name": "stderr",
     "output_type": "stream",
     "text": [
      "[I 2023-12-12 23:55:25,529] Trial 8 finished with value: 80.44 and parameters: {'lambda_l1': 227.87809048888997, 'lambda_l2': 957.6494509959567, 'learning_rate': 0.08334849305754852, 'num_leaves': 486, 'feature_fraction': 0.5229417738197588, 'min_data_in_leaf': 1178}. Best is trial 1 with value: 55.22.\n"
     ]
    },
    {
     "name": "stdout",
     "output_type": "stream",
     "text": [
      "**************** regression ****************\n",
      "Training until validation scores don't improve for 86 rounds\n",
      "[100]\tvalid_0's ER: 56.22\n",
      "[200]\tvalid_0's ER: 55.04\n"
     ]
    },
    {
     "name": "stderr",
     "output_type": "stream",
     "text": [
      "[I 2023-12-12 23:55:25,751] Trial 9 finished with value: 54.92 and parameters: {'lambda_l1': 533.3398855363862, 'lambda_l2': 620.339553086254, 'learning_rate': 0.13544474514028818, 'num_leaves': 361, 'feature_fraction': 0.9387753680977968, 'min_data_in_leaf': 413}. Best is trial 9 with value: 54.92.\n",
      "[I 2023-12-12 23:55:25,835] Trial 10 finished with value: 102.6 and parameters: {'lambda_l1': 960.3923491606442, 'lambda_l2': 485.44038327472816, 'learning_rate': 0.2990264647018198, 'num_leaves': 986, 'feature_fraction': 0.9784430583332826, 'min_data_in_leaf': 7953}. Best is trial 9 with value: 54.92.\n"
     ]
    },
    {
     "name": "stdout",
     "output_type": "stream",
     "text": [
      "Early stopping, best iteration is:\n",
      "[192]\tvalid_0's ER: 54.92\n",
      "Evaluated only: ER\n",
      "**************** regression ****************\n",
      "Training until validation scores don't improve for 66 rounds\n",
      "Early stopping, best iteration is:\n",
      "[1]\tvalid_0's ER: 166.18\n",
      "Evaluated only: ER\n",
      "**************** regression ****************\n",
      "Training until validation scores don't improve for 362 rounds\n",
      "[100]\tvalid_0's ER: 63.17\n",
      "[200]\tvalid_0's ER: 55.6\n",
      "[300]\tvalid_0's ER: 53.07\n",
      "[400]\tvalid_0's ER: 51.97\n",
      "[500]\tvalid_0's ER: 51.96\n",
      "[600]\tvalid_0's ER: 52.23\n",
      "[700]\tvalid_0's ER: 52.09\n"
     ]
    },
    {
     "name": "stderr",
     "output_type": "stream",
     "text": [
      "[I 2023-12-12 23:55:26,950] Trial 11 finished with value: 51.86 and parameters: {'lambda_l1': 456.55117240025487, 'lambda_l2': 50.4070116521781, 'learning_rate': 0.01598504010832047, 'num_leaves': 14, 'feature_fraction': 0.8002175646911395, 'min_data_in_leaf': 119}. Best is trial 11 with value: 51.86.\n"
     ]
    },
    {
     "name": "stdout",
     "output_type": "stream",
     "text": [
      "[800]\tvalid_0's ER: 52.12\n",
      "Early stopping, best iteration is:\n",
      "[474]\tvalid_0's ER: 51.86\n",
      "Evaluated only: ER\n",
      "**************** regression ****************\n",
      "Training until validation scores don't improve for 129 rounds\n",
      "[100]\tvalid_0's ER: 53.67\n",
      "[200]\tvalid_0's ER: 52.89\n",
      "[300]\tvalid_0's ER: 52.42\n",
      "[400]\tvalid_0's ER: 52.39\n",
      "[500]\tvalid_0's ER: 52.36\n"
     ]
    },
    {
     "name": "stderr",
     "output_type": "stream",
     "text": [
      "[I 2023-12-12 23:55:27,704] Trial 12 finished with value: 52.21 and parameters: {'lambda_l1': 452.79273327146865, 'lambda_l2': 244.143033144737, 'learning_rate': 0.06307606414585824, 'num_leaves': 20, 'feature_fraction': 0.8344603124714988, 'min_data_in_leaf': 142}. Best is trial 11 with value: 51.86.\n",
      "[I 2023-12-12 23:55:27,782] Trial 13 finished with value: 102.6 and parameters: {'lambda_l1': 340.68847585468427, 'lambda_l2': 239.82011900733465, 'learning_rate': 0.05011328495737374, 'num_leaves': 19, 'feature_fraction': 0.7994536424444305, 'min_data_in_leaf': 2192}. Best is trial 11 with value: 51.86.\n"
     ]
    },
    {
     "name": "stdout",
     "output_type": "stream",
     "text": [
      "Early stopping, best iteration is:\n",
      "[448]\tvalid_0's ER: 52.21\n",
      "Evaluated only: ER\n",
      "**************** regression ****************\n",
      "Training until validation scores don't improve for 149 rounds\n",
      "[100]\tvalid_0's ER: 166.18\n",
      "Early stopping, best iteration is:\n",
      "[1]\tvalid_0's ER: 166.18\n",
      "Evaluated only: ER\n",
      "**************** regression ****************\n",
      "Training until validation scores don't improve for 152 rounds\n",
      "[100]\tvalid_0's ER: 52.32\n",
      "[200]\tvalid_0's ER: 53.91\n"
     ]
    },
    {
     "name": "stderr",
     "output_type": "stream",
     "text": [
      "[I 2023-12-12 23:55:30,524] Trial 14 finished with value: 51.85 and parameters: {'lambda_l1': 3.2031238627124594, 'lambda_l2': 27.040926251258895, 'learning_rate': 0.04865604158599028, 'num_leaves': 129, 'feature_fraction': 0.799165448120327, 'min_data_in_leaf': 0}. Best is trial 14 with value: 51.85.\n",
      "[I 2023-12-12 23:55:30,608] Trial 15 finished with value: 102.6 and parameters: {'lambda_l1': 154.60750680700045, 'lambda_l2': 25.390928738688856, 'learning_rate': 0.041885303108186174, 'num_leaves': 155, 'feature_fraction': 0.7518147985974737, 'min_data_in_leaf': 2245}. Best is trial 14 with value: 51.85.\n"
     ]
    },
    {
     "name": "stdout",
     "output_type": "stream",
     "text": [
      "Early stopping, best iteration is:\n",
      "[84]\tvalid_0's ER: 51.85\n",
      "Evaluated only: ER\n",
      "**************** regression ****************\n",
      "Training until validation scores don't improve for 169 rounds\n",
      "[100]\tvalid_0's ER: 166.18\n",
      "Early stopping, best iteration is:\n",
      "[1]\tvalid_0's ER: 166.18\n",
      "Evaluated only: ER\n",
      "**************** regression ****************\n",
      "Training until validation scores don't improve for 106 rounds\n"
     ]
    },
    {
     "name": "stderr",
     "output_type": "stream",
     "text": [
      "[I 2023-12-12 23:55:31,158] Trial 16 finished with value: 52.18 and parameters: {'lambda_l1': 44.52386229484562, 'lambda_l2': 10.497211012634615, 'learning_rate': 0.08808136006921505, 'num_leaves': 160, 'feature_fraction': 0.7114565785933085, 'min_data_in_leaf': 31}. Best is trial 14 with value: 51.85.\n"
     ]
    },
    {
     "name": "stdout",
     "output_type": "stream",
     "text": [
      "[100]\tvalid_0's ER: 54.49\n",
      "Early stopping, best iteration is:\n",
      "[40]\tvalid_0's ER: 52.18\n",
      "Evaluated only: ER\n",
      "**************** regression ****************\n"
     ]
    },
    {
     "name": "stderr",
     "output_type": "stream",
     "text": [
      "[I 2023-12-12 23:55:31,291] Trial 17 finished with value: 102.6 and parameters: {'lambda_l1': 38.911891225127704, 'lambda_l2': 349.7652778334554, 'learning_rate': 0.012277307798720327, 'num_leaves': 481, 'feature_fraction': 0.8699339420389255, 'min_data_in_leaf': 1699}. Best is trial 14 with value: 51.85.\n",
      "[I 2023-12-12 23:55:31,376] Trial 18 finished with value: 102.6 and parameters: {'lambda_l1': 296.58505992316066, 'lambda_l2': 134.64816895488937, 'learning_rate': 0.04157300281848725, 'num_leaves': 126, 'feature_fraction': 0.8662523724730382, 'min_data_in_leaf': 3111}. Best is trial 14 with value: 51.85.\n"
     ]
    },
    {
     "name": "stdout",
     "output_type": "stream",
     "text": [
      "Training until validation scores don't improve for 457 rounds\n",
      "[100]\tvalid_0's ER: 166.18\n",
      "[200]\tvalid_0's ER: 166.18\n",
      "[300]\tvalid_0's ER: 166.18\n",
      "[400]\tvalid_0's ER: 166.18\n",
      "Early stopping, best iteration is:\n",
      "[1]\tvalid_0's ER: 166.18\n",
      "Evaluated only: ER\n",
      "**************** regression ****************\n",
      "Training until validation scores don't improve for 170 rounds\n",
      "[100]\tvalid_0's ER: 166.18\n",
      "Early stopping, best iteration is:\n",
      "[1]\tvalid_0's ER: 166.18\n",
      "Evaluated only: ER\n",
      "**************** regression ****************\n"
     ]
    },
    {
     "name": "stderr",
     "output_type": "stream",
     "text": [
      "[I 2023-12-12 23:55:31,454] Trial 19 finished with value: 102.6 and parameters: {'lambda_l1': 398.79547190814105, 'lambda_l2': 145.6139397110953, 'learning_rate': 0.09812358437487426, 'num_leaves': 270, 'feature_fraction': 0.7327655872745406, 'min_data_in_leaf': 7726}. Best is trial 14 with value: 51.85.\n"
     ]
    },
    {
     "name": "stdout",
     "output_type": "stream",
     "text": [
      "Training until validation scores don't improve for 100 rounds\n",
      "[100]\tvalid_0's ER: 166.18\n",
      "Early stopping, best iteration is:\n",
      "[1]\tvalid_0's ER: 166.18\n",
      "Evaluated only: ER\n",
      "**************** regression ****************\n",
      "Training until validation scores don't improve for 204 rounds\n",
      "[100]\tvalid_0's ER: 87.45\n",
      "[200]\tvalid_0's ER: 83.8\n",
      "[300]\tvalid_0's ER: 81.73\n",
      "[400]\tvalid_0's ER: 81.05\n",
      "[500]\tvalid_0's ER: 80.99\n",
      "[600]\tvalid_0's ER: 80.96\n",
      "[700]\tvalid_0's ER: 80.62\n",
      "[800]\tvalid_0's ER: 80.41\n",
      "[900]\tvalid_0's ER: 80.31\n",
      "[1000]\tvalid_0's ER: 80.1\n",
      "[1100]\tvalid_0's ER: 79.91\n",
      "[1200]\tvalid_0's ER: 79.77\n",
      "[1300]\tvalid_0's ER: 79.48\n",
      "[1400]\tvalid_0's ER: 79.3\n"
     ]
    },
    {
     "name": "stderr",
     "output_type": "stream",
     "text": [
      "[I 2023-12-12 23:55:32,351] Trial 20 finished with value: 79.25 and parameters: {'lambda_l1': 12.069233701625592, 'lambda_l2': 340.5931567791116, 'learning_rate': 0.03227837547938858, 'num_leaves': 904, 'feature_fraction': 0.5316247081353042, 'min_data_in_leaf': 971}. Best is trial 14 with value: 51.85.\n"
     ]
    },
    {
     "name": "stdout",
     "output_type": "stream",
     "text": [
      "[1500]\tvalid_0's ER: 79.4\n",
      "Early stopping, best iteration is:\n",
      "[1335]\tvalid_0's ER: 79.25\n",
      "Evaluated only: ER\n",
      "**************** regression ****************\n",
      "Training until validation scores don't improve for 124 rounds\n",
      "[100]\tvalid_0's ER: 52.4\n"
     ]
    },
    {
     "name": "stderr",
     "output_type": "stream",
     "text": [
      "[I 2023-12-12 23:55:32,873] Trial 21 finished with value: 51.72 and parameters: {'lambda_l1': 104.92794974300244, 'lambda_l2': 15.85638304529403, 'learning_rate': 0.0674920551764681, 'num_leaves': 132, 'feature_fraction': 0.7138561906989741, 'min_data_in_leaf': 52}. Best is trial 21 with value: 51.72.\n"
     ]
    },
    {
     "name": "stdout",
     "output_type": "stream",
     "text": [
      "[200]\tvalid_0's ER: 54.11\n",
      "Early stopping, best iteration is:\n",
      "[78]\tvalid_0's ER: 51.72\n",
      "Evaluated only: ER\n",
      "**************** regression ****************\n",
      "Training until validation scores don't improve for 131 rounds\n",
      "[100]\tvalid_0's ER: 58.63\n",
      "[200]\tvalid_0's ER: 55.96\n",
      "[300]\tvalid_0's ER: 54.55\n"
     ]
    },
    {
     "name": "stderr",
     "output_type": "stream",
     "text": [
      "[I 2023-12-12 23:55:33,170] Trial 22 finished with value: 53.73 and parameters: {'lambda_l1': 146.5656066005813, 'lambda_l2': 20.165179547661467, 'learning_rate': 0.06150402714046713, 'num_leaves': 101, 'feature_fraction': 0.7755403437298592, 'min_data_in_leaf': 852}. Best is trial 21 with value: 51.72.\n"
     ]
    },
    {
     "name": "stdout",
     "output_type": "stream",
     "text": [
      "[400]\tvalid_0's ER: 53.8\n",
      "[500]\tvalid_0's ER: 53.87\n",
      "Early stopping, best iteration is:\n",
      "[413]\tvalid_0's ER: 53.73\n",
      "Evaluated only: ER\n",
      "**************** regression ****************\n",
      "Training until validation scores don't improve for 200 rounds\n",
      "[100]\tvalid_0's ER: 56.19\n",
      "[200]\tvalid_0's ER: 52.27\n",
      "[300]\tvalid_0's ER: 51.69\n",
      "[400]\tvalid_0's ER: 51.68\n"
     ]
    },
    {
     "name": "stderr",
     "output_type": "stream",
     "text": [
      "[I 2023-12-12 23:55:34,705] Trial 23 finished with value: 51.52 and parameters: {'lambda_l1': 98.75779390606857, 'lambda_l2': 92.45670247138425, 'learning_rate': 0.033189561581947524, 'num_leaves': 387, 'feature_fraction': 0.667983203456592, 'min_data_in_leaf': 37}. Best is trial 23 with value: 51.52.\n"
     ]
    },
    {
     "name": "stdout",
     "output_type": "stream",
     "text": [
      "[500]\tvalid_0's ER: 51.95\n",
      "Early stopping, best iteration is:\n",
      "[344]\tvalid_0's ER: 51.52\n",
      "Evaluated only: ER\n",
      "**************** regression ****************\n"
     ]
    },
    {
     "name": "stderr",
     "output_type": "stream",
     "text": [
      "[I 2023-12-12 23:55:34,790] Trial 24 finished with value: 102.6 and parameters: {'lambda_l1': 93.40924992829058, 'lambda_l2': 114.60293302511684, 'learning_rate': 0.061463054952729856, 'num_leaves': 399, 'feature_fraction': 0.6779605386388237, 'min_data_in_leaf': 1813}. Best is trial 23 with value: 51.52.\n"
     ]
    },
    {
     "name": "stdout",
     "output_type": "stream",
     "text": [
      "Training until validation scores don't improve for 131 rounds\n",
      "[100]\tvalid_0's ER: 166.18\n",
      "Early stopping, best iteration is:\n",
      "[1]\tvalid_0's ER: 166.18\n",
      "Evaluated only: ER\n",
      "**************** regression ****************\n",
      "Training until validation scores don't improve for 192 rounds\n",
      "[100]\tvalid_0's ER: 61.61\n",
      "[200]\tvalid_0's ER: 57.85\n",
      "[300]\tvalid_0's ER: 56.41\n",
      "[400]\tvalid_0's ER: 55.17\n",
      "[500]\tvalid_0's ER: 54.64\n",
      "[600]\tvalid_0's ER: 54.1\n",
      "[700]\tvalid_0's ER: 53.91\n"
     ]
    },
    {
     "name": "stderr",
     "output_type": "stream",
     "text": [
      "[I 2023-12-12 23:55:35,377] Trial 25 finished with value: 53.7 and parameters: {'lambda_l1': 239.62938964043857, 'lambda_l2': 1.4798063358936453, 'learning_rate': 0.035090399065049266, 'num_leaves': 559, 'feature_fraction': 0.6555853014611582, 'min_data_in_leaf': 818}. Best is trial 23 with value: 51.52.\n"
     ]
    },
    {
     "name": "stdout",
     "output_type": "stream",
     "text": [
      "[800]\tvalid_0's ER: 53.78\n",
      "[900]\tvalid_0's ER: 53.74\n",
      "[1000]\tvalid_0's ER: 53.74\n",
      "[1100]\tvalid_0's ER: 53.78\n",
      "Early stopping, best iteration is:\n",
      "[940]\tvalid_0's ER: 53.7\n",
      "Evaluated only: ER\n",
      "**************** regression ****************\n"
     ]
    },
    {
     "name": "stderr",
     "output_type": "stream",
     "text": [
      "[I 2023-12-12 23:55:35,453] Trial 26 finished with value: 102.6 and parameters: {'lambda_l1': 70.46375124117331, 'lambda_l2': 191.02405488657917, 'learning_rate': 0.1083852455134322, 'num_leaves': 227, 'feature_fraction': 0.7095297930815887, 'min_data_in_leaf': 2329}. Best is trial 23 with value: 51.52.\n"
     ]
    },
    {
     "name": "stdout",
     "output_type": "stream",
     "text": [
      "Training until validation scores don't improve for 96 rounds\n",
      "Early stopping, best iteration is:\n",
      "[1]\tvalid_0's ER: 166.18\n",
      "Evaluated only: ER\n",
      "**************** regression ****************\n",
      "Training until validation scores don't improve for 120 rounds\n",
      "[100]\tvalid_0's ER: 82.99\n",
      "[200]\tvalid_0's ER: 80.96\n",
      "[300]\tvalid_0's ER: 80.43\n"
     ]
    },
    {
     "name": "stderr",
     "output_type": "stream",
     "text": [
      "[I 2023-12-12 23:55:35,807] Trial 27 finished with value: 79.96 and parameters: {'lambda_l1': 117.19347964234808, 'lambda_l2': 99.33612570790685, 'learning_rate': 0.07097595964781182, 'num_leaves': 425, 'feature_fraction': 0.5860801164263021, 'min_data_in_leaf': 1308}. Best is trial 23 with value: 51.52.\n"
     ]
    },
    {
     "name": "stdout",
     "output_type": "stream",
     "text": [
      "[400]\tvalid_0's ER: 80.36\n",
      "[500]\tvalid_0's ER: 80.16\n",
      "[600]\tvalid_0's ER: 80.01\n",
      "[700]\tvalid_0's ER: 79.96\n",
      "[800]\tvalid_0's ER: 80.02\n",
      "Early stopping, best iteration is:\n",
      "[699]\tvalid_0's ER: 79.96\n",
      "Evaluated only: ER\n",
      "**************** regression ****************\n"
     ]
    },
    {
     "name": "stderr",
     "output_type": "stream",
     "text": [
      "[I 2023-12-12 23:55:35,892] Trial 28 finished with value: 102.6 and parameters: {'lambda_l1': 7.651511111633226, 'lambda_l2': 190.94045927376794, 'learning_rate': 0.050204589071916814, 'num_leaves': 315, 'feature_fraction': 0.9062170187340947, 'min_data_in_leaf': 4430}. Best is trial 23 with value: 51.52.\n",
      "[I 2023-12-12 23:55:35,974] Trial 29 finished with value: 102.6 and parameters: {'lambda_l1': 219.82120753022582, 'lambda_l2': 91.35091302025606, 'learning_rate': 0.07749452802742418, 'num_leaves': 582, 'feature_fraction': 0.6156720752387321, 'min_data_in_leaf': 2776}. Best is trial 23 with value: 51.52.\n"
     ]
    },
    {
     "name": "stdout",
     "output_type": "stream",
     "text": [
      "Training until validation scores don't improve for 149 rounds\n",
      "[100]\tvalid_0's ER: 166.18\n",
      "Early stopping, best iteration is:\n",
      "[1]\tvalid_0's ER: 166.18\n",
      "Evaluated only: ER\n",
      "**************** regression ****************\n",
      "Training until validation scores don't improve for 114 rounds\n",
      "[100]\tvalid_0's ER: 166.18\n",
      "Early stopping, best iteration is:\n",
      "[1]\tvalid_0's ER: 166.18\n",
      "Evaluated only: ER\n",
      "# Experimentos: 30\n",
      "Mejor experimento: {'lambda_l1': 98.75779390606857, 'lambda_l2': 92.45670247138425, 'learning_rate': 0.033189561581947524, 'num_leaves': 387, 'feature_fraction': 0.667983203456592, 'min_data_in_leaf': 37}\n"
     ]
    }
   ],
   "source": [
    "### Optimizacion Bayesiana\n",
    "GLOBAL_PARAMS_ITER = []\n",
    "GLOBAL_BEST_IT_ITER = []\n",
    "GLOBAL_ER_VALIDATE_ITER = []\n",
    "GLOBAL_MODEL_ITER = []\n",
    "\n",
    "study = optuna.create_study(direction='minimize')\n",
    "study.optimize(objective, n_trials=config.CANT_ITERACIONES_OPT_BAY_PARAM)\n",
    "print('# Experimentos:', len(study.trials))\n",
    "print('Mejor experimento:', study.best_trial.params)"
   ]
  },
  {
   "cell_type": "code",
   "execution_count": 12,
   "id": "933cdc68-eb97-4e4c-b8bf-0eafdfb04c64",
   "metadata": {},
   "outputs": [
    {
     "data": {
      "image/png": "[encoded data removed]",
      "text/plain": [
       "<Figure size 720x720 with 1 Axes>"
      ]
     },
     "metadata": {
      "needs_background": "light"
     },
     "output_type": "display_data"
    }
   ],
   "source": [
    "# Feature Importance\n",
    "best_model_index = study.best_trial.number\n",
    "best_model = GLOBAL_MODEL_ITER[best_model_index]\n",
    "feature_importance = lightgbm_aux.plot_lgb_importances(best_model, num=30, plot=True)"
   ]
  },
  {
   "cell_type": "code",
   "execution_count": 13,
   "id": "1d0ec636-d1ae-446d-980a-70ac4499d75a",
   "metadata": {},
   "outputs": [
    {
     "name": "stdout",
     "output_type": "stream",
     "text": [
      "prod_cust a testear: 120\n",
      "Periodos entrenar ALL: [201701 201702 201703 201704 201705 201706 201707 201708 201709 201710\n",
      " 201711 201712 201801 201802 201803 201804 201805 201806 201807 201808\n",
      " 201809 201810 201811 201812 201901 201902 201903 201904 201905 201906\n",
      " 201907]\n",
      "Periodos holdout: [201910]\n",
      "\n",
      "X_train_all: (3420, 44)\n",
      "y_train_all: (3420,)\n",
      "\n",
      "X_holdout: (120, 44)\n",
      "y_holdout: (120,)\n"
     ]
    }
   ],
   "source": [
    "#Si se usa holdout, se generan variables para luego evaluar modelos\n",
    "if(config.USAR_HOLDOUT_PARAM):\n",
    "    # Dataframes\n",
    "    df_train_all = df_sellout[(df_sellout.periodo <= config.TRAIN_ALL_PERIODO_LIMITE_PARAM) & (df_sellout.periodo >= config.PERIODO_INICIO_PARAM)]\n",
    "    df_holdout = df_sellout[(df_sellout.periodo == config.HOLDOUT_PERIODO_PARAM)]\n",
    "    \n",
    "    df_holdout = df_holdout.sort_values(by=\"prod_cust\",ascending=True)\n",
    "    print(\"prod_cust a testear:\", len(df_holdout))\n",
    "\n",
    "    print(\"Periodos entrenar ALL:\",df_train_all.periodo.unique())\n",
    "    print(\"Periodos holdout:\",df_holdout.periodo.unique())\n",
    "\n",
    "    # Variables entrenamiento\n",
    "    X_train_all = df_train_all.drop(columns=cols_remover_entren, axis=1)\n",
    "    X_holdout = df_holdout.drop(columns=cols_remover_entren, axis=1)\n",
    "    \n",
    "    y_train_all = df_train_all.tn_mas_2\n",
    "    y_holdout = df_holdout.tn_mas_2\n",
    "    print(\"\\nX_train_all:\", X_train_all.shape)\n",
    "    print(\"y_train_all:\", y_train_all.shape)\n",
    "    \n",
    "    print(\"\\nX_holdout:\", X_holdout.shape)\n",
    "    print(\"y_holdout:\", y_holdout.shape)\n",
    "\n",
    "    lgbtrain_all = lgb.Dataset(data=X_train_all, label=y_train_all, feature_name=cols_entren)"
   ]
  },
  {
   "cell_type": "code",
   "execution_count": 14,
   "id": "1bec2d20-752c-4862-96c8-69f22a83b617",
   "metadata": {},
   "outputs": [
    {
     "data": {
      "text/plain": [
       "'20231212_205536'"
      ]
     },
     "execution_count": 14,
     "metadata": {},
     "output_type": "execute_result"
    }
   ],
   "source": [
    "current_datetime = datetime.now().astimezone(pytz.timezone('America/Argentina/Buenos_Aires'))\n",
    "exp_numero = current_datetime.strftime(\"%Y%m%d %H%M%S\").replace(\" \", \"_\")\n",
    "exp_numero"
   ]
  },
  {
   "cell_type": "code",
   "execution_count": 15,
   "id": "efb947b6-d349-475a-bb5c-234277c58a7f",
   "metadata": {},
   "outputs": [
    {
     "name": "stdout",
     "output_type": "stream",
     "text": [
      "Iteración: 0\n",
      "Iteración: 1\n",
      "Iteración: 2\n",
      "Iteración: 3\n",
      "Iteración: 4\n"
     ]
    }
   ],
   "source": [
    "# Guardo resultados\n",
    "carpeta_exp = carpeta_base_exp + exp_numero + \"/\"\n",
    "if not os.path.exists(carpeta_exp):\n",
    "    os.makedirs(carpeta_exp)\n",
    "    \n",
    "# Feature Importance\n",
    "feature_importance.to_csv(carpeta_exp + \"feature_importance.csv\",index=False)\n",
    "\n",
    "# Parametros\n",
    "parametros_nombres = [\"PERIODO_INICIO_PARAM\",\"TRAIN_PERIODO_LIMITE_PARAM\",\"VALIDATE_PERIODO_PARAM\",\"USAR_HOLDOUT_PARAM\",\n",
    "                      \"TRAIN_ALL_PERIODO_LIMITE_PARAM\",\"HOLDOUT_PERIODO_PARAM\",\n",
    "                      \"MODELO_FINAL_PERIODO_LIMITE_PARAM\",\"FUTURE_PERIODO_PARAM\",\n",
    "                      \"ARCH_PRODUCTOS_PREDICCION_ENTRENAMIENTO\",\"ARCH_PRODUCTOS_PREDICCION_FUTURE\",\n",
    "                      \"NUM_LAGS_PARAM\",\"FAMILIA_FEATURES_TEMP_PARAM\",\n",
    "                      \"CANT_ITERACIONES_OPT_BAY_PARAM\",\"CANT_SEMILLAS\"]\n",
    "\n",
    "parametros_valores = [config.PERIODO_INICIO_PARAM,config.TRAIN_PERIODO_LIMITE_PARAM,config.VALIDATE_PERIODO_PARAM,\n",
    "                      config.USAR_HOLDOUT_PARAM,config.TRAIN_ALL_PERIODO_LIMITE_PARAM,config.HOLDOUT_PERIODO_PARAM,\n",
    "                      config.MODELO_FINAL_PERIODO_LIMITE_PARAM,config.FUTURE_PERIODO_PARAM,\n",
    "                      config.ARCH_PRODUCTOS_PREDICCION_ENTRENAMIENTO,config.ARCH_PRODUCTOS_PREDICCION_FUTURE,\n",
    "                      config.NUM_LAGS_PARAM,config.FAMILIA_FEATURES_TEMP_PARAM,\n",
    "                      config.CANT_ITERACIONES_OPT_BAY_PARAM, config.CANT_SEMILLAS]\n",
    "\n",
    "parametros = pd.DataFrame(data={\"nombre\":parametros_nombres,\"valor\":parametros_valores})\n",
    "parametros.to_csv(carpeta_exp + \"parametros.csv\",index=False)\n",
    "\n",
    "# Optimizacion Bayesiana\n",
    "df_opt_bay = pd.DataFrame(data={\"lgb_params\":GLOBAL_PARAMS_ITER,\"best_iteration\":GLOBAL_BEST_IT_ITER,\n",
    "                                \"error_rate_validate\":GLOBAL_ER_VALIDATE_ITER})\n",
    "\n",
    "# Ordeno de menor a mayor\n",
    "df_opt_bay = df_opt_bay.sort_values(by=\"error_rate_validate\",ascending=True)\n",
    "df_opt_bay[\"index\"] = range(0,len(GLOBAL_PARAMS_ITER))\n",
    "\n",
    "# Holdout\n",
    "if(config.USAR_HOLDOUT_PARAM):\n",
    "    er_holdout_iter = [None] * len(df_opt_bay)\n",
    "    er_holdout_semillerio_iter = [None] * len(df_opt_bay)\n",
    "    \n",
    "    for i in range(config.OFFSET_EVAL_HOLDOUT,config.CANT_EVAL_HOLDOUT):\n",
    "        print(\"Iteración:\",i)\n",
    "\n",
    "        #Modelo Train All (Sin Semillerio)\n",
    "        model_train_all = lgb.train(df_opt_bay.iloc[i].lgb_params, lgbtrain_all, num_boost_round=df_opt_bay.iloc[i].best_iteration)\n",
    "        y_pred_holdout = model_train_all.predict(X_holdout)\n",
    "        er_holdout = metricas.error_rate(y_holdout,y_pred_holdout)\n",
    "        er_holdout_iter[i]=er_holdout\n",
    "        \n",
    "        #Semillerio\n",
    "        y_pred_holdout_semillerio = lightgbm_aux.semillerio(lgbtrain_all, df_opt_bay.iloc[i].lgb_params, df_opt_bay.iloc[i].best_iteration, X_holdout,config.CANT_SEMILLAS)\n",
    "        er_holdout_semillerio_iter[i]= metricas.error_rate(y_holdout,y_pred_holdout_semillerio)\n",
    "        \n",
    "    df_opt_bay[\"error_rate_holdout\"]=er_holdout_iter    \n",
    "    df_opt_bay[\"error_rate_holdout_semillerio\"]=er_holdout_semillerio_iter    \n",
    "\n",
    "df_opt_bay.to_excel(carpeta_exp +  \"opt_bay.xlsx\",index=False)"
   ]
  },
  {
   "cell_type": "code",
   "execution_count": 16,
   "id": "d4683c7c-e768-4b55-b897-b178f8c4fdd5",
   "metadata": {},
   "outputs": [
    {
     "name": "stdout",
     "output_type": "stream",
     "text": [
      "FINALIZADO\n"
     ]
    }
   ],
   "source": [
    "print(\"FINALIZADO\")"
   ]
  }
 ],
 "metadata": {
  "kernelspec": {
   "display_name": "Python 3 (ipykernel)",
   "language": "python",
   "name": "python3"
  },
  "language_info": {
   "codemirror_mode": {
    "name": "ipython",
    "version": 3
   },
   "file_extension": ".py",
   "mimetype": "text/x-python",
   "name": "python",
   "nbconvert_exporter": "python",
   "pygments_lexer": "ipython3",
   "version": "3.10.12"
  }
 },
 "nbformat": 4,
 "nbformat_minor": 5
}
