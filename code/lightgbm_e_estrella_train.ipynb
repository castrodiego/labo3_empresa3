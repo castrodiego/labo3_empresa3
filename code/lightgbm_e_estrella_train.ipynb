{
 "cells": [
  {
   "cell_type": "code",
   "execution_count": 1,
   "id": "946a34f4-5c14-46cf-a39d-9794031463bb",
   "metadata": {},
   "outputs": [
    {
     "data": {
      "text/html": [
       "<style type='text/css'>\n",
       ".datatable table.frame { margin-bottom: 0; }\n",
       ".datatable table.frame thead { border-bottom: none; }\n",
       ".datatable table.frame tr.coltypes td {  color: #FFFFFF;  line-height: 6px;  padding: 0 0.5em;}\n",
       ".datatable .bool    { background: #DDDD99; }\n",
       ".datatable .object  { background: #565656; }\n",
       ".datatable .int     { background: #5D9E5D; }\n",
       ".datatable .float   { background: #4040CC; }\n",
       ".datatable .str     { background: #CC4040; }\n",
       ".datatable .time    { background: #40CC40; }\n",
       ".datatable .row_index {  background: var(--jp-border-color3);  border-right: 1px solid var(--jp-border-color0);  color: var(--jp-ui-font-color3);  font-size: 9px;}\n",
       ".datatable .frame tbody td { text-align: left; }\n",
       ".datatable .frame tr.coltypes .row_index {  background: var(--jp-border-color0);}\n",
       ".datatable th:nth-child(2) { padding-left: 12px; }\n",
       ".datatable .hellipsis {  color: var(--jp-cell-editor-border-color);}\n",
       ".datatable .vellipsis {  background: var(--jp-layout-color0);  color: var(--jp-cell-editor-border-color);}\n",
       ".datatable .na {  color: var(--jp-cell-editor-border-color);  font-size: 80%;}\n",
       ".datatable .sp {  opacity: 0.25;}\n",
       ".datatable .footer { font-size: 9px; }\n",
       ".datatable .frame_dimensions {  background: var(--jp-border-color3);  border-top: 1px solid var(--jp-border-color0);  color: var(--jp-ui-font-color3);  display: inline-block;  opacity: 0.6;  padding: 1px 10px 1px 5px;}\n",
       ".datatable .frame thead tr.colnames {  background-image: url('data:image/png;base64,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');  background-repeat: repeat-x;  background-size: 14px;  height: 28px;}\n",
       "</style>\n"
      ],
      "text/plain": [
       "<IPython.core.display.HTML object>"
      ]
     },
     "metadata": {},
     "output_type": "display_data"
    }
   ],
   "source": [
    "import os\n",
    "import lightgbm as lgb\n",
    "import pandas as pd\n",
    "import warnings\n",
    "from matplotlib import pyplot as plt\n",
    "import seaborn as sns\n",
    "import numpy as np\n",
    "import datetime\n",
    "import optuna\n",
    "import random\n",
    "from datetime import datetime\n",
    "import pytz\n",
    "\n",
    "# importo los .py\n",
    "import sys\n",
    "sys.path.append(\"auxiliares\")\n",
    "import config\n",
    "import metricas\n",
    "import lightgbm_aux\n",
    "import extras\n",
    "\n",
    "pd.options.display.float_format = '{:.2f}'.format\n",
    "pd.set_option('display.max_columns', None)\n",
    "\n",
    "# Ignore all warnings\n",
    "warnings.filterwarnings(\"ignore\")"
   ]
  },
  {
   "cell_type": "code",
   "execution_count": 2,
   "id": "11ac74ea-68b7-46f2-83ba-a06c00f1e25c",
   "metadata": {},
   "outputs": [],
   "source": [
    "####################################################\n",
    "############# Setear segun cada maquina ############\n",
    "#os.chdir(\"C:/Users/herna/labo3_empresa3_repo/\")\n",
    "#os.chdir(\"C:/diego_tools/labo3/\")\n",
    "os.chdir(\"/home/dcastro_contacto/buckets/b1/\")\n",
    "####################################################"
   ]
  },
  {
   "cell_type": "code",
   "execution_count": 3,
   "id": "02238d29-8545-4363-b04a-f73d55495d00",
   "metadata": {},
   "outputs": [],
   "source": [
    "arch_entrada = \"datasets/emp3_sellout_fe_estrellas.csv\"\n",
    "carpeta_base_exp = \"exp/estrella/\""
   ]
  },
  {
   "cell_type": "code",
   "execution_count": 4,
   "id": "547b30c6-7d6b-4c08-872b-6a88a987b237",
   "metadata": {},
   "outputs": [],
   "source": [
    "def lgbm_error_rate(preds, train_data):\n",
    "    labels = train_data.get_label()\n",
    "    ret_val = metricas.error_rate(labels,preds)\n",
    "    return 'ER', ret_val, False"
   ]
  },
  {
   "cell_type": "code",
   "execution_count": 5,
   "id": "fcc3b371-807e-45c2-954d-3e720b30ede9",
   "metadata": {},
   "outputs": [],
   "source": [
    "def objective(trial):\n",
    "    print(\"****************\", config.OBJECTIVE_PARAM, \"****************\")\n",
    "    \n",
    "    lgb_params = {\n",
    "        'objective': config.OBJECTIVE_PARAM,\n",
    "        'first_metric_only': True,\n",
    "        'boost_from_average': True,\n",
    "        'max_depth':-1,\n",
    "        'lambda_l1': trial.suggest_uniform('lambda_l1', 0.0,config.L1_UPPER_PARAM),\n",
    "        'lambda_l2': trial.suggest_uniform('lambda_l2', 0.0,config.L2_UPPER_PARAM),\n",
    "        'min_gain_to_split':0.0,\n",
    "        'force_row_wise':True,\n",
    "        'feature_pre_filter':False,\n",
    "        'metric': \"None\",\n",
    "        'max_bin': config.MAX_BIN_PARAM,\n",
    "        'learning_rate': trial.suggest_uniform('learning_rate', config.LEARNING_RATE_LOWER_PARAM,config.LEARNING_RATE_UPPER_PARAM ),\n",
    "        'num_leaves' : trial.suggest_int('num_leaves', config.NUM_LEAVES_LOWER_PARAM, config.NUM_LEAVES_UPPER_PARAM),\n",
    "        'feature_fraction': trial.suggest_uniform('feature_fraction', config.FEATURE_FRACTION_LOWER_PARAM, config.FEATURE_FRACTION_UPPER_PARAM),\n",
    "        'min_data_in_leaf': trial.suggest_int('min_data_in_leaf', config.MIN_DATA_IN_LEAF_LOWER_PARAM, config.MIN_DATA_IN_LEAF_UPPER_PARAM),\n",
    "        #'bagging_freq':trial.suggest_int('bagging_freq', 1, 10),\n",
    "        #'bagging_fraction': trial.suggest_categorical('bagging_fraction',[0.7,0.75,0.8,0.85,0.9,0.95]),\n",
    "        #'extra_trees':trial.suggest_categorical('extra_trees',[True,False]),\n",
    "        'verbose':-100,\n",
    "        'num_threads':-1\n",
    "    }\n",
    "    \n",
    "    lgb_params_num_boost_round = 10000  #un numero muy grande, lo limita early_stopping_rounds\n",
    "    lgb_params_early_stopping_rounds = int(50 + 5/lgb_params['learning_rate']) #  #el parametro discolo, que depende de otro\n",
    "    \n",
    "    lgb_train = lgb.Dataset(data=X_train, label=y_train, feature_name=cols_entren)\n",
    "    lgb_validate = lgb.Dataset(data=X_validate, label=y_validate, reference=lgb_train, feature_name=cols_entren)\n",
    "    \n",
    "    #Train using selected parameters\n",
    "    model = lgb.train(lgb_params, lgb_train,\n",
    "                  valid_sets=[lgb_validate],\n",
    "                  num_boost_round=lgb_params_num_boost_round,\n",
    "                  early_stopping_rounds=lgb_params_early_stopping_rounds,\n",
    "                  feval=lgbm_error_rate,\n",
    "                  verbose_eval=100)\n",
    "    \n",
    "    y_pred_validate =model.predict(X_validate) #Create predictions on test set\n",
    "    er_validate = metricas.error_rate(y_validate,y_pred_validate)\n",
    "    \n",
    "    GLOBAL_PARAMS_ITER.append(lgb_params)\n",
    "    GLOBAL_BEST_IT_ITER.append(model.best_iteration)\n",
    "    GLOBAL_ER_VALIDATE_ITER.append(er_validate)\n",
    "    GLOBAL_MODEL_ITER.append(model)\n",
    "    \n",
    "    return er_validate"
   ]
  },
  {
   "cell_type": "code",
   "execution_count": 6,
   "id": "53ccdb1f-2f93-4bb9-9f57-9bdf50c4251f",
   "metadata": {},
   "outputs": [],
   "source": [
    "##############################################"
   ]
  },
  {
   "cell_type": "code",
   "execution_count": 7,
   "id": "71aa4bfe-d204-451c-85fe-ae97ee3d0248",
   "metadata": {},
   "outputs": [
    {
     "name": "stdout",
     "output_type": "stream",
     "text": [
      "<class 'pandas.core.frame.DataFrame'>\n",
      "RangeIndex: 3900 entries, 0 to 3899\n",
      "Columns: 558 entries, product_id to cat3_tn_bollinger_band_lower_15\n",
      "dtypes: bool(1), float64(543), int64(8), object(6)\n",
      "memory usage: 16.6+ MB\n"
     ]
    }
   ],
   "source": [
    "df_sellout = pd.read_csv(arch_entrada)\n",
    "df_sellout.info()"
   ]
  },
  {
   "cell_type": "code",
   "execution_count": 8,
   "id": "410062a1-3b44-4d5a-8a2b-5832f25f669e",
   "metadata": {},
   "outputs": [],
   "source": [
    "### Categoricas\n",
    "df_sellout = extras.convertir_categoricas_prod_cust(df_sellout)\n",
    "\n",
    "df_sellout = df_sellout.drop(columns=[\"periodo_fecha\",\"brand\"])"
   ]
  },
  {
   "cell_type": "code",
   "execution_count": 9,
   "id": "5f866703-ece7-4986-93aa-84b957781f3f",
   "metadata": {},
   "outputs": [
    {
     "name": "stdout",
     "output_type": "stream",
     "text": [
      "Periodos entrenar: [201701 201702 201703 201704 201705 201706 201707 201708 201709 201710\n",
      " 201711 201712 201801 201802 201803 201804 201805 201806 201807 201808\n",
      " 201809 201810 201811 201812 201901 201902 201903 201904 201905]\n",
      "Periodos validar: [201907]\n",
      "prod_cust a validar: 120\n"
     ]
    }
   ],
   "source": [
    "### Split de datasets\n",
    "df_train = df_sellout[(df_sellout.periodo <= config.TRAIN_PERIODO_LIMITE_PARAM) & (df_sellout.periodo >= config.PERIODO_INICIO_PARAM)]\n",
    "df_validate = df_sellout[(df_sellout.periodo == config.VALIDATE_PERIODO_PARAM)]\n",
    "\n",
    "print(\"Periodos entrenar:\",df_train.periodo.unique())\n",
    "print(\"Periodos validar:\",df_validate.periodo.unique())\n",
    "\n",
    "df_validate = df_validate.sort_values(by=\"prod_cust\",ascending=True)\n",
    "print(\"prod_cust a validar:\", len(df_validate))"
   ]
  },
  {
   "cell_type": "code",
   "execution_count": 10,
   "id": "7f5f95f4-44a3-46b9-9683-df39935b83b7",
   "metadata": {},
   "outputs": [
    {
     "name": "stdout",
     "output_type": "stream",
     "text": [
      "X_train: (3180, 554)\n",
      "y_train: (3180,)\n",
      "\n",
      "X_validate: (120, 554)\n",
      "y_validate: (120,)\n"
     ]
    }
   ],
   "source": [
    "### Armado variables entrenamiento\n",
    "cols_remover_entren = [\"tn_mas_2\",\"periodo\"]\n",
    "\n",
    "# Train - Validate\n",
    "X_train = df_train.drop(columns=cols_remover_entren, axis=1)\n",
    "X_validate = df_validate.drop(columns=cols_remover_entren, axis=1)\n",
    "\n",
    "y_train = df_train.tn_mas_2\n",
    "y_validate = df_validate.tn_mas_2\n",
    "\n",
    "print(\"X_train:\", X_train.shape)\n",
    "print(\"y_train:\", y_train.shape)\n",
    "\n",
    "print(\"\\nX_validate:\", X_validate.shape)\n",
    "print(\"y_validate:\", y_validate.shape)\n",
    "\n",
    "cols_entren = X_train.columns.tolist()"
   ]
  },
  {
   "cell_type": "code",
   "execution_count": 11,
   "id": "f77112b6-dc5c-4227-ac0f-0a4e3bab3943",
   "metadata": {},
   "outputs": [
    {
     "name": "stderr",
     "output_type": "stream",
     "text": [
      "[I 2023-12-12 23:12:03,897] A new study created in memory with name: no-name-ceb5e069-c640-4953-a08f-f4fb4cabe1d4\n"
     ]
    },
    {
     "name": "stdout",
     "output_type": "stream",
     "text": [
      "**************** regression ****************\n"
     ]
    },
    {
     "name": "stderr",
     "output_type": "stream",
     "text": [
      "[I 2023-12-12 23:12:04,166] Trial 0 finished with value: 102.6 and parameters: {'lambda_l1': 160.03583880133775, 'lambda_l2': 33.12890628363419, 'learning_rate': 0.04803582300588792, 'num_leaves': 226, 'feature_fraction': 0.8698161366988086, 'min_data_in_leaf': 2584}. Best is trial 0 with value: 102.6.\n"
     ]
    },
    {
     "name": "stdout",
     "output_type": "stream",
     "text": [
      "Training until validation scores don't improve for 154 rounds\n",
      "[100]\tvalid_0's ER: 166.18\n",
      "Early stopping, best iteration is:\n",
      "[1]\tvalid_0's ER: 166.18\n",
      "Evaluated only: ER\n",
      "**************** regression ****************\n"
     ]
    },
    {
     "name": "stderr",
     "output_type": "stream",
     "text": [
      "[I 2023-12-12 23:12:04,383] Trial 1 finished with value: 102.6 and parameters: {'lambda_l1': 301.20308037030486, 'lambda_l2': 535.3402769381805, 'learning_rate': 0.10409349377104656, 'num_leaves': 362, 'feature_fraction': 0.6962425253200981, 'min_data_in_leaf': 2367}. Best is trial 0 with value: 102.6.\n"
     ]
    },
    {
     "name": "stdout",
     "output_type": "stream",
     "text": [
      "Training until validation scores don't improve for 98 rounds\n",
      "Early stopping, best iteration is:\n",
      "[1]\tvalid_0's ER: 166.18\n",
      "Evaluated only: ER\n",
      "**************** regression ****************\n",
      "Training until validation scores don't improve for 73 rounds\n",
      "[100]\tvalid_0's ER: 78.28\n",
      "[200]\tvalid_0's ER: 76.44\n"
     ]
    },
    {
     "name": "stderr",
     "output_type": "stream",
     "text": [
      "[I 2023-12-12 23:12:05,379] Trial 2 finished with value: 75.67 and parameters: {'lambda_l1': 669.3144569822738, 'lambda_l2': 474.42391728853084, 'learning_rate': 0.20939275097578214, 'num_leaves': 503, 'feature_fraction': 0.49922252387895194, 'min_data_in_leaf': 980}. Best is trial 2 with value: 75.67.\n"
     ]
    },
    {
     "name": "stdout",
     "output_type": "stream",
     "text": [
      "[300]\tvalid_0's ER: 76.46\n",
      "Early stopping, best iteration is:\n",
      "[247]\tvalid_0's ER: 75.67\n",
      "Evaluated only: ER\n",
      "**************** regression ****************\n"
     ]
    },
    {
     "name": "stderr",
     "output_type": "stream",
     "text": [
      "[I 2023-12-12 23:12:05,630] Trial 3 finished with value: 102.6 and parameters: {'lambda_l1': 874.5178008261867, 'lambda_l2': 681.4052937824212, 'learning_rate': 0.10218442398104721, 'num_leaves': 72, 'feature_fraction': 0.417133136360036, 'min_data_in_leaf': 2208}. Best is trial 2 with value: 75.67.\n"
     ]
    },
    {
     "name": "stdout",
     "output_type": "stream",
     "text": [
      "Training until validation scores don't improve for 98 rounds\n",
      "Early stopping, best iteration is:\n",
      "[1]\tvalid_0's ER: 166.18\n",
      "Evaluated only: ER\n",
      "**************** regression ****************\n"
     ]
    },
    {
     "name": "stderr",
     "output_type": "stream",
     "text": [
      "[I 2023-12-12 23:12:05,961] Trial 4 finished with value: 102.6 and parameters: {'lambda_l1': 302.56018619048643, 'lambda_l2': 683.0236801412095, 'learning_rate': 0.05721020445179794, 'num_leaves': 866, 'feature_fraction': 0.8613266157240675, 'min_data_in_leaf': 3807}. Best is trial 2 with value: 75.67.\n"
     ]
    },
    {
     "name": "stdout",
     "output_type": "stream",
     "text": [
      "Training until validation scores don't improve for 137 rounds\n",
      "[100]\tvalid_0's ER: 166.18\n",
      "Early stopping, best iteration is:\n",
      "[1]\tvalid_0's ER: 166.18\n",
      "Evaluated only: ER\n",
      "**************** regression ****************\n",
      "Training until validation scores don't improve for 72 rounds\n",
      "[100]\tvalid_0's ER: 58.01\n",
      "[200]\tvalid_0's ER: 56.93\n"
     ]
    },
    {
     "name": "stderr",
     "output_type": "stream",
     "text": [
      "[I 2023-12-12 23:12:06,674] Trial 5 finished with value: 56.49 and parameters: {'lambda_l1': 970.4170742820532, 'lambda_l2': 916.4787929941219, 'learning_rate': 0.21795868484561867, 'num_leaves': 62, 'feature_fraction': 0.20251727239723527, 'min_data_in_leaf': 469}. Best is trial 5 with value: 56.49.\n"
     ]
    },
    {
     "name": "stdout",
     "output_type": "stream",
     "text": [
      "[300]\tvalid_0's ER: 56.74\n",
      "Early stopping, best iteration is:\n",
      "[254]\tvalid_0's ER: 56.49\n",
      "Evaluated only: ER\n",
      "**************** regression ****************\n"
     ]
    },
    {
     "name": "stderr",
     "output_type": "stream",
     "text": [
      "[I 2023-12-12 23:12:07,010] Trial 6 finished with value: 102.6 and parameters: {'lambda_l1': 75.18314836835071, 'lambda_l2': 877.4612186671183, 'learning_rate': 0.1288028280912511, 'num_leaves': 543, 'feature_fraction': 0.5220668881024828, 'min_data_in_leaf': 2299}. Best is trial 5 with value: 56.49.\n"
     ]
    },
    {
     "name": "stdout",
     "output_type": "stream",
     "text": [
      "Training until validation scores don't improve for 88 rounds\n",
      "Early stopping, best iteration is:\n",
      "[1]\tvalid_0's ER: 166.18\n",
      "Evaluated only: ER\n",
      "**************** regression ****************\n",
      "Training until validation scores don't improve for 94 rounds\n",
      "[100]\tvalid_0's ER: 83.72\n",
      "[200]\tvalid_0's ER: 81.48\n",
      "[300]\tvalid_0's ER: 80.46\n",
      "[400]\tvalid_0's ER: 79.21\n",
      "[500]\tvalid_0's ER: 78.33\n",
      "[600]\tvalid_0's ER: 77.94\n"
     ]
    },
    {
     "name": "stderr",
     "output_type": "stream",
     "text": [
      "[I 2023-12-12 23:12:08,632] Trial 7 finished with value: 77.83 and parameters: {'lambda_l1': 307.2201669517086, 'lambda_l2': 992.9857323860091, 'learning_rate': 0.11139629442841491, 'num_leaves': 481, 'feature_fraction': 0.8179370609037522, 'min_data_in_leaf': 1086}. Best is trial 5 with value: 56.49.\n"
     ]
    },
    {
     "name": "stdout",
     "output_type": "stream",
     "text": [
      "[700]\tvalid_0's ER: 78.01\n",
      "Early stopping, best iteration is:\n",
      "[625]\tvalid_0's ER: 77.83\n",
      "Evaluated only: ER\n",
      "**************** regression ****************\n"
     ]
    },
    {
     "name": "stderr",
     "output_type": "stream",
     "text": [
      "[I 2023-12-12 23:12:08,961] Trial 8 finished with value: 102.6 and parameters: {'lambda_l1': 906.7993388545385, 'lambda_l2': 557.9965642309546, 'learning_rate': 0.12247931485496429, 'num_leaves': 706, 'feature_fraction': 0.5116737960978661, 'min_data_in_leaf': 3867}. Best is trial 5 with value: 56.49.\n"
     ]
    },
    {
     "name": "stdout",
     "output_type": "stream",
     "text": [
      "Training until validation scores don't improve for 90 rounds\n",
      "Early stopping, best iteration is:\n",
      "[1]\tvalid_0's ER: 166.18\n",
      "Evaluated only: ER\n",
      "**************** regression ****************\n",
      "Training until validation scores don't improve for 131 rounds\n",
      "[100]\tvalid_0's ER: 86.17\n",
      "[200]\tvalid_0's ER: 82.54\n",
      "[300]\tvalid_0's ER: 81.41\n",
      "[400]\tvalid_0's ER: 80.55\n",
      "[500]\tvalid_0's ER: 79.8\n",
      "[600]\tvalid_0's ER: 79.27\n",
      "[700]\tvalid_0's ER: 78.86\n",
      "[800]\tvalid_0's ER: 78.58\n",
      "[900]\tvalid_0's ER: 78.43\n",
      "[1000]\tvalid_0's ER: 78.27\n",
      "[1100]\tvalid_0's ER: 78.21\n",
      "[1200]\tvalid_0's ER: 78.13\n",
      "[1300]\tvalid_0's ER: 78\n",
      "[1400]\tvalid_0's ER: 78\n",
      "Early stopping, best iteration is:\n",
      "[1358]\tvalid_0's ER: 77.96\n",
      "Evaluated only: ER\n"
     ]
    },
    {
     "name": "stderr",
     "output_type": "stream",
     "text": [
      "[I 2023-12-12 23:12:11,884] Trial 9 finished with value: 77.96 and parameters: {'lambda_l1': 743.5719608160732, 'lambda_l2': 846.4383297174121, 'learning_rate': 0.061299990600752446, 'num_leaves': 430, 'feature_fraction': 0.7956019608047715, 'min_data_in_leaf': 1393}. Best is trial 5 with value: 56.49.\n"
     ]
    },
    {
     "name": "stdout",
     "output_type": "stream",
     "text": [
      "**************** regression ****************\n",
      "Training until validation scores don't improve for 67 rounds\n"
     ]
    },
    {
     "name": "stderr",
     "output_type": "stream",
     "text": [
      "[I 2023-12-12 23:12:12,103] Trial 10 finished with value: 102.6 and parameters: {'lambda_l1': 994.8696549811773, 'lambda_l2': 946.7534344199554, 'learning_rate': 0.28061159546438197, 'num_leaves': 36, 'feature_fraction': 0.203230801842392, 'min_data_in_leaf': 7398}. Best is trial 5 with value: 56.49.\n"
     ]
    },
    {
     "name": "stdout",
     "output_type": "stream",
     "text": [
      "Early stopping, best iteration is:\n",
      "[1]\tvalid_0's ER: 166.18\n",
      "Evaluated only: ER\n",
      "**************** regression ****************\n",
      "Training until validation scores don't improve for 74 rounds\n",
      "[100]\tvalid_0's ER: 58.34\n"
     ]
    },
    {
     "name": "stderr",
     "output_type": "stream",
     "text": [
      "[I 2023-12-12 23:12:13,383] Trial 11 finished with value: 58.15 and parameters: {'lambda_l1': 658.6707644869316, 'lambda_l2': 331.5424443846109, 'learning_rate': 0.2004502317747021, 'num_leaves': 998, 'feature_fraction': 0.22931883499355368, 'min_data_in_leaf': 44}. Best is trial 5 with value: 56.49.\n"
     ]
    },
    {
     "name": "stdout",
     "output_type": "stream",
     "text": [
      "Early stopping, best iteration is:\n",
      "[103]\tvalid_0's ER: 58.15\n",
      "Evaluated only: ER\n",
      "**************** regression ****************\n",
      "Training until validation scores don't improve for 77 rounds\n",
      "[100]\tvalid_0's ER: 59.87\n",
      "[200]\tvalid_0's ER: 58.68\n"
     ]
    },
    {
     "name": "stderr",
     "output_type": "stream",
     "text": [
      "[I 2023-12-12 23:12:15,602] Trial 12 finished with value: 58.3 and parameters: {'lambda_l1': 583.6695541647845, 'lambda_l2': 350.8753935047945, 'learning_rate': 0.17947234936646975, 'num_leaves': 1004, 'feature_fraction': 0.21126159879222517, 'min_data_in_leaf': 8}. Best is trial 5 with value: 56.49.\n"
     ]
    },
    {
     "name": "stdout",
     "output_type": "stream",
     "text": [
      "Early stopping, best iteration is:\n",
      "[219]\tvalid_0's ER: 58.3\n",
      "Evaluated only: ER\n",
      "**************** regression ****************\n"
     ]
    },
    {
     "name": "stderr",
     "output_type": "stream",
     "text": [
      "[I 2023-12-12 23:12:15,879] Trial 13 finished with value: 102.6 and parameters: {'lambda_l1': 784.2557500022377, 'lambda_l2': 295.3488810029652, 'learning_rate': 0.22619910869245421, 'num_leaves': 731, 'feature_fraction': 0.2960684017100951, 'min_data_in_leaf': 6057}. Best is trial 5 with value: 56.49.\n"
     ]
    },
    {
     "name": "stdout",
     "output_type": "stream",
     "text": [
      "Training until validation scores don't improve for 72 rounds\n",
      "Early stopping, best iteration is:\n",
      "[1]\tvalid_0's ER: 166.18\n",
      "Evaluated only: ER\n",
      "**************** regression ****************\n"
     ]
    },
    {
     "name": "stderr",
     "output_type": "stream",
     "text": [
      "[I 2023-12-12 23:12:16,133] Trial 14 finished with value: 102.6 and parameters: {'lambda_l1': 524.2486837673114, 'lambda_l2': 750.5104960019341, 'learning_rate': 0.24070319647335958, 'num_leaves': 224, 'feature_fraction': 0.344195281890747, 'min_data_in_leaf': 5263}. Best is trial 5 with value: 56.49.\n"
     ]
    },
    {
     "name": "stdout",
     "output_type": "stream",
     "text": [
      "Training until validation scores don't improve for 70 rounds\n",
      "Early stopping, best iteration is:\n",
      "[1]\tvalid_0's ER: 166.18\n",
      "Evaluated only: ER\n",
      "**************** regression ****************\n",
      "Training until validation scores don't improve for 78 rounds\n",
      "[100]\tvalid_0's ER: 56.41\n",
      "[200]\tvalid_0's ER: 55.83\n"
     ]
    },
    {
     "name": "stderr",
     "output_type": "stream",
     "text": [
      "[I 2023-12-12 23:12:17,473] Trial 15 finished with value: 54.99 and parameters: {'lambda_l1': 998.3732312515276, 'lambda_l2': 807.2695926740516, 'learning_rate': 0.17746463893603295, 'num_leaves': 682, 'feature_fraction': 0.3289131487557503, 'min_data_in_leaf': 243}. Best is trial 15 with value: 54.99.\n"
     ]
    },
    {
     "name": "stdout",
     "output_type": "stream",
     "text": [
      "[300]\tvalid_0's ER: 55.33\n",
      "Early stopping, best iteration is:\n",
      "[254]\tvalid_0's ER: 54.99\n",
      "Evaluated only: ER\n",
      "**************** regression ****************\n",
      "Training until validation scores don't improve for 80 rounds\n",
      "[100]\tvalid_0's ER: 58.35\n",
      "[200]\tvalid_0's ER: 57.45\n",
      "Early stopping, best iteration is:\n",
      "[178]\tvalid_0's ER: 57.2\n",
      "Evaluated only: ER\n"
     ]
    },
    {
     "name": "stderr",
     "output_type": "stream",
     "text": [
      "[I 2023-12-12 23:12:18,387] Trial 16 finished with value: 57.2 and parameters: {'lambda_l1': 934.7865629758234, 'lambda_l2': 812.9497812671045, 'learning_rate': 0.16365784326609656, 'num_leaves': 685, 'feature_fraction': 0.3653270725999047, 'min_data_in_leaf': 573}. Best is trial 15 with value: 54.99.\n"
     ]
    },
    {
     "name": "stdout",
     "output_type": "stream",
     "text": [
      "**************** regression ****************\n"
     ]
    },
    {
     "name": "stderr",
     "output_type": "stream",
     "text": [
      "[I 2023-12-12 23:12:18,631] Trial 17 finished with value: 102.6 and parameters: {'lambda_l1': 995.3046560436909, 'lambda_l2': 998.9495020727812, 'learning_rate': 0.2631999118475615, 'num_leaves': 603, 'feature_fraction': 0.9961688563859521, 'min_data_in_leaf': 5039}. Best is trial 15 with value: 54.99.\n"
     ]
    },
    {
     "name": "stdout",
     "output_type": "stream",
     "text": [
      "Training until validation scores don't improve for 68 rounds\n",
      "Early stopping, best iteration is:\n",
      "[1]\tvalid_0's ER: 166.18\n",
      "Evaluated only: ER\n",
      "**************** regression ****************\n"
     ]
    },
    {
     "name": "stderr",
     "output_type": "stream",
     "text": [
      "[I 2023-12-12 23:12:18,891] Trial 18 finished with value: 102.6 and parameters: {'lambda_l1': 813.8482166223367, 'lambda_l2': 893.752398969538, 'learning_rate': 0.18414053084627452, 'num_leaves': 276, 'feature_fraction': 0.2849030360939739, 'min_data_in_leaf': 3287}. Best is trial 15 with value: 54.99.\n"
     ]
    },
    {
     "name": "stdout",
     "output_type": "stream",
     "text": [
      "Training until validation scores don't improve for 77 rounds\n",
      "Early stopping, best iteration is:\n",
      "[1]\tvalid_0's ER: 166.18\n",
      "Evaluated only: ER\n",
      "**************** regression ****************\n",
      "Training until validation scores don't improve for 67 rounds\n",
      "[100]\tvalid_0's ER: 81.17\n",
      "[200]\tvalid_0's ER: 79.76\n",
      "[300]\tvalid_0's ER: 79.09\n"
     ]
    },
    {
     "name": "stderr",
     "output_type": "stream",
     "text": [
      "[I 2023-12-12 23:12:19,744] Trial 19 finished with value: 79.0 and parameters: {'lambda_l1': 857.254123083504, 'lambda_l2': 769.3460358413977, 'learning_rate': 0.290923758185508, 'num_leaves': 885, 'feature_fraction': 0.41604058209634587, 'min_data_in_leaf': 1414}. Best is trial 15 with value: 54.99.\n"
     ]
    },
    {
     "name": "stdout",
     "output_type": "stream",
     "text": [
      "Early stopping, best iteration is:\n",
      "[271]\tvalid_0's ER: 79\n",
      "Evaluated only: ER\n",
      "**************** regression ****************\n"
     ]
    },
    {
     "name": "stderr",
     "output_type": "stream",
     "text": [
      "[I 2023-12-12 23:12:19,982] Trial 20 finished with value: 102.6 and parameters: {'lambda_l1': 996.8510862549463, 'lambda_l2': 911.3347471635152, 'learning_rate': 0.1529132232262881, 'num_leaves': 132, 'feature_fraction': 0.2914836174560562, 'min_data_in_leaf': 7231}. Best is trial 15 with value: 54.99.\n"
     ]
    },
    {
     "name": "stdout",
     "output_type": "stream",
     "text": [
      "Training until validation scores don't improve for 82 rounds\n",
      "Early stopping, best iteration is:\n",
      "[1]\tvalid_0's ER: 166.18\n",
      "Evaluated only: ER\n",
      "**************** regression ****************\n",
      "Training until validation scores don't improve for 80 rounds\n",
      "[100]\tvalid_0's ER: 58.28\n"
     ]
    },
    {
     "name": "stderr",
     "output_type": "stream",
     "text": [
      "[I 2023-12-12 23:12:20,833] Trial 21 finished with value: 57.68 and parameters: {'lambda_l1': 908.4947723897317, 'lambda_l2': 805.3157916764368, 'learning_rate': 0.16231141007889693, 'num_leaves': 680, 'feature_fraction': 0.37105413886832106, 'min_data_in_leaf': 549}. Best is trial 15 with value: 54.99.\n"
     ]
    },
    {
     "name": "stdout",
     "output_type": "stream",
     "text": [
      "[200]\tvalid_0's ER: 57.94\n",
      "Early stopping, best iteration is:\n",
      "[182]\tvalid_0's ER: 57.68\n",
      "Evaluated only: ER\n",
      "**************** regression ****************\n",
      "Training until validation scores don't improve for 71 rounds\n"
     ]
    },
    {
     "name": "stderr",
     "output_type": "stream",
     "text": [
      "[I 2023-12-12 23:12:21,457] Trial 22 finished with value: 56.57 and parameters: {'lambda_l1': 745.6518696110014, 'lambda_l2': 841.0757416547463, 'learning_rate': 0.23687388126165165, 'num_leaves': 805, 'feature_fraction': 0.38352314416792216, 'min_data_in_leaf': 582}. Best is trial 15 with value: 54.99.\n"
     ]
    },
    {
     "name": "stdout",
     "output_type": "stream",
     "text": [
      "[100]\tvalid_0's ER: 56.71\n",
      "Early stopping, best iteration is:\n",
      "[85]\tvalid_0's ER: 56.57\n",
      "Evaluated only: ER\n",
      "**************** regression ****************\n"
     ]
    },
    {
     "name": "stderr",
     "output_type": "stream",
     "text": [
      "[I 2023-12-12 23:12:21,755] Trial 23 finished with value: 102.6 and parameters: {'lambda_l1': 779.011626693527, 'lambda_l2': 923.190928989034, 'learning_rate': 0.24014811306872308, 'num_leaves': 816, 'feature_fraction': 0.436995295416705, 'min_data_in_leaf': 1623}. Best is trial 15 with value: 54.99.\n"
     ]
    },
    {
     "name": "stdout",
     "output_type": "stream",
     "text": [
      "Training until validation scores don't improve for 70 rounds\n",
      "Early stopping, best iteration is:\n",
      "[1]\tvalid_0's ER: 166.18\n",
      "Evaluated only: ER\n",
      "**************** regression ****************\n",
      "Training until validation scores don't improve for 69 rounds\n",
      "[100]\tvalid_0's ER: 56.46\n"
     ]
    },
    {
     "name": "stderr",
     "output_type": "stream",
     "text": [
      "[I 2023-12-12 23:12:22,499] Trial 24 finished with value: 55.36 and parameters: {'lambda_l1': 843.8783098867555, 'lambda_l2': 711.5312627710161, 'learning_rate': 0.2584665943274046, 'num_leaves': 614, 'feature_fraction': 0.2982373411723681, 'min_data_in_leaf': 491}. Best is trial 15 with value: 54.99.\n"
     ]
    },
    {
     "name": "stdout",
     "output_type": "stream",
     "text": [
      "[200]\tvalid_0's ER: 55.56\n",
      "Early stopping, best iteration is:\n",
      "[175]\tvalid_0's ER: 55.36\n",
      "Evaluated only: ER\n",
      "**************** regression ****************\n"
     ]
    },
    {
     "name": "stderr",
     "output_type": "stream",
     "text": [
      "[I 2023-12-12 23:12:22,773] Trial 25 finished with value: 102.6 and parameters: {'lambda_l1': 850.0718506283, 'lambda_l2': 704.975680932869, 'learning_rate': 0.2607990628661049, 'num_leaves': 615, 'feature_fraction': 0.272177755628752, 'min_data_in_leaf': 1773}. Best is trial 15 with value: 54.99.\n"
     ]
    },
    {
     "name": "stdout",
     "output_type": "stream",
     "text": [
      "Training until validation scores don't improve for 69 rounds\n",
      "Early stopping, best iteration is:\n",
      "[1]\tvalid_0's ER: 166.18\n",
      "Evaluated only: ER\n",
      "**************** regression ****************\n"
     ]
    },
    {
     "name": "stderr",
     "output_type": "stream",
     "text": [
      "[I 2023-12-12 23:12:23,029] Trial 26 finished with value: 102.6 and parameters: {'lambda_l1': 940.9307912308004, 'lambda_l2': 749.4412706400009, 'learning_rate': 0.2137460138235401, 'num_leaves': 363, 'feature_fraction': 0.24090837799937037, 'min_data_in_leaf': 2909}. Best is trial 15 with value: 54.99.\n"
     ]
    },
    {
     "name": "stdout",
     "output_type": "stream",
     "text": [
      "Training until validation scores don't improve for 73 rounds\n",
      "Early stopping, best iteration is:\n",
      "[1]\tvalid_0's ER: 166.18\n",
      "Evaluated only: ER\n",
      "**************** regression ****************\n",
      "Training until validation scores don't improve for 74 rounds\n",
      "[100]\tvalid_0's ER: 58.24\n"
     ]
    },
    {
     "name": "stderr",
     "output_type": "stream",
     "text": [
      "[I 2023-12-12 23:12:23,694] Trial 27 finished with value: 57.03 and parameters: {'lambda_l1': 826.1672316163983, 'lambda_l2': 638.9058147402496, 'learning_rate': 0.20073270529155945, 'num_leaves': 584, 'feature_fraction': 0.31064481942560485, 'min_data_in_leaf': 672}. Best is trial 15 with value: 54.99.\n"
     ]
    },
    {
     "name": "stdout",
     "output_type": "stream",
     "text": [
      "[200]\tvalid_0's ER: 57.49\n",
      "Early stopping, best iteration is:\n",
      "[156]\tvalid_0's ER: 57.03\n",
      "Evaluated only: ER\n",
      "**************** regression ****************\n",
      "Training until validation scores don't improve for 68 rounds\n",
      "[100]\tvalid_0's ER: 59.07\n",
      "[200]\tvalid_0's ER: 57.91\n",
      "Early stopping, best iteration is:\n",
      "[210]\tvalid_0's ER: 57.77\n",
      "Evaluated only: ER\n"
     ]
    },
    {
     "name": "stderr",
     "output_type": "stream",
     "text": [
      "[I 2023-12-12 23:12:24,583] Trial 28 finished with value: 57.77 and parameters: {'lambda_l1': 921.8326243224759, 'lambda_l2': 836.1929422711612, 'learning_rate': 0.26806420895988187, 'num_leaves': 435, 'feature_fraction': 0.20238999380506473, 'min_data_in_leaf': 184}. Best is trial 15 with value: 54.99.\n"
     ]
    },
    {
     "name": "stdout",
     "output_type": "stream",
     "text": [
      "**************** regression ****************\n",
      "Training until validation scores don't improve for 69 rounds\n"
     ]
    },
    {
     "name": "stderr",
     "output_type": "stream",
     "text": [
      "[I 2023-12-12 23:12:24,825] Trial 29 finished with value: 102.6 and parameters: {'lambda_l1': 857.0088817692176, 'lambda_l2': 625.2888048904309, 'learning_rate': 0.25475919055390633, 'num_leaves': 186, 'feature_fraction': 0.3364538900815934, 'min_data_in_leaf': 3010}. Best is trial 15 with value: 54.99.\n"
     ]
    },
    {
     "name": "stdout",
     "output_type": "stream",
     "text": [
      "Early stopping, best iteration is:\n",
      "[1]\tvalid_0's ER: 166.18\n",
      "Evaluated only: ER\n",
      "# Experimentos: 30\n",
      "Mejor experimento: {'lambda_l1': 998.3732312515276, 'lambda_l2': 807.2695926740516, 'learning_rate': 0.17746463893603295, 'num_leaves': 682, 'feature_fraction': 0.3289131487557503, 'min_data_in_leaf': 243}\n"
     ]
    }
   ],
   "source": [
    "### Optimizacion Bayesiana\n",
    "GLOBAL_PARAMS_ITER = []\n",
    "GLOBAL_BEST_IT_ITER = []\n",
    "GLOBAL_ER_VALIDATE_ITER = []\n",
    "GLOBAL_MODEL_ITER = []\n",
    "\n",
    "study = optuna.create_study(direction='minimize')\n",
    "study.optimize(objective, n_trials=config.CANT_ITERACIONES_OPT_BAY_PARAM)\n",
    "print('# Experimentos:', len(study.trials))\n",
    "print('Mejor experimento:', study.best_trial.params)"
   ]
  },
  {
   "cell_type": "code",
   "execution_count": 12,
   "id": "933cdc68-eb97-4e4c-b8bf-0eafdfb04c64",
   "metadata": {},
   "outputs": [
    {
     "data": {
      "image/png": "[encoded data removed]",
      "text/plain": [
       "<Figure size 720x720 with 1 Axes>"
      ]
     },
     "metadata": {
      "needs_background": "light"
     },
     "output_type": "display_data"
    }
   ],
   "source": [
    "# Feature Importance\n",
    "best_model_index = study.best_trial.number\n",
    "best_model = GLOBAL_MODEL_ITER[best_model_index]\n",
    "feature_importance = lightgbm_aux.plot_lgb_importances(best_model, num=30, plot=True)"
   ]
  },
  {
   "cell_type": "code",
   "execution_count": 13,
   "id": "1d0ec636-d1ae-446d-980a-70ac4499d75a",
   "metadata": {},
   "outputs": [
    {
     "name": "stdout",
     "output_type": "stream",
     "text": [
      "prod_cust a testear: 120\n",
      "Periodos entrenar ALL: [201701 201702 201703 201704 201705 201706 201707 201708 201709 201710\n",
      " 201711 201712 201801 201802 201803 201804 201805 201806 201807 201808\n",
      " 201809 201810 201811 201812 201901 201902 201903 201904 201905 201906\n",
      " 201907]\n",
      "Periodos holdout: [201910]\n",
      "\n",
      "X_train_all: (3420, 554)\n",
      "y_train_all: (3420,)\n",
      "\n",
      "X_holdout: (120, 554)\n",
      "y_holdout: (120,)\n"
     ]
    }
   ],
   "source": [
    "#Si se usa holdout, se generan variables para luego evaluar modelos\n",
    "if(config.USAR_HOLDOUT_PARAM):\n",
    "    # Dataframes\n",
    "    df_train_all = df_sellout[(df_sellout.periodo <= config.TRAIN_ALL_PERIODO_LIMITE_PARAM) & (df_sellout.periodo >= config.PERIODO_INICIO_PARAM)]\n",
    "    df_holdout = df_sellout[(df_sellout.periodo == config.HOLDOUT_PERIODO_PARAM)]\n",
    "    \n",
    "    df_holdout = df_holdout.sort_values(by=\"prod_cust\",ascending=True)\n",
    "    print(\"prod_cust a testear:\", len(df_holdout))\n",
    "\n",
    "    print(\"Periodos entrenar ALL:\",df_train_all.periodo.unique())\n",
    "    print(\"Periodos holdout:\",df_holdout.periodo.unique())\n",
    "\n",
    "    # Variables entrenamiento\n",
    "    X_train_all = df_train_all.drop(columns=cols_remover_entren, axis=1)\n",
    "    X_holdout = df_holdout.drop(columns=cols_remover_entren, axis=1)\n",
    "    \n",
    "    y_train_all = df_train_all.tn_mas_2\n",
    "    y_holdout = df_holdout.tn_mas_2\n",
    "    print(\"\\nX_train_all:\", X_train_all.shape)\n",
    "    print(\"y_train_all:\", y_train_all.shape)\n",
    "    \n",
    "    print(\"\\nX_holdout:\", X_holdout.shape)\n",
    "    print(\"y_holdout:\", y_holdout.shape)\n",
    "\n",
    "    lgbtrain_all = lgb.Dataset(data=X_train_all, label=y_train_all, feature_name=cols_entren)"
   ]
  },
  {
   "cell_type": "code",
   "execution_count": 14,
   "id": "1bec2d20-752c-4862-96c8-69f22a83b617",
   "metadata": {},
   "outputs": [
    {
     "data": {
      "text/plain": [
       "'20231212_201225'"
      ]
     },
     "execution_count": 14,
     "metadata": {},
     "output_type": "execute_result"
    }
   ],
   "source": [
    "current_datetime = datetime.now().astimezone(pytz.timezone('America/Argentina/Buenos_Aires'))\n",
    "exp_numero = current_datetime.strftime(\"%Y%m%d %H%M%S\").replace(\" \", \"_\")\n",
    "exp_numero"
   ]
  },
  {
   "cell_type": "code",
   "execution_count": 15,
   "id": "efb947b6-d349-475a-bb5c-234277c58a7f",
   "metadata": {},
   "outputs": [
    {
     "name": "stdout",
     "output_type": "stream",
     "text": [
      "Iteración: 0\n",
      "Iteración: 1\n",
      "Iteración: 2\n",
      "Iteración: 3\n",
      "Iteración: 4\n"
     ]
    }
   ],
   "source": [
    "# Guardo resultados\n",
    "carpeta_exp = carpeta_base_exp + exp_numero + \"/\"\n",
    "if not os.path.exists(carpeta_exp):\n",
    "    os.makedirs(carpeta_exp)\n",
    "    \n",
    "# Feature Importance\n",
    "feature_importance.to_csv(carpeta_exp + \"feature_importance.csv\",index=False)\n",
    "\n",
    "# Parametros\n",
    "parametros_nombres = [\"PERIODO_INICIO_PARAM\",\"TRAIN_PERIODO_LIMITE_PARAM\",\"VALIDATE_PERIODO_PARAM\",\"USAR_HOLDOUT_PARAM\",\n",
    "                      \"TRAIN_ALL_PERIODO_LIMITE_PARAM\",\"HOLDOUT_PERIODO_PARAM\",\n",
    "                      \"MODELO_FINAL_PERIODO_LIMITE_PARAM\",\"FUTURE_PERIODO_PARAM\",\n",
    "                      \"ARCH_PRODUCTOS_PREDICCION_ENTRENAMIENTO\",\"ARCH_PRODUCTOS_PREDICCION_FUTURE\",\n",
    "                      \"NUM_LAGS_PARAM\",\"FAMILIA_FEATURES_TEMP_PARAM\",\n",
    "                      \"CANT_ITERACIONES_OPT_BAY_PARAM\",\"CANT_SEMILLAS\"]\n",
    "\n",
    "parametros_valores = [config.PERIODO_INICIO_PARAM,config.TRAIN_PERIODO_LIMITE_PARAM,config.VALIDATE_PERIODO_PARAM,\n",
    "                      config.USAR_HOLDOUT_PARAM,config.TRAIN_ALL_PERIODO_LIMITE_PARAM,config.HOLDOUT_PERIODO_PARAM,\n",
    "                      config.MODELO_FINAL_PERIODO_LIMITE_PARAM,config.FUTURE_PERIODO_PARAM,\n",
    "                      config.ARCH_PRODUCTOS_PREDICCION_ENTRENAMIENTO,config.ARCH_PRODUCTOS_PREDICCION_FUTURE,\n",
    "                      config.NUM_LAGS_PARAM,config.FAMILIA_FEATURES_TEMP_PARAM,\n",
    "                      config.CANT_ITERACIONES_OPT_BAY_PARAM, config.CANT_SEMILLAS]\n",
    "\n",
    "parametros = pd.DataFrame(data={\"nombre\":parametros_nombres,\"valor\":parametros_valores})\n",
    "parametros.to_csv(carpeta_exp + \"parametros.csv\",index=False)\n",
    "\n",
    "# Optimizacion Bayesiana\n",
    "df_opt_bay = pd.DataFrame(data={\"lgb_params\":GLOBAL_PARAMS_ITER,\"best_iteration\":GLOBAL_BEST_IT_ITER,\n",
    "                                \"error_rate_validate\":GLOBAL_ER_VALIDATE_ITER})\n",
    "\n",
    "# Ordeno de menor a mayor\n",
    "df_opt_bay = df_opt_bay.sort_values(by=\"error_rate_validate\",ascending=True)\n",
    "df_opt_bay[\"index\"] = range(0,len(GLOBAL_PARAMS_ITER))\n",
    "\n",
    "# Holdout\n",
    "if(config.USAR_HOLDOUT_PARAM):\n",
    "    er_holdout_iter = [None] * len(df_opt_bay)\n",
    "    er_holdout_semillerio_iter = [None] * len(df_opt_bay)\n",
    "    \n",
    "    for i in range(config.OFFSET_EVAL_HOLDOUT,config.CANT_EVAL_HOLDOUT):\n",
    "        print(\"Iteración:\",i)\n",
    "\n",
    "        #Modelo Train All (Sin Semillerio)\n",
    "        model_train_all = lgb.train(df_opt_bay.iloc[i].lgb_params, lgbtrain_all, num_boost_round=df_opt_bay.iloc[i].best_iteration)\n",
    "        y_pred_holdout = model_train_all.predict(X_holdout)\n",
    "        er_holdout = metricas.error_rate(y_holdout,y_pred_holdout)\n",
    "        er_holdout_iter[i]=er_holdout\n",
    "        \n",
    "        #Semillerio\n",
    "        y_pred_holdout_semillerio = lightgbm_aux.semillerio(lgbtrain_all, df_opt_bay.iloc[i].lgb_params, df_opt_bay.iloc[i].best_iteration, X_holdout,config.CANT_SEMILLAS)\n",
    "        er_holdout_semillerio_iter[i]= metricas.error_rate(y_holdout,y_pred_holdout_semillerio)\n",
    "        \n",
    "    df_opt_bay[\"error_rate_holdout\"]=er_holdout_iter    \n",
    "    df_opt_bay[\"error_rate_holdout_semillerio\"]=er_holdout_semillerio_iter    \n",
    "\n",
    "df_opt_bay.to_excel(carpeta_exp +  \"opt_bay.xlsx\",index=False)"
   ]
  },
  {
   "cell_type": "code",
   "execution_count": 16,
   "id": "d4683c7c-e768-4b55-b897-b178f8c4fdd5",
   "metadata": {},
   "outputs": [
    {
     "name": "stdout",
     "output_type": "stream",
     "text": [
      "FINALIZADO\n"
     ]
    }
   ],
   "source": [
    "print(\"FINALIZADO\")"
   ]
  }
 ],
 "metadata": {
  "kernelspec": {
   "display_name": "Python 3 (ipykernel)",
   "language": "python",
   "name": "python3"
  },
  "language_info": {
   "codemirror_mode": {
    "name": "ipython",
    "version": 3
   },
   "file_extension": ".py",
   "mimetype": "text/x-python",
   "name": "python",
   "nbconvert_exporter": "python",
   "pygments_lexer": "ipython3",
   "version": "3.10.12"
  }
 },
 "nbformat": 4,
 "nbformat_minor": 5
}
