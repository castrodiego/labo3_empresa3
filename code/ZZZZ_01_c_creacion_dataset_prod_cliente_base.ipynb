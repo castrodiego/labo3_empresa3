{
 "cells": [
  {
   "cell_type": "code",
   "execution_count": 26,
   "id": "1b6c0f22",
   "metadata": {},
   "outputs": [],
   "source": [
    "import pandas as pd\n",
    "import gzip\n",
    "import os\n",
    "import numpy as np\n",
    "from sklearn.preprocessing import MinMaxScaler\n",
    "from sklearn.preprocessing import StandardScaler"
   ]
  },
  {
   "cell_type": "markdown",
   "id": "04d61971",
   "metadata": {},
   "source": [
    " # A la empresa le interesa el rastreo de lo que marketing considera los productos y lo que ventas considera los mejores clientes.\n",
    "\n",
    "## Mejores Productos\n",
    "- product_id = {20001, 20002, 20003, 20004, 20005, 20006, 20007, 20009, 20011, 20032} (diez productos)\n",
    "\n",
    "## Mejores Clientes\n",
    "- customer_id = {10001, 10002, 10003, 10004, 10005, 10006, 10007, 10008, 10009, 10011, 10012, 10013} (doce clientes)\n",
    "\n",
    "Total de <producto, cliente> a predecir = 10 * 12 = 120\n",
    "\n",
    "# Objetivo\n",
    "- Es el 01-enero-2020 a las 00:01 y disponibilizamos las ventas del periodo 2021912.\n",
    "- El 02-enero a las 18:00 nos deben entregar:\n",
    "  - El primer forecast de ventas para cada producto que se harán durante el mes 202002, de forma que nuestras plantas puedan fabricarlos durante el mes de 202001.\n",
    "  - El segundo forecast es las ventas esperadas en 202002, para los 120 pares de <mejores_clientes, mejores_productos>."
   ]
  },
  {
   "cell_type": "code",
   "execution_count": 27,
   "id": "e3f80795-b65c-452d-9d00-8f3c57afe98b",
   "metadata": {},
   "outputs": [],
   "source": [
    "####################################################\n",
    "############# Setear segun cada maquina ############\n",
    "#os.chdir(\"C:/Users/herna/labo3_empresa3_repo/datasets\")\n",
    "os.chdir(\"C:/diego_tools/labo3/dataset\")\n",
    "####################################################"
   ]
  },
  {
   "cell_type": "code",
   "execution_count": 28,
   "id": "29cfb14c-e6c2-4e67-9db3-a09081d7a7da",
   "metadata": {},
   "outputs": [],
   "source": [
    "arch_sellout = \"tb_sellout_02.txt.gz\"\n",
    "arch_maestro_prod = \"maestro_productos_depurado.csv\"\n",
    "arch_exogenas = \"emp3_exogenas.csv\""
   ]
  },
  {
   "cell_type": "code",
   "execution_count": null,
   "id": "cb712f4a-ac8a-47ca-83a6-70195acf89ff",
   "metadata": {},
   "outputs": [],
   "source": []
  },
  {
   "cell_type": "markdown",
   "id": "97f20c65-c7e9-4313-ad41-906f6514c659",
   "metadata": {},
   "source": [
    "## Sellout"
   ]
  },
  {
   "cell_type": "code",
   "execution_count": 29,
   "id": "977fc914",
   "metadata": {},
   "outputs": [],
   "source": [
    "# Abrir el archivo .gz y cargarlo en un DataFrame\n",
    "with gzip.open(arch_sellout, 'rt') as archivo:\n",
    "    # Leer el archivo línea por línea\n",
    "    df_sellout = pd.read_csv(archivo,sep=\"\\t\")"
   ]
  },
  {
   "cell_type": "code",
   "execution_count": 30,
   "id": "8d5982ad",
   "metadata": {},
   "outputs": [
    {
     "name": "stdout",
     "output_type": "stream",
     "text": [
      "<class 'pandas.core.frame.DataFrame'>\n",
      "RangeIndex: 2945818 entries, 0 to 2945817\n",
      "Data columns (total 7 columns):\n",
      " #   Column                 Dtype  \n",
      "---  ------                 -----  \n",
      " 0   periodo                int64  \n",
      " 1   customer_id            int64  \n",
      " 2   product_id             int64  \n",
      " 3   plan_precios_cuidados  int64  \n",
      " 4   cust_request_qty       int64  \n",
      " 5   cust_request_tn        float64\n",
      " 6   tn                     float64\n",
      "dtypes: float64(2), int64(5)\n",
      "memory usage: 157.3 MB\n"
     ]
    }
   ],
   "source": [
    "df_sellout.info()"
   ]
  },
  {
   "cell_type": "code",
   "execution_count": 31,
   "id": "5011849c-5a5a-4b0c-8c99-531447a8d0b7",
   "metadata": {},
   "outputs": [
    {
     "name": "stdout",
     "output_type": "stream",
     "text": [
      "2945818\n",
      "2945818\n"
     ]
    }
   ],
   "source": [
    "# Por las dudas, eliminamos duplicados\n",
    "print(len(df_sellout))\n",
    "df_sellout.drop_duplicates(inplace=True)\n",
    "print(len(df_sellout))"
   ]
  },
  {
   "cell_type": "markdown",
   "id": "76eb0937-5e96-45e0-a2a7-568ac21055dc",
   "metadata": {},
   "source": [
    "**--> sin duplicados**"
   ]
  },
  {
   "cell_type": "code",
   "execution_count": 44,
   "id": "e55da3b7-d640-4e6d-ae92-8ac4507ef3b8",
   "metadata": {},
   "outputs": [
    {
     "data": {
      "text/plain": [
       "periodo                  0\n",
       "customer_id              0\n",
       "product_id               0\n",
       "plan_precios_cuidados    0\n",
       "cust_request_qty         0\n",
       "cust_request_tn          0\n",
       "tn                       0\n",
       "periodo_fecha            0\n",
       "mes                      0\n",
       "dtype: int64"
      ]
     },
     "execution_count": 44,
     "metadata": {},
     "output_type": "execute_result"
    }
   ],
   "source": [
    "df_sellout.isna().sum()"
   ]
  },
  {
   "cell_type": "markdown",
   "id": "964e3af1-f704-44b2-80ca-13299a4758ab",
   "metadata": {},
   "source": [
    "**--> sin nulos**"
   ]
  },
  {
   "cell_type": "code",
   "execution_count": 32,
   "id": "b7cf7dfb-9ce4-4233-b1ab-9491c2d2333c",
   "metadata": {},
   "outputs": [
    {
     "data": {
      "text/plain": [
       "array([201701, 201702, 201703, 201704, 201705, 201706, 201707, 201708,\n",
       "       201709, 201710, 201711, 201712, 201801, 201802, 201803, 201804,\n",
       "       201805, 201806, 201807, 201808, 201809, 201810, 201811, 201812,\n",
       "       201901, 201902, 201903, 201904, 201905, 201906, 201907, 201908,\n",
       "       201909, 201910, 201911, 201912], dtype=int64)"
      ]
     },
     "execution_count": 32,
     "metadata": {},
     "output_type": "execute_result"
    }
   ],
   "source": [
    "df_sellout.periodo.unique()                "
   ]
  },
  {
   "cell_type": "code",
   "execution_count": 33,
   "id": "45670a8f-3f08-497e-825f-1a33f480b8a8",
   "metadata": {},
   "outputs": [
    {
     "data": {
      "text/plain": [
       "1233"
      ]
     },
     "execution_count": 33,
     "metadata": {},
     "output_type": "execute_result"
    }
   ],
   "source": [
    "len(df_sellout.product_id.unique())          "
   ]
  },
  {
   "cell_type": "markdown",
   "id": "6fcc221a-05d8-4d45-b90a-55d61f1dec47",
   "metadata": {},
   "source": [
    "--> algunos productos no van a tener descripción"
   ]
  },
  {
   "cell_type": "code",
   "execution_count": 34,
   "id": "a86859b9-e128-402e-831a-94d43108da7d",
   "metadata": {},
   "outputs": [
    {
     "data": {
      "text/plain": [
       "597"
      ]
     },
     "execution_count": 34,
     "metadata": {},
     "output_type": "execute_result"
    }
   ],
   "source": [
    "len(df_sellout.customer_id.unique())            "
   ]
  },
  {
   "cell_type": "code",
   "execution_count": 35,
   "id": "4c04a7c4-d8f3-4005-8669-92d4a3457768",
   "metadata": {},
   "outputs": [
    {
     "data": {
      "text/plain": [
       "array([0, 1], dtype=int64)"
      ]
     },
     "execution_count": 35,
     "metadata": {},
     "output_type": "execute_result"
    }
   ],
   "source": [
    "df_sellout.plan_precios_cuidados.unique()          "
   ]
  },
  {
   "cell_type": "code",
   "execution_count": 36,
   "id": "774904eb",
   "metadata": {},
   "outputs": [],
   "source": [
    "df_sellout['periodo_fecha'] = pd.to_datetime(df_sellout['periodo'], format='%Y%m')\n",
    "df_sellout[\"mes\"] = pd.DatetimeIndex(df_sellout.periodo_fecha).month"
   ]
  },
  {
   "cell_type": "code",
   "execution_count": 37,
   "id": "a8c70c9d",
   "metadata": {},
   "outputs": [
    {
     "data": {
      "text/html": [
       "<div>\n",
       "<style scoped>\n",
       "    .dataframe tbody tr th:only-of-type {\n",
       "        vertical-align: middle;\n",
       "    }\n",
       "\n",
       "    .dataframe tbody tr th {\n",
       "        vertical-align: top;\n",
       "    }\n",
       "\n",
       "    .dataframe thead th {\n",
       "        text-align: right;\n",
       "    }\n",
       "</style>\n",
       "<table border=\"1\" class=\"dataframe\">\n",
       "  <thead>\n",
       "    <tr style=\"text-align: right;\">\n",
       "      <th></th>\n",
       "      <th>periodo</th>\n",
       "      <th>customer_id</th>\n",
       "      <th>product_id</th>\n",
       "      <th>plan_precios_cuidados</th>\n",
       "      <th>cust_request_qty</th>\n",
       "      <th>cust_request_tn</th>\n",
       "      <th>tn</th>\n",
       "      <th>periodo_fecha</th>\n",
       "      <th>mes</th>\n",
       "    </tr>\n",
       "  </thead>\n",
       "  <tbody>\n",
       "    <tr>\n",
       "      <th>0</th>\n",
       "      <td>201701</td>\n",
       "      <td>10234</td>\n",
       "      <td>20524</td>\n",
       "      <td>0</td>\n",
       "      <td>2</td>\n",
       "      <td>0.05300</td>\n",
       "      <td>0.05300</td>\n",
       "      <td>2017-01-01</td>\n",
       "      <td>1</td>\n",
       "    </tr>\n",
       "    <tr>\n",
       "      <th>1</th>\n",
       "      <td>201701</td>\n",
       "      <td>10032</td>\n",
       "      <td>20524</td>\n",
       "      <td>0</td>\n",
       "      <td>1</td>\n",
       "      <td>0.13628</td>\n",
       "      <td>0.13628</td>\n",
       "      <td>2017-01-01</td>\n",
       "      <td>1</td>\n",
       "    </tr>\n",
       "    <tr>\n",
       "      <th>2</th>\n",
       "      <td>201701</td>\n",
       "      <td>10217</td>\n",
       "      <td>20524</td>\n",
       "      <td>0</td>\n",
       "      <td>1</td>\n",
       "      <td>0.03028</td>\n",
       "      <td>0.03028</td>\n",
       "      <td>2017-01-01</td>\n",
       "      <td>1</td>\n",
       "    </tr>\n",
       "    <tr>\n",
       "      <th>3</th>\n",
       "      <td>201701</td>\n",
       "      <td>10125</td>\n",
       "      <td>20524</td>\n",
       "      <td>0</td>\n",
       "      <td>1</td>\n",
       "      <td>0.02271</td>\n",
       "      <td>0.02271</td>\n",
       "      <td>2017-01-01</td>\n",
       "      <td>1</td>\n",
       "    </tr>\n",
       "    <tr>\n",
       "      <th>4</th>\n",
       "      <td>201701</td>\n",
       "      <td>10012</td>\n",
       "      <td>20524</td>\n",
       "      <td>0</td>\n",
       "      <td>11</td>\n",
       "      <td>1.54452</td>\n",
       "      <td>1.54452</td>\n",
       "      <td>2017-01-01</td>\n",
       "      <td>1</td>\n",
       "    </tr>\n",
       "  </tbody>\n",
       "</table>\n",
       "</div>"
      ],
      "text/plain": [
       "   periodo  customer_id  product_id  plan_precios_cuidados  cust_request_qty  \\\n",
       "0   201701        10234       20524                      0                 2   \n",
       "1   201701        10032       20524                      0                 1   \n",
       "2   201701        10217       20524                      0                 1   \n",
       "3   201701        10125       20524                      0                 1   \n",
       "4   201701        10012       20524                      0                11   \n",
       "\n",
       "   cust_request_tn       tn periodo_fecha  mes  \n",
       "0          0.05300  0.05300    2017-01-01    1  \n",
       "1          0.13628  0.13628    2017-01-01    1  \n",
       "2          0.03028  0.03028    2017-01-01    1  \n",
       "3          0.02271  0.02271    2017-01-01    1  \n",
       "4          1.54452  1.54452    2017-01-01    1  "
      ]
     },
     "execution_count": 37,
     "metadata": {},
     "output_type": "execute_result"
    }
   ],
   "source": [
    "df_sellout.head()"
   ]
  },
  {
   "cell_type": "code",
   "execution_count": 38,
   "id": "f575f625-8058-48c2-b383-42fe9939bc01",
   "metadata": {},
   "outputs": [
    {
     "name": "stdout",
     "output_type": "stream",
     "text": [
      "Toneladas Total Control: 1324989.0\n"
     ]
    }
   ],
   "source": [
    "# Como control, sumo tns\n",
    "print(\"Toneladas Total Control:\", round(sum(df_sellout.tn),0))"
   ]
  },
  {
   "cell_type": "code",
   "execution_count": 40,
   "id": "b72a273a-16fb-4d80-9bdc-75831cc2b843",
   "metadata": {},
   "outputs": [
    {
     "name": "stdout",
     "output_type": "stream",
     "text": [
      "Toneladas Total Control: 1324989.0\n"
     ]
    }
   ],
   "source": [
    "# Agrupo por producto y por periodo\n",
    "df_sellout_prod = df_sellout.groupby(['periodo','periodo_fecha','product_id']).agg({'tn': 'sum', 'cust_request_tn':'sum', 'cust_request_qty':'sum','plan_precios_cuidados':'max','mes':'max'}).reset_index()\n",
    "print(\"Toneladas Total Control:\", round(sum(df_sellout_prod.tn),0))"
   ]
  },
  {
   "cell_type": "markdown",
   "id": "0d4165a8-f6de-4d53-a3f9-ffc8460968bc",
   "metadata": {},
   "source": [
    "**Ahora vamos a completar los meses que no tengan info para los productos**"
   ]
  },
  {
   "cell_type": "code",
   "execution_count": 42,
   "id": "66276e32-ceb0-4d42-9c6f-36689c69b292",
   "metadata": {},
   "outputs": [
    {
     "data": {
      "text/plain": [
       "(array([201701, 201702, 201703, 201704, 201705, 201706, 201707, 201708,\n",
       "        201709, 201710, 201711, 201712, 201801, 201802, 201803, 201804,\n",
       "        201805, 201806, 201807, 201808, 201809, 201810, 201811, 201812,\n",
       "        201901, 201902, 201903, 201904, 201905, 201906, 201907, 201908,\n",
       "        201909, 201910, 201911, 201912], dtype=int64),\n",
       " 36)"
      ]
     },
     "execution_count": 42,
     "metadata": {},
     "output_type": "execute_result"
    }
   ],
   "source": [
    "periodos = df_sellout_prod.periodo.unique()\n",
    "cant_periodos = len(periodos)\n",
    "periodos, cant_periodos"
   ]
  },
  {
   "cell_type": "code",
   "execution_count": 43,
   "id": "af235c1d-436b-4765-917e-1f49ca6da3f6",
   "metadata": {},
   "outputs": [
    {
     "data": {
      "text/plain": [
       "1233"
      ]
     },
     "execution_count": 43,
     "metadata": {},
     "output_type": "execute_result"
    }
   ],
   "source": [
    "productos = df_sellout_prod.product_id.unique()\n",
    "cant_productos = len(productos)\n",
    "cant_productos"
   ]
  },
  {
   "cell_type": "code",
   "execution_count": 45,
   "id": "4bfb5198-ff40-40fc-8c70-644b2b8cc9f2",
   "metadata": {},
   "outputs": [
    {
     "data": {
      "text/plain": [
       "(31243, 44388)"
      ]
     },
     "execution_count": 45,
     "metadata": {},
     "output_type": "execute_result"
    }
   ],
   "source": [
    "len(df_sellout_prod),cant_productos*cant_periodos"
   ]
  },
  {
   "cell_type": "markdown",
   "id": "0c445edd-7797-4312-9ba1-85ca8b426673",
   "metadata": {},
   "source": [
    "**--> no todos los productos están en todos los períodos**"
   ]
  },
  {
   "cell_type": "code",
   "execution_count": 49,
   "id": "80670a6c-52ec-47d5-b01a-e7ada6a3396a",
   "metadata": {},
   "outputs": [
    {
     "data": {
      "text/plain": [
       "44388"
      ]
     },
     "execution_count": 49,
     "metadata": {},
     "output_type": "execute_result"
    }
   ],
   "source": [
    "# Imputo por 0 a todos los periodos donde el producto no se vendio\n",
    "df_cartesiano = pd.DataFrame(data={\"product_id\":productos}).merge(pd.DataFrame(data={\"periodo\":periodos}), how='cross')\n",
    "df_cartesiano[\"imputado\"] = 1\n",
    "len(df_cartesiano)"
   ]
  },
  {
   "cell_type": "code",
   "execution_count": 50,
   "id": "69fc327f-5e01-45cc-a2a2-6499bca0c729",
   "metadata": {},
   "outputs": [
    {
     "name": "stdout",
     "output_type": "stream",
     "text": [
      "<class 'pandas.core.frame.DataFrame'>\n",
      "Int64Index: 44388 entries, 0 to 44387\n",
      "Data columns (total 3 columns):\n",
      " #   Column      Non-Null Count  Dtype\n",
      "---  ------      --------------  -----\n",
      " 0   product_id  44388 non-null  int64\n",
      " 1   periodo     44388 non-null  int64\n",
      " 2   imputado    44388 non-null  int64\n",
      "dtypes: int64(3)\n",
      "memory usage: 1.4 MB\n"
     ]
    }
   ],
   "source": [
    "df_cartesiano.info()"
   ]
  },
  {
   "cell_type": "code",
   "execution_count": 48,
   "id": "ab03e3a7-6d40-4633-a794-d8136b0ebfd7",
   "metadata": {},
   "outputs": [
    {
     "data": {
      "text/html": [
       "<div>\n",
       "<style scoped>\n",
       "    .dataframe tbody tr th:only-of-type {\n",
       "        vertical-align: middle;\n",
       "    }\n",
       "\n",
       "    .dataframe tbody tr th {\n",
       "        vertical-align: top;\n",
       "    }\n",
       "\n",
       "    .dataframe thead th {\n",
       "        text-align: right;\n",
       "    }\n",
       "</style>\n",
       "<table border=\"1\" class=\"dataframe\">\n",
       "  <thead>\n",
       "    <tr style=\"text-align: right;\">\n",
       "      <th></th>\n",
       "      <th>product_id</th>\n",
       "      <th>periodo</th>\n",
       "      <th>imputado</th>\n",
       "      <th>tn_imputado</th>\n",
       "    </tr>\n",
       "  </thead>\n",
       "  <tbody>\n",
       "    <tr>\n",
       "      <th>0</th>\n",
       "      <td>20001</td>\n",
       "      <td>201701</td>\n",
       "      <td>1</td>\n",
       "      <td>0</td>\n",
       "    </tr>\n",
       "    <tr>\n",
       "      <th>1</th>\n",
       "      <td>20001</td>\n",
       "      <td>201702</td>\n",
       "      <td>1</td>\n",
       "      <td>0</td>\n",
       "    </tr>\n",
       "    <tr>\n",
       "      <th>2</th>\n",
       "      <td>20001</td>\n",
       "      <td>201703</td>\n",
       "      <td>1</td>\n",
       "      <td>0</td>\n",
       "    </tr>\n",
       "    <tr>\n",
       "      <th>3</th>\n",
       "      <td>20001</td>\n",
       "      <td>201704</td>\n",
       "      <td>1</td>\n",
       "      <td>0</td>\n",
       "    </tr>\n",
       "    <tr>\n",
       "      <th>4</th>\n",
       "      <td>20001</td>\n",
       "      <td>201705</td>\n",
       "      <td>1</td>\n",
       "      <td>0</td>\n",
       "    </tr>\n",
       "  </tbody>\n",
       "</table>\n",
       "</div>"
      ],
      "text/plain": [
       "   product_id  periodo  imputado  tn_imputado\n",
       "0       20001   201701         1            0\n",
       "1       20001   201702         1            0\n",
       "2       20001   201703         1            0\n",
       "3       20001   201704         1            0\n",
       "4       20001   201705         1            0"
      ]
     },
     "execution_count": 48,
     "metadata": {},
     "output_type": "execute_result"
    }
   ],
   "source": [
    "df_cartesiano.head()"
   ]
  },
  {
   "cell_type": "code",
   "execution_count": 52,
   "id": "0f8d7823-3c6f-40ee-9ea4-3b2a2ba4b24c",
   "metadata": {},
   "outputs": [
    {
     "data": {
      "text/plain": [
       "44388"
      ]
     },
     "execution_count": 52,
     "metadata": {},
     "output_type": "execute_result"
    }
   ],
   "source": [
    "df_sellout_prod_completado = df_cartesiano.merge(df_sellout_prod, how=\"left\",on=[\"product_id\",\"periodo\"])\n",
    "len(df_sellout_prod_completado)"
   ]
  },
  {
   "cell_type": "code",
   "execution_count": 53,
   "id": "2bcc7e0b-db53-4854-ae92-9d14645139bf",
   "metadata": {},
   "outputs": [
    {
     "data": {
      "text/html": [
       "<div>\n",
       "<style scoped>\n",
       "    .dataframe tbody tr th:only-of-type {\n",
       "        vertical-align: middle;\n",
       "    }\n",
       "\n",
       "    .dataframe tbody tr th {\n",
       "        vertical-align: top;\n",
       "    }\n",
       "\n",
       "    .dataframe thead th {\n",
       "        text-align: right;\n",
       "    }\n",
       "</style>\n",
       "<table border=\"1\" class=\"dataframe\">\n",
       "  <thead>\n",
       "    <tr style=\"text-align: right;\">\n",
       "      <th></th>\n",
       "      <th>product_id</th>\n",
       "      <th>periodo</th>\n",
       "      <th>imputado</th>\n",
       "      <th>periodo_fecha</th>\n",
       "      <th>tn</th>\n",
       "      <th>cust_request_tn</th>\n",
       "      <th>cust_request_qty</th>\n",
       "      <th>plan_precios_cuidados</th>\n",
       "      <th>mes</th>\n",
       "    </tr>\n",
       "  </thead>\n",
       "  <tbody>\n",
       "    <tr>\n",
       "      <th>0</th>\n",
       "      <td>20001</td>\n",
       "      <td>201701</td>\n",
       "      <td>1</td>\n",
       "      <td>2017-01-01</td>\n",
       "      <td>934.77222</td>\n",
       "      <td>937.72717</td>\n",
       "      <td>479.0</td>\n",
       "      <td>0.0</td>\n",
       "      <td>1.0</td>\n",
       "    </tr>\n",
       "    <tr>\n",
       "      <th>1</th>\n",
       "      <td>20001</td>\n",
       "      <td>201702</td>\n",
       "      <td>1</td>\n",
       "      <td>2017-02-01</td>\n",
       "      <td>798.01620</td>\n",
       "      <td>833.72187</td>\n",
       "      <td>432.0</td>\n",
       "      <td>0.0</td>\n",
       "      <td>2.0</td>\n",
       "    </tr>\n",
       "    <tr>\n",
       "      <th>2</th>\n",
       "      <td>20001</td>\n",
       "      <td>201703</td>\n",
       "      <td>1</td>\n",
       "      <td>2017-03-01</td>\n",
       "      <td>1303.35771</td>\n",
       "      <td>1330.74697</td>\n",
       "      <td>509.0</td>\n",
       "      <td>0.0</td>\n",
       "      <td>3.0</td>\n",
       "    </tr>\n",
       "    <tr>\n",
       "      <th>3</th>\n",
       "      <td>20001</td>\n",
       "      <td>201704</td>\n",
       "      <td>1</td>\n",
       "      <td>2017-04-01</td>\n",
       "      <td>1069.96130</td>\n",
       "      <td>1132.94430</td>\n",
       "      <td>279.0</td>\n",
       "      <td>0.0</td>\n",
       "      <td>4.0</td>\n",
       "    </tr>\n",
       "    <tr>\n",
       "      <th>4</th>\n",
       "      <td>20001</td>\n",
       "      <td>201705</td>\n",
       "      <td>1</td>\n",
       "      <td>2017-05-01</td>\n",
       "      <td>1502.20132</td>\n",
       "      <td>1550.68936</td>\n",
       "      <td>701.0</td>\n",
       "      <td>0.0</td>\n",
       "      <td>5.0</td>\n",
       "    </tr>\n",
       "  </tbody>\n",
       "</table>\n",
       "</div>"
      ],
      "text/plain": [
       "   product_id  periodo  imputado periodo_fecha          tn  cust_request_tn  \\\n",
       "0       20001   201701         1    2017-01-01   934.77222        937.72717   \n",
       "1       20001   201702         1    2017-02-01   798.01620        833.72187   \n",
       "2       20001   201703         1    2017-03-01  1303.35771       1330.74697   \n",
       "3       20001   201704         1    2017-04-01  1069.96130       1132.94430   \n",
       "4       20001   201705         1    2017-05-01  1502.20132       1550.68936   \n",
       "\n",
       "   cust_request_qty  plan_precios_cuidados  mes  \n",
       "0             479.0                    0.0  1.0  \n",
       "1             432.0                    0.0  2.0  \n",
       "2             509.0                    0.0  3.0  \n",
       "3             279.0                    0.0  4.0  \n",
       "4             701.0                    0.0  5.0  "
      ]
     },
     "execution_count": 53,
     "metadata": {},
     "output_type": "execute_result"
    }
   ],
   "source": [
    "df_sellout_prod_completado.head()"
   ]
  },
  {
   "cell_type": "markdown",
   "id": "1ba8f77e-3998-4f4f-b7ec-dde5da8e6373",
   "metadata": {},
   "source": [
    "## Incorporo Maestro y Exógenas"
   ]
  },
  {
   "cell_type": "code",
   "execution_count": 14,
   "id": "afbca416-adb5-461e-9558-19a4b21de708",
   "metadata": {},
   "outputs": [],
   "source": [
    "df_maestro_prod = pd.read_csv(arch_maestro_prod)"
   ]
  },
  {
   "cell_type": "code",
   "execution_count": 6,
   "id": "90f993a4-62af-4e2a-b6b6-fbbd8b1f6f2f",
   "metadata": {},
   "outputs": [
    {
     "name": "stdout",
     "output_type": "stream",
     "text": [
      "<class 'pandas.core.frame.DataFrame'>\n",
      "RangeIndex: 1251 entries, 0 to 1250\n",
      "Data columns (total 7 columns):\n",
      " #   Column             Non-Null Count  Dtype \n",
      "---  ------             --------------  ----- \n",
      " 0   cat1               1251 non-null   object\n",
      " 1   cat2               1251 non-null   object\n",
      " 2   cat3               1251 non-null   object\n",
      " 3   brand              1251 non-null   object\n",
      " 4   sku_size           1251 non-null   int64 \n",
      " 5   product_id         1251 non-null   int64 \n",
      " 6   producto_estrella  1251 non-null   int64 \n",
      "dtypes: int64(3), object(4)\n",
      "memory usage: 68.5+ KB\n"
     ]
    }
   ],
   "source": [
    "df_maestro_prod.info()"
   ]
  },
  {
   "cell_type": "code",
   "execution_count": null,
   "id": "4a63cc99-72a9-4ff9-82e8-b82ad4f45fb7",
   "metadata": {},
   "outputs": [],
   "source": [
    "df_maestro_prod.head()"
   ]
  },
  {
   "cell_type": "code",
   "execution_count": null,
   "id": "4f4e4397-9170-41f9-a18f-4f61c7fd286d",
   "metadata": {},
   "outputs": [],
   "source": [
    "print(len(df_sellout))\n",
    "df_sellout = pd.merge(df_sellout, df_maestro_prod, on='product_id', how='left')\n",
    "print(len(df_sellout))\n",
    "df_sellout.head()"
   ]
  },
  {
   "cell_type": "code",
   "execution_count": 13,
   "id": "1429c6c6-d1e8-444f-b194-f6af13733716",
   "metadata": {},
   "outputs": [
    {
     "name": "stdout",
     "output_type": "stream",
     "text": [
      "<class 'pandas.core.frame.DataFrame'>\n",
      "RangeIndex: 48 entries, 0 to 47\n",
      "Data columns (total 7 columns):\n",
      " #   Column                     Non-Null Count  Dtype         \n",
      "---  ------                     --------------  -----         \n",
      " 0   periodo_fecha              48 non-null     datetime64[ns]\n",
      " 1   temp_media                 48 non-null     float64       \n",
      " 2   temp_max_media             48 non-null     float64       \n",
      " 3   temp_min_media             48 non-null     float64       \n",
      " 4   IPC                        48 non-null     float64       \n",
      " 5   promedio_mens_dolar_venta  48 non-null     float64       \n",
      " 6   catastrofe                 48 non-null     bool          \n",
      "dtypes: bool(1), datetime64[ns](1), float64(5)\n",
      "memory usage: 2.4 KB\n"
     ]
    }
   ],
   "source": [
    "df_exogenas = pd.read_csv(arch_exogenas)\n",
    "df_exogenas.periodo_fecha = pd.to_datetime(df_exogenas.periodo_fecha)\n",
    "\n",
    "df_exogenas.info()"
   ]
  },
  {
   "cell_type": "markdown",
   "id": "37c1ad1c-9fba-402f-bdb3-f3d6ad223fde",
   "metadata": {},
   "source": [
    "## Generación de datasets base"
   ]
  },
  {
   "cell_type": "markdown",
   "id": "7b1be33c",
   "metadata": {},
   "source": [
    "**El primer forecast de ventas para cada producto que se harán durante el mes 202002, de forma que nuestras plantas puedan fabricarlos durante el mes de 202001.**"
   ]
  },
  {
   "cell_type": "code",
   "execution_count": 33,
   "id": "051fc15c",
   "metadata": {},
   "outputs": [
    {
     "name": "stdout",
     "output_type": "stream",
     "text": [
      "Toneladas Total Control: 1324989.0\n"
     ]
    }
   ],
   "source": []
  },
  {
   "cell_type": "code",
   "execution_count": 34,
   "id": "c03f6594",
   "metadata": {},
   "outputs": [],
   "source": [
    "# Lista con el nuevo orden de las columnas\n",
    "new_order = ['periodo','periodo_fecha','mes','product_id','tn','cust_request_qty','cust_request_tn',\n",
    "             'plan_precios_cuidados', 'cat1','cat2','cat3','sku_size','producto_estrella']\n",
    "\n",
    "# Reordena las columnas del DataFrame\n",
    "df_base_prod = df_base_prod[new_order]"
   ]
  },
  {
   "cell_type": "code",
   "execution_count": 35,
   "id": "8d21ab36",
   "metadata": {},
   "outputs": [
    {
     "data": {
      "text/html": [
       "<div>\n",
       "<style scoped>\n",
       "    .dataframe tbody tr th:only-of-type {\n",
       "        vertical-align: middle;\n",
       "    }\n",
       "\n",
       "    .dataframe tbody tr th {\n",
       "        vertical-align: top;\n",
       "    }\n",
       "\n",
       "    .dataframe thead th {\n",
       "        text-align: right;\n",
       "    }\n",
       "</style>\n",
       "<table border=\"1\" class=\"dataframe\">\n",
       "  <thead>\n",
       "    <tr style=\"text-align: right;\">\n",
       "      <th></th>\n",
       "      <th>periodo</th>\n",
       "      <th>periodo_fecha</th>\n",
       "      <th>mes</th>\n",
       "      <th>product_id</th>\n",
       "      <th>tn</th>\n",
       "      <th>cust_request_qty</th>\n",
       "      <th>cust_request_tn</th>\n",
       "      <th>plan_precios_cuidados</th>\n",
       "      <th>cat1</th>\n",
       "      <th>cat2</th>\n",
       "      <th>cat3</th>\n",
       "      <th>sku_size</th>\n",
       "      <th>producto_estrella</th>\n",
       "    </tr>\n",
       "  </thead>\n",
       "  <tbody>\n",
       "    <tr>\n",
       "      <th>0</th>\n",
       "      <td>201701</td>\n",
       "      <td>2017-01-01</td>\n",
       "      <td>1</td>\n",
       "      <td>20001</td>\n",
       "      <td>934.77222</td>\n",
       "      <td>479</td>\n",
       "      <td>937.72717</td>\n",
       "      <td>0</td>\n",
       "      <td>HC</td>\n",
       "      <td>ROPA LAVADO</td>\n",
       "      <td>Liquido</td>\n",
       "      <td>3000.0</td>\n",
       "      <td>1</td>\n",
       "    </tr>\n",
       "    <tr>\n",
       "      <th>1</th>\n",
       "      <td>201701</td>\n",
       "      <td>2017-01-01</td>\n",
       "      <td>1</td>\n",
       "      <td>20002</td>\n",
       "      <td>550.15707</td>\n",
       "      <td>391</td>\n",
       "      <td>555.18654</td>\n",
       "      <td>0</td>\n",
       "      <td>HC</td>\n",
       "      <td>ROPA LAVADO</td>\n",
       "      <td>Liquido</td>\n",
       "      <td>3000.0</td>\n",
       "      <td>1</td>\n",
       "    </tr>\n",
       "    <tr>\n",
       "      <th>2</th>\n",
       "      <td>201701</td>\n",
       "      <td>2017-01-01</td>\n",
       "      <td>1</td>\n",
       "      <td>20003</td>\n",
       "      <td>1063.45835</td>\n",
       "      <td>438</td>\n",
       "      <td>1067.81543</td>\n",
       "      <td>0</td>\n",
       "      <td>FOODS</td>\n",
       "      <td>ADEREZOS</td>\n",
       "      <td>Mayonesa</td>\n",
       "      <td>475.0</td>\n",
       "      <td>1</td>\n",
       "    </tr>\n",
       "    <tr>\n",
       "      <th>3</th>\n",
       "      <td>201701</td>\n",
       "      <td>2017-01-01</td>\n",
       "      <td>1</td>\n",
       "      <td>20004</td>\n",
       "      <td>555.91614</td>\n",
       "      <td>339</td>\n",
       "      <td>569.37394</td>\n",
       "      <td>0</td>\n",
       "      <td>FOODS</td>\n",
       "      <td>ADEREZOS</td>\n",
       "      <td>Mayonesa</td>\n",
       "      <td>240.0</td>\n",
       "      <td>1</td>\n",
       "    </tr>\n",
       "    <tr>\n",
       "      <th>4</th>\n",
       "      <td>201701</td>\n",
       "      <td>2017-01-01</td>\n",
       "      <td>1</td>\n",
       "      <td>20005</td>\n",
       "      <td>494.27011</td>\n",
       "      <td>249</td>\n",
       "      <td>494.60084</td>\n",
       "      <td>0</td>\n",
       "      <td>FOODS</td>\n",
       "      <td>ADEREZOS</td>\n",
       "      <td>Mayonesa</td>\n",
       "      <td>120.0</td>\n",
       "      <td>1</td>\n",
       "    </tr>\n",
       "  </tbody>\n",
       "</table>\n",
       "</div>"
      ],
      "text/plain": [
       "   periodo periodo_fecha  mes  product_id          tn  cust_request_qty  \\\n",
       "0   201701    2017-01-01    1       20001   934.77222               479   \n",
       "1   201701    2017-01-01    1       20002   550.15707               391   \n",
       "2   201701    2017-01-01    1       20003  1063.45835               438   \n",
       "3   201701    2017-01-01    1       20004   555.91614               339   \n",
       "4   201701    2017-01-01    1       20005   494.27011               249   \n",
       "\n",
       "   cust_request_tn  plan_precios_cuidados   cat1         cat2      cat3  \\\n",
       "0        937.72717                      0     HC  ROPA LAVADO   Liquido   \n",
       "1        555.18654                      0     HC  ROPA LAVADO   Liquido   \n",
       "2       1067.81543                      0  FOODS     ADEREZOS  Mayonesa   \n",
       "3        569.37394                      0  FOODS     ADEREZOS  Mayonesa   \n",
       "4        494.60084                      0  FOODS     ADEREZOS  Mayonesa   \n",
       "\n",
       "   sku_size  producto_estrella  \n",
       "0    3000.0                  1  \n",
       "1    3000.0                  1  \n",
       "2     475.0                  1  \n",
       "3     240.0                  1  \n",
       "4     120.0                  1  "
      ]
     },
     "execution_count": 35,
     "metadata": {},
     "output_type": "execute_result"
    }
   ],
   "source": [
    "df_base_prod.head()"
   ]
  },
  {
   "cell_type": "code",
   "execution_count": 36,
   "id": "1d14bd94-1d45-4214-a11f-663d8e1d7282",
   "metadata": {},
   "outputs": [
    {
     "name": "stdout",
     "output_type": "stream",
     "text": [
      "31243\n",
      "31243\n"
     ]
    }
   ],
   "source": [
    "# Le agregamos las exogenas\n",
    "print(len(df_base_prod))\n",
    "df_base_prod = pd.merge(df_base_prod,df_exogenas,on=\"periodo_fecha\",how=\"left\")\n",
    "print(len(df_base_prod))"
   ]
  },
  {
   "cell_type": "code",
   "execution_count": 37,
   "id": "9ca00d2c-a934-462a-9b6b-71ce97ad4d7a",
   "metadata": {},
   "outputs": [
    {
     "name": "stdout",
     "output_type": "stream",
     "text": [
      "<class 'pandas.core.frame.DataFrame'>\n",
      "Int64Index: 31243 entries, 0 to 31242\n",
      "Data columns (total 19 columns):\n",
      " #   Column                     Non-Null Count  Dtype         \n",
      "---  ------                     --------------  -----         \n",
      " 0   periodo                    31243 non-null  int64         \n",
      " 1   periodo_fecha              31243 non-null  datetime64[ns]\n",
      " 2   mes                        31243 non-null  int64         \n",
      " 3   product_id                 31243 non-null  int64         \n",
      " 4   tn                         31243 non-null  float64       \n",
      " 5   cust_request_qty           31243 non-null  int64         \n",
      " 6   cust_request_tn            31243 non-null  float64       \n",
      " 7   plan_precios_cuidados      31243 non-null  int64         \n",
      " 8   cat1                       31243 non-null  object        \n",
      " 9   cat2                       31243 non-null  object        \n",
      " 10  cat3                       31243 non-null  object        \n",
      " 11  sku_size                   31243 non-null  float64       \n",
      " 12  producto_estrella          31243 non-null  int32         \n",
      " 13  temp_media                 31243 non-null  float64       \n",
      " 14  temp_max_media             31243 non-null  float64       \n",
      " 15  temp_min_media             31243 non-null  float64       \n",
      " 16  IPC                        31243 non-null  float64       \n",
      " 17  promedio_mens_dolar_venta  31243 non-null  float64       \n",
      " 18  catastrofe                 31243 non-null  bool          \n",
      "dtypes: bool(1), datetime64[ns](1), float64(8), int32(1), int64(5), object(3)\n",
      "memory usage: 4.4+ MB\n"
     ]
    }
   ],
   "source": [
    "df_base_prod.info()"
   ]
  },
  {
   "cell_type": "code",
   "execution_count": 38,
   "id": "b8be14fc",
   "metadata": {},
   "outputs": [],
   "source": [
    "# Exportar el DataFrame a un archivo CSV\n",
    "df_base_prod.to_csv(\"emp3_sellout_base_period_product.csv\", index=False)"
   ]
  },
  {
   "cell_type": "markdown",
   "id": "e1db1bb3",
   "metadata": {},
   "source": [
    "**El segundo forecast es las ventas esperadas en 202002, para los 120 pares de <mejores_clientes, mejores_productos>.**"
   ]
  },
  {
   "cell_type": "code",
   "execution_count": null,
   "id": "c761ef89-338d-497b-9800-2807a6e5ba89",
   "metadata": {},
   "outputs": [],
   "source": [
    "star_customers = [10001, 10002, 10003, 10004, 10005, 10006, 10007, 10008, 10009, 10011, 10012, 10013]"
   ]
  },
  {
   "cell_type": "code",
   "execution_count": 39,
   "id": "b022d56d",
   "metadata": {},
   "outputs": [],
   "source": [
    "# Filtrar productos y clientes\n",
    "filtered_df = df_sellout[(df_sellout['product_id'].isin(star_products))]\n",
    "filtered_df = filtered_df[(filtered_df['customer_id'].isin(star_customers))]"
   ]
  },
  {
   "cell_type": "code",
   "execution_count": 40,
   "id": "ea350336",
   "metadata": {},
   "outputs": [],
   "source": [
    "# generamos nuevos tn y cust_request_tn con normalizacion\n",
    "\n",
    "# Normalizacion MinMaxScaler lineal (0-1)\n",
    "scaler = MinMaxScaler()\n",
    "filtered_df[['tn_01', 'cust_request_tn_01']] = scaler.fit_transform(filtered_df[['tn', 'cust_request_tn']])\n",
    "\n",
    "# Normalizacion standard con media y desvio\n",
    "scaler = StandardScaler()\n",
    "filtered_df[['tn_md', 'cust_request_tn_md']] = scaler.fit_transform(filtered_df[['tn', 'cust_request_tn']])"
   ]
  },
  {
   "cell_type": "code",
   "execution_count": 41,
   "id": "5bda18ea",
   "metadata": {},
   "outputs": [],
   "source": [
    "# Lista con el nuevo orden de las columnas\n",
    "new_order = ['periodo','periodo_fecha', 'product_id', 'customer_id', 'tn','tn_01','tn_md','cust_request_qty','cust_request_tn',\n",
    "             'cust_request_tn_01', 'cust_request_tn_md', 'plan_precios_cuidados', 'cat1','cat2','cat3','sku_size']\n",
    "\n",
    "# Reordena las columnas del DataFrame\n",
    "filtered_df = filtered_df[new_order]"
   ]
  },
  {
   "cell_type": "code",
   "execution_count": 42,
   "id": "e13b7e78",
   "metadata": {},
   "outputs": [
    {
     "data": {
      "text/html": [
       "<div>\n",
       "<style scoped>\n",
       "    .dataframe tbody tr th:only-of-type {\n",
       "        vertical-align: middle;\n",
       "    }\n",
       "\n",
       "    .dataframe tbody tr th {\n",
       "        vertical-align: top;\n",
       "    }\n",
       "\n",
       "    .dataframe thead th {\n",
       "        text-align: right;\n",
       "    }\n",
       "</style>\n",
       "<table border=\"1\" class=\"dataframe\">\n",
       "  <thead>\n",
       "    <tr style=\"text-align: right;\">\n",
       "      <th></th>\n",
       "      <th>periodo</th>\n",
       "      <th>periodo_fecha</th>\n",
       "      <th>product_id</th>\n",
       "      <th>customer_id</th>\n",
       "      <th>tn</th>\n",
       "      <th>tn_01</th>\n",
       "      <th>tn_md</th>\n",
       "      <th>cust_request_qty</th>\n",
       "      <th>cust_request_tn</th>\n",
       "      <th>cust_request_tn_01</th>\n",
       "      <th>cust_request_tn_md</th>\n",
       "      <th>plan_precios_cuidados</th>\n",
       "      <th>cat1</th>\n",
       "      <th>cat2</th>\n",
       "      <th>cat3</th>\n",
       "      <th>sku_size</th>\n",
       "    </tr>\n",
       "  </thead>\n",
       "  <tbody>\n",
       "    <tr>\n",
       "      <th>4797</th>\n",
       "      <td>201701</td>\n",
       "      <td>2017-01-01</td>\n",
       "      <td>20007</td>\n",
       "      <td>10011</td>\n",
       "      <td>4.90379</td>\n",
       "      <td>0.008943</td>\n",
       "      <td>-0.647465</td>\n",
       "      <td>5</td>\n",
       "      <td>4.90379</td>\n",
       "      <td>0.008883</td>\n",
       "      <td>-0.650233</td>\n",
       "      <td>0</td>\n",
       "      <td>HC</td>\n",
       "      <td>ROPA ACONDICIONADOR</td>\n",
       "      <td>ACONDICIONADOR</td>\n",
       "      <td>900.0</td>\n",
       "    </tr>\n",
       "    <tr>\n",
       "      <th>4812</th>\n",
       "      <td>201701</td>\n",
       "      <td>2017-01-01</td>\n",
       "      <td>20007</td>\n",
       "      <td>10005</td>\n",
       "      <td>4.20325</td>\n",
       "      <td>0.007664</td>\n",
       "      <td>-0.661350</td>\n",
       "      <td>6</td>\n",
       "      <td>4.20325</td>\n",
       "      <td>0.007613</td>\n",
       "      <td>-0.663648</td>\n",
       "      <td>0</td>\n",
       "      <td>HC</td>\n",
       "      <td>ROPA ACONDICIONADOR</td>\n",
       "      <td>ACONDICIONADOR</td>\n",
       "      <td>900.0</td>\n",
       "    </tr>\n",
       "    <tr>\n",
       "      <th>4823</th>\n",
       "      <td>201701</td>\n",
       "      <td>2017-01-01</td>\n",
       "      <td>20007</td>\n",
       "      <td>10007</td>\n",
       "      <td>2.52973</td>\n",
       "      <td>0.004610</td>\n",
       "      <td>-0.694521</td>\n",
       "      <td>1</td>\n",
       "      <td>2.52973</td>\n",
       "      <td>0.004579</td>\n",
       "      <td>-0.695695</td>\n",
       "      <td>0</td>\n",
       "      <td>HC</td>\n",
       "      <td>ROPA ACONDICIONADOR</td>\n",
       "      <td>ACONDICIONADOR</td>\n",
       "      <td>900.0</td>\n",
       "    </tr>\n",
       "    <tr>\n",
       "      <th>4836</th>\n",
       "      <td>201701</td>\n",
       "      <td>2017-01-01</td>\n",
       "      <td>20007</td>\n",
       "      <td>10012</td>\n",
       "      <td>21.19132</td>\n",
       "      <td>0.038671</td>\n",
       "      <td>-0.324629</td>\n",
       "      <td>7</td>\n",
       "      <td>21.19132</td>\n",
       "      <td>0.038413</td>\n",
       "      <td>-0.338329</td>\n",
       "      <td>0</td>\n",
       "      <td>HC</td>\n",
       "      <td>ROPA ACONDICIONADOR</td>\n",
       "      <td>ACONDICIONADOR</td>\n",
       "      <td>900.0</td>\n",
       "    </tr>\n",
       "    <tr>\n",
       "      <th>4843</th>\n",
       "      <td>201701</td>\n",
       "      <td>2017-01-01</td>\n",
       "      <td>20007</td>\n",
       "      <td>10003</td>\n",
       "      <td>20.22810</td>\n",
       "      <td>0.036913</td>\n",
       "      <td>-0.343721</td>\n",
       "      <td>22</td>\n",
       "      <td>20.22810</td>\n",
       "      <td>0.036667</td>\n",
       "      <td>-0.356774</td>\n",
       "      <td>0</td>\n",
       "      <td>HC</td>\n",
       "      <td>ROPA ACONDICIONADOR</td>\n",
       "      <td>ACONDICIONADOR</td>\n",
       "      <td>900.0</td>\n",
       "    </tr>\n",
       "  </tbody>\n",
       "</table>\n",
       "</div>"
      ],
      "text/plain": [
       "      periodo periodo_fecha  product_id  customer_id        tn     tn_01  \\\n",
       "4797   201701    2017-01-01       20007        10011   4.90379  0.008943   \n",
       "4812   201701    2017-01-01       20007        10005   4.20325  0.007664   \n",
       "4823   201701    2017-01-01       20007        10007   2.52973  0.004610   \n",
       "4836   201701    2017-01-01       20007        10012  21.19132  0.038671   \n",
       "4843   201701    2017-01-01       20007        10003  20.22810  0.036913   \n",
       "\n",
       "         tn_md  cust_request_qty  cust_request_tn  cust_request_tn_01  \\\n",
       "4797 -0.647465                 5          4.90379            0.008883   \n",
       "4812 -0.661350                 6          4.20325            0.007613   \n",
       "4823 -0.694521                 1          2.52973            0.004579   \n",
       "4836 -0.324629                 7         21.19132            0.038413   \n",
       "4843 -0.343721                22         20.22810            0.036667   \n",
       "\n",
       "      cust_request_tn_md  plan_precios_cuidados cat1                 cat2  \\\n",
       "4797           -0.650233                      0   HC  ROPA ACONDICIONADOR   \n",
       "4812           -0.663648                      0   HC  ROPA ACONDICIONADOR   \n",
       "4823           -0.695695                      0   HC  ROPA ACONDICIONADOR   \n",
       "4836           -0.338329                      0   HC  ROPA ACONDICIONADOR   \n",
       "4843           -0.356774                      0   HC  ROPA ACONDICIONADOR   \n",
       "\n",
       "                cat3  sku_size  \n",
       "4797  ACONDICIONADOR     900.0  \n",
       "4812  ACONDICIONADOR     900.0  \n",
       "4823  ACONDICIONADOR     900.0  \n",
       "4836  ACONDICIONADOR     900.0  \n",
       "4843  ACONDICIONADOR     900.0  "
      ]
     },
     "execution_count": 42,
     "metadata": {},
     "output_type": "execute_result"
    }
   ],
   "source": [
    "filtered_df.head()"
   ]
  },
  {
   "cell_type": "code",
   "execution_count": 43,
   "id": "1ef85db9-2647-4147-b2d5-08aff6f0b971",
   "metadata": {},
   "outputs": [
    {
     "name": "stdout",
     "output_type": "stream",
     "text": [
      "3744\n",
      "3744\n"
     ]
    }
   ],
   "source": [
    "# Le agregamos las exogenas\n",
    "print(len(filtered_df))\n",
    "filtered_df = pd.merge(filtered_df,df_exogenas,on=\"periodo_fecha\",how=\"left\")\n",
    "print(len(filtered_df))"
   ]
  },
  {
   "cell_type": "code",
   "execution_count": 44,
   "id": "2cea70d9-ac0a-4051-ac1d-5c3a5b6f6fd5",
   "metadata": {},
   "outputs": [
    {
     "name": "stdout",
     "output_type": "stream",
     "text": [
      "<class 'pandas.core.frame.DataFrame'>\n",
      "Int64Index: 3744 entries, 0 to 3743\n",
      "Data columns (total 22 columns):\n",
      " #   Column                     Non-Null Count  Dtype         \n",
      "---  ------                     --------------  -----         \n",
      " 0   periodo                    3744 non-null   int64         \n",
      " 1   periodo_fecha              3744 non-null   datetime64[ns]\n",
      " 2   product_id                 3744 non-null   int64         \n",
      " 3   customer_id                3744 non-null   int64         \n",
      " 4   tn                         3744 non-null   float64       \n",
      " 5   tn_01                      3744 non-null   float64       \n",
      " 6   tn_md                      3744 non-null   float64       \n",
      " 7   cust_request_qty           3744 non-null   int64         \n",
      " 8   cust_request_tn            3744 non-null   float64       \n",
      " 9   cust_request_tn_01         3744 non-null   float64       \n",
      " 10  cust_request_tn_md         3744 non-null   float64       \n",
      " 11  plan_precios_cuidados      3744 non-null   int64         \n",
      " 12  cat1                       3744 non-null   object        \n",
      " 13  cat2                       3744 non-null   object        \n",
      " 14  cat3                       3744 non-null   object        \n",
      " 15  sku_size                   3744 non-null   float64       \n",
      " 16  temp_media                 3744 non-null   float64       \n",
      " 17  temp_max_media             3744 non-null   float64       \n",
      " 18  temp_min_media             3744 non-null   float64       \n",
      " 19  IPC                        3744 non-null   float64       \n",
      " 20  promedio_mens_dolar_venta  3744 non-null   float64       \n",
      " 21  catastrofe                 3744 non-null   bool          \n",
      "dtypes: bool(1), datetime64[ns](1), float64(12), int64(5), object(3)\n",
      "memory usage: 647.2+ KB\n"
     ]
    }
   ],
   "source": [
    "filtered_df.info()"
   ]
  },
  {
   "cell_type": "code",
   "execution_count": 45,
   "id": "dbe73bb1",
   "metadata": {},
   "outputs": [],
   "source": [
    "# Exportar el DataFrame a un archivo CSV\n",
    "filtered_df.to_csv(\"emp3_sellout_base_period_filtered_customer_product.csv\", index=False)"
   ]
  }
 ],
 "metadata": {
  "kernelspec": {
   "display_name": "Python 3 (ipykernel)",
   "language": "python",
   "name": "python3"
  },
  "language_info": {
   "codemirror_mode": {
    "name": "ipython",
    "version": 3
   },
   "file_extension": ".py",
   "mimetype": "text/x-python",
   "name": "python",
   "nbconvert_exporter": "python",
   "pygments_lexer": "ipython3",
   "version": "3.10.6"
  }
 },
 "nbformat": 4,
 "nbformat_minor": 5
}
