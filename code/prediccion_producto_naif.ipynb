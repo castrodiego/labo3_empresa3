{
 "cells": [
  {
   "cell_type": "code",
   "execution_count": 1,
   "id": "21185fc4-daf9-4aa1-ab9f-20811ecafd13",
   "metadata": {},
   "outputs": [],
   "source": [
    "import warnings\n",
    "warnings.filterwarnings(\"ignore\")\n",
    "\n",
    "import logging\n",
    "import pandas as pd\n",
    "import os\n",
    "import gzip\n",
    "\n",
    "from datetime import datetime\n",
    "import numpy as np\n",
    "import matplotlib.pylab as plt\n",
    "%matplotlib inline\n",
    "from matplotlib.pylab import rcParams"
   ]
  },
  {
   "cell_type": "code",
   "execution_count": 2,
   "id": "6aa70fba-17c5-4252-9da2-6f03260c1c85",
   "metadata": {},
   "outputs": [],
   "source": [
    "from IPython.display import Markdown, display\n",
    "def printmd(string):\n",
    "    display(Markdown(string))"
   ]
  },
  {
   "cell_type": "code",
   "execution_count": 3,
   "id": "a60c14f0-0640-4e76-a49a-56ca438a427d",
   "metadata": {},
   "outputs": [],
   "source": [
    "####################################################\n",
    "############# Setear segun cada maquina ############\n",
    "os.chdir(\"C:/diego_tools/labo3/dataset\")\n",
    "####################################################"
   ]
  },
  {
   "cell_type": "code",
   "execution_count": 4,
   "id": "3b8d1a4c-e0de-4b09-8fdd-cc234f8ae8b3",
   "metadata": {},
   "outputs": [],
   "source": [
    "def error_rate(y, y_pred):\n",
    "    dif_abs = sum(abs(y - y_pred))\n",
    "    suma_real = sum(y)\n",
    "    \n",
    "    return round(100*dif_abs/suma_real,2)"
   ]
  },
  {
   "cell_type": "code",
   "execution_count": 5,
   "id": "ad83c6b7-6c23-4be5-9dae-619976939128",
   "metadata": {},
   "outputs": [],
   "source": [
    "def print_error_rate_total_y_cat(df_pred):\n",
    "    error_rate_total = error_rate(df_pred.tn_real,df_pred.tn_pred)\n",
    "    printmd(\"**Error Rate Total:** \" + str(error_rate_total))\n",
    "\n",
    "    for cat1_iter in df_pred.cat1.unique():\n",
    "        df_pred_cat = df_pred[df_pred.cat1 == cat1_iter]\n",
    "        error_rate_cat = error_rate(df_pred_cat.tn_real,df_pred_cat.tn_pred)\n",
    "        printmd(\"**Error Rate por Categoría \" + cat1_iter + \"**: \" + str(error_rate_cat))"
   ]
  },
  {
   "cell_type": "code",
   "execution_count": 6,
   "id": "5008958b-1549-4c7c-bd61-7a683301009a",
   "metadata": {},
   "outputs": [],
   "source": [
    "df_sellout = pd.read_csv(\"emp3_sellout_base_period_product.csv\")"
   ]
  },
  {
   "cell_type": "code",
   "execution_count": 7,
   "id": "c9e327ab-3daf-4e03-b32c-118e2ec57ebc",
   "metadata": {},
   "outputs": [
    {
     "data": {
      "text/html": [
       "<div>\n",
       "<style scoped>\n",
       "    .dataframe tbody tr th:only-of-type {\n",
       "        vertical-align: middle;\n",
       "    }\n",
       "\n",
       "    .dataframe tbody tr th {\n",
       "        vertical-align: top;\n",
       "    }\n",
       "\n",
       "    .dataframe thead th {\n",
       "        text-align: right;\n",
       "    }\n",
       "</style>\n",
       "<table border=\"1\" class=\"dataframe\">\n",
       "  <thead>\n",
       "    <tr style=\"text-align: right;\">\n",
       "      <th></th>\n",
       "      <th>periodo</th>\n",
       "      <th>periodo_fecha</th>\n",
       "      <th>product_id</th>\n",
       "      <th>tn</th>\n",
       "      <th>cust_request_qty</th>\n",
       "      <th>cust_request_tn</th>\n",
       "      <th>plan_precios_cuidados</th>\n",
       "      <th>cat1</th>\n",
       "      <th>cat2</th>\n",
       "      <th>cat3</th>\n",
       "      <th>sku_size</th>\n",
       "      <th>temp_media</th>\n",
       "      <th>temp_max_media</th>\n",
       "      <th>temp_min_media</th>\n",
       "      <th>IPC</th>\n",
       "      <th>promedio_mens_dolar_venta</th>\n",
       "      <th>catastrofe</th>\n",
       "    </tr>\n",
       "  </thead>\n",
       "  <tbody>\n",
       "    <tr>\n",
       "      <th>0</th>\n",
       "      <td>201701</td>\n",
       "      <td>2017-01-01</td>\n",
       "      <td>20001</td>\n",
       "      <td>934.77222</td>\n",
       "      <td>479</td>\n",
       "      <td>937.72717</td>\n",
       "      <td>0</td>\n",
       "      <td>HC</td>\n",
       "      <td>ROPA LAVADO</td>\n",
       "      <td>Liquido</td>\n",
       "      <td>3000.0</td>\n",
       "      <td>25.65</td>\n",
       "      <td>30.4</td>\n",
       "      <td>20.9</td>\n",
       "      <td>1.6</td>\n",
       "      <td>15.91</td>\n",
       "      <td>False</td>\n",
       "    </tr>\n",
       "    <tr>\n",
       "      <th>1</th>\n",
       "      <td>201701</td>\n",
       "      <td>2017-01-01</td>\n",
       "      <td>20002</td>\n",
       "      <td>550.15707</td>\n",
       "      <td>391</td>\n",
       "      <td>555.18654</td>\n",
       "      <td>0</td>\n",
       "      <td>HC</td>\n",
       "      <td>ROPA LAVADO</td>\n",
       "      <td>Liquido</td>\n",
       "      <td>3000.0</td>\n",
       "      <td>25.65</td>\n",
       "      <td>30.4</td>\n",
       "      <td>20.9</td>\n",
       "      <td>1.6</td>\n",
       "      <td>15.91</td>\n",
       "      <td>False</td>\n",
       "    </tr>\n",
       "    <tr>\n",
       "      <th>2</th>\n",
       "      <td>201701</td>\n",
       "      <td>2017-01-01</td>\n",
       "      <td>20003</td>\n",
       "      <td>1063.45835</td>\n",
       "      <td>438</td>\n",
       "      <td>1067.81543</td>\n",
       "      <td>0</td>\n",
       "      <td>FOODS</td>\n",
       "      <td>ADEREZOS</td>\n",
       "      <td>Mayonesa</td>\n",
       "      <td>475.0</td>\n",
       "      <td>25.65</td>\n",
       "      <td>30.4</td>\n",
       "      <td>20.9</td>\n",
       "      <td>1.6</td>\n",
       "      <td>15.91</td>\n",
       "      <td>False</td>\n",
       "    </tr>\n",
       "    <tr>\n",
       "      <th>3</th>\n",
       "      <td>201701</td>\n",
       "      <td>2017-01-01</td>\n",
       "      <td>20004</td>\n",
       "      <td>555.91614</td>\n",
       "      <td>339</td>\n",
       "      <td>569.37394</td>\n",
       "      <td>0</td>\n",
       "      <td>FOODS</td>\n",
       "      <td>ADEREZOS</td>\n",
       "      <td>Mayonesa</td>\n",
       "      <td>240.0</td>\n",
       "      <td>25.65</td>\n",
       "      <td>30.4</td>\n",
       "      <td>20.9</td>\n",
       "      <td>1.6</td>\n",
       "      <td>15.91</td>\n",
       "      <td>False</td>\n",
       "    </tr>\n",
       "    <tr>\n",
       "      <th>4</th>\n",
       "      <td>201701</td>\n",
       "      <td>2017-01-01</td>\n",
       "      <td>20005</td>\n",
       "      <td>494.27011</td>\n",
       "      <td>249</td>\n",
       "      <td>494.60084</td>\n",
       "      <td>0</td>\n",
       "      <td>FOODS</td>\n",
       "      <td>ADEREZOS</td>\n",
       "      <td>Mayonesa</td>\n",
       "      <td>120.0</td>\n",
       "      <td>25.65</td>\n",
       "      <td>30.4</td>\n",
       "      <td>20.9</td>\n",
       "      <td>1.6</td>\n",
       "      <td>15.91</td>\n",
       "      <td>False</td>\n",
       "    </tr>\n",
       "  </tbody>\n",
       "</table>\n",
       "</div>"
      ],
      "text/plain": [
       "   periodo periodo_fecha  product_id          tn  cust_request_qty  \\\n",
       "0   201701    2017-01-01       20001   934.77222               479   \n",
       "1   201701    2017-01-01       20002   550.15707               391   \n",
       "2   201701    2017-01-01       20003  1063.45835               438   \n",
       "3   201701    2017-01-01       20004   555.91614               339   \n",
       "4   201701    2017-01-01       20005   494.27011               249   \n",
       "\n",
       "   cust_request_tn  plan_precios_cuidados   cat1         cat2      cat3  \\\n",
       "0        937.72717                      0     HC  ROPA LAVADO   Liquido   \n",
       "1        555.18654                      0     HC  ROPA LAVADO   Liquido   \n",
       "2       1067.81543                      0  FOODS     ADEREZOS  Mayonesa   \n",
       "3        569.37394                      0  FOODS     ADEREZOS  Mayonesa   \n",
       "4        494.60084                      0  FOODS     ADEREZOS  Mayonesa   \n",
       "\n",
       "   sku_size  temp_media  temp_max_media  temp_min_media  IPC  \\\n",
       "0    3000.0       25.65            30.4            20.9  1.6   \n",
       "1    3000.0       25.65            30.4            20.9  1.6   \n",
       "2     475.0       25.65            30.4            20.9  1.6   \n",
       "3     240.0       25.65            30.4            20.9  1.6   \n",
       "4     120.0       25.65            30.4            20.9  1.6   \n",
       "\n",
       "   promedio_mens_dolar_venta  catastrofe  \n",
       "0                      15.91       False  \n",
       "1                      15.91       False  \n",
       "2                      15.91       False  \n",
       "3                      15.91       False  \n",
       "4                      15.91       False  "
      ]
     },
     "execution_count": 7,
     "metadata": {},
     "output_type": "execute_result"
    }
   ],
   "source": [
    "df_sellout.head()"
   ]
  },
  {
   "cell_type": "code",
   "execution_count": 8,
   "id": "70f0ac6f-91a5-482b-a04b-e19966042321",
   "metadata": {},
   "outputs": [
    {
     "name": "stdout",
     "output_type": "stream",
     "text": [
      "<class 'pandas.core.frame.DataFrame'>\n",
      "RangeIndex: 31243 entries, 0 to 31242\n",
      "Data columns (total 17 columns):\n",
      " #   Column                     Non-Null Count  Dtype  \n",
      "---  ------                     --------------  -----  \n",
      " 0   periodo                    31243 non-null  int64  \n",
      " 1   periodo_fecha              31243 non-null  object \n",
      " 2   product_id                 31243 non-null  int64  \n",
      " 3   tn                         31243 non-null  float64\n",
      " 4   cust_request_qty           31243 non-null  int64  \n",
      " 5   cust_request_tn            31243 non-null  float64\n",
      " 6   plan_precios_cuidados      31243 non-null  int64  \n",
      " 7   cat1                       31243 non-null  object \n",
      " 8   cat2                       31243 non-null  object \n",
      " 9   cat3                       31243 non-null  object \n",
      " 10  sku_size                   31243 non-null  float64\n",
      " 11  temp_media                 31243 non-null  float64\n",
      " 12  temp_max_media             31243 non-null  float64\n",
      " 13  temp_min_media             31243 non-null  float64\n",
      " 14  IPC                        31243 non-null  float64\n",
      " 15  promedio_mens_dolar_venta  31243 non-null  float64\n",
      " 16  catastrofe                 31243 non-null  bool   \n",
      "dtypes: bool(1), float64(8), int64(4), object(4)\n",
      "memory usage: 3.8+ MB\n"
     ]
    }
   ],
   "source": [
    "df_sellout.info()"
   ]
  },
  {
   "cell_type": "code",
   "execution_count": 9,
   "id": "152e325c-5ab5-41b1-89d4-fe8f19d62eb1",
   "metadata": {},
   "outputs": [
    {
     "data": {
      "text/plain": [
       "PC             16779\n",
       "HC              7603\n",
       "FOODS           6632\n",
       "desconocida      229\n",
       "Name: cat1, dtype: int64"
      ]
     },
     "execution_count": 9,
     "metadata": {},
     "output_type": "execute_result"
    }
   ],
   "source": [
    "df_sellout.cat1.value_counts()"
   ]
  },
  {
   "cell_type": "code",
   "execution_count": 10,
   "id": "71b64e77-41db-4aba-8972-08d31acd4b73",
   "metadata": {},
   "outputs": [],
   "source": [
    "# Selecciono las columnas iniciales\n",
    "df_sellout = df_sellout[[\"periodo\",\"product_id\",\"tn\",\"cat1\"]]"
   ]
  },
  {
   "cell_type": "markdown",
   "id": "549e7099-3e90-4fd6-85bc-0aa55bfdc7b5",
   "metadata": {},
   "source": [
    "Verificación de producto estrella --> ok"
   ]
  },
  {
   "cell_type": "markdown",
   "id": "87eaf260-ade7-4f8c-a3e9-a0f04b9d8b4f",
   "metadata": {},
   "source": [
    "## Split train y test"
   ]
  },
  {
   "cell_type": "code",
   "execution_count": 11,
   "id": "6301062b-abe2-4d14-8c57-d9a52cbe8960",
   "metadata": {},
   "outputs": [],
   "source": [
    "df_train = df_sellout[df_sellout.periodo <= 201902]\n",
    "df_test = df_sellout[df_sellout.periodo == 201904]"
   ]
  },
  {
   "cell_type": "code",
   "execution_count": 12,
   "id": "354ce556-3164-45e7-b0f0-c2895763d052",
   "metadata": {},
   "outputs": [
    {
     "data": {
      "text/html": [
       "<div>\n",
       "<style scoped>\n",
       "    .dataframe tbody tr th:only-of-type {\n",
       "        vertical-align: middle;\n",
       "    }\n",
       "\n",
       "    .dataframe tbody tr th {\n",
       "        vertical-align: top;\n",
       "    }\n",
       "\n",
       "    .dataframe thead th {\n",
       "        text-align: right;\n",
       "    }\n",
       "</style>\n",
       "<table border=\"1\" class=\"dataframe\">\n",
       "  <thead>\n",
       "    <tr style=\"text-align: right;\">\n",
       "      <th></th>\n",
       "      <th>periodo</th>\n",
       "      <th>product_id</th>\n",
       "      <th>tn</th>\n",
       "      <th>cat1</th>\n",
       "    </tr>\n",
       "  </thead>\n",
       "  <tbody>\n",
       "    <tr>\n",
       "      <th>0</th>\n",
       "      <td>201701</td>\n",
       "      <td>20001</td>\n",
       "      <td>934.77222</td>\n",
       "      <td>HC</td>\n",
       "    </tr>\n",
       "    <tr>\n",
       "      <th>1</th>\n",
       "      <td>201701</td>\n",
       "      <td>20002</td>\n",
       "      <td>550.15707</td>\n",
       "      <td>HC</td>\n",
       "    </tr>\n",
       "    <tr>\n",
       "      <th>2</th>\n",
       "      <td>201701</td>\n",
       "      <td>20003</td>\n",
       "      <td>1063.45835</td>\n",
       "      <td>FOODS</td>\n",
       "    </tr>\n",
       "    <tr>\n",
       "      <th>3</th>\n",
       "      <td>201701</td>\n",
       "      <td>20004</td>\n",
       "      <td>555.91614</td>\n",
       "      <td>FOODS</td>\n",
       "    </tr>\n",
       "    <tr>\n",
       "      <th>4</th>\n",
       "      <td>201701</td>\n",
       "      <td>20005</td>\n",
       "      <td>494.27011</td>\n",
       "      <td>FOODS</td>\n",
       "    </tr>\n",
       "    <tr>\n",
       "      <th>...</th>\n",
       "      <td>...</td>\n",
       "      <td>...</td>\n",
       "      <td>...</td>\n",
       "      <td>...</td>\n",
       "    </tr>\n",
       "    <tr>\n",
       "      <th>21988</th>\n",
       "      <td>201902</td>\n",
       "      <td>21261</td>\n",
       "      <td>0.04656</td>\n",
       "      <td>PC</td>\n",
       "    </tr>\n",
       "    <tr>\n",
       "      <th>21989</th>\n",
       "      <td>201902</td>\n",
       "      <td>21262</td>\n",
       "      <td>0.05786</td>\n",
       "      <td>PC</td>\n",
       "    </tr>\n",
       "    <tr>\n",
       "      <th>21990</th>\n",
       "      <td>201902</td>\n",
       "      <td>21263</td>\n",
       "      <td>0.05927</td>\n",
       "      <td>PC</td>\n",
       "    </tr>\n",
       "    <tr>\n",
       "      <th>21991</th>\n",
       "      <td>201902</td>\n",
       "      <td>21264</td>\n",
       "      <td>0.01378</td>\n",
       "      <td>FOODS</td>\n",
       "    </tr>\n",
       "    <tr>\n",
       "      <th>21992</th>\n",
       "      <td>201902</td>\n",
       "      <td>21271</td>\n",
       "      <td>0.01041</td>\n",
       "      <td>FOODS</td>\n",
       "    </tr>\n",
       "  </tbody>\n",
       "</table>\n",
       "<p>21993 rows × 4 columns</p>\n",
       "</div>"
      ],
      "text/plain": [
       "       periodo  product_id          tn   cat1\n",
       "0       201701       20001   934.77222     HC\n",
       "1       201701       20002   550.15707     HC\n",
       "2       201701       20003  1063.45835  FOODS\n",
       "3       201701       20004   555.91614  FOODS\n",
       "4       201701       20005   494.27011  FOODS\n",
       "...        ...         ...         ...    ...\n",
       "21988   201902       21261     0.04656     PC\n",
       "21989   201902       21262     0.05786     PC\n",
       "21990   201902       21263     0.05927     PC\n",
       "21991   201902       21264     0.01378  FOODS\n",
       "21992   201902       21271     0.01041  FOODS\n",
       "\n",
       "[21993 rows x 4 columns]"
      ]
     },
     "execution_count": 12,
     "metadata": {},
     "output_type": "execute_result"
    }
   ],
   "source": [
    "df_train"
   ]
  },
  {
   "cell_type": "code",
   "execution_count": 13,
   "id": "3d887a8c-4c23-4e2a-878d-fc21ad94c0a0",
   "metadata": {},
   "outputs": [
    {
     "name": "stdout",
     "output_type": "stream",
     "text": [
      "919\n"
     ]
    },
    {
     "data": {
      "text/html": [
       "<div>\n",
       "<style scoped>\n",
       "    .dataframe tbody tr th:only-of-type {\n",
       "        vertical-align: middle;\n",
       "    }\n",
       "\n",
       "    .dataframe tbody tr th {\n",
       "        vertical-align: top;\n",
       "    }\n",
       "\n",
       "    .dataframe thead th {\n",
       "        text-align: right;\n",
       "    }\n",
       "</style>\n",
       "<table border=\"1\" class=\"dataframe\">\n",
       "  <thead>\n",
       "    <tr style=\"text-align: right;\">\n",
       "      <th></th>\n",
       "      <th>periodo</th>\n",
       "      <th>product_id</th>\n",
       "      <th>tn</th>\n",
       "      <th>cat1</th>\n",
       "    </tr>\n",
       "  </thead>\n",
       "  <tbody>\n",
       "    <tr>\n",
       "      <th>22888</th>\n",
       "      <td>201904</td>\n",
       "      <td>20001</td>\n",
       "      <td>1647.63848</td>\n",
       "      <td>HC</td>\n",
       "    </tr>\n",
       "    <tr>\n",
       "      <th>22889</th>\n",
       "      <td>201904</td>\n",
       "      <td>20002</td>\n",
       "      <td>1287.62346</td>\n",
       "      <td>HC</td>\n",
       "    </tr>\n",
       "    <tr>\n",
       "      <th>22890</th>\n",
       "      <td>201904</td>\n",
       "      <td>20003</td>\n",
       "      <td>565.33774</td>\n",
       "      <td>FOODS</td>\n",
       "    </tr>\n",
       "    <tr>\n",
       "      <th>22891</th>\n",
       "      <td>201904</td>\n",
       "      <td>20004</td>\n",
       "      <td>466.70901</td>\n",
       "      <td>FOODS</td>\n",
       "    </tr>\n",
       "    <tr>\n",
       "      <th>22892</th>\n",
       "      <td>201904</td>\n",
       "      <td>20005</td>\n",
       "      <td>624.99880</td>\n",
       "      <td>FOODS</td>\n",
       "    </tr>\n",
       "    <tr>\n",
       "      <th>...</th>\n",
       "      <td>...</td>\n",
       "      <td>...</td>\n",
       "      <td>...</td>\n",
       "      <td>...</td>\n",
       "    </tr>\n",
       "    <tr>\n",
       "      <th>23802</th>\n",
       "      <td>201904</td>\n",
       "      <td>21266</td>\n",
       "      <td>0.36178</td>\n",
       "      <td>PC</td>\n",
       "    </tr>\n",
       "    <tr>\n",
       "      <th>23803</th>\n",
       "      <td>201904</td>\n",
       "      <td>21267</td>\n",
       "      <td>0.12291</td>\n",
       "      <td>PC</td>\n",
       "    </tr>\n",
       "    <tr>\n",
       "      <th>23804</th>\n",
       "      <td>201904</td>\n",
       "      <td>21269</td>\n",
       "      <td>0.11351</td>\n",
       "      <td>PC</td>\n",
       "    </tr>\n",
       "    <tr>\n",
       "      <th>23805</th>\n",
       "      <td>201904</td>\n",
       "      <td>21271</td>\n",
       "      <td>0.00185</td>\n",
       "      <td>FOODS</td>\n",
       "    </tr>\n",
       "    <tr>\n",
       "      <th>23806</th>\n",
       "      <td>201904</td>\n",
       "      <td>21276</td>\n",
       "      <td>0.10173</td>\n",
       "      <td>PC</td>\n",
       "    </tr>\n",
       "  </tbody>\n",
       "</table>\n",
       "<p>919 rows × 4 columns</p>\n",
       "</div>"
      ],
      "text/plain": [
       "       periodo  product_id          tn   cat1\n",
       "22888   201904       20001  1647.63848     HC\n",
       "22889   201904       20002  1287.62346     HC\n",
       "22890   201904       20003   565.33774  FOODS\n",
       "22891   201904       20004   466.70901  FOODS\n",
       "22892   201904       20005   624.99880  FOODS\n",
       "...        ...         ...         ...    ...\n",
       "23802   201904       21266     0.36178     PC\n",
       "23803   201904       21267     0.12291     PC\n",
       "23804   201904       21269     0.11351     PC\n",
       "23805   201904       21271     0.00185  FOODS\n",
       "23806   201904       21276     0.10173     PC\n",
       "\n",
       "[919 rows x 4 columns]"
      ]
     },
     "execution_count": 13,
     "metadata": {},
     "output_type": "execute_result"
    }
   ],
   "source": [
    "print(len(df_test))\n",
    "df_test"
   ]
  },
  {
   "cell_type": "code",
   "execution_count": 14,
   "id": "c9c323a2-8b00-411b-b8a6-32dc5ad233eb",
   "metadata": {},
   "outputs": [
    {
     "data": {
      "text/plain": [
       "50"
      ]
     },
     "execution_count": 14,
     "metadata": {},
     "output_type": "execute_result"
    }
   ],
   "source": [
    "product_id_nuevos = set(df_test.product_id).difference(set(df_train.product_id))\n",
    "len(product_id_nuevos)"
   ]
  },
  {
   "cell_type": "markdown",
   "id": "b13c39c4-98c6-4069-ad24-d5868c020c05",
   "metadata": {},
   "source": [
    "Hay 50 productos NUEVOS (están en 201904 y no antes)\n",
    "\n",
    "Entonces vamos a predecir 919-50 => 869"
   ]
  },
  {
   "cell_type": "code",
   "execution_count": 15,
   "id": "d27e0049-b07d-4aad-9864-115dea1ba13c",
   "metadata": {},
   "outputs": [
    {
     "data": {
      "text/plain": [
       "869"
      ]
     },
     "execution_count": 15,
     "metadata": {},
     "output_type": "execute_result"
    }
   ],
   "source": [
    "df_test = df_test[~df_test.product_id.isin(product_id_nuevos)]\n",
    "len(df_test)"
   ]
  },
  {
   "cell_type": "code",
   "execution_count": 16,
   "id": "374952d4-765c-4f68-b70f-e9a45f676bf4",
   "metadata": {},
   "outputs": [
    {
     "data": {
      "text/html": [
       "<div>\n",
       "<style scoped>\n",
       "    .dataframe tbody tr th:only-of-type {\n",
       "        vertical-align: middle;\n",
       "    }\n",
       "\n",
       "    .dataframe tbody tr th {\n",
       "        vertical-align: top;\n",
       "    }\n",
       "\n",
       "    .dataframe thead th {\n",
       "        text-align: right;\n",
       "    }\n",
       "</style>\n",
       "<table border=\"1\" class=\"dataframe\">\n",
       "  <thead>\n",
       "    <tr style=\"text-align: right;\">\n",
       "      <th></th>\n",
       "      <th>product_id</th>\n",
       "      <th>tn</th>\n",
       "    </tr>\n",
       "  </thead>\n",
       "  <tbody>\n",
       "    <tr>\n",
       "      <th>0</th>\n",
       "      <td>20001</td>\n",
       "      <td>1362.248849</td>\n",
       "    </tr>\n",
       "    <tr>\n",
       "      <th>1</th>\n",
       "      <td>20002</td>\n",
       "      <td>943.915757</td>\n",
       "    </tr>\n",
       "    <tr>\n",
       "      <th>2</th>\n",
       "      <td>20003</td>\n",
       "      <td>934.905062</td>\n",
       "    </tr>\n",
       "    <tr>\n",
       "      <th>3</th>\n",
       "      <td>20004</td>\n",
       "      <td>677.100396</td>\n",
       "    </tr>\n",
       "    <tr>\n",
       "      <th>4</th>\n",
       "      <td>20005</td>\n",
       "      <td>613.286967</td>\n",
       "    </tr>\n",
       "    <tr>\n",
       "      <th>...</th>\n",
       "      <td>...</td>\n",
       "      <td>...</td>\n",
       "    </tr>\n",
       "    <tr>\n",
       "      <th>1050</th>\n",
       "      <td>21295</td>\n",
       "      <td>0.006990</td>\n",
       "    </tr>\n",
       "    <tr>\n",
       "      <th>1051</th>\n",
       "      <td>21296</td>\n",
       "      <td>0.006510</td>\n",
       "    </tr>\n",
       "    <tr>\n",
       "      <th>1052</th>\n",
       "      <td>21297</td>\n",
       "      <td>0.005790</td>\n",
       "    </tr>\n",
       "    <tr>\n",
       "      <th>1053</th>\n",
       "      <td>21298</td>\n",
       "      <td>0.005730</td>\n",
       "    </tr>\n",
       "    <tr>\n",
       "      <th>1054</th>\n",
       "      <td>21299</td>\n",
       "      <td>0.005460</td>\n",
       "    </tr>\n",
       "  </tbody>\n",
       "</table>\n",
       "<p>1055 rows × 2 columns</p>\n",
       "</div>"
      ],
      "text/plain": [
       "      product_id           tn\n",
       "0          20001  1362.248849\n",
       "1          20002   943.915757\n",
       "2          20003   934.905062\n",
       "3          20004   677.100396\n",
       "4          20005   613.286967\n",
       "...          ...          ...\n",
       "1050       21295     0.006990\n",
       "1051       21296     0.006510\n",
       "1052       21297     0.005790\n",
       "1053       21298     0.005730\n",
       "1054       21299     0.005460\n",
       "\n",
       "[1055 rows x 2 columns]"
      ]
     },
     "execution_count": 16,
     "metadata": {},
     "output_type": "execute_result"
    }
   ],
   "source": [
    "# Como puede haber productos que no estén en algunos períodos (que se usan en modelos naif), calculo promedio para completar\n",
    "df_completar = df_train[[\"product_id\",\"tn\"]].groupby(\"product_id\").mean().reset_index()\n",
    "df_completar"
   ]
  },
  {
   "cell_type": "markdown",
   "id": "4921de22-2729-4ee3-92f1-f97ca743ebf5",
   "metadata": {},
   "source": [
    "## Predicción Estacional"
   ]
  },
  {
   "cell_type": "code",
   "execution_count": 17,
   "id": "900ed328-8680-4942-b7d9-65f8d8f104cc",
   "metadata": {},
   "outputs": [
    {
     "data": {
      "text/html": [
       "<div>\n",
       "<style scoped>\n",
       "    .dataframe tbody tr th:only-of-type {\n",
       "        vertical-align: middle;\n",
       "    }\n",
       "\n",
       "    .dataframe tbody tr th {\n",
       "        vertical-align: top;\n",
       "    }\n",
       "\n",
       "    .dataframe thead th {\n",
       "        text-align: right;\n",
       "    }\n",
       "</style>\n",
       "<table border=\"1\" class=\"dataframe\">\n",
       "  <thead>\n",
       "    <tr style=\"text-align: right;\">\n",
       "      <th></th>\n",
       "      <th>product_id</th>\n",
       "      <th>tn</th>\n",
       "    </tr>\n",
       "  </thead>\n",
       "  <tbody>\n",
       "    <tr>\n",
       "      <th>12387</th>\n",
       "      <td>20001</td>\n",
       "      <td>1251.28462</td>\n",
       "    </tr>\n",
       "    <tr>\n",
       "      <th>12388</th>\n",
       "      <td>20002</td>\n",
       "      <td>999.20934</td>\n",
       "    </tr>\n",
       "    <tr>\n",
       "      <th>12389</th>\n",
       "      <td>20003</td>\n",
       "      <td>765.47838</td>\n",
       "    </tr>\n",
       "    <tr>\n",
       "      <th>12390</th>\n",
       "      <td>20004</td>\n",
       "      <td>611.51237</td>\n",
       "    </tr>\n",
       "    <tr>\n",
       "      <th>12391</th>\n",
       "      <td>20005</td>\n",
       "      <td>496.41774</td>\n",
       "    </tr>\n",
       "  </tbody>\n",
       "</table>\n",
       "</div>"
      ],
      "text/plain": [
       "       product_id          tn\n",
       "12387       20001  1251.28462\n",
       "12388       20002   999.20934\n",
       "12389       20003   765.47838\n",
       "12390       20004   611.51237\n",
       "12391       20005   496.41774"
      ]
     },
     "execution_count": 17,
     "metadata": {},
     "output_type": "execute_result"
    }
   ],
   "source": [
    "df_pred_estac = df_train[df_train.periodo==201804]\n",
    "df_pred_estac = df_pred_estac[[\"product_id\",\"tn\"]]\n",
    "df_pred_estac.head()"
   ]
  },
  {
   "cell_type": "code",
   "execution_count": 18,
   "id": "a74a7982-c69e-4e4d-89c9-b2d03dd2f233",
   "metadata": {},
   "outputs": [
    {
     "data": {
      "text/html": [
       "<div>\n",
       "<style scoped>\n",
       "    .dataframe tbody tr th:only-of-type {\n",
       "        vertical-align: middle;\n",
       "    }\n",
       "\n",
       "    .dataframe tbody tr th {\n",
       "        vertical-align: top;\n",
       "    }\n",
       "\n",
       "    .dataframe thead th {\n",
       "        text-align: right;\n",
       "    }\n",
       "</style>\n",
       "<table border=\"1\" class=\"dataframe\">\n",
       "  <thead>\n",
       "    <tr style=\"text-align: right;\">\n",
       "      <th></th>\n",
       "      <th>product_id</th>\n",
       "      <th>cat1</th>\n",
       "      <th>tn_real</th>\n",
       "      <th>tn_pred</th>\n",
       "    </tr>\n",
       "  </thead>\n",
       "  <tbody>\n",
       "    <tr>\n",
       "      <th>0</th>\n",
       "      <td>20001</td>\n",
       "      <td>HC</td>\n",
       "      <td>1647.63848</td>\n",
       "      <td>1251.28462</td>\n",
       "    </tr>\n",
       "    <tr>\n",
       "      <th>1</th>\n",
       "      <td>20002</td>\n",
       "      <td>HC</td>\n",
       "      <td>1287.62346</td>\n",
       "      <td>999.20934</td>\n",
       "    </tr>\n",
       "    <tr>\n",
       "      <th>2</th>\n",
       "      <td>20003</td>\n",
       "      <td>FOODS</td>\n",
       "      <td>565.33774</td>\n",
       "      <td>765.47838</td>\n",
       "    </tr>\n",
       "    <tr>\n",
       "      <th>3</th>\n",
       "      <td>20004</td>\n",
       "      <td>FOODS</td>\n",
       "      <td>466.70901</td>\n",
       "      <td>611.51237</td>\n",
       "    </tr>\n",
       "    <tr>\n",
       "      <th>4</th>\n",
       "      <td>20005</td>\n",
       "      <td>FOODS</td>\n",
       "      <td>624.99880</td>\n",
       "      <td>496.41774</td>\n",
       "    </tr>\n",
       "  </tbody>\n",
       "</table>\n",
       "</div>"
      ],
      "text/plain": [
       "   product_id   cat1     tn_real     tn_pred\n",
       "0       20001     HC  1647.63848  1251.28462\n",
       "1       20002     HC  1287.62346   999.20934\n",
       "2       20003  FOODS   565.33774   765.47838\n",
       "3       20004  FOODS   466.70901   611.51237\n",
       "4       20005  FOODS   624.99880   496.41774"
      ]
     },
     "execution_count": 18,
     "metadata": {},
     "output_type": "execute_result"
    }
   ],
   "source": [
    "# Left join de test con prediccion estacional\n",
    "df_res_estac = pd.merge(df_test,df_pred_estac,on=\"product_id\",how=\"left\",suffixes=[\"_real\",\"_estac\"])\n",
    "\n",
    "# Left join con prediccion promedio (para completar)\n",
    "df_res_estac = pd.merge(df_res_estac,df_completar,on=\"product_id\",how=\"left\")\n",
    "df_res_estac.rename(columns={'tn': 'tn_prom'}, inplace=True)\n",
    "\n",
    "# Calculo toneladas predichas usando los valores anteriores\n",
    "df_res_estac[\"tn_pred\"]=np.where(df_res_estac.tn_estac.isnull(),df_res_estac.tn_prom,df_res_estac.tn_estac)\n",
    "\n",
    "df_res_estac = df_res_estac[[\"product_id\",\"cat1\",\"tn_real\",\"tn_pred\"]]\n",
    "df_res_estac.head()"
   ]
  },
  {
   "cell_type": "code",
   "execution_count": 19,
   "id": "80862fa4-3706-4a92-96ae-072457de2db2",
   "metadata": {},
   "outputs": [
    {
     "data": {
      "text/markdown": [
       "**Error Rate Total:** 34.9"
      ],
      "text/plain": [
       "<IPython.core.display.Markdown object>"
      ]
     },
     "metadata": {},
     "output_type": "display_data"
    },
    {
     "data": {
      "text/markdown": [
       "**Error Rate por Categoría HC**: 33.44"
      ],
      "text/plain": [
       "<IPython.core.display.Markdown object>"
      ]
     },
     "metadata": {},
     "output_type": "display_data"
    },
    {
     "data": {
      "text/markdown": [
       "**Error Rate por Categoría FOODS**: 32.1"
      ],
      "text/plain": [
       "<IPython.core.display.Markdown object>"
      ]
     },
     "metadata": {},
     "output_type": "display_data"
    },
    {
     "data": {
      "text/markdown": [
       "**Error Rate por Categoría PC**: 42.89"
      ],
      "text/plain": [
       "<IPython.core.display.Markdown object>"
      ]
     },
     "metadata": {},
     "output_type": "display_data"
    }
   ],
   "source": [
    "print_error_rate_total_y_cat(df_res_estac)"
   ]
  },
  {
   "cell_type": "markdown",
   "id": "211d53e8-b852-4ccd-94ac-2b58f3f291c5",
   "metadata": {},
   "source": [
    "## Predicción Menos 2"
   ]
  },
  {
   "cell_type": "code",
   "execution_count": 20,
   "id": "eba5fe9d-8578-43d6-8f83-8a0d9addb5bc",
   "metadata": {},
   "outputs": [
    {
     "data": {
      "text/html": [
       "<div>\n",
       "<style scoped>\n",
       "    .dataframe tbody tr th:only-of-type {\n",
       "        vertical-align: middle;\n",
       "    }\n",
       "\n",
       "    .dataframe tbody tr th {\n",
       "        vertical-align: top;\n",
       "    }\n",
       "\n",
       "    .dataframe thead th {\n",
       "        text-align: right;\n",
       "    }\n",
       "</style>\n",
       "<table border=\"1\" class=\"dataframe\">\n",
       "  <thead>\n",
       "    <tr style=\"text-align: right;\">\n",
       "      <th></th>\n",
       "      <th>product_id</th>\n",
       "      <th>tn</th>\n",
       "    </tr>\n",
       "  </thead>\n",
       "  <tbody>\n",
       "    <tr>\n",
       "      <th>21099</th>\n",
       "      <td>20001</td>\n",
       "      <td>1259.09363</td>\n",
       "    </tr>\n",
       "    <tr>\n",
       "      <th>21100</th>\n",
       "      <td>20002</td>\n",
       "      <td>1043.01349</td>\n",
       "    </tr>\n",
       "    <tr>\n",
       "      <th>21101</th>\n",
       "      <td>20003</td>\n",
       "      <td>758.32657</td>\n",
       "    </tr>\n",
       "    <tr>\n",
       "      <th>21102</th>\n",
       "      <td>20004</td>\n",
       "      <td>441.70332</td>\n",
       "    </tr>\n",
       "    <tr>\n",
       "      <th>21103</th>\n",
       "      <td>20005</td>\n",
       "      <td>409.89950</td>\n",
       "    </tr>\n",
       "  </tbody>\n",
       "</table>\n",
       "</div>"
      ],
      "text/plain": [
       "       product_id          tn\n",
       "21099       20001  1259.09363\n",
       "21100       20002  1043.01349\n",
       "21101       20003   758.32657\n",
       "21102       20004   441.70332\n",
       "21103       20005   409.89950"
      ]
     },
     "execution_count": 20,
     "metadata": {},
     "output_type": "execute_result"
    }
   ],
   "source": [
    "# Naif -2\n",
    "df_pred_menos2 = df_train[df_train.periodo==201902]\n",
    "df_pred_menos2 = df_pred_menos2[[\"product_id\",\"tn\"]]\n",
    "df_pred_menos2.head()"
   ]
  },
  {
   "cell_type": "code",
   "execution_count": 21,
   "id": "a320fe3e-41f3-4168-8d16-086fc70e12d7",
   "metadata": {},
   "outputs": [
    {
     "data": {
      "text/html": [
       "<div>\n",
       "<style scoped>\n",
       "    .dataframe tbody tr th:only-of-type {\n",
       "        vertical-align: middle;\n",
       "    }\n",
       "\n",
       "    .dataframe tbody tr th {\n",
       "        vertical-align: top;\n",
       "    }\n",
       "\n",
       "    .dataframe thead th {\n",
       "        text-align: right;\n",
       "    }\n",
       "</style>\n",
       "<table border=\"1\" class=\"dataframe\">\n",
       "  <thead>\n",
       "    <tr style=\"text-align: right;\">\n",
       "      <th></th>\n",
       "      <th>product_id</th>\n",
       "      <th>cat1</th>\n",
       "      <th>tn_real</th>\n",
       "      <th>tn_pred</th>\n",
       "    </tr>\n",
       "  </thead>\n",
       "  <tbody>\n",
       "    <tr>\n",
       "      <th>0</th>\n",
       "      <td>20001</td>\n",
       "      <td>HC</td>\n",
       "      <td>1647.63848</td>\n",
       "      <td>1259.09363</td>\n",
       "    </tr>\n",
       "    <tr>\n",
       "      <th>1</th>\n",
       "      <td>20002</td>\n",
       "      <td>HC</td>\n",
       "      <td>1287.62346</td>\n",
       "      <td>1043.01349</td>\n",
       "    </tr>\n",
       "    <tr>\n",
       "      <th>2</th>\n",
       "      <td>20003</td>\n",
       "      <td>FOODS</td>\n",
       "      <td>565.33774</td>\n",
       "      <td>758.32657</td>\n",
       "    </tr>\n",
       "    <tr>\n",
       "      <th>3</th>\n",
       "      <td>20004</td>\n",
       "      <td>FOODS</td>\n",
       "      <td>466.70901</td>\n",
       "      <td>441.70332</td>\n",
       "    </tr>\n",
       "    <tr>\n",
       "      <th>4</th>\n",
       "      <td>20005</td>\n",
       "      <td>FOODS</td>\n",
       "      <td>624.99880</td>\n",
       "      <td>409.89950</td>\n",
       "    </tr>\n",
       "  </tbody>\n",
       "</table>\n",
       "</div>"
      ],
      "text/plain": [
       "   product_id   cat1     tn_real     tn_pred\n",
       "0       20001     HC  1647.63848  1259.09363\n",
       "1       20002     HC  1287.62346  1043.01349\n",
       "2       20003  FOODS   565.33774   758.32657\n",
       "3       20004  FOODS   466.70901   441.70332\n",
       "4       20005  FOODS   624.99880   409.89950"
      ]
     },
     "execution_count": 21,
     "metadata": {},
     "output_type": "execute_result"
    }
   ],
   "source": [
    "# Left join de test con prediccion menos 2\n",
    "df_res_menos2 = pd.merge(df_test,df_pred_menos2,on=\"product_id\",how=\"left\",suffixes=[\"_real\",\"_menos2\"])\n",
    "\n",
    "# Left join con prediccion promedio (para completar)\n",
    "df_res_menos2 = pd.merge(df_res_menos2,df_completar,on=\"product_id\",how=\"left\")\n",
    "df_res_menos2.rename(columns={'tn': 'tn_prom'}, inplace=True)\n",
    "\n",
    "# Calculo toneladas predichas usando los valores anteriores\n",
    "df_res_menos2[\"tn_pred\"]=np.where(df_res_menos2.tn_menos2.isnull(),df_res_menos2.tn_prom,df_res_menos2.tn_menos2)\n",
    "\n",
    "df_res_menos2 = df_res_menos2[[\"product_id\",\"cat1\",\"tn_real\",\"tn_pred\"]]\n",
    "df_res_menos2.head()"
   ]
  },
  {
   "cell_type": "code",
   "execution_count": 22,
   "id": "5a9df42c-fd27-4d4c-a603-4e34e9b965aa",
   "metadata": {},
   "outputs": [
    {
     "data": {
      "text/markdown": [
       "**Error Rate Total:** 30.0"
      ],
      "text/plain": [
       "<IPython.core.display.Markdown object>"
      ]
     },
     "metadata": {},
     "output_type": "display_data"
    },
    {
     "data": {
      "text/markdown": [
       "**Error Rate por Categoría HC**: 28.98"
      ],
      "text/plain": [
       "<IPython.core.display.Markdown object>"
      ]
     },
     "metadata": {},
     "output_type": "display_data"
    },
    {
     "data": {
      "text/markdown": [
       "**Error Rate por Categoría FOODS**: 27.45"
      ],
      "text/plain": [
       "<IPython.core.display.Markdown object>"
      ]
     },
     "metadata": {},
     "output_type": "display_data"
    },
    {
     "data": {
      "text/markdown": [
       "**Error Rate por Categoría PC**: 36.2"
      ],
      "text/plain": [
       "<IPython.core.display.Markdown object>"
      ]
     },
     "metadata": {},
     "output_type": "display_data"
    }
   ],
   "source": [
    "print_error_rate_total_y_cat(df_res_menos2)"
   ]
  }
 ],
 "metadata": {
  "kernelspec": {
   "display_name": "Python 3 (ipykernel)",
   "language": "python",
   "name": "python3"
  },
  "language_info": {
   "codemirror_mode": {
    "name": "ipython",
    "version": 3
   },
   "file_extension": ".py",
   "mimetype": "text/x-python",
   "name": "python",
   "nbconvert_exporter": "python",
   "pygments_lexer": "ipython3",
   "version": "3.10.6"
  }
 },
 "nbformat": 4,
 "nbformat_minor": 5
}
