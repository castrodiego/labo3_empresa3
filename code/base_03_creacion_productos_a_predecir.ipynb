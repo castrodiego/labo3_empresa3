{
 "cells": [
  {
   "cell_type": "code",
   "execution_count": null,
   "id": "1b6c0f22",
   "metadata": {},
   "outputs": [],
   "source": [
    "import pandas as pd\n",
    "import gzip\n",
    "import os\n",
    "import numpy as np"
   ]
  },
  {
   "cell_type": "code",
   "execution_count": null,
   "id": "e3f80795-b65c-452d-9d00-8f3c57afe98b",
   "metadata": {},
   "outputs": [],
   "source": [
    "####################################################\n",
    "############# Setear segun cada maquina ############\n",
    "#os.chdir(\"C:/Users/herna/labo3_empresa3_repo/\")\n",
    "#os.chdir(\"C:/diego_tools/labo3/\")\n",
    "os.chdir(\"/home/dcastro_contacto/buckets/b1/\")\n",
    "####################################################"
   ]
  },
  {
   "cell_type": "code",
   "execution_count": null,
   "id": "29cfb14c-e6c2-4e67-9db3-a09081d7a7da",
   "metadata": {},
   "outputs": [],
   "source": [
    "arch_sellout = \"datasets/tb_sellout_02.txt.gz\"\n",
    "arch_salida_prefijo = \"datasets/productos_a_predecir\""
   ]
  },
  {
   "cell_type": "code",
   "execution_count": null,
   "id": "ceaf9368-4812-46e8-91a9-4c944d966d4b",
   "metadata": {},
   "outputs": [],
   "source": [
    "# Variables para definir que atributos se descartan\n",
    "meses_para_control_vigencia = [201904,201905,201906] #meses en los cuales deben aparecer los productos para ser considerados vigentes (NO discontinuados) y ser tomados en la prediccion\n",
    "tope_fecha_historia = 201902 #los productos que aparezcan desde este mes (inclusive) en adelante, se excluyen por tener poca historia de ventas"
   ]
  },
  {
   "cell_type": "markdown",
   "id": "97f20c65-c7e9-4313-ad41-906f6514c659",
   "metadata": {},
   "source": [
    "## Sellout"
   ]
  },
  {
   "cell_type": "code",
   "execution_count": null,
   "id": "977fc914",
   "metadata": {},
   "outputs": [],
   "source": [
    "# Abrir el archivo .gz y cargarlo en un DataFrame\n",
    "with gzip.open(arch_sellout, 'rt') as archivo:\n",
    "    # Leer el archivo línea por línea\n",
    "    df_sellout = pd.read_csv(archivo,sep=\"\\t\")"
   ]
  },
  {
   "cell_type": "code",
   "execution_count": null,
   "id": "8d5982ad",
   "metadata": {},
   "outputs": [],
   "source": [
    "df_sellout.info()"
   ]
  },
  {
   "cell_type": "code",
   "execution_count": null,
   "id": "5011849c-5a5a-4b0c-8c99-531447a8d0b7",
   "metadata": {},
   "outputs": [],
   "source": [
    "# Por las dudas, eliminamos duplicados\n",
    "print(len(df_sellout))\n",
    "df_sellout.drop_duplicates(inplace=True)\n",
    "print(len(df_sellout))"
   ]
  },
  {
   "cell_type": "markdown",
   "id": "76eb0937-5e96-45e0-a2a7-568ac21055dc",
   "metadata": {},
   "source": [
    "**--> sin duplicados**"
   ]
  },
  {
   "cell_type": "code",
   "execution_count": null,
   "id": "e55da3b7-d640-4e6d-ae92-8ac4507ef3b8",
   "metadata": {},
   "outputs": [],
   "source": [
    "df_sellout.isna().sum()"
   ]
  },
  {
   "cell_type": "markdown",
   "id": "964e3af1-f704-44b2-80ca-13299a4758ab",
   "metadata": {},
   "source": [
    "**--> sin nulos**"
   ]
  },
  {
   "cell_type": "code",
   "execution_count": null,
   "id": "b7cf7dfb-9ce4-4233-b1ab-9491c2d2333c",
   "metadata": {},
   "outputs": [],
   "source": [
    "df_sellout.periodo.unique()                "
   ]
  },
  {
   "cell_type": "code",
   "execution_count": null,
   "id": "45670a8f-3f08-497e-825f-1a33f480b8a8",
   "metadata": {},
   "outputs": [],
   "source": [
    "len(df_sellout.product_id.unique())          "
   ]
  },
  {
   "cell_type": "markdown",
   "id": "6fcc221a-05d8-4d45-b90a-55d61f1dec47",
   "metadata": {},
   "source": [
    "--> algunos productos no van a tener descripción"
   ]
  },
  {
   "cell_type": "code",
   "execution_count": null,
   "id": "a86859b9-e128-402e-831a-94d43108da7d",
   "metadata": {},
   "outputs": [],
   "source": [
    "len(df_sellout.customer_id.unique())            "
   ]
  },
  {
   "cell_type": "code",
   "execution_count": null,
   "id": "a8c70c9d",
   "metadata": {},
   "outputs": [],
   "source": [
    "df_sellout.head()"
   ]
  },
  {
   "cell_type": "markdown",
   "id": "2abfc99a-8903-46b5-a530-5ab34f39e0cd",
   "metadata": {},
   "source": [
    "## Descarte de Productos que no hay que predecir"
   ]
  },
  {
   "cell_type": "code",
   "execution_count": null,
   "id": "c965f03c-866a-43e5-aa22-8466794a881b",
   "metadata": {},
   "outputs": [],
   "source": [
    "# Discontinuados (sin ventas en 3 meses mas adelante)\n",
    "product_ids_vigentes =  df_sellout[df_sellout.periodo.isin(meses_para_control_vigencia)].product_id.unique()\n",
    "print(\"Vigentes:\", len(product_ids_vigentes))\n",
    "\n",
    "product_ids_discontinuados = set(df_sellout.product_id.unique()).difference(set(product_ids_vigentes))\n",
    "print(\"Discontinuados:\", len(product_ids_discontinuados))\n",
    "\n",
    "#Sin historia suficiente (minima fecha >= 201902)\n",
    "product_ids_sin_hist_sufic = df_sellout.groupby(\"product_id\").agg({\"periodo\":\"min\"}).reset_index()\n",
    "product_ids_sin_hist_sufic = product_ids_sin_hist_sufic[product_ids_sin_hist_sufic.periodo>=tope_fecha_historia]\n",
    "print(product_ids_sin_hist_sufic.head(5))\n",
    "product_ids_sin_hist_sufic = product_ids_sin_hist_sufic.product_id.unique()\n",
    "print(\"Menos 3 meses hist:\", len(product_ids_sin_hist_sufic))\n",
    "\n",
    "#Interseccion y union\n",
    "print(\"Interseccion: \", len((set(product_ids_discontinuados).intersection(set(product_ids_sin_hist_sufic)))))\n",
    "print(\"Union: \", len((set(product_ids_discontinuados).union(set(product_ids_sin_hist_sufic)))))\n",
    "\n",
    "\n",
    "product_ids_para_predecir = set(df_sellout.product_id.unique()).difference((set(product_ids_discontinuados).union(set(product_ids_sin_hist_sufic))))\n",
    "print(\"\\nTotal:\", len(product_ids_para_predecir))"
   ]
  },
  {
   "cell_type": "code",
   "execution_count": null,
   "id": "4efcf796-005a-4b4d-a473-471901a22cf5",
   "metadata": {},
   "outputs": [],
   "source": [
    "#Se guardan en un csv aparte\n",
    "df_prods_prediccion = pd.DataFrame(data={\"product_id\":list(product_ids_para_predecir)})\n",
    "df_prods_prediccion.to_csv(arch_salida_prefijo + \"_\" + str(tope_fecha_historia) + \".csv\", index=False)"
   ]
  }
 ],
 "metadata": {
  "kernelspec": {
   "display_name": "Python 3 (ipykernel)",
   "language": "python",
   "name": "python3"
  },
  "language_info": {
   "codemirror_mode": {
    "name": "ipython",
    "version": 3
   },
   "file_extension": ".py",
   "mimetype": "text/x-python",
   "name": "python",
   "nbconvert_exporter": "python",
   "pygments_lexer": "ipython3",
   "version": "3.10.12"
  }
 },
 "nbformat": 4,
 "nbformat_minor": 5
}
