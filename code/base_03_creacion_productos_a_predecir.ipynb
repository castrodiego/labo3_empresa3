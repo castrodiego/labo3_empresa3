{
 "cells": [
  {
   "cell_type": "code",
   "execution_count": 1,
   "id": "1b6c0f22",
   "metadata": {},
   "outputs": [],
   "source": [
    "import pandas as pd\n",
    "import gzip\n",
    "import os\n",
    "import numpy as np"
   ]
  },
  {
   "cell_type": "code",
   "execution_count": 2,
   "id": "e3f80795-b65c-452d-9d00-8f3c57afe98b",
   "metadata": {},
   "outputs": [],
   "source": [
    "####################################################\n",
    "############# Setear segun cada maquina ############\n",
    "#os.chdir(\"C:/Users/herna/labo3_empresa3_repo/\")\n",
    "#os.chdir(\"C:/diego_tools/labo3/\")\n",
    "os.chdir(\"/home/dcastro_contacto/buckets/b1/\")\n",
    "####################################################"
   ]
  },
  {
   "cell_type": "code",
   "execution_count": 3,
   "id": "29cfb14c-e6c2-4e67-9db3-a09081d7a7da",
   "metadata": {},
   "outputs": [],
   "source": [
    "arch_sellout = \"datasets/tb_sellout_02.txt.gz\"\n",
    "arch_ejemplo_prediccion = \"datasets/tb_kaggle_muestra.csv\"\n",
    "arch_salida_prefijo = \"datasets/productos_a_predecir\""
   ]
  },
  {
   "cell_type": "code",
   "execution_count": 4,
   "id": "ceaf9368-4812-46e8-91a9-4c944d966d4b",
   "metadata": {},
   "outputs": [],
   "source": [
    "# Variables para definir que atributos se descartan\n",
    "meses_para_control_vigencia = [201904,201905,201906] #meses en los cuales deben aparecer los productos para ser considerados vigentes (NO discontinuados) y ser tomados en la prediccion\n",
    "tope_fecha_historia = 201902 #los productos que aparezcan desde este mes (inclusive) en adelante, se excluyen por tener poca historia de ventas"
   ]
  },
  {
   "cell_type": "markdown",
   "id": "97f20c65-c7e9-4313-ad41-906f6514c659",
   "metadata": {},
   "source": [
    "## Sellout"
   ]
  },
  {
   "cell_type": "code",
   "execution_count": 5,
   "id": "977fc914",
   "metadata": {},
   "outputs": [],
   "source": [
    "# Abrir el archivo .gz y cargarlo en un DataFrame\n",
    "with gzip.open(arch_sellout, 'rt') as archivo:\n",
    "    # Leer el archivo línea por línea\n",
    "    df_sellout = pd.read_csv(archivo,sep=\"\\t\")"
   ]
  },
  {
   "cell_type": "code",
   "execution_count": 6,
   "id": "8d5982ad",
   "metadata": {},
   "outputs": [
    {
     "name": "stdout",
     "output_type": "stream",
     "text": [
      "<class 'pandas.core.frame.DataFrame'>\n",
      "RangeIndex: 2945818 entries, 0 to 2945817\n",
      "Data columns (total 7 columns):\n",
      " #   Column                 Dtype  \n",
      "---  ------                 -----  \n",
      " 0   periodo                int64  \n",
      " 1   customer_id            int64  \n",
      " 2   product_id             int64  \n",
      " 3   plan_precios_cuidados  int64  \n",
      " 4   cust_request_qty       int64  \n",
      " 5   cust_request_tn        float64\n",
      " 6   tn                     float64\n",
      "dtypes: float64(2), int64(5)\n",
      "memory usage: 157.3 MB\n"
     ]
    }
   ],
   "source": [
    "df_sellout.info()"
   ]
  },
  {
   "cell_type": "code",
   "execution_count": 7,
   "id": "5011849c-5a5a-4b0c-8c99-531447a8d0b7",
   "metadata": {},
   "outputs": [
    {
     "name": "stdout",
     "output_type": "stream",
     "text": [
      "2945818\n",
      "2945818\n"
     ]
    }
   ],
   "source": [
    "# Por las dudas, eliminamos duplicados\n",
    "print(len(df_sellout))\n",
    "df_sellout.drop_duplicates(inplace=True)\n",
    "print(len(df_sellout))"
   ]
  },
  {
   "cell_type": "markdown",
   "id": "76eb0937-5e96-45e0-a2a7-568ac21055dc",
   "metadata": {},
   "source": [
    "**--> sin duplicados**"
   ]
  },
  {
   "cell_type": "code",
   "execution_count": 8,
   "id": "e55da3b7-d640-4e6d-ae92-8ac4507ef3b8",
   "metadata": {},
   "outputs": [
    {
     "data": {
      "text/plain": [
       "periodo                  0\n",
       "customer_id              0\n",
       "product_id               0\n",
       "plan_precios_cuidados    0\n",
       "cust_request_qty         0\n",
       "cust_request_tn          0\n",
       "tn                       0\n",
       "dtype: int64"
      ]
     },
     "execution_count": 8,
     "metadata": {},
     "output_type": "execute_result"
    }
   ],
   "source": [
    "df_sellout.isna().sum()"
   ]
  },
  {
   "cell_type": "markdown",
   "id": "964e3af1-f704-44b2-80ca-13299a4758ab",
   "metadata": {},
   "source": [
    "**--> sin nulos**"
   ]
  },
  {
   "cell_type": "code",
   "execution_count": 9,
   "id": "b7cf7dfb-9ce4-4233-b1ab-9491c2d2333c",
   "metadata": {},
   "outputs": [
    {
     "data": {
      "text/plain": [
       "array([201701, 201702, 201703, 201704, 201705, 201706, 201707, 201708,\n",
       "       201709, 201710, 201711, 201712, 201801, 201802, 201803, 201804,\n",
       "       201805, 201806, 201807, 201808, 201809, 201810, 201811, 201812,\n",
       "       201901, 201902, 201903, 201904, 201905, 201906, 201907, 201908,\n",
       "       201909, 201910, 201911, 201912])"
      ]
     },
     "execution_count": 9,
     "metadata": {},
     "output_type": "execute_result"
    }
   ],
   "source": [
    "df_sellout.periodo.unique()                "
   ]
  },
  {
   "cell_type": "code",
   "execution_count": 10,
   "id": "45670a8f-3f08-497e-825f-1a33f480b8a8",
   "metadata": {},
   "outputs": [
    {
     "data": {
      "text/plain": [
       "1233"
      ]
     },
     "execution_count": 10,
     "metadata": {},
     "output_type": "execute_result"
    }
   ],
   "source": [
    "len(df_sellout.product_id.unique())          "
   ]
  },
  {
   "cell_type": "markdown",
   "id": "6fcc221a-05d8-4d45-b90a-55d61f1dec47",
   "metadata": {},
   "source": [
    "--> algunos productos no van a tener descripción"
   ]
  },
  {
   "cell_type": "code",
   "execution_count": 11,
   "id": "a86859b9-e128-402e-831a-94d43108da7d",
   "metadata": {},
   "outputs": [
    {
     "data": {
      "text/plain": [
       "597"
      ]
     },
     "execution_count": 11,
     "metadata": {},
     "output_type": "execute_result"
    }
   ],
   "source": [
    "len(df_sellout.customer_id.unique())            "
   ]
  },
  {
   "cell_type": "code",
   "execution_count": 12,
   "id": "a8c70c9d",
   "metadata": {},
   "outputs": [
    {
     "data": {
      "text/html": [
       "<div>\n",
       "<style scoped>\n",
       "    .dataframe tbody tr th:only-of-type {\n",
       "        vertical-align: middle;\n",
       "    }\n",
       "\n",
       "    .dataframe tbody tr th {\n",
       "        vertical-align: top;\n",
       "    }\n",
       "\n",
       "    .dataframe thead th {\n",
       "        text-align: right;\n",
       "    }\n",
       "</style>\n",
       "<table border=\"1\" class=\"dataframe\">\n",
       "  <thead>\n",
       "    <tr style=\"text-align: right;\">\n",
       "      <th></th>\n",
       "      <th>periodo</th>\n",
       "      <th>customer_id</th>\n",
       "      <th>product_id</th>\n",
       "      <th>plan_precios_cuidados</th>\n",
       "      <th>cust_request_qty</th>\n",
       "      <th>cust_request_tn</th>\n",
       "      <th>tn</th>\n",
       "    </tr>\n",
       "  </thead>\n",
       "  <tbody>\n",
       "    <tr>\n",
       "      <th>0</th>\n",
       "      <td>201701</td>\n",
       "      <td>10234</td>\n",
       "      <td>20524</td>\n",
       "      <td>0</td>\n",
       "      <td>2</td>\n",
       "      <td>0.05300</td>\n",
       "      <td>0.05300</td>\n",
       "    </tr>\n",
       "    <tr>\n",
       "      <th>1</th>\n",
       "      <td>201701</td>\n",
       "      <td>10032</td>\n",
       "      <td>20524</td>\n",
       "      <td>0</td>\n",
       "      <td>1</td>\n",
       "      <td>0.13628</td>\n",
       "      <td>0.13628</td>\n",
       "    </tr>\n",
       "    <tr>\n",
       "      <th>2</th>\n",
       "      <td>201701</td>\n",
       "      <td>10217</td>\n",
       "      <td>20524</td>\n",
       "      <td>0</td>\n",
       "      <td>1</td>\n",
       "      <td>0.03028</td>\n",
       "      <td>0.03028</td>\n",
       "    </tr>\n",
       "    <tr>\n",
       "      <th>3</th>\n",
       "      <td>201701</td>\n",
       "      <td>10125</td>\n",
       "      <td>20524</td>\n",
       "      <td>0</td>\n",
       "      <td>1</td>\n",
       "      <td>0.02271</td>\n",
       "      <td>0.02271</td>\n",
       "    </tr>\n",
       "    <tr>\n",
       "      <th>4</th>\n",
       "      <td>201701</td>\n",
       "      <td>10012</td>\n",
       "      <td>20524</td>\n",
       "      <td>0</td>\n",
       "      <td>11</td>\n",
       "      <td>1.54452</td>\n",
       "      <td>1.54452</td>\n",
       "    </tr>\n",
       "  </tbody>\n",
       "</table>\n",
       "</div>"
      ],
      "text/plain": [
       "   periodo  customer_id  product_id  plan_precios_cuidados  cust_request_qty  \\\n",
       "0   201701        10234       20524                      0                 2   \n",
       "1   201701        10032       20524                      0                 1   \n",
       "2   201701        10217       20524                      0                 1   \n",
       "3   201701        10125       20524                      0                 1   \n",
       "4   201701        10012       20524                      0                11   \n",
       "\n",
       "   cust_request_tn       tn  \n",
       "0          0.05300  0.05300  \n",
       "1          0.13628  0.13628  \n",
       "2          0.03028  0.03028  \n",
       "3          0.02271  0.02271  \n",
       "4          1.54452  1.54452  "
      ]
     },
     "execution_count": 12,
     "metadata": {},
     "output_type": "execute_result"
    }
   ],
   "source": [
    "df_sellout.head()"
   ]
  },
  {
   "cell_type": "markdown",
   "id": "2abfc99a-8903-46b5-a530-5ab34f39e0cd",
   "metadata": {},
   "source": [
    "## Descarte de Productos que no hay que predecir"
   ]
  },
  {
   "cell_type": "code",
   "execution_count": 13,
   "id": "c965f03c-866a-43e5-aa22-8466794a881b",
   "metadata": {},
   "outputs": [
    {
     "name": "stdout",
     "output_type": "stream",
     "text": [
      "Vigentes: 958\n",
      "Discontinuados: 275\n",
      "     product_id  periodo\n",
      "31        20032   201902\n",
      "126       20127   201909\n",
      "173       20174   201906\n",
      "208       20210   201909\n",
      "211       20213   201908\n",
      "Menos 3 meses hist: 182\n",
      "Interseccion:  92\n",
      "Union:  365\n",
      "\n",
      "Total: 868\n"
     ]
    }
   ],
   "source": [
    "# Discontinuados (sin ventas en 3 meses mas adelante)\n",
    "product_ids_vigentes =  df_sellout[df_sellout.periodo.isin(meses_para_control_vigencia)].product_id.unique()\n",
    "print(\"Vigentes:\", len(product_ids_vigentes))\n",
    "\n",
    "product_ids_discontinuados = set(df_sellout.product_id.unique()).difference(set(product_ids_vigentes))\n",
    "print(\"Discontinuados:\", len(product_ids_discontinuados))\n",
    "\n",
    "#Sin historia suficiente (minima fecha >= 201902)\n",
    "product_ids_sin_hist_sufic = df_sellout.groupby(\"product_id\").agg({\"periodo\":\"min\"}).reset_index()\n",
    "product_ids_sin_hist_sufic = product_ids_sin_hist_sufic[product_ids_sin_hist_sufic.periodo>=tope_fecha_historia]\n",
    "print(product_ids_sin_hist_sufic.head(5))\n",
    "product_ids_sin_hist_sufic = product_ids_sin_hist_sufic.product_id.unique()\n",
    "print(\"Menos 3 meses hist:\", len(product_ids_sin_hist_sufic))\n",
    "\n",
    "#Interseccion y union\n",
    "print(\"Interseccion: \", len((set(product_ids_discontinuados).intersection(set(product_ids_sin_hist_sufic)))))\n",
    "print(\"Union: \", len((set(product_ids_discontinuados).union(set(product_ids_sin_hist_sufic)))))\n",
    "\n",
    "\n",
    "product_ids_para_predecir = set(df_sellout.product_id.unique()).difference((set(product_ids_discontinuados).union(set(product_ids_sin_hist_sufic))))\n",
    "print(\"\\nTotal:\", len(product_ids_para_predecir))"
   ]
  },
  {
   "cell_type": "code",
   "execution_count": 14,
   "id": "4efcf796-005a-4b4d-a473-471901a22cf5",
   "metadata": {},
   "outputs": [
    {
     "data": {
      "text/html": [
       "<div>\n",
       "<style scoped>\n",
       "    .dataframe tbody tr th:only-of-type {\n",
       "        vertical-align: middle;\n",
       "    }\n",
       "\n",
       "    .dataframe tbody tr th {\n",
       "        vertical-align: top;\n",
       "    }\n",
       "\n",
       "    .dataframe thead th {\n",
       "        text-align: right;\n",
       "    }\n",
       "</style>\n",
       "<table border=\"1\" class=\"dataframe\">\n",
       "  <thead>\n",
       "    <tr style=\"text-align: right;\">\n",
       "      <th></th>\n",
       "      <th>product_id</th>\n",
       "    </tr>\n",
       "  </thead>\n",
       "  <tbody>\n",
       "    <tr>\n",
       "      <th>0</th>\n",
       "      <td>20480</td>\n",
       "    </tr>\n",
       "    <tr>\n",
       "      <th>1</th>\n",
       "      <td>20481</td>\n",
       "    </tr>\n",
       "    <tr>\n",
       "      <th>2</th>\n",
       "      <td>20482</td>\n",
       "    </tr>\n",
       "    <tr>\n",
       "      <th>3</th>\n",
       "      <td>20483</td>\n",
       "    </tr>\n",
       "    <tr>\n",
       "      <th>4</th>\n",
       "      <td>20484</td>\n",
       "    </tr>\n",
       "  </tbody>\n",
       "</table>\n",
       "</div>"
      ],
      "text/plain": [
       "   product_id\n",
       "0       20480\n",
       "1       20481\n",
       "2       20482\n",
       "3       20483\n",
       "4       20484"
      ]
     },
     "execution_count": 14,
     "metadata": {},
     "output_type": "execute_result"
    }
   ],
   "source": [
    "#Se guardan en un csv aparte\n",
    "df_prods_prediccion = pd.DataFrame(data={\"product_id\":list(product_ids_para_predecir)})\n",
    "df_prods_prediccion.to_csv(arch_salida_prefijo + \"_\" + str(tope_fecha_historia) + \".csv\", index=False)\n",
    "df_prods_prediccion.head()"
   ]
  },
  {
   "cell_type": "markdown",
   "id": "f8b96d9c-3d03-4d27-bcd4-40321da971e4",
   "metadata": {},
   "source": [
    "## Creación de Productos Predicción Final (201912)"
   ]
  },
  {
   "cell_type": "code",
   "execution_count": 15,
   "id": "74a9ca57-8f9a-466d-8df1-422f6a3c4e13",
   "metadata": {},
   "outputs": [
    {
     "name": "stdout",
     "output_type": "stream",
     "text": [
      "<class 'pandas.core.frame.DataFrame'>\n",
      "RangeIndex: 780 entries, 0 to 779\n",
      "Data columns (total 2 columns):\n",
      " #   Column      Non-Null Count  Dtype  \n",
      "---  ------      --------------  -----  \n",
      " 0   product_id  780 non-null    int64  \n",
      " 1   tn          780 non-null    float64\n",
      "dtypes: float64(1), int64(1)\n",
      "memory usage: 12.3 KB\n"
     ]
    }
   ],
   "source": [
    "df_ejemplo_prediccion = pd.read_csv(arch_ejemplo_prediccion)\n",
    "df_ejemplo_prediccion.info()"
   ]
  },
  {
   "cell_type": "code",
   "execution_count": 16,
   "id": "a2e5cf28-94f9-4814-8487-db9c162912ce",
   "metadata": {},
   "outputs": [
    {
     "data": {
      "text/html": [
       "<div>\n",
       "<style scoped>\n",
       "    .dataframe tbody tr th:only-of-type {\n",
       "        vertical-align: middle;\n",
       "    }\n",
       "\n",
       "    .dataframe tbody tr th {\n",
       "        vertical-align: top;\n",
       "    }\n",
       "\n",
       "    .dataframe thead th {\n",
       "        text-align: right;\n",
       "    }\n",
       "</style>\n",
       "<table border=\"1\" class=\"dataframe\">\n",
       "  <thead>\n",
       "    <tr style=\"text-align: right;\">\n",
       "      <th></th>\n",
       "      <th>product_id</th>\n",
       "      <th>tn</th>\n",
       "    </tr>\n",
       "  </thead>\n",
       "  <tbody>\n",
       "    <tr>\n",
       "      <th>0</th>\n",
       "      <td>20001</td>\n",
       "      <td>1504.68856</td>\n",
       "    </tr>\n",
       "    <tr>\n",
       "      <th>1</th>\n",
       "      <td>20002</td>\n",
       "      <td>1087.30855</td>\n",
       "    </tr>\n",
       "    <tr>\n",
       "      <th>2</th>\n",
       "      <td>20003</td>\n",
       "      <td>892.50129</td>\n",
       "    </tr>\n",
       "    <tr>\n",
       "      <th>3</th>\n",
       "      <td>20004</td>\n",
       "      <td>637.90002</td>\n",
       "    </tr>\n",
       "    <tr>\n",
       "      <th>4</th>\n",
       "      <td>20005</td>\n",
       "      <td>593.24443</td>\n",
       "    </tr>\n",
       "  </tbody>\n",
       "</table>\n",
       "</div>"
      ],
      "text/plain": [
       "   product_id          tn\n",
       "0       20001  1504.68856\n",
       "1       20002  1087.30855\n",
       "2       20003   892.50129\n",
       "3       20004   637.90002\n",
       "4       20005   593.24443"
      ]
     },
     "execution_count": 16,
     "metadata": {},
     "output_type": "execute_result"
    }
   ],
   "source": [
    "df_ejemplo_prediccion.head()"
   ]
  },
  {
   "cell_type": "code",
   "execution_count": 17,
   "id": "df5d6129-c441-4280-9c0a-613a6c3dd9b0",
   "metadata": {},
   "outputs": [
    {
     "name": "stdout",
     "output_type": "stream",
     "text": [
      "<class 'pandas.core.frame.DataFrame'>\n",
      "RangeIndex: 780 entries, 0 to 779\n",
      "Data columns (total 1 columns):\n",
      " #   Column      Non-Null Count  Dtype\n",
      "---  ------      --------------  -----\n",
      " 0   product_id  780 non-null    int64\n",
      "dtypes: int64(1)\n",
      "memory usage: 6.2 KB\n"
     ]
    }
   ],
   "source": [
    "df_prods_prediccion = df_ejemplo_prediccion[[\"product_id\"]]\n",
    "df_prods_prediccion.to_csv(arch_salida_prefijo + \"_201912.csv\", index=False)\n",
    "df_prods_prediccion.info()"
   ]
  },
  {
   "cell_type": "code",
   "execution_count": 18,
   "id": "5e1739d6-4149-484c-bb9a-78325c343315",
   "metadata": {},
   "outputs": [
    {
     "data": {
      "text/plain": [
       "780"
      ]
     },
     "execution_count": 18,
     "metadata": {},
     "output_type": "execute_result"
    }
   ],
   "source": [
    "# Se esperan 780\n",
    "len(df_prods_prediccion)"
   ]
  }
 ],
 "metadata": {
  "kernelspec": {
   "display_name": "Python 3 (ipykernel)",
   "language": "python",
   "name": "python3"
  },
  "language_info": {
   "codemirror_mode": {
    "name": "ipython",
    "version": 3
   },
   "file_extension": ".py",
   "mimetype": "text/x-python",
   "name": "python",
   "nbconvert_exporter": "python",
   "pygments_lexer": "ipython3",
   "version": "3.10.12"
  }
 },
 "nbformat": 4,
 "nbformat_minor": 5
}
